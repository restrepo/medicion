{
 "cells": [
  {
   "cell_type": "markdown",
   "metadata": {
    "colab_type": "text",
    "id": "view-in-github"
   },
   "source": [
    "[![Open In Colab](https://colab.research.google.com/assets/colab-badge.svg)](https://colab.research.google.com/github/restrepo/medicion/blob/master/tools/GoogleScholar.ipynb)"
   ]
  },
  {
   "cell_type": "markdown",
   "metadata": {
    "colab_type": "text",
    "id": "_l_00juuLolK"
   },
   "source": [
    "# Google scholar"
   ]
  },
  {
   "cell_type": "markdown",
   "metadata": {
    "colab_type": "text",
    "id": "KYv5x_tJLolN"
   },
   "source": [
    "Search for similarity in title and one auhor. Returns Python dictionary\n",
    "\n",
    "__WARNING__: Does not work from Colaboratory"
   ]
  },
  {
   "cell_type": "code",
   "execution_count": 15,
   "metadata": {
    "colab": {},
    "colab_type": "code",
    "collapsed": true,
    "id": "Cq_lBnHsuCbl"
   },
   "outputs": [],
   "source": [
    "#%%writefile ../cienciometria/googlescholar.py\n",
    "import Levenshtein\n",
    "import re\n",
    "from bs4 import BeautifulSoup\n",
    "import requests\n",
    "\n",
    "def firefox_get(url):\n",
    "    from pyvirtualdisplay import Display\n",
    "    from selenium import webdriver\n",
    "\n",
    "    display = Display(visible=0, size=(800, 600))\n",
    "    display.start()\n",
    "\n",
    "    try:\n",
    "        browser = webdriver.Firefox()\n",
    "    except:\n",
    "        return 'FAILED'    \n",
    "    #https://stackoverflow.com/a/17536547/2268280\n",
    "    browser.set_page_load_timeout(30)\n",
    "    try:\n",
    "        browser.get(url)\n",
    "    except:\n",
    "        return 'FAILED'\n",
    "        \n",
    "    html = browser.page_source\n",
    "\n",
    "    browser.close()\n",
    "    kk=display.stop()\n",
    "    return html\n",
    "\n",
    "def get_google_scholar(record):\n",
    "    '''\n",
    "    Analyise the BeautifulSoup record for an article \n",
    "    in Google Scholar.\n",
    "    Output is a Python dictionary with keys: \n",
    "    'title', 'authors','profiles','Jornal','Year',\n",
    "    'abstract','cites','cites_link'\n",
    "    '''\n",
    "    import random\n",
    "    import time\n",
    "    gsr={}\n",
    "    try:\n",
    "        cites=record.find_all('a',{\"href\":re.compile( \"/scholar\\?cites*\" )})[0]\n",
    "        try:\n",
    "            gsr['cites']=int( cites.text.split()[-1] )\n",
    "            gsr['cites_link']=cites.attrs.get('href')\n",
    "        except:\n",
    "            gsr['cites']=0\n",
    "    except:\n",
    "        cites=None\n",
    "\n",
    "    # Title\n",
    "    try:\n",
    "        lstt=record.find_all('a',{\"data-clk\":re.compile( \".*\")})[0].contents\n",
    "    except:\n",
    "        lstt=[]\n",
    "\n",
    "    # Find title interpreting weird characters\n",
    "    tc=''\n",
    "    for tip in lstt:\n",
    "        if tip.find('svg')==-1:\n",
    "            tc=tc+str(tip)\n",
    "        else:\n",
    "            try:\n",
    "                tc=tc+tip.get('aria-label') # aria label in Accessibility\n",
    "            except TypeError:\n",
    "                pass\n",
    "    gsr['title']=tc\n",
    "    \n",
    "    # Explore authors, google scholar profile, Journal and Year\n",
    "    gpa=None\n",
    "    try:\n",
    "        gpa=record.find_all('div',{\"class\":\"gs_a\"})[0]\n",
    "        gsr['authors']=gpa.text.split('-')[0].strip()\n",
    "        try:\n",
    "            jy=gpa.text.split('-')[1].strip()\n",
    "            gsr['Journal']=jy.split(',')[0]\n",
    "            try:\n",
    "                gsr['Year']=eval(jy.split(',')[1])\n",
    "            except:\n",
    "                gsr['Year']=-1\n",
    "        except:\n",
    "            gsr['Journal']=''\n",
    "    except:\n",
    "        gsr['authors']=''\n",
    "\n",
    "    #Abstract:\n",
    "    try:\n",
    "        gsr['abstract']=record.find_all('div',{'class':'gs_rs'})[0].text.replace('\\xa0…','')\n",
    "    except:\n",
    "        gsr['abstract']=''\n",
    "    # citations\n",
    "    if gpa:\n",
    "        lpr=gpa.find_all(\"a\",{ \"href\":re.compile(\"/citations\\?user=*\")   } )\n",
    "        prf={}\n",
    "        for pr in lpr:\n",
    "            prf[ pr.text ]=pr.attrs.get('href').split('?')[-1].split('&')[0].split('user=')[-1]\n",
    "        gsr['profiles']=prf\n",
    "    \n",
    "    time.sleep( random.randint(1,3)  ) # avoid robots\n",
    "    return gsr\n",
    "\n",
    "def google_scholar_url(url):\n",
    "    '''\n",
    "    Convert a Google Scholar page into a list\n",
    "    of dictionaries with metadata info\n",
    "    '''\n",
    "    r=requests.get(url)\n",
    "\n",
    "    soup = BeautifulSoup(r.text, \"html.parser\")\n",
    "    rgs=soup.find_all('div', {'class':'gs_ri' })\n",
    "\n",
    "    citations=[]\n",
    "    for record in rgs:\n",
    "        citations.append( get_google_scholar(record) )\n",
    "        \n",
    "    return citations\n",
    "\n",
    "def google_scholar_query(title='relativity theory',author=\"A Einstein\",\n",
    "                         DOI=None,DEBUG=False):\n",
    "    '''\n",
    "    Search Google scholar for similarity in title and author.\n",
    "    Only the first result is analized. The output includes \n",
    "    a quality measurements between the query and the results \n",
    "    Output is a Python dictionary with keys: \n",
    "    'title', 'authors','profiles','cites','cites_link',\n",
    "    'quality_title','quality_author'\n",
    "    '''\n",
    "    # + → %2B in query formula:\n",
    "    if DOI:\n",
    "        url='https://scholar.google.com/scholar?q=\"{}\"'.format(DOI)\n",
    "    else:\n",
    "        url='https://scholar.google.com/scholar?q=\"{}\"%2B{}'.format(title,author)\n",
    "    if DEBUG:\n",
    "        print(url)\n",
    "        \n",
    "        \n",
    "    headers_Get = {\n",
    "        'User-Agent': 'Mozilla/5.0 (Windows NT 6.1; WOW64; rv:49.0) Gecko/20100101 Firefox/49.0',\n",
    "        'Accept': 'text/html,application/xhtml+xml,application/xml;q=0.9,*/*;q=0.8',\n",
    "        'Accept-Language': 'en-US,en;q=0.5',\n",
    "        'Accept-Encoding': 'gzip, deflate',\n",
    "        'DNT': '1',\n",
    "        'Connection': 'keep-alive',\n",
    "        'Upgrade-Insecure-Requests': '1'\n",
    "    }\n",
    "    \n",
    "\n",
    "    \n",
    "    \n",
    "    #s = requests.Session()\n",
    "    rtext=firefox_get(url)\n",
    "\n",
    "    #soup = BeautifulSoup(r.text, \"html.parser\")\n",
    "    soup = BeautifulSoup(rtext, \"html.parser\")\n",
    "\n",
    "    rgs=soup.find_all('div', {'class':'gs_ri' })\n",
    "\n",
    "    gs={}\n",
    "\n",
    "    try:\n",
    "        record=rgs[0]\n",
    "    except IndexError:\n",
    "        return gs\n",
    "    gs.update(get_google_scholar(record))\n",
    "        \n",
    "    sau=0\n",
    "    for a in gs['authors'].split(','):\n",
    "        saun=Levenshtein.ratio(author.lower(),a.lower().strip())\n",
    "        if saun>sau:\n",
    "            sau=saun\n",
    "    if not DOI:        \n",
    "        gs['quality_author']=round(sau,2)\n",
    "\n",
    "        gs['quality_title']=round( Levenshtein.ratio(\n",
    "                   title.lower(),gs['title'].lower() ),2 )\n",
    "\n",
    "    if DEBUG:\n",
    "        return gs,record\n",
    "    return gs"
   ]
  },
  {
   "cell_type": "code",
   "execution_count": 12,
   "metadata": {
    "colab": {},
    "colab_type": "code",
    "collapsed": true,
    "id": "ayVVbzYULolV"
   },
   "outputs": [],
   "source": [
    "gs=google_scholar_query(title='Fermionic triplet dark matter in an SO(10)-inspired left right model',\n",
    "              author='D Restrepo',DEBUG=False)"
   ]
  },
  {
   "cell_type": "code",
   "execution_count": 13,
   "metadata": {
    "colab": {},
    "colab_type": "code",
    "id": "pKZz3UsLuCbw",
    "outputId": "0f4ec236-1618-4d09-ee83-a8e73c7d0211"
   },
   "outputs": [
    {
     "data": {
      "text/plain": [
       "{'Journal': 'Physical Review D',\n",
       " 'Year': 2017,\n",
       " 'abstract': 'We study a left right (LR) extension of the Standard Model (SM) where the Dark Matter (DM) candidate is composed of a set of fermionic Majorana triplets. The DM is stabilized by a remnant Z 2 symmetry from the breaking of the LR group to the SM. Two simple scenarios where the DM particles plus a certain set of extra fields lead to gauge coupling unification with a low LR scale are explored. The constraints from relic density and predictions for direct detection are discussed for both scenarios. The first scenario with a SU (2) R vectorlike',\n",
       " 'authors': 'C Arbeláez, M Hirsch, D Restrepo',\n",
       " 'cites': 7,\n",
       " 'cites_link': '/scholar?cites=10539747452972188249&as_sdt=400005&sciodt=0,14&hl=en',\n",
       " 'profiles': {'D Restrepo': '1sKULCoAAAAJ'},\n",
       " 'quality_author': 1.0,\n",
       " 'quality_title': 0.99,\n",
       " 'title': 'Fermionic triplet dark matter in an SO(10)-inspired left-right model'}"
      ]
     },
     "execution_count": 13,
     "metadata": {},
     "output_type": "execute_result"
    }
   ],
   "source": [
    "gs"
   ]
  },
  {
   "cell_type": "code",
   "execution_count": 6,
   "metadata": {},
   "outputs": [
    {
     "data": {
      "text/plain": [
       "2"
      ]
     },
     "execution_count": 6,
     "metadata": {},
     "output_type": "execute_result"
    }
   ],
   "source": [
    "1+1"
   ]
  },
  {
   "cell_type": "markdown",
   "metadata": {
    "colab_type": "text",
    "id": "83Hj_6f1uCb1"
   },
   "source": [
    "## Get citatios"
   ]
  },
  {
   "cell_type": "code",
   "execution_count": 10,
   "metadata": {
    "colab": {},
    "colab_type": "code",
    "collapsed": true,
    "id": "FkX3emsiuCb2"
   },
   "outputs": [],
   "source": [
    "url='https://scholar.google.com{}'.format(gs.get('cites_link'))"
   ]
  },
  {
   "cell_type": "code",
   "execution_count": 11,
   "metadata": {
    "colab": {},
    "colab_type": "code",
    "id": "kgHCqm2RuCb5",
    "outputId": "9eae394f-0b67-4e19-9a42-d59601508ddb"
   },
   "outputs": [
    {
     "data": {
      "text/html": [
       "<div>\n",
       "<style scoped>\n",
       "    .dataframe tbody tr th:only-of-type {\n",
       "        vertical-align: middle;\n",
       "    }\n",
       "\n",
       "    .dataframe tbody tr th {\n",
       "        vertical-align: top;\n",
       "    }\n",
       "\n",
       "    .dataframe thead th {\n",
       "        text-align: right;\n",
       "    }\n",
       "</style>\n",
       "<table border=\"1\" class=\"dataframe\">\n",
       "  <thead>\n",
       "    <tr style=\"text-align: right;\">\n",
       "      <th></th>\n",
       "      <th>Journal</th>\n",
       "      <th>Year</th>\n",
       "      <th>abstract</th>\n",
       "      <th>authors</th>\n",
       "      <th>cites</th>\n",
       "      <th>cites_link</th>\n",
       "      <th>profiles</th>\n",
       "      <th>title</th>\n",
       "    </tr>\n",
       "  </thead>\n",
       "  <tbody>\n",
       "    <tr>\n",
       "      <th>0</th>\n",
       "      <td>Journal of High Energy …</td>\n",
       "      <td>2017</td>\n",
       "      <td>A bstract We consider a simple extension of th...</td>\n",
       "      <td>D Borah, A Dasgupta, UK Dey, S Patra…</td>\n",
       "      <td>16.0</td>\n",
       "      <td>/scholar?cites=11724525136304649044&amp;as_sdt=200...</td>\n",
       "      <td>{'A Dasgupta': '62NjhqsAAAAJ', 'S Patra': '06C...</td>\n",
       "      <td>Multi-component fermionic dark matter and IceC...</td>\n",
       "    </tr>\n",
       "    <tr>\n",
       "      <th>1</th>\n",
       "      <td>arXiv preprint arXiv …</td>\n",
       "      <td>2017</td>\n",
       "      <td>We perform a detailed study of the grand unifi...</td>\n",
       "      <td>J Chakrabortty, R Maji, S Mohanty, SK Patra…</td>\n",
       "      <td>2.0</td>\n",
       "      <td>/scholar?cites=10083320134459830263&amp;as_sdt=200...</td>\n",
       "      <td>{'J Chakrabortty': 'eg1qeFoAAAAJ', 'S Mohanty'...</td>\n",
       "      <td>Roadmap of left-right models rooted in GUT</td>\n",
       "    </tr>\n",
       "    <tr>\n",
       "      <th>2</th>\n",
       "      <td>Physics Letters B</td>\n",
       "      <td>2018</td>\n",
       "      <td>Abstract An extra SU (2) D gauge factor is add...</td>\n",
       "      <td>E Ma</td>\n",
       "      <td>1.0</td>\n",
       "      <td>/scholar?cites=1113676709270999285&amp;as_sdt=2005...</td>\n",
       "      <td>{}</td>\n",
       "      <td>[SU (2)] 3 dark matter</td>\n",
       "    </tr>\n",
       "    <tr>\n",
       "      <th>3</th>\n",
       "      <td>Journal of High Energy …</td>\n",
       "      <td>2018</td>\n",
       "      <td>A bstract In the framework of the (B− L) Super...</td>\n",
       "      <td>L Delle Rose, S Khalil, SJD King, S Kulkarni…</td>\n",
       "      <td>1.0</td>\n",
       "      <td>/scholar?cites=12710934755284528743&amp;as_sdt=200...</td>\n",
       "      <td>{'S Khalil': '7T5M4SkAAAAJ'}</td>\n",
       "      <td>Sneutrino Dark Matter in the BLSSM</td>\n",
       "    </tr>\n",
       "    <tr>\n",
       "      <th>4</th>\n",
       "      <td>Physical Review D</td>\n",
       "      <td>2018</td>\n",
       "      <td>We perform a detailed study of the grand unifi...</td>\n",
       "      <td>J Chakrabortty, R Maji, SK Patra, T Srivastava…</td>\n",
       "      <td>2.0</td>\n",
       "      <td>/scholar?cites=7825805590019213068&amp;as_sdt=2005...</td>\n",
       "      <td>{'J Chakrabortty': 'eg1qeFoAAAAJ', 'SK Patra':...</td>\n",
       "      <td>Roadmap of left-right models based on GUTs</td>\n",
       "    </tr>\n",
       "    <tr>\n",
       "      <th>5</th>\n",
       "      <td>arXiv preprint arXiv:1803.03891</td>\n",
       "      <td>2018</td>\n",
       "      <td>In any gauge extension of the standard model (...</td>\n",
       "      <td>E Ma</td>\n",
       "      <td>NaN</td>\n",
       "      <td>NaN</td>\n",
       "      <td>{}</td>\n",
       "      <td>Predestined Dark Matter in Gauge Extensions of...</td>\n",
       "    </tr>\n",
       "    <tr>\n",
       "      <th>6</th>\n",
       "      <td>Journal of Physics G: Nuclear …</td>\n",
       "      <td>2018</td>\n",
       "      <td>We demonstrate how a class of non-supersymmetr...</td>\n",
       "      <td>M Sruthilaya, R Mohanta, S Patra</td>\n",
       "      <td>NaN</td>\n",
       "      <td>NaN</td>\n",
       "      <td>{'S Patra': '06CJvKUAAAAJ', 'R Mohanta': 'VTe7...</td>\n",
       "      <td>Neutrino mass and neutrinoless double beta dec...</td>\n",
       "    </tr>\n",
       "  </tbody>\n",
       "</table>\n",
       "</div>"
      ],
      "text/plain": [
       "                           Journal  Year  \\\n",
       "0         Journal of High Energy …  2017   \n",
       "1           arXiv preprint arXiv …  2017   \n",
       "2                Physics Letters B  2018   \n",
       "3         Journal of High Energy …  2018   \n",
       "4                Physical Review D  2018   \n",
       "5  arXiv preprint arXiv:1803.03891  2018   \n",
       "6  Journal of Physics G: Nuclear …  2018   \n",
       "\n",
       "                                            abstract  \\\n",
       "0  A bstract We consider a simple extension of th...   \n",
       "1  We perform a detailed study of the grand unifi...   \n",
       "2  Abstract An extra SU (2) D gauge factor is add...   \n",
       "3  A bstract In the framework of the (B− L) Super...   \n",
       "4  We perform a detailed study of the grand unifi...   \n",
       "5  In any gauge extension of the standard model (...   \n",
       "6  We demonstrate how a class of non-supersymmetr...   \n",
       "\n",
       "                                           authors  cites  \\\n",
       "0            D Borah, A Dasgupta, UK Dey, S Patra…   16.0   \n",
       "1     J Chakrabortty, R Maji, S Mohanty, SK Patra…    2.0   \n",
       "2                                             E Ma    1.0   \n",
       "3    L Delle Rose, S Khalil, SJD King, S Kulkarni…    1.0   \n",
       "4  J Chakrabortty, R Maji, SK Patra, T Srivastava…    2.0   \n",
       "5                                             E Ma    NaN   \n",
       "6                 M Sruthilaya, R Mohanta, S Patra    NaN   \n",
       "\n",
       "                                          cites_link  \\\n",
       "0  /scholar?cites=11724525136304649044&as_sdt=200...   \n",
       "1  /scholar?cites=10083320134459830263&as_sdt=200...   \n",
       "2  /scholar?cites=1113676709270999285&as_sdt=2005...   \n",
       "3  /scholar?cites=12710934755284528743&as_sdt=200...   \n",
       "4  /scholar?cites=7825805590019213068&as_sdt=2005...   \n",
       "5                                                NaN   \n",
       "6                                                NaN   \n",
       "\n",
       "                                            profiles  \\\n",
       "0  {'A Dasgupta': '62NjhqsAAAAJ', 'S Patra': '06C...   \n",
       "1  {'J Chakrabortty': 'eg1qeFoAAAAJ', 'S Mohanty'...   \n",
       "2                                                 {}   \n",
       "3                       {'S Khalil': '7T5M4SkAAAAJ'}   \n",
       "4  {'J Chakrabortty': 'eg1qeFoAAAAJ', 'SK Patra':...   \n",
       "5                                                 {}   \n",
       "6  {'S Patra': '06CJvKUAAAAJ', 'R Mohanta': 'VTe7...   \n",
       "\n",
       "                                               title  \n",
       "0  Multi-component fermionic dark matter and IceC...  \n",
       "1         Roadmap of left-right models rooted in GUT  \n",
       "2                             [SU (2)] 3 dark matter  \n",
       "3                 Sneutrino Dark Matter in the BLSSM  \n",
       "4         Roadmap of left-right models based on GUTs  \n",
       "5  Predestined Dark Matter in Gauge Extensions of...  \n",
       "6  Neutrino mass and neutrinoless double beta dec...  "
      ]
     },
     "execution_count": 11,
     "metadata": {},
     "output_type": "execute_result"
    }
   ],
   "source": [
    "import pandas as pd\n",
    "pd.DataFrame(google_scholar_url( url))"
   ]
  },
  {
   "cell_type": "markdown",
   "metadata": {},
   "source": [
    "#  Search by DOI"
   ]
  },
  {
   "cell_type": "code",
   "execution_count": 17,
   "metadata": {},
   "outputs": [
    {
     "data": {
      "text/plain": [
       "{'Journal': 'Nanoscale research\\xa0…',\n",
       " 'Year': 2012,\n",
       " 'abstract': '… Keywords. Impurities Quantum well Dilute nitride. Electronic supplementary material. The online\\nversion of this article (doi:10.1186/1556-276X-7-586) contains supplementary material, which\\nis available to authorized users. Download fulltext PDF. Review. Background \\n',\n",
       " 'authors': 'U Yesilgul, F Ungan, S Şakiroğlu, C Duque…',\n",
       " 'cites': 11,\n",
       " 'cites_link': '/scholar?cites=759647463462126119&as_sdt=400005&sciodt=0,14&hl=en',\n",
       " 'profiles': {'C Duque': 'emE-TscAAAAJ', 'F Ungan': '-3R6EmMAAAAJ'},\n",
       " 'title': 'The effect of magnetic field on the impurity binding energy of shallow donor impurities in a GaInNAs\\xa0…'}"
      ]
     },
     "execution_count": 17,
     "metadata": {},
     "output_type": "execute_result"
    }
   ],
   "source": [
    "google_scholar_query(DOI='10.1186/1556-276x-7-586')"
   ]
  },
  {
   "cell_type": "code",
   "execution_count": 14,
   "metadata": {},
   "outputs": [
    {
     "data": {
      "text/plain": [
       "{'Journal': 'Physical Review D',\n",
       " 'Year': 2018,\n",
       " 'abstract': 'Page 1. Probing a simplified W0 model of RðDðÃÞÞ anomalies using b tags, τ\\nleptons, and missing energy Mohammad Abdullah,1 Julián Calle,3 Bhaskar\\nDutta,1 Andrés Flórez,2 and Diego Restrepo3 1Mitchell Institute for \\n',\n",
       " 'authors': 'M Abdullah, J Calle, B Dutta, A Flórez, D Restrepo',\n",
       " 'profiles': {'A Flórez': 'SUG6ga0AAAAJ', 'D Restrepo': '1sKULCoAAAAJ'},\n",
       " 'title': 'Probing a simplified W′ model of R(D(*)) anomalies using b tags, τ leptons, and missing energy'}"
      ]
     },
     "execution_count": 14,
     "metadata": {},
     "output_type": "execute_result"
    }
   ],
   "source": [
    "google_scholar_query(DOI='10.1103/physrevd.98.055016')"
   ]
  },
  {
   "cell_type": "code",
   "execution_count": 22,
   "metadata": {
    "collapsed": true
   },
   "outputs": [],
   "source": [
    "url='https://scholar.google.com/scholar?q=\"{}\"'.format('10.1186/s40104-017-0225-x')\n",
    "r=requests.get(url)\n",
    "soup = BeautifulSoup(r.text, \"html.parser\")\n",
    "rgs=soup.find_all('div', {'class':'gs_ri' })"
   ]
  },
  {
   "cell_type": "code",
   "execution_count": 40,
   "metadata": {},
   "outputs": [
    {
     "data": {
      "text/plain": [
       "{}"
      ]
     },
     "execution_count": 40,
     "metadata": {},
     "output_type": "execute_result"
    }
   ],
   "source": [
    "google_scholar_query(DOI='10.1038/s41598-017-12316-4')"
   ]
  },
  {
   "cell_type": "code",
   "execution_count": 31,
   "metadata": {
    "collapsed": true
   },
   "outputs": [],
   "source": [
    "import unidecode"
   ]
  },
  {
   "cell_type": "code",
   "execution_count": 34,
   "metadata": {},
   "outputs": [
    {
     "data": {
      "text/plain": [
       "'Journal of animal ...'"
      ]
     },
     "execution_count": 34,
     "metadata": {},
     "output_type": "execute_result"
    }
   ],
   "source": [
    "unidecode.unidecode( 'Journal of animal\\xa0…' )"
   ]
  },
  {
   "cell_type": "code",
   "execution_count": 58,
   "metadata": {},
   "outputs": [],
   "source": [
    "import pandas as pd"
   ]
  },
  {
   "cell_type": "code",
   "execution_count": 62,
   "metadata": {},
   "outputs": [],
   "source": [
    "pd.read_excel('../cienciometria/gs.xlsx').to_excel('gs3.xlsx',index=False)"
   ]
  },
  {
   "cell_type": "code",
   "execution_count": 7,
   "metadata": {},
   "outputs": [
    {
     "data": {
      "text/plain": [
       "2"
      ]
     },
     "execution_count": 7,
     "metadata": {},
     "output_type": "execute_result"
    }
   ],
   "source": [
    "1+1"
   ]
  },
  {
   "cell_type": "code",
   "execution_count": 57,
   "metadata": {},
   "outputs": [
    {
     "data": {
      "text/plain": [
       "0"
      ]
     },
     "execution_count": 57,
     "metadata": {},
     "output_type": "execute_result"
    }
   ],
   "source": [
    "0%40"
   ]
  },
  {
   "cell_type": "code",
   "execution_count": null,
   "metadata": {},
   "outputs": [],
   "source": []
  }
 ],
 "metadata": {
  "colab": {
   "include_colab_link": true,
   "name": "GoogleScholar.ipynb",
   "provenance": [],
   "version": "0.3.2"
  },
  "kernelspec": {
   "display_name": "Python 3",
   "language": "python",
   "name": "python3"
  },
  "language_info": {
   "codemirror_mode": {
    "name": "ipython",
    "version": 3
   },
   "file_extension": ".py",
   "mimetype": "text/x-python",
   "name": "python",
   "nbconvert_exporter": "python",
   "pygments_lexer": "ipython3",
   "version": "3.5.3"
  },
  "toc": {
   "colors": {
    "hover_highlight": "#DAA520",
    "running_highlight": "#FF0000",
    "selected_highlight": "#FFD700"
   },
   "moveMenuLeft": true,
   "nav_menu": {
    "height": "67px",
    "width": "252px"
   },
   "navigate_menu": true,
   "number_sections": true,
   "sideBar": true,
   "threshold": 4,
   "toc_cell": false,
   "toc_section_display": "block",
   "toc_window_display": false
  }
 },
 "nbformat": 4,
 "nbformat_minor": 1
}
