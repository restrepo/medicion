{
  "nbformat": 4,
  "nbformat_minor": 0,
  "metadata": {
    "colab": {
      "name": "GoogleScholar.ipynb",
      "version": "0.3.2",
      "provenance": [],
      "include_colab_link": true
    },
    "kernelspec": {
      "display_name": "Python 3",
      "language": "python",
      "name": "python3"
    }
  },
  "cells": [
    {
      "cell_type": "markdown",
      "metadata": {
        "id": "view-in-github",
        "colab_type": "text"
      },
      "source": [
        "[View in Colaboratory](https://colab.research.google.com/github/restrepo/medicion/blob/master/tools/GoogleScholar.ipynb)"
      ]
    },
    {
      "metadata": {
        "id": "_l_00juuLolK",
        "colab_type": "text"
      },
      "cell_type": "markdown",
      "source": [
        "# Google scholar"
      ]
    },
    {
      "metadata": {
        "id": "KYv5x_tJLolN",
        "colab_type": "text"
      },
      "cell_type": "markdown",
      "source": [
        "Search for similarity in title and one auhor. Returns Python dictionary\n",
        "\n",
        "__WARNING__: Does not work from Colaboratory"
      ]
    },
    {
      "metadata": {
        "id": "Xo0REDnmLolP",
        "colab_type": "code",
        "colab": {}
      },
      "cell_type": "code",
      "source": [
        "import Levenshtein\n",
        "import re\n",
        "from bs4 import BeautifulSoup\n",
        "import requests\n",
        "\n",
        "def google_scholar(title='relativity theory',author=\"A Einstein\"):\n",
        "    '''\n",
        "    Search Google scholar for similarity in title and author.\n",
        "    Only the first result is analized. The output includes \n",
        "    a quality measurements between the query and the results \n",
        "    Output is a Python dictionary with keys: \n",
        "    'title', 'authors','profiles','cites','cites_link',\n",
        "    'quality_title','quality_author'\n",
        "    '''\n",
        "    # + → %2B in query formula:\n",
        "    url='https://scholar.google.com/scholar?q=\"{}\"%2B{}'.format(title,author)\n",
        "    r=requests.get(url)\n",
        "\n",
        "    soup = BeautifulSoup(r.text, \"html.parser\")\n",
        "\n",
        "    rgs=soup.find_all('div', {'class':'gs_ri' })\n",
        "\n",
        "    gs={}\n",
        "\n",
        "    try:\n",
        "        cites=rgs[0].find_all('a',{\"href\":re.compile( \"/scholar\\?cites*\" )})[0]\n",
        "        try:\n",
        "            gs['cites']=int( cites.text.split()[-1] )\n",
        "            gs['cites_link']=cites.attrs.get('href')\n",
        "        except:\n",
        "            gs['cites']=0\n",
        "    except:\n",
        "        cites=None\n",
        "\n",
        "    # Título\n",
        "    try:\n",
        "        lstt=rgs[0].find_all('a',{\"data-clk\":re.compile( \".*\")})[0].contents\n",
        "    except:\n",
        "        lstt=[]\n",
        "\n",
        "    # Encontrar title quitando caracteres raros\n",
        "    tc=''\n",
        "    for tip in lstt:\n",
        "        if tip.find('svg')==-1:\n",
        "            tc=tc+str(tip)\n",
        "        else:\n",
        "            tc=tc+tip.get('aria-label') # aria label in Accessibility\n",
        "    gs['title']=tc\n",
        "\n",
        "    gpa=None\n",
        "    try:\n",
        "        gpa=rgs[0].find_all('div',{\"class\":\"gs_a\"})[0]\n",
        "        gs['authors']=gpa.text.split('-')[0].strip()\n",
        "    except:\n",
        "        gs['authors']=''\n",
        "\n",
        "\n",
        "    if gpa:\n",
        "        lpr=gpa.find_all(\"a\",{ \"href\":re.compile(\"/citations\\?user=*\")   } )\n",
        "        prf={}\n",
        "        for pr in lpr:\n",
        "            prf[ pr.text ]=pr.attrs.get('href').split('?')[-1].split('&')[0].split('user=')[-1]\n",
        "        gs['profiles']=prf\n",
        "        \n",
        "    sau=0\n",
        "    for a in gs['authors'].split(','):\n",
        "        saun=Levenshtein.ratio(author.lower(),a.lower().strip())\n",
        "        if saun>sau:\n",
        "            sau=saun\n",
        "    gs['quality_author']=round(sau,2)\n",
        "        \n",
        "    gs['quality_title']=round( Levenshtein.ratio(\n",
        "               title.lower(),gs['title'].lower() ),2 )\n",
        "\n",
        "    return gs"
      ],
      "execution_count": 0,
      "outputs": []
    },
    {
      "metadata": {
        "id": "ayVVbzYULolV",
        "colab_type": "code",
        "colab": {},
        "outputId": "a30c8af5-bb4b-476b-f6ec-bb1fadac4fd8"
      },
      "cell_type": "code",
      "source": [
        "google_scholar(title='Fermionic triplet dark matter in an SO(10)-inspired left right model',\n",
        "              author='D Restrepo')"
      ],
      "execution_count": 0,
      "outputs": [
        {
          "output_type": "execute_result",
          "data": {
            "text/plain": [
              "{'authors': 'C Arbeláez, M Hirsch, D Restrepo',\n",
              " 'cites': 7,\n",
              " 'cites_link': '/scholar?cites=10539747452972188249&as_sdt=2005&sciodt=0,5&hl=en&oe=ASCII',\n",
              " 'profiles': {'D Restrepo': '1sKULCoAAAAJ'},\n",
              " 'quality_author': 1.0,\n",
              " 'quality_title': 0.99,\n",
              " 'title': 'Fermionic triplet dark matter in an SO(10)-inspired left-right model'}"
            ]
          },
          "metadata": {
            "tags": []
          },
          "execution_count": 46
        }
      ]
    }
  ]
}