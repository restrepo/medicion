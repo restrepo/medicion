{
 "cells": [
  {
   "cell_type": "markdown",
   "metadata": {
    "colab_type": "text",
    "id": "view-in-github"
   },
   "source": [
    "[View in Colaboratory](https://colab.research.google.com/github/restrepo/medicion/blob/master/tools/GoogleScholar.ipynb)"
   ]
  },
  {
   "cell_type": "markdown",
   "metadata": {
    "colab_type": "text",
    "id": "_l_00juuLolK"
   },
   "source": [
    "# Google scholar"
   ]
  },
  {
   "cell_type": "markdown",
   "metadata": {
    "colab_type": "text",
    "id": "KYv5x_tJLolN"
   },
   "source": [
    "Search for similarity in title and one auhor. Returns Python dictionary\n",
    "\n",
    "__WARNING__: Does not work from Colaboratory"
   ]
  },
  {
   "cell_type": "code",
   "execution_count": 1,
   "metadata": {},
   "outputs": [],
   "source": [
    "import Levenshtein\n",
    "import re\n",
    "from bs4 import BeautifulSoup\n",
    "import requests"
   ]
  },
  {
   "cell_type": "code",
   "execution_count": 26,
   "metadata": {},
   "outputs": [],
   "source": [
    "def get_google_scholar(record):\n",
    "    '''\n",
    "    Analyise the BeautifulSoup record for an article \n",
    "    in Google Scholar.\n",
    "    Output is a Python dictionary with keys: \n",
    "    'title', 'authors','profiles','Jornal','Year',\n",
    "    'abstract','cites','cites_link'\n",
    "    '''\n",
    "    import random\n",
    "    import time\n",
    "    gsr={}\n",
    "    try:\n",
    "        cites=record.find_all('a',{\"href\":re.compile( \"/scholar\\?cites*\" )})[0]\n",
    "        try:\n",
    "            gsr['cites']=int( cites.text.split()[-1] )\n",
    "            gsr['cites_link']=cites.attrs.get('href')\n",
    "        except:\n",
    "            gsr['cites']=0\n",
    "    except:\n",
    "        cites=None\n",
    "\n",
    "    # Title\n",
    "    try:\n",
    "        lstt=record.find_all('a',{\"data-clk\":re.compile( \".*\")})[0].contents\n",
    "    except:\n",
    "        lstt=[]\n",
    "\n",
    "    # Find title interpreting weird characters\n",
    "    tc=''\n",
    "    for tip in lstt:\n",
    "        if tip.find('svg')==-1:\n",
    "            tc=tc+str(tip)\n",
    "        else:\n",
    "            tc=tc+tip.get('aria-label') # aria label in Accessibility\n",
    "    gsr['title']=tc\n",
    "    \n",
    "    # Explore authors, google scholar profile, Journal and Year\n",
    "    gpa=None\n",
    "    try:\n",
    "        gpa=record.find_all('div',{\"class\":\"gs_a\"})[0]\n",
    "        gsr['authors']=gpa.text.split('-')[0].strip()\n",
    "        try:\n",
    "            jy=gpa.text.split('-')[1].strip()\n",
    "            gsr['Journal']=jy.split(',')[0]\n",
    "            try:\n",
    "                gsr['Year']=eval(jy.split(',')[1])\n",
    "            except:\n",
    "                gsr['Year']=-1\n",
    "        except:\n",
    "            gsr['Journal']=''\n",
    "    except:\n",
    "        gsr['authors']=''\n",
    "\n",
    "    #Abstract:\n",
    "    try:\n",
    "        gsr['abstract']=record.find_all('div',{'class':'gs_rs'})[0].text.replace('\\xa0…','')\n",
    "    except:\n",
    "        gsr['abstract']=''\n",
    "    # citations\n",
    "    if gpa:\n",
    "        lpr=gpa.find_all(\"a\",{ \"href\":re.compile(\"/citations\\?user=*\")   } )\n",
    "        prf={}\n",
    "        for pr in lpr:\n",
    "            prf[ pr.text ]=pr.attrs.get('href').split('?')[-1].split('&')[0].split('user=')[-1]\n",
    "        gsr['profiles']=prf\n",
    "    \n",
    "    time.sleep( random.randint(1,3)  ) # avoid robots\n",
    "    return gsr"
   ]
  },
  {
   "cell_type": "code",
   "execution_count": 27,
   "metadata": {
    "colab": {},
    "colab_type": "code",
    "id": "Xo0REDnmLolP"
   },
   "outputs": [],
   "source": [
    "def google_scholar_query(title='relativity theory',author=\"A Einstein\",DEBUG=False):\n",
    "    '''\n",
    "    Search Google scholar for similarity in title and author.\n",
    "    Only the first result is analized. The output includes \n",
    "    a quality measurements between the query and the results \n",
    "    Output is a Python dictionary with keys: \n",
    "    'title', 'authors','profiles','cites','cites_link',\n",
    "    'quality_title','quality_author'\n",
    "    '''\n",
    "    # + → %2B in query formula:\n",
    "    url='https://scholar.google.com/scholar?q=\"{}\"%2B{}'.format(title,author)\n",
    "    if DEBUG:\n",
    "        print(url)\n",
    "    r=requests.get(url)\n",
    "\n",
    "    soup = BeautifulSoup(r.text, \"html.parser\")\n",
    "\n",
    "    rgs=soup.find_all('div', {'class':'gs_ri' })\n",
    "\n",
    "    gs={}\n",
    "\n",
    "    record=rgs[0]\n",
    "    gs.update(get_google_scholar(record))\n",
    "        \n",
    "    sau=0\n",
    "    for a in gs['authors'].split(','):\n",
    "        saun=Levenshtein.ratio(author.lower(),a.lower().strip())\n",
    "        if saun>sau:\n",
    "            sau=saun\n",
    "    gs['quality_author']=round(sau,2)\n",
    "        \n",
    "    gs['quality_title']=round( Levenshtein.ratio(\n",
    "               title.lower(),gs['title'].lower() ),2 )\n",
    "\n",
    "    if DEBUG:\n",
    "        return gs,record\n",
    "    return gs"
   ]
  },
  {
   "cell_type": "code",
   "execution_count": 28,
   "metadata": {
    "colab": {},
    "colab_type": "code",
    "id": "ayVVbzYULolV",
    "outputId": "a30c8af5-bb4b-476b-f6ec-bb1fadac4fd8"
   },
   "outputs": [],
   "source": [
    "r=google_scholar_query(title='Fermionic triplet dark matter in an SO(10)-inspired left right model',\n",
    "              author='D Restrepo',DEBUG=False)"
   ]
  },
  {
   "cell_type": "code",
   "execution_count": 29,
   "metadata": {},
   "outputs": [
    {
     "data": {
      "text/plain": [
       "{'Journal': 'Physical Review D',\n",
       " 'Year': 2017,\n",
       " 'abstract': 'We study a left right (LR) extension of the Standard Model (SM) where the Dark Matter (DM) candidate is composed of a set of fermionic Majorana triplets. The DM is stabilized by a remnant Z 2 symmetry from the breaking of the LR group to the SM. Two simple scenarios where the DM particles plus a certain set of extra fields lead to gauge coupling unification with a low LR scale are explored. The constraints from relic density and predictions for direct detection are discussed for both scenarios. The first scenario with a SU (2) R vectorlike',\n",
       " 'authors': 'C Arbeláez, M Hirsch, D Restrepo',\n",
       " 'cites': 7,\n",
       " 'cites_link': '/scholar?cites=10539747452972188249&as_sdt=2005&sciodt=0,5&hl=en&oe=ASCII',\n",
       " 'profiles': {'D Restrepo': '1sKULCoAAAAJ'},\n",
       " 'quality_author': 1.0,\n",
       " 'quality_title': 0.99,\n",
       " 'title': 'Fermionic triplet dark matter in an SO(10)-inspired left-right model'}"
      ]
     },
     "execution_count": 29,
     "metadata": {},
     "output_type": "execute_result"
    }
   ],
   "source": [
    "r"
   ]
  },
  {
   "cell_type": "code",
   "execution_count": null,
   "metadata": {},
   "outputs": [],
   "source": []
  }
 ],
 "metadata": {
  "colab": {
   "include_colab_link": true,
   "name": "GoogleScholar.ipynb",
   "provenance": [],
   "version": "0.3.2"
  },
  "kernelspec": {
   "display_name": "Python 3",
   "language": "python",
   "name": "python3"
  },
  "language_info": {
   "codemirror_mode": {
    "name": "ipython",
    "version": 3
   },
   "file_extension": ".py",
   "mimetype": "text/x-python",
   "name": "python",
   "nbconvert_exporter": "python",
   "pygments_lexer": "ipython3",
   "version": "3.4.2"
  }
 },
 "nbformat": 4,
 "nbformat_minor": 1
}
