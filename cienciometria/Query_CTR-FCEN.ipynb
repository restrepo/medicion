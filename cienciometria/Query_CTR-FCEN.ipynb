{
 "cells": [
  {
   "cell_type": "markdown",
   "metadata": {
    "colab_type": "text",
    "id": "view-in-github"
   },
   "source": [
    "<a href=\"https://colab.research.google.com/github/restrepo/medicion/blob/master/cienciometria/Query_CTR-FCEN.ipynb\" target=\"_parent\"><img src=\"https://colab.research.google.com/assets/colab-badge.svg\" alt=\"Open In Colab\"/></a>"
   ]
  },
  {
   "cell_type": "markdown",
   "metadata": {
    "colab_type": "text",
    "id": "aDnqho-CsEwj"
   },
   "source": [
    "# Búsquedas WOS+SCI+SCP+PTJ+CTR para FCEN"
   ]
  },
  {
   "cell_type": "markdown",
   "metadata": {},
   "source": [
    "Búsquedas en bases bibligráficas  \n",
    "* Web of Science (WOS), \n",
    "* Scielo (SCI)\n",
    "* Scopus  (SCP)\n",
    "* Puntaje (UDEA)\n",
    "* Center (CTR)\n",
    "de los artículos científicos de la UdeA\n",
    "\n",
    "La base de datos se creó con:\n",
    "\n",
    "[WOS_SCI_SCP_PTJ_CTR.ipynb](./WOS_SCI_SCP_PTJ_CTR.ipynb)"
   ]
  },
  {
   "cell_type": "code",
   "execution_count": 178,
   "metadata": {},
   "outputs": [],
   "source": [
    "import os\n",
    "VERSION='NEW'\n",
    "if os.getcwd()=='/content':\n",
    "    !pip install openpyxl xlrd wosplus fuzzywuzzy[speedup] > /dev/null"
   ]
  },
  {
   "cell_type": "markdown",
   "metadata": {},
   "source": [
    "## functions"
   ]
  },
  {
   "cell_type": "code",
   "execution_count": 1,
   "metadata": {
    "colab": {},
    "colab_type": "code",
    "id": "nhk2ZGEDd2Yo"
   },
   "outputs": [],
   "source": [
    "import pandas as pd\n",
    "import wosplus as wp"
   ]
  },
  {
   "cell_type": "markdown",
   "metadata": {
    "colab_type": "text",
    "heading_collapsed": true,
    "id": "JS7jD1f47JUN"
   },
   "source": [
    "##  Configure public links of  files in Google Drive\n",
    "* If it is a Google Spreadsheet the corresponding file is downloaded as CSV\n",
    "* If it is in excel/json or text file the file is downloaded  directly\n",
    "\n",
    "To define your  own labeled IDs for public google drive files edit the next cell:"
   ]
  },
  {
   "cell_type": "code",
   "execution_count": 2,
   "metadata": {
    "colab": {
     "base_uri": "https://localhost:8080/",
     "height": 35
    },
    "colab_type": "code",
    "hidden": true,
    "id": "T4Rmd2dF7JUQ",
    "outputId": "39a5835e-1b38-48b6-f1a5-e9964c846123"
   },
   "outputs": [
    {
     "name": "stdout",
     "output_type": "stream",
     "text": [
      "Overwriting drive.cfg\n"
     ]
    }
   ],
   "source": [
    "%%writefile drive.cfg\n",
    "[FILES]\n",
    "WOS_SCI_SCP_PTJ_CTR.json.gz=19E1C1kRk4I0V3uXojqko8-NEicWaPp1j"
   ]
  },
  {
   "cell_type": "markdown",
   "metadata": {
    "colab_type": "text",
    "id": "Y0D0hEdAMXUX"
   },
   "source": [
    "##  Load data bases"
   ]
  },
  {
   "cell_type": "code",
   "execution_count": 3,
   "metadata": {
    "colab": {
     "base_uri": "https://localhost:8080/",
     "height": 35
    },
    "colab_type": "code",
    "id": "occzrIeCS7aQ",
    "outputId": "17b144f3-eef0-4c8a-c2b4-10c8fe55802c"
   },
   "outputs": [],
   "source": [
    "drive_files=wp.wosplus('drive.cfg')"
   ]
  },
  {
   "cell_type": "code",
   "execution_count": 53,
   "metadata": {},
   "outputs": [
    {
     "name": "stdout",
     "output_type": "stream",
     "text": [
      "WARNING: Biblio already has a \"Tipo\" column\n"
     ]
    }
   ],
   "source": [
    "UDEAjsonfile='WOS_SCI_SCP_PTJ_CTR.json.gz'\n",
    "tmp=drive_files.load_biblio(UDEAjsonfile,compression='gzip')\n",
    "UDEA=drive_files.biblio['WOS'].copy().reset_index(drop=True)"
   ]
  },
  {
   "cell_type": "code",
   "execution_count": 32,
   "metadata": {},
   "outputs": [],
   "source": [
    "#UDEA=pd.read_json('WOS_SCI_SCP_PTJ_CTR.json.gz',compression='gzip')"
   ]
  },
  {
   "cell_type": "code",
   "execution_count": 5,
   "metadata": {},
   "outputs": [
    {
     "data": {
      "text/plain": [
       "(12257, 3443)"
      ]
     },
     "execution_count": 5,
     "metadata": {},
     "output_type": "execute_result"
    }
   ],
   "source": [
    "json_column='UDEA_authors'\n",
    "UDEA_YES=UDEA[~UDEA['UDEA_authors'].isna()].reset_index(drop=True)\n",
    "UDEA_NOT=UDEA[UDEA['UDEA_authors'].isna()].reset_index(drop=True)\n",
    "UDEA_YES.shape[0],UDEA_NOT.shape[0]"
   ]
  },
  {
   "cell_type": "markdown",
   "metadata": {},
   "source": [
    "# Búsquedas"
   ]
  },
  {
   "cell_type": "code",
   "execution_count": 7,
   "metadata": {},
   "outputs": [],
   "source": [
    "import pandas as pd\n",
    "import numpy as np\n",
    "import fuzzywuzzy.process as fwp\n",
    "from fuzzywuzzy import fuzz\n",
    "def flatten_if_nested(l):\n",
    "    flatten=False\n",
    "    for i in l:\n",
    "        if type(i)==list:\n",
    "            #return i\n",
    "            flatten=True\n",
    "    if flatten:\n",
    "        l=[item for sublist in l for item in sublist]\n",
    "        l=pd.np.array(l)\n",
    "    return l\n",
    "def extract_key(df,key,json_column='UDEA_authors'):\n",
    "    '''\n",
    "    Extract all the unique key values of the list of dictionaries in \n",
    "    a json column when the key value is a string or another list\n",
    "    '''\n",
    "    ll=df[json_column].apply(lambda l: np.unique([ d.get(key) for d in l \n",
    "                                if d.get(key) ]) if type(l)==list else l)\n",
    "    if ll.str[0].apply(lambda l: l if type(l)==list else None).dropna().shape[0]:\n",
    "        ll=ll.apply(flatten_if_nested)\n",
    "    ll=ll.apply(pd.Series).stack().values\n",
    "    return pd.DataFrame( {key:list(ll)} ).groupby(key)[key].count().sort_values(ascending=False)\n",
    "def extract_key_unique(*args,**kwargs):\n",
    "    keys=extract_key(*args,**kwargs).keys()\n",
    "    return [ k for k in keys if k]\n",
    "\n",
    "\n"
   ]
  },
  {
   "cell_type": "markdown",
   "metadata": {},
   "source": [
    "## Cree indices para búsquedas"
   ]
  },
  {
   "cell_type": "code",
   "execution_count": 11,
   "metadata": {},
   "outputs": [],
   "source": [
    "def get_groups(l,g):\n",
    "    '''Normalize columna GRUPO'''\n",
    "    for d in l:\n",
    "        gt=d.get('GRUPO')\n",
    "        if gt and type( gt )==str:\n",
    "            gs=gt.replace(\n",
    "                ', Grupo','; Grupo'\n",
    "            ).split('; ')\n",
    "            for gg in gs:\n",
    "                if gg not in g:\n",
    "                    g.append(gg)\n",
    "    return g\n",
    "\n",
    "facultades={'key':'FACULTAD',\n",
    "            'values' : extract_key_unique(UDEA,'FACULTAD',json_column='UDEA_authors') }\n",
    "departamentos={'key':'DEPARTAMENTO',\n",
    "            'values' :extract_key_unique(UDEA,'DEPARTAMENTO',json_column='UDEA_authors')}\n",
    "nombre_completo={'key'    : 'NOMBRE COMPLETO',\n",
    "            'values' : extract_key_unique(UDEA,'NOMBRE COMPLETO',json_column='UDEA_authors')}\n",
    "full_name={'key'    : 'full_name',\n",
    "            'values' : extract_key_unique(UDEA,'full_name',json_column='UDEA_authors')}\n",
    "udea_affiliations={'key'    : 'WOS_affiliation',\n",
    "            'values' : extract_key_unique(UDEA.fillna(''),'WOS_affiliation',json_column='UDEA_authors')}\n",
    "#wos_affiliations={'key'    : 'affiliation',\n",
    "#            'values' : extract_key_unique(UDEA.fillna(''),'WOS_affiliation',json_column='authors_WOS')}\n",
    "udea_author={'key'    : 'WOS_author',\n",
    "            'values' : extract_key_unique(UDEA.fillna(''),'WOS_author',json_column='UDEA_authors')}\n",
    "wos_author={'key'    : 'WOS_author',\n",
    "            'values' : extract_key_unique(UDEA,'WOS_author',json_column='authors_WOS')}"
   ]
  },
  {
   "cell_type": "code",
   "execution_count": 12,
   "metadata": {},
   "outputs": [],
   "source": [
    "def query_json_column(q,df=UDEA,json_column='UDEA_authors',\n",
    "                        choices=nombre_completo,scorer=fuzz.partial_token_sort_ratio,score_cutoff=0):\n",
    "    #Found best exact match from index\n",
    "    fchoices=fwp.extractOne(q,choices['values'],scorer=scorer,score_cutoff=score_cutoff)\n",
    "    # Exact search in indexed subcolumn converted to strins (e.g list → string if necessary)\n",
    "    if fchoices:\n",
    "        fchoices=fchoices[0]\n",
    "        dfF=df[df[json_column].apply(lambda l: True in [ str(d.get(choices['key'])).find(fchoices)>-1 \n",
    "                                        for d in l if d.get(choices['key'])] if type(l)==list else False)]\n",
    "        return dfF.reset_index(drop=True)\n",
    "    else:\n",
    "        return pd.DataFrame()"
   ]
  },
  {
   "cell_type": "markdown",
   "metadata": {},
   "source": [
    "## Centro"
   ]
  },
  {
   "cell_type": "code",
   "execution_count": 13,
   "metadata": {},
   "outputs": [],
   "source": [
    "cen=query_json_column('Facultad de Ciencias Exactas y Naturales',df=UDEA,json_column='UDEA_authors',\n",
    "                        choices=facultades,scorer=fuzz.partial_token_sort_ratio,score_cutoff=79)"
   ]
  },
  {
   "cell_type": "code",
   "execution_count": 14,
   "metadata": {},
   "outputs": [
    {
     "data": {
      "text/plain": [
       "(2415, 181)"
      ]
     },
     "execution_count": 14,
     "metadata": {},
     "output_type": "execute_result"
    }
   ],
   "source": [
    "cen.shape"
   ]
  },
  {
   "cell_type": "markdown",
   "metadata": {},
   "source": [
    "## Departamento"
   ]
  },
  {
   "cell_type": "code",
   "execution_count": 15,
   "metadata": {},
   "outputs": [
    {
     "data": {
      "text/plain": [
       "DEPARTAMENTO\n",
       "Instituto de Física            916\n",
       "Instituto de Biología          680\n",
       "Instituto de Química           666\n",
       "Departamento de Matemáticas    190\n",
       "Name: DEPARTAMENTO, dtype: int64"
      ]
     },
     "execution_count": 15,
     "metadata": {},
     "output_type": "execute_result"
    }
   ],
   "source": [
    "extract_key(cen,'DEPARTAMENTO')[:4]"
   ]
  },
  {
   "cell_type": "code",
   "execution_count": 16,
   "metadata": {},
   "outputs": [],
   "source": [
    "aunly=drive_files.read_drive_json('UDEA_authors_with_WOS_info.json').reset_index(drop=True)"
   ]
  },
  {
   "cell_type": "code",
   "execution_count": 17,
   "metadata": {},
   "outputs": [],
   "source": [
    "aunly['DEPARTAMENTO']=aunly['UDEA_authors'].apply( lambda d: d.get('DEPARTAMENTO')   ).dropna()"
   ]
  },
  {
   "cell_type": "code",
   "execution_count": 18,
   "metadata": {},
   "outputs": [],
   "source": [
    "dpto=['Instituto de Física',\n",
    "        'Instituto de Biología',\n",
    "        'Instituto de Química',\n",
    "        'Departamento de Matemáticas' ]"
   ]
  },
  {
   "cell_type": "code",
   "execution_count": 19,
   "metadata": {
    "scrolled": true
   },
   "outputs": [
    {
     "name": "stdout",
     "output_type": "stream",
     "text": [
      "DEPARTAMENTO\n",
      "Instituto de Física:  35\n",
      "Instituto de Biología:  34\n",
      "Instituto de Química:  37\n",
      "Departamento de Matemáticas:  24\n"
     ]
    }
   ],
   "source": [
    "print('DEPARTAMENTO')\n",
    "for k in dpto: \n",
    "    print('{}:  {}'.format(k,\n",
    "                    aunly[aunly['DEPARTAMENTO']==k].shape[0]))"
   ]
  },
  {
   "cell_type": "markdown",
   "metadata": {},
   "source": [
    "### CITACIONES"
   ]
  },
  {
   "cell_type": "code",
   "execution_count": 20,
   "metadata": {},
   "outputs": [
    {
     "name": "stdout",
     "output_type": "stream",
     "text": [
      "* https://scholar.google.com/citations?user=mxSOjTYAAAAJ\n"
     ]
    },
    {
     "data": {
      "text/html": [
       "<div>\n",
       "<style scoped>\n",
       "    .dataframe tbody tr th:only-of-type {\n",
       "        vertical-align: middle;\n",
       "    }\n",
       "\n",
       "    .dataframe tbody tr th {\n",
       "        vertical-align: top;\n",
       "    }\n",
       "\n",
       "    .dataframe thead th {\n",
       "        text-align: right;\n",
       "    }\n",
       "</style>\n",
       "<table border=\"1\" class=\"dataframe\">\n",
       "  <thead>\n",
       "    <tr style=\"text-align: right;\">\n",
       "      <th></th>\n",
       "      <th>DEPARTAMENTO</th>\n",
       "      <th>SCP Cited by</th>\n",
       "      <th>WOS Cited by</th>\n",
       "      <th>GS Cited by*</th>\n",
       "    </tr>\n",
       "  </thead>\n",
       "  <tbody>\n",
       "    <tr>\n",
       "      <th>0</th>\n",
       "      <td>Instituto de Física</td>\n",
       "      <td>8349</td>\n",
       "      <td>8227</td>\n",
       "      <td>22500</td>\n",
       "    </tr>\n",
       "    <tr>\n",
       "      <th>1</th>\n",
       "      <td>Instituto de Biología</td>\n",
       "      <td>6898</td>\n",
       "      <td>11603</td>\n",
       "      <td>NaN</td>\n",
       "    </tr>\n",
       "    <tr>\n",
       "      <th>2</th>\n",
       "      <td>Instituto de Química</td>\n",
       "      <td>7089</td>\n",
       "      <td>7078</td>\n",
       "      <td>NaN</td>\n",
       "    </tr>\n",
       "    <tr>\n",
       "      <th>3</th>\n",
       "      <td>Departamento de Matemáticas</td>\n",
       "      <td>492</td>\n",
       "      <td>384</td>\n",
       "      <td>NaN</td>\n",
       "    </tr>\n",
       "  </tbody>\n",
       "</table>\n",
       "</div>"
      ],
      "text/plain": [
       "                  DEPARTAMENTO  SCP Cited by  WOS Cited by GS Cited by*\n",
       "0          Instituto de Física          8349          8227        22500\n",
       "1        Instituto de Biología          6898         11603          NaN\n",
       "2         Instituto de Química          7089          7078          NaN\n",
       "3  Departamento de Matemáticas           492           384          NaN"
      ]
     },
     "execution_count": 20,
     "metadata": {},
     "output_type": "execute_result"
    }
   ],
   "source": [
    "df=pd.DataFrame()\n",
    "dfinst={}\n",
    "for k in dpto:\n",
    "    inst={}\n",
    "    dfinst[k]=query_json_column(k,df=UDEA,json_column='UDEA_authors',\n",
    "                        choices=departamentos,scorer=fuzz.partial_token_sort_ratio,score_cutoff=100)\n",
    "    inst['DEPARTAMENTO']=k\n",
    "    inst['WOS Cited by']=dfinst[k].Z9.sum()\n",
    "    inst['SCP Cited by']=dfinst[k]['SCP_Cited by'].sum()\n",
    "    df=df.append(inst,ignore_index=True)\n",
    "\n",
    "ct=[c for c in df.columns if c.find('Cited')>-1]\n",
    "for c in ct:\n",
    "    df[c]=df[c].astype(int)\n",
    "df.loc[0,'GS Cited by*']='22500'\n",
    "print('* https://scholar.google.com/citations?user=mxSOjTYAAAAJ')\n",
    "df    "
   ]
  },
  {
   "cell_type": "code",
   "execution_count": 21,
   "metadata": {},
   "outputs": [],
   "source": [
    "pd.set_option('display.max_rows', 500)"
   ]
  },
  {
   "cell_type": "code",
   "execution_count": 22,
   "metadata": {},
   "outputs": [
    {
     "data": {
      "text/plain": [
       "full_name\n",
       "DUQUE ECHEVERRI CARLOS ALBERTO         261\n",
       "MORALES ARAMBURO ALVARO LUIS            86\n",
       "BARRERA RAMIREZ JOHN FREDY              62\n",
       "RESTREPO CARDENAS JOHANS                60\n",
       "BARRERO MENESES CESAR AUGUSTO           59\n",
       "MORA RAMOS MIGUEL EDUARDO               49\n",
       "REYES GOMEZ ERNESTO AMADOR              49\n",
       "SANZ VICARIO JOSE LUIS                  46\n",
       "ARNACHE OLMOS OSCAR LUIS                40\n",
       "RESTREPO QUINTERO DIEGO ALEJANDRO       37\n",
       "PONCE GUTIERREZ WILLIAM ANTONIO         34\n",
       "HENAO HENAO RODRIGO DE JESUS            32\n",
       "MAZO ZULUAGA JOHANN                     31\n",
       "OSORIO GUILLEN JORGE MARIO              29\n",
       "OSORIO VELEZ JAIME ALBERTO              26\n",
       "RODRIGUEZ REY BORIS ANGHELO             25\n",
       "ROMANO ANTONIO ENEA                     23\n",
       "ZULUAGA CALLEJAS JORGE IVAN             23\n",
       "RAIGOZA BOHORQUEZ NICOLAS FERNANDO      22\n",
       "ZAPATA NOREÑA OSCAR ALBERTO             22\n",
       "GARCIA TELLEZ KAREN EDILMA              20\n",
       "LOPEZ RIOS SONIA YANETH                 19\n",
       "RUEDA MUNOZ EDGAR ALBERTO               19\n",
       "PACHON CONTRERAS LEONARDO AUGUSTO       18\n",
       "MAHECHA GOMEZ JORGE EDUARDO             16\n",
       "MIRA AGUDELO ALEJANDRO                  16\n",
       "TULUPENKO VIKTOR                        14\n",
       "MUÑOZ CUARTAS JUAN CARLOS                9\n",
       "ROJAS PEÑA EDUARDO                       9\n",
       "CUARTAS RESTREPO PABLO ANDRES            8\n",
       "GIRALDO CADAVID MARCO ANTONIO            8\n",
       "UNGAN FATIH                              8\n",
       "MEJIA LOPEZ JOSE FELIX                   8\n",
       "TOBON GOMEZ JORGE ENRIQUE                7\n",
       "FERRIN VAZQUEZ IGNACIO RAMON             7\n",
       "CARDONA GOMEZ JUAN CARLOS                7\n",
       "WU HUACHUAN                              7\n",
       "AKIMOV VOLODYMYR                         7\n",
       "MONTES BARAHONA AUGUSTO LEON             6\n",
       "JARAMILLO ARANGO DANIEL ESTEBAN          6\n",
       "JARAMILLO ISAZA FRANKLIN                 6\n",
       "VALENCIA VALENCIA JOSE PATRICIO          6\n",
       "LONDOÑO BADILLO FERNANDO ANDRES          6\n",
       "VINCK POSADA HERBERT                     6\n",
       "ARROYAVE POSADA CARLOS ENRIQUE           6\n",
       "SILVA VILLA ESTEBAN                      5\n",
       "MEDINA ESTRADA FRANCISCO FERNANDO        5\n",
       "RUEDA MUÑOZ EDGAR ALBERTO                5\n",
       "GIORDANI CRISTIANO                       5\n",
       "BEJARANO GAITAN GILBERTO                 4\n",
       "GIRATA LOZANO DORIS AMALIA               4\n",
       "QUINTERO ARIAS ORLANDO DE JESUS          4\n",
       "CALDERON GUTIERREZ JORGE ANDRES          4\n",
       "NARDI ENRICO                             4\n",
       "MIRA MARTINEZ JESUS MARIA                4\n",
       "ARISTIZABAL SIERRA DIEGO                 4\n",
       "CASANOVA YEPES HERLEY FERNANDO           3\n",
       "RICAURTE AVELLA GERMAN                   3\n",
       "BOLIVAR OSORIO FRANCISCO JAVIER          3\n",
       "GOMEZ BOTERO MARYORY ASTRID              2\n",
       "ECHAVARRIA VELASQUEZ ALEJANDRO IVAN      2\n",
       "ESCOBAR SIERRA DIANA MARCELA             2\n",
       "ZULUAGA QUINTERO JOHN JAIRO              2\n",
       "QUIROS ARROYAVE JUAN JOSE                2\n",
       "LOPEZ OSORIO BETTY LUCY                  2\n",
       "VARGAS CASTRILLON CARLOS ANDRES          2\n",
       "MONTEGRANARIO RIASCOS HEBERT             2\n",
       "REYES HERRERA LUCELLY                    2\n",
       "CALDERON VELEZ JUAN CAMILO               1\n",
       "AMAYA ROBAYO DAFNE CECILIA               1\n",
       "ZAPATA CARO JUAN DIEGO                   1\n",
       "YEPES RESTREPO BERNARDO ARTURO           1\n",
       "VON DER PAHLEN FEDERICO IGNACIO          1\n",
       "VELASQUEZ TORRES ALVARO                  1\n",
       "TREJOS GONZALEZ SORAYDA                  1\n",
       "BOTERO VEGA JUAN FELIPE                  1\n",
       "RAMIREZ VELEZ ALEJANDRO                  1\n",
       "HESS MICHAEL                             1\n",
       "CARDENAS SOTO ANA MARIA                  1\n",
       "JARAMILLO GALLEGO JOHNY ALEXANDER        1\n",
       "PEREZ LINCE GABRIEL JAIME                1\n",
       "MORALES VEGA PATRICIA DE JESUS           1\n",
       "MESA CADAVID MONICA                      1\n",
       "MARTINEZ MARTINEZ ALEJANDRO              1\n",
       "FERNANDEZ HINCAPIE JHON JAIRO            1\n",
       "MARQUEZ FERNANDEZ DIANA MARGARITA        1\n",
       "GALLEGO GOMEZ JUAN CARLOS                1\n",
       "GALVAN DIAZ ANA LUZ                      1\n",
       "MACHADO RODRIGUEZ GLORIA                 1\n",
       "MINOTAS RUIZ JULIO CESAR                 1\n",
       "Name: full_name, dtype: int64"
      ]
     },
     "execution_count": 22,
     "metadata": {},
     "output_type": "execute_result"
    }
   ],
   "source": [
    "extract_key(dfinst['Instituto de Física'],'full_name')"
   ]
  },
  {
   "cell_type": "code",
   "execution_count": 99,
   "metadata": {},
   "outputs": [
    {
     "name": "stdout",
     "output_type": "stream",
     "text": [
      "Instituto de Física\n"
     ]
    },
    {
     "data": {
      "text/plain": [
       "0              ARNACHE OLMOS OSCAR LUIS\n",
       "1            BARRERA RAMIREZ JOHN FREDY\n",
       "2         BARRERO MENESES CESAR AUGUSTO\n",
       "3         CUARTAS RESTREPO PABLO ANDRES\n",
       "4        DUQUE ECHEVERRI CARLOS ALBERTO\n",
       "5          FERRIN VAZQUEZ IGNACIO RAMON\n",
       "6         GIRALDO CADAVID MARCO ANTONIO\n",
       "7          HENAO HENAO RODRIGO DE JESUS\n",
       "8       JARAMILLO ARANGO DANIEL ESTEBAN\n",
       "9     JARAMILLO GALLEGO JOHNY ALEXANDER\n",
       "10      LONDOÑO BADILLO FERNANDO ANDRES\n",
       "11          MAHECHA GOMEZ JORGE EDUARDO\n",
       "12                  MAZO ZULUAGA JOHANN\n",
       "13               MIRA AGUDELO ALEJANDRO\n",
       "14         MORALES ARAMBURO ALVARO LUIS\n",
       "15            MUÑOZ CUARTAS JUAN CARLOS\n",
       "16           OSORIO GUILLEN JORGE MARIO\n",
       "17           OSORIO VELEZ JAIME ALBERTO\n",
       "18    PACHON CONTRERAS LEONARDO AUGUSTO\n",
       "19      PONCE GUTIERREZ WILLIAM ANTONIO\n",
       "20             RESTREPO CARDENAS JOHANS\n",
       "21    RESTREPO QUINTERO DIEGO ALEJANDRO\n",
       "22           REYES GOMEZ ERNESTO AMADOR\n",
       "23               RICAURTE AVELLA GERMAN\n",
       "24          RODRIGUEZ REY BORIS ANGHELO\n",
       "25                   ROJAS PEÑA EDUARDO\n",
       "26            RUEDA MUNOZ EDGAR ALBERTO\n",
       "27            RUEDA MUÑOZ EDGAR ALBERTO\n",
       "28               SANZ VICARIO JOSE LUIS\n",
       "29                  SILVA VILLA ESTEBAN\n",
       "30      VALENCIA VALENCIA JOSE PATRICIO\n",
       "31          ZAPATA NOREÑA OSCAR ALBERTO\n",
       "32          ZULUAGA CALLEJAS JORGE IVAN\n",
       "Name: tmp_author, dtype: object"
      ]
     },
     "execution_count": 99,
     "metadata": {},
     "output_type": "execute_result"
    }
   ],
   "source": [
    "i=0\n",
    "print(dpto[i])\n",
    "aunly[aunly['DEPARTAMENTO']==dpto[i]].sort_values('tmp_author').reset_index(drop=True).tmp_author"
   ]
  },
  {
   "cell_type": "code",
   "execution_count": 23,
   "metadata": {},
   "outputs": [],
   "source": [
    "pd.set_option('display.max_colwidth',2000)"
   ]
  },
  {
   "cell_type": "code",
   "execution_count": 24,
   "metadata": {},
   "outputs": [],
   "source": [
    "wp=UDEA[UDEA.AU.str.contains('Ponce, W')][['TI','SO','PY','AU','authors_WOS','UDEA_authors']].reset_index(drop=True)"
   ]
  },
  {
   "cell_type": "code",
   "execution_count": 28,
   "metadata": {},
   "outputs": [
    {
     "data": {
      "text/plain": [
       "0    (Ponce, William A., 88)\n",
       "dtype: object"
      ]
     },
     "execution_count": 28,
     "metadata": {},
     "output_type": "execute_result"
    }
   ],
   "source": [
    "wp.apply(lambda r: fwp.extractOne(  [ a for a in r['AU'].split('\\n')[0:-1] \n",
    "                       if a.find('Ponce, W')>-1][0], list( aus),\n",
    "                        scorer=fuzz.partial_token_sort_ratio) ,axis=1 )[:1]                                 "
   ]
  },
  {
   "cell_type": "markdown",
   "metadata": {},
   "source": [
    "### Others"
   ]
  },
  {
   "cell_type": "code",
   "execution_count": 31,
   "metadata": {},
   "outputs": [
    {
     "name": "stdout",
     "output_type": "stream",
     "text": [
      "========================================\n",
      "Instituto de Física\n",
      "========================================\n",
      "full_name\n",
      "DUQUE ECHEVERRI CARLOS ALBERTO         261\n",
      "MORALES ARAMBURO ALVARO LUIS            86\n",
      "BARRERA RAMIREZ JOHN FREDY              62\n",
      "RESTREPO CARDENAS JOHANS                60\n",
      "BARRERO MENESES CESAR AUGUSTO           59\n",
      "MORA RAMOS MIGUEL EDUARDO               49\n",
      "REYES GOMEZ ERNESTO AMADOR              49\n",
      "SANZ VICARIO JOSE LUIS                  46\n",
      "ARNACHE OLMOS OSCAR LUIS                40\n",
      "RESTREPO QUINTERO DIEGO ALEJANDRO       37\n",
      "PONCE GUTIERREZ WILLIAM ANTONIO         34\n",
      "HENAO HENAO RODRIGO DE JESUS            32\n",
      "MAZO ZULUAGA JOHANN                     31\n",
      "OSORIO GUILLEN JORGE MARIO              29\n",
      "OSORIO VELEZ JAIME ALBERTO              26\n",
      "RODRIGUEZ REY BORIS ANGHELO             25\n",
      "ROMANO ANTONIO ENEA                     23\n",
      "ZULUAGA CALLEJAS JORGE IVAN             23\n",
      "RAIGOZA BOHORQUEZ NICOLAS FERNANDO      22\n",
      "ZAPATA NOREÑA OSCAR ALBERTO             22\n",
      "GARCIA TELLEZ KAREN EDILMA              20\n",
      "LOPEZ RIOS SONIA YANETH                 19\n",
      "RUEDA MUNOZ EDGAR ALBERTO               19\n",
      "PACHON CONTRERAS LEONARDO AUGUSTO       18\n",
      "MAHECHA GOMEZ JORGE EDUARDO             16\n",
      "MIRA AGUDELO ALEJANDRO                  16\n",
      "TULUPENKO VIKTOR                        14\n",
      "MUÑOZ CUARTAS JUAN CARLOS                9\n",
      "ROJAS PEÑA EDUARDO                       9\n",
      "CUARTAS RESTREPO PABLO ANDRES            8\n",
      "GIRALDO CADAVID MARCO ANTONIO            8\n",
      "UNGAN FATIH                              8\n",
      "MEJIA LOPEZ JOSE FELIX                   8\n",
      "TOBON GOMEZ JORGE ENRIQUE                7\n",
      "FERRIN VAZQUEZ IGNACIO RAMON             7\n",
      "CARDONA GOMEZ JUAN CARLOS                7\n",
      "WU HUACHUAN                              7\n",
      "AKIMOV VOLODYMYR                         7\n",
      "MONTES BARAHONA AUGUSTO LEON             6\n",
      "JARAMILLO ARANGO DANIEL ESTEBAN          6\n",
      "JARAMILLO ISAZA FRANKLIN                 6\n",
      "VALENCIA VALENCIA JOSE PATRICIO          6\n",
      "LONDOÑO BADILLO FERNANDO ANDRES          6\n",
      "VINCK POSADA HERBERT                     6\n",
      "ARROYAVE POSADA CARLOS ENRIQUE           6\n",
      "SILVA VILLA ESTEBAN                      5\n",
      "MEDINA ESTRADA FRANCISCO FERNANDO        5\n",
      "RUEDA MUÑOZ EDGAR ALBERTO                5\n",
      "GIORDANI CRISTIANO                       5\n",
      "BEJARANO GAITAN GILBERTO                 4\n",
      "GIRATA LOZANO DORIS AMALIA               4\n",
      "QUINTERO ARIAS ORLANDO DE JESUS          4\n",
      "CALDERON GUTIERREZ JORGE ANDRES          4\n",
      "NARDI ENRICO                             4\n",
      "MIRA MARTINEZ JESUS MARIA                4\n",
      "ARISTIZABAL SIERRA DIEGO                 4\n",
      "CASANOVA YEPES HERLEY FERNANDO           3\n",
      "RICAURTE AVELLA GERMAN                   3\n",
      "BOLIVAR OSORIO FRANCISCO JAVIER          3\n",
      "GOMEZ BOTERO MARYORY ASTRID              2\n",
      "ECHAVARRIA VELASQUEZ ALEJANDRO IVAN      2\n",
      "ESCOBAR SIERRA DIANA MARCELA             2\n",
      "ZULUAGA QUINTERO JOHN JAIRO              2\n",
      "QUIROS ARROYAVE JUAN JOSE                2\n",
      "LOPEZ OSORIO BETTY LUCY                  2\n",
      "VARGAS CASTRILLON CARLOS ANDRES          2\n",
      "MONTEGRANARIO RIASCOS HEBERT             2\n",
      "REYES HERRERA LUCELLY                    2\n",
      "CALDERON VELEZ JUAN CAMILO               1\n",
      "AMAYA ROBAYO DAFNE CECILIA               1\n",
      "ZAPATA CARO JUAN DIEGO                   1\n",
      "YEPES RESTREPO BERNARDO ARTURO           1\n",
      "VON DER PAHLEN FEDERICO IGNACIO          1\n",
      "VELASQUEZ TORRES ALVARO                  1\n",
      "TREJOS GONZALEZ SORAYDA                  1\n",
      "BOTERO VEGA JUAN FELIPE                  1\n",
      "RAMIREZ VELEZ ALEJANDRO                  1\n",
      "HESS MICHAEL                             1\n",
      "CARDENAS SOTO ANA MARIA                  1\n",
      "JARAMILLO GALLEGO JOHNY ALEXANDER        1\n",
      "PEREZ LINCE GABRIEL JAIME                1\n",
      "MORALES VEGA PATRICIA DE JESUS           1\n",
      "MESA CADAVID MONICA                      1\n",
      "MARTINEZ MARTINEZ ALEJANDRO              1\n",
      "FERNANDEZ HINCAPIE JHON JAIRO            1\n",
      "MARQUEZ FERNANDEZ DIANA MARGARITA        1\n",
      "GALLEGO GOMEZ JUAN CARLOS                1\n",
      "GALVAN DIAZ ANA LUZ                      1\n",
      "MACHADO RODRIGUEZ GLORIA                 1\n",
      "MINOTAS RUIZ JULIO CESAR                 1\n",
      "Name: full_name, dtype: int64\n",
      "========================================\n",
      "Instituto de Biología\n",
      "========================================\n",
      "full_name\n",
      "BEDOYA BERRIO GABRIEL DE JESUS            125\n",
      "TRIANA CHAVEZ OMAR                         76\n",
      "WOLFF ECHEVERRI MARTA ISABEL               52\n",
      "ATEHORTUA GARCES LUCIA                     42\n",
      "ALZATE GUARIN FERNANDO ALVEIRO             32\n",
      "JIMENEZ SEGURA LUZ FERNANDA                30\n",
      "DAZA ROJAS JUAN MANUEL                     30\n",
      "PAEZ NIETO VIVIAN PATRICIA                 30\n",
      "PABON MORA NATALIA LUCIA                   28\n",
      "BLANCO LIBREROS JUAN FELIPE                28\n",
      "FRANCO MOLANO ANA ESPERANZA                28\n",
      "SOTO CALDERON IVAN DARIO                   24\n",
      "URREA TRUJILLO AURA INES                   24\n",
      "SOLARI TORRES SERGIO ALCIDES               22\n",
      "ROJAS MONTOYA WINSTON                      21\n",
      "BOCK BRIAN CARL                            21\n",
      "OSPINA DUQUE JORGE HERNAN                  16\n",
      "GARCIA VALENCIA JENNY                      15\n",
      "PARRA MARIN MARIA VICTORIA                 13\n",
      "PARRA VERGARA JUAN LUIS                    13\n",
      "GOMEZ PALACIO ANDRES MAURICIO              13\n",
      "CORREDOR RODRIGUEZ MAURICIO                13\n",
      "FONSECA GONZALEZ IDALYD                    12\n",
      "MONSALVE FONNEGRA ZULMA ISABEL             12\n",
      "LOPERA RESTREPO FRANCISCO JAVIER           12\n",
      "JARAMILLO OCAMPO NICOLAS CARLOS MARTI      12\n",
      "CORNEJO OCHOA JOSE WILLIAM                 11\n",
      "LONDOÑO MESA MARIO HERNAN                  11\n",
      "PALACIO ACOSTA CARLOS ALBERTO              10\n",
      "PINEDA TRUJILLO NICOLAS GUILLERMO           9\n",
      "LOPEZ JARAMILLO CARLOS ALBERTO              8\n",
      "RAMIREZ CUARTAS CAMILO ANDRES               7\n",
      "ROSIQUE GRACIA JAVIER                       7\n",
      "DELGADO CHARRIS JEAN PAUL                   6\n",
      "VILLEGAS LANAU CARLOS ANDRES                6\n",
      "MAESTRE BUITRAGO AMANDA ELENA               6\n",
      "CUARTAS HERNANDEZ SANDRA EUGENIA            6\n",
      "OSORIO DURANGO EDISON JAVIER                6\n",
      "PALACIO BAENA JAIME ALBERTO                 6\n",
      "CARDONA BUSTOS NADYA LORENA                 6\n",
      "CARRIZOSA MOOG JAIME                        5\n",
      "PATIÑO VILLADA FREDY ALONSO                 5\n",
      "VELASQUEZ RODRIGUEZ CLAUDIA MARIA           5\n",
      "ROJAS HOYOS LUISA FERNANDA                  5\n",
      "CALLE BERNAL JORGE JULIAN                   5\n",
      "LIZARAZO MEDINA PILAR XIMENA                5\n",
      "MESA VANEGAS ANA MARIA                      4\n",
      "LOPEZ GALLEGO MARIA CRISTINA                4\n",
      "MONTOYA MONTOYA GABRIEL JAIME               4\n",
      "MIRANDA ANGULO ANA LUCIA                    4\n",
      "ZAPATA OCAMPO PAOLA ANDREA                  4\n",
      "ESTRADA RESTREPO ALEJANDRO                  4\n",
      "RIVERA GUTIERREZ HECTOR FABIO               4\n",
      "VELEZ BERNAL IVAN DARIO                     4\n",
      "TORRES LOPEZ ANA MARIA                      4\n",
      "ARBOLEDA SANCHEZ SAIR ORIETA                4\n",
      "BLAIR TRUJILLO SILVIA VICTORIA              4\n",
      "RUIZ LINARES ANDRES                         4\n",
      "RUGELES LOPEZ MARIA TERESA                  4\n",
      "CALLE OSORNO JAIME DE JESUS                 4\n",
      "MACHADO RODRIGUEZ GLORIA                    4\n",
      "CARDONA GALEANO WILSON ISIDRO               4\n",
      "QUINTERO DIAZ JUAN CARLOS                   4\n",
      "ARIAS RESTREPO LUIS FERNANDO                3\n",
      "SAEZ VEGA JAIRO ANTONIO                     3\n",
      "MANJARRES CORREA LUZ MARIELA                3\n",
      "ZAPATA BUILES WILDEMAN                      3\n",
      "MESA HERRERA NATALIA REGINA                 3\n",
      "ALZATE RESTREPO JUAN FERNANDO               3\n",
      "ARANGO ACOSTA GABRIEL JAIME                 3\n",
      "GONZALEZ QUEVEDO CATALINA                   3\n",
      "MUÑOZ QUESADA FERNANDO                      3\n",
      "MUÑETON PEÑA CARLOS MARIO                   3\n",
      "GALLEGO LOPERA BERTA NATALIA                3\n",
      "PARRA SOSA BEATRIZ ELENA                    3\n",
      "ISAZA NARVAEZ CLAUDIA VICTORIA              3\n",
      "CARMONA FONSECA JAIME DE JESUS              2\n",
      "ARANGO VIANA JUAN CARLOS                    2\n",
      "CERON MUÑOZ MARIO FERNANDO                  2\n",
      "JAIMES BARRAGAN FABIAN ALBERTO              2\n",
      "CARDONA GOMEZ GLORIA PATRICIA               2\n",
      "LEAL FLOREZ JENNY                           2\n",
      "ISAZA JIMENEZ LUIS FERNANDO                 2\n",
      "ALFARO VELASQUEZ JUAN MANUEL                2\n",
      "LOPEZ HINCAPIE JOSE DAVID                   2\n",
      "GRISALES OCHOA DIANA LUCIA                  2\n",
      "LOPEZ QUINTERO JUAN ALVARO                  2\n",
      "CADAVID JARAMILLO ANGELA PATRICIA           2\n",
      "CARDONA CADAVID HENRY                       2\n",
      "AGUDELO OCHOA GLORIA MARIA                  2\n",
      "PATIÑO GRAJALES PABLO JAVIER                2\n",
      "MUSKUS LOPEZ CARLOS ENRIQUE                 2\n",
      "RINCON BARON EDGAR JAVIER                   2\n",
      "RIVERA CORREA MAURICIO                      2\n",
      "ROBLEDO RESTREPO SARA MARIA                 2\n",
      "TORRES HERNANDEZ JOSE DOMINGO               2\n",
      "MUNERA GARCIA NORA ELENA                    2\n",
      "SALAZAR JIMENEZ AUGUSTO ENRIQUE             1\n",
      "RUA URIBE GUILLERMO LEON                    1\n",
      "RUA MOLINA DIANA CAROLINA                   1\n",
      "BORRERO FRANCO MAURICIO                     1\n",
      "CABRERA HEMER DAGOBERTO NICANOR             1\n",
      "RUA GIRALDO ALVARO LEON                     1\n",
      "MALDONADO CELIS MARIA ELENA                 1\n",
      "BERMUDEZ MUÑOZ OLGA MARIA                   1\n",
      "RODRIGUEZ GAZQUEZ MARIA DE LOS ANGELES      1\n",
      "CALLEJAS POSADA RICARDO DE LA MERCED        1\n",
      "CARDEÑO CASTRO CARLOS ALBERTO               1\n",
      "RIOS OSORIO LEONARDO ALBERTO                1\n",
      "CARDONA MAYA WALTER DARIO                   1\n",
      "RESTREPO SEPULVEDA ELSA ADRIANA             1\n",
      "ROLDAN PEREZ MIGUEL IGNACIO                 1\n",
      "BEDOYA ASTRID MILENA                        1\n",
      "SALDARRIAGA OSORIO YAMILE                   1\n",
      "CEBALLOS FONSECA CLAUDIA PATRICIA           1\n",
      "AGUIRRE GAVIRIA BEATRIZ EUGENIA             1\n",
      "AGUIRRE RAMIREZ NESTOR JAIME                1\n",
      "VELILLA HERNANDEZ PAULA ANDREA              1\n",
      "ALVAREZ PELAEZ MARIA LEONOR                 1\n",
      "ALVIAR RAMIREZ MAURICIO                     1\n",
      "VELEZ ESCOBAR MA IMELDA                     1\n",
      "VELASQUEZ TRUJILLO LUZ ELENA                1\n",
      "VASQUEZ PALACIO GONZALO DE JESUS            1\n",
      "ARANGO RINCON JULIAN CAMILO                 1\n",
      "ARANGO VELEZ ELKIN FERNANDO                 1\n",
      "ARBELAEZ MONTOYA MARIA PATRICIA             1\n",
      "TOBON ACOSTA LUIS IGNACIO ANDRES            1\n",
      "ARCOS BURGOS OSCAR MAURICIO                 1\n",
      "TABORDA MARIN ALEXANDER                     1\n",
      "SANCHEZ VASQUEZ GLORIA INES                 1\n",
      "RESTREPO PINEDA DURLEY ELIANA               1\n",
      "CORDOBA GOMEZ CARLOS MARIO                  1\n",
      "RESTREPO MUNERA LUZ MARINA                  1\n",
      "PALACIO BAENA LUIS GUILLERMO                1\n",
      "HERRERA TORO MIRIAN NATALIA                 1\n",
      "HOYOS LOPEZ RICHARD ONALBI                  1\n",
      "OSORIO QUINTERO LISARDO                     1\n",
      "OLIVERA ANGEL MARTHA EUFEMIA                1\n",
      "OCHOA SANCHEZ LUZ MARIELA                   1\n",
      "JIMENEZ USUGA NORA DEL SOCORRO              1\n",
      "LATORRE SIERRA GUILLERMO                    1\n",
      "MORA HENAO BEATRIZ EUGENIA                  1\n",
      "MONTOYA GOMEZ NILTON EDU                    1\n",
      "MONTIEL RAMOS JEHIDYS ESTELLA               1\n",
      "MESA ARANGO ANA CECILIA                     1\n",
      "LOPEZ ARANGO YOLANDA LUCIA                  1\n",
      "MCEWEN OCHOA JUAN GUILLERMO                 1\n",
      "ZAPATA CARDONA DENY JULIANA                 1\n",
      "MARQUEZ ARABIA JORGE JAIME                  1\n",
      "OSSA LONDOÑO JORGE ELIECER                  1\n",
      "GOMEZ FRANCO JULIANA                        1\n",
      "MARIN VILLA MARCEL                          1\n",
      "GIRALDO CADAVID MARCO ANTONIO               1\n",
      "RESTREPO BETANCUR LUIS FERNANDO             1\n",
      "CORREA OCHOA MARGARITA MARIA                1\n",
      "RAMIREZ RESTREPO JOHN JAIRO                 1\n",
      "RAMIREZ PINEDA JOSE ROBINSON                1\n",
      "RAMIREZ CASTRO JOSE LUIS                    1\n",
      "PUERTAS MEJIA MIGUEL ANGEL                  1\n",
      "DUQUE BOTERO JULIETA                        1\n",
      "ESCOBAR VASCO JOSE PABLO                    1\n",
      "POSADA DUQUE RAFAEL ANDRES                  1\n",
      "POLANCO ECHEVERRY DIANA NAYIBE              1\n",
      "PINEDA SALAZAR DAVID ANTONIO                1\n",
      "PEREZ PAREJA SANDRA PATRICIA                1\n",
      "GARCIA PINEDA ANDRES FELIPE                 1\n",
      "PELAEZ JARAMILLO CARLOS ALBERTO             1\n",
      "GARTNER VARGAS CARMIÑA                      1\n",
      "MARTINEZ ALONSO                             1\n",
      "Name: full_name, dtype: int64\n",
      "========================================\n",
      "Instituto de Química\n",
      "========================================\n"
     ]
    },
    {
     "name": "stdout",
     "output_type": "stream",
     "text": [
      "full_name\n",
      "MONDRAGON PEREZ FANOR                  84\n",
      "LOPEZ OSORIO BETTY LUCY                75\n",
      "RESTREPO COSSIO ALBEIRO ALONSO         70\n",
      "ECHEVERRI LOPEZ LUIS FERNANDO          54\n",
      "TORRES PALMA RICARDO ANTONIO           54\n",
      "LOPEZ LOPEZ DIANA PATRICIA             38\n",
      "MESA CADAVID MONICA                    36\n",
      "ECHAVARRIA ISAZA ADRIANA PATRICIA      32\n",
      "QUIÑONES FLETCHER WINSTON              26\n",
      "HADAD ARRIAGADA CACIER ZILAHY          25\n",
      "PELAEZ JARAMILLO CARLOS ALBERTO        25\n",
      "VAZQUEZ CEBALLOS MARIO VICTOR          23\n",
      "CARDONA GALEANO WILSON ISIDRO          23\n",
      "SANTAMARIA PALACIO ALEXANDER           22\n",
      "MANRIQUE MORENO MARCELA MARIA          21\n",
      "GARCIA TELLEZ KAREN EDILMA             21\n",
      "OTALVARO TAMAYO LEON FELIPE            21\n",
      "ESPINAL LOPEZ JUAN FERNANDO            21\n",
      "ROBLEDO RESTREPO SARA MARIA            21\n",
      "BARRERO MENESES CESAR AUGUSTO          20\n",
      "PUERTAS MEJIA MIGUEL ANGEL             18\n",
      "GALLEGO MARIN JAIME ANDRES             17\n",
      "CASANOVA YEPES HERLEY FERNANDO         17\n",
      "RAMIREZ VELEZ ALEJANDRO                16\n",
      "GIRALDO MORALES LUIS FERNANDO          15\n",
      "MORENO LOPERA JORGE ANDRES             15\n",
      "TORRES ROLDAN LUIS FERNANDO            15\n",
      "MORALES ARAMBURO ALVARO LUIS           14\n",
      "SAEZ VEGA JAIRO ANTONIO                14\n",
      "VELEZ BERNAL IVAN DARIO                12\n",
      "FERNANDEZ HINCAPIE JHON JAIRO          12\n",
      "PALACIO SANTOS LUZ AMPARO              11\n",
      "PATIÑO GONZALEZ EDWIN BAIRON           11\n",
      "FLOREZ YEPES ELIZABETH                 11\n",
      "ESCOBAR PELAEZ GUSTAVO ADOLFO          11\n",
      "GUERRA TAMAYO DORIS LUCIA              11\n",
      "PEREZ PEREZ LEON DARIO                 10\n",
      "SILVA AGREDO JAVIER                    10\n",
      "FLOREZ ACOSTA OSCAR ALBEIRO             9\n",
      "GARTNER VARGAS CARMIÑA                  9\n",
      "PEÑUELA MESA GUSTAVO ANTONIO            9\n",
      "LOPEZ CORDOBA CARLOS ALBERTO            8\n",
      "MURILLO RUIZ EDWIN ALBERTO              8\n",
      "ARCHBOLD JOSEPH ROSENDO RICARDO         7\n",
      "ARBOLEDA ECHAVARRIA JOHANA CATALINA     7\n",
      "ALZATE RESTREPO JUAN FERNANDO           6\n",
      "ZAPATA OCHOA JULIAN ANDRES              6\n",
      "BENJUMEA GUTIERREZ DORA MARIA           6\n",
      "RUIZ MACHADO WILSON ALONSO              6\n",
      "SIERRA GALLEGO GERMAN                   6\n",
      "HERNANDEZ BUSTAMANTE DIANA LUCIA        5\n",
      "CARDONA SANCHEZ DIANA PATRICIA          5\n",
      "GALLARDO CABRERA CECILIA                5\n",
      "GUZMAN DUQUE FERNANDO LEON              5\n",
      "BLAIR TRUJILLO SILVIA VICTORIA          5\n",
      "OROZCO LOPEZ VICTOR HUGO                5\n",
      "RESTREPO CARDENAS JOHANS                5\n",
      "OSTOS ORTIZ CARLOS EDUARDO              5\n",
      "ALZATE GUARIN FERNANDO ALVEIRO          4\n",
      "GARCES TRUJILLO LUIS JAVIER             4\n",
      "PABON VIDAL ADRIANA LUCIA               4\n",
      "QUIÑONES FLETCHER WISTON WILLIAM        4\n",
      "HINCAPIE PALACIO BEATRIZ OMAIRA         3\n",
      "AGUDELO SANTAMARIA JOHN RAMIRO          3\n",
      "FLOREZ MOLINA MARIA TERESA              3\n",
      "SIERRA GARCIA MARIA LIGIA               3\n",
      "HESS MICHAEL                            3\n",
      "MEJIA GALLON AMANDA INES                3\n",
      "MOYANO GLORIA ESPERANZA                 3\n",
      "MUÑOZ ACEVEDO JUAN CARLOS               3\n",
      "BALCAZAR MORALES NORMAN                 3\n",
      "MARQUEZ FERNANDEZ DIANA MARGARITA       3\n",
      "ARROYAVE POSADA CARLOS ENRIQUE          2\n",
      "RIOS ESTEPA RIGOBERTO                   2\n",
      "VALLEJO OCAMPO JOHN JAIRO               2\n",
      "SANCHEZ PINO ASTRID ELENA               2\n",
      "ROSERO BURBANO FERNANDO YONI            2\n",
      "ROJAS LOPEZ MAURICIO                    2\n",
      "RESTREPO MUNERA LUZ MARINA              2\n",
      "MORENO ARIZA LUIS FERNANDO              2\n",
      "CARMONA FONSECA JAIME DE JESUS          2\n",
      "PEÑA SERNA CAROLINA                     2\n",
      "HOYOS AYALA DORA ANGELA                 2\n",
      "MONTOYA ESCOBAR ALEJANDRO               2\n",
      "ARANGO VALENCIA VICTOR HUGO             1\n",
      "CIRO GOMEZ GELMY LUZ                    1\n",
      "CONTRERAS CALDERON JOSE DEL CARMEN      1\n",
      "CARRILLO BONILLA LINA MARIA             1\n",
      "CORREDOR RODRIGUEZ MAURICIO             1\n",
      "AMELL ARRIETA ANDRES ADOLFO             1\n",
      "ARBOLEDA ECHAVARRIA CAROLINA            1\n",
      "BOTERO GARCES JORGE HUMBERTO            1\n",
      "ATEHORTUA GARCES LUCIA                  1\n",
      "ALZATE CANO MARIA VICTORIA              1\n",
      "ZULUAGA IDARRAGA LINA MARCELA           1\n",
      "ESTRADA GOMEZ SEBASTIAN                 1\n",
      "GARCIA MONTOYA GISELA MARIA             1\n",
      "ZAPATA PEREZ RUBEN EMILIO               1\n",
      "VILLA HOLGUIN AIDA LUZ                  1\n",
      "VALVERDE LEGARDA JULIAN ANTONIO         1\n",
      "TOBON GOMEZ JORGE ENRIQUE               1\n",
      "RUGELES LOPEZ MARIA TERESA              1\n",
      "RESTREPO VASQUEZ GLORIA MARIA           1\n",
      "RESTREPO BETANCUR LUIS FERNANDO         1\n",
      "RAMIREZ VASQUEZ NICOLAS FERNANDO        1\n",
      "RAMIREZ PINEDA JOSE ROBINSON            1\n",
      "PINO RODRIGUEZ NANCY JOHANNA            1\n",
      "PALACIO OLARTE RUBEN ALBERTO            1\n",
      "ORTIZ GONZALEZ CARLOS JULIO             1\n",
      "MONTOYA GOMEZ NILTON EDU                1\n",
      "MOLINA PEREZ FRANCISCO JOSE             1\n",
      "MEJIA GIRALDO JUAN CAMILO               1\n",
      "ZARRAZOLA RIVERA EDWIN DE JESUS         1\n",
      "MCEWEN OCHOA JUAN GUILLERMO             1\n",
      "MAZO ZULUAGA JOHANN                     1\n",
      "MALDONADO CELIS MARIA ELENA             1\n",
      "JIMENEZ QUICENO JUDY NATALIA            1\n",
      "HERNANDEZ RUIZ ORVILLE                  1\n",
      "GUEVARA BRAVO CARLOS ALBERTO            1\n",
      "GIL GONZALEZ JESUS HUMBERTO             1\n",
      "ACIN MARTINEZ SERGIO                    1\n",
      "Name: full_name, dtype: int64\n",
      "========================================\n",
      "Departamento de Matemáticas\n",
      "========================================\n",
      "full_name\n",
      "NAGAR DAYA KRISHNA                      62\n",
      "RADA RINCON JUAN PABLO                  32\n",
      "CRUZ RODES ROBERTO                      22\n",
      "GIRALDO SALAZAR HERNAN ALONSO           18\n",
      "MONTEGRANARIO RIASCOS HEBERT            12\n",
      "ZARRAZOLA RIVERA EDWIN DE JESUS         10\n",
      "RESTREPO LOPEZ RICARDO                   9\n",
      "VELASQUEZ OSSA RAUL EDUARDO              7\n",
      "SANCHEZ HERRERA LUZ ESTELA DEL SOCOR     7\n",
      "LOPEZ REYES NANCY                        7\n",
      "JARAMILLO LOPEZ CARLOS MARIO             6\n",
      "JERBASHIAN ARMEN                         6\n",
      "MARIN ARANGO CARLOS ALBERTO              6\n",
      "ROLDAN CORREA ALEJANDRO                  5\n",
      "OROZCO CASTAÑEDA JOHANNA MARCELA         5\n",
      "AGUDELO AGUDELO JUAN CARLOS              4\n",
      "SALDARRIAGA ORTIZ OMAR DARIO             3\n",
      "GOMEZ ROMERO ARMANDO DEL CRISTO          3\n",
      "CASTAÑEDA LOPEZ MARIA EUGENIA            3\n",
      "ECHEVERRI DELGADO LUIS FERNANDO          3\n",
      "VALENCIA HENAO LEON ALEXANDER            2\n",
      "BEDOYA VALENCIA DANILO                   2\n",
      "CARDEÑO ACERO LILIAM                     2\n",
      "RODINO MONTOYA MARY LUZ                  2\n",
      "DUQUE ECHEVERRI CARLOS ALBERTO           2\n",
      "MORAN VASQUEZ RAUL ALEJANDRO             1\n",
      "BENITEZ BABILONIA LUIS ENRIQUE           1\n",
      "CASTELLANOS RAMOS JAIRO ELOY             1\n",
      "CHICA PEREZ VICTOR HUGO                  1\n",
      "GALLEGO GONZALEZ EDISSON                 1\n",
      "OTALVARO TAMAYO LEON FELIPE              1\n",
      "SANTAMARIA GALVIS ANDRES DAVID           1\n",
      "GOMEZ GONZALEZ FABER ALBERTO             1\n",
      "RADA MORA ERIKA ALEJANDRA                1\n",
      "PIEDRAHITA HINCAPIE ALEJANDRO            1\n",
      "VELEZ MARULANDA JOSE ALBERTO             1\n",
      "MEDINA PEREA ALIRIO ALBERTO              1\n",
      "Name: full_name, dtype: int64\n"
     ]
    }
   ],
   "source": [
    "for k in dpto:\n",
    "    print('='*40)\n",
    "    print(k)\n",
    "    print('='*40)\n",
    "    print( extract_key(dfinst[k],'full_name') )"
   ]
  },
  {
   "cell_type": "markdown",
   "metadata": {},
   "source": [
    "## TODO"
   ]
  },
  {
   "cell_type": "code",
   "execution_count": null,
   "metadata": {},
   "outputs": [],
   "source": [
    "BUG: 10178,10184"
   ]
  },
  {
   "cell_type": "code",
   "execution_count": 320,
   "metadata": {},
   "outputs": [
    {
     "data": {
      "text/html": [
       "<div>\n",
       "<style scoped>\n",
       "    .dataframe tbody tr th:only-of-type {\n",
       "        vertical-align: middle;\n",
       "    }\n",
       "\n",
       "    .dataframe tbody tr th {\n",
       "        vertical-align: top;\n",
       "    }\n",
       "\n",
       "    .dataframe thead th {\n",
       "        text-align: right;\n",
       "    }\n",
       "</style>\n",
       "<table border=\"1\" class=\"dataframe\">\n",
       "  <thead>\n",
       "    <tr style=\"text-align: right;\">\n",
       "      <th></th>\n",
       "      <th>AU</th>\n",
       "      <th>authors_WOS</th>\n",
       "      <th>C1</th>\n",
       "      <th>UDEA_authors</th>\n",
       "    </tr>\n",
       "  </thead>\n",
       "  <tbody>\n",
       "    <tr>\n",
       "      <th>0</th>\n",
       "      <td>Carvajal-Carmona, LG\\nOphoff, R\\nService, S\\nSoto, I\\nHartiala, J\\nBedoya, G\\nOspina, J\\nReus, V\\nFreimer, NB\\nRuiz-Linares, A\\n</td>\n",
       "      <td>[]</td>\n",
       "      <td>UCL, Dept Biol, Galton Lab, London, England.\\nUniv Antioquia, Fac Med, Mol Genet Lab, Antioquia, Colombia.\\nUniv Calif Los Angeles, Ctr Neurobehav Genet, Los Angeles, CA USA.\\nUniv Antioquia, Fac Med, Dept Psiquiat, Antioquia, Colombia.\\nUniv Calif San Francisco, Dept Psychiat, San Francisco, CA 94143 USA.\\n</td>\n",
       "      <td>[{'NOMBRES': 'Ivan Dario', 'CÉDULA': 71777067.0, 'INICIALES': 'I. D.', 'PRIMER APELLIDO': 'Soto', 'full_name': 'SOTO CALDERON IVAN DARIO', 'GRUPO': 'GAMMA: Genética, Mejoramiento y Modelación Animal, ', 'FACULTAD': 'Facultad de Ciencias Exactas y Naturales', 'SEGUNDO APELLIDO': 'Calderon', 'NOMBRE COMPLETO': 'Ivan Dario Soto Calderon', 'DEPARTAMENTO': 'Instituto de Biología'}]</td>\n",
       "    </tr>\n",
       "    <tr>\n",
       "      <th>1</th>\n",
       "      <td>Bortolini, MC\\nSalzano, FM\\nBau, CHD\\nLayrisse, Z\\nPetzl-Erler, ML\\nTsuneto, LT\\nHill, K\\nHurtado, AM\\nCastro-de-Guerra, D\\nBedoya, G\\nRutz-Linares, A\\n</td>\n",
       "      <td>[]</td>\n",
       "      <td>UCL, Dept Biol, Galton Lab, London NW1 2HE, England.\\nUniv Fed Rio Grande do Sul, Dept Genet, Porto Alegre, RS, Brazil.\\nInst Venezolano Invest Cient, Caracas, Venezuela.\\nUniv Fed Parana, Dept Genet, BR-80060000 Curitiba, Parana, Brazil.\\nUniv New Mexico, Dept Anthropol, Albuquerque, NM 87131 USA.\\nUniv Antioquia, Lab Genet Mol, Medellin, Colombia.\\n</td>\n",
       "      <td>[{'WOS_author': ['Bedoya, G'], 'full_name': 'BEDOYA BERRIO GABRIEL DE JESUS', 'NOMBRE COMPLETO': 'Gabriel De Jesus Bedoya Berrio', 'NOMBRES': 'Gabriel Jesus', 'CÉDULA': 8342412.0, 'INICIALES': 'G. J.', 'PRIMER APELLIDO': 'Bedoya', 'FACULTAD': 'Facultad de Ciencias Exactas y Naturales', 'GRUPO': 'Genética Molecular (GENMOL)', 'WOS_affiliation': ['Univ Antioquia, Lab Genet Mol, Medellin, Colombia.'], 'SEGUNDO APELLIDO': 'Berrio', 'DEPARTAMENTO': 'Instituto de Biología'}]</td>\n",
       "    </tr>\n",
       "    <tr>\n",
       "      <th>2</th>\n",
       "      <td>Agudelo-Suárez, Andrés\\nRonda-Pérez, Elena\\nGil-González, Diana\\nVives-Cases, Carmen\\n</td>\n",
       "      <td>[]</td>\n",
       "      <td>Univ Antioquia, Colombia.\\n[Agudelo-Suárez, Andrés; Ronda-Pérez, Elena; Gil-González, Diana; Vives-Cases, Carmen] Universidad de Alicante, Spain.\\n</td>\n",
       "      <td>[{'full_name': 'AGUDELO SUAREZ ANDRES ALONSO', 'SEGUNDO APELLIDO': 'Suarez', 'INICIALES': 'A. A.', 'PRIMER APELLIDO': 'Agudelo', 'NOMBRES': 'Andres Alonso'}]</td>\n",
       "    </tr>\n",
       "  </tbody>\n",
       "</table>\n",
       "</div>"
      ],
      "text/plain": [
       "                                                                                                                                                         AU  \\\n",
       "0                          Carvajal-Carmona, LG\\nOphoff, R\\nService, S\\nSoto, I\\nHartiala, J\\nBedoya, G\\nOspina, J\\nReus, V\\nFreimer, NB\\nRuiz-Linares, A\\n   \n",
       "1  Bortolini, MC\\nSalzano, FM\\nBau, CHD\\nLayrisse, Z\\nPetzl-Erler, ML\\nTsuneto, LT\\nHill, K\\nHurtado, AM\\nCastro-de-Guerra, D\\nBedoya, G\\nRutz-Linares, A\\n   \n",
       "2                                                                    Agudelo-Suárez, Andrés\\nRonda-Pérez, Elena\\nGil-González, Diana\\nVives-Cases, Carmen\\n   \n",
       "\n",
       "  authors_WOS  \\\n",
       "0          []   \n",
       "1          []   \n",
       "2          []   \n",
       "\n",
       "                                                                                                                                                                                                                                                                                                                                                                  C1  \\\n",
       "0                                              UCL, Dept Biol, Galton Lab, London, England.\\nUniv Antioquia, Fac Med, Mol Genet Lab, Antioquia, Colombia.\\nUniv Calif Los Angeles, Ctr Neurobehav Genet, Los Angeles, CA USA.\\nUniv Antioquia, Fac Med, Dept Psiquiat, Antioquia, Colombia.\\nUniv Calif San Francisco, Dept Psychiat, San Francisco, CA 94143 USA.\\n   \n",
       "1  UCL, Dept Biol, Galton Lab, London NW1 2HE, England.\\nUniv Fed Rio Grande do Sul, Dept Genet, Porto Alegre, RS, Brazil.\\nInst Venezolano Invest Cient, Caracas, Venezuela.\\nUniv Fed Parana, Dept Genet, BR-80060000 Curitiba, Parana, Brazil.\\nUniv New Mexico, Dept Anthropol, Albuquerque, NM 87131 USA.\\nUniv Antioquia, Lab Genet Mol, Medellin, Colombia.\\n   \n",
       "2                                                                                                                                                                                                                Univ Antioquia, Colombia.\\n[Agudelo-Suárez, Andrés; Ronda-Pérez, Elena; Gil-González, Diana; Vives-Cases, Carmen] Universidad de Alicante, Spain.\\n   \n",
       "\n",
       "                                                                                                                                                                                                                                                                                                                                                                                                                                                                                UDEA_authors  \n",
       "0                                                                                                [{'NOMBRES': 'Ivan Dario', 'CÉDULA': 71777067.0, 'INICIALES': 'I. D.', 'PRIMER APELLIDO': 'Soto', 'full_name': 'SOTO CALDERON IVAN DARIO', 'GRUPO': 'GAMMA: Genética, Mejoramiento y Modelación Animal, ', 'FACULTAD': 'Facultad de Ciencias Exactas y Naturales', 'SEGUNDO APELLIDO': 'Calderon', 'NOMBRE COMPLETO': 'Ivan Dario Soto Calderon', 'DEPARTAMENTO': 'Instituto de Biología'}]  \n",
       "1  [{'WOS_author': ['Bedoya, G'], 'full_name': 'BEDOYA BERRIO GABRIEL DE JESUS', 'NOMBRE COMPLETO': 'Gabriel De Jesus Bedoya Berrio', 'NOMBRES': 'Gabriel Jesus', 'CÉDULA': 8342412.0, 'INICIALES': 'G. J.', 'PRIMER APELLIDO': 'Bedoya', 'FACULTAD': 'Facultad de Ciencias Exactas y Naturales', 'GRUPO': 'Genética Molecular (GENMOL)', 'WOS_affiliation': ['Univ Antioquia, Lab Genet Mol, Medellin, Colombia.'], 'SEGUNDO APELLIDO': 'Berrio', 'DEPARTAMENTO': 'Instituto de Biología'}]  \n",
       "2                                                                                                                                                                                                                                                                                                                              [{'full_name': 'AGUDELO SUAREZ ANDRES ALONSO', 'SEGUNDO APELLIDO': 'Suarez', 'INICIALES': 'A. A.', 'PRIMER APELLIDO': 'Agudelo', 'NOMBRES': 'Andres Alonso'}]  "
      ]
     },
     "execution_count": 320,
     "metadata": {},
     "output_type": "execute_result"
    }
   ],
   "source": [
    "aw=UDEA[UDEA['authors_WOS'].apply(len)==0][['AU','authors_WOS','C1','UDEA_authors']].reset_index(drop=True)\n",
    "aw[:3]"
   ]
  },
  {
   "cell_type": "markdown",
   "metadata": {},
   "source": [
    "Strategy: \n",
    "* From `full name` in `UDEA_authors` column creates `WOS_author` list.\n",
    "* Check if some author in `C1` column is in that list\n",
    "* Creates keys:values for keys: `WOS_author` and `[WOS_]affiliations` in both `authors_WOS` and `UDEA_authors`\n",
    "* Assign affiliation from `C1` if not ambiguity or left a generic one: `affil`\n",
    "* Assign a tag to `authors_WOS` to specify the origin, e.g, {'origin':'AU'}"
   ]
  },
  {
   "cell_type": "code",
   "execution_count": 306,
   "metadata": {},
   "outputs": [],
   "source": [
    "from wos_sci_scp_ptj_ctr import *"
   ]
  },
  {
   "cell_type": "code",
   "execution_count": 291,
   "metadata": {},
   "outputs": [],
   "source": [
    "import numpy as np"
   ]
  },
  {
   "cell_type": "code",
   "execution_count": 355,
   "metadata": {},
   "outputs": [],
   "source": [
    "def AU_to_author_WOS(wos_au,au_info,c1_old,affil='Univ Antioquia'):\n",
    "    AUWOS=False\n",
    "    AFFIL=False\n",
    "    wn=wos_names_list(au_info)\n",
    "    wn=wn+[ n.replace('. ','.').replace('.','') \n",
    "            for n in wn if n.find('.')>-1]\n",
    "    mtch=np.intersect1d(wos_au.strip().split('\\n'),wn)\n",
    "    if len(mtch)==0:\n",
    "        wos_au=unidecode.unidecode(wos_au)\n",
    "        mtch=np.intersect1d(wos_au.strip().split('\\n'),wn)\n",
    "    if len(mtch)==1:\n",
    "        AUWOS=True\n",
    "        affs=[ c1 for c1 in c1_old.strip().split('\\n') \n",
    "                 if c1.find(affil)>-1]\n",
    "        #Cases:\n",
    "        # 1. Single match\n",
    "        if len(affs)==1:\n",
    "            AFFIL=True\n",
    "            aff=affs\n",
    "        # 2. One of the very similar matches\n",
    "        # 3. Ordered mathc\n",
    "        \n",
    "    auwos={}    \n",
    "    if AUWOS:\n",
    "        auwos['WOS_author']=mtch[0]\n",
    "        auwos['origin']='from AU+UDEA_authors'\n",
    "        if AFFIL:\n",
    "            auwos['affiliation']=aff\n",
    "        else:\n",
    "            auwos['affiliation']=[affil]\n",
    "    return auwos"
   ]
  },
  {
   "cell_type": "code",
   "execution_count": 344,
   "metadata": {},
   "outputs": [
    {
     "data": {
      "text/plain": [
       "'Agudelo-Suárez, Andrés\\nRonda-Pérez, Elena\\nGil-González, Diana\\nVives-Cases, Carmen\\n'"
      ]
     },
     "execution_count": 344,
     "metadata": {},
     "output_type": "execute_result"
    }
   ],
   "source": [
    "aw.AU.loc[i]"
   ]
  },
  {
   "cell_type": "code",
   "execution_count": 357,
   "metadata": {},
   "outputs": [
    {
     "data": {
      "text/plain": [
       "{}"
      ]
     },
     "execution_count": 357,
     "metadata": {},
     "output_type": "execute_result"
    }
   ],
   "source": [
    "i=3\n",
    "# creates a copy of dict\n",
    "auudea=dict(aw['UDEA_authors'].loc[i][0])\n",
    "auwos=AU_to_author_WOS( aw.AU.loc[i],auudea,aw['C1'].loc[i])\n",
    "auwos"
   ]
  },
  {
   "cell_type": "code",
   "execution_count": 358,
   "metadata": {
    "scrolled": true
   },
   "outputs": [
    {
     "data": {
      "text/plain": [
       "'Malafronte, N\\nCotugno, R\\nJimenez, N\\nDe Leo, M\\nBraca, A\\nDe Tommasi, N\\n'"
      ]
     },
     "execution_count": 358,
     "metadata": {},
     "output_type": "execute_result"
    }
   ],
   "source": [
    "wosau=aw.AU.loc[i]\n",
    "#wosau=unidecode.unidecode(wosau)\n",
    "wosau"
   ]
  },
  {
   "cell_type": "code",
   "execution_count": 349,
   "metadata": {},
   "outputs": [
    {
     "data": {
      "text/plain": [
       "['Agudelo, Andres Alonso',\n",
       " 'Agudelo, Andres',\n",
       " 'Agudelo, Alonso',\n",
       " 'Agudelo, A. A.',\n",
       " 'Agudelo, A.',\n",
       " 'Agudelo, Andres A.',\n",
       " 'Agudelo, A.',\n",
       " 'Agudelo-Suarez, Andres Alonso',\n",
       " 'Agudelo-Suarez, Andres',\n",
       " 'Agudelo-Suarez, Alonso',\n",
       " 'Agudelo-Suarez, A. A.',\n",
       " 'Agudelo-Suarez, A.',\n",
       " 'Agudelo-Suarez, Andres A.',\n",
       " 'Agudelo-Suarez, A.',\n",
       " 'Agudelo, AA',\n",
       " 'Agudelo, A',\n",
       " 'Agudelo, Andres A',\n",
       " 'Agudelo, A',\n",
       " 'Agudelo-Suarez, AA',\n",
       " 'Agudelo-Suarez, A',\n",
       " 'Agudelo-Suarez, Andres A',\n",
       " 'Agudelo-Suarez, A']"
      ]
     },
     "execution_count": 349,
     "metadata": {},
     "output_type": "execute_result"
    }
   ],
   "source": [
    "au_info=auudea\n",
    "wn=wos_names_list(au_info)\n",
    "wn=wn+[ n.replace('. ','.').replace('.','') \n",
    "            for n in wn if n.find('.')>-1]\n",
    "wn"
   ]
  },
  {
   "cell_type": "code",
   "execution_count": 340,
   "metadata": {
    "scrolled": true
   },
   "outputs": [
    {
     "data": {
      "text/plain": [
       "'Univ Antioquia, Colombia.\\n[Agudelo-Suárez, Andrés; Ronda-Pérez, Elena; Gil-González, Diana; Vives-Cases, Carmen] Universidad de Alicante, Spain.\\n'"
      ]
     },
     "execution_count": 340,
     "metadata": {},
     "output_type": "execute_result"
    }
   ],
   "source": [
    "c1_old=aw.C1.loc[i]\n",
    "c1_old"
   ]
  },
  {
   "cell_type": "code",
   "execution_count": 341,
   "metadata": {},
   "outputs": [
    {
     "data": {
      "text/plain": [
       "['Univ Antioquia, Colombia.']"
      ]
     },
     "execution_count": 341,
     "metadata": {},
     "output_type": "execute_result"
    }
   ],
   "source": [
    "[ c1 for c1 in c1_old.strip().split('\\n') \n",
    "                 if c1.find(affil)>-1]"
   ]
  },
  {
   "cell_type": "code",
   "execution_count": 316,
   "metadata": {},
   "outputs": [],
   "source": [
    "if auwos:\n",
    "    if auudea.get('WOS_author'):\n",
    "        if auwos['WOS_author'] in auudea['WOS_author']:\n",
    "            auudea['WOS_author']=auudea['WOS_author']+[auwos['WOS_author']]\n",
    "            auudea['WOS_affiliation']=auudea['WOS_affiliation']+auwos['affiliation']\n",
    "    else:\n",
    "        auudea['WOS_author']=[auwos['WOS_author']]\n",
    "        auudea['WOS_affiliation']=auwos['affiliation']"
   ]
  },
  {
   "cell_type": "code",
   "execution_count": 325,
   "metadata": {},
   "outputs": [
    {
     "data": {
      "text/plain": [
       "{'CÉDULA': 8342412.0,\n",
       " 'DEPARTAMENTO': 'Instituto de Biología',\n",
       " 'FACULTAD': 'Facultad de Ciencias Exactas y Naturales',\n",
       " 'GRUPO': 'Genética Molecular (GENMOL)',\n",
       " 'INICIALES': 'G. J.',\n",
       " 'NOMBRE COMPLETO': 'Gabriel De Jesus Bedoya Berrio',\n",
       " 'NOMBRES': 'Gabriel Jesus',\n",
       " 'PRIMER APELLIDO': 'Bedoya',\n",
       " 'SEGUNDO APELLIDO': 'Berrio',\n",
       " 'WOS_affiliation': ['Univ Antioquia, Lab Genet Mol, Medellin, Colombia.'],\n",
       " 'WOS_author': ['Bedoya, G'],\n",
       " 'full_name': 'BEDOYA BERRIO GABRIEL DE JESUS'}"
      ]
     },
     "execution_count": 325,
     "metadata": {},
     "output_type": "execute_result"
    }
   ],
   "source": [
    "auudea"
   ]
  },
  {
   "cell_type": "code",
   "execution_count": 236,
   "metadata": {},
   "outputs": [],
   "source": [
    "affil='Univ Antioquia'\n",
    "i=1\n",
    "c1_old=aw.C1.loc[i]"
   ]
  },
  {
   "cell_type": "code",
   "execution_count": 240,
   "metadata": {},
   "outputs": [
    {
     "data": {
      "text/plain": [
       "['Univ Antioquia, Lab Genet Mol, Medellin, Colombia.']"
      ]
     },
     "execution_count": 240,
     "metadata": {},
     "output_type": "execute_result"
    }
   ],
   "source": [
    "[ c1 for c1 in c1_old.strip().split('\\n') if c1.find(affil)>-1]"
   ]
  },
  {
   "cell_type": "code",
   "execution_count": 216,
   "metadata": {},
   "outputs": [
    {
     "data": {
      "text/plain": [
       "{'CÉDULA': 8342412.0,\n",
       " 'DEPARTAMENTO': 'Instituto de Biología',\n",
       " 'FACULTAD': 'Facultad de Ciencias Exactas y Naturales',\n",
       " 'GRUPO': 'Genética Molecular (GENMOL)',\n",
       " 'INICIALES': 'G. J.',\n",
       " 'NOMBRE COMPLETO': 'Gabriel De Jesus Bedoya Berrio',\n",
       " 'NOMBRES': 'Gabriel Jesus',\n",
       " 'PRIMER APELLIDO': 'Bedoya',\n",
       " 'SEGUNDO APELLIDO': 'Berrio',\n",
       " 'full_name': 'BEDOYA BERRIO GABRIEL DE JESUS'}"
      ]
     },
     "execution_count": 216,
     "metadata": {},
     "output_type": "execute_result"
    }
   ],
   "source": [
    "aw['UDEA_authors'].loc[i][0]"
   ]
  },
  {
   "cell_type": "code",
   "execution_count": 215,
   "metadata": {},
   "outputs": [
    {
     "data": {
      "text/plain": [
       "['Bedoya, Gabriel Jesus',\n",
       " 'Bedoya, Gabriel',\n",
       " 'Bedoya, Jesus',\n",
       " 'Bedoya, G. J.',\n",
       " 'Bedoya, G.',\n",
       " 'Bedoya, Gabriel J.',\n",
       " 'Bedoya, J.',\n",
       " 'Bedoya-Berrio, Gabriel Jesus',\n",
       " 'Bedoya-Berrio, Gabriel',\n",
       " 'Bedoya-Berrio, Jesus',\n",
       " 'Bedoya-Berrio, G. J.',\n",
       " 'Bedoya-Berrio, G.',\n",
       " 'Bedoya-Berrio, Gabriel J.',\n",
       " 'Bedoya-Berrio, J.',\n",
       " 'Bedoya, GJ',\n",
       " 'Bedoya, G',\n",
       " 'Bedoya, Gabriel J',\n",
       " 'Bedoya, J',\n",
       " 'Bedoya-Berrio, GJ',\n",
       " 'Bedoya-Berrio, G',\n",
       " 'Bedoya-Berrio, Gabriel J',\n",
       " 'Bedoya-Berrio, J']"
      ]
     },
     "execution_count": 215,
     "metadata": {},
     "output_type": "execute_result"
    }
   ],
   "source": [
    "wn=wos_names_list(aw['UDEA_authors'].loc[i][0])\n",
    "wn=wn+[ n.replace('. ','.').replace('.','') \n",
    "   for n in wn if n.find('.')>-1]\n",
    "wn"
   ]
  },
  {
   "cell_type": "code",
   "execution_count": 209,
   "metadata": {},
   "outputs": [
    {
     "data": {
      "text/plain": [
       "['Bortolini, MC',\n",
       " 'Salzano, FM',\n",
       " 'Bau, CHD',\n",
       " 'Layrisse, Z',\n",
       " 'Petzl-Erler, ML',\n",
       " 'Tsuneto, LT',\n",
       " 'Hill, K',\n",
       " 'Hurtado, AM',\n",
       " 'Castro-de-Guerra, D',\n",
       " 'Bedoya, G',\n",
       " 'Rutz-Linares, A']"
      ]
     },
     "execution_count": 209,
     "metadata": {},
     "output_type": "execute_result"
    }
   ],
   "source": []
  },
  {
   "cell_type": "code",
   "execution_count": 210,
   "metadata": {},
   "outputs": [
    {
     "data": {
      "text/plain": [
       "array(['Bedoya, G'], dtype='<U28')"
      ]
     },
     "execution_count": 210,
     "metadata": {},
     "output_type": "execute_result"
    }
   ],
   "source": [
    "np.intersect1d(aw.AU.loc[i].strip().split('\\n'),wn)"
   ]
  },
  {
   "cell_type": "code",
   "execution_count": null,
   "metadata": {},
   "outputs": [],
   "source": []
  }
 ],
 "metadata": {
  "colab": {
   "include_colab_link": true,
   "name": "merge.ipynb",
   "provenance": [],
   "version": "0.3.2"
  },
  "kernelspec": {
   "display_name": "Python 3",
   "language": "python",
   "name": "python3"
  },
  "language_info": {
   "codemirror_mode": {
    "name": "ipython",
    "version": 3
   },
   "file_extension": ".py",
   "mimetype": "text/x-python",
   "name": "python",
   "nbconvert_exporter": "python",
   "pygments_lexer": "ipython3",
   "version": "3.5.3"
  },
  "latex_envs": {
   "LaTeX_envs_menu_present": true,
   "autoclose": false,
   "autocomplete": true,
   "bibliofile": "biblio.bib",
   "cite_by": "apalike",
   "current_citInitial": 1,
   "eqLabelWithNumbers": true,
   "eqNumInitial": 1,
   "hotkeys": {
    "equation": "Ctrl-E",
    "itemize": "Ctrl-I"
   },
   "labels_anchors": false,
   "latex_user_defs": false,
   "report_style_numbering": false,
   "user_envs_cfg": false
  }
 },
 "nbformat": 4,
 "nbformat_minor": 2
}
