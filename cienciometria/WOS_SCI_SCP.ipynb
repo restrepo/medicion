{
 "cells": [
  {
   "cell_type": "markdown",
   "metadata": {
    "colab_type": "text",
    "id": "view-in-github"
   },
   "source": [
    "<a href=\"https://colab.research.google.com/github/restrepo/medicion/blob/master/cienciometria/WOS_SCI_SCP.ipynb\" target=\"_parent\"><img src=\"https://colab.research.google.com/assets/colab-badge.svg\" alt=\"Open In Colab\"/></a>"
   ]
  },
  {
   "cell_type": "markdown",
   "metadata": {
    "colab_type": "text",
    "id": "aDnqho-CsEwj"
   },
   "source": [
    "# WOS+SCI+SCP\n",
    "Merge the bibliographic datasets for Web of Scienca, Scielo and Scopus of the scientific articles of Universidad de Antioquia\n",
    "\n",
    "For details see [merge.ipynb in Colaboratory](https://colab.research.google.com/github/restrepo/medicion/blob/master/cienciometria/merge.ipynb)"
   ]
  },
  {
   "cell_type": "code",
   "execution_count": 1,
   "metadata": {
    "colab": {
     "base_uri": "https://localhost:8080/",
     "height": 107
    },
    "colab_type": "code",
    "id": "lOGedSKR89du",
    "outputId": "1322e62c-896c-43ca-b543-bf9a2243e7df"
   },
   "outputs": [],
   "source": [
    "#!git clone https://github.com/restrepo/WOSplus.git"
   ]
  },
  {
   "cell_type": "code",
   "execution_count": 7,
   "metadata": {
    "colab": {},
    "colab_type": "code",
    "id": "JJUmy1YqAszI"
   },
   "outputs": [],
   "source": [
    "import os\n",
    "VERSION='NEW'\n",
    "if os.getcwd()=='/content':\n",
    "    if VERSION=='OLD':\n",
    "        !pip install openpyxl xlrd wosplus==0.2.7  > /dev/null\n",
    "    else:\n",
    "        !pip install openpyxl xlrd wosplus > /dev/null"
   ]
  },
  {
   "cell_type": "code",
   "execution_count": 1,
   "metadata": {
    "colab": {},
    "colab_type": "code",
    "id": "nhk2ZGEDd2Yo"
   },
   "outputs": [],
   "source": [
    "import wosplus as wp\n",
    "import pandas as pd"
   ]
  },
  {
   "cell_type": "markdown",
   "metadata": {
    "colab_type": "text",
    "id": "JS7jD1f47JUN"
   },
   "source": [
    "##  Configure public links of  files in Google Drive\n",
    "* If it is a Google Spreadsheet the corresponding file is downloaded as CSV\n",
    "* If it is in excel or text file the file is downloaded  directly\n",
    "\n",
    "To define your  own labeled IDs for public google drive files edit the next cell:"
   ]
  },
  {
   "cell_type": "code",
   "execution_count": 2,
   "metadata": {
    "colab": {
     "base_uri": "https://localhost:8080/",
     "height": 35
    },
    "colab_type": "code",
    "id": "T4Rmd2dF7JUQ",
    "outputId": "39a5835e-1b38-48b6-f1a5-e9964c846123"
   },
   "outputs": [
    {
     "name": "stdout",
     "output_type": "stream",
     "text": [
      "Overwriting drive.cfg\n"
     ]
    }
   ],
   "source": [
    "%%writefile drive.cfg\n",
    "[FILES]Ç\n",
    "UDEA_WOS.xlsx       = 1px2IcrjCrkyu7t78Q7PAE5nzV_yuPt9t\n",
    "UDEA_SCI.xlsx       = 1pWMY5P72j0Ca6D-cm7dn7Q4TBGTs4PWV\n",
    "UDEA_SCP.xlsx       = 1ulCsFHzDiTmuL9TH8F58ulh0u8Z2ylKh\n",
    "UDEA_WOS_SCI_SCP.xlsx   = 1o9otmklgh-0w18Avv2ZTKOXr3vZbjwvj"
   ]
  },
  {
   "cell_type": "markdown",
   "metadata": {
    "colab_type": "text",
    "id": "Y0D0hEdAMXUX"
   },
   "source": [
    "##  Load data bases"
   ]
  },
  {
   "cell_type": "code",
   "execution_count": 3,
   "metadata": {
    "colab": {
     "base_uri": "https://localhost:8080/",
     "height": 35
    },
    "colab_type": "code",
    "id": "occzrIeCS7aQ",
    "outputId": "17b144f3-eef0-4c8a-c2b4-10c8fe55802c"
   },
   "outputs": [
    {
     "name": "stdout",
     "output_type": "stream",
     "text": [
      "WARNING: Biblio already has a \"Tipo\" column\n"
     ]
    }
   ],
   "source": [
    "UDEA=wp.wosplus('drive.cfg')\n",
    "tmp=UDEA.load_biblio('UDEA_WOS.xlsx') # creates WOS.WOS\n",
    "tmp=UDEA.load_biblio('UDEA_SCI.xlsx',prefix='SCI') # creates UDEA.SCI\n",
    "tmp=UDEA.load_biblio('UDEA_SCP.xlsx',prefix='SCP') # creates UDEA.SCP"
   ]
  },
  {
   "cell_type": "code",
   "execution_count": 4,
   "metadata": {
    "colab": {
     "base_uri": "https://localhost:8080/",
     "height": 35
    },
    "colab_type": "code",
    "id": "lnS28xGmuQp5",
    "outputId": "78867576-492b-4a9d-cefe-5330ed92863f"
   },
   "outputs": [
    {
     "name": "stdout",
     "output_type": "stream",
     "text": [
      "before merge: 24676\n"
     ]
    }
   ],
   "source": [
    "print('before merge: {}'.format( UDEA.WOS.shape[0]+UDEA.SCI.shape[0]+UDEA.SCP.shape[0] )  )"
   ]
  },
  {
   "cell_type": "markdown",
   "metadata": {
    "colab_type": "text",
    "id": "fXrtaoxQwETS"
   },
   "source": [
    "## Single step"
   ]
  },
  {
   "cell_type": "code",
   "execution_count": 17,
   "metadata": {
    "colab": {},
    "colab_type": "code",
    "id": "PQKjOi0DwB6C"
   },
   "outputs": [],
   "source": [
    "#UDEA.mergeall()"
   ]
  },
  {
   "cell_type": "markdown",
   "metadata": {
    "colab_type": "text",
    "id": "bQeZ2ys6wIZC"
   },
   "source": [
    "## Step by step"
   ]
  },
  {
   "cell_type": "markdown",
   "metadata": {
    "colab_type": "text",
    "id": "3yKWoYAMdm0J"
   },
   "source": [
    "### WOS+SCI"
   ]
  },
  {
   "cell_type": "code",
   "execution_count": 8,
   "metadata": {
    "colab": {
     "base_uri": "https://localhost:8080/",
     "height": 35
    },
    "colab_type": "code",
    "id": "VP1Uww90bZa-",
    "outputId": "446d3f59-7719-4388-eafa-7866ec68f5f8"
   },
   "outputs": [
    {
     "name": "stdout",
     "output_type": "stream",
     "text": [
      "................................................................................"
     ]
    },
    {
     "name": "stderr",
     "output_type": "stream",
     "text": [
      "/usr/local/lib/python3.5/dist-packages/pandas/core/frame.py:6211: FutureWarning: Sorting because non-concatenation axis is not aligned. A future version\n",
      "of pandas will change to not sort by default.\n",
      "\n",
      "To accept the future behavior, pass 'sort=False'.\n",
      "\n",
      "To retain the current behavior and silence the warning, pass 'sort=True'.\n",
      "\n",
      "  sort=sort)\n"
     ]
    }
   ],
   "source": [
    "if VERSION=='OLD':\n",
    "    UDEA.merge(left='WOS',right='SCI')\n",
    "else:\n",
    "    UDEA.merge(left=\"WOS\", right=\"SCI\", left_DOI=\"DI\", left_TI=\"TI\", \n",
    "          left_extra_journal=\"SO\", left_author=\"AU\", left_year=\"PY\",\n",
    "          right_DOI=\"SCI_DI\", right_TI=\"SCI_TI\", right_extra_journal=\"SCI_SO\", \n",
    "          right_author=\"SCI_AU\", right_year=\"SCI_PY\")"
   ]
  },
  {
   "cell_type": "markdown",
   "metadata": {
    "colab_type": "text",
    "id": "rDuqS3Muds3R"
   },
   "source": [
    "### WOS+SCI+SCP"
   ]
  },
  {
   "cell_type": "code",
   "execution_count": 9,
   "metadata": {
    "colab": {
     "base_uri": "https://localhost:8080/",
     "height": 35
    },
    "colab_type": "code",
    "id": "XbpNjT40u83f",
    "outputId": "67662da8-75cf-42e1-a795-b7b4ed11eec2"
   },
   "outputs": [
    {
     "name": "stdout",
     "output_type": "stream",
     "text": [
      "......................................................................."
     ]
    },
    {
     "name": "stderr",
     "output_type": "stream",
     "text": [
      "/usr/local/lib/python3.5/dist-packages/pandas/core/frame.py:6211: FutureWarning: Sorting because non-concatenation axis is not aligned. A future version\n",
      "of pandas will change to not sort by default.\n",
      "\n",
      "To accept the future behavior, pass 'sort=False'.\n",
      "\n",
      "To retain the current behavior and silence the warning, pass 'sort=True'.\n",
      "\n",
      "  sort=sort)\n"
     ]
    }
   ],
   "source": [
    "if VERSION=='OLD':\n",
    "    UDEA.merge(left='WOS_SCI',right='SCP')\n",
    "else:\n",
    "    UDEA.merge(left=\"WOS_SCI\", right=\"SCP\", left_DOI=\"DI\", left_TI=\"TI\", \n",
    "               left_extra_journal=\"SO\", left_author=\"AU\", left_year=\"PY\",\n",
    "               right_DOI=\"SCP_DOI\", right_TI=\"SCP_Title\", \n",
    "               right_extra_journal=\"SCP_Source title\", right_author=\"SCP_Authors\",\n",
    "               right_year=\"SCP_Year\")    "
   ]
  },
  {
   "cell_type": "code",
   "execution_count": 12,
   "metadata": {
    "colab": {
     "base_uri": "https://localhost:8080/",
     "height": 35
    },
    "colab_type": "code",
    "id": "_JTebbcwbeMm",
    "outputId": "054450ad-7a70-4918-86b9-ede899fc7fbe"
   },
   "outputs": [
    {
     "name": "stdout",
     "output_type": "stream",
     "text": [
      "after merge: 15726\n"
     ]
    }
   ],
   "source": [
    "print( 'after merge: {}'.format(UDEA.WOS_SCI_SCP.shape[0]))"
   ]
  },
  {
   "cell_type": "code",
   "execution_count": 13,
   "metadata": {
    "colab": {
     "base_uri": "https://localhost:8080/",
     "height": 35
    },
    "colab_type": "code",
    "id": "f5eF0y50vLrm",
    "outputId": "3e531958-3d29-44b5-fe77-e131beea72dc"
   },
   "outputs": [
    {
     "name": "stdout",
     "output_type": "stream",
     "text": [
      "after merge: 15726\n"
     ]
    }
   ],
   "source": [
    "print( 'after merge: {}'.format(UDEA.WOS_SCI_SCP.shape[0]))"
   ]
  },
  {
   "cell_type": "code",
   "execution_count": 0,
   "metadata": {
    "colab": {},
    "colab_type": "code",
    "id": "R503IhFiaFbA"
   },
   "outputs": [],
   "source": [
    "UDEA.WOS_SCI_SCP.to_excel('UDEA_WOS_SCI_SCP.xlsx',index=False)"
   ]
  },
  {
   "cell_type": "code",
   "execution_count": 0,
   "metadata": {
    "colab": {
     "base_uri": "https://localhost:8080/",
     "height": 35
    },
    "colab_type": "code",
    "id": "JOmIvNzrRyah",
    "outputId": "a651ebd9-3f2b-4dfa-b6f2-95152ef612b9"
   },
   "outputs": [
    {
     "name": "stdout",
     "output_type": "stream",
     "text": [
      "-rw-r--r-- 1 root root 65038948 Mar 21 22:02 UDEA_WOS_SCI_SCP.xlsx\n"
     ]
    }
   ],
   "source": [
    "ls -l UDEA_WOS_SCI_SCP.xlsx"
   ]
  },
  {
   "cell_type": "markdown",
   "metadata": {
    "colab_type": "text",
    "id": "Xlb-50u2a3ib"
   },
   "source": [
    "See the resulting Excel file by opening the side bar → Files → REFRESH and right click for Download upon the generated  \"'UDEA_WOS_SCI_SCP.xlsx'\" fille, or just check the corresponsing DataFrame:"
   ]
  },
  {
   "cell_type": "code",
   "execution_count": 0,
   "metadata": {
    "colab": {
     "base_uri": "https://localhost:8080/",
     "height": 156
    },
    "colab_type": "code",
    "id": "CN8Rl9rdfASF",
    "outputId": "fe0660cc-a971-41a8-8e35-0d2f74eef5ae"
   },
   "outputs": [
    {
     "data": {
      "text/html": [
       "<div>\n",
       "<style scoped>\n",
       "    .dataframe tbody tr th:only-of-type {\n",
       "        vertical-align: middle;\n",
       "    }\n",
       "\n",
       "    .dataframe tbody tr th {\n",
       "        vertical-align: top;\n",
       "    }\n",
       "\n",
       "    .dataframe thead th {\n",
       "        text-align: right;\n",
       "    }\n",
       "</style>\n",
       "<table border=\"1\" class=\"dataframe\">\n",
       "  <thead>\n",
       "    <tr style=\"text-align: right;\">\n",
       "      <th></th>\n",
       "      <th>AB</th>\n",
       "      <th>AF</th>\n",
       "      <th>AR</th>\n",
       "      <th>AU</th>\n",
       "      <th>BA</th>\n",
       "      <th>BE</th>\n",
       "      <th>BF</th>\n",
       "      <th>BN</th>\n",
       "      <th>BP</th>\n",
       "      <th>C1</th>\n",
       "      <th>...</th>\n",
       "      <th>SU</th>\n",
       "      <th>TC</th>\n",
       "      <th>TI</th>\n",
       "      <th>Tipo</th>\n",
       "      <th>U1</th>\n",
       "      <th>U2</th>\n",
       "      <th>UT</th>\n",
       "      <th>VL</th>\n",
       "      <th>WC</th>\n",
       "      <th>Z9</th>\n",
       "    </tr>\n",
       "  </thead>\n",
       "  <tbody>\n",
       "    <tr>\n",
       "      <th>568</th>\n",
       "      <td></td>\n",
       "      <td>Vasquez, E.\\nFranco, J. L.\\nOrrego, J. C.\\n</td>\n",
       "      <td></td>\n",
       "      <td>Vasquez, E\\nFranco, JL\\nOrrego, JC\\n</td>\n",
       "      <td></td>\n",
       "      <td></td>\n",
       "      <td></td>\n",
       "      <td></td>\n",
       "      <td>S126\\n</td>\n",
       "      <td>[Vasquez, E.; Franco, J. L.; Orrego, J. C.] Un...</td>\n",
       "      <td>...</td>\n",
       "      <td>3\\n</td>\n",
       "      <td>0.0</td>\n",
       "      <td>Subcutaneous (SCIg) Gammaglobulin for the Trea...</td>\n",
       "      <td>WOS</td>\n",
       "      <td>0.0</td>\n",
       "      <td>0.0</td>\n",
       "      <td>WOS:000347388100064\\n</td>\n",
       "      <td>33\\n</td>\n",
       "      <td>Immunology\\n</td>\n",
       "      <td>0.0</td>\n",
       "    </tr>\n",
       "  </tbody>\n",
       "</table>\n",
       "<p>1 rows × 154 columns</p>\n",
       "</div>"
      ],
      "text/plain": [
       "    AB                                           AF AR  \\\n",
       "568     Vasquez, E.\\nFranco, J. L.\\nOrrego, J. C.\\n      \n",
       "\n",
       "                                       AU BA BE BF BN      BP  \\\n",
       "568  Vasquez, E\\nFranco, JL\\nOrrego, JC\\n              S126\\n   \n",
       "\n",
       "                                                    C1 ...    SU   TC  \\\n",
       "568  [Vasquez, E.; Franco, J. L.; Orrego, J. C.] Un... ...   3\\n  0.0   \n",
       "\n",
       "                                                    TI Tipo   U1   U2  \\\n",
       "568  Subcutaneous (SCIg) Gammaglobulin for the Trea...  WOS  0.0  0.0   \n",
       "\n",
       "                        UT    VL            WC   Z9  \n",
       "568  WOS:000347388100064\\n  33\\n  Immunology\\n  0.0  \n",
       "\n",
       "[1 rows x 154 columns]"
      ]
     },
     "execution_count": 14,
     "metadata": {
      "tags": []
     },
     "output_type": "execute_result"
    }
   ],
   "source": [
    "UDEA.WOS_SCI_SCP.sample()"
   ]
  },
  {
   "cell_type": "code",
   "execution_count": 14,
   "metadata": {
    "colab": {},
    "colab_type": "code",
    "id": "ju7yZPvOrT8V"
   },
   "outputs": [],
   "source": [
    "UDEA.WOS_SCI_SCP.to_json('UDEA_WOS_SCI_SCP.json')#.gz',compression='gzip')"
   ]
  },
  {
   "cell_type": "markdown",
   "metadata": {
    "colab_type": "text",
    "id": "xbtsF0Vn5IeJ"
   },
   "source": [
    "## Load merged database"
   ]
  },
  {
   "cell_type": "code",
   "execution_count": 0,
   "metadata": {
    "colab": {},
    "colab_type": "code",
    "id": "0p_GDpIe5NNt"
   },
   "outputs": [],
   "source": [
    "udea=wp.wosplus('drive.cfg')"
   ]
  },
  {
   "cell_type": "code",
   "execution_count": 0,
   "metadata": {
    "colab": {},
    "colab_type": "code",
    "id": "PAB08BZa5b-8"
   },
   "outputs": [],
   "source": [
    "#udea.load_biblio('UDEA_WOS_SCI_SCP.xlsx')"
   ]
  },
  {
   "cell_type": "code",
   "execution_count": 0,
   "metadata": {
    "colab": {},
    "colab_type": "code",
    "id": "oq9QM3cBYH0a"
   },
   "outputs": [],
   "source": [
    "UDEA=pd.read_excel('UDEA_WOS_SCI_SCP.xlsx')"
   ]
  },
  {
   "cell_type": "code",
   "execution_count": 15,
   "metadata": {
    "colab": {},
    "colab_type": "code",
    "id": "NvTG3yVYSTTJ"
   },
   "outputs": [],
   "source": [
    "UDEA=pd.read_json('UDEA_WOS_SCI_SCP.json')#.gz',compression='gzip')"
   ]
  },
  {
   "cell_type": "code",
   "execution_count": 0,
   "metadata": {
    "colab": {},
    "colab_type": "code",
    "id": "dzTWh46t5dLa"
   },
   "outputs": [],
   "source": [
    "UDEA_OLD=udea.read_drive_excel('UDEA_WOS_SCI_SCP.xlsx')"
   ]
  },
  {
   "cell_type": "code",
   "execution_count": 0,
   "metadata": {
    "colab": {},
    "colab_type": "code",
    "id": "RwPiIZyf6ci0"
   },
   "outputs": [],
   "source": [
    "UDEA=UDEA.fillna('')"
   ]
  },
  {
   "cell_type": "code",
   "execution_count": 0,
   "metadata": {
    "colab": {},
    "colab_type": "code",
    "id": "YdsUOvTxZLeK"
   },
   "outputs": [],
   "source": [
    "UDEA_OLD=UDEA_OLD.fillna('')"
   ]
  },
  {
   "cell_type": "code",
   "execution_count": 16,
   "metadata": {
    "colab": {
     "base_uri": "https://localhost:8080/",
     "height": 35
    },
    "colab_type": "code",
    "id": "ZWK5wJdC7sVj",
    "outputId": "ee7dbe94-07ca-44d6-de7f-035290b57b2a"
   },
   "outputs": [
    {
     "data": {
      "text/plain": [
       "(8038, 151)"
      ]
     },
     "execution_count": 16,
     "metadata": {},
     "output_type": "execute_result"
    }
   ],
   "source": [
    "wp.df_split( UDEA, 'DI',Operator='!=',condition='')[0].shape"
   ]
  },
  {
   "cell_type": "code",
   "execution_count": 0,
   "metadata": {
    "colab": {
     "base_uri": "https://localhost:8080/",
     "height": 35
    },
    "colab_type": "code",
    "id": "IL0XLHnfZTfa",
    "outputId": "9cc2ae07-0bb2-4a0b-9684-a9ffe4e60394"
   },
   "outputs": [
    {
     "data": {
      "text/plain": [
       "(7993, 154)"
      ]
     },
     "execution_count": 29,
     "metadata": {
      "tags": []
     },
     "output_type": "execute_result"
    }
   ],
   "source": [
    "wp.df_split( UDEA_OLD, 'DI',Operator='!=',condition='')[0].shape"
   ]
  },
  {
   "cell_type": "markdown",
   "metadata": {
    "colab_type": "text",
    "id": "ZEvZBLl0iIn0"
   },
   "source": [
    "Checks"
   ]
  },
  {
   "cell_type": "code",
   "execution_count": 0,
   "metadata": {
    "colab": {
     "base_uri": "https://localhost:8080/",
     "height": 53
    },
    "colab_type": "code",
    "id": "Cb5epW_9iL4s",
    "outputId": "aa6b2752-c475-4ee6-f344-627e377453c9"
   },
   "outputs": [
    {
     "data": {
      "text/plain": [
       "array(['WOS', 'SCI_SCP', 'WOS_SCP', 'WOS_SCI_SCP', 'SCP', 'WOS_SCI',\n",
       "       'SCI'], dtype=object)"
      ]
     },
     "execution_count": 55,
     "metadata": {
      "tags": []
     },
     "output_type": "execute_result"
    }
   ],
   "source": [
    "UDEA.Tipo.unique()"
   ]
  },
  {
   "cell_type": "code",
   "execution_count": 0,
   "metadata": {
    "colab": {},
    "colab_type": "code",
    "id": "_vQeVZ1fC9na"
   },
   "outputs": [],
   "source": [
    "UDEA=UDEA.WOS_SCI_SCP"
   ]
  },
  {
   "cell_type": "code",
   "execution_count": 11,
   "metadata": {
    "colab": {
     "base_uri": "https://localhost:8080/",
     "height": 143
    },
    "colab_type": "code",
    "id": "Qg9GI6etDBfC",
    "outputId": "b61d47ee-c96c-4caa-ac86-81d46c05b4f6"
   },
   "outputs": [
    {
     "name": "stdout",
     "output_type": "stream",
     "text": [
      "WOS:1884\n",
      "WOS_SCI:147\n",
      "SCI:2892\n",
      "WOS_SCP:5824\n",
      "WOS_SCI_SCP:773\n",
      "SCI_SCP:1622\n",
      "SCP:2584\n"
     ]
    }
   ],
   "source": [
    "for t in UDEA.Tipo.unique():\n",
    "    print( '{}:{}'.format( t, UDEA[ UDEA.Tipo==t].shape[0] ) )"
   ]
  },
  {
   "cell_type": "code",
   "execution_count": 0,
   "metadata": {
    "colab": {
     "base_uri": "https://localhost:8080/",
     "height": 143
    },
    "colab_type": "code",
    "id": "rQZkqDjbiSxk",
    "outputId": "0218adf6-9bde-4476-b159-55e082ebc248"
   },
   "outputs": [
    {
     "name": "stdout",
     "output_type": "stream",
     "text": [
      "WOS:1884\n",
      "SCI_SCP:1622\n",
      "WOS_SCP:5824\n",
      "WOS_SCI_SCP:773\n",
      "SCP:2584\n",
      "WOS_SCI:147\n",
      "SCI:2892\n"
     ]
    }
   ],
   "source": [
    "for t in UDEA.Tipo.unique():\n",
    "    print( '{}:{}'.format( t, UDEA[ UDEA.Tipo==t].shape[0] ) )"
   ]
  },
  {
   "cell_type": "code",
   "execution_count": 0,
   "metadata": {
    "colab": {},
    "colab_type": "code",
    "id": "Fsxe58MDcMY-"
   },
   "outputs": [],
   "source": [
    "UDEA_OLD=UDEA.WOS_SCI_SCP"
   ]
  },
  {
   "cell_type": "code",
   "execution_count": 0,
   "metadata": {
    "colab": {},
    "colab_type": "code",
    "id": "rtaehx3ocUV-"
   },
   "outputs": [],
   "source": [
    "tipos=['WOS', 'SCI_SCP', 'WOS_SCP', 'WOS_SCI_SCP', 'SCP', 'WOS_SCI','SCI']"
   ]
  },
  {
   "cell_type": "code",
   "execution_count": 16,
   "metadata": {
    "colab": {
     "base_uri": "https://localhost:8080/",
     "height": 143
    },
    "colab_type": "code",
    "id": "WWusUHfli0Lb",
    "outputId": "23a03124-64bc-4e51-c28e-06c07b86058d"
   },
   "outputs": [
    {
     "name": "stdout",
     "output_type": "stream",
     "text": [
      "WOS:1737\n",
      "SCI_SCP:1473\n",
      "WOS_SCP:5971\n",
      "WOS_SCI_SCP:817\n",
      "SCP:2362\n",
      "WOS_SCI:103\n",
      "SCI:3041\n"
     ]
    }
   ],
   "source": [
    "for t in tipos:#UDEA.Tipo.unique():\n",
    "    print( '{}:{}'.format( t, UDEA_OLD[ UDEA_OLD.Tipo==t].shape[0] ) )"
   ]
  },
  {
   "cell_type": "code",
   "execution_count": 0,
   "metadata": {
    "colab": {},
    "colab_type": "code",
    "id": "JKV2IG88bGfQ"
   },
   "outputs": [],
   "source": [
    "import numpy as np"
   ]
  },
  {
   "cell_type": "code",
   "execution_count": 0,
   "metadata": {
    "colab": {
     "base_uri": "https://localhost:8080/",
     "height": 593
    },
    "colab_type": "code",
    "id": "LV82D67OZWBS",
    "outputId": "629cf785-7f59-4416-be45-d7da7a423bf4"
   },
   "outputs": [
    {
     "data": {
      "text/plain": [
       "array(['10.1016/j.rca.2015.03.008', '10.1016/j.rca.2016.02.014',\n",
       "       '10.1016/j.rca.2016.05.005', '10.1016/j.rccar.2016.09.003',\n",
       "       '10.1016/j.rcp.2017.06.004', '10.1016/j.uroco.2015.05.009',\n",
       "       '10.11144/Javeriana.CDR11-73.ards',\n",
       "       '10.11144/javeriana.CRD11-74.raea',\n",
       "       '10.12804/revsalud12.2.2014.01',\n",
       "       '10.15446/agron.colomb.v34n2.54920', '10.15446/dyna.v81n187.40960',\n",
       "       '10.15446/historelo.v9n17.55495',\n",
       "       '10.15446/ideasyvalores.v66n164.64873',\n",
       "       '10.15446/rev.colomb.quim.v45n1.58955', '10.15517/rbt.v65i1.21766',\n",
       "       '10.17230/co-herencia.12.22.10', '10.17533/udea.iatreia.v28n2a03',\n",
       "       '10.17533/udea.iatreia.v28n2a04',\n",
       "       '10.17533/udea.iatreia.v28n2a12.',\n",
       "       '10.17533/udea.iatreia.v28n3a01', '10.17533/udea.iatreia.v28n3a12',\n",
       "       '10.17533/udea.iatreia.v28n4a04', '10.17533/udea.iatreia.v28n4a05',\n",
       "       '10.17533/udea.iatreia.v29n1a0', '10.17533/udea.iatreia.v29n1a01',\n",
       "       '10.17533/udea.iatreia.v29n1a07', '10.17533/udea.iatreia.v29n1a9',\n",
       "       '10.17533/udea.iatreia.v29n2a04', '10.17533/udea.iatreia.v29n2a05',\n",
       "       '10.17533/udea.iatreia.v29n2a11', '10.17533/udea.iatreia.v29n2a13',\n",
       "       '10.17533/udea.ikala.v22n03a01', '10.17533/udea.rccp.v29n2a01',\n",
       "       '10.17533/udea.rccp.v29n2a07',\n",
       "       '10.3265/Nefrologia.2009.29.6.5490.en.full',\n",
       "       '10.4067/S0250-71612016000100009',\n",
       "       '10.4067/S0716-1018201500030008',\n",
       "       '10.4067/S0718-22012016000200006',\n",
       "       '10.4067/S0718-33052015000300010',\n",
       "       '10.4067/S0718-33052016000200007',\n",
       "       '10.4067/S0718-33052017000200314',\n",
       "       '10.4067/S0718-33052017000300477',\n",
       "       '10.4067/S0718-33052017000400662',\n",
       "       '10.4067/S0718-33052017000400721', '10.498/17258',\n",
       "       '10.7705/biomedica.v37i4.3416'], dtype=object)"
      ]
     },
     "execution_count": 39,
     "metadata": {
      "tags": []
     },
     "output_type": "execute_result"
    }
   ],
   "source": [
    "np.setdiff1d(UDEA[UDEA.DI!=''].DI.values,UDEA_OLD[UDEA_OLD.DI!=''].DI.values)"
   ]
  },
  {
   "cell_type": "code",
   "execution_count": 0,
   "metadata": {
    "colab": {
     "base_uri": "https://localhost:8080/",
     "height": 78
    },
    "colab_type": "code",
    "id": "mvYsqEhEbyQ_",
    "outputId": "c84830a3-7869-4517-db5a-68576061fda3"
   },
   "outputs": [
    {
     "data": {
      "text/html": [
       "<div>\n",
       "<style scoped>\n",
       "    .dataframe tbody tr th:only-of-type {\n",
       "        vertical-align: middle;\n",
       "    }\n",
       "\n",
       "    .dataframe tbody tr th {\n",
       "        vertical-align: top;\n",
       "    }\n",
       "\n",
       "    .dataframe thead th {\n",
       "        text-align: right;\n",
       "    }\n",
       "</style>\n",
       "<table border=\"1\" class=\"dataframe\">\n",
       "  <thead>\n",
       "    <tr style=\"text-align: right;\">\n",
       "      <th></th>\n",
       "      <th>AB</th>\n",
       "      <th>AF</th>\n",
       "      <th>AR</th>\n",
       "      <th>AU</th>\n",
       "      <th>BA</th>\n",
       "      <th>BE</th>\n",
       "      <th>BF</th>\n",
       "      <th>BN</th>\n",
       "      <th>BP</th>\n",
       "      <th>C1</th>\n",
       "      <th>...</th>\n",
       "      <th>SU</th>\n",
       "      <th>TC</th>\n",
       "      <th>TI</th>\n",
       "      <th>Tipo</th>\n",
       "      <th>U1</th>\n",
       "      <th>U2</th>\n",
       "      <th>UT</th>\n",
       "      <th>VL</th>\n",
       "      <th>WC</th>\n",
       "      <th>Z9</th>\n",
       "    </tr>\n",
       "  </thead>\n",
       "  <tbody>\n",
       "  </tbody>\n",
       "</table>\n",
       "<p>0 rows × 154 columns</p>\n",
       "</div>"
      ],
      "text/plain": [
       "Empty DataFrame\n",
       "Columns: [AB, AF, AR, AU, BA, BE, BF, BN, BP, C1, CA, CL, CR, CT, CY, D2, DA, DE, DI, DT, EI, EM, EP, FU, FX, GA, GP, HO, ID, IS, J9, JI, LA, MA, NR, OA, OI, PA, PD, PG, PI, PM, PN, PT, PU, PY, RI, RP, SC, SCI_AB, SCI_AU, SCI_BP, SCI_C1, SCI_C2, SCI_CR, SCI_DE, SCI_DI, SCI_DT, SCI_EC, SCI_EM, SCI_EP, SCI_IS, SCI_LA, SCI_NR, SCI_OA, SCI_OI, SCI_PA, SCI_PD, SCI_PI, SCI_PT, SCI_PU, SCI_PY, SCI_RI, SCI_SC, SCI_SN, SCI_SO, SCI_TC, SCI_TI, SCI_Tipo, SCI_U1, SCI_U2, SCI_UT, SCI_VL, SCI_X1, SCI_X4, SCI_X5, SCI_Y1, SCI_Y4, SCI_Y5, SCI_Z1, SCI_Z4, SCI_Z5, SCI_Z9, SCP_Abbreviated Source Title, SCP_Abstract, SCP_Access Type, SCP_Affiliations, SCP_Art. No., SCP_Author Keywords, SCP_Authors, ...]\n",
       "Index: []\n",
       "\n",
       "[0 rows x 154 columns]"
      ]
     },
     "execution_count": 40,
     "metadata": {
      "tags": []
     },
     "output_type": "execute_result"
    }
   ],
   "source": [
    "UDEA_OLD[UDEA_OLD.DI=='10.1016/j.rca.2015.03.008']"
   ]
  },
  {
   "cell_type": "code",
   "execution_count": 0,
   "metadata": {
    "colab": {
     "base_uri": "https://localhost:8080/",
     "height": 109
    },
    "colab_type": "code",
    "id": "Yms2zMFeb6lX",
    "outputId": "a556caf1-0085-4037-d854-58a1b9c00671"
   },
   "outputs": [
    {
     "data": {
      "text/html": [
       "<div>\n",
       "<style scoped>\n",
       "    .dataframe tbody tr th:only-of-type {\n",
       "        vertical-align: middle;\n",
       "    }\n",
       "\n",
       "    .dataframe tbody tr th {\n",
       "        vertical-align: top;\n",
       "    }\n",
       "\n",
       "    .dataframe thead th {\n",
       "        text-align: right;\n",
       "    }\n",
       "</style>\n",
       "<table border=\"1\" class=\"dataframe\">\n",
       "  <thead>\n",
       "    <tr style=\"text-align: right;\">\n",
       "      <th></th>\n",
       "      <th>AB</th>\n",
       "      <th>AF</th>\n",
       "      <th>AR</th>\n",
       "      <th>AU</th>\n",
       "      <th>BA</th>\n",
       "      <th>BE</th>\n",
       "      <th>BF</th>\n",
       "      <th>BN</th>\n",
       "      <th>BP</th>\n",
       "      <th>C1</th>\n",
       "      <th>...</th>\n",
       "      <th>SU</th>\n",
       "      <th>TC</th>\n",
       "      <th>TI</th>\n",
       "      <th>Tipo</th>\n",
       "      <th>U1</th>\n",
       "      <th>U2</th>\n",
       "      <th>UT</th>\n",
       "      <th>VL</th>\n",
       "      <th>WC</th>\n",
       "      <th>Z9</th>\n",
       "    </tr>\n",
       "  </thead>\n",
       "  <tbody>\n",
       "    <tr>\n",
       "      <th>11741</th>\n",
       "      <td></td>\n",
       "      <td></td>\n",
       "      <td></td>\n",
       "      <td>Zamudio-Burbano, Mario Andres\\nCasas-Arroyave,...</td>\n",
       "      <td></td>\n",
       "      <td></td>\n",
       "      <td></td>\n",
       "      <td></td>\n",
       "      <td></td>\n",
       "      <td></td>\n",
       "      <td>...</td>\n",
       "      <td></td>\n",
       "      <td>0</td>\n",
       "      <td>Airway management using ultrasound</td>\n",
       "      <td>SCI_SCP</td>\n",
       "      <td>0</td>\n",
       "      <td>0</td>\n",
       "      <td></td>\n",
       "      <td></td>\n",
       "      <td></td>\n",
       "      <td>0</td>\n",
       "    </tr>\n",
       "  </tbody>\n",
       "</table>\n",
       "<p>1 rows × 154 columns</p>\n",
       "</div>"
      ],
      "text/plain": [
       "      AB AF AR                                                 AU BA BE BF BN  \\\n",
       "11741           Zamudio-Burbano, Mario Andres\\nCasas-Arroyave,...               \n",
       "\n",
       "      BP C1 ... SU TC                                  TI     Tipo U1 U2 UT  \\\n",
       "11741       ...     0  Airway management using ultrasound  SCI_SCP  0  0      \n",
       "\n",
       "      VL WC Z9  \n",
       "11741        0  \n",
       "\n",
       "[1 rows x 154 columns]"
      ]
     },
     "execution_count": 42,
     "metadata": {
      "tags": []
     },
     "output_type": "execute_result"
    }
   ],
   "source": [
    "UDEA_OLD[UDEA_OLD.SCP_DOI=='10.1016/j.rca.2015.03.008']"
   ]
  },
  {
   "cell_type": "code",
   "execution_count": 0,
   "metadata": {
    "colab": {
     "base_uri": "https://localhost:8080/",
     "height": 109
    },
    "colab_type": "code",
    "id": "mOS-vI9ucIb3",
    "outputId": "ddc8649b-55b3-4a91-f969-2338bf91fd50"
   },
   "outputs": [
    {
     "data": {
      "text/html": [
       "<div>\n",
       "<style scoped>\n",
       "    .dataframe tbody tr th:only-of-type {\n",
       "        vertical-align: middle;\n",
       "    }\n",
       "\n",
       "    .dataframe tbody tr th {\n",
       "        vertical-align: top;\n",
       "    }\n",
       "\n",
       "    .dataframe thead th {\n",
       "        text-align: right;\n",
       "    }\n",
       "</style>\n",
       "<table border=\"1\" class=\"dataframe\">\n",
       "  <thead>\n",
       "    <tr style=\"text-align: right;\">\n",
       "      <th></th>\n",
       "      <th>AB</th>\n",
       "      <th>AF</th>\n",
       "      <th>AR</th>\n",
       "      <th>AU</th>\n",
       "      <th>BA</th>\n",
       "      <th>BE</th>\n",
       "      <th>BF</th>\n",
       "      <th>BN</th>\n",
       "      <th>BP</th>\n",
       "      <th>C1</th>\n",
       "      <th>...</th>\n",
       "      <th>SU</th>\n",
       "      <th>TC</th>\n",
       "      <th>TI</th>\n",
       "      <th>Tipo</th>\n",
       "      <th>U1</th>\n",
       "      <th>U2</th>\n",
       "      <th>UT</th>\n",
       "      <th>VL</th>\n",
       "      <th>WC</th>\n",
       "      <th>Z9</th>\n",
       "    </tr>\n",
       "  </thead>\n",
       "  <tbody>\n",
       "    <tr>\n",
       "      <th>13630</th>\n",
       "      <td></td>\n",
       "      <td></td>\n",
       "      <td></td>\n",
       "      <td>Zamudio-Burbano M.A., Casas-Arroyave F.D.</td>\n",
       "      <td></td>\n",
       "      <td></td>\n",
       "      <td></td>\n",
       "      <td></td>\n",
       "      <td></td>\n",
       "      <td></td>\n",
       "      <td>...</td>\n",
       "      <td></td>\n",
       "      <td>0</td>\n",
       "      <td>Airway management using ultrasound [El uso del...</td>\n",
       "      <td>SCP</td>\n",
       "      <td>0</td>\n",
       "      <td>0</td>\n",
       "      <td></td>\n",
       "      <td></td>\n",
       "      <td></td>\n",
       "      <td>0</td>\n",
       "    </tr>\n",
       "  </tbody>\n",
       "</table>\n",
       "<p>1 rows × 151 columns</p>\n",
       "</div>"
      ],
      "text/plain": [
       "      AB AF AR                                         AU BA BE BF BN BP C1  \\\n",
       "13630           Zamudio-Burbano M.A., Casas-Arroyave F.D.                     \n",
       "\n",
       "      ... SU TC                                                 TI Tipo U1 U2  \\\n",
       "13630 ...     0  Airway management using ultrasound [El uso del...  SCP  0  0   \n",
       "\n",
       "      UT VL WC Z9  \n",
       "13630           0  \n",
       "\n",
       "[1 rows x 151 columns]"
      ]
     },
     "execution_count": 43,
     "metadata": {
      "tags": []
     },
     "output_type": "execute_result"
    }
   ],
   "source": [
    "UDEA[UDEA.DI=='10.1016/j.rca.2015.03.008']"
   ]
  },
  {
   "cell_type": "code",
   "execution_count": 0,
   "metadata": {
    "colab": {
     "base_uri": "https://localhost:8080/",
     "height": 53
    },
    "colab_type": "code",
    "id": "ZHb6DO0dfjBV",
    "outputId": "220cba97-1f24-46fe-b4b8-04abda62fa98"
   },
   "outputs": [
    {
     "data": {
      "text/plain": [
       "11741    SCI_SCP\n",
       "Name: Tipo, dtype: object"
      ]
     },
     "execution_count": 50,
     "metadata": {
      "tags": []
     },
     "output_type": "execute_result"
    }
   ],
   "source": [
    "UDEA_OLD[UDEA_OLD.SCI_TI.str.contains('Airway management')].Tipo"
   ]
  },
  {
   "cell_type": "code",
   "execution_count": 0,
   "metadata": {
    "colab": {
     "base_uri": "https://localhost:8080/",
     "height": 53
    },
    "colab_type": "code",
    "id": "KtGnjRyTcWlP",
    "outputId": "924a5acb-3488-4a97-bbfe-9d8ac5060f3b"
   },
   "outputs": [
    {
     "data": {
      "text/plain": [
       "1566    SCI\n",
       "Name: Tipo, dtype: object"
      ]
     },
     "execution_count": 52,
     "metadata": {
      "tags": []
     },
     "output_type": "execute_result"
    }
   ],
   "source": [
    "UDEA[UDEA.SCI_TI.str.contains('Airway management')].Tipo"
   ]
  },
  {
   "cell_type": "code",
   "execution_count": 0,
   "metadata": {
    "colab": {
     "base_uri": "https://localhost:8080/",
     "height": 53
    },
    "colab_type": "code",
    "id": "88x-6mQdcnRn",
    "outputId": "dfc865c8-0b8e-4199-ef0c-e1091601830d"
   },
   "outputs": [
    {
     "data": {
      "text/plain": [
       "13630    SCP\n",
       "Name: Tipo, dtype: object"
      ]
     },
     "execution_count": 51,
     "metadata": {
      "tags": []
     },
     "output_type": "execute_result"
    }
   ],
   "source": [
    "UDEA[UDEA.SCP_Title.str.contains('Airway management')].Tipo"
   ]
  },
  {
   "cell_type": "code",
   "execution_count": 0,
   "metadata": {
    "colab": {
     "base_uri": "https://localhost:8080/",
     "height": 109
    },
    "colab_type": "code",
    "id": "3SVvgqxkc2gP",
    "outputId": "d47a47c2-d14d-4d9e-e4ea-df3cc5e2f2dc"
   },
   "outputs": [
    {
     "data": {
      "text/html": [
       "<div>\n",
       "<style scoped>\n",
       "    .dataframe tbody tr th:only-of-type {\n",
       "        vertical-align: middle;\n",
       "    }\n",
       "\n",
       "    .dataframe tbody tr th {\n",
       "        vertical-align: top;\n",
       "    }\n",
       "\n",
       "    .dataframe thead th {\n",
       "        text-align: right;\n",
       "    }\n",
       "</style>\n",
       "<table border=\"1\" class=\"dataframe\">\n",
       "  <thead>\n",
       "    <tr style=\"text-align: right;\">\n",
       "      <th></th>\n",
       "      <th>AB</th>\n",
       "      <th>AF</th>\n",
       "      <th>AR</th>\n",
       "      <th>AU</th>\n",
       "      <th>BA</th>\n",
       "      <th>BE</th>\n",
       "      <th>BF</th>\n",
       "      <th>BN</th>\n",
       "      <th>BP</th>\n",
       "      <th>C1</th>\n",
       "      <th>...</th>\n",
       "      <th>SU</th>\n",
       "      <th>TC</th>\n",
       "      <th>TI</th>\n",
       "      <th>Tipo</th>\n",
       "      <th>U1</th>\n",
       "      <th>U2</th>\n",
       "      <th>UT</th>\n",
       "      <th>VL</th>\n",
       "      <th>WC</th>\n",
       "      <th>Z9</th>\n",
       "    </tr>\n",
       "  </thead>\n",
       "  <tbody>\n",
       "    <tr>\n",
       "      <th>13630</th>\n",
       "      <td></td>\n",
       "      <td></td>\n",
       "      <td></td>\n",
       "      <td>Zamudio-Burbano M.A., Casas-Arroyave F.D.</td>\n",
       "      <td></td>\n",
       "      <td></td>\n",
       "      <td></td>\n",
       "      <td></td>\n",
       "      <td></td>\n",
       "      <td></td>\n",
       "      <td>...</td>\n",
       "      <td></td>\n",
       "      <td>0</td>\n",
       "      <td>Airway management using ultrasound [El uso del...</td>\n",
       "      <td>SCP</td>\n",
       "      <td>0</td>\n",
       "      <td>0</td>\n",
       "      <td></td>\n",
       "      <td></td>\n",
       "      <td></td>\n",
       "      <td>0</td>\n",
       "    </tr>\n",
       "  </tbody>\n",
       "</table>\n",
       "<p>1 rows × 151 columns</p>\n",
       "</div>"
      ],
      "text/plain": [
       "      AB AF AR                                         AU BA BE BF BN BP C1  \\\n",
       "13630           Zamudio-Burbano M.A., Casas-Arroyave F.D.                     \n",
       "\n",
       "      ... SU TC                                                 TI Tipo U1 U2  \\\n",
       "13630 ...     0  Airway management using ultrasound [El uso del...  SCP  0  0   \n",
       "\n",
       "      UT VL WC Z9  \n",
       "13630           0  \n",
       "\n",
       "[1 rows x 151 columns]"
      ]
     },
     "execution_count": 46,
     "metadata": {
      "tags": []
     },
     "output_type": "execute_result"
    }
   ],
   "source": [
    "UDEA[UDEA.SCP_DOI=='10.1016/j.rca.2015.03.008']"
   ]
  },
  {
   "cell_type": "code",
   "execution_count": 0,
   "metadata": {
    "colab": {
     "base_uri": "https://localhost:8080/",
     "height": 78
    },
    "colab_type": "code",
    "id": "1vrK5JAgc6yn",
    "outputId": "85858324-2ca9-4406-e5db-cf1d20db3150"
   },
   "outputs": [
    {
     "data": {
      "text/html": [
       "<div>\n",
       "<style scoped>\n",
       "    .dataframe tbody tr th:only-of-type {\n",
       "        vertical-align: middle;\n",
       "    }\n",
       "\n",
       "    .dataframe tbody tr th {\n",
       "        vertical-align: top;\n",
       "    }\n",
       "\n",
       "    .dataframe thead th {\n",
       "        text-align: right;\n",
       "    }\n",
       "</style>\n",
       "<table border=\"1\" class=\"dataframe\">\n",
       "  <thead>\n",
       "    <tr style=\"text-align: right;\">\n",
       "      <th></th>\n",
       "      <th>AB</th>\n",
       "      <th>AF</th>\n",
       "      <th>AR</th>\n",
       "      <th>AU</th>\n",
       "      <th>BA</th>\n",
       "      <th>BE</th>\n",
       "      <th>BF</th>\n",
       "      <th>BN</th>\n",
       "      <th>BP</th>\n",
       "      <th>C1</th>\n",
       "      <th>...</th>\n",
       "      <th>SU</th>\n",
       "      <th>TC</th>\n",
       "      <th>TI</th>\n",
       "      <th>Tipo</th>\n",
       "      <th>U1</th>\n",
       "      <th>U2</th>\n",
       "      <th>UT</th>\n",
       "      <th>VL</th>\n",
       "      <th>WC</th>\n",
       "      <th>Z9</th>\n",
       "    </tr>\n",
       "  </thead>\n",
       "  <tbody>\n",
       "  </tbody>\n",
       "</table>\n",
       "<p>0 rows × 151 columns</p>\n",
       "</div>"
      ],
      "text/plain": [
       "Empty DataFrame\n",
       "Columns: [AB, AF, AR, AU, BA, BE, BF, BN, BP, C1, CA, CL, CR, CT, CY, D2, DA, DE, DI, DT, EI, EM, EP, FU, FX, GA, GP, HO, ID, IS, J9, JI, LA, MA, NR, OA, OI, PA, PD, PG, PI, PM, PN, PT, PU, PY, RI, RP, SC, SCI_AB, SCI_AU, SCI_BP, SCI_C1, SCI_C2, SCI_CR, SCI_DE, SCI_DI, SCI_DT, SCI_EC, SCI_EM, SCI_EP, SCI_IS, SCI_LA, SCI_NR, SCI_OA, SCI_OI, SCI_PA, SCI_PD, SCI_PI, SCI_PT, SCI_PU, SCI_PY, SCI_RI, SCI_SC, SCI_SN, SCI_SO, SCI_TC, SCI_TI, SCI_Tipo, SCI_U1, SCI_U2, SCI_UT, SCI_VL, SCI_X1, SCI_X4, SCI_X5, SCI_Y1, SCI_Y4, SCI_Y5, SCI_Z1, SCI_Z4, SCI_Z5, SCI_Z9, SCP_Abbreviated Source Title, SCP_Abstract, SCP_Access Type, SCP_Affiliations, SCP_Art. No., SCP_Author Keywords, SCP_Authors, ...]\n",
       "Index: []\n",
       "\n",
       "[0 rows x 151 columns]"
      ]
     },
     "execution_count": 47,
     "metadata": {
      "tags": []
     },
     "output_type": "execute_result"
    }
   ],
   "source": [
    "UDEA[UDEA.SCI_DI=='10.1016/j.rca.2015.03.008']"
   ]
  },
  {
   "cell_type": "code",
   "execution_count": 0,
   "metadata": {
    "colab": {
     "base_uri": "https://localhost:8080/",
     "height": 35
    },
    "colab_type": "code",
    "id": "5WqmV27ITciq",
    "outputId": "7d68e0a4-dba0-43b9-d725-d5ef70726df2"
   },
   "outputs": [
    {
     "data": {
      "text/plain": [
       "(8036, 151)"
      ]
     },
     "execution_count": 19,
     "metadata": {
      "tags": []
     },
     "output_type": "execute_result"
    }
   ],
   "source": [
    "UDEA.drop_duplicates('DI').shape"
   ]
  },
  {
   "cell_type": "code",
   "execution_count": 0,
   "metadata": {
    "colab": {
     "base_uri": "https://localhost:8080/",
     "height": 72
    },
    "colab_type": "code",
    "id": "yoGRnRCr6s8R",
    "outputId": "74f97b16-4bc1-48f4-e025-932247d216da"
   },
   "outputs": [
    {
     "name": "stdout",
     "output_type": "stream",
     "text": [
      "DOIS WOS: (6025, 154)\n",
      "DOIS SCI: (1409, 154)\n",
      "DOIS SCP: (6955, 154)\n"
     ]
    }
   ],
   "source": [
    "for t in ['WOS','SCI','SCP']:\n",
    "    print( 'DOIS {}: {}'.format(t,\n",
    "        wp.df_split( UDEA[ UDEA.Tipo.str.contains(t) ], 'DI',Operator='!=',condition='')[0].shape) )"
   ]
  },
  {
   "cell_type": "code",
   "execution_count": 0,
   "metadata": {
    "colab": {
     "base_uri": "https://localhost:8080/",
     "height": 35
    },
    "colab_type": "code",
    "id": "JsNaXsty60k4",
    "outputId": "b8630d80-6660-46b8-f12b-d9406a90765a"
   },
   "outputs": [
    {
     "data": {
      "text/plain": [
       "(6025, 154)"
      ]
     },
     "execution_count": 19,
     "metadata": {
      "tags": []
     },
     "output_type": "execute_result"
    }
   ],
   "source": [
    "y.shape"
   ]
  },
  {
   "cell_type": "code",
   "execution_count": 0,
   "metadata": {
    "colab": {},
    "colab_type": "code",
    "id": "feV_64CK7VEp"
   },
   "outputs": [],
   "source": []
  }
 ],
 "metadata": {
  "colab": {
   "include_colab_link": true,
   "name": "merge.ipynb",
   "provenance": [],
   "version": "0.3.2"
  },
  "kernelspec": {
   "display_name": "Python 3",
   "language": "python",
   "name": "python3"
  },
  "language_info": {
   "codemirror_mode": {
    "name": "ipython",
    "version": 3
   },
   "file_extension": ".py",
   "mimetype": "text/x-python",
   "name": "python",
   "nbconvert_exporter": "python",
   "pygments_lexer": "ipython3",
   "version": "3.5.3"
  }
 },
 "nbformat": 4,
 "nbformat_minor": 1
}
