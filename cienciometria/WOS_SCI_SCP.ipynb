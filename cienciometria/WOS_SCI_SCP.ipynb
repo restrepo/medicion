{
  "nbformat": 4,
  "nbformat_minor": 0,
  "metadata": {
    "colab": {
      "name": "merge.ipynb",
      "version": "0.3.2",
      "provenance": [],
      "include_colab_link": true
    },
    "kernelspec": {
      "display_name": "Python 3",
      "language": "python",
      "name": "python3"
    }
  },
  "cells": [
    {
      "cell_type": "markdown",
      "metadata": {
        "id": "view-in-github",
        "colab_type": "text"
      },
      "source": [
        "[View in Colaboratory](https://colab.research.google.com/github/restrepo/medicion/blob/master/cienciometria/WOS_SCI_SCP.ipynb)"
      ]
    },
    {
      "metadata": {
        "id": "aDnqho-CsEwj",
        "colab_type": "text"
      },
      "cell_type": "markdown",
      "source": [
        "# WOS+SCI+SCP\n",
        "Merge the bibliographic datasets for Web of Scienca, Scielo and Scopus of the scientific articles of Universidad de Antioquia\n",
        "\n",
        "For details see [merge.ipynb in Colaboratory](https://colab.research.google.com/github/restrepo/medicion/blob/master/cienciometria/merge.ipynb)"
      ]
    },
    {
      "metadata": {
        "id": "9Hnin1fosRB_",
        "colab_type": "code",
        "colab": {}
      },
      "cell_type": "code",
      "source": [
        "!pip install wosplus openpyxl xlrd > /dev/null"
      ],
      "execution_count": 0,
      "outputs": []
    },
    {
      "metadata": {
        "id": "nhk2ZGEDd2Yo",
        "colab_type": "code",
        "colab": {}
      },
      "cell_type": "code",
      "source": [
        "import wosplus as wp\n",
        "import pandas as pd"
      ],
      "execution_count": 0,
      "outputs": []
    },
    {
      "metadata": {
        "id": "JS7jD1f47JUN",
        "colab_type": "text"
      },
      "cell_type": "markdown",
      "source": [
        "##  Configure public links of  files in Google Drive\n",
        "* If it is a Google Spreadsheet the corresponding file is downloaded as CSV\n",
        "* If it is in excel or text file the file is downloaded  directly\n",
        "\n",
        "To define your  own labeled IDs for public google drive files edit the next cell:"
      ]
    },
    {
      "metadata": {
        "id": "T4Rmd2dF7JUQ",
        "colab_type": "code",
        "colab": {
          "base_uri": "https://localhost:8080/",
          "height": 34
        },
        "outputId": "dd39a7b1-3f81-4d73-f6e5-c70d0377971a"
      },
      "cell_type": "code",
      "source": [
        "%%writefile drive.cfg\n",
        "[FILES]\n",
        "UDEA_WOS.xlsx       = 1px2IcrjCrkyu7t78Q7PAE5nzV_yuPt9t\n",
        "UDEA_SCI.xlsx       = 1pWMY5P72j0Ca6D-cm7dn7Q4TBGTs4PWV\n",
        "UDEA_SCP.xlsx       = 1ulCsFHzDiTmuL9TH8F58ulh0u8Z2ylKh"
      ],
      "execution_count": 5,
      "outputs": [
        {
          "output_type": "stream",
          "text": [
            "Overwriting drive.cfg\n"
          ],
          "name": "stdout"
        }
      ]
    },
    {
      "metadata": {
        "id": "Y0D0hEdAMXUX",
        "colab_type": "text"
      },
      "cell_type": "markdown",
      "source": [
        "##  Load data bases"
      ]
    },
    {
      "metadata": {
        "id": "occzrIeCS7aQ",
        "colab_type": "code",
        "colab": {
          "base_uri": "https://localhost:8080/",
          "height": 52
        },
        "outputId": "af6d7eab-fe6d-4961-8d9d-cd8f5f716b8b"
      },
      "cell_type": "code",
      "source": [
        "UDEA=wp.wosplus('drive.cfg')\n",
        "tmp=UDEA.load_biblio('UDEA_WOS.xlsx') # creates WOS.WOS\n",
        "tmp=UDEA.load_biblio('UDEA_SCI.xlsx',prefix='SCI') # creates UDEA.SCI\n",
        "tmp=UDEA.load_biblio('UDEA_SCP.xlsx',prefix='SCP') # creates UDEA.SCP"
      ],
      "execution_count": 7,
      "outputs": [
        {
          "output_type": "stream",
          "text": [
            "/usr/local/lib/python3.6/dist-packages/wosplus/_wos_scp.py:54: FutureWarning: Using 'rename_axis' to alter labels is deprecated. Use '.rename' instead\n",
            "  return df.rename_axis( dict( (key,prefix+'_'+key) for key in df.columns.values) , axis=1)\n"
          ],
          "name": "stderr"
        }
      ]
    },
    {
      "metadata": {
        "id": "lnS28xGmuQp5",
        "colab_type": "code",
        "colab": {
          "base_uri": "https://localhost:8080/",
          "height": 34
        },
        "outputId": "736cc524-db1c-41ad-9a52-8b71f5d8fb99"
      },
      "cell_type": "code",
      "source": [
        "print('before merge: {}'.format( UDEA.WOS.shape[0]+UDEA.SCI.shape[0]+UDEA.SCP.shape[0] )  )\n"
      ],
      "execution_count": 8,
      "outputs": [
        {
          "output_type": "stream",
          "text": [
            "before merge: 24676\n"
          ],
          "name": "stdout"
        }
      ]
    },
    {
      "metadata": {
        "id": "3yKWoYAMdm0J",
        "colab_type": "text"
      },
      "cell_type": "markdown",
      "source": [
        "### WOS+SCI"
      ]
    },
    {
      "metadata": {
        "id": "zsCnv55UuyNi",
        "colab_type": "code",
        "colab": {
          "base_uri": "https://localhost:8080/",
          "height": 34
        },
        "outputId": "64c6a2a5-4834-45f9-af5b-4bce0e6c15ee"
      },
      "cell_type": "code",
      "source": [
        "UDEA.merge(left='WOS',right='SCI')"
      ],
      "execution_count": 9,
      "outputs": [
        {
          "output_type": "stream",
          "text": [
            "................................................................................"
          ],
          "name": "stdout"
        }
      ]
    },
    {
      "metadata": {
        "id": "rDuqS3Muds3R",
        "colab_type": "text"
      },
      "cell_type": "markdown",
      "source": [
        "### WOS+SCI+SCP"
      ]
    },
    {
      "metadata": {
        "id": "XbpNjT40u83f",
        "colab_type": "code",
        "colab": {
          "base_uri": "https://localhost:8080/",
          "height": 54
        },
        "outputId": "f7a0c3f2-448f-456e-f1e2-dc70c8dc9a6b"
      },
      "cell_type": "code",
      "source": [
        "UDEA.merge(left='WOS_SCI',right='SCP')"
      ],
      "execution_count": 10,
      "outputs": [
        {
          "output_type": "stream",
          "text": [
            "................................................................................................................................................................................................................"
          ],
          "name": "stdout"
        }
      ]
    },
    {
      "metadata": {
        "id": "f5eF0y50vLrm",
        "colab_type": "code",
        "colab": {
          "base_uri": "https://localhost:8080/",
          "height": 34
        },
        "outputId": "3c02700b-df3a-406e-adf8-06d11039ff01"
      },
      "cell_type": "code",
      "source": [
        "print( 'after merge: {}'.format(UDEA.WOS_SCI_SCP.shape[0]))"
      ],
      "execution_count": 12,
      "outputs": [
        {
          "output_type": "stream",
          "text": [
            "after merge: 15504\n"
          ],
          "name": "stdout"
        }
      ]
    },
    {
      "metadata": {
        "id": "R503IhFiaFbA",
        "colab_type": "code",
        "colab": {}
      },
      "cell_type": "code",
      "source": [
        "UDEA.WOS_SCI_SCP.to_excel('UDEA_WOS_SCI_SCP.xlsx',index=False)"
      ],
      "execution_count": 0,
      "outputs": []
    },
    {
      "metadata": {
        "id": "Xlb-50u2a3ib",
        "colab_type": "text"
      },
      "cell_type": "markdown",
      "source": [
        "See the resulting Excel file by opening the side bar → Files → REFRESH and right click for Download upon the generated  \"'UDEA_WOS_SCI_SCP.xlsx'\" fille, or just check the corresponsing DataFrame:"
      ]
    },
    {
      "metadata": {
        "id": "CN8Rl9rdfASF",
        "colab_type": "code",
        "colab": {}
      },
      "cell_type": "code",
      "source": [
        "UDEA.WOS_SCI_SCP.sample()"
      ],
      "execution_count": 0,
      "outputs": []
    },
    {
      "metadata": {
        "id": "ju7yZPvOrT8V",
        "colab_type": "code",
        "colab": {}
      },
      "cell_type": "code",
      "source": [
        ""
      ],
      "execution_count": 0,
      "outputs": []
    }
  ]
}