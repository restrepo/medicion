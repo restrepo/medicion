{
  "nbformat": 4,
  "nbformat_minor": 0,
  "metadata": {
    "colab": {
      "name": "merge.ipynb",
      "version": "0.3.2",
      "provenance": [],
      "include_colab_link": true
    },
    "kernelspec": {
      "display_name": "Python 3",
      "language": "python",
      "name": "python3"
    }
  },
  "cells": [
    {
      "cell_type": "markdown",
      "metadata": {
        "id": "view-in-github",
        "colab_type": "text"
      },
      "source": [
        "<a href=\"https://colab.research.google.com/github/restrepo/medicion/blob/master/cienciometria/WOS_SCI_SCP.ipynb\" target=\"_parent\"><img src=\"https://colab.research.google.com/assets/colab-badge.svg\" alt=\"Open In Colab\"/></a>"
      ]
    },
    {
      "metadata": {
        "id": "aDnqho-CsEwj",
        "colab_type": "text"
      },
      "cell_type": "markdown",
      "source": [
        "# WOS+SCI+SCP\n",
        "Merge the bibliographic datasets for Web of Scienca, Scielo and Scopus of the scientific articles of Universidad de Antioquia\n",
        "\n",
        "For details see [merge.ipynb in Colaboratory](https://colab.research.google.com/github/restrepo/medicion/blob/master/cienciometria/merge.ipynb)"
      ]
    },
    {
      "metadata": {
        "id": "lOGedSKR89du",
        "colab_type": "code",
        "outputId": "1322e62c-896c-43ca-b543-bf9a2243e7df",
        "colab": {
          "base_uri": "https://localhost:8080/",
          "height": 107
        }
      },
      "cell_type": "code",
      "source": [
        "!git clone https://github.com/restrepo/WOSplus.git"
      ],
      "execution_count": 1,
      "outputs": [
        {
          "output_type": "stream",
          "text": [
            "Cloning into 'WOSplus'...\n",
            "remote: Enumerating objects: 380, done.\u001b[K\n",
            "remote: Total 380 (delta 0), reused 0 (delta 0), pack-reused 380\u001b[K\n",
            "Receiving objects: 100% (380/380), 176.34 KiB | 5.19 MiB/s, done.\n",
            "Resolving deltas: 100% (236/236), done.\n"
          ],
          "name": "stdout"
        }
      ]
    },
    {
      "metadata": {
        "id": "JJUmy1YqAszI",
        "colab_type": "code",
        "colab": {}
      },
      "cell_type": "code",
      "source": [
        "!pip install openpyxl xlrd wosplus  > /dev/null"
      ],
      "execution_count": 0,
      "outputs": []
    },
    {
      "metadata": {
        "id": "EY00bLQqtVWP",
        "colab_type": "code",
        "colab": {
          "base_uri": "https://localhost:8080/",
          "height": 35
        },
        "outputId": "76223837-7f54-4012-c5f1-9629b5e24ff7"
      },
      "cell_type": "code",
      "source": [
        "cd WOSplus/wosplus/"
      ],
      "execution_count": 2,
      "outputs": [
        {
          "output_type": "stream",
          "text": [
            "/content/WOSplus/wosplus\n"
          ],
          "name": "stdout"
        }
      ]
    },
    {
      "metadata": {
        "id": "nhk2ZGEDd2Yo",
        "colab_type": "code",
        "colab": {}
      },
      "cell_type": "code",
      "source": [
        "import wosplus as wp\n",
        "import pandas as pd"
      ],
      "execution_count": 0,
      "outputs": []
    },
    {
      "metadata": {
        "id": "JS7jD1f47JUN",
        "colab_type": "text"
      },
      "cell_type": "markdown",
      "source": [
        "##  Configure public links of  files in Google Drive\n",
        "* If it is a Google Spreadsheet the corresponding file is downloaded as CSV\n",
        "* If it is in excel or text file the file is downloaded  directly\n",
        "\n",
        "To define your  own labeled IDs for public google drive files edit the next cell:"
      ]
    },
    {
      "metadata": {
        "id": "T4Rmd2dF7JUQ",
        "colab_type": "code",
        "outputId": "920a32c4-fc05-4f3c-a30c-d28994a2c0e4",
        "colab": {
          "base_uri": "https://localhost:8080/",
          "height": 35
        }
      },
      "cell_type": "code",
      "source": [
        "%%writefile drive.cfg\n",
        "[FILES]\n",
        "UDEA_WOS.xlsx       = 1px2IcrjCrkyu7t78Q7PAE5nzV_yuPt9t\n",
        "UDEA_SCI.xlsx       = 1pWMY5P72j0Ca6D-cm7dn7Q4TBGTs4PWV\n",
        "UDEA_SCP.xlsx       = 1ulCsFHzDiTmuL9TH8F58ulh0u8Z2ylKh\n",
        "UDEA_WOS_SCI_SCP.xlsx   = 1o9otmklgh-0w18Avv2ZTKOXr3vZbjwvj"
      ],
      "execution_count": 6,
      "outputs": [
        {
          "output_type": "stream",
          "text": [
            "Overwriting drive.cfg\n"
          ],
          "name": "stdout"
        }
      ]
    },
    {
      "metadata": {
        "id": "Y0D0hEdAMXUX",
        "colab_type": "text"
      },
      "cell_type": "markdown",
      "source": [
        "##  Load data bases"
      ]
    },
    {
      "metadata": {
        "id": "aonEaUgL5NAo",
        "colab_type": "code",
        "outputId": "9e99f704-3d6b-42d3-a019-bc23ef7f17a8",
        "colab": {
          "base_uri": "https://localhost:8080/",
          "height": 35
        }
      },
      "cell_type": "code",
      "source": [
        "UDEA=wp.wosplus('drive.cfg')\n",
        "tmp=UDEA.load_biblio('UDEA_WOS.xlsx') # creates WOS.WOS"
      ],
      "execution_count": 7,
      "outputs": [
        {
          "output_type": "stream",
          "text": [
            "WARNING: Biblio already has a \"Tipo\" column\n"
          ],
          "name": "stdout"
        }
      ]
    },
    {
      "metadata": {
        "id": "occzrIeCS7aQ",
        "colab_type": "code",
        "outputId": "5dda0b64-ccbb-403f-ca61-93276c76a225",
        "colab": {
          "base_uri": "https://localhost:8080/",
          "height": 35
        }
      },
      "cell_type": "code",
      "source": [
        "UDEA=wp.wosplus('drive.cfg')\n",
        "tmp=UDEA.load_biblio('UDEA_WOS.xlsx') # creates WOS.WOS\n",
        "tmp=UDEA.load_biblio('UDEA_SCI.xlsx',prefix='SCI') # creates UDEA.SCI\n",
        "tmp=UDEA.load_biblio('UDEA_SCP.xlsx',prefix='SCP') # creates UDEA.SCP"
      ],
      "execution_count": 8,
      "outputs": [
        {
          "output_type": "stream",
          "text": [
            "WARNING: Biblio already has a \"Tipo\" column\n"
          ],
          "name": "stdout"
        }
      ]
    },
    {
      "metadata": {
        "id": "lnS28xGmuQp5",
        "colab_type": "code",
        "outputId": "b1b8d186-645f-44fb-fb3f-68c79c4e8589",
        "colab": {
          "base_uri": "https://localhost:8080/",
          "height": 35
        }
      },
      "cell_type": "code",
      "source": [
        "print('before merge: {}'.format( UDEA.WOS.shape[0]+UDEA.SCI.shape[0]+UDEA.SCP.shape[0] )  )"
      ],
      "execution_count": 9,
      "outputs": [
        {
          "output_type": "stream",
          "text": [
            "before merge: 24676\n"
          ],
          "name": "stdout"
        }
      ]
    },
    {
      "metadata": {
        "id": "3yKWoYAMdm0J",
        "colab_type": "text"
      },
      "cell_type": "markdown",
      "source": [
        "### WOS+SCI"
      ]
    },
    {
      "metadata": {
        "id": "zsCnv55UuyNi",
        "colab_type": "code",
        "outputId": "64c6a2a5-4834-45f9-af5b-4bce0e6c15ee",
        "colab": {
          "base_uri": "https://localhost:8080/",
          "height": 34
        }
      },
      "cell_type": "code",
      "source": [
        "UDEA.merge(left='WOS',right='SCI')"
      ],
      "execution_count": 0,
      "outputs": [
        {
          "output_type": "stream",
          "text": [
            "................................................................................"
          ],
          "name": "stdout"
        }
      ]
    },
    {
      "metadata": {
        "id": "rDuqS3Muds3R",
        "colab_type": "text"
      },
      "cell_type": "markdown",
      "source": [
        "### WOS+SCI+SCP"
      ]
    },
    {
      "metadata": {
        "id": "XbpNjT40u83f",
        "colab_type": "code",
        "outputId": "f7a0c3f2-448f-456e-f1e2-dc70c8dc9a6b",
        "colab": {
          "base_uri": "https://localhost:8080/",
          "height": 54
        }
      },
      "cell_type": "code",
      "source": [
        "UDEA.merge(left='WOS_SCI',right='SCP')"
      ],
      "execution_count": 0,
      "outputs": [
        {
          "output_type": "stream",
          "text": [
            "................................................................................................................................................................................................................"
          ],
          "name": "stdout"
        }
      ]
    },
    {
      "metadata": {
        "id": "f5eF0y50vLrm",
        "colab_type": "code",
        "outputId": "3c02700b-df3a-406e-adf8-06d11039ff01",
        "colab": {
          "base_uri": "https://localhost:8080/",
          "height": 34
        }
      },
      "cell_type": "code",
      "source": [
        "print( 'after merge: {}'.format(UDEA.WOS_SCI_SCP.shape[0]))"
      ],
      "execution_count": 0,
      "outputs": [
        {
          "output_type": "stream",
          "text": [
            "after merge: 15504\n"
          ],
          "name": "stdout"
        }
      ]
    },
    {
      "metadata": {
        "id": "R503IhFiaFbA",
        "colab_type": "code",
        "colab": {}
      },
      "cell_type": "code",
      "source": [
        "UDEA.WOS_SCI_SCP.to_excel('UDEA_WOS_SCI_SCP.xlsx',index=False)"
      ],
      "execution_count": 0,
      "outputs": []
    },
    {
      "metadata": {
        "id": "Xlb-50u2a3ib",
        "colab_type": "text"
      },
      "cell_type": "markdown",
      "source": [
        "See the resulting Excel file by opening the side bar → Files → REFRESH and right click for Download upon the generated  \"'UDEA_WOS_SCI_SCP.xlsx'\" fille, or just check the corresponsing DataFrame:"
      ]
    },
    {
      "metadata": {
        "id": "CN8Rl9rdfASF",
        "colab_type": "code",
        "outputId": "fe0660cc-a971-41a8-8e35-0d2f74eef5ae",
        "colab": {
          "base_uri": "https://localhost:8080/",
          "height": 156
        }
      },
      "cell_type": "code",
      "source": [
        "UDEA.WOS_SCI_SCP.sample()"
      ],
      "execution_count": 0,
      "outputs": [
        {
          "output_type": "execute_result",
          "data": {
            "text/html": [
              "<div>\n",
              "<style scoped>\n",
              "    .dataframe tbody tr th:only-of-type {\n",
              "        vertical-align: middle;\n",
              "    }\n",
              "\n",
              "    .dataframe tbody tr th {\n",
              "        vertical-align: top;\n",
              "    }\n",
              "\n",
              "    .dataframe thead th {\n",
              "        text-align: right;\n",
              "    }\n",
              "</style>\n",
              "<table border=\"1\" class=\"dataframe\">\n",
              "  <thead>\n",
              "    <tr style=\"text-align: right;\">\n",
              "      <th></th>\n",
              "      <th>AB</th>\n",
              "      <th>AF</th>\n",
              "      <th>AR</th>\n",
              "      <th>AU</th>\n",
              "      <th>BA</th>\n",
              "      <th>BE</th>\n",
              "      <th>BF</th>\n",
              "      <th>BN</th>\n",
              "      <th>BP</th>\n",
              "      <th>C1</th>\n",
              "      <th>...</th>\n",
              "      <th>SU</th>\n",
              "      <th>TC</th>\n",
              "      <th>TI</th>\n",
              "      <th>Tipo</th>\n",
              "      <th>U1</th>\n",
              "      <th>U2</th>\n",
              "      <th>UT</th>\n",
              "      <th>VL</th>\n",
              "      <th>WC</th>\n",
              "      <th>Z9</th>\n",
              "    </tr>\n",
              "  </thead>\n",
              "  <tbody>\n",
              "    <tr>\n",
              "      <th>568</th>\n",
              "      <td></td>\n",
              "      <td>Vasquez, E.\\nFranco, J. L.\\nOrrego, J. C.\\n</td>\n",
              "      <td></td>\n",
              "      <td>Vasquez, E\\nFranco, JL\\nOrrego, JC\\n</td>\n",
              "      <td></td>\n",
              "      <td></td>\n",
              "      <td></td>\n",
              "      <td></td>\n",
              "      <td>S126\\n</td>\n",
              "      <td>[Vasquez, E.; Franco, J. L.; Orrego, J. C.] Un...</td>\n",
              "      <td>...</td>\n",
              "      <td>3\\n</td>\n",
              "      <td>0.0</td>\n",
              "      <td>Subcutaneous (SCIg) Gammaglobulin for the Trea...</td>\n",
              "      <td>WOS</td>\n",
              "      <td>0.0</td>\n",
              "      <td>0.0</td>\n",
              "      <td>WOS:000347388100064\\n</td>\n",
              "      <td>33\\n</td>\n",
              "      <td>Immunology\\n</td>\n",
              "      <td>0.0</td>\n",
              "    </tr>\n",
              "  </tbody>\n",
              "</table>\n",
              "<p>1 rows × 154 columns</p>\n",
              "</div>"
            ],
            "text/plain": [
              "    AB                                           AF AR  \\\n",
              "568     Vasquez, E.\\nFranco, J. L.\\nOrrego, J. C.\\n      \n",
              "\n",
              "                                       AU BA BE BF BN      BP  \\\n",
              "568  Vasquez, E\\nFranco, JL\\nOrrego, JC\\n              S126\\n   \n",
              "\n",
              "                                                    C1 ...    SU   TC  \\\n",
              "568  [Vasquez, E.; Franco, J. L.; Orrego, J. C.] Un... ...   3\\n  0.0   \n",
              "\n",
              "                                                    TI Tipo   U1   U2  \\\n",
              "568  Subcutaneous (SCIg) Gammaglobulin for the Trea...  WOS  0.0  0.0   \n",
              "\n",
              "                        UT    VL            WC   Z9  \n",
              "568  WOS:000347388100064\\n  33\\n  Immunology\\n  0.0  \n",
              "\n",
              "[1 rows x 154 columns]"
            ]
          },
          "metadata": {
            "tags": []
          },
          "execution_count": 14
        }
      ]
    },
    {
      "metadata": {
        "id": "ju7yZPvOrT8V",
        "colab_type": "code",
        "colab": {}
      },
      "cell_type": "code",
      "source": [
        ""
      ],
      "execution_count": 0,
      "outputs": []
    },
    {
      "metadata": {
        "id": "xbtsF0Vn5IeJ",
        "colab_type": "text"
      },
      "cell_type": "markdown",
      "source": [
        "## Load merged database"
      ]
    },
    {
      "metadata": {
        "id": "0p_GDpIe5NNt",
        "colab_type": "code",
        "colab": {}
      },
      "cell_type": "code",
      "source": [
        "udea=wp.wosplus('drive.cfg')"
      ],
      "execution_count": 0,
      "outputs": []
    },
    {
      "metadata": {
        "id": "PAB08BZa5b-8",
        "colab_type": "code",
        "colab": {}
      },
      "cell_type": "code",
      "source": [
        "#udea.load_biblio('UDEA_WOS_SCI_SCP.xlsx')"
      ],
      "execution_count": 0,
      "outputs": []
    },
    {
      "metadata": {
        "id": "dzTWh46t5dLa",
        "colab_type": "code",
        "colab": {}
      },
      "cell_type": "code",
      "source": [
        "UDEA=udea.read_drive_excel('UDEA_WOS_SCI_SCP.xlsx')"
      ],
      "execution_count": 0,
      "outputs": []
    },
    {
      "metadata": {
        "id": "RwPiIZyf6ci0",
        "colab_type": "code",
        "colab": {}
      },
      "cell_type": "code",
      "source": [
        "UDEA=UDEA.fillna('')"
      ],
      "execution_count": 0,
      "outputs": []
    },
    {
      "metadata": {
        "id": "ZWK5wJdC7sVj",
        "colab_type": "code",
        "outputId": "3b8c6f20-d419-48e0-d226-e38405f89765",
        "colab": {
          "base_uri": "https://localhost:8080/",
          "height": 35
        }
      },
      "cell_type": "code",
      "source": [
        "wp.df_split( UDEA, 'DI',Operator='!=',condition='')[0].shape"
      ],
      "execution_count": 0,
      "outputs": [
        {
          "output_type": "execute_result",
          "data": {
            "text/plain": [
              "(7993, 154)"
            ]
          },
          "metadata": {
            "tags": []
          },
          "execution_count": 21
        }
      ]
    },
    {
      "metadata": {
        "id": "yoGRnRCr6s8R",
        "colab_type": "code",
        "outputId": "74f97b16-4bc1-48f4-e025-932247d216da",
        "colab": {
          "base_uri": "https://localhost:8080/",
          "height": 72
        }
      },
      "cell_type": "code",
      "source": [
        "for t in ['WOS','SCI','SCP']:\n",
        "    print( 'DOIS {}: {}'.format(t,\n",
        "        wp.df_split( UDEA[ UDEA.Tipo.str.contains(t) ], 'DI',Operator='!=',condition='')[0].shape) )"
      ],
      "execution_count": 0,
      "outputs": [
        {
          "output_type": "stream",
          "text": [
            "DOIS WOS: (6025, 154)\n",
            "DOIS SCI: (1409, 154)\n",
            "DOIS SCP: (6955, 154)\n"
          ],
          "name": "stdout"
        }
      ]
    },
    {
      "metadata": {
        "id": "JsNaXsty60k4",
        "colab_type": "code",
        "outputId": "b8630d80-6660-46b8-f12b-d9406a90765a",
        "colab": {
          "base_uri": "https://localhost:8080/",
          "height": 35
        }
      },
      "cell_type": "code",
      "source": [
        "y.shape"
      ],
      "execution_count": 0,
      "outputs": [
        {
          "output_type": "execute_result",
          "data": {
            "text/plain": [
              "(6025, 154)"
            ]
          },
          "metadata": {
            "tags": []
          },
          "execution_count": 19
        }
      ]
    },
    {
      "metadata": {
        "id": "feV_64CK7VEp",
        "colab_type": "code",
        "colab": {}
      },
      "cell_type": "code",
      "source": [
        ""
      ],
      "execution_count": 0,
      "outputs": []
    }
  ]
}