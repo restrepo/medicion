{
 "cells": [
  {
   "cell_type": "code",
   "execution_count": 56,
   "metadata": {},
   "outputs": [],
   "source": [
    "import pandas as pd\n",
    "import json\n",
    "from fuzzywuzzy import fuzz\n",
    "import unidecode as ud\n",
    "from translate import Translator #pip install translate\n",
    "translator= Translator(from_lang=\"es\",to_lang=\"en\")\n",
    "pd.set_option('display.max_colwidth',500)\n",
    "pd.set_option('display.max_rows', 200)\n",
    "\n",
    "def partialdecode(s):\n",
    "    s=str(s)\n",
    "    return ud.unidecode(s.lower().strip())\n",
    "def fulldecode(s):\n",
    "    s=str(s)\n",
    "    return partialdecode(s\n",
    "                       ).replace('.',''\n",
    "                       ).replace(' ',''\n",
    "                       ).replace('(',''\n",
    "                       ).replace(')',''\n",
    "                       ).replace('[',''\n",
    "                       ).replace(']',''\n",
    "                       ).replace('{',''\n",
    "                       ).replace('}',''\n",
    "                       ).replace('-',''\n",
    "                       ).replace('_',''\n",
    "                       ).replace('#',''\n",
    "                       ).replace('$',''\n",
    "                       ).replace('\\\\',''\n",
    "                       ).replace('%',''\n",
    "                       ).replace('/',''\n",
    "                       ).replace('&',''\n",
    "                       ).replace('\"',''\n",
    "                       ).replace(\"'\",''\n",
    "                       ).replace(\"*\",''\n",
    "                       ).replace(\"^\",''\n",
    "                       ).replace(\"+\",''\n",
    "                       ).replace(\"~\",''\n",
    "                       ).replace(\"`\",''\n",
    "                       ).replace(\"´\",''\n",
    "                       ).replace(\">\",''\n",
    "                       ).replace(\"<\",''\n",
    "                       ).replace(\":\",''\n",
    "                       ).replace(\";\",''\n",
    "                       ).replace(\",\",''\n",
    "                       ).replace(\"!\",''\n",
    "                       ).replace(\"¡\",''\n",
    "                       ).replace(\"?\",''\n",
    "                       ).replace(\"¿\",''\n",
    "                       ).replace(\"|\",''\n",
    "                       )\n",
    "\n",
    "def quality(row,min_ratio=95,check_ratio=90,min_translation=60,\n",
    "                                            penalty_partial_ratio=-5,\n",
    "                                            penalty_token_set_ratio=-5,\n",
    "                                            penalty_partial_token_set_ratio=-10):\n",
    "    qr=0;qtst=0;qjr=0\n",
    "    if not isinstance( row['title_gs'],str):\n",
    "        return 0\n",
    "    if not row['title_gs']:\n",
    "        return 0\n",
    "    qr=fuzz.ratio(partialdecode(row['title']),partialdecode(row['title_gs']))\n",
    "    qjr=fuzz.partial_token_set_ratio(partialdecode(row['journal']),partialdecode(row['journal_gs']))\n",
    "    if qjr<min_ratio:\n",
    "        qjr=fuzz.partial_token_set_ratio(fulldecode(row['journal']),fulldecode(row['journal_gs']))\n",
    "\n",
    "    if qr>min_ratio:\n",
    "        return qr#,'1:'\n",
    "    #Additional checks requierd from here on\n",
    "    if qr>=check_ratio:\n",
    "        if qjr>=min_ratio:\n",
    "            return qr#,'2:'\n",
    "        if str(row['volume'])==str(row['volume_gs']):\n",
    "            return qr\n",
    "        if str(row['year'])==str(row['year']):\n",
    "            return qr#,'3:'\n",
    "    #Partial ratio: one title is included in the other\n",
    "    #with min_ratio\n",
    "    qpr=fuzz.partial_ratio(partialdecode(row['title']),partialdecode(row['title_gs']))\n",
    "    if qpr>=min_ratio:\n",
    "        if qjr>=min_ratio or str(row['volume'])==str(row['volume_gs']) or str(row['year'])==str(row['year']):\n",
    "            return qpr+penalty_partial_ratio #,'4:',qpr,\n",
    "    \n",
    "    #Token set ratio\n",
    "    qtser=fuzz.token_set_ratio(partialdecode(row['title']),partialdecode(row['title_gs']))\n",
    "    #with min_ratio    \n",
    "    if qtser>=check_ratio:\n",
    "        if qjr>=min_ratio or str(row['volume'])==str(row['volume_gs']) or str(row['year'])==str(row['year']):\n",
    "            return qtser+penalty_token_set_ratio#,'5:',qtser,\n",
    "        \n",
    "    #with check_ratio    \n",
    "    if qtser>=check_ratio:\n",
    "        if (qjr>=min_ratio and \n",
    "            str(row['volume'])==str(row['volume_gs']) and\n",
    "            str(row['year'])==str(row['year'])\n",
    "           ):\n",
    "            return qtser+penalty_token_set_ratio#,'6:',qtser,\n",
    "    #Translations with partial_token_set_ratio\n",
    "    #with min_ratio\n",
    "    qptser=fuzz.partial_token_set_ratio(partialdecode(row['title']),partialdecode(row['title_gs']))\n",
    "    if (qr>=min_translation or qpr>=min_translation or qtser>=min_translation) and qptser>min_ratio:\n",
    "        if (qjr>=min_ratio and \n",
    "            (str(row['volume'])==str(row['volume_gs']) or \n",
    "             str(row['year'])==str(row['year'])\n",
    "           )):\n",
    "            return max(qr,qpr)+penalty_partial_token_set_ratio#,'7:',max(qr,qpr),\n",
    "    #with min_translation\n",
    "    qtsor=fuzz.token_sort_ratio(partialdecode(row['title']),partialdecode(row['title_gs']))\n",
    "    if (qpr>=min_translation or qtser>=min_translation) and qtsor> min_translation and qptser>min_translation:\n",
    "        if (qjr>=min_ratio and \n",
    "            str(row['volume'])==str(row['volume_gs']) and\n",
    "            str(row['year'])==str(row['year'])\n",
    "           ):\n",
    "            return qpr+penalty_partial_token_set_ratio#,'8:',qpr,\n",
    "        \n",
    "        \n",
    "        \n",
    "    #Without Translation\n",
    "    if (qjr>=min_ratio and \n",
    "            str(row['volume'])==str(row['volume_gs']) and\n",
    "            str(row['year'])==str(row['year'])\n",
    "           ):\n",
    "        if qr>=min_translation:\n",
    "            return qr+penalty_partial_token_set_ratio#,'9:',qjr,\n",
    "\n",
    "    #With Translation!. Only use as last resource\n",
    "    tpr=0\n",
    "    if (  qptser>min_translation and \n",
    "          qjr>=min_ratio and \n",
    "        (str(row['volume'])==str(row['volume_gs']) or \n",
    "                 str(row['year'])==str(row['year'])\n",
    "        )  ):\n",
    "        s1=translator.translate( str(row['title']) )\n",
    "        s2=translator.translate( str(row['title_gs']) )\n",
    "        tpr=fuzz.partial_ratio(partialdecode(s1),partialdecode(s2))\n",
    "        if tpr>min_translation:\n",
    "            return tpr+penalty_partial_token_set_ratio#,'10:',tpr\n",
    "        \n",
    "    return 0#qr,qpr,qtser,qtsor,qptser,tpr,qjr"
   ]
  },
  {
   "cell_type": "code",
   "execution_count": 21,
   "metadata": {},
   "outputs": [],
   "source": [
    "with open(r\"data/consorcia_unique.json\", \"r\") as read_file:\n",
    "    data = json.load(read_file)"
   ]
  },
  {
   "cell_type": "code",
   "execution_count": 22,
   "metadata": {},
   "outputs": [],
   "source": [
    "cs=pd.DataFrame(data)"
   ]
  },
  {
   "cell_type": "code",
   "execution_count": 28,
   "metadata": {},
   "outputs": [],
   "source": [
    "with open(r\"data/scholar-fixes.json\", \"r\") as read_file:\n",
    "    data = json.load(read_file)"
   ]
  },
  {
   "cell_type": "code",
   "execution_count": 29,
   "metadata": {},
   "outputs": [],
   "source": [
    "gs=pd.DataFrame(data)"
   ]
  },
  {
   "cell_type": "code",
   "execution_count": 31,
   "metadata": {},
   "outputs": [
    {
     "data": {
      "text/plain": [
       "_id                            {'$oid': '5eebebd7b18458a59dccdc3a'}\n",
       "abstract          El objetivo fue identificar experiencias de im...\n",
       "article_id                                                         \n",
       "author            Panader-Torres, Adriana and Cerinza-León, Kare...\n",
       "bibtex            @article{panader2020experiencias,\\n  title={Ex...\n",
       "cid                                                    D_6K69PKCjsJ\n",
       "cites                                                           NaN\n",
       "cites_link                                                      NaN\n",
       "country                                                            \n",
       "doi                                          10.21676/2389783X.3234\n",
       "issue                                                              \n",
       "journal                                                     Duazary\n",
       "language                                                           \n",
       "old_title                                                          \n",
       "pages                                                        45--57\n",
       "pdf               http://revistas.unimagdalena.edu.co/index.php/...\n",
       "profiles                                                         {}\n",
       "publisher                                                          \n",
       "quality_author                                                   -1\n",
       "quality_title                                                    -1\n",
       "ref               A Panader-Torres, K Cerinza-León… - …, 2020 - ...\n",
       "rp                                                                0\n",
       "timestamp                                                1592519677\n",
       "title             Experiencias de educación interpares para favo...\n",
       "volume                                                           17\n",
       "year                                                           2020\n",
       "Name: 0, dtype: object"
      ]
     },
     "execution_count": 31,
     "metadata": {},
     "output_type": "execute_result"
    }
   ],
   "source": [
    "gs.loc[0]"
   ]
  },
  {
   "cell_type": "code",
   "execution_count": 32,
   "metadata": {},
   "outputs": [
    {
     "data": {
      "text/plain": [
       "Index(['_id', 'abstract', 'article_id', 'author', 'bibtex', 'cid', 'cites',\n",
       "       'cites_link', 'country', 'doi', 'issue', 'journal', 'language',\n",
       "       'old_title', 'pages', 'pdf', 'profiles', 'publisher', 'quality_author',\n",
       "       'quality_title', 'ref', 'rp', 'timestamp', 'title', 'volume', 'year'],\n",
       "      dtype='object')"
      ]
     },
     "execution_count": 32,
     "metadata": {},
     "output_type": "execute_result"
    }
   ],
   "source": [
    "gs.columns"
   ]
  },
  {
   "cell_type": "code",
   "execution_count": 33,
   "metadata": {},
   "outputs": [
    {
     "data": {
      "text/plain": [
       "(204536, 5)"
      ]
     },
     "execution_count": 33,
     "metadata": {},
     "output_type": "execute_result"
    }
   ],
   "source": [
    "cs.shape"
   ]
  },
  {
   "cell_type": "code",
   "execution_count": 34,
   "metadata": {},
   "outputs": [
    {
     "data": {
      "text/plain": [
       "doi                                10.1007/s10856-006-0536-5\n",
       "journal    Journal of Materials Science: Materials in Med...\n",
       "title      cytotoxicity study of plasma-sprayed hydroxyap...\n",
       "volume                                                    17\n",
       "year                                                    2006\n",
       "Name: 0, dtype: object"
      ]
     },
     "execution_count": 34,
     "metadata": {},
     "output_type": "execute_result"
    }
   ],
   "source": [
    "cs.loc[0]"
   ]
  },
  {
   "cell_type": "code",
   "execution_count": 35,
   "metadata": {},
   "outputs": [],
   "source": [
    "gs=gs.rename({'journal':'journal_gs','volume':'volume_gs','year':'year_gs','title':'title_gs'},axis='columns')"
   ]
  },
  {
   "cell_type": "code",
   "execution_count": 36,
   "metadata": {},
   "outputs": [
    {
     "data": {
      "text/plain": [
       "Index(['_id', 'abstract', 'article_id', 'author', 'bibtex', 'cid', 'cites',\n",
       "       'cites_link', 'country', 'doi', 'issue', 'journal_gs', 'language',\n",
       "       'old_title', 'pages', 'pdf', 'profiles', 'publisher', 'quality_author',\n",
       "       'quality_title', 'ref', 'rp', 'timestamp', 'title_gs', 'volume_gs',\n",
       "       'year_gs'],\n",
       "      dtype='object')"
      ]
     },
     "execution_count": 36,
     "metadata": {},
     "output_type": "execute_result"
    }
   ],
   "source": [
    "gs.columns"
   ]
  },
  {
   "cell_type": "code",
   "execution_count": 37,
   "metadata": {},
   "outputs": [
    {
     "data": {
      "text/plain": [
       "Index(['doi', 'journal', 'title', 'volume', 'year'], dtype='object')"
      ]
     },
     "execution_count": 37,
     "metadata": {},
     "output_type": "execute_result"
    }
   ],
   "source": [
    "cs.columns"
   ]
  },
  {
   "cell_type": "code",
   "execution_count": 38,
   "metadata": {},
   "outputs": [],
   "source": [
    "csgs=cs.merge(gs,on='doi',how='left')"
   ]
  },
  {
   "cell_type": "markdown",
   "metadata": {},
   "source": [
    "## 1) discard exact match"
   ]
  },
  {
   "cell_type": "code",
   "execution_count": 39,
   "metadata": {},
   "outputs": [
    {
     "data": {
      "text/plain": [
       "18    nan\n",
       "Name: title_gs, dtype: object"
      ]
     },
     "execution_count": 39,
     "metadata": {},
     "output_type": "execute_result"
    }
   ],
   "source": [
    "csgs['title_gs'].astype(str)[[18]]"
   ]
  },
  {
   "cell_type": "code",
   "execution_count": 40,
   "metadata": {},
   "outputs": [],
   "source": [
    "import unidecode as ud\n"
   ]
  },
  {
   "cell_type": "code",
   "execution_count": 41,
   "metadata": {},
   "outputs": [],
   "source": [
    "exact_match=( csgs['title'].apply(lambda s: fulldecode(s) if isinstance(s,str) else s) ==\n",
    "               csgs['title_gs'].apply(lambda s: fulldecode(s) if isinstance(s,str) else s)\n",
    "           )\n",
    "csgsy=csgs[exact_match].reset_index(drop=True)\n",
    "csgsp=csgs[~exact_match].reset_index(drop=True)"
   ]
  },
  {
   "cell_type": "code",
   "execution_count": null,
   "metadata": {},
   "outputs": [],
   "source": [
    "csgsy['Q']=100"
   ]
  },
  {
   "cell_type": "code",
   "execution_count": 42,
   "metadata": {},
   "outputs": [
    {
     "data": {
      "text/plain": [
       "(134794, 30)"
      ]
     },
     "execution_count": 42,
     "metadata": {},
     "output_type": "execute_result"
    }
   ],
   "source": [
    "csgsy.shape"
   ]
  },
  {
   "cell_type": "code",
   "execution_count": 43,
   "metadata": {},
   "outputs": [
    {
     "data": {
      "text/plain": [
       "(76248, 30)"
      ]
     },
     "execution_count": 43,
     "metadata": {},
     "output_type": "execute_result"
    }
   ],
   "source": [
    "csgsp.shape"
   ]
  },
  {
   "cell_type": "code",
   "execution_count": null,
   "metadata": {},
   "outputs": [],
   "source": [
    "filter_columns=['doi','title','journal','volume','year','title_gs','journal_gs','volume_gs','year_gs']"
   ]
  },
  {
   "cell_type": "code",
   "execution_count": null,
   "metadata": {},
   "outputs": [],
   "source": [
    "csgsp['Q']=csgsp.apply(quality,axis='columns')"
   ]
  },
  {
   "cell_type": "markdown",
   "metadata": {},
   "source": [
    "## Example translation"
   ]
  },
  {
   "cell_type": "code",
   "execution_count": null,
   "metadata": {},
   "outputs": [],
   "source": [
    "import unidecode as ud\n",
    "from fuzzywuzzy import fuzz\n",
    "from translate import Translator #pip install translate\n",
    "translator= Translator(from_lang=\"es\",to_lang=\"en\")\n",
    "\n",
    "def partialdecode(s):\n",
    "    s=str(s)\n",
    "    return ud.unidecode(s.lower().strip())\n",
    "\n",
    "s=\"primer registro del pez vaca cola amarilla hypoplectrus chlorurus (serranidae) en el caribe continental colombiano\" \n",
    "s1= translator.translate(s)\n",
    "s='First record of yellowtail hamlet Hypoplectrus chlorurus (Serranidae) in the Colombian continental Caribbean'\n",
    "s2=translator.translate(s)\n",
    "s1=partialdecode(s1)\n",
    "s2=partialdecode(s2)\n",
    "fuzz.partial_ratio(s1,s2)"
   ]
  },
  {
   "cell_type": "markdown",
   "metadata": {},
   "source": [
    "## Example `fuzz`"
   ]
  },
  {
   "cell_type": "code",
   "execution_count": 697,
   "metadata": {},
   "outputs": [],
   "source": [
    "s1='Revista Integración'\n",
    "s2='Revista Integración, temas de matemáticas'\n",
    "s1=partialdecode(s1)\n",
    "s2=partialdecode(s2)"
   ]
  },
  {
   "cell_type": "code",
   "execution_count": 698,
   "metadata": {},
   "outputs": [
    {
     "data": {
      "text/plain": [
       "63"
      ]
     },
     "execution_count": 698,
     "metadata": {},
     "output_type": "execute_result"
    }
   ],
   "source": [
    "fuzz.ratio(s2,s1)"
   ]
  },
  {
   "cell_type": "code",
   "execution_count": 699,
   "metadata": {},
   "outputs": [
    {
     "data": {
      "text/plain": [
       "100"
      ]
     },
     "execution_count": 699,
     "metadata": {},
     "output_type": "execute_result"
    }
   ],
   "source": [
    "fuzz.partial_ratio(s1,s2)"
   ]
  },
  {
   "cell_type": "code",
   "execution_count": 700,
   "metadata": {},
   "outputs": [
    {
     "data": {
      "text/plain": [
       "64"
      ]
     },
     "execution_count": 700,
     "metadata": {},
     "output_type": "execute_result"
    }
   ],
   "source": [
    "fuzz.token_sort_ratio(s1,s2)"
   ]
  },
  {
   "cell_type": "code",
   "execution_count": 701,
   "metadata": {},
   "outputs": [
    {
     "data": {
      "text/plain": [
       "100"
      ]
     },
     "execution_count": 701,
     "metadata": {},
     "output_type": "execute_result"
    }
   ],
   "source": [
    "fuzz.token_set_ratio(s1,s2)"
   ]
  },
  {
   "cell_type": "code",
   "execution_count": 702,
   "metadata": {},
   "outputs": [
    {
     "data": {
      "text/plain": [
       "100"
      ]
     },
     "execution_count": 702,
     "metadata": {},
     "output_type": "execute_result"
    }
   ],
   "source": [
    "fuzz.partial_token_set_ratio(s1,s2)"
   ]
  },
  {
   "cell_type": "code",
   "execution_count": 599,
   "metadata": {},
   "outputs": [
    {
     "data": {
      "text/plain": [
       "58"
      ]
     },
     "execution_count": 599,
     "metadata": {},
     "output_type": "execute_result"
    }
   ],
   "source": [
    "fuzz.partial_token_sort_ratio(s1,s2)"
   ]
  },
  {
   "cell_type": "code",
   "execution_count": null,
   "metadata": {},
   "outputs": [],
   "source": []
  }
 ],
 "metadata": {
  "kernelspec": {
   "display_name": "Python 3",
   "language": "python",
   "name": "python3"
  },
  "language_info": {
   "codemirror_mode": {
    "name": "ipython",
    "version": 3
   },
   "file_extension": ".py",
   "mimetype": "text/x-python",
   "name": "python",
   "nbconvert_exporter": "python",
   "pygments_lexer": "ipython3",
   "version": "3.5.3"
  }
 },
 "nbformat": 4,
 "nbformat_minor": 4
}
