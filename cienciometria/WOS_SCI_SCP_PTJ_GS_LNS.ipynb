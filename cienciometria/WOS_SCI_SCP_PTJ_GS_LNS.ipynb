{
 "cells": [
  {
   "cell_type": "markdown",
   "metadata": {
    "colab_type": "text",
    "id": "view-in-github"
   },
   "source": [
    "<a href=\"https://colab.research.google.com/github/restrepo/medicion/blob/master/cienciometria/WOS_SCI_SCP.ipynb\" target=\"_parent\"><img src=\"https://colab.research.google.com/assets/colab-badge.svg\" alt=\"Open In Colab\"/></a>"
   ]
  },
  {
   "cell_type": "markdown",
   "metadata": {
    "colab_type": "text",
    "id": "aDnqho-CsEwj"
   },
   "source": [
    "# WOS+SCI+SCP+PTJ+GS+LNS\n",
    "Merge the bibliographic datasets for \n",
    "* Web of Science, \n",
    "* Scielo \n",
    "* Scopus \n",
    "* Google Scholar\n",
    "* Puntaje\n",
    "* Lens\n",
    "of the scientific articles of Universidad de Antioquia\n",
    "\n",
    "For details see [merge.ipynb in Colaboratory](https://colab.research.google.com/github/restrepo/medicion/blob/master/cienciometria/merge.ipynb)"
   ]
  },
  {
   "cell_type": "markdown",
   "metadata": {},
   "source": [
    "## functions"
   ]
  },
  {
   "cell_type": "code",
   "execution_count": 1,
   "metadata": {
    "collapsed": true
   },
   "outputs": [],
   "source": [
    "import unidecode\n",
    "def get_author_info(x):\n",
    "    sep='; '\n",
    "    authors=[{'WOS_author':x[0].split(sep)[0],'affiliation':[x[0].split(sep)[-1]],'i':0}]\n",
    "    iau=1\n",
    "    for y  in x:\n",
    "        y2=y.replace('[','').replace('] ',sep).split(sep)\n",
    "        for z in y2[:-1]:\n",
    "            aulist=[ d.get('WOS_author') for d in authors]\n",
    "            if z not in aulist:\n",
    "                authors.append({'WOS_author':z,'affiliation':[y2[-1]],'i':iau})\n",
    "                iau=iau+1\n",
    "            else:\n",
    "                if y2[-1] not in [ d.get('affiliation') for d in authors if d.get('WOS_author')==z][0]:\n",
    "                    index_author=[ d.get('i') for d in authors if d.get('WOS_author')==z][0]\n",
    "                    authors[index_author]['affiliation'].append(y2[-1])\n",
    "    return authors\n",
    "\n",
    "def dictionary_list_add_columns(df,df_dl,df_dl_key,df_dl_i,df_columns):\n",
    "    '''\n",
    "    For a\n",
    "     df: Pandas DataFrame \n",
    "    with a:\n",
    "     df_dl: column of list of dictionaries, with\n",
    "     df_dl_key: dictionary key: e.g x=[{df_dl_key:1},{df_dl_key:2}]\n",
    "    for the element df_dl_i of the list:\n",
    "    Update the dictionary with:\n",
    "        df_dl_key==x[df_dl_i][df_dl_key]\n",
    "    with the dictionaries { df_columns[i]: df_columns[i].values }\n",
    "    '''\n",
    "    dff=df.copy()\n",
    "    for key in df_columns:\n",
    "        tmp=dff[df_dl].combine(dff[key],\n",
    "                func=lambda x,y: y if pd.isna(y) \n",
    "                                   else \n",
    "                                     [z.update({key:y}) \n",
    "                                     if z.get(df_dl_key)==x[df_dl_i][df_dl_key] \n",
    "                                     else z \n",
    "                                 for z in x  ] )\n",
    "    return dff\n",
    "\n",
    "def split_full_names(y,full_name='full_name'):\n",
    "    \"\"\"\n",
    "    From an input dictionary with {full_name:'APPELLIDO1 APPELLIDO2 NOMBRES'}\n",
    "    Obtain a dictionary with the several name parts.\n",
    "    \"\"\"    \n",
    "    yy=y.get(full_name).title()\n",
    "    lfn=len(y[full_name].split())\n",
    "    aps=0\n",
    "    d={ 'PRIMER APELLIDO':yy.split()[aps] }\n",
    "    aps=aps+1\n",
    "    if lfn>=4:\n",
    "        names=-2\n",
    "        if lfn==5: # Extra name or last name\n",
    "            yyy=yy.split()\n",
    "            ll=pd.np.array( [len(n) for n in yyy ] )\n",
    "            if ll[3:][ ll[3:]  <= 3 ].shape[0]:\n",
    "                # last_names first_first_name de(l) second_first_name\n",
    "                yy=' '.join( [ y for y in yyy if len(y)>=3] )\n",
    "            else: \n",
    "                # first_last name de(l) second_last_name first_names\n",
    "                tmpll=yyy.pop() # internal memory\n",
    "                yy=' '.join( yyy )  \n",
    "        if len( d['PRIMER APELLIDO'] )<=3:\n",
    "            d['PRIMER APELLIDO']=d['PRIMER APELLIDO']+' '+yy.split()[aps]\n",
    "            aps=aps+1\n",
    "            d.update(  {'SEGUNDO APELLIDO':yy.split()[aps]} )\n",
    "            names=names+1\n",
    "            \n",
    "        d.update({'SEGUNDO APELLIDO':yy.split()[aps]})\n",
    "        aps=aps+1\n",
    "        if len( d['SEGUNDO APELLIDO'] )<=3:\n",
    "            d['SEGUNDO APELLIDO']=d['SEGUNDO APELLIDO']+' '+yy.split()[aps]\n",
    "            if names==-2:\n",
    "                names=names+1\n",
    "    elif lfn>=3:        \n",
    "        d.update({'SEGUNDO APELLIDO':yy.split()[aps]})\n",
    "        names=-1\n",
    "    else: #Colombian interpretation (TODO: Includes Brazilian interpretation)    \n",
    "        names=-1\n",
    "    d.update({'NOMBRES':' '.join( yy.split()[names:]),\n",
    "              'INICIALES':' '.join( [z[0]+'.' for z in yy.split()[names:]] ),\n",
    "              })\n",
    "    if not d.get('SEGUNDO APELLIDO'):\n",
    "        d['SEGUNDO APELLIDO']=''\n",
    "    #if not d.get('NOMBRE COMPLETO'):\n",
    "    #    d['NOMBRE COMPLETO']=''        \n",
    "    return d\n",
    "\n",
    "# Creates mask Search key in a list of dictionay\n",
    "# First apply convert null values to string\n",
    "# Second apply: implement a mask\n",
    "def find_key_in_list_of_dictionaries(df,column,key,pattern):\n",
    "    return df[column].apply(lambda x: \n",
    "                [ '' if pd.isnull( y.get(key)) else y for y in x ]  ).apply(\n",
    "                            lambda x: \n",
    "                [ True if y.get(key).find(pattern)>-1 else False for y in x  ][0]  )\n",
    "\n",
    "def key_contains_in_list_of_dictionaries(df,pattern,column='authors_WOS',key='WOS_author'):\n",
    "    #TODO: loop in column len\n",
    "    i=0\n",
    "    r=df[ df[column].str[i].apply(lambda x: {} if pd.isnull(x) else x).apply(\n",
    "                       lambda x: x.get(key) if x else '').str.contains(\n",
    "        pattern) ][column].reset_index(drop=True)\n",
    "    return r"
   ]
  },
  {
   "cell_type": "code",
   "execution_count": 2,
   "metadata": {
    "colab": {},
    "colab_type": "code",
    "collapsed": true,
    "id": "nhk2ZGEDd2Yo"
   },
   "outputs": [],
   "source": [
    "import wosplus as wp\n",
    "import numpy as np\n",
    "import pandas as pd\n",
    "import unidecode\n",
    "import os\n",
    "from IPython.display import clear_output\n",
    "pd.set_option('display.max_colwidth',200)"
   ]
  },
  {
   "cell_type": "markdown",
   "metadata": {
    "colab_type": "text",
    "id": "JS7jD1f47JUN"
   },
   "source": [
    "##  Configure public links of  files in Google Drive\n",
    "* If it is a Google Spreadsheet the corresponding file is downloaded as CSV\n",
    "* If it is in excel or text file the file is downloaded  directly\n",
    "\n",
    "To define your  own labeled IDs for public google drive files edit the next cell:"
   ]
  },
  {
   "cell_type": "code",
   "execution_count": 3,
   "metadata": {
    "colab": {
     "base_uri": "https://localhost:8080/",
     "height": 35
    },
    "colab_type": "code",
    "id": "T4Rmd2dF7JUQ",
    "outputId": "39a5835e-1b38-48b6-f1a5-e9964c846123"
   },
   "outputs": [
    {
     "name": "stdout",
     "output_type": "stream",
     "text": [
      "Writing drive.cfg\n"
     ]
    }
   ],
   "source": [
    "%%writefile drive.cfg\n",
    "[FILES]\n",
    "UDEA_WOS.xlsx       = 1px2IcrjCrkyu7t78Q7PAE5nzV_yuPt9t\n",
    "UDEA_SCI.xlsx       = 1pWMY5P72j0Ca6D-cm7dn7Q4TBGTs4PWV\n",
    "UDEA_SCP.xlsx       = 1ulCsFHzDiTmuL9TH8F58ulh0u8Z2ylKh\n",
    "UDEA_WOS_SCI_SCP.xlsx   = 1o9otmklgh-0w18Avv2ZTKOXr3vZbjwvj\n",
    "UDEA_WOS_SCI_SCP.json=1RTDCh5pl0vapjJT_e9ZwadHPGBKGGv6Y\n",
    "UDEA_WOS_SCI_SCP.json.gz=19E1C1kRk4I0V3uXojqko8-NEicWaPp1j\n",
    "WOS_SCP_UDEA_SJR_SIU.xlsx=0BxoOXsn2EUNIQ3R4WDhvSzVLQ2s\n",
    "Base_de_datos_investigadores_Definitiva.csv=12oalgUeKhpvzkTPBP8pXCeHTrF-KO223dy9ov9w9QKs\n",
    "UDEA_authors_with_WOS_info.json=1o1eVT4JD0FMMICq_oxrTJOzWh47veBMw"
   ]
  },
  {
   "cell_type": "markdown",
   "metadata": {
    "colab_type": "text",
    "id": "Y0D0hEdAMXUX"
   },
   "source": [
    "##  Load data bases"
   ]
  },
  {
   "cell_type": "code",
   "execution_count": 4,
   "metadata": {
    "colab": {
     "base_uri": "https://localhost:8080/",
     "height": 35
    },
    "colab_type": "code",
    "collapsed": true,
    "id": "occzrIeCS7aQ",
    "outputId": "17b144f3-eef0-4c8a-c2b4-10c8fe55802c"
   },
   "outputs": [],
   "source": [
    "affil='Univ Antioquia'\n",
    "drive_files=wp.wosplus('drive.cfg')\n",
    "RECOVER=False\n",
    "if RECOVER==True:\n",
    "    print('Go to: http://fisica.udea.edu.co:4443/user/restrepo/notebooks/prog/medicion/medicion/cienciometria/WOS_SCI_SCP_PTJ_GS_LNS.ipynb#Load-output-restuls-of-previous-Cell-runs')"
   ]
  },
  {
   "cell_type": "code",
   "execution_count": 5,
   "metadata": {
    "colab": {},
    "colab_type": "code",
    "collapsed": true,
    "id": "oq9QM3cBYH0a"
   },
   "outputs": [],
   "source": [
    "if os.path.exists('UDEA_WOS_SCI_SCP.json'):\n",
    "    UDEA=pd.read_json('UDEA_WOS_SCI_SCP.json')\n",
    "else:    \n",
    "    UDEA=drive_files.read_drive_json('UDEA_WOS_SCI_SCP.json')"
   ]
  },
  {
   "cell_type": "code",
   "execution_count": 6,
   "metadata": {
    "colab": {
     "base_uri": "https://localhost:8080/",
     "height": 53
    },
    "colab_type": "code",
    "id": "Cb5epW_9iL4s",
    "outputId": "aa6b2752-c475-4ee6-f344-627e377453c9"
   },
   "outputs": [
    {
     "data": {
      "text/plain": [
       "array(['WOS', 'SCI_SCP', 'WOS_SCP', 'WOS_SCI_SCP', 'SCP', 'WOS_SCI',\n",
       "       'SCI'], dtype=object)"
      ]
     },
     "execution_count": 6,
     "metadata": {},
     "output_type": "execute_result"
    }
   ],
   "source": [
    "UDEA.Tipo.unique()"
   ]
  },
  {
   "cell_type": "code",
   "execution_count": 7,
   "metadata": {},
   "outputs": [
    {
     "name": "stdout",
     "output_type": "stream",
     "text": [
      "WOS:1884\n",
      "SCI_SCP:1622\n",
      "WOS_SCP:5824\n",
      "WOS_SCI_SCP:773\n",
      "SCP:2584\n",
      "WOS_SCI:147\n",
      "SCI:2892\n"
     ]
    }
   ],
   "source": [
    "for t in UDEA.Tipo.unique():\n",
    "    print( '{}:{}'.format( t, UDEA[ UDEA.Tipo==t].shape[0] ) )"
   ]
  },
  {
   "cell_type": "markdown",
   "metadata": {},
   "source": [
    "## Extract  affiliation from C1"
   ]
  },
  {
   "cell_type": "code",
   "execution_count": 8,
   "metadata": {
    "collapsed": true
   },
   "outputs": [],
   "source": [
    "UDEA['authors_WOS']=UDEA.C1.apply(lambda x: x.split('\\n') if x else x).apply(\n",
    "    lambda x:   [y.replace('[','').replace('] ','; ') for y in x if y.find(affil)>-1 ] if x else x ).apply(\n",
    "     lambda x: get_author_info(x) if x else x)\n",
    "\n",
    "# Improve normalization: remove C1s with only affiliation (from Scielo)\n",
    "UDEA['authors_WOS']=UDEA['authors_WOS'].apply( \n",
    "    lambda x: [d for d in x if d.get('WOS_author').find(affil)==-1] if type(x)==list else x )"
   ]
  },
  {
   "cell_type": "markdown",
   "metadata": {},
   "source": [
    "## Load trained old data "
   ]
  },
  {
   "cell_type": "code",
   "execution_count": 9,
   "metadata": {
    "collapsed": true
   },
   "outputs": [],
   "source": [
    "if os.path.exists('WOS_SCP_UDEA_SJR_SIU.xlsx'):\n",
    "    SIU=pd.read_excel('WOS_SCP_UDEA_SJR_SIU.xlsx')\n",
    "else:    \n",
    "    SIU=drive_files.read_drive_excel('WOS_SCP_UDEA_SJR_SIU.xlsx')"
   ]
  },
  {
   "cell_type": "code",
   "execution_count": 10,
   "metadata": {},
   "outputs": [
    {
     "data": {
      "text/plain": [
       "array(['WOS+SCP', 'WOS+SCP+UDEA', 'WOS+SCI+SCP', 'WOS+SCI+SCP+UDEA',\n",
       "       'SCI+SCP', 'SCI+SCP+UDEA', 'SCP', 'SCP+UDEA', 'WOS', 'WOS+UDEA',\n",
       "       'WOS+SCI', 'WOS+SCI+UDEA', 'SCI', 'SCI+UDEA', 'UDEA'], dtype=object)"
      ]
     },
     "execution_count": 10,
     "metadata": {},
     "output_type": "execute_result"
    }
   ],
   "source": [
    "SIU.Tipo.unique()"
   ]
  },
  {
   "cell_type": "code",
   "execution_count": 11,
   "metadata": {
    "collapsed": true
   },
   "outputs": [],
   "source": [
    "SIU=SIU[SIU.Tipo.str.contains('\\+UDEA')].reset_index(drop=True)"
   ]
  },
  {
   "cell_type": "code",
   "execution_count": 12,
   "metadata": {},
   "outputs": [
    {
     "data": {
      "text/plain": [
       "array(['AB', 'AF', 'AR', 'AU', 'BA', 'BE', 'BF', 'BN', 'BP', 'C1', 'CA',\n",
       "       'CL', 'CR', 'CT', 'CTR_CATEGORÍA G', 'CTR_CATEGORÍA I',\n",
       "       'CTR_Centro', 'CTR_CÉDULA', 'CTR_GRUPO', 'CTR_LINK CVLAC',\n",
       "       'CTR_NOMBRE', 'CTR_Nivel de Formación', 'CTR_Tipo de Vinculación',\n",
       "       'CTR_vinculación GrupLAC', 'CY', 'Clasificación 2016', 'D2', 'DE',\n",
       "       'DI', 'DT', 'EI', 'EM', 'EP', 'FU', 'FX', 'GA', 'GP', 'HO', 'ID',\n",
       "       'IS', 'ISSN', 'J9', 'JI', 'LA', 'MA', 'NR', 'OI', 'PA', 'PD', 'PG',\n",
       "       'PI', 'PM', 'PN', 'PT', 'PU', 'PY', 'RI', 'RP', 'SC', 'SCI_AB',\n",
       "       'SCI_AU', 'SCI_BP', 'SCI_C1', 'SCI_C2', 'SCI_CR', 'SCI_DE',\n",
       "       'SCI_DI', 'SCI_DT', 'SCI_EC', 'SCI_EM', 'SCI_EP', 'SCI_IS',\n",
       "       'SCI_LA', 'SCI_NR', 'SCI_OI', 'SCI_PA', 'SCI_PD', 'SCI_PI',\n",
       "       'SCI_PT', 'SCI_PU', 'SCI_PY', 'SCI_RI', 'SCI_SC', 'SCI_SN',\n",
       "       'SCI_SO', 'SCI_TC', 'SCI_TI', 'SCI_U1', 'SCI_U2', 'SCI_UT',\n",
       "       'SCI_VL', 'SCI_X1', 'SCI_X4', 'SCI_X5', 'SCI_Y1', 'SCI_Y4',\n",
       "       'SCI_Y5', 'SCI_Z1', 'SCI_Z4', 'SCI_Z5', 'SCI_Z9', 'SCI_alias',\n",
       "       'SCI_au1', 'SCP_Abbreviated Source Title', 'SCP_Abstract',\n",
       "       'SCP_Affiliations', 'SCP_Art. No.', 'SCP_Author Keywords',\n",
       "       'SCP_Authors', 'SCP_Authors with affiliations', 'SCP_CODEN',\n",
       "       'SCP_Chemicals/CAS', 'SCP_Cited by', 'SCP_Conference code',\n",
       "       'SCP_Conference date', 'SCP_Conference location',\n",
       "       'SCP_Conference name', 'SCP_Correspondence Address', 'SCP_DOI',\n",
       "       'SCP_Document Type', 'SCP_EID', 'SCP_Editors',\n",
       "       'SCP_Funding Details', 'SCP_Funding Text', 'SCP_ISBN', 'SCP_ISSN',\n",
       "       'SCP_Index Keywords', 'SCP_Issue',\n",
       "       'SCP_Language of Original Document', 'SCP_Link',\n",
       "       'SCP_Manufacturers', 'SCP_Molecular Sequence Numbers',\n",
       "       'SCP_Page count', 'SCP_Page end', 'SCP_Page start',\n",
       "       'SCP_PubMed ID', 'SCP_Publisher', 'SCP_References', 'SCP_Source',\n",
       "       'SCP_Source title', 'SCP_Sponsors', 'SCP_Title', 'SCP_Title_0',\n",
       "       'SCP_Title_1', 'SCP_Title_2', 'SCP_Tradenames', 'SCP_Volume',\n",
       "       'SCP_Year', 'SCP_alias', 'SCP_au1', 'SE', 'SI',\n",
       "       'SJR_Citable Docs. (3years)', 'SJR_Cites / Doc. (2years)',\n",
       "       'SJR_Country', 'SJR_H index', 'SJR_Issn', 'SJR_OpenAccess',\n",
       "       'SJR_Rank', 'SJR_Ref. / Doc.', 'SJR_SJR', 'SJR_SJR Best Quartile',\n",
       "       'SJR_Title', 'SJR_Total Cites (3years)', 'SJR_Total Docs. (2015)',\n",
       "       'SJR_Total Docs. (3years)', 'SJR_Total Refs.', 'SJR_Type', 'SN',\n",
       "       'SO', 'SP', 'SU', 'TC', 'TI', 'Tipo', 'U1', 'U2', 'UDEA_autores',\n",
       "       'UDEA_año realiz', 'UDEA_doi', 'UDEA_fecha aplicación',\n",
       "       'UDEA_idioma', 'UDEA_item adic', 'UDEA_material', 'UDEA_nombre',\n",
       "       'UDEA_nombre revista o premio', 'UDEA_nro autores', 'UDEA_país',\n",
       "       'UDEA_procodigo', 'UDEA_ptos', 'UDEA_simple_doi', 'UDEA_título',\n",
       "       'UDEA_título_0', 'UDEA_título_1', 'UDEA_título_2',\n",
       "       'UDEA_valor item', 'UT', 'VL', 'WC', 'WOS_alias', 'WOS_au1', 'Z9',\n",
       "       'pre_UDEA_autores', 'áreas'], dtype=object)"
      ]
     },
     "execution_count": 12,
     "metadata": {},
     "output_type": "execute_result"
    }
   ],
   "source": [
    "SIU.columns.values"
   ]
  },
  {
   "cell_type": "markdown",
   "metadata": {},
   "source": [
    "TODO: def: Convert value string list into a list of dictionaries"
   ]
  },
  {
   "cell_type": "code",
   "execution_count": 13,
   "metadata": {
    "collapsed": true
   },
   "outputs": [],
   "source": [
    "SIU['UDEA_autores']=SIU['UDEA_autores'].str.replace('  ',' ')"
   ]
  },
  {
   "cell_type": "code",
   "execution_count": 14,
   "metadata": {
    "collapsed": true
   },
   "outputs": [],
   "source": [
    "SIU['UDEA_authors']=SIU.UDEA_autores.str.split(';').apply(lambda x: [{'full_name':y} for y in x ])"
   ]
  },
  {
   "cell_type": "markdown",
   "metadata": {},
   "source": [
    "## Merge with official researcher list"
   ]
  },
  {
   "cell_type": "code",
   "execution_count": 15,
   "metadata": {
    "collapsed": true
   },
   "outputs": [],
   "source": [
    "AU=drive_files.read_drive_excel('Base_de_datos_investigadores_Definitiva.csv')"
   ]
  },
  {
   "cell_type": "code",
   "execution_count": 16,
   "metadata": {
    "collapsed": true
   },
   "outputs": [],
   "source": [
    "AU_columns=list( AU.columns.values )"
   ]
  },
  {
   "cell_type": "code",
   "execution_count": 17,
   "metadata": {
    "collapsed": true
   },
   "outputs": [],
   "source": [
    "AU['name_tmp']=(AU['PRIMER APELLIDO']+' '+AU['SEGUNDO APELLIDO']+' '+AU['NOMBRES']).str.lower().str.strip().apply( \n",
    "    unidecode.unidecode )"
   ]
  },
  {
   "cell_type": "code",
   "execution_count": 18,
   "metadata": {
    "collapsed": true
   },
   "outputs": [],
   "source": [
    "maxau=SIU['UDEA_authors'].apply(lambda x: [y.get('full_name') for y in x ]).apply(len).max()"
   ]
  },
  {
   "cell_type": "code",
   "execution_count": 19,
   "metadata": {
    "collapsed": true
   },
   "outputs": [],
   "source": [
    "kkn=SIU.copy()"
   ]
  },
  {
   "cell_type": "code",
   "execution_count": 20,
   "metadata": {},
   "outputs": [
    {
     "name": "stdout",
     "output_type": "stream",
     "text": [
      "0\n",
      "1\n",
      "2\n",
      "3\n",
      "4\n",
      "5\n",
      "6\n",
      "7\n",
      "8\n",
      "9\n"
     ]
    }
   ],
   "source": [
    "newcolumns=['name_tmp']+AU_columns\n",
    "for i in range(maxau):\n",
    "    print(i)\n",
    "    kkn['name_tmp']=kkn['UDEA_authors'].apply(lambda x: [y.get('full_name') for y in x ]\n",
    "                            ).str[i].apply( lambda x: unidecode.unidecode( x.lower().strip()) \n",
    "                                                      if not pd.isna(x) else x)\n",
    "    if not kkn[~kkn['name_tmp'].isna()].empty:\n",
    "        kkn=kkn.merge(AU[newcolumns],on='name_tmp',how='left').reset_index(drop=True)\n",
    "        kkn=dictionary_list_add_columns(kkn,'UDEA_authors','full_name',i,AU_columns)\n",
    "        kkn=kkn.drop(newcolumns,axis='columns')"
   ]
  },
  {
   "cell_type": "markdown",
   "metadata": {},
   "source": [
    "https://stackoverflow.com/a/29530601/2268280"
   ]
  },
  {
   "cell_type": "markdown",
   "metadata": {},
   "source": [
    "BUG: Cells filled with nans"
   ]
  },
  {
   "cell_type": "code",
   "execution_count": 21,
   "metadata": {},
   "outputs": [
    {
     "data": {
      "text/plain": [
       "((7916, 205), (7916, 205))"
      ]
     },
     "execution_count": 21,
     "metadata": {},
     "output_type": "execute_result"
    }
   ],
   "source": [
    "kkn.shape,SIU.shape"
   ]
  },
  {
   "cell_type": "code",
   "execution_count": 22,
   "metadata": {
    "collapsed": true
   },
   "outputs": [],
   "source": [
    "SIU=kkn.copy()"
   ]
  },
  {
   "cell_type": "code",
   "execution_count": 23,
   "metadata": {},
   "outputs": [
    {
     "data": {
      "text/html": [
       "<div>\n",
       "<style scoped>\n",
       "    .dataframe tbody tr th:only-of-type {\n",
       "        vertical-align: middle;\n",
       "    }\n",
       "\n",
       "    .dataframe tbody tr th {\n",
       "        vertical-align: top;\n",
       "    }\n",
       "\n",
       "    .dataframe thead th {\n",
       "        text-align: right;\n",
       "    }\n",
       "</style>\n",
       "<table border=\"1\" class=\"dataframe\">\n",
       "  <thead>\n",
       "    <tr style=\"text-align: right;\">\n",
       "      <th></th>\n",
       "      <th>CÉDULA</th>\n",
       "      <th>NOMBRE COMPLETO</th>\n",
       "      <th>NOMBRES</th>\n",
       "      <th>PRIMER APELLIDO</th>\n",
       "      <th>SEGUNDO APELLIDO</th>\n",
       "      <th>FACULTAD</th>\n",
       "      <th>DEPARTAMENTO</th>\n",
       "      <th>GRUPO</th>\n",
       "      <th>name_tmp</th>\n",
       "    </tr>\n",
       "  </thead>\n",
       "  <tbody>\n",
       "    <tr>\n",
       "      <th>234</th>\n",
       "      <td>15386534</td>\n",
       "      <td>Oscar Alberto Zapata Noreña</td>\n",
       "      <td>Oscar Alberto</td>\n",
       "      <td>Zapata</td>\n",
       "      <td>Noreña</td>\n",
       "      <td>Facultad de Ciencias Exactas y Naturales</td>\n",
       "      <td>Instituto de Física</td>\n",
       "      <td>Grupo de Fenomenologia de Interacciones Fundamentales</td>\n",
       "      <td>zapata norena oscar alberto</td>\n",
       "    </tr>\n",
       "  </tbody>\n",
       "</table>\n",
       "</div>"
      ],
      "text/plain": [
       "       CÉDULA              NOMBRE COMPLETO         NOMBRES PRIMER APELLIDO  \\\n",
       "234  15386534  Oscar Alberto Zapata Noreña  Oscar Alberto           Zapata   \n",
       "\n",
       "    SEGUNDO APELLIDO                                  FACULTAD  \\\n",
       "234           Noreña  Facultad de Ciencias Exactas y Naturales   \n",
       "\n",
       "            DEPARTAMENTO  \\\n",
       "234  Instituto de Física   \n",
       "\n",
       "                                                     GRUPO  \\\n",
       "234  Grupo de Fenomenologia de Interacciones Fundamentales   \n",
       "\n",
       "                        name_tmp  \n",
       "234  zapata norena oscar alberto  "
      ]
     },
     "execution_count": 23,
     "metadata": {},
     "output_type": "execute_result"
    }
   ],
   "source": [
    "AU[ AU['NOMBRE COMPLETO'].str.contains('Oscar Alberto Zapata Noreña') ]"
   ]
  },
  {
   "cell_type": "markdown",
   "metadata": {},
   "source": [
    "Quality check"
   ]
  },
  {
   "cell_type": "code",
   "execution_count": 24,
   "metadata": {},
   "outputs": [
    {
     "data": {
      "text/plain": [
       "[{'CÉDULA': 15386534.0,\n",
       "  'DEPARTAMENTO': 'Instituto de Física',\n",
       "  'FACULTAD': 'Facultad de Ciencias Exactas y Naturales',\n",
       "  'GRUPO': 'Grupo de Fenomenologia de Interacciones Fundamentales',\n",
       "  'NOMBRE COMPLETO': 'Oscar Alberto Zapata Noreña',\n",
       "  'NOMBRES': 'Oscar Alberto ',\n",
       "  'PRIMER APELLIDO': 'Zapata',\n",
       "  'SEGUNDO APELLIDO': 'Noreña',\n",
       "  'full_name': 'ZAPATA NOREÑA OSCAR ALBERTO'},\n",
       " {'CÉDULA': 8287417.0,\n",
       "  'DEPARTAMENTO': 'Instituto de Física',\n",
       "  'FACULTAD': 'Facultad de Ciencias Exactas y Naturales',\n",
       "  'GRUPO': 'Grupo de Fenomenologia de Interacciones Fundamentales',\n",
       "  'NOMBRE COMPLETO': 'William Antonio Ponce Gutierrez',\n",
       "  'NOMBRES': 'William Antonio ',\n",
       "  'PRIMER APELLIDO': 'Ponce',\n",
       "  'SEGUNDO APELLIDO': 'Gutierrez',\n",
       "  'full_name': 'PONCE GUTIERREZ WILLIAM ANTONIO'}]"
      ]
     },
     "execution_count": 24,
     "metadata": {},
     "output_type": "execute_result"
    }
   ],
   "source": [
    "SIU[ find_key_in_list_of_dictionaries(SIU,'UDEA_authors','full_name','ZAPATA') ].UDEA_authors.loc[241]"
   ]
  },
  {
   "cell_type": "code",
   "execution_count": 25,
   "metadata": {},
   "outputs": [
    {
     "data": {
      "text/plain": [
       "[{'CÉDULA': 8287417.0,\n",
       "  'DEPARTAMENTO': 'Instituto de Física',\n",
       "  'FACULTAD': 'Facultad de Ciencias Exactas y Naturales',\n",
       "  'GRUPO': 'Grupo de Fenomenologia de Interacciones Fundamentales',\n",
       "  'NOMBRE COMPLETO': 'William Antonio Ponce Gutierrez',\n",
       "  'NOMBRES': 'William Antonio ',\n",
       "  'PRIMER APELLIDO': 'Ponce',\n",
       "  'SEGUNDO APELLIDO': 'Gutierrez',\n",
       "  'full_name': 'PONCE GUTIERREZ WILLIAM ANTONIO'}]"
      ]
     },
     "execution_count": 25,
     "metadata": {},
     "output_type": "execute_result"
    }
   ],
   "source": [
    "SIU[ find_key_in_list_of_dictionaries(SIU,'UDEA_authors','full_name','PONCE')\n",
    "   ].UDEA_authors.reset_index(drop=True).loc[0]"
   ]
  },
  {
   "cell_type": "markdown",
   "metadata": {},
   "source": [
    "## Merge with trained data set"
   ]
  },
  {
   "cell_type": "markdown",
   "metadata": {},
   "source": [
    "Merge requires split in DI and TI"
   ]
  },
  {
   "cell_type": "code",
   "execution_count": 26,
   "metadata": {},
   "outputs": [
    {
     "name": "stderr",
     "output_type": "stream",
     "text": [
      "/usr/local/lib/python3.5/dist-packages/pandas/core/ops.py:1649: FutureWarning: elementwise comparison failed; returning scalar instead, but in the future will perform elementwise comparison\n",
      "  result = method(y)\n"
     ]
    }
   ],
   "source": [
    "SIUDI=SIU[~SIU.DI.isna()].drop_duplicates('DI').reset_index(drop=True)\n",
    "SIUTI=SIU[ SIU.DI.isna()].drop_duplicates('TI').reset_index(drop=True)\n",
    "SIUTI=SIUTI[SIUTI!=''].reset_index(drop=True)\n",
    "SIUTI=SIUTI[~SIUTI.TI.isnull()].reset_index(drop=True)\n",
    "SIUTI=SIUTI[ SIUTI.TI.apply(len)>20 ].reset_index(drop=True)"
   ]
  },
  {
   "cell_type": "code",
   "execution_count": 27,
   "metadata": {
    "collapsed": true
   },
   "outputs": [],
   "source": [
    "udea_columns=[       'UDEA_autores',\n",
    "       'UDEA_año realiz', 'UDEA_doi', 'UDEA_fecha aplicación',\n",
    "       'UDEA_idioma', 'UDEA_item adic', 'UDEA_material', 'UDEA_nombre',\n",
    "       'UDEA_nombre revista o premio', 'UDEA_nro autores', 'UDEA_país',\n",
    "       'UDEA_procodigo', 'UDEA_ptos', 'UDEA_simple_doi', 'UDEA_título',\n",
    "       'UDEA_valor item','UDEA_authors']"
   ]
  },
  {
   "cell_type": "code",
   "execution_count": 28,
   "metadata": {
    "collapsed": true
   },
   "outputs": [],
   "source": [
    "UDEADI=UDEA[UDEA.DI!=''].drop_duplicates('DI').reset_index(drop=True)\n",
    "UDEATI=UDEA[UDEA.DI==''].drop_duplicates('TI').reset_index(drop=True)"
   ]
  },
  {
   "cell_type": "code",
   "execution_count": 29,
   "metadata": {
    "collapsed": true
   },
   "outputs": [],
   "source": [
    "UDEA_mergeDI=UDEADI.merge( SIUDI[ ['DI']+udea_columns ],on='DI',how='left' )"
   ]
  },
  {
   "cell_type": "code",
   "execution_count": 30,
   "metadata": {},
   "outputs": [
    {
     "data": {
      "text/plain": [
       "((8035, 152), (8035, 169))"
      ]
     },
     "execution_count": 30,
     "metadata": {},
     "output_type": "execute_result"
    }
   ],
   "source": [
    "UDEADI.shape,UDEA_mergeDI.shape"
   ]
  },
  {
   "cell_type": "code",
   "execution_count": 31,
   "metadata": {
    "collapsed": true
   },
   "outputs": [],
   "source": [
    "UDEA_PTJ=UDEA_mergeDI[~UDEA_mergeDI.UDEA_autores.isna()].reset_index(drop=True)\n",
    "UDEA_PTJ_NOT=UDEA_mergeDI[UDEA_mergeDI.UDEA_autores.isna()].reset_index(drop=True)"
   ]
  },
  {
   "cell_type": "code",
   "execution_count": 32,
   "metadata": {
    "collapsed": true
   },
   "outputs": [],
   "source": [
    "UDEATI['tmptitle']=UDEATI.TI.str.strip()\n",
    "SIUTI['tmptitle']=SIUTI.TI.str.strip()"
   ]
  },
  {
   "cell_type": "code",
   "execution_count": 33,
   "metadata": {
    "collapsed": true
   },
   "outputs": [],
   "source": [
    "kk=UDEATI.merge( SIUTI[ ['tmptitle']+udea_columns ],on='tmptitle',how='left' ).drop('tmptitle',axis='columns')"
   ]
  },
  {
   "cell_type": "code",
   "execution_count": 34,
   "metadata": {
    "collapsed": true
   },
   "outputs": [],
   "source": [
    "UDEA_PTJ=UDEA_PTJ.append( kk[ ~kk.UDEA_autores.isna() ] ).reset_index(drop=True)\n",
    "UDEA_PTJ_NOT=UDEA_PTJ_NOT.append( kk[ kk.UDEA_autores.isna() ] ).reset_index(drop=True)"
   ]
  },
  {
   "cell_type": "code",
   "execution_count": 35,
   "metadata": {},
   "outputs": [
    {
     "data": {
      "text/plain": [
       "(15722, (15726, 152))"
      ]
     },
     "execution_count": 35,
     "metadata": {},
     "output_type": "execute_result"
    }
   ],
   "source": [
    "UDEA_PTJ.shape[0]+UDEA_PTJ_NOT.shape[0],UDEA.shape"
   ]
  },
  {
   "cell_type": "code",
   "execution_count": 36,
   "metadata": {},
   "outputs": [
    {
     "data": {
      "text/plain": [
       "((7074, 169), (8648, 169))"
      ]
     },
     "execution_count": 36,
     "metadata": {},
     "output_type": "execute_result"
    }
   ],
   "source": [
    "UDEA_PTJ.shape,UDEA_PTJ_NOT.shape"
   ]
  },
  {
   "cell_type": "code",
   "execution_count": 37,
   "metadata": {},
   "outputs": [
    {
     "data": {
      "text/html": [
       "<div>\n",
       "<style scoped>\n",
       "    .dataframe tbody tr th:only-of-type {\n",
       "        vertical-align: middle;\n",
       "    }\n",
       "\n",
       "    .dataframe tbody tr th {\n",
       "        vertical-align: top;\n",
       "    }\n",
       "\n",
       "    .dataframe thead th {\n",
       "        text-align: right;\n",
       "    }\n",
       "</style>\n",
       "<table border=\"1\" class=\"dataframe\">\n",
       "  <thead>\n",
       "    <tr style=\"text-align: right;\">\n",
       "      <th></th>\n",
       "      <th>AB</th>\n",
       "      <th>AF</th>\n",
       "      <th>AR</th>\n",
       "      <th>AU</th>\n",
       "      <th>BA</th>\n",
       "      <th>BE</th>\n",
       "      <th>BF</th>\n",
       "      <th>BN</th>\n",
       "      <th>BP</th>\n",
       "      <th>C1</th>\n",
       "      <th>...</th>\n",
       "      <th>UDEA_nombre</th>\n",
       "      <th>UDEA_nombre revista o premio</th>\n",
       "      <th>UDEA_nro autores</th>\n",
       "      <th>UDEA_país</th>\n",
       "      <th>UDEA_procodigo</th>\n",
       "      <th>UDEA_ptos</th>\n",
       "      <th>UDEA_simple_doi</th>\n",
       "      <th>UDEA_título</th>\n",
       "      <th>UDEA_valor item</th>\n",
       "      <th>UDEA_authors</th>\n",
       "    </tr>\n",
       "  </thead>\n",
       "  <tbody>\n",
       "    <tr>\n",
       "      <th>0</th>\n",
       "      <td></td>\n",
       "      <td></td>\n",
       "      <td></td>\n",
       "      <td>Ramírez, Juan David\\nGiraldo, Santiago Patiño\\nArango, Marcos\\n</td>\n",
       "      <td></td>\n",
       "      <td></td>\n",
       "      <td></td>\n",
       "      <td></td>\n",
       "      <td></td>\n",
       "      <td></td>\n",
       "      <td>...</td>\n",
       "      <td>PATIÑO GIRALDO SANTIAGO</td>\n",
       "      <td>ver UDEA_material</td>\n",
       "      <td>3.0</td>\n",
       "      <td>46.0</td>\n",
       "      <td>53961.0</td>\n",
       "      <td>3.6</td>\n",
       "      <td>0.0</td>\n",
       "      <td>LINFOMA PRIMARIO DEL CORAZON, CAUSA POCO COMUN DEL SINDROME DE FALLA CARDIACA. (PRIMARY CARDIAC LYMPHOMA, AN UNCOMMON CAUSE OF HEART FAILURE).</td>\n",
       "      <td>SOCIEDAD COLOMBIANA DE CARDIOLOGIA Y CIRUGIA CARDIOVASCULAR.</td>\n",
       "      <td>[{'full_name': 'PATIÑO GIRALDO SANTIAGO', 'FACULTAD': 'Facultad de Medicina', 'PRIMER APELLIDO': 'Patiño', 'NOMBRE COMPLETO': 'Santiago Patiño Giraldo', 'SEGUNDO APELLIDO': 'Giraldo', 'DEPARTAMENT...</td>\n",
       "    </tr>\n",
       "    <tr>\n",
       "      <th>1</th>\n",
       "      <td></td>\n",
       "      <td></td>\n",
       "      <td></td>\n",
       "      <td>Molina, Marcela\\nPalacio, Juan David\\nVargas, Cristian\\nDíaz-Zuluaga, Ana María\\nAgudelo Berruecos, Yuli\\nOspina, Sigifredo\\nLópez-Jaramillo, Carlos\\n</td>\n",
       "      <td></td>\n",
       "      <td></td>\n",
       "      <td></td>\n",
       "      <td></td>\n",
       "      <td></td>\n",
       "      <td></td>\n",
       "      <td>...</td>\n",
       "      <td>LOPEZ JARAMILLO CARLOS ALBERTO</td>\n",
       "      <td>REVISTA COLOMBIANA DE PSIQUIATRIA</td>\n",
       "      <td>7.0</td>\n",
       "      <td>46.0</td>\n",
       "      <td>55920.0</td>\n",
       "      <td>4.3</td>\n",
       "      <td>0.0</td>\n",
       "      <td>DESEMPENO NEUROCOGNITIVO DE PACIENTES CON TRASTORNO AFECTIVO BIPOLAR TIPO I EN EUTIMIA CON Y SIN ANTECEDENTE DE PSICOSIS DE UN PROGRAMA DE INTERVENCION MULTIMODAL: PRISMA</td>\n",
       "      <td>NaN</td>\n",
       "      <td>[{'full_name': 'VARGAS UPEGUI CRISTIAN DAVID', 'FACULTAD': 'Facultad de Medicina', 'PRIMER APELLIDO': 'Vargas', 'NOMBRE COMPLETO': 'Cristian David Vargas Upegui', 'SEGUNDO APELLIDO': 'Upegui', 'DE...</td>\n",
       "    </tr>\n",
       "  </tbody>\n",
       "</table>\n",
       "<p>2 rows × 169 columns</p>\n",
       "</div>"
      ],
      "text/plain": [
       "  AB AF AR  \\\n",
       "0            \n",
       "1            \n",
       "\n",
       "                                                                                                                                                       AU  \\\n",
       "0                                                                                         Ramírez, Juan David\\nGiraldo, Santiago Patiño\\nArango, Marcos\\n   \n",
       "1  Molina, Marcela\\nPalacio, Juan David\\nVargas, Cristian\\nDíaz-Zuluaga, Ana María\\nAgudelo Berruecos, Yuli\\nOspina, Sigifredo\\nLópez-Jaramillo, Carlos\\n   \n",
       "\n",
       "  BA BE BF BN BP C1  ...                     UDEA_nombre  \\\n",
       "0                    ...         PATIÑO GIRALDO SANTIAGO   \n",
       "1                    ...  LOPEZ JARAMILLO CARLOS ALBERTO   \n",
       "\n",
       "        UDEA_nombre revista o premio UDEA_nro autores UDEA_país  \\\n",
       "0                  ver UDEA_material              3.0      46.0   \n",
       "1  REVISTA COLOMBIANA DE PSIQUIATRIA              7.0      46.0   \n",
       "\n",
       "  UDEA_procodigo UDEA_ptos UDEA_simple_doi  \\\n",
       "0        53961.0       3.6             0.0   \n",
       "1        55920.0       4.3             0.0   \n",
       "\n",
       "                                                                                                                                                                  UDEA_título  \\\n",
       "0                              LINFOMA PRIMARIO DEL CORAZON, CAUSA POCO COMUN DEL SINDROME DE FALLA CARDIACA. (PRIMARY CARDIAC LYMPHOMA, AN UNCOMMON CAUSE OF HEART FAILURE).   \n",
       "1  DESEMPENO NEUROCOGNITIVO DE PACIENTES CON TRASTORNO AFECTIVO BIPOLAR TIPO I EN EUTIMIA CON Y SIN ANTECEDENTE DE PSICOSIS DE UN PROGRAMA DE INTERVENCION MULTIMODAL: PRISMA   \n",
       "\n",
       "                                                UDEA_valor item  \\\n",
       "0  SOCIEDAD COLOMBIANA DE CARDIOLOGIA Y CIRUGIA CARDIOVASCULAR.   \n",
       "1                                                           NaN   \n",
       "\n",
       "                                                                                                                                                                                              UDEA_authors  \n",
       "0  [{'full_name': 'PATIÑO GIRALDO SANTIAGO', 'FACULTAD': 'Facultad de Medicina', 'PRIMER APELLIDO': 'Patiño', 'NOMBRE COMPLETO': 'Santiago Patiño Giraldo', 'SEGUNDO APELLIDO': 'Giraldo', 'DEPARTAMENT...  \n",
       "1  [{'full_name': 'VARGAS UPEGUI CRISTIAN DAVID', 'FACULTAD': 'Facultad de Medicina', 'PRIMER APELLIDO': 'Vargas', 'NOMBRE COMPLETO': 'Cristian David Vargas Upegui', 'SEGUNDO APELLIDO': 'Upegui', 'DE...  \n",
       "\n",
       "[2 rows x 169 columns]"
      ]
     },
     "execution_count": 37,
     "metadata": {},
     "output_type": "execute_result"
    }
   ],
   "source": [
    "UDEA_PTJ.loc[[0,1]]"
   ]
  },
  {
   "cell_type": "code",
   "execution_count": 38,
   "metadata": {
    "collapsed": true
   },
   "outputs": [],
   "source": [
    "UDEA=UDEA_PTJ.append(\n",
    "    UDEA_PTJ_NOT).reset_index(\n",
    "    drop=True)"
   ]
  },
  {
   "cell_type": "code",
   "execution_count": 39,
   "metadata": {},
   "outputs": [
    {
     "data": {
      "text/plain": [
       "1                                                                        [{'affiliation': ['Univ Antioquia, Inst Fis, Calle 70 52-21 Medellin, Medellin, Colombia.'], 'i': 0, 'WOS_author': 'Restrepo, D.'}]\n",
       "2    [{'affiliation': ['Univ Antioquia, Inst Fis, Medellin 1226, Colombia.'], 'i': 0, 'WOS_author': 'Restrepo, Diego'}, {'affiliation': ['Univ Antioquia, Inst Fis, Medellin 1226, Colombia.'], 'i': 1, '...\n",
       "Name: authors_WOS, dtype: object"
      ]
     },
     "execution_count": 39,
     "metadata": {},
     "output_type": "execute_result"
    }
   ],
   "source": [
    "key_contains_in_list_of_dictionaries(UDEA,'Restrepo, D',column='authors_WOS',key='WOS_author').loc[1:2]"
   ]
  },
  {
   "cell_type": "code",
   "execution_count": 40,
   "metadata": {
    "collapsed": true
   },
   "outputs": [],
   "source": [
    "UDEA.to_json('UDEAtmp.json')"
   ]
  },
  {
   "cell_type": "code",
   "execution_count": 41,
   "metadata": {
    "collapsed": true
   },
   "outputs": [],
   "source": [
    "RECOVER=False\n",
    "if RECOVER:\n",
    "    UDEA=pd.read_json('UDEAtmp.json').reset_index(drop=True)"
   ]
  },
  {
   "cell_type": "code",
   "execution_count": null,
   "metadata": {
    "collapsed": true
   },
   "outputs": [],
   "source": []
  },
  {
   "cell_type": "markdown",
   "metadata": {},
   "source": [
    "## Add `UDEA.authors_WOS` info* within `UDEA.UDEA_authors` data**\n",
    "(\\*) obtained from `UDEA.C1`\n",
    "\n",
    "(\\*\\*) Obtained from [puntaje trained old UDEA data](./WOS_SCI_SCP_PTJ_GS_LNS.ipynb#Merge-with-trained-data-set) and the [official researcher list](./WOS_SCI_SCP_PTJ_GS_LNS.ipynb#Merge-with-official-researcher-list)"
   ]
  },
  {
   "cell_type": "markdown",
   "metadata": {},
   "source": [
    "Obtain name parts and initials from full name in `UDEA_authors` dictionary and update `UDEA_authors` with them"
   ]
  },
  {
   "cell_type": "code",
   "execution_count": 42,
   "metadata": {
    "collapsed": true
   },
   "outputs": [],
   "source": [
    "# tmp is for update dict\n",
    "dictupdatetmp=UDEA['UDEA_authors'].apply(lambda x: [y.update( \n",
    "                split_full_names(y,full_name='full_name')  ) if not pd.isnull(\n",
    "                y.get('full_name')) else y for y in x] \n",
    "                                   if type(x)==list \n",
    "                                   else x)"
   ]
  },
  {
   "cell_type": "code",
   "execution_count": 43,
   "metadata": {
    "collapsed": true
   },
   "outputs": [],
   "source": [
    "x,y=UDEA['authors_WOS'].combine( UDEA['UDEA_authors'], func=lambda x,y:(x,y) ).loc[92]"
   ]
  },
  {
   "cell_type": "code",
   "execution_count": 44,
   "metadata": {},
   "outputs": [
    {
     "data": {
      "text/plain": [
       "[{'WOS_author': 'Echeverri Alvarez, Jonathan',\n",
       "  'affiliation': ['Univ Antioquia, Antioquia, Colombia.'],\n",
       "  'i': 0},\n",
       " {'WOS_author': 'Chaves Castano, Liliana',\n",
       "  'affiliation': ['Univ Antioquia, Antioquia, Colombia.'],\n",
       "  'i': 1}]"
      ]
     },
     "execution_count": 44,
     "metadata": {},
     "output_type": "execute_result"
    }
   ],
   "source": [
    "x"
   ]
  },
  {
   "cell_type": "code",
   "execution_count": 45,
   "metadata": {},
   "outputs": [
    {
     "data": {
      "text/plain": [
       "[{'CÉDULA': 43724493.0,\n",
       "  'DEPARTAMENTO': 'Departamento de Sicología',\n",
       "  'FACULTAD': 'Facultad de Ciencias Sociales y Humanas',\n",
       "  'GRUPO': 'Grupo de investigación en psicologia cognitiva',\n",
       "  'INICIALES': 'L.',\n",
       "  'NOMBRE COMPLETO': 'Liliana Chaves Castaño',\n",
       "  'NOMBRES': 'Liliana',\n",
       "  'PRIMER APELLIDO': 'Chaves',\n",
       "  'SEGUNDO APELLIDO': 'Castaño',\n",
       "  'full_name': 'CHAVES CASTAÑO LILIANA'}]"
      ]
     },
     "execution_count": 45,
     "metadata": {},
     "output_type": "execute_result"
    }
   ],
   "source": [
    "y"
   ]
  },
  {
   "cell_type": "code",
   "execution_count": 46,
   "metadata": {
    "collapsed": true
   },
   "outputs": [],
   "source": [
    "def wos_names_append(wos_names,last_name,first_names,initials):\n",
    "    wos_names=wos_names+[           last_name+', '+first_names]\n",
    "    if len( first_names.split())>1:\n",
    "        wos_names=wos_names+[ last_name+', '+first_names.split()[0] ]\n",
    "    if len( first_names.split())==2 and  len(first_names.split()[-1]):\n",
    "        wos_names=wos_names+[ last_name+', '+first_names.split()[-1] ]\n",
    "    wos_names=wos_names+[ last_name+', '+initials]\n",
    "    if len( initials.split())>1:\n",
    "        wos_names=wos_names+[ last_name+', '+initials.split()[0]]\n",
    "    if len(initials.split())==2:\n",
    "        wos_names=wos_names+[\n",
    "              last_name+', '+first_names.split()[0]+' '+initials.split()[-1] ]\n",
    "        wos_names=wos_names+[last_name+', '+initials.split()[-1] ]\n",
    "    return wos_names\n",
    "    \n",
    "def wos_names_list(dy ,y_keys=['PRIMER APELLIDO','NOMBRES','INICIALES','SEGUNDO APELLIDO','full_name']   ):\n",
    "    last_name= unidecode.unidecode( dy[y_keys[0]]   )\n",
    "    first_names=unidecode.unidecode( dy[y_keys[1]]  )\n",
    "    initials=unidecode.unidecode( dy[y_keys[2]]  )\n",
    "\n",
    "    wos_names=[]\n",
    "    wos_names=wos_names_append(wos_names,last_name,first_names,initials)\n",
    "    \n",
    "    if dy.get( y_keys[3] ):\n",
    "        last_names= unidecode.unidecode( dy[y_keys[0]]+'-'+dy[y_keys[3]]   )\n",
    "        wos_names=wos_names_append(wos_names,last_names,first_names,initials)\n",
    "    return wos_names\n",
    "    \n",
    "def combinewos(x,y,x_keys=['WOS_author','affiliation'],\n",
    "                   y_keys=['PRIMER APELLIDO','NOMBRES','INICIALES','SEGUNDO APELLIDO','full_name'],\n",
    "                   xy_keys=['WOS_author','WOS_affiliation']):\n",
    "    if type(x)==list and type(y)==list:\n",
    "        for dx in x:\n",
    "            wos_name=unidecode.unidecode( dx[ x_keys[0] ] )\n",
    "            WOS_affiliation= dx[x_keys[1]]\n",
    "            # Try by buildinng spanish-like names list                                \n",
    "            for i in range( len(y) ):\n",
    "                if wos_name.title() in wos_names_list(y[i] ,y_keys):\n",
    "                    y[i][  xy_keys[0] ]=[ wos_name ]\n",
    "                    y[i][  xy_keys[1] ]=WOS_affiliation\n",
    "                    break\n",
    "            #Try again but comparing full lists\n",
    "            wos_name_to_list=wos_name.replace(',','').replace('-',' ').title().split()\n",
    "            for i in range( len(y) ):\n",
    "                yi_to_list=unidecode.unidecode( y[i][y_keys[4]].title() )\n",
    "                if yi_to_list:\n",
    "                    yi_to_list=yi_to_list.split()\n",
    "                else:\n",
    "                    yi_to_list=[]\n",
    "                if not pd.np.setdiff1d(wos_name_to_list,yi_to_list).shape[0]:\n",
    "                    y[i][  xy_keys[0] ]=[ wos_name ]\n",
    "                    y[i][  xy_keys[1] ]=WOS_affiliation\n",
    "                    break\n",
    "            #Try again but comparing full lists with initials\n",
    "            wos_name_to_list=wos_name.replace(',','').replace('-',' ').title().split()\n",
    "            for i in range( len(y) ):\n",
    "                yi_to_list=[y[i][y_keys[0]],y[i][y_keys[3]] ]+y[i][y_keys[2]].split()\n",
    "                if not pd.np.setdiff1d(wos_name_to_list,yi_to_list).shape[0]:\n",
    "                    y[i][  xy_keys[0] ]=[ wos_name ]\n",
    "                    y[i][  xy_keys[1] ]=WOS_affiliation\n",
    "                    break\n",
    "            #Try again but comparing full lists with first first name and initial\n",
    "            for i in range( len(y) ):\n",
    "                yi_to_list=[y[i][y_keys[0]],y[i][y_keys[3]],y[i][y_keys[1]].split()[0],\n",
    "                              y[i][y_keys[2]].split()[-1]]\n",
    "                if not pd.np.setdiff1d(wos_name_to_list,yi_to_list).shape[0]:\n",
    "                    y[i][  xy_keys[0] ]=[ wos_name ]\n",
    "                    y[i][  xy_keys[1] ]=WOS_affiliation\n",
    "                    break                    \n",
    "            #Try again but comparing full lists with second first name and initial\n",
    "            for i in range( len(y) ):\n",
    "                yi_to_list=[y[i][y_keys[0]],y[i][y_keys[3]],y[i][y_keys[1]].split()[-1],\n",
    "                              y[i][y_keys[2]].split()[0]]\n",
    "                if not pd.np.setdiff1d(wos_name_to_list,yi_to_list).shape[0]:\n",
    "                    y[i][  xy_keys[0] ]=[ wos_name ]\n",
    "                    y[i][  xy_keys[1] ]=WOS_affiliation\n",
    "                    break                    \n",
    "                    \n",
    "                    \n",
    "    return y"
   ]
  },
  {
   "cell_type": "code",
   "execution_count": 47,
   "metadata": {},
   "outputs": [
    {
     "data": {
      "text/plain": [
       "['Chaves, Liliana',\n",
       " 'Chaves, L.',\n",
       " 'Chaves-Castano, Liliana',\n",
       " 'Chaves-Castano, L.']"
      ]
     },
     "execution_count": 47,
     "metadata": {},
     "output_type": "execute_result"
    }
   ],
   "source": [
    "wos_names_list( split_full_names( y[0] ) )"
   ]
  },
  {
   "cell_type": "code",
   "execution_count": 48,
   "metadata": {},
   "outputs": [
    {
     "data": {
      "text/plain": [
       "[{'CÉDULA': 15513744.0,\n",
       "  'DEPARTAMENTO': 'Departamento de Matemáticas',\n",
       "  'FACULTAD': 'Facultad de Ciencias Exactas y Naturales',\n",
       "  'GRUPO': 'Análisis Multivariado',\n",
       "  'INICIALES': 'E. J.',\n",
       "  'NOMBRE COMPLETO': 'Edwin De Jesus Zarrazola Rivera',\n",
       "  'NOMBRES': 'Edwin Jesus',\n",
       "  'PRIMER APELLIDO': 'Zarrazola',\n",
       "  'SEGUNDO APELLIDO': 'Rivera',\n",
       "  'full_name': 'ZARRAZOLA RIVERA EDWIN DE JESUS'},\n",
       " {'INICIALES': 'K.',\n",
       "  'NOMBRES': 'Krishna',\n",
       "  'PRIMER APELLIDO': 'Nagar',\n",
       "  'SEGUNDO APELLIDO': 'Daya',\n",
       "  'full_name': 'NAGAR DAYA KRISHNA'},\n",
       " {'INICIALES': 'D. S.',\n",
       "  'NOMBRES': 'Del Socor',\n",
       "  'PRIMER APELLIDO': 'Sanchez',\n",
       "  'SEGUNDO APELLIDO': 'Herrera',\n",
       "  'full_name': 'SANCHEZ HERRERA LUZ ESTELA DEL SOCOR'}]"
      ]
     },
     "execution_count": 48,
     "metadata": {},
     "output_type": "execute_result"
    }
   ],
   "source": [
    "UDEA[UDEA.UDEA_autores.fillna('').str.contains('ZARRAZOLA RIVERA EDWIN DE JESUS')].UDEA_authors.loc[154]"
   ]
  },
  {
   "cell_type": "code",
   "execution_count": 49,
   "metadata": {
    "collapsed": true
   },
   "outputs": [],
   "source": [
    "#kk=UDEA['UDEA_authors'].str[0].apply( lambda d: d if type(d)==dict else pd.np.nan ).dropna()\n",
    "#kk[kk.apply( lambda d: d.get('full_name') if type(d)==dict else pd.np.nan ).isna()]"
   ]
  },
  {
   "cell_type": "code",
   "execution_count": 50,
   "metadata": {
    "collapsed": true
   },
   "outputs": [],
   "source": [
    "kk=UDEA['authors_WOS'].combine( UDEA['UDEA_authors'], func=combinewos )"
   ]
  },
  {
   "cell_type": "markdown",
   "metadata": {},
   "source": [
    "Combines the two list into a single one in  UDEA_authors"
   ]
  },
  {
   "cell_type": "markdown",
   "metadata": {},
   "source": [
    "check"
   ]
  },
  {
   "cell_type": "markdown",
   "metadata": {},
   "source": [
    "Full query of auhor_WOS in UDEA_authors:"
   ]
  },
  {
   "cell_type": "code",
   "execution_count": 51,
   "metadata": {},
   "outputs": [
    {
     "data": {
      "text/plain": [
       "{'CÉDULA': 43724493.0,\n",
       " 'DEPARTAMENTO': 'Departamento de Sicología',\n",
       " 'FACULTAD': 'Facultad de Ciencias Sociales y Humanas',\n",
       " 'GRUPO': 'Grupo de investigación en psicologia cognitiva',\n",
       " 'INICIALES': 'L.',\n",
       " 'NOMBRE COMPLETO': 'Liliana Chaves Castaño',\n",
       " 'NOMBRES': 'Liliana',\n",
       " 'PRIMER APELLIDO': 'Chaves',\n",
       " 'SEGUNDO APELLIDO': 'Castaño',\n",
       " 'WOS_affiliation': ['Univ Antioquia, Antioquia, Colombia.'],\n",
       " 'WOS_author': ['Chaves Castano, Liliana'],\n",
       " 'full_name': 'CHAVES CASTAÑO LILIANA'}"
      ]
     },
     "execution_count": 51,
     "metadata": {},
     "output_type": "execute_result"
    }
   ],
   "source": [
    "UDEA['UDEA_authors'].apply(lambda x: [y  for y in x ][0] if type(x)==list else x).loc[92]"
   ]
  },
  {
   "cell_type": "code",
   "execution_count": 52,
   "metadata": {
    "collapsed": true
   },
   "outputs": [],
   "source": [
    "UDEA.to_json('UDEAtmp.json')"
   ]
  },
  {
   "cell_type": "markdown",
   "metadata": {},
   "source": [
    "### Load output restuls of previous Cell runs"
   ]
  },
  {
   "cell_type": "code",
   "execution_count": 53,
   "metadata": {
    "collapsed": true
   },
   "outputs": [],
   "source": [
    "RECOVER=False\n",
    "if RECOVER:\n",
    "    UDEA=pd.read_json('UDEAtmp.json').reset_index(drop=True)"
   ]
  },
  {
   "cell_type": "code",
   "execution_count": 54,
   "metadata": {
    "collapsed": true
   },
   "outputs": [],
   "source": [
    "def extract_internal_value_of_a_dictionary_key_in_a_list_of_dictionaries(df,\n",
    "    list_of_dictionaries='UDEA_authors',\n",
    "    dictionary_key='WOS_author'):\n",
    "    #Extract internal value of a dictionary key in a list of dictionaries and empty list otherwise\n",
    "    \n",
    "    return df[list_of_dictionaries].apply(lambda x: [y.get(dictionary_key) \n",
    "                                                        if y.get(dictionary_key) else []   \n",
    "                                                        for y in x  ]\n",
    "                           if type(x)==list else [])\n",
    "\n",
    "def extract_internal_list_as_value_of_a_dictionary_key_in_a_list_of_dictionaries(df,\n",
    "    list_of_dictionaries='UDEA_authors',\n",
    "    dictionary_key='WOS_author'):\n",
    "    #Extract internal list as value of a dictionary key in a list of dictionaries and empty list otherwise\n",
    "    \n",
    "    return extract_internal_value_of_a_dictionary_key_in_a_list_of_dictionaries(df,\n",
    "                    list_of_dictionaries,dictionary_key).apply(lambda x: \n",
    "                           [item for sublist  in x for item in sublist] \n",
    "                            if type(x)==list else x)\n",
    "\n",
    "def mask_on_internal_value_of_a_dictionary_key_in_a_list_of_dictionaries(df,\n",
    "    pattern='RESTREPO QUINTERO DIEGO ALEJANDRO',\n",
    "    list_of_dictionaries='UDEA_authors',dictionary_key='full_name'):\n",
    "    \"\"\"\n",
    "    Build a mask for a Pandas Series of list of dictionaries of label:\n",
    "      list_of_dictionaries. \n",
    "    The:\n",
    "      dictionary_key must be a single value like string or float\n",
    "    \"\"\"\n",
    "    return extract_internal_value_of_a_dictionary_key_in_a_list_of_dictionaries(df,\n",
    "            list_of_dictionaries,dictionary_key).apply( \n",
    "            lambda x: pattern in x)"
   ]
  },
  {
   "cell_type": "code",
   "execution_count": 55,
   "metadata": {},
   "outputs": [
    {
     "data": {
      "text/plain": [
       "0     [{'FACULTAD': 'Facultad de Ciencias Exactas y Naturales', 'NOMBRES': 'Diego Alejandro', 'WOS_affiliation': ['Univ Antioquia, Inst Fis, Calle 70 52-21, Medellin 050010, Colombia.'], 'INICIALES': 'D...\n",
       "1     [{'FACULTAD': 'Facultad de Ciencias Exactas y Naturales', 'NOMBRES': 'Diego Alejandro', 'WOS_affiliation': ['Univ Antioquia, Inst Fis, Calle 70 52-21, Medellin, Colombia.'], 'INICIALES': 'D. A.', ...\n",
       "2     [{'FACULTAD': 'Facultad de Ciencias Exactas y Naturales', 'NOMBRES': 'Diego Alejandro', 'WOS_affiliation': ['Univ Antioquia, Inst Fis, Calle 70 52-21, Medellin, Colombia.'], 'INICIALES': 'D. A.', ...\n",
       "3     [{'FACULTAD': 'Facultad de Ciencias Exactas y Naturales', 'NOMBRES': 'Oscar Alberto', 'WOS_affiliation': ['Univ Antioquia, Inst Fis, Medellin, Colombia.'], 'INICIALES': 'O. A.', 'GRUPO': 'Grupo de...\n",
       "4     [{'FACULTAD': 'Facultad de Ciencias Exactas y Naturales', 'NOMBRES': 'Oscar Alberto', 'WOS_affiliation': ['Univ Antioquia, Inst Fis, Medellin 1226, Colombia.'], 'INICIALES': 'O. A.', 'GRUPO': 'Gru...\n",
       "5     [{'FACULTAD': 'Facultad de Ciencias Exactas y Naturales', 'NOMBRES': 'Diego Alejandro', 'WOS_affiliation': ['Univ Antioquia, Inst Fis, Medellin, Colombia.'], 'INICIALES': 'D. A.', 'GRUPO': 'Grupo ...\n",
       "6     [{'FACULTAD': 'Facultad de Ciencias Exactas y Naturales', 'NOMBRES': 'Diego Alejandro', 'WOS_affiliation': ['Univ Antioquia, Inst Fis, Medellin 1226, Colombia.'], 'INICIALES': 'D. A.', 'GRUPO': 'G...\n",
       "7     [{'FACULTAD': 'Facultad de Ciencias Exactas y Naturales', 'NOMBRES': 'Oscar Alberto', 'WOS_affiliation': ['Univ Antioquia, Inst Fis, Medellin 1226, Colombia.'], 'INICIALES': 'O. A.', 'GRUPO': 'Gru...\n",
       "8     [{'FACULTAD': 'Facultad de Ciencias Exactas y Naturales', 'NOMBRES': 'Diego Alejandro', 'WOS_affiliation': ['Univ Antioquia, Inst Fis, Medellin, Colombia.'], 'INICIALES': 'D. A.', 'GRUPO': 'Grupo ...\n",
       "9     [{'FACULTAD': 'Facultad de Ciencias Exactas y Naturales', 'NOMBRES': 'Oscar Alberto', 'INICIALES': 'O. A.', 'GRUPO': 'Grupo de Fenomenologia de Interacciones Fundamentales', 'SEGUNDO APELLIDO': 'N...\n",
       "10    [{'FACULTAD': 'Facultad de Ciencias Exactas y Naturales', 'NOMBRES': 'Oscar Alberto', 'INICIALES': 'O. A.', 'GRUPO': 'Grupo de Fenomenologia de Interacciones Fundamentales', 'SEGUNDO APELLIDO': 'N...\n",
       "Name: UDEA_authors, dtype: object"
      ]
     },
     "execution_count": 55,
     "metadata": {},
     "output_type": "execute_result"
    }
   ],
   "source": [
    "pattern='Restrepo, Diego'\n",
    "mask=extract_internal_list_as_value_of_a_dictionary_key_in_a_list_of_dictionaries(\n",
    "            UDEA,list_of_dictionaries='UDEA_authors',dictionary_key='WOS_author').apply( \n",
    "            lambda x: pattern in x)\n",
    "UDEA[mask]['UDEA_authors'].reset_index(drop=True)"
   ]
  },
  {
   "cell_type": "code",
   "execution_count": 56,
   "metadata": {},
   "outputs": [
    {
     "data": {
      "text/plain": [
       "0     [{'FACULTAD': 'Facultad de Ciencias Exactas y Naturales', 'NOMBRES': 'Diego Alejandro', 'WOS_affiliation': ['Univ Antioquia, Inst Fis, Calle 70 52-21 Medellin, Medellin, Colombia.'], 'INICIALES': ...\n",
       "1     [{'FACULTAD': 'Facultad de Ciencias Exactas y Naturales', 'NOMBRES': 'Diego Alejandro', 'WOS_affiliation': ['Univ Antioquia, Inst Fis, Medellin, Colombia.'], 'INICIALES': 'D. A.', 'GRUPO': 'Grupo ...\n",
       "2     [{'FACULTAD': 'Facultad de Ciencias Exactas y Naturales', 'NOMBRES': 'Diego Alejandro', 'WOS_affiliation': ['Univ Antioquia, Inst Fis, Medellin 1226, Colombia.'], 'INICIALES': 'D. A.', 'GRUPO': 'G...\n",
       "3     [{'FACULTAD': 'Facultad de Ciencias Exactas y Naturales', 'NOMBRES': 'Diego Alejandro', 'WOS_affiliation': ['Univ Antioquia, Inst Fis, Medellin 1226, Colombia.'], 'INICIALES': 'D. A.', 'GRUPO': 'G...\n",
       "4     [{'FACULTAD': 'Facultad de Ciencias Exactas y Naturales', 'NOMBRES': 'Diego Alejandro', 'WOS_affiliation': ['Univ Antioquia, Inst Fis, Medellin 1226, Colombia.'], 'INICIALES': 'D. A.', 'GRUPO': 'G...\n",
       "5     [{'FACULTAD': 'Facultad de Ciencias Exactas y Naturales', 'NOMBRES': 'Diego Alejandro', 'WOS_affiliation': ['Univ Antioquia, Inst Fis, Bogota, Colombia.'], 'INICIALES': 'D. A.', 'GRUPO': 'Grupo de...\n",
       "6     [{'FACULTAD': 'Facultad de Ciencias Exactas y Naturales', 'NOMBRES': 'Oscar Alberto', 'INICIALES': 'O. A.', 'GRUPO': 'Grupo de Fenomenologia de Interacciones Fundamentales', 'SEGUNDO APELLIDO': 'N...\n",
       "7     [{'FACULTAD': 'Facultad de Ciencias Exactas y Naturales', 'NOMBRES': 'Diego Alejandro', 'WOS_affiliation': ['Univ Antioquia, Inst Fis, Medellin, Colombia.'], 'INICIALES': 'D. A.', 'GRUPO': 'Grupo ...\n",
       "8     [{'FACULTAD': 'Facultad de Ciencias Exactas y Naturales', 'NOMBRES': 'Diego Alejandro', 'WOS_affiliation': ['Univ Antioquia, Inst Fis, Medellin, Antioquia, Colombia.'], 'INICIALES': 'D. A.', 'GRUP...\n",
       "9     [{'FACULTAD': 'Facultad de Ciencias Exactas y Naturales', 'NOMBRES': 'Oscar Alberto', 'WOS_affiliation': ['Univ Antioquia, Inst Fis, Medellin 1226, Colombia.'], 'INICIALES': 'O. A.', 'GRUPO': 'Gru...\n",
       "10    [{'FACULTAD': 'Facultad de Ciencias Exactas y Naturales', 'NOMBRES': 'Diego Alejandro', 'WOS_affiliation': ['Univ Antioquia, Inst Fis, Antioquia, Colombia.'], 'INICIALES': 'D. A.', 'GRUPO': 'Grupo...\n",
       "11    [{'FACULTAD': 'Facultad de Ciencias Exactas y Naturales', 'NOMBRES': 'Diego Alejandro', 'WOS_affiliation': ['Univ Antioquia, Inst Fis, Medellin, Colombia.'], 'INICIALES': 'D. A.', 'GRUPO': 'Grupo ...\n",
       "Name: UDEA_authors, dtype: object"
      ]
     },
     "execution_count": 56,
     "metadata": {},
     "output_type": "execute_result"
    }
   ],
   "source": [
    "pattern='Restrepo, D.'\n",
    "mask=extract_internal_list_as_value_of_a_dictionary_key_in_a_list_of_dictionaries(\n",
    "            UDEA,list_of_dictionaries='UDEA_authors',dictionary_key='WOS_author').apply( \n",
    "            lambda x: pattern in x)\n",
    "UDEA[mask]['UDEA_authors'].reset_index(drop=True)"
   ]
  },
  {
   "cell_type": "code",
   "execution_count": 57,
   "metadata": {},
   "outputs": [
    {
     "data": {
      "text/plain": [
       "'Restrepo, D.'"
      ]
     },
     "execution_count": 57,
     "metadata": {},
     "output_type": "execute_result"
    }
   ],
   "source": [
    "pattern"
   ]
  },
  {
   "cell_type": "code",
   "execution_count": 58,
   "metadata": {},
   "outputs": [
    {
     "data": {
      "text/plain": [
       "0     [{'FACULTAD': 'Facultad de Ciencias Exactas y Naturales', 'NOMBRES': 'Diego Alejandro', 'WOS_affiliation': ['Univ Antioquia, Inst Fis, Calle 70 52-21 Medellin, Medellin, Colombia.'], 'INICIALES': ...\n",
       "1     [{'FACULTAD': 'Facultad de Ciencias Exactas y Naturales', 'NOMBRES': 'Diego Alejandro', 'WOS_affiliation': ['Univ Antioquia, Inst Fis, Medellin, Colombia.'], 'INICIALES': 'D. A.', 'GRUPO': 'Grupo ...\n",
       "2     [{'FACULTAD': 'Facultad de Ciencias Exactas y Naturales', 'NOMBRES': 'Diego Alejandro', 'WOS_affiliation': ['Univ Antioquia, Inst Fis, Medellin 1226, Colombia.'], 'INICIALES': 'D. A.', 'GRUPO': 'G...\n",
       "3     [{'FACULTAD': 'Facultad de Ciencias Exactas y Naturales', 'NOMBRES': 'Diego Alejandro', 'WOS_affiliation': ['Univ Antioquia, Inst Fis, Medellin 1226, Colombia.'], 'INICIALES': 'D. A.', 'GRUPO': 'G...\n",
       "4     [{'FACULTAD': 'Facultad de Ciencias Exactas y Naturales', 'NOMBRES': 'Diego Alejandro', 'WOS_affiliation': ['Univ Antioquia, Inst Fis, Medellin 1226, Colombia.'], 'INICIALES': 'D. A.', 'GRUPO': 'G...\n",
       "5     [{'FACULTAD': 'Facultad de Ciencias Exactas y Naturales', 'NOMBRES': 'Diego Alejandro', 'WOS_affiliation': ['Univ Antioquia, Inst Fis, Bogota, Colombia.'], 'INICIALES': 'D. A.', 'GRUPO': 'Grupo de...\n",
       "6     [{'FACULTAD': 'Facultad de Ciencias Exactas y Naturales', 'NOMBRES': 'Oscar Alberto', 'INICIALES': 'O. A.', 'GRUPO': 'Grupo de Fenomenologia de Interacciones Fundamentales', 'SEGUNDO APELLIDO': 'N...\n",
       "7     [{'FACULTAD': 'Facultad de Ciencias Exactas y Naturales', 'NOMBRES': 'Diego Alejandro', 'WOS_affiliation': ['Univ Antioquia, Inst Fis, Medellin, Colombia.'], 'INICIALES': 'D. A.', 'GRUPO': 'Grupo ...\n",
       "8     [{'FACULTAD': 'Facultad de Ciencias Exactas y Naturales', 'NOMBRES': 'Diego Alejandro', 'WOS_affiliation': ['Univ Antioquia, Inst Fis, Medellin, Antioquia, Colombia.'], 'INICIALES': 'D. A.', 'GRUP...\n",
       "9     [{'FACULTAD': 'Facultad de Ciencias Exactas y Naturales', 'NOMBRES': 'Oscar Alberto', 'WOS_affiliation': ['Univ Antioquia, Inst Fis, Medellin 1226, Colombia.'], 'INICIALES': 'O. A.', 'GRUPO': 'Gru...\n",
       "10    [{'FACULTAD': 'Facultad de Ciencias Exactas y Naturales', 'NOMBRES': 'Diego Alejandro', 'WOS_affiliation': ['Univ Antioquia, Inst Fis, Antioquia, Colombia.'], 'INICIALES': 'D. A.', 'GRUPO': 'Grupo...\n",
       "11    [{'FACULTAD': 'Facultad de Ciencias Exactas y Naturales', 'NOMBRES': 'Diego Alejandro', 'WOS_affiliation': ['Univ Antioquia, Inst Fis, Medellin, Colombia.'], 'INICIALES': 'D. A.', 'GRUPO': 'Grupo ...\n",
       "Name: UDEA_authors, dtype: object"
      ]
     },
     "execution_count": 58,
     "metadata": {},
     "output_type": "execute_result"
    }
   ],
   "source": [
    "mask=extract_internal_list_as_value_of_a_dictionary_key_in_a_list_of_dictionaries(\n",
    "            UDEA,list_of_dictionaries='UDEA_authors',dictionary_key='WOS_author').apply( \n",
    "            lambda x: pattern in x)\n",
    "UDEA[mask]['UDEA_authors'].reset_index(drop=True)"
   ]
  },
  {
   "cell_type": "code",
   "execution_count": 59,
   "metadata": {
    "collapsed": true
   },
   "outputs": [],
   "source": [
    "def extract_dictionary_from_list(df,list_name,i=0):\n",
    "    return df[list_name].apply( lambda l: [ d for d in l][i] if type(l)==list else l )\n",
    "def extract_key_value_from_series(ds,key):\n",
    "    return ds.apply( lambda d: d.get(key)if type(d)==dict else d  )"
   ]
  },
  {
   "cell_type": "code",
   "execution_count": 60,
   "metadata": {},
   "outputs": [
    {
     "data": {
      "text/plain": [
       "{'CÉDULA': 87470374.0,\n",
       " 'DEPARTAMENTO': 'Departamento de Microbiología y Parasitología',\n",
       " 'FACULTAD': 'Facultad de Medicina',\n",
       " 'GRUPO': 'Inmunovirología',\n",
       " 'INICIALES': 'S.',\n",
       " 'NOMBRE COMPLETO': 'Silvio Urcuqui Inchima',\n",
       " 'NOMBRES': 'Silvio',\n",
       " 'PRIMER APELLIDO': 'Urcuqui',\n",
       " 'SEGUNDO APELLIDO': 'Inchima',\n",
       " 'WOS_affiliation': ['Univ Antioquia, Sede Invest Univ, Grp Inmunoviol, Medellin, Colombia.'],\n",
       " 'WOS_author': ['Urcuqui-Inchima, Silvio'],\n",
       " 'full_name': 'URCUQUI INCHIMA SILVIO'}"
      ]
     },
     "execution_count": 60,
     "metadata": {},
     "output_type": "execute_result"
    }
   ],
   "source": [
    "mask=extract_key_value_from_series( \n",
    "    extract_dictionary_from_list( UDEA,'UDEA_authors',i=0),'WOS_author').str[0].str.contains('\\-').fillna(False)\n",
    "UDEA[mask]['UDEA_authors'].reset_index(drop=True).str[0].loc[1]"
   ]
  },
  {
   "cell_type": "markdown",
   "metadata": {},
   "source": [
    "TODO: Extract dict or value"
   ]
  },
  {
   "cell_type": "markdown",
   "metadata": {},
   "source": [
    "## TODO: Build a single profile for all"
   ]
  },
  {
   "cell_type": "markdown",
   "metadata": {},
   "source": [
    "flatten a list of lists:"
   ]
  },
  {
   "cell_type": "code",
   "execution_count": 61,
   "metadata": {
    "collapsed": true
   },
   "outputs": [],
   "source": [
    "ua=pd.DataFrame()"
   ]
  },
  {
   "cell_type": "code",
   "execution_count": 62,
   "metadata": {
    "collapsed": true
   },
   "outputs": [],
   "source": [
    "aumax=UDEA['UDEA_authors'].dropna().apply(len).max() \n",
    "ua=pd.DataFrame()\n",
    "for i in range(aumax):\n",
    "    kkk=pd.DataFrame()\n",
    "    kkk['UDEA_authors']= UDEA['UDEA_authors'].str[i].dropna()\n",
    "    kkk['authors_WOS']= UDEA['authors_WOS']\n",
    "    kkk['SCP_Authors']=UDEA['SCP_Authors']\n",
    "    kkk['tmp_str']=kkk['UDEA_authors'].astype(str)\n",
    "    kkk=kkk.drop_duplicates('tmp_str')\n",
    "    ua=ua.append(kkk).reset_index(drop=True)\n",
    "    #ua['UDEA_authors']= "
   ]
  },
  {
   "cell_type": "code",
   "execution_count": 63,
   "metadata": {
    "collapsed": true
   },
   "outputs": [],
   "source": [
    "ua['tmp_author']=ua['UDEA_authors'].apply( lambda d: d.get('full_name') )"
   ]
  },
  {
   "cell_type": "markdown",
   "metadata": {},
   "source": [
    "BUG: `UDEA_authors` without `WOS_author key`"
   ]
  },
  {
   "cell_type": "markdown",
   "metadata": {},
   "source": [
    "### Filter identified WOS articles"
   ]
  },
  {
   "cell_type": "code",
   "execution_count": 64,
   "metadata": {
    "collapsed": true
   },
   "outputs": [],
   "source": [
    "ua['authors_WOS']=ua['authors_WOS'].apply(lambda l: l if l else pd.np.nan)\n",
    "ua=ua[~ua['authors_WOS'].isna()].reset_index(drop=True)"
   ]
  },
  {
   "cell_type": "code",
   "execution_count": 65,
   "metadata": {
    "collapsed": true
   },
   "outputs": [],
   "source": [
    "full_names=ua['tmp_author'].unique()"
   ]
  },
  {
   "cell_type": "code",
   "execution_count": 66,
   "metadata": {},
   "outputs": [
    {
     "data": {
      "text/plain": [
       "array(['DOVER ROBERT VAN HORN', 'RADA RINCON JUAN PABLO',\n",
       "       'MACHADO RODRIGUEZ GLORIA'], dtype=object)"
      ]
     },
     "execution_count": 66,
     "metadata": {},
     "output_type": "execute_result"
    }
   ],
   "source": [
    "full_names[:3]"
   ]
  },
  {
   "cell_type": "code",
   "execution_count": 67,
   "metadata": {},
   "outputs": [
    {
     "data": {
      "text/plain": [
       "((4135, 5), (850,))"
      ]
     },
     "execution_count": 67,
     "metadata": {},
     "output_type": "execute_result"
    }
   ],
   "source": [
    "ua.shape,full_names.shape"
   ]
  },
  {
   "cell_type": "markdown",
   "metadata": {},
   "source": [
    "TODO: implement also SCP authors"
   ]
  },
  {
   "cell_type": "markdown",
   "metadata": {},
   "source": [
    "Example"
   ]
  },
  {
   "cell_type": "code",
   "execution_count": 68,
   "metadata": {},
   "outputs": [
    {
     "name": "stdout",
     "output_type": "stream",
     "text": [
      "MESA HERRERA NATALIA REGINA\n"
     ]
    }
   ],
   "source": [
    "aunly=pd.DataFrame()\n",
    "for f in full_names:\n",
    "    clear_output(wait=True)\n",
    "    print(f)    \n",
    "    kk=pd.DataFrame( { 'tmp_author':[f]  } ).merge(\n",
    "          ua[['tmp_author','UDEA_authors']],on='tmp_author',how='left')\n",
    "\n",
    "    kk['tmp_str']=kk.UDEA_authors.astype(str)\n",
    "\n",
    "    kk=kk.drop_duplicates('tmp_str').dropna()#[['tmp_author','UDEA_authors']]\n",
    "\n",
    "    try:\n",
    "        laff=list( kk['UDEA_authors'].apply(lambda d: d.get( 'WOS_affiliation' )\n",
    "                                     ).dropna().apply(pd.Series).stack().unique() )\n",
    "        lau=list( kk['UDEA_authors'].apply(lambda d: d.get( 'WOS_author' )\n",
    "                                     ).dropna().apply(pd.Series).stack().unique() )\n",
    "    except AttributeError:\n",
    "        laff=[];lau=[]\n",
    "\n",
    "    if len(laff)>0 and len(lau)>0:\n",
    "        tmpupdate=kk['UDEA_authors'].apply(lambda d: d.update({'WOS_author':lau,'WOS_affiliation':laff}) )\n",
    "\n",
    "        kk['tmp_str']=kk['UDEA_authors'].astype(str)\n",
    "\n",
    "        kk=kk.drop_duplicates('tmp_str')\n",
    "\n",
    "        kk['tmp_len']=kk['tmp_str'].apply(len)#.astype(str)\n",
    "\n",
    "        aunly=aunly.append( kk.sort_values('tmp_len',ascending=False).drop(index=kk.index[1:]).drop(\n",
    "               ['tmp_str','tmp_len'],axis='columns') ).reset_index(drop=True)"
   ]
  },
  {
   "cell_type": "code",
   "execution_count": 69,
   "metadata": {},
   "outputs": [
    {
     "data": {
      "text/plain": [
       "{'CÉDULA': 71617883.0,\n",
       " 'DEPARTAMENTO': 'Instituto de Física',\n",
       " 'FACULTAD': 'Facultad de Ciencias Exactas y Naturales',\n",
       " 'GRUPO': 'Grupo de Materia Condensada-UdeA',\n",
       " 'INICIALES': 'C. A.',\n",
       " 'NOMBRE COMPLETO': 'Carlos Alberto Duque Echeverri',\n",
       " 'NOMBRES': 'Carlos Alberto',\n",
       " 'PRIMER APELLIDO': 'Duque',\n",
       " 'SEGUNDO APELLIDO': 'Echeverri',\n",
       " 'WOS_affiliation': ['Univ Antioquia UdeA, Fac Ciencias Exactas & Nat, Inst Fis, Grp Mat Condensada UdeA, Medellin, Colombia.',\n",
       "  'Univ Antioquia UdeA, Grp Materia Condensada UdeA, Inst Fis, Fac Ciencias Exactas & Nat, Medellin, Colombia.',\n",
       "  'Univ Antioquia UdeA, Inst Fis, Fac Ciencias Exactas & Nat, Grp Mat Condensada UdeA, Medellin, Colombia.',\n",
       "  'Univ Antioquia UdeA, Fac Ciencias Exactas & Nat, Inst Fis, Grp Mat Condensada UdeA, Calle 70 52-21, Medellin, Colombia.',\n",
       "  'Univ Antioquia UdeA, Inst Fis, Fac Ciencias Exactas & Nat, Grp Mat Condensada UdeA, Calle 70 52-21, Medellin, Colombia.',\n",
       "  'Univ Antioquia UdeA, Grp Mat Condensada UdeA, Inst Fis, Fac Ciencias Exactas & Nat, Medellin, Colombia.',\n",
       "  'Univ Antioquia UdeA, Fac Ciencias Exactas & Nat, Grp Mat Condensada UdeA, Inst Fis, Medellin, Colombia.',\n",
       "  'Univ Antioquia UdeA, Fac Ciencias Exactas & Nat, Inst Fis, Grupo Mat Condensada, Medellin, Colombia.',\n",
       "  'Univ Antioquia, Grp Mat Condensada, Medellin, Colombia.',\n",
       "  'Univ Antioquia UdeA, Fac Ciencias Exactas & Nat, Inst Fis, Grupo Materia Condensada UdeA, Medellin, Colombia.',\n",
       "  'Univ Antioquia UdeA, Fac Ciencias Exactas & Nat, Inst Fis, Grp Materia Condensada UdeA, Medellin, Colombia.',\n",
       "  'Univ Antioquia UdeA, Grp Mat Condensada UdeA, Inst Fis, Fac Ciencias Exactas Nat, Medellin, Colombia.',\n",
       "  'Univ Antioquia UdeA, Fac Ciencias Exactas & Nat, Inst Fis, Grp Mat Condensade UdeA, Medellin, Colombia.',\n",
       "  'Univ Antioquia, Fac Ciencias Exactas & Natl, Inst Fis, Grp Mat Condensada U De A, Medellin, Colombia.',\n",
       "  'Univ Antioquia UdeA, Inst Fis, Fac Ciencias Exactas & Nat, Grp Mat Condensada, Medellin, Colombia.',\n",
       "  'Univ Antioquia UdeA, Fac Ciencias Exactas & Nat, Grp Mat Condensada UdeA, Medellin, Colombia.',\n",
       "  'Univ Antioquia, Inst Fis, Medellin 1226, Colombia.',\n",
       "  'Univ Antioquia, Inst Fis, Medellin, Colombia.',\n",
       "  'Univ Antioquia, Ist Fis, Medellin 1226, Colombia.',\n",
       "  'Univ Antioquia, Inst Fis, Medellin, CO USA.',\n",
       "  'Univ Antioquia, Inst Fis, AA-1226 Medellin, Colombia.',\n",
       "  'Univ Antioquia, Inst Fis, Medellyn, Colombia.',\n",
       "  'Univ Antioquia UdeA, Grp Mat Condensada UdeA, Inst Fis, Fac Ciencias Exactas & Nat, Calle 70 52-21, Medellin, Colombia.',\n",
       "  'Univ Antioquia UdeA, Grp Mat Condensada, Inst Fis, Calle 70 52-21, Medellin, Colombia.',\n",
       "  'Univ Antioquia, Inst Fis, Medellin 1126, Colombia.',\n",
       "  'Univ Antioquia, Inst Fis, AA 1226, Medellin, Colombia.',\n",
       "  'Univ Antioquia, Inst Fis, AA 126, Medellin, Colombia.'],\n",
       " 'WOS_author': ['Duque, C. A.',\n",
       "  'Alberto Duque, Carlos',\n",
       "  'Duque, Carlos A.',\n",
       "  'Duque, Carlos'],\n",
       " 'full_name': 'DUQUE ECHEVERRI CARLOS ALBERTO'}"
      ]
     },
     "execution_count": 69,
     "metadata": {},
     "output_type": "execute_result"
    }
   ],
   "source": [
    "#DEBUG\n",
    "aunly[aunly.tmp_author.fillna('').str.contains('DUQUE ECHEVERRI CARLOS ALBERTO')\n",
    "      ].reset_index(drop=True).UDEA_authors.loc[0]"
   ]
  },
  {
   "cell_type": "code",
   "execution_count": 70,
   "metadata": {},
   "outputs": [
    {
     "data": {
      "text/plain": [
       "{'INICIALES': 'V. H.',\n",
       " 'NOMBRES': 'Van Horn',\n",
       " 'PRIMER APELLIDO': 'Dover',\n",
       " 'SEGUNDO APELLIDO': 'Robert',\n",
       " 'WOS_affiliation': ['Univ Antioquia, Dept Antropol, Antioquia, Colombia.',\n",
       "  'Univ Antioquia, Dept Antropol, Medellin, Colombia.',\n",
       "  'Univ Antioquia, Fac Nacl Salad Publ, Medellin, Antioquia, Colombia.'],\n",
       " 'WOS_author': ['Dover, Robert V. H.'],\n",
       " 'full_name': 'DOVER ROBERT VAN HORN'}"
      ]
     },
     "execution_count": 70,
     "metadata": {},
     "output_type": "execute_result"
    }
   ],
   "source": [
    "ua['UDEA_authors'].loc[0]"
   ]
  },
  {
   "cell_type": "code",
   "execution_count": 71,
   "metadata": {},
   "outputs": [
    {
     "data": {
      "text/plain": [
       "[{'WOS_author': 'Dover, Robert V. H.',\n",
       "  'affiliation': ['Univ Antioquia, Dept Antropol, Antioquia, Colombia.'],\n",
       "  'i': 0}]"
      ]
     },
     "execution_count": 71,
     "metadata": {},
     "output_type": "execute_result"
    }
   ],
   "source": [
    "ua['authors_WOS'].loc[0]"
   ]
  },
  {
   "cell_type": "code",
   "execution_count": 72,
   "metadata": {},
   "outputs": [
    {
     "data": {
      "text/plain": [
       "(800, 2)"
      ]
     },
     "execution_count": 72,
     "metadata": {},
     "output_type": "execute_result"
    }
   ],
   "source": [
    "aunly.shape"
   ]
  },
  {
   "cell_type": "code",
   "execution_count": 73,
   "metadata": {
    "collapsed": true
   },
   "outputs": [],
   "source": [
    "aunly.to_json('UDEA_authors_with_WOS_info.json')"
   ]
  },
  {
   "cell_type": "code",
   "execution_count": 74,
   "metadata": {
    "collapsed": true
   },
   "outputs": [],
   "source": [
    "RECOVER=False\n",
    "if RECOVER:\n",
    "    UDEA=pd.read_json('UDEAtmp.json').reset_index(drop=True)"
   ]
  },
  {
   "cell_type": "code",
   "execution_count": 75,
   "metadata": {},
   "outputs": [
    {
     "data": {
      "text/plain": [
       "(15722, 169)"
      ]
     },
     "execution_count": 75,
     "metadata": {},
     "output_type": "execute_result"
    }
   ],
   "source": [
    "UDEA.shape"
   ]
  },
  {
   "cell_type": "code",
   "execution_count": 76,
   "metadata": {
    "collapsed": true
   },
   "outputs": [],
   "source": [
    "if RECOVER:\n",
    "    if os.path.exists('UDEA_authors_with_WOS_info.json' ):\n",
    "        aunly=pd.read_json('UDEA_authors_with_WOS_info.json')\n",
    "    else:\n",
    "        aunly=drive_files.read_drive_json('UDEA_authors_with_WOS_info.json')"
   ]
  },
  {
   "cell_type": "code",
   "execution_count": 77,
   "metadata": {},
   "outputs": [
    {
     "data": {
      "text/plain": [
       "(800, 2)"
      ]
     },
     "execution_count": 77,
     "metadata": {},
     "output_type": "execute_result"
    }
   ],
   "source": [
    "aunly.shape"
   ]
  },
  {
   "cell_type": "markdown",
   "metadata": {},
   "source": [
    "(800, 2)"
   ]
  },
  {
   "cell_type": "markdown",
   "metadata": {},
   "source": [
    "## Merge UDEA with authors"
   ]
  },
  {
   "cell_type": "code",
   "execution_count": 78,
   "metadata": {
    "collapsed": true
   },
   "outputs": [],
   "source": [
    "# loop upon i and j to merge aunly in UDEA such that the full authors and affiliations are registered\n",
    "#UDEA.merge"
   ]
  },
  {
   "cell_type": "code",
   "execution_count": 79,
   "metadata": {
    "collapsed": true
   },
   "outputs": [],
   "source": [
    "l=UDEA['UDEA_authors'].loc[4]\n",
    "def fill_full_wos_author_info(l,WOS_df=aunly,full_name='full_name',full_name_column='tmp_author',\n",
    "                               WOS_column='UDEA_authors',WOS_author='WOS_author',\n",
    "                               WOS_affiliation='WOS_affiliation'):\n",
    "    newl=[]\n",
    "    if type(l)==list:\n",
    "        for d in l:\n",
    "            if d.get('WOS_author'):\n",
    "                #find in aunly\n",
    "                mtch=WOS_df[WOS_df[full_name_column]==d.get(full_name)].reset_index(drop=True)\n",
    "                if mtch.shape[0]==1:\n",
    "                    #update d\n",
    "                    if mtch[WOS_column].loc[0].get(WOS_author):\n",
    "                        d[WOS_author]=mtch[WOS_column].loc[0].get(WOS_author)\n",
    "                        d[WOS_affiliation]=mtch[WOS_column].loc[0].get(WOS_affiliation)\n",
    "            newl.append(d)\n",
    "    else:\n",
    "        newl=l\n",
    "    return newl        "
   ]
  },
  {
   "cell_type": "code",
   "execution_count": 80,
   "metadata": {},
   "outputs": [],
   "source": [
    "fill_full_wos_author_info(l,aunly)[0].get('WOS_author')"
   ]
  },
  {
   "cell_type": "code",
   "execution_count": 81,
   "metadata": {
    "collapsed": true
   },
   "outputs": [],
   "source": [
    "UDEA['UDEA_authors']=UDEA['UDEA_authors'].apply(fill_full_wos_author_info )"
   ]
  },
  {
   "cell_type": "code",
   "execution_count": 82,
   "metadata": {
    "collapsed": true
   },
   "outputs": [],
   "source": [
    "UDEA.to_json('UDEAtmp.json')"
   ]
  },
  {
   "cell_type": "code",
   "execution_count": 124,
   "metadata": {},
   "outputs": [],
   "source": [
    "RECOVER=True\n",
    "if RECOVER:\n",
    "    UDEA=pd.read_json('UDEAtmp.json').reset_index(drop=True)"
   ]
  },
  {
   "cell_type": "markdown",
   "metadata": {},
   "source": []
  },
  {
   "cell_type": "markdown",
   "metadata": {},
   "source": [
    "## TODO: Try to merge new WOS articles from old `'UDEA_authors'`"
   ]
  },
  {
   "cell_type": "markdown",
   "metadata": {},
   "source": [
    "TODO: whithout split or merge"
   ]
  },
  {
   "cell_type": "markdown",
   "metadata": {},
   "source": [
    "Split DataFrame into  \"new\" with UDEA authors not yet identified and \"old\" with full UDEA author info "
   ]
  },
  {
   "cell_type": "code",
   "execution_count": 84,
   "metadata": {
    "collapsed": true
   },
   "outputs": [],
   "source": [
    "UDEAnew=UDEA[UDEA.UDEA_authors.isna()].reset_index(drop=True)\n",
    "UDEAold=UDEA[~UDEA.UDEA_authors.isna()].reset_index(drop=True)"
   ]
  },
  {
   "cell_type": "markdown",
   "metadata": {},
   "source": [
    "## Merge old with news"
   ]
  },
  {
   "cell_type": "markdown",
   "metadata": {},
   "source": [
    "Split \"new\" into the \"Y\" with WOS author info"
   ]
  },
  {
   "cell_type": "code",
   "execution_count": 85,
   "metadata": {
    "collapsed": true
   },
   "outputs": [],
   "source": [
    "UDEAnewY=UDEAnew[ UDEAnew.authors_WOS.apply(lambda x: type(x)==list and len(x)>0) ].reset_index(drop=True)\n",
    "UDEAnewN=UDEAnew[~UDEAnew.authors_WOS.apply(lambda x: type(x)==list and len(x)>0) ].reset_index(drop=True)"
   ]
  },
  {
   "cell_type": "code",
   "execution_count": 86,
   "metadata": {},
   "outputs": [
    {
     "data": {
      "text/plain": [
       "((3432, 169), '+', (5216, 169), '+', (7074, 169), '=', 15722, '=', 15722)"
      ]
     },
     "execution_count": 86,
     "metadata": {},
     "output_type": "execute_result"
    }
   ],
   "source": [
    "(UDEAnewY.shape,'+',UDEAnewN.shape,'+',UDEAold.shape,'=',\n",
    "   UDEAnewY.shape[0]+UDEAnewN.shape[0]+UDEAold.shape[0],'=',UDEA.shape[0])"
   ]
  },
  {
   "cell_type": "code",
   "execution_count": 87,
   "metadata": {
    "collapsed": true
   },
   "outputs": [],
   "source": [
    "CHECK=False\n",
    "if CHECK:\n",
    "    pattern='Restrepo, D.'\n",
    "    mask=extract_internal_value_of_a_dictionary_key_in_a_list_of_dictionaries(\n",
    "                UDEAnewY,list_of_dictionaries='authors_WOS',dictionary_key='WOS_author').apply( \n",
    "                lambda x: pattern in x)\n",
    "    UDEAnewY[mask].authors_WOS.reset_index(drop=True).values"
   ]
  },
  {
   "cell_type": "code",
   "execution_count": 88,
   "metadata": {
    "collapsed": true
   },
   "outputs": [],
   "source": [
    "if CHECK:\n",
    "    mask=mask_on_internal_value_of_a_dictionary_key_in_a_list_of_dictionaries(UDEAnewY,\n",
    "            pattern='Restrepo, D.',list_of_dictionaries='authors_WOS',dictionary_key='WOS_author')                                                                       \n",
    "    UDEAnewY[mask]['authors_WOS'].reset_index(drop=True).values"
   ]
  },
  {
   "cell_type": "code",
   "execution_count": 89,
   "metadata": {},
   "outputs": [
    {
     "data": {
      "text/plain": [
       "\"{'affiliation': 'Univ Antioquia, Fac Agr Sci, Biogenesis Res Grp, Calle 70 52-21, Medellin 050010, Colombia.', 'WOS_author': 'Ortiz, T.'}\""
      ]
     },
     "execution_count": 89,
     "metadata": {},
     "output_type": "execute_result"
    }
   ],
   "source": [
    "#Extract a specific author with specific affiliation from the WOS author full info into a temporal column\n",
    "i=0\n",
    "aff_i=0\n",
    "UDEAnewY['news_i_j_str']=UDEAnewY.authors_WOS.apply(lambda x: [ {'WOS_author':y.get('WOS_author'),\n",
    "                                                   'affiliation':y.get('affiliation')[aff_i]} for y in x]\n",
    "                                                   ).str[i].astype(str)\n",
    "UDEAnewY['news_i_j_str'].loc[0]"
   ]
  },
  {
   "cell_type": "markdown",
   "metadata": {},
   "source": [
    "Prepare trained data set with the j-th author: first UDEA author info into a temporal column"
   ]
  },
  {
   "cell_type": "code",
   "execution_count": 90,
   "metadata": {
    "collapsed": true
   },
   "outputs": [],
   "source": [
    "j=0\n",
    "auth_j=0\n",
    "aff_j=0\n",
    "UDEAold['UDEA_authors_j']=UDEAold['UDEA_authors'].str[j]"
   ]
  },
  {
   "cell_type": "code",
   "execution_count": 91,
   "metadata": {
    "collapsed": true
   },
   "outputs": [],
   "source": [
    "#Extract a specific author with specific affiliation from the WOS author full info into a temporal column\n",
    "UDEAold['news_i_j']=UDEAold['UDEA_authors'].apply(lambda l: [ {'WOS_author':d.get('WOS_author')[auth_j], \n",
    "                                           'affiliation':d.get('WOS_affiliation')[aff_j] } if d.get('WOS_author') \n",
    "                                         else pd.np.nan for d in l] ).str[j]#.astype(str)\n"
   ]
  },
  {
   "cell_type": "code",
   "execution_count": 92,
   "metadata": {
    "collapsed": true
   },
   "outputs": [],
   "source": [
    "ma=UDEAold.dropna(subset=['news_i_j']).reset_index(drop=True)"
   ]
  },
  {
   "cell_type": "markdown",
   "metadata": {},
   "source": [
    "### Quality critera search:\n",
    "* Affiliation split(', ') > 3\n",
    "* if Author find('.') → 'Author split(' ')  > 2 "
   ]
  },
  {
   "cell_type": "code",
   "execution_count": 93,
   "metadata": {},
   "outputs": [
    {
     "data": {
      "text/plain": [
       "{'WOS_author': 'Restrepo, J.',\n",
       " 'affiliation': 'Univ Antioquia, Inst Fis, Grp Magnetismo & Simulac, Medellin 1226, Colombia.'}"
      ]
     },
     "execution_count": 93,
     "metadata": {},
     "output_type": "execute_result"
    }
   ],
   "source": [
    "ma['news_i_j'].loc[2]"
   ]
  },
  {
   "cell_type": "code",
   "execution_count": 94,
   "metadata": {
    "collapsed": true
   },
   "outputs": [],
   "source": [
    "#*** May be filter Homonymous\n",
    "Homonymous=False\n",
    "if Homonymous:\n",
    "    ma=ma[~np.logical_and( ma['news_i_j'].apply(lambda d: d.get('affiliation') \n",
    "                                              if not pd.isna(d) else '' ).str.split(', ').apply(len)<=3,\n",
    "                            ma['news_i_j'].apply(lambda d: d.get('WOS_author') \n",
    "                                              if not pd.isna(d) else '' ).str.split(' ').apply(len)<=2)]\n",
    "#****"
   ]
  },
  {
   "cell_type": "code",
   "execution_count": 95,
   "metadata": {
    "collapsed": true
   },
   "outputs": [],
   "source": [
    "ma['news_i_j_str']=ma['news_i_j'].astype(str)"
   ]
  },
  {
   "cell_type": "code",
   "execution_count": 96,
   "metadata": {
    "collapsed": true
   },
   "outputs": [],
   "source": [
    "#Extract all the mathches for the author\n",
    "kk=UDEAnewY.merge( ma[['news_i_j_str','news_i_j']],on='news_i_j_str',how='left')#.dropna().reset_index(drop=True)#.loc[5].values"
   ]
  },
  {
   "cell_type": "code",
   "execution_count": 97,
   "metadata": {},
   "outputs": [
    {
     "data": {
      "text/plain": [
       "{'CÉDULA': 71617883.0,\n",
       " 'DEPARTAMENTO': 'Instituto de Física',\n",
       " 'FACULTAD': 'Facultad de Ciencias Exactas y Naturales',\n",
       " 'GRUPO': 'Grupo de Materia Condensada-UdeA',\n",
       " 'INICIALES': 'C. A.',\n",
       " 'NOMBRE COMPLETO': 'Carlos Alberto Duque Echeverri',\n",
       " 'NOMBRES': 'Carlos Alberto',\n",
       " 'PRIMER APELLIDO': 'Duque',\n",
       " 'SEGUNDO APELLIDO': 'Echeverri',\n",
       " 'WOS_affiliation': ['Univ Antioquia UdeA, Fac Ciencias Exactas & Nat, Inst Fis, Grp Mat Condensada UdeA, Medellin, Colombia.',\n",
       "  'Univ Antioquia UdeA, Grp Materia Condensada UdeA, Inst Fis, Fac Ciencias Exactas & Nat, Medellin, Colombia.',\n",
       "  'Univ Antioquia UdeA, Inst Fis, Fac Ciencias Exactas & Nat, Grp Mat Condensada UdeA, Medellin, Colombia.',\n",
       "  'Univ Antioquia UdeA, Fac Ciencias Exactas & Nat, Inst Fis, Grp Mat Condensada UdeA, Calle 70 52-21, Medellin, Colombia.',\n",
       "  'Univ Antioquia UdeA, Inst Fis, Fac Ciencias Exactas & Nat, Grp Mat Condensada UdeA, Calle 70 52-21, Medellin, Colombia.',\n",
       "  'Univ Antioquia UdeA, Grp Mat Condensada UdeA, Inst Fis, Fac Ciencias Exactas & Nat, Medellin, Colombia.',\n",
       "  'Univ Antioquia UdeA, Fac Ciencias Exactas & Nat, Grp Mat Condensada UdeA, Inst Fis, Medellin, Colombia.',\n",
       "  'Univ Antioquia UdeA, Fac Ciencias Exactas & Nat, Inst Fis, Grupo Mat Condensada, Medellin, Colombia.',\n",
       "  'Univ Antioquia, Grp Mat Condensada, Medellin, Colombia.',\n",
       "  'Univ Antioquia UdeA, Fac Ciencias Exactas & Nat, Inst Fis, Grupo Materia Condensada UdeA, Medellin, Colombia.',\n",
       "  'Univ Antioquia UdeA, Fac Ciencias Exactas & Nat, Inst Fis, Grp Materia Condensada UdeA, Medellin, Colombia.',\n",
       "  'Univ Antioquia UdeA, Grp Mat Condensada UdeA, Inst Fis, Fac Ciencias Exactas Nat, Medellin, Colombia.',\n",
       "  'Univ Antioquia UdeA, Fac Ciencias Exactas & Nat, Inst Fis, Grp Mat Condensade UdeA, Medellin, Colombia.',\n",
       "  'Univ Antioquia, Fac Ciencias Exactas & Natl, Inst Fis, Grp Mat Condensada U De A, Medellin, Colombia.',\n",
       "  'Univ Antioquia UdeA, Inst Fis, Fac Ciencias Exactas & Nat, Grp Mat Condensada, Medellin, Colombia.',\n",
       "  'Univ Antioquia UdeA, Fac Ciencias Exactas & Nat, Grp Mat Condensada UdeA, Medellin, Colombia.',\n",
       "  'Univ Antioquia, Inst Fis, Medellin 1226, Colombia.',\n",
       "  'Univ Antioquia, Inst Fis, Medellin, Colombia.',\n",
       "  'Univ Antioquia, Ist Fis, Medellin 1226, Colombia.',\n",
       "  'Univ Antioquia, Inst Fis, Medellin, CO USA.',\n",
       "  'Univ Antioquia, Inst Fis, AA-1226 Medellin, Colombia.',\n",
       "  'Univ Antioquia, Inst Fis, Medellyn, Colombia.',\n",
       "  'Univ Antioquia UdeA, Grp Mat Condensada UdeA, Inst Fis, Fac Ciencias Exactas & Nat, Calle 70 52-21, Medellin, Colombia.',\n",
       "  'Univ Antioquia UdeA, Grp Mat Condensada, Inst Fis, Calle 70 52-21, Medellin, Colombia.',\n",
       "  'Univ Antioquia, Inst Fis, Medellin 1126, Colombia.',\n",
       "  'Univ Antioquia, Inst Fis, AA 1226, Medellin, Colombia.',\n",
       "  'Univ Antioquia, Inst Fis, AA 126, Medellin, Colombia.'],\n",
       " 'WOS_author': ['Duque, C. A.',\n",
       "  'Alberto Duque, Carlos',\n",
       "  'Duque, Carlos A.',\n",
       "  'Duque, Carlos'],\n",
       " 'full_name': 'DUQUE ECHEVERRI CARLOS ALBERTO'}"
      ]
     },
     "execution_count": 97,
     "metadata": {},
     "output_type": "execute_result"
    }
   ],
   "source": [
    "ma.UDEA_authors.str[i].loc[0]"
   ]
  },
  {
   "cell_type": "code",
   "execution_count": 98,
   "metadata": {},
   "outputs": [
    {
     "data": {
      "text/plain": [
       "((3769, 171), (3432, 170))"
      ]
     },
     "execution_count": 98,
     "metadata": {},
     "output_type": "execute_result"
    }
   ],
   "source": [
    "kk.shape,UDEAnewY.shape"
   ]
  },
  {
   "cell_type": "code",
   "execution_count": 99,
   "metadata": {},
   "outputs": [
    {
     "data": {
      "text/plain": [
       "(377, 171)"
      ]
     },
     "execution_count": 99,
     "metadata": {},
     "output_type": "execute_result"
    }
   ],
   "source": [
    "kkk=kk.dropna(subset=['news_i_j'])#.shape\n",
    "kkk.shape"
   ]
  },
  {
   "cell_type": "markdown",
   "metadata": {},
   "source": [
    "Implementation without merge"
   ]
  },
  {
   "cell_type": "code",
   "execution_count": null,
   "metadata": {
    "collapsed": true
   },
   "outputs": [],
   "source": [
    "#Extract a specific author with specific affiliation from the WOS author full info into a temporal column\n",
    "UDEAold['news_i_j']=UDEAold['UDEA_authors'].apply(lambda l: [ {'WOS_author':d.get('WOS_author')[auth_j], \n",
    "                                           'affiliation':d.get('WOS_affiliation')[aff_j] } if d.get('WOS_author') \n",
    "                                         else pd.np.nan for d in l] ).str[j]#.astype(str)\n",
    "ma=UDEAold.dropna(subset=['news_i_j']).reset_index(drop=True)\n",
    "ma['news_i_j_str']=ma['news_i_j'].astype(str)"
   ]
  },
  {
   "cell_type": "code",
   "execution_count": null,
   "metadata": {
    "collapsed": true
   },
   "outputs": [],
   "source": [
    "#Extract a specific author with specific affiliation from the WOS author full info into a temporal column\n",
    "i=0\n",
    "aff_i=0\n",
    "UDEAnewY['news_i_j_str']=UDEAnewY['authors_WOS'].apply(lambda x: [ {'WOS_author':y.get('WOS_author'),\n",
    "                                                   'affiliation':y.get('affiliation')[aff_i]} for y in x]\n",
    "                                                   ).str[i].astype(str)"
   ]
  },
  {
   "cell_type": "code",
   "execution_count": null,
   "metadata": {
    "collapsed": true
   },
   "outputs": [],
   "source": [
    "#Extract all the mathches for the author\n",
    "kk=UDEAnewY.merge( ma[['news_i_j_str','news_i_j']],\n",
    "                  on='news_i_j_str',how='left')#.dropna().reset_index(drop=True)#.loc[5].values"
   ]
  },
  {
   "cell_type": "code",
   "execution_count": 356,
   "metadata": {},
   "outputs": [
    {
     "name": "stdout",
     "output_type": "stream",
     "text": [
      "[{'i': 0, 'WOS_author': 'Monsalve-Calderon, K.', 'affiliation': ['Univ Antioquia UdeA, Inst Fis, Fac Ciencias Exactas Natur, Grp Mat Condensada UdeA, Calle 70 52-21, Medellin, Colombia.']}, {'i': 1, 'WOS_author': 'Gil-Corrales, A.', 'affiliation': ['Univ Antioquia UdeA, Inst Fis, Fac Ciencias Exactas Natur, Grp Mat Condensada UdeA, Calle 70 52-21, Medellin, Colombia.']}, {'i': 2, 'WOS_author': 'Morales, A. L.', 'affiliation': ['Univ Antioquia UdeA, Inst Fis, Fac Ciencias Exactas Natur, Grp Mat Condensada UdeA, Calle 70 52-21, Medellin, Colombia.']}, {'i': 3, 'WOS_author': 'Duque, C. A.', 'affiliation': ['Univ Antioquia UdeA, Inst Fis, Fac Ciencias Exactas Natur, Grp Mat Condensada UdeA, Calle 70 52-21, Medellin, Colombia.']}]\n",
      "====================\n",
      "None\n"
     ]
    }
   ],
   "source": [
    "#x=UDEA['authors_WOS']\n",
    "#y=UDEA['UDEA_authors']\n",
    "i=8\n",
    "x=UDEA['authors_WOS'].loc[i]\n",
    "y=UDEA['UDEA_authors'].loc[i]\n",
    "if ( type(x)==list and x) and type(y)!=list:\n",
    "    print(x)\n",
    "    print(\"=\"*20)\n",
    "    print(y)"
   ]
  },
  {
   "cell_type": "code",
   "execution_count": 349,
   "metadata": {},
   "outputs": [
    {
     "data": {
      "text/plain": [
       "'Bedoya, Gabriel'"
      ]
     },
     "execution_count": 349,
     "metadata": {},
     "output_type": "execute_result"
    }
   ],
   "source": [
    "j=2\n",
    "x[j].get('WOS_author')"
   ]
  },
  {
   "cell_type": "code",
   "execution_count": 350,
   "metadata": {},
   "outputs": [],
   "source": [
    "import Levenshtein as lv"
   ]
  },
  {
   "cell_type": "code",
   "execution_count": 423,
   "metadata": {},
   "outputs": [],
   "source": [
    "def find_author_affiliation(author,affiliation,aunly,column='UDEA_authors',\n",
    "                            author_key='WOS_author',affiliation_key='WOS_affiliation',ratio=0):\n",
    "    au=aunly[ aunly[column].apply(\n",
    "                lambda d: d.get(author_key) if type(d)==dict else '').apply(\n",
    "                  lambda l: author in l)]#.reset_index(drop=True).loc[0,column]\n",
    "    if au.shape[0]>0:\n",
    "        #Fast\n",
    "        auf=au[au[column].apply(\n",
    "                 lambda d: d.get(affiliation_key) if type(d)==dict else '').apply(\n",
    "                 lambda l: affiliation in l)]\n",
    "        \n",
    "\n",
    "        if auf.shape[0]>0:\n",
    "              return auf.reset_index(drop=True).loc[0,column]          \n",
    "        #slow\n",
    "        else:\n",
    "            aus=au[au[column].apply(\n",
    "                 lambda d: d.get(affiliation_key) if type(d)==dict else '').apply(\n",
    "                 lambda l: len( [af for af in l if lv.ratio(af,affiliation) > ratio ] )>0 )]\n",
    "\n",
    "            if aus.shape[0]>0:\n",
    "                dold=aus.reset_index(drop=True).loc[0,column]\n",
    "                dold[affiliation_key]=dold[affiliation_key]+[affiliation]\n",
    "                #TODO: Update affiliation in aunly\n",
    "                #aunly.apply(...d.update...) # d.update does not requiere \n",
    "                return dold\n",
    "    else:\n",
    "        return None"
   ]
  },
  {
   "cell_type": "code",
   "execution_count": 424,
   "metadata": {},
   "outputs": [],
   "source": [
    "column='UDEA_authors';author_key='WOS_author';affiliation_key='WOS_affiliation'\n",
    "author='Morales, A. L.'\n",
    "affiliation= 'Univ Antioquia UdeA, Inst Fis, Fac Ciencias Exactas Natur, Grp Mat Condensada UdeA, Calle 70 52-21, Medellin, Colombia.'\n",
    "#author=dw.get('WOS_author');affiliation=dw.get('affiliation')[0]\n",
    "au=find_author_affiliation(author,affiliation ,aunly )"
   ]
  },
  {
   "cell_type": "code",
   "execution_count": 425,
   "metadata": {},
   "outputs": [
    {
     "data": {
      "text/plain": [
       "{'CÉDULA': 8287418.0,\n",
       " 'DEPARTAMENTO': 'Instituto de Física',\n",
       " 'FACULTAD': 'Facultad de Ciencias Exactas y Naturales',\n",
       " 'GRUPO': 'Grupo de Estado Sólido, Instrumentación Científica y Microelectrónica, Grupo de Materia Condensada-UdeA',\n",
       " 'INICIALES': 'A. L.',\n",
       " 'NOMBRE COMPLETO': 'Alvaro Luis Morales Aramburo',\n",
       " 'NOMBRES': 'Alvaro Luis',\n",
       " 'PRIMER APELLIDO': 'Morales',\n",
       " 'SEGUNDO APELLIDO': 'Aramburo',\n",
       " 'WOS_affiliation': ['Univ Antioquia UdeA, Fac Ciencias Exactas & Nat, Inst Fis, Grp Mat Condensada UdeA, Calle 70 52-21, Medellin, Colombia.',\n",
       "  'Univ Antioquia UdeA, Inst Fis, Fac Ciencias Exactas & Nat, Grp Mat Condensada UdeA, Medellin, Colombia.',\n",
       "  'Univ Antioquia UdeA, Grp Mat Condensada UdeA, Inst Fis, Fac Ciencias Exactas & Nat, Medellin, Colombia.',\n",
       "  'Univ Antioquia UdeA, Fac Ciencias Exactas & Nat, Grp Mat Condensada UdeA, Inst Fis, Medellin, Colombia.',\n",
       "  'Univ Antioquia UdeA, Fac Ciencias Exactas & Nat, Inst Fis, Grp Mat Condensade UdeA, Medellin, Colombia.',\n",
       "  'Univ Antioquia, Inst Fis, Medellin 1226, Colombia.',\n",
       "  'Univ Antioquia, Inst Fis, Grp Estado Solido, Medellin 1226, Colombia.',\n",
       "  'Univ Antioquia, Medellin 53108, Colombia.',\n",
       "  'Univ Antioquia, Fac Ciencias Exactas & Nat, Inst Fis, Medellin, Colombia.',\n",
       "  'Univ Antioquia, Inst Fis, Medellin 1126, Colombia.',\n",
       "  'Univ Antioquia UdeA, Fac Ciencias Exactas & Nat, Inst Fis, Grp Mat Condensada UdeA, Medellin, Colombia.',\n",
       "  'Univ Antioquia, Inst Fis, Medellin, Colombia.',\n",
       "  'Univ Antioquia, Inst Fis, AA 126, Medellin, Colombia.',\n",
       "  'Univ Antioquia, SIU, Grp Estado Solido, Medellin, Colombia.',\n",
       "  'Univ Antioquia, Grp Estado Solido, Sede Invest Univ, Medellin 1226, Colombia.',\n",
       "  'Univ Antioquia UdeA, Fac Ciencias Exactas & Nat, Inst Fis, Grupo Mat Condensada, Medellin, Colombia.',\n",
       "  'Univ Antioquia UdeA, Inst Fis, Fac Ciencias Exactas Natur, Grp Mat Condensada UdeA, Calle 70 52-21, Medellin, Colombia.'],\n",
       " 'WOS_author': ['Morales, A. L.',\n",
       "  'Morales, Alvaro L.',\n",
       "  'Morales, Alvaro',\n",
       "  'Luis Morales, Alvaro'],\n",
       " 'full_name': 'MORALES ARAMBURO ALVARO LUIS'}"
      ]
     },
     "execution_count": 425,
     "metadata": {},
     "output_type": "execute_result"
    }
   ],
   "source": [
    "au"
   ]
  },
  {
   "cell_type": "code",
   "execution_count": 400,
   "metadata": {},
   "outputs": [
    {
     "ename": "KeyError",
     "evalue": "'UDEA_authors'",
     "output_type": "error",
     "traceback": [
      "\u001b[0;31m---------------------------------------------------------------------------\u001b[0m",
      "\u001b[0;31mKeyError\u001b[0m                                  Traceback (most recent call last)",
      "\u001b[0;32m/usr/local/lib/python3.5/dist-packages/pandas/core/indexes/base.py\u001b[0m in \u001b[0;36mget_loc\u001b[0;34m(self, key, method, tolerance)\u001b[0m\n\u001b[1;32m   2524\u001b[0m             \u001b[0;32mtry\u001b[0m\u001b[0;34m:\u001b[0m\u001b[0;34m\u001b[0m\u001b[0m\n\u001b[0;32m-> 2525\u001b[0;31m                 \u001b[0;32mreturn\u001b[0m \u001b[0mself\u001b[0m\u001b[0;34m.\u001b[0m\u001b[0m_engine\u001b[0m\u001b[0;34m.\u001b[0m\u001b[0mget_loc\u001b[0m\u001b[0;34m(\u001b[0m\u001b[0mkey\u001b[0m\u001b[0;34m)\u001b[0m\u001b[0;34m\u001b[0m\u001b[0m\n\u001b[0m\u001b[1;32m   2526\u001b[0m             \u001b[0;32mexcept\u001b[0m \u001b[0mKeyError\u001b[0m\u001b[0;34m:\u001b[0m\u001b[0;34m\u001b[0m\u001b[0m\n",
      "\u001b[0;32mpandas/_libs/index.pyx\u001b[0m in \u001b[0;36mpandas._libs.index.IndexEngine.get_loc\u001b[0;34m()\u001b[0m\n",
      "\u001b[0;32mpandas/_libs/index.pyx\u001b[0m in \u001b[0;36mpandas._libs.index.IndexEngine.get_loc\u001b[0;34m()\u001b[0m\n",
      "\u001b[0;32mpandas/_libs/hashtable_class_helper.pxi\u001b[0m in \u001b[0;36mpandas._libs.hashtable.PyObjectHashTable.get_item\u001b[0;34m()\u001b[0m\n",
      "\u001b[0;32mpandas/_libs/hashtable_class_helper.pxi\u001b[0m in \u001b[0;36mpandas._libs.hashtable.PyObjectHashTable.get_item\u001b[0;34m()\u001b[0m\n",
      "\u001b[0;31mKeyError\u001b[0m: 'UDEA_authors'",
      "\nDuring handling of the above exception, another exception occurred:\n",
      "\u001b[0;31mKeyError\u001b[0m                                  Traceback (most recent call last)",
      "\u001b[0;32m<ipython-input-400-808daca5d20b>\u001b[0m in \u001b[0;36m<module>\u001b[0;34m()\u001b[0m\n\u001b[0;32m----> 1\u001b[0;31m au[ au[column].apply(\n\u001b[0m\u001b[1;32m      2\u001b[0m                  \u001b[0;32mlambda\u001b[0m \u001b[0md\u001b[0m\u001b[0;34m:\u001b[0m \u001b[0md\u001b[0m\u001b[0;34m.\u001b[0m\u001b[0mget\u001b[0m\u001b[0;34m(\u001b[0m\u001b[0maffiliation_key\u001b[0m\u001b[0;34m)\u001b[0m \u001b[0;32mif\u001b[0m \u001b[0mtype\u001b[0m\u001b[0;34m(\u001b[0m\u001b[0md\u001b[0m\u001b[0;34m)\u001b[0m\u001b[0;34m==\u001b[0m\u001b[0mdict\u001b[0m \u001b[0;32melse\u001b[0m \u001b[0;34m''\u001b[0m\u001b[0;34m)\u001b[0m\u001b[0;34m.\u001b[0m\u001b[0mapply\u001b[0m\u001b[0;34m(\u001b[0m\u001b[0;34m\u001b[0m\u001b[0m\n\u001b[1;32m      3\u001b[0m                  lambda l: len( [af for af in l if lv.ratio(af,affiliation)>ratio] )>0  ) ]\n",
      "\u001b[0;32m/usr/local/lib/python3.5/dist-packages/pandas/core/frame.py\u001b[0m in \u001b[0;36m__getitem__\u001b[0;34m(self, key)\u001b[0m\n\u001b[1;32m   2137\u001b[0m             \u001b[0;32mreturn\u001b[0m \u001b[0mself\u001b[0m\u001b[0;34m.\u001b[0m\u001b[0m_getitem_multilevel\u001b[0m\u001b[0;34m(\u001b[0m\u001b[0mkey\u001b[0m\u001b[0;34m)\u001b[0m\u001b[0;34m\u001b[0m\u001b[0m\n\u001b[1;32m   2138\u001b[0m         \u001b[0;32melse\u001b[0m\u001b[0;34m:\u001b[0m\u001b[0;34m\u001b[0m\u001b[0m\n\u001b[0;32m-> 2139\u001b[0;31m             \u001b[0;32mreturn\u001b[0m \u001b[0mself\u001b[0m\u001b[0;34m.\u001b[0m\u001b[0m_getitem_column\u001b[0m\u001b[0;34m(\u001b[0m\u001b[0mkey\u001b[0m\u001b[0;34m)\u001b[0m\u001b[0;34m\u001b[0m\u001b[0m\n\u001b[0m\u001b[1;32m   2140\u001b[0m \u001b[0;34m\u001b[0m\u001b[0m\n\u001b[1;32m   2141\u001b[0m     \u001b[0;32mdef\u001b[0m \u001b[0m_getitem_column\u001b[0m\u001b[0;34m(\u001b[0m\u001b[0mself\u001b[0m\u001b[0;34m,\u001b[0m \u001b[0mkey\u001b[0m\u001b[0;34m)\u001b[0m\u001b[0;34m:\u001b[0m\u001b[0;34m\u001b[0m\u001b[0m\n",
      "\u001b[0;32m/usr/local/lib/python3.5/dist-packages/pandas/core/frame.py\u001b[0m in \u001b[0;36m_getitem_column\u001b[0;34m(self, key)\u001b[0m\n\u001b[1;32m   2144\u001b[0m         \u001b[0;31m# get column\u001b[0m\u001b[0;34m\u001b[0m\u001b[0;34m\u001b[0m\u001b[0m\n\u001b[1;32m   2145\u001b[0m         \u001b[0;32mif\u001b[0m \u001b[0mself\u001b[0m\u001b[0;34m.\u001b[0m\u001b[0mcolumns\u001b[0m\u001b[0;34m.\u001b[0m\u001b[0mis_unique\u001b[0m\u001b[0;34m:\u001b[0m\u001b[0;34m\u001b[0m\u001b[0m\n\u001b[0;32m-> 2146\u001b[0;31m             \u001b[0;32mreturn\u001b[0m \u001b[0mself\u001b[0m\u001b[0;34m.\u001b[0m\u001b[0m_get_item_cache\u001b[0m\u001b[0;34m(\u001b[0m\u001b[0mkey\u001b[0m\u001b[0;34m)\u001b[0m\u001b[0;34m\u001b[0m\u001b[0m\n\u001b[0m\u001b[1;32m   2147\u001b[0m \u001b[0;34m\u001b[0m\u001b[0m\n\u001b[1;32m   2148\u001b[0m         \u001b[0;31m# duplicate columns & possible reduce dimensionality\u001b[0m\u001b[0;34m\u001b[0m\u001b[0;34m\u001b[0m\u001b[0m\n",
      "\u001b[0;32m/usr/local/lib/python3.5/dist-packages/pandas/core/generic.py\u001b[0m in \u001b[0;36m_get_item_cache\u001b[0;34m(self, item)\u001b[0m\n\u001b[1;32m   1840\u001b[0m         \u001b[0mres\u001b[0m \u001b[0;34m=\u001b[0m \u001b[0mcache\u001b[0m\u001b[0;34m.\u001b[0m\u001b[0mget\u001b[0m\u001b[0;34m(\u001b[0m\u001b[0mitem\u001b[0m\u001b[0;34m)\u001b[0m\u001b[0;34m\u001b[0m\u001b[0m\n\u001b[1;32m   1841\u001b[0m         \u001b[0;32mif\u001b[0m \u001b[0mres\u001b[0m \u001b[0;32mis\u001b[0m \u001b[0;32mNone\u001b[0m\u001b[0;34m:\u001b[0m\u001b[0;34m\u001b[0m\u001b[0m\n\u001b[0;32m-> 1842\u001b[0;31m             \u001b[0mvalues\u001b[0m \u001b[0;34m=\u001b[0m \u001b[0mself\u001b[0m\u001b[0;34m.\u001b[0m\u001b[0m_data\u001b[0m\u001b[0;34m.\u001b[0m\u001b[0mget\u001b[0m\u001b[0;34m(\u001b[0m\u001b[0mitem\u001b[0m\u001b[0;34m)\u001b[0m\u001b[0;34m\u001b[0m\u001b[0m\n\u001b[0m\u001b[1;32m   1843\u001b[0m             \u001b[0mres\u001b[0m \u001b[0;34m=\u001b[0m \u001b[0mself\u001b[0m\u001b[0;34m.\u001b[0m\u001b[0m_box_item_values\u001b[0m\u001b[0;34m(\u001b[0m\u001b[0mitem\u001b[0m\u001b[0;34m,\u001b[0m \u001b[0mvalues\u001b[0m\u001b[0;34m)\u001b[0m\u001b[0;34m\u001b[0m\u001b[0m\n\u001b[1;32m   1844\u001b[0m             \u001b[0mcache\u001b[0m\u001b[0;34m[\u001b[0m\u001b[0mitem\u001b[0m\u001b[0;34m]\u001b[0m \u001b[0;34m=\u001b[0m \u001b[0mres\u001b[0m\u001b[0;34m\u001b[0m\u001b[0m\n",
      "\u001b[0;32m/usr/local/lib/python3.5/dist-packages/pandas/core/internals.py\u001b[0m in \u001b[0;36mget\u001b[0;34m(self, item, fastpath)\u001b[0m\n\u001b[1;32m   3841\u001b[0m \u001b[0;34m\u001b[0m\u001b[0m\n\u001b[1;32m   3842\u001b[0m             \u001b[0;32mif\u001b[0m \u001b[0;32mnot\u001b[0m \u001b[0misna\u001b[0m\u001b[0;34m(\u001b[0m\u001b[0mitem\u001b[0m\u001b[0;34m)\u001b[0m\u001b[0;34m:\u001b[0m\u001b[0;34m\u001b[0m\u001b[0m\n\u001b[0;32m-> 3843\u001b[0;31m                 \u001b[0mloc\u001b[0m \u001b[0;34m=\u001b[0m \u001b[0mself\u001b[0m\u001b[0;34m.\u001b[0m\u001b[0mitems\u001b[0m\u001b[0;34m.\u001b[0m\u001b[0mget_loc\u001b[0m\u001b[0;34m(\u001b[0m\u001b[0mitem\u001b[0m\u001b[0;34m)\u001b[0m\u001b[0;34m\u001b[0m\u001b[0m\n\u001b[0m\u001b[1;32m   3844\u001b[0m             \u001b[0;32melse\u001b[0m\u001b[0;34m:\u001b[0m\u001b[0;34m\u001b[0m\u001b[0m\n\u001b[1;32m   3845\u001b[0m                 \u001b[0mindexer\u001b[0m \u001b[0;34m=\u001b[0m \u001b[0mnp\u001b[0m\u001b[0;34m.\u001b[0m\u001b[0marange\u001b[0m\u001b[0;34m(\u001b[0m\u001b[0mlen\u001b[0m\u001b[0;34m(\u001b[0m\u001b[0mself\u001b[0m\u001b[0;34m.\u001b[0m\u001b[0mitems\u001b[0m\u001b[0;34m)\u001b[0m\u001b[0;34m)\u001b[0m\u001b[0;34m[\u001b[0m\u001b[0misna\u001b[0m\u001b[0;34m(\u001b[0m\u001b[0mself\u001b[0m\u001b[0;34m.\u001b[0m\u001b[0mitems\u001b[0m\u001b[0;34m)\u001b[0m\u001b[0;34m]\u001b[0m\u001b[0;34m\u001b[0m\u001b[0m\n",
      "\u001b[0;32m/usr/local/lib/python3.5/dist-packages/pandas/core/indexes/base.py\u001b[0m in \u001b[0;36mget_loc\u001b[0;34m(self, key, method, tolerance)\u001b[0m\n\u001b[1;32m   2525\u001b[0m                 \u001b[0;32mreturn\u001b[0m \u001b[0mself\u001b[0m\u001b[0;34m.\u001b[0m\u001b[0m_engine\u001b[0m\u001b[0;34m.\u001b[0m\u001b[0mget_loc\u001b[0m\u001b[0;34m(\u001b[0m\u001b[0mkey\u001b[0m\u001b[0;34m)\u001b[0m\u001b[0;34m\u001b[0m\u001b[0m\n\u001b[1;32m   2526\u001b[0m             \u001b[0;32mexcept\u001b[0m \u001b[0mKeyError\u001b[0m\u001b[0;34m:\u001b[0m\u001b[0;34m\u001b[0m\u001b[0m\n\u001b[0;32m-> 2527\u001b[0;31m                 \u001b[0;32mreturn\u001b[0m \u001b[0mself\u001b[0m\u001b[0;34m.\u001b[0m\u001b[0m_engine\u001b[0m\u001b[0;34m.\u001b[0m\u001b[0mget_loc\u001b[0m\u001b[0;34m(\u001b[0m\u001b[0mself\u001b[0m\u001b[0;34m.\u001b[0m\u001b[0m_maybe_cast_indexer\u001b[0m\u001b[0;34m(\u001b[0m\u001b[0mkey\u001b[0m\u001b[0;34m)\u001b[0m\u001b[0;34m)\u001b[0m\u001b[0;34m\u001b[0m\u001b[0m\n\u001b[0m\u001b[1;32m   2528\u001b[0m \u001b[0;34m\u001b[0m\u001b[0m\n\u001b[1;32m   2529\u001b[0m         \u001b[0mindexer\u001b[0m \u001b[0;34m=\u001b[0m \u001b[0mself\u001b[0m\u001b[0;34m.\u001b[0m\u001b[0mget_indexer\u001b[0m\u001b[0;34m(\u001b[0m\u001b[0;34m[\u001b[0m\u001b[0mkey\u001b[0m\u001b[0;34m]\u001b[0m\u001b[0;34m,\u001b[0m \u001b[0mmethod\u001b[0m\u001b[0;34m=\u001b[0m\u001b[0mmethod\u001b[0m\u001b[0;34m,\u001b[0m \u001b[0mtolerance\u001b[0m\u001b[0;34m=\u001b[0m\u001b[0mtolerance\u001b[0m\u001b[0;34m)\u001b[0m\u001b[0;34m\u001b[0m\u001b[0m\n",
      "\u001b[0;32mpandas/_libs/index.pyx\u001b[0m in \u001b[0;36mpandas._libs.index.IndexEngine.get_loc\u001b[0;34m()\u001b[0m\n",
      "\u001b[0;32mpandas/_libs/index.pyx\u001b[0m in \u001b[0;36mpandas._libs.index.IndexEngine.get_loc\u001b[0;34m()\u001b[0m\n",
      "\u001b[0;32mpandas/_libs/hashtable_class_helper.pxi\u001b[0m in \u001b[0;36mpandas._libs.hashtable.PyObjectHashTable.get_item\u001b[0;34m()\u001b[0m\n",
      "\u001b[0;32mpandas/_libs/hashtable_class_helper.pxi\u001b[0m in \u001b[0;36mpandas._libs.hashtable.PyObjectHashTable.get_item\u001b[0;34m()\u001b[0m\n",
      "\u001b[0;31mKeyError\u001b[0m: 'UDEA_authors'"
     ]
    }
   ],
   "source": [
    "au[ au[column].apply(\n",
    "                 lambda d: d.get(affiliation_key) if type(d)==dict else '').apply(\n",
    "                 lambda l: len( [af for af in l if lv.ratio(af,affiliation)>ratio] )>0  ) ]"
   ]
  },
  {
   "cell_type": "code",
   "execution_count": 226,
   "metadata": {},
   "outputs": [
    {
     "data": {
      "text/plain": [
       "{'CÉDULA': 98554575.0,\n",
       " 'DEPARTAMENTO': 'Instituto de Física',\n",
       " 'FACULTAD': 'Facultad de Ciencias Exactas y Naturales',\n",
       " 'GRUPO': 'Grupo de Fenomenologia de Interacciones Fundamentales',\n",
       " 'INICIALES': 'D. A.',\n",
       " 'NOMBRE COMPLETO': 'Diego Alejandro Restrepo Quintero',\n",
       " 'NOMBRES': 'Diego Alejandro',\n",
       " 'PRIMER APELLIDO': 'Restrepo',\n",
       " 'SEGUNDO APELLIDO': 'Quintero',\n",
       " 'WOS_affiliation': ['Univ Antioquia, Inst Fis, Calle 70 52-21, Medellin 050010, Colombia.',\n",
       "  'Univ Antioquia, Inst Fis, Calle 70 52-21, Medellin, Colombia.',\n",
       "  'Univ Antioquia, Inst Fis, Calle 70 52-21 Medellin, Medellin, Colombia.',\n",
       "  'Univ Antioquia, Inst Fis, Medellin, Colombia.',\n",
       "  'Univ Antioquia, Inst Fis, Medellin 1226, Colombia.',\n",
       "  'Univ Antioquia, Inst Fis, Bogota, Colombia.',\n",
       "  'Univ Antioquia, Inst Fis, Medellin, Antioquia, Colombia.',\n",
       "  'Univ Antioquia, Inst Fis, Antioquia, Colombia.'],\n",
       " 'WOS_author': ['Restrepo, Diego', 'Restrepo, D.'],\n",
       " 'full_name': 'RESTREPO QUINTERO DIEGO ALEJANDRO'}"
      ]
     },
     "execution_count": 226,
     "metadata": {},
     "output_type": "execute_result"
    }
   ],
   "source": [
    "author='Restrepo, D.'\n",
    "#dw.get('WOS_author');\n",
    "affiliation=dw.get('affiliation')[0]\n",
    "column='UDEA_authors';author_key='WOS_author';affiliation_key='WOS_affiliation'\n",
    "aunly[ pd.np.logical_and( aunly['UDEA_authors'].apply(\n",
    "                            lambda d: d.get(author_key) if type(d)==dict else '').apply(\n",
    "                            lambda l: author in l),True\n",
    "                        )].reset_index(drop=True)['UDEA_authors'].loc[0]"
   ]
  },
  {
   "cell_type": "code",
   "execution_count": 222,
   "metadata": {},
   "outputs": [
    {
     "data": {
      "text/plain": [
       "Series([], Name: UDEA_authors, dtype: object)"
      ]
     },
     "execution_count": 222,
     "metadata": {},
     "output_type": "execute_result"
    }
   ],
   "source": [
    "aunly[ pd.np.logical_and( True,\n",
    "                        aunly['UDEA_authors'].apply(\n",
    "                            lambda d: d.get(affiliation_key) if type(d)==dict else '').apply(\n",
    "                            lambda l: affiliation in l)\n",
    "                        )].reset_index(drop=True)['UDEA_authors']"
   ]
  },
  {
   "cell_type": "code",
   "execution_count": 198,
   "metadata": {},
   "outputs": [
    {
     "data": {
      "text/html": [
       "<div>\n",
       "<style scoped>\n",
       "    .dataframe tbody tr th:only-of-type {\n",
       "        vertical-align: middle;\n",
       "    }\n",
       "\n",
       "    .dataframe tbody tr th {\n",
       "        vertical-align: top;\n",
       "    }\n",
       "\n",
       "    .dataframe thead th {\n",
       "        text-align: right;\n",
       "    }\n",
       "</style>\n",
       "<table border=\"1\" class=\"dataframe\">\n",
       "  <thead>\n",
       "    <tr style=\"text-align: right;\">\n",
       "      <th></th>\n",
       "      <th>UDEA_authors</th>\n",
       "      <th>tmp_author</th>\n",
       "    </tr>\n",
       "  </thead>\n",
       "  <tbody>\n",
       "  </tbody>\n",
       "</table>\n",
       "</div>"
      ],
      "text/plain": [
       "Empty DataFrame\n",
       "Columns: [UDEA_authors, tmp_author]\n",
       "Index: []"
      ]
     },
     "execution_count": 198,
     "metadata": {},
     "output_type": "execute_result"
    }
   ],
   "source": [
    "aunly[ pd.np.logical_and( aunly['UDEA_authors'].apply(\n",
    "                            lambda d: d.get('WOS_affiliation') if type(d)==dict else '').apply(\n",
    "                            lambda l: dw.get('affiliation')[0] in l),\n",
    "                        True\n",
    "                        )]"
   ]
  },
  {
   "cell_type": "code",
   "execution_count": null,
   "metadata": {},
   "outputs": [],
   "source": [
    "aunly[ pd.np.logical_and( aunly['UDEA_authors'].apply(\n",
    "                            lambda d: d.get('WOS_author') if type(d)==dict else '').apply(\n",
    "                            lambda l: dw.get('WOS_author') in l),\n",
    "                        True\n",
    "                        )]"
   ]
  },
  {
   "cell_type": "code",
   "execution_count": null,
   "metadata": {},
   "outputs": [],
   "source": [
    "aunly['UDEA_authors'].apply(\n",
    "                            lambda d: d.get('WOS_affiliation')[0] if type(d)==dict else '').apply(\n",
    "                            lambda l: dw.get('affiliation') in l)"
   ]
  },
  {
   "cell_type": "code",
   "execution_count": 165,
   "metadata": {
    "scrolled": true
   },
   "outputs": [
    {
     "name": "stdout",
     "output_type": "stream",
     "text": [
      "1\n"
     ]
    }
   ],
   "source": [
    "if type(x)==list and x:\n",
    "    print(1)\n",
    "    "
   ]
  },
  {
   "cell_type": "code",
   "execution_count": 142,
   "metadata": {},
   "outputs": [],
   "source": [
    "x=UDEAnewY['authors_WOS'].loc[0]\n",
    "y=UDEAnewY.loc[0]\n",
    "y['UDEA_authors']"
   ]
  },
  {
   "cell_type": "code",
   "execution_count": 147,
   "metadata": {},
   "outputs": [],
   "source": [
    "y"
   ]
  },
  {
   "cell_type": "code",
   "execution_count": 145,
   "metadata": {},
   "outputs": [
    {
     "data": {
      "text/html": [
       "<div>\n",
       "<style scoped>\n",
       "    .dataframe tbody tr th:only-of-type {\n",
       "        vertical-align: middle;\n",
       "    }\n",
       "\n",
       "    .dataframe tbody tr th {\n",
       "        vertical-align: top;\n",
       "    }\n",
       "\n",
       "    .dataframe thead th {\n",
       "        text-align: right;\n",
       "    }\n",
       "</style>\n",
       "<table border=\"1\" class=\"dataframe\">\n",
       "  <thead>\n",
       "    <tr style=\"text-align: right;\">\n",
       "      <th></th>\n",
       "      <th>AB</th>\n",
       "      <th>AF</th>\n",
       "      <th>AR</th>\n",
       "      <th>AU</th>\n",
       "      <th>BA</th>\n",
       "      <th>BE</th>\n",
       "      <th>BF</th>\n",
       "      <th>BN</th>\n",
       "      <th>BP</th>\n",
       "      <th>C1</th>\n",
       "      <th>...</th>\n",
       "      <th>UDEA_procodigo</th>\n",
       "      <th>UDEA_ptos</th>\n",
       "      <th>UDEA_simple_doi</th>\n",
       "      <th>UDEA_título</th>\n",
       "      <th>UDEA_valor item</th>\n",
       "      <th>UT</th>\n",
       "      <th>VL</th>\n",
       "      <th>WC</th>\n",
       "      <th>Z9</th>\n",
       "      <th>authors_WOS</th>\n",
       "    </tr>\n",
       "  </thead>\n",
       "  <tbody>\n",
       "    <tr>\n",
       "      <th>5</th>\n",
       "      <td>The aims of this study were to evaluate the effects of milking method, disinfection practices and other management factors on the bulk tank milk somatic cell count (BTSCC) in tropical dairy herds ...</td>\n",
       "      <td>Reyes, J.\\nSanchez, J.\\nStryhn, H.\\nOrtiz, T.\\nOlivera, M.\\nKeefe, G. P.\\n</td>\n",
       "      <td></td>\n",
       "      <td>Reyes, J\\nSanchez, J\\nStryhn, H\\nOrtiz, T\\nOlivera, M\\nKeefe, GP\\n</td>\n",
       "      <td></td>\n",
       "      <td></td>\n",
       "      <td></td>\n",
       "      <td></td>\n",
       "      <td>34\\n</td>\n",
       "      <td>[Reyes, J.; Sanchez, J.; Stryhn, H.; Keefe, G. P.] Univ Prince Edward Isl, Atlant Vet Coll, Dept Hlth Management, Charlottetown, PE C1A 4P, Canada.\\n[Ortiz, T.; Olivera, M.] Univ Antioquia, Fac Ag...</td>\n",
       "      <td>...</td>\n",
       "      <td>NaN</td>\n",
       "      <td>NaN</td>\n",
       "      <td>NaN</td>\n",
       "      <td>None</td>\n",
       "      <td>None</td>\n",
       "      <td>WOS:000395218400006\\n</td>\n",
       "      <td>220\\n</td>\n",
       "      <td>Veterinary Sciences\\n</td>\n",
       "      <td>0</td>\n",
       "      <td>[{'affiliation': ['Univ Antioquia, Fac Agr Sci, Biogenesis Res Grp, Calle 70 52-21, Medellin 050010, Colombia.'], 'i': 0, 'WOS_author': 'Ortiz, T.'}, {'affiliation': ['Univ Antioquia, Fac Agr Sci,...</td>\n",
       "    </tr>\n",
       "  </tbody>\n",
       "</table>\n",
       "<p>1 rows × 169 columns</p>\n",
       "</div>"
      ],
      "text/plain": [
       "                                                                                                                                                                                                        AB  \\\n",
       "5  The aims of this study were to evaluate the effects of milking method, disinfection practices and other management factors on the bulk tank milk somatic cell count (BTSCC) in tropical dairy herds ...   \n",
       "\n",
       "                                                                           AF  \\\n",
       "5  Reyes, J.\\nSanchez, J.\\nStryhn, H.\\nOrtiz, T.\\nOlivera, M.\\nKeefe, G. P.\\n   \n",
       "\n",
       "  AR                                                                  AU BA  \\\n",
       "5     Reyes, J\\nSanchez, J\\nStryhn, H\\nOrtiz, T\\nOlivera, M\\nKeefe, GP\\n      \n",
       "\n",
       "  BE BF BN    BP  \\\n",
       "5           34\\n   \n",
       "\n",
       "                                                                                                                                                                                                        C1  \\\n",
       "5  [Reyes, J.; Sanchez, J.; Stryhn, H.; Keefe, G. P.] Univ Prince Edward Isl, Atlant Vet Coll, Dept Hlth Management, Charlottetown, PE C1A 4P, Canada.\\n[Ortiz, T.; Olivera, M.] Univ Antioquia, Fac Ag...   \n",
       "\n",
       "   ... UDEA_procodigo UDEA_ptos UDEA_simple_doi UDEA_título UDEA_valor item  \\\n",
       "5  ...            NaN       NaN             NaN        None            None   \n",
       "\n",
       "                      UT     VL                     WC Z9  \\\n",
       "5  WOS:000395218400006\\n  220\\n  Veterinary Sciences\\n  0   \n",
       "\n",
       "                                                                                                                                                                                               authors_WOS  \n",
       "5  [{'affiliation': ['Univ Antioquia, Fac Agr Sci, Biogenesis Res Grp, Calle 70 52-21, Medellin 050010, Colombia.'], 'i': 0, 'WOS_author': 'Ortiz, T.'}, {'affiliation': ['Univ Antioquia, Fac Agr Sci,...  \n",
       "\n",
       "[1 rows x 169 columns]"
      ]
     },
     "execution_count": 145,
     "metadata": {},
     "output_type": "execute_result"
    }
   ],
   "source": [
    "UDEA[UDEA.DI=='10.1016/j.tvjl.2016.12.011']"
   ]
  },
  {
   "cell_type": "markdown",
   "metadata": {},
   "source": [
    "# TMP"
   ]
  },
  {
   "cell_type": "markdown",
   "metadata": {},
   "source": [
    "The entries left are the ones where there are normalization problemas\n",
    "* Bad written names\n",
    "* Wrong affiliation in WOS\n",
    "* Author appears in AU but not in C1"
   ]
  },
  {
   "cell_type": "code",
   "execution_count": 100,
   "metadata": {
    "collapsed": true
   },
   "outputs": [],
   "source": [
    "i=0\n",
    "tmpua=UDEA[UDEA.UDEA_authors.str[i].apply(lambda d: True if type(d)==dict else False)]"
   ]
  },
  {
   "cell_type": "code",
   "execution_count": 101,
   "metadata": {
    "collapsed": true
   },
   "outputs": [],
   "source": [
    "tmpkk=tmpua[ tmpua.UDEA_authors.str[i].apply(lambda d: d.get('WOS_author')).str[0].apply( pd.isna) ]"
   ]
  },
  {
   "cell_type": "code",
   "execution_count": 102,
   "metadata": {
    "collapsed": true
   },
   "outputs": [],
   "source": [
    "tmp=tmpkk[ tmpkk.authors_WOS.apply( lambda l: l if l and type(l)==list else pd.np.nan ).apply( \n",
    "    lambda l: True if type(l)==list else False) ][['authors_WOS','UDEA_authors','UDEA_autores','TI','DI','AU','C1']].reset_index(drop=True)#.loc[4].values"
   ]
  },
  {
   "cell_type": "code",
   "execution_count": 103,
   "metadata": {},
   "outputs": [
    {
     "data": {
      "text/plain": [
       "(221, 7)"
      ]
     },
     "execution_count": 103,
     "metadata": {},
     "output_type": "execute_result"
    }
   ],
   "source": [
    "tmp.shape"
   ]
  },
  {
   "cell_type": "code",
   "execution_count": 104,
   "metadata": {},
   "outputs": [
    {
     "data": {
      "text/html": [
       "<div>\n",
       "<style scoped>\n",
       "    .dataframe tbody tr th:only-of-type {\n",
       "        vertical-align: middle;\n",
       "    }\n",
       "\n",
       "    .dataframe tbody tr th {\n",
       "        vertical-align: top;\n",
       "    }\n",
       "\n",
       "    .dataframe thead th {\n",
       "        text-align: right;\n",
       "    }\n",
       "</style>\n",
       "<table border=\"1\" class=\"dataframe\">\n",
       "  <thead>\n",
       "    <tr style=\"text-align: right;\">\n",
       "      <th></th>\n",
       "      <th>authors_WOS</th>\n",
       "      <th>UDEA_authors</th>\n",
       "      <th>UDEA_autores</th>\n",
       "      <th>TI</th>\n",
       "      <th>DI</th>\n",
       "      <th>AU</th>\n",
       "      <th>C1</th>\n",
       "    </tr>\n",
       "  </thead>\n",
       "  <tbody>\n",
       "    <tr>\n",
       "      <th>204</th>\n",
       "      <td>[{'affiliation': ['Univ Antioquia, Dept Farm, Fac Quim Farmaceut, Medellin 1226, Colombia.'], 'i': 0, 'WOS_author': 'Salamanca M., Constain'}]</td>\n",
       "      <td>[{'full_name': 'SALAMANCA MEJIA CONSTAIN HUGO', 'NOMBRES': 'Constain Hugo', 'SEGUNDO APELLIDO': 'Mejia', 'INICIALES': 'C. H.', 'PRIMER APELLIDO': 'Salamanca'}]</td>\n",
       "      <td>SALAMANCA MEJIA CONSTAIN HUGO</td>\n",
       "      <td>EXPERIMENTAL AND THEORETICAL STUDY OF SHYNTESIS OF N-ALKYL-NITROIMIDAZOLES.</td>\n",
       "      <td></td>\n",
       "      <td>Salamanca, C\\nTiznado, W\\nJaramillo, P\\n</td>\n",
       "      <td>[Salamanca M., Constain] Univ Antioquia, Dept Farm, Fac Quim Farmaceut, Medellin 1226, Colombia.\\n[Tiznado V., William] Univ Nacl Andres Bello, Fac Ecol &amp; Recursos Nat, Dept Ciencias Quim, Santiag...</td>\n",
       "    </tr>\n",
       "  </tbody>\n",
       "</table>\n",
       "</div>"
      ],
      "text/plain": [
       "                                                                                                                                        authors_WOS  \\\n",
       "204  [{'affiliation': ['Univ Antioquia, Dept Farm, Fac Quim Farmaceut, Medellin 1226, Colombia.'], 'i': 0, 'WOS_author': 'Salamanca M., Constain'}]   \n",
       "\n",
       "                                                                                                                                                        UDEA_authors  \\\n",
       "204  [{'full_name': 'SALAMANCA MEJIA CONSTAIN HUGO', 'NOMBRES': 'Constain Hugo', 'SEGUNDO APELLIDO': 'Mejia', 'INICIALES': 'C. H.', 'PRIMER APELLIDO': 'Salamanca'}]   \n",
       "\n",
       "                      UDEA_autores  \\\n",
       "204  SALAMANCA MEJIA CONSTAIN HUGO   \n",
       "\n",
       "                                                                              TI  \\\n",
       "204  EXPERIMENTAL AND THEORETICAL STUDY OF SHYNTESIS OF N-ALKYL-NITROIMIDAZOLES.   \n",
       "\n",
       "    DI                                        AU  \\\n",
       "204     Salamanca, C\\nTiznado, W\\nJaramillo, P\\n   \n",
       "\n",
       "                                                                                                                                                                                                          C1  \n",
       "204  [Salamanca M., Constain] Univ Antioquia, Dept Farm, Fac Quim Farmaceut, Medellin 1226, Colombia.\\n[Tiznado V., William] Univ Nacl Andres Bello, Fac Ecol & Recursos Nat, Dept Ciencias Quim, Santiag...  "
      ]
     },
     "execution_count": 104,
     "metadata": {},
     "output_type": "execute_result"
    }
   ],
   "source": [
    "i=204\n",
    "tmp[i:i+1]#.UDEA_authors#.loc[0]"
   ]
  },
  {
   "cell_type": "code",
   "execution_count": 105,
   "metadata": {},
   "outputs": [
    {
     "data": {
      "text/plain": [
       "[{'INICIALES': 'C. H.',\n",
       "  'NOMBRES': 'Constain Hugo',\n",
       "  'PRIMER APELLIDO': 'Salamanca',\n",
       "  'SEGUNDO APELLIDO': 'Mejia',\n",
       "  'full_name': 'SALAMANCA MEJIA CONSTAIN HUGO'}]"
      ]
     },
     "execution_count": 105,
     "metadata": {},
     "output_type": "execute_result"
    }
   ],
   "source": [
    "tmp.UDEA_authors.loc[i]"
   ]
  },
  {
   "cell_type": "code",
   "execution_count": 106,
   "metadata": {},
   "outputs": [
    {
     "data": {
      "text/plain": [
       "[{'WOS_author': 'Salamanca M., Constain',\n",
       "  'affiliation': ['Univ Antioquia, Dept Farm, Fac Quim Farmaceut, Medellin 1226, Colombia.'],\n",
       "  'i': 0}]"
      ]
     },
     "execution_count": 106,
     "metadata": {},
     "output_type": "execute_result"
    }
   ],
   "source": [
    "tmp.authors_WOS.loc[i]"
   ]
  },
  {
   "cell_type": "code",
   "execution_count": 107,
   "metadata": {},
   "outputs": [
    {
     "data": {
      "text/plain": [
       "'SALAMANCA MEJIA CONSTAIN HUGO'"
      ]
     },
     "execution_count": 107,
     "metadata": {},
     "output_type": "execute_result"
    }
   ],
   "source": [
    "tmp.UDEA_autores.loc[i]"
   ]
  },
  {
   "cell_type": "code",
   "execution_count": 108,
   "metadata": {},
   "outputs": [
    {
     "data": {
      "text/plain": [
       "'EXPERIMENTAL AND THEORETICAL STUDY OF SHYNTESIS OF N-ALKYL-NITROIMIDAZOLES.'"
      ]
     },
     "execution_count": 108,
     "metadata": {},
     "output_type": "execute_result"
    }
   ],
   "source": [
    "tmp.TI.loc[i]"
   ]
  },
  {
   "cell_type": "code",
   "execution_count": 109,
   "metadata": {},
   "outputs": [
    {
     "name": "stdout",
     "output_type": "stream",
     "text": [
      "Salamanca, C\n",
      "Tiznado, W\n",
      "Jaramillo, P\n",
      "\n"
     ]
    }
   ],
   "source": [
    "print(tmp.AU.loc[i])"
   ]
  },
  {
   "cell_type": "code",
   "execution_count": 110,
   "metadata": {},
   "outputs": [
    {
     "name": "stdout",
     "output_type": "stream",
     "text": [
      "[Salamanca M., Constain] Univ Antioquia, Dept Farm, Fac Quim Farmaceut, Medellin 1226, Colombia.\n",
      "[Tiznado V., William] Univ Nacl Andres Bello, Fac Ecol & Recursos Nat, Dept Ciencias Quim, Santiago, Chile.\n",
      "[Jaramillo G, Paula] Univ Sao Paulo, Inst Fis, Fac Ciencias, BR-01498 Sao Paulo, Brazil.\n",
      "\n"
     ]
    }
   ],
   "source": [
    "print(tmp.C1.loc[i])"
   ]
  },
  {
   "cell_type": "code",
   "execution_count": 111,
   "metadata": {
    "collapsed": true
   },
   "outputs": [],
   "source": [
    "x=tmp['authors_WOS'].reset_index(drop=True).loc[i]\n",
    "y=tmp['UDEA_authors'].reset_index(drop=True).loc[i]"
   ]
  },
  {
   "cell_type": "code",
   "execution_count": 112,
   "metadata": {},
   "outputs": [
    {
     "data": {
      "text/plain": [
       "[{'WOS_author': 'Salamanca M., Constain',\n",
       "  'affiliation': ['Univ Antioquia, Dept Farm, Fac Quim Farmaceut, Medellin 1226, Colombia.'],\n",
       "  'i': 0}]"
      ]
     },
     "execution_count": 112,
     "metadata": {},
     "output_type": "execute_result"
    }
   ],
   "source": [
    "x"
   ]
  },
  {
   "cell_type": "code",
   "execution_count": 113,
   "metadata": {},
   "outputs": [
    {
     "data": {
      "text/plain": [
       "[{'INICIALES': 'C. H.',\n",
       "  'NOMBRES': 'Constain Hugo',\n",
       "  'PRIMER APELLIDO': 'Salamanca',\n",
       "  'SEGUNDO APELLIDO': 'Mejia',\n",
       "  'full_name': 'SALAMANCA MEJIA CONSTAIN HUGO'}]"
      ]
     },
     "execution_count": 113,
     "metadata": {},
     "output_type": "execute_result"
    }
   ],
   "source": [
    "y"
   ]
  },
  {
   "cell_type": "code",
   "execution_count": 114,
   "metadata": {},
   "outputs": [
    {
     "data": {
      "text/plain": [
       "[{'INICIALES': 'C. H.',\n",
       "  'NOMBRES': 'Constain Hugo',\n",
       "  'PRIMER APELLIDO': 'Salamanca',\n",
       "  'SEGUNDO APELLIDO': 'Mejia',\n",
       "  'full_name': 'SALAMANCA MEJIA CONSTAIN HUGO'}]"
      ]
     },
     "execution_count": 114,
     "metadata": {},
     "output_type": "execute_result"
    }
   ],
   "source": [
    "i=0\n",
    "y#[i]['NOMBRE COMPLETO'].split()"
   ]
  },
  {
   "cell_type": "code",
   "execution_count": 115,
   "metadata": {
    "collapsed": true
   },
   "outputs": [],
   "source": [
    "y_keys=['PRIMER APELLIDO','NOMBRES','INICIALES','SEGUNDO APELLIDO','full_name']"
   ]
  },
  {
   "cell_type": "code",
   "execution_count": 116,
   "metadata": {},
   "outputs": [
    {
     "data": {
      "text/plain": [
       "['Salamanca, Constain Hugo',\n",
       " 'Salamanca, Constain',\n",
       " 'Salamanca, Hugo',\n",
       " 'Salamanca, C. H.',\n",
       " 'Salamanca, C.',\n",
       " 'Salamanca, Constain H.',\n",
       " 'Salamanca, H.',\n",
       " 'Salamanca-Mejia, Constain Hugo',\n",
       " 'Salamanca-Mejia, Constain',\n",
       " 'Salamanca-Mejia, Hugo',\n",
       " 'Salamanca-Mejia, C. H.',\n",
       " 'Salamanca-Mejia, C.',\n",
       " 'Salamanca-Mejia, Constain H.',\n",
       " 'Salamanca-Mejia, H.']"
      ]
     },
     "execution_count": 116,
     "metadata": {},
     "output_type": "execute_result"
    }
   ],
   "source": [
    "i=0\n",
    "wos_names_list(y[i] ,y_keys)"
   ]
  },
  {
   "cell_type": "code",
   "execution_count": 117,
   "metadata": {},
   "outputs": [
    {
     "data": {
      "text/plain": [
       "[{'WOS_author': 'Salamanca M., Constain',\n",
       "  'affiliation': ['Univ Antioquia, Dept Farm, Fac Quim Farmaceut, Medellin 1226, Colombia.'],\n",
       "  'i': 0}]"
      ]
     },
     "execution_count": 117,
     "metadata": {},
     "output_type": "execute_result"
    }
   ],
   "source": [
    "x"
   ]
  },
  {
   "cell_type": "code",
   "execution_count": 118,
   "metadata": {},
   "outputs": [
    {
     "data": {
      "text/plain": [
       "[1, 2]"
      ]
     },
     "execution_count": 118,
     "metadata": {},
     "output_type": "execute_result"
    }
   ],
   "source": [
    "[1,\n",
    "  2]"
   ]
  },
  {
   "cell_type": "code",
   "execution_count": 119,
   "metadata": {
    "collapsed": true
   },
   "outputs": [],
   "source": [
    "def combinewos(x,y,x_keys=['WOS_author','affiliation'],\n",
    "                   y_keys=['PRIMER APELLIDO','NOMBRES','INICIALES','SEGUNDO APELLIDO','full_name'],\n",
    "                   xy_keys=['WOS_author','WOS_affiliation']):\n",
    "    if type(x)==list and type(y)==list:\n",
    "        for dx in x:\n",
    "            print( dx[ x_keys[0] ] )\n",
    "            wos_name=unidecode.unidecode( dx[ x_keys[0] ] )\n",
    "            WOS_affiliation= dx[x_keys[1]]\n",
    "            print('Name True')\n",
    "            for i in range( len(y) ):\n",
    "                print('+'*20)\n",
    "                print( wos_names_list(y[i] ,y_keys))\n",
    "                print('+'*20)\n",
    "                print(i,wos_name in wos_names_list(y[i] ,y_keys) )\n",
    "                print('='*20)\n",
    "                if wos_name.title() in wos_names_list(y[i] ,y_keys):\n",
    "                    print('*'*20)\n",
    "                    print(wos_name in wos_names_list(y[i] ,y_keys),':',wos_name)\n",
    "                    print('*'*20)\n",
    "                    y[i][  xy_keys[0] ]=[ wos_name ]\n",
    "                    y[i][  xy_keys[1] ]=WOS_affiliation\n",
    "                    break\n",
    "            # Try by buildong spanish-like names list                    \n",
    "            #Try again but comparing full lists\n",
    "            wos_name_to_list=wos_name.replace(',','').replace('-',' ').title().split()\n",
    "            print(\"-\"*20)\n",
    "            for i in range( len(y) ):\n",
    "                print('--',i)\n",
    "                yi_to_list=unidecode.unidecode( y[i][y_keys[4]].title() )\n",
    "                if yi_to_list:\n",
    "                    yi_to_list=yi_to_list.split()\n",
    "                else:\n",
    "                    yi_to_list=[]\n",
    "                print(i,wos_name_to_list,yi_to_list,  )    \n",
    "                if not pd.np.setdiff1d(wos_name_to_list,yi_to_list).shape[0]:\n",
    "                    y[i][  xy_keys[0] ]=[ wos_name ]\n",
    "                    y[i][  xy_keys[1] ]=WOS_affiliation\n",
    "                    break\n",
    "            #Try again but comparing full lists with initials\n",
    "            wos_name_to_list=wos_name.replace(',','').replace('-',' ').title().split()\n",
    "            for i in range( len(y) ):\n",
    "                yi_to_list=[y[i][y_keys[0]],y[i][y_keys[3]] ]+y[i][y_keys[2]].split()\n",
    "                if not pd.np.setdiff1d(wos_name_to_list,yi_to_list).shape[0]:\n",
    "                    y[i][  xy_keys[0] ]=[ wos_name ]\n",
    "                    y[i][  xy_keys[1] ]=WOS_affiliation\n",
    "                    break\n",
    "            #Try again but comparing full lists with first first name and initial\n",
    "            print(\":\"*20)\n",
    "            for i in range( len(y) ):\n",
    "                yi_to_list=[y[i][y_keys[0]],y[i][y_keys[3]],y[i][y_keys[1]].split()[0],\n",
    "                              y[i][y_keys[2]].split()[-1]]\n",
    "                print(\"::::\",yi_to_list)\n",
    "                if not pd.np.setdiff1d(wos_name_to_list,yi_to_list).shape[0]:\n",
    "                    y[i][  xy_keys[0] ]=[ wos_name ]\n",
    "                    y[i][  xy_keys[1] ]=WOS_affiliation\n",
    "                    break                    \n",
    "            #Try again but comparing full lists with second first name and initial\n",
    "            print(\":\"*20)\n",
    "            for i in range( len(y) ):\n",
    "                yi_to_list=[y[i][y_keys[0]],y[i][y_keys[3]],y[i][y_keys[1]].split()[-1],\n",
    "                              y[i][y_keys[2]].split()[0]]\n",
    "                print(\"::::\",yi_to_list)\n",
    "                if not pd.np.setdiff1d(wos_name_to_list,yi_to_list).shape[0]:\n",
    "                    y[i][  xy_keys[0] ]=[ wos_name ]\n",
    "                    y[i][  xy_keys[1] ]=WOS_affiliation\n",
    "                    break                    \n",
    "                    \n",
    "                    \n",
    "                    \n",
    "    return y"
   ]
  },
  {
   "cell_type": "code",
   "execution_count": 120,
   "metadata": {},
   "outputs": [
    {
     "name": "stdout",
     "output_type": "stream",
     "text": [
      "Salamanca M., Constain\n",
      "Name True\n",
      "++++++++++++++++++++\n",
      "['Salamanca, Constain Hugo', 'Salamanca, Constain', 'Salamanca, Hugo', 'Salamanca, C. H.', 'Salamanca, C.', 'Salamanca, Constain H.', 'Salamanca, H.', 'Salamanca-Mejia, Constain Hugo', 'Salamanca-Mejia, Constain', 'Salamanca-Mejia, Hugo', 'Salamanca-Mejia, C. H.', 'Salamanca-Mejia, C.', 'Salamanca-Mejia, Constain H.', 'Salamanca-Mejia, H.']\n",
      "++++++++++++++++++++\n",
      "0 False\n",
      "====================\n",
      "--------------------\n",
      "-- 0\n",
      "0 ['Salamanca', 'M.', 'Constain'] ['Salamanca', 'Mejia', 'Constain', 'Hugo']\n",
      "::::::::::::::::::::\n",
      ":::: ['Salamanca', 'Mejia', 'Constain', 'H.']\n",
      "::::::::::::::::::::\n",
      ":::: ['Salamanca', 'Mejia', 'Hugo', 'C.']\n"
     ]
    },
    {
     "data": {
      "text/plain": [
       "[{'INICIALES': 'C. H.',\n",
       "  'NOMBRES': 'Constain Hugo',\n",
       "  'PRIMER APELLIDO': 'Salamanca',\n",
       "  'SEGUNDO APELLIDO': 'Mejia',\n",
       "  'full_name': 'SALAMANCA MEJIA CONSTAIN HUGO'}]"
      ]
     },
     "execution_count": 120,
     "metadata": {},
     "output_type": "execute_result"
    }
   ],
   "source": [
    "combinewos(x,y)"
   ]
  },
  {
   "cell_type": "code",
   "execution_count": 121,
   "metadata": {},
   "outputs": [
    {
     "data": {
      "text/plain": [
       "1"
      ]
     },
     "execution_count": 121,
     "metadata": {},
     "output_type": "execute_result"
    }
   ],
   "source": [
    "pd.np.setdiff1d(['Bastidas', 'Myriam'] ,['Bastidas', 'Acevedo', 'Miryam', 'Del', 'Socorro']).shape[0]"
   ]
  },
  {
   "cell_type": "code",
   "execution_count": 122,
   "metadata": {},
   "outputs": [
    {
     "data": {
      "text/plain": [
       "7200"
      ]
     },
     "execution_count": 122,
     "metadata": {},
     "output_type": "execute_result"
    }
   ],
   "source": [
    "800*3*3"
   ]
  },
  {
   "cell_type": "code",
   "execution_count": 123,
   "metadata": {},
   "outputs": [
    {
     "data": {
      "text/html": [
       "<div>\n",
       "<style scoped>\n",
       "    .dataframe tbody tr th:only-of-type {\n",
       "        vertical-align: middle;\n",
       "    }\n",
       "\n",
       "    .dataframe tbody tr th {\n",
       "        vertical-align: top;\n",
       "    }\n",
       "\n",
       "    .dataframe thead th {\n",
       "        text-align: right;\n",
       "    }\n",
       "</style>\n",
       "<table border=\"1\" class=\"dataframe\">\n",
       "  <thead>\n",
       "    <tr style=\"text-align: right;\">\n",
       "      <th></th>\n",
       "      <th>tmp_author</th>\n",
       "      <th>UDEA_authors</th>\n",
       "    </tr>\n",
       "  </thead>\n",
       "  <tbody>\n",
       "    <tr>\n",
       "      <th>0</th>\n",
       "      <td>DOVER ROBERT VAN HORN</td>\n",
       "      <td>{'full_name': 'DOVER ROBERT VAN HORN', 'INICIALES': 'V. H.', 'WOS_author': ['Dover, Robert V. H.'], 'WOS_affiliation': ['Univ Antioquia, Dept Antropol, Antioquia, Colombia.', 'Univ Antioquia, Dept...</td>\n",
       "    </tr>\n",
       "    <tr>\n",
       "      <th>1</th>\n",
       "      <td>RADA RINCON JUAN PABLO</td>\n",
       "      <td>{'FACULTAD': 'Facultad de Ciencias Exactas y Naturales', 'NOMBRES': 'Juan Pablo', 'WOS_affiliation': ['Univ Antioquia Medellin, Inst Matemat, Medellin, Colombia.', 'Univ Antioquia, Inst Matemat, M...</td>\n",
       "    </tr>\n",
       "    <tr>\n",
       "      <th>2</th>\n",
       "      <td>MACHADO RODRIGUEZ GLORIA</td>\n",
       "      <td>{'FACULTAD': 'Facultad de Ciencias Exactas y Naturales', 'NOMBRES': 'Gloria', 'WOS_affiliation': ['Univ Antioquia, Grp Invest Identificac Genet IdentiGE, Medellin, Colombia.', 'Univ Antioquia, Grp...</td>\n",
       "    </tr>\n",
       "    <tr>\n",
       "      <th>3</th>\n",
       "      <td>DUQUE ECHEVERRI CARLOS ALBERTO</td>\n",
       "      <td>{'FACULTAD': 'Facultad de Ciencias Exactas y Naturales', 'NOMBRES': 'Carlos Alberto', 'WOS_affiliation': ['Univ Antioquia UdeA, Fac Ciencias Exactas &amp; Nat, Inst Fis, Grp Mat Condensada UdeA, Medel...</td>\n",
       "    </tr>\n",
       "    <tr>\n",
       "      <th>4</th>\n",
       "      <td>ARDILA MEDINA CARLOS MARTIN</td>\n",
       "      <td>{'full_name': 'ARDILA MEDINA CARLOS MARTIN', 'INICIALES': 'C. M.', 'WOS_author': ['Ardila, Carlos M.', 'Martin Ardila, Carlos', 'Ardila, C. M.', 'Ardila, Carlos Martin'], 'WOS_affiliation': ['Univ...</td>\n",
       "    </tr>\n",
       "    <tr>\n",
       "      <th>5</th>\n",
       "      <td>BEDOYA CARO IVAN DARIO</td>\n",
       "      <td>{'FACULTAD': 'Facultad de Ingeniería', 'NOMBRES': 'Ivan Dario', 'WOS_affiliation': ['Univ Antioquia, Grp Ciencia &amp; Tecnol Gas &amp; Uso Rac Energia, Medellin 63108, Colombia.', 'Univ Antioquia, Dept M...</td>\n",
       "    </tr>\n",
       "    <tr>\n",
       "      <th>6</th>\n",
       "      <td>RAMIREZ SANCHEZ ISABEL CRISTINA</td>\n",
       "      <td>{'FACULTAD': 'Facultad de Medicina', 'NOMBRES': 'Isabel Cristina', 'WOS_affiliation': ['Univ Antioquia, Sch Med, Dept Internal Med, Div Infect Dis, Medellin, Colombia.', 'Univ Antioquia, Hosp Pabl...</td>\n",
       "    </tr>\n",
       "    <tr>\n",
       "      <th>7</th>\n",
       "      <td>AGUDELO SUAREZ ANDRES ALONSO</td>\n",
       "      <td>{'full_name': 'AGUDELO SUAREZ ANDRES ALONSO', 'INICIALES': 'A. A.', 'WOS_author': ['Agudelo-Suarez, Andres A.', 'Agudelo-Suarez, A. A.', 'Agudelo-Suarez, Andres', 'Alonso Agudelo-Suarez, Andres', ...</td>\n",
       "    </tr>\n",
       "    <tr>\n",
       "      <th>8</th>\n",
       "      <td>ROJAS CAMARGO JHON JAIRO</td>\n",
       "      <td>{'full_name': 'ROJAS CAMARGO JHON JAIRO', 'INICIALES': 'J. J.', 'WOS_author': ['Rojas, J.'], 'WOS_affiliation': ['Univ Antioquia, Sch Pharmaceut Chem, Dept Pharm, Medellin 094, Colombia.'], 'PRIME...</td>\n",
       "    </tr>\n",
       "    <tr>\n",
       "      <th>9</th>\n",
       "      <td>CASTRILLON GERMAN ALBERTO</td>\n",
       "      <td>{'FACULTAD': 'Facultad de Medicina', 'NOMBRES': 'Alberto', 'WOS_affiliation': ['Univ Antioquia, Dept Radiol, Medellin, Colombia.'], 'INICIALES': 'A.', 'GRUPO': 'Grupo de Gastrohepatología', 'SEGUN...</td>\n",
       "    </tr>\n",
       "    <tr>\n",
       "      <th>10</th>\n",
       "      <td>MONTOYA GUARIN CARLOS JULIO</td>\n",
       "      <td>{'FACULTAD': 'Facultad de Medicina', 'NOMBRES': 'Carlos Julio', 'WOS_affiliation': ['Univ Antioquia, Sch Med, Immunovirol Grp, Lab 532, Medellin, Colombia.', 'Univ Antioquia, Fac Med, Grp Inmunovi...</td>\n",
       "    </tr>\n",
       "    <tr>\n",
       "      <th>11</th>\n",
       "      <td>BARRERA RAMIREZ JOHN FREDY</td>\n",
       "      <td>{'FACULTAD': 'Facultad de Ciencias Exactas y Naturales', 'NOMBRES': 'John Fredy', 'WOS_affiliation': ['Univ Antioquia, Inst Fis, Grp Opt &amp; Foton, Medellin 1226, Colombia.', 'Univ Antioquia UdeA, F...</td>\n",
       "    </tr>\n",
       "    <tr>\n",
       "      <th>12</th>\n",
       "      <td>PINO RODRIGUEZ NANCY JOHANNA</td>\n",
       "      <td>{'full_name': 'PINO RODRIGUEZ NANCY JOHANNA', 'INICIALES': 'N. J.', 'WOS_author': ['Pino, Nancy J.', 'Pino, Nancy', 'Pino Rodriguez, Nancy J.'], 'WOS_affiliation': ['Univ Antioquia, Fac Ingn, Grp ...</td>\n",
       "    </tr>\n",
       "    <tr>\n",
       "      <th>13</th>\n",
       "      <td>GONZALEZ VALENCIA NELSON JAVIER</td>\n",
       "      <td>{'full_name': 'GONZALEZ VALENCIA NELSON JAVIER', 'INICIALES': 'N. J.', 'WOS_author': ['Gonzalez, Nelson J.'], 'WOS_affiliation': ['IPS Univ, Univ Antioquia, Dept Anesthesia, Medellin, Colombia.'],...</td>\n",
       "    </tr>\n",
       "    <tr>\n",
       "      <th>14</th>\n",
       "      <td>URCUQUI INCHIMA SILVIO</td>\n",
       "      <td>{'FACULTAD': 'Facultad de Medicina', 'NOMBRES': 'Silvio', 'WOS_affiliation': ['Univ Antioquia, Sede Invest Univ, Grp Inmunoviol, Medellin, Colombia.', 'Univ Antioquia UdeA, Fac Med, Grp Immunoviro...</td>\n",
       "    </tr>\n",
       "    <tr>\n",
       "      <th>15</th>\n",
       "      <td>BAENA GARCIA ANDRES</td>\n",
       "      <td>{'FACULTAD': 'Facultad de Medicina', 'NOMBRES': 'Andres', 'WOS_affiliation': ['Univ Antioquia, Fac Med, Grp Inmunol Celular &amp; Inmunogenet, Medellin, Colombia.', 'Univ Antioquia UdeA, Fac Med, Grp ...</td>\n",
       "    </tr>\n",
       "    <tr>\n",
       "      <th>16</th>\n",
       "      <td>CERON MUÑOZ MARIO FERNANDO</td>\n",
       "      <td>{'FACULTAD': 'Facultad de Ciencias Agrarias', 'NOMBRES': 'Mario Fernando', 'WOS_affiliation': ['Univ Antioquia, Medellin, Colombia.', 'Univ Antioquia, Fac Ciencias Agr, Medellin, Antioquia, Colomb...</td>\n",
       "    </tr>\n",
       "    <tr>\n",
       "      <th>17</th>\n",
       "      <td>LOPEZ GOMEZ MARIA ESPERANZA</td>\n",
       "      <td>{'FACULTAD': 'Facultad de Ingeniería', 'NOMBRES': 'Maria Esperanza', 'WOS_affiliation': ['Univ Antioquia, Grp GIPIMME, Medellin, Colombia.', 'Univ Antioquia, Pyromet &amp; Mat Res Grp GIPIMME, Medelli...</td>\n",
       "    </tr>\n",
       "    <tr>\n",
       "      <th>18</th>\n",
       "      <td>RESTREPO CARDENAS JOHANS</td>\n",
       "      <td>{'FACULTAD': 'Facultad de Ciencias Exactas y Naturales', 'NOMBRES': 'Johans', 'WOS_affiliation': ['Univ Antioquia, Inst Fis, Grp Magnetismo &amp; Simulac, Medellin 1226, Colombia.', 'Univ Antioquia, I...</td>\n",
       "    </tr>\n",
       "    <tr>\n",
       "      <th>19</th>\n",
       "      <td>SAEZ VEGA JAIRO ANTONIO</td>\n",
       "      <td>{'full_name': 'SAEZ VEGA JAIRO ANTONIO', 'INICIALES': 'J. A.', 'WOS_author': ['Saez, Jairo', 'Saez, Jairo A.'], 'WOS_affiliation': ['Univ Antioquia, Inst Quim Quim Plantas Colombianas, Medellin, C...</td>\n",
       "    </tr>\n",
       "    <tr>\n",
       "      <th>20</th>\n",
       "      <td>SANZ VICARIO JOSE LUIS</td>\n",
       "      <td>{'FACULTAD': 'Facultad de Ciencias Exactas y Naturales', 'NOMBRES': 'Jose Luis', 'WOS_affiliation': ['Univ Antioquia, Inst Fis, Medellin, Colombia.', 'Univ Antioquia, Grp Fis Atom &amp; Mol, Inst Fis,...</td>\n",
       "    </tr>\n",
       "    <tr>\n",
       "      <th>21</th>\n",
       "      <td>CHAVES CASTAÑO LILIANA</td>\n",
       "      <td>{'FACULTAD': 'Facultad de Ciencias Sociales y Humanas', 'NOMBRES': 'Liliana', 'WOS_affiliation': ['Univ Antioquia, Antioquia, Colombia.', 'Univ Antioquia, Dept Psicol, Medellin, Colombia.'], 'INIC...</td>\n",
       "    </tr>\n",
       "    <tr>\n",
       "      <th>22</th>\n",
       "      <td>BARRERA ROBLEDO LUIS FERNANDO</td>\n",
       "      <td>{'FACULTAD': 'Facultad de Medicina', 'NOMBRES': 'Luis Fernando', 'WOS_affiliation': ['Univ Antioquia, Fac Med, Inst Invest Med, Grp Inmunol Celular &amp; Inmunogenet GICIG, Medellin, Colombia.', 'Univ...</td>\n",
       "    </tr>\n",
       "    <tr>\n",
       "      <th>23</th>\n",
       "      <td>LENIS SANIN YASSER YOHAN</td>\n",
       "      <td>{'full_name': 'LENIS SANIN YASSER YOHAN', 'INICIALES': 'Y. Y.', 'WOS_author': ['Lenis, Y. Y.', 'Lenis Sanin, Yasser Y.'], 'WOS_affiliation': ['Univ Antioquia, Fac Ciencias Agr, BIOGENESIS, Medelli...</td>\n",
       "    </tr>\n",
       "    <tr>\n",
       "      <th>24</th>\n",
       "      <td>ESPINAL LOPEZ JUAN FERNANDO</td>\n",
       "      <td>{'FACULTAD': 'Facultad de Ciencias Exactas y Naturales', 'NOMBRES': 'Juan Fernando', 'WOS_affiliation': ['Univ Antioquia, Inst Quim, Medellin 1226, Colombia.', 'Univ Antioquia UdeA, Fac Ciencias E...</td>\n",
       "    </tr>\n",
       "    <tr>\n",
       "      <th>25</th>\n",
       "      <td>LOPEZ LOPEZ DIANA PATRICIA</td>\n",
       "      <td>{'FACULTAD': 'Facultad de Ciencias Exactas y Naturales', 'NOMBRES': 'Diana Patricia', 'WOS_affiliation': ['Univ Antioquia, Fac Ciencias Exactas &amp; Nat, Inst Quim, Medellin, Colombia.', 'Univ Antioq...</td>\n",
       "    </tr>\n",
       "    <tr>\n",
       "      <th>26</th>\n",
       "      <td>NIETO RIOS JOHN FREDY</td>\n",
       "      <td>{'FACULTAD': 'Facultad de Medicina', 'NOMBRES': 'John Fredy', 'WOS_affiliation': ['Univ Antioquia, Nefrol Hosp Pablo Tobon Uribe, Medellin, Colombia.', 'Univ Antioquia, Dept Internal Med, Medellin...</td>\n",
       "    </tr>\n",
       "    <tr>\n",
       "      <th>27</th>\n",
       "      <td>CUARTAS RESTREPO PABLO ANDRES</td>\n",
       "      <td>{'FACULTAD': 'Facultad de Ciencias Exactas y Naturales', 'NOMBRES': 'Pablo Andres', 'WOS_affiliation': ['Univ Antioquia, FACom, Inst Fis FCEN, SEAP, Calle 70 52-21, Medellin, Colombia.', 'Univ Ant...</td>\n",
       "    </tr>\n",
       "    <tr>\n",
       "      <th>28</th>\n",
       "      <td>VEGA POSADA CARLOS ALBERTO</td>\n",
       "      <td>{'FACULTAD': 'Facultad de Ingeniería', 'NOMBRES': 'Carlos Alberto', 'WOS_affiliation': ['Univ Antioquia, Medellin, Antioquia, Colombia.', 'Univ Antioquia, Fac Ingn, Escuela Ambiental, Calle 70 52-...</td>\n",
       "    </tr>\n",
       "    <tr>\n",
       "      <th>29</th>\n",
       "      <td>ARENAS GRISALES SANDRA PATRICIA</td>\n",
       "      <td>{'full_name': 'ARENAS GRISALES SANDRA PATRICIA', 'INICIALES': 'S. P.', 'WOS_author': ['Arenas Grisales, Sandra Patricia'], 'WOS_affiliation': ['Univ Antioquia, Medellin, Colombia.'], 'PRIMER APELL...</td>\n",
       "    </tr>\n",
       "    <tr>\n",
       "      <th>...</th>\n",
       "      <td>...</td>\n",
       "      <td>...</td>\n",
       "    </tr>\n",
       "    <tr>\n",
       "      <th>770</th>\n",
       "      <td>GALLEGO LONDOÑO JONATHAN</td>\n",
       "      <td>{'FACULTAD': 'Facultad de Ingeniería', 'NOMBRES': 'Jonathan', 'WOS_affiliation': ['Univ Antioquia UdeA, Bioelect &amp; Clin Engn Grp GIBIC, Medellin, Colombia.'], 'INICIALES': 'J.', 'GRUPO': 'Grupo de...</td>\n",
       "    </tr>\n",
       "    <tr>\n",
       "      <th>771</th>\n",
       "      <td>GALLEGO LOPERA BERTA NATALIA</td>\n",
       "      <td>{'full_name': 'GALLEGO LOPERA BERTA NATALIA', 'INICIALES': 'B. N.', 'WOS_author': ['Gallego, N.'], 'WOS_affiliation': ['Univ Antioquia, Genet Mol Lab, Medellin, Colombia.'], 'PRIMER APELLIDO': 'Ga...</td>\n",
       "    </tr>\n",
       "    <tr>\n",
       "      <th>772</th>\n",
       "      <td>FORTICH HOYOS FERNANDO MANUEL</td>\n",
       "      <td>{'full_name': 'FORTICH HOYOS FERNANDO MANUEL', 'INICIALES': 'F. M.', 'WOS_author': ['Fortich, Fernando'], 'WOS_affiliation': ['Univ Antioquia, Sch Med, Dept Internal Med, Medellin, Colombia.'], 'P...</td>\n",
       "    </tr>\n",
       "    <tr>\n",
       "      <th>773</th>\n",
       "      <td>GIRATA LOZANO DORIS AMALIA</td>\n",
       "      <td>{'full_name': 'GIRATA LOZANO DORIS AMALIA', 'INICIALES': 'D. A.', 'WOS_author': ['Girata, D.'], 'WOS_affiliation': ['Univ Antioquia, Fac Ciencias Exactas &amp; Nat, Inst Fis, Medellin, Colombia.'], 'P...</td>\n",
       "    </tr>\n",
       "    <tr>\n",
       "      <th>774</th>\n",
       "      <td>OROZCO ROJAS LUZ MARINA</td>\n",
       "      <td>{'full_name': 'OROZCO ROJAS LUZ MARINA', 'INICIALES': 'L. M.', 'WOS_author': ['Orozco-Rojas, Luz Marina'], 'WOS_affiliation': ['Univ Antioquia, Fac Dent, Lab Immunodetect &amp; Bioanal, POPCAD Res Grp...</td>\n",
       "    </tr>\n",
       "    <tr>\n",
       "      <th>775</th>\n",
       "      <td>GONZALEZ RATIVA MARIA CLAUDIA</td>\n",
       "      <td>{'full_name': 'GONZALEZ RATIVA MARIA CLAUDIA', 'INICIALES': 'M. C.', 'WOS_author': ['Gonzalez-Rativa, M. C.'], 'WOS_affiliation': ['Univ Antioquia, Medellin, Colombia.'], 'PRIMER APELLIDO': 'Gonza...</td>\n",
       "    </tr>\n",
       "    <tr>\n",
       "      <th>776</th>\n",
       "      <td>TORO CASTAÑO MARIA FABIOLA</td>\n",
       "      <td>{'full_name': 'TORO CASTAÑO MARIA FABIOLA', 'INICIALES': 'M. F.', 'WOS_author': ['Toro, Fabiola'], 'WOS_affiliation': ['Univ Antioquia, Sch Med, Medellin, Colombia.', 'Univ Antioquia, Grp Primary ...</td>\n",
       "    </tr>\n",
       "    <tr>\n",
       "      <th>777</th>\n",
       "      <td>MARIN BOTERO MARTHA LUCIA</td>\n",
       "      <td>{'full_name': 'MARIN BOTERO MARTHA LUCIA', 'INICIALES': 'M. L.', 'WOS_author': ['Marin Botero, Martha Lucia'], 'WOS_affiliation': ['Univ Antioquia, Oral &amp; Maxillofacial Surg Serv, Hosp Univ San Vi...</td>\n",
       "    </tr>\n",
       "    <tr>\n",
       "      <th>778</th>\n",
       "      <td>BUILES BRAND MANUEL ALONSO</td>\n",
       "      <td>{'full_name': 'BUILES BRAND MANUEL ALONSO', 'INICIALES': 'M. A.', 'WOS_author': ['Builes, Manuel'], 'WOS_affiliation': ['Univ Antioquia, Fac Engn, GIGA Grp, Medellin, Colombia.'], 'PRIMER APELLIDO...</td>\n",
       "    </tr>\n",
       "    <tr>\n",
       "      <th>779</th>\n",
       "      <td>SANCHEZ MAURICIO ESTEBAN</td>\n",
       "      <td>{'FACULTAD': 'Facultad de Ingeniería', 'NOMBRES': 'Esteban', 'WOS_affiliation': ['Univ Antioquia, Grp Proc Fisicoquim Aplicados, Medellin, Antioquia, Colombia.'], 'INICIALES': 'E.', 'GRUPO': 'Simu...</td>\n",
       "    </tr>\n",
       "    <tr>\n",
       "      <th>780</th>\n",
       "      <td>TORO PAREJA VICTORIA EUGENIA</td>\n",
       "      <td>{'full_name': 'TORO PAREJA VICTORIA EUGENIA', 'INICIALES': 'V. E.', 'WOS_author': ['Eugenia Toro, Victoria'], 'WOS_affiliation': ['Univ Antioquia, Fac Pharmaceut Chem, Dept Pharm, Medellin, Colomb...</td>\n",
       "    </tr>\n",
       "    <tr>\n",
       "      <th>781</th>\n",
       "      <td>MEJIA JARAMILLO JAIME ALBERTO</td>\n",
       "      <td>{'full_name': 'MEJIA JARAMILLO JAIME ALBERTO', 'INICIALES': 'J. A.', 'WOS_author': ['Mejia, Jaime'], 'WOS_affiliation': ['Univ Antioquia, Fac Ciencias Agr, Medellin, Colombia.', 'Univ Antioquia, G...</td>\n",
       "    </tr>\n",
       "    <tr>\n",
       "      <th>782</th>\n",
       "      <td>CUARTAS CALLE ADRIANA MARIA</td>\n",
       "      <td>{'full_name': 'CUARTAS CALLE ADRIANA MARIA', 'INICIALES': 'A. M.', 'WOS_author': ['Cuartas, Adriana'], 'WOS_affiliation': ['Univ Antioquia, Fac Med, Dept Obstet &amp; Ginecol, Medellin, Philippines.']...</td>\n",
       "    </tr>\n",
       "    <tr>\n",
       "      <th>783</th>\n",
       "      <td>VALENCIA ARREDONDO MARLENY DE JESUS</td>\n",
       "      <td>{'full_name': 'VALENCIA ARREDONDO MARLENY DE JESUS', 'INICIALES': 'M. J.', 'WOS_author': ['Valencia Arredondo, Marleny'], 'WOS_affiliation': ['Univ Antioquia, Escuela Microbiol, Medellin, Croatia....</td>\n",
       "    </tr>\n",
       "    <tr>\n",
       "      <th>784</th>\n",
       "      <td>ARROYAVE POSADA CARLOS ENRIQUE</td>\n",
       "      <td>{'full_name': 'ARROYAVE POSADA CARLOS ENRIQUE', 'INICIALES': 'C. E.', 'WOS_author': ['Arroyave, Carlos'], 'WOS_affiliation': ['Univ Antioquia, Grp Corros &amp; Protecc, Medellin, Colombia.'], 'PRIMER ...</td>\n",
       "    </tr>\n",
       "    <tr>\n",
       "      <th>785</th>\n",
       "      <td>BOTERO AGUIRRE MONICA CECILIA</td>\n",
       "      <td>{'FACULTAD': 'Facultad de Ciencias Agrarias', 'NOMBRES': 'Monica Cecilia', 'WOS_affiliation': ['Univ Antioquia, Grp GRICA, Fac Ciencias Agr, Medellin, Antioquia, Colombia.'], 'INICIALES': 'M. C.',...</td>\n",
       "    </tr>\n",
       "    <tr>\n",
       "      <th>786</th>\n",
       "      <td>DUQUE GRAJALES JON EDINSON</td>\n",
       "      <td>{'full_name': 'DUQUE GRAJALES JON EDINSON', 'INICIALES': 'J. E.', 'WOS_author': ['Duque, Jon'], 'WOS_affiliation': ['Univ Antioquia, Bioinstrumentat &amp; Clin Res Grp GIBIC, Medellin, Colombia.'], 'P...</td>\n",
       "    </tr>\n",
       "    <tr>\n",
       "      <th>787</th>\n",
       "      <td>OSIO URIBE OSCAR HORACIO</td>\n",
       "      <td>{'full_name': 'OSIO URIBE OSCAR HORACIO', 'INICIALES': 'O. H.', 'WOS_author': ['Uribe Uribe, O.'], 'WOS_affiliation': ['Univ Antioquia, Secc Reumatol, Hosp Univ San Vicente de Paul, Medellin, Colo...</td>\n",
       "    </tr>\n",
       "    <tr>\n",
       "      <th>788</th>\n",
       "      <td>ZAPATA NOREÑA OSCAR ARTURO</td>\n",
       "      <td>{'full_name': 'ZAPATA NOREÑA OSCAR ARTURO', 'INICIALES': 'O. A.', 'WOS_author': ['Zapata, Oscar'], 'WOS_affiliation': ['Univ Antioquia, Fac Dent, Antioquia, Colombia.'], 'PRIMER APELLIDO': 'Zapata...</td>\n",
       "    </tr>\n",
       "    <tr>\n",
       "      <th>789</th>\n",
       "      <td>CABRERA HEMER DAGOBERTO NICANOR</td>\n",
       "      <td>{'FACULTAD': 'Facultad de Medicina', 'NOMBRES': 'Dagoberto Nicanor', 'WOS_affiliation': ['Univ Antioquia, Medellin 1226, Colombia.', 'Univ Antioquia, Dept Pediat, Fac Med, Medellin 1226, Colombia....</td>\n",
       "    </tr>\n",
       "    <tr>\n",
       "      <th>790</th>\n",
       "      <td>GOMEZ CARDONA JUAN PABLO</td>\n",
       "      <td>{'full_name': 'GOMEZ CARDONA JUAN PABLO', 'INICIALES': 'J. P.', 'WOS_author': ['Pablo Gomez, Juan'], 'WOS_affiliation': ['Univ Antioquia, Fac Med, Medellin 1226, Colombia.', 'Univ Antioquia, Grp O...</td>\n",
       "    </tr>\n",
       "    <tr>\n",
       "      <th>791</th>\n",
       "      <td>RENDON HENAO JAVIER</td>\n",
       "      <td>{'FACULTAD': 'Facultad de Medicina', 'NOMBRES': 'Javier', 'WOS_affiliation': ['Univ Antioquia, Fac Dent, Dept Integrated Basic Studies, Medellin, Colombia.'], 'INICIALES': 'J.', 'GRUPO': 'Sin Grup...</td>\n",
       "    </tr>\n",
       "    <tr>\n",
       "      <th>792</th>\n",
       "      <td>CARDONA SANCHEZ DIANA PATRICIA</td>\n",
       "      <td>{'full_name': 'CARDONA SANCHEZ DIANA PATRICIA', 'INICIALES': 'D. P.', 'WOS_author': ['Cardona, D.'], 'WOS_affiliation': ['Univ Antioquia SIU, Lab Quim Organ Prod Nat, Medellin, Colombia.'], 'PRIME...</td>\n",
       "    </tr>\n",
       "    <tr>\n",
       "      <th>793</th>\n",
       "      <td>LOPEZ ARANGO YOLANDA LUCIA</td>\n",
       "      <td>{'full_name': 'LOPEZ ARANGO YOLANDA LUCIA', 'INICIALES': 'Y. L.', 'WOS_author': ['Lucia Lopez, Yolanda'], 'WOS_affiliation': ['Univ Antioquia, Fac Nacl Salud Publ, Medellin, Colombia.'], 'PRIMER A...</td>\n",
       "    </tr>\n",
       "    <tr>\n",
       "      <th>794</th>\n",
       "      <td>RESTREPO GARAY MARGARITA MARIA</td>\n",
       "      <td>{'full_name': 'RESTREPO GARAY MARGARITA MARIA', 'INICIALES': 'M. M.', 'WOS_author': ['Restrepo, Margarita'], 'WOS_affiliation': ['Univ Antioquia, Fac Pharmaceut Chem, Dept Pharm, Medellin, Colombi...</td>\n",
       "    </tr>\n",
       "    <tr>\n",
       "      <th>795</th>\n",
       "      <td>CASTAÑO MONTOYA JORGE ALBERTO</td>\n",
       "      <td>{'FACULTAD': 'Facultad de Medicina', 'NOMBRES': 'Jorge Alberto', 'WOS_affiliation': ['Univ Antioquia, Dept Patol, Hosp Univ San Vicente Paul, Fac Med, Medellin, Colombia.'], 'INICIALES': 'J. A.', ...</td>\n",
       "    </tr>\n",
       "    <tr>\n",
       "      <th>796</th>\n",
       "      <td>ARISMENDI ECHAVARRIA JORGE ALBERTO</td>\n",
       "      <td>{'full_name': 'ARISMENDI ECHAVARRIA JORGE ALBERTO', 'INICIALES': 'J. A.', 'WOS_author': ['Arismendi Echavarria, Jorge Alberto'], 'WOS_affiliation': ['Univ Antioquia, Fac Odontol, Grp POPCAD, Medel...</td>\n",
       "    </tr>\n",
       "    <tr>\n",
       "      <th>797</th>\n",
       "      <td>ARANGO VIANA JUAN CARLOS</td>\n",
       "      <td>{'FACULTAD': 'Facultad de Medicina', 'NOMBRES': 'Juan Carlos', 'WOS_affiliation': ['Univ Antioquia, Fac Med, Dept Patol, Medellin, Antioquia, Colombia.', 'Univ Antioquia, Dept Psychiat, Fac Med, M...</td>\n",
       "    </tr>\n",
       "    <tr>\n",
       "      <th>798</th>\n",
       "      <td>PEÑA ACEVEDO LINA MARIA</td>\n",
       "      <td>{'FACULTAD': 'Facultad de Medicina', 'NOMBRES': 'Lina Maria', 'WOS_affiliation': ['Univ Antioquia, Grad Program Clin Toxicol, Medellin, Colombia.'], 'INICIALES': 'L. M.', 'GRUPO': 'Grupo de Estudi...</td>\n",
       "    </tr>\n",
       "    <tr>\n",
       "      <th>799</th>\n",
       "      <td>MESA HERRERA NATALIA REGINA</td>\n",
       "      <td>{'FACULTAD': 'Facultad de Medicina', 'NOMBRES': 'Natalia Regina', 'WOS_affiliation': ['Univ Antioquia, Medellin, Colombia.'], 'INICIALES': 'N. R.', 'GRUPO': 'Bioquimica y Genetica Molecular', 'SEG...</td>\n",
       "    </tr>\n",
       "  </tbody>\n",
       "</table>\n",
       "<p>800 rows × 2 columns</p>\n",
       "</div>"
      ],
      "text/plain": [
       "                              tmp_author  \\\n",
       "0                  DOVER ROBERT VAN HORN   \n",
       "1                 RADA RINCON JUAN PABLO   \n",
       "2               MACHADO RODRIGUEZ GLORIA   \n",
       "3         DUQUE ECHEVERRI CARLOS ALBERTO   \n",
       "4            ARDILA MEDINA CARLOS MARTIN   \n",
       "5                 BEDOYA CARO IVAN DARIO   \n",
       "6        RAMIREZ SANCHEZ ISABEL CRISTINA   \n",
       "7           AGUDELO SUAREZ ANDRES ALONSO   \n",
       "8               ROJAS CAMARGO JHON JAIRO   \n",
       "9              CASTRILLON GERMAN ALBERTO   \n",
       "10           MONTOYA GUARIN CARLOS JULIO   \n",
       "11            BARRERA RAMIREZ JOHN FREDY   \n",
       "12          PINO RODRIGUEZ NANCY JOHANNA   \n",
       "13       GONZALEZ VALENCIA NELSON JAVIER   \n",
       "14                URCUQUI INCHIMA SILVIO   \n",
       "15                   BAENA GARCIA ANDRES   \n",
       "16            CERON MUÑOZ MARIO FERNANDO   \n",
       "17           LOPEZ GOMEZ MARIA ESPERANZA   \n",
       "18              RESTREPO CARDENAS JOHANS   \n",
       "19               SAEZ VEGA JAIRO ANTONIO   \n",
       "20                SANZ VICARIO JOSE LUIS   \n",
       "21                CHAVES CASTAÑO LILIANA   \n",
       "22         BARRERA ROBLEDO LUIS FERNANDO   \n",
       "23              LENIS SANIN YASSER YOHAN   \n",
       "24           ESPINAL LOPEZ JUAN FERNANDO   \n",
       "25            LOPEZ LOPEZ DIANA PATRICIA   \n",
       "26                 NIETO RIOS JOHN FREDY   \n",
       "27         CUARTAS RESTREPO PABLO ANDRES   \n",
       "28            VEGA POSADA CARLOS ALBERTO   \n",
       "29       ARENAS GRISALES SANDRA PATRICIA   \n",
       "..                                   ...   \n",
       "770             GALLEGO LONDOÑO JONATHAN   \n",
       "771         GALLEGO LOPERA BERTA NATALIA   \n",
       "772        FORTICH HOYOS FERNANDO MANUEL   \n",
       "773           GIRATA LOZANO DORIS AMALIA   \n",
       "774              OROZCO ROJAS LUZ MARINA   \n",
       "775        GONZALEZ RATIVA MARIA CLAUDIA   \n",
       "776           TORO CASTAÑO MARIA FABIOLA   \n",
       "777            MARIN BOTERO MARTHA LUCIA   \n",
       "778           BUILES BRAND MANUEL ALONSO   \n",
       "779             SANCHEZ MAURICIO ESTEBAN   \n",
       "780         TORO PAREJA VICTORIA EUGENIA   \n",
       "781        MEJIA JARAMILLO JAIME ALBERTO   \n",
       "782          CUARTAS CALLE ADRIANA MARIA   \n",
       "783  VALENCIA ARREDONDO MARLENY DE JESUS   \n",
       "784       ARROYAVE POSADA CARLOS ENRIQUE   \n",
       "785        BOTERO AGUIRRE MONICA CECILIA   \n",
       "786           DUQUE GRAJALES JON EDINSON   \n",
       "787             OSIO URIBE OSCAR HORACIO   \n",
       "788           ZAPATA NOREÑA OSCAR ARTURO   \n",
       "789      CABRERA HEMER DAGOBERTO NICANOR   \n",
       "790             GOMEZ CARDONA JUAN PABLO   \n",
       "791                  RENDON HENAO JAVIER   \n",
       "792       CARDONA SANCHEZ DIANA PATRICIA   \n",
       "793           LOPEZ ARANGO YOLANDA LUCIA   \n",
       "794       RESTREPO GARAY MARGARITA MARIA   \n",
       "795        CASTAÑO MONTOYA JORGE ALBERTO   \n",
       "796   ARISMENDI ECHAVARRIA JORGE ALBERTO   \n",
       "797             ARANGO VIANA JUAN CARLOS   \n",
       "798              PEÑA ACEVEDO LINA MARIA   \n",
       "799          MESA HERRERA NATALIA REGINA   \n",
       "\n",
       "                                                                                                                                                                                                UDEA_authors  \n",
       "0    {'full_name': 'DOVER ROBERT VAN HORN', 'INICIALES': 'V. H.', 'WOS_author': ['Dover, Robert V. H.'], 'WOS_affiliation': ['Univ Antioquia, Dept Antropol, Antioquia, Colombia.', 'Univ Antioquia, Dept...  \n",
       "1    {'FACULTAD': 'Facultad de Ciencias Exactas y Naturales', 'NOMBRES': 'Juan Pablo', 'WOS_affiliation': ['Univ Antioquia Medellin, Inst Matemat, Medellin, Colombia.', 'Univ Antioquia, Inst Matemat, M...  \n",
       "2    {'FACULTAD': 'Facultad de Ciencias Exactas y Naturales', 'NOMBRES': 'Gloria', 'WOS_affiliation': ['Univ Antioquia, Grp Invest Identificac Genet IdentiGE, Medellin, Colombia.', 'Univ Antioquia, Grp...  \n",
       "3    {'FACULTAD': 'Facultad de Ciencias Exactas y Naturales', 'NOMBRES': 'Carlos Alberto', 'WOS_affiliation': ['Univ Antioquia UdeA, Fac Ciencias Exactas & Nat, Inst Fis, Grp Mat Condensada UdeA, Medel...  \n",
       "4    {'full_name': 'ARDILA MEDINA CARLOS MARTIN', 'INICIALES': 'C. M.', 'WOS_author': ['Ardila, Carlos M.', 'Martin Ardila, Carlos', 'Ardila, C. M.', 'Ardila, Carlos Martin'], 'WOS_affiliation': ['Univ...  \n",
       "5    {'FACULTAD': 'Facultad de Ingeniería', 'NOMBRES': 'Ivan Dario', 'WOS_affiliation': ['Univ Antioquia, Grp Ciencia & Tecnol Gas & Uso Rac Energia, Medellin 63108, Colombia.', 'Univ Antioquia, Dept M...  \n",
       "6    {'FACULTAD': 'Facultad de Medicina', 'NOMBRES': 'Isabel Cristina', 'WOS_affiliation': ['Univ Antioquia, Sch Med, Dept Internal Med, Div Infect Dis, Medellin, Colombia.', 'Univ Antioquia, Hosp Pabl...  \n",
       "7    {'full_name': 'AGUDELO SUAREZ ANDRES ALONSO', 'INICIALES': 'A. A.', 'WOS_author': ['Agudelo-Suarez, Andres A.', 'Agudelo-Suarez, A. A.', 'Agudelo-Suarez, Andres', 'Alonso Agudelo-Suarez, Andres', ...  \n",
       "8    {'full_name': 'ROJAS CAMARGO JHON JAIRO', 'INICIALES': 'J. J.', 'WOS_author': ['Rojas, J.'], 'WOS_affiliation': ['Univ Antioquia, Sch Pharmaceut Chem, Dept Pharm, Medellin 094, Colombia.'], 'PRIME...  \n",
       "9    {'FACULTAD': 'Facultad de Medicina', 'NOMBRES': 'Alberto', 'WOS_affiliation': ['Univ Antioquia, Dept Radiol, Medellin, Colombia.'], 'INICIALES': 'A.', 'GRUPO': 'Grupo de Gastrohepatología', 'SEGUN...  \n",
       "10   {'FACULTAD': 'Facultad de Medicina', 'NOMBRES': 'Carlos Julio', 'WOS_affiliation': ['Univ Antioquia, Sch Med, Immunovirol Grp, Lab 532, Medellin, Colombia.', 'Univ Antioquia, Fac Med, Grp Inmunovi...  \n",
       "11   {'FACULTAD': 'Facultad de Ciencias Exactas y Naturales', 'NOMBRES': 'John Fredy', 'WOS_affiliation': ['Univ Antioquia, Inst Fis, Grp Opt & Foton, Medellin 1226, Colombia.', 'Univ Antioquia UdeA, F...  \n",
       "12   {'full_name': 'PINO RODRIGUEZ NANCY JOHANNA', 'INICIALES': 'N. J.', 'WOS_author': ['Pino, Nancy J.', 'Pino, Nancy', 'Pino Rodriguez, Nancy J.'], 'WOS_affiliation': ['Univ Antioquia, Fac Ingn, Grp ...  \n",
       "13   {'full_name': 'GONZALEZ VALENCIA NELSON JAVIER', 'INICIALES': 'N. J.', 'WOS_author': ['Gonzalez, Nelson J.'], 'WOS_affiliation': ['IPS Univ, Univ Antioquia, Dept Anesthesia, Medellin, Colombia.'],...  \n",
       "14   {'FACULTAD': 'Facultad de Medicina', 'NOMBRES': 'Silvio', 'WOS_affiliation': ['Univ Antioquia, Sede Invest Univ, Grp Inmunoviol, Medellin, Colombia.', 'Univ Antioquia UdeA, Fac Med, Grp Immunoviro...  \n",
       "15   {'FACULTAD': 'Facultad de Medicina', 'NOMBRES': 'Andres', 'WOS_affiliation': ['Univ Antioquia, Fac Med, Grp Inmunol Celular & Inmunogenet, Medellin, Colombia.', 'Univ Antioquia UdeA, Fac Med, Grp ...  \n",
       "16   {'FACULTAD': 'Facultad de Ciencias Agrarias', 'NOMBRES': 'Mario Fernando', 'WOS_affiliation': ['Univ Antioquia, Medellin, Colombia.', 'Univ Antioquia, Fac Ciencias Agr, Medellin, Antioquia, Colomb...  \n",
       "17   {'FACULTAD': 'Facultad de Ingeniería', 'NOMBRES': 'Maria Esperanza', 'WOS_affiliation': ['Univ Antioquia, Grp GIPIMME, Medellin, Colombia.', 'Univ Antioquia, Pyromet & Mat Res Grp GIPIMME, Medelli...  \n",
       "18   {'FACULTAD': 'Facultad de Ciencias Exactas y Naturales', 'NOMBRES': 'Johans', 'WOS_affiliation': ['Univ Antioquia, Inst Fis, Grp Magnetismo & Simulac, Medellin 1226, Colombia.', 'Univ Antioquia, I...  \n",
       "19   {'full_name': 'SAEZ VEGA JAIRO ANTONIO', 'INICIALES': 'J. A.', 'WOS_author': ['Saez, Jairo', 'Saez, Jairo A.'], 'WOS_affiliation': ['Univ Antioquia, Inst Quim Quim Plantas Colombianas, Medellin, C...  \n",
       "20   {'FACULTAD': 'Facultad de Ciencias Exactas y Naturales', 'NOMBRES': 'Jose Luis', 'WOS_affiliation': ['Univ Antioquia, Inst Fis, Medellin, Colombia.', 'Univ Antioquia, Grp Fis Atom & Mol, Inst Fis,...  \n",
       "21   {'FACULTAD': 'Facultad de Ciencias Sociales y Humanas', 'NOMBRES': 'Liliana', 'WOS_affiliation': ['Univ Antioquia, Antioquia, Colombia.', 'Univ Antioquia, Dept Psicol, Medellin, Colombia.'], 'INIC...  \n",
       "22   {'FACULTAD': 'Facultad de Medicina', 'NOMBRES': 'Luis Fernando', 'WOS_affiliation': ['Univ Antioquia, Fac Med, Inst Invest Med, Grp Inmunol Celular & Inmunogenet GICIG, Medellin, Colombia.', 'Univ...  \n",
       "23   {'full_name': 'LENIS SANIN YASSER YOHAN', 'INICIALES': 'Y. Y.', 'WOS_author': ['Lenis, Y. Y.', 'Lenis Sanin, Yasser Y.'], 'WOS_affiliation': ['Univ Antioquia, Fac Ciencias Agr, BIOGENESIS, Medelli...  \n",
       "24   {'FACULTAD': 'Facultad de Ciencias Exactas y Naturales', 'NOMBRES': 'Juan Fernando', 'WOS_affiliation': ['Univ Antioquia, Inst Quim, Medellin 1226, Colombia.', 'Univ Antioquia UdeA, Fac Ciencias E...  \n",
       "25   {'FACULTAD': 'Facultad de Ciencias Exactas y Naturales', 'NOMBRES': 'Diana Patricia', 'WOS_affiliation': ['Univ Antioquia, Fac Ciencias Exactas & Nat, Inst Quim, Medellin, Colombia.', 'Univ Antioq...  \n",
       "26   {'FACULTAD': 'Facultad de Medicina', 'NOMBRES': 'John Fredy', 'WOS_affiliation': ['Univ Antioquia, Nefrol Hosp Pablo Tobon Uribe, Medellin, Colombia.', 'Univ Antioquia, Dept Internal Med, Medellin...  \n",
       "27   {'FACULTAD': 'Facultad de Ciencias Exactas y Naturales', 'NOMBRES': 'Pablo Andres', 'WOS_affiliation': ['Univ Antioquia, FACom, Inst Fis FCEN, SEAP, Calle 70 52-21, Medellin, Colombia.', 'Univ Ant...  \n",
       "28   {'FACULTAD': 'Facultad de Ingeniería', 'NOMBRES': 'Carlos Alberto', 'WOS_affiliation': ['Univ Antioquia, Medellin, Antioquia, Colombia.', 'Univ Antioquia, Fac Ingn, Escuela Ambiental, Calle 70 52-...  \n",
       "29   {'full_name': 'ARENAS GRISALES SANDRA PATRICIA', 'INICIALES': 'S. P.', 'WOS_author': ['Arenas Grisales, Sandra Patricia'], 'WOS_affiliation': ['Univ Antioquia, Medellin, Colombia.'], 'PRIMER APELL...  \n",
       "..                                                                                                                                                                                                       ...  \n",
       "770  {'FACULTAD': 'Facultad de Ingeniería', 'NOMBRES': 'Jonathan', 'WOS_affiliation': ['Univ Antioquia UdeA, Bioelect & Clin Engn Grp GIBIC, Medellin, Colombia.'], 'INICIALES': 'J.', 'GRUPO': 'Grupo de...  \n",
       "771  {'full_name': 'GALLEGO LOPERA BERTA NATALIA', 'INICIALES': 'B. N.', 'WOS_author': ['Gallego, N.'], 'WOS_affiliation': ['Univ Antioquia, Genet Mol Lab, Medellin, Colombia.'], 'PRIMER APELLIDO': 'Ga...  \n",
       "772  {'full_name': 'FORTICH HOYOS FERNANDO MANUEL', 'INICIALES': 'F. M.', 'WOS_author': ['Fortich, Fernando'], 'WOS_affiliation': ['Univ Antioquia, Sch Med, Dept Internal Med, Medellin, Colombia.'], 'P...  \n",
       "773  {'full_name': 'GIRATA LOZANO DORIS AMALIA', 'INICIALES': 'D. A.', 'WOS_author': ['Girata, D.'], 'WOS_affiliation': ['Univ Antioquia, Fac Ciencias Exactas & Nat, Inst Fis, Medellin, Colombia.'], 'P...  \n",
       "774  {'full_name': 'OROZCO ROJAS LUZ MARINA', 'INICIALES': 'L. M.', 'WOS_author': ['Orozco-Rojas, Luz Marina'], 'WOS_affiliation': ['Univ Antioquia, Fac Dent, Lab Immunodetect & Bioanal, POPCAD Res Grp...  \n",
       "775  {'full_name': 'GONZALEZ RATIVA MARIA CLAUDIA', 'INICIALES': 'M. C.', 'WOS_author': ['Gonzalez-Rativa, M. C.'], 'WOS_affiliation': ['Univ Antioquia, Medellin, Colombia.'], 'PRIMER APELLIDO': 'Gonza...  \n",
       "776  {'full_name': 'TORO CASTAÑO MARIA FABIOLA', 'INICIALES': 'M. F.', 'WOS_author': ['Toro, Fabiola'], 'WOS_affiliation': ['Univ Antioquia, Sch Med, Medellin, Colombia.', 'Univ Antioquia, Grp Primary ...  \n",
       "777  {'full_name': 'MARIN BOTERO MARTHA LUCIA', 'INICIALES': 'M. L.', 'WOS_author': ['Marin Botero, Martha Lucia'], 'WOS_affiliation': ['Univ Antioquia, Oral & Maxillofacial Surg Serv, Hosp Univ San Vi...  \n",
       "778  {'full_name': 'BUILES BRAND MANUEL ALONSO', 'INICIALES': 'M. A.', 'WOS_author': ['Builes, Manuel'], 'WOS_affiliation': ['Univ Antioquia, Fac Engn, GIGA Grp, Medellin, Colombia.'], 'PRIMER APELLIDO...  \n",
       "779  {'FACULTAD': 'Facultad de Ingeniería', 'NOMBRES': 'Esteban', 'WOS_affiliation': ['Univ Antioquia, Grp Proc Fisicoquim Aplicados, Medellin, Antioquia, Colombia.'], 'INICIALES': 'E.', 'GRUPO': 'Simu...  \n",
       "780  {'full_name': 'TORO PAREJA VICTORIA EUGENIA', 'INICIALES': 'V. E.', 'WOS_author': ['Eugenia Toro, Victoria'], 'WOS_affiliation': ['Univ Antioquia, Fac Pharmaceut Chem, Dept Pharm, Medellin, Colomb...  \n",
       "781  {'full_name': 'MEJIA JARAMILLO JAIME ALBERTO', 'INICIALES': 'J. A.', 'WOS_author': ['Mejia, Jaime'], 'WOS_affiliation': ['Univ Antioquia, Fac Ciencias Agr, Medellin, Colombia.', 'Univ Antioquia, G...  \n",
       "782  {'full_name': 'CUARTAS CALLE ADRIANA MARIA', 'INICIALES': 'A. M.', 'WOS_author': ['Cuartas, Adriana'], 'WOS_affiliation': ['Univ Antioquia, Fac Med, Dept Obstet & Ginecol, Medellin, Philippines.']...  \n",
       "783  {'full_name': 'VALENCIA ARREDONDO MARLENY DE JESUS', 'INICIALES': 'M. J.', 'WOS_author': ['Valencia Arredondo, Marleny'], 'WOS_affiliation': ['Univ Antioquia, Escuela Microbiol, Medellin, Croatia....  \n",
       "784  {'full_name': 'ARROYAVE POSADA CARLOS ENRIQUE', 'INICIALES': 'C. E.', 'WOS_author': ['Arroyave, Carlos'], 'WOS_affiliation': ['Univ Antioquia, Grp Corros & Protecc, Medellin, Colombia.'], 'PRIMER ...  \n",
       "785  {'FACULTAD': 'Facultad de Ciencias Agrarias', 'NOMBRES': 'Monica Cecilia', 'WOS_affiliation': ['Univ Antioquia, Grp GRICA, Fac Ciencias Agr, Medellin, Antioquia, Colombia.'], 'INICIALES': 'M. C.',...  \n",
       "786  {'full_name': 'DUQUE GRAJALES JON EDINSON', 'INICIALES': 'J. E.', 'WOS_author': ['Duque, Jon'], 'WOS_affiliation': ['Univ Antioquia, Bioinstrumentat & Clin Res Grp GIBIC, Medellin, Colombia.'], 'P...  \n",
       "787  {'full_name': 'OSIO URIBE OSCAR HORACIO', 'INICIALES': 'O. H.', 'WOS_author': ['Uribe Uribe, O.'], 'WOS_affiliation': ['Univ Antioquia, Secc Reumatol, Hosp Univ San Vicente de Paul, Medellin, Colo...  \n",
       "788  {'full_name': 'ZAPATA NOREÑA OSCAR ARTURO', 'INICIALES': 'O. A.', 'WOS_author': ['Zapata, Oscar'], 'WOS_affiliation': ['Univ Antioquia, Fac Dent, Antioquia, Colombia.'], 'PRIMER APELLIDO': 'Zapata...  \n",
       "789  {'FACULTAD': 'Facultad de Medicina', 'NOMBRES': 'Dagoberto Nicanor', 'WOS_affiliation': ['Univ Antioquia, Medellin 1226, Colombia.', 'Univ Antioquia, Dept Pediat, Fac Med, Medellin 1226, Colombia....  \n",
       "790  {'full_name': 'GOMEZ CARDONA JUAN PABLO', 'INICIALES': 'J. P.', 'WOS_author': ['Pablo Gomez, Juan'], 'WOS_affiliation': ['Univ Antioquia, Fac Med, Medellin 1226, Colombia.', 'Univ Antioquia, Grp O...  \n",
       "791  {'FACULTAD': 'Facultad de Medicina', 'NOMBRES': 'Javier', 'WOS_affiliation': ['Univ Antioquia, Fac Dent, Dept Integrated Basic Studies, Medellin, Colombia.'], 'INICIALES': 'J.', 'GRUPO': 'Sin Grup...  \n",
       "792  {'full_name': 'CARDONA SANCHEZ DIANA PATRICIA', 'INICIALES': 'D. P.', 'WOS_author': ['Cardona, D.'], 'WOS_affiliation': ['Univ Antioquia SIU, Lab Quim Organ Prod Nat, Medellin, Colombia.'], 'PRIME...  \n",
       "793  {'full_name': 'LOPEZ ARANGO YOLANDA LUCIA', 'INICIALES': 'Y. L.', 'WOS_author': ['Lucia Lopez, Yolanda'], 'WOS_affiliation': ['Univ Antioquia, Fac Nacl Salud Publ, Medellin, Colombia.'], 'PRIMER A...  \n",
       "794  {'full_name': 'RESTREPO GARAY MARGARITA MARIA', 'INICIALES': 'M. M.', 'WOS_author': ['Restrepo, Margarita'], 'WOS_affiliation': ['Univ Antioquia, Fac Pharmaceut Chem, Dept Pharm, Medellin, Colombi...  \n",
       "795  {'FACULTAD': 'Facultad de Medicina', 'NOMBRES': 'Jorge Alberto', 'WOS_affiliation': ['Univ Antioquia, Dept Patol, Hosp Univ San Vicente Paul, Fac Med, Medellin, Colombia.'], 'INICIALES': 'J. A.', ...  \n",
       "796  {'full_name': 'ARISMENDI ECHAVARRIA JORGE ALBERTO', 'INICIALES': 'J. A.', 'WOS_author': ['Arismendi Echavarria, Jorge Alberto'], 'WOS_affiliation': ['Univ Antioquia, Fac Odontol, Grp POPCAD, Medel...  \n",
       "797  {'FACULTAD': 'Facultad de Medicina', 'NOMBRES': 'Juan Carlos', 'WOS_affiliation': ['Univ Antioquia, Fac Med, Dept Patol, Medellin, Antioquia, Colombia.', 'Univ Antioquia, Dept Psychiat, Fac Med, M...  \n",
       "798  {'FACULTAD': 'Facultad de Medicina', 'NOMBRES': 'Lina Maria', 'WOS_affiliation': ['Univ Antioquia, Grad Program Clin Toxicol, Medellin, Colombia.'], 'INICIALES': 'L. M.', 'GRUPO': 'Grupo de Estudi...  \n",
       "799  {'FACULTAD': 'Facultad de Medicina', 'NOMBRES': 'Natalia Regina', 'WOS_affiliation': ['Univ Antioquia, Medellin, Colombia.'], 'INICIALES': 'N. R.', 'GRUPO': 'Bioquimica y Genetica Molecular', 'SEG...  \n",
       "\n",
       "[800 rows x 2 columns]"
      ]
     },
     "execution_count": 123,
     "metadata": {},
     "output_type": "execute_result"
    }
   ],
   "source": [
    "aunly"
   ]
  },
  {
   "cell_type": "code",
   "execution_count": null,
   "metadata": {
    "collapsed": true
   },
   "outputs": [],
   "source": []
  }
 ],
 "metadata": {
  "colab": {
   "include_colab_link": true,
   "name": "merge.ipynb",
   "provenance": [],
   "version": "0.3.2"
  },
  "kernelspec": {
   "display_name": "Python 3",
   "language": "python",
   "name": "python3"
  },
  "language_info": {
   "codemirror_mode": {
    "name": "ipython",
    "version": 3
   },
   "file_extension": ".py",
   "mimetype": "text/x-python",
   "name": "python",
   "nbconvert_exporter": "python",
   "pygments_lexer": "ipython3",
   "version": "3.5.3"
  }
 },
 "nbformat": 4,
 "nbformat_minor": 2
}
