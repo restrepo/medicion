{
 "cells": [
  {
   "cell_type": "markdown",
   "metadata": {
    "colab_type": "text",
    "id": "view-in-github"
   },
   "source": [
    "<a href=\"https://colab.research.google.com/github/restrepo/medicion/blob/master/cienciometria/WOS_SCI_SCP.ipynb\" target=\"_parent\"><img src=\"https://colab.research.google.com/assets/colab-badge.svg\" alt=\"Open In Colab\"/></a>"
   ]
  },
  {
   "cell_type": "markdown",
   "metadata": {
    "colab_type": "text",
    "id": "aDnqho-CsEwj"
   },
   "source": [
    "# WOS+SCI+SCP+PTJ+GS+LNS\n",
    "Merge the bibliographic datasets for \n",
    "* Web of Science, \n",
    "* Scielo \n",
    "* Scopus \n",
    "* Google Scholar\n",
    "* Puntaje\n",
    "* Lens\n",
    "of the scientific articles of Universidad de Antioquia\n",
    "\n",
    "For details see [merge.ipynb in Colaboratory](https://colab.research.google.com/github/restrepo/medicion/blob/master/cienciometria/merge.ipynb)"
   ]
  },
  {
   "cell_type": "markdown",
   "metadata": {},
   "source": [
    "## functions"
   ]
  },
  {
   "cell_type": "code",
   "execution_count": null,
   "metadata": {},
   "outputs": [],
   "source": [
    "def get_author_info(x):\n",
    "    sep='; '\n",
    "    authors=[{'WOS_author':x[0].split(sep)[0],'affiliation':[x[0].split(sep)[-1]],'i':0}]\n",
    "    iau=1\n",
    "    for y  in x:\n",
    "        y2=y.replace('[','').replace('] ',sep).split(sep)\n",
    "        for z in y2[:-1]:\n",
    "            aulist=[ d.get('WOS_author') for d in authors]\n",
    "            if z not in aulist:\n",
    "                authors.append({'WOS_author':z,'affiliation':[y2[-1]],'i':iau})\n",
    "                iau=iau+1\n",
    "            else:\n",
    "                if y2[-1] not in [ d.get('affiliation') for d in authors if d.get('WOS_author')==z][0]:\n",
    "                    index_author=[ d.get('i') for d in authors if d.get('WOS_author')==z][0]\n",
    "                    authors[index_author]['affiliation'].append(y2[-1])\n",
    "    return authors\n",
    "\n",
    "def dictionary_list_add_columns(df,df_dl,df_dl_key,df_dl_i,df_columns):\n",
    "    '''\n",
    "    For a\n",
    "     df: Pandas DataFrame \n",
    "    with a:\n",
    "     df_dl: column of list of dictionaries, with\n",
    "     df_dl_key: dictionary key: e.g x=[{df_dl_key:1},{df_dl_key:2}]\n",
    "    for the element df_dl_i of the list:\n",
    "    Update the dictionary with:\n",
    "        df_dl_key==x[df_dl_i][df_dl_key]\n",
    "    with the dictionaries { df_columns[i]: df_columns[i].values }\n",
    "    '''\n",
    "    dff=df.copy()\n",
    "    for key in df_columns:\n",
    "        tmp=dff[df_dl].combine(dff[key],\n",
    "                func=lambda x,y: [z.update({key:y}) if z.get(df_dl_key)==x[df_dl_i][df_dl_key] else z for z in x  ] )\n",
    "    return dff"
   ]
  },
  {
   "cell_type": "code",
   "execution_count": 4,
   "metadata": {
    "colab": {},
    "colab_type": "code",
    "id": "nhk2ZGEDd2Yo"
   },
   "outputs": [],
   "source": [
    "import wosplus as wp\n",
    "import pandas as pd"
   ]
  },
  {
   "cell_type": "markdown",
   "metadata": {
    "colab_type": "text",
    "id": "JS7jD1f47JUN"
   },
   "source": [
    "##  Configure public links of  files in Google Drive\n",
    "* If it is a Google Spreadsheet the corresponding file is downloaded as CSV\n",
    "* If it is in excel or text file the file is downloaded  directly\n",
    "\n",
    "To define your  own labeled IDs for public google drive files edit the next cell:"
   ]
  },
  {
   "cell_type": "code",
   "execution_count": 627,
   "metadata": {
    "colab": {
     "base_uri": "https://localhost:8080/",
     "height": 35
    },
    "colab_type": "code",
    "id": "T4Rmd2dF7JUQ",
    "outputId": "39a5835e-1b38-48b6-f1a5-e9964c846123"
   },
   "outputs": [
    {
     "name": "stdout",
     "output_type": "stream",
     "text": [
      "Overwriting drive.cfg\n"
     ]
    }
   ],
   "source": [
    "%%writefile drive.cfg\n",
    "[FILES]\n",
    "UDEA_WOS.xlsx       = 1px2IcrjCrkyu7t78Q7PAE5nzV_yuPt9t\n",
    "UDEA_SCI.xlsx       = 1pWMY5P72j0Ca6D-cm7dn7Q4TBGTs4PWV\n",
    "UDEA_SCP.xlsx       = 1ulCsFHzDiTmuL9TH8F58ulh0u8Z2ylKh\n",
    "UDEA_WOS_SCI_SCP.xlsx   = 1o9otmklgh-0w18Avv2ZTKOXr3vZbjwvj\n",
    "UDEA_WOS_SCI_SCP.json=1RTDCh5pl0vapjJT_e9ZwadHPGBKGGv6Y\n",
    "UDEA_WOS_SCI_SCP.json.gz=19E1C1kRk4I0V3uXojqko8-NEicWaPp1j\n",
    "WOS_SCP_UDEA_SJR_SIU.xlsx=0BxoOXsn2EUNIQ3R4WDhvSzVLQ2s\n",
    "Base_de_datos_investigadores_Definitiva.csv=12oalgUeKhpvzkTPBP8pXCeHTrF-KO223dy9ov9w9QKs"
   ]
  },
  {
   "cell_type": "markdown",
   "metadata": {
    "colab_type": "text",
    "id": "Y0D0hEdAMXUX"
   },
   "source": [
    "##  Load data bases"
   ]
  },
  {
   "cell_type": "code",
   "execution_count": 628,
   "metadata": {
    "colab": {
     "base_uri": "https://localhost:8080/",
     "height": 35
    },
    "colab_type": "code",
    "id": "occzrIeCS7aQ",
    "outputId": "17b144f3-eef0-4c8a-c2b4-10c8fe55802c"
   },
   "outputs": [],
   "source": [
    "drive_files=wp.wosplus('drive.cfg')"
   ]
  },
  {
   "cell_type": "code",
   "execution_count": 8,
   "metadata": {
    "colab": {},
    "colab_type": "code",
    "id": "oq9QM3cBYH0a"
   },
   "outputs": [],
   "source": [
    "UDEA=drive_files.read_drive_json('UDEA_WOS_SCI_SCP.json')"
   ]
  },
  {
   "cell_type": "code",
   "execution_count": 9,
   "metadata": {
    "colab": {
     "base_uri": "https://localhost:8080/",
     "height": 53
    },
    "colab_type": "code",
    "id": "Cb5epW_9iL4s",
    "outputId": "aa6b2752-c475-4ee6-f344-627e377453c9"
   },
   "outputs": [
    {
     "data": {
      "text/plain": [
       "array(['WOS', 'SCI_SCP', 'WOS_SCP', 'WOS_SCI_SCP', 'SCP', 'WOS_SCI',\n",
       "       'SCI'], dtype=object)"
      ]
     },
     "execution_count": 9,
     "metadata": {},
     "output_type": "execute_result"
    }
   ],
   "source": [
    "UDEA.Tipo.unique()"
   ]
  },
  {
   "cell_type": "code",
   "execution_count": 10,
   "metadata": {},
   "outputs": [
    {
     "name": "stdout",
     "output_type": "stream",
     "text": [
      "WOS:1884\n",
      "SCI_SCP:1622\n",
      "WOS_SCP:5824\n",
      "WOS_SCI_SCP:773\n",
      "SCP:2584\n",
      "WOS_SCI:147\n",
      "SCI:2892\n"
     ]
    }
   ],
   "source": [
    "for t in UDEA.Tipo.unique():\n",
    "    print( '{}:{}'.format( t, UDEA[ UDEA.Tipo==t].shape[0] ) )"
   ]
  },
  {
   "cell_type": "markdown",
   "metadata": {},
   "source": [
    "## Extract  affiliation from C1"
   ]
  },
  {
   "cell_type": "code",
   "execution_count": 611,
   "metadata": {},
   "outputs": [],
   "source": [
    "affil='Univ Antioquia'\n",
    "UDEA['authors_WOS']=UDEA.C1.apply(lambda x: x.split('\\n') if x else x).apply(\n",
    "    lambda x:   [y.replace('[','').replace('] ','; ') for y in x if y.find(affil)>-1 ] if x else x ).apply(\n",
    "     lambda x: get_author_info(x) if x else x)"
   ]
  },
  {
   "cell_type": "markdown",
   "metadata": {},
   "source": [
    "## load trained "
   ]
  },
  {
   "cell_type": "code",
   "execution_count": 1086,
   "metadata": {},
   "outputs": [],
   "source": [
    "SIU=drive_files.read_drive_excel('WOS_SCP_UDEA_SJR_SIU.xlsx')"
   ]
  },
  {
   "cell_type": "code",
   "execution_count": 1087,
   "metadata": {},
   "outputs": [
    {
     "data": {
      "text/plain": [
       "array(['WOS+SCP', 'WOS+SCP+UDEA', 'WOS+SCI+SCP', 'WOS+SCI+SCP+UDEA',\n",
       "       'SCI+SCP', 'SCI+SCP+UDEA', 'SCP', 'SCP+UDEA', 'WOS', 'WOS+UDEA',\n",
       "       'WOS+SCI', 'WOS+SCI+UDEA', 'SCI', 'SCI+UDEA', 'UDEA'], dtype=object)"
      ]
     },
     "execution_count": 1087,
     "metadata": {},
     "output_type": "execute_result"
    }
   ],
   "source": [
    "SIU.Tipo.unique()"
   ]
  },
  {
   "cell_type": "code",
   "execution_count": 1088,
   "metadata": {},
   "outputs": [],
   "source": [
    "SIU=SIU[SIU.Tipo.str.contains('\\+UDEA')].reset_index(drop=True)"
   ]
  },
  {
   "cell_type": "code",
   "execution_count": 1089,
   "metadata": {},
   "outputs": [
    {
     "data": {
      "text/plain": [
       "array(['AB', 'AF', 'AR', 'AU', 'BA', 'BE', 'BF', 'BN', 'BP', 'C1', 'CA',\n",
       "       'CL', 'CR', 'CT', 'CTR_CATEGORÍA G', 'CTR_CATEGORÍA I',\n",
       "       'CTR_Centro', 'CTR_CÉDULA', 'CTR_GRUPO', 'CTR_LINK CVLAC',\n",
       "       'CTR_NOMBRE', 'CTR_Nivel de Formación', 'CTR_Tipo de Vinculación',\n",
       "       'CTR_vinculación GrupLAC', 'CY', 'Clasificación 2016', 'D2', 'DE',\n",
       "       'DI', 'DT', 'EI', 'EM', 'EP', 'FU', 'FX', 'GA', 'GP', 'HO', 'ID',\n",
       "       'IS', 'ISSN', 'J9', 'JI', 'LA', 'MA', 'NR', 'OI', 'PA', 'PD', 'PG',\n",
       "       'PI', 'PM', 'PN', 'PT', 'PU', 'PY', 'RI', 'RP', 'SC', 'SCI_AB',\n",
       "       'SCI_AU', 'SCI_BP', 'SCI_C1', 'SCI_C2', 'SCI_CR', 'SCI_DE',\n",
       "       'SCI_DI', 'SCI_DT', 'SCI_EC', 'SCI_EM', 'SCI_EP', 'SCI_IS',\n",
       "       'SCI_LA', 'SCI_NR', 'SCI_OI', 'SCI_PA', 'SCI_PD', 'SCI_PI',\n",
       "       'SCI_PT', 'SCI_PU', 'SCI_PY', 'SCI_RI', 'SCI_SC', 'SCI_SN',\n",
       "       'SCI_SO', 'SCI_TC', 'SCI_TI', 'SCI_U1', 'SCI_U2', 'SCI_UT',\n",
       "       'SCI_VL', 'SCI_X1', 'SCI_X4', 'SCI_X5', 'SCI_Y1', 'SCI_Y4',\n",
       "       'SCI_Y5', 'SCI_Z1', 'SCI_Z4', 'SCI_Z5', 'SCI_Z9', 'SCI_alias',\n",
       "       'SCI_au1', 'SCP_Abbreviated Source Title', 'SCP_Abstract',\n",
       "       'SCP_Affiliations', 'SCP_Art. No.', 'SCP_Author Keywords',\n",
       "       'SCP_Authors', 'SCP_Authors with affiliations', 'SCP_CODEN',\n",
       "       'SCP_Chemicals/CAS', 'SCP_Cited by', 'SCP_Conference code',\n",
       "       'SCP_Conference date', 'SCP_Conference location',\n",
       "       'SCP_Conference name', 'SCP_Correspondence Address', 'SCP_DOI',\n",
       "       'SCP_Document Type', 'SCP_EID', 'SCP_Editors',\n",
       "       'SCP_Funding Details', 'SCP_Funding Text', 'SCP_ISBN', 'SCP_ISSN',\n",
       "       'SCP_Index Keywords', 'SCP_Issue',\n",
       "       'SCP_Language of Original Document', 'SCP_Link',\n",
       "       'SCP_Manufacturers', 'SCP_Molecular Sequence Numbers',\n",
       "       'SCP_Page count', 'SCP_Page end', 'SCP_Page start',\n",
       "       'SCP_PubMed ID', 'SCP_Publisher', 'SCP_References', 'SCP_Source',\n",
       "       'SCP_Source title', 'SCP_Sponsors', 'SCP_Title', 'SCP_Title_0',\n",
       "       'SCP_Title_1', 'SCP_Title_2', 'SCP_Tradenames', 'SCP_Volume',\n",
       "       'SCP_Year', 'SCP_alias', 'SCP_au1', 'SE', 'SI',\n",
       "       'SJR_Citable Docs. (3years)', 'SJR_Cites / Doc. (2years)',\n",
       "       'SJR_Country', 'SJR_H index', 'SJR_Issn', 'SJR_OpenAccess',\n",
       "       'SJR_Rank', 'SJR_Ref. / Doc.', 'SJR_SJR', 'SJR_SJR Best Quartile',\n",
       "       'SJR_Title', 'SJR_Total Cites (3years)', 'SJR_Total Docs. (2015)',\n",
       "       'SJR_Total Docs. (3years)', 'SJR_Total Refs.', 'SJR_Type', 'SN',\n",
       "       'SO', 'SP', 'SU', 'TC', 'TI', 'Tipo', 'U1', 'U2', 'UDEA_autores',\n",
       "       'UDEA_año realiz', 'UDEA_doi', 'UDEA_fecha aplicación',\n",
       "       'UDEA_idioma', 'UDEA_item adic', 'UDEA_material', 'UDEA_nombre',\n",
       "       'UDEA_nombre revista o premio', 'UDEA_nro autores', 'UDEA_país',\n",
       "       'UDEA_procodigo', 'UDEA_ptos', 'UDEA_simple_doi', 'UDEA_título',\n",
       "       'UDEA_título_0', 'UDEA_título_1', 'UDEA_título_2',\n",
       "       'UDEA_valor item', 'UT', 'VL', 'WC', 'WOS_alias', 'WOS_au1', 'Z9',\n",
       "       'pre_UDEA_autores', 'áreas'], dtype=object)"
      ]
     },
     "execution_count": 1089,
     "metadata": {},
     "output_type": "execute_result"
    }
   ],
   "source": [
    "SIU.columns.values"
   ]
  },
  {
   "cell_type": "code",
   "execution_count": 1090,
   "metadata": {},
   "outputs": [],
   "source": [
    "SIU['UDEA_authors']=SIU.UDEA_autores.str.split(';').apply(lambda x: [{'full_name':y} for y in x ])"
   ]
  },
  {
   "cell_type": "markdown",
   "metadata": {},
   "source": [
    "### Merge with official researcher list"
   ]
  },
  {
   "cell_type": "code",
   "execution_count": 1091,
   "metadata": {},
   "outputs": [],
   "source": [
    "AU=drive_files.read_drive_excel('Base_de_datos_investigadores_Definitiva.csv')"
   ]
  },
  {
   "cell_type": "code",
   "execution_count": 1092,
   "metadata": {},
   "outputs": [],
   "source": [
    "AU_columns=list( AU.columns.values )"
   ]
  },
  {
   "cell_type": "code",
   "execution_count": 1093,
   "metadata": {},
   "outputs": [],
   "source": [
    "AU['name_tmp']=(AU['PRIMER APELLIDO']+' '+AU['SEGUNDO APELLIDO']+' '+AU['NOMBRES']).str.lower().str.strip().apply( \n",
    "    unidecode.unidecode )"
   ]
  },
  {
   "cell_type": "code",
   "execution_count": 1094,
   "metadata": {},
   "outputs": [],
   "source": [
    "import unidecode"
   ]
  },
  {
   "cell_type": "code",
   "execution_count": 1097,
   "metadata": {},
   "outputs": [],
   "source": [
    "maxau=SIU['UDEA_authors'].apply(lambda x: [y.get('full_name') for y in x ]).apply(len).max()\n",
    "SIUnew=pd.DataFrame()\n",
    "kkn=SIU.copy()"
   ]
  },
  {
   "cell_type": "code",
   "execution_count": 1098,
   "metadata": {},
   "outputs": [
    {
     "name": "stdout",
     "output_type": "stream",
     "text": [
      "0\n",
      "1\n",
      "2\n",
      "3\n",
      "4\n",
      "5\n",
      "6\n",
      "7\n"
     ]
    }
   ],
   "source": [
    "for i in range(maxau):\n",
    "    print(i)\n",
    "    kkn['name_tmp']=kkn['UDEA_authors'].apply(lambda x: [y.get('full_name') for y in x ]\n",
    "                            ).str[i].apply( lambda x: unidecode.unidecode( x.lower().strip()) \n",
    "                                                      if not pd.isna(x) else x)\n",
    "\n",
    "    newcolumns=['name_tmp']+AU_columns\n",
    "    if not kkn[~kkn['name_tmp'].isna()].empty:\n",
    "        kk=kkn.merge(AU[newcolumns],on='name_tmp',how='left')\n",
    "        kky=kk[~kk['NOMBRE COMPLETO'].isna()].reset_index(drop=True)\n",
    "        kkn=kk[ kk['NOMBRE COMPLETO'].isna()].reset_index(drop=True).drop(\n",
    "               newcolumns,axis='columns')\n",
    "        kky=dictionary_list_add_columns(kky,'UDEA_authors','full_name',i,AU_columns)\n",
    "        \n",
    "        SIUnew=SIUnew.append( kky ).reset_index(drop=True)\n",
    "        #update str[i]\n",
    "    else:\n",
    "        SIUnew=SIUnew.append( kkn, sort=False ).reset_index(drop=True)\n",
    "        break"
   ]
  },
  {
   "cell_type": "code",
   "execution_count": 1103,
   "metadata": {},
   "outputs": [],
   "source": [
    "SIU=SIUnew.drop(newcolumns,axis='columns')"
   ]
  },
  {
   "cell_type": "markdown",
   "metadata": {},
   "source": [
    "TODO: Falta añadir datos a nombres que faltan"
   ]
  },
  {
   "cell_type": "markdown",
   "metadata": {},
   "source": [
    "### Merge with trained data set"
   ]
  },
  {
   "cell_type": "code",
   "execution_count": 1108,
   "metadata": {},
   "outputs": [],
   "source": [
    "SIUDI=SIU[~SIU.DI.isna()].drop_duplicates('DI').reset_index(drop=True)\n",
    "SIUTI=SIU[ SIU.DI.isna()].drop_duplicates('TI').reset_index(drop=True)\n",
    "SIUTI=SIUTI[SIUTI!=''].reset_index(drop=True)\n",
    "SIUTI=SIUTI[~SIUTI.TI.isnull()].reset_index(drop=True)\n",
    "SIUTI=SIUTI[ SIUTI.TI.apply(len)>20 ].reset_index(drop=True)"
   ]
  },
  {
   "cell_type": "code",
   "execution_count": 1109,
   "metadata": {},
   "outputs": [],
   "source": [
    "udea_columns=[       'UDEA_autores',\n",
    "       'UDEA_año realiz', 'UDEA_doi', 'UDEA_fecha aplicación',\n",
    "       'UDEA_idioma', 'UDEA_item adic', 'UDEA_material', 'UDEA_nombre',\n",
    "       'UDEA_nombre revista o premio', 'UDEA_nro autores', 'UDEA_país',\n",
    "       'UDEA_procodigo', 'UDEA_ptos', 'UDEA_simple_doi', 'UDEA_título',\n",
    "       'UDEA_valor item','UDEA_authors']"
   ]
  },
  {
   "cell_type": "code",
   "execution_count": 1110,
   "metadata": {},
   "outputs": [],
   "source": [
    "UDEADI=UDEA[UDEA.DI!=''].drop_duplicates('DI').reset_index(drop=True)\n",
    "UDEATI=UDEA[UDEA.DI==''].drop_duplicates('TI').reset_index(drop=True)"
   ]
  },
  {
   "cell_type": "code",
   "execution_count": 1111,
   "metadata": {},
   "outputs": [],
   "source": [
    "UDEA_mergeDI=UDEADI.merge( SIUDI[ ['DI']+udea_columns ],on='DI',how='left' )"
   ]
  },
  {
   "cell_type": "code",
   "execution_count": 1112,
   "metadata": {},
   "outputs": [
    {
     "data": {
      "text/plain": [
       "((8035, 152), (8035, 169))"
      ]
     },
     "execution_count": 1112,
     "metadata": {},
     "output_type": "execute_result"
    }
   ],
   "source": [
    "UDEADI.shape,UDEA_mergeDI.shape"
   ]
  },
  {
   "cell_type": "code",
   "execution_count": 1113,
   "metadata": {},
   "outputs": [],
   "source": [
    "UDEA_PTJ=UDEA_mergeDI[~UDEA_mergeDI.UDEA_autores.isna()].reset_index(drop=True)\n",
    "UDEA_PTJ_NOT=UDEA_mergeDI[UDEA_mergeDI.UDEA_autores.isna()].reset_index(drop=True)"
   ]
  },
  {
   "cell_type": "code",
   "execution_count": 1114,
   "metadata": {},
   "outputs": [],
   "source": [
    "UDEATI['tmptitle']=UDEATI.TI.str.strip()\n",
    "SIUTI['tmptitle']=SIUTI.TI.str.strip()"
   ]
  },
  {
   "cell_type": "code",
   "execution_count": 1115,
   "metadata": {},
   "outputs": [],
   "source": [
    "kk=UDEATI.merge( SIUTI[ ['tmptitle']+udea_columns ],on='tmptitle',how='left' ).drop('tmptitle',axis='columns')"
   ]
  },
  {
   "cell_type": "code",
   "execution_count": 1116,
   "metadata": {},
   "outputs": [],
   "source": [
    "UDEA_PTJ=UDEA_PTJ.append( kk[ ~kk.UDEA_autores.isna() ] ).reset_index(drop=True)\n",
    "UDEA_PTJ_NOT=UDEA_PTJ_NOT.append( kk[ kk.UDEA_autores.isna() ] ).reset_index(drop=True)"
   ]
  },
  {
   "cell_type": "code",
   "execution_count": 1117,
   "metadata": {},
   "outputs": [
    {
     "data": {
      "text/plain": [
       "(15722, (15726, 152))"
      ]
     },
     "execution_count": 1117,
     "metadata": {},
     "output_type": "execute_result"
    }
   ],
   "source": [
    "UDEA_PTJ.shape[0]+UDEA_PTJ_NOT.shape[0],UDEA.shape"
   ]
  },
  {
   "cell_type": "code",
   "execution_count": 1118,
   "metadata": {},
   "outputs": [
    {
     "data": {
      "text/plain": [
       "((7074, 169), (8648, 169))"
      ]
     },
     "execution_count": 1118,
     "metadata": {},
     "output_type": "execute_result"
    }
   ],
   "source": [
    "UDEA_PTJ.shape,UDEA_PTJ_NOT.shape"
   ]
  },
  {
   "cell_type": "code",
   "execution_count": 1132,
   "metadata": {},
   "outputs": [
    {
     "data": {
      "text/html": [
       "<div>\n",
       "<style scoped>\n",
       "    .dataframe tbody tr th:only-of-type {\n",
       "        vertical-align: middle;\n",
       "    }\n",
       "\n",
       "    .dataframe tbody tr th {\n",
       "        vertical-align: top;\n",
       "    }\n",
       "\n",
       "    .dataframe thead th {\n",
       "        text-align: right;\n",
       "    }\n",
       "</style>\n",
       "<table border=\"1\" class=\"dataframe\">\n",
       "  <thead>\n",
       "    <tr style=\"text-align: right;\">\n",
       "      <th></th>\n",
       "      <th>AB</th>\n",
       "      <th>AF</th>\n",
       "      <th>AR</th>\n",
       "      <th>AU</th>\n",
       "      <th>BA</th>\n",
       "      <th>BE</th>\n",
       "      <th>BF</th>\n",
       "      <th>BN</th>\n",
       "      <th>BP</th>\n",
       "      <th>C1</th>\n",
       "      <th>...</th>\n",
       "      <th>UDEA_nombre</th>\n",
       "      <th>UDEA_nombre revista o premio</th>\n",
       "      <th>UDEA_nro autores</th>\n",
       "      <th>UDEA_país</th>\n",
       "      <th>UDEA_procodigo</th>\n",
       "      <th>UDEA_ptos</th>\n",
       "      <th>UDEA_simple_doi</th>\n",
       "      <th>UDEA_título</th>\n",
       "      <th>UDEA_valor item</th>\n",
       "      <th>UDEA_authors</th>\n",
       "    </tr>\n",
       "  </thead>\n",
       "  <tbody>\n",
       "    <tr>\n",
       "      <th>0</th>\n",
       "      <td></td>\n",
       "      <td></td>\n",
       "      <td></td>\n",
       "      <td>Ramírez, Juan David\\nGiraldo, Santiago Patiño\\...</td>\n",
       "      <td></td>\n",
       "      <td></td>\n",
       "      <td></td>\n",
       "      <td></td>\n",
       "      <td></td>\n",
       "      <td></td>\n",
       "      <td>...</td>\n",
       "      <td>PATIÑO GIRALDO SANTIAGO</td>\n",
       "      <td>ver UDEA_material</td>\n",
       "      <td>3.0</td>\n",
       "      <td>46.0</td>\n",
       "      <td>53961.0</td>\n",
       "      <td>3.6</td>\n",
       "      <td>0.0</td>\n",
       "      <td>LINFOMA PRIMARIO DEL CORAZON, CAUSA POCO COMUN...</td>\n",
       "      <td>SOCIEDAD COLOMBIANA DE CARDIOLOGIA Y CIRUGIA C...</td>\n",
       "      <td>[{'NOMBRES': 'Santiago  ', 'CÉDULA': 8358251.0...</td>\n",
       "    </tr>\n",
       "    <tr>\n",
       "      <th>1</th>\n",
       "      <td></td>\n",
       "      <td></td>\n",
       "      <td></td>\n",
       "      <td>Molina, Marcela\\nPalacio, Juan David\\nVargas, ...</td>\n",
       "      <td></td>\n",
       "      <td></td>\n",
       "      <td></td>\n",
       "      <td></td>\n",
       "      <td></td>\n",
       "      <td></td>\n",
       "      <td>...</td>\n",
       "      <td>LOPEZ JARAMILLO CARLOS ALBERTO</td>\n",
       "      <td>REVISTA COLOMBIANA DE PSIQUIATRIA</td>\n",
       "      <td>7.0</td>\n",
       "      <td>46.0</td>\n",
       "      <td>55920.0</td>\n",
       "      <td>4.3</td>\n",
       "      <td>0.0</td>\n",
       "      <td>DESEMPENO NEUROCOGNITIVO DE PACIENTES CON TRAS...</td>\n",
       "      <td>NaN</td>\n",
       "      <td>[{'NOMBRES': 'Cristian David ', 'CÉDULA': 1017...</td>\n",
       "    </tr>\n",
       "  </tbody>\n",
       "</table>\n",
       "<p>2 rows × 169 columns</p>\n",
       "</div>"
      ],
      "text/plain": [
       "  AB AF AR                                                 AU BA BE BF BN BP  \\\n",
       "0           Ramírez, Juan David\\nGiraldo, Santiago Patiño\\...                  \n",
       "1           Molina, Marcela\\nPalacio, Juan David\\nVargas, ...                  \n",
       "\n",
       "  C1                        ...                          \\\n",
       "0                           ...                           \n",
       "1                           ...                           \n",
       "\n",
       "                      UDEA_nombre       UDEA_nombre revista o premio  \\\n",
       "0         PATIÑO GIRALDO SANTIAGO                  ver UDEA_material   \n",
       "1  LOPEZ JARAMILLO CARLOS ALBERTO  REVISTA COLOMBIANA DE PSIQUIATRIA   \n",
       "\n",
       "  UDEA_nro autores UDEA_país UDEA_procodigo UDEA_ptos UDEA_simple_doi  \\\n",
       "0              3.0      46.0        53961.0       3.6             0.0   \n",
       "1              7.0      46.0        55920.0       4.3             0.0   \n",
       "\n",
       "                                         UDEA_título  \\\n",
       "0  LINFOMA PRIMARIO DEL CORAZON, CAUSA POCO COMUN...   \n",
       "1  DESEMPENO NEUROCOGNITIVO DE PACIENTES CON TRAS...   \n",
       "\n",
       "                                     UDEA_valor item  \\\n",
       "0  SOCIEDAD COLOMBIANA DE CARDIOLOGIA Y CIRUGIA C...   \n",
       "1                                                NaN   \n",
       "\n",
       "                                        UDEA_authors  \n",
       "0  [{'NOMBRES': 'Santiago  ', 'CÉDULA': 8358251.0...  \n",
       "1  [{'NOMBRES': 'Cristian David ', 'CÉDULA': 1017...  \n",
       "\n",
       "[2 rows x 169 columns]"
      ]
     },
     "execution_count": 1132,
     "metadata": {},
     "output_type": "execute_result"
    }
   ],
   "source": [
    "UDEA_PTJ.loc[[0,1]]"
   ]
  },
  {
   "cell_type": "markdown",
   "metadata": {},
   "source": [
    "## Extrapolates to UDEA_PTJ_NOT"
   ]
  },
  {
   "cell_type": "code",
   "execution_count": null,
   "metadata": {},
   "outputs": [],
   "source": []
  },
  {
   "cell_type": "markdown",
   "metadata": {},
   "source": [
    "# TMP"
   ]
  },
  {
   "cell_type": "code",
   "execution_count": 1119,
   "metadata": {},
   "outputs": [
    {
     "data": {
      "text/plain": [
       "array([list(['Univ Antioquia, Hosp Univ San Vicente Fdn, Medellin, Colombia.', 'Univ Antioquia, Dept Obstet & Ginecol, Medellin, Colombia.', 'Univ Antioquia, NACER Salud Sexual & Reprod, Medellin, Colombia.']),\n",
       "       list(['Univ Antioquia, Hosp Univ San Vicente Fdn, Medellin, Colombia.', 'Univ Antioquia, Dept Obstet & Ginecol, Medellin, Colombia.', 'Univ Antioquia, NACER Salud Sexual & Reprod, Medellin, Colombia.']),\n",
       "       list(['Univ Antioquia, Hosp Univ San Vicente Fdn, Medellin, Colombia.', 'Univ Antioquia, Dept Obstet & Ginecol, Medellin, Colombia.', 'Univ Antioquia, NACER Salud Sexual & Reprod, Medellin, Colombia.'])],\n",
       "      dtype=object)"
      ]
     },
     "execution_count": 1119,
     "metadata": {},
     "output_type": "execute_result"
    }
   ],
   "source": [
    "UDEA[ UDEA['authors_WOS'].apply(lambda x: [d for d in  x if d.get('WOS_author')=='Velasquez, Jesus A.']\n",
    "                                if x else x).apply(len)>0 ]['authors_WOS'].str[0].apply( \n",
    "    lambda x: x.get('affiliation')).values"
   ]
  },
  {
   "cell_type": "code",
   "execution_count": 1120,
   "metadata": {},
   "outputs": [
    {
     "data": {
      "text/plain": [
       "('Univ Antioquia, NACER Salud Sexual & Reprod, Medellin, Colombia.',\n",
       " 'Tolosa, Jorge E.')"
      ]
     },
     "execution_count": 1120,
     "metadata": {},
     "output_type": "execute_result"
    }
   ],
   "source": [
    "y2[-1],z"
   ]
  },
  {
   "cell_type": "code",
   "execution_count": 1121,
   "metadata": {},
   "outputs": [
    {
     "data": {
      "text/plain": [
       "['Univ Antioquia, Dept Obstet & Ginecol, Medellin, Colombia.',\n",
       " 'Univ Antioquia, NACER Salud Sexual & Reprod, Medellin, Colombia.']"
      ]
     },
     "execution_count": 1121,
     "metadata": {},
     "output_type": "execute_result"
    }
   ],
   "source": [
    "[ d.get('affiliation') for d in authors if d.get('WOS_author')==z][0]"
   ]
  },
  {
   "cell_type": "code",
   "execution_count": 1122,
   "metadata": {},
   "outputs": [
    {
     "data": {
      "text/plain": [
       "False"
      ]
     },
     "execution_count": 1122,
     "metadata": {},
     "output_type": "execute_result"
    }
   ],
   "source": [
    "y2[-1] not in [ d.get('affiliation') for d in authors if d.get('WOS_author')==z][0]"
   ]
  },
  {
   "cell_type": "code",
   "execution_count": 1125,
   "metadata": {},
   "outputs": [],
   "source": [
    "authors[0]['affiliation'].append('kk')"
   ]
  },
  {
   "cell_type": "code",
   "execution_count": 1126,
   "metadata": {},
   "outputs": [
    {
     "data": {
      "text/plain": [
       "[{'WOS_author': 'Velasquez, Jesus A.',\n",
       "  'affiliation': ['Univ Antioquia, Hosp Univ San Vicente Fdn, Medellin, Colombia.',\n",
       "   'Univ Antioquia, Dept Obstet & Ginecol, Medellin, Colombia.',\n",
       "   'Univ Antioquia, NACER Salud Sexual & Reprod, Medellin, Colombia.',\n",
       "   'kk'],\n",
       "  'i': 0},\n",
       " {'WOS_author': 'Tolosa, Jorge E.',\n",
       "  'affiliation': ['Univ Antioquia, Dept Obstet & Ginecol, Medellin, Colombia.',\n",
       "   'Univ Antioquia, NACER Salud Sexual & Reprod, Medellin, Colombia.'],\n",
       "  'i': 1}]"
      ]
     },
     "execution_count": 1126,
     "metadata": {},
     "output_type": "execute_result"
    }
   ],
   "source": [
    "authors"
   ]
  },
  {
   "cell_type": "markdown",
   "metadata": {},
   "source": [
    "## merge separated named by cedula"
   ]
  },
  {
   "cell_type": "code",
   "execution_count": 1127,
   "metadata": {},
   "outputs": [],
   "source": [
    "affs=UDEA.C1.apply(lambda x: x.split('\\n') if x else x).apply(\n",
    "    lambda x:   [y.replace('[','').replace('] ','; ') for y in x if y.find(affil)>-1 ] if x else x )"
   ]
  },
  {
   "cell_type": "code",
   "execution_count": 1128,
   "metadata": {},
   "outputs": [],
   "source": [
    "affsf=affs.apply(lambda x: [  y.split('; ') for y in x])"
   ]
  },
  {
   "cell_type": "code",
   "execution_count": 1129,
   "metadata": {},
   "outputs": [
    {
     "data": {
      "text/plain": [
       "[None]"
      ]
     },
     "execution_count": 1129,
     "metadata": {},
     "output_type": "execute_result"
    }
   ],
   "source": [
    "affsf.apply( lambda x: [ y.append(x) for y in x]).loc[i]"
   ]
  },
  {
   "cell_type": "code",
   "execution_count": 349,
   "metadata": {},
   "outputs": [],
   "source": [
    "import numpy as np"
   ]
  },
  {
   "cell_type": "code",
   "execution_count": 352,
   "metadata": {},
   "outputs": [
    {
     "data": {
      "text/plain": [
       "array([list(['Velasquez, Jesus A.']),\n",
       "       list(['Velasquez, Jesus A.', 'Tolosa, Jorge E.']),\n",
       "       list(['Velasquez, Jesus A.', 'Tolosa, Jorge E.'])], dtype=object)"
      ]
     },
     "execution_count": 352,
     "metadata": {},
     "output_type": "execute_result"
    }
   ],
   "source": [
    "np.array(x).flatten()"
   ]
  },
  {
   "cell_type": "code",
   "execution_count": 326,
   "metadata": {},
   "outputs": [
    {
     "data": {
      "text/plain": [
       "0        [[Burwick, Richard M.; Tolosa, Jorge E.] Orego...\n",
       "1        [[Burwick, Richard M.; Rincon, Monica; Tolosa,...\n",
       "10       [[Castaneda Gallego, Alba D.; Cardona Arias, J...\n",
       "100      [[Herrera Mejia, Julian; Herrera Mejia, Julian...\n",
       "1000     [[Mesa, C.; Giraldo, C. A.; Angulo, J.; Ruiz, ...\n",
       "10000                                                   []\n",
       "10001                                                   []\n",
       "10002                                                   []\n",
       "10003                                                   []\n",
       "10004                                                   []\n",
       "10005                                                   []\n",
       "10006                                                   []\n",
       "10007                                                   []\n",
       "10008                                                   []\n",
       "10009                                                   []\n",
       "1001     [[Giraldo-Echeverri, C. A.; Taborda, N.; Ruiz,...\n",
       "10010                                                   []\n",
       "10011                                                   []\n",
       "10012                                                   []\n",
       "10013                                                   []\n",
       "10014                                                   []\n",
       "10015                                                   []\n",
       "10016                                                   []\n",
       "10017                                                   []\n",
       "10018                                                   []\n",
       "10019                                                   []\n",
       "1002     [Univ Antioquia, Fac Quim Farmaceut, Bogota, C...\n",
       "10020                                                   []\n",
       "10021                                                   []\n",
       "10022                                                   []\n",
       "                               ...                        \n",
       "9972     [[Obando, Gilberto] Univ Antioquia, Fac Educ, ...\n",
       "9973     [[Luz Botero, Mary] Univ Paris 04, F-75230 Par...\n",
       "9974     [[Reyes-Gomez, E.] Univ Antioquia, Inst Fis, M...\n",
       "9975               [Univ Antioquia, Medellin, Colombia., ]\n",
       "9976     [[Mariela Manjarres, Luz] Univ Antioquia, Escu...\n",
       "9977     [[Ortiz, O. H. Hernandez; Palacio, A. Guerra] ...\n",
       "9978     [[Molina, F. J.] Clin Univ Bolivariana, Dept A...\n",
       "9979     [[Pereanez, Jaime A.; Vargas, Leidy; Fernandez...\n",
       "998      [[Munoz, K.; Maciuk, A.; Figadere, B.] Univ Pa...\n",
       "9980     [[Florville-Alejandre, Tomas R.] Univ Antioqui...\n",
       "9981                                                    []\n",
       "9982                                                    []\n",
       "9983                                                    []\n",
       "9984                                                    []\n",
       "9985                                                    []\n",
       "9986                                                    []\n",
       "9987                                                    []\n",
       "9988                                                    []\n",
       "9989                                                    []\n",
       "999      [[Gallo, J.] Univ Antioquia, Bogota, Colombia., ]\n",
       "9990                                                    []\n",
       "9991                                                    []\n",
       "9992                                                    []\n",
       "9993                                                    []\n",
       "9994                                                    []\n",
       "9995                                                    []\n",
       "9996                                                    []\n",
       "9997                                                    []\n",
       "9998                                                    []\n",
       "9999                                                    []\n",
       "Name: C1, Length: 15726, dtype: object"
      ]
     },
     "execution_count": 326,
     "metadata": {},
     "output_type": "execute_result"
    }
   ],
   "source": [
    "affs"
   ]
  },
  {
   "cell_type": "code",
   "execution_count": 306,
   "metadata": {
    "scrolled": true
   },
   "outputs": [
    {
     "ename": "SyntaxError",
     "evalue": "invalid syntax (<ipython-input-306-8c7b399dee8b>, line 6)",
     "output_type": "error",
     "traceback": [
      "\u001b[0;36m  File \u001b[0;32m\"<ipython-input-306-8c7b399dee8b>\"\u001b[0;36m, line \u001b[0;32m6\u001b[0m\n\u001b[0;31m    for z in y.replace('[','').split('] ')[0].split('; ')\u001b[0m\n\u001b[0m      ^\u001b[0m\n\u001b[0;31mSyntaxError\u001b[0m\u001b[0;31m:\u001b[0m invalid syntax\n"
     ]
    }
   ],
   "source": [
    "i=120\n",
    "i=1\n",
    "affil='Univ Antioquia'\n",
    "affs=UDEA.C1.str.split('\\n').apply(\n",
    "    lambda x:   [ [z,y.replace('[','').split('] ')[-1]\n",
    "                  for z in y.replace('[','').split('] ')[0].split('; ')\n",
    "                  ] for y in x if y.find(affil)>-1 ]if x else x).loc[i]"
   ]
  },
  {
   "cell_type": "code",
   "execution_count": 303,
   "metadata": {},
   "outputs": [
    {
     "data": {
      "text/plain": [
       "{1: 'A', 2: 'A'}"
      ]
     },
     "execution_count": 303,
     "metadata": {},
     "output_type": "execute_result"
    }
   ],
   "source": [
    "{ x:'A' for x in [1,2]} "
   ]
  },
  {
   "cell_type": "code",
   "execution_count": 304,
   "metadata": {
    "scrolled": true
   },
   "outputs": [
    {
     "data": {
      "text/plain": [
       "[{'Velasquez, Jesus A.': 'Univ Antioquia, Hosp Univ San Vicente Fdn, Medellin, Colombia.'},\n",
       " {'Tolosa, Jorge E.': 'Univ Antioquia, Dept Obstet & Ginecol, Medellin, Colombia.',\n",
       "  'Velasquez, Jesus A.': 'Univ Antioquia, Dept Obstet & Ginecol, Medellin, Colombia.'},\n",
       " {'Tolosa, Jorge E.': 'Univ Antioquia, NACER Salud Sexual & Reprod, Medellin, Colombia.',\n",
       "  'Velasquez, Jesus A.': 'Univ Antioquia, NACER Salud Sexual & Reprod, Medellin, Colombia.'}]"
      ]
     },
     "execution_count": 304,
     "metadata": {},
     "output_type": "execute_result"
    }
   ],
   "source": [
    "affs"
   ]
  },
  {
   "cell_type": "code",
   "execution_count": null,
   "metadata": {},
   "outputs": [],
   "source": []
  }
 ],
 "metadata": {
  "colab": {
   "include_colab_link": true,
   "name": "merge.ipynb",
   "provenance": [],
   "version": "0.3.2"
  },
  "kernelspec": {
   "display_name": "Python 3",
   "language": "python",
   "name": "python3"
  },
  "language_info": {
   "codemirror_mode": {
    "name": "ipython",
    "version": 3
   },
   "file_extension": ".py",
   "mimetype": "text/x-python",
   "name": "python",
   "nbconvert_exporter": "python",
   "pygments_lexer": "ipython3",
   "version": "3.5.3"
  }
 },
 "nbformat": 4,
 "nbformat_minor": 1
}
