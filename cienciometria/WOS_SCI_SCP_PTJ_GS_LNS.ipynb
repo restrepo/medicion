{
 "cells": [
  {
   "cell_type": "markdown",
   "metadata": {
    "colab_type": "text",
    "id": "view-in-github"
   },
   "source": [
    "<a href=\"https://colab.research.google.com/github/restrepo/medicion/blob/master/cienciometria/WOS_SCI_SCP.ipynb\" target=\"_parent\"><img src=\"https://colab.research.google.com/assets/colab-badge.svg\" alt=\"Open In Colab\"/></a>"
   ]
  },
  {
   "cell_type": "markdown",
   "metadata": {
    "colab_type": "text",
    "id": "aDnqho-CsEwj"
   },
   "source": [
    "# WOS+SCI+SCP+PTJ+GS+LNS\n",
    "Merge the bibliographic datasets for \n",
    "* Web of Science, \n",
    "* Scielo \n",
    "* Scopus \n",
    "* Google Scholar\n",
    "* Puntaje\n",
    "* Lens\n",
    "of the scientific articles of Universidad de Antioquia\n",
    "\n",
    "For details see [merge.ipynb in Colaboratory](https://colab.research.google.com/github/restrepo/medicion/blob/master/cienciometria/merge.ipynb)"
   ]
  },
  {
   "cell_type": "markdown",
   "metadata": {},
   "source": [
    "## functions"
   ]
  },
  {
   "cell_type": "code",
   "execution_count": 4,
   "metadata": {},
   "outputs": [],
   "source": [
    "import unidecode\n",
    "def get_author_info(x):\n",
    "    sep='; '\n",
    "    authors=[{'WOS_author':x[0].split(sep)[0],'affiliation':[x[0].split(sep)[-1]],'i':0}]\n",
    "    iau=1\n",
    "    for y  in x:\n",
    "        y2=y.replace('[','').replace('] ',sep).split(sep)\n",
    "        for z in y2[:-1]:\n",
    "            aulist=[ d.get('WOS_author') for d in authors]\n",
    "            if z not in aulist:\n",
    "                authors.append({'WOS_author':z,'affiliation':[y2[-1]],'i':iau})\n",
    "                iau=iau+1\n",
    "            else:\n",
    "                if y2[-1] not in [ d.get('affiliation') for d in authors if d.get('WOS_author')==z][0]:\n",
    "                    index_author=[ d.get('i') for d in authors if d.get('WOS_author')==z][0]\n",
    "                    authors[index_author]['affiliation'].append(y2[-1])\n",
    "    return authors\n",
    "\n",
    "def dictionary_list_add_columns(df,df_dl,df_dl_key,df_dl_i,df_columns):\n",
    "    '''\n",
    "    For a\n",
    "     df: Pandas DataFrame \n",
    "    with a:\n",
    "     df_dl: column of list of dictionaries, with\n",
    "     df_dl_key: dictionary key: e.g x=[{df_dl_key:1},{df_dl_key:2}]\n",
    "    for the element df_dl_i of the list:\n",
    "    Update the dictionary with:\n",
    "        df_dl_key==x[df_dl_i][df_dl_key]\n",
    "    with the dictionaries { df_columns[i]: df_columns[i].values }\n",
    "    '''\n",
    "    dff=df.copy()\n",
    "    for key in df_columns:\n",
    "        tmp=dff[df_dl].combine(dff[key],\n",
    "                func=lambda x,y: y if pd.isna(y) \n",
    "                                   else \n",
    "                                     [z.update({key:y}) \n",
    "                                     if z.get(df_dl_key)==x[df_dl_i][df_dl_key] \n",
    "                                     else z \n",
    "                                 for z in x  ] )\n",
    "    return dff\n",
    "\n",
    "def split_full_names(y,full_name='full_name'):\n",
    "    yy=y.get(full_name).title()\n",
    "    lfn=len(y[full_name].split())\n",
    "    aps=0\n",
    "    d={ 'PRIMER APELLIDO':yy.split()[aps] }\n",
    "    aps=aps+1\n",
    "    if lfn>=4:\n",
    "        names=-2\n",
    "        if lfn==5: # Extra name or last name\n",
    "            yyy=yy.split()\n",
    "            ll=pd.np.array( [len(n) for n in yyy ] )\n",
    "            if ll[3:][ ll[3:]  <= 3 ].shape[0]:\n",
    "                # last_names first_first_name de(l) second_first_name\n",
    "                yy=' '.join( [ y for y in yyy if len(y)>=3] )\n",
    "            else: \n",
    "                # first_last name de(l) second_last_name first_names\n",
    "                tmpll=yyy.pop() # internal memory\n",
    "                yy=' '.join( yyy )  \n",
    "        if len( d['PRIMER APELLIDO'] )<=3:\n",
    "            d['PRIMER APELLIDO']=d['PRIMER APELLIDO']+' '+yy.split()[aps]\n",
    "            aps=aps+1\n",
    "            d.update(  {'SEGUNDO APELLIDO':yy.split()[aps]} )\n",
    "            names=names+1\n",
    "            \n",
    "        d.update({'SEGUNDO APELLIDO':yy.split()[aps]})\n",
    "        aps=aps+1\n",
    "        if len( d['SEGUNDO APELLIDO'] )<=3:\n",
    "            d['SEGUNDO APELLIDO']=d['SEGUNDO APELLIDO']+' '+yy.split()[aps]\n",
    "            if names==-2:\n",
    "                names=names+1\n",
    "    elif lfn>=3:        \n",
    "        d.update({'SEGUNDO APELLIDO':yy.split()[aps]})\n",
    "        names=-1\n",
    "    else: #Colombian interpretation (TODO: Includes Brazilian interpretation)    \n",
    "        names=-1\n",
    "    d.update({'NOMBRES':' '.join( yy.split()[names:]),\n",
    "              'INICIALES':' '.join( [z[0]+'.' for z in yy.split()[names:]] ),\n",
    "              })\n",
    "    if not d.get('SEGUNDO APELLIDO'):\n",
    "        d['SEGUNDO APELLIDO']=''\n",
    "    #if not d.get('NOMBRE COMPLETO'):\n",
    "    #    d['NOMBRE COMPLETO']=''        \n",
    "    return d\n",
    "\n",
    "# Creates mask Search key in a list of dictionay\n",
    "# First apply convert null values to string\n",
    "# Second apply: implement a mask\n",
    "def find_key_in_list_of_dictionaries(df,column,key,pattern):\n",
    "    return df[column].apply(lambda x: \n",
    "                [ '' if pd.isnull( y.get(key)) else y for y in x ]  ).apply(\n",
    "                            lambda x: \n",
    "                [ True if y.get(key).find(pattern)>-1 else False for y in x  ][0]  )\n",
    "\n",
    "def key_contains_in_list_of_dictionaries(df,pattern,column='authors_WOS',key='WOS_author'):\n",
    "    #TODO: loop in column len\n",
    "    i=0\n",
    "    r=df[ df[column].str[i].apply(lambda x: {} if pd.isnull(x) else x).apply(\n",
    "                       lambda x: x.get(key) if x else '').str.contains(\n",
    "        pattern) ][column].reset_index(drop=True)\n",
    "    return r"
   ]
  },
  {
   "cell_type": "code",
   "execution_count": 5,
   "metadata": {
    "colab": {},
    "colab_type": "code",
    "id": "nhk2ZGEDd2Yo"
   },
   "outputs": [],
   "source": [
    "import wosplus as wp\n",
    "import numpy as np\n",
    "import pandas as pd\n",
    "import unidecode\n",
    "import os\n",
    "from IPython.display import clear_output\n",
    "pd.set_option('display.max_colwidth',200)"
   ]
  },
  {
   "cell_type": "markdown",
   "metadata": {
    "colab_type": "text",
    "id": "JS7jD1f47JUN"
   },
   "source": [
    "##  Configure public links of  files in Google Drive\n",
    "* If it is a Google Spreadsheet the corresponding file is downloaded as CSV\n",
    "* If it is in excel or text file the file is downloaded  directly\n",
    "\n",
    "To define your  own labeled IDs for public google drive files edit the next cell:"
   ]
  },
  {
   "cell_type": "code",
   "execution_count": 3,
   "metadata": {
    "colab": {
     "base_uri": "https://localhost:8080/",
     "height": 35
    },
    "colab_type": "code",
    "id": "T4Rmd2dF7JUQ",
    "outputId": "39a5835e-1b38-48b6-f1a5-e9964c846123"
   },
   "outputs": [
    {
     "name": "stdout",
     "output_type": "stream",
     "text": [
      "Overwriting drive.cfg\n"
     ]
    }
   ],
   "source": [
    "%%writefile drive.cfg\n",
    "[FILES]\n",
    "UDEA_WOS.xlsx       = 1px2IcrjCrkyu7t78Q7PAE5nzV_yuPt9t\n",
    "UDEA_SCI.xlsx       = 1pWMY5P72j0Ca6D-cm7dn7Q4TBGTs4PWV\n",
    "UDEA_SCP.xlsx       = 1ulCsFHzDiTmuL9TH8F58ulh0u8Z2ylKh\n",
    "UDEA_WOS_SCI_SCP.xlsx   = 1o9otmklgh-0w18Avv2ZTKOXr3vZbjwvj\n",
    "UDEA_WOS_SCI_SCP.json=1RTDCh5pl0vapjJT_e9ZwadHPGBKGGv6Y\n",
    "UDEA_WOS_SCI_SCP.json.gz=19E1C1kRk4I0V3uXojqko8-NEicWaPp1j\n",
    "WOS_SCP_UDEA_SJR_SIU.xlsx=0BxoOXsn2EUNIQ3R4WDhvSzVLQ2s\n",
    "Base_de_datos_investigadores_Definitiva.csv=12oalgUeKhpvzkTPBP8pXCeHTrF-KO223dy9ov9w9QKs\n",
    "UDEA_authors_with_WOS_info.json=1o1eVT4JD0FMMICq_oxrTJOzWh47veBMw"
   ]
  },
  {
   "cell_type": "markdown",
   "metadata": {
    "colab_type": "text",
    "id": "Y0D0hEdAMXUX"
   },
   "source": [
    "##  Load data bases"
   ]
  },
  {
   "cell_type": "code",
   "execution_count": 4,
   "metadata": {
    "colab": {
     "base_uri": "https://localhost:8080/",
     "height": 35
    },
    "colab_type": "code",
    "id": "occzrIeCS7aQ",
    "outputId": "17b144f3-eef0-4c8a-c2b4-10c8fe55802c"
   },
   "outputs": [],
   "source": [
    "affil='Univ Antioquia'\n",
    "drive_files=wp.wosplus('drive.cfg')\n",
    "RECOVER=False\n",
    "if RECOVER==True:\n",
    "    print('Go to: http://fisica.udea.edu.co:4443/user/restrepo/notebooks/prog/medicion/medicion/cienciometria/WOS_SCI_SCP_PTJ_GS_LNS.ipynb#Load-output-restuls-of-previous-Cell-runs')"
   ]
  },
  {
   "cell_type": "code",
   "execution_count": 5,
   "metadata": {
    "colab": {},
    "colab_type": "code",
    "id": "oq9QM3cBYH0a"
   },
   "outputs": [],
   "source": [
    "if os.path.exists('UDEA_WOS_SCI_SCP.json'):\n",
    "    UDEA=pd.read_json('UDEA_WOS_SCI_SCP.json')\n",
    "else:    \n",
    "    UDEA=drive_files.read_drive_json('UDEA_WOS_SCI_SCP.json')"
   ]
  },
  {
   "cell_type": "code",
   "execution_count": 6,
   "metadata": {
    "colab": {
     "base_uri": "https://localhost:8080/",
     "height": 53
    },
    "colab_type": "code",
    "id": "Cb5epW_9iL4s",
    "outputId": "aa6b2752-c475-4ee6-f344-627e377453c9"
   },
   "outputs": [
    {
     "data": {
      "text/plain": [
       "array(['WOS', 'SCI_SCP', 'WOS_SCP', 'WOS_SCI_SCP', 'SCP', 'WOS_SCI',\n",
       "       'SCI'], dtype=object)"
      ]
     },
     "execution_count": 6,
     "metadata": {},
     "output_type": "execute_result"
    }
   ],
   "source": [
    "UDEA.Tipo.unique()"
   ]
  },
  {
   "cell_type": "code",
   "execution_count": 7,
   "metadata": {},
   "outputs": [
    {
     "name": "stdout",
     "output_type": "stream",
     "text": [
      "WOS:1884\n",
      "SCI_SCP:1622\n",
      "WOS_SCP:5824\n",
      "WOS_SCI_SCP:773\n",
      "SCP:2584\n",
      "WOS_SCI:147\n",
      "SCI:2892\n"
     ]
    }
   ],
   "source": [
    "for t in UDEA.Tipo.unique():\n",
    "    print( '{}:{}'.format( t, UDEA[ UDEA.Tipo==t].shape[0] ) )"
   ]
  },
  {
   "cell_type": "markdown",
   "metadata": {},
   "source": [
    "## Extract  affiliation from C1"
   ]
  },
  {
   "cell_type": "code",
   "execution_count": 8,
   "metadata": {},
   "outputs": [],
   "source": [
    "UDEA['authors_WOS']=UDEA.C1.apply(lambda x: x.split('\\n') if x else x).apply(\n",
    "    lambda x:   [y.replace('[','').replace('] ','; ') for y in x if y.find(affil)>-1 ] if x else x ).apply(\n",
    "     lambda x: get_author_info(x) if x else x)\n",
    "\n",
    "# Improve normalization: remove C1s with only affiliation (from Scielo)\n",
    "UDEA['authors_WOS']=UDEA['authors_WOS'].apply( \n",
    "    lambda x: [d for d in x if d.get('WOS_author').find(affil)==-1] if type(x)==list else x )"
   ]
  },
  {
   "cell_type": "markdown",
   "metadata": {},
   "source": [
    "## Load trained old data "
   ]
  },
  {
   "cell_type": "code",
   "execution_count": 9,
   "metadata": {},
   "outputs": [],
   "source": [
    "if os.path.exists('WOS_SCP_UDEA_SJR_SIU.xlsx'):\n",
    "    SIU=pd.read_excel('WOS_SCP_UDEA_SJR_SIU.xlsx')\n",
    "else:    \n",
    "    SIU=drive_files.read_drive_excel('WOS_SCP_UDEA_SJR_SIU.xlsx')"
   ]
  },
  {
   "cell_type": "code",
   "execution_count": 10,
   "metadata": {
    "scrolled": true
   },
   "outputs": [
    {
     "data": {
      "text/plain": [
       "array(['WOS+SCP', 'WOS+SCP+UDEA', 'WOS+SCI+SCP', 'WOS+SCI+SCP+UDEA',\n",
       "       'SCI+SCP', 'SCI+SCP+UDEA', 'SCP', 'SCP+UDEA', 'WOS', 'WOS+UDEA',\n",
       "       'WOS+SCI', 'WOS+SCI+UDEA', 'SCI', 'SCI+UDEA', 'UDEA'], dtype=object)"
      ]
     },
     "execution_count": 10,
     "metadata": {},
     "output_type": "execute_result"
    }
   ],
   "source": [
    "SIU.Tipo.unique()"
   ]
  },
  {
   "cell_type": "code",
   "execution_count": 11,
   "metadata": {},
   "outputs": [],
   "source": [
    "SIU=SIU[SIU.Tipo.str.contains('\\+UDEA')].reset_index(drop=True)"
   ]
  },
  {
   "cell_type": "code",
   "execution_count": 12,
   "metadata": {},
   "outputs": [
    {
     "data": {
      "text/plain": [
       "array(['AB', 'AF', 'AR', 'AU', 'BA', 'BE', 'BF', 'BN', 'BP', 'C1', 'CA',\n",
       "       'CL', 'CR', 'CT', 'CTR_CATEGORÍA G', 'CTR_CATEGORÍA I',\n",
       "       'CTR_Centro', 'CTR_CÉDULA', 'CTR_GRUPO', 'CTR_LINK CVLAC',\n",
       "       'CTR_NOMBRE', 'CTR_Nivel de Formación', 'CTR_Tipo de Vinculación',\n",
       "       'CTR_vinculación GrupLAC', 'CY', 'Clasificación 2016', 'D2', 'DE',\n",
       "       'DI', 'DT', 'EI', 'EM', 'EP', 'FU', 'FX', 'GA', 'GP', 'HO', 'ID',\n",
       "       'IS', 'ISSN', 'J9', 'JI', 'LA', 'MA', 'NR', 'OI', 'PA', 'PD', 'PG',\n",
       "       'PI', 'PM', 'PN', 'PT', 'PU', 'PY', 'RI', 'RP', 'SC', 'SCI_AB',\n",
       "       'SCI_AU', 'SCI_BP', 'SCI_C1', 'SCI_C2', 'SCI_CR', 'SCI_DE',\n",
       "       'SCI_DI', 'SCI_DT', 'SCI_EC', 'SCI_EM', 'SCI_EP', 'SCI_IS',\n",
       "       'SCI_LA', 'SCI_NR', 'SCI_OI', 'SCI_PA', 'SCI_PD', 'SCI_PI',\n",
       "       'SCI_PT', 'SCI_PU', 'SCI_PY', 'SCI_RI', 'SCI_SC', 'SCI_SN',\n",
       "       'SCI_SO', 'SCI_TC', 'SCI_TI', 'SCI_U1', 'SCI_U2', 'SCI_UT',\n",
       "       'SCI_VL', 'SCI_X1', 'SCI_X4', 'SCI_X5', 'SCI_Y1', 'SCI_Y4',\n",
       "       'SCI_Y5', 'SCI_Z1', 'SCI_Z4', 'SCI_Z5', 'SCI_Z9', 'SCI_alias',\n",
       "       'SCI_au1', 'SCP_Abbreviated Source Title', 'SCP_Abstract',\n",
       "       'SCP_Affiliations', 'SCP_Art. No.', 'SCP_Author Keywords',\n",
       "       'SCP_Authors', 'SCP_Authors with affiliations', 'SCP_CODEN',\n",
       "       'SCP_Chemicals/CAS', 'SCP_Cited by', 'SCP_Conference code',\n",
       "       'SCP_Conference date', 'SCP_Conference location',\n",
       "       'SCP_Conference name', 'SCP_Correspondence Address', 'SCP_DOI',\n",
       "       'SCP_Document Type', 'SCP_EID', 'SCP_Editors',\n",
       "       'SCP_Funding Details', 'SCP_Funding Text', 'SCP_ISBN', 'SCP_ISSN',\n",
       "       'SCP_Index Keywords', 'SCP_Issue',\n",
       "       'SCP_Language of Original Document', 'SCP_Link',\n",
       "       'SCP_Manufacturers', 'SCP_Molecular Sequence Numbers',\n",
       "       'SCP_Page count', 'SCP_Page end', 'SCP_Page start',\n",
       "       'SCP_PubMed ID', 'SCP_Publisher', 'SCP_References', 'SCP_Source',\n",
       "       'SCP_Source title', 'SCP_Sponsors', 'SCP_Title', 'SCP_Title_0',\n",
       "       'SCP_Title_1', 'SCP_Title_2', 'SCP_Tradenames', 'SCP_Volume',\n",
       "       'SCP_Year', 'SCP_alias', 'SCP_au1', 'SE', 'SI',\n",
       "       'SJR_Citable Docs. (3years)', 'SJR_Cites / Doc. (2years)',\n",
       "       'SJR_Country', 'SJR_H index', 'SJR_Issn', 'SJR_OpenAccess',\n",
       "       'SJR_Rank', 'SJR_Ref. / Doc.', 'SJR_SJR', 'SJR_SJR Best Quartile',\n",
       "       'SJR_Title', 'SJR_Total Cites (3years)', 'SJR_Total Docs. (2015)',\n",
       "       'SJR_Total Docs. (3years)', 'SJR_Total Refs.', 'SJR_Type', 'SN',\n",
       "       'SO', 'SP', 'SU', 'TC', 'TI', 'Tipo', 'U1', 'U2', 'UDEA_autores',\n",
       "       'UDEA_año realiz', 'UDEA_doi', 'UDEA_fecha aplicación',\n",
       "       'UDEA_idioma', 'UDEA_item adic', 'UDEA_material', 'UDEA_nombre',\n",
       "       'UDEA_nombre revista o premio', 'UDEA_nro autores', 'UDEA_país',\n",
       "       'UDEA_procodigo', 'UDEA_ptos', 'UDEA_simple_doi', 'UDEA_título',\n",
       "       'UDEA_título_0', 'UDEA_título_1', 'UDEA_título_2',\n",
       "       'UDEA_valor item', 'UT', 'VL', 'WC', 'WOS_alias', 'WOS_au1', 'Z9',\n",
       "       'pre_UDEA_autores', 'áreas'], dtype=object)"
      ]
     },
     "execution_count": 12,
     "metadata": {},
     "output_type": "execute_result"
    }
   ],
   "source": [
    "SIU.columns.values"
   ]
  },
  {
   "cell_type": "markdown",
   "metadata": {},
   "source": [
    "TODO: def: Convert value string list into a list of dictionaries"
   ]
  },
  {
   "cell_type": "code",
   "execution_count": 13,
   "metadata": {},
   "outputs": [],
   "source": [
    "SIU['UDEA_autores']=SIU['UDEA_autores'].str.replace('  ',' ')"
   ]
  },
  {
   "cell_type": "code",
   "execution_count": 14,
   "metadata": {},
   "outputs": [],
   "source": [
    "SIU['UDEA_authors']=SIU.UDEA_autores.str.split(';').apply(lambda x: [{'full_name':y} for y in x ])"
   ]
  },
  {
   "cell_type": "markdown",
   "metadata": {},
   "source": [
    "## Merge with official researcher list"
   ]
  },
  {
   "cell_type": "code",
   "execution_count": 15,
   "metadata": {},
   "outputs": [],
   "source": [
    "AU=drive_files.read_drive_excel('Base_de_datos_investigadores_Definitiva.csv')"
   ]
  },
  {
   "cell_type": "code",
   "execution_count": 16,
   "metadata": {},
   "outputs": [],
   "source": [
    "AU_columns=list( AU.columns.values )"
   ]
  },
  {
   "cell_type": "code",
   "execution_count": 17,
   "metadata": {},
   "outputs": [],
   "source": [
    "AU['name_tmp']=(AU['PRIMER APELLIDO']+' '+AU['SEGUNDO APELLIDO']+' '+AU['NOMBRES']).str.lower().str.strip().apply( \n",
    "    unidecode.unidecode )"
   ]
  },
  {
   "cell_type": "code",
   "execution_count": 18,
   "metadata": {},
   "outputs": [],
   "source": [
    "maxau=SIU['UDEA_authors'].apply(lambda x: [y.get('full_name') for y in x ]).apply(len).max()"
   ]
  },
  {
   "cell_type": "code",
   "execution_count": 19,
   "metadata": {},
   "outputs": [],
   "source": [
    "kkn=SIU.copy()"
   ]
  },
  {
   "cell_type": "code",
   "execution_count": 20,
   "metadata": {},
   "outputs": [
    {
     "name": "stdout",
     "output_type": "stream",
     "text": [
      "0\n",
      "1\n",
      "2\n",
      "3\n",
      "4\n",
      "5\n",
      "6\n",
      "7\n",
      "8\n",
      "9\n"
     ]
    }
   ],
   "source": [
    "newcolumns=['name_tmp']+AU_columns\n",
    "for i in range(maxau):\n",
    "    print(i)\n",
    "    kkn['name_tmp']=kkn['UDEA_authors'].apply(lambda x: [y.get('full_name') for y in x ]\n",
    "                            ).str[i].apply( lambda x: unidecode.unidecode( x.lower().strip()) \n",
    "                                                      if not pd.isna(x) else x)\n",
    "    if not kkn[~kkn['name_tmp'].isna()].empty:\n",
    "        kkn=kkn.merge(AU[newcolumns],on='name_tmp',how='left').reset_index(drop=True)\n",
    "        kkn=dictionary_list_add_columns(kkn,'UDEA_authors','full_name',i,AU_columns)\n",
    "        kkn=kkn.drop(newcolumns,axis='columns')"
   ]
  },
  {
   "cell_type": "markdown",
   "metadata": {},
   "source": [
    "https://stackoverflow.com/a/29530601/2268280"
   ]
  },
  {
   "cell_type": "markdown",
   "metadata": {},
   "source": [
    "BUG: Cells filled with nans"
   ]
  },
  {
   "cell_type": "code",
   "execution_count": 21,
   "metadata": {},
   "outputs": [
    {
     "data": {
      "text/plain": [
       "((7916, 205), (7916, 205))"
      ]
     },
     "execution_count": 21,
     "metadata": {},
     "output_type": "execute_result"
    }
   ],
   "source": [
    "kkn.shape,SIU.shape"
   ]
  },
  {
   "cell_type": "code",
   "execution_count": 22,
   "metadata": {},
   "outputs": [],
   "source": [
    "SIU=kkn.copy()"
   ]
  },
  {
   "cell_type": "code",
   "execution_count": 23,
   "metadata": {},
   "outputs": [
    {
     "data": {
      "text/html": [
       "<div>\n",
       "<style scoped>\n",
       "    .dataframe tbody tr th:only-of-type {\n",
       "        vertical-align: middle;\n",
       "    }\n",
       "\n",
       "    .dataframe tbody tr th {\n",
       "        vertical-align: top;\n",
       "    }\n",
       "\n",
       "    .dataframe thead th {\n",
       "        text-align: right;\n",
       "    }\n",
       "</style>\n",
       "<table border=\"1\" class=\"dataframe\">\n",
       "  <thead>\n",
       "    <tr style=\"text-align: right;\">\n",
       "      <th></th>\n",
       "      <th>CÉDULA</th>\n",
       "      <th>NOMBRE COMPLETO</th>\n",
       "      <th>NOMBRES</th>\n",
       "      <th>PRIMER APELLIDO</th>\n",
       "      <th>SEGUNDO APELLIDO</th>\n",
       "      <th>FACULTAD</th>\n",
       "      <th>DEPARTAMENTO</th>\n",
       "      <th>GRUPO</th>\n",
       "      <th>name_tmp</th>\n",
       "    </tr>\n",
       "  </thead>\n",
       "  <tbody>\n",
       "    <tr>\n",
       "      <th>234</th>\n",
       "      <td>15386534</td>\n",
       "      <td>Oscar Alberto Zapata Noreña</td>\n",
       "      <td>Oscar Alberto</td>\n",
       "      <td>Zapata</td>\n",
       "      <td>Noreña</td>\n",
       "      <td>Facultad de Ciencias Exactas y Naturales</td>\n",
       "      <td>Instituto de Física</td>\n",
       "      <td>Grupo de Fenomenologia de Interacciones Fundam...</td>\n",
       "      <td>zapata norena oscar alberto</td>\n",
       "    </tr>\n",
       "  </tbody>\n",
       "</table>\n",
       "</div>"
      ],
      "text/plain": [
       "       CÉDULA              NOMBRE COMPLETO         NOMBRES PRIMER APELLIDO  \\\n",
       "234  15386534  Oscar Alberto Zapata Noreña  Oscar Alberto           Zapata   \n",
       "\n",
       "    SEGUNDO APELLIDO                                  FACULTAD  \\\n",
       "234           Noreña  Facultad de Ciencias Exactas y Naturales   \n",
       "\n",
       "            DEPARTAMENTO                                              GRUPO  \\\n",
       "234  Instituto de Física  Grupo de Fenomenologia de Interacciones Fundam...   \n",
       "\n",
       "                        name_tmp  \n",
       "234  zapata norena oscar alberto  "
      ]
     },
     "execution_count": 23,
     "metadata": {},
     "output_type": "execute_result"
    }
   ],
   "source": [
    "AU[ AU['NOMBRE COMPLETO'].str.contains('Oscar Alberto Zapata Noreña') ]"
   ]
  },
  {
   "cell_type": "markdown",
   "metadata": {},
   "source": [
    "Quality check"
   ]
  },
  {
   "cell_type": "code",
   "execution_count": 24,
   "metadata": {},
   "outputs": [
    {
     "data": {
      "text/plain": [
       "[{'CÉDULA': 15386534.0,\n",
       "  'DEPARTAMENTO': 'Instituto de Física',\n",
       "  'FACULTAD': 'Facultad de Ciencias Exactas y Naturales',\n",
       "  'GRUPO': 'Grupo de Fenomenologia de Interacciones Fundamentales',\n",
       "  'NOMBRE COMPLETO': 'Oscar Alberto Zapata Noreña',\n",
       "  'NOMBRES': 'Oscar Alberto ',\n",
       "  'PRIMER APELLIDO': 'Zapata',\n",
       "  'SEGUNDO APELLIDO': 'Noreña',\n",
       "  'full_name': 'ZAPATA NOREÑA OSCAR ALBERTO'},\n",
       " {'CÉDULA': 8287417.0,\n",
       "  'DEPARTAMENTO': 'Instituto de Física',\n",
       "  'FACULTAD': 'Facultad de Ciencias Exactas y Naturales',\n",
       "  'GRUPO': 'Grupo de Fenomenologia de Interacciones Fundamentales',\n",
       "  'NOMBRE COMPLETO': 'William Antonio Ponce Gutierrez',\n",
       "  'NOMBRES': 'William Antonio ',\n",
       "  'PRIMER APELLIDO': 'Ponce',\n",
       "  'SEGUNDO APELLIDO': 'Gutierrez',\n",
       "  'full_name': 'PONCE GUTIERREZ WILLIAM ANTONIO'}]"
      ]
     },
     "execution_count": 24,
     "metadata": {},
     "output_type": "execute_result"
    }
   ],
   "source": [
    "SIU[ find_key_in_list_of_dictionaries(SIU,'UDEA_authors','full_name','ZAPATA') ].UDEA_authors.loc[241]"
   ]
  },
  {
   "cell_type": "code",
   "execution_count": 25,
   "metadata": {},
   "outputs": [
    {
     "data": {
      "text/plain": [
       "[{'CÉDULA': 8287417.0,\n",
       "  'DEPARTAMENTO': 'Instituto de Física',\n",
       "  'FACULTAD': 'Facultad de Ciencias Exactas y Naturales',\n",
       "  'GRUPO': 'Grupo de Fenomenologia de Interacciones Fundamentales',\n",
       "  'NOMBRE COMPLETO': 'William Antonio Ponce Gutierrez',\n",
       "  'NOMBRES': 'William Antonio ',\n",
       "  'PRIMER APELLIDO': 'Ponce',\n",
       "  'SEGUNDO APELLIDO': 'Gutierrez',\n",
       "  'full_name': 'PONCE GUTIERREZ WILLIAM ANTONIO'}]"
      ]
     },
     "execution_count": 25,
     "metadata": {},
     "output_type": "execute_result"
    }
   ],
   "source": [
    "SIU[ find_key_in_list_of_dictionaries(SIU,'UDEA_authors','full_name','PONCE')\n",
    "   ].UDEA_authors.reset_index(drop=True).loc[0]"
   ]
  },
  {
   "cell_type": "markdown",
   "metadata": {},
   "source": [
    "## Merge with trained data set"
   ]
  },
  {
   "cell_type": "markdown",
   "metadata": {},
   "source": [
    "Merge requires split in DI and TI"
   ]
  },
  {
   "cell_type": "code",
   "execution_count": 26,
   "metadata": {},
   "outputs": [],
   "source": [
    "SIUDI=SIU[~SIU.DI.isna()].drop_duplicates('DI').reset_index(drop=True)\n",
    "SIUTI=SIU[ SIU.DI.isna()].drop_duplicates('TI').reset_index(drop=True)\n",
    "SIUTI=SIUTI[SIUTI!=''].reset_index(drop=True)\n",
    "SIUTI=SIUTI[~SIUTI.TI.isnull()].reset_index(drop=True)\n",
    "SIUTI=SIUTI[ SIUTI.TI.apply(len)>20 ].reset_index(drop=True)"
   ]
  },
  {
   "cell_type": "code",
   "execution_count": 27,
   "metadata": {},
   "outputs": [],
   "source": [
    "udea_columns=[       'UDEA_autores',\n",
    "       'UDEA_año realiz', 'UDEA_doi', 'UDEA_fecha aplicación',\n",
    "       'UDEA_idioma', 'UDEA_item adic', 'UDEA_material', 'UDEA_nombre',\n",
    "       'UDEA_nombre revista o premio', 'UDEA_nro autores', 'UDEA_país',\n",
    "       'UDEA_procodigo', 'UDEA_ptos', 'UDEA_simple_doi', 'UDEA_título',\n",
    "       'UDEA_valor item','UDEA_authors']"
   ]
  },
  {
   "cell_type": "code",
   "execution_count": 28,
   "metadata": {},
   "outputs": [],
   "source": [
    "UDEADI=UDEA[UDEA.DI!=''].drop_duplicates('DI').reset_index(drop=True)\n",
    "UDEATI=UDEA[UDEA.DI==''].drop_duplicates('TI').reset_index(drop=True)"
   ]
  },
  {
   "cell_type": "code",
   "execution_count": 29,
   "metadata": {},
   "outputs": [],
   "source": [
    "UDEA_mergeDI=UDEADI.merge( SIUDI[ ['DI']+udea_columns ],on='DI',how='left' )"
   ]
  },
  {
   "cell_type": "code",
   "execution_count": 30,
   "metadata": {},
   "outputs": [
    {
     "data": {
      "text/plain": [
       "((8035, 152), (8035, 169))"
      ]
     },
     "execution_count": 30,
     "metadata": {},
     "output_type": "execute_result"
    }
   ],
   "source": [
    "UDEADI.shape,UDEA_mergeDI.shape"
   ]
  },
  {
   "cell_type": "code",
   "execution_count": 31,
   "metadata": {},
   "outputs": [],
   "source": [
    "UDEA_PTJ=UDEA_mergeDI[~UDEA_mergeDI.UDEA_autores.isna()].reset_index(drop=True)\n",
    "UDEA_PTJ_NOT=UDEA_mergeDI[UDEA_mergeDI.UDEA_autores.isna()].reset_index(drop=True)"
   ]
  },
  {
   "cell_type": "code",
   "execution_count": 32,
   "metadata": {},
   "outputs": [],
   "source": [
    "UDEATI['tmptitle']=UDEATI.TI.str.strip()\n",
    "SIUTI['tmptitle']=SIUTI.TI.str.strip()"
   ]
  },
  {
   "cell_type": "code",
   "execution_count": 33,
   "metadata": {},
   "outputs": [],
   "source": [
    "kk=UDEATI.merge( SIUTI[ ['tmptitle']+udea_columns ],on='tmptitle',how='left' ).drop('tmptitle',axis='columns')"
   ]
  },
  {
   "cell_type": "code",
   "execution_count": 34,
   "metadata": {},
   "outputs": [],
   "source": [
    "UDEA_PTJ=UDEA_PTJ.append( kk[ ~kk.UDEA_autores.isna() ] ).reset_index(drop=True)\n",
    "UDEA_PTJ_NOT=UDEA_PTJ_NOT.append( kk[ kk.UDEA_autores.isna() ] ).reset_index(drop=True)"
   ]
  },
  {
   "cell_type": "code",
   "execution_count": 35,
   "metadata": {},
   "outputs": [
    {
     "data": {
      "text/plain": [
       "(15722, (15726, 152))"
      ]
     },
     "execution_count": 35,
     "metadata": {},
     "output_type": "execute_result"
    }
   ],
   "source": [
    "UDEA_PTJ.shape[0]+UDEA_PTJ_NOT.shape[0],UDEA.shape"
   ]
  },
  {
   "cell_type": "code",
   "execution_count": 36,
   "metadata": {},
   "outputs": [
    {
     "data": {
      "text/plain": [
       "((7074, 169), (8648, 169))"
      ]
     },
     "execution_count": 36,
     "metadata": {},
     "output_type": "execute_result"
    }
   ],
   "source": [
    "UDEA_PTJ.shape,UDEA_PTJ_NOT.shape"
   ]
  },
  {
   "cell_type": "code",
   "execution_count": 37,
   "metadata": {},
   "outputs": [
    {
     "data": {
      "text/html": [
       "<div>\n",
       "<style scoped>\n",
       "    .dataframe tbody tr th:only-of-type {\n",
       "        vertical-align: middle;\n",
       "    }\n",
       "\n",
       "    .dataframe tbody tr th {\n",
       "        vertical-align: top;\n",
       "    }\n",
       "\n",
       "    .dataframe thead th {\n",
       "        text-align: right;\n",
       "    }\n",
       "</style>\n",
       "<table border=\"1\" class=\"dataframe\">\n",
       "  <thead>\n",
       "    <tr style=\"text-align: right;\">\n",
       "      <th></th>\n",
       "      <th>AB</th>\n",
       "      <th>AF</th>\n",
       "      <th>AR</th>\n",
       "      <th>AU</th>\n",
       "      <th>BA</th>\n",
       "      <th>BE</th>\n",
       "      <th>BF</th>\n",
       "      <th>BN</th>\n",
       "      <th>BP</th>\n",
       "      <th>C1</th>\n",
       "      <th>...</th>\n",
       "      <th>UDEA_nombre</th>\n",
       "      <th>UDEA_nombre revista o premio</th>\n",
       "      <th>UDEA_nro autores</th>\n",
       "      <th>UDEA_país</th>\n",
       "      <th>UDEA_procodigo</th>\n",
       "      <th>UDEA_ptos</th>\n",
       "      <th>UDEA_simple_doi</th>\n",
       "      <th>UDEA_título</th>\n",
       "      <th>UDEA_valor item</th>\n",
       "      <th>UDEA_authors</th>\n",
       "    </tr>\n",
       "  </thead>\n",
       "  <tbody>\n",
       "    <tr>\n",
       "      <th>0</th>\n",
       "      <td></td>\n",
       "      <td></td>\n",
       "      <td></td>\n",
       "      <td>Ramírez, Juan David\\nGiraldo, Santiago Patiño\\...</td>\n",
       "      <td></td>\n",
       "      <td></td>\n",
       "      <td></td>\n",
       "      <td></td>\n",
       "      <td></td>\n",
       "      <td></td>\n",
       "      <td>...</td>\n",
       "      <td>PATIÑO GIRALDO SANTIAGO</td>\n",
       "      <td>ver UDEA_material</td>\n",
       "      <td>3.0</td>\n",
       "      <td>46.0</td>\n",
       "      <td>53961.0</td>\n",
       "      <td>3.6</td>\n",
       "      <td>0.0</td>\n",
       "      <td>LINFOMA PRIMARIO DEL CORAZON, CAUSA POCO COMUN...</td>\n",
       "      <td>SOCIEDAD COLOMBIANA DE CARDIOLOGIA Y CIRUGIA C...</td>\n",
       "      <td>[{'CÉDULA': 8358251.0, 'SEGUNDO APELLIDO': 'Gi...</td>\n",
       "    </tr>\n",
       "    <tr>\n",
       "      <th>1</th>\n",
       "      <td></td>\n",
       "      <td></td>\n",
       "      <td></td>\n",
       "      <td>Molina, Marcela\\nPalacio, Juan David\\nVargas, ...</td>\n",
       "      <td></td>\n",
       "      <td></td>\n",
       "      <td></td>\n",
       "      <td></td>\n",
       "      <td></td>\n",
       "      <td></td>\n",
       "      <td>...</td>\n",
       "      <td>LOPEZ JARAMILLO CARLOS ALBERTO</td>\n",
       "      <td>REVISTA COLOMBIANA DE PSIQUIATRIA</td>\n",
       "      <td>7.0</td>\n",
       "      <td>46.0</td>\n",
       "      <td>55920.0</td>\n",
       "      <td>4.3</td>\n",
       "      <td>0.0</td>\n",
       "      <td>DESEMPENO NEUROCOGNITIVO DE PACIENTES CON TRAS...</td>\n",
       "      <td>NaN</td>\n",
       "      <td>[{'CÉDULA': 1017126043.0, 'SEGUNDO APELLIDO': ...</td>\n",
       "    </tr>\n",
       "  </tbody>\n",
       "</table>\n",
       "<p>2 rows × 169 columns</p>\n",
       "</div>"
      ],
      "text/plain": [
       "  AB AF AR                                                 AU BA BE BF BN BP  \\\n",
       "0           Ramírez, Juan David\\nGiraldo, Santiago Patiño\\...                  \n",
       "1           Molina, Marcela\\nPalacio, Juan David\\nVargas, ...                  \n",
       "\n",
       "  C1                        ...                          \\\n",
       "0                           ...                           \n",
       "1                           ...                           \n",
       "\n",
       "                      UDEA_nombre       UDEA_nombre revista o premio  \\\n",
       "0         PATIÑO GIRALDO SANTIAGO                  ver UDEA_material   \n",
       "1  LOPEZ JARAMILLO CARLOS ALBERTO  REVISTA COLOMBIANA DE PSIQUIATRIA   \n",
       "\n",
       "  UDEA_nro autores UDEA_país UDEA_procodigo UDEA_ptos UDEA_simple_doi  \\\n",
       "0              3.0      46.0        53961.0       3.6             0.0   \n",
       "1              7.0      46.0        55920.0       4.3             0.0   \n",
       "\n",
       "                                         UDEA_título  \\\n",
       "0  LINFOMA PRIMARIO DEL CORAZON, CAUSA POCO COMUN...   \n",
       "1  DESEMPENO NEUROCOGNITIVO DE PACIENTES CON TRAS...   \n",
       "\n",
       "                                     UDEA_valor item  \\\n",
       "0  SOCIEDAD COLOMBIANA DE CARDIOLOGIA Y CIRUGIA C...   \n",
       "1                                                NaN   \n",
       "\n",
       "                                        UDEA_authors  \n",
       "0  [{'CÉDULA': 8358251.0, 'SEGUNDO APELLIDO': 'Gi...  \n",
       "1  [{'CÉDULA': 1017126043.0, 'SEGUNDO APELLIDO': ...  \n",
       "\n",
       "[2 rows x 169 columns]"
      ]
     },
     "execution_count": 37,
     "metadata": {},
     "output_type": "execute_result"
    }
   ],
   "source": [
    "UDEA_PTJ.loc[[0,1]]"
   ]
  },
  {
   "cell_type": "code",
   "execution_count": 38,
   "metadata": {},
   "outputs": [],
   "source": [
    "UDEA=UDEA_PTJ.append(\n",
    "    UDEA_PTJ_NOT).reset_index(\n",
    "    drop=True)"
   ]
  },
  {
   "cell_type": "code",
   "execution_count": 39,
   "metadata": {},
   "outputs": [
    {
     "data": {
      "text/plain": [
       "1    [{'WOS_author': 'Restrepo, D.', 'affiliation':...\n",
       "2    [{'WOS_author': 'Restrepo, Diego', 'affiliatio...\n",
       "Name: authors_WOS, dtype: object"
      ]
     },
     "execution_count": 39,
     "metadata": {},
     "output_type": "execute_result"
    }
   ],
   "source": [
    "key_contains_in_list_of_dictionaries(UDEA,'Restrepo, D',column='authors_WOS',key='WOS_author').loc[1:2]"
   ]
  },
  {
   "cell_type": "code",
   "execution_count": 40,
   "metadata": {},
   "outputs": [],
   "source": [
    "UDEA.to_json('UDEAtmp.json')"
   ]
  },
  {
   "cell_type": "code",
   "execution_count": 41,
   "metadata": {},
   "outputs": [],
   "source": [
    "RECOVER=False\n",
    "if RECOVER:\n",
    "    UDEA=pd.read_json('UDEAtmp.json').reset_index(drop=True)"
   ]
  },
  {
   "cell_type": "code",
   "execution_count": null,
   "metadata": {},
   "outputs": [],
   "source": []
  },
  {
   "cell_type": "markdown",
   "metadata": {},
   "source": [
    "## Add `UDEA.authors_WOS` info* within `UDEA.UDEA_authors` data**\n",
    "(\\*) obtained from `UDEA.C1`\n",
    "\n",
    "(\\*\\*) Obtained from [puntaje trained old UDEA data](./WOS_SCI_SCP_PTJ_GS_LNS.ipynb#Merge-with-trained-data-set) and the [official researcher list](./WOS_SCI_SCP_PTJ_GS_LNS.ipynb#Merge-with-official-researcher-list)"
   ]
  },
  {
   "cell_type": "markdown",
   "metadata": {},
   "source": [
    "Obtain name parts and initials from full name in `UDEA_authors` dictionary and update `UDEA_authors` with them"
   ]
  },
  {
   "cell_type": "code",
   "execution_count": 42,
   "metadata": {},
   "outputs": [],
   "source": [
    "# tmp is for update dict\n",
    "dictupdatetmp=UDEA['UDEA_authors'].apply(lambda x: [y.update( \n",
    "                split_full_names(y,full_name='full_name')  ) if not pd.isnull(\n",
    "                y.get('full_name')) else y for y in x] \n",
    "                                   if type(x)==list \n",
    "                                   else x)"
   ]
  },
  {
   "cell_type": "code",
   "execution_count": 43,
   "metadata": {},
   "outputs": [],
   "source": [
    "x,y=UDEA['authors_WOS'].combine( UDEA['UDEA_authors'], func=lambda x,y:(x,y) ).loc[92]"
   ]
  },
  {
   "cell_type": "code",
   "execution_count": 44,
   "metadata": {},
   "outputs": [
    {
     "data": {
      "text/plain": [
       "[{'WOS_author': 'Echeverri Alvarez, Jonathan',\n",
       "  'affiliation': ['Univ Antioquia, Antioquia, Colombia.'],\n",
       "  'i': 0},\n",
       " {'WOS_author': 'Chaves Castano, Liliana',\n",
       "  'affiliation': ['Univ Antioquia, Antioquia, Colombia.'],\n",
       "  'i': 1}]"
      ]
     },
     "execution_count": 44,
     "metadata": {},
     "output_type": "execute_result"
    }
   ],
   "source": [
    "x"
   ]
  },
  {
   "cell_type": "code",
   "execution_count": 45,
   "metadata": {},
   "outputs": [
    {
     "data": {
      "text/plain": [
       "[{'CÉDULA': 43724493.0,\n",
       "  'DEPARTAMENTO': 'Departamento de Sicología',\n",
       "  'FACULTAD': 'Facultad de Ciencias Sociales y Humanas',\n",
       "  'GRUPO': 'Grupo de investigación en psicologia cognitiva',\n",
       "  'INICIALES': 'L.',\n",
       "  'NOMBRE COMPLETO': 'Liliana Chaves Castaño',\n",
       "  'NOMBRES': 'Liliana',\n",
       "  'PRIMER APELLIDO': 'Chaves',\n",
       "  'SEGUNDO APELLIDO': 'Castaño',\n",
       "  'full_name': 'CHAVES CASTAÑO LILIANA'}]"
      ]
     },
     "execution_count": 45,
     "metadata": {},
     "output_type": "execute_result"
    }
   ],
   "source": [
    "y"
   ]
  },
  {
   "cell_type": "code",
   "execution_count": 46,
   "metadata": {},
   "outputs": [],
   "source": [
    "def wos_names_append(wos_names,last_name,first_names,initials):\n",
    "    wos_names=wos_names+[           last_name+', '+first_names]\n",
    "    if len( first_names.split())>1:\n",
    "        wos_names=wos_names+[ last_name+', '+first_names.split()[0] ]\n",
    "    if len( first_names.split())==2 and  len(first_names.split()[-1]):\n",
    "        wos_names=wos_names+[ last_name+', '+first_names.split()[-1] ]\n",
    "    wos_names=wos_names+[ last_name+', '+initials]\n",
    "    if len( initials.split())>1:\n",
    "        wos_names=wos_names+[ last_name+', '+initials.split()[0]]\n",
    "    if len(initials.split())==2:\n",
    "        wos_names=wos_names+[\n",
    "              last_name+', '+first_names.split()[0]+' '+initials.split()[-1] ]\n",
    "        wos_names=wos_names+[last_name+', '+initials.split()[-1] ]\n",
    "    return wos_names\n",
    "    \n",
    "def wos_names_list(dy ,y_keys=['PRIMER APELLIDO','NOMBRES','INICIALES','SEGUNDO APELLIDO','full_name']   ):\n",
    "    last_name= unidecode.unidecode( dy[y_keys[0]]   )\n",
    "    first_names=unidecode.unidecode( dy[y_keys[1]]  )\n",
    "    initials=unidecode.unidecode( dy[y_keys[2]]  )\n",
    "\n",
    "    wos_names=[]\n",
    "    wos_names=wos_names_append(wos_names,last_name,first_names,initials)\n",
    "    \n",
    "    if dy.get( y_keys[3] ):\n",
    "        last_names= unidecode.unidecode( dy[y_keys[0]]+'-'+dy[y_keys[3]]   )\n",
    "        wos_names=wos_names_append(wos_names,last_names,first_names,initials)\n",
    "    return wos_names\n",
    "    \n",
    "def combinewos(x,y,x_keys=['WOS_author','affiliation'],\n",
    "                   y_keys=['PRIMER APELLIDO','NOMBRES','INICIALES','SEGUNDO APELLIDO','full_name'],\n",
    "                   xy_keys=['WOS_author','WOS_affiliation']):\n",
    "    if type(x)==list and type(y)==list:\n",
    "        for dx in x:\n",
    "            wos_name=unidecode.unidecode( dx[ x_keys[0] ] )\n",
    "            WOS_affiliation= dx[x_keys[1]]\n",
    "            # Try by buildinng spanish-like names list                                \n",
    "            for i in range( len(y) ):\n",
    "                if wos_name.title() in wos_names_list(y[i] ,y_keys):\n",
    "                    y[i][  xy_keys[0] ]=[ wos_name ]\n",
    "                    y[i][  xy_keys[1] ]=WOS_affiliation\n",
    "                    break\n",
    "            #Try again but comparing full lists\n",
    "            wos_name_to_list=wos_name.replace(',','').replace('-',' ').title().split()\n",
    "            for i in range( len(y) ):\n",
    "                yi_to_list=unidecode.unidecode( y[i][y_keys[4]].title() )\n",
    "                if yi_to_list:\n",
    "                    yi_to_list=yi_to_list.split()\n",
    "                else:\n",
    "                    yi_to_list=[]\n",
    "                if not pd.np.setdiff1d(wos_name_to_list,yi_to_list).shape[0]:\n",
    "                    y[i][  xy_keys[0] ]=[ wos_name ]\n",
    "                    y[i][  xy_keys[1] ]=WOS_affiliation\n",
    "                    break\n",
    "            #Try again but comparing full lists with initials\n",
    "            wos_name_to_list=wos_name.replace(',','').replace('-',' ').title().split()\n",
    "            for i in range( len(y) ):\n",
    "                yi_to_list=[y[i][y_keys[0]],y[i][y_keys[3]] ]+y[i][y_keys[2]].split()\n",
    "                if not pd.np.setdiff1d(wos_name_to_list,yi_to_list).shape[0]:\n",
    "                    y[i][  xy_keys[0] ]=[ wos_name ]\n",
    "                    y[i][  xy_keys[1] ]=WOS_affiliation\n",
    "                    break\n",
    "            #Try again but comparing full lists with first first name and initial\n",
    "            for i in range( len(y) ):\n",
    "                yi_to_list=[y[i][y_keys[0]],y[i][y_keys[3]],y[i][y_keys[1]].split()[0],\n",
    "                              y[i][y_keys[2]].split()[-1]]\n",
    "                if not pd.np.setdiff1d(wos_name_to_list,yi_to_list).shape[0]:\n",
    "                    y[i][  xy_keys[0] ]=[ wos_name ]\n",
    "                    y[i][  xy_keys[1] ]=WOS_affiliation\n",
    "                    break                    \n",
    "            #Try again but comparing full lists with second first name and initial\n",
    "            for i in range( len(y) ):\n",
    "                yi_to_list=[y[i][y_keys[0]],y[i][y_keys[3]],y[i][y_keys[1]].split()[-1],\n",
    "                              y[i][y_keys[2]].split()[0]]\n",
    "                if not pd.np.setdiff1d(wos_name_to_list,yi_to_list).shape[0]:\n",
    "                    y[i][  xy_keys[0] ]=[ wos_name ]\n",
    "                    y[i][  xy_keys[1] ]=WOS_affiliation\n",
    "                    break                    \n",
    "                    \n",
    "                    \n",
    "    return y"
   ]
  },
  {
   "cell_type": "code",
   "execution_count": 47,
   "metadata": {},
   "outputs": [
    {
     "data": {
      "text/plain": [
       "['Chaves, Liliana',\n",
       " 'Chaves, L.',\n",
       " 'Chaves-Castano, Liliana',\n",
       " 'Chaves-Castano, L.']"
      ]
     },
     "execution_count": 47,
     "metadata": {},
     "output_type": "execute_result"
    }
   ],
   "source": [
    "wos_names_list( split_full_names( y[0] ) )"
   ]
  },
  {
   "cell_type": "code",
   "execution_count": 48,
   "metadata": {},
   "outputs": [
    {
     "data": {
      "text/plain": [
       "[{'CÉDULA': 15513744.0,\n",
       "  'DEPARTAMENTO': 'Departamento de Matemáticas',\n",
       "  'FACULTAD': 'Facultad de Ciencias Exactas y Naturales',\n",
       "  'GRUPO': 'Análisis Multivariado',\n",
       "  'INICIALES': 'E. J.',\n",
       "  'NOMBRE COMPLETO': 'Edwin De Jesus Zarrazola Rivera',\n",
       "  'NOMBRES': 'Edwin Jesus',\n",
       "  'PRIMER APELLIDO': 'Zarrazola',\n",
       "  'SEGUNDO APELLIDO': 'Rivera',\n",
       "  'full_name': 'ZARRAZOLA RIVERA EDWIN DE JESUS'},\n",
       " {'INICIALES': 'K.',\n",
       "  'NOMBRES': 'Krishna',\n",
       "  'PRIMER APELLIDO': 'Nagar',\n",
       "  'SEGUNDO APELLIDO': 'Daya',\n",
       "  'full_name': 'NAGAR DAYA KRISHNA'},\n",
       " {'INICIALES': 'D. S.',\n",
       "  'NOMBRES': 'Del Socor',\n",
       "  'PRIMER APELLIDO': 'Sanchez',\n",
       "  'SEGUNDO APELLIDO': 'Herrera',\n",
       "  'full_name': 'SANCHEZ HERRERA LUZ ESTELA DEL SOCOR'}]"
      ]
     },
     "execution_count": 48,
     "metadata": {},
     "output_type": "execute_result"
    }
   ],
   "source": [
    "UDEA[UDEA.UDEA_autores.fillna('').str.contains('ZARRAZOLA RIVERA EDWIN DE JESUS')].UDEA_authors.loc[154]"
   ]
  },
  {
   "cell_type": "code",
   "execution_count": 49,
   "metadata": {},
   "outputs": [],
   "source": [
    "#kk=UDEA['UDEA_authors'].str[0].apply( lambda d: d if type(d)==dict else pd.np.nan ).dropna()\n",
    "#kk[kk.apply( lambda d: d.get('full_name') if type(d)==dict else pd.np.nan ).isna()]"
   ]
  },
  {
   "cell_type": "code",
   "execution_count": 50,
   "metadata": {},
   "outputs": [],
   "source": [
    "kk=UDEA['authors_WOS'].combine( UDEA['UDEA_authors'], func=combinewos )"
   ]
  },
  {
   "cell_type": "code",
   "execution_count": 51,
   "metadata": {},
   "outputs": [
    {
     "data": {
      "text/plain": [
       "0        [{'CÉDULA': 8358251.0, 'SEGUNDO APELLIDO': 'Gi...\n",
       "1        [{'CÉDULA': 1017126043.0, 'SEGUNDO APELLIDO': ...\n",
       "2        [{'SEGUNDO APELLIDO': 'Muñoz', 'PRIMER APELLID...\n",
       "3        [{'CÉDULA': 79708382.0, 'SEGUNDO APELLIDO': 'B...\n",
       "4        [{'SEGUNDO APELLIDO': 'Rueda', 'PRIMER APELLID...\n",
       "5        [{'SEGUNDO APELLIDO': 'Montoya', 'PRIMER APELL...\n",
       "6        [{'SEGUNDO APELLIDO': 'Calderon', 'PRIMER APEL...\n",
       "7        [{'CÉDULA': 21113046.0, 'SEGUNDO APELLIDO': 'S...\n",
       "8        [{'CÉDULA': 43062616.0, 'SEGUNDO APELLIDO': 'T...\n",
       "9        [{'CÉDULA': 70328364.0, 'SEGUNDO APELLIDO': 'H...\n",
       "10       [{'CÉDULA': 43057165.0, 'SEGUNDO APELLIDO': 'V...\n",
       "11       [{'SEGUNDO APELLIDO': 'Robert', 'WOS_author': ...\n",
       "12       [{'CÉDULA': 413218.0, 'SEGUNDO APELLIDO': 'Rin...\n",
       "13       [{'CÉDULA': 41786500.0, 'SEGUNDO APELLIDO': 'R...\n",
       "14       [{'CÉDULA': 71617883.0, 'SEGUNDO APELLIDO': 'E...\n",
       "15       [{'SEGUNDO APELLIDO': 'Medina', 'WOS_author': ...\n",
       "16       [{'CÉDULA': 71733490.0, 'SEGUNDO APELLIDO': 'C...\n",
       "17       [{'CÉDULA': 43616296.0, 'SEGUNDO APELLIDO': 'S...\n",
       "18       [{'SEGUNDO APELLIDO': 'Suarez', 'WOS_author': ...\n",
       "19       [{'SEGUNDO APELLIDO': 'Camargo', 'PRIMER APELL...\n",
       "20       [{'CÉDULA': 98552942.0, 'SEGUNDO APELLIDO': 'G...\n",
       "21       [{'CÉDULA': 71596451.0, 'SEGUNDO APELLIDO': 'G...\n",
       "22       [{'CÉDULA': 71769124.0, 'SEGUNDO APELLIDO': 'R...\n",
       "23       [{'SEGUNDO APELLIDO': 'Rodriguez', 'WOS_author...\n",
       "24       [{'SEGUNDO APELLIDO': 'Valencia', 'WOS_author'...\n",
       "25       [{'CÉDULA': 87470374.0, 'SEGUNDO APELLIDO': 'I...\n",
       "26       [{'CÉDULA': 71769124.0, 'SEGUNDO APELLIDO': 'R...\n",
       "27       [{'SEGUNDO APELLIDO': 'Quintero', 'PRIMER APEL...\n",
       "28       [{'SEGUNDO APELLIDO': 'Astrid', 'PRIMER APELLI...\n",
       "29       [{'CÉDULA': 98473731.0, 'SEGUNDO APELLIDO': 'V...\n",
       "                               ...                        \n",
       "15692                                                  NaN\n",
       "15693                                                  NaN\n",
       "15694                                                  NaN\n",
       "15695                                                  NaN\n",
       "15696                                                  NaN\n",
       "15697                                                  NaN\n",
       "15698                                                  NaN\n",
       "15699                                                  NaN\n",
       "15700                                                  NaN\n",
       "15701                                                  NaN\n",
       "15702                                                  NaN\n",
       "15703                                                  NaN\n",
       "15704                                                  NaN\n",
       "15705                                                  NaN\n",
       "15706                                                  NaN\n",
       "15707                                                  NaN\n",
       "15708                                                  NaN\n",
       "15709                                                  NaN\n",
       "15710                                                  NaN\n",
       "15711                                                  NaN\n",
       "15712                                                  NaN\n",
       "15713                                                  NaN\n",
       "15714                                                  NaN\n",
       "15715                                                  NaN\n",
       "15716                                                  NaN\n",
       "15717                                                  NaN\n",
       "15718                                                  NaN\n",
       "15719                                                  NaN\n",
       "15720                                                  NaN\n",
       "15721                                                  NaN\n",
       "Name: UDEA_authors, Length: 15722, dtype: object"
      ]
     },
     "execution_count": 51,
     "metadata": {},
     "output_type": "execute_result"
    }
   ],
   "source": [
    "UDEA['UDEA_authors']"
   ]
  },
  {
   "cell_type": "markdown",
   "metadata": {},
   "source": [
    "Combines the two list into a single one in  UDEA_authors"
   ]
  },
  {
   "cell_type": "markdown",
   "metadata": {},
   "source": [
    "check"
   ]
  },
  {
   "cell_type": "markdown",
   "metadata": {},
   "source": [
    "Full query of auhor_WOS in UDEA_authors:"
   ]
  },
  {
   "cell_type": "code",
   "execution_count": 52,
   "metadata": {},
   "outputs": [
    {
     "data": {
      "text/plain": [
       "{'CÉDULA': 43724493.0,\n",
       " 'DEPARTAMENTO': 'Departamento de Sicología',\n",
       " 'FACULTAD': 'Facultad de Ciencias Sociales y Humanas',\n",
       " 'GRUPO': 'Grupo de investigación en psicologia cognitiva',\n",
       " 'INICIALES': 'L.',\n",
       " 'NOMBRE COMPLETO': 'Liliana Chaves Castaño',\n",
       " 'NOMBRES': 'Liliana',\n",
       " 'PRIMER APELLIDO': 'Chaves',\n",
       " 'SEGUNDO APELLIDO': 'Castaño',\n",
       " 'WOS_affiliation': ['Univ Antioquia, Antioquia, Colombia.'],\n",
       " 'WOS_author': ['Chaves Castano, Liliana'],\n",
       " 'full_name': 'CHAVES CASTAÑO LILIANA'}"
      ]
     },
     "execution_count": 52,
     "metadata": {},
     "output_type": "execute_result"
    }
   ],
   "source": [
    "UDEA['UDEA_authors'].apply(lambda x: [y  for y in x ][0] if type(x)==list else x).loc[92]"
   ]
  },
  {
   "cell_type": "code",
   "execution_count": 53,
   "metadata": {},
   "outputs": [],
   "source": [
    "UDEA.to_json('UDEAtmp.json')"
   ]
  },
  {
   "cell_type": "markdown",
   "metadata": {},
   "source": [
    "### Load output restuls of previous Cell runs"
   ]
  },
  {
   "cell_type": "code",
   "execution_count": 1,
   "metadata": {},
   "outputs": [],
   "source": [
    "RECOVER=False\n",
    "if RECOVER:\n",
    "    UDEA=pd.read_json('UDEAtmp.json').reset_index(drop=True)"
   ]
  },
  {
   "cell_type": "code",
   "execution_count": 55,
   "metadata": {},
   "outputs": [],
   "source": [
    "def extract_internal_value_of_a_dictionary_key_in_a_list_of_dictionaries(df,\n",
    "    list_of_dictionaries='UDEA_authors',\n",
    "    dictionary_key='WOS_author'):\n",
    "    #Extract internal value of a dictionary key in a list of dictionaries and empty list otherwise\n",
    "    \n",
    "    return df[list_of_dictionaries].apply(lambda x: [y.get(dictionary_key) \n",
    "                                                        if y.get(dictionary_key) else []   \n",
    "                                                        for y in x  ]\n",
    "                           if type(x)==list else [])\n",
    "\n",
    "def extract_internal_list_as_value_of_a_dictionary_key_in_a_list_of_dictionaries(df,\n",
    "    list_of_dictionaries='UDEA_authors',\n",
    "    dictionary_key='WOS_author'):\n",
    "    #Extract internal list as value of a dictionary key in a list of dictionaries and empty list otherwise\n",
    "    \n",
    "    return extract_internal_value_of_a_dictionary_key_in_a_list_of_dictionaries(df,\n",
    "                    list_of_dictionaries,dictionary_key).apply(lambda x: \n",
    "                           [item for sublist  in x for item in sublist] \n",
    "                            if type(x)==list else x)\n",
    "\n",
    "def mask_on_internal_value_of_a_dictionary_key_in_a_list_of_dictionaries(df,\n",
    "    pattern='RESTREPO QUINTERO DIEGO ALEJANDRO',\n",
    "    list_of_dictionaries='UDEA_authors',dictionary_key='full_name'):\n",
    "    \"\"\"\n",
    "    Build a mask for a Pandas Series of list of dictionaries of label:\n",
    "      list_of_dictionaries. \n",
    "    The:\n",
    "      dictionary_key must be a single value like string or float\n",
    "    \"\"\"\n",
    "    return extract_internal_value_of_a_dictionary_key_in_a_list_of_dictionaries(df,\n",
    "            list_of_dictionaries,dictionary_key).apply( \n",
    "            lambda x: pattern in x)"
   ]
  },
  {
   "cell_type": "code",
   "execution_count": 56,
   "metadata": {},
   "outputs": [
    {
     "data": {
      "text/plain": [
       "0     [{'CÉDULA': 15386534.0, 'SEGUNDO APELLIDO': 'N...\n",
       "1     [{'CÉDULA': 98554575.0, 'SEGUNDO APELLIDO': 'Q...\n",
       "2     [{'CÉDULA': 98554575.0, 'SEGUNDO APELLIDO': 'Q...\n",
       "3     [{'CÉDULA': 15386534.0, 'SEGUNDO APELLIDO': 'N...\n",
       "4     [{'CÉDULA': 98554575.0, 'SEGUNDO APELLIDO': 'Q...\n",
       "5     [{'CÉDULA': 15386534.0, 'SEGUNDO APELLIDO': 'N...\n",
       "6     [{'CÉDULA': 15386534.0, 'SEGUNDO APELLIDO': 'N...\n",
       "7     [{'CÉDULA': 98554575.0, 'SEGUNDO APELLIDO': 'Q...\n",
       "8     [{'CÉDULA': 98554575.0, 'SEGUNDO APELLIDO': 'Q...\n",
       "9     [{'CÉDULA': 98554575.0, 'SEGUNDO APELLIDO': 'Q...\n",
       "10    [{'CÉDULA': 15386534.0, 'SEGUNDO APELLIDO': 'N...\n",
       "Name: UDEA_authors, dtype: object"
      ]
     },
     "execution_count": 56,
     "metadata": {},
     "output_type": "execute_result"
    }
   ],
   "source": [
    "pattern='Restrepo, Diego'\n",
    "mask=extract_internal_list_as_value_of_a_dictionary_key_in_a_list_of_dictionaries(\n",
    "            UDEA,list_of_dictionaries='UDEA_authors',dictionary_key='WOS_author').apply( \n",
    "            lambda x: pattern in x)\n",
    "UDEA[mask]['UDEA_authors'].reset_index(drop=True)"
   ]
  },
  {
   "cell_type": "code",
   "execution_count": 57,
   "metadata": {},
   "outputs": [
    {
     "data": {
      "text/plain": [
       "0     [{'CÉDULA': 98554575.0, 'SEGUNDO APELLIDO': 'Q...\n",
       "1     [{'CÉDULA': 98554575.0, 'SEGUNDO APELLIDO': 'Q...\n",
       "2     [{'CÉDULA': 98554575.0, 'SEGUNDO APELLIDO': 'Q...\n",
       "3     [{'CÉDULA': 98554575.0, 'SEGUNDO APELLIDO': 'Q...\n",
       "4     [{'CÉDULA': 98554575.0, 'SEGUNDO APELLIDO': 'Q...\n",
       "5     [{'CÉDULA': 15386534.0, 'SEGUNDO APELLIDO': 'N...\n",
       "6     [{'CÉDULA': 98554575.0, 'SEGUNDO APELLIDO': 'Q...\n",
       "7     [{'CÉDULA': 98554575.0, 'SEGUNDO APELLIDO': 'Q...\n",
       "8     [{'CÉDULA': 15386534.0, 'SEGUNDO APELLIDO': 'N...\n",
       "9     [{'CÉDULA': 98554575.0, 'SEGUNDO APELLIDO': 'Q...\n",
       "10    [{'CÉDULA': 98554575.0, 'SEGUNDO APELLIDO': 'Q...\n",
       "11    [{'CÉDULA': 98554575.0, 'SEGUNDO APELLIDO': 'Q...\n",
       "Name: UDEA_authors, dtype: object"
      ]
     },
     "execution_count": 57,
     "metadata": {},
     "output_type": "execute_result"
    }
   ],
   "source": [
    "pattern='Restrepo, D.'\n",
    "mask=extract_internal_list_as_value_of_a_dictionary_key_in_a_list_of_dictionaries(\n",
    "            UDEA,list_of_dictionaries='UDEA_authors',dictionary_key='WOS_author').apply( \n",
    "            lambda x: pattern in x)\n",
    "UDEA[mask]['UDEA_authors'].reset_index(drop=True)"
   ]
  },
  {
   "cell_type": "code",
   "execution_count": 58,
   "metadata": {},
   "outputs": [
    {
     "data": {
      "text/plain": [
       "'Restrepo, D.'"
      ]
     },
     "execution_count": 58,
     "metadata": {},
     "output_type": "execute_result"
    }
   ],
   "source": [
    "pattern"
   ]
  },
  {
   "cell_type": "code",
   "execution_count": 59,
   "metadata": {},
   "outputs": [
    {
     "data": {
      "text/plain": [
       "0     [{'CÉDULA': 98554575.0, 'SEGUNDO APELLIDO': 'Q...\n",
       "1     [{'CÉDULA': 98554575.0, 'SEGUNDO APELLIDO': 'Q...\n",
       "2     [{'CÉDULA': 98554575.0, 'SEGUNDO APELLIDO': 'Q...\n",
       "3     [{'CÉDULA': 98554575.0, 'SEGUNDO APELLIDO': 'Q...\n",
       "4     [{'CÉDULA': 98554575.0, 'SEGUNDO APELLIDO': 'Q...\n",
       "5     [{'CÉDULA': 15386534.0, 'SEGUNDO APELLIDO': 'N...\n",
       "6     [{'CÉDULA': 98554575.0, 'SEGUNDO APELLIDO': 'Q...\n",
       "7     [{'CÉDULA': 98554575.0, 'SEGUNDO APELLIDO': 'Q...\n",
       "8     [{'CÉDULA': 15386534.0, 'SEGUNDO APELLIDO': 'N...\n",
       "9     [{'CÉDULA': 98554575.0, 'SEGUNDO APELLIDO': 'Q...\n",
       "10    [{'CÉDULA': 98554575.0, 'SEGUNDO APELLIDO': 'Q...\n",
       "11    [{'CÉDULA': 98554575.0, 'SEGUNDO APELLIDO': 'Q...\n",
       "Name: UDEA_authors, dtype: object"
      ]
     },
     "execution_count": 59,
     "metadata": {},
     "output_type": "execute_result"
    }
   ],
   "source": [
    "mask=extract_internal_list_as_value_of_a_dictionary_key_in_a_list_of_dictionaries(\n",
    "            UDEA,list_of_dictionaries='UDEA_authors',dictionary_key='WOS_author').apply( \n",
    "            lambda x: pattern in x)\n",
    "UDEA[mask]['UDEA_authors'].reset_index(drop=True)"
   ]
  },
  {
   "cell_type": "code",
   "execution_count": 60,
   "metadata": {},
   "outputs": [],
   "source": [
    "def extract_dictionary_from_list(df,list_name,i=0):\n",
    "    return df[list_name].apply( lambda l: [ d for d in l][i] if type(l)==list else l )\n",
    "def extract_key_value_from_series(ds,key):\n",
    "    return ds.apply( lambda d: d.get(key)if type(d)==dict else d  )"
   ]
  },
  {
   "cell_type": "code",
   "execution_count": 61,
   "metadata": {},
   "outputs": [
    {
     "data": {
      "text/plain": [
       "{'CÉDULA': 98552686.0,\n",
       " 'DEPARTAMENTO': 'Instituto de Física',\n",
       " 'FACULTAD': 'Facultad de Ciencias Exactas y Naturales',\n",
       " 'GRUPO': 'Grupo de Estado Sólido, Grupo Teórico de Ciencias de los Materiales,  Grupo Teórico de Ciencias de los Materiales',\n",
       " 'INICIALES': 'J. M.',\n",
       " 'NOMBRE COMPLETO': 'Jorge Mario Osorio Guillen',\n",
       " 'NOMBRES': 'Jorge Mario',\n",
       " 'PRIMER APELLIDO': 'Osorio',\n",
       " 'SEGUNDO APELLIDO': 'Guillen',\n",
       " 'WOS_affiliation': ['Univ Antioquia UdeA, Inst Fis, Medellin, Colombia.'],\n",
       " 'WOS_author': ['Osorio-Guillen, J. M.'],\n",
       " 'full_name': 'OSORIO GUILLEN JORGE MARIO'}"
      ]
     },
     "execution_count": 61,
     "metadata": {},
     "output_type": "execute_result"
    }
   ],
   "source": [
    "mask=extract_key_value_from_series( \n",
    "    extract_dictionary_from_list( UDEA,'UDEA_authors',i=0),'WOS_author').str[0].str.contains('\\-').fillna(False)\n",
    "UDEA[mask]['UDEA_authors'].reset_index(drop=True).str[0].loc[1]"
   ]
  },
  {
   "cell_type": "markdown",
   "metadata": {},
   "source": [
    "TODO: Extract dict or value"
   ]
  },
  {
   "cell_type": "markdown",
   "metadata": {},
   "source": [
    "## TODO: Build a single profile for all"
   ]
  },
  {
   "cell_type": "markdown",
   "metadata": {},
   "source": [
    "flatten a list of lists:"
   ]
  },
  {
   "cell_type": "code",
   "execution_count": 62,
   "metadata": {},
   "outputs": [],
   "source": [
    "ua=pd.DataFrame()"
   ]
  },
  {
   "cell_type": "code",
   "execution_count": 63,
   "metadata": {},
   "outputs": [],
   "source": [
    "aumax=UDEA['UDEA_authors'].dropna().apply(len).max() \n",
    "ua=pd.DataFrame()\n",
    "for i in range(aumax):\n",
    "    kkk=pd.DataFrame()\n",
    "    kkk['UDEA_authors']= UDEA['UDEA_authors'].str[i].dropna()\n",
    "    kkk['authors_WOS']= UDEA['authors_WOS']\n",
    "    kkk['SCP_Authors']=UDEA['SCP_Authors']\n",
    "    kkk['tmp_str']=kkk['UDEA_authors'].astype(str)\n",
    "    kkk=kkk.drop_duplicates('tmp_str')\n",
    "    ua=ua.append(kkk).reset_index(drop=True)\n",
    "    #ua['UDEA_authors']= "
   ]
  },
  {
   "cell_type": "code",
   "execution_count": 64,
   "metadata": {},
   "outputs": [],
   "source": [
    "ua['tmp_author']=ua['UDEA_authors'].apply( lambda d: d.get('full_name') )"
   ]
  },
  {
   "cell_type": "markdown",
   "metadata": {},
   "source": [
    "BUG: `UDEA_authors` without `WOS_author key`"
   ]
  },
  {
   "cell_type": "markdown",
   "metadata": {},
   "source": [
    "### Filter identified WOS articles"
   ]
  },
  {
   "cell_type": "code",
   "execution_count": 65,
   "metadata": {},
   "outputs": [],
   "source": [
    "ua['authors_WOS']=ua['authors_WOS'].apply(lambda l: l if l else pd.np.nan)\n",
    "ua=ua[~ua['authors_WOS'].isna()].reset_index(drop=True)"
   ]
  },
  {
   "cell_type": "code",
   "execution_count": 66,
   "metadata": {},
   "outputs": [],
   "source": [
    "full_names=ua['tmp_author'].unique()"
   ]
  },
  {
   "cell_type": "code",
   "execution_count": 67,
   "metadata": {},
   "outputs": [
    {
     "data": {
      "text/plain": [
       "array(['DUQUE ECHEVERRI CARLOS ALBERTO', 'PEÑUELA MESA GUSTAVO ANTONIO',\n",
       "       'RESTREPO CARDENAS JOHANS'], dtype=object)"
      ]
     },
     "execution_count": 67,
     "metadata": {},
     "output_type": "execute_result"
    }
   ],
   "source": [
    "full_names[:3]"
   ]
  },
  {
   "cell_type": "code",
   "execution_count": 68,
   "metadata": {},
   "outputs": [
    {
     "data": {
      "text/plain": [
       "((4153, 5), (848,))"
      ]
     },
     "execution_count": 68,
     "metadata": {},
     "output_type": "execute_result"
    }
   ],
   "source": [
    "ua.shape,full_names.shape"
   ]
  },
  {
   "cell_type": "markdown",
   "metadata": {},
   "source": [
    "TODO: implement also SCP authors"
   ]
  },
  {
   "cell_type": "markdown",
   "metadata": {},
   "source": [
    "Example"
   ]
  },
  {
   "cell_type": "code",
   "execution_count": 69,
   "metadata": {},
   "outputs": [
    {
     "name": "stdout",
     "output_type": "stream",
     "text": [
      "MESA HERRERA NATALIA REGINA\n"
     ]
    }
   ],
   "source": [
    "aunly=pd.DataFrame()\n",
    "for f in full_names:\n",
    "    clear_output(wait=True)\n",
    "    print(f)    \n",
    "    kk=pd.DataFrame( { 'tmp_author':[f]  } ).merge(\n",
    "          ua[['tmp_author','UDEA_authors']],on='tmp_author',how='left')\n",
    "\n",
    "    kk['tmp_str']=kk.UDEA_authors.astype(str)\n",
    "\n",
    "    kk=kk.drop_duplicates('tmp_str').dropna()#[['tmp_author','UDEA_authors']]\n",
    "\n",
    "    try:\n",
    "        laff=list( kk['UDEA_authors'].apply(lambda d: d.get( 'WOS_affiliation' )\n",
    "                                     ).dropna().apply(pd.Series).stack().unique() )\n",
    "        lau=list( kk['UDEA_authors'].apply(lambda d: d.get( 'WOS_author' )\n",
    "                                     ).dropna().apply(pd.Series).stack().unique() )\n",
    "    except AttributeError:\n",
    "        laff=[];lau=[]\n",
    "\n",
    "    if len(laff)>0 and len(lau)>0:\n",
    "        tmpupdate=kk['UDEA_authors'].apply(lambda d: d.update({'WOS_author':lau,'WOS_affiliation':laff}) )\n",
    "\n",
    "        kk['tmp_str']=kk['UDEA_authors'].astype(str)\n",
    "\n",
    "        kk=kk.drop_duplicates('tmp_str')\n",
    "\n",
    "        kk['tmp_len']=kk['tmp_str'].apply(len)#.astype(str)\n",
    "\n",
    "        aunly=aunly.append( kk.sort_values('tmp_len',ascending=False).drop(index=kk.index[1:]).drop(\n",
    "               ['tmp_str','tmp_len'],axis='columns') ).reset_index(drop=True)"
   ]
  },
  {
   "cell_type": "code",
   "execution_count": 70,
   "metadata": {},
   "outputs": [
    {
     "data": {
      "text/plain": [
       "{'CÉDULA': 71617883.0,\n",
       " 'DEPARTAMENTO': 'Instituto de Física',\n",
       " 'FACULTAD': 'Facultad de Ciencias Exactas y Naturales',\n",
       " 'GRUPO': 'Grupo de Materia Condensada-UdeA',\n",
       " 'INICIALES': 'C. A.',\n",
       " 'NOMBRE COMPLETO': 'Carlos Alberto Duque Echeverri',\n",
       " 'NOMBRES': 'Carlos Alberto',\n",
       " 'PRIMER APELLIDO': 'Duque',\n",
       " 'SEGUNDO APELLIDO': 'Echeverri',\n",
       " 'WOS_affiliation': ['Univ Antioquia UdeA, Fac Ciencias Exactas & Nat, Inst Fis, Grp Mat Condensada UdeA, Medellin, Colombia.',\n",
       "  'Univ Antioquia UdeA, Inst Fis, Fac Ciencias Exactas & Nat, Grp Mat Condensada UdeA, Medellin, Colombia.',\n",
       "  'Univ Antioquia UdeA, Fac Ciencias Exactas & Nat, Grp Mat Condensada UdeA, Inst Fis, Medellin, Colombia.',\n",
       "  'Univ Antioquia UdeA, Grp Mat Condensada UdeA, Inst Fis, Fac Ciencias Exactas & Nat, Medellin, Colombia.',\n",
       "  'Univ Antioquia UdeA, Fac Ciencias Exactas & Nat, Inst Fis, Grupo Mat Condensada, Medellin, Colombia.',\n",
       "  'Univ Antioquia, Grp Mat Condensada, Medellin, Colombia.',\n",
       "  'Univ Antioquia UdeA, Fac Ciencias Exactas & Nat, Inst Fis, Grupo Materia Condensada UdeA, Medellin, Colombia.',\n",
       "  'Univ Antioquia UdeA, Fac Ciencias Exactas & Nat, Inst Fis, Grp Materia Condensada UdeA, Medellin, Colombia.',\n",
       "  'Univ Antioquia UdeA, Grp Mat Condensada UdeA, Inst Fis, Fac Ciencias Exactas Nat, Medellin, Colombia.',\n",
       "  'Univ Antioquia UdeA, Fac Ciencias Exactas & Nat, Inst Fis, Grp Mat Condensade UdeA, Medellin, Colombia.',\n",
       "  'Univ Antioquia, Fac Ciencias Exactas & Natl, Inst Fis, Grp Mat Condensada U De A, Medellin, Colombia.',\n",
       "  'Univ Antioquia UdeA, Inst Fis, Fac Ciencias Exactas & Nat, Grp Mat Condensada, Medellin, Colombia.',\n",
       "  'Univ Antioquia UdeA, Fac Ciencias Exactas & Nat, Grp Mat Condensada UdeA, Medellin, Colombia.',\n",
       "  'Univ Antioquia, Inst Fis, Medellin 1226, Colombia.',\n",
       "  'Univ Antioquia, Inst Fis, Medellin, Colombia.',\n",
       "  'Univ Antioquia, Ist Fis, Medellin 1226, Colombia.',\n",
       "  'Univ Antioquia, Inst Fis, Medellin, CO USA.',\n",
       "  'Univ Antioquia, Inst Fis, AA-1226 Medellin, Colombia.',\n",
       "  'Univ Antioquia, Inst Fis, Medellyn, Colombia.',\n",
       "  'Univ Antioquia UdeA, Fac Ciencias Exactas & Nat, Inst Fis, Grp Mat Condensada UdeA, Calle 70 52-21, Medellin, Colombia.',\n",
       "  'Univ Antioquia UdeA, Inst Fis, Fac Ciencias Exactas & Nat, Grp Mat Condensada UdeA, Calle 70 52-21, Medellin, Colombia.',\n",
       "  'Univ Antioquia UdeA, Grp Mat Condensada UdeA, Inst Fis, Fac Ciencias Exactas & Nat, Calle 70 52-21, Medellin, Colombia.',\n",
       "  'Univ Antioquia UdeA, Grp Mat Condensada, Inst Fis, Calle 70 52-21, Medellin, Colombia.',\n",
       "  'Univ Antioquia UdeA, Grp Materia Condensada UdeA, Inst Fis, Fac Ciencias Exactas & Nat, Medellin, Colombia.',\n",
       "  'Univ Antioquia, Inst Fis, Medellin 1126, Colombia.',\n",
       "  'Univ Antioquia, Inst Fis, AA 1226, Medellin, Colombia.',\n",
       "  'Univ Antioquia, Inst Fis, AA 126, Medellin, Colombia.'],\n",
       " 'WOS_author': ['Duque, C. A.',\n",
       "  'Duque, Carlos A.',\n",
       "  'Alberto Duque, Carlos',\n",
       "  'Duque, Carlos'],\n",
       " 'full_name': 'DUQUE ECHEVERRI CARLOS ALBERTO'}"
      ]
     },
     "execution_count": 70,
     "metadata": {},
     "output_type": "execute_result"
    }
   ],
   "source": [
    "#DEBUG\n",
    "aunly[aunly.tmp_author.fillna('').str.contains('DUQUE ECHEVERRI CARLOS ALBERTO')\n",
    "      ].reset_index(drop=True).UDEA_authors.loc[0]"
   ]
  },
  {
   "cell_type": "code",
   "execution_count": 71,
   "metadata": {},
   "outputs": [
    {
     "data": {
      "text/plain": [
       "{'CÉDULA': 71617883.0,\n",
       " 'DEPARTAMENTO': 'Instituto de Física',\n",
       " 'FACULTAD': 'Facultad de Ciencias Exactas y Naturales',\n",
       " 'GRUPO': 'Grupo de Materia Condensada-UdeA',\n",
       " 'INICIALES': 'C. A.',\n",
       " 'NOMBRE COMPLETO': 'Carlos Alberto Duque Echeverri',\n",
       " 'NOMBRES': 'Carlos Alberto',\n",
       " 'PRIMER APELLIDO': 'Duque',\n",
       " 'SEGUNDO APELLIDO': 'Echeverri',\n",
       " 'WOS_affiliation': ['Univ Antioquia UdeA, Fac Ciencias Exactas & Nat, Inst Fis, Grp Mat Condensada UdeA, Medellin, Colombia.',\n",
       "  'Univ Antioquia UdeA, Inst Fis, Fac Ciencias Exactas & Nat, Grp Mat Condensada UdeA, Medellin, Colombia.',\n",
       "  'Univ Antioquia UdeA, Fac Ciencias Exactas & Nat, Grp Mat Condensada UdeA, Inst Fis, Medellin, Colombia.',\n",
       "  'Univ Antioquia UdeA, Grp Mat Condensada UdeA, Inst Fis, Fac Ciencias Exactas & Nat, Medellin, Colombia.',\n",
       "  'Univ Antioquia UdeA, Fac Ciencias Exactas & Nat, Inst Fis, Grupo Mat Condensada, Medellin, Colombia.',\n",
       "  'Univ Antioquia, Grp Mat Condensada, Medellin, Colombia.',\n",
       "  'Univ Antioquia UdeA, Fac Ciencias Exactas & Nat, Inst Fis, Grupo Materia Condensada UdeA, Medellin, Colombia.',\n",
       "  'Univ Antioquia UdeA, Fac Ciencias Exactas & Nat, Inst Fis, Grp Materia Condensada UdeA, Medellin, Colombia.',\n",
       "  'Univ Antioquia UdeA, Grp Mat Condensada UdeA, Inst Fis, Fac Ciencias Exactas Nat, Medellin, Colombia.',\n",
       "  'Univ Antioquia UdeA, Fac Ciencias Exactas & Nat, Inst Fis, Grp Mat Condensade UdeA, Medellin, Colombia.',\n",
       "  'Univ Antioquia, Fac Ciencias Exactas & Natl, Inst Fis, Grp Mat Condensada U De A, Medellin, Colombia.',\n",
       "  'Univ Antioquia UdeA, Inst Fis, Fac Ciencias Exactas & Nat, Grp Mat Condensada, Medellin, Colombia.',\n",
       "  'Univ Antioquia UdeA, Fac Ciencias Exactas & Nat, Grp Mat Condensada UdeA, Medellin, Colombia.',\n",
       "  'Univ Antioquia, Inst Fis, Medellin 1226, Colombia.',\n",
       "  'Univ Antioquia, Inst Fis, Medellin, Colombia.',\n",
       "  'Univ Antioquia, Ist Fis, Medellin 1226, Colombia.',\n",
       "  'Univ Antioquia, Inst Fis, Medellin, CO USA.',\n",
       "  'Univ Antioquia, Inst Fis, AA-1226 Medellin, Colombia.',\n",
       "  'Univ Antioquia, Inst Fis, Medellyn, Colombia.',\n",
       "  'Univ Antioquia UdeA, Fac Ciencias Exactas & Nat, Inst Fis, Grp Mat Condensada UdeA, Calle 70 52-21, Medellin, Colombia.',\n",
       "  'Univ Antioquia UdeA, Inst Fis, Fac Ciencias Exactas & Nat, Grp Mat Condensada UdeA, Calle 70 52-21, Medellin, Colombia.',\n",
       "  'Univ Antioquia UdeA, Grp Mat Condensada UdeA, Inst Fis, Fac Ciencias Exactas & Nat, Calle 70 52-21, Medellin, Colombia.',\n",
       "  'Univ Antioquia UdeA, Grp Mat Condensada, Inst Fis, Calle 70 52-21, Medellin, Colombia.',\n",
       "  'Univ Antioquia UdeA, Grp Materia Condensada UdeA, Inst Fis, Fac Ciencias Exactas & Nat, Medellin, Colombia.',\n",
       "  'Univ Antioquia, Inst Fis, Medellin 1126, Colombia.',\n",
       "  'Univ Antioquia, Inst Fis, AA 1226, Medellin, Colombia.',\n",
       "  'Univ Antioquia, Inst Fis, AA 126, Medellin, Colombia.'],\n",
       " 'WOS_author': ['Duque, C. A.',\n",
       "  'Duque, Carlos A.',\n",
       "  'Alberto Duque, Carlos',\n",
       "  'Duque, Carlos'],\n",
       " 'full_name': 'DUQUE ECHEVERRI CARLOS ALBERTO'}"
      ]
     },
     "execution_count": 71,
     "metadata": {},
     "output_type": "execute_result"
    }
   ],
   "source": [
    "ua['UDEA_authors'].loc[0]"
   ]
  },
  {
   "cell_type": "code",
   "execution_count": 72,
   "metadata": {},
   "outputs": [
    {
     "data": {
      "text/plain": [
       "[{'WOS_author': 'Duque, C. A.',\n",
       "  'affiliation': ['Univ Antioquia UdeA, Fac Ciencias Exactas & Nat, Inst Fis, Grp Mat Condensada UdeA, Medellin, Colombia.'],\n",
       "  'i': 0}]"
      ]
     },
     "execution_count": 72,
     "metadata": {},
     "output_type": "execute_result"
    }
   ],
   "source": [
    "ua['authors_WOS'].loc[0]"
   ]
  },
  {
   "cell_type": "code",
   "execution_count": 73,
   "metadata": {
    "scrolled": true
   },
   "outputs": [
    {
     "data": {
      "text/plain": [
       "(800, 2)"
      ]
     },
     "execution_count": 73,
     "metadata": {},
     "output_type": "execute_result"
    }
   ],
   "source": [
    "aunly.shape"
   ]
  },
  {
   "cell_type": "code",
   "execution_count": 75,
   "metadata": {},
   "outputs": [],
   "source": [
    "aunly.to_json('UDEA_authors_with_WOS_info.json')"
   ]
  },
  {
   "cell_type": "code",
   "execution_count": 6,
   "metadata": {},
   "outputs": [],
   "source": [
    "RECOVER=True\n",
    "if RECOVER:\n",
    "    UDEA=pd.read_json('UDEAtmp.json').reset_index(drop=True)"
   ]
  },
  {
   "cell_type": "code",
   "execution_count": 7,
   "metadata": {},
   "outputs": [
    {
     "data": {
      "text/plain": [
       "True"
      ]
     },
     "execution_count": 7,
     "metadata": {},
     "output_type": "execute_result"
    }
   ],
   "source": [
    "RECOVER"
   ]
  },
  {
   "cell_type": "code",
   "execution_count": 8,
   "metadata": {},
   "outputs": [],
   "source": [
    "if RECOVER:\n",
    "    if os.path.exists('UDEA_authors_with_WOS_info.json' ):\n",
    "        aunly=pd.read_json('UDEA_authors_with_WOS_info.json')\n",
    "    else:\n",
    "        aunly=drive_files.read_drive_json('UDEA_authors_with_WOS_info.json')"
   ]
  },
  {
   "cell_type": "code",
   "execution_count": 9,
   "metadata": {},
   "outputs": [
    {
     "data": {
      "text/plain": [
       "(800, 2)"
      ]
     },
     "execution_count": 9,
     "metadata": {},
     "output_type": "execute_result"
    }
   ],
   "source": [
    "aunly.shape"
   ]
  },
  {
   "cell_type": "markdown",
   "metadata": {},
   "source": [
    "(800, 2)"
   ]
  },
  {
   "cell_type": "markdown",
   "metadata": {},
   "source": [
    "## Merge UDEA with authors"
   ]
  },
  {
   "cell_type": "code",
   "execution_count": 11,
   "metadata": {},
   "outputs": [],
   "source": [
    "# loop upon i and j to merge aunly in UDEA"
   ]
  },
  {
   "cell_type": "markdown",
   "metadata": {},
   "source": [
    "### Quality critera search:\n",
    "* Affiliation split(', ') > 3\n",
    "* if Author find('.') → 'Author split(' ')  > 2 "
   ]
  },
  {
   "cell_type": "code",
   "execution_count": null,
   "metadata": {},
   "outputs": [],
   "source": [
    "[ a for a in laff if len( a.split(', '))>affil.count(' ')+2]"
   ]
  },
  {
   "cell_type": "code",
   "execution_count": 80,
   "metadata": {},
   "outputs": [
    {
     "data": {
      "text/plain": [
       "['Mesa, Natalia']"
      ]
     },
     "execution_count": 80,
     "metadata": {},
     "output_type": "execute_result"
    }
   ],
   "source": [
    "[ a for a in lau if not (a.replace('-',' ').count(' ')==1 and a.count('.')==1) ]"
   ]
  },
  {
   "cell_type": "code",
   "execution_count": 81,
   "metadata": {},
   "outputs": [
    {
     "ename": "SyntaxError",
     "evalue": "Missing parentheses in call to 'print' (<ipython-input-81-c94594b6b28f>, line 1)",
     "output_type": "error",
     "traceback": [
      "\u001b[0;36m  File \u001b[0;32m\"<ipython-input-81-c94594b6b28f>\"\u001b[0;36m, line \u001b[0;32m1\u001b[0m\n\u001b[0;31m    print 1\u001b[0m\n\u001b[0m          ^\u001b[0m\n\u001b[0;31mSyntaxError\u001b[0m\u001b[0;31m:\u001b[0m Missing parentheses in call to 'print'\n"
     ]
    }
   ],
   "source": [
    "print 1"
   ]
  },
  {
   "cell_type": "markdown",
   "metadata": {},
   "source": [
    "## TODO: Try to merge new WOS articles from old `'UDEA_authors'`"
   ]
  },
  {
   "cell_type": "markdown",
   "metadata": {},
   "source": [
    "Split DataFrame into  \"new\" with UDEA authors not yet identified and \"old\" with full UDEA author info "
   ]
  },
  {
   "cell_type": "code",
   "execution_count": 114,
   "metadata": {},
   "outputs": [],
   "source": [
    "UDEAnew=UDEA[UDEA.UDEA_authors.isna()].reset_index(drop=True)\n",
    "UDEAold=UDEA[~UDEA.UDEA_authors.isna()].reset_index(drop=True)"
   ]
  },
  {
   "cell_type": "markdown",
   "metadata": {},
   "source": [
    "## Merge old with news"
   ]
  },
  {
   "cell_type": "markdown",
   "metadata": {},
   "source": [
    "Split \"new\" into the \"Y\" with WOS author info"
   ]
  },
  {
   "cell_type": "code",
   "execution_count": 140,
   "metadata": {},
   "outputs": [],
   "source": [
    "UDEAnewY=UDEAnew[ UDEAnew.authors_WOS.apply(lambda x: type(x)==list and len(x)>0) ].reset_index(drop=True)\n",
    "UDEAnewN=UDEAnew[~UDEAnew.authors_WOS.apply(lambda x: type(x)==list and len(x)>0) ].reset_index(drop=True)"
   ]
  },
  {
   "cell_type": "code",
   "execution_count": 141,
   "metadata": {},
   "outputs": [
    {
     "data": {
      "text/plain": [
       "((3432, 169), '+', (5216, 169), '+', (7074, 171), '=', 15722, '=', 15722)"
      ]
     },
     "execution_count": 141,
     "metadata": {},
     "output_type": "execute_result"
    }
   ],
   "source": [
    "(UDEAnewY.shape,'+',UDEAnewN.shape,'+',UDEAold.shape,'=',\n",
    "   UDEAnewY.shape[0]+UDEAnewN.shape[0]+UDEAold.shape[0],'=',UDEA.shape[0])"
   ]
  },
  {
   "cell_type": "code",
   "execution_count": 142,
   "metadata": {},
   "outputs": [],
   "source": [
    "CHECK=False\n",
    "if CHECK:\n",
    "    pattern='Restrepo, D.'\n",
    "    mask=extract_internal_value_of_a_dictionary_key_in_a_list_of_dictionaries(\n",
    "                UDEAnewY,list_of_dictionaries='authors_WOS',dictionary_key='WOS_author').apply( \n",
    "                lambda x: pattern in x)\n",
    "    UDEAnewY[mask].authors_WOS.reset_index(drop=True).values"
   ]
  },
  {
   "cell_type": "code",
   "execution_count": 143,
   "metadata": {},
   "outputs": [],
   "source": [
    "if CHECK:\n",
    "    mask=mask_on_internal_value_of_a_dictionary_key_in_a_list_of_dictionaries(UDEAnewY,\n",
    "            pattern='Restrepo, D.',list_of_dictionaries='authors_WOS',dictionary_key='WOS_author')                                                                       \n",
    "    UDEAnewY[mask]['authors_WOS'].reset_index(drop=True).values"
   ]
  },
  {
   "cell_type": "code",
   "execution_count": 145,
   "metadata": {},
   "outputs": [
    {
     "data": {
      "text/plain": [
       "\"{'WOS_author': 'Ortiz, T.', 'affiliation': 'Univ Antioquia, Fac Agr Sci, Biogenesis Res Grp, Calle 70 52-21, Medellin 050010, Colombia.'}\""
      ]
     },
     "execution_count": 145,
     "metadata": {},
     "output_type": "execute_result"
    }
   ],
   "source": [
    "#Extract a specific author with specific affiliation from the WOS author full info into a temporal column\n",
    "i=0\n",
    "aff_i=0\n",
    "UDEAnewY['news_i_j_str']=UDEAnewY.authors_WOS.apply(lambda x: [ {'WOS_author':y.get('WOS_author'),\n",
    "                                                   'affiliation':y.get('affiliation')[aff_i]} for y in x]\n",
    "                                                   ).str[i].astype(str)\n",
    "UDEAnewY['news_i_j_str'].loc[0]"
   ]
  },
  {
   "cell_type": "markdown",
   "metadata": {},
   "source": [
    "Prepare trained data set with the j-th author: first UDEA author info into a temporal column"
   ]
  },
  {
   "cell_type": "markdown",
   "metadata": {},
   "source": [
    "j=0\n",
    "auth_j=0\n",
    "aff_j=0\n",
    "UDEAold['UDEA_authors_j']=UDEAold['UDEA_authors'].str[j]"
   ]
  },
  {
   "cell_type": "code",
   "execution_count": 147,
   "metadata": {},
   "outputs": [],
   "source": [
    "#Extract a specific author with specific affiliation from the WOS author full info into a temporal column\n",
    "UDEAold['news_i_j']=UDEAold['UDEA_authors'].apply(lambda l: [ {'WOS_author':d.get('WOS_author')[auth_j], \n",
    "                                           'affiliation':d.get('WOS_affiliation')[aff_j] } if d.get('WOS_author') \n",
    "                                         else pd.np.nan for d in l] ).str[j]#.astype(str)\n"
   ]
  },
  {
   "cell_type": "code",
   "execution_count": 148,
   "metadata": {},
   "outputs": [],
   "source": [
    "ma=UDEAold.dropna(subset=['news_i_j']).reset_index(drop=True)"
   ]
  },
  {
   "cell_type": "code",
   "execution_count": 71,
   "metadata": {},
   "outputs": [],
   "source": [
    "# Quality check"
   ]
  },
  {
   "cell_type": "code",
   "execution_count": 149,
   "metadata": {},
   "outputs": [
    {
     "data": {
      "text/plain": [
       "{'WOS_author': 'Restrepo, J.',\n",
       " 'affiliation': 'Univ Antioquia, Inst Fis, Grp Magnetismo & Simulac, Medellin 1226, Colombia.'}"
      ]
     },
     "execution_count": 149,
     "metadata": {},
     "output_type": "execute_result"
    }
   ],
   "source": [
    "ma['news_i_j'].loc[2]"
   ]
  },
  {
   "cell_type": "code",
   "execution_count": 150,
   "metadata": {},
   "outputs": [],
   "source": [
    "#*** May be filter Homonymous\n",
    "Homonymous=False\n",
    "if Homonymous:\n",
    "    ma=ma[~np.logical_and( ma['news_i_0_j_0'].apply(lambda d: d.get('affiliation') \n",
    "                                              if not pd.isna(d) else '' ).str.split(', ').apply(len)<=3,\n",
    "                            ma['news_i_0_j_0'].apply(lambda d: d.get('WOS_author') \n",
    "                                              if not pd.isna(d) else '' ).str.split(' ').apply(len)<=2)]\n",
    "#****"
   ]
  },
  {
   "cell_type": "code",
   "execution_count": 151,
   "metadata": {},
   "outputs": [],
   "source": [
    "ma['news_i_j_str']=ma['news_i_0_j_0'].astype(str)"
   ]
  },
  {
   "cell_type": "code",
   "execution_count": 153,
   "metadata": {},
   "outputs": [],
   "source": [
    "#Extract all the mathches for the author\n",
    "kk=UDEAnewY.merge( ma[['news_i_j_str','news_i_j']],on='news_i_j_str',how='left')#.dropna().reset_index(drop=True)#.loc[5].values"
   ]
  },
  {
   "cell_type": "code",
   "execution_count": 164,
   "metadata": {},
   "outputs": [
    {
     "data": {
      "text/plain": [
       "{'CÉDULA': 71617883.0,\n",
       " 'DEPARTAMENTO': 'Instituto de Física',\n",
       " 'FACULTAD': 'Facultad de Ciencias Exactas y Naturales',\n",
       " 'GRUPO': 'Grupo de Materia Condensada-UdeA',\n",
       " 'INICIALES': 'C. A.',\n",
       " 'NOMBRE COMPLETO': 'Carlos Alberto Duque Echeverri',\n",
       " 'NOMBRES': 'Carlos Alberto',\n",
       " 'PRIMER APELLIDO': 'Duque',\n",
       " 'SEGUNDO APELLIDO': 'Echeverri',\n",
       " 'WOS_affiliation': ['Univ Antioquia UdeA, Fac Ciencias Exactas & Nat, Inst Fis, Grp Mat Condensada UdeA, Medellin, Colombia.'],\n",
       " 'WOS_author': ['Duque, C. A.'],\n",
       " 'full_name': 'DUQUE ECHEVERRI CARLOS ALBERTO'}"
      ]
     },
     "execution_count": 164,
     "metadata": {},
     "output_type": "execute_result"
    }
   ],
   "source": [
    "ma.UDEA_authors.str[i].loc[0]#BUG: WOS_author only contains a name"
   ]
  },
  {
   "cell_type": "code",
   "execution_count": 154,
   "metadata": {},
   "outputs": [
    {
     "data": {
      "text/plain": [
       "((3621, 172), (3432, 171))"
      ]
     },
     "execution_count": 154,
     "metadata": {},
     "output_type": "execute_result"
    }
   ],
   "source": [
    "kk.shape,UDEAnewY.shape"
   ]
  },
  {
   "cell_type": "code",
   "execution_count": 158,
   "metadata": {},
   "outputs": [
    {
     "data": {
      "text/plain": [
       "(370, 172)"
      ]
     },
     "execution_count": 158,
     "metadata": {},
     "output_type": "execute_result"
    }
   ],
   "source": [
    "kkk=kk.dropna(subset=['news_i_j'])#.shape\n",
    "kkk.shape"
   ]
  },
  {
   "cell_type": "code",
   "execution_count": null,
   "metadata": {},
   "outputs": [],
   "source": [
    "kkk."
   ]
  },
  {
   "cell_type": "code",
   "execution_count": 161,
   "metadata": {},
   "outputs": [
    {
     "data": {
      "text/plain": [
       "7       []\n",
       "8       []\n",
       "9       []\n",
       "12      []\n",
       "13      []\n",
       "14      []\n",
       "15      []\n",
       "16      []\n",
       "17      []\n",
       "20      []\n",
       "21      []\n",
       "22      []\n",
       "23      []\n",
       "24      []\n",
       "25      []\n",
       "28      []\n",
       "40      []\n",
       "56      []\n",
       "57      []\n",
       "58      []\n",
       "59      []\n",
       "72      []\n",
       "92      []\n",
       "97      []\n",
       "98      []\n",
       "103     []\n",
       "104     []\n",
       "105     []\n",
       "106     []\n",
       "107     []\n",
       "        ..\n",
       "3477    []\n",
       "3478    []\n",
       "3500    []\n",
       "3501    []\n",
       "3502    []\n",
       "3503    []\n",
       "3504    []\n",
       "3505    []\n",
       "3518    []\n",
       "3519    []\n",
       "3520    []\n",
       "3521    []\n",
       "3522    []\n",
       "3523    []\n",
       "3541    []\n",
       "3546    []\n",
       "3547    []\n",
       "3548    []\n",
       "3549    []\n",
       "3575    []\n",
       "3592    []\n",
       "3593    []\n",
       "3594    []\n",
       "3595    []\n",
       "3599    []\n",
       "3600    []\n",
       "3601    []\n",
       "3602    []\n",
       "3603    []\n",
       "3604    []\n",
       "Name: UDEA_authors, Length: 370, dtype: object"
      ]
     },
     "execution_count": 161,
     "metadata": {},
     "output_type": "execute_result"
    }
   ],
   "source": [
    "kkk.UDEA_authors.apply(lambda l: l if type(l)==list else [])"
   ]
  },
  {
   "cell_type": "markdown",
   "metadata": {},
   "source": [
    "# TMP"
   ]
  },
  {
   "cell_type": "markdown",
   "metadata": {},
   "source": [
    "The entries left are the ones where there are normalization problemas\n",
    "* Bad written names\n",
    "* Wrong affiliation in WOS\n",
    "* Author appears in AU but not in C1"
   ]
  },
  {
   "cell_type": "code",
   "execution_count": null,
   "metadata": {},
   "outputs": [],
   "source": [
    "i=0\n",
    "tmpua=UDEA[UDEA.UDEA_authors.str[i].apply(lambda d: True if type(d)==dict else False)]"
   ]
  },
  {
   "cell_type": "code",
   "execution_count": null,
   "metadata": {},
   "outputs": [],
   "source": [
    "tmpkk=tmpua[ tmpua.UDEA_authors.str[i].apply(lambda d: d.get('WOS_author')).str[0].apply( pd.isna) ]"
   ]
  },
  {
   "cell_type": "code",
   "execution_count": null,
   "metadata": {},
   "outputs": [],
   "source": [
    "tmp=tmpkk[ tmpkk.authors_WOS.apply( lambda l: l if l and type(l)==list else pd.np.nan ).apply( \n",
    "    lambda l: True if type(l)==list else False) ][['authors_WOS','UDEA_authors','UDEA_autores','TI','DI','AU','C1']].reset_index(drop=True)#.loc[4].values"
   ]
  },
  {
   "cell_type": "code",
   "execution_count": null,
   "metadata": {},
   "outputs": [],
   "source": [
    "tmp.shape"
   ]
  },
  {
   "cell_type": "code",
   "execution_count": null,
   "metadata": {},
   "outputs": [],
   "source": [
    "i=204\n",
    "tmp[i:i+1]#.UDEA_authors#.loc[0]"
   ]
  },
  {
   "cell_type": "code",
   "execution_count": null,
   "metadata": {},
   "outputs": [],
   "source": [
    "tmp.UDEA_authors.loc[i]"
   ]
  },
  {
   "cell_type": "code",
   "execution_count": null,
   "metadata": {},
   "outputs": [],
   "source": [
    "tmp.authors_WOS.loc[i]"
   ]
  },
  {
   "cell_type": "code",
   "execution_count": null,
   "metadata": {},
   "outputs": [],
   "source": [
    "tmp.UDEA_autores.loc[i]"
   ]
  },
  {
   "cell_type": "code",
   "execution_count": null,
   "metadata": {},
   "outputs": [],
   "source": [
    "tmp.TI.loc[i]"
   ]
  },
  {
   "cell_type": "code",
   "execution_count": null,
   "metadata": {},
   "outputs": [],
   "source": [
    "print(tmp.AU.loc[i])"
   ]
  },
  {
   "cell_type": "code",
   "execution_count": null,
   "metadata": {},
   "outputs": [],
   "source": [
    "print(tmp.C1.loc[i])"
   ]
  },
  {
   "cell_type": "code",
   "execution_count": null,
   "metadata": {},
   "outputs": [],
   "source": [
    "x=tmp['authors_WOS'].reset_index(drop=True).loc[i]\n",
    "y=tmp['UDEA_authors'].reset_index(drop=True).loc[i]"
   ]
  },
  {
   "cell_type": "code",
   "execution_count": null,
   "metadata": {},
   "outputs": [],
   "source": [
    "x"
   ]
  },
  {
   "cell_type": "code",
   "execution_count": null,
   "metadata": {},
   "outputs": [],
   "source": [
    "y"
   ]
  },
  {
   "cell_type": "code",
   "execution_count": null,
   "metadata": {},
   "outputs": [],
   "source": [
    "i=0\n",
    "y#[i]['NOMBRE COMPLETO'].split()"
   ]
  },
  {
   "cell_type": "code",
   "execution_count": null,
   "metadata": {},
   "outputs": [],
   "source": [
    "y_keys=['PRIMER APELLIDO','NOMBRES','INICIALES','SEGUNDO APELLIDO','full_name']"
   ]
  },
  {
   "cell_type": "code",
   "execution_count": null,
   "metadata": {},
   "outputs": [],
   "source": [
    "i=0\n",
    "wos_names_list(y[i] ,y_keys)"
   ]
  },
  {
   "cell_type": "code",
   "execution_count": null,
   "metadata": {},
   "outputs": [],
   "source": [
    "x"
   ]
  },
  {
   "cell_type": "code",
   "execution_count": null,
   "metadata": {},
   "outputs": [],
   "source": [
    "[1,\n",
    "  2]"
   ]
  },
  {
   "cell_type": "code",
   "execution_count": null,
   "metadata": {},
   "outputs": [],
   "source": [
    "def combinewos(x,y,x_keys=['WOS_author','affiliation'],\n",
    "                   y_keys=['PRIMER APELLIDO','NOMBRES','INICIALES','SEGUNDO APELLIDO','full_name'],\n",
    "                   xy_keys=['WOS_author','WOS_affiliation']):\n",
    "    if type(x)==list and type(y)==list:\n",
    "        for dx in x:\n",
    "            print( dx[ x_keys[0] ] )\n",
    "            wos_name=unidecode.unidecode( dx[ x_keys[0] ] )\n",
    "            WOS_affiliation= dx[x_keys[1]]\n",
    "            print('Name True')\n",
    "            for i in range( len(y) ):\n",
    "                print('+'*20)\n",
    "                print( wos_names_list(y[i] ,y_keys))\n",
    "                print('+'*20)\n",
    "                print(i,wos_name in wos_names_list(y[i] ,y_keys) )\n",
    "                print('='*20)\n",
    "                if wos_name.title() in wos_names_list(y[i] ,y_keys):\n",
    "                    print('*'*20)\n",
    "                    print(wos_name in wos_names_list(y[i] ,y_keys),':',wos_name)\n",
    "                    print('*'*20)\n",
    "                    y[i][  xy_keys[0] ]=[ wos_name ]\n",
    "                    y[i][  xy_keys[1] ]=WOS_affiliation\n",
    "                    break\n",
    "            # Try by buildong spanish-like names list                    \n",
    "            #Try again but comparing full lists\n",
    "            wos_name_to_list=wos_name.replace(',','').replace('-',' ').title().split()\n",
    "            print(\"-\"*20)\n",
    "            for i in range( len(y) ):\n",
    "                print('--',i)\n",
    "                yi_to_list=unidecode.unidecode( y[i][y_keys[4]].title() )\n",
    "                if yi_to_list:\n",
    "                    yi_to_list=yi_to_list.split()\n",
    "                else:\n",
    "                    yi_to_list=[]\n",
    "                print(i,wos_name_to_list,yi_to_list,  )    \n",
    "                if not pd.np.setdiff1d(wos_name_to_list,yi_to_list).shape[0]:\n",
    "                    y[i][  xy_keys[0] ]=[ wos_name ]\n",
    "                    y[i][  xy_keys[1] ]=WOS_affiliation\n",
    "                    break\n",
    "            #Try again but comparing full lists with initials\n",
    "            wos_name_to_list=wos_name.replace(',','').replace('-',' ').title().split()\n",
    "            for i in range( len(y) ):\n",
    "                yi_to_list=[y[i][y_keys[0]],y[i][y_keys[3]] ]+y[i][y_keys[2]].split()\n",
    "                if not pd.np.setdiff1d(wos_name_to_list,yi_to_list).shape[0]:\n",
    "                    y[i][  xy_keys[0] ]=[ wos_name ]\n",
    "                    y[i][  xy_keys[1] ]=WOS_affiliation\n",
    "                    break\n",
    "            #Try again but comparing full lists with first first name and initial\n",
    "            print(\":\"*20)\n",
    "            for i in range( len(y) ):\n",
    "                yi_to_list=[y[i][y_keys[0]],y[i][y_keys[3]],y[i][y_keys[1]].split()[0],\n",
    "                              y[i][y_keys[2]].split()[-1]]\n",
    "                print(\"::::\",yi_to_list)\n",
    "                if not pd.np.setdiff1d(wos_name_to_list,yi_to_list).shape[0]:\n",
    "                    y[i][  xy_keys[0] ]=[ wos_name ]\n",
    "                    y[i][  xy_keys[1] ]=WOS_affiliation\n",
    "                    break                    \n",
    "            #Try again but comparing full lists with second first name and initial\n",
    "            print(\":\"*20)\n",
    "            for i in range( len(y) ):\n",
    "                yi_to_list=[y[i][y_keys[0]],y[i][y_keys[3]],y[i][y_keys[1]].split()[-1],\n",
    "                              y[i][y_keys[2]].split()[0]]\n",
    "                print(\"::::\",yi_to_list)\n",
    "                if not pd.np.setdiff1d(wos_name_to_list,yi_to_list).shape[0]:\n",
    "                    y[i][  xy_keys[0] ]=[ wos_name ]\n",
    "                    y[i][  xy_keys[1] ]=WOS_affiliation\n",
    "                    break                    \n",
    "                    \n",
    "                    \n",
    "                    \n",
    "    return y"
   ]
  },
  {
   "cell_type": "code",
   "execution_count": null,
   "metadata": {},
   "outputs": [],
   "source": [
    "combinewos(x,y)"
   ]
  },
  {
   "cell_type": "code",
   "execution_count": null,
   "metadata": {},
   "outputs": [],
   "source": [
    "pd.np.setdiff1d(['Bastidas', 'Myriam'] ,['Bastidas', 'Acevedo', 'Miryam', 'Del', 'Socorro']).shape[0]"
   ]
  },
  {
   "cell_type": "code",
   "execution_count": null,
   "metadata": {},
   "outputs": [],
   "source": [
    "800*3*3"
   ]
  },
  {
   "cell_type": "code",
   "execution_count": 10,
   "metadata": {},
   "outputs": [
    {
     "data": {
      "text/html": [
       "<div>\n",
       "<style scoped>\n",
       "    .dataframe tbody tr th:only-of-type {\n",
       "        vertical-align: middle;\n",
       "    }\n",
       "\n",
       "    .dataframe tbody tr th {\n",
       "        vertical-align: top;\n",
       "    }\n",
       "\n",
       "    .dataframe thead th {\n",
       "        text-align: right;\n",
       "    }\n",
       "</style>\n",
       "<table border=\"1\" class=\"dataframe\">\n",
       "  <thead>\n",
       "    <tr style=\"text-align: right;\">\n",
       "      <th></th>\n",
       "      <th>UDEA_authors</th>\n",
       "      <th>tmp_author</th>\n",
       "    </tr>\n",
       "  </thead>\n",
       "  <tbody>\n",
       "    <tr>\n",
       "      <th>0</th>\n",
       "      <td>{'WOS_author': ['Duque, C. A.', 'Duque, Carlos A.', 'Alberto Duque, Carlos', 'Duque, Carlos'], 'WOS_affiliation': ['Univ Antioquia UdeA, Fac Ciencias Exactas &amp; Nat, Inst Fis, Grp Mat Condensada Ud...</td>\n",
       "      <td>DUQUE ECHEVERRI CARLOS ALBERTO</td>\n",
       "    </tr>\n",
       "    <tr>\n",
       "      <th>1</th>\n",
       "      <td>{'WOS_author': ['Antonio Penuela, Gustavo', 'Penuela, Gustavo A.', 'Penuela, Gustavo Antonio', 'Penuela Mesa, Gustavo Antonio', 'Penuela, Gustavo', 'Penuela, G.', 'Penuela, G. A.', 'Penuela Mesa, ...</td>\n",
       "      <td>PEÑUELA MESA GUSTAVO ANTONIO</td>\n",
       "    </tr>\n",
       "    <tr>\n",
       "      <th>10</th>\n",
       "      <td>{'WOS_author': ['Pachon, Leonardo A.'], 'WOS_affiliation': ['Univ Antioquia UdeA, Fac Ciencias Exactas &amp; Nat, Inst Fis, Grp Fis Atom &amp; Mol, Medellin, Colombia.', 'Univ Antioquia UdeA, Grp Fis Atom...</td>\n",
       "      <td>PACHON CONTRERAS LEONARDO AUGUSTO</td>\n",
       "    </tr>\n",
       "    <tr>\n",
       "      <th>100</th>\n",
       "      <td>{'WOS_author': ['Mazo-Zuluaga, J.'], 'WOS_affiliation': ['Univ Antioquia UdeA, IF FCEN, Grp Estado Solido, Medellin, Colombia.', 'Univ Antioquia, IF FCEN, GICM Grp, Medellin, Colombia.', 'Univ Ant...</td>\n",
       "      <td>MAZO ZULUAGA JOHANN</td>\n",
       "    </tr>\n",
       "    <tr>\n",
       "      <th>101</th>\n",
       "      <td>{'NOMBRES': 'Del Socorro', 'WOS_author': ['Rodriguez-Osorio, Nelida'], 'full_name': 'RODRIGUEZ OSORIO NELIDA DEL SOCORRO', 'WOS_affiliation': ['Univ Antioquia, Grp CENTAURO, Medellin, Colombia.', ...</td>\n",
       "      <td>RODRIGUEZ OSORIO NELIDA DEL SOCORRO</td>\n",
       "    </tr>\n",
       "    <tr>\n",
       "      <th>102</th>\n",
       "      <td>{'WOS_author': ['Zuluaga, Jorge I.', 'Zuluaga, Jorge', 'Zuluaga, J.', 'Zuluaga, J. I.'], 'WOS_affiliation': ['Univ Antioquia, FACom Inst Fis FCEN, Medellin, Colombia.', 'Univ Antioquia, FACom, FCE...</td>\n",
       "      <td>ZULUAGA CALLEJAS JORGE IVAN</td>\n",
       "    </tr>\n",
       "    <tr>\n",
       "      <th>103</th>\n",
       "      <td>{'WOS_author': ['Hadad, C. Z.', 'Hadad, Cacier Z.'], 'WOS_affiliation': ['Univ Antioquia, Inst Quim, Grp Quim Fis Teor, Medellin AA1226, Colombia.', 'Univ Antioquia, Inst Quim, Grp Quim Fis Teor, ...</td>\n",
       "      <td>HADAD ARRIAGADA CACIER ZILAHY</td>\n",
       "    </tr>\n",
       "    <tr>\n",
       "      <th>104</th>\n",
       "      <td>{'WOS_author': ['Rada, Juan', 'Rada, J.'], 'WOS_affiliation': ['Univ Antioquia, Inst Matemat, Medellin, Colombia.', 'Univ Antioquia Medellin, Inst Matemat, Medellin, Colombia.', 'Univ Antioquia, I...</td>\n",
       "      <td>RADA RINCON JUAN PABLO</td>\n",
       "    </tr>\n",
       "    <tr>\n",
       "      <th>105</th>\n",
       "      <td>{'NOMBRES': 'Orville', 'WOS_author': ['Hernandez, Orville', 'Hernandez-Ruiz, Orville', 'Hernandez Ruiz, Orville', 'Hernandez, O.'], 'full_name': 'HERNANDEZ RUIZ ORVILLE', 'WOS_affiliation': ['Univ...</td>\n",
       "      <td>HERNANDEZ RUIZ ORVILLE</td>\n",
       "    </tr>\n",
       "    <tr>\n",
       "      <th>106</th>\n",
       "      <td>{'WOS_author': ['Paez, Vivian P.', 'Paez, Vivian'], 'WOS_affiliation': ['Univ Antioquia, Inst Biol, Grp Herpetol Antioquia, Medellin, Colombia.', 'Univ Antioquia, Inst Biol, Medellin 1226, Colombi...</td>\n",
       "      <td>PAEZ NIETO VIVIAN PATRICIA</td>\n",
       "    </tr>\n",
       "    <tr>\n",
       "      <th>107</th>\n",
       "      <td>{'NOMBRES': 'Luisa Fernanda', 'WOS_author': ['Rojas, Luisa F.', 'Rojas, L. F.', 'Rojas, Luisa Fernanda'], 'full_name': 'ROJAS HOYOS LUISA FERNANDA', 'WOS_affiliation': ['Univ Antioquia, Escuela Mi...</td>\n",
       "      <td>ROJAS HOYOS LUISA FERNANDA</td>\n",
       "    </tr>\n",
       "    <tr>\n",
       "      <th>108</th>\n",
       "      <td>{'WOS_author': ['Sierra, Javier M.', 'Mauricio Sierra, Javier'], 'WOS_affiliation': ['Univ Antioquia, Pediaciencias Res Grp, Sch Med, Dept Pediat, Medellin, Colombia.', 'Univ Antioquia, Medellin 0...</td>\n",
       "      <td>SIERRA ABAUNZA JAVIER MAURICIO</td>\n",
       "    </tr>\n",
       "    <tr>\n",
       "      <th>109</th>\n",
       "      <td>{'WOS_author': ['Bustamante, Felipe'], 'WOS_affiliation': ['Univ Antioquia, Medellin, Colombia.', 'Univ Antioquia, Sede Invest Univ SIU, Environm Catalysis Res Grp, Medellin, Colombia.', 'Univ Ant...</td>\n",
       "      <td>BUSTAMANTE LONDOÑO FELIPE</td>\n",
       "    </tr>\n",
       "    <tr>\n",
       "      <th>11</th>\n",
       "      <td>{'WOS_author': ['Osorio-Guillen, J. M.', 'Osorio-Guillen, Jorge M.', 'Osorio-Guillen, Jorge', 'Mario Osorio-Guillen, Jorge'], 'WOS_affiliation': ['Univ Antioquia UdeA, Inst Fis, Medellin, Colombia...</td>\n",
       "      <td>OSORIO GUILLEN JORGE MARIO</td>\n",
       "    </tr>\n",
       "    <tr>\n",
       "      <th>110</th>\n",
       "      <td>{'WOS_author': ['Cardeno, Liliam'], 'WOS_affiliation': ['Univ Antioquia, Inst Matemat, Medellin 51922, Colombia.'], 'INICIALES': 'L.', 'PRIMER APELLIDO': 'Cardeño', 'SEGUNDO APELLIDO': 'Acero', 'N...</td>\n",
       "      <td>CARDEÑO ACERO LILIAM</td>\n",
       "    </tr>\n",
       "    <tr>\n",
       "      <th>111</th>\n",
       "      <td>{'WOS_author': ['Mahecha, Liliana', 'Mahecha, L.'], 'WOS_affiliation': ['Univ Antioquia, Fac Ciencias Agr, Grp Invest GRICA, Medellin 1226, Colombia.', 'Univ Antioquia, Fac Ciencias Agr, Grp Inves...</td>\n",
       "      <td>MAHECHA LEDESMA LILIANA</td>\n",
       "    </tr>\n",
       "    <tr>\n",
       "      <th>112</th>\n",
       "      <td>{'NOMBRES': 'Beatriz Helena', 'WOS_author': ['Castaneda, Beatriz', 'Castaneda, B.'], 'full_name': 'CASTAÑEDA RUBIO BEATRIZ HELENA', 'WOS_affiliation': ['Univ Antioquia, Fac Odontol, Dept Basic Stu...</td>\n",
       "      <td>CASTAÑEDA RUBIO BEATRIZ HELENA</td>\n",
       "    </tr>\n",
       "    <tr>\n",
       "      <th>113</th>\n",
       "      <td>{'WOS_author': ['Arnache, O.', 'Arnache Olmos, Oscar', 'Arnache, Oscar L.', 'Arnache, Oscar'], 'WOS_affiliation': ['Univ Antioquia, Dept Fis, Grp Estado Solido, Medellin 1226, Colombia.', 'Univ An...</td>\n",
       "      <td>ARNACHE OLMOS OSCAR LUIS</td>\n",
       "    </tr>\n",
       "    <tr>\n",
       "      <th>114</th>\n",
       "      <td>{'WOS_author': ['Pabon-Mora, Natalia'], 'WOS_affiliation': ['Univ Antioquia, Inst Biol, Medellin 1226, Colombia.', 'Univ Antioquia, Inst Biol, Medellin 1224, Colombia.', 'Univ Antioquia, Inst Biol...</td>\n",
       "      <td>PABON MORA NATALIA LUCIA</td>\n",
       "    </tr>\n",
       "    <tr>\n",
       "      <th>115</th>\n",
       "      <td>{'WOS_author': ['Alberto Gallo, Jaime', 'Gallo Villegas, J.', 'Gallo, Jaime', 'Gallo Villegas, Jaime', 'Gallo, Jaime A.', 'Gallo, J. A.', 'Gallo Villegas, Jaime Alberto'], 'WOS_affiliation': ['Uni...</td>\n",
       "      <td>GALLO VILLEGAS JAIME ALBERTO</td>\n",
       "    </tr>\n",
       "    <tr>\n",
       "      <th>116</th>\n",
       "      <td>{'WOS_author': ['Javier Aceituno, Francisco', 'Aceituno, Francisco Javier', 'Aceituno, Francisco J.'], 'WOS_affiliation': ['Univ Antioquia, Dept Antropol, Grp Medioambiente &amp; Soc, Medellin 1226, A...</td>\n",
       "      <td>ACEITUNO BOCANEGRA FRANCISCO JAVIER</td>\n",
       "    </tr>\n",
       "    <tr>\n",
       "      <th>117</th>\n",
       "      <td>{'WOS_author': ['Alexander Valencia, Leon'], 'WOS_affiliation': ['Univ Antioquia, Inst Matemat, Medellin, Colombia.'], 'INICIALES': 'L. A.', 'PRIMER APELLIDO': 'Valencia', 'SEGUNDO APELLIDO': 'Hen...</td>\n",
       "      <td>VALENCIA HENAO LEON ALEXANDER</td>\n",
       "    </tr>\n",
       "    <tr>\n",
       "      <th>118</th>\n",
       "      <td>{'NOMBRES': 'Maria', 'WOS_author': ['Agudelo, Maria', 'Agudelo, M.'], 'full_name': 'AGUDELO PEREZ MARIA', 'WOS_affiliation': ['Univ Antioquia, Sch Med, GRIPE Grp Investigador Problemas Enfermedade...</td>\n",
       "      <td>AGUDELO PEREZ MARIA</td>\n",
       "    </tr>\n",
       "    <tr>\n",
       "      <th>119</th>\n",
       "      <td>{'NOMBRES': 'Margarita Maria', 'WOS_author': ['Correa, Margarita M.', 'Correa, M. M.', 'Correa, Margarita'], 'full_name': 'CORREA OCHOA MARGARITA MARIA', 'WOS_affiliation': ['Univ Antioquia, Grp M...</td>\n",
       "      <td>CORREA OCHOA MARGARITA MARIA</td>\n",
       "    </tr>\n",
       "    <tr>\n",
       "      <th>12</th>\n",
       "      <td>{'WOS_author': ['Gallego, Jaime', 'Gallego Marin, Jaime'], 'WOS_affiliation': ['Univ Antioquia UdeA, Fac Ciencias Exactas &amp; Nat, Inst Quim, Quim Recursos Energet &amp; Media Ambiente, Medellin, Colomb...</td>\n",
       "      <td>GALLEGO MARIN JAIME ANDRES</td>\n",
       "    </tr>\n",
       "    <tr>\n",
       "      <th>120</th>\n",
       "      <td>{'WOS_author': ['Rueda, Edgar', 'Rueda, E.'], 'WOS_affiliation': ['Univ Antioquia, Grp Opt &amp; Fotonica, Inst Fis, Medellin, Colombia.', 'Univ Antioquia U A, Inst Fis, Grp Opt &amp; Foton, Medellin, Col...</td>\n",
       "      <td>RUEDA MUNOZ EDGAR ALBERTO</td>\n",
       "    </tr>\n",
       "    <tr>\n",
       "      <th>121</th>\n",
       "      <td>{'WOS_author': ['Sanchez, J.', 'Sanchez, Jorge', 'Sanchez Caraballo, Jorge Mario'], 'WOS_affiliation': ['Univ Antioquia, Grp Clin &amp; Expt Allergy GACE, Medellin, Colombia.', 'Univ Antioquia, IPS Un...</td>\n",
       "      <td>SANCHEZ CARABALLO JORGE MARIO</td>\n",
       "    </tr>\n",
       "    <tr>\n",
       "      <th>122</th>\n",
       "      <td>{'WOS_author': ['Andrea Velilla-Hernandez, Paula', 'Velilla, Paula A.', 'Velilla, P. A.', 'Velilla-Hernandez, Paula Andrea', 'Velilla, Paula', 'Andrea Velilla, Paula'], 'WOS_affiliation': ['Univ A...</td>\n",
       "      <td>VELILLA HERNANDEZ PAULA ANDREA</td>\n",
       "    </tr>\n",
       "    <tr>\n",
       "      <th>123</th>\n",
       "      <td>{'WOS_author': ['Chica, E.', 'Chica, Edwin L.', 'Chica, Edwin', 'Chica Arrieta, Edwin Lenin'], 'WOS_affiliation': ['Univ Antioquia, Dept Ingn Mecan, Fac Ingn, Medellin, Colombia.', 'Univ Antioquia...</td>\n",
       "      <td>CHICA ARRIETA EDWIN LENIN</td>\n",
       "    </tr>\n",
       "    <tr>\n",
       "      <th>124</th>\n",
       "      <td>{'WOS_author': ['Ossa Orozco, Claudia Patricia', 'Patricia Ossa, Claudia', 'Ossa Orozco, Claudia P.', 'Ossa Orozco, Claudia'], 'WOS_affiliation': ['Univ Antioquia UdeA, Fac Engn, Biomat Res Grp, B...</td>\n",
       "      <td>OSSA OROZCO CLAUDIA PATRICIA</td>\n",
       "    </tr>\n",
       "    <tr>\n",
       "      <th>...</th>\n",
       "      <td>...</td>\n",
       "      <td>...</td>\n",
       "    </tr>\n",
       "    <tr>\n",
       "      <th>792</th>\n",
       "      <td>{'WOS_author': ['Castano, Jorge'], 'WOS_affiliation': ['Univ Antioquia, Dept Patol, Hosp Univ San Vicente Paul, Fac Med, Medellin, Colombia.'], 'INICIALES': 'J. A.', 'PRIMER APELLIDO': 'Castaño', ...</td>\n",
       "      <td>CASTAÑO MONTOYA JORGE ALBERTO</td>\n",
       "    </tr>\n",
       "    <tr>\n",
       "      <th>793</th>\n",
       "      <td>{'NOMBRES': 'Jorge Alberto', 'WOS_author': ['Arismendi Echavarria, Jorge Alberto'], 'full_name': 'ARISMENDI ECHAVARRIA JORGE ALBERTO', 'WOS_affiliation': ['Univ Antioquia, Fac Odontol, Grp POPCAD,...</td>\n",
       "      <td>ARISMENDI ECHAVARRIA JORGE ALBERTO</td>\n",
       "    </tr>\n",
       "    <tr>\n",
       "      <th>794</th>\n",
       "      <td>{'NOMBRES': 'Jon Edinson', 'WOS_author': ['Duque, Jon'], 'full_name': 'DUQUE GRAJALES JON EDINSON', 'WOS_affiliation': ['Univ Antioquia, Bioinstrumentat &amp; Clin Res Grp GIBIC, Medellin, Colombia.']...</td>\n",
       "      <td>DUQUE GRAJALES JON EDINSON</td>\n",
       "    </tr>\n",
       "    <tr>\n",
       "      <th>795</th>\n",
       "      <td>{'NOMBRES': 'Oscar Horacio', 'WOS_author': ['Uribe Uribe, O.'], 'full_name': 'OSIO URIBE OSCAR HORACIO', 'WOS_affiliation': ['Univ Antioquia, Secc Reumatol, Hosp Univ San Vicente de Paul, Medellin...</td>\n",
       "      <td>OSIO URIBE OSCAR HORACIO</td>\n",
       "    </tr>\n",
       "    <tr>\n",
       "      <th>796</th>\n",
       "      <td>{'NOMBRES': 'Oscar Arturo', 'WOS_author': ['Zapata, Oscar'], 'full_name': 'ZAPATA NOREÑA OSCAR ARTURO', 'WOS_affiliation': ['Univ Antioquia, Fac Dent, Antioquia, Colombia.'], 'INICIALES': 'O. A.',...</td>\n",
       "      <td>ZAPATA NOREÑA OSCAR ARTURO</td>\n",
       "    </tr>\n",
       "    <tr>\n",
       "      <th>797</th>\n",
       "      <td>{'WOS_author': ['Arango, Juan C.', 'Arango Viana, Juan C.'], 'WOS_affiliation': ['Univ Antioquia, Fac Med, Dept Patol, Medellin, Antioquia, Colombia.', 'Univ Antioquia, Dept Psychiat, Fac Med, Med...</td>\n",
       "      <td>ARANGO VIANA JUAN CARLOS</td>\n",
       "    </tr>\n",
       "    <tr>\n",
       "      <th>798</th>\n",
       "      <td>{'WOS_author': ['Pena, Lina'], 'WOS_affiliation': ['Univ Antioquia, Grad Program Clin Toxicol, Medellin, Colombia.'], 'INICIALES': 'L. M.', 'PRIMER APELLIDO': 'Peña', 'SEGUNDO APELLIDO': 'Acevedo'...</td>\n",
       "      <td>PEÑA ACEVEDO LINA MARIA</td>\n",
       "    </tr>\n",
       "    <tr>\n",
       "      <th>799</th>\n",
       "      <td>{'WOS_author': ['Mesa, Natalia'], 'WOS_affiliation': ['Univ Antioquia, Medellin, Colombia.'], 'INICIALES': 'N. R.', 'PRIMER APELLIDO': 'Mesa', 'SEGUNDO APELLIDO': 'Herrera', 'NOMBRES': 'Natalia Re...</td>\n",
       "      <td>MESA HERRERA NATALIA REGINA</td>\n",
       "    </tr>\n",
       "    <tr>\n",
       "      <th>8</th>\n",
       "      <td>{'WOS_author': ['Agudelo, John R.', 'Agudelo, John'], 'WOS_affiliation': ['Univ Antioquia UdeA, Dept Mech Engn, Antioquia, Colombia.', 'Univ Antioquia UdeA, Dept Ingn Mecan, Medellin, Colombia.', ...</td>\n",
       "      <td>AGUDELO SANTAMARIA JOHN RAMIRO</td>\n",
       "    </tr>\n",
       "    <tr>\n",
       "      <th>80</th>\n",
       "      <td>{'NOMBRES': 'Van Horn', 'WOS_author': ['Dover, Robert V. H.'], 'full_name': 'DOVER ROBERT VAN HORN', 'WOS_affiliation': ['Univ Antioquia, Dept Antropol, Antioquia, Colombia.', 'Univ Antioquia, Fac...</td>\n",
       "      <td>DOVER ROBERT VAN HORN</td>\n",
       "    </tr>\n",
       "    <tr>\n",
       "      <th>81</th>\n",
       "      <td>{'WOS_author': ['Cruz, Roberto', 'Cruz-Rodes, Roberto'], 'WOS_affiliation': ['Univ Antioquia, Inst Matemat, Medellin 1226, Colombia.', 'Univ Antioquia, Inst Matemat, Medellin, Colombia.', 'Univ An...</td>\n",
       "      <td>CRUZ RODES ROBERTO</td>\n",
       "    </tr>\n",
       "    <tr>\n",
       "      <th>82</th>\n",
       "      <td>{'WOS_author': ['Martinez Aranzales, J. R.', 'Martinez, Jose R.', 'Martinez Aranzales, Jose R.'], 'WOS_affiliation': ['Univ Antioquia UdeA, LIMCE, Fac Ciencias Agr, Escuela Med Vet,Grp Invest Cent...</td>\n",
       "      <td>MARTINEZ ARANZALES JOSE RAMON</td>\n",
       "    </tr>\n",
       "    <tr>\n",
       "      <th>83</th>\n",
       "      <td>{'NOMBRES': 'Ivan Dario', 'WOS_author': ['Arroyave, Ivan'], 'full_name': 'ARROYAVE ZULUAGA IVAN DARIO', 'WOS_affiliation': ['Univ Antioquia, Natl Sch Publ Hlth, Medellin, Colombia.', 'Univ Antioqu...</td>\n",
       "      <td>ARROYAVE ZULUAGA IVAN DARIO</td>\n",
       "    </tr>\n",
       "    <tr>\n",
       "      <th>84</th>\n",
       "      <td>{'WOS_author': ['Amell, Andres', 'Amell Arrieta, Andres A.', 'Amell, Andres A.', 'Amell Arrieta, Andres', 'Amell-Arrieta, Andres-Adolfo', 'Arrieta, Andres-Amell', 'Amell, A. A.'], 'WOS_affiliation...</td>\n",
       "      <td>AMELL ARRIETA ANDRES ADOLFO</td>\n",
       "    </tr>\n",
       "    <tr>\n",
       "      <th>85</th>\n",
       "      <td>{'NOMBRES': 'Mauricio', 'WOS_author': ['Camargo, Mauricio', 'Camargo, M.'], 'full_name': 'CAMARGO GUERRERO MAURICIO', 'WOS_affiliation': ['Univ Antioquia, Fac Ciencias Exactas &amp; Nat, Grp Genet Reg...</td>\n",
       "      <td>CAMARGO GUERRERO MAURICIO</td>\n",
       "    </tr>\n",
       "    <tr>\n",
       "      <th>86</th>\n",
       "      <td>{'WOS_author': ['Carlos Gallego-Gomez, Juan', 'Gallego-Gomez, Juan C.'], 'WOS_affiliation': ['Univ Antioquia, Fac Med, Med Res Inst, Mol &amp; Translat Med Grp, Medellin, Colombia.', 'Univ Antioquia, ...</td>\n",
       "      <td>GALLEGO GOMEZ JUAN CARLOS</td>\n",
       "    </tr>\n",
       "    <tr>\n",
       "      <th>87</th>\n",
       "      <td>{'WOS_author': ['Duque, P. A. Maya', 'Maya Duque, Pablo Andres', 'Duque, Pablo A. Maya', 'Maya, Pablo', 'Maya Duque, Pablo', 'Maya Duque, Pablo A.'], 'WOS_affiliation': ['Univ Antioquia, Fac Engn,...</td>\n",
       "      <td>MAYA DUQUE PABLO ANDRES</td>\n",
       "    </tr>\n",
       "    <tr>\n",
       "      <th>88</th>\n",
       "      <td>{'WOS_author': ['Castano, J. G.', 'Castano, Juan G.', 'Castano, Juan', 'Guillermo Castano, Juan'], 'WOS_affiliation': ['Univ Antioquia UdeA, Ctr Invest Innovac &amp; Desarrollo Mat CIDEMAT, Medellin, ...</td>\n",
       "      <td>CASTAÑO GONZALEZ JUAN GUILLERMO</td>\n",
       "    </tr>\n",
       "    <tr>\n",
       "      <th>89</th>\n",
       "      <td>{'WOS_author': ['Vazquez, Mario', 'Vazquez, Mario V.'], 'WOS_affiliation': ['Univ Antioquia, Grp Interdisciplinario Estudios Mol, Inst Quim, Medellin, Colombia.', 'Univ Antioquia, Fac Ciencias Exa...</td>\n",
       "      <td>VAZQUEZ CEBALLOS MARIO VICTOR</td>\n",
       "    </tr>\n",
       "    <tr>\n",
       "      <th>9</th>\n",
       "      <td>{'WOS_author': ['McEwen, Juan G.', 'McEwen Ochoa, Juan G.', 'Guillermo McEwen, Juan', 'McEwen, J. G.', 'Mcewen, Juan G.', 'McEwen Ochoa, Juan Guillermo'], 'WOS_affiliation': ['Univ Antioquia, Fac ...</td>\n",
       "      <td>MCEWEN OCHOA JUAN GUILLERMO</td>\n",
       "    </tr>\n",
       "    <tr>\n",
       "      <th>90</th>\n",
       "      <td>{'WOS_author': ['Munoz-Cuartas, J. C.'], 'WOS_affiliation': ['Univ Antioquia, Inst Fis, Grp Computat Phys &amp; Astrophys, Medellin, Colombia.'], 'INICIALES': 'J. C.', 'PRIMER APELLIDO': 'Muñoz', 'SEG...</td>\n",
       "      <td>MUÑOZ CUARTAS JUAN CARLOS</td>\n",
       "    </tr>\n",
       "    <tr>\n",
       "      <th>91</th>\n",
       "      <td>{'NOMBRES': 'Luz Elena', 'WOS_author': ['Cano, Luz E.', 'Elena Cano, Luz', 'Cano, Luz Elena'], 'full_name': 'CANO RESTREPO LUZ ELENA', 'WOS_affiliation': ['Univ Antioquia, Sch Microbiol, Medellin,...</td>\n",
       "      <td>CANO RESTREPO LUZ ELENA</td>\n",
       "    </tr>\n",
       "    <tr>\n",
       "      <th>92</th>\n",
       "      <td>{'NOMBRES': 'Arley Camilo', 'WOS_author': ['Camilo Patino, Arley', 'Patino, Arley', 'Patino, Arley Camilo', 'Patino, Arley C.'], 'full_name': 'PATIÑO LLANO ARLEY CAMILO', 'WOS_affiliation': ['Univ...</td>\n",
       "      <td>PATIÑO LLANO ARLEY CAMILO</td>\n",
       "    </tr>\n",
       "    <tr>\n",
       "      <th>93</th>\n",
       "      <td>{'WOS_author': ['Turbay, Sandra'], 'WOS_affiliation': ['Univ Antioquia, Antioquia, Colombia.', 'Univ Antioquia, Grp Invest Medio Ambiente &amp; Soc, Fac Ciencias Sociales &amp; Humanas, Medellin, Colombia...</td>\n",
       "      <td>TURBAY CEBALLOS SANDRA MARIA</td>\n",
       "    </tr>\n",
       "    <tr>\n",
       "      <th>94</th>\n",
       "      <td>{'WOS_author': ['Soto-Calderon, Ivan D.', 'Dario Soto-Calderon, Ivan', 'Soto-Calderon, I. D.'], 'WOS_affiliation': ['Univ Antioquia, Mol Genet Lab GENMOL, Medellin 1226, Colombia.', 'Univ Antioqui...</td>\n",
       "      <td>SOTO CALDERON IVAN DARIO</td>\n",
       "    </tr>\n",
       "    <tr>\n",
       "      <th>95</th>\n",
       "      <td>{'NOMBRES': 'Fredy Alonso', 'WOS_author': ['Patino Villada, Fredy Alonso', 'Alonso Patino, Fredy', 'Patino, Fredy A.'], 'full_name': 'PATIÑO VILLADA FREDY ALONSO', 'WOS_affiliation': ['Univ Antioq...</td>\n",
       "      <td>PATIÑO VILLADA FREDY ALONSO</td>\n",
       "    </tr>\n",
       "    <tr>\n",
       "      <th>96</th>\n",
       "      <td>{'WOS_author': ['Mira-Agudelo, Alejandro', 'Mira, Alejandro', 'Mira-Agudelo, A.'], 'WOS_affiliation': ['Univ Antioquia UdeA, Fac Ciencias Exactas &amp; Nat, Inst Fis, Grp Opt &amp; Foton, Medellin, Colomb...</td>\n",
       "      <td>MIRA AGUDELO ALEJANDRO</td>\n",
       "    </tr>\n",
       "    <tr>\n",
       "      <th>97</th>\n",
       "      <td>{'WOS_author': ['Sanz-Vicario, J. L.', 'Luis Sanz-Vicario, Jose'], 'WOS_affiliation': ['Univ Antioquia, Inst Fis, Grp Fis Atom &amp; Mol, Medellin, Colombia.', 'Univ Antioquia, Grp Fis Atom &amp; Mol, Ins...</td>\n",
       "      <td>SANZ VICARIO JOSE LUIS</td>\n",
       "    </tr>\n",
       "    <tr>\n",
       "      <th>98</th>\n",
       "      <td>{'WOS_author': ['Manuel Alfaro, Juan'], 'WOS_affiliation': ['Univ Antioquia, Dept Pediat, Medicne Fac, Gene Mapping Grp, Medellin 1226, Colombia.', 'Univ Antioquia, Sect Pediat Endocrinoly, Medicn...</td>\n",
       "      <td>ALFARO VELASQUEZ JUAN MANUEL</td>\n",
       "    </tr>\n",
       "    <tr>\n",
       "      <th>99</th>\n",
       "      <td>{'WOS_author': ['Lopez, E.', 'Lopez, M. E.', 'Lopez Gomez, Maria Esperanza', 'Lopez, Esperanza'], 'WOS_affiliation': ['Univ Antioquia, Pyromet &amp; Mat Res Grp GIPIMME, Medellin 53108, Colombia.', 'U...</td>\n",
       "      <td>LOPEZ GOMEZ MARIA ESPERANZA</td>\n",
       "    </tr>\n",
       "  </tbody>\n",
       "</table>\n",
       "<p>800 rows × 2 columns</p>\n",
       "</div>"
      ],
      "text/plain": [
       "                                                                                                                                                                                                UDEA_authors  \\\n",
       "0    {'WOS_author': ['Duque, C. A.', 'Duque, Carlos A.', 'Alberto Duque, Carlos', 'Duque, Carlos'], 'WOS_affiliation': ['Univ Antioquia UdeA, Fac Ciencias Exactas & Nat, Inst Fis, Grp Mat Condensada Ud...   \n",
       "1    {'WOS_author': ['Antonio Penuela, Gustavo', 'Penuela, Gustavo A.', 'Penuela, Gustavo Antonio', 'Penuela Mesa, Gustavo Antonio', 'Penuela, Gustavo', 'Penuela, G.', 'Penuela, G. A.', 'Penuela Mesa, ...   \n",
       "10   {'WOS_author': ['Pachon, Leonardo A.'], 'WOS_affiliation': ['Univ Antioquia UdeA, Fac Ciencias Exactas & Nat, Inst Fis, Grp Fis Atom & Mol, Medellin, Colombia.', 'Univ Antioquia UdeA, Grp Fis Atom...   \n",
       "100  {'WOS_author': ['Mazo-Zuluaga, J.'], 'WOS_affiliation': ['Univ Antioquia UdeA, IF FCEN, Grp Estado Solido, Medellin, Colombia.', 'Univ Antioquia, IF FCEN, GICM Grp, Medellin, Colombia.', 'Univ Ant...   \n",
       "101  {'NOMBRES': 'Del Socorro', 'WOS_author': ['Rodriguez-Osorio, Nelida'], 'full_name': 'RODRIGUEZ OSORIO NELIDA DEL SOCORRO', 'WOS_affiliation': ['Univ Antioquia, Grp CENTAURO, Medellin, Colombia.', ...   \n",
       "102  {'WOS_author': ['Zuluaga, Jorge I.', 'Zuluaga, Jorge', 'Zuluaga, J.', 'Zuluaga, J. I.'], 'WOS_affiliation': ['Univ Antioquia, FACom Inst Fis FCEN, Medellin, Colombia.', 'Univ Antioquia, FACom, FCE...   \n",
       "103  {'WOS_author': ['Hadad, C. Z.', 'Hadad, Cacier Z.'], 'WOS_affiliation': ['Univ Antioquia, Inst Quim, Grp Quim Fis Teor, Medellin AA1226, Colombia.', 'Univ Antioquia, Inst Quim, Grp Quim Fis Teor, ...   \n",
       "104  {'WOS_author': ['Rada, Juan', 'Rada, J.'], 'WOS_affiliation': ['Univ Antioquia, Inst Matemat, Medellin, Colombia.', 'Univ Antioquia Medellin, Inst Matemat, Medellin, Colombia.', 'Univ Antioquia, I...   \n",
       "105  {'NOMBRES': 'Orville', 'WOS_author': ['Hernandez, Orville', 'Hernandez-Ruiz, Orville', 'Hernandez Ruiz, Orville', 'Hernandez, O.'], 'full_name': 'HERNANDEZ RUIZ ORVILLE', 'WOS_affiliation': ['Univ...   \n",
       "106  {'WOS_author': ['Paez, Vivian P.', 'Paez, Vivian'], 'WOS_affiliation': ['Univ Antioquia, Inst Biol, Grp Herpetol Antioquia, Medellin, Colombia.', 'Univ Antioquia, Inst Biol, Medellin 1226, Colombi...   \n",
       "107  {'NOMBRES': 'Luisa Fernanda', 'WOS_author': ['Rojas, Luisa F.', 'Rojas, L. F.', 'Rojas, Luisa Fernanda'], 'full_name': 'ROJAS HOYOS LUISA FERNANDA', 'WOS_affiliation': ['Univ Antioquia, Escuela Mi...   \n",
       "108  {'WOS_author': ['Sierra, Javier M.', 'Mauricio Sierra, Javier'], 'WOS_affiliation': ['Univ Antioquia, Pediaciencias Res Grp, Sch Med, Dept Pediat, Medellin, Colombia.', 'Univ Antioquia, Medellin 0...   \n",
       "109  {'WOS_author': ['Bustamante, Felipe'], 'WOS_affiliation': ['Univ Antioquia, Medellin, Colombia.', 'Univ Antioquia, Sede Invest Univ SIU, Environm Catalysis Res Grp, Medellin, Colombia.', 'Univ Ant...   \n",
       "11   {'WOS_author': ['Osorio-Guillen, J. M.', 'Osorio-Guillen, Jorge M.', 'Osorio-Guillen, Jorge', 'Mario Osorio-Guillen, Jorge'], 'WOS_affiliation': ['Univ Antioquia UdeA, Inst Fis, Medellin, Colombia...   \n",
       "110  {'WOS_author': ['Cardeno, Liliam'], 'WOS_affiliation': ['Univ Antioquia, Inst Matemat, Medellin 51922, Colombia.'], 'INICIALES': 'L.', 'PRIMER APELLIDO': 'Cardeño', 'SEGUNDO APELLIDO': 'Acero', 'N...   \n",
       "111  {'WOS_author': ['Mahecha, Liliana', 'Mahecha, L.'], 'WOS_affiliation': ['Univ Antioquia, Fac Ciencias Agr, Grp Invest GRICA, Medellin 1226, Colombia.', 'Univ Antioquia, Fac Ciencias Agr, Grp Inves...   \n",
       "112  {'NOMBRES': 'Beatriz Helena', 'WOS_author': ['Castaneda, Beatriz', 'Castaneda, B.'], 'full_name': 'CASTAÑEDA RUBIO BEATRIZ HELENA', 'WOS_affiliation': ['Univ Antioquia, Fac Odontol, Dept Basic Stu...   \n",
       "113  {'WOS_author': ['Arnache, O.', 'Arnache Olmos, Oscar', 'Arnache, Oscar L.', 'Arnache, Oscar'], 'WOS_affiliation': ['Univ Antioquia, Dept Fis, Grp Estado Solido, Medellin 1226, Colombia.', 'Univ An...   \n",
       "114  {'WOS_author': ['Pabon-Mora, Natalia'], 'WOS_affiliation': ['Univ Antioquia, Inst Biol, Medellin 1226, Colombia.', 'Univ Antioquia, Inst Biol, Medellin 1224, Colombia.', 'Univ Antioquia, Inst Biol...   \n",
       "115  {'WOS_author': ['Alberto Gallo, Jaime', 'Gallo Villegas, J.', 'Gallo, Jaime', 'Gallo Villegas, Jaime', 'Gallo, Jaime A.', 'Gallo, J. A.', 'Gallo Villegas, Jaime Alberto'], 'WOS_affiliation': ['Uni...   \n",
       "116  {'WOS_author': ['Javier Aceituno, Francisco', 'Aceituno, Francisco Javier', 'Aceituno, Francisco J.'], 'WOS_affiliation': ['Univ Antioquia, Dept Antropol, Grp Medioambiente & Soc, Medellin 1226, A...   \n",
       "117  {'WOS_author': ['Alexander Valencia, Leon'], 'WOS_affiliation': ['Univ Antioquia, Inst Matemat, Medellin, Colombia.'], 'INICIALES': 'L. A.', 'PRIMER APELLIDO': 'Valencia', 'SEGUNDO APELLIDO': 'Hen...   \n",
       "118  {'NOMBRES': 'Maria', 'WOS_author': ['Agudelo, Maria', 'Agudelo, M.'], 'full_name': 'AGUDELO PEREZ MARIA', 'WOS_affiliation': ['Univ Antioquia, Sch Med, GRIPE Grp Investigador Problemas Enfermedade...   \n",
       "119  {'NOMBRES': 'Margarita Maria', 'WOS_author': ['Correa, Margarita M.', 'Correa, M. M.', 'Correa, Margarita'], 'full_name': 'CORREA OCHOA MARGARITA MARIA', 'WOS_affiliation': ['Univ Antioquia, Grp M...   \n",
       "12   {'WOS_author': ['Gallego, Jaime', 'Gallego Marin, Jaime'], 'WOS_affiliation': ['Univ Antioquia UdeA, Fac Ciencias Exactas & Nat, Inst Quim, Quim Recursos Energet & Media Ambiente, Medellin, Colomb...   \n",
       "120  {'WOS_author': ['Rueda, Edgar', 'Rueda, E.'], 'WOS_affiliation': ['Univ Antioquia, Grp Opt & Fotonica, Inst Fis, Medellin, Colombia.', 'Univ Antioquia U A, Inst Fis, Grp Opt & Foton, Medellin, Col...   \n",
       "121  {'WOS_author': ['Sanchez, J.', 'Sanchez, Jorge', 'Sanchez Caraballo, Jorge Mario'], 'WOS_affiliation': ['Univ Antioquia, Grp Clin & Expt Allergy GACE, Medellin, Colombia.', 'Univ Antioquia, IPS Un...   \n",
       "122  {'WOS_author': ['Andrea Velilla-Hernandez, Paula', 'Velilla, Paula A.', 'Velilla, P. A.', 'Velilla-Hernandez, Paula Andrea', 'Velilla, Paula', 'Andrea Velilla, Paula'], 'WOS_affiliation': ['Univ A...   \n",
       "123  {'WOS_author': ['Chica, E.', 'Chica, Edwin L.', 'Chica, Edwin', 'Chica Arrieta, Edwin Lenin'], 'WOS_affiliation': ['Univ Antioquia, Dept Ingn Mecan, Fac Ingn, Medellin, Colombia.', 'Univ Antioquia...   \n",
       "124  {'WOS_author': ['Ossa Orozco, Claudia Patricia', 'Patricia Ossa, Claudia', 'Ossa Orozco, Claudia P.', 'Ossa Orozco, Claudia'], 'WOS_affiliation': ['Univ Antioquia UdeA, Fac Engn, Biomat Res Grp, B...   \n",
       "..                                                                                                                                                                                                       ...   \n",
       "792  {'WOS_author': ['Castano, Jorge'], 'WOS_affiliation': ['Univ Antioquia, Dept Patol, Hosp Univ San Vicente Paul, Fac Med, Medellin, Colombia.'], 'INICIALES': 'J. A.', 'PRIMER APELLIDO': 'Castaño', ...   \n",
       "793  {'NOMBRES': 'Jorge Alberto', 'WOS_author': ['Arismendi Echavarria, Jorge Alberto'], 'full_name': 'ARISMENDI ECHAVARRIA JORGE ALBERTO', 'WOS_affiliation': ['Univ Antioquia, Fac Odontol, Grp POPCAD,...   \n",
       "794  {'NOMBRES': 'Jon Edinson', 'WOS_author': ['Duque, Jon'], 'full_name': 'DUQUE GRAJALES JON EDINSON', 'WOS_affiliation': ['Univ Antioquia, Bioinstrumentat & Clin Res Grp GIBIC, Medellin, Colombia.']...   \n",
       "795  {'NOMBRES': 'Oscar Horacio', 'WOS_author': ['Uribe Uribe, O.'], 'full_name': 'OSIO URIBE OSCAR HORACIO', 'WOS_affiliation': ['Univ Antioquia, Secc Reumatol, Hosp Univ San Vicente de Paul, Medellin...   \n",
       "796  {'NOMBRES': 'Oscar Arturo', 'WOS_author': ['Zapata, Oscar'], 'full_name': 'ZAPATA NOREÑA OSCAR ARTURO', 'WOS_affiliation': ['Univ Antioquia, Fac Dent, Antioquia, Colombia.'], 'INICIALES': 'O. A.',...   \n",
       "797  {'WOS_author': ['Arango, Juan C.', 'Arango Viana, Juan C.'], 'WOS_affiliation': ['Univ Antioquia, Fac Med, Dept Patol, Medellin, Antioquia, Colombia.', 'Univ Antioquia, Dept Psychiat, Fac Med, Med...   \n",
       "798  {'WOS_author': ['Pena, Lina'], 'WOS_affiliation': ['Univ Antioquia, Grad Program Clin Toxicol, Medellin, Colombia.'], 'INICIALES': 'L. M.', 'PRIMER APELLIDO': 'Peña', 'SEGUNDO APELLIDO': 'Acevedo'...   \n",
       "799  {'WOS_author': ['Mesa, Natalia'], 'WOS_affiliation': ['Univ Antioquia, Medellin, Colombia.'], 'INICIALES': 'N. R.', 'PRIMER APELLIDO': 'Mesa', 'SEGUNDO APELLIDO': 'Herrera', 'NOMBRES': 'Natalia Re...   \n",
       "8    {'WOS_author': ['Agudelo, John R.', 'Agudelo, John'], 'WOS_affiliation': ['Univ Antioquia UdeA, Dept Mech Engn, Antioquia, Colombia.', 'Univ Antioquia UdeA, Dept Ingn Mecan, Medellin, Colombia.', ...   \n",
       "80   {'NOMBRES': 'Van Horn', 'WOS_author': ['Dover, Robert V. H.'], 'full_name': 'DOVER ROBERT VAN HORN', 'WOS_affiliation': ['Univ Antioquia, Dept Antropol, Antioquia, Colombia.', 'Univ Antioquia, Fac...   \n",
       "81   {'WOS_author': ['Cruz, Roberto', 'Cruz-Rodes, Roberto'], 'WOS_affiliation': ['Univ Antioquia, Inst Matemat, Medellin 1226, Colombia.', 'Univ Antioquia, Inst Matemat, Medellin, Colombia.', 'Univ An...   \n",
       "82   {'WOS_author': ['Martinez Aranzales, J. R.', 'Martinez, Jose R.', 'Martinez Aranzales, Jose R.'], 'WOS_affiliation': ['Univ Antioquia UdeA, LIMCE, Fac Ciencias Agr, Escuela Med Vet,Grp Invest Cent...   \n",
       "83   {'NOMBRES': 'Ivan Dario', 'WOS_author': ['Arroyave, Ivan'], 'full_name': 'ARROYAVE ZULUAGA IVAN DARIO', 'WOS_affiliation': ['Univ Antioquia, Natl Sch Publ Hlth, Medellin, Colombia.', 'Univ Antioqu...   \n",
       "84   {'WOS_author': ['Amell, Andres', 'Amell Arrieta, Andres A.', 'Amell, Andres A.', 'Amell Arrieta, Andres', 'Amell-Arrieta, Andres-Adolfo', 'Arrieta, Andres-Amell', 'Amell, A. A.'], 'WOS_affiliation...   \n",
       "85   {'NOMBRES': 'Mauricio', 'WOS_author': ['Camargo, Mauricio', 'Camargo, M.'], 'full_name': 'CAMARGO GUERRERO MAURICIO', 'WOS_affiliation': ['Univ Antioquia, Fac Ciencias Exactas & Nat, Grp Genet Reg...   \n",
       "86   {'WOS_author': ['Carlos Gallego-Gomez, Juan', 'Gallego-Gomez, Juan C.'], 'WOS_affiliation': ['Univ Antioquia, Fac Med, Med Res Inst, Mol & Translat Med Grp, Medellin, Colombia.', 'Univ Antioquia, ...   \n",
       "87   {'WOS_author': ['Duque, P. A. Maya', 'Maya Duque, Pablo Andres', 'Duque, Pablo A. Maya', 'Maya, Pablo', 'Maya Duque, Pablo', 'Maya Duque, Pablo A.'], 'WOS_affiliation': ['Univ Antioquia, Fac Engn,...   \n",
       "88   {'WOS_author': ['Castano, J. G.', 'Castano, Juan G.', 'Castano, Juan', 'Guillermo Castano, Juan'], 'WOS_affiliation': ['Univ Antioquia UdeA, Ctr Invest Innovac & Desarrollo Mat CIDEMAT, Medellin, ...   \n",
       "89   {'WOS_author': ['Vazquez, Mario', 'Vazquez, Mario V.'], 'WOS_affiliation': ['Univ Antioquia, Grp Interdisciplinario Estudios Mol, Inst Quim, Medellin, Colombia.', 'Univ Antioquia, Fac Ciencias Exa...   \n",
       "9    {'WOS_author': ['McEwen, Juan G.', 'McEwen Ochoa, Juan G.', 'Guillermo McEwen, Juan', 'McEwen, J. G.', 'Mcewen, Juan G.', 'McEwen Ochoa, Juan Guillermo'], 'WOS_affiliation': ['Univ Antioquia, Fac ...   \n",
       "90   {'WOS_author': ['Munoz-Cuartas, J. C.'], 'WOS_affiliation': ['Univ Antioquia, Inst Fis, Grp Computat Phys & Astrophys, Medellin, Colombia.'], 'INICIALES': 'J. C.', 'PRIMER APELLIDO': 'Muñoz', 'SEG...   \n",
       "91   {'NOMBRES': 'Luz Elena', 'WOS_author': ['Cano, Luz E.', 'Elena Cano, Luz', 'Cano, Luz Elena'], 'full_name': 'CANO RESTREPO LUZ ELENA', 'WOS_affiliation': ['Univ Antioquia, Sch Microbiol, Medellin,...   \n",
       "92   {'NOMBRES': 'Arley Camilo', 'WOS_author': ['Camilo Patino, Arley', 'Patino, Arley', 'Patino, Arley Camilo', 'Patino, Arley C.'], 'full_name': 'PATIÑO LLANO ARLEY CAMILO', 'WOS_affiliation': ['Univ...   \n",
       "93   {'WOS_author': ['Turbay, Sandra'], 'WOS_affiliation': ['Univ Antioquia, Antioquia, Colombia.', 'Univ Antioquia, Grp Invest Medio Ambiente & Soc, Fac Ciencias Sociales & Humanas, Medellin, Colombia...   \n",
       "94   {'WOS_author': ['Soto-Calderon, Ivan D.', 'Dario Soto-Calderon, Ivan', 'Soto-Calderon, I. D.'], 'WOS_affiliation': ['Univ Antioquia, Mol Genet Lab GENMOL, Medellin 1226, Colombia.', 'Univ Antioqui...   \n",
       "95   {'NOMBRES': 'Fredy Alonso', 'WOS_author': ['Patino Villada, Fredy Alonso', 'Alonso Patino, Fredy', 'Patino, Fredy A.'], 'full_name': 'PATIÑO VILLADA FREDY ALONSO', 'WOS_affiliation': ['Univ Antioq...   \n",
       "96   {'WOS_author': ['Mira-Agudelo, Alejandro', 'Mira, Alejandro', 'Mira-Agudelo, A.'], 'WOS_affiliation': ['Univ Antioquia UdeA, Fac Ciencias Exactas & Nat, Inst Fis, Grp Opt & Foton, Medellin, Colomb...   \n",
       "97   {'WOS_author': ['Sanz-Vicario, J. L.', 'Luis Sanz-Vicario, Jose'], 'WOS_affiliation': ['Univ Antioquia, Inst Fis, Grp Fis Atom & Mol, Medellin, Colombia.', 'Univ Antioquia, Grp Fis Atom & Mol, Ins...   \n",
       "98   {'WOS_author': ['Manuel Alfaro, Juan'], 'WOS_affiliation': ['Univ Antioquia, Dept Pediat, Medicne Fac, Gene Mapping Grp, Medellin 1226, Colombia.', 'Univ Antioquia, Sect Pediat Endocrinoly, Medicn...   \n",
       "99   {'WOS_author': ['Lopez, E.', 'Lopez, M. E.', 'Lopez Gomez, Maria Esperanza', 'Lopez, Esperanza'], 'WOS_affiliation': ['Univ Antioquia, Pyromet & Mat Res Grp GIPIMME, Medellin 53108, Colombia.', 'U...   \n",
       "\n",
       "                              tmp_author  \n",
       "0         DUQUE ECHEVERRI CARLOS ALBERTO  \n",
       "1           PEÑUELA MESA GUSTAVO ANTONIO  \n",
       "10     PACHON CONTRERAS LEONARDO AUGUSTO  \n",
       "100                  MAZO ZULUAGA JOHANN  \n",
       "101  RODRIGUEZ OSORIO NELIDA DEL SOCORRO  \n",
       "102          ZULUAGA CALLEJAS JORGE IVAN  \n",
       "103        HADAD ARRIAGADA CACIER ZILAHY  \n",
       "104               RADA RINCON JUAN PABLO  \n",
       "105               HERNANDEZ RUIZ ORVILLE  \n",
       "106           PAEZ NIETO VIVIAN PATRICIA  \n",
       "107           ROJAS HOYOS LUISA FERNANDA  \n",
       "108       SIERRA ABAUNZA JAVIER MAURICIO  \n",
       "109            BUSTAMANTE LONDOÑO FELIPE  \n",
       "11            OSORIO GUILLEN JORGE MARIO  \n",
       "110                 CARDEÑO ACERO LILIAM  \n",
       "111              MAHECHA LEDESMA LILIANA  \n",
       "112       CASTAÑEDA RUBIO BEATRIZ HELENA  \n",
       "113             ARNACHE OLMOS OSCAR LUIS  \n",
       "114             PABON MORA NATALIA LUCIA  \n",
       "115         GALLO VILLEGAS JAIME ALBERTO  \n",
       "116  ACEITUNO BOCANEGRA FRANCISCO JAVIER  \n",
       "117        VALENCIA HENAO LEON ALEXANDER  \n",
       "118                  AGUDELO PEREZ MARIA  \n",
       "119         CORREA OCHOA MARGARITA MARIA  \n",
       "12            GALLEGO MARIN JAIME ANDRES  \n",
       "120            RUEDA MUNOZ EDGAR ALBERTO  \n",
       "121        SANCHEZ CARABALLO JORGE MARIO  \n",
       "122       VELILLA HERNANDEZ PAULA ANDREA  \n",
       "123            CHICA ARRIETA EDWIN LENIN  \n",
       "124         OSSA OROZCO CLAUDIA PATRICIA  \n",
       "..                                   ...  \n",
       "792        CASTAÑO MONTOYA JORGE ALBERTO  \n",
       "793   ARISMENDI ECHAVARRIA JORGE ALBERTO  \n",
       "794           DUQUE GRAJALES JON EDINSON  \n",
       "795             OSIO URIBE OSCAR HORACIO  \n",
       "796           ZAPATA NOREÑA OSCAR ARTURO  \n",
       "797             ARANGO VIANA JUAN CARLOS  \n",
       "798              PEÑA ACEVEDO LINA MARIA  \n",
       "799          MESA HERRERA NATALIA REGINA  \n",
       "8         AGUDELO SANTAMARIA JOHN RAMIRO  \n",
       "80                 DOVER ROBERT VAN HORN  \n",
       "81                    CRUZ RODES ROBERTO  \n",
       "82         MARTINEZ ARANZALES JOSE RAMON  \n",
       "83           ARROYAVE ZULUAGA IVAN DARIO  \n",
       "84           AMELL ARRIETA ANDRES ADOLFO  \n",
       "85             CAMARGO GUERRERO MAURICIO  \n",
       "86             GALLEGO GOMEZ JUAN CARLOS  \n",
       "87               MAYA DUQUE PABLO ANDRES  \n",
       "88       CASTAÑO GONZALEZ JUAN GUILLERMO  \n",
       "89         VAZQUEZ CEBALLOS MARIO VICTOR  \n",
       "9            MCEWEN OCHOA JUAN GUILLERMO  \n",
       "90             MUÑOZ CUARTAS JUAN CARLOS  \n",
       "91               CANO RESTREPO LUZ ELENA  \n",
       "92             PATIÑO LLANO ARLEY CAMILO  \n",
       "93          TURBAY CEBALLOS SANDRA MARIA  \n",
       "94              SOTO CALDERON IVAN DARIO  \n",
       "95           PATIÑO VILLADA FREDY ALONSO  \n",
       "96                MIRA AGUDELO ALEJANDRO  \n",
       "97                SANZ VICARIO JOSE LUIS  \n",
       "98          ALFARO VELASQUEZ JUAN MANUEL  \n",
       "99           LOPEZ GOMEZ MARIA ESPERANZA  \n",
       "\n",
       "[800 rows x 2 columns]"
      ]
     },
     "execution_count": 10,
     "metadata": {},
     "output_type": "execute_result"
    }
   ],
   "source": [
    "aunly"
   ]
  },
  {
   "cell_type": "code",
   "execution_count": null,
   "metadata": {},
   "outputs": [],
   "source": []
  }
 ],
 "metadata": {
  "colab": {
   "include_colab_link": true,
   "name": "merge.ipynb",
   "provenance": [],
   "version": "0.3.2"
  },
  "kernelspec": {
   "display_name": "Python 3",
   "language": "python",
   "name": "python3"
  },
  "language_info": {
   "codemirror_mode": {
    "name": "ipython",
    "version": 3
   },
   "file_extension": ".py",
   "mimetype": "text/x-python",
   "name": "python",
   "nbconvert_exporter": "python",
   "pygments_lexer": "ipython3",
   "version": "3.5.3"
  }
 },
 "nbformat": 4,
 "nbformat_minor": 2
}
