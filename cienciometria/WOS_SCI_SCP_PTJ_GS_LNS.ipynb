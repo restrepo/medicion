{
 "cells": [
  {
   "cell_type": "markdown",
   "metadata": {
    "colab_type": "text",
    "id": "view-in-github"
   },
   "source": [
    "<a href=\"https://colab.research.google.com/github/restrepo/medicion/blob/master/cienciometria/WOS_SCI_SCP.ipynb\" target=\"_parent\"><img src=\"https://colab.research.google.com/assets/colab-badge.svg\" alt=\"Open In Colab\"/></a>"
   ]
  },
  {
   "cell_type": "markdown",
   "metadata": {
    "colab_type": "text",
    "id": "aDnqho-CsEwj"
   },
   "source": [
    "# WOS+SCI+SCP+PTJ+GS+LNS\n",
    "Merge the bibliographic datasets for \n",
    "* Web of Science, \n",
    "* Scielo \n",
    "* Scopus \n",
    "* Google Scholar\n",
    "* Puntaje\n",
    "* Lens\n",
    "of the scientific articles of Universidad de Antioquia\n",
    "\n",
    "For details see [merge.ipynb in Colaboratory](https://colab.research.google.com/github/restrepo/medicion/blob/master/cienciometria/merge.ipynb)"
   ]
  },
  {
   "cell_type": "markdown",
   "metadata": {
    "heading_collapsed": true
   },
   "source": [
    "## functions"
   ]
  },
  {
   "cell_type": "code",
   "execution_count": 1,
   "metadata": {
    "hidden": true
   },
   "outputs": [],
   "source": [
    "import unidecode\n",
    "def get_author_info(x):\n",
    "    sep='; '\n",
    "    authors=[{'WOS_author':x[0].split(sep)[0],'affiliation':[x[0].split(sep)[-1]],'i':0}]\n",
    "    iau=1\n",
    "    for y  in x:\n",
    "        y2=y.replace('[','').replace('] ',sep).split(sep)\n",
    "        for z in y2[:-1]:\n",
    "            aulist=[ d.get('WOS_author') for d in authors]\n",
    "            if z not in aulist:\n",
    "                authors.append({'WOS_author':z,'affiliation':[y2[-1]],'i':iau})\n",
    "                iau=iau+1\n",
    "            else:\n",
    "                if y2[-1] not in [ d.get('affiliation') for d in authors if d.get('WOS_author')==z][0]:\n",
    "                    index_author=[ d.get('i') for d in authors if d.get('WOS_author')==z][0]\n",
    "                    authors[index_author]['affiliation'].append(y2[-1])\n",
    "    return authors\n",
    "\n",
    "def dictionary_list_add_columns(df,df_dl,df_dl_key,df_dl_i,df_columns):\n",
    "    '''\n",
    "    For a\n",
    "     df: Pandas DataFrame \n",
    "    with a:\n",
    "     df_dl: column of list of dictionaries, with\n",
    "     df_dl_key: dictionary key: e.g x=[{df_dl_key:1},{df_dl_key:2}]\n",
    "    for the element df_dl_i of the list:\n",
    "    Update the dictionary with:\n",
    "        df_dl_key==x[df_dl_i][df_dl_key]\n",
    "    with the dictionaries { df_columns[i]: df_columns[i].values }\n",
    "    '''\n",
    "    dff=df.copy()\n",
    "    for key in df_columns:\n",
    "        tmp=dff[df_dl].combine(dff[key],\n",
    "                func=lambda x,y: y if pd.isna(y) \n",
    "                                   else \n",
    "                                     [z.update({key:y}) \n",
    "                                     if z.get(df_dl_key)==x[df_dl_i][df_dl_key] \n",
    "                                     else z \n",
    "                                 for z in x  ] )\n",
    "    return dff\n",
    "\n",
    "def split_full_names(y,full_name='full_name'):\n",
    "    \"\"\"\n",
    "    From an input dictionary with {full_name:'APPELLIDO1 APPELLIDO2 NOMBRES'}\n",
    "    Obtain a dictionary with the several name parts.\n",
    "    \"\"\"    \n",
    "    yy=y.get(full_name).title()\n",
    "    lfn=len(y[full_name].split())\n",
    "    aps=0\n",
    "    d={ 'PRIMER APELLIDO':yy.split()[aps] }\n",
    "    aps=aps+1\n",
    "    if lfn>=4:\n",
    "        names=-2\n",
    "        if lfn==5: # Extra name or last name\n",
    "            yyy=yy.split()\n",
    "            ll=pd.np.array( [len(n) for n in yyy ] )\n",
    "            if ll[3:][ ll[3:]  <= 3 ].shape[0]:\n",
    "                # last_names first_first_name de(l) second_first_name\n",
    "                yy=' '.join( [ y for y in yyy if len(y)>=3] )\n",
    "            else: \n",
    "                # first_last name de(l) second_last_name first_names\n",
    "                tmpll=yyy.pop() # internal memory\n",
    "                yy=' '.join( yyy )  \n",
    "        if len( d['PRIMER APELLIDO'] )<=3:\n",
    "            d['PRIMER APELLIDO']=d['PRIMER APELLIDO']+' '+yy.split()[aps]\n",
    "            aps=aps+1\n",
    "            d.update(  {'SEGUNDO APELLIDO':yy.split()[aps]} )\n",
    "            names=names+1\n",
    "            \n",
    "        d.update({'SEGUNDO APELLIDO':yy.split()[aps]})\n",
    "        aps=aps+1\n",
    "        if len( d['SEGUNDO APELLIDO'] )<=3:\n",
    "            d['SEGUNDO APELLIDO']=d['SEGUNDO APELLIDO']+' '+yy.split()[aps]\n",
    "            if names==-2:\n",
    "                names=names+1\n",
    "    elif lfn>=3:        \n",
    "        d.update({'SEGUNDO APELLIDO':yy.split()[aps]})\n",
    "        names=-1\n",
    "    else: #Colombian interpretation (TODO: Includes Brazilian interpretation)    \n",
    "        names=-1\n",
    "    d.update({'NOMBRES':' '.join( yy.split()[names:]),\n",
    "              'INICIALES':' '.join( [z[0]+'.' for z in yy.split()[names:]] ),\n",
    "              })\n",
    "    if not d.get('SEGUNDO APELLIDO'):\n",
    "        d['SEGUNDO APELLIDO']=''\n",
    "    #if not d.get('NOMBRE COMPLETO'):\n",
    "    #    d['NOMBRE COMPLETO']=''        \n",
    "    return d\n",
    "\n",
    "# Creates mask Search key in a list of dictionay\n",
    "# First apply convert null values to string\n",
    "# Second apply: implement a mask\n",
    "def find_key_in_list_of_dictionaries(df,column,key,pattern):\n",
    "    return df[column].apply(lambda x: \n",
    "                [ '' if pd.isnull( y.get(key)) else y for y in x ]  ).apply(\n",
    "                            lambda x: \n",
    "                [ True if y.get(key).find(pattern)>-1 else False for y in x  ][0]  )\n",
    "\n",
    "def key_contains_in_list_of_dictionaries(df,pattern,column='authors_WOS',key='WOS_author'):\n",
    "    #TODO: loop in column len\n",
    "    i=0\n",
    "    r=df[ df[column].str[i].apply(lambda x: {} if pd.isnull(x) else x).apply(\n",
    "                       lambda x: x.get(key) if x else '').str.contains(\n",
    "        pattern) ][column].reset_index(drop=True)\n",
    "    return r"
   ]
  },
  {
   "cell_type": "code",
   "execution_count": 2,
   "metadata": {
    "colab": {},
    "colab_type": "code",
    "hidden": true,
    "id": "nhk2ZGEDd2Yo"
   },
   "outputs": [],
   "source": [
    "import wosplus as wp\n",
    "import numpy as np\n",
    "import pandas as pd\n",
    "import unidecode\n",
    "import os\n",
    "from IPython.display import clear_output\n",
    "pd.set_option('display.max_colwidth',200)"
   ]
  },
  {
   "cell_type": "markdown",
   "metadata": {
    "colab_type": "text",
    "heading_collapsed": true,
    "id": "JS7jD1f47JUN"
   },
   "source": [
    "##  Configure public links of  files in Google Drive\n",
    "* If it is a Google Spreadsheet the corresponding file is downloaded as CSV\n",
    "* If it is in excel or text file the file is downloaded  directly\n",
    "\n",
    "To define your  own labeled IDs for public google drive files edit the next cell:"
   ]
  },
  {
   "cell_type": "code",
   "execution_count": 3,
   "metadata": {
    "colab": {
     "base_uri": "https://localhost:8080/",
     "height": 35
    },
    "colab_type": "code",
    "hidden": true,
    "id": "T4Rmd2dF7JUQ",
    "outputId": "39a5835e-1b38-48b6-f1a5-e9964c846123"
   },
   "outputs": [
    {
     "name": "stdout",
     "output_type": "stream",
     "text": [
      "Overwriting drive.cfg\n"
     ]
    }
   ],
   "source": [
    "%%writefile drive.cfg\n",
    "[FILES]\n",
    "UDEA_WOS.xlsx       = 1px2IcrjCrkyu7t78Q7PAE5nzV_yuPt9t\n",
    "UDEA_SCI.xlsx       = 1pWMY5P72j0Ca6D-cm7dn7Q4TBGTs4PWV\n",
    "UDEA_SCP.xlsx       = 1ulCsFHzDiTmuL9TH8F58ulh0u8Z2ylKh\n",
    "UDEA_WOS_SCI_SCP.xlsx   = 1o9otmklgh-0w18Avv2ZTKOXr3vZbjwvj\n",
    "UDEA_WOS_SCI_SCP.json=1RTDCh5pl0vapjJT_e9ZwadHPGBKGGv6Y\n",
    "UDEA_WOS_SCI_SCP.json.gz=19E1C1kRk4I0V3uXojqko8-NEicWaPp1j\n",
    "WOS_SCP_UDEA_SJR_SIU.xlsx=0BxoOXsn2EUNIQ3R4WDhvSzVLQ2s\n",
    "Base_de_datos_investigadores_Definitiva.csv=12oalgUeKhpvzkTPBP8pXCeHTrF-KO223dy9ov9w9QKs\n",
    "UDEA_authors_with_WOS_info.json=1o1eVT4JD0FMMICq_oxrTJOzWh47veBMw"
   ]
  },
  {
   "cell_type": "markdown",
   "metadata": {
    "colab_type": "text",
    "heading_collapsed": true,
    "id": "Y0D0hEdAMXUX"
   },
   "source": [
    "##  Load data bases"
   ]
  },
  {
   "cell_type": "code",
   "execution_count": 4,
   "metadata": {
    "colab": {
     "base_uri": "https://localhost:8080/",
     "height": 35
    },
    "colab_type": "code",
    "hidden": true,
    "id": "occzrIeCS7aQ",
    "outputId": "17b144f3-eef0-4c8a-c2b4-10c8fe55802c"
   },
   "outputs": [],
   "source": [
    "affil='Univ Antioquia'\n",
    "drive_files=wp.wosplus('drive.cfg')\n",
    "RECOVER=False\n",
    "if RECOVER==True:\n",
    "    print('Go to: http://fisica.udea.edu.co:4443/user/restrepo/notebooks/prog/medicion/medicion/cienciometria/WOS_SCI_SCP_PTJ_GS_LNS.ipynb#Load-output-restuls-of-previous-Cell-runs')"
   ]
  },
  {
   "cell_type": "code",
   "execution_count": 5,
   "metadata": {
    "colab": {},
    "colab_type": "code",
    "hidden": true,
    "id": "oq9QM3cBYH0a"
   },
   "outputs": [],
   "source": [
    "if not RECOVER:\n",
    "    if os.path.exists('UDEAtmp.json'):\n",
    "        UDEA=pd.read_json('UDEAtmp.json')\n",
    "        UDEA=UDEA.reset_index(drop=True)    \n",
    "else:\n",
    "    if os.path.exists('UDEA_WOS_SCI_SCP.json'):\n",
    "        UDEA=pd.read_json('UDEA_WOS_SCI_SCP.json')\n",
    "    else:    \n",
    "        UDEA=drive_files.read_drive_json('UDEA_WOS_SCI_SCP.json')"
   ]
  },
  {
   "cell_type": "code",
   "execution_count": 6,
   "metadata": {
    "colab": {
     "base_uri": "https://localhost:8080/",
     "height": 53
    },
    "colab_type": "code",
    "hidden": true,
    "id": "Cb5epW_9iL4s",
    "outputId": "aa6b2752-c475-4ee6-f344-627e377453c9"
   },
   "outputs": [],
   "source": [
    "UDEA=UDEA[UDEA.Tipo=='SCI']"
   ]
  },
  {
   "cell_type": "code",
   "execution_count": 7,
   "metadata": {},
   "outputs": [
    {
     "data": {
      "text/html": [
       "<div>\n",
       "<style scoped>\n",
       "    .dataframe tbody tr th:only-of-type {\n",
       "        vertical-align: middle;\n",
       "    }\n",
       "\n",
       "    .dataframe tbody tr th {\n",
       "        vertical-align: top;\n",
       "    }\n",
       "\n",
       "    .dataframe thead th {\n",
       "        text-align: right;\n",
       "    }\n",
       "</style>\n",
       "<table border=\"1\" class=\"dataframe\">\n",
       "  <thead>\n",
       "    <tr style=\"text-align: right;\">\n",
       "      <th></th>\n",
       "      <th>AB</th>\n",
       "      <th>AF</th>\n",
       "      <th>AR</th>\n",
       "      <th>AU</th>\n",
       "      <th>BA</th>\n",
       "      <th>BE</th>\n",
       "      <th>BF</th>\n",
       "      <th>BN</th>\n",
       "      <th>BP</th>\n",
       "      <th>C1</th>\n",
       "      <th>...</th>\n",
       "      <th>UDEA_procodigo</th>\n",
       "      <th>UDEA_ptos</th>\n",
       "      <th>UDEA_simple_doi</th>\n",
       "      <th>UDEA_título</th>\n",
       "      <th>UDEA_valor item</th>\n",
       "      <th>UT</th>\n",
       "      <th>VL</th>\n",
       "      <th>WC</th>\n",
       "      <th>Z9</th>\n",
       "      <th>authors_WOS</th>\n",
       "    </tr>\n",
       "  </thead>\n",
       "  <tbody>\n",
       "  </tbody>\n",
       "</table>\n",
       "<p>0 rows × 169 columns</p>\n",
       "</div>"
      ],
      "text/plain": [
       "Empty DataFrame\n",
       "Columns: [AB, AF, AR, AU, BA, BE, BF, BN, BP, C1, CA, CL, CR, CT, CY, D2, DA, DE, DI, DT, EI, EM, EP, FU, FX, GA, GP, HO, ID, IS, J9, JI, LA, MA, NR, OA, OI, PA, PD, PG, PI, PM, PN, PT, PU, PY, RI, RP, SC, SCI_AB, SCI_AU, SCI_BP, SCI_C1, SCI_C2, SCI_CR, SCI_DE, SCI_DI, SCI_DT, SCI_EC, SCI_EM, SCI_EP, SCI_IS, SCI_LA, SCI_NR, SCI_OA, SCI_OI, SCI_PA, SCI_PD, SCI_PI, SCI_PT, SCI_PU, SCI_PY, SCI_RI, SCI_SC, SCI_SN, SCI_SO, SCI_TC, SCI_TI, SCI_Tipo, SCI_U1, SCI_U2, SCI_UT, SCI_VL, SCI_X1, SCI_X4, SCI_X5, SCI_Y1, SCI_Y4, SCI_Y5, SCI_Z1, SCI_Z4, SCI_Z5, SCI_Z9, SCP_Abbreviated Source Title, SCP_Abstract, SCP_Access Type, SCP_Affiliations, SCP_Art. No., SCP_Author Keywords, SCP_Authors, ...]\n",
       "Index: []\n",
       "\n",
       "[0 rows x 169 columns]"
      ]
     },
     "execution_count": 7,
     "metadata": {},
     "output_type": "execute_result"
    }
   ],
   "source": [
    "UDEA[UDEA.authors_WOS!='']"
   ]
  },
  {
   "cell_type": "code",
   "execution_count": 8,
   "metadata": {
    "hidden": true
   },
   "outputs": [
    {
     "name": "stdout",
     "output_type": "stream",
     "text": [
      "SCI:2892\n"
     ]
    }
   ],
   "source": [
    "for t in UDEA.Tipo.unique():\n",
    "    print( '{}:{}'.format( t, UDEA[ UDEA.Tipo==t].shape[0] ) )"
   ]
  },
  {
   "cell_type": "markdown",
   "metadata": {
    "heading_collapsed": true
   },
   "source": [
    "## Extract  affiliation from C1"
   ]
  },
  {
   "cell_type": "code",
   "execution_count": 9,
   "metadata": {},
   "outputs": [],
   "source": [
    "UDEA_SCI=UDEA.SCI_C1.combine(UDEA.Tipo,func=lambda x,y: x if y.find('SCI')>-1 and y.find('WOS')==-1 else None)\n",
    "UDEA['C1']=UDEA_SCI.combine(UDEA.C1,lambda x,y:x.replace(\n",
    "    'Universidad de Antioquia',affil).replace(\n",
    "    'Univ. de Antioquia',affil) if x else y)"
   ]
  },
  {
   "cell_type": "code",
   "execution_count": 10,
   "metadata": {},
   "outputs": [],
   "source": [
    "def SCP_Authors_and_Affiliations_to_C1(x,y):\n",
    "    #TODO normalize\n",
    "    pass"
   ]
  },
  {
   "cell_type": "code",
   "execution_count": 11,
   "metadata": {},
   "outputs": [],
   "source": [
    "SCP_C1=UDEA.SCP_Authors.combine(UDEA.SCP_Affiliations,func=SCP_Authors_and_Affiliations_to_C1)"
   ]
  },
  {
   "cell_type": "code",
   "execution_count": 12,
   "metadata": {},
   "outputs": [
    {
     "data": {
      "text/plain": [
       "Series([], Name: C1, dtype: object)"
      ]
     },
     "execution_count": 12,
     "metadata": {},
     "output_type": "execute_result"
    }
   ],
   "source": [
    "UDEA[UDEA.Tipo=='WOS'].C1"
   ]
  },
  {
   "cell_type": "code",
   "execution_count": 13,
   "metadata": {
    "hidden": true
   },
   "outputs": [],
   "source": [
    "UDEA['authors_WOS']=UDEA.C1.apply(lambda x: x.split('\\n') if x else x).apply(\n",
    "    lambda x:   [y.replace('[','').replace('] ','; ') for y in x if y.find(affil)>-1 ] if x else x ).apply(\n",
    "     lambda x: get_author_info(x) if x else x)\n",
    "\n",
    "# Improve normalization: remove C1s with only affiliation (from Scielo)\n",
    "UDEA['authors_WOS']=UDEA['authors_WOS'].apply( \n",
    "    lambda x: [d for d in x if d.get('WOS_author').find(affil)==-1] if type(x)==list else x )"
   ]
  },
  {
   "cell_type": "markdown",
   "metadata": {
    "heading_collapsed": true
   },
   "source": [
    "## Load trained old data "
   ]
  },
  {
   "cell_type": "code",
   "execution_count": 14,
   "metadata": {
    "hidden": true
   },
   "outputs": [],
   "source": [
    "if os.path.exists('WOS_SCP_UDEA_SJR_SIU.xlsx'):\n",
    "    SIU=pd.read_excel('WOS_SCP_UDEA_SJR_SIU.xlsx')\n",
    "else:    \n",
    "    SIU=drive_files.read_drive_excel('WOS_SCP_UDEA_SJR_SIU.xlsx')"
   ]
  },
  {
   "cell_type": "code",
   "execution_count": 15,
   "metadata": {
    "hidden": true
   },
   "outputs": [
    {
     "data": {
      "text/plain": [
       "array(['WOS+SCP', 'WOS+SCP+UDEA', 'WOS+SCI+SCP', 'WOS+SCI+SCP+UDEA',\n",
       "       'SCI+SCP', 'SCI+SCP+UDEA', 'SCP', 'SCP+UDEA', 'WOS', 'WOS+UDEA',\n",
       "       'WOS+SCI', 'WOS+SCI+UDEA', 'SCI', 'SCI+UDEA', 'UDEA'], dtype=object)"
      ]
     },
     "execution_count": 15,
     "metadata": {},
     "output_type": "execute_result"
    }
   ],
   "source": [
    "SIU.Tipo.unique()"
   ]
  },
  {
   "cell_type": "code",
   "execution_count": 16,
   "metadata": {
    "hidden": true
   },
   "outputs": [],
   "source": [
    "SIU=SIU[SIU.Tipo.str.contains('\\+UDEA')].reset_index(drop=True)"
   ]
  },
  {
   "cell_type": "code",
   "execution_count": 17,
   "metadata": {
    "hidden": true
   },
   "outputs": [
    {
     "data": {
      "text/plain": [
       "array(['AB', 'AF', 'AR', 'AU', 'BA', 'BE', 'BF', 'BN', 'BP', 'C1', 'CA',\n",
       "       'CL', 'CR', 'CT', 'CTR_CATEGORÍA G', 'CTR_CATEGORÍA I',\n",
       "       'CTR_Centro', 'CTR_CÉDULA', 'CTR_GRUPO', 'CTR_LINK CVLAC',\n",
       "       'CTR_NOMBRE', 'CTR_Nivel de Formación', 'CTR_Tipo de Vinculación',\n",
       "       'CTR_vinculación GrupLAC', 'CY', 'Clasificación 2016', 'D2', 'DE',\n",
       "       'DI', 'DT', 'EI', 'EM', 'EP', 'FU', 'FX', 'GA', 'GP', 'HO', 'ID',\n",
       "       'IS', 'ISSN', 'J9', 'JI', 'LA', 'MA', 'NR', 'OI', 'PA', 'PD', 'PG',\n",
       "       'PI', 'PM', 'PN', 'PT', 'PU', 'PY', 'RI', 'RP', 'SC', 'SCI_AB',\n",
       "       'SCI_AU', 'SCI_BP', 'SCI_C1', 'SCI_C2', 'SCI_CR', 'SCI_DE',\n",
       "       'SCI_DI', 'SCI_DT', 'SCI_EC', 'SCI_EM', 'SCI_EP', 'SCI_IS',\n",
       "       'SCI_LA', 'SCI_NR', 'SCI_OI', 'SCI_PA', 'SCI_PD', 'SCI_PI',\n",
       "       'SCI_PT', 'SCI_PU', 'SCI_PY', 'SCI_RI', 'SCI_SC', 'SCI_SN',\n",
       "       'SCI_SO', 'SCI_TC', 'SCI_TI', 'SCI_U1', 'SCI_U2', 'SCI_UT',\n",
       "       'SCI_VL', 'SCI_X1', 'SCI_X4', 'SCI_X5', 'SCI_Y1', 'SCI_Y4',\n",
       "       'SCI_Y5', 'SCI_Z1', 'SCI_Z4', 'SCI_Z5', 'SCI_Z9', 'SCI_alias',\n",
       "       'SCI_au1', 'SCP_Abbreviated Source Title', 'SCP_Abstract',\n",
       "       'SCP_Affiliations', 'SCP_Art. No.', 'SCP_Author Keywords',\n",
       "       'SCP_Authors', 'SCP_Authors with affiliations', 'SCP_CODEN',\n",
       "       'SCP_Chemicals/CAS', 'SCP_Cited by', 'SCP_Conference code',\n",
       "       'SCP_Conference date', 'SCP_Conference location',\n",
       "       'SCP_Conference name', 'SCP_Correspondence Address', 'SCP_DOI',\n",
       "       'SCP_Document Type', 'SCP_EID', 'SCP_Editors',\n",
       "       'SCP_Funding Details', 'SCP_Funding Text', 'SCP_ISBN', 'SCP_ISSN',\n",
       "       'SCP_Index Keywords', 'SCP_Issue',\n",
       "       'SCP_Language of Original Document', 'SCP_Link',\n",
       "       'SCP_Manufacturers', 'SCP_Molecular Sequence Numbers',\n",
       "       'SCP_Page count', 'SCP_Page end', 'SCP_Page start',\n",
       "       'SCP_PubMed ID', 'SCP_Publisher', 'SCP_References', 'SCP_Source',\n",
       "       'SCP_Source title', 'SCP_Sponsors', 'SCP_Title', 'SCP_Title_0',\n",
       "       'SCP_Title_1', 'SCP_Title_2', 'SCP_Tradenames', 'SCP_Volume',\n",
       "       'SCP_Year', 'SCP_alias', 'SCP_au1', 'SE', 'SI',\n",
       "       'SJR_Citable Docs. (3years)', 'SJR_Cites / Doc. (2years)',\n",
       "       'SJR_Country', 'SJR_H index', 'SJR_Issn', 'SJR_OpenAccess',\n",
       "       'SJR_Rank', 'SJR_Ref. / Doc.', 'SJR_SJR', 'SJR_SJR Best Quartile',\n",
       "       'SJR_Title', 'SJR_Total Cites (3years)', 'SJR_Total Docs. (2015)',\n",
       "       'SJR_Total Docs. (3years)', 'SJR_Total Refs.', 'SJR_Type', 'SN',\n",
       "       'SO', 'SP', 'SU', 'TC', 'TI', 'Tipo', 'U1', 'U2', 'UDEA_autores',\n",
       "       'UDEA_año realiz', 'UDEA_doi', 'UDEA_fecha aplicación',\n",
       "       'UDEA_idioma', 'UDEA_item adic', 'UDEA_material', 'UDEA_nombre',\n",
       "       'UDEA_nombre revista o premio', 'UDEA_nro autores', 'UDEA_país',\n",
       "       'UDEA_procodigo', 'UDEA_ptos', 'UDEA_simple_doi', 'UDEA_título',\n",
       "       'UDEA_título_0', 'UDEA_título_1', 'UDEA_título_2',\n",
       "       'UDEA_valor item', 'UT', 'VL', 'WC', 'WOS_alias', 'WOS_au1', 'Z9',\n",
       "       'pre_UDEA_autores', 'áreas'], dtype=object)"
      ]
     },
     "execution_count": 17,
     "metadata": {},
     "output_type": "execute_result"
    }
   ],
   "source": [
    "SIU.columns.values"
   ]
  },
  {
   "cell_type": "markdown",
   "metadata": {
    "hidden": true
   },
   "source": [
    "TODO: def: Convert value string list into a list of dictionaries"
   ]
  },
  {
   "cell_type": "code",
   "execution_count": 18,
   "metadata": {
    "hidden": true
   },
   "outputs": [],
   "source": [
    "SIU['UDEA_autores']=SIU['UDEA_autores'].str.replace('  ',' ')"
   ]
  },
  {
   "cell_type": "code",
   "execution_count": 19,
   "metadata": {
    "hidden": true
   },
   "outputs": [],
   "source": [
    "SIU['UDEA_authors']=SIU.UDEA_autores.str.split(';').apply(lambda x: [{'full_name':y} for y in x ])"
   ]
  },
  {
   "cell_type": "markdown",
   "metadata": {
    "heading_collapsed": true
   },
   "source": [
    "## Merge with official researcher list"
   ]
  },
  {
   "cell_type": "code",
   "execution_count": 20,
   "metadata": {
    "hidden": true
   },
   "outputs": [],
   "source": [
    "AU=drive_files.read_drive_excel('Base_de_datos_investigadores_Definitiva.csv')"
   ]
  },
  {
   "cell_type": "code",
   "execution_count": 21,
   "metadata": {
    "hidden": true
   },
   "outputs": [],
   "source": [
    "AU_columns=list( AU.columns.values )"
   ]
  },
  {
   "cell_type": "code",
   "execution_count": 22,
   "metadata": {
    "hidden": true
   },
   "outputs": [],
   "source": [
    "AU['name_tmp']=(AU['PRIMER APELLIDO']+' '+AU['SEGUNDO APELLIDO']+' '+AU['NOMBRES']).str.lower().str.strip().apply( \n",
    "    unidecode.unidecode )"
   ]
  },
  {
   "cell_type": "code",
   "execution_count": 23,
   "metadata": {
    "hidden": true
   },
   "outputs": [],
   "source": [
    "maxau=SIU['UDEA_authors'].apply(lambda x: [y.get('full_name') for y in x ]).apply(len).max()"
   ]
  },
  {
   "cell_type": "code",
   "execution_count": 24,
   "metadata": {
    "hidden": true
   },
   "outputs": [],
   "source": [
    "kkn=SIU.copy()"
   ]
  },
  {
   "cell_type": "code",
   "execution_count": 25,
   "metadata": {
    "hidden": true
   },
   "outputs": [
    {
     "name": "stdout",
     "output_type": "stream",
     "text": [
      "0\n",
      "1\n",
      "2\n",
      "3\n",
      "4\n",
      "5\n",
      "6\n",
      "7\n",
      "8\n",
      "9\n"
     ]
    }
   ],
   "source": [
    "newcolumns=['name_tmp']+AU_columns\n",
    "for i in range(maxau):\n",
    "    print(i)\n",
    "    kkn['name_tmp']=kkn['UDEA_authors'].apply(lambda x: [y.get('full_name') for y in x ]\n",
    "                            ).str[i].apply( lambda x: unidecode.unidecode( x.lower().strip()) \n",
    "                                                      if not pd.isna(x) else x)\n",
    "    if not kkn[~kkn['name_tmp'].isna()].empty:\n",
    "        kkn=kkn.merge(AU[newcolumns],on='name_tmp',how='left').reset_index(drop=True)\n",
    "        kkn=dictionary_list_add_columns(kkn,'UDEA_authors','full_name',i,AU_columns)\n",
    "        kkn=kkn.drop(newcolumns,axis='columns')"
   ]
  },
  {
   "cell_type": "markdown",
   "metadata": {
    "hidden": true
   },
   "source": [
    "https://stackoverflow.com/a/29530601/2268280"
   ]
  },
  {
   "cell_type": "markdown",
   "metadata": {
    "hidden": true
   },
   "source": [
    "BUG: Cells filled with nans"
   ]
  },
  {
   "cell_type": "code",
   "execution_count": 26,
   "metadata": {
    "hidden": true
   },
   "outputs": [
    {
     "data": {
      "text/plain": [
       "((7916, 205), (7916, 205))"
      ]
     },
     "execution_count": 26,
     "metadata": {},
     "output_type": "execute_result"
    }
   ],
   "source": [
    "kkn.shape,SIU.shape"
   ]
  },
  {
   "cell_type": "code",
   "execution_count": 27,
   "metadata": {
    "hidden": true
   },
   "outputs": [],
   "source": [
    "SIU=kkn.copy()"
   ]
  },
  {
   "cell_type": "code",
   "execution_count": 28,
   "metadata": {
    "hidden": true
   },
   "outputs": [
    {
     "data": {
      "text/html": [
       "<div>\n",
       "<style scoped>\n",
       "    .dataframe tbody tr th:only-of-type {\n",
       "        vertical-align: middle;\n",
       "    }\n",
       "\n",
       "    .dataframe tbody tr th {\n",
       "        vertical-align: top;\n",
       "    }\n",
       "\n",
       "    .dataframe thead th {\n",
       "        text-align: right;\n",
       "    }\n",
       "</style>\n",
       "<table border=\"1\" class=\"dataframe\">\n",
       "  <thead>\n",
       "    <tr style=\"text-align: right;\">\n",
       "      <th></th>\n",
       "      <th>CÉDULA</th>\n",
       "      <th>NOMBRE COMPLETO</th>\n",
       "      <th>NOMBRES</th>\n",
       "      <th>PRIMER APELLIDO</th>\n",
       "      <th>SEGUNDO APELLIDO</th>\n",
       "      <th>FACULTAD</th>\n",
       "      <th>DEPARTAMENTO</th>\n",
       "      <th>GRUPO</th>\n",
       "      <th>name_tmp</th>\n",
       "    </tr>\n",
       "  </thead>\n",
       "  <tbody>\n",
       "    <tr>\n",
       "      <th>234</th>\n",
       "      <td>15386534</td>\n",
       "      <td>Oscar Alberto Zapata Noreña</td>\n",
       "      <td>Oscar Alberto</td>\n",
       "      <td>Zapata</td>\n",
       "      <td>Noreña</td>\n",
       "      <td>Facultad de Ciencias Exactas y Naturales</td>\n",
       "      <td>Instituto de Física</td>\n",
       "      <td>Grupo de Fenomenologia de Interacciones Fundamentales</td>\n",
       "      <td>zapata norena oscar alberto</td>\n",
       "    </tr>\n",
       "  </tbody>\n",
       "</table>\n",
       "</div>"
      ],
      "text/plain": [
       "       CÉDULA              NOMBRE COMPLETO         NOMBRES PRIMER APELLIDO  \\\n",
       "234  15386534  Oscar Alberto Zapata Noreña  Oscar Alberto           Zapata   \n",
       "\n",
       "    SEGUNDO APELLIDO                                  FACULTAD  \\\n",
       "234           Noreña  Facultad de Ciencias Exactas y Naturales   \n",
       "\n",
       "            DEPARTAMENTO  \\\n",
       "234  Instituto de Física   \n",
       "\n",
       "                                                     GRUPO  \\\n",
       "234  Grupo de Fenomenologia de Interacciones Fundamentales   \n",
       "\n",
       "                        name_tmp  \n",
       "234  zapata norena oscar alberto  "
      ]
     },
     "execution_count": 28,
     "metadata": {},
     "output_type": "execute_result"
    }
   ],
   "source": [
    "AU[ AU['NOMBRE COMPLETO'].str.contains('Oscar Alberto Zapata Noreña') ]"
   ]
  },
  {
   "cell_type": "markdown",
   "metadata": {
    "hidden": true
   },
   "source": [
    "Quality check"
   ]
  },
  {
   "cell_type": "code",
   "execution_count": 29,
   "metadata": {
    "hidden": true
   },
   "outputs": [
    {
     "data": {
      "text/plain": [
       "[{'CÉDULA': 15386534.0,\n",
       "  'DEPARTAMENTO': 'Instituto de Física',\n",
       "  'FACULTAD': 'Facultad de Ciencias Exactas y Naturales',\n",
       "  'GRUPO': 'Grupo de Fenomenologia de Interacciones Fundamentales',\n",
       "  'NOMBRE COMPLETO': 'Oscar Alberto Zapata Noreña',\n",
       "  'NOMBRES': 'Oscar Alberto ',\n",
       "  'PRIMER APELLIDO': 'Zapata',\n",
       "  'SEGUNDO APELLIDO': 'Noreña',\n",
       "  'full_name': 'ZAPATA NOREÑA OSCAR ALBERTO'},\n",
       " {'CÉDULA': 8287417.0,\n",
       "  'DEPARTAMENTO': 'Instituto de Física',\n",
       "  'FACULTAD': 'Facultad de Ciencias Exactas y Naturales',\n",
       "  'GRUPO': 'Grupo de Fenomenologia de Interacciones Fundamentales',\n",
       "  'NOMBRE COMPLETO': 'William Antonio Ponce Gutierrez',\n",
       "  'NOMBRES': 'William Antonio ',\n",
       "  'PRIMER APELLIDO': 'Ponce',\n",
       "  'SEGUNDO APELLIDO': 'Gutierrez',\n",
       "  'full_name': 'PONCE GUTIERREZ WILLIAM ANTONIO'}]"
      ]
     },
     "execution_count": 29,
     "metadata": {},
     "output_type": "execute_result"
    }
   ],
   "source": [
    "SIU[ find_key_in_list_of_dictionaries(SIU,'UDEA_authors','full_name','ZAPATA') ].UDEA_authors.loc[241]"
   ]
  },
  {
   "cell_type": "code",
   "execution_count": 30,
   "metadata": {
    "hidden": true
   },
   "outputs": [
    {
     "data": {
      "text/plain": [
       "[{'CÉDULA': 8287417.0,\n",
       "  'DEPARTAMENTO': 'Instituto de Física',\n",
       "  'FACULTAD': 'Facultad de Ciencias Exactas y Naturales',\n",
       "  'GRUPO': 'Grupo de Fenomenologia de Interacciones Fundamentales',\n",
       "  'NOMBRE COMPLETO': 'William Antonio Ponce Gutierrez',\n",
       "  'NOMBRES': 'William Antonio ',\n",
       "  'PRIMER APELLIDO': 'Ponce',\n",
       "  'SEGUNDO APELLIDO': 'Gutierrez',\n",
       "  'full_name': 'PONCE GUTIERREZ WILLIAM ANTONIO'}]"
      ]
     },
     "execution_count": 30,
     "metadata": {},
     "output_type": "execute_result"
    }
   ],
   "source": [
    "SIU[ find_key_in_list_of_dictionaries(SIU,'UDEA_authors','full_name','PONCE')\n",
    "   ].UDEA_authors.reset_index(drop=True).loc[0]"
   ]
  },
  {
   "cell_type": "markdown",
   "metadata": {
    "heading_collapsed": true
   },
   "source": [
    "## Merge with trained data set"
   ]
  },
  {
   "cell_type": "markdown",
   "metadata": {
    "hidden": true
   },
   "source": [
    "Merge requires split in DI and TI"
   ]
  },
  {
   "cell_type": "code",
   "execution_count": 31,
   "metadata": {
    "hidden": true
   },
   "outputs": [],
   "source": [
    "SIUDI=SIU[~SIU.DI.isna()].drop_duplicates('DI').reset_index(drop=True)\n",
    "SIUTI=SIU[ SIU.DI.isna()].drop_duplicates('TI').reset_index(drop=True)\n",
    "SIUTI=SIUTI[SIUTI!=''].reset_index(drop=True)\n",
    "SIUTI=SIUTI[~SIUTI.TI.isnull()].reset_index(drop=True)\n",
    "SIUTI=SIUTI[ SIUTI.TI.apply(len)>20 ].reset_index(drop=True)"
   ]
  },
  {
   "cell_type": "code",
   "execution_count": 32,
   "metadata": {
    "hidden": true
   },
   "outputs": [],
   "source": [
    "udea_columns=[       'UDEA_autores',\n",
    "       'UDEA_año realiz', 'UDEA_doi', 'UDEA_fecha aplicación',\n",
    "       'UDEA_idioma', 'UDEA_item adic', 'UDEA_material', 'UDEA_nombre',\n",
    "       'UDEA_nombre revista o premio', 'UDEA_nro autores', 'UDEA_país',\n",
    "       'UDEA_procodigo', 'UDEA_ptos', 'UDEA_simple_doi', 'UDEA_título',\n",
    "       'UDEA_valor item','UDEA_authors']"
   ]
  },
  {
   "cell_type": "code",
   "execution_count": 33,
   "metadata": {
    "hidden": true
   },
   "outputs": [],
   "source": [
    "UDEADI=UDEA[UDEA.DI!=''].drop_duplicates('DI').reset_index(drop=True)\n",
    "UDEATI=UDEA[UDEA.DI==''].drop_duplicates('TI').reset_index(drop=True)"
   ]
  },
  {
   "cell_type": "code",
   "execution_count": 34,
   "metadata": {
    "hidden": true
   },
   "outputs": [],
   "source": [
    "UDEA_mergeDI=UDEADI.merge( SIUDI[ ['DI']+udea_columns ],on='DI',how='left' )"
   ]
  },
  {
   "cell_type": "code",
   "execution_count": 35,
   "metadata": {
    "hidden": true
   },
   "outputs": [
    {
     "data": {
      "text/plain": [
       "((431, 169), (431, 186))"
      ]
     },
     "execution_count": 35,
     "metadata": {},
     "output_type": "execute_result"
    }
   ],
   "source": [
    "UDEADI.shape,UDEA_mergeDI.shape"
   ]
  },
  {
   "cell_type": "code",
   "execution_count": 45,
   "metadata": {
    "hidden": true
   },
   "outputs": [],
   "source": [
    "if UDEADI.UDEA_autores.dropna().shape[0]:\n",
    "    UDEA_PTJ=UDEA_mergeDI[~UDEA_mergeDI.UDEA_autores.isna()].reset_index(drop=True)\n",
    "    UDEA_PTJ_NOT=UDEA_mergeDI[UDEA_mergeDI.UDEA_autores.isna()].reset_index(drop=True)\n",
    "else:\n",
    "    UDEA_PTJ=pd.DataFrame()\n",
    "    UDEA_PTJ_NOT=pd.DataFrame()"
   ]
  },
  {
   "cell_type": "code",
   "execution_count": 46,
   "metadata": {
    "hidden": true
   },
   "outputs": [],
   "source": [
    "UDEATI['tmptitle']=UDEATI.TI.str.strip()\n",
    "SIUTI['tmptitle']=SIUTI.TI.str.strip()"
   ]
  },
  {
   "cell_type": "code",
   "execution_count": 47,
   "metadata": {
    "hidden": true
   },
   "outputs": [],
   "source": [
    "kk=UDEATI.merge( SIUTI[ ['tmptitle']+udea_columns ],on='tmptitle',how='left' ).drop('tmptitle',axis='columns')"
   ]
  },
  {
   "cell_type": "code",
   "execution_count": 48,
   "metadata": {
    "hidden": true
   },
   "outputs": [
    {
     "ename": "AttributeError",
     "evalue": "'DataFrame' object has no attribute 'UDEA_autores'",
     "output_type": "error",
     "traceback": [
      "\u001b[0;31m---------------------------------------------------------------------------\u001b[0m",
      "\u001b[0;31mAttributeError\u001b[0m                            Traceback (most recent call last)",
      "\u001b[0;32m<ipython-input-48-575e2a4087be>\u001b[0m in \u001b[0;36m<module>\u001b[0;34m()\u001b[0m\n\u001b[0;32m----> 1\u001b[0;31m \u001b[0mUDEA_PTJ\u001b[0m\u001b[0;34m=\u001b[0m\u001b[0mUDEA_PTJ\u001b[0m\u001b[0;34m.\u001b[0m\u001b[0mappend\u001b[0m\u001b[0;34m(\u001b[0m \u001b[0mkk\u001b[0m\u001b[0;34m[\u001b[0m \u001b[0;34m~\u001b[0m\u001b[0mkk\u001b[0m\u001b[0;34m.\u001b[0m\u001b[0mUDEA_autores\u001b[0m\u001b[0;34m.\u001b[0m\u001b[0misna\u001b[0m\u001b[0;34m(\u001b[0m\u001b[0;34m)\u001b[0m \u001b[0;34m]\u001b[0m \u001b[0;34m)\u001b[0m\u001b[0;34m.\u001b[0m\u001b[0mreset_index\u001b[0m\u001b[0;34m(\u001b[0m\u001b[0mdrop\u001b[0m\u001b[0;34m=\u001b[0m\u001b[0;32mTrue\u001b[0m\u001b[0;34m)\u001b[0m\u001b[0;34m\u001b[0m\u001b[0m\n\u001b[0m\u001b[1;32m      2\u001b[0m \u001b[0mUDEA_PTJ_NOT\u001b[0m\u001b[0;34m=\u001b[0m\u001b[0mUDEA_PTJ_NOT\u001b[0m\u001b[0;34m.\u001b[0m\u001b[0mappend\u001b[0m\u001b[0;34m(\u001b[0m \u001b[0mkk\u001b[0m\u001b[0;34m[\u001b[0m \u001b[0mkk\u001b[0m\u001b[0;34m.\u001b[0m\u001b[0mUDEA_autores\u001b[0m\u001b[0;34m.\u001b[0m\u001b[0misna\u001b[0m\u001b[0;34m(\u001b[0m\u001b[0;34m)\u001b[0m \u001b[0;34m]\u001b[0m \u001b[0;34m)\u001b[0m\u001b[0;34m.\u001b[0m\u001b[0mreset_index\u001b[0m\u001b[0;34m(\u001b[0m\u001b[0mdrop\u001b[0m\u001b[0;34m=\u001b[0m\u001b[0;32mTrue\u001b[0m\u001b[0;34m)\u001b[0m\u001b[0;34m\u001b[0m\u001b[0m\n",
      "\u001b[0;32m/usr/local/lib/python3.5/dist-packages/pandas/core/generic.py\u001b[0m in \u001b[0;36m__getattr__\u001b[0;34m(self, name)\u001b[0m\n\u001b[1;32m   3612\u001b[0m             \u001b[0;32mif\u001b[0m \u001b[0mname\u001b[0m \u001b[0;32min\u001b[0m \u001b[0mself\u001b[0m\u001b[0;34m.\u001b[0m\u001b[0m_info_axis\u001b[0m\u001b[0;34m:\u001b[0m\u001b[0;34m\u001b[0m\u001b[0m\n\u001b[1;32m   3613\u001b[0m                 \u001b[0;32mreturn\u001b[0m \u001b[0mself\u001b[0m\u001b[0;34m[\u001b[0m\u001b[0mname\u001b[0m\u001b[0;34m]\u001b[0m\u001b[0;34m\u001b[0m\u001b[0m\n\u001b[0;32m-> 3614\u001b[0;31m             \u001b[0;32mreturn\u001b[0m \u001b[0mobject\u001b[0m\u001b[0;34m.\u001b[0m\u001b[0m__getattribute__\u001b[0m\u001b[0;34m(\u001b[0m\u001b[0mself\u001b[0m\u001b[0;34m,\u001b[0m \u001b[0mname\u001b[0m\u001b[0;34m)\u001b[0m\u001b[0;34m\u001b[0m\u001b[0m\n\u001b[0m\u001b[1;32m   3615\u001b[0m \u001b[0;34m\u001b[0m\u001b[0m\n\u001b[1;32m   3616\u001b[0m     \u001b[0;32mdef\u001b[0m \u001b[0m__setattr__\u001b[0m\u001b[0;34m(\u001b[0m\u001b[0mself\u001b[0m\u001b[0;34m,\u001b[0m \u001b[0mname\u001b[0m\u001b[0;34m,\u001b[0m \u001b[0mvalue\u001b[0m\u001b[0;34m)\u001b[0m\u001b[0;34m:\u001b[0m\u001b[0;34m\u001b[0m\u001b[0m\n",
      "\u001b[0;31mAttributeError\u001b[0m: 'DataFrame' object has no attribute 'UDEA_autores'"
     ]
    }
   ],
   "source": [
    "UDEA_PTJ=UDEA_PTJ.append( kk[ ~kk.UDEA_autores.isna() ] ).reset_index(drop=True)\n",
    "UDEA_PTJ_NOT=UDEA_PTJ_NOT.append( kk[ kk.UDEA_autores.isna() ] ).reset_index(drop=True)"
   ]
  },
  {
   "cell_type": "code",
   "execution_count": null,
   "metadata": {
    "hidden": true
   },
   "outputs": [],
   "source": [
    "UDEA_PTJ.shape[0]+UDEA_PTJ_NOT.shape[0],UDEA.shape"
   ]
  },
  {
   "cell_type": "code",
   "execution_count": null,
   "metadata": {
    "hidden": true
   },
   "outputs": [],
   "source": [
    "UDEA_PTJ.shape,UDEA_PTJ_NOT.shape"
   ]
  },
  {
   "cell_type": "code",
   "execution_count": null,
   "metadata": {
    "hidden": true
   },
   "outputs": [],
   "source": [
    "UDEA_PTJ.loc[[0,1]]"
   ]
  },
  {
   "cell_type": "code",
   "execution_count": null,
   "metadata": {
    "hidden": true
   },
   "outputs": [],
   "source": [
    "UDEA=UDEA_PTJ.append(\n",
    "    UDEA_PTJ_NOT).reset_index(\n",
    "    drop=True)"
   ]
  },
  {
   "cell_type": "code",
   "execution_count": null,
   "metadata": {
    "hidden": true
   },
   "outputs": [],
   "source": [
    "key_contains_in_list_of_dictionaries(UDEA,'Restrepo, D',column='authors_WOS',key='WOS_author').loc[1:2]"
   ]
  },
  {
   "cell_type": "code",
   "execution_count": null,
   "metadata": {
    "hidden": true
   },
   "outputs": [],
   "source": [
    "UDEA.to_json('UDEAtmp.json')"
   ]
  },
  {
   "cell_type": "code",
   "execution_count": null,
   "metadata": {
    "hidden": true
   },
   "outputs": [],
   "source": [
    "RECOVER=False\n",
    "if RECOVER:\n",
    "    UDEA=pd.read_json('UDEAtmp.json').reset_index(drop=True)"
   ]
  },
  {
   "cell_type": "code",
   "execution_count": null,
   "metadata": {
    "hidden": true
   },
   "outputs": [],
   "source": []
  },
  {
   "cell_type": "markdown",
   "metadata": {
    "heading_collapsed": true
   },
   "source": [
    "## Add `UDEA.authors_WOS` info* within `UDEA.UDEA_authors` data**\n",
    "(\\*) obtained from `UDEA.C1`\n",
    "\n",
    "(\\*\\*) Obtained from [puntaje trained old UDEA data](./WOS_SCI_SCP_PTJ_GS_LNS.ipynb#Merge-with-trained-data-set) and the [official researcher list](./WOS_SCI_SCP_PTJ_GS_LNS.ipynb#Merge-with-official-researcher-list)"
   ]
  },
  {
   "cell_type": "markdown",
   "metadata": {
    "hidden": true
   },
   "source": [
    "Obtain name parts and initials from full name in `UDEA_authors` dictionary and update `UDEA_authors` with them"
   ]
  },
  {
   "cell_type": "code",
   "execution_count": null,
   "metadata": {
    "hidden": true
   },
   "outputs": [],
   "source": [
    "# tmp is for update dict\n",
    "dictupdatetmp=UDEA['UDEA_authors'].apply(lambda x: [y.update( \n",
    "                split_full_names(y,full_name='full_name')  ) if not pd.isnull(\n",
    "                y.get('full_name')) else y for y in x] \n",
    "                                   if type(x)==list \n",
    "                                   else x)"
   ]
  },
  {
   "cell_type": "code",
   "execution_count": null,
   "metadata": {
    "hidden": true
   },
   "outputs": [],
   "source": [
    "x,y=UDEA['authors_WOS'].combine( UDEA['UDEA_authors'], func=lambda x,y:(x,y) ).loc[92]"
   ]
  },
  {
   "cell_type": "code",
   "execution_count": null,
   "metadata": {
    "hidden": true
   },
   "outputs": [],
   "source": [
    "x"
   ]
  },
  {
   "cell_type": "code",
   "execution_count": null,
   "metadata": {
    "hidden": true
   },
   "outputs": [],
   "source": [
    "y"
   ]
  },
  {
   "cell_type": "code",
   "execution_count": null,
   "metadata": {
    "hidden": true
   },
   "outputs": [],
   "source": [
    "def wos_names_append(wos_names,last_name,first_names,initials):\n",
    "    wos_names=wos_names+[           last_name+', '+first_names]\n",
    "    if len( first_names.split())>1:\n",
    "        wos_names=wos_names+[ last_name+', '+first_names.split()[0] ]\n",
    "    if len( first_names.split())==2 and  len(first_names.split()[-1]):\n",
    "        wos_names=wos_names+[ last_name+', '+first_names.split()[-1] ]\n",
    "    wos_names=wos_names+[ last_name+', '+initials]\n",
    "    if len( initials.split())>1:\n",
    "        wos_names=wos_names+[ last_name+', '+initials.split()[0]]\n",
    "    if len(initials.split())==2:\n",
    "        wos_names=wos_names+[\n",
    "              last_name+', '+first_names.split()[0]+' '+initials.split()[-1] ]\n",
    "        wos_names=wos_names+[last_name+', '+initials.split()[-1] ]\n",
    "    return wos_names\n",
    "    \n",
    "def wos_names_list(dy ,y_keys=['PRIMER APELLIDO','NOMBRES','INICIALES','SEGUNDO APELLIDO','full_name']   ):\n",
    "    last_name= unidecode.unidecode( dy[y_keys[0]]   )\n",
    "    first_names=unidecode.unidecode( dy[y_keys[1]]  )\n",
    "    initials=unidecode.unidecode( dy[y_keys[2]]  )\n",
    "\n",
    "    wos_names=[]\n",
    "    wos_names=wos_names_append(wos_names,last_name,first_names,initials)\n",
    "    \n",
    "    if dy.get( y_keys[3] ):\n",
    "        last_names= unidecode.unidecode( dy[y_keys[0]]+'-'+dy[y_keys[3]]   )\n",
    "        wos_names=wos_names_append(wos_names,last_names,first_names,initials)\n",
    "    return wos_names\n",
    "    \n",
    "def combinewos(x,y,x_keys=['WOS_author','affiliation'],\n",
    "                   y_keys=['PRIMER APELLIDO','NOMBRES','INICIALES','SEGUNDO APELLIDO','full_name'],\n",
    "                   xy_keys=['WOS_author','WOS_affiliation']):\n",
    "    if type(x)==list and type(y)==list:\n",
    "        for dx in x:\n",
    "            wos_name=unidecode.unidecode( dx[ x_keys[0] ] )\n",
    "            WOS_affiliation= dx[x_keys[1]]\n",
    "            # Try by buildinng spanish-like names list                                \n",
    "            for i in range( len(y) ):\n",
    "                if wos_name.title() in wos_names_list(y[i] ,y_keys):\n",
    "                    y[i][  xy_keys[0] ]=[ wos_name ]\n",
    "                    y[i][  xy_keys[1] ]=WOS_affiliation\n",
    "                    break\n",
    "            #Try again but comparing full lists\n",
    "            wos_name_to_list=wos_name.replace(',','').replace('-',' ').title().split()\n",
    "            for i in range( len(y) ):\n",
    "                yi_to_list=unidecode.unidecode( y[i][y_keys[4]].title() )\n",
    "                if yi_to_list:\n",
    "                    yi_to_list=yi_to_list.split()\n",
    "                else:\n",
    "                    yi_to_list=[]\n",
    "                if not pd.np.setdiff1d(wos_name_to_list,yi_to_list).shape[0]:\n",
    "                    y[i][  xy_keys[0] ]=[ wos_name ]\n",
    "                    y[i][  xy_keys[1] ]=WOS_affiliation\n",
    "                    break\n",
    "            #Try again but comparing full lists with initials\n",
    "            wos_name_to_list=wos_name.replace(',','').replace('-',' ').title().split()\n",
    "            for i in range( len(y) ):\n",
    "                yi_to_list=[y[i][y_keys[0]],y[i][y_keys[3]] ]+y[i][y_keys[2]].split()\n",
    "                if not pd.np.setdiff1d(wos_name_to_list,yi_to_list).shape[0]:\n",
    "                    y[i][  xy_keys[0] ]=[ wos_name ]\n",
    "                    y[i][  xy_keys[1] ]=WOS_affiliation\n",
    "                    break\n",
    "            #Try again but comparing full lists with first first name and initial\n",
    "            for i in range( len(y) ):\n",
    "                yi_to_list=[y[i][y_keys[0]],y[i][y_keys[3]],y[i][y_keys[1]].split()[0],\n",
    "                              y[i][y_keys[2]].split()[-1]]\n",
    "                if not pd.np.setdiff1d(wos_name_to_list,yi_to_list).shape[0]:\n",
    "                    y[i][  xy_keys[0] ]=[ wos_name ]\n",
    "                    y[i][  xy_keys[1] ]=WOS_affiliation\n",
    "                    break                    \n",
    "            #Try again but comparing full lists with second first name and initial\n",
    "            for i in range( len(y) ):\n",
    "                yi_to_list=[y[i][y_keys[0]],y[i][y_keys[3]],y[i][y_keys[1]].split()[-1],\n",
    "                              y[i][y_keys[2]].split()[0]]\n",
    "                if not pd.np.setdiff1d(wos_name_to_list,yi_to_list).shape[0]:\n",
    "                    y[i][  xy_keys[0] ]=[ wos_name ]\n",
    "                    y[i][  xy_keys[1] ]=WOS_affiliation\n",
    "                    break                    \n",
    "                    \n",
    "                    \n",
    "    return y"
   ]
  },
  {
   "cell_type": "code",
   "execution_count": null,
   "metadata": {
    "hidden": true
   },
   "outputs": [],
   "source": [
    "wos_names_list( split_full_names( y[0] ) )"
   ]
  },
  {
   "cell_type": "code",
   "execution_count": null,
   "metadata": {
    "hidden": true
   },
   "outputs": [],
   "source": [
    "UDEA[UDEA.UDEA_autores.fillna('').str.contains('ZARRAZOLA RIVERA EDWIN DE JESUS')].UDEA_authors.loc[154]"
   ]
  },
  {
   "cell_type": "code",
   "execution_count": null,
   "metadata": {
    "hidden": true
   },
   "outputs": [],
   "source": [
    "#kk=UDEA['UDEA_authors'].str[0].apply( lambda d: d if type(d)==dict else pd.np.nan ).dropna()\n",
    "#kk[kk.apply( lambda d: d.get('full_name') if type(d)==dict else pd.np.nan ).isna()]"
   ]
  },
  {
   "cell_type": "code",
   "execution_count": null,
   "metadata": {
    "hidden": true
   },
   "outputs": [],
   "source": [
    "kk=UDEA['authors_WOS'].combine( UDEA['UDEA_authors'], func=combinewos )"
   ]
  },
  {
   "cell_type": "markdown",
   "metadata": {
    "hidden": true
   },
   "source": [
    "Combines the two list into a single one in  UDEA_authors"
   ]
  },
  {
   "cell_type": "markdown",
   "metadata": {
    "hidden": true
   },
   "source": [
    "check"
   ]
  },
  {
   "cell_type": "markdown",
   "metadata": {
    "hidden": true
   },
   "source": [
    "Full query of auhor_WOS in UDEA_authors:"
   ]
  },
  {
   "cell_type": "code",
   "execution_count": null,
   "metadata": {
    "hidden": true
   },
   "outputs": [],
   "source": [
    "UDEA['UDEA_authors'].apply(lambda x: [y  for y in x ][0] if type(x)==list else x).loc[92]"
   ]
  },
  {
   "cell_type": "code",
   "execution_count": null,
   "metadata": {
    "hidden": true
   },
   "outputs": [],
   "source": [
    "UDEA.to_json('UDEAtmp.json')"
   ]
  },
  {
   "cell_type": "markdown",
   "metadata": {
    "hidden": true
   },
   "source": [
    "### Load output restuls of previous Cell runs"
   ]
  },
  {
   "cell_type": "code",
   "execution_count": null,
   "metadata": {
    "hidden": true
   },
   "outputs": [],
   "source": [
    "RECOVER=False\n",
    "if RECOVER:\n",
    "    UDEA=pd.read_json('UDEAtmp.json').reset_index(drop=True)"
   ]
  },
  {
   "cell_type": "code",
   "execution_count": null,
   "metadata": {
    "hidden": true
   },
   "outputs": [],
   "source": [
    "def extract_internal_value_of_a_dictionary_key_in_a_list_of_dictionaries(df,\n",
    "    list_of_dictionaries='UDEA_authors',\n",
    "    dictionary_key='WOS_author'):\n",
    "    #Extract internal value of a dictionary key in a list of dictionaries and empty list otherwise\n",
    "    \n",
    "    return df[list_of_dictionaries].apply(lambda x: [y.get(dictionary_key) \n",
    "                                                        if y.get(dictionary_key) else []   \n",
    "                                                        for y in x  ]\n",
    "                           if type(x)==list else [])\n",
    "\n",
    "def extract_internal_list_as_value_of_a_dictionary_key_in_a_list_of_dictionaries(df,\n",
    "    list_of_dictionaries='UDEA_authors',\n",
    "    dictionary_key='WOS_author'):\n",
    "    #Extract internal list as value of a dictionary key in a list of dictionaries and empty list otherwise\n",
    "    \n",
    "    return extract_internal_value_of_a_dictionary_key_in_a_list_of_dictionaries(df,\n",
    "                    list_of_dictionaries,dictionary_key).apply(lambda x: \n",
    "                           [item for sublist  in x for item in sublist] \n",
    "                            if type(x)==list else x)\n",
    "\n",
    "def mask_on_internal_value_of_a_dictionary_key_in_a_list_of_dictionaries(df,\n",
    "    pattern='RESTREPO QUINTERO DIEGO ALEJANDRO',\n",
    "    list_of_dictionaries='UDEA_authors',dictionary_key='full_name'):\n",
    "    \"\"\"\n",
    "    Build a mask for a Pandas Series of list of dictionaries of label:\n",
    "      list_of_dictionaries. \n",
    "    The:\n",
    "      dictionary_key must be a single value like string or float\n",
    "    \"\"\"\n",
    "    return extract_internal_value_of_a_dictionary_key_in_a_list_of_dictionaries(df,\n",
    "            list_of_dictionaries,dictionary_key).apply( \n",
    "            lambda x: pattern in x)"
   ]
  },
  {
   "cell_type": "code",
   "execution_count": null,
   "metadata": {
    "hidden": true
   },
   "outputs": [],
   "source": [
    "pattern='Restrepo, Diego'\n",
    "mask=extract_internal_list_as_value_of_a_dictionary_key_in_a_list_of_dictionaries(\n",
    "            UDEA,list_of_dictionaries='UDEA_authors',dictionary_key='WOS_author').apply( \n",
    "            lambda x: pattern in x)\n",
    "UDEA[mask]['UDEA_authors'].reset_index(drop=True)"
   ]
  },
  {
   "cell_type": "code",
   "execution_count": null,
   "metadata": {
    "hidden": true
   },
   "outputs": [],
   "source": [
    "pattern='Restrepo, D.'\n",
    "mask=extract_internal_list_as_value_of_a_dictionary_key_in_a_list_of_dictionaries(\n",
    "            UDEA,list_of_dictionaries='UDEA_authors',dictionary_key='WOS_author').apply( \n",
    "            lambda x: pattern in x)\n",
    "UDEA[mask]['UDEA_authors'].reset_index(drop=True)"
   ]
  },
  {
   "cell_type": "code",
   "execution_count": null,
   "metadata": {
    "hidden": true
   },
   "outputs": [],
   "source": [
    "pattern"
   ]
  },
  {
   "cell_type": "code",
   "execution_count": null,
   "metadata": {
    "hidden": true
   },
   "outputs": [],
   "source": [
    "mask=extract_internal_list_as_value_of_a_dictionary_key_in_a_list_of_dictionaries(\n",
    "            UDEA,list_of_dictionaries='UDEA_authors',dictionary_key='WOS_author').apply( \n",
    "            lambda x: pattern in x)\n",
    "UDEA[mask]['UDEA_authors'].reset_index(drop=True)"
   ]
  },
  {
   "cell_type": "code",
   "execution_count": null,
   "metadata": {
    "hidden": true
   },
   "outputs": [],
   "source": [
    "def extract_dictionary_from_list(df,list_name,i=0):\n",
    "    return df[list_name].apply( lambda l: [ d for d in l][i] if type(l)==list else l )\n",
    "def extract_key_value_from_series(ds,key):\n",
    "    return ds.apply( lambda d: d.get(key)if type(d)==dict else d  )"
   ]
  },
  {
   "cell_type": "code",
   "execution_count": null,
   "metadata": {
    "hidden": true
   },
   "outputs": [],
   "source": [
    "mask=extract_key_value_from_series( \n",
    "    extract_dictionary_from_list( UDEA,'UDEA_authors',i=0),'WOS_author').str[0].str.contains('\\-').fillna(False)\n",
    "UDEA[mask]['UDEA_authors'].reset_index(drop=True).str[0].loc[1]"
   ]
  },
  {
   "cell_type": "markdown",
   "metadata": {
    "hidden": true
   },
   "source": [
    "TODO: Extract dict or value"
   ]
  },
  {
   "cell_type": "markdown",
   "metadata": {
    "heading_collapsed": true
   },
   "source": [
    "## Build a single profile for all"
   ]
  },
  {
   "cell_type": "markdown",
   "metadata": {
    "hidden": true
   },
   "source": [
    "flatten a list of lists:"
   ]
  },
  {
   "cell_type": "code",
   "execution_count": null,
   "metadata": {
    "hidden": true
   },
   "outputs": [],
   "source": [
    "ua=pd.DataFrame()"
   ]
  },
  {
   "cell_type": "code",
   "execution_count": null,
   "metadata": {
    "code_folding": [],
    "hidden": true
   },
   "outputs": [],
   "source": [
    "aumax=UDEA['UDEA_authors'].dropna().apply(len).max() \n",
    "ua=pd.DataFrame()\n",
    "for i in range(aumax):\n",
    "    kkk=pd.DataFrame()\n",
    "    kkk['UDEA_authors']= UDEA['UDEA_authors'].str[i].dropna()\n",
    "    kkk['authors_WOS']= UDEA['authors_WOS']\n",
    "    kkk['SCP_Authors']=UDEA['SCP_Authors']\n",
    "    kkk['tmp_str']=kkk['UDEA_authors'].astype(str)\n",
    "    kkk=kkk.drop_duplicates('tmp_str')\n",
    "    ua=ua.append(kkk).reset_index(drop=True)\n",
    "    #ua['UDEA_authors']= "
   ]
  },
  {
   "cell_type": "code",
   "execution_count": null,
   "metadata": {
    "hidden": true
   },
   "outputs": [],
   "source": [
    "ua['tmp_author']=ua['UDEA_authors'].apply( lambda d: d.get('full_name') )"
   ]
  },
  {
   "cell_type": "markdown",
   "metadata": {
    "hidden": true
   },
   "source": [
    "BUG: `UDEA_authors` without `WOS_author key`"
   ]
  },
  {
   "cell_type": "markdown",
   "metadata": {
    "hidden": true
   },
   "source": [
    "### Filter identified WOS articles"
   ]
  },
  {
   "cell_type": "code",
   "execution_count": null,
   "metadata": {
    "hidden": true
   },
   "outputs": [],
   "source": [
    "ua['authors_WOS']=ua['authors_WOS'].apply(lambda l: l if l else pd.np.nan)\n",
    "ua=ua[~ua['authors_WOS'].isna()].reset_index(drop=True)"
   ]
  },
  {
   "cell_type": "code",
   "execution_count": null,
   "metadata": {
    "hidden": true
   },
   "outputs": [],
   "source": [
    "full_names=ua['tmp_author'].unique()"
   ]
  },
  {
   "cell_type": "code",
   "execution_count": null,
   "metadata": {
    "hidden": true
   },
   "outputs": [],
   "source": [
    "full_names[:3]"
   ]
  },
  {
   "cell_type": "code",
   "execution_count": null,
   "metadata": {
    "hidden": true
   },
   "outputs": [],
   "source": [
    "ua.shape,full_names.shape"
   ]
  },
  {
   "cell_type": "markdown",
   "metadata": {
    "hidden": true
   },
   "source": [
    "TODO: implement also SCP authors"
   ]
  },
  {
   "cell_type": "markdown",
   "metadata": {
    "hidden": true
   },
   "source": [
    "Example"
   ]
  },
  {
   "cell_type": "code",
   "execution_count": null,
   "metadata": {
    "hidden": true
   },
   "outputs": [],
   "source": [
    "aunly=pd.DataFrame()\n",
    "for f in full_names:\n",
    "    clear_output(wait=True)\n",
    "    print(f)    \n",
    "    kk=pd.DataFrame( { 'tmp_author':[f]  } ).merge(\n",
    "          ua[['tmp_author','UDEA_authors']],on='tmp_author',how='left')\n",
    "\n",
    "    kk['tmp_str']=kk.UDEA_authors.astype(str)\n",
    "\n",
    "    kk=kk.drop_duplicates('tmp_str').dropna()#[['tmp_author','UDEA_authors']]\n",
    "\n",
    "    try:\n",
    "        laff=list( kk['UDEA_authors'].apply(lambda d: d.get( 'WOS_affiliation' )\n",
    "                                     ).dropna().apply(pd.Series).stack().unique() )\n",
    "        lau=list( kk['UDEA_authors'].apply(lambda d: d.get( 'WOS_author' )\n",
    "                                     ).dropna().apply(pd.Series).stack().unique() )\n",
    "    except AttributeError:\n",
    "        laff=[];lau=[]\n",
    "\n",
    "    if len(laff)>0 and len(lau)>0:\n",
    "        tmpupdate=kk['UDEA_authors'].apply(lambda d: d.update({'WOS_author':lau,'WOS_affiliation':laff}) )\n",
    "\n",
    "        kk['tmp_str']=kk['UDEA_authors'].astype(str)\n",
    "\n",
    "        kk=kk.drop_duplicates('tmp_str')\n",
    "\n",
    "        kk['tmp_len']=kk['tmp_str'].apply(len)#.astype(str)\n",
    "\n",
    "        aunly=aunly.append( kk.sort_values('tmp_len',ascending=False).drop(index=kk.index[1:]).drop(\n",
    "               ['tmp_str','tmp_len'],axis='columns') ).reset_index(drop=True)"
   ]
  },
  {
   "cell_type": "code",
   "execution_count": null,
   "metadata": {
    "hidden": true
   },
   "outputs": [],
   "source": [
    "#DEBUG\n",
    "aunly[aunly.tmp_author.fillna('').str.contains('DUQUE ECHEVERRI CARLOS ALBERTO')\n",
    "      ].reset_index(drop=True).UDEA_authors.loc[0]"
   ]
  },
  {
   "cell_type": "code",
   "execution_count": null,
   "metadata": {
    "hidden": true
   },
   "outputs": [],
   "source": [
    "ua['UDEA_authors'].loc[0]"
   ]
  },
  {
   "cell_type": "code",
   "execution_count": null,
   "metadata": {
    "hidden": true
   },
   "outputs": [],
   "source": [
    "ua['authors_WOS'].loc[0]"
   ]
  },
  {
   "cell_type": "code",
   "execution_count": null,
   "metadata": {
    "hidden": true
   },
   "outputs": [],
   "source": [
    "aunly.shape"
   ]
  },
  {
   "cell_type": "code",
   "execution_count": null,
   "metadata": {
    "hidden": true
   },
   "outputs": [],
   "source": [
    "aunly.to_json('UDEA_authors_with_WOS_info.json')"
   ]
  },
  {
   "cell_type": "code",
   "execution_count": null,
   "metadata": {
    "hidden": true
   },
   "outputs": [],
   "source": [
    "RECOVER=True\n",
    "if RECOVER:\n",
    "    UDEA=pd.read_json('UDEAtmp.json').reset_index(drop=True)"
   ]
  },
  {
   "cell_type": "code",
   "execution_count": null,
   "metadata": {
    "hidden": true
   },
   "outputs": [],
   "source": [
    "UDEA.shape"
   ]
  },
  {
   "cell_type": "code",
   "execution_count": null,
   "metadata": {
    "hidden": true
   },
   "outputs": [],
   "source": [
    "if RECOVER:\n",
    "    if os.path.exists('UDEA_authors_with_WOS_info.json' ):\n",
    "        aunly=pd.read_json('UDEA_authors_with_WOS_info.json')\n",
    "    else:\n",
    "        aunly=drive_files.read_drive_json('UDEA_authors_with_WOS_info.json')"
   ]
  },
  {
   "cell_type": "code",
   "execution_count": null,
   "metadata": {
    "hidden": true
   },
   "outputs": [],
   "source": [
    "aunly.shape"
   ]
  },
  {
   "cell_type": "markdown",
   "metadata": {
    "hidden": true
   },
   "source": [
    "(800, 2)"
   ]
  },
  {
   "cell_type": "markdown",
   "metadata": {},
   "source": [
    "## Merge UDEA with authors"
   ]
  },
  {
   "cell_type": "code",
   "execution_count": null,
   "metadata": {},
   "outputs": [],
   "source": [
    "# loop upon i and j to merge aunly in UDEA such that the full authors and affiliations are registered\n",
    "#UDEA.merge"
   ]
  },
  {
   "cell_type": "code",
   "execution_count": null,
   "metadata": {},
   "outputs": [],
   "source": [
    "l=UDEA['UDEA_authors'].loc[4]\n",
    "def fill_full_wos_author_info(l,WOS_df=aunly,full_name='full_name',full_name_column='tmp_author',\n",
    "                               WOS_column='UDEA_authors',WOS_author='WOS_author',\n",
    "                               WOS_affiliation='WOS_affiliation'):\n",
    "    newl=[]\n",
    "    if type(l)==list:\n",
    "        for d in l:\n",
    "            if d.get('WOS_author'):\n",
    "                #find in aunly\n",
    "                mtch=WOS_df[WOS_df[full_name_column]==d.get(full_name)].reset_index(drop=True)\n",
    "                if mtch.shape[0]==1:\n",
    "                    #update d\n",
    "                    if mtch[WOS_column].loc[0].get(WOS_author):\n",
    "                        d[WOS_author]=mtch[WOS_column].loc[0].get(WOS_author)\n",
    "                        d[WOS_affiliation]=mtch[WOS_column].loc[0].get(WOS_affiliation)\n",
    "            newl.append(d)\n",
    "    else:\n",
    "        newl=l\n",
    "    return newl        "
   ]
  },
  {
   "cell_type": "code",
   "execution_count": null,
   "metadata": {},
   "outputs": [],
   "source": [
    "fill_full_wos_author_info(l,aunly)[0].get('WOS_author')"
   ]
  },
  {
   "cell_type": "code",
   "execution_count": null,
   "metadata": {},
   "outputs": [],
   "source": [
    "UDEA['UDEA_authors']=UDEA['UDEA_authors'].apply(fill_full_wos_author_info )"
   ]
  },
  {
   "cell_type": "code",
   "execution_count": null,
   "metadata": {},
   "outputs": [],
   "source": [
    "UDEA.to_json('UDEAtmp.json')"
   ]
  },
  {
   "cell_type": "code",
   "execution_count": null,
   "metadata": {},
   "outputs": [],
   "source": [
    "RECOVER=True\n",
    "if RECOVER:\n",
    "    UDEA=pd.read_json('UDEAtmp.json').reset_index(drop=True)"
   ]
  },
  {
   "cell_type": "markdown",
   "metadata": {},
   "source": []
  },
  {
   "cell_type": "markdown",
   "metadata": {},
   "source": [
    "## Implementation without merge"
   ]
  },
  {
   "cell_type": "code",
   "execution_count": null,
   "metadata": {},
   "outputs": [],
   "source": [
    "import Levenshtein as lv\n",
    "def find_author_affiliation(author,affiliation,author_df=aunly,column='UDEA_authors',\n",
    "                            author_key='WOS_author',affiliation_key='WOS_affiliation',ratio=0.9):\n",
    "    '''\n",
    "    find the WOS+\"UDEA puntaje\" dictionary for WOS author:   `author`\n",
    "    and WOS affiliation:                                    `affiliation`\n",
    "    The information is  searched in \n",
    "    WOS+\"UDEA puntaje\" DataFrame:                            `author_df`, \n",
    "    which has the column:                                    `column` \n",
    "    which contains a dictionary with list value for the key: `author_key`\n",
    "    and list value for the key:                              `affiliation_key`.\n",
    "    Affiliation must be similar until a Levenshtein ratio:   `ratio`\n",
    "    '''    \n",
    "    au=author_df[ author_df[column].apply(\n",
    "                lambda d: d.get(author_key) if type(d)==dict else '').apply(\n",
    "                  lambda l: author in l)]#.reset_index(drop=True).loc[0,column]\n",
    "    if au.shape[0]>0:\n",
    "        #Fast\n",
    "        auf=au[au[column].apply(\n",
    "                 lambda d: d.get(affiliation_key) if type(d)==dict else '').apply(\n",
    "                 lambda l: affiliation in l)]\n",
    "        \n",
    "\n",
    "        if auf.shape[0]>0:\n",
    "              return auf.reset_index(drop=True).loc[0,column]          \n",
    "        #Slow\n",
    "        else:\n",
    "            aus=au[au[column].apply(\n",
    "                 lambda d: d.get(affiliation_key) if type(d)==dict else '').apply(\n",
    "                 lambda l: len( [af for af in l if lv.ratio(af,affiliation) > ratio ] )>0 )]\n",
    "\n",
    "            if aus.shape[0]==1: #fix 1 to avoid homonymous\n",
    "                dold=aus.reset_index(drop=True).loc[0,column]\n",
    "                # Dictionary is automatically updated in author_df!\n",
    "                dold[affiliation_key]=dold[affiliation_key]+[affiliation]\n",
    "                return dold\n",
    "    else:\n",
    "        return None\n",
    "\n",
    "def get_UDEA_authors(x,y,x_author_key='WOS_author',x_affiliation_key='affiliation',\n",
    "                        author_df=aunly,column='UDEA_authors',\n",
    "                        author_key='WOS_author',affiliation_key='WOS_affiliation',\n",
    "                        ratio=0.9):\n",
    "    '''\n",
    "    get the WOS+\"UDEA puntaje\" list of dictionaries for WOS author list \n",
    "    and affiliation list in the  list of dictionaries:      `x`, \n",
    "    where each dictionary have the string value for the key: `x_author_key`, \n",
    "    and the list value for the key:                          `x_affiliation_key`.\n",
    "    The information is obtained directly from the \n",
    "    WOS+\"UDEA puntaje\" list:                                 `y` \n",
    "    if already there, or searched in \n",
    "    WOS+\"UDEA puntaje\" DataFrame:                            `author_df`, \n",
    "    which has the column:                                    `column` \n",
    "    which contains a dictionary with list value for the key: `author_key`\n",
    "    and list value for the key:                              `affiliation_key`.\n",
    "    If not foun None is returned.\n",
    "    WOS info can be changed for other standarized dababase info\n",
    "    and \"UDEA puntaje\" can be changed from any other full name author\n",
    "    and affiliation info.\n",
    "    \n",
    "    IMPORTANT:\n",
    "    The list of values in:                                   `affiliation_key` \n",
    "    is automatically updated with the similar first \n",
    "    affiliation value of the list in:                        `x_affiliation_key`\n",
    "    according with the Levenshtein similarity ratio:         `ratio`\n",
    "    '''\n",
    "    if type(y)==list:\n",
    "        #already filled:\n",
    "        return y\n",
    "\n",
    "    au=[]\n",
    "    if ( type(x)==list and x):\n",
    "        for j in range(len(x)):\n",
    "            xx=find_author_affiliation(x[j].get(x_author_key),x[j].get(x_affiliation_key)[0],\n",
    "                                        author_df=author_df,\n",
    "                                        author_key=author_key,\n",
    "                                        affiliation_key=affiliation_key,\n",
    "                                        ratio=ratio )\n",
    "            if xx:\n",
    "                au.append(xx)\n",
    "    if au:\n",
    "        return au\n",
    "    else:\n",
    "        return None"
   ]
  },
  {
   "cell_type": "code",
   "execution_count": null,
   "metadata": {},
   "outputs": [],
   "source": [
    "i=6\n",
    "x=UDEA['authors_WOS'].loc[i]\n",
    "y=UDEA['UDEA_authors'].loc[i]"
   ]
  },
  {
   "cell_type": "code",
   "execution_count": null,
   "metadata": {},
   "outputs": [],
   "source": [
    "x"
   ]
  },
  {
   "cell_type": "code",
   "execution_count": null,
   "metadata": {},
   "outputs": [],
   "source": [
    "y"
   ]
  },
  {
   "cell_type": "code",
   "execution_count": null,
   "metadata": {},
   "outputs": [],
   "source": [
    "get_UDEA_authors(x,y)"
   ]
  },
  {
   "cell_type": "code",
   "execution_count": null,
   "metadata": {},
   "outputs": [],
   "source": [
    "kk=UDEA.authors_WOS.combine(UDEA.UDEA_authors,func=get_UDEA_authors)"
   ]
  },
  {
   "cell_type": "code",
   "execution_count": null,
   "metadata": {},
   "outputs": [],
   "source": [
    "UDEA.UDEA_authors.dropna().shape"
   ]
  },
  {
   "cell_type": "code",
   "execution_count": null,
   "metadata": {},
   "outputs": [],
   "source": [
    "kk.dropna().shape"
   ]
  },
  {
   "cell_type": "code",
   "execution_count": null,
   "metadata": {},
   "outputs": [],
   "source": [
    "#UDEA['UDEA_authors']=kk"
   ]
  },
  {
   "cell_type": "code",
   "execution_count": null,
   "metadata": {},
   "outputs": [],
   "source": [
    "print 1"
   ]
  },
  {
   "cell_type": "markdown",
   "metadata": {},
   "source": [
    "# TMP"
   ]
  },
  {
   "cell_type": "markdown",
   "metadata": {},
   "source": [
    "The entries left are the ones where there are normalization problemas\n",
    "* Bad written names\n",
    "* Wrong affiliation in WOS\n",
    "* Author appears in AU but not in C1"
   ]
  },
  {
   "cell_type": "code",
   "execution_count": null,
   "metadata": {},
   "outputs": [],
   "source": [
    "i=0\n",
    "tmpua=UDEA[UDEA.UDEA_authors.str[i].apply(lambda d: True if type(d)==dict else False)]"
   ]
  },
  {
   "cell_type": "code",
   "execution_count": null,
   "metadata": {},
   "outputs": [],
   "source": [
    "tmpkk=tmpua[ tmpua.UDEA_authors.str[i].apply(lambda d: d.get('WOS_author')).str[0].apply( pd.isna) ]"
   ]
  },
  {
   "cell_type": "code",
   "execution_count": null,
   "metadata": {},
   "outputs": [],
   "source": [
    "tmp=tmpkk[ tmpkk.authors_WOS.apply( lambda l: l if l and type(l)==list else pd.np.nan ).apply( \n",
    "    lambda l: True if type(l)==list else False) ][['authors_WOS','UDEA_authors','UDEA_autores','TI','DI','AU','C1']].reset_index(drop=True)#.loc[4].values"
   ]
  },
  {
   "cell_type": "code",
   "execution_count": null,
   "metadata": {},
   "outputs": [],
   "source": [
    "tmp.shape"
   ]
  },
  {
   "cell_type": "code",
   "execution_count": null,
   "metadata": {},
   "outputs": [],
   "source": [
    "i=204\n",
    "tmp[i:i+1]#.UDEA_authors#.loc[0]"
   ]
  },
  {
   "cell_type": "code",
   "execution_count": null,
   "metadata": {},
   "outputs": [],
   "source": [
    "tmp.UDEA_authors.loc[i]"
   ]
  },
  {
   "cell_type": "code",
   "execution_count": null,
   "metadata": {},
   "outputs": [],
   "source": [
    "tmp.authors_WOS.loc[i]"
   ]
  },
  {
   "cell_type": "code",
   "execution_count": null,
   "metadata": {},
   "outputs": [],
   "source": [
    "tmp.UDEA_autores.loc[i]"
   ]
  },
  {
   "cell_type": "code",
   "execution_count": null,
   "metadata": {},
   "outputs": [],
   "source": [
    "tmp.TI.loc[i]"
   ]
  },
  {
   "cell_type": "code",
   "execution_count": null,
   "metadata": {},
   "outputs": [],
   "source": [
    "print(tmp.AU.loc[i])"
   ]
  },
  {
   "cell_type": "code",
   "execution_count": null,
   "metadata": {},
   "outputs": [],
   "source": [
    "print(tmp.C1.loc[i])"
   ]
  },
  {
   "cell_type": "code",
   "execution_count": null,
   "metadata": {},
   "outputs": [],
   "source": [
    "x=tmp['authors_WOS'].reset_index(drop=True).loc[i]\n",
    "y=tmp['UDEA_authors'].reset_index(drop=True).loc[i]"
   ]
  },
  {
   "cell_type": "code",
   "execution_count": null,
   "metadata": {},
   "outputs": [],
   "source": [
    "x"
   ]
  },
  {
   "cell_type": "code",
   "execution_count": null,
   "metadata": {},
   "outputs": [],
   "source": [
    "y"
   ]
  },
  {
   "cell_type": "code",
   "execution_count": null,
   "metadata": {},
   "outputs": [],
   "source": [
    "i=0\n",
    "y#[i]['NOMBRE COMPLETO'].split()"
   ]
  },
  {
   "cell_type": "code",
   "execution_count": null,
   "metadata": {},
   "outputs": [],
   "source": [
    "y_keys=['PRIMER APELLIDO','NOMBRES','INICIALES','SEGUNDO APELLIDO','full_name']"
   ]
  },
  {
   "cell_type": "code",
   "execution_count": null,
   "metadata": {},
   "outputs": [],
   "source": [
    "i=0\n",
    "wos_names_list(y[i] ,y_keys)"
   ]
  },
  {
   "cell_type": "code",
   "execution_count": null,
   "metadata": {},
   "outputs": [],
   "source": [
    "x"
   ]
  },
  {
   "cell_type": "code",
   "execution_count": null,
   "metadata": {},
   "outputs": [],
   "source": [
    "[1,\n",
    "  2]"
   ]
  },
  {
   "cell_type": "code",
   "execution_count": null,
   "metadata": {},
   "outputs": [],
   "source": [
    "def combinewos(x,y,x_keys=['WOS_author','affiliation'],\n",
    "                   y_keys=['PRIMER APELLIDO','NOMBRES','INICIALES','SEGUNDO APELLIDO','full_name'],\n",
    "                   xy_keys=['WOS_author','WOS_affiliation']):\n",
    "    if type(x)==list and type(y)==list:\n",
    "        for dx in x:\n",
    "            print( dx[ x_keys[0] ] )\n",
    "            wos_name=unidecode.unidecode( dx[ x_keys[0] ] )\n",
    "            WOS_affiliation= dx[x_keys[1]]\n",
    "            print('Name True')\n",
    "            for i in range( len(y) ):\n",
    "                print('+'*20)\n",
    "                print( wos_names_list(y[i] ,y_keys))\n",
    "                print('+'*20)\n",
    "                print(i,wos_name in wos_names_list(y[i] ,y_keys) )\n",
    "                print('='*20)\n",
    "                if wos_name.title() in wos_names_list(y[i] ,y_keys):\n",
    "                    print('*'*20)\n",
    "                    print(wos_name in wos_names_list(y[i] ,y_keys),':',wos_name)\n",
    "                    print('*'*20)\n",
    "                    y[i][  xy_keys[0] ]=[ wos_name ]\n",
    "                    y[i][  xy_keys[1] ]=WOS_affiliation\n",
    "                    break\n",
    "            # Try by buildong spanish-like names list                    \n",
    "            #Try again but comparing full lists\n",
    "            wos_name_to_list=wos_name.replace(',','').replace('-',' ').title().split()\n",
    "            print(\"-\"*20)\n",
    "            for i in range( len(y) ):\n",
    "                print('--',i)\n",
    "                yi_to_list=unidecode.unidecode( y[i][y_keys[4]].title() )\n",
    "                if yi_to_list:\n",
    "                    yi_to_list=yi_to_list.split()\n",
    "                else:\n",
    "                    yi_to_list=[]\n",
    "                print(i,wos_name_to_list,yi_to_list,  )    \n",
    "                if not pd.np.setdiff1d(wos_name_to_list,yi_to_list).shape[0]:\n",
    "                    y[i][  xy_keys[0] ]=[ wos_name ]\n",
    "                    y[i][  xy_keys[1] ]=WOS_affiliation\n",
    "                    break\n",
    "            #Try again but comparing full lists with initials\n",
    "            wos_name_to_list=wos_name.replace(',','').replace('-',' ').title().split()\n",
    "            for i in range( len(y) ):\n",
    "                yi_to_list=[y[i][y_keys[0]],y[i][y_keys[3]] ]+y[i][y_keys[2]].split()\n",
    "                if not pd.np.setdiff1d(wos_name_to_list,yi_to_list).shape[0]:\n",
    "                    y[i][  xy_keys[0] ]=[ wos_name ]\n",
    "                    y[i][  xy_keys[1] ]=WOS_affiliation\n",
    "                    break\n",
    "            #Try again but comparing full lists with first first name and initial\n",
    "            print(\":\"*20)\n",
    "            for i in range( len(y) ):\n",
    "                yi_to_list=[y[i][y_keys[0]],y[i][y_keys[3]],y[i][y_keys[1]].split()[0],\n",
    "                              y[i][y_keys[2]].split()[-1]]\n",
    "                print(\"::::\",yi_to_list)\n",
    "                if not pd.np.setdiff1d(wos_name_to_list,yi_to_list).shape[0]:\n",
    "                    y[i][  xy_keys[0] ]=[ wos_name ]\n",
    "                    y[i][  xy_keys[1] ]=WOS_affiliation\n",
    "                    break                    \n",
    "            #Try again but comparing full lists with second first name and initial\n",
    "            print(\":\"*20)\n",
    "            for i in range( len(y) ):\n",
    "                yi_to_list=[y[i][y_keys[0]],y[i][y_keys[3]],y[i][y_keys[1]].split()[-1],\n",
    "                              y[i][y_keys[2]].split()[0]]\n",
    "                print(\"::::\",yi_to_list)\n",
    "                if not pd.np.setdiff1d(wos_name_to_list,yi_to_list).shape[0]:\n",
    "                    y[i][  xy_keys[0] ]=[ wos_name ]\n",
    "                    y[i][  xy_keys[1] ]=WOS_affiliation\n",
    "                    break                    \n",
    "                    \n",
    "                    \n",
    "                    \n",
    "    return y"
   ]
  },
  {
   "cell_type": "code",
   "execution_count": null,
   "metadata": {},
   "outputs": [],
   "source": [
    "combinewos(x,y)"
   ]
  },
  {
   "cell_type": "code",
   "execution_count": null,
   "metadata": {},
   "outputs": [],
   "source": [
    "pd.np.setdiff1d(['Bastidas', 'Myriam'] ,['Bastidas', 'Acevedo', 'Miryam', 'Del', 'Socorro']).shape[0]"
   ]
  },
  {
   "cell_type": "code",
   "execution_count": null,
   "metadata": {},
   "outputs": [],
   "source": [
    "800*3*3"
   ]
  },
  {
   "cell_type": "code",
   "execution_count": null,
   "metadata": {},
   "outputs": [],
   "source": [
    "aunly"
   ]
  },
  {
   "cell_type": "code",
   "execution_count": null,
   "metadata": {},
   "outputs": [],
   "source": []
  },
  {
   "cell_type": "markdown",
   "metadata": {},
   "source": [
    "## TODO: Try to merge new WOS articles from old `'UDEA_authors'`"
   ]
  },
  {
   "cell_type": "markdown",
   "metadata": {},
   "source": [
    "TODO: whithout split or merge"
   ]
  },
  {
   "cell_type": "markdown",
   "metadata": {},
   "source": [
    "Split DataFrame into  \"new\" with UDEA authors not yet identified and \"old\" with full UDEA author info "
   ]
  },
  {
   "cell_type": "code",
   "execution_count": null,
   "metadata": {},
   "outputs": [],
   "source": [
    "UDEAnew=UDEA[UDEA.UDEA_authors.isna()].reset_index(drop=True)\n",
    "UDEAold=UDEA[~UDEA.UDEA_authors.isna()].reset_index(drop=True)"
   ]
  },
  {
   "cell_type": "markdown",
   "metadata": {},
   "source": [
    "### Merge old with news"
   ]
  },
  {
   "cell_type": "markdown",
   "metadata": {},
   "source": [
    "Split \"new\" into the \"Y\" with WOS author info"
   ]
  },
  {
   "cell_type": "code",
   "execution_count": null,
   "metadata": {},
   "outputs": [],
   "source": [
    "UDEAnewY=UDEAnew[ UDEAnew.authors_WOS.apply(lambda x: type(x)==list and len(x)>0) ].reset_index(drop=True)\n",
    "UDEAnewN=UDEAnew[~UDEAnew.authors_WOS.apply(lambda x: type(x)==list and len(x)>0) ].reset_index(drop=True)"
   ]
  },
  {
   "cell_type": "code",
   "execution_count": null,
   "metadata": {},
   "outputs": [],
   "source": [
    "(UDEAnewY.shape,'+',UDEAnewN.shape,'+',UDEAold.shape,'=',\n",
    "   UDEAnewY.shape[0]+UDEAnewN.shape[0]+UDEAold.shape[0],'=',UDEA.shape[0])"
   ]
  },
  {
   "cell_type": "code",
   "execution_count": null,
   "metadata": {},
   "outputs": [],
   "source": [
    "CHECK=False\n",
    "if CHECK:\n",
    "    pattern='Restrepo, D.'\n",
    "    mask=extract_internal_value_of_a_dictionary_key_in_a_list_of_dictionaries(\n",
    "                UDEAnewY,list_of_dictionaries='authors_WOS',dictionary_key='WOS_author').apply( \n",
    "                lambda x: pattern in x)\n",
    "    UDEAnewY[mask].authors_WOS.reset_index(drop=True).values"
   ]
  },
  {
   "cell_type": "code",
   "execution_count": null,
   "metadata": {},
   "outputs": [],
   "source": [
    "if CHECK:\n",
    "    mask=mask_on_internal_value_of_a_dictionary_key_in_a_list_of_dictionaries(UDEAnewY,\n",
    "            pattern='Restrepo, D.',list_of_dictionaries='authors_WOS',dictionary_key='WOS_author')                                                                       \n",
    "    UDEAnewY[mask]['authors_WOS'].reset_index(drop=True).values"
   ]
  },
  {
   "cell_type": "code",
   "execution_count": null,
   "metadata": {},
   "outputs": [],
   "source": [
    "#Extract a specific author with specific affiliation from the WOS author full info into a temporal column\n",
    "i=0\n",
    "aff_i=0\n",
    "UDEAnewY['news_i_j_str']=UDEAnewY.authors_WOS.apply(lambda x: [ {'WOS_author':y.get('WOS_author'),\n",
    "                                                   'affiliation':y.get('affiliation')[aff_i]} for y in x]\n",
    "                                                   ).str[i].astype(str)\n",
    "UDEAnewY['news_i_j_str'].loc[0]"
   ]
  },
  {
   "cell_type": "markdown",
   "metadata": {},
   "source": [
    "Prepare trained data set with the j-th author: first UDEA author info into a temporal column"
   ]
  },
  {
   "cell_type": "code",
   "execution_count": null,
   "metadata": {},
   "outputs": [],
   "source": [
    "j=0\n",
    "auth_j=0\n",
    "aff_j=0\n",
    "UDEAold['UDEA_authors_j']=UDEAold['UDEA_authors'].str[j]"
   ]
  },
  {
   "cell_type": "code",
   "execution_count": null,
   "metadata": {},
   "outputs": [],
   "source": [
    "#Extract a specific author with specific affiliation from the WOS author full info into a temporal column\n",
    "UDEAold['news_i_j']=UDEAold['UDEA_authors'].apply(lambda l: [ {'WOS_author':d.get('WOS_author')[auth_j], \n",
    "                                           'affiliation':d.get('WOS_affiliation')[aff_j] } if d.get('WOS_author') \n",
    "                                         else pd.np.nan for d in l] ).str[j]#.astype(str)\n"
   ]
  },
  {
   "cell_type": "code",
   "execution_count": null,
   "metadata": {},
   "outputs": [],
   "source": [
    "ma=UDEAold.dropna(subset=['news_i_j']).reset_index(drop=True)"
   ]
  },
  {
   "cell_type": "markdown",
   "metadata": {},
   "source": [
    "### Quality critera search:\n",
    "* Affiliation split(', ') > 3\n",
    "* if Author find('.') → 'Author split(' ')  > 2 "
   ]
  },
  {
   "cell_type": "code",
   "execution_count": null,
   "metadata": {},
   "outputs": [],
   "source": [
    "ma['news_i_j'].loc[2]"
   ]
  },
  {
   "cell_type": "code",
   "execution_count": null,
   "metadata": {},
   "outputs": [],
   "source": [
    "#*** May be filter Homonymous\n",
    "Homonymous=False\n",
    "if Homonymous:\n",
    "    ma=ma[~np.logical_and( ma['news_i_j'].apply(lambda d: d.get('affiliation') \n",
    "                                              if not pd.isna(d) else '' ).str.split(', ').apply(len)<=3,\n",
    "                            ma['news_i_j'].apply(lambda d: d.get('WOS_author') \n",
    "                                              if not pd.isna(d) else '' ).str.split(' ').apply(len)<=2)]\n",
    "#****"
   ]
  },
  {
   "cell_type": "code",
   "execution_count": null,
   "metadata": {},
   "outputs": [],
   "source": [
    "ma['news_i_j_str']=ma['news_i_j'].astype(str)"
   ]
  },
  {
   "cell_type": "code",
   "execution_count": null,
   "metadata": {},
   "outputs": [],
   "source": [
    "#Extract all the mathches for the author\n",
    "kk=UDEAnewY.merge( ma[['news_i_j_str','news_i_j']],on='news_i_j_str',how='left')#.dropna().reset_index(drop=True)#.loc[5].values"
   ]
  },
  {
   "cell_type": "code",
   "execution_count": null,
   "metadata": {},
   "outputs": [],
   "source": [
    "ma.UDEA_authors.str[i].loc[0]"
   ]
  },
  {
   "cell_type": "code",
   "execution_count": null,
   "metadata": {},
   "outputs": [],
   "source": [
    "kk.shape,UDEAnewY.shape"
   ]
  },
  {
   "cell_type": "code",
   "execution_count": null,
   "metadata": {},
   "outputs": [],
   "source": [
    "kkk=kk.dropna(subset=['news_i_j'])#.shape\n",
    "kkk.shape"
   ]
  }
 ],
 "metadata": {
  "colab": {
   "include_colab_link": true,
   "name": "merge.ipynb",
   "provenance": [],
   "version": "0.3.2"
  },
  "kernelspec": {
   "display_name": "Python 3",
   "language": "python",
   "name": "python3"
  },
  "language_info": {
   "codemirror_mode": {
    "name": "ipython",
    "version": 3
   },
   "file_extension": ".py",
   "mimetype": "text/x-python",
   "name": "python",
   "nbconvert_exporter": "python",
   "pygments_lexer": "ipython3",
   "version": "3.5.3"
  },
  "latex_envs": {
   "LaTeX_envs_menu_present": true,
   "autoclose": false,
   "autocomplete": true,
   "bibliofile": "biblio.bib",
   "cite_by": "apalike",
   "current_citInitial": 1,
   "eqLabelWithNumbers": true,
   "eqNumInitial": 1,
   "hotkeys": {
    "equation": "Ctrl-E",
    "itemize": "Ctrl-I"
   },
   "labels_anchors": false,
   "latex_user_defs": false,
   "report_style_numbering": false,
   "user_envs_cfg": false
  }
 },
 "nbformat": 4,
 "nbformat_minor": 2
}
