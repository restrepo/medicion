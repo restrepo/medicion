{
 "cells": [
  {
   "cell_type": "markdown",
   "metadata": {
    "colab_type": "text",
    "id": "view-in-github"
   },
   "source": [
    "<a href=\"https://colab.research.google.com/github/restrepo/medicion/blob/master/cienciometria/WOS_SCI_SCP_PTJ_CTR.ipynb\" target=\"_parent\"><img src=\"https://colab.research.google.com/assets/colab-badge.svg\" alt=\"Open In Colab\"/></a>"
   ]
  },
  {
   "cell_type": "markdown",
   "metadata": {
    "colab_type": "text",
    "id": "aDnqho-CsEwj"
   },
   "source": [
    "# WOS+SCI+SCP+PTJ+CTR"
   ]
  },
  {
   "cell_type": "markdown",
   "metadata": {},
   "source": [
    "Merge the bibliographic datasets for \n",
    "* Web of Science (WOS), \n",
    "* Scielo (SCI)\n",
    "* Scopus  (SCP)\n",
    "* Puntaje (UDEA)\n",
    "* Center (CTR)\n",
    "of the scientific articles of Universidad de Antioquia\n",
    "\n",
    "For details see [merge.ipynb in Colaboratory](https://colab.research.google.com/github/restrepo/medicion/blob/master/cienciometria/merge.ipynb)\n",
    "\n",
    "Implementation:\n",
    "The input pure o partially processed database with WOS-SCI-SCP and may be some UDEA entries from PTJ and Center information with additional data about the Full Name UDEA authors.\n",
    "\n",
    "Addtionaly UDEA entries can be captured from:\n",
    "1. A previous WOS-SCI-SCP-UDEA\n",
    "2. A Data Base with a column with full names (FULL LAST NAMES NAMES, e.g VALDEZ GÚZMAN JUAN ALBERTO) and a list of author Aliases in WOS format (Lastname, Name, e.g Valdez-Gúzman, J.A.) with a list of registered affiliations. TODO: Test\n",
    "3. The database from Puntaje (UDEA). "
   ]
  },
  {
   "cell_type": "code",
   "execution_count": 1,
   "metadata": {},
   "outputs": [],
   "source": [
    "import os\n",
    "VERSION='NEW'\n",
    "if os.getcwd()=='/content':\n",
    "    !pip install openpyxl xlrd wosplus fuzzywuzzy[speedup] > /dev/null"
   ]
  },
  {
   "cell_type": "code",
   "execution_count": 2,
   "metadata": {},
   "outputs": [],
   "source": [
    "# Delete UDEA_columns and start from schratch\n",
    "REBUILD=False\n",
    "MERGE_WITH_TRAINED=True"
   ]
  },
  {
   "cell_type": "markdown",
   "metadata": {},
   "source": [
    "## functions"
   ]
  },
  {
   "cell_type": "code",
   "execution_count": 3,
   "metadata": {
    "colab": {},
    "colab_type": "code",
    "id": "nhk2ZGEDd2Yo"
   },
   "outputs": [],
   "source": [
    "import pandas as pd\n",
    "import wosplus as wp\n",
    "pd.set_option('display.max_colwidth',200)"
   ]
  },
  {
   "cell_type": "code",
   "execution_count": 4,
   "metadata": {},
   "outputs": [],
   "source": [
    "# %load wos_sci_scp_ptj_ctr.py"
   ]
  },
  {
   "cell_type": "code",
   "execution_count": 5,
   "metadata": {},
   "outputs": [],
   "source": [
    "from wos_sci_scp_ptj_ctr import *"
   ]
  },
  {
   "cell_type": "markdown",
   "metadata": {
    "colab_type": "text",
    "heading_collapsed": true,
    "id": "JS7jD1f47JUN"
   },
   "source": [
    "##  Configure public links of  files in Google Drive\n",
    "* If it is a Google Spreadsheet the corresponding file is downloaded as CSV\n",
    "* If it is in excel or text file the file is downloaded  directly\n",
    "\n",
    "To define your  own labeled IDs for public google drive files edit the next cell:"
   ]
  },
  {
   "cell_type": "code",
   "execution_count": 6,
   "metadata": {
    "colab": {
     "base_uri": "https://localhost:8080/",
     "height": 35
    },
    "colab_type": "code",
    "hidden": true,
    "id": "T4Rmd2dF7JUQ",
    "outputId": "39a5835e-1b38-48b6-f1a5-e9964c846123"
   },
   "outputs": [
    {
     "name": "stdout",
     "output_type": "stream",
     "text": [
      "Overwriting drive.cfg\n"
     ]
    }
   ],
   "source": [
    "%%writefile drive.cfg\n",
    "[FILES]\n",
    "WOS_SCI_SCP_PTJ_CTR.json.gz=19E1C1kRk4I0V3uXojqko8-NEicWaPp1j\n",
    "WOS_SCP_UDEA_SJR_SIU.xlsx=0BxoOXsn2EUNIQ3R4WDhvSzVLQ2s\n",
    "Base_de_datos_investigadores_Definitiva.csv=12oalgUeKhpvzkTPBP8pXCeHTrF-KO223dy9ov9w9QKs\n",
    "UDEA_authors_with_WOS_info.json=1o1eVT4JD0FMMICq_oxrTJOzWh47veBMw\n",
    "produccion_fecha_vig_2003_2018.xlsx=1WbtX4K__TTLxXRjuLvqUYz9tuHCIlS5v\n",
    "UDEA_WOS_SCI_SCP_PTJ.json=1OkVytKbxJwGvXZDkynkSoUDtkUOTaT4A"
   ]
  },
  {
   "cell_type": "markdown",
   "metadata": {
    "colab_type": "text",
    "id": "Y0D0hEdAMXUX"
   },
   "source": [
    "##  Load data bases"
   ]
  },
  {
   "cell_type": "code",
   "execution_count": 8,
   "metadata": {
    "colab": {
     "base_uri": "https://localhost:8080/",
     "height": 35
    },
    "colab_type": "code",
    "id": "occzrIeCS7aQ",
    "outputId": "17b144f3-eef0-4c8a-c2b4-10c8fe55802c"
   },
   "outputs": [],
   "source": [
    "affil='Univ Antioquia'\n",
    "drive_files=wp.wosplus('drive.cfg')"
   ]
  },
  {
   "cell_type": "markdown",
   "metadata": {},
   "source": [
    "#### DEBUG: if False stop in UDEA_PTJ!!!!"
   ]
  },
  {
   "cell_type": "markdown",
   "metadata": {
    "colab": {},
    "colab_type": "code",
    "id": "oq9QM3cBYH0a"
   },
   "source": [
    "if os.path.exists(UDEAjsonfile):\n",
    "    UDEA=               pd.read_json(UDEAjsonfile,compression='gzip').reset_index(drop=True)\n",
    "else:    \n",
    "    UDEA=drive_files.read_drive_json(UDEAjsonfile,compression='gzip').reset_index(drop=True)"
   ]
  },
  {
   "cell_type": "code",
   "execution_count": 9,
   "metadata": {},
   "outputs": [],
   "source": [
    "if REBUILD:\n",
    "    !rm WOS_SCI_SCP_PTJ_CTR.json.gz"
   ]
  },
  {
   "cell_type": "code",
   "execution_count": 10,
   "metadata": {},
   "outputs": [
    {
     "name": "stdout",
     "output_type": "stream",
     "text": [
      "WARNING: Biblio already has a \"Tipo\" column\n"
     ]
    }
   ],
   "source": [
    "RECOVER=True #False for test purposes\n",
    "UDEAjsonfile='WOS_SCI_SCP_PTJ_CTR.json.gz'\n",
    "#Test purposes\n",
    "#UDEAjsonfile='UDEA_WOS_SCI_SCP_PTJ.json'\n",
    "if RECOVER:\n",
    "    #Requieres latest wosplus!\n",
    "    tmp=drive_files.load_biblio(UDEAjsonfile,compression='gzip')# TODO CHANGE FOR LAST VERSION IN GOOGLE DRIVE\n",
    "else:\n",
    "    tmp=drive_files.load_biblio('UDEAtmp.json')\n",
    "    #drive_files.load_biblio(\n",
    "    #  'https://raw.githubusercontent.com/restrepo/medicion/master/cienciometria/data/UDEAtmp300.json'\n",
    "    #    )#Test: 199+1=200 found\n",
    "    \n",
    "UDEA=drive_files.biblio['WOS'].reset_index(drop=True)\n",
    "#DEBUG\n",
    "#UDEA=UDEA.sample(300,replace=True).reset_index(drop=True) #Test: 77 found\n",
    "#tmp=drive_files.load_biblio('Sample_WOS.xlsx')"
   ]
  },
  {
   "cell_type": "code",
   "execution_count": 46,
   "metadata": {},
   "outputs": [
    {
     "data": {
      "text/plain": [
       "(11681,)"
      ]
     },
     "execution_count": 46,
     "metadata": {},
     "output_type": "execute_result"
    }
   ],
   "source": [
    "df=UDEA\n",
    "UDEA_authors='UDEA_authors'\n",
    "kk=df[UDEA_authors].apply(lambda l:\n",
    "             l if type(l)==list\n",
    "             and len(l)>0 else None\n",
    "                ).dropna().reset_index(drop=True)\n",
    "\n",
    "kk[kk.apply(\n",
    "    lambda l: len([1 for d in l if \n",
    "               d.get('full_name')])>0\n",
    "       )].shape"
   ]
  },
  {
   "cell_type": "code",
   "execution_count": 47,
   "metadata": {},
   "outputs": [
    {
     "data": {
      "text/plain": [
       "(7718,)"
      ]
     },
     "execution_count": 47,
     "metadata": {},
     "output_type": "execute_result"
    }
   ],
   "source": [
    "kk[kk.apply(\n",
    "    lambda l: len([1 for d in l if \n",
    "               d.get('NOMBRE COMPLETO')])>0\n",
    "       )].shape"
   ]
  },
  {
   "cell_type": "code",
   "execution_count": 27,
   "metadata": {},
   "outputs": [
    {
     "name": "stdout",
     "output_type": "stream",
     "text": [
      "10312\n"
     ]
    }
   ],
   "source": [
    "df=UDEA\n",
    "Tipo='Tipo'\n",
    "x=df[df[Tipo].str.contains(\n",
    "      'UDEA')].shape[0]\n",
    "print(x)"
   ]
  },
  {
   "cell_type": "code",
   "execution_count": 80,
   "metadata": {},
   "outputs": [
    {
     "name": "stdout",
     "output_type": "stream",
     "text": [
      "Writing check_quality.py\n"
     ]
    }
   ],
   "source": [
    "%%writefile check_quality.py\n",
    "def check_quality(df,\n",
    "     authors_WOS='authors_WOS',\n",
    "     Tipo='Tipo',\n",
    "     UDEA_authors='UDEA_authors'\n",
    "    ):\n",
    "    import pandas as pd\n",
    "    if authors_WOS in df.columns:\n",
    "        print(authors_WOS)\n",
    "        x=df[authors_WOS].apply(lambda l:\n",
    "                 l if type(l)==list\n",
    "                 and len(l)>0 else None\n",
    "                    ).dropna().shape[0]\n",
    "        print(x)\n",
    "        kk=df[df['TI']=='Leptonic charged Higgs decays in the Zee model'].reset_index(drop=True)\n",
    "        print(kk.loc[0,'TI'],'; authors_WOS:',kk.loc[0,authors_WOS],'; AU:',kk.loc[0,'AU'])\n",
    "    if Tipo in df.columns:        \n",
    "        print('Tipo contains UDEA')\n",
    "        x=df[df[Tipo].str.contains(\n",
    "             'UDEA')].shape[0]\n",
    "        print(x)\n",
    "    if UDEA_authors in df.columns:\n",
    "        print(UDEA_authors)\n",
    "        kk=df[UDEA_authors].apply(lambda l:\n",
    "             l if type(l)==list\n",
    "             and len(l)>0 else None\n",
    "                ).dropna().reset_index(drop=True)\n",
    "        print(kk.shape[0])\n",
    "\n",
    "        print('UDEA_authors → full_names (Extrapolado puntaje)')\n",
    "        x=kk[kk.apply(lambda l: len([1 for d in l if \n",
    "                   d.get('full_name')])>0\n",
    "               )].shape[0]\n",
    "        print(x)\n",
    "    \n",
    "        print('UDEA_authors → \"NOMBRE COMPLETO\" (Extrapolado CENTRO)')\n",
    "        x=kk[kk.apply(lambda l: len([1 for d in l if \n",
    "                   d.get('NOMBRE COMPLETO')])>0\n",
    "               )].shape[0]\n",
    "        print(x)"
   ]
  },
  {
   "cell_type": "code",
   "execution_count": 59,
   "metadata": {},
   "outputs": [
    {
     "name": "stdout",
     "output_type": "stream",
     "text": [
      "authors_WOS\n",
      "13645\n",
      "Leptonic charged Higgs decays in the Zee model ; authors_WOS: [] ; AU: Sierra, DA\n",
      "Restrepo, D\n",
      "\n",
      "Tipo contains UDEA\n",
      "10312\n",
      "UDEA_authors\n",
      "11681\n",
      "UDEA_authors → full_names (Extrapolado puntaje)\n",
      "11681\n",
      "UDEA_authors → \"NOMBRE COMPLETO\" (Extrapolado CENTRO)\n",
      "7718\n",
      "TI: \"The inert doublet model\" check WOS_author vs UDEA_authors\n",
      "...\n"
     ]
    }
   ],
   "source": [
    "check_quality(UDEA)"
   ]
  },
  {
   "cell_type": "code",
   "execution_count": 60,
   "metadata": {},
   "outputs": [],
   "source": [
    "if REBUILD:\n",
    "    UDEA=clean_institutional_columns(UDEA,prefix='UDEA',Tipo='Tipo')\n",
    "    UDEA['UDEA_authors']=None\n"
   ]
  },
  {
   "cell_type": "code",
   "execution_count": 61,
   "metadata": {
    "scrolled": true
   },
   "outputs": [
    {
     "name": "stdout",
     "output_type": "stream",
     "text": [
      "WOS_SCP_UDEA:4468\n",
      "SCI_UDEA:2083\n",
      "WOS_UDEA:716\n",
      "SCI_SCP_UDEA:1269\n",
      "WOS_SCP:1352\n",
      "WOS:1168\n",
      "SCP_UDEA:1084\n",
      "WOS_SCI_SCP:169\n",
      "SCI_SCP:347\n",
      "WOS_SCI:54\n",
      "SCI:809\n",
      "SCP:1489\n",
      "WOS_SCI_SCP_UDEA:599\n",
      "WOS_SCI_UDEA:93\n"
     ]
    }
   ],
   "source": [
    "for t in UDEA.Tipo.unique():\n",
    "    print( '{}:{}'.format( t, UDEA[ UDEA.Tipo==t].shape[0] ) )"
   ]
  },
  {
   "cell_type": "code",
   "execution_count": 62,
   "metadata": {},
   "outputs": [
    {
     "data": {
      "text/plain": [
       "(15700, 181)"
      ]
     },
     "execution_count": 62,
     "metadata": {},
     "output_type": "execute_result"
    }
   ],
   "source": [
    "UDEA.shape"
   ]
  },
  {
   "cell_type": "markdown",
   "metadata": {
    "heading_collapsed": true
   },
   "source": [
    "## Load trained old data "
   ]
  },
  {
   "cell_type": "markdown",
   "metadata": {
    "heading_collapsed": true
   },
   "source": [
    "### Merge WOS_SCP_SCI with trained data set PTJ_CTR"
   ]
  },
  {
   "cell_type": "markdown",
   "metadata": {
    "hidden": true
   },
   "source": [
    "Merge requires split in DI and TI\n",
    "\n",
    "\n",
    "15700 (15700, 152)\n",
    "(7072, 169) (8628, 169)"
   ]
  },
  {
   "cell_type": "code",
   "execution_count": 63,
   "metadata": {},
   "outputs": [],
   "source": [
    "SIU=drive_files.read_drive_excel('WOS_SCP_UDEA_SJR_SIU.xlsx')"
   ]
  },
  {
   "cell_type": "code",
   "execution_count": 64,
   "metadata": {
    "hidden": true
   },
   "outputs": [
    {
     "name": "stderr",
     "output_type": "stream",
     "text": [
      "/usr/local/lib/python3.5/dist-packages/pandas/core/ops.py:1649: FutureWarning: elementwise comparison failed; returning scalar instead, but in the future will perform elementwise comparison\n",
      "  result = method(y)\n"
     ]
    },
    {
     "name": "stdout",
     "output_type": "stream",
     "text": [
      "15700 (15700, 152)\n",
      "(7072, 168) (8628, 168)\n"
     ]
    }
   ],
   "source": [
    "if MERGE_WITH_TRAINED:\n",
    "    if os.path.exists('WOS_SCP_UDEA_SJR_SIU.xlsx'):\n",
    "        SIU=pd.read_excel('WOS_SCP_UDEA_SJR_SIU.xlsx')\n",
    "    else:    \n",
    "        SIU=drive_files.read_drive_excel('WOS_SCP_UDEA_SJR_SIU.xlsx')\n",
    "        \n",
    "    UDEA,SIU=fill_trained_data(UDEA,SIU)#TODO: Remnove SIU"
   ]
  },
  {
   "cell_type": "code",
   "execution_count": 65,
   "metadata": {},
   "outputs": [],
   "source": [
    "if MERGE_WITH_TRAINED:\n",
    "    UDEA.to_json('UDEAtmp.json')\n",
    "    RECOVER=False\n",
    "    if RECOVER:\n",
    "        UDEA=pd.read_json('UDEAtmp.json').reset_index(drop=True)"
   ]
  },
  {
   "cell_type": "code",
   "execution_count": 66,
   "metadata": {},
   "outputs": [],
   "source": [
    "if 'UDEA_autores' in UDEA.columns and UDEA[UDEA['UDEA_autores']==''].shape[0]:\n",
    "    UDEA['UDEA_autores']=UDEA['UDEA_autores'].apply(lambda s: pd.np.nan if type(s)==str and s=='' else s)"
   ]
  },
  {
   "cell_type": "code",
   "execution_count": 67,
   "metadata": {},
   "outputs": [
    {
     "name": "stdout",
     "output_type": "stream",
     "text": [
      "0 7072\n"
     ]
    }
   ],
   "source": [
    "if 'UDEA_autores' in UDEA.columns:\n",
    "    print(UDEA[UDEA['UDEA_autores']==''].shape[0],UDEA['UDEA_autores'].dropna().shape[0])"
   ]
  },
  {
   "cell_type": "code",
   "execution_count": 68,
   "metadata": {},
   "outputs": [
    {
     "name": "stdout",
     "output_type": "stream",
     "text": [
      "authors_WOS\n",
      "13645\n",
      "Leptonic charged Higgs decays in the Zee model ; authors_WOS: [] ; AU: Sierra, DA\n",
      "Restrepo, D\n",
      "\n",
      "Tipo contains UDEA\n",
      "10312\n",
      "TI: \"The inert doublet model\" check WOS_author vs UDEA_authors\n",
      "...\n"
     ]
    }
   ],
   "source": [
    "check_quality(UDEA)"
   ]
  },
  {
   "cell_type": "markdown",
   "metadata": {},
   "source": [
    "# Puntaje"
   ]
  },
  {
   "cell_type": "markdown",
   "metadata": {},
   "source": [
    "UDEA"
   ]
  },
  {
   "cell_type": "code",
   "execution_count": 69,
   "metadata": {},
   "outputs": [],
   "source": [
    "qq=UDEA.copy()"
   ]
  },
  {
   "cell_type": "code",
   "execution_count": 70,
   "metadata": {},
   "outputs": [
    {
     "data": {
      "text/plain": [
       "(15700, 168)"
      ]
     },
     "execution_count": 70,
     "metadata": {},
     "output_type": "execute_result"
    }
   ],
   "source": [
    "drive_files.biblio['WOS']=qq\n",
    "drive_files.biblio['WOS'].shape"
   ]
  },
  {
   "cell_type": "code",
   "execution_count": 71,
   "metadata": {},
   "outputs": [],
   "source": [
    "tmp=drive_files.load_biblio('produccion_fecha_vig_2003_2018.xlsx',prefix='UDEA')"
   ]
  },
  {
   "cell_type": "code",
   "execution_count": 72,
   "metadata": {},
   "outputs": [],
   "source": [
    "pp= drive_files.biblio['UDEA'].copy()"
   ]
  },
  {
   "cell_type": "code",
   "execution_count": 73,
   "metadata": {},
   "outputs": [],
   "source": [
    "drive_files.biblio['UDEA']=pp"
   ]
  },
  {
   "cell_type": "code",
   "execution_count": 74,
   "metadata": {},
   "outputs": [
    {
     "name": "stdout",
     "output_type": "stream",
     "text": [
      "(32581, 24)\n",
      "va1 0 0\n",
      "........................................................................"
     ]
    },
    {
     "name": "stderr",
     "output_type": "stream",
     "text": [
      "/usr/local/lib/python3.5/dist-packages/pandas/core/frame.py:6692: FutureWarning: Sorting because non-concatenation axis is not aligned. A future version\n",
      "of pandas will change to not sort by default.\n",
      "\n",
      "To accept the future behavior, pass 'sort=False'.\n",
      "\n",
      "To retain the current behavior and silence the warning, pass 'sort=True'.\n",
      "\n",
      "  sort=sort)\n"
     ]
    },
    {
     "name": "stdout",
     "output_type": "stream",
     "text": [
      "7258 : 5806 + 2827 = 8633\n",
      "va2 0 5806\n",
      "........................................................."
     ]
    },
    {
     "name": "stderr",
     "output_type": "stream",
     "text": [
      "/usr/local/lib/python3.5/dist-packages/pandas/core/frame.py:6692: FutureWarning: Sorting because non-concatenation axis is not aligned. A future version\n",
      "of pandas will change to not sort by default.\n",
      "\n",
      "To accept the future behavior, pass 'sort=False'.\n",
      "\n",
      "To retain the current behavior and silence the warning, pass 'sort=True'.\n",
      "\n",
      "  sort=sort)\n"
     ]
    },
    {
     "name": "stdout",
     "output_type": "stream",
     "text": [
      "7258 : 5453 + 353 = 5806\n",
      "va3 0 5453\n",
      "......................................................."
     ]
    },
    {
     "name": "stderr",
     "output_type": "stream",
     "text": [
      "/usr/local/lib/python3.5/dist-packages/pandas/core/frame.py:6692: FutureWarning: Sorting because non-concatenation axis is not aligned. A future version\n",
      "of pandas will change to not sort by default.\n",
      "\n",
      "To accept the future behavior, pass 'sort=False'.\n",
      "\n",
      "To retain the current behavior and silence the warning, pass 'sort=True'.\n",
      "\n",
      "  sort=sort)\n"
     ]
    },
    {
     "name": "stdout",
     "output_type": "stream",
     "text": [
      "va4 0 5389\n",
      "7258 : 5389 + 64 = 5453\n",
      "(3239, 174) + (5389, 152) = 8628\n"
     ]
    }
   ],
   "source": [
    "df=merge_puntaje(drive_files)"
   ]
  },
  {
   "cell_type": "code",
   "execution_count": 75,
   "metadata": {},
   "outputs": [
    {
     "name": "stdout",
     "output_type": "stream",
     "text": [
      "0 = 0 ; found: 10311\n"
     ]
    }
   ],
   "source": [
    "#TODO: Check why not zero\n",
    "if 'UDEA_autores' in df.columns:\n",
    "    print(0,'=',df[df['UDEA_autores']==''].shape[0],'; found:',df['UDEA_autores'].dropna().shape[0])"
   ]
  },
  {
   "cell_type": "code",
   "execution_count": 76,
   "metadata": {},
   "outputs": [],
   "source": [
    "#df['UDEA_autores'].apply(lambda s: pd.np.nan if type(s)==str and s=='' else s).dropna().shape"
   ]
  },
  {
   "cell_type": "code",
   "execution_count": 77,
   "metadata": {},
   "outputs": [],
   "source": [
    "UDEA=df.copy()"
   ]
  },
  {
   "cell_type": "code",
   "execution_count": 78,
   "metadata": {},
   "outputs": [
    {
     "data": {
      "text/plain": [
       "(15700, 180)"
      ]
     },
     "execution_count": 78,
     "metadata": {},
     "output_type": "execute_result"
    }
   ],
   "source": [
    "UDEA.shape"
   ]
  },
  {
   "cell_type": "code",
   "execution_count": 79,
   "metadata": {},
   "outputs": [
    {
     "name": "stdout",
     "output_type": "stream",
     "text": [
      "authors_WOS\n",
      "13645\n",
      "Leptonic charged Higgs decays in the Zee model ; authors_WOS: [] ; AU: Sierra, DA\n",
      "Restrepo, D\n",
      "\n",
      "Tipo contains UDEA\n",
      "10311\n",
      "TI: \"The inert doublet model\" check WOS_author vs UDEA_authors\n",
      "...\n"
     ]
    }
   ],
   "source": [
    "check_quality(UDEA)"
   ]
  },
  {
   "cell_type": "markdown",
   "metadata": {
    "heading_collapsed": true
   },
   "source": [
    "## Fill C1 for not WOS entries in WOS format and extract  affiliation from C1"
   ]
  },
  {
   "cell_type": "code",
   "execution_count": 88,
   "metadata": {},
   "outputs": [],
   "source": [
    "#Fill from SCI_C1\n",
    "UDEA['C1']=SCI_C1_to_C1(UDEA)"
   ]
  },
  {
   "cell_type": "code",
   "execution_count": 89,
   "metadata": {
    "hidden": true
   },
   "outputs": [],
   "source": [
    "#Fill from SCP_C1='SCP_Authors with affiliations\n",
    "UDEA['C1']=SCP_Authors_with_affiliations_to_C1(UDEA)"
   ]
  },
  {
   "cell_type": "code",
   "execution_count": 90,
   "metadata": {},
   "outputs": [
    {
     "data": {
      "text/plain": [
       "(0, 180)"
      ]
     },
     "execution_count": 90,
     "metadata": {},
     "output_type": "execute_result"
    }
   ],
   "source": [
    "UDEA[UDEA['C1'].isnull()].shape"
   ]
  },
  {
   "cell_type": "code",
   "execution_count": 91,
   "metadata": {
    "hidden": true
   },
   "outputs": [
    {
     "data": {
      "text/plain": [
       "'[Doddasomayajula, R.; Chung, B. J.; Mut, F.; Cebral, J. R.] George Mason Univ, Bioengn Dept, Fairfax, VA 22030 USA.\\n[Jimenez, C. M.] Univ Antioquia, Neurosurg Dept, Medellin, Colombia.\\n[Hamzei-Sichani, F.] Mt Sinai Med Ctr, Dept Neurosurg, New York, NY 10029 USA.\\n[Putman, C. M.] Inova Fairfax Hosp, Intervent Neuroradiol, Falls Church, VA USA.\\n'"
      ]
     },
     "execution_count": 91,
     "metadata": {},
     "output_type": "execute_result"
    }
   ],
   "source": [
    "UDEA[UDEA.Tipo=='WOS'].reset_index(drop=True).C1.loc[0]"
   ]
  },
  {
   "cell_type": "code",
   "execution_count": 92,
   "metadata": {
    "hidden": true
   },
   "outputs": [],
   "source": [
    "#WARNING: some C1 WOS entries are not normalized: Missing authors\n",
    "UDEA['authors_WOS']=UDEA.C1.apply(lambda x: x.split('\\n') if x else x).apply(\n",
    "    lambda x:   [y.replace('[','').replace('] ','; ') for y in x if y.find(affil)>-1 ] if x else x ).apply(\n",
    "     lambda x: get_author_info(x) if x else x)\n",
    "\n",
    "# Improve normalization: remove C1s with only affiliation (from Scielo)\n",
    "UDEA['authors_WOS']=UDEA['authors_WOS'].apply( \n",
    "    lambda x: [d for d in x if d.get('WOS_author').find(affil)==-1] if type(x)==list else x )"
   ]
  },
  {
   "cell_type": "code",
   "execution_count": 93,
   "metadata": {},
   "outputs": [
    {
     "data": {
      "text/plain": [
       "[{'WOS_author': 'Gallo-Villegas, J. A.',\n",
       "  'affiliation': ['Unidad de Gestión del Conocimiento, Centro Clínico y de Investigación SICOR, Soluciones Integrales en Riesgo Cardiovascular, Medellín, Colombia, Facultad de Medicina, Univ Antioquia, Medellín, Colombia'],\n",
       "  'i': 0}]"
      ]
     },
     "execution_count": 93,
     "metadata": {},
     "output_type": "execute_result"
    }
   ],
   "source": [
    "UDEA[UDEA.Tipo=='SCP'].reset_index(drop=True).loc[0].authors_WOS"
   ]
  },
  {
   "cell_type": "markdown",
   "metadata": {},
   "source": [
    "## Prepare UDEA columns"
   ]
  },
  {
   "cell_type": "code",
   "execution_count": 95,
   "metadata": {},
   "outputs": [],
   "source": [
    "#TODO: Remove from fill_trained_data(..)\n",
    "if 'UDEA_autores' in UDEA.columns:\n",
    "    UDEA['UDEA_autores']=UDEA['UDEA_autores'].apply(lambda s: re.sub('\\s+',' ',s) if type(s)==str else s)\n",
    "    UDEA['UDEA_authors']=UDEA['UDEA_autores'].apply(lambda s: s.split(';') if type(s)==str else s).apply(\n",
    "                           lambda l: [{'full_name':y} for y in l ] if type(l)==list else l)"
   ]
  },
  {
   "cell_type": "markdown",
   "metadata": {
    "heading_collapsed": true
   },
   "source": [
    "## Merge with official researcher list: PTJ"
   ]
  },
  {
   "cell_type": "code",
   "execution_count": 96,
   "metadata": {},
   "outputs": [],
   "source": [
    "AU=drive_files.read_drive_excel('Base_de_datos_investigadores_Definitiva.csv')"
   ]
  },
  {
   "cell_type": "code",
   "execution_count": 97,
   "metadata": {
    "hidden": true
   },
   "outputs": [
    {
     "name": "stdout",
     "output_type": "stream",
     "text": [
      "0\n",
      "1\n",
      "2\n",
      "3\n",
      "4\n",
      "5\n",
      "6\n",
      "7\n",
      "8\n",
      "9\n",
      "10\n",
      "11\n",
      "(15700, 181) (15700, 181)\n"
     ]
    }
   ],
   "source": [
    "UPDATE_UDEA_authors_with_AU=True\n",
    "if (UDEA['UDEA_authors'].dropna().shape[0] and \n",
    "    UPDATE_UDEA_authors_with_AU):\n",
    "    kkn=UDEA.copy()\n",
    "    kkn=update_institutional_authors(kkn,AU)\n",
    "    print(kkn.shape,UDEA.shape)\n",
    "    UDEA=kkn.copy()"
   ]
  },
  {
   "cell_type": "markdown",
   "metadata": {
    "hidden": true
   },
   "source": [
    "Quality check"
   ]
  },
  {
   "cell_type": "code",
   "execution_count": 98,
   "metadata": {
    "hidden": true
   },
   "outputs": [
    {
     "data": {
      "text/plain": [
       "1    [{'affiliation': ['Univ Antioquia, Inst Fis, Calle 70 52-21 Medellin, Medellin, Colombia.'], 'i': 0, 'WOS_author': 'Restrepo, D.'}]\n",
       "2                        [{'affiliation': ['Univ Antioquia, Inst Fis, Medellin 1226, Colombia.'], 'i': 0, 'WOS_author': 'Restrepo, D.'}]\n",
       "Name: authors_WOS, dtype: object"
      ]
     },
     "execution_count": 98,
     "metadata": {},
     "output_type": "execute_result"
    }
   ],
   "source": [
    "key_contains_in_list_of_dictionaries(UDEA,'Restrepo, D',column='authors_WOS',key='WOS_author').loc[1:2]"
   ]
  },
  {
   "cell_type": "code",
   "execution_count": 99,
   "metadata": {
    "hidden": true
   },
   "outputs": [],
   "source": [
    "if UPDATE_UDEA_authors_with_AU:\n",
    "    UDEA.to_json('UDEAtmp.json')\n",
    "    RECOVER=False\n",
    "    if RECOVER:\n",
    "        UDEA=pd.read_json('UDEAtmp.json').reset_index(drop=True)"
   ]
  },
  {
   "cell_type": "code",
   "execution_count": 100,
   "metadata": {},
   "outputs": [
    {
     "name": "stdout",
     "output_type": "stream",
     "text": [
      "authors_WOS\n",
      "13645\n",
      "Leptonic charged Higgs decays in the Zee model ; authors_WOS: [] ; AU: Sierra, DA\n",
      "Restrepo, D\n",
      "\n",
      "Tipo contains UDEA\n",
      "10311\n",
      "UDEA_authors\n",
      "10311\n",
      "UDEA_authors → full_names (Extrapolado puntaje)\n",
      "10311\n",
      "UDEA_authors → \"NOMBRE COMPLETO\" (Extrapolado CENTRO)\n",
      "6840\n",
      "TI: \"The inert doublet model\" check WOS_author vs UDEA_authors\n",
      "...\n"
     ]
    }
   ],
   "source": [
    "check_quality(UDEA)"
   ]
  },
  {
   "cell_type": "markdown",
   "metadata": {
    "heading_collapsed": true
   },
   "source": [
    "## Add `UDEA.authors_WOS` info* within `UDEA.UDEA_authors` data**\n",
    "(\\*) obtained from `UDEA.C1`\n",
    "\n",
    "(\\*\\*) Obtained from [puntaje trained old UDEA data](./WOS_SCI_SCP_PTJ_GS_LNS.ipynb#Merge-with-trained-data-set) and the [official researcher list](./WOS_SCI_SCP_PTJ_GS_LNS.ipynb#Merge-with-official-researcher-list)"
   ]
  },
  {
   "cell_type": "markdown",
   "metadata": {
    "hidden": true
   },
   "source": [
    "Obtain name parts and initials from full name in `UDEA_authors` dictionary and update `UDEA_authors` with them"
   ]
  },
  {
   "cell_type": "code",
   "execution_count": 101,
   "metadata": {},
   "outputs": [],
   "source": [
    "import sys\n",
    "if 'UDEA_authors' not in UDEA.columns and REBUILD==False:\n",
    "    sys.exit('Make MERGE_WITH_TRAINED True and run again')"
   ]
  },
  {
   "cell_type": "code",
   "execution_count": 102,
   "metadata": {},
   "outputs": [],
   "source": [
    "# Obtain spanish name parts from full name\n",
    "dictupdatetmp=UDEA['UDEA_authors'].apply(lambda x: [y.update( \n",
    "                split_full_names(y,full_name='full_name')  ) if not pd.isnull(\n",
    "                y.get('full_name')) else y for y in x] \n",
    "                                   if type(x)==list \n",
    "                                   else x)"
   ]
  },
  {
   "cell_type": "code",
   "execution_count": 103,
   "metadata": {
    "hidden": true
   },
   "outputs": [],
   "source": [
    "kk=UDEA['authors_WOS'].combine( UDEA['UDEA_authors'], func=combinewos )"
   ]
  },
  {
   "cell_type": "code",
   "execution_count": 104,
   "metadata": {},
   "outputs": [
    {
     "data": {
      "text/plain": [
       "[{'CÉDULA': 39357558.0,\n",
       "  'DEPARTAMENTO': 'Departamento de Microbiología y Parasitología',\n",
       "  'FACULTAD': 'Facultad de Medicina',\n",
       "  'GRUPO': 'Inmunovirología',\n",
       "  'INICIALES': 'P. A.',\n",
       "  'NOMBRE COMPLETO': 'Paula Andrea Velilla Hernandez',\n",
       "  'NOMBRES': 'Paula Andrea',\n",
       "  'PRIMER APELLIDO': 'Velilla',\n",
       "  'SEGUNDO APELLIDO': 'Hernandez',\n",
       "  'WOS_affiliation': ['Univ Antioquia UdeA, Fac Med, Grp Inmunovirol, Medellin, Colombia.'],\n",
       "  'WOS_author': ['Velilla-Hernandez, Paula Andrea'],\n",
       "  'full_name': 'VELILLA HERNANDEZ PAULA ANDREA'}]"
      ]
     },
     "execution_count": 104,
     "metadata": {},
     "output_type": "execute_result"
    }
   ],
   "source": [
    "UDEA['UDEA_authors'].loc[0]"
   ]
  },
  {
   "cell_type": "code",
   "execution_count": 105,
   "metadata": {
    "hidden": true
   },
   "outputs": [],
   "source": [
    "UDEA.to_json('UDEAtmp.json')"
   ]
  },
  {
   "cell_type": "markdown",
   "metadata": {
    "hidden": true
   },
   "source": [
    "### Load output restuls of previous Cell runs"
   ]
  },
  {
   "cell_type": "code",
   "execution_count": 106,
   "metadata": {
    "hidden": true
   },
   "outputs": [],
   "source": [
    "RECOVER=False\n",
    "if RECOVER:\n",
    "    UDEA=pd.read_json('UDEAtmp.json').reset_index(drop=True)"
   ]
  },
  {
   "cell_type": "markdown",
   "metadata": {
    "heading_collapsed": true
   },
   "source": [
    "## Build a single profile for all"
   ]
  },
  {
   "cell_type": "markdown",
   "metadata": {
    "hidden": true
   },
   "source": [
    "### Fill UDEA_authors with WOS_author info"
   ]
  },
  {
   "cell_type": "markdown",
   "metadata": {},
   "source": [
    "Obtain UDEA_authors DataFrame: `aunly`"
   ]
  },
  {
   "cell_type": "code",
   "execution_count": 107,
   "metadata": {},
   "outputs": [
    {
     "name": "stdout",
     "output_type": "stream",
     "text": [
      "DELGADO LASTRA JUAN DE DIOS\n"
     ]
    }
   ],
   "source": [
    "aunly=DataFrame_authors(UDEA)"
   ]
  },
  {
   "cell_type": "code",
   "execution_count": 108,
   "metadata": {
    "hidden": true
   },
   "outputs": [],
   "source": [
    "if not aunly.empty:\n",
    "    aunly.to_json('UDEA_authors_with_WOS_info.json')"
   ]
  },
  {
   "cell_type": "code",
   "execution_count": 109,
   "metadata": {
    "hidden": true
   },
   "outputs": [],
   "source": [
    "RECOVER=False\n",
    "if RECOVER:\n",
    "    UDEA=pd.read_json('UDEAtmp.json').reset_index(drop=True)"
   ]
  },
  {
   "cell_type": "code",
   "execution_count": 110,
   "metadata": {
    "hidden": true
   },
   "outputs": [
    {
     "data": {
      "text/plain": [
       "(15700, 181)"
      ]
     },
     "execution_count": 110,
     "metadata": {},
     "output_type": "execute_result"
    }
   ],
   "source": [
    "UDEA.shape"
   ]
  },
  {
   "cell_type": "code",
   "execution_count": 111,
   "metadata": {
    "hidden": true
   },
   "outputs": [],
   "source": [
    "if RECOVER:\n",
    "    if os.path.exists('UDEA_authors_with_WOS_info.json' ):\n",
    "        aunly=pd.read_json('UDEA_authors_with_WOS_info.json')\n",
    "    else:\n",
    "        aunly=drive_files.read_drive_json('UDEA_authors_with_WOS_info.json')"
   ]
  },
  {
   "cell_type": "code",
   "execution_count": 112,
   "metadata": {
    "hidden": true
   },
   "outputs": [
    {
     "data": {
      "text/plain": [
       "(1273, 2)"
      ]
     },
     "execution_count": 112,
     "metadata": {},
     "output_type": "execute_result"
    }
   ],
   "source": [
    "aunly.shape"
   ]
  },
  {
   "cell_type": "markdown",
   "metadata": {
    "hidden": true
   },
   "source": [
    "(1273, 2)"
   ]
  },
  {
   "cell_type": "code",
   "execution_count": 113,
   "metadata": {},
   "outputs": [
    {
     "name": "stdout",
     "output_type": "stream",
     "text": [
      "authors_WOS\n",
      "13645\n",
      "Leptonic charged Higgs decays in the Zee model ; authors_WOS: [] ; AU: Sierra, DA\n",
      "Restrepo, D\n",
      "\n",
      "Tipo contains UDEA\n",
      "10311\n",
      "UDEA_authors\n",
      "10311\n",
      "UDEA_authors → full_names (Extrapolado puntaje)\n",
      "10311\n",
      "UDEA_authors → \"NOMBRE COMPLETO\" (Extrapolado CENTRO)\n",
      "6840\n",
      "TI: \"The inert doublet model\" check WOS_author vs UDEA_authors\n",
      "...\n"
     ]
    }
   ],
   "source": [
    "check_quality(UDEA)"
   ]
  },
  {
   "cell_type": "markdown",
   "metadata": {},
   "source": [
    "## Merge UDEA with authors"
   ]
  },
  {
   "cell_type": "code",
   "execution_count": 114,
   "metadata": {},
   "outputs": [],
   "source": [
    "UDEA['UDEA_authors']=UDEA['UDEA_authors'].apply(lambda l:fill_full_wos_author_info(l,aunly) )"
   ]
  },
  {
   "cell_type": "code",
   "execution_count": 115,
   "metadata": {},
   "outputs": [],
   "source": [
    "if UDEA['UDEA_authors'].dropna().shape[0]:\n",
    "    UDEA.to_json('UDEAtmp.json')"
   ]
  },
  {
   "cell_type": "code",
   "execution_count": 116,
   "metadata": {},
   "outputs": [],
   "source": [
    "RECOVER=False\n",
    "if RECOVER:\n",
    "    UDEA=pd.read_json('UDEAtmp.json').reset_index(drop=True)"
   ]
  },
  {
   "cell_type": "code",
   "execution_count": 117,
   "metadata": {},
   "outputs": [
    {
     "data": {
      "text/plain": [
       "(15700, 181)"
      ]
     },
     "execution_count": 117,
     "metadata": {},
     "output_type": "execute_result"
    }
   ],
   "source": [
    "UDEA.shape"
   ]
  },
  {
   "cell_type": "code",
   "execution_count": 118,
   "metadata": {},
   "outputs": [],
   "source": [
    "kk=UDEA.authors_WOS.combine(UDEA.UDEA_authors,func=lambda x,y: get_UDEA_authors(x,y,aunly))"
   ]
  },
  {
   "cell_type": "code",
   "execution_count": 119,
   "metadata": {},
   "outputs": [
    {
     "data": {
      "text/plain": [
       "(10311,)"
      ]
     },
     "execution_count": 119,
     "metadata": {},
     "output_type": "execute_result"
    }
   ],
   "source": [
    "UDEA.UDEA_authors.dropna().shape"
   ]
  },
  {
   "cell_type": "markdown",
   "metadata": {},
   "source": [
    "(7072,)"
   ]
  },
  {
   "cell_type": "code",
   "execution_count": 120,
   "metadata": {},
   "outputs": [],
   "source": [
    "UDEA['UDEA_authors']=kk"
   ]
  },
  {
   "cell_type": "code",
   "execution_count": 121,
   "metadata": {},
   "outputs": [
    {
     "data": {
      "text/plain": [
       "((10901,), (15700, 181))"
      ]
     },
     "execution_count": 121,
     "metadata": {},
     "output_type": "execute_result"
    }
   ],
   "source": [
    "UDEA.UDEA_authors.dropna().shape,UDEA.shape"
   ]
  },
  {
   "cell_type": "markdown",
   "metadata": {},
   "source": [
    "((10963,), (15704, 181))"
   ]
  },
  {
   "cell_type": "code",
   "execution_count": 122,
   "metadata": {},
   "outputs": [
    {
     "data": {
      "text/plain": [
       "(1273, 2)"
      ]
     },
     "execution_count": 122,
     "metadata": {},
     "output_type": "execute_result"
    }
   ],
   "source": [
    "aunly.shape"
   ]
  },
  {
   "cell_type": "markdown",
   "metadata": {},
   "source": [
    "(1461, 2)"
   ]
  },
  {
   "cell_type": "code",
   "execution_count": 123,
   "metadata": {},
   "outputs": [
    {
     "name": "stdout",
     "output_type": "stream",
     "text": [
      "(1273, 2)\n"
     ]
    }
   ],
   "source": [
    "if not aunly.empty:\n",
    "    print(aunly.drop_duplicates('tmp_author').shape)"
   ]
  },
  {
   "cell_type": "code",
   "execution_count": 124,
   "metadata": {
    "hidden": true
   },
   "outputs": [],
   "source": [
    "if not aunly.empty:\n",
    "    aunly.to_json('UDEA_authors_with_WOS_info.json')"
   ]
  },
  {
   "cell_type": "code",
   "execution_count": 125,
   "metadata": {
    "hidden": true
   },
   "outputs": [],
   "source": [
    "RECOVER=False\n",
    "if RECOVER:\n",
    "    if os.path.exists('UDEA_authors_with_WOS_info.json' ):\n",
    "        aunly=pd.read_json('UDEA_authors_with_WOS_info.json')\n",
    "    else:\n",
    "        aunly=drive_files.read_drive_json('UDEA_authors_with_WOS_info.json')"
   ]
  },
  {
   "cell_type": "code",
   "execution_count": 126,
   "metadata": {},
   "outputs": [],
   "source": [
    "if UDEA['UDEA_authors'].dropna().shape[0]:\n",
    "    UDEA.to_json('UDEAtmp.json')"
   ]
  },
  {
   "cell_type": "code",
   "execution_count": 127,
   "metadata": {},
   "outputs": [],
   "source": [
    "if RECOVER:\n",
    "    UDEA=pd.read_json('UDEAtmp.json').reset_index(drop=True)"
   ]
  },
  {
   "cell_type": "code",
   "execution_count": 128,
   "metadata": {},
   "outputs": [],
   "source": [
    "UDEA.to_json('WOS_SCI_SCP_PTJ_CTR.json.gz',compression='gzip')"
   ]
  },
  {
   "cell_type": "code",
   "execution_count": 129,
   "metadata": {},
   "outputs": [
    {
     "name": "stdout",
     "output_type": "stream",
     "text": [
      "0 10311\n"
     ]
    }
   ],
   "source": [
    "if 'UDEA_autores' in UDEA.columns:\n",
    "    print(UDEA[UDEA['UDEA_autores']==''].shape[0],UDEA['UDEA_autores'].dropna().shape[0])"
   ]
  },
  {
   "cell_type": "code",
   "execution_count": 130,
   "metadata": {},
   "outputs": [
    {
     "name": "stdout",
     "output_type": "stream",
     "text": [
      "0 10901\n"
     ]
    }
   ],
   "source": [
    "if 'UDEA_authors' in UDEA.columns:\n",
    "    print(UDEA[UDEA['UDEA_authors']==''].shape[0],UDEA['UDEA_authors'].dropna().shape[0])"
   ]
  },
  {
   "cell_type": "code",
   "execution_count": null,
   "metadata": {},
   "outputs": [],
   "source": [
    "print 1"
   ]
  },
  {
   "cell_type": "code",
   "execution_count": 131,
   "metadata": {},
   "outputs": [
    {
     "name": "stdout",
     "output_type": "stream",
     "text": [
      "authors_WOS\n",
      "13645\n",
      "Leptonic charged Higgs decays in the Zee model ; authors_WOS: [] ; AU: Sierra, DA\n",
      "Restrepo, D\n",
      "\n",
      "Tipo contains UDEA\n",
      "10311\n",
      "UDEA_authors\n",
      "10901\n",
      "UDEA_authors → full_names (Extrapolado puntaje)\n",
      "10901\n",
      "UDEA_authors → \"NOMBRE COMPLETO\" (Extrapolado CENTRO)\n",
      "7303\n",
      "TI: \"The inert doublet model\" check WOS_author vs UDEA_authors\n",
      "...\n"
     ]
    }
   ],
   "source": [
    "check_quality(UDEA)"
   ]
  },
  {
   "cell_type": "markdown",
   "metadata": {},
   "source": [
    "## Add PTJ directly from `UDEA_authors` with `WOS_info` DataFrame"
   ]
  },
  {
   "cell_type": "code",
   "execution_count": 132,
   "metadata": {},
   "outputs": [],
   "source": [
    "UDEA=pd.read_json('WOS_SCI_SCP_PTJ_CTR.json.gz',compression='gzip').reset_index(drop=True)"
   ]
  },
  {
   "cell_type": "code",
   "execution_count": 133,
   "metadata": {},
   "outputs": [],
   "source": [
    "aunly=drive_files.read_drive_json('UDEA_authors_with_WOS_info.json').reset_index(drop=True)"
   ]
  },
  {
   "cell_type": "code",
   "execution_count": 134,
   "metadata": {},
   "outputs": [],
   "source": [
    "def build_institutional_authors(x,author_df,x_author_key='WOS_author',x_affiliation_key='affiliation',\n",
    "                                        author_key='WOS_author',\n",
    "                                        affiliation_key='WOS_affiliation'):\n",
    "    if type(x)!=list:\n",
    "        return None\n",
    "    ll=[]\n",
    "    for j in range(len(x)):\n",
    "        \n",
    "                                #author_WOS→affiliation always have single affiliation\n",
    "        kk=find_author_affiliation(x[j].get(x_author_key),x[j].get(x_affiliation_key)[0],\n",
    "                                        author_df=author_df,\n",
    "                                        author_key=author_key,\n",
    "                                        affiliation_key=affiliation_key,\n",
    "                                        ratio=0.9 )\n",
    "        if kk:\n",
    "            ll.append(kk)\n",
    "    if not ll:\n",
    "        ll=None\n",
    "    return ll"
   ]
  },
  {
   "cell_type": "code",
   "execution_count": 135,
   "metadata": {},
   "outputs": [],
   "source": [
    "if not UDEA['UDEA_authors'].dropna().shape[0]:\n",
    "    UDEA['UDEA_authors']=UDEA.authors_WOS.apply(lambda l: build_institutional_authors(l,aunly) )"
   ]
  },
  {
   "cell_type": "markdown",
   "metadata": {},
   "source": [
    "## Experimental: Change similirity by merge search"
   ]
  },
  {
   "cell_type": "code",
   "execution_count": 136,
   "metadata": {},
   "outputs": [],
   "source": [
    "UDEA_YES=UDEA[~UDEA['UDEA_authors'].isna()].reset_index(drop=True)"
   ]
  },
  {
   "cell_type": "code",
   "execution_count": 137,
   "metadata": {},
   "outputs": [
    {
     "data": {
      "text/plain": [
       "(10901, 181)"
      ]
     },
     "execution_count": 137,
     "metadata": {},
     "output_type": "execute_result"
    }
   ],
   "source": [
    "UDEA_YES.shape"
   ]
  },
  {
   "cell_type": "code",
   "execution_count": 138,
   "metadata": {},
   "outputs": [],
   "source": [
    "import fuzzywuzzy.process as fwp\n",
    "from fuzzywuzzy import fuzz\n",
    "UDEA_NOT=UDEA[UDEA['UDEA_authors'].isna()].reset_index(drop=True)\n",
    "df2=aunly.copy()\n",
    "df2=pd.DataFrame( list( df2['UDEA_authors'].values ) )\n",
    "df2['UDEA_authors']=aunly['UDEA_authors']\n",
    "contents=df2[['WOS_author','WOS_affiliation','UDEA_authors']].reset_index(drop=True)\n",
    "contents['WOS_author']=contents['WOS_author'].astype(str)\n",
    "contents['WOS_affiliation']=contents['WOS_affiliation'].astype(str)"
   ]
  },
  {
   "cell_type": "code",
   "execution_count": 139,
   "metadata": {},
   "outputs": [
    {
     "name": "stdout",
     "output_type": "stream",
     "text": [
      "Maria Carrillo-Bonilla, Lina (\"['Carrillo-Bonilla, Lina M.', 'Carrillo Bonilla, Lina Maria', 'CARRILLO, Lina M.']\", 86, 963)\n"
     ]
    }
   ],
   "source": [
    "print( UDEA_NOT['authors_WOS'].loc[0][0].get('WOS_author'),\n",
    "      fwp.extractOne(  UDEA_NOT['authors_WOS'].loc[0][0].get('WOS_author'),\n",
    "                     contents['WOS_author'],scorer=fuzz.partial_ratio  ) )"
   ]
  },
  {
   "cell_type": "code",
   "execution_count": 140,
   "metadata": {},
   "outputs": [],
   "source": [
    "dfnot=UDEA_NOT.copy()\n",
    "dfnot=dfnot.reset_index(drop=True)"
   ]
  },
  {
   "cell_type": "code",
   "execution_count": 141,
   "metadata": {},
   "outputs": [],
   "source": [
    "#for i in range(20):\n",
    "#l=dfnot['authors_WOS'].loc[i]\n",
    "def json_fuzzy_merge(l,contents,right_target='UDEA_authors',\n",
    "                       left_on='WOS_author',extra_left_on='affiliation',\n",
    "                       right_on='WOS_author',extra_right_on='WOS_affiliation',\n",
    "                       cuttoff=95,cuttof_extra=65,scorer=fuzz.partial_ratio):\n",
    "    newl=[]\n",
    "    for d in l:\n",
    "        au=d.get(left_on)\n",
    "        aff=d.get(extra_left_on)\n",
    "        # Do not need to be string\n",
    "        r=fwp.extractOne(au,contents[right_on],scorer=scorer)\n",
    "        if r[1]>=cuttoff:\n",
    "            raf=scorer( aff, contents.loc[r[2],extra_right_on]  )\n",
    "            if raf>=cuttof_extra:\n",
    "                newl=newl+[  contents.loc[r[2],right_target]  ]\n",
    "    if newl:\n",
    "        return newl\n",
    "    else:\n",
    "        return None"
   ]
  },
  {
   "cell_type": "code",
   "execution_count": 142,
   "metadata": {},
   "outputs": [
    {
     "name": "stderr",
     "output_type": "stream",
     "text": [
      "/usr/local/lib/python3.5/dist-packages/tqdm/autonotebook/__init__.py:14: TqdmExperimentalWarning: Using `tqdm.autonotebook.tqdm` in notebook mode. Use `tqdm.tqdm` instead to force console mode (e.g. in jupyter console)\n",
      "  \" (e.g. in jupyter console)\", TqdmExperimentalWarning)\n"
     ]
    }
   ],
   "source": [
    "import pandas as pd\n",
    "import swifter"
   ]
  },
  {
   "cell_type": "code",
   "execution_count": null,
   "metadata": {},
   "outputs": [],
   "source": [
    "%time kk=dfnot['authors_WOS'].swifter.apply(lambda l: json_fuzzy_merge(l,contents,cuttof_extra=65))"
   ]
  },
  {
   "cell_type": "code",
   "execution_count": 143,
   "metadata": {},
   "outputs": [
    {
     "name": "stdout",
     "output_type": "stream",
     "text": [
      "CPU times: user 6min 10s, sys: 40 ms, total: 6min 10s\n",
      "Wall time: 6min 10s\n"
     ]
    }
   ],
   "source": [
    "%time kk=dfnot['authors_WOS'].apply(lambda l: json_fuzzy_merge(l,contents,cuttof_extra=65))"
   ]
  },
  {
   "cell_type": "code",
   "execution_count": 144,
   "metadata": {},
   "outputs": [
    {
     "data": {
      "text/plain": [
       "(780,)"
      ]
     },
     "execution_count": 144,
     "metadata": {},
     "output_type": "execute_result"
    }
   ],
   "source": [
    "kk.dropna().shape"
   ]
  },
  {
   "cell_type": "code",
   "execution_count": 145,
   "metadata": {},
   "outputs": [],
   "source": [
    "dfnot['UDEA_authors']=kk"
   ]
  },
  {
   "cell_type": "code",
   "execution_count": 146,
   "metadata": {},
   "outputs": [],
   "source": [
    "#dfnot[['UDEA_authors','authors_WOS']].dropna(subset=['UDEA_authors'])"
   ]
  },
  {
   "cell_type": "code",
   "execution_count": 147,
   "metadata": {},
   "outputs": [],
   "source": [
    "UDEA_NOT=dfnot.reset_index(drop=True)"
   ]
  },
  {
   "cell_type": "code",
   "execution_count": 148,
   "metadata": {},
   "outputs": [],
   "source": [
    "UDEA=UDEA_YES.append(UDEA_NOT).reset_index(drop=True)"
   ]
  },
  {
   "cell_type": "code",
   "execution_count": 149,
   "metadata": {},
   "outputs": [
    {
     "data": {
      "text/plain": [
       "(11681,)"
      ]
     },
     "execution_count": 149,
     "metadata": {},
     "output_type": "execute_result"
    }
   ],
   "source": [
    "UDEA['UDEA_authors'].dropna().shape"
   ]
  },
  {
   "cell_type": "markdown",
   "metadata": {},
   "source": [
    "Quality checks"
   ]
  },
  {
   "cell_type": "markdown",
   "metadata": {},
   "source": [
    "UDEA_YES=UDEA[UDEA.UDEA_nombre!=''].reset_index(drop=True)\n",
    "UDEA_NOT=UDEA[UDEA.UDEA_nombre==''].reset_index(drop=True)\n",
    "\n",
    "UDEA_YES['Tipo']=UDEA_YES.Tipo.str.replace('([SW][CO][SIP])$',r'\\1_UDEA')\n",
    "\n",
    "UDEA=UDEA_YES.append(UDEA_NOT)\n",
    "UDEA=UDEA.reset_index(drop=True)\n",
    "\n",
    "UDEA[UDEA.Tipo.str.contains('UDEA')].shape"
   ]
  },
  {
   "cell_type": "code",
   "execution_count": 151,
   "metadata": {},
   "outputs": [],
   "source": [
    "UDEA.to_json('WOS_SCI_SCP_PTJ_CTR.json.gz',compression='gzip')"
   ]
  },
  {
   "cell_type": "code",
   "execution_count": 150,
   "metadata": {},
   "outputs": [
    {
     "name": "stdout",
     "output_type": "stream",
     "text": [
      "authors_WOS\n",
      "13645\n",
      "Leptonic charged Higgs decays in the Zee model ; authors_WOS: [] ; AU: Sierra, DA\n",
      "Restrepo, D\n",
      "\n",
      "Tipo contains UDEA\n",
      "10311\n",
      "UDEA_authors\n",
      "11681\n",
      "UDEA_authors → full_names (Extrapolado puntaje)\n",
      "11681\n",
      "UDEA_authors → \"NOMBRE COMPLETO\" (Extrapolado CENTRO)\n",
      "7717\n",
      "TI: \"The inert doublet model\" check WOS_author vs UDEA_authors\n",
      "...\n"
     ]
    }
   ],
   "source": [
    "check_quality(UDEA)"
   ]
  },
  {
   "cell_type": "code",
   "execution_count": null,
   "metadata": {},
   "outputs": [],
   "source": [
    "print 1"
   ]
  },
  {
   "cell_type": "markdown",
   "metadata": {},
   "source": [
    "## Try other approachs"
   ]
  },
  {
   "cell_type": "code",
   "execution_count": 152,
   "metadata": {},
   "outputs": [],
   "source": [
    "wp.merge_with_close_matches??"
   ]
  },
  {
   "cell_type": "code",
   "execution_count": 153,
   "metadata": {},
   "outputs": [
    {
     "name": "stdout",
     "output_type": "stream",
     "text": [
      "Overwriting test.cfg\n"
     ]
    }
   ],
   "source": [
    "%%writefile test.cfg\n",
    "[FILES]\n",
    "Sample_WOS.xlsx = 1--LJZ4mYyQcaJ93xBdbnYj-ZzdjO2Wq2\n",
    "Sample_SCI.xlsx = 1-3a-hguQTk5ko8JRLCx--EKaslxGVscf\n",
    "Sample_SCP.xlsx = 1-IAWlMdp2U-9L2jvZUio04ub1Ym3PX-H"
   ]
  },
  {
   "cell_type": "code",
   "execution_count": 154,
   "metadata": {},
   "outputs": [],
   "source": [
    "cib=wp.wosplus('test.cfg')\n",
    "#cib.Debug=True\n",
    "cib.load_biblio('Sample_WOS.xlsx')\n",
    "cib.load_biblio('Sample_SCI.xlsx',prefix='SCI')\n",
    "cib.load_biblio('Sample_SCP.xlsx',prefix='SCP')"
   ]
  },
  {
   "cell_type": "code",
   "execution_count": 155,
   "metadata": {},
   "outputs": [],
   "source": [
    "def get_close_matches_Levenshtein(\n",
    "        word,\n",
    "        possibilities,\n",
    "        n=3,\n",
    "        cutoff=0.6,\n",
    "        full=False):\n",
    "    '''Replaces difflib.get_close_matches with faster algortihm based on\n",
    "       Levenshtein.ratio.\n",
    "       HINT: Similarity increase significatively after lower() and unidecode()\n",
    "\n",
    "       Refs: https://en.wikipedia.org/wiki/Levenshtein_distance\n",
    "    '''\n",
    "    import pandas as pd\n",
    "    import Levenshtein\n",
    "    if isinstance(possibilities, str):\n",
    "        possibilities = [possibilities]\n",
    "    rs = pd.DataFrame()\n",
    "    MATCH = False\n",
    "    for p in possibilities:\n",
    "        similarity = Levenshtein.ratio(word, p)\n",
    "        # print(word,'::',p,similarity)\n",
    "        # sys.exit()\n",
    "        if similarity >= cutoff:\n",
    "            MATCH = True\n",
    "            rs = rs.append({'similarity': similarity,\n",
    "                            'match': p}, ignore_index=True)\n",
    "\n",
    "    if MATCH:\n",
    "        rs = rs.sort_values(\n",
    "            'similarity', ascending=False).reset_index(drop=True)\n",
    "        if full:\n",
    "            return list(rs['match'][:n].values), list(\n",
    "                rs['similarity'][:n].values)\n",
    "        else:\n",
    "            return list(rs['match'][:n].values)\n",
    "    else:\n",
    "        if full:\n",
    "            return ([], 0)\n",
    "        else:\n",
    "            return []"
   ]
  },
  {
   "cell_type": "code",
   "execution_count": 159,
   "metadata": {},
   "outputs": [],
   "source": [
    "scorer=fuzz.ratio"
   ]
  },
  {
   "cell_type": "code",
   "execution_count": 160,
   "metadata": {},
   "outputs": [],
   "source": [
    "def get_close_matches_Levenshtein_new(\n",
    "        word,\n",
    "        possibilities,\n",
    "        n=1,\n",
    "        cutoff=0.6,\n",
    "        full=False,\n",
    "        scorer=fuzz.ratio): #\n",
    "    r=fwp.extract(word,possibilities,scorer=scorer,limit=n)\n",
    "    \n",
    "    if r[0][1]/100.>cutoff:\n",
    "        if full:\n",
    "            return [t[0] for t in r],[t[1]/100. for t in r]\n",
    "        else:\n",
    "            return [t[0] for t in r]\n",
    "    else:\n",
    "        if full:\n",
    "            return ([], 0)\n",
    "        else:\n",
    "            return []        "
   ]
  },
  {
   "cell_type": "code",
   "execution_count": 163,
   "metadata": {},
   "outputs": [],
   "source": [
    "def merge_with_close_matches_old(\n",
    "        left,\n",
    "        right,\n",
    "        left_on='ST',\n",
    "        right_on='UDEA_simple_título',\n",
    "        left_extra_on='SO',\n",
    "        right_extra_on='UDEA_nombre revista o premio',\n",
    "        how='inner',\n",
    "        n=1,\n",
    "        cutoff=0.6,\n",
    "        full=True,\n",
    "        cutoff_extra=0.6):\n",
    "    '''For each entry of the column: left_on of DataFrame left (cannot have empty fields),\n",
    "       try to find the close match inside each row of right DataFrame, by comparing with\n",
    "       the right_on entry of the row. When a row match is found, the full right row is appended\n",
    "       to the matched row in the left DataFrame.\n",
    "       If the similarity between the entries at left_on and right_on is less than 0.8,\n",
    "       an additional check is performed between the entries left_extra_on and right_extra_on\n",
    "       of the matched row.\n",
    "\n",
    "       how implemented: inner and left (Default: inner)\n",
    "    '''\n",
    "    import numpy as np\n",
    "    from unidecode import unidecode\n",
    "    import pandas as pd\n",
    "    # import sys #import globally\n",
    "    # print(left[left_on][0])\n",
    "    # sys.exit()\n",
    "    words = left[left_on].str.lower().map(unidecode)\n",
    "    possibilities = right[right_on].str.lower().map(unidecode)\n",
    "\n",
    "    joined = pd.DataFrame()\n",
    "    mi = np.array([])\n",
    "    for i in left.index:\n",
    "        if i % 100 == 0:\n",
    "            print('.', end=\"\")\n",
    "        joined_series = left.loc[i]\n",
    "        #joined_series=joined_series.append(pd.Series( {similarity_column:0} ))\n",
    "        title, similarity = get_close_matches_Levenshtein(\n",
    "            words[i], possibilities, n=n, cutoff=cutoff, full=full)\n",
    "        # print(i,words[i],title,similarity) #cutuff 0.6 0.7 0.8 0.85 0.91 0.95\n",
    "        # sys.exit()\n",
    "        if title:\n",
    "            mtch = right[possibilities == title[0]]\n",
    "            # >=cutoff, e.g 0.65 0.95 0.81 0.86 0.9 0.96\n",
    "            chk_cutoff = similarity[0]\n",
    "            crosscheck = cutoff + 0.2  # 0.8 # e.g. 0.8 0.9 0.9 0.9 0.9 0.9\n",
    "            if crosscheck >= 1:\n",
    "                # force check if match worst than this (by experience)\n",
    "                crosscheck = 0.95\n",
    "            if chk_cutoff < crosscheck:  # e.g 0.65<0.8 0.95~<0.9 0.81~<0.0 0.86<0.9 0.91<~0.9 0.96~<0.9\n",
    "                if get_close_matches_Levenshtein(unidecode(left[left_extra_on][i].lower()), [unidecode(\n",
    "                        mtch[right_extra_on][mtch.index[0]].lower())], cutoff=cutoff_extra):  # cutoff=0.6\n",
    "                    chk_cutoff = crosscheck + 0.1\n",
    "\n",
    "            if chk_cutoff >= crosscheck:\n",
    "                joined_series = joined_series.append(mtch.loc[mtch.index[0]])\n",
    "                if how == 'outer':\n",
    "                    mi = np.concatenate((mi, mtch.index.values))\n",
    "                # joined_series[similarity_column]=similarity[0]\n",
    "\n",
    "            #return joined_series\n",
    "            if how == 'inner':\n",
    "                joined = joined.append(joined_series, ignore_index=True)\n",
    "\n",
    "        if (how == 'left' or 'outer'):\n",
    "            joined = joined.append(joined_series, ignore_index=True)\n",
    "    if how == 'outer':\n",
    "        joined = joined.append(right.drop(\n",
    "            right.index[list(mi.astype(int))]).reset_index(drop=True))\n",
    "    return joined\n",
    "\n",
    "def merge_with_close_matches_new(\n",
    "        left,\n",
    "        right,\n",
    "        left_on='ST',\n",
    "        right_on='UDEA_simple_título',\n",
    "        left_extra_on='SO',\n",
    "        right_extra_on='UDEA_nombre revista o premio',\n",
    "        how='inner',\n",
    "        n=1,\n",
    "        cutoff=0.6,\n",
    "        full=True,\n",
    "        cutoff_extra=0.7):\n",
    "    '''For each entry of the column: left_on of DataFrame left (cannot have empty fields),\n",
    "       try to find the close match inside each row of right DataFrame, by comparing with\n",
    "       the right_on entry of the row. When a row match is found, the full right row is appended\n",
    "       to the matched row in the left DataFrame.\n",
    "       If the similarity between the entries at left_on and right_on is less than 0.8,\n",
    "       an additional check is performed between the entries left_extra_on and right_extra_on\n",
    "       of the matched row.\n",
    "\n",
    "       how implemented: inner and left (Default: inner)\n",
    "    '''\n",
    "    import numpy as np\n",
    "    from unidecode import unidecode\n",
    "    import pandas as pd\n",
    "    # import sys #import globally\n",
    "    # print(left[left_on][0])\n",
    "    # sys.exit()\n",
    "    words = left[left_on].str.lower().map(unidecode)\n",
    "    possibilities = right[right_on].str.lower().map(unidecode)\n",
    "\n",
    "    joined = pd.DataFrame()\n",
    "    mi = np.array([])\n",
    "    for i in left.index:\n",
    "        if i % 100 == 0:\n",
    "            print('.', end=\"\")\n",
    "        joined_series = left.loc[i]\n",
    "        #joined_series=joined_series.append(pd.Series( {similarity_column:0} ))\n",
    "        title, similarity = get_close_matches_Levenshtein_new(\n",
    "            words[i], possibilities, n=n, cutoff=cutoff, full=full)\n",
    "        # print(i,words[i],title,similarity) #cutuff 0.6 0.7 0.8 0.85 0.91 0.95\n",
    "        # sys.exit()\n",
    "        if title:\n",
    "            mtch = right[possibilities == title[0]]\n",
    "            # >=cutoff, e.g 0.65 0.95 0.81 0.86 0.9 0.96\n",
    "            chk_cutoff = similarity[0]\n",
    "            crosscheck = cutoff + 0.2  # 0.8 # e.g. 0.8 0.9 0.9 0.9 0.9 0.9\n",
    "            if crosscheck >= 1:\n",
    "                # force check if match worst than this (by experience)\n",
    "                crosscheck = 0.95\n",
    "            if chk_cutoff < crosscheck:  # e.g 0.65<0.8 0.95~<0.9 0.81~<0.0 0.86<0.9 0.91<~0.9 0.96~<0.9\n",
    "                if get_close_matches_Levenshtein_new(unidecode(left[left_extra_on][i].lower()), [unidecode(\n",
    "                        mtch[right_extra_on][mtch.index[0]].lower())], cutoff=cutoff_extra):  # cutoff=0.6\n",
    "                    chk_cutoff = crosscheck + 0.1\n",
    "\n",
    "            if chk_cutoff >= crosscheck:\n",
    "                joined_series = joined_series.append(mtch.loc[mtch.index[0]])\n",
    "                if how == 'outer':\n",
    "                    mi = np.concatenate((mi, mtch.index.values))\n",
    "                # joined_series[similarity_column]=similarity[0]\n",
    "\n",
    "            #return joined_series\n",
    "            if how == 'inner':\n",
    "                joined = joined.append(joined_series, ignore_index=True)\n",
    "\n",
    "        if (how == 'left' or 'outer'):\n",
    "            joined = joined.append(joined_series, ignore_index=True)\n",
    "    if how == 'outer':\n",
    "        joined = joined.append(right.drop(\n",
    "            right.index[list(mi.astype(int))]).reset_index(drop=True))\n",
    "    return joined"
   ]
  },
  {
   "cell_type": "code",
   "execution_count": 164,
   "metadata": {},
   "outputs": [],
   "source": [
    "cib.biblio['WOS']=UDEA.sample(500).reset_index(drop=True).copy().fillna('')\n",
    "cib.biblio['SCI']=SIU[0:100].copy().fillna('')"
   ]
  },
  {
   "cell_type": "code",
   "execution_count": 165,
   "metadata": {},
   "outputs": [],
   "source": [
    "tmp=drive_files.load_biblio('produccion_fecha_vig_2003_2018.xlsx',prefix='UDEA')"
   ]
  },
  {
   "cell_type": "code",
   "execution_count": 166,
   "metadata": {},
   "outputs": [
    {
     "data": {
      "text/html": [
       "<div>\n",
       "<style scoped>\n",
       "    .dataframe tbody tr th:only-of-type {\n",
       "        vertical-align: middle;\n",
       "    }\n",
       "\n",
       "    .dataframe tbody tr th {\n",
       "        vertical-align: top;\n",
       "    }\n",
       "\n",
       "    .dataframe thead th {\n",
       "        text-align: right;\n",
       "    }\n",
       "</style>\n",
       "<table border=\"1\" class=\"dataframe\">\n",
       "  <thead>\n",
       "    <tr style=\"text-align: right;\">\n",
       "      <th></th>\n",
       "      <th>UDEA_cedula</th>\n",
       "      <th>UDEA_nombre</th>\n",
       "      <th>UDEA_tipo mat</th>\n",
       "      <th>UDEA_descrip tipo mat</th>\n",
       "      <th>UDEA_tipo concepto</th>\n",
       "      <th>UDEA_tipo mov</th>\n",
       "      <th>UDEA_puntos</th>\n",
       "      <th>UDEA_nro autores</th>\n",
       "      <th>UDEA_año realiz</th>\n",
       "      <th>UDEA_fecha vig</th>\n",
       "      <th>UDEA_fecha aplica</th>\n",
       "      <th>UDEA_cod prod</th>\n",
       "      <th>UDEA_título</th>\n",
       "      <th>UDEA_cod rev-prem</th>\n",
       "      <th>UDEA_nombre revista o premio</th>\n",
       "      <th>UDEA_issn rev</th>\n",
       "      <th>UDEA_nro acta</th>\n",
       "      <th>UDEA_pais prod</th>\n",
       "      <th>UDEA_idioma</th>\n",
       "      <th>Tipo</th>\n",
       "    </tr>\n",
       "  </thead>\n",
       "  <tbody>\n",
       "    <tr>\n",
       "      <th>0</th>\n",
       "      <td>10002787</td>\n",
       "      <td>URREA DUQUE JUAN PABLO</td>\n",
       "      <td>ARTREVC</td>\n",
       "      <td>Articulo en revista Tipo C</td>\n",
       "      <td>SA</td>\n",
       "      <td>NO</td>\n",
       "      <td>3.0</td>\n",
       "      <td>2</td>\n",
       "      <td>2008</td>\n",
       "      <td>2009-02-01</td>\n",
       "      <td>2009-03-01</td>\n",
       "      <td>32497</td>\n",
       "      <td>\"TECNICA NO PARAMETRICA PARA LA DETECCION DE EVENTOS DE ATENUACION EN FIBRA OPTICA\" (NON-PARAMETRIC TECHNIQUEFOR DETECTING ATTENUATION EVENTS IN A FEBER OPTIC CABLE)</td>\n",
       "      <td>1852.0</td>\n",
       "      <td>SCIENTIA ET TECHNICA</td>\n",
       "      <td>0122-1701</td>\n",
       "      <td>261</td>\n",
       "      <td>46</td>\n",
       "      <td>ESPA?</td>\n",
       "      <td>UDEA</td>\n",
       "    </tr>\n",
       "    <tr>\n",
       "      <th>1</th>\n",
       "      <td>10002787</td>\n",
       "      <td>URREA DUQUE JUAN PABLO</td>\n",
       "      <td>ARTREVC</td>\n",
       "      <td>Articulo en revista Tipo C</td>\n",
       "      <td>SA</td>\n",
       "      <td>NO</td>\n",
       "      <td>3.0</td>\n",
       "      <td>2</td>\n",
       "      <td>2004</td>\n",
       "      <td>2009-02-01</td>\n",
       "      <td>2009-03-01</td>\n",
       "      <td>32496</td>\n",
       "      <td>\"IMPLEMENTACION DE LA TRANSFORMADA DE HOUGH PARA LA DETECCION DE LINEAS PARA UN SISTEMA DE VISION DE BAJO NIVEL\"</td>\n",
       "      <td>1852.0</td>\n",
       "      <td>SCIENTIA ET TECHNICA</td>\n",
       "      <td>0122-1701</td>\n",
       "      <td>261</td>\n",
       "      <td>46</td>\n",
       "      <td>ESPA?</td>\n",
       "      <td>UDEA</td>\n",
       "    </tr>\n",
       "    <tr>\n",
       "      <th>2</th>\n",
       "      <td>10002787</td>\n",
       "      <td>URREA DUQUE JUAN PABLO</td>\n",
       "      <td>DIRTGRAMAE</td>\n",
       "      <td>Direccion de trabajo de grado de maestria</td>\n",
       "      <td>BO</td>\n",
       "      <td>NO</td>\n",
       "      <td>36.0</td>\n",
       "      <td>1</td>\n",
       "      <td>2018</td>\n",
       "      <td>2018-09-01</td>\n",
       "      <td>2018-09-01</td>\n",
       "      <td>61060</td>\n",
       "      <td>ANALISIS DE PROTOCOLOS DE ENRUTAMIENTO PARA LA TRANSMISION DE VIDEO SOBRE UNA RED INALAMBRICA MULTISALTO DEFINIDA POR SOFTWARE</td>\n",
       "      <td>0.0</td>\n",
       "      <td></td>\n",
       "      <td></td>\n",
       "      <td>461</td>\n",
       "      <td>46</td>\n",
       "      <td>ESPA?</td>\n",
       "      <td>UDEA</td>\n",
       "    </tr>\n",
       "    <tr>\n",
       "      <th>3</th>\n",
       "      <td>10002787</td>\n",
       "      <td>URREA DUQUE JUAN PABLO</td>\n",
       "      <td>ARTREVA2</td>\n",
       "      <td>Articulo en revista Tipo A2</td>\n",
       "      <td>SA</td>\n",
       "      <td>NO</td>\n",
       "      <td>12.0</td>\n",
       "      <td>2</td>\n",
       "      <td>2015</td>\n",
       "      <td>2017-03-01</td>\n",
       "      <td>2017-03-01</td>\n",
       "      <td>53760</td>\n",
       "      <td>THROUGHPUT ANALYSIS OF P2P VIDEO STREAMING ON SINGLE-HOP WIRELESS NETWORKS.</td>\n",
       "      <td>3377.0</td>\n",
       "      <td>IEEE AMERICA LATINA</td>\n",
       "      <td>1548-0992</td>\n",
       "      <td>417</td>\n",
       "      <td>74</td>\n",
       "      <td>ESPA?</td>\n",
       "      <td>UDEA</td>\n",
       "    </tr>\n",
       "    <tr>\n",
       "      <th>4</th>\n",
       "      <td>10002787</td>\n",
       "      <td>URREA DUQUE JUAN PABLO</td>\n",
       "      <td>PONENINTER</td>\n",
       "      <td>Ponencia en extenso en evento internacional</td>\n",
       "      <td>BO</td>\n",
       "      <td>NO</td>\n",
       "      <td>84.0</td>\n",
       "      <td>2</td>\n",
       "      <td>2015</td>\n",
       "      <td>2016-03-01</td>\n",
       "      <td>2016-03-01</td>\n",
       "      <td>53303</td>\n",
       "      <td>STATISTICAL PERFORMANCE EVALUATION OF P2P VIDEO STREAMING ON MULTI-HOP WIRELESS NETWORKS.</td>\n",
       "      <td>0.0</td>\n",
       "      <td></td>\n",
       "      <td></td>\n",
       "      <td>413</td>\n",
       "      <td>46</td>\n",
       "      <td>INGLE</td>\n",
       "      <td>UDEA</td>\n",
       "    </tr>\n",
       "    <tr>\n",
       "      <th>5</th>\n",
       "      <td>10002787</td>\n",
       "      <td>URREA DUQUE JUAN PABLO</td>\n",
       "      <td>PONENINTER</td>\n",
       "      <td>Ponencia en extenso en evento internacional</td>\n",
       "      <td>BO</td>\n",
       "      <td>NO</td>\n",
       "      <td>84.0</td>\n",
       "      <td>2</td>\n",
       "      <td>2018</td>\n",
       "      <td>2018-09-01</td>\n",
       "      <td>2018-09-01</td>\n",
       "      <td>61043</td>\n",
       "      <td>THROUGHPUT AND DELAY EVALUATION FRAMEWORK INTEGRATING SDN AND IEEE 802.11S WMN</td>\n",
       "      <td>0.0</td>\n",
       "      <td></td>\n",
       "      <td></td>\n",
       "      <td>461</td>\n",
       "      <td>105</td>\n",
       "      <td>INGLE</td>\n",
       "      <td>UDEA</td>\n",
       "    </tr>\n",
       "    <tr>\n",
       "      <th>6</th>\n",
       "      <td>10002787</td>\n",
       "      <td>URREA DUQUE JUAN PABLO</td>\n",
       "      <td>PONENACION</td>\n",
       "      <td>Ponencia en extenso en evento nacional</td>\n",
       "      <td>BO</td>\n",
       "      <td>NO</td>\n",
       "      <td>48.0</td>\n",
       "      <td>2</td>\n",
       "      <td>2012</td>\n",
       "      <td>2013-03-01</td>\n",
       "      <td>2013-09-01</td>\n",
       "      <td>43904</td>\n",
       "      <td>\"QUALITY ASSESSMENT FOR VIDO STREAMING P2P APPLICATION OVER WIRELESS MESH NETWORK\"</td>\n",
       "      <td>0.0</td>\n",
       "      <td></td>\n",
       "      <td></td>\n",
       "      <td>349</td>\n",
       "      <td>46</td>\n",
       "      <td>INGLE</td>\n",
       "      <td>UDEA</td>\n",
       "    </tr>\n",
       "    <tr>\n",
       "      <th>7</th>\n",
       "      <td>10002787</td>\n",
       "      <td>URREA DUQUE JUAN PABLO</td>\n",
       "      <td>PONENINTER</td>\n",
       "      <td>Ponencia en extenso en evento internacional</td>\n",
       "      <td>BO</td>\n",
       "      <td>NO</td>\n",
       "      <td>84.0</td>\n",
       "      <td>2</td>\n",
       "      <td>2015</td>\n",
       "      <td>2016-03-01</td>\n",
       "      <td>2016-03-01</td>\n",
       "      <td>53304</td>\n",
       "      <td>THROUGHPUT ANALYSIS OF P2P VIDEO STREAMING ON SINGLE-HOP WIRELESS NETWORKS.</td>\n",
       "      <td>0.0</td>\n",
       "      <td></td>\n",
       "      <td></td>\n",
       "      <td>413</td>\n",
       "      <td>46</td>\n",
       "      <td>INGLE</td>\n",
       "      <td>UDEA</td>\n",
       "    </tr>\n",
       "    <tr>\n",
       "      <th>8</th>\n",
       "      <td>10003895</td>\n",
       "      <td>GONZALEZ MARULANDA EDWIN ROLANDO</td>\n",
       "      <td>RESULATINO</td>\n",
       "      <td>Resumen de ponencia en evento latinoamerican o de 1 continet</td>\n",
       "      <td>BO</td>\n",
       "      <td>NO</td>\n",
       "      <td>20.0</td>\n",
       "      <td>3</td>\n",
       "      <td>2007</td>\n",
       "      <td>2007-09-01</td>\n",
       "      <td>2007-09-01</td>\n",
       "      <td>28941</td>\n",
       "      <td>\"FACTORES ASOCIADOS AL RETRASO DEL CRECIMIENTO EN NINOS MENORES DE 11 ANOS. ANTIOQUIA, COLOMBIA\"</td>\n",
       "      <td>0.0</td>\n",
       "      <td></td>\n",
       "      <td></td>\n",
       "      <td>226</td>\n",
       "      <td>26</td>\n",
       "      <td>ESPA?</td>\n",
       "      <td>UDEA</td>\n",
       "    </tr>\n",
       "    <tr>\n",
       "      <th>9</th>\n",
       "      <td>10003895</td>\n",
       "      <td>GONZALEZ MARULANDA EDWIN ROLANDO</td>\n",
       "      <td>PONINTINT</td>\n",
       "      <td>Ponencia de extension intermedia en evento internacional ()</td>\n",
       "      <td>BO</td>\n",
       "      <td>NO</td>\n",
       "      <td>62.0</td>\n",
       "      <td>1</td>\n",
       "      <td>2010</td>\n",
       "      <td>2012-03-01</td>\n",
       "      <td>2012-03-01</td>\n",
       "      <td>39481</td>\n",
       "      <td>\"HEALTH SERVICES PRIVATIZATION AND PREVENTIVE HEALTH PROGRAMMES\"</td>\n",
       "      <td>0.0</td>\n",
       "      <td></td>\n",
       "      <td></td>\n",
       "      <td>320</td>\n",
       "      <td>217</td>\n",
       "      <td>INGLE</td>\n",
       "      <td>UDEA</td>\n",
       "    </tr>\n",
       "    <tr>\n",
       "      <th>10</th>\n",
       "      <td>10003895</td>\n",
       "      <td>GONZALEZ MARULANDA EDWIN ROLANDO</td>\n",
       "      <td>OTROMATER</td>\n",
       "      <td>Material no clasificable en este decreto</td>\n",
       "      <td>SA</td>\n",
       "      <td>NO</td>\n",
       "      <td>0.0</td>\n",
       "      <td>1</td>\n",
       "      <td>2009</td>\n",
       "      <td>2010-02-01</td>\n",
       "      <td>2011-08-01</td>\n",
       "      <td>38339</td>\n",
       "      <td>\"LA NECESIDAD DE PASAR DE UN ESTADO REGULADOR A UN ESTADO RECTOR DEL SISTEMA: EL CSO DE LOS PROGRAMAS PREVENTIVOS\"</td>\n",
       "      <td>0.0</td>\n",
       "      <td></td>\n",
       "      <td></td>\n",
       "      <td>312</td>\n",
       "      <td>55</td>\n",
       "      <td>ESPA?</td>\n",
       "      <td>UDEA</td>\n",
       "    </tr>\n",
       "    <tr>\n",
       "      <th>11</th>\n",
       "      <td>10003895</td>\n",
       "      <td>GONZALEZ MARULANDA EDWIN ROLANDO</td>\n",
       "      <td>ARTREVB</td>\n",
       "      <td>Articulo en revista Tipo B</td>\n",
       "      <td>SA</td>\n",
       "      <td>NO</td>\n",
       "      <td>8.0</td>\n",
       "      <td>1</td>\n",
       "      <td>2007</td>\n",
       "      <td>2007-09-01</td>\n",
       "      <td>2007-10-01</td>\n",
       "      <td>29122</td>\n",
       "      <td>\"LA SALUD PUBLICA COMO CAMPO TRANDISCIPLINAR\" (THE PUBLIC HEALTH AS A TRANSDISCIPLINARY FIELD)</td>\n",
       "      <td>1705.0</td>\n",
       "      <td>FACULTAD NACIONAL DE SALUD PUBLICA</td>\n",
       "      <td>0120-386X</td>\n",
       "      <td>228</td>\n",
       "      <td>46</td>\n",
       "      <td>ESPA?</td>\n",
       "      <td>UDEA</td>\n",
       "    </tr>\n",
       "    <tr>\n",
       "      <th>12</th>\n",
       "      <td>10003895</td>\n",
       "      <td>GONZALEZ MARULANDA EDWIN ROLANDO</td>\n",
       "      <td>RESUINTERN</td>\n",
       "      <td>Resumen de ponencia en evento internacional ()</td>\n",
       "      <td>BO</td>\n",
       "      <td>NO</td>\n",
       "      <td>40.0</td>\n",
       "      <td>1</td>\n",
       "      <td>2009</td>\n",
       "      <td>2010-09-01</td>\n",
       "      <td>2010-09-01</td>\n",
       "      <td>34983</td>\n",
       "      <td>\"UN ANALISIS CRITICO DE LOS MECANISMOS DE MERCADO EN LA SALUD : EL CASO DE LOS PROGRAMAS PREVENTIVOS EN COLOMBIA\"</td>\n",
       "      <td>0.0</td>\n",
       "      <td></td>\n",
       "      <td></td>\n",
       "      <td>287</td>\n",
       "      <td>46</td>\n",
       "      <td>ESPA?</td>\n",
       "      <td>UDEA</td>\n",
       "    </tr>\n",
       "    <tr>\n",
       "      <th>13</th>\n",
       "      <td>10003895</td>\n",
       "      <td>GONZALEZ MARULANDA EDWIN ROLANDO</td>\n",
       "      <td>ARTNICUNAL</td>\n",
       "      <td>Articulos nacionales publicados ante del 28/03/2003</td>\n",
       "      <td>SA</td>\n",
       "      <td>NO</td>\n",
       "      <td>1.7</td>\n",
       "      <td>5</td>\n",
       "      <td>1998</td>\n",
       "      <td>2005-02-10</td>\n",
       "      <td>2005-05-01</td>\n",
       "      <td>24363</td>\n",
       "      <td>\"CONDICIONES PSICOSOCIALES Y ECONOMICAS LABORALES DE LOS MEDICOS  GENERALES EN MEDELLIN, MARZO DE 1998\"</td>\n",
       "      <td>95.0</td>\n",
       "      <td>FACULTAD NACIONAL DE SALUD PUBLICA</td>\n",
       "      <td>0120-386X</td>\n",
       "      <td>149</td>\n",
       "      <td>46</td>\n",
       "      <td>ESPA?</td>\n",
       "      <td>UDEA</td>\n",
       "    </tr>\n",
       "    <tr>\n",
       "      <th>14</th>\n",
       "      <td>10003895</td>\n",
       "      <td>GONZALEZ MARULANDA EDWIN ROLANDO</td>\n",
       "      <td>REVITEMC</td>\n",
       "      <td>Revision de tema en revista Tipo C</td>\n",
       "      <td>SA</td>\n",
       "      <td>NO</td>\n",
       "      <td>0.9</td>\n",
       "      <td>2</td>\n",
       "      <td>2004</td>\n",
       "      <td>2005-02-10</td>\n",
       "      <td>2005-03-01</td>\n",
       "      <td>23565</td>\n",
       "      <td>\"EVALUACION DE LA PREVENCION DE LA ENFERMEDAD Y LA PROMOCION DE LA SALUD: FACTORES QUE DEBEN CONSIDERARSE\" (EVALUATING DISEASE PREVENTION AND HEALTH PROMOTION: ASPECTS TO BE CONSIDERED)</td>\n",
       "      <td>0.0</td>\n",
       "      <td></td>\n",
       "      <td></td>\n",
       "      <td>133</td>\n",
       "      <td>46</td>\n",
       "      <td>ESPA?</td>\n",
       "      <td>UDEA</td>\n",
       "    </tr>\n",
       "    <tr>\n",
       "      <th>15</th>\n",
       "      <td>10003895</td>\n",
       "      <td>GONZALEZ MARULANDA EDWIN ROLANDO</td>\n",
       "      <td>IMPREUNIVE</td>\n",
       "      <td>Impreso universitario</td>\n",
       "      <td>BO</td>\n",
       "      <td>NO</td>\n",
       "      <td>16.0</td>\n",
       "      <td>6</td>\n",
       "      <td>2005</td>\n",
       "      <td>2006-09-01</td>\n",
       "      <td>2006-09-01</td>\n",
       "      <td>26539</td>\n",
       "      <td>\"GESTION DE POLITICAS PUBLICAS Y SALUD\"</td>\n",
       "      <td>0.0</td>\n",
       "      <td></td>\n",
       "      <td></td>\n",
       "      <td>189</td>\n",
       "      <td>46</td>\n",
       "      <td>ESPA?</td>\n",
       "      <td>UDEA</td>\n",
       "    </tr>\n",
       "    <tr>\n",
       "      <th>16</th>\n",
       "      <td>10003895</td>\n",
       "      <td>GONZALEZ MARULANDA EDWIN ROLANDO</td>\n",
       "      <td>ARTREVA1</td>\n",
       "      <td>Articulo en revista Tipo A1</td>\n",
       "      <td>SA</td>\n",
       "      <td>NO</td>\n",
       "      <td>7.5</td>\n",
       "      <td>4</td>\n",
       "      <td>2011</td>\n",
       "      <td>2011-10-01</td>\n",
       "      <td>2011-11-01</td>\n",
       "      <td>39482</td>\n",
       "      <td>\"FACTORS ASSOCIATED WITH STUNTED GROWTH IN CHILDREN BELOW 11 YEARS OF AGE IN ANTIOQUIA, COLOMBIA, 2004\" (FACTORES ASOCIADOS CON EL RETRASO DEL CRECIMIENTO EN MENORES DE 11 ANOS EN ANTIOQUIA, COLOM...</td>\n",
       "      <td>2542.0</td>\n",
       "      <td>REVISTA COLOMBIA MEDICA</td>\n",
       "      <td>1657-9534</td>\n",
       "      <td>320</td>\n",
       "      <td>46</td>\n",
       "      <td>ESPA?</td>\n",
       "      <td>UDEA</td>\n",
       "    </tr>\n",
       "    <tr>\n",
       "      <th>17</th>\n",
       "      <td>10004446</td>\n",
       "      <td>CARDONA TRUJILLO HAROLD</td>\n",
       "      <td>REVITEMA1</td>\n",
       "      <td>Revision de tema en revista Tipo A1</td>\n",
       "      <td>SA</td>\n",
       "      <td>NO</td>\n",
       "      <td>4.5</td>\n",
       "      <td>3</td>\n",
       "      <td>2017</td>\n",
       "      <td>2017-06-01</td>\n",
       "      <td>2017-09-01</td>\n",
       "      <td>57744</td>\n",
       "      <td>GESTION AMBIENTAL, SOSTENIBILIDAD Y COMPETITIVIDAD MINERA. CONTEXTUALIZACION DE LA SITUACION Y RETOS DE UN ENFOQUE A TRAVES DEL ANALISIS DEL CICLO DE VIDA. (ENVIRONMENTAL MANAGEMENT, SUSTAINABILIT...</td>\n",
       "      <td>0.0</td>\n",
       "      <td></td>\n",
       "      <td></td>\n",
       "      <td>442</td>\n",
       "      <td>46</td>\n",
       "      <td>ESPA?</td>\n",
       "      <td>UDEA</td>\n",
       "    </tr>\n",
       "    <tr>\n",
       "      <th>18</th>\n",
       "      <td>10004446</td>\n",
       "      <td>CARDONA TRUJILLO HAROLD</td>\n",
       "      <td>OTROMATER</td>\n",
       "      <td>Material no clasificable en este decreto</td>\n",
       "      <td>SA</td>\n",
       "      <td>NO</td>\n",
       "      <td>0.0</td>\n",
       "      <td>1</td>\n",
       "      <td>2012</td>\n",
       "      <td>2014-09-12</td>\n",
       "      <td>2014-11-01</td>\n",
       "      <td>49116</td>\n",
       "      <td>\"ANTIOQUIA\"</td>\n",
       "      <td>0.0</td>\n",
       "      <td></td>\n",
       "      <td></td>\n",
       "      <td>382</td>\n",
       "      <td>46</td>\n",
       "      <td>ESPA?</td>\n",
       "      <td>UDEA</td>\n",
       "    </tr>\n",
       "    <tr>\n",
       "      <th>19</th>\n",
       "      <td>10004446</td>\n",
       "      <td>CARDONA TRUJILLO HAROLD</td>\n",
       "      <td>LIBROINVA</td>\n",
       "      <td>Libro resultado de investigacion</td>\n",
       "      <td>SA</td>\n",
       "      <td>NO</td>\n",
       "      <td>10.8</td>\n",
       "      <td>3</td>\n",
       "      <td>2007</td>\n",
       "      <td>2011-09-01</td>\n",
       "      <td>2012-04-01</td>\n",
       "      <td>40717</td>\n",
       "      <td>SISTEMAS SILVOPASTORILES CON ARBOLES MADERABLES DENTRO DE PASTURAS: ESTRATEGIAS PARA SU ESTABLECIMIENTO</td>\n",
       "      <td>0.0</td>\n",
       "      <td></td>\n",
       "      <td></td>\n",
       "      <td>329</td>\n",
       "      <td>46</td>\n",
       "      <td>ESPA?</td>\n",
       "      <td>UDEA</td>\n",
       "    </tr>\n",
       "    <tr>\n",
       "      <th>20</th>\n",
       "      <td>10004446</td>\n",
       "      <td>CARDONA TRUJILLO HAROLD</td>\n",
       "      <td>REVITEMC</td>\n",
       "      <td>Revision de tema en revista Tipo C</td>\n",
       "      <td>SA</td>\n",
       "      <td>NO</td>\n",
       "      <td>0.9</td>\n",
       "      <td>2</td>\n",
       "      <td>2013</td>\n",
       "      <td>2014-10-01</td>\n",
       "      <td>2015-01-01</td>\n",
       "      <td>49117</td>\n",
       "      <td>\"EL PRECIO DE LA TIERRA: ESTADO DEL ARTE DE LAS METODOLOGIAS DE VALORACION DE PREDIOS RURALES Y SU APLICACIONEN COLOMBIA\"</td>\n",
       "      <td>0.0</td>\n",
       "      <td></td>\n",
       "      <td></td>\n",
       "      <td>386</td>\n",
       "      <td>46</td>\n",
       "      <td>ESPA?</td>\n",
       "      <td>UDEA</td>\n",
       "    </tr>\n",
       "    <tr>\n",
       "      <th>21</th>\n",
       "      <td>10004446</td>\n",
       "      <td>CARDONA TRUJILLO HAROLD</td>\n",
       "      <td>ARTREVC</td>\n",
       "      <td>Articulo en revista Tipo C</td>\n",
       "      <td>SA</td>\n",
       "      <td>NO</td>\n",
       "      <td>3.0</td>\n",
       "      <td>2</td>\n",
       "      <td>2011</td>\n",
       "      <td>2012-02-01</td>\n",
       "      <td>2012-03-01</td>\n",
       "      <td>40531</td>\n",
       "      <td>\"ESTADO DEL ARTE DE LOS RECURSOS PARA EL DESARROLLO EN ANTIOQUIA\" (STATE OF THE ART OF RESOURCES FOR DEVELOPMENT IN ANTIOQUIA)</td>\n",
       "      <td>3053.0</td>\n",
       "      <td>REVISTA CIENCIAS ESTRATEGICAS</td>\n",
       "      <td>1794-8347</td>\n",
       "      <td>327</td>\n",
       "      <td>46</td>\n",
       "      <td>ESPA?</td>\n",
       "      <td>UDEA</td>\n",
       "    </tr>\n",
       "    <tr>\n",
       "      <th>22</th>\n",
       "      <td>10004446</td>\n",
       "      <td>CARDONA TRUJILLO HAROLD</td>\n",
       "      <td>IMPREUNIVE</td>\n",
       "      <td>Impreso universitario</td>\n",
       "      <td>BO</td>\n",
       "      <td>NO</td>\n",
       "      <td>60.0</td>\n",
       "      <td>3</td>\n",
       "      <td>2015</td>\n",
       "      <td>2017-09-01</td>\n",
       "      <td>2017-09-01</td>\n",
       "      <td>58515</td>\n",
       "      <td>GUIA PARA UNA MINERIA MAS LIMPIA DEL CARBON N LA CUENCA DEL SINIFANA, ANTIOQUIA</td>\n",
       "      <td>0.0</td>\n",
       "      <td></td>\n",
       "      <td></td>\n",
       "      <td>441</td>\n",
       "      <td>46</td>\n",
       "      <td>ESPA?</td>\n",
       "      <td>UDEA</td>\n",
       "    </tr>\n",
       "    <tr>\n",
       "      <th>23</th>\n",
       "      <td>10004446</td>\n",
       "      <td>CARDONA TRUJILLO HAROLD</td>\n",
       "      <td>ARTREVB</td>\n",
       "      <td>Articulo en revista Tipo B</td>\n",
       "      <td>SA</td>\n",
       "      <td>NO</td>\n",
       "      <td>8.0</td>\n",
       "      <td>2</td>\n",
       "      <td>2016</td>\n",
       "      <td>2017-03-01</td>\n",
       "      <td>2017-07-01</td>\n",
       "      <td>57143</td>\n",
       "      <td>MINERIA RESPONSABLE: MECANISMOS E INCENTIVOS EN EL CASO DEL CARBON EN COLOMBIA. (RESPONSIBLE MINING: MECHANISMS AND INCENTIVES IN THE CASE OF COAL IN COLOMBIA).</td>\n",
       "      <td>5319.0</td>\n",
       "      <td>ECONOMIA &amp; REGION</td>\n",
       "      <td>1692-8989</td>\n",
       "      <td>438</td>\n",
       "      <td>46</td>\n",
       "      <td>ESPA?</td>\n",
       "      <td>UDEA</td>\n",
       "    </tr>\n",
       "    <tr>\n",
       "      <th>24</th>\n",
       "      <td>10004446</td>\n",
       "      <td>CARDONA TRUJILLO HAROLD</td>\n",
       "      <td>LIBINVECAP</td>\n",
       "      <td>Libro resultado de investigacion por capitulos</td>\n",
       "      <td>SA</td>\n",
       "      <td>NO</td>\n",
       "      <td>9.0</td>\n",
       "      <td>3</td>\n",
       "      <td>2008</td>\n",
       "      <td>2011-09-01</td>\n",
       "      <td>2012-04-01</td>\n",
       "      <td>40680</td>\n",
       "      <td>GANADERIA DEL FUTURO: INVESTIGACION PARA EL DESARROLLO</td>\n",
       "      <td>0.0</td>\n",
       "      <td></td>\n",
       "      <td></td>\n",
       "      <td>329</td>\n",
       "      <td>46</td>\n",
       "      <td>ESPA?</td>\n",
       "      <td>UDEA</td>\n",
       "    </tr>\n",
       "    <tr>\n",
       "      <th>25</th>\n",
       "      <td>10004446</td>\n",
       "      <td>CARDONA TRUJILLO HAROLD</td>\n",
       "      <td>ARTREVB</td>\n",
       "      <td>Articulo en revista Tipo B</td>\n",
       "      <td>SA</td>\n",
       "      <td>NO</td>\n",
       "      <td>4.0</td>\n",
       "      <td>5</td>\n",
       "      <td>2005</td>\n",
       "      <td>2011-07-01</td>\n",
       "      <td>2011-10-01</td>\n",
       "      <td>38966</td>\n",
       "      <td>\"SILVOPASTORAL SYSTEMS WITH ISOLATED TIMBER TREES WITHIN PASTURES IN TH COFFEE REGION OF COLOMBIA\"</td>\n",
       "      <td>1691.0</td>\n",
       "      <td>LIVESTOCK RESEARCH FOR RURAL DEVELOPMENT</td>\n",
       "      <td>0121-3784</td>\n",
       "      <td>317</td>\n",
       "      <td>46</td>\n",
       "      <td>INGLE</td>\n",
       "      <td>UDEA</td>\n",
       "    </tr>\n",
       "    <tr>\n",
       "      <th>26</th>\n",
       "      <td>10004446</td>\n",
       "      <td>CARDONA TRUJILLO HAROLD</td>\n",
       "      <td>ARTREVA2</td>\n",
       "      <td>Articulo en revista Tipo A2</td>\n",
       "      <td>SA</td>\n",
       "      <td>NO</td>\n",
       "      <td>12.0</td>\n",
       "      <td>2</td>\n",
       "      <td>2017</td>\n",
       "      <td>2017-08-01</td>\n",
       "      <td>2017-10-01</td>\n",
       "      <td>58985</td>\n",
       "      <td>ANALISIS DEL CICLO DE VIDA DE LA EXPLOTACION DE CARBON EN LA CUENCA DEL SINIFANA, ANTIOQUIA. (ANALYSIS OF LIFE CYCLE OF COAL EXPLOITATION IN SINIFANA BASIN, ANTIOQUIA ).</td>\n",
       "      <td>2432.0</td>\n",
       "      <td>PRODUCCION + LIMPIA</td>\n",
       "      <td>1909-0455</td>\n",
       "      <td>445</td>\n",
       "      <td>46</td>\n",
       "      <td>ESPA?</td>\n",
       "      <td>UDEA</td>\n",
       "    </tr>\n",
       "    <tr>\n",
       "      <th>27</th>\n",
       "      <td>10004446</td>\n",
       "      <td>CARDONA TRUJILLO HAROLD</td>\n",
       "      <td>PONENINTER</td>\n",
       "      <td>Ponencia en extenso en evento internacional</td>\n",
       "      <td>BO</td>\n",
       "      <td>NO</td>\n",
       "      <td>84.0</td>\n",
       "      <td>2</td>\n",
       "      <td>2016</td>\n",
       "      <td>2017-09-01</td>\n",
       "      <td>2017-09-01</td>\n",
       "      <td>57220</td>\n",
       "      <td>PROPUESTA DE DESARROLLO ECONOMICO LOCAL: CASO REGION URABA ANTIOQUEÑO</td>\n",
       "      <td>0.0</td>\n",
       "      <td></td>\n",
       "      <td></td>\n",
       "      <td>436</td>\n",
       "      <td>169</td>\n",
       "      <td>ESPA?</td>\n",
       "      <td>UDEA</td>\n",
       "    </tr>\n",
       "    <tr>\n",
       "      <th>28</th>\n",
       "      <td>10004446</td>\n",
       "      <td>CARDONA TRUJILLO HAROLD</td>\n",
       "      <td>IMPREUNIVE</td>\n",
       "      <td>Impreso universitario</td>\n",
       "      <td>BO</td>\n",
       "      <td>NO</td>\n",
       "      <td>20.0</td>\n",
       "      <td>4</td>\n",
       "      <td>2011</td>\n",
       "      <td>2011-09-01</td>\n",
       "      <td>2012-03-01</td>\n",
       "      <td>40205</td>\n",
       "      <td>ESCUELA DE LIDERAZGO FEMENINO. MODULO No. 2: \"DESARROLLO LOCAL CON ENFOQUE DE GENERO\"</td>\n",
       "      <td>0.0</td>\n",
       "      <td></td>\n",
       "      <td></td>\n",
       "      <td>325</td>\n",
       "      <td>46</td>\n",
       "      <td>ESPA?</td>\n",
       "      <td>UDEA</td>\n",
       "    </tr>\n",
       "    <tr>\n",
       "      <th>29</th>\n",
       "      <td>10004446</td>\n",
       "      <td>CARDONA TRUJILLO HAROLD</td>\n",
       "      <td>OTROMATER</td>\n",
       "      <td>Material no clasificable en este decreto</td>\n",
       "      <td>SA</td>\n",
       "      <td>NO</td>\n",
       "      <td>0.0</td>\n",
       "      <td>5</td>\n",
       "      <td>2010</td>\n",
       "      <td>2011-06-17</td>\n",
       "      <td>2012-07-01</td>\n",
       "      <td>41376</td>\n",
       "      <td>AGENDA DE INVESTIGACION Y DESARROLLO TECNOLOGICO PARA LA CADENA PRODUCTIVA DE LA TRUCHA ARCOIRIS EN EL DEPARTAMENTO DE ANTIOQUIA</td>\n",
       "      <td>0.0</td>\n",
       "      <td></td>\n",
       "      <td></td>\n",
       "      <td>333</td>\n",
       "      <td>46</td>\n",
       "      <td>ESPA?</td>\n",
       "      <td>UDEA</td>\n",
       "    </tr>\n",
       "    <tr>\n",
       "      <th>...</th>\n",
       "      <td>...</td>\n",
       "      <td>...</td>\n",
       "      <td>...</td>\n",
       "      <td>...</td>\n",
       "      <td>...</td>\n",
       "      <td>...</td>\n",
       "      <td>...</td>\n",
       "      <td>...</td>\n",
       "      <td>...</td>\n",
       "      <td>...</td>\n",
       "      <td>...</td>\n",
       "      <td>...</td>\n",
       "      <td>...</td>\n",
       "      <td>...</td>\n",
       "      <td>...</td>\n",
       "      <td>...</td>\n",
       "      <td>...</td>\n",
       "      <td>...</td>\n",
       "      <td>...</td>\n",
       "      <td>...</td>\n",
       "    </tr>\n",
       "    <tr>\n",
       "      <th>46182</th>\n",
       "      <td>98707184</td>\n",
       "      <td>MURCIA  JONATHAN ALEJANDRO</td>\n",
       "      <td>CAPLIBINVE</td>\n",
       "      <td>Capitulo de libro resultado de investigacion</td>\n",
       "      <td>SA</td>\n",
       "      <td>NO</td>\n",
       "      <td>1.8</td>\n",
       "      <td>2</td>\n",
       "      <td>2014</td>\n",
       "      <td>2015-03-04</td>\n",
       "      <td>2015-04-01</td>\n",
       "      <td>51195</td>\n",
       "      <td>\"IMPLEMENTACION DE POLITICAS PUBLICAS TERRITORIALES: ACTORES COLECTIVOS, RECURSOS Y OPORTUNIDADES EN ESCENARIOS INSTITUCIONALES\"</td>\n",
       "      <td>0.0</td>\n",
       "      <td></td>\n",
       "      <td></td>\n",
       "      <td>393</td>\n",
       "      <td>46</td>\n",
       "      <td>ESPA?</td>\n",
       "      <td>UDEA</td>\n",
       "    </tr>\n",
       "    <tr>\n",
       "      <th>46183</th>\n",
       "      <td>98707184</td>\n",
       "      <td>MURCIA  JONATHAN ALEJANDRO</td>\n",
       "      <td>OTROMATER</td>\n",
       "      <td>Material no clasificable en este decreto</td>\n",
       "      <td>SA</td>\n",
       "      <td>NO</td>\n",
       "      <td>0.0</td>\n",
       "      <td>2</td>\n",
       "      <td>2016</td>\n",
       "      <td>2017-11-01</td>\n",
       "      <td>2018-02-01</td>\n",
       "      <td>59182</td>\n",
       "      <td>LA ENSEÑANZA-APRENDIZAJE EN EL ESTUDIO DE LOS MOVIMIENTOS SOCIALES EN CIENCIA POLITICA. UNIVERSIDAD DE ANTIOQUIA ( COLOMBIA)</td>\n",
       "      <td>0.0</td>\n",
       "      <td></td>\n",
       "      <td></td>\n",
       "      <td>450</td>\n",
       "      <td>148</td>\n",
       "      <td>ESPA?</td>\n",
       "      <td>UDEA</td>\n",
       "    </tr>\n",
       "    <tr>\n",
       "      <th>46184</th>\n",
       "      <td>98707184</td>\n",
       "      <td>MURCIA  JONATHAN ALEJANDRO</td>\n",
       "      <td>CAPLIBINVE</td>\n",
       "      <td>Capitulo de libro resultado de investigacion</td>\n",
       "      <td>SA</td>\n",
       "      <td>NO</td>\n",
       "      <td>4.2</td>\n",
       "      <td>2</td>\n",
       "      <td>2017</td>\n",
       "      <td>2017-10-01</td>\n",
       "      <td>2018-02-01</td>\n",
       "      <td>59580</td>\n",
       "      <td>REDES INTERORGANIZACIONALES DE POLITICAS PUBLICAS: UNA PERSPECTIVA PARA EL ANALISIS DE POLITICAS PUBLICAS MIXTAS EN COLOMBIA.</td>\n",
       "      <td>0.0</td>\n",
       "      <td></td>\n",
       "      <td></td>\n",
       "      <td>450</td>\n",
       "      <td>46</td>\n",
       "      <td>ESPA?</td>\n",
       "      <td>UDEA</td>\n",
       "    </tr>\n",
       "    <tr>\n",
       "      <th>46185</th>\n",
       "      <td>98707184</td>\n",
       "      <td>MURCIA  JONATHAN ALEJANDRO</td>\n",
       "      <td>ARTREVB</td>\n",
       "      <td>Articulo en revista Tipo B</td>\n",
       "      <td>SA</td>\n",
       "      <td>NO</td>\n",
       "      <td>8.0</td>\n",
       "      <td>2</td>\n",
       "      <td>2016</td>\n",
       "      <td>2017-08-01</td>\n",
       "      <td>2017-10-01</td>\n",
       "      <td>58385</td>\n",
       "      <td>LA POLITICA PUBLICA DE VICTIMAS DEL DESPLAZAMIENTO FORZADO EN EL MUNICIPIO DE MEDELLIN: UNA SINTESIS DE LAS RELACIONES INTERORGANIZACIONALES DESDE EL ANALISIS DE REDES DE POLITICAS PUBLICAS.</td>\n",
       "      <td>5386.0</td>\n",
       "      <td>OPERA - OBSERVATORIO DE POLITICAS, EJECUCION Y RESULTADOS DE LA ADMINISTRACION PUBLICA</td>\n",
       "      <td>1657-8651</td>\n",
       "      <td>445</td>\n",
       "      <td>46</td>\n",
       "      <td>ESPA?</td>\n",
       "      <td>UDEA</td>\n",
       "    </tr>\n",
       "    <tr>\n",
       "      <th>46186</th>\n",
       "      <td>98707184</td>\n",
       "      <td>MURCIA  JONATHAN ALEJANDRO</td>\n",
       "      <td>IMPREUNIVE</td>\n",
       "      <td>Impreso universitario</td>\n",
       "      <td>BO</td>\n",
       "      <td>NO</td>\n",
       "      <td>60.0</td>\n",
       "      <td>2</td>\n",
       "      <td>2016</td>\n",
       "      <td>2017-09-01</td>\n",
       "      <td>2017-09-01</td>\n",
       "      <td>58403</td>\n",
       "      <td>REDES Y \"DERECHO A LA CIUDAD\" EN MEDELLIN, COLOMBIA. LA ACCION COLECTIVA DE LA  POBLACION DESPLAZADA FORZADAMENTE EN MEDELLIN HA SIDO DIVERSA Y ESTRATEGICA.</td>\n",
       "      <td>0.0</td>\n",
       "      <td></td>\n",
       "      <td></td>\n",
       "      <td>441</td>\n",
       "      <td>175</td>\n",
       "      <td>ESPA?</td>\n",
       "      <td>UDEA</td>\n",
       "    </tr>\n",
       "    <tr>\n",
       "      <th>46187</th>\n",
       "      <td>98708888</td>\n",
       "      <td>FLOREZ ACOSTA JORGE HERNAN</td>\n",
       "      <td>CAPLIBINVE</td>\n",
       "      <td>Capitulo de libro resultado de investigacion</td>\n",
       "      <td>SA</td>\n",
       "      <td>NO</td>\n",
       "      <td>4.5</td>\n",
       "      <td>3</td>\n",
       "      <td>2008</td>\n",
       "      <td>2009-04-01</td>\n",
       "      <td>2009-10-01</td>\n",
       "      <td>33995</td>\n",
       "      <td>\"ORGANIZACION INSTITUCIONAL E INDUSTRIAL DE LAS ZONAS NO INTERCONECTADAS DEL SISTEMA ELECTRICO COLOMBIANO\"</td>\n",
       "      <td>0.0</td>\n",
       "      <td></td>\n",
       "      <td></td>\n",
       "      <td>275</td>\n",
       "      <td>46</td>\n",
       "      <td>ESPA?</td>\n",
       "      <td>UDEA</td>\n",
       "    </tr>\n",
       "    <tr>\n",
       "      <th>46188</th>\n",
       "      <td>98708888</td>\n",
       "      <td>FLOREZ ACOSTA JORGE HERNAN</td>\n",
       "      <td>ARTREVA1</td>\n",
       "      <td>Articulo en revista Tipo A1</td>\n",
       "      <td>SA</td>\n",
       "      <td>NO</td>\n",
       "      <td>15.0</td>\n",
       "      <td>3</td>\n",
       "      <td>2008</td>\n",
       "      <td>2009-01-01</td>\n",
       "      <td>2009-03-01</td>\n",
       "      <td>32375</td>\n",
       "      <td>\"INSTITUCIONALIDAD EN TORNO A LOS MERCADOS DE CARBONO Y LOS MECANISMOS DE FLEXIBILIZACION DERIVADOS DEL PROTOCOLO DE KIOTO\" (INSTITUTIONALITY AROUND THE CARBON MARKETS AND THE MECHANISMS ESTABLISH...</td>\n",
       "      <td>2423.0</td>\n",
       "      <td>FACULTAD DE INGENIERIA - U DE A</td>\n",
       "      <td>0120-6230</td>\n",
       "      <td>260</td>\n",
       "      <td>46</td>\n",
       "      <td>ESPA?</td>\n",
       "      <td>UDEA</td>\n",
       "    </tr>\n",
       "    <tr>\n",
       "      <th>46189</th>\n",
       "      <td>98708888</td>\n",
       "      <td>FLOREZ ACOSTA JORGE HERNAN</td>\n",
       "      <td>ARTREVA2</td>\n",
       "      <td>Articulo en revista Tipo A2</td>\n",
       "      <td>SA</td>\n",
       "      <td>NO</td>\n",
       "      <td>12.0</td>\n",
       "      <td>2</td>\n",
       "      <td>2008</td>\n",
       "      <td>2009-06-01</td>\n",
       "      <td>2009-06-01</td>\n",
       "      <td>33183</td>\n",
       "      <td>\"LA GOBERNABILIDAD: CONCEPTUALIZACION Y UNA APLICACION AL SISTEMA DE EDUCACION BASICA EN COLOMBIA\"</td>\n",
       "      <td>2541.0</td>\n",
       "      <td>CUADERNOS DE ECONOMIA</td>\n",
       "      <td>0121-4772</td>\n",
       "      <td>268</td>\n",
       "      <td>46</td>\n",
       "      <td>ESPA?</td>\n",
       "      <td>UDEA</td>\n",
       "    </tr>\n",
       "    <tr>\n",
       "      <th>46190</th>\n",
       "      <td>98708888</td>\n",
       "      <td>FLOREZ ACOSTA JORGE HERNAN</td>\n",
       "      <td>PONENACION</td>\n",
       "      <td>Ponencia en extenso en evento nacional</td>\n",
       "      <td>BO</td>\n",
       "      <td>NO</td>\n",
       "      <td>48.0</td>\n",
       "      <td>2</td>\n",
       "      <td>2008</td>\n",
       "      <td>2009-03-01</td>\n",
       "      <td>2009-03-01</td>\n",
       "      <td>32321</td>\n",
       "      <td>\"¿HA SIDO EFECTIVA LA PROMOCION DE SOLUCIONES ENERGETICAS EN LAS ZONAS NO INTERCONECTADAS (ZNI)? UN ANALISIS DE LA ORGANIZACIÓN INDUSTRIAL, LA ESTRUCTURA INSTITUCIONAL Y LOS INCENTIVOS QUE OTORGA ...</td>\n",
       "      <td>0.0</td>\n",
       "      <td></td>\n",
       "      <td></td>\n",
       "      <td>260</td>\n",
       "      <td>46</td>\n",
       "      <td>ESPA?</td>\n",
       "      <td>UDEA</td>\n",
       "    </tr>\n",
       "    <tr>\n",
       "      <th>46191</th>\n",
       "      <td>98708888</td>\n",
       "      <td>FLOREZ ACOSTA JORGE HERNAN</td>\n",
       "      <td>ARTREVC</td>\n",
       "      <td>Articulo en revista Tipo C</td>\n",
       "      <td>SA</td>\n",
       "      <td>NO</td>\n",
       "      <td>3.0</td>\n",
       "      <td>3</td>\n",
       "      <td>2008</td>\n",
       "      <td>2008-09-16</td>\n",
       "      <td>2008-11-01</td>\n",
       "      <td>31810</td>\n",
       "      <td>\"CAPITAL SOCIAL, DESARROLLO Y POLITICAS PUBLICAS EN MEDELLIN, 2004-2007\" (SOCIAL CAPITAL, DEVELOPMENT  AND PUBLIC POLICIES IN MEDELLIN, 2004-2007)</td>\n",
       "      <td>1806.0</td>\n",
       "      <td>ESTUDIOS POLITICOS</td>\n",
       "      <td>0121-5167</td>\n",
       "      <td>256</td>\n",
       "      <td>46</td>\n",
       "      <td>ESPA?</td>\n",
       "      <td>UDEA</td>\n",
       "    </tr>\n",
       "    <tr>\n",
       "      <th>46192</th>\n",
       "      <td>98711474</td>\n",
       "      <td>TAMAYO CANO LUIS HERNANDO</td>\n",
       "      <td>RESUINTERN</td>\n",
       "      <td>Resumen de ponencia en evento internacional ()</td>\n",
       "      <td>BO</td>\n",
       "      <td>NO</td>\n",
       "      <td>40.0</td>\n",
       "      <td>2</td>\n",
       "      <td>2014</td>\n",
       "      <td>2015-03-01</td>\n",
       "      <td>2015-03-01</td>\n",
       "      <td>50396</td>\n",
       "      <td>\"TOOLS AND STRATEGIES FOR E_LEARNING A WORKSHOP COMBINING THEORY AND PRACTICE\"</td>\n",
       "      <td>0.0</td>\n",
       "      <td></td>\n",
       "      <td></td>\n",
       "      <td>390</td>\n",
       "      <td>74</td>\n",
       "      <td>INGLE</td>\n",
       "      <td>UDEA</td>\n",
       "    </tr>\n",
       "    <tr>\n",
       "      <th>46193</th>\n",
       "      <td>98711474</td>\n",
       "      <td>TAMAYO CANO LUIS HERNANDO</td>\n",
       "      <td>ARTREVA1</td>\n",
       "      <td>Articulo en revista Tipo A1</td>\n",
       "      <td>SA</td>\n",
       "      <td>NO</td>\n",
       "      <td>15.0</td>\n",
       "      <td>2</td>\n",
       "      <td>2016</td>\n",
       "      <td>2016-01-27</td>\n",
       "      <td>2016-04-01</td>\n",
       "      <td>53759</td>\n",
       "      <td>E-MODERATING AND E-TIVITIES THE IMPLEMENTATION OF A WORKSHOP TO DEVELOP ONLINE TEACHING SKILLS IN IN-SERVICE TEACHERS. ( E-MODERACION Y E-ACTIVIDADES: IMPLEMENTACION DE UN TALLER PARA DESARROLLAR ...</td>\n",
       "      <td>2067.0</td>\n",
       "      <td>PROFILE</td>\n",
       "      <td>1657-0790</td>\n",
       "      <td>416</td>\n",
       "      <td>46</td>\n",
       "      <td>ESPA?</td>\n",
       "      <td>UDEA</td>\n",
       "    </tr>\n",
       "    <tr>\n",
       "      <th>46194</th>\n",
       "      <td>98711474</td>\n",
       "      <td>TAMAYO CANO LUIS HERNANDO</td>\n",
       "      <td>ARTREVB</td>\n",
       "      <td>Articulo en revista Tipo B</td>\n",
       "      <td>SA</td>\n",
       "      <td>NO</td>\n",
       "      <td>8.0</td>\n",
       "      <td>2</td>\n",
       "      <td>2016</td>\n",
       "      <td>2016-10-01</td>\n",
       "      <td>2017-02-01</td>\n",
       "      <td>55939</td>\n",
       "      <td>LA IMPLEMENTACION DEL MODELO ADJUNTO DE LA ENSEÑANZA BASADA EN CONTENIDOS EN UN LABORATORIO DE QUIMICA FAMACEUTICA EN UNA UNIVERSIDAD PUBLICA COLOMBIANA. (IMPLEMENTING THE CONTENT-BASED INSTRUCTIO...</td>\n",
       "      <td>936.0</td>\n",
       "      <td>LENGUAJE</td>\n",
       "      <td>0120-3479</td>\n",
       "      <td>431</td>\n",
       "      <td>46</td>\n",
       "      <td>ESPA?</td>\n",
       "      <td>UDEA</td>\n",
       "    </tr>\n",
       "    <tr>\n",
       "      <th>46195</th>\n",
       "      <td>98711474</td>\n",
       "      <td>TAMAYO CANO LUIS HERNANDO</td>\n",
       "      <td>PONENACION</td>\n",
       "      <td>Ponencia en extenso en evento nacional</td>\n",
       "      <td>BO</td>\n",
       "      <td>NO</td>\n",
       "      <td>48.0</td>\n",
       "      <td>2</td>\n",
       "      <td>2015</td>\n",
       "      <td>2017-03-01</td>\n",
       "      <td>2017-03-01</td>\n",
       "      <td>55605</td>\n",
       "      <td>TRAINING PRE-SERVICE TEACHERS FOR USING TECHNOLOGY IN THE FOREIGN  LANGUAGE TEACHING PRACTICES: AN EXPERIENCEAT A COLOMBIAN PUBLIC UNIVERSITY</td>\n",
       "      <td>0.0</td>\n",
       "      <td></td>\n",
       "      <td></td>\n",
       "      <td>428</td>\n",
       "      <td>46</td>\n",
       "      <td>INGLE</td>\n",
       "      <td>UDEA</td>\n",
       "    </tr>\n",
       "    <tr>\n",
       "      <th>46196</th>\n",
       "      <td>98711474</td>\n",
       "      <td>TAMAYO CANO LUIS HERNANDO</td>\n",
       "      <td>RESUMENNAL</td>\n",
       "      <td>Resumen de ponencia en evento nacional ()</td>\n",
       "      <td>BO</td>\n",
       "      <td>NO</td>\n",
       "      <td>10.0</td>\n",
       "      <td>2</td>\n",
       "      <td>2014</td>\n",
       "      <td>2015-03-01</td>\n",
       "      <td>2015-03-01</td>\n",
       "      <td>50719</td>\n",
       "      <td>\"DISENO, IMPLEMENTACION Y EVALUACION DE UN CURSO VIRTUAL DE DESARROLLO DE HABILIDADES DE ESCUCHA EN LENGUA INGLESA PARA ESTUDIANTES DE POSGRADO\"</td>\n",
       "      <td>0.0</td>\n",
       "      <td></td>\n",
       "      <td></td>\n",
       "      <td>391</td>\n",
       "      <td>46</td>\n",
       "      <td>ESPA?</td>\n",
       "      <td>UDEA</td>\n",
       "    </tr>\n",
       "    <tr>\n",
       "      <th>46197</th>\n",
       "      <td>98711474</td>\n",
       "      <td>TAMAYO CANO LUIS HERNANDO</td>\n",
       "      <td>PONENINTER</td>\n",
       "      <td>Ponencia en extenso en evento internacional</td>\n",
       "      <td>BO</td>\n",
       "      <td>NO</td>\n",
       "      <td>84.0</td>\n",
       "      <td>3</td>\n",
       "      <td>2013</td>\n",
       "      <td>2014-03-01</td>\n",
       "      <td>2014-03-01</td>\n",
       "      <td>45520</td>\n",
       "      <td>\"PRACTICA DE ENSENANZA CON USO DE TIC\"</td>\n",
       "      <td>0.0</td>\n",
       "      <td></td>\n",
       "      <td></td>\n",
       "      <td>360</td>\n",
       "      <td>52</td>\n",
       "      <td>ESPA?</td>\n",
       "      <td>UDEA</td>\n",
       "    </tr>\n",
       "    <tr>\n",
       "      <th>46198</th>\n",
       "      <td>98716771</td>\n",
       "      <td>DUQUE GRAJALES JON EDINSON</td>\n",
       "      <td>ARTREVA2</td>\n",
       "      <td>Articulo en revista Tipo A2</td>\n",
       "      <td>SA</td>\n",
       "      <td>NO</td>\n",
       "      <td>3.0</td>\n",
       "      <td>8</td>\n",
       "      <td>2014</td>\n",
       "      <td>2015-08-14</td>\n",
       "      <td>2015-11-01</td>\n",
       "      <td>50795</td>\n",
       "      <td>\"QUANTITATIVE EEG ANALYSIS DISEASE DURING RESTING AND MEMORY TASK IN CARRIERS AND NON-CARRIERS OF PS-1 E280A MUTATION OF FAMILIAL ALZHEIMER´S\" (ANALISIS DEL EEG CUANTITATIVO DURANTE TAREAS DE MEMO...</td>\n",
       "      <td>4385.0</td>\n",
       "      <td>CES MEDICINA</td>\n",
       "      <td>0120-8705</td>\n",
       "      <td>391</td>\n",
       "      <td>46</td>\n",
       "      <td>INGLE</td>\n",
       "      <td>UDEA</td>\n",
       "    </tr>\n",
       "    <tr>\n",
       "      <th>46199</th>\n",
       "      <td>98716771</td>\n",
       "      <td>DUQUE GRAJALES JON EDINSON</td>\n",
       "      <td>ARTREVA1</td>\n",
       "      <td>Articulo en revista Tipo A1</td>\n",
       "      <td>SA</td>\n",
       "      <td>NO</td>\n",
       "      <td>3.8</td>\n",
       "      <td>8</td>\n",
       "      <td>2014</td>\n",
       "      <td>2015-08-14</td>\n",
       "      <td>2015-11-01</td>\n",
       "      <td>49793</td>\n",
       "      <td>\"EMOTIONAL PROCESSING IN COLOMBIAN EX-COMBATANTS AND ITS RELATIONSHIP WITH EMPATHY AND EXECUTIVE FUNCTIONS\"</td>\n",
       "      <td>4611.0</td>\n",
       "      <td>SOCIAL NEUROSCIENCE</td>\n",
       "      <td>1747-0919</td>\n",
       "      <td>389</td>\n",
       "      <td>175</td>\n",
       "      <td>INGLE</td>\n",
       "      <td>UDEA</td>\n",
       "    </tr>\n",
       "    <tr>\n",
       "      <th>46200</th>\n",
       "      <td>98716771</td>\n",
       "      <td>DUQUE GRAJALES JON EDINSON</td>\n",
       "      <td>ARTICORTA2</td>\n",
       "      <td>Articulo corto publicado en revista Tipo A2</td>\n",
       "      <td>SA</td>\n",
       "      <td>NO</td>\n",
       "      <td>2.1</td>\n",
       "      <td>7</td>\n",
       "      <td>2014</td>\n",
       "      <td>2015-08-14</td>\n",
       "      <td>2015-11-01</td>\n",
       "      <td>50228</td>\n",
       "      <td>ALZHEIMER'S DISEASE: INITIAL CLINICAL IMPLEMENTATION OF AUTOMATED VOLUMETRY.</td>\n",
       "      <td>0.0</td>\n",
       "      <td></td>\n",
       "      <td></td>\n",
       "      <td>390</td>\n",
       "      <td>34</td>\n",
       "      <td>INGLE</td>\n",
       "      <td>UDEA</td>\n",
       "    </tr>\n",
       "    <tr>\n",
       "      <th>46201</th>\n",
       "      <td>98716771</td>\n",
       "      <td>DUQUE GRAJALES JON EDINSON</td>\n",
       "      <td>ARTREVA1</td>\n",
       "      <td>Articulo en revista Tipo A1</td>\n",
       "      <td>SA</td>\n",
       "      <td>NO</td>\n",
       "      <td>7.5</td>\n",
       "      <td>4</td>\n",
       "      <td>2016</td>\n",
       "      <td>2017-01-01</td>\n",
       "      <td>2017-06-01</td>\n",
       "      <td>56413</td>\n",
       "      <td>BIOMARKERS IDENTIFICATION IN ALZHEIMER´S DISEASE USING EFFECTIVE CONNECTIVITY ANALYSIS FROM ELECTROENCEPHALOGRAPHY RECORDINGS.  (IDENTIFICACION DE BIOMARCADORES EN LA ENFERMEDAD DE ALZHEIMER USAND...</td>\n",
       "      <td>1814.0</td>\n",
       "      <td>INGENIERIA E INVESTIGACION</td>\n",
       "      <td>0120-5609</td>\n",
       "      <td>435</td>\n",
       "      <td>46</td>\n",
       "      <td>ESPA?</td>\n",
       "      <td>UDEA</td>\n",
       "    </tr>\n",
       "    <tr>\n",
       "      <th>46202</th>\n",
       "      <td>98716771</td>\n",
       "      <td>DUQUE GRAJALES JON EDINSON</td>\n",
       "      <td>ARTREVA1</td>\n",
       "      <td>Articulo en revista Tipo A1</td>\n",
       "      <td>SA</td>\n",
       "      <td>NO</td>\n",
       "      <td>5.0</td>\n",
       "      <td>6</td>\n",
       "      <td>2016</td>\n",
       "      <td>2016-05-01</td>\n",
       "      <td>2016-10-01</td>\n",
       "      <td>54145</td>\n",
       "      <td>PERFIL PSIQUIATRICO, COGNITIVO Y DE RECONOCIMIENTO DE CARACTERISTICAS EMOCIONALES DE UN GRUPO DE EXCOMBATIENTES DE LOS GRUPOS ARMADOS ILEGALES EN COLOMBIA. (PSYCHIATRIC, COGNITIVE AND EMOTIONAL PR...</td>\n",
       "      <td>81.0</td>\n",
       "      <td>REVISTA COLOMBIANA DE PSIQUIATRIA</td>\n",
       "      <td>0034-7450</td>\n",
       "      <td>420</td>\n",
       "      <td>46</td>\n",
       "      <td>ESPA?</td>\n",
       "      <td>UDEA</td>\n",
       "    </tr>\n",
       "    <tr>\n",
       "      <th>46203</th>\n",
       "      <td>98716771</td>\n",
       "      <td>DUQUE GRAJALES JON EDINSON</td>\n",
       "      <td>ARTREVA1</td>\n",
       "      <td>Articulo en revista Tipo A1</td>\n",
       "      <td>SA</td>\n",
       "      <td>NO</td>\n",
       "      <td>0.0</td>\n",
       "      <td>7</td>\n",
       "      <td>2017</td>\n",
       "      <td>2017-08-01</td>\n",
       "      <td>2017-09-01</td>\n",
       "      <td>57661</td>\n",
       "      <td>CAMBIOS EN EL EEG EN REPOSO DE EXPARTICIPANTES EN EL CONFLICTO ARMADO COLOMBIANO CON TRASTORNO DE PERSONALIDAD ANTISOCIAL.</td>\n",
       "      <td>81.0</td>\n",
       "      <td>REVISTA COLOMBIANA DE PSIQUIATRIA</td>\n",
       "      <td>0034-7450</td>\n",
       "      <td>441</td>\n",
       "      <td>46</td>\n",
       "      <td>ESPA?</td>\n",
       "      <td>UDEA</td>\n",
       "    </tr>\n",
       "    <tr>\n",
       "      <th>46204</th>\n",
       "      <td>98716771</td>\n",
       "      <td>DUQUE GRAJALES JON EDINSON</td>\n",
       "      <td>PONENINTER</td>\n",
       "      <td>Ponencia en extenso en evento internacional</td>\n",
       "      <td>BO</td>\n",
       "      <td>NO</td>\n",
       "      <td>42.0</td>\n",
       "      <td>4</td>\n",
       "      <td>2016</td>\n",
       "      <td>2017-03-01</td>\n",
       "      <td>2017-03-01</td>\n",
       "      <td>56798</td>\n",
       "      <td>REDUCCION DE LA DIMENSIONALIDAD EN EL MODELADO DE SENALES EEG A PARTIR DE ANALISIS DE COMPONENTES INDEPENDIENTES</td>\n",
       "      <td>0.0</td>\n",
       "      <td></td>\n",
       "      <td></td>\n",
       "      <td>434</td>\n",
       "      <td>46</td>\n",
       "      <td>ESPA?</td>\n",
       "      <td>UDEA</td>\n",
       "    </tr>\n",
       "    <tr>\n",
       "      <th>46205</th>\n",
       "      <td>98716771</td>\n",
       "      <td>DUQUE GRAJALES JON EDINSON</td>\n",
       "      <td>PONENINTER</td>\n",
       "      <td>Ponencia en extenso en evento internacional</td>\n",
       "      <td>BO</td>\n",
       "      <td>NO</td>\n",
       "      <td>21.0</td>\n",
       "      <td>8</td>\n",
       "      <td>2015</td>\n",
       "      <td>2016-09-01</td>\n",
       "      <td>2016-09-01</td>\n",
       "      <td>54980</td>\n",
       "      <td>NEUROPHYSIOLOGICAL CORRELATES IN MILD COGNITIVE IMPAIRMENT DETECTED USING GROUP INDEPENDENT COMPONENT ANALYSIS.</td>\n",
       "      <td>0.0</td>\n",
       "      <td></td>\n",
       "      <td></td>\n",
       "      <td>426</td>\n",
       "      <td>123</td>\n",
       "      <td>INGLE</td>\n",
       "      <td>UDEA</td>\n",
       "    </tr>\n",
       "    <tr>\n",
       "      <th>46206</th>\n",
       "      <td>98716771</td>\n",
       "      <td>DUQUE GRAJALES JON EDINSON</td>\n",
       "      <td>IMPREUNIVE</td>\n",
       "      <td>Impreso universitario</td>\n",
       "      <td>BO</td>\n",
       "      <td>NO</td>\n",
       "      <td>60.0</td>\n",
       "      <td>3</td>\n",
       "      <td>2016</td>\n",
       "      <td>2017-09-01</td>\n",
       "      <td>2017-09-01</td>\n",
       "      <td>57319</td>\n",
       "      <td>IMPROVING TEST-RETEST RELIABILITY OF QUANTITATIVE ELECTROENCEPHALOGRAPHY USING DIFFERENT PREPROCESSING APPROACHES.</td>\n",
       "      <td>0.0</td>\n",
       "      <td></td>\n",
       "      <td></td>\n",
       "      <td>441</td>\n",
       "      <td>74</td>\n",
       "      <td>INGLE</td>\n",
       "      <td>UDEA</td>\n",
       "    </tr>\n",
       "    <tr>\n",
       "      <th>46207</th>\n",
       "      <td>98716771</td>\n",
       "      <td>DUQUE GRAJALES JON EDINSON</td>\n",
       "      <td>ARTREVA2</td>\n",
       "      <td>Articulo en revista Tipo A2</td>\n",
       "      <td>SA</td>\n",
       "      <td>NO</td>\n",
       "      <td>6.0</td>\n",
       "      <td>4</td>\n",
       "      <td>2014</td>\n",
       "      <td>2016-05-01</td>\n",
       "      <td>2016-08-01</td>\n",
       "      <td>50908</td>\n",
       "      <td>CONECTIVIDAD FUNCIONAL EN ADULTOS MAYORES A PARTIR DE RESONANCIA MAGNETICA FUNCIONAL COMO UN POSIBLE INDICADOR PARA LA ENFERMEDAD DE ALZHEIMER (FUNCTIONAL CONNECTIVITY IN SENIOR ADULTS FROM FMRI A...</td>\n",
       "      <td>214.0</td>\n",
       "      <td>ACTA NEUROLOGICA COLOMBIANA</td>\n",
       "      <td>0120-8748</td>\n",
       "      <td>413</td>\n",
       "      <td>46</td>\n",
       "      <td>ESPA?</td>\n",
       "      <td>UDEA</td>\n",
       "    </tr>\n",
       "    <tr>\n",
       "      <th>46208</th>\n",
       "      <td>98716771</td>\n",
       "      <td>DUQUE GRAJALES JON EDINSON</td>\n",
       "      <td>ARTREVA1</td>\n",
       "      <td>Articulo en revista Tipo A1</td>\n",
       "      <td>SA</td>\n",
       "      <td>NO</td>\n",
       "      <td>4.3</td>\n",
       "      <td>7</td>\n",
       "      <td>2017</td>\n",
       "      <td>2017-03-01</td>\n",
       "      <td>2017-06-01</td>\n",
       "      <td>56443</td>\n",
       "      <td>SUCCESSFUL SCENE ENCODING INDUCES INCREASED DIRECTED CONNECTIVITY IN PRESYMPTOMATIC EARLY-ONSET ALZHEIMER´S DISEASE.</td>\n",
       "      <td>3326.0</td>\n",
       "      <td>JOURNAL OF ALZHEIMER'S DISEASE</td>\n",
       "      <td>1387-2877</td>\n",
       "      <td>435</td>\n",
       "      <td>162</td>\n",
       "      <td>INGLE</td>\n",
       "      <td>UDEA</td>\n",
       "    </tr>\n",
       "    <tr>\n",
       "      <th>46209</th>\n",
       "      <td>98716927</td>\n",
       "      <td>GAVIRIA BEDOYA JAIME ANDRES</td>\n",
       "      <td>ARTREVA1</td>\n",
       "      <td>Articulo en revista Tipo A1</td>\n",
       "      <td>SA</td>\n",
       "      <td>NO</td>\n",
       "      <td>15.0</td>\n",
       "      <td>2</td>\n",
       "      <td>2014</td>\n",
       "      <td>2016-03-02</td>\n",
       "      <td>2016-08-01</td>\n",
       "      <td>54269</td>\n",
       "      <td>LOCALLY D-OPTIMAL DESIGNS WITH HETEROSCEDASTICITY: A COMPARISON BETWEEN TWO METHODOLOGIES. (DISENOS D-OPTIMOSLOCALES CON HETEROCEDASTICIDAD: UNA COMPARACION ENTRE DOS METODOLOGIAS)</td>\n",
       "      <td>72.0</td>\n",
       "      <td>REVISTA COLOMBIANA DE ESTADISTICA</td>\n",
       "      <td>0120-1751</td>\n",
       "      <td>422</td>\n",
       "      <td>46</td>\n",
       "      <td>INGLE</td>\n",
       "      <td>UDEA</td>\n",
       "    </tr>\n",
       "    <tr>\n",
       "      <th>46210</th>\n",
       "      <td>98772611</td>\n",
       "      <td>URIBE VILLA ESTEBAN</td>\n",
       "      <td>ARTREVA2</td>\n",
       "      <td>Articulo en revista Tipo A2</td>\n",
       "      <td>SA</td>\n",
       "      <td>NO</td>\n",
       "      <td>2.4</td>\n",
       "      <td>10</td>\n",
       "      <td>2009</td>\n",
       "      <td>2014-04-03</td>\n",
       "      <td>2014-06-01</td>\n",
       "      <td>47567</td>\n",
       "      <td>\"DESCRIPCION DE RESULTADOS CLINICOS CON UNA DOSIS MODIFICADA DE AMIODARONA PARA LA CONVERSION DE LA FIBRILACION AURICULAR AGUDA A RITMO SINUSAL\" (DESCRIPTION OF THE CLINICAL OUTCOMES WITH AN AMIOD...</td>\n",
       "      <td>2207.0</td>\n",
       "      <td>REVISTA COLOMBIANA DE CARDIOLOGIA</td>\n",
       "      <td>0120-5633</td>\n",
       "      <td>374</td>\n",
       "      <td>46</td>\n",
       "      <td>ESPA?</td>\n",
       "      <td>UDEA</td>\n",
       "    </tr>\n",
       "    <tr>\n",
       "      <th>46211</th>\n",
       "      <td>98772611</td>\n",
       "      <td>URIBE VILLA ESTEBAN</td>\n",
       "      <td>ARTREVA1</td>\n",
       "      <td>Articulo en revista Tipo A1</td>\n",
       "      <td>SA</td>\n",
       "      <td>NO</td>\n",
       "      <td>7.5</td>\n",
       "      <td>4</td>\n",
       "      <td>2012</td>\n",
       "      <td>2014-04-03</td>\n",
       "      <td>2014-06-01</td>\n",
       "      <td>47451</td>\n",
       "      <td>\"PERFILES PSICOPATOLOGICOS EN LOS HIJOS DE LOS SUJETOS CON TRANSTORNO AFECTIVO BIPOLAR\" (PSYCHOPATHOLOGICAL PROFILES OF OFFSPRING OF SUBJECTS WITH BIPOLAR DISORDER)</td>\n",
       "      <td>2246.0</td>\n",
       "      <td>REVISTA COLOMBIANA DE PSIQUIATRIA</td>\n",
       "      <td>0034-7450</td>\n",
       "      <td>374</td>\n",
       "      <td>46</td>\n",
       "      <td>ESPA?</td>\n",
       "      <td>UDEA</td>\n",
       "    </tr>\n",
       "  </tbody>\n",
       "</table>\n",
       "<p>46212 rows × 20 columns</p>\n",
       "</div>"
      ],
      "text/plain": [
       "       UDEA_cedula                       UDEA_nombre UDEA_tipo mat  \\\n",
       "0         10002787            URREA DUQUE JUAN PABLO       ARTREVC   \n",
       "1         10002787            URREA DUQUE JUAN PABLO       ARTREVC   \n",
       "2         10002787            URREA DUQUE JUAN PABLO    DIRTGRAMAE   \n",
       "3         10002787            URREA DUQUE JUAN PABLO      ARTREVA2   \n",
       "4         10002787            URREA DUQUE JUAN PABLO    PONENINTER   \n",
       "5         10002787            URREA DUQUE JUAN PABLO    PONENINTER   \n",
       "6         10002787            URREA DUQUE JUAN PABLO    PONENACION   \n",
       "7         10002787            URREA DUQUE JUAN PABLO    PONENINTER   \n",
       "8         10003895  GONZALEZ MARULANDA EDWIN ROLANDO    RESULATINO   \n",
       "9         10003895  GONZALEZ MARULANDA EDWIN ROLANDO     PONINTINT   \n",
       "10        10003895  GONZALEZ MARULANDA EDWIN ROLANDO     OTROMATER   \n",
       "11        10003895  GONZALEZ MARULANDA EDWIN ROLANDO       ARTREVB   \n",
       "12        10003895  GONZALEZ MARULANDA EDWIN ROLANDO    RESUINTERN   \n",
       "13        10003895  GONZALEZ MARULANDA EDWIN ROLANDO    ARTNICUNAL   \n",
       "14        10003895  GONZALEZ MARULANDA EDWIN ROLANDO      REVITEMC   \n",
       "15        10003895  GONZALEZ MARULANDA EDWIN ROLANDO    IMPREUNIVE   \n",
       "16        10003895  GONZALEZ MARULANDA EDWIN ROLANDO      ARTREVA1   \n",
       "17        10004446           CARDONA TRUJILLO HAROLD     REVITEMA1   \n",
       "18        10004446           CARDONA TRUJILLO HAROLD     OTROMATER   \n",
       "19        10004446           CARDONA TRUJILLO HAROLD     LIBROINVA   \n",
       "20        10004446           CARDONA TRUJILLO HAROLD      REVITEMC   \n",
       "21        10004446           CARDONA TRUJILLO HAROLD       ARTREVC   \n",
       "22        10004446           CARDONA TRUJILLO HAROLD    IMPREUNIVE   \n",
       "23        10004446           CARDONA TRUJILLO HAROLD       ARTREVB   \n",
       "24        10004446           CARDONA TRUJILLO HAROLD    LIBINVECAP   \n",
       "25        10004446           CARDONA TRUJILLO HAROLD       ARTREVB   \n",
       "26        10004446           CARDONA TRUJILLO HAROLD      ARTREVA2   \n",
       "27        10004446           CARDONA TRUJILLO HAROLD    PONENINTER   \n",
       "28        10004446           CARDONA TRUJILLO HAROLD    IMPREUNIVE   \n",
       "29        10004446           CARDONA TRUJILLO HAROLD     OTROMATER   \n",
       "...            ...                               ...           ...   \n",
       "46182     98707184        MURCIA  JONATHAN ALEJANDRO    CAPLIBINVE   \n",
       "46183     98707184        MURCIA  JONATHAN ALEJANDRO     OTROMATER   \n",
       "46184     98707184        MURCIA  JONATHAN ALEJANDRO    CAPLIBINVE   \n",
       "46185     98707184        MURCIA  JONATHAN ALEJANDRO       ARTREVB   \n",
       "46186     98707184        MURCIA  JONATHAN ALEJANDRO    IMPREUNIVE   \n",
       "46187     98708888        FLOREZ ACOSTA JORGE HERNAN    CAPLIBINVE   \n",
       "46188     98708888        FLOREZ ACOSTA JORGE HERNAN      ARTREVA1   \n",
       "46189     98708888        FLOREZ ACOSTA JORGE HERNAN      ARTREVA2   \n",
       "46190     98708888        FLOREZ ACOSTA JORGE HERNAN    PONENACION   \n",
       "46191     98708888        FLOREZ ACOSTA JORGE HERNAN       ARTREVC   \n",
       "46192     98711474         TAMAYO CANO LUIS HERNANDO    RESUINTERN   \n",
       "46193     98711474         TAMAYO CANO LUIS HERNANDO      ARTREVA1   \n",
       "46194     98711474         TAMAYO CANO LUIS HERNANDO       ARTREVB   \n",
       "46195     98711474         TAMAYO CANO LUIS HERNANDO    PONENACION   \n",
       "46196     98711474         TAMAYO CANO LUIS HERNANDO    RESUMENNAL   \n",
       "46197     98711474         TAMAYO CANO LUIS HERNANDO    PONENINTER   \n",
       "46198     98716771        DUQUE GRAJALES JON EDINSON      ARTREVA2   \n",
       "46199     98716771        DUQUE GRAJALES JON EDINSON      ARTREVA1   \n",
       "46200     98716771        DUQUE GRAJALES JON EDINSON    ARTICORTA2   \n",
       "46201     98716771        DUQUE GRAJALES JON EDINSON      ARTREVA1   \n",
       "46202     98716771        DUQUE GRAJALES JON EDINSON      ARTREVA1   \n",
       "46203     98716771        DUQUE GRAJALES JON EDINSON      ARTREVA1   \n",
       "46204     98716771        DUQUE GRAJALES JON EDINSON    PONENINTER   \n",
       "46205     98716771        DUQUE GRAJALES JON EDINSON    PONENINTER   \n",
       "46206     98716771        DUQUE GRAJALES JON EDINSON    IMPREUNIVE   \n",
       "46207     98716771        DUQUE GRAJALES JON EDINSON      ARTREVA2   \n",
       "46208     98716771        DUQUE GRAJALES JON EDINSON      ARTREVA1   \n",
       "46209     98716927       GAVIRIA BEDOYA JAIME ANDRES      ARTREVA1   \n",
       "46210     98772611               URIBE VILLA ESTEBAN      ARTREVA2   \n",
       "46211     98772611               URIBE VILLA ESTEBAN      ARTREVA1   \n",
       "\n",
       "                                              UDEA_descrip tipo mat  \\\n",
       "0                                        Articulo en revista Tipo C   \n",
       "1                                        Articulo en revista Tipo C   \n",
       "2                         Direccion de trabajo de grado de maestria   \n",
       "3                                       Articulo en revista Tipo A2   \n",
       "4                       Ponencia en extenso en evento internacional   \n",
       "5                       Ponencia en extenso en evento internacional   \n",
       "6                            Ponencia en extenso en evento nacional   \n",
       "7                       Ponencia en extenso en evento internacional   \n",
       "8      Resumen de ponencia en evento latinoamerican o de 1 continet   \n",
       "9       Ponencia de extension intermedia en evento internacional ()   \n",
       "10                         Material no clasificable en este decreto   \n",
       "11                                       Articulo en revista Tipo B   \n",
       "12                   Resumen de ponencia en evento internacional ()   \n",
       "13              Articulos nacionales publicados ante del 28/03/2003   \n",
       "14                               Revision de tema en revista Tipo C   \n",
       "15                                            Impreso universitario   \n",
       "16                                      Articulo en revista Tipo A1   \n",
       "17                              Revision de tema en revista Tipo A1   \n",
       "18                         Material no clasificable en este decreto   \n",
       "19                                 Libro resultado de investigacion   \n",
       "20                               Revision de tema en revista Tipo C   \n",
       "21                                       Articulo en revista Tipo C   \n",
       "22                                            Impreso universitario   \n",
       "23                                       Articulo en revista Tipo B   \n",
       "24                   Libro resultado de investigacion por capitulos   \n",
       "25                                       Articulo en revista Tipo B   \n",
       "26                                      Articulo en revista Tipo A2   \n",
       "27                      Ponencia en extenso en evento internacional   \n",
       "28                                            Impreso universitario   \n",
       "29                         Material no clasificable en este decreto   \n",
       "...                                                             ...   \n",
       "46182                  Capitulo de libro resultado de investigacion   \n",
       "46183                      Material no clasificable en este decreto   \n",
       "46184                  Capitulo de libro resultado de investigacion   \n",
       "46185                                    Articulo en revista Tipo B   \n",
       "46186                                         Impreso universitario   \n",
       "46187                  Capitulo de libro resultado de investigacion   \n",
       "46188                                   Articulo en revista Tipo A1   \n",
       "46189                                   Articulo en revista Tipo A2   \n",
       "46190                        Ponencia en extenso en evento nacional   \n",
       "46191                                    Articulo en revista Tipo C   \n",
       "46192                Resumen de ponencia en evento internacional ()   \n",
       "46193                                   Articulo en revista Tipo A1   \n",
       "46194                                    Articulo en revista Tipo B   \n",
       "46195                        Ponencia en extenso en evento nacional   \n",
       "46196                     Resumen de ponencia en evento nacional ()   \n",
       "46197                   Ponencia en extenso en evento internacional   \n",
       "46198                                   Articulo en revista Tipo A2   \n",
       "46199                                   Articulo en revista Tipo A1   \n",
       "46200                   Articulo corto publicado en revista Tipo A2   \n",
       "46201                                   Articulo en revista Tipo A1   \n",
       "46202                                   Articulo en revista Tipo A1   \n",
       "46203                                   Articulo en revista Tipo A1   \n",
       "46204                   Ponencia en extenso en evento internacional   \n",
       "46205                   Ponencia en extenso en evento internacional   \n",
       "46206                                         Impreso universitario   \n",
       "46207                                   Articulo en revista Tipo A2   \n",
       "46208                                   Articulo en revista Tipo A1   \n",
       "46209                                   Articulo en revista Tipo A1   \n",
       "46210                                   Articulo en revista Tipo A2   \n",
       "46211                                   Articulo en revista Tipo A1   \n",
       "\n",
       "      UDEA_tipo concepto UDEA_tipo mov  UDEA_puntos  UDEA_nro autores  \\\n",
       "0                     SA            NO          3.0                 2   \n",
       "1                     SA            NO          3.0                 2   \n",
       "2                     BO            NO         36.0                 1   \n",
       "3                     SA            NO         12.0                 2   \n",
       "4                     BO            NO         84.0                 2   \n",
       "5                     BO            NO         84.0                 2   \n",
       "6                     BO            NO         48.0                 2   \n",
       "7                     BO            NO         84.0                 2   \n",
       "8                     BO            NO         20.0                 3   \n",
       "9                     BO            NO         62.0                 1   \n",
       "10                    SA            NO          0.0                 1   \n",
       "11                    SA            NO          8.0                 1   \n",
       "12                    BO            NO         40.0                 1   \n",
       "13                    SA            NO          1.7                 5   \n",
       "14                    SA            NO          0.9                 2   \n",
       "15                    BO            NO         16.0                 6   \n",
       "16                    SA            NO          7.5                 4   \n",
       "17                    SA            NO          4.5                 3   \n",
       "18                    SA            NO          0.0                 1   \n",
       "19                    SA            NO         10.8                 3   \n",
       "20                    SA            NO          0.9                 2   \n",
       "21                    SA            NO          3.0                 2   \n",
       "22                    BO            NO         60.0                 3   \n",
       "23                    SA            NO          8.0                 2   \n",
       "24                    SA            NO          9.0                 3   \n",
       "25                    SA            NO          4.0                 5   \n",
       "26                    SA            NO         12.0                 2   \n",
       "27                    BO            NO         84.0                 2   \n",
       "28                    BO            NO         20.0                 4   \n",
       "29                    SA            NO          0.0                 5   \n",
       "...                  ...           ...          ...               ...   \n",
       "46182                 SA            NO          1.8                 2   \n",
       "46183                 SA            NO          0.0                 2   \n",
       "46184                 SA            NO          4.2                 2   \n",
       "46185                 SA            NO          8.0                 2   \n",
       "46186                 BO            NO         60.0                 2   \n",
       "46187                 SA            NO          4.5                 3   \n",
       "46188                 SA            NO         15.0                 3   \n",
       "46189                 SA            NO         12.0                 2   \n",
       "46190                 BO            NO         48.0                 2   \n",
       "46191                 SA            NO          3.0                 3   \n",
       "46192                 BO            NO         40.0                 2   \n",
       "46193                 SA            NO         15.0                 2   \n",
       "46194                 SA            NO          8.0                 2   \n",
       "46195                 BO            NO         48.0                 2   \n",
       "46196                 BO            NO         10.0                 2   \n",
       "46197                 BO            NO         84.0                 3   \n",
       "46198                 SA            NO          3.0                 8   \n",
       "46199                 SA            NO          3.8                 8   \n",
       "46200                 SA            NO          2.1                 7   \n",
       "46201                 SA            NO          7.5                 4   \n",
       "46202                 SA            NO          5.0                 6   \n",
       "46203                 SA            NO          0.0                 7   \n",
       "46204                 BO            NO         42.0                 4   \n",
       "46205                 BO            NO         21.0                 8   \n",
       "46206                 BO            NO         60.0                 3   \n",
       "46207                 SA            NO          6.0                 4   \n",
       "46208                 SA            NO          4.3                 7   \n",
       "46209                 SA            NO         15.0                 2   \n",
       "46210                 SA            NO          2.4                10   \n",
       "46211                 SA            NO          7.5                 4   \n",
       "\n",
       "       UDEA_año realiz UDEA_fecha vig UDEA_fecha aplica  UDEA_cod prod  \\\n",
       "0                 2008     2009-02-01        2009-03-01          32497   \n",
       "1                 2004     2009-02-01        2009-03-01          32496   \n",
       "2                 2018     2018-09-01        2018-09-01          61060   \n",
       "3                 2015     2017-03-01        2017-03-01          53760   \n",
       "4                 2015     2016-03-01        2016-03-01          53303   \n",
       "5                 2018     2018-09-01        2018-09-01          61043   \n",
       "6                 2012     2013-03-01        2013-09-01          43904   \n",
       "7                 2015     2016-03-01        2016-03-01          53304   \n",
       "8                 2007     2007-09-01        2007-09-01          28941   \n",
       "9                 2010     2012-03-01        2012-03-01          39481   \n",
       "10                2009     2010-02-01        2011-08-01          38339   \n",
       "11                2007     2007-09-01        2007-10-01          29122   \n",
       "12                2009     2010-09-01        2010-09-01          34983   \n",
       "13                1998     2005-02-10        2005-05-01          24363   \n",
       "14                2004     2005-02-10        2005-03-01          23565   \n",
       "15                2005     2006-09-01        2006-09-01          26539   \n",
       "16                2011     2011-10-01        2011-11-01          39482   \n",
       "17                2017     2017-06-01        2017-09-01          57744   \n",
       "18                2012     2014-09-12        2014-11-01          49116   \n",
       "19                2007     2011-09-01        2012-04-01          40717   \n",
       "20                2013     2014-10-01        2015-01-01          49117   \n",
       "21                2011     2012-02-01        2012-03-01          40531   \n",
       "22                2015     2017-09-01        2017-09-01          58515   \n",
       "23                2016     2017-03-01        2017-07-01          57143   \n",
       "24                2008     2011-09-01        2012-04-01          40680   \n",
       "25                2005     2011-07-01        2011-10-01          38966   \n",
       "26                2017     2017-08-01        2017-10-01          58985   \n",
       "27                2016     2017-09-01        2017-09-01          57220   \n",
       "28                2011     2011-09-01        2012-03-01          40205   \n",
       "29                2010     2011-06-17        2012-07-01          41376   \n",
       "...                ...            ...               ...            ...   \n",
       "46182             2014     2015-03-04        2015-04-01          51195   \n",
       "46183             2016     2017-11-01        2018-02-01          59182   \n",
       "46184             2017     2017-10-01        2018-02-01          59580   \n",
       "46185             2016     2017-08-01        2017-10-01          58385   \n",
       "46186             2016     2017-09-01        2017-09-01          58403   \n",
       "46187             2008     2009-04-01        2009-10-01          33995   \n",
       "46188             2008     2009-01-01        2009-03-01          32375   \n",
       "46189             2008     2009-06-01        2009-06-01          33183   \n",
       "46190             2008     2009-03-01        2009-03-01          32321   \n",
       "46191             2008     2008-09-16        2008-11-01          31810   \n",
       "46192             2014     2015-03-01        2015-03-01          50396   \n",
       "46193             2016     2016-01-27        2016-04-01          53759   \n",
       "46194             2016     2016-10-01        2017-02-01          55939   \n",
       "46195             2015     2017-03-01        2017-03-01          55605   \n",
       "46196             2014     2015-03-01        2015-03-01          50719   \n",
       "46197             2013     2014-03-01        2014-03-01          45520   \n",
       "46198             2014     2015-08-14        2015-11-01          50795   \n",
       "46199             2014     2015-08-14        2015-11-01          49793   \n",
       "46200             2014     2015-08-14        2015-11-01          50228   \n",
       "46201             2016     2017-01-01        2017-06-01          56413   \n",
       "46202             2016     2016-05-01        2016-10-01          54145   \n",
       "46203             2017     2017-08-01        2017-09-01          57661   \n",
       "46204             2016     2017-03-01        2017-03-01          56798   \n",
       "46205             2015     2016-09-01        2016-09-01          54980   \n",
       "46206             2016     2017-09-01        2017-09-01          57319   \n",
       "46207             2014     2016-05-01        2016-08-01          50908   \n",
       "46208             2017     2017-03-01        2017-06-01          56443   \n",
       "46209             2014     2016-03-02        2016-08-01          54269   \n",
       "46210             2009     2014-04-03        2014-06-01          47567   \n",
       "46211             2012     2014-04-03        2014-06-01          47451   \n",
       "\n",
       "                                                                                                                                                                                                   UDEA_título  \\\n",
       "0                                        \"TECNICA NO PARAMETRICA PARA LA DETECCION DE EVENTOS DE ATENUACION EN FIBRA OPTICA\" (NON-PARAMETRIC TECHNIQUEFOR DETECTING ATTENUATION EVENTS IN A FEBER OPTIC CABLE)   \n",
       "1                                                                                             \"IMPLEMENTACION DE LA TRANSFORMADA DE HOUGH PARA LA DETECCION DE LINEAS PARA UN SISTEMA DE VISION DE BAJO NIVEL\"   \n",
       "2                                                                               ANALISIS DE PROTOCOLOS DE ENRUTAMIENTO PARA LA TRANSMISION DE VIDEO SOBRE UNA RED INALAMBRICA MULTISALTO DEFINIDA POR SOFTWARE   \n",
       "3                                                                                                                                  THROUGHPUT ANALYSIS OF P2P VIDEO STREAMING ON SINGLE-HOP WIRELESS NETWORKS.   \n",
       "4                                                                                                                    STATISTICAL PERFORMANCE EVALUATION OF P2P VIDEO STREAMING ON MULTI-HOP WIRELESS NETWORKS.   \n",
       "5                                                                                                                               THROUGHPUT AND DELAY EVALUATION FRAMEWORK INTEGRATING SDN AND IEEE 802.11S WMN   \n",
       "6                                                                                                                           \"QUALITY ASSESSMENT FOR VIDO STREAMING P2P APPLICATION OVER WIRELESS MESH NETWORK\"   \n",
       "7                                                                                                                                  THROUGHPUT ANALYSIS OF P2P VIDEO STREAMING ON SINGLE-HOP WIRELESS NETWORKS.   \n",
       "8                                                                                                             \"FACTORES ASOCIADOS AL RETRASO DEL CRECIMIENTO EN NINOS MENORES DE 11 ANOS. ANTIOQUIA, COLOMBIA\"   \n",
       "9                                                                                                                                             \"HEALTH SERVICES PRIVATIZATION AND PREVENTIVE HEALTH PROGRAMMES\"   \n",
       "10                                                                                          \"LA NECESIDAD DE PASAR DE UN ESTADO REGULADOR A UN ESTADO RECTOR DEL SISTEMA: EL CSO DE LOS PROGRAMAS PREVENTIVOS\"   \n",
       "11                                                                                                              \"LA SALUD PUBLICA COMO CAMPO TRANDISCIPLINAR\" (THE PUBLIC HEALTH AS A TRANSDISCIPLINARY FIELD)   \n",
       "12                                                                                           \"UN ANALISIS CRITICO DE LOS MECANISMOS DE MERCADO EN LA SALUD : EL CASO DE LOS PROGRAMAS PREVENTIVOS EN COLOMBIA\"   \n",
       "13                                                                                                     \"CONDICIONES PSICOSOCIALES Y ECONOMICAS LABORALES DE LOS MEDICOS  GENERALES EN MEDELLIN, MARZO DE 1998\"   \n",
       "14                   \"EVALUACION DE LA PREVENCION DE LA ENFERMEDAD Y LA PROMOCION DE LA SALUD: FACTORES QUE DEBEN CONSIDERARSE\" (EVALUATING DISEASE PREVENTION AND HEALTH PROMOTION: ASPECTS TO BE CONSIDERED)   \n",
       "15                                                                                                                                                                     \"GESTION DE POLITICAS PUBLICAS Y SALUD\"   \n",
       "16     \"FACTORS ASSOCIATED WITH STUNTED GROWTH IN CHILDREN BELOW 11 YEARS OF AGE IN ANTIOQUIA, COLOMBIA, 2004\" (FACTORES ASOCIADOS CON EL RETRASO DEL CRECIMIENTO EN MENORES DE 11 ANOS EN ANTIOQUIA, COLOM...   \n",
       "17     GESTION AMBIENTAL, SOSTENIBILIDAD Y COMPETITIVIDAD MINERA. CONTEXTUALIZACION DE LA SITUACION Y RETOS DE UN ENFOQUE A TRAVES DEL ANALISIS DEL CICLO DE VIDA. (ENVIRONMENTAL MANAGEMENT, SUSTAINABILIT...   \n",
       "18                                                                                                                                                                                                 \"ANTIOQUIA\"   \n",
       "19                                                                                                     SISTEMAS SILVOPASTORILES CON ARBOLES MADERABLES DENTRO DE PASTURAS: ESTRATEGIAS PARA SU ESTABLECIMIENTO   \n",
       "20                                                                                   \"EL PRECIO DE LA TIERRA: ESTADO DEL ARTE DE LAS METODOLOGIAS DE VALORACION DE PREDIOS RURALES Y SU APLICACIONEN COLOMBIA\"   \n",
       "21                                                                              \"ESTADO DEL ARTE DE LOS RECURSOS PARA EL DESARROLLO EN ANTIOQUIA\" (STATE OF THE ART OF RESOURCES FOR DEVELOPMENT IN ANTIOQUIA)   \n",
       "22                                                                                                                             GUIA PARA UNA MINERIA MAS LIMPIA DEL CARBON N LA CUENCA DEL SINIFANA, ANTIOQUIA   \n",
       "23                                            MINERIA RESPONSABLE: MECANISMOS E INCENTIVOS EN EL CASO DEL CARBON EN COLOMBIA. (RESPONSIBLE MINING: MECHANISMS AND INCENTIVES IN THE CASE OF COAL IN COLOMBIA).   \n",
       "24                                                                                                                                                      GANADERIA DEL FUTURO: INVESTIGACION PARA EL DESARROLLO   \n",
       "25                                                                                                          \"SILVOPASTORAL SYSTEMS WITH ISOLATED TIMBER TREES WITHIN PASTURES IN TH COFFEE REGION OF COLOMBIA\"   \n",
       "26                                   ANALISIS DEL CICLO DE VIDA DE LA EXPLOTACION DE CARBON EN LA CUENCA DEL SINIFANA, ANTIOQUIA. (ANALYSIS OF LIFE CYCLE OF COAL EXPLOITATION IN SINIFANA BASIN, ANTIOQUIA ).   \n",
       "27                                                                                                                                       PROPUESTA DE DESARROLLO ECONOMICO LOCAL: CASO REGION URABA ANTIOQUEÑO   \n",
       "28                                                                                                                       ESCUELA DE LIDERAZGO FEMENINO. MODULO No. 2: \"DESARROLLO LOCAL CON ENFOQUE DE GENERO\"   \n",
       "29                                                                            AGENDA DE INVESTIGACION Y DESARROLLO TECNOLOGICO PARA LA CADENA PRODUCTIVA DE LA TRUCHA ARCOIRIS EN EL DEPARTAMENTO DE ANTIOQUIA   \n",
       "...                                                                                                                                                                                                        ...   \n",
       "46182                                                                         \"IMPLEMENTACION DE POLITICAS PUBLICAS TERRITORIALES: ACTORES COLECTIVOS, RECURSOS Y OPORTUNIDADES EN ESCENARIOS INSTITUCIONALES\"   \n",
       "46183                                                                             LA ENSEÑANZA-APRENDIZAJE EN EL ESTUDIO DE LOS MOVIMIENTOS SOCIALES EN CIENCIA POLITICA. UNIVERSIDAD DE ANTIOQUIA ( COLOMBIA)   \n",
       "46184                                                                            REDES INTERORGANIZACIONALES DE POLITICAS PUBLICAS: UNA PERSPECTIVA PARA EL ANALISIS DE POLITICAS PUBLICAS MIXTAS EN COLOMBIA.   \n",
       "46185           LA POLITICA PUBLICA DE VICTIMAS DEL DESPLAZAMIENTO FORZADO EN EL MUNICIPIO DE MEDELLIN: UNA SINTESIS DE LAS RELACIONES INTERORGANIZACIONALES DESDE EL ANALISIS DE REDES DE POLITICAS PUBLICAS.   \n",
       "46186                                             REDES Y \"DERECHO A LA CIUDAD\" EN MEDELLIN, COLOMBIA. LA ACCION COLECTIVA DE LA  POBLACION DESPLAZADA FORZADAMENTE EN MEDELLIN HA SIDO DIVERSA Y ESTRATEGICA.   \n",
       "46187                                                                                               \"ORGANIZACION INSTITUCIONAL E INDUSTRIAL DE LAS ZONAS NO INTERCONECTADAS DEL SISTEMA ELECTRICO COLOMBIANO\"   \n",
       "46188  \"INSTITUCIONALIDAD EN TORNO A LOS MERCADOS DE CARBONO Y LOS MECANISMOS DE FLEXIBILIZACION DERIVADOS DEL PROTOCOLO DE KIOTO\" (INSTITUTIONALITY AROUND THE CARBON MARKETS AND THE MECHANISMS ESTABLISH...   \n",
       "46189                                                                                                       \"LA GOBERNABILIDAD: CONCEPTUALIZACION Y UNA APLICACION AL SISTEMA DE EDUCACION BASICA EN COLOMBIA\"   \n",
       "46190  \"¿HA SIDO EFECTIVA LA PROMOCION DE SOLUCIONES ENERGETICAS EN LAS ZONAS NO INTERCONECTADAS (ZNI)? UN ANALISIS DE LA ORGANIZACIÓN INDUSTRIAL, LA ESTRUCTURA INSTITUCIONAL Y LOS INCENTIVOS QUE OTORGA ...   \n",
       "46191                                                       \"CAPITAL SOCIAL, DESARROLLO Y POLITICAS PUBLICAS EN MEDELLIN, 2004-2007\" (SOCIAL CAPITAL, DEVELOPMENT  AND PUBLIC POLICIES IN MEDELLIN, 2004-2007)   \n",
       "46192                                                                                                                           \"TOOLS AND STRATEGIES FOR E_LEARNING A WORKSHOP COMBINING THEORY AND PRACTICE\"   \n",
       "46193  E-MODERATING AND E-TIVITIES THE IMPLEMENTATION OF A WORKSHOP TO DEVELOP ONLINE TEACHING SKILLS IN IN-SERVICE TEACHERS. ( E-MODERACION Y E-ACTIVIDADES: IMPLEMENTACION DE UN TALLER PARA DESARROLLAR ...   \n",
       "46194  LA IMPLEMENTACION DEL MODELO ADJUNTO DE LA ENSEÑANZA BASADA EN CONTENIDOS EN UN LABORATORIO DE QUIMICA FAMACEUTICA EN UNA UNIVERSIDAD PUBLICA COLOMBIANA. (IMPLEMENTING THE CONTENT-BASED INSTRUCTIO...   \n",
       "46195                                                            TRAINING PRE-SERVICE TEACHERS FOR USING TECHNOLOGY IN THE FOREIGN  LANGUAGE TEACHING PRACTICES: AN EXPERIENCEAT A COLOMBIAN PUBLIC UNIVERSITY   \n",
       "46196                                                         \"DISENO, IMPLEMENTACION Y EVALUACION DE UN CURSO VIRTUAL DE DESARROLLO DE HABILIDADES DE ESCUCHA EN LENGUA INGLESA PARA ESTUDIANTES DE POSGRADO\"   \n",
       "46197                                                                                                                                                                   \"PRACTICA DE ENSENANZA CON USO DE TIC\"   \n",
       "46198  \"QUANTITATIVE EEG ANALYSIS DISEASE DURING RESTING AND MEMORY TASK IN CARRIERS AND NON-CARRIERS OF PS-1 E280A MUTATION OF FAMILIAL ALZHEIMER´S\" (ANALISIS DEL EEG CUANTITATIVO DURANTE TAREAS DE MEMO...   \n",
       "46199                                                                                              \"EMOTIONAL PROCESSING IN COLOMBIAN EX-COMBATANTS AND ITS RELATIONSHIP WITH EMPATHY AND EXECUTIVE FUNCTIONS\"   \n",
       "46200                                                                                                                             ALZHEIMER'S DISEASE: INITIAL CLINICAL IMPLEMENTATION OF AUTOMATED VOLUMETRY.   \n",
       "46201  BIOMARKERS IDENTIFICATION IN ALZHEIMER´S DISEASE USING EFFECTIVE CONNECTIVITY ANALYSIS FROM ELECTROENCEPHALOGRAPHY RECORDINGS.  (IDENTIFICACION DE BIOMARCADORES EN LA ENFERMEDAD DE ALZHEIMER USAND...   \n",
       "46202  PERFIL PSIQUIATRICO, COGNITIVO Y DE RECONOCIMIENTO DE CARACTERISTICAS EMOCIONALES DE UN GRUPO DE EXCOMBATIENTES DE LOS GRUPOS ARMADOS ILEGALES EN COLOMBIA. (PSYCHIATRIC, COGNITIVE AND EMOTIONAL PR...   \n",
       "46203                                                                               CAMBIOS EN EL EEG EN REPOSO DE EXPARTICIPANTES EN EL CONFLICTO ARMADO COLOMBIANO CON TRASTORNO DE PERSONALIDAD ANTISOCIAL.   \n",
       "46204                                                                                         REDUCCION DE LA DIMENSIONALIDAD EN EL MODELADO DE SENALES EEG A PARTIR DE ANALISIS DE COMPONENTES INDEPENDIENTES   \n",
       "46205                                                                                          NEUROPHYSIOLOGICAL CORRELATES IN MILD COGNITIVE IMPAIRMENT DETECTED USING GROUP INDEPENDENT COMPONENT ANALYSIS.   \n",
       "46206                                                                                       IMPROVING TEST-RETEST RELIABILITY OF QUANTITATIVE ELECTROENCEPHALOGRAPHY USING DIFFERENT PREPROCESSING APPROACHES.   \n",
       "46207  CONECTIVIDAD FUNCIONAL EN ADULTOS MAYORES A PARTIR DE RESONANCIA MAGNETICA FUNCIONAL COMO UN POSIBLE INDICADOR PARA LA ENFERMEDAD DE ALZHEIMER (FUNCTIONAL CONNECTIVITY IN SENIOR ADULTS FROM FMRI A...   \n",
       "46208                                                                                     SUCCESSFUL SCENE ENCODING INDUCES INCREASED DIRECTED CONNECTIVITY IN PRESYMPTOMATIC EARLY-ONSET ALZHEIMER´S DISEASE.   \n",
       "46209                     LOCALLY D-OPTIMAL DESIGNS WITH HETEROSCEDASTICITY: A COMPARISON BETWEEN TWO METHODOLOGIES. (DISENOS D-OPTIMOSLOCALES CON HETEROCEDASTICIDAD: UNA COMPARACION ENTRE DOS METODOLOGIAS)   \n",
       "46210  \"DESCRIPCION DE RESULTADOS CLINICOS CON UNA DOSIS MODIFICADA DE AMIODARONA PARA LA CONVERSION DE LA FIBRILACION AURICULAR AGUDA A RITMO SINUSAL\" (DESCRIPTION OF THE CLINICAL OUTCOMES WITH AN AMIOD...   \n",
       "46211                                     \"PERFILES PSICOPATOLOGICOS EN LOS HIJOS DE LOS SUJETOS CON TRANSTORNO AFECTIVO BIPOLAR\" (PSYCHOPATHOLOGICAL PROFILES OF OFFSPRING OF SUBJECTS WITH BIPOLAR DISORDER)   \n",
       "\n",
       "       UDEA_cod rev-prem  \\\n",
       "0                 1852.0   \n",
       "1                 1852.0   \n",
       "2                    0.0   \n",
       "3                 3377.0   \n",
       "4                    0.0   \n",
       "5                    0.0   \n",
       "6                    0.0   \n",
       "7                    0.0   \n",
       "8                    0.0   \n",
       "9                    0.0   \n",
       "10                   0.0   \n",
       "11                1705.0   \n",
       "12                   0.0   \n",
       "13                  95.0   \n",
       "14                   0.0   \n",
       "15                   0.0   \n",
       "16                2542.0   \n",
       "17                   0.0   \n",
       "18                   0.0   \n",
       "19                   0.0   \n",
       "20                   0.0   \n",
       "21                3053.0   \n",
       "22                   0.0   \n",
       "23                5319.0   \n",
       "24                   0.0   \n",
       "25                1691.0   \n",
       "26                2432.0   \n",
       "27                   0.0   \n",
       "28                   0.0   \n",
       "29                   0.0   \n",
       "...                  ...   \n",
       "46182                0.0   \n",
       "46183                0.0   \n",
       "46184                0.0   \n",
       "46185             5386.0   \n",
       "46186                0.0   \n",
       "46187                0.0   \n",
       "46188             2423.0   \n",
       "46189             2541.0   \n",
       "46190                0.0   \n",
       "46191             1806.0   \n",
       "46192                0.0   \n",
       "46193             2067.0   \n",
       "46194              936.0   \n",
       "46195                0.0   \n",
       "46196                0.0   \n",
       "46197                0.0   \n",
       "46198             4385.0   \n",
       "46199             4611.0   \n",
       "46200                0.0   \n",
       "46201             1814.0   \n",
       "46202               81.0   \n",
       "46203               81.0   \n",
       "46204                0.0   \n",
       "46205                0.0   \n",
       "46206                0.0   \n",
       "46207              214.0   \n",
       "46208             3326.0   \n",
       "46209               72.0   \n",
       "46210             2207.0   \n",
       "46211             2246.0   \n",
       "\n",
       "                                                                 UDEA_nombre revista o premio  \\\n",
       "0                                                                        SCIENTIA ET TECHNICA   \n",
       "1                                                                        SCIENTIA ET TECHNICA   \n",
       "2                                                                                               \n",
       "3                                                                         IEEE AMERICA LATINA   \n",
       "4                                                                                               \n",
       "5                                                                                               \n",
       "6                                                                                               \n",
       "7                                                                                               \n",
       "8                                                                                               \n",
       "9                                                                                               \n",
       "10                                                                                              \n",
       "11                                                         FACULTAD NACIONAL DE SALUD PUBLICA   \n",
       "12                                                                                              \n",
       "13                                                         FACULTAD NACIONAL DE SALUD PUBLICA   \n",
       "14                                                                                              \n",
       "15                                                                                              \n",
       "16                                                                    REVISTA COLOMBIA MEDICA   \n",
       "17                                                                                              \n",
       "18                                                                                              \n",
       "19                                                                                              \n",
       "20                                                                                              \n",
       "21                                                              REVISTA CIENCIAS ESTRATEGICAS   \n",
       "22                                                                                              \n",
       "23                                                                          ECONOMIA & REGION   \n",
       "24                                                                                              \n",
       "25                                                   LIVESTOCK RESEARCH FOR RURAL DEVELOPMENT   \n",
       "26                                                                        PRODUCCION + LIMPIA   \n",
       "27                                                                                              \n",
       "28                                                                                              \n",
       "29                                                                                              \n",
       "...                                                                                       ...   \n",
       "46182                                                                                           \n",
       "46183                                                                                           \n",
       "46184                                                                                           \n",
       "46185  OPERA - OBSERVATORIO DE POLITICAS, EJECUCION Y RESULTADOS DE LA ADMINISTRACION PUBLICA   \n",
       "46186                                                                                           \n",
       "46187                                                                                           \n",
       "46188                                                         FACULTAD DE INGENIERIA - U DE A   \n",
       "46189                                                                   CUADERNOS DE ECONOMIA   \n",
       "46190                                                                                           \n",
       "46191                                                                      ESTUDIOS POLITICOS   \n",
       "46192                                                                                           \n",
       "46193                                                                                 PROFILE   \n",
       "46194                                                                                LENGUAJE   \n",
       "46195                                                                                           \n",
       "46196                                                                                           \n",
       "46197                                                                                           \n",
       "46198                                                                            CES MEDICINA   \n",
       "46199                                                                     SOCIAL NEUROSCIENCE   \n",
       "46200                                                                                           \n",
       "46201                                                              INGENIERIA E INVESTIGACION   \n",
       "46202                                                       REVISTA COLOMBIANA DE PSIQUIATRIA   \n",
       "46203                                                       REVISTA COLOMBIANA DE PSIQUIATRIA   \n",
       "46204                                                                                           \n",
       "46205                                                                                           \n",
       "46206                                                                                           \n",
       "46207                                                             ACTA NEUROLOGICA COLOMBIANA   \n",
       "46208                                                          JOURNAL OF ALZHEIMER'S DISEASE   \n",
       "46209                                                       REVISTA COLOMBIANA DE ESTADISTICA   \n",
       "46210                                                       REVISTA COLOMBIANA DE CARDIOLOGIA   \n",
       "46211                                                       REVISTA COLOMBIANA DE PSIQUIATRIA   \n",
       "\n",
       "      UDEA_issn rev  UDEA_nro acta  UDEA_pais prod UDEA_idioma  Tipo  \n",
       "0         0122-1701            261              46       ESPA?  UDEA  \n",
       "1         0122-1701            261              46       ESPA?  UDEA  \n",
       "2                              461              46       ESPA?  UDEA  \n",
       "3         1548-0992            417              74       ESPA?  UDEA  \n",
       "4                              413              46       INGLE  UDEA  \n",
       "5                              461             105       INGLE  UDEA  \n",
       "6                              349              46       INGLE  UDEA  \n",
       "7                              413              46       INGLE  UDEA  \n",
       "8                              226              26       ESPA?  UDEA  \n",
       "9                              320             217       INGLE  UDEA  \n",
       "10                             312              55       ESPA?  UDEA  \n",
       "11        0120-386X            228              46       ESPA?  UDEA  \n",
       "12                             287              46       ESPA?  UDEA  \n",
       "13        0120-386X            149              46       ESPA?  UDEA  \n",
       "14                             133              46       ESPA?  UDEA  \n",
       "15                             189              46       ESPA?  UDEA  \n",
       "16        1657-9534            320              46       ESPA?  UDEA  \n",
       "17                             442              46       ESPA?  UDEA  \n",
       "18                             382              46       ESPA?  UDEA  \n",
       "19                             329              46       ESPA?  UDEA  \n",
       "20                             386              46       ESPA?  UDEA  \n",
       "21        1794-8347            327              46       ESPA?  UDEA  \n",
       "22                             441              46       ESPA?  UDEA  \n",
       "23        1692-8989            438              46       ESPA?  UDEA  \n",
       "24                             329              46       ESPA?  UDEA  \n",
       "25        0121-3784            317              46       INGLE  UDEA  \n",
       "26        1909-0455            445              46       ESPA?  UDEA  \n",
       "27                             436             169       ESPA?  UDEA  \n",
       "28                             325              46       ESPA?  UDEA  \n",
       "29                             333              46       ESPA?  UDEA  \n",
       "...             ...            ...             ...         ...   ...  \n",
       "46182                          393              46       ESPA?  UDEA  \n",
       "46183                          450             148       ESPA?  UDEA  \n",
       "46184                          450              46       ESPA?  UDEA  \n",
       "46185     1657-8651            445              46       ESPA?  UDEA  \n",
       "46186                          441             175       ESPA?  UDEA  \n",
       "46187                          275              46       ESPA?  UDEA  \n",
       "46188     0120-6230            260              46       ESPA?  UDEA  \n",
       "46189     0121-4772            268              46       ESPA?  UDEA  \n",
       "46190                          260              46       ESPA?  UDEA  \n",
       "46191     0121-5167            256              46       ESPA?  UDEA  \n",
       "46192                          390              74       INGLE  UDEA  \n",
       "46193     1657-0790            416              46       ESPA?  UDEA  \n",
       "46194     0120-3479            431              46       ESPA?  UDEA  \n",
       "46195                          428              46       INGLE  UDEA  \n",
       "46196                          391              46       ESPA?  UDEA  \n",
       "46197                          360              52       ESPA?  UDEA  \n",
       "46198     0120-8705            391              46       INGLE  UDEA  \n",
       "46199     1747-0919            389             175       INGLE  UDEA  \n",
       "46200                          390              34       INGLE  UDEA  \n",
       "46201     0120-5609            435              46       ESPA?  UDEA  \n",
       "46202     0034-7450            420              46       ESPA?  UDEA  \n",
       "46203     0034-7450            441              46       ESPA?  UDEA  \n",
       "46204                          434              46       ESPA?  UDEA  \n",
       "46205                          426             123       INGLE  UDEA  \n",
       "46206                          441              74       INGLE  UDEA  \n",
       "46207     0120-8748            413              46       ESPA?  UDEA  \n",
       "46208     1387-2877            435             162       INGLE  UDEA  \n",
       "46209     0120-1751            422              46       INGLE  UDEA  \n",
       "46210     0120-5633            374              46       ESPA?  UDEA  \n",
       "46211     0034-7450            374              46       ESPA?  UDEA  \n",
       "\n",
       "[46212 rows x 20 columns]"
      ]
     },
     "execution_count": 166,
     "metadata": {},
     "output_type": "execute_result"
    }
   ],
   "source": [
    "drive_files.biblio['UDEA']"
   ]
  },
  {
   "cell_type": "code",
   "execution_count": 170,
   "metadata": {},
   "outputs": [
    {
     "name": "stdout",
     "output_type": "stream",
     "text": [
      ".....CPU times: user 20 s, sys: 12 ms, total: 20 s\n",
      "Wall time: 20 s\n"
     ]
    }
   ],
   "source": [
    "%time kkold=merge_with_close_matches_old(cib.biblio['WOS'],cib.biblio['SCI'].drop('Tipo',axis='columns'),left_on='TI',right_on='SCI_TI',right_extra_on='SCI_SO',how='left')\n"
   ]
  },
  {
   "cell_type": "code",
   "execution_count": 171,
   "metadata": {},
   "outputs": [
    {
     "name": "stdout",
     "output_type": "stream",
     "text": [
      ".....CPU times: user 20 s, sys: 12 ms, total: 20 s\n",
      "Wall time: 20 s\n"
     ]
    }
   ],
   "source": [
    "%time kknew=merge_with_close_matches_new(cib.biblio['WOS'],cib.biblio['SCI'].drop('Tipo',axis='columns'),left_on='TI',right_on='SCI_TI',right_extra_on='SCI_SO',how='left')\n"
   ]
  },
  {
   "cell_type": "code",
   "execution_count": 172,
   "metadata": {},
   "outputs": [
    {
     "data": {
      "text/plain": [
       "((500, 181), (500, 181))"
      ]
     },
     "execution_count": 172,
     "metadata": {},
     "output_type": "execute_result"
    }
   ],
   "source": [
    "kkold.shape,kknew.shape"
   ]
  },
  {
   "cell_type": "code",
   "execution_count": 173,
   "metadata": {},
   "outputs": [
    {
     "data": {
      "text/plain": [
       "((155,), (155,))"
      ]
     },
     "execution_count": 173,
     "metadata": {},
     "output_type": "execute_result"
    }
   ],
   "source": [
    "(kkold['SCI_TI'].apply(lambda s: s if s else pd.np.nan).dropna().shape,\n",
    " kknew['SCI_TI'].apply(lambda s: s if s else pd.np.nan).dropna().shape)"
   ]
  },
  {
   "cell_type": "code",
   "execution_count": 174,
   "metadata": {},
   "outputs": [
    {
     "data": {
      "text/html": [
       "<div>\n",
       "<style scoped>\n",
       "    .dataframe tbody tr th:only-of-type {\n",
       "        vertical-align: middle;\n",
       "    }\n",
       "\n",
       "    .dataframe tbody tr th {\n",
       "        vertical-align: top;\n",
       "    }\n",
       "\n",
       "    .dataframe thead th {\n",
       "        text-align: right;\n",
       "    }\n",
       "</style>\n",
       "<table border=\"1\" class=\"dataframe\">\n",
       "  <thead>\n",
       "    <tr style=\"text-align: right;\">\n",
       "      <th></th>\n",
       "      <th>TI</th>\n",
       "      <th>SCI_TI</th>\n",
       "    </tr>\n",
       "  </thead>\n",
       "  <tbody>\n",
       "    <tr>\n",
       "      <th>0</th>\n",
       "      <td>High initial multidrug-resistant tuberculosis rate in Buenaventura, Colombia: a public-private initiative</td>\n",
       "      <td></td>\n",
       "    </tr>\n",
       "    <tr>\n",
       "      <th>1</th>\n",
       "      <td>4-Phenylphenalenones as a template for new photodynamic compounds against Mycosphaerella fijiensis</td>\n",
       "      <td></td>\n",
       "    </tr>\n",
       "    <tr>\n",
       "      <th>2</th>\n",
       "      <td>Tratamiento conservador en pacientes con retinoblastoma bilateral</td>\n",
       "      <td>Tratamiento conservador en pacientes con retinoblastoma bilateral</td>\n",
       "    </tr>\n",
       "    <tr>\n",
       "      <th>3</th>\n",
       "      <td>Microsolvation of NO3-: structural exploration and bonding analysis</td>\n",
       "      <td></td>\n",
       "    </tr>\n",
       "    <tr>\n",
       "      <th>4</th>\n",
       "      <td>Short communication: Increased expression of secretory leukocyte protease inhibitor in oral mucosa of Colombian HIV type 1-exposed seronegative individuals.</td>\n",
       "      <td></td>\n",
       "    </tr>\n",
       "    <tr>\n",
       "      <th>5</th>\n",
       "      <td>Validez y confiabilidad del 'Cuestionario de calidad de vida KIDSCREEN-27' versión padres, en Medellín, Colombia</td>\n",
       "      <td>Validez y confiabilidad del 'Cuestionario de calidad de vida KIDSCREEN-27' versión padres, en Medellín, Colombia</td>\n",
       "    </tr>\n",
       "    <tr>\n",
       "      <th>6</th>\n",
       "      <td>Prevalencia de neurocisticercosis en individuos afectados de epilepsia</td>\n",
       "      <td></td>\n",
       "    </tr>\n",
       "    <tr>\n",
       "      <th>7</th>\n",
       "      <td>Alternative Oxidase Mediates Pathogen Resistance in Paracoccidioides brasiliensis Infection</td>\n",
       "      <td></td>\n",
       "    </tr>\n",
       "    <tr>\n",
       "      <th>8</th>\n",
       "      <td>Efficacy and safety of two whole IgG polyvalent antivenoms, refined by caprylic acid fractionation with or without beta-propiolactone, in the treatment of Bothrops asper bites in Colombia</td>\n",
       "      <td></td>\n",
       "    </tr>\n",
       "    <tr>\n",
       "      <th>9</th>\n",
       "      <td>Effect of a high-intensity intermittent exercise session on concentrations of circulating musclin in adults with metabolic syndrome and insulin resistance [Efecto de una sesión de ejercicio interm...</td>\n",
       "      <td></td>\n",
       "    </tr>\n",
       "    <tr>\n",
       "      <th>10</th>\n",
       "      <td>Neuroprotection Induced by Transplanted CDK5 Knockdown Astrocytes in Global Cerebral Ischemic Rats</td>\n",
       "      <td></td>\n",
       "    </tr>\n",
       "    <tr>\n",
       "      <th>11</th>\n",
       "      <td>Studies of a Quenched Cupola Part IV: Coke Behavior</td>\n",
       "      <td></td>\n",
       "    </tr>\n",
       "    <tr>\n",
       "      <th>12</th>\n",
       "      <td>AN APPROXIMATION TO A GEOGRAPHICAL AND TEMPORAL DISTRIBUTION OF METEOROID IMPACTS ON EARTH</td>\n",
       "      <td></td>\n",
       "    </tr>\n",
       "    <tr>\n",
       "      <th>13</th>\n",
       "      <td>Efficacy of Miltefosine for the Treatment of American Cutaneous Leishmaniasis</td>\n",
       "      <td></td>\n",
       "    </tr>\n",
       "    <tr>\n",
       "      <th>14</th>\n",
       "      <td>New insights into a complex fungal pathogen: the case of Paracoccidioides spp.</td>\n",
       "      <td></td>\n",
       "    </tr>\n",
       "    <tr>\n",
       "      <th>15</th>\n",
       "      <td>It only takes one to do many jobs: Amphotericin B as antifungal and immunomodulatory drug</td>\n",
       "      <td></td>\n",
       "    </tr>\n",
       "    <tr>\n",
       "      <th>16</th>\n",
       "      <td>An Epidemic Outbreak of Canine Cutaneous Leishmaniasis in Colombia Caused by Leishmania braziliensis and Leishmania panamensis</td>\n",
       "      <td></td>\n",
       "    </tr>\n",
       "    <tr>\n",
       "      <th>17</th>\n",
       "      <td>Improvement of emergency services using technological surveillance and competitive intelligence</td>\n",
       "      <td></td>\n",
       "    </tr>\n",
       "    <tr>\n",
       "      <th>18</th>\n",
       "      <td>An integrated map of genetic variation from 1,092 human genomes</td>\n",
       "      <td></td>\n",
       "    </tr>\n",
       "    <tr>\n",
       "      <th>19</th>\n",
       "      <td>Genome-Wide Linkage Scan of Bipolar Disorder in a Colombian Population Isolate Replicates Loci on Chromosomes 7p21-22, 1p31, 16p12 and 21q21-22 and Identifies a Novel Locus on Chromosome 12q</td>\n",
       "      <td></td>\n",
       "    </tr>\n",
       "    <tr>\n",
       "      <th>20</th>\n",
       "      <td>The Effect of Temperature and Support on the Reduction of Cobalt Oxide: An in Situ X-ray Diffraction Study</td>\n",
       "      <td></td>\n",
       "    </tr>\n",
       "    <tr>\n",
       "      <th>21</th>\n",
       "      <td>Domiciliation trend of Panstrongylus rufotuberculatus in Colombia</td>\n",
       "      <td>Domiciliation Trend of Panstrongylus rufotuberculatus in Colombia</td>\n",
       "    </tr>\n",
       "    <tr>\n",
       "      <th>22</th>\n",
       "      <td>Interleuquina-17: características, vías de diferenciación, señalización y funciones biológicas</td>\n",
       "      <td>Interleuquina-17: características, vías de diferenciación, señalización y funciones biológicas</td>\n",
       "    </tr>\n",
       "    <tr>\n",
       "      <th>23</th>\n",
       "      <td>Geometric morphometrics for the taxonomy of 11 species of Anopheles (Nyssorhynchus) mosquitoes</td>\n",
       "      <td></td>\n",
       "    </tr>\n",
       "    <tr>\n",
       "      <th>24</th>\n",
       "      <td>Comparison of Domain-Centered and Context-Centered Systems Functionalities</td>\n",
       "      <td></td>\n",
       "    </tr>\n",
       "    <tr>\n",
       "      <th>25</th>\n",
       "      <td>Ethnicity in systemic lupus erythematosus (SLE): its influence on susceptibility and outcomes</td>\n",
       "      <td></td>\n",
       "    </tr>\n",
       "    <tr>\n",
       "      <th>26</th>\n",
       "      <td>Insulin Resistance and Beat-to-Beat Cardiovascular Dynamics: A Constant Relationship Across Different Body Mass Index and Blood Pressure Categories</td>\n",
       "      <td></td>\n",
       "    </tr>\n",
       "    <tr>\n",
       "      <th>27</th>\n",
       "      <td>Convex Hexagonal Systems and Their Topological Indices</td>\n",
       "      <td></td>\n",
       "    </tr>\n",
       "    <tr>\n",
       "      <th>28</th>\n",
       "      <td>Características clínicas y ecocardiográficas de los derrames pericárdicos en pacientes del Hospital Universitario San Vicente de Paúl</td>\n",
       "      <td>Características clínicas y ecocardiográficas de los derrames pericárdicos en pacientes del Hospital Universitario San Vicente de Paúl</td>\n",
       "    </tr>\n",
       "    <tr>\n",
       "      <th>29</th>\n",
       "      <td>A DISCRETE HIERARCHY OF DOUBLE BRACKET EQUATIONS AND A CLASS OF NEGATIVE POWER SERIES</td>\n",
       "      <td></td>\n",
       "    </tr>\n",
       "    <tr>\n",
       "      <th>...</th>\n",
       "      <td>...</td>\n",
       "      <td>...</td>\n",
       "    </tr>\n",
       "    <tr>\n",
       "      <th>470</th>\n",
       "      <td>NEUROTOXINS FROM INVERTEBRATES AS ALTERNATIVE THERAPEUTIC AGENTS AND TOOLS IN BASIC RESEARCH</td>\n",
       "      <td></td>\n",
       "    </tr>\n",
       "    <tr>\n",
       "      <th>471</th>\n",
       "      <td>Rediseño geométrico del chasis de un patín de carreras sobre ruedas basado en sus esfuerzos dinámicos y análisis de fatiga</td>\n",
       "      <td>Rediseño geométrico del chasis de un patín de carreras sobre ruedas basado en sus esfuerzos dinámicos y análisis de fatiga</td>\n",
       "    </tr>\n",
       "    <tr>\n",
       "      <th>472</th>\n",
       "      <td>Multivariate Generalization of the Hypergeometric Function Type I Distribution</td>\n",
       "      <td></td>\n",
       "    </tr>\n",
       "    <tr>\n",
       "      <th>473</th>\n",
       "      <td>Diosgenone Synthesis, Anti-Malarial Activity and QSAR of Analogues of This Natural Product</td>\n",
       "      <td></td>\n",
       "    </tr>\n",
       "    <tr>\n",
       "      <th>474</th>\n",
       "      <td>Assessment of the water sorption properties of several microcrystalline celluloses</td>\n",
       "      <td></td>\n",
       "    </tr>\n",
       "    <tr>\n",
       "      <th>475</th>\n",
       "      <td>Determination of the IMF in the LMC stellar cluster NGC 2156</td>\n",
       "      <td>Determination of the IMF in the LMC stellar cluster NGC 2156</td>\n",
       "    </tr>\n",
       "    <tr>\n",
       "      <th>476</th>\n",
       "      <td>Partition-DFT on the water dimer</td>\n",
       "      <td></td>\n",
       "    </tr>\n",
       "    <tr>\n",
       "      <th>477</th>\n",
       "      <td>CAREPUNO, BOLA'E BILLAR AND BOQUITETROMPETA: MORPHOLOGIC AND PHONOLOGIC CHARACTERISATION OF THE N+DE+N CONSTRUCTIONS AS DYSPHEMISM IN THE SPANISH SPOKEN IN COLOMBIA</td>\n",
       "      <td>CAREPUÑO , BOLA'E BILLAR Y BOQUITETROMPETA: CARACTERIZACIÓN MORFOLÓGICA Y FONOLÓGICA DE LAS CONSTRUCCIONES N+DE+N DISFEMÍSTICAS EN EL ESPAÑOL HABLADO EN COLOMBIA</td>\n",
       "    </tr>\n",
       "    <tr>\n",
       "      <th>478</th>\n",
       "      <td>Heuristic column generation for the truck and trailer routing problem</td>\n",
       "      <td></td>\n",
       "    </tr>\n",
       "    <tr>\n",
       "      <th>479</th>\n",
       "      <td>Prevalencia de diabetes mellitus gestacional en una población de Medellín de 1999 - 2000: valor predictivo positivo de la prueba tamiz y comparación de los criterios de la NDDG y la ADA</td>\n",
       "      <td>Prevalencia de diabetes mellitus gestacional en una población de Medellín de 1999 - 2000: valor predictivo positivo de la prueba tamiz y comparación de los criterios de la NDDG y la ADA</td>\n",
       "    </tr>\n",
       "    <tr>\n",
       "      <th>480</th>\n",
       "      <td>Enzootic Stability of Bovine Babesiosis at Puerto Berrio Region, Colombia</td>\n",
       "      <td></td>\n",
       "    </tr>\n",
       "    <tr>\n",
       "      <th>481</th>\n",
       "      <td>Effect of the generation and physical-chemical characterization of swine and dairy cattle slurries on treatment technologies</td>\n",
       "      <td></td>\n",
       "    </tr>\n",
       "    <tr>\n",
       "      <th>482</th>\n",
       "      <td>Description of the mitochondrial serine transfer RNA (UCN) of Lutzomyia columbiana (Diptera, Psychodidac)</td>\n",
       "      <td>Descripción del ARN de transferencia mitocondrial para Serina (UCN) de Lutzomyia columbiana (Diptera, Psychodidae)</td>\n",
       "    </tr>\n",
       "    <tr>\n",
       "      <th>483</th>\n",
       "      <td>Global Selection of Features for Nonlinear Dynamics Characterization of Emotional Speech</td>\n",
       "      <td></td>\n",
       "    </tr>\n",
       "    <tr>\n",
       "      <th>484</th>\n",
       "      <td>Interband emission energy in a dilute nitride quaternary semiconductor quantum dot for longer wavelength applications</td>\n",
       "      <td></td>\n",
       "    </tr>\n",
       "    <tr>\n",
       "      <th>485</th>\n",
       "      <td>Outbreak of Mesotherapy-Associated Cutaneous Infections Caused by Mycobacterium chelonae in Colombia</td>\n",
       "      <td></td>\n",
       "    </tr>\n",
       "    <tr>\n",
       "      <th>486</th>\n",
       "      <td>Measurement of activity coefficients at infinite dilution for acetonitrile, water, limonene, limonene epoxide and their binary pairs</td>\n",
       "      <td></td>\n",
       "    </tr>\n",
       "    <tr>\n",
       "      <th>487</th>\n",
       "      <td>Caracterización del aceite microencapsulado de cardamomo (Elettaria cardamomum) extraído por fluidos supercríticos a escala semi-industrial</td>\n",
       "      <td>Caracterización del aceite microencapsulado de cardamomo (Elettaria cardamomum) extraído por fluidos supercríticos a escala semi-industrial</td>\n",
       "    </tr>\n",
       "    <tr>\n",
       "      <th>488</th>\n",
       "      <td>Kidney graft survival in patients with hepatitis C: a single center experience</td>\n",
       "      <td></td>\n",
       "    </tr>\n",
       "    <tr>\n",
       "      <th>489</th>\n",
       "      <td>Contribution to the taxonomy of the family Membracidae Rafinesque (Hemiptera: Auchenorrhyncha) in Colombia</td>\n",
       "      <td></td>\n",
       "    </tr>\n",
       "    <tr>\n",
       "      <th>490</th>\n",
       "      <td>Decolorization of textile wastewater using the white rot fungi anamorph R1 of Bjerkandera sp.</td>\n",
       "      <td>Decoloración de aguas residuales textiles utilizando el hongo ligninolítico anamorfo R1 de Bjerkandera sp</td>\n",
       "    </tr>\n",
       "    <tr>\n",
       "      <th>491</th>\n",
       "      <td>Mesangial proliferative glomerulonephritis: A glomerular disease or a non-specific morphological change?</td>\n",
       "      <td></td>\n",
       "    </tr>\n",
       "    <tr>\n",
       "      <th>492</th>\n",
       "      <td>Milking and Partial Characterization of Pamphobeteus spp (Aranae; Theraphosidae) Venom, from the Colombian Andean Region</td>\n",
       "      <td></td>\n",
       "    </tr>\n",
       "    <tr>\n",
       "      <th>493</th>\n",
       "      <td>Double blind, randomized controlled trial, to evaluate the effectiveness of a controlled nitric oxide releasing patch versus meglumine antimoniate in the treatment of cutaneous leishmaniasis [NCT0...</td>\n",
       "      <td></td>\n",
       "    </tr>\n",
       "    <tr>\n",
       "      <th>494</th>\n",
       "      <td>Phenotypically Divergences of Monocyte Subsets and Microparticles in Systemic Lupus Erythematosus Patients</td>\n",
       "      <td></td>\n",
       "    </tr>\n",
       "    <tr>\n",
       "      <th>495</th>\n",
       "      <td>Optimización de la Producción de Alquil Ésteres a partir de Aceite de Palma, empleando la Metodología de Superficie de Respuesta</td>\n",
       "      <td>Optimización de la Producción de Alquil Ésteres a partir de Aceite de Palma, empleando la Metodología de Superficie de Respuesta</td>\n",
       "    </tr>\n",
       "    <tr>\n",
       "      <th>496</th>\n",
       "      <td>Illustrated text or textualized images An approach to Papel Periodico Ilustrado since the relationship between art and literature</td>\n",
       "      <td></td>\n",
       "    </tr>\n",
       "    <tr>\n",
       "      <th>497</th>\n",
       "      <td>Interleukin 13: A new cytokine with properties similar to those of interleukin 4 [INTERLEUQUINA 13: UNA NUEVA CITOQUINA CON PROPIEDADES SIMILARES A LA INTERLEUQUINA 4]</td>\n",
       "      <td></td>\n",
       "    </tr>\n",
       "    <tr>\n",
       "      <th>498</th>\n",
       "      <td>Facial linear erythema in a child [Eritema lineal facial en un niño]</td>\n",
       "      <td></td>\n",
       "    </tr>\n",
       "    <tr>\n",
       "      <th>499</th>\n",
       "      <td>Paul valéry: Paradoxes and challenges of art in the modern economic system [Paul valéry: Paradojas y desafíos del arte en el sistema económico modern]</td>\n",
       "      <td></td>\n",
       "    </tr>\n",
       "  </tbody>\n",
       "</table>\n",
       "<p>500 rows × 2 columns</p>\n",
       "</div>"
      ],
      "text/plain": [
       "                                                                                                                                                                                                          TI  \\\n",
       "0                                                                                                  High initial multidrug-resistant tuberculosis rate in Buenaventura, Colombia: a public-private initiative   \n",
       "1                                                                                                         4-Phenylphenalenones as a template for new photodynamic compounds against Mycosphaerella fijiensis   \n",
       "2                                                                                                                                          Tratamiento conservador en pacientes con retinoblastoma bilateral   \n",
       "3                                                                                                                                        Microsolvation of NO3-: structural exploration and bonding analysis   \n",
       "4                                               Short communication: Increased expression of secretory leukocyte protease inhibitor in oral mucosa of Colombian HIV type 1-exposed seronegative individuals.   \n",
       "5                                                                                           Validez y confiabilidad del 'Cuestionario de calidad de vida KIDSCREEN-27' versión padres, en Medellín, Colombia   \n",
       "6                                                                                                                                     Prevalencia de neurocisticercosis en individuos afectados de epilepsia   \n",
       "7                                                                                                                Alternative Oxidase Mediates Pathogen Resistance in Paracoccidioides brasiliensis Infection   \n",
       "8                Efficacy and safety of two whole IgG polyvalent antivenoms, refined by caprylic acid fractionation with or without beta-propiolactone, in the treatment of Bothrops asper bites in Colombia   \n",
       "9    Effect of a high-intensity intermittent exercise session on concentrations of circulating musclin in adults with metabolic syndrome and insulin resistance [Efecto de una sesión de ejercicio interm...   \n",
       "10                                                                                                        Neuroprotection Induced by Transplanted CDK5 Knockdown Astrocytes in Global Cerebral Ischemic Rats   \n",
       "11                                                                                                                                                       Studies of a Quenched Cupola Part IV: Coke Behavior   \n",
       "12                                                                                                                AN APPROXIMATION TO A GEOGRAPHICAL AND TEMPORAL DISTRIBUTION OF METEOROID IMPACTS ON EARTH   \n",
       "13                                                                                                                             Efficacy of Miltefosine for the Treatment of American Cutaneous Leishmaniasis   \n",
       "14                                                                                                                            New insights into a complex fungal pathogen: the case of Paracoccidioides spp.   \n",
       "15                                                                                                                 It only takes one to do many jobs: Amphotericin B as antifungal and immunomodulatory drug   \n",
       "16                                                                            An Epidemic Outbreak of Canine Cutaneous Leishmaniasis in Colombia Caused by Leishmania braziliensis and Leishmania panamensis   \n",
       "17                                                                                                           Improvement of emergency services using technological surveillance and competitive intelligence   \n",
       "18                                                                                                                                           An integrated map of genetic variation from 1,092 human genomes   \n",
       "19            Genome-Wide Linkage Scan of Bipolar Disorder in a Colombian Population Isolate Replicates Loci on Chromosomes 7p21-22, 1p31, 16p12 and 21q21-22 and Identifies a Novel Locus on Chromosome 12q   \n",
       "20                                                                                                The Effect of Temperature and Support on the Reduction of Cobalt Oxide: An in Situ X-ray Diffraction Study   \n",
       "21                                                                                                                                         Domiciliation trend of Panstrongylus rufotuberculatus in Colombia   \n",
       "22                                                                                                            Interleuquina-17: características, vías de diferenciación, señalización y funciones biológicas   \n",
       "23                                                                                                            Geometric morphometrics for the taxonomy of 11 species of Anopheles (Nyssorhynchus) mosquitoes   \n",
       "24                                                                                                                                Comparison of Domain-Centered and Context-Centered Systems Functionalities   \n",
       "25                                                                                                             Ethnicity in systemic lupus erythematosus (SLE): its influence on susceptibility and outcomes   \n",
       "26                                                       Insulin Resistance and Beat-to-Beat Cardiovascular Dynamics: A Constant Relationship Across Different Body Mass Index and Blood Pressure Categories   \n",
       "27                                                                                                                                                    Convex Hexagonal Systems and Their Topological Indices   \n",
       "28                                                                     Características clínicas y ecocardiográficas de los derrames pericárdicos en pacientes del Hospital Universitario San Vicente de Paúl   \n",
       "29                                                                                                                     A DISCRETE HIERARCHY OF DOUBLE BRACKET EQUATIONS AND A CLASS OF NEGATIVE POWER SERIES   \n",
       "..                                                                                                                                                                                                       ...   \n",
       "470                                                                                                             NEUROTOXINS FROM INVERTEBRATES AS ALTERNATIVE THERAPEUTIC AGENTS AND TOOLS IN BASIC RESEARCH   \n",
       "471                                                                               Rediseño geométrico del chasis de un patín de carreras sobre ruedas basado en sus esfuerzos dinámicos y análisis de fatiga   \n",
       "472                                                                                                                           Multivariate Generalization of the Hypergeometric Function Type I Distribution   \n",
       "473                                                                                                               Diosgenone Synthesis, Anti-Malarial Activity and QSAR of Analogues of This Natural Product   \n",
       "474                                                                                                                       Assessment of the water sorption properties of several microcrystalline celluloses   \n",
       "475                                                                                                                                             Determination of the IMF in the LMC stellar cluster NGC 2156   \n",
       "476                                                                                                                                                                         Partition-DFT on the water dimer   \n",
       "477                                     CAREPUNO, BOLA'E BILLAR AND BOQUITETROMPETA: MORPHOLOGIC AND PHONOLOGIC CHARACTERISATION OF THE N+DE+N CONSTRUCTIONS AS DYSPHEMISM IN THE SPANISH SPOKEN IN COLOMBIA   \n",
       "478                                                                                                                                    Heuristic column generation for the truck and trailer routing problem   \n",
       "479                Prevalencia de diabetes mellitus gestacional en una población de Medellín de 1999 - 2000: valor predictivo positivo de la prueba tamiz y comparación de los criterios de la NDDG y la ADA   \n",
       "480                                                                                                                                Enzootic Stability of Bovine Babesiosis at Puerto Berrio Region, Colombia   \n",
       "481                                                                             Effect of the generation and physical-chemical characterization of swine and dairy cattle slurries on treatment technologies   \n",
       "482                                                                                                Description of the mitochondrial serine transfer RNA (UCN) of Lutzomyia columbiana (Diptera, Psychodidac)   \n",
       "483                                                                                                                 Global Selection of Features for Nonlinear Dynamics Characterization of Emotional Speech   \n",
       "484                                                                                    Interband emission energy in a dilute nitride quaternary semiconductor quantum dot for longer wavelength applications   \n",
       "485                                                                                                     Outbreak of Mesotherapy-Associated Cutaneous Infections Caused by Mycobacterium chelonae in Colombia   \n",
       "486                                                                     Measurement of activity coefficients at infinite dilution for acetonitrile, water, limonene, limonene epoxide and their binary pairs   \n",
       "487                                                              Caracterización del aceite microencapsulado de cardamomo (Elettaria cardamomum) extraído por fluidos supercríticos a escala semi-industrial   \n",
       "488                                                                                                                           Kidney graft survival in patients with hepatitis C: a single center experience   \n",
       "489                                                                                               Contribution to the taxonomy of the family Membracidae Rafinesque (Hemiptera: Auchenorrhyncha) in Colombia   \n",
       "490                                                                                                            Decolorization of textile wastewater using the white rot fungi anamorph R1 of Bjerkandera sp.   \n",
       "491                                                                                                 Mesangial proliferative glomerulonephritis: A glomerular disease or a non-specific morphological change?   \n",
       "492                                                                                 Milking and Partial Characterization of Pamphobeteus spp (Aranae; Theraphosidae) Venom, from the Colombian Andean Region   \n",
       "493  Double blind, randomized controlled trial, to evaluate the effectiveness of a controlled nitric oxide releasing patch versus meglumine antimoniate in the treatment of cutaneous leishmaniasis [NCT0...   \n",
       "494                                                                                               Phenotypically Divergences of Monocyte Subsets and Microparticles in Systemic Lupus Erythematosus Patients   \n",
       "495                                                                         Optimización de la Producción de Alquil Ésteres a partir de Aceite de Palma, empleando la Metodología de Superficie de Respuesta   \n",
       "496                                                                        Illustrated text or textualized images An approach to Papel Periodico Ilustrado since the relationship between art and literature   \n",
       "497                                  Interleukin 13: A new cytokine with properties similar to those of interleukin 4 [INTERLEUQUINA 13: UNA NUEVA CITOQUINA CON PROPIEDADES SIMILARES A LA INTERLEUQUINA 4]   \n",
       "498                                                                                                                                     Facial linear erythema in a child [Eritema lineal facial en un niño]   \n",
       "499                                                   Paul valéry: Paradoxes and challenges of art in the modern economic system [Paul valéry: Paradojas y desafíos del arte en el sistema económico modern]   \n",
       "\n",
       "                                                                                                                                                                                        SCI_TI  \n",
       "0                                                                                                                                                                                               \n",
       "1                                                                                                                                                                                               \n",
       "2                                                                                                                            Tratamiento conservador en pacientes con retinoblastoma bilateral  \n",
       "3                                                                                                                                                                                               \n",
       "4                                                                                                                                                                                               \n",
       "5                                                                             Validez y confiabilidad del 'Cuestionario de calidad de vida KIDSCREEN-27' versión padres, en Medellín, Colombia  \n",
       "6                                                                                                                                                                                               \n",
       "7                                                                                                                                                                                               \n",
       "8                                                                                                                                                                                               \n",
       "9                                                                                                                                                                                               \n",
       "10                                                                                                                                                                                              \n",
       "11                                                                                                                                                                                              \n",
       "12                                                                                                                                                                                              \n",
       "13                                                                                                                                                                                              \n",
       "14                                                                                                                                                                                              \n",
       "15                                                                                                                                                                                              \n",
       "16                                                                                                                                                                                              \n",
       "17                                                                                                                                                                                              \n",
       "18                                                                                                                                                                                              \n",
       "19                                                                                                                                                                                              \n",
       "20                                                                                                                                                                                              \n",
       "21                                                                                                                           Domiciliation Trend of Panstrongylus rufotuberculatus in Colombia  \n",
       "22                                                                                              Interleuquina-17: características, vías de diferenciación, señalización y funciones biológicas  \n",
       "23                                                                                                                                                                                              \n",
       "24                                                                                                                                                                                              \n",
       "25                                                                                                                                                                                              \n",
       "26                                                                                                                                                                                              \n",
       "27                                                                                                                                                                                              \n",
       "28                                                       Características clínicas y ecocardiográficas de los derrames pericárdicos en pacientes del Hospital Universitario San Vicente de Paúl  \n",
       "29                                                                                                                                                                                              \n",
       "..                                                                                                                                                                                         ...  \n",
       "470                                                                                                                                                                                             \n",
       "471                                                                 Rediseño geométrico del chasis de un patín de carreras sobre ruedas basado en sus esfuerzos dinámicos y análisis de fatiga  \n",
       "472                                                                                                                                                                                             \n",
       "473                                                                                                                                                                                             \n",
       "474                                                                                                                                                                                             \n",
       "475                                                                                                                               Determination of the IMF in the LMC stellar cluster NGC 2156  \n",
       "476                                                                                                                                                                                             \n",
       "477                          CAREPUÑO , BOLA'E BILLAR Y BOQUITETROMPETA: CARACTERIZACIÓN MORFOLÓGICA Y FONOLÓGICA DE LAS CONSTRUCCIONES N+DE+N DISFEMÍSTICAS EN EL ESPAÑOL HABLADO EN COLOMBIA  \n",
       "478                                                                                                                                                                                             \n",
       "479  Prevalencia de diabetes mellitus gestacional en una población de Medellín de 1999 - 2000: valor predictivo positivo de la prueba tamiz y comparación de los criterios de la NDDG y la ADA  \n",
       "480                                                                                                                                                                                             \n",
       "481                                                                                                                                                                                             \n",
       "482                                                                         Descripción del ARN de transferencia mitocondrial para Serina (UCN) de Lutzomyia columbiana (Diptera, Psychodidae)  \n",
       "483                                                                                                                                                                                             \n",
       "484                                                                                                                                                                                             \n",
       "485                                                                                                                                                                                             \n",
       "486                                                                                                                                                                                             \n",
       "487                                                Caracterización del aceite microencapsulado de cardamomo (Elettaria cardamomum) extraído por fluidos supercríticos a escala semi-industrial  \n",
       "488                                                                                                                                                                                             \n",
       "489                                                                                                                                                                                             \n",
       "490                                                                                  Decoloración de aguas residuales textiles utilizando el hongo ligninolítico anamorfo R1 de Bjerkandera sp  \n",
       "491                                                                                                                                                                                             \n",
       "492                                                                                                                                                                                             \n",
       "493                                                                                                                                                                                             \n",
       "494                                                                                                                                                                                             \n",
       "495                                                           Optimización de la Producción de Alquil Ésteres a partir de Aceite de Palma, empleando la Metodología de Superficie de Respuesta  \n",
       "496                                                                                                                                                                                             \n",
       "497                                                                                                                                                                                             \n",
       "498                                                                                                                                                                                             \n",
       "499                                                                                                                                                                                             \n",
       "\n",
       "[500 rows x 2 columns]"
      ]
     },
     "execution_count": 174,
     "metadata": {},
     "output_type": "execute_result"
    }
   ],
   "source": [
    "kknew[['TI','SCI_TI']].dropna()"
   ]
  },
  {
   "cell_type": "code",
   "execution_count": 175,
   "metadata": {},
   "outputs": [
    {
     "data": {
      "text/html": [
       "<div>\n",
       "<style scoped>\n",
       "    .dataframe tbody tr th:only-of-type {\n",
       "        vertical-align: middle;\n",
       "    }\n",
       "\n",
       "    .dataframe tbody tr th {\n",
       "        vertical-align: top;\n",
       "    }\n",
       "\n",
       "    .dataframe thead th {\n",
       "        text-align: right;\n",
       "    }\n",
       "</style>\n",
       "<table border=\"1\" class=\"dataframe\">\n",
       "  <thead>\n",
       "    <tr style=\"text-align: right;\">\n",
       "      <th></th>\n",
       "      <th>TI</th>\n",
       "      <th>SCI_TI</th>\n",
       "    </tr>\n",
       "  </thead>\n",
       "  <tbody>\n",
       "    <tr>\n",
       "      <th>0</th>\n",
       "      <td>High initial multidrug-resistant tuberculosis rate in Buenaventura, Colombia: a public-private initiative</td>\n",
       "      <td></td>\n",
       "    </tr>\n",
       "    <tr>\n",
       "      <th>1</th>\n",
       "      <td>4-Phenylphenalenones as a template for new photodynamic compounds against Mycosphaerella fijiensis</td>\n",
       "      <td></td>\n",
       "    </tr>\n",
       "    <tr>\n",
       "      <th>2</th>\n",
       "      <td>Tratamiento conservador en pacientes con retinoblastoma bilateral</td>\n",
       "      <td>Tratamiento conservador en pacientes con retinoblastoma bilateral</td>\n",
       "    </tr>\n",
       "    <tr>\n",
       "      <th>3</th>\n",
       "      <td>Microsolvation of NO3-: structural exploration and bonding analysis</td>\n",
       "      <td></td>\n",
       "    </tr>\n",
       "    <tr>\n",
       "      <th>4</th>\n",
       "      <td>Short communication: Increased expression of secretory leukocyte protease inhibitor in oral mucosa of Colombian HIV type 1-exposed seronegative individuals.</td>\n",
       "      <td></td>\n",
       "    </tr>\n",
       "    <tr>\n",
       "      <th>5</th>\n",
       "      <td>Validez y confiabilidad del 'Cuestionario de calidad de vida KIDSCREEN-27' versión padres, en Medellín, Colombia</td>\n",
       "      <td>Validez y confiabilidad del 'Cuestionario de calidad de vida KIDSCREEN-27' versión padres, en Medellín, Colombia</td>\n",
       "    </tr>\n",
       "    <tr>\n",
       "      <th>6</th>\n",
       "      <td>Prevalencia de neurocisticercosis en individuos afectados de epilepsia</td>\n",
       "      <td></td>\n",
       "    </tr>\n",
       "    <tr>\n",
       "      <th>7</th>\n",
       "      <td>Alternative Oxidase Mediates Pathogen Resistance in Paracoccidioides brasiliensis Infection</td>\n",
       "      <td></td>\n",
       "    </tr>\n",
       "    <tr>\n",
       "      <th>8</th>\n",
       "      <td>Efficacy and safety of two whole IgG polyvalent antivenoms, refined by caprylic acid fractionation with or without beta-propiolactone, in the treatment of Bothrops asper bites in Colombia</td>\n",
       "      <td></td>\n",
       "    </tr>\n",
       "    <tr>\n",
       "      <th>9</th>\n",
       "      <td>Effect of a high-intensity intermittent exercise session on concentrations of circulating musclin in adults with metabolic syndrome and insulin resistance [Efecto de una sesión de ejercicio interm...</td>\n",
       "      <td></td>\n",
       "    </tr>\n",
       "    <tr>\n",
       "      <th>10</th>\n",
       "      <td>Neuroprotection Induced by Transplanted CDK5 Knockdown Astrocytes in Global Cerebral Ischemic Rats</td>\n",
       "      <td></td>\n",
       "    </tr>\n",
       "    <tr>\n",
       "      <th>11</th>\n",
       "      <td>Studies of a Quenched Cupola Part IV: Coke Behavior</td>\n",
       "      <td></td>\n",
       "    </tr>\n",
       "    <tr>\n",
       "      <th>12</th>\n",
       "      <td>AN APPROXIMATION TO A GEOGRAPHICAL AND TEMPORAL DISTRIBUTION OF METEOROID IMPACTS ON EARTH</td>\n",
       "      <td></td>\n",
       "    </tr>\n",
       "    <tr>\n",
       "      <th>13</th>\n",
       "      <td>Efficacy of Miltefosine for the Treatment of American Cutaneous Leishmaniasis</td>\n",
       "      <td></td>\n",
       "    </tr>\n",
       "    <tr>\n",
       "      <th>14</th>\n",
       "      <td>New insights into a complex fungal pathogen: the case of Paracoccidioides spp.</td>\n",
       "      <td></td>\n",
       "    </tr>\n",
       "    <tr>\n",
       "      <th>15</th>\n",
       "      <td>It only takes one to do many jobs: Amphotericin B as antifungal and immunomodulatory drug</td>\n",
       "      <td></td>\n",
       "    </tr>\n",
       "    <tr>\n",
       "      <th>16</th>\n",
       "      <td>An Epidemic Outbreak of Canine Cutaneous Leishmaniasis in Colombia Caused by Leishmania braziliensis and Leishmania panamensis</td>\n",
       "      <td></td>\n",
       "    </tr>\n",
       "    <tr>\n",
       "      <th>17</th>\n",
       "      <td>Improvement of emergency services using technological surveillance and competitive intelligence</td>\n",
       "      <td></td>\n",
       "    </tr>\n",
       "    <tr>\n",
       "      <th>18</th>\n",
       "      <td>An integrated map of genetic variation from 1,092 human genomes</td>\n",
       "      <td></td>\n",
       "    </tr>\n",
       "    <tr>\n",
       "      <th>19</th>\n",
       "      <td>Genome-Wide Linkage Scan of Bipolar Disorder in a Colombian Population Isolate Replicates Loci on Chromosomes 7p21-22, 1p31, 16p12 and 21q21-22 and Identifies a Novel Locus on Chromosome 12q</td>\n",
       "      <td></td>\n",
       "    </tr>\n",
       "    <tr>\n",
       "      <th>20</th>\n",
       "      <td>The Effect of Temperature and Support on the Reduction of Cobalt Oxide: An in Situ X-ray Diffraction Study</td>\n",
       "      <td></td>\n",
       "    </tr>\n",
       "    <tr>\n",
       "      <th>21</th>\n",
       "      <td>Domiciliation trend of Panstrongylus rufotuberculatus in Colombia</td>\n",
       "      <td>Domiciliation Trend of Panstrongylus rufotuberculatus in Colombia</td>\n",
       "    </tr>\n",
       "    <tr>\n",
       "      <th>22</th>\n",
       "      <td>Interleuquina-17: características, vías de diferenciación, señalización y funciones biológicas</td>\n",
       "      <td>Interleuquina-17: características, vías de diferenciación, señalización y funciones biológicas</td>\n",
       "    </tr>\n",
       "    <tr>\n",
       "      <th>23</th>\n",
       "      <td>Geometric morphometrics for the taxonomy of 11 species of Anopheles (Nyssorhynchus) mosquitoes</td>\n",
       "      <td></td>\n",
       "    </tr>\n",
       "    <tr>\n",
       "      <th>24</th>\n",
       "      <td>Comparison of Domain-Centered and Context-Centered Systems Functionalities</td>\n",
       "      <td></td>\n",
       "    </tr>\n",
       "    <tr>\n",
       "      <th>25</th>\n",
       "      <td>Ethnicity in systemic lupus erythematosus (SLE): its influence on susceptibility and outcomes</td>\n",
       "      <td></td>\n",
       "    </tr>\n",
       "    <tr>\n",
       "      <th>26</th>\n",
       "      <td>Insulin Resistance and Beat-to-Beat Cardiovascular Dynamics: A Constant Relationship Across Different Body Mass Index and Blood Pressure Categories</td>\n",
       "      <td></td>\n",
       "    </tr>\n",
       "    <tr>\n",
       "      <th>27</th>\n",
       "      <td>Convex Hexagonal Systems and Their Topological Indices</td>\n",
       "      <td></td>\n",
       "    </tr>\n",
       "    <tr>\n",
       "      <th>28</th>\n",
       "      <td>Características clínicas y ecocardiográficas de los derrames pericárdicos en pacientes del Hospital Universitario San Vicente de Paúl</td>\n",
       "      <td>Características clínicas y ecocardiográficas de los derrames pericárdicos en pacientes del Hospital Universitario San Vicente de Paúl</td>\n",
       "    </tr>\n",
       "    <tr>\n",
       "      <th>29</th>\n",
       "      <td>A DISCRETE HIERARCHY OF DOUBLE BRACKET EQUATIONS AND A CLASS OF NEGATIVE POWER SERIES</td>\n",
       "      <td></td>\n",
       "    </tr>\n",
       "    <tr>\n",
       "      <th>...</th>\n",
       "      <td>...</td>\n",
       "      <td>...</td>\n",
       "    </tr>\n",
       "    <tr>\n",
       "      <th>470</th>\n",
       "      <td>NEUROTOXINS FROM INVERTEBRATES AS ALTERNATIVE THERAPEUTIC AGENTS AND TOOLS IN BASIC RESEARCH</td>\n",
       "      <td></td>\n",
       "    </tr>\n",
       "    <tr>\n",
       "      <th>471</th>\n",
       "      <td>Rediseño geométrico del chasis de un patín de carreras sobre ruedas basado en sus esfuerzos dinámicos y análisis de fatiga</td>\n",
       "      <td>Rediseño geométrico del chasis de un patín de carreras sobre ruedas basado en sus esfuerzos dinámicos y análisis de fatiga</td>\n",
       "    </tr>\n",
       "    <tr>\n",
       "      <th>472</th>\n",
       "      <td>Multivariate Generalization of the Hypergeometric Function Type I Distribution</td>\n",
       "      <td></td>\n",
       "    </tr>\n",
       "    <tr>\n",
       "      <th>473</th>\n",
       "      <td>Diosgenone Synthesis, Anti-Malarial Activity and QSAR of Analogues of This Natural Product</td>\n",
       "      <td></td>\n",
       "    </tr>\n",
       "    <tr>\n",
       "      <th>474</th>\n",
       "      <td>Assessment of the water sorption properties of several microcrystalline celluloses</td>\n",
       "      <td></td>\n",
       "    </tr>\n",
       "    <tr>\n",
       "      <th>475</th>\n",
       "      <td>Determination of the IMF in the LMC stellar cluster NGC 2156</td>\n",
       "      <td>Determination of the IMF in the LMC stellar cluster NGC 2156</td>\n",
       "    </tr>\n",
       "    <tr>\n",
       "      <th>476</th>\n",
       "      <td>Partition-DFT on the water dimer</td>\n",
       "      <td></td>\n",
       "    </tr>\n",
       "    <tr>\n",
       "      <th>477</th>\n",
       "      <td>CAREPUNO, BOLA'E BILLAR AND BOQUITETROMPETA: MORPHOLOGIC AND PHONOLOGIC CHARACTERISATION OF THE N+DE+N CONSTRUCTIONS AS DYSPHEMISM IN THE SPANISH SPOKEN IN COLOMBIA</td>\n",
       "      <td>CAREPUÑO , BOLA'E BILLAR Y BOQUITETROMPETA: CARACTERIZACIÓN MORFOLÓGICA Y FONOLÓGICA DE LAS CONSTRUCCIONES N+DE+N DISFEMÍSTICAS EN EL ESPAÑOL HABLADO EN COLOMBIA</td>\n",
       "    </tr>\n",
       "    <tr>\n",
       "      <th>478</th>\n",
       "      <td>Heuristic column generation for the truck and trailer routing problem</td>\n",
       "      <td></td>\n",
       "    </tr>\n",
       "    <tr>\n",
       "      <th>479</th>\n",
       "      <td>Prevalencia de diabetes mellitus gestacional en una población de Medellín de 1999 - 2000: valor predictivo positivo de la prueba tamiz y comparación de los criterios de la NDDG y la ADA</td>\n",
       "      <td>Prevalencia de diabetes mellitus gestacional en una población de Medellín de 1999 - 2000: valor predictivo positivo de la prueba tamiz y comparación de los criterios de la NDDG y la ADA</td>\n",
       "    </tr>\n",
       "    <tr>\n",
       "      <th>480</th>\n",
       "      <td>Enzootic Stability of Bovine Babesiosis at Puerto Berrio Region, Colombia</td>\n",
       "      <td></td>\n",
       "    </tr>\n",
       "    <tr>\n",
       "      <th>481</th>\n",
       "      <td>Effect of the generation and physical-chemical characterization of swine and dairy cattle slurries on treatment technologies</td>\n",
       "      <td></td>\n",
       "    </tr>\n",
       "    <tr>\n",
       "      <th>482</th>\n",
       "      <td>Description of the mitochondrial serine transfer RNA (UCN) of Lutzomyia columbiana (Diptera, Psychodidac)</td>\n",
       "      <td>Descripción del ARN de transferencia mitocondrial para Serina (UCN) de Lutzomyia columbiana (Diptera, Psychodidae)</td>\n",
       "    </tr>\n",
       "    <tr>\n",
       "      <th>483</th>\n",
       "      <td>Global Selection of Features for Nonlinear Dynamics Characterization of Emotional Speech</td>\n",
       "      <td></td>\n",
       "    </tr>\n",
       "    <tr>\n",
       "      <th>484</th>\n",
       "      <td>Interband emission energy in a dilute nitride quaternary semiconductor quantum dot for longer wavelength applications</td>\n",
       "      <td></td>\n",
       "    </tr>\n",
       "    <tr>\n",
       "      <th>485</th>\n",
       "      <td>Outbreak of Mesotherapy-Associated Cutaneous Infections Caused by Mycobacterium chelonae in Colombia</td>\n",
       "      <td></td>\n",
       "    </tr>\n",
       "    <tr>\n",
       "      <th>486</th>\n",
       "      <td>Measurement of activity coefficients at infinite dilution for acetonitrile, water, limonene, limonene epoxide and their binary pairs</td>\n",
       "      <td></td>\n",
       "    </tr>\n",
       "    <tr>\n",
       "      <th>487</th>\n",
       "      <td>Caracterización del aceite microencapsulado de cardamomo (Elettaria cardamomum) extraído por fluidos supercríticos a escala semi-industrial</td>\n",
       "      <td>Caracterización del aceite microencapsulado de cardamomo (Elettaria cardamomum) extraído por fluidos supercríticos a escala semi-industrial</td>\n",
       "    </tr>\n",
       "    <tr>\n",
       "      <th>488</th>\n",
       "      <td>Kidney graft survival in patients with hepatitis C: a single center experience</td>\n",
       "      <td></td>\n",
       "    </tr>\n",
       "    <tr>\n",
       "      <th>489</th>\n",
       "      <td>Contribution to the taxonomy of the family Membracidae Rafinesque (Hemiptera: Auchenorrhyncha) in Colombia</td>\n",
       "      <td></td>\n",
       "    </tr>\n",
       "    <tr>\n",
       "      <th>490</th>\n",
       "      <td>Decolorization of textile wastewater using the white rot fungi anamorph R1 of Bjerkandera sp.</td>\n",
       "      <td>Decoloración de aguas residuales textiles utilizando el hongo ligninolítico anamorfo R1 de Bjerkandera sp</td>\n",
       "    </tr>\n",
       "    <tr>\n",
       "      <th>491</th>\n",
       "      <td>Mesangial proliferative glomerulonephritis: A glomerular disease or a non-specific morphological change?</td>\n",
       "      <td></td>\n",
       "    </tr>\n",
       "    <tr>\n",
       "      <th>492</th>\n",
       "      <td>Milking and Partial Characterization of Pamphobeteus spp (Aranae; Theraphosidae) Venom, from the Colombian Andean Region</td>\n",
       "      <td></td>\n",
       "    </tr>\n",
       "    <tr>\n",
       "      <th>493</th>\n",
       "      <td>Double blind, randomized controlled trial, to evaluate the effectiveness of a controlled nitric oxide releasing patch versus meglumine antimoniate in the treatment of cutaneous leishmaniasis [NCT0...</td>\n",
       "      <td></td>\n",
       "    </tr>\n",
       "    <tr>\n",
       "      <th>494</th>\n",
       "      <td>Phenotypically Divergences of Monocyte Subsets and Microparticles in Systemic Lupus Erythematosus Patients</td>\n",
       "      <td></td>\n",
       "    </tr>\n",
       "    <tr>\n",
       "      <th>495</th>\n",
       "      <td>Optimización de la Producción de Alquil Ésteres a partir de Aceite de Palma, empleando la Metodología de Superficie de Respuesta</td>\n",
       "      <td>Optimización de la Producción de Alquil Ésteres a partir de Aceite de Palma, empleando la Metodología de Superficie de Respuesta</td>\n",
       "    </tr>\n",
       "    <tr>\n",
       "      <th>496</th>\n",
       "      <td>Illustrated text or textualized images An approach to Papel Periodico Ilustrado since the relationship between art and literature</td>\n",
       "      <td></td>\n",
       "    </tr>\n",
       "    <tr>\n",
       "      <th>497</th>\n",
       "      <td>Interleukin 13: A new cytokine with properties similar to those of interleukin 4 [INTERLEUQUINA 13: UNA NUEVA CITOQUINA CON PROPIEDADES SIMILARES A LA INTERLEUQUINA 4]</td>\n",
       "      <td></td>\n",
       "    </tr>\n",
       "    <tr>\n",
       "      <th>498</th>\n",
       "      <td>Facial linear erythema in a child [Eritema lineal facial en un niño]</td>\n",
       "      <td></td>\n",
       "    </tr>\n",
       "    <tr>\n",
       "      <th>499</th>\n",
       "      <td>Paul valéry: Paradoxes and challenges of art in the modern economic system [Paul valéry: Paradojas y desafíos del arte en el sistema económico modern]</td>\n",
       "      <td></td>\n",
       "    </tr>\n",
       "  </tbody>\n",
       "</table>\n",
       "<p>500 rows × 2 columns</p>\n",
       "</div>"
      ],
      "text/plain": [
       "                                                                                                                                                                                                          TI  \\\n",
       "0                                                                                                  High initial multidrug-resistant tuberculosis rate in Buenaventura, Colombia: a public-private initiative   \n",
       "1                                                                                                         4-Phenylphenalenones as a template for new photodynamic compounds against Mycosphaerella fijiensis   \n",
       "2                                                                                                                                          Tratamiento conservador en pacientes con retinoblastoma bilateral   \n",
       "3                                                                                                                                        Microsolvation of NO3-: structural exploration and bonding analysis   \n",
       "4                                               Short communication: Increased expression of secretory leukocyte protease inhibitor in oral mucosa of Colombian HIV type 1-exposed seronegative individuals.   \n",
       "5                                                                                           Validez y confiabilidad del 'Cuestionario de calidad de vida KIDSCREEN-27' versión padres, en Medellín, Colombia   \n",
       "6                                                                                                                                     Prevalencia de neurocisticercosis en individuos afectados de epilepsia   \n",
       "7                                                                                                                Alternative Oxidase Mediates Pathogen Resistance in Paracoccidioides brasiliensis Infection   \n",
       "8                Efficacy and safety of two whole IgG polyvalent antivenoms, refined by caprylic acid fractionation with or without beta-propiolactone, in the treatment of Bothrops asper bites in Colombia   \n",
       "9    Effect of a high-intensity intermittent exercise session on concentrations of circulating musclin in adults with metabolic syndrome and insulin resistance [Efecto de una sesión de ejercicio interm...   \n",
       "10                                                                                                        Neuroprotection Induced by Transplanted CDK5 Knockdown Astrocytes in Global Cerebral Ischemic Rats   \n",
       "11                                                                                                                                                       Studies of a Quenched Cupola Part IV: Coke Behavior   \n",
       "12                                                                                                                AN APPROXIMATION TO A GEOGRAPHICAL AND TEMPORAL DISTRIBUTION OF METEOROID IMPACTS ON EARTH   \n",
       "13                                                                                                                             Efficacy of Miltefosine for the Treatment of American Cutaneous Leishmaniasis   \n",
       "14                                                                                                                            New insights into a complex fungal pathogen: the case of Paracoccidioides spp.   \n",
       "15                                                                                                                 It only takes one to do many jobs: Amphotericin B as antifungal and immunomodulatory drug   \n",
       "16                                                                            An Epidemic Outbreak of Canine Cutaneous Leishmaniasis in Colombia Caused by Leishmania braziliensis and Leishmania panamensis   \n",
       "17                                                                                                           Improvement of emergency services using technological surveillance and competitive intelligence   \n",
       "18                                                                                                                                           An integrated map of genetic variation from 1,092 human genomes   \n",
       "19            Genome-Wide Linkage Scan of Bipolar Disorder in a Colombian Population Isolate Replicates Loci on Chromosomes 7p21-22, 1p31, 16p12 and 21q21-22 and Identifies a Novel Locus on Chromosome 12q   \n",
       "20                                                                                                The Effect of Temperature and Support on the Reduction of Cobalt Oxide: An in Situ X-ray Diffraction Study   \n",
       "21                                                                                                                                         Domiciliation trend of Panstrongylus rufotuberculatus in Colombia   \n",
       "22                                                                                                            Interleuquina-17: características, vías de diferenciación, señalización y funciones biológicas   \n",
       "23                                                                                                            Geometric morphometrics for the taxonomy of 11 species of Anopheles (Nyssorhynchus) mosquitoes   \n",
       "24                                                                                                                                Comparison of Domain-Centered and Context-Centered Systems Functionalities   \n",
       "25                                                                                                             Ethnicity in systemic lupus erythematosus (SLE): its influence on susceptibility and outcomes   \n",
       "26                                                       Insulin Resistance and Beat-to-Beat Cardiovascular Dynamics: A Constant Relationship Across Different Body Mass Index and Blood Pressure Categories   \n",
       "27                                                                                                                                                    Convex Hexagonal Systems and Their Topological Indices   \n",
       "28                                                                     Características clínicas y ecocardiográficas de los derrames pericárdicos en pacientes del Hospital Universitario San Vicente de Paúl   \n",
       "29                                                                                                                     A DISCRETE HIERARCHY OF DOUBLE BRACKET EQUATIONS AND A CLASS OF NEGATIVE POWER SERIES   \n",
       "..                                                                                                                                                                                                       ...   \n",
       "470                                                                                                             NEUROTOXINS FROM INVERTEBRATES AS ALTERNATIVE THERAPEUTIC AGENTS AND TOOLS IN BASIC RESEARCH   \n",
       "471                                                                               Rediseño geométrico del chasis de un patín de carreras sobre ruedas basado en sus esfuerzos dinámicos y análisis de fatiga   \n",
       "472                                                                                                                           Multivariate Generalization of the Hypergeometric Function Type I Distribution   \n",
       "473                                                                                                               Diosgenone Synthesis, Anti-Malarial Activity and QSAR of Analogues of This Natural Product   \n",
       "474                                                                                                                       Assessment of the water sorption properties of several microcrystalline celluloses   \n",
       "475                                                                                                                                             Determination of the IMF in the LMC stellar cluster NGC 2156   \n",
       "476                                                                                                                                                                         Partition-DFT on the water dimer   \n",
       "477                                     CAREPUNO, BOLA'E BILLAR AND BOQUITETROMPETA: MORPHOLOGIC AND PHONOLOGIC CHARACTERISATION OF THE N+DE+N CONSTRUCTIONS AS DYSPHEMISM IN THE SPANISH SPOKEN IN COLOMBIA   \n",
       "478                                                                                                                                    Heuristic column generation for the truck and trailer routing problem   \n",
       "479                Prevalencia de diabetes mellitus gestacional en una población de Medellín de 1999 - 2000: valor predictivo positivo de la prueba tamiz y comparación de los criterios de la NDDG y la ADA   \n",
       "480                                                                                                                                Enzootic Stability of Bovine Babesiosis at Puerto Berrio Region, Colombia   \n",
       "481                                                                             Effect of the generation and physical-chemical characterization of swine and dairy cattle slurries on treatment technologies   \n",
       "482                                                                                                Description of the mitochondrial serine transfer RNA (UCN) of Lutzomyia columbiana (Diptera, Psychodidac)   \n",
       "483                                                                                                                 Global Selection of Features for Nonlinear Dynamics Characterization of Emotional Speech   \n",
       "484                                                                                    Interband emission energy in a dilute nitride quaternary semiconductor quantum dot for longer wavelength applications   \n",
       "485                                                                                                     Outbreak of Mesotherapy-Associated Cutaneous Infections Caused by Mycobacterium chelonae in Colombia   \n",
       "486                                                                     Measurement of activity coefficients at infinite dilution for acetonitrile, water, limonene, limonene epoxide and their binary pairs   \n",
       "487                                                              Caracterización del aceite microencapsulado de cardamomo (Elettaria cardamomum) extraído por fluidos supercríticos a escala semi-industrial   \n",
       "488                                                                                                                           Kidney graft survival in patients with hepatitis C: a single center experience   \n",
       "489                                                                                               Contribution to the taxonomy of the family Membracidae Rafinesque (Hemiptera: Auchenorrhyncha) in Colombia   \n",
       "490                                                                                                            Decolorization of textile wastewater using the white rot fungi anamorph R1 of Bjerkandera sp.   \n",
       "491                                                                                                 Mesangial proliferative glomerulonephritis: A glomerular disease or a non-specific morphological change?   \n",
       "492                                                                                 Milking and Partial Characterization of Pamphobeteus spp (Aranae; Theraphosidae) Venom, from the Colombian Andean Region   \n",
       "493  Double blind, randomized controlled trial, to evaluate the effectiveness of a controlled nitric oxide releasing patch versus meglumine antimoniate in the treatment of cutaneous leishmaniasis [NCT0...   \n",
       "494                                                                                               Phenotypically Divergences of Monocyte Subsets and Microparticles in Systemic Lupus Erythematosus Patients   \n",
       "495                                                                         Optimización de la Producción de Alquil Ésteres a partir de Aceite de Palma, empleando la Metodología de Superficie de Respuesta   \n",
       "496                                                                        Illustrated text or textualized images An approach to Papel Periodico Ilustrado since the relationship between art and literature   \n",
       "497                                  Interleukin 13: A new cytokine with properties similar to those of interleukin 4 [INTERLEUQUINA 13: UNA NUEVA CITOQUINA CON PROPIEDADES SIMILARES A LA INTERLEUQUINA 4]   \n",
       "498                                                                                                                                     Facial linear erythema in a child [Eritema lineal facial en un niño]   \n",
       "499                                                   Paul valéry: Paradoxes and challenges of art in the modern economic system [Paul valéry: Paradojas y desafíos del arte en el sistema económico modern]   \n",
       "\n",
       "                                                                                                                                                                                        SCI_TI  \n",
       "0                                                                                                                                                                                               \n",
       "1                                                                                                                                                                                               \n",
       "2                                                                                                                            Tratamiento conservador en pacientes con retinoblastoma bilateral  \n",
       "3                                                                                                                                                                                               \n",
       "4                                                                                                                                                                                               \n",
       "5                                                                             Validez y confiabilidad del 'Cuestionario de calidad de vida KIDSCREEN-27' versión padres, en Medellín, Colombia  \n",
       "6                                                                                                                                                                                               \n",
       "7                                                                                                                                                                                               \n",
       "8                                                                                                                                                                                               \n",
       "9                                                                                                                                                                                               \n",
       "10                                                                                                                                                                                              \n",
       "11                                                                                                                                                                                              \n",
       "12                                                                                                                                                                                              \n",
       "13                                                                                                                                                                                              \n",
       "14                                                                                                                                                                                              \n",
       "15                                                                                                                                                                                              \n",
       "16                                                                                                                                                                                              \n",
       "17                                                                                                                                                                                              \n",
       "18                                                                                                                                                                                              \n",
       "19                                                                                                                                                                                              \n",
       "20                                                                                                                                                                                              \n",
       "21                                                                                                                           Domiciliation Trend of Panstrongylus rufotuberculatus in Colombia  \n",
       "22                                                                                              Interleuquina-17: características, vías de diferenciación, señalización y funciones biológicas  \n",
       "23                                                                                                                                                                                              \n",
       "24                                                                                                                                                                                              \n",
       "25                                                                                                                                                                                              \n",
       "26                                                                                                                                                                                              \n",
       "27                                                                                                                                                                                              \n",
       "28                                                       Características clínicas y ecocardiográficas de los derrames pericárdicos en pacientes del Hospital Universitario San Vicente de Paúl  \n",
       "29                                                                                                                                                                                              \n",
       "..                                                                                                                                                                                         ...  \n",
       "470                                                                                                                                                                                             \n",
       "471                                                                 Rediseño geométrico del chasis de un patín de carreras sobre ruedas basado en sus esfuerzos dinámicos y análisis de fatiga  \n",
       "472                                                                                                                                                                                             \n",
       "473                                                                                                                                                                                             \n",
       "474                                                                                                                                                                                             \n",
       "475                                                                                                                               Determination of the IMF in the LMC stellar cluster NGC 2156  \n",
       "476                                                                                                                                                                                             \n",
       "477                          CAREPUÑO , BOLA'E BILLAR Y BOQUITETROMPETA: CARACTERIZACIÓN MORFOLÓGICA Y FONOLÓGICA DE LAS CONSTRUCCIONES N+DE+N DISFEMÍSTICAS EN EL ESPAÑOL HABLADO EN COLOMBIA  \n",
       "478                                                                                                                                                                                             \n",
       "479  Prevalencia de diabetes mellitus gestacional en una población de Medellín de 1999 - 2000: valor predictivo positivo de la prueba tamiz y comparación de los criterios de la NDDG y la ADA  \n",
       "480                                                                                                                                                                                             \n",
       "481                                                                                                                                                                                             \n",
       "482                                                                         Descripción del ARN de transferencia mitocondrial para Serina (UCN) de Lutzomyia columbiana (Diptera, Psychodidae)  \n",
       "483                                                                                                                                                                                             \n",
       "484                                                                                                                                                                                             \n",
       "485                                                                                                                                                                                             \n",
       "486                                                                                                                                                                                             \n",
       "487                                                Caracterización del aceite microencapsulado de cardamomo (Elettaria cardamomum) extraído por fluidos supercríticos a escala semi-industrial  \n",
       "488                                                                                                                                                                                             \n",
       "489                                                                                                                                                                                             \n",
       "490                                                                                  Decoloración de aguas residuales textiles utilizando el hongo ligninolítico anamorfo R1 de Bjerkandera sp  \n",
       "491                                                                                                                                                                                             \n",
       "492                                                                                                                                                                                             \n",
       "493                                                                                                                                                                                             \n",
       "494                                                                                                                                                                                             \n",
       "495                                                           Optimización de la Producción de Alquil Ésteres a partir de Aceite de Palma, empleando la Metodología de Superficie de Respuesta  \n",
       "496                                                                                                                                                                                             \n",
       "497                                                                                                                                                                                             \n",
       "498                                                                                                                                                                                             \n",
       "499                                                                                                                                                                                             \n",
       "\n",
       "[500 rows x 2 columns]"
      ]
     },
     "execution_count": 175,
     "metadata": {},
     "output_type": "execute_result"
    }
   ],
   "source": [
    "kkold[['TI','SCI_TI']].dropna()"
   ]
  },
  {
   "cell_type": "code",
   "execution_count": 176,
   "metadata": {},
   "outputs": [],
   "source": [
    "import time "
   ]
  },
  {
   "cell_type": "code",
   "execution_count": 177,
   "metadata": {},
   "outputs": [
    {
     "name": "stdout",
     "output_type": "stream",
     "text": [
      ".....505.96520495414734\n"
     ]
    }
   ],
   "source": [
    "s=time.time()\n",
    "kkold=merge_with_close_matches_old(cib.biblio['WOS'][['TI','SO']],drive_files.biblio['UDEA'][['UDEA_título',\n",
    "                                                            'UDEA_nombre revista o premio']],\n",
    "                            left_on='TI',left_extra_on='SO',right_on='UDEA_título',\n",
    "                            right_extra_on='UDEA_nombre revista o premio',how='left')\n",
    "print(time.time()-s)"
   ]
  },
  {
   "cell_type": "code",
   "execution_count": 178,
   "metadata": {},
   "outputs": [
    {
     "name": "stdout",
     "output_type": "stream",
     "text": [
      ".....781.4975967407227\n"
     ]
    }
   ],
   "source": [
    "s=time.time()\n",
    "kknew=merge_with_close_matches_new(cib.biblio['WOS'][['TI','SO']],drive_files.biblio['UDEA'][['UDEA_título',\n",
    "                                                            'UDEA_nombre revista o premio']],\n",
    "                            left_on='TI',left_extra_on='SO',right_on='UDEA_título',\n",
    "                            right_extra_on='UDEA_nombre revista o premio',how='left')\n",
    "print(time.time()-s)"
   ]
  },
  {
   "cell_type": "code",
   "execution_count": null,
   "metadata": {},
   "outputs": [],
   "source": [
    ".................."
   ]
  },
  {
   "cell_type": "code",
   "execution_count": 179,
   "metadata": {},
   "outputs": [
    {
     "data": {
      "text/plain": [
       "((291,), (286,))"
      ]
     },
     "execution_count": 179,
     "metadata": {},
     "output_type": "execute_result"
    }
   ],
   "source": [
    "(kkold['UDEA_título'].apply(lambda s: s if s else pd.np.nan).dropna().shape,\n",
    " kknew['UDEA_título'].apply(lambda s: s if s else pd.np.nan).dropna().shape)"
   ]
  },
  {
   "cell_type": "code",
   "execution_count": null,
   "metadata": {},
   "outputs": [],
   "source": []
  }
 ],
 "metadata": {
  "colab": {
   "include_colab_link": true,
   "name": "merge.ipynb",
   "provenance": [],
   "version": "0.3.2"
  },
  "kernelspec": {
   "display_name": "Python 3",
   "language": "python",
   "name": "python3"
  },
  "language_info": {
   "codemirror_mode": {
    "name": "ipython",
    "version": 3
   },
   "file_extension": ".py",
   "mimetype": "text/x-python",
   "name": "python",
   "nbconvert_exporter": "python",
   "pygments_lexer": "ipython3",
   "version": "3.5.3"
  },
  "latex_envs": {
   "LaTeX_envs_menu_present": true,
   "autoclose": false,
   "autocomplete": true,
   "bibliofile": "biblio.bib",
   "cite_by": "apalike",
   "current_citInitial": 1,
   "eqLabelWithNumbers": true,
   "eqNumInitial": 1,
   "hotkeys": {
    "equation": "Ctrl-E",
    "itemize": "Ctrl-I"
   },
   "labels_anchors": false,
   "latex_user_defs": false,
   "report_style_numbering": false,
   "user_envs_cfg": false
  }
 },
 "nbformat": 4,
 "nbformat_minor": 2
}
