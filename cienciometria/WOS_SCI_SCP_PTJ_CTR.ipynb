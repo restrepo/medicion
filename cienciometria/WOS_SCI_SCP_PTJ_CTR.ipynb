{
 "cells": [
  {
   "cell_type": "markdown",
   "metadata": {
    "colab_type": "text",
    "id": "view-in-github"
   },
   "source": [
    "<a href=\"https://colab.research.google.com/github/restrepo/medicion/blob/master/cienciometria/WOS_SCI_SCP_PTJ_CTR.ipynb\" target=\"_parent\"><img src=\"https://colab.research.google.com/assets/colab-badge.svg\" alt=\"Open In Colab\"/></a>"
   ]
  },
  {
   "cell_type": "markdown",
   "metadata": {
    "colab_type": "text",
    "id": "aDnqho-CsEwj"
   },
   "source": [
    "# WOS+SCI+SCP+PTJ+CTR"
   ]
  },
  {
   "cell_type": "markdown",
   "metadata": {},
   "source": [
    "Merge the bibliographic datasets for \n",
    "* Web of Science (WOS), \n",
    "* Scielo (SCI)\n",
    "* Scopus  (SCP)\n",
    "* Puntaje (UDEA)\n",
    "* Center (CTR)\n",
    "of the scientific articles of Universidad de Antioquia\n",
    "\n",
    "For details see [merge.ipynb in Colaboratory](https://colab.research.google.com/github/restrepo/medicion/blob/master/cienciometria/merge.ipynb)\n",
    "\n",
    "Implementation:\n",
    "The input pure o partially processed database with WOS-SCI-SCP and may be some UDEA entries from PTJ and Center information with additional data about the Full Name UDEA authors.\n",
    "\n",
    "Addtionaly UDEA entries can be captured from:\n",
    "1. A previous WOS-SCI-SCP-UDEA\n",
    "2. A Data Base with a column with full names (FULL LAST NAMES NAMES, e.g VALDEZ GÚZMAN JUAN ALBERTO) and a list of author Aliases in WOS format (Lastname, Name, e.g Valdez-Gúzman, J.A.) with a list of registered affiliations. TODO: Test\n",
    "3. The database from Puntaje (UDEA). "
   ]
  },
  {
   "cell_type": "code",
   "execution_count": 2,
   "metadata": {},
   "outputs": [],
   "source": [
    "import os\n",
    "VERSION='NEW'\n",
    "if os.getcwd()=='/content':\n",
    "    !pip install openpyxl xlrd wosplus > /dev/null"
   ]
  },
  {
   "cell_type": "code",
   "execution_count": 3,
   "metadata": {},
   "outputs": [],
   "source": [
    "# Delete UDEA_columns and start from schratch\n",
    "REBUILD=False\n",
    "MERGE_WITH_TRAINED=False"
   ]
  },
  {
   "cell_type": "markdown",
   "metadata": {},
   "source": [
    "## functions"
   ]
  },
  {
   "cell_type": "code",
   "execution_count": 4,
   "metadata": {
    "colab": {},
    "colab_type": "code",
    "id": "nhk2ZGEDd2Yo"
   },
   "outputs": [],
   "source": [
    "import pandas as pd\n",
    "import wosplus as wp\n",
    "pd.set_option('display.max_colwidth',200)"
   ]
  },
  {
   "cell_type": "code",
   "execution_count": 5,
   "metadata": {},
   "outputs": [],
   "source": [
    "# %load wos_sci_scp_ptj_ctr.py"
   ]
  },
  {
   "cell_type": "code",
   "execution_count": 6,
   "metadata": {},
   "outputs": [],
   "source": [
    "from wos_sci_scp_ptj_ctr import *"
   ]
  },
  {
   "cell_type": "markdown",
   "metadata": {
    "colab_type": "text",
    "heading_collapsed": true,
    "id": "JS7jD1f47JUN"
   },
   "source": [
    "##  Configure public links of  files in Google Drive\n",
    "* If it is a Google Spreadsheet the corresponding file is downloaded as CSV\n",
    "* If it is in excel or text file the file is downloaded  directly\n",
    "\n",
    "To define your  own labeled IDs for public google drive files edit the next cell:"
   ]
  },
  {
   "cell_type": "code",
   "execution_count": 7,
   "metadata": {
    "colab": {
     "base_uri": "https://localhost:8080/",
     "height": 35
    },
    "colab_type": "code",
    "hidden": true,
    "id": "T4Rmd2dF7JUQ",
    "outputId": "39a5835e-1b38-48b6-f1a5-e9964c846123"
   },
   "outputs": [
    {
     "name": "stdout",
     "output_type": "stream",
     "text": [
      "Overwriting drive.cfg\n"
     ]
    }
   ],
   "source": [
    "%%writefile drive.cfg\n",
    "[FILES]\n",
    "WOS_SCI_SCP_PTJ_CTR.json.gz=19E1C1kRk4I0V3uXojqko8-NEicWaPp1j\n",
    "WOS_SCP_UDEA_SJR_SIU.xlsx=0BxoOXsn2EUNIQ3R4WDhvSzVLQ2s\n",
    "Base_de_datos_investigadores_Definitiva.csv=12oalgUeKhpvzkTPBP8pXCeHTrF-KO223dy9ov9w9QKs\n",
    "UDEA_authors_with_WOS_info.json=1o1eVT4JD0FMMICq_oxrTJOzWh47veBMw\n",
    "produccion_fecha_vig_2003_2018.xlsx=1WbtX4K__TTLxXRjuLvqUYz9tuHCIlS5v\n",
    "UDEA_WOS_SCI_SCP_PTJ.json=1OkVytKbxJwGvXZDkynkSoUDtkUOTaT4A"
   ]
  },
  {
   "cell_type": "markdown",
   "metadata": {
    "colab_type": "text",
    "id": "Y0D0hEdAMXUX"
   },
   "source": [
    "##  Load data bases"
   ]
  },
  {
   "cell_type": "code",
   "execution_count": 8,
   "metadata": {
    "colab": {
     "base_uri": "https://localhost:8080/",
     "height": 35
    },
    "colab_type": "code",
    "id": "occzrIeCS7aQ",
    "outputId": "17b144f3-eef0-4c8a-c2b4-10c8fe55802c"
   },
   "outputs": [],
   "source": [
    "affil='Univ Antioquia'\n",
    "drive_files=wp.wosplus('drive.cfg')"
   ]
  },
  {
   "cell_type": "markdown",
   "metadata": {},
   "source": [
    "#### DEBUG: if False stop in UDEA_PTJ!!!!"
   ]
  },
  {
   "cell_type": "markdown",
   "metadata": {
    "colab": {},
    "colab_type": "code",
    "id": "oq9QM3cBYH0a"
   },
   "source": [
    "if os.path.exists(UDEAjsonfile):\n",
    "    UDEA=               pd.read_json(UDEAjsonfile,compression='gzip').reset_index(drop=True)\n",
    "else:    \n",
    "    UDEA=drive_files.read_drive_json(UDEAjsonfile,compression='gzip').reset_index(drop=True)"
   ]
  },
  {
   "cell_type": "code",
   "execution_count": 726,
   "metadata": {},
   "outputs": [
    {
     "name": "stdout",
     "output_type": "stream",
     "text": [
      "WARNING: Biblio already has a \"Tipo\" column\n"
     ]
    }
   ],
   "source": [
    "RECOVER=True #False for test purposes\n",
    "UDEAjsonfile='WOS_SCI_SCP_PTJ_CTR.json.gz'\n",
    "#Test purposes\n",
    "#UDEAjsonfile='UDEA_WOS_SCI_SCP_PTJ.json'\n",
    "if RECOVER:\n",
    "    #Requieres latest wosplus!\n",
    "    tmp=drive_files.load_biblio(UDEAjsonfile,compression='gzip')# TODO CHANGE FOR LAST VERSION IN GOOGLE DRIVE\n",
    "else:\n",
    "    tmp=drive_files.load_biblio('UDEAtmp.json')\n",
    "    #drive_files.load_biblio(\n",
    "    #  'https://raw.githubusercontent.com/restrepo/medicion/master/cienciometria/data/UDEAtmp300.json'\n",
    "    #    )#Test: 199+1=200 found\n",
    "    \n",
    "UDEA=drive_files.biblio['WOS'].reset_index(drop=True)\n",
    "#DEBUG\n",
    "#UDEA=UDEA.sample(300,replace=True).reset_index(drop=True) #Test: 77 found\n",
    "#tmp=drive_files.load_biblio('Sample_WOS.xlsx')"
   ]
  },
  {
   "cell_type": "code",
   "execution_count": 84,
   "metadata": {},
   "outputs": [],
   "source": [
    "if REBUILD:\n",
    "    UDEA=clean_institutional_columns(UDEA,prefix='UDEA',Tipo='Tipo')\n",
    "    UDEA['UDEA_authors']=None\n"
   ]
  },
  {
   "cell_type": "code",
   "execution_count": 727,
   "metadata": {
    "scrolled": true
   },
   "outputs": [
    {
     "name": "stdout",
     "output_type": "stream",
     "text": [
      "WOS_SCP_UDEA:1043\n",
      "SCI:2258\n",
      "WOS:1541\n",
      "SCP:2112\n",
      "WOS_SCP:4777\n",
      "WOS_SCI_SCP:557\n",
      "SCI_SCP:1116\n",
      "WOS_UDEA:343\n",
      "SCI_SCP_UDEA:500\n",
      "SCI_UDEA:634\n",
      "SCP_UDEA:461\n",
      "WOS_SCI_SCP_UDEA:211\n",
      "WOS_SCI_UDEA:47\n",
      "WOS_SCI:100\n"
     ]
    }
   ],
   "source": [
    "for t in UDEA.Tipo.unique():\n",
    "    print( '{}:{}'.format( t, UDEA[ UDEA.Tipo==t].shape[0] ) )"
   ]
  },
  {
   "cell_type": "code",
   "execution_count": 728,
   "metadata": {},
   "outputs": [
    {
     "data": {
      "text/plain": [
       "(15700, 181)"
      ]
     },
     "execution_count": 728,
     "metadata": {},
     "output_type": "execute_result"
    }
   ],
   "source": [
    "UDEA.shape"
   ]
  },
  {
   "cell_type": "markdown",
   "metadata": {
    "heading_collapsed": true
   },
   "source": [
    "## Load trained old data "
   ]
  },
  {
   "cell_type": "markdown",
   "metadata": {
    "heading_collapsed": true
   },
   "source": [
    "### Merge WOS_SCP_SCI with trained data set PTJ_CTR"
   ]
  },
  {
   "cell_type": "markdown",
   "metadata": {
    "hidden": true
   },
   "source": [
    "Merge requires split in DI and TI\n",
    "\n",
    "\n",
    "15700 (15700, 152)\n",
    "(7072, 169) (8628, 169)"
   ]
  },
  {
   "cell_type": "code",
   "execution_count": 730,
   "metadata": {},
   "outputs": [],
   "source": [
    "SIU=drive_files.read_drive_excel('WOS_SCP_UDEA_SJR_SIU.xlsx')"
   ]
  },
  {
   "cell_type": "code",
   "execution_count": 87,
   "metadata": {
    "hidden": true
   },
   "outputs": [],
   "source": [
    "if MERGE_WITH_TRAINED:\n",
    "    if os.path.exists('WOS_SCP_UDEA_SJR_SIU.xlsx'):\n",
    "        SIU=pd.read_excel('WOS_SCP_UDEA_SJR_SIU.xlsx')\n",
    "    else:    \n",
    "        SIU=drive_files.read_drive_excel('WOS_SCP_UDEA_SJR_SIU.xlsx')\n",
    "        \n",
    "    UDEA,SIU=fill_trained_data(UDEA,SIU)#TODO: Remnove SIU"
   ]
  },
  {
   "cell_type": "code",
   "execution_count": 88,
   "metadata": {},
   "outputs": [],
   "source": [
    "if MERGE_WITH_TRAINED:\n",
    "    UDEA.to_json('UDEAtmp.json')\n",
    "    RECOVER=False\n",
    "    if RECOVER:\n",
    "        UDEA=pd.read_json('UDEAtmp.json').reset_index(drop=True)"
   ]
  },
  {
   "cell_type": "code",
   "execution_count": 89,
   "metadata": {},
   "outputs": [],
   "source": [
    "if 'UDEA_autores' in UDEA.columns and UDEA[UDEA['UDEA_autores']==''].shape[0]:\n",
    "    UDEA['UDEA_autores']=UDEA['UDEA_autores'].apply(lambda s: pd.np.nan if type(s)==str and s=='' else s)"
   ]
  },
  {
   "cell_type": "code",
   "execution_count": 90,
   "metadata": {},
   "outputs": [
    {
     "name": "stdout",
     "output_type": "stream",
     "text": [
      "0 10311\n"
     ]
    }
   ],
   "source": [
    "if 'UDEA_autores' in UDEA.columns:\n",
    "    print(UDEA[UDEA['UDEA_autores']==''].shape[0],UDEA['UDEA_autores'].dropna().shape[0])"
   ]
  },
  {
   "cell_type": "markdown",
   "metadata": {},
   "source": [
    "# Puntaje"
   ]
  },
  {
   "cell_type": "markdown",
   "metadata": {},
   "source": [
    "UDEA"
   ]
  },
  {
   "cell_type": "code",
   "execution_count": 91,
   "metadata": {},
   "outputs": [],
   "source": [
    "qq=UDEA.copy()"
   ]
  },
  {
   "cell_type": "code",
   "execution_count": 92,
   "metadata": {},
   "outputs": [
    {
     "data": {
      "text/plain": [
       "(15700, 181)"
      ]
     },
     "execution_count": 92,
     "metadata": {},
     "output_type": "execute_result"
    }
   ],
   "source": [
    "drive_files.biblio['WOS']=qq\n",
    "drive_files.biblio['WOS'].shape"
   ]
  },
  {
   "cell_type": "code",
   "execution_count": 93,
   "metadata": {},
   "outputs": [],
   "source": [
    "tmp=drive_files.load_biblio('produccion_fecha_vig_2003_2018.xlsx',prefix='UDEA')"
   ]
  },
  {
   "cell_type": "code",
   "execution_count": 94,
   "metadata": {},
   "outputs": [],
   "source": [
    "pp= drive_files.biblio['UDEA'].copy()"
   ]
  },
  {
   "cell_type": "code",
   "execution_count": 95,
   "metadata": {},
   "outputs": [],
   "source": [
    "drive_files.biblio['UDEA']=pp"
   ]
  },
  {
   "cell_type": "code",
   "execution_count": 96,
   "metadata": {},
   "outputs": [
    {
     "name": "stdout",
     "output_type": "stream",
     "text": [
      "(32581, 24)\n",
      "va1 0 0\n",
      "......................................................"
     ]
    },
    {
     "name": "stderr",
     "output_type": "stream",
     "text": [
      "/usr/local/lib/python3.5/dist-packages/pandas/core/frame.py:6692: FutureWarning: Sorting because non-concatenation axis is not aligned. A future version\n",
      "of pandas will change to not sort by default.\n",
      "\n",
      "To accept the future behavior, pass 'sort=False'.\n",
      "\n",
      "To retain the current behavior and silence the warning, pass 'sort=True'.\n",
      "\n",
      "  sort=sort)\n"
     ]
    },
    {
     "name": "stdout",
     "output_type": "stream",
     "text": [
      "7258 : 5388 + 1 = 5389\n",
      "va2 0 5388\n",
      "......................................................"
     ]
    },
    {
     "name": "stderr",
     "output_type": "stream",
     "text": [
      "/usr/local/lib/python3.5/dist-packages/pandas/core/frame.py:6692: FutureWarning: Sorting because non-concatenation axis is not aligned. A future version\n",
      "of pandas will change to not sort by default.\n",
      "\n",
      "To accept the future behavior, pass 'sort=False'.\n",
      "\n",
      "To retain the current behavior and silence the warning, pass 'sort=True'.\n",
      "\n",
      "  sort=sort)\n"
     ]
    },
    {
     "name": "stdout",
     "output_type": "stream",
     "text": [
      "7258 : 5388 + 0 = 5388\n",
      "va3 0 5388\n",
      "......................................................"
     ]
    },
    {
     "name": "stderr",
     "output_type": "stream",
     "text": [
      "/usr/local/lib/python3.5/dist-packages/pandas/core/frame.py:6692: FutureWarning: Sorting because non-concatenation axis is not aligned. A future version\n",
      "of pandas will change to not sort by default.\n",
      "\n",
      "To accept the future behavior, pass 'sort=False'.\n",
      "\n",
      "To retain the current behavior and silence the warning, pass 'sort=True'.\n",
      "\n",
      "  sort=sort)\n"
     ]
    },
    {
     "name": "stdout",
     "output_type": "stream",
     "text": [
      "va4 0 5388\n",
      "7258 : 5388 + 0 = 5388\n",
      "(1, 174) + (5388, 152) = 5389\n"
     ]
    }
   ],
   "source": [
    "df=merge_puntaje(drive_files)"
   ]
  },
  {
   "cell_type": "code",
   "execution_count": 97,
   "metadata": {},
   "outputs": [
    {
     "name": "stdout",
     "output_type": "stream",
     "text": [
      "0 = 0 ; found: 10312\n"
     ]
    }
   ],
   "source": [
    "#TODO: Check why not zero\n",
    "if 'UDEA_autores' in df.columns:\n",
    "    print(0,'=',df[df['UDEA_autores']==''].shape[0],'; found:',df['UDEA_autores'].dropna().shape[0])"
   ]
  },
  {
   "cell_type": "code",
   "execution_count": 98,
   "metadata": {},
   "outputs": [],
   "source": [
    "#df['UDEA_autores'].apply(lambda s: pd.np.nan if type(s)==str and s=='' else s).dropna().shape"
   ]
  },
  {
   "cell_type": "code",
   "execution_count": 99,
   "metadata": {},
   "outputs": [],
   "source": [
    "UDEA=df.copy()"
   ]
  },
  {
   "cell_type": "code",
   "execution_count": 100,
   "metadata": {},
   "outputs": [
    {
     "data": {
      "text/plain": [
       "(15700, 181)"
      ]
     },
     "execution_count": 100,
     "metadata": {},
     "output_type": "execute_result"
    }
   ],
   "source": [
    "UDEA.shape"
   ]
  },
  {
   "cell_type": "markdown",
   "metadata": {
    "heading_collapsed": true
   },
   "source": [
    "## Fill C1 for not WOS entries in WOS format and extract  affiliation from C1"
   ]
  },
  {
   "cell_type": "code",
   "execution_count": 101,
   "metadata": {},
   "outputs": [],
   "source": [
    "#Fill from SCI_C1\n",
    "UDEA['C1']=SCI_C1_to_C1(UDEA)"
   ]
  },
  {
   "cell_type": "code",
   "execution_count": 102,
   "metadata": {
    "hidden": true
   },
   "outputs": [],
   "source": [
    "#Fill from SCP_C1='SCP_Authors with affiliations\n",
    "UDEA['C1']=SCP_Authors_with_affiliations_to_C1(UDEA)"
   ]
  },
  {
   "cell_type": "code",
   "execution_count": 103,
   "metadata": {},
   "outputs": [
    {
     "data": {
      "text/plain": [
       "(0, 181)"
      ]
     },
     "execution_count": 103,
     "metadata": {},
     "output_type": "execute_result"
    }
   ],
   "source": [
    "UDEA[UDEA['C1'].isnull()].shape"
   ]
  },
  {
   "cell_type": "code",
   "execution_count": 104,
   "metadata": {
    "hidden": true
   },
   "outputs": [
    {
     "data": {
      "text/plain": [
       "'[Bedoya Hernandez, Mauricio Hernando] Univ Antioquia, Educ, Medellin, Colombia.\\n[Bedoya Hernandez, Mauricio Hernando] Univ Antioquia, Psicol, Medellin, Colombia.\\n[Bedoya Hernandez, Mauricio Hernando] Univ Antioquia, Ciencias Sociales, Medellin, Colombia.\\n[Bedoya Hernandez, Mauricio Hernando] Univ Antioquia, Medellin, Colombia.\\n'"
      ]
     },
     "execution_count": 104,
     "metadata": {},
     "output_type": "execute_result"
    }
   ],
   "source": [
    "UDEA[UDEA.Tipo=='WOS'].reset_index(drop=True).C1.loc[0]"
   ]
  },
  {
   "cell_type": "code",
   "execution_count": 105,
   "metadata": {
    "hidden": true
   },
   "outputs": [],
   "source": [
    "UDEA['authors_WOS']=UDEA.C1.apply(lambda x: x.split('\\n') if x else x).apply(\n",
    "    lambda x:   [y.replace('[','').replace('] ','; ') for y in x if y.find(affil)>-1 ] if x else x ).apply(\n",
    "     lambda x: get_author_info(x) if x else x)\n",
    "\n",
    "# Improve normalization: remove C1s with only affiliation (from Scielo)\n",
    "UDEA['authors_WOS']=UDEA['authors_WOS'].apply( \n",
    "    lambda x: [d for d in x if d.get('WOS_author').find(affil)==-1] if type(x)==list else x )"
   ]
  },
  {
   "cell_type": "code",
   "execution_count": 106,
   "metadata": {},
   "outputs": [
    {
     "data": {
      "text/plain": [
       "[{'WOS_author': 'Mesa-Vanegas, A. M.',\n",
       "  'affiliation': ['Grupo de Investigación Malaria, Sede de Investigación Universitaria(SIU), Facultad de Medicina, Univ Antioquia, Medellín, Colombia'],\n",
       "  'i': 0},\n",
       " {'WOS_author': 'Cardona, F.',\n",
       "  'affiliation': ['Grupo de Estudios Botánicos, Herbario Univ Antioquia, Medellín, Colombia'],\n",
       "  'i': 1},\n",
       " {'WOS_author': 'Sáez-Vega, J. A.',\n",
       "  'affiliation': ['Grupo Química de Plantas Colombianas, Instituto de Química, Univ Antioquia, Medellín, Colombia'],\n",
       "  'i': 2},\n",
       " {'WOS_author': 'Trujillo, S. B.',\n",
       "  'affiliation': ['Grupo de Investigación Malaria, Sede de Investigación Universitaria(SIU), Facultad de Medicina, Univ Antioquia, Medellín, Colombia'],\n",
       "  'i': 3}]"
      ]
     },
     "execution_count": 106,
     "metadata": {},
     "output_type": "execute_result"
    }
   ],
   "source": [
    "UDEA[UDEA.Tipo=='SCP'].reset_index(drop=True).loc[0].authors_WOS"
   ]
  },
  {
   "cell_type": "markdown",
   "metadata": {},
   "source": [
    "## Prepare UDEA columns"
   ]
  },
  {
   "cell_type": "code",
   "execution_count": 107,
   "metadata": {},
   "outputs": [],
   "source": [
    "#TODO: Remove from fill_trained_data(..)\n",
    "if 'UDEA_autores' in UDEA.columns:\n",
    "    UDEA['UDEA_autores']=UDEA['UDEA_autores'].apply(lambda s: re.sub('\\s+',' ',s) if type(s)==str else s)\n",
    "    UDEA['UDEA_authors']=UDEA['UDEA_autores'].apply(lambda s: s.split(';') if type(s)==str else s).apply(\n",
    "                           lambda l: [{'full_name':y} for y in l ] if type(l)==list else l)"
   ]
  },
  {
   "cell_type": "markdown",
   "metadata": {
    "heading_collapsed": true
   },
   "source": [
    "## Merge with official researcher list: PTJ"
   ]
  },
  {
   "cell_type": "code",
   "execution_count": 108,
   "metadata": {},
   "outputs": [],
   "source": [
    "AU=drive_files.read_drive_excel('Base_de_datos_investigadores_Definitiva.csv')"
   ]
  },
  {
   "cell_type": "code",
   "execution_count": 109,
   "metadata": {
    "hidden": true
   },
   "outputs": [
    {
     "name": "stdout",
     "output_type": "stream",
     "text": [
      "0\n",
      "1\n",
      "2\n",
      "3\n",
      "4\n",
      "5\n",
      "6\n",
      "7\n",
      "8\n",
      "9\n",
      "10\n",
      "11\n",
      "(15700, 181) (15700, 181)\n"
     ]
    }
   ],
   "source": [
    "UPDATE_UDEA_authors_with_AU=True\n",
    "if (UDEA['UDEA_authors'].dropna().shape[0] and \n",
    "    UPDATE_UDEA_authors_with_AU):\n",
    "    kkn=UDEA.copy()\n",
    "    kkn=update_institutional_authors(kkn,AU)\n",
    "    print(kkn.shape,UDEA.shape)\n",
    "    UDEA=kkn.copy()"
   ]
  },
  {
   "cell_type": "markdown",
   "metadata": {
    "hidden": true
   },
   "source": [
    "Quality check"
   ]
  },
  {
   "cell_type": "code",
   "execution_count": 110,
   "metadata": {
    "hidden": true
   },
   "outputs": [
    {
     "data": {
      "text/plain": [
       "1    [{'affiliation': ['Univ Antioquia, Inst Fis, Medellin 1226, Colombia.'], 'i': 0, 'WOS_author': 'Restrepo, Diego'}]\n",
       "2       [{'affiliation': ['Univ Antioquia, Inst Fis, Medellin 1226, Colombia.'], 'i': 0, 'WOS_author': 'Restrepo, D.'}]\n",
       "Name: authors_WOS, dtype: object"
      ]
     },
     "execution_count": 110,
     "metadata": {},
     "output_type": "execute_result"
    }
   ],
   "source": [
    "key_contains_in_list_of_dictionaries(UDEA,'Restrepo, D',column='authors_WOS',key='WOS_author').loc[1:2]"
   ]
  },
  {
   "cell_type": "code",
   "execution_count": 111,
   "metadata": {
    "hidden": true
   },
   "outputs": [],
   "source": [
    "if UPDATE_UDEA_authors_with_AU:\n",
    "    UDEA.to_json('UDEAtmp.json')\n",
    "    RECOVER=False\n",
    "    if RECOVER:\n",
    "        UDEA=pd.read_json('UDEAtmp.json').reset_index(drop=True)"
   ]
  },
  {
   "cell_type": "markdown",
   "metadata": {
    "heading_collapsed": true
   },
   "source": [
    "## Add `UDEA.authors_WOS` info* within `UDEA.UDEA_authors` data**\n",
    "(\\*) obtained from `UDEA.C1`\n",
    "\n",
    "(\\*\\*) Obtained from [puntaje trained old UDEA data](./WOS_SCI_SCP_PTJ_GS_LNS.ipynb#Merge-with-trained-data-set) and the [official researcher list](./WOS_SCI_SCP_PTJ_GS_LNS.ipynb#Merge-with-official-researcher-list)"
   ]
  },
  {
   "cell_type": "markdown",
   "metadata": {
    "hidden": true
   },
   "source": [
    "Obtain name parts and initials from full name in `UDEA_authors` dictionary and update `UDEA_authors` with them"
   ]
  },
  {
   "cell_type": "code",
   "execution_count": 112,
   "metadata": {},
   "outputs": [],
   "source": [
    "import sys\n",
    "if 'UDEA_authors' not in UDEA.columns and REBUILD==False:\n",
    "    sys.exit('Make MERGE_WITH_TRAINED True and run again')"
   ]
  },
  {
   "cell_type": "code",
   "execution_count": 113,
   "metadata": {},
   "outputs": [],
   "source": [
    "# Obtain spanish name parts from full name\n",
    "dictupdatetmp=UDEA['UDEA_authors'].apply(lambda x: [y.update( \n",
    "                split_full_names(y,full_name='full_name')  ) if not pd.isnull(\n",
    "                y.get('full_name')) else y for y in x] \n",
    "                                   if type(x)==list \n",
    "                                   else x)"
   ]
  },
  {
   "cell_type": "code",
   "execution_count": 114,
   "metadata": {
    "hidden": true
   },
   "outputs": [],
   "source": [
    "kk=UDEA['authors_WOS'].combine( UDEA['UDEA_authors'], func=combinewos )"
   ]
  },
  {
   "cell_type": "code",
   "execution_count": 115,
   "metadata": {},
   "outputs": [
    {
     "data": {
      "text/plain": [
       "[{'INICIALES': 'D. S.',\n",
       "  'NOMBRES': 'Del Socorro',\n",
       "  'PRIMER APELLIDO': 'Lopez',\n",
       "  'SEGUNDO APELLIDO': 'Gomez',\n",
       "  'WOS_affiliation': ['Univ Antioquia, Fac Ciencias Econ, Bogota, Colombia.'],\n",
       "  'WOS_author': ['Lopez Gomez, Maria del Socorro'],\n",
       "  'full_name': 'LOPEZ GOMEZ MARIA DEL SOCORRO'}]"
      ]
     },
     "execution_count": 115,
     "metadata": {},
     "output_type": "execute_result"
    }
   ],
   "source": [
    "UDEA['UDEA_authors'].loc[0]"
   ]
  },
  {
   "cell_type": "code",
   "execution_count": 116,
   "metadata": {
    "hidden": true
   },
   "outputs": [],
   "source": [
    "UDEA.to_json('UDEAtmp.json')"
   ]
  },
  {
   "cell_type": "markdown",
   "metadata": {
    "hidden": true
   },
   "source": [
    "### Load output restuls of previous Cell runs"
   ]
  },
  {
   "cell_type": "code",
   "execution_count": 117,
   "metadata": {
    "hidden": true
   },
   "outputs": [],
   "source": [
    "RECOVER=False\n",
    "if RECOVER:\n",
    "    UDEA=pd.read_json('UDEAtmp.json').reset_index(drop=True)"
   ]
  },
  {
   "cell_type": "markdown",
   "metadata": {
    "heading_collapsed": true
   },
   "source": [
    "## Build a single profile for all"
   ]
  },
  {
   "cell_type": "markdown",
   "metadata": {
    "hidden": true
   },
   "source": [
    "### Fill UDEA_authors with WOS_author info"
   ]
  },
  {
   "cell_type": "markdown",
   "metadata": {},
   "source": [
    "Obtain UDEA_authors DataFrame: `aunly`"
   ]
  },
  {
   "cell_type": "code",
   "execution_count": 118,
   "metadata": {},
   "outputs": [
    {
     "name": "stdout",
     "output_type": "stream",
     "text": [
      "TABORDA AGUDELO FARLAN\n"
     ]
    }
   ],
   "source": [
    "aunly=DataFrame_authors(UDEA)"
   ]
  },
  {
   "cell_type": "code",
   "execution_count": 119,
   "metadata": {
    "hidden": true
   },
   "outputs": [],
   "source": [
    "if not aunly.empty:\n",
    "    aunly.to_json('UDEA_authors_with_WOS_info.json')"
   ]
  },
  {
   "cell_type": "code",
   "execution_count": 120,
   "metadata": {
    "hidden": true
   },
   "outputs": [],
   "source": [
    "RECOVER=False\n",
    "if RECOVER:\n",
    "    UDEA=pd.read_json('UDEAtmp.json').reset_index(drop=True)"
   ]
  },
  {
   "cell_type": "code",
   "execution_count": 121,
   "metadata": {
    "hidden": true
   },
   "outputs": [
    {
     "data": {
      "text/plain": [
       "(15700, 181)"
      ]
     },
     "execution_count": 121,
     "metadata": {},
     "output_type": "execute_result"
    }
   ],
   "source": [
    "UDEA.shape"
   ]
  },
  {
   "cell_type": "code",
   "execution_count": 122,
   "metadata": {
    "hidden": true
   },
   "outputs": [],
   "source": [
    "if RECOVER:\n",
    "    if os.path.exists('UDEA_authors_with_WOS_info.json' ):\n",
    "        aunly=pd.read_json('UDEA_authors_with_WOS_info.json')\n",
    "    else:\n",
    "        aunly=drive_files.read_drive_json('UDEA_authors_with_WOS_info.json')"
   ]
  },
  {
   "cell_type": "code",
   "execution_count": 123,
   "metadata": {
    "hidden": true
   },
   "outputs": [
    {
     "data": {
      "text/plain": [
       "(1273, 2)"
      ]
     },
     "execution_count": 123,
     "metadata": {},
     "output_type": "execute_result"
    }
   ],
   "source": [
    "aunly.shape"
   ]
  },
  {
   "cell_type": "markdown",
   "metadata": {
    "hidden": true
   },
   "source": [
    "(800, 2)"
   ]
  },
  {
   "cell_type": "markdown",
   "metadata": {},
   "source": [
    "## Merge UDEA with authors"
   ]
  },
  {
   "cell_type": "code",
   "execution_count": 124,
   "metadata": {},
   "outputs": [],
   "source": [
    "UDEA['UDEA_authors']=UDEA['UDEA_authors'].apply(lambda l:fill_full_wos_author_info(l,aunly) )"
   ]
  },
  {
   "cell_type": "code",
   "execution_count": 125,
   "metadata": {},
   "outputs": [],
   "source": [
    "if UDEA['UDEA_authors'].dropna().shape[0]:\n",
    "    UDEA.to_json('UDEAtmp.json')"
   ]
  },
  {
   "cell_type": "code",
   "execution_count": 126,
   "metadata": {},
   "outputs": [],
   "source": [
    "RECOVER=False\n",
    "if RECOVER:\n",
    "    UDEA=pd.read_json('UDEAtmp.json').reset_index(drop=True)"
   ]
  },
  {
   "cell_type": "code",
   "execution_count": 127,
   "metadata": {},
   "outputs": [
    {
     "data": {
      "text/plain": [
       "(15700, 181)"
      ]
     },
     "execution_count": 127,
     "metadata": {},
     "output_type": "execute_result"
    }
   ],
   "source": [
    "UDEA.shape"
   ]
  },
  {
   "cell_type": "code",
   "execution_count": 128,
   "metadata": {},
   "outputs": [],
   "source": [
    "kk=UDEA.authors_WOS.combine(UDEA.UDEA_authors,func=lambda x,y: get_UDEA_authors(x,y,aunly))"
   ]
  },
  {
   "cell_type": "code",
   "execution_count": 129,
   "metadata": {},
   "outputs": [
    {
     "data": {
      "text/plain": [
       "(10312,)"
      ]
     },
     "execution_count": 129,
     "metadata": {},
     "output_type": "execute_result"
    }
   ],
   "source": [
    "UDEA.UDEA_authors.dropna().shape"
   ]
  },
  {
   "cell_type": "markdown",
   "metadata": {},
   "source": [
    "(7072,)"
   ]
  },
  {
   "cell_type": "markdown",
   "metadata": {},
   "source": [
    "(10960,)"
   ]
  },
  {
   "cell_type": "code",
   "execution_count": 130,
   "metadata": {},
   "outputs": [],
   "source": [
    "UDEA['UDEA_authors']=kk"
   ]
  },
  {
   "cell_type": "code",
   "execution_count": 131,
   "metadata": {},
   "outputs": [
    {
     "data": {
      "text/plain": [
       "((10900,), (15700, 181))"
      ]
     },
     "execution_count": 131,
     "metadata": {},
     "output_type": "execute_result"
    }
   ],
   "source": [
    "UDEA.UDEA_authors.dropna().shape,UDEA.shape"
   ]
  },
  {
   "cell_type": "markdown",
   "metadata": {},
   "source": [
    "((8446,), (15700, 169))"
   ]
  },
  {
   "cell_type": "markdown",
   "metadata": {},
   "source": [
    "((10963,), (15704, 181))"
   ]
  },
  {
   "cell_type": "code",
   "execution_count": 132,
   "metadata": {},
   "outputs": [
    {
     "data": {
      "text/plain": [
       "(1273, 2)"
      ]
     },
     "execution_count": 132,
     "metadata": {},
     "output_type": "execute_result"
    }
   ],
   "source": [
    "aunly.shape"
   ]
  },
  {
   "cell_type": "markdown",
   "metadata": {},
   "source": [
    "(1461, 2)"
   ]
  },
  {
   "cell_type": "code",
   "execution_count": 133,
   "metadata": {},
   "outputs": [
    {
     "name": "stdout",
     "output_type": "stream",
     "text": [
      "(1273, 2)\n"
     ]
    }
   ],
   "source": [
    "if not aunly.empty:\n",
    "    print(aunly.drop_duplicates('tmp_author').shape)"
   ]
  },
  {
   "cell_type": "code",
   "execution_count": 134,
   "metadata": {
    "hidden": true
   },
   "outputs": [],
   "source": [
    "if not aunly.empty:\n",
    "    aunly.to_json('UDEA_authors_with_WOS_info.json')"
   ]
  },
  {
   "cell_type": "code",
   "execution_count": 135,
   "metadata": {
    "hidden": true
   },
   "outputs": [],
   "source": [
    "RECOVER=False\n",
    "if RECOVER:\n",
    "    if os.path.exists('UDEA_authors_with_WOS_info.json' ):\n",
    "        aunly=pd.read_json('UDEA_authors_with_WOS_info.json')\n",
    "    else:\n",
    "        aunly=drive_files.read_drive_json('UDEA_authors_with_WOS_info.json')"
   ]
  },
  {
   "cell_type": "code",
   "execution_count": 136,
   "metadata": {},
   "outputs": [],
   "source": [
    "if UDEA['UDEA_authors'].dropna().shape[0]:\n",
    "    UDEA.to_json('UDEAtmp.json')"
   ]
  },
  {
   "cell_type": "code",
   "execution_count": 137,
   "metadata": {},
   "outputs": [],
   "source": [
    "if RECOVER:\n",
    "    UDEA=pd.read_json('UDEAtmp.json').reset_index(drop=True)"
   ]
  },
  {
   "cell_type": "code",
   "execution_count": 138,
   "metadata": {},
   "outputs": [],
   "source": [
    "UDEA.to_json('WOS_SCI_SCP_PTJ_CTR.json.gz',compression='gzip')"
   ]
  },
  {
   "cell_type": "code",
   "execution_count": 139,
   "metadata": {},
   "outputs": [
    {
     "name": "stdout",
     "output_type": "stream",
     "text": [
      "0 10312\n"
     ]
    }
   ],
   "source": [
    "if 'UDEA_autores' in UDEA.columns:\n",
    "    print(UDEA[UDEA['UDEA_autores']==''].shape[0],UDEA['UDEA_autores'].dropna().shape[0])"
   ]
  },
  {
   "cell_type": "code",
   "execution_count": 140,
   "metadata": {},
   "outputs": [
    {
     "name": "stdout",
     "output_type": "stream",
     "text": [
      "0 10900\n"
     ]
    }
   ],
   "source": [
    "if 'UDEA_authors' in UDEA.columns:\n",
    "    print(UDEA[UDEA['UDEA_authors']==''].shape[0],UDEA['UDEA_authors'].dropna().shape[0])"
   ]
  },
  {
   "cell_type": "code",
   "execution_count": 141,
   "metadata": {},
   "outputs": [
    {
     "ename": "SyntaxError",
     "evalue": "Missing parentheses in call to 'print' (<ipython-input-141-c94594b6b28f>, line 1)",
     "output_type": "error",
     "traceback": [
      "\u001b[0;36m  File \u001b[0;32m\"<ipython-input-141-c94594b6b28f>\"\u001b[0;36m, line \u001b[0;32m1\u001b[0m\n\u001b[0;31m    print 1\u001b[0m\n\u001b[0m          ^\u001b[0m\n\u001b[0;31mSyntaxError\u001b[0m\u001b[0;31m:\u001b[0m Missing parentheses in call to 'print'\n"
     ]
    }
   ],
   "source": [
    "print 1"
   ]
  },
  {
   "cell_type": "markdown",
   "metadata": {},
   "source": [
    "## Add PTJ directly from `UDEA_authors` with `WOS_info` DataFrame"
   ]
  },
  {
   "cell_type": "code",
   "execution_count": 9,
   "metadata": {},
   "outputs": [],
   "source": [
    "UDEA=pd.read_json('WOS_SCI_SCP_PTJ_CTR.json.gz',compression='gzip').reset_index(drop=True)"
   ]
  },
  {
   "cell_type": "code",
   "execution_count": 10,
   "metadata": {},
   "outputs": [],
   "source": [
    "aunly=drive_files.read_drive_json('UDEA_authors_with_WOS_info.json').reset_index(drop=True)"
   ]
  },
  {
   "cell_type": "code",
   "execution_count": 11,
   "metadata": {},
   "outputs": [],
   "source": [
    "def build_institutional_authors(x,author_df,x_author_key='WOS_author',x_affiliation_key='affiliation',\n",
    "                                        author_key='WOS_author',\n",
    "                                        affiliation_key='WOS_affiliation'):\n",
    "    if type(x)!=list:\n",
    "        return None\n",
    "    ll=[]\n",
    "    for j in range(len(x)):\n",
    "        \n",
    "                                #author_WOS→affiliation always have single affiliation\n",
    "        kk=find_author_affiliation(x[j].get(x_author_key),x[j].get(x_affiliation_key)[0],\n",
    "                                        author_df=author_df,\n",
    "                                        author_key=author_key,\n",
    "                                        affiliation_key=affiliation_key,\n",
    "                                        ratio=0.9 )\n",
    "        if kk:\n",
    "            ll.append(kk)\n",
    "    if not ll:\n",
    "        ll=None\n",
    "    return ll"
   ]
  },
  {
   "cell_type": "code",
   "execution_count": 12,
   "metadata": {},
   "outputs": [],
   "source": [
    "if not UDEA['UDEA_authors'].dropna().shape[0]:\n",
    "    UDEA['UDEA_authors']=UDEA.authors_WOS.apply(lambda l: build_institutional_authors(l,aunly) )"
   ]
  },
  {
   "cell_type": "markdown",
   "metadata": {},
   "source": [
    "## Experimental: Change similirity by merge search"
   ]
  },
  {
   "cell_type": "code",
   "execution_count": 13,
   "metadata": {},
   "outputs": [],
   "source": [
    "UDEA_YES=UDEA[~UDEA['UDEA_authors'].isna()].reset_index(drop=True)"
   ]
  },
  {
   "cell_type": "code",
   "execution_count": 14,
   "metadata": {},
   "outputs": [
    {
     "data": {
      "text/plain": [
       "(10900, 181)"
      ]
     },
     "execution_count": 14,
     "metadata": {},
     "output_type": "execute_result"
    }
   ],
   "source": [
    "UDEA_YES.shape"
   ]
  },
  {
   "cell_type": "code",
   "execution_count": 15,
   "metadata": {},
   "outputs": [],
   "source": [
    "import fuzzywuzzy.process as fwp\n",
    "from fuzzywuzzy import fuzz\n",
    "UDEA_NOT=UDEA[UDEA['UDEA_authors'].isna()].reset_index(drop=True)\n",
    "df2=aunly.copy()\n",
    "df2=pd.DataFrame( list( df2['UDEA_authors'].values ) )\n",
    "df2['UDEA_authors']=aunly['UDEA_authors']\n",
    "contents=df2[['WOS_author','WOS_affiliation','UDEA_authors']].reset_index(drop=True)\n",
    "contents['WOS_author']=contents['WOS_author'].astype(str)\n",
    "contents['WOS_affiliation']=contents['WOS_affiliation'].astype(str)"
   ]
  },
  {
   "cell_type": "code",
   "execution_count": 16,
   "metadata": {},
   "outputs": [
    {
     "name": "stdout",
     "output_type": "stream",
     "text": [
      "Velez-Cuartas, Gabriel (\"['Velez Cuartas, Gabriel', 'Velez-Cuartas, Gabriel', 'Velez-Cuartas, G.']\", 100, 1037)\n"
     ]
    }
   ],
   "source": [
    "print( UDEA_NOT['authors_WOS'].loc[0][0].get('WOS_author'),\n",
    "      fwp.extractOne(  UDEA_NOT['authors_WOS'].loc[0][0].get('WOS_author'),\n",
    "                     contents['WOS_author'],scorer=fuzz.partial_ratio  ) )"
   ]
  },
  {
   "cell_type": "code",
   "execution_count": 17,
   "metadata": {},
   "outputs": [],
   "source": [
    "dfnot=UDEA_NOT.copy()\n",
    "dfnot=dfnot.reset_index(drop=True)"
   ]
  },
  {
   "cell_type": "code",
   "execution_count": 18,
   "metadata": {},
   "outputs": [],
   "source": [
    "#for i in range(20):\n",
    "#l=dfnot['authors_WOS'].loc[i]\n",
    "def json_fuzzy_merge(l,contents,right_target='UDEA_authors',\n",
    "                       left_on='WOS_author',extra_left_on='affiliation',\n",
    "                       right_on='WOS_author',extra_right_on='WOS_affiliation',\n",
    "                       cuttoff=95,cuttof_extra=65,scorer=fuzz.partial_ratio):\n",
    "    newl=[]\n",
    "    for d in l:\n",
    "        au=d.get(left_on)\n",
    "        aff=d.get(extra_left_on)\n",
    "        # Do not need to be string\n",
    "        r=fwp.extractOne(au,contents[right_on],scorer=scorer)\n",
    "        if r[1]>=cuttoff:\n",
    "            raf=scorer( aff, contents.loc[r[2],extra_right_on]  )\n",
    "            if raf>=cuttof_extra:\n",
    "                newl=newl+[  contents.loc[r[2],right_target]  ]\n",
    "    if newl:\n",
    "        return newl\n",
    "    else:\n",
    "        return None"
   ]
  },
  {
   "cell_type": "code",
   "execution_count": 24,
   "metadata": {},
   "outputs": [],
   "source": [
    "import pandas as pd\n",
    "import swifter"
   ]
  },
  {
   "cell_type": "code",
   "execution_count": 26,
   "metadata": {},
   "outputs": [
    {
     "data": {
      "application/vnd.jupyter.widget-view+json": {
       "model_id": "ddc54ce1f5814cf092f0587c3bd45088",
       "version_major": 2,
       "version_minor": 0
      },
      "text/plain": [
       "HBox(children=(IntProgress(value=0, description='Pandas Apply', max=4800, style=ProgressStyle(description_widt…"
      ]
     },
     "metadata": {},
     "output_type": "display_data"
    },
    {
     "name": "stdout",
     "output_type": "stream",
     "text": [
      "\n",
      "CPU times: user 5min 45s, sys: 736 ms, total: 5min 45s\n",
      "Wall time: 5min 45s\n"
     ]
    }
   ],
   "source": [
    "%time kk=dfnot['authors_WOS'].swifter.apply(lambda l: json_fuzzy_merge(l,contents,cuttof_extra=65))"
   ]
  },
  {
   "cell_type": "code",
   "execution_count": 27,
   "metadata": {},
   "outputs": [
    {
     "name": "stdout",
     "output_type": "stream",
     "text": [
      "CPU times: user 5min 31s, sys: 12 ms, total: 5min 31s\n",
      "Wall time: 5min 31s\n"
     ]
    }
   ],
   "source": [
    "%time kk=dfnot['authors_WOS'].apply(lambda l: json_fuzzy_merge(l,contents,cuttof_extra=65))"
   ]
  },
  {
   "cell_type": "code",
   "execution_count": 28,
   "metadata": {},
   "outputs": [
    {
     "data": {
      "text/plain": [
       "(781,)"
      ]
     },
     "execution_count": 28,
     "metadata": {},
     "output_type": "execute_result"
    }
   ],
   "source": [
    "kk.dropna().shape"
   ]
  },
  {
   "cell_type": "code",
   "execution_count": 29,
   "metadata": {},
   "outputs": [],
   "source": [
    "dfnot['UDEA_authors']=kk"
   ]
  },
  {
   "cell_type": "code",
   "execution_count": 30,
   "metadata": {},
   "outputs": [],
   "source": [
    "#dfnot[['UDEA_authors','authors_WOS']].dropna(subset=['UDEA_authors'])"
   ]
  },
  {
   "cell_type": "code",
   "execution_count": 31,
   "metadata": {},
   "outputs": [],
   "source": [
    "UDEA_NOT=dfnot.reset_index(drop=True)"
   ]
  },
  {
   "cell_type": "code",
   "execution_count": 32,
   "metadata": {},
   "outputs": [],
   "source": [
    "UDEA=UDEA_YES.append(UDEA_NOT).reset_index(drop=True)"
   ]
  },
  {
   "cell_type": "code",
   "execution_count": 33,
   "metadata": {},
   "outputs": [
    {
     "data": {
      "text/plain": [
       "(11681,)"
      ]
     },
     "execution_count": 33,
     "metadata": {},
     "output_type": "execute_result"
    }
   ],
   "source": [
    "UDEA['UDEA_authors'].dropna().shape"
   ]
  },
  {
   "cell_type": "markdown",
   "metadata": {},
   "source": [
    "Quality checks"
   ]
  },
  {
   "cell_type": "markdown",
   "metadata": {},
   "source": [
    "UDEA_YES=UDEA[UDEA.UDEA_nombre!=''].reset_index(drop=True)\n",
    "UDEA_NOT=UDEA[UDEA.UDEA_nombre==''].reset_index(drop=True)\n",
    "\n",
    "UDEA_YES['Tipo']=UDEA_YES.Tipo.str.replace('([SW][CO][SIP])$',r'\\1_UDEA')\n",
    "\n",
    "UDEA=UDEA_YES.append(UDEA_NOT)\n",
    "UDEA=UDEA.reset_index(drop=True)\n",
    "\n",
    "UDEA[UDEA.Tipo.str.contains('UDEA')].shape"
   ]
  },
  {
   "cell_type": "code",
   "execution_count": 37,
   "metadata": {},
   "outputs": [],
   "source": [
    "UDEA.to_json('WOS_SCI_SCP_PTJ_CTR.json.gz',compression='gzip')"
   ]
  },
  {
   "cell_type": "code",
   "execution_count": null,
   "metadata": {},
   "outputs": [],
   "source": [
    "print 1"
   ]
  },
  {
   "cell_type": "markdown",
   "metadata": {},
   "source": [
    "## Try other approachs"
   ]
  },
  {
   "cell_type": "code",
   "execution_count": 474,
   "metadata": {},
   "outputs": [],
   "source": [
    "wp.merge_with_close_matches??"
   ]
  },
  {
   "cell_type": "code",
   "execution_count": 477,
   "metadata": {},
   "outputs": [
    {
     "name": "stdout",
     "output_type": "stream",
     "text": [
      "Writing test.cfg\n"
     ]
    }
   ],
   "source": [
    "%%writefile test.cfg\n",
    "[FILES]\n",
    "Sample_WOS.xlsx = 1--LJZ4mYyQcaJ93xBdbnYj-ZzdjO2Wq2\n",
    "Sample_SCI.xlsx = 1-3a-hguQTk5ko8JRLCx--EKaslxGVscf\n",
    "Sample_SCP.xlsx = 1-IAWlMdp2U-9L2jvZUio04ub1Ym3PX-H"
   ]
  },
  {
   "cell_type": "code",
   "execution_count": 479,
   "metadata": {},
   "outputs": [],
   "source": [
    "cib=wp.wosplus('test.cfg')\n",
    "#cib.Debug=True\n",
    "cib.load_biblio('Sample_WOS.xlsx')\n",
    "cib.load_biblio('Sample_SCI.xlsx',prefix='SCI')\n",
    "cib.load_biblio('Sample_SCP.xlsx',prefix='SCP')"
   ]
  },
  {
   "cell_type": "code",
   "execution_count": 558,
   "metadata": {},
   "outputs": [],
   "source": [
    "def get_close_matches_Levenshtein(\n",
    "        word,\n",
    "        possibilities,\n",
    "        n=3,\n",
    "        cutoff=0.6,\n",
    "        full=False):\n",
    "    '''Replaces difflib.get_close_matches with faster algortihm based on\n",
    "       Levenshtein.ratio.\n",
    "       HINT: Similarity increase significatively after lower() and unidecode()\n",
    "\n",
    "       Refs: https://en.wikipedia.org/wiki/Levenshtein_distance\n",
    "    '''\n",
    "    import pandas as pd\n",
    "    import Levenshtein\n",
    "    if isinstance(possibilities, str):\n",
    "        possibilities = [possibilities]\n",
    "    rs = pd.DataFrame()\n",
    "    MATCH = False\n",
    "    for p in possibilities:\n",
    "        similarity = Levenshtein.ratio(word, p)\n",
    "        # print(word,'::',p,similarity)\n",
    "        # sys.exit()\n",
    "        if similarity >= cutoff:\n",
    "            MATCH = True\n",
    "            rs = rs.append({'similarity': similarity,\n",
    "                            'match': p}, ignore_index=True)\n",
    "\n",
    "    if MATCH:\n",
    "        rs = rs.sort_values(\n",
    "            'similarity', ascending=False).reset_index(drop=True)\n",
    "        if full:\n",
    "            return list(rs['match'][:n].values), list(\n",
    "                rs['similarity'][:n].values)\n",
    "        else:\n",
    "            return list(rs['match'][:n].values)\n",
    "    else:\n",
    "        if full:\n",
    "            return ([], 0)\n",
    "        else:\n",
    "            return []"
   ]
  },
  {
   "cell_type": "code",
   "execution_count": 633,
   "metadata": {},
   "outputs": [],
   "source": [
    "s='MALL: THE EXAMPLE OF Paracoccidioides brasiliensis CONIDIA'"
   ]
  },
  {
   "cell_type": "code",
   "execution_count": 634,
   "metadata": {},
   "outputs": [
    {
     "data": {
      "text/plain": [
       "(['the power of the small: the example of paracoccidioides brasiliensis conidia'],\n",
       " [0.5074626865671642])"
      ]
     },
     "execution_count": 634,
     "metadata": {},
     "output_type": "execute_result"
    }
   ],
   "source": [
    "get_close_matches_Levenshtein(\n",
    "            s, possibilities, n=1, cutoff=0, full=True)"
   ]
  },
  {
   "cell_type": "code",
   "execution_count": 641,
   "metadata": {},
   "outputs": [
    {
     "data": {
      "text/plain": [
       "[2, 4]"
      ]
     },
     "execution_count": 641,
     "metadata": {},
     "output_type": "execute_result"
    }
   ],
   "source": [
    "[c for c in [2,4]]"
   ]
  },
  {
   "cell_type": "code",
   "execution_count": 646,
   "metadata": {},
   "outputs": [],
   "source": [
    "r=fwp.extract(s,possibilities,scorer=scorer,limit=2)"
   ]
  },
  {
   "cell_type": "code",
   "execution_count": 657,
   "metadata": {},
   "outputs": [
    {
     "data": {
      "text/plain": [
       "0.6"
      ]
     },
     "execution_count": 657,
     "metadata": {},
     "output_type": "execute_result"
    }
   ],
   "source": [
    "cutoff"
   ]
  },
  {
   "cell_type": "code",
   "execution_count": null,
   "metadata": {},
   "outputs": [],
   "source": [
    "scorer=fuzz.partial_token_set_ratio"
   ]
  },
  {
   "cell_type": "code",
   "execution_count": 764,
   "metadata": {},
   "outputs": [],
   "source": [
    "def get_close_matches_Levenshtein_new(\n",
    "        word,\n",
    "        possibilities,\n",
    "        n=1,\n",
    "        cutoff=0.6,\n",
    "        full=False,\n",
    "        scorer=fuzz.partial_ratio): #\n",
    "    r=fwp.extract(word,possibilities,scorer=scorer,limit=n)\n",
    "    \n",
    "    if r[0][1]/100.>cutoff:\n",
    "        if full:\n",
    "            return [t[0] for t in r],[t[1]/100. for t in r]\n",
    "        else:\n",
    "            return [t[0] for t in r]\n",
    "    else:\n",
    "        if full:\n",
    "            return ([], 0)\n",
    "        else:\n",
    "            return []        "
   ]
  },
  {
   "cell_type": "code",
   "execution_count": 765,
   "metadata": {},
   "outputs": [],
   "source": [
    "s='kjdgslln sldg'"
   ]
  },
  {
   "cell_type": "code",
   "execution_count": 766,
   "metadata": {},
   "outputs": [
    {
     "data": {
      "text/plain": [
       "([], 0)"
      ]
     },
     "execution_count": 766,
     "metadata": {},
     "output_type": "execute_result"
    }
   ],
   "source": [
    "get_close_matches_Levenshtein_new(\n",
    "            s, possibilities, n=2, cutoff=0.6, full=True)"
   ]
  },
  {
   "cell_type": "code",
   "execution_count": 767,
   "metadata": {},
   "outputs": [],
   "source": [
    "def merge_with_close_matches_old(\n",
    "        left,\n",
    "        right,\n",
    "        left_on='ST',\n",
    "        right_on='UDEA_simple_título',\n",
    "        left_extra_on='SO',\n",
    "        right_extra_on='UDEA_nombre revista o premio',\n",
    "        how='inner',\n",
    "        n=1,\n",
    "        cutoff=0.6,\n",
    "        full=True,\n",
    "        cutoff_extra=0.6):\n",
    "    '''For each entry of the column: left_on of DataFrame left (cannot have empty fields),\n",
    "       try to find the close match inside each row of right DataFrame, by comparing with\n",
    "       the right_on entry of the row. When a row match is found, the full right row is appended\n",
    "       to the matched row in the left DataFrame.\n",
    "       If the similarity between the entries at left_on and right_on is less than 0.8,\n",
    "       an additional check is performed between the entries left_extra_on and right_extra_on\n",
    "       of the matched row.\n",
    "\n",
    "       how implemented: inner and left (Default: inner)\n",
    "    '''\n",
    "    import numpy as np\n",
    "    from unidecode import unidecode\n",
    "    import pandas as pd\n",
    "    # import sys #import globally\n",
    "    # print(left[left_on][0])\n",
    "    # sys.exit()\n",
    "    words = left[left_on].str.lower().map(unidecode)\n",
    "    possibilities = right[right_on].str.lower().map(unidecode)\n",
    "\n",
    "    joined = pd.DataFrame()\n",
    "    mi = np.array([])\n",
    "    for i in left.index:\n",
    "        if i % 100 == 0:\n",
    "            print('.', end=\"\")\n",
    "        joined_series = left.loc[i]\n",
    "        #joined_series=joined_series.append(pd.Series( {similarity_column:0} ))\n",
    "        title, similarity = get_close_matches_Levenshtein(\n",
    "            words[i], possibilities, n=n, cutoff=cutoff, full=full)\n",
    "        # print(i,words[i],title,similarity) #cutuff 0.6 0.7 0.8 0.85 0.91 0.95\n",
    "        # sys.exit()\n",
    "        if title:\n",
    "            mtch = right[possibilities == title[0]]\n",
    "            # >=cutoff, e.g 0.65 0.95 0.81 0.86 0.9 0.96\n",
    "            chk_cutoff = similarity[0]\n",
    "            crosscheck = cutoff + 0.2  # 0.8 # e.g. 0.8 0.9 0.9 0.9 0.9 0.9\n",
    "            if crosscheck >= 1:\n",
    "                # force check if match worst than this (by experience)\n",
    "                crosscheck = 0.95\n",
    "            if chk_cutoff < crosscheck:  # e.g 0.65<0.8 0.95~<0.9 0.81~<0.0 0.86<0.9 0.91<~0.9 0.96~<0.9\n",
    "                if get_close_matches_Levenshtein(unidecode(left[left_extra_on][i].lower()), [unidecode(\n",
    "                        mtch[right_extra_on][mtch.index[0]].lower())], cutoff=cutoff_extra):  # cutoff=0.6\n",
    "                    chk_cutoff = crosscheck + 0.1\n",
    "\n",
    "            if chk_cutoff >= crosscheck:\n",
    "                joined_series = joined_series.append(mtch.loc[mtch.index[0]])\n",
    "                if how == 'outer':\n",
    "                    mi = np.concatenate((mi, mtch.index.values))\n",
    "                # joined_series[similarity_column]=similarity[0]\n",
    "\n",
    "            #return joined_series\n",
    "            if how == 'inner':\n",
    "                joined = joined.append(joined_series, ignore_index=True)\n",
    "\n",
    "        if (how == 'left' or 'outer'):\n",
    "            joined = joined.append(joined_series, ignore_index=True)\n",
    "    if how == 'outer':\n",
    "        joined = joined.append(right.drop(\n",
    "            right.index[list(mi.astype(int))]).reset_index(drop=True))\n",
    "    return joined\n",
    "\n",
    "def merge_with_close_matches_new(\n",
    "        left,\n",
    "        right,\n",
    "        left_on='ST',\n",
    "        right_on='UDEA_simple_título',\n",
    "        left_extra_on='SO',\n",
    "        right_extra_on='UDEA_nombre revista o premio',\n",
    "        how='inner',\n",
    "        n=1,\n",
    "        cutoff=0.6,\n",
    "        full=True,\n",
    "        cutoff_extra=0.7):\n",
    "    '''For each entry of the column: left_on of DataFrame left (cannot have empty fields),\n",
    "       try to find the close match inside each row of right DataFrame, by comparing with\n",
    "       the right_on entry of the row. When a row match is found, the full right row is appended\n",
    "       to the matched row in the left DataFrame.\n",
    "       If the similarity between the entries at left_on and right_on is less than 0.8,\n",
    "       an additional check is performed between the entries left_extra_on and right_extra_on\n",
    "       of the matched row.\n",
    "\n",
    "       how implemented: inner and left (Default: inner)\n",
    "    '''\n",
    "    import numpy as np\n",
    "    from unidecode import unidecode\n",
    "    import pandas as pd\n",
    "    # import sys #import globally\n",
    "    # print(left[left_on][0])\n",
    "    # sys.exit()\n",
    "    words = left[left_on].str.lower().map(unidecode)\n",
    "    possibilities = right[right_on].str.lower().map(unidecode)\n",
    "\n",
    "    joined = pd.DataFrame()\n",
    "    mi = np.array([])\n",
    "    for i in left.index:\n",
    "        if i % 100 == 0:\n",
    "            print('.', end=\"\")\n",
    "        joined_series = left.loc[i]\n",
    "        #joined_series=joined_series.append(pd.Series( {similarity_column:0} ))\n",
    "        title, similarity = get_close_matches_Levenshtein_new(\n",
    "            words[i], possibilities, n=n, cutoff=cutoff, full=full)\n",
    "        # print(i,words[i],title,similarity) #cutuff 0.6 0.7 0.8 0.85 0.91 0.95\n",
    "        # sys.exit()\n",
    "        if title:\n",
    "            mtch = right[possibilities == title[0]]\n",
    "            # >=cutoff, e.g 0.65 0.95 0.81 0.86 0.9 0.96\n",
    "            chk_cutoff = similarity[0]\n",
    "            crosscheck = cutoff + 0.2  # 0.8 # e.g. 0.8 0.9 0.9 0.9 0.9 0.9\n",
    "            if crosscheck >= 1:\n",
    "                # force check if match worst than this (by experience)\n",
    "                crosscheck = 0.95\n",
    "            if chk_cutoff < crosscheck:  # e.g 0.65<0.8 0.95~<0.9 0.81~<0.0 0.86<0.9 0.91<~0.9 0.96~<0.9\n",
    "                if get_close_matches_Levenshtein_new(unidecode(left[left_extra_on][i].lower()), [unidecode(\n",
    "                        mtch[right_extra_on][mtch.index[0]].lower())], cutoff=cutoff_extra):  # cutoff=0.6\n",
    "                    chk_cutoff = crosscheck + 0.1\n",
    "\n",
    "            if chk_cutoff >= crosscheck:\n",
    "                joined_series = joined_series.append(mtch.loc[mtch.index[0]])\n",
    "                if how == 'outer':\n",
    "                    mi = np.concatenate((mi, mtch.index.values))\n",
    "                # joined_series[similarity_column]=similarity[0]\n",
    "\n",
    "            #return joined_series\n",
    "            if how == 'inner':\n",
    "                joined = joined.append(joined_series, ignore_index=True)\n",
    "\n",
    "        if (how == 'left' or 'outer'):\n",
    "            joined = joined.append(joined_series, ignore_index=True)\n",
    "    if how == 'outer':\n",
    "        joined = joined.append(right.drop(\n",
    "            right.index[list(mi.astype(int))]).reset_index(drop=True))\n",
    "    return joined"
   ]
  },
  {
   "cell_type": "code",
   "execution_count": 802,
   "metadata": {},
   "outputs": [],
   "source": [
    "cib.biblio['WOS']=UDEA.sample(500).reset_index(drop=True).copy().fillna('')\n",
    "cib.biblio['SCI']=SIU[0:100].copy().fillna('')"
   ]
  },
  {
   "cell_type": "code",
   "execution_count": 772,
   "metadata": {},
   "outputs": [],
   "source": [
    "tmp=drive_files.load_biblio('produccion_fecha_vig_2003_2018.xlsx',prefix='UDEA')"
   ]
  },
  {
   "cell_type": "code",
   "execution_count": 773,
   "metadata": {},
   "outputs": [
    {
     "data": {
      "text/plain": [
       "(46212, 20)"
      ]
     },
     "execution_count": 773,
     "metadata": {},
     "output_type": "execute_result"
    }
   ],
   "source": [
    "drive_files.biblio['UDEA']"
   ]
  },
  {
   "cell_type": "code",
   "execution_count": 783,
   "metadata": {},
   "outputs": [
    {
     "name": "stdout",
     "output_type": "stream",
     "text": [
      ".3.9596588611602783\n"
     ]
    }
   ],
   "source": [
    "s=time.time()\n",
    "kkold=merge_with_close_matches_old(cib.biblio['WOS'],cib.biblio['SCI'].drop('Tipo',axis='columns'),\n",
    "                            left_on='TI',right_on='SCI_TI',right_extra_on='SCI_SO',how='left')\n",
    "print(time.time()-s)"
   ]
  },
  {
   "cell_type": "code",
   "execution_count": 784,
   "metadata": {},
   "outputs": [
    {
     "name": "stdout",
     "output_type": "stream",
     "text": [
      ".3.8951470851898193\n"
     ]
    }
   ],
   "source": [
    "s=time.time()\n",
    "kknew=merge_with_close_matches_new(cib.biblio['WOS'],cib.biblio['SCI'].drop('Tipo',axis='columns'),\n",
    "                            left_on='TI',right_on='SCI_TI',right_extra_on='SCI_SO',how='left')\n",
    "print(time.time()-s)"
   ]
  },
  {
   "cell_type": "code",
   "execution_count": 7,
   "metadata": {},
   "outputs": [
    {
     "ename": "NameError",
     "evalue": "name 'kkold' is not defined",
     "output_type": "error",
     "traceback": [
      "\u001b[0;31m---------------------------------------------------------------------------\u001b[0m",
      "\u001b[0;31mNameError\u001b[0m                                 Traceback (most recent call last)",
      "\u001b[0;32m<ipython-input-7-8d49bb1eaae3>\u001b[0m in \u001b[0;36m<module>\u001b[0;34m()\u001b[0m\n\u001b[0;32m----> 1\u001b[0;31m \u001b[0mkkold\u001b[0m\u001b[0;34m.\u001b[0m\u001b[0mshape\u001b[0m\u001b[0;34m,\u001b[0m\u001b[0mkknew\u001b[0m\u001b[0;34m.\u001b[0m\u001b[0mshape\u001b[0m\u001b[0;34m\u001b[0m\u001b[0m\n\u001b[0m",
      "\u001b[0;31mNameError\u001b[0m: name 'kkold' is not defined"
     ]
    }
   ],
   "source": [
    "kkold.shape,kknew.shape"
   ]
  },
  {
   "cell_type": "code",
   "execution_count": 789,
   "metadata": {},
   "outputs": [
    {
     "data": {
      "text/plain": [
       "((97,), (97,))"
      ]
     },
     "execution_count": 789,
     "metadata": {},
     "output_type": "execute_result"
    }
   ],
   "source": [
    "(kkold['SCI_TI'].apply(lambda s: s if s else pd.np.nan).dropna().shape,\n",
    " kknew['SCI_TI'].apply(lambda s: s if s else pd.np.nan).dropna().shape)"
   ]
  },
  {
   "cell_type": "code",
   "execution_count": 6,
   "metadata": {},
   "outputs": [
    {
     "ename": "NameError",
     "evalue": "name 'kknew' is not defined",
     "output_type": "error",
     "traceback": [
      "\u001b[0;31m---------------------------------------------------------------------------\u001b[0m",
      "\u001b[0;31mNameError\u001b[0m                                 Traceback (most recent call last)",
      "\u001b[0;32m<ipython-input-6-d4cebcb72c3b>\u001b[0m in \u001b[0;36m<module>\u001b[0;34m()\u001b[0m\n\u001b[0;32m----> 1\u001b[0;31m \u001b[0mkknew\u001b[0m\u001b[0;34m[\u001b[0m\u001b[0;34m[\u001b[0m\u001b[0;34m'TI'\u001b[0m\u001b[0;34m,\u001b[0m\u001b[0;34m'SCI_TI'\u001b[0m\u001b[0;34m]\u001b[0m\u001b[0;34m]\u001b[0m\u001b[0;34m.\u001b[0m\u001b[0mdropna\u001b[0m\u001b[0;34m(\u001b[0m\u001b[0;34m)\u001b[0m\u001b[0;34m\u001b[0m\u001b[0m\n\u001b[0m",
      "\u001b[0;31mNameError\u001b[0m: name 'kknew' is not defined"
     ]
    }
   ],
   "source": [
    "kknew[['TI','SCI_TI']].dropna()"
   ]
  },
  {
   "cell_type": "code",
   "execution_count": 753,
   "metadata": {},
   "outputs": [
    {
     "data": {
      "text/html": [
       "<div>\n",
       "<style scoped>\n",
       "    .dataframe tbody tr th:only-of-type {\n",
       "        vertical-align: middle;\n",
       "    }\n",
       "\n",
       "    .dataframe tbody tr th {\n",
       "        vertical-align: top;\n",
       "    }\n",
       "\n",
       "    .dataframe thead th {\n",
       "        text-align: right;\n",
       "    }\n",
       "</style>\n",
       "<table border=\"1\" class=\"dataframe\">\n",
       "  <thead>\n",
       "    <tr style=\"text-align: right;\">\n",
       "      <th></th>\n",
       "      <th>TI</th>\n",
       "      <th>SCI_TI</th>\n",
       "    </tr>\n",
       "  </thead>\n",
       "  <tbody>\n",
       "    <tr>\n",
       "      <th>0</th>\n",
       "      <td>The processes involved in a management model for university patents</td>\n",
       "      <td></td>\n",
       "    </tr>\n",
       "    <tr>\n",
       "      <th>1</th>\n",
       "      <td>Reforma a la salud y reconfiguración de la trayectoria de acceso a los servicios de salud desde la experiencia de los usuarios en Medellín, Colombia</td>\n",
       "      <td>Reforma a la salud y reconfiguración de la trayectoria de acceso a los servicios de salud desde la experiencia de los usuarios en Medellín, Colombia</td>\n",
       "    </tr>\n",
       "    <tr>\n",
       "      <th>2</th>\n",
       "      <td>Diferencias socioeconómicas en los años de vida perdidos por cáncer de mama y cáncer cérvico-uterino en Colombia, 1997 y 2007</td>\n",
       "      <td>Diferencias socioeconómicas en los años de vida perdidos por cáncer de mama y cáncer cérvico-uterino en Colombia, 1997 y 2007</td>\n",
       "    </tr>\n",
       "    <tr>\n",
       "      <th>3</th>\n",
       "      <td>Efecto del enriquecimiento con nutrientes en la degradación de clorpirifos, malatión y metil paratión</td>\n",
       "      <td>Efecto del enriquecimiento con nutrientes en la degradación de clorpirifos, malatión y metil paratión</td>\n",
       "    </tr>\n",
       "    <tr>\n",
       "      <th>4</th>\n",
       "      <td>El Balanced Scorecard como sistema de control y su aplicación como herramienta de evaluación en el ambiente bibliotecario</td>\n",
       "      <td>El Balanced Scorecard como sistema de control y su aplicación como herramienta de evaluación en el ambiente bibliotecario</td>\n",
       "    </tr>\n",
       "    <tr>\n",
       "      <th>5</th>\n",
       "      <td>Papel del bibliotecario público en la tradición educativa y cultural de Medellín, 1870 - 1950</td>\n",
       "      <td>Papel del bibliotecario público en la tradición educativa y cultural de Medellín, 1870 - 1950</td>\n",
       "    </tr>\n",
       "    <tr>\n",
       "      <th>6</th>\n",
       "      <td>Reflexividad dialógica en el estudio de jóvenes y prácticas políticas</td>\n",
       "      <td>Reflexividad dialógica en el estudio de jóvenes y prácticas políticas</td>\n",
       "    </tr>\n",
       "    <tr>\n",
       "      <th>7</th>\n",
       "      <td>El retorno a la traducción o nuevamente sobre la historia del concepto de hermenéutica</td>\n",
       "      <td>El retorno a la traducción o nuevamente sobre la historia del concepto de hermenéutica</td>\n",
       "    </tr>\n",
       "    <tr>\n",
       "      <th>8</th>\n",
       "      <td>An Algebraic Characterization of Affine Manifolds with G-Structure Satisfying a Homogeneity Condition</td>\n",
       "      <td>An Algebraic Characterization of Affine Manifolds with G-Structure Satisfying a Homogeneity Condition</td>\n",
       "    </tr>\n",
       "    <tr>\n",
       "      <th>9</th>\n",
       "      <td>ESTUDIO DEL POLIMORFISMO HINFI DEL GEN PIT-1 Y SU ASOCIACIÓN CON CARACTERÍSTICAS DE TIPO, PRODUCCIÓN DE LECHE Y DÍAS ABIERTOS DE VACAS HOLSTEIN EN EL DEPARTAMENTO DE ANTIOQUIA, COLOMBIA</td>\n",
       "      <td>ESTUDIO DEL POLIMORFISMO HINFI DEL GEN PIT-1 Y SU ASOCIACIÓN CON CARACTERÍSTICAS DE TIPO, PRODUCCIÓN DE LECHE Y DÍAS ABIERTOS DE VACAS HOLSTEIN EN EL DEPARTAMENTO DE ANTIOQUIA, COLOMBIA</td>\n",
       "    </tr>\n",
       "    <tr>\n",
       "      <th>10</th>\n",
       "      <td>Community Mothers of Antioquia and their Vocation for Care</td>\n",
       "      <td></td>\n",
       "    </tr>\n",
       "    <tr>\n",
       "      <th>11</th>\n",
       "      <td>EFECTOS DEL CLORURO DE MERCURIO (HgCl2) SOBRE LA SOBREVIVENCIA Y CRECIMIENTO DE RENACUAJOS DE DENDROSOPHUS BOGERTI</td>\n",
       "      <td>EFECTOS DEL CLORURO DE MERCURIO (HgCl2) SOBRE LA SOBREVIVENCIA Y CRECIMIENTO DE RENACUAJOS DE DENDROSOPHUS BOGERTI</td>\n",
       "    </tr>\n",
       "    <tr>\n",
       "      <th>12</th>\n",
       "      <td>DESARROLLO LARVAL DE PROCHILODUS MAGDALENAE (STEINDACHNER, 1879) (PISCES: PROCHILODONTIDAE), RÍO MAGDALENA, COLOMBIA</td>\n",
       "      <td>DESARROLLO LARVAL DE PROCHILODUS MAGDALENAE (STEINDACHNER, 1879) (PISCES: PROCHILODONTIDAE), RÍO MAGDALENA, COLOMBIA</td>\n",
       "    </tr>\n",
       "    <tr>\n",
       "      <th>13</th>\n",
       "      <td>De un modo de relacionar dos elementos contrarios a la mediación o acerca de la aproximación histórica al concepto mediación</td>\n",
       "      <td>De un modo de relacionar dos elementos contrarios a la mediación o acerca de la aproximación histórica al concepto mediación</td>\n",
       "    </tr>\n",
       "    <tr>\n",
       "      <th>14</th>\n",
       "      <td>Tradiciones De Resistencia Y Lucha: Un análisis sobre el surgimiento y la permanencia de las guerrillas en Colombia</td>\n",
       "      <td>Tradiciones De Resistencia Y Lucha: Un análisis sobre el surgimiento y la permanencia de las guerrillas en Colombia</td>\n",
       "    </tr>\n",
       "    <tr>\n",
       "      <th>15</th>\n",
       "      <td>Hay que poner de su parte para afrontar una enfermedad grave</td>\n",
       "      <td>Hay que poner de su parte para afrontar una enfermedad grave</td>\n",
       "    </tr>\n",
       "    <tr>\n",
       "      <th>16</th>\n",
       "      <td>SAN JUAN DE URABÁ RIVER FISH, CARIBBEAN COAST, COLOMBIA, SOUTH AMERICA</td>\n",
       "      <td>SAN JUAN DE URABÁ RIVER FISH, CARIBBEAN COAST, COLOMBIA, SOUTH AMERICA</td>\n",
       "    </tr>\n",
       "    <tr>\n",
       "      <th>17</th>\n",
       "      <td>Pacto social y libertad en Thomas Hobbes</td>\n",
       "      <td>Pacto social y libertad en Thomas Hobbes</td>\n",
       "    </tr>\n",
       "    <tr>\n",
       "      <th>18</th>\n",
       "      <td>Ludwik Fleck: precursor del pensamiento de Thomas Kuhn</td>\n",
       "      <td>Ludwik Fleck: precursor del pensamiento de Thomas Kuhn</td>\n",
       "    </tr>\n",
       "    <tr>\n",
       "      <th>19</th>\n",
       "      <td>Dietética y Moral. Medicina y Filosofía en la antigüedad helenística</td>\n",
       "      <td>Dietética y Moral. Medicina y Filosofía en la antigüedad helenística</td>\n",
       "    </tr>\n",
       "    <tr>\n",
       "      <th>20</th>\n",
       "      <td>El contrato social en Hobbes: ¿absolutista o liberal?</td>\n",
       "      <td>El contrato social en Hobbes: ¿absolutista o liberal?</td>\n",
       "    </tr>\n",
       "    <tr>\n",
       "      <th>21</th>\n",
       "      <td>La visión heroica sobre la independencia de Antioquia</td>\n",
       "      <td>La visión heroica sobre la independencia de Antioquia</td>\n",
       "    </tr>\n",
       "    <tr>\n",
       "      <th>22</th>\n",
       "      <td>La significación continental de Manuel González Prada: sobre la génesis del anarquismo en Hispanoamérica</td>\n",
       "      <td>La significación continental de Manuel González Prada: sobre la génesis del anarquismo en Hispanoamérica</td>\n",
       "    </tr>\n",
       "    <tr>\n",
       "      <th>23</th>\n",
       "      <td>Resistencia a los medicamentos antirretrovirales en pacientes que reciben tratamiento para VIH-sida en Colombia</td>\n",
       "      <td>Resistencia a los medicamentos antirretrovirales en pacientes que reciben tratamiento para VIH-sida en Colombia</td>\n",
       "    </tr>\n",
       "    <tr>\n",
       "      <th>24</th>\n",
       "      <td>Fiebre manchada de las montañas rocosas: ni tan manchada ni tan montañosa como pensábamos</td>\n",
       "      <td>Fiebre manchada de las montañas rocosas: ni tan manchada ni tan montañosa como pensábamos</td>\n",
       "    </tr>\n",
       "    <tr>\n",
       "      <th>25</th>\n",
       "      <td>Ictericia y hepatopatía en el paciente con malaria</td>\n",
       "      <td>Ictericia y hepatopatía en el paciente con malaria</td>\n",
       "    </tr>\n",
       "    <tr>\n",
       "      <th>26</th>\n",
       "      <td>Histoplasmosis en pacientes con sida: Un estudio de cohorte en Medellín, Colombia</td>\n",
       "      <td>Histoplasmosis en pacientes con sida: Un estudio de cohorte en Medellín, Colombia</td>\n",
       "    </tr>\n",
       "    <tr>\n",
       "      <th>27</th>\n",
       "      <td>Elementos para una teoría clásica de los precios de equilibrio y desequilibrio</td>\n",
       "      <td>Elementos para una teoría clásica de los precios de equilibrio y desequilibrio</td>\n",
       "    </tr>\n",
       "    <tr>\n",
       "      <th>28</th>\n",
       "      <td>Sesgos en estimación, tamaño y potencia de una prueba sobre el parámetro de memoria larga en modelos ARFIMA</td>\n",
       "      <td>Sesgos en estimación, tamaño y potencia de una prueba sobre el parámetro de memoria larga en modelos ARFIMA</td>\n",
       "    </tr>\n",
       "    <tr>\n",
       "      <th>29</th>\n",
       "      <td>Tasa de descuento y rotación forestal: el caso del Eucalyptus Saligna</td>\n",
       "      <td>Tasa de descuento y rotación forestal: el caso del Eucalyptus Saligna</td>\n",
       "    </tr>\n",
       "    <tr>\n",
       "      <th>...</th>\n",
       "      <td>...</td>\n",
       "      <td>...</td>\n",
       "    </tr>\n",
       "    <tr>\n",
       "      <th>270</th>\n",
       "      <td>Las condiciones laborales de los profesionales de la salud a partir de la Ley 100 de 1993: evolución y un estudio de caso para Medellín</td>\n",
       "      <td>Las condiciones laborales de los profesionales de la salud a partir de la Ley 100 de 1993: evolución y un estudio de caso para Medellín</td>\n",
       "    </tr>\n",
       "    <tr>\n",
       "      <th>271</th>\n",
       "      <td>La salud como derecho en Colombia. 1999-2007</td>\n",
       "      <td>La salud como derecho en Colombia. 1999-2007</td>\n",
       "    </tr>\n",
       "    <tr>\n",
       "      <th>272</th>\n",
       "      <td>Archivística: fundamentación teórica y tradición formativa</td>\n",
       "      <td>Archivística: fundamentación teórica y tradición formativa</td>\n",
       "    </tr>\n",
       "    <tr>\n",
       "      <th>273</th>\n",
       "      <td>La biblioteca pública como ambiente educativo para el encuentro ciudadano: un estudio en la Comuna 1 de Medellín</td>\n",
       "      <td>La biblioteca pública como ambiente educativo para el encuentro ciudadano: un estudio en la Comuna 1 de Medellín</td>\n",
       "    </tr>\n",
       "    <tr>\n",
       "      <th>274</th>\n",
       "      <td>Sperm count. DO we need a new reference value? [Concentración espermática. ¿Necesitamos un nuevo valor de referencia?]</td>\n",
       "      <td></td>\n",
       "    </tr>\n",
       "    <tr>\n",
       "      <th>275</th>\n",
       "      <td>Building 3D models in order to teach the Gauss' Law in a differential form</td>\n",
       "      <td></td>\n",
       "    </tr>\n",
       "    <tr>\n",
       "      <th>276</th>\n",
       "      <td>Sistema de información documental sobre desplazamiento forzado en Colombia basado en ontologías</td>\n",
       "      <td>Sistema de información documental sobre desplazamiento forzado en Colombia basado en ontologías</td>\n",
       "    </tr>\n",
       "    <tr>\n",
       "      <th>277</th>\n",
       "      <td>Brucella canis EN MEDELLÍN (COLOMBIA), UN PROBLEMA ACTUAL</td>\n",
       "      <td>Brucella canis EN MEDELLÍN (COLOMBIA), UN PROBLEMA ACTUAL</td>\n",
       "    </tr>\n",
       "    <tr>\n",
       "      <th>278</th>\n",
       "      <td>Acceso a los servicios de salud en seis ciudades de Colombia: limitaciones y consecuencias</td>\n",
       "      <td>Acceso a los servicios de salud en seis ciudades de Colombia: limitaciones y consecuencias</td>\n",
       "    </tr>\n",
       "    <tr>\n",
       "      <th>279</th>\n",
       "      <td>La legislación que reglamenta el sistema de salud colombiano: formulación, aplicación e implicaciones sobre sus actores</td>\n",
       "      <td>La legislación que reglamenta el sistema de salud colombiano: formulación, aplicación e implicaciones sobre sus actores</td>\n",
       "    </tr>\n",
       "    <tr>\n",
       "      <th>280</th>\n",
       "      <td>Riesgo en el manejo de la amalgama dental en las entidades odontológicas medianas y pequeñas en el departamento de Antioquia, Colombia</td>\n",
       "      <td>Riesgo en el manejo de la amalgama dental en las entidades odontológicas medianas y pequeñas en el departamento de Antioquia, Colombia</td>\n",
       "    </tr>\n",
       "    <tr>\n",
       "      <th>281</th>\n",
       "      <td>Síndrome de burnout y satisfacción laboral en docentes de una institución de educación superior, Medellin, 2008</td>\n",
       "      <td>Síndrome de burnout y satisfacción laboral en docentes de una institución de educación superior, Medellin, 2008</td>\n",
       "    </tr>\n",
       "    <tr>\n",
       "      <th>282</th>\n",
       "      <td>Epidemiología y la relación salud-ambiente: reflexiones sobre el cambio ambiental, desarrollo sustentable y salud poblacional</td>\n",
       "      <td>Epidemiología y la relación salud-ambiente: reflexiones sobre el cambio ambiental, desarrollo sustentable y salud poblacional</td>\n",
       "    </tr>\n",
       "    <tr>\n",
       "      <th>283</th>\n",
       "      <td>Seguridad vial, un desafío de salud pública en la Colombia del siglo XXI</td>\n",
       "      <td>Seguridad vial, un desafío de salud pública en la Colombia del siglo XXI</td>\n",
       "    </tr>\n",
       "    <tr>\n",
       "      <th>284</th>\n",
       "      <td>Evolución del sistema general de riesgos profesionales, Colombia 1994 - 2004</td>\n",
       "      <td>Evolución del sistema general de riesgos profesionales, Colombia 1994 - 2004</td>\n",
       "    </tr>\n",
       "    <tr>\n",
       "      <th>285</th>\n",
       "      <td>Los grupos de Investigación</td>\n",
       "      <td>Los grupos de Investigación</td>\n",
       "    </tr>\n",
       "    <tr>\n",
       "      <th>286</th>\n",
       "      <td>Exploring Academic Writing and Voice in ESL Writing</td>\n",
       "      <td>Exploring Academic Writing and Voice in ESL Writing</td>\n",
       "    </tr>\n",
       "    <tr>\n",
       "      <th>287</th>\n",
       "      <td>Education and Language Policy in Colombia: Exploring Processes of Inclusion, Exclusion, and Stratification in Times of Global Reform</td>\n",
       "      <td>Education and Language Policy in Colombia: Exploring Processes of Inclusion, Exclusion, and Stratification in Times of Global Reform</td>\n",
       "    </tr>\n",
       "    <tr>\n",
       "      <th>288</th>\n",
       "      <td>RESEÑA DEL SOFTWARE DISPONIBLE EN COLOMBIA PARA LA GESTIÓN DE INVENTARIOS EN CADENAS DE ABASTECIMIENTO</td>\n",
       "      <td>RESEÑA DEL SOFTWARE DISPONIBLE EN COLOMBIA PARA LA GESTIÓN DE INVENTARIOS EN CADENAS DE ABASTECIMIENTO</td>\n",
       "    </tr>\n",
       "    <tr>\n",
       "      <th>289</th>\n",
       "      <td>Síndromes de Bartter y Gitelman: revisión de los aspectos genéticos, fisiopatológicos y clínicos</td>\n",
       "      <td>Síndromes de Bartter y Gitelman: revisión de los aspectos genéticos, fisiopatológicos y clínicos</td>\n",
       "    </tr>\n",
       "    <tr>\n",
       "      <th>290</th>\n",
       "      <td>La evaluación del cuidado de enfermería: un compromiso disciplinar</td>\n",
       "      <td>La evaluación del cuidado de enfermería: un compromiso disciplinar</td>\n",
       "    </tr>\n",
       "    <tr>\n",
       "      <th>291</th>\n",
       "      <td>La unidad de cuidado intensivo, un lugar para quedarse solo</td>\n",
       "      <td>La unidad de cuidado intensivo, un lugar para quedarse solo</td>\n",
       "    </tr>\n",
       "    <tr>\n",
       "      <th>292</th>\n",
       "      <td>Atención de la urgencia en casa: una reacción automática</td>\n",
       "      <td>Atención de la urgencia en casa: una reacción automática</td>\n",
       "    </tr>\n",
       "    <tr>\n",
       "      <th>293</th>\n",
       "      <td>Relaciones contractuales entre las instituciones prestadoras y aseguradoras de servicios de salud del municipio de Medellín, Colombia, 2005-2006</td>\n",
       "      <td>Relaciones contractuales entre las instituciones prestadoras y aseguradoras de servicios de salud del municipio de Medellín, Colombia, 2005-2006</td>\n",
       "    </tr>\n",
       "    <tr>\n",
       "      <th>294</th>\n",
       "      <td>Validación del “inventario de razones para vivir” (RFL) en sujetos con conducta suicida de Colombia</td>\n",
       "      <td>Validación del “inventario de razones para vivir” (RFL) en sujetos con conducta suicida de Colombia</td>\n",
       "    </tr>\n",
       "    <tr>\n",
       "      <th>295</th>\n",
       "      <td>Frecuencia de los marcadores del gen leptina en razas bovinas criollas y colombianas: I. Romosinuano, chino santandereano, sanmartinero y velásquez</td>\n",
       "      <td>Frecuencia de los marcadores del gen leptina en razas bovinas criollas y colombianas: I. Romosinuano, chino santandereano, sanmartinero y velásquez</td>\n",
       "    </tr>\n",
       "    <tr>\n",
       "      <th>296</th>\n",
       "      <td>La experiencia de estar hospitalizado en una unidad de cuidado intensivo</td>\n",
       "      <td>La experiencia de estar hospitalizado en una unidad de cuidado intensivo</td>\n",
       "    </tr>\n",
       "    <tr>\n",
       "      <th>297</th>\n",
       "      <td>Triatominos (Hemiptera: Reduviidae) de la Sierra Nevada de Santa Marta, Colombia: Aspectos epidemiológicos, entomológicos y de distribución</td>\n",
       "      <td>Triatominos (Hemiptera: Reduviidae) de la Sierra Nevada de Santa Marta, Colombia: Aspectos epidemiológicos, entomológicos y de distribución</td>\n",
       "    </tr>\n",
       "    <tr>\n",
       "      <th>298</th>\n",
       "      <td>Calidad de vida en pacientes con enfermedad renal crónica sin diálisis ni trasplante de una muestra aleatoria de dos aseguradoras en salud: Medellín, Colombia, 2008</td>\n",
       "      <td>Calidad de vida en pacientes con enfermedad renal crónica sin diálisis ni trasplante de una muestra aleatoria de dos aseguradoras en salud: Medellín, Colombia, 2008</td>\n",
       "    </tr>\n",
       "    <tr>\n",
       "      <th>299</th>\n",
       "      <td>Aproximación teórica al concepto de violencia: avatares de una definición</td>\n",
       "      <td>Aproximación teórica al concepto de violencia: avatares de una definición</td>\n",
       "    </tr>\n",
       "  </tbody>\n",
       "</table>\n",
       "<p>300 rows × 2 columns</p>\n",
       "</div>"
      ],
      "text/plain": [
       "                                                                                                                                                                                            TI  \\\n",
       "0                                                                                                                          The processes involved in a management model for university patents   \n",
       "1                                         Reforma a la salud y reconfiguración de la trayectoria de acceso a los servicios de salud desde la experiencia de los usuarios en Medellín, Colombia   \n",
       "2                                                                Diferencias socioeconómicas en los años de vida perdidos por cáncer de mama y cáncer cérvico-uterino en Colombia, 1997 y 2007   \n",
       "3                                                                                        Efecto del enriquecimiento con nutrientes en la degradación de clorpirifos, malatión y metil paratión   \n",
       "4                                                                    El Balanced Scorecard como sistema de control y su aplicación como herramienta de evaluación en el ambiente bibliotecario   \n",
       "5                                                                                                Papel del bibliotecario público en la tradición educativa y cultural de Medellín, 1870 - 1950   \n",
       "6                                                                                                                        Reflexividad dialógica en el estudio de jóvenes y prácticas políticas   \n",
       "7                                                                                                       El retorno a la traducción o nuevamente sobre la historia del concepto de hermenéutica   \n",
       "8                                                                                        An Algebraic Characterization of Affine Manifolds with G-Structure Satisfying a Homogeneity Condition   \n",
       "9    ESTUDIO DEL POLIMORFISMO HINFI DEL GEN PIT-1 Y SU ASOCIACIÓN CON CARACTERÍSTICAS DE TIPO, PRODUCCIÓN DE LECHE Y DÍAS ABIERTOS DE VACAS HOLSTEIN EN EL DEPARTAMENTO DE ANTIOQUIA, COLOMBIA   \n",
       "10                                                                                                                                  Community Mothers of Antioquia and their Vocation for Care   \n",
       "11                                                                          EFECTOS DEL CLORURO DE MERCURIO (HgCl2) SOBRE LA SOBREVIVENCIA Y CRECIMIENTO DE RENACUAJOS DE DENDROSOPHUS BOGERTI   \n",
       "12                                                                        DESARROLLO LARVAL DE PROCHILODUS MAGDALENAE (STEINDACHNER, 1879) (PISCES: PROCHILODONTIDAE), RÍO MAGDALENA, COLOMBIA   \n",
       "13                                                                De un modo de relacionar dos elementos contrarios a la mediación o acerca de la aproximación histórica al concepto mediación   \n",
       "14                                                                         Tradiciones De Resistencia Y Lucha: Un análisis sobre el surgimiento y la permanencia de las guerrillas en Colombia   \n",
       "15                                                                                                                                Hay que poner de su parte para afrontar una enfermedad grave   \n",
       "16                                                                                                                      SAN JUAN DE URABÁ RIVER FISH, CARIBBEAN COAST, COLOMBIA, SOUTH AMERICA   \n",
       "17                                                                                                                                                    Pacto social y libertad en Thomas Hobbes   \n",
       "18                                                                                                                                      Ludwik Fleck: precursor del pensamiento de Thomas Kuhn   \n",
       "19                                                                                                                        Dietética y Moral. Medicina y Filosofía en la antigüedad helenística   \n",
       "20                                                                                                                                       El contrato social en Hobbes: ¿absolutista o liberal?   \n",
       "21                                                                                                                                       La visión heroica sobre la independencia de Antioquia   \n",
       "22                                                                                    La significación continental de Manuel González Prada: sobre la génesis del anarquismo en Hispanoamérica   \n",
       "23                                                                             Resistencia a los medicamentos antirretrovirales en pacientes que reciben tratamiento para VIH-sida en Colombia   \n",
       "24                                                                                                   Fiebre manchada de las montañas rocosas: ni tan manchada ni tan montañosa como pensábamos   \n",
       "25                                                                                                                                          Ictericia y hepatopatía en el paciente con malaria   \n",
       "26                                                                                                           Histoplasmosis en pacientes con sida: Un estudio de cohorte en Medellín, Colombia   \n",
       "27                                                                                                              Elementos para una teoría clásica de los precios de equilibrio y desequilibrio   \n",
       "28                                                                                 Sesgos en estimación, tamaño y potencia de una prueba sobre el parámetro de memoria larga en modelos ARFIMA   \n",
       "29                                                                                                                       Tasa de descuento y rotación forestal: el caso del Eucalyptus Saligna   \n",
       "..                                                                                                                                                                                         ...   \n",
       "270                                                    Las condiciones laborales de los profesionales de la salud a partir de la Ley 100 de 1993: evolución y un estudio de caso para Medellín   \n",
       "271                                                                                                                                               La salud como derecho en Colombia. 1999-2007   \n",
       "272                                                                                                                                 Archivística: fundamentación teórica y tradición formativa   \n",
       "273                                                                           La biblioteca pública como ambiente educativo para el encuentro ciudadano: un estudio en la Comuna 1 de Medellín   \n",
       "274                                                                     Sperm count. DO we need a new reference value? [Concentración espermática. ¿Necesitamos un nuevo valor de referencia?]   \n",
       "275                                                                                                                 Building 3D models in order to teach the Gauss' Law in a differential form   \n",
       "276                                                                                            Sistema de información documental sobre desplazamiento forzado en Colombia basado en ontologías   \n",
       "277                                                                                                                                  Brucella canis EN MEDELLÍN (COLOMBIA), UN PROBLEMA ACTUAL   \n",
       "278                                                                                                 Acceso a los servicios de salud en seis ciudades de Colombia: limitaciones y consecuencias   \n",
       "279                                                                    La legislación que reglamenta el sistema de salud colombiano: formulación, aplicación e implicaciones sobre sus actores   \n",
       "280                                                     Riesgo en el manejo de la amalgama dental en las entidades odontológicas medianas y pequeñas en el departamento de Antioquia, Colombia   \n",
       "281                                                                            Síndrome de burnout y satisfacción laboral en docentes de una institución de educación superior, Medellin, 2008   \n",
       "282                                                              Epidemiología y la relación salud-ambiente: reflexiones sobre el cambio ambiental, desarrollo sustentable y salud poblacional   \n",
       "283                                                                                                                   Seguridad vial, un desafío de salud pública en la Colombia del siglo XXI   \n",
       "284                                                                                                               Evolución del sistema general de riesgos profesionales, Colombia 1994 - 2004   \n",
       "285                                                                                                                                                                Los grupos de Investigación   \n",
       "286                                                                                                                                        Exploring Academic Writing and Voice in ESL Writing   \n",
       "287                                                       Education and Language Policy in Colombia: Exploring Processes of Inclusion, Exclusion, and Stratification in Times of Global Reform   \n",
       "288                                                                                     RESEÑA DEL SOFTWARE DISPONIBLE EN COLOMBIA PARA LA GESTIÓN DE INVENTARIOS EN CADENAS DE ABASTECIMIENTO   \n",
       "289                                                                                           Síndromes de Bartter y Gitelman: revisión de los aspectos genéticos, fisiopatológicos y clínicos   \n",
       "290                                                                                                                         La evaluación del cuidado de enfermería: un compromiso disciplinar   \n",
       "291                                                                                                                                La unidad de cuidado intensivo, un lugar para quedarse solo   \n",
       "292                                                                                                                                   Atención de la urgencia en casa: una reacción automática   \n",
       "293                                           Relaciones contractuales entre las instituciones prestadoras y aseguradoras de servicios de salud del municipio de Medellín, Colombia, 2005-2006   \n",
       "294                                                                                        Validación del “inventario de razones para vivir” (RFL) en sujetos con conducta suicida de Colombia   \n",
       "295                                        Frecuencia de los marcadores del gen leptina en razas bovinas criollas y colombianas: I. Romosinuano, chino santandereano, sanmartinero y velásquez   \n",
       "296                                                                                                                   La experiencia de estar hospitalizado en una unidad de cuidado intensivo   \n",
       "297                                                Triatominos (Hemiptera: Reduviidae) de la Sierra Nevada de Santa Marta, Colombia: Aspectos epidemiológicos, entomológicos y de distribución   \n",
       "298                       Calidad de vida en pacientes con enfermedad renal crónica sin diálisis ni trasplante de una muestra aleatoria de dos aseguradoras en salud: Medellín, Colombia, 2008   \n",
       "299                                                                                                                  Aproximación teórica al concepto de violencia: avatares de una definición   \n",
       "\n",
       "                                                                                                                                                                                        SCI_TI  \n",
       "0                                                                                                                                                                                               \n",
       "1                                         Reforma a la salud y reconfiguración de la trayectoria de acceso a los servicios de salud desde la experiencia de los usuarios en Medellín, Colombia  \n",
       "2                                                                Diferencias socioeconómicas en los años de vida perdidos por cáncer de mama y cáncer cérvico-uterino en Colombia, 1997 y 2007  \n",
       "3                                                                                        Efecto del enriquecimiento con nutrientes en la degradación de clorpirifos, malatión y metil paratión  \n",
       "4                                                                    El Balanced Scorecard como sistema de control y su aplicación como herramienta de evaluación en el ambiente bibliotecario  \n",
       "5                                                                                                Papel del bibliotecario público en la tradición educativa y cultural de Medellín, 1870 - 1950  \n",
       "6                                                                                                                        Reflexividad dialógica en el estudio de jóvenes y prácticas políticas  \n",
       "7                                                                                                       El retorno a la traducción o nuevamente sobre la historia del concepto de hermenéutica  \n",
       "8                                                                                        An Algebraic Characterization of Affine Manifolds with G-Structure Satisfying a Homogeneity Condition  \n",
       "9    ESTUDIO DEL POLIMORFISMO HINFI DEL GEN PIT-1 Y SU ASOCIACIÓN CON CARACTERÍSTICAS DE TIPO, PRODUCCIÓN DE LECHE Y DÍAS ABIERTOS DE VACAS HOLSTEIN EN EL DEPARTAMENTO DE ANTIOQUIA, COLOMBIA  \n",
       "10                                                                                                                                                                                              \n",
       "11                                                                          EFECTOS DEL CLORURO DE MERCURIO (HgCl2) SOBRE LA SOBREVIVENCIA Y CRECIMIENTO DE RENACUAJOS DE DENDROSOPHUS BOGERTI  \n",
       "12                                                                        DESARROLLO LARVAL DE PROCHILODUS MAGDALENAE (STEINDACHNER, 1879) (PISCES: PROCHILODONTIDAE), RÍO MAGDALENA, COLOMBIA  \n",
       "13                                                                De un modo de relacionar dos elementos contrarios a la mediación o acerca de la aproximación histórica al concepto mediación  \n",
       "14                                                                         Tradiciones De Resistencia Y Lucha: Un análisis sobre el surgimiento y la permanencia de las guerrillas en Colombia  \n",
       "15                                                                                                                                Hay que poner de su parte para afrontar una enfermedad grave  \n",
       "16                                                                                                                      SAN JUAN DE URABÁ RIVER FISH, CARIBBEAN COAST, COLOMBIA, SOUTH AMERICA  \n",
       "17                                                                                                                                                    Pacto social y libertad en Thomas Hobbes  \n",
       "18                                                                                                                                      Ludwik Fleck: precursor del pensamiento de Thomas Kuhn  \n",
       "19                                                                                                                        Dietética y Moral. Medicina y Filosofía en la antigüedad helenística  \n",
       "20                                                                                                                                       El contrato social en Hobbes: ¿absolutista o liberal?  \n",
       "21                                                                                                                                       La visión heroica sobre la independencia de Antioquia  \n",
       "22                                                                                    La significación continental de Manuel González Prada: sobre la génesis del anarquismo en Hispanoamérica  \n",
       "23                                                                             Resistencia a los medicamentos antirretrovirales en pacientes que reciben tratamiento para VIH-sida en Colombia  \n",
       "24                                                                                                   Fiebre manchada de las montañas rocosas: ni tan manchada ni tan montañosa como pensábamos  \n",
       "25                                                                                                                                          Ictericia y hepatopatía en el paciente con malaria  \n",
       "26                                                                                                           Histoplasmosis en pacientes con sida: Un estudio de cohorte en Medellín, Colombia  \n",
       "27                                                                                                              Elementos para una teoría clásica de los precios de equilibrio y desequilibrio  \n",
       "28                                                                                 Sesgos en estimación, tamaño y potencia de una prueba sobre el parámetro de memoria larga en modelos ARFIMA  \n",
       "29                                                                                                                       Tasa de descuento y rotación forestal: el caso del Eucalyptus Saligna  \n",
       "..                                                                                                                                                                                         ...  \n",
       "270                                                    Las condiciones laborales de los profesionales de la salud a partir de la Ley 100 de 1993: evolución y un estudio de caso para Medellín  \n",
       "271                                                                                                                                               La salud como derecho en Colombia. 1999-2007  \n",
       "272                                                                                                                                 Archivística: fundamentación teórica y tradición formativa  \n",
       "273                                                                           La biblioteca pública como ambiente educativo para el encuentro ciudadano: un estudio en la Comuna 1 de Medellín  \n",
       "274                                                                                                                                                                                             \n",
       "275                                                                                                                                                                                             \n",
       "276                                                                                            Sistema de información documental sobre desplazamiento forzado en Colombia basado en ontologías  \n",
       "277                                                                                                                                  Brucella canis EN MEDELLÍN (COLOMBIA), UN PROBLEMA ACTUAL  \n",
       "278                                                                                                 Acceso a los servicios de salud en seis ciudades de Colombia: limitaciones y consecuencias  \n",
       "279                                                                    La legislación que reglamenta el sistema de salud colombiano: formulación, aplicación e implicaciones sobre sus actores  \n",
       "280                                                     Riesgo en el manejo de la amalgama dental en las entidades odontológicas medianas y pequeñas en el departamento de Antioquia, Colombia  \n",
       "281                                                                            Síndrome de burnout y satisfacción laboral en docentes de una institución de educación superior, Medellin, 2008  \n",
       "282                                                              Epidemiología y la relación salud-ambiente: reflexiones sobre el cambio ambiental, desarrollo sustentable y salud poblacional  \n",
       "283                                                                                                                   Seguridad vial, un desafío de salud pública en la Colombia del siglo XXI  \n",
       "284                                                                                                               Evolución del sistema general de riesgos profesionales, Colombia 1994 - 2004  \n",
       "285                                                                                                                                                                Los grupos de Investigación  \n",
       "286                                                                                                                                        Exploring Academic Writing and Voice in ESL Writing  \n",
       "287                                                       Education and Language Policy in Colombia: Exploring Processes of Inclusion, Exclusion, and Stratification in Times of Global Reform  \n",
       "288                                                                                     RESEÑA DEL SOFTWARE DISPONIBLE EN COLOMBIA PARA LA GESTIÓN DE INVENTARIOS EN CADENAS DE ABASTECIMIENTO  \n",
       "289                                                                                           Síndromes de Bartter y Gitelman: revisión de los aspectos genéticos, fisiopatológicos y clínicos  \n",
       "290                                                                                                                         La evaluación del cuidado de enfermería: un compromiso disciplinar  \n",
       "291                                                                                                                                La unidad de cuidado intensivo, un lugar para quedarse solo  \n",
       "292                                                                                                                                   Atención de la urgencia en casa: una reacción automática  \n",
       "293                                           Relaciones contractuales entre las instituciones prestadoras y aseguradoras de servicios de salud del municipio de Medellín, Colombia, 2005-2006  \n",
       "294                                                                                        Validación del “inventario de razones para vivir” (RFL) en sujetos con conducta suicida de Colombia  \n",
       "295                                        Frecuencia de los marcadores del gen leptina en razas bovinas criollas y colombianas: I. Romosinuano, chino santandereano, sanmartinero y velásquez  \n",
       "296                                                                                                                   La experiencia de estar hospitalizado en una unidad de cuidado intensivo  \n",
       "297                                                Triatominos (Hemiptera: Reduviidae) de la Sierra Nevada de Santa Marta, Colombia: Aspectos epidemiológicos, entomológicos y de distribución  \n",
       "298                       Calidad de vida en pacientes con enfermedad renal crónica sin diálisis ni trasplante de una muestra aleatoria de dos aseguradoras en salud: Medellín, Colombia, 2008  \n",
       "299                                                                                                                  Aproximación teórica al concepto de violencia: avatares de una definición  \n",
       "\n",
       "[300 rows x 2 columns]"
      ]
     },
     "execution_count": 753,
     "metadata": {},
     "output_type": "execute_result"
    }
   ],
   "source": [
    "kkold[['TI','SCI_TI']].dropna()"
   ]
  },
  {
   "cell_type": "code",
   "execution_count": 803,
   "metadata": {},
   "outputs": [
    {
     "name": "stdout",
     "output_type": "stream",
     "text": [
      ".....506.1962308883667\n"
     ]
    }
   ],
   "source": [
    "s=time.time()\n",
    "kkold=merge_with_close_matches_old(cib.biblio['WOS'][['TI','SO']],drive_files.biblio['UDEA'][['UDEA_título',\n",
    "                                                            'UDEA_nombre revista o premio']],\n",
    "                            left_on='TI',left_extra_on='SO',right_on='UDEA_título',\n",
    "                            right_extra_on='UDEA_nombre revista o premio',how='left')\n",
    "print(time.time()-s)"
   ]
  },
  {
   "cell_type": "code",
   "execution_count": 804,
   "metadata": {},
   "outputs": [
    {
     "name": "stdout",
     "output_type": "stream",
     "text": [
      "....12330.449292421341\n"
     ]
    }
   ],
   "source": [
    "s=time.time()\n",
    "kknew=merge_with_close_matches_new(cib.biblio['WOS'][['TI','SO']],drive_files.biblio['UDEA'][['UDEA_título',\n",
    "                                                            'UDEA_nombre revista o premio']],\n",
    "                            left_on='TI',left_extra_on='SO',right_on='UDEA_título',\n",
    "                            right_extra_on='UDEA_nombre revista o premio',how='left')\n",
    "print(time.time()-s)"
   ]
  },
  {
   "cell_type": "code",
   "execution_count": 805,
   "metadata": {},
   "outputs": [
    {
     "ename": "SyntaxError",
     "evalue": "invalid syntax (<ipython-input-805-a56e8492fbb8>, line 1)",
     "output_type": "error",
     "traceback": [
      "\u001b[0;36m  File \u001b[0;32m\"<ipython-input-805-a56e8492fbb8>\"\u001b[0;36m, line \u001b[0;32m1\u001b[0m\n\u001b[0;31m    ..................\u001b[0m\n\u001b[0m         ^\u001b[0m\n\u001b[0;31mSyntaxError\u001b[0m\u001b[0;31m:\u001b[0m invalid syntax\n"
     ]
    }
   ],
   "source": [
    ".................."
   ]
  },
  {
   "cell_type": "code",
   "execution_count": 806,
   "metadata": {},
   "outputs": [
    {
     "data": {
      "text/plain": [
       "((100,), (431,))"
      ]
     },
     "execution_count": 806,
     "metadata": {},
     "output_type": "execute_result"
    }
   ],
   "source": [
    "(kkold['UDEA_título'].apply(lambda s: s if s else pd.np.nan).dropna().shape,\n",
    " kknew['UDEA_título'].apply(lambda s: s if s else pd.np.nan).dropna().shape)"
   ]
  },
  {
   "cell_type": "code",
   "execution_count": 835,
   "metadata": {},
   "outputs": [
    {
     "data": {
      "text/html": [
       "<div>\n",
       "<style scoped>\n",
       "    .dataframe tbody tr th:only-of-type {\n",
       "        vertical-align: middle;\n",
       "    }\n",
       "\n",
       "    .dataframe tbody tr th {\n",
       "        vertical-align: top;\n",
       "    }\n",
       "\n",
       "    .dataframe thead th {\n",
       "        text-align: right;\n",
       "    }\n",
       "</style>\n",
       "<table border=\"1\" class=\"dataframe\">\n",
       "  <thead>\n",
       "    <tr style=\"text-align: right;\">\n",
       "      <th></th>\n",
       "      <th>SO</th>\n",
       "      <th>TI</th>\n",
       "      <th>UDEA_nombre revista o premio</th>\n",
       "      <th>UDEA_título</th>\n",
       "    </tr>\n",
       "  </thead>\n",
       "  <tbody>\n",
       "    <tr>\n",
       "      <th>0</th>\n",
       "      <td>CHUNGARA-REVISTA DE ANTROPOLOGIA CHILENA</td>\n",
       "      <td>HIV/AIDS SITUATION AMONG THE WAYUU IN COLOMBIA: SEEKING TO UNDERSTAND THEIR VIEWPOINT</td>\n",
       "      <td>CHUNGARA-REVISTA DE ANTROPOLOGIA CHILENA</td>\n",
       "      <td>CARACTERIZACION DE LA SITUACION DEL VIH/SIDA EN LOS WAYUU DE COLOMBIA: UNA APROXIMACION A SUS PERCEPCIONES. (HIV/AIDS SITUATION AMONG THE WAYUU IN COLOMBIA: SEEKING TO UNDERSTAND THEIR VIEWPOINT).</td>\n",
       "    </tr>\n",
       "    <tr>\n",
       "      <th>1</th>\n",
       "      <td>POWDER DIFFRACTION</td>\n",
       "      <td>X-ray powder diffraction data for two new compounds (NH4)(1.5)Ni2V2O7(OH)(1.5) center dot H2O and (NH4)(1.5)Cu1.125Ni1.125V2O7(OH)(2) center dot H2O</td>\n",
       "      <td>POWDER DIFFRACTION</td>\n",
       "      <td>\"X-RAY POWDER DIFFRACTION DATA FOR TWO NEW COMPOUNDS (NH4)1.5Ni2V2O7(OH)1.5 H2O AND (NH4)1.5Cu1.125Ni1.125V2O7(OH)2 H2O\"</td>\n",
       "    </tr>\n",
       "    <tr>\n",
       "      <th>2</th>\n",
       "      <td>Revista Colombiana de Antropología</td>\n",
       "      <td>CUERPOS TATUADOS, \"ALMAS\" TATUADAS: NUEVAS FORMAS DE SUBJETIVIDAD EN LA CONTEMPORANEIDAD</td>\n",
       "      <td>REVISTA COLOMBIANA DE ANTROPOLOGIA</td>\n",
       "      <td>\"CUERPOS TATUADOS \"ALMAS\" TATUADAS: NUEVAS FORMAS DE SUBJETIVIDAD EN LA CONTEMPORANEIDAD\"</td>\n",
       "    </tr>\n",
       "    <tr>\n",
       "      <th>3</th>\n",
       "      <td>Análisis Político</td>\n",
       "      <td>LA CONSTRUCCIÓN SOCIAL DE UNA GUERRILLA</td>\n",
       "      <td>ANALISIS POLITICO</td>\n",
       "      <td>LA CONSTRUCCION SOCIAL DE UNA GUERRILLA. (THE SOCIAL CONSTRUCTION OF A GUERRILLA).</td>\n",
       "    </tr>\n",
       "    <tr>\n",
       "      <th>4</th>\n",
       "      <td>Biotecnología en el Sector Agropecuario y Agroindustrial</td>\n",
       "      <td>EVALUACIÓN DE LA CALIDAD DE CARAMELOS DE UCHUVA SIN SACAROSA ADICIONADOS CON CALCIO</td>\n",
       "      <td>BIOTECNOLOGIA EN EL SECTOR AGROPECUARIO Y AGROINDUSTRIAL</td>\n",
       "      <td>\"EVALUACION DE LA CALIDAD DE CARAMELOS DE UCHUVA SIN SACAROSA ADICIONADOS CON CALCIO\" (QUALITY ASSESSMENT OF CAPE GOOSEBERRY CANDY WITH ADDED CALCIUM WITHOUT SUCROSE)</td>\n",
       "    </tr>\n",
       "    <tr>\n",
       "      <th>5</th>\n",
       "      <td>Actualidades Biológicas</td>\n",
       "      <td>MICROPROPAGACIÓN E INDUCCIÓN DE ÓRGANOS DE ALMACENAMIENTO EN CURCUMA LONGA L.</td>\n",
       "      <td>ACTUALIDADES BIOLOGICAS</td>\n",
       "      <td>\"MICROPROPAGACION E INDUCCION DE ORGANOS DE ALMACENAMIENTO EN CURCUMA LONGAL L\" (MICROPROPAGATION AND INDUCTION OF STORAGE ORGANS IN CURCUMA LONGA L)</td>\n",
       "    </tr>\n",
       "    <tr>\n",
       "      <th>6</th>\n",
       "      <td>DYNA</td>\n",
       "      <td>MODELADO DE FLUJO COMPRESIBLE UNIDIMENSIONAL Y HOMOENTRÓPICO POR EL METODO DE VOLÚMENES FINITOS</td>\n",
       "      <td>REVISTA DYNA</td>\n",
       "      <td>\"MODELADO DE FLUJO COMPRESIBLE UNIDIMENSIONAL Y HOMOENTROPICO POR EL METODO DE VOLUMENES FINITOS\" (UNIDIMENSIONAL AND HOMOENTROPIC COMPRESIBLE FLOW MODELLING USING THE FINITE VOLUME METHOD)</td>\n",
       "    </tr>\n",
       "    <tr>\n",
       "      <th>7</th>\n",
       "      <td>DYNA</td>\n",
       "      <td>CARACTERIZACIÓN TEXTURAL Y QUÍMICA DE CATALIZADORES TI-SIO2 CRISTALINOS USADOS EN LA EPOXIDACIÓN DE ÉSTERES GRASOS</td>\n",
       "      <td>REVISTA DYNA</td>\n",
       "      <td>\"CARACTERIZACION TEXTURAL Y QUIMICA DE CATALIZADORES TI-SIO2 CRISTALINOS USADOS EN LA EPOXIDACION DE ESTERES GRASOS\" (TEXTURAL AND CHEMICAL CHARACTERIZATION OF CRYSTALLINE TI-SIO2 CATALYSTS USED I...</td>\n",
       "    </tr>\n",
       "    <tr>\n",
       "      <th>8</th>\n",
       "      <td>Acta Biológica Colombiana</td>\n",
       "      <td>CYP1A1, CYP2E1 Y RIESGO A CÁNCER GÁSTRICO EN UNA POBLACIÓN COLOMBIANA DE ALTA INCIDENCIA</td>\n",
       "      <td>ACTA BIOLOGICA COLOMBIANA</td>\n",
       "      <td>\"CYP1A1, CYP2E1 Y RIESGO A CANCER GASTRICO EN UNA POBLACION COLOMBIANA DE ALTA INCIDENCIA\" (CYP1A1, CYP2E1 AND GASTRIC CANCER RISK IN A HIGH-INCIDENDE COLOMBIAN POPULATION)</td>\n",
       "    </tr>\n",
       "    <tr>\n",
       "      <th>9</th>\n",
       "      <td>Cuadernos de Economía</td>\n",
       "      <td>COMPENSACIONES ECONÓMICAS ANTE CONFLICTOS DE USO DEL SUELO</td>\n",
       "      <td>CUADERNOS DE ECONOMIA</td>\n",
       "      <td>\"COMPENSACIONES ECONOMICAS ANTE CONFLICTOS DE USO DEL SUELO\"</td>\n",
       "    </tr>\n",
       "    <tr>\n",
       "      <th>10</th>\n",
       "      <td>INTERCIENCIA</td>\n",
       "      <td>THE EMERGING SCIENCE OF SUSTAINABILITY: FROM SCIENTIFIC PRACTICE TO THE MAKE-UP OF A SCIENCE</td>\n",
       "      <td>INTERCIENCIA</td>\n",
       "      <td>\"LA CIENCIA EMERGENTE DE LA SUSTENTABILIDAD: DE LA PRACTICA CIENTIFICA HACIA LA CONSTITUCION DE UNA CIENCIA\" (THE EMERGING SCIENCE OF SUSTAINABILITY: FROM SCIENTIFIC PRACTICE TO THE MAKE-UP OF A S...</td>\n",
       "    </tr>\n",
       "    <tr>\n",
       "      <th>11</th>\n",
       "      <td>IEEE TRANSACTIONS ON MAGNETICS</td>\n",
       "      <td>Monte Carlo Simulation of Magnetotransport Properties in La0.67Ca0.33MnO3 (FM) and La0.33Ca0.67MnO3 (AF) Thin Films</td>\n",
       "      <td>IEEE TRANSACTIONS ON MAGNETICS</td>\n",
       "      <td>\"MONTE CARLO SIMULATION OF MAGNETOTRANSPORT PROPERTIES IN La0.67Ca0.33MnO3 (FM) AND La0.33Ca0.67MnO3 (AF) THIN FILMS\"</td>\n",
       "    </tr>\n",
       "    <tr>\n",
       "      <th>12</th>\n",
       "      <td>Actualidades Biológicas</td>\n",
       "      <td>LAS CIÉNAGAS COMO HÁBITAT PARA LOS PECES: ESTUDIO DE CASO EN LA CIÉNAGA DE AYAPEL (CÓRDOBA), COLOMBIA</td>\n",
       "      <td>ACTUALIDADES BIOLOGICAS</td>\n",
       "      <td>\"LAS CIENAGAS COMO HABITAT PARA LOS PECES: ESTUDIO DE CASO EN LA CIENAGA DE AYAPEL (CORDOBA), COLOMBIA\" (RIVERINE FLOODPLAIN LAKES AS HABITAT FOR FRESHWATER FISHES: A CASE STUDY IN THE AYAPEL FLOO...</td>\n",
       "    </tr>\n",
       "    <tr>\n",
       "      <th>13</th>\n",
       "      <td>Vitae</td>\n",
       "      <td>EVALUACIÓN DE ALGUNAS COMBINACIONES DE REGULADORES DE CRECIMIENTO INDUCTORAS DE CALLOS EN ACHIOTE (Bixa orellana L.), PLANTA ACTIVA CONTRA LA MORDEDURA DE SERPIENTES</td>\n",
       "      <td>VITAE</td>\n",
       "      <td>\"EVALUACION DE ALGUNAS COMBINACIONES DE REGULADORES DE CRECIMIENTO INDUCTORAS DE CALLOS EN ACHIOTE (Bixa orellana L.), PLANTA ACTIVA CONTRA LA MORDEDURA DE SERPIENTES\" (EVALUATION OF SOME GROWTH R...</td>\n",
       "    </tr>\n",
       "    <tr>\n",
       "      <th>14</th>\n",
       "      <td>Revista Colombiana de Química</td>\n",
       "      <td>EFECTOS COOPERATIVOS EN HETEROTETRÁMEROS (ETANOL)3-AGUA</td>\n",
       "      <td>REVISTA COLOMBIANA DE QUIMICA</td>\n",
       "      <td>\"EFECTOS COOPERATIVOS EN HETEROTETRAMEROS (ETANOL)3-AGUA\" (COOPERATIVE EFFECTS IN (ETHANOL)3-WATER HETEROTETRAMERS)</td>\n",
       "    </tr>\n",
       "    <tr>\n",
       "      <th>15</th>\n",
       "      <td>Revista EIA</td>\n",
       "      <td>MODELING AND SIMULATION OF A BATCH DISTILLATION COLUMN FOR RECOVERING LIMONENE EPOXIDE</td>\n",
       "      <td>REVISTA EIA. ESCUELA DE INGENIERIA DE ANTIOQUIA</td>\n",
       "      <td>\"MODELING AND SIMULATION OF A BATCH DISTILLATION COLUMN FOR RECOVERING LIMONENE EPOXIDE\" (MODELADO Y SIMULACION DE LA COLUMNA DE DESTILACION POR LOTES PARA RECUPERAR EPOXIDO DE LIMONENO)</td>\n",
       "    </tr>\n",
       "    <tr>\n",
       "      <th>16</th>\n",
       "      <td>Acta Biológica Colombiana</td>\n",
       "      <td>FAUNA DE FLEBOTOMÍNEOS (DIPTERA: PSYCHODIDAE) EN ACANDÍ (CHOCÓ, COLOMBIA)</td>\n",
       "      <td>ACTA BIOLOGICA COLOMBIANA</td>\n",
       "      <td>\"FAUNA DE FLEBOTOMINEOS (DIPTERIA:PSYCHODIDAE) EN ACANDI (CHOCO, COLOMBIA)\" (FAUNA DE PHLEBOTOMINAE (DIPTERA:PSYCHODIDAE) IN ACANDI (CHOCO, COLOMBIA))</td>\n",
       "    </tr>\n",
       "    <tr>\n",
       "      <th>17</th>\n",
       "      <td>ACTA ENDOCRINOLOGICA-BUCHAREST</td>\n",
       "      <td>BEHAVIOUR OF EARLY THYROGLOBULIN AFTER TOTAL THYROIDECTOMY FOR DIFFERENTIATED THYROID CANCER</td>\n",
       "      <td>ACTA ENDOCRINOLOGICA - BUCHAREST</td>\n",
       "      <td>BEHAVIOUR OF EARLY THYROGLOBULIN AFTER TOTAL THYROIDECTOMY FOR DIFFERENTIATED THYROID CANCER.</td>\n",
       "    </tr>\n",
       "    <tr>\n",
       "      <th>18</th>\n",
       "      <td>CT&amp;F - Ciencia, Tecnología y Futuro</td>\n",
       "      <td>LARGE-SCALE SOLAR PV LCOE COMPREHENSIVE BREAKDOWN METHODOLOGY</td>\n",
       "      <td>CT&amp;F- CIENCIAS, TECNOLOGIA Y FUTURO</td>\n",
       "      <td>LARGE-SCALE SOLAR PV LCOE COMPREHENSIVE BREAKDOWN METHODOLOGY. (METODOLOGIA PARA LA DESAGREGACION DETALLADA DEL LCOE DE PLANTAS FOTOVOLTAICAS A GRAN ESCALA)</td>\n",
       "    </tr>\n",
       "    <tr>\n",
       "      <th>19</th>\n",
       "      <td>INTENSIVE CARE MEDICINE</td>\n",
       "      <td>TOWARD AN OPERATIVE DIAGNOSIS IN SEPSIS: A LATENT CLASS APPROACH</td>\n",
       "      <td>BMC INFECTIOUS DISEASES</td>\n",
       "      <td>\"TOWARD AN OPERATIVE DIAGNOSIS IN SEPSIS: A LATENT CLASS APPROACH\"</td>\n",
       "    </tr>\n",
       "    <tr>\n",
       "      <th>20</th>\n",
       "      <td>JOURNAL OF CHEMICAL AND ENGINEERING DATA</td>\n",
       "      <td>Liquid Liquid Equilibria for the Water (1) + Acetic Acid (2) + Nopol (3) + Nopyl Acetate (4) Quaternary System at (298.15, 323.15, and 348.15) K and 85.8 kPa</td>\n",
       "      <td>JOURNAL OF CHEMICAL AND ENGINEERING DATA</td>\n",
       "      <td>LIQUID-LIQUID EQUILIBRIA FOR THE WATER (1) + ACETIC ACID (2) + NOPOL (3) + NOPYL ACETATE (4) QUATERNARY SYSTEM AT (298.15, 323.15, AND 348.15) K AND 85.8 KPA.</td>\n",
       "    </tr>\n",
       "    <tr>\n",
       "      <th>21</th>\n",
       "      <td>Acta Biológica Colombiana</td>\n",
       "      <td>COTYLOPHORON PANAMENSIS (DIGENEA: PARAMPHISTOMIDAE) EN BOVINOS DEL META Y DEL GUAVIARE, COLOMBIA</td>\n",
       "      <td>ACTA BIOLOGICA COLOMBIANA</td>\n",
       "      <td>\"COTYLOPHORON PANAMENSIS (DIGENEA: PARAMPHISTOMIDAE) EN BOVINOS DEL META Y DEL GUAVIARE, COLOMBIA\" (COTYLOPHORON PANAMENSIS (DIGENEA: PARAMPHISTOMIDAE) IN CATTLE FROM META AND GUAVIARE, COLOMBIA)</td>\n",
       "    </tr>\n",
       "    <tr>\n",
       "      <th>22</th>\n",
       "      <td>Biotecnología en el Sector Agropecuario y Agroindustrial</td>\n",
       "      <td>AISLAMIENTO Y CARACTERIZACION DE UNA LEVADURA FLOCULANTE PARA PRODUCIR ETANOL DEL BANANO DE RECHAZO</td>\n",
       "      <td>BIOTECNOLOGIA EN EL SECTOR AGROPECUARIO Y AGROINDUSTRIAL</td>\n",
       "      <td>\"AISLAMIENTO Y CARACTERIZACION DE UNA LEVADURA FLOCULANTE PARA PRODUCIR ETANOL DEL BANANO DE RECHAZO\" (ISOLATION AND CHARACTERIZATION OF FLOCULANT YEAST TO PRODUCE ETHANOL FROM BANANA REFUSE)</td>\n",
       "    </tr>\n",
       "    <tr>\n",
       "      <th>23</th>\n",
       "      <td>Revista Ingenierías Universidad de Medellín</td>\n",
       "      <td>UNA METODOLOGÍA PARA LA FORMULACIÓN DE PLANES DE ORDENAMIENTO DEL RECURSO HÍDRICO</td>\n",
       "      <td></td>\n",
       "      <td>\"UNA METODOLOGIA PARA LA FORMULACION DE PLANES DE ORDENAMIENTO DEL RECURSO HIDRICO\" (A METHODOLOGY FOR FORMULATING WATER ORDERING PLANS)</td>\n",
       "    </tr>\n",
       "  </tbody>\n",
       "</table>\n",
       "</div>"
      ],
      "text/plain": [
       "                                                          SO  \\\n",
       "0                   CHUNGARA-REVISTA DE ANTROPOLOGIA CHILENA   \n",
       "1                                         POWDER DIFFRACTION   \n",
       "2                         Revista Colombiana de Antropología   \n",
       "3                                          Análisis Político   \n",
       "4   Biotecnología en el Sector Agropecuario y Agroindustrial   \n",
       "5                                    Actualidades Biológicas   \n",
       "6                                                       DYNA   \n",
       "7                                                       DYNA   \n",
       "8                                  Acta Biológica Colombiana   \n",
       "9                                      Cuadernos de Economía   \n",
       "10                                              INTERCIENCIA   \n",
       "11                            IEEE TRANSACTIONS ON MAGNETICS   \n",
       "12                                   Actualidades Biológicas   \n",
       "13                                                     Vitae   \n",
       "14                             Revista Colombiana de Química   \n",
       "15                                               Revista EIA   \n",
       "16                                 Acta Biológica Colombiana   \n",
       "17                            ACTA ENDOCRINOLOGICA-BUCHAREST   \n",
       "18                       CT&F - Ciencia, Tecnología y Futuro   \n",
       "19                                   INTENSIVE CARE MEDICINE   \n",
       "20                  JOURNAL OF CHEMICAL AND ENGINEERING DATA   \n",
       "21                                 Acta Biológica Colombiana   \n",
       "22  Biotecnología en el Sector Agropecuario y Agroindustrial   \n",
       "23               Revista Ingenierías Universidad de Medellín   \n",
       "\n",
       "                                                                                                                                                                       TI  \\\n",
       "0                                                                                   HIV/AIDS SITUATION AMONG THE WAYUU IN COLOMBIA: SEEKING TO UNDERSTAND THEIR VIEWPOINT   \n",
       "1                    X-ray powder diffraction data for two new compounds (NH4)(1.5)Ni2V2O7(OH)(1.5) center dot H2O and (NH4)(1.5)Cu1.125Ni1.125V2O7(OH)(2) center dot H2O   \n",
       "2                                                                                CUERPOS TATUADOS, \"ALMAS\" TATUADAS: NUEVAS FORMAS DE SUBJETIVIDAD EN LA CONTEMPORANEIDAD   \n",
       "3                                                                                                                                 LA CONSTRUCCIÓN SOCIAL DE UNA GUERRILLA   \n",
       "4                                                                                     EVALUACIÓN DE LA CALIDAD DE CARAMELOS DE UCHUVA SIN SACAROSA ADICIONADOS CON CALCIO   \n",
       "5                                                                                           MICROPROPAGACIÓN E INDUCCIÓN DE ÓRGANOS DE ALMACENAMIENTO EN CURCUMA LONGA L.   \n",
       "6                                                                         MODELADO DE FLUJO COMPRESIBLE UNIDIMENSIONAL Y HOMOENTRÓPICO POR EL METODO DE VOLÚMENES FINITOS   \n",
       "7                                                      CARACTERIZACIÓN TEXTURAL Y QUÍMICA DE CATALIZADORES TI-SIO2 CRISTALINOS USADOS EN LA EPOXIDACIÓN DE ÉSTERES GRASOS   \n",
       "8                                                                                CYP1A1, CYP2E1 Y RIESGO A CÁNCER GÁSTRICO EN UNA POBLACIÓN COLOMBIANA DE ALTA INCIDENCIA   \n",
       "9                                                                                                              COMPENSACIONES ECONÓMICAS ANTE CONFLICTOS DE USO DEL SUELO   \n",
       "10                                                                           THE EMERGING SCIENCE OF SUSTAINABILITY: FROM SCIENTIFIC PRACTICE TO THE MAKE-UP OF A SCIENCE   \n",
       "11                                                    Monte Carlo Simulation of Magnetotransport Properties in La0.67Ca0.33MnO3 (FM) and La0.33Ca0.67MnO3 (AF) Thin Films   \n",
       "12                                                                  LAS CIÉNAGAS COMO HÁBITAT PARA LOS PECES: ESTUDIO DE CASO EN LA CIÉNAGA DE AYAPEL (CÓRDOBA), COLOMBIA   \n",
       "13  EVALUACIÓN DE ALGUNAS COMBINACIONES DE REGULADORES DE CRECIMIENTO INDUCTORAS DE CALLOS EN ACHIOTE (Bixa orellana L.), PLANTA ACTIVA CONTRA LA MORDEDURA DE SERPIENTES   \n",
       "14                                                                                                                EFECTOS COOPERATIVOS EN HETEROTETRÁMEROS (ETANOL)3-AGUA   \n",
       "15                                                                                 MODELING AND SIMULATION OF A BATCH DISTILLATION COLUMN FOR RECOVERING LIMONENE EPOXIDE   \n",
       "16                                                                                              FAUNA DE FLEBOTOMÍNEOS (DIPTERA: PSYCHODIDAE) EN ACANDÍ (CHOCÓ, COLOMBIA)   \n",
       "17                                                                           BEHAVIOUR OF EARLY THYROGLOBULIN AFTER TOTAL THYROIDECTOMY FOR DIFFERENTIATED THYROID CANCER   \n",
       "18                                                                                                          LARGE-SCALE SOLAR PV LCOE COMPREHENSIVE BREAKDOWN METHODOLOGY   \n",
       "19                                                                                                       TOWARD AN OPERATIVE DIAGNOSIS IN SEPSIS: A LATENT CLASS APPROACH   \n",
       "20          Liquid Liquid Equilibria for the Water (1) + Acetic Acid (2) + Nopol (3) + Nopyl Acetate (4) Quaternary System at (298.15, 323.15, and 348.15) K and 85.8 kPa   \n",
       "21                                                                       COTYLOPHORON PANAMENSIS (DIGENEA: PARAMPHISTOMIDAE) EN BOVINOS DEL META Y DEL GUAVIARE, COLOMBIA   \n",
       "22                                                                    AISLAMIENTO Y CARACTERIZACION DE UNA LEVADURA FLOCULANTE PARA PRODUCIR ETANOL DEL BANANO DE RECHAZO   \n",
       "23                                                                                      UNA METODOLOGÍA PARA LA FORMULACIÓN DE PLANES DE ORDENAMIENTO DEL RECURSO HÍDRICO   \n",
       "\n",
       "                                UDEA_nombre revista o premio  \\\n",
       "0                   CHUNGARA-REVISTA DE ANTROPOLOGIA CHILENA   \n",
       "1                                         POWDER DIFFRACTION   \n",
       "2                         REVISTA COLOMBIANA DE ANTROPOLOGIA   \n",
       "3                                          ANALISIS POLITICO   \n",
       "4   BIOTECNOLOGIA EN EL SECTOR AGROPECUARIO Y AGROINDUSTRIAL   \n",
       "5                                    ACTUALIDADES BIOLOGICAS   \n",
       "6                                               REVISTA DYNA   \n",
       "7                                               REVISTA DYNA   \n",
       "8                                  ACTA BIOLOGICA COLOMBIANA   \n",
       "9                                      CUADERNOS DE ECONOMIA   \n",
       "10                                              INTERCIENCIA   \n",
       "11                            IEEE TRANSACTIONS ON MAGNETICS   \n",
       "12                                   ACTUALIDADES BIOLOGICAS   \n",
       "13                                                     VITAE   \n",
       "14                             REVISTA COLOMBIANA DE QUIMICA   \n",
       "15           REVISTA EIA. ESCUELA DE INGENIERIA DE ANTIOQUIA   \n",
       "16                                 ACTA BIOLOGICA COLOMBIANA   \n",
       "17                          ACTA ENDOCRINOLOGICA - BUCHAREST   \n",
       "18                       CT&F- CIENCIAS, TECNOLOGIA Y FUTURO   \n",
       "19                                   BMC INFECTIOUS DISEASES   \n",
       "20                  JOURNAL OF CHEMICAL AND ENGINEERING DATA   \n",
       "21                                 ACTA BIOLOGICA COLOMBIANA   \n",
       "22  BIOTECNOLOGIA EN EL SECTOR AGROPECUARIO Y AGROINDUSTRIAL   \n",
       "23                                                             \n",
       "\n",
       "                                                                                                                                                                                                UDEA_título  \n",
       "0      CARACTERIZACION DE LA SITUACION DEL VIH/SIDA EN LOS WAYUU DE COLOMBIA: UNA APROXIMACION A SUS PERCEPCIONES. (HIV/AIDS SITUATION AMONG THE WAYUU IN COLOMBIA: SEEKING TO UNDERSTAND THEIR VIEWPOINT).  \n",
       "1                                                                                  \"X-RAY POWDER DIFFRACTION DATA FOR TWO NEW COMPOUNDS (NH4)1.5Ni2V2O7(OH)1.5 H2O AND (NH4)1.5Cu1.125Ni1.125V2O7(OH)2 H2O\"  \n",
       "2                                                                                                                 \"CUERPOS TATUADOS \"ALMAS\" TATUADAS: NUEVAS FORMAS DE SUBJETIVIDAD EN LA CONTEMPORANEIDAD\"  \n",
       "3                                                                                                                        LA CONSTRUCCION SOCIAL DE UNA GUERRILLA. (THE SOCIAL CONSTRUCTION OF A GUERRILLA).  \n",
       "4                                    \"EVALUACION DE LA CALIDAD DE CARAMELOS DE UCHUVA SIN SACAROSA ADICIONADOS CON CALCIO\" (QUALITY ASSESSMENT OF CAPE GOOSEBERRY CANDY WITH ADDED CALCIUM WITHOUT SUCROSE)  \n",
       "5                                                     \"MICROPROPAGACION E INDUCCION DE ORGANOS DE ALMACENAMIENTO EN CURCUMA LONGAL L\" (MICROPROPAGATION AND INDUCTION OF STORAGE ORGANS IN CURCUMA LONGA L)  \n",
       "6             \"MODELADO DE FLUJO COMPRESIBLE UNIDIMENSIONAL Y HOMOENTROPICO POR EL METODO DE VOLUMENES FINITOS\" (UNIDIMENSIONAL AND HOMOENTROPIC COMPRESIBLE FLOW MODELLING USING THE FINITE VOLUME METHOD)  \n",
       "7   \"CARACTERIZACION TEXTURAL Y QUIMICA DE CATALIZADORES TI-SIO2 CRISTALINOS USADOS EN LA EPOXIDACION DE ESTERES GRASOS\" (TEXTURAL AND CHEMICAL CHARACTERIZATION OF CRYSTALLINE TI-SIO2 CATALYSTS USED I...  \n",
       "8                              \"CYP1A1, CYP2E1 Y RIESGO A CANCER GASTRICO EN UNA POBLACION COLOMBIANA DE ALTA INCIDENCIA\" (CYP1A1, CYP2E1 AND GASTRIC CANCER RISK IN A HIGH-INCIDENDE COLOMBIAN POPULATION)  \n",
       "9                                                                                                                                              \"COMPENSACIONES ECONOMICAS ANTE CONFLICTOS DE USO DEL SUELO\"  \n",
       "10  \"LA CIENCIA EMERGENTE DE LA SUSTENTABILIDAD: DE LA PRACTICA CIENTIFICA HACIA LA CONSTITUCION DE UNA CIENCIA\" (THE EMERGING SCIENCE OF SUSTAINABILITY: FROM SCIENTIFIC PRACTICE TO THE MAKE-UP OF A S...  \n",
       "11                                                                                    \"MONTE CARLO SIMULATION OF MAGNETOTRANSPORT PROPERTIES IN La0.67Ca0.33MnO3 (FM) AND La0.33Ca0.67MnO3 (AF) THIN FILMS\"  \n",
       "12  \"LAS CIENAGAS COMO HABITAT PARA LOS PECES: ESTUDIO DE CASO EN LA CIENAGA DE AYAPEL (CORDOBA), COLOMBIA\" (RIVERINE FLOODPLAIN LAKES AS HABITAT FOR FRESHWATER FISHES: A CASE STUDY IN THE AYAPEL FLOO...  \n",
       "13  \"EVALUACION DE ALGUNAS COMBINACIONES DE REGULADORES DE CRECIMIENTO INDUCTORAS DE CALLOS EN ACHIOTE (Bixa orellana L.), PLANTA ACTIVA CONTRA LA MORDEDURA DE SERPIENTES\" (EVALUATION OF SOME GROWTH R...  \n",
       "14                                                                                      \"EFECTOS COOPERATIVOS EN HETEROTETRAMEROS (ETANOL)3-AGUA\" (COOPERATIVE EFFECTS IN (ETHANOL)3-WATER HETEROTETRAMERS)  \n",
       "15               \"MODELING AND SIMULATION OF A BATCH DISTILLATION COLUMN FOR RECOVERING LIMONENE EPOXIDE\" (MODELADO Y SIMULACION DE LA COLUMNA DE DESTILACION POR LOTES PARA RECUPERAR EPOXIDO DE LIMONENO)  \n",
       "16                                                   \"FAUNA DE FLEBOTOMINEOS (DIPTERIA:PSYCHODIDAE) EN ACANDI (CHOCO, COLOMBIA)\" (FAUNA DE PHLEBOTOMINAE (DIPTERA:PSYCHODIDAE) IN ACANDI (CHOCO, COLOMBIA))  \n",
       "17                                                                                                            BEHAVIOUR OF EARLY THYROGLOBULIN AFTER TOTAL THYROIDECTOMY FOR DIFFERENTIATED THYROID CANCER.  \n",
       "18                                             LARGE-SCALE SOLAR PV LCOE COMPREHENSIVE BREAKDOWN METHODOLOGY. (METODOLOGIA PARA LA DESAGREGACION DETALLADA DEL LCOE DE PLANTAS FOTOVOLTAICAS A GRAN ESCALA)  \n",
       "19                                                                                                                                       \"TOWARD AN OPERATIVE DIAGNOSIS IN SEPSIS: A LATENT CLASS APPROACH\"  \n",
       "20                                           LIQUID-LIQUID EQUILIBRIA FOR THE WATER (1) + ACETIC ACID (2) + NOPOL (3) + NOPYL ACETATE (4) QUATERNARY SYSTEM AT (298.15, 323.15, AND 348.15) K AND 85.8 KPA.  \n",
       "21      \"COTYLOPHORON PANAMENSIS (DIGENEA: PARAMPHISTOMIDAE) EN BOVINOS DEL META Y DEL GUAVIARE, COLOMBIA\" (COTYLOPHORON PANAMENSIS (DIGENEA: PARAMPHISTOMIDAE) IN CATTLE FROM META AND GUAVIARE, COLOMBIA)  \n",
       "22          \"AISLAMIENTO Y CARACTERIZACION DE UNA LEVADURA FLOCULANTE PARA PRODUCIR ETANOL DEL BANANO DE RECHAZO\" (ISOLATION AND CHARACTERIZATION OF FLOCULANT YEAST TO PRODUCE ETHANOL FROM BANANA REFUSE)  \n",
       "23                                                                 \"UNA METODOLOGIA PARA LA FORMULACION DE PLANES DE ORDENAMIENTO DEL RECURSO HIDRICO\" (A METHODOLOGY FOR FORMULATING WATER ORDERING PLANS)  "
      ]
     },
     "execution_count": 835,
     "metadata": {},
     "output_type": "execute_result"
    }
   ],
   "source": [
    "kknew[kknew.TI.combine(kknew['UDEA_título'],func=\n",
    "                       lambda x,y:lv.ratio(x,y) \n",
    "                       if type(x)==str and type(y)==str else 0)>0.5\n",
    "           ].reset_index(drop=True)"
   ]
  },
  {
   "cell_type": "code",
   "execution_count": 837,
   "metadata": {},
   "outputs": [
    {
     "data": {
      "text/html": [
       "<div>\n",
       "<style scoped>\n",
       "    .dataframe tbody tr th:only-of-type {\n",
       "        vertical-align: middle;\n",
       "    }\n",
       "\n",
       "    .dataframe tbody tr th {\n",
       "        vertical-align: top;\n",
       "    }\n",
       "\n",
       "    .dataframe thead th {\n",
       "        text-align: right;\n",
       "    }\n",
       "</style>\n",
       "<table border=\"1\" class=\"dataframe\">\n",
       "  <thead>\n",
       "    <tr style=\"text-align: right;\">\n",
       "      <th></th>\n",
       "      <th>AB</th>\n",
       "      <th>AF</th>\n",
       "      <th>AR</th>\n",
       "      <th>AU</th>\n",
       "      <th>BA</th>\n",
       "      <th>BE</th>\n",
       "      <th>BF</th>\n",
       "      <th>BN</th>\n",
       "      <th>BP</th>\n",
       "      <th>C1</th>\n",
       "      <th>...</th>\n",
       "      <th>UDEA_tipo mat</th>\n",
       "      <th>UDEA_tipo mov</th>\n",
       "      <th>UDEA_título</th>\n",
       "      <th>UDEA_título_list</th>\n",
       "      <th>UDEA_valor item</th>\n",
       "      <th>UT</th>\n",
       "      <th>VL</th>\n",
       "      <th>WC</th>\n",
       "      <th>Z9</th>\n",
       "      <th>authors_WOS</th>\n",
       "    </tr>\n",
       "  </thead>\n",
       "  <tbody>\n",
       "    <tr>\n",
       "      <th>0</th>\n",
       "      <td>Current tendencies in strengthening intellectual property rights and the emergence of new scientific-technological fields (such as nanotechnologies, biotechnology, telematics and software developm...</td>\n",
       "      <td>Lopez Gomez, Maria del Socorro\\nSchmal Simon, Rodolfo\\nCabrales Gomez, Fernando\\nGarcia Tobon, Carolina\\n</td>\n",
       "      <td></td>\n",
       "      <td>Gomez, MDL\\nSimon, RS\\nGomez, FC\\nTobon, CG\\n</td>\n",
       "      <td></td>\n",
       "      <td></td>\n",
       "      <td></td>\n",
       "      <td></td>\n",
       "      <td>135\\n</td>\n",
       "      <td>[Lopez Gomez, Maria del Socorro] Univ Antioquia, Fac Ciencias Econ, Bogota, Colombia.\\n[Schmal Simon, Rodolfo] Univ Talca, Fac Ciencias Empresariales, Talc, Chile.\\n[Cabrales Gomez, Fernando] Univ...</td>\n",
       "      <td>...</td>\n",
       "      <td>ARTREVA1</td>\n",
       "      <td>NO</td>\n",
       "      <td>\"LOS PROCESOS EN UN MODELO DE GESTION DE PATENTES UNIVERSITARIAS\" (THE PROCESSES INVOLVED IN A MANAGEMENT MODEL FOR UNIVERSITY PATENTS)</td>\n",
       "      <td>[LOS PROCESOS EN UN MODELO DE GESTION DE PATENTES UNIVERSITARIAS, THE PROCESSES INVOLVED IN A MANAGEMENT MODEL FOR UNIVERSITY PATENTS]</td>\n",
       "      <td></td>\n",
       "      <td>WOS:000271839000022\\n</td>\n",
       "      <td>29\\n</td>\n",
       "      <td>Engineering, Multidisciplinary\\n</td>\n",
       "      <td>0.0</td>\n",
       "      <td>[{'WOS_author': 'Lopez Gomez, Maria del Socorro', 'affiliation': ['Univ Antioquia, Fac Ciencias Econ, Bogota, Colombia.'], 'i': 0}]</td>\n",
       "    </tr>\n",
       "    <tr>\n",
       "      <th>1</th>\n",
       "      <td></td>\n",
       "      <td></td>\n",
       "      <td></td>\n",
       "      <td>Echeverry-López, María Esperanza\\n</td>\n",
       "      <td></td>\n",
       "      <td></td>\n",
       "      <td></td>\n",
       "      <td></td>\n",
       "      <td></td>\n",
       "      <td>[Echeverry-López, María Esperanza] Univ Antioquia, Colombia.\\n</td>\n",
       "      <td>...</td>\n",
       "      <td></td>\n",
       "      <td></td>\n",
       "      <td>REFORMA A LA SALUD Y RECONFIGURACION DE LA TRAYECTORIA DE ACCESO A LOS SERVICIOS DE SALUD DESDE LA EXPERIENCIA DE LOS USUARIOS EN MEDELLIN, COLOMBIA (HEALTH REFORM AND RECONFIGURATION OF THE TRAJE...</td>\n",
       "      <td></td>\n",
       "      <td></td>\n",
       "      <td></td>\n",
       "      <td></td>\n",
       "      <td></td>\n",
       "      <td>0.0</td>\n",
       "      <td>[{'WOS_author': 'Echeverry-López, María Esperanza', 'affiliation': ['Univ Antioquia, Colombia.'], 'i': 0}]</td>\n",
       "    </tr>\n",
       "    <tr>\n",
       "      <th>2</th>\n",
       "      <td></td>\n",
       "      <td></td>\n",
       "      <td></td>\n",
       "      <td>Agudelo-Botero, Marcela\\nDávila-Cervantes, Claudio Alberto\\nAtehortúa-Becerra, Sara Catalina\\n</td>\n",
       "      <td></td>\n",
       "      <td></td>\n",
       "      <td></td>\n",
       "      <td></td>\n",
       "      <td></td>\n",
       "      <td>El Colegio de México, Mexico.\\nUniv Antioquia, Colombia.\\nEl Colegio de México, Mexico.\\n</td>\n",
       "      <td>...</td>\n",
       "      <td></td>\n",
       "      <td></td>\n",
       "      <td>DIFERENCIAS SOCIOECONOMICAS EN LOS ANOS DE VIDA PERDIDOS POR CANCER DE MAMA Y CANCER CERVICO-UTERINO EN COLOMBIA, 1997 Y 2007 (SOCIOECONOMIC DIFFERENCES IN THE YEARS OF LIFE LOST DUE TO BREAST CAN...</td>\n",
       "      <td></td>\n",
       "      <td></td>\n",
       "      <td></td>\n",
       "      <td></td>\n",
       "      <td></td>\n",
       "      <td>0.0</td>\n",
       "      <td>[]</td>\n",
       "    </tr>\n",
       "    <tr>\n",
       "      <th>3</th>\n",
       "      <td></td>\n",
       "      <td></td>\n",
       "      <td></td>\n",
       "      <td>Upegui, S. A.\\nPeñuela, G. A.\\nBotero, L. R.\\n</td>\n",
       "      <td></td>\n",
       "      <td></td>\n",
       "      <td></td>\n",
       "      <td></td>\n",
       "      <td></td>\n",
       "      <td>[Peñuela, G. A.] Univ Antioquia, Colombia.\\n[Botero, L. R.] Universidad de Medellín, Colombia.\\n[Upegui, S. A.] Universidad de Medellín, Colombia.\\n</td>\n",
       "      <td>...</td>\n",
       "      <td></td>\n",
       "      <td></td>\n",
       "      <td>EFECTO DEL ENRIQUECIMIENTO CON NUTRIENTES EN LA DEGRADACION DE CLORPIRIFOS, MALATION Y MENTIL PARATION (INORGANIC NUTRIENTS EFFECT ADDITION OVER THE CHROLPYRIFOS, MALATHION AND METHYL PARATHION DE...</td>\n",
       "      <td></td>\n",
       "      <td></td>\n",
       "      <td></td>\n",
       "      <td></td>\n",
       "      <td></td>\n",
       "      <td>0.0</td>\n",
       "      <td>[{'WOS_author': 'Peñuela, G. A.', 'affiliation': ['Univ Antioquia, Colombia.'], 'i': 0}]</td>\n",
       "    </tr>\n",
       "    <tr>\n",
       "      <th>4</th>\n",
       "      <td></td>\n",
       "      <td></td>\n",
       "      <td></td>\n",
       "      <td>Montoya Agudelo, César Alveiro\\nBárbaro, Juan Carlos\\n</td>\n",
       "      <td></td>\n",
       "      <td></td>\n",
       "      <td></td>\n",
       "      <td></td>\n",
       "      <td></td>\n",
       "      <td>[Bárbaro, Juan Carlos] Universidad Nacional de Misiones, Argentina.\\n[Montoya Agudelo, César Alveiro] Univ Antioquia, Colombia.\\n</td>\n",
       "      <td>...</td>\n",
       "      <td></td>\n",
       "      <td></td>\n",
       "      <td>EL BALANCED SCORECARD COMO SISTEMA DE CONTROL Y SU APLICACION COMO HERRAMIENTA DE EVALUACION EN EL AMBIENTE BIBLIOTECARIO</td>\n",
       "      <td></td>\n",
       "      <td></td>\n",
       "      <td></td>\n",
       "      <td></td>\n",
       "      <td></td>\n",
       "      <td>0.0</td>\n",
       "      <td>[{'WOS_author': 'Montoya Agudelo, César Alveiro', 'affiliation': ['Univ Antioquia, Colombia.'], 'i': 0}]</td>\n",
       "    </tr>\n",
       "    <tr>\n",
       "      <th>5</th>\n",
       "      <td></td>\n",
       "      <td></td>\n",
       "      <td></td>\n",
       "      <td>Montoya Ríos, Mónica\\nGiraldo Lopera, Marta Lucía\\nGallo Vélez, óscar\\nMoncada Patiño, José Daniel\\n</td>\n",
       "      <td></td>\n",
       "      <td></td>\n",
       "      <td></td>\n",
       "      <td></td>\n",
       "      <td></td>\n",
       "      <td>[Giraldo Lopera, Marta Lucía] Univ Antioquia, Colombia.\\n[Gallo Vélez, óscar] Universidad Nacional de Colombia, Colombia.\\n[Montoya Ríos, Mónica] Univ Antioquia, Colombia.\\n[Moncada Patiño, José D...</td>\n",
       "      <td>...</td>\n",
       "      <td></td>\n",
       "      <td></td>\n",
       "      <td>PAPEL DEL BIBLIOTECARIO PUBLICO EN LA TRADICION EDUCATIVA Y CULTURAL DE MEDELLIN, 1870-1950</td>\n",
       "      <td></td>\n",
       "      <td></td>\n",
       "      <td></td>\n",
       "      <td></td>\n",
       "      <td></td>\n",
       "      <td>0.0</td>\n",
       "      <td>[{'WOS_author': 'Giraldo Lopera, Marta Lucía', 'affiliation': ['Univ Antioquia, Colombia.'], 'i': 0}, {'WOS_author': 'Montoya Ríos, Mónica', 'affiliation': ['Univ Antioquia, Colombia.'], 'i': 1}, ...</td>\n",
       "    </tr>\n",
       "    <tr>\n",
       "      <th>6</th>\n",
       "      <td></td>\n",
       "      <td></td>\n",
       "      <td></td>\n",
       "      <td>Ghiso, Alfredo\\nTabares-Ochoa, Catalina María\\n</td>\n",
       "      <td></td>\n",
       "      <td></td>\n",
       "      <td></td>\n",
       "      <td></td>\n",
       "      <td></td>\n",
       "      <td>[Tabares-Ochoa, Catalina María] Univ Antioquia, Colombia.\\n[Ghiso, Alfredo] Fundación Universitaria Luis Amigó, Colombia.\\n</td>\n",
       "      <td>...</td>\n",
       "      <td></td>\n",
       "      <td></td>\n",
       "      <td>REFLEXIVIDAD DIALOGICA EN EL ESTUDIO DE JOVENES Y PRACTICAS POLITICAS (DIALOGIC REFLEXIVITY IN THE STUDY OFYOUTH AND POLITICAL PRACTICES)</td>\n",
       "      <td></td>\n",
       "      <td></td>\n",
       "      <td></td>\n",
       "      <td></td>\n",
       "      <td></td>\n",
       "      <td>0.0</td>\n",
       "      <td>[{'WOS_author': 'Tabares-Ochoa, Catalina María', 'affiliation': ['Univ Antioquia, Colombia.'], 'i': 0}]</td>\n",
       "    </tr>\n",
       "    <tr>\n",
       "      <th>7</th>\n",
       "      <td></td>\n",
       "      <td></td>\n",
       "      <td></td>\n",
       "      <td>González Agudelo, Elvia María\\n</td>\n",
       "      <td></td>\n",
       "      <td></td>\n",
       "      <td></td>\n",
       "      <td></td>\n",
       "      <td></td>\n",
       "      <td>[González Agudelo, Elvia María] Univ Antioquia, Colombia.\\n</td>\n",
       "      <td>...</td>\n",
       "      <td></td>\n",
       "      <td></td>\n",
       "      <td>EL RETORNO A LA TRADUCCION O NUEVAMENTE SOBRE LA HISTORIA DEL CONCEPTO DE HERMENEUTICA (BACK TO TRASLATION OR AGAIN ABOUT HISTORY OF THE HERMENEUTICS CONCEPT)</td>\n",
       "      <td></td>\n",
       "      <td></td>\n",
       "      <td></td>\n",
       "      <td></td>\n",
       "      <td></td>\n",
       "      <td>0.0</td>\n",
       "      <td>[{'WOS_author': 'González Agudelo, Elvia María', 'affiliation': ['Univ Antioquia, Colombia.'], 'i': 0}]</td>\n",
       "    </tr>\n",
       "    <tr>\n",
       "      <th>8</th>\n",
       "      <td></td>\n",
       "      <td></td>\n",
       "      <td></td>\n",
       "      <td>MARÍN, CARLOS ALBERTO\\n</td>\n",
       "      <td></td>\n",
       "      <td></td>\n",
       "      <td></td>\n",
       "      <td></td>\n",
       "      <td></td>\n",
       "      <td>[MARÍN, CARLOS ALBERTO] Univ Antioquia, Colombia.\\n</td>\n",
       "      <td>...</td>\n",
       "      <td></td>\n",
       "      <td></td>\n",
       "      <td>AN ALGEBRAIC CHARACTERIZATION OF AFFINE MANIFOLDS WITH G-STRUCTURE SATISFYING A HOMOGENEITY CONDITION (UNA CARACTERIZACION ALGEBRAICA DE LAS VARIEDADES AFINES CON G-ESTRUCTURA QUE SATISFACEN UN CO...</td>\n",
       "      <td></td>\n",
       "      <td></td>\n",
       "      <td></td>\n",
       "      <td></td>\n",
       "      <td></td>\n",
       "      <td>0.0</td>\n",
       "      <td>[{'WOS_author': 'MARÍN, CARLOS ALBERTO', 'affiliation': ['Univ Antioquia, Colombia.'], 'i': 0}]</td>\n",
       "    </tr>\n",
       "    <tr>\n",
       "      <th>9</th>\n",
       "      <td></td>\n",
       "      <td></td>\n",
       "      <td></td>\n",
       "      <td>Corrales-Álvarez, Juan D.\\nCerón-Muñoz, Mario F.\\nCañas-Álvarez, Jhon J.\\nAcevedo-Valladarez, Cristina\\nSepúlveda-Restrepo, Jeannie C.\\nCalvo-Cardona, Samir J.\\nMoreno-Ochoa, Manuel\\n</td>\n",
       "      <td></td>\n",
       "      <td></td>\n",
       "      <td></td>\n",
       "      <td></td>\n",
       "      <td></td>\n",
       "      <td>[Cerón-Muñoz, Mario F.] Univ Antioquia, Colombia.\\n[Cañas-Álvarez, Jhon J.; Acevedo-Valladarez, Cristina; Sepúlveda-Restrepo, Jeannie C.; Calvo-Cardona, Samir J.; Moreno-Ochoa, Manuel] Univ Antioq...</td>\n",
       "      <td>...</td>\n",
       "      <td></td>\n",
       "      <td></td>\n",
       "      <td>ESTUDIO DEL POLIMORFISMO HINFI DEL GEN PIT-1 Y SU ASOCIACION CON CARACTERISTICAS DE TIPO, PRODUCCION DE LECHE Y DIAS ABIERTOS DE VACAS HOLSTEIN EN EL DEPARTAMENTO DE ANTIOQUIA, COLOMBIA (STUDY OF ...</td>\n",
       "      <td></td>\n",
       "      <td></td>\n",
       "      <td></td>\n",
       "      <td></td>\n",
       "      <td></td>\n",
       "      <td>0.0</td>\n",
       "      <td>[{'WOS_author': 'Cerón-Muñoz, Mario F.', 'affiliation': ['Univ Antioquia, Colombia.'], 'i': 0}, {'WOS_author': 'Cañas-Álvarez, Jhon J.', 'affiliation': ['Univ Antioquia, Colombia.'], 'i': 1}, {'WO...</td>\n",
       "    </tr>\n",
       "    <tr>\n",
       "      <th>10</th>\n",
       "      <td>This article deals with the issue of becoming community mother for the government program of the Colombian Family Welfare Institute. The objective is to recognize the meaning that has for the comm...</td>\n",
       "      <td>Bedoya Hernandez, Mauricio Hernando\\n</td>\n",
       "      <td></td>\n",
       "      <td>Hernandez, MHB\\n</td>\n",
       "      <td></td>\n",
       "      <td></td>\n",
       "      <td></td>\n",
       "      <td></td>\n",
       "      <td>113\\n</td>\n",
       "      <td>[Bedoya Hernandez, Mauricio Hernando] Univ Antioquia, Educ, Medellin, Colombia.\\n[Bedoya Hernandez, Mauricio Hernando] Univ Antioquia, Psicol, Medellin, Colombia.\\n[Bedoya Hernandez, Mauricio Hern...</td>\n",
       "      <td>...</td>\n",
       "      <td></td>\n",
       "      <td></td>\n",
       "      <td>MADRES COMUNITARIAS ANTIOQUENAS Y SU VOCACION POR EL CUIDADO. (COMMUNITY MOTHERS OF ANTIOQUIA AND THEIR VOCATION FOR CARE).</td>\n",
       "      <td></td>\n",
       "      <td></td>\n",
       "      <td>WOS:000378343900008\\n</td>\n",
       "      <td>47\\n</td>\n",
       "      <td>Social Sciences, Interdisciplinary\\n</td>\n",
       "      <td>0.0</td>\n",
       "      <td>[{'WOS_author': 'Bedoya Hernandez, Mauricio Hernando', 'affiliation': ['Univ Antioquia, Educ, Medellin, Colombia.', 'Univ Antioquia, Psicol, Medellin, Colombia.', 'Univ Antioquia, Ciencias Sociale...</td>\n",
       "    </tr>\n",
       "    <tr>\n",
       "      <th>11</th>\n",
       "      <td></td>\n",
       "      <td></td>\n",
       "      <td></td>\n",
       "      <td>Muñoz-Escobar, Eliana M.\\nPalacio-Baena, Jaime A.\\n</td>\n",
       "      <td></td>\n",
       "      <td></td>\n",
       "      <td></td>\n",
       "      <td></td>\n",
       "      <td></td>\n",
       "      <td>[Palacio-Baena, Jaime A.] Univ Antioquia, Colombia.\\n[Muñoz-Escobar, Eliana M.] Univ Antioquia, Colombia.\\n</td>\n",
       "      <td>...</td>\n",
       "      <td></td>\n",
       "      <td></td>\n",
       "      <td>EFECTOS DEL CLORURO DE MERCURIO (HgCl2) SOBRE LA SOBREVIVENCIA Y CRECIMIENTO DE RENACUAJOS DE DENDROSOPHUS BORGERTI (EFFECTS OF MERCURY CHLORIDE (HGCL2) ON THE SURVIVAL AND GROWTH OF TADPOLES OF D...</td>\n",
       "      <td></td>\n",
       "      <td></td>\n",
       "      <td></td>\n",
       "      <td></td>\n",
       "      <td></td>\n",
       "      <td>0.0</td>\n",
       "      <td>[{'WOS_author': 'Palacio-Baena, Jaime A.', 'affiliation': ['Univ Antioquia, Colombia.'], 'i': 0}, {'WOS_author': 'Muñoz-Escobar, Eliana M.', 'affiliation': ['Univ Antioquia, Colombia.'], 'i': 1}]</td>\n",
       "    </tr>\n",
       "    <tr>\n",
       "      <th>12</th>\n",
       "      <td></td>\n",
       "      <td></td>\n",
       "      <td></td>\n",
       "      <td>Arias-Gallo, Mauricio\\nJiménez-Segura, Luz F.\\nDorado, María del P.\\n</td>\n",
       "      <td></td>\n",
       "      <td></td>\n",
       "      <td></td>\n",
       "      <td></td>\n",
       "      <td></td>\n",
       "      <td>[Jiménez-Segura, Luz F.] Univ Antioquia, Colombia.\\n[Dorado, María del P.] Estación Piscícola de Repelón, Colombia.\\n[Arias-Gallo, Mauricio] Univ Antioquia, Colombia.\\n</td>\n",
       "      <td>...</td>\n",
       "      <td></td>\n",
       "      <td></td>\n",
       "      <td>DESARROLLO LARVAL DE PROCHILODUS MADALENAE (STEINDACHNER, 1879) (PICES: PROCHILODONTIDAE), RIO MAGDALENA, COLOMBIA (LARVAL DEVELOPMEN OF PROCHILODUS MAGDALENAE (STEINDACHNER, 1979) (PISCES: PROCHI...</td>\n",
       "      <td></td>\n",
       "      <td></td>\n",
       "      <td></td>\n",
       "      <td></td>\n",
       "      <td></td>\n",
       "      <td>0.0</td>\n",
       "      <td>[{'WOS_author': 'Jiménez-Segura, Luz F.', 'affiliation': ['Univ Antioquia, Colombia.'], 'i': 0}, {'WOS_author': 'Arias-Gallo, Mauricio', 'affiliation': ['Univ Antioquia, Colombia.'], 'i': 1}]</td>\n",
       "    </tr>\n",
       "    <tr>\n",
       "      <th>13</th>\n",
       "      <td></td>\n",
       "      <td></td>\n",
       "      <td></td>\n",
       "      <td>Grisales Franco, Lina María\\nGonzález Agudelo, Elvia María\\n</td>\n",
       "      <td></td>\n",
       "      <td></td>\n",
       "      <td></td>\n",
       "      <td></td>\n",
       "      <td></td>\n",
       "      <td>[González Agudelo, Elvia María] Univ Antioquia, Colombia.\\n[Grisales Franco, Lina María] Univ Antioquia, Colombia.\\n</td>\n",
       "      <td>...</td>\n",
       "      <td></td>\n",
       "      <td></td>\n",
       "      <td>DE UN MODO DE RELACIONAR DOS ELEMENTOS CONTRARIOS A LA MEDIACION O ACERCA DE LA APROXIMACION HISTORICA AL CONCEPTO MEDIACION</td>\n",
       "      <td></td>\n",
       "      <td></td>\n",
       "      <td></td>\n",
       "      <td></td>\n",
       "      <td></td>\n",
       "      <td>0.0</td>\n",
       "      <td>[{'WOS_author': 'González Agudelo, Elvia María', 'affiliation': ['Univ Antioquia, Colombia.'], 'i': 0}, {'WOS_author': 'Grisales Franco, Lina María', 'affiliation': ['Univ Antioquia, Colombia.'], ...</td>\n",
       "    </tr>\n",
       "    <tr>\n",
       "      <th>14</th>\n",
       "      <td></td>\n",
       "      <td></td>\n",
       "      <td></td>\n",
       "      <td>Pérez, Andrea Lissett\\n</td>\n",
       "      <td></td>\n",
       "      <td></td>\n",
       "      <td></td>\n",
       "      <td></td>\n",
       "      <td></td>\n",
       "      <td>[Pérez, Andrea Lissett] Univ Antioquia, Colombia.\\n</td>\n",
       "      <td>...</td>\n",
       "      <td></td>\n",
       "      <td></td>\n",
       "      <td>TRADICIONES DE RESISTENCIA Y LUCHA: UN ANALISIS SOBRE EL SURGIMIENTO Y LA PERMANENCIA DE LAS GUERRILLAS EN COLOMBIA (TRADITIONS OF RESISTANCE ANS STRUGGLE: AN ANALYSIS ON THE RISE AND THE CONTINUA...</td>\n",
       "      <td></td>\n",
       "      <td></td>\n",
       "      <td></td>\n",
       "      <td></td>\n",
       "      <td></td>\n",
       "      <td>0.0</td>\n",
       "      <td>[{'WOS_author': 'Pérez, Andrea Lissett', 'affiliation': ['Univ Antioquia, Colombia.'], 'i': 0}]</td>\n",
       "    </tr>\n",
       "    <tr>\n",
       "      <th>15</th>\n",
       "      <td></td>\n",
       "      <td></td>\n",
       "      <td></td>\n",
       "      <td>Beltrán-Salazar, Óscar Alberto\\n</td>\n",
       "      <td></td>\n",
       "      <td></td>\n",
       "      <td></td>\n",
       "      <td></td>\n",
       "      <td></td>\n",
       "      <td>[Beltrán-Salazar, Óscar Alberto] Univ Antioquia, Colombia.\\n</td>\n",
       "      <td>...</td>\n",
       "      <td></td>\n",
       "      <td></td>\n",
       "      <td>HAY QUE PONER DE SU PARTE PARA AFRONTAR UNA ENFERMEDAD GRAVE (COPING WITH A SERIOUS ILLNESS)</td>\n",
       "      <td></td>\n",
       "      <td></td>\n",
       "      <td></td>\n",
       "      <td></td>\n",
       "      <td></td>\n",
       "      <td>0.0</td>\n",
       "      <td>[{'WOS_author': 'Beltrán-Salazar, Óscar Alberto', 'affiliation': ['Univ Antioquia, Colombia.'], 'i': 0}]</td>\n",
       "    </tr>\n",
       "    <tr>\n",
       "      <th>16</th>\n",
       "      <td></td>\n",
       "      <td></td>\n",
       "      <td></td>\n",
       "      <td>Agudelo-Zamora, Henry D\\nOspina-Pabón, Juan G\\nJiménez-Segura, Luz F\\n</td>\n",
       "      <td></td>\n",
       "      <td></td>\n",
       "      <td></td>\n",
       "      <td></td>\n",
       "      <td></td>\n",
       "      <td>[Ospina-Pabón, Juan G] Universidad Católica de Oriente, Colombia.\\n[Agudelo-Zamora, Henry D; Jiménez-Segura, Luz F] Univ Antioquia, Colombia.\\n</td>\n",
       "      <td>...</td>\n",
       "      <td></td>\n",
       "      <td></td>\n",
       "      <td>PECES DEL RIO SAN JUAN DE URABA, COSTA CARIBE, COLOMBIA, SUR AMERICA (SAN JUAN DE URABA RIVER FISH, CARIBBEAN COAST, COLOMBIA, SOUTH AMERICA)</td>\n",
       "      <td></td>\n",
       "      <td></td>\n",
       "      <td></td>\n",
       "      <td></td>\n",
       "      <td></td>\n",
       "      <td>0.0</td>\n",
       "      <td>[{'WOS_author': 'Agudelo-Zamora, Henry D', 'affiliation': ['Univ Antioquia, Colombia.'], 'i': 0}, {'WOS_author': 'Jiménez-Segura, Luz F', 'affiliation': ['Univ Antioquia, Colombia.'], 'i': 1}]</td>\n",
       "    </tr>\n",
       "    <tr>\n",
       "      <th>17</th>\n",
       "      <td></td>\n",
       "      <td></td>\n",
       "      <td></td>\n",
       "      <td>Lenis Castaño, John Fredy\\n</td>\n",
       "      <td></td>\n",
       "      <td></td>\n",
       "      <td></td>\n",
       "      <td></td>\n",
       "      <td></td>\n",
       "      <td>[Lenis Castaño, John Fredy] Univ Antioquia, Colombia.\\n</td>\n",
       "      <td>...</td>\n",
       "      <td></td>\n",
       "      <td></td>\n",
       "      <td>PACTO SOCIAL Y LIBERTAD EN THOMAS HOBBES (SOCIAL PACT AND LIBERTY IN THOMAS HOBBES)</td>\n",
       "      <td></td>\n",
       "      <td></td>\n",
       "      <td></td>\n",
       "      <td></td>\n",
       "      <td></td>\n",
       "      <td>0.0</td>\n",
       "      <td>[{'WOS_author': 'Lenis Castaño, John Fredy', 'affiliation': ['Univ Antioquia, Colombia.'], 'i': 0}]</td>\n",
       "    </tr>\n",
       "    <tr>\n",
       "      <th>18</th>\n",
       "      <td></td>\n",
       "      <td></td>\n",
       "      <td></td>\n",
       "      <td>Pérez Marín, Mónica\\n</td>\n",
       "      <td></td>\n",
       "      <td></td>\n",
       "      <td></td>\n",
       "      <td></td>\n",
       "      <td></td>\n",
       "      <td>[Pérez Marín, Mónica] Univ Antioquia, Colombia.\\n</td>\n",
       "      <td>...</td>\n",
       "      <td></td>\n",
       "      <td></td>\n",
       "      <td>LUDWIK FLEECK: PRECURSOR DEL PENSAMIENTO DE THOMAS KUHN</td>\n",
       "      <td></td>\n",
       "      <td></td>\n",
       "      <td></td>\n",
       "      <td></td>\n",
       "      <td></td>\n",
       "      <td>0.0</td>\n",
       "      <td>[{'WOS_author': 'Pérez Marín, Mónica', 'affiliation': ['Univ Antioquia, Colombia.'], 'i': 0}]</td>\n",
       "    </tr>\n",
       "    <tr>\n",
       "      <th>19</th>\n",
       "      <td></td>\n",
       "      <td></td>\n",
       "      <td></td>\n",
       "      <td>Molina González, Liliana María\\n</td>\n",
       "      <td></td>\n",
       "      <td></td>\n",
       "      <td></td>\n",
       "      <td></td>\n",
       "      <td></td>\n",
       "      <td>[Molina González, Liliana María] Univ Antioquia, Colombia.\\n</td>\n",
       "      <td>...</td>\n",
       "      <td></td>\n",
       "      <td></td>\n",
       "      <td>DIETETICA Y MORAL. MEDICINA Y FILOSOFIA EN LA ANTIGUEDAD HELENISTICA (DIETETICS AND MORALE, MEDICINE AND PHILOSOPHY IN HELLENISTIC ANTIQUITY)</td>\n",
       "      <td></td>\n",
       "      <td></td>\n",
       "      <td></td>\n",
       "      <td></td>\n",
       "      <td></td>\n",
       "      <td>0.0</td>\n",
       "      <td>[{'WOS_author': 'Molina González, Liliana María', 'affiliation': ['Univ Antioquia, Colombia.'], 'i': 0}]</td>\n",
       "    </tr>\n",
       "    <tr>\n",
       "      <th>20</th>\n",
       "      <td></td>\n",
       "      <td></td>\n",
       "      <td></td>\n",
       "      <td>Cortés Rodas, Francisco\\n</td>\n",
       "      <td></td>\n",
       "      <td></td>\n",
       "      <td></td>\n",
       "      <td></td>\n",
       "      <td></td>\n",
       "      <td>[Cortés Rodas, Francisco] Univ Antioquia, Colombia.\\n</td>\n",
       "      <td>...</td>\n",
       "      <td></td>\n",
       "      <td></td>\n",
       "      <td>EL CONTRATO SOCIAL EN HOBBES: ¿ABSOLUTISTA O LIBERAL? (HOBBES' SOCIAL CONTRACT: ABSOLUTIST OR LIBERAL?)</td>\n",
       "      <td></td>\n",
       "      <td></td>\n",
       "      <td></td>\n",
       "      <td></td>\n",
       "      <td></td>\n",
       "      <td>0.0</td>\n",
       "      <td>[{'WOS_author': 'Cortés Rodas, Francisco', 'affiliation': ['Univ Antioquia, Colombia.'], 'i': 0}]</td>\n",
       "    </tr>\n",
       "    <tr>\n",
       "      <th>21</th>\n",
       "      <td></td>\n",
       "      <td></td>\n",
       "      <td></td>\n",
       "      <td>Ospina Echeverri, Marta Cecilia\\n</td>\n",
       "      <td></td>\n",
       "      <td></td>\n",
       "      <td></td>\n",
       "      <td></td>\n",
       "      <td></td>\n",
       "      <td>[Ospina Echeverri, Marta Cecilia] Univ Antioquia, Colombia.\\n</td>\n",
       "      <td>...</td>\n",
       "      <td></td>\n",
       "      <td></td>\n",
       "      <td>LA VISION HEROICA SOBRE LA INDEPENDENCIA DE ANTIOQUIA (THE HEROIC VISION OF THE INDEPENDENCE OF ANTIOQUIA)</td>\n",
       "      <td></td>\n",
       "      <td></td>\n",
       "      <td></td>\n",
       "      <td></td>\n",
       "      <td></td>\n",
       "      <td>0.0</td>\n",
       "      <td>[{'WOS_author': 'Ospina Echeverri, Marta Cecilia', 'affiliation': ['Univ Antioquia, Colombia.'], 'i': 0}]</td>\n",
       "    </tr>\n",
       "    <tr>\n",
       "      <th>22</th>\n",
       "      <td></td>\n",
       "      <td></td>\n",
       "      <td></td>\n",
       "      <td>Gómez García, Juan Guillermo\\n</td>\n",
       "      <td></td>\n",
       "      <td></td>\n",
       "      <td></td>\n",
       "      <td></td>\n",
       "      <td></td>\n",
       "      <td>[Gómez García, Juan Guillermo] Univ Antioquia, Colombia.\\n</td>\n",
       "      <td>...</td>\n",
       "      <td></td>\n",
       "      <td></td>\n",
       "      <td>LA SIGNIFICACION CONTINENTAL DE MANUEL GONZALEZ PRADA: SOBRE LA GENESIS DEL ANARQUISMO EN HISPANOAMERICA (THE CONTINENTAL MEANING OF MANUEL GONZALEZ PRADA: ON THE GENESIS OF ANARCHISM IN HISPANIC ...</td>\n",
       "      <td></td>\n",
       "      <td></td>\n",
       "      <td></td>\n",
       "      <td></td>\n",
       "      <td></td>\n",
       "      <td>0.0</td>\n",
       "      <td>[{'WOS_author': 'Gómez García, Juan Guillermo', 'affiliation': ['Univ Antioquia, Colombia.'], 'i': 0}]</td>\n",
       "    </tr>\n",
       "    <tr>\n",
       "      <th>23</th>\n",
       "      <td></td>\n",
       "      <td></td>\n",
       "      <td></td>\n",
       "      <td>Gómez, Sandra M\\nOlaya, Patricia\\nDíaz, Francisco J\\n</td>\n",
       "      <td></td>\n",
       "      <td></td>\n",
       "      <td></td>\n",
       "      <td></td>\n",
       "      <td></td>\n",
       "      <td>[Olaya, Patricia] Centro de Análisis Molecular, Colombia.\\n[Gómez, Sandra M; Díaz, Francisco J] Univ Antioquia, Colombia.\\n</td>\n",
       "      <td>...</td>\n",
       "      <td></td>\n",
       "      <td></td>\n",
       "      <td>RESISTENCIA A LOS MEDICAMENTOS ANTIRRETROVIRALES EN PACIENTESS QUE RECIBEN TRATAMIENTO PARA VIH-SIDA EN COLOMBIA (RESISTANCE TO ANTIRETROVIRALS IN PATIENTS RECEIVING HIV-AIDS THERAPY IN COLOMBIA)</td>\n",
       "      <td></td>\n",
       "      <td></td>\n",
       "      <td></td>\n",
       "      <td></td>\n",
       "      <td></td>\n",
       "      <td>0.0</td>\n",
       "      <td>[{'WOS_author': 'Gómez, Sandra M', 'affiliation': ['Univ Antioquia, Colombia.'], 'i': 0}, {'WOS_author': 'Díaz, Francisco J', 'affiliation': ['Univ Antioquia, Colombia.'], 'i': 1}]</td>\n",
       "    </tr>\n",
       "    <tr>\n",
       "      <th>24</th>\n",
       "      <td></td>\n",
       "      <td></td>\n",
       "      <td></td>\n",
       "      <td>Díaz, James Samir\\nCataño, Juan Carlos\\n</td>\n",
       "      <td></td>\n",
       "      <td></td>\n",
       "      <td></td>\n",
       "      <td></td>\n",
       "      <td></td>\n",
       "      <td>[Cataño, Juan Carlos] Univ Antioquia, Colombia.\\n[Díaz, James Samir] Univ Antioquia, Colombia.\\n</td>\n",
       "      <td>...</td>\n",
       "      <td></td>\n",
       "      <td></td>\n",
       "      <td>FIEBRE MANCHADA DE LAS MONTANAS ROCOSAS: NI TAN MANCHADA NI TAN MONTANOSA COMO PENSABAMOS (ROCKY MOUNTAIN SPOTTED FEVER: NOT AS SPOTTED OR AS MOUNTAINOUS AS THOUGHT)</td>\n",
       "      <td></td>\n",
       "      <td>0123-9392</td>\n",
       "      <td></td>\n",
       "      <td></td>\n",
       "      <td></td>\n",
       "      <td>0.0</td>\n",
       "      <td>[{'WOS_author': 'Cataño, Juan Carlos', 'affiliation': ['Univ Antioquia, Colombia.'], 'i': 0}, {'WOS_author': 'Díaz, James Samir', 'affiliation': ['Univ Antioquia, Colombia.'], 'i': 1}]</td>\n",
       "    </tr>\n",
       "    <tr>\n",
       "      <th>25</th>\n",
       "      <td></td>\n",
       "      <td></td>\n",
       "      <td></td>\n",
       "      <td>Cortina, Ana del Mar\\nTobón, Alberto\\n</td>\n",
       "      <td></td>\n",
       "      <td></td>\n",
       "      <td></td>\n",
       "      <td></td>\n",
       "      <td></td>\n",
       "      <td>[Tobón, Alberto] Univ Antioquia, Colombia.\\n[Cortina, Ana del Mar] Univ Antioquia, Colombia.\\n</td>\n",
       "      <td>...</td>\n",
       "      <td></td>\n",
       "      <td></td>\n",
       "      <td>ICTERICIA Y HEPATOPATIA EN EL PACIENTE CON MALARIA (JAUNDICE AND HEPATOPATHY IN PATIENTS WITH MALARIA)</td>\n",
       "      <td></td>\n",
       "      <td>0123-9392</td>\n",
       "      <td></td>\n",
       "      <td></td>\n",
       "      <td></td>\n",
       "      <td>0.0</td>\n",
       "      <td>[{'WOS_author': 'Tobón, Alberto', 'affiliation': ['Univ Antioquia, Colombia.'], 'i': 0}, {'WOS_author': 'Cortina, Ana del Mar', 'affiliation': ['Univ Antioquia, Colombia.'], 'i': 1}]</td>\n",
       "    </tr>\n",
       "    <tr>\n",
       "      <th>26</th>\n",
       "      <td></td>\n",
       "      <td></td>\n",
       "      <td></td>\n",
       "      <td>Velásquez Uribe, Gloria\\nRueda, Zulma Vanessa\\nVélez, Lázaro Agustín\\nAguirre, Daniel Camilo\\nGómez-Arias, Rubén Darío\\n</td>\n",
       "      <td></td>\n",
       "      <td></td>\n",
       "      <td></td>\n",
       "      <td></td>\n",
       "      <td></td>\n",
       "      <td>[Vélez, Lázaro Agustín] Univ Antioquia, Colombia.\\n[Aguirre, Daniel Camilo; Gómez-Arias, Rubén Darío] Univ Antioquia, Colombia.\\n[Velásquez Uribe, Gloria; Rueda, Zulma Vanessa] Univ Antioquia, Col...</td>\n",
       "      <td>...</td>\n",
       "      <td></td>\n",
       "      <td></td>\n",
       "      <td>HISTOPLASMOSIS EN PACIENTES CON SIDA. UN ESTUDIO DE COHORTE EN MEDELLIN,COLOMBIA. (HISTOPLASMOSIS IN AIDS PATIENTS. A COHORT STUDY IN MEDELLIN, COLOMBIA)</td>\n",
       "      <td></td>\n",
       "      <td></td>\n",
       "      <td></td>\n",
       "      <td></td>\n",
       "      <td></td>\n",
       "      <td>0.0</td>\n",
       "      <td>[{'WOS_author': 'Vélez, Lázaro Agustín', 'affiliation': ['Univ Antioquia, Colombia.'], 'i': 0}, {'WOS_author': 'Aguirre, Daniel Camilo', 'affiliation': ['Univ Antioquia, Colombia.'], 'i': 1}, {'WO...</td>\n",
       "    </tr>\n",
       "    <tr>\n",
       "      <th>27</th>\n",
       "      <td></td>\n",
       "      <td></td>\n",
       "      <td></td>\n",
       "      <td>Bolaños, Eduardo\\nTobón, Alexander\\n</td>\n",
       "      <td></td>\n",
       "      <td></td>\n",
       "      <td></td>\n",
       "      <td></td>\n",
       "      <td></td>\n",
       "      <td>[Tobón, Alexander] Univ Antioquia, Colombia.\\n[Bolaños, Eduardo] Univ Antioquia, Colombia.\\n</td>\n",
       "      <td>...</td>\n",
       "      <td></td>\n",
       "      <td></td>\n",
       "      <td>ELEMENTOS PARA UNA TEORIA CLASICA DE LOS PRECIOS DE EQUILIBRIO Y DESEQUILIBRIO (ELEMENTS FOR A CLASICAL THEORY OF EQUILIBRIUM AND DISEQUILIBRIUM PRICES)</td>\n",
       "      <td></td>\n",
       "      <td></td>\n",
       "      <td></td>\n",
       "      <td></td>\n",
       "      <td></td>\n",
       "      <td>0.0</td>\n",
       "      <td>[{'WOS_author': 'Tobón, Alexander', 'affiliation': ['Univ Antioquia, Colombia.'], 'i': 0}, {'WOS_author': 'Bolaños, Eduardo', 'affiliation': ['Univ Antioquia, Colombia.'], 'i': 1}]</td>\n",
       "    </tr>\n",
       "    <tr>\n",
       "      <th>28</th>\n",
       "      <td></td>\n",
       "      <td></td>\n",
       "      <td></td>\n",
       "      <td>Castaño, Elkin\\nGallón, Santiago\\nGómez, Karoll\\n</td>\n",
       "      <td></td>\n",
       "      <td></td>\n",
       "      <td></td>\n",
       "      <td></td>\n",
       "      <td></td>\n",
       "      <td>[Gallón, Santiago] Univ Antioquia, Colombia.\\n[Gómez, Karoll] Univ Antioquia, Colombia.\\n[Castaño, Elkin] Univ Antioquia, Colombia.\\n</td>\n",
       "      <td>...</td>\n",
       "      <td></td>\n",
       "      <td></td>\n",
       "      <td>SESGOS EN ESTIMACION, TAMANO Y POTENCIA DE UNA PRUEBA SOBRE EL PARAMETRO DE MEMORIA LARGA EN MODELOS ARFIMA(ESTIMATION BIASES, SIZE AND POWER OF A TEST ON THE LONG MEMORY PARAMETER IN AFIRMA MODELS)</td>\n",
       "      <td></td>\n",
       "      <td></td>\n",
       "      <td></td>\n",
       "      <td></td>\n",
       "      <td></td>\n",
       "      <td>0.0</td>\n",
       "      <td>[{'WOS_author': 'Gallón, Santiago', 'affiliation': ['Univ Antioquia, Colombia.'], 'i': 0}, {'WOS_author': 'Gómez, Karoll', 'affiliation': ['Univ Antioquia, Colombia.'], 'i': 1}, {'WOS_author': 'Ca...</td>\n",
       "    </tr>\n",
       "    <tr>\n",
       "      <th>29</th>\n",
       "      <td></td>\n",
       "      <td></td>\n",
       "      <td></td>\n",
       "      <td>Restrepo, Camilo\\nAlviar, Mauricio\\n</td>\n",
       "      <td></td>\n",
       "      <td></td>\n",
       "      <td></td>\n",
       "      <td></td>\n",
       "      <td></td>\n",
       "      <td>[Alviar, Mauricio] Univ Antioquia, Colombia.\\n[Restrepo, Camilo] Univ Antioquia, Colombia.\\n</td>\n",
       "      <td>...</td>\n",
       "      <td></td>\n",
       "      <td></td>\n",
       "      <td>TASA DE DESCUENTO Y ROTACION FORESTAL: EL CASO DE EUCALYPTUS SALINA (DISCOUNT RATE AND TIMBER ROTATION: THECASE OF EUCALYPTUS SALIGNA)</td>\n",
       "      <td></td>\n",
       "      <td></td>\n",
       "      <td></td>\n",
       "      <td></td>\n",
       "      <td></td>\n",
       "      <td>0.0</td>\n",
       "      <td>[{'WOS_author': 'Alviar, Mauricio', 'affiliation': ['Univ Antioquia, Colombia.'], 'i': 0}, {'WOS_author': 'Restrepo, Camilo', 'affiliation': ['Univ Antioquia, Colombia.'], 'i': 1}]</td>\n",
       "    </tr>\n",
       "    <tr>\n",
       "      <th>...</th>\n",
       "      <td>...</td>\n",
       "      <td>...</td>\n",
       "      <td>...</td>\n",
       "      <td>...</td>\n",
       "      <td>...</td>\n",
       "      <td>...</td>\n",
       "      <td>...</td>\n",
       "      <td>...</td>\n",
       "      <td>...</td>\n",
       "      <td>...</td>\n",
       "      <td>...</td>\n",
       "      <td>...</td>\n",
       "      <td>...</td>\n",
       "      <td>...</td>\n",
       "      <td>...</td>\n",
       "      <td>...</td>\n",
       "      <td>...</td>\n",
       "      <td>...</td>\n",
       "      <td>...</td>\n",
       "      <td>...</td>\n",
       "      <td>...</td>\n",
       "    </tr>\n",
       "    <tr>\n",
       "      <th>70</th>\n",
       "      <td></td>\n",
       "      <td></td>\n",
       "      <td></td>\n",
       "      <td>Díaz, Paula A\\nPeñaranda, Fernando\\nCristancho, Sergio\\nCaicedo, Nydia\\nGarcés, Marcela\\nAlzate, Teresita\\nBernal, Tomás\\nGómez, Margarita M\\nValencia, Águeda L\\nGómez, Sol N\\n</td>\n",
       "      <td></td>\n",
       "      <td></td>\n",
       "      <td></td>\n",
       "      <td></td>\n",
       "      <td></td>\n",
       "      <td>[Gómez, Margarita M] Univ Antioquia, Colombia.\\n[Valencia, Águeda L] Univ Antioquia, Colombia.\\n[Gómez, Sol N] Fundación Universitaria San Martín, Colombia.\\n[Peñaranda, Fernando] Univ Antioquia, ...</td>\n",
       "      <td>...</td>\n",
       "      <td></td>\n",
       "      <td></td>\n",
       "      <td>EDUCACION PARA LA SALUD: PERSPECTIVAS Y EXPERIENCIAS DE EDUCACION SUPERIOR EN CIENCIAS DE LA SALUD, MEDELLIN,COLOMBIA. (EDUCATION FOR HEALTH: PERSPECTIVES AND EXPERIENCES IN HIGHER EDUCATION IN HE...</td>\n",
       "      <td></td>\n",
       "      <td></td>\n",
       "      <td></td>\n",
       "      <td></td>\n",
       "      <td></td>\n",
       "      <td>0.0</td>\n",
       "      <td>[{'WOS_author': 'Gómez, Margarita M', 'affiliation': ['Univ Antioquia, Colombia.'], 'i': 0}, {'WOS_author': 'Valencia, Águeda L', 'affiliation': ['Univ Antioquia, Colombia.'], 'i': 1}, {'WOS_autho...</td>\n",
       "    </tr>\n",
       "    <tr>\n",
       "      <th>71</th>\n",
       "      <td></td>\n",
       "      <td></td>\n",
       "      <td></td>\n",
       "      <td>Gómez A, Rubén D\\n</td>\n",
       "      <td></td>\n",
       "      <td></td>\n",
       "      <td></td>\n",
       "      <td></td>\n",
       "      <td></td>\n",
       "      <td>[Gómez A, Rubén D] Univ Antioquia, Colombia.\\n</td>\n",
       "      <td>...</td>\n",
       "      <td></td>\n",
       "      <td></td>\n",
       "      <td>ATENCION PRIMARIA DE SALUD Y POLITICAS PUBLICAS (PRIMARY HEALTH CARE AND PUBLIC POLICY)</td>\n",
       "      <td></td>\n",
       "      <td></td>\n",
       "      <td></td>\n",
       "      <td></td>\n",
       "      <td></td>\n",
       "      <td>0.0</td>\n",
       "      <td>[{'WOS_author': 'Gómez A, Rubén D', 'affiliation': ['Univ Antioquia, Colombia.'], 'i': 0}]</td>\n",
       "    </tr>\n",
       "    <tr>\n",
       "      <th>72</th>\n",
       "      <td></td>\n",
       "      <td></td>\n",
       "      <td></td>\n",
       "      <td>SALCEDO M, Jairo G\\nMONTES M, Everaldo J\\nZapata M, JOSÉ E\\nMÁRQUEZ H, Didier A\\nDIAZ A, Miguel\\n</td>\n",
       "      <td></td>\n",
       "      <td></td>\n",
       "      <td></td>\n",
       "      <td></td>\n",
       "      <td></td>\n",
       "      <td>[MONTES M, Everaldo J] Universidad de Córdoba, Spain.\\n[Zapata M, JOSÉ E] Univ Antioquia, Colombia.\\n[SALCEDO M, Jairo G] Universidad de Sucre, Colombia.\\n[MÁRQUEZ H, Didier A; DIAZ A, Miguel] Uni...</td>\n",
       "      <td>...</td>\n",
       "      <td></td>\n",
       "      <td></td>\n",
       "      <td>OBTENCION DE JARABES DE FRUCTOSA A PARTIR DE HIDROLIZADOS ENZIMATICOS DE ALMIDON DE NAME (DIOSCOREA ALATA Y DISCOREA ROTUNDATA) (FRUCTOSE SYRUP OBTEBTION FROM ENZYMATIC HYDROLYSED OF YAM STARCH (D...</td>\n",
       "      <td></td>\n",
       "      <td></td>\n",
       "      <td></td>\n",
       "      <td></td>\n",
       "      <td></td>\n",
       "      <td>0.0</td>\n",
       "      <td>[{'WOS_author': 'Zapata M, JOSÉ E', 'affiliation': ['Univ Antioquia, Colombia.'], 'i': 0}]</td>\n",
       "    </tr>\n",
       "    <tr>\n",
       "      <th>73</th>\n",
       "      <td></td>\n",
       "      <td></td>\n",
       "      <td></td>\n",
       "      <td>LOBO E, Tatiana\\nPEREAÑEZ, Jaime A\\nZapata A, Karol\\nGUTIÉRREZ, Pablo A\\nLONDOÑO, Mónica\\nNÚÑEZ, Vitelbina\\nROJANO, Benjamín A\\n</td>\n",
       "      <td></td>\n",
       "      <td></td>\n",
       "      <td></td>\n",
       "      <td></td>\n",
       "      <td></td>\n",
       "      <td>[PEREAÑEZ, Jaime A; Zapata A, Karol; LONDOÑO, Mónica] Univ Antioquia, Colombia.\\n[GUTIÉRREZ, Pablo A] Universidad Nacional de Colombia, Colombia.\\n[LOBO E, Tatiana] Universidad Nacional de Colombi...</td>\n",
       "      <td>...</td>\n",
       "      <td></td>\n",
       "      <td></td>\n",
       "      <td>ACTIVIDAD INHIBITORIA DE MURRAYA PANICULATA CONTRA FOSFOLIPASAS A2 MIOTOXICAS (INHIBITORY ACTIVITY OF MURRAYA PANICULATA AGAINST MYOTOXIC PHOSPHOLIPASE A2)</td>\n",
       "      <td></td>\n",
       "      <td></td>\n",
       "      <td></td>\n",
       "      <td></td>\n",
       "      <td></td>\n",
       "      <td>0.0</td>\n",
       "      <td>[{'WOS_author': 'PEREAÑEZ, Jaime A', 'affiliation': ['Univ Antioquia, Colombia.'], 'i': 0}, {'WOS_author': 'Zapata A, Karol', 'affiliation': ['Univ Antioquia, Colombia.'], 'i': 1}, {'WOS_author': ...</td>\n",
       "    </tr>\n",
       "    <tr>\n",
       "      <th>74</th>\n",
       "      <td></td>\n",
       "      <td></td>\n",
       "      <td></td>\n",
       "      <td>Cornejo Ochoa, William\\nSánchez Mosquera, Yaneth\\nGómez Navas, María del Pilar\\nOssio, Óscar Horacio\\n</td>\n",
       "      <td></td>\n",
       "      <td></td>\n",
       "      <td></td>\n",
       "      <td></td>\n",
       "      <td></td>\n",
       "      <td>[Sánchez Mosquera, Yaneth] Univ Antioquia, Colombia.\\n[Gómez Navas, María del Pilar] Universidad Industrial de Santander, Colombia.\\n[Cornejo Ochoa, William] Univ Antioquia, Colombia.\\n[Ossio, Ósc...</td>\n",
       "      <td>...</td>\n",
       "      <td></td>\n",
       "      <td></td>\n",
       "      <td>DESEMPENO DIAGNOSTICO DEL CUESTIONARIO LISTA DE SINTOMAS DSM IV PARA EL DIAGNOSTICO DEL TRASTORNO DE HIPERACTIVIDAD CON DEFICIT DE ATENCION (TDAH) EN NINOS Y ADOLESCENTES ESCOLARES</td>\n",
       "      <td></td>\n",
       "      <td></td>\n",
       "      <td></td>\n",
       "      <td></td>\n",
       "      <td></td>\n",
       "      <td>0.0</td>\n",
       "      <td>[{'WOS_author': 'Sánchez Mosquera, Yaneth', 'affiliation': ['Univ Antioquia, Colombia.'], 'i': 0}, {'WOS_author': 'Cornejo Ochoa, William', 'affiliation': ['Univ Antioquia, Colombia.'], 'i': 1}, {...</td>\n",
       "    </tr>\n",
       "    <tr>\n",
       "      <th>75</th>\n",
       "      <td></td>\n",
       "      <td></td>\n",
       "      <td></td>\n",
       "      <td>Mesa-Vanegas A.M., Gaviria C.A., Cardona F., Sáez-Vega J.A., Trujillo S.B., Rojano B.A.</td>\n",
       "      <td></td>\n",
       "      <td></td>\n",
       "      <td></td>\n",
       "      <td></td>\n",
       "      <td></td>\n",
       "      <td>[Mesa-Vanegas, A. M.] Grupo de Investigación Malaria, Sede de Investigación Universitaria(SIU), Facultad de Medicina, Univ Antioquia, Medellín, Colombia\\n[Gaviria, C. A.] Grupo de Investigación en...</td>\n",
       "      <td>...</td>\n",
       "      <td></td>\n",
       "      <td></td>\n",
       "      <td>ACTIVIDAD ANTIOXIDANTE Y CONTENIDO DE FENOLES TOTALES DE ALGUNAS ESPECIES DEL GENERO CALOPHYLLUM (ANTIOXIDANT ACTIVITY AND TOTOAL PHENOLS CONTENT FROM SOME SPECIES OF CALOPHYLLUM GENUS)</td>\n",
       "      <td></td>\n",
       "      <td></td>\n",
       "      <td></td>\n",
       "      <td></td>\n",
       "      <td></td>\n",
       "      <td>0.0</td>\n",
       "      <td>[{'WOS_author': 'Mesa-Vanegas, A. M.', 'affiliation': ['Grupo de Investigación Malaria, Sede de Investigación Universitaria(SIU), Facultad de Medicina, Univ Antioquia, Medellín, Colombia'], 'i': 0...</td>\n",
       "    </tr>\n",
       "    <tr>\n",
       "      <th>76</th>\n",
       "      <td></td>\n",
       "      <td></td>\n",
       "      <td></td>\n",
       "      <td>G, HAROLD DURANGO\\nRODAS, JUAN DAVID\\nTRAVI, BRUNO L\\nFLÓREZ, PIEDAD AGUEDELO\\n</td>\n",
       "      <td></td>\n",
       "      <td></td>\n",
       "      <td></td>\n",
       "      <td></td>\n",
       "      <td></td>\n",
       "      <td>[RODAS, JUAN DAVID] Univ Antioquia, Colombia.\\n[TRAVI, BRUNO L] Universidad Texas, USA.\\n[G, HAROLD DURANGO] Univ Antioquia, Colombia.\\n[FLÓREZ, PIEDAD AGUEDELO] Universidad CES, Colombia.\\n</td>\n",
       "      <td>...</td>\n",
       "      <td></td>\n",
       "      <td></td>\n",
       "      <td>CARACTERIZACION BIOLOGICA DE DOS AISLADOS DE LEPTOSPIRA SPP PROCEDENTES DE PACIENTES COLOMBIANOS CON SINDROME DE WEIL</td>\n",
       "      <td></td>\n",
       "      <td>ISSN: 0120-8705</td>\n",
       "      <td></td>\n",
       "      <td></td>\n",
       "      <td></td>\n",
       "      <td>0.0</td>\n",
       "      <td>[{'WOS_author': 'RODAS, JUAN DAVID', 'affiliation': ['Univ Antioquia, Colombia.'], 'i': 0}, {'WOS_author': 'G, HAROLD DURANGO', 'affiliation': ['Univ Antioquia, Colombia.'], 'i': 1}]</td>\n",
       "    </tr>\n",
       "    <tr>\n",
       "      <th>77</th>\n",
       "      <td></td>\n",
       "      <td></td>\n",
       "      <td></td>\n",
       "      <td>QUINTERO V., JUAN C.\\nDÍAZ, JAVIER\\nLONDOÑO, ANDRÉS F.\\nAGUEDELO FLÓREZ, PIEDAD\\nARBOLEDA, MARGARITA\\nRODAS, JUAN D\\n</td>\n",
       "      <td></td>\n",
       "      <td></td>\n",
       "      <td></td>\n",
       "      <td></td>\n",
       "      <td></td>\n",
       "      <td>[DÍAZ, JAVIER; ARBOLEDA, MARGARITA] Univ Antioquia, Colombia.\\n[AGUEDELO FLÓREZ, PIEDAD] Universidad CES, Colombia.\\n[QUINTERO V., JUAN C.; LONDOÑO, ANDRÉS F.; RODAS, JUAN D] Univ Antioquia, Colom...</td>\n",
       "      <td>...</td>\n",
       "      <td></td>\n",
       "      <td></td>\n",
       "      <td>DESCRIPCION EPIDEMIOLOGICA DE LA INFECCION CON AGENTES DEL GENERO RICKETTSIA EN ROEDORES, ECTOPARASITOS Y HUMANOS EN EL URABA ANTIOQUENO</td>\n",
       "      <td></td>\n",
       "      <td>ISSN: 0120-8705</td>\n",
       "      <td></td>\n",
       "      <td></td>\n",
       "      <td></td>\n",
       "      <td>0.0</td>\n",
       "      <td>[{'WOS_author': 'DÍAZ, JAVIER', 'affiliation': ['Univ Antioquia, Colombia.'], 'i': 0}, {'WOS_author': 'ARBOLEDA, MARGARITA', 'affiliation': ['Univ Antioquia, Colombia.'], 'i': 1}, {'WOS_author': '...</td>\n",
       "    </tr>\n",
       "    <tr>\n",
       "      <th>78</th>\n",
       "      <td></td>\n",
       "      <td></td>\n",
       "      <td></td>\n",
       "      <td>Saavedra Rueda, Jaqueline\\nAmézquita García, Juan Carlos\\nDíaz Burgos, Laura María\\nLaverde Cataño, Dionisio\\nBolívar Osorio, Francisco Javier\\nPérez Trujillo, Francisco Javier\\n</td>\n",
       "      <td></td>\n",
       "      <td></td>\n",
       "      <td></td>\n",
       "      <td></td>\n",
       "      <td></td>\n",
       "      <td>[Amézquita García, Juan Carlos] Universidad Industrial de Santander, Colombia.\\n[Díaz Burgos, Laura María] Universidad Industrial de Santander, Colombia.\\n[Saavedra Rueda, Jaqueline] Instituto Col...</td>\n",
       "      <td>...</td>\n",
       "      <td></td>\n",
       "      <td></td>\n",
       "      <td>EVALUACION DEL DANO POR CARBURACION DE UN TUBO RETIRADO DE SERVICIO DE UN HORNO DE PIROLISIS (EVALUATION OFDAMAGE BY CARBURIZATION OF A TUBE REMOVED FROM A PYROLYSIS FURNACE)</td>\n",
       "      <td></td>\n",
       "      <td></td>\n",
       "      <td></td>\n",
       "      <td></td>\n",
       "      <td></td>\n",
       "      <td>0.0</td>\n",
       "      <td>[{'WOS_author': 'Bolívar Osorio, Francisco Javier', 'affiliation': ['Univ Antioquia, Colombia.'], 'i': 0}]</td>\n",
       "    </tr>\n",
       "    <tr>\n",
       "      <th>79</th>\n",
       "      <td></td>\n",
       "      <td></td>\n",
       "      <td></td>\n",
       "      <td>Beltrán Salazar, Oscar Alberto\\n</td>\n",
       "      <td></td>\n",
       "      <td></td>\n",
       "      <td></td>\n",
       "      <td></td>\n",
       "      <td></td>\n",
       "      <td>[Beltrán Salazar, Oscar Alberto] Univ Antioquia, Colombia.\\n</td>\n",
       "      <td>...</td>\n",
       "      <td></td>\n",
       "      <td></td>\n",
       "      <td>RECHAZO AL CUIDADO DE LA SALUD POR MOTIVACIONES DEL PACIENTE (HEALTH CARE REJECTION DUE TO PATIENTSMOTIVATIONS)</td>\n",
       "      <td></td>\n",
       "      <td></td>\n",
       "      <td></td>\n",
       "      <td></td>\n",
       "      <td></td>\n",
       "      <td>0.0</td>\n",
       "      <td>[{'WOS_author': 'Beltrán Salazar, Oscar Alberto', 'affiliation': ['Univ Antioquia, Colombia.'], 'i': 0}]</td>\n",
       "    </tr>\n",
       "    <tr>\n",
       "      <th>80</th>\n",
       "      <td></td>\n",
       "      <td></td>\n",
       "      <td></td>\n",
       "      <td>Carmona Fonseca, Jaime\\nUscátegui Peñuela, Rosa Magdalena\\nCorrea Botero, Adriana María\\n</td>\n",
       "      <td></td>\n",
       "      <td></td>\n",
       "      <td></td>\n",
       "      <td></td>\n",
       "      <td></td>\n",
       "      <td>[Uscátegui Peñuela, Rosa Magdalena] Univ Antioquia, Colombia.\\n[Correa Botero, Adriana María] Univ Antioquia, Colombia.\\n[Carmona Fonseca, Jaime] Facultad de Medicina, Argentina.\\n</td>\n",
       "      <td>...</td>\n",
       "      <td></td>\n",
       "      <td></td>\n",
       "      <td>CONDICIONES DE VIDA EN ZONAS PALUDICAS DE ANTIOQUIA (COLOMBIA), 2005 (LIVING CONDITIONS ON ANTIOQUIA'S (COLOMBIA) PALUDE AREAS, 2005)</td>\n",
       "      <td></td>\n",
       "      <td></td>\n",
       "      <td></td>\n",
       "      <td></td>\n",
       "      <td></td>\n",
       "      <td>0.0</td>\n",
       "      <td>[{'WOS_author': 'Uscátegui Peñuela, Rosa Magdalena', 'affiliation': ['Univ Antioquia, Colombia.'], 'i': 0}, {'WOS_author': 'Correa Botero, Adriana María', 'affiliation': ['Univ Antioquia, Colombia...</td>\n",
       "    </tr>\n",
       "    <tr>\n",
       "      <th>81</th>\n",
       "      <td></td>\n",
       "      <td></td>\n",
       "      <td></td>\n",
       "      <td>Cadavid, Diego Raúl\\nRamírez, David Alejandro\\nLopera, Freddy\\nCorrea, Andrés Felipe\\n</td>\n",
       "      <td></td>\n",
       "      <td></td>\n",
       "      <td></td>\n",
       "      <td></td>\n",
       "      <td></td>\n",
       "      <td>[Ramírez, David Alejandro] Univ Antioquia, Colombia.\\n[Lopera, Freddy] Univ Antioquia, Colombia.\\n[Cadavid, Diego Raúl] Univ Antioquia, Colombia.\\n[Correa, Andrés Felipe] Univ Antioquia, Colombia.\\n</td>\n",
       "      <td>...</td>\n",
       "      <td></td>\n",
       "      <td></td>\n",
       "      <td>MITIGACION DE CAMPO MAGNETICO DE LINEAS DE TRANSMISION UTILIZANDO BUCLES PASIVOS (MAGNETIC FIELD MITIGATIONOF TRNASMISSION LINES USING PASSIVE LOOPS)</td>\n",
       "      <td></td>\n",
       "      <td></td>\n",
       "      <td></td>\n",
       "      <td></td>\n",
       "      <td></td>\n",
       "      <td>0.0</td>\n",
       "      <td>[{'WOS_author': 'Ramírez, David Alejandro', 'affiliation': ['Univ Antioquia, Colombia.'], 'i': 0}, {'WOS_author': 'Lopera, Freddy', 'affiliation': ['Univ Antioquia, Colombia.'], 'i': 1}, {'WOS_aut...</td>\n",
       "    </tr>\n",
       "    <tr>\n",
       "      <th>82</th>\n",
       "      <td></td>\n",
       "      <td></td>\n",
       "      <td></td>\n",
       "      <td>Wills, Beatriz Amparo\\nVélez, Santiago\\nArboleda, Andrés Felipe\\nGarcés, Juan Pablo\\n</td>\n",
       "      <td></td>\n",
       "      <td></td>\n",
       "      <td></td>\n",
       "      <td></td>\n",
       "      <td></td>\n",
       "      <td>[Vélez, Santiago] Univ Antioquia, Colombia.\\n[Arboleda, Andrés Felipe] Univ Antioquia, Colombia.\\n[Wills, Beatriz Amparo] Univ Antioquia, Colombia.\\n[Garcés, Juan Pablo] Escuela de Ingeniería de A...</td>\n",
       "      <td>...</td>\n",
       "      <td></td>\n",
       "      <td></td>\n",
       "      <td>PROPUESTA METODOLOGICA PARA LA EVALUACION DE SISTEMAS DE TRATAMIENTO DE AGUAS RESIDUALES DOMESTICAS EN EL SITIO DE ORIGEN (METHODOLOGICAL PROPOSAL FOR EVALUATION OF ON-SITE DOMESTIC WASTEWATER TRE...</td>\n",
       "      <td></td>\n",
       "      <td></td>\n",
       "      <td></td>\n",
       "      <td></td>\n",
       "      <td></td>\n",
       "      <td>0.0</td>\n",
       "      <td>[{'WOS_author': 'Vélez, Santiago', 'affiliation': ['Univ Antioquia, Colombia.'], 'i': 0}, {'WOS_author': 'Arboleda, Andrés Felipe', 'affiliation': ['Univ Antioquia, Colombia.'], 'i': 1}, {'WOS_aut...</td>\n",
       "    </tr>\n",
       "    <tr>\n",
       "      <th>83</th>\n",
       "      <td></td>\n",
       "      <td></td>\n",
       "      <td></td>\n",
       "      <td>Riveros, Carlos Alberto\\nGarcía, Edwin Fabián\\nBuiles, Manuel Alonso\\n</td>\n",
       "      <td></td>\n",
       "      <td></td>\n",
       "      <td></td>\n",
       "      <td></td>\n",
       "      <td></td>\n",
       "      <td>[García, Edwin Fabián] Univ Antioquia, Colombia.\\n[Builes, Manuel Alonso] Univ Antioquia, Colombia.\\n[Riveros, Carlos Alberto] Univ Antioquia, Colombia.\\n</td>\n",
       "      <td>...</td>\n",
       "      <td></td>\n",
       "      <td></td>\n",
       "      <td>A NUMERICAL APPROACH FOR FAULT DETECTION IN BEAM-LIKE STRUCTURES USING MODAL STRAIN ENERGY</td>\n",
       "      <td></td>\n",
       "      <td></td>\n",
       "      <td></td>\n",
       "      <td></td>\n",
       "      <td></td>\n",
       "      <td>0.0</td>\n",
       "      <td>[{'WOS_author': 'García, Edwin Fabián', 'affiliation': ['Univ Antioquia, Colombia.'], 'i': 0}, {'WOS_author': 'Builes, Manuel Alonso', 'affiliation': ['Univ Antioquia, Colombia.'], 'i': 1}, {'WOS_...</td>\n",
       "    </tr>\n",
       "    <tr>\n",
       "      <th>84</th>\n",
       "      <td></td>\n",
       "      <td></td>\n",
       "      <td></td>\n",
       "      <td>Gómez, Maryory Astrid\\nRestrepo, José William\\n</td>\n",
       "      <td></td>\n",
       "      <td></td>\n",
       "      <td></td>\n",
       "      <td></td>\n",
       "      <td></td>\n",
       "      <td>[Gómez, Maryory Astrid] Univ Antioquia, Medellín, Colombia.\\n[Restrepo, José William] Escuela de Ingeniería de Antioquia, Medellín, Colombia.\\n</td>\n",
       "      <td>...</td>\n",
       "      <td></td>\n",
       "      <td></td>\n",
       "      <td>VIDRIADO CON LASER DE ND: YAG SOBRE AZULEJOS RECUBIERTOS CON BARNICES DE COBALTO CON FRITA BORACICA Y SIN FRITA (Nd: YAG LASER ENAMELING ON GLAZED TILES COATED WITH COBALT VARNISHES WITH  AND WITH...</td>\n",
       "      <td></td>\n",
       "      <td></td>\n",
       "      <td></td>\n",
       "      <td></td>\n",
       "      <td></td>\n",
       "      <td>0.0</td>\n",
       "      <td>[{'WOS_author': 'Gómez, Maryory Astrid', 'affiliation': ['Univ Antioquia, Medellín, Colombia.'], 'i': 0}]</td>\n",
       "    </tr>\n",
       "    <tr>\n",
       "      <th>85</th>\n",
       "      <td></td>\n",
       "      <td></td>\n",
       "      <td></td>\n",
       "      <td>González Palacio, Liliana\\nUrrego Giraldo, Germán\\n</td>\n",
       "      <td></td>\n",
       "      <td></td>\n",
       "      <td></td>\n",
       "      <td></td>\n",
       "      <td></td>\n",
       "      <td>[Urrego Giraldo, Germán] Univ Antioquia, Colombia.\\n[González Palacio, Liliana] Universidad de Medellín, Colombia.\\n</td>\n",
       "      <td>...</td>\n",
       "      <td></td>\n",
       "      <td></td>\n",
       "      <td>MODELO DE CONTEXTO Y DE DOMINIO PARA LA INGENIERIA DE REQUISITOS DE SISTEMAS UBICUOS (CONTEXT FOR REQUIREMENTS ENGINEERING UBIQUITOUS SYSTEMS)</td>\n",
       "      <td></td>\n",
       "      <td></td>\n",
       "      <td></td>\n",
       "      <td></td>\n",
       "      <td></td>\n",
       "      <td>0.0</td>\n",
       "      <td>[{'WOS_author': 'Urrego Giraldo, Germán', 'affiliation': ['Univ Antioquia, Colombia.'], 'i': 0}]</td>\n",
       "    </tr>\n",
       "    <tr>\n",
       "      <th>86</th>\n",
       "      <td></td>\n",
       "      <td></td>\n",
       "      <td></td>\n",
       "      <td>Posada Arias, Silvia\\nLoaiza, Erica T\\nRestrepo, Juan E\\nOlivera, Martha\\n</td>\n",
       "      <td></td>\n",
       "      <td></td>\n",
       "      <td></td>\n",
       "      <td></td>\n",
       "      <td></td>\n",
       "      <td>[Loaiza, Erica T] Univ Antioquia, Colombia.\\n[Restrepo, Juan E] Cooperativa Lechera Colanta, Colombia.\\n[Posada Arias, Silvia] Univ Antioquia, Colombia.\\n[Olivera, Martha] Univ Antioquia, Colombia.\\n</td>\n",
       "      <td>...</td>\n",
       "      <td></td>\n",
       "      <td></td>\n",
       "      <td>CARACTERIZACION DEL ORDENO MANUAL E IDENTIFICACION DE PUNTOS CRITICOS DE CONTROL PARA LA CALIDAD HIGIENICA DE LA LECHE EN UN FINCA DEL NORTE DE ANTIOQUIA (CHARACTERIZATION OF MANUAL MILKING AND ID...</td>\n",
       "      <td></td>\n",
       "      <td></td>\n",
       "      <td></td>\n",
       "      <td></td>\n",
       "      <td></td>\n",
       "      <td>0.0</td>\n",
       "      <td>[{'WOS_author': 'Loaiza, Erica T', 'affiliation': ['Univ Antioquia, Colombia.'], 'i': 0}, {'WOS_author': 'Posada Arias, Silvia', 'affiliation': ['Univ Antioquia, Colombia.'], 'i': 1}, {'WOS_author...</td>\n",
       "    </tr>\n",
       "    <tr>\n",
       "      <th>87</th>\n",
       "      <td></td>\n",
       "      <td></td>\n",
       "      <td></td>\n",
       "      <td>Burgos-Paz, William\\nSolarte-Portilla, Carlos\\nCerón-Muñoz, Mario\\n</td>\n",
       "      <td></td>\n",
       "      <td></td>\n",
       "      <td></td>\n",
       "      <td></td>\n",
       "      <td></td>\n",
       "      <td>[Solarte-Portilla, Carlos] Universidad de Nariño, Colombia.\\n[Cerón-Muñoz, Mario] Universidad de de Antioquia, Colombia.\\n[Burgos-Paz, William] Univ Antioquia, Colombia.\\n</td>\n",
       "      <td>...</td>\n",
       "      <td></td>\n",
       "      <td></td>\n",
       "      <td>EFECTO DEL TAMANO DE CAMADA Y NUMERO DE PARTO EN EL CRECIMIENTO DE CUYES (CAVIA PORCELLUS RODENTIA: CAVIIDAE) (EFFECT OF THE BREED SIZE AND THE DELIVERY NUMBER ON THE GUINEA PIG'S GROWTH (CAVIA PO...</td>\n",
       "      <td></td>\n",
       "      <td></td>\n",
       "      <td></td>\n",
       "      <td></td>\n",
       "      <td></td>\n",
       "      <td>0.0</td>\n",
       "      <td>[{'WOS_author': 'Burgos-Paz, William', 'affiliation': ['Univ Antioquia, Colombia.'], 'i': 0}]</td>\n",
       "    </tr>\n",
       "    <tr>\n",
       "      <th>88</th>\n",
       "      <td></td>\n",
       "      <td></td>\n",
       "      <td></td>\n",
       "      <td>Echeverri Zuluaga, Julián\\nRestrepo, Luis Fernando\\nParra, Jaime E\\n</td>\n",
       "      <td></td>\n",
       "      <td></td>\n",
       "      <td></td>\n",
       "      <td></td>\n",
       "      <td></td>\n",
       "      <td>[Restrepo, Luis Fernando] Univ Antioquia, Colombia.\\n[Echeverri Zuluaga, Julián; Parra, Jaime E] Universidad Nacional de Colombia, Colombia.\\n</td>\n",
       "      <td>...</td>\n",
       "      <td></td>\n",
       "      <td></td>\n",
       "      <td>EVALUACION COMPARATIVA DE LOS PARAMETROS PRODUCTIVOS Y AGRONOMICOS DEL PASTO KIKUYO PENNISETUM CLANDESTINUM BAJO DOS METODOLOGIAS DE FERTILIZACION (COMPARATIVE EVALUATION OF THE PRODUCTIVE AND AGR...</td>\n",
       "      <td></td>\n",
       "      <td></td>\n",
       "      <td></td>\n",
       "      <td></td>\n",
       "      <td></td>\n",
       "      <td>0.0</td>\n",
       "      <td>[{'WOS_author': 'Restrepo, Luis Fernando', 'affiliation': ['Univ Antioquia, Colombia.'], 'i': 0}]</td>\n",
       "    </tr>\n",
       "    <tr>\n",
       "      <th>89</th>\n",
       "      <td></td>\n",
       "      <td></td>\n",
       "      <td></td>\n",
       "      <td>Bedoya, Mauricio Hernando\\nGiraldo, Mary Lucy\\n</td>\n",
       "      <td></td>\n",
       "      <td></td>\n",
       "      <td></td>\n",
       "      <td></td>\n",
       "      <td></td>\n",
       "      <td>[Bedoya, Mauricio Hernando; Giraldo, Mary Lucy] Univ Antioquia, Colombia.\\n</td>\n",
       "      <td>...</td>\n",
       "      <td></td>\n",
       "      <td></td>\n",
       "      <td>CONDICIONES DE FAVORABILIDAD AL MATERNAJE Y VIOLENCIA MATERNA (MATERNAL VIOLENCE IN CHILSHOOD AND THE CONDITIONS THAT BRING ABOUT MOTHERING)</td>\n",
       "      <td></td>\n",
       "      <td></td>\n",
       "      <td></td>\n",
       "      <td></td>\n",
       "      <td></td>\n",
       "      <td>0.0</td>\n",
       "      <td>[{'WOS_author': 'Bedoya, Mauricio Hernando', 'affiliation': ['Univ Antioquia, Colombia.'], 'i': 0}, {'WOS_author': 'Giraldo, Mary Lucy', 'affiliation': ['Univ Antioquia, Colombia.'], 'i': 1}]</td>\n",
       "    </tr>\n",
       "    <tr>\n",
       "      <th>90</th>\n",
       "      <td></td>\n",
       "      <td></td>\n",
       "      <td></td>\n",
       "      <td>Díaz, Silvia Paulina\\n</td>\n",
       "      <td></td>\n",
       "      <td></td>\n",
       "      <td></td>\n",
       "      <td></td>\n",
       "      <td></td>\n",
       "      <td>[Díaz, Silvia Paulina] Univ Antioquia, Colombia.\\n</td>\n",
       "      <td>...</td>\n",
       "      <td></td>\n",
       "      <td></td>\n",
       "      <td>PARTICIPAR COMO NINA O NINO EN EL MUNDO SOCIAL (BEING OF THE SOCIAL WORLD AS A CHILD)</td>\n",
       "      <td></td>\n",
       "      <td></td>\n",
       "      <td></td>\n",
       "      <td></td>\n",
       "      <td></td>\n",
       "      <td>0.0</td>\n",
       "      <td>[{'WOS_author': 'Díaz, Silvia Paulina', 'affiliation': ['Univ Antioquia, Colombia.'], 'i': 0}]</td>\n",
       "    </tr>\n",
       "    <tr>\n",
       "      <th>91</th>\n",
       "      <td></td>\n",
       "      <td></td>\n",
       "      <td></td>\n",
       "      <td>Ossa, Arley Fabio\\n</td>\n",
       "      <td></td>\n",
       "      <td></td>\n",
       "      <td></td>\n",
       "      <td></td>\n",
       "      <td></td>\n",
       "      <td>[Ossa, Arley Fabio] Univ Antioquia, Colombia.\\n</td>\n",
       "      <td>...</td>\n",
       "      <td></td>\n",
       "      <td></td>\n",
       "      <td>EL CASTIGO COMO PRACTICA DE GOBIERNO EN LA REFORMA INSTRUCCIONISTA EN ANTIOQUIA (THE PUNISHMENT AS A RULINGPRACTICE IN THE INSTRUCTION REFORM IN ANTIOQUIA)</td>\n",
       "      <td></td>\n",
       "      <td></td>\n",
       "      <td></td>\n",
       "      <td></td>\n",
       "      <td></td>\n",
       "      <td>0.0</td>\n",
       "      <td>[{'WOS_author': 'Ossa, Arley Fabio', 'affiliation': ['Univ Antioquia, Colombia.'], 'i': 0}]</td>\n",
       "    </tr>\n",
       "    <tr>\n",
       "      <th>92</th>\n",
       "      <td></td>\n",
       "      <td></td>\n",
       "      <td></td>\n",
       "      <td>BEDOYA HERNÁNDEZ, MAURICIO HERNANDO\\n</td>\n",
       "      <td></td>\n",
       "      <td></td>\n",
       "      <td></td>\n",
       "      <td></td>\n",
       "      <td></td>\n",
       "      <td>[BEDOYA HERNÁNDEZ, MAURICIO HERNANDO] Univ Antioquia, Colombia.\\n</td>\n",
       "      <td>...</td>\n",
       "      <td></td>\n",
       "      <td></td>\n",
       "      <td>LA CONSTRUCCION DE LA HISTORIA SUBJETIVA EN LA CLINICA PSICOLOGICA (THE CONSTRUCTION OF SUBJECTIVE HISTORY IN THE CLINICAL PRACTICE OF PSYCHOLOGY)</td>\n",
       "      <td></td>\n",
       "      <td></td>\n",
       "      <td></td>\n",
       "      <td></td>\n",
       "      <td></td>\n",
       "      <td>0.0</td>\n",
       "      <td>[{'WOS_author': 'BEDOYA HERNÁNDEZ, MAURICIO HERNANDO', 'affiliation': ['Univ Antioquia, Colombia.'], 'i': 0}]</td>\n",
       "    </tr>\n",
       "    <tr>\n",
       "      <th>93</th>\n",
       "      <td></td>\n",
       "      <td></td>\n",
       "      <td></td>\n",
       "      <td>Silva S, Federico Arturo\\nGarcía Goméz, Ronald G\\nDíaz S, Gustavo Adolfo\\nZarruk S, Juan Guillermo\\nRueda-Clausen, Cristian Federico\\nRestrepo, Jorge Alberto\\nCórdoba Porras, Alfonso\\n</td>\n",
       "      <td></td>\n",
       "      <td></td>\n",
       "      <td></td>\n",
       "      <td></td>\n",
       "      <td></td>\n",
       "      <td>[García Goméz, Ronald G] Fundación Cardiovascular de Colombia, Colombia.\\n[Díaz S, Gustavo Adolfo] Fundación Cardiovascular de Colombia, Colombia.\\n[Silva S, Federico Arturo] Fundación Cardiovascu...</td>\n",
       "      <td>...</td>\n",
       "      <td></td>\n",
       "      <td></td>\n",
       "      <td>AUSENCIA DE ASOCIACION ENTRE OBESIDAD Y SOBREPESO CON ENFERMEDAD CEREBROVASCULAR ISQUEMICA AGUDA EN UNA MUESTRA DE POBLACION COLOMBIANA (NO ASSOCIATION AMONG OBESITY, OVERWEIGHT AND ACUTE CEREBROV...</td>\n",
       "      <td></td>\n",
       "      <td></td>\n",
       "      <td></td>\n",
       "      <td></td>\n",
       "      <td></td>\n",
       "      <td>0.0</td>\n",
       "      <td>[{'WOS_author': 'Córdoba Porras, Alfonso', 'affiliation': ['Univ Antioquia, Colombia.'], 'i': 0}]</td>\n",
       "    </tr>\n",
       "    <tr>\n",
       "      <th>94</th>\n",
       "      <td></td>\n",
       "      <td></td>\n",
       "      <td></td>\n",
       "      <td>Carvajal Castrillón, Julián\\nAguirre, Daniel Camilo\\nLopera, Francisco\\n</td>\n",
       "      <td></td>\n",
       "      <td></td>\n",
       "      <td></td>\n",
       "      <td></td>\n",
       "      <td></td>\n",
       "      <td>[Aguirre, Daniel Camilo] Grupo de Neurociencias de Antioquia, Colombia.\\n[Lopera, Francisco] Univ Antioquia, Colombia.\\n[Carvajal Castrillón, Julián] Psicólogo.\\n</td>\n",
       "      <td>...</td>\n",
       "      <td></td>\n",
       "      <td></td>\n",
       "      <td>PERFIL CLINICO Y COGNITIVO DE LA ATROFIA CORTICAL POSTERIOR Y SUS DIFERENCIAS CON LA ENFERMEDAD DE ALZHEIMERESPORADICA TARDIA Y FAMILIAR PRECOZ (CLINICAL AND COGNITIVE PROFILE OF POSTERIOR CORTICA...</td>\n",
       "      <td></td>\n",
       "      <td></td>\n",
       "      <td></td>\n",
       "      <td></td>\n",
       "      <td></td>\n",
       "      <td>0.0</td>\n",
       "      <td>[{'WOS_author': 'Lopera, Francisco', 'affiliation': ['Univ Antioquia, Colombia.'], 'i': 0}]</td>\n",
       "    </tr>\n",
       "    <tr>\n",
       "      <th>95</th>\n",
       "      <td></td>\n",
       "      <td></td>\n",
       "      <td></td>\n",
       "      <td>Ramírez-Cadavid, David A.\\nGalindo-Muñoz, Andrés R.\\nZapata-Ocampo, Paola A.\\nRojas-Vahos, Diego F.\\nFernández-Ossa, Carlos\\nAtehortúa-Garcés, Lucía\\n</td>\n",
       "      <td></td>\n",
       "      <td></td>\n",
       "      <td></td>\n",
       "      <td></td>\n",
       "      <td></td>\n",
       "      <td>[Galindo-Muñoz, Andrés R.] Univ Antioquia, Colombia.\\n[Zapata-Ocampo, Paola A.] Univ Antioquia, Colombia.\\n[Ramírez-Cadavid, David A.] Univ Antioquia, Colombia.\\n[Atehortúa-Garcés, Lucía] Univ Ant...</td>\n",
       "      <td>...</td>\n",
       "      <td></td>\n",
       "      <td></td>\n",
       "      <td>EFECTO DE LOS CAMPOS ELECTRICOS SOBRE LA PRODUCCION DE BIOMASA MICELIAL DEL HONGO MEDICINAL GANODERMA LUCIDUM (W.CURT.: FR) P.KARST. (GANODERMATACEAE) (EFFECT OF ELECTRIC FIELDS ON BIOMASS PRODUCT...</td>\n",
       "      <td></td>\n",
       "      <td></td>\n",
       "      <td></td>\n",
       "      <td></td>\n",
       "      <td></td>\n",
       "      <td>0.0</td>\n",
       "      <td>[{'WOS_author': 'Galindo-Muñoz, Andrés R.', 'affiliation': ['Univ Antioquia, Colombia.'], 'i': 0}, {'WOS_author': 'Zapata-Ocampo, Paola A.', 'affiliation': ['Univ Antioquia, Colombia.'], 'i': 1}, ...</td>\n",
       "    </tr>\n",
       "    <tr>\n",
       "      <th>96</th>\n",
       "      <td></td>\n",
       "      <td></td>\n",
       "      <td></td>\n",
       "      <td>Jiménez-Segura, Luz F.\\nCarvajal-Quintero, Juan D.\\nAguirre, Néstor\\n</td>\n",
       "      <td></td>\n",
       "      <td></td>\n",
       "      <td></td>\n",
       "      <td></td>\n",
       "      <td></td>\n",
       "      <td>[Carvajal-Quintero, Juan D.] Univ Antioquia, Colombia.\\n[Aguirre, Néstor] Univ Antioquia, Colombia.\\n[Jiménez-Segura, Luz F.] Univ Antioquia, Colombia.\\n</td>\n",
       "      <td>...</td>\n",
       "      <td></td>\n",
       "      <td></td>\n",
       "      <td>LAS CIENAGAS COMO HABITAT PARA LOS PECES: ESTUDIO DE CASO EN LA CIENAGA DE AYAPEL (CORDOBA), COLOMBIA (RIVERINE FLOODPLAIN LAKES AS HABITAT FOR FRESHWATER FISHES: A CASE STUDY IN THE AYAPEL FLOODP...</td>\n",
       "      <td></td>\n",
       "      <td></td>\n",
       "      <td></td>\n",
       "      <td></td>\n",
       "      <td></td>\n",
       "      <td>0.0</td>\n",
       "      <td>[{'WOS_author': 'Carvajal-Quintero, Juan D.', 'affiliation': ['Univ Antioquia, Colombia.'], 'i': 0}, {'WOS_author': 'Aguirre, Néstor', 'affiliation': ['Univ Antioquia, Colombia.'], 'i': 1}, {'WOS_...</td>\n",
       "    </tr>\n",
       "    <tr>\n",
       "      <th>97</th>\n",
       "      <td></td>\n",
       "      <td></td>\n",
       "      <td></td>\n",
       "      <td>Franco-Molano, Ana E.\\nCorrales, Adriana\\nVasco-Palacios, Aída M.\\n</td>\n",
       "      <td></td>\n",
       "      <td></td>\n",
       "      <td></td>\n",
       "      <td></td>\n",
       "      <td></td>\n",
       "      <td>[Corrales, Adriana] Univ Antioquia, Colombia.\\n[Vasco-Palacios, Aída M.] Univ Antioquia, Colombia.\\n[Franco-Molano, Ana E.] Univ Antioquia, Colombia.\\n</td>\n",
       "      <td>...</td>\n",
       "      <td></td>\n",
       "      <td></td>\n",
       "      <td>MACROHONGOS DE COLOMBIA II. LISTADO DE ESPECIES DE LOS ORDENES AGARICALES BOLETALES, CANTHARELLALES Y RUSSULALES (AGARICOMYCETES, BASIDIOMYCOTA). MACROFUNGI OF COLOMBIA II.CHECKLIST OF THE SPECIES...</td>\n",
       "      <td></td>\n",
       "      <td></td>\n",
       "      <td></td>\n",
       "      <td></td>\n",
       "      <td></td>\n",
       "      <td>0.0</td>\n",
       "      <td>[{'WOS_author': 'Corrales, Adriana', 'affiliation': ['Univ Antioquia, Colombia.'], 'i': 0}, {'WOS_author': 'Vasco-Palacios, Aída M.', 'affiliation': ['Univ Antioquia, Colombia.'], 'i': 1}, {'WOS_a...</td>\n",
       "    </tr>\n",
       "    <tr>\n",
       "      <th>98</th>\n",
       "      <td></td>\n",
       "      <td></td>\n",
       "      <td></td>\n",
       "      <td>ARREDONDO HOLGUÍN, EDITH\\n</td>\n",
       "      <td></td>\n",
       "      <td></td>\n",
       "      <td></td>\n",
       "      <td></td>\n",
       "      <td></td>\n",
       "      <td>[ARREDONDO HOLGUÍN, EDITH] Univ Antioquia, Colombia.\\n</td>\n",
       "      <td>...</td>\n",
       "      <td></td>\n",
       "      <td></td>\n",
       "      <td>COMPORTAMIENTOS Y CAPACIDAD DE AGENCIA DE AUTOCUIDADO DE ADULTOS CON INSUFICIENCIA CARDIACA (BEHAVIORS AND SELF-CARE AGENCY CAPACITY OF ADULTS WITH HEART FAILURE)</td>\n",
       "      <td></td>\n",
       "      <td></td>\n",
       "      <td></td>\n",
       "      <td></td>\n",
       "      <td></td>\n",
       "      <td>0.0</td>\n",
       "      <td>[{'WOS_author': 'ARREDONDO HOLGUÍN, EDITH', 'affiliation': ['Univ Antioquia, Colombia.'], 'i': 0}]</td>\n",
       "    </tr>\n",
       "    <tr>\n",
       "      <th>99</th>\n",
       "      <td></td>\n",
       "      <td></td>\n",
       "      <td></td>\n",
       "      <td>FLÓREZ M., MARÍA TERESA\\nPARRA S., LUIS NORBERTO\\n</td>\n",
       "      <td></td>\n",
       "      <td></td>\n",
       "      <td></td>\n",
       "      <td></td>\n",
       "      <td></td>\n",
       "      <td>[PARRA S., LUIS NORBERTO] . Universidad Nacional de Colombia. Medellín, Colombia.\\n[FLÓREZ M., MARÍA TERESA] Univ Antioquia, Colombia.\\n</td>\n",
       "      <td>...</td>\n",
       "      <td></td>\n",
       "      <td></td>\n",
       "      <td>RASGOS DE ALTERACION EN LOS MINERALES DE LAS CENIZAS VOLCANICAS DEL NORTE DE LA CORDILLERA CENTRAL DE COLOMBIA (CHARACTERISTICS OF ALTERATION IN MINERALS OF VOLCANIC ASHES OF THE NORTH OF THE CORD...</td>\n",
       "      <td></td>\n",
       "      <td></td>\n",
       "      <td></td>\n",
       "      <td></td>\n",
       "      <td></td>\n",
       "      <td>0.0</td>\n",
       "      <td>[{'WOS_author': 'FLÓREZ M., MARÍA TERESA', 'affiliation': ['Univ Antioquia, Colombia.'], 'i': 0}]</td>\n",
       "    </tr>\n",
       "  </tbody>\n",
       "</table>\n",
       "<p>100 rows × 181 columns</p>\n",
       "</div>"
      ],
      "text/plain": [
       "                                                                                                                                                                                                         AB  \\\n",
       "0   Current tendencies in strengthening intellectual property rights and the emergence of new scientific-technological fields (such as nanotechnologies, biotechnology, telematics and software developm...   \n",
       "1                                                                                                                                                                                                             \n",
       "2                                                                                                                                                                                                             \n",
       "3                                                                                                                                                                                                             \n",
       "4                                                                                                                                                                                                             \n",
       "5                                                                                                                                                                                                             \n",
       "6                                                                                                                                                                                                             \n",
       "7                                                                                                                                                                                                             \n",
       "8                                                                                                                                                                                                             \n",
       "9                                                                                                                                                                                                             \n",
       "10  This article deals with the issue of becoming community mother for the government program of the Colombian Family Welfare Institute. The objective is to recognize the meaning that has for the comm...   \n",
       "11                                                                                                                                                                                                            \n",
       "12                                                                                                                                                                                                            \n",
       "13                                                                                                                                                                                                            \n",
       "14                                                                                                                                                                                                            \n",
       "15                                                                                                                                                                                                            \n",
       "16                                                                                                                                                                                                            \n",
       "17                                                                                                                                                                                                            \n",
       "18                                                                                                                                                                                                            \n",
       "19                                                                                                                                                                                                            \n",
       "20                                                                                                                                                                                                            \n",
       "21                                                                                                                                                                                                            \n",
       "22                                                                                                                                                                                                            \n",
       "23                                                                                                                                                                                                            \n",
       "24                                                                                                                                                                                                            \n",
       "25                                                                                                                                                                                                            \n",
       "26                                                                                                                                                                                                            \n",
       "27                                                                                                                                                                                                            \n",
       "28                                                                                                                                                                                                            \n",
       "29                                                                                                                                                                                                            \n",
       "..                                                                                                                                                                                                      ...   \n",
       "70                                                                                                                                                                                                            \n",
       "71                                                                                                                                                                                                            \n",
       "72                                                                                                                                                                                                            \n",
       "73                                                                                                                                                                                                            \n",
       "74                                                                                                                                                                                                            \n",
       "75                                                                                                                                                                                                            \n",
       "76                                                                                                                                                                                                            \n",
       "77                                                                                                                                                                                                            \n",
       "78                                                                                                                                                                                                            \n",
       "79                                                                                                                                                                                                            \n",
       "80                                                                                                                                                                                                            \n",
       "81                                                                                                                                                                                                            \n",
       "82                                                                                                                                                                                                            \n",
       "83                                                                                                                                                                                                            \n",
       "84                                                                                                                                                                                                            \n",
       "85                                                                                                                                                                                                            \n",
       "86                                                                                                                                                                                                            \n",
       "87                                                                                                                                                                                                            \n",
       "88                                                                                                                                                                                                            \n",
       "89                                                                                                                                                                                                            \n",
       "90                                                                                                                                                                                                            \n",
       "91                                                                                                                                                                                                            \n",
       "92                                                                                                                                                                                                            \n",
       "93                                                                                                                                                                                                            \n",
       "94                                                                                                                                                                                                            \n",
       "95                                                                                                                                                                                                            \n",
       "96                                                                                                                                                                                                            \n",
       "97                                                                                                                                                                                                            \n",
       "98                                                                                                                                                                                                            \n",
       "99                                                                                                                                                                                                            \n",
       "\n",
       "                                                                                                           AF  \\\n",
       "0   Lopez Gomez, Maria del Socorro\\nSchmal Simon, Rodolfo\\nCabrales Gomez, Fernando\\nGarcia Tobon, Carolina\\n   \n",
       "1                                                                                                               \n",
       "2                                                                                                               \n",
       "3                                                                                                               \n",
       "4                                                                                                               \n",
       "5                                                                                                               \n",
       "6                                                                                                               \n",
       "7                                                                                                               \n",
       "8                                                                                                               \n",
       "9                                                                                                               \n",
       "10                                                                      Bedoya Hernandez, Mauricio Hernando\\n   \n",
       "11                                                                                                              \n",
       "12                                                                                                              \n",
       "13                                                                                                              \n",
       "14                                                                                                              \n",
       "15                                                                                                              \n",
       "16                                                                                                              \n",
       "17                                                                                                              \n",
       "18                                                                                                              \n",
       "19                                                                                                              \n",
       "20                                                                                                              \n",
       "21                                                                                                              \n",
       "22                                                                                                              \n",
       "23                                                                                                              \n",
       "24                                                                                                              \n",
       "25                                                                                                              \n",
       "26                                                                                                              \n",
       "27                                                                                                              \n",
       "28                                                                                                              \n",
       "29                                                                                                              \n",
       "..                                                                                                        ...   \n",
       "70                                                                                                              \n",
       "71                                                                                                              \n",
       "72                                                                                                              \n",
       "73                                                                                                              \n",
       "74                                                                                                              \n",
       "75                                                                                                              \n",
       "76                                                                                                              \n",
       "77                                                                                                              \n",
       "78                                                                                                              \n",
       "79                                                                                                              \n",
       "80                                                                                                              \n",
       "81                                                                                                              \n",
       "82                                                                                                              \n",
       "83                                                                                                              \n",
       "84                                                                                                              \n",
       "85                                                                                                              \n",
       "86                                                                                                              \n",
       "87                                                                                                              \n",
       "88                                                                                                              \n",
       "89                                                                                                              \n",
       "90                                                                                                              \n",
       "91                                                                                                              \n",
       "92                                                                                                              \n",
       "93                                                                                                              \n",
       "94                                                                                                              \n",
       "95                                                                                                              \n",
       "96                                                                                                              \n",
       "97                                                                                                              \n",
       "98                                                                                                              \n",
       "99                                                                                                              \n",
       "\n",
       "   AR  \\\n",
       "0       \n",
       "1       \n",
       "2       \n",
       "3       \n",
       "4       \n",
       "5       \n",
       "6       \n",
       "7       \n",
       "8       \n",
       "9       \n",
       "10      \n",
       "11      \n",
       "12      \n",
       "13      \n",
       "14      \n",
       "15      \n",
       "16      \n",
       "17      \n",
       "18      \n",
       "19      \n",
       "20      \n",
       "21      \n",
       "22      \n",
       "23      \n",
       "24      \n",
       "25      \n",
       "26      \n",
       "27      \n",
       "28      \n",
       "29      \n",
       ".. ..   \n",
       "70      \n",
       "71      \n",
       "72      \n",
       "73      \n",
       "74      \n",
       "75      \n",
       "76      \n",
       "77      \n",
       "78      \n",
       "79      \n",
       "80      \n",
       "81      \n",
       "82      \n",
       "83      \n",
       "84      \n",
       "85      \n",
       "86      \n",
       "87      \n",
       "88      \n",
       "89      \n",
       "90      \n",
       "91      \n",
       "92      \n",
       "93      \n",
       "94      \n",
       "95      \n",
       "96      \n",
       "97      \n",
       "98      \n",
       "99      \n",
       "\n",
       "                                                                                                                                                                                          AU  \\\n",
       "0                                                                                                                                              Gomez, MDL\\nSimon, RS\\nGomez, FC\\nTobon, CG\\n   \n",
       "1                                                                                                                                                         Echeverry-López, María Esperanza\\n   \n",
       "2                                                                                             Agudelo-Botero, Marcela\\nDávila-Cervantes, Claudio Alberto\\nAtehortúa-Becerra, Sara Catalina\\n   \n",
       "3                                                                                                                                             Upegui, S. A.\\nPeñuela, G. A.\\nBotero, L. R.\\n   \n",
       "4                                                                                                                                     Montoya Agudelo, César Alveiro\\nBárbaro, Juan Carlos\\n   \n",
       "5                                                                                       Montoya Ríos, Mónica\\nGiraldo Lopera, Marta Lucía\\nGallo Vélez, óscar\\nMoncada Patiño, José Daniel\\n   \n",
       "6                                                                                                                                            Ghiso, Alfredo\\nTabares-Ochoa, Catalina María\\n   \n",
       "7                                                                                                                                                            González Agudelo, Elvia María\\n   \n",
       "8                                                                                                                                                                    MARÍN, CARLOS ALBERTO\\n   \n",
       "9    Corrales-Álvarez, Juan D.\\nCerón-Muñoz, Mario F.\\nCañas-Álvarez, Jhon J.\\nAcevedo-Valladarez, Cristina\\nSepúlveda-Restrepo, Jeannie C.\\nCalvo-Cardona, Samir J.\\nMoreno-Ochoa, Manuel\\n   \n",
       "10                                                                                                                                                                          Hernandez, MHB\\n   \n",
       "11                                                                                                                                       Muñoz-Escobar, Eliana M.\\nPalacio-Baena, Jaime A.\\n   \n",
       "12                                                                                                                     Arias-Gallo, Mauricio\\nJiménez-Segura, Luz F.\\nDorado, María del P.\\n   \n",
       "13                                                                                                                              Grisales Franco, Lina María\\nGonzález Agudelo, Elvia María\\n   \n",
       "14                                                                                                                                                                   Pérez, Andrea Lissett\\n   \n",
       "15                                                                                                                                                          Beltrán-Salazar, Óscar Alberto\\n   \n",
       "16                                                                                                                    Agudelo-Zamora, Henry D\\nOspina-Pabón, Juan G\\nJiménez-Segura, Luz F\\n   \n",
       "17                                                                                                                                                               Lenis Castaño, John Fredy\\n   \n",
       "18                                                                                                                                                                     Pérez Marín, Mónica\\n   \n",
       "19                                                                                                                                                          Molina González, Liliana María\\n   \n",
       "20                                                                                                                                                                 Cortés Rodas, Francisco\\n   \n",
       "21                                                                                                                                                         Ospina Echeverri, Marta Cecilia\\n   \n",
       "22                                                                                                                                                            Gómez García, Juan Guillermo\\n   \n",
       "23                                                                                                                                     Gómez, Sandra M\\nOlaya, Patricia\\nDíaz, Francisco J\\n   \n",
       "24                                                                                                                                                  Díaz, James Samir\\nCataño, Juan Carlos\\n   \n",
       "25                                                                                                                                                    Cortina, Ana del Mar\\nTobón, Alberto\\n   \n",
       "26                                                                  Velásquez Uribe, Gloria\\nRueda, Zulma Vanessa\\nVélez, Lázaro Agustín\\nAguirre, Daniel Camilo\\nGómez-Arias, Rubén Darío\\n   \n",
       "27                                                                                                                                                      Bolaños, Eduardo\\nTobón, Alexander\\n   \n",
       "28                                                                                                                                         Castaño, Elkin\\nGallón, Santiago\\nGómez, Karoll\\n   \n",
       "29                                                                                                                                                      Restrepo, Camilo\\nAlviar, Mauricio\\n   \n",
       "..                                                                                                                                                                                       ...   \n",
       "70          Díaz, Paula A\\nPeñaranda, Fernando\\nCristancho, Sergio\\nCaicedo, Nydia\\nGarcés, Marcela\\nAlzate, Teresita\\nBernal, Tomás\\nGómez, Margarita M\\nValencia, Águeda L\\nGómez, Sol N\\n   \n",
       "71                                                                                                                                                                        Gómez A, Rubén D\\n   \n",
       "72                                                                                         SALCEDO M, Jairo G\\nMONTES M, Everaldo J\\nZapata M, JOSÉ E\\nMÁRQUEZ H, Didier A\\nDIAZ A, Miguel\\n   \n",
       "73                                                          LOBO E, Tatiana\\nPEREAÑEZ, Jaime A\\nZapata A, Karol\\nGUTIÉRREZ, Pablo A\\nLONDOÑO, Mónica\\nNÚÑEZ, Vitelbina\\nROJANO, Benjamín A\\n   \n",
       "74                                                                                    Cornejo Ochoa, William\\nSánchez Mosquera, Yaneth\\nGómez Navas, María del Pilar\\nOssio, Óscar Horacio\\n   \n",
       "75                                                                                                   Mesa-Vanegas A.M., Gaviria C.A., Cardona F., Sáez-Vega J.A., Trujillo S.B., Rojano B.A.   \n",
       "76                                                                                                           G, HAROLD DURANGO\\nRODAS, JUAN DAVID\\nTRAVI, BRUNO L\\nFLÓREZ, PIEDAD AGUEDELO\\n   \n",
       "77                                                                     QUINTERO V., JUAN C.\\nDÍAZ, JAVIER\\nLONDOÑO, ANDRÉS F.\\nAGUEDELO FLÓREZ, PIEDAD\\nARBOLEDA, MARGARITA\\nRODAS, JUAN D\\n   \n",
       "78        Saavedra Rueda, Jaqueline\\nAmézquita García, Juan Carlos\\nDíaz Burgos, Laura María\\nLaverde Cataño, Dionisio\\nBolívar Osorio, Francisco Javier\\nPérez Trujillo, Francisco Javier\\n   \n",
       "79                                                                                                                                                          Beltrán Salazar, Oscar Alberto\\n   \n",
       "80                                                                                                 Carmona Fonseca, Jaime\\nUscátegui Peñuela, Rosa Magdalena\\nCorrea Botero, Adriana María\\n   \n",
       "81                                                                                                    Cadavid, Diego Raúl\\nRamírez, David Alejandro\\nLopera, Freddy\\nCorrea, Andrés Felipe\\n   \n",
       "82                                                                                                     Wills, Beatriz Amparo\\nVélez, Santiago\\nArboleda, Andrés Felipe\\nGarcés, Juan Pablo\\n   \n",
       "83                                                                                                                    Riveros, Carlos Alberto\\nGarcía, Edwin Fabián\\nBuiles, Manuel Alonso\\n   \n",
       "84                                                                                                                                           Gómez, Maryory Astrid\\nRestrepo, José William\\n   \n",
       "85                                                                                                                                       González Palacio, Liliana\\nUrrego Giraldo, Germán\\n   \n",
       "86                                                                                                                Posada Arias, Silvia\\nLoaiza, Erica T\\nRestrepo, Juan E\\nOlivera, Martha\\n   \n",
       "87                                                                                                                       Burgos-Paz, William\\nSolarte-Portilla, Carlos\\nCerón-Muñoz, Mario\\n   \n",
       "88                                                                                                                      Echeverri Zuluaga, Julián\\nRestrepo, Luis Fernando\\nParra, Jaime E\\n   \n",
       "89                                                                                                                                           Bedoya, Mauricio Hernando\\nGiraldo, Mary Lucy\\n   \n",
       "90                                                                                                                                                                    Díaz, Silvia Paulina\\n   \n",
       "91                                                                                                                                                                       Ossa, Arley Fabio\\n   \n",
       "92                                                                                                                                                     BEDOYA HERNÁNDEZ, MAURICIO HERNANDO\\n   \n",
       "93  Silva S, Federico Arturo\\nGarcía Goméz, Ronald G\\nDíaz S, Gustavo Adolfo\\nZarruk S, Juan Guillermo\\nRueda-Clausen, Cristian Federico\\nRestrepo, Jorge Alberto\\nCórdoba Porras, Alfonso\\n   \n",
       "94                                                                                                                  Carvajal Castrillón, Julián\\nAguirre, Daniel Camilo\\nLopera, Francisco\\n   \n",
       "95                                    Ramírez-Cadavid, David A.\\nGalindo-Muñoz, Andrés R.\\nZapata-Ocampo, Paola A.\\nRojas-Vahos, Diego F.\\nFernández-Ossa, Carlos\\nAtehortúa-Garcés, Lucía\\n   \n",
       "96                                                                                                                     Jiménez-Segura, Luz F.\\nCarvajal-Quintero, Juan D.\\nAguirre, Néstor\\n   \n",
       "97                                                                                                                       Franco-Molano, Ana E.\\nCorrales, Adriana\\nVasco-Palacios, Aída M.\\n   \n",
       "98                                                                                                                                                                ARREDONDO HOLGUÍN, EDITH\\n   \n",
       "99                                                                                                                                        FLÓREZ M., MARÍA TERESA\\nPARRA S., LUIS NORBERTO\\n   \n",
       "\n",
       "   BA BE BF BN     BP  \\\n",
       "0               135\\n   \n",
       "1                       \n",
       "2                       \n",
       "3                       \n",
       "4                       \n",
       "5                       \n",
       "6                       \n",
       "7                       \n",
       "8                       \n",
       "9                       \n",
       "10              113\\n   \n",
       "11                      \n",
       "12                      \n",
       "13                      \n",
       "14                      \n",
       "15                      \n",
       "16                      \n",
       "17                      \n",
       "18                      \n",
       "19                      \n",
       "20                      \n",
       "21                      \n",
       "22                      \n",
       "23                      \n",
       "24                      \n",
       "25                      \n",
       "26                      \n",
       "27                      \n",
       "28                      \n",
       "29                      \n",
       ".. .. .. .. ..    ...   \n",
       "70                      \n",
       "71                      \n",
       "72                      \n",
       "73                      \n",
       "74                      \n",
       "75                      \n",
       "76                      \n",
       "77                      \n",
       "78                      \n",
       "79                      \n",
       "80                      \n",
       "81                      \n",
       "82                      \n",
       "83                      \n",
       "84                      \n",
       "85                      \n",
       "86                      \n",
       "87                      \n",
       "88                      \n",
       "89                      \n",
       "90                      \n",
       "91                      \n",
       "92                      \n",
       "93                      \n",
       "94                      \n",
       "95                      \n",
       "96                      \n",
       "97                      \n",
       "98                      \n",
       "99                      \n",
       "\n",
       "                                                                                                                                                                                                         C1  \\\n",
       "0   [Lopez Gomez, Maria del Socorro] Univ Antioquia, Fac Ciencias Econ, Bogota, Colombia.\\n[Schmal Simon, Rodolfo] Univ Talca, Fac Ciencias Empresariales, Talc, Chile.\\n[Cabrales Gomez, Fernando] Univ...   \n",
       "1                                                                                                                                            [Echeverry-López, María Esperanza] Univ Antioquia, Colombia.\\n   \n",
       "2                                                                                                                 El Colegio de México, Mexico.\\nUniv Antioquia, Colombia.\\nEl Colegio de México, Mexico.\\n   \n",
       "3                                                      [Peñuela, G. A.] Univ Antioquia, Colombia.\\n[Botero, L. R.] Universidad de Medellín, Colombia.\\n[Upegui, S. A.] Universidad de Medellín, Colombia.\\n   \n",
       "4                                                                         [Bárbaro, Juan Carlos] Universidad Nacional de Misiones, Argentina.\\n[Montoya Agudelo, César Alveiro] Univ Antioquia, Colombia.\\n   \n",
       "5   [Giraldo Lopera, Marta Lucía] Univ Antioquia, Colombia.\\n[Gallo Vélez, óscar] Universidad Nacional de Colombia, Colombia.\\n[Montoya Ríos, Mónica] Univ Antioquia, Colombia.\\n[Moncada Patiño, José D...   \n",
       "6                                                                               [Tabares-Ochoa, Catalina María] Univ Antioquia, Colombia.\\n[Ghiso, Alfredo] Fundación Universitaria Luis Amigó, Colombia.\\n   \n",
       "7                                                                                                                                               [González Agudelo, Elvia María] Univ Antioquia, Colombia.\\n   \n",
       "8                                                                                                                                                       [MARÍN, CARLOS ALBERTO] Univ Antioquia, Colombia.\\n   \n",
       "9   [Cerón-Muñoz, Mario F.] Univ Antioquia, Colombia.\\n[Cañas-Álvarez, Jhon J.; Acevedo-Valladarez, Cristina; Sepúlveda-Restrepo, Jeannie C.; Calvo-Cardona, Samir J.; Moreno-Ochoa, Manuel] Univ Antioq...   \n",
       "10  [Bedoya Hernandez, Mauricio Hernando] Univ Antioquia, Educ, Medellin, Colombia.\\n[Bedoya Hernandez, Mauricio Hernando] Univ Antioquia, Psicol, Medellin, Colombia.\\n[Bedoya Hernandez, Mauricio Hern...   \n",
       "11                                                                                              [Palacio-Baena, Jaime A.] Univ Antioquia, Colombia.\\n[Muñoz-Escobar, Eliana M.] Univ Antioquia, Colombia.\\n   \n",
       "12                                 [Jiménez-Segura, Luz F.] Univ Antioquia, Colombia.\\n[Dorado, María del P.] Estación Piscícola de Repelón, Colombia.\\n[Arias-Gallo, Mauricio] Univ Antioquia, Colombia.\\n   \n",
       "13                                                                                     [González Agudelo, Elvia María] Univ Antioquia, Colombia.\\n[Grisales Franco, Lina María] Univ Antioquia, Colombia.\\n   \n",
       "14                                                                                                                                                      [Pérez, Andrea Lissett] Univ Antioquia, Colombia.\\n   \n",
       "15                                                                                                                                             [Beltrán-Salazar, Óscar Alberto] Univ Antioquia, Colombia.\\n   \n",
       "16                                                          [Ospina-Pabón, Juan G] Universidad Católica de Oriente, Colombia.\\n[Agudelo-Zamora, Henry D; Jiménez-Segura, Luz F] Univ Antioquia, Colombia.\\n   \n",
       "17                                                                                                                                                  [Lenis Castaño, John Fredy] Univ Antioquia, Colombia.\\n   \n",
       "18                                                                                                                                                        [Pérez Marín, Mónica] Univ Antioquia, Colombia.\\n   \n",
       "19                                                                                                                                             [Molina González, Liliana María] Univ Antioquia, Colombia.\\n   \n",
       "20                                                                                                                                                    [Cortés Rodas, Francisco] Univ Antioquia, Colombia.\\n   \n",
       "21                                                                                                                                            [Ospina Echeverri, Marta Cecilia] Univ Antioquia, Colombia.\\n   \n",
       "22                                                                                                                                               [Gómez García, Juan Guillermo] Univ Antioquia, Colombia.\\n   \n",
       "23                                                                              [Olaya, Patricia] Centro de Análisis Molecular, Colombia.\\n[Gómez, Sandra M; Díaz, Francisco J] Univ Antioquia, Colombia.\\n   \n",
       "24                                                                                                         [Cataño, Juan Carlos] Univ Antioquia, Colombia.\\n[Díaz, James Samir] Univ Antioquia, Colombia.\\n   \n",
       "25                                                                                                           [Tobón, Alberto] Univ Antioquia, Colombia.\\n[Cortina, Ana del Mar] Univ Antioquia, Colombia.\\n   \n",
       "26  [Vélez, Lázaro Agustín] Univ Antioquia, Colombia.\\n[Aguirre, Daniel Camilo; Gómez-Arias, Rubén Darío] Univ Antioquia, Colombia.\\n[Velásquez Uribe, Gloria; Rueda, Zulma Vanessa] Univ Antioquia, Col...   \n",
       "27                                                                                                             [Tobón, Alexander] Univ Antioquia, Colombia.\\n[Bolaños, Eduardo] Univ Antioquia, Colombia.\\n   \n",
       "28                                                                    [Gallón, Santiago] Univ Antioquia, Colombia.\\n[Gómez, Karoll] Univ Antioquia, Colombia.\\n[Castaño, Elkin] Univ Antioquia, Colombia.\\n   \n",
       "29                                                                                                             [Alviar, Mauricio] Univ Antioquia, Colombia.\\n[Restrepo, Camilo] Univ Antioquia, Colombia.\\n   \n",
       "..                                                                                                                                                                                                      ...   \n",
       "70  [Gómez, Margarita M] Univ Antioquia, Colombia.\\n[Valencia, Águeda L] Univ Antioquia, Colombia.\\n[Gómez, Sol N] Fundación Universitaria San Martín, Colombia.\\n[Peñaranda, Fernando] Univ Antioquia, ...   \n",
       "71                                                                                                                                                           [Gómez A, Rubén D] Univ Antioquia, Colombia.\\n   \n",
       "72  [MONTES M, Everaldo J] Universidad de Córdoba, Spain.\\n[Zapata M, JOSÉ E] Univ Antioquia, Colombia.\\n[SALCEDO M, Jairo G] Universidad de Sucre, Colombia.\\n[MÁRQUEZ H, Didier A; DIAZ A, Miguel] Uni...   \n",
       "73  [PEREAÑEZ, Jaime A; Zapata A, Karol; LONDOÑO, Mónica] Univ Antioquia, Colombia.\\n[GUTIÉRREZ, Pablo A] Universidad Nacional de Colombia, Colombia.\\n[LOBO E, Tatiana] Universidad Nacional de Colombi...   \n",
       "74  [Sánchez Mosquera, Yaneth] Univ Antioquia, Colombia.\\n[Gómez Navas, María del Pilar] Universidad Industrial de Santander, Colombia.\\n[Cornejo Ochoa, William] Univ Antioquia, Colombia.\\n[Ossio, Ósc...   \n",
       "75  [Mesa-Vanegas, A. M.] Grupo de Investigación Malaria, Sede de Investigación Universitaria(SIU), Facultad de Medicina, Univ Antioquia, Medellín, Colombia\\n[Gaviria, C. A.] Grupo de Investigación en...   \n",
       "76           [RODAS, JUAN DAVID] Univ Antioquia, Colombia.\\n[TRAVI, BRUNO L] Universidad Texas, USA.\\n[G, HAROLD DURANGO] Univ Antioquia, Colombia.\\n[FLÓREZ, PIEDAD AGUEDELO] Universidad CES, Colombia.\\n   \n",
       "77  [DÍAZ, JAVIER; ARBOLEDA, MARGARITA] Univ Antioquia, Colombia.\\n[AGUEDELO FLÓREZ, PIEDAD] Universidad CES, Colombia.\\n[QUINTERO V., JUAN C.; LONDOÑO, ANDRÉS F.; RODAS, JUAN D] Univ Antioquia, Colom...   \n",
       "78  [Amézquita García, Juan Carlos] Universidad Industrial de Santander, Colombia.\\n[Díaz Burgos, Laura María] Universidad Industrial de Santander, Colombia.\\n[Saavedra Rueda, Jaqueline] Instituto Col...   \n",
       "79                                                                                                                                             [Beltrán Salazar, Oscar Alberto] Univ Antioquia, Colombia.\\n   \n",
       "80                     [Uscátegui Peñuela, Rosa Magdalena] Univ Antioquia, Colombia.\\n[Correa Botero, Adriana María] Univ Antioquia, Colombia.\\n[Carmona Fonseca, Jaime] Facultad de Medicina, Argentina.\\n   \n",
       "81   [Ramírez, David Alejandro] Univ Antioquia, Colombia.\\n[Lopera, Freddy] Univ Antioquia, Colombia.\\n[Cadavid, Diego Raúl] Univ Antioquia, Colombia.\\n[Correa, Andrés Felipe] Univ Antioquia, Colombia.\\n   \n",
       "82  [Vélez, Santiago] Univ Antioquia, Colombia.\\n[Arboleda, Andrés Felipe] Univ Antioquia, Colombia.\\n[Wills, Beatriz Amparo] Univ Antioquia, Colombia.\\n[Garcés, Juan Pablo] Escuela de Ingeniería de A...   \n",
       "83                                               [García, Edwin Fabián] Univ Antioquia, Colombia.\\n[Builes, Manuel Alonso] Univ Antioquia, Colombia.\\n[Riveros, Carlos Alberto] Univ Antioquia, Colombia.\\n   \n",
       "84                                                          [Gómez, Maryory Astrid] Univ Antioquia, Medellín, Colombia.\\n[Restrepo, José William] Escuela de Ingeniería de Antioquia, Medellín, Colombia.\\n   \n",
       "85                                                                                     [Urrego Giraldo, Germán] Univ Antioquia, Colombia.\\n[González Palacio, Liliana] Universidad de Medellín, Colombia.\\n   \n",
       "86  [Loaiza, Erica T] Univ Antioquia, Colombia.\\n[Restrepo, Juan E] Cooperativa Lechera Colanta, Colombia.\\n[Posada Arias, Silvia] Univ Antioquia, Colombia.\\n[Olivera, Martha] Univ Antioquia, Colombia.\\n   \n",
       "87                              [Solarte-Portilla, Carlos] Universidad de Nariño, Colombia.\\n[Cerón-Muñoz, Mario] Universidad de de Antioquia, Colombia.\\n[Burgos-Paz, William] Univ Antioquia, Colombia.\\n   \n",
       "88                                                           [Restrepo, Luis Fernando] Univ Antioquia, Colombia.\\n[Echeverri Zuluaga, Julián; Parra, Jaime E] Universidad Nacional de Colombia, Colombia.\\n   \n",
       "89                                                                                                                              [Bedoya, Mauricio Hernando; Giraldo, Mary Lucy] Univ Antioquia, Colombia.\\n   \n",
       "90                                                                                                                                                       [Díaz, Silvia Paulina] Univ Antioquia, Colombia.\\n   \n",
       "91                                                                                                                                                          [Ossa, Arley Fabio] Univ Antioquia, Colombia.\\n   \n",
       "92                                                                                                                                        [BEDOYA HERNÁNDEZ, MAURICIO HERNANDO] Univ Antioquia, Colombia.\\n   \n",
       "93  [García Goméz, Ronald G] Fundación Cardiovascular de Colombia, Colombia.\\n[Díaz S, Gustavo Adolfo] Fundación Cardiovascular de Colombia, Colombia.\\n[Silva S, Federico Arturo] Fundación Cardiovascu...   \n",
       "94                                       [Aguirre, Daniel Camilo] Grupo de Neurociencias de Antioquia, Colombia.\\n[Lopera, Francisco] Univ Antioquia, Colombia.\\n[Carvajal Castrillón, Julián] Psicólogo.\\n   \n",
       "95  [Galindo-Muñoz, Andrés R.] Univ Antioquia, Colombia.\\n[Zapata-Ocampo, Paola A.] Univ Antioquia, Colombia.\\n[Ramírez-Cadavid, David A.] Univ Antioquia, Colombia.\\n[Atehortúa-Garcés, Lucía] Univ Ant...   \n",
       "96                                                [Carvajal-Quintero, Juan D.] Univ Antioquia, Colombia.\\n[Aguirre, Néstor] Univ Antioquia, Colombia.\\n[Jiménez-Segura, Luz F.] Univ Antioquia, Colombia.\\n   \n",
       "97                                                  [Corrales, Adriana] Univ Antioquia, Colombia.\\n[Vasco-Palacios, Aída M.] Univ Antioquia, Colombia.\\n[Franco-Molano, Ana E.] Univ Antioquia, Colombia.\\n   \n",
       "98                                                                                                                                                   [ARREDONDO HOLGUÍN, EDITH] Univ Antioquia, Colombia.\\n   \n",
       "99                                                                 [PARRA S., LUIS NORBERTO] . Universidad Nacional de Colombia. Medellín, Colombia.\\n[FLÓREZ M., MARÍA TERESA] Univ Antioquia, Colombia.\\n   \n",
       "\n",
       "    ... UDEA_tipo mat UDEA_tipo mov  \\\n",
       "0   ...      ARTREVA1            NO   \n",
       "1   ...                               \n",
       "2   ...                               \n",
       "3   ...                               \n",
       "4   ...                               \n",
       "5   ...                               \n",
       "6   ...                               \n",
       "7   ...                               \n",
       "8   ...                               \n",
       "9   ...                               \n",
       "10  ...                               \n",
       "11  ...                               \n",
       "12  ...                               \n",
       "13  ...                               \n",
       "14  ...                               \n",
       "15  ...                               \n",
       "16  ...                               \n",
       "17  ...                               \n",
       "18  ...                               \n",
       "19  ...                               \n",
       "20  ...                               \n",
       "21  ...                               \n",
       "22  ...                               \n",
       "23  ...                               \n",
       "24  ...                               \n",
       "25  ...                               \n",
       "26  ...                               \n",
       "27  ...                               \n",
       "28  ...                               \n",
       "29  ...                               \n",
       "..  ...           ...           ...   \n",
       "70  ...                               \n",
       "71  ...                               \n",
       "72  ...                               \n",
       "73  ...                               \n",
       "74  ...                               \n",
       "75  ...                               \n",
       "76  ...                               \n",
       "77  ...                               \n",
       "78  ...                               \n",
       "79  ...                               \n",
       "80  ...                               \n",
       "81  ...                               \n",
       "82  ...                               \n",
       "83  ...                               \n",
       "84  ...                               \n",
       "85  ...                               \n",
       "86  ...                               \n",
       "87  ...                               \n",
       "88  ...                               \n",
       "89  ...                               \n",
       "90  ...                               \n",
       "91  ...                               \n",
       "92  ...                               \n",
       "93  ...                               \n",
       "94  ...                               \n",
       "95  ...                               \n",
       "96  ...                               \n",
       "97  ...                               \n",
       "98  ...                               \n",
       "99  ...                               \n",
       "\n",
       "                                                                                                                                                                                                UDEA_título  \\\n",
       "0                                                                   \"LOS PROCESOS EN UN MODELO DE GESTION DE PATENTES UNIVERSITARIAS\" (THE PROCESSES INVOLVED IN A MANAGEMENT MODEL FOR UNIVERSITY PATENTS)   \n",
       "1   REFORMA A LA SALUD Y RECONFIGURACION DE LA TRAYECTORIA DE ACCESO A LOS SERVICIOS DE SALUD DESDE LA EXPERIENCIA DE LOS USUARIOS EN MEDELLIN, COLOMBIA (HEALTH REFORM AND RECONFIGURATION OF THE TRAJE...   \n",
       "2   DIFERENCIAS SOCIOECONOMICAS EN LOS ANOS DE VIDA PERDIDOS POR CANCER DE MAMA Y CANCER CERVICO-UTERINO EN COLOMBIA, 1997 Y 2007 (SOCIOECONOMIC DIFFERENCES IN THE YEARS OF LIFE LOST DUE TO BREAST CAN...   \n",
       "3   EFECTO DEL ENRIQUECIMIENTO CON NUTRIENTES EN LA DEGRADACION DE CLORPIRIFOS, MALATION Y MENTIL PARATION (INORGANIC NUTRIENTS EFFECT ADDITION OVER THE CHROLPYRIFOS, MALATHION AND METHYL PARATHION DE...   \n",
       "4                                                                                 EL BALANCED SCORECARD COMO SISTEMA DE CONTROL Y SU APLICACION COMO HERRAMIENTA DE EVALUACION EN EL AMBIENTE BIBLIOTECARIO   \n",
       "5                                                                                                               PAPEL DEL BIBLIOTECARIO PUBLICO EN LA TRADICION EDUCATIVA Y CULTURAL DE MEDELLIN, 1870-1950   \n",
       "6                                                                 REFLEXIVIDAD DIALOGICA EN EL ESTUDIO DE JOVENES Y PRACTICAS POLITICAS (DIALOGIC REFLEXIVITY IN THE STUDY OFYOUTH AND POLITICAL PRACTICES)   \n",
       "7                                            EL RETORNO A LA TRADUCCION O NUEVAMENTE SOBRE LA HISTORIA DEL CONCEPTO DE HERMENEUTICA (BACK TO TRASLATION OR AGAIN ABOUT HISTORY OF THE HERMENEUTICS CONCEPT)   \n",
       "8   AN ALGEBRAIC CHARACTERIZATION OF AFFINE MANIFOLDS WITH G-STRUCTURE SATISFYING A HOMOGENEITY CONDITION (UNA CARACTERIZACION ALGEBRAICA DE LAS VARIEDADES AFINES CON G-ESTRUCTURA QUE SATISFACEN UN CO...   \n",
       "9   ESTUDIO DEL POLIMORFISMO HINFI DEL GEN PIT-1 Y SU ASOCIACION CON CARACTERISTICAS DE TIPO, PRODUCCION DE LECHE Y DIAS ABIERTOS DE VACAS HOLSTEIN EN EL DEPARTAMENTO DE ANTIOQUIA, COLOMBIA (STUDY OF ...   \n",
       "10                                                                              MADRES COMUNITARIAS ANTIOQUENAS Y SU VOCACION POR EL CUIDADO. (COMMUNITY MOTHERS OF ANTIOQUIA AND THEIR VOCATION FOR CARE).   \n",
       "11  EFECTOS DEL CLORURO DE MERCURIO (HgCl2) SOBRE LA SOBREVIVENCIA Y CRECIMIENTO DE RENACUAJOS DE DENDROSOPHUS BORGERTI (EFFECTS OF MERCURY CHLORIDE (HGCL2) ON THE SURVIVAL AND GROWTH OF TADPOLES OF D...   \n",
       "12  DESARROLLO LARVAL DE PROCHILODUS MADALENAE (STEINDACHNER, 1879) (PICES: PROCHILODONTIDAE), RIO MAGDALENA, COLOMBIA (LARVAL DEVELOPMEN OF PROCHILODUS MAGDALENAE (STEINDACHNER, 1979) (PISCES: PROCHI...   \n",
       "13                                                                             DE UN MODO DE RELACIONAR DOS ELEMENTOS CONTRARIOS A LA MEDIACION O ACERCA DE LA APROXIMACION HISTORICA AL CONCEPTO MEDIACION   \n",
       "14  TRADICIONES DE RESISTENCIA Y LUCHA: UN ANALISIS SOBRE EL SURGIMIENTO Y LA PERMANENCIA DE LAS GUERRILLAS EN COLOMBIA (TRADITIONS OF RESISTANCE ANS STRUGGLE: AN ANALYSIS ON THE RISE AND THE CONTINUA...   \n",
       "15                                                                                                             HAY QUE PONER DE SU PARTE PARA AFRONTAR UNA ENFERMEDAD GRAVE (COPING WITH A SERIOUS ILLNESS)   \n",
       "16                                                            PECES DEL RIO SAN JUAN DE URABA, COSTA CARIBE, COLOMBIA, SUR AMERICA (SAN JUAN DE URABA RIVER FISH, CARIBBEAN COAST, COLOMBIA, SOUTH AMERICA)   \n",
       "17                                                                                                                      PACTO SOCIAL Y LIBERTAD EN THOMAS HOBBES (SOCIAL PACT AND LIBERTY IN THOMAS HOBBES)   \n",
       "18                                                                                                                                                  LUDWIK FLEECK: PRECURSOR DEL PENSAMIENTO DE THOMAS KUHN   \n",
       "19                                                            DIETETICA Y MORAL. MEDICINA Y FILOSOFIA EN LA ANTIGUEDAD HELENISTICA (DIETETICS AND MORALE, MEDICINE AND PHILOSOPHY IN HELLENISTIC ANTIQUITY)   \n",
       "20                                                                                                  EL CONTRATO SOCIAL EN HOBBES: ¿ABSOLUTISTA O LIBERAL? (HOBBES' SOCIAL CONTRACT: ABSOLUTIST OR LIBERAL?)   \n",
       "21                                                                                               LA VISION HEROICA SOBRE LA INDEPENDENCIA DE ANTIOQUIA (THE HEROIC VISION OF THE INDEPENDENCE OF ANTIOQUIA)   \n",
       "22  LA SIGNIFICACION CONTINENTAL DE MANUEL GONZALEZ PRADA: SOBRE LA GENESIS DEL ANARQUISMO EN HISPANOAMERICA (THE CONTINENTAL MEANING OF MANUEL GONZALEZ PRADA: ON THE GENESIS OF ANARCHISM IN HISPANIC ...   \n",
       "23      RESISTENCIA A LOS MEDICAMENTOS ANTIRRETROVIRALES EN PACIENTESS QUE RECIBEN TRATAMIENTO PARA VIH-SIDA EN COLOMBIA (RESISTANCE TO ANTIRETROVIRALS IN PATIENTS RECEIVING HIV-AIDS THERAPY IN COLOMBIA)   \n",
       "24                                    FIEBRE MANCHADA DE LAS MONTANAS ROCOSAS: NI TAN MANCHADA NI TAN MONTANOSA COMO PENSABAMOS (ROCKY MOUNTAIN SPOTTED FEVER: NOT AS SPOTTED OR AS MOUNTAINOUS AS THOUGHT)   \n",
       "25                                                                                                   ICTERICIA Y HEPATOPATIA EN EL PACIENTE CON MALARIA (JAUNDICE AND HEPATOPATHY IN PATIENTS WITH MALARIA)   \n",
       "26                                                HISTOPLASMOSIS EN PACIENTES CON SIDA. UN ESTUDIO DE COHORTE EN MEDELLIN,COLOMBIA. (HISTOPLASMOSIS IN AIDS PATIENTS. A COHORT STUDY IN MEDELLIN, COLOMBIA)   \n",
       "27                                                 ELEMENTOS PARA UNA TEORIA CLASICA DE LOS PRECIOS DE EQUILIBRIO Y DESEQUILIBRIO (ELEMENTS FOR A CLASICAL THEORY OF EQUILIBRIUM AND DISEQUILIBRIUM PRICES)   \n",
       "28   SESGOS EN ESTIMACION, TAMANO Y POTENCIA DE UNA PRUEBA SOBRE EL PARAMETRO DE MEMORIA LARGA EN MODELOS ARFIMA(ESTIMATION BIASES, SIZE AND POWER OF A TEST ON THE LONG MEMORY PARAMETER IN AFIRMA MODELS)   \n",
       "29                                                                   TASA DE DESCUENTO Y ROTACION FORESTAL: EL CASO DE EUCALYPTUS SALINA (DISCOUNT RATE AND TIMBER ROTATION: THECASE OF EUCALYPTUS SALIGNA)   \n",
       "..                                                                                                                                                                                                      ...   \n",
       "70  EDUCACION PARA LA SALUD: PERSPECTIVAS Y EXPERIENCIAS DE EDUCACION SUPERIOR EN CIENCIAS DE LA SALUD, MEDELLIN,COLOMBIA. (EDUCATION FOR HEALTH: PERSPECTIVES AND EXPERIENCES IN HIGHER EDUCATION IN HE...   \n",
       "71                                                                                                                  ATENCION PRIMARIA DE SALUD Y POLITICAS PUBLICAS (PRIMARY HEALTH CARE AND PUBLIC POLICY)   \n",
       "72  OBTENCION DE JARABES DE FRUCTOSA A PARTIR DE HIDROLIZADOS ENZIMATICOS DE ALMIDON DE NAME (DIOSCOREA ALATA Y DISCOREA ROTUNDATA) (FRUCTOSE SYRUP OBTEBTION FROM ENZYMATIC HYDROLYSED OF YAM STARCH (D...   \n",
       "73                                              ACTIVIDAD INHIBITORIA DE MURRAYA PANICULATA CONTRA FOSFOLIPASAS A2 MIOTOXICAS (INHIBITORY ACTIVITY OF MURRAYA PANICULATA AGAINST MYOTOXIC PHOSPHOLIPASE A2)   \n",
       "74                     DESEMPENO DIAGNOSTICO DEL CUESTIONARIO LISTA DE SINTOMAS DSM IV PARA EL DIAGNOSTICO DEL TRASTORNO DE HIPERACTIVIDAD CON DEFICIT DE ATENCION (TDAH) EN NINOS Y ADOLESCENTES ESCOLARES   \n",
       "75                ACTIVIDAD ANTIOXIDANTE Y CONTENIDO DE FENOLES TOTALES DE ALGUNAS ESPECIES DEL GENERO CALOPHYLLUM (ANTIOXIDANT ACTIVITY AND TOTOAL PHENOLS CONTENT FROM SOME SPECIES OF CALOPHYLLUM GENUS)   \n",
       "76                                                                                    CARACTERIZACION BIOLOGICA DE DOS AISLADOS DE LEPTOSPIRA SPP PROCEDENTES DE PACIENTES COLOMBIANOS CON SINDROME DE WEIL   \n",
       "77                                                                 DESCRIPCION EPIDEMIOLOGICA DE LA INFECCION CON AGENTES DEL GENERO RICKETTSIA EN ROEDORES, ECTOPARASITOS Y HUMANOS EN EL URABA ANTIOQUENO   \n",
       "78                           EVALUACION DEL DANO POR CARBURACION DE UN TUBO RETIRADO DE SERVICIO DE UN HORNO DE PIROLISIS (EVALUATION OFDAMAGE BY CARBURIZATION OF A TUBE REMOVED FROM A PYROLYSIS FURNACE)   \n",
       "79                                                                                          RECHAZO AL CUIDADO DE LA SALUD POR MOTIVACIONES DEL PACIENTE (HEALTH CARE REJECTION DUE TO PATIENTSMOTIVATIONS)   \n",
       "80                                                                    CONDICIONES DE VIDA EN ZONAS PALUDICAS DE ANTIOQUIA (COLOMBIA), 2005 (LIVING CONDITIONS ON ANTIOQUIA'S (COLOMBIA) PALUDE AREAS, 2005)   \n",
       "81                                                    MITIGACION DE CAMPO MAGNETICO DE LINEAS DE TRANSMISION UTILIZANDO BUCLES PASIVOS (MAGNETIC FIELD MITIGATIONOF TRNASMISSION LINES USING PASSIVE LOOPS)   \n",
       "82  PROPUESTA METODOLOGICA PARA LA EVALUACION DE SISTEMAS DE TRATAMIENTO DE AGUAS RESIDUALES DOMESTICAS EN EL SITIO DE ORIGEN (METHODOLOGICAL PROPOSAL FOR EVALUATION OF ON-SITE DOMESTIC WASTEWATER TRE...   \n",
       "83                                                                                                               A NUMERICAL APPROACH FOR FAULT DETECTION IN BEAM-LIKE STRUCTURES USING MODAL STRAIN ENERGY   \n",
       "84  VIDRIADO CON LASER DE ND: YAG SOBRE AZULEJOS RECUBIERTOS CON BARNICES DE COBALTO CON FRITA BORACICA Y SIN FRITA (Nd: YAG LASER ENAMELING ON GLAZED TILES COATED WITH COBALT VARNISHES WITH  AND WITH...   \n",
       "85                                                           MODELO DE CONTEXTO Y DE DOMINIO PARA LA INGENIERIA DE REQUISITOS DE SISTEMAS UBICUOS (CONTEXT FOR REQUIREMENTS ENGINEERING UBIQUITOUS SYSTEMS)   \n",
       "86  CARACTERIZACION DEL ORDENO MANUAL E IDENTIFICACION DE PUNTOS CRITICOS DE CONTROL PARA LA CALIDAD HIGIENICA DE LA LECHE EN UN FINCA DEL NORTE DE ANTIOQUIA (CHARACTERIZATION OF MANUAL MILKING AND ID...   \n",
       "87  EFECTO DEL TAMANO DE CAMADA Y NUMERO DE PARTO EN EL CRECIMIENTO DE CUYES (CAVIA PORCELLUS RODENTIA: CAVIIDAE) (EFFECT OF THE BREED SIZE AND THE DELIVERY NUMBER ON THE GUINEA PIG'S GROWTH (CAVIA PO...   \n",
       "88  EVALUACION COMPARATIVA DE LOS PARAMETROS PRODUCTIVOS Y AGRONOMICOS DEL PASTO KIKUYO PENNISETUM CLANDESTINUM BAJO DOS METODOLOGIAS DE FERTILIZACION (COMPARATIVE EVALUATION OF THE PRODUCTIVE AND AGR...   \n",
       "89                                                             CONDICIONES DE FAVORABILIDAD AL MATERNAJE Y VIOLENCIA MATERNA (MATERNAL VIOLENCE IN CHILSHOOD AND THE CONDITIONS THAT BRING ABOUT MOTHERING)   \n",
       "90                                                                                                                    PARTICIPAR COMO NINA O NINO EN EL MUNDO SOCIAL (BEING OF THE SOCIAL WORLD AS A CHILD)   \n",
       "91                                              EL CASTIGO COMO PRACTICA DE GOBIERNO EN LA REFORMA INSTRUCCIONISTA EN ANTIOQUIA (THE PUNISHMENT AS A RULINGPRACTICE IN THE INSTRUCTION REFORM IN ANTIOQUIA)   \n",
       "92                                                       LA CONSTRUCCION DE LA HISTORIA SUBJETIVA EN LA CLINICA PSICOLOGICA (THE CONSTRUCTION OF SUBJECTIVE HISTORY IN THE CLINICAL PRACTICE OF PSYCHOLOGY)   \n",
       "93  AUSENCIA DE ASOCIACION ENTRE OBESIDAD Y SOBREPESO CON ENFERMEDAD CEREBROVASCULAR ISQUEMICA AGUDA EN UNA MUESTRA DE POBLACION COLOMBIANA (NO ASSOCIATION AMONG OBESITY, OVERWEIGHT AND ACUTE CEREBROV...   \n",
       "94  PERFIL CLINICO Y COGNITIVO DE LA ATROFIA CORTICAL POSTERIOR Y SUS DIFERENCIAS CON LA ENFERMEDAD DE ALZHEIMERESPORADICA TARDIA Y FAMILIAR PRECOZ (CLINICAL AND COGNITIVE PROFILE OF POSTERIOR CORTICA...   \n",
       "95  EFECTO DE LOS CAMPOS ELECTRICOS SOBRE LA PRODUCCION DE BIOMASA MICELIAL DEL HONGO MEDICINAL GANODERMA LUCIDUM (W.CURT.: FR) P.KARST. (GANODERMATACEAE) (EFFECT OF ELECTRIC FIELDS ON BIOMASS PRODUCT...   \n",
       "96  LAS CIENAGAS COMO HABITAT PARA LOS PECES: ESTUDIO DE CASO EN LA CIENAGA DE AYAPEL (CORDOBA), COLOMBIA (RIVERINE FLOODPLAIN LAKES AS HABITAT FOR FRESHWATER FISHES: A CASE STUDY IN THE AYAPEL FLOODP...   \n",
       "97  MACROHONGOS DE COLOMBIA II. LISTADO DE ESPECIES DE LOS ORDENES AGARICALES BOLETALES, CANTHARELLALES Y RUSSULALES (AGARICOMYCETES, BASIDIOMYCOTA). MACROFUNGI OF COLOMBIA II.CHECKLIST OF THE SPECIES...   \n",
       "98                                       COMPORTAMIENTOS Y CAPACIDAD DE AGENCIA DE AUTOCUIDADO DE ADULTOS CON INSUFICIENCIA CARDIACA (BEHAVIORS AND SELF-CARE AGENCY CAPACITY OF ADULTS WITH HEART FAILURE)   \n",
       "99  RASGOS DE ALTERACION EN LOS MINERALES DE LAS CENIZAS VOLCANICAS DEL NORTE DE LA CORDILLERA CENTRAL DE COLOMBIA (CHARACTERISTICS OF ALTERATION IN MINERALS OF VOLCANIC ASHES OF THE NORTH OF THE CORD...   \n",
       "\n",
       "                                                                                                                          UDEA_título_list  \\\n",
       "0   [LOS PROCESOS EN UN MODELO DE GESTION DE PATENTES UNIVERSITARIAS, THE PROCESSES INVOLVED IN A MANAGEMENT MODEL FOR UNIVERSITY PATENTS]   \n",
       "1                                                                                                                                            \n",
       "2                                                                                                                                            \n",
       "3                                                                                                                                            \n",
       "4                                                                                                                                            \n",
       "5                                                                                                                                            \n",
       "6                                                                                                                                            \n",
       "7                                                                                                                                            \n",
       "8                                                                                                                                            \n",
       "9                                                                                                                                            \n",
       "10                                                                                                                                           \n",
       "11                                                                                                                                           \n",
       "12                                                                                                                                           \n",
       "13                                                                                                                                           \n",
       "14                                                                                                                                           \n",
       "15                                                                                                                                           \n",
       "16                                                                                                                                           \n",
       "17                                                                                                                                           \n",
       "18                                                                                                                                           \n",
       "19                                                                                                                                           \n",
       "20                                                                                                                                           \n",
       "21                                                                                                                                           \n",
       "22                                                                                                                                           \n",
       "23                                                                                                                                           \n",
       "24                                                                                                                                           \n",
       "25                                                                                                                                           \n",
       "26                                                                                                                                           \n",
       "27                                                                                                                                           \n",
       "28                                                                                                                                           \n",
       "29                                                                                                                                           \n",
       "..                                                                                                                                     ...   \n",
       "70                                                                                                                                           \n",
       "71                                                                                                                                           \n",
       "72                                                                                                                                           \n",
       "73                                                                                                                                           \n",
       "74                                                                                                                                           \n",
       "75                                                                                                                                           \n",
       "76                                                                                                                                           \n",
       "77                                                                                                                                           \n",
       "78                                                                                                                                           \n",
       "79                                                                                                                                           \n",
       "80                                                                                                                                           \n",
       "81                                                                                                                                           \n",
       "82                                                                                                                                           \n",
       "83                                                                                                                                           \n",
       "84                                                                                                                                           \n",
       "85                                                                                                                                           \n",
       "86                                                                                                                                           \n",
       "87                                                                                                                                           \n",
       "88                                                                                                                                           \n",
       "89                                                                                                                                           \n",
       "90                                                                                                                                           \n",
       "91                                                                                                                                           \n",
       "92                                                                                                                                           \n",
       "93                                                                                                                                           \n",
       "94                                                                                                                                           \n",
       "95                                                                                                                                           \n",
       "96                                                                                                                                           \n",
       "97                                                                                                                                           \n",
       "98                                                                                                                                           \n",
       "99                                                                                                                                           \n",
       "\n",
       "    UDEA_valor item                     UT    VL  \\\n",
       "0                    WOS:000271839000022\\n  29\\n   \n",
       "1                                                  \n",
       "2                                                  \n",
       "3                                                  \n",
       "4                                                  \n",
       "5                                                  \n",
       "6                                                  \n",
       "7                                                  \n",
       "8                                                  \n",
       "9                                                  \n",
       "10                   WOS:000378343900008\\n  47\\n   \n",
       "11                                                 \n",
       "12                                                 \n",
       "13                                                 \n",
       "14                                                 \n",
       "15                                                 \n",
       "16                                                 \n",
       "17                                                 \n",
       "18                                                 \n",
       "19                                                 \n",
       "20                                                 \n",
       "21                                                 \n",
       "22                                                 \n",
       "23                                                 \n",
       "24        0123-9392                                \n",
       "25        0123-9392                                \n",
       "26                                                 \n",
       "27                                                 \n",
       "28                                                 \n",
       "29                                                 \n",
       "..              ...                    ...   ...   \n",
       "70                                                 \n",
       "71                                                 \n",
       "72                                                 \n",
       "73                                                 \n",
       "74                                                 \n",
       "75                                                 \n",
       "76  ISSN: 0120-8705                                \n",
       "77  ISSN: 0120-8705                                \n",
       "78                                                 \n",
       "79                                                 \n",
       "80                                                 \n",
       "81                                                 \n",
       "82                                                 \n",
       "83                                                 \n",
       "84                                                 \n",
       "85                                                 \n",
       "86                                                 \n",
       "87                                                 \n",
       "88                                                 \n",
       "89                                                 \n",
       "90                                                 \n",
       "91                                                 \n",
       "92                                                 \n",
       "93                                                 \n",
       "94                                                 \n",
       "95                                                 \n",
       "96                                                 \n",
       "97                                                 \n",
       "98                                                 \n",
       "99                                                 \n",
       "\n",
       "                                      WC   Z9  \\\n",
       "0       Engineering, Multidisciplinary\\n  0.0   \n",
       "1                                         0.0   \n",
       "2                                         0.0   \n",
       "3                                         0.0   \n",
       "4                                         0.0   \n",
       "5                                         0.0   \n",
       "6                                         0.0   \n",
       "7                                         0.0   \n",
       "8                                         0.0   \n",
       "9                                         0.0   \n",
       "10  Social Sciences, Interdisciplinary\\n  0.0   \n",
       "11                                        0.0   \n",
       "12                                        0.0   \n",
       "13                                        0.0   \n",
       "14                                        0.0   \n",
       "15                                        0.0   \n",
       "16                                        0.0   \n",
       "17                                        0.0   \n",
       "18                                        0.0   \n",
       "19                                        0.0   \n",
       "20                                        0.0   \n",
       "21                                        0.0   \n",
       "22                                        0.0   \n",
       "23                                        0.0   \n",
       "24                                        0.0   \n",
       "25                                        0.0   \n",
       "26                                        0.0   \n",
       "27                                        0.0   \n",
       "28                                        0.0   \n",
       "29                                        0.0   \n",
       "..                                   ...  ...   \n",
       "70                                        0.0   \n",
       "71                                        0.0   \n",
       "72                                        0.0   \n",
       "73                                        0.0   \n",
       "74                                        0.0   \n",
       "75                                        0.0   \n",
       "76                                        0.0   \n",
       "77                                        0.0   \n",
       "78                                        0.0   \n",
       "79                                        0.0   \n",
       "80                                        0.0   \n",
       "81                                        0.0   \n",
       "82                                        0.0   \n",
       "83                                        0.0   \n",
       "84                                        0.0   \n",
       "85                                        0.0   \n",
       "86                                        0.0   \n",
       "87                                        0.0   \n",
       "88                                        0.0   \n",
       "89                                        0.0   \n",
       "90                                        0.0   \n",
       "91                                        0.0   \n",
       "92                                        0.0   \n",
       "93                                        0.0   \n",
       "94                                        0.0   \n",
       "95                                        0.0   \n",
       "96                                        0.0   \n",
       "97                                        0.0   \n",
       "98                                        0.0   \n",
       "99                                        0.0   \n",
       "\n",
       "                                                                                                                                                                                                authors_WOS  \n",
       "0                                                                       [{'WOS_author': 'Lopez Gomez, Maria del Socorro', 'affiliation': ['Univ Antioquia, Fac Ciencias Econ, Bogota, Colombia.'], 'i': 0}]  \n",
       "1                                                                                                [{'WOS_author': 'Echeverry-López, María Esperanza', 'affiliation': ['Univ Antioquia, Colombia.'], 'i': 0}]  \n",
       "2                                                                                                                                                                                                        []  \n",
       "3                                                                                                                  [{'WOS_author': 'Peñuela, G. A.', 'affiliation': ['Univ Antioquia, Colombia.'], 'i': 0}]  \n",
       "4                                                                                                  [{'WOS_author': 'Montoya Agudelo, César Alveiro', 'affiliation': ['Univ Antioquia, Colombia.'], 'i': 0}]  \n",
       "5   [{'WOS_author': 'Giraldo Lopera, Marta Lucía', 'affiliation': ['Univ Antioquia, Colombia.'], 'i': 0}, {'WOS_author': 'Montoya Ríos, Mónica', 'affiliation': ['Univ Antioquia, Colombia.'], 'i': 1}, ...  \n",
       "6                                                                                                   [{'WOS_author': 'Tabares-Ochoa, Catalina María', 'affiliation': ['Univ Antioquia, Colombia.'], 'i': 0}]  \n",
       "7                                                                                                   [{'WOS_author': 'González Agudelo, Elvia María', 'affiliation': ['Univ Antioquia, Colombia.'], 'i': 0}]  \n",
       "8                                                                                                           [{'WOS_author': 'MARÍN, CARLOS ALBERTO', 'affiliation': ['Univ Antioquia, Colombia.'], 'i': 0}]  \n",
       "9   [{'WOS_author': 'Cerón-Muñoz, Mario F.', 'affiliation': ['Univ Antioquia, Colombia.'], 'i': 0}, {'WOS_author': 'Cañas-Álvarez, Jhon J.', 'affiliation': ['Univ Antioquia, Colombia.'], 'i': 1}, {'WO...  \n",
       "10  [{'WOS_author': 'Bedoya Hernandez, Mauricio Hernando', 'affiliation': ['Univ Antioquia, Educ, Medellin, Colombia.', 'Univ Antioquia, Psicol, Medellin, Colombia.', 'Univ Antioquia, Ciencias Sociale...  \n",
       "11      [{'WOS_author': 'Palacio-Baena, Jaime A.', 'affiliation': ['Univ Antioquia, Colombia.'], 'i': 0}, {'WOS_author': 'Muñoz-Escobar, Eliana M.', 'affiliation': ['Univ Antioquia, Colombia.'], 'i': 1}]  \n",
       "12          [{'WOS_author': 'Jiménez-Segura, Luz F.', 'affiliation': ['Univ Antioquia, Colombia.'], 'i': 0}, {'WOS_author': 'Arias-Gallo, Mauricio', 'affiliation': ['Univ Antioquia, Colombia.'], 'i': 1}]  \n",
       "13  [{'WOS_author': 'González Agudelo, Elvia María', 'affiliation': ['Univ Antioquia, Colombia.'], 'i': 0}, {'WOS_author': 'Grisales Franco, Lina María', 'affiliation': ['Univ Antioquia, Colombia.'], ...  \n",
       "14                                                                                                          [{'WOS_author': 'Pérez, Andrea Lissett', 'affiliation': ['Univ Antioquia, Colombia.'], 'i': 0}]  \n",
       "15                                                                                                 [{'WOS_author': 'Beltrán-Salazar, Óscar Alberto', 'affiliation': ['Univ Antioquia, Colombia.'], 'i': 0}]  \n",
       "16         [{'WOS_author': 'Agudelo-Zamora, Henry D', 'affiliation': ['Univ Antioquia, Colombia.'], 'i': 0}, {'WOS_author': 'Jiménez-Segura, Luz F', 'affiliation': ['Univ Antioquia, Colombia.'], 'i': 1}]  \n",
       "17                                                                                                      [{'WOS_author': 'Lenis Castaño, John Fredy', 'affiliation': ['Univ Antioquia, Colombia.'], 'i': 0}]  \n",
       "18                                                                                                            [{'WOS_author': 'Pérez Marín, Mónica', 'affiliation': ['Univ Antioquia, Colombia.'], 'i': 0}]  \n",
       "19                                                                                                 [{'WOS_author': 'Molina González, Liliana María', 'affiliation': ['Univ Antioquia, Colombia.'], 'i': 0}]  \n",
       "20                                                                                                        [{'WOS_author': 'Cortés Rodas, Francisco', 'affiliation': ['Univ Antioquia, Colombia.'], 'i': 0}]  \n",
       "21                                                                                                [{'WOS_author': 'Ospina Echeverri, Marta Cecilia', 'affiliation': ['Univ Antioquia, Colombia.'], 'i': 0}]  \n",
       "22                                                                                                   [{'WOS_author': 'Gómez García, Juan Guillermo', 'affiliation': ['Univ Antioquia, Colombia.'], 'i': 0}]  \n",
       "23                     [{'WOS_author': 'Gómez, Sandra M', 'affiliation': ['Univ Antioquia, Colombia.'], 'i': 0}, {'WOS_author': 'Díaz, Francisco J', 'affiliation': ['Univ Antioquia, Colombia.'], 'i': 1}]  \n",
       "24                 [{'WOS_author': 'Cataño, Juan Carlos', 'affiliation': ['Univ Antioquia, Colombia.'], 'i': 0}, {'WOS_author': 'Díaz, James Samir', 'affiliation': ['Univ Antioquia, Colombia.'], 'i': 1}]  \n",
       "25                   [{'WOS_author': 'Tobón, Alberto', 'affiliation': ['Univ Antioquia, Colombia.'], 'i': 0}, {'WOS_author': 'Cortina, Ana del Mar', 'affiliation': ['Univ Antioquia, Colombia.'], 'i': 1}]  \n",
       "26  [{'WOS_author': 'Vélez, Lázaro Agustín', 'affiliation': ['Univ Antioquia, Colombia.'], 'i': 0}, {'WOS_author': 'Aguirre, Daniel Camilo', 'affiliation': ['Univ Antioquia, Colombia.'], 'i': 1}, {'WO...  \n",
       "27                     [{'WOS_author': 'Tobón, Alexander', 'affiliation': ['Univ Antioquia, Colombia.'], 'i': 0}, {'WOS_author': 'Bolaños, Eduardo', 'affiliation': ['Univ Antioquia, Colombia.'], 'i': 1}]  \n",
       "28  [{'WOS_author': 'Gallón, Santiago', 'affiliation': ['Univ Antioquia, Colombia.'], 'i': 0}, {'WOS_author': 'Gómez, Karoll', 'affiliation': ['Univ Antioquia, Colombia.'], 'i': 1}, {'WOS_author': 'Ca...  \n",
       "29                     [{'WOS_author': 'Alviar, Mauricio', 'affiliation': ['Univ Antioquia, Colombia.'], 'i': 0}, {'WOS_author': 'Restrepo, Camilo', 'affiliation': ['Univ Antioquia, Colombia.'], 'i': 1}]  \n",
       "..                                                                                                                                                                                                      ...  \n",
       "70  [{'WOS_author': 'Gómez, Margarita M', 'affiliation': ['Univ Antioquia, Colombia.'], 'i': 0}, {'WOS_author': 'Valencia, Águeda L', 'affiliation': ['Univ Antioquia, Colombia.'], 'i': 1}, {'WOS_autho...  \n",
       "71                                                                                                               [{'WOS_author': 'Gómez A, Rubén D', 'affiliation': ['Univ Antioquia, Colombia.'], 'i': 0}]  \n",
       "72                                                                                                               [{'WOS_author': 'Zapata M, JOSÉ E', 'affiliation': ['Univ Antioquia, Colombia.'], 'i': 0}]  \n",
       "73  [{'WOS_author': 'PEREAÑEZ, Jaime A', 'affiliation': ['Univ Antioquia, Colombia.'], 'i': 0}, {'WOS_author': 'Zapata A, Karol', 'affiliation': ['Univ Antioquia, Colombia.'], 'i': 1}, {'WOS_author': ...  \n",
       "74  [{'WOS_author': 'Sánchez Mosquera, Yaneth', 'affiliation': ['Univ Antioquia, Colombia.'], 'i': 0}, {'WOS_author': 'Cornejo Ochoa, William', 'affiliation': ['Univ Antioquia, Colombia.'], 'i': 1}, {...  \n",
       "75  [{'WOS_author': 'Mesa-Vanegas, A. M.', 'affiliation': ['Grupo de Investigación Malaria, Sede de Investigación Universitaria(SIU), Facultad de Medicina, Univ Antioquia, Medellín, Colombia'], 'i': 0...  \n",
       "76                   [{'WOS_author': 'RODAS, JUAN DAVID', 'affiliation': ['Univ Antioquia, Colombia.'], 'i': 0}, {'WOS_author': 'G, HAROLD DURANGO', 'affiliation': ['Univ Antioquia, Colombia.'], 'i': 1}]  \n",
       "77  [{'WOS_author': 'DÍAZ, JAVIER', 'affiliation': ['Univ Antioquia, Colombia.'], 'i': 0}, {'WOS_author': 'ARBOLEDA, MARGARITA', 'affiliation': ['Univ Antioquia, Colombia.'], 'i': 1}, {'WOS_author': '...  \n",
       "78                                                                                               [{'WOS_author': 'Bolívar Osorio, Francisco Javier', 'affiliation': ['Univ Antioquia, Colombia.'], 'i': 0}]  \n",
       "79                                                                                                 [{'WOS_author': 'Beltrán Salazar, Oscar Alberto', 'affiliation': ['Univ Antioquia, Colombia.'], 'i': 0}]  \n",
       "80  [{'WOS_author': 'Uscátegui Peñuela, Rosa Magdalena', 'affiliation': ['Univ Antioquia, Colombia.'], 'i': 0}, {'WOS_author': 'Correa Botero, Adriana María', 'affiliation': ['Univ Antioquia, Colombia...  \n",
       "81  [{'WOS_author': 'Ramírez, David Alejandro', 'affiliation': ['Univ Antioquia, Colombia.'], 'i': 0}, {'WOS_author': 'Lopera, Freddy', 'affiliation': ['Univ Antioquia, Colombia.'], 'i': 1}, {'WOS_aut...  \n",
       "82  [{'WOS_author': 'Vélez, Santiago', 'affiliation': ['Univ Antioquia, Colombia.'], 'i': 0}, {'WOS_author': 'Arboleda, Andrés Felipe', 'affiliation': ['Univ Antioquia, Colombia.'], 'i': 1}, {'WOS_aut...  \n",
       "83  [{'WOS_author': 'García, Edwin Fabián', 'affiliation': ['Univ Antioquia, Colombia.'], 'i': 0}, {'WOS_author': 'Builes, Manuel Alonso', 'affiliation': ['Univ Antioquia, Colombia.'], 'i': 1}, {'WOS_...  \n",
       "84                                                                                                [{'WOS_author': 'Gómez, Maryory Astrid', 'affiliation': ['Univ Antioquia, Medellín, Colombia.'], 'i': 0}]  \n",
       "85                                                                                                         [{'WOS_author': 'Urrego Giraldo, Germán', 'affiliation': ['Univ Antioquia, Colombia.'], 'i': 0}]  \n",
       "86  [{'WOS_author': 'Loaiza, Erica T', 'affiliation': ['Univ Antioquia, Colombia.'], 'i': 0}, {'WOS_author': 'Posada Arias, Silvia', 'affiliation': ['Univ Antioquia, Colombia.'], 'i': 1}, {'WOS_author...  \n",
       "87                                                                                                            [{'WOS_author': 'Burgos-Paz, William', 'affiliation': ['Univ Antioquia, Colombia.'], 'i': 0}]  \n",
       "88                                                                                                        [{'WOS_author': 'Restrepo, Luis Fernando', 'affiliation': ['Univ Antioquia, Colombia.'], 'i': 0}]  \n",
       "89          [{'WOS_author': 'Bedoya, Mauricio Hernando', 'affiliation': ['Univ Antioquia, Colombia.'], 'i': 0}, {'WOS_author': 'Giraldo, Mary Lucy', 'affiliation': ['Univ Antioquia, Colombia.'], 'i': 1}]  \n",
       "90                                                                                                           [{'WOS_author': 'Díaz, Silvia Paulina', 'affiliation': ['Univ Antioquia, Colombia.'], 'i': 0}]  \n",
       "91                                                                                                              [{'WOS_author': 'Ossa, Arley Fabio', 'affiliation': ['Univ Antioquia, Colombia.'], 'i': 0}]  \n",
       "92                                                                                            [{'WOS_author': 'BEDOYA HERNÁNDEZ, MAURICIO HERNANDO', 'affiliation': ['Univ Antioquia, Colombia.'], 'i': 0}]  \n",
       "93                                                                                                        [{'WOS_author': 'Córdoba Porras, Alfonso', 'affiliation': ['Univ Antioquia, Colombia.'], 'i': 0}]  \n",
       "94                                                                                                              [{'WOS_author': 'Lopera, Francisco', 'affiliation': ['Univ Antioquia, Colombia.'], 'i': 0}]  \n",
       "95  [{'WOS_author': 'Galindo-Muñoz, Andrés R.', 'affiliation': ['Univ Antioquia, Colombia.'], 'i': 0}, {'WOS_author': 'Zapata-Ocampo, Paola A.', 'affiliation': ['Univ Antioquia, Colombia.'], 'i': 1}, ...  \n",
       "96  [{'WOS_author': 'Carvajal-Quintero, Juan D.', 'affiliation': ['Univ Antioquia, Colombia.'], 'i': 0}, {'WOS_author': 'Aguirre, Néstor', 'affiliation': ['Univ Antioquia, Colombia.'], 'i': 1}, {'WOS_...  \n",
       "97  [{'WOS_author': 'Corrales, Adriana', 'affiliation': ['Univ Antioquia, Colombia.'], 'i': 0}, {'WOS_author': 'Vasco-Palacios, Aída M.', 'affiliation': ['Univ Antioquia, Colombia.'], 'i': 1}, {'WOS_a...  \n",
       "98                                                                                                       [{'WOS_author': 'ARREDONDO HOLGUÍN, EDITH', 'affiliation': ['Univ Antioquia, Colombia.'], 'i': 0}]  \n",
       "99                                                                                                        [{'WOS_author': 'FLÓREZ M., MARÍA TERESA', 'affiliation': ['Univ Antioquia, Colombia.'], 'i': 0}]  \n",
       "\n",
       "[100 rows x 181 columns]"
      ]
     },
     "execution_count": 837,
     "metadata": {},
     "output_type": "execute_result"
    }
   ],
   "source": [
    "kkold[[TI,]]"
   ]
  },
  {
   "cell_type": "code",
   "execution_count": 816,
   "metadata": {},
   "outputs": [
    {
     "data": {
      "text/plain": [
       "100"
      ]
     },
     "execution_count": 816,
     "metadata": {},
     "output_type": "execute_result"
    }
   ],
   "source": [
    "fuzz.partial_token_set_ratio(kknew.TI.loc[3],'nausea')"
   ]
  },
  {
   "cell_type": "code",
   "execution_count": 817,
   "metadata": {},
   "outputs": [
    {
     "data": {
      "text/plain": [
       "3"
      ]
     },
     "execution_count": 817,
     "metadata": {},
     "output_type": "execute_result"
    }
   ],
   "source": [
    "fuzz.ratio(kknew.TI.loc[3],'nausea')"
   ]
  },
  {
   "cell_type": "code",
   "execution_count": 818,
   "metadata": {},
   "outputs": [
    {
     "data": {
      "text/plain": [
       "100"
      ]
     },
     "execution_count": 818,
     "metadata": {},
     "output_type": "execute_result"
    }
   ],
   "source": [
    "fuzz.ratio('z','z')"
   ]
  },
  {
   "cell_type": "code",
   "execution_count": 813,
   "metadata": {},
   "outputs": [
    {
     "data": {
      "text/plain": [
       "0.005780346820809248"
      ]
     },
     "execution_count": 813,
     "metadata": {},
     "output_type": "execute_result"
    }
   ],
   "source": [
    "lv.ratio(kknew.TI.loc[3],'z')"
   ]
  },
  {
   "cell_type": "code",
   "execution_count": null,
   "metadata": {},
   "outputs": [],
   "source": []
  }
 ],
 "metadata": {
  "colab": {
   "include_colab_link": true,
   "name": "merge.ipynb",
   "provenance": [],
   "version": "0.3.2"
  },
  "kernelspec": {
   "display_name": "Python 3",
   "language": "python",
   "name": "python3"
  },
  "language_info": {
   "codemirror_mode": {
    "name": "ipython",
    "version": 3
   },
   "file_extension": ".py",
   "mimetype": "text/x-python",
   "name": "python",
   "nbconvert_exporter": "python",
   "pygments_lexer": "ipython3",
   "version": "3.5.3"
  },
  "latex_envs": {
   "LaTeX_envs_menu_present": true,
   "autoclose": false,
   "autocomplete": true,
   "bibliofile": "biblio.bib",
   "cite_by": "apalike",
   "current_citInitial": 1,
   "eqLabelWithNumbers": true,
   "eqNumInitial": 1,
   "hotkeys": {
    "equation": "Ctrl-E",
    "itemize": "Ctrl-I"
   },
   "labels_anchors": false,
   "latex_user_defs": false,
   "report_style_numbering": false,
   "user_envs_cfg": false
  }
 },
 "nbformat": 4,
 "nbformat_minor": 2
}
