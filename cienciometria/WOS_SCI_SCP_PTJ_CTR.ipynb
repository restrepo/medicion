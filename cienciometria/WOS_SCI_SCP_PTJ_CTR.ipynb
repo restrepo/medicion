{
 "cells": [
  {
   "cell_type": "markdown",
   "metadata": {
    "colab_type": "text",
    "id": "view-in-github"
   },
   "source": [
    "<a href=\"https://colab.research.google.com/github/restrepo/medicion/blob/master/cienciometria/WOS_SCI_SCP.ipynb\" target=\"_parent\"><img src=\"https://colab.research.google.com/assets/colab-badge.svg\" alt=\"Open In Colab\"/></a>"
   ]
  },
  {
   "cell_type": "markdown",
   "metadata": {
    "colab_type": "text",
    "id": "aDnqho-CsEwj"
   },
   "source": [
    "# WOS+SCI+SCP+PTJ+CTR"
   ]
  },
  {
   "cell_type": "markdown",
   "metadata": {},
   "source": [
    "Merge the bibliographic datasets for \n",
    "* Web of Science (WOS), \n",
    "* Scielo (SCI)\n",
    "* Scopus  (SCP)\n",
    "* Puntaje (UDEA)\n",
    "* Center (CTR)\n",
    "of the scientific articles of Universidad de Antioquia\n",
    "\n",
    "For details see [merge.ipynb in Colaboratory](https://colab.research.google.com/github/restrepo/medicion/blob/master/cienciometria/merge.ipynb)\n",
    "\n",
    "Implementation:\n",
    "The input pure o partially processed database with WOS-SCI-SCP and may be some UDEA entries from PTJ and Center information with additional data about the Full Name UDEA authors.\n",
    "\n",
    "Addtionaly UDEA entries can be captured from:\n",
    "1. A previous WOS-SCI-SCP-UDEA\n",
    "2. A Data Base with a column with full names (FULL LAST NAMES NAMES, e.g VALDEZ GÚZMAN JUAN ALBERTO) and a list of author Aliases in WOS format (Lastname, Name, e.g Valdez-Gúzman, J.A.) with a list of registered affiliations. TODO: Test\n",
    "3. The database from Puntaje (UDEA). "
   ]
  },
  {
   "cell_type": "code",
   "execution_count": null,
   "metadata": {},
   "outputs": [],
   "source": [
    "import os\n",
    "VERSION='NEW'\n",
    "if os.getcwd()=='/content':\n",
    "    !pip install openpyxl xlrd wosplus > /dev/null"
   ]
  },
  {
   "cell_type": "code",
   "execution_count": 77,
   "metadata": {},
   "outputs": [],
   "source": [
    "# Delete UDEA_columns and start from schratch\n",
    "REBUILD=False\n",
    "MERGE_WITH_TRAINED=False"
   ]
  },
  {
   "cell_type": "markdown",
   "metadata": {},
   "source": [
    "## functions"
   ]
  },
  {
   "cell_type": "code",
   "execution_count": 78,
   "metadata": {
    "colab": {},
    "colab_type": "code",
    "id": "nhk2ZGEDd2Yo"
   },
   "outputs": [],
   "source": [
    "import pandas as pd\n",
    "import wosplus as wp\n",
    "pd.set_option('display.max_colwidth',200)"
   ]
  },
  {
   "cell_type": "code",
   "execution_count": 79,
   "metadata": {},
   "outputs": [],
   "source": [
    "# %load wos_sci_scp_ptj_ctr.py"
   ]
  },
  {
   "cell_type": "code",
   "execution_count": 80,
   "metadata": {},
   "outputs": [],
   "source": [
    "from wos_sci_scp_ptj_ctr import *"
   ]
  },
  {
   "cell_type": "markdown",
   "metadata": {
    "colab_type": "text",
    "heading_collapsed": true,
    "id": "JS7jD1f47JUN"
   },
   "source": [
    "##  Configure public links of  files in Google Drive\n",
    "* If it is a Google Spreadsheet the corresponding file is downloaded as CSV\n",
    "* If it is in excel or text file the file is downloaded  directly\n",
    "\n",
    "To define your  own labeled IDs for public google drive files edit the next cell:"
   ]
  },
  {
   "cell_type": "code",
   "execution_count": 81,
   "metadata": {
    "colab": {
     "base_uri": "https://localhost:8080/",
     "height": 35
    },
    "colab_type": "code",
    "hidden": true,
    "id": "T4Rmd2dF7JUQ",
    "outputId": "39a5835e-1b38-48b6-f1a5-e9964c846123"
   },
   "outputs": [
    {
     "name": "stdout",
     "output_type": "stream",
     "text": [
      "Overwriting drive.cfg\n"
     ]
    }
   ],
   "source": [
    "%%writefile drive.cfg\n",
    "[FILES]\n",
    "WOS_SCI_SCP_PTJ_CTR.json.gz=19E1C1kRk4I0V3uXojqko8-NEicWaPp1j\n",
    "WOS_SCP_UDEA_SJR_SIU.xlsx=0BxoOXsn2EUNIQ3R4WDhvSzVLQ2s\n",
    "Base_de_datos_investigadores_Definitiva.csv=12oalgUeKhpvzkTPBP8pXCeHTrF-KO223dy9ov9w9QKs\n",
    "UDEA_authors_with_WOS_info.json=1o1eVT4JD0FMMICq_oxrTJOzWh47veBMw\n",
    "produccion_fecha_vig_2003_2018.xlsx=1WbtX4K__TTLxXRjuLvqUYz9tuHCIlS5v\n",
    "UDEA_WOS_SCI_SCP_PTJ.json=1OkVytKbxJwGvXZDkynkSoUDtkUOTaT4A"
   ]
  },
  {
   "cell_type": "markdown",
   "metadata": {
    "colab_type": "text",
    "id": "Y0D0hEdAMXUX"
   },
   "source": [
    "##  Load data bases"
   ]
  },
  {
   "cell_type": "code",
   "execution_count": 82,
   "metadata": {
    "colab": {
     "base_uri": "https://localhost:8080/",
     "height": 35
    },
    "colab_type": "code",
    "id": "occzrIeCS7aQ",
    "outputId": "17b144f3-eef0-4c8a-c2b4-10c8fe55802c"
   },
   "outputs": [],
   "source": [
    "affil='Univ Antioquia'\n",
    "drive_files=wp.wosplus('drive.cfg')"
   ]
  },
  {
   "cell_type": "markdown",
   "metadata": {},
   "source": [
    "#### DEBUG: if False stop in UDEA_PTJ!!!!"
   ]
  },
  {
   "cell_type": "markdown",
   "metadata": {
    "colab": {},
    "colab_type": "code",
    "id": "oq9QM3cBYH0a"
   },
   "source": [
    "if os.path.exists(UDEAjsonfile):\n",
    "    UDEA=               pd.read_json(UDEAjsonfile,compression='gzip').reset_index(drop=True)\n",
    "else:    \n",
    "    UDEA=drive_files.read_drive_json(UDEAjsonfile,compression='gzip').reset_index(drop=True)"
   ]
  },
  {
   "cell_type": "code",
   "execution_count": 83,
   "metadata": {},
   "outputs": [
    {
     "name": "stdout",
     "output_type": "stream",
     "text": [
      "WARNING: Biblio already has a \"Tipo\" column\n"
     ]
    }
   ],
   "source": [
    "RECOVER=True #False for test purposes\n",
    "UDEAjsonfile='WOS_SCI_SCP_PTJ_CTR.json.gz'\n",
    "#Test purposes\n",
    "#UDEAjsonfile='UDEA_WOS_SCI_SCP_PTJ.json'\n",
    "if RECOVER:\n",
    "    #Requieres latest wosplus!\n",
    "    tmp=drive_files.load_biblio(UDEAjsonfile,compression='gzip')# TODO CHANGE FOR LAST VERSION IN GOOGLE DRIVE\n",
    "else:\n",
    "    tmp=drive_files.load_biblio('UDEAtmp.json')\n",
    "    #drive_files.load_biblio(\n",
    "    #  'https://raw.githubusercontent.com/restrepo/medicion/master/cienciometria/data/UDEAtmp300.json'\n",
    "    #    )#Test: 199+1=200 found\n",
    "    \n",
    "UDEA=drive_files.biblio['WOS'].reset_index(drop=True)\n",
    "#DEBUG\n",
    "#UDEA=UDEA.sample(300,replace=True).reset_index(drop=True) #Test: 77 found\n",
    "#tmp=drive_files.load_biblio('Sample_WOS.xlsx')"
   ]
  },
  {
   "cell_type": "code",
   "execution_count": 84,
   "metadata": {},
   "outputs": [],
   "source": [
    "if REBUILD:\n",
    "    UDEA=clean_institutional_columns(UDEA,prefix='UDEA',Tipo='Tipo')\n",
    "    UDEA['UDEA_authors']=None\n"
   ]
  },
  {
   "cell_type": "code",
   "execution_count": 85,
   "metadata": {
    "scrolled": true
   },
   "outputs": [
    {
     "name": "stdout",
     "output_type": "stream",
     "text": [
      "WOS_SCP_UDEA:1043\n",
      "SCI:2258\n",
      "WOS:1541\n",
      "SCP:2112\n",
      "WOS_SCP:4777\n",
      "WOS_SCI_SCP:557\n",
      "SCI_SCP:1116\n",
      "WOS_UDEA:343\n",
      "SCI_SCP_UDEA:500\n",
      "SCI_UDEA:634\n",
      "SCP_UDEA:461\n",
      "WOS_SCI_SCP_UDEA:211\n",
      "WOS_SCI_UDEA:47\n",
      "WOS_SCI:100\n"
     ]
    }
   ],
   "source": [
    "for t in UDEA.Tipo.unique():\n",
    "    print( '{}:{}'.format( t, UDEA[ UDEA.Tipo==t].shape[0] ) )"
   ]
  },
  {
   "cell_type": "code",
   "execution_count": 86,
   "metadata": {},
   "outputs": [
    {
     "data": {
      "text/plain": [
       "(15700, 181)"
      ]
     },
     "execution_count": 86,
     "metadata": {},
     "output_type": "execute_result"
    }
   ],
   "source": [
    "UDEA.shape"
   ]
  },
  {
   "cell_type": "markdown",
   "metadata": {
    "heading_collapsed": true
   },
   "source": [
    "## Load trained old data "
   ]
  },
  {
   "cell_type": "markdown",
   "metadata": {
    "heading_collapsed": true
   },
   "source": [
    "### Merge WOS_SCP_SCI with trained data set PTJ_CTR"
   ]
  },
  {
   "cell_type": "markdown",
   "metadata": {
    "hidden": true
   },
   "source": [
    "Merge requires split in DI and TI\n",
    "\n",
    "\n",
    "15700 (15700, 152)\n",
    "(7072, 169) (8628, 169)"
   ]
  },
  {
   "cell_type": "code",
   "execution_count": 87,
   "metadata": {
    "hidden": true
   },
   "outputs": [],
   "source": [
    "if MERGE_WITH_TRAINED:\n",
    "    if os.path.exists('WOS_SCP_UDEA_SJR_SIU.xlsx'):\n",
    "        SIU=pd.read_excel('WOS_SCP_UDEA_SJR_SIU.xlsx')\n",
    "    else:    \n",
    "        SIU=drive_files.read_drive_excel('WOS_SCP_UDEA_SJR_SIU.xlsx')\n",
    "        \n",
    "    UDEA,SIU=fill_trained_data(UDEA,SIU)#TODO: Remnove SIU"
   ]
  },
  {
   "cell_type": "code",
   "execution_count": 88,
   "metadata": {},
   "outputs": [],
   "source": [
    "if MERGE_WITH_TRAINED:\n",
    "    UDEA.to_json('UDEAtmp.json')\n",
    "    RECOVER=False\n",
    "    if RECOVER:\n",
    "        UDEA=pd.read_json('UDEAtmp.json').reset_index(drop=True)"
   ]
  },
  {
   "cell_type": "code",
   "execution_count": 89,
   "metadata": {},
   "outputs": [],
   "source": [
    "if 'UDEA_autores' in UDEA.columns and UDEA[UDEA['UDEA_autores']==''].shape[0]:\n",
    "    UDEA['UDEA_autores']=UDEA['UDEA_autores'].apply(lambda s: pd.np.nan if type(s)==str and s=='' else s)"
   ]
  },
  {
   "cell_type": "code",
   "execution_count": 90,
   "metadata": {},
   "outputs": [
    {
     "name": "stdout",
     "output_type": "stream",
     "text": [
      "0 10311\n"
     ]
    }
   ],
   "source": [
    "if 'UDEA_autores' in UDEA.columns:\n",
    "    print(UDEA[UDEA['UDEA_autores']==''].shape[0],UDEA['UDEA_autores'].dropna().shape[0])"
   ]
  },
  {
   "cell_type": "markdown",
   "metadata": {},
   "source": [
    "# Puntaje"
   ]
  },
  {
   "cell_type": "markdown",
   "metadata": {},
   "source": [
    "UDEA"
   ]
  },
  {
   "cell_type": "code",
   "execution_count": 91,
   "metadata": {},
   "outputs": [],
   "source": [
    "qq=UDEA.copy()"
   ]
  },
  {
   "cell_type": "code",
   "execution_count": 92,
   "metadata": {},
   "outputs": [
    {
     "data": {
      "text/plain": [
       "(15700, 181)"
      ]
     },
     "execution_count": 92,
     "metadata": {},
     "output_type": "execute_result"
    }
   ],
   "source": [
    "drive_files.biblio['WOS']=qq\n",
    "drive_files.biblio['WOS'].shape"
   ]
  },
  {
   "cell_type": "code",
   "execution_count": 93,
   "metadata": {},
   "outputs": [],
   "source": [
    "tmp=drive_files.load_biblio('produccion_fecha_vig_2003_2018.xlsx',prefix='UDEA')"
   ]
  },
  {
   "cell_type": "code",
   "execution_count": 94,
   "metadata": {},
   "outputs": [],
   "source": [
    "pp= drive_files.biblio['UDEA'].copy()"
   ]
  },
  {
   "cell_type": "code",
   "execution_count": 95,
   "metadata": {},
   "outputs": [],
   "source": [
    "drive_files.biblio['UDEA']=pp"
   ]
  },
  {
   "cell_type": "code",
   "execution_count": 96,
   "metadata": {},
   "outputs": [
    {
     "name": "stdout",
     "output_type": "stream",
     "text": [
      "(32581, 24)\n",
      "va1 0 0\n",
      "......................................................"
     ]
    },
    {
     "name": "stderr",
     "output_type": "stream",
     "text": [
      "/usr/local/lib/python3.5/dist-packages/pandas/core/frame.py:6692: FutureWarning: Sorting because non-concatenation axis is not aligned. A future version\n",
      "of pandas will change to not sort by default.\n",
      "\n",
      "To accept the future behavior, pass 'sort=False'.\n",
      "\n",
      "To retain the current behavior and silence the warning, pass 'sort=True'.\n",
      "\n",
      "  sort=sort)\n"
     ]
    },
    {
     "name": "stdout",
     "output_type": "stream",
     "text": [
      "7258 : 5388 + 1 = 5389\n",
      "va2 0 5388\n",
      "......................................................"
     ]
    },
    {
     "name": "stderr",
     "output_type": "stream",
     "text": [
      "/usr/local/lib/python3.5/dist-packages/pandas/core/frame.py:6692: FutureWarning: Sorting because non-concatenation axis is not aligned. A future version\n",
      "of pandas will change to not sort by default.\n",
      "\n",
      "To accept the future behavior, pass 'sort=False'.\n",
      "\n",
      "To retain the current behavior and silence the warning, pass 'sort=True'.\n",
      "\n",
      "  sort=sort)\n"
     ]
    },
    {
     "name": "stdout",
     "output_type": "stream",
     "text": [
      "7258 : 5388 + 0 = 5388\n",
      "va3 0 5388\n",
      "......................................................"
     ]
    },
    {
     "name": "stderr",
     "output_type": "stream",
     "text": [
      "/usr/local/lib/python3.5/dist-packages/pandas/core/frame.py:6692: FutureWarning: Sorting because non-concatenation axis is not aligned. A future version\n",
      "of pandas will change to not sort by default.\n",
      "\n",
      "To accept the future behavior, pass 'sort=False'.\n",
      "\n",
      "To retain the current behavior and silence the warning, pass 'sort=True'.\n",
      "\n",
      "  sort=sort)\n"
     ]
    },
    {
     "name": "stdout",
     "output_type": "stream",
     "text": [
      "va4 0 5388\n",
      "7258 : 5388 + 0 = 5388\n",
      "(1, 174) + (5388, 152) = 5389\n"
     ]
    }
   ],
   "source": [
    "df=merge_puntaje(drive_files)"
   ]
  },
  {
   "cell_type": "code",
   "execution_count": 97,
   "metadata": {},
   "outputs": [
    {
     "name": "stdout",
     "output_type": "stream",
     "text": [
      "0 = 0 ; found: 10312\n"
     ]
    }
   ],
   "source": [
    "#TODO: Check why not zero\n",
    "if 'UDEA_autores' in df.columns:\n",
    "    print(0,'=',df[df['UDEA_autores']==''].shape[0],'; found:',df['UDEA_autores'].dropna().shape[0])"
   ]
  },
  {
   "cell_type": "code",
   "execution_count": 98,
   "metadata": {},
   "outputs": [],
   "source": [
    "#df['UDEA_autores'].apply(lambda s: pd.np.nan if type(s)==str and s=='' else s).dropna().shape"
   ]
  },
  {
   "cell_type": "code",
   "execution_count": 99,
   "metadata": {},
   "outputs": [],
   "source": [
    "UDEA=df.copy()"
   ]
  },
  {
   "cell_type": "code",
   "execution_count": 100,
   "metadata": {},
   "outputs": [
    {
     "data": {
      "text/plain": [
       "(15700, 181)"
      ]
     },
     "execution_count": 100,
     "metadata": {},
     "output_type": "execute_result"
    }
   ],
   "source": [
    "UDEA.shape"
   ]
  },
  {
   "cell_type": "markdown",
   "metadata": {
    "heading_collapsed": true
   },
   "source": [
    "## Fill C1 for not WOS entries in WOS format and extract  affiliation from C1"
   ]
  },
  {
   "cell_type": "code",
   "execution_count": 101,
   "metadata": {},
   "outputs": [],
   "source": [
    "#Fill from SCI_C1\n",
    "UDEA['C1']=SCI_C1_to_C1(UDEA)"
   ]
  },
  {
   "cell_type": "code",
   "execution_count": 102,
   "metadata": {
    "hidden": true
   },
   "outputs": [],
   "source": [
    "#Fill from SCP_C1='SCP_Authors with affiliations\n",
    "UDEA['C1']=SCP_Authors_with_affiliations_to_C1(UDEA)"
   ]
  },
  {
   "cell_type": "code",
   "execution_count": 103,
   "metadata": {},
   "outputs": [
    {
     "data": {
      "text/plain": [
       "(0, 181)"
      ]
     },
     "execution_count": 103,
     "metadata": {},
     "output_type": "execute_result"
    }
   ],
   "source": [
    "UDEA[UDEA['C1'].isnull()].shape"
   ]
  },
  {
   "cell_type": "code",
   "execution_count": 104,
   "metadata": {
    "hidden": true
   },
   "outputs": [
    {
     "data": {
      "text/plain": [
       "'[Bedoya Hernandez, Mauricio Hernando] Univ Antioquia, Educ, Medellin, Colombia.\\n[Bedoya Hernandez, Mauricio Hernando] Univ Antioquia, Psicol, Medellin, Colombia.\\n[Bedoya Hernandez, Mauricio Hernando] Univ Antioquia, Ciencias Sociales, Medellin, Colombia.\\n[Bedoya Hernandez, Mauricio Hernando] Univ Antioquia, Medellin, Colombia.\\n'"
      ]
     },
     "execution_count": 104,
     "metadata": {},
     "output_type": "execute_result"
    }
   ],
   "source": [
    "UDEA[UDEA.Tipo=='WOS'].reset_index(drop=True).C1.loc[0]"
   ]
  },
  {
   "cell_type": "code",
   "execution_count": 105,
   "metadata": {
    "hidden": true
   },
   "outputs": [],
   "source": [
    "UDEA['authors_WOS']=UDEA.C1.apply(lambda x: x.split('\\n') if x else x).apply(\n",
    "    lambda x:   [y.replace('[','').replace('] ','; ') for y in x if y.find(affil)>-1 ] if x else x ).apply(\n",
    "     lambda x: get_author_info(x) if x else x)\n",
    "\n",
    "# Improve normalization: remove C1s with only affiliation (from Scielo)\n",
    "UDEA['authors_WOS']=UDEA['authors_WOS'].apply( \n",
    "    lambda x: [d for d in x if d.get('WOS_author').find(affil)==-1] if type(x)==list else x )"
   ]
  },
  {
   "cell_type": "code",
   "execution_count": 106,
   "metadata": {},
   "outputs": [
    {
     "data": {
      "text/plain": [
       "[{'WOS_author': 'Mesa-Vanegas, A. M.',\n",
       "  'affiliation': ['Grupo de Investigación Malaria, Sede de Investigación Universitaria(SIU), Facultad de Medicina, Univ Antioquia, Medellín, Colombia'],\n",
       "  'i': 0},\n",
       " {'WOS_author': 'Cardona, F.',\n",
       "  'affiliation': ['Grupo de Estudios Botánicos, Herbario Univ Antioquia, Medellín, Colombia'],\n",
       "  'i': 1},\n",
       " {'WOS_author': 'Sáez-Vega, J. A.',\n",
       "  'affiliation': ['Grupo Química de Plantas Colombianas, Instituto de Química, Univ Antioquia, Medellín, Colombia'],\n",
       "  'i': 2},\n",
       " {'WOS_author': 'Trujillo, S. B.',\n",
       "  'affiliation': ['Grupo de Investigación Malaria, Sede de Investigación Universitaria(SIU), Facultad de Medicina, Univ Antioquia, Medellín, Colombia'],\n",
       "  'i': 3}]"
      ]
     },
     "execution_count": 106,
     "metadata": {},
     "output_type": "execute_result"
    }
   ],
   "source": [
    "UDEA[UDEA.Tipo=='SCP'].reset_index(drop=True).loc[0].authors_WOS"
   ]
  },
  {
   "cell_type": "markdown",
   "metadata": {},
   "source": [
    "## Prepare UDEA columns"
   ]
  },
  {
   "cell_type": "code",
   "execution_count": 107,
   "metadata": {},
   "outputs": [],
   "source": [
    "#TODO: Remove from fill_trained_data(..)\n",
    "if 'UDEA_autores' in UDEA.columns:\n",
    "    UDEA['UDEA_autores']=UDEA['UDEA_autores'].apply(lambda s: re.sub('\\s+',' ',s) if type(s)==str else s)\n",
    "    UDEA['UDEA_authors']=UDEA['UDEA_autores'].apply(lambda s: s.split(';') if type(s)==str else s).apply(\n",
    "                           lambda l: [{'full_name':y} for y in l ] if type(l)==list else l)"
   ]
  },
  {
   "cell_type": "markdown",
   "metadata": {
    "heading_collapsed": true
   },
   "source": [
    "## Merge with official researcher list: PTJ"
   ]
  },
  {
   "cell_type": "code",
   "execution_count": 108,
   "metadata": {},
   "outputs": [],
   "source": [
    "AU=drive_files.read_drive_excel('Base_de_datos_investigadores_Definitiva.csv')"
   ]
  },
  {
   "cell_type": "code",
   "execution_count": 109,
   "metadata": {
    "hidden": true
   },
   "outputs": [
    {
     "name": "stdout",
     "output_type": "stream",
     "text": [
      "0\n",
      "1\n",
      "2\n",
      "3\n",
      "4\n",
      "5\n",
      "6\n",
      "7\n",
      "8\n",
      "9\n",
      "10\n",
      "11\n",
      "(15700, 181) (15700, 181)\n"
     ]
    }
   ],
   "source": [
    "UPDATE_UDEA_authors_with_AU=True\n",
    "if (UDEA['UDEA_authors'].dropna().shape[0] and \n",
    "    UPDATE_UDEA_authors_with_AU):\n",
    "    kkn=UDEA.copy()\n",
    "    kkn=update_institutional_authors(kkn,AU)\n",
    "    print(kkn.shape,UDEA.shape)\n",
    "    UDEA=kkn.copy()"
   ]
  },
  {
   "cell_type": "markdown",
   "metadata": {
    "hidden": true
   },
   "source": [
    "Quality check"
   ]
  },
  {
   "cell_type": "code",
   "execution_count": 110,
   "metadata": {
    "hidden": true
   },
   "outputs": [
    {
     "data": {
      "text/plain": [
       "1    [{'affiliation': ['Univ Antioquia, Inst Fis, Medellin 1226, Colombia.'], 'i': 0, 'WOS_author': 'Restrepo, Diego'}]\n",
       "2       [{'affiliation': ['Univ Antioquia, Inst Fis, Medellin 1226, Colombia.'], 'i': 0, 'WOS_author': 'Restrepo, D.'}]\n",
       "Name: authors_WOS, dtype: object"
      ]
     },
     "execution_count": 110,
     "metadata": {},
     "output_type": "execute_result"
    }
   ],
   "source": [
    "key_contains_in_list_of_dictionaries(UDEA,'Restrepo, D',column='authors_WOS',key='WOS_author').loc[1:2]"
   ]
  },
  {
   "cell_type": "code",
   "execution_count": 111,
   "metadata": {
    "hidden": true
   },
   "outputs": [],
   "source": [
    "if UPDATE_UDEA_authors_with_AU:\n",
    "    UDEA.to_json('UDEAtmp.json')\n",
    "    RECOVER=False\n",
    "    if RECOVER:\n",
    "        UDEA=pd.read_json('UDEAtmp.json').reset_index(drop=True)"
   ]
  },
  {
   "cell_type": "markdown",
   "metadata": {
    "heading_collapsed": true
   },
   "source": [
    "## Add `UDEA.authors_WOS` info* within `UDEA.UDEA_authors` data**\n",
    "(\\*) obtained from `UDEA.C1`\n",
    "\n",
    "(\\*\\*) Obtained from [puntaje trained old UDEA data](./WOS_SCI_SCP_PTJ_GS_LNS.ipynb#Merge-with-trained-data-set) and the [official researcher list](./WOS_SCI_SCP_PTJ_GS_LNS.ipynb#Merge-with-official-researcher-list)"
   ]
  },
  {
   "cell_type": "markdown",
   "metadata": {
    "hidden": true
   },
   "source": [
    "Obtain name parts and initials from full name in `UDEA_authors` dictionary and update `UDEA_authors` with them"
   ]
  },
  {
   "cell_type": "code",
   "execution_count": 112,
   "metadata": {},
   "outputs": [],
   "source": [
    "import sys\n",
    "if 'UDEA_authors' not in UDEA.columns and REBUILD==False:\n",
    "    sys.exit('Make MERGE_WITH_TRAINED True and run again')"
   ]
  },
  {
   "cell_type": "code",
   "execution_count": 113,
   "metadata": {},
   "outputs": [],
   "source": [
    "# Obtain spanish name parts from full name\n",
    "dictupdatetmp=UDEA['UDEA_authors'].apply(lambda x: [y.update( \n",
    "                split_full_names(y,full_name='full_name')  ) if not pd.isnull(\n",
    "                y.get('full_name')) else y for y in x] \n",
    "                                   if type(x)==list \n",
    "                                   else x)"
   ]
  },
  {
   "cell_type": "code",
   "execution_count": 114,
   "metadata": {
    "hidden": true
   },
   "outputs": [],
   "source": [
    "kk=UDEA['authors_WOS'].combine( UDEA['UDEA_authors'], func=combinewos )"
   ]
  },
  {
   "cell_type": "code",
   "execution_count": 115,
   "metadata": {},
   "outputs": [
    {
     "data": {
      "text/plain": [
       "[{'INICIALES': 'D. S.',\n",
       "  'NOMBRES': 'Del Socorro',\n",
       "  'PRIMER APELLIDO': 'Lopez',\n",
       "  'SEGUNDO APELLIDO': 'Gomez',\n",
       "  'WOS_affiliation': ['Univ Antioquia, Fac Ciencias Econ, Bogota, Colombia.'],\n",
       "  'WOS_author': ['Lopez Gomez, Maria del Socorro'],\n",
       "  'full_name': 'LOPEZ GOMEZ MARIA DEL SOCORRO'}]"
      ]
     },
     "execution_count": 115,
     "metadata": {},
     "output_type": "execute_result"
    }
   ],
   "source": [
    "UDEA['UDEA_authors'].loc[0]"
   ]
  },
  {
   "cell_type": "code",
   "execution_count": 116,
   "metadata": {
    "hidden": true
   },
   "outputs": [],
   "source": [
    "UDEA.to_json('UDEAtmp.json')"
   ]
  },
  {
   "cell_type": "markdown",
   "metadata": {
    "hidden": true
   },
   "source": [
    "### Load output restuls of previous Cell runs"
   ]
  },
  {
   "cell_type": "code",
   "execution_count": 117,
   "metadata": {
    "hidden": true
   },
   "outputs": [],
   "source": [
    "RECOVER=False\n",
    "if RECOVER:\n",
    "    UDEA=pd.read_json('UDEAtmp.json').reset_index(drop=True)"
   ]
  },
  {
   "cell_type": "markdown",
   "metadata": {
    "heading_collapsed": true
   },
   "source": [
    "## Build a single profile for all"
   ]
  },
  {
   "cell_type": "markdown",
   "metadata": {
    "hidden": true
   },
   "source": [
    "### Fill UDEA_authors with WOS_author info"
   ]
  },
  {
   "cell_type": "markdown",
   "metadata": {},
   "source": [
    "Obtain UDEA_authors DataFrame: `aunly`"
   ]
  },
  {
   "cell_type": "code",
   "execution_count": 118,
   "metadata": {},
   "outputs": [
    {
     "name": "stdout",
     "output_type": "stream",
     "text": [
      "TABORDA AGUDELO FARLAN\n"
     ]
    }
   ],
   "source": [
    "aunly=DataFrame_authors(UDEA)"
   ]
  },
  {
   "cell_type": "code",
   "execution_count": 119,
   "metadata": {
    "hidden": true
   },
   "outputs": [],
   "source": [
    "if not aunly.empty:\n",
    "    aunly.to_json('UDEA_authors_with_WOS_info.json')"
   ]
  },
  {
   "cell_type": "code",
   "execution_count": 120,
   "metadata": {
    "hidden": true
   },
   "outputs": [],
   "source": [
    "RECOVER=False\n",
    "if RECOVER:\n",
    "    UDEA=pd.read_json('UDEAtmp.json').reset_index(drop=True)"
   ]
  },
  {
   "cell_type": "code",
   "execution_count": 121,
   "metadata": {
    "hidden": true
   },
   "outputs": [
    {
     "data": {
      "text/plain": [
       "(15700, 181)"
      ]
     },
     "execution_count": 121,
     "metadata": {},
     "output_type": "execute_result"
    }
   ],
   "source": [
    "UDEA.shape"
   ]
  },
  {
   "cell_type": "code",
   "execution_count": 122,
   "metadata": {
    "hidden": true
   },
   "outputs": [],
   "source": [
    "if RECOVER:\n",
    "    if os.path.exists('UDEA_authors_with_WOS_info.json' ):\n",
    "        aunly=pd.read_json('UDEA_authors_with_WOS_info.json')\n",
    "    else:\n",
    "        aunly=drive_files.read_drive_json('UDEA_authors_with_WOS_info.json')"
   ]
  },
  {
   "cell_type": "code",
   "execution_count": 123,
   "metadata": {
    "hidden": true
   },
   "outputs": [
    {
     "data": {
      "text/plain": [
       "(1273, 2)"
      ]
     },
     "execution_count": 123,
     "metadata": {},
     "output_type": "execute_result"
    }
   ],
   "source": [
    "aunly.shape"
   ]
  },
  {
   "cell_type": "markdown",
   "metadata": {
    "hidden": true
   },
   "source": [
    "(800, 2)"
   ]
  },
  {
   "cell_type": "markdown",
   "metadata": {},
   "source": [
    "## Merge UDEA with authors"
   ]
  },
  {
   "cell_type": "code",
   "execution_count": 124,
   "metadata": {},
   "outputs": [],
   "source": [
    "UDEA['UDEA_authors']=UDEA['UDEA_authors'].apply(lambda l:fill_full_wos_author_info(l,aunly) )"
   ]
  },
  {
   "cell_type": "code",
   "execution_count": 125,
   "metadata": {},
   "outputs": [],
   "source": [
    "if UDEA['UDEA_authors'].dropna().shape[0]:\n",
    "    UDEA.to_json('UDEAtmp.json')"
   ]
  },
  {
   "cell_type": "code",
   "execution_count": 126,
   "metadata": {},
   "outputs": [],
   "source": [
    "RECOVER=False\n",
    "if RECOVER:\n",
    "    UDEA=pd.read_json('UDEAtmp.json').reset_index(drop=True)"
   ]
  },
  {
   "cell_type": "code",
   "execution_count": 127,
   "metadata": {},
   "outputs": [
    {
     "data": {
      "text/plain": [
       "(15700, 181)"
      ]
     },
     "execution_count": 127,
     "metadata": {},
     "output_type": "execute_result"
    }
   ],
   "source": [
    "UDEA.shape"
   ]
  },
  {
   "cell_type": "code",
   "execution_count": 128,
   "metadata": {},
   "outputs": [],
   "source": [
    "kk=UDEA.authors_WOS.combine(UDEA.UDEA_authors,func=lambda x,y: get_UDEA_authors(x,y,aunly))"
   ]
  },
  {
   "cell_type": "code",
   "execution_count": 129,
   "metadata": {},
   "outputs": [
    {
     "data": {
      "text/plain": [
       "(10312,)"
      ]
     },
     "execution_count": 129,
     "metadata": {},
     "output_type": "execute_result"
    }
   ],
   "source": [
    "UDEA.UDEA_authors.dropna().shape"
   ]
  },
  {
   "cell_type": "markdown",
   "metadata": {},
   "source": [
    "(7072,)"
   ]
  },
  {
   "cell_type": "markdown",
   "metadata": {},
   "source": [
    "(10960,)"
   ]
  },
  {
   "cell_type": "code",
   "execution_count": 130,
   "metadata": {},
   "outputs": [],
   "source": [
    "UDEA['UDEA_authors']=kk"
   ]
  },
  {
   "cell_type": "code",
   "execution_count": 131,
   "metadata": {},
   "outputs": [
    {
     "data": {
      "text/plain": [
       "((10900,), (15700, 181))"
      ]
     },
     "execution_count": 131,
     "metadata": {},
     "output_type": "execute_result"
    }
   ],
   "source": [
    "UDEA.UDEA_authors.dropna().shape,UDEA.shape"
   ]
  },
  {
   "cell_type": "markdown",
   "metadata": {},
   "source": [
    "((8446,), (15700, 169))"
   ]
  },
  {
   "cell_type": "markdown",
   "metadata": {},
   "source": [
    "((10963,), (15704, 181))"
   ]
  },
  {
   "cell_type": "code",
   "execution_count": 132,
   "metadata": {},
   "outputs": [
    {
     "data": {
      "text/plain": [
       "(1273, 2)"
      ]
     },
     "execution_count": 132,
     "metadata": {},
     "output_type": "execute_result"
    }
   ],
   "source": [
    "aunly.shape"
   ]
  },
  {
   "cell_type": "markdown",
   "metadata": {},
   "source": [
    "(1461, 2)"
   ]
  },
  {
   "cell_type": "code",
   "execution_count": 133,
   "metadata": {},
   "outputs": [
    {
     "name": "stdout",
     "output_type": "stream",
     "text": [
      "(1273, 2)\n"
     ]
    }
   ],
   "source": [
    "if not aunly.empty:\n",
    "    print(aunly.drop_duplicates('tmp_author').shape)"
   ]
  },
  {
   "cell_type": "code",
   "execution_count": 134,
   "metadata": {
    "hidden": true
   },
   "outputs": [],
   "source": [
    "if not aunly.empty:\n",
    "    aunly.to_json('UDEA_authors_with_WOS_info.json')"
   ]
  },
  {
   "cell_type": "code",
   "execution_count": 135,
   "metadata": {
    "hidden": true
   },
   "outputs": [],
   "source": [
    "RECOVER=False\n",
    "if RECOVER:\n",
    "    if os.path.exists('UDEA_authors_with_WOS_info.json' ):\n",
    "        aunly=pd.read_json('UDEA_authors_with_WOS_info.json')\n",
    "    else:\n",
    "        aunly=drive_files.read_drive_json('UDEA_authors_with_WOS_info.json')"
   ]
  },
  {
   "cell_type": "code",
   "execution_count": 136,
   "metadata": {},
   "outputs": [],
   "source": [
    "if UDEA['UDEA_authors'].dropna().shape[0]:\n",
    "    UDEA.to_json('UDEAtmp.json')"
   ]
  },
  {
   "cell_type": "code",
   "execution_count": 137,
   "metadata": {},
   "outputs": [],
   "source": [
    "if RECOVER:\n",
    "    UDEA=pd.read_json('UDEAtmp.json').reset_index(drop=True)"
   ]
  },
  {
   "cell_type": "code",
   "execution_count": 138,
   "metadata": {},
   "outputs": [],
   "source": [
    "UDEA.to_json('WOS_SCI_SCP_PTJ_CTR.json.gz',compression='gzip')"
   ]
  },
  {
   "cell_type": "code",
   "execution_count": 139,
   "metadata": {},
   "outputs": [
    {
     "name": "stdout",
     "output_type": "stream",
     "text": [
      "0 10312\n"
     ]
    }
   ],
   "source": [
    "if 'UDEA_autores' in UDEA.columns:\n",
    "    print(UDEA[UDEA['UDEA_autores']==''].shape[0],UDEA['UDEA_autores'].dropna().shape[0])"
   ]
  },
  {
   "cell_type": "code",
   "execution_count": 140,
   "metadata": {},
   "outputs": [
    {
     "name": "stdout",
     "output_type": "stream",
     "text": [
      "0 10900\n"
     ]
    }
   ],
   "source": [
    "if 'UDEA_authors' in UDEA.columns:\n",
    "    print(UDEA[UDEA['UDEA_authors']==''].shape[0],UDEA['UDEA_authors'].dropna().shape[0])"
   ]
  },
  {
   "cell_type": "code",
   "execution_count": 141,
   "metadata": {},
   "outputs": [
    {
     "ename": "SyntaxError",
     "evalue": "Missing parentheses in call to 'print' (<ipython-input-141-c94594b6b28f>, line 1)",
     "output_type": "error",
     "traceback": [
      "\u001b[0;36m  File \u001b[0;32m\"<ipython-input-141-c94594b6b28f>\"\u001b[0;36m, line \u001b[0;32m1\u001b[0m\n\u001b[0;31m    print 1\u001b[0m\n\u001b[0m          ^\u001b[0m\n\u001b[0;31mSyntaxError\u001b[0m\u001b[0;31m:\u001b[0m Missing parentheses in call to 'print'\n"
     ]
    }
   ],
   "source": [
    "print 1"
   ]
  },
  {
   "cell_type": "markdown",
   "metadata": {},
   "source": [
    "## Add PTJ directly from `UDEA_authors` with `WOS_info` DataFrame"
   ]
  },
  {
   "cell_type": "code",
   "execution_count": 445,
   "metadata": {},
   "outputs": [],
   "source": [
    "UDEA=pd.read_json('WOS_SCI_SCP_PTJ_CTR.json.gz',compression='gzip').reset_index(drop=True)"
   ]
  },
  {
   "cell_type": "code",
   "execution_count": 144,
   "metadata": {},
   "outputs": [],
   "source": [
    "def build_institutional_authors(x,author_df,x_author_key='WOS_author',x_affiliation_key='affiliation',\n",
    "                                        author_key='WOS_author',\n",
    "                                        affiliation_key='WOS_affiliation'):\n",
    "    if type(x)!=list:\n",
    "        return None\n",
    "    ll=[]\n",
    "    for j in range(len(x)):\n",
    "        \n",
    "                                #author_WOS→affiliation always have single affiliation\n",
    "        kk=find_author_affiliation(x[j].get(x_author_key),x[j].get(x_affiliation_key)[0],\n",
    "                                        author_df=author_df,\n",
    "                                        author_key=author_key,\n",
    "                                        affiliation_key=affiliation_key,\n",
    "                                        ratio=0.9 )\n",
    "        if kk:\n",
    "            ll.append(kk)\n",
    "    if not ll:\n",
    "        ll=None\n",
    "    return ll"
   ]
  },
  {
   "cell_type": "code",
   "execution_count": 145,
   "metadata": {},
   "outputs": [],
   "source": [
    "if not UDEA['UDEA_authors'].dropna().shape[0]:\n",
    "    UDEA['UDEA_authors']=UDEA.authors_WOS.apply(lambda l: build_institutional_authors(l,aunly) )"
   ]
  },
  {
   "cell_type": "markdown",
   "metadata": {},
   "source": [
    "## Experimental: Change similirity by merge search"
   ]
  },
  {
   "cell_type": "code",
   "execution_count": 466,
   "metadata": {},
   "outputs": [],
   "source": [
    "UDEA_YES=UDEA[~UDEA['UDEA_authors'].isna()].reset_index(drop=True)"
   ]
  },
  {
   "cell_type": "code",
   "execution_count": 467,
   "metadata": {},
   "outputs": [
    {
     "data": {
      "text/plain": [
       "(10902, 181)"
      ]
     },
     "execution_count": 467,
     "metadata": {},
     "output_type": "execute_result"
    }
   ],
   "source": [
    "UDEA_YES.shape"
   ]
  },
  {
   "cell_type": "code",
   "execution_count": 468,
   "metadata": {},
   "outputs": [],
   "source": [
    "import fuzzywuzzy.process as fwp\n",
    "from fuzzywuzzy import fuzz\n",
    "UDEA_NOT=UDEA[UDEA['UDEA_authors'].isna()].reset_index(drop=True)\n",
    "df2=pd.DataFrame( list( aunly['UDEA_authors'].values ) )\n",
    "df2['UDEA_authors']=aunly['UDEA_authors']\n",
    "contents=df2[['WOS_author','WOS_affiliation','UDEA_authors']].reset_index(drop=True)\n",
    "contents['WOS_author']=contents['WOS_author'].astype(str)\n",
    "contents['WOS_affiliation']=contents['WOS_affiliation'].astype(str)"
   ]
  },
  {
   "cell_type": "code",
   "execution_count": 469,
   "metadata": {},
   "outputs": [
    {
     "name": "stdout",
     "output_type": "stream",
     "text": [
      "Gutierrez, Carlos A. (\"['Velez, Carlos A.']\", 87, 71)\n"
     ]
    }
   ],
   "source": [
    "print( UDEA_NOT['authors_WOS'].loc[0][0].get('WOS_author'),\n",
    "      fwp.extractOne(  UDEA_NOT['authors_WOS'].loc[0][0].get('WOS_author'),\n",
    "                     contents['WOS_author'],scorer=fuzz.partial_ratio  ) )"
   ]
  },
  {
   "cell_type": "code",
   "execution_count": 470,
   "metadata": {},
   "outputs": [
    {
     "name": "stdout",
     "output_type": "stream",
     "text": [
      "3912\n",
      "1544\n",
      "876\n",
      "426\n",
      "203\n",
      "102\n",
      "54\n",
      "34\n",
      "14\n",
      "5\n",
      "3\n",
      "1\n",
      "1\n",
      "1\n",
      "1\n",
      "1\n",
      "1\n",
      "1\n",
      "1\n",
      "1\n",
      "1\n",
      "310.33805799484253\n"
     ]
    }
   ],
   "source": [
    "pr_author_min=95\n",
    "pr_affiliation_min=60\n",
    "scorer=fuzz.partial_ratio\n",
    "df1['TI']=UDEA_NOT[['TI']].copy()\n",
    "df1['UDEA_authors_raw']='[]'\n",
    "df1['UDEA_authors_raw']=df1['UDEA_authors_raw'].apply(lambda s: eval(s))\n",
    "import time\n",
    "\n",
    "s=time.time()\n",
    "#intialize result dataframe\n",
    "for i in range(UDEA_NOT['authors_WOS'].apply(len).max()):\n",
    "#if True:\n",
    "    kk=pd.DataFrame( list(  UDEA_NOT['authors_WOS'].str[i].apply(\n",
    "                lambda d: d if type(d)==dict else {} ).values )).reset_index(drop=True)\n",
    "    df1['WOS_author' ]=kk['WOS_author' ]\n",
    "    df1['affiliation']=kk['affiliation']    \n",
    "    df1=df1.reset_index(drop=True)\n",
    "    \n",
    "    df1['mtch']=df1['WOS_author'].apply(lambda s: \n",
    "                    list(fwp.extractOne(s,contents['WOS_author'],scorer=scorer ))  \n",
    "                           if type(s)==str else s)\n",
    "\n",
    "\n",
    "    # Prepare merge with affiliations\n",
    "    df1['mtch_0']=df1['mtch'].str[0]\n",
    "\n",
    "    kk=df1[['mtch_0']].merge( contents,left_on='mtch_0',right_on='WOS_author',how='left')\n",
    "    nmtch=kk['UDEA_authors'].dropna().shape[0]\n",
    "    print(nmtch)\n",
    "    if not nmtch:\n",
    "        break\n",
    "    df1['aff']=kk['WOS_affiliation']\n",
    "    df1['UDEA_authors_j']=kk['UDEA_authors']\n",
    "\n",
    "    df1['aff_pr']=df1['affiliation'].astype(str).combine( \n",
    "                  df1['aff'],func=lambda s,r: scorer(s,r) \n",
    "                  if type(s)==str and type(r)==str else 0)\n",
    "    \n",
    "    tmp=df1['UDEA_authors_j'].combine(\n",
    "          df1['mtch'].str[1],func=lambda d,x: d.update({'pr_author':x}) \n",
    "          if type(d)==dict else d)\n",
    "    tmp=df1['UDEA_authors_j'].combine(\n",
    "          df1['aff_pr'],func=lambda d,x: d.update({'pr_affiliation':x})\n",
    "          if type(d)==dict else d)\n",
    "    \n",
    "    tmp=df1['UDEA_authors_raw'].combine(df1['UDEA_authors_j'],func=\n",
    "                            lambda l,d: l.append(d) if type(d)==dict else l )\n",
    "    \n",
    "df1['UDEA_authors']=df1['UDEA_authors_raw'].apply(lambda l: \n",
    "                          [d for d in l if d.get('pr_author')>pr_author_min and \n",
    "                              d.get('pr_affiliation')>pr_affiliation_min ] \n",
    "                          if type(l)==list else l).apply(\n",
    "                          lambda l: l if l else None )\n",
    "print(time.time()-s)"
   ]
  },
  {
   "cell_type": "code",
   "execution_count": 471,
   "metadata": {},
   "outputs": [],
   "source": [
    "UDEA_NOT['UDEA_authors']=df1['UDEA_authors']"
   ]
  },
  {
   "cell_type": "code",
   "execution_count": 472,
   "metadata": {},
   "outputs": [
    {
     "data": {
      "text/plain": [
       "(923,)"
      ]
     },
     "execution_count": 472,
     "metadata": {},
     "output_type": "execute_result"
    }
   ],
   "source": [
    "UDEA_NOT['UDEA_authors'].dropna().shape"
   ]
  },
  {
   "cell_type": "code",
   "execution_count": 436,
   "metadata": {},
   "outputs": [],
   "source": [
    "UDEA=UDEA_YES.append(UDEA_NOT).reset_index(drop=True)"
   ]
  },
  {
   "cell_type": "code",
   "execution_count": 438,
   "metadata": {},
   "outputs": [
    {
     "data": {
      "text/plain": [
       "(11825,)"
      ]
     },
     "execution_count": 438,
     "metadata": {},
     "output_type": "execute_result"
    }
   ],
   "source": [
    "UDEA['UDEA_authors'].dropna().shape"
   ]
  },
  {
   "cell_type": "code",
   "execution_count": 292,
   "metadata": {},
   "outputs": [],
   "source": [
    "mtch=df1[ pd.np.logical_and( df1['mtch'].str[1]>95,df1['aff_pr']>70 ) \n",
    "       ][['TI','UDEA_authors_j','WOS_author','mtch','affiliation','aff','aff_pr']].reset_index(drop=True)"
   ]
  },
  {
   "cell_type": "code",
   "execution_count": null,
   "metadata": {},
   "outputs": [],
   "source": [
    "df1['UDEA_authors_fin'].dropna().shape"
   ]
  },
  {
   "cell_type": "markdown",
   "metadata": {},
   "source": [
    "## Try other approachs"
   ]
  },
  {
   "cell_type": "code",
   "execution_count": 474,
   "metadata": {},
   "outputs": [],
   "source": [
    "wp.merge_with_close_matches??"
   ]
  },
  {
   "cell_type": "code",
   "execution_count": 477,
   "metadata": {},
   "outputs": [
    {
     "name": "stdout",
     "output_type": "stream",
     "text": [
      "Writing test.cfg\n"
     ]
    }
   ],
   "source": [
    "%%writefile test.cfg\n",
    "[FILES]\n",
    "Sample_WOS.xlsx = 1--LJZ4mYyQcaJ93xBdbnYj-ZzdjO2Wq2\n",
    "Sample_SCI.xlsx = 1-3a-hguQTk5ko8JRLCx--EKaslxGVscf\n",
    "Sample_SCP.xlsx = 1-IAWlMdp2U-9L2jvZUio04ub1Ym3PX-H"
   ]
  },
  {
   "cell_type": "code",
   "execution_count": 479,
   "metadata": {},
   "outputs": [],
   "source": [
    "cib=wp.wosplus('test.cfg')\n",
    "#cib.Debug=True\n",
    "cib.load_biblio('Sample_WOS.xlsx')\n",
    "cib.load_biblio('Sample_SCI.xlsx',prefix='SCI')\n",
    "cib.load_biblio('Sample_SCP.xlsx',prefix='SCP')"
   ]
  },
  {
   "cell_type": "code",
   "execution_count": 558,
   "metadata": {},
   "outputs": [],
   "source": [
    "def get_close_matches_Levenshtein(\n",
    "        word,\n",
    "        possibilities,\n",
    "        n=3,\n",
    "        cutoff=0.6,\n",
    "        full=False):\n",
    "    '''Replaces difflib.get_close_matches with faster algortihm based on\n",
    "       Levenshtein.ratio.\n",
    "       HINT: Similarity increase significatively after lower() and unidecode()\n",
    "\n",
    "       Refs: https://en.wikipedia.org/wiki/Levenshtein_distance\n",
    "    '''\n",
    "    import pandas as pd\n",
    "    import Levenshtein\n",
    "    if isinstance(possibilities, str):\n",
    "        possibilities = [possibilities]\n",
    "    rs = pd.DataFrame()\n",
    "    MATCH = False\n",
    "    for p in possibilities:\n",
    "        similarity = Levenshtein.ratio(word, p)\n",
    "        # print(word,'::',p,similarity)\n",
    "        # sys.exit()\n",
    "        if similarity >= cutoff:\n",
    "            MATCH = True\n",
    "            rs = rs.append({'similarity': similarity,\n",
    "                            'match': p}, ignore_index=True)\n",
    "\n",
    "    if MATCH:\n",
    "        rs = rs.sort_values(\n",
    "            'similarity', ascending=False).reset_index(drop=True)\n",
    "        if full:\n",
    "            return list(rs['match'][:n].values), list(\n",
    "                rs['similarity'][:n].values)\n",
    "        else:\n",
    "            return list(rs['match'][:n].values)\n",
    "    else:\n",
    "        if full:\n",
    "            return ([], 0)\n",
    "        else:\n",
    "            return []"
   ]
  },
  {
   "cell_type": "code",
   "execution_count": 592,
   "metadata": {},
   "outputs": [
    {
     "data": {
      "text/plain": [
       "(['treatment of an aedes aegypti colony with the cry11aa toxin for 54 generations results in the development of resistance'],\n",
       " [1.0])"
      ]
     },
     "execution_count": 592,
     "metadata": {},
     "output_type": "execute_result"
    }
   ],
   "source": [
    "get_close_matches_Levenshtein(\n",
    "            words[i], possibilities, n=1, cutoff=0, full=True)"
   ]
  },
  {
   "cell_type": "code",
   "execution_count": 595,
   "metadata": {},
   "outputs": [],
   "source": [
    "def get_close_matches_Levenshtein_new(\n",
    "        word,\n",
    "        possibilities,\n",
    "        n=1,\n",
    "        cutoff=0.6,\n",
    "        full=False):\n",
    "    '''cuttof used for backwards compatibility'''\n",
    "    r=fwp.extract(words[i],possibilities,scorer=scorer,limit=n)\n",
    "    if full:\n",
    "        return [t[0] for t in r],[t[1]/100. for t in r]\n",
    "    else:\n",
    "        return [t[0] for t in r]"
   ]
  },
  {
   "cell_type": "code",
   "execution_count": 597,
   "metadata": {},
   "outputs": [
    {
     "data": {
      "text/plain": [
       "(['treatment of an aedes aegypti colony with the cry11aa toxin for 54 generations results in the development of resistance',\n",
       "  'interaction between paracoccidioides brasiliensis conidia and the coagulation system: involvement of fibrinogen'],\n",
       " [1.0, 0.47])"
      ]
     },
     "execution_count": 597,
     "metadata": {},
     "output_type": "execute_result"
    }
   ],
   "source": [
    "get_close_matches_Levenshtein_new(\n",
    "            words[i], possibilities, n=2, cutoff=0, full=True)"
   ]
  },
  {
   "cell_type": "code",
   "execution_count": 536,
   "metadata": {},
   "outputs": [],
   "source": [
    "def merge_with_close_matches_new(\n",
    "        left,\n",
    "        right,\n",
    "        left_on='ST',\n",
    "        right_on='UDEA_simple_título',\n",
    "        left_extra_on='SO',\n",
    "        right_extra_on='UDEA_nombre revista o premio',\n",
    "        how='inner',\n",
    "        n=1,\n",
    "        cutoff=0.6,\n",
    "        full=True,\n",
    "        cutoff_extra=0.6):\n",
    "    '''For each entry of the column: left_on of DataFrame left (cannot have empty fields),\n",
    "       try to find the close match inside each row of right DataFrame, by comparing with\n",
    "       the right_on entry of the row. When a row match is found, the full right row is appended\n",
    "       to the matched row in the left DataFrame.\n",
    "       If the similarity between the entries at left_on and right_on is less than 0.8,\n",
    "       an additional check is performed between the entries left_extra_on and right_extra_on\n",
    "       of the matched row.\n",
    "\n",
    "       how implemented: inner and left (Default: inner)\n",
    "    '''\n",
    "    import numpy as np\n",
    "    from unidecode import unidecode\n",
    "    import pandas as pd\n",
    "    # import sys #import globally\n",
    "    # print(left[left_on][0])\n",
    "    # sys.exit()\n",
    "    words = left[left_on].str.lower().map(unidecode)\n",
    "    possibilities = right[right_on].str.lower().map(unidecode)\n",
    "\n",
    "    joined = pd.DataFrame()\n",
    "    mi = np.array([])\n",
    "    for i in left.index:\n",
    "        if i % 100 == 0:\n",
    "            print('.', end=\"\")\n",
    "        joined_series = left.loc[i]\n",
    "        #joined_series=joined_series.append(pd.Series( {similarity_column:0} ))\n",
    "        title, similarity = get_close_matches_Levenshtein(\n",
    "            words[i], possibilities, n=n, cutoff=cutoff, full=full)\n",
    "        # print(i,words[i],title,similarity) #cutuff 0.6 0.7 0.8 0.85 0.91 0.95\n",
    "        # sys.exit()\n",
    "        if title:\n",
    "            mtch = right[possibilities == title[0]]\n",
    "            # >=cutoff, e.g 0.65 0.95 0.81 0.86 0.9 0.96\n",
    "            chk_cutoff = similarity[0]\n",
    "            crosscheck = cutoff + 0.2  # 0.8 # e.g. 0.8 0.9 0.9 0.9 0.9 0.9\n",
    "            if crosscheck >= 1:\n",
    "                # force check if match worst than this (by experience)\n",
    "                crosscheck = 0.95\n",
    "            if chk_cutoff < crosscheck:  # e.g 0.65<0.8 0.95~<0.9 0.81~<0.0 0.86<0.9 0.91<~0.9 0.96~<0.9\n",
    "                if get_close_matches_Levenshtein(unidecode(left[left_extra_on][i].lower()), [unidecode(\n",
    "                        mtch[right_extra_on][mtch.index[0]].lower())], cutoff=cutoff_extra):  # cutoff=0.6\n",
    "                    chk_cutoff = crosscheck + 0.1\n",
    "\n",
    "            if chk_cutoff >= crosscheck:\n",
    "                joined_series = joined_series.append(mtch.loc[mtch.index[0]])\n",
    "                if how == 'outer':\n",
    "                    mi = np.concatenate((mi, mtch.index.values))\n",
    "                # joined_series[similarity_column]=similarity[0]\n",
    "\n",
    "            #return joined_series\n",
    "            if how == 'inner':\n",
    "                joined = joined.append(joined_series, ignore_index=True)\n",
    "\n",
    "        if (how == 'left' or 'outer'):\n",
    "            joined = joined.append(joined_series, ignore_index=True)\n",
    "    if how == 'outer':\n",
    "        joined = joined.append(right.drop(\n",
    "            right.index[list(mi.astype(int))]).reset_index(drop=True))\n",
    "    return joined"
   ]
  },
  {
   "cell_type": "code",
   "execution_count": 537,
   "metadata": {},
   "outputs": [
    {
     "name": "stdout",
     "output_type": "stream",
     "text": [
      "."
     ]
    }
   ],
   "source": [
    "kk=merge_with_close_matches_new(cib.biblio['WOS'],cib.biblio['SCI'].drop('Tipo',axis='columns'),\n",
    "                            left_on='TI',right_on='SCI_TI',right_extra_on='SCI_SO',how='left')"
   ]
  },
  {
   "cell_type": "code",
   "execution_count": null,
   "metadata": {},
   "outputs": [],
   "source": []
  }
 ],
 "metadata": {
  "colab": {
   "include_colab_link": true,
   "name": "merge.ipynb",
   "provenance": [],
   "version": "0.3.2"
  },
  "kernelspec": {
   "display_name": "Python 3",
   "language": "python",
   "name": "python3"
  },
  "language_info": {
   "codemirror_mode": {
    "name": "ipython",
    "version": 3
   },
   "file_extension": ".py",
   "mimetype": "text/x-python",
   "name": "python",
   "nbconvert_exporter": "python",
   "pygments_lexer": "ipython3",
   "version": "3.5.3"
  },
  "latex_envs": {
   "LaTeX_envs_menu_present": true,
   "autoclose": false,
   "autocomplete": true,
   "bibliofile": "biblio.bib",
   "cite_by": "apalike",
   "current_citInitial": 1,
   "eqLabelWithNumbers": true,
   "eqNumInitial": 1,
   "hotkeys": {
    "equation": "Ctrl-E",
    "itemize": "Ctrl-I"
   },
   "labels_anchors": false,
   "latex_user_defs": false,
   "report_style_numbering": false,
   "user_envs_cfg": false
  }
 },
 "nbformat": 4,
 "nbformat_minor": 2
}
