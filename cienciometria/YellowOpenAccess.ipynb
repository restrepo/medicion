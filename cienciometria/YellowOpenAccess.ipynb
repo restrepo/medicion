{
  "nbformat": 4,
  "nbformat_minor": 0,
  "metadata": {
    "colab": {
      "name": "Untitled",
      "version": "0.3.2",
      "provenance": [],
      "toc_visible": true,
      "include_colab_link": true
    },
    "kernelspec": {
      "name": "python3",
      "display_name": "Python 3"
    }
  },
  "cells": [
    {
      "cell_type": "markdown",
      "metadata": {
        "id": "view-in-github",
        "colab_type": "text"
      },
      "source": [
        "[View in Colaboratory](https://colab.research.google.com/github/restrepo/medicion/blob/master/cienciometria/YellowOpenAccess.ipynb)"
      ]
    },
    {
      "metadata": {
        "id": "QuPGEK7exDhE",
        "colab_type": "text"
      },
      "cell_type": "markdown",
      "source": [
        "# [Yellow Open Access](https://info.reprintsdesk.com/about/blog/2017/the-many-colors-of-open-access) DOI list from [oadoi.org](https://oadoi.org)"
      ]
    },
    {
      "metadata": {
        "id": "IAjy8qlJqbxu",
        "colab_type": "code",
        "colab": {}
      },
      "cell_type": "code",
      "source": [
        "!pip install openpyxl xlrd pymysql unidecode > /dev/null\n"
      ],
      "execution_count": 0,
      "outputs": []
    },
    {
      "metadata": {
        "id": "D1rxenC9vHu_",
        "colab_type": "code",
        "colab": {}
      },
      "cell_type": "code",
      "source": [
        "import pandas as pd\n",
        "import time"
      ],
      "execution_count": 0,
      "outputs": []
    },
    {
      "metadata": {
        "id": "6Z-P2unoqeYz",
        "colab_type": "code",
        "colab": {
          "base_uri": "https://localhost:8080/",
          "height": 122
        },
        "outputId": "dedbea9c-e9c8-4fd8-dd53-337553338d7c"
      },
      "cell_type": "code",
      "source": [
        "# Load the Drive helper and mount\n",
        "from google.colab import drive\n",
        "\n",
        "# This will prompt for authorization.\n",
        "drive.mount('/content/drive')\n"
      ],
      "execution_count": 2,
      "outputs": [
        {
          "output_type": "stream",
          "text": [
            "Go to this URL in a browser: https://accounts.google.com/o/oauth2/auth?client_id=947318989803-6bn6qk8qdgf4n4g3pfee6491hc0brc4i.apps.googleusercontent.com&redirect_uri=urn%3Aietf%3Awg%3Aoauth%3A2.0%3Aoob&scope=email%20https%3A%2F%2Fwww.googleapis.com%2Fauth%2Fdocs.test%20https%3A%2F%2Fwww.googleapis.com%2Fauth%2Fdrive%20https%3A%2F%2Fwww.googleapis.com%2Fauth%2Fdrive.photos.readonly%20https%3A%2F%2Fwww.googleapis.com%2Fauth%2Fpeopleapi.readonly&response_type=code\n",
            "\n",
            "Enter your authorization code:\n",
            "··········\n",
            "Mounted at /content/drive\n"
          ],
          "name": "stdout"
        }
      ]
    },
    {
      "metadata": {
        "id": "wC5vRb5PqhUw",
        "colab_type": "code",
        "colab": {}
      },
      "cell_type": "code",
      "source": [
        "OADOI_DATA=\"drive/My Drive/Colab Notebooks/Data/oadoi.csv\""
      ],
      "execution_count": 0,
      "outputs": []
    },
    {
      "metadata": {
        "id": "Kty-zMdMvnfK",
        "colab_type": "code",
        "colab": {
          "base_uri": "https://localhost:8080/",
          "height": 34
        },
        "outputId": "b5c8b646-2e51-41da-bb77-a7ed9124bb1e"
      },
      "cell_type": "code",
      "source": [
        "OADOI_DATA+\"oadoi.cvs\""
      ],
      "execution_count": 12,
      "outputs": [
        {
          "output_type": "execute_result",
          "data": {
            "text/plain": [
              "'drive/My Drive/Colab Notebooks/Dataoadoi.cvs'"
            ]
          },
          "metadata": {
            "tags": []
          },
          "execution_count": 12
        }
      ]
    },
    {
      "metadata": {
        "id": "Ai_JU0MDwANd",
        "colab_type": "code",
        "colab": {
          "base_uri": "https://localhost:8080/",
          "height": 34
        },
        "outputId": "c23c1d4d-f1d2-44ac-cd4d-a3db9118f51d"
      },
      "cell_type": "code",
      "source": [
        "pwd"
      ],
      "execution_count": 17,
      "outputs": [
        {
          "output_type": "execute_result",
          "data": {
            "text/plain": [
              "'/content'"
            ]
          },
          "metadata": {
            "tags": []
          },
          "execution_count": 17
        }
      ]
    },
    {
      "metadata": {
        "id": "0kdYda8evKtl",
        "colab_type": "code",
        "colab": {
          "base_uri": "https://localhost:8080/",
          "height": 34
        },
        "outputId": "caa28131-e67c-4c6c-a3d7-d5446e5899df"
      },
      "cell_type": "code",
      "source": [
        "s=time.time()\n",
        "oadoi=pd.read_csv(OADOI_DATA)\n",
        "print(time.time()-s)"
      ],
      "execution_count": 23,
      "outputs": [
        {
          "output_type": "stream",
          "text": [
            "19.42616367340088\n"
          ],
          "name": "stdout"
        }
      ]
    },
    {
      "metadata": {
        "id": "5FYLGgSSvTW3",
        "colab_type": "code",
        "colab": {
          "base_uri": "https://localhost:8080/",
          "height": 1969
        },
        "outputId": "068e0767-215f-477d-981e-49c79bc52bf1"
      },
      "cell_type": "code",
      "source": [
        "oadoi"
      ],
      "execution_count": 24,
      "outputs": [
        {
          "output_type": "execute_result",
          "data": {
            "text/html": [
              "<div>\n",
              "<style scoped>\n",
              "    .dataframe tbody tr th:only-of-type {\n",
              "        vertical-align: middle;\n",
              "    }\n",
              "\n",
              "    .dataframe tbody tr th {\n",
              "        vertical-align: top;\n",
              "    }\n",
              "\n",
              "    .dataframe thead th {\n",
              "        text-align: right;\n",
              "    }\n",
              "</style>\n",
              "<table border=\"1\" class=\"dataframe\">\n",
              "  <thead>\n",
              "    <tr style=\"text-align: right;\">\n",
              "      <th></th>\n",
              "      <th>DOI</th>\n",
              "    </tr>\n",
              "  </thead>\n",
              "  <tbody>\n",
              "    <tr>\n",
              "      <th>0</th>\n",
              "      <td>10.1097/00007890-201007272-00675</td>\n",
              "    </tr>\n",
              "    <tr>\n",
              "      <th>1</th>\n",
              "      <td>10.6118/jmm.2017.23.2.135</td>\n",
              "    </tr>\n",
              "    <tr>\n",
              "      <th>2</th>\n",
              "      <td>10.1371/journal.pone.0144703.g008</td>\n",
              "    </tr>\n",
              "    <tr>\n",
              "      <th>3</th>\n",
              "      <td>10.1002/j.2333-8504.2008.tb02147.x</td>\n",
              "    </tr>\n",
              "    <tr>\n",
              "      <th>4</th>\n",
              "      <td>10.1351/goldbook.s05545</td>\n",
              "    </tr>\n",
              "    <tr>\n",
              "      <th>5</th>\n",
              "      <td>10.1371/journal.pone.0073259.s001</td>\n",
              "    </tr>\n",
              "    <tr>\n",
              "      <th>6</th>\n",
              "      <td>10.1371/journal.pgen.0020184.g005</td>\n",
              "    </tr>\n",
              "    <tr>\n",
              "      <th>7</th>\n",
              "      <td>10.1371/journal.pone.0107486.s003</td>\n",
              "    </tr>\n",
              "    <tr>\n",
              "      <th>8</th>\n",
              "      <td>10.1093/ndt/gfq052</td>\n",
              "    </tr>\n",
              "    <tr>\n",
              "      <th>9</th>\n",
              "      <td>10.1016/j.ahj.2015.02.019</td>\n",
              "    </tr>\n",
              "    <tr>\n",
              "      <th>10</th>\n",
              "      <td>10.1017/s1757748900001316</td>\n",
              "    </tr>\n",
              "    <tr>\n",
              "      <th>11</th>\n",
              "      <td>10.1136/bmj.39086.497639.68</td>\n",
              "    </tr>\n",
              "    <tr>\n",
              "      <th>12</th>\n",
              "      <td>10.4097/kjae.1988.21.5.833</td>\n",
              "    </tr>\n",
              "    <tr>\n",
              "      <th>13</th>\n",
              "      <td>10.1111/j.1750-3639.2011.00526.x</td>\n",
              "    </tr>\n",
              "    <tr>\n",
              "      <th>14</th>\n",
              "      <td>10.1111/str.12105</td>\n",
              "    </tr>\n",
              "    <tr>\n",
              "      <th>15</th>\n",
              "      <td>10.1093/jnci/djj296</td>\n",
              "    </tr>\n",
              "    <tr>\n",
              "      <th>16</th>\n",
              "      <td>10.7494/jcme.2017.1.2.48</td>\n",
              "    </tr>\n",
              "    <tr>\n",
              "      <th>17</th>\n",
              "      <td>10.1002/uog.4659</td>\n",
              "    </tr>\n",
              "    <tr>\n",
              "      <th>18</th>\n",
              "      <td>10.1179/1059865015z.00000000097</td>\n",
              "    </tr>\n",
              "    <tr>\n",
              "      <th>19</th>\n",
              "      <td>10.3791/54883</td>\n",
              "    </tr>\n",
              "    <tr>\n",
              "      <th>20</th>\n",
              "      <td>10.1371/journal.pone.0130331.t001</td>\n",
              "    </tr>\n",
              "    <tr>\n",
              "      <th>21</th>\n",
              "      <td>10.1016/j.jdent.2015.04.006</td>\n",
              "    </tr>\n",
              "    <tr>\n",
              "      <th>22</th>\n",
              "      <td>10.1007/s13238-012-2107-5</td>\n",
              "    </tr>\n",
              "    <tr>\n",
              "      <th>23</th>\n",
              "      <td>10.1086/307253</td>\n",
              "    </tr>\n",
              "    <tr>\n",
              "      <th>24</th>\n",
              "      <td>10.1088/0954-3899/30/8/e03</td>\n",
              "    </tr>\n",
              "    <tr>\n",
              "      <th>25</th>\n",
              "      <td>10.1016/0370-2693(90)91347-e</td>\n",
              "    </tr>\n",
              "    <tr>\n",
              "      <th>26</th>\n",
              "      <td>10.1111/jnc.13643</td>\n",
              "    </tr>\n",
              "    <tr>\n",
              "      <th>27</th>\n",
              "      <td>10.1002/ajh.2830280221</td>\n",
              "    </tr>\n",
              "    <tr>\n",
              "      <th>28</th>\n",
              "      <td>10.1103/physrevlett.115.152001</td>\n",
              "    </tr>\n",
              "    <tr>\n",
              "      <th>29</th>\n",
              "      <td>10.1016/s0168-6445(03)00021-4</td>\n",
              "    </tr>\n",
              "    <tr>\n",
              "      <th>...</th>\n",
              "      <td>...</td>\n",
              "    </tr>\n",
              "    <tr>\n",
              "      <th>22431243</th>\n",
              "      <td>10.1270/jsbbr.3.187</td>\n",
              "    </tr>\n",
              "    <tr>\n",
              "      <th>22431244</th>\n",
              "      <td>10.4045/tidsskr.14.0574</td>\n",
              "    </tr>\n",
              "    <tr>\n",
              "      <th>22431245</th>\n",
              "      <td>10.12928/telkomnika.v15i1.3164</td>\n",
              "    </tr>\n",
              "    <tr>\n",
              "      <th>22431246</th>\n",
              "      <td>10.1175/1520-0493(1992)120&lt;2821:tpswab&gt;2.0.co;2</td>\n",
              "    </tr>\n",
              "    <tr>\n",
              "      <th>22431247</th>\n",
              "      <td>10.18036/aubtdc.291667</td>\n",
              "    </tr>\n",
              "    <tr>\n",
              "      <th>22431248</th>\n",
              "      <td>10.3897/zookeys.488.8123.figures1-2</td>\n",
              "    </tr>\n",
              "    <tr>\n",
              "      <th>22431249</th>\n",
              "      <td>10.15763/issn.2374-7781.2006.27.0.261-266</td>\n",
              "    </tr>\n",
              "    <tr>\n",
              "      <th>22431250</th>\n",
              "      <td>10.1590/s1678-58782012000400003</td>\n",
              "    </tr>\n",
              "    <tr>\n",
              "      <th>22431251</th>\n",
              "      <td>10.1214/ejp.v16-935</td>\n",
              "    </tr>\n",
              "    <tr>\n",
              "      <th>22431252</th>\n",
              "      <td>10.3923/pjbs.2008.448.452</td>\n",
              "    </tr>\n",
              "    <tr>\n",
              "      <th>22431253</th>\n",
              "      <td>10.2333/jbhmk.12.2_8</td>\n",
              "    </tr>\n",
              "    <tr>\n",
              "      <th>22431254</th>\n",
              "      <td>10.1371/journal.pone.0009537.g008</td>\n",
              "    </tr>\n",
              "    <tr>\n",
              "      <th>22431255</th>\n",
              "      <td>10.1103/physreva.84.042507</td>\n",
              "    </tr>\n",
              "    <tr>\n",
              "      <th>22431256</th>\n",
              "      <td>10.3169/itej.67.1021</td>\n",
              "    </tr>\n",
              "    <tr>\n",
              "      <th>22431257</th>\n",
              "      <td>10.1016/j.procir.2015.02.130</td>\n",
              "    </tr>\n",
              "    <tr>\n",
              "      <th>22431258</th>\n",
              "      <td>10.1590/s0103-40141997000200020</td>\n",
              "    </tr>\n",
              "    <tr>\n",
              "      <th>22431259</th>\n",
              "      <td>10.2172/5406681</td>\n",
              "    </tr>\n",
              "    <tr>\n",
              "      <th>22431260</th>\n",
              "      <td>10.1371/journal.pone.0086156.t001</td>\n",
              "    </tr>\n",
              "    <tr>\n",
              "      <th>22431261</th>\n",
              "      <td>10.1038/419417b</td>\n",
              "    </tr>\n",
              "    <tr>\n",
              "      <th>22431262</th>\n",
              "      <td>10.1152/japplphysiol.01141.2012</td>\n",
              "    </tr>\n",
              "    <tr>\n",
              "      <th>22431263</th>\n",
              "      <td>10.1371/journal.pone.0167891</td>\n",
              "    </tr>\n",
              "    <tr>\n",
              "      <th>22431264</th>\n",
              "      <td>10.1371/journal.pone.0159269.s004</td>\n",
              "    </tr>\n",
              "    <tr>\n",
              "      <th>22431265</th>\n",
              "      <td>10.1177/145507259100800503</td>\n",
              "    </tr>\n",
              "    <tr>\n",
              "      <th>22431266</th>\n",
              "      <td>10.11591/telkomnika.v11i12.2515</td>\n",
              "    </tr>\n",
              "    <tr>\n",
              "      <th>22431267</th>\n",
              "      <td>10.1136/bmj.312.7045.1542a</td>\n",
              "    </tr>\n",
              "    <tr>\n",
              "      <th>22431268</th>\n",
              "      <td>10.6017/ihe.2006.42.7883</td>\n",
              "    </tr>\n",
              "    <tr>\n",
              "      <th>22431269</th>\n",
              "      <td>10.5771/0032-3470-2011-3-598</td>\n",
              "    </tr>\n",
              "    <tr>\n",
              "      <th>22431270</th>\n",
              "      <td>10.5631/jibirin.93.174</td>\n",
              "    </tr>\n",
              "    <tr>\n",
              "      <th>22431271</th>\n",
              "      <td>10.1006/inco.1993.1036</td>\n",
              "    </tr>\n",
              "    <tr>\n",
              "      <th>22431272</th>\n",
              "      <td>10.1017/s0950268800030259</td>\n",
              "    </tr>\n",
              "  </tbody>\n",
              "</table>\n",
              "<p>22431273 rows × 1 columns</p>\n",
              "</div>"
            ],
            "text/plain": [
              "                                                      DOI\n",
              "0                        10.1097/00007890-201007272-00675\n",
              "1                               10.6118/jmm.2017.23.2.135\n",
              "2                       10.1371/journal.pone.0144703.g008\n",
              "3                      10.1002/j.2333-8504.2008.tb02147.x\n",
              "4                                 10.1351/goldbook.s05545\n",
              "5                       10.1371/journal.pone.0073259.s001\n",
              "6                       10.1371/journal.pgen.0020184.g005\n",
              "7                       10.1371/journal.pone.0107486.s003\n",
              "8                                      10.1093/ndt/gfq052\n",
              "9                               10.1016/j.ahj.2015.02.019\n",
              "10                              10.1017/s1757748900001316\n",
              "11                            10.1136/bmj.39086.497639.68\n",
              "12                             10.4097/kjae.1988.21.5.833\n",
              "13                       10.1111/j.1750-3639.2011.00526.x\n",
              "14                                      10.1111/str.12105\n",
              "15                                    10.1093/jnci/djj296\n",
              "16                               10.7494/jcme.2017.1.2.48\n",
              "17                                       10.1002/uog.4659\n",
              "18                        10.1179/1059865015z.00000000097\n",
              "19                                          10.3791/54883\n",
              "20                      10.1371/journal.pone.0130331.t001\n",
              "21                            10.1016/j.jdent.2015.04.006\n",
              "22                              10.1007/s13238-012-2107-5\n",
              "23                                         10.1086/307253\n",
              "24                             10.1088/0954-3899/30/8/e03\n",
              "25                           10.1016/0370-2693(90)91347-e\n",
              "26                                      10.1111/jnc.13643\n",
              "27                                 10.1002/ajh.2830280221\n",
              "28                         10.1103/physrevlett.115.152001\n",
              "29                          10.1016/s0168-6445(03)00021-4\n",
              "...                                                   ...\n",
              "22431243                              10.1270/jsbbr.3.187\n",
              "22431244                          10.4045/tidsskr.14.0574\n",
              "22431245                   10.12928/telkomnika.v15i1.3164\n",
              "22431246  10.1175/1520-0493(1992)120<2821:tpswab>2.0.co;2\n",
              "22431247                           10.18036/aubtdc.291667\n",
              "22431248              10.3897/zookeys.488.8123.figures1-2\n",
              "22431249        10.15763/issn.2374-7781.2006.27.0.261-266\n",
              "22431250                  10.1590/s1678-58782012000400003\n",
              "22431251                              10.1214/ejp.v16-935\n",
              "22431252                        10.3923/pjbs.2008.448.452\n",
              "22431253                             10.2333/jbhmk.12.2_8\n",
              "22431254                10.1371/journal.pone.0009537.g008\n",
              "22431255                       10.1103/physreva.84.042507\n",
              "22431256                             10.3169/itej.67.1021\n",
              "22431257                     10.1016/j.procir.2015.02.130\n",
              "22431258                  10.1590/s0103-40141997000200020\n",
              "22431259                                  10.2172/5406681\n",
              "22431260                10.1371/journal.pone.0086156.t001\n",
              "22431261                                  10.1038/419417b\n",
              "22431262                  10.1152/japplphysiol.01141.2012\n",
              "22431263                     10.1371/journal.pone.0167891\n",
              "22431264                10.1371/journal.pone.0159269.s004\n",
              "22431265                       10.1177/145507259100800503\n",
              "22431266                  10.11591/telkomnika.v11i12.2515\n",
              "22431267                       10.1136/bmj.312.7045.1542a\n",
              "22431268                         10.6017/ihe.2006.42.7883\n",
              "22431269                     10.5771/0032-3470-2011-3-598\n",
              "22431270                           10.5631/jibirin.93.174\n",
              "22431271                           10.1006/inco.1993.1036\n",
              "22431272                        10.1017/s0950268800030259\n",
              "\n",
              "[22431273 rows x 1 columns]"
            ]
          },
          "metadata": {
            "tags": []
          },
          "execution_count": 24
        }
      ]
    },
    {
      "metadata": {
        "id": "lw8MT0lCvUkr",
        "colab_type": "code",
        "colab": {}
      },
      "cell_type": "code",
      "source": [
        ""
      ],
      "execution_count": 0,
      "outputs": []
    }
  ]
}