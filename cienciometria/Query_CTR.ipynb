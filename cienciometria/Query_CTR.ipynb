{
 "cells": [
  {
   "cell_type": "markdown",
   "metadata": {
    "colab_type": "text",
    "id": "view-in-github"
   },
   "source": [
    "<a href=\"https://colab.research.google.com/github/restrepo/medicion/blob/master/cienciometria/Query_CTR.ipynb\" target=\"_parent\"><img src=\"https://colab.research.google.com/assets/colab-badge.svg\" alt=\"Open In Colab\"/></a>"
   ]
  },
  {
   "cell_type": "markdown",
   "metadata": {
    "colab_type": "text",
    "id": "aDnqho-CsEwj"
   },
   "source": [
    "# Búsquedas WOS+SCI+SCP+PTJ+CTR para UdeA"
   ]
  },
  {
   "cell_type": "markdown",
   "metadata": {},
   "source": [
    "Búsquedas en bases bibligráficas  \n",
    "* Web of Science (WOS), \n",
    "* Scielo (SCI)\n",
    "* Scopus  (SCP)\n",
    "* Puntaje (UDEA)\n",
    "* Center (CTR)\n",
    "de los artículos científicos de la UdeA\n",
    "\n",
    "La base de datos se creó con:\n",
    "\n",
    "[WOS_SCI_SCP_PTJ_CTR.ipynb](./WOS_SCI_SCP_PTJ_CTR.ipynb)"
   ]
  },
  {
   "cell_type": "code",
   "execution_count": 1,
   "metadata": {},
   "outputs": [],
   "source": [
    "import os\n",
    "VERSION='NEW'\n",
    "if os.getcwd()=='/content':\n",
    "    !pip install openpyxl xlrd wosplus fuzzywuzzy[speedup] > /dev/null"
   ]
  },
  {
   "cell_type": "markdown",
   "metadata": {},
   "source": [
    "## functions"
   ]
  },
  {
   "cell_type": "code",
   "execution_count": 2,
   "metadata": {
    "colab": {},
    "colab_type": "code",
    "id": "nhk2ZGEDd2Yo"
   },
   "outputs": [],
   "source": [
    "import pandas as pd\n",
    "import wosplus as wp\n",
    "pd.set_option('display.max_colwidth',200)\n",
    "from venn import draw_venn, generate_colors\n",
    "import numpy as np\n",
    "import fuzzywuzzy.process as fwp\n",
    "from fuzzywuzzy import fuzz\n",
    "idc='CÉDULA'"
   ]
  },
  {
   "cell_type": "markdown",
   "metadata": {
    "colab_type": "text",
    "heading_collapsed": true,
    "id": "JS7jD1f47JUN"
   },
   "source": [
    "##  Configure public links of  files in Google Drive\n",
    "* If it is a Google Spreadsheet the corresponding file is downloaded as CSV\n",
    "* If it is in excel/json or text file the file is downloaded  directly\n",
    "\n",
    "To define your  own labeled IDs for public google drive files edit the next cell:"
   ]
  },
  {
   "cell_type": "code",
   "execution_count": 3,
   "metadata": {
    "colab": {
     "base_uri": "https://localhost:8080/",
     "height": 35
    },
    "colab_type": "code",
    "hidden": true,
    "id": "T4Rmd2dF7JUQ",
    "outputId": "39a5835e-1b38-48b6-f1a5-e9964c846123"
   },
   "outputs": [
    {
     "name": "stdout",
     "output_type": "stream",
     "text": [
      "Overwriting drive.cfg\n"
     ]
    }
   ],
   "source": [
    "%%writefile drive.cfg\n",
    "[FILES]\n",
    "WOS_SCI_SCP_PTJ_CTR.json.gz=19E1C1kRk4I0V3uXojqko8-NEicWaPp1j"
   ]
  },
  {
   "cell_type": "markdown",
   "metadata": {
    "colab_type": "text",
    "id": "Y0D0hEdAMXUX"
   },
   "source": [
    "##  Load data bases"
   ]
  },
  {
   "cell_type": "code",
   "execution_count": 4,
   "metadata": {
    "colab": {
     "base_uri": "https://localhost:8080/",
     "height": 35
    },
    "colab_type": "code",
    "id": "occzrIeCS7aQ",
    "outputId": "17b144f3-eef0-4c8a-c2b4-10c8fe55802c"
   },
   "outputs": [],
   "source": [
    "affil='Univ Antioquia'\n",
    "drive_files=wp.wosplus('drive.cfg')"
   ]
  },
  {
   "cell_type": "code",
   "execution_count": 5,
   "metadata": {},
   "outputs": [
    {
     "name": "stdout",
     "output_type": "stream",
     "text": [
      "WARNING: Biblio already has a \"Tipo\" column\n"
     ]
    }
   ],
   "source": [
    "UDEAjsonfile='WOS_SCI_SCP_PTJ_CTR.json.gz'\n",
    "tmp=drive_files.load_biblio(UDEAjsonfile,compression='gzip')\n",
    "UDEA=drive_files.biblio['WOS'].copy().reset_index(drop=True)"
   ]
  },
  {
   "cell_type": "code",
   "execution_count": 6,
   "metadata": {},
   "outputs": [],
   "source": [
    "#from check_quality import *\n",
    "#check_quality(UDEA)"
   ]
  },
  {
   "cell_type": "markdown",
   "metadata": {},
   "source": [
    "## Indices:\n",
    "Información obtenida de la columna: `json_column='UDEA_authors'`"
   ]
  },
  {
   "cell_type": "code",
   "execution_count": 7,
   "metadata": {},
   "outputs": [],
   "source": [
    "json_column='UDEA_authors'"
   ]
  },
  {
   "cell_type": "markdown",
   "metadata": {},
   "source": [
    "Que contiene listas de diccionarios con la información del autor UDEA: \n",
    "\n",
    "`{'DEPARTAMENTO': 'Instituto de Biología',\n",
    "  'FACULTAD': 'Facultad de Ciencias Exactas y Naturales',\n",
    "  'GRUPO': 'Sin Grupo Asociado',\n",
    "  'INICIALES': 'I.',\n",
    "  'NOMBRE COMPLETO': 'Idalyd Fonseca Gonzalez',\n",
    "  'NOMBRES': 'Idalyd',\n",
    "  'PRIMER APELLIDO': 'Fonseca',\n",
    "  'SEGUNDO APELLIDO': 'Gonzalez',\n",
    "  'WOS_affiliation': ['Univ Antioquia, Colombia.'],\n",
    "  'WOS_author': ['FONSECA, IDALYD',\n",
    "   'FONSECA-GONZALEZ, IDALYD',\n",
    "   'Fonseca-Gonzalez, Idalyd',\n",
    "   'Fonseca-Gonzalez, I.'],\n",
    "  'full_name': 'FONSECA GONZALEZ IDALYD'}`"
   ]
  },
  {
   "cell_type": "markdown",
   "metadata": {},
   "source": [
    "Otras columnas: `['OA','Z9'*,SCP_Cited by']`, `*`: WOS cited by\n",
    "\n",
    "Ver también [WOS field tags](https://images.webofknowledge.com/images/help/WOS/hs_wos_fieldtags.html)"
   ]
  },
  {
   "cell_type": "markdown",
   "metadata": {},
   "source": [
    "# Resultados totales"
   ]
  },
  {
   "cell_type": "markdown",
   "metadata": {},
   "source": [
    "Artículos no identificados:"
   ]
  },
  {
   "cell_type": "code",
   "execution_count": 159,
   "metadata": {},
   "outputs": [
    {
     "data": {
      "text/plain": [
       "3136"
      ]
     },
     "execution_count": 159,
     "metadata": {},
     "output_type": "execute_result"
    }
   ],
   "source": [
    "UDEA_NOT=UDEA[UDEA[json_column]==''].reset_index(drop=True)\n",
    "UDEA_NOT.shape[0]"
   ]
  },
  {
   "cell_type": "markdown",
   "metadata": {},
   "source": [
    "Artículos identificados"
   ]
  },
  {
   "cell_type": "code",
   "execution_count": 160,
   "metadata": {},
   "outputs": [
    {
     "data": {
      "text/plain": [
       "12564"
      ]
     },
     "execution_count": 160,
     "metadata": {},
     "output_type": "execute_result"
    }
   ],
   "source": [
    "UDEA_YES=UDEA[UDEA[json_column]!=''].reset_index(drop=True)\n",
    "UDEA_YES.shape[0]"
   ]
  },
  {
   "cell_type": "markdown",
   "metadata": {},
   "source": [
    "### Análisis sobre artículos identificados"
   ]
  },
  {
   "cell_type": "code",
   "execution_count": 161,
   "metadata": {},
   "outputs": [],
   "source": [
    "def flatten_if_nested(l):\n",
    "    flatten=False\n",
    "    for i in l:\n",
    "        if type(i)==list:\n",
    "            #return i\n",
    "            flatten=True\n",
    "    if flatten:\n",
    "        l=[item for sublist in l for item in sublist]\n",
    "        l=pd.np.array(l)\n",
    "    return l\n",
    "def extract_key(df,key,json_column='UDEA_authors'):\n",
    "    '''\n",
    "    Extract all the unique key values of the list of dictionaries in \n",
    "    a json column when the key value is a string or another list\n",
    "    '''\n",
    "    ll=df[json_column].apply(lambda l: np.unique([ d.get(key) for d in l \n",
    "                                if d.get(key) ]) if type(l)==list else l)\n",
    "    if ll.str[0].apply(lambda l: l if type(l)==list else None).dropna().shape[0]:\n",
    "        ll=ll.apply(flatten_if_nested)\n",
    "    ll=ll.apply(pd.Series).stack().values\n",
    "    return pd.DataFrame( {key:list(ll)} ).groupby(key)[key].count().sort_values(ascending=False)"
   ]
  },
  {
   "cell_type": "code",
   "execution_count": 162,
   "metadata": {
    "scrolled": true
   },
   "outputs": [
    {
     "data": {
      "text/plain": [
       "FACULTAD\n",
       "Facultad de Medicina                        3385\n",
       "Facultad de Ciencias Exactas y Naturales    2378\n",
       "Facultad de Ingeniería                      1947\n",
       "Facultad de Ciencias Agrarias                704\n",
       "Facultad de Ciencias Sociales y Humanas      227\n",
       "Facultad de Artes                             15\n",
       "Name: FACULTAD, dtype: int64"
      ]
     },
     "execution_count": 162,
     "metadata": {},
     "output_type": "execute_result"
    }
   ],
   "source": [
    "extract_key(UDEA_YES,'FACULTAD')"
   ]
  },
  {
   "cell_type": "code",
   "execution_count": 163,
   "metadata": {},
   "outputs": [
    {
     "data": {
      "text/plain": [
       "DEPARTAMENTO\n",
       "Departamento de Microbiología y Parasitología                   960\n",
       "Instituto de Física                                             903\n",
       "Instituto de Investigaciones Médicas                            783\n",
       "Departamento de Medicina Interna                                703\n",
       "Instituto de Química                                            693\n",
       "Instituto de Biología                                           677\n",
       "Departamento de  Producción Agropecuaria                        434\n",
       "Departamento de Pediatría y Puericultura                        412\n",
       "Departamento de Ingeniería Metalúrgica                          364\n",
       "Departamento de Ingeniería Sanitaria  y Ambiental               357\n",
       "Escuela de Medicina Veterinaria                                 325\n",
       "Departamento de Ingeniería Mecánica                             297\n",
       "Departamento de Ingeniería Quimica                              292\n",
       "Departamento de Cirugía                                         228\n",
       "Departamento de Fisiología                                      196\n",
       "Departamento de Siquiatría y Ciencias del Comportamiento Hum    191\n",
       "Departamento de Ingeniería Electrónica                          187\n",
       "Departamento de Ingeniería Eléctrica                            151\n",
       "Programa Bioingeniería                                          146\n",
       "Departamento de Matemáticas                                     143\n",
       "Departamento de Ingeniería de Sistemas                           99\n",
       "Programa Ingeniería de Telecomunicaciones                        99\n",
       "Departamento de Obstetricia y Ginecología                        97\n",
       "Departamento de Patología                                        88\n",
       "Departamento de Sicología                                        77\n",
       "Departamento de Antropología                                     72\n",
       "Departamento de Ingeniería Industrial                            69\n",
       "Departamento de Farmacología y Toxicología                       58\n",
       "Departamento de Sociología                                       45\n",
       "Departamento de Medicina Preventiva y Salud Pública              45\n",
       "Departamento de Radiología y Radioterapia                        43\n",
       "Departamento de Educación Médica                                 39\n",
       "Departamento de Bioquímica                                       29\n",
       "Departamento de Historia                                         25\n",
       "Programa Ingeniería Civil                                        22\n",
       "Departamento de Morfología                                       18\n",
       "Departamento de Medicina Física y Rehabilitación                 14\n",
       "Departamento de Trabajo Social                                    9\n",
       "Departamento de Música                                            7\n",
       "Departamento de Artes Visuales                                    6\n",
       "Departamento de Teatro                                            2\n",
       "Departamento de Psicoanálisis                                     1\n",
       "Name: DEPARTAMENTO, dtype: int64"
      ]
     },
     "execution_count": 163,
     "metadata": {},
     "output_type": "execute_result"
    }
   ],
   "source": [
    "extract_key(UDEA_YES,'DEPARTAMENTO')"
   ]
  },
  {
   "cell_type": "code",
   "execution_count": 164,
   "metadata": {},
   "outputs": [
    {
     "data": {
      "text/plain": [
       "GRUPO\n",
       "Sin Grupo Asociado                                                                                                                                                                                451\n",
       "Grupo de Materia Condensada-UdeA                                                                                                                                                                  261\n",
       "Inmunovirología                                                                                                                                                                                   251\n",
       "Centro de Investigación, Innovación y Desarrollo de Materiales - CIDEMAT - Anteriormente: Grupo de Corrosión y Protección                                                                         244\n",
       "Programa de Estudio y Control de Enfermedades Tropicales                                                                                                                                          239\n",
       "Grupo de Manejo Eficiente de la Energía, GIMEL                                                                                                                                                    228\n",
       "Grupo de Neurociencias de Antioquia                                                                                                                                                               225\n",
       "Grupo de Investigación en Ciencias Agrarias -GRICA-                                                                                                                                               214\n",
       "Inmunodeficiencias Primarias                                                                                                                                                                      194\n",
       "Grupo de Investigación en Psiquiatría GIPSI                                                                                                                                                       168\n",
       "Sistemas Embebidos e Inteligencia Computacional - SISTEMIC                                                                                                                                        163\n",
       "Genética Molecular (GENMOL)                                                                                                                                                                       147\n",
       "Química de Recursos Energéticos y Medio Ambiente                                                                                                                                                  144\n",
       "Grupo de Gastrohepatología                                                                                                                                                                        142\n",
       "Grupo de Investigación en Telecomunicaciones Aplicadas - GITA                                                                                                                                     140\n",
       "Grupo Reproducción, Grupo de Investigación en Trombosis                                                                                                                                           136\n",
       "Grupo de Inmunología Celular e Inmunogenética                                                                                                                                                     136\n",
       "Grupo Académico de Epidemiología Clínica                                                                                                                                                          130\n",
       "Grupo de Investigación Clínica en Enfermedades del Niño y del Adolescente - Pediaciencias                                                                                                         129\n",
       "GAMMA: Genética, Mejoramiento y Modelación Animal                                                                                                                                                 128\n",
       "Biogénesis                                                                                                                                                                                        126\n",
       "Salud y Comunidad                                                                                                                                                                                 123\n",
       "Grupo de Investigación en Patobiología -  QUIRÓN                                                                                                                                                  123\n",
       "Diagnóstico y Control de la Contaminación                                                                                                                                                         122\n",
       "Grupo de Ingeniería y Gestión Ambiental GIGA                                                                                                                                                      118\n",
       "Ciencia de los Materiales                                                                                                                                                                         111\n",
       "Procesos Químicos Industriales, Bioprocesos                                                                                                                                                       104\n",
       "Grupo de Optica y Fotónica                                                                                                                                                                         98\n",
       "Grupo Malaria                                                                                                                                                                                      98\n",
       "Grupo de Química-Física Teórica                                                                                                                                                                    91\n",
       "                                                                                                                                                                                                 ... \n",
       "Grupo de Biofísica-UdeA, Grupo de Optica y Fotónica, Grupo de Optica y Fotónica                                                                                                                     3\n",
       "Grupo de Estudio sobre Búfalos                                                                                                                                                                      3\n",
       "Álgebra, Teoría de Números y Aplicaciones: ERM, Álgebra U de A                                                                                                                                      3\n",
       "Grupo Académico de Epidemiología Clínica, Grupo de Investigación Clínica en Enfermedades del Niño y del Adolescente - Pediaciencias                                                                 3\n",
       "Grupo de Investigación Psicología, Sociedad y Subjetividades., Cultura, Violencia y Territorio                                                                                                      2\n",
       "Grupo de Investigación en Intervención Social, Grupo de Investigación Medio Ambiente y Sociedad                                                                                                     2\n",
       "Grupo de Investigación en Medicina Interna GIMI IPS UdeA                                                                                                                                            2\n",
       "Grupo de Investigación en Sistemas Agroambientales Sostenibles, Grupo de Investigación en Ciencias Agrarias -GRICA-                                                                                 2\n",
       "GISMAC. Grupo de Investigación en Sistemas Marinos y Costeros, ELICE-Ecología Lótica: Islas, Costas y Estuarios                                                                                     2\n",
       "Métodos Estocásticos                                                                                                                                                                                2\n",
       "Hipertrópico: Convergencia entre Arte y Tecnología                                                                                                                                                  2\n",
       "Teoría e Historia del Arte en Colombia                                                                                                                                                              2\n",
       "Centro de de Investigaciones Dermatologicas                                                                                                                                                         2\n",
       "Fisica Industrial y de la Radiacion                                                                                                                                                                 2\n",
       "Cultura, Política y Desarrollo Social                                                                                                                                                               2\n",
       "Simulación de Comportamientos de Sistemas (SICOSIS), GEPAR                                                                                                                                          2\n",
       "Simulación de Comportamientos de Sistemas (SICOSIS), Ludens                                                                                                                                         1\n",
       "Grupo de Energia Alternativa,                                                                                                                                                                       1\n",
       "Grupo de Artes Performativas                                                                                                                                                                        1\n",
       "Ingeniería y Software , Grupo de Investigación en Telecomunicaciones Aplicadas - GITA, Ingeniería y Tecnologías de las Organizaciones y de la Sociedad (ITOS), Biotecnología Básica y Aplicada      1\n",
       "MODELACION CON ECUACIONES DIFERENCIALES                                                                                                                                                             1\n",
       "Psicoanálisis, Sujeto y Sociedad                                                                                                                                                                    1\n",
       "NEDITRA - Grupo de investigación en nefrología, diálisis y trasplante                                                                                                                               1\n",
       "GISMAC. Grupo de Investigación en Sistemas Marinos y Costeros                                                                                                                                       1\n",
       "Historia Moderna y Contemporánea                                                                                                                                                                    1\n",
       "Historia de la Práctica Pedagógica en Colombia                                                                                                                                                      1\n",
       "Metodología de la Enseñanza de la Química                                                                                                                                                           1\n",
       "MORFOTECH                                                                                                                                                                                           1\n",
       "Cultura, Violencia y Territorio                                                                                                                                                                     1\n",
       "Ártes escénicas y del espectáculo                                                                                                                                                                   1\n",
       "Name: GRUPO, Length: 259, dtype: int64"
      ]
     },
     "execution_count": 164,
     "metadata": {},
     "output_type": "execute_result"
    }
   ],
   "source": [
    "extract_key(UDEA_YES,'GRUPO')"
   ]
  },
  {
   "cell_type": "code",
   "execution_count": 165,
   "metadata": {},
   "outputs": [
    {
     "data": {
      "text/plain": [
       "full_name\n",
       "DUQUE ECHEVERRI CARLOS ALBERTO            261\n",
       "VELEZ BERNAL IVAN DARIO                   128\n",
       "BEDOYA BERRIO GABRIEL DE JESUS            127\n",
       "CERON MUÑOZ MARIO FERNANDO                126\n",
       "LOPERA RESTREPO FRANCISCO JAVIER          125\n",
       "JAIMES BARRAGAN FABIAN ALBERTO            120\n",
       "RUGELES LOPEZ MARIA TERESA                118\n",
       "PEÑUELA MESA GUSTAVO ANTONIO              117\n",
       "CARMONA FONSECA JAIME DE JESUS            114\n",
       "OLIVERA ANGEL MARTHA EUFEMIA              102\n",
       "AMARILES MUÑOZ PEDRO JOSE                  98\n",
       "RESTREPO BETANCUR LUIS FERNANDO            97\n",
       "ROBLEDO RESTREPO SARA MARIA                95\n",
       "CARDONA MAYA WALTER DARIO                  94\n",
       "RIOS LUIS ALBERTO                          94\n",
       "CARDONA ARIAS JAIBERTH ANTONIO             93\n",
       "CADAVID JARAMILLO ANGELA PATRICIA          88\n",
       "ARDILA MEDINA CARLOS MARTIN                87\n",
       "BLAIR TRUJILLO SILVIA VICTORIA             86\n",
       "MORALES ARAMBURO ALVARO LUIS               86\n",
       "MONDRAGON PEREZ FANOR                      84\n",
       "RESTREPO COSSIO ALBEIRO ALONSO             81\n",
       "CORNEJO OCHOA JOSE WILLIAM                 79\n",
       "TRIANA CHAVEZ OMAR                         77\n",
       "AGUDELO SUAREZ ANDRES ALONSO               77\n",
       "RESTREPO VASQUEZ GLORIA MARIA              76\n",
       "LOPEZ OSORIO BETTY LUCY                    75\n",
       "GARCIA MORENO LUIS FERNANDO                75\n",
       "LOPEZ JARAMILLO CARLOS ALBERTO             74\n",
       "CALDERON GUTIERREZ JORGE ANDRES            73\n",
       "                                         ... \n",
       "ESCOBAR VASCO JOSE PABLO                    1\n",
       "ESCOBAR RESTREPO MARIA CECILIA              1\n",
       "PLATA CONTRERAS JESUS ALBERTO               1\n",
       "QUIROZ CARVAJAL JORGE ALONSO                1\n",
       "CUERVO VERGARA SERGIO AUGUSTO               1\n",
       "DA SILVEIRA ARRUDA NATALIA                  1\n",
       "DE LA CUESTA BENJUMEA MARIA DEL CARMEN      1\n",
       "DE LOS RIOS OSORIO JESUS                    1\n",
       "QUICENO CUARTAS PAULA ANDREA                1\n",
       "PULGARIN TORRES ANGELA MARIA                1\n",
       "DIAZ POSADA RODRIGO IGNACIO                 1\n",
       "POSADA URIBE LORD LARRY                     1\n",
       "POSADA PAOLA ANDREA                         1\n",
       "POSADA DUQUE RAFAEL ANDRES                  1\n",
       "POPPEL HUBERT                               1\n",
       "DUQUE NOREÑA MARIO ALBERTO                  1\n",
       "PEREZ PAREJA SANDRA PATRICIA                1\n",
       "DUQUE ROLDAN MARIA ISABEL                   1\n",
       "ECHEVERRI ECHEVERRI DIEGO MAURICIO          1\n",
       "PIEDRAHITA HINCAPIE ALEJANDRO               1\n",
       "ECHEVERRI RESTREPO CRUZANA AMPARO           1\n",
       "PIEDRAHITA ARCILA IRENE                     1\n",
       "ECHEVERRI ZULUAGA JONATHAN                  1\n",
       "PIAZZINI SUAREZ CARLO EMILIO                1\n",
       "PEREZ SANCHEZ JUAN MANUEL                   1\n",
       "ESCOBAR CIRO CARMEN LILIANA                 1\n",
       "ESCOBAR DE VILLALOBOS MARTHA LUCIA          1\n",
       "ESCOBAR ESCOBAR JUAN CARLOS                 1\n",
       "ESCOBAR MARTINEZ JOHN FERNANDO              1\n",
       "DE LOS RIOS DE LOS RIOS ALFREDO             1\n",
       "Name: full_name, Length: 1727, dtype: int64"
      ]
     },
     "execution_count": 165,
     "metadata": {},
     "output_type": "execute_result"
    }
   ],
   "source": [
    "extract_key(UDEA_YES,'full_name')"
   ]
  },
  {
   "cell_type": "markdown",
   "metadata": {},
   "source": [
    "# Búsquedas"
   ]
  },
  {
   "cell_type": "code",
   "execution_count": 166,
   "metadata": {},
   "outputs": [],
   "source": [
    "def extract_key_unique(*args,**kwargs):\n",
    "    keys=extract_key(*args,**kwargs).keys()\n",
    "    return [ k for k in keys if k]\n",
    "\n",
    "def get_groups(l,g):\n",
    "    for d in l:\n",
    "        gt=d.get('GRUPO')\n",
    "        if gt and type( gt )==str:\n",
    "            gs=gt.replace(\n",
    "                ', Grupo','; Grupo'\n",
    "            ).split('; ')\n",
    "            for gg in gs:\n",
    "                if gg not in g:\n",
    "                    g.append(gg)\n",
    "    return g\n",
    "\n",
    "facultades={'key':'FACULTAD',\n",
    "            'values' : extract_key_unique(UDEA,'FACULTAD',json_column='UDEA_authors') }\n",
    "departamentos={'key':'DEPARTAMENTO',\n",
    "            'values' :extract_key_unique(UDEA,'DEPARTAMENTO',json_column='UDEA_authors')}\n",
    "nombre_completo={'key'    : 'NOMBRE COMPLETO',\n",
    "            'values' : extract_key_unique(UDEA,'NOMBRE COMPLETO',json_column='UDEA_authors')}\n",
    "full_name={'key'    : 'full_name',\n",
    "            'values' : extract_key_unique(UDEA,'full_name',json_column='UDEA_authors')}\n",
    "udea_affiliations={'key'    : 'WOS_affiliation',\n",
    "            'values' : extract_key_unique(UDEA,'WOS_affiliation',json_column='UDEA_authors')}\n",
    "wos_affiliations={'key'    : 'affiliation',\n",
    "            'values' : extract_key_unique(UDEA,'WOS_affiliation',json_column='authors_WOS')}\n",
    "udea_author={'key'    : 'WOS_author',\n",
    "            'values' : extract_key_unique(UDEA,'WOS_author',json_column='UDEA_authors')}\n",
    "wos_author={'key'    : 'WOS_author',\n",
    "            'values' : extract_key_unique(UDEA,'WOS_author',json_column='authors_WOS')}\n",
    "\n",
    "\n",
    "#.apply(....) is a loop!\n",
    "g=[]\n",
    "#append to g\n",
    "tmp=UDEA.UDEA_authors.apply(lambda l: \n",
    "                        get_groups(l,g)\n",
    "        if type(l)==list else None\n",
    "                        )\n",
    "grupos={'key':'GRUPO',\n",
    "            'values' :g}\n"
   ]
  },
  {
   "cell_type": "markdown",
   "metadata": {},
   "source": [
    "## Función de búsqueda"
   ]
  },
  {
   "cell_type": "markdown",
   "metadata": {},
   "source": [
    "For value string or list of each dictionary within a list of dictionaries, like the column 'UDEA_authors' in `UDEA` DataFrame"
   ]
  },
  {
   "cell_type": "code",
   "execution_count": 167,
   "metadata": {},
   "outputs": [],
   "source": [
    "def query_json_column(q,df=UDEA,json_column='UDEA_authors',\n",
    "                        choices=nombre_completo,scorer=fuzz.partial_token_sort_ratio,score_cutoff=0):\n",
    "    #Found best exact match from index\n",
    "    fchoices=fwp.extractOne(q,choices['values'],scorer=scorer,score_cutoff=score_cutoff)\n",
    "    # Exact search in indexed subcolumn converted to strins (e.g list → string if necessary)\n",
    "    if fchoices:\n",
    "        fchoices=fchoices[0]\n",
    "        dfF=df[df[json_column].apply(lambda l: True in [ str(d.get(choices['key'])).find(fchoices)>-1 \n",
    "                                        for d in l if d.get(choices['key'])] if type(l)==list else False)]\n",
    "        return dfF.reset_index(drop=True)\n",
    "    else:\n",
    "        return pd.DataFrame()"
   ]
  },
  {
   "cell_type": "markdown",
   "metadata": {},
   "source": [
    "### Autor"
   ]
  },
  {
   "cell_type": "code",
   "execution_count": 168,
   "metadata": {},
   "outputs": [],
   "source": [
    "r=query_json_column('Diego Alejandro Restrepo Quintero',df=UDEA,json_column='UDEA_authors',\n",
    "                        choices=nombre_completo,scorer=fuzz.partial_token_sort_ratio,score_cutoff=79)"
   ]
  },
  {
   "cell_type": "code",
   "execution_count": 169,
   "metadata": {},
   "outputs": [
    {
     "data": {
      "text/plain": [
       "(38, 181)"
      ]
     },
     "execution_count": 169,
     "metadata": {},
     "output_type": "execute_result"
    }
   ],
   "source": [
    "r.shape"
   ]
  },
  {
   "cell_type": "code",
   "execution_count": 170,
   "metadata": {},
   "outputs": [],
   "source": [
    "#r[['TI','AU','authors_WOS',json_column]].reset_index(drop=True)[5:7]"
   ]
  },
  {
   "cell_type": "markdown",
   "metadata": {},
   "source": [
    "## Grupos"
   ]
  },
  {
   "cell_type": "markdown",
   "metadata": {},
   "source": [
    "Ejemplo"
   ]
  },
  {
   "cell_type": "code",
   "execution_count": 171,
   "metadata": {},
   "outputs": [],
   "source": [
    "r=query_json_column('Grupo de Fenomenología de Interacciones Fundamentales',df=UDEA,json_column='UDEA_authors',\n",
    "                        choices=grupos,scorer=fuzz.partial_token_sort_ratio,score_cutoff=79)"
   ]
  },
  {
   "cell_type": "code",
   "execution_count": 172,
   "metadata": {},
   "outputs": [
    {
     "data": {
      "text/plain": [
       "(92, 181)"
      ]
     },
     "execution_count": 172,
     "metadata": {},
     "output_type": "execute_result"
    }
   ],
   "source": [
    "r.shape"
   ]
  },
  {
   "cell_type": "markdown",
   "metadata": {},
   "source": [
    "Buscar todos"
   ]
  },
  {
   "cell_type": "code",
   "execution_count": 177,
   "metadata": {},
   "outputs": [],
   "source": [
    "gdf=pd.DataFrame()\n",
    "for g in grupos['values']:\n",
    "    r=query_json_column(g,df=UDEA,json_column='UDEA_authors',choices=grupos,\n",
    "                        scorer=fuzz.partial_token_sort_ratio,score_cutoff=79)\n",
    "                        \n",
    "    gdf=gdf.append( {'Group':g,'articles':r.shape[0]},ignore_index=True )\n",
    "gdf['articles']=gdf['articles'].astype(int)"
   ]
  },
  {
   "cell_type": "code",
   "execution_count": 178,
   "metadata": {
    "scrolled": true
   },
   "outputs": [
    {
     "data": {
      "text/html": [
       "<div>\n",
       "<style scoped>\n",
       "    .dataframe tbody tr th:only-of-type {\n",
       "        vertical-align: middle;\n",
       "    }\n",
       "\n",
       "    .dataframe tbody tr th {\n",
       "        vertical-align: top;\n",
       "    }\n",
       "\n",
       "    .dataframe thead th {\n",
       "        text-align: right;\n",
       "    }\n",
       "</style>\n",
       "<table border=\"1\" class=\"dataframe\">\n",
       "  <thead>\n",
       "    <tr style=\"text-align: right;\">\n",
       "      <th></th>\n",
       "      <th>Group</th>\n",
       "      <th>articles</th>\n",
       "    </tr>\n",
       "  </thead>\n",
       "  <tbody>\n",
       "    <tr>\n",
       "      <th>0</th>\n",
       "      <td>Sin Grupo Asociado</td>\n",
       "      <td>451</td>\n",
       "    </tr>\n",
       "    <tr>\n",
       "      <th>1</th>\n",
       "      <td>Inmunovirología</td>\n",
       "      <td>304</td>\n",
       "    </tr>\n",
       "    <tr>\n",
       "      <th>2</th>\n",
       "      <td>Grupo Reproducción, Inmunovirología, Infección y Cáncer</td>\n",
       "      <td>304</td>\n",
       "    </tr>\n",
       "    <tr>\n",
       "      <th>3</th>\n",
       "      <td>Grupo de Materia Condensada-UdeA</td>\n",
       "      <td>302</td>\n",
       "    </tr>\n",
       "    <tr>\n",
       "      <th>4</th>\n",
       "      <td>Grupo de Estado Sólido</td>\n",
       "      <td>292</td>\n",
       "    </tr>\n",
       "    <tr>\n",
       "      <th>5</th>\n",
       "      <td>Centro de Investigación, Innovación y Desarrollo de Materiales - CIDEMAT - Anteriormente: Grupo de Corrosión y Protección,</td>\n",
       "      <td>265</td>\n",
       "    </tr>\n",
       "    <tr>\n",
       "      <th>6</th>\n",
       "      <td>Centro de Investigación, Innovación y Desarrollo de Materiales - CIDEMAT - Anteriormente: Grupo de Corrosión y Protección</td>\n",
       "      <td>265</td>\n",
       "    </tr>\n",
       "    <tr>\n",
       "      <th>7</th>\n",
       "      <td>Grupo Académico de Epidemiología Clínica</td>\n",
       "      <td>263</td>\n",
       "    </tr>\n",
       "    <tr>\n",
       "      <th>8</th>\n",
       "      <td>Grupo Académico de Epidemiología Clínica, Nacer, Salud Sexual y Reproductiva</td>\n",
       "      <td>263</td>\n",
       "    </tr>\n",
       "    <tr>\n",
       "      <th>9</th>\n",
       "      <td>Grupo de Neurociencias de Antioquia</td>\n",
       "      <td>254</td>\n",
       "    </tr>\n",
       "  </tbody>\n",
       "</table>\n",
       "</div>"
      ],
      "text/plain": [
       "                                                                                                                         Group  \\\n",
       "0                                                                                                           Sin Grupo Asociado   \n",
       "1                                                                                                              Inmunovirología   \n",
       "2                                                                      Grupo Reproducción, Inmunovirología, Infección y Cáncer   \n",
       "3                                                                                             Grupo de Materia Condensada-UdeA   \n",
       "4                                                                                                       Grupo de Estado Sólido   \n",
       "5  Centro de Investigación, Innovación y Desarrollo de Materiales - CIDEMAT - Anteriormente: Grupo de Corrosión y Protección,    \n",
       "6    Centro de Investigación, Innovación y Desarrollo de Materiales - CIDEMAT - Anteriormente: Grupo de Corrosión y Protección   \n",
       "7                                                                                     Grupo Académico de Epidemiología Clínica   \n",
       "8                                                 Grupo Académico de Epidemiología Clínica, Nacer, Salud Sexual y Reproductiva   \n",
       "9                                                                                          Grupo de Neurociencias de Antioquia   \n",
       "\n",
       "   articles  \n",
       "0       451  \n",
       "1       304  \n",
       "2       304  \n",
       "3       302  \n",
       "4       292  \n",
       "5       265  \n",
       "6       265  \n",
       "7       263  \n",
       "8       263  \n",
       "9       254  "
      ]
     },
     "execution_count": 178,
     "metadata": {},
     "output_type": "execute_result"
    }
   ],
   "source": [
    "gdf.sort_values('articles',ascending=False).reset_index(drop=True)[:10]"
   ]
  },
  {
   "cell_type": "markdown",
   "metadata": {},
   "source": [
    "## Departamento"
   ]
  },
  {
   "cell_type": "code",
   "execution_count": 179,
   "metadata": {},
   "outputs": [],
   "source": [
    "r=query_json_column('Instituto de Física',df=UDEA,json_column='UDEA_authors',\n",
    "                        choices=departamentos,scorer=fuzz.partial_token_sort_ratio,score_cutoff=79)"
   ]
  },
  {
   "cell_type": "code",
   "execution_count": 180,
   "metadata": {},
   "outputs": [
    {
     "data": {
      "text/plain": [
       "(903, 181)"
      ]
     },
     "execution_count": 180,
     "metadata": {},
     "output_type": "execute_result"
    }
   ],
   "source": [
    "r.shape"
   ]
  },
  {
   "cell_type": "markdown",
   "metadata": {},
   "source": [
    "## Centro"
   ]
  },
  {
   "cell_type": "markdown",
   "metadata": {},
   "source": [
    "Ejemplo"
   ]
  },
  {
   "cell_type": "code",
   "execution_count": 181,
   "metadata": {},
   "outputs": [],
   "source": [
    "cen=query_json_column('Facultad de Ciencias Exactas y Naturales',df=UDEA,json_column='UDEA_authors',\n",
    "                        choices=facultades,scorer=fuzz.partial_token_sort_ratio,score_cutoff=79)"
   ]
  },
  {
   "cell_type": "code",
   "execution_count": 182,
   "metadata": {},
   "outputs": [
    {
     "data": {
      "text/plain": [
       "(2378, 181)"
      ]
     },
     "execution_count": 182,
     "metadata": {},
     "output_type": "execute_result"
    }
   ],
   "source": [
    "cen.shape"
   ]
  },
  {
   "cell_type": "markdown",
   "metadata": {},
   "source": [
    "Todos"
   ]
  },
  {
   "cell_type": "code",
   "execution_count": 183,
   "metadata": {},
   "outputs": [],
   "source": [
    "fdf=pd.DataFrame()\n",
    "for f in facultades['values']:\n",
    "    r=query_json_column(f,df=UDEA,json_column='UDEA_authors',choices=facultades,\n",
    "                        scorer=fuzz.partial_token_sort_ratio,score_cutoff=79)\n",
    "    fdf=fdf.append( {'Facultad':f,'articles':r.shape[0]},ignore_index=True )\n",
    "fdf['articles']=fdf['articles'].astype(int)"
   ]
  },
  {
   "cell_type": "code",
   "execution_count": 184,
   "metadata": {},
   "outputs": [
    {
     "data": {
      "text/html": [
       "<div>\n",
       "<style scoped>\n",
       "    .dataframe tbody tr th:only-of-type {\n",
       "        vertical-align: middle;\n",
       "    }\n",
       "\n",
       "    .dataframe tbody tr th {\n",
       "        vertical-align: top;\n",
       "    }\n",
       "\n",
       "    .dataframe thead th {\n",
       "        text-align: right;\n",
       "    }\n",
       "</style>\n",
       "<table border=\"1\" class=\"dataframe\">\n",
       "  <thead>\n",
       "    <tr style=\"text-align: right;\">\n",
       "      <th></th>\n",
       "      <th>Facultad</th>\n",
       "      <th>articles</th>\n",
       "    </tr>\n",
       "  </thead>\n",
       "  <tbody>\n",
       "    <tr>\n",
       "      <th>0</th>\n",
       "      <td>Facultad de Medicina</td>\n",
       "      <td>3385</td>\n",
       "    </tr>\n",
       "    <tr>\n",
       "      <th>1</th>\n",
       "      <td>Facultad de Ciencias Exactas y Naturales</td>\n",
       "      <td>2378</td>\n",
       "    </tr>\n",
       "    <tr>\n",
       "      <th>2</th>\n",
       "      <td>Facultad de Ingeniería</td>\n",
       "      <td>1947</td>\n",
       "    </tr>\n",
       "    <tr>\n",
       "      <th>3</th>\n",
       "      <td>Facultad de Ciencias Agrarias</td>\n",
       "      <td>704</td>\n",
       "    </tr>\n",
       "    <tr>\n",
       "      <th>4</th>\n",
       "      <td>Facultad de Ciencias Sociales y Humanas</td>\n",
       "      <td>227</td>\n",
       "    </tr>\n",
       "    <tr>\n",
       "      <th>5</th>\n",
       "      <td>Facultad de Artes</td>\n",
       "      <td>15</td>\n",
       "    </tr>\n",
       "  </tbody>\n",
       "</table>\n",
       "</div>"
      ],
      "text/plain": [
       "                                   Facultad  articles\n",
       "0                      Facultad de Medicina      3385\n",
       "1  Facultad de Ciencias Exactas y Naturales      2378\n",
       "2                    Facultad de Ingeniería      1947\n",
       "3             Facultad de Ciencias Agrarias       704\n",
       "4   Facultad de Ciencias Sociales y Humanas       227\n",
       "5                         Facultad de Artes        15"
      ]
     },
     "execution_count": 184,
     "metadata": {},
     "output_type": "execute_result"
    }
   ],
   "source": [
    "fdf.sort_values('articles',ascending=False)"
   ]
  },
  {
   "cell_type": "markdown",
   "metadata": {},
   "source": [
    "## Citas"
   ]
  },
  {
   "cell_type": "code",
   "execution_count": 30,
   "metadata": {},
   "outputs": [
    {
     "data": {
      "text/html": [
       "<div>\n",
       "<style scoped>\n",
       "    .dataframe tbody tr th:only-of-type {\n",
       "        vertical-align: middle;\n",
       "    }\n",
       "\n",
       "    .dataframe tbody tr th {\n",
       "        vertical-align: top;\n",
       "    }\n",
       "\n",
       "    .dataframe thead th {\n",
       "        text-align: right;\n",
       "    }\n",
       "</style>\n",
       "<table border=\"1\" class=\"dataframe\">\n",
       "  <thead>\n",
       "    <tr style=\"text-align: right;\">\n",
       "      <th></th>\n",
       "      <th>Z9</th>\n",
       "      <th>TI</th>\n",
       "      <th>SO</th>\n",
       "      <th>AU</th>\n",
       "      <th>PY</th>\n",
       "    </tr>\n",
       "  </thead>\n",
       "  <tbody>\n",
       "    <tr>\n",
       "      <th>0</th>\n",
       "      <td>3610</td>\n",
       "      <td>An integrated map of genetic variation from 1,092 human genomes</td>\n",
       "      <td>NATURE</td>\n",
       "      <td>Altshuler, DM\\nDurbin, RM\\nAbecasis, GR\\nBentley, DR\\nChakravarti, A\\nClark, AG\\nDonnelly, P\\nEichler, EE\\nFlicek, P\\nGabriel, SB\\nGibbs, RA\\nGreen, ED\\nHurles, ME\\nKnoppers, BM\\nKorbel, JO\\nLande...</td>\n",
       "      <td>2012</td>\n",
       "    </tr>\n",
       "    <tr>\n",
       "      <th>1</th>\n",
       "      <td>1526</td>\n",
       "      <td>Leishmaniasis Worldwide and Global Estimates of Its Incidence</td>\n",
       "      <td>PLOS ONE</td>\n",
       "      <td>Alvar, J\\nVelez, ID\\nBern, C\\nHerrero, M\\nDesjeux, P\\nCano, J\\nJannin, J\\nden Boer, M\\n</td>\n",
       "      <td>2012</td>\n",
       "    </tr>\n",
       "    <tr>\n",
       "      <th>2</th>\n",
       "      <td>1271</td>\n",
       "      <td>A global reference for human genetic variation</td>\n",
       "      <td>NATURE</td>\n",
       "      <td>Altshuler, DM\\nDurbin, RM\\nAbecasis, GR\\nBentley, DR\\nChakravarti, A\\nClark, AG\\nDonnelly, P\\nEichler, EE\\nFlicek, P\\nGabriel, SB\\nGibbs, RA\\nGreen, ED\\nHurles, ME\\nKnoppers, BM\\nKorbel, JO\\nLande...</td>\n",
       "      <td>2015</td>\n",
       "    </tr>\n",
       "    <tr>\n",
       "      <th>3</th>\n",
       "      <td>901</td>\n",
       "      <td>Human papillomavirus genotype attribution in invasive cervical cancer: a retrospective cross-sectional worldwide study</td>\n",
       "      <td>LANCET ONCOLOGY</td>\n",
       "      <td>de Sanjose, S\\nQuint, WGV\\nAlemany, L\\nGeraets, DT\\nKlaustermeier, JE\\nLloveras, B\\nTous, S\\nFelix, A\\nBravo, LE\\nShin, HR\\nVallejos, CS\\nde Ruiz, PA\\nLima, MA\\nGuimera, N\\nClavero, O\\nAlejo, M\\nL...</td>\n",
       "      <td>2010</td>\n",
       "    </tr>\n",
       "    <tr>\n",
       "      <th>4</th>\n",
       "      <td>711</td>\n",
       "      <td>The Genome Sequence of Taurine Cattle: A Window to Ruminant Biology and Evolution</td>\n",
       "      <td>SCIENCE</td>\n",
       "      <td>Elsik, CG\\nTellam, RL\\nWorley, KC\\nGibbs, RA\\nAbatepaulo, ARR\\nAbbey, CA\\nAdelson, DL\\nAerts, J\\nAhola, V\\nAlexander, L\\nAlioto, T\\nAlmeida, IG\\nAmadio, AF\\nAnatriello, E\\nAntonarakis, SE\\nAnzola,...</td>\n",
       "      <td>2009</td>\n",
       "    </tr>\n",
       "    <tr>\n",
       "      <th>5</th>\n",
       "      <td>601</td>\n",
       "      <td>GENETIC ABSOLUTE DATING BASED ON MICROSATELLITES AND THE ORIGIN OF MODERN HUMANS</td>\n",
       "      <td>PROCEEDINGS OF THE NATIONAL ACADEMY OF SCIENCES OF THE UNITED STATES OF\\nAMERICA</td>\n",
       "      <td>GOLDSTEIN, DB\\nLINARES, AR\\nCAVALLISFORZA, LL\\nFELDMAN, MW\\n</td>\n",
       "      <td>1995</td>\n",
       "    </tr>\n",
       "    <tr>\n",
       "      <th>6</th>\n",
       "      <td>474</td>\n",
       "      <td>Mutations in IRF6 cause Van der Woude and popliteal pterygium syndromes</td>\n",
       "      <td>NATURE GENETICS</td>\n",
       "      <td>Kondo, S\\nSchutte, BC\\nRichardson, RJ\\nBjork, BC\\nKnight, AS\\nWatanabe, Y\\nHoward, E\\nde Lima, RLLF\\nDaack-Hirsch, S\\nSander, A\\nMcDonald-McGinn, DM\\nZackai, EH\\nLammer, EJ\\nAylsworth, AS\\nArdinge...</td>\n",
       "      <td>2002</td>\n",
       "    </tr>\n",
       "    <tr>\n",
       "      <th>7</th>\n",
       "      <td>429</td>\n",
       "      <td>Leptogenesis</td>\n",
       "      <td>PHYSICS REPORTS-REVIEW SECTION OF PHYSICS LETTERS</td>\n",
       "      <td>Davidson, S\\nNardi, E\\nNir, Y\\n</td>\n",
       "      <td>2008</td>\n",
       "    </tr>\n",
       "    <tr>\n",
       "      <th>8</th>\n",
       "      <td>410</td>\n",
       "      <td>Temperature sensitivity of drought-induced tree mortality portends increased regional die-off under global-change-type drought</td>\n",
       "      <td>PROCEEDINGS OF THE NATIONAL ACADEMY OF SCIENCES OF THE UNITED STATES OF\\nAMERICA</td>\n",
       "      <td>Adams, HD\\nGuardiola-Claramonte, M\\nBarron-Gafford, GA\\nVillegas, JC\\nBreshears, DD\\nZou, CB\\nTroch, PA\\nHuxman, TE\\n</td>\n",
       "      <td>2009</td>\n",
       "    </tr>\n",
       "    <tr>\n",
       "      <th>9</th>\n",
       "      <td>376</td>\n",
       "      <td>Electron localization following attosecond molecular photoionization</td>\n",
       "      <td>NATURE</td>\n",
       "      <td>Sansone, G\\nKelkensberg, F\\nPerez-Torres, JF\\nMorales, F\\nKling, MF\\nSiu, W\\nGhafur, O\\nJohnsson, P\\nSwoboda, M\\nBenedetti, E\\nFerrari, F\\nLepine, F\\nSanz-Vicario, JL\\nZherebtsov, S\\nZnakovskaya, ...</td>\n",
       "      <td>2010</td>\n",
       "    </tr>\n",
       "  </tbody>\n",
       "</table>\n",
       "</div>"
      ],
      "text/plain": [
       "     Z9  \\\n",
       "0  3610   \n",
       "1  1526   \n",
       "2  1271   \n",
       "3   901   \n",
       "4   711   \n",
       "5   601   \n",
       "6   474   \n",
       "7   429   \n",
       "8   410   \n",
       "9   376   \n",
       "\n",
       "                                                                                                                               TI  \\\n",
       "0                                                                 An integrated map of genetic variation from 1,092 human genomes   \n",
       "1                                                                   Leishmaniasis Worldwide and Global Estimates of Its Incidence   \n",
       "2                                                                                  A global reference for human genetic variation   \n",
       "3          Human papillomavirus genotype attribution in invasive cervical cancer: a retrospective cross-sectional worldwide study   \n",
       "4                                               The Genome Sequence of Taurine Cattle: A Window to Ruminant Biology and Evolution   \n",
       "5                                                GENETIC ABSOLUTE DATING BASED ON MICROSATELLITES AND THE ORIGIN OF MODERN HUMANS   \n",
       "6                                                         Mutations in IRF6 cause Van der Woude and popliteal pterygium syndromes   \n",
       "7                                                                                                                    Leptogenesis   \n",
       "8  Temperature sensitivity of drought-induced tree mortality portends increased regional die-off under global-change-type drought   \n",
       "9                                                            Electron localization following attosecond molecular photoionization   \n",
       "\n",
       "                                                                                 SO  \\\n",
       "0                                                                            NATURE   \n",
       "1                                                                          PLOS ONE   \n",
       "2                                                                            NATURE   \n",
       "3                                                                   LANCET ONCOLOGY   \n",
       "4                                                                           SCIENCE   \n",
       "5  PROCEEDINGS OF THE NATIONAL ACADEMY OF SCIENCES OF THE UNITED STATES OF\\nAMERICA   \n",
       "6                                                                   NATURE GENETICS   \n",
       "7                                 PHYSICS REPORTS-REVIEW SECTION OF PHYSICS LETTERS   \n",
       "8  PROCEEDINGS OF THE NATIONAL ACADEMY OF SCIENCES OF THE UNITED STATES OF\\nAMERICA   \n",
       "9                                                                            NATURE   \n",
       "\n",
       "                                                                                                                                                                                                        AU  \\\n",
       "0  Altshuler, DM\\nDurbin, RM\\nAbecasis, GR\\nBentley, DR\\nChakravarti, A\\nClark, AG\\nDonnelly, P\\nEichler, EE\\nFlicek, P\\nGabriel, SB\\nGibbs, RA\\nGreen, ED\\nHurles, ME\\nKnoppers, BM\\nKorbel, JO\\nLande...   \n",
       "1                                                                                                                  Alvar, J\\nVelez, ID\\nBern, C\\nHerrero, M\\nDesjeux, P\\nCano, J\\nJannin, J\\nden Boer, M\\n   \n",
       "2  Altshuler, DM\\nDurbin, RM\\nAbecasis, GR\\nBentley, DR\\nChakravarti, A\\nClark, AG\\nDonnelly, P\\nEichler, EE\\nFlicek, P\\nGabriel, SB\\nGibbs, RA\\nGreen, ED\\nHurles, ME\\nKnoppers, BM\\nKorbel, JO\\nLande...   \n",
       "3  de Sanjose, S\\nQuint, WGV\\nAlemany, L\\nGeraets, DT\\nKlaustermeier, JE\\nLloveras, B\\nTous, S\\nFelix, A\\nBravo, LE\\nShin, HR\\nVallejos, CS\\nde Ruiz, PA\\nLima, MA\\nGuimera, N\\nClavero, O\\nAlejo, M\\nL...   \n",
       "4  Elsik, CG\\nTellam, RL\\nWorley, KC\\nGibbs, RA\\nAbatepaulo, ARR\\nAbbey, CA\\nAdelson, DL\\nAerts, J\\nAhola, V\\nAlexander, L\\nAlioto, T\\nAlmeida, IG\\nAmadio, AF\\nAnatriello, E\\nAntonarakis, SE\\nAnzola,...   \n",
       "5                                                                                                                                             GOLDSTEIN, DB\\nLINARES, AR\\nCAVALLISFORZA, LL\\nFELDMAN, MW\\n   \n",
       "6  Kondo, S\\nSchutte, BC\\nRichardson, RJ\\nBjork, BC\\nKnight, AS\\nWatanabe, Y\\nHoward, E\\nde Lima, RLLF\\nDaack-Hirsch, S\\nSander, A\\nMcDonald-McGinn, DM\\nZackai, EH\\nLammer, EJ\\nAylsworth, AS\\nArdinge...   \n",
       "7                                                                                                                                                                          Davidson, S\\nNardi, E\\nNir, Y\\n   \n",
       "8                                                                                    Adams, HD\\nGuardiola-Claramonte, M\\nBarron-Gafford, GA\\nVillegas, JC\\nBreshears, DD\\nZou, CB\\nTroch, PA\\nHuxman, TE\\n   \n",
       "9  Sansone, G\\nKelkensberg, F\\nPerez-Torres, JF\\nMorales, F\\nKling, MF\\nSiu, W\\nGhafur, O\\nJohnsson, P\\nSwoboda, M\\nBenedetti, E\\nFerrari, F\\nLepine, F\\nSanz-Vicario, JL\\nZherebtsov, S\\nZnakovskaya, ...   \n",
       "\n",
       "     PY  \n",
       "0  2012  \n",
       "1  2012  \n",
       "2  2015  \n",
       "3  2010  \n",
       "4  2009  \n",
       "5  1995  \n",
       "6  2002  \n",
       "7  2008  \n",
       "8  2009  \n",
       "9  2010  "
      ]
     },
     "execution_count": 30,
     "metadata": {},
     "output_type": "execute_result"
    }
   ],
   "source": [
    "UDEA_YES.sort_values('Z9',ascending=False)[['Z9','TI','SO','AU','PY']].reset_index(drop=True)[:10]"
   ]
  },
  {
   "cell_type": "code",
   "execution_count": 31,
   "metadata": {},
   "outputs": [
    {
     "data": {
      "text/plain": [
       "75281"
      ]
     },
     "execution_count": 31,
     "metadata": {},
     "output_type": "execute_result"
    }
   ],
   "source": [
    "UDEA_YES.Z9.sum()"
   ]
  },
  {
   "cell_type": "code",
   "execution_count": 32,
   "metadata": {},
   "outputs": [
    {
     "data": {
      "text/html": [
       "<div>\n",
       "<style scoped>\n",
       "    .dataframe tbody tr th:only-of-type {\n",
       "        vertical-align: middle;\n",
       "    }\n",
       "\n",
       "    .dataframe tbody tr th {\n",
       "        vertical-align: top;\n",
       "    }\n",
       "\n",
       "    .dataframe thead th {\n",
       "        text-align: right;\n",
       "    }\n",
       "</style>\n",
       "<table border=\"1\" class=\"dataframe\">\n",
       "  <thead>\n",
       "    <tr style=\"text-align: right;\">\n",
       "      <th></th>\n",
       "      <th>SCP_Cited by</th>\n",
       "      <th>TI</th>\n",
       "      <th>SO</th>\n",
       "      <th>AU</th>\n",
       "      <th>PY</th>\n",
       "    </tr>\n",
       "  </thead>\n",
       "  <tbody>\n",
       "    <tr>\n",
       "      <th>0</th>\n",
       "      <td>1586</td>\n",
       "      <td>Leishmaniasis Worldwide and Global Estimates of Its Incidence</td>\n",
       "      <td>PLOS ONE</td>\n",
       "      <td>Alvar, J\\nVelez, ID\\nBern, C\\nHerrero, M\\nDesjeux, P\\nCano, J\\nJannin, J\\nden Boer, M\\n</td>\n",
       "      <td>2012</td>\n",
       "    </tr>\n",
       "    <tr>\n",
       "      <th>1</th>\n",
       "      <td>1160</td>\n",
       "      <td>Effects of tranexamic acid on death, vascular occlusive events, and blood transfusion in trauma patients with significant haemorrhage (CRASH-2): A randomised, placebo-controlled trial</td>\n",
       "      <td>The Lancet</td>\n",
       "      <td>Olldashi F., Kerçi M., Zhurda T., Ruçi K., Banushi A., Traverso M.S., Jiménez J., Balbi J., Dellera C., Svampa S., Quintana G., Piñero G., Teves J., Seppelt I., Mountain D., Hunter J., Balogh Z., ...</td>\n",
       "      <td>2010</td>\n",
       "    </tr>\n",
       "    <tr>\n",
       "      <th>2</th>\n",
       "      <td>994</td>\n",
       "      <td>Human papillomavirus genotype attribution in invasive cervical cancer: a retrospective cross-sectional worldwide study</td>\n",
       "      <td>LANCET ONCOLOGY</td>\n",
       "      <td>de Sanjose, S\\nQuint, WGV\\nAlemany, L\\nGeraets, DT\\nKlaustermeier, JE\\nLloveras, B\\nTous, S\\nFelix, A\\nBravo, LE\\nShin, HR\\nVallejos, CS\\nde Ruiz, PA\\nLima, MA\\nGuimera, N\\nClavero, O\\nAlejo, M\\nL...</td>\n",
       "      <td>2010</td>\n",
       "    </tr>\n",
       "    <tr>\n",
       "      <th>3</th>\n",
       "      <td>626</td>\n",
       "      <td>The Genome Sequence of Taurine Cattle: A Window to Ruminant Biology and Evolution</td>\n",
       "      <td>SCIENCE</td>\n",
       "      <td>Elsik, CG\\nTellam, RL\\nWorley, KC\\nGibbs, RA\\nAbatepaulo, ARR\\nAbbey, CA\\nAdelson, DL\\nAerts, J\\nAhola, V\\nAlexander, L\\nAlioto, T\\nAlmeida, IG\\nAmadio, AF\\nAnatriello, E\\nAntonarakis, SE\\nAnzola,...</td>\n",
       "      <td>2009</td>\n",
       "    </tr>\n",
       "    <tr>\n",
       "      <th>4</th>\n",
       "      <td>598</td>\n",
       "      <td>GENETIC ABSOLUTE DATING BASED ON MICROSATELLITES AND THE ORIGIN OF MODERN HUMANS</td>\n",
       "      <td>PROCEEDINGS OF THE NATIONAL ACADEMY OF SCIENCES OF THE UNITED STATES OF\\nAMERICA</td>\n",
       "      <td>GOLDSTEIN, DB\\nLINARES, AR\\nCAVALLISFORZA, LL\\nFELDMAN, MW\\n</td>\n",
       "      <td>1995</td>\n",
       "    </tr>\n",
       "    <tr>\n",
       "      <th>5</th>\n",
       "      <td>485</td>\n",
       "      <td>Mutations in IRF6 cause Van der Woude and popliteal pterygium syndromes</td>\n",
       "      <td>NATURE GENETICS</td>\n",
       "      <td>Kondo, S\\nSchutte, BC\\nRichardson, RJ\\nBjork, BC\\nKnight, AS\\nWatanabe, Y\\nHoward, E\\nde Lima, RLLF\\nDaack-Hirsch, S\\nSander, A\\nMcDonald-McGinn, DM\\nZackai, EH\\nLammer, EJ\\nAylsworth, AS\\nArdinge...</td>\n",
       "      <td>2002</td>\n",
       "    </tr>\n",
       "    <tr>\n",
       "      <th>6</th>\n",
       "      <td>439</td>\n",
       "      <td>The importance of early treatment with tranexamic acid in bleeding trauma patients: An exploratory analysis of the CRASH-2 randomised controlled trial</td>\n",
       "      <td>The Lancet</td>\n",
       "      <td>Olldashi F., Kerçi M., Zhurda T., Ruçi K., Banushi A., Traverso M.S., Jiménez J., Balbi J., Dellera C., Svampa S., Quintana G., Piñero G., Teves J., Seppelt I., Mountain D., Balogh Z., Zaman M., D...</td>\n",
       "      <td>2011</td>\n",
       "    </tr>\n",
       "    <tr>\n",
       "      <th>7</th>\n",
       "      <td>432</td>\n",
       "      <td>Leptogenesis</td>\n",
       "      <td>PHYSICS REPORTS-REVIEW SECTION OF PHYSICS LETTERS</td>\n",
       "      <td>Davidson, S\\nNardi, E\\nNir, Y\\n</td>\n",
       "      <td>2008</td>\n",
       "    </tr>\n",
       "    <tr>\n",
       "      <th>8</th>\n",
       "      <td>424</td>\n",
       "      <td>Temperature sensitivity of drought-induced tree mortality portends increased regional die-off under global-change-type drought</td>\n",
       "      <td>PROCEEDINGS OF THE NATIONAL ACADEMY OF SCIENCES OF THE UNITED STATES OF\\nAMERICA</td>\n",
       "      <td>Adams, HD\\nGuardiola-Claramonte, M\\nBarron-Gafford, GA\\nVillegas, JC\\nBreshears, DD\\nZou, CB\\nTroch, PA\\nHuxman, TE\\n</td>\n",
       "      <td>2009</td>\n",
       "    </tr>\n",
       "    <tr>\n",
       "      <th>9</th>\n",
       "      <td>405</td>\n",
       "      <td>THE STRUCTURE OF THE PRESENILIN-1 (S182) GENE AND IDENTIFICATION OF 6 NOVEL MUTATIONS IN EARLY-ONSET AD FAMILIES</td>\n",
       "      <td>NATURE GENETICS</td>\n",
       "      <td>CLARK, RF\\nHUTTON, M\\nFULDNER, RA\\nFROELICH, S\\nKARRAN, E\\nTALBOT, C\\nCROOK, R\\nLENDON, C\\nPRIHAR, G\\nHE, C\\nKORENBLAT, K\\nMARTINEZ, A\\nWRAGG, M\\nBUSFIELD, F\\nBEHRENS, MI\\nMYERS, A\\nNORTON, J\\nMOR...</td>\n",
       "      <td>1995</td>\n",
       "    </tr>\n",
       "  </tbody>\n",
       "</table>\n",
       "</div>"
      ],
      "text/plain": [
       "   SCP_Cited by  \\\n",
       "0          1586   \n",
       "1          1160   \n",
       "2           994   \n",
       "3           626   \n",
       "4           598   \n",
       "5           485   \n",
       "6           439   \n",
       "7           432   \n",
       "8           424   \n",
       "9           405   \n",
       "\n",
       "                                                                                                                                                                                        TI  \\\n",
       "0                                                                                                                            Leishmaniasis Worldwide and Global Estimates of Its Incidence   \n",
       "1  Effects of tranexamic acid on death, vascular occlusive events, and blood transfusion in trauma patients with significant haemorrhage (CRASH-2): A randomised, placebo-controlled trial   \n",
       "2                                                                   Human papillomavirus genotype attribution in invasive cervical cancer: a retrospective cross-sectional worldwide study   \n",
       "3                                                                                                        The Genome Sequence of Taurine Cattle: A Window to Ruminant Biology and Evolution   \n",
       "4                                                                                                         GENETIC ABSOLUTE DATING BASED ON MICROSATELLITES AND THE ORIGIN OF MODERN HUMANS   \n",
       "5                                                                                                                  Mutations in IRF6 cause Van der Woude and popliteal pterygium syndromes   \n",
       "6                                   The importance of early treatment with tranexamic acid in bleeding trauma patients: An exploratory analysis of the CRASH-2 randomised controlled trial   \n",
       "7                                                                                                                                                                             Leptogenesis   \n",
       "8                                                           Temperature sensitivity of drought-induced tree mortality portends increased regional die-off under global-change-type drought   \n",
       "9                                                                         THE STRUCTURE OF THE PRESENILIN-1 (S182) GENE AND IDENTIFICATION OF 6 NOVEL MUTATIONS IN EARLY-ONSET AD FAMILIES   \n",
       "\n",
       "                                                                                 SO  \\\n",
       "0                                                                          PLOS ONE   \n",
       "1                                                                        The Lancet   \n",
       "2                                                                   LANCET ONCOLOGY   \n",
       "3                                                                           SCIENCE   \n",
       "4  PROCEEDINGS OF THE NATIONAL ACADEMY OF SCIENCES OF THE UNITED STATES OF\\nAMERICA   \n",
       "5                                                                   NATURE GENETICS   \n",
       "6                                                                        The Lancet   \n",
       "7                                 PHYSICS REPORTS-REVIEW SECTION OF PHYSICS LETTERS   \n",
       "8  PROCEEDINGS OF THE NATIONAL ACADEMY OF SCIENCES OF THE UNITED STATES OF\\nAMERICA   \n",
       "9                                                                   NATURE GENETICS   \n",
       "\n",
       "                                                                                                                                                                                                        AU  \\\n",
       "0                                                                                                                  Alvar, J\\nVelez, ID\\nBern, C\\nHerrero, M\\nDesjeux, P\\nCano, J\\nJannin, J\\nden Boer, M\\n   \n",
       "1  Olldashi F., Kerçi M., Zhurda T., Ruçi K., Banushi A., Traverso M.S., Jiménez J., Balbi J., Dellera C., Svampa S., Quintana G., Piñero G., Teves J., Seppelt I., Mountain D., Hunter J., Balogh Z., ...   \n",
       "2  de Sanjose, S\\nQuint, WGV\\nAlemany, L\\nGeraets, DT\\nKlaustermeier, JE\\nLloveras, B\\nTous, S\\nFelix, A\\nBravo, LE\\nShin, HR\\nVallejos, CS\\nde Ruiz, PA\\nLima, MA\\nGuimera, N\\nClavero, O\\nAlejo, M\\nL...   \n",
       "3  Elsik, CG\\nTellam, RL\\nWorley, KC\\nGibbs, RA\\nAbatepaulo, ARR\\nAbbey, CA\\nAdelson, DL\\nAerts, J\\nAhola, V\\nAlexander, L\\nAlioto, T\\nAlmeida, IG\\nAmadio, AF\\nAnatriello, E\\nAntonarakis, SE\\nAnzola,...   \n",
       "4                                                                                                                                             GOLDSTEIN, DB\\nLINARES, AR\\nCAVALLISFORZA, LL\\nFELDMAN, MW\\n   \n",
       "5  Kondo, S\\nSchutte, BC\\nRichardson, RJ\\nBjork, BC\\nKnight, AS\\nWatanabe, Y\\nHoward, E\\nde Lima, RLLF\\nDaack-Hirsch, S\\nSander, A\\nMcDonald-McGinn, DM\\nZackai, EH\\nLammer, EJ\\nAylsworth, AS\\nArdinge...   \n",
       "6  Olldashi F., Kerçi M., Zhurda T., Ruçi K., Banushi A., Traverso M.S., Jiménez J., Balbi J., Dellera C., Svampa S., Quintana G., Piñero G., Teves J., Seppelt I., Mountain D., Balogh Z., Zaman M., D...   \n",
       "7                                                                                                                                                                          Davidson, S\\nNardi, E\\nNir, Y\\n   \n",
       "8                                                                                    Adams, HD\\nGuardiola-Claramonte, M\\nBarron-Gafford, GA\\nVillegas, JC\\nBreshears, DD\\nZou, CB\\nTroch, PA\\nHuxman, TE\\n   \n",
       "9  CLARK, RF\\nHUTTON, M\\nFULDNER, RA\\nFROELICH, S\\nKARRAN, E\\nTALBOT, C\\nCROOK, R\\nLENDON, C\\nPRIHAR, G\\nHE, C\\nKORENBLAT, K\\nMARTINEZ, A\\nWRAGG, M\\nBUSFIELD, F\\nBEHRENS, MI\\nMYERS, A\\nNORTON, J\\nMOR...   \n",
       "\n",
       "     PY  \n",
       "0  2012  \n",
       "1  2010  \n",
       "2  2010  \n",
       "3  2009  \n",
       "4  1995  \n",
       "5  2002  \n",
       "6  2011  \n",
       "7  2008  \n",
       "8  2009  \n",
       "9  1995  "
      ]
     },
     "execution_count": 32,
     "metadata": {},
     "output_type": "execute_result"
    }
   ],
   "source": [
    "UDEA_YES.sort_values('SCP_Cited by',ascending=False)[[\n",
    "    'SCP_Cited by','TI','SO','AU','PY']].reset_index(drop=True)[:10]"
   ]
  },
  {
   "cell_type": "code",
   "execution_count": 33,
   "metadata": {},
   "outputs": [
    {
     "data": {
      "text/plain": [
       "78299"
      ]
     },
     "execution_count": 33,
     "metadata": {},
     "output_type": "execute_result"
    }
   ],
   "source": [
    "UDEA_YES['SCP_Cited by'].sum()"
   ]
  },
  {
   "cell_type": "markdown",
   "metadata": {},
   "source": [
    "# Función de búsque de nombres completos usando los autores WOS y los metadatos de la información institucional"
   ]
  },
  {
   "cell_type": "code",
   "execution_count": 34,
   "metadata": {},
   "outputs": [
    {
     "data": {
      "text/plain": [
       "WOS_author\n",
       "Cerón-Muñoz, M. F.    6\n",
       "Name: WOS_author, dtype: int64"
      ]
     },
     "execution_count": 34,
     "metadata": {},
     "output_type": "execute_result"
    }
   ],
   "source": [
    "aun=extract_key(UDEA_NOT,'WOS_author',json_column='authors_WOS')\n",
    "aun[27:28]"
   ]
  },
  {
   "cell_type": "code",
   "execution_count": 35,
   "metadata": {},
   "outputs": [],
   "source": [
    "aun=aun.keys()"
   ]
  },
  {
   "cell_type": "code",
   "execution_count": 36,
   "metadata": {},
   "outputs": [],
   "source": [
    "posib=extract_key(UDEA_YES,'WOS_author',json_column='authors_WOS').keys()"
   ]
  },
  {
   "cell_type": "markdown",
   "metadata": {},
   "source": [
    "### Goods: i=2,3,4,6\n",
    "### Bad: 1,5"
   ]
  },
  {
   "cell_type": "code",
   "execution_count": 37,
   "metadata": {},
   "outputs": [
    {
     "data": {
      "text/plain": [
       "'Cerón-Muñoz, M. F.'"
      ]
     },
     "execution_count": 37,
     "metadata": {},
     "output_type": "execute_result"
    }
   ],
   "source": [
    "i=27\n",
    "n=aun[i]\n",
    "n"
   ]
  },
  {
   "cell_type": "code",
   "execution_count": 38,
   "metadata": {},
   "outputs": [],
   "source": [
    "# if nold:\n",
    "qq=query_json_column(n,df=UDEA_NOT,json_column='authors_WOS',\n",
    "                        choices=wos_author,scorer=fuzz.ratio,score_cutoff=100)"
   ]
  },
  {
   "cell_type": "code",
   "execution_count": 39,
   "metadata": {},
   "outputs": [
    {
     "data": {
      "text/plain": [
       "RangeIndex(start=0, stop=6, step=1)"
      ]
     },
     "execution_count": 39,
     "metadata": {},
     "output_type": "execute_result"
    }
   ],
   "source": [
    "qq.index"
   ]
  },
  {
   "cell_type": "code",
   "execution_count": 40,
   "metadata": {},
   "outputs": [
    {
     "name": "stdout",
     "output_type": "stream",
     "text": [
      "[{'i': 0, 'affiliation': ['Grupo de Investigación GaMMA, Facultad de Ciencias Agrarias, Univ Antioquia, Calle 70 Nº 52 - 2, Medellín, Colombia'], 'WOS_author': 'Cerón-Muñoz, M. F.'}]\n",
      "[{'i': 0, 'affiliation': ['Grupo de Investigación en Genética, Mejoramiento y Modelación-GaMMA, Facultad de Ciencias Agrarias, Univ Antioquia UdeA, Calle 70 No. 52-21, Medellín, Colombia'], 'WOS_author': 'Cerón-Muñoz, M. F.'}]\n",
      "[{'i': 0, 'affiliation': ['Grupo de investigación GaMMA, Facultad de Ciencias Agrarias, Univ Antioquia, Calle 70 N°52-21, Medellín, Colombia'], 'WOS_author': 'Cerón-Muñoz, M. F.'}]\n",
      "[{'i': 2, 'affiliation': ['Grupo de Investigación en Genética, Mejoramiento y Modelación Animal-GaMMA, Univ Antioquia, Calle 70 N° 52-21, Medellín, Colombia'], 'WOS_author': 'Cerón-Muñoz, M. F.'}]\n",
      "[{'i': 0, 'affiliation': ['Grupo de investigación GaMMA, Univ Antioquia, Carrera 75 No. 65-87, Bloque, Medellín, Colombia'], 'WOS_author': 'Cerón-Muñoz, M. F.'}]\n",
      "[{'i': 3, 'affiliation': ['Grupo de Investigación en Genética, Mejoramiento y Modelación Animal-GaMMA, Univ Antioquia, Medellín, Colombia'], 'WOS_author': 'Cerón-Muñoz, M. F.'}]\n"
     ]
    }
   ],
   "source": [
    "for i in qq.index:\n",
    "    print( [ d for d in qq.loc[i,'authors_WOS'] if n in d.get('WOS_author')] )"
   ]
  },
  {
   "cell_type": "code",
   "execution_count": 41,
   "metadata": {},
   "outputs": [
    {
     "data": {
      "text/plain": [
       "array(['Livestock Research for Rural Development'], dtype=object)"
      ]
     },
     "execution_count": 41,
     "metadata": {},
     "output_type": "execute_result"
    }
   ],
   "source": [
    "qq.SO.unique()"
   ]
  },
  {
   "cell_type": "code",
   "execution_count": 42,
   "metadata": {},
   "outputs": [
    {
     "data": {
      "text/plain": [
       "(6, 181)"
      ]
     },
     "execution_count": 42,
     "metadata": {},
     "output_type": "execute_result"
    }
   ],
   "source": [
    "qq.shape"
   ]
  },
  {
   "cell_type": "code",
   "execution_count": 43,
   "metadata": {},
   "outputs": [
    {
     "data": {
      "text/plain": [
       "WOS_author\n",
       "Ramírez-Arias, J. P.    1\n",
       "Cerón-Muñoz, M. F.      1\n",
       "Name: WOS_author, dtype: int64"
      ]
     },
     "execution_count": 43,
     "metadata": {},
     "output_type": "execute_result"
    }
   ],
   "source": [
    "extract_key(qq[:1],'WOS_author',json_column='authors_WOS')"
   ]
  },
  {
   "cell_type": "code",
   "execution_count": 44,
   "metadata": {},
   "outputs": [
    {
     "data": {
      "text/plain": [
       "[{'WOS_author': 'Cerón-Muñoz, M. F.',\n",
       "  'affiliation': ['Grupo de Investigación GaMMA, Facultad de Ciencias Agrarias, Univ Antioquia, Calle 70 Nº 52 - 2, Medellín, Colombia'],\n",
       "  'i': 0},\n",
       " {'WOS_author': 'Ramírez-Arias, J. P.',\n",
       "  'affiliation': ['Grupo de Investigación GaMMA, Facultad de Ciencias Agrarias, Univ Antioquia, Calle 70 Nº 52 - 2, Medellín, Colombia'],\n",
       "  'i': 1}]"
      ]
     },
     "execution_count": 44,
     "metadata": {},
     "output_type": "execute_result"
    }
   ],
   "source": [
    "qq.loc[0,'authors_WOS']"
   ]
  },
  {
   "cell_type": "code",
   "execution_count": 45,
   "metadata": {},
   "outputs": [
    {
     "data": {
      "text/plain": [
       "'Livestock Research for Rural Development'"
      ]
     },
     "execution_count": 45,
     "metadata": {},
     "output_type": "execute_result"
    }
   ],
   "source": [
    "qq.loc[0,'SO']"
   ]
  },
  {
   "cell_type": "markdown",
   "metadata": {},
   "source": [
    "## Include SO"
   ]
  },
  {
   "cell_type": "code",
   "execution_count": 46,
   "metadata": {},
   "outputs": [],
   "source": [
    "aunly=drive_files.read_drive_json('UDEA_authors_with_WOS_info.json').reset_index(drop=True)"
   ]
  },
  {
   "cell_type": "code",
   "execution_count": 47,
   "metadata": {},
   "outputs": [],
   "source": [
    "def build_institutional_authors(x,author_df,x_author_key='WOS_author',x_affiliation_key='affiliation',\n",
    "                                        author_key='WOS_author',\n",
    "                                        affiliation_key='WOS_affiliation'):\n",
    "    if type(x)!=list:\n",
    "        return None\n",
    "    ll=[]\n",
    "    for j in range(len(x)):\n",
    "        \n",
    "                                #author_WOS→affiliation always have single affiliation\n",
    "        kk=find_author_affiliation(x[j].get(x_author_key),x[j].get(x_affiliation_key)[0],\n",
    "                                        author_df=author_df,\n",
    "                                        author_key=author_key,\n",
    "                                        affiliation_key=affiliation_key,\n",
    "                                        ratio=0.9 )\n",
    "        if kk:\n",
    "            ll.append(kk)\n",
    "    if not ll:\n",
    "        ll=None\n",
    "    return ll"
   ]
  },
  {
   "cell_type": "code",
   "execution_count": 48,
   "metadata": {},
   "outputs": [],
   "source": [
    "import fuzzywuzzy.process as fwp\n",
    "from fuzzywuzzy import fuzz\n",
    "#UDEA_NOT=UDEA[UDEA['UDEA_authors'].isna()].reset_index(drop=True)\n",
    "df2=aunly.copy()\n",
    "df2=pd.DataFrame( list( df2['UDEA_authors'].values ) )\n",
    "df2['UDEA_authors']=aunly['UDEA_authors']\n",
    "contents=df2[['WOS_author','WOS_affiliation','UDEA_authors']].reset_index(drop=True)\n",
    "contents['WOS_author']=contents['WOS_author']#.astype(str)\n",
    "contents['WOS_affiliation']=contents['WOS_affiliation']#.astype(str)"
   ]
  },
  {
   "cell_type": "markdown",
   "metadata": {},
   "source": [
    "# =============="
   ]
  },
  {
   "cell_type": "code",
   "execution_count": 49,
   "metadata": {},
   "outputs": [],
   "source": [
    "dfnot=qq#UDEA_NOT.copy()\n",
    "dfnot=dfnot.reset_index(drop=True)"
   ]
  },
  {
   "cell_type": "code",
   "execution_count": 50,
   "metadata": {},
   "outputs": [],
   "source": [
    "l=dfnot['authors_WOS'].loc[0]\n",
    "so=dfnot['SO'].loc[0]"
   ]
  },
  {
   "cell_type": "code",
   "execution_count": 92,
   "metadata": {},
   "outputs": [],
   "source": [
    "TEST=True\n",
    "if TEST:\n",
    "    l=[{'WOS_author': 'Ponce, W. A.',\n",
    "        'affiliation': \n",
    "        ['International Centre for Theoretical Physics, P.O.B. 586, Trieste, I-34100, Italy, Physics Depto., Univ Antioquia, A.A. 1226, Medellin, Colombia'],\n",
    "        'i': 0}]  \n",
    "    so='Zeitschrift für Physik C Particles and Fields'"
   ]
  },
  {
   "cell_type": "code",
   "execution_count": 93,
   "metadata": {},
   "outputs": [
    {
     "data": {
      "text/plain": [
       "[{'WOS_author': 'Ponce, W. A.',\n",
       "  'affiliation': ['International Centre for Theoretical Physics, P.O.B. 586, Trieste, I-34100, Italy, Physics Depto., Univ Antioquia, A.A. 1226, Medellin, Colombia'],\n",
       "  'i': 0}]"
      ]
     },
     "execution_count": 93,
     "metadata": {},
     "output_type": "execute_result"
    }
   ],
   "source": [
    "l"
   ]
  },
  {
   "cell_type": "code",
   "execution_count": 94,
   "metadata": {},
   "outputs": [
    {
     "data": {
      "text/plain": [
       "'Zeitschrift für Physik C Particles and Fields'"
      ]
     },
     "execution_count": 94,
     "metadata": {},
     "output_type": "execute_result"
    }
   ],
   "source": [
    "so"
   ]
  },
  {
   "cell_type": "code",
   "execution_count": 95,
   "metadata": {},
   "outputs": [],
   "source": [
    "#for i in range(20):\n",
    "#l=dfnot['authors_WOS'].loc[i]\n",
    "#def json_fuzzy_merge(l,UDEA,contents,right_target='UDEA_authors',\n",
    "                       #left_on='WOS_author',extra_left_on='affiliation',\n",
    "                       #right_on='WOS_author',extra_right_on='WOS_affiliation',\n",
    "                       #cutoff=95,cutoff_extra=65,scorer=fuzz.partial_ratio):\n",
    "if True:                \n",
    "    right_target='UDEA_authors'\n",
    "    left_on='WOS_author'\n",
    "    extra_left_on='affiliation'\n",
    "    right_on='WOS_author' \n",
    "    extra_right_on='WOS_affiliation'\n",
    "    extra_extra_right_on='full_name'\n",
    "    SO='SO'\n",
    "    cutoff=92\n",
    "    cutoff_extra=70\n",
    "    scorer=fuzz.token_set_ratio\n",
    "    DEBUG=False\n",
    "    newl=[]\n",
    "    for d in l:\n",
    "        AUTHOR=False\n",
    "        AFFILIATION=False\n",
    "        JOURNAL=True\n",
    "        dfraf=pd.DataFrame()        \n",
    "        au=d.get(left_on)\n",
    "        aff=d.get(extra_left_on)[0]\n",
    "        Q=1\n",
    "        break\n",
    "        # extract best WOS author match\n",
    "        #r=fwp.extractOne(au,contents[right_on],scorer=scorer)\n",
    "        #if r[1]>=cutoff:\n",
    "        #    raf=fwp.extractOne( aff, contents.loc[r[2],extra_right_on],scorer=scorer )\n",
    "            #print(r[1],r[2],raf[1],aff,',',contents.loc[r[2],extra_right_on])\n",
    "            #if raf[1]>=cutoff_extra:\n",
    "            #    newl=newl+[  contents.loc[r[2],right_target]  ]\n",
    "            #else:\n",
    "                #check SO\n",
    "                #newl=newl+[  contents.loc[r[2],right_target]  ]\n",
    "        #break\n",
    "    #if newl:\n",
    "    #    return newl\n",
    "    #else:\n",
    "    #    return None"
   ]
  },
  {
   "cell_type": "code",
   "execution_count": 96,
   "metadata": {},
   "outputs": [
    {
     "data": {
      "text/plain": [
       "'Ponce, W. A.'"
      ]
     },
     "execution_count": 96,
     "metadata": {},
     "output_type": "execute_result"
    }
   ],
   "source": [
    "au"
   ]
  },
  {
   "cell_type": "code",
   "execution_count": 97,
   "metadata": {},
   "outputs": [
    {
     "data": {
      "text/plain": [
       "'International Centre for Theoretical Physics, P.O.B. 586, Trieste, I-34100, Italy, Physics Depto., Univ Antioquia, A.A. 1226, Medellin, Colombia'"
      ]
     },
     "execution_count": 97,
     "metadata": {},
     "output_type": "execute_result"
    }
   ],
   "source": [
    "aff"
   ]
  },
  {
   "cell_type": "code",
   "execution_count": 98,
   "metadata": {},
   "outputs": [],
   "source": [
    "if True:\n",
    "        Q=1\n",
    "        # Try match author to a good degree\n",
    "        rau=fwp.extractOne(au,contents[right_on].apply(pd.Series).stack().unique(),scorer=scorer)\n",
    "        if DEBUG: print(1,rau)\n",
    "        if rau[1]>=cutoff:\n",
    "            AUTHOR=True\n",
    "            if DEBUG: print(2,AUTHOR)            "
   ]
  },
  {
   "cell_type": "code",
   "execution_count": 99,
   "metadata": {},
   "outputs": [
    {
     "data": {
      "text/plain": [
       "('Ponce, William A.', 88)"
      ]
     },
     "execution_count": 99,
     "metadata": {},
     "output_type": "execute_result"
    }
   ],
   "source": [
    "rau"
   ]
  },
  {
   "cell_type": "code",
   "execution_count": 100,
   "metadata": {},
   "outputs": [],
   "source": [
    "if True:\n",
    "        #Try match author with less quality: Q\n",
    "        #else:\n",
    "        if rau[1]<cutoff:\n",
    "            rau=fwp.extractOne(au,contents[right_on].apply(pd.Series).stack().unique(),\n",
    "                       scorer=fuzz.partial_token_sort_ratio)\n",
    "            if DEBUG: print(2.1,rau)            \n",
    "            if rau and rau[1]>=cutoff:\n",
    "                Q=Q-0.1\n",
    "                AUTHOR=True            "
   ]
  },
  {
   "cell_type": "code",
   "execution_count": 101,
   "metadata": {},
   "outputs": [
    {
     "data": {
      "text/plain": [
       "('Ponce, William A.', 100)"
      ]
     },
     "execution_count": 101,
     "metadata": {},
     "output_type": "execute_result"
    }
   ],
   "source": [
    "rau"
   ]
  },
  {
   "cell_type": "code",
   "execution_count": 102,
   "metadata": {},
   "outputs": [],
   "source": [
    "if True:\n",
    "        if AUTHOR:\n",
    "            dfraf=contents[contents[right_on].apply( lambda l: rau[0] in l )\n",
    "                                ].reset_index(drop=True)\n",
    "            raf=fwp.extractOne(aff,dfraf[extra_right_on].loc[0],scorer=fuzz.ratio)\n",
    "            if DEBUG: print(3,rau)\n",
    "            if raf and raf[1]>=cutoff_extra:\n",
    "                AFFILIATION=True"
   ]
  },
  {
   "cell_type": "code",
   "execution_count": 103,
   "metadata": {},
   "outputs": [
    {
     "data": {
      "text/plain": [
       "('Univ Antioquia, Inst Fis, Calle 70 52-21, Medellin, Colombia.', 43)"
      ]
     },
     "execution_count": 103,
     "metadata": {},
     "output_type": "execute_result"
    }
   ],
   "source": [
    "raf"
   ]
  },
  {
   "cell_type": "code",
   "execution_count": 104,
   "metadata": {},
   "outputs": [],
   "source": [
    "if True:\n",
    "            #else:\n",
    "            if raf[1]<cutoff_extra:\n",
    "                Q=Q-0.1\n",
    "                raf=fwp.extractOne(aff,dfraf[extra_right_on].loc[0],\n",
    "                                   scorer=fuzz.partial_token_set_ratio)\n",
    "                if raf and raf[1]>=cutoff_extra:\n",
    "                    AFFILIATION=True"
   ]
  },
  {
   "cell_type": "code",
   "execution_count": 105,
   "metadata": {},
   "outputs": [
    {
     "data": {
      "text/plain": [
       "('Univ Antioquia, Inst Fis, Medellin, Colombia.', 100)"
      ]
     },
     "execution_count": 105,
     "metadata": {},
     "output_type": "execute_result"
    }
   ],
   "source": [
    "raf"
   ]
  },
  {
   "cell_type": "markdown",
   "metadata": {},
   "source": [
    "# ================"
   ]
  },
  {
   "cell_type": "markdown",
   "metadata": {},
   "source": [
    "Journal:"
   ]
  },
  {
   "cell_type": "code",
   "execution_count": 106,
   "metadata": {},
   "outputs": [],
   "source": [
    "full_name=dfraf['UDEA_authors'].loc[0].get('full_name')"
   ]
  },
  {
   "cell_type": "code",
   "execution_count": 107,
   "metadata": {},
   "outputs": [
    {
     "data": {
      "text/plain": [
       "'PONCE GUTIERREZ WILLIAM ANTONIO'"
      ]
     },
     "execution_count": 107,
     "metadata": {},
     "output_type": "execute_result"
    }
   ],
   "source": [
    "full_name"
   ]
  },
  {
   "cell_type": "code",
   "execution_count": 108,
   "metadata": {},
   "outputs": [],
   "source": [
    "if True:\n",
    "        if Q<1:\n",
    "            cutoff_so=50\n",
    "            if Q<0.9:\n",
    "                cutoff_so=60\n",
    "            if not dfraf.empty:\n",
    "                full_name=dfraf[right_target].loc[0].get(\n",
    "                        extra_extra_right_on)\n",
    "                if full_name:\n",
    "                    kkk=UDEA[UDEA['UDEA_nombre'].str.contains(full_name)\n",
    "                                ].reset_index(drop=True)\n",
    "                    rso=fwp.extractOne( so,   kkk.SO, scorer=scorer)\n",
    "                    if not rso:\n",
    "                        JOURNAL=False\n",
    "                    elif rso[1]<cutoff_so:\n",
    "                        JOURNAL=False"
   ]
  },
  {
   "cell_type": "code",
   "execution_count": 109,
   "metadata": {},
   "outputs": [
    {
     "data": {
      "text/plain": [
       "'Zeitschrift für Physik C Particles and Fields'"
      ]
     },
     "execution_count": 109,
     "metadata": {},
     "output_type": "execute_result"
    }
   ],
   "source": [
    "so"
   ]
  },
  {
   "cell_type": "code",
   "execution_count": 110,
   "metadata": {},
   "outputs": [
    {
     "data": {
      "text/plain": [
       "0                             REVISTA MEXICANA DE FISICA\n",
       "1    ACTA PHYSICA HUNGARICA NEW SERIES-HEAVY ION PHYSICS\n",
       "Name: SO, dtype: object"
      ]
     },
     "execution_count": 110,
     "metadata": {},
     "output_type": "execute_result"
    }
   ],
   "source": [
    "kkk.SO[:2]"
   ]
  },
  {
   "cell_type": "code",
   "execution_count": 111,
   "metadata": {},
   "outputs": [
    {
     "data": {
      "text/plain": [
       "('PARTICLES AND FIELDS, PROCEEDINGS', 77, 2)"
      ]
     },
     "execution_count": 111,
     "metadata": {},
     "output_type": "execute_result"
    }
   ],
   "source": [
    "rso"
   ]
  },
  {
   "cell_type": "code",
   "execution_count": 112,
   "metadata": {},
   "outputs": [],
   "source": [
    "if True:            \n",
    "            #else:\n",
    "            if dfraf.empty:\n",
    "                JOURNAL=False"
   ]
  },
  {
   "cell_type": "code",
   "execution_count": 113,
   "metadata": {},
   "outputs": [
    {
     "data": {
      "text/plain": [
       "True"
      ]
     },
     "execution_count": 113,
     "metadata": {},
     "output_type": "execute_result"
    }
   ],
   "source": [
    "JOURNAL"
   ]
  },
  {
   "cell_type": "code",
   "execution_count": 127,
   "metadata": {},
   "outputs": [
    {
     "name": "stdout",
     "output_type": "stream",
     "text": [
      "Ponce, W. A. → PONCE GUTIERREZ WILLIAM ANTONIO\n"
     ]
    }
   ],
   "source": [
    "if True:\n",
    "        if AUTHOR and AFFILIATION and JOURNAL:\n",
    "            mthchedd=dfraf.loc[0,right_target]\n",
    "            mthchedd['from_author_WOS_WOS_author']=au\n",
    "            newl=newl+[  mthchedd  ]\n",
    "            print('{} → {}'.format(au,newl[0][extra_extra_right_on]) ) "
   ]
  },
  {
   "cell_type": "code",
   "execution_count": 123,
   "metadata": {},
   "outputs": [],
   "source": [
    "mthchedd"
   ]
  },
  {
   "cell_type": "markdown",
   "metadata": {},
   "source": [
    "Test full function  below"
   ]
  },
  {
   "cell_type": "markdown",
   "metadata": {},
   "source": [
    "# ================"
   ]
  },
  {
   "cell_type": "code",
   "execution_count": 128,
   "metadata": {},
   "outputs": [],
   "source": [
    "#for i in range(20):\n",
    "#l=dfnot['authors_WOS'].loc[i]\n",
    "#93,70\n",
    "from IPython.display import clear_output\n",
    "def json_fuzzy_merge(l,so,UDEA,contents,right_target='UDEA_authors',\n",
    "                       left_on='WOS_author',extra_left_on='affiliation',\n",
    "                       right_on='WOS_author',extra_right_on='WOS_affiliation',\n",
    "                       extra_extra_right_on='full_name',\n",
    "                       cutoff=93,cutoff_extra=70,scorer=fuzz.token_set_ratio,\n",
    "                       DEBUG=False):\n",
    "    newl=[]\n",
    "    for d in l:\n",
    "        clear_output(wait=True)\n",
    "        AUTHOR=False\n",
    "        AFFILIATION=False\n",
    "        JOURNAL=True\n",
    "\n",
    "        dfraf=pd.DataFrame()\n",
    "        au=d.get(left_on)\n",
    "        aff=d.get(extra_left_on)[0]\n",
    "        Q=1\n",
    "        # Try match author to a good degree\n",
    "        rau=fwp.extractOne(au,contents[right_on].apply(pd.Series).stack().unique(),scorer=scorer)\n",
    "        if DEBUG: print(1,rau)\n",
    "        if rau[1]>=cutoff:\n",
    "            AUTHOR=True\n",
    "        #Try match author with less quality: Q\n",
    "        else:\n",
    "            rau=fwp.extractOne(au,contents[right_on].apply(pd.Series).stack().unique(),\n",
    "                       scorer=fuzz.partial_token_sort_ratio)\n",
    "            if DEBUG: print(1.1,rau)            \n",
    "            if rau and rau[1]>=cutoff:\n",
    "                Q=Q-0.1\n",
    "                AUTHOR=True\n",
    "        if DEBUG: print(1.2,'AUTHOR:',AUTHOR)                            \n",
    "        if AUTHOR:\n",
    "            dfraf=contents[contents[right_on].apply( lambda l: rau[0] in l )\n",
    "                                ].reset_index(drop=True)\n",
    "            raf=fwp.extractOne(aff,dfraf[extra_right_on].loc[0],scorer=fuzz.ratio)\n",
    "            if DEBUG: print(2,raf)\n",
    "            if raf and raf[1]>=cutoff_extra:\n",
    "                AFFILIATION=True\n",
    "            else:\n",
    "                Q=Q-0.1\n",
    "                raf=fwp.extractOne(aff,dfraf[extra_right_on].loc[0],\n",
    "                                   scorer=fuzz.partial_token_set_ratio)\n",
    "                if DEBUG: print(2.1,raf)\n",
    "                if raf and raf[1]>=cutoff_extra:\n",
    "                    AFFILIATION=True\n",
    "\n",
    "        if DEBUG: print(2.2,'AFFILIATION:',AFFILIATION,'Q:',Q)                \n",
    "        if Q<1:\n",
    "            cutoff_so=50\n",
    "            if Q<0.9:\n",
    "                cutoff_so=60\n",
    "            if not dfraf.empty:\n",
    "                full_name=dfraf[right_target].loc[0].get(\n",
    "                        extra_extra_right_on)\n",
    "                if full_name:\n",
    "                    kkk=UDEA[UDEA['UDEA_nombre'].str.contains(full_name)\n",
    "                                ].reset_index(drop=True)\n",
    "                    rso=fwp.extractOne( so,   kkk.SO, scorer=scorer)\n",
    "                    if not rso:\n",
    "                        JOURNAL=False\n",
    "                    elif rso[1]<cutoff_so:\n",
    "                        JOURNAL=False\n",
    "            else:\n",
    "                JOURNAL=False\n",
    "        if DEBUG: print(3,'JOURNAL',JOURNAL)                \n",
    "        if AUTHOR and AFFILIATION and JOURNAL:\n",
    "            mthchedd=dfraf.loc[0,right_target]\n",
    "            mthchedd['from_author_WOS_WOS_author']=au\n",
    "            newl=newl+[  mthchedd  ]            \n",
    "            print('{} → {}'.format(au,newl[0][extra_extra_right_on]) ) \n",
    "    if newl:\n",
    "        return newl\n",
    "    else:\n",
    "        return None"
   ]
  },
  {
   "cell_type": "code",
   "execution_count": 129,
   "metadata": {},
   "outputs": [
    {
     "name": "stdout",
     "output_type": "stream",
     "text": [
      "1 ('Ponce, William A.', 88)\n",
      "1.1 ('Ponce, William A.', 100)\n",
      "1.2 AUTHOR: True\n",
      "2 ('Univ Antioquia, Inst Fis, Calle 70 52-21, Medellin, Colombia.', 43)\n",
      "2.1 ('Univ Antioquia, Inst Fis, Medellin, Colombia.', 100)\n",
      "2.2 AFFILIATION: True Q: 0.8\n",
      "3 JOURNAL True\n",
      "Ponce, W. A. → PONCE GUTIERREZ WILLIAM ANTONIO\n"
     ]
    }
   ],
   "source": [
    "dfraf=json_fuzzy_merge(l,so,UDEA,contents,DEBUG=True)"
   ]
  },
  {
   "cell_type": "code",
   "execution_count": 147,
   "metadata": {},
   "outputs": [
    {
     "name": "stdout",
     "output_type": "stream",
     "text": [
      "CPU times: user 1h 6min 46s, sys: 5.08 s, total: 1h 6min 51s\n",
      "Wall time: 1h 6min 51s\n"
     ]
    }
   ],
   "source": [
    "%time kk=UDEA_NOT['authors_WOS'].combine(UDEA_NOT['SO'],func=lambda l,so: json_fuzzy_merge(l,so,UDEA,contents) if type(l)==list else None)"
   ]
  },
  {
   "cell_type": "code",
   "execution_count": 151,
   "metadata": {},
   "outputs": [
    {
     "data": {
      "text/plain": [
       "(883,)"
      ]
     },
     "execution_count": 151,
     "metadata": {},
     "output_type": "execute_result"
    }
   ],
   "source": [
    "kk.dropna().shape"
   ]
  },
  {
   "cell_type": "code",
   "execution_count": 148,
   "metadata": {},
   "outputs": [],
   "source": [
    "qq=UDEA_NOT.reset_index(drop=True)\n",
    "qq['UDEA_authors']=kk"
   ]
  },
  {
   "cell_type": "code",
   "execution_count": 153,
   "metadata": {},
   "outputs": [],
   "source": [
    "#pp=qq[qq['authors_WOS'].astype(str).str.contains('Ponce, W. A.')].reset_index(drop=True)#[['authors_WOS','UDEA_authors']]"
   ]
  },
  {
   "cell_type": "code",
   "execution_count": 154,
   "metadata": {},
   "outputs": [],
   "source": [
    "#ppp=pp['authors_WOS'].combine(pp['SO'],func=lambda l,so: json_fuzzy_merge(l,so,UDEA,contents) \n",
    "#                              if type(l)==list else None)"
   ]
  },
  {
   "cell_type": "code",
   "execution_count": null,
   "metadata": {},
   "outputs": [],
   "source": [
    "#qq[['authors_WOS','UDEA_authors']]"
   ]
  },
  {
   "cell_type": "code",
   "execution_count": 155,
   "metadata": {},
   "outputs": [
    {
     "data": {
      "text/plain": [
       "15700"
      ]
     },
     "execution_count": 155,
     "metadata": {},
     "output_type": "execute_result"
    }
   ],
   "source": [
    "UDEA_NOT.shape[0]+UDEA_YES.shape[0]"
   ]
  },
  {
   "cell_type": "code",
   "execution_count": 156,
   "metadata": {},
   "outputs": [
    {
     "data": {
      "text/plain": [
       "(883,)"
      ]
     },
     "execution_count": 156,
     "metadata": {},
     "output_type": "execute_result"
    }
   ],
   "source": [
    "qq['UDEA_authors'].dropna().shape"
   ]
  },
  {
   "cell_type": "code",
   "execution_count": null,
   "metadata": {},
   "outputs": [],
   "source": []
  },
  {
   "cell_type": "code",
   "execution_count": 157,
   "metadata": {},
   "outputs": [],
   "source": [
    "qq=qq.fillna('')"
   ]
  },
  {
   "cell_type": "code",
   "execution_count": 158,
   "metadata": {},
   "outputs": [],
   "source": [
    "UDEA_NOT=qq.reset_index(drop=True)\n",
    "UDEA=UDEA_YES.append(UDEA_NOT,sort=False).reset_index(drop=True)"
   ]
  },
  {
   "cell_type": "markdown",
   "metadata": {},
   "source": [
    "### Quality check"
   ]
  },
  {
   "cell_type": "code",
   "execution_count": 193,
   "metadata": {},
   "outputs": [],
   "source": [
    "chk=pd.DataFrame( list(kk.dropna().str[0].values) )[['from_author_WOS_WOS_author','WOS_author','full_name']]"
   ]
  },
  {
   "cell_type": "code",
   "execution_count": 194,
   "metadata": {},
   "outputs": [],
   "source": [
    "import unidecode"
   ]
  },
  {
   "cell_type": "code",
   "execution_count": 295,
   "metadata": {},
   "outputs": [],
   "source": [
    "chk['simple_wos']=chk['from_author_WOS_WOS_author'].str.lower().str.replace(\n",
    "    '[\\.,]','').str.replace('\\-',' ').apply(unidecode.unidecode)\n",
    "chk['full_name'].str.lower().str.replace('[\\.,\\-]','').apply(unidecode.unidecode)\n",
    "chk['short_name']=chk['full_name'].str.lower().str.replace('[\\.,\\-]','').str.replace(\n",
    "            '^(\\w+\\s+\\w+\\s+\\w)\\w+(\\s+\\w)\\w+$',r'\\1\\2').str.replace(\n",
    "         '^(\\w+\\s+\\w+\\s+\\w)\\w+$',r'\\1').apply(unidecode.unidecode)\n",
    "chk['simple_name']=chk['full_name'].str.lower().str.replace('[\\.,\\-]','').str.replace(\n",
    "            '^(\\w+\\s+)\\w+\\s+(\\w+)\\s+\\w+$',r'\\1\\2').str.replace(\n",
    "            '^(\\w+\\s+)\\w+\\s+(\\w+)$',r'\\1\\2').apply(unidecode.unidecode)\n",
    "chk['last_name']=chk['full_name'].str.lower().str.replace('[\\.,\\-]','').str.replace(\n",
    "            '^(\\w+\\s+)\\w+\\s+(\\w+\\s+\\w+)$',r'\\1\\2')\n",
    "#dos apellidos y un nombre (sort)\n",
    "#un apellido y dos nombre  (sort)"
   ]
  },
  {
   "cell_type": "code",
   "execution_count": 296,
   "metadata": {},
   "outputs": [],
   "source": [
    "scorer=fuzz.token_set_ratio\n",
    "chk['s1']=chk['simple_wos'].combine( \n",
    "            chk['full_name'].str.lower().str.replace('[\\.,]','').apply(unidecode.unidecode),\n",
    "           func=fuzz.token_sort_ratio)\n",
    "chk['s1b']=chk['simple_wos'].combine( \n",
    "            chk['full_name'].str.lower().str.replace('[\\.,]','').apply(unidecode.unidecode),\n",
    "           func=fuzz.partial_token_sort_ratio)\n",
    "chk['s2']=chk['simple_wos'].combine(chk['short_name'],\n",
    "           func=scorer)\n",
    "chk['s3']=chk['simple_wos'].combine(chk['simple_name'],\n",
    "           func=fuzz.ratio)\n",
    "chk['s4']=chk['simple_wos'].combine(chk['last_name'],\n",
    "           func=fuzz.token_sort_ratio)"
   ]
  },
  {
   "cell_type": "code",
   "execution_count": 297,
   "metadata": {},
   "outputs": [],
   "source": [
    "chk['max']=chk[['s1','s1b','s2','s3','s4']].apply(max,axis=1)\n",
    "chk['min']=chk[['s1','s1b','s2','s3','s4']].apply(min,axis=1)"
   ]
  },
  {
   "cell_type": "code",
   "execution_count": 308,
   "metadata": {},
   "outputs": [
    {
     "data": {
      "text/html": [
       "<div>\n",
       "<style scoped>\n",
       "    .dataframe tbody tr th:only-of-type {\n",
       "        vertical-align: middle;\n",
       "    }\n",
       "\n",
       "    .dataframe tbody tr th {\n",
       "        vertical-align: top;\n",
       "    }\n",
       "\n",
       "    .dataframe thead th {\n",
       "        text-align: right;\n",
       "    }\n",
       "</style>\n",
       "<table border=\"1\" class=\"dataframe\">\n",
       "  <thead>\n",
       "    <tr style=\"text-align: right;\">\n",
       "      <th></th>\n",
       "      <th>simple_wos</th>\n",
       "      <th>full_name</th>\n",
       "      <th>s1</th>\n",
       "      <th>s1b</th>\n",
       "      <th>short_name</th>\n",
       "      <th>s2</th>\n",
       "      <th>simple_name</th>\n",
       "      <th>s3</th>\n",
       "      <th>last_name</th>\n",
       "      <th>s4</th>\n",
       "      <th>min</th>\n",
       "      <th>max</th>\n",
       "    </tr>\n",
       "  </thead>\n",
       "  <tbody>\n",
       "    <tr>\n",
       "      <th>50</th>\n",
       "      <td>zapata jose edgar</td>\n",
       "      <td>ZAPATA MONTOYA JOSE EDGAR</td>\n",
       "      <td>81</td>\n",
       "      <td>71</td>\n",
       "      <td>zapata montoya j e</td>\n",
       "      <td>63</td>\n",
       "      <td>zapata jose</td>\n",
       "      <td>79</td>\n",
       "      <td>zapata jose edgar</td>\n",
       "      <td>100</td>\n",
       "      <td>63</td>\n",
       "      <td>100</td>\n",
       "    </tr>\n",
       "    <tr>\n",
       "      <th>51</th>\n",
       "      <td>cadavid a p</td>\n",
       "      <td>CADAVID JARAMILLO ANGELA PATRICIA</td>\n",
       "      <td>50</td>\n",
       "      <td>91</td>\n",
       "      <td>cadavid jaramillo a p</td>\n",
       "      <td>100</td>\n",
       "      <td>cadavid angela</td>\n",
       "      <td>72</td>\n",
       "      <td>cadavid angela patricia</td>\n",
       "      <td>65</td>\n",
       "      <td>50</td>\n",
       "      <td>100</td>\n",
       "    </tr>\n",
       "    <tr>\n",
       "      <th>52</th>\n",
       "      <td>trujillo h</td>\n",
       "      <td>AGUDELO TRUJILLO JORGE HERNAN</td>\n",
       "      <td>51</td>\n",
       "      <td>90</td>\n",
       "      <td>agudelo trujillo j h</td>\n",
       "      <td>100</td>\n",
       "      <td>agudelo jorge</td>\n",
       "      <td>35</td>\n",
       "      <td>agudelo jorge hernan</td>\n",
       "      <td>27</td>\n",
       "      <td>27</td>\n",
       "      <td>100</td>\n",
       "    </tr>\n",
       "    <tr>\n",
       "      <th>53</th>\n",
       "      <td>posso c m z</td>\n",
       "      <td>POSSO ZAPATA CAROLINA MARIA</td>\n",
       "      <td>58</td>\n",
       "      <td>73</td>\n",
       "      <td>posso zapata c m</td>\n",
       "      <td>90</td>\n",
       "      <td>posso carolina</td>\n",
       "      <td>56</td>\n",
       "      <td>posso carolina maria</td>\n",
       "      <td>58</td>\n",
       "      <td>56</td>\n",
       "      <td>90</td>\n",
       "    </tr>\n",
       "    <tr>\n",
       "      <th>54</th>\n",
       "      <td>lopez lezama jesus m</td>\n",
       "      <td>LOPEZ LEZAMA JESUS MARIA</td>\n",
       "      <td>91</td>\n",
       "      <td>100</td>\n",
       "      <td>lopez lezama j m</td>\n",
       "      <td>93</td>\n",
       "      <td>lopez jesus</td>\n",
       "      <td>71</td>\n",
       "      <td>lopez jesus maria</td>\n",
       "      <td>70</td>\n",
       "      <td>70</td>\n",
       "      <td>100</td>\n",
       "    </tr>\n",
       "    <tr>\n",
       "      <th>55</th>\n",
       "      <td>castano llano r</td>\n",
       "      <td>CASTAÑO LLANO RODRIGO</td>\n",
       "      <td>83</td>\n",
       "      <td>100</td>\n",
       "      <td>castano llano r</td>\n",
       "      <td>100</td>\n",
       "      <td>castano rodrigo</td>\n",
       "      <td>67</td>\n",
       "      <td>castaño llano rodrigo</td>\n",
       "      <td>80</td>\n",
       "      <td>67</td>\n",
       "      <td>100</td>\n",
       "    </tr>\n",
       "    <tr>\n",
       "      <th>56</th>\n",
       "      <td>vasquez gloria</td>\n",
       "      <td>RESTREPO VASQUEZ GLORIA MARIA</td>\n",
       "      <td>65</td>\n",
       "      <td>64</td>\n",
       "      <td>restrepo vasquez g m</td>\n",
       "      <td>67</td>\n",
       "      <td>restrepo gloria</td>\n",
       "      <td>62</td>\n",
       "      <td>restrepo gloria maria</td>\n",
       "      <td>57</td>\n",
       "      <td>57</td>\n",
       "      <td>67</td>\n",
       "    </tr>\n",
       "    <tr>\n",
       "      <th>57</th>\n",
       "      <td>blair s t</td>\n",
       "      <td>BLAIR TRUJILLO SILVIA VICTORIA</td>\n",
       "      <td>46</td>\n",
       "      <td>78</td>\n",
       "      <td>blair trujillo s v</td>\n",
       "      <td>88</td>\n",
       "      <td>blair silvia</td>\n",
       "      <td>67</td>\n",
       "      <td>blair silvia victoria</td>\n",
       "      <td>60</td>\n",
       "      <td>46</td>\n",
       "      <td>88</td>\n",
       "    </tr>\n",
       "    <tr>\n",
       "      <th>58</th>\n",
       "      <td>velasquez lopera margarita maria</td>\n",
       "      <td>VELASQUEZ LOPERA MARGARITA MARIA</td>\n",
       "      <td>100</td>\n",
       "      <td>100</td>\n",
       "      <td>velasquez lopera m m</td>\n",
       "      <td>94</td>\n",
       "      <td>velasquez margarita</td>\n",
       "      <td>75</td>\n",
       "      <td>velasquez margarita maria</td>\n",
       "      <td>88</td>\n",
       "      <td>75</td>\n",
       "      <td>100</td>\n",
       "    </tr>\n",
       "    <tr>\n",
       "      <th>59</th>\n",
       "      <td>martinez gutierrez marlen</td>\n",
       "      <td>MARTINEZ GUTIERREZ MARLEN</td>\n",
       "      <td>100</td>\n",
       "      <td>100</td>\n",
       "      <td>martinez gutierrez m</td>\n",
       "      <td>95</td>\n",
       "      <td>martinez marlen</td>\n",
       "      <td>75</td>\n",
       "      <td>martinez gutierrez marlen</td>\n",
       "      <td>100</td>\n",
       "      <td>75</td>\n",
       "      <td>100</td>\n",
       "    </tr>\n",
       "    <tr>\n",
       "      <th>60</th>\n",
       "      <td>cardona alvaro</td>\n",
       "      <td>CARDONA SALDARRIAGA ALVARO LEON</td>\n",
       "      <td>62</td>\n",
       "      <td>100</td>\n",
       "      <td>cardona saldarriaga a l</td>\n",
       "      <td>67</td>\n",
       "      <td>cardona alvaro</td>\n",
       "      <td>100</td>\n",
       "      <td>cardona alvaro leon</td>\n",
       "      <td>85</td>\n",
       "      <td>62</td>\n",
       "      <td>100</td>\n",
       "    </tr>\n",
       "    <tr>\n",
       "      <th>61</th>\n",
       "      <td>palacio baena luis guillermo</td>\n",
       "      <td>PALACIO BAENA LUIS GUILLERMO</td>\n",
       "      <td>100</td>\n",
       "      <td>100</td>\n",
       "      <td>palacio baena l g</td>\n",
       "      <td>87</td>\n",
       "      <td>palacio luis</td>\n",
       "      <td>60</td>\n",
       "      <td>palacio luis guillermo</td>\n",
       "      <td>88</td>\n",
       "      <td>60</td>\n",
       "      <td>100</td>\n",
       "    </tr>\n",
       "    <tr>\n",
       "      <th>62</th>\n",
       "      <td>arango isabel cristina</td>\n",
       "      <td>ARANGO TORO CLARA MARIA</td>\n",
       "      <td>58</td>\n",
       "      <td>59</td>\n",
       "      <td>arango toro c m</td>\n",
       "      <td>57</td>\n",
       "      <td>arango clara</td>\n",
       "      <td>59</td>\n",
       "      <td>arango clara maria</td>\n",
       "      <td>65</td>\n",
       "      <td>57</td>\n",
       "      <td>65</td>\n",
       "    </tr>\n",
       "    <tr>\n",
       "      <th>63</th>\n",
       "      <td>ramirez gomez l a</td>\n",
       "      <td>RAMIREZ GOMEZ LUIS ALBERTO</td>\n",
       "      <td>79</td>\n",
       "      <td>82</td>\n",
       "      <td>ramirez gomez l a</td>\n",
       "      <td>100</td>\n",
       "      <td>ramirez luis</td>\n",
       "      <td>62</td>\n",
       "      <td>ramirez luis alberto</td>\n",
       "      <td>65</td>\n",
       "      <td>62</td>\n",
       "      <td>100</td>\n",
       "    </tr>\n",
       "    <tr>\n",
       "      <th>64</th>\n",
       "      <td>zapata o a</td>\n",
       "      <td>ZAPATA NOREÑA OSCAR ALBERTO</td>\n",
       "      <td>54</td>\n",
       "      <td>80</td>\n",
       "      <td>zapata norena o a</td>\n",
       "      <td>100</td>\n",
       "      <td>zapata oscar</td>\n",
       "      <td>82</td>\n",
       "      <td>zapata oscar alberto</td>\n",
       "      <td>67</td>\n",
       "      <td>54</td>\n",
       "      <td>100</td>\n",
       "    </tr>\n",
       "    <tr>\n",
       "      <th>65</th>\n",
       "      <td>carlos restrepo juan</td>\n",
       "      <td>RESTREPO GUTIERREZ JUAN CARLOS</td>\n",
       "      <td>80</td>\n",
       "      <td>75</td>\n",
       "      <td>restrepo gutierrez j c</td>\n",
       "      <td>62</td>\n",
       "      <td>restrepo juan</td>\n",
       "      <td>79</td>\n",
       "      <td>restrepo juan carlos</td>\n",
       "      <td>100</td>\n",
       "      <td>62</td>\n",
       "      <td>100</td>\n",
       "    </tr>\n",
       "    <tr>\n",
       "      <th>66</th>\n",
       "      <td>vargas c a</td>\n",
       "      <td>VARGAS UPEGUI CRISTIAN DAVID</td>\n",
       "      <td>47</td>\n",
       "      <td>70</td>\n",
       "      <td>vargas upegui c d</td>\n",
       "      <td>89</td>\n",
       "      <td>vargas cristian</td>\n",
       "      <td>72</td>\n",
       "      <td>vargas cristian david</td>\n",
       "      <td>58</td>\n",
       "      <td>47</td>\n",
       "      <td>89</td>\n",
       "    </tr>\n",
       "    <tr>\n",
       "      <th>67</th>\n",
       "      <td>garnica ruth eraso</td>\n",
       "      <td>ERASO GARNICA RUTH MARIA</td>\n",
       "      <td>86</td>\n",
       "      <td>83</td>\n",
       "      <td>eraso garnica r m</td>\n",
       "      <td>87</td>\n",
       "      <td>eraso ruth</td>\n",
       "      <td>50</td>\n",
       "      <td>eraso ruth maria</td>\n",
       "      <td>88</td>\n",
       "      <td>50</td>\n",
       "      <td>88</td>\n",
       "    </tr>\n",
       "    <tr>\n",
       "      <th>68</th>\n",
       "      <td>marquez giron sara maria</td>\n",
       "      <td>MARQUEZ GIRON SARA MARIA</td>\n",
       "      <td>100</td>\n",
       "      <td>100</td>\n",
       "      <td>marquez giron s m</td>\n",
       "      <td>87</td>\n",
       "      <td>marquez sara</td>\n",
       "      <td>67</td>\n",
       "      <td>marquez sara maria</td>\n",
       "      <td>86</td>\n",
       "      <td>67</td>\n",
       "      <td>100</td>\n",
       "    </tr>\n",
       "    <tr>\n",
       "      <th>69</th>\n",
       "      <td>munoz cuartas j c</td>\n",
       "      <td>MUÑOZ CUARTAS JUAN CARLOS</td>\n",
       "      <td>81</td>\n",
       "      <td>82</td>\n",
       "      <td>munoz cuartas j c</td>\n",
       "      <td>100</td>\n",
       "      <td>munoz juan</td>\n",
       "      <td>59</td>\n",
       "      <td>muñoz juan carlos</td>\n",
       "      <td>67</td>\n",
       "      <td>59</td>\n",
       "      <td>100</td>\n",
       "    </tr>\n",
       "    <tr>\n",
       "      <th>70</th>\n",
       "      <td>garcia soto german</td>\n",
       "      <td>GARCIA SOTO GERMAN</td>\n",
       "      <td>100</td>\n",
       "      <td>100</td>\n",
       "      <td>garcia soto g</td>\n",
       "      <td>92</td>\n",
       "      <td>garcia german</td>\n",
       "      <td>84</td>\n",
       "      <td>garcia soto german</td>\n",
       "      <td>100</td>\n",
       "      <td>84</td>\n",
       "      <td>100</td>\n",
       "    </tr>\n",
       "    <tr>\n",
       "      <th>71</th>\n",
       "      <td>duque patricia</td>\n",
       "      <td>DUQUE QUINTERO SANDRA PATRICIA</td>\n",
       "      <td>64</td>\n",
       "      <td>100</td>\n",
       "      <td>duque quintero s p</td>\n",
       "      <td>56</td>\n",
       "      <td>duque sandra</td>\n",
       "      <td>69</td>\n",
       "      <td>duque sandra patricia</td>\n",
       "      <td>80</td>\n",
       "      <td>56</td>\n",
       "      <td>100</td>\n",
       "    </tr>\n",
       "    <tr>\n",
       "      <th>72</th>\n",
       "      <td>aguirre carlos arturo</td>\n",
       "      <td>AGUIRRE MUÑOZ CARLOS ARTURO</td>\n",
       "      <td>88</td>\n",
       "      <td>100</td>\n",
       "      <td>aguirre munoz c a</td>\n",
       "      <td>63</td>\n",
       "      <td>aguirre carlos</td>\n",
       "      <td>80</td>\n",
       "      <td>aguirre carlos arturo</td>\n",
       "      <td>100</td>\n",
       "      <td>63</td>\n",
       "      <td>100</td>\n",
       "    </tr>\n",
       "    <tr>\n",
       "      <th>73</th>\n",
       "      <td>garcia andres felipe</td>\n",
       "      <td>GARCIA PINEDA ANDRES FELIPE</td>\n",
       "      <td>85</td>\n",
       "      <td>100</td>\n",
       "      <td>garcia pineda a f</td>\n",
       "      <td>65</td>\n",
       "      <td>garcia andres</td>\n",
       "      <td>79</td>\n",
       "      <td>garcia andres felipe</td>\n",
       "      <td>100</td>\n",
       "      <td>65</td>\n",
       "      <td>100</td>\n",
       "    </tr>\n",
       "    <tr>\n",
       "      <th>74</th>\n",
       "      <td>calderon j c</td>\n",
       "      <td>CALDERON VELEZ JUAN CAMILO</td>\n",
       "      <td>53</td>\n",
       "      <td>75</td>\n",
       "      <td>calderon velez j c</td>\n",
       "      <td>100</td>\n",
       "      <td>calderon juan</td>\n",
       "      <td>80</td>\n",
       "      <td>calderon juan camilo</td>\n",
       "      <td>62</td>\n",
       "      <td>53</td>\n",
       "      <td>100</td>\n",
       "    </tr>\n",
       "    <tr>\n",
       "      <th>75</th>\n",
       "      <td>villegas restrepo juan e</td>\n",
       "      <td>VILLEGAS PALACIO JUAN CAMILO</td>\n",
       "      <td>65</td>\n",
       "      <td>72</td>\n",
       "      <td>villegas palacio j c</td>\n",
       "      <td>64</td>\n",
       "      <td>villegas juan</td>\n",
       "      <td>70</td>\n",
       "      <td>villegas juan camilo</td>\n",
       "      <td>64</td>\n",
       "      <td>64</td>\n",
       "      <td>72</td>\n",
       "    </tr>\n",
       "    <tr>\n",
       "      <th>76</th>\n",
       "      <td>gallego gomez juan carlos</td>\n",
       "      <td>GALLEGO GOMEZ JUAN CARLOS</td>\n",
       "      <td>100</td>\n",
       "      <td>100</td>\n",
       "      <td>gallego gomez j c</td>\n",
       "      <td>87</td>\n",
       "      <td>gallego juan</td>\n",
       "      <td>65</td>\n",
       "      <td>gallego juan carlos</td>\n",
       "      <td>86</td>\n",
       "      <td>65</td>\n",
       "      <td>100</td>\n",
       "    </tr>\n",
       "    <tr>\n",
       "      <th>77</th>\n",
       "      <td>chaverra fernandez dora ines</td>\n",
       "      <td>CHAVERRA FERNANDEZ DORA INES</td>\n",
       "      <td>100</td>\n",
       "      <td>100</td>\n",
       "      <td>chaverra fernandez d i</td>\n",
       "      <td>90</td>\n",
       "      <td>chaverra dora</td>\n",
       "      <td>63</td>\n",
       "      <td>chaverra dora ines</td>\n",
       "      <td>78</td>\n",
       "      <td>63</td>\n",
       "      <td>100</td>\n",
       "    </tr>\n",
       "    <tr>\n",
       "      <th>78</th>\n",
       "      <td>sanabria alvaro</td>\n",
       "      <td>SANABRIA QUIROGA ALVARO ENRIQUE</td>\n",
       "      <td>65</td>\n",
       "      <td>73</td>\n",
       "      <td>sanabria quiroga a e</td>\n",
       "      <td>70</td>\n",
       "      <td>sanabria alvaro</td>\n",
       "      <td>100</td>\n",
       "      <td>sanabria alvaro enrique</td>\n",
       "      <td>79</td>\n",
       "      <td>65</td>\n",
       "      <td>100</td>\n",
       "    </tr>\n",
       "    <tr>\n",
       "      <th>79</th>\n",
       "      <td>roman gonzalez alejandro</td>\n",
       "      <td>ROMAN GONZALEZ ALEJANDRO</td>\n",
       "      <td>100</td>\n",
       "      <td>100</td>\n",
       "      <td>roman gonzalez a</td>\n",
       "      <td>93</td>\n",
       "      <td>roman alejandro</td>\n",
       "      <td>77</td>\n",
       "      <td>roman gonzalez alejandro</td>\n",
       "      <td>100</td>\n",
       "      <td>77</td>\n",
       "      <td>100</td>\n",
       "    </tr>\n",
       "    <tr>\n",
       "      <th>80</th>\n",
       "      <td>jaramillo aristizabal m c</td>\n",
       "      <td>ARISTIZABAL RIVERA JUAN CARLOS</td>\n",
       "      <td>65</td>\n",
       "      <td>72</td>\n",
       "      <td>aristizabal rivera j c</td>\n",
       "      <td>74</td>\n",
       "      <td>aristizabal juan</td>\n",
       "      <td>59</td>\n",
       "      <td>aristizabal juan carlos</td>\n",
       "      <td>75</td>\n",
       "      <td>59</td>\n",
       "      <td>75</td>\n",
       "    </tr>\n",
       "    <tr>\n",
       "      <th>81</th>\n",
       "      <td>gallo rios j f</td>\n",
       "      <td>GALLO VILLEGAS JAIME ALBERTO</td>\n",
       "      <td>52</td>\n",
       "      <td>64</td>\n",
       "      <td>gallo villegas j a</td>\n",
       "      <td>69</td>\n",
       "      <td>gallo jaime</td>\n",
       "      <td>56</td>\n",
       "      <td>gallo jaime alberto</td>\n",
       "      <td>55</td>\n",
       "      <td>52</td>\n",
       "      <td>69</td>\n",
       "    </tr>\n",
       "    <tr>\n",
       "      <th>82</th>\n",
       "      <td>mahecha l</td>\n",
       "      <td>MAHECHA LEDESMA LILIANA</td>\n",
       "      <td>56</td>\n",
       "      <td>89</td>\n",
       "      <td>mahecha ledesma l</td>\n",
       "      <td>100</td>\n",
       "      <td>mahecha liliana</td>\n",
       "      <td>75</td>\n",
       "      <td>mahecha ledesma liliana</td>\n",
       "      <td>56</td>\n",
       "      <td>56</td>\n",
       "      <td>100</td>\n",
       "    </tr>\n",
       "    <tr>\n",
       "      <th>83</th>\n",
       "      <td>solari s</td>\n",
       "      <td>SOLARI TORRES SERGIO ALCIDES</td>\n",
       "      <td>44</td>\n",
       "      <td>88</td>\n",
       "      <td>solari torres s a</td>\n",
       "      <td>100</td>\n",
       "      <td>solari sergio</td>\n",
       "      <td>76</td>\n",
       "      <td>solari sergio alcides</td>\n",
       "      <td>55</td>\n",
       "      <td>44</td>\n",
       "      <td>100</td>\n",
       "    </tr>\n",
       "    <tr>\n",
       "      <th>84</th>\n",
       "      <td>ceron munoz m f</td>\n",
       "      <td>CERON MUÑOZ MARIO FERNANDO</td>\n",
       "      <td>73</td>\n",
       "      <td>60</td>\n",
       "      <td>ceron munoz m f</td>\n",
       "      <td>100</td>\n",
       "      <td>ceron mario</td>\n",
       "      <td>62</td>\n",
       "      <td>ceron mario fernando</td>\n",
       "      <td>57</td>\n",
       "      <td>57</td>\n",
       "      <td>100</td>\n",
       "    </tr>\n",
       "    <tr>\n",
       "      <th>85</th>\n",
       "      <td>luis franco jose</td>\n",
       "      <td>FRANCO RESTREPO JOSE LUIS</td>\n",
       "      <td>78</td>\n",
       "      <td>100</td>\n",
       "      <td>franco restrepo j l</td>\n",
       "      <td>63</td>\n",
       "      <td>franco jose</td>\n",
       "      <td>81</td>\n",
       "      <td>franco jose luis</td>\n",
       "      <td>100</td>\n",
       "      <td>63</td>\n",
       "      <td>100</td>\n",
       "    </tr>\n",
       "    <tr>\n",
       "      <th>86</th>\n",
       "      <td>olivera a m</td>\n",
       "      <td>OLIVERA ANGEL MARTHA EUFEMIA</td>\n",
       "      <td>56</td>\n",
       "      <td>82</td>\n",
       "      <td>olivera angel m e</td>\n",
       "      <td>90</td>\n",
       "      <td>olivera martha</td>\n",
       "      <td>72</td>\n",
       "      <td>olivera martha eufemia</td>\n",
       "      <td>67</td>\n",
       "      <td>56</td>\n",
       "      <td>90</td>\n",
       "    </tr>\n",
       "    <tr>\n",
       "      <th>87</th>\n",
       "      <td>rios osorio l a</td>\n",
       "      <td>RIOS OSORIO LEONARDO ALBERTO</td>\n",
       "      <td>70</td>\n",
       "      <td>80</td>\n",
       "      <td>rios osorio l a</td>\n",
       "      <td>100</td>\n",
       "      <td>rios leonardo</td>\n",
       "      <td>57</td>\n",
       "      <td>rios leonardo alberto</td>\n",
       "      <td>61</td>\n",
       "      <td>57</td>\n",
       "      <td>100</td>\n",
       "    </tr>\n",
       "    <tr>\n",
       "      <th>88</th>\n",
       "      <td>arango j c</td>\n",
       "      <td>ARANGO VIANA JUAN CARLOS</td>\n",
       "      <td>59</td>\n",
       "      <td>80</td>\n",
       "      <td>arango viana j c</td>\n",
       "      <td>100</td>\n",
       "      <td>arango juan</td>\n",
       "      <td>76</td>\n",
       "      <td>arango juan carlos</td>\n",
       "      <td>71</td>\n",
       "      <td>59</td>\n",
       "      <td>100</td>\n",
       "    </tr>\n",
       "    <tr>\n",
       "      <th>89</th>\n",
       "      <td>rodriguez e holmes</td>\n",
       "      <td>RODRIGUEZ ESPINOSA HOLMES HERNAN</td>\n",
       "      <td>72</td>\n",
       "      <td>94</td>\n",
       "      <td>rodriguez espinosa h h</td>\n",
       "      <td>68</td>\n",
       "      <td>rodriguez holmes</td>\n",
       "      <td>94</td>\n",
       "      <td>rodriguez holmes hernan</td>\n",
       "      <td>88</td>\n",
       "      <td>68</td>\n",
       "      <td>94</td>\n",
       "    </tr>\n",
       "    <tr>\n",
       "      <th>90</th>\n",
       "      <td>garcia posada r a</td>\n",
       "      <td>POSADA LOPEZ GLADYS ADRIANA</td>\n",
       "      <td>50</td>\n",
       "      <td>53</td>\n",
       "      <td>posada lopez g a</td>\n",
       "      <td>67</td>\n",
       "      <td>posada gladys</td>\n",
       "      <td>53</td>\n",
       "      <td>posada gladys adriana</td>\n",
       "      <td>58</td>\n",
       "      <td>50</td>\n",
       "      <td>67</td>\n",
       "    </tr>\n",
       "    <tr>\n",
       "      <th>91</th>\n",
       "      <td>maria robledo sara</td>\n",
       "      <td>ROBLEDO RESTREPO SARA MARIA</td>\n",
       "      <td>80</td>\n",
       "      <td>78</td>\n",
       "      <td>robledo restrepo s m</td>\n",
       "      <td>63</td>\n",
       "      <td>robledo sara</td>\n",
       "      <td>80</td>\n",
       "      <td>robledo sara maria</td>\n",
       "      <td>100</td>\n",
       "      <td>63</td>\n",
       "      <td>100</td>\n",
       "    </tr>\n",
       "    <tr>\n",
       "      <th>92</th>\n",
       "      <td>agudelo g m</td>\n",
       "      <td>AGUDELO OCHOA GLORIA MARIA</td>\n",
       "      <td>59</td>\n",
       "      <td>82</td>\n",
       "      <td>agudelo ochoa g m</td>\n",
       "      <td>100</td>\n",
       "      <td>agudelo gloria</td>\n",
       "      <td>72</td>\n",
       "      <td>agudelo gloria maria</td>\n",
       "      <td>71</td>\n",
       "      <td>59</td>\n",
       "      <td>100</td>\n",
       "    </tr>\n",
       "    <tr>\n",
       "      <th>93</th>\n",
       "      <td>florez ivan d</td>\n",
       "      <td>FLOREZ GOMEZ IVAN DARIO</td>\n",
       "      <td>72</td>\n",
       "      <td>69</td>\n",
       "      <td>florez gomez i d</td>\n",
       "      <td>76</td>\n",
       "      <td>florez ivan</td>\n",
       "      <td>92</td>\n",
       "      <td>florez ivan dario</td>\n",
       "      <td>87</td>\n",
       "      <td>69</td>\n",
       "      <td>92</td>\n",
       "    </tr>\n",
       "    <tr>\n",
       "      <th>94</th>\n",
       "      <td>carlos montoya juan</td>\n",
       "      <td>MONTOYA GUARIN CARLOS JULIO</td>\n",
       "      <td>78</td>\n",
       "      <td>68</td>\n",
       "      <td>montoya guarin c j</td>\n",
       "      <td>70</td>\n",
       "      <td>montoya carlos</td>\n",
       "      <td>55</td>\n",
       "      <td>montoya carlos julio</td>\n",
       "      <td>87</td>\n",
       "      <td>55</td>\n",
       "      <td>87</td>\n",
       "    </tr>\n",
       "    <tr>\n",
       "      <th>95</th>\n",
       "      <td>villegas castano a</td>\n",
       "      <td>VILLEGAS LANAU CARLOS ANDRES</td>\n",
       "      <td>70</td>\n",
       "      <td>67</td>\n",
       "      <td>villegas lanau c a</td>\n",
       "      <td>78</td>\n",
       "      <td>villegas carlos</td>\n",
       "      <td>73</td>\n",
       "      <td>villegas carlos andres</td>\n",
       "      <td>70</td>\n",
       "      <td>67</td>\n",
       "      <td>78</td>\n",
       "    </tr>\n",
       "    <tr>\n",
       "      <th>96</th>\n",
       "      <td>ochoa ama</td>\n",
       "      <td>AGUDELO OCHOA ANA MARIA</td>\n",
       "      <td>56</td>\n",
       "      <td>78</td>\n",
       "      <td>agudelo ochoa a m</td>\n",
       "      <td>71</td>\n",
       "      <td>agudelo ana</td>\n",
       "      <td>40</td>\n",
       "      <td>agudelo ana maria</td>\n",
       "      <td>31</td>\n",
       "      <td>31</td>\n",
       "      <td>78</td>\n",
       "    </tr>\n",
       "    <tr>\n",
       "      <th>97</th>\n",
       "      <td>villegas jag</td>\n",
       "      <td>VILLEGAS RAMIREZ JUAN GUILLERMO</td>\n",
       "      <td>51</td>\n",
       "      <td>75</td>\n",
       "      <td>villegas ramirez j g</td>\n",
       "      <td>80</td>\n",
       "      <td>villegas juan</td>\n",
       "      <td>88</td>\n",
       "      <td>villegas juan guillermo</td>\n",
       "      <td>63</td>\n",
       "      <td>51</td>\n",
       "      <td>88</td>\n",
       "    </tr>\n",
       "    <tr>\n",
       "      <th>98</th>\n",
       "      <td>vargas c</td>\n",
       "      <td>TRUJILLO VARGAS CLAUDIA MILENA</td>\n",
       "      <td>42</td>\n",
       "      <td>88</td>\n",
       "      <td>trujillo vargas c m</td>\n",
       "      <td>100</td>\n",
       "      <td>trujillo claudia</td>\n",
       "      <td>25</td>\n",
       "      <td>trujillo claudia milena</td>\n",
       "      <td>26</td>\n",
       "      <td>25</td>\n",
       "      <td>100</td>\n",
       "    </tr>\n",
       "    <tr>\n",
       "      <th>99</th>\n",
       "      <td>jaimes barragan f</td>\n",
       "      <td>JAIMES BARRAGAN FABIAN ALBERTO</td>\n",
       "      <td>72</td>\n",
       "      <td>71</td>\n",
       "      <td>jaimes barragan f a</td>\n",
       "      <td>100</td>\n",
       "      <td>jaimes fabian</td>\n",
       "      <td>67</td>\n",
       "      <td>jaimes fabian alberto</td>\n",
       "      <td>63</td>\n",
       "      <td>63</td>\n",
       "      <td>100</td>\n",
       "    </tr>\n",
       "  </tbody>\n",
       "</table>\n",
       "</div>"
      ],
      "text/plain": [
       "                          simple_wos                          full_name   s1  \\\n",
       "50                 zapata jose edgar          ZAPATA MONTOYA JOSE EDGAR   81   \n",
       "51                       cadavid a p  CADAVID JARAMILLO ANGELA PATRICIA   50   \n",
       "52                        trujillo h      AGUDELO TRUJILLO JORGE HERNAN   51   \n",
       "53                       posso c m z        POSSO ZAPATA CAROLINA MARIA   58   \n",
       "54              lopez lezama jesus m           LOPEZ LEZAMA JESUS MARIA   91   \n",
       "55                   castano llano r              CASTAÑO LLANO RODRIGO   83   \n",
       "56                    vasquez gloria      RESTREPO VASQUEZ GLORIA MARIA   65   \n",
       "57                         blair s t     BLAIR TRUJILLO SILVIA VICTORIA   46   \n",
       "58  velasquez lopera margarita maria   VELASQUEZ LOPERA MARGARITA MARIA  100   \n",
       "59         martinez gutierrez marlen          MARTINEZ GUTIERREZ MARLEN  100   \n",
       "60                    cardona alvaro    CARDONA SALDARRIAGA ALVARO LEON   62   \n",
       "61      palacio baena luis guillermo       PALACIO BAENA LUIS GUILLERMO  100   \n",
       "62            arango isabel cristina            ARANGO TORO CLARA MARIA   58   \n",
       "63                 ramirez gomez l a         RAMIREZ GOMEZ LUIS ALBERTO   79   \n",
       "64                        zapata o a        ZAPATA NOREÑA OSCAR ALBERTO   54   \n",
       "65              carlos restrepo juan     RESTREPO GUTIERREZ JUAN CARLOS   80   \n",
       "66                        vargas c a       VARGAS UPEGUI CRISTIAN DAVID   47   \n",
       "67                garnica ruth eraso           ERASO GARNICA RUTH MARIA   86   \n",
       "68          marquez giron sara maria           MARQUEZ GIRON SARA MARIA  100   \n",
       "69                 munoz cuartas j c          MUÑOZ CUARTAS JUAN CARLOS   81   \n",
       "70                garcia soto german                 GARCIA SOTO GERMAN  100   \n",
       "71                    duque patricia     DUQUE QUINTERO SANDRA PATRICIA   64   \n",
       "72             aguirre carlos arturo        AGUIRRE MUÑOZ CARLOS ARTURO   88   \n",
       "73              garcia andres felipe        GARCIA PINEDA ANDRES FELIPE   85   \n",
       "74                      calderon j c         CALDERON VELEZ JUAN CAMILO   53   \n",
       "75          villegas restrepo juan e       VILLEGAS PALACIO JUAN CAMILO   65   \n",
       "76         gallego gomez juan carlos          GALLEGO GOMEZ JUAN CARLOS  100   \n",
       "77      chaverra fernandez dora ines       CHAVERRA FERNANDEZ DORA INES  100   \n",
       "78                   sanabria alvaro    SANABRIA QUIROGA ALVARO ENRIQUE   65   \n",
       "79          roman gonzalez alejandro           ROMAN GONZALEZ ALEJANDRO  100   \n",
       "80         jaramillo aristizabal m c     ARISTIZABAL RIVERA JUAN CARLOS   65   \n",
       "81                    gallo rios j f       GALLO VILLEGAS JAIME ALBERTO   52   \n",
       "82                         mahecha l            MAHECHA LEDESMA LILIANA   56   \n",
       "83                          solari s       SOLARI TORRES SERGIO ALCIDES   44   \n",
       "84                   ceron munoz m f         CERON MUÑOZ MARIO FERNANDO   73   \n",
       "85                  luis franco jose          FRANCO RESTREPO JOSE LUIS   78   \n",
       "86                       olivera a m       OLIVERA ANGEL MARTHA EUFEMIA   56   \n",
       "87                   rios osorio l a       RIOS OSORIO LEONARDO ALBERTO   70   \n",
       "88                        arango j c           ARANGO VIANA JUAN CARLOS   59   \n",
       "89                rodriguez e holmes   RODRIGUEZ ESPINOSA HOLMES HERNAN   72   \n",
       "90                 garcia posada r a        POSADA LOPEZ GLADYS ADRIANA   50   \n",
       "91                maria robledo sara        ROBLEDO RESTREPO SARA MARIA   80   \n",
       "92                       agudelo g m         AGUDELO OCHOA GLORIA MARIA   59   \n",
       "93                     florez ivan d            FLOREZ GOMEZ IVAN DARIO   72   \n",
       "94               carlos montoya juan        MONTOYA GUARIN CARLOS JULIO   78   \n",
       "95                villegas castano a       VILLEGAS LANAU CARLOS ANDRES   70   \n",
       "96                         ochoa ama            AGUDELO OCHOA ANA MARIA   56   \n",
       "97                      villegas jag    VILLEGAS RAMIREZ JUAN GUILLERMO   51   \n",
       "98                          vargas c     TRUJILLO VARGAS CLAUDIA MILENA   42   \n",
       "99                 jaimes barragan f     JAIMES BARRAGAN FABIAN ALBERTO   72   \n",
       "\n",
       "    s1b               short_name   s2          simple_name   s3  \\\n",
       "50   71       zapata montoya j e   63          zapata jose   79   \n",
       "51   91    cadavid jaramillo a p  100       cadavid angela   72   \n",
       "52   90     agudelo trujillo j h  100        agudelo jorge   35   \n",
       "53   73         posso zapata c m   90       posso carolina   56   \n",
       "54  100         lopez lezama j m   93          lopez jesus   71   \n",
       "55  100          castano llano r  100      castano rodrigo   67   \n",
       "56   64     restrepo vasquez g m   67      restrepo gloria   62   \n",
       "57   78       blair trujillo s v   88         blair silvia   67   \n",
       "58  100     velasquez lopera m m   94  velasquez margarita   75   \n",
       "59  100     martinez gutierrez m   95      martinez marlen   75   \n",
       "60  100  cardona saldarriaga a l   67       cardona alvaro  100   \n",
       "61  100        palacio baena l g   87         palacio luis   60   \n",
       "62   59          arango toro c m   57         arango clara   59   \n",
       "63   82        ramirez gomez l a  100         ramirez luis   62   \n",
       "64   80        zapata norena o a  100         zapata oscar   82   \n",
       "65   75   restrepo gutierrez j c   62        restrepo juan   79   \n",
       "66   70        vargas upegui c d   89      vargas cristian   72   \n",
       "67   83        eraso garnica r m   87           eraso ruth   50   \n",
       "68  100        marquez giron s m   87         marquez sara   67   \n",
       "69   82        munoz cuartas j c  100           munoz juan   59   \n",
       "70  100            garcia soto g   92        garcia german   84   \n",
       "71  100       duque quintero s p   56         duque sandra   69   \n",
       "72  100        aguirre munoz c a   63       aguirre carlos   80   \n",
       "73  100        garcia pineda a f   65        garcia andres   79   \n",
       "74   75       calderon velez j c  100        calderon juan   80   \n",
       "75   72     villegas palacio j c   64        villegas juan   70   \n",
       "76  100        gallego gomez j c   87         gallego juan   65   \n",
       "77  100   chaverra fernandez d i   90        chaverra dora   63   \n",
       "78   73     sanabria quiroga a e   70      sanabria alvaro  100   \n",
       "79  100         roman gonzalez a   93      roman alejandro   77   \n",
       "80   72   aristizabal rivera j c   74     aristizabal juan   59   \n",
       "81   64       gallo villegas j a   69          gallo jaime   56   \n",
       "82   89        mahecha ledesma l  100      mahecha liliana   75   \n",
       "83   88        solari torres s a  100        solari sergio   76   \n",
       "84   60          ceron munoz m f  100          ceron mario   62   \n",
       "85  100      franco restrepo j l   63          franco jose   81   \n",
       "86   82        olivera angel m e   90       olivera martha   72   \n",
       "87   80          rios osorio l a  100        rios leonardo   57   \n",
       "88   80         arango viana j c  100          arango juan   76   \n",
       "89   94   rodriguez espinosa h h   68     rodriguez holmes   94   \n",
       "90   53         posada lopez g a   67        posada gladys   53   \n",
       "91   78     robledo restrepo s m   63         robledo sara   80   \n",
       "92   82        agudelo ochoa g m  100       agudelo gloria   72   \n",
       "93   69         florez gomez i d   76          florez ivan   92   \n",
       "94   68       montoya guarin c j   70       montoya carlos   55   \n",
       "95   67       villegas lanau c a   78      villegas carlos   73   \n",
       "96   78        agudelo ochoa a m   71          agudelo ana   40   \n",
       "97   75     villegas ramirez j g   80        villegas juan   88   \n",
       "98   88      trujillo vargas c m  100     trujillo claudia   25   \n",
       "99   71      jaimes barragan f a  100        jaimes fabian   67   \n",
       "\n",
       "                    last_name   s4  min  max  \n",
       "50          zapata jose edgar  100   63  100  \n",
       "51    cadavid angela patricia   65   50  100  \n",
       "52       agudelo jorge hernan   27   27  100  \n",
       "53       posso carolina maria   58   56   90  \n",
       "54          lopez jesus maria   70   70  100  \n",
       "55      castaño llano rodrigo   80   67  100  \n",
       "56      restrepo gloria maria   57   57   67  \n",
       "57      blair silvia victoria   60   46   88  \n",
       "58  velasquez margarita maria   88   75  100  \n",
       "59  martinez gutierrez marlen  100   75  100  \n",
       "60        cardona alvaro leon   85   62  100  \n",
       "61     palacio luis guillermo   88   60  100  \n",
       "62         arango clara maria   65   57   65  \n",
       "63       ramirez luis alberto   65   62  100  \n",
       "64       zapata oscar alberto   67   54  100  \n",
       "65       restrepo juan carlos  100   62  100  \n",
       "66      vargas cristian david   58   47   89  \n",
       "67           eraso ruth maria   88   50   88  \n",
       "68         marquez sara maria   86   67  100  \n",
       "69          muñoz juan carlos   67   59  100  \n",
       "70         garcia soto german  100   84  100  \n",
       "71      duque sandra patricia   80   56  100  \n",
       "72      aguirre carlos arturo  100   63  100  \n",
       "73       garcia andres felipe  100   65  100  \n",
       "74       calderon juan camilo   62   53  100  \n",
       "75       villegas juan camilo   64   64   72  \n",
       "76        gallego juan carlos   86   65  100  \n",
       "77         chaverra dora ines   78   63  100  \n",
       "78    sanabria alvaro enrique   79   65  100  \n",
       "79   roman gonzalez alejandro  100   77  100  \n",
       "80    aristizabal juan carlos   75   59   75  \n",
       "81        gallo jaime alberto   55   52   69  \n",
       "82    mahecha ledesma liliana   56   56  100  \n",
       "83      solari sergio alcides   55   44  100  \n",
       "84       ceron mario fernando   57   57  100  \n",
       "85           franco jose luis  100   63  100  \n",
       "86     olivera martha eufemia   67   56   90  \n",
       "87      rios leonardo alberto   61   57  100  \n",
       "88         arango juan carlos   71   59  100  \n",
       "89    rodriguez holmes hernan   88   68   94  \n",
       "90      posada gladys adriana   58   50   67  \n",
       "91         robledo sara maria  100   63  100  \n",
       "92       agudelo gloria maria   71   59  100  \n",
       "93          florez ivan dario   87   69   92  \n",
       "94       montoya carlos julio   87   55   87  \n",
       "95     villegas carlos andres   70   67   78  \n",
       "96          agudelo ana maria   31   31   78  \n",
       "97    villegas juan guillermo   63   51   88  \n",
       "98    trujillo claudia milena   26   25  100  \n",
       "99      jaimes fabian alberto   63   63  100  "
      ]
     },
     "execution_count": 308,
     "metadata": {},
     "output_type": "execute_result"
    }
   ],
   "source": [
    "chk[['simple_wos','full_name','s1','s1b','short_name','s2','simple_name','s3','last_name','s4',\n",
    "     'min','max']].drop_duplicates('simple_wos').reset_index(drop=True)[50:100]"
   ]
  },
  {
   "cell_type": "code",
   "execution_count": 229,
   "metadata": {},
   "outputs": [
    {
     "data": {
      "text/plain": [
       "100"
      ]
     },
     "execution_count": 229,
     "metadata": {},
     "output_type": "execute_result"
    }
   ],
   "source": [
    "scorer( 'lopez jaramillo c', 'lopez jaramillo c a' )"
   ]
  },
  {
   "cell_type": "code",
   "execution_count": null,
   "metadata": {},
   "outputs": [],
   "source": []
  }
 ],
 "metadata": {
  "colab": {
   "include_colab_link": true,
   "name": "merge.ipynb",
   "provenance": [],
   "version": "0.3.2"
  },
  "kernelspec": {
   "display_name": "Python 3",
   "language": "python",
   "name": "python3"
  },
  "language_info": {
   "codemirror_mode": {
    "name": "ipython",
    "version": 3
   },
   "file_extension": ".py",
   "mimetype": "text/x-python",
   "name": "python",
   "nbconvert_exporter": "python",
   "pygments_lexer": "ipython3",
   "version": "3.5.3"
  },
  "latex_envs": {
   "LaTeX_envs_menu_present": true,
   "autoclose": false,
   "autocomplete": true,
   "bibliofile": "biblio.bib",
   "cite_by": "apalike",
   "current_citInitial": 1,
   "eqLabelWithNumbers": true,
   "eqNumInitial": 1,
   "hotkeys": {
    "equation": "Ctrl-E",
    "itemize": "Ctrl-I"
   },
   "labels_anchors": false,
   "latex_user_defs": false,
   "report_style_numbering": false,
   "user_envs_cfg": false
  }
 },
 "nbformat": 4,
 "nbformat_minor": 2
}
