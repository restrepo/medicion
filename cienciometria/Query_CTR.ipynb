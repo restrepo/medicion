{
 "cells": [
  {
   "cell_type": "markdown",
   "metadata": {
    "colab_type": "text",
    "id": "view-in-github"
   },
   "source": [
    "<a href=\"https://colab.research.google.com/github/restrepo/medicion/blob/master/cienciometria/Query_CTR.ipynb\" target=\"_parent\"><img src=\"https://colab.research.google.com/assets/colab-badge.svg\" alt=\"Open In Colab\"/></a>"
   ]
  },
  {
   "cell_type": "markdown",
   "metadata": {
    "colab_type": "text",
    "id": "aDnqho-CsEwj"
   },
   "source": [
    "# Búsquedas WOS+SCI+SCP+PTJ+CTR para UdeA"
   ]
  },
  {
   "cell_type": "markdown",
   "metadata": {},
   "source": [
    "Búsquedas en bases bibligráficas  \n",
    "* Web of Science (WOS), \n",
    "* Scielo (SCI)\n",
    "* Scopus  (SCP)\n",
    "* Puntaje (UDEA)\n",
    "* Center (CTR)\n",
    "de los artículos científicos de la UdeA\n",
    "\n",
    "La base de datos se creó con:\n",
    "\n",
    "[WOS_SCI_SCP_PTJ_CTR.ipynb](./WOS_SCI_SCP_PTJ_CTR.ipynb)"
   ]
  },
  {
   "cell_type": "code",
   "execution_count": 1,
   "metadata": {},
   "outputs": [],
   "source": [
    "import os\n",
    "VERSION='NEW'\n",
    "if os.getcwd()=='/content':\n",
    "    !pip install openpyxl xlrd wosplus fuzzywuzzy[speedup] > /dev/null"
   ]
  },
  {
   "cell_type": "markdown",
   "metadata": {},
   "source": [
    "## functions"
   ]
  },
  {
   "cell_type": "code",
   "execution_count": 2,
   "metadata": {
    "colab": {},
    "colab_type": "code",
    "id": "nhk2ZGEDd2Yo"
   },
   "outputs": [],
   "source": [
    "import pandas as pd\n",
    "import wosplus as wp\n",
    "pd.set_option('display.max_colwidth',200)\n",
    "from venn import draw_venn, generate_colors\n",
    "import numpy as np\n",
    "import fuzzywuzzy.process as fwp\n",
    "from fuzzywuzzy import fuzz"
   ]
  },
  {
   "cell_type": "markdown",
   "metadata": {
    "colab_type": "text",
    "heading_collapsed": true,
    "id": "JS7jD1f47JUN"
   },
   "source": [
    "##  Configure public links of  files in Google Drive\n",
    "* If it is a Google Spreadsheet the corresponding file is downloaded as CSV\n",
    "* If it is in excel/json or text file the file is downloaded  directly\n",
    "\n",
    "To define your  own labeled IDs for public google drive files edit the next cell:"
   ]
  },
  {
   "cell_type": "code",
   "execution_count": 3,
   "metadata": {
    "colab": {
     "base_uri": "https://localhost:8080/",
     "height": 35
    },
    "colab_type": "code",
    "hidden": true,
    "id": "T4Rmd2dF7JUQ",
    "outputId": "39a5835e-1b38-48b6-f1a5-e9964c846123"
   },
   "outputs": [
    {
     "name": "stdout",
     "output_type": "stream",
     "text": [
      "Overwriting drive.cfg\n"
     ]
    }
   ],
   "source": [
    "%%writefile drive.cfg\n",
    "[FILES]\n",
    "WOS_SCI_SCP_PTJ_CTR.json.gz=19E1C1kRk4I0V3uXojqko8-NEicWaPp1j"
   ]
  },
  {
   "cell_type": "markdown",
   "metadata": {
    "colab_type": "text",
    "id": "Y0D0hEdAMXUX"
   },
   "source": [
    "##  Load data bases"
   ]
  },
  {
   "cell_type": "code",
   "execution_count": 4,
   "metadata": {
    "colab": {
     "base_uri": "https://localhost:8080/",
     "height": 35
    },
    "colab_type": "code",
    "id": "occzrIeCS7aQ",
    "outputId": "17b144f3-eef0-4c8a-c2b4-10c8fe55802c"
   },
   "outputs": [],
   "source": [
    "affil='Univ Antioquia'\n",
    "drive_files=wp.wosplus('drive.cfg')"
   ]
  },
  {
   "cell_type": "code",
   "execution_count": 5,
   "metadata": {},
   "outputs": [
    {
     "name": "stdout",
     "output_type": "stream",
     "text": [
      "WARNING: Biblio already has a \"Tipo\" column\n"
     ]
    }
   ],
   "source": [
    "UDEAjsonfile='WOS_SCI_SCP_PTJ_CTR.json.gz'\n",
    "tmp=drive_files.load_biblio(UDEAjsonfile,compression='gzip')\n",
    "UDEA=drive_files.biblio['WOS'].copy().reset_index(drop=True)"
   ]
  },
  {
   "cell_type": "code",
   "execution_count": 6,
   "metadata": {},
   "outputs": [],
   "source": [
    "#from check_quality import *\n",
    "#check_quality(UDEA)"
   ]
  },
  {
   "cell_type": "markdown",
   "metadata": {},
   "source": [
    "## Indices:\n",
    "Información obtenida de la columna: `json_column='UDEA_authors'`"
   ]
  },
  {
   "cell_type": "code",
   "execution_count": 7,
   "metadata": {},
   "outputs": [],
   "source": [
    "json_column='UDEA_authors'"
   ]
  },
  {
   "cell_type": "markdown",
   "metadata": {},
   "source": [
    "Que contiene listas de diccionarios con la información del autor UDEA: \n",
    "\n",
    "`{'DEPARTAMENTO': 'Instituto de Biología',\n",
    "  'FACULTAD': 'Facultad de Ciencias Exactas y Naturales',\n",
    "  'GRUPO': 'Sin Grupo Asociado',\n",
    "  'INICIALES': 'I.',\n",
    "  'NOMBRE COMPLETO': 'Idalyd Fonseca Gonzalez',\n",
    "  'NOMBRES': 'Idalyd',\n",
    "  'PRIMER APELLIDO': 'Fonseca',\n",
    "  'SEGUNDO APELLIDO': 'Gonzalez',\n",
    "  'WOS_affiliation': ['Univ Antioquia, Colombia.'],\n",
    "  'WOS_author': ['FONSECA, IDALYD',\n",
    "   'FONSECA-GONZALEZ, IDALYD',\n",
    "   'Fonseca-Gonzalez, Idalyd',\n",
    "   'Fonseca-Gonzalez, I.'],\n",
    "  'full_name': 'FONSECA GONZALEZ IDALYD'}`"
   ]
  },
  {
   "cell_type": "markdown",
   "metadata": {},
   "source": [
    "Otras columnas: `['OA','Z9'*,SCP_Cited by']`, `*`: WOS cited by\n",
    "\n",
    "Ver también [WOS field tags](https://images.webofknowledge.com/images/help/WOS/hs_wos_fieldtags.html)"
   ]
  },
  {
   "cell_type": "markdown",
   "metadata": {},
   "source": [
    "# Resultados totales"
   ]
  },
  {
   "cell_type": "markdown",
   "metadata": {},
   "source": [
    "Artículos no identificados:"
   ]
  },
  {
   "cell_type": "code",
   "execution_count": 8,
   "metadata": {},
   "outputs": [
    {
     "data": {
      "text/plain": [
       "4019"
      ]
     },
     "execution_count": 8,
     "metadata": {},
     "output_type": "execute_result"
    }
   ],
   "source": [
    "UDEA_NOT=UDEA[UDEA[json_column]==''].reset_index(drop=True)\n",
    "UDEA_NOT.shape[0]"
   ]
  },
  {
   "cell_type": "markdown",
   "metadata": {},
   "source": [
    "Artículos identificados"
   ]
  },
  {
   "cell_type": "code",
   "execution_count": 9,
   "metadata": {},
   "outputs": [
    {
     "data": {
      "text/plain": [
       "11681"
      ]
     },
     "execution_count": 9,
     "metadata": {},
     "output_type": "execute_result"
    }
   ],
   "source": [
    "UDEA_YES=UDEA[UDEA[json_column]!=''].reset_index(drop=True)\n",
    "UDEA_YES.shape[0]"
   ]
  },
  {
   "cell_type": "markdown",
   "metadata": {},
   "source": [
    "### Análisis sobre artículos identificados"
   ]
  },
  {
   "cell_type": "code",
   "execution_count": 10,
   "metadata": {},
   "outputs": [],
   "source": [
    "def flatten_if_nested(l):\n",
    "    flatten=False\n",
    "    for i in l:\n",
    "        if type(i)==list:\n",
    "            #return i\n",
    "            flatten=True\n",
    "    if flatten:\n",
    "        l=[item for sublist in l for item in sublist]\n",
    "        l=pd.np.array(l)\n",
    "    return l\n",
    "def extract_key(df,key,json_column='UDEA_authors'):\n",
    "    '''\n",
    "    Extract all the unique key values of the list of dictionaries in \n",
    "    a json column when the key value is a string or another list\n",
    "    '''\n",
    "    ll=df[json_column].apply(lambda l: np.unique([ d.get(key) for d in l \n",
    "                                if d.get(key) ]) if type(l)==list else l)\n",
    "    if ll.str[0].apply(lambda l: l if type(l)==list else None).dropna().shape[0]:\n",
    "        ll=ll.apply(flatten_if_nested)\n",
    "    ll=ll.apply(pd.Series).stack().values\n",
    "    return pd.DataFrame( {key:list(ll)} ).groupby(key)[key].count().sort_values(ascending=False)"
   ]
  },
  {
   "cell_type": "code",
   "execution_count": 11,
   "metadata": {
    "scrolled": true
   },
   "outputs": [
    {
     "data": {
      "text/plain": [
       "FACULTAD\n",
       "Facultad de Medicina                        3077\n",
       "Facultad de Ciencias Exactas y Naturales    2255\n",
       "Facultad de Ingeniería                      1778\n",
       "Facultad de Ciencias Agrarias                656\n",
       "Facultad de Ciencias Sociales y Humanas      215\n",
       "Facultad de Artes                             13\n",
       "Name: FACULTAD, dtype: int64"
      ]
     },
     "execution_count": 11,
     "metadata": {},
     "output_type": "execute_result"
    }
   ],
   "source": [
    "extract_key(UDEA_YES,'FACULTAD')"
   ]
  },
  {
   "cell_type": "code",
   "execution_count": 12,
   "metadata": {},
   "outputs": [
    {
     "data": {
      "text/plain": [
       "DEPARTAMENTO\n",
       "Departamento de Microbiología y Parasitología                   886\n",
       "Instituto de Física                                             862\n",
       "Instituto de Investigaciones Médicas                            717\n",
       "Instituto de Biología                                           656\n",
       "Instituto de Química                                            644\n",
       "Departamento de Medicina Interna                                642\n",
       "Departamento de  Producción Agropecuaria                        406\n",
       "Departamento de Pediatría y Puericultura                        388\n",
       "Departamento de Ingeniería Metalúrgica                          334\n",
       "Departamento de Ingeniería Sanitaria  y Ambiental               317\n",
       "Escuela de Medicina Veterinaria                                 305\n",
       "Departamento de Ingeniería Mecánica                             279\n",
       "Departamento de Ingeniería Quimica                              276\n",
       "Departamento de Cirugía                                         210\n",
       "Departamento de Fisiología                                      182\n",
       "Departamento de Ingeniería Electrónica                          168\n",
       "Departamento de Siquiatría y Ciencias del Comportamiento Hum    165\n",
       "Departamento de Ingeniería Eléctrica                            146\n",
       "Departamento de Matemáticas                                     130\n",
       "Programa Bioingeniería                                          124\n",
       "Programa Ingeniería de Telecomunicaciones                        95\n",
       "Departamento de Ingeniería de Sistemas                           86\n",
       "Departamento de Obstetricia y Ginecología                        85\n",
       "Departamento de Patología                                        82\n",
       "Departamento de Sicología                                        76\n",
       "Departamento de Antropología                                     68\n",
       "Departamento de Ingeniería Industrial                            67\n",
       "Departamento de Farmacología y Toxicología                       49\n",
       "Departamento de Sociología                                       44\n",
       "Departamento de Radiología y Radioterapia                        43\n",
       "Departamento de Medicina Preventiva y Salud Pública              41\n",
       "Departamento de Educación Médica                                 34\n",
       "Departamento de Bioquímica                                       28\n",
       "Programa Ingeniería Civil                                        20\n",
       "Departamento de Historia                                         19\n",
       "Departamento de Morfología                                       16\n",
       "Departamento de Medicina Física y Rehabilitación                 14\n",
       "Departamento de Trabajo Social                                    9\n",
       "Departamento de Artes Visuales                                    6\n",
       "Departamento de Música                                            5\n",
       "Departamento de Teatro                                            2\n",
       "Departamento de Psicoanálisis                                     1\n",
       "Name: DEPARTAMENTO, dtype: int64"
      ]
     },
     "execution_count": 12,
     "metadata": {},
     "output_type": "execute_result"
    }
   ],
   "source": [
    "extract_key(UDEA_YES,'DEPARTAMENTO')"
   ]
  },
  {
   "cell_type": "code",
   "execution_count": 13,
   "metadata": {},
   "outputs": [
    {
     "data": {
      "text/plain": [
       "GRUPO\n",
       "Sin Grupo Asociado                                                                                                                                                                                436\n",
       "Grupo de Materia Condensada-UdeA                                                                                                                                                                  261\n",
       "Inmunovirología                                                                                                                                                                                   236\n",
       "Centro de Investigación, Innovación y Desarrollo de Materiales - CIDEMAT - Anteriormente: Grupo de Corrosión y Protección                                                                         232\n",
       "Grupo de Manejo Eficiente de la Energía, GIMEL                                                                                                                                                    219\n",
       "Grupo de Neurociencias de Antioquia                                                                                                                                                               217\n",
       "Programa de Estudio y Control de Enfermedades Tropicales                                                                                                                                          200\n",
       "Grupo de Investigación en Ciencias Agrarias -GRICA-                                                                                                                                               198\n",
       "Inmunodeficiencias Primarias                                                                                                                                                                      173\n",
       "Sistemas Embebidos e Inteligencia Computacional - SISTEMIC                                                                                                                                        151\n",
       "Grupo de Investigación en Psiquiatría GIPSI                                                                                                                                                       147\n",
       "Genética Molecular (GENMOL)                                                                                                                                                                       142\n",
       "Química de Recursos Energéticos y Medio Ambiente                                                                                                                                                  136\n",
       "Grupo de Investigación en Telecomunicaciones Aplicadas - GITA                                                                                                                                     131\n",
       "Grupo de Gastrohepatología                                                                                                                                                                        128\n",
       "Grupo de Inmunología Celular e Inmunogenética                                                                                                                                                     126\n",
       "Grupo Reproducción, Grupo de Investigación en Trombosis                                                                                                                                           125\n",
       "Grupo Académico de Epidemiología Clínica                                                                                                                                                          123\n",
       "Grupo de Investigación Clínica en Enfermedades del Niño y del Adolescente - Pediaciencias                                                                                                         121\n",
       "GAMMA: Genética, Mejoramiento y Modelación Animal                                                                                                                                                 121\n",
       "Biogénesis                                                                                                                                                                                        121\n",
       "Salud y Comunidad                                                                                                                                                                                 120\n",
       "Grupo de Investigación en Patobiología -  QUIRÓN                                                                                                                                                  117\n",
       "Diagnóstico y Control de la Contaminación                                                                                                                                                         114\n",
       "Ciencia de los Materiales                                                                                                                                                                         109\n",
       "Procesos Químicos Industriales, Bioprocesos                                                                                                                                                       102\n",
       "Grupo Malaria                                                                                                                                                                                      97\n",
       "Grupo de Optica y Fotónica                                                                                                                                                                         94\n",
       "Grupo de Ingeniería y Gestión Ambiental GIGA                                                                                                                                                       94\n",
       "Trauma y Cirugía                                                                                                                                                                                   86\n",
       "                                                                                                                                                                                                 ... \n",
       "Grupo de Biofísica-UdeA, Grupo de Optica y Fotónica, Grupo de Optica y Fotónica                                                                                                                     3\n",
       "INCAS-Innovación y Gestión de Cadenas de Abastecimiento, GESTA - EMPRENDIMIENTO, FINANZAS Y GESTIÓN ORGANIZACIONAL                                                                                  3\n",
       "Grupo Reproducción                                                                                                                                                                                  3\n",
       "Teoría e Historia del Arte en Colombia                                                                                                                                                              2\n",
       "Simulación de Comportamientos de Sistemas (SICOSIS), GEPAR                                                                                                                                          2\n",
       "Fisica Industrial y de la Radiacion                                                                                                                                                                 2\n",
       "Grupo de Investigación Psicología, Sociedad y Subjetividades., Cultura, Violencia y Territorio                                                                                                      2\n",
       "Grupo de Investigación en Intervención Social, Grupo de Investigación Medio Ambiente y Sociedad                                                                                                     2\n",
       "Grupo de Investigación en Medicina Interna GIMI IPS UdeA                                                                                                                                            2\n",
       "Grupo de Investigación en Sistemas Agroambientales Sostenibles, Grupo de Investigación en Ciencias Agrarias -GRICA-                                                                                 2\n",
       "Músicas regionales                                                                                                                                                                                  2\n",
       "Hipertrópico: Convergencia entre Arte y Tecnología                                                                                                                                                  2\n",
       "Métodos Estocásticos                                                                                                                                                                                2\n",
       "GISMAC. Grupo de Investigación en Sistemas Marinos y Costeros, ELICE-Ecología Lótica: Islas, Costas y Estuarios                                                                                     2\n",
       "Cultura, Política y Desarrollo Social                                                                                                                                                               2\n",
       "Centro de de Investigaciones Dermatologicas                                                                                                                                                         2\n",
       "Grupo de Artes Performativas                                                                                                                                                                        1\n",
       "Grupo de Energia Alternativa,                                                                                                                                                                       1\n",
       "Simulación de Comportamientos de Sistemas (SICOSIS), Ludens                                                                                                                                         1\n",
       "Ingeniería y Software , Grupo de Investigación en Telecomunicaciones Aplicadas - GITA, Ingeniería y Tecnologías de las Organizaciones y de la Sociedad (ITOS), Biotecnología Básica y Aplicada      1\n",
       "Psicoanálisis, Sujeto y Sociedad                                                                                                                                                                    1\n",
       "NEDITRA - Grupo de investigación en nefrología, diálisis y trasplante                                                                                                                               1\n",
       "GISMAC. Grupo de Investigación en Sistemas Marinos y Costeros                                                                                                                                       1\n",
       "Metodología de la Enseñanza de la Química                                                                                                                                                           1\n",
       "MORFOTECH                                                                                                                                                                                           1\n",
       "MODELACION CON ECUACIONES DIFERENCIALES                                                                                                                                                             1\n",
       "Historia Moderna y Contemporánea                                                                                                                                                                    1\n",
       "Cultura, Violencia y Territorio                                                                                                                                                                     1\n",
       "Historia de la Práctica Pedagógica en Colombia                                                                                                                                                      1\n",
       "Ártes escénicas y del espectáculo                                                                                                                                                                   1\n",
       "Name: GRUPO, Length: 259, dtype: int64"
      ]
     },
     "execution_count": 13,
     "metadata": {},
     "output_type": "execute_result"
    }
   ],
   "source": [
    "extract_key(UDEA_YES,'GRUPO')"
   ]
  },
  {
   "cell_type": "code",
   "execution_count": 14,
   "metadata": {},
   "outputs": [
    {
     "data": {
      "text/plain": [
       "full_name\n",
       "DUQUE ECHEVERRI CARLOS ALBERTO        261\n",
       "BEDOYA BERRIO GABRIEL DE JESUS        123\n",
       "LOPERA RESTREPO FRANCISCO JAVIER      120\n",
       "CERON MUÑOZ MARIO FERNANDO            120\n",
       "RUGELES LOPEZ MARIA TERESA            116\n",
       "JAIMES BARRAGAN FABIAN ALBERTO        113\n",
       "CARMONA FONSECA JAIME DE JESUS        113\n",
       "PEÑUELA MESA GUSTAVO ANTONIO          110\n",
       "VELEZ BERNAL IVAN DARIO               109\n",
       "OLIVERA ANGEL MARTHA EUFEMIA          101\n",
       "AMARILES MUÑOZ PEDRO JOSE              95\n",
       "RIOS LUIS ALBERTO                      92\n",
       "RESTREPO BETANCUR LUIS FERNANDO        92\n",
       "CARDONA MAYA WALTER DARIO              91\n",
       "CARDONA ARIAS JAIBERTH ANTONIO         91\n",
       "ARDILA MEDINA CARLOS MARTIN            86\n",
       "MORALES ARAMBURO ALVARO LUIS           84\n",
       "BLAIR TRUJILLO SILVIA VICTORIA         82\n",
       "ROBLEDO RESTREPO SARA MARIA            80\n",
       "MONDRAGON PEREZ FANOR                  79\n",
       "CADAVID JARAMILLO ANGELA PATRICIA      78\n",
       "AGUDELO SUAREZ ANDRES ALONSO           77\n",
       "CORNEJO OCHOA JOSE WILLIAM             75\n",
       "TRIANA CHAVEZ OMAR                     75\n",
       "LOPEZ OSORIO BETTY LUCY                74\n",
       "RESTREPO VASQUEZ GLORIA MARIA          72\n",
       "AGUIRRE ACEVEDO DANIEL CAMILO          69\n",
       "CALDERON GUTIERREZ JORGE ANDRES        69\n",
       "ROSERO NOGUERA JAIME RICARDO           66\n",
       "GARCIA MORENO LUIS FERNANDO            65\n",
       "                                     ... \n",
       "DE LOS RIOS OSORIO JESUS                1\n",
       "RENDON PEREZ ANGELA MARIA               1\n",
       "COLORADO LOPEZ DORIS                    1\n",
       "HIGUITA HIGUITA YOMAIRA                 1\n",
       "CASTRO MEDINA JOSE RAFAEL               1\n",
       "HOYOS ZULUAGA JULIO EDUARDO             1\n",
       "CASTAÑO PELAEZ HADER IVAN               1\n",
       "RODRIGUEZ BARRERA JUAN CARLOS           1\n",
       "CASTELLANOS RAMOS JAIRO ELOY            1\n",
       "CASTRILLON AGUDELO CONSUELO             1\n",
       "CASTRILLON CASTRILLON SANDRA ELENA      1\n",
       "CASTRILLON HOYOS WILSON ERNESTO         1\n",
       "CASTRILLON PINO LILIANA MARIA           1\n",
       "HOYOS LOPEZ RICHARD ONALBI              1\n",
       "HOYOS GAVIRIA JUAN GUILLERMO            1\n",
       "HOYOS FRANCO MARCO ANTONIO              1\n",
       "CASTRO RODRIGUEZ LILIANA PATRICIA       1\n",
       "COLL JIMENEZ YADIRA ESTHER              1\n",
       "CATAÑO BEDOYA JOHN UBEIMAR              1\n",
       "CATAÑO BERRIO SANDRA ELIANA             1\n",
       "HOLGUIN MARTINEZ GLORIA LETICIA         1\n",
       "RESTREPO SUAREZ YOLANDA DE LA CRUZ      1\n",
       "RESTREPO SEPULVEDA ELSA ADRIANA         1\n",
       "HINCAPIE ZAPATA MARIA EUGENIA           1\n",
       "RESTREPO PATIÑO MEDARDO DE JESUS        1\n",
       "RESTREPO OCHOA ORLANDO DE JESUS         1\n",
       "RESTREPO MORENO CLARA MARIA             1\n",
       "COBALEDA ESTEPA LUZ VIVIANA             1\n",
       "HINCAPIE GARCIA JAIME ALEJANDRO         1\n",
       "LOPEZ URAN CAROLINA                     1\n",
       "Name: full_name, Length: 1727, dtype: int64"
      ]
     },
     "execution_count": 14,
     "metadata": {},
     "output_type": "execute_result"
    }
   ],
   "source": [
    "extract_key(UDEA_YES,'full_name')"
   ]
  },
  {
   "cell_type": "markdown",
   "metadata": {},
   "source": [
    "# Búsquedas"
   ]
  },
  {
   "cell_type": "code",
   "execution_count": 15,
   "metadata": {},
   "outputs": [],
   "source": [
    "def extract_key_unique(*args,**kwargs):\n",
    "    keys=extract_key(*args,**kwargs).keys()\n",
    "    return [ k for k in keys if k]\n",
    "\n",
    "def get_groups(l,g):\n",
    "    for d in l:\n",
    "        gt=d.get('GRUPO')\n",
    "        if gt and type( gt )==str:\n",
    "            gs=gt.replace(\n",
    "                ', Grupo','; Grupo'\n",
    "            ).split('; ')\n",
    "            for gg in gs:\n",
    "                if gg not in g:\n",
    "                    g.append(gg)\n",
    "    return g\n",
    "\n",
    "facultades={'key':'FACULTAD',\n",
    "            'values' : extract_key_unique(UDEA,'FACULTAD',json_column='UDEA_authors') }\n",
    "departamentos={'key':'DEPARTAMENTO',\n",
    "            'values' :extract_key_unique(UDEA,'DEPARTAMENTO',json_column='UDEA_authors')}\n",
    "nombre_completo={'key'    : 'NOMBRE COMPLETO',\n",
    "            'values' : extract_key_unique(UDEA,'NOMBRE COMPLETO',json_column='UDEA_authors')}\n",
    "full_name={'key'    : 'full_name',\n",
    "            'values' : extract_key_unique(UDEA,'full_name',json_column='UDEA_authors')}\n",
    "udea_affiliations={'key'    : 'WOS_affiliation',\n",
    "            'values' : extract_key_unique(UDEA,'WOS_affiliation',json_column='UDEA_authors')}\n",
    "wos_affiliations={'key'    : 'affiliation',\n",
    "            'values' : extract_key_unique(UDEA,'WOS_affiliation',json_column='authors_WOS')}\n",
    "udea_author={'key'    : 'WOS_author',\n",
    "            'values' : extract_key_unique(UDEA,'WOS_author',json_column='UDEA_authors')}\n",
    "wos_author={'key'    : 'WOS_author',\n",
    "            'values' : extract_key_unique(UDEA,'WOS_author',json_column='authors_WOS')}\n",
    "\n",
    "\n",
    "#.apply(....) is a loop!\n",
    "g=[]\n",
    "#append to g\n",
    "tmp=UDEA.UDEA_authors.apply(lambda l: \n",
    "                        get_groups(l,g)\n",
    "        if type(l)==list else None\n",
    "                        )\n",
    "grupos={'key':'GRUPO',\n",
    "            'values' :g}\n"
   ]
  },
  {
   "cell_type": "markdown",
   "metadata": {},
   "source": [
    "## Función de búsqueda"
   ]
  },
  {
   "cell_type": "markdown",
   "metadata": {},
   "source": [
    "For value string or list of each dictionary within a list of dictionaries, like the column 'UDEA_authors' in `UDEA` DataFrame"
   ]
  },
  {
   "cell_type": "code",
   "execution_count": 80,
   "metadata": {},
   "outputs": [],
   "source": [
    "def query_json_column(q,df=UDEA,json_column='UDEA_authors',\n",
    "                        choices=nombre_completo,scorer=fuzz.partial_token_sort_ratio,score_cutoff=0):\n",
    "    #Found best exact match from index\n",
    "    fchoices=fwp.extractOne(q,choices['values'],scorer=scorer,score_cutoff=score_cutoff)\n",
    "    # Exact search in indexed subcolumn converted to strins (e.g list → string if necessary)\n",
    "    if fchoices:\n",
    "        fchoices=fchoices[0]\n",
    "        dfF=df[df[json_column].apply(lambda l: True in [ str(d.get(choices['key'])).find(fchoices)>-1 \n",
    "                                        for d in l if d.get(choices['key'])] if type(l)==list else False)]\n",
    "        return dfF.reset_index(drop=True)\n",
    "    else:\n",
    "        return pd.DataFrame()"
   ]
  },
  {
   "cell_type": "markdown",
   "metadata": {},
   "source": [
    "### Autor"
   ]
  },
  {
   "cell_type": "code",
   "execution_count": 17,
   "metadata": {},
   "outputs": [],
   "source": [
    "r=query_json_column('Diego Alejandro Restrepo Quintero',df=UDEA,json_column='UDEA_authors',\n",
    "                        choices=nombre_completo,scorer=fuzz.partial_token_sort_ratio,score_cutoff=79)"
   ]
  },
  {
   "cell_type": "code",
   "execution_count": 18,
   "metadata": {},
   "outputs": [
    {
     "data": {
      "text/plain": [
       "(37, 181)"
      ]
     },
     "execution_count": 18,
     "metadata": {},
     "output_type": "execute_result"
    }
   ],
   "source": [
    "r.shape"
   ]
  },
  {
   "cell_type": "code",
   "execution_count": 417,
   "metadata": {},
   "outputs": [],
   "source": [
    "#r[['TI','AU','authors_WOS',json_column]].reset_index(drop=True)[5:7]"
   ]
  },
  {
   "cell_type": "markdown",
   "metadata": {},
   "source": [
    "## Grupos"
   ]
  },
  {
   "cell_type": "markdown",
   "metadata": {},
   "source": [
    "Ejemplo"
   ]
  },
  {
   "cell_type": "code",
   "execution_count": 20,
   "metadata": {},
   "outputs": [],
   "source": [
    "r=query_json_column('Grupo de Fenomenología de Interacciones Fundamentales',df=UDEA,json_column='UDEA_authors',\n",
    "                        choices=grupos,scorer=fuzz.partial_token_sort_ratio,score_cutoff=79)"
   ]
  },
  {
   "cell_type": "code",
   "execution_count": 21,
   "metadata": {},
   "outputs": [
    {
     "data": {
      "text/plain": [
       "(82, 181)"
      ]
     },
     "execution_count": 21,
     "metadata": {},
     "output_type": "execute_result"
    }
   ],
   "source": [
    "r.shape"
   ]
  },
  {
   "cell_type": "markdown",
   "metadata": {},
   "source": [
    "Buscar todos"
   ]
  },
  {
   "cell_type": "code",
   "execution_count": 22,
   "metadata": {},
   "outputs": [],
   "source": [
    "gdf=pd.DataFrame()\n",
    "for g in grupos['values']:\n",
    "    r=query_json_column(g,df=UDEA,json_column='UDEA_authors',choices=grupos,\n",
    "                        scorer=fuzz.partial_token_sort_ratio,score_cutoff=79)\n",
    "                        \n",
    "    gdf=gdf.append( {'Group':g,'articles':r.shape[0]},ignore_index=True )\n",
    "gdf['articles']=gdf['articles'].astype(int)"
   ]
  },
  {
   "cell_type": "code",
   "execution_count": 23,
   "metadata": {
    "scrolled": true
   },
   "outputs": [
    {
     "data": {
      "text/html": [
       "<div>\n",
       "<style scoped>\n",
       "    .dataframe tbody tr th:only-of-type {\n",
       "        vertical-align: middle;\n",
       "    }\n",
       "\n",
       "    .dataframe tbody tr th {\n",
       "        vertical-align: top;\n",
       "    }\n",
       "\n",
       "    .dataframe thead th {\n",
       "        text-align: right;\n",
       "    }\n",
       "</style>\n",
       "<table border=\"1\" class=\"dataframe\">\n",
       "  <thead>\n",
       "    <tr style=\"text-align: right;\">\n",
       "      <th></th>\n",
       "      <th>Group</th>\n",
       "      <th>articles</th>\n",
       "    </tr>\n",
       "  </thead>\n",
       "  <tbody>\n",
       "    <tr>\n",
       "      <th>0</th>\n",
       "      <td>Sin Grupo Asociado</td>\n",
       "      <td>436</td>\n",
       "    </tr>\n",
       "    <tr>\n",
       "      <th>1</th>\n",
       "      <td>Grupo de Materia Condensada-UdeA</td>\n",
       "      <td>300</td>\n",
       "    </tr>\n",
       "    <tr>\n",
       "      <th>2</th>\n",
       "      <td>Grupo Reproducción, Inmunovirología, Infección y Cáncer</td>\n",
       "      <td>284</td>\n",
       "    </tr>\n",
       "    <tr>\n",
       "      <th>3</th>\n",
       "      <td>Inmunovirología</td>\n",
       "      <td>284</td>\n",
       "    </tr>\n",
       "    <tr>\n",
       "      <th>4</th>\n",
       "      <td>Grupo de Estado Sólido</td>\n",
       "      <td>272</td>\n",
       "    </tr>\n",
       "    <tr>\n",
       "      <th>5</th>\n",
       "      <td>Centro de Investigación, Innovación y Desarrollo de Materiales - CIDEMAT - Anteriormente: Grupo de Corrosión y Protección,</td>\n",
       "      <td>252</td>\n",
       "    </tr>\n",
       "    <tr>\n",
       "      <th>6</th>\n",
       "      <td>Centro de Investigación, Innovación y Desarrollo de Materiales - CIDEMAT - Anteriormente: Grupo de Corrosión y Protección</td>\n",
       "      <td>252</td>\n",
       "    </tr>\n",
       "    <tr>\n",
       "      <th>7</th>\n",
       "      <td>Grupo Académico de Epidemiología Clínica</td>\n",
       "      <td>240</td>\n",
       "    </tr>\n",
       "    <tr>\n",
       "      <th>8</th>\n",
       "      <td>Grupo Académico de Epidemiología Clínica, Nacer, Salud Sexual y Reproductiva</td>\n",
       "      <td>240</td>\n",
       "    </tr>\n",
       "    <tr>\n",
       "      <th>9</th>\n",
       "      <td>Grupo de Neurociencias de Antioquia</td>\n",
       "      <td>240</td>\n",
       "    </tr>\n",
       "  </tbody>\n",
       "</table>\n",
       "</div>"
      ],
      "text/plain": [
       "                                                                                                                         Group  \\\n",
       "0                                                                                                           Sin Grupo Asociado   \n",
       "1                                                                                             Grupo de Materia Condensada-UdeA   \n",
       "2                                                                      Grupo Reproducción, Inmunovirología, Infección y Cáncer   \n",
       "3                                                                                                              Inmunovirología   \n",
       "4                                                                                                       Grupo de Estado Sólido   \n",
       "5  Centro de Investigación, Innovación y Desarrollo de Materiales - CIDEMAT - Anteriormente: Grupo de Corrosión y Protección,    \n",
       "6    Centro de Investigación, Innovación y Desarrollo de Materiales - CIDEMAT - Anteriormente: Grupo de Corrosión y Protección   \n",
       "7                                                                                     Grupo Académico de Epidemiología Clínica   \n",
       "8                                                 Grupo Académico de Epidemiología Clínica, Nacer, Salud Sexual y Reproductiva   \n",
       "9                                                                                          Grupo de Neurociencias de Antioquia   \n",
       "\n",
       "   articles  \n",
       "0       436  \n",
       "1       300  \n",
       "2       284  \n",
       "3       284  \n",
       "4       272  \n",
       "5       252  \n",
       "6       252  \n",
       "7       240  \n",
       "8       240  \n",
       "9       240  "
      ]
     },
     "execution_count": 23,
     "metadata": {},
     "output_type": "execute_result"
    }
   ],
   "source": [
    "gdf.sort_values('articles',ascending=False).reset_index(drop=True)[:10]"
   ]
  },
  {
   "cell_type": "markdown",
   "metadata": {},
   "source": [
    "## Departamento"
   ]
  },
  {
   "cell_type": "code",
   "execution_count": 24,
   "metadata": {},
   "outputs": [],
   "source": [
    "r=query_json_column('Instituto de Física',df=UDEA,json_column='UDEA_authors',\n",
    "                        choices=departamentos,scorer=fuzz.partial_token_sort_ratio,score_cutoff=79)"
   ]
  },
  {
   "cell_type": "code",
   "execution_count": 25,
   "metadata": {},
   "outputs": [
    {
     "data": {
      "text/plain": [
       "(862, 181)"
      ]
     },
     "execution_count": 25,
     "metadata": {},
     "output_type": "execute_result"
    }
   ],
   "source": [
    "r.shape"
   ]
  },
  {
   "cell_type": "markdown",
   "metadata": {},
   "source": [
    "## Centro"
   ]
  },
  {
   "cell_type": "markdown",
   "metadata": {},
   "source": [
    "Ejemplo"
   ]
  },
  {
   "cell_type": "code",
   "execution_count": 26,
   "metadata": {},
   "outputs": [],
   "source": [
    "cen=query_json_column('Facultad de Ciencias Exactas y Naturales',df=UDEA,json_column='UDEA_authors',\n",
    "                        choices=facultades,scorer=fuzz.partial_token_sort_ratio,score_cutoff=79)"
   ]
  },
  {
   "cell_type": "code",
   "execution_count": 27,
   "metadata": {},
   "outputs": [
    {
     "data": {
      "text/plain": [
       "(2255, 181)"
      ]
     },
     "execution_count": 27,
     "metadata": {},
     "output_type": "execute_result"
    }
   ],
   "source": [
    "cen.shape"
   ]
  },
  {
   "cell_type": "markdown",
   "metadata": {},
   "source": [
    "Todos"
   ]
  },
  {
   "cell_type": "code",
   "execution_count": 28,
   "metadata": {},
   "outputs": [],
   "source": [
    "fdf=pd.DataFrame()\n",
    "for f in facultades['values']:\n",
    "    r=query_json_column(f,df=UDEA,json_column='UDEA_authors',choices=facultades,\n",
    "                        scorer=fuzz.partial_token_sort_ratio,score_cutoff=79)\n",
    "    fdf=fdf.append( {'Facultad':f,'articles':r.shape[0]},ignore_index=True )\n",
    "fdf['articles']=fdf['articles'].astype(int)"
   ]
  },
  {
   "cell_type": "code",
   "execution_count": 29,
   "metadata": {},
   "outputs": [
    {
     "data": {
      "text/html": [
       "<div>\n",
       "<style scoped>\n",
       "    .dataframe tbody tr th:only-of-type {\n",
       "        vertical-align: middle;\n",
       "    }\n",
       "\n",
       "    .dataframe tbody tr th {\n",
       "        vertical-align: top;\n",
       "    }\n",
       "\n",
       "    .dataframe thead th {\n",
       "        text-align: right;\n",
       "    }\n",
       "</style>\n",
       "<table border=\"1\" class=\"dataframe\">\n",
       "  <thead>\n",
       "    <tr style=\"text-align: right;\">\n",
       "      <th></th>\n",
       "      <th>Facultad</th>\n",
       "      <th>articles</th>\n",
       "    </tr>\n",
       "  </thead>\n",
       "  <tbody>\n",
       "    <tr>\n",
       "      <th>0</th>\n",
       "      <td>Facultad de Medicina</td>\n",
       "      <td>3077</td>\n",
       "    </tr>\n",
       "    <tr>\n",
       "      <th>1</th>\n",
       "      <td>Facultad de Ciencias Exactas y Naturales</td>\n",
       "      <td>2255</td>\n",
       "    </tr>\n",
       "    <tr>\n",
       "      <th>2</th>\n",
       "      <td>Facultad de Ingeniería</td>\n",
       "      <td>1778</td>\n",
       "    </tr>\n",
       "    <tr>\n",
       "      <th>3</th>\n",
       "      <td>Facultad de Ciencias Agrarias</td>\n",
       "      <td>656</td>\n",
       "    </tr>\n",
       "    <tr>\n",
       "      <th>4</th>\n",
       "      <td>Facultad de Ciencias Sociales y Humanas</td>\n",
       "      <td>215</td>\n",
       "    </tr>\n",
       "    <tr>\n",
       "      <th>5</th>\n",
       "      <td>Facultad de Artes</td>\n",
       "      <td>13</td>\n",
       "    </tr>\n",
       "  </tbody>\n",
       "</table>\n",
       "</div>"
      ],
      "text/plain": [
       "                                   Facultad  articles\n",
       "0                      Facultad de Medicina      3077\n",
       "1  Facultad de Ciencias Exactas y Naturales      2255\n",
       "2                    Facultad de Ingeniería      1778\n",
       "3             Facultad de Ciencias Agrarias       656\n",
       "4   Facultad de Ciencias Sociales y Humanas       215\n",
       "5                         Facultad de Artes        13"
      ]
     },
     "execution_count": 29,
     "metadata": {},
     "output_type": "execute_result"
    }
   ],
   "source": [
    "fdf.sort_values('articles',ascending=False)"
   ]
  },
  {
   "cell_type": "markdown",
   "metadata": {},
   "source": [
    "## Citas"
   ]
  },
  {
   "cell_type": "code",
   "execution_count": 30,
   "metadata": {},
   "outputs": [
    {
     "data": {
      "text/html": [
       "<div>\n",
       "<style scoped>\n",
       "    .dataframe tbody tr th:only-of-type {\n",
       "        vertical-align: middle;\n",
       "    }\n",
       "\n",
       "    .dataframe tbody tr th {\n",
       "        vertical-align: top;\n",
       "    }\n",
       "\n",
       "    .dataframe thead th {\n",
       "        text-align: right;\n",
       "    }\n",
       "</style>\n",
       "<table border=\"1\" class=\"dataframe\">\n",
       "  <thead>\n",
       "    <tr style=\"text-align: right;\">\n",
       "      <th></th>\n",
       "      <th>Z9</th>\n",
       "      <th>TI</th>\n",
       "      <th>SO</th>\n",
       "      <th>AU</th>\n",
       "      <th>PY</th>\n",
       "    </tr>\n",
       "  </thead>\n",
       "  <tbody>\n",
       "    <tr>\n",
       "      <th>0</th>\n",
       "      <td>3610</td>\n",
       "      <td>An integrated map of genetic variation from 1,092 human genomes</td>\n",
       "      <td>NATURE</td>\n",
       "      <td>Altshuler, DM\\nDurbin, RM\\nAbecasis, GR\\nBentley, DR\\nChakravarti, A\\nClark, AG\\nDonnelly, P\\nEichler, EE\\nFlicek, P\\nGabriel, SB\\nGibbs, RA\\nGreen, ED\\nHurles, ME\\nKnoppers, BM\\nKorbel, JO\\nLande...</td>\n",
       "      <td>2012</td>\n",
       "    </tr>\n",
       "    <tr>\n",
       "      <th>1</th>\n",
       "      <td>1526</td>\n",
       "      <td>Leishmaniasis Worldwide and Global Estimates of Its Incidence</td>\n",
       "      <td>PLOS ONE</td>\n",
       "      <td>Alvar, J\\nVelez, ID\\nBern, C\\nHerrero, M\\nDesjeux, P\\nCano, J\\nJannin, J\\nden Boer, M\\n</td>\n",
       "      <td>2012</td>\n",
       "    </tr>\n",
       "    <tr>\n",
       "      <th>2</th>\n",
       "      <td>1271</td>\n",
       "      <td>A global reference for human genetic variation</td>\n",
       "      <td>NATURE</td>\n",
       "      <td>Altshuler, DM\\nDurbin, RM\\nAbecasis, GR\\nBentley, DR\\nChakravarti, A\\nClark, AG\\nDonnelly, P\\nEichler, EE\\nFlicek, P\\nGabriel, SB\\nGibbs, RA\\nGreen, ED\\nHurles, ME\\nKnoppers, BM\\nKorbel, JO\\nLande...</td>\n",
       "      <td>2015</td>\n",
       "    </tr>\n",
       "    <tr>\n",
       "      <th>3</th>\n",
       "      <td>901</td>\n",
       "      <td>Human papillomavirus genotype attribution in invasive cervical cancer: a retrospective cross-sectional worldwide study</td>\n",
       "      <td>LANCET ONCOLOGY</td>\n",
       "      <td>de Sanjose, S\\nQuint, WGV\\nAlemany, L\\nGeraets, DT\\nKlaustermeier, JE\\nLloveras, B\\nTous, S\\nFelix, A\\nBravo, LE\\nShin, HR\\nVallejos, CS\\nde Ruiz, PA\\nLima, MA\\nGuimera, N\\nClavero, O\\nAlejo, M\\nL...</td>\n",
       "      <td>2010</td>\n",
       "    </tr>\n",
       "    <tr>\n",
       "      <th>4</th>\n",
       "      <td>711</td>\n",
       "      <td>The Genome Sequence of Taurine Cattle: A Window to Ruminant Biology and Evolution</td>\n",
       "      <td>SCIENCE</td>\n",
       "      <td>Elsik, CG\\nTellam, RL\\nWorley, KC\\nGibbs, RA\\nAbatepaulo, ARR\\nAbbey, CA\\nAdelson, DL\\nAerts, J\\nAhola, V\\nAlexander, L\\nAlioto, T\\nAlmeida, IG\\nAmadio, AF\\nAnatriello, E\\nAntonarakis, SE\\nAnzola,...</td>\n",
       "      <td>2009</td>\n",
       "    </tr>\n",
       "    <tr>\n",
       "      <th>5</th>\n",
       "      <td>601</td>\n",
       "      <td>GENETIC ABSOLUTE DATING BASED ON MICROSATELLITES AND THE ORIGIN OF MODERN HUMANS</td>\n",
       "      <td>PROCEEDINGS OF THE NATIONAL ACADEMY OF SCIENCES OF THE UNITED STATES OF\\nAMERICA</td>\n",
       "      <td>GOLDSTEIN, DB\\nLINARES, AR\\nCAVALLISFORZA, LL\\nFELDMAN, MW\\n</td>\n",
       "      <td>1995</td>\n",
       "    </tr>\n",
       "    <tr>\n",
       "      <th>6</th>\n",
       "      <td>474</td>\n",
       "      <td>Mutations in IRF6 cause Van der Woude and popliteal pterygium syndromes</td>\n",
       "      <td>NATURE GENETICS</td>\n",
       "      <td>Kondo, S\\nSchutte, BC\\nRichardson, RJ\\nBjork, BC\\nKnight, AS\\nWatanabe, Y\\nHoward, E\\nde Lima, RLLF\\nDaack-Hirsch, S\\nSander, A\\nMcDonald-McGinn, DM\\nZackai, EH\\nLammer, EJ\\nAylsworth, AS\\nArdinge...</td>\n",
       "      <td>2002</td>\n",
       "    </tr>\n",
       "    <tr>\n",
       "      <th>7</th>\n",
       "      <td>429</td>\n",
       "      <td>Leptogenesis</td>\n",
       "      <td>PHYSICS REPORTS-REVIEW SECTION OF PHYSICS LETTERS</td>\n",
       "      <td>Davidson, S\\nNardi, E\\nNir, Y\\n</td>\n",
       "      <td>2008</td>\n",
       "    </tr>\n",
       "    <tr>\n",
       "      <th>8</th>\n",
       "      <td>410</td>\n",
       "      <td>Temperature sensitivity of drought-induced tree mortality portends increased regional die-off under global-change-type drought</td>\n",
       "      <td>PROCEEDINGS OF THE NATIONAL ACADEMY OF SCIENCES OF THE UNITED STATES OF\\nAMERICA</td>\n",
       "      <td>Adams, HD\\nGuardiola-Claramonte, M\\nBarron-Gafford, GA\\nVillegas, JC\\nBreshears, DD\\nZou, CB\\nTroch, PA\\nHuxman, TE\\n</td>\n",
       "      <td>2009</td>\n",
       "    </tr>\n",
       "    <tr>\n",
       "      <th>9</th>\n",
       "      <td>376</td>\n",
       "      <td>Electron localization following attosecond molecular photoionization</td>\n",
       "      <td>NATURE</td>\n",
       "      <td>Sansone, G\\nKelkensberg, F\\nPerez-Torres, JF\\nMorales, F\\nKling, MF\\nSiu, W\\nGhafur, O\\nJohnsson, P\\nSwoboda, M\\nBenedetti, E\\nFerrari, F\\nLepine, F\\nSanz-Vicario, JL\\nZherebtsov, S\\nZnakovskaya, ...</td>\n",
       "      <td>2010</td>\n",
       "    </tr>\n",
       "  </tbody>\n",
       "</table>\n",
       "</div>"
      ],
      "text/plain": [
       "     Z9  \\\n",
       "0  3610   \n",
       "1  1526   \n",
       "2  1271   \n",
       "3   901   \n",
       "4   711   \n",
       "5   601   \n",
       "6   474   \n",
       "7   429   \n",
       "8   410   \n",
       "9   376   \n",
       "\n",
       "                                                                                                                               TI  \\\n",
       "0                                                                 An integrated map of genetic variation from 1,092 human genomes   \n",
       "1                                                                   Leishmaniasis Worldwide and Global Estimates of Its Incidence   \n",
       "2                                                                                  A global reference for human genetic variation   \n",
       "3          Human papillomavirus genotype attribution in invasive cervical cancer: a retrospective cross-sectional worldwide study   \n",
       "4                                               The Genome Sequence of Taurine Cattle: A Window to Ruminant Biology and Evolution   \n",
       "5                                                GENETIC ABSOLUTE DATING BASED ON MICROSATELLITES AND THE ORIGIN OF MODERN HUMANS   \n",
       "6                                                         Mutations in IRF6 cause Van der Woude and popliteal pterygium syndromes   \n",
       "7                                                                                                                    Leptogenesis   \n",
       "8  Temperature sensitivity of drought-induced tree mortality portends increased regional die-off under global-change-type drought   \n",
       "9                                                            Electron localization following attosecond molecular photoionization   \n",
       "\n",
       "                                                                                 SO  \\\n",
       "0                                                                            NATURE   \n",
       "1                                                                          PLOS ONE   \n",
       "2                                                                            NATURE   \n",
       "3                                                                   LANCET ONCOLOGY   \n",
       "4                                                                           SCIENCE   \n",
       "5  PROCEEDINGS OF THE NATIONAL ACADEMY OF SCIENCES OF THE UNITED STATES OF\\nAMERICA   \n",
       "6                                                                   NATURE GENETICS   \n",
       "7                                 PHYSICS REPORTS-REVIEW SECTION OF PHYSICS LETTERS   \n",
       "8  PROCEEDINGS OF THE NATIONAL ACADEMY OF SCIENCES OF THE UNITED STATES OF\\nAMERICA   \n",
       "9                                                                            NATURE   \n",
       "\n",
       "                                                                                                                                                                                                        AU  \\\n",
       "0  Altshuler, DM\\nDurbin, RM\\nAbecasis, GR\\nBentley, DR\\nChakravarti, A\\nClark, AG\\nDonnelly, P\\nEichler, EE\\nFlicek, P\\nGabriel, SB\\nGibbs, RA\\nGreen, ED\\nHurles, ME\\nKnoppers, BM\\nKorbel, JO\\nLande...   \n",
       "1                                                                                                                  Alvar, J\\nVelez, ID\\nBern, C\\nHerrero, M\\nDesjeux, P\\nCano, J\\nJannin, J\\nden Boer, M\\n   \n",
       "2  Altshuler, DM\\nDurbin, RM\\nAbecasis, GR\\nBentley, DR\\nChakravarti, A\\nClark, AG\\nDonnelly, P\\nEichler, EE\\nFlicek, P\\nGabriel, SB\\nGibbs, RA\\nGreen, ED\\nHurles, ME\\nKnoppers, BM\\nKorbel, JO\\nLande...   \n",
       "3  de Sanjose, S\\nQuint, WGV\\nAlemany, L\\nGeraets, DT\\nKlaustermeier, JE\\nLloveras, B\\nTous, S\\nFelix, A\\nBravo, LE\\nShin, HR\\nVallejos, CS\\nde Ruiz, PA\\nLima, MA\\nGuimera, N\\nClavero, O\\nAlejo, M\\nL...   \n",
       "4  Elsik, CG\\nTellam, RL\\nWorley, KC\\nGibbs, RA\\nAbatepaulo, ARR\\nAbbey, CA\\nAdelson, DL\\nAerts, J\\nAhola, V\\nAlexander, L\\nAlioto, T\\nAlmeida, IG\\nAmadio, AF\\nAnatriello, E\\nAntonarakis, SE\\nAnzola,...   \n",
       "5                                                                                                                                             GOLDSTEIN, DB\\nLINARES, AR\\nCAVALLISFORZA, LL\\nFELDMAN, MW\\n   \n",
       "6  Kondo, S\\nSchutte, BC\\nRichardson, RJ\\nBjork, BC\\nKnight, AS\\nWatanabe, Y\\nHoward, E\\nde Lima, RLLF\\nDaack-Hirsch, S\\nSander, A\\nMcDonald-McGinn, DM\\nZackai, EH\\nLammer, EJ\\nAylsworth, AS\\nArdinge...   \n",
       "7                                                                                                                                                                          Davidson, S\\nNardi, E\\nNir, Y\\n   \n",
       "8                                                                                    Adams, HD\\nGuardiola-Claramonte, M\\nBarron-Gafford, GA\\nVillegas, JC\\nBreshears, DD\\nZou, CB\\nTroch, PA\\nHuxman, TE\\n   \n",
       "9  Sansone, G\\nKelkensberg, F\\nPerez-Torres, JF\\nMorales, F\\nKling, MF\\nSiu, W\\nGhafur, O\\nJohnsson, P\\nSwoboda, M\\nBenedetti, E\\nFerrari, F\\nLepine, F\\nSanz-Vicario, JL\\nZherebtsov, S\\nZnakovskaya, ...   \n",
       "\n",
       "     PY  \n",
       "0  2012  \n",
       "1  2012  \n",
       "2  2015  \n",
       "3  2010  \n",
       "4  2009  \n",
       "5  1995  \n",
       "6  2002  \n",
       "7  2008  \n",
       "8  2009  \n",
       "9  2010  "
      ]
     },
     "execution_count": 30,
     "metadata": {},
     "output_type": "execute_result"
    }
   ],
   "source": [
    "UDEA_YES.sort_values('Z9',ascending=False)[['Z9','TI','SO','AU','PY']].reset_index(drop=True)[:10]"
   ]
  },
  {
   "cell_type": "code",
   "execution_count": 31,
   "metadata": {},
   "outputs": [
    {
     "data": {
      "text/plain": [
       "75281"
      ]
     },
     "execution_count": 31,
     "metadata": {},
     "output_type": "execute_result"
    }
   ],
   "source": [
    "UDEA_YES.Z9.sum()"
   ]
  },
  {
   "cell_type": "code",
   "execution_count": 32,
   "metadata": {},
   "outputs": [
    {
     "data": {
      "text/html": [
       "<div>\n",
       "<style scoped>\n",
       "    .dataframe tbody tr th:only-of-type {\n",
       "        vertical-align: middle;\n",
       "    }\n",
       "\n",
       "    .dataframe tbody tr th {\n",
       "        vertical-align: top;\n",
       "    }\n",
       "\n",
       "    .dataframe thead th {\n",
       "        text-align: right;\n",
       "    }\n",
       "</style>\n",
       "<table border=\"1\" class=\"dataframe\">\n",
       "  <thead>\n",
       "    <tr style=\"text-align: right;\">\n",
       "      <th></th>\n",
       "      <th>SCP_Cited by</th>\n",
       "      <th>TI</th>\n",
       "      <th>SO</th>\n",
       "      <th>AU</th>\n",
       "      <th>PY</th>\n",
       "    </tr>\n",
       "  </thead>\n",
       "  <tbody>\n",
       "    <tr>\n",
       "      <th>0</th>\n",
       "      <td>1586</td>\n",
       "      <td>Leishmaniasis Worldwide and Global Estimates of Its Incidence</td>\n",
       "      <td>PLOS ONE</td>\n",
       "      <td>Alvar, J\\nVelez, ID\\nBern, C\\nHerrero, M\\nDesjeux, P\\nCano, J\\nJannin, J\\nden Boer, M\\n</td>\n",
       "      <td>2012</td>\n",
       "    </tr>\n",
       "    <tr>\n",
       "      <th>1</th>\n",
       "      <td>1160</td>\n",
       "      <td>Effects of tranexamic acid on death, vascular occlusive events, and blood transfusion in trauma patients with significant haemorrhage (CRASH-2): A randomised, placebo-controlled trial</td>\n",
       "      <td>The Lancet</td>\n",
       "      <td>Olldashi F., Kerçi M., Zhurda T., Ruçi K., Banushi A., Traverso M.S., Jiménez J., Balbi J., Dellera C., Svampa S., Quintana G., Piñero G., Teves J., Seppelt I., Mountain D., Hunter J., Balogh Z., ...</td>\n",
       "      <td>2010</td>\n",
       "    </tr>\n",
       "    <tr>\n",
       "      <th>2</th>\n",
       "      <td>994</td>\n",
       "      <td>Human papillomavirus genotype attribution in invasive cervical cancer: a retrospective cross-sectional worldwide study</td>\n",
       "      <td>LANCET ONCOLOGY</td>\n",
       "      <td>de Sanjose, S\\nQuint, WGV\\nAlemany, L\\nGeraets, DT\\nKlaustermeier, JE\\nLloveras, B\\nTous, S\\nFelix, A\\nBravo, LE\\nShin, HR\\nVallejos, CS\\nde Ruiz, PA\\nLima, MA\\nGuimera, N\\nClavero, O\\nAlejo, M\\nL...</td>\n",
       "      <td>2010</td>\n",
       "    </tr>\n",
       "    <tr>\n",
       "      <th>3</th>\n",
       "      <td>626</td>\n",
       "      <td>The Genome Sequence of Taurine Cattle: A Window to Ruminant Biology and Evolution</td>\n",
       "      <td>SCIENCE</td>\n",
       "      <td>Elsik, CG\\nTellam, RL\\nWorley, KC\\nGibbs, RA\\nAbatepaulo, ARR\\nAbbey, CA\\nAdelson, DL\\nAerts, J\\nAhola, V\\nAlexander, L\\nAlioto, T\\nAlmeida, IG\\nAmadio, AF\\nAnatriello, E\\nAntonarakis, SE\\nAnzola,...</td>\n",
       "      <td>2009</td>\n",
       "    </tr>\n",
       "    <tr>\n",
       "      <th>4</th>\n",
       "      <td>598</td>\n",
       "      <td>GENETIC ABSOLUTE DATING BASED ON MICROSATELLITES AND THE ORIGIN OF MODERN HUMANS</td>\n",
       "      <td>PROCEEDINGS OF THE NATIONAL ACADEMY OF SCIENCES OF THE UNITED STATES OF\\nAMERICA</td>\n",
       "      <td>GOLDSTEIN, DB\\nLINARES, AR\\nCAVALLISFORZA, LL\\nFELDMAN, MW\\n</td>\n",
       "      <td>1995</td>\n",
       "    </tr>\n",
       "    <tr>\n",
       "      <th>5</th>\n",
       "      <td>485</td>\n",
       "      <td>Mutations in IRF6 cause Van der Woude and popliteal pterygium syndromes</td>\n",
       "      <td>NATURE GENETICS</td>\n",
       "      <td>Kondo, S\\nSchutte, BC\\nRichardson, RJ\\nBjork, BC\\nKnight, AS\\nWatanabe, Y\\nHoward, E\\nde Lima, RLLF\\nDaack-Hirsch, S\\nSander, A\\nMcDonald-McGinn, DM\\nZackai, EH\\nLammer, EJ\\nAylsworth, AS\\nArdinge...</td>\n",
       "      <td>2002</td>\n",
       "    </tr>\n",
       "    <tr>\n",
       "      <th>6</th>\n",
       "      <td>439</td>\n",
       "      <td>The importance of early treatment with tranexamic acid in bleeding trauma patients: An exploratory analysis of the CRASH-2 randomised controlled trial</td>\n",
       "      <td>The Lancet</td>\n",
       "      <td>Olldashi F., Kerçi M., Zhurda T., Ruçi K., Banushi A., Traverso M.S., Jiménez J., Balbi J., Dellera C., Svampa S., Quintana G., Piñero G., Teves J., Seppelt I., Mountain D., Balogh Z., Zaman M., D...</td>\n",
       "      <td>2011</td>\n",
       "    </tr>\n",
       "    <tr>\n",
       "      <th>7</th>\n",
       "      <td>432</td>\n",
       "      <td>Leptogenesis</td>\n",
       "      <td>PHYSICS REPORTS-REVIEW SECTION OF PHYSICS LETTERS</td>\n",
       "      <td>Davidson, S\\nNardi, E\\nNir, Y\\n</td>\n",
       "      <td>2008</td>\n",
       "    </tr>\n",
       "    <tr>\n",
       "      <th>8</th>\n",
       "      <td>424</td>\n",
       "      <td>Temperature sensitivity of drought-induced tree mortality portends increased regional die-off under global-change-type drought</td>\n",
       "      <td>PROCEEDINGS OF THE NATIONAL ACADEMY OF SCIENCES OF THE UNITED STATES OF\\nAMERICA</td>\n",
       "      <td>Adams, HD\\nGuardiola-Claramonte, M\\nBarron-Gafford, GA\\nVillegas, JC\\nBreshears, DD\\nZou, CB\\nTroch, PA\\nHuxman, TE\\n</td>\n",
       "      <td>2009</td>\n",
       "    </tr>\n",
       "    <tr>\n",
       "      <th>9</th>\n",
       "      <td>405</td>\n",
       "      <td>THE STRUCTURE OF THE PRESENILIN-1 (S182) GENE AND IDENTIFICATION OF 6 NOVEL MUTATIONS IN EARLY-ONSET AD FAMILIES</td>\n",
       "      <td>NATURE GENETICS</td>\n",
       "      <td>CLARK, RF\\nHUTTON, M\\nFULDNER, RA\\nFROELICH, S\\nKARRAN, E\\nTALBOT, C\\nCROOK, R\\nLENDON, C\\nPRIHAR, G\\nHE, C\\nKORENBLAT, K\\nMARTINEZ, A\\nWRAGG, M\\nBUSFIELD, F\\nBEHRENS, MI\\nMYERS, A\\nNORTON, J\\nMOR...</td>\n",
       "      <td>1995</td>\n",
       "    </tr>\n",
       "  </tbody>\n",
       "</table>\n",
       "</div>"
      ],
      "text/plain": [
       "   SCP_Cited by  \\\n",
       "0          1586   \n",
       "1          1160   \n",
       "2           994   \n",
       "3           626   \n",
       "4           598   \n",
       "5           485   \n",
       "6           439   \n",
       "7           432   \n",
       "8           424   \n",
       "9           405   \n",
       "\n",
       "                                                                                                                                                                                        TI  \\\n",
       "0                                                                                                                            Leishmaniasis Worldwide and Global Estimates of Its Incidence   \n",
       "1  Effects of tranexamic acid on death, vascular occlusive events, and blood transfusion in trauma patients with significant haemorrhage (CRASH-2): A randomised, placebo-controlled trial   \n",
       "2                                                                   Human papillomavirus genotype attribution in invasive cervical cancer: a retrospective cross-sectional worldwide study   \n",
       "3                                                                                                        The Genome Sequence of Taurine Cattle: A Window to Ruminant Biology and Evolution   \n",
       "4                                                                                                         GENETIC ABSOLUTE DATING BASED ON MICROSATELLITES AND THE ORIGIN OF MODERN HUMANS   \n",
       "5                                                                                                                  Mutations in IRF6 cause Van der Woude and popliteal pterygium syndromes   \n",
       "6                                   The importance of early treatment with tranexamic acid in bleeding trauma patients: An exploratory analysis of the CRASH-2 randomised controlled trial   \n",
       "7                                                                                                                                                                             Leptogenesis   \n",
       "8                                                           Temperature sensitivity of drought-induced tree mortality portends increased regional die-off under global-change-type drought   \n",
       "9                                                                         THE STRUCTURE OF THE PRESENILIN-1 (S182) GENE AND IDENTIFICATION OF 6 NOVEL MUTATIONS IN EARLY-ONSET AD FAMILIES   \n",
       "\n",
       "                                                                                 SO  \\\n",
       "0                                                                          PLOS ONE   \n",
       "1                                                                        The Lancet   \n",
       "2                                                                   LANCET ONCOLOGY   \n",
       "3                                                                           SCIENCE   \n",
       "4  PROCEEDINGS OF THE NATIONAL ACADEMY OF SCIENCES OF THE UNITED STATES OF\\nAMERICA   \n",
       "5                                                                   NATURE GENETICS   \n",
       "6                                                                        The Lancet   \n",
       "7                                 PHYSICS REPORTS-REVIEW SECTION OF PHYSICS LETTERS   \n",
       "8  PROCEEDINGS OF THE NATIONAL ACADEMY OF SCIENCES OF THE UNITED STATES OF\\nAMERICA   \n",
       "9                                                                   NATURE GENETICS   \n",
       "\n",
       "                                                                                                                                                                                                        AU  \\\n",
       "0                                                                                                                  Alvar, J\\nVelez, ID\\nBern, C\\nHerrero, M\\nDesjeux, P\\nCano, J\\nJannin, J\\nden Boer, M\\n   \n",
       "1  Olldashi F., Kerçi M., Zhurda T., Ruçi K., Banushi A., Traverso M.S., Jiménez J., Balbi J., Dellera C., Svampa S., Quintana G., Piñero G., Teves J., Seppelt I., Mountain D., Hunter J., Balogh Z., ...   \n",
       "2  de Sanjose, S\\nQuint, WGV\\nAlemany, L\\nGeraets, DT\\nKlaustermeier, JE\\nLloveras, B\\nTous, S\\nFelix, A\\nBravo, LE\\nShin, HR\\nVallejos, CS\\nde Ruiz, PA\\nLima, MA\\nGuimera, N\\nClavero, O\\nAlejo, M\\nL...   \n",
       "3  Elsik, CG\\nTellam, RL\\nWorley, KC\\nGibbs, RA\\nAbatepaulo, ARR\\nAbbey, CA\\nAdelson, DL\\nAerts, J\\nAhola, V\\nAlexander, L\\nAlioto, T\\nAlmeida, IG\\nAmadio, AF\\nAnatriello, E\\nAntonarakis, SE\\nAnzola,...   \n",
       "4                                                                                                                                             GOLDSTEIN, DB\\nLINARES, AR\\nCAVALLISFORZA, LL\\nFELDMAN, MW\\n   \n",
       "5  Kondo, S\\nSchutte, BC\\nRichardson, RJ\\nBjork, BC\\nKnight, AS\\nWatanabe, Y\\nHoward, E\\nde Lima, RLLF\\nDaack-Hirsch, S\\nSander, A\\nMcDonald-McGinn, DM\\nZackai, EH\\nLammer, EJ\\nAylsworth, AS\\nArdinge...   \n",
       "6  Olldashi F., Kerçi M., Zhurda T., Ruçi K., Banushi A., Traverso M.S., Jiménez J., Balbi J., Dellera C., Svampa S., Quintana G., Piñero G., Teves J., Seppelt I., Mountain D., Balogh Z., Zaman M., D...   \n",
       "7                                                                                                                                                                          Davidson, S\\nNardi, E\\nNir, Y\\n   \n",
       "8                                                                                    Adams, HD\\nGuardiola-Claramonte, M\\nBarron-Gafford, GA\\nVillegas, JC\\nBreshears, DD\\nZou, CB\\nTroch, PA\\nHuxman, TE\\n   \n",
       "9  CLARK, RF\\nHUTTON, M\\nFULDNER, RA\\nFROELICH, S\\nKARRAN, E\\nTALBOT, C\\nCROOK, R\\nLENDON, C\\nPRIHAR, G\\nHE, C\\nKORENBLAT, K\\nMARTINEZ, A\\nWRAGG, M\\nBUSFIELD, F\\nBEHRENS, MI\\nMYERS, A\\nNORTON, J\\nMOR...   \n",
       "\n",
       "     PY  \n",
       "0  2012  \n",
       "1  2010  \n",
       "2  2010  \n",
       "3  2009  \n",
       "4  1995  \n",
       "5  2002  \n",
       "6  2011  \n",
       "7  2008  \n",
       "8  2009  \n",
       "9  1995  "
      ]
     },
     "execution_count": 32,
     "metadata": {},
     "output_type": "execute_result"
    }
   ],
   "source": [
    "UDEA_YES.sort_values('SCP_Cited by',ascending=False)[[\n",
    "    'SCP_Cited by','TI','SO','AU','PY']].reset_index(drop=True)[:10]"
   ]
  },
  {
   "cell_type": "code",
   "execution_count": 33,
   "metadata": {},
   "outputs": [
    {
     "data": {
      "text/plain": [
       "78299"
      ]
     },
     "execution_count": 33,
     "metadata": {},
     "output_type": "execute_result"
    }
   ],
   "source": [
    "UDEA_YES['SCP_Cited by'].sum()"
   ]
  },
  {
   "cell_type": "markdown",
   "metadata": {},
   "source": [
    "# TMP"
   ]
  },
  {
   "cell_type": "code",
   "execution_count": 273,
   "metadata": {},
   "outputs": [
    {
     "data": {
      "text/plain": [
       "WOS_author\n",
       "Builes, J. J.    27\n",
       "                 25\n",
       "Restrepo, A.     19\n",
       "Name: WOS_author, dtype: int64"
      ]
     },
     "execution_count": 273,
     "metadata": {},
     "output_type": "execute_result"
    }
   ],
   "source": [
    "aun=extract_key(UDEA_NOT,'WOS_author',json_column='authors_WOS')\n",
    "aun[:3]"
   ]
  },
  {
   "cell_type": "code",
   "execution_count": 275,
   "metadata": {},
   "outputs": [],
   "source": [
    "aun=aun.keys()"
   ]
  },
  {
   "cell_type": "code",
   "execution_count": 58,
   "metadata": {},
   "outputs": [],
   "source": [
    "posib=extract_key(UDEA_YES,'WOS_author',json_column='authors_WOS').keys()"
   ]
  },
  {
   "cell_type": "markdown",
   "metadata": {},
   "source": [
    "### Goods: i=2,3,4,6\n",
    "### Bad: 1,5"
   ]
  },
  {
   "cell_type": "code",
   "execution_count": 1323,
   "metadata": {},
   "outputs": [
    {
     "data": {
      "text/plain": [
       "'Romero-Sanchez, H.'"
      ]
     },
     "execution_count": 1323,
     "metadata": {},
     "output_type": "execute_result"
    }
   ],
   "source": [
    "i=12\n",
    "n=aun[i]\n",
    "n"
   ]
  },
  {
   "cell_type": "code",
   "execution_count": 1324,
   "metadata": {},
   "outputs": [],
   "source": [
    "# if nold:\n",
    "qq=query_json_column(n,df=UDEA_NOT,json_column='authors_WOS',\n",
    "                        choices=wos_author,scorer=fuzz.ratio,score_cutoff=100)"
   ]
  },
  {
   "cell_type": "code",
   "execution_count": 1325,
   "metadata": {},
   "outputs": [
    {
     "data": {
      "text/plain": [
       "RangeIndex(start=0, stop=7, step=1)"
      ]
     },
     "execution_count": 1325,
     "metadata": {},
     "output_type": "execute_result"
    }
   ],
   "source": [
    "qq.index"
   ]
  },
  {
   "cell_type": "code",
   "execution_count": 1326,
   "metadata": {},
   "outputs": [
    {
     "name": "stdout",
     "output_type": "stream",
     "text": [
      "[{'affiliation': ['Univ Antioquia, Medellin, Colombia.'], 'i': 0, 'WOS_author': 'Romero-Sanchez, H.'}]\n",
      "[{'affiliation': ['Univ Antioquia, Medellin, Colombia.'], 'i': 0, 'WOS_author': 'Romero-Sanchez, H.'}]\n",
      "[{'affiliation': ['Univ Antioquia, Fac Agr, Grp Gr, Medellin 1226, Colombia.'], 'i': 0, 'WOS_author': 'Romero-Sanchez, H.'}]\n",
      "[{'affiliation': ['Univ Antioquia, Fac Agr, Grp Grica, Medellin 1226, Colombia.'], 'i': 0, 'WOS_author': 'Romero-Sanchez, H.'}]\n",
      "[{'affiliation': ['Univ Antioquia, Grp Grica, Fac Agr, Bogota, Colombia.'], 'i': 0, 'WOS_author': 'Romero-Sanchez, H.'}]\n",
      "[{'affiliation': ['Univ Antioquia, Fac Agr, Grp Gr, Medellin 1226, Colombia.'], 'i': 0, 'WOS_author': 'Romero-Sanchez, H.'}]\n",
      "[{'affiliation': ['Univ Antioquia, Fac Agr, Grp Grica AA1226, Medellin 500001, Colombia.'], 'i': 0, 'WOS_author': 'Romero-Sanchez, H.'}]\n"
     ]
    }
   ],
   "source": [
    "for i in qq.index:\n",
    "    print( [ d for d in qq.loc[i,'authors_WOS'] if n in d.get('WOS_author')] )"
   ]
  },
  {
   "cell_type": "code",
   "execution_count": 1327,
   "metadata": {},
   "outputs": [
    {
     "data": {
      "text/plain": [
       "array(['POULTRY SCIENCE'], dtype=object)"
      ]
     },
     "execution_count": 1327,
     "metadata": {},
     "output_type": "execute_result"
    }
   ],
   "source": [
    "qq.SO.unique()"
   ]
  },
  {
   "cell_type": "code",
   "execution_count": 1328,
   "metadata": {},
   "outputs": [
    {
     "data": {
      "text/plain": [
       "(7, 182)"
      ]
     },
     "execution_count": 1328,
     "metadata": {},
     "output_type": "execute_result"
    }
   ],
   "source": [
    "qq.shape"
   ]
  },
  {
   "cell_type": "code",
   "execution_count": 1329,
   "metadata": {},
   "outputs": [
    {
     "data": {
      "text/plain": [
       "WOS_author\n",
       "Romero-Sanchez, H.    1\n",
       "Name: WOS_author, dtype: int64"
      ]
     },
     "execution_count": 1329,
     "metadata": {},
     "output_type": "execute_result"
    }
   ],
   "source": [
    "extract_key(qq[:1],'WOS_author',json_column='authors_WOS')"
   ]
  },
  {
   "cell_type": "code",
   "execution_count": 1330,
   "metadata": {},
   "outputs": [
    {
     "data": {
      "text/plain": [
       "[{'WOS_author': 'Romero-Sanchez, H.',\n",
       "  'affiliation': ['Univ Antioquia, Medellin, Colombia.'],\n",
       "  'i': 0}]"
      ]
     },
     "execution_count": 1330,
     "metadata": {},
     "output_type": "execute_result"
    }
   ],
   "source": [
    "qq.loc[0,'authors_WOS']"
   ]
  },
  {
   "cell_type": "code",
   "execution_count": 1331,
   "metadata": {},
   "outputs": [
    {
     "data": {
      "text/plain": [
       "'POULTRY SCIENCE'"
      ]
     },
     "execution_count": 1331,
     "metadata": {},
     "output_type": "execute_result"
    }
   ],
   "source": [
    "qq.loc[0,'SO']"
   ]
  },
  {
   "cell_type": "markdown",
   "metadata": {},
   "source": [
    "## Include SO"
   ]
  },
  {
   "cell_type": "code",
   "execution_count": 1332,
   "metadata": {},
   "outputs": [],
   "source": [
    "aunly=drive_files.read_drive_json('UDEA_authors_with_WOS_info.json').reset_index(drop=True)"
   ]
  },
  {
   "cell_type": "code",
   "execution_count": 1333,
   "metadata": {},
   "outputs": [],
   "source": [
    "def build_institutional_authors(x,author_df,x_author_key='WOS_author',x_affiliation_key='affiliation',\n",
    "                                        author_key='WOS_author',\n",
    "                                        affiliation_key='WOS_affiliation'):\n",
    "    if type(x)!=list:\n",
    "        return None\n",
    "    ll=[]\n",
    "    for j in range(len(x)):\n",
    "        \n",
    "                                #author_WOS→affiliation always have single affiliation\n",
    "        kk=find_author_affiliation(x[j].get(x_author_key),x[j].get(x_affiliation_key)[0],\n",
    "                                        author_df=author_df,\n",
    "                                        author_key=author_key,\n",
    "                                        affiliation_key=affiliation_key,\n",
    "                                        ratio=0.9 )\n",
    "        if kk:\n",
    "            ll.append(kk)\n",
    "    if not ll:\n",
    "        ll=None\n",
    "    return ll"
   ]
  },
  {
   "cell_type": "code",
   "execution_count": 1334,
   "metadata": {},
   "outputs": [],
   "source": [
    "import fuzzywuzzy.process as fwp\n",
    "from fuzzywuzzy import fuzz\n",
    "#UDEA_NOT=UDEA[UDEA['UDEA_authors'].isna()].reset_index(drop=True)\n",
    "df2=aunly.copy()\n",
    "df2=pd.DataFrame( list( df2['UDEA_authors'].values ) )\n",
    "df2['UDEA_authors']=aunly['UDEA_authors']\n",
    "contents=df2[['WOS_author','WOS_affiliation','UDEA_authors']].reset_index(drop=True)\n",
    "contents['WOS_author']=contents['WOS_author']#.astype(str)\n",
    "contents['WOS_affiliation']=contents['WOS_affiliation']#.astype(str)"
   ]
  },
  {
   "cell_type": "markdown",
   "metadata": {},
   "source": [
    "# =============="
   ]
  },
  {
   "cell_type": "code",
   "execution_count": 1335,
   "metadata": {},
   "outputs": [],
   "source": [
    "dfnot=qq#UDEA_NOT.copy()\n",
    "dfnot=dfnot.reset_index(drop=True)"
   ]
  },
  {
   "cell_type": "code",
   "execution_count": 1336,
   "metadata": {},
   "outputs": [],
   "source": [
    "l=dfnot['authors_WOS'].loc[0]"
   ]
  },
  {
   "cell_type": "code",
   "execution_count": 1337,
   "metadata": {},
   "outputs": [
    {
     "data": {
      "text/plain": [
       "[{'WOS_author': 'Romero-Sanchez, H.',\n",
       "  'affiliation': ['Univ Antioquia, Medellin, Colombia.'],\n",
       "  'i': 0}]"
      ]
     },
     "execution_count": 1337,
     "metadata": {},
     "output_type": "execute_result"
    }
   ],
   "source": [
    "l"
   ]
  },
  {
   "cell_type": "code",
   "execution_count": 1338,
   "metadata": {},
   "outputs": [],
   "source": [
    "#for i in range(20):\n",
    "#l=dfnot['authors_WOS'].loc[i]\n",
    "#def json_fuzzy_merge(l,contents,right_target='UDEA_authors',\n",
    "                       #left_on='WOS_author',extra_left_on='affiliation',\n",
    "                       #right_on='WOS_author',extra_right_on='WOS_affiliation',\n",
    "                       #cutoff=95,cutoff_extra=65,scorer=fuzz.partial_ratio):\n",
    "if True:                \n",
    "    right_target='UDEA_authors'\n",
    "    left_on='WOS_author'\n",
    "    extra_left_on='affiliation'\n",
    "    right_on='WOS_author' \n",
    "    extra_right_on='WOS_affiliation'\n",
    "    cutoff=92\n",
    "    cutoff_extra=70\n",
    "    scorer=fuzz.token_set_ratio                \n",
    "    newl=[]\n",
    "    for d in l:\n",
    "        au=d.get(left_on)\n",
    "        aff=d.get(extra_left_on)[0]\n",
    "        break\n",
    "        # extract best WOS author match\n",
    "        #r=fwp.extractOne(au,contents[right_on],scorer=scorer)\n",
    "        #if r[1]>=cutoff:\n",
    "        #    raf=fwp.extractOne( aff, contents.loc[r[2],extra_right_on],scorer=scorer )\n",
    "            #print(r[1],r[2],raf[1],aff,',',contents.loc[r[2],extra_right_on])\n",
    "            #if raf[1]>=cutoff_extra:\n",
    "            #    newl=newl+[  contents.loc[r[2],right_target]  ]\n",
    "            #else:\n",
    "                #check SO\n",
    "                #newl=newl+[  contents.loc[r[2],right_target]  ]\n",
    "        #break\n",
    "    #if newl:\n",
    "    #    return newl\n",
    "    #else:\n",
    "    #    return None"
   ]
  },
  {
   "cell_type": "code",
   "execution_count": 1339,
   "metadata": {},
   "outputs": [
    {
     "data": {
      "text/plain": [
       "'Romero-Sanchez, H.'"
      ]
     },
     "execution_count": 1339,
     "metadata": {},
     "output_type": "execute_result"
    }
   ],
   "source": [
    "au"
   ]
  },
  {
   "cell_type": "code",
   "execution_count": 1340,
   "metadata": {},
   "outputs": [
    {
     "data": {
      "text/plain": [
       "'Univ Antioquia, Medellin, Colombia.'"
      ]
     },
     "execution_count": 1340,
     "metadata": {},
     "output_type": "execute_result"
    }
   ],
   "source": [
    "aff"
   ]
  },
  {
   "cell_type": "code",
   "execution_count": 1341,
   "metadata": {},
   "outputs": [
    {
     "data": {
      "text/plain": [
       "('Sanchez, H.', 100)"
      ]
     },
     "execution_count": 1341,
     "metadata": {},
     "output_type": "execute_result"
    }
   ],
   "source": [
    "Q=1\n",
    "rau=fwp.extractOne(au,contents[right_on].apply(pd.Series).stack().unique(),scorer=scorer)\n",
    "rau"
   ]
  },
  {
   "cell_type": "code",
   "execution_count": 1342,
   "metadata": {},
   "outputs": [
    {
     "name": "stdout",
     "output_type": "stream",
     "text": [
      "('Sanchez, H.', 89)\n"
     ]
    }
   ],
   "source": [
    "#if rau[1]<cutoff:\n",
    "RESET=False\n",
    "tmprau=fwp.extractOne(au,contents[right_on].apply(pd.Series).stack().unique(),\n",
    "                   scorer=fuzz.partial_token_sort_ratio)\n",
    "print(tmprau)\n",
    "if RESET:\n",
    "    Q=Q-0.1\n",
    "    rau=tmprau"
   ]
  },
  {
   "cell_type": "code",
   "execution_count": 1343,
   "metadata": {},
   "outputs": [],
   "source": [
    "#fwp.extractOne(au,contents[right_on].apply(pd.Series).stack().unique(),scorer=fuzz.token_sort_ratio)\n",
    "#fwp.extractOne(au,contents[right_on].apply(pd.Series).stack().unique(),scorer=fuzz.ratio)#\n",
    "#fwp.extractOne(au,contents[right_on].apply(pd.Series).stack().unique(),scorer=fuzz.partial_token_set_ratio)"
   ]
  },
  {
   "cell_type": "code",
   "execution_count": 1344,
   "metadata": {},
   "outputs": [],
   "source": [
    "if rau[1]>=cutoff:\n",
    "    raf=contents[contents[right_on].apply( lambda l: rau[0] in l )].reset_index(drop=True)#.loc[0]"
   ]
  },
  {
   "cell_type": "code",
   "execution_count": 1345,
   "metadata": {},
   "outputs": [
    {
     "data": {
      "text/plain": [
       "['Univ Antioquia, Colombia.',\n",
       " 'Univ Antioquia, Grp Invest Pirometalurg & Mat GIPIME, Medellin, Colombia.',\n",
       " 'Department of Metallurgical Engineering and Materials, Univ Antioquia. GIPIMME Group Researchers, Medellin, Antioquia, Colombia']"
      ]
     },
     "execution_count": 1345,
     "metadata": {},
     "output_type": "execute_result"
    }
   ],
   "source": [
    "raf[extra_right_on].loc[0]"
   ]
  },
  {
   "cell_type": "code",
   "execution_count": 1346,
   "metadata": {},
   "outputs": [
    {
     "data": {
      "text/plain": [
       "('Univ Antioquia, Colombia.', 83)"
      ]
     },
     "execution_count": 1346,
     "metadata": {},
     "output_type": "execute_result"
    }
   ],
   "source": [
    "fwp.extractOne(aff,raf[extra_right_on].loc[0],scorer=fuzz.ratio)"
   ]
  },
  {
   "cell_type": "code",
   "execution_count": 1347,
   "metadata": {},
   "outputs": [
    {
     "data": {
      "text/plain": [
       "('Univ Antioquia, Colombia.', 100)"
      ]
     },
     "execution_count": 1347,
     "metadata": {},
     "output_type": "execute_result"
    }
   ],
   "source": [
    "#if raff<cutoff_extra:\n",
    "Q=Q-0.1\n",
    "fwp.extractOne(aff,raf[extra_right_on].loc[0],scorer=fuzz.partial_token_set_ratio)"
   ]
  },
  {
   "cell_type": "code",
   "execution_count": 1348,
   "metadata": {},
   "outputs": [
    {
     "data": {
      "text/html": [
       "<div>\n",
       "<style scoped>\n",
       "    .dataframe tbody tr th:only-of-type {\n",
       "        vertical-align: middle;\n",
       "    }\n",
       "\n",
       "    .dataframe tbody tr th {\n",
       "        vertical-align: top;\n",
       "    }\n",
       "\n",
       "    .dataframe thead th {\n",
       "        text-align: right;\n",
       "    }\n",
       "</style>\n",
       "<table border=\"1\" class=\"dataframe\">\n",
       "  <thead>\n",
       "    <tr style=\"text-align: right;\">\n",
       "      <th></th>\n",
       "      <th>WOS_author</th>\n",
       "      <th>WOS_affiliation</th>\n",
       "      <th>UDEA_authors</th>\n",
       "    </tr>\n",
       "  </thead>\n",
       "  <tbody>\n",
       "    <tr>\n",
       "      <th>0</th>\n",
       "      <td>[Sanchez, Hector Dario, Sanchez, Hector, Sanchez, H.]</td>\n",
       "      <td>[Univ Antioquia, Colombia., Univ Antioquia, Grp Invest Pirometalurg &amp; Mat GIPIME, Medellin, Colombia., Department of Metallurgical Engineering and Materials, Univ Antioquia. GIPIMME Group Research...</td>\n",
       "      <td>{'full_name': 'SANCHEZ LONDOÑO HECTOR DARIO', 'NOMBRES': 'Hector Dario', 'PRIMER APELLIDO': 'Sanchez', 'CÉDULA': 98542626.0, 'FACULTAD': 'Facultad de Ingeniería', 'INICIALES': 'H. D.', 'SEGUNDO AP...</td>\n",
       "    </tr>\n",
       "  </tbody>\n",
       "</table>\n",
       "</div>"
      ],
      "text/plain": [
       "                                              WOS_author  \\\n",
       "0  [Sanchez, Hector Dario, Sanchez, Hector, Sanchez, H.]   \n",
       "\n",
       "                                                                                                                                                                                           WOS_affiliation  \\\n",
       "0  [Univ Antioquia, Colombia., Univ Antioquia, Grp Invest Pirometalurg & Mat GIPIME, Medellin, Colombia., Department of Metallurgical Engineering and Materials, Univ Antioquia. GIPIMME Group Research...   \n",
       "\n",
       "                                                                                                                                                                                              UDEA_authors  \n",
       "0  {'full_name': 'SANCHEZ LONDOÑO HECTOR DARIO', 'NOMBRES': 'Hector Dario', 'PRIMER APELLIDO': 'Sanchez', 'CÉDULA': 98542626.0, 'FACULTAD': 'Facultad de Ingeniería', 'INICIALES': 'H. D.', 'SEGUNDO AP...  "
      ]
     },
     "execution_count": 1348,
     "metadata": {},
     "output_type": "execute_result"
    }
   ],
   "source": [
    "raf"
   ]
  },
  {
   "cell_type": "code",
   "execution_count": 1349,
   "metadata": {},
   "outputs": [],
   "source": [
    "#fwp.extractOne(aff,raf[extra_right_on].loc[0],scorer=fuzz.token_sort_ratio)\n",
    "#fwp.extractOne(aff,raf[extra_right_on].loc[0],scorer=fuzz.token_set_ratio)\n",
    "#fwp.extractOne(aff,raf[extra_right_on].loc[0],scorer=fuzz.partial_token_sort_ratio)"
   ]
  },
  {
   "cell_type": "markdown",
   "metadata": {},
   "source": [
    "# ================"
   ]
  },
  {
   "cell_type": "markdown",
   "metadata": {},
   "source": [
    "Journal:"
   ]
  },
  {
   "cell_type": "code",
   "execution_count": 1350,
   "metadata": {},
   "outputs": [],
   "source": [
    "#if Q<1:\n",
    "so=dfnot['SO'].loc[0]"
   ]
  },
  {
   "cell_type": "code",
   "execution_count": 1351,
   "metadata": {},
   "outputs": [
    {
     "data": {
      "text/plain": [
       "'POULTRY SCIENCE'"
      ]
     },
     "execution_count": 1351,
     "metadata": {},
     "output_type": "execute_result"
    }
   ],
   "source": [
    "so"
   ]
  },
  {
   "cell_type": "code",
   "execution_count": 1352,
   "metadata": {},
   "outputs": [],
   "source": [
    "full_name=raf['UDEA_authors'].loc[0].get('full_name')"
   ]
  },
  {
   "cell_type": "code",
   "execution_count": 1353,
   "metadata": {},
   "outputs": [
    {
     "data": {
      "text/plain": [
       "'SANCHEZ LONDOÑO HECTOR DARIO'"
      ]
     },
     "execution_count": 1353,
     "metadata": {},
     "output_type": "execute_result"
    }
   ],
   "source": [
    "full_name"
   ]
  },
  {
   "cell_type": "code",
   "execution_count": 1354,
   "metadata": {},
   "outputs": [],
   "source": [
    "if full_name:\n",
    "    kkk=UDEA[UDEA['UDEA_nombre'].str.contains(full_name)].reset_index(drop=True)"
   ]
  },
  {
   "cell_type": "code",
   "execution_count": 1355,
   "metadata": {},
   "outputs": [
    {
     "data": {
      "text/plain": [
       "Series([], Name: SO, dtype: object)"
      ]
     },
     "execution_count": 1355,
     "metadata": {},
     "output_type": "execute_result"
    }
   ],
   "source": [
    "kkk.SO"
   ]
  },
  {
   "cell_type": "code",
   "execution_count": 1356,
   "metadata": {},
   "outputs": [],
   "source": [
    "fwp.extractOne( so,   kkk.SO, scorer=scorer)"
   ]
  },
  {
   "cell_type": "code",
   "execution_count": 1054,
   "metadata": {},
   "outputs": [],
   "source": [
    "#60"
   ]
  },
  {
   "cell_type": "markdown",
   "metadata": {},
   "source": [
    "# ================"
   ]
  },
  {
   "cell_type": "code",
   "execution_count": 591,
   "metadata": {},
   "outputs": [
    {
     "data": {
      "text/plain": [
       "(3110,)"
      ]
     },
     "execution_count": 591,
     "metadata": {},
     "output_type": "execute_result"
    }
   ],
   "source": [
    "contents[right_on].apply(pd.Series).stack().shape"
   ]
  },
  {
   "cell_type": "code",
   "execution_count": 592,
   "metadata": {},
   "outputs": [
    {
     "data": {
      "text/plain": [
       "(1273,)"
      ]
     },
     "execution_count": 592,
     "metadata": {},
     "output_type": "execute_result"
    }
   ],
   "source": [
    "contents[right_on].shape"
   ]
  },
  {
   "cell_type": "code",
   "execution_count": 550,
   "metadata": {},
   "outputs": [],
   "source": [
    "import pandas as pd\n",
    "import swifter"
   ]
  },
  {
   "cell_type": "code",
   "execution_count": 551,
   "metadata": {},
   "outputs": [
    {
     "name": "stdout",
     "output_type": "stream",
     "text": [
      "100 1229 72 Univ Antioquia, Cardiovasc Clin Santa Maria, Dept Cardiol, Medellin, Colombia. , ['Departamento de Cardiología Clínica CardioVID, Univ Antioquia y Universidad Pontificia Bolivariana, Medellín, Colombia', 'Medicina Interna y Cardiología, Clínica Cardio Vid, Sección de Cardiología Univ Antioquia, Coordinación Programa de Cardiología Universidad Pontificia Bolivariana, Medellín, Colombia', 'Clínica Cardiovascular Santa María, Medellín, Colombia, Sección de Cardiología, Univ Antioquia, Medellín, Colombia, Universidad Pontificia Bolivariana, Medellín, Colombia', 'Universidad Pontificia Bolivariana, Medellín, Colombia, Clínica Cardiovascular Santa María, Medellín, Colombia, Univ Antioquia, Medellín, Colombia']\n"
     ]
    },
    {
     "ename": "TypeError",
     "evalue": "unorderable types: tuple() >= int()",
     "output_type": "error",
     "traceback": [
      "\u001b[0;31m---------------------------------------------------------------------------\u001b[0m",
      "\u001b[0;31mAttributeError\u001b[0m                            Traceback (most recent call last)",
      "\u001b[0;32m/usr/local/lib/python3.5/dist-packages/swifter/swifter.py\u001b[0m in \u001b[0;36mapply\u001b[0;34m(self, func, convert_dtype, args, **kwds)\u001b[0m\n\u001b[1;32m    153\u001b[0m         \u001b[0;32mtry\u001b[0m\u001b[0;34m:\u001b[0m  \u001b[0;31m# try to vectorize\u001b[0m\u001b[0;34m\u001b[0m\u001b[0m\n\u001b[0;32m--> 154\u001b[0;31m             \u001b[0mtmp_df\u001b[0m \u001b[0;34m=\u001b[0m \u001b[0mfunc\u001b[0m\u001b[0;34m(\u001b[0m\u001b[0msamp\u001b[0m\u001b[0;34m,\u001b[0m \u001b[0;34m*\u001b[0m\u001b[0margs\u001b[0m\u001b[0;34m,\u001b[0m \u001b[0;34m**\u001b[0m\u001b[0mkwds\u001b[0m\u001b[0;34m)\u001b[0m\u001b[0;34m\u001b[0m\u001b[0m\n\u001b[0m\u001b[1;32m    155\u001b[0m             \u001b[0;32massert\u001b[0m \u001b[0msamp\u001b[0m\u001b[0;34m.\u001b[0m\u001b[0mapply\u001b[0m\u001b[0;34m(\u001b[0m\u001b[0mfunc\u001b[0m\u001b[0;34m,\u001b[0m \u001b[0mconvert_dtype\u001b[0m\u001b[0;34m=\u001b[0m\u001b[0mconvert_dtype\u001b[0m\u001b[0;34m,\u001b[0m \u001b[0margs\u001b[0m\u001b[0;34m=\u001b[0m\u001b[0margs\u001b[0m\u001b[0;34m,\u001b[0m \u001b[0;34m**\u001b[0m\u001b[0mkwds\u001b[0m\u001b[0;34m)\u001b[0m\u001b[0;34m.\u001b[0m\u001b[0mequals\u001b[0m\u001b[0;34m(\u001b[0m\u001b[0mtmp_df\u001b[0m\u001b[0;34m)\u001b[0m\u001b[0;34m\u001b[0m\u001b[0m\n",
      "\u001b[0;32m<ipython-input-551-9609a5560f12>\u001b[0m in \u001b[0;36m<lambda>\u001b[0;34m(l)\u001b[0m\n\u001b[1;32m      1\u001b[0m kk=dfnot['authors_WOS'].swifter.apply(lambda l: json_fuzzy_merge(l,contents,\n\u001b[0;32m----> 2\u001b[0;31m                                         cutoff=0.93,cutoff_extra=90,scorer=fuzz.token_set_ratio))\n\u001b[0m",
      "\u001b[0;32m<ipython-input-549-2404cf61947d>\u001b[0m in \u001b[0;36mjson_fuzzy_merge\u001b[0;34m(l, contents, right_target, left_on, extra_left_on, right_on, extra_right_on, cutoff, cutoff_extra, scorer)\u001b[0m\n\u001b[1;32m      8\u001b[0m     \u001b[0;32mfor\u001b[0m \u001b[0md\u001b[0m \u001b[0;32min\u001b[0m \u001b[0ml\u001b[0m\u001b[0;34m:\u001b[0m\u001b[0;34m\u001b[0m\u001b[0m\n\u001b[0;32m----> 9\u001b[0;31m         \u001b[0mau\u001b[0m\u001b[0;34m=\u001b[0m\u001b[0md\u001b[0m\u001b[0;34m.\u001b[0m\u001b[0mget\u001b[0m\u001b[0;34m(\u001b[0m\u001b[0mleft_on\u001b[0m\u001b[0;34m)\u001b[0m\u001b[0;34m\u001b[0m\u001b[0m\n\u001b[0m\u001b[1;32m     10\u001b[0m         \u001b[0maff\u001b[0m\u001b[0;34m=\u001b[0m\u001b[0md\u001b[0m\u001b[0;34m.\u001b[0m\u001b[0mget\u001b[0m\u001b[0;34m(\u001b[0m\u001b[0mextra_left_on\u001b[0m\u001b[0;34m)\u001b[0m\u001b[0;34m\u001b[0m\u001b[0m\n",
      "\u001b[0;31mAttributeError\u001b[0m: 'list' object has no attribute 'get'",
      "\nDuring handling of the above exception, another exception occurred:\n",
      "\u001b[0;31mTypeError\u001b[0m                                 Traceback (most recent call last)",
      "\u001b[0;32m<ipython-input-551-9609a5560f12>\u001b[0m in \u001b[0;36m<module>\u001b[0;34m\u001b[0m\n\u001b[0;32m----> 1\u001b[0;31m kk=dfnot['authors_WOS'].swifter.apply(lambda l: json_fuzzy_merge(l,contents,\n\u001b[0m\u001b[1;32m      2\u001b[0m                                         cutoff=0.93,cutoff_extra=90,scorer=fuzz.token_set_ratio))\n",
      "\u001b[0;32m/usr/local/lib/python3.5/dist-packages/swifter/swifter.py\u001b[0m in \u001b[0;36mapply\u001b[0;34m(self, func, convert_dtype, args, **kwds)\u001b[0m\n\u001b[1;32m    164\u001b[0m             \u001b[0mwrapped\u001b[0m \u001b[0;34m=\u001b[0m \u001b[0mself\u001b[0m\u001b[0;34m.\u001b[0m\u001b[0m_wrapped_apply\u001b[0m\u001b[0;34m(\u001b[0m\u001b[0mfunc\u001b[0m\u001b[0;34m,\u001b[0m \u001b[0mconvert_dtype\u001b[0m\u001b[0;34m=\u001b[0m\u001b[0mconvert_dtype\u001b[0m\u001b[0;34m,\u001b[0m \u001b[0margs\u001b[0m\u001b[0;34m=\u001b[0m\u001b[0margs\u001b[0m\u001b[0;34m,\u001b[0m \u001b[0;34m**\u001b[0m\u001b[0mkwds\u001b[0m\u001b[0;34m)\u001b[0m\u001b[0;34m\u001b[0m\u001b[0m\n\u001b[1;32m    165\u001b[0m             \u001b[0mn_repeats\u001b[0m \u001b[0;34m=\u001b[0m \u001b[0;36m3\u001b[0m\u001b[0;34m\u001b[0m\u001b[0m\n\u001b[0;32m--> 166\u001b[0;31m             \u001b[0mtimed\u001b[0m \u001b[0;34m=\u001b[0m \u001b[0mtimeit\u001b[0m\u001b[0;34m.\u001b[0m\u001b[0mtimeit\u001b[0m\u001b[0;34m(\u001b[0m\u001b[0mwrapped\u001b[0m\u001b[0;34m,\u001b[0m \u001b[0mnumber\u001b[0m\u001b[0;34m=\u001b[0m\u001b[0mn_repeats\u001b[0m\u001b[0;34m)\u001b[0m\u001b[0;34m\u001b[0m\u001b[0m\n\u001b[0m\u001b[1;32m    167\u001b[0m             \u001b[0msamp_proc_est\u001b[0m \u001b[0;34m=\u001b[0m \u001b[0mtimed\u001b[0m \u001b[0;34m/\u001b[0m \u001b[0mn_repeats\u001b[0m\u001b[0;34m\u001b[0m\u001b[0m\n\u001b[1;32m    168\u001b[0m             \u001b[0mest_apply_duration\u001b[0m \u001b[0;34m=\u001b[0m \u001b[0msamp_proc_est\u001b[0m \u001b[0;34m/\u001b[0m \u001b[0mself\u001b[0m\u001b[0;34m.\u001b[0m\u001b[0m_SAMP_SIZE\u001b[0m \u001b[0;34m*\u001b[0m \u001b[0mself\u001b[0m\u001b[0;34m.\u001b[0m\u001b[0m_obj\u001b[0m\u001b[0;34m.\u001b[0m\u001b[0mshape\u001b[0m\u001b[0;34m[\u001b[0m\u001b[0;36m0\u001b[0m\u001b[0;34m]\u001b[0m\u001b[0;34m\u001b[0m\u001b[0m\n",
      "\u001b[0;32m/usr/lib/python3.5/timeit.py\u001b[0m in \u001b[0;36mtimeit\u001b[0;34m(stmt, setup, timer, number, globals)\u001b[0m\n\u001b[1;32m    211\u001b[0m            number=default_number, globals=None):\n\u001b[1;32m    212\u001b[0m     \u001b[0;34m\"\"\"Convenience function to create Timer object and call timeit method.\"\"\"\u001b[0m\u001b[0;34m\u001b[0m\u001b[0m\n\u001b[0;32m--> 213\u001b[0;31m     \u001b[0;32mreturn\u001b[0m \u001b[0mTimer\u001b[0m\u001b[0;34m(\u001b[0m\u001b[0mstmt\u001b[0m\u001b[0;34m,\u001b[0m \u001b[0msetup\u001b[0m\u001b[0;34m,\u001b[0m \u001b[0mtimer\u001b[0m\u001b[0;34m,\u001b[0m \u001b[0mglobals\u001b[0m\u001b[0;34m)\u001b[0m\u001b[0;34m.\u001b[0m\u001b[0mtimeit\u001b[0m\u001b[0;34m(\u001b[0m\u001b[0mnumber\u001b[0m\u001b[0;34m)\u001b[0m\u001b[0;34m\u001b[0m\u001b[0m\n\u001b[0m\u001b[1;32m    214\u001b[0m \u001b[0;34m\u001b[0m\u001b[0m\n\u001b[1;32m    215\u001b[0m def repeat(stmt=\"pass\", setup=\"pass\", timer=default_timer,\n",
      "\u001b[0;32m/usr/lib/python3.5/timeit.py\u001b[0m in \u001b[0;36mtimeit\u001b[0;34m(self, number)\u001b[0m\n\u001b[1;32m    176\u001b[0m         \u001b[0mgc\u001b[0m\u001b[0;34m.\u001b[0m\u001b[0mdisable\u001b[0m\u001b[0;34m(\u001b[0m\u001b[0;34m)\u001b[0m\u001b[0;34m\u001b[0m\u001b[0m\n\u001b[1;32m    177\u001b[0m         \u001b[0;32mtry\u001b[0m\u001b[0;34m:\u001b[0m\u001b[0;34m\u001b[0m\u001b[0m\n\u001b[0;32m--> 178\u001b[0;31m             \u001b[0mtiming\u001b[0m \u001b[0;34m=\u001b[0m \u001b[0mself\u001b[0m\u001b[0;34m.\u001b[0m\u001b[0minner\u001b[0m\u001b[0;34m(\u001b[0m\u001b[0mit\u001b[0m\u001b[0;34m,\u001b[0m \u001b[0mself\u001b[0m\u001b[0;34m.\u001b[0m\u001b[0mtimer\u001b[0m\u001b[0;34m)\u001b[0m\u001b[0;34m\u001b[0m\u001b[0m\n\u001b[0m\u001b[1;32m    179\u001b[0m         \u001b[0;32mfinally\u001b[0m\u001b[0;34m:\u001b[0m\u001b[0;34m\u001b[0m\u001b[0m\n\u001b[1;32m    180\u001b[0m             \u001b[0;32mif\u001b[0m \u001b[0mgcold\u001b[0m\u001b[0;34m:\u001b[0m\u001b[0;34m\u001b[0m\u001b[0m\n",
      "\u001b[0;32m/usr/lib/python3.5/timeit.py\u001b[0m in \u001b[0;36minner\u001b[0;34m(_it, _timer, _stmt)\u001b[0m\n",
      "\u001b[0;32m/usr/local/lib/python3.5/dist-packages/swifter/swifter.py\u001b[0m in \u001b[0;36mwrapped\u001b[0;34m()\u001b[0m\n\u001b[1;32m     97\u001b[0m     \u001b[0;32mdef\u001b[0m \u001b[0m_wrapped_apply\u001b[0m\u001b[0;34m(\u001b[0m\u001b[0mself\u001b[0m\u001b[0;34m,\u001b[0m \u001b[0mfunc\u001b[0m\u001b[0;34m,\u001b[0m \u001b[0mconvert_dtype\u001b[0m\u001b[0;34m=\u001b[0m\u001b[0;32mTrue\u001b[0m\u001b[0;34m,\u001b[0m \u001b[0margs\u001b[0m\u001b[0;34m=\u001b[0m\u001b[0;34m(\u001b[0m\u001b[0;34m)\u001b[0m\u001b[0;34m,\u001b[0m \u001b[0;34m**\u001b[0m\u001b[0mkwds\u001b[0m\u001b[0;34m)\u001b[0m\u001b[0;34m:\u001b[0m\u001b[0;34m\u001b[0m\u001b[0m\n\u001b[1;32m     98\u001b[0m         \u001b[0;32mdef\u001b[0m \u001b[0mwrapped\u001b[0m\u001b[0;34m(\u001b[0m\u001b[0;34m)\u001b[0m\u001b[0;34m:\u001b[0m\u001b[0;34m\u001b[0m\u001b[0m\n\u001b[0;32m---> 99\u001b[0;31m             \u001b[0mself\u001b[0m\u001b[0;34m.\u001b[0m\u001b[0m_obj\u001b[0m\u001b[0;34m.\u001b[0m\u001b[0miloc\u001b[0m\u001b[0;34m[\u001b[0m\u001b[0;34m:\u001b[0m \u001b[0mself\u001b[0m\u001b[0;34m.\u001b[0m\u001b[0m_SAMP_SIZE\u001b[0m\u001b[0;34m]\u001b[0m\u001b[0;34m.\u001b[0m\u001b[0mapply\u001b[0m\u001b[0;34m(\u001b[0m\u001b[0mfunc\u001b[0m\u001b[0;34m,\u001b[0m \u001b[0mconvert_dtype\u001b[0m\u001b[0;34m=\u001b[0m\u001b[0mconvert_dtype\u001b[0m\u001b[0;34m,\u001b[0m \u001b[0margs\u001b[0m\u001b[0;34m=\u001b[0m\u001b[0margs\u001b[0m\u001b[0;34m,\u001b[0m \u001b[0;34m**\u001b[0m\u001b[0mkwds\u001b[0m\u001b[0;34m)\u001b[0m\u001b[0;34m\u001b[0m\u001b[0m\n\u001b[0m\u001b[1;32m    100\u001b[0m \u001b[0;34m\u001b[0m\u001b[0m\n\u001b[1;32m    101\u001b[0m         \u001b[0;32mreturn\u001b[0m \u001b[0mwrapped\u001b[0m\u001b[0;34m\u001b[0m\u001b[0m\n",
      "\u001b[0;32m/usr/local/lib/python3.5/dist-packages/pandas/core/series.py\u001b[0m in \u001b[0;36mapply\u001b[0;34m(self, func, convert_dtype, args, **kwds)\u001b[0m\n\u001b[1;32m   3589\u001b[0m             \u001b[0;32melse\u001b[0m\u001b[0;34m:\u001b[0m\u001b[0;34m\u001b[0m\u001b[0m\n\u001b[1;32m   3590\u001b[0m                 \u001b[0mvalues\u001b[0m \u001b[0;34m=\u001b[0m \u001b[0mself\u001b[0m\u001b[0;34m.\u001b[0m\u001b[0mastype\u001b[0m\u001b[0;34m(\u001b[0m\u001b[0mobject\u001b[0m\u001b[0;34m)\u001b[0m\u001b[0;34m.\u001b[0m\u001b[0mvalues\u001b[0m\u001b[0;34m\u001b[0m\u001b[0m\n\u001b[0;32m-> 3591\u001b[0;31m                 \u001b[0mmapped\u001b[0m \u001b[0;34m=\u001b[0m \u001b[0mlib\u001b[0m\u001b[0;34m.\u001b[0m\u001b[0mmap_infer\u001b[0m\u001b[0;34m(\u001b[0m\u001b[0mvalues\u001b[0m\u001b[0;34m,\u001b[0m \u001b[0mf\u001b[0m\u001b[0;34m,\u001b[0m \u001b[0mconvert\u001b[0m\u001b[0;34m=\u001b[0m\u001b[0mconvert_dtype\u001b[0m\u001b[0;34m)\u001b[0m\u001b[0;34m\u001b[0m\u001b[0m\n\u001b[0m\u001b[1;32m   3592\u001b[0m \u001b[0;34m\u001b[0m\u001b[0m\n\u001b[1;32m   3593\u001b[0m         \u001b[0;32mif\u001b[0m \u001b[0mlen\u001b[0m\u001b[0;34m(\u001b[0m\u001b[0mmapped\u001b[0m\u001b[0;34m)\u001b[0m \u001b[0;32mand\u001b[0m \u001b[0misinstance\u001b[0m\u001b[0;34m(\u001b[0m\u001b[0mmapped\u001b[0m\u001b[0;34m[\u001b[0m\u001b[0;36m0\u001b[0m\u001b[0;34m]\u001b[0m\u001b[0;34m,\u001b[0m \u001b[0mSeries\u001b[0m\u001b[0;34m)\u001b[0m\u001b[0;34m:\u001b[0m\u001b[0;34m\u001b[0m\u001b[0m\n",
      "\u001b[0;32mpandas/_libs/lib.pyx\u001b[0m in \u001b[0;36mpandas._libs.lib.map_infer\u001b[0;34m()\u001b[0m\n",
      "\u001b[0;32m<ipython-input-551-9609a5560f12>\u001b[0m in \u001b[0;36m<lambda>\u001b[0;34m(l)\u001b[0m\n\u001b[1;32m      1\u001b[0m kk=dfnot['authors_WOS'].swifter.apply(lambda l: json_fuzzy_merge(l,contents,\n\u001b[0;32m----> 2\u001b[0;31m                                         cutoff=0.93,cutoff_extra=90,scorer=fuzz.token_set_ratio))\n\u001b[0m",
      "\u001b[0;32m<ipython-input-549-2404cf61947d>\u001b[0m in \u001b[0;36mjson_fuzzy_merge\u001b[0;34m(l, contents, right_target, left_on, extra_left_on, right_on, extra_right_on, cutoff, cutoff_extra, scorer)\u001b[0m\n\u001b[1;32m     14\u001b[0m             \u001b[0mraf\u001b[0m\u001b[0;34m=\u001b[0m\u001b[0mfwp\u001b[0m\u001b[0;34m.\u001b[0m\u001b[0mextractOne\u001b[0m\u001b[0;34m(\u001b[0m \u001b[0maff\u001b[0m\u001b[0;34m[\u001b[0m\u001b[0;36m0\u001b[0m\u001b[0;34m]\u001b[0m\u001b[0;34m,\u001b[0m \u001b[0mcontents\u001b[0m\u001b[0;34m.\u001b[0m\u001b[0mloc\u001b[0m\u001b[0;34m[\u001b[0m\u001b[0mr\u001b[0m\u001b[0;34m[\u001b[0m\u001b[0;36m2\u001b[0m\u001b[0;34m]\u001b[0m\u001b[0;34m,\u001b[0m\u001b[0mextra_right_on\u001b[0m\u001b[0;34m]\u001b[0m\u001b[0;34m,\u001b[0m\u001b[0mscorer\u001b[0m\u001b[0;34m=\u001b[0m\u001b[0mscorer\u001b[0m \u001b[0;34m)\u001b[0m\u001b[0;34m\u001b[0m\u001b[0m\n\u001b[1;32m     15\u001b[0m             \u001b[0mprint\u001b[0m\u001b[0;34m(\u001b[0m\u001b[0mr\u001b[0m\u001b[0;34m[\u001b[0m\u001b[0;36m1\u001b[0m\u001b[0;34m]\u001b[0m\u001b[0;34m,\u001b[0m\u001b[0mr\u001b[0m\u001b[0;34m[\u001b[0m\u001b[0;36m2\u001b[0m\u001b[0;34m]\u001b[0m\u001b[0;34m,\u001b[0m\u001b[0mraf\u001b[0m\u001b[0;34m[\u001b[0m\u001b[0;36m1\u001b[0m\u001b[0;34m]\u001b[0m\u001b[0;34m,\u001b[0m\u001b[0maff\u001b[0m\u001b[0;34m[\u001b[0m\u001b[0;36m0\u001b[0m\u001b[0;34m]\u001b[0m\u001b[0;34m,\u001b[0m\u001b[0;34m','\u001b[0m\u001b[0;34m,\u001b[0m\u001b[0mcontents\u001b[0m\u001b[0;34m.\u001b[0m\u001b[0mloc\u001b[0m\u001b[0;34m[\u001b[0m\u001b[0mr\u001b[0m\u001b[0;34m[\u001b[0m\u001b[0;36m2\u001b[0m\u001b[0;34m]\u001b[0m\u001b[0;34m,\u001b[0m\u001b[0mextra_right_on\u001b[0m\u001b[0;34m]\u001b[0m\u001b[0;34m)\u001b[0m\u001b[0;34m\u001b[0m\u001b[0m\n\u001b[0;32m---> 16\u001b[0;31m             \u001b[0;32mif\u001b[0m \u001b[0mraf\u001b[0m\u001b[0;34m>=\u001b[0m\u001b[0mcutoff_extra\u001b[0m\u001b[0;34m:\u001b[0m\u001b[0;34m\u001b[0m\u001b[0m\n\u001b[0m\u001b[1;32m     17\u001b[0m                 \u001b[0mnewl\u001b[0m\u001b[0;34m=\u001b[0m\u001b[0mnewl\u001b[0m\u001b[0;34m+\u001b[0m\u001b[0;34m[\u001b[0m  \u001b[0mcontents\u001b[0m\u001b[0;34m.\u001b[0m\u001b[0mloc\u001b[0m\u001b[0;34m[\u001b[0m\u001b[0mr\u001b[0m\u001b[0;34m[\u001b[0m\u001b[0;36m2\u001b[0m\u001b[0;34m]\u001b[0m\u001b[0;34m,\u001b[0m\u001b[0mright_target\u001b[0m\u001b[0;34m]\u001b[0m  \u001b[0;34m]\u001b[0m\u001b[0;34m\u001b[0m\u001b[0m\n\u001b[1;32m     18\u001b[0m             \u001b[0;32melse\u001b[0m\u001b[0;34m:\u001b[0m\u001b[0;34m\u001b[0m\u001b[0m\n",
      "\u001b[0;31mTypeError\u001b[0m: unorderable types: tuple() >= int()"
     ]
    }
   ],
   "source": [
    "kk=dfnot['authors_WOS'].swifter.apply(lambda l: json_fuzzy_merge(l,contents,\n",
    "                                        cutoff=93,cutoff_extra=90,scorer=fuzz.token_set_ratio))"
   ]
  },
  {
   "cell_type": "code",
   "execution_count": 534,
   "metadata": {},
   "outputs": [
    {
     "data": {
      "text/plain": [
       "('Universidad Pontificia Bolivariana, Medellín, Colombia, Clínica Cardiovascular Santa María, Medellín, Colombia, Univ Antioquia, Medellín, Colombia',\n",
       " 57)"
      ]
     },
     "execution_count": 534,
     "metadata": {},
     "output_type": "execute_result"
    }
   ],
   "source": [
    "extra_right_on='WOS_affiliation'\n",
    "aff='Univ Antioquia, Cardiovasc Clin Santa Maria, Dept Cardiol, Medellin, Colombia'\n",
    "fwp.extractOne(aff,contents.loc[1229,extra_right_on],scorer=fuzz.ratio)"
   ]
  },
  {
   "cell_type": "code",
   "execution_count": 477,
   "metadata": {},
   "outputs": [
    {
     "data": {
      "text/plain": [
       "(1,)"
      ]
     },
     "execution_count": 477,
     "metadata": {},
     "output_type": "execute_result"
    }
   ],
   "source": [
    "kk.dropna().shape"
   ]
  },
  {
   "cell_type": "code",
   "execution_count": 491,
   "metadata": {},
   "outputs": [
    {
     "data": {
      "text/plain": [
       "['Departamento de Cardiología Clínica CardioVID, Univ Antioquia y Universidad Pontificia Bolivariana, Medellín, Colombia',\n",
       " 'Medicina Interna y Cardiología, Clínica Cardio Vid, Sección de Cardiología Univ Antioquia, Coordinación Programa de Cardiología Universidad Pontificia Bolivariana, Medellín, Colombia',\n",
       " 'Clínica Cardiovascular Santa María, Medellín, Colombia, Sección de Cardiología, Univ Antioquia, Medellín, Colombia, Universidad Pontificia Bolivariana, Medellín, Colombia',\n",
       " 'Universidad Pontificia Bolivariana, Medellín, Colombia, Clínica Cardiovascular Santa María, Medellín, Colombia, Univ Antioquia, Medellín, Colombia']"
      ]
     },
     "execution_count": 491,
     "metadata": {},
     "output_type": "execute_result"
    }
   ],
   "source": [
    "kk.loc[0][0]['WOS_affiliation']"
   ]
  },
  {
   "cell_type": "code",
   "execution_count": 500,
   "metadata": {},
   "outputs": [
    {
     "data": {
      "text/plain": [
       "['Univ Antioquia, Cardiovasc Clin Santa Maria, Dept Cardiol, Medellin, Colombia.']"
      ]
     },
     "execution_count": 500,
     "metadata": {},
     "output_type": "execute_result"
    }
   ],
   "source": [
    "qq.loc[0,'authors_WOS'][0]['affiliation']"
   ]
  },
  {
   "cell_type": "code",
   "execution_count": 504,
   "metadata": {},
   "outputs": [
    {
     "data": {
      "text/plain": [
       "('Clínica Cardiovascular Santa María, Medellín, Colombia, Sección de Cardiología, Univ Antioquia, Medellín, Colombia, Universidad Pontificia Bolivariana, Medellín, Colombia',\n",
       " 72)"
      ]
     },
     "execution_count": 504,
     "metadata": {},
     "output_type": "execute_result"
    }
   ],
   "source": [
    "fwp.extractOne(qq.loc[0,'authors_WOS'][0]['affiliation'][0],\n",
    "               kk.loc[0][0]['WOS_affiliation'],scorer=fuzz.token_set_ratio)"
   ]
  },
  {
   "cell_type": "code",
   "execution_count": 483,
   "metadata": {},
   "outputs": [],
   "source": [
    "dfnot['UDEA_authors']=kk"
   ]
  },
  {
   "cell_type": "code",
   "execution_count": 268,
   "metadata": {},
   "outputs": [
    {
     "ename": "SyntaxError",
     "evalue": "Missing parentheses in call to 'print' (<ipython-input-268-c94594b6b28f>, line 1)",
     "output_type": "error",
     "traceback": [
      "\u001b[0;36m  File \u001b[0;32m\"<ipython-input-268-c94594b6b28f>\"\u001b[0;36m, line \u001b[0;32m1\u001b[0m\n\u001b[0;31m    print 1\u001b[0m\n\u001b[0m          ^\u001b[0m\n\u001b[0;31mSyntaxError\u001b[0m\u001b[0;31m:\u001b[0m Missing parentheses in call to 'print'\n"
     ]
    }
   ],
   "source": [
    "print 1"
   ]
  },
  {
   "cell_type": "code",
   "execution_count": 484,
   "metadata": {},
   "outputs": [
    {
     "data": {
      "text/plain": [
       "{'CÉDULA': 43615175.0,\n",
       " 'DEPARTAMENTO': 'Departamento de Medicina Interna',\n",
       " 'FACULTAD': 'Facultad de Medicina',\n",
       " 'GRUPO': 'Grupo para el Estudio de las Enfermedades Cardiovasculares',\n",
       " 'INICIALES': 'C. I.',\n",
       " 'NOMBRE COMPLETO': 'Clara Ines Saldarriaga Giraldo',\n",
       " 'NOMBRES': 'Clara Ines',\n",
       " 'PRIMER APELLIDO': 'Saldarriaga',\n",
       " 'SEGUNDO APELLIDO': 'Giraldo',\n",
       " 'WOS_affiliation': ['Departamento de Cardiología Clínica CardioVID, Univ Antioquia y Universidad Pontificia Bolivariana, Medellín, Colombia',\n",
       "  'Medicina Interna y Cardiología, Clínica Cardio Vid, Sección de Cardiología Univ Antioquia, Coordinación Programa de Cardiología Universidad Pontificia Bolivariana, Medellín, Colombia',\n",
       "  'Clínica Cardiovascular Santa María, Medellín, Colombia, Sección de Cardiología, Univ Antioquia, Medellín, Colombia, Universidad Pontificia Bolivariana, Medellín, Colombia',\n",
       "  'Universidad Pontificia Bolivariana, Medellín, Colombia, Clínica Cardiovascular Santa María, Medellín, Colombia, Univ Antioquia, Medellín, Colombia'],\n",
       " 'WOS_author': ['Saldarriaga, C. I.', 'Saldarriaga, C.'],\n",
       " 'full_name': 'SALDARRIAGA GIRALDO CLARA INES'}"
      ]
     },
     "execution_count": 484,
     "metadata": {},
     "output_type": "execute_result"
    }
   ],
   "source": [
    "kk.loc[0][0]"
   ]
  },
  {
   "cell_type": "code",
   "execution_count": 485,
   "metadata": {
    "scrolled": false
   },
   "outputs": [],
   "source": [
    "i=0;j=0\n",
    "for i in dfnot.index:\n",
    "    if kk.loc[i]:\n",
    "        kkk=UDEA[ UDEA['UDEA_authors'].astype(str).str.contains( \n",
    "               str(kk.loc[i][j]).replace('[','\\[').replace(']','\\]') )]# str(kk.loc[0][0])   )\n",
    "        r=fwp.extractOne( dfnot.loc[i].SO.lower(), kkk.SO.str.lower(),\n",
    "                              scorer=fuzz.token_set_ratio)\n",
    "\n",
    "        if r and r[1]>80:\n",
    "            print( kkk.SO.values)\n",
    "            print('-'*20)\n",
    "            print( dfnot.loc[i].SO)\n",
    "            print( r )\n",
    "            print('='*20)"
   ]
  },
  {
   "cell_type": "code",
   "execution_count": 486,
   "metadata": {},
   "outputs": [
    {
     "data": {
      "text/plain": [
       "0    EUROPEAN JOURNAL OF HEART FAILURE\n",
       "1    EUROPEAN JOURNAL OF HEART FAILURE\n",
       "2    EUROPEAN JOURNAL OF HEART FAILURE\n",
       "3    EUROPEAN JOURNAL OF HEART FAILURE\n",
       "4    EUROPEAN JOURNAL OF HEART FAILURE\n",
       "5    EUROPEAN JOURNAL OF HEART FAILURE\n",
       "6    EUROPEAN JOURNAL OF HEART FAILURE\n",
       "7    EUROPEAN JOURNAL OF HEART FAILURE\n",
       "8    EUROPEAN JOURNAL OF HEART FAILURE\n",
       "Name: SO, dtype: object"
      ]
     },
     "execution_count": 486,
     "metadata": {},
     "output_type": "execute_result"
    }
   ],
   "source": [
    "dfnot.SO"
   ]
  },
  {
   "cell_type": "code",
   "execution_count": 487,
   "metadata": {},
   "outputs": [
    {
     "data": {
      "text/plain": [
       "('revista colombiana de cardiología', 31, 6848)"
      ]
     },
     "execution_count": 487,
     "metadata": {},
     "output_type": "execute_result"
    }
   ],
   "source": [
    "r"
   ]
  },
  {
   "cell_type": "code",
   "execution_count": 488,
   "metadata": {},
   "outputs": [
    {
     "data": {
      "text/plain": [
       "234      Revista Colombiana de Cardiologia\n",
       "4944                Acta Medica Colombiana\n",
       "5593                Acta Medica Colombiana\n",
       "6848     Revista Colombiana de Cardiología\n",
       "7214     Revista Colombiana de Cardiología\n",
       "7743     Revista Colombiana de Cardiologia\n",
       "12404                            BIOMEDICA\n",
       "14936    Revista Colombiana de Cardiologia\n",
       "15459    Revista Colombiana de Cardiologia\n",
       "Name: SO, dtype: object"
      ]
     },
     "execution_count": 488,
     "metadata": {},
     "output_type": "execute_result"
    }
   ],
   "source": [
    "kkk.SO"
   ]
  },
  {
   "cell_type": "code",
   "execution_count": null,
   "metadata": {},
   "outputs": [],
   "source": [
    "UDEA_NOT=dfnot.reset_index(drop=True)"
   ]
  }
 ],
 "metadata": {
  "colab": {
   "include_colab_link": true,
   "name": "merge.ipynb",
   "provenance": [],
   "version": "0.3.2"
  },
  "kernelspec": {
   "display_name": "Python 3",
   "language": "python",
   "name": "python3"
  },
  "language_info": {
   "codemirror_mode": {
    "name": "ipython",
    "version": 3
   },
   "file_extension": ".py",
   "mimetype": "text/x-python",
   "name": "python",
   "nbconvert_exporter": "python",
   "pygments_lexer": "ipython3",
   "version": "3.5.3"
  },
  "latex_envs": {
   "LaTeX_envs_menu_present": true,
   "autoclose": false,
   "autocomplete": true,
   "bibliofile": "biblio.bib",
   "cite_by": "apalike",
   "current_citInitial": 1,
   "eqLabelWithNumbers": true,
   "eqNumInitial": 1,
   "hotkeys": {
    "equation": "Ctrl-E",
    "itemize": "Ctrl-I"
   },
   "labels_anchors": false,
   "latex_user_defs": false,
   "report_style_numbering": false,
   "user_envs_cfg": false
  }
 },
 "nbformat": 4,
 "nbformat_minor": 2
}
