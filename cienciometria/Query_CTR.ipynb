{
 "cells": [
  {
   "cell_type": "markdown",
   "metadata": {
    "colab_type": "text",
    "id": "view-in-github"
   },
   "source": [
    "<a href=\"https://colab.research.google.com/github/restrepo/medicion/blob/master/cienciometria/Query_CTR.ipynb\" target=\"_parent\"><img src=\"https://colab.research.google.com/assets/colab-badge.svg\" alt=\"Open In Colab\"/></a>"
   ]
  },
  {
   "cell_type": "markdown",
   "metadata": {
    "colab_type": "text",
    "id": "aDnqho-CsEwj"
   },
   "source": [
    "# WOS+SCI+SCP+PTJ+CTR QUERY"
   ]
  },
  {
   "cell_type": "markdown",
   "metadata": {},
   "source": [
    "Queries for the bibliographic datasets for \n",
    "* Web of Science (WOS), \n",
    "* Scielo (SCI)\n",
    "* Scopus  (SCP)\n",
    "* Puntaje (UDEA)\n",
    "* Center (CTR)\n",
    "of the scientific articles of Universidad de Antioquia. \n",
    "\n",
    "They were created with:\n",
    "\n",
    "[WOS_SCI_SCP_PTJ_CTR.ipynb](./WOS_SCI_SCP_PTJ_CTR.ipynb)"
   ]
  },
  {
   "cell_type": "code",
   "execution_count": 1,
   "metadata": {},
   "outputs": [],
   "source": [
    "import os\n",
    "VERSION='NEW'\n",
    "if os.getcwd()=='/content':\n",
    "    !pip install openpyxl xlrd wosplus > /dev/null"
   ]
  },
  {
   "cell_type": "markdown",
   "metadata": {},
   "source": [
    "## functions"
   ]
  },
  {
   "cell_type": "code",
   "execution_count": 2,
   "metadata": {
    "colab": {},
    "colab_type": "code",
    "id": "nhk2ZGEDd2Yo"
   },
   "outputs": [],
   "source": [
    "import pandas as pd\n",
    "import wosplus as wp\n",
    "pd.set_option('display.max_colwidth',200)\n",
    "from venn import draw_venn, generate_colors\n",
    "import numpy as np\n",
    "import fuzzywuzzy.process as fwp\n",
    "from fuzzywuzzy import fuzz"
   ]
  },
  {
   "cell_type": "markdown",
   "metadata": {
    "colab_type": "text",
    "heading_collapsed": true,
    "id": "JS7jD1f47JUN"
   },
   "source": [
    "##  Configure public links of  files in Google Drive\n",
    "* If it is a Google Spreadsheet the corresponding file is downloaded as CSV\n",
    "* If it is in excel or text file the file is downloaded  directly\n",
    "\n",
    "To define your  own labeled IDs for public google drive files edit the next cell:"
   ]
  },
  {
   "cell_type": "code",
   "execution_count": 3,
   "metadata": {
    "colab": {
     "base_uri": "https://localhost:8080/",
     "height": 35
    },
    "colab_type": "code",
    "hidden": true,
    "id": "T4Rmd2dF7JUQ",
    "outputId": "39a5835e-1b38-48b6-f1a5-e9964c846123"
   },
   "outputs": [
    {
     "name": "stdout",
     "output_type": "stream",
     "text": [
      "Overwriting drive.cfg\n"
     ]
    }
   ],
   "source": [
    "%%writefile drive.cfg\n",
    "[FILES]\n",
    "WOS_SCI_SCP_PTJ_CTR.json.gz=19E1C1kRk4I0V3uXojqko8-NEicWaPp1j\n",
    "WOS_SCP_UDEA_SJR_SIU.xlsx=0BxoOXsn2EUNIQ3R4WDhvSzVLQ2s\n",
    "Base_de_datos_investigadores_Definitiva.csv=12oalgUeKhpvzkTPBP8pXCeHTrF-KO223dy9ov9w9QKs\n",
    "UDEA_authors_with_WOS_info.json=1o1eVT4JD0FMMICq_oxrTJOzWh47veBMw\n",
    "produccion_fecha_vig_2003_2018.xlsx=1WbtX4K__TTLxXRjuLvqUYz9tuHCIlS5v\n",
    "UDEA_WOS_SCI_SCP_PTJ.json=1OkVytKbxJwGvXZDkynkSoUDtkUOTaT4A"
   ]
  },
  {
   "cell_type": "markdown",
   "metadata": {
    "colab_type": "text",
    "id": "Y0D0hEdAMXUX"
   },
   "source": [
    "##  Load data bases"
   ]
  },
  {
   "cell_type": "code",
   "execution_count": 4,
   "metadata": {
    "colab": {
     "base_uri": "https://localhost:8080/",
     "height": 35
    },
    "colab_type": "code",
    "id": "occzrIeCS7aQ",
    "outputId": "17b144f3-eef0-4c8a-c2b4-10c8fe55802c"
   },
   "outputs": [],
   "source": [
    "affil='Univ Antioquia'\n",
    "drive_files=wp.wosplus('drive.cfg')"
   ]
  },
  {
   "cell_type": "code",
   "execution_count": 5,
   "metadata": {},
   "outputs": [
    {
     "name": "stdout",
     "output_type": "stream",
     "text": [
      "WARNING: Biblio already has a \"Tipo\" column\n"
     ]
    }
   ],
   "source": [
    "UDEAjsonfile='WOS_SCI_SCP_PTJ_CTR.json.gz'\n",
    "UDEAjsonfile='UDEAtmp.json.gz'\n",
    "tmp=drive_files.load_biblio(UDEAjsonfile,compression='gzip')# TODO CHANGE FOR LAST VERSION IN GOOGLE DRIVE\n",
    "UDEA=drive_files.biblio['WOS'].copy().reset_index(drop=True)"
   ]
  },
  {
   "cell_type": "code",
   "execution_count": 6,
   "metadata": {},
   "outputs": [
    {
     "name": "stdout",
     "output_type": "stream",
     "text": [
      "authors_WOS\n",
      "13645\n",
      "Leptonic charged Higgs decays in the Zee model ; authors_WOS: [] ; AU: Sierra, DA\n",
      "Restrepo, D\n",
      "\n",
      "Tipo contains UDEA\n",
      "2240\n",
      "UDEA_authors\n",
      "10956\n",
      "UDEA_authors → full_names (Extrapolado puntaje)\n",
      "10956\n",
      "UDEA_authors → \"NOMBRE COMPLETO\" (Extrapolado CENTRO)\n",
      "7329\n",
      "TI: \"The inert doublet model\" check WOS_author vs UDEA_authors\n",
      "...\n"
     ]
    }
   ],
   "source": [
    "from check_quality import *\n",
    "check_quality(UDEA)"
   ]
  },
  {
   "cell_type": "markdown",
   "metadata": {},
   "source": [
    "## Indices"
   ]
  },
  {
   "cell_type": "markdown",
   "metadata": {},
   "source": [
    "See: \n",
    "\n",
    "`{'CÉDULA': 63508258.0,\n",
    "  'DEPARTAMENTO': 'Instituto de Biología',\n",
    "  'FACULTAD': 'Facultad de Ciencias Exactas y Naturales',\n",
    "  'GRUPO': 'Sin Grupo Asociado',\n",
    "  'INICIALES': 'I.',\n",
    "  'NOMBRE COMPLETO': 'Idalyd Fonseca Gonzalez',\n",
    "  'NOMBRES': 'Idalyd',\n",
    "  'PRIMER APELLIDO': 'Fonseca',\n",
    "  'SEGUNDO APELLIDO': 'Gonzalez',\n",
    "  'WOS_affiliation': ['Univ Antioquia, Colombia.'],\n",
    "  'WOS_author': ['FONSECA, IDALYD',\n",
    "   'FONSECA-GONZALEZ, IDALYD',\n",
    "   'Fonseca-Gonzalez, Idalyd',\n",
    "   'Fonseca-Gonzalez, I.'],\n",
    "  'full_name': 'FONSECA GONZALEZ IDALYD'}`"
   ]
  },
  {
   "cell_type": "code",
   "execution_count": 7,
   "metadata": {},
   "outputs": [],
   "source": [
    "#TODO: Improve indices\n",
    "def get_groups(l,g):\n",
    "    for d in l:\n",
    "        gt=d.get('GRUPO')\n",
    "        if gt and type( gt )==str:\n",
    "            gs=gt.replace(\n",
    "                ', Grupo','; Grupo'\n",
    "            ).split('; ')\n",
    "            for gg in gs:\n",
    "                if gg not in g:\n",
    "                    g.append(gg)\n",
    "    return g\n",
    "\n",
    "\n",
    "json_column='UDEA_authors'\n",
    "facultades={'key':'FACULTAD',\n",
    "            'values' : UDEA.UDEA_authors.apply(lambda l: \n",
    "                         [d.get('FACULTAD') for d in l] \n",
    "                          if type(l)==list else None\n",
    "                          ).dropna().apply(pd.Series).stack().unique()}\n",
    "departamentos={'key':'DEPARTAMENTO',\n",
    "            'values' :UDEA.UDEA_authors.apply(lambda l: \n",
    "                         [d.get('DEPARTAMENTO') for d in l] \n",
    "                          if type(l)==list else None\n",
    "                        ).dropna().apply(pd.Series).stack().unique()}\n",
    "g=[]\n",
    "#append to g\n",
    "tmp=UDEA.UDEA_authors.apply(lambda l: \n",
    "                        get_groups(l,g)\n",
    "        if type(l)==list else None\n",
    "                        )\n",
    "grupos={'key':'GRUPO',\n",
    "            'values' :g}\n",
    "nombre_completo={'key'    : 'NOMBRE COMPLETO',\n",
    "                 'values' : UDEA[json_column].apply(lambda l: \n",
    "                            [d.get('NOMBRE COMPLETO') for d in l] \n",
    "                            if type(l)==list else None\n",
    "                            ).dropna().apply(pd.Series).stack().unique()\n",
    "                }#Nombres Apellidos. #TODO: Be sure to include full list\n",
    "full_name={'key'    : 'full_name',\n",
    "                 'values' : UDEA[json_column].apply(lambda l: \n",
    "                            [d.get('full_name') for d in l] \n",
    "                            if type(l)==list else None\n",
    "                            ).dropna().apply(pd.Series).stack().unique()\n",
    "                }#Apellidos Nombres . #TODO: Be sure to include full list"
   ]
  },
  {
   "cell_type": "markdown",
   "metadata": {},
   "source": [
    "## Query function"
   ]
  },
  {
   "cell_type": "code",
   "execution_count": 9,
   "metadata": {},
   "outputs": [],
   "source": [
    "def query_json_column(q,df=UDEA,json_column='UDEA_authors',\n",
    "                        choices=nombre_completo,scorer=fuzz.partial_token_sort_ratio,**kwargs):\n",
    "    #Found best exact match from index\n",
    "    fchoices=fwp.extractOne(q,choices['values'],scorer=scorer)[0]\n",
    "    # Exact search in indexed subcolumn converted to strins (e.g list → string if necessary)\n",
    "    dfF=df[df[json_column].apply(lambda l: True in [ str(d.get(choices['key'])).find(fchoices)>-1 \n",
    "                                    for d in l if d.get(choices['key'])] if type(l)==list else False)]\n",
    "    return dfF.reset_index(drop=True)"
   ]
  },
  {
   "cell_type": "code",
   "execution_count": 10,
   "metadata": {},
   "outputs": [],
   "source": [
    "r=query_json_column('Diego Alejandro Restrepo Quintero',df=UDEA,json_column='UDEA_authors',\n",
    "                        choices=nombre_completo,scorer=fuzz.partial_token_sort_ratio,score_cutoff=79)"
   ]
  },
  {
   "cell_type": "code",
   "execution_count": 11,
   "metadata": {},
   "outputs": [
    {
     "data": {
      "text/plain": [
       "(36, 181)"
      ]
     },
     "execution_count": 11,
     "metadata": {},
     "output_type": "execute_result"
    }
   ],
   "source": [
    "r.shape"
   ]
  },
  {
   "cell_type": "code",
   "execution_count": 13,
   "metadata": {},
   "outputs": [
    {
     "data": {
      "text/html": [
       "<div>\n",
       "<style scoped>\n",
       "    .dataframe tbody tr th:only-of-type {\n",
       "        vertical-align: middle;\n",
       "    }\n",
       "\n",
       "    .dataframe tbody tr th {\n",
       "        vertical-align: top;\n",
       "    }\n",
       "\n",
       "    .dataframe thead th {\n",
       "        text-align: right;\n",
       "    }\n",
       "</style>\n",
       "<table border=\"1\" class=\"dataframe\">\n",
       "  <thead>\n",
       "    <tr style=\"text-align: right;\">\n",
       "      <th></th>\n",
       "      <th>TI</th>\n",
       "      <th>AU</th>\n",
       "      <th>authors_WOS</th>\n",
       "      <th>UDEA_authors</th>\n",
       "    </tr>\n",
       "  </thead>\n",
       "  <tbody>\n",
       "    <tr>\n",
       "      <th>0</th>\n",
       "      <td>The inert doublet model</td>\n",
       "      <td>Arias, C\\nMartins, J\\nMartinez, H\\nRon, E\\nSalzmann, C\\nVasconcelos, GMS\\nVillalba, F\\n</td>\n",
       "      <td>[{'WOS_author': 'Arias, C.', 'affiliation': ['Univ Antioquia, Inst Fis, AA 1226, Medellin, Colombia.'], 'i': 0}]</td>\n",
       "      <td>[{'SEGUNDO APELLIDO': 'Noreña', 'NOMBRE COMPLETO': 'Oscar Alberto Zapata Noreña', 'full_name': 'ZAPATA NOREÑA OSCAR ALBERTO', 'INICIALES': 'O. A.', 'DEPARTAMENTO': 'Instituto de Física', 'GRUPO': ...</td>\n",
       "    </tr>\n",
       "    <tr>\n",
       "      <th>1</th>\n",
       "      <td>Leptonic charged Higgs decays in the Zee model</td>\n",
       "      <td>Sierra, DA\\nRestrepo, D\\n</td>\n",
       "      <td>[]</td>\n",
       "      <td>[{'SEGUNDO APELLIDO': 'Quintero', 'NOMBRE COMPLETO': 'Diego Alejandro Restrepo Quintero', 'full_name': 'RESTREPO QUINTERO DIEGO ALEJANDRO', 'INICIALES': 'D. A.', 'DEPARTAMENTO': 'Instituto de Físi...</td>\n",
       "    </tr>\n",
       "  </tbody>\n",
       "</table>\n",
       "</div>"
      ],
      "text/plain": [
       "                                               TI  \\\n",
       "0                         The inert doublet model   \n",
       "1  Leptonic charged Higgs decays in the Zee model   \n",
       "\n",
       "                                                                                        AU  \\\n",
       "0  Arias, C\\nMartins, J\\nMartinez, H\\nRon, E\\nSalzmann, C\\nVasconcelos, GMS\\nVillalba, F\\n   \n",
       "1                                                                Sierra, DA\\nRestrepo, D\\n   \n",
       "\n",
       "                                                                                                        authors_WOS  \\\n",
       "0  [{'WOS_author': 'Arias, C.', 'affiliation': ['Univ Antioquia, Inst Fis, AA 1226, Medellin, Colombia.'], 'i': 0}]   \n",
       "1                                                                                                                []   \n",
       "\n",
       "                                                                                                                                                                                              UDEA_authors  \n",
       "0  [{'SEGUNDO APELLIDO': 'Noreña', 'NOMBRE COMPLETO': 'Oscar Alberto Zapata Noreña', 'full_name': 'ZAPATA NOREÑA OSCAR ALBERTO', 'INICIALES': 'O. A.', 'DEPARTAMENTO': 'Instituto de Física', 'GRUPO': ...  \n",
       "1  [{'SEGUNDO APELLIDO': 'Quintero', 'NOMBRE COMPLETO': 'Diego Alejandro Restrepo Quintero', 'full_name': 'RESTREPO QUINTERO DIEGO ALEJANDRO', 'INICIALES': 'D. A.', 'DEPARTAMENTO': 'Instituto de Físi...  "
      ]
     },
     "execution_count": 13,
     "metadata": {},
     "output_type": "execute_result"
    }
   ],
   "source": [
    "r[['TI','AU','authors_WOS',json_column]].reset_index(drop=True)[:2]"
   ]
  },
  {
   "cell_type": "code",
   "execution_count": 14,
   "metadata": {},
   "outputs": [],
   "source": [
    "r=query_json_column('Instituto de Física',df=UDEA,json_column='UDEA_authors',\n",
    "                        choices=departamentos,scorer=fuzz.partial_token_sort_ratio,score_cutoff=79)"
   ]
  },
  {
   "cell_type": "code",
   "execution_count": 15,
   "metadata": {},
   "outputs": [
    {
     "data": {
      "text/plain": [
       "(849, 181)"
      ]
     },
     "execution_count": 15,
     "metadata": {},
     "output_type": "execute_result"
    }
   ],
   "source": [
    "r.shape"
   ]
  },
  {
   "cell_type": "code",
   "execution_count": 16,
   "metadata": {},
   "outputs": [],
   "source": [
    "r=query_json_column('Grupo de Fenomenología de Interacciones Fundamentales',df=UDEA,json_column='UDEA_authors',\n",
    "                        choices=grupos,scorer=fuzz.partial_token_sort_ratio,score_cutoff=79)"
   ]
  },
  {
   "cell_type": "code",
   "execution_count": 17,
   "metadata": {},
   "outputs": [
    {
     "data": {
      "text/plain": [
       "(80, 181)"
      ]
     },
     "execution_count": 17,
     "metadata": {},
     "output_type": "execute_result"
    }
   ],
   "source": [
    "r.shape"
   ]
  },
  {
   "cell_type": "code",
   "execution_count": 18,
   "metadata": {},
   "outputs": [],
   "source": [
    "gdf=pd.DataFrame()\n",
    "for g in grupos['values']:\n",
    "    r=query_json_column(g,df=UDEA,json_column='UDEA_authors',choices=grupos,\n",
    "                        scorer=fuzz.partial_token_sort_ratio,score_cutoff=79)\n",
    "                        \n",
    "    gdf=gdf.append( {'Group':g,'articles':r.shape[0]},ignore_index=True )\n",
    "gdf['articles']=gdf['articles'].astype(int)"
   ]
  },
  {
   "cell_type": "code",
   "execution_count": 19,
   "metadata": {},
   "outputs": [
    {
     "data": {
      "text/html": [
       "<div>\n",
       "<style scoped>\n",
       "    .dataframe tbody tr th:only-of-type {\n",
       "        vertical-align: middle;\n",
       "    }\n",
       "\n",
       "    .dataframe tbody tr th {\n",
       "        vertical-align: top;\n",
       "    }\n",
       "\n",
       "    .dataframe thead th {\n",
       "        text-align: right;\n",
       "    }\n",
       "</style>\n",
       "<table border=\"1\" class=\"dataframe\">\n",
       "  <thead>\n",
       "    <tr style=\"text-align: right;\">\n",
       "      <th></th>\n",
       "      <th>Group</th>\n",
       "      <th>articles</th>\n",
       "    </tr>\n",
       "  </thead>\n",
       "  <tbody>\n",
       "    <tr>\n",
       "      <th>0</th>\n",
       "      <td>Sin Grupo Asociado</td>\n",
       "      <td>399</td>\n",
       "    </tr>\n",
       "    <tr>\n",
       "      <th>1</th>\n",
       "      <td>Grupo de Materia Condensada-UdeA</td>\n",
       "      <td>299</td>\n",
       "    </tr>\n",
       "    <tr>\n",
       "      <th>2</th>\n",
       "      <td>Grupo de Estado Sólido</td>\n",
       "      <td>269</td>\n",
       "    </tr>\n",
       "    <tr>\n",
       "      <th>3</th>\n",
       "      <td>Grupo Reproducción, Inmunovirología, Infección y Cáncer</td>\n",
       "      <td>265</td>\n",
       "    </tr>\n",
       "    <tr>\n",
       "      <th>4</th>\n",
       "      <td>Inmunovirología</td>\n",
       "      <td>265</td>\n",
       "    </tr>\n",
       "    <tr>\n",
       "      <th>5</th>\n",
       "      <td>Centro de Investigación, Innovación y Desarrollo de Materiales - CIDEMAT - Anteriormente: Grupo de Corrosión y Protección</td>\n",
       "      <td>251</td>\n",
       "    </tr>\n",
       "    <tr>\n",
       "      <th>6</th>\n",
       "      <td>Centro de Investigación, Innovación y Desarrollo de Materiales - CIDEMAT - Anteriormente: Grupo de Corrosión y Protección,</td>\n",
       "      <td>251</td>\n",
       "    </tr>\n",
       "    <tr>\n",
       "      <th>7</th>\n",
       "      <td>Grupo de Neurociencias de Antioquia, SINAPSIS</td>\n",
       "      <td>227</td>\n",
       "    </tr>\n",
       "    <tr>\n",
       "      <th>8</th>\n",
       "      <td>Grupo de Neurociencias de Antioquia</td>\n",
       "      <td>227</td>\n",
       "    </tr>\n",
       "    <tr>\n",
       "      <th>9</th>\n",
       "      <td>Grupo Académico de Epidemiología Clínica</td>\n",
       "      <td>224</td>\n",
       "    </tr>\n",
       "  </tbody>\n",
       "</table>\n",
       "</div>"
      ],
      "text/plain": [
       "                                                                                                                         Group  \\\n",
       "0                                                                                                           Sin Grupo Asociado   \n",
       "1                                                                                             Grupo de Materia Condensada-UdeA   \n",
       "2                                                                                                       Grupo de Estado Sólido   \n",
       "3                                                                      Grupo Reproducción, Inmunovirología, Infección y Cáncer   \n",
       "4                                                                                                              Inmunovirología   \n",
       "5    Centro de Investigación, Innovación y Desarrollo de Materiales - CIDEMAT - Anteriormente: Grupo de Corrosión y Protección   \n",
       "6  Centro de Investigación, Innovación y Desarrollo de Materiales - CIDEMAT - Anteriormente: Grupo de Corrosión y Protección,    \n",
       "7                                                                                Grupo de Neurociencias de Antioquia, SINAPSIS   \n",
       "8                                                                                          Grupo de Neurociencias de Antioquia   \n",
       "9                                                                                     Grupo Académico de Epidemiología Clínica   \n",
       "\n",
       "   articles  \n",
       "0       399  \n",
       "1       299  \n",
       "2       269  \n",
       "3       265  \n",
       "4       265  \n",
       "5       251  \n",
       "6       251  \n",
       "7       227  \n",
       "8       227  \n",
       "9       224  "
      ]
     },
     "execution_count": 19,
     "metadata": {},
     "output_type": "execute_result"
    }
   ],
   "source": [
    "gdf.sort_values('articles',ascending=False).reset_index(drop=True)[:10]"
   ]
  }
 ],
 "metadata": {
  "colab": {
   "include_colab_link": true,
   "name": "merge.ipynb",
   "provenance": [],
   "version": "0.3.2"
  },
  "kernelspec": {
   "display_name": "Python 3",
   "language": "python",
   "name": "python3"
  },
  "language_info": {
   "codemirror_mode": {
    "name": "ipython",
    "version": 3
   },
   "file_extension": ".py",
   "mimetype": "text/x-python",
   "name": "python",
   "nbconvert_exporter": "python",
   "pygments_lexer": "ipython3",
   "version": "3.5.3"
  },
  "latex_envs": {
   "LaTeX_envs_menu_present": true,
   "autoclose": false,
   "autocomplete": true,
   "bibliofile": "biblio.bib",
   "cite_by": "apalike",
   "current_citInitial": 1,
   "eqLabelWithNumbers": true,
   "eqNumInitial": 1,
   "hotkeys": {
    "equation": "Ctrl-E",
    "itemize": "Ctrl-I"
   },
   "labels_anchors": false,
   "latex_user_defs": false,
   "report_style_numbering": false,
   "user_envs_cfg": false
  }
 },
 "nbformat": 4,
 "nbformat_minor": 2
}
