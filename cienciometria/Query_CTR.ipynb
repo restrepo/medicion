{
 "cells": [
  {
   "cell_type": "markdown",
   "metadata": {
    "colab_type": "text",
    "id": "view-in-github"
   },
   "source": [
    "<a href=\"https://colab.research.google.com/github/restrepo/medicion/blob/master/cienciometria/Query_CTR.ipynb\" target=\"_parent\"><img src=\"https://colab.research.google.com/assets/colab-badge.svg\" alt=\"Open In Colab\"/></a>"
   ]
  },
  {
   "cell_type": "markdown",
   "metadata": {
    "colab_type": "text",
    "id": "aDnqho-CsEwj"
   },
   "source": [
    "# Búsquedas WOS+SCI+SCP+PTJ+CTR para UdeA"
   ]
  },
  {
   "cell_type": "markdown",
   "metadata": {},
   "source": [
    "Búsquedas en bases bibligráficas  \n",
    "* Web of Science (WOS), \n",
    "* Scielo (SCI)\n",
    "* Scopus  (SCP)\n",
    "* Puntaje (UDEA)\n",
    "* Center (CTR)\n",
    "de los artículos científicos de la UdeA\n",
    "\n",
    "La base de datos se creó con:\n",
    "\n",
    "[WOS_SCI_SCP_PTJ_CTR.ipynb](./WOS_SCI_SCP_PTJ_CTR.ipynb)"
   ]
  },
  {
   "cell_type": "code",
   "execution_count": 1,
   "metadata": {},
   "outputs": [],
   "source": [
    "import os\n",
    "VERSION='NEW'\n",
    "if os.getcwd()=='/content':\n",
    "    !pip install openpyxl xlrd wosplus fuzzywuzzy[speedup] > /dev/null"
   ]
  },
  {
   "cell_type": "markdown",
   "metadata": {},
   "source": [
    "## functions"
   ]
  },
  {
   "cell_type": "code",
   "execution_count": 1733,
   "metadata": {
    "colab": {},
    "colab_type": "code",
    "id": "nhk2ZGEDd2Yo"
   },
   "outputs": [],
   "source": [
    "import pandas as pd\n",
    "import wosplus as wp\n",
    "pd.set_option('display.max_colwidth',200)\n",
    "from venn import draw_venn, generate_colors\n",
    "import numpy as np\n",
    "import fuzzywuzzy.process as fwp\n",
    "from fuzzywuzzy import fuzz\n",
    "idc='CÉDULA'"
   ]
  },
  {
   "cell_type": "markdown",
   "metadata": {
    "colab_type": "text",
    "heading_collapsed": true,
    "id": "JS7jD1f47JUN"
   },
   "source": [
    "##  Configure public links of  files in Google Drive\n",
    "* If it is a Google Spreadsheet the corresponding file is downloaded as CSV\n",
    "* If it is in excel/json or text file the file is downloaded  directly\n",
    "\n",
    "To define your  own labeled IDs for public google drive files edit the next cell:"
   ]
  },
  {
   "cell_type": "code",
   "execution_count": 3,
   "metadata": {
    "colab": {
     "base_uri": "https://localhost:8080/",
     "height": 35
    },
    "colab_type": "code",
    "hidden": true,
    "id": "T4Rmd2dF7JUQ",
    "outputId": "39a5835e-1b38-48b6-f1a5-e9964c846123"
   },
   "outputs": [
    {
     "name": "stdout",
     "output_type": "stream",
     "text": [
      "Overwriting drive.cfg\n"
     ]
    }
   ],
   "source": [
    "%%writefile drive.cfg\n",
    "[FILES]\n",
    "WOS_SCI_SCP_PTJ_CTR.json.gz=19E1C1kRk4I0V3uXojqko8-NEicWaPp1j"
   ]
  },
  {
   "cell_type": "markdown",
   "metadata": {
    "colab_type": "text",
    "id": "Y0D0hEdAMXUX"
   },
   "source": [
    "##  Load data bases"
   ]
  },
  {
   "cell_type": "code",
   "execution_count": 4,
   "metadata": {
    "colab": {
     "base_uri": "https://localhost:8080/",
     "height": 35
    },
    "colab_type": "code",
    "id": "occzrIeCS7aQ",
    "outputId": "17b144f3-eef0-4c8a-c2b4-10c8fe55802c"
   },
   "outputs": [],
   "source": [
    "affil='Univ Antioquia'\n",
    "drive_files=wp.wosplus('drive.cfg')"
   ]
  },
  {
   "cell_type": "code",
   "execution_count": 5,
   "metadata": {},
   "outputs": [
    {
     "name": "stdout",
     "output_type": "stream",
     "text": [
      "WARNING: Biblio already has a \"Tipo\" column\n"
     ]
    }
   ],
   "source": [
    "UDEAjsonfile='WOS_SCI_SCP_PTJ_CTR.json.gz'\n",
    "tmp=drive_files.load_biblio(UDEAjsonfile,compression='gzip')\n",
    "UDEA=drive_files.biblio['WOS'].copy().reset_index(drop=True)"
   ]
  },
  {
   "cell_type": "code",
   "execution_count": 6,
   "metadata": {},
   "outputs": [],
   "source": [
    "#from check_quality import *\n",
    "#check_quality(UDEA)"
   ]
  },
  {
   "cell_type": "markdown",
   "metadata": {},
   "source": [
    "## Indices:\n",
    "Información obtenida de la columna: `json_column='UDEA_authors'`"
   ]
  },
  {
   "cell_type": "code",
   "execution_count": 1605,
   "metadata": {},
   "outputs": [],
   "source": [
    "json_column='UDEA_authors'"
   ]
  },
  {
   "cell_type": "markdown",
   "metadata": {},
   "source": [
    "Que contiene listas de diccionarios con la información del autor UDEA: \n",
    "\n",
    "`{'DEPARTAMENTO': 'Instituto de Biología',\n",
    "  'FACULTAD': 'Facultad de Ciencias Exactas y Naturales',\n",
    "  'GRUPO': 'Sin Grupo Asociado',\n",
    "  'INICIALES': 'I.',\n",
    "  'NOMBRE COMPLETO': 'Idalyd Fonseca Gonzalez',\n",
    "  'NOMBRES': 'Idalyd',\n",
    "  'PRIMER APELLIDO': 'Fonseca',\n",
    "  'SEGUNDO APELLIDO': 'Gonzalez',\n",
    "  'WOS_affiliation': ['Univ Antioquia, Colombia.'],\n",
    "  'WOS_author': ['FONSECA, IDALYD',\n",
    "   'FONSECA-GONZALEZ, IDALYD',\n",
    "   'Fonseca-Gonzalez, Idalyd',\n",
    "   'Fonseca-Gonzalez, I.'],\n",
    "  'full_name': 'FONSECA GONZALEZ IDALYD'}`"
   ]
  },
  {
   "cell_type": "markdown",
   "metadata": {},
   "source": [
    "Otras columnas: `['OA','Z9'*,SCP_Cited by']`, `*`: WOS cited by\n",
    "\n",
    "Ver también [WOS field tags](https://images.webofknowledge.com/images/help/WOS/hs_wos_fieldtags.html)"
   ]
  },
  {
   "cell_type": "markdown",
   "metadata": {},
   "source": [
    "# Resultados totales"
   ]
  },
  {
   "cell_type": "markdown",
   "metadata": {},
   "source": [
    "Artículos no identificados:"
   ]
  },
  {
   "cell_type": "code",
   "execution_count": 1616,
   "metadata": {},
   "outputs": [
    {
     "data": {
      "text/plain": [
       "3442"
      ]
     },
     "execution_count": 1616,
     "metadata": {},
     "output_type": "execute_result"
    }
   ],
   "source": [
    "UDEA_NOT=UDEA[UDEA[json_column]==''].reset_index(drop=True)\n",
    "UDEA_NOT.shape[0]"
   ]
  },
  {
   "cell_type": "markdown",
   "metadata": {},
   "source": [
    "Artículos identificados"
   ]
  },
  {
   "cell_type": "code",
   "execution_count": 1617,
   "metadata": {},
   "outputs": [
    {
     "data": {
      "text/plain": [
       "12258"
      ]
     },
     "execution_count": 1617,
     "metadata": {},
     "output_type": "execute_result"
    }
   ],
   "source": [
    "UDEA_YES=UDEA[UDEA[json_column]!=''].reset_index(drop=True)\n",
    "UDEA_YES.shape[0]"
   ]
  },
  {
   "cell_type": "markdown",
   "metadata": {},
   "source": [
    "### Análisis sobre artículos identificados"
   ]
  },
  {
   "cell_type": "code",
   "execution_count": 1618,
   "metadata": {},
   "outputs": [],
   "source": [
    "def flatten_if_nested(l):\n",
    "    flatten=False\n",
    "    for i in l:\n",
    "        if type(i)==list:\n",
    "            #return i\n",
    "            flatten=True\n",
    "    if flatten:\n",
    "        l=[item for sublist in l for item in sublist]\n",
    "        l=pd.np.array(l)\n",
    "    return l\n",
    "def extract_key(df,key,json_column='UDEA_authors'):\n",
    "    '''\n",
    "    Extract all the unique key values of the list of dictionaries in \n",
    "    a json column when the key value is a string or another list\n",
    "    '''\n",
    "    ll=df[json_column].apply(lambda l: np.unique([ d.get(key) for d in l \n",
    "                                if d.get(key) ]) if type(l)==list else l)\n",
    "    if ll.str[0].apply(lambda l: l if type(l)==list else None).dropna().shape[0]:\n",
    "        ll=ll.apply(flatten_if_nested)\n",
    "    ll=ll.apply(pd.Series).stack().values\n",
    "    return pd.DataFrame( {key:list(ll)} ).groupby(key)[key].count().sort_values(ascending=False)"
   ]
  },
  {
   "cell_type": "code",
   "execution_count": 1619,
   "metadata": {
    "scrolled": true
   },
   "outputs": [
    {
     "data": {
      "text/plain": [
       "FACULTAD\n",
       "Facultad de Medicina                        3289\n",
       "Facultad de Ciencias Exactas y Naturales    2322\n",
       "Facultad de Ingeniería                      1891\n",
       "Facultad de Ciencias Agrarias                675\n",
       "Facultad de Ciencias Sociales y Humanas      222\n",
       "Facultad de Artes                             15\n",
       "Name: FACULTAD, dtype: int64"
      ]
     },
     "execution_count": 1619,
     "metadata": {},
     "output_type": "execute_result"
    }
   ],
   "source": [
    "extract_key(UDEA_YES,'FACULTAD')"
   ]
  },
  {
   "cell_type": "code",
   "execution_count": 1620,
   "metadata": {},
   "outputs": [
    {
     "data": {
      "text/plain": [
       "DEPARTAMENTO\n",
       "Departamento de Microbiología y Parasitología                   939\n",
       "Instituto de Física                                             879\n",
       "Instituto de Investigaciones Médicas                            772\n",
       "Departamento de Medicina Interna                                671\n",
       "Instituto de Biología                                           670\n",
       "Instituto de Química                                            670\n",
       "Departamento de  Producción Agropecuaria                        421\n",
       "Departamento de Pediatría y Puericultura                        404\n",
       "Departamento de Ingeniería Metalúrgica                          352\n",
       "Departamento de Ingeniería Sanitaria  y Ambiental               347\n",
       "Escuela de Medicina Veterinaria                                 309\n",
       "Departamento de Ingeniería Mecánica                             289\n",
       "Departamento de Ingeniería Quimica                              285\n",
       "Departamento de Cirugía                                         222\n",
       "Departamento de Fisiología                                      191\n",
       "Departamento de Ingeniería Electrónica                          181\n",
       "Departamento de Siquiatría y Ciencias del Comportamiento Hum    179\n",
       "Departamento de Ingeniería Eléctrica                            149\n",
       "Programa Bioingeniería                                          142\n",
       "Departamento de Matemáticas                                     141\n",
       "Departamento de Ingeniería de Sistemas                           95\n",
       "Programa Ingeniería de Telecomunicaciones                        95\n",
       "Departamento de Obstetricia y Ginecología                        91\n",
       "Departamento de Patología                                        87\n",
       "Departamento de Sicología                                        77\n",
       "Departamento de Ingeniería Industrial                            69\n",
       "Departamento de Antropología                                     69\n",
       "Departamento de Farmacología y Toxicología                       58\n",
       "Departamento de Sociología                                       44\n",
       "Departamento de Medicina Preventiva y Salud Pública              44\n",
       "Departamento de Radiología y Radioterapia                        43\n",
       "Departamento de Educación Médica                                 37\n",
       "Departamento de Bioquímica                                       29\n",
       "Departamento de Historia                                         24\n",
       "Programa Ingeniería Civil                                        22\n",
       "Departamento de Morfología                                       18\n",
       "Departamento de Medicina Física y Rehabilitación                 14\n",
       "Departamento de Trabajo Social                                    9\n",
       "Departamento de Música                                            7\n",
       "Departamento de Artes Visuales                                    6\n",
       "Departamento de Teatro                                            2\n",
       "Departamento de Psicoanálisis                                     1\n",
       "Name: DEPARTAMENTO, dtype: int64"
      ]
     },
     "execution_count": 1620,
     "metadata": {},
     "output_type": "execute_result"
    }
   ],
   "source": [
    "extract_key(UDEA_YES,'DEPARTAMENTO')"
   ]
  },
  {
   "cell_type": "code",
   "execution_count": 1621,
   "metadata": {},
   "outputs": [
    {
     "data": {
      "text/plain": [
       "GRUPO\n",
       "Sin Grupo Asociado                                                                                                                                                                                442\n",
       "Grupo de Materia Condensada-UdeA                                                                                                                                                                  261\n",
       "Inmunovirología                                                                                                                                                                                   244\n",
       "Centro de Investigación, Innovación y Desarrollo de Materiales - CIDEMAT - Anteriormente: Grupo de Corrosión y Protección                                                                         240\n",
       "Programa de Estudio y Control de Enfermedades Tropicales                                                                                                                                          238\n",
       "Grupo de Manejo Eficiente de la Energía, GIMEL                                                                                                                                                    226\n",
       "Grupo de Neurociencias de Antioquia                                                                                                                                                               221\n",
       "Grupo de Investigación en Ciencias Agrarias -GRICA-                                                                                                                                               201\n",
       "Inmunodeficiencias Primarias                                                                                                                                                                      187\n",
       "Grupo de Investigación en Psiquiatría GIPSI                                                                                                                                                       160\n",
       "Sistemas Embebidos e Inteligencia Computacional - SISTEMIC                                                                                                                                        158\n",
       "Genética Molecular (GENMOL)                                                                                                                                                                       144\n",
       "Química de Recursos Energéticos y Medio Ambiente                                                                                                                                                  143\n",
       "Grupo de Gastrohepatología                                                                                                                                                                        139\n",
       "Grupo de Investigación en Telecomunicaciones Aplicadas - GITA                                                                                                                                     134\n",
       "Grupo de Inmunología Celular e Inmunogenética                                                                                                                                                     131\n",
       "Grupo Reproducción, Grupo de Investigación en Trombosis                                                                                                                                           131\n",
       "GAMMA: Genética, Mejoramiento y Modelación Animal                                                                                                                                                 128\n",
       "Grupo Académico de Epidemiología Clínica                                                                                                                                                          126\n",
       "Grupo de Investigación Clínica en Enfermedades del Niño y del Adolescente - Pediaciencias                                                                                                         125\n",
       "Grupo de Investigación en Patobiología -  QUIRÓN                                                                                                                                                  122\n",
       "Salud y Comunidad                                                                                                                                                                                 121\n",
       "Biogénesis                                                                                                                                                                                        121\n",
       "Diagnóstico y Control de la Contaminación                                                                                                                                                         119\n",
       "Grupo de Ingeniería y Gestión Ambiental GIGA                                                                                                                                                      115\n",
       "Ciencia de los Materiales                                                                                                                                                                         111\n",
       "Procesos Químicos Industriales, Bioprocesos                                                                                                                                                       104\n",
       "Grupo Malaria                                                                                                                                                                                      98\n",
       "Grupo de Optica y Fotónica                                                                                                                                                                         97\n",
       "Trauma y Cirugía                                                                                                                                                                                   87\n",
       "                                                                                                                                                                                                 ... \n",
       "Grupo Académico de Epidemiología Clínica, Grupo de Investigación Clínica en Enfermedades del Niño y del Adolescente - Pediaciencias                                                                 3\n",
       "Grupo de Estudio sobre Búfalos                                                                                                                                                                      3\n",
       "Grupo de Biofísica-UdeA, Grupo de Optica y Fotónica, Grupo de Optica y Fotónica                                                                                                                     3\n",
       "Grupo Reproducción                                                                                                                                                                                  3\n",
       "Centro de de Investigaciones Dermatologicas                                                                                                                                                         2\n",
       "Cultura, Política y Desarrollo Social                                                                                                                                                               2\n",
       "Fisica Industrial y de la Radiacion                                                                                                                                                                 2\n",
       "Grupo de Investigación Psicología, Sociedad y Subjetividades., Cultura, Violencia y Territorio                                                                                                      2\n",
       "Grupo de Investigación en Intervención Social, Grupo de Investigación Medio Ambiente y Sociedad                                                                                                     2\n",
       "Grupo de Investigación en Medicina Interna GIMI IPS UdeA                                                                                                                                            2\n",
       "Grupo de Investigación en Sistemas Agroambientales Sostenibles, Grupo de Investigación en Ciencias Agrarias -GRICA-                                                                                 2\n",
       "GISMAC. Grupo de Investigación en Sistemas Marinos y Costeros, ELICE-Ecología Lótica: Islas, Costas y Estuarios                                                                                     2\n",
       "Teoría e Historia del Arte en Colombia                                                                                                                                                              2\n",
       "Simulación de Comportamientos de Sistemas (SICOSIS), GEPAR                                                                                                                                          2\n",
       "Métodos Estocásticos                                                                                                                                                                                2\n",
       "Hipertrópico: Convergencia entre Arte y Tecnología                                                                                                                                                  2\n",
       "Grupo de Energia Alternativa,                                                                                                                                                                       1\n",
       "Grupo de Artes Performativas                                                                                                                                                                        1\n",
       "Simulación de Comportamientos de Sistemas (SICOSIS), Ludens                                                                                                                                         1\n",
       "Ingeniería y Software , Grupo de Investigación en Telecomunicaciones Aplicadas - GITA, Ingeniería y Tecnologías de las Organizaciones y de la Sociedad (ITOS), Biotecnología Básica y Aplicada      1\n",
       "Psicoanálisis, Sujeto y Sociedad                                                                                                                                                                    1\n",
       "NEDITRA - Grupo de investigación en nefrología, diálisis y trasplante                                                                                                                               1\n",
       "GISMAC. Grupo de Investigación en Sistemas Marinos y Costeros                                                                                                                                       1\n",
       "Metodología de la Enseñanza de la Química                                                                                                                                                           1\n",
       "MORFOTECH                                                                                                                                                                                           1\n",
       "Historia Moderna y Contemporánea                                                                                                                                                                    1\n",
       "MODELACION CON ECUACIONES DIFERENCIALES                                                                                                                                                             1\n",
       "Historia de la Práctica Pedagógica en Colombia                                                                                                                                                      1\n",
       "Cultura, Violencia y Territorio                                                                                                                                                                     1\n",
       "Ártes escénicas y del espectáculo                                                                                                                                                                   1\n",
       "Name: GRUPO, Length: 259, dtype: int64"
      ]
     },
     "execution_count": 1621,
     "metadata": {},
     "output_type": "execute_result"
    }
   ],
   "source": [
    "extract_key(UDEA_YES,'GRUPO')"
   ]
  },
  {
   "cell_type": "code",
   "execution_count": 1622,
   "metadata": {},
   "outputs": [
    {
     "data": {
      "text/plain": [
       "full_name\n",
       "DUQUE ECHEVERRI CARLOS ALBERTO       261\n",
       "VELEZ BERNAL IVAN DARIO              127\n",
       "CERON MUÑOZ MARIO FERNANDO           126\n",
       "BEDOYA BERRIO GABRIEL DE JESUS       125\n",
       "LOPERA RESTREPO FRANCISCO JAVIER     122\n",
       "RUGELES LOPEZ MARIA TERESA           119\n",
       "JAIMES BARRAGAN FABIAN ALBERTO       116\n",
       "CARMONA FONSECA JAIME DE JESUS       114\n",
       "PEÑUELA MESA GUSTAVO ANTONIO         114\n",
       "OLIVERA ANGEL MARTHA EUFEMIA         101\n",
       "RESTREPO BETANCUR LUIS FERNANDO       97\n",
       "AMARILES MUÑOZ PEDRO JOSE             96\n",
       "ROBLEDO RESTREPO SARA MARIA           95\n",
       "CARDONA MAYA WALTER DARIO             94\n",
       "RIOS LUIS ALBERTO                     94\n",
       "CARDONA ARIAS JAIBERTH ANTONIO        93\n",
       "ARDILA MEDINA CARLOS MARTIN           86\n",
       "BLAIR TRUJILLO SILVIA VICTORIA        85\n",
       "MORALES ARAMBURO ALVARO LUIS          85\n",
       "CADAVID JARAMILLO ANGELA PATRICIA     83\n",
       "MONDRAGON PEREZ FANOR                 83\n",
       "AGUDELO SUAREZ ANDRES ALONSO          77\n",
       "CORNEJO OCHOA JOSE WILLIAM            77\n",
       "TRIANA CHAVEZ OMAR                    76\n",
       "LOPEZ OSORIO BETTY LUCY               75\n",
       "RESTREPO VASQUEZ GLORIA MARIA         73\n",
       "CALDERON GUTIERREZ JORGE ANDRES       73\n",
       "LOPEZ JARAMILLO CARLOS ALBERTO        69\n",
       "AGUIRRE ACEVEDO DANIEL CAMILO         69\n",
       "FRANCO RESTREPO JOSE LUIS             67\n",
       "                                    ... \n",
       "HURTADO BETANCUR MARIA HORTENSIA       1\n",
       "HOYOS ZULUAGA JULIO EDUARDO            1\n",
       "CARDOZO GARCIA YADIRA                  1\n",
       "CARMONA AGUDELO JUAN CARLOS            1\n",
       "HOYOS LOPEZ RICHARD ONALBI             1\n",
       "ISAZA PELAEZ JULIANA                   1\n",
       "PAULO TRUJILLO JOSE DAVID              1\n",
       "SANCHEZ URIBE LUIS ALEJANDRO           1\n",
       "SANCHEZ GIRALDO JUAN CARLOS            1\n",
       "CADAVID MARULANDA GABRIEL ALVARO       1\n",
       "PARADA SANCHEZ MONICA TATIANA          1\n",
       "SANCHEZ SEGURA JAVIER EDUARDO          1\n",
       "PARRA GRONDONA AGUSTIN ALONSO          1\n",
       "GONZALEZ POSADA CARLOS MAURICIO        1\n",
       "SANCHEZ NODARSE RAUL ALBERTO           1\n",
       "CAICEDO REALPE MARIA DEL ROSARIO       1\n",
       "PATIÑO BEDOYA JAIR ALBERTO             1\n",
       "SANCHEZ HIGUITA EDEL LAURA             1\n",
       "SANCHEZ GIL JUAN CAMILO                1\n",
       "CANO TORO HUMBERTO JOSE                1\n",
       "CALLE FERNANDEZ ANA MARIA              1\n",
       "FRANCO AGUDELO GLORIA MARIA            1\n",
       "SALINAS RINCON JOSE DANIEL             1\n",
       "CALLE PIEDRAHITA LUIS MAURICIO         1\n",
       "FORERO LONGAS FREDDY                   1\n",
       "PATRON GOMEZ ALFREDO SALVADOR          1\n",
       "CANO BLANDON LUISA FERNANDA            1\n",
       "CANO RESTREPO FIDEL ANTONIO            1\n",
       "SALAZAR VILLEGAS JUAN FERNANDO         1\n",
       "LOPEZ JARAMILLO JORGE IVAN             1\n",
       "Name: full_name, Length: 1727, dtype: int64"
      ]
     },
     "execution_count": 1622,
     "metadata": {},
     "output_type": "execute_result"
    }
   ],
   "source": [
    "extract_key(UDEA_YES,'full_name')"
   ]
  },
  {
   "cell_type": "markdown",
   "metadata": {},
   "source": [
    "# Búsquedas"
   ]
  },
  {
   "cell_type": "code",
   "execution_count": 1623,
   "metadata": {},
   "outputs": [],
   "source": [
    "def extract_key_unique(*args,**kwargs):\n",
    "    keys=extract_key(*args,**kwargs).keys()\n",
    "    return [ k for k in keys if k]\n",
    "\n",
    "def get_groups(l,g):\n",
    "    for d in l:\n",
    "        gt=d.get('GRUPO')\n",
    "        if gt and type( gt )==str:\n",
    "            gs=gt.replace(\n",
    "                ', Grupo','; Grupo'\n",
    "            ).split('; ')\n",
    "            for gg in gs:\n",
    "                if gg not in g:\n",
    "                    g.append(gg)\n",
    "    return g\n",
    "\n",
    "facultades={'key':'FACULTAD',\n",
    "            'values' : extract_key_unique(UDEA,'FACULTAD',json_column='UDEA_authors') }\n",
    "departamentos={'key':'DEPARTAMENTO',\n",
    "            'values' :extract_key_unique(UDEA,'DEPARTAMENTO',json_column='UDEA_authors')}\n",
    "nombre_completo={'key'    : 'NOMBRE COMPLETO',\n",
    "            'values' : extract_key_unique(UDEA,'NOMBRE COMPLETO',json_column='UDEA_authors')}\n",
    "full_name={'key'    : 'full_name',\n",
    "            'values' : extract_key_unique(UDEA,'full_name',json_column='UDEA_authors')}\n",
    "udea_affiliations={'key'    : 'WOS_affiliation',\n",
    "            'values' : extract_key_unique(UDEA,'WOS_affiliation',json_column='UDEA_authors')}\n",
    "wos_affiliations={'key'    : 'affiliation',\n",
    "            'values' : extract_key_unique(UDEA,'WOS_affiliation',json_column='authors_WOS')}\n",
    "udea_author={'key'    : 'WOS_author',\n",
    "            'values' : extract_key_unique(UDEA,'WOS_author',json_column='UDEA_authors')}\n",
    "wos_author={'key'    : 'WOS_author',\n",
    "            'values' : extract_key_unique(UDEA,'WOS_author',json_column='authors_WOS')}\n",
    "\n",
    "\n",
    "#.apply(....) is a loop!\n",
    "g=[]\n",
    "#append to g\n",
    "tmp=UDEA.UDEA_authors.apply(lambda l: \n",
    "                        get_groups(l,g)\n",
    "        if type(l)==list else None\n",
    "                        )\n",
    "grupos={'key':'GRUPO',\n",
    "            'values' :g}\n"
   ]
  },
  {
   "cell_type": "markdown",
   "metadata": {},
   "source": [
    "## Función de búsqueda"
   ]
  },
  {
   "cell_type": "markdown",
   "metadata": {},
   "source": [
    "For value string or list of each dictionary within a list of dictionaries, like the column 'UDEA_authors' in `UDEA` DataFrame"
   ]
  },
  {
   "cell_type": "code",
   "execution_count": 1624,
   "metadata": {},
   "outputs": [],
   "source": [
    "def query_json_column(q,df=UDEA,json_column='UDEA_authors',\n",
    "                        choices=nombre_completo,scorer=fuzz.partial_token_sort_ratio,score_cutoff=0):\n",
    "    #Found best exact match from index\n",
    "    fchoices=fwp.extractOne(q,choices['values'],scorer=scorer,score_cutoff=score_cutoff)\n",
    "    # Exact search in indexed subcolumn converted to strins (e.g list → string if necessary)\n",
    "    if fchoices:\n",
    "        fchoices=fchoices[0]\n",
    "        dfF=df[df[json_column].apply(lambda l: True in [ str(d.get(choices['key'])).find(fchoices)>-1 \n",
    "                                        for d in l if d.get(choices['key'])] if type(l)==list else False)]\n",
    "        return dfF.reset_index(drop=True)\n",
    "    else:\n",
    "        return pd.DataFrame()"
   ]
  },
  {
   "cell_type": "markdown",
   "metadata": {},
   "source": [
    "### Autor"
   ]
  },
  {
   "cell_type": "code",
   "execution_count": 1625,
   "metadata": {},
   "outputs": [],
   "source": [
    "r=query_json_column('Diego Alejandro Restrepo Quintero',df=UDEA,json_column='UDEA_authors',\n",
    "                        choices=nombre_completo,scorer=fuzz.partial_token_sort_ratio,score_cutoff=79)"
   ]
  },
  {
   "cell_type": "code",
   "execution_count": 1626,
   "metadata": {},
   "outputs": [
    {
     "data": {
      "text/plain": [
       "(38, 182)"
      ]
     },
     "execution_count": 1626,
     "metadata": {},
     "output_type": "execute_result"
    }
   ],
   "source": [
    "r.shape"
   ]
  },
  {
   "cell_type": "code",
   "execution_count": 1627,
   "metadata": {},
   "outputs": [],
   "source": [
    "#r[['TI','AU','authors_WOS',json_column]].reset_index(drop=True)[5:7]"
   ]
  },
  {
   "cell_type": "markdown",
   "metadata": {},
   "source": [
    "## Grupos"
   ]
  },
  {
   "cell_type": "markdown",
   "metadata": {},
   "source": [
    "Ejemplo"
   ]
  },
  {
   "cell_type": "code",
   "execution_count": 1628,
   "metadata": {},
   "outputs": [],
   "source": [
    "r=query_json_column('Grupo de Fenomenología de Interacciones Fundamentales',df=UDEA,json_column='UDEA_authors',\n",
    "                        choices=grupos,scorer=fuzz.partial_token_sort_ratio,score_cutoff=79)"
   ]
  },
  {
   "cell_type": "code",
   "execution_count": 1629,
   "metadata": {},
   "outputs": [
    {
     "data": {
      "text/plain": [
       "(83, 182)"
      ]
     },
     "execution_count": 1629,
     "metadata": {},
     "output_type": "execute_result"
    }
   ],
   "source": [
    "r.shape"
   ]
  },
  {
   "cell_type": "markdown",
   "metadata": {},
   "source": [
    "Buscar todos"
   ]
  },
  {
   "cell_type": "code",
   "execution_count": 1630,
   "metadata": {},
   "outputs": [],
   "source": [
    "gdf=pd.DataFrame()\n",
    "for g in grupos['values']:\n",
    "    r=query_json_column(g,df=UDEA,json_column='UDEA_authors',choices=grupos,\n",
    "                        scorer=fuzz.partial_token_sort_ratio,score_cutoff=79)\n",
    "                        \n",
    "    gdf=gdf.append( {'Group':g,'articles':r.shape[0]},ignore_index=True )\n",
    "gdf['articles']=gdf['articles'].astype(int)"
   ]
  },
  {
   "cell_type": "code",
   "execution_count": 1631,
   "metadata": {
    "scrolled": true
   },
   "outputs": [
    {
     "data": {
      "text/html": [
       "<div>\n",
       "<style scoped>\n",
       "    .dataframe tbody tr th:only-of-type {\n",
       "        vertical-align: middle;\n",
       "    }\n",
       "\n",
       "    .dataframe tbody tr th {\n",
       "        vertical-align: top;\n",
       "    }\n",
       "\n",
       "    .dataframe thead th {\n",
       "        text-align: right;\n",
       "    }\n",
       "</style>\n",
       "<table border=\"1\" class=\"dataframe\">\n",
       "  <thead>\n",
       "    <tr style=\"text-align: right;\">\n",
       "      <th></th>\n",
       "      <th>Group</th>\n",
       "      <th>articles</th>\n",
       "    </tr>\n",
       "  </thead>\n",
       "  <tbody>\n",
       "    <tr>\n",
       "      <th>0</th>\n",
       "      <td>Sin Grupo Asociado</td>\n",
       "      <td>442</td>\n",
       "    </tr>\n",
       "    <tr>\n",
       "      <th>1</th>\n",
       "      <td>Grupo de Materia Condensada-UdeA</td>\n",
       "      <td>301</td>\n",
       "    </tr>\n",
       "    <tr>\n",
       "      <th>2</th>\n",
       "      <td>Grupo Reproducción, Inmunovirología, Infección y Cáncer</td>\n",
       "      <td>297</td>\n",
       "    </tr>\n",
       "    <tr>\n",
       "      <th>3</th>\n",
       "      <td>Inmunovirología</td>\n",
       "      <td>297</td>\n",
       "    </tr>\n",
       "    <tr>\n",
       "      <th>4</th>\n",
       "      <td>Grupo de Estado Sólido</td>\n",
       "      <td>282</td>\n",
       "    </tr>\n",
       "    <tr>\n",
       "      <th>5</th>\n",
       "      <td>Centro de Investigación, Innovación y Desarrollo de Materiales - CIDEMAT - Anteriormente: Grupo de Corrosión y Protección</td>\n",
       "      <td>260</td>\n",
       "    </tr>\n",
       "    <tr>\n",
       "      <th>6</th>\n",
       "      <td>Centro de Investigación, Innovación y Desarrollo de Materiales - CIDEMAT - Anteriormente: Grupo de Corrosión y Protección,</td>\n",
       "      <td>260</td>\n",
       "    </tr>\n",
       "    <tr>\n",
       "      <th>7</th>\n",
       "      <td>Grupo Académico de Epidemiología Clínica, Nacer, Salud Sexual y Reproductiva</td>\n",
       "      <td>256</td>\n",
       "    </tr>\n",
       "    <tr>\n",
       "      <th>8</th>\n",
       "      <td>Grupo Académico de Epidemiología Clínica</td>\n",
       "      <td>256</td>\n",
       "    </tr>\n",
       "    <tr>\n",
       "      <th>9</th>\n",
       "      <td>Grupo de Neurociencias de Antioquia</td>\n",
       "      <td>249</td>\n",
       "    </tr>\n",
       "  </tbody>\n",
       "</table>\n",
       "</div>"
      ],
      "text/plain": [
       "                                                                                                                         Group  \\\n",
       "0                                                                                                           Sin Grupo Asociado   \n",
       "1                                                                                             Grupo de Materia Condensada-UdeA   \n",
       "2                                                                      Grupo Reproducción, Inmunovirología, Infección y Cáncer   \n",
       "3                                                                                                              Inmunovirología   \n",
       "4                                                                                                       Grupo de Estado Sólido   \n",
       "5    Centro de Investigación, Innovación y Desarrollo de Materiales - CIDEMAT - Anteriormente: Grupo de Corrosión y Protección   \n",
       "6  Centro de Investigación, Innovación y Desarrollo de Materiales - CIDEMAT - Anteriormente: Grupo de Corrosión y Protección,    \n",
       "7                                                 Grupo Académico de Epidemiología Clínica, Nacer, Salud Sexual y Reproductiva   \n",
       "8                                                                                     Grupo Académico de Epidemiología Clínica   \n",
       "9                                                                                          Grupo de Neurociencias de Antioquia   \n",
       "\n",
       "   articles  \n",
       "0       442  \n",
       "1       301  \n",
       "2       297  \n",
       "3       297  \n",
       "4       282  \n",
       "5       260  \n",
       "6       260  \n",
       "7       256  \n",
       "8       256  \n",
       "9       249  "
      ]
     },
     "execution_count": 1631,
     "metadata": {},
     "output_type": "execute_result"
    }
   ],
   "source": [
    "gdf.sort_values('articles',ascending=False).reset_index(drop=True)[:10]"
   ]
  },
  {
   "cell_type": "markdown",
   "metadata": {},
   "source": [
    "## Departamento"
   ]
  },
  {
   "cell_type": "code",
   "execution_count": 1632,
   "metadata": {},
   "outputs": [],
   "source": [
    "r=query_json_column('Instituto de Física',df=UDEA,json_column='UDEA_authors',\n",
    "                        choices=departamentos,scorer=fuzz.partial_token_sort_ratio,score_cutoff=79)"
   ]
  },
  {
   "cell_type": "code",
   "execution_count": 1633,
   "metadata": {},
   "outputs": [
    {
     "data": {
      "text/plain": [
       "(879, 182)"
      ]
     },
     "execution_count": 1633,
     "metadata": {},
     "output_type": "execute_result"
    }
   ],
   "source": [
    "r.shape"
   ]
  },
  {
   "cell_type": "markdown",
   "metadata": {},
   "source": [
    "## Centro"
   ]
  },
  {
   "cell_type": "markdown",
   "metadata": {},
   "source": [
    "Ejemplo"
   ]
  },
  {
   "cell_type": "code",
   "execution_count": 1634,
   "metadata": {},
   "outputs": [],
   "source": [
    "cen=query_json_column('Facultad de Ciencias Exactas y Naturales',df=UDEA,json_column='UDEA_authors',\n",
    "                        choices=facultades,scorer=fuzz.partial_token_sort_ratio,score_cutoff=79)"
   ]
  },
  {
   "cell_type": "code",
   "execution_count": 1635,
   "metadata": {},
   "outputs": [
    {
     "data": {
      "text/plain": [
       "(2322, 182)"
      ]
     },
     "execution_count": 1635,
     "metadata": {},
     "output_type": "execute_result"
    }
   ],
   "source": [
    "cen.shape"
   ]
  },
  {
   "cell_type": "markdown",
   "metadata": {},
   "source": [
    "Todos"
   ]
  },
  {
   "cell_type": "code",
   "execution_count": 1636,
   "metadata": {},
   "outputs": [],
   "source": [
    "fdf=pd.DataFrame()\n",
    "for f in facultades['values']:\n",
    "    r=query_json_column(f,df=UDEA,json_column='UDEA_authors',choices=facultades,\n",
    "                        scorer=fuzz.partial_token_sort_ratio,score_cutoff=79)\n",
    "    fdf=fdf.append( {'Facultad':f,'articles':r.shape[0]},ignore_index=True )\n",
    "fdf['articles']=fdf['articles'].astype(int)"
   ]
  },
  {
   "cell_type": "code",
   "execution_count": 1637,
   "metadata": {},
   "outputs": [
    {
     "data": {
      "text/html": [
       "<div>\n",
       "<style scoped>\n",
       "    .dataframe tbody tr th:only-of-type {\n",
       "        vertical-align: middle;\n",
       "    }\n",
       "\n",
       "    .dataframe tbody tr th {\n",
       "        vertical-align: top;\n",
       "    }\n",
       "\n",
       "    .dataframe thead th {\n",
       "        text-align: right;\n",
       "    }\n",
       "</style>\n",
       "<table border=\"1\" class=\"dataframe\">\n",
       "  <thead>\n",
       "    <tr style=\"text-align: right;\">\n",
       "      <th></th>\n",
       "      <th>Facultad</th>\n",
       "      <th>articles</th>\n",
       "    </tr>\n",
       "  </thead>\n",
       "  <tbody>\n",
       "    <tr>\n",
       "      <th>0</th>\n",
       "      <td>Facultad de Medicina</td>\n",
       "      <td>3289</td>\n",
       "    </tr>\n",
       "    <tr>\n",
       "      <th>1</th>\n",
       "      <td>Facultad de Ciencias Exactas y Naturales</td>\n",
       "      <td>2322</td>\n",
       "    </tr>\n",
       "    <tr>\n",
       "      <th>2</th>\n",
       "      <td>Facultad de Ingeniería</td>\n",
       "      <td>1891</td>\n",
       "    </tr>\n",
       "    <tr>\n",
       "      <th>3</th>\n",
       "      <td>Facultad de Ciencias Agrarias</td>\n",
       "      <td>675</td>\n",
       "    </tr>\n",
       "    <tr>\n",
       "      <th>4</th>\n",
       "      <td>Facultad de Ciencias Sociales y Humanas</td>\n",
       "      <td>222</td>\n",
       "    </tr>\n",
       "    <tr>\n",
       "      <th>5</th>\n",
       "      <td>Facultad de Artes</td>\n",
       "      <td>15</td>\n",
       "    </tr>\n",
       "  </tbody>\n",
       "</table>\n",
       "</div>"
      ],
      "text/plain": [
       "                                   Facultad  articles\n",
       "0                      Facultad de Medicina      3289\n",
       "1  Facultad de Ciencias Exactas y Naturales      2322\n",
       "2                    Facultad de Ingeniería      1891\n",
       "3             Facultad de Ciencias Agrarias       675\n",
       "4   Facultad de Ciencias Sociales y Humanas       222\n",
       "5                         Facultad de Artes        15"
      ]
     },
     "execution_count": 1637,
     "metadata": {},
     "output_type": "execute_result"
    }
   ],
   "source": [
    "fdf.sort_values('articles',ascending=False)"
   ]
  },
  {
   "cell_type": "markdown",
   "metadata": {},
   "source": [
    "## Citas"
   ]
  },
  {
   "cell_type": "code",
   "execution_count": 1638,
   "metadata": {},
   "outputs": [
    {
     "data": {
      "text/html": [
       "<div>\n",
       "<style scoped>\n",
       "    .dataframe tbody tr th:only-of-type {\n",
       "        vertical-align: middle;\n",
       "    }\n",
       "\n",
       "    .dataframe tbody tr th {\n",
       "        vertical-align: top;\n",
       "    }\n",
       "\n",
       "    .dataframe thead th {\n",
       "        text-align: right;\n",
       "    }\n",
       "</style>\n",
       "<table border=\"1\" class=\"dataframe\">\n",
       "  <thead>\n",
       "    <tr style=\"text-align: right;\">\n",
       "      <th></th>\n",
       "      <th>Z9</th>\n",
       "      <th>TI</th>\n",
       "      <th>SO</th>\n",
       "      <th>AU</th>\n",
       "      <th>PY</th>\n",
       "    </tr>\n",
       "  </thead>\n",
       "  <tbody>\n",
       "    <tr>\n",
       "      <th>0</th>\n",
       "      <td>3610</td>\n",
       "      <td>An integrated map of genetic variation from 1,092 human genomes</td>\n",
       "      <td>NATURE</td>\n",
       "      <td>Altshuler, DM\\nDurbin, RM\\nAbecasis, GR\\nBentley, DR\\nChakravarti, A\\nClark, AG\\nDonnelly, P\\nEichler, EE\\nFlicek, P\\nGabriel, SB\\nGibbs, RA\\nGreen, ED\\nHurles, ME\\nKnoppers, BM\\nKorbel, JO\\nLander, ES\\nLee, C\\nLehrach, H\\nMardis, ER\\nMarth, GT\\nMcVean, GA\\nNickerson, DA\\nSchmidt, JP\\nSherry, ST\\nWang, J\\nWilson, RK\\nGibbs, RA\\nDinh, H\\nKovar, C\\nLee, S\\nLewis, L\\nMuzny, D\\nReid, J\\nWang, M\\nWang, J\\nFang, XD\\nGuo, XS\\nJian, M\\nJiang, H\\nJin, X\\nLi, GQ\\nLi, JX\\nLi, YR\\nLi, Z\\nLiu, X\\nLu, Y\\nMa, XD\\nSu, Z\\nTai, SS\\nTang, MF\\nWang, B\\nWang, GB\\nWu, HL\\nWu, RH\\nYin, Y\\nZhang, WW\\nZhao, J\\nZhao, MR\\nZheng, XL\\nZhou, Y\\nLander, ES\\nAltshuler, DM\\nGabriel, SB\\nGupta, N\\nFlicek, P\\nClarke, L\\nLeinonen, R\\nSmith, RE\\nZheng-Bradley, X\\nBentley, DR\\nGrocock, R\\nHumphray, S\\nJames, T\\nKingsbury, Z\\nLehrach, H\\nSudbrak, R\\nAlbrecht, MW\\nAmstislavskiy, VS\\nBorodina, TA\\nLienhard, M\\nMertes, F\\nSultan, M\\nTimmermann, B\\nYaspo, ML\\nSherry, ST\\nMcVean, GA\\nMardis, ER\\nWilson, RK\\nFulton, L\\nFulton, R\\nWeinstock, GM\\nDurbin, RM\\nBalasubramaniam, S\\nBurton, J\\nDanecek, P\\nKeane, TM\\nKolb-Kokocinski, A\\nMcCarthy, S\\nStalker, J\\nQuail, M\\nSchmidt, JP\\nDavies, CJ\\nGollub, J\\nWebster, T\\nWong, B\\nZhan, YP\\nAuton, A\\nGibbs, RA\\nYu, F\\nBainbridge, M\\nChallis, D\\nEvani, US\\nLu, J\\nMuzny, D\\nNagaswamy, U\\nReid, J\\nSabo, A\\nWang, Y\\nYu, J\\nWang, J\\nCoin, LJM\\nFang, L\\nGuo, XS\\nJin, X\\nLi, GQ\\nLi, QB\\nLi, YR\\nLi, ZY\\nLin, HX\\nLiu, BH\\nLuo, RB\\nQin, N\\nShao, HJ\\nWang, BQ\\nXie, YL\\nYe, C\\nYu, C\\nZhang, F\\nZheng, HC\\nZhu, HM\\nMarth, GT\\nGarrison, EP\\nKural, D\\nLee, WP\\nLeong, WF\\nWard, AN\\nWu, JT\\nZhang, MY\\nLee, C\\nGriffin, L\\nHsieh, CH\\nMills, RE\\nShi, XH\\nvon Grotthuss, M\\nZhang, CS\\nDaly, MJ\\nDePristo, MA\\nAltshuler, DM\\nBanks, E\\nBhatia, G\\nCarneiro, MO\\ndel Angel, G\\nGabriel, SB\\nGenovese, G\\nGupta, N\\nHandsaker, RE\\nHartl, C\\nLander, ES\\nMcCarroll, SA\\nNemesh, JC\\nPoplin, RE\\nSchaffner, SF\\nShakir, K\\nYoon, SC\\nLihm, J\\nMakarov, V\\nJin, HJ\\nKim, W\\nKim, KC\\nKorbel, JO\\nRausch, T\\nFlice...</td>\n",
       "      <td>2012</td>\n",
       "    </tr>\n",
       "    <tr>\n",
       "      <th>1</th>\n",
       "      <td>1526</td>\n",
       "      <td>Leishmaniasis Worldwide and Global Estimates of Its Incidence</td>\n",
       "      <td>PLOS ONE</td>\n",
       "      <td>Alvar, J\\nVelez, ID\\nBern, C\\nHerrero, M\\nDesjeux, P\\nCano, J\\nJannin, J\\nden Boer, M\\n</td>\n",
       "      <td>2012</td>\n",
       "    </tr>\n",
       "    <tr>\n",
       "      <th>2</th>\n",
       "      <td>1271</td>\n",
       "      <td>A global reference for human genetic variation</td>\n",
       "      <td>NATURE</td>\n",
       "      <td>Altshuler, DM\\nDurbin, RM\\nAbecasis, GR\\nBentley, DR\\nChakravarti, A\\nClark, AG\\nDonnelly, P\\nEichler, EE\\nFlicek, P\\nGabriel, SB\\nGibbs, RA\\nGreen, ED\\nHurles, ME\\nKnoppers, BM\\nKorbel, JO\\nLander, ES\\nLee, C\\nLehrach, H\\nMardis, ER\\nMarth, GT\\nMcVean, GA\\nNickerson, DA\\nSchmidt, JP\\nSherry, ST\\nWang, J\\nWilson, RK\\nGibbs, RA\\nBoerwinkle, E\\nDoddapaneni, H\\nHan, Y\\nKorchina, V\\nKovar, C\\nLee, S\\nMuzny, D\\nReid, JG\\nZhu, YM\\nWang, J\\nChang, YQ\\nFeng, Q\\nFang, XD\\nGuo, XS\\nJian, M\\nJiang, H\\nJin, X\\nLan, TM\\nLi, GQ\\nLi, JX\\nLi, YR\\nLiu, SM\\nLiu, X\\nLu, Y\\nMa, XD\\nTang, MF\\nWang, B\\nWang, GB\\nWu, HL\\nWu, RH\\nXu, X\\nYin, Y\\nZhang, DD\\nZhang, WW\\nZhao, J\\nZhao, MR\\nZheng, XL\\nLander, ES\\nAltshuler, DM\\nGabriel, SB\\nGupta, N\\nGharani, N\\nToji, LH\\nGerry, NP\\nResch, AM\\nFlicek, P\\nBarker, J\\nClarke, L\\nGil, L\\nHunt, SE\\nKelman, G\\nKulesha, E\\nLeinonen, R\\nMcLaren, WM\\nRadhakrishnan, R\\nRoa, A\\nSmirnov, D\\nSmith, RE\\nStreeter, I\\nThormann, A\\nToneva, I\\nVaughan, B\\nZheng-Bradley, X\\nBentley, DR\\nGrocock, R\\nHumphray, S\\nJames, T\\nKingsbury, Z\\nLehrach, H\\nSudbrak, R\\nAlbrecht, MW\\nAmstislavskiy, VS\\nBorodina, TA\\nLienhard, M\\nMertes, F\\nSultan, M\\nTimmermann, B\\nYaspo, ML\\nMardis, ER\\nWilson, RK\\nFulton, L\\nFulton, R\\nSherry, ST\\nAnaniev, V\\nBelaia, Z\\nBeloslyudtsev, D\\nBouk, N\\nChen, C\\nChurch, D\\nCohen, R\\nCook, C\\nGarner, J\\nHefferon, T\\nKimelman, M\\nLiu, CL\\nLopez, J\\nMeric, P\\nO'Sullivan, C\\nOstapchuk, Y\\nPhan, L\\nPonomarov, S\\nSchneider, V\\nShekhtman, E\\nSirotkin, K\\nSlotta, D\\nZhang, H\\nMcVean, GA\\nDurbin, RM\\nBalasubramaniam, S\\nBurton, J\\nDanecek, P\\nKeane, TM\\nKolb-Kokocinski, A\\nMcCarthy, S\\nStalker, J\\nQuail, M\\nSchmidt, JP\\nDavies, CJ\\nGollub, J\\nWebster, T\\nWong, B\\nZhan, YP\\nAuton, A\\nCampbell, CL\\nKong, Y\\nMarcketta, A\\nGibbs, RA\\nYu, FL\\nAntunes, L\\nBainbridge, M\\nMuzny, D\\nSabo, A\\nHuang, ZY\\nWang, J\\nCoin, LJM\\nFang, L\\nGuo, XS\\nJin, X\\nLi, GQ\\nLi, QB\\nLi, YR\\nLi, ZY\\nLin, HX\\nLiu, BH\\nLuo, RB\\nShao, HJ\\nXie, YL\\nYe, C\\nYu, C\\nZhang, F\\nZheng, HC\\nZh...</td>\n",
       "      <td>2015</td>\n",
       "    </tr>\n",
       "    <tr>\n",
       "      <th>3</th>\n",
       "      <td>901</td>\n",
       "      <td>Human papillomavirus genotype attribution in invasive cervical cancer: a retrospective cross-sectional worldwide study</td>\n",
       "      <td>LANCET ONCOLOGY</td>\n",
       "      <td>de Sanjose, S\\nQuint, WGV\\nAlemany, L\\nGeraets, DT\\nKlaustermeier, JE\\nLloveras, B\\nTous, S\\nFelix, A\\nBravo, LE\\nShin, HR\\nVallejos, CS\\nde Ruiz, PA\\nLima, MA\\nGuimera, N\\nClavero, O\\nAlejo, M\\nLlombart-Bosch, A\\nCheng-Yang, C\\nTatti, SA\\nKasamatsu, E\\nIljazovic, E\\nOdida, M\\nPrado, R\\nSeoud, M\\nGrce, M\\nUsubutun, A\\nJain, A\\nSuarez, GAH\\nLombardi, LE\\nBanjo, A\\nMenendez, C\\nDomingo, EJ\\nVelasco, J\\nNessa, A\\nChichareon, SCB\\nQiao, YL\\nLerma, E\\nGarland, SM\\nSasagawa, T\\nFerrera, A\\nHammouda, D\\nMariani, L\\nPelayo, A\\nSteiner, I\\nOliva, E\\nMeijer, CJLM\\nAl-Jassar, WF\\nCruz, E\\nWright, TC\\nPuras, A\\nLlave, CL\\nTzardi, M\\nAgorastos, T\\nGarcia-Barriola, V\\nClavel, C\\nOrdi, J\\nAndujar, M\\nCastellsague, X\\nSanchez, GI\\nNowakowski, AM\\nBornstein, J\\nMunoz, N\\nBosch, FX\\n</td>\n",
       "      <td>2010</td>\n",
       "    </tr>\n",
       "    <tr>\n",
       "      <th>4</th>\n",
       "      <td>711</td>\n",
       "      <td>The Genome Sequence of Taurine Cattle: A Window to Ruminant Biology and Evolution</td>\n",
       "      <td>SCIENCE</td>\n",
       "      <td>Elsik, CG\\nTellam, RL\\nWorley, KC\\nGibbs, RA\\nAbatepaulo, ARR\\nAbbey, CA\\nAdelson, DL\\nAerts, J\\nAhola, V\\nAlexander, L\\nAlioto, T\\nAlmeida, IG\\nAmadio, AF\\nAnatriello, E\\nAntonarakis, SE\\nAnzola, JM\\nAstashyn, A\\nBahadue, SM\\nBaldwin, CL\\nBarris, W\\nBaxter, R\\nBell, SN\\nBennett, AK\\nBennett, GL\\nBiase, FH\\nBoldt, CR\\nBradley, DG\\nBrinkman, FSL\\nBrinkmeyer-Langford, CL\\nBrown, WC\\nBrownstein, MJ\\nBuhay, C\\nCaetano, AR\\nCamara, F\\nCarroll, JA\\nCarvalho, WA\\nCasey, T\\nCervelatti, EP\\nChack, J\\nChacko, E\\nChandrabose, MM\\nChapin, JE\\nChapple, CE\\nChen, HC\\nChen, L\\nCheng, Y\\nCheng, Z\\nChilders, CP\\nChitko-McKown, CG\\nChiu, R\\nChoi, JW\\nChrast, J\\nColley, AJ\\nConnelley, T\\nCree, A\\nCurry, S\\nDalrymple, B\\nDiep Dao, M\\nDavis, C\\nde Oliveira, CJF\\nde Miranda Santos, IKF\\nde Campos, TA\\nDeobald, H\\nDevinoy, E\\nDickens, CM\\nDing, Y\\nDinh, HH\\nDe Donato, M\\nDonohue, KE\\nDonthu, R\\nDovc, P\\nDugan-Rocha, S\\nDurbin, KJ\\nEberlein, A\\nEdgar, RC\\nEgan, A\\nEggen, A\\nEichler, EE\\nElhaik, E\\nEllis, SA\\nElnitski, L\\nErmolaeva, O\\nEyras, E\\nFitzsimmons, CJ\\nFowler, GR\\nFranzin, AM\\nFritz, K\\nGabisi, RA\\nGarcia, GR\\nGarcia, JF\\nGenini, S\\nGerlach, D\\nGerman, JB\\nGilbert, JGR\\nGill, CA\\nGladney, CJ\\nGlass, EJ\\nGoodell, J\\nGrant, JR\\nGraur, D\\nGreaser, ML\\nGreen, JA\\nGreen, RD\\nGuan, L\\nGuigo, R\\nHadsell, DL\\nHagen, DE\\nHakimov, HA\\nHalgren, R\\nHamernik, DL\\nHamilton, C\\nHarhay, GP\\nHarrow, JL\\nHart, EA\\nHastings, N\\nHavlak, P\\nHenrichsen, CN\\nHernandez, J\\nHernandez, M\\nHerzig, CTA\\nHiendleder, SG\\nHines, S\\nHitchens, ME\\nHlavina, W\\nHobbs, M\\nHolder, M\\nHolt, RA\\nHu, ZL\\nHume, J\\nIivanainen, A\\nIngham, A\\nIso-Touru, T\\nJamis, C\\nJann, O\\nJensen, K\\nJhangiani, SN\\nJiang, HY\\nJohnson, AJ\\nJones, SJM\\nJoshi, V\\nJunier, T\\nKapetis, D\\nKappes, SM\\nKapustin, Y\\nKeele, JW\\nKent, MP\\nKerr, T\\nKhalil, SS\\nKhatib, H\\nKiryutin, B\\nKitts, P\\nKokocinski, F\\nKolbehdari, D\\nKovar, CL\\nKriventseva, EV\\nKumar, CG\\nKumar, D\\nLahmers, KK\\nLandrum, M\\nLarkin, DM\\nLau, LPL\\nLeach, R\\nLee, JCM\\nLee, S\\nL...</td>\n",
       "      <td>2009</td>\n",
       "    </tr>\n",
       "    <tr>\n",
       "      <th>5</th>\n",
       "      <td>601</td>\n",
       "      <td>GENETIC ABSOLUTE DATING BASED ON MICROSATELLITES AND THE ORIGIN OF MODERN HUMANS</td>\n",
       "      <td>PROCEEDINGS OF THE NATIONAL ACADEMY OF SCIENCES OF THE UNITED STATES OF\\nAMERICA</td>\n",
       "      <td>GOLDSTEIN, DB\\nLINARES, AR\\nCAVALLISFORZA, LL\\nFELDMAN, MW\\n</td>\n",
       "      <td>1995</td>\n",
       "    </tr>\n",
       "    <tr>\n",
       "      <th>6</th>\n",
       "      <td>474</td>\n",
       "      <td>Mutations in IRF6 cause Van der Woude and popliteal pterygium syndromes</td>\n",
       "      <td>NATURE GENETICS</td>\n",
       "      <td>Kondo, S\\nSchutte, BC\\nRichardson, RJ\\nBjork, BC\\nKnight, AS\\nWatanabe, Y\\nHoward, E\\nde Lima, RLLF\\nDaack-Hirsch, S\\nSander, A\\nMcDonald-McGinn, DM\\nZackai, EH\\nLammer, EJ\\nAylsworth, AS\\nArdinger, HH\\nLidral, AC\\nPober, BR\\nMoreno, L\\nArcos-Burgos, M\\nValencia, C\\nHoudayer, C\\nBahuau, M\\nMoretti-Ferreira, D\\nRichieri-Costa, A\\nDixon, MJ\\nMurray, JC\\n</td>\n",
       "      <td>2002</td>\n",
       "    </tr>\n",
       "    <tr>\n",
       "      <th>7</th>\n",
       "      <td>429</td>\n",
       "      <td>Leptogenesis</td>\n",
       "      <td>PHYSICS REPORTS-REVIEW SECTION OF PHYSICS LETTERS</td>\n",
       "      <td>Davidson, S\\nNardi, E\\nNir, Y\\n</td>\n",
       "      <td>2008</td>\n",
       "    </tr>\n",
       "    <tr>\n",
       "      <th>8</th>\n",
       "      <td>410</td>\n",
       "      <td>Temperature sensitivity of drought-induced tree mortality portends increased regional die-off under global-change-type drought</td>\n",
       "      <td>PROCEEDINGS OF THE NATIONAL ACADEMY OF SCIENCES OF THE UNITED STATES OF\\nAMERICA</td>\n",
       "      <td>Adams, HD\\nGuardiola-Claramonte, M\\nBarron-Gafford, GA\\nVillegas, JC\\nBreshears, DD\\nZou, CB\\nTroch, PA\\nHuxman, TE\\n</td>\n",
       "      <td>2009</td>\n",
       "    </tr>\n",
       "    <tr>\n",
       "      <th>9</th>\n",
       "      <td>376</td>\n",
       "      <td>Electron localization following attosecond molecular photoionization</td>\n",
       "      <td>NATURE</td>\n",
       "      <td>Sansone, G\\nKelkensberg, F\\nPerez-Torres, JF\\nMorales, F\\nKling, MF\\nSiu, W\\nGhafur, O\\nJohnsson, P\\nSwoboda, M\\nBenedetti, E\\nFerrari, F\\nLepine, F\\nSanz-Vicario, JL\\nZherebtsov, S\\nZnakovskaya, I\\nL'Huillier, A\\nIvanov, MY\\nNisoli, M\\nMartin, F\\nVrakking, MJJ\\n</td>\n",
       "      <td>2010</td>\n",
       "    </tr>\n",
       "  </tbody>\n",
       "</table>\n",
       "</div>"
      ],
      "text/plain": [
       "     Z9  \\\n",
       "0  3610   \n",
       "1  1526   \n",
       "2  1271   \n",
       "3   901   \n",
       "4   711   \n",
       "5   601   \n",
       "6   474   \n",
       "7   429   \n",
       "8   410   \n",
       "9   376   \n",
       "\n",
       "                                                                                                                               TI  \\\n",
       "0                                                                 An integrated map of genetic variation from 1,092 human genomes   \n",
       "1                                                                   Leishmaniasis Worldwide and Global Estimates of Its Incidence   \n",
       "2                                                                                  A global reference for human genetic variation   \n",
       "3          Human papillomavirus genotype attribution in invasive cervical cancer: a retrospective cross-sectional worldwide study   \n",
       "4                                               The Genome Sequence of Taurine Cattle: A Window to Ruminant Biology and Evolution   \n",
       "5                                                GENETIC ABSOLUTE DATING BASED ON MICROSATELLITES AND THE ORIGIN OF MODERN HUMANS   \n",
       "6                                                         Mutations in IRF6 cause Van der Woude and popliteal pterygium syndromes   \n",
       "7                                                                                                                    Leptogenesis   \n",
       "8  Temperature sensitivity of drought-induced tree mortality portends increased regional die-off under global-change-type drought   \n",
       "9                                                            Electron localization following attosecond molecular photoionization   \n",
       "\n",
       "                                                                                 SO  \\\n",
       "0                                                                            NATURE   \n",
       "1                                                                          PLOS ONE   \n",
       "2                                                                            NATURE   \n",
       "3                                                                   LANCET ONCOLOGY   \n",
       "4                                                                           SCIENCE   \n",
       "5  PROCEEDINGS OF THE NATIONAL ACADEMY OF SCIENCES OF THE UNITED STATES OF\\nAMERICA   \n",
       "6                                                                   NATURE GENETICS   \n",
       "7                                 PHYSICS REPORTS-REVIEW SECTION OF PHYSICS LETTERS   \n",
       "8  PROCEEDINGS OF THE NATIONAL ACADEMY OF SCIENCES OF THE UNITED STATES OF\\nAMERICA   \n",
       "9                                                                            NATURE   \n",
       "\n",
       "                                                                                                                                                                                                                                                                                                                                                                                                                                                                                                                                                                                                                                                                                                                                                                                                                                                                                                                                                                                                                                                                                                                                                                                                                                                                                                                                                                                                                                                                                                                                                                                                                                                                                                                                                                                                                                                                                                                                                                                                                                                                                AU  \\\n",
       "0  Altshuler, DM\\nDurbin, RM\\nAbecasis, GR\\nBentley, DR\\nChakravarti, A\\nClark, AG\\nDonnelly, P\\nEichler, EE\\nFlicek, P\\nGabriel, SB\\nGibbs, RA\\nGreen, ED\\nHurles, ME\\nKnoppers, BM\\nKorbel, JO\\nLander, ES\\nLee, C\\nLehrach, H\\nMardis, ER\\nMarth, GT\\nMcVean, GA\\nNickerson, DA\\nSchmidt, JP\\nSherry, ST\\nWang, J\\nWilson, RK\\nGibbs, RA\\nDinh, H\\nKovar, C\\nLee, S\\nLewis, L\\nMuzny, D\\nReid, J\\nWang, M\\nWang, J\\nFang, XD\\nGuo, XS\\nJian, M\\nJiang, H\\nJin, X\\nLi, GQ\\nLi, JX\\nLi, YR\\nLi, Z\\nLiu, X\\nLu, Y\\nMa, XD\\nSu, Z\\nTai, SS\\nTang, MF\\nWang, B\\nWang, GB\\nWu, HL\\nWu, RH\\nYin, Y\\nZhang, WW\\nZhao, J\\nZhao, MR\\nZheng, XL\\nZhou, Y\\nLander, ES\\nAltshuler, DM\\nGabriel, SB\\nGupta, N\\nFlicek, P\\nClarke, L\\nLeinonen, R\\nSmith, RE\\nZheng-Bradley, X\\nBentley, DR\\nGrocock, R\\nHumphray, S\\nJames, T\\nKingsbury, Z\\nLehrach, H\\nSudbrak, R\\nAlbrecht, MW\\nAmstislavskiy, VS\\nBorodina, TA\\nLienhard, M\\nMertes, F\\nSultan, M\\nTimmermann, B\\nYaspo, ML\\nSherry, ST\\nMcVean, GA\\nMardis, ER\\nWilson, RK\\nFulton, L\\nFulton, R\\nWeinstock, GM\\nDurbin, RM\\nBalasubramaniam, S\\nBurton, J\\nDanecek, P\\nKeane, TM\\nKolb-Kokocinski, A\\nMcCarthy, S\\nStalker, J\\nQuail, M\\nSchmidt, JP\\nDavies, CJ\\nGollub, J\\nWebster, T\\nWong, B\\nZhan, YP\\nAuton, A\\nGibbs, RA\\nYu, F\\nBainbridge, M\\nChallis, D\\nEvani, US\\nLu, J\\nMuzny, D\\nNagaswamy, U\\nReid, J\\nSabo, A\\nWang, Y\\nYu, J\\nWang, J\\nCoin, LJM\\nFang, L\\nGuo, XS\\nJin, X\\nLi, GQ\\nLi, QB\\nLi, YR\\nLi, ZY\\nLin, HX\\nLiu, BH\\nLuo, RB\\nQin, N\\nShao, HJ\\nWang, BQ\\nXie, YL\\nYe, C\\nYu, C\\nZhang, F\\nZheng, HC\\nZhu, HM\\nMarth, GT\\nGarrison, EP\\nKural, D\\nLee, WP\\nLeong, WF\\nWard, AN\\nWu, JT\\nZhang, MY\\nLee, C\\nGriffin, L\\nHsieh, CH\\nMills, RE\\nShi, XH\\nvon Grotthuss, M\\nZhang, CS\\nDaly, MJ\\nDePristo, MA\\nAltshuler, DM\\nBanks, E\\nBhatia, G\\nCarneiro, MO\\ndel Angel, G\\nGabriel, SB\\nGenovese, G\\nGupta, N\\nHandsaker, RE\\nHartl, C\\nLander, ES\\nMcCarroll, SA\\nNemesh, JC\\nPoplin, RE\\nSchaffner, SF\\nShakir, K\\nYoon, SC\\nLihm, J\\nMakarov, V\\nJin, HJ\\nKim, W\\nKim, KC\\nKorbel, JO\\nRausch, T\\nFlice...   \n",
       "1                                                                                                                                                                                                                                                                                                                                                                                                                                                                                                                                                                                                                                                                                                                                                                                                                                                                                                                                                                                                                                                                                                                                                                                                                                                                                                                                                                                                                                                                                                                                                                                                                                                                                                                                                                                                                                                                                                                                                                                          Alvar, J\\nVelez, ID\\nBern, C\\nHerrero, M\\nDesjeux, P\\nCano, J\\nJannin, J\\nden Boer, M\\n   \n",
       "2  Altshuler, DM\\nDurbin, RM\\nAbecasis, GR\\nBentley, DR\\nChakravarti, A\\nClark, AG\\nDonnelly, P\\nEichler, EE\\nFlicek, P\\nGabriel, SB\\nGibbs, RA\\nGreen, ED\\nHurles, ME\\nKnoppers, BM\\nKorbel, JO\\nLander, ES\\nLee, C\\nLehrach, H\\nMardis, ER\\nMarth, GT\\nMcVean, GA\\nNickerson, DA\\nSchmidt, JP\\nSherry, ST\\nWang, J\\nWilson, RK\\nGibbs, RA\\nBoerwinkle, E\\nDoddapaneni, H\\nHan, Y\\nKorchina, V\\nKovar, C\\nLee, S\\nMuzny, D\\nReid, JG\\nZhu, YM\\nWang, J\\nChang, YQ\\nFeng, Q\\nFang, XD\\nGuo, XS\\nJian, M\\nJiang, H\\nJin, X\\nLan, TM\\nLi, GQ\\nLi, JX\\nLi, YR\\nLiu, SM\\nLiu, X\\nLu, Y\\nMa, XD\\nTang, MF\\nWang, B\\nWang, GB\\nWu, HL\\nWu, RH\\nXu, X\\nYin, Y\\nZhang, DD\\nZhang, WW\\nZhao, J\\nZhao, MR\\nZheng, XL\\nLander, ES\\nAltshuler, DM\\nGabriel, SB\\nGupta, N\\nGharani, N\\nToji, LH\\nGerry, NP\\nResch, AM\\nFlicek, P\\nBarker, J\\nClarke, L\\nGil, L\\nHunt, SE\\nKelman, G\\nKulesha, E\\nLeinonen, R\\nMcLaren, WM\\nRadhakrishnan, R\\nRoa, A\\nSmirnov, D\\nSmith, RE\\nStreeter, I\\nThormann, A\\nToneva, I\\nVaughan, B\\nZheng-Bradley, X\\nBentley, DR\\nGrocock, R\\nHumphray, S\\nJames, T\\nKingsbury, Z\\nLehrach, H\\nSudbrak, R\\nAlbrecht, MW\\nAmstislavskiy, VS\\nBorodina, TA\\nLienhard, M\\nMertes, F\\nSultan, M\\nTimmermann, B\\nYaspo, ML\\nMardis, ER\\nWilson, RK\\nFulton, L\\nFulton, R\\nSherry, ST\\nAnaniev, V\\nBelaia, Z\\nBeloslyudtsev, D\\nBouk, N\\nChen, C\\nChurch, D\\nCohen, R\\nCook, C\\nGarner, J\\nHefferon, T\\nKimelman, M\\nLiu, CL\\nLopez, J\\nMeric, P\\nO'Sullivan, C\\nOstapchuk, Y\\nPhan, L\\nPonomarov, S\\nSchneider, V\\nShekhtman, E\\nSirotkin, K\\nSlotta, D\\nZhang, H\\nMcVean, GA\\nDurbin, RM\\nBalasubramaniam, S\\nBurton, J\\nDanecek, P\\nKeane, TM\\nKolb-Kokocinski, A\\nMcCarthy, S\\nStalker, J\\nQuail, M\\nSchmidt, JP\\nDavies, CJ\\nGollub, J\\nWebster, T\\nWong, B\\nZhan, YP\\nAuton, A\\nCampbell, CL\\nKong, Y\\nMarcketta, A\\nGibbs, RA\\nYu, FL\\nAntunes, L\\nBainbridge, M\\nMuzny, D\\nSabo, A\\nHuang, ZY\\nWang, J\\nCoin, LJM\\nFang, L\\nGuo, XS\\nJin, X\\nLi, GQ\\nLi, QB\\nLi, YR\\nLi, ZY\\nLin, HX\\nLiu, BH\\nLuo, RB\\nShao, HJ\\nXie, YL\\nYe, C\\nYu, C\\nZhang, F\\nZheng, HC\\nZh...   \n",
       "3                                                                                                                                                                                                                                                                                                                                                                                                                                                                                                                                                                                                                                                                                                                                                                                                                                                                                                                                                                                                                                                                                                                                                                                                                                                                         de Sanjose, S\\nQuint, WGV\\nAlemany, L\\nGeraets, DT\\nKlaustermeier, JE\\nLloveras, B\\nTous, S\\nFelix, A\\nBravo, LE\\nShin, HR\\nVallejos, CS\\nde Ruiz, PA\\nLima, MA\\nGuimera, N\\nClavero, O\\nAlejo, M\\nLlombart-Bosch, A\\nCheng-Yang, C\\nTatti, SA\\nKasamatsu, E\\nIljazovic, E\\nOdida, M\\nPrado, R\\nSeoud, M\\nGrce, M\\nUsubutun, A\\nJain, A\\nSuarez, GAH\\nLombardi, LE\\nBanjo, A\\nMenendez, C\\nDomingo, EJ\\nVelasco, J\\nNessa, A\\nChichareon, SCB\\nQiao, YL\\nLerma, E\\nGarland, SM\\nSasagawa, T\\nFerrera, A\\nHammouda, D\\nMariani, L\\nPelayo, A\\nSteiner, I\\nOliva, E\\nMeijer, CJLM\\nAl-Jassar, WF\\nCruz, E\\nWright, TC\\nPuras, A\\nLlave, CL\\nTzardi, M\\nAgorastos, T\\nGarcia-Barriola, V\\nClavel, C\\nOrdi, J\\nAndujar, M\\nCastellsague, X\\nSanchez, GI\\nNowakowski, AM\\nBornstein, J\\nMunoz, N\\nBosch, FX\\n   \n",
       "4  Elsik, CG\\nTellam, RL\\nWorley, KC\\nGibbs, RA\\nAbatepaulo, ARR\\nAbbey, CA\\nAdelson, DL\\nAerts, J\\nAhola, V\\nAlexander, L\\nAlioto, T\\nAlmeida, IG\\nAmadio, AF\\nAnatriello, E\\nAntonarakis, SE\\nAnzola, JM\\nAstashyn, A\\nBahadue, SM\\nBaldwin, CL\\nBarris, W\\nBaxter, R\\nBell, SN\\nBennett, AK\\nBennett, GL\\nBiase, FH\\nBoldt, CR\\nBradley, DG\\nBrinkman, FSL\\nBrinkmeyer-Langford, CL\\nBrown, WC\\nBrownstein, MJ\\nBuhay, C\\nCaetano, AR\\nCamara, F\\nCarroll, JA\\nCarvalho, WA\\nCasey, T\\nCervelatti, EP\\nChack, J\\nChacko, E\\nChandrabose, MM\\nChapin, JE\\nChapple, CE\\nChen, HC\\nChen, L\\nCheng, Y\\nCheng, Z\\nChilders, CP\\nChitko-McKown, CG\\nChiu, R\\nChoi, JW\\nChrast, J\\nColley, AJ\\nConnelley, T\\nCree, A\\nCurry, S\\nDalrymple, B\\nDiep Dao, M\\nDavis, C\\nde Oliveira, CJF\\nde Miranda Santos, IKF\\nde Campos, TA\\nDeobald, H\\nDevinoy, E\\nDickens, CM\\nDing, Y\\nDinh, HH\\nDe Donato, M\\nDonohue, KE\\nDonthu, R\\nDovc, P\\nDugan-Rocha, S\\nDurbin, KJ\\nEberlein, A\\nEdgar, RC\\nEgan, A\\nEggen, A\\nEichler, EE\\nElhaik, E\\nEllis, SA\\nElnitski, L\\nErmolaeva, O\\nEyras, E\\nFitzsimmons, CJ\\nFowler, GR\\nFranzin, AM\\nFritz, K\\nGabisi, RA\\nGarcia, GR\\nGarcia, JF\\nGenini, S\\nGerlach, D\\nGerman, JB\\nGilbert, JGR\\nGill, CA\\nGladney, CJ\\nGlass, EJ\\nGoodell, J\\nGrant, JR\\nGraur, D\\nGreaser, ML\\nGreen, JA\\nGreen, RD\\nGuan, L\\nGuigo, R\\nHadsell, DL\\nHagen, DE\\nHakimov, HA\\nHalgren, R\\nHamernik, DL\\nHamilton, C\\nHarhay, GP\\nHarrow, JL\\nHart, EA\\nHastings, N\\nHavlak, P\\nHenrichsen, CN\\nHernandez, J\\nHernandez, M\\nHerzig, CTA\\nHiendleder, SG\\nHines, S\\nHitchens, ME\\nHlavina, W\\nHobbs, M\\nHolder, M\\nHolt, RA\\nHu, ZL\\nHume, J\\nIivanainen, A\\nIngham, A\\nIso-Touru, T\\nJamis, C\\nJann, O\\nJensen, K\\nJhangiani, SN\\nJiang, HY\\nJohnson, AJ\\nJones, SJM\\nJoshi, V\\nJunier, T\\nKapetis, D\\nKappes, SM\\nKapustin, Y\\nKeele, JW\\nKent, MP\\nKerr, T\\nKhalil, SS\\nKhatib, H\\nKiryutin, B\\nKitts, P\\nKokocinski, F\\nKolbehdari, D\\nKovar, CL\\nKriventseva, EV\\nKumar, CG\\nKumar, D\\nLahmers, KK\\nLandrum, M\\nLarkin, DM\\nLau, LPL\\nLeach, R\\nLee, JCM\\nLee, S\\nL...   \n",
       "5                                                                                                                                                                                                                                                                                                                                                                                                                                                                                                                                                                                                                                                                                                                                                                                                                                                                                                                                                                                                                                                                                                                                                                                                                                                                                                                                                                                                                                                                                                                                                                                                                                                                                                                                                                                                                                                                                                                                                                                                                     GOLDSTEIN, DB\\nLINARES, AR\\nCAVALLISFORZA, LL\\nFELDMAN, MW\\n   \n",
       "6                                                                                                                                                                                                                                                                                                                                                                                                                                                                                                                                                                                                                                                                                                                                                                                                                                                                                                                                                                                                                                                                                                                                                                                                                                                                                                                                                                                                                                                                                                                                                                                                                                                                                                               Kondo, S\\nSchutte, BC\\nRichardson, RJ\\nBjork, BC\\nKnight, AS\\nWatanabe, Y\\nHoward, E\\nde Lima, RLLF\\nDaack-Hirsch, S\\nSander, A\\nMcDonald-McGinn, DM\\nZackai, EH\\nLammer, EJ\\nAylsworth, AS\\nArdinger, HH\\nLidral, AC\\nPober, BR\\nMoreno, L\\nArcos-Burgos, M\\nValencia, C\\nHoudayer, C\\nBahuau, M\\nMoretti-Ferreira, D\\nRichieri-Costa, A\\nDixon, MJ\\nMurray, JC\\n   \n",
       "7                                                                                                                                                                                                                                                                                                                                                                                                                                                                                                                                                                                                                                                                                                                                                                                                                                                                                                                                                                                                                                                                                                                                                                                                                                                                                                                                                                                                                                                                                                                                                                                                                                                                                                                                                                                                                                                                                                                                                                                                                                                  Davidson, S\\nNardi, E\\nNir, Y\\n   \n",
       "8                                                                                                                                                                                                                                                                                                                                                                                                                                                                                                                                                                                                                                                                                                                                                                                                                                                                                                                                                                                                                                                                                                                                                                                                                                                                                                                                                                                                                                                                                                                                                                                                                                                                                                                                                                                                                                                                                                                                                            Adams, HD\\nGuardiola-Claramonte, M\\nBarron-Gafford, GA\\nVillegas, JC\\nBreshears, DD\\nZou, CB\\nTroch, PA\\nHuxman, TE\\n   \n",
       "9                                                                                                                                                                                                                                                                                                                                                                                                                                                                                                                                                                                                                                                                                                                                                                                                                                                                                                                                                                                                                                                                                                                                                                                                                                                                                                                                                                                                                                                                                                                                                                                                                                                                                                                                                                                                          Sansone, G\\nKelkensberg, F\\nPerez-Torres, JF\\nMorales, F\\nKling, MF\\nSiu, W\\nGhafur, O\\nJohnsson, P\\nSwoboda, M\\nBenedetti, E\\nFerrari, F\\nLepine, F\\nSanz-Vicario, JL\\nZherebtsov, S\\nZnakovskaya, I\\nL'Huillier, A\\nIvanov, MY\\nNisoli, M\\nMartin, F\\nVrakking, MJJ\\n   \n",
       "\n",
       "     PY  \n",
       "0  2012  \n",
       "1  2012  \n",
       "2  2015  \n",
       "3  2010  \n",
       "4  2009  \n",
       "5  1995  \n",
       "6  2002  \n",
       "7  2008  \n",
       "8  2009  \n",
       "9  2010  "
      ]
     },
     "execution_count": 1638,
     "metadata": {},
     "output_type": "execute_result"
    }
   ],
   "source": [
    "UDEA_YES.sort_values('Z9',ascending=False)[['Z9','TI','SO','AU','PY']].reset_index(drop=True)[:10]"
   ]
  },
  {
   "cell_type": "code",
   "execution_count": 1639,
   "metadata": {},
   "outputs": [
    {
     "data": {
      "text/plain": [
       "76237"
      ]
     },
     "execution_count": 1639,
     "metadata": {},
     "output_type": "execute_result"
    }
   ],
   "source": [
    "UDEA_YES.Z9.sum()"
   ]
  },
  {
   "cell_type": "code",
   "execution_count": 1640,
   "metadata": {},
   "outputs": [
    {
     "data": {
      "text/html": [
       "<div>\n",
       "<style scoped>\n",
       "    .dataframe tbody tr th:only-of-type {\n",
       "        vertical-align: middle;\n",
       "    }\n",
       "\n",
       "    .dataframe tbody tr th {\n",
       "        vertical-align: top;\n",
       "    }\n",
       "\n",
       "    .dataframe thead th {\n",
       "        text-align: right;\n",
       "    }\n",
       "</style>\n",
       "<table border=\"1\" class=\"dataframe\">\n",
       "  <thead>\n",
       "    <tr style=\"text-align: right;\">\n",
       "      <th></th>\n",
       "      <th>SCP_Cited by</th>\n",
       "      <th>TI</th>\n",
       "      <th>SO</th>\n",
       "      <th>AU</th>\n",
       "      <th>PY</th>\n",
       "    </tr>\n",
       "  </thead>\n",
       "  <tbody>\n",
       "    <tr>\n",
       "      <th>0</th>\n",
       "      <td>1586</td>\n",
       "      <td>Leishmaniasis Worldwide and Global Estimates of Its Incidence</td>\n",
       "      <td>PLOS ONE</td>\n",
       "      <td>Alvar, J\\nVelez, ID\\nBern, C\\nHerrero, M\\nDesjeux, P\\nCano, J\\nJannin, J\\nden Boer, M\\n</td>\n",
       "      <td>2012</td>\n",
       "    </tr>\n",
       "    <tr>\n",
       "      <th>1</th>\n",
       "      <td>1160</td>\n",
       "      <td>Effects of tranexamic acid on death, vascular occlusive events, and blood transfusion in trauma patients with significant haemorrhage (CRASH-2): A randomised, placebo-controlled trial</td>\n",
       "      <td>The Lancet</td>\n",
       "      <td>Olldashi F., Kerçi M., Zhurda T., Ruçi K., Banushi A., Traverso M.S., Jiménez J., Balbi J., Dellera C., Svampa S., Quintana G., Piñero G., Teves J., Seppelt I., Mountain D., Hunter J., Balogh Z., Zaman M., Druwé P., Rutsaert R., Mazairac G., Pascal F., Yvette Z., Chancellin D., Okwen P., Djokam-Liapoe J., Jangwa E., Mbuagbaw L., Fointama N., Pascal N., Baillie F., Jiang J.-Y., Gao G.-Y., Bao Y.-H., Morales C., Sierra J., Naranjo S., Correa C., Gómez C., Herrera J., Caicedo L., Rojas A., Pastas H., Miranda H., Constaín A., Perdomo M., Muñoz D., Duarte A., Vásquez E., Ortiz C., Ayala B., Delgado H., Benavides G., Rosero L., Mejía-Mantilla J., Varela A., Calle M., Castillo J., García A., Ciro J., Villa C., Panesso R., Flórez L., Gallego A., Puentes-Manosalva F., Medina L., Márquez K., Romero A.R., Hernández R., Martínez J., Gualteros W., Urbina Z., Velandia J., Benítez F., Trochez A., Villarreal A., Pabón P., López H., Quintero L., Rubiano A., Tamayo J., Piñera M., Navarro Z., Rondón D., Bujan B., Palacios L., Martínez D., Hernández Y., Fernández Y., Casola E., Delgado R., Herrera C., Arbolaéz M., Domínguez M., Iraola M., Rojas O., Enseñat A., Pastrana I., Rodríguez D., De La Campa S.A., Fortún T., Larrea M., Aragón L., Madrazo A., Svoboda P., Izurieta M., Daccach A., Altamirano M., Ortega A., Cárdenas B., González L., Ochoa M., Ortega F., Quichimbo F., Guiñanzaca J., Zavala I., Segura S., Jerez J., Acosta D., Yánez F., Camacho R., Khamis H., Shafei H., Kheidr A., Nasr H., Mosaad M., Rizk S., El Sayed H., Moati T., Hokkam E., Amin M., Lowis H., Fawzy M., Bedir N., Aldars M., Rodríguez V., Tobar J., Alvarenga J., Shalamberidze B., Demuria E., Rtveliashvili N., Chutkerashvili G., Dotiashvili D., Gogichaishvili T., Ingorokva G., Kazaishvili D., Melikidze B., Iashvili N., Tomadze G., Chkhikvadze M., Khurtsidze L., Lomidze Z., Dzagania D., Kvachadze N., Gotsadze G., Kaloiani V., Kajaia N., Dakubo J., Naaeder S., Sowah P., Yusuf A., Ishak A., Selasi-Sefenu P., Sibiri B.,...</td>\n",
       "      <td>2010</td>\n",
       "    </tr>\n",
       "    <tr>\n",
       "      <th>2</th>\n",
       "      <td>994</td>\n",
       "      <td>Human papillomavirus genotype attribution in invasive cervical cancer: a retrospective cross-sectional worldwide study</td>\n",
       "      <td>LANCET ONCOLOGY</td>\n",
       "      <td>de Sanjose, S\\nQuint, WGV\\nAlemany, L\\nGeraets, DT\\nKlaustermeier, JE\\nLloveras, B\\nTous, S\\nFelix, A\\nBravo, LE\\nShin, HR\\nVallejos, CS\\nde Ruiz, PA\\nLima, MA\\nGuimera, N\\nClavero, O\\nAlejo, M\\nLlombart-Bosch, A\\nCheng-Yang, C\\nTatti, SA\\nKasamatsu, E\\nIljazovic, E\\nOdida, M\\nPrado, R\\nSeoud, M\\nGrce, M\\nUsubutun, A\\nJain, A\\nSuarez, GAH\\nLombardi, LE\\nBanjo, A\\nMenendez, C\\nDomingo, EJ\\nVelasco, J\\nNessa, A\\nChichareon, SCB\\nQiao, YL\\nLerma, E\\nGarland, SM\\nSasagawa, T\\nFerrera, A\\nHammouda, D\\nMariani, L\\nPelayo, A\\nSteiner, I\\nOliva, E\\nMeijer, CJLM\\nAl-Jassar, WF\\nCruz, E\\nWright, TC\\nPuras, A\\nLlave, CL\\nTzardi, M\\nAgorastos, T\\nGarcia-Barriola, V\\nClavel, C\\nOrdi, J\\nAndujar, M\\nCastellsague, X\\nSanchez, GI\\nNowakowski, AM\\nBornstein, J\\nMunoz, N\\nBosch, FX\\n</td>\n",
       "      <td>2010</td>\n",
       "    </tr>\n",
       "    <tr>\n",
       "      <th>3</th>\n",
       "      <td>626</td>\n",
       "      <td>The Genome Sequence of Taurine Cattle: A Window to Ruminant Biology and Evolution</td>\n",
       "      <td>SCIENCE</td>\n",
       "      <td>Elsik, CG\\nTellam, RL\\nWorley, KC\\nGibbs, RA\\nAbatepaulo, ARR\\nAbbey, CA\\nAdelson, DL\\nAerts, J\\nAhola, V\\nAlexander, L\\nAlioto, T\\nAlmeida, IG\\nAmadio, AF\\nAnatriello, E\\nAntonarakis, SE\\nAnzola, JM\\nAstashyn, A\\nBahadue, SM\\nBaldwin, CL\\nBarris, W\\nBaxter, R\\nBell, SN\\nBennett, AK\\nBennett, GL\\nBiase, FH\\nBoldt, CR\\nBradley, DG\\nBrinkman, FSL\\nBrinkmeyer-Langford, CL\\nBrown, WC\\nBrownstein, MJ\\nBuhay, C\\nCaetano, AR\\nCamara, F\\nCarroll, JA\\nCarvalho, WA\\nCasey, T\\nCervelatti, EP\\nChack, J\\nChacko, E\\nChandrabose, MM\\nChapin, JE\\nChapple, CE\\nChen, HC\\nChen, L\\nCheng, Y\\nCheng, Z\\nChilders, CP\\nChitko-McKown, CG\\nChiu, R\\nChoi, JW\\nChrast, J\\nColley, AJ\\nConnelley, T\\nCree, A\\nCurry, S\\nDalrymple, B\\nDiep Dao, M\\nDavis, C\\nde Oliveira, CJF\\nde Miranda Santos, IKF\\nde Campos, TA\\nDeobald, H\\nDevinoy, E\\nDickens, CM\\nDing, Y\\nDinh, HH\\nDe Donato, M\\nDonohue, KE\\nDonthu, R\\nDovc, P\\nDugan-Rocha, S\\nDurbin, KJ\\nEberlein, A\\nEdgar, RC\\nEgan, A\\nEggen, A\\nEichler, EE\\nElhaik, E\\nEllis, SA\\nElnitski, L\\nErmolaeva, O\\nEyras, E\\nFitzsimmons, CJ\\nFowler, GR\\nFranzin, AM\\nFritz, K\\nGabisi, RA\\nGarcia, GR\\nGarcia, JF\\nGenini, S\\nGerlach, D\\nGerman, JB\\nGilbert, JGR\\nGill, CA\\nGladney, CJ\\nGlass, EJ\\nGoodell, J\\nGrant, JR\\nGraur, D\\nGreaser, ML\\nGreen, JA\\nGreen, RD\\nGuan, L\\nGuigo, R\\nHadsell, DL\\nHagen, DE\\nHakimov, HA\\nHalgren, R\\nHamernik, DL\\nHamilton, C\\nHarhay, GP\\nHarrow, JL\\nHart, EA\\nHastings, N\\nHavlak, P\\nHenrichsen, CN\\nHernandez, J\\nHernandez, M\\nHerzig, CTA\\nHiendleder, SG\\nHines, S\\nHitchens, ME\\nHlavina, W\\nHobbs, M\\nHolder, M\\nHolt, RA\\nHu, ZL\\nHume, J\\nIivanainen, A\\nIngham, A\\nIso-Touru, T\\nJamis, C\\nJann, O\\nJensen, K\\nJhangiani, SN\\nJiang, HY\\nJohnson, AJ\\nJones, SJM\\nJoshi, V\\nJunier, T\\nKapetis, D\\nKappes, SM\\nKapustin, Y\\nKeele, JW\\nKent, MP\\nKerr, T\\nKhalil, SS\\nKhatib, H\\nKiryutin, B\\nKitts, P\\nKokocinski, F\\nKolbehdari, D\\nKovar, CL\\nKriventseva, EV\\nKumar, CG\\nKumar, D\\nLahmers, KK\\nLandrum, M\\nLarkin, DM\\nLau, LPL\\nLeach, R\\nLee, JCM\\nLee, S\\nL...</td>\n",
       "      <td>2009</td>\n",
       "    </tr>\n",
       "    <tr>\n",
       "      <th>4</th>\n",
       "      <td>598</td>\n",
       "      <td>GENETIC ABSOLUTE DATING BASED ON MICROSATELLITES AND THE ORIGIN OF MODERN HUMANS</td>\n",
       "      <td>PROCEEDINGS OF THE NATIONAL ACADEMY OF SCIENCES OF THE UNITED STATES OF\\nAMERICA</td>\n",
       "      <td>GOLDSTEIN, DB\\nLINARES, AR\\nCAVALLISFORZA, LL\\nFELDMAN, MW\\n</td>\n",
       "      <td>1995</td>\n",
       "    </tr>\n",
       "    <tr>\n",
       "      <th>5</th>\n",
       "      <td>485</td>\n",
       "      <td>Mutations in IRF6 cause Van der Woude and popliteal pterygium syndromes</td>\n",
       "      <td>NATURE GENETICS</td>\n",
       "      <td>Kondo, S\\nSchutte, BC\\nRichardson, RJ\\nBjork, BC\\nKnight, AS\\nWatanabe, Y\\nHoward, E\\nde Lima, RLLF\\nDaack-Hirsch, S\\nSander, A\\nMcDonald-McGinn, DM\\nZackai, EH\\nLammer, EJ\\nAylsworth, AS\\nArdinger, HH\\nLidral, AC\\nPober, BR\\nMoreno, L\\nArcos-Burgos, M\\nValencia, C\\nHoudayer, C\\nBahuau, M\\nMoretti-Ferreira, D\\nRichieri-Costa, A\\nDixon, MJ\\nMurray, JC\\n</td>\n",
       "      <td>2002</td>\n",
       "    </tr>\n",
       "    <tr>\n",
       "      <th>6</th>\n",
       "      <td>439</td>\n",
       "      <td>The importance of early treatment with tranexamic acid in bleeding trauma patients: An exploratory analysis of the CRASH-2 randomised controlled trial</td>\n",
       "      <td>The Lancet</td>\n",
       "      <td>Olldashi F., Kerçi M., Zhurda T., Ruçi K., Banushi A., Traverso M.S., Jiménez J., Balbi J., Dellera C., Svampa S., Quintana G., Piñero G., Teves J., Seppelt I., Mountain D., Balogh Z., Zaman M., Druwé P., Rutsaert R., Mazairac G., Pascal F., Yvette Z., Chancellin D., Okwen P., Djokam-Liapoe J., Jangwa E., Mbuagbaw L., Fointama N., Baillie F., Jiang J.-Y., Gao G.-Y., Bao Y.-H., Morales C., Sierra J., Naranjo S., Correa C., Gómez C., Herrera J., Caicedo L., Rojas A., Pastas H., Miranda H., Constaín A., Perdomo M., Muñoz D., Duarte Á., Vásquez E., Ortiz C., Ayala B., Delgado H., Benavides G., Rosero L., Mejía-Mantilla J., Varela A., Calle M., Castillo J., García A., Ciro J., Villa C., Panesso R., Flórez L., Gallego A., Puentes-Manosalva F., Medina L., Márquez K., Romero A.R., Hernández R., Martínez J., Gualteros W., Urbina Z., Velandia J., Benítez F., Trochez A., Villarreal A., Pabón P., López H., Quintero L., Rubiano A., Tamayo J., Piñera M., Martínez D., Martínez H., Casola E., Domínguez M., Herrera C., Iraola M., Rojas O., Pastrana I., Rodríguez D., De La Campa S.Á., Fortún T., Larrea M., Aragón L., Madrazo A., Svoboda P., Izurieta M., Daccach A., Altamirano M., Ortega A., Cárdenas B., González L., Ochoa M., Ortega F., Quichimbo F., Guiñanzaca J., Zavala I., Segura S., Jerez J., Acosta D., Yánez F., Camacho R., Khamis H., Shafei H., Kheidr A., Nasr H., Mosaad M., Rizk S., El Sayed H., Moati T., Hokkam E., Amin M., Lowis H., Fawzy M., Bedir N., Aldars M., Rodríguez V., Tobar J., Alvarenga J., Shalamberidze B., Demuria E., Rtveliashvili N., Chutkerashvili G., Dotiashvili D., Gogichaishvili T., Ingorokva G., Kazaishvili D., Melikidze B., Iashvili N., Tomadze G., Chkhikvadze M., Khurtsidze L., Lomidze Z., Dzagania D., Kvachadze N., Gotsadze G., Kaloiani V., Kajaia N., Dakubo J., Naaeder S., Sowah P., Yusuf A., Ishak A., Selasi-Sefenu P., Sibiri B., Sarpong-Peprah S., Boro T., Bopaiah K., Shetty K., Subbiah R., Mulla L., Doshi A., Dewan Y., Grewal S., Tripathy P., Ma...</td>\n",
       "      <td>2011</td>\n",
       "    </tr>\n",
       "    <tr>\n",
       "      <th>7</th>\n",
       "      <td>432</td>\n",
       "      <td>Leptogenesis</td>\n",
       "      <td>PHYSICS REPORTS-REVIEW SECTION OF PHYSICS LETTERS</td>\n",
       "      <td>Davidson, S\\nNardi, E\\nNir, Y\\n</td>\n",
       "      <td>2008</td>\n",
       "    </tr>\n",
       "    <tr>\n",
       "      <th>8</th>\n",
       "      <td>424</td>\n",
       "      <td>Temperature sensitivity of drought-induced tree mortality portends increased regional die-off under global-change-type drought</td>\n",
       "      <td>PROCEEDINGS OF THE NATIONAL ACADEMY OF SCIENCES OF THE UNITED STATES OF\\nAMERICA</td>\n",
       "      <td>Adams, HD\\nGuardiola-Claramonte, M\\nBarron-Gafford, GA\\nVillegas, JC\\nBreshears, DD\\nZou, CB\\nTroch, PA\\nHuxman, TE\\n</td>\n",
       "      <td>2009</td>\n",
       "    </tr>\n",
       "    <tr>\n",
       "      <th>9</th>\n",
       "      <td>405</td>\n",
       "      <td>THE STRUCTURE OF THE PRESENILIN-1 (S182) GENE AND IDENTIFICATION OF 6 NOVEL MUTATIONS IN EARLY-ONSET AD FAMILIES</td>\n",
       "      <td>NATURE GENETICS</td>\n",
       "      <td>CLARK, RF\\nHUTTON, M\\nFULDNER, RA\\nFROELICH, S\\nKARRAN, E\\nTALBOT, C\\nCROOK, R\\nLENDON, C\\nPRIHAR, G\\nHE, C\\nKORENBLAT, K\\nMARTINEZ, A\\nWRAGG, M\\nBUSFIELD, F\\nBEHRENS, MI\\nMYERS, A\\nNORTON, J\\nMORRIS, J\\nMEHTA, N\\nPEARSON, C\\nLINCOLN, S\\nBAKER, M\\nDUFF, K\\nZEHR, C\\nPEREZTUR, J\\nHOULDEN, H\\nRUIZ, A\\nOSSA, J\\nLOPERA, F\\nARCOS, M\\nMADRIGAL, L\\nCOLLINGE, J\\nHUMPHREYS, C\\nASHWORTH, A\\nSARNER, S\\nFOX, N\\nHARVEY, R\\nKENNEDY, A\\nROQUES, P\\nCLINE, RT\\nPHILLIPS, CA\\nVENTER, JC\\nFORSELL, L\\nAXELMAN, K\\nLILIUS, L\\nJOHNSTON, J\\nCOWBURN, R\\nVIITANEN, M\\nWINBLAD, B\\nKOSIK, K\\nHALTIA, M\\nPOYHONEN, M\\nDICKSON, D\\nMANN, D\\nNEARY, D\\nSNOWDEN, J\\nLANTOS, P\\nLANNFELT, L\\nROSSOR, M\\nROBERTS, GW\\nADAMS, MD\\nHARDY, J\\nGOATE, A\\n</td>\n",
       "      <td>1995</td>\n",
       "    </tr>\n",
       "  </tbody>\n",
       "</table>\n",
       "</div>"
      ],
      "text/plain": [
       "   SCP_Cited by  \\\n",
       "0          1586   \n",
       "1          1160   \n",
       "2           994   \n",
       "3           626   \n",
       "4           598   \n",
       "5           485   \n",
       "6           439   \n",
       "7           432   \n",
       "8           424   \n",
       "9           405   \n",
       "\n",
       "                                                                                                                                                                                        TI  \\\n",
       "0                                                                                                                            Leishmaniasis Worldwide and Global Estimates of Its Incidence   \n",
       "1  Effects of tranexamic acid on death, vascular occlusive events, and blood transfusion in trauma patients with significant haemorrhage (CRASH-2): A randomised, placebo-controlled trial   \n",
       "2                                                                   Human papillomavirus genotype attribution in invasive cervical cancer: a retrospective cross-sectional worldwide study   \n",
       "3                                                                                                        The Genome Sequence of Taurine Cattle: A Window to Ruminant Biology and Evolution   \n",
       "4                                                                                                         GENETIC ABSOLUTE DATING BASED ON MICROSATELLITES AND THE ORIGIN OF MODERN HUMANS   \n",
       "5                                                                                                                  Mutations in IRF6 cause Van der Woude and popliteal pterygium syndromes   \n",
       "6                                   The importance of early treatment with tranexamic acid in bleeding trauma patients: An exploratory analysis of the CRASH-2 randomised controlled trial   \n",
       "7                                                                                                                                                                             Leptogenesis   \n",
       "8                                                           Temperature sensitivity of drought-induced tree mortality portends increased regional die-off under global-change-type drought   \n",
       "9                                                                         THE STRUCTURE OF THE PRESENILIN-1 (S182) GENE AND IDENTIFICATION OF 6 NOVEL MUTATIONS IN EARLY-ONSET AD FAMILIES   \n",
       "\n",
       "                                                                                 SO  \\\n",
       "0                                                                          PLOS ONE   \n",
       "1                                                                        The Lancet   \n",
       "2                                                                   LANCET ONCOLOGY   \n",
       "3                                                                           SCIENCE   \n",
       "4  PROCEEDINGS OF THE NATIONAL ACADEMY OF SCIENCES OF THE UNITED STATES OF\\nAMERICA   \n",
       "5                                                                   NATURE GENETICS   \n",
       "6                                                                        The Lancet   \n",
       "7                                 PHYSICS REPORTS-REVIEW SECTION OF PHYSICS LETTERS   \n",
       "8  PROCEEDINGS OF THE NATIONAL ACADEMY OF SCIENCES OF THE UNITED STATES OF\\nAMERICA   \n",
       "9                                                                   NATURE GENETICS   \n",
       "\n",
       "                                                                                                                                                                                                                                                                                                                                                                                                                                                                                                                                                                                                                                                                                                                                                                                                                                                                                                                                                                                                                                                                                                                                                                                                                                                                                                                                                                                                                                                                                                                                                                                                                                                                                                                                                                                                                                                                                                                                                                                                                                                                                AU  \\\n",
       "0                                                                                                                                                                                                                                                                                                                                                                                                                                                                                                                                                                                                                                                                                                                                                                                                                                                                                                                                                                                                                                                                                                                                                                                                                                                                                                                                                                                                                                                                                                                                                                                                                                                                                                                                                                                                                                                                                                                                                                                          Alvar, J\\nVelez, ID\\nBern, C\\nHerrero, M\\nDesjeux, P\\nCano, J\\nJannin, J\\nden Boer, M\\n   \n",
       "1  Olldashi F., Kerçi M., Zhurda T., Ruçi K., Banushi A., Traverso M.S., Jiménez J., Balbi J., Dellera C., Svampa S., Quintana G., Piñero G., Teves J., Seppelt I., Mountain D., Hunter J., Balogh Z., Zaman M., Druwé P., Rutsaert R., Mazairac G., Pascal F., Yvette Z., Chancellin D., Okwen P., Djokam-Liapoe J., Jangwa E., Mbuagbaw L., Fointama N., Pascal N., Baillie F., Jiang J.-Y., Gao G.-Y., Bao Y.-H., Morales C., Sierra J., Naranjo S., Correa C., Gómez C., Herrera J., Caicedo L., Rojas A., Pastas H., Miranda H., Constaín A., Perdomo M., Muñoz D., Duarte A., Vásquez E., Ortiz C., Ayala B., Delgado H., Benavides G., Rosero L., Mejía-Mantilla J., Varela A., Calle M., Castillo J., García A., Ciro J., Villa C., Panesso R., Flórez L., Gallego A., Puentes-Manosalva F., Medina L., Márquez K., Romero A.R., Hernández R., Martínez J., Gualteros W., Urbina Z., Velandia J., Benítez F., Trochez A., Villarreal A., Pabón P., López H., Quintero L., Rubiano A., Tamayo J., Piñera M., Navarro Z., Rondón D., Bujan B., Palacios L., Martínez D., Hernández Y., Fernández Y., Casola E., Delgado R., Herrera C., Arbolaéz M., Domínguez M., Iraola M., Rojas O., Enseñat A., Pastrana I., Rodríguez D., De La Campa S.A., Fortún T., Larrea M., Aragón L., Madrazo A., Svoboda P., Izurieta M., Daccach A., Altamirano M., Ortega A., Cárdenas B., González L., Ochoa M., Ortega F., Quichimbo F., Guiñanzaca J., Zavala I., Segura S., Jerez J., Acosta D., Yánez F., Camacho R., Khamis H., Shafei H., Kheidr A., Nasr H., Mosaad M., Rizk S., El Sayed H., Moati T., Hokkam E., Amin M., Lowis H., Fawzy M., Bedir N., Aldars M., Rodríguez V., Tobar J., Alvarenga J., Shalamberidze B., Demuria E., Rtveliashvili N., Chutkerashvili G., Dotiashvili D., Gogichaishvili T., Ingorokva G., Kazaishvili D., Melikidze B., Iashvili N., Tomadze G., Chkhikvadze M., Khurtsidze L., Lomidze Z., Dzagania D., Kvachadze N., Gotsadze G., Kaloiani V., Kajaia N., Dakubo J., Naaeder S., Sowah P., Yusuf A., Ishak A., Selasi-Sefenu P., Sibiri B.,...   \n",
       "2                                                                                                                                                                                                                                                                                                                                                                                                                                                                                                                                                                                                                                                                                                                                                                                                                                                                                                                                                                                                                                                                                                                                                                                                                                                                         de Sanjose, S\\nQuint, WGV\\nAlemany, L\\nGeraets, DT\\nKlaustermeier, JE\\nLloveras, B\\nTous, S\\nFelix, A\\nBravo, LE\\nShin, HR\\nVallejos, CS\\nde Ruiz, PA\\nLima, MA\\nGuimera, N\\nClavero, O\\nAlejo, M\\nLlombart-Bosch, A\\nCheng-Yang, C\\nTatti, SA\\nKasamatsu, E\\nIljazovic, E\\nOdida, M\\nPrado, R\\nSeoud, M\\nGrce, M\\nUsubutun, A\\nJain, A\\nSuarez, GAH\\nLombardi, LE\\nBanjo, A\\nMenendez, C\\nDomingo, EJ\\nVelasco, J\\nNessa, A\\nChichareon, SCB\\nQiao, YL\\nLerma, E\\nGarland, SM\\nSasagawa, T\\nFerrera, A\\nHammouda, D\\nMariani, L\\nPelayo, A\\nSteiner, I\\nOliva, E\\nMeijer, CJLM\\nAl-Jassar, WF\\nCruz, E\\nWright, TC\\nPuras, A\\nLlave, CL\\nTzardi, M\\nAgorastos, T\\nGarcia-Barriola, V\\nClavel, C\\nOrdi, J\\nAndujar, M\\nCastellsague, X\\nSanchez, GI\\nNowakowski, AM\\nBornstein, J\\nMunoz, N\\nBosch, FX\\n   \n",
       "3  Elsik, CG\\nTellam, RL\\nWorley, KC\\nGibbs, RA\\nAbatepaulo, ARR\\nAbbey, CA\\nAdelson, DL\\nAerts, J\\nAhola, V\\nAlexander, L\\nAlioto, T\\nAlmeida, IG\\nAmadio, AF\\nAnatriello, E\\nAntonarakis, SE\\nAnzola, JM\\nAstashyn, A\\nBahadue, SM\\nBaldwin, CL\\nBarris, W\\nBaxter, R\\nBell, SN\\nBennett, AK\\nBennett, GL\\nBiase, FH\\nBoldt, CR\\nBradley, DG\\nBrinkman, FSL\\nBrinkmeyer-Langford, CL\\nBrown, WC\\nBrownstein, MJ\\nBuhay, C\\nCaetano, AR\\nCamara, F\\nCarroll, JA\\nCarvalho, WA\\nCasey, T\\nCervelatti, EP\\nChack, J\\nChacko, E\\nChandrabose, MM\\nChapin, JE\\nChapple, CE\\nChen, HC\\nChen, L\\nCheng, Y\\nCheng, Z\\nChilders, CP\\nChitko-McKown, CG\\nChiu, R\\nChoi, JW\\nChrast, J\\nColley, AJ\\nConnelley, T\\nCree, A\\nCurry, S\\nDalrymple, B\\nDiep Dao, M\\nDavis, C\\nde Oliveira, CJF\\nde Miranda Santos, IKF\\nde Campos, TA\\nDeobald, H\\nDevinoy, E\\nDickens, CM\\nDing, Y\\nDinh, HH\\nDe Donato, M\\nDonohue, KE\\nDonthu, R\\nDovc, P\\nDugan-Rocha, S\\nDurbin, KJ\\nEberlein, A\\nEdgar, RC\\nEgan, A\\nEggen, A\\nEichler, EE\\nElhaik, E\\nEllis, SA\\nElnitski, L\\nErmolaeva, O\\nEyras, E\\nFitzsimmons, CJ\\nFowler, GR\\nFranzin, AM\\nFritz, K\\nGabisi, RA\\nGarcia, GR\\nGarcia, JF\\nGenini, S\\nGerlach, D\\nGerman, JB\\nGilbert, JGR\\nGill, CA\\nGladney, CJ\\nGlass, EJ\\nGoodell, J\\nGrant, JR\\nGraur, D\\nGreaser, ML\\nGreen, JA\\nGreen, RD\\nGuan, L\\nGuigo, R\\nHadsell, DL\\nHagen, DE\\nHakimov, HA\\nHalgren, R\\nHamernik, DL\\nHamilton, C\\nHarhay, GP\\nHarrow, JL\\nHart, EA\\nHastings, N\\nHavlak, P\\nHenrichsen, CN\\nHernandez, J\\nHernandez, M\\nHerzig, CTA\\nHiendleder, SG\\nHines, S\\nHitchens, ME\\nHlavina, W\\nHobbs, M\\nHolder, M\\nHolt, RA\\nHu, ZL\\nHume, J\\nIivanainen, A\\nIngham, A\\nIso-Touru, T\\nJamis, C\\nJann, O\\nJensen, K\\nJhangiani, SN\\nJiang, HY\\nJohnson, AJ\\nJones, SJM\\nJoshi, V\\nJunier, T\\nKapetis, D\\nKappes, SM\\nKapustin, Y\\nKeele, JW\\nKent, MP\\nKerr, T\\nKhalil, SS\\nKhatib, H\\nKiryutin, B\\nKitts, P\\nKokocinski, F\\nKolbehdari, D\\nKovar, CL\\nKriventseva, EV\\nKumar, CG\\nKumar, D\\nLahmers, KK\\nLandrum, M\\nLarkin, DM\\nLau, LPL\\nLeach, R\\nLee, JCM\\nLee, S\\nL...   \n",
       "4                                                                                                                                                                                                                                                                                                                                                                                                                                                                                                                                                                                                                                                                                                                                                                                                                                                                                                                                                                                                                                                                                                                                                                                                                                                                                                                                                                                                                                                                                                                                                                                                                                                                                                                                                                                                                                                                                                                                                                                                                     GOLDSTEIN, DB\\nLINARES, AR\\nCAVALLISFORZA, LL\\nFELDMAN, MW\\n   \n",
       "5                                                                                                                                                                                                                                                                                                                                                                                                                                                                                                                                                                                                                                                                                                                                                                                                                                                                                                                                                                                                                                                                                                                                                                                                                                                                                                                                                                                                                                                                                                                                                                                                                                                                                                               Kondo, S\\nSchutte, BC\\nRichardson, RJ\\nBjork, BC\\nKnight, AS\\nWatanabe, Y\\nHoward, E\\nde Lima, RLLF\\nDaack-Hirsch, S\\nSander, A\\nMcDonald-McGinn, DM\\nZackai, EH\\nLammer, EJ\\nAylsworth, AS\\nArdinger, HH\\nLidral, AC\\nPober, BR\\nMoreno, L\\nArcos-Burgos, M\\nValencia, C\\nHoudayer, C\\nBahuau, M\\nMoretti-Ferreira, D\\nRichieri-Costa, A\\nDixon, MJ\\nMurray, JC\\n   \n",
       "6  Olldashi F., Kerçi M., Zhurda T., Ruçi K., Banushi A., Traverso M.S., Jiménez J., Balbi J., Dellera C., Svampa S., Quintana G., Piñero G., Teves J., Seppelt I., Mountain D., Balogh Z., Zaman M., Druwé P., Rutsaert R., Mazairac G., Pascal F., Yvette Z., Chancellin D., Okwen P., Djokam-Liapoe J., Jangwa E., Mbuagbaw L., Fointama N., Baillie F., Jiang J.-Y., Gao G.-Y., Bao Y.-H., Morales C., Sierra J., Naranjo S., Correa C., Gómez C., Herrera J., Caicedo L., Rojas A., Pastas H., Miranda H., Constaín A., Perdomo M., Muñoz D., Duarte Á., Vásquez E., Ortiz C., Ayala B., Delgado H., Benavides G., Rosero L., Mejía-Mantilla J., Varela A., Calle M., Castillo J., García A., Ciro J., Villa C., Panesso R., Flórez L., Gallego A., Puentes-Manosalva F., Medina L., Márquez K., Romero A.R., Hernández R., Martínez J., Gualteros W., Urbina Z., Velandia J., Benítez F., Trochez A., Villarreal A., Pabón P., López H., Quintero L., Rubiano A., Tamayo J., Piñera M., Martínez D., Martínez H., Casola E., Domínguez M., Herrera C., Iraola M., Rojas O., Pastrana I., Rodríguez D., De La Campa S.Á., Fortún T., Larrea M., Aragón L., Madrazo A., Svoboda P., Izurieta M., Daccach A., Altamirano M., Ortega A., Cárdenas B., González L., Ochoa M., Ortega F., Quichimbo F., Guiñanzaca J., Zavala I., Segura S., Jerez J., Acosta D., Yánez F., Camacho R., Khamis H., Shafei H., Kheidr A., Nasr H., Mosaad M., Rizk S., El Sayed H., Moati T., Hokkam E., Amin M., Lowis H., Fawzy M., Bedir N., Aldars M., Rodríguez V., Tobar J., Alvarenga J., Shalamberidze B., Demuria E., Rtveliashvili N., Chutkerashvili G., Dotiashvili D., Gogichaishvili T., Ingorokva G., Kazaishvili D., Melikidze B., Iashvili N., Tomadze G., Chkhikvadze M., Khurtsidze L., Lomidze Z., Dzagania D., Kvachadze N., Gotsadze G., Kaloiani V., Kajaia N., Dakubo J., Naaeder S., Sowah P., Yusuf A., Ishak A., Selasi-Sefenu P., Sibiri B., Sarpong-Peprah S., Boro T., Bopaiah K., Shetty K., Subbiah R., Mulla L., Doshi A., Dewan Y., Grewal S., Tripathy P., Ma...   \n",
       "7                                                                                                                                                                                                                                                                                                                                                                                                                                                                                                                                                                                                                                                                                                                                                                                                                                                                                                                                                                                                                                                                                                                                                                                                                                                                                                                                                                                                                                                                                                                                                                                                                                                                                                                                                                                                                                                                                                                                                                                                                                                  Davidson, S\\nNardi, E\\nNir, Y\\n   \n",
       "8                                                                                                                                                                                                                                                                                                                                                                                                                                                                                                                                                                                                                                                                                                                                                                                                                                                                                                                                                                                                                                                                                                                                                                                                                                                                                                                                                                                                                                                                                                                                                                                                                                                                                                                                                                                                                                                                                                                                                            Adams, HD\\nGuardiola-Claramonte, M\\nBarron-Gafford, GA\\nVillegas, JC\\nBreshears, DD\\nZou, CB\\nTroch, PA\\nHuxman, TE\\n   \n",
       "9                                                                                                                                                                                                                                                                                                                                                                                                                                                                                                                                                                                                                                                                                                                                                                                                                                                                                                                                                                                                                                                                                                                                                                                                                                                                                                                                       CLARK, RF\\nHUTTON, M\\nFULDNER, RA\\nFROELICH, S\\nKARRAN, E\\nTALBOT, C\\nCROOK, R\\nLENDON, C\\nPRIHAR, G\\nHE, C\\nKORENBLAT, K\\nMARTINEZ, A\\nWRAGG, M\\nBUSFIELD, F\\nBEHRENS, MI\\nMYERS, A\\nNORTON, J\\nMORRIS, J\\nMEHTA, N\\nPEARSON, C\\nLINCOLN, S\\nBAKER, M\\nDUFF, K\\nZEHR, C\\nPEREZTUR, J\\nHOULDEN, H\\nRUIZ, A\\nOSSA, J\\nLOPERA, F\\nARCOS, M\\nMADRIGAL, L\\nCOLLINGE, J\\nHUMPHREYS, C\\nASHWORTH, A\\nSARNER, S\\nFOX, N\\nHARVEY, R\\nKENNEDY, A\\nROQUES, P\\nCLINE, RT\\nPHILLIPS, CA\\nVENTER, JC\\nFORSELL, L\\nAXELMAN, K\\nLILIUS, L\\nJOHNSTON, J\\nCOWBURN, R\\nVIITANEN, M\\nWINBLAD, B\\nKOSIK, K\\nHALTIA, M\\nPOYHONEN, M\\nDICKSON, D\\nMANN, D\\nNEARY, D\\nSNOWDEN, J\\nLANTOS, P\\nLANNFELT, L\\nROSSOR, M\\nROBERTS, GW\\nADAMS, MD\\nHARDY, J\\nGOATE, A\\n   \n",
       "\n",
       "     PY  \n",
       "0  2012  \n",
       "1  2010  \n",
       "2  2010  \n",
       "3  2009  \n",
       "4  1995  \n",
       "5  2002  \n",
       "6  2011  \n",
       "7  2008  \n",
       "8  2009  \n",
       "9  1995  "
      ]
     },
     "execution_count": 1640,
     "metadata": {},
     "output_type": "execute_result"
    }
   ],
   "source": [
    "UDEA_YES.sort_values('SCP_Cited by',ascending=False)[[\n",
    "    'SCP_Cited by','TI','SO','AU','PY']].reset_index(drop=True)[:10]"
   ]
  },
  {
   "cell_type": "code",
   "execution_count": 1641,
   "metadata": {},
   "outputs": [
    {
     "data": {
      "text/plain": [
       "79717"
      ]
     },
     "execution_count": 1641,
     "metadata": {},
     "output_type": "execute_result"
    }
   ],
   "source": [
    "UDEA_YES['SCP_Cited by'].sum()"
   ]
  },
  {
   "cell_type": "markdown",
   "metadata": {},
   "source": [
    "# Función de búsque de nombres completos usando los autores WOS y los metadatos de la información institucional"
   ]
  },
  {
   "cell_type": "code",
   "execution_count": 1655,
   "metadata": {},
   "outputs": [
    {
     "data": {
      "text/plain": [
       "WOS_author\n",
       "Ponce, W. A.    5\n",
       "Name: WOS_author, dtype: int64"
      ]
     },
     "execution_count": 1655,
     "metadata": {},
     "output_type": "execute_result"
    }
   ],
   "source": [
    "aun=extract_key(UDEA_NOT,'WOS_author',json_column='authors_WOS')\n",
    "aun[27:28]"
   ]
  },
  {
   "cell_type": "code",
   "execution_count": 1656,
   "metadata": {},
   "outputs": [],
   "source": [
    "aun=aun.keys()"
   ]
  },
  {
   "cell_type": "code",
   "execution_count": 1657,
   "metadata": {},
   "outputs": [],
   "source": [
    "posib=extract_key(UDEA_YES,'WOS_author',json_column='authors_WOS').keys()"
   ]
  },
  {
   "cell_type": "markdown",
   "metadata": {},
   "source": [
    "### Goods: i=2,3,4,6\n",
    "### Bad: 1,5"
   ]
  },
  {
   "cell_type": "code",
   "execution_count": 1658,
   "metadata": {},
   "outputs": [
    {
     "data": {
      "text/plain": [
       "'Ponce, W. A.'"
      ]
     },
     "execution_count": 1658,
     "metadata": {},
     "output_type": "execute_result"
    }
   ],
   "source": [
    "i=27\n",
    "n=aun[i]\n",
    "n"
   ]
  },
  {
   "cell_type": "code",
   "execution_count": 1659,
   "metadata": {},
   "outputs": [],
   "source": [
    "# if nold:\n",
    "qq=query_json_column(n,df=UDEA_NOT,json_column='authors_WOS',\n",
    "                        choices=wos_author,scorer=fuzz.ratio,score_cutoff=100)"
   ]
  },
  {
   "cell_type": "code",
   "execution_count": 1660,
   "metadata": {},
   "outputs": [
    {
     "data": {
      "text/plain": [
       "RangeIndex(start=0, stop=5, step=1)"
      ]
     },
     "execution_count": 1660,
     "metadata": {},
     "output_type": "execute_result"
    }
   ],
   "source": [
    "qq.index"
   ]
  },
  {
   "cell_type": "code",
   "execution_count": 1661,
   "metadata": {},
   "outputs": [
    {
     "name": "stdout",
     "output_type": "stream",
     "text": [
      "[{'affiliation': ['International Centre for Theoretical Physics, P.O.B. 586, Trieste, I-34100, Italy, Physics Depto., Univ Antioquia, A.A. 1226, Medellin, Colombia'], 'i': 0, 'WOS_author': 'Ponce, W. A.'}]\n",
      "[{'affiliation': ['Physics Department, Univ Antioquia, A.A. 1226, Medellín, Colombia'], 'i': 0, 'WOS_author': 'Ponce, W. A.'}]\n",
      "[{'affiliation': ['Departamento de Física, Univ Antioquia, Medellín, Colombia'], 'i': 0, 'WOS_author': 'Ponce, W. A.'}]\n",
      "[{'affiliation': ['Departamento de Física, Univ Antioquia, Medellín, Colombia'], 'i': 0, 'WOS_author': 'Ponce, W. A.'}]\n",
      "[{'affiliation': ['Departamento de Física, Univ Antioquia, Medellín, Colombia'], 'i': 0, 'WOS_author': 'Ponce, W. A.'}]\n"
     ]
    }
   ],
   "source": [
    "for i in qq.index:\n",
    "    print( [ d for d in qq.loc[i,'authors_WOS'] if n in d.get('WOS_author')] )"
   ]
  },
  {
   "cell_type": "code",
   "execution_count": 1662,
   "metadata": {},
   "outputs": [
    {
     "data": {
      "text/plain": [
       "array(['Zeitschrift für Physik C Particles and Fields',\n",
       "       'Physical Review D'], dtype=object)"
      ]
     },
     "execution_count": 1662,
     "metadata": {},
     "output_type": "execute_result"
    }
   ],
   "source": [
    "qq.SO.unique()"
   ]
  },
  {
   "cell_type": "code",
   "execution_count": 1663,
   "metadata": {},
   "outputs": [
    {
     "data": {
      "text/plain": [
       "(5, 182)"
      ]
     },
     "execution_count": 1663,
     "metadata": {},
     "output_type": "execute_result"
    }
   ],
   "source": [
    "qq.shape"
   ]
  },
  {
   "cell_type": "code",
   "execution_count": 1664,
   "metadata": {},
   "outputs": [
    {
     "data": {
      "text/plain": [
       "WOS_author\n",
       "Ponce, W. A.    1\n",
       "Name: WOS_author, dtype: int64"
      ]
     },
     "execution_count": 1664,
     "metadata": {},
     "output_type": "execute_result"
    }
   ],
   "source": [
    "extract_key(qq[:1],'WOS_author',json_column='authors_WOS')"
   ]
  },
  {
   "cell_type": "code",
   "execution_count": 1665,
   "metadata": {},
   "outputs": [
    {
     "data": {
      "text/plain": [
       "[{'WOS_author': 'Ponce, W. A.',\n",
       "  'affiliation': ['International Centre for Theoretical Physics, P.O.B. 586, Trieste, I-34100, Italy, Physics Depto., Univ Antioquia, A.A. 1226, Medellin, Colombia'],\n",
       "  'i': 0}]"
      ]
     },
     "execution_count": 1665,
     "metadata": {},
     "output_type": "execute_result"
    }
   ],
   "source": [
    "qq.loc[0,'authors_WOS']"
   ]
  },
  {
   "cell_type": "code",
   "execution_count": 1666,
   "metadata": {},
   "outputs": [
    {
     "data": {
      "text/plain": [
       "'Zeitschrift für Physik C Particles and Fields'"
      ]
     },
     "execution_count": 1666,
     "metadata": {},
     "output_type": "execute_result"
    }
   ],
   "source": [
    "qq.loc[0,'SO']"
   ]
  },
  {
   "cell_type": "markdown",
   "metadata": {},
   "source": [
    "## Include SO"
   ]
  },
  {
   "cell_type": "code",
   "execution_count": 1667,
   "metadata": {},
   "outputs": [],
   "source": [
    "aunly=drive_files.read_drive_json('UDEA_authors_with_WOS_info.json').reset_index(drop=True)"
   ]
  },
  {
   "cell_type": "code",
   "execution_count": 1668,
   "metadata": {},
   "outputs": [],
   "source": [
    "def build_institutional_authors(x,author_df,x_author_key='WOS_author',x_affiliation_key='affiliation',\n",
    "                                        author_key='WOS_author',\n",
    "                                        affiliation_key='WOS_affiliation'):\n",
    "    if type(x)!=list:\n",
    "        return None\n",
    "    ll=[]\n",
    "    for j in range(len(x)):\n",
    "        \n",
    "                                #author_WOS→affiliation always have single affiliation\n",
    "        kk=find_author_affiliation(x[j].get(x_author_key),x[j].get(x_affiliation_key)[0],\n",
    "                                        author_df=author_df,\n",
    "                                        author_key=author_key,\n",
    "                                        affiliation_key=affiliation_key,\n",
    "                                        ratio=0.9 )\n",
    "        if kk:\n",
    "            ll.append(kk)\n",
    "    if not ll:\n",
    "        ll=None\n",
    "    return ll"
   ]
  },
  {
   "cell_type": "code",
   "execution_count": 1669,
   "metadata": {},
   "outputs": [],
   "source": [
    "import fuzzywuzzy.process as fwp\n",
    "from fuzzywuzzy import fuzz\n",
    "#UDEA_NOT=UDEA[UDEA['UDEA_authors'].isna()].reset_index(drop=True)\n",
    "df2=aunly.copy()\n",
    "df2=pd.DataFrame( list( df2['UDEA_authors'].values ) )\n",
    "df2['UDEA_authors']=aunly['UDEA_authors']\n",
    "contents=df2[['WOS_author','WOS_affiliation','UDEA_authors']].reset_index(drop=True)\n",
    "contents['WOS_author']=contents['WOS_author']#.astype(str)\n",
    "contents['WOS_affiliation']=contents['WOS_affiliation']#.astype(str)"
   ]
  },
  {
   "cell_type": "markdown",
   "metadata": {},
   "source": [
    "# =============="
   ]
  },
  {
   "cell_type": "code",
   "execution_count": 1748,
   "metadata": {},
   "outputs": [],
   "source": [
    "dfnot=qq#UDEA_NOT.copy()\n",
    "dfnot=dfnot.reset_index(drop=True)"
   ]
  },
  {
   "cell_type": "code",
   "execution_count": 1749,
   "metadata": {},
   "outputs": [],
   "source": [
    "l=dfnot['authors_WOS'].loc[0]\n",
    "so=dfnot['SO'].loc[0]"
   ]
  },
  {
   "cell_type": "code",
   "execution_count": 1776,
   "metadata": {},
   "outputs": [],
   "source": [
    "TEST=True\n",
    "if TEST:\n",
    "    l=[{'WOS_author': 'Ponce, W. A.',\n",
    "        'affiliation': \n",
    "        ['International Centre for Theoretical Physics, P.O.B. 586, Trieste, I-34100, Italy, Physics Depto., Univ Antioquia, A.A. 1226, Medellin, Colombia'],\n",
    "        'i': 0}]  \n",
    "    so='Zeitschrift für Physik C Particles and Fields'"
   ]
  },
  {
   "cell_type": "code",
   "execution_count": 1778,
   "metadata": {},
   "outputs": [
    {
     "data": {
      "text/plain": [
       "[{'WOS_author': 'Ponce, W. A.',\n",
       "  'affiliation': ['International Centre for Theoretical Physics, P.O.B. 586, Trieste, I-34100, Italy, Physics Depto., Univ Antioquia, A.A. 1226, Medellin, Colombia'],\n",
       "  'i': 0}]"
      ]
     },
     "execution_count": 1778,
     "metadata": {},
     "output_type": "execute_result"
    }
   ],
   "source": [
    "l"
   ]
  },
  {
   "cell_type": "code",
   "execution_count": 1779,
   "metadata": {},
   "outputs": [
    {
     "data": {
      "text/plain": [
       "'Zeitschrift für Physik C Particles and Fields'"
      ]
     },
     "execution_count": 1779,
     "metadata": {},
     "output_type": "execute_result"
    }
   ],
   "source": [
    "so"
   ]
  },
  {
   "cell_type": "code",
   "execution_count": 1780,
   "metadata": {},
   "outputs": [],
   "source": [
    "#for i in range(20):\n",
    "#l=dfnot['authors_WOS'].loc[i]\n",
    "#def json_fuzzy_merge(l,UDEA,contents,right_target='UDEA_authors',\n",
    "                       #left_on='WOS_author',extra_left_on='affiliation',\n",
    "                       #right_on='WOS_author',extra_right_on='WOS_affiliation',\n",
    "                       #cutoff=95,cutoff_extra=65,scorer=fuzz.partial_ratio):\n",
    "if True:                \n",
    "    right_target='UDEA_authors'\n",
    "    left_on='WOS_author'\n",
    "    extra_left_on='affiliation'\n",
    "    right_on='WOS_author' \n",
    "    extra_right_on='WOS_affiliation'\n",
    "    extra_extra_right_on='full_name'\n",
    "    SO='SO'\n",
    "    cutoff=92\n",
    "    cutoff_extra=70\n",
    "    scorer=fuzz.token_set_ratio\n",
    "    DEBUG=False\n",
    "    newl=[]\n",
    "    for d in l:\n",
    "        AUTHOR=False\n",
    "        AFFILIATION=False\n",
    "        JOURNAL=True\n",
    "        dfraf=pd.DataFrame()        \n",
    "        au=d.get(left_on)\n",
    "        aff=d.get(extra_left_on)[0]\n",
    "        Q=1\n",
    "        break\n",
    "        # extract best WOS author match\n",
    "        #r=fwp.extractOne(au,contents[right_on],scorer=scorer)\n",
    "        #if r[1]>=cutoff:\n",
    "        #    raf=fwp.extractOne( aff, contents.loc[r[2],extra_right_on],scorer=scorer )\n",
    "            #print(r[1],r[2],raf[1],aff,',',contents.loc[r[2],extra_right_on])\n",
    "            #if raf[1]>=cutoff_extra:\n",
    "            #    newl=newl+[  contents.loc[r[2],right_target]  ]\n",
    "            #else:\n",
    "                #check SO\n",
    "                #newl=newl+[  contents.loc[r[2],right_target]  ]\n",
    "        #break\n",
    "    #if newl:\n",
    "    #    return newl\n",
    "    #else:\n",
    "    #    return None"
   ]
  },
  {
   "cell_type": "code",
   "execution_count": 1781,
   "metadata": {},
   "outputs": [
    {
     "data": {
      "text/plain": [
       "'Ponce, W. A.'"
      ]
     },
     "execution_count": 1781,
     "metadata": {},
     "output_type": "execute_result"
    }
   ],
   "source": [
    "au"
   ]
  },
  {
   "cell_type": "code",
   "execution_count": 1782,
   "metadata": {},
   "outputs": [
    {
     "data": {
      "text/plain": [
       "'International Centre for Theoretical Physics, P.O.B. 586, Trieste, I-34100, Italy, Physics Depto., Univ Antioquia, A.A. 1226, Medellin, Colombia'"
      ]
     },
     "execution_count": 1782,
     "metadata": {},
     "output_type": "execute_result"
    }
   ],
   "source": [
    "aff"
   ]
  },
  {
   "cell_type": "code",
   "execution_count": 1783,
   "metadata": {},
   "outputs": [],
   "source": [
    "if True:\n",
    "        Q=1\n",
    "        # Try match author to a good degree\n",
    "        rau=fwp.extractOne(au,contents[right_on].apply(pd.Series).stack().unique(),scorer=scorer)\n",
    "        if DEBUG: print(1,rau)\n",
    "        if rau[1]>=cutoff:\n",
    "            AUTHOR=True\n",
    "            if DEBUG: print(2,AUTHOR)            "
   ]
  },
  {
   "cell_type": "code",
   "execution_count": 1784,
   "metadata": {},
   "outputs": [
    {
     "data": {
      "text/plain": [
       "('Ponce, William A.', 88)"
      ]
     },
     "execution_count": 1784,
     "metadata": {},
     "output_type": "execute_result"
    }
   ],
   "source": [
    "rau"
   ]
  },
  {
   "cell_type": "code",
   "execution_count": 1785,
   "metadata": {},
   "outputs": [],
   "source": [
    "if True:\n",
    "        #Try match author with less quality: Q\n",
    "        #else:\n",
    "        if rau[1]<cutoff:\n",
    "            rau=fwp.extractOne(au,contents[right_on].apply(pd.Series).stack().unique(),\n",
    "                       scorer=fuzz.partial_token_sort_ratio)\n",
    "            if DEBUG: print(2.1,rau)            \n",
    "            if rau and rau[1]>=cutoff:\n",
    "                Q=Q-0.1\n",
    "                AUTHOR=True            "
   ]
  },
  {
   "cell_type": "code",
   "execution_count": 1786,
   "metadata": {},
   "outputs": [
    {
     "data": {
      "text/plain": [
       "('Ponce, William A.', 100)"
      ]
     },
     "execution_count": 1786,
     "metadata": {},
     "output_type": "execute_result"
    }
   ],
   "source": [
    "rau"
   ]
  },
  {
   "cell_type": "code",
   "execution_count": 1787,
   "metadata": {},
   "outputs": [],
   "source": [
    "if True:\n",
    "        if AUTHOR:\n",
    "            dfraf=contents[contents[right_on].apply( lambda l: rau[0] in l )\n",
    "                                ].reset_index(drop=True)\n",
    "            raf=fwp.extractOne(aff,dfraf[extra_right_on].loc[0],scorer=fuzz.ratio)\n",
    "            if DEBUG: print(3,rau)\n",
    "            if raf and raf[1]>=cutoff_extra:\n",
    "                AFFILIATION=True"
   ]
  },
  {
   "cell_type": "code",
   "execution_count": 1788,
   "metadata": {},
   "outputs": [
    {
     "data": {
      "text/plain": [
       "('Univ Antioquia, Inst Fis, Calle 70 52-21, Medellin, Colombia.', 43)"
      ]
     },
     "execution_count": 1788,
     "metadata": {},
     "output_type": "execute_result"
    }
   ],
   "source": [
    "raf"
   ]
  },
  {
   "cell_type": "code",
   "execution_count": 1789,
   "metadata": {},
   "outputs": [],
   "source": [
    "if True:\n",
    "            #else:\n",
    "            if raf[1]<cutoff_extra:\n",
    "                Q=Q-0.1\n",
    "                raf=fwp.extractOne(aff,dfraf[extra_right_on].loc[0],\n",
    "                                   scorer=fuzz.partial_token_set_ratio)\n",
    "                if raf and raf[1]>=cutoff_extra:\n",
    "                    AFFILIATION=True"
   ]
  },
  {
   "cell_type": "code",
   "execution_count": 1790,
   "metadata": {},
   "outputs": [
    {
     "data": {
      "text/plain": [
       "('Univ Antioquia, Inst Fis, Medellin, Colombia.', 100)"
      ]
     },
     "execution_count": 1790,
     "metadata": {},
     "output_type": "execute_result"
    }
   ],
   "source": [
    "raf"
   ]
  },
  {
   "cell_type": "markdown",
   "metadata": {},
   "source": [
    "# ================"
   ]
  },
  {
   "cell_type": "markdown",
   "metadata": {},
   "source": [
    "Journal:"
   ]
  },
  {
   "cell_type": "code",
   "execution_count": 1791,
   "metadata": {},
   "outputs": [],
   "source": [
    "full_name=dfraf['UDEA_authors'].loc[0].get('full_name')"
   ]
  },
  {
   "cell_type": "code",
   "execution_count": 1792,
   "metadata": {},
   "outputs": [
    {
     "data": {
      "text/plain": [
       "'PONCE GUTIERREZ WILLIAM ANTONIO'"
      ]
     },
     "execution_count": 1792,
     "metadata": {},
     "output_type": "execute_result"
    }
   ],
   "source": [
    "full_name"
   ]
  },
  {
   "cell_type": "code",
   "execution_count": 1793,
   "metadata": {},
   "outputs": [],
   "source": [
    "if True:\n",
    "        if Q<1:\n",
    "            cutoff_so=50\n",
    "            if Q<0.9:\n",
    "                cutoff_so=60\n",
    "            if not dfraf.empty:\n",
    "                full_name=dfraf[right_target].loc[0].get(\n",
    "                        extra_extra_right_on)\n",
    "                if full_name:\n",
    "                    kkk=UDEA[UDEA['UDEA_nombre'].str.contains(full_name)\n",
    "                                ].reset_index(drop=True)\n",
    "                    rso=fwp.extractOne( so,   kkk.SO, scorer=scorer)\n",
    "                    if not rso:\n",
    "                        JOURNAL=False\n",
    "                    elif rso[1]<cutoff_so:\n",
    "                        JOURNAL=False"
   ]
  },
  {
   "cell_type": "code",
   "execution_count": 1794,
   "metadata": {},
   "outputs": [
    {
     "data": {
      "text/plain": [
       "'Zeitschrift für Physik C Particles and Fields'"
      ]
     },
     "execution_count": 1794,
     "metadata": {},
     "output_type": "execute_result"
    }
   ],
   "source": [
    "so"
   ]
  },
  {
   "cell_type": "code",
   "execution_count": 1797,
   "metadata": {},
   "outputs": [
    {
     "data": {
      "text/plain": [
       "0                             REVISTA MEXICANA DE FISICA\n",
       "1    ACTA PHYSICA HUNGARICA NEW SERIES-HEAVY ION PHYSICS\n",
       "Name: SO, dtype: object"
      ]
     },
     "execution_count": 1797,
     "metadata": {},
     "output_type": "execute_result"
    }
   ],
   "source": [
    "kkk.SO[:2]"
   ]
  },
  {
   "cell_type": "code",
   "execution_count": 1798,
   "metadata": {},
   "outputs": [
    {
     "data": {
      "text/plain": [
       "('PARTICLES AND FIELDS, PROCEEDINGS', 77, 2)"
      ]
     },
     "execution_count": 1798,
     "metadata": {},
     "output_type": "execute_result"
    }
   ],
   "source": [
    "rso"
   ]
  },
  {
   "cell_type": "code",
   "execution_count": 1799,
   "metadata": {},
   "outputs": [],
   "source": [
    "if True:            \n",
    "            #else:\n",
    "            if dfraf.empty:\n",
    "                JOURNAL=False"
   ]
  },
  {
   "cell_type": "code",
   "execution_count": 1800,
   "metadata": {},
   "outputs": [
    {
     "data": {
      "text/plain": [
       "True"
      ]
     },
     "execution_count": 1800,
     "metadata": {},
     "output_type": "execute_result"
    }
   ],
   "source": [
    "JOURNAL"
   ]
  },
  {
   "cell_type": "code",
   "execution_count": 1801,
   "metadata": {},
   "outputs": [
    {
     "name": "stdout",
     "output_type": "stream",
     "text": [
      "Ponce, W. A. → PONCE GUTIERREZ WILLIAM ANTONIO\n"
     ]
    }
   ],
   "source": [
    "if True:\n",
    "        if AUTHOR and AFFILIATION and JOURNAL:\n",
    "            newl=newl+[  dfraf.loc[0,right_target]  ]\n",
    "            print('{} → {}'.format(au,full_name) )   "
   ]
  },
  {
   "cell_type": "markdown",
   "metadata": {},
   "source": [
    "Test full function  below"
   ]
  },
  {
   "cell_type": "markdown",
   "metadata": {},
   "source": [
    "# ================"
   ]
  },
  {
   "cell_type": "code",
   "execution_count": 1817,
   "metadata": {},
   "outputs": [],
   "source": [
    "#for i in range(20):\n",
    "#l=dfnot['authors_WOS'].loc[i]\n",
    "#93,70\n",
    "from IPython.display import clear_output\n",
    "def json_fuzzy_merge(l,so,UDEA,contents,right_target='UDEA_authors',\n",
    "                       left_on='WOS_author',extra_left_on='affiliation',\n",
    "                       right_on='WOS_author',extra_right_on='WOS_affiliation',\n",
    "                       extra_extra_right_on='full_name',\n",
    "                       cutoff=93,cutoff_extra=70,scorer=fuzz.token_set_ratio,\n",
    "                       DEBUG=False):\n",
    "    newl=[]\n",
    "    for d in l:\n",
    "        clear_output(wait=True)\n",
    "        AUTHOR=False\n",
    "        AFFILIATION=False\n",
    "        JOURNAL=True\n",
    "\n",
    "        dfraf=pd.DataFrame()\n",
    "        au=d.get(left_on)\n",
    "        aff=d.get(extra_left_on)[0]\n",
    "        Q=1\n",
    "        # Try match author to a good degree\n",
    "        rau=fwp.extractOne(au,contents[right_on].apply(pd.Series).stack().unique(),scorer=scorer)\n",
    "        if DEBUG: print(1,rau)\n",
    "        if rau[1]>=cutoff:\n",
    "            AUTHOR=True\n",
    "        #Try match author with less quality: Q\n",
    "        else:\n",
    "            rau=fwp.extractOne(au,contents[right_on].apply(pd.Series).stack().unique(),\n",
    "                       scorer=fuzz.partial_token_sort_ratio)\n",
    "            if DEBUG: print(1.1,rau)            \n",
    "            if rau and rau[1]>=cutoff:\n",
    "                Q=Q-0.1\n",
    "                AUTHOR=True\n",
    "        if DEBUG: print(1.2,'AUTHOR:',AUTHOR)                            \n",
    "        if AUTHOR:\n",
    "            dfraf=contents[contents[right_on].apply( lambda l: rau[0] in l )\n",
    "                                ].reset_index(drop=True)\n",
    "            raf=fwp.extractOne(aff,dfraf[extra_right_on].loc[0],scorer=fuzz.ratio)\n",
    "            if DEBUG: print(2,raf)\n",
    "            if raf and raf[1]>=cutoff_extra:\n",
    "                AFFILIATION=True\n",
    "            else:\n",
    "                Q=Q-0.1\n",
    "                raf=fwp.extractOne(aff,dfraf[extra_right_on].loc[0],\n",
    "                                   scorer=fuzz.partial_token_set_ratio)\n",
    "                if DEBUG: print(2.1,raf)\n",
    "                if raf and raf[1]>=cutoff_extra:\n",
    "                    AFFILIATION=True\n",
    "\n",
    "        if DEBUG: print(2.2,'AFFILIATION:',AFFILIATION,'Q:',Q)                \n",
    "        if Q<1:\n",
    "            cutoff_so=50\n",
    "            if Q<0.9:\n",
    "                cutoff_so=60\n",
    "            if not dfraf.empty:\n",
    "                full_name=dfraf[right_target].loc[0].get(\n",
    "                        extra_extra_right_on)\n",
    "                if full_name:\n",
    "                    kkk=UDEA[UDEA['UDEA_nombre'].str.contains(full_name)\n",
    "                                ].reset_index(drop=True)\n",
    "                    rso=fwp.extractOne( so,   kkk.SO, scorer=scorer)\n",
    "                    if not rso:\n",
    "                        JOURNAL=False\n",
    "                    elif rso[1]<cutoff_so:\n",
    "                        JOURNAL=False\n",
    "            else:\n",
    "                JOURNAL=False\n",
    "        if DEBUG: print(3,'JOURNAL',JOURNAL)                \n",
    "        if AUTHOR and AFFILIATION and JOURNAL:\n",
    "            newl=newl+[  dfraf.loc[0,right_target]  ]\n",
    "            print('{} → {}'.format(au,full_name) ) \n",
    "    if newl:\n",
    "        return newl\n",
    "    else:\n",
    "        return None"
   ]
  },
  {
   "cell_type": "code",
   "execution_count": 1818,
   "metadata": {},
   "outputs": [
    {
     "name": "stdout",
     "output_type": "stream",
     "text": [
      "1 ('Ponce, William A.', 88)\n",
      "1.1 ('Ponce, William A.', 100)\n",
      "1.2 AUTHOR: True\n",
      "2 ('Univ Antioquia, Inst Fis, Calle 70 52-21, Medellin, Colombia.', 43)\n",
      "2.1 ('Univ Antioquia, Inst Fis, Medellin, Colombia.', 100)\n",
      "2.2 AFFILIATION: True Q: 0.8\n",
      "3 JOURNAL True\n",
      "Ponce, W. A. → PONCE GUTIERREZ WILLIAM ANTONIO\n"
     ]
    }
   ],
   "source": [
    "dfraf=json_fuzzy_merge(l,so,UDEA,contents,DEBUG=True)"
   ]
  },
  {
   "cell_type": "code",
   "execution_count": null,
   "metadata": {},
   "outputs": [],
   "source": [
    "%time kk=UDEA_NOT['authors_WOS'].combine('SO',func=lambda l,so: json_fuzzy_merge(l,UDEA,so,contents) if type(l)==list else None)"
   ]
  },
  {
   "cell_type": "code",
   "execution_count": 1599,
   "metadata": {},
   "outputs": [
    {
     "data": {
      "text/plain": [
       "(577,)"
      ]
     },
     "execution_count": 1599,
     "metadata": {},
     "output_type": "execute_result"
    }
   ],
   "source": [
    "kk.dropna().shape"
   ]
  },
  {
   "cell_type": "code",
   "execution_count": 1600,
   "metadata": {},
   "outputs": [],
   "source": [
    "qq=UDEA_NOT.reset_index(drop=True)\n",
    "qq['UDEA_authors']=kk"
   ]
  },
  {
   "cell_type": "code",
   "execution_count": 1602,
   "metadata": {},
   "outputs": [],
   "source": [
    "#qq[['authors_WOS','UDEA_authors']]"
   ]
  },
  {
   "cell_type": "code",
   "execution_count": 1608,
   "metadata": {},
   "outputs": [
    {
     "data": {
      "text/plain": [
       "15700"
      ]
     },
     "execution_count": 1608,
     "metadata": {},
     "output_type": "execute_result"
    }
   ],
   "source": [
    "UDEA_NOT.shape[0]+UDEA_YES.shape[0]"
   ]
  },
  {
   "cell_type": "code",
   "execution_count": 1610,
   "metadata": {},
   "outputs": [
    {
     "data": {
      "text/plain": [
       "(577,)"
      ]
     },
     "execution_count": 1610,
     "metadata": {},
     "output_type": "execute_result"
    }
   ],
   "source": [
    "qq['UDEA_authors'].dropna().shape"
   ]
  },
  {
   "cell_type": "code",
   "execution_count": 1613,
   "metadata": {},
   "outputs": [],
   "source": [
    "qq=qq.fillna('')"
   ]
  },
  {
   "cell_type": "code",
   "execution_count": 1615,
   "metadata": {},
   "outputs": [],
   "source": [
    "UDEA_NOT=qq.reset_index(drop=True)\n",
    "UDEA=UDEA_YES.append(UDEA_NOT,sort=False).reset_index(drop=True)"
   ]
  },
  {
   "cell_type": "code",
   "execution_count": null,
   "metadata": {},
   "outputs": [],
   "source": []
  }
 ],
 "metadata": {
  "colab": {
   "include_colab_link": true,
   "name": "merge.ipynb",
   "provenance": [],
   "version": "0.3.2"
  },
  "kernelspec": {
   "display_name": "Python 3",
   "language": "python",
   "name": "python3"
  },
  "language_info": {
   "codemirror_mode": {
    "name": "ipython",
    "version": 3
   },
   "file_extension": ".py",
   "mimetype": "text/x-python",
   "name": "python",
   "nbconvert_exporter": "python",
   "pygments_lexer": "ipython3",
   "version": "3.5.3"
  },
  "latex_envs": {
   "LaTeX_envs_menu_present": true,
   "autoclose": false,
   "autocomplete": true,
   "bibliofile": "biblio.bib",
   "cite_by": "apalike",
   "current_citInitial": 1,
   "eqLabelWithNumbers": true,
   "eqNumInitial": 1,
   "hotkeys": {
    "equation": "Ctrl-E",
    "itemize": "Ctrl-I"
   },
   "labels_anchors": false,
   "latex_user_defs": false,
   "report_style_numbering": false,
   "user_envs_cfg": false
  }
 },
 "nbformat": 4,
 "nbformat_minor": 2
}
