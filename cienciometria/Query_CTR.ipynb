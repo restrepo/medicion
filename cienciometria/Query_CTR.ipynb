{
 "cells": [
  {
   "cell_type": "markdown",
   "metadata": {
    "colab_type": "text",
    "id": "view-in-github"
   },
   "source": [
    "<a href=\"https://colab.research.google.com/github/restrepo/medicion/blob/master/cienciometria/Query_CTR.ipynb\" target=\"_parent\"><img src=\"https://colab.research.google.com/assets/colab-badge.svg\" alt=\"Open In Colab\"/></a>"
   ]
  },
  {
   "cell_type": "markdown",
   "metadata": {
    "colab_type": "text",
    "id": "aDnqho-CsEwj"
   },
   "source": [
    "# Búsquedas WOS+SCI+SCP+PTJ+CTR para UdeA"
   ]
  },
  {
   "cell_type": "markdown",
   "metadata": {},
   "source": [
    "Búsquedas en bases bibligráficas  \n",
    "* Web of Science (WOS), \n",
    "* Scielo (SCI)\n",
    "* Scopus  (SCP)\n",
    "* Puntaje (UDEA)\n",
    "* Center (CTR)\n",
    "de los artículos científicos de la UdeA\n",
    "\n",
    "La base de datos se creó con:\n",
    "\n",
    "[WOS_SCI_SCP_PTJ_CTR.ipynb](./WOS_SCI_SCP_PTJ_CTR.ipynb)"
   ]
  },
  {
   "cell_type": "code",
   "execution_count": 1,
   "metadata": {},
   "outputs": [],
   "source": [
    "import os\n",
    "VERSION='NEW'\n",
    "if os.getcwd()=='/content':\n",
    "    !pip install openpyxl xlrd wosplus fuzzywuzzy[speedup] > /dev/null"
   ]
  },
  {
   "cell_type": "markdown",
   "metadata": {},
   "source": [
    "## functions"
   ]
  },
  {
   "cell_type": "code",
   "execution_count": 2,
   "metadata": {
    "colab": {},
    "colab_type": "code",
    "id": "nhk2ZGEDd2Yo"
   },
   "outputs": [],
   "source": [
    "import pandas as pd\n",
    "import wosplus as wp\n",
    "pd.set_option('display.max_colwidth',200)\n",
    "from venn import draw_venn, generate_colors\n",
    "import numpy as np\n",
    "import fuzzywuzzy.process as fwp\n",
    "from fuzzywuzzy import fuzz\n",
    "idc='CÉDULA'"
   ]
  },
  {
   "cell_type": "markdown",
   "metadata": {
    "colab_type": "text",
    "heading_collapsed": true,
    "id": "JS7jD1f47JUN"
   },
   "source": [
    "##  Configure public links of  files in Google Drive\n",
    "* If it is a Google Spreadsheet the corresponding file is downloaded as CSV\n",
    "* If it is in excel/json or text file the file is downloaded  directly\n",
    "\n",
    "To define your  own labeled IDs for public google drive files edit the next cell:"
   ]
  },
  {
   "cell_type": "code",
   "execution_count": 3,
   "metadata": {
    "colab": {
     "base_uri": "https://localhost:8080/",
     "height": 35
    },
    "colab_type": "code",
    "hidden": true,
    "id": "T4Rmd2dF7JUQ",
    "outputId": "39a5835e-1b38-48b6-f1a5-e9964c846123"
   },
   "outputs": [
    {
     "name": "stdout",
     "output_type": "stream",
     "text": [
      "Overwriting drive.cfg\n"
     ]
    }
   ],
   "source": [
    "%%writefile drive.cfg\n",
    "[FILES]\n",
    "WOS_SCI_SCP_PTJ_CTR.json.gz=19E1C1kRk4I0V3uXojqko8-NEicWaPp1j"
   ]
  },
  {
   "cell_type": "markdown",
   "metadata": {
    "colab_type": "text",
    "id": "Y0D0hEdAMXUX"
   },
   "source": [
    "##  Load data bases"
   ]
  },
  {
   "cell_type": "code",
   "execution_count": 4,
   "metadata": {
    "colab": {
     "base_uri": "https://localhost:8080/",
     "height": 35
    },
    "colab_type": "code",
    "id": "occzrIeCS7aQ",
    "outputId": "17b144f3-eef0-4c8a-c2b4-10c8fe55802c"
   },
   "outputs": [],
   "source": [
    "affil='Univ Antioquia'\n",
    "drive_files=wp.wosplus('drive.cfg')"
   ]
  },
  {
   "cell_type": "code",
   "execution_count": 5,
   "metadata": {},
   "outputs": [
    {
     "name": "stdout",
     "output_type": "stream",
     "text": [
      "WARNING: Biblio already has a \"Tipo\" column\n"
     ]
    }
   ],
   "source": [
    "UDEAjsonfile='WOS_SCI_SCP_PTJ_CTR.json.gz'\n",
    "tmp=drive_files.load_biblio(UDEAjsonfile,compression='gzip')\n",
    "UDEA=drive_files.biblio['WOS'].copy().reset_index(drop=True)"
   ]
  },
  {
   "cell_type": "code",
   "execution_count": 6,
   "metadata": {},
   "outputs": [],
   "source": [
    "#from check_quality import *\n",
    "#check_quality(UDEA)"
   ]
  },
  {
   "cell_type": "markdown",
   "metadata": {},
   "source": [
    "## Indices:\n",
    "Información obtenida de la columna: `json_column='UDEA_authors'`"
   ]
  },
  {
   "cell_type": "code",
   "execution_count": 7,
   "metadata": {},
   "outputs": [],
   "source": [
    "json_column='UDEA_authors'"
   ]
  },
  {
   "cell_type": "markdown",
   "metadata": {},
   "source": [
    "Que contiene listas de diccionarios con la información del autor UDEA: \n",
    "\n",
    "`{'DEPARTAMENTO': 'Instituto de Biología',\n",
    "  'FACULTAD': 'Facultad de Ciencias Exactas y Naturales',\n",
    "  'GRUPO': 'Sin Grupo Asociado',\n",
    "  'INICIALES': 'I.',\n",
    "  'NOMBRE COMPLETO': 'Idalyd Fonseca Gonzalez',\n",
    "  'NOMBRES': 'Idalyd',\n",
    "  'PRIMER APELLIDO': 'Fonseca',\n",
    "  'SEGUNDO APELLIDO': 'Gonzalez',\n",
    "  'WOS_affiliation': ['Univ Antioquia, Colombia.'],\n",
    "  'WOS_author': ['FONSECA, IDALYD',\n",
    "   'FONSECA-GONZALEZ, IDALYD',\n",
    "   'Fonseca-Gonzalez, Idalyd',\n",
    "   'Fonseca-Gonzalez, I.'],\n",
    "  'full_name': 'FONSECA GONZALEZ IDALYD'}`"
   ]
  },
  {
   "cell_type": "markdown",
   "metadata": {},
   "source": [
    "Otras columnas: `['OA','Z9'*,SCP_Cited by']`, `*`: WOS cited by\n",
    "\n",
    "Ver también [WOS field tags](https://images.webofknowledge.com/images/help/WOS/hs_wos_fieldtags.html)"
   ]
  },
  {
   "cell_type": "markdown",
   "metadata": {},
   "source": [
    "# Resultados totales"
   ]
  },
  {
   "cell_type": "markdown",
   "metadata": {},
   "source": [
    "Artículos no identificados:"
   ]
  },
  {
   "cell_type": "code",
   "execution_count": 106,
   "metadata": {},
   "outputs": [
    {
     "data": {
      "text/plain": [
       "3387"
      ]
     },
     "execution_count": 106,
     "metadata": {},
     "output_type": "execute_result"
    }
   ],
   "source": [
    "UDEA_NOT=UDEA[UDEA[json_column]==''].reset_index(drop=True)\n",
    "UDEA_NOT.shape[0]"
   ]
  },
  {
   "cell_type": "markdown",
   "metadata": {},
   "source": [
    "Artículos identificados"
   ]
  },
  {
   "cell_type": "code",
   "execution_count": 107,
   "metadata": {},
   "outputs": [
    {
     "data": {
      "text/plain": [
       "12313"
      ]
     },
     "execution_count": 107,
     "metadata": {},
     "output_type": "execute_result"
    }
   ],
   "source": [
    "UDEA_YES=UDEA[UDEA[json_column]!=''].reset_index(drop=True)\n",
    "UDEA_YES.shape[0]"
   ]
  },
  {
   "cell_type": "markdown",
   "metadata": {},
   "source": [
    "### Análisis sobre artículos identificados"
   ]
  },
  {
   "cell_type": "code",
   "execution_count": 108,
   "metadata": {},
   "outputs": [],
   "source": [
    "def flatten_if_nested(l):\n",
    "    flatten=False\n",
    "    for i in l:\n",
    "        if type(i)==list:\n",
    "            #return i\n",
    "            flatten=True\n",
    "    if flatten:\n",
    "        l=[item for sublist in l for item in sublist]\n",
    "        l=pd.np.array(l)\n",
    "    return l\n",
    "def extract_key(df,key,json_column='UDEA_authors'):\n",
    "    '''\n",
    "    Extract all the unique key values of the list of dictionaries in \n",
    "    a json column when the key value is a string or another list\n",
    "    '''\n",
    "    ll=df[json_column].apply(lambda l: np.unique([ d.get(key) for d in l \n",
    "                                if d.get(key) ]) if type(l)==list else l)\n",
    "    if ll.str[0].apply(lambda l: l if type(l)==list else None).dropna().shape[0]:\n",
    "        ll=ll.apply(flatten_if_nested)\n",
    "    ll=ll.apply(pd.Series).stack().values\n",
    "    return pd.DataFrame( {key:list(ll)} ).groupby(key)[key].count().sort_values(ascending=False)"
   ]
  },
  {
   "cell_type": "code",
   "execution_count": 109,
   "metadata": {
    "scrolled": true
   },
   "outputs": [
    {
     "data": {
      "text/plain": [
       "FACULTAD\n",
       "Facultad de Medicina                        3313\n",
       "Facultad de Ciencias Exactas y Naturales    2327\n",
       "Facultad de Ingeniería                      1885\n",
       "Facultad de Ciencias Agrarias                693\n",
       "Facultad de Ciencias Sociales y Humanas      225\n",
       "Facultad de Artes                             15\n",
       "Name: FACULTAD, dtype: int64"
      ]
     },
     "execution_count": 109,
     "metadata": {},
     "output_type": "execute_result"
    }
   ],
   "source": [
    "extract_key(UDEA_YES,'FACULTAD')"
   ]
  },
  {
   "cell_type": "code",
   "execution_count": 110,
   "metadata": {},
   "outputs": [
    {
     "data": {
      "text/plain": [
       "DEPARTAMENTO\n",
       "Departamento de Microbiología y Parasitología                   947\n",
       "Instituto de Física                                             884\n",
       "Instituto de Investigaciones Médicas                            771\n",
       "Departamento de Medicina Interna                                689\n",
       "Instituto de Biología                                           671\n",
       "Instituto de Química                                            667\n",
       "Departamento de  Producción Agropecuaria                        429\n",
       "Departamento de Pediatría y Puericultura                        409\n",
       "Departamento de Ingeniería Metalúrgica                          357\n",
       "Departamento de Ingeniería Sanitaria  y Ambiental               333\n",
       "Escuela de Medicina Veterinaria                                 319\n",
       "Departamento de Ingeniería Quimica                              289\n",
       "Departamento de Ingeniería Mecánica                             288\n",
       "Departamento de Cirugía                                         223\n",
       "Departamento de Fisiología                                      191\n",
       "Departamento de Siquiatría y Ciencias del Comportamiento Hum    181\n",
       "Departamento de Ingeniería Electrónica                          180\n",
       "Departamento de Ingeniería Eléctrica                            149\n",
       "Programa Bioingeniería                                          145\n",
       "Departamento de Matemáticas                                     142\n",
       "Programa Ingeniería de Telecomunicaciones                        98\n",
       "Departamento de Ingeniería de Sistemas                           93\n",
       "Departamento de Obstetricia y Ginecología                        92\n",
       "Departamento de Patología                                        88\n",
       "Departamento de Sicología                                        76\n",
       "Departamento de Antropología                                     71\n",
       "Departamento de Ingeniería Industrial                            67\n",
       "Departamento de Farmacología y Toxicología                       55\n",
       "Departamento de Sociología                                       45\n",
       "Departamento de Medicina Preventiva y Salud Pública              43\n",
       "Departamento de Radiología y Radioterapia                        43\n",
       "Departamento de Educación Médica                                 37\n",
       "Departamento de Bioquímica                                       28\n",
       "Departamento de Historia                                         25\n",
       "Programa Ingeniería Civil                                        21\n",
       "Departamento de Morfología                                       16\n",
       "Departamento de Medicina Física y Rehabilitación                 14\n",
       "Departamento de Trabajo Social                                    9\n",
       "Departamento de Música                                            7\n",
       "Departamento de Artes Visuales                                    6\n",
       "Departamento de Teatro                                            2\n",
       "Departamento de Psicoanálisis                                     1\n",
       "Name: DEPARTAMENTO, dtype: int64"
      ]
     },
     "execution_count": 110,
     "metadata": {},
     "output_type": "execute_result"
    }
   ],
   "source": [
    "extract_key(UDEA_YES,'DEPARTAMENTO')"
   ]
  },
  {
   "cell_type": "code",
   "execution_count": 112,
   "metadata": {},
   "outputs": [
    {
     "data": {
      "text/plain": [
       "GRUPO\n",
       "Sin Grupo Asociado                                                                                                                                                                                450\n",
       "Grupo de Materia Condensada-UdeA                                                                                                                                                                  261\n",
       "Inmunovirología                                                                                                                                                                                   246\n",
       "Centro de Investigación, Innovación y Desarrollo de Materiales - CIDEMAT - Anteriormente: Grupo de Corrosión y Protección                                                                         244\n",
       "Programa de Estudio y Control de Enfermedades Tropicales                                                                                                                                          234\n",
       "Grupo de Manejo Eficiente de la Energía, GIMEL                                                                                                                                                    225\n",
       "Grupo de Neurociencias de Antioquia                                                                                                                                                               222\n",
       "Grupo de Investigación en Ciencias Agrarias -GRICA-                                                                                                                                               211\n",
       "Inmunodeficiencias Primarias                                                                                                                                                                      190\n",
       "Grupo de Investigación en Psiquiatría GIPSI                                                                                                                                                       165\n",
       "Sistemas Embebidos e Inteligencia Computacional - SISTEMIC                                                                                                                                        160\n",
       "Genética Molecular (GENMOL)                                                                                                                                                                       145\n",
       "Química de Recursos Energéticos y Medio Ambiente                                                                                                                                                  142\n",
       "Grupo de Investigación en Telecomunicaciones Aplicadas - GITA                                                                                                                                     139\n",
       "Grupo de Gastrohepatología                                                                                                                                                                        139\n",
       "Grupo Reproducción, Grupo de Investigación en Trombosis                                                                                                                                           135\n",
       "Grupo de Inmunología Celular e Inmunogenética                                                                                                                                                     132\n",
       "Grupo Académico de Epidemiología Clínica                                                                                                                                                          129\n",
       "GAMMA: Genética, Mejoramiento y Modelación Animal                                                                                                                                                 128\n",
       "Grupo de Investigación Clínica en Enfermedades del Niño y del Adolescente - Pediaciencias                                                                                                         127\n",
       "Biogénesis                                                                                                                                                                                        122\n",
       "Salud y Comunidad                                                                                                                                                                                 121\n",
       "Grupo de Investigación en Patobiología -  QUIRÓN                                                                                                                                                  120\n",
       "Diagnóstico y Control de la Contaminación                                                                                                                                                         119\n",
       "Ciencia de los Materiales                                                                                                                                                                         110\n",
       "Procesos Químicos Industriales, Bioprocesos                                                                                                                                                       104\n",
       "Grupo de Ingeniería y Gestión Ambiental GIGA                                                                                                                                                      104\n",
       "Grupo Malaria                                                                                                                                                                                      97\n",
       "Grupo de Optica y Fotónica                                                                                                                                                                         97\n",
       "Trauma y Cirugía                                                                                                                                                                                   87\n",
       "                                                                                                                                                                                                 ... \n",
       "Álgebra, Teoría de Números y Aplicaciones: ERM, Álgebra U de A                                                                                                                                      3\n",
       "Teoría y Simulación Numérica de Procesos Fisicoquímicos                                                                                                                                             3\n",
       "Grupo Neuropsicología y Conducta                                                                                                                                                                    3\n",
       "Grupo de Investigación EDUSALUD, Informed                                                                                                                                                           3\n",
       "Grupo de Investigación Psicología, Sociedad y Subjetividades., Cultura, Violencia y Territorio                                                                                                      2\n",
       "Métodos Estocásticos                                                                                                                                                                                2\n",
       "GISMAC. Grupo de Investigación en Sistemas Marinos y Costeros, ELICE-Ecología Lótica: Islas, Costas y Estuarios                                                                                     2\n",
       "Grupo de Investigación en Intervención Social, Grupo de Investigación Medio Ambiente y Sociedad                                                                                                     2\n",
       "Simulación de Comportamientos de Sistemas (SICOSIS), GEPAR                                                                                                                                          2\n",
       "Centro de de Investigaciones Dermatologicas                                                                                                                                                         2\n",
       "Grupo de Investigación en Medicina Interna GIMI IPS UdeA                                                                                                                                            2\n",
       "Grupo de Investigación en Sistemas Agroambientales Sostenibles, Grupo de Investigación en Ciencias Agrarias -GRICA-                                                                                 2\n",
       "Cultura, Política y Desarrollo Social                                                                                                                                                               2\n",
       "Teoría e Historia del Arte en Colombia                                                                                                                                                              2\n",
       "Fisica Industrial y de la Radiacion                                                                                                                                                                 2\n",
       "Hipertrópico: Convergencia entre Arte y Tecnología                                                                                                                                                  2\n",
       "Simulación de Comportamientos de Sistemas (SICOSIS), Ludens                                                                                                                                         1\n",
       "Historia de la Práctica Pedagógica en Colombia                                                                                                                                                      1\n",
       "Psicoanálisis, Sujeto y Sociedad                                                                                                                                                                    1\n",
       "NEDITRA - Grupo de investigación en nefrología, diálisis y trasplante                                                                                                                               1\n",
       "Metodología de la Enseñanza de la Química                                                                                                                                                           1\n",
       "MORFOTECH                                                                                                                                                                                           1\n",
       "MODELACION CON ECUACIONES DIFERENCIALES                                                                                                                                                             1\n",
       "Cultura, Violencia y Territorio                                                                                                                                                                     1\n",
       "Ingeniería y Software , Grupo de Investigación en Telecomunicaciones Aplicadas - GITA, Ingeniería y Tecnologías de las Organizaciones y de la Sociedad (ITOS), Biotecnología Básica y Aplicada      1\n",
       "Historia Moderna y Contemporánea                                                                                                                                                                    1\n",
       "GISMAC. Grupo de Investigación en Sistemas Marinos y Costeros                                                                                                                                       1\n",
       "Grupo de Energia Alternativa,                                                                                                                                                                       1\n",
       "Grupo de Artes Performativas                                                                                                                                                                        1\n",
       "Ártes escénicas y del espectáculo                                                                                                                                                                   1\n",
       "Name: GRUPO, Length: 259, dtype: int64"
      ]
     },
     "execution_count": 112,
     "metadata": {},
     "output_type": "execute_result"
    }
   ],
   "source": [
    "extract_key(UDEA_YES,'GRUPO')"
   ]
  },
  {
   "cell_type": "code",
   "execution_count": 113,
   "metadata": {},
   "outputs": [
    {
     "data": {
      "text/plain": [
       "full_name\n",
       "DUQUE ECHEVERRI CARLOS ALBERTO            261\n",
       "VELEZ BERNAL IVAN DARIO                   126\n",
       "CERON MUÑOZ MARIO FERNANDO                126\n",
       "BEDOYA BERRIO GABRIEL DE JESUS            125\n",
       "LOPERA RESTREPO FRANCISCO JAVIER          122\n",
       "JAIMES BARRAGAN FABIAN ALBERTO            119\n",
       "RUGELES LOPEZ MARIA TERESA                118\n",
       "PEÑUELA MESA GUSTAVO ANTONIO              115\n",
       "CARMONA FONSECA JAIME DE JESUS            114\n",
       "OLIVERA ANGEL MARTHA EUFEMIA              102\n",
       "AMARILES MUÑOZ PEDRO JOSE                  97\n",
       "RESTREPO BETANCUR LUIS FERNANDO            95\n",
       "ROBLEDO RESTREPO SARA MARIA                94\n",
       "RIOS LUIS ALBERTO                          94\n",
       "CARDONA MAYA WALTER DARIO                  94\n",
       "CARDONA ARIAS JAIBERTH ANTONIO             93\n",
       "CADAVID JARAMILLO ANGELA PATRICIA          87\n",
       "ARDILA MEDINA CARLOS MARTIN                87\n",
       "MORALES ARAMBURO ALVARO LUIS               86\n",
       "BLAIR TRUJILLO SILVIA VICTORIA             85\n",
       "MONDRAGON PEREZ FANOR                      84\n",
       "CORNEJO OCHOA JOSE WILLIAM                 79\n",
       "AGUDELO SUAREZ ANDRES ALONSO               77\n",
       "TRIANA CHAVEZ OMAR                         76\n",
       "LOPEZ OSORIO BETTY LUCY                    75\n",
       "GARCIA MORENO LUIS FERNANDO                75\n",
       "LOPEZ JARAMILLO CARLOS ALBERTO             74\n",
       "RESTREPO VASQUEZ GLORIA MARIA              74\n",
       "CALDERON GUTIERREZ JORGE ANDRES            73\n",
       "RESTREPO COSSIO ALBEIRO ALONSO             70\n",
       "                                         ... \n",
       "ESCOBAR VASCO JOSE PABLO                    1\n",
       "PEREZ PAREJA SANDRA PATRICIA                1\n",
       "DUQUE NOREÑA MARIO ALBERTO                  1\n",
       "DA SILVEIRA ARRUDA NATALIA                  1\n",
       "QUIROZ CARVAJAL JORGE ALONSO                1\n",
       "DE LA CUESTA BENJUMEA MARIA DEL CARMEN      1\n",
       "DE LOS RIOS DE LOS RIOS ALFREDO             1\n",
       "LOPEZ CAMACHO ROSA VIRGINIA                 1\n",
       "QUICENO CUARTAS PAULA ANDREA                1\n",
       "DIAZ POSADA RODRIGO IGNACIO                 1\n",
       "PULGARIN TORRES ANGELA MARIA                1\n",
       "POSADA URIBE LORD LARRY                     1\n",
       "POSADA PAOLA ANDREA                         1\n",
       "POSADA DUQUE RAFAEL ANDRES                  1\n",
       "POPPEL HUBERT                               1\n",
       "PLATA CONTRERAS JESUS ALBERTO               1\n",
       "ESCOBAR RESTREPO MARIA CECILIA              1\n",
       "DUQUE ROLDAN MARIA ISABEL                   1\n",
       "ECHEVERRI ECHEVERRI DIEGO MAURICIO          1\n",
       "ECHEVERRI RESTREPO CRUZANA AMPARO           1\n",
       "ECHEVERRI ZULUAGA JONATHAN                  1\n",
       "PIEDRAHITA HINCAPIE ALEJANDRO               1\n",
       "PIEDRAHITA ARCILA IRENE                     1\n",
       "PIAZZINI SUAREZ CARLO EMILIO                1\n",
       "ESCOBAR CIRO CARMEN LILIANA                 1\n",
       "ESCOBAR DE VILLALOBOS MARTHA LUCIA          1\n",
       "ESCOBAR ESCOBAR JUAN CARLOS                 1\n",
       "ESCOBAR MARTINEZ JOHN FERNANDO              1\n",
       "PEREZ SANCHEZ JUAN MANUEL                   1\n",
       "DE LOS RIOS OSORIO JESUS                    1\n",
       "Name: full_name, Length: 1727, dtype: int64"
      ]
     },
     "execution_count": 113,
     "metadata": {},
     "output_type": "execute_result"
    }
   ],
   "source": [
    "extract_key(UDEA_YES,'full_name')"
   ]
  },
  {
   "cell_type": "markdown",
   "metadata": {},
   "source": [
    "# Búsquedas"
   ]
  },
  {
   "cell_type": "code",
   "execution_count": 114,
   "metadata": {},
   "outputs": [],
   "source": [
    "def extract_key_unique(*args,**kwargs):\n",
    "    keys=extract_key(*args,**kwargs).keys()\n",
    "    return [ k for k in keys if k]\n",
    "\n",
    "def get_groups(l,g):\n",
    "    for d in l:\n",
    "        gt=d.get('GRUPO')\n",
    "        if gt and type( gt )==str:\n",
    "            gs=gt.replace(\n",
    "                ', Grupo','; Grupo'\n",
    "            ).split('; ')\n",
    "            for gg in gs:\n",
    "                if gg not in g:\n",
    "                    g.append(gg)\n",
    "    return g\n",
    "\n",
    "facultades={'key':'FACULTAD',\n",
    "            'values' : extract_key_unique(UDEA,'FACULTAD',json_column='UDEA_authors') }\n",
    "departamentos={'key':'DEPARTAMENTO',\n",
    "            'values' :extract_key_unique(UDEA,'DEPARTAMENTO',json_column='UDEA_authors')}\n",
    "nombre_completo={'key'    : 'NOMBRE COMPLETO',\n",
    "            'values' : extract_key_unique(UDEA,'NOMBRE COMPLETO',json_column='UDEA_authors')}\n",
    "full_name={'key'    : 'full_name',\n",
    "            'values' : extract_key_unique(UDEA,'full_name',json_column='UDEA_authors')}\n",
    "udea_affiliations={'key'    : 'WOS_affiliation',\n",
    "            'values' : extract_key_unique(UDEA,'WOS_affiliation',json_column='UDEA_authors')}\n",
    "wos_affiliations={'key'    : 'affiliation',\n",
    "            'values' : extract_key_unique(UDEA,'WOS_affiliation',json_column='authors_WOS')}\n",
    "udea_author={'key'    : 'WOS_author',\n",
    "            'values' : extract_key_unique(UDEA,'WOS_author',json_column='UDEA_authors')}\n",
    "wos_author={'key'    : 'WOS_author',\n",
    "            'values' : extract_key_unique(UDEA,'WOS_author',json_column='authors_WOS')}\n",
    "\n",
    "\n",
    "#.apply(....) is a loop!\n",
    "g=[]\n",
    "#append to g\n",
    "tmp=UDEA.UDEA_authors.apply(lambda l: \n",
    "                        get_groups(l,g)\n",
    "        if type(l)==list else None\n",
    "                        )\n",
    "grupos={'key':'GRUPO',\n",
    "            'values' :g}\n"
   ]
  },
  {
   "cell_type": "markdown",
   "metadata": {},
   "source": [
    "## Función de búsqueda"
   ]
  },
  {
   "cell_type": "markdown",
   "metadata": {},
   "source": [
    "For value string or list of each dictionary within a list of dictionaries, like the column 'UDEA_authors' in `UDEA` DataFrame"
   ]
  },
  {
   "cell_type": "code",
   "execution_count": 115,
   "metadata": {},
   "outputs": [],
   "source": [
    "def query_json_column(q,df=UDEA,json_column='UDEA_authors',\n",
    "                        choices=nombre_completo,scorer=fuzz.partial_token_sort_ratio,score_cutoff=0):\n",
    "    #Found best exact match from index\n",
    "    fchoices=fwp.extractOne(q,choices['values'],scorer=scorer,score_cutoff=score_cutoff)\n",
    "    # Exact search in indexed subcolumn converted to strins (e.g list → string if necessary)\n",
    "    if fchoices:\n",
    "        fchoices=fchoices[0]\n",
    "        dfF=df[df[json_column].apply(lambda l: True in [ str(d.get(choices['key'])).find(fchoices)>-1 \n",
    "                                        for d in l if d.get(choices['key'])] if type(l)==list else False)]\n",
    "        return dfF.reset_index(drop=True)\n",
    "    else:\n",
    "        return pd.DataFrame()"
   ]
  },
  {
   "cell_type": "markdown",
   "metadata": {},
   "source": [
    "### Autor"
   ]
  },
  {
   "cell_type": "code",
   "execution_count": 116,
   "metadata": {},
   "outputs": [],
   "source": [
    "r=query_json_column('Diego Alejandro Restrepo Quintero',df=UDEA,json_column='UDEA_authors',\n",
    "                        choices=nombre_completo,scorer=fuzz.partial_token_sort_ratio,score_cutoff=79)"
   ]
  },
  {
   "cell_type": "code",
   "execution_count": 117,
   "metadata": {},
   "outputs": [
    {
     "data": {
      "text/plain": [
       "(37, 181)"
      ]
     },
     "execution_count": 117,
     "metadata": {},
     "output_type": "execute_result"
    }
   ],
   "source": [
    "r.shape"
   ]
  },
  {
   "cell_type": "code",
   "execution_count": 118,
   "metadata": {},
   "outputs": [],
   "source": [
    "#r[['TI','AU','authors_WOS',json_column]].reset_index(drop=True)[5:7]"
   ]
  },
  {
   "cell_type": "markdown",
   "metadata": {},
   "source": [
    "## Grupos"
   ]
  },
  {
   "cell_type": "markdown",
   "metadata": {},
   "source": [
    "Ejemplo"
   ]
  },
  {
   "cell_type": "code",
   "execution_count": 119,
   "metadata": {},
   "outputs": [],
   "source": [
    "r=query_json_column('Grupo de Fenomenología de Interacciones Fundamentales',df=UDEA,json_column='UDEA_authors',\n",
    "                        choices=grupos,scorer=fuzz.partial_token_sort_ratio,score_cutoff=79)"
   ]
  },
  {
   "cell_type": "code",
   "execution_count": 120,
   "metadata": {},
   "outputs": [
    {
     "data": {
      "text/plain": [
       "(89, 181)"
      ]
     },
     "execution_count": 120,
     "metadata": {},
     "output_type": "execute_result"
    }
   ],
   "source": [
    "r.shape"
   ]
  },
  {
   "cell_type": "markdown",
   "metadata": {},
   "source": [
    "Buscar todos"
   ]
  },
  {
   "cell_type": "code",
   "execution_count": 121,
   "metadata": {},
   "outputs": [],
   "source": [
    "gdf=pd.DataFrame()\n",
    "for g in grupos['values']:\n",
    "    r=query_json_column(g,df=UDEA,json_column='UDEA_authors',choices=grupos,\n",
    "                        scorer=fuzz.partial_token_sort_ratio,score_cutoff=79)\n",
    "                        \n",
    "    gdf=gdf.append( {'Group':g,'articles':r.shape[0]},ignore_index=True )\n",
    "gdf['articles']=gdf['articles'].astype(int)"
   ]
  },
  {
   "cell_type": "code",
   "execution_count": 122,
   "metadata": {
    "scrolled": true
   },
   "outputs": [
    {
     "data": {
      "text/html": [
       "<div>\n",
       "<style scoped>\n",
       "    .dataframe tbody tr th:only-of-type {\n",
       "        vertical-align: middle;\n",
       "    }\n",
       "\n",
       "    .dataframe tbody tr th {\n",
       "        vertical-align: top;\n",
       "    }\n",
       "\n",
       "    .dataframe thead th {\n",
       "        text-align: right;\n",
       "    }\n",
       "</style>\n",
       "<table border=\"1\" class=\"dataframe\">\n",
       "  <thead>\n",
       "    <tr style=\"text-align: right;\">\n",
       "      <th></th>\n",
       "      <th>Group</th>\n",
       "      <th>articles</th>\n",
       "    </tr>\n",
       "  </thead>\n",
       "  <tbody>\n",
       "    <tr>\n",
       "      <th>0</th>\n",
       "      <td>Sin Grupo Asociado</td>\n",
       "      <td>450</td>\n",
       "    </tr>\n",
       "    <tr>\n",
       "      <th>1</th>\n",
       "      <td>Grupo de Materia Condensada-UdeA</td>\n",
       "      <td>302</td>\n",
       "    </tr>\n",
       "    <tr>\n",
       "      <th>2</th>\n",
       "      <td>Grupo Reproducción, Inmunovirología, Infección y Cáncer</td>\n",
       "      <td>299</td>\n",
       "    </tr>\n",
       "    <tr>\n",
       "      <th>3</th>\n",
       "      <td>Inmunovirología</td>\n",
       "      <td>299</td>\n",
       "    </tr>\n",
       "    <tr>\n",
       "      <th>4</th>\n",
       "      <td>Grupo de Estado Sólido</td>\n",
       "      <td>281</td>\n",
       "    </tr>\n",
       "    <tr>\n",
       "      <th>5</th>\n",
       "      <td>Centro de Investigación, Innovación y Desarrollo de Materiales - CIDEMAT - Anteriormente: Grupo de Corrosión y Protección</td>\n",
       "      <td>264</td>\n",
       "    </tr>\n",
       "    <tr>\n",
       "      <th>6</th>\n",
       "      <td>Centro de Investigación, Innovación y Desarrollo de Materiales - CIDEMAT - Anteriormente: Grupo de Corrosión y Protección,</td>\n",
       "      <td>264</td>\n",
       "    </tr>\n",
       "    <tr>\n",
       "      <th>7</th>\n",
       "      <td>Grupo Académico de Epidemiología Clínica, Nacer, Salud Sexual y Reproductiva</td>\n",
       "      <td>258</td>\n",
       "    </tr>\n",
       "    <tr>\n",
       "      <th>8</th>\n",
       "      <td>Grupo Académico de Epidemiología Clínica</td>\n",
       "      <td>258</td>\n",
       "    </tr>\n",
       "    <tr>\n",
       "      <th>9</th>\n",
       "      <td>Grupo de Neurociencias de Antioquia, SINAPSIS</td>\n",
       "      <td>246</td>\n",
       "    </tr>\n",
       "  </tbody>\n",
       "</table>\n",
       "</div>"
      ],
      "text/plain": [
       "                                                                                                                         Group  \\\n",
       "0                                                                                                           Sin Grupo Asociado   \n",
       "1                                                                                             Grupo de Materia Condensada-UdeA   \n",
       "2                                                                      Grupo Reproducción, Inmunovirología, Infección y Cáncer   \n",
       "3                                                                                                              Inmunovirología   \n",
       "4                                                                                                       Grupo de Estado Sólido   \n",
       "5    Centro de Investigación, Innovación y Desarrollo de Materiales - CIDEMAT - Anteriormente: Grupo de Corrosión y Protección   \n",
       "6  Centro de Investigación, Innovación y Desarrollo de Materiales - CIDEMAT - Anteriormente: Grupo de Corrosión y Protección,    \n",
       "7                                                 Grupo Académico de Epidemiología Clínica, Nacer, Salud Sexual y Reproductiva   \n",
       "8                                                                                     Grupo Académico de Epidemiología Clínica   \n",
       "9                                                                                Grupo de Neurociencias de Antioquia, SINAPSIS   \n",
       "\n",
       "   articles  \n",
       "0       450  \n",
       "1       302  \n",
       "2       299  \n",
       "3       299  \n",
       "4       281  \n",
       "5       264  \n",
       "6       264  \n",
       "7       258  \n",
       "8       258  \n",
       "9       246  "
      ]
     },
     "execution_count": 122,
     "metadata": {},
     "output_type": "execute_result"
    }
   ],
   "source": [
    "gdf.sort_values('articles',ascending=False).reset_index(drop=True)[:10]"
   ]
  },
  {
   "cell_type": "markdown",
   "metadata": {},
   "source": [
    "## Departamento"
   ]
  },
  {
   "cell_type": "code",
   "execution_count": 123,
   "metadata": {},
   "outputs": [],
   "source": [
    "r=query_json_column('Instituto de Física',df=UDEA,json_column='UDEA_authors',\n",
    "                        choices=departamentos,scorer=fuzz.partial_token_sort_ratio,score_cutoff=79)"
   ]
  },
  {
   "cell_type": "code",
   "execution_count": 124,
   "metadata": {},
   "outputs": [
    {
     "data": {
      "text/plain": [
       "(884, 181)"
      ]
     },
     "execution_count": 124,
     "metadata": {},
     "output_type": "execute_result"
    }
   ],
   "source": [
    "r.shape"
   ]
  },
  {
   "cell_type": "markdown",
   "metadata": {},
   "source": [
    "## Centro"
   ]
  },
  {
   "cell_type": "markdown",
   "metadata": {},
   "source": [
    "Ejemplo"
   ]
  },
  {
   "cell_type": "code",
   "execution_count": 125,
   "metadata": {},
   "outputs": [],
   "source": [
    "cen=query_json_column('Facultad de Ciencias Exactas y Naturales',df=UDEA,json_column='UDEA_authors',\n",
    "                        choices=facultades,scorer=fuzz.partial_token_sort_ratio,score_cutoff=79)"
   ]
  },
  {
   "cell_type": "code",
   "execution_count": 126,
   "metadata": {},
   "outputs": [
    {
     "data": {
      "text/plain": [
       "(2327, 181)"
      ]
     },
     "execution_count": 126,
     "metadata": {},
     "output_type": "execute_result"
    }
   ],
   "source": [
    "cen.shape"
   ]
  },
  {
   "cell_type": "markdown",
   "metadata": {},
   "source": [
    "Todos"
   ]
  },
  {
   "cell_type": "code",
   "execution_count": 127,
   "metadata": {},
   "outputs": [],
   "source": [
    "fdf=pd.DataFrame()\n",
    "for f in facultades['values']:\n",
    "    r=query_json_column(f,df=UDEA,json_column='UDEA_authors',choices=facultades,\n",
    "                        scorer=fuzz.partial_token_sort_ratio,score_cutoff=79)\n",
    "    fdf=fdf.append( {'Facultad':f,'articles':r.shape[0]},ignore_index=True )\n",
    "fdf['articles']=fdf['articles'].astype(int)"
   ]
  },
  {
   "cell_type": "code",
   "execution_count": 128,
   "metadata": {},
   "outputs": [
    {
     "data": {
      "text/html": [
       "<div>\n",
       "<style scoped>\n",
       "    .dataframe tbody tr th:only-of-type {\n",
       "        vertical-align: middle;\n",
       "    }\n",
       "\n",
       "    .dataframe tbody tr th {\n",
       "        vertical-align: top;\n",
       "    }\n",
       "\n",
       "    .dataframe thead th {\n",
       "        text-align: right;\n",
       "    }\n",
       "</style>\n",
       "<table border=\"1\" class=\"dataframe\">\n",
       "  <thead>\n",
       "    <tr style=\"text-align: right;\">\n",
       "      <th></th>\n",
       "      <th>Facultad</th>\n",
       "      <th>articles</th>\n",
       "    </tr>\n",
       "  </thead>\n",
       "  <tbody>\n",
       "    <tr>\n",
       "      <th>0</th>\n",
       "      <td>Facultad de Medicina</td>\n",
       "      <td>3313</td>\n",
       "    </tr>\n",
       "    <tr>\n",
       "      <th>1</th>\n",
       "      <td>Facultad de Ciencias Exactas y Naturales</td>\n",
       "      <td>2327</td>\n",
       "    </tr>\n",
       "    <tr>\n",
       "      <th>2</th>\n",
       "      <td>Facultad de Ingeniería</td>\n",
       "      <td>1885</td>\n",
       "    </tr>\n",
       "    <tr>\n",
       "      <th>3</th>\n",
       "      <td>Facultad de Ciencias Agrarias</td>\n",
       "      <td>693</td>\n",
       "    </tr>\n",
       "    <tr>\n",
       "      <th>4</th>\n",
       "      <td>Facultad de Ciencias Sociales y Humanas</td>\n",
       "      <td>225</td>\n",
       "    </tr>\n",
       "    <tr>\n",
       "      <th>5</th>\n",
       "      <td>Facultad de Artes</td>\n",
       "      <td>15</td>\n",
       "    </tr>\n",
       "  </tbody>\n",
       "</table>\n",
       "</div>"
      ],
      "text/plain": [
       "                                   Facultad  articles\n",
       "0                      Facultad de Medicina      3313\n",
       "1  Facultad de Ciencias Exactas y Naturales      2327\n",
       "2                    Facultad de Ingeniería      1885\n",
       "3             Facultad de Ciencias Agrarias       693\n",
       "4   Facultad de Ciencias Sociales y Humanas       225\n",
       "5                         Facultad de Artes        15"
      ]
     },
     "execution_count": 128,
     "metadata": {},
     "output_type": "execute_result"
    }
   ],
   "source": [
    "fdf.sort_values('articles',ascending=False)"
   ]
  },
  {
   "cell_type": "markdown",
   "metadata": {},
   "source": [
    "## Citas"
   ]
  },
  {
   "cell_type": "code",
   "execution_count": 133,
   "metadata": {},
   "outputs": [
    {
     "data": {
      "text/html": [
       "<div>\n",
       "<style scoped>\n",
       "    .dataframe tbody tr th:only-of-type {\n",
       "        vertical-align: middle;\n",
       "    }\n",
       "\n",
       "    .dataframe tbody tr th {\n",
       "        vertical-align: top;\n",
       "    }\n",
       "\n",
       "    .dataframe thead th {\n",
       "        text-align: right;\n",
       "    }\n",
       "</style>\n",
       "<table border=\"1\" class=\"dataframe\">\n",
       "  <thead>\n",
       "    <tr style=\"text-align: right;\">\n",
       "      <th></th>\n",
       "      <th>Z9</th>\n",
       "      <th>TI</th>\n",
       "      <th>SO</th>\n",
       "      <th>AU</th>\n",
       "      <th>PY</th>\n",
       "    </tr>\n",
       "  </thead>\n",
       "  <tbody>\n",
       "    <tr>\n",
       "      <th>0</th>\n",
       "      <td>3610</td>\n",
       "      <td>An integrated map of genetic variation from 1,092 human genomes</td>\n",
       "      <td>NATURE</td>\n",
       "      <td>Altshuler, DM\\nDurbin, RM\\nAbecasis, GR\\nBentley, DR\\nChakravarti, A\\nClark, AG\\nDonnelly, P\\nEichler, EE\\nFlicek, P\\nGabriel, SB\\nGibbs, RA\\nGreen, ED\\nHurles, ME\\nKnoppers, BM\\nKorbel, JO\\nLande...</td>\n",
       "      <td>2012</td>\n",
       "    </tr>\n",
       "    <tr>\n",
       "      <th>1</th>\n",
       "      <td>1526</td>\n",
       "      <td>Leishmaniasis Worldwide and Global Estimates of Its Incidence</td>\n",
       "      <td>PLOS ONE</td>\n",
       "      <td>Alvar, J\\nVelez, ID\\nBern, C\\nHerrero, M\\nDesjeux, P\\nCano, J\\nJannin, J\\nden Boer, M\\n</td>\n",
       "      <td>2012</td>\n",
       "    </tr>\n",
       "    <tr>\n",
       "      <th>2</th>\n",
       "      <td>1271</td>\n",
       "      <td>A global reference for human genetic variation</td>\n",
       "      <td>NATURE</td>\n",
       "      <td>Altshuler, DM\\nDurbin, RM\\nAbecasis, GR\\nBentley, DR\\nChakravarti, A\\nClark, AG\\nDonnelly, P\\nEichler, EE\\nFlicek, P\\nGabriel, SB\\nGibbs, RA\\nGreen, ED\\nHurles, ME\\nKnoppers, BM\\nKorbel, JO\\nLande...</td>\n",
       "      <td>2015</td>\n",
       "    </tr>\n",
       "    <tr>\n",
       "      <th>3</th>\n",
       "      <td>901</td>\n",
       "      <td>Human papillomavirus genotype attribution in invasive cervical cancer: a retrospective cross-sectional worldwide study</td>\n",
       "      <td>LANCET ONCOLOGY</td>\n",
       "      <td>de Sanjose, S\\nQuint, WGV\\nAlemany, L\\nGeraets, DT\\nKlaustermeier, JE\\nLloveras, B\\nTous, S\\nFelix, A\\nBravo, LE\\nShin, HR\\nVallejos, CS\\nde Ruiz, PA\\nLima, MA\\nGuimera, N\\nClavero, O\\nAlejo, M\\nL...</td>\n",
       "      <td>2010</td>\n",
       "    </tr>\n",
       "    <tr>\n",
       "      <th>4</th>\n",
       "      <td>731</td>\n",
       "      <td>AN EVALUATION OF GENETIC DISTANCES FOR USE WITH MICROSATELLITE LOCI</td>\n",
       "      <td>GENETICS</td>\n",
       "      <td>GOLDSTEIN, DB\\nLINARES, AR\\nCAVALLISFORZA, LL\\nFELDMAN, MW\\n</td>\n",
       "      <td>1995</td>\n",
       "    </tr>\n",
       "    <tr>\n",
       "      <th>5</th>\n",
       "      <td>711</td>\n",
       "      <td>The Genome Sequence of Taurine Cattle: A Window to Ruminant Biology and Evolution</td>\n",
       "      <td>SCIENCE</td>\n",
       "      <td>Elsik, CG\\nTellam, RL\\nWorley, KC\\nGibbs, RA\\nAbatepaulo, ARR\\nAbbey, CA\\nAdelson, DL\\nAerts, J\\nAhola, V\\nAlexander, L\\nAlioto, T\\nAlmeida, IG\\nAmadio, AF\\nAnatriello, E\\nAntonarakis, SE\\nAnzola,...</td>\n",
       "      <td>2009</td>\n",
       "    </tr>\n",
       "    <tr>\n",
       "      <th>6</th>\n",
       "      <td>622</td>\n",
       "      <td>Expression of a noncoding RNA is elevated in Alzheimer's disease and drives rapid feed-forward regulation of beta-secretase</td>\n",
       "      <td>NATURE MEDICINE</td>\n",
       "      <td>Faghihi, MA\\nModarresi, F\\nKhalil, AM\\nWood, DE\\nSahagan, BG\\nMorgan, TE\\nFinch, CE\\nLaurent, GS\\nKenny, PJ\\nWahlestedt, C\\n</td>\n",
       "      <td>2008</td>\n",
       "    </tr>\n",
       "    <tr>\n",
       "      <th>7</th>\n",
       "      <td>601</td>\n",
       "      <td>GENETIC ABSOLUTE DATING BASED ON MICROSATELLITES AND THE ORIGIN OF MODERN HUMANS</td>\n",
       "      <td>PROCEEDINGS OF THE NATIONAL ACADEMY OF SCIENCES OF THE UNITED STATES OF\\nAMERICA</td>\n",
       "      <td>GOLDSTEIN, DB\\nLINARES, AR\\nCAVALLISFORZA, LL\\nFELDMAN, MW\\n</td>\n",
       "      <td>1995</td>\n",
       "    </tr>\n",
       "    <tr>\n",
       "      <th>8</th>\n",
       "      <td>495</td>\n",
       "      <td>Microsatellite markers reveal a spectrum of population structures in the malaria parasite Plasmodium falciparum</td>\n",
       "      <td>MOLECULAR BIOLOGY AND EVOLUTION</td>\n",
       "      <td>Anderson, TJC\\nHaubold, B\\nWilliams, JT\\nEstrada-Franco, JG\\nRichardson, L\\nMollinedo, R\\nBockarie, M\\nMokili, J\\nMharakurwa, S\\nFrench, N\\nWhitworth, J\\nVelez, ID\\nBrockman, AH\\nNosten, F\\nFerrei...</td>\n",
       "      <td>2000</td>\n",
       "    </tr>\n",
       "    <tr>\n",
       "      <th>9</th>\n",
       "      <td>474</td>\n",
       "      <td>Mutations in IRF6 cause Van der Woude and popliteal pterygium syndromes</td>\n",
       "      <td>NATURE GENETICS</td>\n",
       "      <td>Kondo, S\\nSchutte, BC\\nRichardson, RJ\\nBjork, BC\\nKnight, AS\\nWatanabe, Y\\nHoward, E\\nde Lima, RLLF\\nDaack-Hirsch, S\\nSander, A\\nMcDonald-McGinn, DM\\nZackai, EH\\nLammer, EJ\\nAylsworth, AS\\nArdinge...</td>\n",
       "      <td>2002</td>\n",
       "    </tr>\n",
       "  </tbody>\n",
       "</table>\n",
       "</div>"
      ],
      "text/plain": [
       "     Z9  \\\n",
       "0  3610   \n",
       "1  1526   \n",
       "2  1271   \n",
       "3   901   \n",
       "4   731   \n",
       "5   711   \n",
       "6   622   \n",
       "7   601   \n",
       "8   495   \n",
       "9   474   \n",
       "\n",
       "                                                                                                                            TI  \\\n",
       "0                                                              An integrated map of genetic variation from 1,092 human genomes   \n",
       "1                                                                Leishmaniasis Worldwide and Global Estimates of Its Incidence   \n",
       "2                                                                               A global reference for human genetic variation   \n",
       "3       Human papillomavirus genotype attribution in invasive cervical cancer: a retrospective cross-sectional worldwide study   \n",
       "4                                                          AN EVALUATION OF GENETIC DISTANCES FOR USE WITH MICROSATELLITE LOCI   \n",
       "5                                            The Genome Sequence of Taurine Cattle: A Window to Ruminant Biology and Evolution   \n",
       "6  Expression of a noncoding RNA is elevated in Alzheimer's disease and drives rapid feed-forward regulation of beta-secretase   \n",
       "7                                             GENETIC ABSOLUTE DATING BASED ON MICROSATELLITES AND THE ORIGIN OF MODERN HUMANS   \n",
       "8              Microsatellite markers reveal a spectrum of population structures in the malaria parasite Plasmodium falciparum   \n",
       "9                                                      Mutations in IRF6 cause Van der Woude and popliteal pterygium syndromes   \n",
       "\n",
       "                                                                                 SO  \\\n",
       "0                                                                            NATURE   \n",
       "1                                                                          PLOS ONE   \n",
       "2                                                                            NATURE   \n",
       "3                                                                   LANCET ONCOLOGY   \n",
       "4                                                                          GENETICS   \n",
       "5                                                                           SCIENCE   \n",
       "6                                                                   NATURE MEDICINE   \n",
       "7  PROCEEDINGS OF THE NATIONAL ACADEMY OF SCIENCES OF THE UNITED STATES OF\\nAMERICA   \n",
       "8                                                   MOLECULAR BIOLOGY AND EVOLUTION   \n",
       "9                                                                   NATURE GENETICS   \n",
       "\n",
       "                                                                                                                                                                                                        AU  \\\n",
       "0  Altshuler, DM\\nDurbin, RM\\nAbecasis, GR\\nBentley, DR\\nChakravarti, A\\nClark, AG\\nDonnelly, P\\nEichler, EE\\nFlicek, P\\nGabriel, SB\\nGibbs, RA\\nGreen, ED\\nHurles, ME\\nKnoppers, BM\\nKorbel, JO\\nLande...   \n",
       "1                                                                                                                  Alvar, J\\nVelez, ID\\nBern, C\\nHerrero, M\\nDesjeux, P\\nCano, J\\nJannin, J\\nden Boer, M\\n   \n",
       "2  Altshuler, DM\\nDurbin, RM\\nAbecasis, GR\\nBentley, DR\\nChakravarti, A\\nClark, AG\\nDonnelly, P\\nEichler, EE\\nFlicek, P\\nGabriel, SB\\nGibbs, RA\\nGreen, ED\\nHurles, ME\\nKnoppers, BM\\nKorbel, JO\\nLande...   \n",
       "3  de Sanjose, S\\nQuint, WGV\\nAlemany, L\\nGeraets, DT\\nKlaustermeier, JE\\nLloveras, B\\nTous, S\\nFelix, A\\nBravo, LE\\nShin, HR\\nVallejos, CS\\nde Ruiz, PA\\nLima, MA\\nGuimera, N\\nClavero, O\\nAlejo, M\\nL...   \n",
       "4                                                                                                                                             GOLDSTEIN, DB\\nLINARES, AR\\nCAVALLISFORZA, LL\\nFELDMAN, MW\\n   \n",
       "5  Elsik, CG\\nTellam, RL\\nWorley, KC\\nGibbs, RA\\nAbatepaulo, ARR\\nAbbey, CA\\nAdelson, DL\\nAerts, J\\nAhola, V\\nAlexander, L\\nAlioto, T\\nAlmeida, IG\\nAmadio, AF\\nAnatriello, E\\nAntonarakis, SE\\nAnzola,...   \n",
       "6                                                                             Faghihi, MA\\nModarresi, F\\nKhalil, AM\\nWood, DE\\nSahagan, BG\\nMorgan, TE\\nFinch, CE\\nLaurent, GS\\nKenny, PJ\\nWahlestedt, C\\n   \n",
       "7                                                                                                                                             GOLDSTEIN, DB\\nLINARES, AR\\nCAVALLISFORZA, LL\\nFELDMAN, MW\\n   \n",
       "8  Anderson, TJC\\nHaubold, B\\nWilliams, JT\\nEstrada-Franco, JG\\nRichardson, L\\nMollinedo, R\\nBockarie, M\\nMokili, J\\nMharakurwa, S\\nFrench, N\\nWhitworth, J\\nVelez, ID\\nBrockman, AH\\nNosten, F\\nFerrei...   \n",
       "9  Kondo, S\\nSchutte, BC\\nRichardson, RJ\\nBjork, BC\\nKnight, AS\\nWatanabe, Y\\nHoward, E\\nde Lima, RLLF\\nDaack-Hirsch, S\\nSander, A\\nMcDonald-McGinn, DM\\nZackai, EH\\nLammer, EJ\\nAylsworth, AS\\nArdinge...   \n",
       "\n",
       "     PY  \n",
       "0  2012  \n",
       "1  2012  \n",
       "2  2015  \n",
       "3  2010  \n",
       "4  1995  \n",
       "5  2009  \n",
       "6  2008  \n",
       "7  1995  \n",
       "8  2000  \n",
       "9  2002  "
      ]
     },
     "execution_count": 133,
     "metadata": {},
     "output_type": "execute_result"
    }
   ],
   "source": [
    "UDEA.sort_values('Z9',ascending=False)[['Z9','TI','SO','AU','PY']].reset_index(drop=True)[:10]"
   ]
  },
  {
   "cell_type": "code",
   "execution_count": 135,
   "metadata": {},
   "outputs": [
    {
     "data": {
      "text/plain": [
       "94659"
      ]
     },
     "execution_count": 135,
     "metadata": {},
     "output_type": "execute_result"
    }
   ],
   "source": [
    "UDEA.Z9.sum()"
   ]
  },
  {
   "cell_type": "code",
   "execution_count": 136,
   "metadata": {},
   "outputs": [
    {
     "data": {
      "text/html": [
       "<div>\n",
       "<style scoped>\n",
       "    .dataframe tbody tr th:only-of-type {\n",
       "        vertical-align: middle;\n",
       "    }\n",
       "\n",
       "    .dataframe tbody tr th {\n",
       "        vertical-align: top;\n",
       "    }\n",
       "\n",
       "    .dataframe thead th {\n",
       "        text-align: right;\n",
       "    }\n",
       "</style>\n",
       "<table border=\"1\" class=\"dataframe\">\n",
       "  <thead>\n",
       "    <tr style=\"text-align: right;\">\n",
       "      <th></th>\n",
       "      <th>SCP_Cited by</th>\n",
       "      <th>TI</th>\n",
       "      <th>SO</th>\n",
       "      <th>AU</th>\n",
       "      <th>PY</th>\n",
       "    </tr>\n",
       "  </thead>\n",
       "  <tbody>\n",
       "    <tr>\n",
       "      <th>0</th>\n",
       "      <td>1586</td>\n",
       "      <td>Leishmaniasis Worldwide and Global Estimates of Its Incidence</td>\n",
       "      <td>PLOS ONE</td>\n",
       "      <td>Alvar, J\\nVelez, ID\\nBern, C\\nHerrero, M\\nDesjeux, P\\nCano, J\\nJannin, J\\nden Boer, M\\n</td>\n",
       "      <td>2012</td>\n",
       "    </tr>\n",
       "    <tr>\n",
       "      <th>1</th>\n",
       "      <td>1160</td>\n",
       "      <td>Effects of tranexamic acid on death, vascular occlusive events, and blood transfusion in trauma patients with significant haemorrhage (CRASH-2): A randomised, placebo-controlled trial</td>\n",
       "      <td>The Lancet</td>\n",
       "      <td>Olldashi F., Kerçi M., Zhurda T., Ruçi K., Banushi A., Traverso M.S., Jiménez J., Balbi J., Dellera C., Svampa S., Quintana G., Piñero G., Teves J., Seppelt I., Mountain D., Hunter J., Balogh Z., ...</td>\n",
       "      <td>2010</td>\n",
       "    </tr>\n",
       "    <tr>\n",
       "      <th>2</th>\n",
       "      <td>994</td>\n",
       "      <td>Human papillomavirus genotype attribution in invasive cervical cancer: a retrospective cross-sectional worldwide study</td>\n",
       "      <td>LANCET ONCOLOGY</td>\n",
       "      <td>de Sanjose, S\\nQuint, WGV\\nAlemany, L\\nGeraets, DT\\nKlaustermeier, JE\\nLloveras, B\\nTous, S\\nFelix, A\\nBravo, LE\\nShin, HR\\nVallejos, CS\\nde Ruiz, PA\\nLima, MA\\nGuimera, N\\nClavero, O\\nAlejo, M\\nL...</td>\n",
       "      <td>2010</td>\n",
       "    </tr>\n",
       "    <tr>\n",
       "      <th>3</th>\n",
       "      <td>626</td>\n",
       "      <td>The Genome Sequence of Taurine Cattle: A Window to Ruminant Biology and Evolution</td>\n",
       "      <td>SCIENCE</td>\n",
       "      <td>Elsik, CG\\nTellam, RL\\nWorley, KC\\nGibbs, RA\\nAbatepaulo, ARR\\nAbbey, CA\\nAdelson, DL\\nAerts, J\\nAhola, V\\nAlexander, L\\nAlioto, T\\nAlmeida, IG\\nAmadio, AF\\nAnatriello, E\\nAntonarakis, SE\\nAnzola,...</td>\n",
       "      <td>2009</td>\n",
       "    </tr>\n",
       "    <tr>\n",
       "      <th>4</th>\n",
       "      <td>603</td>\n",
       "      <td>Expression of a noncoding RNA is elevated in Alzheimer's disease and drives rapid feed-forward regulation of beta-secretase</td>\n",
       "      <td>NATURE MEDICINE</td>\n",
       "      <td>Faghihi, MA\\nModarresi, F\\nKhalil, AM\\nWood, DE\\nSahagan, BG\\nMorgan, TE\\nFinch, CE\\nLaurent, GS\\nKenny, PJ\\nWahlestedt, C\\n</td>\n",
       "      <td>2008</td>\n",
       "    </tr>\n",
       "    <tr>\n",
       "      <th>5</th>\n",
       "      <td>598</td>\n",
       "      <td>GENETIC ABSOLUTE DATING BASED ON MICROSATELLITES AND THE ORIGIN OF MODERN HUMANS</td>\n",
       "      <td>PROCEEDINGS OF THE NATIONAL ACADEMY OF SCIENCES OF THE UNITED STATES OF\\nAMERICA</td>\n",
       "      <td>GOLDSTEIN, DB\\nLINARES, AR\\nCAVALLISFORZA, LL\\nFELDMAN, MW\\n</td>\n",
       "      <td>1995</td>\n",
       "    </tr>\n",
       "    <tr>\n",
       "      <th>6</th>\n",
       "      <td>590</td>\n",
       "      <td>A molecular sieve with eighteen-membered rings</td>\n",
       "      <td>Nature</td>\n",
       "      <td>Davis M.E., Saldarriaga C., Montes C., Garces J., Crowdert C.</td>\n",
       "      <td>1988</td>\n",
       "    </tr>\n",
       "    <tr>\n",
       "      <th>7</th>\n",
       "      <td>496</td>\n",
       "      <td>Microsatellite markers reveal a spectrum of population structures in the malaria parasite Plasmodium falciparum</td>\n",
       "      <td>MOLECULAR BIOLOGY AND EVOLUTION</td>\n",
       "      <td>Anderson, TJC\\nHaubold, B\\nWilliams, JT\\nEstrada-Franco, JG\\nRichardson, L\\nMollinedo, R\\nBockarie, M\\nMokili, J\\nMharakurwa, S\\nFrench, N\\nWhitworth, J\\nVelez, ID\\nBrockman, AH\\nNosten, F\\nFerrei...</td>\n",
       "      <td>2000</td>\n",
       "    </tr>\n",
       "    <tr>\n",
       "      <th>8</th>\n",
       "      <td>485</td>\n",
       "      <td>Mutations in IRF6 cause Van der Woude and popliteal pterygium syndromes</td>\n",
       "      <td>NATURE GENETICS</td>\n",
       "      <td>Kondo, S\\nSchutte, BC\\nRichardson, RJ\\nBjork, BC\\nKnight, AS\\nWatanabe, Y\\nHoward, E\\nde Lima, RLLF\\nDaack-Hirsch, S\\nSander, A\\nMcDonald-McGinn, DM\\nZackai, EH\\nLammer, EJ\\nAylsworth, AS\\nArdinge...</td>\n",
       "      <td>2002</td>\n",
       "    </tr>\n",
       "    <tr>\n",
       "      <th>9</th>\n",
       "      <td>453</td>\n",
       "      <td>Sustainability in the construction industry: A review of recent developments based on LCA</td>\n",
       "      <td>Construction and Building Materials</td>\n",
       "      <td>Ortiz O., Castells F., Sonnemann G.</td>\n",
       "      <td>2009</td>\n",
       "    </tr>\n",
       "  </tbody>\n",
       "</table>\n",
       "</div>"
      ],
      "text/plain": [
       "   SCP_Cited by  \\\n",
       "0          1586   \n",
       "1          1160   \n",
       "2           994   \n",
       "3           626   \n",
       "4           603   \n",
       "5           598   \n",
       "6           590   \n",
       "7           496   \n",
       "8           485   \n",
       "9           453   \n",
       "\n",
       "                                                                                                                                                                                        TI  \\\n",
       "0                                                                                                                            Leishmaniasis Worldwide and Global Estimates of Its Incidence   \n",
       "1  Effects of tranexamic acid on death, vascular occlusive events, and blood transfusion in trauma patients with significant haemorrhage (CRASH-2): A randomised, placebo-controlled trial   \n",
       "2                                                                   Human papillomavirus genotype attribution in invasive cervical cancer: a retrospective cross-sectional worldwide study   \n",
       "3                                                                                                        The Genome Sequence of Taurine Cattle: A Window to Ruminant Biology and Evolution   \n",
       "4                                                              Expression of a noncoding RNA is elevated in Alzheimer's disease and drives rapid feed-forward regulation of beta-secretase   \n",
       "5                                                                                                         GENETIC ABSOLUTE DATING BASED ON MICROSATELLITES AND THE ORIGIN OF MODERN HUMANS   \n",
       "6                                                                                                                                           A molecular sieve with eighteen-membered rings   \n",
       "7                                                                          Microsatellite markers reveal a spectrum of population structures in the malaria parasite Plasmodium falciparum   \n",
       "8                                                                                                                  Mutations in IRF6 cause Van der Woude and popliteal pterygium syndromes   \n",
       "9                                                                                                Sustainability in the construction industry: A review of recent developments based on LCA   \n",
       "\n",
       "                                                                                 SO  \\\n",
       "0                                                                          PLOS ONE   \n",
       "1                                                                        The Lancet   \n",
       "2                                                                   LANCET ONCOLOGY   \n",
       "3                                                                           SCIENCE   \n",
       "4                                                                   NATURE MEDICINE   \n",
       "5  PROCEEDINGS OF THE NATIONAL ACADEMY OF SCIENCES OF THE UNITED STATES OF\\nAMERICA   \n",
       "6                                                                            Nature   \n",
       "7                                                   MOLECULAR BIOLOGY AND EVOLUTION   \n",
       "8                                                                   NATURE GENETICS   \n",
       "9                                               Construction and Building Materials   \n",
       "\n",
       "                                                                                                                                                                                                        AU  \\\n",
       "0                                                                                                                  Alvar, J\\nVelez, ID\\nBern, C\\nHerrero, M\\nDesjeux, P\\nCano, J\\nJannin, J\\nden Boer, M\\n   \n",
       "1  Olldashi F., Kerçi M., Zhurda T., Ruçi K., Banushi A., Traverso M.S., Jiménez J., Balbi J., Dellera C., Svampa S., Quintana G., Piñero G., Teves J., Seppelt I., Mountain D., Hunter J., Balogh Z., ...   \n",
       "2  de Sanjose, S\\nQuint, WGV\\nAlemany, L\\nGeraets, DT\\nKlaustermeier, JE\\nLloveras, B\\nTous, S\\nFelix, A\\nBravo, LE\\nShin, HR\\nVallejos, CS\\nde Ruiz, PA\\nLima, MA\\nGuimera, N\\nClavero, O\\nAlejo, M\\nL...   \n",
       "3  Elsik, CG\\nTellam, RL\\nWorley, KC\\nGibbs, RA\\nAbatepaulo, ARR\\nAbbey, CA\\nAdelson, DL\\nAerts, J\\nAhola, V\\nAlexander, L\\nAlioto, T\\nAlmeida, IG\\nAmadio, AF\\nAnatriello, E\\nAntonarakis, SE\\nAnzola,...   \n",
       "4                                                                             Faghihi, MA\\nModarresi, F\\nKhalil, AM\\nWood, DE\\nSahagan, BG\\nMorgan, TE\\nFinch, CE\\nLaurent, GS\\nKenny, PJ\\nWahlestedt, C\\n   \n",
       "5                                                                                                                                             GOLDSTEIN, DB\\nLINARES, AR\\nCAVALLISFORZA, LL\\nFELDMAN, MW\\n   \n",
       "6                                                                                                                                            Davis M.E., Saldarriaga C., Montes C., Garces J., Crowdert C.   \n",
       "7  Anderson, TJC\\nHaubold, B\\nWilliams, JT\\nEstrada-Franco, JG\\nRichardson, L\\nMollinedo, R\\nBockarie, M\\nMokili, J\\nMharakurwa, S\\nFrench, N\\nWhitworth, J\\nVelez, ID\\nBrockman, AH\\nNosten, F\\nFerrei...   \n",
       "8  Kondo, S\\nSchutte, BC\\nRichardson, RJ\\nBjork, BC\\nKnight, AS\\nWatanabe, Y\\nHoward, E\\nde Lima, RLLF\\nDaack-Hirsch, S\\nSander, A\\nMcDonald-McGinn, DM\\nZackai, EH\\nLammer, EJ\\nAylsworth, AS\\nArdinge...   \n",
       "9                                                                                                                                                                      Ortiz O., Castells F., Sonnemann G.   \n",
       "\n",
       "     PY  \n",
       "0  2012  \n",
       "1  2010  \n",
       "2  2010  \n",
       "3  2009  \n",
       "4  2008  \n",
       "5  1995  \n",
       "6  1988  \n",
       "7  2000  \n",
       "8  2002  \n",
       "9  2009  "
      ]
     },
     "execution_count": 136,
     "metadata": {},
     "output_type": "execute_result"
    }
   ],
   "source": [
    "UDEA.sort_values('SCP_Cited by',ascending=False)[[\n",
    "    'SCP_Cited by','TI','SO','AU','PY']].reset_index(drop=True)[:10]"
   ]
  },
  {
   "cell_type": "code",
   "execution_count": 137,
   "metadata": {},
   "outputs": [
    {
     "data": {
      "text/plain": [
       "101356"
      ]
     },
     "execution_count": 137,
     "metadata": {},
     "output_type": "execute_result"
    }
   ],
   "source": [
    "UDEA['SCP_Cited by'].sum()"
   ]
  },
  {
   "cell_type": "markdown",
   "metadata": {},
   "source": [
    "# Función de búsque de nombres completos usando los autores WOS y los metadatos de la información institucional"
   ]
  },
  {
   "cell_type": "code",
   "execution_count": 34,
   "metadata": {},
   "outputs": [
    {
     "data": {
      "text/plain": [
       "WOS_author\n",
       "Cerón-Muñoz, M. F.    6\n",
       "Name: WOS_author, dtype: int64"
      ]
     },
     "execution_count": 34,
     "metadata": {},
     "output_type": "execute_result"
    }
   ],
   "source": [
    "aun=extract_key(UDEA_NOT,'WOS_author',json_column='authors_WOS')\n",
    "aun[27:28]"
   ]
  },
  {
   "cell_type": "code",
   "execution_count": 35,
   "metadata": {},
   "outputs": [],
   "source": [
    "aun=aun.keys()"
   ]
  },
  {
   "cell_type": "code",
   "execution_count": 36,
   "metadata": {},
   "outputs": [],
   "source": [
    "posib=extract_key(UDEA_YES,'WOS_author',json_column='authors_WOS').keys()"
   ]
  },
  {
   "cell_type": "markdown",
   "metadata": {},
   "source": [
    "### Goods: i=2,3,4,6\n",
    "### Bad: 1,5"
   ]
  },
  {
   "cell_type": "code",
   "execution_count": 37,
   "metadata": {},
   "outputs": [
    {
     "data": {
      "text/plain": [
       "'Cerón-Muñoz, M. F.'"
      ]
     },
     "execution_count": 37,
     "metadata": {},
     "output_type": "execute_result"
    }
   ],
   "source": [
    "i=27\n",
    "n=aun[i]\n",
    "n"
   ]
  },
  {
   "cell_type": "code",
   "execution_count": 38,
   "metadata": {},
   "outputs": [],
   "source": [
    "# if nold:\n",
    "qq=query_json_column(n,df=UDEA_NOT,json_column='authors_WOS',\n",
    "                        choices=wos_author,scorer=fuzz.ratio,score_cutoff=100)"
   ]
  },
  {
   "cell_type": "code",
   "execution_count": 39,
   "metadata": {},
   "outputs": [
    {
     "data": {
      "text/plain": [
       "RangeIndex(start=0, stop=6, step=1)"
      ]
     },
     "execution_count": 39,
     "metadata": {},
     "output_type": "execute_result"
    }
   ],
   "source": [
    "qq.index"
   ]
  },
  {
   "cell_type": "code",
   "execution_count": 40,
   "metadata": {},
   "outputs": [
    {
     "name": "stdout",
     "output_type": "stream",
     "text": [
      "[{'WOS_author': 'Cerón-Muñoz, M. F.', 'i': 0, 'affiliation': ['Grupo de Investigación GaMMA, Facultad de Ciencias Agrarias, Univ Antioquia, Calle 70 Nº 52 - 2, Medellín, Colombia']}]\n",
      "[{'WOS_author': 'Cerón-Muñoz, M. F.', 'i': 0, 'affiliation': ['Grupo de Investigación en Genética, Mejoramiento y Modelación-GaMMA, Facultad de Ciencias Agrarias, Univ Antioquia UdeA, Calle 70 No. 52-21, Medellín, Colombia']}]\n",
      "[{'WOS_author': 'Cerón-Muñoz, M. F.', 'i': 0, 'affiliation': ['Grupo de investigación GaMMA, Facultad de Ciencias Agrarias, Univ Antioquia, Calle 70 N°52-21, Medellín, Colombia']}]\n",
      "[{'WOS_author': 'Cerón-Muñoz, M. F.', 'i': 2, 'affiliation': ['Grupo de Investigación en Genética, Mejoramiento y Modelación Animal-GaMMA, Univ Antioquia, Calle 70 N° 52-21, Medellín, Colombia']}]\n",
      "[{'WOS_author': 'Cerón-Muñoz, M. F.', 'i': 0, 'affiliation': ['Grupo de investigación GaMMA, Univ Antioquia, Carrera 75 No. 65-87, Bloque, Medellín, Colombia']}]\n",
      "[{'WOS_author': 'Cerón-Muñoz, M. F.', 'i': 3, 'affiliation': ['Grupo de Investigación en Genética, Mejoramiento y Modelación Animal-GaMMA, Univ Antioquia, Medellín, Colombia']}]\n"
     ]
    }
   ],
   "source": [
    "for i in qq.index:\n",
    "    print( [ d for d in qq.loc[i,'authors_WOS'] if n in d.get('WOS_author')] )"
   ]
  },
  {
   "cell_type": "code",
   "execution_count": 41,
   "metadata": {},
   "outputs": [
    {
     "data": {
      "text/plain": [
       "array(['Livestock Research for Rural Development'], dtype=object)"
      ]
     },
     "execution_count": 41,
     "metadata": {},
     "output_type": "execute_result"
    }
   ],
   "source": [
    "qq.SO.unique()"
   ]
  },
  {
   "cell_type": "code",
   "execution_count": 42,
   "metadata": {},
   "outputs": [
    {
     "data": {
      "text/plain": [
       "(6, 181)"
      ]
     },
     "execution_count": 42,
     "metadata": {},
     "output_type": "execute_result"
    }
   ],
   "source": [
    "qq.shape"
   ]
  },
  {
   "cell_type": "code",
   "execution_count": 43,
   "metadata": {},
   "outputs": [
    {
     "data": {
      "text/plain": [
       "WOS_author\n",
       "Ramírez-Arias, J. P.    1\n",
       "Cerón-Muñoz, M. F.      1\n",
       "Name: WOS_author, dtype: int64"
      ]
     },
     "execution_count": 43,
     "metadata": {},
     "output_type": "execute_result"
    }
   ],
   "source": [
    "extract_key(qq[:1],'WOS_author',json_column='authors_WOS')"
   ]
  },
  {
   "cell_type": "code",
   "execution_count": 44,
   "metadata": {},
   "outputs": [
    {
     "data": {
      "text/plain": [
       "[{'WOS_author': 'Cerón-Muñoz, M. F.',\n",
       "  'affiliation': ['Grupo de Investigación GaMMA, Facultad de Ciencias Agrarias, Univ Antioquia, Calle 70 Nº 52 - 2, Medellín, Colombia'],\n",
       "  'i': 0},\n",
       " {'WOS_author': 'Ramírez-Arias, J. P.',\n",
       "  'affiliation': ['Grupo de Investigación GaMMA, Facultad de Ciencias Agrarias, Univ Antioquia, Calle 70 Nº 52 - 2, Medellín, Colombia'],\n",
       "  'i': 1}]"
      ]
     },
     "execution_count": 44,
     "metadata": {},
     "output_type": "execute_result"
    }
   ],
   "source": [
    "qq.loc[0,'authors_WOS']"
   ]
  },
  {
   "cell_type": "code",
   "execution_count": 45,
   "metadata": {},
   "outputs": [
    {
     "data": {
      "text/plain": [
       "'Livestock Research for Rural Development'"
      ]
     },
     "execution_count": 45,
     "metadata": {},
     "output_type": "execute_result"
    }
   ],
   "source": [
    "qq.loc[0,'SO']"
   ]
  },
  {
   "cell_type": "markdown",
   "metadata": {},
   "source": [
    "## Include SO"
   ]
  },
  {
   "cell_type": "code",
   "execution_count": 46,
   "metadata": {},
   "outputs": [],
   "source": [
    "aunly=drive_files.read_drive_json('UDEA_authors_with_WOS_info.json').reset_index(drop=True)"
   ]
  },
  {
   "cell_type": "code",
   "execution_count": 47,
   "metadata": {},
   "outputs": [],
   "source": [
    "def build_institutional_authors(x,author_df,x_author_key='WOS_author',x_affiliation_key='affiliation',\n",
    "                                        author_key='WOS_author',\n",
    "                                        affiliation_key='WOS_affiliation'):\n",
    "    if type(x)!=list:\n",
    "        return None\n",
    "    ll=[]\n",
    "    for j in range(len(x)):\n",
    "        \n",
    "                                #author_WOS→affiliation always have single affiliation\n",
    "        kk=find_author_affiliation(x[j].get(x_author_key),x[j].get(x_affiliation_key)[0],\n",
    "                                        author_df=author_df,\n",
    "                                        author_key=author_key,\n",
    "                                        affiliation_key=affiliation_key,\n",
    "                                        ratio=0.9 )\n",
    "        if kk:\n",
    "            ll.append(kk)\n",
    "    if not ll:\n",
    "        ll=None\n",
    "    return ll"
   ]
  },
  {
   "cell_type": "code",
   "execution_count": 48,
   "metadata": {},
   "outputs": [],
   "source": [
    "import fuzzywuzzy.process as fwp\n",
    "from fuzzywuzzy import fuzz\n",
    "#UDEA_NOT=UDEA[UDEA['UDEA_authors'].isna()].reset_index(drop=True)\n",
    "df2=aunly.copy()\n",
    "df2=pd.DataFrame( list( df2['UDEA_authors'].values ) )\n",
    "df2['UDEA_authors']=aunly['UDEA_authors']\n",
    "contents=df2[['WOS_author','WOS_affiliation','UDEA_authors']].reset_index(drop=True)\n",
    "contents['WOS_author']=contents['WOS_author']#.astype(str)\n",
    "contents['WOS_affiliation']=contents['WOS_affiliation']#.astype(str)"
   ]
  },
  {
   "cell_type": "markdown",
   "metadata": {},
   "source": [
    "# =============="
   ]
  },
  {
   "cell_type": "code",
   "execution_count": 49,
   "metadata": {},
   "outputs": [],
   "source": [
    "dfnot=qq#UDEA_NOT.copy()\n",
    "dfnot=dfnot.reset_index(drop=True)"
   ]
  },
  {
   "cell_type": "code",
   "execution_count": 50,
   "metadata": {},
   "outputs": [],
   "source": [
    "l=dfnot['authors_WOS'].loc[0]\n",
    "so=dfnot['SO'].loc[0]"
   ]
  },
  {
   "cell_type": "code",
   "execution_count": 51,
   "metadata": {},
   "outputs": [],
   "source": [
    "TEST=True\n",
    "if TEST:\n",
    "    l=[{'WOS_author': 'Ponce, W. A.',\n",
    "        'affiliation': \n",
    "        ['International Centre for Theoretical Physics, P.O.B. 586, Trieste, I-34100, Italy, Physics Depto., Univ Antioquia, A.A. 1226, Medellin, Colombia'],\n",
    "        'i': 0}]  \n",
    "    so='Zeitschrift für Physik C Particles and Fields'"
   ]
  },
  {
   "cell_type": "code",
   "execution_count": 52,
   "metadata": {},
   "outputs": [
    {
     "data": {
      "text/plain": [
       "[{'WOS_author': 'Ponce, W. A.',\n",
       "  'affiliation': ['International Centre for Theoretical Physics, P.O.B. 586, Trieste, I-34100, Italy, Physics Depto., Univ Antioquia, A.A. 1226, Medellin, Colombia'],\n",
       "  'i': 0}]"
      ]
     },
     "execution_count": 52,
     "metadata": {},
     "output_type": "execute_result"
    }
   ],
   "source": [
    "l"
   ]
  },
  {
   "cell_type": "code",
   "execution_count": 53,
   "metadata": {},
   "outputs": [
    {
     "data": {
      "text/plain": [
       "'Zeitschrift für Physik C Particles and Fields'"
      ]
     },
     "execution_count": 53,
     "metadata": {},
     "output_type": "execute_result"
    }
   ],
   "source": [
    "so"
   ]
  },
  {
   "cell_type": "code",
   "execution_count": 63,
   "metadata": {},
   "outputs": [],
   "source": [
    "import re\n",
    "import unidecode\n",
    "def author_quality_match(x,y,scorer=fuzz.token_set_ratio):\n",
    "    \n",
    "    chk={}\n",
    "    chk['simple_wos']=unidecode.unidecode(x).lower().replace(\n",
    "                       '.','').replace(',','').replace('-',' ')\n",
    "    chk['full_name']=unidecode.unidecode(y).lower().replace(\n",
    "                       '.','').replace(',','').replace('-',' ')\n",
    "    sn=re.sub('^(\\w+\\s+\\w+\\s+\\w)\\w+(\\s+\\w)\\w+$',r'\\1\\2',chk['full_name'])\n",
    "    chk['short_name']=re.sub('^(\\w+\\s+\\w+\\s+\\w)\\w+$',r'\\1',sn)\n",
    "    sn=re.sub('^(\\w+\\s+)\\w+\\s+(\\w+)\\s+\\w+$',r'\\1\\2',chk['full_name'])\n",
    "    chk['simple_name']=re.sub('^(\\w+\\s+)\\w+\\s+(\\w+)$',r'\\1\\2',sn)\n",
    "    chk['simple_second_name']=re.sub('^(\\w+\\s+)\\w+\\s+\\w+\\s+(\\w+)$',r'\\1\\2',chk['full_name'])\n",
    "    chk['last_name']=re.sub( '^(\\w+\\s+)\\w+\\s+(\\w+\\s+\\w+)$',r'\\1\\2', chk['full_name'] )\n",
    "    chk['last_names']=re.sub('^(\\w+\\s+\\w+\\s+\\w+)\\s+\\w+$',r'\\1',chk['full_name'])\n",
    "    chk['second_name']=re.sub('^(\\w+\\s+\\w+\\s+)\\w+\\s+(\\w+)$',r'\\1\\2',chk['full_name'])\n",
    "\n",
    "    chk['s1']=fuzz.token_sort_ratio( chk['simple_wos'],chk['full_name'])\n",
    "    chk['s1b']=fuzz.partial_token_sort_ratio( chk['simple_wos'],chk['full_name'])\n",
    "    chk['s2']=scorer( chk['simple_wos'],chk['short_name'])\n",
    "    chk['s3']=fuzz.ratio( chk['simple_wos'],chk['simple_name'])\n",
    "    chk['s3']=fuzz.ratio( chk['simple_wos'],chk['simple_second_name'])\n",
    "    chk['s4']=fuzz.token_sort_ratio( chk['simple_wos'],chk['last_name'])\n",
    "    chk['s5']=fuzz.token_sort_ratio(chk['simple_wos'],chk['last_names'])    \n",
    "    chk['s6']=fuzz.token_sort_ratio(chk['simple_wos'],chk['second_name'])\n",
    "    \n",
    "    chk['max']=max( chk['s1'],chk['s1b'],chk['s2'],chk['s3'],chk['s4'],chk['s5'],chk['s6'])\n",
    "    \n",
    "    return chk"
   ]
  },
  {
   "cell_type": "code",
   "execution_count": 64,
   "metadata": {},
   "outputs": [],
   "source": [
    "#for i in range(20):\n",
    "#l=dfnot['authors_WOS'].loc[i]\n",
    "#def json_fuzzy_merge(l,UDEA,contents,right_target='UDEA_authors',\n",
    "                       #left_on='WOS_author',extra_left_on='affiliation',\n",
    "                       #right_on='WOS_author',extra_right_on='WOS_affiliation',\n",
    "                       #cutoff=95,cutoff_affiliation=65,scorer=fuzz.partial_ratio):\n",
    "if True:                \n",
    "    right_target='UDEA_authors'\n",
    "    left_on='WOS_author'\n",
    "    extra_left_on='affiliation'\n",
    "    right_on='WOS_author' \n",
    "    extra_right_on='WOS_affiliation'\n",
    "    extra_extra_right_on='full_name'\n",
    "    SO='SO'\n",
    "    cutoff=92\n",
    "    cutoff_author=90\n",
    "    cutoff_affiliation=70\n",
    "    scorer=fuzz.token_set_ratio\n",
    "    DEBUG=False\n",
    "    newl=[]\n",
    "    for d in l:\n",
    "        AUTHOR=False\n",
    "        AFFILIATION=False\n",
    "        JOURNAL=True\n",
    "        dfraf=pd.DataFrame()        \n",
    "        au=d.get(left_on)\n",
    "        aff=d.get(extra_left_on)[0]\n",
    "        Q=1\n",
    "        break\n",
    "        # extract best WOS author match\n",
    "        #r=fwp.extractOne(au,contents[right_on],scorer=scorer)\n",
    "        #if r[1]>=cutoff:\n",
    "        #    raf=fwp.extractOne( aff, contents.loc[r[2],extra_right_on],scorer=scorer )\n",
    "            #print(r[1],r[2],raf[1],aff,',',contents.loc[r[2],extra_right_on])\n",
    "            #if raf[1]>=cutoff_affiliation:\n",
    "            #    newl=newl+[  contents.loc[r[2],right_target]  ]\n",
    "            #else:\n",
    "                #check SO\n",
    "                #newl=newl+[  contents.loc[r[2],right_target]  ]\n",
    "        #break\n",
    "    #if newl:\n",
    "    #    return newl\n",
    "    #else:\n",
    "    #    return None"
   ]
  },
  {
   "cell_type": "code",
   "execution_count": 65,
   "metadata": {},
   "outputs": [
    {
     "data": {
      "text/plain": [
       "'Ponce, W. A.'"
      ]
     },
     "execution_count": 65,
     "metadata": {},
     "output_type": "execute_result"
    }
   ],
   "source": [
    "au"
   ]
  },
  {
   "cell_type": "code",
   "execution_count": 66,
   "metadata": {},
   "outputs": [
    {
     "data": {
      "text/plain": [
       "'International Centre for Theoretical Physics, P.O.B. 586, Trieste, I-34100, Italy, Physics Depto., Univ Antioquia, A.A. 1226, Medellin, Colombia'"
      ]
     },
     "execution_count": 66,
     "metadata": {},
     "output_type": "execute_result"
    }
   ],
   "source": [
    "aff"
   ]
  },
  {
   "cell_type": "code",
   "execution_count": 67,
   "metadata": {},
   "outputs": [],
   "source": [
    "if True:\n",
    "        Q=1\n",
    "        # Try match author to a good degree\n",
    "        rau=fwp.extractOne(au,contents[right_on].apply(pd.Series).stack().unique(),scorer=scorer)\n",
    "        if DEBUG: print(1,rau)\n",
    "        if rau[1]>=cutoff:\n",
    "            AUTHOR=True\n",
    "            if DEBUG: print(2,AUTHOR)            "
   ]
  },
  {
   "cell_type": "code",
   "execution_count": 68,
   "metadata": {},
   "outputs": [
    {
     "data": {
      "text/plain": [
       "('Ponce, William A.', 88)"
      ]
     },
     "execution_count": 68,
     "metadata": {},
     "output_type": "execute_result"
    }
   ],
   "source": [
    "rau"
   ]
  },
  {
   "cell_type": "code",
   "execution_count": 69,
   "metadata": {},
   "outputs": [],
   "source": [
    "if True:\n",
    "        #Try match author with less quality: Q\n",
    "        #else:\n",
    "        if rau[1]<cutoff:\n",
    "            rau=fwp.extractOne(au,contents[right_on].apply(pd.Series).stack().unique(),\n",
    "                       scorer=fuzz.partial_token_sort_ratio)\n",
    "            if DEBUG: print(2.1,rau)            \n",
    "            if rau and rau[1]>=cutoff:\n",
    "                Q=Q-0.1\n",
    "                AUTHOR=True            "
   ]
  },
  {
   "cell_type": "code",
   "execution_count": 70,
   "metadata": {},
   "outputs": [
    {
     "data": {
      "text/plain": [
       "('Ponce, William A.', 100)"
      ]
     },
     "execution_count": 70,
     "metadata": {},
     "output_type": "execute_result"
    }
   ],
   "source": [
    "rau"
   ]
  },
  {
   "cell_type": "code",
   "execution_count": 71,
   "metadata": {},
   "outputs": [],
   "source": [
    "if True:\n",
    "        if AUTHOR:\n",
    "            dfraf=contents[contents[right_on].apply( lambda l: rau[0] in l )\n",
    "                                ].reset_index(drop=True)\n",
    "            full_name=dfraf[right_target].loc[0].get(extra_extra_right_on)\n",
    "            chk=author_quality_match(au,full_name,scorer=scorer)\n",
    "            if DEBUG: print(1.3,'chk max:',chk['max'])\n",
    "            if chk['max']<cutoff_author:\n",
    "                AUTHOR=False"
   ]
  },
  {
   "cell_type": "code",
   "execution_count": 72,
   "metadata": {},
   "outputs": [
    {
     "data": {
      "text/plain": [
       "100"
      ]
     },
     "execution_count": 72,
     "metadata": {},
     "output_type": "execute_result"
    }
   ],
   "source": [
    "chk['max']#>90"
   ]
  },
  {
   "cell_type": "code",
   "execution_count": 73,
   "metadata": {},
   "outputs": [],
   "source": [
    "if True:\n",
    "    if AUTHOR:\n",
    "            raf=fwp.extractOne(aff,dfraf[extra_right_on].loc[0],scorer=fuzz.ratio)\n",
    "            if DEBUG: print(2,raf)\n",
    "            if raf and raf[1]>=cutoff_affiliation:\n",
    "                AFFILIATION=True"
   ]
  },
  {
   "cell_type": "code",
   "execution_count": 74,
   "metadata": {},
   "outputs": [
    {
     "data": {
      "text/plain": [
       "('Univ Antioquia, Inst Fis, Calle 70 52-21, Medellin, Colombia.', 43)"
      ]
     },
     "execution_count": 74,
     "metadata": {},
     "output_type": "execute_result"
    }
   ],
   "source": [
    "raf"
   ]
  },
  {
   "cell_type": "code",
   "execution_count": 75,
   "metadata": {},
   "outputs": [],
   "source": [
    "if True:\n",
    "            #else:\n",
    "            if raf[1]<cutoff_affiliation:\n",
    "                Q=Q-0.1\n",
    "                raf=fwp.extractOne(aff,dfraf[extra_right_on].loc[0],\n",
    "                                   scorer=fuzz.partial_token_set_ratio)\n",
    "                if raf and raf[1]>=cutoff_affiliation:\n",
    "                    AFFILIATION=True"
   ]
  },
  {
   "cell_type": "code",
   "execution_count": 76,
   "metadata": {},
   "outputs": [
    {
     "data": {
      "text/plain": [
       "('Univ Antioquia, Inst Fis, Medellin, Colombia.', 100)"
      ]
     },
     "execution_count": 76,
     "metadata": {},
     "output_type": "execute_result"
    }
   ],
   "source": [
    "raf"
   ]
  },
  {
   "cell_type": "markdown",
   "metadata": {},
   "source": [
    "# ================"
   ]
  },
  {
   "cell_type": "markdown",
   "metadata": {},
   "source": [
    "Journal:"
   ]
  },
  {
   "cell_type": "code",
   "execution_count": 77,
   "metadata": {},
   "outputs": [],
   "source": [
    "full_name=dfraf['UDEA_authors'].loc[0].get('full_name')"
   ]
  },
  {
   "cell_type": "code",
   "execution_count": 78,
   "metadata": {},
   "outputs": [
    {
     "data": {
      "text/plain": [
       "'PONCE GUTIERREZ WILLIAM ANTONIO'"
      ]
     },
     "execution_count": 78,
     "metadata": {},
     "output_type": "execute_result"
    }
   ],
   "source": [
    "full_name"
   ]
  },
  {
   "cell_type": "code",
   "execution_count": 79,
   "metadata": {},
   "outputs": [],
   "source": [
    "if True:\n",
    "        if Q<1:\n",
    "            cutoff_so=50\n",
    "            if Q<0.9:\n",
    "                cutoff_so=60\n",
    "            if not dfraf.empty:\n",
    "                full_name=dfraf[right_target].loc[0].get(\n",
    "                        extra_extra_right_on)\n",
    "                if full_name:\n",
    "                    kkk=UDEA[UDEA['UDEA_nombre'].str.contains(full_name)\n",
    "                                ].reset_index(drop=True)\n",
    "                    rso=fwp.extractOne( so,   kkk.SO, scorer=scorer)\n",
    "                    if not rso:\n",
    "                        JOURNAL=False\n",
    "                    elif rso[1]<cutoff_so:\n",
    "                        JOURNAL=False"
   ]
  },
  {
   "cell_type": "code",
   "execution_count": 81,
   "metadata": {},
   "outputs": [
    {
     "data": {
      "text/plain": [
       "'Zeitschrift für Physik C Particles and Fields'"
      ]
     },
     "execution_count": 81,
     "metadata": {},
     "output_type": "execute_result"
    }
   ],
   "source": [
    "so"
   ]
  },
  {
   "cell_type": "code",
   "execution_count": 82,
   "metadata": {},
   "outputs": [
    {
     "data": {
      "text/plain": [
       "0                             REVISTA MEXICANA DE FISICA\n",
       "1    ACTA PHYSICA HUNGARICA NEW SERIES-HEAVY ION PHYSICS\n",
       "Name: SO, dtype: object"
      ]
     },
     "execution_count": 82,
     "metadata": {},
     "output_type": "execute_result"
    }
   ],
   "source": [
    "kkk.SO[:2]"
   ]
  },
  {
   "cell_type": "code",
   "execution_count": 83,
   "metadata": {},
   "outputs": [
    {
     "data": {
      "text/plain": [
       "('PARTICLES AND FIELDS, PROCEEDINGS', 77, 2)"
      ]
     },
     "execution_count": 83,
     "metadata": {},
     "output_type": "execute_result"
    }
   ],
   "source": [
    "rso"
   ]
  },
  {
   "cell_type": "code",
   "execution_count": 84,
   "metadata": {},
   "outputs": [],
   "source": [
    "if True:            \n",
    "            #else:\n",
    "            if dfraf.empty:\n",
    "                JOURNAL=False"
   ]
  },
  {
   "cell_type": "code",
   "execution_count": 85,
   "metadata": {},
   "outputs": [
    {
     "data": {
      "text/plain": [
       "True"
      ]
     },
     "execution_count": 85,
     "metadata": {},
     "output_type": "execute_result"
    }
   ],
   "source": [
    "JOURNAL"
   ]
  },
  {
   "cell_type": "code",
   "execution_count": 86,
   "metadata": {},
   "outputs": [
    {
     "name": "stdout",
     "output_type": "stream",
     "text": [
      "Ponce, W. A. → PONCE GUTIERREZ WILLIAM ANTONIO\n"
     ]
    }
   ],
   "source": [
    "if True:\n",
    "        if AUTHOR and AFFILIATION and JOURNAL:\n",
    "            mthchedd=dfraf.loc[0,right_target]\n",
    "            mthchedd['from_author_WOS_WOS_author']=au\n",
    "            newl=newl+[  mthchedd  ]\n",
    "            print('{} → {}'.format(au,newl[0][extra_extra_right_on]) ) "
   ]
  },
  {
   "cell_type": "markdown",
   "metadata": {},
   "source": [
    "Test full function  below"
   ]
  },
  {
   "cell_type": "markdown",
   "metadata": {},
   "source": [
    "# ================"
   ]
  },
  {
   "cell_type": "code",
   "execution_count": 88,
   "metadata": {},
   "outputs": [],
   "source": [
    "#for i in range(20):\n",
    "#l=dfnot['authors_WOS'].loc[i]\n",
    "#93,70\n",
    "from IPython.display import clear_output\n",
    "\n",
    "def json_fuzzy_merge(l,so,UDEA,contents,right_target='UDEA_authors',\n",
    "                       left_on='WOS_author',extra_left_on='affiliation',\n",
    "                       right_on='WOS_author',extra_right_on='WOS_affiliation',\n",
    "                       extra_extra_right_on='full_name',\n",
    "                       cutoff=93,\n",
    "                       cutoff_author=90,\n",
    "                       cutoff_affiliation=70,scorer=fuzz.token_set_ratio,\n",
    "                       DEBUG=False):\n",
    "    newl=[]\n",
    "    for d in l:\n",
    "        clear_output(wait=True)\n",
    "        AUTHOR=False\n",
    "        AFFILIATION=False\n",
    "        JOURNAL=True\n",
    "\n",
    "        dfraf=pd.DataFrame()\n",
    "        au=d.get(left_on)\n",
    "        aff=d.get(extra_left_on)[0]\n",
    "        Q=1\n",
    "        # Try match author to a good degree\n",
    "        rau=fwp.extractOne(au,contents[right_on].apply(pd.Series).stack().unique(),scorer=scorer)\n",
    "        if DEBUG: print(1,rau)\n",
    "        if rau[1]>=cutoff:\n",
    "            AUTHOR=True\n",
    "        #Try match author with less quality: Q\n",
    "        else:\n",
    "            rau=fwp.extractOne(au,contents[right_on].apply(pd.Series).stack().unique(),\n",
    "                       scorer=fuzz.partial_token_sort_ratio)\n",
    "            if DEBUG: print(1.1,rau)            \n",
    "            if rau and rau[1]>=cutoff:\n",
    "                Q=Q-0.1\n",
    "                AUTHOR=True\n",
    "        if DEBUG: print(1.2,'AUTHOR:',AUTHOR)                            \n",
    "        if AUTHOR:\n",
    "            dfraf=contents[contents[right_on].apply( lambda l: rau[0] in l )\n",
    "                                ].reset_index(drop=True)\n",
    "            full_name=dfraf[right_target].loc[0].get(extra_extra_right_on)\n",
    "            chk=author_quality_match(au,full_name,scorer=scorer)\n",
    "            if DEBUG: print(1.3,'chk max:',chk['max'])\n",
    "            if chk['max']<cutoff_author:\n",
    "                AUTHOR=False\n",
    "        if AUTHOR:\n",
    "            raf=fwp.extractOne(aff,dfraf[extra_right_on].loc[0],scorer=fuzz.ratio)\n",
    "            if DEBUG: print(2,raf)\n",
    "            if raf and raf[1]>=cutoff_affiliation:\n",
    "                AFFILIATION=True\n",
    "            else:\n",
    "                Q=Q-0.1\n",
    "                raf=fwp.extractOne(aff,dfraf[extra_right_on].loc[0],\n",
    "                                   scorer=fuzz.partial_token_set_ratio)\n",
    "                if DEBUG: print(2.1,raf)\n",
    "                if raf and raf[1]>=cutoff_affiliation:\n",
    "                    AFFILIATION=True\n",
    "\n",
    "        if DEBUG: print(2.2,'AFFILIATION:',AFFILIATION,'Q:',Q)                \n",
    "        if AUTHOR and Q<1:\n",
    "            cutoff_so=50\n",
    "            if Q<0.9:\n",
    "                cutoff_so=60\n",
    "            if not dfraf.empty and full_name:\n",
    "                kkk=UDEA[UDEA['UDEA_nombre'].str.contains(full_name)\n",
    "                                ].reset_index(drop=True)\n",
    "                rso=fwp.extractOne( so,   kkk.SO, scorer=scorer)\n",
    "                if not rso:\n",
    "                    JOURNAL=False\n",
    "                elif rso[1]<cutoff_so:\n",
    "                    JOURNAL=False\n",
    "            else:\n",
    "                JOURNAL=False\n",
    "        if DEBUG: print(3,'JOURNAL',JOURNAL)                \n",
    "        if AUTHOR and AFFILIATION and JOURNAL:\n",
    "            mthchedd=dfraf.loc[0,right_target]\n",
    "            mthchedd['from_author_WOS_WOS_author']=au\n",
    "            newl=newl+[  mthchedd  ]            \n",
    "            print('{} → {}'.format(au,newl[0][extra_extra_right_on]) ) \n",
    "    if newl:\n",
    "        return newl\n",
    "    else:\n",
    "        return None"
   ]
  },
  {
   "cell_type": "code",
   "execution_count": 89,
   "metadata": {},
   "outputs": [
    {
     "name": "stdout",
     "output_type": "stream",
     "text": [
      "1 ('Ponce, William A.', 88)\n",
      "1.1 ('Ponce, William A.', 100)\n",
      "1.2 AUTHOR: True\n",
      "1.3 chk max: 100\n",
      "2 ('Univ Antioquia, Inst Fis, Calle 70 52-21, Medellin, Colombia.', 43)\n",
      "2.1 ('Univ Antioquia, Inst Fis, Medellin, Colombia.', 100)\n",
      "2.2 AFFILIATION: True Q: 0.8\n",
      "3 JOURNAL True\n",
      "Ponce, W. A. → PONCE GUTIERREZ WILLIAM ANTONIO\n"
     ]
    }
   ],
   "source": [
    "dfraf=json_fuzzy_merge(l,so,UDEA,contents,DEBUG=True)"
   ]
  },
  {
   "cell_type": "code",
   "execution_count": 91,
   "metadata": {},
   "outputs": [
    {
     "name": "stdout",
     "output_type": "stream",
     "text": [
      "CPU times: user 1h 6min 49s, sys: 5.64 s, total: 1h 6min 55s\n",
      "Wall time: 1h 6min 54s\n"
     ]
    }
   ],
   "source": [
    "%time kk=UDEA_NOT['authors_WOS'].combine(UDEA_NOT['SO'],func=lambda l,so: json_fuzzy_merge(l,so,UDEA,contents) if type(l)==list else None)"
   ]
  },
  {
   "cell_type": "code",
   "execution_count": 92,
   "metadata": {},
   "outputs": [
    {
     "data": {
      "text/plain": [
       "(632,)"
      ]
     },
     "execution_count": 92,
     "metadata": {},
     "output_type": "execute_result"
    }
   ],
   "source": [
    "kk.dropna().shape"
   ]
  },
  {
   "cell_type": "code",
   "execution_count": 93,
   "metadata": {},
   "outputs": [],
   "source": [
    "qq=UDEA_NOT.reset_index(drop=True)\n",
    "qq['UDEA_authors']=kk"
   ]
  },
  {
   "cell_type": "code",
   "execution_count": null,
   "metadata": {},
   "outputs": [],
   "source": [
    "#pp=qq[qq['authors_WOS'].astype(str).str.contains('Ponce, W. A.')].reset_index(drop=True)#[['authors_WOS','UDEA_authors']]"
   ]
  },
  {
   "cell_type": "code",
   "execution_count": null,
   "metadata": {},
   "outputs": [],
   "source": [
    "#ppp=pp['authors_WOS'].combine(pp['SO'],func=lambda l,so: json_fuzzy_merge(l,so,UDEA,contents) \n",
    "#                              if type(l)==list else None)"
   ]
  },
  {
   "cell_type": "code",
   "execution_count": null,
   "metadata": {},
   "outputs": [],
   "source": [
    "#qq[['authors_WOS','UDEA_authors']]"
   ]
  },
  {
   "cell_type": "code",
   "execution_count": 101,
   "metadata": {},
   "outputs": [
    {
     "data": {
      "text/plain": [
       "4019"
      ]
     },
     "execution_count": 101,
     "metadata": {},
     "output_type": "execute_result"
    }
   ],
   "source": [
    "UDEA_NOT.shape[0]#+UDEA_YES.shape[0]"
   ]
  },
  {
   "cell_type": "code",
   "execution_count": 102,
   "metadata": {},
   "outputs": [
    {
     "data": {
      "text/plain": [
       "(632,)"
      ]
     },
     "execution_count": 102,
     "metadata": {},
     "output_type": "execute_result"
    }
   ],
   "source": [
    "qq['UDEA_authors'].dropna().shape"
   ]
  },
  {
   "cell_type": "code",
   "execution_count": 104,
   "metadata": {},
   "outputs": [],
   "source": [
    "qq=qq.fillna('')"
   ]
  },
  {
   "cell_type": "code",
   "execution_count": 105,
   "metadata": {},
   "outputs": [],
   "source": [
    "UDEA_NOT=qq.reset_index(drop=True)\n",
    "UDEA=UDEA_YES.append(UDEA_NOT,sort=False).reset_index(drop=True)"
   ]
  },
  {
   "cell_type": "markdown",
   "metadata": {},
   "source": [
    "### Quality check"
   ]
  },
  {
   "cell_type": "code",
   "execution_count": 94,
   "metadata": {},
   "outputs": [],
   "source": [
    "chk=pd.DataFrame( list(kk.dropna().str[0].values) )[['from_author_WOS_WOS_author','WOS_author','full_name']]"
   ]
  },
  {
   "cell_type": "code",
   "execution_count": 95,
   "metadata": {},
   "outputs": [],
   "source": [
    "import unidecode"
   ]
  },
  {
   "cell_type": "code",
   "execution_count": 96,
   "metadata": {},
   "outputs": [],
   "source": [
    "chk['simple_wos']=chk['from_author_WOS_WOS_author'].str.lower().str.replace(\n",
    "    '[\\.,]','').str.replace('\\-',' ').apply(unidecode.unidecode)\n",
    "chk['full_name'].str.lower().str.replace('[\\.,\\-]','').apply(unidecode.unidecode)\n",
    "chk['short_name']=chk['full_name'].str.lower().str.replace('[\\.,\\-]','').str.replace(\n",
    "            '^(\\w+\\s+\\w+\\s+\\w)\\w+(\\s+\\w)\\w+$',r'\\1\\2').str.replace(\n",
    "         '^(\\w+\\s+\\w+\\s+\\w)\\w+$',r'\\1').apply(unidecode.unidecode)\n",
    "chk['simple_name']=chk['full_name'].str.lower().str.replace('[\\.,]','').str.replace(\n",
    "             '\\-',' ').str.replace(\n",
    "            '^(\\w+\\s+)\\w+\\s+(\\w+)\\s+\\w+$',r'\\1\\2').str.replace(\n",
    "            '^(\\w+\\s+)\\w+\\s+(\\w+)$',r'\\1\\2').apply(unidecode.unidecode)\n",
    "chk['last_name']=chk['full_name'].str.lower().str.replace('[\\.,]','').str.replace(\n",
    "            '\\-',' ').str.replace(\n",
    "            '^(\\w+\\s+)\\w+\\s+(\\w+\\s+\\w+)$',r'\\1\\2')\n",
    "chk['last_names']=chk['full_name'].str.lower().str.replace('[\\.,]','').str.replace(\n",
    "             '\\-',' ').str.replace(\n",
    "            '^(\\w+\\s+\\w+\\s+\\w+)\\s+\\w+$',r'\\1')\n",
    "#dos apellidos y un nombre (sort)\n",
    "#un apellido y dos nombre  (sort)"
   ]
  },
  {
   "cell_type": "code",
   "execution_count": 97,
   "metadata": {},
   "outputs": [],
   "source": [
    "scorer=fuzz.token_set_ratio\n",
    "chk['s1']=chk['simple_wos'].combine( \n",
    "            chk['full_name'].str.lower().str.replace('[\\.,]','').apply(unidecode.unidecode),\n",
    "           func=fuzz.token_sort_ratio)\n",
    "chk['s1b']=chk['simple_wos'].combine( \n",
    "            chk['full_name'].str.lower().str.replace('[\\.,]','').apply(unidecode.unidecode),\n",
    "           func=fuzz.partial_token_sort_ratio)\n",
    "chk['s2']=chk['simple_wos'].combine(chk['short_name'],\n",
    "           func=scorer)\n",
    "chk['s3']=chk['simple_wos'].combine(chk['simple_name'],\n",
    "           func=fuzz.ratio)\n",
    "chk['s4']=chk['simple_wos'].combine(chk['last_name'],\n",
    "           func=fuzz.token_sort_ratio)\n",
    "chk['s5']=chk['simple_wos'].combine(chk['last_name'],\n",
    "           func=fuzz.token_sort_ratio)"
   ]
  },
  {
   "cell_type": "code",
   "execution_count": 98,
   "metadata": {},
   "outputs": [],
   "source": [
    "chk['rmax']=chk[['s1','s1b','s2','s3','s4','s5']].apply(max,axis=1)\n",
    "chk['rmin']=chk[['s1','s1b','s2','s3','s4','s5']].apply(min,axis=1)"
   ]
  },
  {
   "cell_type": "code",
   "execution_count": 99,
   "metadata": {},
   "outputs": [
    {
     "data": {
      "text/html": [
       "<div>\n",
       "<style scoped>\n",
       "    .dataframe tbody tr th:only-of-type {\n",
       "        vertical-align: middle;\n",
       "    }\n",
       "\n",
       "    .dataframe tbody tr th {\n",
       "        vertical-align: top;\n",
       "    }\n",
       "\n",
       "    .dataframe thead th {\n",
       "        text-align: right;\n",
       "    }\n",
       "</style>\n",
       "<table border=\"1\" class=\"dataframe\">\n",
       "  <thead>\n",
       "    <tr style=\"text-align: right;\">\n",
       "      <th></th>\n",
       "      <th>simple_wos</th>\n",
       "      <th>full_name</th>\n",
       "      <th>s1</th>\n",
       "      <th>s1b</th>\n",
       "      <th>short_name</th>\n",
       "      <th>s2</th>\n",
       "      <th>simple_name</th>\n",
       "      <th>s3</th>\n",
       "      <th>last_name</th>\n",
       "      <th>s4</th>\n",
       "      <th>rmin</th>\n",
       "      <th>rmax</th>\n",
       "    </tr>\n",
       "  </thead>\n",
       "  <tbody>\n",
       "    <tr>\n",
       "      <th>100</th>\n",
       "      <td>calderon j c</td>\n",
       "      <td>CALDERON VELEZ JUAN CAMILO</td>\n",
       "      <td>53</td>\n",
       "      <td>75</td>\n",
       "      <td>calderon velez j c</td>\n",
       "      <td>100</td>\n",
       "      <td>calderon juan</td>\n",
       "      <td>80</td>\n",
       "      <td>calderon juan camilo</td>\n",
       "      <td>62</td>\n",
       "      <td>53</td>\n",
       "      <td>100</td>\n",
       "    </tr>\n",
       "    <tr>\n",
       "      <th>101</th>\n",
       "      <td>pineda david a</td>\n",
       "      <td>PINEDA SALAZAR DAVID ANTONIO</td>\n",
       "      <td>67</td>\n",
       "      <td>93</td>\n",
       "      <td>pineda salazar d a</td>\n",
       "      <td>73</td>\n",
       "      <td>pineda david</td>\n",
       "      <td>92</td>\n",
       "      <td>pineda david antonio</td>\n",
       "      <td>82</td>\n",
       "      <td>67</td>\n",
       "      <td>93</td>\n",
       "    </tr>\n",
       "    <tr>\n",
       "      <th>102</th>\n",
       "      <td>isaza c v</td>\n",
       "      <td>ISAZA NARVAEZ CLAUDIA VICTORIA</td>\n",
       "      <td>46</td>\n",
       "      <td>78</td>\n",
       "      <td>isaza narvaez c v</td>\n",
       "      <td>100</td>\n",
       "      <td>isaza claudia</td>\n",
       "      <td>64</td>\n",
       "      <td>isaza claudia victoria</td>\n",
       "      <td>58</td>\n",
       "      <td>46</td>\n",
       "      <td>100</td>\n",
       "    </tr>\n",
       "    <tr>\n",
       "      <th>103</th>\n",
       "      <td>arzuaga maria angelica</td>\n",
       "      <td>ARZUAGA SALAZAR MARIA ANGELICA</td>\n",
       "      <td>85</td>\n",
       "      <td>100</td>\n",
       "      <td>arzuaga salazar m a</td>\n",
       "      <td>63</td>\n",
       "      <td>arzuaga maria</td>\n",
       "      <td>74</td>\n",
       "      <td>arzuaga maria angelica</td>\n",
       "      <td>100</td>\n",
       "      <td>63</td>\n",
       "      <td>100</td>\n",
       "    </tr>\n",
       "    <tr>\n",
       "      <th>104</th>\n",
       "      <td>gallardo c c</td>\n",
       "      <td>GALLARDO CABRERA CECILIA</td>\n",
       "      <td>67</td>\n",
       "      <td>75</td>\n",
       "      <td>gallardo cabrera c</td>\n",
       "      <td>100</td>\n",
       "      <td>gallardo cecilia</td>\n",
       "      <td>79</td>\n",
       "      <td>gallardo cabrera cecilia</td>\n",
       "      <td>67</td>\n",
       "      <td>67</td>\n",
       "      <td>100</td>\n",
       "    </tr>\n",
       "    <tr>\n",
       "      <th>105</th>\n",
       "      <td>quintero t m t</td>\n",
       "      <td>QUINTERO TOBON MARIA TERESA</td>\n",
       "      <td>68</td>\n",
       "      <td>79</td>\n",
       "      <td>quintero tobon m t</td>\n",
       "      <td>100</td>\n",
       "      <td>quintero maria</td>\n",
       "      <td>71</td>\n",
       "      <td>quintero maria teresa</td>\n",
       "      <td>69</td>\n",
       "      <td>68</td>\n",
       "      <td>100</td>\n",
       "    </tr>\n",
       "    <tr>\n",
       "      <th>106</th>\n",
       "      <td>uscategui r m</td>\n",
       "      <td>USCATEGUI PEÑUELA ROSA MAGDALENA</td>\n",
       "      <td>58</td>\n",
       "      <td>77</td>\n",
       "      <td>uscategui penuela r m</td>\n",
       "      <td>100</td>\n",
       "      <td>uscategui rosa</td>\n",
       "      <td>81</td>\n",
       "      <td>uscategui rosa magdalena</td>\n",
       "      <td>70</td>\n",
       "      <td>58</td>\n",
       "      <td>100</td>\n",
       "    </tr>\n",
       "    <tr>\n",
       "      <th>107</th>\n",
       "      <td>echeverria e f</td>\n",
       "      <td>ECHEVERRIA ECHEVERRIA FELIX</td>\n",
       "      <td>68</td>\n",
       "      <td>93</td>\n",
       "      <td>echeverria echeverria f</td>\n",
       "      <td>100</td>\n",
       "      <td>echeverria felix</td>\n",
       "      <td>80</td>\n",
       "      <td>echeverria echeverria felix</td>\n",
       "      <td>68</td>\n",
       "      <td>68</td>\n",
       "      <td>100</td>\n",
       "    </tr>\n",
       "    <tr>\n",
       "      <th>108</th>\n",
       "      <td>zapata jose edgar</td>\n",
       "      <td>ZAPATA MONTOYA JOSE EDGAR</td>\n",
       "      <td>81</td>\n",
       "      <td>71</td>\n",
       "      <td>zapata montoya j e</td>\n",
       "      <td>63</td>\n",
       "      <td>zapata jose</td>\n",
       "      <td>79</td>\n",
       "      <td>zapata jose edgar</td>\n",
       "      <td>100</td>\n",
       "      <td>63</td>\n",
       "      <td>100</td>\n",
       "    </tr>\n",
       "    <tr>\n",
       "      <th>109</th>\n",
       "      <td>betancur t</td>\n",
       "      <td>BETANCUR VARGAS TERESITA</td>\n",
       "      <td>59</td>\n",
       "      <td>100</td>\n",
       "      <td>betancur vargas t</td>\n",
       "      <td>100</td>\n",
       "      <td>betancur teresita</td>\n",
       "      <td>74</td>\n",
       "      <td>betancur vargas teresita</td>\n",
       "      <td>59</td>\n",
       "      <td>59</td>\n",
       "      <td>100</td>\n",
       "    </tr>\n",
       "    <tr>\n",
       "      <th>110</th>\n",
       "      <td>ardila c m</td>\n",
       "      <td>ARDILA MEDINA CARLOS MARTIN</td>\n",
       "      <td>54</td>\n",
       "      <td>80</td>\n",
       "      <td>ardila medina c m</td>\n",
       "      <td>100</td>\n",
       "      <td>ardila carlos</td>\n",
       "      <td>70</td>\n",
       "      <td>ardila carlos martin</td>\n",
       "      <td>67</td>\n",
       "      <td>54</td>\n",
       "      <td>100</td>\n",
       "    </tr>\n",
       "    <tr>\n",
       "      <th>111</th>\n",
       "      <td>martinez e</td>\n",
       "      <td>MARTINEZ LOPEZ ELKIN DE JESUS</td>\n",
       "      <td>51</td>\n",
       "      <td>90</td>\n",
       "      <td>martinez lopez elkin de jesus</td>\n",
       "      <td>89</td>\n",
       "      <td>martinez lopez elkin de jesus</td>\n",
       "      <td>51</td>\n",
       "      <td>martinez lopez elkin de jesus</td>\n",
       "      <td>51</td>\n",
       "      <td>51</td>\n",
       "      <td>90</td>\n",
       "    </tr>\n",
       "    <tr>\n",
       "      <th>112</th>\n",
       "      <td>correa m</td>\n",
       "      <td>CORREA OCHOA MARGARITA MARIA</td>\n",
       "      <td>44</td>\n",
       "      <td>100</td>\n",
       "      <td>correa ochoa m m</td>\n",
       "      <td>100</td>\n",
       "      <td>correa margarita</td>\n",
       "      <td>67</td>\n",
       "      <td>correa margarita maria</td>\n",
       "      <td>53</td>\n",
       "      <td>44</td>\n",
       "      <td>100</td>\n",
       "    </tr>\n",
       "    <tr>\n",
       "      <th>113</th>\n",
       "      <td>gaviria gomez n</td>\n",
       "      <td>GAVIRIA GOMEZ NATALIA</td>\n",
       "      <td>83</td>\n",
       "      <td>100</td>\n",
       "      <td>gaviria gomez n</td>\n",
       "      <td>100</td>\n",
       "      <td>gaviria natalia</td>\n",
       "      <td>60</td>\n",
       "      <td>gaviria gomez natalia</td>\n",
       "      <td>83</td>\n",
       "      <td>60</td>\n",
       "      <td>100</td>\n",
       "    </tr>\n",
       "    <tr>\n",
       "      <th>114</th>\n",
       "      <td>ruiz j a</td>\n",
       "      <td>RUIZ CORDOBA JAIRO ANTONIO</td>\n",
       "      <td>47</td>\n",
       "      <td>62</td>\n",
       "      <td>ruiz cordoba j a</td>\n",
       "      <td>100</td>\n",
       "      <td>ruiz jairo</td>\n",
       "      <td>78</td>\n",
       "      <td>ruiz jairo antonio</td>\n",
       "      <td>62</td>\n",
       "      <td>47</td>\n",
       "      <td>100</td>\n",
       "    </tr>\n",
       "    <tr>\n",
       "      <th>115</th>\n",
       "      <td>cardona d</td>\n",
       "      <td>CARDONA SANCHEZ DIANA PATRICIA</td>\n",
       "      <td>46</td>\n",
       "      <td>100</td>\n",
       "      <td>cardona sanchez d p</td>\n",
       "      <td>100</td>\n",
       "      <td>cardona diana</td>\n",
       "      <td>82</td>\n",
       "      <td>cardona diana patricia</td>\n",
       "      <td>58</td>\n",
       "      <td>46</td>\n",
       "      <td>100</td>\n",
       "    </tr>\n",
       "    <tr>\n",
       "      <th>116</th>\n",
       "      <td>gonzalez zapata l i</td>\n",
       "      <td>GONZALEZ ZAPATA LAURA INES</td>\n",
       "      <td>84</td>\n",
       "      <td>74</td>\n",
       "      <td>gonzalez zapata l i</td>\n",
       "      <td>100</td>\n",
       "      <td>gonzalez laura</td>\n",
       "      <td>67</td>\n",
       "      <td>gonzalez laura ines</td>\n",
       "      <td>74</td>\n",
       "      <td>67</td>\n",
       "      <td>100</td>\n",
       "    </tr>\n",
       "    <tr>\n",
       "      <th>117</th>\n",
       "      <td>castano e</td>\n",
       "      <td>CASTAÑO VELEZ ELKIN ARGEMIRO</td>\n",
       "      <td>49</td>\n",
       "      <td>100</td>\n",
       "      <td>castano velez e a</td>\n",
       "      <td>100</td>\n",
       "      <td>castano elkin</td>\n",
       "      <td>82</td>\n",
       "      <td>castaño elkin argemiro</td>\n",
       "      <td>53</td>\n",
       "      <td>49</td>\n",
       "      <td>100</td>\n",
       "    </tr>\n",
       "    <tr>\n",
       "      <th>118</th>\n",
       "      <td>florez r</td>\n",
       "      <td>FLOREZ RUEDA ROBERTO</td>\n",
       "      <td>57</td>\n",
       "      <td>100</td>\n",
       "      <td>florez rueda r</td>\n",
       "      <td>100</td>\n",
       "      <td>florez roberto</td>\n",
       "      <td>73</td>\n",
       "      <td>florez rueda roberto</td>\n",
       "      <td>57</td>\n",
       "      <td>57</td>\n",
       "      <td>100</td>\n",
       "    </tr>\n",
       "    <tr>\n",
       "      <th>119</th>\n",
       "      <td>velasquez penagos j a</td>\n",
       "      <td>VELASQUEZ PENAGOS JESUS ARNULFO</td>\n",
       "      <td>81</td>\n",
       "      <td>86</td>\n",
       "      <td>velasquez penagos j a</td>\n",
       "      <td>100</td>\n",
       "      <td>velasquez jesus</td>\n",
       "      <td>67</td>\n",
       "      <td>velasquez jesus arnulfo</td>\n",
       "      <td>68</td>\n",
       "      <td>67</td>\n",
       "      <td>100</td>\n",
       "    </tr>\n",
       "    <tr>\n",
       "      <th>120</th>\n",
       "      <td>rojas l mauricio</td>\n",
       "      <td>ROJAS LOPEZ MAURICIO</td>\n",
       "      <td>89</td>\n",
       "      <td>94</td>\n",
       "      <td>rojas lopez m</td>\n",
       "      <td>62</td>\n",
       "      <td>rojas mauricio</td>\n",
       "      <td>93</td>\n",
       "      <td>rojas lopez mauricio</td>\n",
       "      <td>89</td>\n",
       "      <td>62</td>\n",
       "      <td>94</td>\n",
       "    </tr>\n",
       "    <tr>\n",
       "      <th>121</th>\n",
       "      <td>penuela g a</td>\n",
       "      <td>PEÑUELA MESA GUSTAVO ANTONIO</td>\n",
       "      <td>56</td>\n",
       "      <td>82</td>\n",
       "      <td>penuela mesa g a</td>\n",
       "      <td>100</td>\n",
       "      <td>penuela gustavo</td>\n",
       "      <td>77</td>\n",
       "      <td>peñuela gustavo antonio</td>\n",
       "      <td>61</td>\n",
       "      <td>56</td>\n",
       "      <td>100</td>\n",
       "    </tr>\n",
       "    <tr>\n",
       "      <th>122</th>\n",
       "      <td>vasquez g m</td>\n",
       "      <td>VASQUEZ DUQUE GLORIA MARIA</td>\n",
       "      <td>59</td>\n",
       "      <td>73</td>\n",
       "      <td>vasquez duque g m</td>\n",
       "      <td>100</td>\n",
       "      <td>vasquez gloria</td>\n",
       "      <td>72</td>\n",
       "      <td>vasquez gloria maria</td>\n",
       "      <td>71</td>\n",
       "      <td>59</td>\n",
       "      <td>100</td>\n",
       "    </tr>\n",
       "    <tr>\n",
       "      <th>123</th>\n",
       "      <td>navas m c</td>\n",
       "      <td>NAVAS NAVAS MARIA CRISTINA</td>\n",
       "      <td>51</td>\n",
       "      <td>67</td>\n",
       "      <td>navas navas m c</td>\n",
       "      <td>100</td>\n",
       "      <td>navas maria</td>\n",
       "      <td>70</td>\n",
       "      <td>navas maria cristina</td>\n",
       "      <td>62</td>\n",
       "      <td>51</td>\n",
       "      <td>100</td>\n",
       "    </tr>\n",
       "    <tr>\n",
       "      <th>124</th>\n",
       "      <td>palacio l a</td>\n",
       "      <td>PALACIO SANTOS LUZ AMPARO</td>\n",
       "      <td>61</td>\n",
       "      <td>82</td>\n",
       "      <td>palacio santos l a</td>\n",
       "      <td>100</td>\n",
       "      <td>palacio luz</td>\n",
       "      <td>82</td>\n",
       "      <td>palacio luz amparo</td>\n",
       "      <td>76</td>\n",
       "      <td>61</td>\n",
       "      <td>100</td>\n",
       "    </tr>\n",
       "    <tr>\n",
       "      <th>125</th>\n",
       "      <td>galvan a l</td>\n",
       "      <td>GALVAN DIAZ ANA LUZ</td>\n",
       "      <td>69</td>\n",
       "      <td>90</td>\n",
       "      <td>galvan diaz a l</td>\n",
       "      <td>100</td>\n",
       "      <td>galvan ana</td>\n",
       "      <td>80</td>\n",
       "      <td>galvan ana luz</td>\n",
       "      <td>83</td>\n",
       "      <td>69</td>\n",
       "      <td>100</td>\n",
       "    </tr>\n",
       "    <tr>\n",
       "      <th>126</th>\n",
       "      <td>uribe londono f</td>\n",
       "      <td>URIBE LONDOÑO FEDERICO</td>\n",
       "      <td>81</td>\n",
       "      <td>93</td>\n",
       "      <td>uribe londono f</td>\n",
       "      <td>100</td>\n",
       "      <td>uribe federico</td>\n",
       "      <td>55</td>\n",
       "      <td>uribe londoño federico</td>\n",
       "      <td>78</td>\n",
       "      <td>55</td>\n",
       "      <td>100</td>\n",
       "    </tr>\n",
       "    <tr>\n",
       "      <th>127</th>\n",
       "      <td>arias valencia m m</td>\n",
       "      <td>ARIAS VALENCIA SAMUEL ANDRES</td>\n",
       "      <td>70</td>\n",
       "      <td>72</td>\n",
       "      <td>arias valencia s a</td>\n",
       "      <td>93</td>\n",
       "      <td>arias samuel</td>\n",
       "      <td>53</td>\n",
       "      <td>arias samuel andres</td>\n",
       "      <td>43</td>\n",
       "      <td>43</td>\n",
       "      <td>93</td>\n",
       "    </tr>\n",
       "    <tr>\n",
       "      <th>128</th>\n",
       "      <td>garcia garcia h i</td>\n",
       "      <td>GARCIA GARCIA HECTOR IVAN</td>\n",
       "      <td>81</td>\n",
       "      <td>88</td>\n",
       "      <td>garcia garcia h i</td>\n",
       "      <td>100</td>\n",
       "      <td>garcia hector</td>\n",
       "      <td>53</td>\n",
       "      <td>garcia hector ivan</td>\n",
       "      <td>57</td>\n",
       "      <td>53</td>\n",
       "      <td>100</td>\n",
       "    </tr>\n",
       "    <tr>\n",
       "      <th>129</th>\n",
       "      <td>botero j e</td>\n",
       "      <td>BOTERO TORRES JAVIER ENRIQUE</td>\n",
       "      <td>53</td>\n",
       "      <td>80</td>\n",
       "      <td>botero torres j e</td>\n",
       "      <td>100</td>\n",
       "      <td>botero javier</td>\n",
       "      <td>78</td>\n",
       "      <td>botero javier enrique</td>\n",
       "      <td>65</td>\n",
       "      <td>53</td>\n",
       "      <td>100</td>\n",
       "    </tr>\n",
       "    <tr>\n",
       "      <th>130</th>\n",
       "      <td>triana o</td>\n",
       "      <td>TRIANA CHAVEZ OMAR</td>\n",
       "      <td>62</td>\n",
       "      <td>88</td>\n",
       "      <td>triana chavez o</td>\n",
       "      <td>100</td>\n",
       "      <td>triana omar</td>\n",
       "      <td>84</td>\n",
       "      <td>triana chavez omar</td>\n",
       "      <td>62</td>\n",
       "      <td>62</td>\n",
       "      <td>100</td>\n",
       "    </tr>\n",
       "    <tr>\n",
       "      <th>131</th>\n",
       "      <td>agudelo n</td>\n",
       "      <td>AGUDELO VANEGAS NELSON ARMANDO</td>\n",
       "      <td>46</td>\n",
       "      <td>89</td>\n",
       "      <td>agudelo vanegas n a</td>\n",
       "      <td>100</td>\n",
       "      <td>agudelo nelson</td>\n",
       "      <td>78</td>\n",
       "      <td>agudelo nelson armando</td>\n",
       "      <td>58</td>\n",
       "      <td>46</td>\n",
       "      <td>100</td>\n",
       "    </tr>\n",
       "    <tr>\n",
       "      <th>132</th>\n",
       "      <td>jaramillo m c</td>\n",
       "      <td>JARAMILLO LOPEZ CARLOS MARIO</td>\n",
       "      <td>63</td>\n",
       "      <td>85</td>\n",
       "      <td>jaramillo lopez c m</td>\n",
       "      <td>100</td>\n",
       "      <td>jaramillo carlos</td>\n",
       "      <td>76</td>\n",
       "      <td>jaramillo carlos mario</td>\n",
       "      <td>74</td>\n",
       "      <td>63</td>\n",
       "      <td>100</td>\n",
       "    </tr>\n",
       "    <tr>\n",
       "      <th>133</th>\n",
       "      <td>patino pablo j</td>\n",
       "      <td>PATIÑO GRAJALES PABLO JAVIER</td>\n",
       "      <td>67</td>\n",
       "      <td>93</td>\n",
       "      <td>patino grajales p j</td>\n",
       "      <td>73</td>\n",
       "      <td>patino pablo</td>\n",
       "      <td>92</td>\n",
       "      <td>patiño pablo javier</td>\n",
       "      <td>81</td>\n",
       "      <td>67</td>\n",
       "      <td>93</td>\n",
       "    </tr>\n",
       "    <tr>\n",
       "      <th>134</th>\n",
       "      <td>garcia luis f</td>\n",
       "      <td>GARCIA MORENO LUIS FERNANDO</td>\n",
       "      <td>65</td>\n",
       "      <td>92</td>\n",
       "      <td>garcia moreno l f</td>\n",
       "      <td>76</td>\n",
       "      <td>garcia luis</td>\n",
       "      <td>92</td>\n",
       "      <td>garcia luis fernando</td>\n",
       "      <td>79</td>\n",
       "      <td>65</td>\n",
       "      <td>92</td>\n",
       "    </tr>\n",
       "    <tr>\n",
       "      <th>135</th>\n",
       "      <td>botero a a</td>\n",
       "      <td>ARISTIZABAL BOTERO CARLOS ANDRES</td>\n",
       "      <td>48</td>\n",
       "      <td>80</td>\n",
       "      <td>aristizabal botero c a</td>\n",
       "      <td>100</td>\n",
       "      <td>aristizabal carlos</td>\n",
       "      <td>29</td>\n",
       "      <td>aristizabal carlos andres</td>\n",
       "      <td>34</td>\n",
       "      <td>29</td>\n",
       "      <td>100</td>\n",
       "    </tr>\n",
       "    <tr>\n",
       "      <th>136</th>\n",
       "      <td>marcela escobar sierra diana</td>\n",
       "      <td>ESCOBAR SIERRA DIANA MARCELA</td>\n",
       "      <td>100</td>\n",
       "      <td>100</td>\n",
       "      <td>escobar sierra d m</td>\n",
       "      <td>88</td>\n",
       "      <td>escobar diana</td>\n",
       "      <td>63</td>\n",
       "      <td>escobar diana marcela</td>\n",
       "      <td>86</td>\n",
       "      <td>63</td>\n",
       "      <td>100</td>\n",
       "    </tr>\n",
       "    <tr>\n",
       "      <th>137</th>\n",
       "      <td>rojas w</td>\n",
       "      <td>ROJAS MONTOYA WINSTON</td>\n",
       "      <td>50</td>\n",
       "      <td>100</td>\n",
       "      <td>rojas montoya w</td>\n",
       "      <td>100</td>\n",
       "      <td>rojas winston</td>\n",
       "      <td>70</td>\n",
       "      <td>rojas montoya winston</td>\n",
       "      <td>50</td>\n",
       "      <td>50</td>\n",
       "      <td>100</td>\n",
       "    </tr>\n",
       "    <tr>\n",
       "      <th>138</th>\n",
       "      <td>carrizosa moog jaime</td>\n",
       "      <td>CARRIZOSA MOOG JAIME</td>\n",
       "      <td>100</td>\n",
       "      <td>100</td>\n",
       "      <td>carrizosa moog j</td>\n",
       "      <td>93</td>\n",
       "      <td>carrizosa jaime</td>\n",
       "      <td>86</td>\n",
       "      <td>carrizosa moog jaime</td>\n",
       "      <td>100</td>\n",
       "      <td>86</td>\n",
       "      <td>100</td>\n",
       "    </tr>\n",
       "    <tr>\n",
       "      <th>139</th>\n",
       "      <td>moreno m a</td>\n",
       "      <td>MORENO OCHOA MANUEL ANTONIO</td>\n",
       "      <td>54</td>\n",
       "      <td>70</td>\n",
       "      <td>moreno ochoa m a</td>\n",
       "      <td>100</td>\n",
       "      <td>moreno manuel</td>\n",
       "      <td>78</td>\n",
       "      <td>moreno manuel antonio</td>\n",
       "      <td>65</td>\n",
       "      <td>54</td>\n",
       "      <td>100</td>\n",
       "    </tr>\n",
       "    <tr>\n",
       "      <th>140</th>\n",
       "      <td>morales alvaro luis</td>\n",
       "      <td>MORALES ARAMBURO ALVARO LUIS</td>\n",
       "      <td>81</td>\n",
       "      <td>84</td>\n",
       "      <td>morales aramburo a l</td>\n",
       "      <td>72</td>\n",
       "      <td>morales alvaro</td>\n",
       "      <td>85</td>\n",
       "      <td>morales alvaro luis</td>\n",
       "      <td>100</td>\n",
       "      <td>72</td>\n",
       "      <td>100</td>\n",
       "    </tr>\n",
       "    <tr>\n",
       "      <th>141</th>\n",
       "      <td>bustamante f</td>\n",
       "      <td>BUSTAMANTE LONDOÑO FELIPE</td>\n",
       "      <td>65</td>\n",
       "      <td>100</td>\n",
       "      <td>bustamante londono f</td>\n",
       "      <td>100</td>\n",
       "      <td>bustamante felipe</td>\n",
       "      <td>83</td>\n",
       "      <td>bustamante londoño felipe</td>\n",
       "      <td>67</td>\n",
       "      <td>65</td>\n",
       "      <td>100</td>\n",
       "    </tr>\n",
       "    <tr>\n",
       "      <th>142</th>\n",
       "      <td>posada g j a</td>\n",
       "      <td>POSADA LOPEZ GLADYS ADRIANA</td>\n",
       "      <td>56</td>\n",
       "      <td>58</td>\n",
       "      <td>posada lopez g a</td>\n",
       "      <td>91</td>\n",
       "      <td>posada gladys</td>\n",
       "      <td>72</td>\n",
       "      <td>posada gladys adriana</td>\n",
       "      <td>61</td>\n",
       "      <td>56</td>\n",
       "      <td>91</td>\n",
       "    </tr>\n",
       "    <tr>\n",
       "      <th>143</th>\n",
       "      <td>zuleta j j</td>\n",
       "      <td>ZULETA TOBON JOHN JAIRO</td>\n",
       "      <td>61</td>\n",
       "      <td>70</td>\n",
       "      <td>zuleta tobon j j</td>\n",
       "      <td>100</td>\n",
       "      <td>zuleta john</td>\n",
       "      <td>76</td>\n",
       "      <td>zuleta john jairo</td>\n",
       "      <td>74</td>\n",
       "      <td>61</td>\n",
       "      <td>100</td>\n",
       "    </tr>\n",
       "    <tr>\n",
       "      <th>144</th>\n",
       "      <td>sanchez j a</td>\n",
       "      <td>SANCHEZ CARABALLO JORGE MARIO</td>\n",
       "      <td>55</td>\n",
       "      <td>73</td>\n",
       "      <td>sanchez caraballo j m</td>\n",
       "      <td>90</td>\n",
       "      <td>sanchez jorge</td>\n",
       "      <td>75</td>\n",
       "      <td>sanchez jorge mario</td>\n",
       "      <td>60</td>\n",
       "      <td>55</td>\n",
       "      <td>90</td>\n",
       "    </tr>\n",
       "    <tr>\n",
       "      <th>145</th>\n",
       "      <td>jaimes barragan f</td>\n",
       "      <td>JAIMES BARRAGAN FABIAN ALBERTO</td>\n",
       "      <td>72</td>\n",
       "      <td>71</td>\n",
       "      <td>jaimes barragan f a</td>\n",
       "      <td>100</td>\n",
       "      <td>jaimes fabian</td>\n",
       "      <td>67</td>\n",
       "      <td>jaimes fabian alberto</td>\n",
       "      <td>63</td>\n",
       "      <td>63</td>\n",
       "      <td>100</td>\n",
       "    </tr>\n",
       "    <tr>\n",
       "      <th>146</th>\n",
       "      <td>alvarez l</td>\n",
       "      <td>ALVAREZ SANCHEZ LUIS GONZALO</td>\n",
       "      <td>49</td>\n",
       "      <td>89</td>\n",
       "      <td>alvarez sanchez l g</td>\n",
       "      <td>100</td>\n",
       "      <td>alvarez luis</td>\n",
       "      <td>86</td>\n",
       "      <td>alvarez luis gonzalo</td>\n",
       "      <td>62</td>\n",
       "      <td>49</td>\n",
       "      <td>100</td>\n",
       "    </tr>\n",
       "    <tr>\n",
       "      <th>147</th>\n",
       "      <td>saldarriaga j r</td>\n",
       "      <td>SALDARRIAGA MOLINA JULIO ROBERTO</td>\n",
       "      <td>64</td>\n",
       "      <td>87</td>\n",
       "      <td>saldarriaga molina j r</td>\n",
       "      <td>100</td>\n",
       "      <td>saldarriaga julio</td>\n",
       "      <td>81</td>\n",
       "      <td>saldarriaga julio roberto</td>\n",
       "      <td>75</td>\n",
       "      <td>64</td>\n",
       "      <td>100</td>\n",
       "    </tr>\n",
       "    <tr>\n",
       "      <th>148</th>\n",
       "      <td>castano s</td>\n",
       "      <td>ALVAREZ CASTAÑO LUZ STELLA</td>\n",
       "      <td>51</td>\n",
       "      <td>89</td>\n",
       "      <td>alvarez castano l s</td>\n",
       "      <td>100</td>\n",
       "      <td>alvarez luz</td>\n",
       "      <td>30</td>\n",
       "      <td>alvarez luz stella</td>\n",
       "      <td>30</td>\n",
       "      <td>30</td>\n",
       "      <td>100</td>\n",
       "    </tr>\n",
       "    <tr>\n",
       "      <th>149</th>\n",
       "      <td>paris sara</td>\n",
       "      <td>PARIS ANGEL SARA CLAUDIA</td>\n",
       "      <td>59</td>\n",
       "      <td>100</td>\n",
       "      <td>paris angel s c</td>\n",
       "      <td>67</td>\n",
       "      <td>paris sara</td>\n",
       "      <td>100</td>\n",
       "      <td>paris sara claudia</td>\n",
       "      <td>71</td>\n",
       "      <td>59</td>\n",
       "      <td>100</td>\n",
       "    </tr>\n",
       "  </tbody>\n",
       "</table>\n",
       "</div>"
      ],
      "text/plain": [
       "                       simple_wos                         full_name   s1  s1b  \\\n",
       "100                  calderon j c        CALDERON VELEZ JUAN CAMILO   53   75   \n",
       "101                pineda david a      PINEDA SALAZAR DAVID ANTONIO   67   93   \n",
       "102                     isaza c v    ISAZA NARVAEZ CLAUDIA VICTORIA   46   78   \n",
       "103        arzuaga maria angelica    ARZUAGA SALAZAR MARIA ANGELICA   85  100   \n",
       "104                  gallardo c c          GALLARDO CABRERA CECILIA   67   75   \n",
       "105                quintero t m t       QUINTERO TOBON MARIA TERESA   68   79   \n",
       "106                 uscategui r m  USCATEGUI PEÑUELA ROSA MAGDALENA   58   77   \n",
       "107                echeverria e f       ECHEVERRIA ECHEVERRIA FELIX   68   93   \n",
       "108             zapata jose edgar         ZAPATA MONTOYA JOSE EDGAR   81   71   \n",
       "109                    betancur t          BETANCUR VARGAS TERESITA   59  100   \n",
       "110                    ardila c m       ARDILA MEDINA CARLOS MARTIN   54   80   \n",
       "111                    martinez e     MARTINEZ LOPEZ ELKIN DE JESUS   51   90   \n",
       "112                      correa m      CORREA OCHOA MARGARITA MARIA   44  100   \n",
       "113               gaviria gomez n             GAVIRIA GOMEZ NATALIA   83  100   \n",
       "114                      ruiz j a        RUIZ CORDOBA JAIRO ANTONIO   47   62   \n",
       "115                     cardona d    CARDONA SANCHEZ DIANA PATRICIA   46  100   \n",
       "116           gonzalez zapata l i        GONZALEZ ZAPATA LAURA INES   84   74   \n",
       "117                     castano e      CASTAÑO VELEZ ELKIN ARGEMIRO   49  100   \n",
       "118                      florez r              FLOREZ RUEDA ROBERTO   57  100   \n",
       "119         velasquez penagos j a   VELASQUEZ PENAGOS JESUS ARNULFO   81   86   \n",
       "120              rojas l mauricio              ROJAS LOPEZ MAURICIO   89   94   \n",
       "121                   penuela g a      PEÑUELA MESA GUSTAVO ANTONIO   56   82   \n",
       "122                   vasquez g m        VASQUEZ DUQUE GLORIA MARIA   59   73   \n",
       "123                     navas m c        NAVAS NAVAS MARIA CRISTINA   51   67   \n",
       "124                   palacio l a         PALACIO SANTOS LUZ AMPARO   61   82   \n",
       "125                    galvan a l               GALVAN DIAZ ANA LUZ   69   90   \n",
       "126               uribe londono f            URIBE LONDOÑO FEDERICO   81   93   \n",
       "127            arias valencia m m      ARIAS VALENCIA SAMUEL ANDRES   70   72   \n",
       "128             garcia garcia h i         GARCIA GARCIA HECTOR IVAN   81   88   \n",
       "129                    botero j e      BOTERO TORRES JAVIER ENRIQUE   53   80   \n",
       "130                      triana o                TRIANA CHAVEZ OMAR   62   88   \n",
       "131                     agudelo n    AGUDELO VANEGAS NELSON ARMANDO   46   89   \n",
       "132                 jaramillo m c      JARAMILLO LOPEZ CARLOS MARIO   63   85   \n",
       "133                patino pablo j      PATIÑO GRAJALES PABLO JAVIER   67   93   \n",
       "134                 garcia luis f       GARCIA MORENO LUIS FERNANDO   65   92   \n",
       "135                    botero a a  ARISTIZABAL BOTERO CARLOS ANDRES   48   80   \n",
       "136  marcela escobar sierra diana      ESCOBAR SIERRA DIANA MARCELA  100  100   \n",
       "137                       rojas w             ROJAS MONTOYA WINSTON   50  100   \n",
       "138          carrizosa moog jaime              CARRIZOSA MOOG JAIME  100  100   \n",
       "139                    moreno m a       MORENO OCHOA MANUEL ANTONIO   54   70   \n",
       "140           morales alvaro luis      MORALES ARAMBURO ALVARO LUIS   81   84   \n",
       "141                  bustamante f         BUSTAMANTE LONDOÑO FELIPE   65  100   \n",
       "142                  posada g j a       POSADA LOPEZ GLADYS ADRIANA   56   58   \n",
       "143                    zuleta j j           ZULETA TOBON JOHN JAIRO   61   70   \n",
       "144                   sanchez j a     SANCHEZ CARABALLO JORGE MARIO   55   73   \n",
       "145             jaimes barragan f    JAIMES BARRAGAN FABIAN ALBERTO   72   71   \n",
       "146                     alvarez l      ALVAREZ SANCHEZ LUIS GONZALO   49   89   \n",
       "147               saldarriaga j r  SALDARRIAGA MOLINA JULIO ROBERTO   64   87   \n",
       "148                     castano s        ALVAREZ CASTAÑO LUZ STELLA   51   89   \n",
       "149                    paris sara          PARIS ANGEL SARA CLAUDIA   59  100   \n",
       "\n",
       "                        short_name   s2                    simple_name   s3  \\\n",
       "100             calderon velez j c  100                  calderon juan   80   \n",
       "101             pineda salazar d a   73                   pineda david   92   \n",
       "102              isaza narvaez c v  100                  isaza claudia   64   \n",
       "103            arzuaga salazar m a   63                  arzuaga maria   74   \n",
       "104             gallardo cabrera c  100               gallardo cecilia   79   \n",
       "105             quintero tobon m t  100                 quintero maria   71   \n",
       "106          uscategui penuela r m  100                 uscategui rosa   81   \n",
       "107        echeverria echeverria f  100               echeverria felix   80   \n",
       "108             zapata montoya j e   63                    zapata jose   79   \n",
       "109              betancur vargas t  100              betancur teresita   74   \n",
       "110              ardila medina c m  100                  ardila carlos   70   \n",
       "111  martinez lopez elkin de jesus   89  martinez lopez elkin de jesus   51   \n",
       "112               correa ochoa m m  100               correa margarita   67   \n",
       "113                gaviria gomez n  100                gaviria natalia   60   \n",
       "114               ruiz cordoba j a  100                     ruiz jairo   78   \n",
       "115            cardona sanchez d p  100                  cardona diana   82   \n",
       "116            gonzalez zapata l i  100                 gonzalez laura   67   \n",
       "117              castano velez e a  100                  castano elkin   82   \n",
       "118                 florez rueda r  100                 florez roberto   73   \n",
       "119          velasquez penagos j a  100                velasquez jesus   67   \n",
       "120                  rojas lopez m   62                 rojas mauricio   93   \n",
       "121               penuela mesa g a  100                penuela gustavo   77   \n",
       "122              vasquez duque g m  100                 vasquez gloria   72   \n",
       "123                navas navas m c  100                    navas maria   70   \n",
       "124             palacio santos l a  100                    palacio luz   82   \n",
       "125                galvan diaz a l  100                     galvan ana   80   \n",
       "126                uribe londono f  100                 uribe federico   55   \n",
       "127             arias valencia s a   93                   arias samuel   53   \n",
       "128              garcia garcia h i  100                  garcia hector   53   \n",
       "129              botero torres j e  100                  botero javier   78   \n",
       "130                triana chavez o  100                    triana omar   84   \n",
       "131            agudelo vanegas n a  100                 agudelo nelson   78   \n",
       "132            jaramillo lopez c m  100               jaramillo carlos   76   \n",
       "133            patino grajales p j   73                   patino pablo   92   \n",
       "134              garcia moreno l f   76                    garcia luis   92   \n",
       "135         aristizabal botero c a  100             aristizabal carlos   29   \n",
       "136             escobar sierra d m   88                  escobar diana   63   \n",
       "137                rojas montoya w  100                  rojas winston   70   \n",
       "138               carrizosa moog j   93                carrizosa jaime   86   \n",
       "139               moreno ochoa m a  100                  moreno manuel   78   \n",
       "140           morales aramburo a l   72                 morales alvaro   85   \n",
       "141           bustamante londono f  100              bustamante felipe   83   \n",
       "142               posada lopez g a   91                  posada gladys   72   \n",
       "143               zuleta tobon j j  100                    zuleta john   76   \n",
       "144          sanchez caraballo j m   90                  sanchez jorge   75   \n",
       "145            jaimes barragan f a  100                  jaimes fabian   67   \n",
       "146            alvarez sanchez l g  100                   alvarez luis   86   \n",
       "147         saldarriaga molina j r  100              saldarriaga julio   81   \n",
       "148            alvarez castano l s  100                    alvarez luz   30   \n",
       "149                paris angel s c   67                     paris sara  100   \n",
       "\n",
       "                         last_name   s4  rmin  rmax  \n",
       "100           calderon juan camilo   62    53   100  \n",
       "101           pineda david antonio   82    67    93  \n",
       "102         isaza claudia victoria   58    46   100  \n",
       "103         arzuaga maria angelica  100    63   100  \n",
       "104       gallardo cabrera cecilia   67    67   100  \n",
       "105          quintero maria teresa   69    68   100  \n",
       "106       uscategui rosa magdalena   70    58   100  \n",
       "107    echeverria echeverria felix   68    68   100  \n",
       "108              zapata jose edgar  100    63   100  \n",
       "109       betancur vargas teresita   59    59   100  \n",
       "110           ardila carlos martin   67    54   100  \n",
       "111  martinez lopez elkin de jesus   51    51    90  \n",
       "112         correa margarita maria   53    44   100  \n",
       "113          gaviria gomez natalia   83    60   100  \n",
       "114             ruiz jairo antonio   62    47   100  \n",
       "115         cardona diana patricia   58    46   100  \n",
       "116            gonzalez laura ines   74    67   100  \n",
       "117         castaño elkin argemiro   53    49   100  \n",
       "118           florez rueda roberto   57    57   100  \n",
       "119        velasquez jesus arnulfo   68    67   100  \n",
       "120           rojas lopez mauricio   89    62    94  \n",
       "121        peñuela gustavo antonio   61    56   100  \n",
       "122           vasquez gloria maria   71    59   100  \n",
       "123           navas maria cristina   62    51   100  \n",
       "124             palacio luz amparo   76    61   100  \n",
       "125                 galvan ana luz   83    69   100  \n",
       "126         uribe londoño federico   78    55   100  \n",
       "127            arias samuel andres   43    43    93  \n",
       "128             garcia hector ivan   57    53   100  \n",
       "129          botero javier enrique   65    53   100  \n",
       "130             triana chavez omar   62    62   100  \n",
       "131         agudelo nelson armando   58    46   100  \n",
       "132         jaramillo carlos mario   74    63   100  \n",
       "133            patiño pablo javier   81    67    93  \n",
       "134           garcia luis fernando   79    65    92  \n",
       "135      aristizabal carlos andres   34    29   100  \n",
       "136          escobar diana marcela   86    63   100  \n",
       "137          rojas montoya winston   50    50   100  \n",
       "138           carrizosa moog jaime  100    86   100  \n",
       "139          moreno manuel antonio   65    54   100  \n",
       "140            morales alvaro luis  100    72   100  \n",
       "141      bustamante londoño felipe   67    65   100  \n",
       "142          posada gladys adriana   61    56    91  \n",
       "143              zuleta john jairo   74    61   100  \n",
       "144            sanchez jorge mario   60    55    90  \n",
       "145          jaimes fabian alberto   63    63   100  \n",
       "146           alvarez luis gonzalo   62    49   100  \n",
       "147      saldarriaga julio roberto   75    64   100  \n",
       "148             alvarez luz stella   30    30   100  \n",
       "149             paris sara claudia   71    59   100  "
      ]
     },
     "execution_count": 99,
     "metadata": {},
     "output_type": "execute_result"
    }
   ],
   "source": [
    "chk[['simple_wos','full_name','s1','s1b','short_name','s2','simple_name','s3','last_name','s4',\n",
    "     'rmin','rmax']].drop_duplicates('simple_wos').reset_index(drop=True)[100:150]"
   ]
  },
  {
   "cell_type": "code",
   "execution_count": null,
   "metadata": {},
   "outputs": [],
   "source": [
    "scorer( 'lopez jaramillo c', 'lopez jaramillo c a' )"
   ]
  },
  {
   "cell_type": "code",
   "execution_count": null,
   "metadata": {},
   "outputs": [],
   "source": [
    "chk[chk['rmax']<=90][['simple_wos','full_name','s1','s1b','short_name','s2','simple_name','s3','last_name','s4',\n",
    "     'rmin','rmax']].drop_duplicates('simple_wos').reset_index(drop=True)[:3]"
   ]
  },
  {
   "cell_type": "code",
   "execution_count": null,
   "metadata": {},
   "outputs": [],
   "source": [
    "chk[chk['rmax']>90][['simple_wos','full_name','s1','s1b','short_name','s2','simple_name','s3','last_name','s4',\n",
    "     'rmin','rmax']].drop_duplicates('simple_wos').reset_index(drop=True)[:3]"
   ]
  },
  {
   "cell_type": "markdown",
   "metadata": {},
   "source": [
    "## implementation quality check\n",
    "* apply on kk to obtain full name and 'from_author_WOS_WOS_author'\n",
    "* with this x and y apply to obtain rmax\n",
    "* cut on rmax"
   ]
  },
  {
   "cell_type": "code",
   "execution_count": 100,
   "metadata": {},
   "outputs": [
    {
     "data": {
      "text/html": [
       "<div>\n",
       "<style scoped>\n",
       "    .dataframe tbody tr th:only-of-type {\n",
       "        vertical-align: middle;\n",
       "    }\n",
       "\n",
       "    .dataframe tbody tr th {\n",
       "        vertical-align: top;\n",
       "    }\n",
       "\n",
       "    .dataframe thead th {\n",
       "        text-align: right;\n",
       "    }\n",
       "</style>\n",
       "<table border=\"1\" class=\"dataframe\">\n",
       "  <thead>\n",
       "    <tr style=\"text-align: right;\">\n",
       "      <th></th>\n",
       "      <th>simple_wos</th>\n",
       "      <th>full_name</th>\n",
       "      <th>s1</th>\n",
       "      <th>s1b</th>\n",
       "      <th>short_name</th>\n",
       "      <th>s2</th>\n",
       "      <th>simple_name</th>\n",
       "      <th>s3</th>\n",
       "      <th>last_name</th>\n",
       "      <th>s4</th>\n",
       "      <th>rmin</th>\n",
       "      <th>rmax</th>\n",
       "    </tr>\n",
       "  </thead>\n",
       "  <tbody>\n",
       "    <tr>\n",
       "      <th>509</th>\n",
       "      <td>ponce w a</td>\n",
       "      <td>PONCE GUTIERREZ WILLIAM ANTONIO</td>\n",
       "      <td>45</td>\n",
       "      <td>89</td>\n",
       "      <td>ponce gutierrez w a</td>\n",
       "      <td>100</td>\n",
       "      <td>ponce william</td>\n",
       "      <td>73</td>\n",
       "      <td>ponce william antonio</td>\n",
       "      <td>60</td>\n",
       "      <td>45</td>\n",
       "      <td>100</td>\n",
       "    </tr>\n",
       "    <tr>\n",
       "      <th>510</th>\n",
       "      <td>ponce w a</td>\n",
       "      <td>PONCE GUTIERREZ WILLIAM ANTONIO</td>\n",
       "      <td>45</td>\n",
       "      <td>89</td>\n",
       "      <td>ponce gutierrez w a</td>\n",
       "      <td>100</td>\n",
       "      <td>ponce william</td>\n",
       "      <td>73</td>\n",
       "      <td>ponce william antonio</td>\n",
       "      <td>60</td>\n",
       "      <td>45</td>\n",
       "      <td>100</td>\n",
       "    </tr>\n",
       "    <tr>\n",
       "      <th>514</th>\n",
       "      <td>ponce w a</td>\n",
       "      <td>PONCE GUTIERREZ WILLIAM ANTONIO</td>\n",
       "      <td>45</td>\n",
       "      <td>89</td>\n",
       "      <td>ponce gutierrez w a</td>\n",
       "      <td>100</td>\n",
       "      <td>ponce william</td>\n",
       "      <td>73</td>\n",
       "      <td>ponce william antonio</td>\n",
       "      <td>60</td>\n",
       "      <td>45</td>\n",
       "      <td>100</td>\n",
       "    </tr>\n",
       "    <tr>\n",
       "      <th>516</th>\n",
       "      <td>ponce w a</td>\n",
       "      <td>PONCE GUTIERREZ WILLIAM ANTONIO</td>\n",
       "      <td>45</td>\n",
       "      <td>89</td>\n",
       "      <td>ponce gutierrez w a</td>\n",
       "      <td>100</td>\n",
       "      <td>ponce william</td>\n",
       "      <td>73</td>\n",
       "      <td>ponce william antonio</td>\n",
       "      <td>60</td>\n",
       "      <td>45</td>\n",
       "      <td>100</td>\n",
       "    </tr>\n",
       "    <tr>\n",
       "      <th>517</th>\n",
       "      <td>ponce w a</td>\n",
       "      <td>PONCE GUTIERREZ WILLIAM ANTONIO</td>\n",
       "      <td>45</td>\n",
       "      <td>89</td>\n",
       "      <td>ponce gutierrez w a</td>\n",
       "      <td>100</td>\n",
       "      <td>ponce william</td>\n",
       "      <td>73</td>\n",
       "      <td>ponce william antonio</td>\n",
       "      <td>60</td>\n",
       "      <td>45</td>\n",
       "      <td>100</td>\n",
       "    </tr>\n",
       "  </tbody>\n",
       "</table>\n",
       "</div>"
      ],
      "text/plain": [
       "    simple_wos                        full_name  s1  s1b           short_name  \\\n",
       "509  ponce w a  PONCE GUTIERREZ WILLIAM ANTONIO  45   89  ponce gutierrez w a   \n",
       "510  ponce w a  PONCE GUTIERREZ WILLIAM ANTONIO  45   89  ponce gutierrez w a   \n",
       "514  ponce w a  PONCE GUTIERREZ WILLIAM ANTONIO  45   89  ponce gutierrez w a   \n",
       "516  ponce w a  PONCE GUTIERREZ WILLIAM ANTONIO  45   89  ponce gutierrez w a   \n",
       "517  ponce w a  PONCE GUTIERREZ WILLIAM ANTONIO  45   89  ponce gutierrez w a   \n",
       "\n",
       "      s2    simple_name  s3              last_name  s4  rmin  rmax  \n",
       "509  100  ponce william  73  ponce william antonio  60    45   100  \n",
       "510  100  ponce william  73  ponce william antonio  60    45   100  \n",
       "514  100  ponce william  73  ponce william antonio  60    45   100  \n",
       "516  100  ponce william  73  ponce william antonio  60    45   100  \n",
       "517  100  ponce william  73  ponce william antonio  60    45   100  "
      ]
     },
     "execution_count": 100,
     "metadata": {},
     "output_type": "execute_result"
    }
   ],
   "source": [
    "chk[chk.full_name.str.contains('PONCE')][['simple_wos','full_name','s1','s1b','short_name','s2','simple_name','s3','last_name','s4',\n",
    "     'rmin','rmax']]"
   ]
  },
  {
   "cell_type": "code",
   "execution_count": null,
   "metadata": {},
   "outputs": [],
   "source": [
    "'A.-B'.replace('.','')"
   ]
  },
  {
   "cell_type": "code",
   "execution_count": null,
   "metadata": {},
   "outputs": [],
   "source": [
    "x='Ponce, W. A.'\n",
    "y='PONCE GUTIERREZ WILLIAM ANTONIO'\n"
   ]
  },
  {
   "cell_type": "code",
   "execution_count": null,
   "metadata": {},
   "outputs": [],
   "source": [
    "%time chk=author_quality_match(x,y)"
   ]
  },
  {
   "cell_type": "code",
   "execution_count": null,
   "metadata": {},
   "outputs": [],
   "source": [
    ".str.lower().str.replace('[\\.,\\-]','').apply(unidecode.unidecode)\n",
    "#dos apellidos y un nombre (sort)\n",
    "#un apellido y dos nombre  (sort)    "
   ]
  },
  {
   "cell_type": "code",
   "execution_count": 152,
   "metadata": {},
   "outputs": [
    {
     "data": {
      "text/plain": [
       "(1164,)"
      ]
     },
     "execution_count": 152,
     "metadata": {},
     "output_type": "execute_result"
    }
   ],
   "source": [
    "UDEA_YES['authors_WOS'].apply(lambda l: l if type(l)==list and len(l)==0 else None).dropna().shape"
   ]
  },
  {
   "cell_type": "code",
   "execution_count": 153,
   "metadata": {},
   "outputs": [
    {
     "data": {
      "text/plain": [
       "(861,)"
      ]
     },
     "execution_count": 153,
     "metadata": {},
     "output_type": "execute_result"
    }
   ],
   "source": [
    "UDEA_NOT['authors_WOS'].apply(lambda l: l if type(l)==list and len(l)==0 else None).dropna().shape"
   ]
  },
  {
   "cell_type": "code",
   "execution_count": 157,
   "metadata": {},
   "outputs": [
    {
     "data": {
      "text/plain": [
       "(1164, 181)"
      ]
     },
     "execution_count": 157,
     "metadata": {},
     "output_type": "execute_result"
    }
   ],
   "source": [
    "UDEA_YES[ UDEA_YES['authors_WOS'].astype(str)=='[]' ].shape"
   ]
  },
  {
   "cell_type": "code",
   "execution_count": 159,
   "metadata": {},
   "outputs": [
    {
     "data": {
      "text/plain": [
       "'[Morillo, V. K.] Univ Nacl Colombia, Appl Mineral & Bioproc Grp, Medellin, Colombia.\\nUniv Nacl Colombia, Appl Mineral & Bioproc Grp, Medellin, Colombia.\\n[Morales, A. L.] Antioquia Univ, Solid State Grp, Medellin, Colombia.\\n'"
      ]
     },
     "execution_count": 159,
     "metadata": {},
     "output_type": "execute_result"
    }
   ],
   "source": [
    "UDEA_NOT[ UDEA_NOT['authors_WOS'].astype(str)=='[]' ].C1.loc[28] # Remove &"
   ]
  },
  {
   "cell_type": "code",
   "execution_count": 163,
   "metadata": {},
   "outputs": [
    {
     "data": {
      "text/plain": [
       "'[Rossi, Francesco; Reklaitis, Gintaras] Purdue Univ, Sch Chem Engn, Forney Hall Chem Engn,480 Stadium Mall Dr, W Lafayette, IN 47907 USA.\\n[Rossi, Francesco; Manenti, Flavio; Buzzi-Ferraris, Guido] Politecn Milan, Dipartimento Chim Mat & Ingn Chim Giulio Natta, Piazza Leonardo da Vinci 32, I-20123 Milan, Italy.\\n[Casas-Orozco, Daniel] UdeA, Chem Engn Dept, Calle 70 52-21, Medellin, Colombia.\\n'"
      ]
     },
     "execution_count": 163,
     "metadata": {},
     "output_type": "execute_result"
    }
   ],
   "source": [
    "UDEA_NOT[ UDEA_NOT['authors_WOS'].astype(str)=='[]' ].C1.loc[3053] # double name"
   ]
  },
  {
   "cell_type": "code",
   "execution_count": 173,
   "metadata": {},
   "outputs": [
    {
     "data": {
      "text/plain": [
       "(2025, 181)"
      ]
     },
     "execution_count": 173,
     "metadata": {},
     "output_type": "execute_result"
    }
   ],
   "source": [
    "pp=UDEA[UDEA['authors_WOS'].astype(str)=='[]']\n",
    "pp.shape"
   ]
  },
  {
   "cell_type": "code",
   "execution_count": 174,
   "metadata": {},
   "outputs": [
    {
     "data": {
      "text/plain": [
       "(260, 181)"
      ]
     },
     "execution_count": 174,
     "metadata": {},
     "output_type": "execute_result"
    }
   ],
   "source": [
    "pp[pp['C1'].astype(str).str.contains('\\[')].shape"
   ]
  },
  {
   "cell_type": "code",
   "execution_count": null,
   "metadata": {},
   "outputs": [],
   "source": []
  }
 ],
 "metadata": {
  "colab": {
   "include_colab_link": true,
   "name": "merge.ipynb",
   "provenance": [],
   "version": "0.3.2"
  },
  "kernelspec": {
   "display_name": "Python 3",
   "language": "python",
   "name": "python3"
  },
  "latex_envs": {
   "LaTeX_envs_menu_present": true,
   "autoclose": false,
   "autocomplete": true,
   "bibliofile": "biblio.bib",
   "cite_by": "apalike",
   "current_citInitial": 1,
   "eqLabelWithNumbers": true,
   "eqNumInitial": 1,
   "hotkeys": {
    "equation": "Ctrl-E",
    "itemize": "Ctrl-I"
   },
   "labels_anchors": false,
   "latex_user_defs": false,
   "report_style_numbering": false,
   "user_envs_cfg": false
  }
 },
 "nbformat": 4,
 "nbformat_minor": 2
}
