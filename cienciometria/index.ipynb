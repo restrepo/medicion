{
  "nbformat": 4,
  "nbformat_minor": 0,
  "metadata": {
    "colab": {
      "name": "index.ipynb",
      "version": "0.3.2",
      "provenance": [],
      "include_colab_link": true
    }
  },
  "cells": [
    {
      "cell_type": "markdown",
      "metadata": {
        "id": "view-in-github",
        "colab_type": "text"
      },
      "source": [
        "[View in Colaboratory](https://colab.research.google.com/github/restrepo/medicion/blob/master/cienciometria/index.ipynb)"
      ]
    },
    {
      "metadata": {
        "id": "gKE15hDfws0O",
        "colab_type": "text"
      },
      "cell_type": "markdown",
      "source": [
        "# Combinación de bases de datos de artículos científicos\n",
        "```\n",
        "URL_base=https://colab.research.google.com/github/blob_file_in_repo\n",
        "blob_file_in_repo → restrepo/medicion/blob/master/cienciometria/merge.ipynb\n",
        "\n",
        "```\n",
        "## UdeA\n",
        "### Combinar bases de datos bibliográficas UDEA\n",
        "* [Combibnar W0S+SCP+SCI](https://colab.research.google.com/github/restrepo/medicion/blob/master/cienciometria/merge.ipynb) versión detallada\n",
        "* [Combibnar W0S+SCP+SCI](https://colab.research.google.com/github/restrepo/medicion/blob/master/cienciometria/WOS_SCI_SCP.ipynb) versión corta\n",
        "##  [Open Access](https://colab.research.google.com/github/restrepo/medicion/blob/master/cienciometria/OpenAccess.ipynb) DOAJ API \n",
        "##  [Open Access](https://colab.research.google.com/github/restrepo/medicion/blob/master/cienciometria/XXX.ipynb)  \n",
        "\n",
        "https://unpaywall.org/ dataset. See https://towardsdatascience.com/interactively-analyse-100gb-of-json-data-with-spark-e018f9436e76\n",
        "```bash\n",
        "# Select True Open Access articles\n",
        "grep -E '\"is_oa\":\\s*true' unpaywall_snapshot_2018-06-21T164548_with_versions.jsonl  >  oa.json\n",
        "```\n",
        "\n",
        "Further filters in `oa.json`\n",
        "```bash\n",
        "grep -E '\"journal_is_oa\":\\s*true' oa.json > oagreen.json\n",
        "grep -E '\"journal_is_oa\":\\s*false' oa.json > oatmp.json\n",
        "```\n",
        "Further filters in `oatmp.json`\n",
        "```bash\n",
        "grep -F '\"best_oa_location\": {\"url\": \"https://doi.org/' oatmp.json > oagreenarticle.json\n",
        "grep -Fv '\"best_oa_location\": {\"url\": \"https://doi.org/' oatmp.json > oayellow.json\n",
        "```\n",
        "Generate a cvs files with only  DOI column for each with the script `extractdois`:\n",
        "```bash\n",
        "#!/usr/bin/env bash\n",
        "if [ ! \"$2\" ];then\n",
        "    echo \"USAGE: $0 filein fileout\"\n",
        "    exit\n",
        "fi\n",
        "echo DOI > \"$2\"\n",
        "awk -F\",\"  '{print $1}' \"$1\" |  grep '\"doi\":' | awk -F '\"' '{print $(NF-1)}' >> \"$2\"\n",
        "```\n",
        "So:\n",
        "```bash\n",
        "extractdois  unpaywall_snapshot_2018-06-21T164548_with_versions.json dois.csv\n",
        "extractdois  oa.json oadoi.csv\n",
        "extractdois  oagreen.json oagreendois.csv\n",
        "extractdois  oagreenarticle.json oagreenarticledois.csv\n",
        "extractdois  oayellow,json oayellowdois.csv\n",
        "```\n",
        "Results here:\n",
        "1. [oa.json](https://drive.google.com/file/d/1B6ndkSGNtHfPLm7CuCJMsoh_URHImK7v/view?usp=sharing)\n",
        "1. [oayellow.json]()\n",
        "1. [oagreen.json]()\n",
        "1. [oagreenarticle.json]()\n",
        "1. [dois.csv]()\n",
        "1. [oadois.csv](https://drive.google.com/file/d/1uipr7JlNhLzZK5W8VymUNwVGGim-AqhC/view?usp=sharing)\n",
        "1. [oayellowdois.csv](https://drive.google.com/file/d/1sBFXSOVXDZwqkI0SsUfNoU9ls138aHSw/view?usp=sharing)\n",
        "1. [oagreendois.csv](https://drive.google.com/file/d/1RKB49-9xbTSuLxBZQ28JoQCzKNTr2tnU/view?usp=sharing)\n",
        "1. [oagreenarticledois.csv](https://drive.google.com/file/d/1X5hr_q15UdoKKL_JJnLZR37r0UN2AS7y/view?usp=sharing)\n",
        "\n",
        "* TODO: comprobar los APIS de http://blog.impactstory.org/introducting-oadoi/. Por ejemplo\n",
        "Usar\n",
        " \n",
        " http://oadoi.org/10.1103/PhysRevD.98.055016\n",
        "\n",
        " En lugar de   http:://doi.org/10.1103/PhysRevD.98.055016\n",
        " \n",
        " To extract a line it is posible to ue the command\n",
        " ```bash\n",
        " n=5234678\n",
        " sed -n  ''$n','$n'p;'$n'q' oagreen.json\n",
        " ```"
      ]
    },
    {
      "metadata": {
        "id": "6t8SlEub3cS8",
        "colab_type": "code",
        "colab": {}
      },
      "cell_type": "code",
      "source": [
        "import pandas as pd"
      ],
      "execution_count": 0,
      "outputs": []
    },
    {
      "metadata": {
        "id": "10pOtTQlxlog",
        "colab_type": "text"
      },
      "cell_type": "markdown",
      "source": [
        "Open Acces colores\n",
        "Yellow open Access\n",
        "1.  Only artilcle in not oa journal"
      ]
    },
    {
      "metadata": {
        "id": "8hLuDm9dmYKo",
        "colab_type": "code",
        "colab": {}
      },
      "cell_type": "code",
      "source": [
        "{\"doi\": \"10.1103/physrevd.97.115032\", \"year\": 2018, \"genre\": \"journal-article\", \"is_oa\": true, \n",
        " \"title\": \"Bound-state dark matter and Dirac neutrino masses\", \n",
        " \"doi_url\": \"https://doi.org/10.1103/physrevd.97.115032\", \"updated\": \"2018-06-20T13:53:19.253782\", \n",
        " \"publisher\": \"American Physical Society (APS)\", \"z_authors\": [{\"given\": \"M.\", \"family\": \"Reig\", \"sequence\": \"first\"},\n",
        "                                                               {\"given\": \"D.\", \"family\": \"Restrepo\", \"sequence\": \"additional\"}, \n",
        "                                                               {\"given\": \"J. W. F.\", \"family\": \"Valle\", \"sequence\": \"additional\"}, \n",
        "                                                               {\"given\": \"O.\", \"family\": \"Zapata\", \"sequence\": \"additional\"}], \n",
        " \"journal_name\": \"Physical Review D\", \n",
        " \"oa_locations\": [{\"url\": \"https://doi.org/10.1103/physrevd.97.115032\", \"pmh_id\": null,\n",
        "                   \"is_best\": true, \"license\": \"cc-by\", \"updated\": \"2018-06-20T13:53:19.252860\", \n",
        "                   \"version\": \"publishedVersion\", \"evidence\": \"open (via crossref license)\", \"host_type\": \"publisher\", \"url_for_pdf\": null,\n",
        "                   \"url_for_landing_page\": \"https://doi.org/10.1103/physrevd.97.115032\"}], \n",
        " \"data_standard\": 1, \"journal_is_oa\": false, \"journal_issns\": \"2470-0010,2470-0029\", \"published_date\": \"2018-06-19\", \n",
        " \"best_oa_location\": {\"url\": \"https://doi.org/10.1103/physrevd.97.115032\", \"pmh_id\": null, \"is_best\": true, \"license\": \"cc-by\", \n",
        "                      \"updated\": \"2018-06-20T13:53:19.252860\", \"version\": \"publishedVersion\", \"evidence\": \"open (via crossref license)\", \n",
        "                      \"host_type\": \"publisher\", \"url_for_pdf\": null, \"url_for_landing_page\": \"https://doi.org/10.1103/physrevd.97.115032\"}, \n",
        " \"journal_is_in_doaj\": false}\n"
      ],
      "execution_count": 0,
      "outputs": []
    },
    {
      "metadata": {
        "id": "OlrnJs9zyUIb",
        "colab_type": "text"
      },
      "cell_type": "markdown",
      "source": [
        "2. No OA article with OA PDF version-"
      ]
    },
    {
      "metadata": {
        "id": "WY9gQ32G3xnT",
        "colab_type": "code",
        "outputId": "ebb8e5da-70af-447b-a4fc-c1c3ec426d11",
        "colab": {
          "base_uri": "https://localhost:8080/",
          "height": 167
        }
      },
      "cell_type": "code",
      "source": [
        "grayoa=pd.DataFrame()\n",
        "grayoa.append( {\"doi\": \"10.1103/physrevd.86.075011\", \"year\": 2012, \"genre\": \"journal-article\", \"is_oa\": True, \n",
        "              \"title\": \"Connection of gamma rays, dark matter, and Higgs boson searches at the LHC\",\n",
        "              \"doi_url\": \"https://doi.org/10.1103/physrevd.86.075011\", \"updated\": \"2018-06-18T03:46:10.784962\",\n",
        "              \"publisher\": \"American Physical Society (APS)\", \"z_authors\": [{\"given\": \"J. D.\", \"family\": \"Ruiz-Alvarez\"}, \n",
        "                                                                            {\"given\": \"C. A.\", \"family\": \"de S. Pires\"}, \n",
        "                                                                            {\"given\": \"Farinaldo S.\", \"family\": \"Queiroz\"}, \n",
        "                                                                            {\"given\": \"D.\", \"family\": \"Restrepo\"}, \n",
        "                                                                            {\"given\": \"P. S.\", \"family\": \"Rodrigues da Silva\"}], \n",
        "              \"journal_name\": \"Physical Review D\", \n",
        "              \"oa_locations\": [{\"url\": \"http://arxiv.org/pdf/1206.5779\", \"pmh_id\": \"oai:arXiv.org:1206.5779\",\n",
        "                                                                     \"is_best\": True, \"license\": 'null', \"updated\": \"2018-06-18T03:46:10.783600\", \n",
        "                                                                     \"version\": \"submittedVersion\", \"evidence\": \"oa repository (via OAI-PMH doi match)\", \n",
        "                                                                     \"host_type\": \"repository\", \"url_for_pdf\": \"http://arxiv.org/pdf/1206.5779\",\n",
        "                                                                     \"url_for_landing_page\": \"http://arxiv.org/abs/1206.5779\"}], \n",
        "              \"data_standard\": 2, \"journal_is_oa\": False, \"journal_issns\": \"1550-7998,1550-2368\", \"published_date\": \"2012-10-08\", \n",
        "              \"best_oa_location\": {\"url\": \"http://arxiv.org/pdf/1206.5779\", \"pmh_id\": \"oai:arXiv.org:1206.5779\", \"is_best\": True, \"license\": 'null',\n",
        "                                   \"updated\": \"2018-06-18T03:46:10.783600\", \"version\": \"submittedVersion\", \n",
        "                                   \"evidence\": \"oa repository (via OAI-PMH doi match)\", \"host_type\": \"repository\", \n",
        "                                   \"url_for_pdf\": \"http://arxiv.org/pdf/1206.5779\", \"url_for_landing_page\": \"http://arxiv.org/abs/1206.5779\"}, \n",
        "              \"journal_is_in_doaj\": False},ignore_index=True)\n"
      ],
      "execution_count": 0,
      "outputs": [
        {
          "output_type": "execute_result",
          "data": {
            "text/html": [
              "<div>\n",
              "<style scoped>\n",
              "    .dataframe tbody tr th:only-of-type {\n",
              "        vertical-align: middle;\n",
              "    }\n",
              "\n",
              "    .dataframe tbody tr th {\n",
              "        vertical-align: top;\n",
              "    }\n",
              "\n",
              "    .dataframe thead th {\n",
              "        text-align: right;\n",
              "    }\n",
              "</style>\n",
              "<table border=\"1\" class=\"dataframe\">\n",
              "  <thead>\n",
              "    <tr style=\"text-align: right;\">\n",
              "      <th></th>\n",
              "      <th>best_oa_location</th>\n",
              "      <th>data_standard</th>\n",
              "      <th>doi</th>\n",
              "      <th>doi_url</th>\n",
              "      <th>genre</th>\n",
              "      <th>is_oa</th>\n",
              "      <th>journal_is_in_doaj</th>\n",
              "      <th>journal_is_oa</th>\n",
              "      <th>journal_issns</th>\n",
              "      <th>journal_name</th>\n",
              "      <th>oa_locations</th>\n",
              "      <th>published_date</th>\n",
              "      <th>publisher</th>\n",
              "      <th>title</th>\n",
              "      <th>updated</th>\n",
              "      <th>year</th>\n",
              "      <th>z_authors</th>\n",
              "    </tr>\n",
              "  </thead>\n",
              "  <tbody>\n",
              "    <tr>\n",
              "      <th>0</th>\n",
              "      <td>{u'updated': u'2018-06-18T03:46:10.783600', u'...</td>\n",
              "      <td>2.0</td>\n",
              "      <td>10.1103/physrevd.86.075011</td>\n",
              "      <td>https://doi.org/10.1103/physrevd.86.075011</td>\n",
              "      <td>journal-article</td>\n",
              "      <td>1.0</td>\n",
              "      <td>0.0</td>\n",
              "      <td>0.0</td>\n",
              "      <td>1550-7998,1550-2368</td>\n",
              "      <td>Physical Review D</td>\n",
              "      <td>[{u'updated': u'2018-06-18T03:46:10.783600', u...</td>\n",
              "      <td>2012-10-08</td>\n",
              "      <td>American Physical Society (APS)</td>\n",
              "      <td>Connection of gamma rays, dark matter, and Hig...</td>\n",
              "      <td>2018-06-18T03:46:10.784962</td>\n",
              "      <td>2012.0</td>\n",
              "      <td>[{u'given': u'J. D.', u'family': u'Ruiz-Alvare...</td>\n",
              "    </tr>\n",
              "  </tbody>\n",
              "</table>\n",
              "</div>"
            ],
            "text/plain": [
              "                                    best_oa_location  data_standard  \\\n",
              "0  {u'updated': u'2018-06-18T03:46:10.783600', u'...            2.0   \n",
              "\n",
              "                          doi                                     doi_url  \\\n",
              "0  10.1103/physrevd.86.075011  https://doi.org/10.1103/physrevd.86.075011   \n",
              "\n",
              "             genre  is_oa  journal_is_in_doaj  journal_is_oa  \\\n",
              "0  journal-article    1.0                 0.0            0.0   \n",
              "\n",
              "         journal_issns       journal_name  \\\n",
              "0  1550-7998,1550-2368  Physical Review D   \n",
              "\n",
              "                                        oa_locations published_date  \\\n",
              "0  [{u'updated': u'2018-06-18T03:46:10.783600', u...     2012-10-08   \n",
              "\n",
              "                         publisher  \\\n",
              "0  American Physical Society (APS)   \n",
              "\n",
              "                                               title  \\\n",
              "0  Connection of gamma rays, dark matter, and Hig...   \n",
              "\n",
              "                      updated    year  \\\n",
              "0  2018-06-18T03:46:10.784962  2012.0   \n",
              "\n",
              "                                           z_authors  \n",
              "0  [{u'given': u'J. D.', u'family': u'Ruiz-Alvare...  "
            ]
          },
          "metadata": {
            "tags": []
          },
          "execution_count": 7
        }
      ]
    },
    {
      "metadata": {
        "id": "rp8ZRDiTHDhR",
        "colab_type": "text"
      },
      "cell_type": "markdown",
      "source": [
        "1.  OA artilcle in OA  journal"
      ]
    },
    {
      "metadata": {
        "id": "tBmOm0wDHET0",
        "colab_type": "code",
        "colab": {}
      },
      "cell_type": "code",
      "source": [
        "{\"doi\": \"10.1371/journal.pone.0144703.g008\", \"year\": null, \"genre\": \"component\", \"is_oa\": true, \n",
        " \"title\": null, \"doi_url\": \"https://doi.org/10.1371/journal.pone.0144703.g008\", \"updated\": \"2018-06-15T18:17:52.197555\", \n",
        " \"publisher\": \"Public Library of Science (PLoS)\", \"z_authors\": null, \n",
        " \"journal_name\": null, \"oa_locations\": [{\"url\": \"https://doi.org/10.1371/journal.pone.0144703.g008\", \"pmh_id\": null, \"is_best\": true, \"license\": null, \"updated\": \"2018-06-21T00:53:21.144034\", \"version\": \"publishedVersion\", \"evidence\": \"oa journal (via publisher name)\", \"host_type\": \"publisher\", \"url_for_pdf\": null, \"url_for_landing_page\": \"https://doi.org/10.1371/journal.pone.0144703.g008\"}], \"data_standard\": 2, \"journal_is_oa\": true, \"journal_issns\": null, \"published_date\": null, \"best_oa_location\": {\"url\": \"https://doi.org/10.1371/journal.pone.0144703.g008\", \"pmh_id\": null, \"is_best\": true, \"license\": null, \"updated\": \"2018-06-21T00:53:21.144034\", \"version\": \"publishedVersion\", \"evidence\": \"oa journal (via publisher name)\", \"host_type\": \"publisher\", \"url_for_pdf\": null, \"url_for_landing_page\": \"https://doi.org/10.1371/journal.pone.0144703.g008\"}, \"journal_is_in_doaj\": false}"
      ],
      "execution_count": 0,
      "outputs": []
    },
    {
      "metadata": {
        "id": "N0KIzeBRa8qS",
        "colab_type": "code",
        "colab": {}
      },
      "cell_type": "code",
      "source": [
        "from bs4 import BeautifulSoup"
      ],
      "execution_count": 0,
      "outputs": []
    },
    {
      "metadata": {
        "id": "ytIDYwDU39BT",
        "colab_type": "code",
        "colab": {}
      },
      "cell_type": "code",
      "source": [
        "import requests\n",
        "issn='2045-2322'#'0960-9822'#'2211-3797'\n",
        "url='https://doaj.org/toc/{}'.format(issn)\n",
        "r=requests.get(url)"
      ],
      "execution_count": 0,
      "outputs": []
    },
    {
      "metadata": {
        "id": "DNdmX5EIa_lk",
        "colab_type": "code",
        "colab": {}
      },
      "cell_type": "code",
      "source": [
        "soup=BeautifulSoup(r.text)"
      ],
      "execution_count": 0,
      "outputs": []
    },
    {
      "metadata": {
        "id": "JTlu8810bL85",
        "colab_type": "code",
        "colab": {}
      },
      "cell_type": "code",
      "source": [
        "try:\n",
        "    APC=soup.find_all('div',{\"class\":\"box slim\"})[0].contents[3].contents[2].strip()\n",
        "except:\n",
        "    APC=None"
      ],
      "execution_count": 0,
      "outputs": []
    },
    {
      "metadata": {
        "id": "QXAMVAvabqmn",
        "colab_type": "code",
        "outputId": "d149ef51-80af-44dd-9caf-afff25479675",
        "colab": {
          "base_uri": "https://localhost:8080/",
          "height": 35
        }
      },
      "cell_type": "code",
      "source": [
        "APC"
      ],
      "execution_count": 0,
      "outputs": [
        {
          "output_type": "execute_result",
          "data": {
            "text/plain": [
              "u'1165GBP'"
            ]
          },
          "metadata": {
            "tags": []
          },
          "execution_count": 36
        }
      ]
    },
    {
      "metadata": {
        "id": "IhKJf3Agd558",
        "colab_type": "code",
        "colab": {}
      },
      "cell_type": "code",
      "source": [
        "!pip install currencyconverter > /dev/null"
      ],
      "execution_count": 0,
      "outputs": []
    },
    {
      "metadata": {
        "id": "SMPy774HdvJx",
        "colab_type": "text"
      },
      "cell_type": "markdown",
      "source": [
        "See https://pypi.org/project/CurrencyConverter/"
      ]
    },
    {
      "metadata": {
        "id": "FY1hVBmTa41L",
        "colab_type": "code",
        "colab": {}
      },
      "cell_type": "code",
      "source": [
        "from currency_converter import CurrencyConverter\n",
        "c = CurrencyConverter()"
      ],
      "execution_count": 0,
      "outputs": []
    },
    {
      "metadata": {
        "id": "z_zBTbrfe-JT",
        "colab_type": "code",
        "outputId": "78134410-cc4e-40f2-d1e4-205aabb03266",
        "colab": {
          "base_uri": "https://localhost:8080/",
          "height": 35
        }
      },
      "cell_type": "code",
      "source": [
        "CurrencyConverter()"
      ],
      "execution_count": 0,
      "outputs": [
        {
          "output_type": "execute_result",
          "data": {
            "text/plain": [
              "<currency_converter.currency_converter.CurrencyConverter at 0x7f22cd9ecf10>"
            ]
          },
          "metadata": {
            "tags": []
          },
          "execution_count": 46
        }
      ]
    },
    {
      "metadata": {
        "id": "WSgLAPfUhayt",
        "colab_type": "code",
        "colab": {}
      },
      "cell_type": "code",
      "source": [
        "i=re.search(r\"([0-9\\.\\,]+)([a-zA-Z]+)\",APC)\n",
        "items=i.groups()"
      ],
      "execution_count": 0,
      "outputs": []
    },
    {
      "metadata": {
        "id": "TjyNQYNGh0ZD",
        "colab_type": "code",
        "outputId": "2823c49b-27c3-45fe-c201-f0459d8bc731",
        "colab": {
          "base_uri": "https://localhost:8080/",
          "height": 35
        }
      },
      "cell_type": "code",
      "source": [
        "items\n"
      ],
      "execution_count": 0,
      "outputs": [
        {
          "output_type": "execute_result",
          "data": {
            "text/plain": [
              "(u'1165', u'GBP')"
            ]
          },
          "metadata": {
            "tags": []
          },
          "execution_count": 63
        }
      ]
    },
    {
      "metadata": {
        "id": "IZIOO-MCe8b2",
        "colab_type": "code",
        "outputId": "c63fba72-fd87-41f4-be7a-e6fd5c99f8e7",
        "colab": {
          "base_uri": "https://localhost:8080/",
          "height": 35
        }
      },
      "cell_type": "code",
      "source": [
        "int(  c.convert(float(items[0]),items[1],'USD'))"
      ],
      "execution_count": 0,
      "outputs": [
        {
          "output_type": "execute_result",
          "data": {
            "text/plain": [
              "1510"
            ]
          },
          "metadata": {
            "tags": []
          },
          "execution_count": 66
        }
      ]
    },
    {
      "metadata": {
        "id": "ThLBzo_vF581",
        "colab_type": "code",
        "outputId": "df497742-063c-49f1-94e1-59447ba6dd19",
        "colab": {
          "base_uri": "https://localhost:8080/",
          "height": 35
        }
      },
      "cell_type": "code",
      "source": [
        "# Load the Drive helper and mount\n",
        "from google.colab import drive\n",
        "\n",
        "# This will prompt for authorization.\n",
        "drive.mount('/content/drive')"
      ],
      "execution_count": 2,
      "outputs": [
        {
          "output_type": "stream",
          "text": [
            "Drive already mounted at /content/drive; to attempt to forcibly remount, call drive.mount(\"/content/drive\", force_remount=True).\n"
          ],
          "name": "stdout"
        }
      ]
    },
    {
      "metadata": {
        "id": "f5_AbkVjF6Sy",
        "colab_type": "code",
        "colab": {}
      },
      "cell_type": "code",
      "source": [
        "import os\n",
        "os.chdir(\"drive/My Drive/Colab Notebooks/Data\")"
      ],
      "execution_count": 0,
      "outputs": []
    },
    {
      "metadata": {
        "id": "EZYR95quG0vc",
        "colab_type": "code",
        "outputId": "0c013908-7ecf-4ab2-8834-8fd5cd14270d",
        "colab": {
          "base_uri": "https://localhost:8080/",
          "height": 207
        }
      },
      "cell_type": "code",
      "source": [
        "!grep -E '\"journal_issns\":\\s+\"' oagreen.json | tail"
      ],
      "execution_count": 0,
      "outputs": [
        {
          "output_type": "stream",
          "text": [
            "{\"doi\": \"10.22329/wyaj.v31i2.4418\", \"year\": 2013, \"genre\": \"journal-article\", \"is_oa\": true, \"title\": \"SHIFTING JUDICIAL CONCEPTIONS OF 'RECONCILIATION': GEOGRAPHIC COMMITMENTS UNDERPINNING ABORIGINAL RIGHTS DECISIONS\", \"doi_url\": \"https://doi.org/10.22329/wyaj.v31i2.4418\", \"updated\": \"2018-06-17T15:36:19.230472\", \"publisher\": \"University of Windsor Leddy Library\", \"z_authors\": [{\"given\": \"Michael\", \"family\": \"McCrossan\"}], \"journal_name\": \"Windsor Yearbook of Access to Justice\", \"oa_locations\": [{\"url\": \"https://doi.org/10.22329/wyaj.v31i2.4418\", \"pmh_id\": null, \"is_best\": true, \"license\": \"cc-by\", \"updated\": \"2018-06-17T15:36:19.230009\", \"version\": \"publishedVersion\", \"evidence\": \"oa journal (via doaj)\", \"host_type\": \"publisher\", \"url_for_pdf\": null, \"url_for_landing_page\": \"https://doi.org/10.22329/wyaj.v31i2.4418\"}], \"data_standard\": 1, \"journal_is_oa\": true, \"journal_issns\": \"0710-0841\", \"published_date\": \"2013-10-01\", \"best_oa_location\": {\"url\": \"https://doi.org/10.22329/wyaj.v31i2.4418\", \"pmh_id\": null, \"is_best\": true, \"license\": \"cc-by\", \"updated\": \"2018-06-17T15:36:19.230009\", \"version\": \"publishedVersion\", \"evidence\": \"oa journal (via doaj)\", \"host_type\": \"publisher\", \"url_for_pdf\": null, \"url_for_landing_page\": \"https://doi.org/10.22329/wyaj.v31i2.4418\"}, \"journal_is_in_doaj\": true}\n",
            "{\"doi\": \"10.1371/journal.pone.0168308\", \"year\": 2016, \"genre\": \"journal-article\", \"is_oa\": true, \"title\": \"Correction: Linear Quantitative Profiling Method Fast Monitors Alkaloids of Sophora Flavescens that was Verified by Tri-marker Analyses\", \"doi_url\": \"https://doi.org/10.1371/journal.pone.0168308\", \"updated\": \"2018-06-17T15:42:47.791307\", \"publisher\": \"Public Library of Science (PLoS)\", \"z_authors\": [{\"given\": \"Zhifei\", \"family\": \"Hou\"}, {\"given\": \"Guoxiang\", \"family\": \"Sun\"}, {\"given\": \"Yong\", \"family\": \"Guo\"}], \"journal_name\": \"PLOS ONE\", \"oa_locations\": [{\"url\": \"https://doi.org/10.1371/journal.pone.0168308\", \"pmh_id\": null, \"is_best\": true, \"license\": \"cc-by\", \"updated\": \"2018-06-21T11:18:50.723662\", \"version\": \"publishedVersion\", \"evidence\": \"oa journal (via doaj)\", \"host_type\": \"publisher\", \"url_for_pdf\": null, \"url_for_landing_page\": \"https://doi.org/10.1371/journal.pone.0168308\"}, {\"url\": \"http://europepmc.org/articles/pmc5152915?pdf=render\", \"pmh_id\": \"oai:pubmedcentral.nih.gov:5152915\", \"is_best\": false, \"license\": \"cc-by\", \"updated\": \"2017-10-22T20:33:52.045313\", \"version\": \"publishedVersion\", \"evidence\": \"oa repository (via OAI-PMH doi match)\", \"host_type\": \"repository\", \"url_for_pdf\": \"http://europepmc.org/articles/pmc5152915?pdf=render\", \"url_for_landing_page\": \"http://europepmc.org/articles/pmc5152915\"}, {\"url\": \"https://www.ncbi.nlm.nih.gov/pmc/articles/PMC5152915\", \"pmh_id\": null, \"is_best\": false, \"license\": null, \"updated\": \"2018-06-21T11:18:50.723790\", \"version\": \"publishedVersion\", \"evidence\": \"oa repository (via pmcid lookup)\", \"host_type\": \"repository\", \"url_for_pdf\": null, \"url_for_landing_page\": \"https://www.ncbi.nlm.nih.gov/pmc/articles/PMC5152915\"}], \"data_standard\": 1, \"journal_is_oa\": true, \"journal_issns\": \"1932-6203\", \"published_date\": \"2016-12-12\", \"best_oa_location\": {\"url\": \"https://doi.org/10.1371/journal.pone.0168308\", \"pmh_id\": null, \"is_best\": true, \"license\": \"cc-by\", \"updated\": \"2018-06-21T11:18:50.723662\", \"version\": \"publishedVersion\", \"evidence\": \"oa journal (via doaj)\", \"host_type\": \"publisher\", \"url_for_pdf\": null, \"url_for_landing_page\": \"https://doi.org/10.1371/journal.pone.0168308\"}, \"journal_is_in_doaj\": true}\n",
            "{\"doi\": \"10.1038/srep37185\", \"year\": 2016, \"genre\": \"journal-article\", \"is_oa\": true, \"title\": \"Spatial Analysis of PAHs in Soils along an Urban–Suburban–Rural Gradient: scale effect, distribution patterns, diffusion and influencing factors\", \"doi_url\": \"https://doi.org/10.1038/srep37185\", \"updated\": \"2018-06-18T19:10:36.414705\", \"publisher\": \"Springer Nature\", \"z_authors\": [{\"given\": \"Chi\", \"family\": \"Peng\"}, {\"given\": \"Meie\", \"family\": \"Wang\"}, {\"given\": \"Weiping\", \"family\": \"Chen\"}], \"journal_name\": \"Scientific Reports\", \"oa_locations\": [{\"url\": \"http://www.nature.com/articles/srep37185.pdf\", \"pmh_id\": null, \"is_best\": true, \"license\": \"cc-by\", \"updated\": \"2017-09-08T22:07:22.541485\", \"version\": \"publishedVersion\", \"evidence\": \"open (via page says license)\", \"host_type\": \"publisher\", \"url_for_pdf\": \"http://www.nature.com/articles/srep37185.pdf\", \"url_for_landing_page\": \"http://doi.org/10.1038/srep37185\"}, {\"url\": \"https://doi.org/10.1038/srep37185\", \"pmh_id\": null, \"is_best\": false, \"license\": \"cc-by\", \"updated\": \"2018-06-18T19:10:36.020523\", \"version\": \"publishedVersion\", \"evidence\": \"oa journal (via doaj)\", \"host_type\": \"publisher\", \"url_for_pdf\": null, \"url_for_landing_page\": \"https://doi.org/10.1038/srep37185\"}, {\"url\": \"http://europepmc.org/articles/pmc5112551?pdf=render\", \"pmh_id\": \"oai:pubmedcentral.nih.gov:5112551\", \"is_best\": false, \"license\": \"cc-by\", \"updated\": \"2017-10-22T14:13:35.006214\", \"version\": \"publishedVersion\", \"evidence\": \"oa repository (via OAI-PMH doi match)\", \"host_type\": \"repository\", \"url_for_pdf\": \"http://europepmc.org/articles/pmc5112551?pdf=render\", \"url_for_landing_page\": \"http://europepmc.org/articles/pmc5112551\"}, {\"url\": \"https://www.ncbi.nlm.nih.gov/pmc/articles/PMC5112551\", \"pmh_id\": null, \"is_best\": false, \"license\": null, \"updated\": \"2018-06-18T19:10:36.020663\", \"version\": \"publishedVersion\", \"evidence\": \"oa repository (via pmcid lookup)\", \"host_type\": \"repository\", \"url_for_pdf\": null, \"url_for_landing_page\": \"https://www.ncbi.nlm.nih.gov/pmc/articles/PMC5112551\"}, {\"url\": \"http://ir.rcees.ac.cn/bitstream/311016/35665/1/Spatial%20Analysis%20of%20PAHs%20in%20Soils%20along%20an%20Urban-Suburban-Rural%20Gradient%20scale%20effect%2c%20distribution%20patterns%2c%20diffusion%20and%20influencing%20factors.pdf\", \"pmh_id\": \"oai:ir.rcees.ac.cn:311016/35665\", \"is_best\": false, \"license\": \"cc-by-nc-sa\", \"updated\": \"2018-01-01T23:39:01.343995\", \"version\": \"submittedVersion\", \"evidence\": \"oa repository (via OAI-PMH title and first author match)\", \"host_type\": \"repository\", \"url_for_pdf\": \"http://ir.rcees.ac.cn/bitstream/311016/35665/1/Spatial%20Analysis%20of%20PAHs%20in%20Soils%20along%20an%20Urban-Suburban-Rural%20Gradient%20scale%20effect%2c%20distribution%20patterns%2c%20diffusion%20and%20influencing%20factors.pdf\", \"url_for_landing_page\": \"http://ir.rcees.ac.cn/handle/311016/35665\"}], \"data_standard\": 2, \"journal_is_oa\": true, \"journal_issns\": \"2045-2322\", \"published_date\": \"2016-11-17\", \"best_oa_location\": {\"url\": \"http://www.nature.com/articles/srep37185.pdf\", \"pmh_id\": null, \"is_best\": true, \"license\": \"cc-by\", \"updated\": \"2017-09-08T22:07:22.541485\", \"version\": \"publishedVersion\", \"evidence\": \"open (via page says license)\", \"host_type\": \"publisher\", \"url_for_pdf\": \"http://www.nature.com/articles/srep37185.pdf\", \"url_for_landing_page\": \"http://doi.org/10.1038/srep37185\"}, \"journal_is_in_doaj\": true}\n",
            "{\"doi\": \"10.1590/s0103-90162009000100014\", \"year\": 2009, \"genre\": \"journal-article\", \"is_oa\": true, \"title\": \"Spatio-temporal modelling of coffee berry borer infestation patterns accounting for inflation of zeroes and missing values\", \"doi_url\": \"https://doi.org/10.1590/s0103-90162009000100014\", \"updated\": \"2018-06-17T15:36:54.407725\", \"publisher\": \"FapUNIFESP (SciELO)\", \"z_authors\": [{\"given\": \"Ramiro\", \"family\": \"Ruiz-Cárdenas\", \"affiliation\": [{\"name\": \"USP,  Brasil; UFMG,  Brasil\"}]}, {\"given\": \"Renato Martins\", \"family\": \"Assunção\", \"affiliation\": [{\"name\": \"UFMG,  Brasil\"}]}, {\"given\": \"Clarice Garcia Borges\", \"family\": \"Demétrio\", \"affiliation\": [{\"name\": \"USP,  Brasil\"}]}], \"journal_name\": \"Scientia Agricola\", \"oa_locations\": [{\"url\": \"http://www.scielo.br/pdf/sa/v66n1/a14v66n1.pdf\", \"pmh_id\": null, \"is_best\": true, \"license\": \"cc-by-nc\", \"updated\": \"2017-08-21T16:25:06.751543\", \"version\": \"publishedVersion\", \"evidence\": \"open (via page says license)\", \"host_type\": \"publisher\", \"url_for_pdf\": \"http://www.scielo.br/pdf/sa/v66n1/a14v66n1.pdf\", \"url_for_landing_page\": \"http://doi.org/10.1590/s0103-90162009000100014\"}, {\"url\": \"https://doi.org/10.1590/s0103-90162009000100014\", \"pmh_id\": null, \"is_best\": false, \"license\": \"cc-by\", \"updated\": \"2018-06-17T15:36:54.400895\", \"version\": \"publishedVersion\", \"evidence\": \"oa journal (via doaj)\", \"host_type\": \"publisher\", \"url_for_pdf\": null, \"url_for_landing_page\": \"https://doi.org/10.1590/s0103-90162009000100014\"}, {\"url\": \"http://www.producao.usp.br/bitstream/BDPI/4840/1/art_RUIZ-CARDENAS_Spatio-temporal_modelling_of_coffee_berry_borer_infestation_2009.pdf\", \"pmh_id\": \"oai:www.producao.usp.br:BDPI/4840\", \"is_best\": false, \"license\": null, \"updated\": \"2018-01-01T04:38:41.680307\", \"version\": \"submittedVersion\", \"evidence\": \"oa repository (via OAI-PMH title and first author match)\", \"host_type\": \"repository\", \"url_for_pdf\": \"http://www.producao.usp.br/bitstream/BDPI/4840/1/art_RUIZ-CARDENAS_Spatio-temporal_modelling_of_coffee_berry_borer_infestation_2009.pdf\", \"url_for_landing_page\": \"http://producao.usp.br/handle/BDPI/4840\"}], \"data_standard\": 2, \"journal_is_oa\": true, \"journal_issns\": \"0103-9016\", \"published_date\": \"2009-02-01\", \"best_oa_location\": {\"url\": \"http://www.scielo.br/pdf/sa/v66n1/a14v66n1.pdf\", \"pmh_id\": null, \"is_best\": true, \"license\": \"cc-by-nc\", \"updated\": \"2017-08-21T16:25:06.751543\", \"version\": \"publishedVersion\", \"evidence\": \"open (via page says license)\", \"host_type\": \"publisher\", \"url_for_pdf\": \"http://www.scielo.br/pdf/sa/v66n1/a14v66n1.pdf\", \"url_for_landing_page\": \"http://doi.org/10.1590/s0103-90162009000100014\"}, \"journal_is_in_doaj\": true}\n",
            "{\"doi\": \"10.3389/fpls.2017.01484\", \"year\": 2017, \"genre\": \"journal-article\", \"is_oa\": true, \"title\": \"World Vegetable Center Eggplant Collection: Origin, Composition, Seed Dissemination and Utilization in Breeding\", \"doi_url\": \"https://doi.org/10.3389/fpls.2017.01484\", \"updated\": \"2018-06-17T15:36:59.043526\", \"publisher\": \"Frontiers Media SA\", \"z_authors\": [{\"given\": \"Dalia\", \"family\": \"Taher\"}, {\"given\": \"Svein Ø.\", \"family\": \"Solberg\"}, {\"given\": \"Jaime\", \"family\": \"Prohens\"}, {\"given\": \"Yu-yu\", \"family\": \"Chou\"}, {\"given\": \"Mohamed\", \"family\": \"Rakha\"}, {\"given\": \"Tien-hor\", \"family\": \"Wu\"}], \"journal_name\": \"Frontiers in Plant Science\", \"oa_locations\": [{\"url\": \"https://doi.org/10.3389/fpls.2017.01484\", \"pmh_id\": null, \"is_best\": true, \"license\": \"cc-by\", \"updated\": \"2018-06-21T07:06:09.468891\", \"version\": \"publishedVersion\", \"evidence\": \"oa journal (via doaj)\", \"host_type\": \"publisher\", \"url_for_pdf\": null, \"url_for_landing_page\": \"https://doi.org/10.3389/fpls.2017.01484\"}, {\"url\": \"http://europepmc.org/articles/pmc5609569?pdf=render\", \"pmh_id\": \"oai:pubmedcentral.nih.gov:5609569\", \"is_best\": false, \"license\": \"cc-by\", \"updated\": \"2017-10-21T17:15:51.140253\", \"version\": \"publishedVersion\", \"evidence\": \"oa repository (via OAI-PMH doi match)\", \"host_type\": \"repository\", \"url_for_pdf\": \"http://europepmc.org/articles/pmc5609569?pdf=render\", \"url_for_landing_page\": \"http://europepmc.org/articles/pmc5609569\"}, {\"url\": \"https://brage.bibsys.no/xmlui/bitstream/11250/2458311/1/fpls-08-01484.pdf\", \"pmh_id\": \"oai:brage.bibsys.no:11250/2458311\", \"is_best\": false, \"license\": null, \"updated\": \"2018-06-21T07:06:13.690203\", \"version\": \"publishedVersion\", \"evidence\": \"oa repository (via OAI-PMH title and first author match)\", \"host_type\": \"repository\", \"url_for_pdf\": \"https://brage.bibsys.no/xmlui/bitstream/11250/2458311/1/fpls-08-01484.pdf\", \"url_for_landing_page\": \"http://hdl.handle.net/11250/2458311\"}, {\"url\": \"https://www.ncbi.nlm.nih.gov/pmc/articles/PMC5609569\", \"pmh_id\": null, \"is_best\": false, \"license\": null, \"updated\": \"2018-06-21T07:06:09.469042\", \"version\": \"publishedVersion\", \"evidence\": \"oa repository (via pmcid lookup)\", \"host_type\": \"repository\", \"url_for_pdf\": null, \"url_for_landing_page\": \"https://www.ncbi.nlm.nih.gov/pmc/articles/PMC5609569\"}], \"data_standard\": 1, \"journal_is_oa\": true, \"journal_issns\": \"1664-462X\", \"published_date\": \"2017-08-25\", \"best_oa_location\": {\"url\": \"https://doi.org/10.3389/fpls.2017.01484\", \"pmh_id\": null, \"is_best\": true, \"license\": \"cc-by\", \"updated\": \"2018-06-21T07:06:09.468891\", \"version\": \"publishedVersion\", \"evidence\": \"oa journal (via doaj)\", \"host_type\": \"publisher\", \"url_for_pdf\": null, \"url_for_landing_page\": \"https://doi.org/10.3389/fpls.2017.01484\"}, \"journal_is_in_doaj\": true}\n",
            "{\"doi\": \"10.18036/aubtdc.291667\", \"year\": 2017, \"genre\": \"journal-article\", \"is_oa\": true, \"title\": \"DIVERSITY OF SAXICOLOUS, TERRICOLOUS, MUSCICOLOUS LICHENIZED AND LICHENICOLOUS FUNGI IN THE SÜNDİKEN MOUNTAINS\", \"doi_url\": \"https://doi.org/10.18036/aubtdc.291667\", \"updated\": \"2018-06-17T15:43:01.314766\", \"publisher\": \"Anadolu Universitesi Bilim ve Teknoloji Dergisi C : Yasam Bilimleri ve Biyoteknoloji\", \"z_authors\": [{\"given\": \"Yılmaz\", \"family\": \"Yavuz\"}, {\"given\": \"Ayşen\", \"family\": \"Türk\"}], \"journal_name\": \"ANADOLU UNIVERSITY JOURNAL OF SCIENCE AND TECHNOLOGY –C Life Sciences and Biotechnology\", \"oa_locations\": [{\"url\": \"https://doi.org/10.18036/aubtdc.291667\", \"pmh_id\": null, \"is_best\": true, \"license\": \"cc-by-nc-nd\", \"updated\": \"2018-06-17T15:43:01.314360\", \"version\": \"publishedVersion\", \"evidence\": \"oa journal (via doaj)\", \"host_type\": \"publisher\", \"url_for_pdf\": null, \"url_for_landing_page\": \"https://doi.org/10.18036/aubtdc.291667\"}], \"data_standard\": 1, \"journal_is_oa\": true, \"journal_issns\": \"2146-0264\", \"published_date\": \"2017-02-20\", \"best_oa_location\": {\"url\": \"https://doi.org/10.18036/aubtdc.291667\", \"pmh_id\": null, \"is_best\": true, \"license\": \"cc-by-nc-nd\", \"updated\": \"2018-06-17T15:43:01.314360\", \"version\": \"publishedVersion\", \"evidence\": \"oa journal (via doaj)\", \"host_type\": \"publisher\", \"url_for_pdf\": null, \"url_for_landing_page\": \"https://doi.org/10.18036/aubtdc.291667\"}, \"journal_is_in_doaj\": true}\n",
            "{\"doi\": \"10.1590/s1678-58782012000400003\", \"year\": 2012, \"genre\": \"journal-article\", \"is_oa\": true, \"title\": \"Performance and emissions of a 4-cylinder gasoline engine with Controlled Auto-Ignition\", \"doi_url\": \"https://doi.org/10.1590/s1678-58782012000400003\", \"updated\": \"2018-06-17T15:36:54.457142\", \"publisher\": \"FapUNIFESP (SciELO)\", \"z_authors\": [{\"given\": \"Mario\", \"family\": \"Martins\"}, {\"given\": \"Hua\", \"family\": \"Zhao\"}], \"journal_name\": \"Journal of the Brazilian Society of Mechanical Sciences and Engineering\", \"oa_locations\": [{\"url\": \"http://www.scielo.br/pdf/jbsmse/v34n4/a03v34n4.pdf\", \"pmh_id\": null, \"is_best\": true, \"license\": \"cc-by-nc\", \"updated\": \"2017-09-06T18:06:46.035856\", \"version\": \"publishedVersion\", \"evidence\": \"open (via page says license)\", \"host_type\": \"publisher\", \"url_for_pdf\": \"http://www.scielo.br/pdf/jbsmse/v34n4/a03v34n4.pdf\", \"url_for_landing_page\": \"http://doi.org/10.1590/s1678-58782012000400003\"}, {\"url\": \"https://doi.org/10.1590/s1678-58782012000400003\", \"pmh_id\": null, \"is_best\": false, \"license\": null, \"updated\": \"2018-06-21T00:15:54.366369\", \"version\": \"publishedVersion\", \"evidence\": \"oa journal (via publisher name)\", \"host_type\": \"publisher\", \"url_for_pdf\": null, \"url_for_landing_page\": \"https://doi.org/10.1590/s1678-58782012000400003\"}], \"data_standard\": 2, \"journal_is_oa\": true, \"journal_issns\": \"1678-5878\", \"published_date\": \"2012-12-01\", \"best_oa_location\": {\"url\": \"http://www.scielo.br/pdf/jbsmse/v34n4/a03v34n4.pdf\", \"pmh_id\": null, \"is_best\": true, \"license\": \"cc-by-nc\", \"updated\": \"2017-09-06T18:06:46.035856\", \"version\": \"publishedVersion\", \"evidence\": \"open (via page says license)\", \"host_type\": \"publisher\", \"url_for_pdf\": \"http://www.scielo.br/pdf/jbsmse/v34n4/a03v34n4.pdf\", \"url_for_landing_page\": \"http://doi.org/10.1590/s1678-58782012000400003\"}, \"journal_is_in_doaj\": false}\n",
            "{\"doi\": \"10.1590/s0103-40141997000200020\", \"year\": 1997, \"genre\": \"journal-article\", \"is_oa\": true, \"title\": \"Florestan, o obscuro, e o liberalismo monárquico\", \"doi_url\": \"https://doi.org/10.1590/s0103-40141997000200020\", \"updated\": \"2018-06-14T01:12:53.119263\", \"publisher\": \"FapUNIFESP (SciELO)\", \"z_authors\": [{\"given\": \"Carlos Águedo\", \"family\": \"Paiva\", \"affiliation\": [{\"name\": \"Universidade Federal de Uberlândia\"}]}], \"journal_name\": \"Estudos Avançados\", \"oa_locations\": [{\"url\": \"http://www.scielo.br/pdf/ea/v11n30/v11n30a20.pdf\", \"pmh_id\": null, \"is_best\": true, \"license\": \"cc-by-nc\", \"updated\": \"2018-06-14T01:10:52.440640\", \"version\": \"publishedVersion\", \"evidence\": \"open (via page says license)\", \"host_type\": \"publisher\", \"url_for_pdf\": \"http://www.scielo.br/pdf/ea/v11n30/v11n30a20.pdf\", \"url_for_landing_page\": \"https://doi.org/10.1590/s0103-40141997000200020\"}, {\"url\": \"https://doi.org/10.1590/s0103-40141997000200020\", \"pmh_id\": null, \"is_best\": false, \"license\": \"cc-by-nc\", \"updated\": \"2018-06-21T15:09:11.962715\", \"version\": \"publishedVersion\", \"evidence\": \"oa journal (via doaj)\", \"host_type\": \"publisher\", \"url_for_pdf\": null, \"url_for_landing_page\": \"https://doi.org/10.1590/s0103-40141997000200020\"}], \"data_standard\": 2, \"journal_is_oa\": true, \"journal_issns\": \"0103-4014\", \"published_date\": \"1997-08-01\", \"best_oa_location\": {\"url\": \"http://www.scielo.br/pdf/ea/v11n30/v11n30a20.pdf\", \"pmh_id\": null, \"is_best\": true, \"license\": \"cc-by-nc\", \"updated\": \"2018-06-14T01:10:52.440640\", \"version\": \"publishedVersion\", \"evidence\": \"open (via page says license)\", \"host_type\": \"publisher\", \"url_for_pdf\": \"http://www.scielo.br/pdf/ea/v11n30/v11n30a20.pdf\", \"url_for_landing_page\": \"https://doi.org/10.1590/s0103-40141997000200020\"}, \"journal_is_in_doaj\": true}\n",
            "{\"doi\": \"10.1371/journal.pone.0167891\", \"year\": 2017, \"genre\": \"journal-article\", \"is_oa\": true, \"title\": \"Comparison of Mediterranean Pteropod Shell Biometrics and Ultrastructure from Historical (1910 and 1921) and Present Day (2012) Samples Provides Baseline for Monitoring Effects of Global Change\", \"doi_url\": \"https://doi.org/10.1371/journal.pone.0167891\", \"updated\": \"2018-06-18T19:16:48.533220\", \"publisher\": \"Public Library of Science (PLoS)\", \"z_authors\": [{\"ORCID\": \"http://orcid.org/0000-0002-4303-2761\", \"given\": \"Ella L.\", \"family\": \"Howes\", \"authenticated-orcid\": true}, {\"given\": \"Robert A.\", \"family\": \"Eagle\"}, {\"given\": \"Jean-Pierre\", \"family\": \"Gattuso\"}, {\"given\": \"Jelle\", \"family\": \"Bijma\"}], \"journal_name\": \"PLOS ONE\", \"oa_locations\": [{\"url\": \"https://doi.org/10.1371/journal.pone.0167891\", \"pmh_id\": null, \"is_best\": true, \"license\": \"cc-by\", \"updated\": \"2018-06-21T03:39:16.736757\", \"version\": \"publishedVersion\", \"evidence\": \"oa journal (via doaj)\", \"host_type\": \"publisher\", \"url_for_pdf\": null, \"url_for_landing_page\": \"https://doi.org/10.1371/journal.pone.0167891\"}, {\"url\": \"http://europepmc.org/articles/pmc5268398?pdf=render\", \"pmh_id\": \"oai:pubmedcentral.nih.gov:5268398\", \"is_best\": false, \"license\": \"cc-by\", \"updated\": \"2017-10-21T14:21:39.418042\", \"version\": \"publishedVersion\", \"evidence\": \"oa repository (via OAI-PMH doi match)\", \"host_type\": \"repository\", \"url_for_pdf\": \"http://europepmc.org/articles/pmc5268398?pdf=render\", \"url_for_landing_page\": \"http://europepmc.org/articles/pmc5268398\"}, {\"url\": \"https://hal.sorbonne-universite.fr/hal-01466190/file/journal.pone.0167891.pdf\", \"pmh_id\": \"oai:HAL:hal-01466190v1\", \"is_best\": false, \"license\": \"cc-by\", \"updated\": \"2018-06-15T21:03:44.720654\", \"version\": \"publishedVersion\", \"evidence\": \"oa repository (via OAI-PMH title and first author match)\", \"host_type\": \"repository\", \"url_for_pdf\": \"https://hal.sorbonne-universite.fr/hal-01466190/file/journal.pone.0167891.pdf\", \"url_for_landing_page\": null}, {\"url\": \"https://hal.sorbonne-universite.fr/hal-01466190/document\", \"pmh_id\": \"oai:HAL:hal-01466190v1\", \"is_best\": false, \"license\": \"cc-by\", \"updated\": \"2018-06-20T13:53:29.817883\", \"version\": \"publishedVersion\", \"evidence\": \"oa repository (via OAI-PMH title and first author match)\", \"host_type\": \"repository\", \"url_for_pdf\": \"https://hal.sorbonne-universite.fr/hal-01466190/document\", \"url_for_landing_page\": \"https://hal.sorbonne-universite.fr/hal-01466190\"}, {\"url\": \"https://www.ncbi.nlm.nih.gov/pmc/articles/PMC5268398\", \"pmh_id\": null, \"is_best\": false, \"license\": null, \"updated\": \"2018-06-21T03:39:16.736903\", \"version\": \"publishedVersion\", \"evidence\": \"oa repository (via pmcid lookup)\", \"host_type\": \"repository\", \"url_for_pdf\": null, \"url_for_landing_page\": \"https://www.ncbi.nlm.nih.gov/pmc/articles/PMC5268398\"}], \"data_standard\": 2, \"journal_is_oa\": true, \"journal_issns\": \"1932-6203\", \"published_date\": \"2017-01-26\", \"best_oa_location\": {\"url\": \"https://doi.org/10.1371/journal.pone.0167891\", \"pmh_id\": null, \"is_best\": true, \"license\": \"cc-by\", \"updated\": \"2018-06-21T03:39:16.736757\", \"version\": \"publishedVersion\", \"evidence\": \"oa journal (via doaj)\", \"host_type\": \"publisher\", \"url_for_pdf\": null, \"url_for_landing_page\": \"https://doi.org/10.1371/journal.pone.0167891\"}, \"journal_is_in_doaj\": true}\n",
            "{\"doi\": \"10.11591/telkomnika.v11i12.2515\", \"year\": 2013, \"genre\": \"journal-article\", \"is_oa\": true, \"title\": \"Research on Mixed Data Rate in WDM Networks\", \"doi_url\": \"https://doi.org/10.11591/telkomnika.v11i12.2515\", \"updated\": \"2018-06-17T15:50:38.261310\", \"publisher\": \"Institute of Advanced Engineering and Science\", \"z_authors\": [{\"given\": \"Li\", \"family\": \"Li\"}, {\"given\": \"Chu\", \"family\": \"Ze-nan\"}, {\"given\": \"Dong\", \"family\": \"Zhao\"}], \"journal_name\": \"TELKOMNIKA Indonesian Journal of Electrical Engineering\", \"oa_locations\": [{\"url\": \"https://doi.org/10.11591/telkomnika.v11i12.2515\", \"pmh_id\": null, \"is_best\": true, \"license\": \"cc-by-nc\", \"updated\": \"2018-06-21T01:16:37.857098\", \"version\": \"publishedVersion\", \"evidence\": \"oa journal (via doaj)\", \"host_type\": \"publisher\", \"url_for_pdf\": null, \"url_for_landing_page\": \"https://doi.org/10.11591/telkomnika.v11i12.2515\"}], \"data_standard\": 1, \"journal_is_oa\": true, \"journal_issns\": \"2087-278X,2302-4046\", \"published_date\": \"2013-12-01\", \"best_oa_location\": {\"url\": \"https://doi.org/10.11591/telkomnika.v11i12.2515\", \"pmh_id\": null, \"is_best\": true, \"license\": \"cc-by-nc\", \"updated\": \"2018-06-21T01:16:37.857098\", \"version\": \"publishedVersion\", \"evidence\": \"oa journal (via doaj)\", \"host_type\": \"publisher\", \"url_for_pdf\": null, \"url_for_landing_page\": \"https://doi.org/10.11591/telkomnika.v11i12.2515\"}, \"journal_is_in_doaj\": true}\n"
          ],
          "name": "stdout"
        }
      ]
    },
    {
      "metadata": {
        "id": "akvP4-qRG7PZ",
        "colab_type": "text"
      },
      "cell_type": "markdown",
      "source": [
        "```bash\n",
        "awk -F'\", \"published_date\"' '{print $1}' kk.json | awk -F'\"journal_issns\": \"' '{print $2}' | perl -p -e 's/,/\\n/' | sort | uniq\n",
        "```"
      ]
    },
    {
      "metadata": {
        "id": "_7Oo6dC3VkR8",
        "colab_type": "code",
        "colab": {}
      },
      "cell_type": "code",
      "source": [
        "!echo \"DOI,ISSNs\" > oagreendoissn.csv"
      ],
      "execution_count": 0,
      "outputs": []
    },
    {
      "metadata": {
        "id": "Nu7jb9dXWA0e",
        "colab_type": "code",
        "colab": {}
      },
      "cell_type": "code",
      "source": [
        "! awk -F'\"published_date\"' '{print $1}' oagreen.json | awk -F'\":' '{print $2 $NF}' | perl -p -e 's/\",\\s*\"year\\s*/,/' | sed 's/null/\"\"/' | perl -p -e 's/^\\s*\"(.*),\\s*$/\\1\\n/' >> oagreendoissn.csv"
      ],
      "execution_count": 0,
      "outputs": []
    },
    {
      "metadata": {
        "id": "waTIt-q6WZSm",
        "colab_type": "code",
        "outputId": "f67260f4-d9f0-4493-f21b-2ba43e9999a4",
        "colab": {
          "base_uri": "https://localhost:8080/",
          "height": 35
        }
      },
      "cell_type": "code",
      "source": [
        "!wc -l oagreendoissn.csv"
      ],
      "execution_count": 7,
      "outputs": [
        {
          "output_type": "stream",
          "text": [
            "5483058 oagreendoissn.csv\n"
          ],
          "name": "stdout"
        }
      ]
    },
    {
      "metadata": {
        "id": "qVUb7HSWc7cV",
        "colab_type": "code",
        "colab": {}
      },
      "cell_type": "code",
      "source": [
        "!pip install openpyxl > /dev/null"
      ],
      "execution_count": 0,
      "outputs": []
    },
    {
      "metadata": {
        "id": "3BumNA5IYGlD",
        "colab_type": "code",
        "colab": {}
      },
      "cell_type": "code",
      "source": [
        "import pandas as pd"
      ],
      "execution_count": 0,
      "outputs": []
    },
    {
      "metadata": {
        "id": "RTBRgxGdYKBf",
        "colab_type": "code",
        "colab": {}
      },
      "cell_type": "code",
      "source": [
        "ds=pd.read_csv('oagreendoissn.csv')"
      ],
      "execution_count": 0,
      "outputs": []
    },
    {
      "metadata": {
        "id": "FBAwaVX_c8qV",
        "colab_type": "code",
        "colab": {
          "base_uri": "https://localhost:8080/",
          "height": 35
        },
        "outputId": "805116a8-edcb-481b-d549-1e7ae6653775"
      },
      "cell_type": "code",
      "source": [
        "ds[:6].ISSNs.values"
      ],
      "execution_count": 13,
      "outputs": [
        {
          "output_type": "execute_result",
          "data": {
            "text/plain": [
              "array([nan, nan, nan, nan, nan, '2035-8377,2035-8385'], dtype=object)"
            ]
          },
          "metadata": {
            "tags": []
          },
          "execution_count": 13
        }
      ]
    },
    {
      "metadata": {
        "id": "FnYNa7icgnJo",
        "colab_type": "code",
        "colab": {}
      },
      "cell_type": "code",
      "source": [
        "import numpy as np"
      ],
      "execution_count": 0,
      "outputs": []
    },
    {
      "metadata": {
        "id": "aer6sXqAf-FG",
        "colab_type": "code",
        "colab": {}
      },
      "cell_type": "code",
      "source": [
        "issns=np.unique(  ds.ISSNs.str.split(',').values.sum() )\n",
        "issns.shape"
      ],
      "execution_count": 0,
      "outputs": []
    },
    {
      "metadata": {
        "id": "omlAJrvAZapM",
        "colab_type": "code",
        "colab": {}
      },
      "cell_type": "code",
      "source": [
        " lenmax=ds['ISSNs'].str.split(\",\").apply(len).max()"
      ],
      "execution_count": 0,
      "outputs": []
    },
    {
      "metadata": {
        "id": "w-aW7dEgZKV6",
        "colab_type": "code",
        "colab": {}
      },
      "cell_type": "code",
      "source": [
        "for i in range(lenmax):\n",
        "    ds['ISSN{}'.format(i)]=ds['ISSNs'].str.split(\",\").str[i]"
      ],
      "execution_count": 0,
      "outputs": []
    },
    {
      "metadata": {
        "id": "ouu505Lccl4K",
        "colab_type": "code",
        "colab": {}
      },
      "cell_type": "code",
      "source": [
        "ds=ds.fillna('')"
      ],
      "execution_count": 0,
      "outputs": []
    },
    {
      "metadata": {
        "id": "_A6KIZ2EZUBb",
        "colab_type": "code",
        "colab": {}
      },
      "cell_type": "code",
      "source": [
        "ds.to_excel('oagreendoissn.xlsx',index=False)"
      ],
      "execution_count": 0,
      "outputs": []
    },
    {
      "metadata": {
        "id": "mBNIIPCAZji_",
        "colab_type": "code",
        "outputId": "f85c8795-3105-4acd-831e-911b1a1ccdc4",
        "colab": {
          "base_uri": "https://localhost:8080/",
          "height": 34
        }
      },
      "cell_type": "code",
      "source": [
        "ls"
      ],
      "execution_count": 0,
      "outputs": [
        {
          "output_type": "stream",
          "text": [
            "\u001b[0m\u001b[01;34mdrive\u001b[0m/  \u001b[01;34msample_data\u001b[0m/\n"
          ],
          "name": "stdout"
        }
      ]
    },
    {
      "metadata": {
        "id": "5LMeBvolfVJb",
        "colab_type": "code",
        "colab": {}
      },
      "cell_type": "code",
      "source": [
        ""
      ],
      "execution_count": 0,
      "outputs": []
    }
  ]
}