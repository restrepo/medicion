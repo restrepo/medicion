{
  "nbformat": 4,
  "nbformat_minor": 0,
  "metadata": {
    "colab": {
      "name": "index.ipynb",
      "version": "0.3.2",
      "provenance": [],
      "include_colab_link": true
    }
  },
  "cells": [
    {
      "cell_type": "markdown",
      "metadata": {
        "id": "view-in-github",
        "colab_type": "text"
      },
      "source": [
        "[View in Colaboratory](https://colab.research.google.com/github/restrepo/medicion/blob/master/cienciometria/index.ipynb)"
      ]
    },
    {
      "metadata": {
        "id": "gKE15hDfws0O",
        "colab_type": "text"
      },
      "cell_type": "markdown",
      "source": [
        "# Combinación de bases de datos de artículos científicos\n",
        "```\n",
        "URL_base=https://colab.research.google.com/github/blob_file_in_repo\n",
        "blob_file_in_repo → restrepo/medicion/blob/master/cienciometria/merge.ipynb\n",
        "\n",
        "```\n",
        "## UdeA\n",
        "### Combinar bases de datos bibliográficas UDEA\n",
        "* [Combibnar W0S+SCP+SCI](https://colab.research.google.com/github/restrepo/medicion/blob/master/cienciometria/merge.ipynb) versión detallada\n",
        "* [Combibnar W0S+SCP+SCI](https://colab.research.google.com/github/restrepo/medicion/blob/master/cienciometria/WOS_SCI_SCP.ipynb) versión corta\n",
        "##  [Open Access](https://colab.research.google.com/github/restrepo/medicion/blob/master/cienciometria/OpenAccess.ipynb) DOAJ API \n",
        "##  [Open Access](https://colab.research.google.com/github/restrepo/medicion/blob/master/cienciometria/XXX.ipynb)  \n",
        "\n",
        "https://unpaywall.org/ dataset. See https://towardsdatascience.com/interactively-analyse-100gb-of-json-data-with-spark-e018f9436e76\n",
        "```bash\n",
        "# Select True Open Access articles\n",
        "grep -E '\"is_oa\":\\s*true' unpaywall_snapshot_2018-06-21T164548_with_versions.jsonl  >  oa.json\n",
        "```\n",
        "\n",
        "Further filters in `oa.json`\n",
        "```bash\n",
        "grep -E '\"journal_is_oa\":\\s*true' oa.json > oagreen.json\n",
        "grep -E '\"journal_is_oa\":\\s*false' oa.json > oatmp.json\n",
        "```\n",
        "Further filters in `oatmp.json`\n",
        "```bash\n",
        "grep -F '\"best_oa_location\": {\"url\": \"https://doi.org/' oatmp.json > oagreenarticle.json\n",
        "grep -Fv '\"best_oa_location\": {\"url\": \"https://doi.org/' oatmp.json > oayellow.json\n",
        "```\n",
        "Generate a cvs files with only  DOI column for each with the script `extractdois`:\n",
        "```bash\n",
        "#!/usr/bin/env bash\n",
        "if [ ! \"$2\" ];then\n",
        "    echo \"USAGE: $0 filein fileout\"\n",
        "    exit\n",
        "fi\n",
        "echo DOI > \"$2\"\n",
        "awk -F\",\"  '{print $1}' \"$1\" |  grep '\"doi\":' | awk -F '\"' '{print $(NF-1)}' >> \"$2\"\n",
        "```\n",
        "So:\n",
        "```bash\n",
        "extractdois  unpaywall_snapshot_2018-06-21T164548_with_versions.json dois.csv\n",
        "extractdois  oa.json oadoi.csv\n",
        "extractdois  oagreen.json oagreendois.csv\n",
        "extractdois  oagreenarticle.json oagreenarticledois.csv\n",
        "extractdois  oayellow,json oayellowdois.csv\n",
        "```\n",
        "Results here:\n",
        "1. [oa.json](https://drive.google.com/file/d/1B6ndkSGNtHfPLm7CuCJMsoh_URHImK7v/view?usp=sharing)\n",
        "1. [oayellow.json]()\n",
        "1. [oagreen.json]()\n",
        "1. [oagreenarticle.json]()\n",
        "1. [dois.csv]()\n",
        "1. [oadois.csv](https://drive.google.com/file/d/1uipr7JlNhLzZK5W8VymUNwVGGim-AqhC/view?usp=sharing)\n",
        "1. [oayellowdois.csv](https://drive.google.com/file/d/1sBFXSOVXDZwqkI0SsUfNoU9ls138aHSw/view?usp=sharing)\n",
        "1. [oagreendois.csv](https://drive.google.com/file/d/1RKB49-9xbTSuLxBZQ28JoQCzKNTr2tnU/view?usp=sharing)\n",
        "1. [oagreenarticledois.csv](https://drive.google.com/file/d/1X5hr_q15UdoKKL_JJnLZR37r0UN2AS7y/view?usp=sharing)\n",
        "\n",
        "* TODO: comprobar los APIS de http://blog.impactstory.org/introducting-oadoi/. Por ejemplo\n",
        "Usar\n",
        " \n",
        " http://oadoi.org/10.1103/PhysRevD.98.055016\n",
        "\n",
        " En lugar de   http:://doi.org/10.1103/PhysRevD.98.055016"
      ]
    },
    {
      "metadata": {
        "id": "6t8SlEub3cS8",
        "colab_type": "code",
        "colab": {}
      },
      "cell_type": "code",
      "source": [
        "import pandas as pd"
      ],
      "execution_count": 0,
      "outputs": []
    },
    {
      "metadata": {
        "id": "10pOtTQlxlog",
        "colab_type": "text"
      },
      "cell_type": "markdown",
      "source": [
        "Gray Open Acces format"
      ]
    },
    {
      "metadata": {
        "id": "8hLuDm9dmYKo",
        "colab_type": "code",
        "colab": {}
      },
      "cell_type": "code",
      "source": [
        "{\"doi\": \"10.1103/physrevd.97.115032\", \"year\": 2018, \"genre\": \"journal-article\", \"is_oa\": true, \n",
        " \"title\": \"Bound-state dark matter and Dirac neutrino masses\", \n",
        " \"doi_url\": \"https://doi.org/10.1103/physrevd.97.115032\", \"updated\": \"2018-06-20T13:53:19.253782\", \n",
        " \"publisher\": \"American Physical Society (APS)\", \"z_authors\": [{\"given\": \"M.\", \"family\": \"Reig\", \"sequence\": \"first\"},\n",
        "                                                               {\"given\": \"D.\", \"family\": \"Restrepo\", \"sequence\": \"additional\"}, \n",
        "                                                               {\"given\": \"J. W. F.\", \"family\": \"Valle\", \"sequence\": \"additional\"}, \n",
        "                                                               {\"given\": \"O.\", \"family\": \"Zapata\", \"sequence\": \"additional\"}], \n",
        " \"journal_name\": \"Physical Review D\", \n",
        " \"oa_locations\": [{\"url\": \"https://doi.org/10.1103/physrevd.97.115032\", \"pmh_id\": null,\n",
        "                   \"is_best\": true, \"license\": \"cc-by\", \"updated\": \"2018-06-20T13:53:19.252860\", \n",
        "                   \"version\": \"publishedVersion\", \"evidence\": \"open (via crossref license)\", \"host_type\": \"publisher\", \"url_for_pdf\": null,\n",
        "                   \"url_for_landing_page\": \"https://doi.org/10.1103/physrevd.97.115032\"}], \n",
        " \"data_standard\": 1, \"journal_is_oa\": false, \"journal_issns\": \"2470-0010,2470-0029\", \"published_date\": \"2018-06-19\", \n",
        " \"best_oa_location\": {\"url\": \"https://doi.org/10.1103/physrevd.97.115032\", \"pmh_id\": null, \"is_best\": true, \"license\": \"cc-by\", \n",
        "                      \"updated\": \"2018-06-20T13:53:19.252860\", \"version\": \"publishedVersion\", \"evidence\": \"open (via crossref license)\", \n",
        "                      \"host_type\": \"publisher\", \"url_for_pdf\": null, \"url_for_landing_page\": \"https://doi.org/10.1103/physrevd.97.115032\"}, \n",
        " \"journal_is_in_doaj\": false}\n"
      ],
      "execution_count": 0,
      "outputs": []
    },
    {
      "metadata": {
        "id": "WY9gQ32G3xnT",
        "colab_type": "code",
        "colab": {
          "base_uri": "https://localhost:8080/",
          "height": 167
        },
        "outputId": "ebb8e5da-70af-447b-a4fc-c1c3ec426d11"
      },
      "cell_type": "code",
      "source": [
        "grayoa=pd.DataFrame()\n",
        "grayoa.append( {\"doi\": \"10.1103/physrevd.86.075011\", \"year\": 2012, \"genre\": \"journal-article\", \"is_oa\": True, \n",
        "              \"title\": \"Connection of gamma rays, dark matter, and Higgs boson searches at the LHC\",\n",
        "              \"doi_url\": \"https://doi.org/10.1103/physrevd.86.075011\", \"updated\": \"2018-06-18T03:46:10.784962\",\n",
        "              \"publisher\": \"American Physical Society (APS)\", \"z_authors\": [{\"given\": \"J. D.\", \"family\": \"Ruiz-Alvarez\"}, \n",
        "                                                                            {\"given\": \"C. A.\", \"family\": \"de S. Pires\"}, \n",
        "                                                                            {\"given\": \"Farinaldo S.\", \"family\": \"Queiroz\"}, \n",
        "                                                                            {\"given\": \"D.\", \"family\": \"Restrepo\"}, \n",
        "                                                                            {\"given\": \"P. S.\", \"family\": \"Rodrigues da Silva\"}], \n",
        "              \"journal_name\": \"Physical Review D\", \n",
        "              \"oa_locations\": [{\"url\": \"http://arxiv.org/pdf/1206.5779\", \"pmh_id\": \"oai:arXiv.org:1206.5779\",\n",
        "                                                                     \"is_best\": True, \"license\": 'null', \"updated\": \"2018-06-18T03:46:10.783600\", \n",
        "                                                                     \"version\": \"submittedVersion\", \"evidence\": \"oa repository (via OAI-PMH doi match)\", \n",
        "                                                                     \"host_type\": \"repository\", \"url_for_pdf\": \"http://arxiv.org/pdf/1206.5779\",\n",
        "                                                                     \"url_for_landing_page\": \"http://arxiv.org/abs/1206.5779\"}], \n",
        "              \"data_standard\": 2, \"journal_is_oa\": False, \"journal_issns\": \"1550-7998,1550-2368\", \"published_date\": \"2012-10-08\", \n",
        "              \"best_oa_location\": {\"url\": \"http://arxiv.org/pdf/1206.5779\", \"pmh_id\": \"oai:arXiv.org:1206.5779\", \"is_best\": True, \"license\": 'null',\n",
        "                                   \"updated\": \"2018-06-18T03:46:10.783600\", \"version\": \"submittedVersion\", \n",
        "                                   \"evidence\": \"oa repository (via OAI-PMH doi match)\", \"host_type\": \"repository\", \n",
        "                                   \"url_for_pdf\": \"http://arxiv.org/pdf/1206.5779\", \"url_for_landing_page\": \"http://arxiv.org/abs/1206.5779\"}, \n",
        "              \"journal_is_in_doaj\": False},ignore_index=True)\n"
      ],
      "execution_count": 0,
      "outputs": [
        {
          "output_type": "execute_result",
          "data": {
            "text/html": [
              "<div>\n",
              "<style scoped>\n",
              "    .dataframe tbody tr th:only-of-type {\n",
              "        vertical-align: middle;\n",
              "    }\n",
              "\n",
              "    .dataframe tbody tr th {\n",
              "        vertical-align: top;\n",
              "    }\n",
              "\n",
              "    .dataframe thead th {\n",
              "        text-align: right;\n",
              "    }\n",
              "</style>\n",
              "<table border=\"1\" class=\"dataframe\">\n",
              "  <thead>\n",
              "    <tr style=\"text-align: right;\">\n",
              "      <th></th>\n",
              "      <th>best_oa_location</th>\n",
              "      <th>data_standard</th>\n",
              "      <th>doi</th>\n",
              "      <th>doi_url</th>\n",
              "      <th>genre</th>\n",
              "      <th>is_oa</th>\n",
              "      <th>journal_is_in_doaj</th>\n",
              "      <th>journal_is_oa</th>\n",
              "      <th>journal_issns</th>\n",
              "      <th>journal_name</th>\n",
              "      <th>oa_locations</th>\n",
              "      <th>published_date</th>\n",
              "      <th>publisher</th>\n",
              "      <th>title</th>\n",
              "      <th>updated</th>\n",
              "      <th>year</th>\n",
              "      <th>z_authors</th>\n",
              "    </tr>\n",
              "  </thead>\n",
              "  <tbody>\n",
              "    <tr>\n",
              "      <th>0</th>\n",
              "      <td>{u'updated': u'2018-06-18T03:46:10.783600', u'...</td>\n",
              "      <td>2.0</td>\n",
              "      <td>10.1103/physrevd.86.075011</td>\n",
              "      <td>https://doi.org/10.1103/physrevd.86.075011</td>\n",
              "      <td>journal-article</td>\n",
              "      <td>1.0</td>\n",
              "      <td>0.0</td>\n",
              "      <td>0.0</td>\n",
              "      <td>1550-7998,1550-2368</td>\n",
              "      <td>Physical Review D</td>\n",
              "      <td>[{u'updated': u'2018-06-18T03:46:10.783600', u...</td>\n",
              "      <td>2012-10-08</td>\n",
              "      <td>American Physical Society (APS)</td>\n",
              "      <td>Connection of gamma rays, dark matter, and Hig...</td>\n",
              "      <td>2018-06-18T03:46:10.784962</td>\n",
              "      <td>2012.0</td>\n",
              "      <td>[{u'given': u'J. D.', u'family': u'Ruiz-Alvare...</td>\n",
              "    </tr>\n",
              "  </tbody>\n",
              "</table>\n",
              "</div>"
            ],
            "text/plain": [
              "                                    best_oa_location  data_standard  \\\n",
              "0  {u'updated': u'2018-06-18T03:46:10.783600', u'...            2.0   \n",
              "\n",
              "                          doi                                     doi_url  \\\n",
              "0  10.1103/physrevd.86.075011  https://doi.org/10.1103/physrevd.86.075011   \n",
              "\n",
              "             genre  is_oa  journal_is_in_doaj  journal_is_oa  \\\n",
              "0  journal-article    1.0                 0.0            0.0   \n",
              "\n",
              "         journal_issns       journal_name  \\\n",
              "0  1550-7998,1550-2368  Physical Review D   \n",
              "\n",
              "                                        oa_locations published_date  \\\n",
              "0  [{u'updated': u'2018-06-18T03:46:10.783600', u...     2012-10-08   \n",
              "\n",
              "                         publisher  \\\n",
              "0  American Physical Society (APS)   \n",
              "\n",
              "                                               title  \\\n",
              "0  Connection of gamma rays, dark matter, and Hig...   \n",
              "\n",
              "                      updated    year  \\\n",
              "0  2018-06-18T03:46:10.784962  2012.0   \n",
              "\n",
              "                                           z_authors  \n",
              "0  [{u'given': u'J. D.', u'family': u'Ruiz-Alvare...  "
            ]
          },
          "metadata": {
            "tags": []
          },
          "execution_count": 7
        }
      ]
    },
    {
      "metadata": {
        "id": "N0KIzeBRa8qS",
        "colab_type": "code",
        "colab": {}
      },
      "cell_type": "code",
      "source": [
        "from bs4 import BeautifulSoup"
      ],
      "execution_count": 0,
      "outputs": []
    },
    {
      "metadata": {
        "id": "ytIDYwDU39BT",
        "colab_type": "code",
        "colab": {}
      },
      "cell_type": "code",
      "source": [
        "import requests\n",
        "issn='2045-2322'#'0960-9822'#'2211-3797'\n",
        "url='https://doaj.org/toc/{}'.format(issn)\n",
        "r=requests.get(url)"
      ],
      "execution_count": 0,
      "outputs": []
    },
    {
      "metadata": {
        "id": "DNdmX5EIa_lk",
        "colab_type": "code",
        "colab": {}
      },
      "cell_type": "code",
      "source": [
        "soup=BeautifulSoup(r.text)"
      ],
      "execution_count": 0,
      "outputs": []
    },
    {
      "metadata": {
        "id": "JTlu8810bL85",
        "colab_type": "code",
        "colab": {}
      },
      "cell_type": "code",
      "source": [
        "try:\n",
        "    APC=soup.find_all('div',{\"class\":\"box slim\"})[0].contents[3].contents[2].strip()\n",
        "except:\n",
        "    APC=None"
      ],
      "execution_count": 0,
      "outputs": []
    },
    {
      "metadata": {
        "id": "QXAMVAvabqmn",
        "colab_type": "code",
        "colab": {
          "base_uri": "https://localhost:8080/",
          "height": 35
        },
        "outputId": "d149ef51-80af-44dd-9caf-afff25479675"
      },
      "cell_type": "code",
      "source": [
        "APC"
      ],
      "execution_count": 36,
      "outputs": [
        {
          "output_type": "execute_result",
          "data": {
            "text/plain": [
              "u'1165GBP'"
            ]
          },
          "metadata": {
            "tags": []
          },
          "execution_count": 36
        }
      ]
    },
    {
      "metadata": {
        "id": "IhKJf3Agd558",
        "colab_type": "code",
        "colab": {}
      },
      "cell_type": "code",
      "source": [
        "!pip install currencyconverter > /dev/null"
      ],
      "execution_count": 0,
      "outputs": []
    },
    {
      "metadata": {
        "id": "SMPy774HdvJx",
        "colab_type": "text"
      },
      "cell_type": "markdown",
      "source": [
        "See https://pypi.org/project/CurrencyConverter/"
      ]
    },
    {
      "metadata": {
        "id": "FY1hVBmTa41L",
        "colab_type": "code",
        "colab": {}
      },
      "cell_type": "code",
      "source": [
        "from currency_converter import CurrencyConverter\n",
        "c = CurrencyConverter()"
      ],
      "execution_count": 0,
      "outputs": []
    },
    {
      "metadata": {
        "id": "z_zBTbrfe-JT",
        "colab_type": "code",
        "colab": {
          "base_uri": "https://localhost:8080/",
          "height": 35
        },
        "outputId": "78134410-cc4e-40f2-d1e4-205aabb03266"
      },
      "cell_type": "code",
      "source": [
        "CurrencyConverter()"
      ],
      "execution_count": 46,
      "outputs": [
        {
          "output_type": "execute_result",
          "data": {
            "text/plain": [
              "<currency_converter.currency_converter.CurrencyConverter at 0x7f22cd9ecf10>"
            ]
          },
          "metadata": {
            "tags": []
          },
          "execution_count": 46
        }
      ]
    },
    {
      "metadata": {
        "id": "WSgLAPfUhayt",
        "colab_type": "code",
        "colab": {}
      },
      "cell_type": "code",
      "source": [
        "i=re.search(r\"([0-9\\.\\,]+)([a-zA-Z]+)\",APC)\n",
        "items=i.groups()"
      ],
      "execution_count": 0,
      "outputs": []
    },
    {
      "metadata": {
        "id": "TjyNQYNGh0ZD",
        "colab_type": "code",
        "colab": {
          "base_uri": "https://localhost:8080/",
          "height": 35
        },
        "outputId": "2823c49b-27c3-45fe-c201-f0459d8bc731"
      },
      "cell_type": "code",
      "source": [
        "items\n"
      ],
      "execution_count": 63,
      "outputs": [
        {
          "output_type": "execute_result",
          "data": {
            "text/plain": [
              "(u'1165', u'GBP')"
            ]
          },
          "metadata": {
            "tags": []
          },
          "execution_count": 63
        }
      ]
    },
    {
      "metadata": {
        "id": "IZIOO-MCe8b2",
        "colab_type": "code",
        "colab": {
          "base_uri": "https://localhost:8080/",
          "height": 35
        },
        "outputId": "c63fba72-fd87-41f4-be7a-e6fd5c99f8e7"
      },
      "cell_type": "code",
      "source": [
        "int(  c.convert(float(items[0]),items[1],'USD'))"
      ],
      "execution_count": 66,
      "outputs": [
        {
          "output_type": "execute_result",
          "data": {
            "text/plain": [
              "1510"
            ]
          },
          "metadata": {
            "tags": []
          },
          "execution_count": 66
        }
      ]
    }
  ]
}