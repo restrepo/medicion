{
  "nbformat": 4,
  "nbformat_minor": 0,
  "metadata": {
    "colab": {
      "name": "index.ipynb",
      "version": "0.3.2",
      "provenance": [],
      "include_colab_link": true
    }
  },
  "cells": [
    {
      "cell_type": "markdown",
      "metadata": {
        "id": "view-in-github",
        "colab_type": "text"
      },
      "source": [
        "[View in Colaboratory](https://colab.research.google.com/github/restrepo/medicion/blob/master/cienciometria/index.ipynb)"
      ]
    },
    {
      "metadata": {
        "id": "gKE15hDfws0O",
        "colab_type": "text"
      },
      "cell_type": "markdown",
      "source": [
        "# Combinación de bases de datos de artículos científicos\n",
        "```\n",
        "URL_base=https://colab.research.google.com/github/blob_file_in_repo\n",
        "blob_file_in_repo → restrepo/medicion/blob/master/cienciometria/merge.ipynb\n",
        "\n",
        "```\n",
        "## UdeA\n",
        "### Combinar bases de datos bibliográficas UDEA\n",
        "* [Combibnar W0S+..](https://colab.research.google.com/merge.ipynb)"
      ]
    },
    {
      "metadata": {
        "id": "10pOtTQlxlog",
        "colab_type": "code",
        "colab": {}
      },
      "cell_type": "code",
      "source": [
        ""
      ],
      "execution_count": 0,
      "outputs": []
    }
  ]
}