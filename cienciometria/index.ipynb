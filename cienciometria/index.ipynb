{
  "nbformat": 4,
  "nbformat_minor": 0,
  "metadata": {
    "colab": {
      "name": "index.ipynb",
      "version": "0.3.2",
      "provenance": [],
      "include_colab_link": true
    }
  },
  "cells": [
    {
      "cell_type": "markdown",
      "metadata": {
        "id": "view-in-github",
        "colab_type": "text"
      },
      "source": [
        "[View in Colaboratory](https://colab.research.google.com/github/restrepo/medicion/blob/master/cienciometria/index.ipynb)"
      ]
    },
    {
      "metadata": {
        "id": "gKE15hDfws0O",
        "colab_type": "text"
      },
      "cell_type": "markdown",
      "source": [
        "# Combinación de bases de datos de artículos científicos\n",
        "```\n",
        "URL_base=https://colab.research.google.com/github/blob_file_in_repo\n",
        "blob_file_in_repo → restrepo/medicion/blob/master/cienciometria/merge.ipynb\n",
        "\n",
        "```\n",
        "## UdeA\n",
        "### Combinar bases de datos bibliográficas UDEA\n",
        "* [Combibnar W0S+SCP+SCI](https://colab.research.google.com/github/restrepo/medicion/blob/master/cienciometria/merge.ipynb) versión detallada\n",
        "* [Combibnar W0S+SCP+SCI](https://colab.research.google.com/github/restrepo/medicion/blob/master/cienciometria/WOS_SCI_SCP.ipynb) versión corta\n",
        "* [Open Access](https://colab.research.google.com/github/restrepo/medicion/blob/master/cienciometria/OpenAccess.ipynb) DOAJ API \n",
        "* [Open Access](https://colab.research.google.com/github/restrepo/medicion/blob/master/cienciometria/XXX.ipynb)   https://unpaywall.org/ dataset. See https://towardsdatascience.com/interactively-analyse-100gb-of-json-data-with-spark-e018f9436e76\n",
        "```bash\n",
        "# Select True Open Access articles\n",
        "grep -E '\"is_oa\":\\s*true' unpaywall_snapshot_2018-06-21T164548_with_versions.jsonl  >  oa.json\n",
        "# Select only DOIS values: for True Opena Access articles\n",
        "echo DOI > oadoi.csv\n",
        "awk -F\",\"  '{print $1}' oa.json | grep '\"doi\":' | awk -F '\"' '{print $(NF-1)}'   >> oadoi.csv\n",
        "# Full DOIs\n",
        "echo DOI > dois.csv\n",
        "awk -F\",\"  '{print $1}' unpaywall_snapshot_2018-06-21T164548_with_versions.jsonl | grep '\"doi\":' | awk -F '\"' '{print $(NF-1)}'   >> dois.csv\n",
        "```\n",
        "Results here:\n",
        "1. [oadois.csv](https://drive.google.com/file/d/1uipr7JlNhLzZK5W8VymUNwVGGim-AqhC/view?usp=sharing)\n",
        "1. [dois.csv]()\n",
        "* TODO: comprobar los APIS de http://blog.impactstory.org/introducting-oadoi/. Por ejemplo\n",
        "Usar\n",
        "* http://oadoi.org/10.1103/PhysRevD.98.055016\n",
        "En lugar de   http:://doi.org/10.1103/PhysRevD.98.055016"
      ]
    },
    {
      "metadata": {
        "id": "10pOtTQlxlog",
        "colab_type": "code",
        "colab": {}
      },
      "cell_type": "code",
      "source": [
        ""
      ],
      "execution_count": 0,
      "outputs": []
    }
  ]
}