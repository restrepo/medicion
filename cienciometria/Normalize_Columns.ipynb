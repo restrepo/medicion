{
 "cells": [
  {
   "cell_type": "markdown",
   "metadata": {
    "colab_type": "text",
    "id": "view-in-github"
   },
   "source": [
    "<a href=\"https://colab.research.google.com/github/restrepo/medicion/blob/master/cienciometria/Query_CTR.ipynb\" target=\"_parent\"><img src=\"https://colab.research.google.com/assets/colab-badge.svg\" alt=\"Open In Colab\"/></a>"
   ]
  },
  {
   "cell_type": "markdown",
   "metadata": {
    "colab_type": "text",
    "id": "aDnqho-CsEwj"
   },
   "source": [
    "# Búsquedas WOS+SCI+SCP+PTJ+CTR para UdeA"
   ]
  },
  {
   "cell_type": "markdown",
   "metadata": {},
   "source": [
    "Búsquedas en bases bibligráficas  \n",
    "* Web of Science (WOS), \n",
    "* Scielo (SCI)\n",
    "* Scopus  (SCP)\n",
    "* Puntaje (UDEA)\n",
    "* Center (CTR)\n",
    "de los artículos científicos de la UdeA\n",
    "\n",
    "La base de datos se creó con:\n",
    "\n",
    "[WOS_SCI_SCP_PTJ_CTR.ipynb](./WOS_SCI_SCP_PTJ_CTR.ipynb)"
   ]
  },
  {
   "cell_type": "code",
   "execution_count": 1,
   "metadata": {},
   "outputs": [],
   "source": [
    "import os\n",
    "VERSION='NEW'\n",
    "if os.getcwd()=='/content':\n",
    "    !pip install openpyxl xlrd wosplus fuzzywuzzy[speedup] > /dev/null"
   ]
  },
  {
   "cell_type": "markdown",
   "metadata": {},
   "source": [
    "## functions"
   ]
  },
  {
   "cell_type": "code",
   "execution_count": 216,
   "metadata": {
    "colab": {},
    "colab_type": "code",
    "id": "nhk2ZGEDd2Yo"
   },
   "outputs": [],
   "source": [
    "import pandas as pd\n",
    "import wosplus as wp\n",
    "pd.set_option('display.max_colwidth',200)\n",
    "from venn import draw_venn, generate_colors\n",
    "import numpy as np\n",
    "import fuzzywuzzy.process as fwp\n",
    "from fuzzywuzzy import fuzz\n",
    "import re\n",
    "import json\n",
    "from fuzzywuzzy import fuzz\n",
    "from fuzzywuzzy import process\n",
    "import unidecode\n",
    "import itertools\n",
    "import sys\n",
    "idc='CÉDULA'\n",
    "# GENERAL PORPOSE FUNCTIONS\n",
    "def split_names(s):\n",
    "    \"\"\"\n",
    "    Extract the parts of the full name s.\n",
    "    \n",
    "    Works with:\n",
    "    ----\n",
    "        s='LA ROTTA FORERO DANIEL ANDRES'\n",
    "        s='MONTES RAMIREZ MARIA DEL CONSUELO'\n",
    "        s='CALLEJAS POSADA RICARDO DE LA MERCED'\n",
    "        s='DE LA CUESTA BENJUMEA MARIA DEL CARMEN'\n",
    "        s='JARAMILLO OCAMPO NICOLAS CARLOS MARTI'\n",
    "        s='RESTREPO QUINTERO DIEGO ALEJANDRO'\n",
    "        s='RESTREPO QUINTERO DIEGO'\n",
    "        s='RESTREPO DIEGO'\n",
    "    Fails with: \n",
    "    ----\n",
    "        s='RANGEL MARTINEZ VILLAL ANDRES MAURICIO'\n",
    "        s='RESTREPO DIEGO ALEJANDRO'\n",
    "    \"\"\"\n",
    "    s=s.title()\n",
    "    sl=re.sub('(\\s\\w{1,3})\\s',r'\\1-',s,re.UNICODE)\n",
    "    sl=re.sub('^(\\w{1,3})\\s',r'\\1-' ,sl,re.UNICODE)\n",
    "    #if sl.find('-')>-1:\n",
    "    sll=[s.replace('-',' ') for s in sl.split()]\n",
    "    if s.split()==2:\n",
    "        sll=[s.split()[0]]+['']+[s.split()[1]]\n",
    "    #\n",
    "    d={'NOMBRE COMPLETO' : ' '.join(sll[2:]+sll[:2]),\n",
    "     'PRIMER APELLIDO' : sll[0], \n",
    "     'SEGUNDO APELLIDO': sll[1], \n",
    "     'NOMBRES'         :' '.join(sll[2:]), \n",
    "     'INICIALES'       :' '.join( [i[0]+'.' for i in ' '.join(sll[2:]).split() ] )\n",
    "    }\n",
    "    return d"
   ]
  },
  {
   "cell_type": "markdown",
   "metadata": {
    "colab_type": "text",
    "heading_collapsed": true,
    "id": "JS7jD1f47JUN"
   },
   "source": [
    "##  Configure public links of  files in Google Drive\n",
    "* If it is a Google Spreadsheet the corresponding file is downloaded as CSV\n",
    "* If it is in excel/json or text file the file is downloaded  directly\n",
    "\n",
    "To define your  own labeled IDs for public google drive files edit the next cell:"
   ]
  },
  {
   "cell_type": "code",
   "execution_count": 3,
   "metadata": {
    "colab": {
     "base_uri": "https://localhost:8080/",
     "height": 35
    },
    "colab_type": "code",
    "hidden": true,
    "id": "T4Rmd2dF7JUQ",
    "outputId": "39a5835e-1b38-48b6-f1a5-e9964c846123"
   },
   "outputs": [
    {
     "name": "stdout",
     "output_type": "stream",
     "text": [
      "Overwriting drive.cfg\n"
     ]
    }
   ],
   "source": [
    "%%writefile drive.cfg\n",
    "[FILES]\n",
    "WOS_SCI_SCP_PTJ_CTR.json.gz=19E1C1kRk4I0V3uXojqko8-NEicWaPp1j\n",
    "Base_de_datos_investigadores_Definitiva.csv=12oalgUeKhpvzkTPBP8pXCeHTrF-KO223dy9ov9w9QKs\n",
    "produccion_fecha_vig_2003_2018.xlsx=1WbtX4K__TTLxXRjuLvqUYz9tuHCIlS5v\n",
    "producción_reconocida_2002_2016_doi.xlsx=0BxoOXsn2EUNIY2lzVmNMT0VXaGs\n",
    "oaudea.xlsx             = 1CcwobiEFACIbffNzNdLxpdxQukr8cZ5x"
   ]
  },
  {
   "cell_type": "markdown",
   "metadata": {
    "colab_type": "text",
    "id": "Y0D0hEdAMXUX"
   },
   "source": [
    "##  Load data bases"
   ]
  },
  {
   "cell_type": "code",
   "execution_count": 4,
   "metadata": {
    "colab": {
     "base_uri": "https://localhost:8080/",
     "height": 35
    },
    "colab_type": "code",
    "id": "occzrIeCS7aQ",
    "outputId": "17b144f3-eef0-4c8a-c2b4-10c8fe55802c"
   },
   "outputs": [],
   "source": [
    "affil='Univ Antioquia'\n",
    "drive_files=wp.wosplus('drive.cfg')"
   ]
  },
  {
   "cell_type": "code",
   "execution_count": 257,
   "metadata": {},
   "outputs": [
    {
     "name": "stdout",
     "output_type": "stream",
     "text": [
      "WARNING: Biblio already has a \"Tipo\" column\n"
     ]
    }
   ],
   "source": [
    "UDEAjsonfile='WOS_SCI_SCP_PTJ_CTR.json.gz'\n",
    "tmp=drive_files.load_biblio(UDEAjsonfile,compression='gzip')\n",
    "UDEA=drive_files.biblio['WOS'].copy().reset_index(drop=True)"
   ]
  },
  {
   "cell_type": "code",
   "execution_count": 15,
   "metadata": {},
   "outputs": [],
   "source": [
    "AU=drive_files.read_drive_excel('Base_de_datos_investigadores_Definitiva.csv')"
   ]
  },
  {
   "cell_type": "code",
   "execution_count": 5,
   "metadata": {},
   "outputs": [],
   "source": [
    "PTJ=drive_files.read_drive_excel('produccion_fecha_vig_2003_2018.xlsx')\n",
    "AU_PTJ=PTJ[['cedula','nombre']].drop_duplicates()"
   ]
  },
  {
   "cell_type": "code",
   "execution_count": 29,
   "metadata": {},
   "outputs": [],
   "source": [
    "LOCAL=False\n",
    "if LOCAL:\n",
    "    UDEA.to_json('WOS_SCI_SCP_PTJ_CTR.json.gz',orient='records')\n",
    "    AU.to_json('AU.json')\n",
    "    AU_PTJ.to_json('AU_PTJ.json',orient='records')"
   ]
  },
  {
   "cell_type": "code",
   "execution_count": 237,
   "metadata": {},
   "outputs": [],
   "source": [
    "LOCAL_LOAD=True\n",
    "if LOCAL_LOAD:\n",
    "    UDEA=pd.read_json('WOS_SCI_SCP_PTJ_CTR.json.gz')\n",
    "    AU=pd.read_json('AU.json').reset_index(drop=True)\n",
    "    AU_PTJ=pd.read_json('AU_PTJ.json').reset_index(drop=True)"
   ]
  },
  {
   "cell_type": "code",
   "execution_count": 238,
   "metadata": {},
   "outputs": [],
   "source": [
    "#UDEA=pd.read_json('/home/restrepo/Downloads/WOS_SCI_SCP_PTJ_CTR.json.gz').reset_index(drop=True)"
   ]
  },
  {
   "cell_type": "code",
   "execution_count": 239,
   "metadata": {},
   "outputs": [
    {
     "data": {
      "text/plain": [
       "(12270, 181)"
      ]
     },
     "execution_count": 239,
     "metadata": {},
     "output_type": "execute_result"
    }
   ],
   "source": [
    "UDEA[UDEA['UDEA_authors']!=''].reset_index(drop=True).shape"
   ]
  },
  {
   "cell_type": "code",
   "execution_count": 240,
   "metadata": {},
   "outputs": [
    {
     "data": {
      "text/plain": [
       "(15644, 181)"
      ]
     },
     "execution_count": 240,
     "metadata": {},
     "output_type": "execute_result"
    }
   ],
   "source": [
    "UDEA.shape"
   ]
  },
  {
   "cell_type": "markdown",
   "metadata": {},
   "source": [
    "## Normalizations"
   ]
  },
  {
   "cell_type": "markdown",
   "metadata": {},
   "source": [
    "### Relacionada con autores"
   ]
  },
  {
   "cell_type": "markdown",
   "metadata": {},
   "source": [
    "Normalize `'AU'`"
   ]
  },
  {
   "cell_type": "code",
   "execution_count": 241,
   "metadata": {},
   "outputs": [],
   "source": [
    "UDEA['AU']=UDEA['AU'].apply(lambda l: l if re.search('\\n$',l) \n",
    "                 else \n",
    "                 '\\n'.join(\n",
    "            [\n",
    "    re.sub( '([\\w\\-\\s]+)(\\s[\\w]\\.)',r'\\1,\\2',s ,re.UNICODE   ) \n",
    "                 for s in l.split(', ')]+['']\n",
    "           ).replace('.','') )"
   ]
  },
  {
   "cell_type": "code",
   "execution_count": 242,
   "metadata": {},
   "outputs": [
    {
     "data": {
      "text/plain": [
       "(0, 181)"
      ]
     },
     "execution_count": 242,
     "metadata": {},
     "output_type": "execute_result"
    }
   ],
   "source": [
    "UDEA[~UDEA['AU'].str.contains('\\n$')].shape"
   ]
  },
  {
   "cell_type": "markdown",
   "metadata": {},
   "source": [
    "Normalize `'authors_WOS'`"
   ]
  },
  {
   "cell_type": "code",
   "execution_count": 243,
   "metadata": {},
   "outputs": [],
   "source": [
    "#Specific entries\n",
    "#('mcewen, juan g', 65) → mc ewen\n",
    "#'hincape, me' → hincapie\n",
    "def fix_WOS_author_Trujilloii(l):\n",
    "    for i in range(len(l)):\n",
    "        if l[i].get('WOS_author') and l[i].get('WOS_author')=='Trujilloii, S. B.':\n",
    "            l[i]={'WOS_author': 'Trujillo, S. B.',\n",
    "                  'affiliation': [\n",
    "                    'Facultad de Medicina, Sede de Investigación Universitaria (SIU), Univ Antioquia, Medellín, Colombia'\n",
    "                   ],\n",
    "                  'i': 3}\n",
    "        if l[i].get('WOS_author') and l[i].get('WOS_author')=='Manuel, J':\n",
    "            l[i]={'WOS_author':'Senior Sanchez, Juan Manuel'}\n",
    "            \n",
    "        if l[i].get('WOS_author') and l[i].get('WOS_author')=='Balthazar, Vital':\n",
    "            l[i]={'WOS_author': 'Baltazar, Vital',\n",
    "                  'affiliation': ['Univ Antioquia, Colombia.'],\n",
    "                  'i': 4}\n",
    "        if l[i].get('WOS_author') and l[i].get('WOS_author')=='Oliviera-Angel, M':\n",
    "            l[i]={'WOS_author': 'Olivera-Angel, M',\n",
    "              'affiliation': ['Univ Antioquia, Fac Ciencias Agrarias Fisiol & Biotecnol Reprod, Antioquia, Colombia.']}            \n",
    "    return l\n",
    "UDEA['authors_WOS']=UDEA['authors_WOS'].apply( fix_WOS_author_Trujilloii )"
   ]
  },
  {
   "cell_type": "code",
   "execution_count": 244,
   "metadata": {},
   "outputs": [],
   "source": [
    "def add_affilitions_to_authors_WOS(row_authors_WOS,row_C1,row_SCP_Affiliations):\n",
    "    l=row_authors_WOS\n",
    "    #Get rid of multiple author affiliations\n",
    "    #TODO: Count multiple author affiliations\n",
    "    row_C1=re.sub(r'\\[[\\w\\.\\s,]+\\n[\\w\\.\\s,]+\\]','',row_C1,re.UNICODE)\n",
    "    afwos=row_C1.strip().split('\\n')\n",
    "    afscp=row_SCP_Affiliations.strip().split('; ')\n",
    "    if len(afwos)==1:\n",
    "        af=re.sub('\\[.*\\]\\s*','',afwos[0])\n",
    "        for i in range( len(l) ):\n",
    "            if not l[i].get('affiliation'):\n",
    "                l[i].update({'affiliation':[af]})\n",
    "\n",
    "    if len(afwos)==len(l):\n",
    "        for i in range( len(l) ):\n",
    "            if not l[i].get('affiliation'):\n",
    "                af=re.sub('\\[.*\\]\\s*','',afwos[i])\n",
    "                l[i].update({'affiliation':[af]})\n",
    "            \n",
    "    elif len(afscp)==len(l):\n",
    "        for i in range( len(l) ):\n",
    "            if not l[i].get('affiliation'):\n",
    "                l[i].update({'affiliation':[afscp[i]]})\n",
    "    return l"
   ]
  },
  {
   "cell_type": "code",
   "execution_count": 245,
   "metadata": {},
   "outputs": [],
   "source": [
    "def missing_authors_WOS(row):\n",
    "    '''\n",
    "    if row 'authors_WOS' is empty, try to fill it\n",
    "    with AU and C1.\n",
    "    if not empty just return it\n",
    "    '''\n",
    "    l=[]\n",
    "    if len(row['authors_WOS'])==0:\n",
    "        if row['AU']:\n",
    "            l=[ {'WOS_author':a} for a in row['AU'].strip().split('\\n') ]\n",
    "        #Affiliations:\n",
    "        row_C1=row['C1']\n",
    "        row_SCP_Affiliations=row['SCP_Affiliations']\n",
    "        l=add_affilitions_to_authors_WOS(l,row_C1,row_SCP_Affiliations)\n",
    "    else:\n",
    "        l=row['authors_WOS']\n",
    "                     \n",
    "    return l"
   ]
  },
  {
   "cell_type": "code",
   "execution_count": 246,
   "metadata": {},
   "outputs": [],
   "source": [
    "UDEA['authors_WOS']=UDEA.apply(missing_authors_WOS,axis='columns')"
   ]
  },
  {
   "cell_type": "code",
   "execution_count": 247,
   "metadata": {},
   "outputs": [],
   "source": [
    "def check_AU_authors(AU1,AU2,fuzz_partial_ratio=60):\n",
    "    '''\n",
    "    Check if two authors in the WOS AU format are the same\n",
    "    '''\n",
    "    AU1_eq_AU2=False\n",
    "    #Check last name\n",
    "    au1=AU1.split(', ')\n",
    "    au2=AU2.split(', ')\n",
    "    au1=[unidecode.unidecode(a.lower()) for a in au1]\n",
    "    au2=[unidecode.unidecode(a.lower()) for a in au2]\n",
    "    ln=np.intersect1d(au1[0].split(),au2[0].split()).shape[0]\n",
    "    if ln>0:\n",
    "        fn=np.intersect1d(  \n",
    "            [ l[0] for l in au1[-1].split()],\n",
    "            [l[0] for l in au2[-1].split()] ).shape[0]\n",
    "        if fn>0:\n",
    "            if fuzz.partial_ratio( AU1,AU2 )>fuzz_partial_ratio:\n",
    "                AU1_eq_AU2=True\n",
    "    return AU1_eq_AU2\n",
    "\n",
    "def AU_to_authors_WOS(row,DEBUG=False):\n",
    "    '''\n",
    "     Compare 'WOS_author' → 'authors_WOS' with\n",
    "             'AU' splitted list\n",
    "     and fill for the missing 'authors_WOS' and\n",
    "                              'affiliations'\n",
    "    '''\n",
    "    auwos=[d.get('WOS_author') for d in row['authors_WOS']]\n",
    "    aurow=row['AU'].strip().split('\\n')\n",
    "    if len(auwos)<len(aurow):\n",
    "        for au in aurow:\n",
    "            NEW_AU=True\n",
    "            for ws in auwos:\n",
    "                if DEBUG:\n",
    "                    print(au,'::',ws,'→',  check_AU_authors( au,ws) )\n",
    "                if check_AU_authors( au,ws):\n",
    "                    NEW_AU=False\n",
    "                    break\n",
    "            if NEW_AU:\n",
    "                row['authors_WOS'].append(  \n",
    "                    {'WOS_author':au})\n",
    "        row['authors_WOS']=add_affilitions_to_authors_WOS(row['authors_WOS'],\n",
    "                                       row['C1'],\n",
    "                                       row['SCP_Affiliations'])\n",
    "    return row['authors_WOS']"
   ]
  },
  {
   "cell_type": "code",
   "execution_count": 248,
   "metadata": {},
   "outputs": [],
   "source": [
    "UDEA['authors_WOS']=UDEA.apply(AU_to_authors_WOS,axis='columns')"
   ]
  },
  {
   "cell_type": "markdown",
   "metadata": {},
   "source": [
    "Normalize `'UDEA_authors'`"
   ]
  },
  {
   "cell_type": "code",
   "execution_count": 249,
   "metadata": {},
   "outputs": [],
   "source": [
    "def fix_long_names(l):\n",
    "    if len(l)>0:\n",
    "        for i in range( len(l) ):\n",
    "            if  l[i].get('full_name') and len(l[i].get('full_name').split())>4:\n",
    "                dd=split_names(l[i].get('full_name'))\n",
    "                l[i].update(dd)\n",
    "    return l\n",
    "#UDEA[ UDEA['UDEA_authors'].apply(lambda l: [d.get('CÉDULA')==22227944 for d in l] \n",
    "#   if l else [False]).apply(lambda l: True in l) ].loc[1573,'UDEA_authors']"
   ]
  },
  {
   "cell_type": "code",
   "execution_count": 257,
   "metadata": {},
   "outputs": [],
   "source": [
    "UDEA['UDEA_authors']=UDEA['UDEA_authors'].apply( fix_long_names  )"
   ]
  },
  {
   "cell_type": "code",
   "execution_count": 258,
   "metadata": {},
   "outputs": [],
   "source": [
    "def drop_duplicates(l):\n",
    "    \"\"\"\n",
    "    Find duplicates in UDEA_authors by 'CÉDULA'\n",
    "    \"\"\"\n",
    "    if len(l)>1:\n",
    "        #Try to find duplicates j-times\n",
    "        for j in range( int((len(l)+1)/2)   ):\n",
    "            c=[]\n",
    "            #In each try remove duplicated\n",
    "            for i in range(len(l)):\n",
    "                if l[i].get('CÉDULA') in c:\n",
    "                    l.pop(i)\n",
    "                    break\n",
    "                else:\n",
    "                    c.append(l[i].get('CÉDULA'))\n",
    "            #Exit when not more duplicate found\n",
    "            if not c:\n",
    "                break\n",
    "    return l"
   ]
  },
  {
   "cell_type": "code",
   "execution_count": 259,
   "metadata": {},
   "outputs": [],
   "source": [
    "UDEA['UDEA_authors']=UDEA['UDEA_authors'].apply(drop_duplicates)"
   ]
  },
  {
   "cell_type": "code",
   "execution_count": 260,
   "metadata": {},
   "outputs": [],
   "source": [
    "def fix_NOMBRE_COMPLETOS(l):\n",
    "    #for d in l:\n",
    "    for i in range(len(l)):\n",
    "        if not l[i].get('NOMBRE COMPLETO'):\n",
    "            d['NOMBRE COMPLETO']=''\n",
    "            if l[i].get('NOMBRES'):\n",
    "                l[i]['NOMBRE COMPLETO']=l[i]['NOMBRE COMPLETO']+l[i].get('NOMBRES')\n",
    "            if l[i].get('PRIMER APELLIDO'):\n",
    "                l[i]['NOMBRE COMPLETO']=l[i]['NOMBRE COMPLETO']+' '+l[i].get('PRIMER APELLIDO')\n",
    "            if l[i].get('SEGUNDO APELLIDO'):\n",
    "                l[i]['NOMBRE COMPLETO']=l[i]['NOMBRE COMPLETO']+' '+l[i].get('SEGUNDO APELLIDO')            \n",
    "    return l"
   ]
  },
  {
   "cell_type": "code",
   "execution_count": 261,
   "metadata": {},
   "outputs": [],
   "source": [
    "UDEA['UDEA_authors']=UDEA['UDEA_authors'].apply(fix_NOMBRE_COMPLETOS)"
   ]
  },
  {
   "cell_type": "code",
   "execution_count": 262,
   "metadata": {},
   "outputs": [],
   "source": [
    "dfid=UDEA[['UDEA_nombre','UDEA_cedula']]\n",
    "dfid=dfid[dfid['UDEA_cedula'].apply(lambda n: n!=0 if isinstance(n,int) else False)].reset_index(drop=True)\n",
    "dfid=dfid[dfid['UDEA_nombre']!=''].drop_duplicates().reset_index(drop=True)\n",
    "dfid.shape\n",
    "\n",
    "def get_cedula(l,fullnames_with_id=dfid):\n",
    "    #for d in l:\n",
    "    for i in range(len(l)):\n",
    "        if not l[i].get('CÉDULA') and l[i].get('full_name'):\n",
    "            try:\n",
    "                l[i]['CÉDULA']=dfid[ ( dfid['UDEA_nombre']==l[i].get('full_name')) \n",
    "                            & ( dfid['UDEA_cedula']!=0 ) \n",
    "                            ].reset_index(\n",
    "                          drop=True)['UDEA_cedula'].loc[0]\n",
    "            except KeyError:\n",
    "                pass\n",
    "    return l"
   ]
  },
  {
   "cell_type": "code",
   "execution_count": 263,
   "metadata": {},
   "outputs": [],
   "source": [
    "UDEA['UDEA_authors']=UDEA['UDEA_authors'].apply(get_cedula)"
   ]
  },
  {
   "cell_type": "code",
   "execution_count": 264,
   "metadata": {},
   "outputs": [],
   "source": [
    "def get_missing_cedula(l,AU=AU):\n",
    "    '''\n",
    "    AU: Data Frame with author info\n",
    "    Added Facultad y afiliacion WOS\n",
    "    '''\n",
    "    for i in range(len(l)):\n",
    "        if not l[i].get('CÉDULA'):\n",
    "            au=AU[AU['NOMBRE COMPLETO']==l[i].get('NOMBRE COMPLETO')\n",
    "                 ].reset_index(drop=True)\n",
    "            if not au.empty:\n",
    "                au=au.loc[0]\n",
    "                l[i]['CÉDULA']=au['CÉDULA']\n",
    "                if not l[i].get('DEPARTAMENTO'):\n",
    "                    l[i]['DEPARTAMENTO']=au['DEPARTAMENTO']\n",
    "                if not l[i].get('FACULTAD'):\n",
    "                    l[i]['FACULTAD']=au['FACULTAD']\n",
    "                if not l[i].get('NOMBRES'):\n",
    "                    l[i]['NOMBRES']=au['NOMBRES']\n",
    "                if not l[i].get('PRIMER APELLIDO'):\n",
    "                    l[i]['PRIMER APELLIDO']=au['PRIMER APELLIDO']\n",
    "                if not l[i].get('SEGUNDO APELLIDO'):\n",
    "                    l[i]['SEGUNDO APELLIDO']=au['SEGUNDO APELLIDO']\n",
    "                if not l[i].get('INICIALES'):\n",
    "                    s=au['NOMBRES']\n",
    "                    l[i]['INICIALES']=' '.join(\n",
    "                        [ I[0]+'.' for I in s.split() ])\n",
    "    return l"
   ]
  },
  {
   "cell_type": "code",
   "execution_count": 265,
   "metadata": {},
   "outputs": [],
   "source": [
    "UDEA['UDEA_authors']=UDEA['UDEA_authors'].apply(get_missing_cedula)"
   ]
  },
  {
   "cell_type": "code",
   "execution_count": 266,
   "metadata": {},
   "outputs": [],
   "source": [
    "def fix_cedula(l,df=AU_PTJ,full_name='nombre',identification='cedula'):\n",
    "    '''\n",
    "    Get missing identification from an external database with\n",
    "    the full name in the proper format:\n",
    "     `full name`: LAST NAME FIRST NAME\n",
    "    For each row, rebuild the list of dictionaries\n",
    "    and if CÉDULA is missing try to fix it\n",
    "    '''\n",
    "    for i in range(len(l)):\n",
    "        if not l[i].get('CÉDULA'):\n",
    "            try:\n",
    "                l[i]['CÉDULA']=df[df[nombre]==l[i].get('full_name')\n",
    "                     ].reset_index(drop=True).loc[\n",
    "                    0,identification]\n",
    "            except:\n",
    "                pass\n",
    "    return l"
   ]
  },
  {
   "cell_type": "code",
   "execution_count": 267,
   "metadata": {},
   "outputs": [],
   "source": [
    "UDEA['UDEA_authors']=UDEA['UDEA_authors'].apply(fix_cedula)"
   ]
  },
  {
   "cell_type": "code",
   "execution_count": 268,
   "metadata": {},
   "outputs": [],
   "source": [
    "UDEA['C1']=UDEA['C1'].str.replace('deAntioquia','de Antioquia')"
   ]
  },
  {
   "cell_type": "code",
   "execution_count": 301,
   "metadata": {},
   "outputs": [],
   "source": [
    "def add_WOS_author_and_WOS_affiliation_to_UDEA_authores(l,i,df,j):\n",
    "    if not l[i].get('WOS_author'):\n",
    "        l[i]['WOS_author']=[df.loc[j,'WOS_author']]\n",
    "    if 'UDEA_affiliation' in df.columns:\n",
    "        if not l[i].get('UDEA_affiliation'):\n",
    "            l[i]['UDEA_affiliation']=df.loc[j,'affiliation']\n",
    "    return l[i]\n",
    "\n",
    "def compare_names(l,i,ll,j,smin=70,DEBUG=False):\n",
    "    '''\n",
    "    Compare dictionaries with UDEA_authors keys\n",
    "    with DataFrame ll authors_WOS columns\n",
    "    1. Select first matching first last name\n",
    "       a. If failed select first mathcing second last name\n",
    "          with extra quality check in full name\n",
    "    2. First mathching names\n",
    "       a. If failed first matching initials\n",
    "    '''\n",
    "    #j=-1 initialized in main function\n",
    "    if DEBUG: print('i:',i)\n",
    "    #Find First last name\n",
    "    r=process.extractOne( unidecode.unidecode( l[i].get('PRIMER APELLIDO').lower() ),  \n",
    "                       ll['WOS_author'].str.lower().apply(unidecode.unidecode\n",
    "                                    ).str.split(', ').str[0],scorer=fuzz.partial_ratio )\n",
    "    if DEBUG: print(r)\n",
    "    if r[1]==100:\n",
    "        j=r[2]\n",
    "        \n",
    "    #If failed, try with the second last name\n",
    "    if r[1]<100:\n",
    "        r=process.extractOne( unidecode.unidecode( l[i].get('SEGUNDO APELLIDO').lower() ),  \n",
    "                           ll['WOS_author'].str.lower().apply(unidecode.unidecode\n",
    "                                        ).str.split(', ').str[0],scorer=fuzz.partial_ratio )\n",
    "        #Additional quality check\n",
    "        j=r[2]\n",
    "        s=fuzz.token_set_ratio( \n",
    "            unidecode.unidecode( l[i].get('NOMBRE COMPLETO').lower().replace('.','') ) ,\n",
    "            unidecode.unidecode(ll['WOS_author'].loc[j].lower().replace('.','')  ) )\n",
    "        if DEBUG: print(r)\n",
    "        #print(s)\n",
    "        if r[1]==100 and s>smin:\n",
    "            j=r[2]\n",
    "        else:\n",
    "            j=-1\n",
    "        \n",
    "    #For names filter Initials:\n",
    "    kk=ll[ll['WOS_author'].str.lower().apply(unidecode.unidecode\n",
    "                        ).str.split(\n",
    "                    ', ').str[-1].str.replace(\n",
    "                 '\\.','').apply(len)>2]\n",
    "    if not kk.empty:\n",
    "        if DEBUG: print(unidecode.unidecode( l[i].get('NOMBRES').lower().split(' ')[0] ) )\n",
    "        r=process.extractOne( unidecode.unidecode( l[i].get('NOMBRES').lower().split(' ')[0] )\n",
    "                           ,  kk['WOS_author'].str.lower().apply(unidecode.unidecode).str.split(', ').str[-1],scorer=fuzz.partial_ratio )\n",
    "        if r[1]==100 and r[2]==j:\n",
    "            if DEBUG: print('found FN j=',r[2])\n",
    "            l[i]=add_WOS_author_and_WOS_affiliation_to_UDEA_authores(l,i,ll,j)\n",
    "            return l,i,ll,j\n",
    "\n",
    "        if DEBUG: print(r)\n",
    "        #if not 100 try second name: fail proof\n",
    "        if DEBUG: print(unidecode.unidecode( l[i].get('NOMBRES').lower().split(' ')[-1]) ) \n",
    "        r=process.extractOne( unidecode.unidecode( l[i].get('NOMBRES').lower().split(' ')[-1] )\n",
    "                           ,  kk['WOS_author'].str.lower().apply(unidecode.unidecode).str.split(', ').str[-1],scorer=fuzz.partial_ratio )\n",
    "        if DEBUG: print(r)\n",
    "        if r[1]==100 and r[2]==j:\n",
    "            if DEBUG: print('found SN j=',r[2])\n",
    "            l[i]=add_WOS_author_and_WOS_affiliation_to_UDEA_authores(l,i,ll,j)        \n",
    "            return l,i,ll,j\n",
    "    \n",
    "    #if not 100 try first intial: fail proof\n",
    "    if DEBUG: print(unidecode.unidecode( l[i].get('INICIALES').lower().replace('.','').split(' ')[0]) )\n",
    "    r=process.extract( unidecode.unidecode( l[i].get('INICIALES').lower().replace('.','').split(' ')[0]) \n",
    "                       ,  ll['WOS_author'].str.lower().apply(unidecode.unidecode\n",
    "                                            ).str.replace('\\.','').str.split(', ').str[-1],scorer=fuzz.partial_ratio )\n",
    "    if DEBUG: print(r)\n",
    "    rrr=[(rr[1],rr[2]) for rr in r if rr[2]==j]\n",
    "    if rrr and rrr[0][0]==100:\n",
    "        if DEBUG: print('found FI j=',rrr[0][1])\n",
    "        l[i]=add_WOS_author_and_WOS_affiliation_to_UDEA_authores(l,i,ll,j)        \n",
    "        return l,i,ll,j\n",
    "\n",
    "    #if not 100 try second intial: fail proof\n",
    "    if DEBUG: print(unidecode.unidecode( l[i].get('INICIALES').lower().replace('.','').split(' ')[-1]) )\n",
    "    r=process.extract( unidecode.unidecode( l[i].get('INICIALES').lower().replace('.','').split(' ')[-1]) \n",
    "                       ,ll['WOS_author'].str.lower().apply(unidecode.unidecode\n",
    "                                        ).str.replace('\\.','').str.split(', ').str[-1],scorer=fuzz.partial_ratio )\n",
    "    if DEBUG: print(r)\n",
    "    rrr=[(rr[1],rr[2]) for rr in r if rr[2]==j]\n",
    "    if rrr and rrr[0][0]==100:\n",
    "        if DEBUG: print('found SI j=',rrr[0][1])\n",
    "        l[i]=add_WOS_author_and_WOS_affiliation_to_UDEA_authores(l,i,ll,j)\n",
    "        return l,i,ll,j\n",
    "\n",
    "    #Some times the first last are confused with the first names\n",
    "    #'Luis Fernando Restrepo Betancur' → 'Luis Restrepo, B.''\n",
    "    # One of the last name is already covered so only the initials are affected\n",
    "    #if not 100 try second intial: fail proof\n",
    "    r=process.extract( unidecode.unidecode( l[i].get('PRIMER APELLIDO').lower()[0] )\n",
    "                       ,ll['WOS_author'].str.lower().apply(unidecode.unidecode\n",
    "                                        ).str.replace('\\.','').str.split(', ').str[-1],scorer=fuzz.partial_ratio )\n",
    "    if DEBUG: print(r)\n",
    "    rrr=[(rr[1],rr[2]) for rr in r if rr[2]==j]\n",
    "    if rrr and rrr[0][0]==100:\n",
    "        if DEBUG: print('found SI j=',rrr[0][1])\n",
    "        l[i]=add_WOS_author_and_WOS_affiliation_to_UDEA_authores(l,i,ll,j)\n",
    "        return l,i,ll,j\n",
    "\n",
    "    if l[i].get('SEGUNDO APELLIDO'):\n",
    "        r=process.extract( unidecode.unidecode( l[i].get('SEGUNDO APELLIDO').lower()[0] ) \n",
    "                           ,ll['WOS_author'].str.lower().apply(unidecode.unidecode\n",
    "                                            ).str.replace('\\.','').str.split(', ').str[-1],scorer=fuzz.partial_ratio )\n",
    "        if DEBUG: print(r)\n",
    "        rrr=[(rr[1],rr[2]) for rr in r if rr[2]==j]\n",
    "        if rrr and rrr[0][0]==100:\n",
    "            if DEBUG: print('found SI j=',rrr[0][1])\n",
    "            l[i]=add_WOS_author_and_WOS_affiliation_to_UDEA_authores(l,i,ll,j)\n",
    "            return l,i,ll,j\n",
    "                      \n",
    "    \n",
    "    \n",
    "    #print('final result: extract WOS_author and affiliauntion as lists:',lll[j])\n",
    "\n",
    "    return l,i,ll,j"
   ]
  },
  {
   "cell_type": "code",
   "execution_count": 270,
   "metadata": {},
   "outputs": [],
   "source": [
    "def missing_wos_authors_in_udea_authors(row):\n",
    "    '''\n",
    "    Compare UDEA_authors with authors_WOS and\n",
    "    fill: \n",
    "    A) mising 'WOS_author' list in  UDEA_authors\n",
    "    B) mising 'affiliation' list in  UDEA_authors\n",
    "    1. Select first matching first last name\n",
    "       a. If failed select first mathcing second last name\n",
    "          with extra quality check in full name\n",
    "    2. First mathching names\n",
    "       a. If failed first matching initials\n",
    "    '''    \n",
    "    i=0\n",
    "    j=-1\n",
    "    l  =row['UDEA_authors']\n",
    "    lll=row['authors_WOS']\n",
    "    if lll:\n",
    "        ll=pd.DataFrame(lll)\n",
    "    else:\n",
    "        ll=pd.DataFrame()\n",
    "    #if not ll.empty:\n",
    "    for i in range(len(l)):\n",
    "        if not l[i].get('WOS_author'):\n",
    "            l,i,ll,j=compare_names(l,i,ll,j,DEBUG=False)\n",
    "    return l"
   ]
  },
  {
   "cell_type": "code",
   "execution_count": 271,
   "metadata": {},
   "outputs": [
    {
     "name": "stderr",
     "output_type": "stream",
     "text": [
      "WARNING:root:Applied processor reduces input query to empty string, all comparisons will have score 0. [Query: '']\n",
      "WARNING:root:Applied processor reduces input query to empty string, all comparisons will have score 0. [Query: '']\n"
     ]
    }
   ],
   "source": [
    "UDEA['UDEA_authors']=UDEA.apply(missing_wos_authors_in_udea_authors,axis='columns')"
   ]
  },
  {
   "cell_type": "markdown",
   "metadata": {},
   "source": [
    "Other normalizations"
   ]
  },
  {
   "cell_type": "code",
   "execution_count": 272,
   "metadata": {},
   "outputs": [
    {
     "data": {
      "text/plain": [
       "[{'CÉDULA': 32508663,\n",
       "  'INICIALES': 'M. D. C.',\n",
       "  'NOMBRE COMPLETO': 'Maria Del Consuelo Montes Ramirez',\n",
       "  'NOMBRES': 'Maria Del Consuelo',\n",
       "  'PRIMER APELLIDO': 'Montes',\n",
       "  'SEGUNDO APELLIDO': 'Ramirez',\n",
       "  'WOS_affiliation': ['SIU, Univ Antioquia, Environm Catalysis Res Grp, Medellin 1226, Colombia.',\n",
       "   'Univ Antioquia, SIU, Environm Catalysis Res Grp, Medellin, Colombia.'],\n",
       "  'WOS_author': ['Montes, Consuelo'],\n",
       "  'full_name': 'MONTES RAMIREZ MARIA DEL CONSUELO'}]"
      ]
     },
     "execution_count": 272,
     "metadata": {},
     "output_type": "execute_result"
    }
   ],
   "source": [
    "i=1\n",
    "UDEA.loc[[i]].apply(missing_wos_authors_in_udea_authors,axis='columns').loc[i]"
   ]
  },
  {
   "cell_type": "code",
   "execution_count": 273,
   "metadata": {},
   "outputs": [],
   "source": [
    "lll=UDEA.loc[i,'authors_WOS']\n",
    "ll=pd.DataFrame(lll)\n",
    "l=UDEA.loc[i,'UDEA_authors']"
   ]
  },
  {
   "cell_type": "code",
   "execution_count": 274,
   "metadata": {},
   "outputs": [
    {
     "data": {
      "text/plain": [
       "[{'CÉDULA': 32508663,\n",
       "  'INICIALES': 'M. D. C.',\n",
       "  'NOMBRE COMPLETO': 'Maria Del Consuelo Montes Ramirez',\n",
       "  'NOMBRES': 'Maria Del Consuelo',\n",
       "  'PRIMER APELLIDO': 'Montes',\n",
       "  'SEGUNDO APELLIDO': 'Ramirez',\n",
       "  'WOS_affiliation': ['SIU, Univ Antioquia, Environm Catalysis Res Grp, Medellin 1226, Colombia.',\n",
       "   'Univ Antioquia, SIU, Environm Catalysis Res Grp, Medellin, Colombia.'],\n",
       "  'WOS_author': ['Montes, Consuelo'],\n",
       "  'full_name': 'MONTES RAMIREZ MARIA DEL CONSUELO'}]"
      ]
     },
     "execution_count": 274,
     "metadata": {},
     "output_type": "execute_result"
    }
   ],
   "source": [
    "l"
   ]
  },
  {
   "cell_type": "code",
   "execution_count": 275,
   "metadata": {},
   "outputs": [
    {
     "data": {
      "text/plain": [
       "[{'WOS_author': 'Hoyos Barreto, Andres Emilio',\n",
       "  'affiliation': ['Univ Antioquia, Bogota, Colombia.'],\n",
       "  'i': 0},\n",
       " {'WOS_author': 'Jimenez Correa, Monica Maria',\n",
       "  'affiliation': ['Univ Antioquia, Bogota, Colombia.'],\n",
       "  'i': 1},\n",
       " {'WOS_author': 'Munoz, AO',\n",
       "  'affiliation': ['Univ Antioquia, Bogota, Colombia.']},\n",
       " {'WOS_author': 'de Correa, CM',\n",
       "  'affiliation': ['Univ Antioquia, Bogota, Colombia.']}]"
      ]
     },
     "execution_count": 275,
     "metadata": {},
     "output_type": "execute_result"
    }
   ],
   "source": [
    "lll"
   ]
  },
  {
   "cell_type": "code",
   "execution_count": 276,
   "metadata": {},
   "outputs": [
    {
     "data": {
      "text/plain": [
       "('jimenez correa', 48, 1)"
      ]
     },
     "execution_count": 276,
     "metadata": {},
     "output_type": "execute_result"
    }
   ],
   "source": [
    "ii=0\n",
    "r=process.extractOne( unidecode.unidecode( \n",
    "            (l[ii].get('PRIMER APELLIDO')+l[ii].get('SEGUNDO APELLIDO')).lower() ),  \n",
    "                           ll['WOS_author'].str.lower().apply(unidecode.unidecode\n",
    "                                        ).str.replace('\\-','').str.split(', ').str[0],scorer=fuzz.partial_ratio )\n",
    "r"
   ]
  },
  {
   "cell_type": "markdown",
   "metadata": {},
   "source": [
    "Other normalizations"
   ]
  },
  {
   "cell_type": "code",
   "execution_count": 277,
   "metadata": {},
   "outputs": [],
   "source": [
    "UDEA['DI']=UDEA.apply( \n",
    "     lambda row: row['DI'] if row['DI'] else row['SCP_DOI'],axis=1 ).str.strip().str.lower()\n",
    "UDEA['DI']=UDEA.apply( \n",
    "     lambda row: row['DI'] if row['DI'] else row['SCI_DI'],axis=1 ).str.strip().str.lower()"
   ]
  },
  {
   "cell_type": "code",
   "execution_count": 278,
   "metadata": {},
   "outputs": [],
   "source": [
    "def normalize_NAME(row,WOS_NAME,SCI_NAME,SCP_NAME,UDEA_NAME,\n",
    "                   SCI_sub=('',''),SCP_sub=('',''),UDEA_sub=('',''),\n",
    "                  DEBUG=False):\n",
    "    '''\n",
    "    If the WOS of Science column is empty, copy the\n",
    "    data from a filled column either from \n",
    "    * SCI\n",
    "    * SCP\n",
    "    * UDEA\n",
    "    '''\n",
    "    sn=row[WOS_NAME]\n",
    "    if not sn:\n",
    "        if SCI_NAME and row[SCI_NAME]:\n",
    "            sn=re.sub( SCI_sub[0],SCI_sub[1], str( row[SCI_NAME] ) )\n",
    "            if DEBUG:\n",
    "                print('SCI: {}:{}'.format(row[SCI_NAME], sn))\n",
    "        elif SCP_NAME and row[SCP_NAME]:\n",
    "            sn=re.sub( SCP_sub[0],SCP_sub[1], str( row[SCP_NAME] ) )\n",
    "        elif UDEA_NAME and row[UDEA_NAME]:\n",
    "            sn=re.sub( SCP_sub[0],SCP_sub[1], str( row[UDEA_NAME] ) )\n",
    "            if DEBUG:\n",
    "                print('UDEA: {}:{}'.format(row[UDEA_NAME], sn))            \n",
    "    return sn"
   ]
  },
  {
   "cell_type": "code",
   "execution_count": 279,
   "metadata": {},
   "outputs": [],
   "source": [
    "WOS_NAME ='SN'\n",
    "UDEA[WOS_NAME]=UDEA.apply(lambda row: \n",
    "                       normalize_NAME(row,WOS_NAME,\n",
    "                                      SCI_NAME ='SCI_SN',\n",
    "                                      SCP_NAME ='SCP_ISSN',\n",
    "                                      UDEA_NAME='UDEA_issn rev',\n",
    "                                      SCP_sub=( '^([\\w]{4})([\\w]{4})$',r'\\1-\\2\\n'  ),\n",
    "                                      UDEA_sub=('(\\w)$',r'\\1\\n')\n",
    "                                     )\n",
    "                      ,axis='columns')"
   ]
  },
  {
   "cell_type": "code",
   "execution_count": 280,
   "metadata": {},
   "outputs": [],
   "source": [
    "WOS_NAME ='DI'\n",
    "UDEA[WOS_NAME]=UDEA.apply(lambda row: \n",
    "                       normalize_NAME(row,WOS_NAME,\n",
    "                                      SCI_NAME ='SCI_DI',\n",
    "                                      SCP_NAME ='SCP_DOI',\n",
    "                                      UDEA_NAME='UDEA_doi')\n",
    "                      ,axis='columns')"
   ]
  },
  {
   "cell_type": "code",
   "execution_count": 281,
   "metadata": {},
   "outputs": [],
   "source": [
    "WOS_NAME ='VL'\n",
    "UDEA[WOS_NAME]=UDEA.apply(lambda row: \n",
    "                       normalize_NAME(row,WOS_NAME,\n",
    "                                      SCI_NAME ='SCI_VL',\n",
    "                                      SCP_NAME ='SCP_Volume',\n",
    "                                      UDEA_NAME='',\n",
    "                                      SCI_sub=('(\\w)$',r'\\1\\n'),\n",
    "                                      SCP_sub=('(\\w)$',r'\\1\\n')\n",
    "                                     )\n",
    "                      ,axis='columns')"
   ]
  },
  {
   "cell_type": "code",
   "execution_count": 282,
   "metadata": {},
   "outputs": [],
   "source": [
    "WOS_NAME ='IS'\n",
    "UDEA[WOS_NAME]=UDEA.apply(lambda row: \n",
    "                       normalize_NAME(row,WOS_NAME,\n",
    "                                      SCI_NAME ='SCI_IS',\n",
    "                                      SCP_NAME ='SCP_Issue',\n",
    "                                      UDEA_NAME='',\n",
    "                                      SCP_sub=('(\\w)$',r'\\1\\n')\n",
    "                                     )\n",
    "                      ,axis='columns')"
   ]
  },
  {
   "cell_type": "code",
   "execution_count": 283,
   "metadata": {},
   "outputs": [],
   "source": [
    "WOS_NAME ='BP'\n",
    "UDEA[WOS_NAME]=UDEA.apply(lambda row: \n",
    "                       normalize_NAME(row,WOS_NAME,\n",
    "                                      SCI_NAME ='SCI_BP',\n",
    "                                      SCP_NAME ='SCP_Page start',\n",
    "                                      UDEA_NAME='',\n",
    "                                      SCP_sub=('(\\w)$',r'\\1\\n')\n",
    "                                     )\n",
    "                      ,axis='columns')"
   ]
  },
  {
   "cell_type": "code",
   "execution_count": 284,
   "metadata": {},
   "outputs": [],
   "source": [
    "WOS_NAME ='EP'\n",
    "UDEA[WOS_NAME]=UDEA.apply(lambda row: \n",
    "                       normalize_NAME(row,WOS_NAME,\n",
    "                                      SCI_NAME ='SCI_EP',\n",
    "                                      SCP_NAME ='SCP_Page end',\n",
    "                                      UDEA_NAME='',\n",
    "                                      SCP_sub=('(\\w)$',r'\\1\\n')\n",
    "                                     )\n",
    "                      ,axis='columns')"
   ]
  },
  {
   "cell_type": "code",
   "execution_count": 285,
   "metadata": {},
   "outputs": [],
   "source": [
    "UDEA['UDEA_idioma']=UDEA['UDEA_idioma'].apply(lambda s: 'Spanish' if s=='ESPA?' else s)\n",
    "UDEA['UDEA_idioma']=UDEA['UDEA_idioma'].apply(lambda s: 'English' if s=='INGLE' else s)\n",
    "WOS_NAME ='LA'\n",
    "UDEA[WOS_NAME]=UDEA.apply(lambda row: \n",
    "                       normalize_NAME(row,WOS_NAME,\n",
    "                                      SCI_NAME ='SCI_LA',\n",
    "                                      SCP_NAME ='SCP_Language of Original Document',\n",
    "                                      UDEA_NAME='UDEA_idioma',\n",
    "                                      SCI_sub =('\\t',r''),\n",
    "                                      SCP_sub =('(\\w)$',r'\\1\\n'),\n",
    "                                      UDEA_sub=('(\\w)$',r'\\1\\n')\n",
    "                                     )\n",
    "                      ,axis='columns')"
   ]
  },
  {
   "cell_type": "markdown",
   "metadata": {},
   "source": [
    "## TMP\n",
    "Strategy:\n",
    "* First assign a quality score, and lates try to discard bad quality rows"
   ]
  },
  {
   "cell_type": "code",
   "execution_count": 586,
   "metadata": {},
   "outputs": [],
   "source": [
    "#Test: i=1, 378"
   ]
  },
  {
   "cell_type": "code",
   "execution_count": 751,
   "metadata": {},
   "outputs": [],
   "source": [
    "def Quality_UDEA_authors(row,maxlmin=74,DEBUG=False):\n",
    "    '''\n",
    "    Check the Quality for the match \n",
    "      UDEA_authors \n",
    "    with \n",
    "      authors_WOS\n",
    "    '''\n",
    "    wos_list =[ unidecode.unidecode( d.get('WOS_author').lower(\n",
    "                                     ).replace('.',''\n",
    "                                     ).replace('-',' ')\n",
    "                                   )\n",
    "               for d in row.get('authors_WOS')]\n",
    "\n",
    "    #If WOS_author not in row.get('UDEA_authors') is usually to be droppend\n",
    "    \n",
    "    \n",
    "    #udea_list=[ [unidecode.unidecode( dd.lower().replace('.','') ) \n",
    "    #             for dd in d.get('WOS_author')] \n",
    "    #               for d in row.get('UDEA_authors')]\n",
    "    udea_list=[ \n",
    "            [\n",
    "              unidecode.unidecode( dd.lower(\n",
    "                                     ).replace('.',''\n",
    "                                     ).replace('-',' ')\n",
    "                                 ) \n",
    "              for dd in d.get('WOS_author')\n",
    "            ]\n",
    "                if d.get('WOS_author') \n",
    "                else \n",
    "            [      \n",
    "                unidecode.unidecode(\n",
    "                  '{} {}, {}'.format(d.get('PRIMER APELLIDO'),\n",
    "                                     d.get('SEGUNDO APELLIDO'),\n",
    "                                     d.get('NOMBRES')\n",
    "                                    ).replace(' ,',','\n",
    "                                    ).strip(\n",
    "                                    ).lower()\n",
    "                  )\n",
    "             ]\n",
    "                  for d in row.get('UDEA_authors')\n",
    "           ]    \n",
    "    udea_list=[ list(set(l)) for l in udea_list  ]\n",
    "    \n",
    "    if not udea_list:\n",
    "        if DEBUG: print('==1==')\n",
    "        Q=True\n",
    "        return Q\n",
    "    for i in range(len(udea_list)): #=len(row['UDEA_authors'])\n",
    "    #for l in udea_list: #=len(row['UDEA_authors'])\n",
    "        Q=False\n",
    "        for au in wos_list:\n",
    "            #Exact match\n",
    "            r=np.intersect1d( [au],udea_list[i] ).shape[0]\n",
    "            if r>0:\n",
    "                #l found!\n",
    "                if DEBUG: print('==2==')\n",
    "                Q=True\n",
    "                break\n",
    "            else:\n",
    "                #Similarity match\n",
    "                #print(au,udea_list[i])\n",
    "                rr=process.extractOne(au,udea_list[i],scorer=fuzz.partial_ratio)\n",
    "                if rr[1]==100:\n",
    "                    if DEBUG: print('==3==')\n",
    "                    Q=True\n",
    "                    break\n",
    "                #print(rr)\n",
    "                rr=process.extractOne(au,udea_list[i],scorer=fuzz.token_set_ratio)\n",
    "                if rr[1]==100:\n",
    "                    if DEBUG: print('==4==')\n",
    "                    Q=True\n",
    "                    break\n",
    "                #keep only the first letter of names\n",
    "                fnau=re.sub('([\\w\\s]+\\,\\s\\w)[\\w\\s]+',r'\\1',au)\n",
    "                l=[re.sub('([\\w\\s]+\\,\\s\\w)[\\w\\s]+',r'\\1',ll) for ll in udea_list[i]]\n",
    "                #print(l)\n",
    "                rr=process.extractOne(fnau,l,scorer=fuzz.token_set_ratio)\n",
    "                if rr[1]==100:\n",
    "                    if DEBUG: print('==5==')\n",
    "                    Q=True\n",
    "                    break\n",
    "                    \n",
    "                #keep only first letter of second last name\n",
    "                l=[re.sub('(\\s\\w)\\w+\\,',r'\\1,',ll) for ll in udea_list[i]]\n",
    "                #print(l)\n",
    "                rr=process.extractOne(au,l,scorer=fuzz.token_set_ratio)\n",
    "                if rr[1]==100:\n",
    "                    if DEBUG: print('==6==')\n",
    "                    Q=True\n",
    "                    break\n",
    "\n",
    "                #remove first last name from udea_list[i] and the first letter of names\n",
    "                l=[re.sub('^\\w+\\s(\\w\\w+\\,\\s\\w)\\w+',r'\\1',ll) for ll in udea_list[i]]\n",
    "                #print(l)\n",
    "                rr=process.extractOne(au,l,scorer=fuzz.token_set_ratio)\n",
    "                if rr[1]==100:\n",
    "                    if DEBUG: print('==7==')\n",
    "                    Q=True\n",
    "                    break\n",
    "                #Very similar names in any order\n",
    "                #print('*',au,udea_list[i])\n",
    "                rr=process.extractOne(au,udea_list[i],scorer=fuzz.token_sort_ratio)\n",
    "                if rr[1]>95:\n",
    "                    if DEBUG: print('==8==')\n",
    "                    Q=True\n",
    "                    break\n",
    "                #Keep only first last name and the first letter of names\n",
    "                fnau= re.sub('(^\\w\\w+)\\s\\w+(\\,\\s\\w)[\\s\\w]*',r'\\1\\2',au)\n",
    "                l   =[re.sub('(^\\w\\w+)\\s\\w+(\\,\\s\\w)[\\s\\w]*',r'\\1\\2',ll) for ll in udea_list[i]]\n",
    "                #print(l)\n",
    "                rr=process.extractOne(fnau,l,scorer=fuzz.token_set_ratio)\n",
    "                if rr[1]==100:\n",
    "                    if DEBUG: print('==9==')\n",
    "                    Q=True\n",
    "                    break\n",
    "                \n",
    "                #Q=False\n",
    "        if not Q:\n",
    "            maxl=0\n",
    "            for j in range(len(udea_list[i])):\n",
    "                rr=process.extractOne(udea_list[i][j],wos_list,scorer=fuzz.ratio)\n",
    "                print(rr)\n",
    "                if rr[1]>maxl:\n",
    "                    maxl=rr[1]\n",
    "            print(udea_list[i],i,j,maxl)\n",
    "            #keep if maxl>maxlmin See step: ==10===\n",
    "            if maxl>maxlmin:\n",
    "                Q=True\n",
    "                return Q\n",
    "            #else remove\n",
    "        \n",
    "            \n",
    "    return Q"
   ]
  },
  {
   "cell_type": "code",
   "execution_count": 752,
   "metadata": {},
   "outputs": [
    {
     "name": "stdout",
     "output_type": "stream",
     "text": [
      "('londono, charle', 41)\n",
      "['lopera castano, mauricio'] 0 0 41\n"
     ]
    },
    {
     "data": {
      "text/plain": [
       "378    False\n",
       "dtype: bool"
      ]
     },
     "execution_count": 752,
     "metadata": {},
     "output_type": "execute_result"
    }
   ],
   "source": [
    "i=378 #1,378\n",
    "UDEA.loc[[i]].apply(lambda row:Quality_UDEA_authors(row,DEBUG=True),axis='columns')"
   ]
  },
  {
   "cell_type": "code",
   "execution_count": 724,
   "metadata": {},
   "outputs": [
    {
     "data": {
      "text/plain": [
       "'padilla l, sonia c'"
      ]
     },
     "execution_count": 724,
     "metadata": {},
     "output_type": "execute_result"
    }
   ],
   "source": [
    "ll='padilla ll, sonia c'\n",
    "re.sub('(\\s\\w)\\w+\\,',r'\\1,',ll)"
   ]
  },
  {
   "cell_type": "code",
   "execution_count": 725,
   "metadata": {},
   "outputs": [],
   "source": [
    "row={}\n",
    "row['authors_WOS' ]=UDEA.loc[i,'authors_WOS']\n",
    "row['UDEA_authors']=UDEA.loc[i,'UDEA_authors']\n",
    "wos_list =[ unidecode.unidecode( d.get('WOS_author'\n",
    "                                     ).lower(\n",
    "                                     ).replace('.',''\n",
    "                                     ).replace('-',' '))\n",
    "               for d in row.get('authors_WOS')]\n",
    "udea_list=[ \n",
    "            [\n",
    "              unidecode.unidecode( dd.lower(\n",
    "                                     ).replace('.',''\n",
    "                                     ).replace('-',' ') ) \n",
    "              for dd in d.get('WOS_author')\n",
    "            ]\n",
    "                if d.get('WOS_author') \n",
    "                else \n",
    "            [      \n",
    "                unidecode.unidecode(\n",
    "                  '{} {}, {}'.format(d.get('PRIMER APELLIDO'),\n",
    "                                     d.get('SEGUNDO APELLIDO'),\n",
    "                                     d.get('NOMBRES')\n",
    "                                    ).replace(' ,',','\n",
    "                                    ).strip(\n",
    "                                    ).lower()\n",
    "                  )\n",
    "             ]\n",
    "                  for d in row.get('UDEA_authors')\n",
    "           ]"
   ]
  },
  {
   "cell_type": "code",
   "execution_count": 726,
   "metadata": {},
   "outputs": [
    {
     "data": {
      "text/plain": [
       "['villa v, liliana', 'martinez h, eliana', 'franco m, diego f']"
      ]
     },
     "execution_count": 726,
     "metadata": {},
     "output_type": "execute_result"
    }
   ],
   "source": [
    "wos_list"
   ]
  },
  {
   "cell_type": "code",
   "execution_count": 727,
   "metadata": {},
   "outputs": [
    {
     "data": {
      "text/plain": [
       "[['martinez herrera, eliana'], ['villa v, liliana']]"
      ]
     },
     "execution_count": 727,
     "metadata": {},
     "output_type": "execute_result"
    }
   ],
   "source": [
    "udea_list"
   ]
  },
  {
   "cell_type": "code",
   "execution_count": 668,
   "metadata": {},
   "outputs": [
    {
     "data": {
      "text/plain": [
       "('', '')"
      ]
     },
     "execution_count": 668,
     "metadata": {},
     "output_type": "execute_result"
    }
   ],
   "source": [
    "UDEA.loc[i,'SCP_Authors'],UDEA.loc[i,'SCI_AU']"
   ]
  },
  {
   "cell_type": "code",
   "execution_count": 670,
   "metadata": {},
   "outputs": [
    {
     "name": "stdout",
     "output_type": "stream",
     "text": [
      "ros, john fredy nieto ['fredy nieto rios, john', 'nieto rios, j f', 'nieto rios, john fredy']\n"
     ]
    },
    {
     "data": {
      "text/plain": [
       "('fredy nieto rios, john', 98)"
      ]
     },
     "execution_count": 670,
     "metadata": {},
     "output_type": "execute_result"
    }
   ],
   "source": [
    "ii=4\n",
    "jj=2\n",
    "au=wos_list[ii]\n",
    "l=udea_list[jj]\n",
    "print(au,l)\n",
    "process.extractOne(au,l,scorer=fuzz.token_sort_ratio)"
   ]
  },
  {
   "cell_type": "code",
   "execution_count": 446,
   "metadata": {},
   "outputs": [
    {
     "data": {
      "text/plain": [
       "('villada zapata, johny', 82)"
      ]
     },
     "execution_count": 446,
     "metadata": {},
     "output_type": "execute_result"
    }
   ],
   "source": [
    "process.extractOne(au,l,scorer=fuzz.partial_ratio)"
   ]
  },
  {
   "cell_type": "code",
   "execution_count": 493,
   "metadata": {},
   "outputs": [
    {
     "data": {
      "text/plain": [
       "100"
      ]
     },
     "execution_count": 493,
     "metadata": {},
     "output_type": "execute_result"
    }
   ],
   "source": [
    "fuzz.partial_ratio('zapata j','zapata j v')"
   ]
  },
  {
   "cell_type": "code",
   "execution_count": 470,
   "metadata": {},
   "outputs": [
    {
     "data": {
      "text/plain": [
       "'Zapata, J. A.'"
      ]
     },
     "execution_count": 470,
     "metadata": {},
     "output_type": "execute_result"
    }
   ],
   "source": [
    "row['UDEA_authors'][0].get('SEGUNDO APELLIDO')+', '+row['UDEA_authors'][0].get('INICIALES')"
   ]
  },
  {
   "cell_type": "code",
   "execution_count": 445,
   "metadata": {},
   "outputs": [
    {
     "data": {
      "text/plain": [
       "('villada zapata, johny', 70)"
      ]
     },
     "execution_count": 445,
     "metadata": {},
     "output_type": "execute_result"
    }
   ],
   "source": [
    "process.extractOne(au,l,scorer=fuzz.partial_token_sort_ratio)"
   ]
  },
  {
   "cell_type": "code",
   "execution_count": 447,
   "metadata": {},
   "outputs": [
    {
     "data": {
      "text/plain": [
       "('villada zapata, johny', 75)"
      ]
     },
     "execution_count": 447,
     "metadata": {},
     "output_type": "execute_result"
    }
   ],
   "source": [
    "process.extractOne(au,l,scorer=fuzz.token_set_ratio)"
   ]
  },
  {
   "cell_type": "code",
   "execution_count": 441,
   "metadata": {},
   "outputs": [
    {
     "data": {
      "text/plain": [
       "('villada zapata, johny', 100)"
      ]
     },
     "execution_count": 441,
     "metadata": {},
     "output_type": "execute_result"
    }
   ],
   "source": [
    "process.extractOne('zapata, a r',l,scorer=fuzz.partial_token_set_ratio)"
   ]
  },
  {
   "cell_type": "code",
   "execution_count": 428,
   "metadata": {},
   "outputs": [
    {
     "data": {
      "text/plain": [
       "('robledo, s', 88)"
      ]
     },
     "execution_count": 428,
     "metadata": {},
     "output_type": "execute_result"
    }
   ],
   "source": [
    "process.extractOne('robledo h, i j',l,scorer=fuzz.token_set_ratio)"
   ]
  },
  {
   "cell_type": "code",
   "execution_count": 781,
   "metadata": {},
   "outputs": [],
   "source": [
    "i=378\n",
    "i=1909\n",
    "i=1948\n",
    "i=2133\n",
    "i=2210\n",
    "i=2376\n",
    "i=2427\n",
    "i=2484\n",
    "i=2648\n",
    "i=2763\n",
    "i=2821\n",
    "i=2872\n",
    "i=2968\n",
    "i=2974\n",
    "UDEA=UDEA[UDEA['TI']!=UDEA.loc[i,'TI']].reset_index(drop=True)"
   ]
  },
  {
   "cell_type": "code",
   "execution_count": 287,
   "metadata": {},
   "outputs": [],
   "source": [
    "def Quality_UDEA_authors_fail_safe(row):\n",
    "    try:\n",
    "        Q=Quality_UDEA_authors(row)\n",
    "    except (NameError,TypeError):\n",
    "        Q=False\n",
    "    return Q"
   ]
  },
  {
   "cell_type": "code",
   "execution_count": 738,
   "metadata": {},
   "outputs": [
    {
     "data": {
      "text/plain": [
       "'ruiz, j'"
      ]
     },
     "execution_count": 738,
     "metadata": {},
     "output_type": "execute_result"
    }
   ],
   "source": [
    "ll='ruiz cordoba, j'\n"
   ]
  },
  {
   "cell_type": "code",
   "execution_count": 753,
   "metadata": {},
   "outputs": [
    {
     "name": "stdout",
     "output_type": "stream",
     "text": [
      "('franco henao, leidy tatiana', 33)\n",
      "('franco henao, leidy tatiana', 30)\n",
      "('franco henao, leidy tatiana', 35)\n",
      "['rodriguez gazquez, maria de los angeles', 'de los angeles rodriguez gazquez, maria', 'rodriguez gazquez, maria'] 0 2 35\n",
      "('donado, juan r', 39)\n",
      "['duque serna, francisco levi'] 0 0 39\n",
      "('gomez, juan f', 47)\n",
      "['alvarez gomez, gloria jeanethe'] 1 0 47\n",
      "('arango barrientos, marcos', 38)\n",
      "['coll jimenez, yadira esther'] 0 0 38\n",
      "('ortiz barrientos, d', 41)\n",
      "['soto calderon, ivan dario'] 0 0 41\n",
      "('jaime, c f', 34)\n",
      "['carmona fonseca, jaime de jesus'] 0 0 34\n",
      "('agudeloa, a', 50)\n",
      "('agudeloa, a', 77)\n",
      "('agudeloa, a', 95)\n",
      "('agudeloa, a', 71)\n",
      "('agudeloa, a', 87)\n",
      "['agudelo santamaria, andres felipe', 'agudelo, andres', 'agudelo, a', 'agudelo, andres f', 'agudelo, a f'] 0 4 95\n",
      "('ramirez, robinson', 56)\n",
      "('ramirez, robinson', 59)\n",
      "('ramirez, robinson', 56)\n",
      "['ramirez pineda, jose r', 'ramirez pineda, jose', 'ramirez pineda, j r'] 0 2 59\n",
      "('arango barrientos, marcos', 30)\n",
      "['velasquez trujillo, luz elena'] 0 0 30\n",
      "('aguirre acevedo, d c', 43)\n",
      "('aguirre acevedo, d c', 43)\n",
      "['barrera, mauricio', 'barrera valencia, mauricio'] 0 1 43\n",
      "('lopera, j', 34)\n",
      "['ospina duque, jorge hernan'] 0 0 34\n",
      "('arias, c', 48)\n",
      "('arias, c', 47)\n",
      "['zapata, oscar', 'zapata, o'] 0 1 48\n",
      "('martins, j', 32)\n",
      "['restrepo quintero, diego alejandro'] 1 0 32\n",
      "('mulet, a', 38)\n",
      "['hess, michael'] 0 0 38\n",
      "('rendon, carlos emel', 36)\n",
      "['dominguez hernandez, javier de jesus'] 0 0 36\n",
      "('argaiz, dv', 22)\n",
      "['perez montes, juan esteban'] 1 0 22\n",
      "('alvarez, cristiam', 43)\n",
      "['arbelaez gomez, mario de jesus'] 0 0 43\n",
      "('albacha hejazi, h', 45)\n",
      "['valencia ramirez, luz c'] 0 0 45\n",
      "('gomez uribe, lf', 31)\n",
      "['aguirre acevedo, daniel camilo'] 0 0 31\n",
      "('castillo, h', 35)\n",
      "['palacio baena, luis guillermo'] 1 0 35\n",
      "('rivas, i', 32)\n",
      "['pineda salazar, david antonio'] 2 0 32\n",
      "('gomez uribe, lf', 33)\n",
      "['lopera restrepo, francisco javier'] 3 0 33\n",
      "('pineda, d a', 39)\n",
      "['aguirre acevedo, daniel camilo'] 0 0 39\n",
      "('salazar, eo', 40)\n",
      "['palacio baena, luis guillermo'] 1 0 40\n",
      "('pineda, d a', 39)\n",
      "['aguirre acevedo, daniel camilo'] 0 0 39\n",
      "('agudelo trujillo, jorge h', 34)\n",
      "['ferrer botero, alberto'] 0 0 34\n",
      "('agudelo trujillo, jorge h', 38)\n",
      "['calderon velez, juan camilo'] 1 0 38\n",
      "('teran rosero, ana celina', 48)\n",
      "['ferrer botero, alberto'] 0 0 48\n",
      "('lopez velasquez, angelica maria', 55)\n",
      "['calderon velez, juan camilo'] 1 0 55\n",
      "('pineda, d a', 39)\n",
      "['aguirre acevedo, daniel camilo'] 0 0 39\n",
      "('palacio, jd', 45)\n",
      "['palacio baena, luis guillermo'] 1 0 45\n",
      "('guzman luna, carlos ernesto', 54)\n",
      "['yepes delgado, carlos enrique'] 0 0 54\n",
      "('patino, pj', 33)\n",
      "['franco restrepo, jose luis'] 0 0 33\n",
      "('forero, cc', 44)\n",
      "['franco restrepo, jose luis'] 0 0 44\n",
      "('nunez, edilberto', 40)\n",
      "['quintero riaza, victor manuel'] 1 0 40\n",
      "('cuervo montoya, edisson', 37)\n",
      "('cuervo montoya, edisson', 29)\n",
      "['blair trujillo, elsa', 'blair, elsa'] 0 1 37\n",
      "('[anonymous]', 17)\n",
      "['agudelo agudelo, john jader'] 0 0 17\n",
      "('castaneda, martha', 40)\n",
      "('sanabria, alvaro', 45)\n",
      "('castaneda, martha', 39)\n",
      "['restrepo zea, jairo humberto', 'restrepo, jairo', 'restrepo, jairo humberto'] 0 2 45\n",
      "('velez, a', 38)\n",
      "['wolff, m'] 0 0 38\n",
      "('garcia gutierrez, g', 72)\n",
      "('garcia gutierrez, g', 55)\n",
      "['garcia gutierrez, carmen emilia', 'garcia, carmen'] 1 1 72\n",
      "('gallon gomez, s', 32)\n",
      "['castano velez, elkin argemiro'] 0 0 32\n",
      "('echavarria, a', 46)\n",
      "('echavarria, a', 40)\n",
      "('arroyave, c', 36)\n",
      "('arroyave, c', 33)\n",
      "('arroyave, c', 38)\n",
      "('echavarria, a', 31)\n",
      "('echavarria, a', 39)\n",
      "('echavarria, a', 34)\n",
      "['calderon, j a', 'calderon, jorge a', 'andres calderon, jorge', 'andres calderon gutierrez, jorge', 'calderon, jorge', 'calderon gutierrez, jorge andres', 'calderon gutierrez, j a', 'calderon, jorge andres'] 0 7 46\n",
      "('echavarria, a', 37)\n",
      "['jaramillo isaza, franklin'] 2 0 37\n",
      "('echavarria, a', 43)\n",
      "['escobar sierra, diana marcela'] 3 0 43\n",
      "('quinonez, j', 33)\n",
      "['carmona fonseca, jaime de jesus'] 0 0 33\n",
      "('tejada, blanca dolly', 36)\n",
      "['parra grondona, agustin alonso'] 0 0 36\n",
      "('jimenez tobon, guillermo antonio', 45)\n",
      "['sanchez caraballo, jorge mario'] 0 0 45\n",
      "('rubio l, diana c', 29)\n",
      "['penaranda correa, fernando'] 0 0 29\n",
      "('diaz b, lina m', 45)\n",
      "['chavez guerrero, blanca miriam'] 0 0 45\n",
      "('vasquez tamayo, carlos', 48)\n",
      "['restrepo, carlos enrique'] 0 0 48\n",
      "('sanchez munera, jorge luis', 40)\n",
      "['palacio baena, luis guillermo'] 0 0 40\n",
      "('quiroz, carlos m', 44)\n",
      "['agudelo suarez, andres alonso'] 0 0 44\n",
      "('restrepo, jorge emiro', 36)\n",
      "['lopera echavarria, juan diego'] 0 0 36\n",
      "('munoz d, ana marcela', 36)\n",
      "['martinez lopez, elkin de jesus'] 0 0 36\n",
      "('franco, jl', 52)\n",
      "('franco, jl', 52)\n",
      "('franco, jl', 47)\n",
      "['arango, julian camilo', 'camilo arango, julian', 'arango rincon, julian camilo'] 0 2 52\n",
      "('vasquez, e', 37)\n",
      "['muskus lopez, carlos enrique'] 2 0 37\n",
      "('trujillo vargas, c m', 38)\n",
      "['montoya guarin, carlos julio'] 3 0 38\n",
      "('barrera p, luz helena', 43)\n",
      "['laverde de botero, laura a'] 0 0 43\n",
      "('mejia o, luz mery', 38)\n",
      "['cardona, alvaro'] 0 0 38\n",
      "('mcewen, juan', 59)\n",
      "['mc ewen ochoa, juan guillermo'] 0 0 59\n",
      "('bedoya gomez, catalina', 44)\n",
      "['sarmiento gutierrez, ignacio'] 0 0 44\n",
      "('mcewen, j', 47)\n",
      "['mc ewen ochoa, juan guillermo'] 0 0 47\n",
      "('alvarez echeverri, tiberio', 43)\n",
      "('alvarez echeverri, tiberio', 38)\n",
      "('alvarez echeverri, tiberio', 28)\n",
      "['salinas duran, fabio', 'salinas duran, fabio alonso', 'salinas, f'] 0 2 43\n",
      "('mcewen, juan guillermo', 86)\n",
      "['mc ewen ochoa, juan guillermo'] 1 0 86\n",
      "('rios, juan', 36)\n",
      "['mc ewen ochoa, juan guillermo'] 1 0 36\n",
      "('garcia, cristina', 45)\n",
      "['cuartas calle, adriana maria'] 2 0 45\n",
      "('ardila, lmc', 54)\n",
      "['cardenas, laura'] 0 0 54\n",
      "('manuel, juan, sr', 47)\n",
      "['senior sanchez, juan manuel'] 0 0 47\n",
      "('manuel, juan, sr', 47)\n",
      "['senior sanchez, juan manuel'] 0 0 47\n",
      "('paez zapata, esteban', 74)\n",
      "('paez zapata, esteban', 93)\n",
      "['lopez zapata, e', 'lopez zapata, esteban'] 0 1 93\n",
      "('sarmiento, jg', 47)\n",
      "('bustamante, aa', 39)\n",
      "('colon, ca', 48)\n",
      "('colon, ca', 53)\n",
      "('carvajal, l', 39)\n",
      "['manuel toro, juan', 'toro, juan manuel', 'toro, juan m', 'toro, juan', 'toro escobar, juan manuel'] 0 4 53\n",
      "('ochoa agudelo, m d', 49)\n",
      "('ochoa agudelo, m d', 67)\n",
      "('ochoa agudelo, m d', 56)\n",
      "('ochoa agudelo, m d', 54)\n",
      "['agudelo ochoa, gloria maria', 'agudelo, g m', 'agudelo ochoa, g m', 'agudelo ochoa, gloria m'] 0 3 67\n",
      "('ceballos, m', 32)\n",
      "('ceballos, m', 59)\n",
      "('ceballos, m', 40)\n",
      "('ceballos, m', 55)\n",
      "['turbay, sandra', 'turbay ceballos, sandra', 'turbay, s', 'turbay ceballos, sandra maria'] 0 3 59\n",
      "('hernandez ortiz, olga h', 37)\n",
      "('hernandez ortiz, olga h', 38)\n",
      "('jaimes, fabian', 42)\n",
      "('hernandez ortiz, olga h', 36)\n",
      "('hernandez ortiz, olga h', 39)\n",
      "['garcia garcia, hector ivan', 'garcia, h', 'garcia, hector ivan', 'garcia, hector i', 'garcia garcia, h i'] 0 4 42\n",
      "('rodirguez, d c', 57)\n",
      "['rodriguez loaiza, diana catalina'] 0 0 57\n",
      "('caderon, j a', 55)\n",
      "['calderon gutierrez, jorge andres'] 1 0 55\n",
      "('de correa, c montes', 45)\n",
      "['montes ramirez, maria del consuelo'] 1 0 45\n",
      "('agudejo, andres', 58)\n",
      "['agudelo santamaria, andres felipe'] 1 0 58\n",
      "('cardona, j c', 46)\n",
      "['sanz vicario, jose luis'] 1 0 46\n",
      "('cardona velez, n', 43)\n",
      "['gonzalez perez, leonor victoria'] 1 0 43\n",
      "('gallego, n', 62)\n",
      "('gallego, n', 56)\n",
      "['gallego, berta natalia', 'natalia gallego, berta'] 2 1 62\n",
      "('jaramillo, c', 42)\n",
      "['blair trujillo, silvia victoria'] 0 0 42\n",
      "('cana, luz elena', 72)\n",
      "['cano restrepo, luz elena'] 1 0 72\n",
      "('de correa, consuelo montes', 53)\n",
      "['montes ramirez, maria del consuelo'] 1 0 53\n",
      "('de correa, consuelo montes', 53)\n",
      "['montes ramirez, maria del consuelo'] 0 0 53\n",
      "('de correa, consuelo montes', 53)\n",
      "['montes ramirez, maria del consuelo'] 1 0 53\n",
      "('fuentes zurita, g', 43)\n",
      "['montes ramirez, maria del consuelo'] 0 0 43\n",
      "('barreria, jf', 56)\n",
      "['barrera ramirez, john fredy'] 0 0 56\n",
      "('quinonez, w', 54)\n",
      "['quinones fletcher, winston'] 2 0 54\n",
      "('sanehez, rm', 53)\n",
      "['moreno sanchez, ricardo'] 0 0 53\n",
      "('santamaria, jra', 29)\n",
      "['calderon velez, juan camilo'] 0 0 29\n",
      "('saenz, j', 44)\n",
      "['saez vega, jairo antonio'] 0 0 44\n",
      "('guillermo mcewen, juan', 47)\n",
      "['mc ewen ochoa, juan guillermo'] 1 0 47\n",
      "('garcia, l f', 45)\n",
      "['arias restrepo, luis fernando'] 1 0 45\n",
      "('arias londono, julian david', 34)\n",
      "['olaya pelaez, alvaro'] 1 0 34\n",
      "('gomez botero, maryory astrid', 35)\n",
      "['diez mejia, bertha ligia'] 2 0 35\n",
      "('gomez botero, maryory astrid', 33)\n",
      "['olaya pelaez, alvaro'] 1 0 33\n",
      "('gomez botero, maryory astrid', 35)\n",
      "['diez mejia, bertha ligia'] 2 0 35\n",
      "('de correa, cm', 38)\n",
      "['montes ramirez, maria del consuelo'] 0 0 38\n",
      "('cotugno, r', 36)\n",
      "['osorio durango, edison javier'] 0 0 36\n",
      "('mejia lopera, maria eugenia', 56)\n",
      "['arias valencia, maria mercedes'] 1 0 56\n",
      "('jaime, o', 56)\n",
      "('oscar, a', 36)\n",
      "('jaime, o', 45)\n",
      "('jaime, o', 36)\n",
      "('oscar, a', 50)\n",
      "['arnache, o', 'luis arnache olmos, oscar', 'arnache, oscar', 'arnache olmos, oscar', 'arnache, oscar l'] 0 4 56\n",
      "('quintero zea, a', 34)\n",
      "['lopez hincapie, jose david'] 0 0 34\n",
      "('cano, l e', 32)\n",
      "['gonzalez marin, angel augusto'] 0 0 32\n",
      "('alba, ir', 31)\n",
      "['cardona sanchez, diana patricia'] 0 0 31\n",
      "('gustavo, apa', 38)\n",
      "('gustavo, apa', 52)\n",
      "['patino, g', 'patino, gustavo'] 0 1 52\n",
      "('jose luis, s v', 49)\n",
      "['sanz vicario, jose luis'] 0 0 49\n",
      "('cortes rodas1, francisco', 40)\n",
      "['forero quintero, gustavo isaias'] 0 0 40\n",
      "('cortes rodas1, francisco', 42)\n",
      "['gomez garcia, juan guillermo'] 1 0 42\n",
      "('cortes rodas1, francisco', 48)\n",
      "['eusse castro, edgar danilo'] 2 0 48\n",
      "('orrego, luz mery', 38)\n",
      "['forero quintero, gustavo isaias'] 0 0 38\n",
      "('orrego, luz mery', 41)\n",
      "['gomez garcia, juan guillermo'] 1 0 41\n",
      "('orrego, luz mery', 29)\n",
      "['eusse castro, edgar danilo'] 2 0 29\n",
      "('gonzalez, l m', 38)\n",
      "['montes ramirez, maria del consuelo'] 0 0 38\n",
      "('sorokin, a', 36)\n",
      "['villa holguin, aida luz'] 1 0 36\n",
      "('mcewen, juan g', 65)\n",
      "['mc ewen ochoa, juan guillermo'] 0 0 65\n",
      "('mcewen, juan g', 65)\n",
      "['mc ewen ochoa, juan guillermo'] 0 0 65\n",
      "('mcewen, juan g', 65)\n",
      "['mc ewen ochoa, juan guillermo'] 2 0 65\n",
      "('mcewen, juan g', 65)\n",
      "['mc ewen ochoa, juan guillermo'] 0 0 65\n",
      "('peters, ke', 31)\n",
      "['quiroz herrera, gabriel angel'] 0 0 31\n",
      "('de correa, cm', 38)\n",
      "['montes ramirez, maria del consuelo'] 0 0 38\n",
      "('de correa, cm', 38)\n",
      "['montes ramirez, maria del consuelo'] 1 0 38\n",
      "('murillo, ea', 34)\n",
      "['lopez osorio, betty lucy'] 0 0 34\n",
      "('lopera, francisco', 38)\n",
      "['hernandez valdivieso, alher mauricio'] 0 0 38\n",
      "('lopera, francisco', 30)\n",
      "['ochoa gomez, john fredy'] 1 0 30\n",
      "('quiroz, yakeel t', 44)\n",
      "['tobon quintero, carlos andres'] 2 0 44\n",
      "('lopera, francisco', 41)\n",
      "['duque grajales, jon edinson'] 3 0 41\n",
      "('carlos catano, juan', 21)\n",
      "['medina, e'] 0 0 21\n",
      "('montoya, augusto l', 36)\n",
      "['grisales ochoa, diana lucia'] 0 0 36\n",
      "('de carvalho, cjb', 37)\n",
      "['grisales ochoa, diana lucia'] 0 0 37\n",
      "('rozo, jc', 45)\n",
      "['lopez, lucelly'] 0 0 45\n",
      "('patricia arbelaez, maria', 50)\n",
      "['villa velez, liliana'] 1 0 50\n",
      "('patricia arbelaez, maria', 49)\n",
      "['marin agudelo, nancy dora'] 2 0 49\n",
      "('sierra, ligia', 27)\n",
      "['lopez osorio, betty lucy'] 0 0 27\n",
      "('penuela, gustavo', 41)\n",
      "['agudelo cadavid, ruth marina'] 0 0 41\n",
      "('rios montes, karina a', 36)\n",
      "['aguirre ramirez, nestor jaime'] 2 0 36\n",
      "('giraldo, margarita', 46)\n",
      "['aguirre acevedo, daniel camilo'] 0 0 46\n",
      "('acosta baena, natalia', 42)\n",
      "['jaimes barragan, fabian alberto'] 1 0 42\n",
      "('mcewen, juan g', 65)\n",
      "['mc ewen ochoa, juan guillermo'] 0 0 65\n",
      "('acosta, ma', 44)\n",
      "['ochoa sanchez, luz mariela'] 0 0 44\n",
      "('montoya, f', 48)\n",
      "('montoya, f', 41)\n",
      "('montoya, f', 38)\n",
      "('montoya, f', 38)\n",
      "['tobon arroyave, s i', 'tobon arroyave, sergio i', 'tobon arroyave, sergio ivan', 'ivan tobon arroyave, sergio'] 0 3 48\n",
      "('wills toro, la', 39)\n",
      "['osorio guillen, jorge mario'] 0 0 39\n",
      "('correa r, i', 38)\n",
      "('restrepo m, a', 65)\n",
      "('correa r, i', 38)\n",
      "('correa r, i', 45)\n",
      "('correa r, i', 50)\n",
      "['cano, luz elena', 'cano restrepo, luz elena', 'elena cano, luz', 'cano, luz e', 'cano, l e'] 0 4 65\n",
      "('correa r, i', 30)\n",
      "['gonzalez marin, angel augusto'] 1 0 30\n",
      "('wills toro, la', 39)\n",
      "['osorio guillen, jorge mario'] 0 0 39\n",
      "('mejia, ai', 36)\n",
      "['hess, michael'] 0 0 36\n",
      "('arbelaez, m p', 51)\n",
      "['rojas arbelaez, carlos alberto'] 0 0 51\n",
      "('montes, a', 34)\n",
      "['mora ramos, miguel eduardo'] 0 0 34\n",
      "('montes, a', 36)\n",
      "['lopez rios, sonia yaneth'] 0 0 36\n",
      "('porras montenegro, n', 41)\n",
      "['morales aramburo, alvaro luis'] 2 0 41\n",
      "('duque, c a', 36)\n",
      "['raigoza bohorquez, nicolas fernando'] 3 0 36\n",
      "('van san, e', 48)\n",
      "('de grave, e', 55)\n",
      "['garcia, karen e', 'garcia, k e'] 0 1 55\n",
      "('barrero, c a', 42)\n",
      "['arroyave posada, carlos enrique'] 1 0 42\n",
      "('barrero, c a', 34)\n",
      "['morales aramburo, alvaro luis'] 3 0 34\n",
      "('agudelo, sd', 29)\n",
      "['rojas arbelaez, carlos alberto'] 0 0 29\n",
      "('jaramillo restrepo, valentina', 50)\n",
      "['botero, leticia'] 0 0 50\n",
      "('ahunca velasquez, luisa fernanda', 47)\n",
      "['vargas velez, sergio alberto'] 0 0 47\n",
      "('sierra, l', 22)\n",
      "['gil gonzalez jesus, humberto'] 0 0 22\n",
      "('aguclelo, nelson armando', 59)\n",
      "['agudelo vanegas, n a'] 0 0 59\n",
      "('amaya arias, ana carolina', 51)\n",
      "['garcia garcia, hector ivan'] 0 0 51\n",
      "('velez, claudia marcela', 43)\n",
      "['lugo agudelo, luz helena'] 1 0 43\n",
      "('velez, claudia marcela', 40)\n",
      "['quintero valencia, carlos alberto'] 2 0 40\n",
      "('manco, olga usuga', 50)\n",
      "['cecilia usuga, olga'] 1 0 50\n",
      "('lopez, fa', 29)\n",
      "['castano gonzalez, juan guillermo'] 0 0 29\n",
      "('arroyave, c', 36)\n",
      "['echeverria echeverria, felix'] 1 0 36\n",
      "('hidalgo lopez, c', 36)\n",
      "['vargas upegui, cristian david'] 1 0 36\n",
      "('renteria, e', 35)\n",
      "['rosero burbano, fernando yoni'] 0 0 35\n",
      "('aluarez, cm', 45)\n",
      "['alvarez botero, cristian mauricio'] 0 0 45\n",
      "('bravo, ml', 32)\n",
      "['moreno ochoa, manuel antonio'] 0 0 32\n",
      "('leygraf, c', 26)\n",
      "['echeverria echeverria, felix'] 0 0 26\n",
      "('llano, r', 43)\n",
      "('llano, r', 36)\n",
      "['cadena, horacio', 'cadena pena, horacio'] 0 1 43\n",
      "('slachevsky, a', 30)\n",
      "['lopera restrepo, francisco javier'] 0 0 30\n",
      "('slachevsky, a', 33)\n",
      "['villegas lanau, carlos andres'] 1 0 33\n",
      "('ibanez, a', 37)\n",
      "['pineda salazar, david antonio'] 3 0 37\n",
      "('gutierrez, c', 27)\n",
      "['echeverri sucerquia, paula andrea'] 0 0 27\n",
      "('eaton, vl', 38)\n",
      "['correa londono, luis alfonso'] 2 0 38\n",
      "('manuel, juan, sr', 47)\n",
      "['senior sanchez, juan manuel'] 0 0 47\n",
      "('figueroa, natalia', 44)\n",
      "['uscategui penuela, rosa magdalena'] 0 0 44\n",
      "('hurtado galeano, deicy', 45)\n",
      "('hurtado galeano, deicy', 42)\n",
      "['restrepo parra, adrian', 'restrepo, adrian'] 0 1 45\n",
      "('gonzalez, diego', 44)\n",
      "['gomez jimenez, jorge mario'] 0 0 44\n",
      "('quintero morales, maria teresa', 44)\n",
      "['giraldo giraldo, nubia amparo'] 0 0 44\n",
      "('goez rueda, juan diego', 39)\n",
      "['hoyos duque, sergio ivan'] 1 0 39\n",
      "('otelvaro, jaider', 65)\n",
      "['otalvaro orrego, jaider camilo'] 3 0 65\n",
      "('de correa, cm', 38)\n",
      "['montes ramirez, maria del consuelo'] 0 0 38\n",
      "('alarcon, e', 36)\n",
      "['villa holguin, aida luz'] 1 0 36\n",
      "('alarcon, e', 32)\n",
      "['montes ramirez, maria del consuelo'] 2 0 32\n",
      "('de correa, cm', 38)\n",
      "['montes ramirez, maria del consuelo'] 1 0 38\n",
      "('dieck, marianne', 28)\n",
      "['garcia zapata, carlos'] 0 0 28\n",
      "('aydee hernandez, maria', 36)\n",
      "['garcia zapata, carlos arturo'] 0 0 36\n",
      "('valencia, maria luisa', 48)\n",
      "['perez sastre, maria paloma piedad'] 0 0 48\n",
      "('lsaza guzman, dm', 73)\n",
      "['isaza guzman, diana maria'] 1 0 73\n",
      "('gallego, n', 62)\n",
      "('villegas, alberto', 56)\n",
      "['gallego, berta natalia', 'natalia gallego, berta'] 0 1 62\n",
      "('navas, cm', 37)\n",
      "['gallo villegas, jaime alberto'] 0 0 37\n",
      "('gandara, j', 34)\n",
      "['saldarriaga giraldo, clara ines'] 0 0 34\n",
      "('de correa, cm', 38)\n",
      "['montes ramirez, maria del consuelo'] 0 0 38\n",
      "('robinson ramirez, jose', 59)\n",
      "('robinson ramirez, jose', 62)\n",
      "('robinson ramirez, jose', 49)\n",
      "['ramirez pineda, jose r', 'ramirez pineda, jose', 'ramirez pineda, j r'] 2 2 62\n",
      "('salinas, alexander', 38)\n",
      "['gonzalez marin, angel augusto'] 0 0 38\n",
      "('patino, p', 50)\n",
      "('carneiro sampaio, m', 40)\n",
      "('carneiro sampaio, m', 46)\n",
      "('almillategui, d', 43)\n",
      "['trujillo, c', 'trujillo vargas, claudia m', 'trujillo vargas, c m', 'milena trujillo vargas, claudia'] 0 3 50\n",
      "('carlos catano, juan', 38)\n",
      "['gonzalez marin, angel augusto'] 0 0 38\n",
      "('de correa, cm', 38)\n",
      "['montes ramirez, maria del consuelo'] 0 0 38\n",
      "('de correa, cm', 38)\n",
      "['montes ramirez, maria del consuelo'] 0 0 38\n",
      "('de correa, cm', 38)\n",
      "['montes ramirez, maria del consuelo'] 0 0 38\n",
      "('vera, carlos andres', 75)\n",
      "['parra mosquera, carlos andres'] 0 0 75\n",
      "('restrepo estrada, c', 73)\n",
      "('restrepo estrada, c', 59)\n",
      "['restrepo estrada, maria isabel', 'restrepo, maria isabel'] 0 1 73\n",
      "('bedoya sanchez, g a', 38)\n",
      "['garzon agudelo, diego leandro'] 0 0 38\n",
      "('cardona, wilson', 47)\n",
      "['maldonado celis, maria elena'] 0 0 47\n",
      "('londono, andres f', 73)\n",
      "('londono, andres f', 69)\n",
      "['londono, fernando andres', 'londono, f a'] 0 1 73\n",
      "('arellano, ji', 40)\n",
      "['lopera restrepo, francisco javier'] 2 0 40\n",
      "('escobar restrepo, c s', 47)\n",
      "('escobar restrepo, c s', 55)\n",
      "('escobar restrepo, c s', 56)\n",
      "['restrepo escobar, mauricio', 'restrepo escobar, m', 'restrepo, mauricio'] 0 2 56\n",
      "('garcia, a', 47)\n",
      "['garcia quiroz, luis alexander'] 3 0 47\n",
      "('puerta, a', 47)\n",
      "['ramirez puerta, blanca susana'] 0 0 47\n",
      "('de correa, cm', 38)\n",
      "['montes ramirez, maria del consuelo'] 0 0 38\n",
      "('valencia arias, alejandro', 62)\n",
      "('arias garcia, sebastian', 57)\n",
      "('valencia arias, alejandro', 58)\n",
      "['valencia, maria mercedes arias', 'arias valencia, m m', 'arias valencia, maria mercedes'] 0 2 62\n",
      "('duarte cubides, f', 35)\n",
      "('duarte cubides, f', 42)\n",
      "['rivera correa, mauricio', 'rivera correa, m'] 0 1 42\n",
      "('ronda perez, elena', 53)\n",
      "['estrada restrepo, alejandro'] 1 0 53\n",
      "('garcia, a', 33)\n",
      "['vasquez duque, gloria maria'] 0 0 33\n",
      "('garcia, a', 30)\n",
      "['gonzalez perez, leonor victoria'] 1 0 30\n",
      "('charns anturi, a a', 68)\n",
      "['chams anturi, abrahan alberto'] 0 0 68\n",
      "('juan, f a', 32)\n",
      "('edwin, p g', 43)\n",
      "('edwin, p g', 48)\n",
      "('juan, f a', 37)\n",
      "['patino gonzalez, edwin', 'patino, edwin', 'patino, edwin b', 'patino gonzalez, e'] 0 3 48\n",
      "('juan, f a', 36)\n",
      "['alzate restrepo, juan fernando'] 1 0 36\n",
      "('sierra, d a', 48)\n",
      "['aristizabal, d'] 0 0 48\n",
      "('barrientes marin, jorge', 67)\n",
      "('barrientes marin, jorge', 96)\n",
      "('barrientes marin, jorge', 80)\n",
      "('barrientes marin, jorge', 86)\n",
      "['barrientos, j', 'barrientos marin, jorge', 'barrientos, jorge', 'barrientos marin, j'] 0 3 96\n",
      "('alzale guarin, f', 64)\n",
      "['alzate guarin, fernando alveiro'] 0 0 64\n",
      "('resterpo, d', 44)\n",
      "['restrepo quintero, diego alejandro'] 0 0 44\n",
      "('gomez palacio, claudia', 40)\n",
      "['perez sastre, maria paloma piedad'] 0 0 40\n",
      "('de correa, cm', 38)\n",
      "['montes ramirez, maria del consuelo'] 1 0 38\n",
      "('cesar orrego, j julio', 47)\n",
      "('cesar orrego, j julio', 40)\n",
      "('rojas, j jessica l', 40)\n",
      "('rojas, j jessica l', 41)\n",
      "('rojas, j jessica l', 48)\n",
      "['enrique botero, javier', 'botero, j', 'botero, javier enrique', 'botero, javier e', 'botero, j e'] 0 4 48\n",
      "('arias valencia, maria mercedes', 38)\n",
      "['munera gaviria, hugo alberto'] 1 0 38\n",
      "('gonzalez naranjo, luis alonso', 54)\n",
      "['ramirez gomez, luis alberto'] 0 0 54\n",
      "('valderrama, botia', 36)\n",
      "('jose luis, diego', 36)\n",
      "('valderrama, botia', 44)\n",
      "('jose luis, diego', 39)\n",
      "['urrego giraldo, german', 'urrego giraldo, g', 'urrego giraldo, german a', 'giraldo, urrego'] 0 3 44\n",
      "('gallego, n', 62)\n",
      "('gallego, n', 56)\n",
      "['gallego, berta natalia', 'natalia gallego, berta'] 1 1 62\n",
      "('martha, oa', 40)\n",
      "['villar argaiz, david'] 0 0 40\n",
      "('nicolas, rv', 35)\n",
      "['fernandez silva, jorge arturo'] 1 0 35\n",
      "('martha, oa', 41)\n",
      "['olivera angel, martha eufemia'] 2 0 41\n",
      "('martha, oa', 33)\n",
      "['chaparro gutierrez, jenny jovana'] 3 0 33\n",
      "('nicolas, rv', 41)\n",
      "['ramirez vasquez, nicolas fernando'] 4 0 41\n",
      "('de correa, cm', 38)\n",
      "['montes ramirez, maria del consuelo'] 1 0 38\n",
      "('de correa, cm', 38)\n",
      "['montes ramirez, maria del consuelo'] 0 0 38\n",
      "('bustarnante, f', 60)\n",
      "['bustamante londono, felipe'] 1 0 60\n",
      "('gonzalez, a', 33)\n",
      "['de dios leyva, melquiades'] 0 0 33\n",
      "('de correa, consuelo montes', 53)\n",
      "['montes ramirez, maria del consuelo'] 1 0 53\n",
      "('manuel, juan, sr', 47)\n",
      "['senior sanchez, juan manuel'] 3 0 47\n",
      "('gonzalez zapata, laura', 43)\n",
      "('giraldo lopez, paula andrea', 44)\n",
      "('gonzalez zapata, laura', 43)\n",
      "['fernando isaza, luis', 'isaza jimenez, luis fernando', 'isaza, luis fernando'] 0 2 44\n",
      "('gallo, hector', 64)\n",
      "['gallo, jesus'] 0 0 64\n",
      "('alarcon, e', 36)\n",
      "['villa holguin, aida luz'] 1 0 36\n",
      "('de correa, cm', 38)\n",
      "['montes ramirez, maria del consuelo'] 2 0 38\n",
      "('portillo, d', 42)\n",
      "('portillo, d', 33)\n",
      "['nardi, e', 'nardi, enrico'] 0 1 42\n",
      "('hoyos, jep', 32)\n",
      "['eduardo pineda, jorge'] 0 0 32\n",
      "('sanchez, l e', 44)\n",
      "['moran vasquez, raul alejandro'] 0 0 44\n",
      "('martin ardile, carlos', 57)\n",
      "['ardila medina, carlos martin'] 0 0 57\n",
      "('sanclementeao, g', 75)\n",
      "('sanclementeao, g', 93)\n",
      "('sanclementeao, g', 80)\n",
      "['sanclemente mesa, gloria', 'sanclemente, g', 'sanclemente, gloria'] 0 2 93\n",
      "('silvia, b', 35)\n",
      "['blair trujillo, silvia victoria'] 0 0 35\n",
      "('periuela, gustavo', 65)\n",
      "['penuela mesa, gustavo antonio'] 1 0 65\n",
      "('arbelaez, patricia', 71)\n",
      "['arbelaez, m p'] 1 0 71\n",
      "('enriquez, luis e', 58)\n",
      "['garcia quiroz, luis alexander'] 0 0 58\n",
      "('tulupenko, y', 76)\n",
      "['tulupenko, viktor'] 0 0 76\n",
      "('de correa, consuelo montes', 53)\n",
      "['montes ramirez, maria del consuelo'] 0 0 53\n",
      "('hincape, me', 54)\n",
      "['hincapie zapata, maria eugenia'] 0 0 54\n"
     ]
    },
    {
     "data": {
      "text/plain": [
       "5000     True\n",
       "5001     True\n",
       "5002     True\n",
       "5003     True\n",
       "5004     True\n",
       "5005     True\n",
       "5006     True\n",
       "5007     True\n",
       "5008     True\n",
       "5009     True\n",
       "5010     True\n",
       "5011     True\n",
       "5012     True\n",
       "5013     True\n",
       "5014     True\n",
       "5015     True\n",
       "5016     True\n",
       "5017     True\n",
       "5018     True\n",
       "5019     True\n",
       "5020     True\n",
       "5021     True\n",
       "5022     True\n",
       "5023     True\n",
       "5024     True\n",
       "5025     True\n",
       "5026     True\n",
       "5027     True\n",
       "5028     True\n",
       "5029     True\n",
       "         ... \n",
       "15614    True\n",
       "15615    True\n",
       "15616    True\n",
       "15617    True\n",
       "15618    True\n",
       "15619    True\n",
       "15620    True\n",
       "15621    True\n",
       "15622    True\n",
       "15623    True\n",
       "15624    True\n",
       "15625    True\n",
       "15626    True\n",
       "15627    True\n",
       "15628    True\n",
       "15629    True\n",
       "15630    True\n",
       "15631    True\n",
       "15632    True\n",
       "15633    True\n",
       "15634    True\n",
       "15635    True\n",
       "15636    True\n",
       "15637    True\n",
       "15638    True\n",
       "15639    True\n",
       "15640    True\n",
       "15641    True\n",
       "15642    True\n",
       "15643    True\n",
       "Length: 10644, dtype: bool"
      ]
     },
     "execution_count": 753,
     "metadata": {},
     "output_type": "execute_result"
    }
   ],
   "source": [
    "UDEA[5000:].apply(Quality_UDEA_authors,axis='columns')"
   ]
  },
  {
   "cell_type": "code",
   "execution_count": 295,
   "metadata": {},
   "outputs": [
    {
     "ename": "NameError",
     "evalue": "(\"name 'rr' is not defined\", 'occurred at index 1')",
     "output_type": "error",
     "traceback": [
      "\u001b[0;31m---------------------------------------------------------------------------\u001b[0m",
      "\u001b[0;31mNameError\u001b[0m                                 Traceback (most recent call last)",
      "\u001b[0;32m<ipython-input-295-b767ea6bfade>\u001b[0m in \u001b[0;36m<module>\u001b[0;34m\u001b[0m\n\u001b[1;32m      1\u001b[0m \u001b[0;31m#UDEA.loc[[5]].apply(Quality_UDEA_authors,axis='columns')\u001b[0m\u001b[0;34m\u001b[0m\u001b[0;34m\u001b[0m\u001b[0m\n\u001b[0;32m----> 2\u001b[0;31m \u001b[0mUDEA\u001b[0m\u001b[0;34m.\u001b[0m\u001b[0mapply\u001b[0m\u001b[0;34m(\u001b[0m\u001b[0mQuality_UDEA_authors\u001b[0m\u001b[0;34m,\u001b[0m\u001b[0maxis\u001b[0m\u001b[0;34m=\u001b[0m\u001b[0;34m'columns'\u001b[0m\u001b[0;34m)\u001b[0m\u001b[0;34m\u001b[0m\u001b[0m\n\u001b[0m\u001b[1;32m      3\u001b[0m \u001b[0;31m#UDEA[~UDEA.apply(Quality_UDEA_authors_fail_safe,axis='columns')].shape\u001b[0m\u001b[0;34m\u001b[0m\u001b[0;34m\u001b[0m\u001b[0m\n",
      "\u001b[0;32m/usr/local/lib/python3.5/dist-packages/pandas/core/frame.py\u001b[0m in \u001b[0;36mapply\u001b[0;34m(self, func, axis, broadcast, raw, reduce, result_type, args, **kwds)\u001b[0m\n\u001b[1;32m   6485\u001b[0m                          \u001b[0margs\u001b[0m\u001b[0;34m=\u001b[0m\u001b[0margs\u001b[0m\u001b[0;34m,\u001b[0m\u001b[0;34m\u001b[0m\u001b[0m\n\u001b[1;32m   6486\u001b[0m                          kwds=kwds)\n\u001b[0;32m-> 6487\u001b[0;31m         \u001b[0;32mreturn\u001b[0m \u001b[0mop\u001b[0m\u001b[0;34m.\u001b[0m\u001b[0mget_result\u001b[0m\u001b[0;34m(\u001b[0m\u001b[0;34m)\u001b[0m\u001b[0;34m\u001b[0m\u001b[0m\n\u001b[0m\u001b[1;32m   6488\u001b[0m \u001b[0;34m\u001b[0m\u001b[0m\n\u001b[1;32m   6489\u001b[0m     \u001b[0;32mdef\u001b[0m \u001b[0mapplymap\u001b[0m\u001b[0;34m(\u001b[0m\u001b[0mself\u001b[0m\u001b[0;34m,\u001b[0m \u001b[0mfunc\u001b[0m\u001b[0;34m)\u001b[0m\u001b[0;34m:\u001b[0m\u001b[0;34m\u001b[0m\u001b[0m\n",
      "\u001b[0;32m/usr/local/lib/python3.5/dist-packages/pandas/core/apply.py\u001b[0m in \u001b[0;36mget_result\u001b[0;34m(self)\u001b[0m\n\u001b[1;32m    149\u001b[0m             \u001b[0;32mreturn\u001b[0m \u001b[0mself\u001b[0m\u001b[0;34m.\u001b[0m\u001b[0mapply_raw\u001b[0m\u001b[0;34m(\u001b[0m\u001b[0;34m)\u001b[0m\u001b[0;34m\u001b[0m\u001b[0m\n\u001b[1;32m    150\u001b[0m \u001b[0;34m\u001b[0m\u001b[0m\n\u001b[0;32m--> 151\u001b[0;31m         \u001b[0;32mreturn\u001b[0m \u001b[0mself\u001b[0m\u001b[0;34m.\u001b[0m\u001b[0mapply_standard\u001b[0m\u001b[0;34m(\u001b[0m\u001b[0;34m)\u001b[0m\u001b[0;34m\u001b[0m\u001b[0m\n\u001b[0m\u001b[1;32m    152\u001b[0m \u001b[0;34m\u001b[0m\u001b[0m\n\u001b[1;32m    153\u001b[0m     \u001b[0;32mdef\u001b[0m \u001b[0mapply_empty_result\u001b[0m\u001b[0;34m(\u001b[0m\u001b[0mself\u001b[0m\u001b[0;34m)\u001b[0m\u001b[0;34m:\u001b[0m\u001b[0;34m\u001b[0m\u001b[0m\n",
      "\u001b[0;32m/usr/local/lib/python3.5/dist-packages/pandas/core/apply.py\u001b[0m in \u001b[0;36mapply_standard\u001b[0;34m(self)\u001b[0m\n\u001b[1;32m    255\u001b[0m \u001b[0;34m\u001b[0m\u001b[0m\n\u001b[1;32m    256\u001b[0m         \u001b[0;31m# compute the result using the series generator\u001b[0m\u001b[0;34m\u001b[0m\u001b[0;34m\u001b[0m\u001b[0m\n\u001b[0;32m--> 257\u001b[0;31m         \u001b[0mself\u001b[0m\u001b[0;34m.\u001b[0m\u001b[0mapply_series_generator\u001b[0m\u001b[0;34m(\u001b[0m\u001b[0;34m)\u001b[0m\u001b[0;34m\u001b[0m\u001b[0m\n\u001b[0m\u001b[1;32m    258\u001b[0m \u001b[0;34m\u001b[0m\u001b[0m\n\u001b[1;32m    259\u001b[0m         \u001b[0;31m# wrap results\u001b[0m\u001b[0;34m\u001b[0m\u001b[0;34m\u001b[0m\u001b[0m\n",
      "\u001b[0;32m/usr/local/lib/python3.5/dist-packages/pandas/core/apply.py\u001b[0m in \u001b[0;36mapply_series_generator\u001b[0;34m(self)\u001b[0m\n\u001b[1;32m    284\u001b[0m             \u001b[0;32mtry\u001b[0m\u001b[0;34m:\u001b[0m\u001b[0;34m\u001b[0m\u001b[0m\n\u001b[1;32m    285\u001b[0m                 \u001b[0;32mfor\u001b[0m \u001b[0mi\u001b[0m\u001b[0;34m,\u001b[0m \u001b[0mv\u001b[0m \u001b[0;32min\u001b[0m \u001b[0menumerate\u001b[0m\u001b[0;34m(\u001b[0m\u001b[0mseries_gen\u001b[0m\u001b[0;34m)\u001b[0m\u001b[0;34m:\u001b[0m\u001b[0;34m\u001b[0m\u001b[0m\n\u001b[0;32m--> 286\u001b[0;31m                     \u001b[0mresults\u001b[0m\u001b[0;34m[\u001b[0m\u001b[0mi\u001b[0m\u001b[0;34m]\u001b[0m \u001b[0;34m=\u001b[0m \u001b[0mself\u001b[0m\u001b[0;34m.\u001b[0m\u001b[0mf\u001b[0m\u001b[0;34m(\u001b[0m\u001b[0mv\u001b[0m\u001b[0;34m)\u001b[0m\u001b[0;34m\u001b[0m\u001b[0m\n\u001b[0m\u001b[1;32m    287\u001b[0m                     \u001b[0mkeys\u001b[0m\u001b[0;34m.\u001b[0m\u001b[0mappend\u001b[0m\u001b[0;34m(\u001b[0m\u001b[0mv\u001b[0m\u001b[0;34m.\u001b[0m\u001b[0mname\u001b[0m\u001b[0;34m)\u001b[0m\u001b[0;34m\u001b[0m\u001b[0m\n\u001b[1;32m    288\u001b[0m             \u001b[0;32mexcept\u001b[0m \u001b[0mException\u001b[0m \u001b[0;32mas\u001b[0m \u001b[0me\u001b[0m\u001b[0;34m:\u001b[0m\u001b[0;34m\u001b[0m\u001b[0m\n",
      "\u001b[0;32m<ipython-input-286-1a64adb4417f>\u001b[0m in \u001b[0;36mQuality_UDEA_authors\u001b[0;34m(row)\u001b[0m\n\u001b[1;32m     27\u001b[0m             \u001b[0;32melse\u001b[0m\u001b[0;34m:\u001b[0m\u001b[0;34m\u001b[0m\u001b[0m\n\u001b[1;32m     28\u001b[0m                 \u001b[0;31m#Similarity match\u001b[0m\u001b[0;34m\u001b[0m\u001b[0;34m\u001b[0m\u001b[0m\n\u001b[0;32m---> 29\u001b[0;31m                 \u001b[0;32mif\u001b[0m \u001b[0mrr\u001b[0m\u001b[0;34m[\u001b[0m\u001b[0;36m1\u001b[0m\u001b[0;34m]\u001b[0m\u001b[0;34m==\u001b[0m\u001b[0;36m100\u001b[0m\u001b[0;34m:\u001b[0m\u001b[0;34m\u001b[0m\u001b[0m\n\u001b[0m\u001b[1;32m     30\u001b[0m                     \u001b[0mQ\u001b[0m\u001b[0;34m=\u001b[0m\u001b[0;32mTrue\u001b[0m\u001b[0;34m\u001b[0m\u001b[0m\n\u001b[1;32m     31\u001b[0m                     \u001b[0;32mbreak\u001b[0m\u001b[0;34m\u001b[0m\u001b[0m\n",
      "\u001b[0;31mNameError\u001b[0m: (\"name 'rr' is not defined\", 'occurred at index 1')"
     ]
    }
   ],
   "source": [
    "#UDEA.loc[[5]].apply(Quality_UDEA_authors,axis='columns')\n",
    "#UDEA.apply(Quality_UDEA_authors,axis='columns')\n",
    "#UDEA[~UDEA.apply(Quality_UDEA_authors_fail_safe,axis='columns')].shape"
   ]
  },
  {
   "cell_type": "code",
   "execution_count": 783,
   "metadata": {},
   "outputs": [],
   "source": []
  },
  {
   "cell_type": "code",
   "execution_count": 784,
   "metadata": {},
   "outputs": [
    {
     "data": {
      "text/plain": [
       "[{'WOS_author': 'Rueda Nobmann, María Teresa',\n",
       "  'affiliation': ['Univ Antioquia, Colombia.'],\n",
       "  'i': 0},\n",
       " {'WOS_author': 'Carvajal-Castrillón, Julián',\n",
       "  'affiliation': ['Univ Antioquia, Colombia.']},\n",
       " {'WOS_author': 'Restrepo Pelaez, Adelaida',\n",
       "  'affiliation': ['Universidad CES, Colombia.']},\n",
       " {'WOS_author': 'Dávila Plata, Diana',\n",
       "  'affiliation': ['Universidad San Buenaventura, Colombia.']},\n",
       " {'WOS_author': 'Garzón Girlado, Luz Dey',\n",
       "  'affiliation': ['Universidad San Buenaventura, Colombia.']},\n",
       " {'WOS_author': 'Galeano Toro, Luz Marina',\n",
       "  'affiliation': ['Unidad de Neuropsicología del INDEC, Colombia.']},\n",
       " {'WOS_author': 'Arboleda Ramírez, Alejandra',\n",
       "  'affiliation': ['Universidad CES, Colombia.']},\n",
       " {'WOS_author': 'Bareño Silva, José',\n",
       "  'affiliation': ['Universidad San Buenaventura, Colombia.']}]"
      ]
     },
     "execution_count": 784,
     "metadata": {},
     "output_type": "execute_result"
    }
   ],
   "source": [
    "row['authors_WOS' ]"
   ]
  },
  {
   "cell_type": "code",
   "execution_count": 785,
   "metadata": {},
   "outputs": [
    {
     "data": {
      "text/plain": [
       "[{'CÉDULA': 70878402.0,\n",
       "  'DEPARTAMENTO': 'Instituto de Investigaciones Médicas',\n",
       "  'FACULTAD': 'Facultad de Medicina',\n",
       "  'GRUPO': 'Inmunodeficiencias Primarias',\n",
       "  'INICIALES': 'D. C.',\n",
       "  'NOMBRE COMPLETO': 'Daniel Camilo Aguirre Acevedo',\n",
       "  'NOMBRES': 'Daniel Camilo',\n",
       "  'PRIMER APELLIDO': 'Aguirre',\n",
       "  'SEGUNDO APELLIDO': 'Acevedo',\n",
       "  'full_name': 'AGUIRRE ACEVEDO DANIEL CAMILO'},\n",
       " {'CÉDULA': 7463551,\n",
       "  'INICIALES': 'D. A.',\n",
       "  'NOMBRE COMPLETO': 'David Antonio Pineda Salazar',\n",
       "  'NOMBRES': 'David Antonio',\n",
       "  'PRIMER APELLIDO': 'Pineda',\n",
       "  'SEGUNDO APELLIDO': 'Salazar',\n",
       "  'full_name': 'PINEDA SALAZAR DAVID ANTONIO'}]"
      ]
     },
     "execution_count": 785,
     "metadata": {},
     "output_type": "execute_result"
    }
   ],
   "source": [
    "row['UDEA_authors']"
   ]
  },
  {
   "cell_type": "code",
   "execution_count": 751,
   "metadata": {},
   "outputs": [
    {
     "data": {
      "text/html": [
       "<div>\n",
       "<style scoped>\n",
       "    .dataframe tbody tr th:only-of-type {\n",
       "        vertical-align: middle;\n",
       "    }\n",
       "\n",
       "    .dataframe tbody tr th {\n",
       "        vertical-align: top;\n",
       "    }\n",
       "\n",
       "    .dataframe thead th {\n",
       "        text-align: right;\n",
       "    }\n",
       "</style>\n",
       "<table border=\"1\" class=\"dataframe\">\n",
       "  <thead>\n",
       "    <tr style=\"text-align: right;\">\n",
       "      <th></th>\n",
       "      <th>CÉDULA</th>\n",
       "      <th>DEPARTAMENTO</th>\n",
       "      <th>FACULTAD</th>\n",
       "      <th>GRUPO</th>\n",
       "      <th>NOMBRE COMPLETO</th>\n",
       "      <th>NOMBRES</th>\n",
       "      <th>PRIMER APELLIDO</th>\n",
       "      <th>SEGUNDO APELLIDO</th>\n",
       "    </tr>\n",
       "  </thead>\n",
       "  <tbody>\n",
       "    <tr>\n",
       "      <th>464</th>\n",
       "      <td>43276372</td>\n",
       "      <td>Departamento de Ingeniería Industrial</td>\n",
       "      <td>Facultad de Ingeniería</td>\n",
       "      <td>INCAS-Innovación y Gestión de Cadenas de Abastecimiento</td>\n",
       "      <td>Olga Cecilia Usuga Manco</td>\n",
       "      <td>Olga Cecilia</td>\n",
       "      <td>Usuga</td>\n",
       "      <td>Manco</td>\n",
       "    </tr>\n",
       "  </tbody>\n",
       "</table>\n",
       "</div>"
      ],
      "text/plain": [
       "       CÉDULA                           DEPARTAMENTO                FACULTAD  \\\n",
       "464  43276372  Departamento de Ingeniería Industrial  Facultad de Ingeniería   \n",
       "\n",
       "                                                       GRUPO  \\\n",
       "464  INCAS-Innovación y Gestión de Cadenas de Abastecimiento   \n",
       "\n",
       "              NOMBRE COMPLETO        NOMBRES PRIMER APELLIDO SEGUNDO APELLIDO  \n",
       "464  Olga Cecilia Usuga Manco  Olga Cecilia            Usuga            Manco  "
      ]
     },
     "execution_count": 751,
     "metadata": {},
     "output_type": "execute_result"
    }
   ],
   "source": [
    "AU[AU['NOMBRE COMPLETO'].str.lower().str.contains('usuga')]"
   ]
  },
  {
   "cell_type": "code",
   "execution_count": null,
   "metadata": {},
   "outputs": [],
   "source": []
  },
  {
   "cell_type": "code",
   "execution_count": 758,
   "metadata": {},
   "outputs": [
    {
     "data": {
      "text/html": [
       "<div>\n",
       "<style scoped>\n",
       "    .dataframe tbody tr th:only-of-type {\n",
       "        vertical-align: middle;\n",
       "    }\n",
       "\n",
       "    .dataframe tbody tr th {\n",
       "        vertical-align: top;\n",
       "    }\n",
       "\n",
       "    .dataframe thead th {\n",
       "        text-align: right;\n",
       "    }\n",
       "</style>\n",
       "<table border=\"1\" class=\"dataframe\">\n",
       "  <thead>\n",
       "    <tr style=\"text-align: right;\">\n",
       "      <th></th>\n",
       "      <th>cedula</th>\n",
       "      <th>nombre</th>\n",
       "    </tr>\n",
       "  </thead>\n",
       "  <tbody>\n",
       "    <tr>\n",
       "      <th>392</th>\n",
       "      <td>43276372</td>\n",
       "      <td>USUGA MANCO OLGA CECILIA</td>\n",
       "    </tr>\n",
       "    <tr>\n",
       "      <th>487</th>\n",
       "      <td>43568255</td>\n",
       "      <td>JIMENEZ USUGA NORA DEL SOCORRO</td>\n",
       "    </tr>\n",
       "  </tbody>\n",
       "</table>\n",
       "</div>"
      ],
      "text/plain": [
       "       cedula                          nombre\n",
       "392  43276372        USUGA MANCO OLGA CECILIA\n",
       "487  43568255  JIMENEZ USUGA NORA DEL SOCORRO"
      ]
     },
     "execution_count": 758,
     "metadata": {},
     "output_type": "execute_result"
    }
   ],
   "source": [
    "AU_PTJ[AU_PTJ['nombre'].str.lower().str.contains('usuga')]"
   ]
  },
  {
   "cell_type": "code",
   "execution_count": 671,
   "metadata": {},
   "outputs": [
    {
     "data": {
      "text/html": [
       "<div>\n",
       "<style scoped>\n",
       "    .dataframe tbody tr th:only-of-type {\n",
       "        vertical-align: middle;\n",
       "    }\n",
       "\n",
       "    .dataframe tbody tr th {\n",
       "        vertical-align: top;\n",
       "    }\n",
       "\n",
       "    .dataframe thead th {\n",
       "        text-align: right;\n",
       "    }\n",
       "</style>\n",
       "<table border=\"1\" class=\"dataframe\">\n",
       "  <thead>\n",
       "    <tr style=\"text-align: right;\">\n",
       "      <th></th>\n",
       "      <th>cedula</th>\n",
       "      <th>nombre</th>\n",
       "    </tr>\n",
       "  </thead>\n",
       "  <tbody>\n",
       "    <tr>\n",
       "      <th>2199</th>\n",
       "      <td>22227944</td>\n",
       "      <td>MOLINA MARIN GLORIA DEL SOCORRO</td>\n",
       "    </tr>\n",
       "  </tbody>\n",
       "</table>\n",
       "</div>"
      ],
      "text/plain": [
       "        cedula                           nombre\n",
       "2199  22227944  MOLINA MARIN GLORIA DEL SOCORRO"
      ]
     },
     "execution_count": 671,
     "metadata": {},
     "output_type": "execute_result"
    }
   ],
   "source": [
    "AU_PTJ[AU_PTJ['cedula']==22227944]"
   ]
  },
  {
   "cell_type": "code",
   "execution_count": 529,
   "metadata": {},
   "outputs": [],
   "source": []
  },
  {
   "cell_type": "code",
   "execution_count": 530,
   "metadata": {},
   "outputs": [],
   "source": []
  },
  {
   "cell_type": "code",
   "execution_count": 527,
   "metadata": {},
   "outputs": [
    {
     "data": {
      "text/html": [
       "<div>\n",
       "<style scoped>\n",
       "    .dataframe tbody tr th:only-of-type {\n",
       "        vertical-align: middle;\n",
       "    }\n",
       "\n",
       "    .dataframe tbody tr th {\n",
       "        vertical-align: top;\n",
       "    }\n",
       "\n",
       "    .dataframe thead th {\n",
       "        text-align: right;\n",
       "    }\n",
       "</style>\n",
       "<table border=\"1\" class=\"dataframe\">\n",
       "  <thead>\n",
       "    <tr style=\"text-align: right;\">\n",
       "      <th></th>\n",
       "      <th>AB</th>\n",
       "      <th>AF</th>\n",
       "      <th>AR</th>\n",
       "      <th>AU</th>\n",
       "      <th>BA</th>\n",
       "      <th>BE</th>\n",
       "      <th>BF</th>\n",
       "      <th>BN</th>\n",
       "      <th>BP</th>\n",
       "      <th>C1</th>\n",
       "      <th>...</th>\n",
       "      <th>UDEA_tipo mat</th>\n",
       "      <th>UDEA_tipo mov</th>\n",
       "      <th>UDEA_título</th>\n",
       "      <th>UDEA_título_list</th>\n",
       "      <th>UDEA_valor item</th>\n",
       "      <th>UT</th>\n",
       "      <th>VL</th>\n",
       "      <th>WC</th>\n",
       "      <th>Z9</th>\n",
       "      <th>authors_WOS</th>\n",
       "    </tr>\n",
       "  </thead>\n",
       "  <tbody>\n",
       "  </tbody>\n",
       "</table>\n",
       "<p>0 rows × 181 columns</p>\n",
       "</div>"
      ],
      "text/plain": [
       "Empty DataFrame\n",
       "Columns: [AB, AF, AR, AU, BA, BE, BF, BN, BP, C1, CA, CL, CR, CT, CY, D2, DA, DE, DI, DT, EI, EM, EP, FU, FX, GA, GP, HO, ID, IS, J9, JI, LA, MA, NR, OA, OI, PA, PD, PG, PI, PM, PN, PT, PU, PY, RI, RP, SC, SCI_AB, SCI_AU, SCI_BP, SCI_C1, SCI_C2, SCI_CR, SCI_DE, SCI_DI, SCI_DT, SCI_EC, SCI_EM, SCI_EP, SCI_IS, SCI_LA, SCI_NR, SCI_OA, SCI_OI, SCI_PA, SCI_PD, SCI_PI, SCI_PT, SCI_PU, SCI_PY, SCI_RI, SCI_SC, SCI_SN, SCI_SO, SCI_TC, SCI_TI, SCI_Tipo, SCI_U1, SCI_U2, SCI_UT, SCI_VL, SCI_X1, SCI_X4, SCI_X5, SCI_Y1, SCI_Y4, SCI_Y5, SCI_Z1, SCI_Z4, SCI_Z5, SCI_Z9, SCP_Abbreviated Source Title, SCP_Abstract, SCP_Access Type, SCP_Affiliations, SCP_Art. No., SCP_Author Keywords, SCP_Authors, ...]\n",
       "Index: []\n",
       "\n",
       "[0 rows x 181 columns]"
      ]
     },
     "execution_count": 527,
     "metadata": {},
     "output_type": "execute_result"
    }
   ],
   "source": [
    "UDEA[UDEA['UDEA_authors'].apply(\n",
    "    lambda l: [d.get('CEDULA')==94226644 if d.get('CEDULA') else False \n",
    "               for d in l ] if l else [False]).apply(\n",
    "    lambda l: True in l\n",
    "                                                    )]"
   ]
  },
  {
   "cell_type": "code",
   "execution_count": 395,
   "metadata": {},
   "outputs": [
    {
     "data": {
      "text/plain": [
       "[['carmona-fonseca, jaime',\n",
       "  'carmona-fonseca, j.',\n",
       "  'carmona, j.',\n",
       "  'carmona fonseca, jaime',\n",
       "  'carmona fonseca, jaime',\n",
       "  'carmona-fonseca, jaime',\n",
       "  'carmona- fonseca, jaime',\n",
       "  'carmona, jaime'],\n",
       " ['uscategui, rosa m.',\n",
       "  'uscategui, rosa magdalena',\n",
       "  'uscategui, r. m.',\n",
       "  'magdalena uscategui, rosa']]"
      ]
     },
     "execution_count": 395,
     "metadata": {},
     "output_type": "execute_result"
    }
   ],
   "source": [
    "udea_list"
   ]
  },
  {
   "cell_type": "code",
   "execution_count": 413,
   "metadata": {},
   "outputs": [
    {
     "name": "stdout",
     "output_type": "stream",
     "text": [
      "('uscategui, rosa magdalena', 100)\n",
      "('uscategui, rosa magdalena', 100)\n"
     ]
    },
    {
     "data": {
      "text/plain": [
       "True"
      ]
     },
     "execution_count": 413,
     "metadata": {},
     "output_type": "execute_result"
    }
   ],
   "source": [
    "if not udea_list: Q=True\n",
    "for l in udea_list:\n",
    "    Q=False\n",
    "    for au in wos_list:\n",
    "        #Exact match\n",
    "        r=np.intersect1d( [au],l ).shape[0]\n",
    "        if r>0:\n",
    "            #l found!\n",
    "            Q=True\n",
    "            break\n",
    "        else:\n",
    "            #Similarity match\n",
    "            print(rr)\n",
    "            if rr[1]==100:\n",
    "                Q=True\n",
    "                break\n",
    "            print(rr)\n",
    "            if rr[1]==100:\n",
    "                Q=True\n",
    "                break\n",
    "                \n",
    "            Q=False\n",
    "if Q:\n",
    "    #return Q\n",
    "    pass\n",
    "Q"
   ]
  },
  {
   "cell_type": "code",
   "execution_count": 135,
   "metadata": {},
   "outputs": [],
   "source": [
    "if not Q:\n",
    "    for l in udea_list:\n",
    "        Q=False\n",
    "        for au in wos_list:\n",
    "            if r[1]==100:\n",
    "                Q=True\n",
    "if Q:\n",
    "    #return Q\n",
    "    pass\n",
    "Q                "
   ]
  },
  {
   "cell_type": "code",
   "execution_count": 87,
   "metadata": {},
   "outputs": [
    {
     "data": {
      "text/plain": [
       "1"
      ]
     },
     "execution_count": 87,
     "metadata": {},
     "output_type": "execute_result"
    }
   ],
   "source": [
    "np.intersect1d(['A'],['A']).shape[0]"
   ]
  },
  {
   "cell_type": "code",
   "execution_count": 53,
   "metadata": {},
   "outputs": [
    {
     "data": {
      "text/html": [
       "<div>\n",
       "<style scoped>\n",
       "    .dataframe tbody tr th:only-of-type {\n",
       "        vertical-align: middle;\n",
       "    }\n",
       "\n",
       "    .dataframe tbody tr th {\n",
       "        vertical-align: top;\n",
       "    }\n",
       "\n",
       "    .dataframe thead th {\n",
       "        text-align: right;\n",
       "    }\n",
       "</style>\n",
       "<table border=\"1\" class=\"dataframe\">\n",
       "  <thead>\n",
       "    <tr style=\"text-align: right;\">\n",
       "      <th></th>\n",
       "      <th>AB</th>\n",
       "      <th>AF</th>\n",
       "      <th>AR</th>\n",
       "      <th>AU</th>\n",
       "      <th>BA</th>\n",
       "      <th>BE</th>\n",
       "      <th>BF</th>\n",
       "      <th>BN</th>\n",
       "      <th>BP</th>\n",
       "      <th>C1</th>\n",
       "      <th>...</th>\n",
       "      <th>UDEA_tipo mat</th>\n",
       "      <th>UDEA_tipo mov</th>\n",
       "      <th>UDEA_título</th>\n",
       "      <th>UDEA_título_list</th>\n",
       "      <th>UDEA_valor item</th>\n",
       "      <th>UT</th>\n",
       "      <th>VL</th>\n",
       "      <th>WC</th>\n",
       "      <th>Z9</th>\n",
       "      <th>authors_WOS</th>\n",
       "    </tr>\n",
       "  </thead>\n",
       "  <tbody>\n",
       "    <tr>\n",
       "      <th>0</th>\n",
       "      <td>A new methodology for the evaluation of voltage sags and a decrease of the insufficiency found in some classification methodologies on literature are presented. To achieve this, the phasorial meth...</td>\n",
       "      <td>Garcia Quintero, Edwin\\nFuster Roig, Vicente\\n</td>\n",
       "      <td></td>\n",
       "      <td>Quintero, EG\\nRoig, VF\\n</td>\n",
       "      <td></td>\n",
       "      <td></td>\n",
       "      <td></td>\n",
       "      <td></td>\n",
       "      <td>196\\n</td>\n",
       "      <td>[Garcia Quintero, Edwin] Univ Antioquia, Dept Ingn Elect, Medellin, Colombia.\\nUniv Politecn Valencia, Dept Ingn Elect, E-46071 Valencia, Spain.\\n</td>\n",
       "      <td>...</td>\n",
       "      <td>ARTREVA1</td>\n",
       "      <td>NO</td>\n",
       "      <td>\"METODOLOGIA PARA LA EVALUACION DE HUECOS DE TENSION\" (METHODOLOGY FOR EVALUATION OF VOLTAGE SAGS)</td>\n",
       "      <td>[METODOLOGIA PARA LA EVALUACION DE HUECOS DE TENSION, METHODOLOGY FOR EVALUATION OF VOLTAGE SAGS]</td>\n",
       "      <td></td>\n",
       "      <td>WOS:000278425300019\\n</td>\n",
       "      <td></td>\n",
       "      <td>Engineering, Multidisciplinary\\n</td>\n",
       "      <td>0</td>\n",
       "      <td>[{'affiliation': ['Univ Antioquia, Dept Ingn Elect, Medellin, Colombia.'], 'WOS_author': 'Garcia Quintero, Edwin', 'i': 0}, {'affiliation': ['Univ Politecn Valencia, Dept Ingn Elect, E-46071 Valen...</td>\n",
       "    </tr>\n",
       "  </tbody>\n",
       "</table>\n",
       "<p>1 rows × 181 columns</p>\n",
       "</div>"
      ],
      "text/plain": [
       "                                                                                                                                                                                                        AB  \\\n",
       "0  A new methodology for the evaluation of voltage sags and a decrease of the insufficiency found in some classification methodologies on literature are presented. To achieve this, the phasorial meth...   \n",
       "\n",
       "                                               AF AR  \\\n",
       "0  Garcia Quintero, Edwin\\nFuster Roig, Vicente\\n      \n",
       "\n",
       "                         AU BA BE BF BN     BP  \\\n",
       "0  Quintero, EG\\nRoig, VF\\n              196\\n   \n",
       "\n",
       "                                                                                                                                                   C1  \\\n",
       "0  [Garcia Quintero, Edwin] Univ Antioquia, Dept Ingn Elect, Medellin, Colombia.\\nUniv Politecn Valencia, Dept Ingn Elect, E-46071 Valencia, Spain.\\n   \n",
       "\n",
       "   ... UDEA_tipo mat UDEA_tipo mov  \\\n",
       "0  ...      ARTREVA1            NO   \n",
       "\n",
       "                                                                                          UDEA_título  \\\n",
       "0  \"METODOLOGIA PARA LA EVALUACION DE HUECOS DE TENSION\" (METHODOLOGY FOR EVALUATION OF VOLTAGE SAGS)   \n",
       "\n",
       "                                                                                    UDEA_título_list  \\\n",
       "0  [METODOLOGIA PARA LA EVALUACION DE HUECOS DE TENSION, METHODOLOGY FOR EVALUATION OF VOLTAGE SAGS]   \n",
       "\n",
       "  UDEA_valor item                     UT VL                                WC  \\\n",
       "0                  WOS:000278425300019\\n     Engineering, Multidisciplinary\\n   \n",
       "\n",
       "  Z9  \\\n",
       "0  0   \n",
       "\n",
       "                                                                                                                                                                                               authors_WOS  \n",
       "0  [{'affiliation': ['Univ Antioquia, Dept Ingn Elect, Medellin, Colombia.'], 'WOS_author': 'Garcia Quintero, Edwin', 'i': 0}, {'affiliation': ['Univ Politecn Valencia, Dept Ingn Elect, E-46071 Valen...  \n",
       "\n",
       "[1 rows x 181 columns]"
      ]
     },
     "execution_count": 53,
     "metadata": {},
     "output_type": "execute_result"
    }
   ],
   "source": [
    "i=0\n",
    "UDEA.loc[[i]].apply(check_UDEA_authors)"
   ]
  },
  {
   "cell_type": "markdown",
   "metadata": {},
   "source": [
    "## Centros"
   ]
  },
  {
   "cell_type": "code",
   "execution_count": 151,
   "metadata": {},
   "outputs": [],
   "source": [
    "udea=UDEA.copy()"
   ]
  },
  {
   "cell_type": "code",
   "execution_count": 152,
   "metadata": {},
   "outputs": [],
   "source": [
    "def convert_dictionary_keys_of_list_of_dictionaries_to_column_dataframe(df,\n",
    "                            json_column='UDEA_authors',dictionary_key='FACULTAD',sep='; '):\n",
    "    return df[json_column].apply(lambda l:  \n",
    "       [d.get(dictionary_key) for d in  l if type(l)==list and d.get(dictionary_key) ]  \n",
    "               ).apply(\n",
    "        pd.np.unique\n",
    "        ).apply(sep.join)    "
   ]
  },
  {
   "cell_type": "code",
   "execution_count": 153,
   "metadata": {},
   "outputs": [],
   "source": [
    "JSON=True\n",
    "if not JSON:\n",
    "    udea['FACULTAD']=convert_dictionary_keys_of_list_of_dictionaries_to_column_dataframe(udea,\n",
    "                                            json_column='UDEA_authors',dictionary_key='FACULTAD')\n",
    "    udea['DEPARTAMENTO']=convert_dictionary_keys_of_list_of_dictionaries_to_column_dataframe(udea,\n",
    "                                            json_column='UDEA_authors',dictionary_key='DEPARTAMENTO')\n",
    "    udea['GRUPO']=convert_dictionary_keys_of_list_of_dictionaries_to_column_dataframe(udea,\n",
    "                                            json_column='UDEA_authors',dictionary_key='GRUPO')\n",
    "    udea['autores_UDEA']=convert_dictionary_keys_of_list_of_dictionaries_to_column_dataframe(udea,\n",
    "                                            json_column='UDEA_authors',dictionary_key='full_name')"
   ]
  },
  {
   "cell_type": "markdown",
   "metadata": {},
   "source": [
    "# Prepare columns"
   ]
  },
  {
   "cell_type": "code",
   "execution_count": 154,
   "metadata": {},
   "outputs": [],
   "source": [
    "def new_Autores(l,nombre='Nombres',tipo='Tipo',identificación='Identificación'):\n",
    "    dd={}\n",
    "    ll=[]\n",
    "    for d in l:\n",
    "        if d.get('NOMBRE COMPLETO'):\n",
    "            dd[nombre]=d['NOMBRE COMPLETO']\n",
    "            dd[tipo]='Profesor vinculado'\n",
    "        if d.get('CÉDULA'):\n",
    "            dd[identificación]=d['CÉDULA']\n",
    "        ll.append(dd)\n",
    "    return ll"
   ]
  },
  {
   "cell_type": "code",
   "execution_count": 155,
   "metadata": {},
   "outputs": [],
   "source": [
    "if JSON:\n",
    "    año='annio'; título='tituloArticulo'; revista='nombreRevista'\n",
    "    issn='issn'; doi='doi'; volumen='volumen'; número='numero'\n",
    "    páginas='paginas'; semestre='semestre'; idioma='idioma'\n",
    "    tipoRevista='tipoRevista';     Colciencias='clasificacionColciencias'\n",
    "    proyecto='proyectoAsociado'\n",
    "    autores='autores'\n",
    "else:\n",
    "    año='Año';   título='Título del Artículo'; revista='Nombre de la Revista'\n",
    "    issn='ISSN'; doi='DOI'; volumen='Volumen'; número='numero'\n",
    "    páginas='Páginas'; semestre='Semestre'; idioma='Idioma'\n",
    "    tipoRevista='Tipo de Revista'; Colciencias='Clasificación Colciencias'\n",
    "    proyecto='Producto asociado a un proyecto de extensión o investigación'\n",
    "    udea['Nombre del proyecto de extensión o investigación']=''\n",
    "    autores='Autores'\n",
    "    \n",
    "udea[título]=udea['TI']\n",
    "udea[revista]=udea['SO']\n",
    "udea[issn]=udea['SN'].str.replace('\\n','')\n",
    "udea[doi]=udea['DI']\n",
    "udea[volumen]=udea['VL'].str.replace('\\n','')\n",
    "udea[número]=udea['IS'].str.replace('\\n','')\n",
    "udea[páginas]=udea.apply(lambda row:\n",
    "                  row['BP'].replace('\\n','')+'-'+row['EP'].replace('\\n','') \n",
    "                  if row['BP'] \n",
    "                  else row['BP'],axis='columns').str.replace('\\-$','')\n",
    "udea[año]=udea['PY']\n",
    "udea[semestre]=None\n",
    "udea[idioma]=udea['LA'].str.replace('\\n','')\n",
    "udea[tipoRevista]=udea.apply(lambda row: 'Revista Internacional Indexada' \n",
    "           if row.get('Tipo').find('WOS')>-1 or row.get('Tipo').find('SCP')\n",
    "           else 'Revista Indexada en SCIELO',axis='columns')\n",
    "udea[Colciencias]=None\n",
    "udea[proyecto]=None\n"
   ]
  },
  {
   "cell_type": "code",
   "execution_count": 156,
   "metadata": {},
   "outputs": [],
   "source": [
    "udea[autores]=udea['UDEA_authors'].apply(new_Autores)"
   ]
  },
  {
   "cell_type": "code",
   "execution_count": 157,
   "metadata": {},
   "outputs": [],
   "source": [
    "udea_au=udea[udea[autores].apply(len)>0].reset_index(drop=True)"
   ]
  },
  {
   "cell_type": "code",
   "execution_count": 158,
   "metadata": {},
   "outputs": [
    {
     "data": {
      "text/plain": [
       "2018"
      ]
     },
     "execution_count": 158,
     "metadata": {},
     "output_type": "execute_result"
    }
   ],
   "source": [
    "udea.PY.max()"
   ]
  },
  {
   "cell_type": "code",
   "execution_count": 159,
   "metadata": {},
   "outputs": [],
   "source": [
    "f=open('example.json','w')\n",
    "f.write(\n",
    "'''\n",
    "[{\n",
    "  \"autores\" : [ \n",
    "      {\n",
    "          \"nombreAutor\" : \"Jonathan Aguilar Bedoya\",\n",
    "          \"identificacionAutor\" : null,\n",
    "          \"tipoAutor\" : \"Estudiante de posgrado\",\n",
    "          \"programaAcademico\" : [ \n",
    "              \"60178-MAESTRÍA EN INGENIERÍA MECÁNICA-INVESTIGACIÓN\"\n",
    "          ],\n",
    "          \"grupoInvestigacion\" : [ \n",
    "              \"Grupo de Energía Alternativa\"\n",
    "          ]\n",
    "      }, \n",
    "      {\n",
    "          \"nombreAutor\" : \"Ainhoa Rubio Celemente\",\n",
    "          \"tipoAutor\" : \"Autor externo\",\n",
    "          \"grupoInvestigacion\" : [ \n",
    "              \"Grupo de Energía Alternativa\"\n",
    "          ],\n",
    "          \"institucion\" : \"Tecnológico de Antioquia. Institución Universitaria\",\n",
    "          \"pais\" : \"Colombia\"\n",
    "      }, \n",
    "      {\n",
    "          \"nombreAutor\" : \"Laura Isable Velasquez Garcia\",\n",
    "          \"tipoAutor\" : \"Profesor ocasional\",\n",
    "          \"programaAcademico\" : [ \n",
    "              \"516-INGENIERÍA MECÁNICA\"\n",
    "          ],\n",
    "          \"grupoInvestigacion\" : [ \n",
    "              \"Grupo de Energía Alternativa\"\n",
    "          ]\n",
    "      }, \n",
    "      {\n",
    "          \"nombreAutor\" : \"Edwin Lenin Chica Arrieta\",\n",
    "          \"identificacionAutor\" : \"78761560\",\n",
    "          \"tipoAutor\" : \"Profesor vinculado\",\n",
    "          \"programaAcademico\" : [ \n",
    "              \"516-INGENIERÍA MECÁNICA\"\n",
    "          ],\n",
    "          \"grupoInvestigacion\" : [ \n",
    "              \"Grupo de Energía Alternativa\"\n",
    "          ]\n",
    "      }\n",
    "  ],\n",
    "  \"tituloArticulo\" : \"Design and Optimization of a Multi-Element Hydrofoil for a Horizontal-Axis Hydrokinetic Turbine\",\n",
    "  \"nombreRevista\" : \"Energies\",\n",
    "  \"issn\" : \"1996-1073\",\n",
    "  \"doi\" : \"10.3390/en12244679\",\n",
    "  \"volumen\" : 12,\n",
    "  \"numero\" : 24,\n",
    "  \"paginas\" : \"1-18\",\n",
    "  \"annio\" : 2019,\n",
    "  \"semestre\" : \"2019-2\",\n",
    "  \"idioma\" : \"Inglés\",\n",
    "  \"tipoRevista\" : \"Revista Internacional Indexada\",\n",
    "  \"clasificacionColciencias\" : \"A1\",\n",
    "  \"proyectoAsociado\" : null\n",
    "}\n",
    "]\n",
    "'''\n",
    ")\n",
    "f.close()"
   ]
  },
  {
   "cell_type": "code",
   "execution_count": 160,
   "metadata": {},
   "outputs": [],
   "source": [
    "if JSON:\n",
    "    new_format=pd.read_json( 'example.json' )\n",
    "else:\n",
    "    new_format=pd.read_excel('https://docs.google.com/spreadsheets/d/e/2PACX-1vTiaxuZSGmI-aFgMUVjRAU3ws7WN9xmtjMEWu_SLOd5kAq_ZAuUtJUVr8qxNl3sMcp_fjE2gLVt_tdp/pub?output=xlsx')"
   ]
  },
  {
   "cell_type": "code",
   "execution_count": 161,
   "metadata": {},
   "outputs": [],
   "source": [
    "audea=udea_au[list(new_format.columns)]\n",
    "#.to_excel('UDEA_2018.xlsx',index=False)"
   ]
  },
  {
   "cell_type": "code",
   "execution_count": 162,
   "metadata": {},
   "outputs": [
    {
     "data": {
      "text/plain": [
       "(12270, 14)"
      ]
     },
     "execution_count": 162,
     "metadata": {},
     "output_type": "execute_result"
    }
   ],
   "source": [
    "audea.shape"
   ]
  },
  {
   "cell_type": "markdown",
   "metadata": {},
   "source": [
    "# NOTA\n",
    "Se ha añadido \n",
    "* `'Facultad'`\n",
    "* y `'afiliacionWOS'` cuando no se conoce el departamento"
   ]
  },
  {
   "cell_type": "code",
   "execution_count": 372,
   "metadata": {},
   "outputs": [],
   "source": [
    "kk=pd.DataFrame()\n",
    "kk['NOMBRE COMPLETO']=UDEA['UDEA_authors'].apply(lambda l: [d.get('NOMBRE COMPLETO') for d in l if not d.get('CÉDULA')]\n",
    "                          ).apply(lambda l: l[0] if l else None).dropna().reset_index(drop=True)"
   ]
  },
  {
   "cell_type": "code",
   "execution_count": 373,
   "metadata": {},
   "outputs": [
    {
     "data": {
      "text/html": [
       "<div>\n",
       "<style scoped>\n",
       "    .dataframe tbody tr th:only-of-type {\n",
       "        vertical-align: middle;\n",
       "    }\n",
       "\n",
       "    .dataframe tbody tr th {\n",
       "        vertical-align: top;\n",
       "    }\n",
       "\n",
       "    .dataframe thead th {\n",
       "        text-align: right;\n",
       "    }\n",
       "</style>\n",
       "<table border=\"1\" class=\"dataframe\">\n",
       "  <thead>\n",
       "    <tr style=\"text-align: right;\">\n",
       "      <th></th>\n",
       "      <th>NOMBRE COMPLETO</th>\n",
       "      <th>CÉDULA</th>\n",
       "      <th>DEPARTAMENTO</th>\n",
       "      <th>FACULTAD</th>\n",
       "      <th>GRUPO</th>\n",
       "      <th>NOMBRES</th>\n",
       "      <th>PRIMER APELLIDO</th>\n",
       "      <th>SEGUNDO APELLIDO</th>\n",
       "    </tr>\n",
       "  </thead>\n",
       "  <tbody>\n",
       "  </tbody>\n",
       "</table>\n",
       "</div>"
      ],
      "text/plain": [
       "Empty DataFrame\n",
       "Columns: [NOMBRE COMPLETO, CÉDULA, DEPARTAMENTO, FACULTAD, GRUPO, NOMBRES, PRIMER APELLIDO, SEGUNDO APELLIDO]\n",
       "Index: []"
      ]
     },
     "execution_count": 373,
     "metadata": {},
     "output_type": "execute_result"
    }
   ],
   "source": [
    "kk.merge(AU,on='NOMBRE COMPLETO',how='left').dropna()"
   ]
  },
  {
   "cell_type": "code",
   "execution_count": 330,
   "metadata": {},
   "outputs": [
    {
     "data": {
      "text/plain": [
       "71260216"
      ]
     },
     "execution_count": 330,
     "metadata": {},
     "output_type": "execute_result"
    }
   ],
   "source": [
    "AU[AU['NOMBRE COMPLETO'].str.contains('Ocho')].reset_index(drop=True).loc[0,'CÉDULA']"
   ]
  },
  {
   "cell_type": "code",
   "execution_count": 356,
   "metadata": {},
   "outputs": [
    {
     "data": {
      "text/plain": [
       "False"
      ]
     },
     "execution_count": 356,
     "metadata": {},
     "output_type": "execute_result"
    }
   ],
   "source": [
    "d={'NOMBRE COMPLETO':'Elena Valentina Gutierrez Gutierrez','CÉDULA':29126775}\n",
    "au=AU[AU['NOMBRE COMPLETO']==d.get('NOMBRE COMPLETO')].reset_index(drop=True).loc[0]\n",
    "au.empty"
   ]
  },
  {
   "cell_type": "code",
   "execution_count": 362,
   "metadata": {},
   "outputs": [
    {
     "data": {
      "text/plain": [
       "'E. V.'"
      ]
     },
     "execution_count": 362,
     "metadata": {},
     "output_type": "execute_result"
    }
   ],
   "source": [
    "s='Elena Valentina'\n"
   ]
  },
  {
   "cell_type": "code",
   "execution_count": 163,
   "metadata": {},
   "outputs": [],
   "source": [
    "def new_Autores(l,AU=AU,\n",
    "                nombre='nombreAutor',#str \n",
    "                tipo='tipoAutor',\n",
    "                identificación='identificacionAutor',\n",
    "                facultad='facultad',#str\n",
    "                departamento='departamento',#list\n",
    "                grupo='grupoInvestigacion',#list\n",
    "                institución='institucion'#str\n",
    "               ):\n",
    "    '''\n",
    "    AU: Data Frame with author info\n",
    "    Added Facultad y afiliacion WOS\n",
    "    '''\n",
    "    dd={}\n",
    "    ll=[]\n",
    "    for d in l:\n",
    "        if d.get('CÉDULA'):\n",
    "            au=AU[AU['CÉDULA']==int(d.get('CÉDULA'))].reset_index(drop=True)\n",
    "            if not au.empty:\n",
    "                dd[nombre]=au.loc[0,'NOMBRE COMPLETO']\n",
    "                dd[tipo]='Profesor vinculado'\n",
    "                dd[identificación]=au.loc[0,'CÉDULA']\n",
    "                dd[facultad]=au.loc[0,'FACULTAD']\n",
    "                dd[departamento]=[au.loc[0,'DEPARTAMENTO']]\n",
    "                dd[grupo]=[au.loc[0,'GRUPO']]\n",
    "                dd[institución]='Universidad de Antioquia'\n",
    "                try:\n",
    "                    dd['afiliacionWOS']=d.get('WOS_affiliation')[0]\n",
    "                except:\n",
    "                    pass\n",
    "            else:\n",
    "                if d.get('NOMBRE COMPLETO'):\n",
    "                    dd[nombre]=d['NOMBRE COMPLETO']\n",
    "                    dd[tipo]='Profesor vinculado'\n",
    "                if d.get('CÉDULA'):\n",
    "                    dd[identificación]=d['CÉDULA']\n",
    "                    dd[institución]='Universidad de Antioquia'\n",
    "                    try:\n",
    "                        dd['afiliacionWOS']=d.get('WOS_affiliation')[0]\n",
    "                    except:\n",
    "                        pass\n",
    "                else:\n",
    "                    dd[identificación]=None\n",
    "        ll.append(dd)\n",
    "        dd={}\n",
    "    return ll"
   ]
  },
  {
   "cell_type": "code",
   "execution_count": 164,
   "metadata": {},
   "outputs": [
    {
     "name": "stderr",
     "output_type": "stream",
     "text": [
      "/usr/local/lib/python3.5/dist-packages/ipykernel_launcher.py:1: SettingWithCopyWarning: \n",
      "A value is trying to be set on a copy of a slice from a DataFrame.\n",
      "Try using .loc[row_indexer,col_indexer] = value instead\n",
      "\n",
      "See the caveats in the documentation: http://pandas.pydata.org/pandas-docs/stable/indexing.html#indexing-view-versus-copy\n",
      "  \"\"\"Entry point for launching an IPython kernel.\n"
     ]
    }
   ],
   "source": [
    "audea[autores]=udea['UDEA_authors'].apply(new_Autores)"
   ]
  },
  {
   "cell_type": "code",
   "execution_count": 39,
   "metadata": {},
   "outputs": [
    {
     "data": {
      "text/plain": [
       "[{'Identificación': 32508663,\n",
       "  'Nombres': 'Del Consuelo Montes Ramirez',\n",
       "  'Tipo': 'Profesor vinculado'}]"
      ]
     },
     "execution_count": 39,
     "metadata": {},
     "output_type": "execute_result"
    }
   ],
   "source": [
    "udea[autores].loc[1]"
   ]
  },
  {
   "cell_type": "markdown",
   "metadata": {},
   "source": [
    "TODO:\n",
    "* Adiciones `WOS_athors` to `UDEA_authors`\n",
    "  1. partial ratio on last names -> 100\n",
    "  1. partial ratio on initials  "
   ]
  },
  {
   "cell_type": "code",
   "execution_count": 781,
   "metadata": {},
   "outputs": [
    {
     "data": {
      "text/plain": [
       "[{'WOS_author': 'Grisales F, Lina María',\n",
       "  'affiliation': ['Univ Antioquia, Colombia.'],\n",
       "  'i': 0},\n",
       " {'WOS_author': 'Giraldo G, Libardo Antonio',\n",
       "  'affiliation': ['Univ Antioquia, Colombia.'],\n",
       "  'i': 1}]"
      ]
     },
     "execution_count": 781,
     "metadata": {},
     "output_type": "execute_result"
    }
   ],
   "source": [
    "[{'WOS_author': 'Grisales F, Lina María',\n",
    "  'affiliation': ['Univ Antioquia, Colombia.'],\n",
    "  'i': 0},\n",
    " {'WOS_author': 'Giraldo G, Libardo Antonio',\n",
    "  'affiliation': ['Univ Antioquia, Colombia.'],\n",
    "  'i': 1}]"
   ]
  },
  {
   "cell_type": "code",
   "execution_count": 783,
   "metadata": {},
   "outputs": [
    {
     "data": {
      "text/plain": [
       "[{'INICIALES': 'L. A.',\n",
       "  'NOMBRE COMPLETO': 'Libardo Antonio Giraldo Gaviria',\n",
       "  'NOMBRES': 'Libardo Antonio',\n",
       "  'PRIMER APELLIDO': 'Giraldo',\n",
       "  'SEGUNDO APELLIDO': 'Gaviria',\n",
       "  'full_name': 'GIRALDO GAVIRIA LIBARDO ANTONIO'}]"
      ]
     },
     "execution_count": 783,
     "metadata": {},
     "output_type": "execute_result"
    }
   ],
   "source": [
    "[{'INICIALES': 'L. A.',\n",
    "  'NOMBRE COMPLETO': 'Libardo Antonio Giraldo Gaviria',\n",
    "  'NOMBRES': 'Libardo Antonio',\n",
    "  'PRIMER APELLIDO': 'Giraldo',\n",
    "  'SEGUNDO APELLIDO': 'Gaviria',\n",
    "  'full_name': 'GIRALDO GAVIRIA LIBARDO ANTONIO'}]"
   ]
  },
  {
   "cell_type": "code",
   "execution_count": 784,
   "metadata": {},
   "outputs": [
    {
     "data": {
      "text/plain": [
       "[{'CÉDULA': 18927154.0,\n",
       "  'DEPARTAMENTO': 'Departamento de Ingeniería Eléctrica',\n",
       "  'FACULTAD': 'Facultad de Ingeniería',\n",
       "  'GRUPO': 'Grupo de Investigación en Materiales y Sistemas Energéticos TESLA',\n",
       "  'INICIALES': 'E.',\n",
       "  'NOMBRE COMPLETO': 'Edwin Garcia Quintero',\n",
       "  'NOMBRES': 'Edwin',\n",
       "  'PRIMER APELLIDO': 'Garcia',\n",
       "  'SEGUNDO APELLIDO': 'Quintero',\n",
       "  'WOS_affiliation': ['Univ Antioquia, Dept Ingn Elect, Medellin, Colombia.',\n",
       "   'Univ Antioquia, Colombia.',\n",
       "   'Department of Electrical Engineering, Univ Antioquia, Colombia'],\n",
       "  'WOS_author': ['Garcia Quintero, Edwin',\n",
       "   'Garcia-Quintero, E.',\n",
       "   'Garcia-Quintero, Edwin',\n",
       "   'Garcia, Edwin'],\n",
       "  'full_name': 'GARCIA QUINTERO EDWIN'}]"
      ]
     },
     "execution_count": 784,
     "metadata": {},
     "output_type": "execute_result"
    }
   ],
   "source": [
    "[{'CÉDULA': 18927154.0,\n",
    "  'DEPARTAMENTO': 'Departamento de Ingeniería Eléctrica',\n",
    "  'FACULTAD': 'Facultad de Ingeniería',\n",
    "  'GRUPO': 'Grupo de Investigación en Materiales y Sistemas Energéticos TESLA',\n",
    "  'INICIALES': 'E.',\n",
    "  'NOMBRE COMPLETO': 'Edwin Garcia Quintero',\n",
    "  'NOMBRES': 'Edwin',\n",
    "  'PRIMER APELLIDO': 'Garcia',\n",
    "  'SEGUNDO APELLIDO': 'Quintero',\n",
    "  'WOS_affiliation': ['Univ Antioquia, Dept Ingn Elect, Medellin, Colombia.',\n",
    "   'Univ Antioquia, Colombia.',\n",
    "   'Department of Electrical Engineering, Univ Antioquia, Colombia'],\n",
    "  'WOS_author': ['Garcia Quintero, Edwin',\n",
    "   'Garcia-Quintero, E.',\n",
    "   'Garcia-Quintero, Edwin',\n",
    "   'Garcia, Edwin'],\n",
    "  'full_name': 'GARCIA QUINTERO EDWIN'}]"
   ]
  },
  {
   "cell_type": "code",
   "execution_count": 236,
   "metadata": {},
   "outputs": [
    {
     "ename": "IndentationError",
     "evalue": "expected an indented block (<ipython-input-236-656bed09c844>, line 16)",
     "output_type": "error",
     "traceback": [
      "\u001b[0;36m  File \u001b[0;32m\"<ipython-input-236-656bed09c844>\"\u001b[0;36m, line \u001b[0;32m16\u001b[0m\n\u001b[0;31m    udea_ln =[ unidecode.unidecode(\u001b[0m\n\u001b[0m    ^\u001b[0m\n\u001b[0;31mIndentationError\u001b[0m\u001b[0;31m:\u001b[0m expected an indented block\n"
     ]
    }
   ],
   "source": [
    "    wos_list =[ unidecode.unidecode( \n",
    "                  d.get('WOS_author').lower())  \n",
    "                  for d in row.get('authors_WOS')]\n",
    "    wos_aff  =[ d.get('affiliation') for d in row.get('authors_WOS')]    \n",
    "    l=row.get('UDEA_authors')\n",
    "    ll=row.get('authors_WOS')\n",
    "    if ll:\n",
    "        ll=pd.DataFrame(ll)\n",
    "    else:\n",
    "        ll=pd.DataFrame()\n",
    "    for i in range(len(l)):\n",
    "        if not l[i].get('WOS_author'):\n",
    "            \n",
    "\n",
    "    udea_ln =[ unidecode.unidecode( \n",
    "                 d.get('PRIMER APELLIDO').lower())  for d in row.get('UDEA_authors')]\n",
    "    udea_n  =[ unidecode.unidecode( \n",
    "                 d.get('NOMBRES').lower())  for d in row.get('UDEA_authors')]\n",
    "    udea_in =[ unidecode.unidecode( \n",
    "                 d.get('INICIALES').lower())  for d in row.get('UDEA_authors')]\n",
    "    print(wos_list)\n",
    "    print(udea_ln)"
   ]
  },
  {
   "cell_type": "code",
   "execution_count": 851,
   "metadata": {},
   "outputs": [
    {
     "data": {
      "text/plain": [
       "[{'WOS_author': 'Garcia Quintero, Edwin',\n",
       "  'affiliation': ['Univ Antioquia, Dept Ingn Elect, Medellin, Colombia.'],\n",
       "  'i': 0},\n",
       " {'WOS_author': 'Roig, VF',\n",
       "  'affiliation': ['Univ Politecn Valencia, Dept Ingn Elect, E-46071 Valencia, Spain.']}]"
      ]
     },
     "execution_count": 851,
     "metadata": {},
     "output_type": "execute_result"
    }
   ],
   "source": [
    "UDEA['authors_WOS'].loc[0]"
   ]
  },
  {
   "cell_type": "code",
   "execution_count": 852,
   "metadata": {},
   "outputs": [
    {
     "data": {
      "text/plain": [
       "[{'CÉDULA': 18927154.0,\n",
       "  'DEPARTAMENTO': 'Departamento de Ingeniería Eléctrica',\n",
       "  'FACULTAD': 'Facultad de Ingeniería',\n",
       "  'GRUPO': 'Grupo de Investigación en Materiales y Sistemas Energéticos TESLA',\n",
       "  'INICIALES': 'E.',\n",
       "  'NOMBRE COMPLETO': 'Edwin Garcia Quintero',\n",
       "  'NOMBRES': 'Edwin',\n",
       "  'PRIMER APELLIDO': 'Garcia',\n",
       "  'SEGUNDO APELLIDO': 'Quintero',\n",
       "  'WOS_affiliation': ['Univ Antioquia, Dept Ingn Elect, Medellin, Colombia.',\n",
       "   'Univ Antioquia, Colombia.',\n",
       "   'Department of Electrical Engineering, Univ Antioquia, Colombia'],\n",
       "  'WOS_author': ['Garcia Quintero, Edwin',\n",
       "   'Garcia-Quintero, E.',\n",
       "   'Garcia-Quintero, Edwin',\n",
       "   'Garcia, Edwin'],\n",
       "  'full_name': 'GARCIA QUINTERO EDWIN'}]"
      ]
     },
     "execution_count": 852,
     "metadata": {},
     "output_type": "execute_result"
    }
   ],
   "source": [
    "UDEA['UDEA_authors'].loc[0]"
   ]
  },
  {
   "cell_type": "code",
   "execution_count": 946,
   "metadata": {},
   "outputs": [],
   "source": [
    "l=[{'INICIALES': 'L. A.',\n",
    "  'NOMBRE COMPLETO': 'Libardo Antonio Giraldo Gaviria',\n",
    "  'NOMBRES': 'Libardo Antonio',\n",
    "  'PRIMER APELLIDO': 'Giraldo',\n",
    "  'SEGUNDO APELLIDO': 'Gaviria',\n",
    "  'full_name': 'GIRALDO GAVIRIA LIBARDO ANTONIO'},\n",
    " {'CÉDULA': 43746089,\n",
    "  'INICIALES': 'L. M.',\n",
    "  'NOMBRE COMPLETO': 'Lina Maria Grisales Franco',\n",
    "  'NOMBRES': 'Lina Maria',\n",
    "  'PRIMER APELLIDO': 'Grisales',\n",
    "  'SEGUNDO APELLIDO': 'Franco',\n",
    "  'full_name': 'GRISALES FRANCO LINA MARIA'}]\n"
   ]
  },
  {
   "cell_type": "code",
   "execution_count": 947,
   "metadata": {},
   "outputs": [],
   "source": [
    "lll=[{'WOS_author': 'Grisales F, María',\n",
    "  'affiliation': ['Univ Antioquia, Colombia.'],\n",
    "  'i': 0},\n",
    " {'WOS_author': 'Giraldo G, Libardo Antonio',\n",
    "  'affiliation': ['Univ Antioquia, Colombia.'],\n",
    "  'i': 1}]"
   ]
  },
  {
   "cell_type": "code",
   "execution_count": 45,
   "metadata": {},
   "outputs": [
    {
     "data": {
      "text/plain": [
       "[{'INICIALES': 'M.',\n",
       "  'NOMBRE COMPLETO': 'Michael Hess',\n",
       "  'NOMBRES': 'Michael',\n",
       "  'PRIMER APELLIDO': 'Hess',\n",
       "  'SEGUNDO APELLIDO': '',\n",
       "  'full_name': 'HESS MICHAEL'}]"
      ]
     },
     "execution_count": 45,
     "metadata": {},
     "output_type": "execute_result"
    }
   ],
   "source": [
    "i=5742\n",
    "l=UDEA['UDEA_authors'].loc[i]\n",
    "l"
   ]
  },
  {
   "cell_type": "code",
   "execution_count": 46,
   "metadata": {},
   "outputs": [
    {
     "data": {
      "text/plain": [
       "['Michael Hess']"
      ]
     },
     "execution_count": 46,
     "metadata": {},
     "output_type": "execute_result"
    }
   ],
   "source": [
    "[ d.get('NOMBRE COMPLETO') for d in l]"
   ]
  },
  {
   "cell_type": "code",
   "execution_count": 47,
   "metadata": {},
   "outputs": [],
   "source": [
    "lll=UDEA['authors_WOS'].loc[i]\n",
    "ll=pd.DataFrame(lll)"
   ]
  },
  {
   "cell_type": "code",
   "execution_count": 48,
   "metadata": {},
   "outputs": [
    {
     "data": {
      "text/html": [
       "<div>\n",
       "<style scoped>\n",
       "    .dataframe tbody tr th:only-of-type {\n",
       "        vertical-align: middle;\n",
       "    }\n",
       "\n",
       "    .dataframe tbody tr th {\n",
       "        vertical-align: top;\n",
       "    }\n",
       "\n",
       "    .dataframe thead th {\n",
       "        text-align: right;\n",
       "    }\n",
       "</style>\n",
       "<table border=\"1\" class=\"dataframe\">\n",
       "  <thead>\n",
       "    <tr style=\"text-align: right;\">\n",
       "      <th></th>\n",
       "      <th>WOS_author</th>\n",
       "      <th>affiliation</th>\n",
       "    </tr>\n",
       "  </thead>\n",
       "  <tbody>\n",
       "    <tr>\n",
       "      <th>0</th>\n",
       "      <td>Mejia, AI</td>\n",
       "      <td>[Univ Antioquia, Fac Ciencias Exactas &amp; Nat, Dept Quim, Lab Invest Polimeros, AA-1226 Medellin, Colombia.]</td>\n",
       "    </tr>\n",
       "    <tr>\n",
       "      <th>1</th>\n",
       "      <td>Lopez, BL</td>\n",
       "      <td>[Univ Antioquia, Fac Quim Farmaceut, Dept Farm, AA-1226 Medellin, Colombia.]</td>\n",
       "    </tr>\n",
       "    <tr>\n",
       "      <th>2</th>\n",
       "      <td>Mulet, A</td>\n",
       "      <td>[Univ Politecn Valencia, Dept Tecnol Alimentos, E-46071 Valencia, Spain.]</td>\n",
       "    </tr>\n",
       "  </tbody>\n",
       "</table>\n",
       "</div>"
      ],
      "text/plain": [
       "  WOS_author  \\\n",
       "0  Mejia, AI   \n",
       "1  Lopez, BL   \n",
       "2   Mulet, A   \n",
       "\n",
       "                                                                                                  affiliation  \n",
       "0  [Univ Antioquia, Fac Ciencias Exactas & Nat, Dept Quim, Lab Invest Polimeros, AA-1226 Medellin, Colombia.]  \n",
       "1                                [Univ Antioquia, Fac Quim Farmaceut, Dept Farm, AA-1226 Medellin, Colombia.]  \n",
       "2                                   [Univ Politecn Valencia, Dept Tecnol Alimentos, E-46071 Valencia, Spain.]  "
      ]
     },
     "execution_count": 48,
     "metadata": {},
     "output_type": "execute_result"
    }
   ],
   "source": [
    "ll"
   ]
  },
  {
   "cell_type": "code",
   "execution_count": 1102,
   "metadata": {},
   "outputs": [
    {
     "data": {
      "text/plain": [
       "True"
      ]
     },
     "execution_count": 1102,
     "metadata": {},
     "output_type": "execute_result"
    }
   ],
   "source": [
    "df=ll\n",
    "'WOS_author' in df.columns"
   ]
  },
  {
   "cell_type": "code",
   "execution_count": 1103,
   "metadata": {},
   "outputs": [
    {
     "name": "stdout",
     "output_type": "stream",
     "text": [
      "i: 0\n",
      "('mejia', 25, 0)\n",
      "m\n",
      "[('ai', 0, 0), ('bl', 0, 1), ('a', 0, 2)]\n",
      "m\n",
      "[('ai', 0, 0), ('bl', 0, 1), ('a', 0, 2)]\n",
      "[('ai', 0, 0), ('bl', 0, 1), ('a', 0, 2)]\n"
     ]
    }
   ],
   "source": [
    "for i in range(1):\n",
    "     l,i,ll,j=compare_names(l,i,ll,j,DEBUG=True)   "
   ]
  },
  {
   "cell_type": "code",
   "execution_count": 1104,
   "metadata": {},
   "outputs": [
    {
     "data": {
      "text/plain": [
       "[{'INICIALES': 'M.',\n",
       "  'NOMBRE COMPLETO': 'Michael Hess',\n",
       "  'NOMBRES': 'Michael',\n",
       "  'PRIMER APELLIDO': 'Hess',\n",
       "  'SEGUNDO APELLIDO': '',\n",
       "  'full_name': 'HESS MICHAEL'}]"
      ]
     },
     "execution_count": 1104,
     "metadata": {},
     "output_type": "execute_result"
    }
   ],
   "source": [
    "l"
   ]
  },
  {
   "cell_type": "code",
   "execution_count": 893,
   "metadata": {},
   "outputs": [
    {
     "data": {
      "text/plain": [
       "('n.', 100)"
      ]
     },
     "execution_count": 893,
     "metadata": {},
     "output_type": "execute_result"
    }
   ],
   "source": [
    "process.extractOne( 'lia',['n.'],scorer=fuzz.partial_ratio)"
   ]
  },
  {
   "cell_type": "code",
   "execution_count": 904,
   "metadata": {},
   "outputs": [
    {
     "data": {
      "text/plain": [
       "1    libardo antonio\n",
       "Name: WOS_author, dtype: object"
      ]
     },
     "execution_count": 904,
     "metadata": {},
     "output_type": "execute_result"
    }
   ],
   "source": []
  },
  {
   "cell_type": "code",
   "execution_count": 887,
   "metadata": {},
   "outputs": [
    {
     "data": {
      "text/plain": [
       "('n.', 100, 0)"
      ]
     },
     "execution_count": 887,
     "metadata": {},
     "output_type": "execute_result"
    }
   ],
   "source": [
    "process.extractOne( unidecode.unidecode( l[i].get('NOMBRES').lower().split(' ')[0] )\n",
    "                       ,  ll['WOS_author'].str.lower().apply(unidecode.unidecode).str.split(', ').str[-1],scorer=fuzz.partial_ratio )"
   ]
  },
  {
   "cell_type": "code",
   "execution_count": 885,
   "metadata": {},
   "outputs": [
    {
     "data": {
      "text/plain": [
       "0                 n.\n",
       "1    libardo antonio\n",
       "Name: WOS_author, dtype: object"
      ]
     },
     "execution_count": 885,
     "metadata": {},
     "output_type": "execute_result"
    }
   ],
   "source": [
    "ll['WOS_author'].str.lower().apply(unidecode.unidecode).str.split(', ').str[-1]"
   ]
  },
  {
   "cell_type": "code",
   "execution_count": 953,
   "metadata": {},
   "outputs": [
    {
     "data": {
      "text/plain": [
       "13074    [{'NOMBRES': 'Libardo Antonio', 'SEGUNDO APELLIDO': 'Gaviria', 'UDEA_affiliation': ['Univ Antioquia, Colombia.'], 'WOS_author': ['Giraldo G, Libardo Antonio'], 'full_name': 'GIRALDO GAVIRIA LIBARD...\n",
       "dtype: object"
      ]
     },
     "execution_count": 953,
     "metadata": {},
     "output_type": "execute_result"
    }
   ],
   "source": [
    "i=13074\n",
    "UDEA.loc[[i]].apply(missing_wos_authors_in_udea_authors,axis='columns')"
   ]
  },
  {
   "cell_type": "code",
   "execution_count": 274,
   "metadata": {},
   "outputs": [],
   "source": [
    "kk=UDEA.loc[[53]]"
   ]
  },
  {
   "cell_type": "code",
   "execution_count": 277,
   "metadata": {},
   "outputs": [
    {
     "data": {
      "text/plain": [
       "53    4\n",
       "Name: UDEA_authors, dtype: int64"
      ]
     },
     "execution_count": 277,
     "metadata": {},
     "output_type": "execute_result"
    }
   ],
   "source": [
    "kk['UDEA_authors'].apply(len)"
   ]
  },
  {
   "cell_type": "code",
   "execution_count": 278,
   "metadata": {},
   "outputs": [
    {
     "data": {
      "text/plain": [
       "53    2\n",
       "Name: authors_WOS, dtype: int64"
      ]
     },
     "execution_count": 278,
     "metadata": {},
     "output_type": "execute_result"
    }
   ],
   "source": [
    "kk['authors_WOS'].apply(len)"
   ]
  },
  {
   "cell_type": "code",
   "execution_count": 592,
   "metadata": {},
   "outputs": [
    {
     "data": {
      "text/plain": [
       "53"
      ]
     },
     "execution_count": 592,
     "metadata": {},
     "output_type": "execute_result"
    }
   ],
   "source": [
    "fuzz.token_sort_ratio(row['AU'][i], auwos[j] )"
   ]
  },
  {
   "cell_type": "code",
   "execution_count": null,
   "metadata": {},
   "outputs": [],
   "source": []
  },
  {
   "cell_type": "code",
   "execution_count": null,
   "metadata": {},
   "outputs": [],
   "source": [
    "fuzz."
   ]
  },
  {
   "cell_type": "code",
   "execution_count": 549,
   "metadata": {},
   "outputs": [
    {
     "data": {
      "text/plain": [
       "\u001b[0;31mSignature:\u001b[0m \u001b[0mfuzz\u001b[0m\u001b[0;34m.\u001b[0m\u001b[0mtoken_set_ratio\u001b[0m\u001b[0;34m(\u001b[0m\u001b[0ms1\u001b[0m\u001b[0;34m,\u001b[0m \u001b[0ms2\u001b[0m\u001b[0;34m,\u001b[0m \u001b[0mforce_ascii\u001b[0m\u001b[0;34m=\u001b[0m\u001b[0;32mTrue\u001b[0m\u001b[0;34m,\u001b[0m \u001b[0mfull_process\u001b[0m\u001b[0;34m=\u001b[0m\u001b[0;32mTrue\u001b[0m\u001b[0;34m)\u001b[0m\u001b[0;34m\u001b[0m\u001b[0m\n",
       "\u001b[0;31mDocstring:\u001b[0m <no docstring>\n",
       "\u001b[0;31mFile:\u001b[0m      /usr/local/lib/python3.5/dist-packages/fuzzywuzzy/fuzz.py\n",
       "\u001b[0;31mType:\u001b[0m      function\n"
      ]
     },
     "metadata": {},
     "output_type": "display_data"
    }
   ],
   "source": [
    "fuzz.token_set_ratio?"
   ]
  },
  {
   "cell_type": "code",
   "execution_count": null,
   "metadata": {},
   "outputs": [],
   "source": [
    "fuzz add_missing_authors_WOS(row):\n",
    "    if len(row['AU'])>len(row['authors_WOS']):\n",
    "        "
   ]
  },
  {
   "cell_type": "code",
   "execution_count": 433,
   "metadata": {},
   "outputs": [
    {
     "data": {
      "text/plain": [
       "0        False\n",
       "1        False\n",
       "2         True\n",
       "3         True\n",
       "4        False\n",
       "5        False\n",
       "6         True\n",
       "7         True\n",
       "8         True\n",
       "9         True\n",
       "10        True\n",
       "11        True\n",
       "12        True\n",
       "13        True\n",
       "14        True\n",
       "15        True\n",
       "16        True\n",
       "17        True\n",
       "18       False\n",
       "19        True\n",
       "20       False\n",
       "21       False\n",
       "22       False\n",
       "23        True\n",
       "24        True\n",
       "25       False\n",
       "26       False\n",
       "27       False\n",
       "28        True\n",
       "29        True\n",
       "         ...  \n",
       "15614    False\n",
       "15615    False\n",
       "15616    False\n",
       "15617     True\n",
       "15618    False\n",
       "15619    False\n",
       "15620     True\n",
       "15621    False\n",
       "15622    False\n",
       "15623    False\n",
       "15624    False\n",
       "15625     True\n",
       "15626     True\n",
       "15627    False\n",
       "15628    False\n",
       "15629     True\n",
       "15630    False\n",
       "15631    False\n",
       "15632    False\n",
       "15633    False\n",
       "15634    False\n",
       "15635     True\n",
       "15636    False\n",
       "15637    False\n",
       "15638    False\n",
       "15639    False\n",
       "15640    False\n",
       "15641    False\n",
       "15642    False\n",
       "15643    False\n",
       "Length: 15644, dtype: bool"
      ]
     },
     "execution_count": 433,
     "metadata": {},
     "output_type": "execute_result"
    }
   ],
   "source": [
    "UDEA['AU'].str.strip().str.split('\\n').apply(len)==UDEA['authors_WOS'].apply(len)"
   ]
  },
  {
   "cell_type": "code",
   "execution_count": null,
   "metadata": {},
   "outputs": [],
   "source": []
  },
  {
   "cell_type": "code",
   "execution_count": 287,
   "metadata": {},
   "outputs": [],
   "source": [
    "kk=pd.read_json('/home/restrepo/Downloads/WOS_SCI_SCP_PTJ_CTR.json.gz')"
   ]
  },
  {
   "cell_type": "code",
   "execution_count": 288,
   "metadata": {},
   "outputs": [
    {
     "data": {
      "text/html": [
       "<div>\n",
       "<style scoped>\n",
       "    .dataframe tbody tr th:only-of-type {\n",
       "        vertical-align: middle;\n",
       "    }\n",
       "\n",
       "    .dataframe tbody tr th {\n",
       "        vertical-align: top;\n",
       "    }\n",
       "\n",
       "    .dataframe thead th {\n",
       "        text-align: right;\n",
       "    }\n",
       "</style>\n",
       "<table border=\"1\" class=\"dataframe\">\n",
       "  <thead>\n",
       "    <tr style=\"text-align: right;\">\n",
       "      <th></th>\n",
       "      <th>authors_WOS</th>\n",
       "      <th>UDEA_authors</th>\n",
       "    </tr>\n",
       "  </thead>\n",
       "  <tbody>\n",
       "    <tr>\n",
       "      <th>53</th>\n",
       "      <td>[{'i': 0, 'WOS_author': 'Perez Patino, Ana Lucia', 'affiliation': ['Univ Antioquia, Dept Ingn Sistemas, Medellin, Colombia.']}]</td>\n",
       "      <td>[{'NOMBRES': 'Ana Lucia', 'CÉDULA': 43452493.0, 'WOS_author': ['Perez Patino, Ana Lucia', 'Perez, Ana Lucia', 'Perez, Ana L.'], 'full_name': 'PEREZ PATIÑO ANA LUCIA', 'INICIALES': 'A. L.', 'DEPART...</td>\n",
       "    </tr>\n",
       "  </tbody>\n",
       "</table>\n",
       "</div>"
      ],
      "text/plain": [
       "                                                                                                                        authors_WOS  \\\n",
       "53  [{'i': 0, 'WOS_author': 'Perez Patino, Ana Lucia', 'affiliation': ['Univ Antioquia, Dept Ingn Sistemas, Medellin, Colombia.']}]   \n",
       "\n",
       "                                                                                                                                                                                               UDEA_authors  \n",
       "53  [{'NOMBRES': 'Ana Lucia', 'CÉDULA': 43452493.0, 'WOS_author': ['Perez Patino, Ana Lucia', 'Perez, Ana Lucia', 'Perez, Ana L.'], 'full_name': 'PEREZ PATIÑO ANA LUCIA', 'INICIALES': 'A. L.', 'DEPART...  "
      ]
     },
     "execution_count": 288,
     "metadata": {},
     "output_type": "execute_result"
    }
   ],
   "source": [
    "kk.loc[[53]][['authors_WOS','UDEA_authors']]"
   ]
  },
  {
   "cell_type": "code",
   "execution_count": 298,
   "metadata": {},
   "outputs": [],
   "source": [
    "kkk=kk[kk['TI']=='Effect of genetic line and sex on growth in guinea pigs (Cavia porcellus) [Efecto de la línea genética y el sexo sobre el crecimiento en cuyes (Cavia porcellus)]']"
   ]
  },
  {
   "cell_type": "code",
   "execution_count": 305,
   "metadata": {},
   "outputs": [
    {
     "data": {
      "text/plain": [
       "194    2\n",
       "Name: authors_WOS, dtype: int64"
      ]
     },
     "execution_count": 305,
     "metadata": {},
     "output_type": "execute_result"
    }
   ],
   "source": [
    "kkk[['AU','authors_WOS','UDEA_authors']]['authors_WOS'].apply(len)"
   ]
  },
  {
   "cell_type": "code",
   "execution_count": 307,
   "metadata": {},
   "outputs": [
    {
     "data": {
      "text/plain": [
       "194    4\n",
       "Name: UDEA_authors, dtype: int64"
      ]
     },
     "execution_count": 307,
     "metadata": {},
     "output_type": "execute_result"
    }
   ],
   "source": [
    "kkk[['AU','authors_WOS','UDEA_authors']]['UDEA_authors'].apply(len)"
   ]
  },
  {
   "cell_type": "code",
   "execution_count": 299,
   "metadata": {},
   "outputs": [
    {
     "data": {
      "text/html": [
       "<div>\n",
       "<style scoped>\n",
       "    .dataframe tbody tr th:only-of-type {\n",
       "        vertical-align: middle;\n",
       "    }\n",
       "\n",
       "    .dataframe tbody tr th {\n",
       "        vertical-align: top;\n",
       "    }\n",
       "\n",
       "    .dataframe thead th {\n",
       "        text-align: right;\n",
       "    }\n",
       "</style>\n",
       "<table border=\"1\" class=\"dataframe\">\n",
       "  <thead>\n",
       "    <tr style=\"text-align: right;\">\n",
       "      <th></th>\n",
       "      <th>AU</th>\n",
       "      <th>authors_WOS</th>\n",
       "      <th>UDEA_authors</th>\n",
       "    </tr>\n",
       "  </thead>\n",
       "  <tbody>\n",
       "    <tr>\n",
       "      <th>53</th>\n",
       "      <td>Posada, SL\\nSolarte, CE\\nNoguera, RR\\n</td>\n",
       "      <td>[{'i': 0, 'WOS_author': 'Posada, S. L.', 'affiliation': ['Univ Antioquia, Grupo de Investigación en Ciencias Animales - GRICA, Medellín, Colombia']}, {'i': 1, 'WOS_author': 'Noguera, R. R.', 'affi...</td>\n",
       "      <td>[{'NOMBRES': 'Jaime Ricardo', 'CÉDULA': 98395898.0, 'WOS_author': ['Noguera, R. R.', 'Rosero Noguera, Ricardo', 'Noguera, Ricardo'], 'full_name': 'ROSERO NOGUERA JAIME RICARDO', 'INICIALES': 'J. R...</td>\n",
       "    </tr>\n",
       "  </tbody>\n",
       "</table>\n",
       "</div>"
      ],
      "text/plain": [
       "                                        AU  \\\n",
       "53  Posada, SL\\nSolarte, CE\\nNoguera, RR\\n   \n",
       "\n",
       "                                                                                                                                                                                                authors_WOS  \\\n",
       "53  [{'i': 0, 'WOS_author': 'Posada, S. L.', 'affiliation': ['Univ Antioquia, Grupo de Investigación en Ciencias Animales - GRICA, Medellín, Colombia']}, {'i': 1, 'WOS_author': 'Noguera, R. R.', 'affi...   \n",
       "\n",
       "                                                                                                                                                                                               UDEA_authors  \n",
       "53  [{'NOMBRES': 'Jaime Ricardo', 'CÉDULA': 98395898.0, 'WOS_author': ['Noguera, R. R.', 'Rosero Noguera, Ricardo', 'Noguera, Ricardo'], 'full_name': 'ROSERO NOGUERA JAIME RICARDO', 'INICIALES': 'J. R...  "
      ]
     },
     "execution_count": 299,
     "metadata": {},
     "output_type": "execute_result"
    }
   ],
   "source": [
    "UDEA[UDEA['UDEA_authors'].apply(lambda l: [d for d in l if not d.get('WOS_author')]).apply(len)>0][['AU','authors_WOS','UDEA_authors']].loc[[53]]#.to_dict()"
   ]
  },
  {
   "cell_type": "markdown",
   "metadata": {},
   "source": [
    "Parte principal:\n",
    "Adicione la información faltanta a `autores`"
   ]
  },
  {
   "cell_type": "code",
   "execution_count": 56,
   "metadata": {},
   "outputs": [],
   "source": [
    "import itertools\n",
    "def add_and_check_wos_authors(row,autores='autores',nombre='nombreAutor'):\n",
    "    DEBUG=True\n",
    "    wos_list =[ d.get('WOS_author')  for d in row.get('authors_WOS')]\n",
    "    wos_aff  =[ d.get('affiliation') for d in row.get('authors_WOS')]\n",
    "\n",
    "    udea_list=[ d.get('WOS_author') for d in row.get('UDEA_authors')]\n",
    "    #Quality check: UdeA author in WOS_author\n",
    "    if DEBUG: print(udea_list)\n",
    "    for i in range(len(udea_list)):\n",
    "    #for uli in udea_list:\n",
    "        #print(uli)\n",
    "        l=[]\n",
    "        try:\n",
    "            for ul in udea_list[i]:\n",
    "                ur=process.extractOne(ul, wos_list,\n",
    "                                     scorer=fuzz.ratio)\n",
    "                if DEBUG: print(ul,ur)\n",
    "                l.append(ur[1])\n",
    "            urmax=max(l)\n",
    "            #row.get('UDEA_authors').pop(i)\n",
    "            #row.get('autores').pop(i)\n",
    "            row.get('UDEA_authors')[i]['Q']=urmax\n",
    "                #If failed remove\n",
    "        except:\n",
    "            print(row['DI'])\n",
    "            pass\n",
    "        if DEBUG: print('+++'*20)\n",
    "\n",
    "    if DEBUG: print('='*80)\n",
    "    try:\n",
    "        udea_list = list(itertools.chain.from_iterable(udea_list))\n",
    "    except TypeError:\n",
    "        udea_list=[]\n",
    "\n",
    "    #Complete missing authors\n",
    "    for i in range( len(wos_list) ): \n",
    "        r=process.extractOne(wos_list[i], udea_list,\n",
    "                                 scorer=fuzz.ratio)\n",
    "            #if r and r[1]==100 → WOS_author is UDEA_author\n",
    "        try:\n",
    "            if r[1]<100:\n",
    "                dd={}\n",
    "                dd[nombre]=' '.join( wos_list[i].split(', ')[::-1] )\n",
    "                dd['afiliacionWOS']=wos_aff[i][0]                \n",
    "                    #Else → Add to authors column\n",
    "                row[autores].append(dd)\n",
    "                if DEBUG: print(wos_list[i],r)\n",
    "        except:\n",
    "            print('Failed',wos_list[i])\n",
    "    pass"
   ]
  },
  {
   "cell_type": "code",
   "execution_count": 57,
   "metadata": {},
   "outputs": [
    {
     "name": "stdout",
     "output_type": "stream",
     "text": [
      "[None, None]\n",
      "10.1590/s0102-311x2008000400004\n",
      "++++++++++++++++++++++++++++++++++++++++++++++++++++++++++++\n",
      "10.1590/s0102-311x2008000400004\n",
      "++++++++++++++++++++++++++++++++++++++++++++++++++++++++++++\n",
      "================================================================================\n",
      "Failed Grisales F, Lina María\n",
      "Failed Giraldo G, Libardo Antonio\n"
     ]
    },
    {
     "data": {
      "text/plain": [
       "10003    None\n",
       "dtype: object"
      ]
     },
     "execution_count": 57,
     "metadata": {},
     "output_type": "execute_result"
    }
   ],
   "source": [
    "i=10003\n",
    "udea.loc[[i]].apply(add_and_check_wos_authors, axis='columns')"
   ]
  },
  {
   "cell_type": "code",
   "execution_count": 165,
   "metadata": {},
   "outputs": [
    {
     "data": {
      "text/html": [
       "<div>\n",
       "<style scoped>\n",
       "    .dataframe tbody tr th:only-of-type {\n",
       "        vertical-align: middle;\n",
       "    }\n",
       "\n",
       "    .dataframe tbody tr th {\n",
       "        vertical-align: top;\n",
       "    }\n",
       "\n",
       "    .dataframe thead th {\n",
       "        text-align: right;\n",
       "    }\n",
       "</style>\n",
       "<table border=\"1\" class=\"dataframe\">\n",
       "  <thead>\n",
       "    <tr style=\"text-align: right;\">\n",
       "      <th></th>\n",
       "      <th>authors_WOS</th>\n",
       "      <th>autores</th>\n",
       "    </tr>\n",
       "  </thead>\n",
       "  <tbody>\n",
       "    <tr>\n",
       "      <th>13074</th>\n",
       "      <td>[{'i': 0, 'WOS_author': 'Grisales F, Lina María', 'affiliation': ['Univ Antioquia, Colombia.']}, {'i': 1, 'WOS_author': 'Giraldo G, Libardo Antonio', 'affiliation': ['Univ Antioquia, Colombia.']}]</td>\n",
       "      <td>[{'Identificación': 43746089, 'Tipo': 'Profesor vinculado', 'Nombres': 'Lina Maria Grisales Franco'}, {'Identificación': 43746089, 'Tipo': 'Profesor vinculado', 'Nombres': 'Lina Maria Grisales Fra...</td>\n",
       "    </tr>\n",
       "  </tbody>\n",
       "</table>\n",
       "</div>"
      ],
      "text/plain": [
       "                                                                                                                                                                                                authors_WOS  \\\n",
       "13074  [{'i': 0, 'WOS_author': 'Grisales F, Lina María', 'affiliation': ['Univ Antioquia, Colombia.']}, {'i': 1, 'WOS_author': 'Giraldo G, Libardo Antonio', 'affiliation': ['Univ Antioquia, Colombia.']}]   \n",
       "\n",
       "                                                                                                                                                                                                       autores  \n",
       "13074  [{'Identificación': 43746089, 'Tipo': 'Profesor vinculado', 'Nombres': 'Lina Maria Grisales Franco'}, {'Identificación': 43746089, 'Tipo': 'Profesor vinculado', 'Nombres': 'Lina Maria Grisales Fra...  "
      ]
     },
     "execution_count": 165,
     "metadata": {},
     "output_type": "execute_result"
    }
   ],
   "source": [
    "udea[udea['DI']=='10.1590/s0102-311x2008000400004'][['authors_WOS',autores]]"
   ]
  },
  {
   "cell_type": "code",
   "execution_count": 55,
   "metadata": {},
   "outputs": [],
   "source": [
    "#udea.apply(add_and_check_wos_authors, axis='columns')"
   ]
  },
  {
   "cell_type": "code",
   "execution_count": 166,
   "metadata": {},
   "outputs": [
    {
     "data": {
      "text/plain": [
       "[{'Identificación': 43746089,\n",
       "  'Nombres': 'Lina Maria Grisales Franco',\n",
       "  'Tipo': 'Profesor vinculado'},\n",
       " {'Identificación': 43746089,\n",
       "  'Nombres': 'Lina Maria Grisales Franco',\n",
       "  'Tipo': 'Profesor vinculado'}]"
      ]
     },
     "execution_count": 166,
     "metadata": {},
     "output_type": "execute_result"
    }
   ],
   "source": [
    "i=13074\n",
    "udea[autores].loc[i]"
   ]
  },
  {
   "cell_type": "code",
   "execution_count": 167,
   "metadata": {},
   "outputs": [
    {
     "data": {
      "text/plain": [
       "[{'WOS_author': 'Grisales F, Lina María',\n",
       "  'affiliation': ['Univ Antioquia, Colombia.'],\n",
       "  'i': 0},\n",
       " {'WOS_author': 'Giraldo G, Libardo Antonio',\n",
       "  'affiliation': ['Univ Antioquia, Colombia.'],\n",
       "  'i': 1}]"
      ]
     },
     "execution_count": 167,
     "metadata": {},
     "output_type": "execute_result"
    }
   ],
   "source": [
    "udea['authors_WOS'].loc[i]"
   ]
  },
  {
   "cell_type": "code",
   "execution_count": 168,
   "metadata": {},
   "outputs": [
    {
     "data": {
      "text/plain": [
       "[{'INICIALES': 'L. A.',\n",
       "  'NOMBRE COMPLETO': 'Libardo Antonio Giraldo Gaviria',\n",
       "  'NOMBRES': 'Libardo Antonio',\n",
       "  'PRIMER APELLIDO': 'Giraldo',\n",
       "  'SEGUNDO APELLIDO': 'Gaviria',\n",
       "  'full_name': 'GIRALDO GAVIRIA LIBARDO ANTONIO'},\n",
       " {'CÉDULA': 43746089,\n",
       "  'INICIALES': 'L. M.',\n",
       "  'NOMBRE COMPLETO': 'Lina Maria Grisales Franco',\n",
       "  'NOMBRES': 'Lina Maria',\n",
       "  'PRIMER APELLIDO': 'Grisales',\n",
       "  'SEGUNDO APELLIDO': 'Franco',\n",
       "  'full_name': 'GRISALES FRANCO LINA MARIA'}]"
      ]
     },
     "execution_count": 168,
     "metadata": {},
     "output_type": "execute_result"
    }
   ],
   "source": [
    "udea['UDEA_authors'].loc[i]"
   ]
  },
  {
   "cell_type": "code",
   "execution_count": 64,
   "metadata": {},
   "outputs": [
    {
     "data": {
      "text/html": [
       "<div>\n",
       "<style scoped>\n",
       "    .dataframe tbody tr th:only-of-type {\n",
       "        vertical-align: middle;\n",
       "    }\n",
       "\n",
       "    .dataframe tbody tr th {\n",
       "        vertical-align: top;\n",
       "    }\n",
       "\n",
       "    .dataframe thead th {\n",
       "        text-align: right;\n",
       "    }\n",
       "</style>\n",
       "<table border=\"1\" class=\"dataframe\">\n",
       "  <thead>\n",
       "    <tr style=\"text-align: right;\">\n",
       "      <th></th>\n",
       "      <th>UDEA_autores</th>\n",
       "      <th>UDEA_cedula</th>\n",
       "    </tr>\n",
       "  </thead>\n",
       "  <tbody>\n",
       "    <tr>\n",
       "      <th>10003</th>\n",
       "      <td>GIRALDO GAVIRIA LIBARDO ANTONIO;GRISALES FRANCO LINA MARIA</td>\n",
       "      <td>0</td>\n",
       "    </tr>\n",
       "    <tr>\n",
       "      <th>1198</th>\n",
       "      <td>GIRALDO GAVIRIA LIBARDO ANTONIO;GRISALES FRANCO LINA MARIA</td>\n",
       "      <td>0</td>\n",
       "    </tr>\n",
       "  </tbody>\n",
       "</table>\n",
       "</div>"
      ],
      "text/plain": [
       "                                                     UDEA_autores  UDEA_cedula\n",
       "10003  GIRALDO GAVIRIA LIBARDO ANTONIO;GRISALES FRANCO LINA MARIA            0\n",
       "1198   GIRALDO GAVIRIA LIBARDO ANTONIO;GRISALES FRANCO LINA MARIA            0"
      ]
     },
     "execution_count": 64,
     "metadata": {},
     "output_type": "execute_result"
    }
   ],
   "source": [
    "UDEA[UDEA['UDEA_autores'].str.lower().str.contains('giraldo gaviria')][['UDEA_autores','UDEA_cedula']]"
   ]
  },
  {
   "cell_type": "code",
   "execution_count": 128,
   "metadata": {},
   "outputs": [],
   "source": []
  },
  {
   "cell_type": "markdown",
   "metadata": {},
   "source": [
    "## TODO:\n",
    "* Normalize cedula en UDEA → UDEA_authors desde AU y AU_PTJ\n",
    "* Normalize authors_WOS en UDEA_authors\n",
    "* Use Clasificación Colciencias de columnas `UDEA_`"
   ]
  },
  {
   "cell_type": "code",
   "execution_count": 148,
   "metadata": {},
   "outputs": [
    {
     "data": {
      "text/plain": [
       "[{'WOS_author': 'Correa, Lorena E.',\n",
       "  'affiliation': ['Univ Antioquia, Grp Corros & Protecc CIDEMAT, Medellin, Colombia.'],\n",
       "  'i': 0},\n",
       " {'WOS_author': 'Gomez, Maryory',\n",
       "  'affiliation': ['Univ Antioquia, Grp Corros & Protecc CIDEMAT, Medellin, Colombia.'],\n",
       "  'i': 1},\n",
       " {'WOS_author': 'Echeverria, Felix',\n",
       "  'affiliation': ['Univ Antioquia, Grp Corros & Protecc CIDEMAT, Medellin, Colombia.'],\n",
       "  'i': 2},\n",
       " {'WOS_author': 'Castano, Juan G.',\n",
       "  'affiliation': ['Univ Antioquia, Grp Corros & Protecc CIDEMAT, Medellin, Colombia.'],\n",
       "  'i': 3},\n",
       " {'WOS_author': 'Velilla, Esteban',\n",
       "  'affiliation': ['Univ Antioquia, Grp Invest Manejo Eficiente Energia Elect, Medellin, Colombia.'],\n",
       "  'i': 4}]"
      ]
     },
     "execution_count": 148,
     "metadata": {},
     "output_type": "execute_result"
    }
   ],
   "source": [
    "UDEA.loc[5,'authors_WOS']"
   ]
  },
  {
   "cell_type": "code",
   "execution_count": 150,
   "metadata": {},
   "outputs": [
    {
     "data": {
      "text/plain": [
       "[{'CÉDULA': 18927154.0,\n",
       "  'DEPARTAMENTO': 'Departamento de Ingeniería Eléctrica',\n",
       "  'FACULTAD': 'Facultad de Ingeniería',\n",
       "  'GRUPO': 'Grupo de Investigación en Materiales y Sistemas Energéticos TESLA',\n",
       "  'INICIALES': 'E.',\n",
       "  'NOMBRE COMPLETO': 'Edwin Garcia Quintero',\n",
       "  'NOMBRES': 'Edwin',\n",
       "  'PRIMER APELLIDO': 'Garcia',\n",
       "  'SEGUNDO APELLIDO': 'Quintero',\n",
       "  'WOS_affiliation': ['Univ Antioquia, Dept Ingn Elect, Medellin, Colombia.',\n",
       "   'Univ Antioquia, Colombia.',\n",
       "   'Department of Electrical Engineering, Univ Antioquia, Colombia'],\n",
       "  'WOS_author': ['Garcia Quintero, Edwin',\n",
       "   'Garcia-Quintero, E.',\n",
       "   'Garcia-Quintero, Edwin',\n",
       "   'Garcia, Edwin'],\n",
       "  'full_name': 'GARCIA QUINTERO EDWIN'}]"
      ]
     },
     "execution_count": 150,
     "metadata": {},
     "output_type": "execute_result"
    }
   ],
   "source": [
    "UDEA['UDEA_authors'].loc[0]"
   ]
  },
  {
   "cell_type": "code",
   "execution_count": 259,
   "metadata": {},
   "outputs": [
    {
     "data": {
      "text/plain": [
       "(12270,)"
      ]
     },
     "execution_count": 259,
     "metadata": {},
     "output_type": "execute_result"
    }
   ],
   "source": [
    "UDEA['UDEA_authors'].shape"
   ]
  },
  {
   "cell_type": "code",
   "execution_count": 189,
   "metadata": {},
   "outputs": [
    {
     "data": {
      "text/html": [
       "<div>\n",
       "<style scoped>\n",
       "    .dataframe tbody tr th:only-of-type {\n",
       "        vertical-align: middle;\n",
       "    }\n",
       "\n",
       "    .dataframe tbody tr th {\n",
       "        vertical-align: top;\n",
       "    }\n",
       "\n",
       "    .dataframe thead th {\n",
       "        text-align: right;\n",
       "    }\n",
       "</style>\n",
       "<table border=\"1\" class=\"dataframe\">\n",
       "  <thead>\n",
       "    <tr style=\"text-align: right;\">\n",
       "      <th></th>\n",
       "      <th>cedula</th>\n",
       "      <th>nombre</th>\n",
       "    </tr>\n",
       "  </thead>\n",
       "  <tbody>\n",
       "    <tr>\n",
       "      <th>1587</th>\n",
       "      <td>70518213</td>\n",
       "      <td>HOYOS FRANCO MARCO ANTONIO</td>\n",
       "    </tr>\n",
       "  </tbody>\n",
       "</table>\n",
       "</div>"
      ],
      "text/plain": [
       "        cedula                      nombre\n",
       "1587  70518213  HOYOS FRANCO MARCO ANTONIO"
      ]
     },
     "execution_count": 189,
     "metadata": {},
     "output_type": "execute_result"
    }
   ],
   "source": [
    "df=AU_PTJ.copy()\n",
    "d={'full_name':'HOYOS FRANCO MARCO ANTONIO'}\n"
   ]
  },
  {
   "cell_type": "code",
   "execution_count": 217,
   "metadata": {},
   "outputs": [
    {
     "data": {
      "text/plain": [
       "70518213"
      ]
     },
     "execution_count": 217,
     "metadata": {},
     "output_type": "execute_result"
    }
   ],
   "source": [
    "AU_PTJ[AU_PTJ['nombre'].str.lower().str.contains('hoyos franco marco antonio')\n",
    "      ].reset_index(drop=True).loc[\n",
    "                    0,'cedula']"
   ]
  },
  {
   "cell_type": "code",
   "execution_count": null,
   "metadata": {},
   "outputs": [],
   "source": []
  },
  {
   "cell_type": "markdown",
   "metadata": {},
   "source": [
    "UDEA.loc[[10003]].apply( add_authors_WOS_to_UDEA  )"
   ]
  },
  {
   "cell_type": "code",
   "execution_count": 96,
   "metadata": {},
   "outputs": [
    {
     "data": {
      "text/html": [
       "<div>\n",
       "<style scoped>\n",
       "    .dataframe tbody tr th:only-of-type {\n",
       "        vertical-align: middle;\n",
       "    }\n",
       "\n",
       "    .dataframe tbody tr th {\n",
       "        vertical-align: top;\n",
       "    }\n",
       "\n",
       "    .dataframe thead th {\n",
       "        text-align: right;\n",
       "    }\n",
       "</style>\n",
       "<table border=\"1\" class=\"dataframe\">\n",
       "  <thead>\n",
       "    <tr style=\"text-align: right;\">\n",
       "      <th></th>\n",
       "      <th>cedula</th>\n",
       "      <th>nombre</th>\n",
       "    </tr>\n",
       "  </thead>\n",
       "  <tbody>\n",
       "  </tbody>\n",
       "</table>\n",
       "</div>"
      ],
      "text/plain": [
       "Empty DataFrame\n",
       "Columns: [cedula, nombre]\n",
       "Index: []"
      ]
     },
     "execution_count": 96,
     "metadata": {},
     "output_type": "execute_result"
    }
   ],
   "source": [
    "pp[pp['nombre']=='HOYOS']"
   ]
  },
  {
   "cell_type": "code",
   "execution_count": 106,
   "metadata": {},
   "outputs": [
    {
     "data": {
      "text/html": [
       "<div>\n",
       "<style scoped>\n",
       "    .dataframe tbody tr th:only-of-type {\n",
       "        vertical-align: middle;\n",
       "    }\n",
       "\n",
       "    .dataframe tbody tr th {\n",
       "        vertical-align: top;\n",
       "    }\n",
       "\n",
       "    .dataframe thead th {\n",
       "        text-align: right;\n",
       "    }\n",
       "</style>\n",
       "<table border=\"1\" class=\"dataframe\">\n",
       "  <thead>\n",
       "    <tr style=\"text-align: right;\">\n",
       "      <th></th>\n",
       "      <th>CÉDULA</th>\n",
       "      <th>DEPARTAMENTO</th>\n",
       "      <th>FACULTAD</th>\n",
       "      <th>GRUPO</th>\n",
       "      <th>NOMBRE COMPLETO</th>\n",
       "      <th>NOMBRES</th>\n",
       "      <th>PRIMER APELLIDO</th>\n",
       "      <th>SEGUNDO APELLIDO</th>\n",
       "    </tr>\n",
       "  </thead>\n",
       "  <tbody>\n",
       "  </tbody>\n",
       "</table>\n",
       "</div>"
      ],
      "text/plain": [
       "Empty DataFrame\n",
       "Columns: [CÉDULA, DEPARTAMENTO, FACULTAD, GRUPO, NOMBRE COMPLETO, NOMBRES, PRIMER APELLIDO, SEGUNDO APELLIDO]\n",
       "Index: []"
      ]
     },
     "execution_count": 106,
     "metadata": {},
     "output_type": "execute_result"
    }
   ],
   "source": [
    "AU[AU['NOMBRE COMPLETO'].str.lower()=='hoyos']"
   ]
  },
  {
   "cell_type": "code",
   "execution_count": 107,
   "metadata": {},
   "outputs": [
    {
     "data": {
      "text/plain": [
       "Index(['año realiz', 'doi', 'fecha aplicación', 'idioma', 'item adic',\n",
       "       'material', 'nombre', 'nombre revista o premio', 'nro autores', 'país',\n",
       "       'procodigo', 'ptos', 'título', 'valor item'],\n",
       "      dtype='object')"
      ]
     },
     "execution_count": 107,
     "metadata": {},
     "output_type": "execute_result"
    }
   ],
   "source": [
    "ppp.columns"
   ]
  },
  {
   "cell_type": "code",
   "execution_count": 109,
   "metadata": {},
   "outputs": [
    {
     "data": {
      "text/html": [
       "<div>\n",
       "<style scoped>\n",
       "    .dataframe tbody tr th:only-of-type {\n",
       "        vertical-align: middle;\n",
       "    }\n",
       "\n",
       "    .dataframe tbody tr th {\n",
       "        vertical-align: top;\n",
       "    }\n",
       "\n",
       "    .dataframe thead th {\n",
       "        text-align: right;\n",
       "    }\n",
       "</style>\n",
       "<table border=\"1\" class=\"dataframe\">\n",
       "  <thead>\n",
       "    <tr style=\"text-align: right;\">\n",
       "      <th></th>\n",
       "      <th>año realiz</th>\n",
       "      <th>doi</th>\n",
       "      <th>fecha aplicación</th>\n",
       "      <th>idioma</th>\n",
       "      <th>item adic</th>\n",
       "      <th>material</th>\n",
       "      <th>nombre</th>\n",
       "      <th>nombre revista o premio</th>\n",
       "      <th>nro autores</th>\n",
       "      <th>país</th>\n",
       "      <th>procodigo</th>\n",
       "      <th>ptos</th>\n",
       "      <th>título</th>\n",
       "      <th>valor item</th>\n",
       "    </tr>\n",
       "  </thead>\n",
       "  <tbody>\n",
       "  </tbody>\n",
       "</table>\n",
       "</div>"
      ],
      "text/plain": [
       "Empty DataFrame\n",
       "Columns: [año realiz, doi, fecha aplicación, idioma, item adic, material, nombre, nombre revista o premio, nro autores, país, procodigo, ptos, título, valor item]\n",
       "Index: []"
      ]
     },
     "execution_count": 109,
     "metadata": {},
     "output_type": "execute_result"
    }
   ],
   "source": [
    "ppp[ppp['nombre']=='HOYOS']"
   ]
  },
  {
   "cell_type": "code",
   "execution_count": 157,
   "metadata": {},
   "outputs": [
    {
     "data": {
      "text/plain": [
       "True"
      ]
     },
     "execution_count": 157,
     "metadata": {},
     "output_type": "execute_result"
    }
   ],
   "source": [
    "au=AU[AU['CÉDULA']==int(618927154.0)].reset_index(drop=True)\n",
    "au.empty"
   ]
  },
  {
   "cell_type": "code",
   "execution_count": 159,
   "metadata": {},
   "outputs": [
    {
     "data": {
      "text/plain": [
       "False"
      ]
     },
     "execution_count": 159,
     "metadata": {},
     "output_type": "execute_result"
    }
   ],
   "source": [
    "udea_au[list(new_format.columns)]"
   ]
  },
  {
   "cell_type": "code",
   "execution_count": 149,
   "metadata": {},
   "outputs": [
    {
     "data": {
      "text/plain": [
       "{'annio': 2008,\n",
       " 'autores': [{'Identificación': 32508663,\n",
       "   'Nombres': 'Del Consuelo Montes Ramirez',\n",
       "   'Tipo': 'Profesor vinculado'}],\n",
       " 'clasificacionColciencias': None,\n",
       " 'doi': '',\n",
       " 'idioma': 'Spanish',\n",
       " 'issn': '0120-5609',\n",
       " 'nombreRevista': 'INGENIERIA E INVESTIGACION',\n",
       " 'numero': '3',\n",
       " 'paginas': '41-46',\n",
       " 'proyectoAsociado': None,\n",
       " 'semestre': None,\n",
       " 'tipoRevista': 'Revista Internacional Indexada',\n",
       " 'tituloArticulo': 'Cement plant gaseous pollutant emission reduction technologies',\n",
       " 'volumen': '28'}"
      ]
     },
     "execution_count": 149,
     "metadata": {},
     "output_type": "execute_result"
    }
   ],
   "source": [
    "audea.loc[1].to_dict()"
   ]
  },
  {
   "cell_type": "code",
   "execution_count": null,
   "metadata": {},
   "outputs": [],
   "source": []
  },
  {
   "cell_type": "code",
   "execution_count": 69,
   "metadata": {},
   "outputs": [],
   "source": [
    "exl = [{'id': 123, 'data': 'qwerty', 'indices': [1,10]}, {'id': 345, 'data': 'mnbvc', 'indices': [2,11]}]"
   ]
  },
  {
   "cell_type": "code",
   "execution_count": 70,
   "metadata": {},
   "outputs": [],
   "source": [
    "with open(\"kk.json\", \"w\") as outfile: \n",
    "    json.dump(exl, outfile)"
   ]
  },
  {
   "cell_type": "code",
   "execution_count": 75,
   "metadata": {},
   "outputs": [],
   "source": [
    "ex.to_json('kk.json',orient='records')"
   ]
  },
  {
   "cell_type": "code",
   "execution_count": 76,
   "metadata": {},
   "outputs": [
    {
     "name": "stdout",
     "output_type": "stream",
     "text": [
      "[{\"annio\":2019,\"autores\":[{\"nombreAutor\":\"Jonathan Aguilar Bedoya\",\"programaAcademico\":[\"60178-MAESTR\\u00cdA EN INGENIER\\u00cdA MEC\\u00c1NICA-INVESTIGACI\\u00d3N\"],\"identificacionAutor\":null,\"grupoInvestigacion\":[\"Grupo de Energ\\u00eda Alternativa\"],\"tipoAutor\":\"Estudiante de posgrado\"},{\"nombreAutor\":\"Ainhoa Rubio Celemente\",\"institucion\":\"Tecnol\\u00f3gico de Antioquia. Instituci\\u00f3n Universitaria\",\"pais\":\"Colombia\",\"grupoInvestigacion\":[\"Grupo de Energ\\u00eda Alternativa\"],\"tipoAutor\":\"Autor externo\"},{\"nombreAutor\":\"Laura Isable Velasquez Garcia\",\"programaAcademico\":[\"516-INGENIER\\u00cdA MEC\\u00c1NICA\"],\"grupoInvestigacion\":[\"Grupo de Energ\\u00eda Alternativa\"],\"tipoAutor\":\"Profesor ocasional\"},{\"nombreAutor\":\"Edwin Lenin Chica Arrieta\",\"programaAcademico\":[\"516-INGENIER\\u00cdA MEC\\u00c1NICA\"],\"identificacionAutor\":\"78761560\",\"grupoInvestigacion\":[\"Grupo de Energ\\u00eda Alternativa\"],\"tipoAutor\":\"Profesor vinculado\"}],\"clasificacionColciencias\":\"A1\",\"doi\":\"10.3390\\/en12244679\",\"idioma\":\"Ingl\\u00e9s\",\"issn\":\"1996-1073\",\"nombreRevista\":\"Energies\",\"numero\":24,\"paginas\":\"1-18\",\"proyectoAsociado\":null,\"semestre\":\"2019-2\",\"tipoRevista\":\"Revista Internacional Indexada\",\"tituloArticulo\":\"Design and Optimization of a Multi-Element Hydrofoil for a Horizontal-Axis Hydrokinetic Turbine\",\"volumen\":12}]"
     ]
    }
   ],
   "source": [
    "cat kk.json"
   ]
  },
  {
   "cell_type": "code",
   "execution_count": 77,
   "metadata": {},
   "outputs": [
    {
     "data": {
      "text/html": [
       "<div>\n",
       "<style scoped>\n",
       "    .dataframe tbody tr th:only-of-type {\n",
       "        vertical-align: middle;\n",
       "    }\n",
       "\n",
       "    .dataframe tbody tr th {\n",
       "        vertical-align: top;\n",
       "    }\n",
       "\n",
       "    .dataframe thead th {\n",
       "        text-align: right;\n",
       "    }\n",
       "</style>\n",
       "<table border=\"1\" class=\"dataframe\">\n",
       "  <thead>\n",
       "    <tr style=\"text-align: right;\">\n",
       "      <th></th>\n",
       "      <th>annio</th>\n",
       "      <th>autores</th>\n",
       "      <th>clasificacionColciencias</th>\n",
       "      <th>doi</th>\n",
       "      <th>idioma</th>\n",
       "      <th>issn</th>\n",
       "      <th>nombreRevista</th>\n",
       "      <th>numero</th>\n",
       "      <th>paginas</th>\n",
       "      <th>proyectoAsociado</th>\n",
       "      <th>semestre</th>\n",
       "      <th>tipoRevista</th>\n",
       "      <th>tituloArticulo</th>\n",
       "      <th>volumen</th>\n",
       "    </tr>\n",
       "  </thead>\n",
       "  <tbody>\n",
       "    <tr>\n",
       "      <th>0</th>\n",
       "      <td>2019</td>\n",
       "      <td>[{'nombreAutor': 'Jonathan Aguilar Bedoya', 'programaAcademico': ['60178-MAESTRÍA EN INGENIERÍA MECÁNICA-INVESTIGACIÓN'], 'tipoAutor': 'Estudiante de posgrado', 'identificacionAutor': None, 'grupo...</td>\n",
       "      <td>A1</td>\n",
       "      <td>10.3390/en12244679</td>\n",
       "      <td>Inglés</td>\n",
       "      <td>1996-1073</td>\n",
       "      <td>Energies</td>\n",
       "      <td>24</td>\n",
       "      <td>1-18</td>\n",
       "      <td>NaN</td>\n",
       "      <td>2019-2</td>\n",
       "      <td>Revista Internacional Indexada</td>\n",
       "      <td>Design and Optimization of a Multi-Element Hydrofoil for a Horizontal-Axis Hydrokinetic Turbine</td>\n",
       "      <td>12</td>\n",
       "    </tr>\n",
       "  </tbody>\n",
       "</table>\n",
       "</div>"
      ],
      "text/plain": [
       "   annio  \\\n",
       "0   2019   \n",
       "\n",
       "                                                                                                                                                                                                   autores  \\\n",
       "0  [{'nombreAutor': 'Jonathan Aguilar Bedoya', 'programaAcademico': ['60178-MAESTRÍA EN INGENIERÍA MECÁNICA-INVESTIGACIÓN'], 'tipoAutor': 'Estudiante de posgrado', 'identificacionAutor': None, 'grupo...   \n",
       "\n",
       "  clasificacionColciencias                 doi  idioma       issn  \\\n",
       "0                       A1  10.3390/en12244679  Inglés  1996-1073   \n",
       "\n",
       "  nombreRevista  numero paginas  proyectoAsociado semestre  \\\n",
       "0      Energies      24    1-18               NaN   2019-2   \n",
       "\n",
       "                      tipoRevista  \\\n",
       "0  Revista Internacional Indexada   \n",
       "\n",
       "                                                                                    tituloArticulo  \\\n",
       "0  Design and Optimization of a Multi-Element Hydrofoil for a Horizontal-Axis Hydrokinetic Turbine   \n",
       "\n",
       "   volumen  \n",
       "0       12  "
      ]
     },
     "execution_count": 77,
     "metadata": {},
     "output_type": "execute_result"
    }
   ],
   "source": [
    "pd.read_json('kk.json')"
   ]
  },
  {
   "cell_type": "code",
   "execution_count": 78,
   "metadata": {},
   "outputs": [],
   "source": [
    "with open(r\"kk.json\", \"r\") as read_file:\n",
    "    data = json.load(read_file)"
   ]
  },
  {
   "cell_type": "code",
   "execution_count": 79,
   "metadata": {},
   "outputs": [
    {
     "data": {
      "text/plain": [
       "[{'annio': 2019,\n",
       "  'autores': [{'grupoInvestigacion': ['Grupo de Energía Alternativa'],\n",
       "    'identificacionAutor': None,\n",
       "    'nombreAutor': 'Jonathan Aguilar Bedoya',\n",
       "    'programaAcademico': ['60178-MAESTRÍA EN INGENIERÍA MECÁNICA-INVESTIGACIÓN'],\n",
       "    'tipoAutor': 'Estudiante de posgrado'},\n",
       "   {'grupoInvestigacion': ['Grupo de Energía Alternativa'],\n",
       "    'institucion': 'Tecnológico de Antioquia. Institución Universitaria',\n",
       "    'nombreAutor': 'Ainhoa Rubio Celemente',\n",
       "    'pais': 'Colombia',\n",
       "    'tipoAutor': 'Autor externo'},\n",
       "   {'grupoInvestigacion': ['Grupo de Energía Alternativa'],\n",
       "    'nombreAutor': 'Laura Isable Velasquez Garcia',\n",
       "    'programaAcademico': ['516-INGENIERÍA MECÁNICA'],\n",
       "    'tipoAutor': 'Profesor ocasional'},\n",
       "   {'grupoInvestigacion': ['Grupo de Energía Alternativa'],\n",
       "    'identificacionAutor': '78761560',\n",
       "    'nombreAutor': 'Edwin Lenin Chica Arrieta',\n",
       "    'programaAcademico': ['516-INGENIERÍA MECÁNICA'],\n",
       "    'tipoAutor': 'Profesor vinculado'}],\n",
       "  'clasificacionColciencias': 'A1',\n",
       "  'doi': '10.3390/en12244679',\n",
       "  'idioma': 'Inglés',\n",
       "  'issn': '1996-1073',\n",
       "  'nombreRevista': 'Energies',\n",
       "  'numero': 24,\n",
       "  'paginas': '1-18',\n",
       "  'proyectoAsociado': None,\n",
       "  'semestre': '2019-2',\n",
       "  'tipoRevista': 'Revista Internacional Indexada',\n",
       "  'tituloArticulo': 'Design and Optimization of a Multi-Element Hydrofoil for a Horizontal-Axis Hydrokinetic Turbine',\n",
       "  'volumen': 12}]"
      ]
     },
     "execution_count": 79,
     "metadata": {},
     "output_type": "execute_result"
    }
   ],
   "source": [
    "data"
   ]
  },
  {
   "cell_type": "code",
   "execution_count": 80,
   "metadata": {},
   "outputs": [],
   "source": [
    "with open(\"kkk.json\", \"w\") as outfile: \n",
    "    json.dump(data, outfile) "
   ]
  },
  {
   "cell_type": "code",
   "execution_count": 81,
   "metadata": {},
   "outputs": [
    {
     "name": "stdout",
     "output_type": "stream",
     "text": [
      "[{\"doi\": \"10.3390/en12244679\", \"tipoRevista\": \"Revista Internacional Indexada\", \"numero\": 24, \"semestre\": \"2019-2\", \"annio\": 2019, \"idioma\": \"Ingl\\u00e9s\", \"nombreRevista\": \"Energies\", \"issn\": \"1996-1073\", \"paginas\": \"1-18\", \"proyectoAsociado\": null, \"volumen\": 12, \"autores\": [{\"nombreAutor\": \"Jonathan Aguilar Bedoya\", \"programaAcademico\": [\"60178-MAESTR\\u00cdA EN INGENIER\\u00cdA MEC\\u00c1NICA-INVESTIGACI\\u00d3N\"], \"tipoAutor\": \"Estudiante de posgrado\", \"identificacionAutor\": null, \"grupoInvestigacion\": [\"Grupo de Energ\\u00eda Alternativa\"]}, {\"nombreAutor\": \"Ainhoa Rubio Celemente\", \"pais\": \"Colombia\", \"tipoAutor\": \"Autor externo\", \"grupoInvestigacion\": [\"Grupo de Energ\\u00eda Alternativa\"], \"institucion\": \"Tecnol\\u00f3gico de Antioquia. Instituci\\u00f3n Universitaria\"}, {\"nombreAutor\": \"Laura Isable Velasquez Garcia\", \"programaAcademico\": [\"516-INGENIER\\u00cdA MEC\\u00c1NICA\"], \"grupoInvestigacion\": [\"Grupo de Energ\\u00eda Alternativa\"], \"tipoAutor\": \"Profesor ocasional\"}, {\"nombreAutor\": \"Edwin Lenin Chica Arrieta\", \"programaAcademico\": [\"516-INGENIER\\u00cdA MEC\\u00c1NICA\"], \"tipoAutor\": \"Profesor vinculado\", \"identificacionAutor\": \"78761560\", \"grupoInvestigacion\": [\"Grupo de Energ\\u00eda Alternativa\"]}], \"tituloArticulo\": \"Design and Optimization of a Multi-Element Hydrofoil for a Horizontal-Axis Hydrokinetic Turbine\", \"clasificacionColciencias\": \"A1\"}]"
     ]
    }
   ],
   "source": [
    "cat kkk.json"
   ]
  },
  {
   "cell_type": "code",
   "execution_count": null,
   "metadata": {},
   "outputs": [],
   "source": []
  }
 ],
 "metadata": {
  "colab": {
   "include_colab_link": true,
   "name": "merge.ipynb",
   "provenance": [],
   "version": "0.3.2"
  },
  "kernelspec": {
   "display_name": "Python 3",
   "language": "python",
   "name": "python3"
  },
  "language_info": {
   "codemirror_mode": {
    "name": "ipython",
    "version": 3
   },
   "file_extension": ".py",
   "mimetype": "text/x-python",
   "name": "python",
   "nbconvert_exporter": "python",
   "pygments_lexer": "ipython3",
   "version": "3.5.3"
  },
  "latex_envs": {
   "LaTeX_envs_menu_present": true,
   "autoclose": false,
   "autocomplete": true,
   "bibliofile": "biblio.bib",
   "cite_by": "apalike",
   "current_citInitial": 1,
   "eqLabelWithNumbers": true,
   "eqNumInitial": 1,
   "hotkeys": {
    "equation": "Ctrl-E",
    "itemize": "Ctrl-I"
   },
   "labels_anchors": false,
   "latex_user_defs": false,
   "report_style_numbering": false,
   "user_envs_cfg": false
  }
 },
 "nbformat": 4,
 "nbformat_minor": 4
}
