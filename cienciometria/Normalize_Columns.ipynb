{
 "cells": [
  {
   "cell_type": "markdown",
   "metadata": {
    "colab_type": "text",
    "id": "view-in-github"
   },
   "source": [
    "<a href=\"https://colab.research.google.com/github/restrepo/medicion/blob/master/cienciometria/Query_CTR.ipynb\" target=\"_parent\"><img src=\"https://colab.research.google.com/assets/colab-badge.svg\" alt=\"Open In Colab\"/></a>"
   ]
  },
  {
   "cell_type": "markdown",
   "metadata": {
    "colab_type": "text",
    "id": "aDnqho-CsEwj"
   },
   "source": [
    "# Búsquedas WOS+SCI+SCP+PTJ+CTR para UdeA"
   ]
  },
  {
   "cell_type": "markdown",
   "metadata": {},
   "source": [
    "Búsquedas en bases bibligráficas  \n",
    "* Web of Science (WOS), \n",
    "* Scielo (SCI)\n",
    "* Scopus  (SCP)\n",
    "* Puntaje (UDEA)\n",
    "* Center (CTR)\n",
    "de los artículos científicos de la UdeA\n",
    "\n",
    "La base de datos se creó con:\n",
    "\n",
    "[WOS_SCI_SCP_PTJ_CTR.ipynb](./WOS_SCI_SCP_PTJ_CTR.ipynb)"
   ]
  },
  {
   "cell_type": "code",
   "execution_count": 1,
   "metadata": {},
   "outputs": [],
   "source": [
    "import os\n",
    "VERSION='NEW'\n",
    "if os.getcwd()=='/content':\n",
    "    !pip install openpyxl xlrd wosplus fuzzywuzzy[speedup] > /dev/null"
   ]
  },
  {
   "cell_type": "markdown",
   "metadata": {},
   "source": [
    "## functions"
   ]
  },
  {
   "cell_type": "code",
   "execution_count": 139,
   "metadata": {
    "colab": {},
    "colab_type": "code",
    "id": "nhk2ZGEDd2Yo"
   },
   "outputs": [],
   "source": [
    "import pandas as pd\n",
    "import wosplus as wp\n",
    "pd.set_option('display.max_colwidth',200)\n",
    "from venn import draw_venn, generate_colors\n",
    "import numpy as np\n",
    "import fuzzywuzzy.process as fwp\n",
    "from fuzzywuzzy import fuzz\n",
    "import re\n",
    "import json\n",
    "from fuzzywuzzy import fuzz\n",
    "from fuzzywuzzy import process\n",
    "idc='CÉDULA'"
   ]
  },
  {
   "cell_type": "markdown",
   "metadata": {
    "colab_type": "text",
    "heading_collapsed": true,
    "id": "JS7jD1f47JUN"
   },
   "source": [
    "##  Configure public links of  files in Google Drive\n",
    "* If it is a Google Spreadsheet the corresponding file is downloaded as CSV\n",
    "* If it is in excel/json or text file the file is downloaded  directly\n",
    "\n",
    "To define your  own labeled IDs for public google drive files edit the next cell:"
   ]
  },
  {
   "cell_type": "code",
   "execution_count": 3,
   "metadata": {
    "colab": {
     "base_uri": "https://localhost:8080/",
     "height": 35
    },
    "colab_type": "code",
    "hidden": true,
    "id": "T4Rmd2dF7JUQ",
    "outputId": "39a5835e-1b38-48b6-f1a5-e9964c846123"
   },
   "outputs": [
    {
     "name": "stdout",
     "output_type": "stream",
     "text": [
      "Overwriting drive.cfg\n"
     ]
    }
   ],
   "source": [
    "%%writefile drive.cfg\n",
    "[FILES]\n",
    "WOS_SCI_SCP_PTJ_CTR.json.gz=19E1C1kRk4I0V3uXojqko8-NEicWaPp1j\n",
    "Base_de_datos_investigadores_Definitiva.csv=12oalgUeKhpvzkTPBP8pXCeHTrF-KO223dy9ov9w9QKs\n",
    "oaudea.xlsx             = 1CcwobiEFACIbffNzNdLxpdxQukr8cZ5x"
   ]
  },
  {
   "cell_type": "markdown",
   "metadata": {
    "colab_type": "text",
    "id": "Y0D0hEdAMXUX"
   },
   "source": [
    "##  Load data bases"
   ]
  },
  {
   "cell_type": "code",
   "execution_count": 3,
   "metadata": {
    "colab": {
     "base_uri": "https://localhost:8080/",
     "height": 35
    },
    "colab_type": "code",
    "id": "occzrIeCS7aQ",
    "outputId": "17b144f3-eef0-4c8a-c2b4-10c8fe55802c"
   },
   "outputs": [],
   "source": [
    "affil='Univ Antioquia'\n",
    "drive_files=wp.wosplus('drive.cfg')"
   ]
  },
  {
   "cell_type": "code",
   "execution_count": 5,
   "metadata": {},
   "outputs": [
    {
     "name": "stdout",
     "output_type": "stream",
     "text": [
      "WARNING: Biblio already has a \"Tipo\" column\n"
     ]
    }
   ],
   "source": [
    "UDEAjsonfile='WOS_SCI_SCP_PTJ_CTR.json.gz'\n",
    "tmp=drive_files.load_biblio(UDEAjsonfile,compression='gzip')\n",
    "UDEA=drive_files.biblio['WOS'].copy().reset_index(drop=True)"
   ]
  },
  {
   "cell_type": "code",
   "execution_count": 6,
   "metadata": {},
   "outputs": [
    {
     "data": {
      "text/plain": [
       "(12270, 181)"
      ]
     },
     "execution_count": 6,
     "metadata": {},
     "output_type": "execute_result"
    }
   ],
   "source": [
    "UDEA[UDEA['UDEA_authors']!=''].shape"
   ]
  },
  {
   "cell_type": "code",
   "execution_count": 7,
   "metadata": {},
   "outputs": [],
   "source": [
    "AU=drive_files.read_drive_excel('Base_de_datos_investigadores_Definitiva.csv')"
   ]
  },
  {
   "cell_type": "code",
   "execution_count": 10,
   "metadata": {},
   "outputs": [
    {
     "data": {
      "text/html": [
       "<div>\n",
       "<style scoped>\n",
       "    .dataframe tbody tr th:only-of-type {\n",
       "        vertical-align: middle;\n",
       "    }\n",
       "\n",
       "    .dataframe tbody tr th {\n",
       "        vertical-align: top;\n",
       "    }\n",
       "\n",
       "    .dataframe thead th {\n",
       "        text-align: right;\n",
       "    }\n",
       "</style>\n",
       "<table border=\"1\" class=\"dataframe\">\n",
       "  <thead>\n",
       "    <tr style=\"text-align: right;\">\n",
       "      <th></th>\n",
       "      <th>CÉDULA</th>\n",
       "      <th>NOMBRE COMPLETO</th>\n",
       "      <th>NOMBRES</th>\n",
       "      <th>PRIMER APELLIDO</th>\n",
       "      <th>SEGUNDO APELLIDO</th>\n",
       "      <th>FACULTAD</th>\n",
       "      <th>DEPARTAMENTO</th>\n",
       "      <th>GRUPO</th>\n",
       "    </tr>\n",
       "  </thead>\n",
       "  <tbody>\n",
       "    <tr>\n",
       "      <th>0</th>\n",
       "      <td>71621971</td>\n",
       "      <td>Bernardo Maria Bustamante Cardona</td>\n",
       "      <td>Bernardo Maria</td>\n",
       "      <td>Bustamante</td>\n",
       "      <td>Cardona</td>\n",
       "      <td>Facultad de Artes</td>\n",
       "      <td>Departamento de Artes Visuales</td>\n",
       "      <td>Arteducación</td>\n",
       "    </tr>\n",
       "  </tbody>\n",
       "</table>\n",
       "</div>"
      ],
      "text/plain": [
       "     CÉDULA                    NOMBRE COMPLETO          NOMBRES  \\\n",
       "0  71621971  Bernardo Maria Bustamante Cardona  Bernardo Maria    \n",
       "\n",
       "  PRIMER APELLIDO SEGUNDO APELLIDO           FACULTAD  \\\n",
       "0      Bustamante          Cardona  Facultad de Artes   \n",
       "\n",
       "                     DEPARTAMENTO          GRUPO  \n",
       "0  Departamento de Artes Visuales  Arteducación   "
      ]
     },
     "execution_count": 10,
     "metadata": {},
     "output_type": "execute_result"
    }
   ],
   "source": [
    "AU[:1]"
   ]
  },
  {
   "cell_type": "markdown",
   "metadata": {},
   "source": [
    "## Normalizations"
   ]
  },
  {
   "cell_type": "code",
   "execution_count": 13,
   "metadata": {},
   "outputs": [],
   "source": [
    "UDEA['DI']=UDEA.apply( \n",
    "     lambda row: row['DI'] if row['DI'] else row['SCP_DOI'],axis=1 ).str.strip().str.lower()\n",
    "UDEA['DI']=UDEA.apply( \n",
    "     lambda row: row['DI'] if row['DI'] else row['SCI_DI'],axis=1 ).str.strip().str.lower()"
   ]
  },
  {
   "cell_type": "markdown",
   "metadata": {},
   "source": [
    "Normalize 'AU'"
   ]
  },
  {
   "cell_type": "code",
   "execution_count": 14,
   "metadata": {},
   "outputs": [],
   "source": [
    "UDEA['AU']=UDEA['AU'].apply(lambda l: l if re.search('\\n$',l) \n",
    "                 else \n",
    "                 '\\n'.join(\n",
    "            [\n",
    "    re.sub( '([\\w\\-\\s]+)(\\s[\\w]\\.)',r'\\1,\\2',s ,re.UNICODE   ) \n",
    "                 for s in l.split(', ')]+['']\n",
    "           ).replace('.','') )"
   ]
  },
  {
   "cell_type": "code",
   "execution_count": 15,
   "metadata": {},
   "outputs": [
    {
     "data": {
      "text/plain": [
       "(0, 181)"
      ]
     },
     "execution_count": 15,
     "metadata": {},
     "output_type": "execute_result"
    }
   ],
   "source": [
    "UDEA[~UDEA['AU'].str.contains('\\n$')].shape"
   ]
  },
  {
   "cell_type": "code",
   "execution_count": 16,
   "metadata": {},
   "outputs": [],
   "source": [
    "def fix_NOMBRE_COMPLETOS(l):\n",
    "    for d in l:\n",
    "        if not d.get('NOMBRE COMPLETO'):\n",
    "            d['NOMBRE COMPLETO']=''\n",
    "            if d.get('NOMBRES'):\n",
    "                d['NOMBRE COMPLETO']=d['NOMBRE COMPLETO']+d.get('NOMBRES')\n",
    "            if d.get('PRIMER APELLIDO'):\n",
    "                d['NOMBRE COMPLETO']=d['NOMBRE COMPLETO']+' '+d.get('PRIMER APELLIDO')\n",
    "            if d.get('SEGUNDO APELLIDO'):\n",
    "                d['NOMBRE COMPLETO']=d['NOMBRE COMPLETO']+' '+d.get('SEGUNDO APELLIDO')            \n",
    "    return l"
   ]
  },
  {
   "cell_type": "code",
   "execution_count": 17,
   "metadata": {},
   "outputs": [],
   "source": [
    "UDEA['UDEA_authors']=UDEA['UDEA_authors'].apply(fix_NOMBRE_COMPLETOS)"
   ]
  },
  {
   "cell_type": "code",
   "execution_count": 18,
   "metadata": {},
   "outputs": [
    {
     "data": {
      "text/plain": [
       "(975, 2)"
      ]
     },
     "execution_count": 18,
     "metadata": {},
     "output_type": "execute_result"
    }
   ],
   "source": [
    "dfid=UDEA[['UDEA_nombre','UDEA_cedula']]\n",
    "dfid=dfid[dfid['UDEA_cedula'].apply(lambda n: n!=0 if isinstance(n,int) else False)].reset_index(drop=True)\n",
    "dfid=dfid[dfid['UDEA_nombre']!=''].drop_duplicates().reset_index(drop=True)\n",
    "dfid.shape"
   ]
  },
  {
   "cell_type": "code",
   "execution_count": 19,
   "metadata": {},
   "outputs": [],
   "source": [
    "def get_cedula(l,fullnames_with_id=dfid):\n",
    "    for d in l:\n",
    "        if not d.get('CÉDULA') and d.get('full_name'):\n",
    "            try:\n",
    "                d['CÉDULA']=dfid[ ( dfid['UDEA_nombre']==d.get('full_name')) \n",
    "                            & ( dfid['UDEA_cedula']!=0 ) \n",
    "                            ].reset_index(\n",
    "                          drop=True)['UDEA_cedula'].loc[0]\n",
    "            except KeyError:\n",
    "                pass\n",
    "    return l"
   ]
  },
  {
   "cell_type": "code",
   "execution_count": 20,
   "metadata": {},
   "outputs": [],
   "source": [
    "UDEA['UDEA_authors']=UDEA['UDEA_authors'].apply(get_cedula)"
   ]
  },
  {
   "cell_type": "code",
   "execution_count": 21,
   "metadata": {},
   "outputs": [],
   "source": [
    "def normalize_NAME(row,WOS_NAME,SCI_NAME,SCP_NAME,UDEA_NAME,\n",
    "                   SCI_sub=('',''),SCP_sub=('',''),UDEA_sub=('',''),\n",
    "                  DEBUG=False):\n",
    "    sn=row[WOS_NAME]\n",
    "    if not sn:\n",
    "        if SCI_NAME and row[SCI_NAME]:\n",
    "            sn=re.sub( SCI_sub[0],SCI_sub[1], str( row[SCI_NAME] ) )\n",
    "            if DEBUG:\n",
    "                print('SCI: {}:{}'.format(row[SCI_NAME], sn))\n",
    "        elif SCP_NAME and row[SCP_NAME]:\n",
    "            sn=re.sub( SCP_sub[0],SCP_sub[1], str( row[SCP_NAME] ) )\n",
    "        elif UDEA_NAME and row[UDEA_NAME]:\n",
    "            sn=re.sub( SCP_sub[0],SCP_sub[1], str( row[UDEA_NAME] ) )\n",
    "            if DEBUG:\n",
    "                print('UDEA: {}:{}'.format(row[UDEA_NAME], sn))            \n",
    "    return sn"
   ]
  },
  {
   "cell_type": "code",
   "execution_count": 22,
   "metadata": {},
   "outputs": [],
   "source": [
    "WOS_NAME ='SN'\n",
    "UDEA[WOS_NAME]=UDEA.apply(lambda row: \n",
    "                       normalize_NAME(row,WOS_NAME,\n",
    "                                      SCI_NAME ='SCI_SN',\n",
    "                                      SCP_NAME ='SCP_ISSN',\n",
    "                                      UDEA_NAME='UDEA_issn rev',\n",
    "                                      SCP_sub=( '^([\\w]{4})([\\w]{4})$',r'\\1-\\2\\n'  ),\n",
    "                                      UDEA_sub=('(\\w)$',r'\\1\\n')\n",
    "                                     )\n",
    "                      ,axis='columns')"
   ]
  },
  {
   "cell_type": "code",
   "execution_count": 23,
   "metadata": {},
   "outputs": [],
   "source": [
    "WOS_NAME ='DI'\n",
    "UDEA[WOS_NAME]=UDEA.apply(lambda row: \n",
    "                       normalize_NAME(row,WOS_NAME,\n",
    "                                      SCI_NAME ='SCI_DI',\n",
    "                                      SCP_NAME ='SCP_DOI',\n",
    "                                      UDEA_NAME='UDEA_doi')\n",
    "                      ,axis='columns')"
   ]
  },
  {
   "cell_type": "code",
   "execution_count": 24,
   "metadata": {},
   "outputs": [],
   "source": [
    "WOS_NAME ='VL'\n",
    "UDEA[WOS_NAME]=UDEA.apply(lambda row: \n",
    "                       normalize_NAME(row,WOS_NAME,\n",
    "                                      SCI_NAME ='SCI_VL',\n",
    "                                      SCP_NAME ='SCP_Volume',\n",
    "                                      UDEA_NAME='',\n",
    "                                      SCI_sub=('(\\w)$',r'\\1\\n'),\n",
    "                                      SCP_sub=('(\\w)$',r'\\1\\n')\n",
    "                                     )\n",
    "                      ,axis='columns')"
   ]
  },
  {
   "cell_type": "code",
   "execution_count": 25,
   "metadata": {},
   "outputs": [],
   "source": [
    "WOS_NAME ='IS'\n",
    "UDEA[WOS_NAME]=UDEA.apply(lambda row: \n",
    "                       normalize_NAME(row,WOS_NAME,\n",
    "                                      SCI_NAME ='SCI_IS',\n",
    "                                      SCP_NAME ='SCP_Issue',\n",
    "                                      UDEA_NAME='',\n",
    "                                      SCP_sub=('(\\w)$',r'\\1\\n')\n",
    "                                     )\n",
    "                      ,axis='columns')"
   ]
  },
  {
   "cell_type": "code",
   "execution_count": 26,
   "metadata": {},
   "outputs": [],
   "source": [
    "WOS_NAME ='BP'\n",
    "UDEA[WOS_NAME]=UDEA.apply(lambda row: \n",
    "                       normalize_NAME(row,WOS_NAME,\n",
    "                                      SCI_NAME ='SCI_BP',\n",
    "                                      SCP_NAME ='SCP_Page start',\n",
    "                                      UDEA_NAME='',\n",
    "                                      SCP_sub=('(\\w)$',r'\\1\\n')\n",
    "                                     )\n",
    "                      ,axis='columns')"
   ]
  },
  {
   "cell_type": "code",
   "execution_count": 27,
   "metadata": {},
   "outputs": [],
   "source": [
    "WOS_NAME ='EP'\n",
    "UDEA[WOS_NAME]=UDEA.apply(lambda row: \n",
    "                       normalize_NAME(row,WOS_NAME,\n",
    "                                      SCI_NAME ='SCI_EP',\n",
    "                                      SCP_NAME ='SCP_Page end',\n",
    "                                      UDEA_NAME='',\n",
    "                                      SCP_sub=('(\\w)$',r'\\1\\n')\n",
    "                                     )\n",
    "                      ,axis='columns')"
   ]
  },
  {
   "cell_type": "code",
   "execution_count": 28,
   "metadata": {},
   "outputs": [],
   "source": [
    "UDEA['UDEA_idioma']=UDEA['UDEA_idioma'].apply(lambda s: 'Spanish' if s=='ESPA?' else s)\n",
    "UDEA['UDEA_idioma']=UDEA['UDEA_idioma'].apply(lambda s: 'English' if s=='INGLE' else s)\n",
    "WOS_NAME ='LA'\n",
    "UDEA[WOS_NAME]=UDEA.apply(lambda row: \n",
    "                       normalize_NAME(row,WOS_NAME,\n",
    "                                      SCI_NAME ='SCI_LA',\n",
    "                                      SCP_NAME ='SCP_Language of Original Document',\n",
    "                                      UDEA_NAME='UDEA_idioma',\n",
    "                                      SCI_sub =('\\t',r''),\n",
    "                                      SCP_sub =('(\\w)$',r'\\1\\n'),\n",
    "                                      UDEA_sub=('(\\w)$',r'\\1\\n')\n",
    "                                     )\n",
    "                      ,axis='columns')"
   ]
  },
  {
   "cell_type": "code",
   "execution_count": 29,
   "metadata": {},
   "outputs": [],
   "source": [
    "UDEA.to_json('WOS_SCI_SCP_PTJ_CTR.json.gz')"
   ]
  },
  {
   "cell_type": "markdown",
   "metadata": {},
   "source": [
    "## Centros"
   ]
  },
  {
   "cell_type": "code",
   "execution_count": 393,
   "metadata": {},
   "outputs": [],
   "source": [
    "udea=UDEA.copy()"
   ]
  },
  {
   "cell_type": "code",
   "execution_count": 394,
   "metadata": {},
   "outputs": [],
   "source": [
    "def convert_dictionary_keys_of_list_of_dictionaries_to_column_dataframe(df,\n",
    "                            json_column='UDEA_authors',dictionary_key='FACULTAD',sep='; '):\n",
    "    return df[json_column].apply(lambda l:  \n",
    "       [d.get(dictionary_key) for d in  l if type(l)==list and d.get(dictionary_key) ]  \n",
    "               ).apply(\n",
    "        pd.np.unique\n",
    "        ).apply(sep.join)    "
   ]
  },
  {
   "cell_type": "code",
   "execution_count": 395,
   "metadata": {},
   "outputs": [],
   "source": [
    "JSON=True\n",
    "if not JSON:\n",
    "    udea['FACULTAD']=convert_dictionary_keys_of_list_of_dictionaries_to_column_dataframe(udea,\n",
    "                                            json_column='UDEA_authors',dictionary_key='FACULTAD')\n",
    "    udea['DEPARTAMENTO']=convert_dictionary_keys_of_list_of_dictionaries_to_column_dataframe(udea,\n",
    "                                            json_column='UDEA_authors',dictionary_key='DEPARTAMENTO')\n",
    "    udea['GRUPO']=convert_dictionary_keys_of_list_of_dictionaries_to_column_dataframe(udea,\n",
    "                                            json_column='UDEA_authors',dictionary_key='GRUPO')\n",
    "    udea['autores_UDEA']=convert_dictionary_keys_of_list_of_dictionaries_to_column_dataframe(udea,\n",
    "                                            json_column='UDEA_authors',dictionary_key='full_name')"
   ]
  },
  {
   "cell_type": "markdown",
   "metadata": {},
   "source": [
    "# Prepare columns"
   ]
  },
  {
   "cell_type": "code",
   "execution_count": 396,
   "metadata": {},
   "outputs": [],
   "source": [
    "def new_Autores(l,nombre='Nombres',tipo='Tipo',identificación='Identificación'):\n",
    "    dd={}\n",
    "    ll=[]\n",
    "    for d in l:\n",
    "        if d.get('NOMBRE COMPLETO'):\n",
    "            dd[nombre]=d['NOMBRE COMPLETO']\n",
    "            dd[tipo]='Profesor vinculado'\n",
    "        if d.get('CÉDULA'):\n",
    "            dd[identificación]=d['CÉDULA']\n",
    "        ll.append(dd)\n",
    "    return ll"
   ]
  },
  {
   "cell_type": "code",
   "execution_count": 397,
   "metadata": {},
   "outputs": [
    {
     "data": {
      "text/plain": [
       "Index(['annio', 'autores', 'clasificacionColciencias', 'doi', 'idioma', 'issn',\n",
       "       'nombreRevista', 'numero', 'paginas', 'proyectoAsociado', 'semestre',\n",
       "       'tipoRevista', 'tituloArticulo', 'volumen'],\n",
       "      dtype='object')"
      ]
     },
     "execution_count": 397,
     "metadata": {},
     "output_type": "execute_result"
    }
   ],
   "source": [
    "ex.columns"
   ]
  },
  {
   "cell_type": "code",
   "execution_count": 398,
   "metadata": {},
   "outputs": [],
   "source": [
    "if JSON:\n",
    "    año='annio'; título='tituloArticulo'; revista='nombreRevista'\n",
    "    issn='issn'; doi='doi'; volumen='volumen'; número='numero'\n",
    "    páginas='paginas'; semestre='semestre'; idioma='idioma'\n",
    "    tipoRevista='tipoRevista';     Colciencias='clasificacionColciencias'\n",
    "    proyecto='proyectoAsociado'\n",
    "    autores='autores'\n",
    "else:\n",
    "    año='Año';   título='Título del Artículo'; revista='Nombre de la Revista'\n",
    "    issn='ISSN'; doi='DOI'; volumen='Volumen'; número='numero'\n",
    "    páginas='Páginas'; semestre='Semestre'; idioma='Idioma'\n",
    "    tipoRevista='Tipo de Revista'; Colciencias='Clasificación Colciencias'\n",
    "    proyecto='Producto asociado a un proyecto de extensión o investigación'\n",
    "    udea['Nombre del proyecto de extensión o investigación']=''\n",
    "    autores='Autores'\n",
    "    \n",
    "udea[título]=udea['TI']\n",
    "udea[revista]=udea['SO']\n",
    "udea[issn]=udea['SN'].str.replace('\\n','')\n",
    "udea[doi]=udea['DI']\n",
    "udea[volumen]=udea['VL'].str.replace('\\n','')\n",
    "udea[número]=udea['IS'].str.replace('\\n','')\n",
    "udea[páginas]=udea.apply(lambda row:\n",
    "                  row['BP'].replace('\\n','')+'-'+row['EP'].replace('\\n','') \n",
    "                  if row['BP'] \n",
    "                  else row['BP'],axis='columns').str.replace('\\-$','')\n",
    "udea[año]=udea['PY']\n",
    "udea[semestre]=None\n",
    "udea[idioma]=udea['LA'].str.replace('\\n','')\n",
    "udea[tipoRevista]=udea.apply(lambda row: 'Revista Internacional Indexada' \n",
    "           if row.get('Tipo').find('WOS')>-1 or row.get('Tipo').find('SCP')\n",
    "           else 'Revista Indexada en SCIELO',axis='columns')\n",
    "udea[Colciencias]=None\n",
    "udea[proyecto]=None\n"
   ]
  },
  {
   "cell_type": "code",
   "execution_count": 399,
   "metadata": {},
   "outputs": [],
   "source": [
    "udea[autores]=udea['UDEA_authors'].apply(new_Autores)"
   ]
  },
  {
   "cell_type": "code",
   "execution_count": 400,
   "metadata": {},
   "outputs": [],
   "source": [
    "udea_au=udea[udea[autores].apply(len)>0].reset_index(drop=True)"
   ]
  },
  {
   "cell_type": "code",
   "execution_count": 401,
   "metadata": {},
   "outputs": [
    {
     "data": {
      "text/plain": [
       "2018"
      ]
     },
     "execution_count": 401,
     "metadata": {},
     "output_type": "execute_result"
    }
   ],
   "source": [
    "udea.PY.max()"
   ]
  },
  {
   "cell_type": "code",
   "execution_count": 402,
   "metadata": {},
   "outputs": [],
   "source": [
    "f=open('example.json','w')\n",
    "f.write(\n",
    "'''\n",
    "[{\n",
    "  \"autores\" : [ \n",
    "      {\n",
    "          \"nombreAutor\" : \"Jonathan Aguilar Bedoya\",\n",
    "          \"identificacionAutor\" : null,\n",
    "          \"tipoAutor\" : \"Estudiante de posgrado\",\n",
    "          \"programaAcademico\" : [ \n",
    "              \"60178-MAESTRÍA EN INGENIERÍA MECÁNICA-INVESTIGACIÓN\"\n",
    "          ],\n",
    "          \"grupoInvestigacion\" : [ \n",
    "              \"Grupo de Energía Alternativa\"\n",
    "          ]\n",
    "      }, \n",
    "      {\n",
    "          \"nombreAutor\" : \"Ainhoa Rubio Celemente\",\n",
    "          \"tipoAutor\" : \"Autor externo\",\n",
    "          \"grupoInvestigacion\" : [ \n",
    "              \"Grupo de Energía Alternativa\"\n",
    "          ],\n",
    "          \"institucion\" : \"Tecnológico de Antioquia. Institución Universitaria\",\n",
    "          \"pais\" : \"Colombia\"\n",
    "      }, \n",
    "      {\n",
    "          \"nombreAutor\" : \"Laura Isable Velasquez Garcia\",\n",
    "          \"tipoAutor\" : \"Profesor ocasional\",\n",
    "          \"programaAcademico\" : [ \n",
    "              \"516-INGENIERÍA MECÁNICA\"\n",
    "          ],\n",
    "          \"grupoInvestigacion\" : [ \n",
    "              \"Grupo de Energía Alternativa\"\n",
    "          ]\n",
    "      }, \n",
    "      {\n",
    "          \"nombreAutor\" : \"Edwin Lenin Chica Arrieta\",\n",
    "          \"identificacionAutor\" : \"78761560\",\n",
    "          \"tipoAutor\" : \"Profesor vinculado\",\n",
    "          \"programaAcademico\" : [ \n",
    "              \"516-INGENIERÍA MECÁNICA\"\n",
    "          ],\n",
    "          \"grupoInvestigacion\" : [ \n",
    "              \"Grupo de Energía Alternativa\"\n",
    "          ]\n",
    "      }\n",
    "  ],\n",
    "  \"tituloArticulo\" : \"Design and Optimization of a Multi-Element Hydrofoil for a Horizontal-Axis Hydrokinetic Turbine\",\n",
    "  \"nombreRevista\" : \"Energies\",\n",
    "  \"issn\" : \"1996-1073\",\n",
    "  \"doi\" : \"10.3390/en12244679\",\n",
    "  \"volumen\" : 12,\n",
    "  \"numero\" : 24,\n",
    "  \"paginas\" : \"1-18\",\n",
    "  \"annio\" : 2019,\n",
    "  \"semestre\" : \"2019-2\",\n",
    "  \"idioma\" : \"Inglés\",\n",
    "  \"tipoRevista\" : \"Revista Internacional Indexada\",\n",
    "  \"clasificacionColciencias\" : \"A1\",\n",
    "  \"proyectoAsociado\" : null\n",
    "}\n",
    "]\n",
    "'''\n",
    ")\n",
    "f.close()"
   ]
  },
  {
   "cell_type": "code",
   "execution_count": 403,
   "metadata": {},
   "outputs": [],
   "source": [
    "if JSON:\n",
    "    new_format=pd.read_json( 'example.json' )\n",
    "else:\n",
    "    new_format=pd.read_excel('https://docs.google.com/spreadsheets/d/e/2PACX-1vTiaxuZSGmI-aFgMUVjRAU3ws7WN9xmtjMEWu_SLOd5kAq_ZAuUtJUVr8qxNl3sMcp_fjE2gLVt_tdp/pub?output=xlsx')"
   ]
  },
  {
   "cell_type": "code",
   "execution_count": 404,
   "metadata": {},
   "outputs": [],
   "source": [
    "audea=udea_au[list(new_format.columns)]\n",
    "#.to_excel('UDEA_2018.xlsx',index=False)"
   ]
  },
  {
   "cell_type": "code",
   "execution_count": 405,
   "metadata": {},
   "outputs": [
    {
     "data": {
      "text/plain": [
       "(12270, 14)"
      ]
     },
     "execution_count": 405,
     "metadata": {},
     "output_type": "execute_result"
    }
   ],
   "source": [
    "audea.shape"
   ]
  },
  {
   "cell_type": "markdown",
   "metadata": {},
   "source": [
    "# NOTA\n",
    "Se ha añadido \n",
    "* `'Facultad'`\n",
    "* y `'afiliacionWOS'` cuando no se conoce el departamente"
   ]
  },
  {
   "cell_type": "code",
   "execution_count": 418,
   "metadata": {},
   "outputs": [],
   "source": [
    "def new_Autores(l,AU=AU,\n",
    "                nombre='nombreAutor',#str \n",
    "                tipo='tipoAutor',\n",
    "                identificación='identificacionAutor',\n",
    "                facultad='facultad',#str\n",
    "                departamento='departamento',#list\n",
    "                grupo='grupoInvestigacion',#list\n",
    "                institución='institucion'#str\n",
    "               ):\n",
    "    '''\n",
    "    AU: Data Frame with author info\n",
    "    Added Facultad y afiliacion WOS\n",
    "    '''\n",
    "    dd={}\n",
    "    ll=[]\n",
    "    for d in l:\n",
    "        if d.get('CÉDULA'):\n",
    "            au=AU[AU['CÉDULA']==int(d.get('CÉDULA'))].reset_index(drop=True)\n",
    "            if not au.empty:\n",
    "                dd[nombre]=au.loc[0,'NOMBRE COMPLETO']\n",
    "                dd[tipo]='Profesor vinculado'\n",
    "                dd[identificación]=au.loc[0,'CÉDULA']\n",
    "                dd[facultad]=au.loc[0,'FACULTAD']\n",
    "                dd[departamento]=[au.loc[0,'DEPARTAMENTO']]\n",
    "                dd[grupo]=[au.loc[0,'GRUPO']]\n",
    "                dd[institución]='Universidad de Antioquia'\n",
    "                try:\n",
    "                    dd['afiliacionWOS']=d.get('WOS_affiliation')[0]\n",
    "                except:\n",
    "                    pass\n",
    "            else:\n",
    "                if d.get('NOMBRE COMPLETO'):\n",
    "                    dd[nombre]=d['NOMBRE COMPLETO']\n",
    "                    dd[tipo]='Profesor vinculado'\n",
    "                if d.get('CÉDULA'):\n",
    "                    dd[identificación]=d['CÉDULA']\n",
    "                    dd[institución]='Universidad de Antioquia'\n",
    "                    try:\n",
    "                        dd['afiliacionWOS']=d.get('WOS_affiliation')[0]\n",
    "                    except:\n",
    "                        pass\n",
    "                else:\n",
    "                    dd[identificación]=None\n",
    "        ll.append(dd)\n",
    "        dd={}\n",
    "    return ll"
   ]
  },
  {
   "cell_type": "code",
   "execution_count": 419,
   "metadata": {},
   "outputs": [],
   "source": [
    "udea[autores]=udea['UDEA_authors'].apply(new_Autores)"
   ]
  },
  {
   "cell_type": "code",
   "execution_count": 420,
   "metadata": {},
   "outputs": [
    {
     "data": {
      "text/plain": [
       "[{'afiliacionWOS': 'Univ Antioquia, Grp Corros & Protecc CIDEMAT, Medellin, Colombia.',\n",
       "  'departamento': ['Departamento de Ingeniería Metalúrgica'],\n",
       "  'facultad': 'Facultad de Ingeniería',\n",
       "  'grupoInvestigacion': ['Centro de Investigación, Innovación y Desarrollo de Materiales - CIDEMAT - Anteriormente: Grupo de Corrosión y Protección'],\n",
       "  'identificacionAutor': 74322987,\n",
       "  'institucion': 'Universidad de Antioquia',\n",
       "  'nombreAutor': 'Felix Echeverria Echeverria',\n",
       "  'tipoAutor': 'Profesor vinculado'},\n",
       " {'afiliacionWOS': 'Univ Antioquia, Colombia.',\n",
       "  'departamento': ['Departamento de Ingeniería Metalúrgica'],\n",
       "  'facultad': 'Facultad de Ingeniería',\n",
       "  'grupoInvestigacion': ['Centro de Investigación, Innovación y Desarrollo de Materiales - CIDEMAT - Anteriormente: Grupo de Corrosión y Protección'],\n",
       "  'identificacionAutor': 71690172,\n",
       "  'institucion': 'Universidad de Antioquia',\n",
       "  'nombreAutor': 'Juan Guillermo Castaño Gonzalez',\n",
       "  'tipoAutor': 'Profesor vinculado'},\n",
       " {'afiliacionWOS': 'Univ Antioquia, Grp Corros & Protecc, Medellin, Colombia.',\n",
       "  'departamento': ['Departamento de Ingeniería Metalúrgica'],\n",
       "  'facultad': 'Facultad de Ingeniería',\n",
       "  'grupoInvestigacion': ['Centro de Investigación, Innovación y Desarrollo de Materiales - CIDEMAT - Anteriormente: Grupo de Corrosión y Protección'],\n",
       "  'identificacionAutor': 32392138,\n",
       "  'institucion': 'Universidad de Antioquia',\n",
       "  'nombreAutor': 'Maryory Astrid Gomez Botero',\n",
       "  'tipoAutor': 'Profesor vinculado'},\n",
       " {'afiliacionWOS': 'Univ Antioquia, Grp Manejo Eficiente Energia GIMEL, Medellin 1226, Colombia.',\n",
       "  'departamento': ['Departamento de Ingeniería Eléctrica'],\n",
       "  'facultad': 'Facultad de Ingeniería',\n",
       "  'grupoInvestigacion': ['Centro de Investigación, Innovación y Desarrollo de Materiales - CIDEMAT - Anteriormente: Grupo de Corrosión y Protección, '],\n",
       "  'identificacionAutor': 70328364,\n",
       "  'institucion': 'Universidad de Antioquia',\n",
       "  'nombreAutor': 'Esteban Velilla Hernandez',\n",
       "  'tipoAutor': 'Profesor vinculado'}]"
      ]
     },
     "execution_count": 420,
     "metadata": {},
     "output_type": "execute_result"
    }
   ],
   "source": [
    "udea[autores].loc[5]"
   ]
  },
  {
   "cell_type": "code",
   "execution_count": 389,
   "metadata": {},
   "outputs": [],
   "source": [
    "import itertools\n",
    "def add_and_check_wos_authors(row,autores='autores'):\n",
    "    wos_list =[ d.get('WOS_author') for d in row.get('authors_WOS')]\n",
    "    udea_list=[ d.get('WOS_author') for d in row.get('UDEA_authors')]\n",
    "    #Quality check: UdeA author in WOS_author\n",
    "    print(udea_list)\n",
    "    for uli in udea_list:\n",
    "        print(uli)\n",
    "        for ul in uli:\n",
    "            ur=process.extractOne(ul, wos_list,\n",
    "                                 scorer=fuzz.ratio)\n",
    "            print(ul,ur)\n",
    "            #If failed remove\n",
    "\n",
    "        print('+++'*20)\n",
    "\n",
    "    print('='*80)\n",
    "    udea_list = list(itertools.chain.from_iterable(udea_list))\n",
    "\n",
    "    #Complete missing authors\n",
    "    for wos_au in wos_list:\n",
    "        r=process.extractOne(wos_au, udea_list,\n",
    "                                 scorer=fuzz.ratio)\n",
    "            #if r and r[1]==100 → WOS_author is UDEA_author\n",
    "            #Else → Add to authors column\n",
    "        print(wos_au,r)\n",
    "    pass"
   ]
  },
  {
   "cell_type": "code",
   "execution_count": 392,
   "metadata": {},
   "outputs": [
    {
     "name": "stdout",
     "output_type": "stream",
     "text": [
      "[['Echeverria, Felix', 'Echeverria Echeverria, F.', 'Echeverria, F.', 'Echeverria Echeverria, Felix'], ['Castano Gonzalez, Juan Guillermo', 'Castano, J. G.', 'Castano, Juan Guillermo', 'Castano, Juan', 'Castano, Juan G.', 'Castano-Gonzalez, Juan', 'Castano-Gonzalez, J. G.', 'Guillermo Castano, Juan'], ['Gomez Botero, Maryory Astrid', 'Gomez, Maryory', 'GOMEZ, MARYORY', 'GOMEZ, MARYORY ASTRID', 'Gomez, Maryory Astrid', 'Gomez Botero, Maryory', 'Gomez, M.', 'Gomez, M. A.', 'Astrid Gomez-Botero, Maryory'], ['Velilla, Esteban', 'Velilla, E.']]\n",
      "['Echeverria, Felix', 'Echeverria Echeverria, F.', 'Echeverria, F.', 'Echeverria Echeverria, Felix']\n",
      "Echeverria, Felix ('Echeverria, Felix', 100)\n",
      "Echeverria Echeverria, F. ('Echeverria, Felix', 63)\n",
      "Echeverria, F. ('Echeverria, Felix', 87)\n",
      "Echeverria Echeverria, Felix ('Echeverria, Felix', 76)\n",
      "++++++++++++++++++++++++++++++++++++++++++++++++++++++++++++\n",
      "['Castano Gonzalez, Juan Guillermo', 'Castano, J. G.', 'Castano, Juan Guillermo', 'Castano, Juan', 'Castano, Juan G.', 'Castano-Gonzalez, Juan', 'Castano-Gonzalez, J. G.', 'Guillermo Castano, Juan']\n",
      "Castano Gonzalez, Juan Guillermo ('Castano, Juan G.', 64)\n",
      "Castano, J. G. ('Castano, Juan G.', 86)\n",
      "Castano, Juan Guillermo ('Castano, Juan G.', 79)\n",
      "Castano, Juan ('Castano, Juan G.', 93)\n",
      "Castano, Juan G. ('Castano, Juan G.', 100)\n",
      "Castano-Gonzalez, Juan ('Castano, Juan G.', 70)\n",
      "Castano-Gonzalez, J. G. ('Castano, Juan G.', 65)\n",
      "Guillermo Castano, Juan ('Castano, Juan G.', 68)\n",
      "++++++++++++++++++++++++++++++++++++++++++++++++++++++++++++\n",
      "['Gomez Botero, Maryory Astrid', 'Gomez, Maryory', 'GOMEZ, MARYORY', 'GOMEZ, MARYORY ASTRID', 'Gomez, Maryory Astrid', 'Gomez Botero, Maryory', 'Gomez, M.', 'Gomez, M. A.', 'Astrid Gomez-Botero, Maryory']\n",
      "Gomez Botero, Maryory Astrid ('Gomez, Maryory', 67)\n",
      "Gomez, Maryory ('Gomez, Maryory', 100)\n",
      "GOMEZ, MARYORY ('Gomez, Maryory', 100)\n",
      "GOMEZ, MARYORY ASTRID ('Gomez, Maryory', 80)\n",
      "Gomez, Maryory Astrid ('Gomez, Maryory', 80)\n",
      "Gomez Botero, Maryory ('Gomez, Maryory', 80)\n",
      "Gomez, M. ('Gomez, Maryory', 73)\n",
      "Gomez, M. A. ('Gomez, Maryory', 72)\n",
      "Astrid Gomez-Botero, Maryory ('Gomez, Maryory', 67)\n",
      "++++++++++++++++++++++++++++++++++++++++++++++++++++++++++++\n",
      "['Velilla, Esteban', 'Velilla, E.']\n",
      "Velilla, Esteban ('Velilla, Esteban', 100)\n",
      "Velilla, E. ('Velilla, Esteban', 77)\n",
      "++++++++++++++++++++++++++++++++++++++++++++++++++++++++++++\n",
      "================================================================================\n",
      "Correa, Lorena E. ('Echeverria, Felix', 42)\n",
      "Gomez, Maryory ('Gomez, Maryory', 100)\n",
      "Echeverria, Felix ('Echeverria, Felix', 100)\n",
      "Castano, Juan G. ('Castano, Juan G.', 100)\n",
      "Velilla, Esteban ('Velilla, Esteban', 100)\n"
     ]
    },
    {
     "data": {
      "text/plain": [
       "5    None\n",
       "dtype: object"
      ]
     },
     "execution_count": 392,
     "metadata": {},
     "output_type": "execute_result"
    }
   ],
   "source": [
    "i=5\n",
    "udea.loc[[i]].apply(add_and_check_wos_authors, axis='columns')"
   ]
  },
  {
   "cell_type": "code",
   "execution_count": 340,
   "metadata": {},
   "outputs": [
    {
     "data": {
      "text/plain": [
       "[{'afiliacionWOS': ['SIU, Univ Antioquia, Environm Catalysis Res Grp, Medellin 1226, Colombia.',\n",
       "   'Univ Antioquia, SIU, Environm Catalysis Res Grp, Medellin, Colombia.'],\n",
       "  'identificacionAutor': 32508663,\n",
       "  'institucion': 'Universidad de Antioquia',\n",
       "  'nombreAutor': 'Del Consuelo Montes Ramirez',\n",
       "  'tipoAutor': 'Profesor vinculado'}]"
      ]
     },
     "execution_count": 340,
     "metadata": {},
     "output_type": "execute_result"
    }
   ],
   "source": [
    "udea[autores].loc[i]"
   ]
  },
  {
   "cell_type": "code",
   "execution_count": 343,
   "metadata": {},
   "outputs": [
    {
     "data": {
      "text/plain": [
       "['Hoyos Barreto, Andres Emilio', 'Jimenez Correa, Monica Maria']"
      ]
     },
     "execution_count": 343,
     "metadata": {},
     "output_type": "execute_result"
    }
   ],
   "source": [
    "wos_list=[ d.get('WOS_author') for d in udea['authors_WOS'].loc[i]]\n",
    "wos_list\n"
   ]
  },
  {
   "cell_type": "code",
   "execution_count": 341,
   "metadata": {},
   "outputs": [
    {
     "data": {
      "text/plain": [
       "[{'WOS_author': 'Hoyos Barreto, Andres Emilio',\n",
       "  'affiliation': ['Univ Antioquia, Bogota, Colombia.'],\n",
       "  'i': 0},\n",
       " {'WOS_author': 'Jimenez Correa, Monica Maria',\n",
       "  'affiliation': ['Univ Antioquia, Bogota, Colombia.'],\n",
       "  'i': 1}]"
      ]
     },
     "execution_count": 341,
     "metadata": {},
     "output_type": "execute_result"
    }
   ],
   "source": [
    "udea['authors_WOS'].loc[i]"
   ]
  },
  {
   "cell_type": "code",
   "execution_count": 342,
   "metadata": {},
   "outputs": [
    {
     "data": {
      "text/plain": [
       "[{'CÉDULA': 32508663,\n",
       "  'INICIALES': 'D. C.',\n",
       "  'NOMBRE COMPLETO': 'Del Consuelo Montes Ramirez',\n",
       "  'NOMBRES': 'Del Consuelo',\n",
       "  'PRIMER APELLIDO': 'Montes',\n",
       "  'SEGUNDO APELLIDO': 'Ramirez',\n",
       "  'WOS_affiliation': ['SIU, Univ Antioquia, Environm Catalysis Res Grp, Medellin 1226, Colombia.',\n",
       "   'Univ Antioquia, SIU, Environm Catalysis Res Grp, Medellin, Colombia.'],\n",
       "  'WOS_author': ['Montes, Consuelo'],\n",
       "  'full_name': 'MONTES RAMIREZ MARIA DEL CONSUELO'}]"
      ]
     },
     "execution_count": 342,
     "metadata": {},
     "output_type": "execute_result"
    }
   ],
   "source": [
    "udea['UDEA_authors'].loc[i]"
   ]
  },
  {
   "cell_type": "code",
   "execution_count": 213,
   "metadata": {},
   "outputs": [
    {
     "data": {
      "text/plain": [
       "(12270,)"
      ]
     },
     "execution_count": 213,
     "metadata": {},
     "output_type": "execute_result"
    }
   ],
   "source": [
    "aa[aa.apply("
   ]
  },
  {
   "cell_type": "code",
   "execution_count": 175,
   "metadata": {},
   "outputs": [
    {
     "data": {
      "text/plain": [
       "0                                                                                    [{'i': 0, 'WOS_author': 'Garcia Quintero, Edwin', 'affiliation': ['Univ Antioquia, Dept Ingn Elect, Medellin, Colombia.']}]\n",
       "1        [{'i': 0, 'WOS_author': 'Hoyos Barreto, Andres Emilio', 'affiliation': ['Univ Antioquia, Bogota, Colombia.']}, {'i': 1, 'WOS_author': 'Jimenez Correa, Monica Maria', 'affiliation': ['Univ Antioqui...\n",
       "2        [{'i': 0, 'WOS_author': 'Soler T, Wilmer', 'affiliation': ['Univ Antioquia, Fac Med, Medellin 1226, Colombia.']}, {'i': 1, 'WOS_author': 'Velasquez E, Nelly D.', 'affiliation': ['Univ Antioquia, F...\n",
       "3                                                                                                                                                                                                             []\n",
       "4        [{'i': 0, 'WOS_author': 'Ballestas Cueto, H.', 'affiliation': ['Grupo de investigación Salud y Sostenibilidad, Escuela de Microbiología, Univ Antioquia, Medellín, Colombia']}, {'i': 1, 'WOS_author...\n",
       "5        [{'i': 0, 'WOS_author': 'Correa, Lorena E.', 'affiliation': ['Univ Antioquia, Grp Corros & Protecc CIDEMAT, Medellin, Colombia.']}, {'i': 1, 'WOS_author': 'Gomez, Maryory', 'affiliation': ['Univ A...\n",
       "6                                                                            [{'origin': 'from AU+UDEA_authors', 'WOS_author': 'Lotero, J.', 'affiliation': ['Univ Antioquia, Dept Econ, Medellin, Colombia.']}]\n",
       "7                                   [{'i': 0, 'WOS_author': 'Naranjo, L. F.', 'affiliation': ['Univ Antioquia, Colombia']}, {'i': 1, 'WOS_author': 'Guerrero, M.', 'affiliation': ['Univ Antioquia, Colombia']}]\n",
       "8                                                                                                                          [{'i': 0, 'WOS_author': 'Gómez, J. C.', 'affiliation': ['Univ Antioquia, Colombia']}]\n",
       "9                                                                                                                        [{'i': 0, 'WOS_author': 'Correa, M.L.P.', 'affiliation': ['Univ Antioquia, Colombia']}]\n",
       "10                                                                                                                        [{'i': 0, 'WOS_author': 'García, M. B.', 'affiliation': ['Univ Antioquia, Colombia']}]\n",
       "11                                                                                   [{'i': 0, 'WOS_author': 'Morales Estrada, Esteban', 'affiliation': ['Univ Antioquia, Sede Medellin, Medellin, Colombia.']}]\n",
       "12                                                                                                                       [{'i': 0, 'WOS_author': 'Hurtado, N. S.', 'affiliation': ['Univ Antioquia, Colombia']}]\n",
       "13                                                                                                                     [{'i': 0, 'WOS_author': 'Restrepo, J.S.M.', 'affiliation': ['Univ Antioquia, Colombia']}]\n",
       "14                                                                                                                                                                                                            []\n",
       "15       [{'i': 0, 'WOS_author': 'Urán Arenas, O. A.', 'affiliation': ['Univ Antioquia, Grupo de Investigación en Cultura Política y Desarrollo Social, Colombia']}, {'i': 1, 'WOS_author': 'Cárdenas, D. P.'...\n",
       "16       [{'i': 0, 'WOS_author': 'Henao, A. O.', 'affiliation': ['Univ Antioquia, Medellín, Colombia']}, {'i': 1, 'WOS_author': 'Ramírez, S.D.A.', 'affiliation': ['Univ Antioquia, Medellín, Colombia']}, {'...\n",
       "17       [{'i': 0, 'WOS_author': 'Sánchez, E. P.', 'affiliation': ['Univ Antioquia in Medellín, Colombia, Gastro-hepatology Group, Univ Antioquia in Medellín, Colombia']}, {'i': 1, 'WOS_author': 'Vargas, M...\n",
       "18       [{'i': 0, 'WOS_author': 'Duque-Jaramillo, Alejandra', 'affiliation': ['Univ Antioquia, Colombia.']}, {'i': 1, 'WOS_author': 'Rendón, Julio C', 'affiliation': ['Univ Antioquia, Colombia.']}, {'i': ...\n",
       "19       [{'i': 0, 'WOS_author': 'Romano, A. E.', 'affiliation': ['Department of Physics, National Taiwan University, Taipei, Taiwan, Leung Center for Cosmology and Particle Astrophysics, National Taiwan U...\n",
       "20       [{'i': 0, 'WOS_author': 'Vásquez-Salazar, E. A.', 'affiliation': ['Univ Antioquia. Medellín, Colombia']}, {'i': 1, 'WOS_author': 'Ochoa-Marín, S. C.', 'affiliation': ['Univ Antioquia. Medellín, Co...\n",
       "21                                                                     [{'i': 0, 'WOS_author': 'Fortich, F.', 'affiliation': ['San Vicente Fundación, Medellín, Colombia, Univ Antioquia, Medellín, Colombia']}]\n",
       "22                   [{'i': 0, 'WOS_author': 'Builes Morales, D. E.', 'affiliation': ['Univ Antioquia, Colombia']}, {'i': 1, 'WOS_author': 'León Calderón, M. C.', 'affiliation': ['Univ Antioquia, Colombia']}]\n",
       "23                           [{'i': 0, 'WOS_author': 'Egio Rubio, C.', 'affiliation': ['Universidad Complutense de Madrid, Spain, Grupo de Investigación Medio Ambiente y Sociedad, Univ Antioquia, Colombia']}]\n",
       "24                                                                                                     [{'i': 0, 'WOS_author': 'Calle Espinosa, Yhelin Cristina', 'affiliation': ['Univ Antioquia, Colombia.']}]\n",
       "25       [{'i': 0, 'WOS_author': 'Monsalve, Monica', 'affiliation': ['Univ Antioquia, Grp GIPIMME, Dept Ingn Met & Mat, Medellin, Colombia.']}, {'i': 1, 'WOS_author': 'Lopez, Esperanza', 'affiliation': ['U...\n",
       "26       [{'i': 0, 'WOS_author': 'David, S.', 'affiliation': ['Instituto de Biología, Univ Antioquia, A.A. 1226, Medellín, Colombia, Department of Zoology and Biodiversity Research Centre, University of Br...\n",
       "27       [{'i': 0, 'WOS_author': 'Modragoń, F.', 'affiliation': ['Univ Antioquia, Medellín, Colombia, Empresas Públicas de Medellín, Medellín, Colombia']}, {'i': 1, 'WOS_author': 'Rios, L.', 'affiliation':...\n",
       "28                                                        [{'i': 0, 'WOS_author': 'Acevedo-Quintero, J. F.', 'affiliation': ['Grupo de Mastozoología - CTUA, Instituto de Biología, Univ Antioquia, Colombia']}]\n",
       "29                                                                                [{'i': 0, 'WOS_author': 'David, S.', 'affiliation': ['Instituto de Biología, Univ Antioquia, Medellín, Antioquia, Colombia']}]\n",
       "                                                                                                          ...                                                                                                   \n",
       "15614    [{'i': 0, 'WOS_author': 'Velasquez, Juliana', 'affiliation': ['Univ Antioquia, Grp Catalizadores & Adsorbentes, Medellin 1226, Colombia.']}, {'i': 1, 'WOS_author': 'Echavarria, Adriana', 'affiliat...\n",
       "15615                                                                                            [{'i': 0, 'WOS_author': 'Maya Duque, Pablo', 'affiliation': ['Univ Antioquia, Fac Engn, Medellin, Colombia.']}]\n",
       "15616    [{'i': 0, 'WOS_author': 'Gomez-Makhinson, Juliana', 'affiliation': ['Univ Antioquia, Fac Med, Dept Psiquiatria, Res Grp Psychiat,GIPSI, Medellin 050011, Colombia.']}, {'i': 1, 'WOS_author': 'Lopez...\n",
       "15617    [{'i': 0, 'WOS_author': 'Nagar, D. K.', 'affiliation': ['Instituto de Matemáticas, Univ Antioquia, Calle 67, No. 53-108, Medellín, Colombia']}, {'i': 1, 'WOS_author': 'Morán-Vásquez, R. A.', 'affi...\n",
       "15618                                                                                            [{'i': 0, 'WOS_author': 'Duque, C. A.', 'affiliation': ['Univ Antioquia, Inst Fis, Medellin 1226, Colombia.']}]\n",
       "15619                                                                 [{'i': 0, 'WOS_author': 'Luz Galvan-Diaz, Ana', 'affiliation': ['Univ Antioquia, Escuela Microbiol, Grp Parasitol, Medellin, Colombia.']}]\n",
       "15620                                                                                                                                                                                                         []\n",
       "15621                                                                                              [{'i': 0, 'WOS_author': 'Carlos Gallego-Gomez, Juan', 'affiliation': ['Univ Antioquia, Medelln, Colombia.']}]\n",
       "15622                                                                                        [{'i': 0, 'WOS_author': 'Trujillo, Natalia', 'affiliation': ['Univ Antioquia, Neurosci Grp, Medellin, Colombia.']}]\n",
       "15623                                                                                      [{'i': 0, 'WOS_author': 'Florez, Elizabeth', 'affiliation': ['Univ Antioquia, Inst Quim, Medellin 1226, Colombia.']}]\n",
       "15624    [{'i': 0, 'WOS_author': 'Nagar, Daya K.', 'affiliation': ['Univ Antioquia, Inst Matemat, Medellin, Colombia.']}, {'i': 1, 'WOS_author': 'Roldan-Correa, Alejandro', 'affiliation': ['Univ Antioquia,...\n",
       "15625    [{'i': 0, 'WOS_author': 'Maestre, Amanda', 'affiliation': ['Univ Antioquia, Fac Med, Grp Salud Comunidad, Medellin, Colombia.']}, {'i': 1, 'WOS_author': 'Carmona-Fonseca, Jaime', 'affiliation': ['...\n",
       "15626    [{'i': 0, 'WOS_author': 'Catalina Rodriguez, Diana', 'affiliation': ['Univ Antioquia, Lab Diagnost & Pollut Control GDCON, Medellin, Colombia.']}, {'i': 1, 'WOS_author': 'Ramirez, Omaira', 'affili...\n",
       "15627    [{'i': 0, 'WOS_author': 'Acelas, Nancy Y.', 'affiliation': ['Univ Antioquia, UdeA, Inst Quim, Fac Ciencias Exactas & Nat Quim Recursos Energet, Medellin, Colombia.']}, {'i': 1, 'WOS_author': 'Lope...\n",
       "15628                                                                                                     [{'i': 0, 'WOS_author': 'Colorado, Henry A.', 'affiliation': ['Univ Antioquia, Medellin, Colombia.']}]\n",
       "15629    [{'i': 0, 'WOS_author': 'Bonilla-Porras, Angelica R.', 'affiliation': ['Univ Antioquia UdeA, Med Res Inst, Sch Med, Siu Medellin, Colombia.']}, {'i': 1, 'WOS_author': 'Jimenez-Del-Rio, Marlene', '...\n",
       "15630                                                                              [{'i': 0, 'WOS_author': 'Ochoa-Marín, S. C.', 'affiliation': ['Univ Antioquia UdeA, Medellín, Colombia, catyo@udea.edu.co']}]\n",
       "15631       [{'i': 0, 'WOS_author': 'Zapata, J. D.', 'affiliation': ['Univ Antioquia, Medellin, Colombia.']}, {'i': 1, 'WOS_author': 'Cardenas, A. M.', 'affiliation': ['Univ Antioquia, Medellin, Colombia.']}]\n",
       "15632    [{'i': 0, 'WOS_author': 'Baena, A.', 'affiliation': ['Univ Antioquia, Sch Med, Grp Infect & Canc, Medellin, Colombia.']}, {'i': 1, 'WOS_author': 'Salazar, J. E.', 'affiliation': ['Univ Antioquia, ...\n",
       "15633                                                                                     [{'i': 0, 'WOS_author': 'Alfredo Munoz, Luis', 'affiliation': ['Univ Antioquia, Inst Fis, Medellin 1226, Colombia.']}]\n",
       "15634    [{'i': 0, 'WOS_author': 'Penuela, Mariana', 'affiliation': ['Univ Antioquia, Dept Chem Engn, Bioproc Res Grp, Fac Engn, Medellin, Colombia.']}, {'i': 1, 'WOS_author': 'Villegas, Adriana', 'affilia...\n",
       "15635    [{'i': 0, 'WOS_author': 'Mora-Ramos, M. E.', 'affiliation': ['Univ Antioquia, Inst Fis, Medellin 1226, Colombia.']}, {'i': 1, 'WOS_author': 'Duque, C. A.', 'affiliation': ['Univ Antioquia, Inst Fi...\n",
       "15636                                                                                               [{'i': 0, 'WOS_author': 'Mahecha, Jorge', 'affiliation': ['Univ Antioquia, Inst Fis, Medellin, Colombia.']}]\n",
       "15637                                                                                             [{'i': 0, 'WOS_author': 'Agudelo, John R.', 'affiliation': ['Univ Antioquia, Fac Ingn, Medellin, Colombia.']}]\n",
       "15638    [{'i': 0, 'WOS_author': 'Santamaria, Alexander', 'affiliation': ['Univ Antioquia, Inst Chem, Medellin 1226, Colombia.']}, {'i': 1, 'WOS_author': 'Mondragon, Fanor', 'affiliation': ['Univ Antioquia...\n",
       "15639                                                 [{'i': 0, 'WOS_author': 'Agudelo, Andres', 'affiliation': ['Univ Antioquia, Grp Efficient Management Energy GIMEL, Fac Engn, Medellin 53108, Colombia.']}]\n",
       "15640                                                                                                 [{'i': 0, 'WOS_author': 'Duque, C. A.', 'affiliation': ['Univ Antioquia, Inst Fis, Medellin, Colombia.']}]\n",
       "15641            [{'i': 0, 'WOS_author': 'Patricia Cardona-Gomez, Gloria', 'affiliation': ['Univ Antioquia, SIU, Sch Med,Lab 411 412, Neurosci Grp Antioquia,Cellular & Mol Neurobiol A, Medellin, Colombia.']}]\n",
       "15642                                                             [{'i': 0, 'WOS_author': 'Rodas, Juan D.', 'affiliation': ['Univ Antioquia, SIU, Grp Invest Ciencias Vet, Lab 233, Medellin 1226, Colombia.']}]\n",
       "15643    [{'i': 0, 'WOS_author': 'Gallo, Jaime', 'affiliation': ['Univ Antioquia, Fac Med, Dept Physiol & Biochem, Sports Med Postgrad Program, Medellin, Colombia.', 'Univ Antioquia, Fac Med, Dept Physiol ...\n",
       "Name: authors_WOS, Length: 15644, dtype: object"
      ]
     },
     "execution_count": 175,
     "metadata": {},
     "output_type": "execute_result"
    }
   ],
   "source": [
    "udea['authors_WOS']"
   ]
  },
  {
   "cell_type": "code",
   "execution_count": 157,
   "metadata": {},
   "outputs": [
    {
     "data": {
      "text/plain": [
       "True"
      ]
     },
     "execution_count": 157,
     "metadata": {},
     "output_type": "execute_result"
    }
   ],
   "source": [
    "au=AU[AU['CÉDULA']==int(618927154.0)].reset_index(drop=True)\n",
    "au.empty"
   ]
  },
  {
   "cell_type": "code",
   "execution_count": 159,
   "metadata": {},
   "outputs": [
    {
     "data": {
      "text/plain": [
       "False"
      ]
     },
     "execution_count": 159,
     "metadata": {},
     "output_type": "execute_result"
    }
   ],
   "source": [
    "udea_au[list(new_format.columns)]"
   ]
  },
  {
   "cell_type": "code",
   "execution_count": 149,
   "metadata": {},
   "outputs": [
    {
     "data": {
      "text/plain": [
       "{'annio': 2008,\n",
       " 'autores': [{'Identificación': 32508663,\n",
       "   'Nombres': 'Del Consuelo Montes Ramirez',\n",
       "   'Tipo': 'Profesor vinculado'}],\n",
       " 'clasificacionColciencias': None,\n",
       " 'doi': '',\n",
       " 'idioma': 'Spanish',\n",
       " 'issn': '0120-5609',\n",
       " 'nombreRevista': 'INGENIERIA E INVESTIGACION',\n",
       " 'numero': '3',\n",
       " 'paginas': '41-46',\n",
       " 'proyectoAsociado': None,\n",
       " 'semestre': None,\n",
       " 'tipoRevista': 'Revista Internacional Indexada',\n",
       " 'tituloArticulo': 'Cement plant gaseous pollutant emission reduction technologies',\n",
       " 'volumen': '28'}"
      ]
     },
     "execution_count": 149,
     "metadata": {},
     "output_type": "execute_result"
    }
   ],
   "source": [
    "audea.loc[1].to_dict()"
   ]
  },
  {
   "cell_type": "code",
   "execution_count": null,
   "metadata": {},
   "outputs": [],
   "source": []
  },
  {
   "cell_type": "code",
   "execution_count": 69,
   "metadata": {},
   "outputs": [],
   "source": [
    "exl = [{'id': 123, 'data': 'qwerty', 'indices': [1,10]}, {'id': 345, 'data': 'mnbvc', 'indices': [2,11]}]"
   ]
  },
  {
   "cell_type": "code",
   "execution_count": 70,
   "metadata": {},
   "outputs": [],
   "source": [
    "with open(\"kk.json\", \"w\") as outfile: \n",
    "    json.dump(exl, outfile)"
   ]
  },
  {
   "cell_type": "code",
   "execution_count": 75,
   "metadata": {},
   "outputs": [],
   "source": [
    "ex.to_json('kk.json',orient='records')"
   ]
  },
  {
   "cell_type": "code",
   "execution_count": 76,
   "metadata": {},
   "outputs": [
    {
     "name": "stdout",
     "output_type": "stream",
     "text": [
      "[{\"annio\":2019,\"autores\":[{\"nombreAutor\":\"Jonathan Aguilar Bedoya\",\"programaAcademico\":[\"60178-MAESTR\\u00cdA EN INGENIER\\u00cdA MEC\\u00c1NICA-INVESTIGACI\\u00d3N\"],\"identificacionAutor\":null,\"grupoInvestigacion\":[\"Grupo de Energ\\u00eda Alternativa\"],\"tipoAutor\":\"Estudiante de posgrado\"},{\"nombreAutor\":\"Ainhoa Rubio Celemente\",\"institucion\":\"Tecnol\\u00f3gico de Antioquia. Instituci\\u00f3n Universitaria\",\"pais\":\"Colombia\",\"grupoInvestigacion\":[\"Grupo de Energ\\u00eda Alternativa\"],\"tipoAutor\":\"Autor externo\"},{\"nombreAutor\":\"Laura Isable Velasquez Garcia\",\"programaAcademico\":[\"516-INGENIER\\u00cdA MEC\\u00c1NICA\"],\"grupoInvestigacion\":[\"Grupo de Energ\\u00eda Alternativa\"],\"tipoAutor\":\"Profesor ocasional\"},{\"nombreAutor\":\"Edwin Lenin Chica Arrieta\",\"programaAcademico\":[\"516-INGENIER\\u00cdA MEC\\u00c1NICA\"],\"identificacionAutor\":\"78761560\",\"grupoInvestigacion\":[\"Grupo de Energ\\u00eda Alternativa\"],\"tipoAutor\":\"Profesor vinculado\"}],\"clasificacionColciencias\":\"A1\",\"doi\":\"10.3390\\/en12244679\",\"idioma\":\"Ingl\\u00e9s\",\"issn\":\"1996-1073\",\"nombreRevista\":\"Energies\",\"numero\":24,\"paginas\":\"1-18\",\"proyectoAsociado\":null,\"semestre\":\"2019-2\",\"tipoRevista\":\"Revista Internacional Indexada\",\"tituloArticulo\":\"Design and Optimization of a Multi-Element Hydrofoil for a Horizontal-Axis Hydrokinetic Turbine\",\"volumen\":12}]"
     ]
    }
   ],
   "source": [
    "cat kk.json"
   ]
  },
  {
   "cell_type": "code",
   "execution_count": 77,
   "metadata": {},
   "outputs": [
    {
     "data": {
      "text/html": [
       "<div>\n",
       "<style scoped>\n",
       "    .dataframe tbody tr th:only-of-type {\n",
       "        vertical-align: middle;\n",
       "    }\n",
       "\n",
       "    .dataframe tbody tr th {\n",
       "        vertical-align: top;\n",
       "    }\n",
       "\n",
       "    .dataframe thead th {\n",
       "        text-align: right;\n",
       "    }\n",
       "</style>\n",
       "<table border=\"1\" class=\"dataframe\">\n",
       "  <thead>\n",
       "    <tr style=\"text-align: right;\">\n",
       "      <th></th>\n",
       "      <th>annio</th>\n",
       "      <th>autores</th>\n",
       "      <th>clasificacionColciencias</th>\n",
       "      <th>doi</th>\n",
       "      <th>idioma</th>\n",
       "      <th>issn</th>\n",
       "      <th>nombreRevista</th>\n",
       "      <th>numero</th>\n",
       "      <th>paginas</th>\n",
       "      <th>proyectoAsociado</th>\n",
       "      <th>semestre</th>\n",
       "      <th>tipoRevista</th>\n",
       "      <th>tituloArticulo</th>\n",
       "      <th>volumen</th>\n",
       "    </tr>\n",
       "  </thead>\n",
       "  <tbody>\n",
       "    <tr>\n",
       "      <th>0</th>\n",
       "      <td>2019</td>\n",
       "      <td>[{'nombreAutor': 'Jonathan Aguilar Bedoya', 'programaAcademico': ['60178-MAESTRÍA EN INGENIERÍA MECÁNICA-INVESTIGACIÓN'], 'tipoAutor': 'Estudiante de posgrado', 'identificacionAutor': None, 'grupo...</td>\n",
       "      <td>A1</td>\n",
       "      <td>10.3390/en12244679</td>\n",
       "      <td>Inglés</td>\n",
       "      <td>1996-1073</td>\n",
       "      <td>Energies</td>\n",
       "      <td>24</td>\n",
       "      <td>1-18</td>\n",
       "      <td>NaN</td>\n",
       "      <td>2019-2</td>\n",
       "      <td>Revista Internacional Indexada</td>\n",
       "      <td>Design and Optimization of a Multi-Element Hydrofoil for a Horizontal-Axis Hydrokinetic Turbine</td>\n",
       "      <td>12</td>\n",
       "    </tr>\n",
       "  </tbody>\n",
       "</table>\n",
       "</div>"
      ],
      "text/plain": [
       "   annio  \\\n",
       "0   2019   \n",
       "\n",
       "                                                                                                                                                                                                   autores  \\\n",
       "0  [{'nombreAutor': 'Jonathan Aguilar Bedoya', 'programaAcademico': ['60178-MAESTRÍA EN INGENIERÍA MECÁNICA-INVESTIGACIÓN'], 'tipoAutor': 'Estudiante de posgrado', 'identificacionAutor': None, 'grupo...   \n",
       "\n",
       "  clasificacionColciencias                 doi  idioma       issn  \\\n",
       "0                       A1  10.3390/en12244679  Inglés  1996-1073   \n",
       "\n",
       "  nombreRevista  numero paginas  proyectoAsociado semestre  \\\n",
       "0      Energies      24    1-18               NaN   2019-2   \n",
       "\n",
       "                      tipoRevista  \\\n",
       "0  Revista Internacional Indexada   \n",
       "\n",
       "                                                                                    tituloArticulo  \\\n",
       "0  Design and Optimization of a Multi-Element Hydrofoil for a Horizontal-Axis Hydrokinetic Turbine   \n",
       "\n",
       "   volumen  \n",
       "0       12  "
      ]
     },
     "execution_count": 77,
     "metadata": {},
     "output_type": "execute_result"
    }
   ],
   "source": [
    "pd.read_json('kk.json')"
   ]
  },
  {
   "cell_type": "code",
   "execution_count": 78,
   "metadata": {},
   "outputs": [],
   "source": [
    "with open(r\"kk.json\", \"r\") as read_file:\n",
    "    data = json.load(read_file)"
   ]
  },
  {
   "cell_type": "code",
   "execution_count": 79,
   "metadata": {},
   "outputs": [
    {
     "data": {
      "text/plain": [
       "[{'annio': 2019,\n",
       "  'autores': [{'grupoInvestigacion': ['Grupo de Energía Alternativa'],\n",
       "    'identificacionAutor': None,\n",
       "    'nombreAutor': 'Jonathan Aguilar Bedoya',\n",
       "    'programaAcademico': ['60178-MAESTRÍA EN INGENIERÍA MECÁNICA-INVESTIGACIÓN'],\n",
       "    'tipoAutor': 'Estudiante de posgrado'},\n",
       "   {'grupoInvestigacion': ['Grupo de Energía Alternativa'],\n",
       "    'institucion': 'Tecnológico de Antioquia. Institución Universitaria',\n",
       "    'nombreAutor': 'Ainhoa Rubio Celemente',\n",
       "    'pais': 'Colombia',\n",
       "    'tipoAutor': 'Autor externo'},\n",
       "   {'grupoInvestigacion': ['Grupo de Energía Alternativa'],\n",
       "    'nombreAutor': 'Laura Isable Velasquez Garcia',\n",
       "    'programaAcademico': ['516-INGENIERÍA MECÁNICA'],\n",
       "    'tipoAutor': 'Profesor ocasional'},\n",
       "   {'grupoInvestigacion': ['Grupo de Energía Alternativa'],\n",
       "    'identificacionAutor': '78761560',\n",
       "    'nombreAutor': 'Edwin Lenin Chica Arrieta',\n",
       "    'programaAcademico': ['516-INGENIERÍA MECÁNICA'],\n",
       "    'tipoAutor': 'Profesor vinculado'}],\n",
       "  'clasificacionColciencias': 'A1',\n",
       "  'doi': '10.3390/en12244679',\n",
       "  'idioma': 'Inglés',\n",
       "  'issn': '1996-1073',\n",
       "  'nombreRevista': 'Energies',\n",
       "  'numero': 24,\n",
       "  'paginas': '1-18',\n",
       "  'proyectoAsociado': None,\n",
       "  'semestre': '2019-2',\n",
       "  'tipoRevista': 'Revista Internacional Indexada',\n",
       "  'tituloArticulo': 'Design and Optimization of a Multi-Element Hydrofoil for a Horizontal-Axis Hydrokinetic Turbine',\n",
       "  'volumen': 12}]"
      ]
     },
     "execution_count": 79,
     "metadata": {},
     "output_type": "execute_result"
    }
   ],
   "source": [
    "data"
   ]
  },
  {
   "cell_type": "code",
   "execution_count": 80,
   "metadata": {},
   "outputs": [],
   "source": [
    "with open(\"kkk.json\", \"w\") as outfile: \n",
    "    json.dump(data, outfile) "
   ]
  },
  {
   "cell_type": "code",
   "execution_count": 81,
   "metadata": {},
   "outputs": [
    {
     "name": "stdout",
     "output_type": "stream",
     "text": [
      "[{\"doi\": \"10.3390/en12244679\", \"tipoRevista\": \"Revista Internacional Indexada\", \"numero\": 24, \"semestre\": \"2019-2\", \"annio\": 2019, \"idioma\": \"Ingl\\u00e9s\", \"nombreRevista\": \"Energies\", \"issn\": \"1996-1073\", \"paginas\": \"1-18\", \"proyectoAsociado\": null, \"volumen\": 12, \"autores\": [{\"nombreAutor\": \"Jonathan Aguilar Bedoya\", \"programaAcademico\": [\"60178-MAESTR\\u00cdA EN INGENIER\\u00cdA MEC\\u00c1NICA-INVESTIGACI\\u00d3N\"], \"tipoAutor\": \"Estudiante de posgrado\", \"identificacionAutor\": null, \"grupoInvestigacion\": [\"Grupo de Energ\\u00eda Alternativa\"]}, {\"nombreAutor\": \"Ainhoa Rubio Celemente\", \"pais\": \"Colombia\", \"tipoAutor\": \"Autor externo\", \"grupoInvestigacion\": [\"Grupo de Energ\\u00eda Alternativa\"], \"institucion\": \"Tecnol\\u00f3gico de Antioquia. Instituci\\u00f3n Universitaria\"}, {\"nombreAutor\": \"Laura Isable Velasquez Garcia\", \"programaAcademico\": [\"516-INGENIER\\u00cdA MEC\\u00c1NICA\"], \"grupoInvestigacion\": [\"Grupo de Energ\\u00eda Alternativa\"], \"tipoAutor\": \"Profesor ocasional\"}, {\"nombreAutor\": \"Edwin Lenin Chica Arrieta\", \"programaAcademico\": [\"516-INGENIER\\u00cdA MEC\\u00c1NICA\"], \"tipoAutor\": \"Profesor vinculado\", \"identificacionAutor\": \"78761560\", \"grupoInvestigacion\": [\"Grupo de Energ\\u00eda Alternativa\"]}], \"tituloArticulo\": \"Design and Optimization of a Multi-Element Hydrofoil for a Horizontal-Axis Hydrokinetic Turbine\", \"clasificacionColciencias\": \"A1\"}]"
     ]
    }
   ],
   "source": [
    "cat kkk.json"
   ]
  },
  {
   "cell_type": "code",
   "execution_count": null,
   "metadata": {},
   "outputs": [],
   "source": []
  }
 ],
 "metadata": {
  "colab": {
   "include_colab_link": true,
   "name": "merge.ipynb",
   "provenance": [],
   "version": "0.3.2"
  },
  "kernelspec": {
   "display_name": "Python 3",
   "language": "python",
   "name": "python3"
  },
  "language_info": {
   "codemirror_mode": {
    "name": "ipython",
    "version": 3
   },
   "file_extension": ".py",
   "mimetype": "text/x-python",
   "name": "python",
   "nbconvert_exporter": "python",
   "pygments_lexer": "ipython3",
   "version": "3.5.3"
  },
  "latex_envs": {
   "LaTeX_envs_menu_present": true,
   "autoclose": false,
   "autocomplete": true,
   "bibliofile": "biblio.bib",
   "cite_by": "apalike",
   "current_citInitial": 1,
   "eqLabelWithNumbers": true,
   "eqNumInitial": 1,
   "hotkeys": {
    "equation": "Ctrl-E",
    "itemize": "Ctrl-I"
   },
   "labels_anchors": false,
   "latex_user_defs": false,
   "report_style_numbering": false,
   "user_envs_cfg": false
  }
 },
 "nbformat": 4,
 "nbformat_minor": 4
}
