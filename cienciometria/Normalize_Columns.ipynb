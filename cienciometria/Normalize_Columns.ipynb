{
 "cells": [
  {
   "cell_type": "markdown",
   "metadata": {
    "colab_type": "text",
    "id": "view-in-github"
   },
   "source": [
    "<a href=\"https://colab.research.google.com/github/restrepo/medicion/blob/master/cienciometria/Query_CTR.ipynb\" target=\"_parent\"><img src=\"https://colab.research.google.com/assets/colab-badge.svg\" alt=\"Open In Colab\"/></a>"
   ]
  },
  {
   "cell_type": "markdown",
   "metadata": {
    "colab_type": "text",
    "id": "aDnqho-CsEwj"
   },
   "source": [
    "# Búsquedas WOS+SCI+SCP+PTJ+CTR para UdeA"
   ]
  },
  {
   "cell_type": "markdown",
   "metadata": {},
   "source": [
    "Búsquedas en bases bibligráficas  \n",
    "* Web of Science (WOS), \n",
    "* Scielo (SCI)\n",
    "* Scopus  (SCP)\n",
    "* Puntaje (UDEA)\n",
    "* Center (CTR)\n",
    "de los artículos científicos de la UdeA\n",
    "\n",
    "La base de datos se creó con:\n",
    "\n",
    "[WOS_SCI_SCP_PTJ_CTR.ipynb](./WOS_SCI_SCP_PTJ_CTR.ipynb)"
   ]
  },
  {
   "cell_type": "code",
   "execution_count": 1,
   "metadata": {},
   "outputs": [],
   "source": [
    "import os\n",
    "VERSION='NEW'\n",
    "if os.getcwd()=='/content':\n",
    "    !pip install openpyxl xlrd wosplus fuzzywuzzy[speedup] > /dev/null"
   ]
  },
  {
   "cell_type": "markdown",
   "metadata": {},
   "source": [
    "## functions"
   ]
  },
  {
   "cell_type": "code",
   "execution_count": 216,
   "metadata": {
    "colab": {},
    "colab_type": "code",
    "id": "nhk2ZGEDd2Yo"
   },
   "outputs": [],
   "source": [
    "import pandas as pd\n",
    "import wosplus as wp\n",
    "pd.set_option('display.max_colwidth',200)\n",
    "from venn import draw_venn, generate_colors\n",
    "import numpy as np\n",
    "import fuzzywuzzy.process as fwp\n",
    "from fuzzywuzzy import fuzz\n",
    "import re\n",
    "import json\n",
    "from fuzzywuzzy import fuzz\n",
    "from fuzzywuzzy import process\n",
    "import unidecode\n",
    "import itertools\n",
    "import sys\n",
    "idc='CÉDULA'\n",
    "# GENERAL PORPOSE FUNCTIONS\n",
    "def split_names(s):\n",
    "    \"\"\"\n",
    "    Extract the parts of the full name s.\n",
    "    \n",
    "    Works with:\n",
    "    ----\n",
    "        s='LA ROTTA FORERO DANIEL ANDRES'\n",
    "        s='MONTES RAMIREZ MARIA DEL CONSUELO'\n",
    "        s='CALLEJAS POSADA RICARDO DE LA MERCED'\n",
    "        s='DE LA CUESTA BENJUMEA MARIA DEL CARMEN'\n",
    "        s='JARAMILLO OCAMPO NICOLAS CARLOS MARTI'\n",
    "        s='RESTREPO QUINTERO DIEGO ALEJANDRO'\n",
    "        s='RESTREPO QUINTERO DIEGO'\n",
    "        s='RESTREPO DIEGO'\n",
    "    Fails with: \n",
    "    ----\n",
    "        s='RANGEL MARTINEZ VILLAL ANDRES MAURICIO'\n",
    "        s='RESTREPO DIEGO ALEJANDRO'\n",
    "    \"\"\"\n",
    "    s=s.title()\n",
    "    sl=re.sub('(\\s\\w{1,3})\\s',r'\\1-',s,re.UNICODE)\n",
    "    sl=re.sub('^(\\w{1,3})\\s',r'\\1-' ,sl,re.UNICODE)\n",
    "    #if sl.find('-')>-1:\n",
    "    sll=[s.replace('-',' ') for s in sl.split()]\n",
    "    if s.split()==2:\n",
    "        sll=[s.split()[0]]+['']+[s.split()[1]]\n",
    "    #\n",
    "    d={'NOMBRE COMPLETO' : ' '.join(sll[2:]+sll[:2]),\n",
    "     'PRIMER APELLIDO' : sll[0], \n",
    "     'SEGUNDO APELLIDO': sll[1], \n",
    "     'NOMBRES'         :' '.join(sll[2:]), \n",
    "     'INICIALES'       :' '.join( [i[0]+'.' for i in ' '.join(sll[2:]).split() ] )\n",
    "    }\n",
    "    return d"
   ]
  },
  {
   "cell_type": "markdown",
   "metadata": {
    "colab_type": "text",
    "heading_collapsed": true,
    "id": "JS7jD1f47JUN"
   },
   "source": [
    "##  Configure public links of  files in Google Drive\n",
    "* If it is a Google Spreadsheet the corresponding file is downloaded as CSV\n",
    "* If it is in excel/json or text file the file is downloaded  directly\n",
    "\n",
    "To define your  own labeled IDs for public google drive files edit the next cell:"
   ]
  },
  {
   "cell_type": "code",
   "execution_count": 3,
   "metadata": {
    "colab": {
     "base_uri": "https://localhost:8080/",
     "height": 35
    },
    "colab_type": "code",
    "hidden": true,
    "id": "T4Rmd2dF7JUQ",
    "outputId": "39a5835e-1b38-48b6-f1a5-e9964c846123"
   },
   "outputs": [
    {
     "name": "stdout",
     "output_type": "stream",
     "text": [
      "Overwriting drive.cfg\n"
     ]
    }
   ],
   "source": [
    "%%writefile drive.cfg\n",
    "[FILES]\n",
    "WOS_SCI_SCP_PTJ_CTR.json.gz=19E1C1kRk4I0V3uXojqko8-NEicWaPp1j\n",
    "Base_de_datos_investigadores_Definitiva.csv=12oalgUeKhpvzkTPBP8pXCeHTrF-KO223dy9ov9w9QKs\n",
    "produccion_fecha_vig_2003_2018.xlsx=1WbtX4K__TTLxXRjuLvqUYz9tuHCIlS5v\n",
    "producción_reconocida_2002_2016_doi.xlsx=0BxoOXsn2EUNIY2lzVmNMT0VXaGs\n",
    "oaudea.xlsx             = 1CcwobiEFACIbffNzNdLxpdxQukr8cZ5x"
   ]
  },
  {
   "cell_type": "markdown",
   "metadata": {
    "colab_type": "text",
    "id": "Y0D0hEdAMXUX"
   },
   "source": [
    "##  Load data bases"
   ]
  },
  {
   "cell_type": "code",
   "execution_count": 4,
   "metadata": {
    "colab": {
     "base_uri": "https://localhost:8080/",
     "height": 35
    },
    "colab_type": "code",
    "id": "occzrIeCS7aQ",
    "outputId": "17b144f3-eef0-4c8a-c2b4-10c8fe55802c"
   },
   "outputs": [],
   "source": [
    "affil='Univ Antioquia'\n",
    "drive_files=wp.wosplus('drive.cfg')"
   ]
  },
  {
   "cell_type": "code",
   "execution_count": 257,
   "metadata": {},
   "outputs": [
    {
     "name": "stdout",
     "output_type": "stream",
     "text": [
      "WARNING: Biblio already has a \"Tipo\" column\n"
     ]
    }
   ],
   "source": [
    "UDEAjsonfile='WOS_SCI_SCP_PTJ_CTR.json.gz'\n",
    "tmp=drive_files.load_biblio(UDEAjsonfile,compression='gzip')\n",
    "UDEA=drive_files.biblio['WOS'].copy().reset_index(drop=True)"
   ]
  },
  {
   "cell_type": "code",
   "execution_count": 15,
   "metadata": {},
   "outputs": [],
   "source": [
    "AU=drive_files.read_drive_excel('Base_de_datos_investigadores_Definitiva.csv')"
   ]
  },
  {
   "cell_type": "code",
   "execution_count": 5,
   "metadata": {},
   "outputs": [],
   "source": [
    "PTJ=drive_files.read_drive_excel('produccion_fecha_vig_2003_2018.xlsx')\n",
    "AU_PTJ=PTJ[['cedula','nombre']].drop_duplicates()"
   ]
  },
  {
   "cell_type": "code",
   "execution_count": 29,
   "metadata": {},
   "outputs": [],
   "source": [
    "LOCAL=False\n",
    "if LOCAL:\n",
    "    UDEA.to_json('WOS_SCI_SCP_PTJ_CTR.json.gz',orient='records')\n",
    "    AU.to_json('AU.json')\n",
    "    AU_PTJ.to_json('AU_PTJ.json',orient='records')"
   ]
  },
  {
   "cell_type": "code",
   "execution_count": 1347,
   "metadata": {},
   "outputs": [],
   "source": [
    "LOCAL_LOAD=True\n",
    "if LOCAL_LOAD:\n",
    "    UDEA=pd.read_json('WOS_SCI_SCP_PTJ_CTR.json.gz')\n",
    "    AU=pd.read_json('AU.json').reset_index(drop=True)\n",
    "    AU_PTJ=pd.read_json('AU_PTJ.json').reset_index(drop=True)"
   ]
  },
  {
   "cell_type": "code",
   "execution_count": 1348,
   "metadata": {},
   "outputs": [],
   "source": [
    "#UDEA=pd.read_json('/home/restrepo/Downloads/WOS_SCI_SCP_PTJ_CTR.json.gz').reset_index(drop=True)"
   ]
  },
  {
   "cell_type": "code",
   "execution_count": 1349,
   "metadata": {},
   "outputs": [
    {
     "data": {
      "text/plain": [
       "(12270, 181)"
      ]
     },
     "execution_count": 1349,
     "metadata": {},
     "output_type": "execute_result"
    }
   ],
   "source": [
    "UDEA[UDEA['UDEA_authors']!=''].reset_index(drop=True).shape"
   ]
  },
  {
   "cell_type": "code",
   "execution_count": 1350,
   "metadata": {},
   "outputs": [
    {
     "data": {
      "text/plain": [
       "(15644, 181)"
      ]
     },
     "execution_count": 1350,
     "metadata": {},
     "output_type": "execute_result"
    }
   ],
   "source": [
    "UDEA.shape"
   ]
  },
  {
   "cell_type": "markdown",
   "metadata": {},
   "source": [
    "## Normalizations"
   ]
  },
  {
   "cell_type": "markdown",
   "metadata": {},
   "source": [
    "### Relacionada con autores"
   ]
  },
  {
   "cell_type": "markdown",
   "metadata": {},
   "source": [
    "Normalize `'AU'`"
   ]
  },
  {
   "cell_type": "code",
   "execution_count": 1351,
   "metadata": {},
   "outputs": [],
   "source": [
    "UDEA['AU']=UDEA['AU'].apply(lambda l: l if re.search('\\n$',l) \n",
    "                 else \n",
    "                 '\\n'.join(\n",
    "            [\n",
    "    re.sub( '([\\w\\-\\s]+)(\\s[\\w]\\.)',r'\\1,\\2',s ,re.UNICODE   ) \n",
    "                 for s in l.split(', ')]+['']\n",
    "           ).replace('.','') )"
   ]
  },
  {
   "cell_type": "code",
   "execution_count": 1352,
   "metadata": {},
   "outputs": [
    {
     "data": {
      "text/plain": [
       "(0, 181)"
      ]
     },
     "execution_count": 1352,
     "metadata": {},
     "output_type": "execute_result"
    }
   ],
   "source": [
    "UDEA[~UDEA['AU'].str.contains('\\n$')].shape"
   ]
  },
  {
   "cell_type": "markdown",
   "metadata": {},
   "source": [
    "Normalize `'authors_WOS'`"
   ]
  },
  {
   "cell_type": "code",
   "execution_count": 1353,
   "metadata": {},
   "outputs": [],
   "source": [
    "#Specific entries\n",
    "#('mcewen, juan g', 65) → mc ewen\n",
    "#'hincape, me' → hincapie\n",
    "def fix_WOS_author_Trujilloii(l):\n",
    "    for i in range(len(l)):\n",
    "        if l[i].get('WOS_author') and l[i].get('WOS_author')=='Trujilloii, S. B.':\n",
    "            l[i]={'WOS_author': 'Trujillo, S. B.',\n",
    "                  'affiliation': [\n",
    "                    'Facultad de Medicina, Sede de Investigación Universitaria (SIU), Univ Antioquia, Medellín, Colombia'\n",
    "                   ],\n",
    "                  'i': 3}\n",
    "        if l[i].get('WOS_author') and l[i].get('WOS_author')=='Manuel, J':\n",
    "            l[i]={'WOS_author':'Senior Sanchez, Juan Manuel'}\n",
    "            \n",
    "        if l[i].get('WOS_author') and l[i].get('WOS_author')=='Balthazar, Vital':\n",
    "            l[i]={'WOS_author': 'Baltazar, Vital',\n",
    "                  'affiliation': ['Univ Antioquia, Colombia.'],\n",
    "                  'i': 4}\n",
    "        if l[i].get('WOS_author') and l[i].get('WOS_author')=='Oliviera-Angel, M':\n",
    "            l[i]={'WOS_author': 'Olivera-Angel, M',\n",
    "              'affiliation': ['Univ Antioquia, Fac Ciencias Agrarias Fisiol & Biotecnol Reprod, Antioquia, Colombia.']}            \n",
    "    return l\n",
    "UDEA['authors_WOS']=UDEA['authors_WOS'].apply( fix_WOS_author_Trujilloii )"
   ]
  },
  {
   "cell_type": "code",
   "execution_count": 1354,
   "metadata": {},
   "outputs": [],
   "source": [
    "def add_affilitions_to_authors_WOS(row_authors_WOS,row_C1,row_SCP_Affiliations):\n",
    "    l=row_authors_WOS\n",
    "    #Get rid of multiple author affiliations\n",
    "    #TODO: Count multiple author affiliations\n",
    "    row_C1=re.sub(r'\\[[\\w\\.\\s,]+\\n[\\w\\.\\s,]+\\]','',row_C1,re.UNICODE)\n",
    "    afwos=row_C1.strip().split('\\n')\n",
    "    afscp=row_SCP_Affiliations.strip().split('; ')\n",
    "    if len(afwos)==1:\n",
    "        af=re.sub('\\[.*\\]\\s*','',afwos[0])\n",
    "        for i in range( len(l) ):\n",
    "            if not l[i].get('affiliation'):\n",
    "                l[i].update({'affiliation':[af]})\n",
    "\n",
    "    if len(afwos)==len(l):\n",
    "        for i in range( len(l) ):\n",
    "            if not l[i].get('affiliation'):\n",
    "                af=re.sub('\\[.*\\]\\s*','',afwos[i])\n",
    "                l[i].update({'affiliation':[af]})\n",
    "            \n",
    "    elif len(afscp)==len(l):\n",
    "        for i in range( len(l) ):\n",
    "            if not l[i].get('affiliation'):\n",
    "                l[i].update({'affiliation':[afscp[i]]})\n",
    "    return l"
   ]
  },
  {
   "cell_type": "code",
   "execution_count": 1355,
   "metadata": {},
   "outputs": [],
   "source": [
    "def missing_authors_WOS(row):\n",
    "    '''\n",
    "    if row 'authors_WOS' is empty, try to fill it\n",
    "    with AU and C1.\n",
    "    if not empty just return it\n",
    "    '''\n",
    "    l=[]\n",
    "    if len(row['authors_WOS'])==0:\n",
    "        if row['AU']:\n",
    "            l=[ {'WOS_author':a} for a in row['AU'].strip().split('\\n') ]\n",
    "        #Affiliations:\n",
    "        row_C1=row['C1']\n",
    "        row_SCP_Affiliations=row['SCP_Affiliations']\n",
    "        l=add_affilitions_to_authors_WOS(l,row_C1,row_SCP_Affiliations)\n",
    "    else:\n",
    "        l=row['authors_WOS']\n",
    "                     \n",
    "    return l"
   ]
  },
  {
   "cell_type": "code",
   "execution_count": 1356,
   "metadata": {},
   "outputs": [],
   "source": [
    "UDEA['authors_WOS']=UDEA.apply(missing_authors_WOS,axis='columns')"
   ]
  },
  {
   "cell_type": "code",
   "execution_count": 1357,
   "metadata": {},
   "outputs": [],
   "source": [
    "def check_AU_authors(AU1,AU2,fuzz_partial_ratio=60):\n",
    "    '''\n",
    "    Check if two authors in the WOS AU format are the same\n",
    "    '''\n",
    "    AU1_eq_AU2=False\n",
    "    #Check last name\n",
    "    au1=AU1.split(', ')\n",
    "    au2=AU2.split(', ')\n",
    "    au1=[unidecode.unidecode(a.lower()) for a in au1]\n",
    "    au2=[unidecode.unidecode(a.lower()) for a in au2]\n",
    "    ln=np.intersect1d(au1[0].split(),au2[0].split()).shape[0]\n",
    "    if ln>0:\n",
    "        fn=np.intersect1d(  \n",
    "            [ l[0] for l in au1[-1].split()],\n",
    "            [l[0] for l in au2[-1].split()] ).shape[0]\n",
    "        if fn>0:\n",
    "            if fuzz.partial_ratio( AU1,AU2 )>fuzz_partial_ratio:\n",
    "                AU1_eq_AU2=True\n",
    "    return AU1_eq_AU2\n",
    "\n",
    "def AU_to_authors_WOS(row,DEBUG=False):\n",
    "    '''\n",
    "     Compare 'WOS_author' → 'authors_WOS' with\n",
    "             'AU' splitted list\n",
    "     and fill for the missing 'authors_WOS' and\n",
    "                              'affiliations'\n",
    "    '''\n",
    "    auwos=[d.get('WOS_author') for d in row['authors_WOS']]\n",
    "    aurow=row['AU'].strip().split('\\n')\n",
    "    if len(auwos)<len(aurow):\n",
    "        for au in aurow:\n",
    "            NEW_AU=True\n",
    "            for ws in auwos:\n",
    "                if DEBUG:\n",
    "                    print(au,'::',ws,'→',  check_AU_authors( au,ws) )\n",
    "                if check_AU_authors( au,ws):\n",
    "                    NEW_AU=False\n",
    "                    break\n",
    "            if NEW_AU:\n",
    "                row['authors_WOS'].append(  \n",
    "                    {'WOS_author':au})\n",
    "        row['authors_WOS']=add_affilitions_to_authors_WOS(row['authors_WOS'],\n",
    "                                       row['C1'],\n",
    "                                       row['SCP_Affiliations'])\n",
    "    return row['authors_WOS']"
   ]
  },
  {
   "cell_type": "code",
   "execution_count": 1358,
   "metadata": {},
   "outputs": [],
   "source": [
    "UDEA['authors_WOS']=UDEA.apply(AU_to_authors_WOS,axis='columns')"
   ]
  },
  {
   "cell_type": "markdown",
   "metadata": {},
   "source": [
    "Normalize `'UDEA_authors'`"
   ]
  },
  {
   "cell_type": "code",
   "execution_count": 1359,
   "metadata": {},
   "outputs": [],
   "source": [
    "def fix_long_names(l):\n",
    "    if len(l)>0:\n",
    "        for i in range( len(l) ):\n",
    "            if  l[i].get('full_name') and len(l[i].get('full_name').split())>4:\n",
    "                dd=split_names(l[i].get('full_name'))\n",
    "                l[i].update(dd)\n",
    "    return l\n",
    "#UDEA[ UDEA['UDEA_authors'].apply(lambda l: [d.get('CÉDULA')==22227944 for d in l] \n",
    "#   if l else [False]).apply(lambda l: True in l) ].loc[1573,'UDEA_authors']"
   ]
  },
  {
   "cell_type": "code",
   "execution_count": 1360,
   "metadata": {},
   "outputs": [],
   "source": [
    "UDEA['UDEA_authors']=UDEA['UDEA_authors'].apply( fix_long_names  )"
   ]
  },
  {
   "cell_type": "code",
   "execution_count": 1361,
   "metadata": {},
   "outputs": [],
   "source": [
    "def drop_duplicates(l):\n",
    "    \"\"\"\n",
    "    Find duplicates in UDEA_authors by 'CÉDULA'\n",
    "    \"\"\"\n",
    "    if len(l)>1:\n",
    "        #Try to find duplicates j-times\n",
    "        for j in range( int((len(l)+1)/2)   ):\n",
    "            c=[]\n",
    "            #In each try remove duplicated\n",
    "            for i in range(len(l)):\n",
    "                if l[i].get('CÉDULA') in c:\n",
    "                    l.pop(i)\n",
    "                    break\n",
    "                else:\n",
    "                    c.append(l[i].get('CÉDULA'))\n",
    "            #Exit when not more duplicate found\n",
    "            if not c:\n",
    "                break\n",
    "    return l"
   ]
  },
  {
   "cell_type": "code",
   "execution_count": 1362,
   "metadata": {},
   "outputs": [],
   "source": [
    "UDEA['UDEA_authors']=UDEA['UDEA_authors'].apply(drop_duplicates)"
   ]
  },
  {
   "cell_type": "code",
   "execution_count": 1363,
   "metadata": {},
   "outputs": [],
   "source": [
    "def fix_NOMBRE_COMPLETOS(l):\n",
    "    #for d in l:\n",
    "    for i in range(len(l)):\n",
    "        if not l[i].get('NOMBRE COMPLETO'):\n",
    "            d['NOMBRE COMPLETO']=''\n",
    "            if l[i].get('NOMBRES'):\n",
    "                l[i]['NOMBRE COMPLETO']=l[i]['NOMBRE COMPLETO']+l[i].get('NOMBRES')\n",
    "            if l[i].get('PRIMER APELLIDO'):\n",
    "                l[i]['NOMBRE COMPLETO']=l[i]['NOMBRE COMPLETO']+' '+l[i].get('PRIMER APELLIDO')\n",
    "            if l[i].get('SEGUNDO APELLIDO'):\n",
    "                l[i]['NOMBRE COMPLETO']=l[i]['NOMBRE COMPLETO']+' '+l[i].get('SEGUNDO APELLIDO')            \n",
    "    return l"
   ]
  },
  {
   "cell_type": "code",
   "execution_count": 1364,
   "metadata": {},
   "outputs": [],
   "source": [
    "UDEA['UDEA_authors']=UDEA['UDEA_authors'].apply(fix_NOMBRE_COMPLETOS)"
   ]
  },
  {
   "cell_type": "code",
   "execution_count": 1365,
   "metadata": {},
   "outputs": [],
   "source": [
    "dfid=UDEA[['UDEA_nombre','UDEA_cedula']]\n",
    "dfid=dfid[dfid['UDEA_cedula'].apply(lambda n: n!=0 if isinstance(n,int) else False)].reset_index(drop=True)\n",
    "dfid=dfid[dfid['UDEA_nombre']!=''].drop_duplicates().reset_index(drop=True)\n",
    "dfid.shape\n",
    "\n",
    "def get_cedula(l,fullnames_with_id=dfid):\n",
    "    #for d in l:\n",
    "    for i in range(len(l)):\n",
    "        if not l[i].get('CÉDULA') and l[i].get('full_name'):\n",
    "            try:\n",
    "                l[i]['CÉDULA']=dfid[ ( dfid['UDEA_nombre']==l[i].get('full_name')) \n",
    "                            & ( dfid['UDEA_cedula']!=0 ) \n",
    "                            ].reset_index(\n",
    "                          drop=True)['UDEA_cedula'].loc[0]\n",
    "            except KeyError:\n",
    "                pass\n",
    "    return l"
   ]
  },
  {
   "cell_type": "code",
   "execution_count": 1366,
   "metadata": {},
   "outputs": [],
   "source": [
    "UDEA['UDEA_authors']=UDEA['UDEA_authors'].apply(get_cedula)"
   ]
  },
  {
   "cell_type": "code",
   "execution_count": 1367,
   "metadata": {},
   "outputs": [],
   "source": [
    "def get_missing_cedula(l,AU=AU):\n",
    "    '''\n",
    "    AU: Data Frame with author info\n",
    "    Added Facultad y afiliacion WOS\n",
    "    '''\n",
    "    for i in range(len(l)):\n",
    "        if not l[i].get('CÉDULA'):\n",
    "            au=AU[AU['NOMBRE COMPLETO']==l[i].get('NOMBRE COMPLETO')\n",
    "                 ].reset_index(drop=True)\n",
    "            if not au.empty:\n",
    "                au=au.loc[0]\n",
    "                l[i]['CÉDULA']=au['CÉDULA']\n",
    "                if not l[i].get('DEPARTAMENTO'):\n",
    "                    l[i]['DEPARTAMENTO']=au['DEPARTAMENTO']\n",
    "                if not l[i].get('FACULTAD'):\n",
    "                    l[i]['FACULTAD']=au['FACULTAD']\n",
    "                if not l[i].get('NOMBRES'):\n",
    "                    l[i]['NOMBRES']=au['NOMBRES']\n",
    "                if not l[i].get('PRIMER APELLIDO'):\n",
    "                    l[i]['PRIMER APELLIDO']=au['PRIMER APELLIDO']\n",
    "                if not l[i].get('SEGUNDO APELLIDO'):\n",
    "                    l[i]['SEGUNDO APELLIDO']=au['SEGUNDO APELLIDO']\n",
    "                if not l[i].get('INICIALES'):\n",
    "                    s=au['NOMBRES']\n",
    "                    l[i]['INICIALES']=' '.join(\n",
    "                        [ I[0]+'.' for I in s.split() ])\n",
    "    return l"
   ]
  },
  {
   "cell_type": "code",
   "execution_count": 1368,
   "metadata": {},
   "outputs": [],
   "source": [
    "UDEA['UDEA_authors']=UDEA['UDEA_authors'].apply(get_missing_cedula)"
   ]
  },
  {
   "cell_type": "code",
   "execution_count": 1369,
   "metadata": {},
   "outputs": [],
   "source": [
    "def fix_cedula(l,df=AU_PTJ,full_name='nombre',identification='cedula'):\n",
    "    '''\n",
    "    Get missing identification from an external database with\n",
    "    the full name in the proper format:\n",
    "     `full name`: LAST NAME FIRST NAME\n",
    "    For each row, rebuild the list of dictionaries\n",
    "    and if CÉDULA is missing try to fix it\n",
    "    '''\n",
    "    for i in range(len(l)):\n",
    "        if not l[i].get('CÉDULA'):\n",
    "            try:\n",
    "                l[i]['CÉDULA']=df[df[nombre]==l[i].get('full_name')\n",
    "                     ].reset_index(drop=True).loc[\n",
    "                    0,identification]\n",
    "            except:\n",
    "                pass\n",
    "    return l"
   ]
  },
  {
   "cell_type": "code",
   "execution_count": 1370,
   "metadata": {},
   "outputs": [],
   "source": [
    "UDEA['UDEA_authors']=UDEA['UDEA_authors'].apply(fix_cedula)"
   ]
  },
  {
   "cell_type": "code",
   "execution_count": 1371,
   "metadata": {},
   "outputs": [],
   "source": [
    "UDEA['C1']=UDEA['C1'].str.replace('deAntioquia','de Antioquia')"
   ]
  },
  {
   "cell_type": "code",
   "execution_count": 1372,
   "metadata": {},
   "outputs": [],
   "source": [
    "def add_WOS_author_and_WOS_affiliation_to_UDEA_authores(l,i,df,j):\n",
    "    if not l[i].get('WOS_author'):\n",
    "        l[i]['WOS_author']=[df.loc[j,'WOS_author']]\n",
    "    if 'UDEA_affiliation' in df.columns:\n",
    "        if not l[i].get('UDEA_affiliation'):\n",
    "            l[i]['UDEA_affiliation']=df.loc[j,'affiliation']\n",
    "    return l[i]\n",
    "\n",
    "def compare_names(l,i,ll,j,smin=70,DEBUG=False):\n",
    "    '''\n",
    "    Compare dictionaries with UDEA_authors keys\n",
    "    with DataFrame ll authors_WOS columns\n",
    "    1. Select first matching first last name\n",
    "       a. If failed select first mathcing second last name\n",
    "          with extra quality check in full name\n",
    "    2. First mathching names\n",
    "       a. If failed first matching initials\n",
    "    '''\n",
    "    #j=-1 initialized in main function\n",
    "    if DEBUG: print('i:',i)\n",
    "    #Find First last name\n",
    "    r=process.extractOne( unidecode.unidecode( l[i].get('PRIMER APELLIDO').lower() ),  \n",
    "                       ll['WOS_author'].str.lower().apply(unidecode.unidecode\n",
    "                                    ).str.split(', ').str[0],scorer=fuzz.partial_ratio )\n",
    "    if DEBUG: print(r)\n",
    "    if r[1]==100:\n",
    "        j=r[2]\n",
    "        \n",
    "    #If failed, try with the second last name\n",
    "    if r[1]<100:\n",
    "        r=process.extractOne( unidecode.unidecode( l[i].get('SEGUNDO APELLIDO').lower() ),  \n",
    "                           ll['WOS_author'].str.lower().apply(unidecode.unidecode\n",
    "                                        ).str.split(', ').str[0],scorer=fuzz.partial_ratio )\n",
    "        #Additional quality check\n",
    "        j=r[2]\n",
    "        s=fuzz.token_set_ratio( \n",
    "            unidecode.unidecode( l[i].get('NOMBRE COMPLETO').lower().replace('.','') ) ,\n",
    "            unidecode.unidecode(ll['WOS_author'].loc[j].lower().replace('.','')  ) )\n",
    "        if DEBUG: print(r)\n",
    "        #print(s)\n",
    "        if r[1]==100 and s>smin:\n",
    "            j=r[2]\n",
    "        else:\n",
    "            j=-1\n",
    "        \n",
    "    #For names filter Initials:\n",
    "    kk=ll[ll['WOS_author'].str.lower().apply(unidecode.unidecode\n",
    "                        ).str.split(\n",
    "                    ', ').str[-1].str.replace(\n",
    "                 '\\.','').apply(len)>2]\n",
    "    if not kk.empty:\n",
    "        if DEBUG: print(unidecode.unidecode( l[i].get('NOMBRES').lower().split(' ')[0] ) )\n",
    "        r=process.extractOne( unidecode.unidecode( l[i].get('NOMBRES').lower().split(' ')[0] )\n",
    "                           ,  kk['WOS_author'].str.lower().apply(unidecode.unidecode).str.split(', ').str[-1],scorer=fuzz.partial_ratio )\n",
    "        if r[1]==100 and r[2]==j:\n",
    "            if DEBUG: print('found FN j=',r[2])\n",
    "            l[i]=add_WOS_author_and_WOS_affiliation_to_UDEA_authores(l,i,ll,j)\n",
    "            return l,i,ll,j\n",
    "\n",
    "        if DEBUG: print(r)\n",
    "        #if not 100 try second name: fail proof\n",
    "        if DEBUG: print(unidecode.unidecode( l[i].get('NOMBRES').lower().split(' ')[-1]) ) \n",
    "        r=process.extractOne( unidecode.unidecode( l[i].get('NOMBRES').lower().split(' ')[-1] )\n",
    "                           ,  kk['WOS_author'].str.lower().apply(unidecode.unidecode).str.split(', ').str[-1],scorer=fuzz.partial_ratio )\n",
    "        if DEBUG: print(r)\n",
    "        if r[1]==100 and r[2]==j:\n",
    "            if DEBUG: print('found SN j=',r[2])\n",
    "            l[i]=add_WOS_author_and_WOS_affiliation_to_UDEA_authores(l,i,ll,j)        \n",
    "            return l,i,ll,j\n",
    "    \n",
    "    #if not 100 try first intial: fail proof\n",
    "    if DEBUG: print(unidecode.unidecode( l[i].get('INICIALES').lower().replace('.','').split(' ')[0]) )\n",
    "    r=process.extract( unidecode.unidecode( l[i].get('INICIALES').lower().replace('.','').split(' ')[0]) \n",
    "                       ,  ll['WOS_author'].str.lower().apply(unidecode.unidecode\n",
    "                                            ).str.replace('\\.','').str.split(', ').str[-1],scorer=fuzz.partial_ratio )\n",
    "    if DEBUG: print(r)\n",
    "    rrr=[(rr[1],rr[2]) for rr in r if rr[2]==j]\n",
    "    if rrr and rrr[0][0]==100:\n",
    "        if DEBUG: print('found FI j=',rrr[0][1])\n",
    "        l[i]=add_WOS_author_and_WOS_affiliation_to_UDEA_authores(l,i,ll,j)        \n",
    "        return l,i,ll,j\n",
    "\n",
    "    #if not 100 try second intial: fail proof\n",
    "    if DEBUG: print(unidecode.unidecode( l[i].get('INICIALES').lower().replace('.','').split(' ')[-1]) )\n",
    "    r=process.extract( unidecode.unidecode( l[i].get('INICIALES').lower().replace('.','').split(' ')[-1]) \n",
    "                       ,ll['WOS_author'].str.lower().apply(unidecode.unidecode\n",
    "                                        ).str.replace('\\.','').str.split(', ').str[-1],scorer=fuzz.partial_ratio )\n",
    "    if DEBUG: print(r)\n",
    "    rrr=[(rr[1],rr[2]) for rr in r if rr[2]==j]\n",
    "    if rrr and rrr[0][0]==100:\n",
    "        if DEBUG: print('found SI j=',rrr[0][1])\n",
    "        l[i]=add_WOS_author_and_WOS_affiliation_to_UDEA_authores(l,i,ll,j)\n",
    "        return l,i,ll,j\n",
    "\n",
    "    #Some times the first last are confused with the first names\n",
    "    #'Luis Fernando Restrepo Betancur' → 'Luis Restrepo, B.''\n",
    "    # One of the last name is already covered so only the initials are affected\n",
    "    #if not 100 try second intial: fail proof\n",
    "    r=process.extract( unidecode.unidecode( l[i].get('PRIMER APELLIDO').lower()[0] )\n",
    "                       ,ll['WOS_author'].str.lower().apply(unidecode.unidecode\n",
    "                                        ).str.replace('\\.','').str.split(', ').str[-1],scorer=fuzz.partial_ratio )\n",
    "    if DEBUG: print(r)\n",
    "    rrr=[(rr[1],rr[2]) for rr in r if rr[2]==j]\n",
    "    if rrr and rrr[0][0]==100:\n",
    "        if DEBUG: print('found SI j=',rrr[0][1])\n",
    "        l[i]=add_WOS_author_and_WOS_affiliation_to_UDEA_authores(l,i,ll,j)\n",
    "        return l,i,ll,j\n",
    "\n",
    "    if l[i].get('SEGUNDO APELLIDO'):\n",
    "        r=process.extract( unidecode.unidecode( l[i].get('SEGUNDO APELLIDO').lower()[0] ) \n",
    "                           ,ll['WOS_author'].str.lower().apply(unidecode.unidecode\n",
    "                                            ).str.replace('\\.','').str.split(', ').str[-1],scorer=fuzz.partial_ratio )\n",
    "        if DEBUG: print(r)\n",
    "        rrr=[(rr[1],rr[2]) for rr in r if rr[2]==j]\n",
    "        if rrr and rrr[0][0]==100:\n",
    "            if DEBUG: print('found SI j=',rrr[0][1])\n",
    "            l[i]=add_WOS_author_and_WOS_affiliation_to_UDEA_authores(l,i,ll,j)\n",
    "            return l,i,ll,j\n",
    "                      \n",
    "    \n",
    "    \n",
    "    #print('final result: extract WOS_author and affiliauntion as lists:',lll[j])\n",
    "\n",
    "    return l,i,ll,j"
   ]
  },
  {
   "cell_type": "code",
   "execution_count": 1373,
   "metadata": {},
   "outputs": [],
   "source": [
    "def missing_wos_authors_in_udea_authors(row):\n",
    "    '''\n",
    "    Compare UDEA_authors with authors_WOS and\n",
    "    fill: \n",
    "    A) mising 'WOS_author' list in  UDEA_authors\n",
    "    B) mising 'affiliation' list in  UDEA_authors\n",
    "    1. Select first matching first last name\n",
    "       a. If failed select first mathcing second last name\n",
    "          with extra quality check in full name\n",
    "    2. First mathching names\n",
    "       a. If failed first matching initials\n",
    "    '''    \n",
    "    i=0\n",
    "    j=-1\n",
    "    l  =row['UDEA_authors']\n",
    "    lll=row['authors_WOS']\n",
    "    if lll:\n",
    "        ll=pd.DataFrame(lll)\n",
    "    else:\n",
    "        ll=pd.DataFrame()\n",
    "    #if not ll.empty:\n",
    "    for i in range(len(l)):\n",
    "        if not l[i].get('WOS_author'):\n",
    "            l,i,ll,j=compare_names(l,i,ll,j,DEBUG=False)\n",
    "    return l"
   ]
  },
  {
   "cell_type": "code",
   "execution_count": 1374,
   "metadata": {},
   "outputs": [
    {
     "name": "stderr",
     "output_type": "stream",
     "text": [
      "WARNING:root:Applied processor reduces input query to empty string, all comparisons will have score 0. [Query: '']\n",
      "WARNING:root:Applied processor reduces input query to empty string, all comparisons will have score 0. [Query: '']\n"
     ]
    }
   ],
   "source": [
    "UDEA['UDEA_authors']=UDEA.apply(missing_wos_authors_in_udea_authors,axis='columns')"
   ]
  },
  {
   "cell_type": "markdown",
   "metadata": {},
   "source": [
    "Remove bad identified authors from the list in `UDEA_authors`"
   ]
  },
  {
   "cell_type": "code",
   "execution_count": 1375,
   "metadata": {},
   "outputs": [],
   "source": [
    "UDEA['Index']=list(UDEA.index)"
   ]
  },
  {
   "cell_type": "code",
   "execution_count": 1376,
   "metadata": {},
   "outputs": [],
   "source": [
    "def add_WOS_author_to_UDEA_authors(row_UDEA_authors_i,au,row_authors_WOS,iau):\n",
    "    if not row_UDEA_authors_i.get('WOS_author'):\n",
    "        row_UDEA_authors_i['WOS_author']=[au]\n",
    "    else: #'WOS_author' list exists\n",
    "        udeaiw=[unidecode.unidecode(s.lower().replace('.','').replace('-',' ')\n",
    "                                   ) for s in  row_UDEA_authors_i['WOS_author']]\n",
    "        if au not in udeaiw:\n",
    "            #print('Check au not on WOS_author:',row_authors_WOS[iau].get('WOS_author'),row_UDEA_authors_i['WOS_author'])\n",
    "            row_UDEA_authors_i['WOS_author'].append(row_authors_WOS[iau].get('WOS_author'))\n",
    "    if not row_UDEA_authors_i.get('WOS_affiliation') and row_authors_WOS[iau].get('affiliation'):\n",
    "        aff=row_authors_WOS[iau]['affiliation'] \n",
    "        row_UDEA_authors_i['WOS_affiliation']=aff\n",
    "                \n",
    "                \n",
    "def Quality_UDEA_authors(row,maxlmin=74,DEBUG=False):\n",
    "    '''\n",
    "    Check the Quality for the match \n",
    "      UDEA_authors \n",
    "    with \n",
    "      authors_WOS\n",
    "    '''\n",
    "    #print('**',row['Index'])\n",
    "    wos_list =[ unidecode.unidecode( d.get('WOS_author').lower(\n",
    "                                     ).replace('.',''\n",
    "                                     ).replace('-',' ')\n",
    "                                   )\n",
    "               for d in row.get('authors_WOS')]\n",
    "\n",
    "    #If WOS_author not in row.get('UDEA_authors') is usually to be droppend\n",
    "    \n",
    "    \n",
    "    udea_list=[ \n",
    "            [\n",
    "              unidecode.unidecode( dd.lower(\n",
    "                                     ).replace('.',''\n",
    "                                     ).replace('-',' ')\n",
    "                                 ) \n",
    "              for dd in d.get('WOS_author')\n",
    "            ]\n",
    "                if d.get('WOS_author') \n",
    "                else \n",
    "            [      \n",
    "                unidecode.unidecode(\n",
    "                  '{} {}, {}'.format(d.get('PRIMER APELLIDO'),\n",
    "                                     d.get('SEGUNDO APELLIDO'),\n",
    "                                     d.get('NOMBRES')\n",
    "                                    ).replace(' ,',','\n",
    "                                    ).strip(\n",
    "                                    ).lower()\n",
    "                  )\n",
    "             ]\n",
    "                  for d in row.get('UDEA_authors')\n",
    "           ]    \n",
    "    udea_list=[ list(set(l)) for l in udea_list  ]\n",
    "    \n",
    "    if not udea_list:\n",
    "        if DEBUG: print('==1==')\n",
    "        Q=True\n",
    "        return Q\n",
    "    for i in range(len(udea_list)): #=len(row['UDEA_authors'])\n",
    "    #for l in udea_list: #=len(row['UDEA_authors'])\n",
    "        Q=False\n",
    "        for au in wos_list:\n",
    "            #Exact match\n",
    "            r=np.intersect1d( [au],udea_list[i] ).shape[0]\n",
    "            if r>0:\n",
    "                if DEBUG: print('==2==')\n",
    "                Q=True\n",
    "                break\n",
    "            else:\n",
    "                #Similarity match\n",
    "                #print(au,udea_list[i])\n",
    "                rr=process.extractOne(au,udea_list[i],scorer=fuzz.partial_ratio)\n",
    "                if rr[1]==100:\n",
    "                    kk=add_WOS_author_to_UDEA_authors(row['UDEA_authors'][i],au,\n",
    "                                                      row['authors_WOS'],wos_list.index(au) )                                        \n",
    "                    if DEBUG: print('==3==')\n",
    "                    Q=True\n",
    "                    break\n",
    "                #print(rr)\n",
    "                rr=process.extractOne(au,udea_list[i],scorer=fuzz.token_set_ratio)\n",
    "                if rr[1]==100:\n",
    "                    kk=add_WOS_author_to_UDEA_authors(row['UDEA_authors'][i],au,\n",
    "                                                      row['authors_WOS'],wos_list.index(au) )                                        \n",
    "                    if DEBUG: print('==4==')\n",
    "                    Q=True\n",
    "                    break\n",
    "                #keep only the first letter of names\n",
    "                fnau=re.sub('([\\w\\s]+\\,\\s\\w)[\\w\\s]+',r'\\1',au)\n",
    "                l=[re.sub('([\\w\\s]+\\,\\s\\w)[\\w\\s]+',r'\\1',ll) for ll in udea_list[i]]\n",
    "                #print(l)\n",
    "                rr=process.extractOne(fnau,l,scorer=fuzz.token_set_ratio)\n",
    "                if rr[1]==100:\n",
    "                    kk=add_WOS_author_to_UDEA_authors(row['UDEA_authors'][i],au,\n",
    "                                                      row['authors_WOS'],wos_list.index(au) )                    \n",
    "                    if DEBUG: print('==5==')\n",
    "                    Q=True\n",
    "                    break\n",
    "                    \n",
    "                #keep only first letter of second last name\n",
    "                l=[re.sub('(\\s\\w)\\w+\\,',r'\\1,',ll) for ll in udea_list[i]]\n",
    "                #print(l)\n",
    "                rr=process.extractOne(au,l,scorer=fuzz.token_set_ratio)\n",
    "                if rr[1]==100:\n",
    "                    kk=add_WOS_author_to_UDEA_authors(row['UDEA_authors'][i],au,\n",
    "                                                      row['authors_WOS'],wos_list.index(au) )                    \n",
    "                    if DEBUG: print('==6==')\n",
    "                    Q=True\n",
    "                    break\n",
    "\n",
    "                #remove first last name from udea_list[i] and the first letter of names\n",
    "                l=[re.sub('^\\w+\\s(\\w\\w+\\,\\s\\w)\\w+',r'\\1',ll) for ll in udea_list[i]]\n",
    "                #print(l)\n",
    "                rr=process.extractOne(au,l,scorer=fuzz.token_set_ratio)\n",
    "                if rr[1]==100:\n",
    "                    kk=add_WOS_author_to_UDEA_authors(row['UDEA_authors'][i],au,\n",
    "                                                      row['authors_WOS'],wos_list.index(au) )                    \n",
    "                    if DEBUG: print('==7==')\n",
    "                    Q=True\n",
    "                    break\n",
    "                #Very similar names in any order\n",
    "                #print('*',au,udea_list[i])\n",
    "                rr=process.extractOne(au,udea_list[i],scorer=fuzz.token_sort_ratio)\n",
    "                if rr[1]>95:\n",
    "                    kk=add_WOS_author_to_UDEA_authors(row['UDEA_authors'][i],au,\n",
    "                                                      row['authors_WOS'],wos_list.index(au) )                    \n",
    "                    if DEBUG: print('==8==')\n",
    "                    Q=True\n",
    "                    break\n",
    "                #Keep only first last name and the first letter of names\n",
    "                fnau= re.sub('(^\\w\\w+)\\s\\w+(\\,\\s\\w)[\\s\\w]*',r'\\1\\2',au)\n",
    "                l   =[re.sub('(^\\w\\w+)\\s\\w+(\\,\\s\\w)[\\s\\w]*',r'\\1\\2',ll) for ll in udea_list[i]]\n",
    "                #print(l)\n",
    "                rr=process.extractOne(fnau,l,scorer=fuzz.token_set_ratio)\n",
    "                if rr[1]==100:\n",
    "                    kk=add_WOS_author_to_UDEA_authors(row['UDEA_authors'][i],au,\n",
    "                                                      row['authors_WOS'],wos_list.index(au) )                    \n",
    "                    if DEBUG: print('==9==')\n",
    "                    Q=True\n",
    "                    break\n",
    "                \n",
    "                #Q=False\n",
    "        if not Q:\n",
    "            maxl=0\n",
    "            for j in range(len(udea_list[i])):\n",
    "                rr=process.extractOne(udea_list[i][j],wos_list,scorer=fuzz.ratio)\n",
    "                if DEBUG: print(rr)\n",
    "                if rr[1]>maxl:\n",
    "                    maxl=rr[1]\n",
    "            if DEBUG: print(udea_list[i],i,j,maxl)\n",
    "            #keep if maxl>maxlmin See step: ==10===\n",
    "            #print('*',row['UDEA_authors'],i)\n",
    "            if maxl>maxlmin:\n",
    "                #udea_list[i][j],wos_list\n",
    "                #print('Check rr[0] not on WOS_author:',rr[0],row['UDEA_authors'][i].get('WOS_author'))\n",
    "\n",
    "                kk=add_WOS_author_to_UDEA_authors(row['UDEA_authors'][i],rr[0],\n",
    "                                                      row['authors_WOS'],wos_list.index(rr[0]) )\n",
    "                if DEBUG: print('==10==')\n",
    "                Q=True\n",
    "                return Q\n",
    "            else:  #Remove and exit\n",
    "                row['UDEA_authors'].pop(i)\n",
    "                return Q\n",
    "            \n",
    "    return Q"
   ]
  },
  {
   "cell_type": "code",
   "execution_count": 1377,
   "metadata": {},
   "outputs": [
    {
     "name": "stdout",
     "output_type": "stream",
     "text": [
      "==3==\n"
     ]
    },
    {
     "data": {
      "text/plain": [
       "7    True\n",
       "dtype: bool"
      ]
     },
     "execution_count": 1377,
     "metadata": {},
     "output_type": "execute_result"
    }
   ],
   "source": [
    "i=7\n",
    "UDEA.loc[[i]].apply(lambda row:Quality_UDEA_authors(row,DEBUG=True),axis='columns')"
   ]
  },
  {
   "cell_type": "code",
   "execution_count": 1378,
   "metadata": {},
   "outputs": [
    {
     "data": {
      "text/plain": [
       "[{'INICIALES': 'M.',\n",
       "  'NOMBRE COMPLETO': 'Mauricio Camargo Guerrero',\n",
       "  'NOMBRES': 'Mauricio',\n",
       "  'PRIMER APELLIDO': 'Camargo',\n",
       "  'SEGUNDO APELLIDO': 'Guerrero',\n",
       "  'WOS_affiliation': ['Univ Antioquia, Colombia.',\n",
       "   'Univ Antioquia, SIU, Grp Genet Poblac & Mutacarcinogenesis, Medellin, Colombia.',\n",
       "   'Univ Antioquia, Populat Genet & Mutacarcinogenesis Grp, Medellin, Colombia.',\n",
       "   'Univ Antioquia, Inst Biol, Populat Genet Mutacarcinogenesis & Genet Epidemio, Calle Barranquilla 1229, Medellin, Colombia.',\n",
       "   'Univ Antioquia, Grp Genet Poblac, Medellin, Colombia.',\n",
       "   'Univ Antioquia, Sede Invest Univ, Inst Biol, Grp Genet Poblac & Mutacarcinogenesis, Medellin, Colombia.',\n",
       "   'Univ Antioquia, Sede invest Univ, Grp Genet Poblaciones & Mutagenesis, Medellin, Antioquia, Colombia.',\n",
       "   'Univ Antioquia, SIU, Lab Genet & Poblicac, Lab 432, Medellin, Colombia.',\n",
       "   'Univ Antioquia, Fac Ciencias Exactas & Nat, Grp Genet Regenerac & Canc, Medellin, Antioquia, Colombia.'],\n",
       "  'WOS_author': ['Camargo, Mauricio',\n",
       "   'Camargo Guerrero, Mauricio',\n",
       "   'Camargo, M.',\n",
       "   'Guerrero, M.'],\n",
       "  'from_author_WOS_WOS_author': 'Camargo, M.',\n",
       "  'full_name': 'CAMARGO GUERRERO MAURICIO'}]"
      ]
     },
     "execution_count": 1378,
     "metadata": {},
     "output_type": "execute_result"
    }
   ],
   "source": [
    "UDEA.loc[i,'UDEA_authors']"
   ]
  },
  {
   "cell_type": "code",
   "execution_count": 1379,
   "metadata": {},
   "outputs": [
    {
     "data": {
      "text/plain": [
       "[{'WOS_author': 'Naranjo, L. F.',\n",
       "  'affiliation': ['Univ Antioquia, Colombia'],\n",
       "  'i': 0},\n",
       " {'WOS_author': 'Guerrero, M.',\n",
       "  'affiliation': ['Univ Antioquia, Colombia'],\n",
       "  'i': 1}]"
      ]
     },
     "execution_count": 1379,
     "metadata": {},
     "output_type": "execute_result"
    }
   ],
   "source": [
    "UDEA.loc[i,'authors_WOS']#[0]['WOS_author']='manuel, j'"
   ]
  },
  {
   "cell_type": "code",
   "execution_count": 1380,
   "metadata": {},
   "outputs": [
    {
     "data": {
      "text/plain": [
       "Int64Index([  378,  1910,  1917,  1950,  2136,  2214,  2381,  2433,  2491,\n",
       "             2493,\n",
       "            ...\n",
       "            14363, 14389, 14597, 14612, 15073, 15223, 15437, 15467, 15542,\n",
       "            15608],\n",
       "           dtype='int64', length=223)"
      ]
     },
     "execution_count": 1380,
     "metadata": {},
     "output_type": "execute_result"
    }
   ],
   "source": [
    "UDEA[ UDEA['UDEA_authors'].apply(lambda l: [ True for d in l if not d.get('WOS_author')] \n",
    "       if l else [False]).apply(lambda l: True in l) ].index"
   ]
  },
  {
   "cell_type": "code",
   "execution_count": 1381,
   "metadata": {},
   "outputs": [],
   "source": [
    "#UDEA[:100].apply(lambda row:Quality_UDEA_authors(row,DEBUG=False),axis='columns')"
   ]
  },
  {
   "cell_type": "code",
   "execution_count": 1383,
   "metadata": {},
   "outputs": [],
   "source": []
  },
  {
   "cell_type": "code",
   "execution_count": 1386,
   "metadata": {},
   "outputs": [
    {
     "data": {
      "text/plain": [
       "False"
      ]
     },
     "execution_count": 1386,
     "metadata": {},
     "output_type": "execute_result"
    }
   ],
   "source": [
    "10==kold"
   ]
  },
  {
   "cell_type": "code",
   "execution_count": 1391,
   "metadata": {},
   "outputs": [
    {
     "name": "stdout",
     "output_type": "stream",
     "text": [
      "0\n"
     ]
    }
   ],
   "source": [
    "kold=pd.np.inf\n",
    "while True:\n",
    "    Q=UDEA.apply(Quality_UDEA_authors,axis='columns')\n",
    "    kk=UDEA[~Q].shape[0]\n",
    "    print(kk)\n",
    "    if kk==0 or kk==kold:\n",
    "        kold=kk\n",
    "        UDEA['NEW_Q']=Q\n",
    "        break"
   ]
  },
  {
   "cell_type": "code",
   "execution_count": 1393,
   "metadata": {},
   "outputs": [
    {
     "name": "stdout",
     "output_type": "stream",
     "text": [
      "1\n"
     ]
    }
   ],
   "source": [
    "if UDEA[~UDEA['NEW_Q']].shape[0]==0:\n",
    "    print(1)\n",
    "    pass"
   ]
  },
  {
   "cell_type": "code",
   "execution_count": 1267,
   "metadata": {},
   "outputs": [],
   "source": [
    "UDEA['UDEA_authors']=UDEA['UDEA_authors'].apply(lambda l: l if l else [])"
   ]
  },
  {
   "cell_type": "code",
   "execution_count": 1268,
   "metadata": {},
   "outputs": [
    {
     "data": {
      "text/plain": [
       "(12112, 181)"
      ]
     },
     "execution_count": 1268,
     "metadata": {},
     "output_type": "execute_result"
    }
   ],
   "source": [
    "UDEA[UDEA['UDEA_authors'].apply(lambda l: len(l)>0)].shape"
   ]
  },
  {
   "cell_type": "markdown",
   "metadata": {},
   "source": [
    "Other normalizations"
   ]
  },
  {
   "cell_type": "code",
   "execution_count": 1269,
   "metadata": {},
   "outputs": [],
   "source": [
    "UDEA['DI']=UDEA.apply( \n",
    "     lambda row: row['DI'] if row['DI'] else row['SCP_DOI'],axis=1 ).str.strip().str.lower()\n",
    "UDEA['DI']=UDEA.apply( \n",
    "     lambda row: row['DI'] if row['DI'] else row['SCI_DI'],axis=1 ).str.strip().str.lower()"
   ]
  },
  {
   "cell_type": "code",
   "execution_count": 1270,
   "metadata": {},
   "outputs": [],
   "source": [
    "def normalize_NAME(row,WOS_NAME,SCI_NAME,SCP_NAME,UDEA_NAME,\n",
    "                   SCI_sub=('',''),SCP_sub=('',''),UDEA_sub=('',''),\n",
    "                  DEBUG=False):\n",
    "    '''\n",
    "    If the WOS of Science column is empty, copy the\n",
    "    data from a filled column either from \n",
    "    * SCI\n",
    "    * SCP\n",
    "    * UDEA\n",
    "    '''\n",
    "    sn=row[WOS_NAME]\n",
    "    if not sn:\n",
    "        if SCI_NAME and row[SCI_NAME]:\n",
    "            sn=re.sub( SCI_sub[0],SCI_sub[1], str( row[SCI_NAME] ) )\n",
    "            if DEBUG:\n",
    "                print('SCI: {}:{}'.format(row[SCI_NAME], sn))\n",
    "        elif SCP_NAME and row[SCP_NAME]:\n",
    "            sn=re.sub( SCP_sub[0],SCP_sub[1], str( row[SCP_NAME] ) )\n",
    "        elif UDEA_NAME and row[UDEA_NAME]:\n",
    "            sn=re.sub( SCP_sub[0],SCP_sub[1], str( row[UDEA_NAME] ) )\n",
    "            if DEBUG:\n",
    "                print('UDEA: {}:{}'.format(row[UDEA_NAME], sn))            \n",
    "    return sn"
   ]
  },
  {
   "cell_type": "code",
   "execution_count": 931,
   "metadata": {},
   "outputs": [],
   "source": [
    "WOS_NAME ='SN'\n",
    "UDEA[WOS_NAME]=UDEA.apply(lambda row: \n",
    "                       normalize_NAME(row,WOS_NAME,\n",
    "                                      SCI_NAME ='SCI_SN',\n",
    "                                      SCP_NAME ='SCP_ISSN',\n",
    "                                      UDEA_NAME='UDEA_issn rev',\n",
    "                                      SCP_sub=( '^([\\w]{4})([\\w]{4})$',r'\\1-\\2\\n'  ),\n",
    "                                      UDEA_sub=('(\\w)$',r'\\1\\n')\n",
    "                                     )\n",
    "                      ,axis='columns')"
   ]
  },
  {
   "cell_type": "code",
   "execution_count": 932,
   "metadata": {},
   "outputs": [],
   "source": [
    "WOS_NAME ='DI'\n",
    "UDEA[WOS_NAME]=UDEA.apply(lambda row: \n",
    "                       normalize_NAME(row,WOS_NAME,\n",
    "                                      SCI_NAME ='SCI_DI',\n",
    "                                      SCP_NAME ='SCP_DOI',\n",
    "                                      UDEA_NAME='UDEA_doi')\n",
    "                      ,axis='columns')"
   ]
  },
  {
   "cell_type": "code",
   "execution_count": 933,
   "metadata": {},
   "outputs": [],
   "source": [
    "WOS_NAME ='VL'\n",
    "UDEA[WOS_NAME]=UDEA.apply(lambda row: \n",
    "                       normalize_NAME(row,WOS_NAME,\n",
    "                                      SCI_NAME ='SCI_VL',\n",
    "                                      SCP_NAME ='SCP_Volume',\n",
    "                                      UDEA_NAME='',\n",
    "                                      SCI_sub=('(\\w)$',r'\\1\\n'),\n",
    "                                      SCP_sub=('(\\w)$',r'\\1\\n')\n",
    "                                     )\n",
    "                      ,axis='columns')"
   ]
  },
  {
   "cell_type": "code",
   "execution_count": 934,
   "metadata": {},
   "outputs": [],
   "source": [
    "WOS_NAME ='IS'\n",
    "UDEA[WOS_NAME]=UDEA.apply(lambda row: \n",
    "                       normalize_NAME(row,WOS_NAME,\n",
    "                                      SCI_NAME ='SCI_IS',\n",
    "                                      SCP_NAME ='SCP_Issue',\n",
    "                                      UDEA_NAME='',\n",
    "                                      SCP_sub=('(\\w)$',r'\\1\\n')\n",
    "                                     )\n",
    "                      ,axis='columns')"
   ]
  },
  {
   "cell_type": "code",
   "execution_count": 935,
   "metadata": {},
   "outputs": [],
   "source": [
    "WOS_NAME ='BP'\n",
    "UDEA[WOS_NAME]=UDEA.apply(lambda row: \n",
    "                       normalize_NAME(row,WOS_NAME,\n",
    "                                      SCI_NAME ='SCI_BP',\n",
    "                                      SCP_NAME ='SCP_Page start',\n",
    "                                      UDEA_NAME='',\n",
    "                                      SCP_sub=('(\\w)$',r'\\1\\n')\n",
    "                                     )\n",
    "                      ,axis='columns')"
   ]
  },
  {
   "cell_type": "code",
   "execution_count": 936,
   "metadata": {},
   "outputs": [],
   "source": [
    "WOS_NAME ='EP'\n",
    "UDEA[WOS_NAME]=UDEA.apply(lambda row: \n",
    "                       normalize_NAME(row,WOS_NAME,\n",
    "                                      SCI_NAME ='SCI_EP',\n",
    "                                      SCP_NAME ='SCP_Page end',\n",
    "                                      UDEA_NAME='',\n",
    "                                      SCP_sub=('(\\w)$',r'\\1\\n')\n",
    "                                     )\n",
    "                      ,axis='columns')"
   ]
  },
  {
   "cell_type": "code",
   "execution_count": 937,
   "metadata": {},
   "outputs": [],
   "source": [
    "UDEA['UDEA_idioma']=UDEA['UDEA_idioma'].apply(lambda s: 'Spanish' if s=='ESPA?' else s)\n",
    "UDEA['UDEA_idioma']=UDEA['UDEA_idioma'].apply(lambda s: 'English' if s=='INGLE' else s)\n",
    "WOS_NAME ='LA'\n",
    "UDEA[WOS_NAME]=UDEA.apply(lambda row: \n",
    "                       normalize_NAME(row,WOS_NAME,\n",
    "                                      SCI_NAME ='SCI_LA',\n",
    "                                      SCP_NAME ='SCP_Language of Original Document',\n",
    "                                      UDEA_NAME='UDEA_idioma',\n",
    "                                      SCI_sub =('\\t',r''),\n",
    "                                      SCP_sub =('(\\w)$',r'\\1\\n'),\n",
    "                                      UDEA_sub=('(\\w)$',r'\\1\\n')\n",
    "                                     )\n",
    "                      ,axis='columns')"
   ]
  },
  {
   "cell_type": "markdown",
   "metadata": {},
   "source": [
    "## Centros"
   ]
  },
  {
   "cell_type": "code",
   "execution_count": 151,
   "metadata": {},
   "outputs": [],
   "source": [
    "udea=UDEA.copy()"
   ]
  },
  {
   "cell_type": "code",
   "execution_count": 152,
   "metadata": {},
   "outputs": [],
   "source": [
    "def convert_dictionary_keys_of_list_of_dictionaries_to_column_dataframe(df,\n",
    "                            json_column='UDEA_authors',dictionary_key='FACULTAD',sep='; '):\n",
    "    return df[json_column].apply(lambda l:  \n",
    "       [d.get(dictionary_key) for d in  l if type(l)==list and d.get(dictionary_key) ]  \n",
    "               ).apply(\n",
    "        pd.np.unique\n",
    "        ).apply(sep.join)    "
   ]
  },
  {
   "cell_type": "code",
   "execution_count": 153,
   "metadata": {},
   "outputs": [],
   "source": [
    "JSON=True\n",
    "if not JSON:\n",
    "    udea['FACULTAD']=convert_dictionary_keys_of_list_of_dictionaries_to_column_dataframe(udea,\n",
    "                                            json_column='UDEA_authors',dictionary_key='FACULTAD')\n",
    "    udea['DEPARTAMENTO']=convert_dictionary_keys_of_list_of_dictionaries_to_column_dataframe(udea,\n",
    "                                            json_column='UDEA_authors',dictionary_key='DEPARTAMENTO')\n",
    "    udea['GRUPO']=convert_dictionary_keys_of_list_of_dictionaries_to_column_dataframe(udea,\n",
    "                                            json_column='UDEA_authors',dictionary_key='GRUPO')\n",
    "    udea['autores_UDEA']=convert_dictionary_keys_of_list_of_dictionaries_to_column_dataframe(udea,\n",
    "                                            json_column='UDEA_authors',dictionary_key='full_name')"
   ]
  },
  {
   "cell_type": "markdown",
   "metadata": {},
   "source": [
    "# Prepare columns"
   ]
  },
  {
   "cell_type": "code",
   "execution_count": 154,
   "metadata": {},
   "outputs": [],
   "source": [
    "def new_Autores(l,nombre='Nombres',tipo='Tipo',identificación='Identificación'):\n",
    "    dd={}\n",
    "    ll=[]\n",
    "    for d in l:\n",
    "        if d.get('NOMBRE COMPLETO'):\n",
    "            dd[nombre]=d['NOMBRE COMPLETO']\n",
    "            dd[tipo]='Profesor vinculado'\n",
    "        if d.get('CÉDULA'):\n",
    "            dd[identificación]=d['CÉDULA']\n",
    "        ll.append(dd)\n",
    "    return ll"
   ]
  },
  {
   "cell_type": "code",
   "execution_count": 155,
   "metadata": {},
   "outputs": [],
   "source": [
    "if JSON:\n",
    "    año='annio'; título='tituloArticulo'; revista='nombreRevista'\n",
    "    issn='issn'; doi='doi'; volumen='volumen'; número='numero'\n",
    "    páginas='paginas'; semestre='semestre'; idioma='idioma'\n",
    "    tipoRevista='tipoRevista';     Colciencias='clasificacionColciencias'\n",
    "    proyecto='proyectoAsociado'\n",
    "    autores='autores'\n",
    "else:\n",
    "    año='Año';   título='Título del Artículo'; revista='Nombre de la Revista'\n",
    "    issn='ISSN'; doi='DOI'; volumen='Volumen'; número='numero'\n",
    "    páginas='Páginas'; semestre='Semestre'; idioma='Idioma'\n",
    "    tipoRevista='Tipo de Revista'; Colciencias='Clasificación Colciencias'\n",
    "    proyecto='Producto asociado a un proyecto de extensión o investigación'\n",
    "    udea['Nombre del proyecto de extensión o investigación']=''\n",
    "    autores='Autores'\n",
    "    \n",
    "udea[título]=udea['TI']\n",
    "udea[revista]=udea['SO']\n",
    "udea[issn]=udea['SN'].str.replace('\\n','')\n",
    "udea[doi]=udea['DI']\n",
    "udea[volumen]=udea['VL'].str.replace('\\n','')\n",
    "udea[número]=udea['IS'].str.replace('\\n','')\n",
    "udea[páginas]=udea.apply(lambda row:\n",
    "                  row['BP'].replace('\\n','')+'-'+row['EP'].replace('\\n','') \n",
    "                  if row['BP'] \n",
    "                  else row['BP'],axis='columns').str.replace('\\-$','')\n",
    "udea[año]=udea['PY']\n",
    "udea[semestre]=None\n",
    "udea[idioma]=udea['LA'].str.replace('\\n','')\n",
    "udea[tipoRevista]=udea.apply(lambda row: 'Revista Internacional Indexada' \n",
    "           if row.get('Tipo').find('WOS')>-1 or row.get('Tipo').find('SCP')\n",
    "           else 'Revista Indexada en SCIELO',axis='columns')\n",
    "udea[Colciencias]=None\n",
    "udea[proyecto]=None\n"
   ]
  },
  {
   "cell_type": "code",
   "execution_count": 156,
   "metadata": {},
   "outputs": [],
   "source": [
    "udea[autores]=udea['UDEA_authors'].apply(new_Autores)"
   ]
  },
  {
   "cell_type": "code",
   "execution_count": 157,
   "metadata": {},
   "outputs": [],
   "source": [
    "udea_au=udea[udea[autores].apply(len)>0].reset_index(drop=True)"
   ]
  },
  {
   "cell_type": "code",
   "execution_count": 158,
   "metadata": {},
   "outputs": [
    {
     "data": {
      "text/plain": [
       "2018"
      ]
     },
     "execution_count": 158,
     "metadata": {},
     "output_type": "execute_result"
    }
   ],
   "source": [
    "udea.PY.max()"
   ]
  },
  {
   "cell_type": "code",
   "execution_count": 159,
   "metadata": {},
   "outputs": [],
   "source": [
    "f=open('example.json','w')\n",
    "f.write(\n",
    "'''\n",
    "[{\n",
    "  \"autores\" : [ \n",
    "      {\n",
    "          \"nombreAutor\" : \"Jonathan Aguilar Bedoya\",\n",
    "          \"identificacionAutor\" : null,\n",
    "          \"tipoAutor\" : \"Estudiante de posgrado\",\n",
    "          \"programaAcademico\" : [ \n",
    "              \"60178-MAESTRÍA EN INGENIERÍA MECÁNICA-INVESTIGACIÓN\"\n",
    "          ],\n",
    "          \"grupoInvestigacion\" : [ \n",
    "              \"Grupo de Energía Alternativa\"\n",
    "          ]\n",
    "      }, \n",
    "      {\n",
    "          \"nombreAutor\" : \"Ainhoa Rubio Celemente\",\n",
    "          \"tipoAutor\" : \"Autor externo\",\n",
    "          \"grupoInvestigacion\" : [ \n",
    "              \"Grupo de Energía Alternativa\"\n",
    "          ],\n",
    "          \"institucion\" : \"Tecnológico de Antioquia. Institución Universitaria\",\n",
    "          \"pais\" : \"Colombia\"\n",
    "      }, \n",
    "      {\n",
    "          \"nombreAutor\" : \"Laura Isable Velasquez Garcia\",\n",
    "          \"tipoAutor\" : \"Profesor ocasional\",\n",
    "          \"programaAcademico\" : [ \n",
    "              \"516-INGENIERÍA MECÁNICA\"\n",
    "          ],\n",
    "          \"grupoInvestigacion\" : [ \n",
    "              \"Grupo de Energía Alternativa\"\n",
    "          ]\n",
    "      }, \n",
    "      {\n",
    "          \"nombreAutor\" : \"Edwin Lenin Chica Arrieta\",\n",
    "          \"identificacionAutor\" : \"78761560\",\n",
    "          \"tipoAutor\" : \"Profesor vinculado\",\n",
    "          \"programaAcademico\" : [ \n",
    "              \"516-INGENIERÍA MECÁNICA\"\n",
    "          ],\n",
    "          \"grupoInvestigacion\" : [ \n",
    "              \"Grupo de Energía Alternativa\"\n",
    "          ]\n",
    "      }\n",
    "  ],\n",
    "  \"tituloArticulo\" : \"Design and Optimization of a Multi-Element Hydrofoil for a Horizontal-Axis Hydrokinetic Turbine\",\n",
    "  \"nombreRevista\" : \"Energies\",\n",
    "  \"issn\" : \"1996-1073\",\n",
    "  \"doi\" : \"10.3390/en12244679\",\n",
    "  \"volumen\" : 12,\n",
    "  \"numero\" : 24,\n",
    "  \"paginas\" : \"1-18\",\n",
    "  \"annio\" : 2019,\n",
    "  \"semestre\" : \"2019-2\",\n",
    "  \"idioma\" : \"Inglés\",\n",
    "  \"tipoRevista\" : \"Revista Internacional Indexada\",\n",
    "  \"clasificacionColciencias\" : \"A1\",\n",
    "  \"proyectoAsociado\" : null\n",
    "}\n",
    "]\n",
    "'''\n",
    ")\n",
    "f.close()"
   ]
  },
  {
   "cell_type": "code",
   "execution_count": 160,
   "metadata": {},
   "outputs": [],
   "source": [
    "if JSON:\n",
    "    new_format=pd.read_json( 'example.json' )\n",
    "else:\n",
    "    new_format=pd.read_excel('https://docs.google.com/spreadsheets/d/e/2PACX-1vTiaxuZSGmI-aFgMUVjRAU3ws7WN9xmtjMEWu_SLOd5kAq_ZAuUtJUVr8qxNl3sMcp_fjE2gLVt_tdp/pub?output=xlsx')"
   ]
  },
  {
   "cell_type": "code",
   "execution_count": 161,
   "metadata": {},
   "outputs": [],
   "source": [
    "audea=udea_au[list(new_format.columns)]\n",
    "#.to_excel('UDEA_2018.xlsx',index=False)"
   ]
  },
  {
   "cell_type": "code",
   "execution_count": 162,
   "metadata": {},
   "outputs": [
    {
     "data": {
      "text/plain": [
       "(12270, 14)"
      ]
     },
     "execution_count": 162,
     "metadata": {},
     "output_type": "execute_result"
    }
   ],
   "source": [
    "audea.shape"
   ]
  },
  {
   "cell_type": "markdown",
   "metadata": {},
   "source": [
    "# NOTA\n",
    "Se ha añadido \n",
    "* `'Facultad'`\n",
    "* y `'afiliacionWOS'` cuando no se conoce el departamento"
   ]
  },
  {
   "cell_type": "code",
   "execution_count": 372,
   "metadata": {},
   "outputs": [],
   "source": [
    "kk=pd.DataFrame()\n",
    "kk['NOMBRE COMPLETO']=UDEA['UDEA_authors'].apply(lambda l: [d.get('NOMBRE COMPLETO') for d in l if not d.get('CÉDULA')]\n",
    "                          ).apply(lambda l: l[0] if l else None).dropna().reset_index(drop=True)"
   ]
  },
  {
   "cell_type": "code",
   "execution_count": 373,
   "metadata": {},
   "outputs": [
    {
     "data": {
      "text/html": [
       "<div>\n",
       "<style scoped>\n",
       "    .dataframe tbody tr th:only-of-type {\n",
       "        vertical-align: middle;\n",
       "    }\n",
       "\n",
       "    .dataframe tbody tr th {\n",
       "        vertical-align: top;\n",
       "    }\n",
       "\n",
       "    .dataframe thead th {\n",
       "        text-align: right;\n",
       "    }\n",
       "</style>\n",
       "<table border=\"1\" class=\"dataframe\">\n",
       "  <thead>\n",
       "    <tr style=\"text-align: right;\">\n",
       "      <th></th>\n",
       "      <th>NOMBRE COMPLETO</th>\n",
       "      <th>CÉDULA</th>\n",
       "      <th>DEPARTAMENTO</th>\n",
       "      <th>FACULTAD</th>\n",
       "      <th>GRUPO</th>\n",
       "      <th>NOMBRES</th>\n",
       "      <th>PRIMER APELLIDO</th>\n",
       "      <th>SEGUNDO APELLIDO</th>\n",
       "    </tr>\n",
       "  </thead>\n",
       "  <tbody>\n",
       "  </tbody>\n",
       "</table>\n",
       "</div>"
      ],
      "text/plain": [
       "Empty DataFrame\n",
       "Columns: [NOMBRE COMPLETO, CÉDULA, DEPARTAMENTO, FACULTAD, GRUPO, NOMBRES, PRIMER APELLIDO, SEGUNDO APELLIDO]\n",
       "Index: []"
      ]
     },
     "execution_count": 373,
     "metadata": {},
     "output_type": "execute_result"
    }
   ],
   "source": [
    "kk.merge(AU,on='NOMBRE COMPLETO',how='left').dropna()"
   ]
  },
  {
   "cell_type": "code",
   "execution_count": 330,
   "metadata": {},
   "outputs": [
    {
     "data": {
      "text/plain": [
       "71260216"
      ]
     },
     "execution_count": 330,
     "metadata": {},
     "output_type": "execute_result"
    }
   ],
   "source": [
    "AU[AU['NOMBRE COMPLETO'].str.contains('Ocho')].reset_index(drop=True).loc[0,'CÉDULA']"
   ]
  },
  {
   "cell_type": "code",
   "execution_count": 356,
   "metadata": {},
   "outputs": [
    {
     "data": {
      "text/plain": [
       "False"
      ]
     },
     "execution_count": 356,
     "metadata": {},
     "output_type": "execute_result"
    }
   ],
   "source": [
    "d={'NOMBRE COMPLETO':'Elena Valentina Gutierrez Gutierrez','CÉDULA':29126775}\n",
    "au=AU[AU['NOMBRE COMPLETO']==d.get('NOMBRE COMPLETO')].reset_index(drop=True).loc[0]\n",
    "au.empty"
   ]
  },
  {
   "cell_type": "code",
   "execution_count": 362,
   "metadata": {},
   "outputs": [
    {
     "data": {
      "text/plain": [
       "'E. V.'"
      ]
     },
     "execution_count": 362,
     "metadata": {},
     "output_type": "execute_result"
    }
   ],
   "source": [
    "s='Elena Valentina'\n"
   ]
  },
  {
   "cell_type": "code",
   "execution_count": 163,
   "metadata": {},
   "outputs": [],
   "source": [
    "def new_Autores(l,AU=AU,\n",
    "                nombre='nombreAutor',#str \n",
    "                tipo='tipoAutor',\n",
    "                identificación='identificacionAutor',\n",
    "                facultad='facultad',#str\n",
    "                departamento='departamento',#list\n",
    "                grupo='grupoInvestigacion',#list\n",
    "                institución='institucion'#str\n",
    "               ):\n",
    "    '''\n",
    "    AU: Data Frame with author info\n",
    "    Added Facultad y afiliacion WOS\n",
    "    '''\n",
    "    dd={}\n",
    "    ll=[]\n",
    "    for d in l:\n",
    "        if d.get('CÉDULA'):\n",
    "            au=AU[AU['CÉDULA']==int(d.get('CÉDULA'))].reset_index(drop=True)\n",
    "            if not au.empty:\n",
    "                dd[nombre]=au.loc[0,'NOMBRE COMPLETO']\n",
    "                dd[tipo]='Profesor vinculado'\n",
    "                dd[identificación]=au.loc[0,'CÉDULA']\n",
    "                dd[facultad]=au.loc[0,'FACULTAD']\n",
    "                dd[departamento]=[au.loc[0,'DEPARTAMENTO']]\n",
    "                dd[grupo]=[au.loc[0,'GRUPO']]\n",
    "                dd[institución]='Universidad de Antioquia'\n",
    "                try:\n",
    "                    dd['afiliacionWOS']=d.get('WOS_affiliation')[0]\n",
    "                except:\n",
    "                    pass\n",
    "            else:\n",
    "                if d.get('NOMBRE COMPLETO'):\n",
    "                    dd[nombre]=d['NOMBRE COMPLETO']\n",
    "                    dd[tipo]='Profesor vinculado'\n",
    "                if d.get('CÉDULA'):\n",
    "                    dd[identificación]=d['CÉDULA']\n",
    "                    dd[institución]='Universidad de Antioquia'\n",
    "                    try:\n",
    "                        dd['afiliacionWOS']=d.get('WOS_affiliation')[0]\n",
    "                    except:\n",
    "                        pass\n",
    "                else:\n",
    "                    dd[identificación]=None\n",
    "        ll.append(dd)\n",
    "        dd={}\n",
    "    return ll"
   ]
  },
  {
   "cell_type": "code",
   "execution_count": 164,
   "metadata": {},
   "outputs": [
    {
     "name": "stderr",
     "output_type": "stream",
     "text": [
      "/usr/local/lib/python3.5/dist-packages/ipykernel_launcher.py:1: SettingWithCopyWarning: \n",
      "A value is trying to be set on a copy of a slice from a DataFrame.\n",
      "Try using .loc[row_indexer,col_indexer] = value instead\n",
      "\n",
      "See the caveats in the documentation: http://pandas.pydata.org/pandas-docs/stable/indexing.html#indexing-view-versus-copy\n",
      "  \"\"\"Entry point for launching an IPython kernel.\n"
     ]
    }
   ],
   "source": [
    "audea[autores]=udea['UDEA_authors'].apply(new_Autores)"
   ]
  },
  {
   "cell_type": "code",
   "execution_count": 39,
   "metadata": {},
   "outputs": [
    {
     "data": {
      "text/plain": [
       "[{'Identificación': 32508663,\n",
       "  'Nombres': 'Del Consuelo Montes Ramirez',\n",
       "  'Tipo': 'Profesor vinculado'}]"
      ]
     },
     "execution_count": 39,
     "metadata": {},
     "output_type": "execute_result"
    }
   ],
   "source": [
    "udea[autores].loc[1]"
   ]
  },
  {
   "cell_type": "markdown",
   "metadata": {},
   "source": [
    "TODO:\n",
    "* Adiciones `WOS_athors` to `UDEA_authors`\n",
    "  1. partial ratio on last names -> 100\n",
    "  1. partial ratio on initials  "
   ]
  },
  {
   "cell_type": "code",
   "execution_count": 781,
   "metadata": {},
   "outputs": [
    {
     "data": {
      "text/plain": [
       "[{'WOS_author': 'Grisales F, Lina María',\n",
       "  'affiliation': ['Univ Antioquia, Colombia.'],\n",
       "  'i': 0},\n",
       " {'WOS_author': 'Giraldo G, Libardo Antonio',\n",
       "  'affiliation': ['Univ Antioquia, Colombia.'],\n",
       "  'i': 1}]"
      ]
     },
     "execution_count": 781,
     "metadata": {},
     "output_type": "execute_result"
    }
   ],
   "source": [
    "[{'WOS_author': 'Grisales F, Lina María',\n",
    "  'affiliation': ['Univ Antioquia, Colombia.'],\n",
    "  'i': 0},\n",
    " {'WOS_author': 'Giraldo G, Libardo Antonio',\n",
    "  'affiliation': ['Univ Antioquia, Colombia.'],\n",
    "  'i': 1}]"
   ]
  },
  {
   "cell_type": "code",
   "execution_count": 783,
   "metadata": {},
   "outputs": [
    {
     "data": {
      "text/plain": [
       "[{'INICIALES': 'L. A.',\n",
       "  'NOMBRE COMPLETO': 'Libardo Antonio Giraldo Gaviria',\n",
       "  'NOMBRES': 'Libardo Antonio',\n",
       "  'PRIMER APELLIDO': 'Giraldo',\n",
       "  'SEGUNDO APELLIDO': 'Gaviria',\n",
       "  'full_name': 'GIRALDO GAVIRIA LIBARDO ANTONIO'}]"
      ]
     },
     "execution_count": 783,
     "metadata": {},
     "output_type": "execute_result"
    }
   ],
   "source": [
    "[{'INICIALES': 'L. A.',\n",
    "  'NOMBRE COMPLETO': 'Libardo Antonio Giraldo Gaviria',\n",
    "  'NOMBRES': 'Libardo Antonio',\n",
    "  'PRIMER APELLIDO': 'Giraldo',\n",
    "  'SEGUNDO APELLIDO': 'Gaviria',\n",
    "  'full_name': 'GIRALDO GAVIRIA LIBARDO ANTONIO'}]"
   ]
  },
  {
   "cell_type": "code",
   "execution_count": 784,
   "metadata": {},
   "outputs": [
    {
     "data": {
      "text/plain": [
       "[{'CÉDULA': 18927154.0,\n",
       "  'DEPARTAMENTO': 'Departamento de Ingeniería Eléctrica',\n",
       "  'FACULTAD': 'Facultad de Ingeniería',\n",
       "  'GRUPO': 'Grupo de Investigación en Materiales y Sistemas Energéticos TESLA',\n",
       "  'INICIALES': 'E.',\n",
       "  'NOMBRE COMPLETO': 'Edwin Garcia Quintero',\n",
       "  'NOMBRES': 'Edwin',\n",
       "  'PRIMER APELLIDO': 'Garcia',\n",
       "  'SEGUNDO APELLIDO': 'Quintero',\n",
       "  'WOS_affiliation': ['Univ Antioquia, Dept Ingn Elect, Medellin, Colombia.',\n",
       "   'Univ Antioquia, Colombia.',\n",
       "   'Department of Electrical Engineering, Univ Antioquia, Colombia'],\n",
       "  'WOS_author': ['Garcia Quintero, Edwin',\n",
       "   'Garcia-Quintero, E.',\n",
       "   'Garcia-Quintero, Edwin',\n",
       "   'Garcia, Edwin'],\n",
       "  'full_name': 'GARCIA QUINTERO EDWIN'}]"
      ]
     },
     "execution_count": 784,
     "metadata": {},
     "output_type": "execute_result"
    }
   ],
   "source": [
    "[{'CÉDULA': 18927154.0,\n",
    "  'DEPARTAMENTO': 'Departamento de Ingeniería Eléctrica',\n",
    "  'FACULTAD': 'Facultad de Ingeniería',\n",
    "  'GRUPO': 'Grupo de Investigación en Materiales y Sistemas Energéticos TESLA',\n",
    "  'INICIALES': 'E.',\n",
    "  'NOMBRE COMPLETO': 'Edwin Garcia Quintero',\n",
    "  'NOMBRES': 'Edwin',\n",
    "  'PRIMER APELLIDO': 'Garcia',\n",
    "  'SEGUNDO APELLIDO': 'Quintero',\n",
    "  'WOS_affiliation': ['Univ Antioquia, Dept Ingn Elect, Medellin, Colombia.',\n",
    "   'Univ Antioquia, Colombia.',\n",
    "   'Department of Electrical Engineering, Univ Antioquia, Colombia'],\n",
    "  'WOS_author': ['Garcia Quintero, Edwin',\n",
    "   'Garcia-Quintero, E.',\n",
    "   'Garcia-Quintero, Edwin',\n",
    "   'Garcia, Edwin'],\n",
    "  'full_name': 'GARCIA QUINTERO EDWIN'}]"
   ]
  },
  {
   "cell_type": "code",
   "execution_count": 236,
   "metadata": {},
   "outputs": [
    {
     "ename": "IndentationError",
     "evalue": "expected an indented block (<ipython-input-236-656bed09c844>, line 16)",
     "output_type": "error",
     "traceback": [
      "\u001b[0;36m  File \u001b[0;32m\"<ipython-input-236-656bed09c844>\"\u001b[0;36m, line \u001b[0;32m16\u001b[0m\n\u001b[0;31m    udea_ln =[ unidecode.unidecode(\u001b[0m\n\u001b[0m    ^\u001b[0m\n\u001b[0;31mIndentationError\u001b[0m\u001b[0;31m:\u001b[0m expected an indented block\n"
     ]
    }
   ],
   "source": [
    "    wos_list =[ unidecode.unidecode( \n",
    "                  d.get('WOS_author').lower())  \n",
    "                  for d in row.get('authors_WOS')]\n",
    "    wos_aff  =[ d.get('affiliation') for d in row.get('authors_WOS')]    \n",
    "    l=row.get('UDEA_authors')\n",
    "    ll=row.get('authors_WOS')\n",
    "    if ll:\n",
    "        ll=pd.DataFrame(ll)\n",
    "    else:\n",
    "        ll=pd.DataFrame()\n",
    "    for i in range(len(l)):\n",
    "        if not l[i].get('WOS_author'):\n",
    "            \n",
    "\n",
    "    udea_ln =[ unidecode.unidecode( \n",
    "                 d.get('PRIMER APELLIDO').lower())  for d in row.get('UDEA_authors')]\n",
    "    udea_n  =[ unidecode.unidecode( \n",
    "                 d.get('NOMBRES').lower())  for d in row.get('UDEA_authors')]\n",
    "    udea_in =[ unidecode.unidecode( \n",
    "                 d.get('INICIALES').lower())  for d in row.get('UDEA_authors')]\n",
    "    print(wos_list)\n",
    "    print(udea_ln)"
   ]
  },
  {
   "cell_type": "code",
   "execution_count": 851,
   "metadata": {},
   "outputs": [
    {
     "data": {
      "text/plain": [
       "[{'WOS_author': 'Garcia Quintero, Edwin',\n",
       "  'affiliation': ['Univ Antioquia, Dept Ingn Elect, Medellin, Colombia.'],\n",
       "  'i': 0},\n",
       " {'WOS_author': 'Roig, VF',\n",
       "  'affiliation': ['Univ Politecn Valencia, Dept Ingn Elect, E-46071 Valencia, Spain.']}]"
      ]
     },
     "execution_count": 851,
     "metadata": {},
     "output_type": "execute_result"
    }
   ],
   "source": [
    "UDEA['authors_WOS'].loc[0]"
   ]
  },
  {
   "cell_type": "code",
   "execution_count": 852,
   "metadata": {},
   "outputs": [
    {
     "data": {
      "text/plain": [
       "[{'CÉDULA': 18927154.0,\n",
       "  'DEPARTAMENTO': 'Departamento de Ingeniería Eléctrica',\n",
       "  'FACULTAD': 'Facultad de Ingeniería',\n",
       "  'GRUPO': 'Grupo de Investigación en Materiales y Sistemas Energéticos TESLA',\n",
       "  'INICIALES': 'E.',\n",
       "  'NOMBRE COMPLETO': 'Edwin Garcia Quintero',\n",
       "  'NOMBRES': 'Edwin',\n",
       "  'PRIMER APELLIDO': 'Garcia',\n",
       "  'SEGUNDO APELLIDO': 'Quintero',\n",
       "  'WOS_affiliation': ['Univ Antioquia, Dept Ingn Elect, Medellin, Colombia.',\n",
       "   'Univ Antioquia, Colombia.',\n",
       "   'Department of Electrical Engineering, Univ Antioquia, Colombia'],\n",
       "  'WOS_author': ['Garcia Quintero, Edwin',\n",
       "   'Garcia-Quintero, E.',\n",
       "   'Garcia-Quintero, Edwin',\n",
       "   'Garcia, Edwin'],\n",
       "  'full_name': 'GARCIA QUINTERO EDWIN'}]"
      ]
     },
     "execution_count": 852,
     "metadata": {},
     "output_type": "execute_result"
    }
   ],
   "source": [
    "UDEA['UDEA_authors'].loc[0]"
   ]
  },
  {
   "cell_type": "code",
   "execution_count": 946,
   "metadata": {},
   "outputs": [],
   "source": [
    "l=[{'INICIALES': 'L. A.',\n",
    "  'NOMBRE COMPLETO': 'Libardo Antonio Giraldo Gaviria',\n",
    "  'NOMBRES': 'Libardo Antonio',\n",
    "  'PRIMER APELLIDO': 'Giraldo',\n",
    "  'SEGUNDO APELLIDO': 'Gaviria',\n",
    "  'full_name': 'GIRALDO GAVIRIA LIBARDO ANTONIO'},\n",
    " {'CÉDULA': 43746089,\n",
    "  'INICIALES': 'L. M.',\n",
    "  'NOMBRE COMPLETO': 'Lina Maria Grisales Franco',\n",
    "  'NOMBRES': 'Lina Maria',\n",
    "  'PRIMER APELLIDO': 'Grisales',\n",
    "  'SEGUNDO APELLIDO': 'Franco',\n",
    "  'full_name': 'GRISALES FRANCO LINA MARIA'}]\n"
   ]
  },
  {
   "cell_type": "code",
   "execution_count": 947,
   "metadata": {},
   "outputs": [],
   "source": [
    "lll=[{'WOS_author': 'Grisales F, María',\n",
    "  'affiliation': ['Univ Antioquia, Colombia.'],\n",
    "  'i': 0},\n",
    " {'WOS_author': 'Giraldo G, Libardo Antonio',\n",
    "  'affiliation': ['Univ Antioquia, Colombia.'],\n",
    "  'i': 1}]"
   ]
  },
  {
   "cell_type": "code",
   "execution_count": 45,
   "metadata": {},
   "outputs": [
    {
     "data": {
      "text/plain": [
       "[{'INICIALES': 'M.',\n",
       "  'NOMBRE COMPLETO': 'Michael Hess',\n",
       "  'NOMBRES': 'Michael',\n",
       "  'PRIMER APELLIDO': 'Hess',\n",
       "  'SEGUNDO APELLIDO': '',\n",
       "  'full_name': 'HESS MICHAEL'}]"
      ]
     },
     "execution_count": 45,
     "metadata": {},
     "output_type": "execute_result"
    }
   ],
   "source": [
    "i=5742\n",
    "l=UDEA['UDEA_authors'].loc[i]\n",
    "l"
   ]
  },
  {
   "cell_type": "code",
   "execution_count": 46,
   "metadata": {},
   "outputs": [
    {
     "data": {
      "text/plain": [
       "['Michael Hess']"
      ]
     },
     "execution_count": 46,
     "metadata": {},
     "output_type": "execute_result"
    }
   ],
   "source": [
    "[ d.get('NOMBRE COMPLETO') for d in l]"
   ]
  },
  {
   "cell_type": "code",
   "execution_count": 47,
   "metadata": {},
   "outputs": [],
   "source": [
    "lll=UDEA['authors_WOS'].loc[i]\n",
    "ll=pd.DataFrame(lll)"
   ]
  },
  {
   "cell_type": "code",
   "execution_count": 48,
   "metadata": {},
   "outputs": [
    {
     "data": {
      "text/html": [
       "<div>\n",
       "<style scoped>\n",
       "    .dataframe tbody tr th:only-of-type {\n",
       "        vertical-align: middle;\n",
       "    }\n",
       "\n",
       "    .dataframe tbody tr th {\n",
       "        vertical-align: top;\n",
       "    }\n",
       "\n",
       "    .dataframe thead th {\n",
       "        text-align: right;\n",
       "    }\n",
       "</style>\n",
       "<table border=\"1\" class=\"dataframe\">\n",
       "  <thead>\n",
       "    <tr style=\"text-align: right;\">\n",
       "      <th></th>\n",
       "      <th>WOS_author</th>\n",
       "      <th>affiliation</th>\n",
       "    </tr>\n",
       "  </thead>\n",
       "  <tbody>\n",
       "    <tr>\n",
       "      <th>0</th>\n",
       "      <td>Mejia, AI</td>\n",
       "      <td>[Univ Antioquia, Fac Ciencias Exactas &amp; Nat, Dept Quim, Lab Invest Polimeros, AA-1226 Medellin, Colombia.]</td>\n",
       "    </tr>\n",
       "    <tr>\n",
       "      <th>1</th>\n",
       "      <td>Lopez, BL</td>\n",
       "      <td>[Univ Antioquia, Fac Quim Farmaceut, Dept Farm, AA-1226 Medellin, Colombia.]</td>\n",
       "    </tr>\n",
       "    <tr>\n",
       "      <th>2</th>\n",
       "      <td>Mulet, A</td>\n",
       "      <td>[Univ Politecn Valencia, Dept Tecnol Alimentos, E-46071 Valencia, Spain.]</td>\n",
       "    </tr>\n",
       "  </tbody>\n",
       "</table>\n",
       "</div>"
      ],
      "text/plain": [
       "  WOS_author  \\\n",
       "0  Mejia, AI   \n",
       "1  Lopez, BL   \n",
       "2   Mulet, A   \n",
       "\n",
       "                                                                                                  affiliation  \n",
       "0  [Univ Antioquia, Fac Ciencias Exactas & Nat, Dept Quim, Lab Invest Polimeros, AA-1226 Medellin, Colombia.]  \n",
       "1                                [Univ Antioquia, Fac Quim Farmaceut, Dept Farm, AA-1226 Medellin, Colombia.]  \n",
       "2                                   [Univ Politecn Valencia, Dept Tecnol Alimentos, E-46071 Valencia, Spain.]  "
      ]
     },
     "execution_count": 48,
     "metadata": {},
     "output_type": "execute_result"
    }
   ],
   "source": [
    "ll"
   ]
  },
  {
   "cell_type": "code",
   "execution_count": 1102,
   "metadata": {},
   "outputs": [
    {
     "data": {
      "text/plain": [
       "True"
      ]
     },
     "execution_count": 1102,
     "metadata": {},
     "output_type": "execute_result"
    }
   ],
   "source": [
    "df=ll\n",
    "'WOS_author' in df.columns"
   ]
  },
  {
   "cell_type": "code",
   "execution_count": 1103,
   "metadata": {},
   "outputs": [
    {
     "name": "stdout",
     "output_type": "stream",
     "text": [
      "i: 0\n",
      "('mejia', 25, 0)\n",
      "m\n",
      "[('ai', 0, 0), ('bl', 0, 1), ('a', 0, 2)]\n",
      "m\n",
      "[('ai', 0, 0), ('bl', 0, 1), ('a', 0, 2)]\n",
      "[('ai', 0, 0), ('bl', 0, 1), ('a', 0, 2)]\n"
     ]
    }
   ],
   "source": [
    "for i in range(1):\n",
    "     l,i,ll,j=compare_names(l,i,ll,j,DEBUG=True)   "
   ]
  },
  {
   "cell_type": "code",
   "execution_count": 1104,
   "metadata": {},
   "outputs": [
    {
     "data": {
      "text/plain": [
       "[{'INICIALES': 'M.',\n",
       "  'NOMBRE COMPLETO': 'Michael Hess',\n",
       "  'NOMBRES': 'Michael',\n",
       "  'PRIMER APELLIDO': 'Hess',\n",
       "  'SEGUNDO APELLIDO': '',\n",
       "  'full_name': 'HESS MICHAEL'}]"
      ]
     },
     "execution_count": 1104,
     "metadata": {},
     "output_type": "execute_result"
    }
   ],
   "source": [
    "l"
   ]
  },
  {
   "cell_type": "code",
   "execution_count": 893,
   "metadata": {},
   "outputs": [
    {
     "data": {
      "text/plain": [
       "('n.', 100)"
      ]
     },
     "execution_count": 893,
     "metadata": {},
     "output_type": "execute_result"
    }
   ],
   "source": [
    "process.extractOne( 'lia',['n.'],scorer=fuzz.partial_ratio)"
   ]
  },
  {
   "cell_type": "code",
   "execution_count": 904,
   "metadata": {},
   "outputs": [
    {
     "data": {
      "text/plain": [
       "1    libardo antonio\n",
       "Name: WOS_author, dtype: object"
      ]
     },
     "execution_count": 904,
     "metadata": {},
     "output_type": "execute_result"
    }
   ],
   "source": []
  },
  {
   "cell_type": "code",
   "execution_count": 887,
   "metadata": {},
   "outputs": [
    {
     "data": {
      "text/plain": [
       "('n.', 100, 0)"
      ]
     },
     "execution_count": 887,
     "metadata": {},
     "output_type": "execute_result"
    }
   ],
   "source": [
    "process.extractOne( unidecode.unidecode( l[i].get('NOMBRES').lower().split(' ')[0] )\n",
    "                       ,  ll['WOS_author'].str.lower().apply(unidecode.unidecode).str.split(', ').str[-1],scorer=fuzz.partial_ratio )"
   ]
  },
  {
   "cell_type": "code",
   "execution_count": 885,
   "metadata": {},
   "outputs": [
    {
     "data": {
      "text/plain": [
       "0                 n.\n",
       "1    libardo antonio\n",
       "Name: WOS_author, dtype: object"
      ]
     },
     "execution_count": 885,
     "metadata": {},
     "output_type": "execute_result"
    }
   ],
   "source": [
    "ll['WOS_author'].str.lower().apply(unidecode.unidecode).str.split(', ').str[-1]"
   ]
  },
  {
   "cell_type": "code",
   "execution_count": 953,
   "metadata": {},
   "outputs": [
    {
     "data": {
      "text/plain": [
       "13074    [{'NOMBRES': 'Libardo Antonio', 'SEGUNDO APELLIDO': 'Gaviria', 'UDEA_affiliation': ['Univ Antioquia, Colombia.'], 'WOS_author': ['Giraldo G, Libardo Antonio'], 'full_name': 'GIRALDO GAVIRIA LIBARD...\n",
       "dtype: object"
      ]
     },
     "execution_count": 953,
     "metadata": {},
     "output_type": "execute_result"
    }
   ],
   "source": [
    "i=13074\n",
    "UDEA.loc[[i]].apply(missing_wos_authors_in_udea_authors,axis='columns')"
   ]
  },
  {
   "cell_type": "code",
   "execution_count": 274,
   "metadata": {},
   "outputs": [],
   "source": [
    "kk=UDEA.loc[[53]]"
   ]
  },
  {
   "cell_type": "code",
   "execution_count": 277,
   "metadata": {},
   "outputs": [
    {
     "data": {
      "text/plain": [
       "53    4\n",
       "Name: UDEA_authors, dtype: int64"
      ]
     },
     "execution_count": 277,
     "metadata": {},
     "output_type": "execute_result"
    }
   ],
   "source": [
    "kk['UDEA_authors'].apply(len)"
   ]
  },
  {
   "cell_type": "code",
   "execution_count": 278,
   "metadata": {},
   "outputs": [
    {
     "data": {
      "text/plain": [
       "53    2\n",
       "Name: authors_WOS, dtype: int64"
      ]
     },
     "execution_count": 278,
     "metadata": {},
     "output_type": "execute_result"
    }
   ],
   "source": [
    "kk['authors_WOS'].apply(len)"
   ]
  },
  {
   "cell_type": "code",
   "execution_count": 592,
   "metadata": {},
   "outputs": [
    {
     "data": {
      "text/plain": [
       "53"
      ]
     },
     "execution_count": 592,
     "metadata": {},
     "output_type": "execute_result"
    }
   ],
   "source": [
    "fuzz.token_sort_ratio(row['AU'][i], auwos[j] )"
   ]
  },
  {
   "cell_type": "code",
   "execution_count": null,
   "metadata": {},
   "outputs": [],
   "source": []
  },
  {
   "cell_type": "code",
   "execution_count": null,
   "metadata": {},
   "outputs": [],
   "source": [
    "fuzz."
   ]
  },
  {
   "cell_type": "code",
   "execution_count": 549,
   "metadata": {},
   "outputs": [
    {
     "data": {
      "text/plain": [
       "\u001b[0;31mSignature:\u001b[0m \u001b[0mfuzz\u001b[0m\u001b[0;34m.\u001b[0m\u001b[0mtoken_set_ratio\u001b[0m\u001b[0;34m(\u001b[0m\u001b[0ms1\u001b[0m\u001b[0;34m,\u001b[0m \u001b[0ms2\u001b[0m\u001b[0;34m,\u001b[0m \u001b[0mforce_ascii\u001b[0m\u001b[0;34m=\u001b[0m\u001b[0;32mTrue\u001b[0m\u001b[0;34m,\u001b[0m \u001b[0mfull_process\u001b[0m\u001b[0;34m=\u001b[0m\u001b[0;32mTrue\u001b[0m\u001b[0;34m)\u001b[0m\u001b[0;34m\u001b[0m\u001b[0m\n",
       "\u001b[0;31mDocstring:\u001b[0m <no docstring>\n",
       "\u001b[0;31mFile:\u001b[0m      /usr/local/lib/python3.5/dist-packages/fuzzywuzzy/fuzz.py\n",
       "\u001b[0;31mType:\u001b[0m      function\n"
      ]
     },
     "metadata": {},
     "output_type": "display_data"
    }
   ],
   "source": [
    "fuzz.token_set_ratio?"
   ]
  },
  {
   "cell_type": "code",
   "execution_count": null,
   "metadata": {},
   "outputs": [],
   "source": [
    "fuzz add_missing_authors_WOS(row):\n",
    "    if len(row['AU'])>len(row['authors_WOS']):\n",
    "        "
   ]
  },
  {
   "cell_type": "code",
   "execution_count": 433,
   "metadata": {},
   "outputs": [
    {
     "data": {
      "text/plain": [
       "0        False\n",
       "1        False\n",
       "2         True\n",
       "3         True\n",
       "4        False\n",
       "5        False\n",
       "6         True\n",
       "7         True\n",
       "8         True\n",
       "9         True\n",
       "10        True\n",
       "11        True\n",
       "12        True\n",
       "13        True\n",
       "14        True\n",
       "15        True\n",
       "16        True\n",
       "17        True\n",
       "18       False\n",
       "19        True\n",
       "20       False\n",
       "21       False\n",
       "22       False\n",
       "23        True\n",
       "24        True\n",
       "25       False\n",
       "26       False\n",
       "27       False\n",
       "28        True\n",
       "29        True\n",
       "         ...  \n",
       "15614    False\n",
       "15615    False\n",
       "15616    False\n",
       "15617     True\n",
       "15618    False\n",
       "15619    False\n",
       "15620     True\n",
       "15621    False\n",
       "15622    False\n",
       "15623    False\n",
       "15624    False\n",
       "15625     True\n",
       "15626     True\n",
       "15627    False\n",
       "15628    False\n",
       "15629     True\n",
       "15630    False\n",
       "15631    False\n",
       "15632    False\n",
       "15633    False\n",
       "15634    False\n",
       "15635     True\n",
       "15636    False\n",
       "15637    False\n",
       "15638    False\n",
       "15639    False\n",
       "15640    False\n",
       "15641    False\n",
       "15642    False\n",
       "15643    False\n",
       "Length: 15644, dtype: bool"
      ]
     },
     "execution_count": 433,
     "metadata": {},
     "output_type": "execute_result"
    }
   ],
   "source": [
    "UDEA['AU'].str.strip().str.split('\\n').apply(len)==UDEA['authors_WOS'].apply(len)"
   ]
  },
  {
   "cell_type": "code",
   "execution_count": null,
   "metadata": {},
   "outputs": [],
   "source": []
  },
  {
   "cell_type": "code",
   "execution_count": 287,
   "metadata": {},
   "outputs": [],
   "source": [
    "kk=pd.read_json('/home/restrepo/Downloads/WOS_SCI_SCP_PTJ_CTR.json.gz')"
   ]
  },
  {
   "cell_type": "code",
   "execution_count": 288,
   "metadata": {},
   "outputs": [
    {
     "data": {
      "text/html": [
       "<div>\n",
       "<style scoped>\n",
       "    .dataframe tbody tr th:only-of-type {\n",
       "        vertical-align: middle;\n",
       "    }\n",
       "\n",
       "    .dataframe tbody tr th {\n",
       "        vertical-align: top;\n",
       "    }\n",
       "\n",
       "    .dataframe thead th {\n",
       "        text-align: right;\n",
       "    }\n",
       "</style>\n",
       "<table border=\"1\" class=\"dataframe\">\n",
       "  <thead>\n",
       "    <tr style=\"text-align: right;\">\n",
       "      <th></th>\n",
       "      <th>authors_WOS</th>\n",
       "      <th>UDEA_authors</th>\n",
       "    </tr>\n",
       "  </thead>\n",
       "  <tbody>\n",
       "    <tr>\n",
       "      <th>53</th>\n",
       "      <td>[{'i': 0, 'WOS_author': 'Perez Patino, Ana Lucia', 'affiliation': ['Univ Antioquia, Dept Ingn Sistemas, Medellin, Colombia.']}]</td>\n",
       "      <td>[{'NOMBRES': 'Ana Lucia', 'CÉDULA': 43452493.0, 'WOS_author': ['Perez Patino, Ana Lucia', 'Perez, Ana Lucia', 'Perez, Ana L.'], 'full_name': 'PEREZ PATIÑO ANA LUCIA', 'INICIALES': 'A. L.', 'DEPART...</td>\n",
       "    </tr>\n",
       "  </tbody>\n",
       "</table>\n",
       "</div>"
      ],
      "text/plain": [
       "                                                                                                                        authors_WOS  \\\n",
       "53  [{'i': 0, 'WOS_author': 'Perez Patino, Ana Lucia', 'affiliation': ['Univ Antioquia, Dept Ingn Sistemas, Medellin, Colombia.']}]   \n",
       "\n",
       "                                                                                                                                                                                               UDEA_authors  \n",
       "53  [{'NOMBRES': 'Ana Lucia', 'CÉDULA': 43452493.0, 'WOS_author': ['Perez Patino, Ana Lucia', 'Perez, Ana Lucia', 'Perez, Ana L.'], 'full_name': 'PEREZ PATIÑO ANA LUCIA', 'INICIALES': 'A. L.', 'DEPART...  "
      ]
     },
     "execution_count": 288,
     "metadata": {},
     "output_type": "execute_result"
    }
   ],
   "source": [
    "kk.loc[[53]][['authors_WOS','UDEA_authors']]"
   ]
  },
  {
   "cell_type": "code",
   "execution_count": 298,
   "metadata": {},
   "outputs": [],
   "source": [
    "kkk=kk[kk['TI']=='Effect of genetic line and sex on growth in guinea pigs (Cavia porcellus) [Efecto de la línea genética y el sexo sobre el crecimiento en cuyes (Cavia porcellus)]']"
   ]
  },
  {
   "cell_type": "code",
   "execution_count": 305,
   "metadata": {},
   "outputs": [
    {
     "data": {
      "text/plain": [
       "194    2\n",
       "Name: authors_WOS, dtype: int64"
      ]
     },
     "execution_count": 305,
     "metadata": {},
     "output_type": "execute_result"
    }
   ],
   "source": [
    "kkk[['AU','authors_WOS','UDEA_authors']]['authors_WOS'].apply(len)"
   ]
  },
  {
   "cell_type": "code",
   "execution_count": 307,
   "metadata": {},
   "outputs": [
    {
     "data": {
      "text/plain": [
       "194    4\n",
       "Name: UDEA_authors, dtype: int64"
      ]
     },
     "execution_count": 307,
     "metadata": {},
     "output_type": "execute_result"
    }
   ],
   "source": [
    "kkk[['AU','authors_WOS','UDEA_authors']]['UDEA_authors'].apply(len)"
   ]
  },
  {
   "cell_type": "code",
   "execution_count": 299,
   "metadata": {},
   "outputs": [
    {
     "data": {
      "text/html": [
       "<div>\n",
       "<style scoped>\n",
       "    .dataframe tbody tr th:only-of-type {\n",
       "        vertical-align: middle;\n",
       "    }\n",
       "\n",
       "    .dataframe tbody tr th {\n",
       "        vertical-align: top;\n",
       "    }\n",
       "\n",
       "    .dataframe thead th {\n",
       "        text-align: right;\n",
       "    }\n",
       "</style>\n",
       "<table border=\"1\" class=\"dataframe\">\n",
       "  <thead>\n",
       "    <tr style=\"text-align: right;\">\n",
       "      <th></th>\n",
       "      <th>AU</th>\n",
       "      <th>authors_WOS</th>\n",
       "      <th>UDEA_authors</th>\n",
       "    </tr>\n",
       "  </thead>\n",
       "  <tbody>\n",
       "    <tr>\n",
       "      <th>53</th>\n",
       "      <td>Posada, SL\\nSolarte, CE\\nNoguera, RR\\n</td>\n",
       "      <td>[{'i': 0, 'WOS_author': 'Posada, S. L.', 'affiliation': ['Univ Antioquia, Grupo de Investigación en Ciencias Animales - GRICA, Medellín, Colombia']}, {'i': 1, 'WOS_author': 'Noguera, R. R.', 'affi...</td>\n",
       "      <td>[{'NOMBRES': 'Jaime Ricardo', 'CÉDULA': 98395898.0, 'WOS_author': ['Noguera, R. R.', 'Rosero Noguera, Ricardo', 'Noguera, Ricardo'], 'full_name': 'ROSERO NOGUERA JAIME RICARDO', 'INICIALES': 'J. R...</td>\n",
       "    </tr>\n",
       "  </tbody>\n",
       "</table>\n",
       "</div>"
      ],
      "text/plain": [
       "                                        AU  \\\n",
       "53  Posada, SL\\nSolarte, CE\\nNoguera, RR\\n   \n",
       "\n",
       "                                                                                                                                                                                                authors_WOS  \\\n",
       "53  [{'i': 0, 'WOS_author': 'Posada, S. L.', 'affiliation': ['Univ Antioquia, Grupo de Investigación en Ciencias Animales - GRICA, Medellín, Colombia']}, {'i': 1, 'WOS_author': 'Noguera, R. R.', 'affi...   \n",
       "\n",
       "                                                                                                                                                                                               UDEA_authors  \n",
       "53  [{'NOMBRES': 'Jaime Ricardo', 'CÉDULA': 98395898.0, 'WOS_author': ['Noguera, R. R.', 'Rosero Noguera, Ricardo', 'Noguera, Ricardo'], 'full_name': 'ROSERO NOGUERA JAIME RICARDO', 'INICIALES': 'J. R...  "
      ]
     },
     "execution_count": 299,
     "metadata": {},
     "output_type": "execute_result"
    }
   ],
   "source": [
    "UDEA[UDEA['UDEA_authors'].apply(lambda l: [d for d in l if not d.get('WOS_author')]).apply(len)>0][['AU','authors_WOS','UDEA_authors']].loc[[53]]#.to_dict()"
   ]
  },
  {
   "cell_type": "markdown",
   "metadata": {},
   "source": [
    "Parte principal:\n",
    "Adicione la información faltanta a `autores`"
   ]
  },
  {
   "cell_type": "code",
   "execution_count": 56,
   "metadata": {},
   "outputs": [],
   "source": [
    "import itertools\n",
    "def add_and_check_wos_authors(row,autores='autores',nombre='nombreAutor'):\n",
    "    DEBUG=True\n",
    "    wos_list =[ d.get('WOS_author')  for d in row.get('authors_WOS')]\n",
    "    wos_aff  =[ d.get('affiliation') for d in row.get('authors_WOS')]\n",
    "\n",
    "    udea_list=[ d.get('WOS_author') for d in row.get('UDEA_authors')]\n",
    "    #Quality check: UdeA author in WOS_author\n",
    "    if DEBUG: print(udea_list)\n",
    "    for i in range(len(udea_list)):\n",
    "    #for uli in udea_list:\n",
    "        #print(uli)\n",
    "        l=[]\n",
    "        try:\n",
    "            for ul in udea_list[i]:\n",
    "                ur=process.extractOne(ul, wos_list,\n",
    "                                     scorer=fuzz.ratio)\n",
    "                if DEBUG: print(ul,ur)\n",
    "                l.append(ur[1])\n",
    "            urmax=max(l)\n",
    "            #row.get('UDEA_authors').pop(i)\n",
    "            #row.get('autores').pop(i)\n",
    "            row.get('UDEA_authors')[i]['Q']=urmax\n",
    "                #If failed remove\n",
    "        except:\n",
    "            print(row['DI'])\n",
    "            pass\n",
    "        if DEBUG: print('+++'*20)\n",
    "\n",
    "    if DEBUG: print('='*80)\n",
    "    try:\n",
    "        udea_list = list(itertools.chain.from_iterable(udea_list))\n",
    "    except TypeError:\n",
    "        udea_list=[]\n",
    "\n",
    "    #Complete missing authors\n",
    "    for i in range( len(wos_list) ): \n",
    "        r=process.extractOne(wos_list[i], udea_list,\n",
    "                                 scorer=fuzz.ratio)\n",
    "            #if r and r[1]==100 → WOS_author is UDEA_author\n",
    "        try:\n",
    "            if r[1]<100:\n",
    "                dd={}\n",
    "                dd[nombre]=' '.join( wos_list[i].split(', ')[::-1] )\n",
    "                dd['afiliacionWOS']=wos_aff[i][0]                \n",
    "                    #Else → Add to authors column\n",
    "                row[autores].append(dd)\n",
    "                if DEBUG: print(wos_list[i],r)\n",
    "        except:\n",
    "            print('Failed',wos_list[i])\n",
    "    pass"
   ]
  },
  {
   "cell_type": "code",
   "execution_count": 57,
   "metadata": {},
   "outputs": [
    {
     "name": "stdout",
     "output_type": "stream",
     "text": [
      "[None, None]\n",
      "10.1590/s0102-311x2008000400004\n",
      "++++++++++++++++++++++++++++++++++++++++++++++++++++++++++++\n",
      "10.1590/s0102-311x2008000400004\n",
      "++++++++++++++++++++++++++++++++++++++++++++++++++++++++++++\n",
      "================================================================================\n",
      "Failed Grisales F, Lina María\n",
      "Failed Giraldo G, Libardo Antonio\n"
     ]
    },
    {
     "data": {
      "text/plain": [
       "10003    None\n",
       "dtype: object"
      ]
     },
     "execution_count": 57,
     "metadata": {},
     "output_type": "execute_result"
    }
   ],
   "source": [
    "i=10003\n",
    "udea.loc[[i]].apply(add_and_check_wos_authors, axis='columns')"
   ]
  },
  {
   "cell_type": "code",
   "execution_count": 165,
   "metadata": {},
   "outputs": [
    {
     "data": {
      "text/html": [
       "<div>\n",
       "<style scoped>\n",
       "    .dataframe tbody tr th:only-of-type {\n",
       "        vertical-align: middle;\n",
       "    }\n",
       "\n",
       "    .dataframe tbody tr th {\n",
       "        vertical-align: top;\n",
       "    }\n",
       "\n",
       "    .dataframe thead th {\n",
       "        text-align: right;\n",
       "    }\n",
       "</style>\n",
       "<table border=\"1\" class=\"dataframe\">\n",
       "  <thead>\n",
       "    <tr style=\"text-align: right;\">\n",
       "      <th></th>\n",
       "      <th>authors_WOS</th>\n",
       "      <th>autores</th>\n",
       "    </tr>\n",
       "  </thead>\n",
       "  <tbody>\n",
       "    <tr>\n",
       "      <th>13074</th>\n",
       "      <td>[{'i': 0, 'WOS_author': 'Grisales F, Lina María', 'affiliation': ['Univ Antioquia, Colombia.']}, {'i': 1, 'WOS_author': 'Giraldo G, Libardo Antonio', 'affiliation': ['Univ Antioquia, Colombia.']}]</td>\n",
       "      <td>[{'Identificación': 43746089, 'Tipo': 'Profesor vinculado', 'Nombres': 'Lina Maria Grisales Franco'}, {'Identificación': 43746089, 'Tipo': 'Profesor vinculado', 'Nombres': 'Lina Maria Grisales Fra...</td>\n",
       "    </tr>\n",
       "  </tbody>\n",
       "</table>\n",
       "</div>"
      ],
      "text/plain": [
       "                                                                                                                                                                                                authors_WOS  \\\n",
       "13074  [{'i': 0, 'WOS_author': 'Grisales F, Lina María', 'affiliation': ['Univ Antioquia, Colombia.']}, {'i': 1, 'WOS_author': 'Giraldo G, Libardo Antonio', 'affiliation': ['Univ Antioquia, Colombia.']}]   \n",
       "\n",
       "                                                                                                                                                                                                       autores  \n",
       "13074  [{'Identificación': 43746089, 'Tipo': 'Profesor vinculado', 'Nombres': 'Lina Maria Grisales Franco'}, {'Identificación': 43746089, 'Tipo': 'Profesor vinculado', 'Nombres': 'Lina Maria Grisales Fra...  "
      ]
     },
     "execution_count": 165,
     "metadata": {},
     "output_type": "execute_result"
    }
   ],
   "source": [
    "udea[udea['DI']=='10.1590/s0102-311x2008000400004'][['authors_WOS',autores]]"
   ]
  },
  {
   "cell_type": "code",
   "execution_count": 55,
   "metadata": {},
   "outputs": [],
   "source": [
    "#udea.apply(add_and_check_wos_authors, axis='columns')"
   ]
  },
  {
   "cell_type": "code",
   "execution_count": 166,
   "metadata": {},
   "outputs": [
    {
     "data": {
      "text/plain": [
       "[{'Identificación': 43746089,\n",
       "  'Nombres': 'Lina Maria Grisales Franco',\n",
       "  'Tipo': 'Profesor vinculado'},\n",
       " {'Identificación': 43746089,\n",
       "  'Nombres': 'Lina Maria Grisales Franco',\n",
       "  'Tipo': 'Profesor vinculado'}]"
      ]
     },
     "execution_count": 166,
     "metadata": {},
     "output_type": "execute_result"
    }
   ],
   "source": [
    "i=13074\n",
    "udea[autores].loc[i]"
   ]
  },
  {
   "cell_type": "code",
   "execution_count": 167,
   "metadata": {},
   "outputs": [
    {
     "data": {
      "text/plain": [
       "[{'WOS_author': 'Grisales F, Lina María',\n",
       "  'affiliation': ['Univ Antioquia, Colombia.'],\n",
       "  'i': 0},\n",
       " {'WOS_author': 'Giraldo G, Libardo Antonio',\n",
       "  'affiliation': ['Univ Antioquia, Colombia.'],\n",
       "  'i': 1}]"
      ]
     },
     "execution_count": 167,
     "metadata": {},
     "output_type": "execute_result"
    }
   ],
   "source": [
    "udea['authors_WOS'].loc[i]"
   ]
  },
  {
   "cell_type": "code",
   "execution_count": 168,
   "metadata": {},
   "outputs": [
    {
     "data": {
      "text/plain": [
       "[{'INICIALES': 'L. A.',\n",
       "  'NOMBRE COMPLETO': 'Libardo Antonio Giraldo Gaviria',\n",
       "  'NOMBRES': 'Libardo Antonio',\n",
       "  'PRIMER APELLIDO': 'Giraldo',\n",
       "  'SEGUNDO APELLIDO': 'Gaviria',\n",
       "  'full_name': 'GIRALDO GAVIRIA LIBARDO ANTONIO'},\n",
       " {'CÉDULA': 43746089,\n",
       "  'INICIALES': 'L. M.',\n",
       "  'NOMBRE COMPLETO': 'Lina Maria Grisales Franco',\n",
       "  'NOMBRES': 'Lina Maria',\n",
       "  'PRIMER APELLIDO': 'Grisales',\n",
       "  'SEGUNDO APELLIDO': 'Franco',\n",
       "  'full_name': 'GRISALES FRANCO LINA MARIA'}]"
      ]
     },
     "execution_count": 168,
     "metadata": {},
     "output_type": "execute_result"
    }
   ],
   "source": [
    "udea['UDEA_authors'].loc[i]"
   ]
  },
  {
   "cell_type": "code",
   "execution_count": 64,
   "metadata": {},
   "outputs": [
    {
     "data": {
      "text/html": [
       "<div>\n",
       "<style scoped>\n",
       "    .dataframe tbody tr th:only-of-type {\n",
       "        vertical-align: middle;\n",
       "    }\n",
       "\n",
       "    .dataframe tbody tr th {\n",
       "        vertical-align: top;\n",
       "    }\n",
       "\n",
       "    .dataframe thead th {\n",
       "        text-align: right;\n",
       "    }\n",
       "</style>\n",
       "<table border=\"1\" class=\"dataframe\">\n",
       "  <thead>\n",
       "    <tr style=\"text-align: right;\">\n",
       "      <th></th>\n",
       "      <th>UDEA_autores</th>\n",
       "      <th>UDEA_cedula</th>\n",
       "    </tr>\n",
       "  </thead>\n",
       "  <tbody>\n",
       "    <tr>\n",
       "      <th>10003</th>\n",
       "      <td>GIRALDO GAVIRIA LIBARDO ANTONIO;GRISALES FRANCO LINA MARIA</td>\n",
       "      <td>0</td>\n",
       "    </tr>\n",
       "    <tr>\n",
       "      <th>1198</th>\n",
       "      <td>GIRALDO GAVIRIA LIBARDO ANTONIO;GRISALES FRANCO LINA MARIA</td>\n",
       "      <td>0</td>\n",
       "    </tr>\n",
       "  </tbody>\n",
       "</table>\n",
       "</div>"
      ],
      "text/plain": [
       "                                                     UDEA_autores  UDEA_cedula\n",
       "10003  GIRALDO GAVIRIA LIBARDO ANTONIO;GRISALES FRANCO LINA MARIA            0\n",
       "1198   GIRALDO GAVIRIA LIBARDO ANTONIO;GRISALES FRANCO LINA MARIA            0"
      ]
     },
     "execution_count": 64,
     "metadata": {},
     "output_type": "execute_result"
    }
   ],
   "source": [
    "UDEA[UDEA['UDEA_autores'].str.lower().str.contains('giraldo gaviria')][['UDEA_autores','UDEA_cedula']]"
   ]
  },
  {
   "cell_type": "code",
   "execution_count": 128,
   "metadata": {},
   "outputs": [],
   "source": []
  },
  {
   "cell_type": "markdown",
   "metadata": {},
   "source": [
    "## TODO:\n",
    "* Normalize cedula en UDEA → UDEA_authors desde AU y AU_PTJ\n",
    "* Normalize authors_WOS en UDEA_authors\n",
    "* Use Clasificación Colciencias de columnas `UDEA_`"
   ]
  },
  {
   "cell_type": "code",
   "execution_count": 148,
   "metadata": {},
   "outputs": [
    {
     "data": {
      "text/plain": [
       "[{'WOS_author': 'Correa, Lorena E.',\n",
       "  'affiliation': ['Univ Antioquia, Grp Corros & Protecc CIDEMAT, Medellin, Colombia.'],\n",
       "  'i': 0},\n",
       " {'WOS_author': 'Gomez, Maryory',\n",
       "  'affiliation': ['Univ Antioquia, Grp Corros & Protecc CIDEMAT, Medellin, Colombia.'],\n",
       "  'i': 1},\n",
       " {'WOS_author': 'Echeverria, Felix',\n",
       "  'affiliation': ['Univ Antioquia, Grp Corros & Protecc CIDEMAT, Medellin, Colombia.'],\n",
       "  'i': 2},\n",
       " {'WOS_author': 'Castano, Juan G.',\n",
       "  'affiliation': ['Univ Antioquia, Grp Corros & Protecc CIDEMAT, Medellin, Colombia.'],\n",
       "  'i': 3},\n",
       " {'WOS_author': 'Velilla, Esteban',\n",
       "  'affiliation': ['Univ Antioquia, Grp Invest Manejo Eficiente Energia Elect, Medellin, Colombia.'],\n",
       "  'i': 4}]"
      ]
     },
     "execution_count": 148,
     "metadata": {},
     "output_type": "execute_result"
    }
   ],
   "source": [
    "UDEA.loc[5,'authors_WOS']"
   ]
  },
  {
   "cell_type": "code",
   "execution_count": 150,
   "metadata": {},
   "outputs": [
    {
     "data": {
      "text/plain": [
       "[{'CÉDULA': 18927154.0,\n",
       "  'DEPARTAMENTO': 'Departamento de Ingeniería Eléctrica',\n",
       "  'FACULTAD': 'Facultad de Ingeniería',\n",
       "  'GRUPO': 'Grupo de Investigación en Materiales y Sistemas Energéticos TESLA',\n",
       "  'INICIALES': 'E.',\n",
       "  'NOMBRE COMPLETO': 'Edwin Garcia Quintero',\n",
       "  'NOMBRES': 'Edwin',\n",
       "  'PRIMER APELLIDO': 'Garcia',\n",
       "  'SEGUNDO APELLIDO': 'Quintero',\n",
       "  'WOS_affiliation': ['Univ Antioquia, Dept Ingn Elect, Medellin, Colombia.',\n",
       "   'Univ Antioquia, Colombia.',\n",
       "   'Department of Electrical Engineering, Univ Antioquia, Colombia'],\n",
       "  'WOS_author': ['Garcia Quintero, Edwin',\n",
       "   'Garcia-Quintero, E.',\n",
       "   'Garcia-Quintero, Edwin',\n",
       "   'Garcia, Edwin'],\n",
       "  'full_name': 'GARCIA QUINTERO EDWIN'}]"
      ]
     },
     "execution_count": 150,
     "metadata": {},
     "output_type": "execute_result"
    }
   ],
   "source": [
    "UDEA['UDEA_authors'].loc[0]"
   ]
  },
  {
   "cell_type": "code",
   "execution_count": 259,
   "metadata": {},
   "outputs": [
    {
     "data": {
      "text/plain": [
       "(12270,)"
      ]
     },
     "execution_count": 259,
     "metadata": {},
     "output_type": "execute_result"
    }
   ],
   "source": [
    "UDEA['UDEA_authors'].shape"
   ]
  },
  {
   "cell_type": "code",
   "execution_count": 189,
   "metadata": {},
   "outputs": [
    {
     "data": {
      "text/html": [
       "<div>\n",
       "<style scoped>\n",
       "    .dataframe tbody tr th:only-of-type {\n",
       "        vertical-align: middle;\n",
       "    }\n",
       "\n",
       "    .dataframe tbody tr th {\n",
       "        vertical-align: top;\n",
       "    }\n",
       "\n",
       "    .dataframe thead th {\n",
       "        text-align: right;\n",
       "    }\n",
       "</style>\n",
       "<table border=\"1\" class=\"dataframe\">\n",
       "  <thead>\n",
       "    <tr style=\"text-align: right;\">\n",
       "      <th></th>\n",
       "      <th>cedula</th>\n",
       "      <th>nombre</th>\n",
       "    </tr>\n",
       "  </thead>\n",
       "  <tbody>\n",
       "    <tr>\n",
       "      <th>1587</th>\n",
       "      <td>70518213</td>\n",
       "      <td>HOYOS FRANCO MARCO ANTONIO</td>\n",
       "    </tr>\n",
       "  </tbody>\n",
       "</table>\n",
       "</div>"
      ],
      "text/plain": [
       "        cedula                      nombre\n",
       "1587  70518213  HOYOS FRANCO MARCO ANTONIO"
      ]
     },
     "execution_count": 189,
     "metadata": {},
     "output_type": "execute_result"
    }
   ],
   "source": [
    "df=AU_PTJ.copy()\n",
    "d={'full_name':'HOYOS FRANCO MARCO ANTONIO'}\n"
   ]
  },
  {
   "cell_type": "code",
   "execution_count": 217,
   "metadata": {},
   "outputs": [
    {
     "data": {
      "text/plain": [
       "70518213"
      ]
     },
     "execution_count": 217,
     "metadata": {},
     "output_type": "execute_result"
    }
   ],
   "source": [
    "AU_PTJ[AU_PTJ['nombre'].str.lower().str.contains('hoyos franco marco antonio')\n",
    "      ].reset_index(drop=True).loc[\n",
    "                    0,'cedula']"
   ]
  },
  {
   "cell_type": "code",
   "execution_count": null,
   "metadata": {},
   "outputs": [],
   "source": []
  },
  {
   "cell_type": "markdown",
   "metadata": {},
   "source": [
    "UDEA.loc[[10003]].apply( add_authors_WOS_to_UDEA  )"
   ]
  },
  {
   "cell_type": "code",
   "execution_count": 96,
   "metadata": {},
   "outputs": [
    {
     "data": {
      "text/html": [
       "<div>\n",
       "<style scoped>\n",
       "    .dataframe tbody tr th:only-of-type {\n",
       "        vertical-align: middle;\n",
       "    }\n",
       "\n",
       "    .dataframe tbody tr th {\n",
       "        vertical-align: top;\n",
       "    }\n",
       "\n",
       "    .dataframe thead th {\n",
       "        text-align: right;\n",
       "    }\n",
       "</style>\n",
       "<table border=\"1\" class=\"dataframe\">\n",
       "  <thead>\n",
       "    <tr style=\"text-align: right;\">\n",
       "      <th></th>\n",
       "      <th>cedula</th>\n",
       "      <th>nombre</th>\n",
       "    </tr>\n",
       "  </thead>\n",
       "  <tbody>\n",
       "  </tbody>\n",
       "</table>\n",
       "</div>"
      ],
      "text/plain": [
       "Empty DataFrame\n",
       "Columns: [cedula, nombre]\n",
       "Index: []"
      ]
     },
     "execution_count": 96,
     "metadata": {},
     "output_type": "execute_result"
    }
   ],
   "source": [
    "pp[pp['nombre']=='HOYOS']"
   ]
  },
  {
   "cell_type": "code",
   "execution_count": 106,
   "metadata": {},
   "outputs": [
    {
     "data": {
      "text/html": [
       "<div>\n",
       "<style scoped>\n",
       "    .dataframe tbody tr th:only-of-type {\n",
       "        vertical-align: middle;\n",
       "    }\n",
       "\n",
       "    .dataframe tbody tr th {\n",
       "        vertical-align: top;\n",
       "    }\n",
       "\n",
       "    .dataframe thead th {\n",
       "        text-align: right;\n",
       "    }\n",
       "</style>\n",
       "<table border=\"1\" class=\"dataframe\">\n",
       "  <thead>\n",
       "    <tr style=\"text-align: right;\">\n",
       "      <th></th>\n",
       "      <th>CÉDULA</th>\n",
       "      <th>DEPARTAMENTO</th>\n",
       "      <th>FACULTAD</th>\n",
       "      <th>GRUPO</th>\n",
       "      <th>NOMBRE COMPLETO</th>\n",
       "      <th>NOMBRES</th>\n",
       "      <th>PRIMER APELLIDO</th>\n",
       "      <th>SEGUNDO APELLIDO</th>\n",
       "    </tr>\n",
       "  </thead>\n",
       "  <tbody>\n",
       "  </tbody>\n",
       "</table>\n",
       "</div>"
      ],
      "text/plain": [
       "Empty DataFrame\n",
       "Columns: [CÉDULA, DEPARTAMENTO, FACULTAD, GRUPO, NOMBRE COMPLETO, NOMBRES, PRIMER APELLIDO, SEGUNDO APELLIDO]\n",
       "Index: []"
      ]
     },
     "execution_count": 106,
     "metadata": {},
     "output_type": "execute_result"
    }
   ],
   "source": [
    "AU[AU['NOMBRE COMPLETO'].str.lower()=='hoyos']"
   ]
  },
  {
   "cell_type": "code",
   "execution_count": 107,
   "metadata": {},
   "outputs": [
    {
     "data": {
      "text/plain": [
       "Index(['año realiz', 'doi', 'fecha aplicación', 'idioma', 'item adic',\n",
       "       'material', 'nombre', 'nombre revista o premio', 'nro autores', 'país',\n",
       "       'procodigo', 'ptos', 'título', 'valor item'],\n",
       "      dtype='object')"
      ]
     },
     "execution_count": 107,
     "metadata": {},
     "output_type": "execute_result"
    }
   ],
   "source": [
    "ppp.columns"
   ]
  },
  {
   "cell_type": "code",
   "execution_count": 109,
   "metadata": {},
   "outputs": [
    {
     "data": {
      "text/html": [
       "<div>\n",
       "<style scoped>\n",
       "    .dataframe tbody tr th:only-of-type {\n",
       "        vertical-align: middle;\n",
       "    }\n",
       "\n",
       "    .dataframe tbody tr th {\n",
       "        vertical-align: top;\n",
       "    }\n",
       "\n",
       "    .dataframe thead th {\n",
       "        text-align: right;\n",
       "    }\n",
       "</style>\n",
       "<table border=\"1\" class=\"dataframe\">\n",
       "  <thead>\n",
       "    <tr style=\"text-align: right;\">\n",
       "      <th></th>\n",
       "      <th>año realiz</th>\n",
       "      <th>doi</th>\n",
       "      <th>fecha aplicación</th>\n",
       "      <th>idioma</th>\n",
       "      <th>item adic</th>\n",
       "      <th>material</th>\n",
       "      <th>nombre</th>\n",
       "      <th>nombre revista o premio</th>\n",
       "      <th>nro autores</th>\n",
       "      <th>país</th>\n",
       "      <th>procodigo</th>\n",
       "      <th>ptos</th>\n",
       "      <th>título</th>\n",
       "      <th>valor item</th>\n",
       "    </tr>\n",
       "  </thead>\n",
       "  <tbody>\n",
       "  </tbody>\n",
       "</table>\n",
       "</div>"
      ],
      "text/plain": [
       "Empty DataFrame\n",
       "Columns: [año realiz, doi, fecha aplicación, idioma, item adic, material, nombre, nombre revista o premio, nro autores, país, procodigo, ptos, título, valor item]\n",
       "Index: []"
      ]
     },
     "execution_count": 109,
     "metadata": {},
     "output_type": "execute_result"
    }
   ],
   "source": [
    "ppp[ppp['nombre']=='HOYOS']"
   ]
  },
  {
   "cell_type": "code",
   "execution_count": 157,
   "metadata": {},
   "outputs": [
    {
     "data": {
      "text/plain": [
       "True"
      ]
     },
     "execution_count": 157,
     "metadata": {},
     "output_type": "execute_result"
    }
   ],
   "source": [
    "au=AU[AU['CÉDULA']==int(618927154.0)].reset_index(drop=True)\n",
    "au.empty"
   ]
  },
  {
   "cell_type": "code",
   "execution_count": 159,
   "metadata": {},
   "outputs": [
    {
     "data": {
      "text/plain": [
       "False"
      ]
     },
     "execution_count": 159,
     "metadata": {},
     "output_type": "execute_result"
    }
   ],
   "source": [
    "udea_au[list(new_format.columns)]"
   ]
  },
  {
   "cell_type": "code",
   "execution_count": 149,
   "metadata": {},
   "outputs": [
    {
     "data": {
      "text/plain": [
       "{'annio': 2008,\n",
       " 'autores': [{'Identificación': 32508663,\n",
       "   'Nombres': 'Del Consuelo Montes Ramirez',\n",
       "   'Tipo': 'Profesor vinculado'}],\n",
       " 'clasificacionColciencias': None,\n",
       " 'doi': '',\n",
       " 'idioma': 'Spanish',\n",
       " 'issn': '0120-5609',\n",
       " 'nombreRevista': 'INGENIERIA E INVESTIGACION',\n",
       " 'numero': '3',\n",
       " 'paginas': '41-46',\n",
       " 'proyectoAsociado': None,\n",
       " 'semestre': None,\n",
       " 'tipoRevista': 'Revista Internacional Indexada',\n",
       " 'tituloArticulo': 'Cement plant gaseous pollutant emission reduction technologies',\n",
       " 'volumen': '28'}"
      ]
     },
     "execution_count": 149,
     "metadata": {},
     "output_type": "execute_result"
    }
   ],
   "source": [
    "audea.loc[1].to_dict()"
   ]
  },
  {
   "cell_type": "code",
   "execution_count": null,
   "metadata": {},
   "outputs": [],
   "source": []
  },
  {
   "cell_type": "code",
   "execution_count": 69,
   "metadata": {},
   "outputs": [],
   "source": [
    "exl = [{'id': 123, 'data': 'qwerty', 'indices': [1,10]}, {'id': 345, 'data': 'mnbvc', 'indices': [2,11]}]"
   ]
  },
  {
   "cell_type": "code",
   "execution_count": 70,
   "metadata": {},
   "outputs": [],
   "source": [
    "with open(\"kk.json\", \"w\") as outfile: \n",
    "    json.dump(exl, outfile)"
   ]
  },
  {
   "cell_type": "code",
   "execution_count": 75,
   "metadata": {},
   "outputs": [],
   "source": [
    "ex.to_json('kk.json',orient='records')"
   ]
  },
  {
   "cell_type": "code",
   "execution_count": 76,
   "metadata": {},
   "outputs": [
    {
     "name": "stdout",
     "output_type": "stream",
     "text": [
      "[{\"annio\":2019,\"autores\":[{\"nombreAutor\":\"Jonathan Aguilar Bedoya\",\"programaAcademico\":[\"60178-MAESTR\\u00cdA EN INGENIER\\u00cdA MEC\\u00c1NICA-INVESTIGACI\\u00d3N\"],\"identificacionAutor\":null,\"grupoInvestigacion\":[\"Grupo de Energ\\u00eda Alternativa\"],\"tipoAutor\":\"Estudiante de posgrado\"},{\"nombreAutor\":\"Ainhoa Rubio Celemente\",\"institucion\":\"Tecnol\\u00f3gico de Antioquia. Instituci\\u00f3n Universitaria\",\"pais\":\"Colombia\",\"grupoInvestigacion\":[\"Grupo de Energ\\u00eda Alternativa\"],\"tipoAutor\":\"Autor externo\"},{\"nombreAutor\":\"Laura Isable Velasquez Garcia\",\"programaAcademico\":[\"516-INGENIER\\u00cdA MEC\\u00c1NICA\"],\"grupoInvestigacion\":[\"Grupo de Energ\\u00eda Alternativa\"],\"tipoAutor\":\"Profesor ocasional\"},{\"nombreAutor\":\"Edwin Lenin Chica Arrieta\",\"programaAcademico\":[\"516-INGENIER\\u00cdA MEC\\u00c1NICA\"],\"identificacionAutor\":\"78761560\",\"grupoInvestigacion\":[\"Grupo de Energ\\u00eda Alternativa\"],\"tipoAutor\":\"Profesor vinculado\"}],\"clasificacionColciencias\":\"A1\",\"doi\":\"10.3390\\/en12244679\",\"idioma\":\"Ingl\\u00e9s\",\"issn\":\"1996-1073\",\"nombreRevista\":\"Energies\",\"numero\":24,\"paginas\":\"1-18\",\"proyectoAsociado\":null,\"semestre\":\"2019-2\",\"tipoRevista\":\"Revista Internacional Indexada\",\"tituloArticulo\":\"Design and Optimization of a Multi-Element Hydrofoil for a Horizontal-Axis Hydrokinetic Turbine\",\"volumen\":12}]"
     ]
    }
   ],
   "source": [
    "cat kk.json"
   ]
  },
  {
   "cell_type": "code",
   "execution_count": 77,
   "metadata": {},
   "outputs": [
    {
     "data": {
      "text/html": [
       "<div>\n",
       "<style scoped>\n",
       "    .dataframe tbody tr th:only-of-type {\n",
       "        vertical-align: middle;\n",
       "    }\n",
       "\n",
       "    .dataframe tbody tr th {\n",
       "        vertical-align: top;\n",
       "    }\n",
       "\n",
       "    .dataframe thead th {\n",
       "        text-align: right;\n",
       "    }\n",
       "</style>\n",
       "<table border=\"1\" class=\"dataframe\">\n",
       "  <thead>\n",
       "    <tr style=\"text-align: right;\">\n",
       "      <th></th>\n",
       "      <th>annio</th>\n",
       "      <th>autores</th>\n",
       "      <th>clasificacionColciencias</th>\n",
       "      <th>doi</th>\n",
       "      <th>idioma</th>\n",
       "      <th>issn</th>\n",
       "      <th>nombreRevista</th>\n",
       "      <th>numero</th>\n",
       "      <th>paginas</th>\n",
       "      <th>proyectoAsociado</th>\n",
       "      <th>semestre</th>\n",
       "      <th>tipoRevista</th>\n",
       "      <th>tituloArticulo</th>\n",
       "      <th>volumen</th>\n",
       "    </tr>\n",
       "  </thead>\n",
       "  <tbody>\n",
       "    <tr>\n",
       "      <th>0</th>\n",
       "      <td>2019</td>\n",
       "      <td>[{'nombreAutor': 'Jonathan Aguilar Bedoya', 'programaAcademico': ['60178-MAESTRÍA EN INGENIERÍA MECÁNICA-INVESTIGACIÓN'], 'tipoAutor': 'Estudiante de posgrado', 'identificacionAutor': None, 'grupo...</td>\n",
       "      <td>A1</td>\n",
       "      <td>10.3390/en12244679</td>\n",
       "      <td>Inglés</td>\n",
       "      <td>1996-1073</td>\n",
       "      <td>Energies</td>\n",
       "      <td>24</td>\n",
       "      <td>1-18</td>\n",
       "      <td>NaN</td>\n",
       "      <td>2019-2</td>\n",
       "      <td>Revista Internacional Indexada</td>\n",
       "      <td>Design and Optimization of a Multi-Element Hydrofoil for a Horizontal-Axis Hydrokinetic Turbine</td>\n",
       "      <td>12</td>\n",
       "    </tr>\n",
       "  </tbody>\n",
       "</table>\n",
       "</div>"
      ],
      "text/plain": [
       "   annio  \\\n",
       "0   2019   \n",
       "\n",
       "                                                                                                                                                                                                   autores  \\\n",
       "0  [{'nombreAutor': 'Jonathan Aguilar Bedoya', 'programaAcademico': ['60178-MAESTRÍA EN INGENIERÍA MECÁNICA-INVESTIGACIÓN'], 'tipoAutor': 'Estudiante de posgrado', 'identificacionAutor': None, 'grupo...   \n",
       "\n",
       "  clasificacionColciencias                 doi  idioma       issn  \\\n",
       "0                       A1  10.3390/en12244679  Inglés  1996-1073   \n",
       "\n",
       "  nombreRevista  numero paginas  proyectoAsociado semestre  \\\n",
       "0      Energies      24    1-18               NaN   2019-2   \n",
       "\n",
       "                      tipoRevista  \\\n",
       "0  Revista Internacional Indexada   \n",
       "\n",
       "                                                                                    tituloArticulo  \\\n",
       "0  Design and Optimization of a Multi-Element Hydrofoil for a Horizontal-Axis Hydrokinetic Turbine   \n",
       "\n",
       "   volumen  \n",
       "0       12  "
      ]
     },
     "execution_count": 77,
     "metadata": {},
     "output_type": "execute_result"
    }
   ],
   "source": [
    "pd.read_json('kk.json')"
   ]
  },
  {
   "cell_type": "code",
   "execution_count": 78,
   "metadata": {},
   "outputs": [],
   "source": [
    "with open(r\"kk.json\", \"r\") as read_file:\n",
    "    data = json.load(read_file)"
   ]
  },
  {
   "cell_type": "code",
   "execution_count": 79,
   "metadata": {},
   "outputs": [
    {
     "data": {
      "text/plain": [
       "[{'annio': 2019,\n",
       "  'autores': [{'grupoInvestigacion': ['Grupo de Energía Alternativa'],\n",
       "    'identificacionAutor': None,\n",
       "    'nombreAutor': 'Jonathan Aguilar Bedoya',\n",
       "    'programaAcademico': ['60178-MAESTRÍA EN INGENIERÍA MECÁNICA-INVESTIGACIÓN'],\n",
       "    'tipoAutor': 'Estudiante de posgrado'},\n",
       "   {'grupoInvestigacion': ['Grupo de Energía Alternativa'],\n",
       "    'institucion': 'Tecnológico de Antioquia. Institución Universitaria',\n",
       "    'nombreAutor': 'Ainhoa Rubio Celemente',\n",
       "    'pais': 'Colombia',\n",
       "    'tipoAutor': 'Autor externo'},\n",
       "   {'grupoInvestigacion': ['Grupo de Energía Alternativa'],\n",
       "    'nombreAutor': 'Laura Isable Velasquez Garcia',\n",
       "    'programaAcademico': ['516-INGENIERÍA MECÁNICA'],\n",
       "    'tipoAutor': 'Profesor ocasional'},\n",
       "   {'grupoInvestigacion': ['Grupo de Energía Alternativa'],\n",
       "    'identificacionAutor': '78761560',\n",
       "    'nombreAutor': 'Edwin Lenin Chica Arrieta',\n",
       "    'programaAcademico': ['516-INGENIERÍA MECÁNICA'],\n",
       "    'tipoAutor': 'Profesor vinculado'}],\n",
       "  'clasificacionColciencias': 'A1',\n",
       "  'doi': '10.3390/en12244679',\n",
       "  'idioma': 'Inglés',\n",
       "  'issn': '1996-1073',\n",
       "  'nombreRevista': 'Energies',\n",
       "  'numero': 24,\n",
       "  'paginas': '1-18',\n",
       "  'proyectoAsociado': None,\n",
       "  'semestre': '2019-2',\n",
       "  'tipoRevista': 'Revista Internacional Indexada',\n",
       "  'tituloArticulo': 'Design and Optimization of a Multi-Element Hydrofoil for a Horizontal-Axis Hydrokinetic Turbine',\n",
       "  'volumen': 12}]"
      ]
     },
     "execution_count": 79,
     "metadata": {},
     "output_type": "execute_result"
    }
   ],
   "source": [
    "data"
   ]
  },
  {
   "cell_type": "code",
   "execution_count": 80,
   "metadata": {},
   "outputs": [],
   "source": [
    "with open(\"kkk.json\", \"w\") as outfile: \n",
    "    json.dump(data, outfile) "
   ]
  },
  {
   "cell_type": "code",
   "execution_count": 81,
   "metadata": {},
   "outputs": [
    {
     "name": "stdout",
     "output_type": "stream",
     "text": [
      "[{\"doi\": \"10.3390/en12244679\", \"tipoRevista\": \"Revista Internacional Indexada\", \"numero\": 24, \"semestre\": \"2019-2\", \"annio\": 2019, \"idioma\": \"Ingl\\u00e9s\", \"nombreRevista\": \"Energies\", \"issn\": \"1996-1073\", \"paginas\": \"1-18\", \"proyectoAsociado\": null, \"volumen\": 12, \"autores\": [{\"nombreAutor\": \"Jonathan Aguilar Bedoya\", \"programaAcademico\": [\"60178-MAESTR\\u00cdA EN INGENIER\\u00cdA MEC\\u00c1NICA-INVESTIGACI\\u00d3N\"], \"tipoAutor\": \"Estudiante de posgrado\", \"identificacionAutor\": null, \"grupoInvestigacion\": [\"Grupo de Energ\\u00eda Alternativa\"]}, {\"nombreAutor\": \"Ainhoa Rubio Celemente\", \"pais\": \"Colombia\", \"tipoAutor\": \"Autor externo\", \"grupoInvestigacion\": [\"Grupo de Energ\\u00eda Alternativa\"], \"institucion\": \"Tecnol\\u00f3gico de Antioquia. Instituci\\u00f3n Universitaria\"}, {\"nombreAutor\": \"Laura Isable Velasquez Garcia\", \"programaAcademico\": [\"516-INGENIER\\u00cdA MEC\\u00c1NICA\"], \"grupoInvestigacion\": [\"Grupo de Energ\\u00eda Alternativa\"], \"tipoAutor\": \"Profesor ocasional\"}, {\"nombreAutor\": \"Edwin Lenin Chica Arrieta\", \"programaAcademico\": [\"516-INGENIER\\u00cdA MEC\\u00c1NICA\"], \"tipoAutor\": \"Profesor vinculado\", \"identificacionAutor\": \"78761560\", \"grupoInvestigacion\": [\"Grupo de Energ\\u00eda Alternativa\"]}], \"tituloArticulo\": \"Design and Optimization of a Multi-Element Hydrofoil for a Horizontal-Axis Hydrokinetic Turbine\", \"clasificacionColciencias\": \"A1\"}]"
     ]
    }
   ],
   "source": [
    "cat kkk.json"
   ]
  },
  {
   "cell_type": "code",
   "execution_count": null,
   "metadata": {},
   "outputs": [],
   "source": []
  }
 ],
 "metadata": {
  "colab": {
   "include_colab_link": true,
   "name": "merge.ipynb",
   "provenance": [],
   "version": "0.3.2"
  },
  "kernelspec": {
   "display_name": "Python 3",
   "language": "python",
   "name": "python3"
  },
  "language_info": {
   "codemirror_mode": {
    "name": "ipython",
    "version": 3
   },
   "file_extension": ".py",
   "mimetype": "text/x-python",
   "name": "python",
   "nbconvert_exporter": "python",
   "pygments_lexer": "ipython3",
   "version": "3.5.3"
  },
  "latex_envs": {
   "LaTeX_envs_menu_present": true,
   "autoclose": false,
   "autocomplete": true,
   "bibliofile": "biblio.bib",
   "cite_by": "apalike",
   "current_citInitial": 1,
   "eqLabelWithNumbers": true,
   "eqNumInitial": 1,
   "hotkeys": {
    "equation": "Ctrl-E",
    "itemize": "Ctrl-I"
   },
   "labels_anchors": false,
   "latex_user_defs": false,
   "report_style_numbering": false,
   "user_envs_cfg": false
  }
 },
 "nbformat": 4,
 "nbformat_minor": 4
}
