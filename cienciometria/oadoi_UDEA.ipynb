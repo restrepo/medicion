{
 "cells": [
  {
   "cell_type": "markdown",
   "metadata": {
    "colab_type": "text",
    "id": "view-in-github"
   },
   "source": [
    "<a href=\"https://colab.research.google.com/github/restrepo/medicion/blob/master/cienciometria/oadoi_UDEA.ipynb\" target=\"_parent\"><img src=\"https://colab.research.google.com/assets/colab-badge.svg\" alt=\"Open In Colab\"/></a>"
   ]
  },
  {
   "cell_type": "code",
   "execution_count": 0,
   "metadata": {
    "colab": {},
    "colab_type": "code",
    "id": "sEcn6of1kML8"
   },
   "outputs": [],
   "source": [
    "! pip install wosplus openpyxl >/dev/null"
   ]
  },
  {
   "cell_type": "code",
   "execution_count": 0,
   "metadata": {
    "colab": {
     "base_uri": "https://localhost:8080/",
     "height": 34
    },
    "colab_type": "code",
    "id": "eW01cRpbknZ5",
    "outputId": "1f30c60b-4191-4af1-dc90-cea4cee48680"
   },
   "outputs": [
    {
     "name": "stdout",
     "output_type": "stream",
     "text": [
      "Writing drive.cfg\n"
     ]
    }
   ],
   "source": [
    "%%writefile drive.cfg\n",
    "[FILES]\n",
    "DOIS.xlsx               = 1bikNT7Gmp4G7dfeMuGsF-az7D8lskK0O\n",
    "UDEA_WOS_SCI_SCP.xlsx   = 1o9otmklgh-0w18Avv2ZTKOXr3vZbjwvj\n",
    "oaudea.xlsx             = 1CcwobiEFACIbffNzNdLxpdxQukr8cZ5x\n",
    "datos1.csv              = 11CyLRZZwVbgw6YAC-igRJ3mrkIwk0aaiXnd-EOofYTI\n",
    "oadoi_udea.json         = 1s508qokcIkz-i1Y4Ukbdht-jWuSVngON"
   ]
  },
  {
   "cell_type": "code",
   "execution_count": 0,
   "metadata": {
    "colab": {},
    "colab_type": "code",
    "id": "7gp4D54HkwzZ"
   },
   "outputs": [],
   "source": [
    "import wosplus as wp\n",
    "files=wp.wosplus('drive.cfg')"
   ]
  },
  {
   "cell_type": "code",
   "execution_count": 0,
   "metadata": {
    "colab": {},
    "colab_type": "code",
    "id": "DeP5nZ9Mk24C"
   },
   "outputs": [],
   "source": [
    "import pandas as pd"
   ]
  },
  {
   "cell_type": "code",
   "execution_count": 0,
   "metadata": {
    "colab": {},
    "colab_type": "code",
    "id": "DEPRR5GTkzZ7"
   },
   "outputs": [],
   "source": [
    "df=files.read_drive_json('oadoi_udea.json')"
   ]
  },
  {
   "cell_type": "code",
   "execution_count": 0,
   "metadata": {
    "colab": {},
    "colab_type": "code",
    "id": "o3y8j56qk1oT"
   },
   "outputs": [],
   "source": [
    "dfin=df[df.best_oa_location.isnull()].reset_index(drop=True)\n",
    "dfinn=df[~df.best_oa_location.isnull()].reset_index(drop=True)\n",
    "dfinn['url_for_pdf']=dfinn.best_oa_location.apply(lambda x: x.get('url_for_pdf'))\n",
    "dfin['url_for_pdf']=None\n",
    "dff=dfinn.append(dfin).reset_index(drop=True)"
   ]
  },
  {
   "cell_type": "code",
   "execution_count": 0,
   "metadata": {
    "colab": {},
    "colab_type": "code",
    "id": "EEsqQ5iv8Jx2"
   },
   "outputs": [],
   "source": [
    "dff=dff.fillna('')"
   ]
  },
  {
   "cell_type": "code",
   "execution_count": 0,
   "metadata": {
    "colab": {},
    "colab_type": "code",
    "id": "w3acBhGuwyeB"
   },
   "outputs": [],
   "source": [
    "pdfs=dff[dff['url_for_pdf']!=''] # dejar solo los pdfs\n",
    "pdfs=pdfs[pdfs['z_authors']!=''] # dejar solo los pdfs con authors"
   ]
  },
  {
   "cell_type": "code",
   "execution_count": 0,
   "metadata": {
    "colab": {
     "base_uri": "https://localhost:8080/",
     "height": 34
    },
    "colab_type": "code",
    "id": "Y6P05_uV5aAE",
    "outputId": "fe43946e-321b-4a8f-c7dc-da33736e9a37"
   },
   "outputs": [
    {
     "data": {
      "text/plain": [
       "(2651, 18)"
      ]
     },
     "execution_count": 155,
     "metadata": {
      "tags": []
     },
     "output_type": "execute_result"
    }
   ],
   "source": [
    "pdfs.shape"
   ]
  },
  {
   "cell_type": "code",
   "execution_count": 0,
   "metadata": {
    "colab": {},
    "colab_type": "code",
    "id": "1QwxoR7X400N"
   },
   "outputs": [],
   "source": [
    "pdfs.to_json('oadoi.json')"
   ]
  },
  {
   "cell_type": "code",
   "execution_count": 0,
   "metadata": {
    "colab": {},
    "colab_type": "code",
    "id": "Q1ZWJZ1hxzEe"
   },
   "outputs": [],
   "source": [
    "pdfs.to_json('oadoi.jsonl',orient='records',lines=True)"
   ]
  },
  {
   "cell_type": "code",
   "execution_count": 0,
   "metadata": {
    "colab": {},
    "colab_type": "code",
    "id": "vJowCvm11ZPs"
   },
   "outputs": [],
   "source": [
    "pdfs=pdfs.reset_index(drop=True)"
   ]
  },
  {
   "cell_type": "code",
   "execution_count": 0,
   "metadata": {
    "colab": {},
    "colab_type": "code",
    "id": "qyZk5wB55vHz"
   },
   "outputs": [],
   "source": [
    "pdfs['autor_1']=pdfs.z_authors.str[0].apply(lambda x: x.get('family') )+', '+pdfs.z_authors.str[0].apply(lambda x: x.get('given') )"
   ]
  },
  {
   "cell_type": "code",
   "execution_count": 0,
   "metadata": {
    "colab": {},
    "colab_type": "code",
    "id": "JIEcTzX17UCh"
   },
   "outputs": [],
   "source": [
    "def isd(x):\n",
    "  if type(x)==str:\n",
    "    return eval(x)\n",
    "  else:\n",
    "    return x"
   ]
  },
  {
   "cell_type": "code",
   "execution_count": 0,
   "metadata": {
    "colab": {},
    "colab_type": "code",
    "id": "B5tXobIa6Zkg"
   },
   "outputs": [],
   "source": [
    "pdfs['autor_2']=pdfs.z_authors.str[1].fillna('{}').apply(isd).apply(lambda x: x.get('family') )+', '+pdfs.z_authors.str[1].fillna('{}').apply(isd).apply(lambda x: x.get('family') )"
   ]
  },
  {
   "cell_type": "code",
   "execution_count": 0,
   "metadata": {
    "colab": {
     "base_uri": "https://localhost:8080/",
     "height": 102
    },
    "colab_type": "code",
    "id": "rUiK5E413N5q",
    "outputId": "702c4389-9c90-4c72-f8ff-f1916b1c07ce"
   },
   "outputs": [
    {
     "data": {
      "text/plain": [
       "Index(['best_oa_location', 'data_standard', 'doi', 'doi_url', 'genre', 'is_oa',\n",
       "       'journal_is_in_doaj', 'journal_is_oa', 'journal_issns', 'journal_name',\n",
       "       'oa_locations', 'published_date', 'publisher', 'title', 'updated',\n",
       "       'year', 'z_authors', 'url_for_pdf', 'autor_1', 'autor_2'],\n",
       "      dtype='object')"
      ]
     },
     "execution_count": 148,
     "metadata": {
      "tags": []
     },
     "output_type": "execute_result"
    }
   ],
   "source": [
    "pdfs.columns"
   ]
  },
  {
   "cell_type": "code",
   "execution_count": 0,
   "metadata": {
    "colab": {},
    "colab_type": "code",
    "id": "m9kbejGy0VMY"
   },
   "outputs": [],
   "source": [
    "pdfs[['doi','title','autor_1', 'autor_2', 'url_for_pdf']].to_excel('investigacion.xlsx',index=False)"
   ]
  },
  {
   "cell_type": "code",
   "execution_count": 0,
   "metadata": {
    "colab": {},
    "colab_type": "code",
    "id": "j29aYk_w4K8y"
   },
   "outputs": [],
   "source": []
  }
 ],
 "metadata": {
  "colab": {
   "include_colab_link": true,
   "name": "oadoi_UDEA",
   "provenance": [],
   "version": "0.3.2"
  },
  "kernelspec": {
   "display_name": "Python 3",
   "language": "python",
   "name": "python3"
  },
  "language_info": {
   "codemirror_mode": {
    "name": "ipython",
    "version": 3
   },
   "file_extension": ".py",
   "mimetype": "text/x-python",
   "name": "python",
   "nbconvert_exporter": "python",
   "pygments_lexer": "ipython3",
   "version": "3.5.3"
  }
 },
 "nbformat": 4,
 "nbformat_minor": 1
}
