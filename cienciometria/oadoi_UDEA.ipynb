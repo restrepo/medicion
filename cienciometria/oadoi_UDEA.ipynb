{
  "nbformat": 4,
  "nbformat_minor": 0,
  "metadata": {
    "colab": {
      "name": "Untitled",
      "version": "0.3.2",
      "provenance": []
    },
    "kernelspec": {
      "name": "python3",
      "display_name": "Python 3"
    }
  },
  "cells": [
    {
      "metadata": {
        "id": "sEcn6of1kML8",
        "colab_type": "code",
        "colab": {}
      },
      "cell_type": "code",
      "source": [
        "! pip install wosplus openpyxl >/dev/null"
      ],
      "execution_count": 0,
      "outputs": []
    },
    {
      "metadata": {
        "id": "eW01cRpbknZ5",
        "colab_type": "code",
        "colab": {
          "base_uri": "https://localhost:8080/",
          "height": 34
        },
        "outputId": "afee0c53-382e-489c-b842-e52ae1002821"
      },
      "cell_type": "code",
      "source": [
        "%%writefile drive.cfg\n",
        "[FILES]\n",
        "DOIS.xlsx               = 1bikNT7Gmp4G7dfeMuGsF-az7D8lskK0O\n",
        "UDEA_WOS_SCI_SCP.xlsx   = 1o9otmklgh-0w18Avv2ZTKOXr3vZbjwvj\n",
        "oaudea.xlsx             = 1CcwobiEFACIbffNzNdLxpdxQukr8cZ5x\n",
        "datos1.csv              = 11CyLRZZwVbgw6YAC-igRJ3mrkIwk0aaiXnd-EOofYTI\n",
        "oadoi_udea.json         = 1s508qokcIkz-i1Y4Ukbdht-jWuSVngON"
      ],
      "execution_count": 3,
      "outputs": [
        {
          "output_type": "stream",
          "text": [
            "Writing drive.cfg\n"
          ],
          "name": "stdout"
        }
      ]
    },
    {
      "metadata": {
        "id": "7gp4D54HkwzZ",
        "colab_type": "code",
        "colab": {}
      },
      "cell_type": "code",
      "source": [
        "import wosplus as wp\n",
        "files=wp.wosplus('drive.cfg')"
      ],
      "execution_count": 0,
      "outputs": []
    },
    {
      "metadata": {
        "id": "DeP5nZ9Mk24C",
        "colab_type": "code",
        "colab": {}
      },
      "cell_type": "code",
      "source": [
        "import pandas as pd"
      ],
      "execution_count": 0,
      "outputs": []
    },
    {
      "metadata": {
        "id": "DEPRR5GTkzZ7",
        "colab_type": "code",
        "colab": {}
      },
      "cell_type": "code",
      "source": [
        "df=files.read_drive_json('oadoi_udea.json')"
      ],
      "execution_count": 0,
      "outputs": []
    },
    {
      "metadata": {
        "id": "o3y8j56qk1oT",
        "colab_type": "code",
        "colab": {}
      },
      "cell_type": "code",
      "source": [
        "dfin=df[df.best_oa_location.isnull()].reset_index(drop=True)\n",
        "dfinn=df[~df.best_oa_location.isnull()].reset_index(drop=True)\n",
        "dfinn['url_for_pdf']=dfinn.best_oa_location.apply(lambda x: x.get('url_for_pdf'))\n",
        "dfin['url_for_pdf']=None\n",
        "dff=dfinn.append(dfin).reset_index(drop=True)"
      ],
      "execution_count": 0,
      "outputs": []
    },
    {
      "metadata": {
        "id": "rq5eOgy-lZOw",
        "colab_type": "code",
        "colab": {
          "base_uri": "https://localhost:8080/",
          "height": 236
        },
        "outputId": "c4f8f11d-55cc-4da9-c24b-431624f1e970"
      },
      "cell_type": "code",
      "source": [
        "dff[:2]"
      ],
      "execution_count": 11,
      "outputs": [
        {
          "output_type": "execute_result",
          "data": {
            "text/html": [
              "<div>\n",
              "<style scoped>\n",
              "    .dataframe tbody tr th:only-of-type {\n",
              "        vertical-align: middle;\n",
              "    }\n",
              "\n",
              "    .dataframe tbody tr th {\n",
              "        vertical-align: top;\n",
              "    }\n",
              "\n",
              "    .dataframe thead th {\n",
              "        text-align: right;\n",
              "    }\n",
              "</style>\n",
              "<table border=\"1\" class=\"dataframe\">\n",
              "  <thead>\n",
              "    <tr style=\"text-align: right;\">\n",
              "      <th></th>\n",
              "      <th>best_oa_location</th>\n",
              "      <th>data_standard</th>\n",
              "      <th>doi</th>\n",
              "      <th>doi_url</th>\n",
              "      <th>genre</th>\n",
              "      <th>is_oa</th>\n",
              "      <th>journal_is_in_doaj</th>\n",
              "      <th>journal_is_oa</th>\n",
              "      <th>journal_issns</th>\n",
              "      <th>journal_name</th>\n",
              "      <th>oa_locations</th>\n",
              "      <th>published_date</th>\n",
              "      <th>publisher</th>\n",
              "      <th>title</th>\n",
              "      <th>updated</th>\n",
              "      <th>year</th>\n",
              "      <th>z_authors</th>\n",
              "      <th>url_for_pdf</th>\n",
              "    </tr>\n",
              "  </thead>\n",
              "  <tbody>\n",
              "    <tr>\n",
              "      <th>0</th>\n",
              "      <td>{'pmh_id': None, 'updated': '2017-09-02T17:22:...</td>\n",
              "      <td>2</td>\n",
              "      <td>10.1001/archinte.166.1.95</td>\n",
              "      <td>https://doi.org/10.1001/archinte.166.1.95</td>\n",
              "      <td>journal-article</td>\n",
              "      <td>True</td>\n",
              "      <td>False</td>\n",
              "      <td>False</td>\n",
              "      <td>0003-9926</td>\n",
              "      <td>Archives of Internal Medicine</td>\n",
              "      <td>[{'pmh_id': None, 'updated': '2017-09-02T17:22...</td>\n",
              "      <td>2006-01-09</td>\n",
              "      <td>American Medical Association (AMA)</td>\n",
              "      <td>Etiologic Diagnosis of Chronic Osteomyelitis</td>\n",
              "      <td>2018-06-15T03:19:43.547479</td>\n",
              "      <td>2006.0</td>\n",
              "      <td>[{'given': 'Andres F.', 'family': 'Zuluaga'}]</td>\n",
              "      <td>http://archinte.jamanetwork.com/data/journals/...</td>\n",
              "    </tr>\n",
              "    <tr>\n",
              "      <th>1</th>\n",
              "      <td>{'pmh_id': None, 'updated': '2017-09-27T16:19:...</td>\n",
              "      <td>2</td>\n",
              "      <td>10.1001/archneur.55.6.857</td>\n",
              "      <td>https://doi.org/10.1001/archneur.55.6.857</td>\n",
              "      <td>journal-article</td>\n",
              "      <td>True</td>\n",
              "      <td>False</td>\n",
              "      <td>False</td>\n",
              "      <td>0003-9942</td>\n",
              "      <td>Archives of Neurology</td>\n",
              "      <td>[{'pmh_id': None, 'updated': '2017-09-27T16:19...</td>\n",
              "      <td>1998-06-01</td>\n",
              "      <td>American Medical Association (AMA)</td>\n",
              "      <td>Patients With Epilepsy Who Die Suddenly Have C...</td>\n",
              "      <td>2018-06-19T02:56:53.795724</td>\n",
              "      <td>1998.0</td>\n",
              "      <td>[{'given': 'Benjamin H.', 'family': 'Natelson'...</td>\n",
              "      <td>http://archneur.jamanetwork.com/data/journals/...</td>\n",
              "    </tr>\n",
              "  </tbody>\n",
              "</table>\n",
              "</div>"
            ],
            "text/plain": [
              "                                    best_oa_location  data_standard  \\\n",
              "0  {'pmh_id': None, 'updated': '2017-09-02T17:22:...              2   \n",
              "1  {'pmh_id': None, 'updated': '2017-09-27T16:19:...              2   \n",
              "\n",
              "                         doi                                    doi_url  \\\n",
              "0  10.1001/archinte.166.1.95  https://doi.org/10.1001/archinte.166.1.95   \n",
              "1  10.1001/archneur.55.6.857  https://doi.org/10.1001/archneur.55.6.857   \n",
              "\n",
              "             genre  is_oa  journal_is_in_doaj  journal_is_oa journal_issns  \\\n",
              "0  journal-article   True               False          False     0003-9926   \n",
              "1  journal-article   True               False          False     0003-9942   \n",
              "\n",
              "                    journal_name  \\\n",
              "0  Archives of Internal Medicine   \n",
              "1          Archives of Neurology   \n",
              "\n",
              "                                        oa_locations published_date  \\\n",
              "0  [{'pmh_id': None, 'updated': '2017-09-02T17:22...     2006-01-09   \n",
              "1  [{'pmh_id': None, 'updated': '2017-09-27T16:19...     1998-06-01   \n",
              "\n",
              "                            publisher  \\\n",
              "0  American Medical Association (AMA)   \n",
              "1  American Medical Association (AMA)   \n",
              "\n",
              "                                               title  \\\n",
              "0       Etiologic Diagnosis of Chronic Osteomyelitis   \n",
              "1  Patients With Epilepsy Who Die Suddenly Have C...   \n",
              "\n",
              "                      updated    year  \\\n",
              "0  2018-06-15T03:19:43.547479  2006.0   \n",
              "1  2018-06-19T02:56:53.795724  1998.0   \n",
              "\n",
              "                                           z_authors  \\\n",
              "0      [{'given': 'Andres F.', 'family': 'Zuluaga'}]   \n",
              "1  [{'given': 'Benjamin H.', 'family': 'Natelson'...   \n",
              "\n",
              "                                         url_for_pdf  \n",
              "0  http://archinte.jamanetwork.com/data/journals/...  \n",
              "1  http://archneur.jamanetwork.com/data/journals/...  "
            ]
          },
          "metadata": {
            "tags": []
          },
          "execution_count": 11
        }
      ]
    },
    {
      "metadata": {
        "id": "TdejPmzblaxW",
        "colab_type": "code",
        "colab": {}
      },
      "cell_type": "code",
      "source": [
        ""
      ],
      "execution_count": 0,
      "outputs": []
    }
  ]
}