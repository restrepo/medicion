{
 "cells": [
  {
   "cell_type": "markdown",
   "metadata": {},
   "source": [
    "# Scopus.\n",
    "See webinar: https://www.brighttalk.com/webcast/13703/355208"
   ]
  },
  {
   "cell_type": "code",
   "execution_count": 39,
   "metadata": {},
   "outputs": [],
   "source": [
    "import requests\n",
    "import json\n",
    "import pandas as pd\n",
    "import getpass"
   ]
  },
  {
   "cell_type": "markdown",
   "metadata": {},
   "source": [
    "Go to https://dev.elsevier.com/ → Get API key (Check Api Key in local api file)"
   ]
  },
  {
   "cell_type": "code",
   "execution_count": 40,
   "metadata": {},
   "outputs": [
    {
     "name": "stdout",
     "output_type": "stream",
     "text": [
      "API KEY········\n"
     ]
    }
   ],
   "source": [
    "apikey=getpass.getpass('API KEY')"
   ]
  },
  {
   "cell_type": "markdown",
   "metadata": {},
   "source": [
    "From [Interactive APIs](https://dev.elsevier.com/interactive.html):"
   ]
  },
  {
   "cell_type": "code",
   "execution_count": 41,
   "metadata": {},
   "outputs": [
    {
     "name": "stdout",
     "output_type": "stream",
     "text": [
      "https://api.elsevier.com/content/search/author?query=authlast(Einstein)%20and%20authfirst(Albert)%20and%20affil(Princeton)&apiKey=········\n"
     ]
    }
   ],
   "source": [
    "authorlast='Einstein'; authorfirst='Albert'; affil='Princeton'\n",
    "search_base='https://api.elsevier.com/content/search/'\n",
    "query='author?query=authlast({})%20and%20authfirst({})%20and%20affil({})'.format(\n",
    "                            authorlast,       authorfirst,           affil  )\n",
    "auth_part='&apiKey={}'.format(apikey)\n",
    "url=search_base+query+auth_part\n",
    "print(url.split('apiKey=')[0]+'apiKey=········')"
   ]
  },
  {
   "cell_type": "code",
   "execution_count": 42,
   "metadata": {},
   "outputs": [],
   "source": [
    "r=requests.get(url,headers={'Accept': 'application/json'})"
   ]
  },
  {
   "cell_type": "code",
   "execution_count": 43,
   "metadata": {},
   "outputs": [],
   "source": [
    "df=pd.DataFrame(json.loads(r.text)).fillna('').reset_index(drop=True)"
   ]
  },
  {
   "cell_type": "code",
   "execution_count": 44,
   "metadata": {
    "scrolled": true
   },
   "outputs": [
    {
     "data": {
      "text/html": [
       "<div>\n",
       "<style scoped>\n",
       "    .dataframe tbody tr th:only-of-type {\n",
       "        vertical-align: middle;\n",
       "    }\n",
       "\n",
       "    .dataframe tbody tr th {\n",
       "        vertical-align: top;\n",
       "    }\n",
       "\n",
       "    .dataframe thead th {\n",
       "        text-align: right;\n",
       "    }\n",
       "</style>\n",
       "<table border=\"1\" class=\"dataframe\">\n",
       "  <thead>\n",
       "    <tr style=\"text-align: right;\">\n",
       "      <th></th>\n",
       "      <th>@_fa</th>\n",
       "      <th>affiliation-current</th>\n",
       "      <th>dc:identifier</th>\n",
       "      <th>document-count</th>\n",
       "      <th>eid</th>\n",
       "      <th>link</th>\n",
       "      <th>name-variant</th>\n",
       "      <th>preferred-name</th>\n",
       "      <th>prism:url</th>\n",
       "      <th>subject-area</th>\n",
       "    </tr>\n",
       "  </thead>\n",
       "  <tbody>\n",
       "    <tr>\n",
       "      <th>0</th>\n",
       "      <td>true</td>\n",
       "      <td>{'affiliation-url': 'https://api.elsevier.com/...</td>\n",
       "      <td>AUTHOR_ID:22988279600</td>\n",
       "      <td>102</td>\n",
       "      <td>9-s2.0-22988279600</td>\n",
       "      <td>[{'@_fa': 'true', '@href': 'https://api.elsevi...</td>\n",
       "      <td>[{'@_fa': 'true', 'initials': 'A.', 'given-nam...</td>\n",
       "      <td>{'initials': 'A.', 'given-name': 'Albert', 'su...</td>\n",
       "      <td>https://api.elsevier.com/content/author/author...</td>\n",
       "      <td>[{'$': 'Physics and Astronomy (all)', '@abbrev...</td>\n",
       "    </tr>\n",
       "  </tbody>\n",
       "</table>\n",
       "</div>"
      ],
      "text/plain": [
       "   @_fa                                affiliation-current  \\\n",
       "0  true  {'affiliation-url': 'https://api.elsevier.com/...   \n",
       "\n",
       "           dc:identifier document-count                 eid  \\\n",
       "0  AUTHOR_ID:22988279600            102  9-s2.0-22988279600   \n",
       "\n",
       "                                                link  \\\n",
       "0  [{'@_fa': 'true', '@href': 'https://api.elsevi...   \n",
       "\n",
       "                                        name-variant  \\\n",
       "0  [{'@_fa': 'true', 'initials': 'A.', 'given-nam...   \n",
       "\n",
       "                                      preferred-name  \\\n",
       "0  {'initials': 'A.', 'given-name': 'Albert', 'su...   \n",
       "\n",
       "                                           prism:url  \\\n",
       "0  https://api.elsevier.com/content/author/author...   \n",
       "\n",
       "                                        subject-area  \n",
       "0  [{'$': 'Physics and Astronomy (all)', '@abbrev...  "
      ]
     },
     "execution_count": 44,
     "metadata": {},
     "output_type": "execute_result"
    }
   ],
   "source": [
    "df=pd.DataFrame( df['search-results'].loc[0] )\n",
    "df"
   ]
  },
  {
   "cell_type": "code",
   "execution_count": null,
   "metadata": {},
   "outputs": [],
   "source": []
  }
 ],
 "metadata": {
  "kernelspec": {
   "display_name": "Python 3",
   "language": "python",
   "name": "python3"
  },
  "language_info": {
   "codemirror_mode": {
    "name": "ipython",
    "version": 3
   },
   "file_extension": ".py",
   "mimetype": "text/x-python",
   "name": "python",
   "nbconvert_exporter": "python",
   "pygments_lexer": "ipython3",
   "version": "3.5.3"
  }
 },
 "nbformat": 4,
 "nbformat_minor": 2
}
