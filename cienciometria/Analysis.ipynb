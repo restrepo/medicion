{
  "nbformat": 4,
  "nbformat_minor": 0,
  "metadata": {
    "colab": {
      "name": "merge.ipynb",
      "version": "0.3.2",
      "provenance": [],
      "include_colab_link": true
    },
    "kernelspec": {
      "display_name": "Python 3",
      "language": "python",
      "name": "python3"
    }
  },
  "cells": [
    {
      "cell_type": "markdown",
      "metadata": {
        "id": "view-in-github",
        "colab_type": "text"
      },
      "source": [
        "[View in Colaboratory](https://colab.research.google.com/github/restrepo/medicion/blob/master/cienciometria/Analysis.ipynb)"
      ]
    },
    {
      "metadata": {
        "id": "aDnqho-CsEwj",
        "colab_type": "text"
      },
      "cell_type": "markdown",
      "source": [
        "# WOSPlus\n",
        "Manage Web of Science txt files and merge with other bibliographic datasets."
      ]
    },
    {
      "metadata": {
        "id": "9Hnin1fosRB_",
        "colab_type": "code",
        "colab": {}
      },
      "cell_type": "code",
      "source": [
        "!pip install wosplus openpyxl xlrd > /dev/null"
      ],
      "execution_count": 0,
      "outputs": []
    },
    {
      "metadata": {
        "id": "nhk2ZGEDd2Yo",
        "colab_type": "code",
        "colab": {}
      },
      "cell_type": "code",
      "source": [
        "import wosplus as wp\n",
        "import pandas as pd"
      ],
      "execution_count": 0,
      "outputs": []
    },
    {
      "metadata": {
        "id": "_-CcCxZJ7ZY6",
        "colab_type": "text"
      },
      "cell_type": "markdown",
      "source": [
        "# Load Data Bases"
      ]
    },
    {
      "metadata": {
        "id": "yHL3g4pdsExG",
        "colab_type": "text"
      },
      "cell_type": "markdown",
      "source": [
        "##  Load full Google Drive, including your Team drives:"
      ]
    },
    {
      "metadata": {
        "id": "QGclNSZnLTZD",
        "colab_type": "code",
        "colab": {
          "base_uri": "https://localhost:8080/",
          "height": 125
        },
        "outputId": "8ea7c7fe-da46-4051-ab0a-f4c35dde8c07"
      },
      "cell_type": "code",
      "source": [
        "# Load the Drive helper and mount\n",
        "from google.colab import drive\n",
        "\n",
        "# This will prompt for authorization.\n",
        "drive.mount('/content/drive')"
      ],
      "execution_count": 0,
      "outputs": [
        {
          "output_type": "stream",
          "text": [
            "Go to this URL in a browser: https://accounts.google.com/o/oauth2/auth?client_id=947318989803-6bn6qk8qdgf4n4g3pfee6491hc0brc4i.apps.googleusercontent.com&redirect_uri=urn%3Aietf%3Awg%3Aoauth%3A2.0%3Aoob&scope=email%20https%3A%2F%2Fwww.googleapis.com%2Fauth%2Fdocs.test%20https%3A%2F%2Fwww.googleapis.com%2Fauth%2Fdrive%20https%3A%2F%2Fwww.googleapis.com%2Fauth%2Fdrive.photos.readonly%20https%3A%2F%2Fwww.googleapis.com%2Fauth%2Fpeopleapi.readonly&response_type=code\n",
            "\n",
            "Enter your authorization code:\n",
            "··········\n",
            "Mounted at /content/drive\n"
          ],
          "name": "stdout"
        }
      ]
    },
    {
      "metadata": {
        "id": "J__yrydJOrsJ",
        "colab_type": "text"
      },
      "cell_type": "markdown",
      "source": [
        "Access you Google Drive files from the sidebar in the tab \"Files → REFRESH\""
      ]
    },
    {
      "metadata": {
        "id": "8SUNt-E6J7jp",
        "colab_type": "text"
      },
      "cell_type": "markdown",
      "source": [
        "\n",
        "##  Build WOS database"
      ]
    },
    {
      "metadata": {
        "id": "vUmVX5u1KrFy",
        "colab_type": "text"
      },
      "cell_type": "markdown",
      "source": [
        "### (Re)Build WOS data base from txt WOS files (500 records each)"
      ]
    },
    {
      "metadata": {
        "id": "p-EnptX6K4Xc",
        "colab_type": "code",
        "colab": {}
      },
      "cell_type": "code",
      "source": [
        "REBUILD_WOS_TXT=False"
      ],
      "execution_count": 0,
      "outputs": []
    },
    {
      "metadata": {
        "id": "tEHS1wEtMazN",
        "colab_type": "code",
        "colab": {}
      },
      "cell_type": "code",
      "source": [
        "if REBUILD_WOS_TXT:\n",
        "    home='drive/Team Drives/Medición Capacidades Vinculación UDEA/06. Cienciometría/1. Descargas/1. Web of Science/1. UDEA/'\n",
        "    filetxt=[\"{}savedrecs.txt\".format(home),\n",
        "             \"{}savedrecs (1).txt\".format(home),\n",
        "             \"{}savedrecs (2).txt\".format(home),\n",
        "             \"{}savedrecs (3).txt\".format(home),\n",
        "             \"{}savedrecs (4).txt\".format(home),\n",
        "             \"{}savedrecs (5).txt\".format(home),\n",
        "             \"{}savedrecs (6).txt\".format(home),\n",
        "             \"{}savedrecs (7).txt\".format(home),\n",
        "             \"{}savedrecs (8).txt\".format(home),\n",
        "             \"{}savedrecs (9).txt\".format(home),\n",
        "             \"{}savedrecs (10).txt\".format(home),\n",
        "             \"{}savedrecs (11).txt\".format(home),\n",
        "             \"{}savedrecs (12).txt\".format(home),\n",
        "             \"{}savedrecs (13).txt\".format(home),\n",
        "             \"{}savedrecs (14).txt\".format(home),\n",
        "             \"{}savedrecs (15).txt\".format(home),\n",
        "             \"{}savedrecs (16).txt\".format(home),\n",
        "             \"{}savedrecs (17).txt\".format(home)\n",
        "            ]"
      ],
      "execution_count": 0,
      "outputs": []
    },
    {
      "metadata": {
        "id": "jfElDQYeEy3B",
        "colab_type": "code",
        "colab": {
          "base_uri": "https://localhost:8080/",
          "height": 34
        },
        "outputId": "62067cd2-009d-4140-fbac-d9cbe61c9e47"
      },
      "cell_type": "code",
      "source": [
        "if REBUILD_WOS_TXT:\n",
        "    print(filetxt[12])"
      ],
      "execution_count": 0,
      "outputs": [
        {
          "output_type": "stream",
          "text": [
            "drive/Team Drives/Medición Capacidades Vinculación UDEA/06. Cienciometría/1. Descargas/1. Web of Science/1. UDEA/savedrecs (12).txt\n"
          ],
          "name": "stdout"
        }
      ]
    },
    {
      "metadata": {
        "id": "0wLCuoDRLgRL",
        "colab_type": "text"
      },
      "cell_type": "markdown",
      "source": [
        "### Build WOS database"
      ]
    },
    {
      "metadata": {
        "id": "LPdk-tBwMrVS",
        "colab_type": "code",
        "colab": {}
      },
      "cell_type": "code",
      "source": [
        "if REBUILD_WOS_TXT:\n",
        "    UDEA_WOS=pd.DataFrame()\n",
        "    for f in filetxt: \n",
        "        WOS.load_biblio(f)\n",
        "        UDEA_WOS=UDEA_WOS.append(WOS.WOS)\n",
        "        \n",
        "    UDEA_WOS.to_excel('UDEA_WOS.xlsx',index=False)\n",
        "    #some checks\n",
        "    print( UDEA_WOS.shape )\n",
        "    print(UDEA_WOS[UDEA_WOS.AU.str.contains('Restrepo, D')].shape)"
      ],
      "execution_count": 0,
      "outputs": []
    },
    {
      "metadata": {
        "id": "Dyk5EyeaOI-I",
        "colab_type": "text"
      },
      "cell_type": "markdown",
      "source": [
        "## (Re)Build Scielo (from WOS) data base from txt SCI files (500 records each)"
      ]
    },
    {
      "metadata": {
        "id": "APxq7lu0OpBX",
        "colab_type": "code",
        "colab": {}
      },
      "cell_type": "code",
      "source": [
        "REBUILD_SCI_TXT=True"
      ],
      "execution_count": 0,
      "outputs": []
    },
    {
      "metadata": {
        "id": "mJSPuas3OpBc",
        "colab_type": "code",
        "colab": {}
      },
      "cell_type": "code",
      "source": [
        "if REBUILD_SCI_TXT:\n",
        "    home='drive/Team Drives/Medición Capacidades Vinculación UDEA/06. Cienciometría/1. Descargas/2. Scielo Citation Index/1. UDEA/'\n",
        "    filetxt=[\"{}savedrecs.txt\".format(home),\n",
        "             \"{}savedrecs (1).txt\".format(home),\n",
        "             \"{}savedrecs (2).txt\".format(home),\n",
        "             \"{}savedrecs (3).txt\".format(home),\n",
        "             \"{}savedrecs (4).txt\".format(home),\n",
        "             \"{}savedrecs (5).txt\".format(home),\n",
        "             \"{}savedrecs (6).txt\".format(home),\n",
        "             \"{}savedrecs (7).txt\".format(home),\n",
        "             \"{}savedrecs (8).txt\".format(home),\n",
        "             \"{}savedrecs (9).txt\".format(home),\n",
        "             \"{}savedrecs (10).txt\".format(home)\n",
        "            ]"
      ],
      "execution_count": 0,
      "outputs": []
    },
    {
      "metadata": {
        "id": "nwP4mINoPVRk",
        "colab_type": "text"
      },
      "cell_type": "markdown",
      "source": [
        "### Build SCI database"
      ]
    },
    {
      "metadata": {
        "id": "SeP7yJRDPVRn",
        "colab_type": "code",
        "colab": {
          "base_uri": "https://localhost:8080/",
          "height": 230
        },
        "outputId": "1e40cffa-fadb-49b1-cedb-027f6e77e554"
      },
      "cell_type": "code",
      "source": [
        "if REBUILD_SCI_TXT:\n",
        "    UDEA_SCI=pd.DataFrame()\n",
        "    for f in filetxt: \n",
        "        #print(f)\n",
        "        WOS.load_biblio(f)\n",
        "        UDEA_SCI=UDEA_SCI.append(WOS.WOS)\n",
        "        \n",
        "    UDEA_SCI.to_excel('UDEA_SCI.xlsx',index=False)\n",
        "    #some checks\n",
        "    print( UDEA_SCI.shape )"
      ],
      "execution_count": 0,
      "outputs": [
        {
          "output_type": "stream",
          "text": [
            "drive/Team Drives/Medición Capacidades Vinculación UDEA/06. Cienciometría/1. Descargas/2. Scielo Citation Index/1. UDEA/savedrecs.txt\n",
            "drive/Team Drives/Medición Capacidades Vinculación UDEA/06. Cienciometría/1. Descargas/2. Scielo Citation Index/1. UDEA/savedrecs (1).txt\n",
            "drive/Team Drives/Medición Capacidades Vinculación UDEA/06. Cienciometría/1. Descargas/2. Scielo Citation Index/1. UDEA/savedrecs (2).txt\n",
            "drive/Team Drives/Medición Capacidades Vinculación UDEA/06. Cienciometría/1. Descargas/2. Scielo Citation Index/1. UDEA/savedrecs (3).txt\n",
            "drive/Team Drives/Medición Capacidades Vinculación UDEA/06. Cienciometría/1. Descargas/2. Scielo Citation Index/1. UDEA/savedrecs (4).txt\n",
            "drive/Team Drives/Medición Capacidades Vinculación UDEA/06. Cienciometría/1. Descargas/2. Scielo Citation Index/1. UDEA/savedrecs (5).txt\n",
            "drive/Team Drives/Medición Capacidades Vinculación UDEA/06. Cienciometría/1. Descargas/2. Scielo Citation Index/1. UDEA/savedrecs (6).txt\n",
            "drive/Team Drives/Medición Capacidades Vinculación UDEA/06. Cienciometría/1. Descargas/2. Scielo Citation Index/1. UDEA/savedrecs (7).txt\n",
            "drive/Team Drives/Medición Capacidades Vinculación UDEA/06. Cienciometría/1. Descargas/2. Scielo Citation Index/1. UDEA/savedrecs (8).txt\n",
            "drive/Team Drives/Medición Capacidades Vinculación UDEA/06. Cienciometría/1. Descargas/2. Scielo Citation Index/1. UDEA/savedrecs (9).txt\n",
            "drive/Team Drives/Medición Capacidades Vinculación UDEA/06. Cienciometría/1. Descargas/2. Scielo Citation Index/1. UDEA/savedrecs (10).txt\n"
          ],
          "name": "stdout"
        }
      ]
    },
    {
      "metadata": {
        "id": "yEaVHp-ZJjlF",
        "colab_type": "text"
      },
      "cell_type": "markdown",
      "source": [
        "## SCP database"
      ]
    },
    {
      "metadata": {
        "id": "fW9E17egJnNt",
        "colab_type": "code",
        "colab": {}
      },
      "cell_type": "code",
      "source": [
        "REBUILD_SCP_CSV=False #must be local files not in drive.cfg"
      ],
      "execution_count": 0,
      "outputs": []
    },
    {
      "metadata": {
        "id": "0stt066GJvoY",
        "colab_type": "code",
        "colab": {}
      },
      "cell_type": "code",
      "source": [
        "if REBUILD_SCP_CSV:          \n",
        "    home='drive/Team Drives/Medición Capacidades Vinculación UDEA/06. Cienciometría/1. Descargas/3. Scopus/1. UDEA/'\n",
        "    filecsv=[\"{}UDEA1.csv\".format(home),\"{}UDEA2.csv\".format(home),\"{}UDEA3.csv\".format(home),\n",
        "             \"{}UDEA4.csv\".format(home),\"{}UDEA5.csv\".format(home),\"{}UDEA6.csv\".format(home),\n",
        "             \"{}UDEA7.csv\".format(home)]"
      ],
      "execution_count": 0,
      "outputs": []
    },
    {
      "metadata": {
        "id": "M1plyIfeKr4m",
        "colab_type": "code",
        "colab": {
          "base_uri": "https://localhost:8080/",
          "height": 156
        },
        "outputId": "15040bc9-c629-4998-d5f6-b32ff2772408"
      },
      "cell_type": "code",
      "source": [
        "if REBUILD_SCP_CSV:\n",
        "    UDEA_SCP=pd.DataFrame()\n",
        "    for f in filecsv:\n",
        "        #print(f)\n",
        "        UDEA_SCP=UDEA_SCP.append(pd.read_csv(f,error_bad_lines=False))\n",
        "        \n",
        "    UDEA_SCP.to_excel('UDEA_SCP.xlsx',index=False)\n",
        "    #some checks\n",
        "    print(UDEA_SCP.shape)\n",
        "    print(UDEA_SCP[UDEA_SCP.Authors.str.contains('Restrepo D.')].shape)"
      ],
      "execution_count": 0,
      "outputs": [
        {
          "output_type": "stream",
          "text": [
            "b'Skipping line 7: expected 43 fields, saw 44\\nSkipping line 42: expected 43 fields, saw 44\\nSkipping line 122: expected 43 fields, saw 44\\nSkipping line 161: expected 43 fields, saw 44\\nSkipping line 225: expected 43 fields, saw 44\\nSkipping line 238: expected 43 fields, saw 44\\nSkipping line 251: expected 43 fields, saw 45\\nSkipping line 252: expected 43 fields, saw 44\\nSkipping line 263: expected 43 fields, saw 44\\nSkipping line 290: expected 43 fields, saw 44\\nSkipping line 339: expected 43 fields, saw 44\\nSkipping line 382: expected 43 fields, saw 44\\nSkipping line 384: expected 43 fields, saw 44\\nSkipping line 386: expected 43 fields, saw 44\\nSkipping line 387: expected 43 fields, saw 46\\nSkipping line 388: expected 43 fields, saw 45\\nSkipping line 389: expected 43 fields, saw 44\\nSkipping line 391: expected 43 fields, saw 44\\nSkipping line 461: expected 43 fields, saw 44\\nSkipping line 1034: expected 43 fields, saw 44\\nSkipping line 1192: expected 43 fields, saw 44\\n'\n",
            "b'Skipping line 98: expected 43 fields, saw 44\\nSkipping line 100: expected 43 fields, saw 44\\nSkipping line 690: expected 43 fields, saw 44\\n'\n",
            "b'Skipping line 30: expected 43 fields, saw 44\\nSkipping line 146: expected 43 fields, saw 44\\nSkipping line 161: expected 43 fields, saw 46\\nSkipping line 268: expected 43 fields, saw 44\\nSkipping line 332: expected 43 fields, saw 44\\nSkipping line 443: expected 43 fields, saw 44\\nSkipping line 799: expected 43 fields, saw 44\\nSkipping line 965: expected 43 fields, saw 44\\nSkipping line 1037: expected 43 fields, saw 44\\nSkipping line 1042: expected 43 fields, saw 44\\nSkipping line 1263: expected 43 fields, saw 44\\nSkipping line 1286: expected 43 fields, saw 44\\nSkipping line 1497: expected 43 fields, saw 44\\nSkipping line 1761: expected 43 fields, saw 44\\nSkipping line 1781: expected 43 fields, saw 44\\nSkipping line 1854: expected 43 fields, saw 44\\nSkipping line 1944: expected 43 fields, saw 45\\nSkipping line 1952: expected 43 fields, saw 44\\n'\n",
            "b'Skipping line 315: expected 43 fields, saw 44\\nSkipping line 491: expected 43 fields, saw 44\\nSkipping line 492: expected 43 fields, saw 47\\nSkipping line 837: expected 43 fields, saw 45\\nSkipping line 1064: expected 43 fields, saw 45\\n'\n",
            "b'Skipping line 187: expected 43 fields, saw 44\\nSkipping line 444: expected 43 fields, saw 44\\nSkipping line 543: expected 43 fields, saw 45\\nSkipping line 662: expected 43 fields, saw 44\\nSkipping line 723: expected 43 fields, saw 44\\nSkipping line 898: expected 43 fields, saw 44\\nSkipping line 1424: expected 43 fields, saw 44\\nSkipping line 1489: expected 43 fields, saw 44\\nSkipping line 1776: expected 43 fields, saw 44\\n'\n",
            "b'Skipping line 1106: expected 43 fields, saw 44\\nSkipping line 1261: expected 43 fields, saw 44\\n'\n",
            "b'Skipping line 161: expected 43 fields, saw 44\\nSkipping line 220: expected 43 fields, saw 44\\nSkipping line 426: expected 43 fields, saw 44\\n'\n"
          ],
          "name": "stderr"
        }
      ]
    },
    {
      "metadata": {
        "id": "vWUaajrC7hHy",
        "colab_type": "text"
      },
      "cell_type": "markdown",
      "source": [
        "# Merge"
      ]
    },
    {
      "metadata": {
        "id": "JS7jD1f47JUN",
        "colab_type": "text"
      },
      "cell_type": "markdown",
      "source": [
        "##  Configure public links of  files in Google Drive\n",
        "* If it is a Google Spreadsheet the corresponding file is downloaded as CSV\n",
        "* If it is in excel or text file the file is downloaded  directly\n",
        "\n",
        "To define your  own labeled IDs for public google drive files edit the next cell:"
      ]
    },
    {
      "metadata": {
        "id": "T4Rmd2dF7JUQ",
        "colab_type": "code",
        "colab": {
          "base_uri": "https://localhost:8080/",
          "height": 34
        },
        "outputId": "d71d8f96-7c01-4696-b815-02c4ab9f1f89"
      },
      "cell_type": "code",
      "source": [
        "%%writefile drive.cfg\n",
        "[FILES]\n",
        "Sample_WOS.xlsx         = 0BxoOXsn2EUNIMldPUFlwNkdLOTQ\n",
        "Sample_WOS.txt          = 12CtQ_SI2OHrvj_etKpqriGsGoVvv9zkL\n",
        "savedrecs01.txt         = 1snzdsa-RLwYIf8MUffauaD2ZjNr1U2Os\n",
        "UDEA_WOS.xlsx           = 1px2IcrjCrkyu7t78Q7PAE5nzV_yuPt9t\n",
        "UDEA_SCI.xlsx           = 1pWMY5P72j0Ca6D-cm7dn7Q4TBGTs4PWV\n",
        "UDEA_SCP.xlsx           = 1ulCsFHzDiTmuL9TH8F58ulh0u8Z2ylKh\n",
        "UDEA_WOS_SCI.xlsx       = 1im1laWwnig_91a5FNOfo8uPRIm04Bubc\n",
        "UDEA_WOS_SCI_SCP.xlsx   = 1o9otmklgh-0w18Avv2ZTKOXr3vZbjwvj"
      ],
      "execution_count": 0,
      "outputs": [
        {
          "output_type": "stream",
          "text": [
            "Writing drive.cfg\n"
          ],
          "name": "stdout"
        }
      ]
    },
    {
      "metadata": {
        "id": "BMIpJva57JUZ",
        "colab_type": "code",
        "colab": {}
      },
      "cell_type": "code",
      "source": [
        "WOS=wp.wosplus('drive.cfg')"
      ],
      "execution_count": 0,
      "outputs": []
    },
    {
      "metadata": {
        "id": "yJBdngBW7JUf",
        "colab_type": "text"
      },
      "cell_type": "markdown",
      "source": [
        "Publics `id`'s  for Google drive files are labeled with the file names in `drive.cfg`. To access them use the corresponding key in `WOS.drive_file`,  e.g:"
      ]
    },
    {
      "metadata": {
        "id": "kIp60zgi7JUg",
        "colab_type": "code",
        "colab": {
          "base_uri": "https://localhost:8080/",
          "height": 122
        },
        "outputId": "faf596b0-0038-4adc-9a5b-b072e3ba60da"
      },
      "cell_type": "code",
      "source": [
        "list( WOS.drive_file.keys() )"
      ],
      "execution_count": 0,
      "outputs": [
        {
          "output_type": "execute_result",
          "data": {
            "text/plain": [
              "['Sample_WOS.xlsx',\n",
              " 'Sample_WOS.txt',\n",
              " 'savedrecs01.txt',\n",
              " 'UDEA_WOS.xlsx',\n",
              " 'UDEA_SCI.xlsx',\n",
              " 'UDEA_SCP.xlsx']"
            ]
          },
          "metadata": {
            "tags": []
          },
          "execution_count": 5
        }
      ]
    },
    {
      "metadata": {
        "id": "hzIMcR0x9IUh",
        "colab_type": "code",
        "colab": {
          "base_uri": "https://localhost:8080/",
          "height": 34
        },
        "outputId": "027a3834-0892-44f2-fb57-b0a6fb5c1bb6"
      },
      "cell_type": "code",
      "source": [
        "WOS.drive_file.get('UDEA_WOS.xlsx')"
      ],
      "execution_count": 0,
      "outputs": [
        {
          "output_type": "execute_result",
          "data": {
            "text/plain": [
              "'1px2IcrjCrkyu7t78Q7PAE5nzV_yuPt9t'"
            ]
          },
          "metadata": {
            "tags": []
          },
          "execution_count": 6
        }
      ]
    },
    {
      "metadata": {
        "id": "WdsMZx_j9IUp",
        "colab_type": "text"
      },
      "cell_type": "markdown",
      "source": [
        "or, the more error prompt version"
      ]
    },
    {
      "metadata": {
        "id": "PGN77wbo9IUq",
        "colab_type": "code",
        "colab": {
          "base_uri": "https://localhost:8080/",
          "height": 34
        },
        "outputId": "3dc220b0-7514-43df-db80-15338762c345"
      },
      "cell_type": "code",
      "source": [
        "WOS.drive_file['UDEA_WOS.xlsx']"
      ],
      "execution_count": 0,
      "outputs": [
        {
          "output_type": "execute_result",
          "data": {
            "text/plain": [
              "'1px2IcrjCrkyu7t78Q7PAE5nzV_yuPt9t'"
            ]
          },
          "metadata": {
            "tags": []
          },
          "execution_count": 6
        }
      ]
    },
    {
      "metadata": {
        "id": "Y0D0hEdAMXUX",
        "colab_type": "text"
      },
      "cell_type": "markdown",
      "source": [
        "## Merge\n",
        "See: \n",
        "* https://github.com/restrepo/WOSplus/blob/master/tests/test_sample.py\n",
        "* http://hub.oproject.org/user/restrepo/notebooks/localshare/Proyecto_SIU/articles_analysis/WOS_SCI_SCP-Class.ipynb"
      ]
    },
    {
      "metadata": {
        "id": "-p-qVfRyPK6N",
        "colab_type": "text"
      },
      "cell_type": "markdown",
      "source": [
        "### Merge WOS+SC+SCP"
      ]
    },
    {
      "metadata": {
        "id": "CODJkW1WRzgP",
        "colab_type": "code",
        "colab": {}
      },
      "cell_type": "code",
      "source": [
        "REBUILD_WOS_SCI_SCP=False"
      ],
      "execution_count": 0,
      "outputs": []
    },
    {
      "metadata": {
        "id": "occzrIeCS7aQ",
        "colab_type": "code",
        "colab": {
          "base_uri": "https://localhost:8080/",
          "height": 52
        },
        "outputId": "5648e509-fc09-45c6-a88a-59053cdfc049"
      },
      "cell_type": "code",
      "source": [
        "# TODO check config file\n",
        "UDEA=wp.wosplus('drive.cfg')\n",
        "tmp=UDEA.load_biblio('UDEA_WOS.xlsx') # creates WOS.WOS\n",
        "tmp=UDEA.load_biblio('UDEA_SCI.xlsx',prefix='SCI') # creates UDEA.SCI\n",
        "tmp=UDEA.load_biblio('UDEA_SCP.xlsx',prefix='SCP') # creates UDEA.SCP"
      ],
      "execution_count": 0,
      "outputs": [
        {
          "output_type": "stream",
          "text": [
            "/usr/local/lib/python3.6/dist-packages/wosplus/_wos_scp.py:54: FutureWarning: Using 'rename_axis' to alter labels is deprecated. Use '.rename' instead\n",
            "  return df.rename_axis( dict( (key,prefix+'_'+key) for key in df.columns.values) , axis=1)\n"
          ],
          "name": "stderr"
        }
      ]
    },
    {
      "metadata": {
        "id": "lnS28xGmuQp5",
        "colab_type": "code",
        "colab": {
          "base_uri": "https://localhost:8080/",
          "height": 34
        },
        "outputId": "9a52fe2b-14ce-49ae-e8b2-a9adf97235e0"
      },
      "cell_type": "code",
      "source": [
        "print('before merge: {}'.format( UDEA.WOS.shape[0]+UDEA.SCI.shape[0]+UDEA.SCP.shape[0] )  )\n"
      ],
      "execution_count": 0,
      "outputs": [
        {
          "output_type": "stream",
          "text": [
            "before merge: 24676\n"
          ],
          "name": "stdout"
        }
      ]
    },
    {
      "metadata": {
        "id": "8w3MdTPw-AtC",
        "colab_type": "code",
        "colab": {
          "base_uri": "https://localhost:8080/",
          "height": 210
        },
        "outputId": "34815a1d-1049-45d0-bf01-17df385a6e96"
      },
      "cell_type": "code",
      "source": [
        "UDEA.WOS[:1]"
      ],
      "execution_count": 0,
      "outputs": [
        {
          "output_type": "execute_result",
          "data": {
            "text/html": [
              "<div>\n",
              "<style scoped>\n",
              "    .dataframe tbody tr th:only-of-type {\n",
              "        vertical-align: middle;\n",
              "    }\n",
              "\n",
              "    .dataframe tbody tr th {\n",
              "        vertical-align: top;\n",
              "    }\n",
              "\n",
              "    .dataframe thead th {\n",
              "        text-align: right;\n",
              "    }\n",
              "</style>\n",
              "<table border=\"1\" class=\"dataframe\">\n",
              "  <thead>\n",
              "    <tr style=\"text-align: right;\">\n",
              "      <th></th>\n",
              "      <th>AB</th>\n",
              "      <th>AF</th>\n",
              "      <th>AR</th>\n",
              "      <th>AU</th>\n",
              "      <th>BA</th>\n",
              "      <th>BE</th>\n",
              "      <th>BF</th>\n",
              "      <th>BN</th>\n",
              "      <th>BP</th>\n",
              "      <th>C1</th>\n",
              "      <th>...</th>\n",
              "      <th>SU</th>\n",
              "      <th>TC</th>\n",
              "      <th>TI</th>\n",
              "      <th>Tipo</th>\n",
              "      <th>U1</th>\n",
              "      <th>U2</th>\n",
              "      <th>UT</th>\n",
              "      <th>VL</th>\n",
              "      <th>WC</th>\n",
              "      <th>Z9</th>\n",
              "    </tr>\n",
              "  </thead>\n",
              "  <tbody>\n",
              "    <tr>\n",
              "      <th>0</th>\n",
              "      <td></td>\n",
              "      <td>Burwick, Richard M.\\nVelasquez, Jesus A.\\nVale...</td>\n",
              "      <td></td>\n",
              "      <td>Burwick, RM\\nVelasquez, JA\\nValencia, CM\\nBern...</td>\n",
              "      <td></td>\n",
              "      <td></td>\n",
              "      <td></td>\n",
              "      <td></td>\n",
              "      <td>S193\\n</td>\n",
              "      <td>[Burwick, Richard M.; Tolosa, Jorge E.] Oregon...</td>\n",
              "      <td>...</td>\n",
              "      <td>S\\n</td>\n",
              "      <td>0</td>\n",
              "      <td>Preeclampsia with severe features, defining a ...</td>\n",
              "      <td>WOS</td>\n",
              "      <td>0</td>\n",
              "      <td>0</td>\n",
              "      <td>WOS:000422946900307\\n</td>\n",
              "      <td>218\\n</td>\n",
              "      <td>Obstetrics &amp; Gynecology\\n</td>\n",
              "      <td>0</td>\n",
              "    </tr>\n",
              "  </tbody>\n",
              "</table>\n",
              "<p>1 rows × 64 columns</p>\n",
              "</div>"
            ],
            "text/plain": [
              "  AB                                                 AF AR  \\\n",
              "0     Burwick, Richard M.\\nVelasquez, Jesus A.\\nVale...      \n",
              "\n",
              "                                                  AU BA BE BF BN      BP  \\\n",
              "0  Burwick, RM\\nVelasquez, JA\\nValencia, CM\\nBern...              S193\\n   \n",
              "\n",
              "                                                  C1 ...   SU TC  \\\n",
              "0  [Burwick, Richard M.; Tolosa, Jorge E.] Oregon... ...  S\\n  0   \n",
              "\n",
              "                                                  TI Tipo U1 U2  \\\n",
              "0  Preeclampsia with severe features, defining a ...  WOS  0  0   \n",
              "\n",
              "                      UT     VL                         WC Z9  \n",
              "0  WOS:000422946900307\\n  218\\n  Obstetrics & Gynecology\\n  0  \n",
              "\n",
              "[1 rows x 64 columns]"
            ]
          },
          "metadata": {
            "tags": []
          },
          "execution_count": 10
        }
      ]
    },
    {
      "metadata": {
        "id": "2K9Lm9CM-E1K",
        "colab_type": "code",
        "colab": {
          "base_uri": "https://localhost:8080/",
          "height": 243
        },
        "outputId": "cb3fd760-be31-4623-d766-9534703c0fa8"
      },
      "cell_type": "code",
      "source": [
        "UDEA.SCI[:1]"
      ],
      "execution_count": 0,
      "outputs": [
        {
          "output_type": "execute_result",
          "data": {
            "text/html": [
              "<div>\n",
              "<style scoped>\n",
              "    .dataframe tbody tr th:only-of-type {\n",
              "        vertical-align: middle;\n",
              "    }\n",
              "\n",
              "    .dataframe tbody tr th {\n",
              "        vertical-align: top;\n",
              "    }\n",
              "\n",
              "    .dataframe thead th {\n",
              "        text-align: right;\n",
              "    }\n",
              "</style>\n",
              "<table border=\"1\" class=\"dataframe\">\n",
              "  <thead>\n",
              "    <tr style=\"text-align: right;\">\n",
              "      <th></th>\n",
              "      <th>SCI_AB</th>\n",
              "      <th>SCI_AU</th>\n",
              "      <th>SCI_BP</th>\n",
              "      <th>SCI_C1</th>\n",
              "      <th>SCI_C2</th>\n",
              "      <th>SCI_CR</th>\n",
              "      <th>SCI_DE</th>\n",
              "      <th>SCI_DI</th>\n",
              "      <th>SCI_DT</th>\n",
              "      <th>SCI_EC</th>\n",
              "      <th>...</th>\n",
              "      <th>SCI_X4</th>\n",
              "      <th>SCI_X5</th>\n",
              "      <th>SCI_Y1</th>\n",
              "      <th>SCI_Y4</th>\n",
              "      <th>SCI_Y5</th>\n",
              "      <th>SCI_Z1</th>\n",
              "      <th>SCI_Z4</th>\n",
              "      <th>SCI_Z5</th>\n",
              "      <th>SCI_Z9</th>\n",
              "      <th>Tipo</th>\n",
              "    </tr>\n",
              "  </thead>\n",
              "  <tbody>\n",
              "    <tr>\n",
              "      <th>0</th>\n",
              "      <td>ABSTRACT This paper presents a breakdown cost ...</td>\n",
              "      <td>Castillo-Ramírez, Alejandro\\nMejía-Giraldo, Di...</td>\n",
              "      <td>117\\n</td>\n",
              "      <td>[Castillo-Ramírez, Alejandro; Mejía-Giraldo, D...</td>\n",
              "      <td>SciELO Colombia\\n</td>\n",
              "      <td>Branker K, 2011, RENEW SUST ENERG REV, V15, P4...</td>\n",
              "      <td>LCOE breakdown; Large-Scale Photovoltaic; Inve...</td>\n",
              "      <td></td>\n",
              "      <td>research-article\\t\\n</td>\n",
              "      <td>Engineering, Multidisciplinary\\n</td>\n",
              "      <td>...</td>\n",
              "      <td>RESUMEN Este artículo presenta una metodología...</td>\n",
              "      <td>Desagregación del LCOE; Fotovoltaica a Gran Es...</td>\n",
              "      <td>METODOLOGÍA PARA LA DESAGREGACIÓN DETALLADA DE...</td>\n",
              "      <td>RESUMO Este artigo apresenta uma metodologia p...</td>\n",
              "      <td>Desagregação do LCOE; Fotovoltaica em Grande E...</td>\n",
              "      <td></td>\n",
              "      <td></td>\n",
              "      <td></td>\n",
              "      <td>0</td>\n",
              "      <td>SCI</td>\n",
              "    </tr>\n",
              "  </tbody>\n",
              "</table>\n",
              "<p>1 rows × 45 columns</p>\n",
              "</div>"
            ],
            "text/plain": [
              "                                              SCI_AB  \\\n",
              "0  ABSTRACT This paper presents a breakdown cost ...   \n",
              "\n",
              "                                              SCI_AU SCI_BP  \\\n",
              "0  Castillo-Ramírez, Alejandro\\nMejía-Giraldo, Di...  117\\n   \n",
              "\n",
              "                                              SCI_C1             SCI_C2  \\\n",
              "0  [Castillo-Ramírez, Alejandro; Mejía-Giraldo, D...  SciELO Colombia\\n   \n",
              "\n",
              "                                              SCI_CR  \\\n",
              "0  Branker K, 2011, RENEW SUST ENERG REV, V15, P4...   \n",
              "\n",
              "                                              SCI_DE SCI_DI  \\\n",
              "0  LCOE breakdown; Large-Scale Photovoltaic; Inve...          \n",
              "\n",
              "                 SCI_DT                            SCI_EC ...   \\\n",
              "0  research-article\\t\\n  Engineering, Multidisciplinary\\n ...    \n",
              "\n",
              "                                              SCI_X4  \\\n",
              "0  RESUMEN Este artículo presenta una metodología...   \n",
              "\n",
              "                                              SCI_X5  \\\n",
              "0  Desagregación del LCOE; Fotovoltaica a Gran Es...   \n",
              "\n",
              "                                              SCI_Y1  \\\n",
              "0  METODOLOGÍA PARA LA DESAGREGACIÓN DETALLADA DE...   \n",
              "\n",
              "                                              SCI_Y4  \\\n",
              "0  RESUMO Este artigo apresenta uma metodologia p...   \n",
              "\n",
              "                                              SCI_Y5 SCI_Z1 SCI_Z4 SCI_Z5  \\\n",
              "0  Desagregação do LCOE; Fotovoltaica em Grande E...                        \n",
              "\n",
              "   SCI_Z9 Tipo  \n",
              "0       0  SCI  \n",
              "\n",
              "[1 rows x 45 columns]"
            ]
          },
          "metadata": {
            "tags": []
          },
          "execution_count": 11
        }
      ]
    },
    {
      "metadata": {
        "id": "frLCepoJ-7w2",
        "colab_type": "code",
        "colab": {
          "base_uri": "https://localhost:8080/",
          "height": 226
        },
        "outputId": "ede278d7-019b-42c0-a5f6-ead497193729"
      },
      "cell_type": "code",
      "source": [
        "UDEA.SCP[:1]"
      ],
      "execution_count": 0,
      "outputs": [
        {
          "output_type": "execute_result",
          "data": {
            "text/html": [
              "<div>\n",
              "<style scoped>\n",
              "    .dataframe tbody tr th:only-of-type {\n",
              "        vertical-align: middle;\n",
              "    }\n",
              "\n",
              "    .dataframe tbody tr th {\n",
              "        vertical-align: top;\n",
              "    }\n",
              "\n",
              "    .dataframe thead th {\n",
              "        text-align: right;\n",
              "    }\n",
              "</style>\n",
              "<table border=\"1\" class=\"dataframe\">\n",
              "  <thead>\n",
              "    <tr style=\"text-align: right;\">\n",
              "      <th></th>\n",
              "      <th>SCP_Authors</th>\n",
              "      <th>SCP_Title</th>\n",
              "      <th>SCP_Year</th>\n",
              "      <th>SCP_Source title</th>\n",
              "      <th>SCP_Volume</th>\n",
              "      <th>SCP_Issue</th>\n",
              "      <th>SCP_Art. No.</th>\n",
              "      <th>SCP_Page start</th>\n",
              "      <th>SCP_Page end</th>\n",
              "      <th>SCP_Page count</th>\n",
              "      <th>...</th>\n",
              "      <th>SCP_ISBN</th>\n",
              "      <th>SCP_CODEN</th>\n",
              "      <th>SCP_PubMed ID</th>\n",
              "      <th>SCP_Language of Original Document</th>\n",
              "      <th>SCP_Abbreviated Source Title</th>\n",
              "      <th>SCP_Document Type</th>\n",
              "      <th>SCP_Access Type</th>\n",
              "      <th>SCP_Source</th>\n",
              "      <th>SCP_EID</th>\n",
              "      <th>Tipo</th>\n",
              "    </tr>\n",
              "  </thead>\n",
              "  <tbody>\n",
              "    <tr>\n",
              "      <th>0</th>\n",
              "      <td>Gavina Mesa J.I., Granda Viveros M.L., Lopez M...</td>\n",
              "      <td>Rural inequality and armed internal conflict i...</td>\n",
              "      <td>2018</td>\n",
              "      <td>Izquierdas</td>\n",
              "      <td>39</td>\n",
              "      <td></td>\n",
              "      <td></td>\n",
              "      <td>209</td>\n",
              "      <td>228</td>\n",
              "      <td>0.0</td>\n",
              "      <td>...</td>\n",
              "      <td></td>\n",
              "      <td></td>\n",
              "      <td></td>\n",
              "      <td>Spanish</td>\n",
              "      <td>Izquierdas</td>\n",
              "      <td>Review</td>\n",
              "      <td></td>\n",
              "      <td>Scopus</td>\n",
              "      <td>2-s2.0-85039782486</td>\n",
              "      <td>SCP</td>\n",
              "    </tr>\n",
              "  </tbody>\n",
              "</table>\n",
              "<p>1 rows × 44 columns</p>\n",
              "</div>"
            ],
            "text/plain": [
              "                                         SCP_Authors  \\\n",
              "0  Gavina Mesa J.I., Granda Viveros M.L., Lopez M...   \n",
              "\n",
              "                                           SCP_Title  SCP_Year  \\\n",
              "0  Rural inequality and armed internal conflict i...      2018   \n",
              "\n",
              "  SCP_Source title SCP_Volume SCP_Issue SCP_Art. No. SCP_Page start  \\\n",
              "0       Izquierdas         39                                   209   \n",
              "\n",
              "  SCP_Page end  SCP_Page count ...   SCP_ISBN SCP_CODEN SCP_PubMed ID  \\\n",
              "0          228             0.0 ...                                      \n",
              "\n",
              "  SCP_Language of Original Document SCP_Abbreviated Source Title  \\\n",
              "0                           Spanish                   Izquierdas   \n",
              "\n",
              "  SCP_Document Type SCP_Access Type SCP_Source             SCP_EID Tipo  \n",
              "0            Review                     Scopus  2-s2.0-85039782486  SCP  \n",
              "\n",
              "[1 rows x 44 columns]"
            ]
          },
          "metadata": {
            "tags": []
          },
          "execution_count": 12
        }
      ]
    },
    {
      "metadata": {
        "id": "zsCnv55UuyNi",
        "colab_type": "code",
        "colab": {
          "base_uri": "https://localhost:8080/",
          "height": 34
        },
        "outputId": "e2920598-d07c-4471-8885-13d639daca56"
      },
      "cell_type": "code",
      "source": [
        "UDEA.merge(left='WOS',right='SCI')"
      ],
      "execution_count": 0,
      "outputs": [
        {
          "output_type": "stream",
          "text": [
            "................................................................................"
          ],
          "name": "stdout"
        }
      ]
    },
    {
      "metadata": {
        "id": "S5lWlmduQUtQ",
        "colab_type": "code",
        "colab": {
          "base_uri": "https://localhost:8080/",
          "height": 34
        },
        "outputId": "89678b7a-9a34-4ec2-fc80-ce347e56068f"
      },
      "cell_type": "code",
      "source": [
        "UDEA.WOS.shape[0]+UDEA.SCI.shape[0],UDEA.WOS_SCI.shape[0]"
      ],
      "execution_count": 0,
      "outputs": [
        {
          "output_type": "execute_result",
          "data": {
            "text/plain": [
              "(14052, 13140)"
            ]
          },
          "metadata": {
            "tags": []
          },
          "execution_count": 17
        }
      ]
    },
    {
      "metadata": {
        "id": "PhkQeY1EQu6Y",
        "colab_type": "code",
        "colab": {}
      },
      "cell_type": "code",
      "source": [
        "UDEA.WOS_SCI.to_excel('UDEA_WOS_SCI.xlsx',index=False)"
      ],
      "execution_count": 0,
      "outputs": []
    },
    {
      "metadata": {
        "id": "XbpNjT40u83f",
        "colab_type": "code",
        "colab": {
          "base_uri": "https://localhost:8080/",
          "height": 54
        },
        "outputId": "c8020c8b-284c-4bb8-f5b9-ed143eb35c02"
      },
      "cell_type": "code",
      "source": [
        "UDEA.merge(left='WOS_SCI',right='SCP')"
      ],
      "execution_count": 0,
      "outputs": [
        {
          "output_type": "stream",
          "text": [
            "................................................................................................................................................................................................................"
          ],
          "name": "stdout"
        }
      ]
    },
    {
      "metadata": {
        "id": "f5eF0y50vLrm",
        "colab_type": "code",
        "colab": {
          "base_uri": "https://localhost:8080/",
          "height": 34
        },
        "outputId": "65c73b5a-7c7b-4508-e023-c7bf05924d38"
      },
      "cell_type": "code",
      "source": [
        "UDEA.WOS_SCI.shape[0]+UDEA.SCP.shape[0],UDEA.WOS_SCI_SCP.shape[0]"
      ],
      "execution_count": 0,
      "outputs": [
        {
          "output_type": "execute_result",
          "data": {
            "text/plain": [
              "(23764, 15504)"
            ]
          },
          "metadata": {
            "tags": []
          },
          "execution_count": 21
        }
      ]
    },
    {
      "metadata": {
        "id": "R503IhFiaFbA",
        "colab_type": "code",
        "colab": {}
      },
      "cell_type": "code",
      "source": [
        "if REBUILD_WOS_SCI_SCP:\n",
        "    UDEA.WOS_SCI_SCP.to_excel('UDEA_WOS_SCI_SCP.xlsx',index=False)"
      ],
      "execution_count": 0,
      "outputs": []
    },
    {
      "metadata": {
        "id": "Xlb-50u2a3ib",
        "colab_type": "text"
      },
      "cell_type": "markdown",
      "source": [
        "### Load WOS+SC+SCP"
      ]
    },
    {
      "metadata": {
        "id": "iYIEKRmGSJWk",
        "colab_type": "code",
        "colab": {}
      },
      "cell_type": "code",
      "source": [
        "UDEA=wp.wosplus('drive.cfg')\n",
        "tmp=UDEA.load_biblio('UDEA_WOS_SCI_SCP.xlsx')"
      ],
      "execution_count": 0,
      "outputs": []
    },
    {
      "metadata": {
        "id": "OTAcr_hfSdHr",
        "colab_type": "code",
        "colab": {}
      },
      "cell_type": "code",
      "source": [
        "UDEA.merge??"
      ],
      "execution_count": 0,
      "outputs": []
    },
    {
      "metadata": {
        "id": "mgN98tnhTRVX",
        "colab_type": "code",
        "colab": {}
      },
      "cell_type": "code",
      "source": [
        ""
      ],
      "execution_count": 0,
      "outputs": []
    }
  ]
}