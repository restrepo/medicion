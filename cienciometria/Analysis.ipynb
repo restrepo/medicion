{
  "nbformat": 4,
  "nbformat_minor": 0,
  "metadata": {
    "colab": {
      "name": "merge.ipynb",
      "version": "0.3.2",
      "provenance": [],
      "include_colab_link": true
    },
    "kernelspec": {
      "display_name": "Python 3",
      "language": "python",
      "name": "python3"
    }
  },
  "cells": [
    {
      "cell_type": "markdown",
      "metadata": {
        "id": "view-in-github",
        "colab_type": "text"
      },
      "source": [
        "[![Open In Colab](https://colab.research.google.com/assets/colab-badge.svg)](https://colab.research.google.com/github/restrepo/medicion/blob/master/cienciometria/Analysis.ipynb)"
      ]
    },
    {
      "metadata": {
        "id": "aDnqho-CsEwj",
        "colab_type": "text"
      },
      "cell_type": "markdown",
      "source": [
        "# Analysis\n",
        "Use mergeg  bibliographic datasets."
      ]
    },
    {
      "metadata": {
        "id": "9Hnin1fosRB_",
        "colab_type": "code",
        "colab": {}
      },
      "cell_type": "code",
      "source": [
        "!pip install wosplus openpyxl xlrd > /dev/null"
      ],
      "execution_count": 0,
      "outputs": []
    },
    {
      "metadata": {
        "id": "nhk2ZGEDd2Yo",
        "colab_type": "code",
        "colab": {}
      },
      "cell_type": "code",
      "source": [
        "import wosplus as wp\n",
        "import pandas as pd"
      ],
      "execution_count": 0,
      "outputs": []
    },
    {
      "metadata": {
        "id": "_-CcCxZJ7ZY6",
        "colab_type": "text"
      },
      "cell_type": "markdown",
      "source": [
        "# Load Data Bases"
      ]
    },
    {
      "metadata": {
        "id": "yHL3g4pdsExG",
        "colab_type": "text"
      },
      "cell_type": "markdown",
      "source": [
        "##  Load full Google Drive, including your Team drives:"
      ]
    },
    {
      "metadata": {
        "id": "QGclNSZnLTZD",
        "colab_type": "code",
        "colab": {}
      },
      "cell_type": "code",
      "source": [
        "# Load the Drive helper and mount\n",
        "from google.colab import drive\n",
        "\n",
        "# This will prompt for authorization.\n",
        "drive.mount('/content/drive')"
      ],
      "execution_count": 0,
      "outputs": []
    },
    {
      "metadata": {
        "id": "J__yrydJOrsJ",
        "colab_type": "text"
      },
      "cell_type": "markdown",
      "source": [
        " Access you Google Drive files from the sidebar in the tab \"Files → REFRESH\""
      ]
    },
    {
      "metadata": {
        "id": "8SUNt-E6J7jp",
        "colab_type": "text"
      },
      "cell_type": "markdown",
      "source": [
        "\n",
        "# WOS+SCI+SCP"
      ]
    },
    {
      "metadata": {
        "id": "JS7jD1f47JUN",
        "colab_type": "text"
      },
      "cell_type": "markdown",
      "source": [
        "##  Configure public links of  files in Google Drive\n",
        "* If it is a Google Spreadsheet the corresponding file is downloaded as CSV\n",
        "* If it is in excel or text file the file is downloaded  directly\n",
        "\n",
        "To define your  own labeled IDs for public google drive files edit the next cell:"
      ]
    },
    {
      "metadata": {
        "id": "T4Rmd2dF7JUQ",
        "colab_type": "code",
        "outputId": "5be24bbb-24ca-4717-bb7d-0900030b20a7",
        "colab": {
          "base_uri": "https://localhost:8080/",
          "height": 34
        }
      },
      "cell_type": "code",
      "source": [
        "%%writefile drive.cfg\n",
        "[FILES]\n",
        "Sample_WOS.xlsx         = 0BxoOXsn2EUNIMldPUFlwNkdLOTQ\n",
        "Sample_WOS.txt          = 12CtQ_SI2OHrvj_etKpqriGsGoVvv9zkL\n",
        "savedrecs01.txt         = 1snzdsa-RLwYIf8MUffauaD2ZjNr1U2Os\n",
        "UDEA_WOS.xlsx           = 1px2IcrjCrkyu7t78Q7PAE5nzV_yuPt9t\n",
        "UDEA_SCI.xlsx           = 1pWMY5P72j0Ca6D-cm7dn7Q4TBGTs4PWV\n",
        "UDEA_SCP.xlsx           = 1ulCsFHzDiTmuL9TH8F58ulh0u8Z2ylKh\n",
        "UDEA_WOS_SCI.xlsx       = 1im1laWwnig_91a5FNOfo8uPRIm04Bubc\n",
        "UDEA_WOS_SCI_SCP.xlsx   = 1o9otmklgh-0w18Avv2ZTKOXr3vZbjwvj"
      ],
      "execution_count": 23,
      "outputs": [
        {
          "output_type": "stream",
          "text": [
            "Overwriting drive.cfg\n"
          ],
          "name": "stdout"
        }
      ]
    },
    {
      "metadata": {
        "id": "BMIpJva57JUZ",
        "colab_type": "code",
        "colab": {}
      },
      "cell_type": "code",
      "source": [
        "UDEA=wp.wosplus('drive.cfg')"
      ],
      "execution_count": 0,
      "outputs": []
    },
    {
      "metadata": {
        "id": "yJBdngBW7JUf",
        "colab_type": "text"
      },
      "cell_type": "markdown",
      "source": [
        "Publics `id`'s  for Google drive files are labeled with the file names in `drive.cfg`. To access them use the corresponding key in `WOS.drive_file`,  e.g:"
      ]
    },
    {
      "metadata": {
        "id": "iYIEKRmGSJWk",
        "colab_type": "code",
        "colab": {}
      },
      "cell_type": "code",
      "source": [
        "udea=UDEA.read_drive_excel('UDEA_WOS_SCI_SCP.xlsx')\n",
        "udea=wp.fill_NaN(udea)"
      ],
      "execution_count": 0,
      "outputs": []
    },
    {
      "metadata": {
        "id": "OTAcr_hfSdHr",
        "colab_type": "code",
        "colab": {}
      },
      "cell_type": "code",
      "source": [
        "udea=kk.copy()"
      ],
      "execution_count": 0,
      "outputs": []
    },
    {
      "metadata": {
        "id": "mgN98tnhTRVX",
        "colab_type": "code",
        "colab": {}
      },
      "cell_type": "code",
      "source": [
        "dois=udea[udea.DI!=''][['DI','Tipo']]"
      ],
      "execution_count": 0,
      "outputs": []
    },
    {
      "metadata": {
        "id": "lbZwy8JNOb2c",
        "colab_type": "code",
        "colab": {
          "base_uri": "https://localhost:8080/",
          "height": 51
        },
        "outputId": "a72869e1-b4a9-4327-b51c-3fdc6136d680"
      },
      "cell_type": "code",
      "source": [
        "udea.Tipo.unique()"
      ],
      "execution_count": 44,
      "outputs": [
        {
          "output_type": "execute_result",
          "data": {
            "text/plain": [
              "array(['WOS', 'WOS_SCI', 'SCI', 'WOS_SCP', 'WOS_SCI_SCP', 'SCI_SCP',\n",
              "       'SCP'], dtype=object)"
            ]
          },
          "metadata": {
            "tags": []
          },
          "execution_count": 44
        }
      ]
    },
    {
      "metadata": {
        "id": "EAv9pVYhOiKW",
        "colab_type": "code",
        "colab": {
          "base_uri": "https://localhost:8080/",
          "height": 34
        },
        "outputId": "c69d040d-8019-4f6d-e914-de4753843db1"
      },
      "cell_type": "code",
      "source": [
        "dois.shape"
      ],
      "execution_count": 46,
      "outputs": [
        {
          "output_type": "execute_result",
          "data": {
            "text/plain": [
              "(7993, 2)"
            ]
          },
          "metadata": {
            "tags": []
          },
          "execution_count": 46
        }
      ]
    },
    {
      "metadata": {
        "id": "jTy2vqkbQDd6",
        "colab_type": "text"
      },
      "cell_type": "markdown",
      "source": [
        "Check quality of merge: Cannot be duplicate dois:"
      ]
    },
    {
      "metadata": {
        "id": "K7Wskq8aQLUj",
        "colab_type": "code",
        "colab": {
          "base_uri": "https://localhost:8080/",
          "height": 34
        },
        "outputId": "d09bb39f-a169-4610-a8b5-6e249fb9b5d8"
      },
      "cell_type": "code",
      "source": [
        "dois[['DI']].drop_duplicates().shape"
      ],
      "execution_count": 47,
      "outputs": [
        {
          "output_type": "execute_result",
          "data": {
            "text/plain": [
              "(7990, 1)"
            ]
          },
          "metadata": {
            "tags": []
          },
          "execution_count": 47
        }
      ]
    },
    {
      "metadata": {
        "id": "u327fvMjO00X",
        "colab_type": "code",
        "colab": {}
      },
      "cell_type": "code",
      "source": [
        "kk.duplicated?"
      ],
      "execution_count": 0,
      "outputs": []
    },
    {
      "metadata": {
        "id": "L5XI3E1NPYo_",
        "colab_type": "code",
        "colab": {
          "base_uri": "https://localhost:8080/",
          "height": 142
        },
        "outputId": "0cad5e0b-cf25-4421-ea9a-0ac66fdf2759"
      },
      "cell_type": "code",
      "source": [
        "dois[dois[['DI']].duplicated()]"
      ],
      "execution_count": 51,
      "outputs": [
        {
          "output_type": "execute_result",
          "data": {
            "text/html": [
              "<div>\n",
              "<style scoped>\n",
              "    .dataframe tbody tr th:only-of-type {\n",
              "        vertical-align: middle;\n",
              "    }\n",
              "\n",
              "    .dataframe tbody tr th {\n",
              "        vertical-align: top;\n",
              "    }\n",
              "\n",
              "    .dataframe thead th {\n",
              "        text-align: right;\n",
              "    }\n",
              "</style>\n",
              "<table border=\"1\" class=\"dataframe\">\n",
              "  <thead>\n",
              "    <tr style=\"text-align: right;\">\n",
              "      <th></th>\n",
              "      <th>DI</th>\n",
              "      <th>Tipo</th>\n",
              "    </tr>\n",
              "  </thead>\n",
              "  <tbody>\n",
              "    <tr>\n",
              "      <th>9902</th>\n",
              "      <td>10.17533/udea.redin.n85a01</td>\n",
              "      <td>WOS_SCI_SCP</td>\n",
              "    </tr>\n",
              "    <tr>\n",
              "      <th>9904</th>\n",
              "      <td>10.17533/udea.redin.n79a01</td>\n",
              "      <td>WOS_SCI_SCP</td>\n",
              "    </tr>\n",
              "    <tr>\n",
              "      <th>10116</th>\n",
              "      <td>10.17533/udea.iatreia.v28n2a06</td>\n",
              "      <td>SCI_SCP</td>\n",
              "    </tr>\n",
              "  </tbody>\n",
              "</table>\n",
              "</div>"
            ],
            "text/plain": [
              "                                   DI         Tipo\n",
              "9902       10.17533/udea.redin.n85a01  WOS_SCI_SCP\n",
              "9904       10.17533/udea.redin.n79a01  WOS_SCI_SCP\n",
              "10116  10.17533/udea.iatreia.v28n2a06      SCI_SCP"
            ]
          },
          "metadata": {
            "tags": []
          },
          "execution_count": 51
        }
      ]
    },
    {
      "metadata": {
        "id": "_X_-2h8lQqgu",
        "colab_type": "code",
        "colab": {}
      },
      "cell_type": "code",
      "source": [
        "dois[['DI']]"
      ],
      "execution_count": 0,
      "outputs": []
    }
  ]
}