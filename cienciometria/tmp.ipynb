{
  "nbformat": 4,
  "nbformat_minor": 0,
  "metadata": {
    "colab": {
      "name": "merge.ipynb",
      "version": "0.3.2",
      "provenance": [],
      "include_colab_link": true
    },
    "kernelspec": {
      "display_name": "Python 3",
      "language": "python",
      "name": "python3"
    }
  },
  "cells": [
    {
      "cell_type": "markdown",
      "metadata": {
        "id": "view-in-github",
        "colab_type": "text"
      },
      "source": [
        "<a href=\"https://colab.research.google.com/github/restrepo/medicion/blob/master/cienciometria/tmp.ipynb\" target=\"_parent\"><img src=\"https://colab.research.google.com/assets/colab-badge.svg\" alt=\"Open In Colab\"/></a>"
      ]
    },
    {
      "metadata": {
        "id": "aDnqho-CsEwj",
        "colab_type": "text"
      },
      "cell_type": "markdown",
      "source": [
        "# WOS+SCI+SCP\n",
        "Merge the bibliographic datasets for Web of Scienca, Scielo and Scopus of the scientific articles of Universidad de Antioquia\n",
        "\n",
        "For details see [merge.ipynb in Colaboratory](https://colab.research.google.com/github/restrepo/medicion/blob/master/cienciometria/merge.ipynb)"
      ]
    },
    {
      "metadata": {
        "id": "KibuSHGj6xv3",
        "colab_type": "code",
        "colab": {}
      },
      "cell_type": "code",
      "source": [
        " %load_ext autoreload"
      ],
      "execution_count": 0,
      "outputs": []
    },
    {
      "metadata": {
        "id": "pgBDpgi2655W",
        "colab_type": "code",
        "colab": {}
      },
      "cell_type": "code",
      "source": [
        "%autoreload 2"
      ],
      "execution_count": 0,
      "outputs": []
    },
    {
      "metadata": {
        "id": "lOGedSKR89du",
        "colab_type": "code",
        "outputId": "faef55bc-af3c-46e1-aa34-9199f18766cd",
        "colab": {
          "base_uri": "https://localhost:8080/",
          "height": 127
        }
      },
      "cell_type": "code",
      "source": [
        "# Load the Drive helper and mount\n",
        "from google.colab import drive\n",
        "\n",
        "# This will prompt for authorization.\n",
        "drive.mount('/content/drive')"
      ],
      "execution_count": 3,
      "outputs": [
        {
          "output_type": "stream",
          "text": [
            "Go to this URL in a browser: https://accounts.google.com/o/oauth2/auth?client_id=947318989803-6bn6qk8qdgf4n4g3pfee6491hc0brc4i.apps.googleusercontent.com&redirect_uri=urn%3Aietf%3Awg%3Aoauth%3A2.0%3Aoob&scope=email%20https%3A%2F%2Fwww.googleapis.com%2Fauth%2Fdocs.test%20https%3A%2F%2Fwww.googleapis.com%2Fauth%2Fdrive%20https%3A%2F%2Fwww.googleapis.com%2Fauth%2Fdrive.photos.readonly%20https%3A%2F%2Fwww.googleapis.com%2Fauth%2Fpeopleapi.readonly&response_type=code\n",
            "\n",
            "Enter your authorization code:\n",
            "··········\n",
            "Mounted at /content/drive\n"
          ],
          "name": "stdout"
        }
      ]
    },
    {
      "metadata": {
        "id": "JJUmy1YqAszI",
        "colab_type": "code",
        "colab": {}
      },
      "cell_type": "code",
      "source": [
        ""
      ],
      "execution_count": 0,
      "outputs": []
    },
    {
      "metadata": {
        "id": "i2T9HjxIAulU",
        "colab_type": "code",
        "outputId": "51c3549a-0c11-4ddd-e44e-61c1f4a69911",
        "colab": {
          "base_uri": "https://localhost:8080/",
          "height": 107
        }
      },
      "cell_type": "code",
      "source": [
        "import os\n",
        "import shutil\n",
        "\n",
        "os.chdir(\"/content/drive/My Drive/\")\n",
        "if os.path.isdir('wosplus'):\n",
        "    shutil.rmtree('wosplus')\n",
        "! git clone https://github.com/restrepo/wosplus.git\n",
        "os.chdir('wosplus/wosplus')"
      ],
      "execution_count": 4,
      "outputs": [
        {
          "output_type": "stream",
          "text": [
            "Cloning into 'wosplus'...\n",
            "remote: Enumerating objects: 380, done.\u001b[K\n",
            "remote: Total 380 (delta 0), reused 0 (delta 0), pack-reused 380\u001b[K\n",
            "Receiving objects: 100% (380/380), 176.35 KiB | 3.33 MiB/s, done.\n",
            "Resolving deltas: 100% (236/236), done.\n"
          ],
          "name": "stdout"
        }
      ]
    },
    {
      "metadata": {
        "id": "nhk2ZGEDd2Yo",
        "colab_type": "code",
        "colab": {}
      },
      "cell_type": "code",
      "source": [
        "import wosplus as wp\n",
        "import pandas as pd"
      ],
      "execution_count": 0,
      "outputs": []
    },
    {
      "metadata": {
        "id": "JS7jD1f47JUN",
        "colab_type": "text"
      },
      "cell_type": "markdown",
      "source": [
        "##  Configure public links of  files in Google Drive\n",
        "* If it is a Google Spreadsheet the corresponding file is downloaded as CSV\n",
        "* If it is in excel or text file the file is downloaded  directly\n",
        "\n",
        "To define your  own labeled IDs for public google drive files edit the next cell:"
      ]
    },
    {
      "metadata": {
        "id": "T4Rmd2dF7JUQ",
        "colab_type": "code",
        "outputId": "e7a1f2f3-cb2b-4043-e4ee-435c902f6f4a",
        "colab": {
          "base_uri": "https://localhost:8080/",
          "height": 35
        }
      },
      "cell_type": "code",
      "source": [
        "%%writefile drive.cfg\n",
        "[FILES]\n",
        "UDEA_WOS.xlsx       = 1px2IcrjCrkyu7t78Q7PAE5nzV_yuPt9t\n",
        "UDEA_SCI.xlsx       = 1pWMY5P72j0Ca6D-cm7dn7Q4TBGTs4PWV\n",
        "UDEA_SCP.xlsx       = 1ulCsFHzDiTmuL9TH8F58ulh0u8Z2ylKh\n",
        "UDEA_WOS_SCI_SCP.xlsx   = 1o9otmklgh-0w18Avv2ZTKOXr3vZbjwvj"
      ],
      "execution_count": 6,
      "outputs": [
        {
          "output_type": "stream",
          "text": [
            "Writing drive.cfg\n"
          ],
          "name": "stdout"
        }
      ]
    },
    {
      "metadata": {
        "id": "Y0D0hEdAMXUX",
        "colab_type": "text"
      },
      "cell_type": "markdown",
      "source": [
        "##  Load data bases"
      ]
    },
    {
      "metadata": {
        "id": "aonEaUgL5NAo",
        "colab_type": "code",
        "outputId": "d424244d-bc4c-4d38-d5d9-4c3dc9e795e7",
        "colab": {
          "base_uri": "https://localhost:8080/",
          "height": 35
        }
      },
      "cell_type": "code",
      "source": [
        "UDEA=wp.wosplus('drive.cfg')\n",
        "tmp=UDEA.load_biblio('UDEA_WOS.xlsx') # creates WOS.WOS"
      ],
      "execution_count": 7,
      "outputs": [
        {
          "output_type": "stream",
          "text": [
            "WARNING: Biblio already has a \"Tipo\" column\n"
          ],
          "name": "stdout"
        }
      ]
    },
    {
      "metadata": {
        "id": "occzrIeCS7aQ",
        "colab_type": "code",
        "outputId": "90d40429-4443-4a0e-a8b4-ebb711a6fb10",
        "colab": {
          "base_uri": "https://localhost:8080/",
          "height": 35
        }
      },
      "cell_type": "code",
      "source": [
        "UDEA=wp.wosplus('drive.cfg')\n",
        "tmp=UDEA.load_biblio('UDEA_WOS.xlsx') # creates WOS.WOS\n",
        "tmp=UDEA.load_biblio('UDEA_SCI.xlsx',prefix='SCI') # creates UDEA.SCI\n",
        "tmp=UDEA.load_biblio('UDEA_SCP.xlsx',prefix='SCP') # creates UDEA.SCP"
      ],
      "execution_count": 9,
      "outputs": [
        {
          "output_type": "stream",
          "text": [
            "WARNING: Biblio already has a \"Tipo\" column\n"
          ],
          "name": "stdout"
        }
      ]
    },
    {
      "metadata": {
        "id": "lnS28xGmuQp5",
        "colab_type": "code",
        "outputId": "5fc5f59a-5f98-4f6d-fbfa-7708d4d00259",
        "colab": {
          "base_uri": "https://localhost:8080/",
          "height": 35
        }
      },
      "cell_type": "code",
      "source": [
        "print('before merge: {}'.format( UDEA.WOS.shape[0]+UDEA.SCI.shape[0]+UDEA.SCP.shape[0] )  )\n"
      ],
      "execution_count": 10,
      "outputs": [
        {
          "output_type": "stream",
          "text": [
            "before merge: 24676\n"
          ],
          "name": "stdout"
        }
      ]
    },
    {
      "metadata": {
        "id": "3yKWoYAMdm0J",
        "colab_type": "text"
      },
      "cell_type": "markdown",
      "source": [
        "### WOS+SCI"
      ]
    },
    {
      "metadata": {
        "id": "zsCnv55UuyNi",
        "colab_type": "code",
        "outputId": "51d7a95d-8792-4c3c-839e-3d1806a7a80b",
        "colab": {
          "base_uri": "https://localhost:8080/",
          "height": 984
        }
      },
      "cell_type": "code",
      "source": [
        "UDEA.merge(left='WOS',right='SCI')"
      ],
      "execution_count": 11,
      "outputs": [
        {
          "output_type": "stream",
          "text": [
            "."
          ],
          "name": "stdout"
        },
        {
          "output_type": "error",
          "ename": "ModuleNotFoundError",
          "evalue": "ignored",
          "traceback": [
            "\u001b[0;31m---------------------------------------------------------------------------\u001b[0m",
            "\u001b[0;31mModuleNotFoundError\u001b[0m                       Traceback (most recent call last)",
            "\u001b[0;32m<ipython-input-11-cefc7eca6910>\u001b[0m in \u001b[0;36m<module>\u001b[0;34m()\u001b[0m\n\u001b[0;32m----> 1\u001b[0;31m \u001b[0mUDEA\u001b[0m\u001b[0;34m.\u001b[0m\u001b[0mmerge\u001b[0m\u001b[0;34m(\u001b[0m\u001b[0mleft\u001b[0m\u001b[0;34m=\u001b[0m\u001b[0;34m'WOS'\u001b[0m\u001b[0;34m,\u001b[0m\u001b[0mright\u001b[0m\u001b[0;34m=\u001b[0m\u001b[0;34m'SCI'\u001b[0m\u001b[0;34m)\u001b[0m\u001b[0;34m\u001b[0m\u001b[0;34m\u001b[0m\u001b[0m\n\u001b[0m",
            "\u001b[0;32m/content/drive/My Drive/wosplus/wosplus/wosplus.py\u001b[0m in \u001b[0;36mmerge\u001b[0;34m(self, left, right, right_DOI, right_TI, right_extra_journal, right_author, right_year, DEBUG)\u001b[0m\n\u001b[1;32m    394\u001b[0m                                   \u001b[0mleft_series\u001b[0m\u001b[0;34m=\u001b[0m\u001b[0mLEFT_series\u001b[0m\u001b[0;34m,\u001b[0m\u001b[0mright_series\u001b[0m\u001b[0;34m=\u001b[0m\u001b[0mRIGHT_series\u001b[0m\u001b[0;34m,\u001b[0m\u001b[0;31m\\\u001b[0m\u001b[0;34m\u001b[0m\u001b[0;34m\u001b[0m\u001b[0m\n\u001b[1;32m    395\u001b[0m                                   \u001b[0mleft_extra_on\u001b[0m\u001b[0;34m=\u001b[0m\u001b[0mleft_extra_journal\u001b[0m\u001b[0;34m,\u001b[0m\u001b[0mright_extra_on\u001b[0m\u001b[0;34m=\u001b[0m\u001b[0mright_extra_journal\u001b[0m\u001b[0;34m,\u001b[0m\u001b[0;31m\\\u001b[0m\u001b[0;34m\u001b[0m\u001b[0;34m\u001b[0m\u001b[0m\n\u001b[0;32m--> 396\u001b[0;31m                                   close_matches=True,cutoff=0.6)\n\u001b[0m\u001b[1;32m    397\u001b[0m             \u001b[0;32mif\u001b[0m \u001b[0mLR\u001b[0m\u001b[0;34m[\u001b[0m\u001b[0;36m0\u001b[0m\u001b[0;34m]\u001b[0m\u001b[0;34m.\u001b[0m\u001b[0mshape\u001b[0m\u001b[0;34m[\u001b[0m\u001b[0;36m0\u001b[0m\u001b[0;34m]\u001b[0m\u001b[0;34m:\u001b[0m\u001b[0;34m\u001b[0m\u001b[0;34m\u001b[0m\u001b[0m\n\u001b[1;32m    398\u001b[0m                 \u001b[0minner\u001b[0m\u001b[0;34m,\u001b[0m\u001b[0mnew_LEFT\u001b[0m\u001b[0;34m,\u001b[0m\u001b[0mnew_RIGHT\u001b[0m\u001b[0;34m=\u001b[0m\u001b[0mLR\u001b[0m\u001b[0;34m\u001b[0m\u001b[0;34m\u001b[0m\u001b[0m\n",
            "\u001b[0;32m/content/drive/My Drive/wosplus/wosplus/wosplus.py\u001b[0m in \u001b[0;36mmerge_inner_interior_exterior\u001b[0;34m(LEFT, RIGHT, on_condition, left_on, right_on, left_series, right_series, left_extra_on, right_extra_on, close_matches, cutoff, cutoff_extra)\u001b[0m\n\u001b[1;32m     48\u001b[0m                                    \u001b[0mleft_series\u001b[0m\u001b[0;34m=\u001b[0m\u001b[0mleft_series\u001b[0m\u001b[0;34m,\u001b[0m\u001b[0mright_series\u001b[0m\u001b[0;34m=\u001b[0m\u001b[0mright_series\u001b[0m\u001b[0;34m,\u001b[0m\u001b[0;31m\\\u001b[0m\u001b[0;34m\u001b[0m\u001b[0;34m\u001b[0m\u001b[0m\n\u001b[1;32m     49\u001b[0m                                    \u001b[0mleft_extra_on\u001b[0m\u001b[0;34m=\u001b[0m\u001b[0mleft_extra_on\u001b[0m\u001b[0;34m,\u001b[0m\u001b[0mright_extra_on\u001b[0m\u001b[0;34m=\u001b[0m\u001b[0mright_extra_on\u001b[0m\u001b[0;34m,\u001b[0m\u001b[0;31m\\\u001b[0m\u001b[0;34m\u001b[0m\u001b[0;34m\u001b[0m\u001b[0m\n\u001b[0;32m---> 50\u001b[0;31m                                    close_matches=close_matches,cutoff=cutoff,cutoff_extra=cutoff_extra)\n\u001b[0m\u001b[1;32m     51\u001b[0m         \u001b[0;32mif\u001b[0m \u001b[0mLEFT\u001b[0m\u001b[0;34m.\u001b[0m\u001b[0mshape\u001b[0m\u001b[0;34m[\u001b[0m\u001b[0;36m0\u001b[0m\u001b[0;34m]\u001b[0m\u001b[0;34m>=\u001b[0m\u001b[0minterior\u001b[0m\u001b[0;34m.\u001b[0m\u001b[0mshape\u001b[0m\u001b[0;34m[\u001b[0m\u001b[0;36m0\u001b[0m\u001b[0;34m]\u001b[0m \u001b[0;32mand\u001b[0m \u001b[0mRIGHT\u001b[0m\u001b[0;34m.\u001b[0m\u001b[0mshape\u001b[0m\u001b[0;34m[\u001b[0m\u001b[0;36m0\u001b[0m\u001b[0;34m]\u001b[0m\u001b[0;34m>=\u001b[0m\u001b[0mexterior\u001b[0m\u001b[0;34m.\u001b[0m\u001b[0mshape\u001b[0m\u001b[0;34m[\u001b[0m\u001b[0;36m0\u001b[0m\u001b[0;34m]\u001b[0m\u001b[0;34m:\u001b[0m\u001b[0;34m\u001b[0m\u001b[0;34m\u001b[0m\u001b[0m\n\u001b[1;32m     52\u001b[0m             \u001b[0;32mreturn\u001b[0m \u001b[0minner\u001b[0m\u001b[0;34m.\u001b[0m\u001b[0mreset_index\u001b[0m\u001b[0;34m(\u001b[0m\u001b[0mdrop\u001b[0m\u001b[0;34m=\u001b[0m\u001b[0;32mTrue\u001b[0m\u001b[0;34m)\u001b[0m\u001b[0;34m,\u001b[0m\u001b[0minterior\u001b[0m\u001b[0;34m.\u001b[0m\u001b[0mreset_index\u001b[0m\u001b[0;34m(\u001b[0m\u001b[0mdrop\u001b[0m\u001b[0;34m=\u001b[0m\u001b[0;32mTrue\u001b[0m\u001b[0;34m)\u001b[0m\u001b[0;34m,\u001b[0m\u001b[0mexterior\u001b[0m\u001b[0;34m.\u001b[0m\u001b[0mreset_index\u001b[0m\u001b[0;34m(\u001b[0m\u001b[0mdrop\u001b[0m\u001b[0;34m=\u001b[0m\u001b[0;32mTrue\u001b[0m\u001b[0;34m)\u001b[0m\u001b[0;34m\u001b[0m\u001b[0;34m\u001b[0m\u001b[0m\n",
            "\u001b[0;32m/content/drive/My Drive/wosplus/wosplus/_merge_tools.py\u001b[0m in \u001b[0;36mmerge_by_series\u001b[0;34m(left, right, left_on, right_on, left_series, right_series, left_extra_on, right_extra_on, close_matches, cutoff, cutoff_extra)\u001b[0m\n\u001b[1;32m     81\u001b[0m         kk=fill_NaN( merge_with_close_matches(left,right,left_on=left_on,right_on=right_on,\\\n\u001b[1;32m     82\u001b[0m             \u001b[0mleft_extra_on\u001b[0m\u001b[0;34m=\u001b[0m\u001b[0mleft_extra_on\u001b[0m\u001b[0;34m,\u001b[0m\u001b[0mright_extra_on\u001b[0m\u001b[0;34m=\u001b[0m\u001b[0mright_extra_on\u001b[0m\u001b[0;34m,\u001b[0m\u001b[0mhow\u001b[0m\u001b[0;34m=\u001b[0m\u001b[0;34m'outer'\u001b[0m\u001b[0;34m,\u001b[0m\u001b[0mcutoff\u001b[0m\u001b[0;34m=\u001b[0m\u001b[0mcutoff\u001b[0m\u001b[0;34m,\u001b[0m\u001b[0mfull\u001b[0m\u001b[0;34m=\u001b[0m\u001b[0;32mTrue\u001b[0m\u001b[0;34m,\u001b[0m\u001b[0;31m\\\u001b[0m\u001b[0;34m\u001b[0m\u001b[0;34m\u001b[0m\u001b[0m\n\u001b[0;32m---> 83\u001b[0;31m                                       cutoff_extra=cutoff_extra) )        \n\u001b[0m\u001b[1;32m     84\u001b[0m \u001b[0;34m\u001b[0m\u001b[0m\n\u001b[1;32m     85\u001b[0m     \u001b[0mnew_left\u001b[0m\u001b[0;34m=\u001b[0m\u001b[0mkk\u001b[0m\u001b[0;34m[\u001b[0m\u001b[0mkk\u001b[0m\u001b[0;34m[\u001b[0m\u001b[0mright_on\u001b[0m\u001b[0;34m]\u001b[0m\u001b[0;34m==\u001b[0m\u001b[0;34m''\u001b[0m\u001b[0;34m]\u001b[0m\u001b[0;34m.\u001b[0m\u001b[0mdrop\u001b[0m\u001b[0;34m(\u001b[0m \u001b[0mright_keys\u001b[0m\u001b[0;34m,\u001b[0m\u001b[0maxis\u001b[0m\u001b[0;34m=\u001b[0m\u001b[0;34m'columns'\u001b[0m\u001b[0;34m)\u001b[0m\u001b[0;34m\u001b[0m\u001b[0;34m\u001b[0m\u001b[0m\n",
            "\u001b[0;32m/content/drive/My Drive/wosplus/wosplus/_wos_scp.py\u001b[0m in \u001b[0;36mmerge_with_close_matches\u001b[0;34m(left, right, left_on, right_on, left_extra_on, right_extra_on, how, n, cutoff, full, cutoff_extra)\u001b[0m\n\u001b[1;32m    166\u001b[0m         \u001b[0mjoined_series\u001b[0m\u001b[0;34m=\u001b[0m\u001b[0mleft\u001b[0m\u001b[0;34m.\u001b[0m\u001b[0mloc\u001b[0m\u001b[0;34m[\u001b[0m\u001b[0mi\u001b[0m\u001b[0;34m]\u001b[0m\u001b[0;34m\u001b[0m\u001b[0;34m\u001b[0m\u001b[0m\n\u001b[1;32m    167\u001b[0m         \u001b[0;31m#joined_series=joined_series.append(pd.Series( {similarity_column:0} ))\u001b[0m\u001b[0;34m\u001b[0m\u001b[0;34m\u001b[0m\u001b[0;34m\u001b[0m\u001b[0m\n\u001b[0;32m--> 168\u001b[0;31m         \u001b[0mtitle\u001b[0m\u001b[0;34m,\u001b[0m\u001b[0msimilarity\u001b[0m\u001b[0;34m=\u001b[0m\u001b[0mget_close_matches_Levenshtein\u001b[0m\u001b[0;34m(\u001b[0m\u001b[0mwords\u001b[0m\u001b[0;34m[\u001b[0m\u001b[0mi\u001b[0m\u001b[0;34m]\u001b[0m\u001b[0;34m,\u001b[0m\u001b[0mpossibilities\u001b[0m\u001b[0;34m,\u001b[0m\u001b[0mn\u001b[0m\u001b[0;34m=\u001b[0m\u001b[0mn\u001b[0m\u001b[0;34m,\u001b[0m\u001b[0mcutoff\u001b[0m\u001b[0;34m=\u001b[0m\u001b[0mcutoff\u001b[0m\u001b[0;34m,\u001b[0m\u001b[0mfull\u001b[0m\u001b[0;34m=\u001b[0m\u001b[0mfull\u001b[0m\u001b[0;34m)\u001b[0m\u001b[0;34m\u001b[0m\u001b[0;34m\u001b[0m\u001b[0m\n\u001b[0m\u001b[1;32m    169\u001b[0m         \u001b[0;31m#print(i,words[i],title,similarity) #cutuff 0.6 0.7 0.8 0.85 0.91 0.95\u001b[0m\u001b[0;34m\u001b[0m\u001b[0;34m\u001b[0m\u001b[0;34m\u001b[0m\u001b[0m\n\u001b[1;32m    170\u001b[0m         \u001b[0;31m#sys.exit()\u001b[0m\u001b[0;34m\u001b[0m\u001b[0;34m\u001b[0m\u001b[0;34m\u001b[0m\u001b[0m\n",
            "\u001b[0;32m/content/drive/My Drive/wosplus/wosplus/_wos_scp.py\u001b[0m in \u001b[0;36mget_close_matches_Levenshtein\u001b[0;34m(word, possibilities, n, cutoff, full)\u001b[0m\n\u001b[1;32m      9\u001b[0m     '''\n\u001b[1;32m     10\u001b[0m     \u001b[0;32mimport\u001b[0m \u001b[0mpandas\u001b[0m \u001b[0;32mas\u001b[0m \u001b[0mpd\u001b[0m\u001b[0;34m\u001b[0m\u001b[0;34m\u001b[0m\u001b[0m\n\u001b[0;32m---> 11\u001b[0;31m     \u001b[0;32mimport\u001b[0m \u001b[0mLevenshtein\u001b[0m\u001b[0;34m\u001b[0m\u001b[0;34m\u001b[0m\u001b[0m\n\u001b[0m\u001b[1;32m     12\u001b[0m     \u001b[0;32mif\u001b[0m \u001b[0misinstance\u001b[0m\u001b[0;34m(\u001b[0m\u001b[0mpossibilities\u001b[0m\u001b[0;34m,\u001b[0m\u001b[0mstr\u001b[0m\u001b[0;34m)\u001b[0m\u001b[0;34m:\u001b[0m\u001b[0;34m\u001b[0m\u001b[0;34m\u001b[0m\u001b[0m\n\u001b[1;32m     13\u001b[0m         \u001b[0mpossibilities\u001b[0m\u001b[0;34m=\u001b[0m\u001b[0;34m[\u001b[0m\u001b[0mpossibilities\u001b[0m\u001b[0;34m]\u001b[0m\u001b[0;34m\u001b[0m\u001b[0;34m\u001b[0m\u001b[0m\n",
            "\u001b[0;31mModuleNotFoundError\u001b[0m: No module named 'Levenshtein'",
            "",
            "\u001b[0;31m---------------------------------------------------------------------------\u001b[0;32m\nNOTE: If your import is failing due to a missing package, you can\nmanually install dependencies using either !pip or !apt.\n\nTo view examples of installing some common dependencies, click the\n\"Open Examples\" button below.\n\u001b[0;31m---------------------------------------------------------------------------\u001b[0m\n"
          ]
        }
      ]
    },
    {
      "metadata": {
        "id": "rDuqS3Muds3R",
        "colab_type": "text"
      },
      "cell_type": "markdown",
      "source": [
        "### WOS+SCI+SCP"
      ]
    },
    {
      "metadata": {
        "id": "XbpNjT40u83f",
        "colab_type": "code",
        "outputId": "f7a0c3f2-448f-456e-f1e2-dc70c8dc9a6b",
        "colab": {
          "base_uri": "https://localhost:8080/",
          "height": 54
        }
      },
      "cell_type": "code",
      "source": [
        "UDEA.merge(left='WOS_SCI',right='SCP')"
      ],
      "execution_count": 0,
      "outputs": [
        {
          "output_type": "stream",
          "text": [
            "................................................................................................................................................................................................................"
          ],
          "name": "stdout"
        }
      ]
    },
    {
      "metadata": {
        "id": "f5eF0y50vLrm",
        "colab_type": "code",
        "outputId": "3c02700b-df3a-406e-adf8-06d11039ff01",
        "colab": {
          "base_uri": "https://localhost:8080/",
          "height": 34
        }
      },
      "cell_type": "code",
      "source": [
        "print( 'after merge: {}'.format(UDEA.WOS_SCI_SCP.shape[0]))"
      ],
      "execution_count": 0,
      "outputs": [
        {
          "output_type": "stream",
          "text": [
            "after merge: 15504\n"
          ],
          "name": "stdout"
        }
      ]
    },
    {
      "metadata": {
        "id": "R503IhFiaFbA",
        "colab_type": "code",
        "colab": {}
      },
      "cell_type": "code",
      "source": [
        "UDEA.WOS_SCI_SCP.to_excel('UDEA_WOS_SCI_SCP.xlsx',index=False)"
      ],
      "execution_count": 0,
      "outputs": []
    },
    {
      "metadata": {
        "id": "Xlb-50u2a3ib",
        "colab_type": "text"
      },
      "cell_type": "markdown",
      "source": [
        "See the resulting Excel file by opening the side bar → Files → REFRESH and right click for Download upon the generated  \"'UDEA_WOS_SCI_SCP.xlsx'\" fille, or just check the corresponsing DataFrame:"
      ]
    },
    {
      "metadata": {
        "id": "CN8Rl9rdfASF",
        "colab_type": "code",
        "outputId": "fe0660cc-a971-41a8-8e35-0d2f74eef5ae",
        "colab": {
          "base_uri": "https://localhost:8080/",
          "height": 156
        }
      },
      "cell_type": "code",
      "source": [
        "UDEA.WOS_SCI_SCP.sample()"
      ],
      "execution_count": 0,
      "outputs": [
        {
          "output_type": "execute_result",
          "data": {
            "text/html": [
              "<div>\n",
              "<style scoped>\n",
              "    .dataframe tbody tr th:only-of-type {\n",
              "        vertical-align: middle;\n",
              "    }\n",
              "\n",
              "    .dataframe tbody tr th {\n",
              "        vertical-align: top;\n",
              "    }\n",
              "\n",
              "    .dataframe thead th {\n",
              "        text-align: right;\n",
              "    }\n",
              "</style>\n",
              "<table border=\"1\" class=\"dataframe\">\n",
              "  <thead>\n",
              "    <tr style=\"text-align: right;\">\n",
              "      <th></th>\n",
              "      <th>AB</th>\n",
              "      <th>AF</th>\n",
              "      <th>AR</th>\n",
              "      <th>AU</th>\n",
              "      <th>BA</th>\n",
              "      <th>BE</th>\n",
              "      <th>BF</th>\n",
              "      <th>BN</th>\n",
              "      <th>BP</th>\n",
              "      <th>C1</th>\n",
              "      <th>...</th>\n",
              "      <th>SU</th>\n",
              "      <th>TC</th>\n",
              "      <th>TI</th>\n",
              "      <th>Tipo</th>\n",
              "      <th>U1</th>\n",
              "      <th>U2</th>\n",
              "      <th>UT</th>\n",
              "      <th>VL</th>\n",
              "      <th>WC</th>\n",
              "      <th>Z9</th>\n",
              "    </tr>\n",
              "  </thead>\n",
              "  <tbody>\n",
              "    <tr>\n",
              "      <th>568</th>\n",
              "      <td></td>\n",
              "      <td>Vasquez, E.\\nFranco, J. L.\\nOrrego, J. C.\\n</td>\n",
              "      <td></td>\n",
              "      <td>Vasquez, E\\nFranco, JL\\nOrrego, JC\\n</td>\n",
              "      <td></td>\n",
              "      <td></td>\n",
              "      <td></td>\n",
              "      <td></td>\n",
              "      <td>S126\\n</td>\n",
              "      <td>[Vasquez, E.; Franco, J. L.; Orrego, J. C.] Un...</td>\n",
              "      <td>...</td>\n",
              "      <td>3\\n</td>\n",
              "      <td>0.0</td>\n",
              "      <td>Subcutaneous (SCIg) Gammaglobulin for the Trea...</td>\n",
              "      <td>WOS</td>\n",
              "      <td>0.0</td>\n",
              "      <td>0.0</td>\n",
              "      <td>WOS:000347388100064\\n</td>\n",
              "      <td>33\\n</td>\n",
              "      <td>Immunology\\n</td>\n",
              "      <td>0.0</td>\n",
              "    </tr>\n",
              "  </tbody>\n",
              "</table>\n",
              "<p>1 rows × 154 columns</p>\n",
              "</div>"
            ],
            "text/plain": [
              "    AB                                           AF AR  \\\n",
              "568     Vasquez, E.\\nFranco, J. L.\\nOrrego, J. C.\\n      \n",
              "\n",
              "                                       AU BA BE BF BN      BP  \\\n",
              "568  Vasquez, E\\nFranco, JL\\nOrrego, JC\\n              S126\\n   \n",
              "\n",
              "                                                    C1 ...    SU   TC  \\\n",
              "568  [Vasquez, E.; Franco, J. L.; Orrego, J. C.] Un... ...   3\\n  0.0   \n",
              "\n",
              "                                                    TI Tipo   U1   U2  \\\n",
              "568  Subcutaneous (SCIg) Gammaglobulin for the Trea...  WOS  0.0  0.0   \n",
              "\n",
              "                        UT    VL            WC   Z9  \n",
              "568  WOS:000347388100064\\n  33\\n  Immunology\\n  0.0  \n",
              "\n",
              "[1 rows x 154 columns]"
            ]
          },
          "metadata": {
            "tags": []
          },
          "execution_count": 14
        }
      ]
    },
    {
      "metadata": {
        "id": "ju7yZPvOrT8V",
        "colab_type": "code",
        "colab": {}
      },
      "cell_type": "code",
      "source": [
        ""
      ],
      "execution_count": 0,
      "outputs": []
    },
    {
      "metadata": {
        "id": "xbtsF0Vn5IeJ",
        "colab_type": "text"
      },
      "cell_type": "markdown",
      "source": [
        "## Load merged database"
      ]
    },
    {
      "metadata": {
        "id": "0p_GDpIe5NNt",
        "colab_type": "code",
        "colab": {}
      },
      "cell_type": "code",
      "source": [
        "udea=wp.wosplus('drive.cfg')"
      ],
      "execution_count": 0,
      "outputs": []
    },
    {
      "metadata": {
        "id": "PAB08BZa5b-8",
        "colab_type": "code",
        "colab": {}
      },
      "cell_type": "code",
      "source": [
        "#udea.load_biblio('UDEA_WOS_SCI_SCP.xlsx')"
      ],
      "execution_count": 0,
      "outputs": []
    },
    {
      "metadata": {
        "id": "dzTWh46t5dLa",
        "colab_type": "code",
        "colab": {}
      },
      "cell_type": "code",
      "source": [
        "UDEA=udea.read_drive_excel('UDEA_WOS_SCI_SCP.xlsx')"
      ],
      "execution_count": 0,
      "outputs": []
    },
    {
      "metadata": {
        "id": "RwPiIZyf6ci0",
        "colab_type": "code",
        "colab": {}
      },
      "cell_type": "code",
      "source": [
        "UDEA=UDEA.fillna('')"
      ],
      "execution_count": 0,
      "outputs": []
    },
    {
      "metadata": {
        "id": "ZWK5wJdC7sVj",
        "colab_type": "code",
        "outputId": "3b8c6f20-d419-48e0-d226-e38405f89765",
        "colab": {
          "base_uri": "https://localhost:8080/",
          "height": 35
        }
      },
      "cell_type": "code",
      "source": [
        "wp.df_split( UDEA, 'DI',Operator='!=',condition='')[0].shape"
      ],
      "execution_count": 0,
      "outputs": [
        {
          "output_type": "execute_result",
          "data": {
            "text/plain": [
              "(7993, 154)"
            ]
          },
          "metadata": {
            "tags": []
          },
          "execution_count": 21
        }
      ]
    },
    {
      "metadata": {
        "id": "yoGRnRCr6s8R",
        "colab_type": "code",
        "outputId": "74f97b16-4bc1-48f4-e025-932247d216da",
        "colab": {
          "base_uri": "https://localhost:8080/",
          "height": 72
        }
      },
      "cell_type": "code",
      "source": [
        "for t in ['WOS','SCI','SCP']:\n",
        "    print( 'DOIS {}: {}'.format(t,\n",
        "        wp.df_split( UDEA[ UDEA.Tipo.str.contains(t) ], 'DI',Operator='!=',condition='')[0].shape) )"
      ],
      "execution_count": 0,
      "outputs": [
        {
          "output_type": "stream",
          "text": [
            "DOIS WOS: (6025, 154)\n",
            "DOIS SCI: (1409, 154)\n",
            "DOIS SCP: (6955, 154)\n"
          ],
          "name": "stdout"
        }
      ]
    },
    {
      "metadata": {
        "id": "JsNaXsty60k4",
        "colab_type": "code",
        "outputId": "b8630d80-6660-46b8-f12b-d9406a90765a",
        "colab": {
          "base_uri": "https://localhost:8080/",
          "height": 35
        }
      },
      "cell_type": "code",
      "source": [
        "y.shape"
      ],
      "execution_count": 0,
      "outputs": [
        {
          "output_type": "execute_result",
          "data": {
            "text/plain": [
              "(6025, 154)"
            ]
          },
          "metadata": {
            "tags": []
          },
          "execution_count": 19
        }
      ]
    },
    {
      "metadata": {
        "id": "feV_64CK7VEp",
        "colab_type": "code",
        "colab": {}
      },
      "cell_type": "code",
      "source": [
        ""
      ],
      "execution_count": 0,
      "outputs": []
    }
  ]
}