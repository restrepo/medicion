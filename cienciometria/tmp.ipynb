{
 "cells": [
  {
   "cell_type": "code",
   "execution_count": 1,
   "metadata": {
    "collapsed": true
   },
   "outputs": [],
   "source": [
    "import wosplus as wp"
   ]
  },
  {
   "cell_type": "code",
   "execution_count": 2,
   "metadata": {},
   "outputs": [
    {
     "name": "stdout",
     "output_type": "stream",
     "text": [
      "Overwriting drive.cfg\n"
     ]
    }
   ],
   "source": [
    "%%writefile drive.cfg\n",
    "[FILES]\n",
    "DOIS.xlsx               = 1bikNT7Gmp4G7dfeMuGsF-az7D8lskK0O\n",
    "Sample_WOS.xlsx         = 1--LJZ4mYyQcaJ93xBdbnYj-ZzdjO2Wq2\n",
    "UDEA_WOS_SCI_SCP.xlsx   = 1o9otmklgh-0w18Avv2ZTKOXr3vZbjwvj\n",
    "oaudea.xlsx             = 1CcwobiEFACIbffNzNdLxpdxQukr8cZ5x\n",
    "datos1.csv              = 11CyLRZZwVbgw6YAC-igRJ3mrkIwk0aaiXnd-EOofYTI\n",
    "oadoi_udea.json         = 1s508qokcIkz-i1Y4Ukbdht-jWuSVngON\n",
    "gasall.json             = 1W5T6OYxSKnkshGwFjt6BR1VJ64Qa9Y5a\n",
    "gastall.json            = 1O7sC5SCOsEGPkWbclcNn4B48V0zy8-bK"
   ]
  },
  {
   "cell_type": "code",
   "execution_count": 3,
   "metadata": {
    "collapsed": true
   },
   "outputs": [],
   "source": [
    "oa=wp.wosplus('drive.cfg')"
   ]
  },
  {
   "cell_type": "code",
   "execution_count": 4,
   "metadata": {
    "collapsed": true
   },
   "outputs": [],
   "source": [
    "oaudea=oa.read_drive_excel('oaudea.xlsx')"
   ]
  },
  {
   "cell_type": "code",
   "execution_count": 5,
   "metadata": {
    "collapsed": true
   },
   "outputs": [],
   "source": [
    "oaudea=wp.fill_NaN(oaudea)"
   ]
  },
  {
   "cell_type": "code",
   "execution_count": 6,
   "metadata": {
    "collapsed": true
   },
   "outputs": [],
   "source": [
    "oaudea=oaudea.drop_duplicates('DI').reset_index(drop=True)"
   ]
  },
  {
   "cell_type": "code",
   "execution_count": 7,
   "metadata": {
    "collapsed": true
   },
   "outputs": [],
   "source": [
    "oaudeay,oaudean=wp.df_split(oaudea,on='APC',Operator='!=',condition='')"
   ]
  },
  {
   "cell_type": "code",
   "execution_count": 8,
   "metadata": {},
   "outputs": [
    {
     "data": {
      "text/plain": [
       "(1987,)"
      ]
     },
     "execution_count": 8,
     "metadata": {},
     "output_type": "execute_result"
    }
   ],
   "source": [
    "oaudeay.APC.shape"
   ]
  },
  {
   "cell_type": "code",
   "execution_count": 9,
   "metadata": {
    "collapsed": true
   },
   "outputs": [],
   "source": [
    "udea=oa.read_drive_json('oadoi_udea.json')"
   ]
  },
  {
   "cell_type": "code",
   "execution_count": 10,
   "metadata": {
    "collapsed": true
   },
   "outputs": [],
   "source": [
    "gs=oa.read_drive_json('gasall.json')\n",
    "gst=oa.read_drive_json('gastall.json')"
   ]
  },
  {
   "cell_type": "code",
   "execution_count": 11,
   "metadata": {
    "collapsed": true
   },
   "outputs": [],
   "source": [
    "gs=wp.fill_NaN(gs)\n",
    "gst=wp.fill_NaN(gst)"
   ]
  },
  {
   "cell_type": "code",
   "execution_count": 12,
   "metadata": {
    "collapsed": true
   },
   "outputs": [],
   "source": [
    "import time\n",
    "import random\n",
    "import pandas as pd"
   ]
  },
  {
   "cell_type": "code",
   "execution_count": 13,
   "metadata": {},
   "outputs": [
    {
     "data": {
      "text/plain": [
       "Index(['APC', 'APC_USD', 'DI', 'ISSNWOS', 'ISSNs', 'OAGISSN', 'OA_Green',\n",
       "       'OA_Green_Article', 'OA_Yellow', 'Open_Access'],\n",
       "      dtype='object')"
      ]
     },
     "execution_count": 13,
     "metadata": {},
     "output_type": "execute_result"
    }
   ],
   "source": [
    "oaudea.columns"
   ]
  },
  {
   "cell_type": "code",
   "execution_count": 14,
   "metadata": {},
   "outputs": [
    {
     "data": {
      "text/plain": [
       "Index(['best_oa_location', 'data_standard', 'doi', 'doi_url', 'genre', 'is_oa',\n",
       "       'journal_is_in_doaj', 'journal_is_oa', 'journal_issns', 'journal_name',\n",
       "       'oa_locations', 'published_date', 'publisher', 'title', 'updated',\n",
       "       'year', 'z_authors'],\n",
       "      dtype='object')"
      ]
     },
     "execution_count": 14,
     "metadata": {},
     "output_type": "execute_result"
    }
   ],
   "source": [
    "udea.columns"
   ]
  },
  {
   "cell_type": "code",
   "execution_count": 15,
   "metadata": {},
   "outputs": [
    {
     "data": {
      "text/plain": [
       "Index(['DOI', 'Journal', 'Year', 'abstract', 'authors', 'cites', 'cites_link',\n",
       "       'profiles', 'quality_author', 'quality_title', 'ref', 'title'],\n",
       "      dtype='object')"
      ]
     },
     "execution_count": 15,
     "metadata": {},
     "output_type": "execute_result"
    }
   ],
   "source": [
    "gs.columns"
   ]
  },
  {
   "cell_type": "markdown",
   "metadata": {},
   "source": [
    "Rebuild doi search"
   ]
  },
  {
   "cell_type": "code",
   "execution_count": 55,
   "metadata": {
    "collapsed": true
   },
   "outputs": [],
   "source": [
    "gsrebuild=pd.DataFrame()"
   ]
  },
  {
   "cell_type": "code",
   "execution_count": 56,
   "metadata": {
    "collapsed": true
   },
   "outputs": [],
   "source": [
    "gsy,gsn=wp.df_split(gs,on='title',Operator='!=',condition='')"
   ]
  },
  {
   "cell_type": "code",
   "execution_count": 57,
   "metadata": {
    "collapsed": true
   },
   "outputs": [],
   "source": [
    "gsy=gsy.drop_duplicates('DOI').reset_index(drop=True)"
   ]
  },
  {
   "cell_type": "code",
   "execution_count": 58,
   "metadata": {
    "collapsed": true
   },
   "outputs": [],
   "source": [
    "gsrebuild=gsrebuild.append(gsy).reset_index(drop=True)"
   ]
  },
  {
   "cell_type": "code",
   "execution_count": 59,
   "metadata": {
    "collapsed": true
   },
   "outputs": [],
   "source": [
    "gsny,gsnn=wp.df_split(gsn,on='authors',Operator='!=',condition='')"
   ]
  },
  {
   "cell_type": "code",
   "execution_count": 60,
   "metadata": {
    "collapsed": true
   },
   "outputs": [],
   "source": [
    "gsny.to_json('bt.json') #bat titles"
   ]
  },
  {
   "cell_type": "code",
   "execution_count": 61,
   "metadata": {
    "collapsed": true
   },
   "outputs": [],
   "source": [
    "gsrebuild=gsrebuild.append( pd.read_json('gt.json')).reset_index(drop=True)"
   ]
  },
  {
   "cell_type": "code",
   "execution_count": 62,
   "metadata": {},
   "outputs": [
    {
     "data": {
      "text/plain": [
       "(1272, 14)"
      ]
     },
     "execution_count": 62,
     "metadata": {},
     "output_type": "execute_result"
    }
   ],
   "source": [
    "gsrebuild.shape"
   ]
  },
  {
   "cell_type": "code",
   "execution_count": 63,
   "metadata": {
    "collapsed": true
   },
   "outputs": [],
   "source": [
    "#gsnn.drop_duplicates('DOI').reset_index(drop=True).to_json('md.json') # -> generates gas1.json"
   ]
  },
  {
   "cell_type": "code",
   "execution_count": 64,
   "metadata": {
    "collapsed": true
   },
   "outputs": [],
   "source": [
    "newgsnn=pd.read_json('gas1.json').sort_index()"
   ]
  },
  {
   "cell_type": "code",
   "execution_count": 65,
   "metadata": {},
   "outputs": [
    {
     "data": {
      "text/plain": [
       "(491, 12)"
      ]
     },
     "execution_count": 65,
     "metadata": {},
     "output_type": "execute_result"
    }
   ],
   "source": [
    "gsnn.shape"
   ]
  },
  {
   "cell_type": "code",
   "execution_count": 66,
   "metadata": {
    "collapsed": true
   },
   "outputs": [],
   "source": [
    "newgsnn=gsnn[['DOI']].merge(newgsnn,on='DOI',how='left').reset_index(drop=True)"
   ]
  },
  {
   "cell_type": "code",
   "execution_count": 67,
   "metadata": {
    "collapsed": true
   },
   "outputs": [],
   "source": [
    "newgsnny=newgsnn[~newgsnn.title.isnull()].reset_index(drop=True)\n",
    "newgsnnn=newgsnn[newgsnn.title.isnull()].reset_index(drop=True)"
   ]
  },
  {
   "cell_type": "code",
   "execution_count": 68,
   "metadata": {},
   "outputs": [
    {
     "data": {
      "text/plain": [
       "(1272, 14)"
      ]
     },
     "execution_count": 68,
     "metadata": {},
     "output_type": "execute_result"
    }
   ],
   "source": [
    "gsrebuild.shape"
   ]
  },
  {
   "cell_type": "code",
   "execution_count": 69,
   "metadata": {},
   "outputs": [],
   "source": [
    "gsrebuild=gsrebuild.append(newgsnny).reset_index(drop=True)"
   ]
  },
  {
   "cell_type": "code",
   "execution_count": 90,
   "metadata": {},
   "outputs": [],
   "source": [
    "gsrebuild.to_json('gas1.json')"
   ]
  },
  {
   "cell_type": "code",
   "execution_count": 92,
   "metadata": {},
   "outputs": [
    {
     "data": {
      "text/plain": [
       "(1283, 14)"
      ]
     },
     "execution_count": 92,
     "metadata": {},
     "output_type": "execute_result"
    }
   ],
   "source": [
    "pd.read_json('gas1.json').drop_duplicates('DOI').shape"
   ]
  },
  {
   "cell_type": "code",
   "execution_count": 88,
   "metadata": {},
   "outputs": [
    {
     "data": {
      "text/plain": [
       "(1283, 14)"
      ]
     },
     "execution_count": 88,
     "metadata": {},
     "output_type": "execute_result"
    }
   ],
   "source": [
    "gsrebuild.drop_duplicates('DOI').shape"
   ]
  },
  {
   "cell_type": "code",
   "execution_count": 87,
   "metadata": {},
   "outputs": [
    {
     "data": {
      "text/plain": [
       "(26, 12)"
      ]
     },
     "execution_count": 87,
     "metadata": {},
     "output_type": "execute_result"
    }
   ],
   "source": [
    "gst[gst.title!=''].shape"
   ]
  },
  {
   "cell_type": "code",
   "execution_count": 89,
   "metadata": {},
   "outputs": [
    {
     "data": {
      "text/plain": [
       "(1283, 14)"
      ]
     },
     "execution_count": 89,
     "metadata": {},
     "output_type": "execute_result"
    }
   ],
   "source": [
    "gsrebuild.append(  gst[gst.title!='']    ).drop_duplicates('DOI').shape"
   ]
  },
  {
   "cell_type": "markdown",
   "metadata": {},
   "source": [
    "Data to be rebuild without duplicated DOIs"
   ]
  },
  {
   "cell_type": "code",
   "execution_count": 51,
   "metadata": {},
   "outputs": [
    {
     "name": "stdout",
     "output_type": "stream",
     "text": [
      "-rw-r--r-- 1 restrepo restrepo   5959 Nov 17 11:13 gt.json\r\n",
      "-rw-r--r-- 1 restrepo restrepo   5959 Nov 17 11:08 gsta.json\r\n",
      "-rw-r--r-- 1 restrepo restrepo   2849 Nov 16 16:20 bt.json\r\n",
      "-rw-r--r-- 1 restrepo restrepo  85529 Nov 16 16:09 md.json\r\n",
      "-rw-r--r-- 1 restrepo restrepo 335415 Nov 16 08:52 gas1.json\r\n"
     ]
    }
   ],
   "source": [
    "ls -lt *.json"
   ]
  },
  {
   "cell_type": "code",
   "execution_count": 54,
   "metadata": {},
   "outputs": [
    {
     "data": {
      "text/plain": [
       "(472, 13)"
      ]
     },
     "execution_count": 54,
     "metadata": {},
     "output_type": "execute_result"
    }
   ],
   "source": [
    "pd.read_json('gas1.json').sort_index().shape"
   ]
  },
  {
   "cell_type": "code",
   "execution_count": 55,
   "metadata": {},
   "outputs": [
    {
     "data": {
      "text/plain": [
       "(491, 12)"
      ]
     },
     "execution_count": 55,
     "metadata": {},
     "output_type": "execute_result"
    }
   ],
   "source": [
    "gsnn.shape"
   ]
  },
  {
   "cell_type": "code",
   "execution_count": 49,
   "metadata": {},
   "outputs": [
    {
     "data": {
      "text/plain": [
       "(491, 12)"
      ]
     },
     "execution_count": 49,
     "metadata": {},
     "output_type": "execute_result"
    }
   ],
   "source": [
    "gsnn.shape"
   ]
  },
  {
   "cell_type": "code",
   "execution_count": null,
   "metadata": {
    "collapsed": true
   },
   "outputs": [],
   "source": [
    "gsy.shape[0]++gsnn.shape[0]+"
   ]
  },
  {
   "cell_type": "code",
   "execution_count": 21,
   "metadata": {
    "collapsed": true
   },
   "outputs": [],
   "source": [
    "df=pd.read_json('gas1.json').sort_index()\n",
    "\n",
    "md=df[df.title.isnull()].reset_index(drop=True)"
   ]
  },
  {
   "cell_type": "code",
   "execution_count": 22,
   "metadata": {
    "collapsed": true
   },
   "outputs": [],
   "source": [
    "tmp=md[['DOI']].merge(udea, left_on='DOI',right_on='doi',how='left')\n",
    "tmp=tmp.fillna('')\n",
    "gsnny,gsnnn=wp.df_split(tmp,on='title',Operator='!=',condition='')"
   ]
  },
  {
   "cell_type": "code",
   "execution_count": 25,
   "metadata": {
    "collapsed": true
   },
   "outputs": [],
   "source": [
    "tmp=pd.read_json('gsta.json').sort_index()"
   ]
  },
  {
   "cell_type": "code",
   "execution_count": 34,
   "metadata": {},
   "outputs": [
    {
     "data": {
      "text/plain": [
       "0     [HTML][HTML] Síndrome de hipersensibilidad a m...\n",
       "1     [HTML][HTML] El acoplamiento excitación-contra...\n",
       "2     [HTML][HTML] Challenges for the elimination of...\n",
       "3     Estudio seroepidemiológico del virus respirato...\n",
       "4                                                  None\n",
       "5     [HTML][HTML] Alteraciones en el reclutamiento ...\n",
       "6     [HTML][HTML] Iván Valdez-Bubnov, Poder Naval y...\n",
       "7     Low cost double optical tweezers to manipulate...\n",
       "8                                                  None\n",
       "9     Reporte de cinco casos de malaria neonatal gra...\n",
       "10    [HTML][HTML] Animales ponzoñosos en Latinoamérica\n",
       "11    [HTML][HTML] Evaluación de parámetros seminale...\n",
       "12                 Síndrome miasténico de Eaton-Lambert\n",
       "13                                                 None\n",
       "14    Aneuploidías del cromosoma 17 y deleción del G...\n",
       "15    Time-resolved resonant photoionization of He u...\n",
       "16    [PDF][PDF] Bases teóricas y aplicación clínica...\n",
       "17                                                 None\n",
       "18    PCR-RFLP y RAPD para la tipificación de Leishm...\n",
       "19    The p.T191M mutation of the CBS gene is highly...\n",
       "20    Room Temperature Magnetic Properties of the Me...\n",
       "21    Elimination kinetics of β‐hydroxynitriles in t...\n",
       "22                                                 None\n",
       "23    [HTML][HTML] Cellulolytic and Butyrivibrio fib...\n",
       "24    Differential galois groups and representation ...\n",
       "25    [HTML][HTML] Application of the logistic model...\n",
       "26    [PDF][PDF] Estimación de parámetros de curvas ...\n",
       "27    Improved mixing condition on the grid for coun...\n",
       "28    Research priorities for HIV/M. tuberculosis co...\n",
       "29                                                 None\n",
       "30    [HTML][HTML] Diagnóstico microscópico de neumo...\n",
       "31    Relación entre características de tipo y produ...\n",
       "32    Modelación de curvas de lactancia para producc...\n",
       "33    [HTML][HTML] Identificación de algunos genes a...\n",
       "34    [HTML][HTML] Evidence for the presence of mult...\n",
       "35    A new working formulation of non‐Hodgkin's lym...\n",
       "36    Efecto de la suplementación con grasas protegi...\n",
       "37    [HTML][HTML] Papel de las células dendríticas ...\n",
       "38    Uso de la actividad colinesterasa para el diag...\n",
       "39    Enteritis eosinofílica idiopática en una vaca ...\n",
       "40    [HTML][HTML] Natural Plasmodium knowlesi malar...\n",
       "41    [HTML][HTML] Estudio piloto de la eficacia y d...\n",
       "42    Reporte de cuatro casos de pacientes con síndr...\n",
       "43    [HTML][HTML] Antibodies against spotted fever ...\n",
       "44    [HTML][HTML] Effects of Kikuyu grass (Penniset...\n",
       "45                                                 None\n",
       "46    [HTML][HTML] Homozygosity and linkage-disequil...\n",
       "47    [HTML][HTML] Random regression models for milk...\n",
       "48    Variants in the estrogen receptor alpha gene a...\n",
       "Name: title, dtype: object"
      ]
     },
     "execution_count": 34,
     "metadata": {},
     "output_type": "execute_result"
    }
   ],
   "source": [
    "tmp.title"
   ]
  },
  {
   "cell_type": "code",
   "execution_count": 29,
   "metadata": {},
   "outputs": [
    {
     "data": {
      "text/plain": [
       "(491, 12)"
      ]
     },
     "execution_count": 29,
     "metadata": {},
     "output_type": "execute_result"
    }
   ],
   "source": [
    "gsnn.shape"
   ]
  },
  {
   "cell_type": "code",
   "execution_count": 27,
   "metadata": {},
   "outputs": [
    {
     "data": {
      "text/plain": [
       "(49, 18)"
      ]
     },
     "execution_count": 27,
     "metadata": {},
     "output_type": "execute_result"
    }
   ],
   "source": [
    "gsnny.shape"
   ]
  },
  {
   "cell_type": "code",
   "execution_count": 23,
   "metadata": {
    "collapsed": true
   },
   "outputs": [],
   "source": [
    "gsnny.to_json('md.json')"
   ]
  },
  {
   "cell_type": "code",
   "execution_count": 24,
   "metadata": {
    "collapsed": true
   },
   "outputs": [],
   "source": [
    "from bs4 import BeautifulSoup"
   ]
  },
  {
   "cell_type": "code",
   "execution_count": 25,
   "metadata": {
    "collapsed": true
   },
   "outputs": [],
   "source": [
    "import requests\n",
    "import re"
   ]
  },
  {
   "cell_type": "code",
   "execution_count": 104,
   "metadata": {
    "collapsed": true
   },
   "outputs": [],
   "source": [
    "r=requests.get('https://scholar.google.com.co/scholar?hl=en&as_sdt=0%2C5&q=%2210.1161%2Fstrokeaha.107.504019%22&btnG=')"
   ]
  },
  {
   "cell_type": "code",
   "execution_count": 131,
   "metadata": {
    "collapsed": true
   },
   "outputs": [],
   "source": [
    "r=requests.get('https://scholar.google.com.co/scholar?hl=en&as_sdt=0%2C5&q=%2210.1002%2Fapp.43996%22&oq=','lxml')"
   ]
  },
  {
   "cell_type": "code",
   "execution_count": 132,
   "metadata": {
    "collapsed": true
   },
   "outputs": [],
   "source": [
    "soup=BeautifulSoup(r.text,\"lxml\")"
   ]
  },
  {
   "cell_type": "code",
   "execution_count": 133,
   "metadata": {
    "collapsed": true
   },
   "outputs": [],
   "source": [
    "record=soup.find_all('div', {'class':'gs_ri' })[0]"
   ]
  },
  {
   "cell_type": "code",
   "execution_count": 134,
   "metadata": {},
   "outputs": [
    {
     "data": {
      "text/plain": [
       "'Styrene–hydroxyethyl acrylate copolymer based alkyd resins with a comb‐type structural morphology obtained with a high solid content'"
      ]
     },
     "execution_count": 134,
     "metadata": {},
     "output_type": "execute_result"
    }
   ],
   "source": [
    "record.find_all('h3',{\"class\":\"gs_rt\"})[0].text.split('[CITATION][C] ')[-1]"
   ]
  },
  {
   "cell_type": "code",
   "execution_count": 150,
   "metadata": {},
   "outputs": [
    {
     "data": {
      "text/plain": [
       "'https://onlinelibrary.wiley.com/doi/pdf/10.1002/app.43996'"
      ]
     },
     "execution_count": 150,
     "metadata": {},
     "output_type": "execute_result"
    }
   ],
   "source": [
    "soup.find_all('div',{\"class\":\"gs_or_ggsm\"})[0].find_all('a')[0].get(\"href\")"
   ]
  },
  {
   "cell_type": "code",
   "execution_count": 98,
   "metadata": {},
   "outputs": [
    {
     "data": {
      "text/plain": [
       "['Risk of aneurysmal subarachnoid hemorrhage: the role of confirmed hypertension']"
      ]
     },
     "execution_count": 98,
     "metadata": {},
     "output_type": "execute_result"
    }
   ],
   "source": [
    "[kk.text.split('[CITATION][C] ')[-1]]"
   ]
  },
  {
   "cell_type": "code",
   "execution_count": 124,
   "metadata": {},
   "outputs": [
    {
     "data": {
      "text/plain": [
       "'Styrene–hydroxyethyl acrylate copolymer based alkyd resins with a comb‐type structural morphology obtained with a high solid content'"
      ]
     },
     "execution_count": 124,
     "metadata": {},
     "output_type": "execute_result"
    }
   ],
   "source": [
    "record.find_all('a',{\"data-clk\":re.compile( \".*\")})[0].text"
   ]
  },
  {
   "cell_type": "code",
   "execution_count": 29,
   "metadata": {},
   "outputs": [
    {
     "data": {
      "text/html": [
       "<div>\n",
       "<style scoped>\n",
       "    .dataframe tbody tr th:only-of-type {\n",
       "        vertical-align: middle;\n",
       "    }\n",
       "\n",
       "    .dataframe tbody tr th {\n",
       "        vertical-align: top;\n",
       "    }\n",
       "\n",
       "    .dataframe thead th {\n",
       "        text-align: right;\n",
       "    }\n",
       "</style>\n",
       "<table border=\"1\" class=\"dataframe\">\n",
       "  <thead>\n",
       "    <tr style=\"text-align: right;\">\n",
       "      <th></th>\n",
       "      <th>DI</th>\n",
       "      <th>Open_Access</th>\n",
       "      <th>OA_Yellow</th>\n",
       "      <th>OA_Green</th>\n",
       "      <th>ISSNs</th>\n",
       "      <th>OA_Green_Article</th>\n",
       "      <th>ISSNWOS</th>\n",
       "      <th>APC</th>\n",
       "      <th>OAGISSN</th>\n",
       "      <th>APC_USD</th>\n",
       "    </tr>\n",
       "  </thead>\n",
       "  <tbody>\n",
       "    <tr>\n",
       "      <th>606</th>\n",
       "      <td>10.1590/s0103-84782009000100018</td>\n",
       "      <td>10.1590/s0103-84782009000100018</td>\n",
       "      <td></td>\n",
       "      <td>10.1590/s0103-84782009000100018</td>\n",
       "      <td>0103-8478</td>\n",
       "      <td></td>\n",
       "      <td>0103-8478,1678-4596</td>\n",
       "      <td>700BRL</td>\n",
       "      <td>0103-8478</td>\n",
       "      <td>188</td>\n",
       "    </tr>\n",
       "  </tbody>\n",
       "</table>\n",
       "</div>"
      ],
      "text/plain": [
       "                                  DI                      Open_Access  \\\n",
       "606  10.1590/s0103-84782009000100018  10.1590/s0103-84782009000100018   \n",
       "\n",
       "    OA_Yellow                         OA_Green      ISSNs OA_Green_Article  \\\n",
       "606            10.1590/s0103-84782009000100018  0103-8478                    \n",
       "\n",
       "                 ISSNWOS     APC    OAGISSN  APC_USD  \n",
       "606  0103-8478,1678-4596  700BRL  0103-8478      188  "
      ]
     },
     "execution_count": 29,
     "metadata": {},
     "output_type": "execute_result"
    }
   ],
   "source": [
    "oaudea[oaudea['OA_Green']=='10.1590/s0103-84782009000100018']"
   ]
  },
  {
   "cell_type": "code",
   "execution_count": 22,
   "metadata": {},
   "outputs": [
    {
     "data": {
      "text/plain": [
       "(7999, 10)"
      ]
     },
     "execution_count": 22,
     "metadata": {},
     "output_type": "execute_result"
    }
   ],
   "source": [
    "oaudea.shape"
   ]
  },
  {
   "cell_type": "code",
   "execution_count": 14,
   "metadata": {},
   "outputs": [
    {
     "data": {
      "text/plain": [
       "(1505, 10)"
      ]
     },
     "execution_count": 14,
     "metadata": {},
     "output_type": "execute_result"
    }
   ],
   "source": [
    "oaudea[oaudea['OA_Yellow']!=''].shape"
   ]
  },
  {
   "cell_type": "code",
   "execution_count": 26,
   "metadata": {
    "collapsed": true
   },
   "outputs": [],
   "source": [
    "REDALYC=False"
   ]
  },
  {
   "cell_type": "code",
   "execution_count": 21,
   "metadata": {
    "collapsed": true
   },
   "outputs": [],
   "source": [
    "#JUST START AFTER FINISH REDALYC\n",
    "nini=786# initial doi\n",
    "n=1506 # Total of DOIs\n",
    "T=12 #hours of search\n",
    "t=T/n*3600 # [s] query time\n",
    "t=60\n",
    "day=24*3600 #s\n",
    "mintime=0.9*t*n # [s] minimal time search\n",
    "wait=30#day-mintime # maximum wait"
   ]
  },
  {
   "cell_type": "code",
   "execution_count": 28,
   "metadata": {
    "collapsed": true
   },
   "outputs": [],
   "source": [
    "if REDALYC:\n",
    "    nini=0"
   ]
  },
  {
   "cell_type": "code",
   "execution_count": 24,
   "metadata": {},
   "outputs": [
    {
     "data": {
      "text/html": [
       "<div>\n",
       "<style scoped>\n",
       "    .dataframe tbody tr th:only-of-type {\n",
       "        vertical-align: middle;\n",
       "    }\n",
       "\n",
       "    .dataframe tbody tr th {\n",
       "        vertical-align: top;\n",
       "    }\n",
       "\n",
       "    .dataframe thead th {\n",
       "        text-align: right;\n",
       "    }\n",
       "</style>\n",
       "<table border=\"1\" class=\"dataframe\">\n",
       "  <thead>\n",
       "    <tr style=\"text-align: right;\">\n",
       "      <th></th>\n",
       "      <th>DI</th>\n",
       "      <th>Open_Access</th>\n",
       "      <th>OA_Yellow</th>\n",
       "      <th>OA_Green</th>\n",
       "      <th>ISSNs</th>\n",
       "      <th>OA_Green_Article</th>\n",
       "      <th>ISSNWOS</th>\n",
       "      <th>APC</th>\n",
       "      <th>OAGISSN</th>\n",
       "      <th>APC_USD</th>\n",
       "    </tr>\n",
       "  </thead>\n",
       "  <tbody>\n",
       "    <tr>\n",
       "      <th>1502</th>\n",
       "      <td>10.17533/udea.ikala.v19n3a05</td>\n",
       "      <td>10.17533/udea.ikala.v19n3a05</td>\n",
       "      <td>10.17533/udea.ikala.v19n3a05</td>\n",
       "      <td></td>\n",
       "      <td></td>\n",
       "      <td></td>\n",
       "      <td>0123-3432</td>\n",
       "      <td></td>\n",
       "      <td></td>\n",
       "      <td>0</td>\n",
       "    </tr>\n",
       "    <tr>\n",
       "      <th>1503</th>\n",
       "      <td>10.11144/javeriana.mavae9-2.eacv</td>\n",
       "      <td>10.11144/javeriana.mavae9-2.eacv</td>\n",
       "      <td>10.11144/javeriana.mavae9-2.eacv</td>\n",
       "      <td></td>\n",
       "      <td></td>\n",
       "      <td></td>\n",
       "      <td>1794-6670</td>\n",
       "      <td></td>\n",
       "      <td></td>\n",
       "      <td>0</td>\n",
       "    </tr>\n",
       "    <tr>\n",
       "      <th>1504</th>\n",
       "      <td>10.11144/javeriana.rgyps13-26.eaht</td>\n",
       "      <td>10.11144/javeriana.rgyps13-26.eaht</td>\n",
       "      <td>10.11144/javeriana.rgyps13-26.eaht</td>\n",
       "      <td></td>\n",
       "      <td></td>\n",
       "      <td></td>\n",
       "      <td>1657-7027</td>\n",
       "      <td></td>\n",
       "      <td></td>\n",
       "      <td>0</td>\n",
       "    </tr>\n",
       "  </tbody>\n",
       "</table>\n",
       "</div>"
      ],
      "text/plain": [
       "                                      DI                         Open_Access  \\\n",
       "1502        10.17533/udea.ikala.v19n3a05        10.17533/udea.ikala.v19n3a05   \n",
       "1503    10.11144/javeriana.mavae9-2.eacv    10.11144/javeriana.mavae9-2.eacv   \n",
       "1504  10.11144/javeriana.rgyps13-26.eaht  10.11144/javeriana.rgyps13-26.eaht   \n",
       "\n",
       "                               OA_Yellow OA_Green ISSNs OA_Green_Article  \\\n",
       "1502        10.17533/udea.ikala.v19n3a05                                   \n",
       "1503    10.11144/javeriana.mavae9-2.eacv                                   \n",
       "1504  10.11144/javeriana.rgyps13-26.eaht                                   \n",
       "\n",
       "        ISSNWOS APC OAGISSN  APC_USD  \n",
       "1502  0123-3432                    0  \n",
       "1503  1794-6670                    0  \n",
       "1504  1657-7027                    0  "
      ]
     },
     "execution_count": 24,
     "metadata": {},
     "output_type": "execute_result"
    }
   ],
   "source": [
    "oaudea[oaudea['OA_Yellow']!=''].reset_index(drop=True)[1502:1505]"
   ]
  },
  {
   "cell_type": "code",
   "execution_count": 22,
   "metadata": {
    "collapsed": true
   },
   "outputs": [],
   "source": [
    "dfgsn=pd.read_json('apc_missing_dois.json')#pd.read_json('yellowno.json')"
   ]
  },
  {
   "cell_type": "code",
   "execution_count": 23,
   "metadata": {},
   "outputs": [
    {
     "data": {
      "text/plain": [
       "(1776, 1)"
      ]
     },
     "execution_count": 23,
     "metadata": {},
     "output_type": "execute_result"
    }
   ],
   "source": [
    "dfgsn.shape"
   ]
  },
  {
   "cell_type": "code",
   "execution_count": null,
   "metadata": {
    "collapsed": true
   },
   "outputs": [],
   "source": [
    "if REDALYC:\n",
    "    import unidecode\n",
    "    datos=pd.read_json('redaylicmiising.json')\n",
    "    datos['title_simple']=datos.title.str.lower().str.replace(\n",
    "    '\\n',' ').str.replace('\\\\\\\\n',' ').map(unidecode.unidecode).str.strip()\n",
    "    datos['name_simple']=datos.name.str.split(\"'\").str[1].str.strip().str.lower().str.split().str[0].str.strip()+' '+datos.lastname.str.split(\"'\").str[1].str.replace('\\\\\\\\n',' '\n",
    "        ).str.strip().str.lower().str.split(' ').str[0]\n",
    "    print('SKYP to next cell')"
   ]
  },
  {
   "cell_type": "markdown",
   "metadata": {},
   "source": [
    "### Search GS for OA"
   ]
  },
  {
   "cell_type": "code",
   "execution_count": 24,
   "metadata": {},
   "outputs": [
    {
     "name": "stdout",
     "output_type": "stream",
     "text": [
      "786 10.7705/biomedica.v29i1.38\n",
      "check robots\n",
      "WARNING: Not found\n",
      "787 10.7705/biomedica.v29i1.50\n",
      "WARNING: Not found\n",
      "788 10.17533/udea.rfnsp.v35n2a04\n",
      "789 10.1590/s1676-06032010000200008\n",
      "790 10.1590/s1676-06032010000200037\n",
      "791 10.21897/rmvz.10\n",
      "WARNING: Not found\n",
      "792 10.21897/rmvz.14\n",
      "WARNING: Not found\n",
      "793 10.21897/rmvz.43\n",
      "WARNING: Not found\n",
      "794 10.21897/rmvz.71\n",
      "WARNING: Not found\n",
      "795 10.21897/rmvz.80\n",
      "WARNING: Not found\n",
      "796 10.7705/biomedica.v32i0.598\n",
      "WARNING: Not found\n",
      "797 10.17533/udea.rfnsp.v35n2a08\n",
      "798 10.21897/rmvz.278\n",
      "WARNING: Not found\n",
      "799 10.21897/rmvz.1006\n",
      "800 10.21897/rmvz.1035\n",
      "WARNING: Not found\n",
      "801 10.7705/biomedica.v30i2.192\n",
      "WARNING: Not found\n",
      "802 10.7705/biomedica.v29i2.19\n",
      "WARNING: Not found\n",
      "803 10.7705/biomedica.v28i4.53\n",
      "WARNING: Not found\n",
      "804 10.19053/22160159.v8.n17.2018.7201\n",
      "805 10.17533/udea.rfnsp.v35n2a10\n",
      "806 10.1590/s0103-65132013000400016\n",
      "WARNING: Not found\n",
      "807 10.1590/s1676-06032009000400011\n",
      "808 10.1590/s1676-06032009000400031\n",
      "809 10.1158/1538-7445.sabcs16-p5-16-20\n",
      "810 10.17533/udea.rfnsp.v35n2a11\n",
      "811 10.7705/biomedica.v34i2.3189\n",
      "812 10.7705/biomedica.v34i2.3239\n",
      "813 10.7705/biomedica.v28i2.91\n",
      "WARNING: Not found\n",
      "814 10.22354/in.v0i0.7\n",
      "815 10.1590/s1806-11172014000100023\n",
      "816 10.1590/s1676-06032008000300022\n",
      "817 10.5294/edu.2017.20.1.1\n",
      "818 10.17533/udea.ef.n56a01\n",
      "WARNING: Not found\n",
      "819 10.7705/biomedica.v38i0.3761\n",
      "820 10.1016/j.acmx.2017.07.006\n",
      "821 10.1016/j.rccar.2017.11.007\n",
      "822 10.1016/j.rccar.2016.08.010\n",
      "823 10.1016/j.ram.2017.07.006\n",
      "824 10.1016/j.rccar.2017.07.006\n",
      "825 10.1590/1982-02672017v25n0106\n",
      "826 10.1016/j.rccar.2017.04.002\n",
      "827 10.4321/s2340-98942017000400001\n",
      "828 10.21071/az.v66i254.2333\n",
      "829 10.1016/j.rccar.2017.05.018\n",
      "830 10.1016/j.edumed.2017.03.004\n",
      "831 10.1016/j.rccar.2017.01.005\n",
      "832 10.1016/j.rccar.2016.09.002\n",
      "833 10.1016/j.rccar.2015.06.012\n",
      "834 10.1016/j.ipej.2016.08.003\n",
      "835 10.17533/udea.rib.v40n1a02\n",
      "836 10.1016/j.rccar.2016.01.017\n",
      "837 10.1016/j.rccar.2016.01.015\n",
      "838 10.1590/s0120-41572015000200012\n",
      "WARNING: Not found\n",
      "839 10.1590/s0120-41572015000100008\n",
      "WARNING: Not found\n",
      "840 10.1590/s0120-53072015000200001\n",
      "WARNING: Not found\n",
      "841 10.1590/s0120-53072015000200004\n",
      "WARNING: Not found\n",
      "842 10.17533/udea.ikala.v20n3a02\n",
      "843 10.1590/s1851-82652014000300009\n",
      "844 10.17533/udea.rib.v40n1a07\n",
      "845 10.1590/s0120-41572014000400014\n",
      "WARNING: Not found\n",
      "846 10.1590/s0120-41572014000300010\n",
      "WARNING: Not found\n",
      "847 10.1590/s0120-41572014000300016\n",
      "WARNING: Not found\n",
      "848 10.1590/s0120-41572014000300012\n",
      "WARNING: Not found\n",
      "849 10.1590/s0120-41572014000300011\n",
      "WARNING: Not found\n",
      "850 10.1590/s0120-41572014000300015\n",
      "WARNING: Not found\n",
      "851 10.1590/s0120-41572014000300006\n",
      "WARNING: Not found\n",
      "852 10.1590/s0120-41572014000200010\n",
      "WARNING: Not found\n",
      "853 10.1590/s0120-41572014000500006\n",
      "854 10.17533/udea.espo.n50a01\n",
      "855 10.1590/s0120-41572014000200007\n",
      "856 10.17533/udea.ikala.v19n3a02\n",
      "857 10.1590/s0120-53072014000300003\n",
      "858 10.1590/s0120-53072014000100002\n",
      "859 10.1590/s0120-41572014000100007\n",
      "860 10.1016/j.aprim.2011.03.011\n",
      "861 10.17533/udea.espo.n50a04\n",
      "862 10.1016/s0120-5633(11)70197-8\n",
      "863 10.2119/2007-00094.van vickle\n",
      "WARNING: Not found\n",
      "864 10.7705/biomedica.v38i0.3454\n",
      "865 10.1016/j.rccar.2017.11.026\n",
      "866 10.1016/j.ram.2017.10.005\n",
      "867 10.1016/j.rccar.2016.12.001\n",
      "868 10.1016/j.rccar.2017.01.003\n",
      "869 10.1016/j.rccar.2017.01.006\n",
      "870 10.1016/j.rccar.2015.10.005\n",
      "871 10.17533/udea.espo.n50a06\n",
      "872 10.1016/j.rccar.2016.09.004\n",
      "873 10.1016/j.rccar.2016.05.002\n",
      "874 10.1016/j.infect.2015.07.002\n",
      "875 10.15425/redepriv.54.2015.07\n",
      "876 10.1016/j.rccar.2015.02.005\n",
      "877 10.1590/s0120-41572015000100013\n",
      "WARNING: Not found\n",
      "878 10.1590/s0120-41572014000400013\n",
      "WARNING: Not found\n",
      "879 10.1016/j.rgmx.2014.08.002\n",
      "880 10.1590/s0120-41572014000300017\n",
      "881 10.1590/s0120-41572014000200014\n",
      "WARNING: Not found\n",
      "882 10.17533/udea.espo.n50a07\n",
      "883 10.1590/s0120-41572014000200003\n",
      "WARNING: Not found\n",
      "884 10.1590/s0120-41572014000500014\n",
      "885 10.1590/s0120-41572014000500005\n",
      "WARNING: Not found\n",
      "886 10.1590/s0120-41572014000100017\n",
      "887 10.1590/s0120-41572014000100015\n",
      "WARNING: Not found\n",
      "888 10.1186/s12879-017-2929-0\n",
      "889 10.19053/01211129.v26.n45.2017.6423\n",
      "890 10.17533/udea.espo.n50a09\n",
      "891 10.17533/udea.espo.n50a12\n",
      "892 10.17533/udea.espo.n50a13\n",
      "893 10.17533/udea.espo.n50a17\n",
      "894 10.17533/udea.espo.n50a18\n",
      "895 10.17533/udea.le.n86a01\n",
      "896 10.17533/udea.le.n86a03\n",
      "897 10.17533/udea.rfnsp.v35n1a03\n",
      "898 10.17533/udea.rfnsp.v35n1a04\n",
      "899 10.17533/udea.rfnsp.v35n1a05\n",
      "900 10.1371/journal.pone.0174474\n",
      "901 10.17533/udea.rfnsp.v35n1a07\n",
      "902 10.17533/udea.rfnsp.v35n1a10\n",
      "check robots\n",
      "WARNING: Not found\n",
      "903 10.17533/udea.rfnsp.v35n1a12\n",
      "904 10.18359/rlbi.2637\n",
      "905 10.14483/udistrital.jour.tecnura.2017.1.a05\n",
      "906 10.15446/av.enferm.v34n3.58378\n",
      "907 10.17533/udea.espo.n49a04\n",
      "908 10.17533/udea.espo.n49a05\n",
      "909 10.17230/ingciencia.12.24.1\n",
      "910 10.17230/ingciencia.12.24.3\n",
      "911 10.5867/medwave.2017.03.6940\n",
      "912 10.12804/revsalud14.especial.2016.01\n",
      "913 10.14482/dere.46.8817\n",
      "914 10.15517/am.v27i2.24386\n",
      "915 10.15517/aie.v16i3.26084\n",
      "916 10.15517/aie.v16i3.26113\n",
      "917 10.15359/ree.20-3.5\n",
      "918 10.15359/ree.20-3.18\n",
      "919 10.11606/issn.2316-9141.rh.2016.124069\n",
      "920 10.18273/revsal.v48n4-2016011\n",
      "921 10.7440/histcrit62.2016.10\n",
      "922 10.1155/2017/6987896\n",
      "923 10.17533/udea.rfnsp.v34n3a03\n",
      "924 10.17533/udea.rfnsp.v34n3a06\n",
      "925 10.17533/udea.rfnsp.v34n3a09\n",
      "926 10.17533/udea.rib.v39n3a01\n",
      "927 10.17533/udea.rib.v39n3a03\n",
      "928 10.17533/udea.rib.v39n3a04\n",
      "929 10.17533/udea.rib.v39n3a05\n",
      "930 10.17533/udea.rfnsp.v34n2a05\n",
      "931 10.17533/udea.rfnsp.v34n2a11\n",
      "932 10.17533/udea.rfnsp.v34n2a12\n",
      "933 10.19052/ed.4167\n",
      "934 10.17533/udea.rib.v39n2a01\n",
      "935 10.18359/rfce.2213\n",
      "936 10.15446/achsc.v43n2.59092\n",
      "937 10.14483/udistrital.jour.tecnura.2016.3.a02\n",
      "938 10.22395/ojum.v15n30a6\n",
      "939 10.18273/revion.v29n1-2016005\n",
      "940 10.18273/revsal.v48n2-2016008\n",
      "941 10.18273/revint.v34n1-2016006\n",
      "942 10.1590/1414-49802016.00100002\n",
      "943 10.17533/udea.le.n84a07\n",
      "944 10.15446/djf.n17.65518\n",
      "945 10.17533/udea.espo.n48a04\n",
      "946 10.17533/udea.espo.n48a08\n",
      "947 10.1590/1984-6487.sess.2016.22.11.a\n",
      "948 10.18273/revsal.v48n1-2016007\n",
      "949 10.17533/udea.rfnsp.v34n1a02\n",
      "950 10.17533/udea.rfnsp.v34n1a03\n",
      "951 10.17533/udea.rfnsp.v34n1a09\n",
      "952 10.17533/udea.rfnsp.v34n1a13\n",
      "953 10.17533/udea.rib.v39n1a06\n",
      "954 10.17533/udea.rib.v39n1a08\n",
      "955 10.15446/hys.n32.59163\n",
      "956 10.17533/udea.iatreia.v29n1a09\n",
      "957 10.17533/udea.penh.v18n1a02\n",
      "958 10.17533/udea.penh.v18n1a03\n",
      "959 10.17533/udea.penh.v18n1a04\n",
      "960 10.17533/udea.penh.v18n1a05\n",
      "961 10.17533/udea.penh.v18n1a06\n",
      "962 10.17533/udea.penh.v18n1a08\n",
      "963 10.1590/0104-07072016005280015\n",
      "964 10.17230/ingciencia.12.23.3\n",
      "965 10.17230/ingciencia.12.23.6\n",
      "966 10.15446/hys.n32.54079\n",
      "967 10.17230/ingciencia.12.23.9\n",
      "968 10.15332/s1794-3841.2016.0025.07\n",
      "969 10.15446/rcdg.v25n1.52598\n",
      "970 10.17533/udea.iatreia.v28n4a10\n",
      "971 10.17533/udea.rfnsp.v33n3a07\n",
      "972 10.17533/udea.rfnsp.v33n3a11\n",
      "973 10.17533/udea.rfnsp.v33n3a13\n",
      "974 10.17533/udea.rfnsp.v33n3a15\n",
      "975 10.15517/am.v26i2.19277\n",
      "976 10.17533/udea.penh.v17n2a04\n",
      "977 10.1155/2017/4018724\n",
      "978 10.17533/udea.penh.v17n2a06\n",
      "979 10.22395/seec.v18n38a5\n",
      "980 10.22395/seec.v18n38a7\n",
      "981 10.17533/udea.le.n83a07\n",
      "982 10.17533/udea.espo.n47a03\n",
      "983 10.17533/udea.espo.n47a09\n",
      "984 10.17533/udea.espo.n47a11\n",
      "985 10.14483/udistrital.jour.colomb.for.2015.2.a03\n",
      "986 10.14483/udistrital.jour.colomb.for.2015.2.a07\n",
      "987 10.17533/udea.rfnsp.v33n2a08\n",
      "988 10.15446/fyf.v30n1.62412\n",
      "989 10.1590/1982-451320150205\n",
      "990 10.17533/udea.rfnsp.v33n2a07\n",
      "991 10.17533/udea.rfnsp.v33n2a10\n",
      "992 10.15665/re.v13i1.348\n",
      "993 10.17230/ingciencia.11.22.8\n",
      "994 10.14482/eidos.23.184\n",
      "995 10.15446/historelo.v7n14.48708\n",
      "996 10.15446/rfnam.v68n2.50967\n",
      "997 10.15446/rfnam.v68n2.50981\n",
      "998 10.15446/fyf.v28n2.53540\n",
      "999 10.1186/s12864-017-4376-0\n",
      "1000 10.15446/rcs.v40n1supl.65909\n",
      "1001 10.15446/fyf.v28n2.53543\n",
      "1002 10.17533/udea.penh.v17n1a05\n",
      "1003 10.17533/udea.penh.v17n1a06\n",
      "1004 10.1590/2236-8906-52/2013\n",
      "1005 10.5294/pebi.2015.19.1.12\n",
      "1006 10.15446/av.enferm.v33n1.37514\n",
      "1007 10.12804/desafios27.01.2015.05\n",
      "1008 10.15446/ideasyvalores.v64n157.49683\n",
      "1009 10.15665/re.v13i1.353\n",
      "1010 10.15446/fyf.v28n1.51969\n",
      "1011 10.15446/rcs.v40n1.61961\n",
      "1012 10.11144/javeriana.mys18-37.rssa\n",
      "1013 10.1590/2316-40184410\n",
      "1014 10.5935/0101-2800.20140073\n",
      "1015 10.17533/udea.penh.v16n2a03\n",
      "1016 10.17533/udea.penh.v16n2a04\n",
      "1017 10.17533/udea.penh.v16n2a05\n",
      "check robots\n",
      "WARNING: Not found\n"
     ]
    },
    {
     "name": "stdout",
     "output_type": "stream",
     "text": [
      "1018 10.1590/s1413-65382014000300002\n",
      "1019 10.15446/abc.v19n3.42334\n",
      "1020 10.15446/abc.v19n3.42457\n",
      "1021 10.15446/abc.v19n3.40909\n",
      "1022 10.3934/microbiol.2017.2.293\n",
      "1023 10.15446/ideasyvalores.v63n156.47092\n",
      "1024 10.5935/0101-2800.20140051\n",
      "1025 10.15446/av.enferm.v32n2.46211\n",
      "1026 10.15446/av.enferm.v32n2.46230\n",
      "1027 10.15332/s1794-3841.2014.0022.16\n",
      "1028 10.19183/how.21.2.2\n",
      "1029 10.19183/how.21.2.7\n",
      "1030 10.11606/issn.2316-9141.v0i170p345-349\n",
      "1031 10.15446/profile.v16n1.36939\n",
      "1032 10.15446/profile.v16n1.38661\n",
      "1033 10.18566/apolit.v7n12.a01\n",
      "1034 10.15446/fyf.v27n1.46943\n",
      "1035 10.15446/fyf.v27n1.46948\n",
      "1036 10.15446/profile.v16n1.43203\n",
      "1037 10.15446/rfnam.v67n2.44166\n",
      "1038 10.15446/ideasyvalores.v63n155.44764\n",
      "1039 10.1590/1516-731320140010007\n",
      "1040 10.1590/s1414-40772014000100012\n",
      "1041 10.5935/1414-8145.20130015\n",
      "1042 10.5935/0101-2800.20130032\n",
      "1043 10.5935/0101-2800.20130019\n",
      "1044 10.18566/apolit.v7n12.a07\n",
      "1045 10.1590/s1414-49802013000100013\n",
      "1046 10.1590/s0101-32892012000400003\n",
      "1047 10.1590/s1980-85852012000200010\n",
      "1048 10.4321/s0465-546x2012000300005\n",
      "1049 10.1590/s0104-40602012000200016\n",
      "1050 10.1590/s0101-32892012000100010\n",
      "1051 10.1590/s1414-462x2012000400002\n",
      "1052 10.1590/s1516-73132012000400002\n",
      "1053 10.4067/s0718-33052011000300009\n",
      "1054 10.1590/s0101-90742011000100014\n",
      "1055 10.19053/0121053x.n29.2017.5853\n",
      "1056 10.1590/s0037-86822011005000030\n",
      "1057 10.1590/s1414-49802011000100013\n",
      "1058 10.4321/s0376-78922010000400006\n",
      "WARNING: Not found\n",
      "1059 10.4067/s0718-33052010000200006\n",
      "1060 10.4067/s0718-33052010000200012\n",
      "1061 10.15649/cuidarte.v1i1.76\n",
      "1062 10.18046/recs.i4.436\n",
      "1063 10.4067/s0718-33052009000100008\n",
      "1064 10.4321/s0465-546x2009000100007\n",
      "1065 10.1590/s1516-73132009000300004\n",
      "1066 10.17583/redimat.2017.1981\n",
      "1067 10.1590/s0104-40602009000100007\n",
      "1068 10.1590/s0036-36342008000300008\n",
      "1069 10.4067/s0250-71612008000100009\n",
      "1070 10.4067/s0718-33052007000300006\n",
      "1071 10.1590/s1413-65382007000200003\n",
      "1072 10.1590/s0104-59702007000100018\n",
      "1073 10.4067/s0718-33052006000200002\n",
      "1074 10.1590/s0036-46652006000600004\n",
      "1075 10.4067/s1726-569x2006000200009\n",
      "1076 10.1590/s0102-311x2005000600009\n",
      "1077 10.18273/revanu.v22n1-2017004\n",
      "1078 10.1590/s0104-11692005000600002\n",
      "1079 10.4321/s1132-12962005000200004\n",
      "WARNING: Not found\n",
      "1080 10.4321/s1132-12962005000200010\n",
      "1081 10.1590/s0102-311x2005000500022\n",
      "1082 10.4067/s0250-71612005009200004\n",
      "1083 10.4321/s1132-12962004000200005\n",
      "WARNING: Not found\n",
      "1084 10.1590/s0102-311x2004000400026\n",
      "1085 10.1186/1471-2334-8-18\n",
      "1086 10.1186/s12879-018-2976-1\n",
      "1087 10.1186/s12889-018-5060-2\n",
      "1088 10.19052/ed.3834\n",
      "1089 10.1038/s41598-018-19324-y\n",
      "1090 10.1016/j.ijid.2017.11.019\n",
      "1091 10.1371/journal.pone.0190311\n",
      "1092 10.3389/fmicb.2017.02444\n",
      "1093 10.3390/molecules22122041\n",
      "1094 10.3390/electronics6040102\n",
      "1095 10.1111/acel.12682\n",
      "1096 10.17533/udea.redin.n85a06\n",
      "1097 10.17533/udea.redin.n85a07\n",
      "1098 10.1371/journal.pone.0187969\n",
      "1099 10.17533/udea.iatreia.v30n1a03\n",
      "1100 10.1186/s12918-017-0496-z\n",
      "1101 10.1371/journal.pone.0185493\n",
      "1102 10.3390/en10111791\n",
      "1103 10.3390/su9112100\n",
      "1104 10.1002/ece3.3425\n",
      "1105 10.1186/s13012-017-0651-3\n",
      "1106 10.1371/journal.pone.0185410\n",
      "1107 10.1186/s13071-017-2379-y\n",
      "1108 10.1371/journal.pone.0181643\n",
      "1109 10.1186/s40413-017-0165-0\n",
      "1110 10.1140/epjc/s10052-017-5317-4\n",
      "1111 10.19053/01211129.v26.n44.2017.5775\n",
      "1112 10.2298/ciceq161119008r\n",
      "1113 10.5811/westjem.2017.7.34668\n",
      "1114 10.3390/en10101449\n",
      "1115 10.3390/toxins9100312\n",
      "1116 10.1371/journal.pntd.0005904\n",
      "1117 10.1371/journal.pntd.0006006\n",
      "1118 10.1371/journal.pntd.0005981\n",
      "1119 10.3389/fimmu.2017.01241\n",
      "1120 10.1371/journal.pone.0184640\n",
      "1121 10.1371/journal.pone.0184689\n",
      "1122 10.3389/fimmu.2016.00620\n",
      "1123 10.17533/udea.redin.n84a10\n",
      "1124 10.17533/udea.redin.n84a11\n",
      "1125 10.1371/journal.pntd.0005892\n",
      "1126 10.1098/rsos.170773\n",
      "1127 10.1016/j.ijchp.2017.05.001\n",
      "1128 10.1186/s40494-017-0149-y\n",
      "1129 10.1186/s13063-017-2092-3\n",
      "1130 10.1038/s41598-017-08001-1\n",
      "1131 10.3389/fimmu.2017.00936\n",
      "1132 10.3389/fimmu.2017.00923\n",
      "1133 10.1186/s41479-016-0023-9\n",
      "1134 10.4093/dmj.2017.41.4.303\n",
      "check robots\n",
      "WARNING: Not found\n",
      "1135 10.1007/jhep07(2017)121\n",
      "1136 10.1371/journal.pone.0180447\n",
      "1137 10.1007/jhep07(2017)014\n",
      "1138 10.1186/s12263-017-0567-1\n",
      "1139 10.1007/jhep07(2017)001\n",
      "1140 10.3989/redc.2017.3.1414\n",
      "1141 10.3390/ijerph14070737\n",
      "1142 10.1371/journal.pone.0179428\n",
      "1143 10.3389/fimmu.2017.00699\n",
      "1144 10.3390/antib5030018\n",
      "1145 10.3389/fimmu.2017.00685\n",
      "1146 10.1371/journal.pone.0179093\n",
      "1147 10.17533/udea.redin.n83a05\n",
      "1148 10.3389/fphys.2017.00338\n",
      "1149 10.3389/fnhum.2017.00244\n",
      "1150 10.1371/journal.pone.0177525\n",
      "1151 10.1186/s12955-017-0621-0\n",
      "1152 10.3390/s17050988\n",
      "1153 10.3390/s17051184\n",
      "1154 10.1371/journal.pgen.1006756\n",
      "1155 10.15446/ing.investig.v36n2.56986\n",
      "1156 10.1016/j.ijid.2017.02.016\n",
      "1157 10.1016/j.gaceta.2017.03.002\n",
      "1158 10.1038/s41598-017-01262-w\n",
      "1159 10.3389/fmicb.2017.00636\n",
      "1160 10.1140/epjc/s10052-017-4797-6\n",
      "1161 10.3389/fpsyg.2017.00510\n",
      "1162 10.1186/s13662-017-1165-7\n",
      "1163 10.3389/fnmol.2017.00088\n",
      "1164 10.3390/en10040443\n",
      "1165 10.1016/j.iatssr.2016.09.002\n",
      "1166 10.3390/jcm5080071\n",
      "1167 10.3389/fimmu.2017.00261\n",
      "1168 10.1186/s13227-017-0068-8\n",
      "1169 10.1140/epjc/s10052-017-4698-8\n",
      "1170 10.17533/udea.redin.n82a02\n",
      "1171 10.17533/udea.redin.n82a05\n",
      "1172 10.17533/udea.redin.n82a06\n",
      "1173 10.17533/udea.redin.n82a10\n",
      "1174 10.1371/journal.ppat.1006250\n",
      "1175 10.1002/ecs2.1698\n",
      "1176 10.1186/s13071-017-2031-x\n",
      "1177 10.18601/16578651.n19.10\n",
      "1178 10.1186/s12879-017-2258-3\n",
      "1179 10.1371/journal.pone.0171930\n",
      "1180 10.1371/journal.pone.0171191\n",
      "1181 10.3389/fimmu.2017.00136\n",
      "1182 10.3390/molecules22020211\n",
      "1183 10.1186/s12906-017-1562-1\n",
      "1184 10.3389/fpls.2017.00009\n",
      "1185 10.3989/ajbm.2474\n",
      "1186 10.5209/rgid.58211\n",
      "1187 10.12795/araucaria.2017.i38.18\n",
      "1188 10.14483/udistrital.jour.redes.2016.2.a02\n",
      "1189 10.1155/2017/3728485\n",
      "1190 10.1155/2017/4271384\n",
      "1191 10.7238/d.v0i19.3025\n",
      "1192 10.7238/d.v0i19.3086\n",
      "1193 10.1155/2017/7868535\n",
      "1194 10.1155/2017/9680729\n",
      "1195 10.1155/2017/4531686\n",
      "1196 10.1155/2017/5970540\n",
      "1197 10.1155/2017/3680758\n",
      "1198 10.3989/revmetalm.085\n",
      "1199 10.22395/csye.v5n10a8\n",
      "1200 10.1590/1678-4162-8712\n",
      "1201 10.1155/2017/7162737\n",
      "1202 10.1002/ece3.2579\n",
      "1203 10.11604/pamj.2016.25.259.10799\n",
      "1204 10.3389/fnagi.2016.00304\n",
      "1205 10.4314/tjpr.v15i12.10\n",
      "1206 10.1016/j.ijpddr.2016.09.004\n",
      "1207 10.17533/udea.redin.n81a10\n",
      "1208 10.1371/journal.pone.0165042\n",
      "1209 10.3389/fncel.2016.00260\n",
      "1210 10.15517/eci.v6i1.21750\n",
      "1211 10.3389/fphar.2016.00415\n",
      "1212 10.1038/srep36285\n",
      "1213 10.1371/journal.ppat.1006011\n",
      "1214 10.1016/j.aprim.2016.01.005\n",
      "1215 10.1371/journal.pone.0164414\n",
      "1216 10.1016/j.physletb.2016.08.025\n",
      "1217 10.1007/jhep10(2016)015\n",
      "1218 10.1186/s12879-016-1871-x\n",
      "1219 10.1177/1940082916673708\n",
      "1220 10.1016/j.redox.2016.07.004\n",
      "1221 10.1038/s41598-017-12316-4\n",
      "WARNING: Not found\n",
      "1222 10.15446/hys.n31.55433\n",
      "1223 10.1371/journal.pone.0163985\n",
      "1224 10.1186/s40360-016-0087-4\n",
      "1225 10.1186/s13071-016-1766-0\n",
      "1226 10.1128/msphere.00213-16\n",
      "1227 10.1186/s12879-016-1805-7\n",
      "1228 10.15446/abc.v21n3.55630\n",
      "1229 10.15446/abc.v21n3.55847\n",
      "1230 10.3389/fnins.2016.00366\n",
      "1231 10.5194/cp-12-1681-2016\n",
      "1232 10.1186/s13063-016-1522-y\n",
      "1233 10.15446/rcs.v39n1.56340\n",
      "1234 10.1186/s12983-016-0168-7\n",
      "1235 10.1186/s13227-016-0054-6\n",
      "1236 10.1186/s12879-016-1663-3\n",
      "1237 10.1140/epjc/s10052-016-4232-4\n",
      "1238 10.1038/srep29201\n",
      "1239 10.11144/javeriana.m9-18.dler\n",
      "1240 10.11144/javeriana.m9-18.pfec\n",
      "1241 10.3390/ijerph13070734\n",
      "1242 10.1590/0102-311x00177215\n",
      "1243 10.1038/srep28792\n",
      "1244 10.14483/udistrital.jour.c14.2016.2.a12\n",
      "1245 10.1186/s12863-016-0402-5\n",
      "1246 10.1186/s40413-016-0110-7\n",
      "1247 10.1371/journal.pone.0158007\n",
      "1248 10.5294/pacla.2016.19.2.11\n",
      "1249 10.15366/rimcafd2016.62.007\n",
      "1250 10.5751/ace-00834-110107\n",
      "check robots\n",
      "WARNING: Not found\n",
      "1251 10.1371/journal.pone.0155806\n",
      "1252 10.1186/s40413-016-0108-1\n",
      "1253 10.1186/s12916-016-0617-3\n",
      "1254 10.1186/s12955-016-0472-0\n",
      "1255 10.15665/rde.v14i1.649\n",
      "1256 10.1371/journal.pgen.1006046\n",
      "1257 10.3390/toxins8050138\n",
      "1258 10.4314/tjpr.v15i5.11\n",
      "1259 10.1038/ncomms11616\n",
      "1260 10.3389/fmicb.2016.00537\n",
      "1261 10.1371/journal.pone.0154176\n",
      "1262 10.1140/epjc/s10052-016-4033-9\n",
      "1263 10.1016/j.physletb.2016.02.054\n",
      "1264 10.3390/molecules21040381\n",
      "1265 10.1371/journal.pntd.0004677\n",
      "1266 10.12957/rdc.2016.22989\n",
      "1267 10.1186/s12909-016-0610-8\n",
      "1268 10.1007/jhep03(2016)162\n",
      "1269 10.1186/s12939-016-0336-6\n",
      "1270 10.1371/journal.pntd.0004481\n"
     ]
    },
    {
     "name": "stdout",
     "output_type": "stream",
     "text": [
      "1271 10.1016/j.jare.2015.06.006\n",
      "1272 10.1038/ncomms10815\n",
      "1273 10.1186/s40413-016-0102-7\n",
      "1274 10.17533/udea.redin.n78a15\n",
      "1275 10.1186/s12891-016-0949-3\n",
      "1276 10.1371/journal.pone.0148417\n",
      "1277 10.1155/2016/3856518\n",
      "1278 10.3389/fmicb.2016.00153\n",
      "1279 10.1038/srep20644\n",
      "1280 10.1038/srep20562\n",
      "1281 10.3389/fcimb.2016.00004\n",
      "1282 10.3390/nu8020054\n",
      "1283 10.1186/s12879-016-1364-y\n",
      "1284 10.1371/journal.pone.0147135\n",
      "1285 10.1186/s12864-016-2364-4\n",
      "1286 10.3389/fncel.2015.00498\n",
      "1287 10.18294/sc.2016.883\n",
      "1288 10.14483/udistrital.jour.enunc.2016.1.a08\n",
      "1289 10.18294/sc.2016.912\n",
      "1290 10.1155/2016/9324315\n",
      "1291 10.1155/2016/2030675\n",
      "1292 10.1155/2016/6385712\n",
      "1293 10.1051/epjconf/201611305003\n",
      "1294 10.3897/phytokeys.70.8609\n",
      "1295 10.1136/bmjopen-2016-011271\n",
      "1296 10.1155/2016/4704309\n",
      "1297 10.1155/2016/3183285\n",
      "1298 10.1016/j.nicl.2016.01.017\n",
      "1299 10.11606/0103-2070.ts.2016.106009\n",
      "1300 10.3926/ic.726\n",
      "1301 10.1155/2016/4695185\n",
      "1302 10.1155/2016/2374907\n",
      "1303 10.1136/bmjopen-2015-008985\n",
      "1304 10.1136/bmjopen-2015-010569\n",
      "1305 10.1155/2016/1016840\n",
      "1306 10.1136/bmjopen-2015-009998\n",
      "1307 10.11144/javeriana.m8-17.eser\n",
      "1308 10.1371/journal.pntd.0004309\n",
      "1309 10.5194/cp-12-483-2016\n",
      "1310 10.17533/udea.trahs.n7a10\n",
      "1311 10.1155/2016/9760314\n",
      "1312 10.1155/2016/1730814\n",
      "1313 10.7440/res55.2016.07\n",
      "1314 10.1371/journal.pone.0145467\n",
      "1315 10.1140/epjc/s10052-015-3733-x\n",
      "1316 10.3389/fpls.2015.01095\n",
      "1317 10.1371/journal.pone.0144644\n",
      "1318 10.1186/s13102-015-0013-x\n",
      "1319 10.1038/srep16324\n",
      "1320 10.1186/s12887-015-0500-y\n",
      "1321 10.17533/udea.trahs.n7a12\n",
      "1322 10.1371/journal.pone.0141872\n",
      "1323 10.1371/journal.ppat.1005198\n",
      "1324 10.3390/nu7115448\n",
      "1325 10.1371/journal.pone.0141804\n",
      "1326 10.1186/s12985-015-0402-5\n",
      "1327 10.1007/jhep10(2015)063\n",
      "1328 10.3989/revmetalm.053\n",
      "1329 10.1371/journal.pgen.1005493\n",
      "1330 10.1186/s12977-015-0206-0\n",
      "1331 10.1186/s12936-015-0887-9\n",
      "1332 10.1186/s12916-017-0968-4\n",
      "1333 10.18273/revanua.v21n2-2016010\n",
      "1334 10.1186/s13071-015-1100-2\n",
      "1335 10.1371/journal.pone.0137619\n",
      "1336 10.1371/journal.pntd.0004045\n",
      "1337 10.15446/abc.v20n3.49373\n",
      "1338 10.1371/journal.pone.0136292\n",
      "1339 10.1186/s12864-015-1678-y\n",
      "1340 10.1016/j.ijid.2015.05.023\n",
      "1341 10.3390/toxins7082872\n",
      "1342 10.1371/journal.pone.0132811\n",
      "1343 10.1371/journal.pone.0133683\n",
      "1344 10.17523/bia.v73n2p150\n",
      "1345 10.1007/jhep07(2015)096\n",
      "1346 10.1038/srep11899\n",
      "1347 10.15446/caldasia.v37n2.53558\n",
      "1348 10.11144/javeriana.m8-16.mmpe\n",
      "1349 10.4314/tjpr.v14i7.3\n",
      "1350 10.4314/tjpr.v14i7.4\n",
      "1351 10.1371/journal.pone.0129113\n",
      "1352 10.1371/journal.pone.0130703\n",
      "1353 10.1371/journal.pone.0131139\n",
      "1354 10.3390/e17063595\n",
      "1355 10.21501/22161201.1618\n",
      "1356 10.1371/journal.pntd.0003810\n",
      "1357 10.1038/ncomms8500\n",
      "1358 10.3390/m853\n",
      "1359 10.1186/s12939-015-0176-9\n",
      "1360 10.1371/journal.pone.0122569\n",
      "1361 10.1186/s12958-015-0045-9\n",
      "1362 10.1186/s12985-015-0310-8\n",
      "1363 10.3389/fnagi.2015.00084\n",
      "1364 10.3390/toxins7051532\n",
      "1365 10.1186/s12967-015-0472-6\n",
      "1366 10.1093/jhps/hnv060\n",
      "check robots\n",
      "WARNING: Not found\n",
      "1367 10.17533/udea.iatreia.v28n2a05\n",
      "1368 10.1371/journal.pntd.0003553\n",
      "1369 10.1016/j.ijid.2015.01.004\n",
      "1370 10.3390/molecules20046181\n",
      "1371 10.3390/v7041685\n",
      "1372 10.1088/1367-2630/17/3/033038\n",
      "1373 10.1186/s12929-015-0124-4\n",
      "1374 10.1371/journal.pone.0119844\n",
      "1375 10.1371/journal.pone.0119488\n",
      "1376 10.1371/journal.pone.0120155\n",
      "1377 10.1186/1745-6215-16-s2-p59\n",
      "1378 10.1007/s13320-014-0210-3\n",
      "1379 10.3390/v7031313\n",
      "1380 10.5294/pacla.2015.18.1.8\n",
      "1381 10.1186/s13071-015-0711-y\n",
      "1382 10.1007/jhep01(2015)014\n",
      "1383 10.12795/araucaria.2015.i34.04\n",
      "1384 10.1159/000441120\n",
      "1385 10.2298/tsci140829119g\n",
      "1386 10.1155/2015/418673\n",
      "1387 10.5194/bg-12-6515-2015\n",
      "1388 10.3352/jeehp.2015.12.48\n",
      "1389 10.11144/javeriana.m7-15.tham\n",
      "1390 10.1136/bmjopen-2014-006772\n",
      "1391 10.4995/rlyla.2015.3149\n",
      "1392 10.1155/2015/267590\n",
      "1393 10.4103/0970-9371.155224\n",
      "1394 10.1155/2015/813129\n",
      "1395 10.1155/2015/762506\n",
      "1396 10.7440/res51.2015.10\n",
      "1397 10.3897/zookeys.484.8363\n",
      "1398 10.1155/2015/634720\n",
      "1399 10.19053/01211129.3848\n",
      "WARNING: Not found\n",
      "1400 10.15446/abc.v20n1.42832\n",
      "1401 10.1155/2015/796182\n",
      "1402 10.5867/medwave.2015.01.6075\n",
      "1403 10.1186/1471-2288-14-139\n",
      "1404 10.1002/ece3.1303\n",
      "1405 10.1371/journal.pntd.0003348\n",
      "1406 10.1186/s12985-014-0206-z\n",
      "1407 10.1186/s12970-014-0044-9\n",
      "1408 10.1371/journal.pone.0112179\n",
      "1409 10.7717/peerj.563\n",
      "1410 10.19053/01211129.3849\n",
      "WARNING: Not found\n",
      "1411 10.3390/molecules191118911\n",
      "1412 10.1016/j.aprim.2013.11.010\n",
      "1413 10.1186/1471-2431-14-258\n",
      "1414 10.1016/j.aprim.2013.11.007\n",
      "1415 10.3389/fimmu.2014.00460\n",
      "1416 10.1186/s12939-014-0079-1\n",
      "1417 10.3389/fnagi.2014.00243\n",
      "1418 10.1590/0037-8682-0007-2014\n",
      "1419 10.1128/mbio.01921-14\n",
      "1420 10.3390/molecules190913251\n",
      "1421 10.17141/letrasverdes.18.2015.1606\n",
      "1422 10.1371/journal.pgen.1004572\n",
      "1423 10.3389/fnagi.2014.00232\n",
      "1424 10.3391/bir.2014.3.3.06\n",
      "1425 10.1186/1756-3305-7-381\n",
      "1426 10.3389/fncel.2014.00211\n",
      "1427 10.1371/journal.pone.0103769\n",
      "1428 10.4314/tjpr.v13i8.12\n",
      "1429 10.1371/journal.pone.0102385\n",
      "1430 10.1371/journal.pone.0101417\n",
      "1431 10.3390/toxins6072082\n",
      "1432 10.14483/udistrital.jour.calj.2015.2.a01\n",
      "1433 10.3389/fpls.2014.00300\n",
      "1434 10.1371/journal.pone.0098785\n",
      "1435 10.1371/journal.pntd.0002882\n",
      "1436 10.1186/1745-6215-15-174\n",
      "1437 10.1371/journal.pone.0096886\n",
      "1438 10.1371/journal.pone.0096379\n",
      "1439 10.1186/1471-2164-15-327\n",
      "1440 10.1371/journal.pntd.0002856\n",
      "1441 10.3389/fimmu.2014.00162\n",
      "1442 10.1371/journal.pone.0093848\n",
      "1443 10.1140/epjc/s10052-017-5286-7\n",
      "1444 10.14483/udistrital.jour.calj.2015.2.a07\n",
      "1445 10.1186/1897-4287-12-11\n",
      "1446 10.1371/journal.pone.0090381\n",
      "1447 10.1140/epjc/s10052-014-2780-z\n",
      "1448 10.1186/1475-2875-13-122\n",
      "1449 10.1186/1756-3305-7-108\n",
      "1450 10.1371/journal.pone.0092289\n",
      "1451 10.1371/journal.pntd.0002734\n",
      "1452 10.3390/v6031274\n",
      "1453 10.1371/journal.pone.0089526\n",
      "1454 10.1371/journal.pone.0087412\n",
      "1455 10.1089/biores.2014.0054\n",
      "1456 10.1016/j.physletb.2014.01.006\n",
      "1457 10.1371/journal.pone.0087493\n",
      "1458 10.3390/molecules19021748\n",
      "1459 10.3390/molecules19022166\n",
      "1460 10.1371/journal.pone.0087202\n",
      "1461 10.1007/jhep01(2014)163\n",
      "1462 10.7717/peerj.246\n",
      "1463 10.1007/jhep01(2014)096\n",
      "1464 10.1371/journal.pone.0085496\n",
      "1465 10.1016/j.jesf.2014.07.002\n",
      "1466 10.15446/hys.n29.50596\n",
      "1467 10.3989/redc.2014.3.1118\n",
      "1468 10.3989/redc.2014.3.1133\n",
      "1469 10.3897/zookeys.410.7109\n",
      "1470 10.1155/2014/457154\n",
      "1471 10.1155/2014/367268\n",
      "1472 10.3897/zookeys.371.5588\n",
      "1473 10.1155/2014/169071\n",
      "1474 10.1371/journal.pone.0082717\n",
      "1475 10.1371/journal.pgen.1004023\n",
      "1476 10.3390/md11124815\n",
      "1477 10.1093/jhps/hnv029\n",
      "1478 10.3389/fnagi.2013.00080\n",
      "1479 10.1371/journal.pone.0080054\n",
      "1480 10.1371/journal.pone.0080592\n",
      "1481 10.1186/1475-2875-12-421\n",
      "1482 10.1371/journal.pone.0079645\n",
      "1483 10.1186/1756-3305-6-324\n",
      "1484 10.1371/journal.pone.0076253\n",
      "1485 10.1186/1743-422x-10-305\n",
      "1486 10.1590/s0034-8910.2013047004319\n",
      "1487 10.1371/journal.pgen.1003864\n",
      "1488 10.1093/jhps/hnv024\n",
      "1489 10.1186/1475-2875-12-347\n",
      "1490 10.1186/1475-2875-12-341\n",
      "1491 10.1186/1471-2253-13-23\n",
      "1492 10.3389/fpls.2013.00358\n",
      "1493 10.1186/1477-7819-11-225\n",
      "1494 10.3390/molecules180910609\n",
      "1495 10.1371/journal.pntd.0002438\n",
      "1496 10.1371/journal.pone.0071062\n",
      "1497 10.1371/journal.pone.0070974\n",
      "1498 10.1186/1471-2334-13-345\n",
      "1499 10.17533/udea.trahs.n6a10\n",
      "1500 10.1371/journal.pone.0068434\n",
      "1501 10.1371/journal.pone.0065636\n",
      "1502 10.1186/1743-422x-10-185\n",
      "1503 10.1002/mbo3.88\n",
      "1504 10.7440/res46.2013.11\n",
      "1505 10.1186/1742-6405-10-10\n",
      "1506 10.3390/molecules18056092\n",
      "1507 10.1590/s1020-49892013000400008\n",
      "1508 10.3390/molecules18044718\n",
      "1509 10.1371/journal.pgen.1003460\n",
      "1510 10.5294/pacla.2015.18.1.12\n",
      "1511 10.1371/journal.pone.0060047\n",
      "1512 10.1371/journal.pone.0059061\n",
      "1513 10.1186/1756-3305-6-61\n",
      "1514 10.3390/molecules18032598\n",
      "1515 10.3390/molecules18033356\n",
      "1516 10.1186/1756-3305-6-47\n",
      "1517 10.1371/journal.pone.0056283\n",
      "1518 10.1371/journal.pntd.0002060\n",
      "1519 10.2298/jsc130218033c\n",
      "1520 10.5294/aqui.2013.13.1.2\n",
      "1521 10.14483/udistrital.jour.enunc.2015.1.a11\n",
      "1522 10.7440/histcrit49.2013.02\n",
      "1523 10.1128/mbio.00597-12\n",
      "1524 10.3390/toxins4121500\n",
      "1525 10.3390/nu4121945\n",
      "1526 10.1186/1475-2875-11-392\n",
      "1527 10.1016/j.gaceta.2012.03.002\n",
      "1528 10.1371/journal.pone.0047913\n",
      "1529 10.1186/1743-422x-9-242\n",
      "1530 10.1186/1556-276x-7-538\n",
      "1531 10.1186/1471-2164-13-504\n",
      "1532 10.15446/ma.v6n2.54059\n",
      "1533 10.1590/s1020-49892012000900002\n",
      "1534 10.1186/1556-276x-7-492\n",
      "1535 10.1186/1743-422x-9-157\n",
      "1536 10.3389/fncel.2012.00030\n"
     ]
    },
    {
     "name": "stdout",
     "output_type": "stream",
     "text": [
      "1537 10.3390/nu4081015\n",
      "1538 10.3390/molecules17089451\n",
      "1539 10.3989/tp.2012.12095\n",
      "1540 10.1371/journal.pone.0038576\n",
      "1541 10.1186/1471-2164-13-249\n",
      "1542 10.1002/ece3.238\n",
      "1543 10.16925/pe.v11i18.1223\n",
      "1544 10.1371/journal.pone.0035671\n",
      "1545 10.1186/1745-6215-13-58\n",
      "1546 10.1371/journal.pone.0035472\n",
      "1547 10.1371/journal.pone.0033570\n",
      "1548 10.3989/redc.2012.2.873\n",
      "1549 10.1371/journal.pntd.0001612\n",
      "1550 10.1186/1743-422x-9-64\n",
      "1551 10.1371/journal.pgen.1002554\n",
      "1552 10.1186/1475-2875-11-38\n",
      "1553 10.1371/journal.pntd.0001530\n",
      "1554 10.3390/foods6110094\n",
      "1555 10.17533/udea.efyd.v34n1a10\n",
      "1556 10.1371/journal.pone.0030307\n",
      "1557 10.1371/journal.pone.0029970\n",
      "1558 10.1155/2012/313275\n",
      "1559 10.1155/2012/163913\n",
      "1560 10.3989/ris.2010.09.04\n",
      "1561 10.1186/1741-7007-9-86\n",
      "1562 10.3390/md9101902\n",
      "1563 10.1371/journal.pntd.0001353\n",
      "1564 10.3201/eid1710.110638\n",
      "1565 10.1371/journal.pgen.1002345\n",
      "1566 10.17533/udea.efyd.v34n1a11\n",
      "1567 10.1186/1756-3305-4-169\n",
      "1568 10.1186/1475-2875-10-244\n",
      "1569 10.1186/1471-2458-11-652\n",
      "1570 10.1186/1475-2875-10-239\n",
      "1571 10.1186/1471-2458-11-628\n",
      "1572 10.1371/journal.pntd.0001294\n",
      "1573 10.1371/journal.pone.0022111\n",
      "1574 10.1371/journal.pntd.0001232\n",
      "1575 10.1186/1556-276x-6-420\n",
      "check robots\n",
      "WARNING: Not found\n",
      "1576 10.1186/1475-2867-11-19\n",
      "1577 10.15665/rde.v13i2.532\n",
      "1578 10.1371/journal.pone.0019836\n",
      "1579 10.1186/1756-3305-4-66\n",
      "1580 10.1590/s0104-14282011005000027\n",
      "1581 10.1590/s0104-14282011005000030\n",
      "1582 10.1371/journal.pone.0016686\n",
      "1583 10.1590/s0104-14282011005000006\n",
      "1584 10.5294/aqui.2011.11.2.1\n",
      "WARNING: Not found\n",
      "1585 10.5294/aqui.2011.11.2.2\n",
      "WARNING: Not found\n",
      "1586 10.3389/fimmu.2011.00054\n",
      "1587 10.1093/gbe/evr043\n",
      "1588 10.5944/reppp.5.2015.13957\n",
      "1589 10.1371/journal.pntd.0000931\n",
      "1590 10.1186/1471-2458-10-791\n",
      "1591 10.1186/1741-7007-8-149\n",
      "WARNING: Not found\n",
      "1592 10.1186/1475-2875-9-346\n",
      "WARNING: Not found\n",
      "1593 10.1186/1756-3305-3-104\n",
      "1594 10.1371/journal.pone.0013177\n",
      "1595 10.1186/1471-2105-11-484\n",
      "1596 10.1186/1743-422x-7-226\n",
      "1597 10.1371/journal.pone.0011437\n",
      "1598 10.1186/1471-2334-10-153\n",
      "1599 10.1155/2015/978379\n",
      "1600 10.1371/journal.pntd.0000726\n",
      "1601 10.1371/journal.pone.0010744\n",
      "1602 10.1590/s0104-14282010005000022\n",
      "1603 10.1186/1742-4682-7-7\n",
      "1604 10.1371/journal.pone.0008257\n",
      "1605 10.3390/ijerph6123040\n",
      "1606 10.1186/1475-2875-8-259\n",
      "1607 10.1371/journal.pone.0006823\n",
      "1608 10.3390/molecules14072491\n",
      "1609 10.3989/revmetalm.0813\n",
      "1610 10.15332/s1794-3841.2015.0023.07\n",
      "WARNING: Not found\n",
      "1611 10.1186/1745-6215-10-41\n",
      "1612 10.1186/1471-2164-10-190\n",
      "1613 10.1186/1471-2164-10-183\n",
      "1614 10.1016/j.gaceta.2008.02.001\n",
      "1615 10.1186/1471-2172-10-4\n",
      "1616 10.1167/9.6.17\n",
      "1617 10.1186/1743-422x-5-101\n",
      "1618 10.1371/journal.pntd.0000296\n",
      "1619 10.1107/s1600536808018266\n",
      "1620 10.1157/13125352\n",
      "1621 10.1017/gmh.2015.19\n",
      "1622 10.1186/1471-2458-8-175\n",
      "1623 10.1157/13123975\n",
      "1624 10.1186/1475-2875-7-72\n",
      "1625 10.1371/journal.pgen.1000037\n",
      "1626 10.1186/cc7017\n",
      "1627 10.1155/2008/792632\n",
      "1628 10.3390/molecules13010190\n",
      "1629 10.1371/journal.pgen.0030185\n",
      "1630 10.1186/1475-2875-6-47\n",
      "1631 10.1186/1742-4690-3-83\n",
      "1632 10.21555/top.v0i50.750\n",
      "WARNING: Not found\n",
      "1633 10.1186/1475-2875-5-66\n",
      "1634 10.1186/1745-6215-7-19\n",
      "1635 10.1186/1745-6215-7-14\n",
      "1636 10.1186/1471-2334-6-55\n",
      "1637 10.1186/1475-2875-5-14\n",
      "1638 10.1016/j.curtheres.2006.02.001\n",
      "1639 10.1186/1471-2180-5-34\n",
      "1640 10.3390/71100817\n",
      "1641 10.1186/1471-2334-2-8\n",
      "1642 10.3390/70300331\n",
      "1643 10.17533/udea.trahs.n5a06\n",
      "1644 10.3390/51201287\n",
      "1645 10.1590/s0074-02762000000200018\n",
      "1646 10.3390/50700974\n",
      "1647 10.1590/s0074-02761999000600005\n",
      "1648 10.1590/s0074-02761999000400019\n",
      "1649 10.1590/s0074-02761998000600022\n",
      "1650 10.1590/s0074-02761998000400015\n",
      "1651 10.1590/s0074-02761998000200022\n",
      "1652 10.1590/s0100-879x1997000300011\n",
      "1653 10.1590/s0074-02761997000200018\n",
      "1654 10.2478/acph-2014-0033\n",
      "1655 10.1590/s0101-31732017000400003\n",
      "1656 10.17533/udea.iatreia.v30n4a02\n",
      "1657 10.17533/udea.iatreia.v30n4a04\n",
      "1658 10.17533/udea.iatreia.v30n4a06\n",
      "1659 10.17533/udea.iatreia.v30n4a11\n",
      "1660 10.1590/1809-4392201700392\n",
      "1661 10.15446/abc.v22n3.58688\n",
      "1662 10.1590/1980-5373-mr-2017-0290\n",
      "1663 10.17533/udea.iatreia.v30n3a01\n",
      "1664 10.17533/udea.iatreia.v30n3a02\n",
      "1665 10.1007/jhep10(2017)180\n",
      "1666 10.3389/fncel.2014.00231\n",
      "1667 10.17533/udea.iatreia.v30n3a04\n",
      "1668 10.17533/udea.iatreia.v30n3a09\n",
      "1669 10.17533/udea.iatreia.v30n3a11\n",
      "1670 10.1016/j.gaceta.2017.01.001\n",
      "1671 10.17533/udea.iatreia.v30n2a02\n",
      "1672 10.17533/udea.iatreia.v30n2a05\n",
      "1673 10.17533/udea.iatreia.v30n2a06\n",
      "1674 10.17533/udea.iatreia.v30n2a10\n",
      "1675 10.1590/0104-9224/si2202.03\n",
      "1676 10.15446/ing.investig.v37n1.57991\n",
      "1677 10.1016/j.physletb.2014.04.023\n",
      "1678 10.1590/0074-02760160404\n",
      "1679 10.1590/abd1806-4841.20175140\n",
      "1680 10.1590/s1678-9946201759076\n",
      "1681 10.11606/s1518-8787.2017051006864\n",
      "1682 10.15446/caldasia.v39n1.63168\n",
      "1683 10.18294/sc.2017.1107\n",
      "1684 10.18294/sc.2017.1079\n",
      "1685 10.17230/co-herencia.14.26.4\n",
      "1686 10.1590/s1517-707620170002.0152\n",
      "1687 10.1590/s1517-707620170002.0138\n",
      "1688 10.1016/j.physletb.2014.01.049\n",
      "1689 10.1590/0104-1428.04816\n",
      "check robots\n",
      "WARNING: Not found\n",
      "1690 10.17533/udea.iatreia.v30n1a02\n",
      "1691 10.17533/udea.iatreia.v30n1a04\n",
      "1692 10.17533/udea.iatreia.v30n1a05\n",
      "1693 10.17533/udea.iatreia.v30n1a07\n",
      "1694 10.17533/udea.iatreia.v30n1a10\n",
      "1695 10.1590/0037-8682-0457-2016\n",
      "1696 10.1590/1809-4392201600773\n",
      "1697 10.15446/ing.investig.v36n3.54037\n",
      "1698 10.1590/0074-02760160245\n",
      "1699 10.1186/ar4644\n",
      "1700 10.1590/0102-311x00133215\n",
      "1701 10.1590/0102-311x00103614\n",
      "1702 10.1590/0104-1428.2344\n",
      "1703 10.17533/udea.iatreia.v29n4a02\n",
      "1704 10.17533/udea.iatreia.v29n4a07\n",
      "1705 10.17533/udea.iatreia.v29n4a10\n",
      "1706 10.1590/0102-311x00134315\n",
      "1707 10.1590/0074-02760160096\n",
      "1708 10.1590/0102-311x00210715\n",
      "1709 10.1016/j.rmb.2016.06.005\n",
      "1710 10.7440/res44.2012.13\n",
      "1711 10.15446/abc.v21n3.55085\n",
      "1712 10.15446/abc.v21n3.51651\n",
      "1713 10.15446/abc.v21n3.50796\n",
      "1714 10.17533/udea.redin.n80a05\n",
      "1715 10.17533/udea.redin.n80a07\n",
      "1716 10.17533/udea.redin.n80a12\n",
      "1717 10.17533/udea.redin.n80a16\n",
      "1718 10.1590/1413-81232015218.19742015\n",
      "1719 10.1590/1413-81232015218.14732015\n",
      "1720 10.5935/0100-4042.20160100\n",
      "1721 10.1186/1556-276x-7-586\n",
      "1722 10.15446/caldasia.v38n2.60919\n",
      "1723 10.1590/s0104-12902016149242\n",
      "1724 10.19053/20275137.5203\n",
      "1725 10.17533/udea.iatreia.v29n3a02\n",
      "1726 10.17533/udea.iatreia.v29n3a03\n",
      "1727 10.17533/udea.iatreia.v29n3a06\n",
      "1728 10.17533/udea.iatreia.v29n3a08\n",
      "1729 10.17533/udea.iatreia.v29n3a12\n",
      "1730 10.5294/pacla.2016.19.2.10\n",
      "1731 10.17533/udea.redin.n79a04\n",
      "1732 10.1016/j.ijid.2012.05.306\n",
      "1733 10.17533/udea.redin.n79a05\n",
      "1734 10.17533/udea.redin.n79a09\n",
      "1735 10.17533/udea.redin.n79a13\n",
      "1736 10.1590/0104-1428.1896\n",
      "1737 10.1590/0102-311x00111415\n",
      "1738 10.15446/abc.v21n2.50196\n",
      "1739 10.1590/1980-5373-mr-2015-0599\n",
      "1740 10.17533/udea.redin.n78a05\n",
      "1741 10.17533/udea.redin.n78a08\n",
      "1742 10.15446/rev.colomb.quim.v45n2.60406\n",
      "1743 10.1016/j.ijid.2012.05.956\n",
      "1744 10.1590/s1984-4689zool-20160113\n",
      "1745 10.1590/s1984-4689zool-20160054\n",
      "1746 10.21500/20112084.2648\n",
      "1747 10.1590/0104-9224/si2101.06\n",
      "1748 10.1590/1517-106x/181-54\n",
      "1749 10.1590/1980-5373-mr-2015-0319\n",
      "1750 10.1590/s1517-707620160001.0005\n",
      "1751 10.7440/histcrit59.2016.07\n",
      "1752 10.15446/abc.v21n1.47382\n",
      "1753 10.15446/abc.v21n1.49240\n",
      "1754 10.1016/j.ijid.2012.05.966\n",
      "1755 10.15446/abc.v21n1.48845\n",
      "1756 10.1590/0102-311x00016515\n",
      "1757 10.1590/1516-1439.364514\n",
      "1758 10.1590/0102-311x00027115\n",
      "1759 10.1590/0074-02760280040\n",
      "1760 10.1590/s0036-46652015000700003\n",
      "1761 10.15446/abc.v20n3.47354\n",
      "1762 10.15446/abc.v20n3.45225\n",
      "1763 10.5294/pacla.2015.18.3.13\n",
      "1764 10.15446/ing.investig.v35n2.49838\n",
      "1765 10.1016/j.ijid.2010.02.1902\n",
      "1766 10.15446/caldasia.v37n2.54379\n",
      "1767 10.17533/udea.iatreia.v28n3a03\n",
      "1768 10.17533/udea.iatreia.v28n3a09\n",
      "1769 10.17533/udea.iatreia.v28n3a11\n",
      "1770 10.1590/0102-311x00124814\n",
      "1771 10.1186/s40409-015-0018-7\n",
      "1772 10.15446/abc.v20n2.46057\n",
      "1773 10.15446/abc.v20n2.41932\n",
      "1774 10.17533/udea.iatreia.v28n2a01\n",
      "1775 10.1590/1413-81232015204.00552014\n"
     ]
    }
   ],
   "source": [
    "dfgs=pd.DataFrame()\n",
    "i=786\n",
    "#oaudea[oaudea['OA_Yellow']!='']['OA_Yellow']\n",
    "for doi in dfgsn.DOI.values[nini:]:#nini+n]:\n",
    "    print(i,doi)\n",
    "    gsd=google_scholar_query(DOI=doi)\n",
    "    if not gsd:\n",
    "        print('WARNING: Not found')\n",
    "    gsd['DOI']=doi\n",
    "    dfgs=dfgs.append(gsd,ignore_index=True )\n",
    "    dfgs.to_json('gas.json')\n",
    "    time.sleep(random.uniform(0.9*t,1.1*t))\n",
    "    if i%n==0:\n",
    "        time.sleep(wait)        \n",
    "    i=i+1"
   ]
  },
  {
   "cell_type": "code",
   "execution_count": 7,
   "metadata": {
    "collapsed": true
   },
   "outputs": [],
   "source": [
    "import pandas as pd"
   ]
  },
  {
   "cell_type": "code",
   "execution_count": 161,
   "metadata": {
    "collapsed": true
   },
   "outputs": [],
   "source": [
    "kk=pd.read_json('gas_0_309.json').append(\n",
    "   pd.read_json('gas_310_409.json')).append(\n",
    "   pd.read_json('gas_409_549.json')).append(\n",
    "   pd.read_json('gas_549_1340.json')).append(\n",
    "   pd.read_json('gas_missing1.json')).append(\n",
    "   pd.read_json('gas_missing2.json')).append(\n",
    "   pd.read_json('gas_missing3.json')).append(\n",
    "   pd.read_json('gasta1.json')).reset_index(drop=True)"
   ]
  },
  {
   "cell_type": "code",
   "execution_count": 234,
   "metadata": {
    "collapsed": true
   },
   "outputs": [],
   "source": [
    "kk=pd.read_json('gas_0_309.json').append(\n",
    "   pd.read_json('gas_310_409.json')).append(\n",
    "   pd.read_json('gas_409_549.json')).append(\n",
    "   pd.read_json('gas_549_1340.json'))"
   ]
  },
  {
   "cell_type": "code",
   "execution_count": 238,
   "metadata": {
    "collapsed": true
   },
   "outputs": [],
   "source": [
    "kk=kk.fillna('')"
   ]
  },
  {
   "cell_type": "code",
   "execution_count": 239,
   "metadata": {},
   "outputs": [
    {
     "data": {
      "text/plain": [
       "(1764, 12)"
      ]
     },
     "execution_count": 239,
     "metadata": {},
     "output_type": "execute_result"
    }
   ],
   "source": [
    "kk.shape#.drop_duplicates().shape"
   ]
  },
  {
   "cell_type": "code",
   "execution_count": 240,
   "metadata": {},
   "outputs": [
    {
     "data": {
      "text/plain": [
       "(1340,)"
      ]
     },
     "execution_count": 240,
     "metadata": {},
     "output_type": "execute_result"
    }
   ],
   "source": [
    "kk.DOI.drop_duplicates().shape"
   ]
  },
  {
   "cell_type": "code",
   "execution_count": 162,
   "metadata": {
    "collapsed": true
   },
   "outputs": [],
   "source": [
    "kky,kkn=wp.df_split(kk,on='title',Operator='!=',condition='')"
   ]
  },
  {
   "cell_type": "code",
   "execution_count": 163,
   "metadata": {
    "collapsed": true
   },
   "outputs": [],
   "source": [
    "dfd=kky.append(kkn).reset_index(drop=True).fillna('')"
   ]
  },
  {
   "cell_type": "code",
   "execution_count": 164,
   "metadata": {
    "collapsed": true
   },
   "outputs": [],
   "source": [
    "df=dfd.drop_duplicates('DOI').reset_index(drop=True)"
   ]
  },
  {
   "cell_type": "code",
   "execution_count": 165,
   "metadata": {
    "collapsed": true
   },
   "outputs": [],
   "source": [
    "df['cites']=df.cites.replace('',0).astype(int)\n",
    "df['Year']=df.Year.replace('',-1).astype(int)\n",
    "df['quality_author']=df.quality_author.replace('',0).astype(float)\n",
    "df['quality_title']=df.quality_title.replace('',0).astype(float)"
   ]
  },
  {
   "cell_type": "code",
   "execution_count": 166,
   "metadata": {},
   "outputs": [
    {
     "data": {
      "text/plain": [
       "(2318, 13)"
      ]
     },
     "execution_count": 166,
     "metadata": {},
     "output_type": "execute_result"
    }
   ],
   "source": [
    "df.shape"
   ]
  },
  {
   "cell_type": "code",
   "execution_count": 167,
   "metadata": {},
   "outputs": [
    {
     "data": {
      "text/plain": [
       "(1285, 13)"
      ]
     },
     "execution_count": 167,
     "metadata": {},
     "output_type": "execute_result"
    }
   ],
   "source": [
    "df[df.cites!=0].shape"
   ]
  },
  {
   "cell_type": "code",
   "execution_count": 168,
   "metadata": {
    "collapsed": true
   },
   "outputs": [],
   "source": [
    "df.to_json('oa_cites.json')"
   ]
  },
  {
   "cell_type": "code",
   "execution_count": 169,
   "metadata": {
    "collapsed": true
   },
   "outputs": [],
   "source": [
    "df=pd.read_json('oa_cites.json').reset_index(drop=True)"
   ]
  },
  {
   "cell_type": "code",
   "execution_count": 170,
   "metadata": {},
   "outputs": [
    {
     "data": {
      "text/html": [
       "<div>\n",
       "<style scoped>\n",
       "    .dataframe tbody tr th:only-of-type {\n",
       "        vertical-align: middle;\n",
       "    }\n",
       "\n",
       "    .dataframe tbody tr th {\n",
       "        vertical-align: top;\n",
       "    }\n",
       "\n",
       "    .dataframe thead th {\n",
       "        text-align: right;\n",
       "    }\n",
       "</style>\n",
       "<table border=\"1\" class=\"dataframe\">\n",
       "  <thead>\n",
       "    <tr style=\"text-align: right;\">\n",
       "      <th></th>\n",
       "      <th>DOI</th>\n",
       "      <th>Journal</th>\n",
       "      <th>Year</th>\n",
       "      <th>abstract</th>\n",
       "      <th>authors</th>\n",
       "      <th>cites</th>\n",
       "      <th>cites_link</th>\n",
       "      <th>old_title</th>\n",
       "      <th>profiles</th>\n",
       "      <th>quality_author</th>\n",
       "      <th>quality_title</th>\n",
       "      <th>ref</th>\n",
       "      <th>title</th>\n",
       "    </tr>\n",
       "  </thead>\n",
       "  <tbody>\n",
       "    <tr>\n",
       "      <th>0</th>\n",
       "      <td>10.7705/biomedica.v37i3.4058</td>\n",
       "      <td></td>\n",
       "      <td>-1</td>\n",
       "      <td></td>\n",
       "      <td></td>\n",
       "      <td>0</td>\n",
       "      <td></td>\n",
       "      <td></td>\n",
       "      <td></td>\n",
       "      <td>0.0</td>\n",
       "      <td>0.0</td>\n",
       "      <td></td>\n",
       "      <td></td>\n",
       "    </tr>\n",
       "  </tbody>\n",
       "</table>\n",
       "</div>"
      ],
      "text/plain": [
       "                            DOI Journal  Year abstract authors  cites  \\\n",
       "0  10.7705/biomedica.v37i3.4058            -1                       0   \n",
       "\n",
       "  cites_link old_title profiles  quality_author  quality_title ref title  \n",
       "0                                           0.0            0.0            "
      ]
     },
     "execution_count": 170,
     "metadata": {},
     "output_type": "execute_result"
    }
   ],
   "source": [
    "df[:1]"
   ]
  },
  {
   "cell_type": "code",
   "execution_count": 171,
   "metadata": {},
   "outputs": [
    {
     "data": {
      "text/plain": [
       "Index(['APC', 'APC_USD', 'doi', 'ISSNWOS', 'OAGISSN', 'OA_Green',\n",
       "       'OA_Green_Article', 'OA_Yellow', 'Open_Access'],\n",
       "      dtype='object')"
      ]
     },
     "execution_count": 171,
     "metadata": {},
     "output_type": "execute_result"
    }
   ],
   "source": [
    "oaudea.columns"
   ]
  },
  {
   "cell_type": "code",
   "execution_count": null,
   "metadata": {
    "collapsed": true
   },
   "outputs": [],
   "source": [
    "oaudea=oaudea.drop('ISSNs',axis='columns')"
   ]
  },
  {
   "cell_type": "code",
   "execution_count": 174,
   "metadata": {},
   "outputs": [
    {
     "data": {
      "text/plain": [
       "(7999, 9)"
      ]
     },
     "execution_count": 174,
     "metadata": {},
     "output_type": "execute_result"
    }
   ],
   "source": [
    "oaudea.shape"
   ]
  },
  {
   "cell_type": "code",
   "execution_count": 175,
   "metadata": {
    "collapsed": true
   },
   "outputs": [],
   "source": [
    "udea=oa.read_drive_json('oadoi_udea.json')"
   ]
  },
  {
   "cell_type": "code",
   "execution_count": 176,
   "metadata": {
    "collapsed": true
   },
   "outputs": [],
   "source": [
    "oaudea=oaudea.rename({'DI':'doi'},axis='columns' )"
   ]
  },
  {
   "cell_type": "code",
   "execution_count": 177,
   "metadata": {
    "collapsed": true
   },
   "outputs": [],
   "source": [
    "udea=udea.reset_index(drop=True)"
   ]
  },
  {
   "cell_type": "code",
   "execution_count": 178,
   "metadata": {
    "collapsed": true
   },
   "outputs": [],
   "source": [
    "oaudea_oadoi=oaudea.merge(udea,on='doi',how='left')"
   ]
  },
  {
   "cell_type": "code",
   "execution_count": 179,
   "metadata": {},
   "outputs": [
    {
     "data": {
      "text/plain": [
       "Index(['APC', 'APC_USD', 'doi', 'ISSNWOS', 'OAGISSN', 'OA_Green',\n",
       "       'OA_Green_Article', 'OA_Yellow', 'Open_Access', 'best_oa_location',\n",
       "       'data_standard', 'doi_url', 'genre', 'is_oa', 'journal_is_in_doaj',\n",
       "       'journal_is_oa', 'journal_issns', 'journal_name', 'oa_locations',\n",
       "       'published_date', 'publisher', 'title', 'updated', 'year', 'z_authors'],\n",
       "      dtype='object')"
      ]
     },
     "execution_count": 179,
     "metadata": {},
     "output_type": "execute_result"
    }
   ],
   "source": [
    "oaudea_oadoi.columns"
   ]
  },
  {
   "cell_type": "code",
   "execution_count": 180,
   "metadata": {
    "collapsed": true
   },
   "outputs": [],
   "source": [
    "dfgs=wp.columns_add_prefix(df,'GS')"
   ]
  },
  {
   "cell_type": "code",
   "execution_count": 181,
   "metadata": {
    "collapsed": true
   },
   "outputs": [],
   "source": [
    "dfgs=dfgs.rename( {'GS_DOI':'doi'},axis='columns')"
   ]
  },
  {
   "cell_type": "code",
   "execution_count": 182,
   "metadata": {
    "collapsed": true
   },
   "outputs": [],
   "source": [
    "oaudea_oadoi_gs=oaudea_oadoi.merge(dfgs,on='doi',how='left')"
   ]
  },
  {
   "cell_type": "code",
   "execution_count": 183,
   "metadata": {},
   "outputs": [
    {
     "data": {
      "text/plain": [
       "(7999, 37)"
      ]
     },
     "execution_count": 183,
     "metadata": {},
     "output_type": "execute_result"
    }
   ],
   "source": [
    "oaudea_oadoi_gs.shape"
   ]
  },
  {
   "cell_type": "code",
   "execution_count": 184,
   "metadata": {},
   "outputs": [
    {
     "data": {
      "text/plain": [
       "(527, 13)"
      ]
     },
     "execution_count": 184,
     "metadata": {},
     "output_type": "execute_result"
    }
   ],
   "source": [
    "dfgs[dfgs['GS_title']==''].shape"
   ]
  },
  {
   "cell_type": "code",
   "execution_count": null,
   "metadata": {
    "collapsed": true
   },
   "outputs": [],
   "source": [
    "kk=oaudea[oaudea.DI!=''].rename({'DI':'DOI'},axis='columns')[['DOI','Open_Access','APC']].merge(\n",
    "    df,on='DOI',how='left').fillna('')"
   ]
  },
  {
   "cell_type": "code",
   "execution_count": 186,
   "metadata": {
    "collapsed": true
   },
   "outputs": [],
   "source": [
    "qq=oaudea_oadoi_gs.copy()"
   ]
  },
  {
   "cell_type": "code",
   "execution_count": 187,
   "metadata": {
    "collapsed": true
   },
   "outputs": [],
   "source": [
    "import numpy as np"
   ]
  },
  {
   "cell_type": "code",
   "execution_count": 188,
   "metadata": {},
   "outputs": [
    {
     "data": {
      "text/plain": [
       "Index(['APC', 'APC_USD', 'doi', 'ISSNWOS', 'OAGISSN', 'OA_Green',\n",
       "       'OA_Green_Article', 'OA_Yellow', 'Open_Access', 'best_oa_location',\n",
       "       'data_standard', 'doi_url', 'genre', 'is_oa', 'journal_is_in_doaj',\n",
       "       'journal_is_oa', 'journal_issns', 'journal_name', 'oa_locations',\n",
       "       'published_date', 'publisher', 'title', 'updated', 'year', 'z_authors',\n",
       "       'GS_Journal', 'GS_Year', 'GS_abstract', 'GS_authors', 'GS_cites',\n",
       "       'GS_cites_link', 'GS_old_title', 'GS_profiles', 'GS_quality_author',\n",
       "       'GS_quality_title', 'GS_ref', 'GS_title'],\n",
       "      dtype='object')"
      ]
     },
     "execution_count": 188,
     "metadata": {},
     "output_type": "execute_result"
    }
   ],
   "source": [
    "qq.columns"
   ]
  },
  {
   "cell_type": "code",
   "execution_count": 97,
   "metadata": {},
   "outputs": [
    {
     "data": {
      "text/plain": [
       "(109, 1)"
      ]
     },
     "execution_count": 97,
     "metadata": {},
     "output_type": "execute_result"
    }
   ],
   "source": [
    "kk[np.logical_and( kk.GS_title=='',kk.APC!='')][['doi']].shape"
   ]
  },
  {
   "cell_type": "code",
   "execution_count": 189,
   "metadata": {
    "collapsed": true
   },
   "outputs": [],
   "source": [
    "qq=qq.fillna('')"
   ]
  },
  {
   "cell_type": "code",
   "execution_count": 190,
   "metadata": {
    "collapsed": true
   },
   "outputs": [],
   "source": [
    "qq=qq[qq.title!='']"
   ]
  },
  {
   "cell_type": "code",
   "execution_count": 193,
   "metadata": {
    "collapsed": true
   },
   "outputs": [],
   "source": [
    "import unidecode as un"
   ]
  },
  {
   "cell_type": "code",
   "execution_count": 195,
   "metadata": {
    "collapsed": true
   },
   "outputs": [],
   "source": [
    "qq['QT']=qq.GS_title.str.lower().str.strip().map(un.unidecode).combine(\\\n",
    "  qq.title.str.lower().str.strip().map(un.unidecode) , func=lv.ratio)"
   ]
  },
  {
   "cell_type": "code",
   "execution_count": 202,
   "metadata": {
    "collapsed": true
   },
   "outputs": [],
   "source": [
    "qqq=qq[qq.APC!='']"
   ]
  },
  {
   "cell_type": "code",
   "execution_count": 212,
   "metadata": {
    "collapsed": true
   },
   "outputs": [],
   "source": [
    "datos=qqq[np.logical_and( qqq.QT<0.4,qqq.QT>0)]#.to_json('tmp.json')"
   ]
  },
  {
   "cell_type": "code",
   "execution_count": 214,
   "metadata": {
    "collapsed": true
   },
   "outputs": [],
   "source": [
    "datos=datos.reset_index(drop=True)"
   ]
  },
  {
   "cell_type": "code",
   "execution_count": 208,
   "metadata": {},
   "outputs": [
    {
     "data": {
      "text/html": [
       "<div>\n",
       "<style scoped>\n",
       "    .dataframe tbody tr th:only-of-type {\n",
       "        vertical-align: middle;\n",
       "    }\n",
       "\n",
       "    .dataframe tbody tr th {\n",
       "        vertical-align: top;\n",
       "    }\n",
       "\n",
       "    .dataframe thead th {\n",
       "        text-align: right;\n",
       "    }\n",
       "</style>\n",
       "<table border=\"1\" class=\"dataframe\">\n",
       "  <thead>\n",
       "    <tr style=\"text-align: right;\">\n",
       "      <th></th>\n",
       "      <th>GS_title</th>\n",
       "      <th>title</th>\n",
       "      <th>QT</th>\n",
       "    </tr>\n",
       "  </thead>\n",
       "  <tbody>\n",
       "    <tr>\n",
       "      <th>0</th>\n",
       "      <td></td>\n",
       "      <td>Functional roles of ornithine decarboxylase an...</td>\n",
       "      <td>0</td>\n",
       "    </tr>\n",
       "    <tr>\n",
       "      <th>1</th>\n",
       "      <td></td>\n",
       "      <td>Erratum: Variable frequency of LRRK2 variants ...</td>\n",
       "      <td>0</td>\n",
       "    </tr>\n",
       "    <tr>\n",
       "      <th>5</th>\n",
       "      <td></td>\n",
       "      <td>Erratum: Chlamydia trachomatis neither exerts ...</td>\n",
       "      <td>0</td>\n",
       "    </tr>\n",
       "    <tr>\n",
       "      <th>9</th>\n",
       "      <td>Search for associated production of dark matte...</td>\n",
       "      <td>Search for associated production of dark matte...</td>\n",
       "      <td>0.375427</td>\n",
       "    </tr>\n",
       "    <tr>\n",
       "      <th>10</th>\n",
       "      <td></td>\n",
       "      <td>Measurements of jet charge with dijet events i...</td>\n",
       "      <td>0</td>\n",
       "    </tr>\n",
       "    <tr>\n",
       "      <th>11</th>\n",
       "      <td></td>\n",
       "      <td>Measurements of the pp → Wγγ and pp → Zγγ cros...</td>\n",
       "      <td>0</td>\n",
       "    </tr>\n",
       "    <tr>\n",
       "      <th>12</th>\n",
       "      <td></td>\n",
       "      <td>Search for new physics in the monophoton final...</td>\n",
       "      <td>0</td>\n",
       "    </tr>\n",
       "    <tr>\n",
       "      <th>13</th>\n",
       "      <td></td>\n",
       "      <td>Search for a heavy resonance decaying to a top...</td>\n",
       "      <td>0</td>\n",
       "    </tr>\n",
       "    <tr>\n",
       "      <th>14</th>\n",
       "      <td></td>\n",
       "      <td>Morphological and physicochemical characteriza...</td>\n",
       "      <td>0</td>\n",
       "    </tr>\n",
       "    <tr>\n",
       "      <th>15</th>\n",
       "      <td></td>\n",
       "      <td>Atypical bacterial pneumonia in the HIV-infect...</td>\n",
       "      <td>0</td>\n",
       "    </tr>\n",
       "    <tr>\n",
       "      <th>16</th>\n",
       "      <td></td>\n",
       "      <td>Measurement of double-differential cross secti...</td>\n",
       "      <td>0</td>\n",
       "    </tr>\n",
       "    <tr>\n",
       "      <th>17</th>\n",
       "      <td></td>\n",
       "      <td>La responsabilidad del Estado por intervencion...</td>\n",
       "      <td>0</td>\n",
       "    </tr>\n",
       "    <tr>\n",
       "      <th>18</th>\n",
       "      <td></td>\n",
       "      <td>Variable frequency of LRRK2 variants in the La...</td>\n",
       "      <td>0</td>\n",
       "    </tr>\n",
       "    <tr>\n",
       "      <th>41</th>\n",
       "      <td>Publicaciones de egresados, docentes e investi...</td>\n",
       "      <td>Increase of Frequency and Modulation of Phenot...</td>\n",
       "      <td>0.385621</td>\n",
       "    </tr>\n",
       "    <tr>\n",
       "      <th>42</th>\n",
       "      <td>Mejoras en el acceso a la terapia preventiva c...</td>\n",
       "      <td>Tuberculosis exposure, infection and disease i...</td>\n",
       "      <td>0.373626</td>\n",
       "    </tr>\n",
       "    <tr>\n",
       "      <th>46</th>\n",
       "      <td>Número: Núm. 19 (2016): Julio-Diciembre</td>\n",
       "      <td>La política pública de víctimas del desplazami...</td>\n",
       "      <td>0.18254</td>\n",
       "    </tr>\n",
       "    <tr>\n",
       "      <th>61</th>\n",
       "      <td></td>\n",
       "      <td>Effects of supplementation with protected poly...</td>\n",
       "      <td>0</td>\n",
       "    </tr>\n",
       "    <tr>\n",
       "      <th>63</th>\n",
       "      <td></td>\n",
       "      <td>Iliopsoas tendon insertion footprint with surg...</td>\n",
       "      <td>0</td>\n",
       "    </tr>\n",
       "    <tr>\n",
       "      <th>66</th>\n",
       "      <td></td>\n",
       "      <td>Modelación y simulación de un pervaporador aco...</td>\n",
       "      <td>0</td>\n",
       "    </tr>\n",
       "    <tr>\n",
       "      <th>67</th>\n",
       "      <td></td>\n",
       "      <td>Propiedades mecánicas bajo compresión y resist...</td>\n",
       "      <td>0</td>\n",
       "    </tr>\n",
       "    <tr>\n",
       "      <th>73</th>\n",
       "      <td>Accuracy of Three Clinical Tests to Diagnose H...</td>\n",
       "      <td>Deep gluteal syndrome</td>\n",
       "      <td>0.266667</td>\n",
       "    </tr>\n",
       "    <tr>\n",
       "      <th>83</th>\n",
       "      <td>Discovery of highly divergent repeat landscape...</td>\n",
       "      <td>Metodología para la evaluación alimentaria y n...</td>\n",
       "      <td>0.365591</td>\n",
       "    </tr>\n",
       "    <tr>\n",
       "      <th>85</th>\n",
       "      <td></td>\n",
       "      <td>Texto ilustrado o imágenes textualizadas. Un a...</td>\n",
       "      <td>0</td>\n",
       "    </tr>\n",
       "    <tr>\n",
       "      <th>87</th>\n",
       "      <td></td>\n",
       "      <td>Por una constitución de la experiencia humana ...</td>\n",
       "      <td>0</td>\n",
       "    </tr>\n",
       "    <tr>\n",
       "      <th>100</th>\n",
       "      <td></td>\n",
       "      <td>Nursing Care Means Help</td>\n",
       "      <td>0</td>\n",
       "    </tr>\n",
       "    <tr>\n",
       "      <th>101</th>\n",
       "      <td></td>\n",
       "      <td>Cervical Cancer: Analysis of the Quality of a ...</td>\n",
       "      <td>0</td>\n",
       "    </tr>\n",
       "    <tr>\n",
       "      <th>102</th>\n",
       "      <td></td>\n",
       "      <td>Coping with a Serious Illness</td>\n",
       "      <td>0</td>\n",
       "    </tr>\n",
       "    <tr>\n",
       "      <th>103</th>\n",
       "      <td></td>\n",
       "      <td>Quantitative Study of Structure-Activity Relat...</td>\n",
       "      <td>0</td>\n",
       "    </tr>\n",
       "    <tr>\n",
       "      <th>104</th>\n",
       "      <td></td>\n",
       "      <td>Salud pública, economía y obesidad: el bueno, ...</td>\n",
       "      <td>0</td>\n",
       "    </tr>\n",
       "    <tr>\n",
       "      <th>105</th>\n",
       "      <td></td>\n",
       "      <td>Correlación y conversión entre los valores de ...</td>\n",
       "      <td>0</td>\n",
       "    </tr>\n",
       "    <tr>\n",
       "      <th>...</th>\n",
       "      <td>...</td>\n",
       "      <td>...</td>\n",
       "      <td>...</td>\n",
       "    </tr>\n",
       "    <tr>\n",
       "      <th>1854</th>\n",
       "      <td></td>\n",
       "      <td>Identificación de algunos genes asociados al p...</td>\n",
       "      <td>0</td>\n",
       "    </tr>\n",
       "    <tr>\n",
       "      <th>1855</th>\n",
       "      <td></td>\n",
       "      <td>El análisis molecular y el inmunogénico sugier...</td>\n",
       "      <td>0</td>\n",
       "    </tr>\n",
       "    <tr>\n",
       "      <th>1857</th>\n",
       "      <td></td>\n",
       "      <td>Efecto de la microestructura y de la microdure...</td>\n",
       "      <td>0</td>\n",
       "    </tr>\n",
       "    <tr>\n",
       "      <th>1858</th>\n",
       "      <td></td>\n",
       "      <td>Efecto de la suplementación con grasas protegi...</td>\n",
       "      <td>0</td>\n",
       "    </tr>\n",
       "    <tr>\n",
       "      <th>1860</th>\n",
       "      <td></td>\n",
       "      <td>Procesamiento del grano de maíz sobre la cinét...</td>\n",
       "      <td>0</td>\n",
       "    </tr>\n",
       "    <tr>\n",
       "      <th>1861</th>\n",
       "      <td></td>\n",
       "      <td>Uso de la actividad colinesterasa para el diag...</td>\n",
       "      <td>0</td>\n",
       "    </tr>\n",
       "    <tr>\n",
       "      <th>1862</th>\n",
       "      <td></td>\n",
       "      <td>Enteritis eosinofílica idiopática en una vaca ...</td>\n",
       "      <td>0</td>\n",
       "    </tr>\n",
       "    <tr>\n",
       "      <th>1863</th>\n",
       "      <td>Diagnóstico y manejo de la restricción del cre...</td>\n",
       "      <td>Pathogenic mechanisms in Plasmodium falciparum...</td>\n",
       "      <td>0.356021</td>\n",
       "    </tr>\n",
       "    <tr>\n",
       "      <th>1864</th>\n",
       "      <td></td>\n",
       "      <td>Natural Plasmodium knowlesi malaria infections...</td>\n",
       "      <td>0</td>\n",
       "    </tr>\n",
       "    <tr>\n",
       "      <th>1865</th>\n",
       "      <td>Reporting of statistical regression analyses i...</td>\n",
       "      <td>Calidad de vida de los adultos mayores de Mede...</td>\n",
       "      <td>0.321168</td>\n",
       "    </tr>\n",
       "    <tr>\n",
       "      <th>1866</th>\n",
       "      <td>Reporting of statistical regression analyses i...</td>\n",
       "      <td>Calidad de vida relacionada con la salud en ad...</td>\n",
       "      <td>0.350282</td>\n",
       "    </tr>\n",
       "    <tr>\n",
       "      <th>1872</th>\n",
       "      <td>A descriptive study of 16 severe Plasmodium vi...</td>\n",
       "      <td>Cambios en las concentraciones de retinol, hem...</td>\n",
       "      <td>0.396226</td>\n",
       "    </tr>\n",
       "    <tr>\n",
       "      <th>1873</th>\n",
       "      <td></td>\n",
       "      <td>Estudio piloto de la eficacia y de los efectos...</td>\n",
       "      <td>0</td>\n",
       "    </tr>\n",
       "    <tr>\n",
       "      <th>1875</th>\n",
       "      <td></td>\n",
       "      <td>Reporte de cuatro casos de pacientes con síndr...</td>\n",
       "      <td>0</td>\n",
       "    </tr>\n",
       "    <tr>\n",
       "      <th>1877</th>\n",
       "      <td></td>\n",
       "      <td>El acoplamiento excitación-contracción en el m...</td>\n",
       "      <td>0</td>\n",
       "    </tr>\n",
       "    <tr>\n",
       "      <th>1878</th>\n",
       "      <td>Vitamin D supplementation in primary allergy p...</td>\n",
       "      <td>Estado nutricional de niños palúdicos resident...</td>\n",
       "      <td>0.390698</td>\n",
       "    </tr>\n",
       "    <tr>\n",
       "      <th>1884</th>\n",
       "      <td></td>\n",
       "      <td>Cellulolytic and Butyrivibrio fibrisolvens bac...</td>\n",
       "      <td>0</td>\n",
       "    </tr>\n",
       "    <tr>\n",
       "      <th>1885</th>\n",
       "      <td></td>\n",
       "      <td>Antibodies against spotted fever group Rickett...</td>\n",
       "      <td>0</td>\n",
       "    </tr>\n",
       "    <tr>\n",
       "      <th>1886</th>\n",
       "      <td></td>\n",
       "      <td>Effects of Kikuyu grass (Pennisetum clandestin...</td>\n",
       "      <td>0</td>\n",
       "    </tr>\n",
       "    <tr>\n",
       "      <th>1887</th>\n",
       "      <td></td>\n",
       "      <td>Random regression models for milk, fat and pro...</td>\n",
       "      <td>0</td>\n",
       "    </tr>\n",
       "    <tr>\n",
       "      <th>1888</th>\n",
       "      <td></td>\n",
       "      <td>Establishing an in vitro production program fo...</td>\n",
       "      <td>0</td>\n",
       "    </tr>\n",
       "    <tr>\n",
       "      <th>1889</th>\n",
       "      <td></td>\n",
       "      <td>Challenges for the elimination of malaria in C...</td>\n",
       "      <td>0</td>\n",
       "    </tr>\n",
       "    <tr>\n",
       "      <th>1891</th>\n",
       "      <td></td>\n",
       "      <td>Estudio seroepidemiológico del virus respirato...</td>\n",
       "      <td>0</td>\n",
       "    </tr>\n",
       "    <tr>\n",
       "      <th>1894</th>\n",
       "      <td></td>\n",
       "      <td>Genotoxicidad del agua contaminada por plaguic...</td>\n",
       "      <td>0</td>\n",
       "    </tr>\n",
       "    <tr>\n",
       "      <th>1895</th>\n",
       "      <td></td>\n",
       "      <td>Alteraciones en el reclutamiento y activación ...</td>\n",
       "      <td>0</td>\n",
       "    </tr>\n",
       "    <tr>\n",
       "      <th>1896</th>\n",
       "      <td></td>\n",
       "      <td>Endocarditis infecciosa por Paecilomyces variotii</td>\n",
       "      <td>0</td>\n",
       "    </tr>\n",
       "    <tr>\n",
       "      <th>1897</th>\n",
       "      <td></td>\n",
       "      <td>Reporte de cinco casos de malaria neonatal gra...</td>\n",
       "      <td>0</td>\n",
       "    </tr>\n",
       "    <tr>\n",
       "      <th>1913</th>\n",
       "      <td></td>\n",
       "      <td>Gametocitemia en malaria por Plasmodium falcip...</td>\n",
       "      <td>0</td>\n",
       "    </tr>\n",
       "    <tr>\n",
       "      <th>1921</th>\n",
       "      <td></td>\n",
       "      <td>Presentación</td>\n",
       "      <td>0</td>\n",
       "    </tr>\n",
       "    <tr>\n",
       "      <th>1971</th>\n",
       "      <td></td>\n",
       "      <td>Análisis de los factores determinantes del uso...</td>\n",
       "      <td>0</td>\n",
       "    </tr>\n",
       "  </tbody>\n",
       "</table>\n",
       "<p>832 rows × 3 columns</p>\n",
       "</div>"
      ],
      "text/plain": [
       "                                               GS_title  \\\n",
       "0                                                         \n",
       "1                                                         \n",
       "5                                                         \n",
       "9     Search for associated production of dark matte...   \n",
       "10                                                        \n",
       "11                                                        \n",
       "12                                                        \n",
       "13                                                        \n",
       "14                                                        \n",
       "15                                                        \n",
       "16                                                        \n",
       "17                                                        \n",
       "18                                                        \n",
       "41    Publicaciones de egresados, docentes e investi...   \n",
       "42    Mejoras en el acceso a la terapia preventiva c...   \n",
       "46              Número: Núm. 19 (2016): Julio-Diciembre   \n",
       "61                                                        \n",
       "63                                                        \n",
       "66                                                        \n",
       "67                                                        \n",
       "73    Accuracy of Three Clinical Tests to Diagnose H...   \n",
       "83    Discovery of highly divergent repeat landscape...   \n",
       "85                                                        \n",
       "87                                                        \n",
       "100                                                       \n",
       "101                                                       \n",
       "102                                                       \n",
       "103                                                       \n",
       "104                                                       \n",
       "105                                                       \n",
       "...                                                 ...   \n",
       "1854                                                      \n",
       "1855                                                      \n",
       "1857                                                      \n",
       "1858                                                      \n",
       "1860                                                      \n",
       "1861                                                      \n",
       "1862                                                      \n",
       "1863  Diagnóstico y manejo de la restricción del cre...   \n",
       "1864                                                      \n",
       "1865  Reporting of statistical regression analyses i...   \n",
       "1866  Reporting of statistical regression analyses i...   \n",
       "1872  A descriptive study of 16 severe Plasmodium vi...   \n",
       "1873                                                      \n",
       "1875                                                      \n",
       "1877                                                      \n",
       "1878  Vitamin D supplementation in primary allergy p...   \n",
       "1884                                                      \n",
       "1885                                                      \n",
       "1886                                                      \n",
       "1887                                                      \n",
       "1888                                                      \n",
       "1889                                                      \n",
       "1891                                                      \n",
       "1894                                                      \n",
       "1895                                                      \n",
       "1896                                                      \n",
       "1897                                                      \n",
       "1913                                                      \n",
       "1921                                                      \n",
       "1971                                                      \n",
       "\n",
       "                                                  title        QT  \n",
       "0     Functional roles of ornithine decarboxylase an...         0  \n",
       "1     Erratum: Variable frequency of LRRK2 variants ...         0  \n",
       "5     Erratum: Chlamydia trachomatis neither exerts ...         0  \n",
       "9     Search for associated production of dark matte...  0.375427  \n",
       "10    Measurements of jet charge with dijet events i...         0  \n",
       "11    Measurements of the pp → Wγγ and pp → Zγγ cros...         0  \n",
       "12    Search for new physics in the monophoton final...         0  \n",
       "13    Search for a heavy resonance decaying to a top...         0  \n",
       "14    Morphological and physicochemical characteriza...         0  \n",
       "15    Atypical bacterial pneumonia in the HIV-infect...         0  \n",
       "16    Measurement of double-differential cross secti...         0  \n",
       "17    La responsabilidad del Estado por intervencion...         0  \n",
       "18    Variable frequency of LRRK2 variants in the La...         0  \n",
       "41    Increase of Frequency and Modulation of Phenot...  0.385621  \n",
       "42    Tuberculosis exposure, infection and disease i...  0.373626  \n",
       "46    La política pública de víctimas del desplazami...   0.18254  \n",
       "61    Effects of supplementation with protected poly...         0  \n",
       "63    Iliopsoas tendon insertion footprint with surg...         0  \n",
       "66    Modelación y simulación de un pervaporador aco...         0  \n",
       "67    Propiedades mecánicas bajo compresión y resist...         0  \n",
       "73                                Deep gluteal syndrome  0.266667  \n",
       "83    Metodología para la evaluación alimentaria y n...  0.365591  \n",
       "85    Texto ilustrado o imágenes textualizadas. Un a...         0  \n",
       "87    Por una constitución de la experiencia humana ...         0  \n",
       "100                             Nursing Care Means Help         0  \n",
       "101   Cervical Cancer: Analysis of the Quality of a ...         0  \n",
       "102                       Coping with a Serious Illness         0  \n",
       "103   Quantitative Study of Structure-Activity Relat...         0  \n",
       "104   Salud pública, economía y obesidad: el bueno, ...         0  \n",
       "105   Correlación y conversión entre los valores de ...         0  \n",
       "...                                                 ...       ...  \n",
       "1854  Identificación de algunos genes asociados al p...         0  \n",
       "1855  El análisis molecular y el inmunogénico sugier...         0  \n",
       "1857  Efecto de la microestructura y de la microdure...         0  \n",
       "1858  Efecto de la suplementación con grasas protegi...         0  \n",
       "1860  Procesamiento del grano de maíz sobre la cinét...         0  \n",
       "1861  Uso de la actividad colinesterasa para el diag...         0  \n",
       "1862  Enteritis eosinofílica idiopática en una vaca ...         0  \n",
       "1863  Pathogenic mechanisms in Plasmodium falciparum...  0.356021  \n",
       "1864  Natural Plasmodium knowlesi malaria infections...         0  \n",
       "1865  Calidad de vida de los adultos mayores de Mede...  0.321168  \n",
       "1866  Calidad de vida relacionada con la salud en ad...  0.350282  \n",
       "1872  Cambios en las concentraciones de retinol, hem...  0.396226  \n",
       "1873  Estudio piloto de la eficacia y de los efectos...         0  \n",
       "1875  Reporte de cuatro casos de pacientes con síndr...         0  \n",
       "1877  El acoplamiento excitación-contracción en el m...         0  \n",
       "1878  Estado nutricional de niños palúdicos resident...  0.390698  \n",
       "1884  Cellulolytic and Butyrivibrio fibrisolvens bac...         0  \n",
       "1885  Antibodies against spotted fever group Rickett...         0  \n",
       "1886  Effects of Kikuyu grass (Pennisetum clandestin...         0  \n",
       "1887  Random regression models for milk, fat and pro...         0  \n",
       "1888  Establishing an in vitro production program fo...         0  \n",
       "1889  Challenges for the elimination of malaria in C...         0  \n",
       "1891  Estudio seroepidemiológico del virus respirato...         0  \n",
       "1894  Genotoxicidad del agua contaminada por plaguic...         0  \n",
       "1895  Alteraciones en el reclutamiento y activación ...         0  \n",
       "1896  Endocarditis infecciosa por Paecilomyces variotii         0  \n",
       "1897  Reporte de cinco casos de malaria neonatal gra...         0  \n",
       "1913  Gametocitemia en malaria por Plasmodium falcip...         0  \n",
       "1921                                       Presentación         0  \n",
       "1971  Análisis de los factores determinantes del uso...         0  \n",
       "\n",
       "[832 rows x 3 columns]"
      ]
     },
     "execution_count": 208,
     "metadata": {},
     "output_type": "execute_result"
    }
   ],
   "source": [
    "qqq[qqq.QT<0.4][['GS_title','title','QT']]"
   ]
  },
  {
   "cell_type": "code",
   "execution_count": 156,
   "metadata": {
    "collapsed": true
   },
   "outputs": [],
   "source": [
    "import Levenshtein as lv"
   ]
  },
  {
   "cell_type": "code",
   "execution_count": null,
   "metadata": {
    "collapsed": true
   },
   "outputs": [],
   "source": [
    "df=df.sort_values('cites',ascending=False)\n",
    "df[['cites','DOI','authors','title']]"
   ]
  },
  {
   "cell_type": "code",
   "execution_count": 98,
   "metadata": {
    "collapsed": true
   },
   "outputs": [],
   "source": [
    "import numpy as np"
   ]
  },
  {
   "cell_type": "code",
   "execution_count": 16,
   "metadata": {
    "collapsed": true
   },
   "outputs": [],
   "source": [
    "dfgsy=kk[np.logical_and( kk.title!='',kk.authors!='')]\n",
    "tmp=dfgsy.append( kk[np.logical_and( kk.title=='',kk.authors=='')] )"
   ]
  },
  {
   "cell_type": "code",
   "execution_count": 17,
   "metadata": {
    "collapsed": true
   },
   "outputs": [],
   "source": [
    "dfgs=tmp.drop_duplicates('DOI')"
   ]
  },
  {
   "cell_type": "code",
   "execution_count": 99,
   "metadata": {
    "collapsed": true
   },
   "outputs": [],
   "source": [
    "kk=kk[np.logical_and( kk.GS_title=='',kk.APC!='')]#[['doi']]"
   ]
  },
  {
   "cell_type": "code",
   "execution_count": 100,
   "metadata": {},
   "outputs": [
    {
     "data": {
      "text/plain": [
       "(109, 36)"
      ]
     },
     "execution_count": 100,
     "metadata": {},
     "output_type": "execute_result"
    }
   ],
   "source": [
    "kk.shape"
   ]
  },
  {
   "cell_type": "code",
   "execution_count": 29,
   "metadata": {
    "collapsed": true
   },
   "outputs": [],
   "source": [
    "dfgsn=dfgs[ np.logical_and(dfgs.title=='',dfgs.authors=='') ].reset_index(drop=True)"
   ]
  },
  {
   "cell_type": "code",
   "execution_count": 55,
   "metadata": {
    "collapsed": true
   },
   "outputs": [],
   "source": [
    "datos=kk.reset_index(drop=True)"
   ]
  },
  {
   "cell_type": "code",
   "execution_count": 217,
   "metadata": {},
   "outputs": [
    {
     "data": {
      "text/plain": [
       "(34, 38)"
      ]
     },
     "execution_count": 217,
     "metadata": {},
     "output_type": "execute_result"
    }
   ],
   "source": [
    "datos.shape"
   ]
  },
  {
   "cell_type": "code",
   "execution_count": 218,
   "metadata": {
    "collapsed": true
   },
   "outputs": [],
   "source": [
    "kk=datos"
   ]
  },
  {
   "cell_type": "code",
   "execution_count": 107,
   "metadata": {
    "collapsed": true
   },
   "outputs": [],
   "source": [
    "kk=kk.fillna('').reset_index(drop=True)"
   ]
  },
  {
   "cell_type": "code",
   "execution_count": 219,
   "metadata": {
    "collapsed": true
   },
   "outputs": [],
   "source": [
    "kk['name_simple']=kk[kk.z_authors!=''].z_authors.str[0].apply(lambda x: x.get('given'))+', '+kk[kk.z_authors!=''].z_authors.str[0].apply(lambda x: x.get('family'))"
   ]
  },
  {
   "cell_type": "markdown",
   "metadata": {},
   "source": [
    "### Search Google cites for Redalyc"
   ]
  },
  {
   "cell_type": "code",
   "execution_count": 215,
   "metadata": {
    "collapsed": true
   },
   "outputs": [],
   "source": [
    "nini=0"
   ]
  },
  {
   "cell_type": "code",
   "execution_count": 220,
   "metadata": {
    "collapsed": true
   },
   "outputs": [],
   "source": [
    "datos=kk.copy()"
   ]
  },
  {
   "cell_type": "code",
   "execution_count": 221,
   "metadata": {},
   "outputs": [
    {
     "name": "stdout",
     "output_type": "stream",
     "text": [
      "0 A. M., Sirunyan\n",
      "check robots\n",
      "1 Yurany, Blanquiceth\n",
      "2 Claudia L., Roya-Pabon\n",
      "3 Jonathan Alejandro, Murcia\n",
      "4 H. D., Martin\n",
      "5 Luz Stella, Álvarez-Castaño\n",
      "6 Dorys Liliana, Henao Henao\n",
      "7 Rafael, Rubiano Muñoz\n",
      "8 Jhon Jairo, Giraldo Ortíz\n",
      "9 Liber, Nan\n",
      "10 Marta, Caballero\n",
      "11 Carlos, Alberto Giraldo\n",
      "12 Verónica, Velasquez-Agudelo\n",
      "13 Wbeimar, Aguilar-Jimenez\n",
      "14 Cecilia, Gómez-Calderón\n",
      "15 Lawrence N., Hudson\n",
      "16 Luis, Caraballo\n",
      "17 Anabel, Barrera García\n",
      "18 Claudia Cecilia, Álvarez-Franco\n",
      "19 Miguel, Mendivil-Perez\n",
      "20 Alejandro G., Schijman\n",
      "21 Andrés A, Agudelo-Suárez\n",
      "22 Jairo A, Mendez\n",
      "23 Nelida, Rodriguez-Osorio\n",
      "24 Alper, Uzun\n",
      "25 Luz Estella, Mesa\n",
      "26 Tiago Felipe de Abreu, Santos\n",
      "27 Nelson, Grisales\n",
      "28 Yolanda Lucía, López\n",
      "29 Ana María, Vásquez\n",
      "30 Alejandro, Estrada\n",
      "31 Jaiberth, Cardona-Arias\n",
      "32 Rosa Magdalena, Uscátegui\n",
      "33 Rosa Magdalena, Uscátegui\n"
     ]
    }
   ],
   "source": [
    "t=60\n",
    "dfgs=pd.DataFrame()\n",
    "for ii in datos[nini:].index:\n",
    "    print(ii,datos.loc[ii,'name_simple'])\n",
    "    #gsd=google_scholar_query(DOI=doi)\n",
    "    gsd=google_scholar_query(#DOI=datos.loc[ii,'doi'])\n",
    "                     title =datos.loc[ii,'title'],\n",
    "                     author=datos.loc[ii,'name_simple'])\n",
    "    gsd['old_title']=datos.loc[ii,'title']\n",
    "    dfgs=dfgs.append(gsd,ignore_index=True )\n",
    "    dfgs.to_json('gasta.json')\n",
    "    time.sleep(random.uniform(0.9*t,1.1*t))"
   ]
  },
  {
   "cell_type": "code",
   "execution_count": 124,
   "metadata": {
    "collapsed": true
   },
   "outputs": [],
   "source": [
    "dfgs=dfgs.fillna(0)"
   ]
  },
  {
   "cell_type": "code",
   "execution_count": 126,
   "metadata": {
    "collapsed": true
   },
   "outputs": [],
   "source": [
    "dfgs[dfgs.quality_title>=0.9].to_json('gasta1.json')"
   ]
  },
  {
   "cell_type": "code",
   "execution_count": 122,
   "metadata": {},
   "outputs": [
    {
     "data": {
      "text/html": [
       "<div>\n",
       "<style scoped>\n",
       "    .dataframe tbody tr th:only-of-type {\n",
       "        vertical-align: middle;\n",
       "    }\n",
       "\n",
       "    .dataframe tbody tr th {\n",
       "        vertical-align: top;\n",
       "    }\n",
       "\n",
       "    .dataframe thead th {\n",
       "        text-align: right;\n",
       "    }\n",
       "</style>\n",
       "<table border=\"1\" class=\"dataframe\">\n",
       "  <thead>\n",
       "    <tr style=\"text-align: right;\">\n",
       "      <th></th>\n",
       "      <th>APC</th>\n",
       "      <th>APC_USD</th>\n",
       "      <th>doi</th>\n",
       "      <th>ISSNWOS</th>\n",
       "      <th>OAGISSN</th>\n",
       "      <th>OA_Green</th>\n",
       "      <th>OA_Green_Article</th>\n",
       "      <th>OA_Yellow</th>\n",
       "      <th>Open_Access</th>\n",
       "      <th>best_oa_location</th>\n",
       "      <th>...</th>\n",
       "      <th>GS_authors</th>\n",
       "      <th>GS_cites</th>\n",
       "      <th>GS_cites_link</th>\n",
       "      <th>GS_profiles</th>\n",
       "      <th>GS_quality_author</th>\n",
       "      <th>GS_quality_title</th>\n",
       "      <th>GS_ref</th>\n",
       "      <th>GS_title</th>\n",
       "      <th>authors</th>\n",
       "      <th>name_simple</th>\n",
       "    </tr>\n",
       "  </thead>\n",
       "  <tbody>\n",
       "    <tr>\n",
       "      <th>85</th>\n",
       "      <td>0NOT</td>\n",
       "      <td>0</td>\n",
       "      <td>10.1590/s0103-65132013000400016</td>\n",
       "      <td>0103-6513,1980-5411</td>\n",
       "      <td></td>\n",
       "      <td>10.1590/s0103-65132013000400016</td>\n",
       "      <td></td>\n",
       "      <td></td>\n",
       "      <td>10.1590/s0103-65132013000400016</td>\n",
       "      <td></td>\n",
       "      <td>...</td>\n",
       "      <td></td>\n",
       "      <td>0.0</td>\n",
       "      <td></td>\n",
       "      <td></td>\n",
       "      <td>0.0</td>\n",
       "      <td>0.0</td>\n",
       "      <td></td>\n",
       "      <td></td>\n",
       "      <td></td>\n",
       "      <td></td>\n",
       "    </tr>\n",
       "    <tr>\n",
       "      <th>88</th>\n",
       "      <td>0NOT</td>\n",
       "      <td>0</td>\n",
       "      <td>10.4321/s2340-98942017000400001</td>\n",
       "      <td>0004-2927</td>\n",
       "      <td></td>\n",
       "      <td>10.4321/s2340-98942017000400001</td>\n",
       "      <td></td>\n",
       "      <td></td>\n",
       "      <td>10.4321/s2340-98942017000400001</td>\n",
       "      <td></td>\n",
       "      <td>...</td>\n",
       "      <td>JF Berrio Escobar…</td>\n",
       "      <td>0.0</td>\n",
       "      <td></td>\n",
       "      <td>{}</td>\n",
       "      <td>1.0</td>\n",
       "      <td>1.0</td>\n",
       "      <td>JF Berrio Escobar… - ARS …, 2017 - UNIV GRANAD...</td>\n",
       "      <td></td>\n",
       "      <td></td>\n",
       "      <td></td>\n",
       "    </tr>\n",
       "    <tr>\n",
       "      <th>89</th>\n",
       "      <td>0NOT</td>\n",
       "      <td>0</td>\n",
       "      <td>10.1590/s0120-41572015000200012</td>\n",
       "      <td>0120-4157</td>\n",
       "      <td></td>\n",
       "      <td>10.1590/s0120-41572015000200012</td>\n",
       "      <td></td>\n",
       "      <td></td>\n",
       "      <td>10.1590/s0120-41572015000200012</td>\n",
       "      <td></td>\n",
       "      <td>...</td>\n",
       "      <td></td>\n",
       "      <td>0.0</td>\n",
       "      <td></td>\n",
       "      <td></td>\n",
       "      <td>0.0</td>\n",
       "      <td>0.0</td>\n",
       "      <td></td>\n",
       "      <td></td>\n",
       "      <td></td>\n",
       "      <td></td>\n",
       "    </tr>\n",
       "    <tr>\n",
       "      <th>90</th>\n",
       "      <td>0NOT</td>\n",
       "      <td>0</td>\n",
       "      <td>10.1590/s0120-41572015000100008</td>\n",
       "      <td>0120-4157</td>\n",
       "      <td></td>\n",
       "      <td>10.1590/s0120-41572015000100008</td>\n",
       "      <td></td>\n",
       "      <td></td>\n",
       "      <td>10.1590/s0120-41572015000100008</td>\n",
       "      <td></td>\n",
       "      <td>...</td>\n",
       "      <td></td>\n",
       "      <td>0.0</td>\n",
       "      <td></td>\n",
       "      <td></td>\n",
       "      <td>0.0</td>\n",
       "      <td>0.0</td>\n",
       "      <td></td>\n",
       "      <td></td>\n",
       "      <td></td>\n",
       "      <td></td>\n",
       "    </tr>\n",
       "    <tr>\n",
       "      <th>91</th>\n",
       "      <td>0NOT</td>\n",
       "      <td>0</td>\n",
       "      <td>10.1590/s0120-53072015000200001</td>\n",
       "      <td>2216-0280</td>\n",
       "      <td></td>\n",
       "      <td>10.1590/s0120-53072015000200001</td>\n",
       "      <td></td>\n",
       "      <td></td>\n",
       "      <td>10.1590/s0120-53072015000200001</td>\n",
       "      <td></td>\n",
       "      <td>...</td>\n",
       "      <td></td>\n",
       "      <td>0.0</td>\n",
       "      <td></td>\n",
       "      <td></td>\n",
       "      <td>0.0</td>\n",
       "      <td>0.0</td>\n",
       "      <td></td>\n",
       "      <td></td>\n",
       "      <td></td>\n",
       "      <td></td>\n",
       "    </tr>\n",
       "    <tr>\n",
       "      <th>92</th>\n",
       "      <td>0NOT</td>\n",
       "      <td>0</td>\n",
       "      <td>10.1590/s0120-53072015000200004</td>\n",
       "      <td>2216-0280</td>\n",
       "      <td></td>\n",
       "      <td>10.1590/s0120-53072015000200004</td>\n",
       "      <td></td>\n",
       "      <td></td>\n",
       "      <td>10.1590/s0120-53072015000200004</td>\n",
       "      <td></td>\n",
       "      <td>...</td>\n",
       "      <td></td>\n",
       "      <td>0.0</td>\n",
       "      <td></td>\n",
       "      <td></td>\n",
       "      <td>0.0</td>\n",
       "      <td>0.0</td>\n",
       "      <td></td>\n",
       "      <td></td>\n",
       "      <td></td>\n",
       "      <td></td>\n",
       "    </tr>\n",
       "    <tr>\n",
       "      <th>93</th>\n",
       "      <td>0NOT</td>\n",
       "      <td>0</td>\n",
       "      <td>10.1590/s0120-41572014000400014</td>\n",
       "      <td>0120-4157</td>\n",
       "      <td></td>\n",
       "      <td>10.1590/s0120-41572014000400014</td>\n",
       "      <td></td>\n",
       "      <td></td>\n",
       "      <td>10.1590/s0120-41572014000400014</td>\n",
       "      <td></td>\n",
       "      <td>...</td>\n",
       "      <td></td>\n",
       "      <td>0.0</td>\n",
       "      <td></td>\n",
       "      <td></td>\n",
       "      <td>0.0</td>\n",
       "      <td>0.0</td>\n",
       "      <td></td>\n",
       "      <td></td>\n",
       "      <td></td>\n",
       "      <td></td>\n",
       "    </tr>\n",
       "    <tr>\n",
       "      <th>94</th>\n",
       "      <td>0NOT</td>\n",
       "      <td>0</td>\n",
       "      <td>10.1590/s0120-41572014000300010</td>\n",
       "      <td>0120-4157</td>\n",
       "      <td></td>\n",
       "      <td>10.1590/s0120-41572014000300010</td>\n",
       "      <td></td>\n",
       "      <td></td>\n",
       "      <td>10.1590/s0120-41572014000300010</td>\n",
       "      <td></td>\n",
       "      <td>...</td>\n",
       "      <td></td>\n",
       "      <td>0.0</td>\n",
       "      <td></td>\n",
       "      <td></td>\n",
       "      <td>0.0</td>\n",
       "      <td>0.0</td>\n",
       "      <td></td>\n",
       "      <td></td>\n",
       "      <td></td>\n",
       "      <td></td>\n",
       "    </tr>\n",
       "    <tr>\n",
       "      <th>95</th>\n",
       "      <td>0NOT</td>\n",
       "      <td>0</td>\n",
       "      <td>10.1590/s0120-41572014000300016</td>\n",
       "      <td>0120-4157</td>\n",
       "      <td></td>\n",
       "      <td>10.1590/s0120-41572014000300016</td>\n",
       "      <td></td>\n",
       "      <td></td>\n",
       "      <td>10.1590/s0120-41572014000300016</td>\n",
       "      <td></td>\n",
       "      <td>...</td>\n",
       "      <td></td>\n",
       "      <td>0.0</td>\n",
       "      <td></td>\n",
       "      <td></td>\n",
       "      <td>0.0</td>\n",
       "      <td>0.0</td>\n",
       "      <td></td>\n",
       "      <td></td>\n",
       "      <td></td>\n",
       "      <td></td>\n",
       "    </tr>\n",
       "    <tr>\n",
       "      <th>96</th>\n",
       "      <td>0NOT</td>\n",
       "      <td>0</td>\n",
       "      <td>10.1590/s0120-41572014000300012</td>\n",
       "      <td>0120-4157</td>\n",
       "      <td></td>\n",
       "      <td>10.1590/s0120-41572014000300012</td>\n",
       "      <td></td>\n",
       "      <td></td>\n",
       "      <td>10.1590/s0120-41572014000300012</td>\n",
       "      <td></td>\n",
       "      <td>...</td>\n",
       "      <td></td>\n",
       "      <td>0.0</td>\n",
       "      <td></td>\n",
       "      <td></td>\n",
       "      <td>0.0</td>\n",
       "      <td>0.0</td>\n",
       "      <td></td>\n",
       "      <td></td>\n",
       "      <td></td>\n",
       "      <td></td>\n",
       "    </tr>\n",
       "    <tr>\n",
       "      <th>97</th>\n",
       "      <td>0NOT</td>\n",
       "      <td>0</td>\n",
       "      <td>10.1590/s0120-41572014000300011</td>\n",
       "      <td>0120-4157</td>\n",
       "      <td></td>\n",
       "      <td>10.1590/s0120-41572014000300011</td>\n",
       "      <td></td>\n",
       "      <td></td>\n",
       "      <td>10.1590/s0120-41572014000300011</td>\n",
       "      <td></td>\n",
       "      <td>...</td>\n",
       "      <td></td>\n",
       "      <td>0.0</td>\n",
       "      <td></td>\n",
       "      <td></td>\n",
       "      <td>0.0</td>\n",
       "      <td>0.0</td>\n",
       "      <td></td>\n",
       "      <td></td>\n",
       "      <td></td>\n",
       "      <td></td>\n",
       "    </tr>\n",
       "    <tr>\n",
       "      <th>98</th>\n",
       "      <td>0NOT</td>\n",
       "      <td>0</td>\n",
       "      <td>10.1590/s0120-41572014000300015</td>\n",
       "      <td>0120-4157</td>\n",
       "      <td></td>\n",
       "      <td>10.1590/s0120-41572014000300015</td>\n",
       "      <td></td>\n",
       "      <td></td>\n",
       "      <td>10.1590/s0120-41572014000300015</td>\n",
       "      <td></td>\n",
       "      <td>...</td>\n",
       "      <td></td>\n",
       "      <td>0.0</td>\n",
       "      <td></td>\n",
       "      <td></td>\n",
       "      <td>0.0</td>\n",
       "      <td>0.0</td>\n",
       "      <td></td>\n",
       "      <td></td>\n",
       "      <td></td>\n",
       "      <td></td>\n",
       "    </tr>\n",
       "    <tr>\n",
       "      <th>99</th>\n",
       "      <td>0NOT</td>\n",
       "      <td>0</td>\n",
       "      <td>10.1590/s0120-41572014000300006</td>\n",
       "      <td>0120-4157</td>\n",
       "      <td></td>\n",
       "      <td>10.1590/s0120-41572014000300006</td>\n",
       "      <td></td>\n",
       "      <td></td>\n",
       "      <td>10.1590/s0120-41572014000300006</td>\n",
       "      <td></td>\n",
       "      <td>...</td>\n",
       "      <td></td>\n",
       "      <td>0.0</td>\n",
       "      <td></td>\n",
       "      <td></td>\n",
       "      <td>0.0</td>\n",
       "      <td>0.0</td>\n",
       "      <td></td>\n",
       "      <td></td>\n",
       "      <td></td>\n",
       "      <td></td>\n",
       "    </tr>\n",
       "    <tr>\n",
       "      <th>100</th>\n",
       "      <td>0NOT</td>\n",
       "      <td>0</td>\n",
       "      <td>10.1590/s0120-41572014000200010</td>\n",
       "      <td>0120-4157</td>\n",
       "      <td></td>\n",
       "      <td>10.1590/s0120-41572014000200010</td>\n",
       "      <td></td>\n",
       "      <td></td>\n",
       "      <td>10.1590/s0120-41572014000200010</td>\n",
       "      <td></td>\n",
       "      <td>...</td>\n",
       "      <td></td>\n",
       "      <td>0.0</td>\n",
       "      <td></td>\n",
       "      <td></td>\n",
       "      <td>0.0</td>\n",
       "      <td>0.0</td>\n",
       "      <td></td>\n",
       "      <td></td>\n",
       "      <td></td>\n",
       "      <td></td>\n",
       "    </tr>\n",
       "    <tr>\n",
       "      <th>102</th>\n",
       "      <td>1565GBP</td>\n",
       "      <td>2029</td>\n",
       "      <td>10.2119/2007-00094.van vickle</td>\n",
       "      <td>1076-1551</td>\n",
       "      <td></td>\n",
       "      <td>10.2119/2007-00094.van vickle</td>\n",
       "      <td></td>\n",
       "      <td></td>\n",
       "      <td>10.2119/2007-00094.van vickle</td>\n",
       "      <td></td>\n",
       "      <td>...</td>\n",
       "      <td></td>\n",
       "      <td>0.0</td>\n",
       "      <td></td>\n",
       "      <td></td>\n",
       "      <td>0.0</td>\n",
       "      <td>0.0</td>\n",
       "      <td></td>\n",
       "      <td></td>\n",
       "      <td></td>\n",
       "      <td></td>\n",
       "    </tr>\n",
       "    <tr>\n",
       "      <th>103</th>\n",
       "      <td>0NOT</td>\n",
       "      <td>0</td>\n",
       "      <td>10.1590/s0120-41572015000100013</td>\n",
       "      <td>0120-4157</td>\n",
       "      <td></td>\n",
       "      <td>10.1590/s0120-41572015000100013</td>\n",
       "      <td></td>\n",
       "      <td></td>\n",
       "      <td>10.1590/s0120-41572015000100013</td>\n",
       "      <td></td>\n",
       "      <td>...</td>\n",
       "      <td></td>\n",
       "      <td>0.0</td>\n",
       "      <td></td>\n",
       "      <td></td>\n",
       "      <td>0.0</td>\n",
       "      <td>0.0</td>\n",
       "      <td></td>\n",
       "      <td></td>\n",
       "      <td></td>\n",
       "      <td></td>\n",
       "    </tr>\n",
       "    <tr>\n",
       "      <th>104</th>\n",
       "      <td>0NOT</td>\n",
       "      <td>0</td>\n",
       "      <td>10.1590/s0120-41572014000400013</td>\n",
       "      <td>0120-4157</td>\n",
       "      <td></td>\n",
       "      <td>10.1590/s0120-41572014000400013</td>\n",
       "      <td></td>\n",
       "      <td></td>\n",
       "      <td>10.1590/s0120-41572014000400013</td>\n",
       "      <td></td>\n",
       "      <td>...</td>\n",
       "      <td></td>\n",
       "      <td>0.0</td>\n",
       "      <td></td>\n",
       "      <td></td>\n",
       "      <td>0.0</td>\n",
       "      <td>0.0</td>\n",
       "      <td></td>\n",
       "      <td></td>\n",
       "      <td></td>\n",
       "      <td></td>\n",
       "    </tr>\n",
       "    <tr>\n",
       "      <th>105</th>\n",
       "      <td>0NOT</td>\n",
       "      <td>0</td>\n",
       "      <td>10.1590/s0120-41572014000200014</td>\n",
       "      <td>0120-4157</td>\n",
       "      <td></td>\n",
       "      <td>10.1590/s0120-41572014000200014</td>\n",
       "      <td></td>\n",
       "      <td></td>\n",
       "      <td>10.1590/s0120-41572014000200014</td>\n",
       "      <td></td>\n",
       "      <td>...</td>\n",
       "      <td></td>\n",
       "      <td>0.0</td>\n",
       "      <td></td>\n",
       "      <td></td>\n",
       "      <td>0.0</td>\n",
       "      <td>0.0</td>\n",
       "      <td></td>\n",
       "      <td></td>\n",
       "      <td></td>\n",
       "      <td></td>\n",
       "    </tr>\n",
       "    <tr>\n",
       "      <th>106</th>\n",
       "      <td>0NOT</td>\n",
       "      <td>0</td>\n",
       "      <td>10.1590/s0120-41572014000200003</td>\n",
       "      <td>0120-4157</td>\n",
       "      <td></td>\n",
       "      <td>10.1590/s0120-41572014000200003</td>\n",
       "      <td></td>\n",
       "      <td></td>\n",
       "      <td>10.1590/s0120-41572014000200003</td>\n",
       "      <td></td>\n",
       "      <td>...</td>\n",
       "      <td></td>\n",
       "      <td>0.0</td>\n",
       "      <td></td>\n",
       "      <td></td>\n",
       "      <td>0.0</td>\n",
       "      <td>0.0</td>\n",
       "      <td></td>\n",
       "      <td></td>\n",
       "      <td></td>\n",
       "      <td></td>\n",
       "    </tr>\n",
       "    <tr>\n",
       "      <th>107</th>\n",
       "      <td>0NOT</td>\n",
       "      <td>0</td>\n",
       "      <td>10.1590/s0120-41572014000500005</td>\n",
       "      <td>0120-4157</td>\n",
       "      <td></td>\n",
       "      <td>10.1590/s0120-41572014000500005</td>\n",
       "      <td></td>\n",
       "      <td></td>\n",
       "      <td>10.1590/s0120-41572014000500005</td>\n",
       "      <td></td>\n",
       "      <td>...</td>\n",
       "      <td></td>\n",
       "      <td>0.0</td>\n",
       "      <td></td>\n",
       "      <td></td>\n",
       "      <td>0.0</td>\n",
       "      <td>0.0</td>\n",
       "      <td></td>\n",
       "      <td></td>\n",
       "      <td></td>\n",
       "      <td></td>\n",
       "    </tr>\n",
       "    <tr>\n",
       "      <th>108</th>\n",
       "      <td>0NOT</td>\n",
       "      <td>0</td>\n",
       "      <td>10.1590/s0120-41572014000100015</td>\n",
       "      <td>0120-4157</td>\n",
       "      <td></td>\n",
       "      <td>10.1590/s0120-41572014000100015</td>\n",
       "      <td></td>\n",
       "      <td></td>\n",
       "      <td>10.1590/s0120-41572014000100015</td>\n",
       "      <td></td>\n",
       "      <td>...</td>\n",
       "      <td></td>\n",
       "      <td>0.0</td>\n",
       "      <td></td>\n",
       "      <td></td>\n",
       "      <td>0.0</td>\n",
       "      <td>0.0</td>\n",
       "      <td></td>\n",
       "      <td></td>\n",
       "      <td></td>\n",
       "      <td></td>\n",
       "    </tr>\n",
       "  </tbody>\n",
       "</table>\n",
       "<p>21 rows × 38 columns</p>\n",
       "</div>"
      ],
      "text/plain": [
       "         APC  APC_USD                              doi              ISSNWOS  \\\n",
       "85      0NOT        0  10.1590/s0103-65132013000400016  0103-6513,1980-5411   \n",
       "88      0NOT        0  10.4321/s2340-98942017000400001            0004-2927   \n",
       "89      0NOT        0  10.1590/s0120-41572015000200012            0120-4157   \n",
       "90      0NOT        0  10.1590/s0120-41572015000100008            0120-4157   \n",
       "91      0NOT        0  10.1590/s0120-53072015000200001            2216-0280   \n",
       "92      0NOT        0  10.1590/s0120-53072015000200004            2216-0280   \n",
       "93      0NOT        0  10.1590/s0120-41572014000400014            0120-4157   \n",
       "94      0NOT        0  10.1590/s0120-41572014000300010            0120-4157   \n",
       "95      0NOT        0  10.1590/s0120-41572014000300016            0120-4157   \n",
       "96      0NOT        0  10.1590/s0120-41572014000300012            0120-4157   \n",
       "97      0NOT        0  10.1590/s0120-41572014000300011            0120-4157   \n",
       "98      0NOT        0  10.1590/s0120-41572014000300015            0120-4157   \n",
       "99      0NOT        0  10.1590/s0120-41572014000300006            0120-4157   \n",
       "100     0NOT        0  10.1590/s0120-41572014000200010            0120-4157   \n",
       "102  1565GBP     2029    10.2119/2007-00094.van vickle            1076-1551   \n",
       "103     0NOT        0  10.1590/s0120-41572015000100013            0120-4157   \n",
       "104     0NOT        0  10.1590/s0120-41572014000400013            0120-4157   \n",
       "105     0NOT        0  10.1590/s0120-41572014000200014            0120-4157   \n",
       "106     0NOT        0  10.1590/s0120-41572014000200003            0120-4157   \n",
       "107     0NOT        0  10.1590/s0120-41572014000500005            0120-4157   \n",
       "108     0NOT        0  10.1590/s0120-41572014000100015            0120-4157   \n",
       "\n",
       "    OAGISSN                         OA_Green OA_Green_Article OA_Yellow  \\\n",
       "85           10.1590/s0103-65132013000400016                              \n",
       "88           10.4321/s2340-98942017000400001                              \n",
       "89           10.1590/s0120-41572015000200012                              \n",
       "90           10.1590/s0120-41572015000100008                              \n",
       "91           10.1590/s0120-53072015000200001                              \n",
       "92           10.1590/s0120-53072015000200004                              \n",
       "93           10.1590/s0120-41572014000400014                              \n",
       "94           10.1590/s0120-41572014000300010                              \n",
       "95           10.1590/s0120-41572014000300016                              \n",
       "96           10.1590/s0120-41572014000300012                              \n",
       "97           10.1590/s0120-41572014000300011                              \n",
       "98           10.1590/s0120-41572014000300015                              \n",
       "99           10.1590/s0120-41572014000300006                              \n",
       "100          10.1590/s0120-41572014000200010                              \n",
       "102            10.2119/2007-00094.van vickle                              \n",
       "103          10.1590/s0120-41572015000100013                              \n",
       "104          10.1590/s0120-41572014000400013                              \n",
       "105          10.1590/s0120-41572014000200014                              \n",
       "106          10.1590/s0120-41572014000200003                              \n",
       "107          10.1590/s0120-41572014000500005                              \n",
       "108          10.1590/s0120-41572014000100015                              \n",
       "\n",
       "                         Open_Access best_oa_location     ...      \\\n",
       "85   10.1590/s0103-65132013000400016                      ...       \n",
       "88   10.4321/s2340-98942017000400001                      ...       \n",
       "89   10.1590/s0120-41572015000200012                      ...       \n",
       "90   10.1590/s0120-41572015000100008                      ...       \n",
       "91   10.1590/s0120-53072015000200001                      ...       \n",
       "92   10.1590/s0120-53072015000200004                      ...       \n",
       "93   10.1590/s0120-41572014000400014                      ...       \n",
       "94   10.1590/s0120-41572014000300010                      ...       \n",
       "95   10.1590/s0120-41572014000300016                      ...       \n",
       "96   10.1590/s0120-41572014000300012                      ...       \n",
       "97   10.1590/s0120-41572014000300011                      ...       \n",
       "98   10.1590/s0120-41572014000300015                      ...       \n",
       "99   10.1590/s0120-41572014000300006                      ...       \n",
       "100  10.1590/s0120-41572014000200010                      ...       \n",
       "102    10.2119/2007-00094.van vickle                      ...       \n",
       "103  10.1590/s0120-41572015000100013                      ...       \n",
       "104  10.1590/s0120-41572014000400013                      ...       \n",
       "105  10.1590/s0120-41572014000200014                      ...       \n",
       "106  10.1590/s0120-41572014000200003                      ...       \n",
       "107  10.1590/s0120-41572014000500005                      ...       \n",
       "108  10.1590/s0120-41572014000100015                      ...       \n",
       "\n",
       "             GS_authors GS_cites GS_cites_link GS_profiles GS_quality_author  \\\n",
       "85                           0.0                                         0.0   \n",
       "88   JF Berrio Escobar…      0.0                        {}               1.0   \n",
       "89                           0.0                                         0.0   \n",
       "90                           0.0                                         0.0   \n",
       "91                           0.0                                         0.0   \n",
       "92                           0.0                                         0.0   \n",
       "93                           0.0                                         0.0   \n",
       "94                           0.0                                         0.0   \n",
       "95                           0.0                                         0.0   \n",
       "96                           0.0                                         0.0   \n",
       "97                           0.0                                         0.0   \n",
       "98                           0.0                                         0.0   \n",
       "99                           0.0                                         0.0   \n",
       "100                          0.0                                         0.0   \n",
       "102                          0.0                                         0.0   \n",
       "103                          0.0                                         0.0   \n",
       "104                          0.0                                         0.0   \n",
       "105                          0.0                                         0.0   \n",
       "106                          0.0                                         0.0   \n",
       "107                          0.0                                         0.0   \n",
       "108                          0.0                                         0.0   \n",
       "\n",
       "    GS_quality_title                                             GS_ref  \\\n",
       "85               0.0                                                      \n",
       "88               1.0  JF Berrio Escobar… - ARS …, 2017 - UNIV GRANAD...   \n",
       "89               0.0                                                      \n",
       "90               0.0                                                      \n",
       "91               0.0                                                      \n",
       "92               0.0                                                      \n",
       "93               0.0                                                      \n",
       "94               0.0                                                      \n",
       "95               0.0                                                      \n",
       "96               0.0                                                      \n",
       "97               0.0                                                      \n",
       "98               0.0                                                      \n",
       "99               0.0                                                      \n",
       "100              0.0                                                      \n",
       "102              0.0                                                      \n",
       "103              0.0                                                      \n",
       "104              0.0                                                      \n",
       "105              0.0                                                      \n",
       "106              0.0                                                      \n",
       "107              0.0                                                      \n",
       "108              0.0                                                      \n",
       "\n",
       "    GS_title authors name_simple  \n",
       "85                                \n",
       "88                                \n",
       "89                                \n",
       "90                                \n",
       "91                                \n",
       "92                                \n",
       "93                                \n",
       "94                                \n",
       "95                                \n",
       "96                                \n",
       "97                                \n",
       "98                                \n",
       "99                                \n",
       "100                               \n",
       "102                               \n",
       "103                               \n",
       "104                               \n",
       "105                               \n",
       "106                               \n",
       "107                               \n",
       "108                               \n",
       "\n",
       "[21 rows x 38 columns]"
      ]
     },
     "execution_count": 122,
     "metadata": {},
     "output_type": "execute_result"
    }
   ],
   "source": [
    "datos[datos.title=='']"
   ]
  },
  {
   "cell_type": "code",
   "execution_count": 119,
   "metadata": {
    "collapsed": true
   },
   "outputs": [],
   "source": [
    "cp gasta.json gasta1.json"
   ]
  },
  {
   "cell_type": "code",
   "execution_count": 45,
   "metadata": {
    "collapsed": true
   },
   "outputs": [],
   "source": [
    "rdlyc=pd.read_json('cites_refs_missing.json').sort_index().fillna('').reset_index(drop=True)"
   ]
  },
  {
   "cell_type": "code",
   "execution_count": 19,
   "metadata": {
    "collapsed": true
   },
   "outputs": [],
   "source": [
    "refs=get_cites_refs(browser,url,maxcites=65)"
   ]
  },
  {
   "cell_type": "code",
   "execution_count": 22,
   "metadata": {},
   "outputs": [
    {
     "data": {
      "text/plain": [
       "\"A longitudinal study assessing the maintenance condition of cadres of four types of wheelchairs provided in low-resource areas; K Rispin, K Riseling, J Wee\\xa0- Disability and Rehabilitation\\xa0…, 2018 - Taylor & Francis\\nInnovations for Evaluation Research: Multiform Protocols, Visual Analog Scaling, and the Retrospective Pretest–Posttest Design; R Chang, TD Little\\xa0- Evaluation & the health professions, 2018 - journals.sagepub.com\\nWinning the war on state-sponsored propaganda; E Murrock, J Amulya, M Druckman, T Liubyva - irex.org\\nVisual analogue mood scale scores in healthy young versus older adults; L Machado, LM Thompson, CHR Brett\\xa0- International psychogeriatrics, 2018 - cambridge.org\\nFOAM EM RSS; S Sick - foamem.com\\nFOAM EM RSS; C McLeod - foamem.com\\nToward a better measure: Integrating noncognitive constructs using Action-Control Theory; R Chang - 2016 - ttu-ir.tdl.org\\nSelf-reported pain scales; C McLeod\\xa0- Don't Forget The Bubbles, 2018 - dontforgetthebubbles.com\\nThe Comfortable Cafeteria Program for Promoting Student Participation and Enjoyment: An Outcome Study; S Bazyk, L Demirjian, F Horvath…\\xa0- American Journal of\\xa0…, 2018 - ajot.aota.org\\n\""
      ]
     },
     "execution_count": 22,
     "metadata": {},
     "output_type": "execute_result"
    }
   ],
   "source": [
    "refs"
   ]
  },
  {
   "cell_type": "code",
   "execution_count": 23,
   "metadata": {},
   "outputs": [
    {
     "data": {
      "text/plain": [
       "'/scholar?cites=11746986714791086750&as_sdt=2005&sciodt=0,5&hl=en'"
      ]
     },
     "execution_count": 23,
     "metadata": {},
     "output_type": "execute_result"
    }
   ],
   "source": [
    "rdlyc[rdlyc.GS_cites_link!=''].GS_cites_link[0]"
   ]
  },
  {
   "cell_type": "markdown",
   "metadata": {},
   "source": [
    "### Search GS citations refs for Redalyc"
   ]
  },
  {
   "cell_type": "code",
   "execution_count": 46,
   "metadata": {},
   "outputs": [
    {
     "name": "stdout",
     "output_type": "stream",
     "text": [
      "1\n",
      "2\n",
      "3\n",
      "4\n",
      "5\n"
     ]
    }
   ],
   "source": [
    "ini=143\n",
    "maxcites=65\n",
    "df=pd.DataFrame()\n",
    "i=1\n",
    "for url in rdlyc[rdlyc.GS_cites_link!=''].GS_cites_link[ini:]:\n",
    "    print(i)\n",
    "    i=i+1\n",
    "    refs=get_cites_refs(browser,url,maxcites=maxcites)\n",
    "    df=df.append({'GS_cites_link':url,'cites_refs':refs},\n",
    "                ignore_index=True)\n",
    "    df.to_json('cites_refs.json')\n",
    "    time.sleep(random.uniform(0.9*t,1.1*t))"
   ]
  },
  {
   "cell_type": "markdown",
   "metadata": {},
   "source": [
    "### Merge Redalyc cites with cites references"
   ]
  },
  {
   "cell_type": "code",
   "execution_count": 47,
   "metadata": {
    "collapsed": true
   },
   "outputs": [],
   "source": [
    "cr=pd.read_json('cites_refs.json')\n",
    "\n",
    "rdlyc=rdlyc.fillna('')\n",
    "\n",
    "rdlyc.shape\n",
    "\n",
    "rdlyc['GS_quality_title']=rdlyc['GS_quality_title'].astype(float)\n",
    "\n",
    "yy,nn=wp.df_split(rdlyc,on='GS_quality_title',Operator='>=',condition=0.9)\n",
    "\n",
    "nn=nn.drop(['GS_DOI', 'GS_Journal', 'GS_Year', 'GS_abstract', 'GS_authors',\n",
    "       'GS_cites', 'GS_cites_link', 'GS_profiles',  'GS_title'],axis='columns')\n",
    "\n",
    "rdlyc=yy.append(nn).fillna('')\n",
    "\n",
    "yy,nn=wp.df_split(rdlyc,on='GS_cites_link',Operator='!=',condition='')\n",
    "\n",
    "cr=cr.rename({'cites_refs':'GS_cites_refs'},axis='columns')\n",
    "\n",
    "yy=yy.merge(cr,on='GS_cites_link',how='left')\n",
    "\n",
    "rdlyc=yy.append(nn).fillna('')\n",
    "\n",
    "yy,nn=wp.df_split( rdlyc,on='GS_cites',Operator='!=',condition='' )\n",
    "\n",
    "nn['GS_cites']=0\n",
    "\n",
    "rdlyc=yy.append(nn)\n",
    "\n",
    "rdlyc['GS_cites']=rdlyc.GS_cites.astype(int)\n",
    "\n",
    "rdlyc.to_excel('redalyc_gs.xlsx',index=False)"
   ]
  },
  {
   "cell_type": "markdown",
   "metadata": {},
   "source": [
    "### tmp"
   ]
  },
  {
   "cell_type": "code",
   "execution_count": 37,
   "metadata": {},
   "outputs": [
    {
     "data": {
      "text/plain": [
       "(148,)"
      ]
     },
     "execution_count": 37,
     "metadata": {},
     "output_type": "execute_result"
    }
   ],
   "source": [
    "rdlyc[rdlyc.GS_cites_link!=''].GS_cites_link[ini:].shape"
   ]
  },
  {
   "cell_type": "code",
   "execution_count": null,
   "metadata": {
    "collapsed": true
   },
   "outputs": [],
   "source": [
    "refs=get_cites_refs(browser,url,maxcites=65)"
   ]
  },
  {
   "cell_type": "code",
   "execution_count": 33,
   "metadata": {
    "collapsed": true
   },
   "outputs": [],
   "source": [
    "cp gsta.json gsta_missingdois.json"
   ]
  },
  {
   "cell_type": "code",
   "execution_count": 29,
   "metadata": {
    "collapsed": true
   },
   "outputs": [],
   "source": [
    "rd=pd.read_json('gas.json')"
   ]
  },
  {
   "cell_type": "code",
   "execution_count": 68,
   "metadata": {},
   "outputs": [
    {
     "data": {
      "text/html": [
       "<div>\n",
       "<style scoped>\n",
       "    .dataframe tbody tr th:only-of-type {\n",
       "        vertical-align: middle;\n",
       "    }\n",
       "\n",
       "    .dataframe tbody tr th {\n",
       "        vertical-align: top;\n",
       "    }\n",
       "\n",
       "    .dataframe thead th {\n",
       "        text-align: right;\n",
       "    }\n",
       "</style>\n",
       "<table border=\"1\" class=\"dataframe\">\n",
       "  <thead>\n",
       "    <tr style=\"text-align: right;\">\n",
       "      <th></th>\n",
       "    </tr>\n",
       "  </thead>\n",
       "  <tbody>\n",
       "    <tr>\n",
       "      <th>0</th>\n",
       "    </tr>\n",
       "  </tbody>\n",
       "</table>\n",
       "</div>"
      ],
      "text/plain": [
       "Empty DataFrame\n",
       "Columns: []\n",
       "Index: [0]"
      ]
     },
     "execution_count": 68,
     "metadata": {},
     "output_type": "execute_result"
    }
   ],
   "source": [
    "pd.DataFrame().append({},ignore_index=True)"
   ]
  },
  {
   "cell_type": "markdown",
   "metadata": {},
   "source": [
    "See: https://stackoverflow.com/a/43413418/2268280"
   ]
  },
  {
   "cell_type": "code",
   "execution_count": 54,
   "metadata": {
    "collapsed": true
   },
   "outputs": [],
   "source": [
    "SAVERUN=False\n",
    "if SAVERUN:\n",
    "    dfgsy,dfgsn=wp.df_split( dfgs,on='title',Operator='!=',condition='')\n",
    "    dfgsy.to_json('yellow1.json')\n",
    "    dfgsn.to_json('yellowno.json')"
   ]
  },
  {
   "cell_type": "code",
   "execution_count": 56,
   "metadata": {},
   "outputs": [
    {
     "data": {
      "text/plain": [
       "array(['10.7705/biomedica.v37i3.4058', '10.17533/udea.esde.v73n162a06',\n",
       "       '10.24201/hm.v64i4.3123', ..., '10.17533/udea.ikala.v19n3a05',\n",
       "       '10.11144/javeriana.mavae9-2.eacv',\n",
       "       '10.11144/javeriana.rgyps13-26.eaht'], dtype=object)"
      ]
     },
     "execution_count": 56,
     "metadata": {},
     "output_type": "execute_result"
    }
   ],
   "source": []
  },
  {
   "cell_type": "code",
   "execution_count": 6,
   "metadata": {
    "collapsed": true
   },
   "outputs": [],
   "source": [
    "import pandas as pd"
   ]
  },
  {
   "cell_type": "code",
   "execution_count": 7,
   "metadata": {
    "collapsed": true
   },
   "outputs": [],
   "source": [
    "kk=pd.read_excel('gs_516_560.xlsx').append(pd.read_excel('gs_560_844'))"
   ]
  },
  {
   "cell_type": "code",
   "execution_count": 11,
   "metadata": {},
   "outputs": [
    {
     "data": {
      "text/plain": [
       "800"
      ]
     },
     "execution_count": 11,
     "metadata": {},
     "output_type": "execute_result"
    }
   ],
   "source": [
    "516+284"
   ]
  },
  {
   "cell_type": "code",
   "execution_count": 13,
   "metadata": {
    "collapsed": true
   },
   "outputs": [],
   "source": [
    "kk[1:284].to_excel('gs_516_800.xlsx',index=False)"
   ]
  },
  {
   "cell_type": "code",
   "execution_count": 24,
   "metadata": {
    "collapsed": true
   },
   "outputs": [],
   "source": [
    "adfgs=wp.fill_NaN(dfgs)"
   ]
  },
  {
   "cell_type": "code",
   "execution_count": 25,
   "metadata": {
    "collapsed": true
   },
   "outputs": [],
   "source": [
    "dfgs[:41].to_excel('gs1.xlsx',index=False)"
   ]
  },
  {
   "cell_type": "code",
   "execution_count": 8,
   "metadata": {},
   "outputs": [
    {
     "ename": "NameError",
     "evalue": "name 'dfgs' is not defined",
     "output_type": "error",
     "traceback": [
      "\u001b[0;31m---------------------------------------------------------------------------\u001b[0m",
      "\u001b[0;31mNameError\u001b[0m                                 Traceback (most recent call last)",
      "\u001b[0;32m<ipython-input-8-9d4aa8e95099>\u001b[0m in \u001b[0;36m<module>\u001b[0;34m()\u001b[0m\n\u001b[0;32m----> 1\u001b[0;31m \u001b[0mdfgs\u001b[0m\u001b[0;34m[\u001b[0m\u001b[0;34m:\u001b[0m\u001b[0;36m50\u001b[0m\u001b[0;34m]\u001b[0m\u001b[0;34m\u001b[0m\u001b[0m\n\u001b[0m",
      "\u001b[0;31mNameError\u001b[0m: name 'dfgs' is not defined"
     ]
    }
   ],
   "source": [
    "dfgs[:50]"
   ]
  },
  {
   "cell_type": "markdown",
   "metadata": {
    "colab_type": "text",
    "id": "mNTEnTQjJuLx"
   },
   "source": [
    "# Consultar  DOAJ API con DOI\n",
    "Ver: https://doaj.org/api/v1/docs#!/Search/get_api_v1_search_articles_search_query"
   ]
  },
  {
   "cell_type": "markdown",
   "metadata": {
    "colab_type": "text",
    "id": "j39HDif4NpPJ"
   },
   "source": [
    "## Carga navegador JSON"
   ]
  },
  {
   "cell_type": "code",
   "execution_count": 0,
   "metadata": {
    "colab": {},
    "colab_type": "code",
    "collapsed": true,
    "id": "izdwSa5RJ0Ec"
   },
   "outputs": [],
   "source": [
    "import pandas as pd"
   ]
  },
  {
   "cell_type": "markdown",
   "metadata": {
    "colab_type": "text",
    "id": "INjfBi7KNmJP"
   },
   "source": [
    "## Consulta"
   ]
  },
  {
   "cell_type": "code",
   "execution_count": 0,
   "metadata": {
    "colab": {},
    "colab_type": "code",
    "collapsed": true,
    "id": "5c8D7U-mJ3g6"
   },
   "outputs": [],
   "source": [
    "DOI='10.1016/j.physletb.2018.01.009'\n",
    "df=pd.read_json('https://doaj.org/api/v1/search/articles/{}'.format(DOI))"
   ]
  },
  {
   "cell_type": "markdown",
   "metadata": {
    "colab_type": "text",
    "id": "M84vNkUSNPeM"
   },
   "source": [
    "## Análisis de resultado:\n",
    "Nota: La celdas con estructuras anidadas (que comienzan con `[` ó `{`) sa analizan secuencialmente"
   ]
  },
  {
   "cell_type": "code",
   "execution_count": 0,
   "metadata": {
    "colab": {
     "base_uri": "https://localhost:8080/",
     "height": 79
    },
    "colab_type": "code",
    "id": "m7ahe4ZaNOb9",
    "outputId": "797cca3f-6de1-403b-9bcf-2e3f8a805503"
   },
   "outputs": [
    {
     "data": {
      "text/html": [
       "<div>\n",
       "<style scoped>\n",
       "    .dataframe tbody tr th:only-of-type {\n",
       "        vertical-align: middle;\n",
       "    }\n",
       "\n",
       "    .dataframe tbody tr th {\n",
       "        vertical-align: top;\n",
       "    }\n",
       "\n",
       "    .dataframe thead th {\n",
       "        text-align: right;\n",
       "    }\n",
       "</style>\n",
       "<table border=\"1\" class=\"dataframe\">\n",
       "  <thead>\n",
       "    <tr style=\"text-align: right;\">\n",
       "      <th></th>\n",
       "      <th>last</th>\n",
       "      <th>page</th>\n",
       "      <th>pageSize</th>\n",
       "      <th>query</th>\n",
       "      <th>results</th>\n",
       "      <th>timestamp</th>\n",
       "      <th>total</th>\n",
       "    </tr>\n",
       "  </thead>\n",
       "  <tbody>\n",
       "    <tr>\n",
       "      <th>0</th>\n",
       "      <td>https://doaj.org/api/v1/search/articles/10.101...</td>\n",
       "      <td>1</td>\n",
       "      <td>10</td>\n",
       "      <td>10.1016/j.physletb.2018.01.009</td>\n",
       "      <td>{u'last_updated': u'2018-03-05T12:09:16Z', u'i...</td>\n",
       "      <td>2018-1010T04:23:08Z</td>\n",
       "      <td>1</td>\n",
       "    </tr>\n",
       "  </tbody>\n",
       "</table>\n",
       "</div>"
      ],
      "text/plain": [
       "                                                last  page  pageSize  \\\n",
       "0  https://doaj.org/api/v1/search/articles/10.101...     1        10   \n",
       "\n",
       "                            query  \\\n",
       "0  10.1016/j.physletb.2018.01.009   \n",
       "\n",
       "                                             results            timestamp  \\\n",
       "0  {u'last_updated': u'2018-03-05T12:09:16Z', u'i...  2018-1010T04:23:08Z   \n",
       "\n",
       "   total  \n",
       "0      1  "
      ]
     },
     "execution_count": 32,
     "metadata": {
      "tags": []
     },
     "output_type": "execute_result"
    }
   ],
   "source": [
    "df"
   ]
  },
  {
   "cell_type": "markdown",
   "metadata": {
    "colab_type": "text",
    "id": "lzgDcW8NNyAv"
   },
   "source": [
    "Desplegar colunna __results__:"
   ]
  },
  {
   "cell_type": "code",
   "execution_count": 0,
   "metadata": {
    "colab": {
     "base_uri": "https://localhost:8080/",
     "height": 387
    },
    "colab_type": "code",
    "id": "5vcp02fQKCu2",
    "outputId": "2ee1ee4b-b0d1-4149-8495-a626f27326dc"
   },
   "outputs": [
    {
     "data": {
      "text/html": [
       "<div>\n",
       "<style scoped>\n",
       "    .dataframe tbody tr th:only-of-type {\n",
       "        vertical-align: middle;\n",
       "    }\n",
       "\n",
       "    .dataframe tbody tr th {\n",
       "        vertical-align: top;\n",
       "    }\n",
       "\n",
       "    .dataframe thead th {\n",
       "        text-align: right;\n",
       "    }\n",
       "</style>\n",
       "<table border=\"1\" class=\"dataframe\">\n",
       "  <thead>\n",
       "    <tr style=\"text-align: right;\">\n",
       "      <th></th>\n",
       "      <th>bibjson</th>\n",
       "      <th>created_date</th>\n",
       "      <th>id</th>\n",
       "      <th>last_updated</th>\n",
       "    </tr>\n",
       "  </thead>\n",
       "  <tbody>\n",
       "    <tr>\n",
       "      <th>abstract</th>\n",
       "      <td>The observation of neutrino oscillations estab...</td>\n",
       "      <td>2018-03-05T12:09:16Z</td>\n",
       "      <td>03ba3f288d8341d380a286a6d0f64de4</td>\n",
       "      <td>2018-03-05T12:09:16Z</td>\n",
       "    </tr>\n",
       "    <tr>\n",
       "      <th>author</th>\n",
       "      <td>[{u'affiliation': u'Physics Department, Univer...</td>\n",
       "      <td>2018-03-05T12:09:16Z</td>\n",
       "      <td>03ba3f288d8341d380a286a6d0f64de4</td>\n",
       "      <td>2018-03-05T12:09:16Z</td>\n",
       "    </tr>\n",
       "    <tr>\n",
       "      <th>end_page</th>\n",
       "      <td>100</td>\n",
       "      <td>2018-03-05T12:09:16Z</td>\n",
       "      <td>03ba3f288d8341d380a286a6d0f64de4</td>\n",
       "      <td>2018-03-05T12:09:16Z</td>\n",
       "    </tr>\n",
       "    <tr>\n",
       "      <th>identifier</th>\n",
       "      <td>[{u'type': u'pissn', u'id': u'0370-2693'}, {u'...</td>\n",
       "      <td>2018-03-05T12:09:16Z</td>\n",
       "      <td>03ba3f288d8341d380a286a6d0f64de4</td>\n",
       "      <td>2018-03-05T12:09:16Z</td>\n",
       "    </tr>\n",
       "    <tr>\n",
       "      <th>journal</th>\n",
       "      <td>{u'publisher': u'Elsevier', u'language': [u'EN...</td>\n",
       "      <td>2018-03-05T12:09:16Z</td>\n",
       "      <td>03ba3f288d8341d380a286a6d0f64de4</td>\n",
       "      <td>2018-03-05T12:09:16Z</td>\n",
       "    </tr>\n",
       "    <tr>\n",
       "      <th>link</th>\n",
       "      <td>[{u'url': u'http://www.sciencedirect.com/scien...</td>\n",
       "      <td>2018-03-05T12:09:16Z</td>\n",
       "      <td>03ba3f288d8341d380a286a6d0f64de4</td>\n",
       "      <td>2018-03-05T12:09:16Z</td>\n",
       "    </tr>\n",
       "    <tr>\n",
       "      <th>month</th>\n",
       "      <td>3</td>\n",
       "      <td>2018-03-05T12:09:16Z</td>\n",
       "      <td>03ba3f288d8341d380a286a6d0f64de4</td>\n",
       "      <td>2018-03-05T12:09:16Z</td>\n",
       "    </tr>\n",
       "    <tr>\n",
       "      <th>start_page</th>\n",
       "      <td>94</td>\n",
       "      <td>2018-03-05T12:09:16Z</td>\n",
       "      <td>03ba3f288d8341d380a286a6d0f64de4</td>\n",
       "      <td>2018-03-05T12:09:16Z</td>\n",
       "    </tr>\n",
       "    <tr>\n",
       "      <th>subject</th>\n",
       "      <td>[{u'code': u'QC1-999', u'term': u'Physics', u'...</td>\n",
       "      <td>2018-03-05T12:09:16Z</td>\n",
       "      <td>03ba3f288d8341d380a286a6d0f64de4</td>\n",
       "      <td>2018-03-05T12:09:16Z</td>\n",
       "    </tr>\n",
       "    <tr>\n",
       "      <th>title</th>\n",
       "      <td>Expanding the reach of heavy neutrino searches...</td>\n",
       "      <td>2018-03-05T12:09:16Z</td>\n",
       "      <td>03ba3f288d8341d380a286a6d0f64de4</td>\n",
       "      <td>2018-03-05T12:09:16Z</td>\n",
       "    </tr>\n",
       "    <tr>\n",
       "      <th>year</th>\n",
       "      <td>2018</td>\n",
       "      <td>2018-03-05T12:09:16Z</td>\n",
       "      <td>03ba3f288d8341d380a286a6d0f64de4</td>\n",
       "      <td>2018-03-05T12:09:16Z</td>\n",
       "    </tr>\n",
       "  </tbody>\n",
       "</table>\n",
       "</div>"
      ],
      "text/plain": [
       "                                                      bibjson  \\\n",
       "abstract    The observation of neutrino oscillations estab...   \n",
       "author      [{u'affiliation': u'Physics Department, Univer...   \n",
       "end_page                                                  100   \n",
       "identifier  [{u'type': u'pissn', u'id': u'0370-2693'}, {u'...   \n",
       "journal     {u'publisher': u'Elsevier', u'language': [u'EN...   \n",
       "link        [{u'url': u'http://www.sciencedirect.com/scien...   \n",
       "month                                                       3   \n",
       "start_page                                                 94   \n",
       "subject     [{u'code': u'QC1-999', u'term': u'Physics', u'...   \n",
       "title       Expanding the reach of heavy neutrino searches...   \n",
       "year                                                     2018   \n",
       "\n",
       "                    created_date                                id  \\\n",
       "abstract    2018-03-05T12:09:16Z  03ba3f288d8341d380a286a6d0f64de4   \n",
       "author      2018-03-05T12:09:16Z  03ba3f288d8341d380a286a6d0f64de4   \n",
       "end_page    2018-03-05T12:09:16Z  03ba3f288d8341d380a286a6d0f64de4   \n",
       "identifier  2018-03-05T12:09:16Z  03ba3f288d8341d380a286a6d0f64de4   \n",
       "journal     2018-03-05T12:09:16Z  03ba3f288d8341d380a286a6d0f64de4   \n",
       "link        2018-03-05T12:09:16Z  03ba3f288d8341d380a286a6d0f64de4   \n",
       "month       2018-03-05T12:09:16Z  03ba3f288d8341d380a286a6d0f64de4   \n",
       "start_page  2018-03-05T12:09:16Z  03ba3f288d8341d380a286a6d0f64de4   \n",
       "subject     2018-03-05T12:09:16Z  03ba3f288d8341d380a286a6d0f64de4   \n",
       "title       2018-03-05T12:09:16Z  03ba3f288d8341d380a286a6d0f64de4   \n",
       "year        2018-03-05T12:09:16Z  03ba3f288d8341d380a286a6d0f64de4   \n",
       "\n",
       "                    last_updated  \n",
       "abstract    2018-03-05T12:09:16Z  \n",
       "author      2018-03-05T12:09:16Z  \n",
       "end_page    2018-03-05T12:09:16Z  \n",
       "identifier  2018-03-05T12:09:16Z  \n",
       "journal     2018-03-05T12:09:16Z  \n",
       "link        2018-03-05T12:09:16Z  \n",
       "month       2018-03-05T12:09:16Z  \n",
       "start_page  2018-03-05T12:09:16Z  \n",
       "subject     2018-03-05T12:09:16Z  \n",
       "title       2018-03-05T12:09:16Z  \n",
       "year        2018-03-05T12:09:16Z  "
      ]
     },
     "execution_count": 12,
     "metadata": {
      "tags": []
     },
     "output_type": "execute_result"
    }
   ],
   "source": [
    "p=pd.DataFrame(  df['results'].values[0] )\n",
    "p"
   ]
  },
  {
   "cell_type": "markdown",
   "metadata": {
    "colab_type": "text",
    "id": "Rfb-0_JTN8bA"
   },
   "source": [
    "Desplegar cada una de las celdas anidadas de la columna __bibjson__"
   ]
  },
  {
   "cell_type": "code",
   "execution_count": 0,
   "metadata": {
    "colab": {
     "base_uri": "https://localhost:8080/",
     "height": 202
    },
    "colab_type": "code",
    "id": "UI2UlUNBK5hJ",
    "outputId": "0e945534-18d0-478e-e6ba-ffeafbc1aa07"
   },
   "outputs": [
    {
     "data": {
      "text/html": [
       "<div>\n",
       "<style scoped>\n",
       "    .dataframe tbody tr th:only-of-type {\n",
       "        vertical-align: middle;\n",
       "    }\n",
       "\n",
       "    .dataframe tbody tr th {\n",
       "        vertical-align: top;\n",
       "    }\n",
       "\n",
       "    .dataframe thead th {\n",
       "        text-align: right;\n",
       "    }\n",
       "</style>\n",
       "<table border=\"1\" class=\"dataframe\">\n",
       "  <thead>\n",
       "    <tr style=\"text-align: right;\">\n",
       "      <th></th>\n",
       "      <th>affiliation</th>\n",
       "      <th>name</th>\n",
       "    </tr>\n",
       "  </thead>\n",
       "  <tbody>\n",
       "    <tr>\n",
       "      <th>0</th>\n",
       "      <td>Physics Department, Universidad de los Andes, ...</td>\n",
       "      <td>Andrés Flórez</td>\n",
       "    </tr>\n",
       "    <tr>\n",
       "      <th>1</th>\n",
       "      <td>Department of Physics and Astronomy, Vanderbil...</td>\n",
       "      <td>Kaiwen Gui</td>\n",
       "    </tr>\n",
       "    <tr>\n",
       "      <th>2</th>\n",
       "      <td>Department of Physics and Astronomy, Vanderbil...</td>\n",
       "      <td>Alfredo Gurrola</td>\n",
       "    </tr>\n",
       "    <tr>\n",
       "      <th>3</th>\n",
       "      <td>Physics Department, Universidad de los Andes, ...</td>\n",
       "      <td>Carlos Patiño</td>\n",
       "    </tr>\n",
       "    <tr>\n",
       "      <th>4</th>\n",
       "      <td>Department of Physics, Universidad de Antioqui...</td>\n",
       "      <td>Diego Restrepo</td>\n",
       "    </tr>\n",
       "  </tbody>\n",
       "</table>\n",
       "</div>"
      ],
      "text/plain": [
       "                                         affiliation             name\n",
       "0  Physics Department, Universidad de los Andes, ...    Andrés Flórez\n",
       "1  Department of Physics and Astronomy, Vanderbil...       Kaiwen Gui\n",
       "2  Department of Physics and Astronomy, Vanderbil...  Alfredo Gurrola\n",
       "3  Physics Department, Universidad de los Andes, ...    Carlos Patiño\n",
       "4  Department of Physics, Universidad de Antioqui...   Diego Restrepo"
      ]
     },
     "execution_count": 18,
     "metadata": {
      "tags": []
     },
     "output_type": "execute_result"
    }
   ],
   "source": [
    "pd.DataFrame(  p.loc['author','bibjson'] )"
   ]
  },
  {
   "cell_type": "code",
   "execution_count": 0,
   "metadata": {
    "colab": {
     "base_uri": "https://localhost:8080/",
     "height": 141
    },
    "colab_type": "code",
    "id": "JgUvVeR5KNNN",
    "outputId": "b7c37bfd-cb6e-4da9-a9b1-607b0f71dd6f"
   },
   "outputs": [
    {
     "data": {
      "text/html": [
       "<div>\n",
       "<style scoped>\n",
       "    .dataframe tbody tr th:only-of-type {\n",
       "        vertical-align: middle;\n",
       "    }\n",
       "\n",
       "    .dataframe tbody tr th {\n",
       "        vertical-align: top;\n",
       "    }\n",
       "\n",
       "    .dataframe thead th {\n",
       "        text-align: right;\n",
       "    }\n",
       "</style>\n",
       "<table border=\"1\" class=\"dataframe\">\n",
       "  <thead>\n",
       "    <tr style=\"text-align: right;\">\n",
       "      <th></th>\n",
       "      <th>id</th>\n",
       "      <th>type</th>\n",
       "    </tr>\n",
       "  </thead>\n",
       "  <tbody>\n",
       "    <tr>\n",
       "      <th>0</th>\n",
       "      <td>0370-2693</td>\n",
       "      <td>pissn</td>\n",
       "    </tr>\n",
       "    <tr>\n",
       "      <th>1</th>\n",
       "      <td>1873-2445</td>\n",
       "      <td>eissn</td>\n",
       "    </tr>\n",
       "    <tr>\n",
       "      <th>2</th>\n",
       "      <td>10.1016/j.physletb.2018.01.009</td>\n",
       "      <td>doi</td>\n",
       "    </tr>\n",
       "  </tbody>\n",
       "</table>\n",
       "</div>"
      ],
      "text/plain": [
       "                               id   type\n",
       "0                       0370-2693  pissn\n",
       "1                       1873-2445  eissn\n",
       "2  10.1016/j.physletb.2018.01.009    doi"
      ]
     },
     "execution_count": 19,
     "metadata": {
      "tags": []
     },
     "output_type": "execute_result"
    }
   ],
   "source": [
    "pd.DataFrame(  p.loc['identifier','bibjson'] )"
   ]
  },
  {
   "cell_type": "code",
   "execution_count": 0,
   "metadata": {
    "colab": {
     "base_uri": "https://localhost:8080/",
     "height": 79
    },
    "colab_type": "code",
    "id": "EVHZfHm_Li8m",
    "outputId": "7c3b511b-ef55-41de-b01b-9d3499472627"
   },
   "outputs": [
    {
     "data": {
      "text/html": [
       "<div>\n",
       "<style scoped>\n",
       "    .dataframe tbody tr th:only-of-type {\n",
       "        vertical-align: middle;\n",
       "    }\n",
       "\n",
       "    .dataframe tbody tr th {\n",
       "        vertical-align: top;\n",
       "    }\n",
       "\n",
       "    .dataframe thead th {\n",
       "        text-align: right;\n",
       "    }\n",
       "</style>\n",
       "<table border=\"1\" class=\"dataframe\">\n",
       "  <thead>\n",
       "    <tr style=\"text-align: right;\">\n",
       "      <th></th>\n",
       "      <th>country</th>\n",
       "      <th>issns</th>\n",
       "      <th>language</th>\n",
       "      <th>license</th>\n",
       "      <th>number</th>\n",
       "      <th>publisher</th>\n",
       "      <th>title</th>\n",
       "      <th>volume</th>\n",
       "    </tr>\n",
       "  </thead>\n",
       "  <tbody>\n",
       "    <tr>\n",
       "      <th>0</th>\n",
       "      <td>NL</td>\n",
       "      <td>[0370-2693, 1873-2445]</td>\n",
       "      <td>[EN]</td>\n",
       "      <td>[{u'url': u'http://www.elsevier.com/journals/p...</td>\n",
       "      <td>C</td>\n",
       "      <td>Elsevier</td>\n",
       "      <td>Physics Letters B</td>\n",
       "      <td>778</td>\n",
       "    </tr>\n",
       "  </tbody>\n",
       "</table>\n",
       "</div>"
      ],
      "text/plain": [
       "  country                   issns language  \\\n",
       "0      NL  [0370-2693, 1873-2445]     [EN]   \n",
       "\n",
       "                                             license number publisher  \\\n",
       "0  [{u'url': u'http://www.elsevier.com/journals/p...      C  Elsevier   \n",
       "\n",
       "               title volume  \n",
       "0  Physics Letters B    778  "
      ]
     },
     "execution_count": 24,
     "metadata": {
      "tags": []
     },
     "output_type": "execute_result"
    }
   ],
   "source": [
    " pd.DataFrame( [p.loc['journal','bibjson'] ] )\n"
   ]
  },
  {
   "cell_type": "code",
   "execution_count": 0,
   "metadata": {
    "colab": {
     "base_uri": "https://localhost:8080/",
     "height": 79
    },
    "colab_type": "code",
    "id": "tGvelHhSLq3B",
    "outputId": "90d2232e-1140-4089-a285-2a3f274f7d87"
   },
   "outputs": [
    {
     "data": {
      "text/html": [
       "<div>\n",
       "<style scoped>\n",
       "    .dataframe tbody tr th:only-of-type {\n",
       "        vertical-align: middle;\n",
       "    }\n",
       "\n",
       "    .dataframe tbody tr th {\n",
       "        vertical-align: top;\n",
       "    }\n",
       "\n",
       "    .dataframe thead th {\n",
       "        text-align: right;\n",
       "    }\n",
       "</style>\n",
       "<table border=\"1\" class=\"dataframe\">\n",
       "  <thead>\n",
       "    <tr style=\"text-align: right;\">\n",
       "      <th></th>\n",
       "      <th>open_access</th>\n",
       "      <th>title</th>\n",
       "      <th>type</th>\n",
       "      <th>url</th>\n",
       "    </tr>\n",
       "  </thead>\n",
       "  <tbody>\n",
       "    <tr>\n",
       "      <th>0</th>\n",
       "      <td>True</td>\n",
       "      <td>CC BY</td>\n",
       "      <td>CC BY</td>\n",
       "      <td>http://www.elsevier.com/journals/physics-lette...</td>\n",
       "    </tr>\n",
       "  </tbody>\n",
       "</table>\n",
       "</div>"
      ],
      "text/plain": [
       "   open_access  title   type  \\\n",
       "0         True  CC BY  CC BY   \n",
       "\n",
       "                                                 url  \n",
       "0  http://www.elsevier.com/journals/physics-lette...  "
      ]
     },
     "execution_count": 25,
     "metadata": {
      "tags": []
     },
     "output_type": "execute_result"
    }
   ],
   "source": [
    "pd.DataFrame( p.loc['journal','bibjson']['license'] )"
   ]
  },
  {
   "cell_type": "code",
   "execution_count": 0,
   "metadata": {
    "colab": {
     "base_uri": "https://localhost:8080/",
     "height": 79
    },
    "colab_type": "code",
    "id": "KDV-pw1GMDTI",
    "outputId": "df95adb1-d22f-4320-dd44-7ee3fb7f2c52"
   },
   "outputs": [
    {
     "data": {
      "text/html": [
       "<div>\n",
       "<style scoped>\n",
       "    .dataframe tbody tr th:only-of-type {\n",
       "        vertical-align: middle;\n",
       "    }\n",
       "\n",
       "    .dataframe tbody tr th {\n",
       "        vertical-align: top;\n",
       "    }\n",
       "\n",
       "    .dataframe thead th {\n",
       "        text-align: right;\n",
       "    }\n",
       "</style>\n",
       "<table border=\"1\" class=\"dataframe\">\n",
       "  <thead>\n",
       "    <tr style=\"text-align: right;\">\n",
       "      <th></th>\n",
       "      <th>type</th>\n",
       "      <th>url</th>\n",
       "    </tr>\n",
       "  </thead>\n",
       "  <tbody>\n",
       "    <tr>\n",
       "      <th>0</th>\n",
       "      <td>fulltext</td>\n",
       "      <td>http://www.sciencedirect.com/science/article/p...</td>\n",
       "    </tr>\n",
       "  </tbody>\n",
       "</table>\n",
       "</div>"
      ],
      "text/plain": [
       "       type                                                url\n",
       "0  fulltext  http://www.sciencedirect.com/science/article/p..."
      ]
     },
     "execution_count": 28,
     "metadata": {
      "tags": []
     },
     "output_type": "execute_result"
    }
   ],
   "source": [
    "pd.DataFrame(  p.loc['link','bibjson']  )"
   ]
  },
  {
   "cell_type": "markdown",
   "metadata": {
    "colab_type": "text",
    "id": "NHez240DMkPM"
   },
   "source": [
    "# Dask"
   ]
  },
  {
   "cell_type": "code",
   "execution_count": 0,
   "metadata": {
    "colab": {},
    "colab_type": "code",
    "collapsed": true,
    "id": "fIOwJDy7oe7c"
   },
   "outputs": [],
   "source": [
    "! pip install dask cloudpickle > /dev/null"
   ]
  },
  {
   "cell_type": "code",
   "execution_count": 0,
   "metadata": {
    "colab": {
     "base_uri": "https://localhost:8080/",
     "height": 34
    },
    "colab_type": "code",
    "id": "KkGs9gRioh1S",
    "outputId": "b9877d24-61e5-4afc-cd20-fc41c58ac045"
   },
   "outputs": [
    {
     "data": {
      "text/plain": [
       "2"
      ]
     },
     "execution_count": 3,
     "metadata": {
      "tags": []
     },
     "output_type": "execute_result"
    }
   ],
   "source": [
    "1+1"
   ]
  },
  {
   "cell_type": "code",
   "execution_count": 0,
   "metadata": {
    "colab": {},
    "colab_type": "code",
    "collapsed": true,
    "id": "AufPWJMKoxN_"
   },
   "outputs": [],
   "source": [
    "import dask as dk"
   ]
  },
  {
   "cell_type": "code",
   "execution_count": 0,
   "metadata": {
    "colab": {},
    "colab_type": "code",
    "collapsed": true,
    "id": "_fc2bwH2pbcF"
   },
   "outputs": [],
   "source": [
    "from dask import dataframe"
   ]
  },
  {
   "cell_type": "code",
   "execution_count": 0,
   "metadata": {
    "colab": {
     "base_uri": "https://localhost:8080/",
     "height": 34
    },
    "colab_type": "code",
    "id": "FVyiCQ8epvSo",
    "outputId": "137f045f-cd00-4221-de63-9e35af43d391"
   },
   "outputs": [
    {
     "name": "stdout",
     "output_type": "stream",
     "text": [
      "Writing kk.json\n"
     ]
    }
   ],
   "source": [
    "%%writefile kk.json\n",
    "{\"A\":1,\"B\":3}\n",
    "{\"A\":5,\"B\":6}"
   ]
  },
  {
   "cell_type": "code",
   "execution_count": 0,
   "metadata": {
    "colab": {},
    "colab_type": "code",
    "collapsed": true,
    "id": "6DJkDKB_qiO0"
   },
   "outputs": [],
   "source": [
    "df=dataframe.read_json('kk.json')"
   ]
  },
  {
   "cell_type": "code",
   "execution_count": 0,
   "metadata": {
    "colab": {
     "base_uri": "https://localhost:8080/",
     "height": 111
    },
    "colab_type": "code",
    "id": "k-P9-oBnqnMo",
    "outputId": "0521ec1c-148a-4912-c6a2-4125733db144"
   },
   "outputs": [
    {
     "data": {
      "text/html": [
       "<div>\n",
       "<style scoped>\n",
       "    .dataframe tbody tr th:only-of-type {\n",
       "        vertical-align: middle;\n",
       "    }\n",
       "\n",
       "    .dataframe tbody tr th {\n",
       "        vertical-align: top;\n",
       "    }\n",
       "\n",
       "    .dataframe thead th {\n",
       "        text-align: right;\n",
       "    }\n",
       "</style>\n",
       "<table border=\"1\" class=\"dataframe\">\n",
       "  <thead>\n",
       "    <tr style=\"text-align: right;\">\n",
       "      <th></th>\n",
       "      <th>A</th>\n",
       "      <th>B</th>\n",
       "    </tr>\n",
       "  </thead>\n",
       "  <tbody>\n",
       "    <tr>\n",
       "      <th>0</th>\n",
       "      <td>1</td>\n",
       "      <td>3</td>\n",
       "    </tr>\n",
       "    <tr>\n",
       "      <th>1</th>\n",
       "      <td>5</td>\n",
       "      <td>6</td>\n",
       "    </tr>\n",
       "  </tbody>\n",
       "</table>\n",
       "</div>"
      ],
      "text/plain": [
       "   A  B\n",
       "0  1  3\n",
       "1  5  6"
      ]
     },
     "execution_count": 38,
     "metadata": {
      "tags": []
     },
     "output_type": "execute_result"
    }
   ],
   "source": [
    "df.compute()"
   ]
  },
  {
   "cell_type": "code",
   "execution_count": 0,
   "metadata": {
    "colab": {},
    "colab_type": "code",
    "collapsed": true,
    "id": "_LI1JvUnw_Sx"
   },
   "outputs": [],
   "source": [
    "import pandas as pd"
   ]
  },
  {
   "cell_type": "code",
   "execution_count": 0,
   "metadata": {
    "colab": {
     "base_uri": "https://localhost:8080/",
     "height": 111
    },
    "colab_type": "code",
    "id": "m20r-oeXxA7j",
    "outputId": "e78cf704-b1f8-4bad-8c44-24cb0cbb5ca9"
   },
   "outputs": [
    {
     "data": {
      "text/html": [
       "<div>\n",
       "<style scoped>\n",
       "    .dataframe tbody tr th:only-of-type {\n",
       "        vertical-align: middle;\n",
       "    }\n",
       "\n",
       "    .dataframe tbody tr th {\n",
       "        vertical-align: top;\n",
       "    }\n",
       "\n",
       "    .dataframe thead th {\n",
       "        text-align: right;\n",
       "    }\n",
       "</style>\n",
       "<table border=\"1\" class=\"dataframe\">\n",
       "  <thead>\n",
       "    <tr style=\"text-align: right;\">\n",
       "      <th></th>\n",
       "      <th>A</th>\n",
       "      <th>B</th>\n",
       "    </tr>\n",
       "  </thead>\n",
       "  <tbody>\n",
       "    <tr>\n",
       "      <th>0</th>\n",
       "      <td>1</td>\n",
       "      <td>3</td>\n",
       "    </tr>\n",
       "    <tr>\n",
       "      <th>1</th>\n",
       "      <td>5</td>\n",
       "      <td>6</td>\n",
       "    </tr>\n",
       "  </tbody>\n",
       "</table>\n",
       "</div>"
      ],
      "text/plain": [
       "   A  B\n",
       "0  1  3\n",
       "1  5  6"
      ]
     },
     "execution_count": 40,
     "metadata": {
      "tags": []
     },
     "output_type": "execute_result"
    }
   ],
   "source": [
    "pd.read_json('kk.json',orient='records',lines=True)"
   ]
  },
  {
   "cell_type": "code",
   "execution_count": 0,
   "metadata": {
    "colab": {},
    "colab_type": "code",
    "collapsed": true,
    "id": "xjKxOIpWqsha"
   },
   "outputs": [],
   "source": [
    "import os\n",
    "os.chdir('drive/My Drive/Colab Notebooks/Data')"
   ]
  },
  {
   "cell_type": "code",
   "execution_count": 0,
   "metadata": {
    "colab": {},
    "colab_type": "code",
    "collapsed": true,
    "id": "43FmC3KvrvQO"
   },
   "outputs": [],
   "source": [
    "!head -n10 oagreenarticle.json > tmp.json"
   ]
  },
  {
   "cell_type": "code",
   "execution_count": 0,
   "metadata": {
    "colab": {},
    "colab_type": "code",
    "collapsed": true,
    "id": "3xUzGK6zvnxw"
   },
   "outputs": [],
   "source": [
    "import pandas as pd"
   ]
  },
  {
   "cell_type": "code",
   "execution_count": 0,
   "metadata": {
    "colab": {
     "base_uri": "https://localhost:8080/",
     "height": 383
    },
    "colab_type": "code",
    "id": "edNUetghvp3T",
    "outputId": "ed013439-456a-4a53-e08e-0814545f96f3"
   },
   "outputs": [
    {
     "data": {
      "text/html": [
       "<div>\n",
       "<style scoped>\n",
       "    .dataframe tbody tr th:only-of-type {\n",
       "        vertical-align: middle;\n",
       "    }\n",
       "\n",
       "    .dataframe tbody tr th {\n",
       "        vertical-align: top;\n",
       "    }\n",
       "\n",
       "    .dataframe thead th {\n",
       "        text-align: right;\n",
       "    }\n",
       "</style>\n",
       "<table border=\"1\" class=\"dataframe\">\n",
       "  <thead>\n",
       "    <tr style=\"text-align: right;\">\n",
       "      <th></th>\n",
       "      <th>best_oa_location</th>\n",
       "      <th>data_standard</th>\n",
       "      <th>doi</th>\n",
       "      <th>doi_url</th>\n",
       "      <th>genre</th>\n",
       "      <th>is_oa</th>\n",
       "      <th>journal_is_in_doaj</th>\n",
       "      <th>journal_is_oa</th>\n",
       "      <th>journal_issns</th>\n",
       "      <th>journal_name</th>\n",
       "      <th>oa_locations</th>\n",
       "      <th>published_date</th>\n",
       "      <th>publisher</th>\n",
       "      <th>title</th>\n",
       "      <th>updated</th>\n",
       "      <th>year</th>\n",
       "      <th>z_authors</th>\n",
       "    </tr>\n",
       "  </thead>\n",
       "  <tbody>\n",
       "    <tr>\n",
       "      <th>0</th>\n",
       "      <td>{'url': 'https://doi.org/10.1016/j.ahj.2015.02...</td>\n",
       "      <td>2</td>\n",
       "      <td>10.1016/j.ahj.2015.02.019</td>\n",
       "      <td>https://doi.org/10.1016/j.ahj.2015.02.019</td>\n",
       "      <td>journal-article</td>\n",
       "      <td>True</td>\n",
       "      <td>False</td>\n",
       "      <td>False</td>\n",
       "      <td>0002-8703</td>\n",
       "      <td>American Heart Journal</td>\n",
       "      <td>[{'url': 'https://doi.org/10.1016/j.ahj.2015.0...</td>\n",
       "      <td>2015-06-01</td>\n",
       "      <td>Elsevier BV</td>\n",
       "      <td>Biomarkers for risk stratification of patients...</td>\n",
       "      <td>2018-06-18T19:10:12.692979</td>\n",
       "      <td>2015.0</td>\n",
       "      <td>[{'given': 'Matthijs A.', 'family': 'Velders'}...</td>\n",
       "    </tr>\n",
       "    <tr>\n",
       "      <th>1</th>\n",
       "      <td>{'url': 'https://doi.org/10.1021/acsnano.7b049...</td>\n",
       "      <td>2</td>\n",
       "      <td>10.1021/acsnano.7b04994</td>\n",
       "      <td>https://doi.org/10.1021/acsnano.7b04994</td>\n",
       "      <td>journal-article</td>\n",
       "      <td>True</td>\n",
       "      <td>False</td>\n",
       "      <td>False</td>\n",
       "      <td>1936-0851,1936-086X</td>\n",
       "      <td>ACS Nano</td>\n",
       "      <td>[{'url': 'https://doi.org/10.1021/acsnano.7b04...</td>\n",
       "      <td>2017-09-08</td>\n",
       "      <td>American Chemical Society (ACS)</td>\n",
       "      <td>Hybrid Surface Patterns Mimicking the Design o...</td>\n",
       "      <td>2018-06-14T11:39:08.680219</td>\n",
       "      <td>2017.0</td>\n",
       "      <td>[{'ORCID': 'http://orcid.org/0000-0001-5512-74...</td>\n",
       "    </tr>\n",
       "    <tr>\n",
       "      <th>2</th>\n",
       "      <td>{'url': 'https://doi.org/10.1016/s0925-4773(00...</td>\n",
       "      <td>2</td>\n",
       "      <td>10.1016/s0925-4773(00)00472-x</td>\n",
       "      <td>https://doi.org/10.1016/s0925-4773(00)00472-x</td>\n",
       "      <td>journal-article</td>\n",
       "      <td>True</td>\n",
       "      <td>False</td>\n",
       "      <td>False</td>\n",
       "      <td>0925-4773</td>\n",
       "      <td>Mechanisms of Development</td>\n",
       "      <td>[{'url': 'https://doi.org/10.1016/s0925-4773(0...</td>\n",
       "      <td>2000-12-01</td>\n",
       "      <td>Elsevier BV</td>\n",
       "      <td>Embryonic expression of a P2X 3 receptor encod...</td>\n",
       "      <td>2018-06-18T04:15:29.411710</td>\n",
       "      <td>2000.0</td>\n",
       "      <td>[{'given': 'William H.J', 'family': 'Norton'},...</td>\n",
       "    </tr>\n",
       "  </tbody>\n",
       "</table>\n",
       "</div>"
      ],
      "text/plain": [
       "                                    best_oa_location  data_standard  \\\n",
       "0  {'url': 'https://doi.org/10.1016/j.ahj.2015.02...              2   \n",
       "1  {'url': 'https://doi.org/10.1021/acsnano.7b049...              2   \n",
       "2  {'url': 'https://doi.org/10.1016/s0925-4773(00...              2   \n",
       "\n",
       "                             doi  \\\n",
       "0      10.1016/j.ahj.2015.02.019   \n",
       "1        10.1021/acsnano.7b04994   \n",
       "2  10.1016/s0925-4773(00)00472-x   \n",
       "\n",
       "                                         doi_url            genre  is_oa  \\\n",
       "0      https://doi.org/10.1016/j.ahj.2015.02.019  journal-article   True   \n",
       "1        https://doi.org/10.1021/acsnano.7b04994  journal-article   True   \n",
       "2  https://doi.org/10.1016/s0925-4773(00)00472-x  journal-article   True   \n",
       "\n",
       "   journal_is_in_doaj  journal_is_oa        journal_issns  \\\n",
       "0               False          False            0002-8703   \n",
       "1               False          False  1936-0851,1936-086X   \n",
       "2               False          False            0925-4773   \n",
       "\n",
       "                journal_name  \\\n",
       "0     American Heart Journal   \n",
       "1                   ACS Nano   \n",
       "2  Mechanisms of Development   \n",
       "\n",
       "                                        oa_locations published_date  \\\n",
       "0  [{'url': 'https://doi.org/10.1016/j.ahj.2015.0...     2015-06-01   \n",
       "1  [{'url': 'https://doi.org/10.1021/acsnano.7b04...     2017-09-08   \n",
       "2  [{'url': 'https://doi.org/10.1016/s0925-4773(0...     2000-12-01   \n",
       "\n",
       "                         publisher  \\\n",
       "0                      Elsevier BV   \n",
       "1  American Chemical Society (ACS)   \n",
       "2                      Elsevier BV   \n",
       "\n",
       "                                               title  \\\n",
       "0  Biomarkers for risk stratification of patients...   \n",
       "1  Hybrid Surface Patterns Mimicking the Design o...   \n",
       "2  Embryonic expression of a P2X 3 receptor encod...   \n",
       "\n",
       "                      updated    year  \\\n",
       "0  2018-06-18T19:10:12.692979  2015.0   \n",
       "1  2018-06-14T11:39:08.680219  2017.0   \n",
       "2  2018-06-18T04:15:29.411710  2000.0   \n",
       "\n",
       "                                           z_authors  \n",
       "0  [{'given': 'Matthijs A.', 'family': 'Velders'}...  \n",
       "1  [{'ORCID': 'http://orcid.org/0000-0001-5512-74...  \n",
       "2  [{'given': 'William H.J', 'family': 'Norton'},...  "
      ]
     },
     "execution_count": 33,
     "metadata": {
      "tags": []
     },
     "output_type": "execute_result"
    }
   ],
   "source": [
    "pd.read_json('tmp.json',orient='records',lines=True)[:3]"
   ]
  },
  {
   "cell_type": "code",
   "execution_count": 0,
   "metadata": {
    "colab": {},
    "colab_type": "code",
    "collapsed": true,
    "id": "jzSqZPBBt90M"
   },
   "outputs": [],
   "source": [
    "tmp=dataframe.read_json('tmp.json')"
   ]
  },
  {
   "cell_type": "code",
   "execution_count": 0,
   "metadata": {
    "colab": {
     "base_uri": "https://localhost:8080/",
     "height": 940
    },
    "colab_type": "code",
    "id": "eh4V8Llbr47Z",
    "outputId": "e0375e1d-3f2a-4954-db33-331537025f1e"
   },
   "outputs": [
    {
     "data": {
      "text/html": [
       "<div>\n",
       "<style scoped>\n",
       "    .dataframe tbody tr th:only-of-type {\n",
       "        vertical-align: middle;\n",
       "    }\n",
       "\n",
       "    .dataframe tbody tr th {\n",
       "        vertical-align: top;\n",
       "    }\n",
       "\n",
       "    .dataframe thead th {\n",
       "        text-align: right;\n",
       "    }\n",
       "</style>\n",
       "<table border=\"1\" class=\"dataframe\">\n",
       "  <thead>\n",
       "    <tr style=\"text-align: right;\">\n",
       "      <th></th>\n",
       "      <th>best_oa_location</th>\n",
       "      <th>data_standard</th>\n",
       "      <th>doi</th>\n",
       "      <th>doi_url</th>\n",
       "      <th>genre</th>\n",
       "      <th>is_oa</th>\n",
       "      <th>journal_is_in_doaj</th>\n",
       "      <th>journal_is_oa</th>\n",
       "      <th>journal_issns</th>\n",
       "      <th>journal_name</th>\n",
       "      <th>oa_locations</th>\n",
       "      <th>published_date</th>\n",
       "      <th>publisher</th>\n",
       "      <th>title</th>\n",
       "      <th>updated</th>\n",
       "      <th>year</th>\n",
       "      <th>z_authors</th>\n",
       "    </tr>\n",
       "  </thead>\n",
       "  <tbody>\n",
       "    <tr>\n",
       "      <th>0</th>\n",
       "      <td>{'url': 'https://doi.org/10.1016/j.ahj.2015.02...</td>\n",
       "      <td>2</td>\n",
       "      <td>10.1016/j.ahj.2015.02.019</td>\n",
       "      <td>https://doi.org/10.1016/j.ahj.2015.02.019</td>\n",
       "      <td>journal-article</td>\n",
       "      <td>True</td>\n",
       "      <td>False</td>\n",
       "      <td>False</td>\n",
       "      <td>0002-8703</td>\n",
       "      <td>American Heart Journal</td>\n",
       "      <td>[{'url': 'https://doi.org/10.1016/j.ahj.2015.0...</td>\n",
       "      <td>2015-06-01</td>\n",
       "      <td>Elsevier BV</td>\n",
       "      <td>Biomarkers for risk stratification of patients...</td>\n",
       "      <td>2018-06-18T19:10:12.692979</td>\n",
       "      <td>2015.0</td>\n",
       "      <td>[{'given': 'Matthijs A.', 'family': 'Velders'}...</td>\n",
       "    </tr>\n",
       "    <tr>\n",
       "      <th>1</th>\n",
       "      <td>{'url': 'https://doi.org/10.1021/acsnano.7b049...</td>\n",
       "      <td>2</td>\n",
       "      <td>10.1021/acsnano.7b04994</td>\n",
       "      <td>https://doi.org/10.1021/acsnano.7b04994</td>\n",
       "      <td>journal-article</td>\n",
       "      <td>True</td>\n",
       "      <td>False</td>\n",
       "      <td>False</td>\n",
       "      <td>1936-0851,1936-086X</td>\n",
       "      <td>ACS Nano</td>\n",
       "      <td>[{'url': 'https://doi.org/10.1021/acsnano.7b04...</td>\n",
       "      <td>2017-09-08</td>\n",
       "      <td>American Chemical Society (ACS)</td>\n",
       "      <td>Hybrid Surface Patterns Mimicking the Design o...</td>\n",
       "      <td>2018-06-14T11:39:08.680219</td>\n",
       "      <td>2017.0</td>\n",
       "      <td>[{'ORCID': 'http://orcid.org/0000-0001-5512-74...</td>\n",
       "    </tr>\n",
       "    <tr>\n",
       "      <th>2</th>\n",
       "      <td>{'url': 'https://doi.org/10.1016/s0925-4773(00...</td>\n",
       "      <td>2</td>\n",
       "      <td>10.1016/s0925-4773(00)00472-x</td>\n",
       "      <td>https://doi.org/10.1016/s0925-4773(00)00472-x</td>\n",
       "      <td>journal-article</td>\n",
       "      <td>True</td>\n",
       "      <td>False</td>\n",
       "      <td>False</td>\n",
       "      <td>0925-4773</td>\n",
       "      <td>Mechanisms of Development</td>\n",
       "      <td>[{'url': 'https://doi.org/10.1016/s0925-4773(0...</td>\n",
       "      <td>2000-12-01</td>\n",
       "      <td>Elsevier BV</td>\n",
       "      <td>Embryonic expression of a P2X 3 receptor encod...</td>\n",
       "      <td>2018-06-18T04:15:29.411710</td>\n",
       "      <td>2000.0</td>\n",
       "      <td>[{'given': 'William H.J', 'family': 'Norton'},...</td>\n",
       "    </tr>\n",
       "    <tr>\n",
       "      <th>3</th>\n",
       "      <td>{'url': 'https://doi.org/10.1016/0021-8693(88)...</td>\n",
       "      <td>1</td>\n",
       "      <td>10.1016/0021-8693(88)90058-0</td>\n",
       "      <td>https://doi.org/10.1016/0021-8693(88)90058-0</td>\n",
       "      <td>journal-article</td>\n",
       "      <td>True</td>\n",
       "      <td>False</td>\n",
       "      <td>False</td>\n",
       "      <td>0021-8693</td>\n",
       "      <td>Journal of Algebra</td>\n",
       "      <td>[{'url': 'https://doi.org/10.1016/0021-8693(88...</td>\n",
       "      <td>1988-10-01</td>\n",
       "      <td>Elsevier BV</td>\n",
       "      <td>Corrigendum</td>\n",
       "      <td>2018-06-18T04:18:43.222135</td>\n",
       "      <td>1988.0</td>\n",
       "      <td>None</td>\n",
       "    </tr>\n",
       "    <tr>\n",
       "      <th>4</th>\n",
       "      <td>{'url': 'https://doi.org/10.1016/j.mod.2006.03...</td>\n",
       "      <td>2</td>\n",
       "      <td>10.1016/j.mod.2006.03.003</td>\n",
       "      <td>https://doi.org/10.1016/j.mod.2006.03.003</td>\n",
       "      <td>journal-article</td>\n",
       "      <td>True</td>\n",
       "      <td>False</td>\n",
       "      <td>False</td>\n",
       "      <td>0925-4773</td>\n",
       "      <td>Mechanisms of Development</td>\n",
       "      <td>[{'url': 'https://doi.org/10.1016/j.mod.2006.0...</td>\n",
       "      <td>2006-05-01</td>\n",
       "      <td>Elsevier BV</td>\n",
       "      <td>Impaired development of the Harderian gland in...</td>\n",
       "      <td>2018-06-18T04:20:45.498171</td>\n",
       "      <td>2006.0</td>\n",
       "      <td>[{'given': 'Andreas', 'family': 'Schild'}, {'g...</td>\n",
       "    </tr>\n",
       "    <tr>\n",
       "      <th>5</th>\n",
       "      <td>{'url': 'https://doi.org/10.1103/physrevc.96.0...</td>\n",
       "      <td>2</td>\n",
       "      <td>10.1103/physrevc.96.014310</td>\n",
       "      <td>https://doi.org/10.1103/physrevc.96.014310</td>\n",
       "      <td>journal-article</td>\n",
       "      <td>True</td>\n",
       "      <td>False</td>\n",
       "      <td>False</td>\n",
       "      <td>2469-9985,2469-9993</td>\n",
       "      <td>Physical Review C</td>\n",
       "      <td>[{'url': 'https://doi.org/10.1103/physrevc.96....</td>\n",
       "      <td>2017-07-14</td>\n",
       "      <td>American Physical Society (APS)</td>\n",
       "      <td>Nuclear deformation in the A≈100 region: Compa...</td>\n",
       "      <td>2018-06-16T19:57:39.403083</td>\n",
       "      <td>2017.0</td>\n",
       "      <td>[{'given': 'A.', 'family': 'de Roubin'}, {'giv...</td>\n",
       "    </tr>\n",
       "    <tr>\n",
       "      <th>6</th>\n",
       "      <td>{'url': 'https://doi.org/10.1016/s0960-9822(07...</td>\n",
       "      <td>2</td>\n",
       "      <td>10.1016/s0960-9822(07)00493-9</td>\n",
       "      <td>https://doi.org/10.1016/s0960-9822(07)00493-9</td>\n",
       "      <td>journal-article</td>\n",
       "      <td>True</td>\n",
       "      <td>False</td>\n",
       "      <td>False</td>\n",
       "      <td>0960-9822</td>\n",
       "      <td>Current Biology</td>\n",
       "      <td>[{'url': 'https://doi.org/10.1016/s0960-9822(0...</td>\n",
       "      <td>1998-10-01</td>\n",
       "      <td>Elsevier BV</td>\n",
       "      <td>Protein kinase B (PKB/Akt) activity is elevate...</td>\n",
       "      <td>2018-06-18T04:21:43.465040</td>\n",
       "      <td>1998.0</td>\n",
       "      <td>[{'given': 'Daphne', 'family': 'Haas-Kogan'}, ...</td>\n",
       "    </tr>\n",
       "    <tr>\n",
       "      <th>7</th>\n",
       "      <td>{'url': 'https://doi.org/10.1016/s1470-2045(13...</td>\n",
       "      <td>2</td>\n",
       "      <td>10.1016/s1470-2045(13)70163-3</td>\n",
       "      <td>https://doi.org/10.1016/s1470-2045(13)70163-3</td>\n",
       "      <td>journal-article</td>\n",
       "      <td>True</td>\n",
       "      <td>False</td>\n",
       "      <td>False</td>\n",
       "      <td>1470-2045</td>\n",
       "      <td>The Lancet Oncology</td>\n",
       "      <td>[{'url': 'https://doi.org/10.1016/s1470-2045(1...</td>\n",
       "      <td>2013-07-01</td>\n",
       "      <td>Elsevier BV</td>\n",
       "      <td>Panitumumab and irinotecan versus irinotecan a...</td>\n",
       "      <td>2018-06-18T19:11:38.984437</td>\n",
       "      <td>2013.0</td>\n",
       "      <td>[{'given': 'Matthew T', 'family': 'Seymour'}, ...</td>\n",
       "    </tr>\n",
       "    <tr>\n",
       "      <th>8</th>\n",
       "      <td>{'url': 'https://doi.org/10.24159/joec.2014.20...</td>\n",
       "      <td>2</td>\n",
       "      <td>10.24159/joec.2014.20.4.281</td>\n",
       "      <td>https://doi.org/10.24159/joec.2014.20.4.281</td>\n",
       "      <td>journal-article</td>\n",
       "      <td>True</td>\n",
       "      <td>False</td>\n",
       "      <td>False</td>\n",
       "      <td>1598-9283</td>\n",
       "      <td>Journal of Education &amp; Culture</td>\n",
       "      <td>[{'url': 'https://doi.org/10.24159/joec.2014.2...</td>\n",
       "      <td>2014-12-01</td>\n",
       "      <td>Education Research Institute</td>\n",
       "      <td>The Research on the Values and Lifestyles of K...</td>\n",
       "      <td>2018-06-18T05:26:34.731357</td>\n",
       "      <td>2014.0</td>\n",
       "      <td>[{'family': 'Kim,Heung-Kyu'}, {'family': '이상란'}]</td>\n",
       "    </tr>\n",
       "    <tr>\n",
       "      <th>9</th>\n",
       "      <td>{'url': 'https://doi.org/10.5194/acp-2016-560-...</td>\n",
       "      <td>2</td>\n",
       "      <td>10.5194/acp-2016-560-ac1</td>\n",
       "      <td>https://doi.org/10.5194/acp-2016-560-ac1</td>\n",
       "      <td>component</td>\n",
       "      <td>True</td>\n",
       "      <td>False</td>\n",
       "      <td>False</td>\n",
       "      <td>None</td>\n",
       "      <td>None</td>\n",
       "      <td>[{'url': 'https://doi.org/10.5194/acp-2016-560...</td>\n",
       "      <td>None</td>\n",
       "      <td>Copernicus GmbH</td>\n",
       "      <td>None</td>\n",
       "      <td>2018-06-15T17:12:08.805398</td>\n",
       "      <td>NaN</td>\n",
       "      <td>None</td>\n",
       "    </tr>\n",
       "  </tbody>\n",
       "</table>\n",
       "</div>"
      ],
      "text/plain": [
       "                                    best_oa_location  data_standard  \\\n",
       "0  {'url': 'https://doi.org/10.1016/j.ahj.2015.02...              2   \n",
       "1  {'url': 'https://doi.org/10.1021/acsnano.7b049...              2   \n",
       "2  {'url': 'https://doi.org/10.1016/s0925-4773(00...              2   \n",
       "3  {'url': 'https://doi.org/10.1016/0021-8693(88)...              1   \n",
       "4  {'url': 'https://doi.org/10.1016/j.mod.2006.03...              2   \n",
       "5  {'url': 'https://doi.org/10.1103/physrevc.96.0...              2   \n",
       "6  {'url': 'https://doi.org/10.1016/s0960-9822(07...              2   \n",
       "7  {'url': 'https://doi.org/10.1016/s1470-2045(13...              2   \n",
       "8  {'url': 'https://doi.org/10.24159/joec.2014.20...              2   \n",
       "9  {'url': 'https://doi.org/10.5194/acp-2016-560-...              2   \n",
       "\n",
       "                             doi  \\\n",
       "0      10.1016/j.ahj.2015.02.019   \n",
       "1        10.1021/acsnano.7b04994   \n",
       "2  10.1016/s0925-4773(00)00472-x   \n",
       "3   10.1016/0021-8693(88)90058-0   \n",
       "4      10.1016/j.mod.2006.03.003   \n",
       "5     10.1103/physrevc.96.014310   \n",
       "6  10.1016/s0960-9822(07)00493-9   \n",
       "7  10.1016/s1470-2045(13)70163-3   \n",
       "8    10.24159/joec.2014.20.4.281   \n",
       "9       10.5194/acp-2016-560-ac1   \n",
       "\n",
       "                                         doi_url            genre  is_oa  \\\n",
       "0      https://doi.org/10.1016/j.ahj.2015.02.019  journal-article   True   \n",
       "1        https://doi.org/10.1021/acsnano.7b04994  journal-article   True   \n",
       "2  https://doi.org/10.1016/s0925-4773(00)00472-x  journal-article   True   \n",
       "3   https://doi.org/10.1016/0021-8693(88)90058-0  journal-article   True   \n",
       "4      https://doi.org/10.1016/j.mod.2006.03.003  journal-article   True   \n",
       "5     https://doi.org/10.1103/physrevc.96.014310  journal-article   True   \n",
       "6  https://doi.org/10.1016/s0960-9822(07)00493-9  journal-article   True   \n",
       "7  https://doi.org/10.1016/s1470-2045(13)70163-3  journal-article   True   \n",
       "8    https://doi.org/10.24159/joec.2014.20.4.281  journal-article   True   \n",
       "9       https://doi.org/10.5194/acp-2016-560-ac1        component   True   \n",
       "\n",
       "   journal_is_in_doaj  journal_is_oa        journal_issns  \\\n",
       "0               False          False            0002-8703   \n",
       "1               False          False  1936-0851,1936-086X   \n",
       "2               False          False            0925-4773   \n",
       "3               False          False            0021-8693   \n",
       "4               False          False            0925-4773   \n",
       "5               False          False  2469-9985,2469-9993   \n",
       "6               False          False            0960-9822   \n",
       "7               False          False            1470-2045   \n",
       "8               False          False            1598-9283   \n",
       "9               False          False                 None   \n",
       "\n",
       "                     journal_name  \\\n",
       "0          American Heart Journal   \n",
       "1                        ACS Nano   \n",
       "2       Mechanisms of Development   \n",
       "3              Journal of Algebra   \n",
       "4       Mechanisms of Development   \n",
       "5               Physical Review C   \n",
       "6                 Current Biology   \n",
       "7             The Lancet Oncology   \n",
       "8  Journal of Education & Culture   \n",
       "9                            None   \n",
       "\n",
       "                                        oa_locations published_date  \\\n",
       "0  [{'url': 'https://doi.org/10.1016/j.ahj.2015.0...     2015-06-01   \n",
       "1  [{'url': 'https://doi.org/10.1021/acsnano.7b04...     2017-09-08   \n",
       "2  [{'url': 'https://doi.org/10.1016/s0925-4773(0...     2000-12-01   \n",
       "3  [{'url': 'https://doi.org/10.1016/0021-8693(88...     1988-10-01   \n",
       "4  [{'url': 'https://doi.org/10.1016/j.mod.2006.0...     2006-05-01   \n",
       "5  [{'url': 'https://doi.org/10.1103/physrevc.96....     2017-07-14   \n",
       "6  [{'url': 'https://doi.org/10.1016/s0960-9822(0...     1998-10-01   \n",
       "7  [{'url': 'https://doi.org/10.1016/s1470-2045(1...     2013-07-01   \n",
       "8  [{'url': 'https://doi.org/10.24159/joec.2014.2...     2014-12-01   \n",
       "9  [{'url': 'https://doi.org/10.5194/acp-2016-560...           None   \n",
       "\n",
       "                         publisher  \\\n",
       "0                      Elsevier BV   \n",
       "1  American Chemical Society (ACS)   \n",
       "2                      Elsevier BV   \n",
       "3                      Elsevier BV   \n",
       "4                      Elsevier BV   \n",
       "5  American Physical Society (APS)   \n",
       "6                      Elsevier BV   \n",
       "7                      Elsevier BV   \n",
       "8     Education Research Institute   \n",
       "9                  Copernicus GmbH   \n",
       "\n",
       "                                               title  \\\n",
       "0  Biomarkers for risk stratification of patients...   \n",
       "1  Hybrid Surface Patterns Mimicking the Design o...   \n",
       "2  Embryonic expression of a P2X 3 receptor encod...   \n",
       "3                                        Corrigendum   \n",
       "4  Impaired development of the Harderian gland in...   \n",
       "5  Nuclear deformation in the A≈100 region: Compa...   \n",
       "6  Protein kinase B (PKB/Akt) activity is elevate...   \n",
       "7  Panitumumab and irinotecan versus irinotecan a...   \n",
       "8  The Research on the Values and Lifestyles of K...   \n",
       "9                                               None   \n",
       "\n",
       "                      updated    year  \\\n",
       "0  2018-06-18T19:10:12.692979  2015.0   \n",
       "1  2018-06-14T11:39:08.680219  2017.0   \n",
       "2  2018-06-18T04:15:29.411710  2000.0   \n",
       "3  2018-06-18T04:18:43.222135  1988.0   \n",
       "4  2018-06-18T04:20:45.498171  2006.0   \n",
       "5  2018-06-16T19:57:39.403083  2017.0   \n",
       "6  2018-06-18T04:21:43.465040  1998.0   \n",
       "7  2018-06-18T19:11:38.984437  2013.0   \n",
       "8  2018-06-18T05:26:34.731357  2014.0   \n",
       "9  2018-06-15T17:12:08.805398     NaN   \n",
       "\n",
       "                                           z_authors  \n",
       "0  [{'given': 'Matthijs A.', 'family': 'Velders'}...  \n",
       "1  [{'ORCID': 'http://orcid.org/0000-0001-5512-74...  \n",
       "2  [{'given': 'William H.J', 'family': 'Norton'},...  \n",
       "3                                               None  \n",
       "4  [{'given': 'Andreas', 'family': 'Schild'}, {'g...  \n",
       "5  [{'given': 'A.', 'family': 'de Roubin'}, {'giv...  \n",
       "6  [{'given': 'Daphne', 'family': 'Haas-Kogan'}, ...  \n",
       "7  [{'given': 'Matthew T', 'family': 'Seymour'}, ...  \n",
       "8   [{'family': 'Kim,Heung-Kyu'}, {'family': '이상란'}]  \n",
       "9                                               None  "
      ]
     },
     "execution_count": 8,
     "metadata": {
      "tags": []
     },
     "output_type": "execute_result"
    }
   ],
   "source": [
    "tmp.compute()"
   ]
  },
  {
   "cell_type": "code",
   "execution_count": 0,
   "metadata": {
    "colab": {},
    "colab_type": "code",
    "collapsed": true,
    "id": "RsF2qRysvP5i"
   },
   "outputs": [],
   "source": [
    "dataframe.read_json?"
   ]
  },
  {
   "cell_type": "code",
   "execution_count": 0,
   "metadata": {
    "colab": {},
    "colab_type": "code",
    "collapsed": true,
    "id": "GRPZexpysRCi"
   },
   "outputs": [],
   "source": [
    "df=dataframe.read_json('oagreenarticle.json')"
   ]
  },
  {
   "cell_type": "code",
   "execution_count": 0,
   "metadata": {
    "colab": {
     "base_uri": "https://localhost:8080/",
     "height": 163
    },
    "colab_type": "code",
    "id": "FlXODpnFsehq",
    "outputId": "8b3bd6e4-6895-4ea9-f452-dff3cb8fa707"
   },
   "outputs": [
    {
     "ename": "NameError",
     "evalue": "ignored",
     "output_type": "error",
     "traceback": [
      "\u001b[0;31m---------------------------------------------------------------------------\u001b[0m",
      "\u001b[0;31mNameError\u001b[0m                                 Traceback (most recent call last)",
      "\u001b[0;32m<ipython-input-1-633337079cd0>\u001b[0m in \u001b[0;36m<module>\u001b[0;34m()\u001b[0m\n\u001b[0;32m----> 1\u001b[0;31m \u001b[0mdf\u001b[0m\u001b[0;34m.\u001b[0m\u001b[0mshape\u001b[0m\u001b[0;34m\u001b[0m\u001b[0m\n\u001b[0m",
      "\u001b[0;31mNameError\u001b[0m: name 'df' is not defined"
     ]
    }
   ],
   "source": []
  },
  {
   "cell_type": "code",
   "execution_count": 0,
   "metadata": {
    "colab": {},
    "colab_type": "code",
    "collapsed": true,
    "id": "vQnhDsxTs7Nz"
   },
   "outputs": [],
   "source": []
  },
  {
   "cell_type": "code",
   "execution_count": 0,
   "metadata": {
    "colab": {},
    "colab_type": "code",
    "collapsed": true,
    "id": "lFd1K18vuCuO"
   },
   "outputs": [],
   "source": [
    "import dask.bag as db"
   ]
  },
  {
   "cell_type": "code",
   "execution_count": 0,
   "metadata": {
    "colab": {},
    "colab_type": "code",
    "collapsed": true,
    "id": "I6Ln-G39uPqp"
   },
   "outputs": [],
   "source": [
    "import json\n",
    "b = db.read_text('tmp.json').map(json.loads)"
   ]
  },
  {
   "cell_type": "code",
   "execution_count": 0,
   "metadata": {
    "colab": {},
    "colab_type": "code",
    "collapsed": true,
    "id": "YHZJiXo8uUzb"
   },
   "outputs": [],
   "source": [
    "bb=b.to_dataframe()"
   ]
  },
  {
   "cell_type": "code",
   "execution_count": 0,
   "metadata": {
    "colab": {},
    "colab_type": "code",
    "collapsed": true,
    "id": "YN8jRz8guzfh"
   },
   "outputs": [],
   "source": [
    "bbb=bb['doi']"
   ]
  },
  {
   "cell_type": "code",
   "execution_count": 2,
   "metadata": {
    "collapsed": true
   },
   "outputs": [],
   "source": [
    "from webdriver_manager.firefox import GeckoDriverManager\n",
    "\n",
    "from selenium import webdriver\n",
    "\n",
    "ls -l /home/restrepo/.wdm/geckodriver/v0.23.0/linux64/geckodriver\n",
    "\n",
    "driver = webdriver.Firefox(executable_path=\n",
    "                '/home/restrepo/.wdm/geckodriver/v0.23.0/linux64/geckodriver')\n",
    "#reinstall path: GeckoDriverManager().install())"
   ]
  },
  {
   "cell_type": "code",
   "execution_count": 16,
   "metadata": {
    "collapsed": true
   },
   "outputs": [],
   "source": [
    "#driver.set_page_load_timeout(30)"
   ]
  },
  {
   "cell_type": "code",
   "execution_count": 17,
   "metadata": {
    "collapsed": true
   },
   "outputs": [],
   "source": [
    "url='https://scholar.google.com.co/scholar?hl=en&as_sdt=0%2C5&q=10.1590%2Fs0103-84782009000100018'"
   ]
  },
  {
   "cell_type": "code",
   "execution_count": 22,
   "metadata": {
    "collapsed": true
   },
   "outputs": [],
   "source": [
    "driver.get('http://google.com')"
   ]
  },
  {
   "cell_type": "code",
   "execution_count": 20,
   "metadata": {},
   "outputs": [
    {
     "data": {
      "text/plain": [
       "'<html><head><meta http-equiv=\"content-type\" content=\"text/html; charset=utf-8\"><meta name=\"viewport\" content=\"initial-scale=1\"><title>https://scholar.google.com.co/scholar?hl=en&amp;as_sdt=0%2C5&amp;q=10.1590%2Fs0103-84782009000100018</title></head>\\n<body style=\"font-family: arial, sans-serif; background-color: #fff; color: #000; padding:20px; font-size:18px;\" onload=\"e=document.getElementById(\\'captcha\\');if(e){e.focus();}\">\\n<div style=\"max-width:400px;\">\\n<hr style=\"color:#ccc; background-color:#ccc;\" size=\"1\" noshade=\"\"><br>\\n<form id=\"captcha-form\" action=\"index\" method=\"post\">\\n<script type=\"text/javascript\" async=\"\" src=\"https://www.gstatic.com/recaptcha/api2/v1540189908068/recaptcha__en.js\"></script><script src=\"https://www.google.com/recaptcha/api.js\" async=\"\" defer=\"\"></script>\\n<script>var submitCallback = function(response) {document.getElementById(\\'captcha-form\\').submit();};</script>\\n<div id=\"recaptcha\" class=\"g-recaptcha\" data-sitekey=\"6LfwuyUTAAAAAOAmoS0fdqijC2PbbdH4kjq62Y1b\" data-callback=\"submitCallback\" data-s=\"-rjdjyQxYZmQPBp0raENNNq3luF9ICwDf91cgeF14JDQoVlGKTtWr0YwsRvhbHf83HbxZMUbktecLkETeqpJnX7MdLQ291U4okQbOZwGQh34BQE9Y93Ar0ctZ6l-eAt-g75mdNBaaj7ehg5FXPvHAlF9bmZmfFtGYM9s5uwBV7uf8IAvKNxbF7xGWhNLol8E-DyNRHMMaC1SS2CNhcswVqKWWLkGLgpNV46hu8FnPrhOq_e3syTHDy8\"><div style=\"width: 304px; height: 78px;\"><div><iframe src=\"https://www.google.com/recaptcha/api2/anchor?ar=1&amp;k=6LfwuyUTAAAAAOAmoS0fdqijC2PbbdH4kjq62Y1b&amp;co=aHR0cHM6Ly93d3cuZ29vZ2xlLmNvbTo0NDM.&amp;hl=en&amp;v=v1540189908068&amp;size=normal&amp;s=-rjdjyQxYZmQPBp0raENNNq3luF9ICwDf91cgeF14JDQoVlGKTtWr0YwsRvhbHf83HbxZMUbktecLkETeqpJnX7MdLQ291U4okQbOZwGQh34BQE9Y93Ar0ctZ6l-eAt-g75mdNBaaj7ehg5FXPvHAlF9bmZmfFtGYM9s5uwBV7uf8IAvKNxbF7xGWhNLol8E-DyNRHMMaC1SS2CNhcswVqKWWLkGLgpNV46hu8FnPrhOq_e3syTHDy8&amp;cb=1xh8e9borwfs\" role=\"presentation\" name=\"a-4vdef7v0sih9\" scrolling=\"no\" sandbox=\"allow-forms allow-popups allow-same-origin allow-scripts allow-top-navigation allow-modals allow-popups-to-escape-sandbox\" width=\"304\" height=\"78\" frameborder=\"0\"></iframe></div><textarea id=\"g-recaptcha-response\" name=\"g-recaptcha-response\" class=\"g-recaptcha-response\" style=\"width: 250px; height: 40px; border: 1px solid rgb(193, 193, 193); margin: 10px 25px; padding: 0px; resize: none; display: none;\"></textarea></div></div>\\n<input name=\"q\" value=\"EgS1MV8TGOzBwd4FIhkA8aeDS6bmEegq-nogEQlBCxQ-6txC9uhDMgFy\" type=\"hidden\"><input name=\"continue\" value=\"https://scholar.google.com.co/scholar?hl=en&amp;as_sdt=0%2C5&amp;q=10.1590%2Fs0103-84782009000100018\" type=\"hidden\">\\n</form>\\n<hr style=\"color:#ccc; background-color:#ccc;\" size=\"1\" noshade=\"\">\\n\\n<div style=\"font-size:13px;\">\\n<b>About this page</b><br><br>Our systems have detected unusual traffic from your computer network.  This page checks to see if it\\'s really you sending the requests, and not a robot.  <a href=\"#\" onclick=\"document.getElementById(\\'infoDiv\\').style.display=\\'block\\';\">Why did this happen?</a><br><br>\\n<div id=\"infoDiv\" style=\"display:none; background-color:#eee; padding:10px; margin:0 0 15px 0; line-height:1.4em;\">\\nThis page appears when Google automatically detects requests coming from your computer network which appear to be in violation of the <a href=\"//www.google.com/policies/terms/\">Terms of Service</a>. The block will expire shortly after those requests stop.  In the meantime, solving the above CAPTCHA will let you continue to use our services.<br><br>This traffic may have been sent by malicious software, a browser plug-in, or a script that sends automated requests.  If you share your network connection, ask your administrator for help — a different computer using the same IP address may be responsible.  <a href=\"//support.google.com/websearch/answer/86640\">Learn more</a><br><br>Sometimes you may be asked to solve the CAPTCHA if you are using advanced terms that robots are known to use, or sending requests very quickly.\\n</div>\\n\\nIP address: 181.49.95.19<br>Time: 2018-10-24T12:09:17Z<br>URL: https://scholar.google.com.co/scholar?hl=en&amp;as_sdt=0%2C5&amp;q=10.1590%2Fs0103-84782009000100018<br>\\n</div>\\n</div>\\n\\n\\n<div style=\"background-color: rgb(255, 255, 255); border: 1px solid rgb(204, 204, 204); box-shadow: rgba(0, 0, 0, 0.2) 2px 2px 3px; position: absolute; transition: visibility 0s linear 0.3s, opacity 0.3s linear 0s; opacity: 0; visibility: hidden; z-index: 2000000000; left: 0px; top: -10000px;\"><div style=\"width: 100%; height: 100%; position: fixed; top: 0px; left: 0px; z-index: 2000000000; background-color: rgb(255, 255, 255); opacity: 0.05;\"></div><div style=\"border: 11px solid transparent; width: 0px; height: 0px; position: absolute; pointer-events: none; margin-top: -11px; z-index: 2000000000;\" class=\"g-recaptcha-bubble-arrow\"></div><div style=\"border: 10px solid transparent; width: 0px; height: 0px; position: absolute; pointer-events: none; margin-top: -10px; z-index: 2000000000;\" class=\"g-recaptcha-bubble-arrow\"></div><div style=\"z-index: 2000000000; position: relative;\"><iframe title=\"recaptcha challenge\" src=\"https://www.google.com/recaptcha/api2/bframe?hl=en&amp;v=v1540189908068&amp;k=6LfwuyUTAAAAAOAmoS0fdqijC2PbbdH4kjq62Y1b&amp;cb=kcyr6gca5qkq\" style=\"width: 100%; height: 100%;\" name=\"c-4vdef7v0sih9\" scrolling=\"no\" sandbox=\"allow-forms allow-popups allow-same-origin allow-scripts allow-top-navigation allow-modals allow-popups-to-escape-sandbox\" frameborder=\"0\"></iframe></div></div></body></html>'"
      ]
     },
     "execution_count": 20,
     "metadata": {},
     "output_type": "execute_result"
    }
   ],
   "source": [
    "driver.page_source"
   ]
  },
  {
   "cell_type": "code",
   "execution_count": 8,
   "metadata": {
    "collapsed": true
   },
   "outputs": [],
   "source": [
    "browser=driver"
   ]
  },
  {
   "cell_type": "code",
   "execution_count": 20,
   "metadata": {},
   "outputs": [
    {
     "ename": "InvalidSessionIdException",
     "evalue": "Message: Tried to run command without establishing a connection\n",
     "output_type": "error",
     "traceback": [
      "\u001b[0;31m---------------------------------------------------------------------------\u001b[0m",
      "\u001b[0;31mInvalidSessionIdException\u001b[0m                 Traceback (most recent call last)",
      "\u001b[0;32m<ipython-input-20-3a19cc46515a>\u001b[0m in \u001b[0;36m<module>\u001b[0;34m()\u001b[0m\n\u001b[0;32m----> 1\u001b[0;31m \u001b[0mbrowser\u001b[0m\u001b[0;34m.\u001b[0m\u001b[0mget\u001b[0m\u001b[0;34m(\u001b[0m\u001b[0;34m'https://github.com/mozilla/geckodriver'\u001b[0m\u001b[0;34m)\u001b[0m\u001b[0;34m\u001b[0m\u001b[0m\n\u001b[0m",
      "\u001b[0;32m/usr/local/lib/python3.5/dist-packages/selenium/webdriver/remote/webdriver.py\u001b[0m in \u001b[0;36mget\u001b[0;34m(self, url)\u001b[0m\n\u001b[1;32m    331\u001b[0m         \u001b[0mLoads\u001b[0m \u001b[0ma\u001b[0m \u001b[0mweb\u001b[0m \u001b[0mpage\u001b[0m \u001b[0;32min\u001b[0m \u001b[0mthe\u001b[0m \u001b[0mcurrent\u001b[0m \u001b[0mbrowser\u001b[0m \u001b[0msession\u001b[0m\u001b[0;34m.\u001b[0m\u001b[0;34m\u001b[0m\u001b[0m\n\u001b[1;32m    332\u001b[0m         \"\"\"\n\u001b[0;32m--> 333\u001b[0;31m         \u001b[0mself\u001b[0m\u001b[0;34m.\u001b[0m\u001b[0mexecute\u001b[0m\u001b[0;34m(\u001b[0m\u001b[0mCommand\u001b[0m\u001b[0;34m.\u001b[0m\u001b[0mGET\u001b[0m\u001b[0;34m,\u001b[0m \u001b[0;34m{\u001b[0m\u001b[0;34m'url'\u001b[0m\u001b[0;34m:\u001b[0m \u001b[0murl\u001b[0m\u001b[0;34m}\u001b[0m\u001b[0;34m)\u001b[0m\u001b[0;34m\u001b[0m\u001b[0m\n\u001b[0m\u001b[1;32m    334\u001b[0m \u001b[0;34m\u001b[0m\u001b[0m\n\u001b[1;32m    335\u001b[0m     \u001b[0;34m@\u001b[0m\u001b[0mproperty\u001b[0m\u001b[0;34m\u001b[0m\u001b[0m\n",
      "\u001b[0;32m/usr/local/lib/python3.5/dist-packages/selenium/webdriver/remote/webdriver.py\u001b[0m in \u001b[0;36mexecute\u001b[0;34m(self, driver_command, params)\u001b[0m\n\u001b[1;32m    319\u001b[0m         \u001b[0mresponse\u001b[0m \u001b[0;34m=\u001b[0m \u001b[0mself\u001b[0m\u001b[0;34m.\u001b[0m\u001b[0mcommand_executor\u001b[0m\u001b[0;34m.\u001b[0m\u001b[0mexecute\u001b[0m\u001b[0;34m(\u001b[0m\u001b[0mdriver_command\u001b[0m\u001b[0;34m,\u001b[0m \u001b[0mparams\u001b[0m\u001b[0;34m)\u001b[0m\u001b[0;34m\u001b[0m\u001b[0m\n\u001b[1;32m    320\u001b[0m         \u001b[0;32mif\u001b[0m \u001b[0mresponse\u001b[0m\u001b[0;34m:\u001b[0m\u001b[0;34m\u001b[0m\u001b[0m\n\u001b[0;32m--> 321\u001b[0;31m             \u001b[0mself\u001b[0m\u001b[0;34m.\u001b[0m\u001b[0merror_handler\u001b[0m\u001b[0;34m.\u001b[0m\u001b[0mcheck_response\u001b[0m\u001b[0;34m(\u001b[0m\u001b[0mresponse\u001b[0m\u001b[0;34m)\u001b[0m\u001b[0;34m\u001b[0m\u001b[0m\n\u001b[0m\u001b[1;32m    322\u001b[0m             response['value'] = self._unwrap_value(\n\u001b[1;32m    323\u001b[0m                 response.get('value', None))\n",
      "\u001b[0;32m/usr/local/lib/python3.5/dist-packages/selenium/webdriver/remote/errorhandler.py\u001b[0m in \u001b[0;36mcheck_response\u001b[0;34m(self, response)\u001b[0m\n\u001b[1;32m    240\u001b[0m                 \u001b[0malert_text\u001b[0m \u001b[0;34m=\u001b[0m \u001b[0mvalue\u001b[0m\u001b[0;34m[\u001b[0m\u001b[0;34m'alert'\u001b[0m\u001b[0;34m]\u001b[0m\u001b[0;34m.\u001b[0m\u001b[0mget\u001b[0m\u001b[0;34m(\u001b[0m\u001b[0;34m'text'\u001b[0m\u001b[0;34m)\u001b[0m\u001b[0;34m\u001b[0m\u001b[0m\n\u001b[1;32m    241\u001b[0m             \u001b[0;32mraise\u001b[0m \u001b[0mexception_class\u001b[0m\u001b[0;34m(\u001b[0m\u001b[0mmessage\u001b[0m\u001b[0;34m,\u001b[0m \u001b[0mscreen\u001b[0m\u001b[0;34m,\u001b[0m \u001b[0mstacktrace\u001b[0m\u001b[0;34m,\u001b[0m \u001b[0malert_text\u001b[0m\u001b[0;34m)\u001b[0m\u001b[0;34m\u001b[0m\u001b[0m\n\u001b[0;32m--> 242\u001b[0;31m         \u001b[0;32mraise\u001b[0m \u001b[0mexception_class\u001b[0m\u001b[0;34m(\u001b[0m\u001b[0mmessage\u001b[0m\u001b[0;34m,\u001b[0m \u001b[0mscreen\u001b[0m\u001b[0;34m,\u001b[0m \u001b[0mstacktrace\u001b[0m\u001b[0;34m)\u001b[0m\u001b[0;34m\u001b[0m\u001b[0m\n\u001b[0m\u001b[1;32m    243\u001b[0m \u001b[0;34m\u001b[0m\u001b[0m\n\u001b[1;32m    244\u001b[0m     \u001b[0;32mdef\u001b[0m \u001b[0m_value_or_default\u001b[0m\u001b[0;34m(\u001b[0m\u001b[0mself\u001b[0m\u001b[0;34m,\u001b[0m \u001b[0mobj\u001b[0m\u001b[0;34m,\u001b[0m \u001b[0mkey\u001b[0m\u001b[0;34m,\u001b[0m \u001b[0mdefault\u001b[0m\u001b[0;34m)\u001b[0m\u001b[0;34m:\u001b[0m\u001b[0;34m\u001b[0m\u001b[0m\n",
      "\u001b[0;31mInvalidSessionIdException\u001b[0m: Message: Tried to run command without establishing a connection\n"
     ]
    }
   ],
   "source": [
    "browser.get('https://github.com/mozilla/geckodriver')"
   ]
  },
  {
   "cell_type": "code",
   "execution_count": 1,
   "metadata": {
    "collapsed": true
   },
   "outputs": [],
   "source": [
    "import pandas as pd"
   ]
  },
  {
   "cell_type": "code",
   "execution_count": 4,
   "metadata": {
    "collapsed": true
   },
   "outputs": [],
   "source": [
    "gsta=pd.read_excel('gsta_full.xlsx')"
   ]
  },
  {
   "cell_type": "code",
   "execution_count": 56,
   "metadata": {
    "collapsed": true
   },
   "outputs": [],
   "source": [
    "UDEA=oa.read_drive_excel('Sample_WOS.xlsx')"
   ]
  },
  {
   "cell_type": "code",
   "execution_count": 59,
   "metadata": {},
   "outputs": [
    {
     "data": {
      "text/plain": [
       "array([['GenoType MTBDRplus 1.0 (R) for the detection of cross-resistance between isoniazide and ethionamide in isolates of multidrug-resistant Mycobacterium tuberculosis',\n",
       "        'Rueda, J\\nRealpe, T\\nMejia, G\\nZapata, E\\nRobledo, J\\n'],\n",
       "       ['Validation and clinical application of a molecular method for the identification of Cryptococcus neoformans/Cryptococcus gattii complex DNA in human clinical specimens',\n",
       "        'Rivera, V\\nGaviria, M\\nMunoz-Cadavid, C\\nCano, L\\nNaranjo, T\\n'],\n",
       "       ['THE POWER OF THE SMALL: THE EXAMPLE OF Paracoccidioides brasiliensis CONIDIA',\n",
       "        'Restrepo, A\\nCano, LE\\nGonzalez, A\\n'],\n",
       "       ['Validation and clinical application of a nested PCR for paracoccidioidomycosis diagnosis in clinical samples from Colombian patients',\n",
       "        'Gaviria, M\\nRivera, V\\nMunoz-Cadavid, C\\nCano, LE\\nNaranjo, TW\\n'],\n",
       "       ['Trends in antibiotic resistance in Medellin and municipalities of the Metropolitan Area between 2007 and 2012: Results of six years of surveillance',\n",
       "        'Maldonado, NA\\nMunera, MI\\nLopez, JA\\nSierra, P\\nRobledo, C\\nRobledo, J\\n'],\n",
       "       ['Changes over time in the distribution of dominant clonal complexes of methicillin-resistant Staphylococcus aureus in Medellin, Colombia',\n",
       "        'Ocampo, AM\\nVelez, LA\\nRobledo, J\\nJimenez, JN\\n'],\n",
       "       ['Cryptococcosis in Colombia: Results of the national surveillance program for the years 2006-2010',\n",
       "        'Escandon, P\\nde Bedout, C\\nLizarazo, J\\nAgudelo, CI\\nTobon, A\\nBello, S\\nRestrepo, A\\nCastaneda, E\\n'],\n",
       "       ['Host Plant Association and Genetic Differentiation of Corn and Rice Strains of Spodoptera frugiperda Smith (Lepidoptera: Noctuidae) in Colombia',\n",
       "        'Saldamando, CI\\nVelez-Arango, AM\\n'],\n",
       "       ['IDENTIFICATION OF Paracoccidioides brasiliensis IN ADRENAL GLANDS BIOPSIES OF TWO PATIENTS WITH PARACOCCIDIOIDOMYCOSIS AND ADRENAL INSUFFICIENCY',\n",
       "        'Agudelo, CA\\nMunoz, C\\nRamirez, A\\nGutierrez, J\\nVelez, S\\nPerez, JC\\nVelez, A\\nTobon, AM\\nRestrepo, A\\n'],\n",
       "       ['Lysozyme plays a dual role against the dimorphic fungus Paracoccidioides brasiliensis',\n",
       "        'Lopera, D\\nAristizabal, BH\\nRestrepo, A\\nCano, LE\\nGonzalez, A\\n'],\n",
       "       ['Interaction between Paracoccidioides brasiliensis conidia and the coagulation system: involvement of fibrinogen',\n",
       "        'Tamayo, D\\nHernandez, O\\nMunoz-Cadavid, C\\nCano, LE\\nGonzalez, A\\n'],\n",
       "       ['Treatment of an Aedes aegypti colony with the Cry11Aa toxin for 54 generations results in the development of resistance',\n",
       "        'Cadavid-Restrepo, G\\nSahaza, J\\nOrduz, S\\n'],\n",
       "       ['Kinetic analysis of gene expression during mycelium to yeast transition and yeast to mycelium germination in Paracoccidioides brasiliensis',\n",
       "        'Hernandez, O\\nTamayo, D\\nTorres, I\\nRestrepo, A\\nMcEwen, JG\\nGarcia, AM\\n'],\n",
       "       ['Histoplasmosis: results of the Colombian National Survey, 1992-2008',\n",
       "        'Arango, M\\nCastaneda, E\\nAgudelo, CI\\nDe Bedout, C\\nAgudelo, CA\\nTobon, A\\nLinares, M\\nValencia, Y\\nRestrepo, A\\n'],\n",
       "       ['Haplotype Identification within Spodoptera frugiperda (J.E. Smith) (Lepidoptera: Noctuidae) Corn and Rice Strains from Colombia',\n",
       "        'Salinas-Hernandez, H\\nSaldamando-Benjumea, CI\\n'],\n",
       "       ['Tuberculosis in patientes treated with tumor necrosis factor-alpha antagonists living in an endemic area. Is the risk worthwhile?',\n",
       "        'Rojas-Villarraga, A\\nAguclelo, CA\\nPineda-Tamayo, R\\nPorras, A\\nMatute, G\\nAnaya, JM\\n'],\n",
       "       ['Mycobacterium tuberculosis strains of the Beijing genotype are rarely observed in tuberculosis patients in South America',\n",
       "        'Ritacco, V\\nLopez, B\\nCafrune, PI\\nFerrazoli, L\\nSuffys, PN\\nCandia, N\\nVasquez, L\\nRealpe, T\\nFernandez, J\\nLima, KV\\nZurita, J\\nRobledo, J\\nRossetti, ML\\nKritski, AL\\nTelles, MA\\nPalomino, JC\\nHeersma, H\\nvan Soolingen, D\\nKremer, K\\nBarrera, L\\n'],\n",
       "       ['Colombian genetically modified potato lines resistant to Tecia solanivora (Lepidoptera: Gelechiidae) under a confined field',\n",
       "        'Villanueva, D\\nTorres, J\\nRivera, H\\nNunez, V\\nArango, R\\nAngel, F\\n'],\n",
       "       ['Identification of genes associated with germination of conidia to form mycelia in the fungus Paracoccidioides brasiliensis',\n",
       "        'Garcia, AM\\nHernandez, O\\nAristizabal, BH\\nCano, LE\\nRestrepo, A\\nMcEwen, JG\\n'],\n",
       "       ['The natural habitat of the fungus Paracoccidioides brasiliensis, ?like drawing the boundary between the rural and the urban?',\n",
       "        'Restrepo, A\\n'],\n",
       "       ['Laboratory estimation of the effects of increasing temperatures on the duration of gonotrophic cycle of Anopheles albimanus (Diptera : Culicidae)',\n",
       "        'Rua, GL\\nQuinones, ML\\nVelez, ID\\nZuluaga, JS\\nRojas, W\\nPoveda, G\\nRuiz, D\\n'],\n",
       "       ['Nitric oxide participation in the fungicidal mechanism of gamma interferon-activated murine macrophages against Paracoccidioides brasiliensis conidia',\n",
       "        'Gonzalez, A\\nDe Gregori, W\\nVelez, D\\nRestrepo, A\\nCano, LE\\n'],\n",
       "       ['Genetic influence of PTPN22 R620W polymorphism in tuberculosis',\n",
       "        'Gomez, LM\\nAnaya, JM\\nMartin, J\\n'],\n",
       "       ['Detection of the 70-kilodalton Histoplasma capsulatum antigen in serum of histoplasmosis patients: Correlation between antigenemia and therapy during follow-up',\n",
       "        'Gomez, BL\\nFigueroa, JI\\nHamilton, AJ\\nDiez, S\\nRojas, M\\nTobon, A\\nRestrepo, A\\nHay, RJ\\n'],\n",
       "       ['The Structural Modeling of the Interaction between Levofloxacin and the Mycobacterium tuberculosis Gyrase Catalytic Site Sheds Light on the Mechanisms of Fluoroquinolones Resistant Tuberculosis in Colombian Clinical Isolates',\n",
       "        'Alvarez, N\\nZapata, E\\nMejia, GI\\nRealpe, T\\nAraque, P\\nPelaez, C\\nRouzaud, F\\nRobledo, J\\n'],\n",
       "       ['Evaluation of a rapid culture method for tuberculosis diagnosis: a Latin American multi-center study',\n",
       "        'Robledo, JA\\nMejia, GI\\nMorcillo, N\\nChacon, L\\nCamacho, M\\nLuna, J\\nZurita, J\\nBodon, A\\nVelasco, M\\nPalomino, JC\\nMartin, A\\nPortaels, F\\n'],\n",
       "       ['The hydrolase PbHAD32 participates in the adherence of Paracoccidioides brasiliensis conidia to epithelial lung cells',\n",
       "        'Hernandez, O\\nAlmeida, AJ\\nTamayo, D\\nTorres, I\\nGarcia, AM\\nLopez, A\\nRestrepo, A\\nMcEwen, JG\\n']],\n",
       "      dtype=object)"
      ]
     },
     "execution_count": 59,
     "metadata": {},
     "output_type": "execute_result"
    }
   ],
   "source": [
    "UDEA[['TI','AU']].values"
   ]
  },
  {
   "cell_type": "code",
   "execution_count": null,
   "metadata": {
    "collapsed": true
   },
   "outputs": [],
   "source": []
  }
 ],
 "metadata": {
  "colab": {
   "collapsed_sections": [],
   "name": "Copy of OpenAccess.ipynb",
   "provenance": [],
   "version": "0.3.2"
  },
  "kernelspec": {
   "display_name": "Python 3",
   "language": "python",
   "name": "python3"
  },
  "language_info": {
   "codemirror_mode": {
    "name": "ipython",
    "version": 3
   },
   "file_extension": ".py",
   "mimetype": "text/x-python",
   "name": "python",
   "nbconvert_exporter": "python",
   "pygments_lexer": "ipython3",
   "version": "3.5.3"
  },
  "latex_envs": {
   "LaTeX_envs_menu_present": true,
   "bibliofile": "biblio.bib",
   "cite_by": "apalike",
   "current_citInitial": 1,
   "eqLabelWithNumbers": true,
   "eqNumInitial": 1,
   "labels_anchors": false,
   "latex_user_defs": false,
   "report_style_numbering": false,
   "user_envs_cfg": false
  },
  "toc": {
   "colors": {
    "hover_highlight": "#DAA520",
    "running_highlight": "#FF0000",
    "selected_highlight": "#FFD700"
   },
   "moveMenuLeft": true,
   "nav_menu": {
    "height": "512px",
    "width": "252px"
   },
   "navigate_menu": true,
   "number_sections": true,
   "sideBar": true,
   "threshold": 4,
   "toc_cell": false,
   "toc_section_display": "block",
   "toc_window_display": false
  }
 },
 "nbformat": 4,
 "nbformat_minor": 1
}
