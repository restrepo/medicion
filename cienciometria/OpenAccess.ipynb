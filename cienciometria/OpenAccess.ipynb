{
  "nbformat": 4,
  "nbformat_minor": 0,
  "metadata": {
    "colab": {
      "name": "OpenAccess.ipynb",
      "version": "0.3.2",
      "provenance": [],
      "collapsed_sections": [],
      "toc_visible": true,
      "include_colab_link": true
    },
    "kernelspec": {
      "name": "python3",
      "display_name": "Python 3"
    }
  },
  "cells": [
    {
      "cell_type": "markdown",
      "metadata": {
        "id": "view-in-github",
        "colab_type": "text"
      },
      "source": [
        "[![Open In Colab](https://colab.research.google.com/assets/colab-badge.svg)](https://colab.research.google.com/github/restrepo/medicion/blob/master/cienciometria/OpenAccess.ipynb)"
      ]
    },
    {
      "metadata": {
        "id": "uu-sf4Ukvbb-",
        "colab_type": "text"
      },
      "cell_type": "markdown",
      "source": [
        "# Open Acces Analysis\n",
        "Based in http://oadoi.org full DataBase"
      ]
    },
    {
      "metadata": {
        "id": "8-bNxmzTvjp4",
        "colab_type": "text"
      },
      "cell_type": "markdown",
      "source": [
        "## Load UDEA_DOIS"
      ]
    },
    {
      "metadata": {
        "id": "kHZ5Lw4Bvsvm",
        "colab_type": "code",
        "colab": {}
      },
      "cell_type": "code",
      "source": [
        "!pip install wosplus openpyxl > /dev/null"
      ],
      "execution_count": 0,
      "outputs": []
    },
    {
      "metadata": {
        "id": "myuigGH2v62c",
        "colab_type": "code",
        "colab": {
          "base_uri": "https://localhost:8080/",
          "height": 34
        },
        "outputId": "5c83a8a9-b349-42ad-f11b-42045509161e"
      },
      "cell_type": "code",
      "source": [
        "%%writefile drive.cfg\n",
        "[FILES]\n",
        "DOIS.xlsx   = 1bikNT7Gmp4G7dfeMuGsF-az7D8lskK0O"
      ],
      "execution_count": 2,
      "outputs": [
        {
          "output_type": "stream",
          "text": [
            "Writing drive.cfg\n"
          ],
          "name": "stdout"
        }
      ]
    },
    {
      "metadata": {
        "id": "MPUuyG2twGki",
        "colab_type": "code",
        "colab": {}
      },
      "cell_type": "code",
      "source": [
        "import wosplus as wp\n",
        "import numpy as np\n",
        "import pandas as pd\n",
        "import os"
      ],
      "execution_count": 0,
      "outputs": []
    },
    {
      "metadata": {
        "id": "ZplUcp4P2qPM",
        "colab_type": "code",
        "colab": {}
      },
      "cell_type": "code",
      "source": [
        "files=wp.wosplus('drive.cfg')"
      ],
      "execution_count": 0,
      "outputs": []
    },
    {
      "metadata": {
        "id": "So_zs_8v26NX",
        "colab_type": "code",
        "colab": {}
      },
      "cell_type": "code",
      "source": [
        "dois=files.read_drive_excel('DOIS.xlsx')"
      ],
      "execution_count": 0,
      "outputs": []
    },
    {
      "metadata": {
        "id": "YHm8pevF6OD5",
        "colab_type": "code",
        "colab": {}
      },
      "cell_type": "code",
      "source": [
        "dois['DI']=dois['DI'].str.lower()"
      ],
      "execution_count": 0,
      "outputs": []
    },
    {
      "metadata": {
        "id": "AG5ZII1A2-al",
        "colab_type": "code",
        "colab": {
          "base_uri": "https://localhost:8080/",
          "height": 122
        },
        "outputId": "7c9317ff-1e52-46b0-96c3-d5484c70885c"
      },
      "cell_type": "code",
      "source": [
        "# Load the Drive helper and mount\n",
        "from google.colab import drive\n",
        "\n",
        "# This will prompt for authorization.\n",
        "drive.mount('/content/drive')"
      ],
      "execution_count": 13,
      "outputs": [
        {
          "output_type": "stream",
          "text": [
            "Go to this URL in a browser: https://accounts.google.com/o/oauth2/auth?client_id=947318989803-6bn6qk8qdgf4n4g3pfee6491hc0brc4i.apps.googleusercontent.com&redirect_uri=urn%3Aietf%3Awg%3Aoauth%3A2.0%3Aoob&scope=email%20https%3A%2F%2Fwww.googleapis.com%2Fauth%2Fdocs.test%20https%3A%2F%2Fwww.googleapis.com%2Fauth%2Fdrive%20https%3A%2F%2Fwww.googleapis.com%2Fauth%2Fdrive.photos.readonly%20https%3A%2F%2Fwww.googleapis.com%2Fauth%2Fpeopleapi.readonly&response_type=code\n",
            "\n",
            "Enter your authorization code:\n",
            "··········\n",
            "Mounted at /content/drive\n"
          ],
          "name": "stdout"
        }
      ]
    },
    {
      "metadata": {
        "id": "5zD1C7vC5Uf8",
        "colab_type": "code",
        "colab": {}
      },
      "cell_type": "code",
      "source": [
        "WORK_DIR=\"drive/My Drive/Colab Notebooks/Data\"\n",
        "os.chdir(WORK_DIR)"
      ],
      "execution_count": 0,
      "outputs": []
    },
    {
      "metadata": {
        "id": "iel6BWO3Bpev",
        "colab_type": "code",
        "colab": {}
      },
      "cell_type": "code",
      "source": [
        "oa=pd.read_csv('oadoi.csv')"
      ],
      "execution_count": 0,
      "outputs": []
    },
    {
      "metadata": {
        "id": "I9in8WruCvzn",
        "colab_type": "code",
        "colab": {}
      },
      "cell_type": "code",
      "source": [
        "oa['DOI']=oa['DOI'].str.lower()"
      ],
      "execution_count": 0,
      "outputs": []
    },
    {
      "metadata": {
        "id": "h31zIic3CN4-",
        "colab_type": "code",
        "colab": {}
      },
      "cell_type": "code",
      "source": [
        "oafdois=dois.merge(oa,left_on='DI',right_on='DOI',how='left')"
      ],
      "execution_count": 0,
      "outputs": []
    },
    {
      "metadata": {
        "id": "XLF3Xfn-Cb0L",
        "colab_type": "code",
        "colab": {}
      },
      "cell_type": "code",
      "source": [
        "oafdois=oafdois.fillna('')"
      ],
      "execution_count": 0,
      "outputs": []
    },
    {
      "metadata": {
        "id": "s019bNDOCitu",
        "colab_type": "code",
        "colab": {
          "base_uri": "https://localhost:8080/",
          "height": 34
        },
        "outputId": "8a332438-3a98-4d4d-c702-45a1c9a05a64"
      },
      "cell_type": "code",
      "source": [
        "oafdois[oafdois.DOI!=''].shape"
      ],
      "execution_count": 95,
      "outputs": [
        {
          "output_type": "execute_result",
          "data": {
            "text/plain": [
              "(3491, 2)"
            ]
          },
          "metadata": {
            "tags": []
          },
          "execution_count": 95
        }
      ]
    },
    {
      "metadata": {
        "id": "vOFg9jtODMOK",
        "colab_type": "code",
        "colab": {}
      },
      "cell_type": "code",
      "source": [
        "oafdois=oafdois.rename({'DOI':'Open_Access'}, axis = 'columns')"
      ],
      "execution_count": 0,
      "outputs": []
    },
    {
      "metadata": {
        "id": "FUBNWHPUDi99",
        "colab_type": "code",
        "colab": {}
      },
      "cell_type": "code",
      "source": [
        "yellow=pd.read_csv('oayellowdois.csv')\n",
        "yellow['DOI']=yellow['DOI'].str.lower()"
      ],
      "execution_count": 0,
      "outputs": []
    },
    {
      "metadata": {
        "id": "BnXC-5Ki5sdi",
        "colab_type": "code",
        "colab": {}
      },
      "cell_type": "code",
      "source": [
        "oayellowdois=oafdois.merge(yellow,left_on='DI',right_on='DOI',how='left')\n",
        "oayellowdois=oayellowdois.fillna('')\n",
        "oayellowdois[oayellowdois.DOI!=''].shape\n",
        "oayellowdois=oayellowdois.rename({'DOI':'OA_Yellow'}, axis = 'columns')"
      ],
      "execution_count": 0,
      "outputs": []
    },
    {
      "metadata": {
        "id": "35hwc_31D2kC",
        "colab_type": "code",
        "colab": {
          "base_uri": "https://localhost:8080/",
          "height": 34
        },
        "outputId": "158bb88f-2c92-4c89-9843-46dcef2c06b4"
      },
      "cell_type": "code",
      "source": [
        "oayellowdois[oayellowdois['OA_Yellow']!=''].shape"
      ],
      "execution_count": 98,
      "outputs": [
        {
          "output_type": "execute_result",
          "data": {
            "text/plain": [
              "(1505, 3)"
            ]
          },
          "metadata": {
            "tags": []
          },
          "execution_count": 98
        }
      ]
    },
    {
      "metadata": {
        "id": "zsC7rBxB88E4",
        "colab_type": "code",
        "colab": {}
      },
      "cell_type": "code",
      "source": [
        "green=pd.read_csv('oagreendois.csv')\n",
        "green['DOI']=green['DOI'].str.lower()"
      ],
      "execution_count": 0,
      "outputs": []
    },
    {
      "metadata": {
        "id": "2DQDehyS-BxP",
        "colab_type": "code",
        "colab": {}
      },
      "cell_type": "code",
      "source": [
        "oagreendois=oayellowdois.merge(green,left_on='DI',right_on='DOI',how='left')\n",
        "oagreendois=oagreendois.fillna('')\n",
        "oagreendois=oagreendois.rename({'DOI':'OA_Green'}, axis = 'columns')"
      ],
      "execution_count": 0,
      "outputs": []
    },
    {
      "metadata": {
        "id": "nHoK3iNI-UND",
        "colab_type": "code",
        "colab": {
          "base_uri": "https://localhost:8080/",
          "height": 34
        },
        "outputId": "bb86eb65-760b-4eb0-bbfe-2c620852fc51"
      },
      "cell_type": "code",
      "source": [
        "oagreendois[oagreendois['OA_Green']!=''].shape"
      ],
      "execution_count": 104,
      "outputs": [
        {
          "output_type": "execute_result",
          "data": {
            "text/plain": [
              "(1726, 4)"
            ]
          },
          "metadata": {
            "tags": []
          },
          "execution_count": 104
        }
      ]
    },
    {
      "metadata": {
        "id": "mJIpwcZvA07A",
        "colab_type": "code",
        "colab": {}
      },
      "cell_type": "code",
      "source": [
        ""
      ],
      "execution_count": 0,
      "outputs": []
    },
    {
      "metadata": {
        "id": "JB6UH1gUAVwy",
        "colab_type": "code",
        "colab": {
          "base_uri": "https://localhost:8080/",
          "height": 34
        },
        "outputId": "a9603853-3097-4073-ba88-b01ff1e43e7a"
      },
      "cell_type": "code",
      "source": [
        "oagreendois[np.logical_or(oagreendois.OA_Yellow!='' ,oagreendois.OA_Green!='')].shape"
      ],
      "execution_count": 101,
      "outputs": [
        {
          "output_type": "execute_result",
          "data": {
            "text/plain": [
              "(3231, 4)"
            ]
          },
          "metadata": {
            "tags": []
          },
          "execution_count": 101
        }
      ]
    },
    {
      "metadata": {
        "id": "12BzMRbLAOPA",
        "colab_type": "code",
        "colab": {}
      },
      "cell_type": "code",
      "source": [
        "greenarticle=pd.read_csv('oagreenarticledois.csv')"
      ],
      "execution_count": 0,
      "outputs": []
    },
    {
      "metadata": {
        "id": "igoJcM80E8mO",
        "colab_type": "code",
        "colab": {}
      },
      "cell_type": "code",
      "source": [
        "oadois=oagreendois.merge(greenarticle,left_on='DI',right_on='DOI',how='left')\n",
        "oadois=oadois.fillna('')\n",
        "oadois=oadois.rename({'DOI':'OA_Green_Article'}, axis = 'columns')"
      ],
      "execution_count": 0,
      "outputs": []
    },
    {
      "metadata": {
        "id": "LR9Fu3sbFWMN",
        "colab_type": "code",
        "colab": {
          "base_uri": "https://localhost:8080/",
          "height": 34
        },
        "outputId": "74223b53-4a2f-48eb-808e-53dd5b0b0d71"
      },
      "cell_type": "code",
      "source": [
        "oadois[oadois['OA_Green_Article']!=''].shape"
      ],
      "execution_count": 109,
      "outputs": [
        {
          "output_type": "execute_result",
          "data": {
            "text/plain": [
              "(260, 5)"
            ]
          },
          "metadata": {
            "tags": []
          },
          "execution_count": 109
        }
      ]
    },
    {
      "metadata": {
        "id": "io6qVlcWGADj",
        "colab_type": "code",
        "colab": {
          "base_uri": "https://localhost:8080/",
          "height": 34
        },
        "outputId": "8cd11c59-4980-440a-87e6-35455196d6ad"
      },
      "cell_type": "code",
      "source": [
        "oadois[np.logical_or( np.logical_or(oadois.OA_Yellow!='' ,oadois.OA_Green!=''),oadois.OA_Green_Article!='')].shape"
      ],
      "execution_count": 112,
      "outputs": [
        {
          "output_type": "execute_result",
          "data": {
            "text/plain": [
              "(3491, 5)"
            ]
          },
          "metadata": {
            "tags": []
          },
          "execution_count": 112
        }
      ]
    },
    {
      "metadata": {
        "id": "jDmSjQ-FFsoE",
        "colab_type": "code",
        "colab": {}
      },
      "cell_type": "code",
      "source": [
        "oadois.to_excel('oaudea.xlsx',index=False)"
      ],
      "execution_count": 0,
      "outputs": []
    },
    {
      "metadata": {
        "id": "ktWzL_J3HfqB",
        "colab_type": "code",
        "colab": {
          "base_uri": "https://localhost:8080/",
          "height": 34
        },
        "outputId": "74a16c5a-5639-4e34-ca9c-0767e8752ff7"
      },
      "cell_type": "code",
      "source": [
        "260+1726+1505"
      ],
      "execution_count": 116,
      "outputs": [
        {
          "output_type": "execute_result",
          "data": {
            "text/plain": [
              "3491"
            ]
          },
          "metadata": {
            "tags": []
          },
          "execution_count": 116
        }
      ]
    },
    {
      "metadata": {
        "id": "oeSQvGxWIo_g",
        "colab_type": "code",
        "colab": {
          "base_uri": "https://localhost:8080/",
          "height": 34
        },
        "outputId": "d4410151-8e98-44f4-b700-ac549781a4dd"
      },
      "cell_type": "code",
      "source": [
        "260+1726"
      ],
      "execution_count": 117,
      "outputs": [
        {
          "output_type": "execute_result",
          "data": {
            "text/plain": [
              "1986"
            ]
          },
          "metadata": {
            "tags": []
          },
          "execution_count": 117
        }
      ]
    },
    {
      "metadata": {
        "id": "mNTEnTQjJuLx",
        "colab_type": "text"
      },
      "cell_type": "markdown",
      "source": [
        "# Consultar  DOAJ API con DOI\n",
        "Ver: https://doaj.org/api/v1/docs#!/Search/get_api_v1_search_articles_search_query"
      ]
    },
    {
      "metadata": {
        "id": "j39HDif4NpPJ",
        "colab_type": "text"
      },
      "cell_type": "markdown",
      "source": [
        "## Carga navegador JSON"
      ]
    },
    {
      "metadata": {
        "id": "izdwSa5RJ0Ec",
        "colab_type": "code",
        "colab": {}
      },
      "cell_type": "code",
      "source": [
        "import pandas as pd"
      ],
      "execution_count": 0,
      "outputs": []
    },
    {
      "metadata": {
        "id": "INjfBi7KNmJP",
        "colab_type": "text"
      },
      "cell_type": "markdown",
      "source": [
        "## Consulta"
      ]
    },
    {
      "metadata": {
        "id": "5c8D7U-mJ3g6",
        "colab_type": "code",
        "colab": {}
      },
      "cell_type": "code",
      "source": [
        "DOI='10.1016/j.physletb.2018.01.009'\n",
        "df=pd.read_json('https://doaj.org/api/v1/search/articles/{}'.format(DOI))"
      ],
      "execution_count": 0,
      "outputs": []
    },
    {
      "metadata": {
        "id": "M84vNkUSNPeM",
        "colab_type": "text"
      },
      "cell_type": "markdown",
      "source": [
        "## Análisis de resultado:\n",
        "Nota: La celdas con estructuras anidadas (que comienzan con `[` ó `{`) sa analizan secuencialmente"
      ]
    },
    {
      "metadata": {
        "id": "m7ahe4ZaNOb9",
        "colab_type": "code",
        "outputId": "797cca3f-6de1-403b-9bcf-2e3f8a805503",
        "colab": {
          "base_uri": "https://localhost:8080/",
          "height": 79
        }
      },
      "cell_type": "code",
      "source": [
        "df"
      ],
      "execution_count": 0,
      "outputs": [
        {
          "output_type": "execute_result",
          "data": {
            "text/html": [
              "<div>\n",
              "<style scoped>\n",
              "    .dataframe tbody tr th:only-of-type {\n",
              "        vertical-align: middle;\n",
              "    }\n",
              "\n",
              "    .dataframe tbody tr th {\n",
              "        vertical-align: top;\n",
              "    }\n",
              "\n",
              "    .dataframe thead th {\n",
              "        text-align: right;\n",
              "    }\n",
              "</style>\n",
              "<table border=\"1\" class=\"dataframe\">\n",
              "  <thead>\n",
              "    <tr style=\"text-align: right;\">\n",
              "      <th></th>\n",
              "      <th>last</th>\n",
              "      <th>page</th>\n",
              "      <th>pageSize</th>\n",
              "      <th>query</th>\n",
              "      <th>results</th>\n",
              "      <th>timestamp</th>\n",
              "      <th>total</th>\n",
              "    </tr>\n",
              "  </thead>\n",
              "  <tbody>\n",
              "    <tr>\n",
              "      <th>0</th>\n",
              "      <td>https://doaj.org/api/v1/search/articles/10.101...</td>\n",
              "      <td>1</td>\n",
              "      <td>10</td>\n",
              "      <td>10.1016/j.physletb.2018.01.009</td>\n",
              "      <td>{u'last_updated': u'2018-03-05T12:09:16Z', u'i...</td>\n",
              "      <td>2018-1010T04:23:08Z</td>\n",
              "      <td>1</td>\n",
              "    </tr>\n",
              "  </tbody>\n",
              "</table>\n",
              "</div>"
            ],
            "text/plain": [
              "                                                last  page  pageSize  \\\n",
              "0  https://doaj.org/api/v1/search/articles/10.101...     1        10   \n",
              "\n",
              "                            query  \\\n",
              "0  10.1016/j.physletb.2018.01.009   \n",
              "\n",
              "                                             results            timestamp  \\\n",
              "0  {u'last_updated': u'2018-03-05T12:09:16Z', u'i...  2018-1010T04:23:08Z   \n",
              "\n",
              "   total  \n",
              "0      1  "
            ]
          },
          "metadata": {
            "tags": []
          },
          "execution_count": 32
        }
      ]
    },
    {
      "metadata": {
        "id": "lzgDcW8NNyAv",
        "colab_type": "text"
      },
      "cell_type": "markdown",
      "source": [
        "Desplegar colunna __results__:"
      ]
    },
    {
      "metadata": {
        "id": "5vcp02fQKCu2",
        "colab_type": "code",
        "outputId": "2ee1ee4b-b0d1-4149-8495-a626f27326dc",
        "colab": {
          "base_uri": "https://localhost:8080/",
          "height": 387
        }
      },
      "cell_type": "code",
      "source": [
        "p=pd.DataFrame(  df['results'].values[0] )\n",
        "p"
      ],
      "execution_count": 0,
      "outputs": [
        {
          "output_type": "execute_result",
          "data": {
            "text/html": [
              "<div>\n",
              "<style scoped>\n",
              "    .dataframe tbody tr th:only-of-type {\n",
              "        vertical-align: middle;\n",
              "    }\n",
              "\n",
              "    .dataframe tbody tr th {\n",
              "        vertical-align: top;\n",
              "    }\n",
              "\n",
              "    .dataframe thead th {\n",
              "        text-align: right;\n",
              "    }\n",
              "</style>\n",
              "<table border=\"1\" class=\"dataframe\">\n",
              "  <thead>\n",
              "    <tr style=\"text-align: right;\">\n",
              "      <th></th>\n",
              "      <th>bibjson</th>\n",
              "      <th>created_date</th>\n",
              "      <th>id</th>\n",
              "      <th>last_updated</th>\n",
              "    </tr>\n",
              "  </thead>\n",
              "  <tbody>\n",
              "    <tr>\n",
              "      <th>abstract</th>\n",
              "      <td>The observation of neutrino oscillations estab...</td>\n",
              "      <td>2018-03-05T12:09:16Z</td>\n",
              "      <td>03ba3f288d8341d380a286a6d0f64de4</td>\n",
              "      <td>2018-03-05T12:09:16Z</td>\n",
              "    </tr>\n",
              "    <tr>\n",
              "      <th>author</th>\n",
              "      <td>[{u'affiliation': u'Physics Department, Univer...</td>\n",
              "      <td>2018-03-05T12:09:16Z</td>\n",
              "      <td>03ba3f288d8341d380a286a6d0f64de4</td>\n",
              "      <td>2018-03-05T12:09:16Z</td>\n",
              "    </tr>\n",
              "    <tr>\n",
              "      <th>end_page</th>\n",
              "      <td>100</td>\n",
              "      <td>2018-03-05T12:09:16Z</td>\n",
              "      <td>03ba3f288d8341d380a286a6d0f64de4</td>\n",
              "      <td>2018-03-05T12:09:16Z</td>\n",
              "    </tr>\n",
              "    <tr>\n",
              "      <th>identifier</th>\n",
              "      <td>[{u'type': u'pissn', u'id': u'0370-2693'}, {u'...</td>\n",
              "      <td>2018-03-05T12:09:16Z</td>\n",
              "      <td>03ba3f288d8341d380a286a6d0f64de4</td>\n",
              "      <td>2018-03-05T12:09:16Z</td>\n",
              "    </tr>\n",
              "    <tr>\n",
              "      <th>journal</th>\n",
              "      <td>{u'publisher': u'Elsevier', u'language': [u'EN...</td>\n",
              "      <td>2018-03-05T12:09:16Z</td>\n",
              "      <td>03ba3f288d8341d380a286a6d0f64de4</td>\n",
              "      <td>2018-03-05T12:09:16Z</td>\n",
              "    </tr>\n",
              "    <tr>\n",
              "      <th>link</th>\n",
              "      <td>[{u'url': u'http://www.sciencedirect.com/scien...</td>\n",
              "      <td>2018-03-05T12:09:16Z</td>\n",
              "      <td>03ba3f288d8341d380a286a6d0f64de4</td>\n",
              "      <td>2018-03-05T12:09:16Z</td>\n",
              "    </tr>\n",
              "    <tr>\n",
              "      <th>month</th>\n",
              "      <td>3</td>\n",
              "      <td>2018-03-05T12:09:16Z</td>\n",
              "      <td>03ba3f288d8341d380a286a6d0f64de4</td>\n",
              "      <td>2018-03-05T12:09:16Z</td>\n",
              "    </tr>\n",
              "    <tr>\n",
              "      <th>start_page</th>\n",
              "      <td>94</td>\n",
              "      <td>2018-03-05T12:09:16Z</td>\n",
              "      <td>03ba3f288d8341d380a286a6d0f64de4</td>\n",
              "      <td>2018-03-05T12:09:16Z</td>\n",
              "    </tr>\n",
              "    <tr>\n",
              "      <th>subject</th>\n",
              "      <td>[{u'code': u'QC1-999', u'term': u'Physics', u'...</td>\n",
              "      <td>2018-03-05T12:09:16Z</td>\n",
              "      <td>03ba3f288d8341d380a286a6d0f64de4</td>\n",
              "      <td>2018-03-05T12:09:16Z</td>\n",
              "    </tr>\n",
              "    <tr>\n",
              "      <th>title</th>\n",
              "      <td>Expanding the reach of heavy neutrino searches...</td>\n",
              "      <td>2018-03-05T12:09:16Z</td>\n",
              "      <td>03ba3f288d8341d380a286a6d0f64de4</td>\n",
              "      <td>2018-03-05T12:09:16Z</td>\n",
              "    </tr>\n",
              "    <tr>\n",
              "      <th>year</th>\n",
              "      <td>2018</td>\n",
              "      <td>2018-03-05T12:09:16Z</td>\n",
              "      <td>03ba3f288d8341d380a286a6d0f64de4</td>\n",
              "      <td>2018-03-05T12:09:16Z</td>\n",
              "    </tr>\n",
              "  </tbody>\n",
              "</table>\n",
              "</div>"
            ],
            "text/plain": [
              "                                                      bibjson  \\\n",
              "abstract    The observation of neutrino oscillations estab...   \n",
              "author      [{u'affiliation': u'Physics Department, Univer...   \n",
              "end_page                                                  100   \n",
              "identifier  [{u'type': u'pissn', u'id': u'0370-2693'}, {u'...   \n",
              "journal     {u'publisher': u'Elsevier', u'language': [u'EN...   \n",
              "link        [{u'url': u'http://www.sciencedirect.com/scien...   \n",
              "month                                                       3   \n",
              "start_page                                                 94   \n",
              "subject     [{u'code': u'QC1-999', u'term': u'Physics', u'...   \n",
              "title       Expanding the reach of heavy neutrino searches...   \n",
              "year                                                     2018   \n",
              "\n",
              "                    created_date                                id  \\\n",
              "abstract    2018-03-05T12:09:16Z  03ba3f288d8341d380a286a6d0f64de4   \n",
              "author      2018-03-05T12:09:16Z  03ba3f288d8341d380a286a6d0f64de4   \n",
              "end_page    2018-03-05T12:09:16Z  03ba3f288d8341d380a286a6d0f64de4   \n",
              "identifier  2018-03-05T12:09:16Z  03ba3f288d8341d380a286a6d0f64de4   \n",
              "journal     2018-03-05T12:09:16Z  03ba3f288d8341d380a286a6d0f64de4   \n",
              "link        2018-03-05T12:09:16Z  03ba3f288d8341d380a286a6d0f64de4   \n",
              "month       2018-03-05T12:09:16Z  03ba3f288d8341d380a286a6d0f64de4   \n",
              "start_page  2018-03-05T12:09:16Z  03ba3f288d8341d380a286a6d0f64de4   \n",
              "subject     2018-03-05T12:09:16Z  03ba3f288d8341d380a286a6d0f64de4   \n",
              "title       2018-03-05T12:09:16Z  03ba3f288d8341d380a286a6d0f64de4   \n",
              "year        2018-03-05T12:09:16Z  03ba3f288d8341d380a286a6d0f64de4   \n",
              "\n",
              "                    last_updated  \n",
              "abstract    2018-03-05T12:09:16Z  \n",
              "author      2018-03-05T12:09:16Z  \n",
              "end_page    2018-03-05T12:09:16Z  \n",
              "identifier  2018-03-05T12:09:16Z  \n",
              "journal     2018-03-05T12:09:16Z  \n",
              "link        2018-03-05T12:09:16Z  \n",
              "month       2018-03-05T12:09:16Z  \n",
              "start_page  2018-03-05T12:09:16Z  \n",
              "subject     2018-03-05T12:09:16Z  \n",
              "title       2018-03-05T12:09:16Z  \n",
              "year        2018-03-05T12:09:16Z  "
            ]
          },
          "metadata": {
            "tags": []
          },
          "execution_count": 12
        }
      ]
    },
    {
      "metadata": {
        "id": "Rfb-0_JTN8bA",
        "colab_type": "text"
      },
      "cell_type": "markdown",
      "source": [
        "Desplegar cada una de las celdas anidadas de la columna __bibjson__"
      ]
    },
    {
      "metadata": {
        "id": "UI2UlUNBK5hJ",
        "colab_type": "code",
        "outputId": "0e945534-18d0-478e-e6ba-ffeafbc1aa07",
        "colab": {
          "base_uri": "https://localhost:8080/",
          "height": 202
        }
      },
      "cell_type": "code",
      "source": [
        "pd.DataFrame(  p.loc['author','bibjson'] )"
      ],
      "execution_count": 0,
      "outputs": [
        {
          "output_type": "execute_result",
          "data": {
            "text/html": [
              "<div>\n",
              "<style scoped>\n",
              "    .dataframe tbody tr th:only-of-type {\n",
              "        vertical-align: middle;\n",
              "    }\n",
              "\n",
              "    .dataframe tbody tr th {\n",
              "        vertical-align: top;\n",
              "    }\n",
              "\n",
              "    .dataframe thead th {\n",
              "        text-align: right;\n",
              "    }\n",
              "</style>\n",
              "<table border=\"1\" class=\"dataframe\">\n",
              "  <thead>\n",
              "    <tr style=\"text-align: right;\">\n",
              "      <th></th>\n",
              "      <th>affiliation</th>\n",
              "      <th>name</th>\n",
              "    </tr>\n",
              "  </thead>\n",
              "  <tbody>\n",
              "    <tr>\n",
              "      <th>0</th>\n",
              "      <td>Physics Department, Universidad de los Andes, ...</td>\n",
              "      <td>Andrés Flórez</td>\n",
              "    </tr>\n",
              "    <tr>\n",
              "      <th>1</th>\n",
              "      <td>Department of Physics and Astronomy, Vanderbil...</td>\n",
              "      <td>Kaiwen Gui</td>\n",
              "    </tr>\n",
              "    <tr>\n",
              "      <th>2</th>\n",
              "      <td>Department of Physics and Astronomy, Vanderbil...</td>\n",
              "      <td>Alfredo Gurrola</td>\n",
              "    </tr>\n",
              "    <tr>\n",
              "      <th>3</th>\n",
              "      <td>Physics Department, Universidad de los Andes, ...</td>\n",
              "      <td>Carlos Patiño</td>\n",
              "    </tr>\n",
              "    <tr>\n",
              "      <th>4</th>\n",
              "      <td>Department of Physics, Universidad de Antioqui...</td>\n",
              "      <td>Diego Restrepo</td>\n",
              "    </tr>\n",
              "  </tbody>\n",
              "</table>\n",
              "</div>"
            ],
            "text/plain": [
              "                                         affiliation             name\n",
              "0  Physics Department, Universidad de los Andes, ...    Andrés Flórez\n",
              "1  Department of Physics and Astronomy, Vanderbil...       Kaiwen Gui\n",
              "2  Department of Physics and Astronomy, Vanderbil...  Alfredo Gurrola\n",
              "3  Physics Department, Universidad de los Andes, ...    Carlos Patiño\n",
              "4  Department of Physics, Universidad de Antioqui...   Diego Restrepo"
            ]
          },
          "metadata": {
            "tags": []
          },
          "execution_count": 18
        }
      ]
    },
    {
      "metadata": {
        "id": "JgUvVeR5KNNN",
        "colab_type": "code",
        "outputId": "b7c37bfd-cb6e-4da9-a9b1-607b0f71dd6f",
        "colab": {
          "base_uri": "https://localhost:8080/",
          "height": 141
        }
      },
      "cell_type": "code",
      "source": [
        "pd.DataFrame(  p.loc['identifier','bibjson'] )"
      ],
      "execution_count": 0,
      "outputs": [
        {
          "output_type": "execute_result",
          "data": {
            "text/html": [
              "<div>\n",
              "<style scoped>\n",
              "    .dataframe tbody tr th:only-of-type {\n",
              "        vertical-align: middle;\n",
              "    }\n",
              "\n",
              "    .dataframe tbody tr th {\n",
              "        vertical-align: top;\n",
              "    }\n",
              "\n",
              "    .dataframe thead th {\n",
              "        text-align: right;\n",
              "    }\n",
              "</style>\n",
              "<table border=\"1\" class=\"dataframe\">\n",
              "  <thead>\n",
              "    <tr style=\"text-align: right;\">\n",
              "      <th></th>\n",
              "      <th>id</th>\n",
              "      <th>type</th>\n",
              "    </tr>\n",
              "  </thead>\n",
              "  <tbody>\n",
              "    <tr>\n",
              "      <th>0</th>\n",
              "      <td>0370-2693</td>\n",
              "      <td>pissn</td>\n",
              "    </tr>\n",
              "    <tr>\n",
              "      <th>1</th>\n",
              "      <td>1873-2445</td>\n",
              "      <td>eissn</td>\n",
              "    </tr>\n",
              "    <tr>\n",
              "      <th>2</th>\n",
              "      <td>10.1016/j.physletb.2018.01.009</td>\n",
              "      <td>doi</td>\n",
              "    </tr>\n",
              "  </tbody>\n",
              "</table>\n",
              "</div>"
            ],
            "text/plain": [
              "                               id   type\n",
              "0                       0370-2693  pissn\n",
              "1                       1873-2445  eissn\n",
              "2  10.1016/j.physletb.2018.01.009    doi"
            ]
          },
          "metadata": {
            "tags": []
          },
          "execution_count": 19
        }
      ]
    },
    {
      "metadata": {
        "id": "EVHZfHm_Li8m",
        "colab_type": "code",
        "outputId": "7c3b511b-ef55-41de-b01b-9d3499472627",
        "colab": {
          "base_uri": "https://localhost:8080/",
          "height": 79
        }
      },
      "cell_type": "code",
      "source": [
        " pd.DataFrame( [p.loc['journal','bibjson'] ] )\n"
      ],
      "execution_count": 0,
      "outputs": [
        {
          "output_type": "execute_result",
          "data": {
            "text/html": [
              "<div>\n",
              "<style scoped>\n",
              "    .dataframe tbody tr th:only-of-type {\n",
              "        vertical-align: middle;\n",
              "    }\n",
              "\n",
              "    .dataframe tbody tr th {\n",
              "        vertical-align: top;\n",
              "    }\n",
              "\n",
              "    .dataframe thead th {\n",
              "        text-align: right;\n",
              "    }\n",
              "</style>\n",
              "<table border=\"1\" class=\"dataframe\">\n",
              "  <thead>\n",
              "    <tr style=\"text-align: right;\">\n",
              "      <th></th>\n",
              "      <th>country</th>\n",
              "      <th>issns</th>\n",
              "      <th>language</th>\n",
              "      <th>license</th>\n",
              "      <th>number</th>\n",
              "      <th>publisher</th>\n",
              "      <th>title</th>\n",
              "      <th>volume</th>\n",
              "    </tr>\n",
              "  </thead>\n",
              "  <tbody>\n",
              "    <tr>\n",
              "      <th>0</th>\n",
              "      <td>NL</td>\n",
              "      <td>[0370-2693, 1873-2445]</td>\n",
              "      <td>[EN]</td>\n",
              "      <td>[{u'url': u'http://www.elsevier.com/journals/p...</td>\n",
              "      <td>C</td>\n",
              "      <td>Elsevier</td>\n",
              "      <td>Physics Letters B</td>\n",
              "      <td>778</td>\n",
              "    </tr>\n",
              "  </tbody>\n",
              "</table>\n",
              "</div>"
            ],
            "text/plain": [
              "  country                   issns language  \\\n",
              "0      NL  [0370-2693, 1873-2445]     [EN]   \n",
              "\n",
              "                                             license number publisher  \\\n",
              "0  [{u'url': u'http://www.elsevier.com/journals/p...      C  Elsevier   \n",
              "\n",
              "               title volume  \n",
              "0  Physics Letters B    778  "
            ]
          },
          "metadata": {
            "tags": []
          },
          "execution_count": 24
        }
      ]
    },
    {
      "metadata": {
        "id": "tGvelHhSLq3B",
        "colab_type": "code",
        "outputId": "90d2232e-1140-4089-a285-2a3f274f7d87",
        "colab": {
          "base_uri": "https://localhost:8080/",
          "height": 79
        }
      },
      "cell_type": "code",
      "source": [
        "pd.DataFrame( p.loc['journal','bibjson']['license'] )"
      ],
      "execution_count": 0,
      "outputs": [
        {
          "output_type": "execute_result",
          "data": {
            "text/html": [
              "<div>\n",
              "<style scoped>\n",
              "    .dataframe tbody tr th:only-of-type {\n",
              "        vertical-align: middle;\n",
              "    }\n",
              "\n",
              "    .dataframe tbody tr th {\n",
              "        vertical-align: top;\n",
              "    }\n",
              "\n",
              "    .dataframe thead th {\n",
              "        text-align: right;\n",
              "    }\n",
              "</style>\n",
              "<table border=\"1\" class=\"dataframe\">\n",
              "  <thead>\n",
              "    <tr style=\"text-align: right;\">\n",
              "      <th></th>\n",
              "      <th>open_access</th>\n",
              "      <th>title</th>\n",
              "      <th>type</th>\n",
              "      <th>url</th>\n",
              "    </tr>\n",
              "  </thead>\n",
              "  <tbody>\n",
              "    <tr>\n",
              "      <th>0</th>\n",
              "      <td>True</td>\n",
              "      <td>CC BY</td>\n",
              "      <td>CC BY</td>\n",
              "      <td>http://www.elsevier.com/journals/physics-lette...</td>\n",
              "    </tr>\n",
              "  </tbody>\n",
              "</table>\n",
              "</div>"
            ],
            "text/plain": [
              "   open_access  title   type  \\\n",
              "0         True  CC BY  CC BY   \n",
              "\n",
              "                                                 url  \n",
              "0  http://www.elsevier.com/journals/physics-lette...  "
            ]
          },
          "metadata": {
            "tags": []
          },
          "execution_count": 25
        }
      ]
    },
    {
      "metadata": {
        "id": "KDV-pw1GMDTI",
        "colab_type": "code",
        "outputId": "df95adb1-d22f-4320-dd44-7ee3fb7f2c52",
        "colab": {
          "base_uri": "https://localhost:8080/",
          "height": 79
        }
      },
      "cell_type": "code",
      "source": [
        "pd.DataFrame(  p.loc['link','bibjson']  )"
      ],
      "execution_count": 0,
      "outputs": [
        {
          "output_type": "execute_result",
          "data": {
            "text/html": [
              "<div>\n",
              "<style scoped>\n",
              "    .dataframe tbody tr th:only-of-type {\n",
              "        vertical-align: middle;\n",
              "    }\n",
              "\n",
              "    .dataframe tbody tr th {\n",
              "        vertical-align: top;\n",
              "    }\n",
              "\n",
              "    .dataframe thead th {\n",
              "        text-align: right;\n",
              "    }\n",
              "</style>\n",
              "<table border=\"1\" class=\"dataframe\">\n",
              "  <thead>\n",
              "    <tr style=\"text-align: right;\">\n",
              "      <th></th>\n",
              "      <th>type</th>\n",
              "      <th>url</th>\n",
              "    </tr>\n",
              "  </thead>\n",
              "  <tbody>\n",
              "    <tr>\n",
              "      <th>0</th>\n",
              "      <td>fulltext</td>\n",
              "      <td>http://www.sciencedirect.com/science/article/p...</td>\n",
              "    </tr>\n",
              "  </tbody>\n",
              "</table>\n",
              "</div>"
            ],
            "text/plain": [
              "       type                                                url\n",
              "0  fulltext  http://www.sciencedirect.com/science/article/p..."
            ]
          },
          "metadata": {
            "tags": []
          },
          "execution_count": 28
        }
      ]
    },
    {
      "metadata": {
        "id": "NHez240DMkPM",
        "colab_type": "code",
        "colab": {}
      },
      "cell_type": "code",
      "source": [
        ""
      ],
      "execution_count": 0,
      "outputs": []
    }
  ]
}