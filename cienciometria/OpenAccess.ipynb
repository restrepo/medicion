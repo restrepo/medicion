{
  "nbformat": 4,
  "nbformat_minor": 0,
  "metadata": {
    "colab": {
      "name": "OpenAccess.ipynb",
      "version": "0.3.2",
      "provenance": [],
      "collapsed_sections": [],
      "toc_visible": true,
      "include_colab_link": true
    },
    "kernelspec": {
      "name": "python3",
      "display_name": "Python 3"
    }
  },
  "cells": [
    {
      "cell_type": "markdown",
      "metadata": {
        "id": "view-in-github",
        "colab_type": "text"
      },
      "source": [
        "[![Open In Colab](https://colab.research.google.com/assets/colab-badge.svg)](https://colab.research.google.com/github/restrepo/medicion/blob/master/cienciometria/OpenAccess.ipynb)"
      ]
    },
    {
      "metadata": {
        "id": "uu-sf4Ukvbb-",
        "colab_type": "text"
      },
      "cell_type": "markdown",
      "source": [
        "# Open Acces Analysis\n",
        "Based in http://oadoi.org full DataBase"
      ]
    },
    {
      "metadata": {
        "id": "8-bNxmzTvjp4",
        "colab_type": "text"
      },
      "cell_type": "markdown",
      "source": [
        "## Load UDEA_DOIS"
      ]
    },
    {
      "metadata": {
        "id": "kHZ5Lw4Bvsvm",
        "colab_type": "code",
        "colab": {}
      },
      "cell_type": "code",
      "source": [
        "!pip install wosplus openpyxl > /dev/null"
      ],
      "execution_count": 0,
      "outputs": []
    },
    {
      "metadata": {
        "id": "myuigGH2v62c",
        "colab_type": "code",
        "colab": {
          "base_uri": "https://localhost:8080/",
          "height": 34
        },
        "outputId": "e584dd5d-576d-4953-91d7-bd626e895dad"
      },
      "cell_type": "code",
      "source": [
        "%%writefile drive.cfg\n",
        "[FILES]\n",
        "DOIS.xlsx   = 1bikNT7Gmp4G7dfeMuGsF-az7D8lskK0O\n",
        "UDEA_WOS_SCI_SCP.xlsx   = 1o9otmklgh-0w18Avv2ZTKOXr3vZbjwvj"
      ],
      "execution_count": 118,
      "outputs": [
        {
          "output_type": "stream",
          "text": [
            "Writing drive.cfg\n"
          ],
          "name": "stdout"
        }
      ]
    },
    {
      "metadata": {
        "id": "MPUuyG2twGki",
        "colab_type": "code",
        "colab": {}
      },
      "cell_type": "code",
      "source": [
        "import wosplus as wp\n",
        "import numpy as np\n",
        "import pandas as pd\n",
        "import os"
      ],
      "execution_count": 0,
      "outputs": []
    },
    {
      "metadata": {
        "id": "ZplUcp4P2qPM",
        "colab_type": "code",
        "colab": {}
      },
      "cell_type": "code",
      "source": [
        "files=wp.wosplus('drive.cfg')"
      ],
      "execution_count": 0,
      "outputs": []
    },
    {
      "metadata": {
        "id": "So_zs_8v26NX",
        "colab_type": "code",
        "colab": {}
      },
      "cell_type": "code",
      "source": [
        "dois=files.read_drive_excel('DOIS.xlsx')"
      ],
      "execution_count": 0,
      "outputs": []
    },
    {
      "metadata": {
        "id": "GUf2D_x-ev44",
        "colab_type": "text"
      },
      "cell_type": "markdown",
      "source": [
        "## Normalize DOIS"
      ]
    },
    {
      "metadata": {
        "id": "YHm8pevF6OD5",
        "colab_type": "code",
        "colab": {}
      },
      "cell_type": "code",
      "source": [
        "dois['DI']=dois['DI'].str.lower()"
      ],
      "execution_count": 0,
      "outputs": []
    },
    {
      "metadata": {
        "id": "28mCqwc0e0MH",
        "colab_type": "text"
      },
      "cell_type": "markdown",
      "source": [
        "## Load oadoi.org data"
      ]
    },
    {
      "metadata": {
        "id": "AG5ZII1A2-al",
        "colab_type": "code",
        "colab": {
          "base_uri": "https://localhost:8080/",
          "height": 122
        },
        "outputId": "7c9317ff-1e52-46b0-96c3-d5484c70885c"
      },
      "cell_type": "code",
      "source": [
        "# Load the Drive helper and mount\n",
        "from google.colab import drive\n",
        "\n",
        "# This will prompt for authorization.\n",
        "drive.mount('/content/drive')"
      ],
      "execution_count": 13,
      "outputs": [
        {
          "output_type": "stream",
          "text": [
            "Go to this URL in a browser: https://accounts.google.com/o/oauth2/auth?client_id=947318989803-6bn6qk8qdgf4n4g3pfee6491hc0brc4i.apps.googleusercontent.com&redirect_uri=urn%3Aietf%3Awg%3Aoauth%3A2.0%3Aoob&scope=email%20https%3A%2F%2Fwww.googleapis.com%2Fauth%2Fdocs.test%20https%3A%2F%2Fwww.googleapis.com%2Fauth%2Fdrive%20https%3A%2F%2Fwww.googleapis.com%2Fauth%2Fdrive.photos.readonly%20https%3A%2F%2Fwww.googleapis.com%2Fauth%2Fpeopleapi.readonly&response_type=code\n",
            "\n",
            "Enter your authorization code:\n",
            "··········\n",
            "Mounted at /content/drive\n"
          ],
          "name": "stdout"
        }
      ]
    },
    {
      "metadata": {
        "id": "5zD1C7vC5Uf8",
        "colab_type": "code",
        "colab": {}
      },
      "cell_type": "code",
      "source": [
        "WORK_DIR=\"drive/My Drive/Colab Notebooks/Data\"\n",
        "os.chdir(WORK_DIR)"
      ],
      "execution_count": 0,
      "outputs": []
    },
    {
      "metadata": {
        "id": "iel6BWO3Bpev",
        "colab_type": "code",
        "colab": {}
      },
      "cell_type": "code",
      "source": [
        "oa=pd.read_csv('oadoi.csv')"
      ],
      "execution_count": 0,
      "outputs": []
    },
    {
      "metadata": {
        "id": "I9in8WruCvzn",
        "colab_type": "code",
        "colab": {}
      },
      "cell_type": "code",
      "source": [
        "oa['DOI']=oa['DOI'].str.lower()"
      ],
      "execution_count": 0,
      "outputs": []
    },
    {
      "metadata": {
        "id": "w9mHNzmKe5jH",
        "colab_type": "text"
      },
      "cell_type": "markdown",
      "source": [
        "## Merge"
      ]
    },
    {
      "metadata": {
        "id": "h31zIic3CN4-",
        "colab_type": "code",
        "colab": {}
      },
      "cell_type": "code",
      "source": [
        "oafdois=dois.merge(oa,left_on='DI',right_on='DOI',how='left')"
      ],
      "execution_count": 0,
      "outputs": []
    },
    {
      "metadata": {
        "id": "XLF3Xfn-Cb0L",
        "colab_type": "code",
        "colab": {}
      },
      "cell_type": "code",
      "source": [
        "oafdois=oafdois.fillna('')"
      ],
      "execution_count": 0,
      "outputs": []
    },
    {
      "metadata": {
        "id": "s019bNDOCitu",
        "colab_type": "code",
        "colab": {
          "base_uri": "https://localhost:8080/",
          "height": 34
        },
        "outputId": "8a332438-3a98-4d4d-c702-45a1c9a05a64"
      },
      "cell_type": "code",
      "source": [
        "oafdois[oafdois.DOI!=''].shape"
      ],
      "execution_count": 95,
      "outputs": [
        {
          "output_type": "execute_result",
          "data": {
            "text/plain": [
              "(3491, 2)"
            ]
          },
          "metadata": {
            "tags": []
          },
          "execution_count": 95
        }
      ]
    },
    {
      "metadata": {
        "id": "vOFg9jtODMOK",
        "colab_type": "code",
        "colab": {}
      },
      "cell_type": "code",
      "source": [
        "oafdois=oafdois.rename({'DOI':'Open_Access'}, axis = 'columns')"
      ],
      "execution_count": 0,
      "outputs": []
    },
    {
      "metadata": {
        "id": "FUBNWHPUDi99",
        "colab_type": "code",
        "colab": {}
      },
      "cell_type": "code",
      "source": [
        "yellow=pd.read_csv('oayellowdois.csv')\n",
        "yellow['DOI']=yellow['DOI'].str.lower()"
      ],
      "execution_count": 0,
      "outputs": []
    },
    {
      "metadata": {
        "id": "BnXC-5Ki5sdi",
        "colab_type": "code",
        "colab": {}
      },
      "cell_type": "code",
      "source": [
        "oayellowdois=oafdois.merge(yellow,left_on='DI',right_on='DOI',how='left')\n",
        "oayellowdois=oayellowdois.fillna('')\n",
        "oayellowdois[oayellowdois.DOI!=''].shape\n",
        "oayellowdois=oayellowdois.rename({'DOI':'OA_Yellow'}, axis = 'columns')"
      ],
      "execution_count": 0,
      "outputs": []
    },
    {
      "metadata": {
        "id": "35hwc_31D2kC",
        "colab_type": "code",
        "colab": {
          "base_uri": "https://localhost:8080/",
          "height": 34
        },
        "outputId": "158bb88f-2c92-4c89-9843-46dcef2c06b4"
      },
      "cell_type": "code",
      "source": [
        "oayellowdois[oayellowdois['OA_Yellow']!=''].shape"
      ],
      "execution_count": 98,
      "outputs": [
        {
          "output_type": "execute_result",
          "data": {
            "text/plain": [
              "(1505, 3)"
            ]
          },
          "metadata": {
            "tags": []
          },
          "execution_count": 98
        }
      ]
    },
    {
      "metadata": {
        "id": "zsC7rBxB88E4",
        "colab_type": "code",
        "colab": {}
      },
      "cell_type": "code",
      "source": [
        "green=pd.read_csv('oagreendois.csv')\n",
        "green['DOI']=green['DOI'].str.lower()"
      ],
      "execution_count": 0,
      "outputs": []
    },
    {
      "metadata": {
        "id": "2DQDehyS-BxP",
        "colab_type": "code",
        "colab": {}
      },
      "cell_type": "code",
      "source": [
        "oaygdois=oayellowdois.merge(green,left_on='DI',right_on='DOI',how='left')\n",
        "oaygdois=oaygdois.fillna('')\n",
        "oaygdois=oaygdois.rename({'DOI':'OA_Green'}, axis = 'columns')"
      ],
      "execution_count": 0,
      "outputs": []
    },
    {
      "metadata": {
        "id": "nHoK3iNI-UND",
        "colab_type": "code",
        "colab": {
          "base_uri": "https://localhost:8080/",
          "height": 34
        },
        "outputId": "bb86eb65-760b-4eb0-bbfe-2c620852fc51"
      },
      "cell_type": "code",
      "source": [
        "oaygdois[oaygdois['OA_Green']!=''].shape"
      ],
      "execution_count": 104,
      "outputs": [
        {
          "output_type": "execute_result",
          "data": {
            "text/plain": [
              "(1726, 4)"
            ]
          },
          "metadata": {
            "tags": []
          },
          "execution_count": 104
        }
      ]
    },
    {
      "metadata": {
        "id": "mJIpwcZvA07A",
        "colab_type": "code",
        "colab": {}
      },
      "cell_type": "code",
      "source": [
        ""
      ],
      "execution_count": 0,
      "outputs": []
    },
    {
      "metadata": {
        "id": "JB6UH1gUAVwy",
        "colab_type": "code",
        "colab": {
          "base_uri": "https://localhost:8080/",
          "height": 34
        },
        "outputId": "a9603853-3097-4073-ba88-b01ff1e43e7a"
      },
      "cell_type": "code",
      "source": [
        "oaygdois[np.logical_or(oaygdois.OA_Yellow!='' ,oaygdois.OA_Green!='')].shape"
      ],
      "execution_count": 101,
      "outputs": [
        {
          "output_type": "execute_result",
          "data": {
            "text/plain": [
              "(3231, 4)"
            ]
          },
          "metadata": {
            "tags": []
          },
          "execution_count": 101
        }
      ]
    },
    {
      "metadata": {
        "id": "12BzMRbLAOPA",
        "colab_type": "code",
        "colab": {}
      },
      "cell_type": "code",
      "source": [
        "greenarticle=pd.read_csv('oagreenarticledois.csv')"
      ],
      "execution_count": 0,
      "outputs": []
    },
    {
      "metadata": {
        "id": "igoJcM80E8mO",
        "colab_type": "code",
        "colab": {}
      },
      "cell_type": "code",
      "source": [
        "oadois=oaygdois.merge(greenarticle,left_on='DI',right_on='DOI',how='left')\n",
        "oadois=oadois.fillna('')\n",
        "oadois=oadois.rename({'DOI':'OA_Green_Article'}, axis = 'columns')"
      ],
      "execution_count": 0,
      "outputs": []
    },
    {
      "metadata": {
        "id": "LR9Fu3sbFWMN",
        "colab_type": "code",
        "colab": {
          "base_uri": "https://localhost:8080/",
          "height": 34
        },
        "outputId": "74223b53-4a2f-48eb-808e-53dd5b0b0d71"
      },
      "cell_type": "code",
      "source": [
        "oadois[oadois['OA_Green_Article']!=''].shape"
      ],
      "execution_count": 109,
      "outputs": [
        {
          "output_type": "execute_result",
          "data": {
            "text/plain": [
              "(260, 5)"
            ]
          },
          "metadata": {
            "tags": []
          },
          "execution_count": 109
        }
      ]
    },
    {
      "metadata": {
        "id": "io6qVlcWGADj",
        "colab_type": "code",
        "colab": {
          "base_uri": "https://localhost:8080/",
          "height": 34
        },
        "outputId": "8cd11c59-4980-440a-87e6-35455196d6ad"
      },
      "cell_type": "code",
      "source": [
        "oadois[np.logical_or( np.logical_or(oadois.OA_Yellow!='' ,oadois.OA_Green!=''),oadois.OA_Green_Article!='')].shape"
      ],
      "execution_count": 112,
      "outputs": [
        {
          "output_type": "execute_result",
          "data": {
            "text/plain": [
              "(3491, 5)"
            ]
          },
          "metadata": {
            "tags": []
          },
          "execution_count": 112
        }
      ]
    },
    {
      "metadata": {
        "id": "jDmSjQ-FFsoE",
        "colab_type": "code",
        "colab": {}
      },
      "cell_type": "code",
      "source": [
        "oadois.to_excel('oaudea.xlsx',index=False)"
      ],
      "execution_count": 0,
      "outputs": []
    },
    {
      "metadata": {
        "id": "ktWzL_J3HfqB",
        "colab_type": "code",
        "colab": {
          "base_uri": "https://localhost:8080/",
          "height": 34
        },
        "outputId": "74a16c5a-5639-4e34-ca9c-0767e8752ff7"
      },
      "cell_type": "code",
      "source": [
        "260+1726+1505"
      ],
      "execution_count": 116,
      "outputs": [
        {
          "output_type": "execute_result",
          "data": {
            "text/plain": [
              "3491"
            ]
          },
          "metadata": {
            "tags": []
          },
          "execution_count": 116
        }
      ]
    },
    {
      "metadata": {
        "id": "oeSQvGxWIo_g",
        "colab_type": "code",
        "colab": {
          "base_uri": "https://localhost:8080/",
          "height": 34
        },
        "outputId": "d4410151-8e98-44f4-b700-ac549781a4dd"
      },
      "cell_type": "code",
      "source": [
        "260+1726"
      ],
      "execution_count": 117,
      "outputs": [
        {
          "output_type": "execute_result",
          "data": {
            "text/plain": [
              "1986"
            ]
          },
          "metadata": {
            "tags": []
          },
          "execution_count": 117
        }
      ]
    },
    {
      "metadata": {
        "id": "_wzK_NSHXw3y",
        "colab_type": "code",
        "colab": {
          "base_uri": "https://localhost:8080/",
          "height": 80
        },
        "outputId": "a2bf4b35-475a-4a7d-94a1-df1fb0d235a4"
      },
      "cell_type": "code",
      "source": [
        "oadois[:1]"
      ],
      "execution_count": 132,
      "outputs": [
        {
          "output_type": "execute_result",
          "data": {
            "text/html": [
              "<div>\n",
              "<style scoped>\n",
              "    .dataframe tbody tr th:only-of-type {\n",
              "        vertical-align: middle;\n",
              "    }\n",
              "\n",
              "    .dataframe tbody tr th {\n",
              "        vertical-align: top;\n",
              "    }\n",
              "\n",
              "    .dataframe thead th {\n",
              "        text-align: right;\n",
              "    }\n",
              "</style>\n",
              "<table border=\"1\" class=\"dataframe\">\n",
              "  <thead>\n",
              "    <tr style=\"text-align: right;\">\n",
              "      <th></th>\n",
              "      <th>DI</th>\n",
              "      <th>Open_Access</th>\n",
              "      <th>OA_Yellow</th>\n",
              "      <th>OA_Green</th>\n",
              "      <th>OA_Green_Article</th>\n",
              "    </tr>\n",
              "  </thead>\n",
              "  <tbody>\n",
              "    <tr>\n",
              "      <th>0</th>\n",
              "      <td>10.7705/biomedica.v37i3.4058</td>\n",
              "      <td>10.7705/biomedica.v37i3.4058</td>\n",
              "      <td>10.7705/biomedica.v37i3.4058</td>\n",
              "      <td></td>\n",
              "      <td></td>\n",
              "    </tr>\n",
              "  </tbody>\n",
              "</table>\n",
              "</div>"
            ],
            "text/plain": [
              "                             DI                   Open_Access  \\\n",
              "0  10.7705/biomedica.v37i3.4058  10.7705/biomedica.v37i3.4058   \n",
              "\n",
              "                      OA_Yellow OA_Green OA_Green_Article  \n",
              "0  10.7705/biomedica.v37i3.4058                            "
            ]
          },
          "metadata": {
            "tags": []
          },
          "execution_count": 132
        }
      ]
    },
    {
      "metadata": {
        "id": "OZHIrCcoX8Hp",
        "colab_type": "code",
        "colab": {
          "base_uri": "https://localhost:8080/",
          "height": 34
        },
        "outputId": "1738561e-a981-44fa-88c4-a44a4b49c2e9"
      },
      "cell_type": "code",
      "source": [
        "oadois.shape"
      ],
      "execution_count": 133,
      "outputs": [
        {
          "output_type": "execute_result",
          "data": {
            "text/plain": [
              "(7993, 5)"
            ]
          },
          "metadata": {
            "tags": []
          },
          "execution_count": 133
        }
      ]
    },
    {
      "metadata": {
        "id": "9OkXeLPRWHxR",
        "colab_type": "text"
      },
      "cell_type": "markdown",
      "source": [
        "## Check with SCP"
      ]
    },
    {
      "metadata": {
        "id": "zZvi0b24WKeY",
        "colab_type": "code",
        "colab": {}
      },
      "cell_type": "code",
      "source": [
        "udea=files.read_drive_excel('UDEA_WOS_SCI_SCP.xlsx')\n",
        "udea=wp.fill_NaN(udea)"
      ],
      "execution_count": 0,
      "outputs": []
    },
    {
      "metadata": {
        "id": "veMZCDkFehHN",
        "colab_type": "code",
        "colab": {}
      },
      "cell_type": "code",
      "source": [
        "udea['DI']=udea['DI'].str.lower()"
      ],
      "execution_count": 0,
      "outputs": []
    },
    {
      "metadata": {
        "id": "urYzhHe1WlTa",
        "colab_type": "code",
        "colab": {}
      },
      "cell_type": "code",
      "source": [
        "oascp=udea[udea['SCP_Access Type']=='Open Access'].reset_index(drop=True)"
      ],
      "execution_count": 0,
      "outputs": []
    },
    {
      "metadata": {
        "id": "_dSyA1hwXKB4",
        "colab_type": "code",
        "colab": {
          "base_uri": "https://localhost:8080/",
          "height": 374
        },
        "outputId": "cea15ca6-1934-4f93-810b-dc3e96580873"
      },
      "cell_type": "code",
      "source": [
        "oascp[oascp['DI']==''].SO"
      ],
      "execution_count": 129,
      "outputs": [
        {
          "output_type": "execute_result",
          "data": {
            "text/plain": [
              "10699    REVISTA BRASILEIRA DE FARMACOGNOSIA-BRAZILIAN ...\n",
              "10714             BRAZILIAN JOURNAL OF INFECTIOUS DISEASES\n",
              "10764                     Revista de la educación superior\n",
              "10781                                     Gaceta Sanitaria\n",
              "11124                                    ATENCION PRIMARIA\n",
              "11301                 Revista Colombiana de Anestesiología\n",
              "11302                 Revista Colombiana de Anestesiología\n",
              "11303                 Revista Colombiana de Anestesiología\n",
              "11737                 Revista Colombiana de Anestesiología\n",
              "11741                 Revista Colombiana de Anestesiología\n",
              "11843                      Revista argentina de radiología\n",
              "11855           Corpoica Ciencia y Tecnología Agropecuaria\n",
              "11917                    Revista Colombiana de Cardiología\n",
              "12456           Corpoica Ciencia y Tecnología Agropecuaria\n",
              "12457           Corpoica Ciencia y Tecnología Agropecuaria\n",
              "12479                     Revista de la educación superior\n",
              "12519                                             Infectio\n",
              "12543                    Revista Colombiana de Cardiología\n",
              "12569                                             Infectio\n",
              "13079                                 Agronomía Colombiana\n",
              "Name: SO, dtype: object"
            ]
          },
          "metadata": {
            "tags": []
          },
          "execution_count": 129
        }
      ]
    },
    {
      "metadata": {
        "id": "NN0ai-5pZvMG",
        "colab_type": "text"
      },
      "cell_type": "markdown",
      "source": [
        "## Quality check:  Expecto 0"
      ]
    },
    {
      "metadata": {
        "id": "UHLcXTHmXdRJ",
        "colab_type": "code",
        "colab": {}
      },
      "cell_type": "code",
      "source": [
        "kk=oascp[oascp['OA_SCP']!=''][['OA_SCP']].merge(oadois,left_on='OA_SCP',right_on='Open_Access',how='left')"
      ],
      "execution_count": 0,
      "outputs": []
    },
    {
      "metadata": {
        "id": "0lxEBJ90ZovB",
        "colab_type": "code",
        "colab": {
          "base_uri": "https://localhost:8080/",
          "height": 34
        },
        "outputId": "d0dbff4d-3482-442a-cef8-a3dbbbf273fc"
      },
      "cell_type": "code",
      "source": [
        "kk[kk['Open_Access']==''].shape"
      ],
      "execution_count": 151,
      "outputs": [
        {
          "output_type": "execute_result",
          "data": {
            "text/plain": [
              "(0, 6)"
            ]
          },
          "metadata": {
            "tags": []
          },
          "execution_count": 151
        }
      ]
    },
    {
      "metadata": {
        "id": "_3l6qgmtW-vr",
        "colab_type": "text"
      },
      "cell_type": "markdown",
      "source": [
        "## APC"
      ]
    },
    {
      "metadata": {
        "id": "vfqFb1Y2dbbK",
        "colab_type": "code",
        "colab": {
          "base_uri": "https://localhost:8080/",
          "height": 80
        },
        "outputId": "8448bc1b-0d09-4de3-bce8-6c9704f3d8e8"
      },
      "cell_type": "code",
      "source": [
        "udea[ udea['DI'].str.lower().str.contains('10.1103/physrevd.96.115035') ][['DI','SN','SCI_SN','SCP_ISSN','ISSN']]"
      ],
      "execution_count": 198,
      "outputs": [
        {
          "output_type": "execute_result",
          "data": {
            "text/html": [
              "<div>\n",
              "<style scoped>\n",
              "    .dataframe tbody tr th:only-of-type {\n",
              "        vertical-align: middle;\n",
              "    }\n",
              "\n",
              "    .dataframe tbody tr th {\n",
              "        vertical-align: top;\n",
              "    }\n",
              "\n",
              "    .dataframe thead th {\n",
              "        text-align: right;\n",
              "    }\n",
              "</style>\n",
              "<table border=\"1\" class=\"dataframe\">\n",
              "  <thead>\n",
              "    <tr style=\"text-align: right;\">\n",
              "      <th></th>\n",
              "      <th>DI</th>\n",
              "      <th>SN</th>\n",
              "      <th>SCI_SN</th>\n",
              "      <th>SCP_ISSN</th>\n",
              "      <th>ISSN</th>\n",
              "    </tr>\n",
              "  </thead>\n",
              "  <tbody>\n",
              "    <tr>\n",
              "      <th>3852</th>\n",
              "      <td>10.1103/physrevd.96.115035</td>\n",
              "      <td>2470-0010\\n</td>\n",
              "      <td></td>\n",
              "      <td></td>\n",
              "      <td>2470-0010</td>\n",
              "    </tr>\n",
              "  </tbody>\n",
              "</table>\n",
              "</div>"
            ],
            "text/plain": [
              "                              DI           SN SCI_SN SCP_ISSN       ISSN\n",
              "3852  10.1103/physrevd.96.115035  2470-0010\\n                  2470-0010"
            ]
          },
          "metadata": {
            "tags": []
          },
          "execution_count": 198
        }
      ]
    },
    {
      "metadata": {
        "id": "OUArcIuVaIdG",
        "colab_type": "code",
        "colab": {
          "base_uri": "https://localhost:8080/",
          "height": 51
        },
        "outputId": "b4796fcd-4c74-43cf-9e82-1157fde669e1"
      },
      "cell_type": "code",
      "source": [
        "udea['SN'][:1]"
      ],
      "execution_count": 199,
      "outputs": [
        {
          "output_type": "execute_result",
          "data": {
            "text/plain": [
              "0    0002-9378\\n\n",
              "Name: SN, dtype: object"
            ]
          },
          "metadata": {
            "tags": []
          },
          "execution_count": 199
        }
      ]
    },
    {
      "metadata": {
        "id": "kdTIlSCuaZJ8",
        "colab_type": "code",
        "colab": {
          "base_uri": "https://localhost:8080/",
          "height": 51
        },
        "outputId": "e6ca7eef-b80b-469e-d0a6-b142c5ff84c0"
      },
      "cell_type": "code",
      "source": [
        "udea[ udea['SCI_SN']!='' ].SCI_SN[:1]"
      ],
      "execution_count": 200,
      "outputs": [
        {
          "output_type": "execute_result",
          "data": {
            "text/plain": [
              "1186    2175-7968\\n\n",
              "Name: SCI_SN, dtype: object"
            ]
          },
          "metadata": {
            "tags": []
          },
          "execution_count": 200
        }
      ]
    },
    {
      "metadata": {
        "id": "d_Rh1JoVajKL",
        "colab_type": "code",
        "colab": {}
      },
      "cell_type": "code",
      "source": [
        "udea['ISSN']=( udea['SN']+udea['SCI_SN']+udea['SCP_ISSN'].str.replace('(^[a-zA-Z0-9]{4})([a-zA-Z0-9]{4}$)',r'\\1-\\2\\n')).str.split('\\n').str[0]"
      ],
      "execution_count": 0,
      "outputs": []
    },
    {
      "metadata": {
        "id": "TGfsDWg4c9tQ",
        "colab_type": "code",
        "colab": {
          "base_uri": "https://localhost:8080/",
          "height": 80
        },
        "outputId": "809b60ae-4d98-4860-e1cc-deb291851e7c"
      },
      "cell_type": "code",
      "source": [
        "oadois[:1]"
      ],
      "execution_count": 202,
      "outputs": [
        {
          "output_type": "execute_result",
          "data": {
            "text/html": [
              "<div>\n",
              "<style scoped>\n",
              "    .dataframe tbody tr th:only-of-type {\n",
              "        vertical-align: middle;\n",
              "    }\n",
              "\n",
              "    .dataframe tbody tr th {\n",
              "        vertical-align: top;\n",
              "    }\n",
              "\n",
              "    .dataframe thead th {\n",
              "        text-align: right;\n",
              "    }\n",
              "</style>\n",
              "<table border=\"1\" class=\"dataframe\">\n",
              "  <thead>\n",
              "    <tr style=\"text-align: right;\">\n",
              "      <th></th>\n",
              "      <th>DI</th>\n",
              "      <th>Open_Access</th>\n",
              "      <th>OA_Yellow</th>\n",
              "      <th>OA_Green</th>\n",
              "      <th>OA_Green_Article</th>\n",
              "    </tr>\n",
              "  </thead>\n",
              "  <tbody>\n",
              "    <tr>\n",
              "      <th>0</th>\n",
              "      <td>10.7705/biomedica.v37i3.4058</td>\n",
              "      <td>10.7705/biomedica.v37i3.4058</td>\n",
              "      <td>10.7705/biomedica.v37i3.4058</td>\n",
              "      <td></td>\n",
              "      <td></td>\n",
              "    </tr>\n",
              "  </tbody>\n",
              "</table>\n",
              "</div>"
            ],
            "text/plain": [
              "                             DI                   Open_Access  \\\n",
              "0  10.7705/biomedica.v37i3.4058  10.7705/biomedica.v37i3.4058   \n",
              "\n",
              "                      OA_Yellow OA_Green OA_Green_Article  \n",
              "0  10.7705/biomedica.v37i3.4058                            "
            ]
          },
          "metadata": {
            "tags": []
          },
          "execution_count": 202
        }
      ]
    },
    {
      "metadata": {
        "id": "Xvkdr66oWerz",
        "colab_type": "code",
        "colab": {
          "base_uri": "https://localhost:8080/",
          "height": 1969
        },
        "outputId": "305c245f-a8d9-4d0a-c084-5e50df848ff7"
      },
      "cell_type": "code",
      "source": [
        "oadois.merge( udea[['DI','ISSN']],on='DI',how='left')    #.rename({'DI':'UDEA_DI'}, axis = 'columns')"
      ],
      "execution_count": 203,
      "outputs": [
        {
          "output_type": "execute_result",
          "data": {
            "text/html": [
              "<div>\n",
              "<style scoped>\n",
              "    .dataframe tbody tr th:only-of-type {\n",
              "        vertical-align: middle;\n",
              "    }\n",
              "\n",
              "    .dataframe tbody tr th {\n",
              "        vertical-align: top;\n",
              "    }\n",
              "\n",
              "    .dataframe thead th {\n",
              "        text-align: right;\n",
              "    }\n",
              "</style>\n",
              "<table border=\"1\" class=\"dataframe\">\n",
              "  <thead>\n",
              "    <tr style=\"text-align: right;\">\n",
              "      <th></th>\n",
              "      <th>DI</th>\n",
              "      <th>Open_Access</th>\n",
              "      <th>OA_Yellow</th>\n",
              "      <th>OA_Green</th>\n",
              "      <th>OA_Green_Article</th>\n",
              "      <th>ISSN</th>\n",
              "    </tr>\n",
              "  </thead>\n",
              "  <tbody>\n",
              "    <tr>\n",
              "      <th>0</th>\n",
              "      <td>10.7705/biomedica.v37i3.4058</td>\n",
              "      <td>10.7705/biomedica.v37i3.4058</td>\n",
              "      <td>10.7705/biomedica.v37i3.4058</td>\n",
              "      <td></td>\n",
              "      <td></td>\n",
              "      <td>0120-4157</td>\n",
              "    </tr>\n",
              "    <tr>\n",
              "      <th>1</th>\n",
              "      <td>10.1016/j.actatropica.2017.11.004</td>\n",
              "      <td></td>\n",
              "      <td></td>\n",
              "      <td></td>\n",
              "      <td></td>\n",
              "      <td>0001-706X</td>\n",
              "    </tr>\n",
              "    <tr>\n",
              "      <th>2</th>\n",
              "      <td>10.1186/s40104-017-0225-x</td>\n",
              "      <td>10.1186/s40104-017-0225-x</td>\n",
              "      <td></td>\n",
              "      <td>10.1186/s40104-017-0225-x</td>\n",
              "      <td></td>\n",
              "      <td>2049-1891</td>\n",
              "    </tr>\n",
              "    <tr>\n",
              "      <th>3</th>\n",
              "      <td>10.1038/s41531-017-0025-1</td>\n",
              "      <td>10.1038/s41531-017-0025-1</td>\n",
              "      <td></td>\n",
              "      <td>10.1038/s41531-017-0025-1</td>\n",
              "      <td></td>\n",
              "      <td>2373-8057</td>\n",
              "    </tr>\n",
              "    <tr>\n",
              "      <th>4</th>\n",
              "      <td>10.1161/circulationaha.117.032445</td>\n",
              "      <td>10.1161/circulationaha.117.032445</td>\n",
              "      <td>10.1161/circulationaha.117.032445</td>\n",
              "      <td></td>\n",
              "      <td></td>\n",
              "      <td>0009-7322</td>\n",
              "    </tr>\n",
              "    <tr>\n",
              "      <th>5</th>\n",
              "      <td>10.1186/s12879-017-2929-0</td>\n",
              "      <td>10.1186/s12879-017-2929-0</td>\n",
              "      <td></td>\n",
              "      <td>10.1186/s12879-017-2929-0</td>\n",
              "      <td></td>\n",
              "      <td>1471-2334</td>\n",
              "    </tr>\n",
              "    <tr>\n",
              "      <th>6</th>\n",
              "      <td>10.1186/s12864-017-4376-0</td>\n",
              "      <td>10.1186/s12864-017-4376-0</td>\n",
              "      <td></td>\n",
              "      <td>10.1186/s12864-017-4376-0</td>\n",
              "      <td></td>\n",
              "      <td>1471-2164</td>\n",
              "    </tr>\n",
              "    <tr>\n",
              "      <th>7</th>\n",
              "      <td>10.1093/jme/tjx180</td>\n",
              "      <td></td>\n",
              "      <td></td>\n",
              "      <td></td>\n",
              "      <td></td>\n",
              "      <td>0022-2585</td>\n",
              "    </tr>\n",
              "    <tr>\n",
              "      <th>8</th>\n",
              "      <td>10.4067/s0718-18762018000100104</td>\n",
              "      <td>10.4067/s0718-18762018000100104</td>\n",
              "      <td></td>\n",
              "      <td>10.4067/s0718-18762018000100104</td>\n",
              "      <td></td>\n",
              "      <td>0718-1876</td>\n",
              "    </tr>\n",
              "    <tr>\n",
              "      <th>9</th>\n",
              "      <td>10.1103/physrevd.96.115035</td>\n",
              "      <td>10.1103/physrevd.96.115035</td>\n",
              "      <td>10.1103/physrevd.96.115035</td>\n",
              "      <td></td>\n",
              "      <td></td>\n",
              "      <td>2470-0010</td>\n",
              "    </tr>\n",
              "    <tr>\n",
              "      <th>10</th>\n",
              "      <td>10.1140/epjc/s10052-017-5317-4</td>\n",
              "      <td>10.1140/epjc/s10052-017-5317-4</td>\n",
              "      <td></td>\n",
              "      <td>10.1140/epjc/s10052-017-5317-4</td>\n",
              "      <td></td>\n",
              "      <td>1434-6044</td>\n",
              "    </tr>\n",
              "    <tr>\n",
              "      <th>11</th>\n",
              "      <td>10.1103/physrevd.96.112003</td>\n",
              "      <td>10.1103/physrevd.96.112003</td>\n",
              "      <td></td>\n",
              "      <td></td>\n",
              "      <td>10.1103/physrevd.96.112003</td>\n",
              "      <td>2470-0010</td>\n",
              "    </tr>\n",
              "    <tr>\n",
              "      <th>12</th>\n",
              "      <td>10.5839/rcnp.2017.12.02.03</td>\n",
              "      <td></td>\n",
              "      <td></td>\n",
              "      <td></td>\n",
              "      <td></td>\n",
              "      <td>0718-4913</td>\n",
              "    </tr>\n",
              "    <tr>\n",
              "      <th>13</th>\n",
              "      <td>10.1093/heapol/czx126</td>\n",
              "      <td>10.1093/heapol/czx126</td>\n",
              "      <td>10.1093/heapol/czx126</td>\n",
              "      <td></td>\n",
              "      <td></td>\n",
              "      <td>0268-1080</td>\n",
              "    </tr>\n",
              "    <tr>\n",
              "      <th>14</th>\n",
              "      <td>10.1016/j.fsigss.2017.09.190</td>\n",
              "      <td></td>\n",
              "      <td></td>\n",
              "      <td></td>\n",
              "      <td></td>\n",
              "      <td>1875-1768</td>\n",
              "    </tr>\n",
              "    <tr>\n",
              "      <th>15</th>\n",
              "      <td>10.3174/ajnr.a5397</td>\n",
              "      <td>10.3174/ajnr.a5397</td>\n",
              "      <td>10.3174/ajnr.a5397</td>\n",
              "      <td></td>\n",
              "      <td></td>\n",
              "      <td>0195-6108</td>\n",
              "    </tr>\n",
              "    <tr>\n",
              "      <th>16</th>\n",
              "      <td>10.5598/imafungus.2017.08.02.08</td>\n",
              "      <td>10.5598/imafungus.2017.08.02.08</td>\n",
              "      <td>10.5598/imafungus.2017.08.02.08</td>\n",
              "      <td></td>\n",
              "      <td></td>\n",
              "      <td>2210-6340</td>\n",
              "    </tr>\n",
              "    <tr>\n",
              "      <th>17</th>\n",
              "      <td>10.1111/bdi.12534</td>\n",
              "      <td>10.1111/bdi.12534</td>\n",
              "      <td>10.1111/bdi.12534</td>\n",
              "      <td></td>\n",
              "      <td></td>\n",
              "      <td>1398-5647</td>\n",
              "    </tr>\n",
              "    <tr>\n",
              "      <th>18</th>\n",
              "      <td>10.1038/s41598-017-12316-4</td>\n",
              "      <td>10.1038/s41598-017-12316-4</td>\n",
              "      <td></td>\n",
              "      <td>10.1038/s41598-017-12316-4</td>\n",
              "      <td></td>\n",
              "      <td>2045-2322</td>\n",
              "    </tr>\n",
              "    <tr>\n",
              "      <th>19</th>\n",
              "      <td>10.1186/s12916-017-0968-4</td>\n",
              "      <td>10.1186/s12916-017-0968-4</td>\n",
              "      <td></td>\n",
              "      <td>10.1186/s12916-017-0968-4</td>\n",
              "      <td></td>\n",
              "      <td>1741-7015</td>\n",
              "    </tr>\n",
              "    <tr>\n",
              "      <th>20</th>\n",
              "      <td>10.1140/epjc/s10052-017-5286-7</td>\n",
              "      <td>10.1140/epjc/s10052-017-5286-7</td>\n",
              "      <td></td>\n",
              "      <td>10.1140/epjc/s10052-017-5286-7</td>\n",
              "      <td></td>\n",
              "      <td>1434-6044</td>\n",
              "    </tr>\n",
              "    <tr>\n",
              "      <th>21</th>\n",
              "      <td>10.3390/foods6110094</td>\n",
              "      <td>10.3390/foods6110094</td>\n",
              "      <td></td>\n",
              "      <td>10.3390/foods6110094</td>\n",
              "      <td></td>\n",
              "      <td>2304-8158</td>\n",
              "    </tr>\n",
              "    <tr>\n",
              "      <th>22</th>\n",
              "      <td>10.1037/pac0000255</td>\n",
              "      <td></td>\n",
              "      <td></td>\n",
              "      <td></td>\n",
              "      <td></td>\n",
              "      <td>1078-1919</td>\n",
              "    </tr>\n",
              "    <tr>\n",
              "      <th>23</th>\n",
              "      <td>10.1017/s0031182017000671</td>\n",
              "      <td></td>\n",
              "      <td></td>\n",
              "      <td></td>\n",
              "      <td></td>\n",
              "      <td>0031-1820</td>\n",
              "    </tr>\n",
              "    <tr>\n",
              "      <th>24</th>\n",
              "      <td>10.1093/mnras/stx1745</td>\n",
              "      <td>10.1093/mnras/stx1745</td>\n",
              "      <td>10.1093/mnras/stx1745</td>\n",
              "      <td></td>\n",
              "      <td></td>\n",
              "      <td>0035-8711</td>\n",
              "    </tr>\n",
              "    <tr>\n",
              "      <th>25</th>\n",
              "      <td>10.1007/jhep10(2017)180</td>\n",
              "      <td>10.1007/jhep10(2017)180</td>\n",
              "      <td></td>\n",
              "      <td>10.1007/jhep10(2017)180</td>\n",
              "      <td></td>\n",
              "      <td>1029-8479</td>\n",
              "    </tr>\n",
              "    <tr>\n",
              "      <th>26</th>\n",
              "      <td>10.1007/jhep10(2017)131</td>\n",
              "      <td>10.1007/jhep10(2017)131</td>\n",
              "      <td></td>\n",
              "      <td>10.1007/jhep10(2017)131</td>\n",
              "      <td></td>\n",
              "      <td>1029-8479</td>\n",
              "    </tr>\n",
              "    <tr>\n",
              "      <th>27</th>\n",
              "      <td>10.1007/jhep10(2017)072</td>\n",
              "      <td>10.1007/jhep10(2017)072</td>\n",
              "      <td></td>\n",
              "      <td>10.1007/jhep10(2017)072</td>\n",
              "      <td></td>\n",
              "      <td>1029-8479</td>\n",
              "    </tr>\n",
              "    <tr>\n",
              "      <th>28</th>\n",
              "      <td>10.1007/jhep10(2017)073</td>\n",
              "      <td>10.1007/jhep10(2017)073</td>\n",
              "      <td></td>\n",
              "      <td>10.1007/jhep10(2017)073</td>\n",
              "      <td></td>\n",
              "      <td>1029-8479</td>\n",
              "    </tr>\n",
              "    <tr>\n",
              "      <th>29</th>\n",
              "      <td>10.1212/wnl.0000000000004533</td>\n",
              "      <td></td>\n",
              "      <td></td>\n",
              "      <td></td>\n",
              "      <td></td>\n",
              "      <td>0028-3878</td>\n",
              "    </tr>\n",
              "    <tr>\n",
              "      <th>...</th>\n",
              "      <td>...</td>\n",
              "      <td>...</td>\n",
              "      <td>...</td>\n",
              "      <td>...</td>\n",
              "      <td>...</td>\n",
              "      <td>...</td>\n",
              "    </tr>\n",
              "    <tr>\n",
              "      <th>7969</th>\n",
              "      <td>10.1590/s1980-57642014dn82000002</td>\n",
              "      <td>10.1590/s1980-57642014dn82000002</td>\n",
              "      <td></td>\n",
              "      <td>10.1590/s1980-57642014dn82000002</td>\n",
              "      <td></td>\n",
              "      <td>1980-5764</td>\n",
              "    </tr>\n",
              "    <tr>\n",
              "      <th>7970</th>\n",
              "      <td>10.11144/javeriana.rgyps13-26.eaht</td>\n",
              "      <td>10.11144/javeriana.rgyps13-26.eaht</td>\n",
              "      <td>10.11144/javeriana.rgyps13-26.eaht</td>\n",
              "      <td></td>\n",
              "      <td></td>\n",
              "      <td>1657-7027</td>\n",
              "    </tr>\n",
              "    <tr>\n",
              "      <th>7971</th>\n",
              "      <td>10.14201/shhmo20133599125</td>\n",
              "      <td>10.14201/shhmo20133599125</td>\n",
              "      <td></td>\n",
              "      <td>10.14201/shhmo20133599125</td>\n",
              "      <td></td>\n",
              "      <td>0213-2079</td>\n",
              "    </tr>\n",
              "    <tr>\n",
              "      <th>7972</th>\n",
              "      <td>10.1016/j.neuarg.2012.10.003</td>\n",
              "      <td></td>\n",
              "      <td></td>\n",
              "      <td></td>\n",
              "      <td></td>\n",
              "      <td>1853-0028</td>\n",
              "    </tr>\n",
              "    <tr>\n",
              "      <th>7973</th>\n",
              "      <td>10.1016/j.inmuno.2013.06.001</td>\n",
              "      <td></td>\n",
              "      <td></td>\n",
              "      <td></td>\n",
              "      <td></td>\n",
              "      <td>0213-9626</td>\n",
              "    </tr>\n",
              "    <tr>\n",
              "      <th>7974</th>\n",
              "      <td>10.1016/j.rca.2013.05.006</td>\n",
              "      <td>10.1016/j.rca.2013.05.006</td>\n",
              "      <td></td>\n",
              "      <td></td>\n",
              "      <td>10.1016/j.rca.2013.05.006</td>\n",
              "      <td>0120-3347</td>\n",
              "    </tr>\n",
              "    <tr>\n",
              "      <th>7975</th>\n",
              "      <td>10.1016/j.vacun.2013.12.002</td>\n",
              "      <td></td>\n",
              "      <td></td>\n",
              "      <td></td>\n",
              "      <td></td>\n",
              "      <td>1576-9887</td>\n",
              "    </tr>\n",
              "    <tr>\n",
              "      <th>7976</th>\n",
              "      <td>10.3989/redc.2012.mono.980</td>\n",
              "      <td>10.3989/redc.2012.mono.980</td>\n",
              "      <td></td>\n",
              "      <td>10.3989/redc.2012.mono.980</td>\n",
              "      <td></td>\n",
              "      <td>0210-0614</td>\n",
              "    </tr>\n",
              "    <tr>\n",
              "      <th>7977</th>\n",
              "      <td>10.1016/j.patol.2012.03.005</td>\n",
              "      <td></td>\n",
              "      <td></td>\n",
              "      <td></td>\n",
              "      <td></td>\n",
              "      <td>1699-8855</td>\n",
              "    </tr>\n",
              "    <tr>\n",
              "      <th>7978</th>\n",
              "      <td>10.1016/j.angio.2011.09.002</td>\n",
              "      <td></td>\n",
              "      <td></td>\n",
              "      <td></td>\n",
              "      <td></td>\n",
              "      <td>0003-3170</td>\n",
              "    </tr>\n",
              "    <tr>\n",
              "      <th>7979</th>\n",
              "      <td>10.1016/j.rx.2011.06.001</td>\n",
              "      <td></td>\n",
              "      <td></td>\n",
              "      <td></td>\n",
              "      <td></td>\n",
              "      <td>0033-8338</td>\n",
              "    </tr>\n",
              "    <tr>\n",
              "      <th>7980</th>\n",
              "      <td>10.1016/j.rifk.2011.10.002</td>\n",
              "      <td></td>\n",
              "      <td></td>\n",
              "      <td></td>\n",
              "      <td></td>\n",
              "      <td>1138-6045</td>\n",
              "    </tr>\n",
              "    <tr>\n",
              "      <th>7981</th>\n",
              "      <td>10.1612/inf.tecnol.4389it.09</td>\n",
              "      <td></td>\n",
              "      <td></td>\n",
              "      <td></td>\n",
              "      <td></td>\n",
              "      <td>0716-8756</td>\n",
              "    </tr>\n",
              "    <tr>\n",
              "      <th>7982</th>\n",
              "      <td>10.1016/s0121-8123(10)70071-2</td>\n",
              "      <td></td>\n",
              "      <td></td>\n",
              "      <td></td>\n",
              "      <td></td>\n",
              "      <td>0121-8123</td>\n",
              "    </tr>\n",
              "    <tr>\n",
              "      <th>7983</th>\n",
              "      <td>10.1016/s0001-7310(09)72922-9</td>\n",
              "      <td></td>\n",
              "      <td></td>\n",
              "      <td></td>\n",
              "      <td></td>\n",
              "      <td>0001-7310</td>\n",
              "    </tr>\n",
              "    <tr>\n",
              "      <th>7984</th>\n",
              "      <td>10.1016/s0121-8123(09)70100-8</td>\n",
              "      <td></td>\n",
              "      <td></td>\n",
              "      <td></td>\n",
              "      <td></td>\n",
              "      <td>0121-8123</td>\n",
              "    </tr>\n",
              "    <tr>\n",
              "      <th>7985</th>\n",
              "      <td>10.1016/j.gaceta.2009.07.007</td>\n",
              "      <td>10.1016/j.gaceta.2009.07.007</td>\n",
              "      <td></td>\n",
              "      <td>10.1016/j.gaceta.2009.07.007</td>\n",
              "      <td></td>\n",
              "      <td>0213-9111</td>\n",
              "    </tr>\n",
              "    <tr>\n",
              "      <th>7986</th>\n",
              "      <td>10.1016/j.gaceta.2009.09.004</td>\n",
              "      <td>10.1016/j.gaceta.2009.09.004</td>\n",
              "      <td></td>\n",
              "      <td>10.1016/j.gaceta.2009.09.004</td>\n",
              "      <td></td>\n",
              "      <td>0213-9111</td>\n",
              "    </tr>\n",
              "    <tr>\n",
              "      <th>7987</th>\n",
              "      <td>10.1016/s0121-8123(09)70106-9</td>\n",
              "      <td></td>\n",
              "      <td></td>\n",
              "      <td></td>\n",
              "      <td></td>\n",
              "      <td>0121-8123</td>\n",
              "    </tr>\n",
              "    <tr>\n",
              "      <th>7988</th>\n",
              "      <td>10.1016/s0121-8123(09)70110-0</td>\n",
              "      <td></td>\n",
              "      <td></td>\n",
              "      <td></td>\n",
              "      <td></td>\n",
              "      <td>0121-8123</td>\n",
              "    </tr>\n",
              "    <tr>\n",
              "      <th>7989</th>\n",
              "      <td>10.1016/s1130-6343(09)72471-7</td>\n",
              "      <td>10.1016/s1130-6343(09)72471-7</td>\n",
              "      <td></td>\n",
              "      <td>10.1016/s1130-6343(09)72471-7</td>\n",
              "      <td></td>\n",
              "      <td>1130-6343</td>\n",
              "    </tr>\n",
              "    <tr>\n",
              "      <th>7990</th>\n",
              "      <td>10.1590/s0124-00642008000400013</td>\n",
              "      <td>10.1590/s0124-00642008000400013</td>\n",
              "      <td></td>\n",
              "      <td>10.1590/s0124-00642008000400013</td>\n",
              "      <td></td>\n",
              "      <td>0124-0064</td>\n",
              "    </tr>\n",
              "    <tr>\n",
              "      <th>7991</th>\n",
              "      <td>10.1590/s0124-00642007000400005</td>\n",
              "      <td>10.1590/s0124-00642007000400005</td>\n",
              "      <td></td>\n",
              "      <td>10.1590/s0124-00642007000400005</td>\n",
              "      <td></td>\n",
              "      <td>0124-0064</td>\n",
              "    </tr>\n",
              "    <tr>\n",
              "      <th>7992</th>\n",
              "      <td>10.1016/s1130-6343(07)75392-8</td>\n",
              "      <td>10.1016/s1130-6343(07)75392-8</td>\n",
              "      <td></td>\n",
              "      <td>10.1016/s1130-6343(07)75392-8</td>\n",
              "      <td></td>\n",
              "      <td>1130-6343</td>\n",
              "    </tr>\n",
              "    <tr>\n",
              "      <th>7993</th>\n",
              "      <td>10.1157/13101091</td>\n",
              "      <td>10.1157/13101091</td>\n",
              "      <td></td>\n",
              "      <td>10.1157/13101091</td>\n",
              "      <td></td>\n",
              "      <td>0213-9111</td>\n",
              "    </tr>\n",
              "    <tr>\n",
              "      <th>7994</th>\n",
              "      <td>10.1157/13093203</td>\n",
              "      <td>10.1157/13093203</td>\n",
              "      <td></td>\n",
              "      <td>10.1157/13093203</td>\n",
              "      <td></td>\n",
              "      <td>0213-9111</td>\n",
              "    </tr>\n",
              "    <tr>\n",
              "      <th>7995</th>\n",
              "      <td>10.112/j.1469-8412</td>\n",
              "      <td></td>\n",
              "      <td></td>\n",
              "      <td></td>\n",
              "      <td></td>\n",
              "      <td>1351-1610</td>\n",
              "    </tr>\n",
              "    <tr>\n",
              "      <th>7996</th>\n",
              "      <td>10.1157/13046518</td>\n",
              "      <td></td>\n",
              "      <td></td>\n",
              "      <td></td>\n",
              "      <td></td>\n",
              "      <td>1695-4033</td>\n",
              "    </tr>\n",
              "    <tr>\n",
              "      <th>7997</th>\n",
              "      <td>10.1157/13046520</td>\n",
              "      <td></td>\n",
              "      <td></td>\n",
              "      <td></td>\n",
              "      <td></td>\n",
              "      <td>1695-4033</td>\n",
              "    </tr>\n",
              "    <tr>\n",
              "      <th>7998</th>\n",
              "      <td>10.111/j.1469-8412</td>\n",
              "      <td></td>\n",
              "      <td></td>\n",
              "      <td></td>\n",
              "      <td></td>\n",
              "      <td>1351-1610</td>\n",
              "    </tr>\n",
              "  </tbody>\n",
              "</table>\n",
              "<p>7999 rows × 6 columns</p>\n",
              "</div>"
            ],
            "text/plain": [
              "                                      DI                         Open_Access  \\\n",
              "0           10.7705/biomedica.v37i3.4058        10.7705/biomedica.v37i3.4058   \n",
              "1      10.1016/j.actatropica.2017.11.004                                       \n",
              "2              10.1186/s40104-017-0225-x           10.1186/s40104-017-0225-x   \n",
              "3              10.1038/s41531-017-0025-1           10.1038/s41531-017-0025-1   \n",
              "4      10.1161/circulationaha.117.032445   10.1161/circulationaha.117.032445   \n",
              "5              10.1186/s12879-017-2929-0           10.1186/s12879-017-2929-0   \n",
              "6              10.1186/s12864-017-4376-0           10.1186/s12864-017-4376-0   \n",
              "7                     10.1093/jme/tjx180                                       \n",
              "8        10.4067/s0718-18762018000100104     10.4067/s0718-18762018000100104   \n",
              "9             10.1103/physrevd.96.115035          10.1103/physrevd.96.115035   \n",
              "10        10.1140/epjc/s10052-017-5317-4      10.1140/epjc/s10052-017-5317-4   \n",
              "11            10.1103/physrevd.96.112003          10.1103/physrevd.96.112003   \n",
              "12            10.5839/rcnp.2017.12.02.03                                       \n",
              "13                 10.1093/heapol/czx126               10.1093/heapol/czx126   \n",
              "14          10.1016/j.fsigss.2017.09.190                                       \n",
              "15                    10.3174/ajnr.a5397                  10.3174/ajnr.a5397   \n",
              "16       10.5598/imafungus.2017.08.02.08     10.5598/imafungus.2017.08.02.08   \n",
              "17                     10.1111/bdi.12534                   10.1111/bdi.12534   \n",
              "18            10.1038/s41598-017-12316-4          10.1038/s41598-017-12316-4   \n",
              "19             10.1186/s12916-017-0968-4           10.1186/s12916-017-0968-4   \n",
              "20        10.1140/epjc/s10052-017-5286-7      10.1140/epjc/s10052-017-5286-7   \n",
              "21                  10.3390/foods6110094                10.3390/foods6110094   \n",
              "22                    10.1037/pac0000255                                       \n",
              "23             10.1017/s0031182017000671                                       \n",
              "24                 10.1093/mnras/stx1745               10.1093/mnras/stx1745   \n",
              "25               10.1007/jhep10(2017)180             10.1007/jhep10(2017)180   \n",
              "26               10.1007/jhep10(2017)131             10.1007/jhep10(2017)131   \n",
              "27               10.1007/jhep10(2017)072             10.1007/jhep10(2017)072   \n",
              "28               10.1007/jhep10(2017)073             10.1007/jhep10(2017)073   \n",
              "29          10.1212/wnl.0000000000004533                                       \n",
              "...                                  ...                                 ...   \n",
              "7969    10.1590/s1980-57642014dn82000002    10.1590/s1980-57642014dn82000002   \n",
              "7970  10.11144/javeriana.rgyps13-26.eaht  10.11144/javeriana.rgyps13-26.eaht   \n",
              "7971           10.14201/shhmo20133599125           10.14201/shhmo20133599125   \n",
              "7972        10.1016/j.neuarg.2012.10.003                                       \n",
              "7973        10.1016/j.inmuno.2013.06.001                                       \n",
              "7974           10.1016/j.rca.2013.05.006           10.1016/j.rca.2013.05.006   \n",
              "7975         10.1016/j.vacun.2013.12.002                                       \n",
              "7976          10.3989/redc.2012.mono.980          10.3989/redc.2012.mono.980   \n",
              "7977         10.1016/j.patol.2012.03.005                                       \n",
              "7978         10.1016/j.angio.2011.09.002                                       \n",
              "7979            10.1016/j.rx.2011.06.001                                       \n",
              "7980          10.1016/j.rifk.2011.10.002                                       \n",
              "7981        10.1612/inf.tecnol.4389it.09                                       \n",
              "7982       10.1016/s0121-8123(10)70071-2                                       \n",
              "7983       10.1016/s0001-7310(09)72922-9                                       \n",
              "7984       10.1016/s0121-8123(09)70100-8                                       \n",
              "7985        10.1016/j.gaceta.2009.07.007        10.1016/j.gaceta.2009.07.007   \n",
              "7986        10.1016/j.gaceta.2009.09.004        10.1016/j.gaceta.2009.09.004   \n",
              "7987       10.1016/s0121-8123(09)70106-9                                       \n",
              "7988       10.1016/s0121-8123(09)70110-0                                       \n",
              "7989       10.1016/s1130-6343(09)72471-7       10.1016/s1130-6343(09)72471-7   \n",
              "7990     10.1590/s0124-00642008000400013     10.1590/s0124-00642008000400013   \n",
              "7991     10.1590/s0124-00642007000400005     10.1590/s0124-00642007000400005   \n",
              "7992       10.1016/s1130-6343(07)75392-8       10.1016/s1130-6343(07)75392-8   \n",
              "7993                    10.1157/13101091                    10.1157/13101091   \n",
              "7994                    10.1157/13093203                    10.1157/13093203   \n",
              "7995                  10.112/j.1469-8412                                       \n",
              "7996                    10.1157/13046518                                       \n",
              "7997                    10.1157/13046520                                       \n",
              "7998                  10.111/j.1469-8412                                       \n",
              "\n",
              "                               OA_Yellow                          OA_Green  \\\n",
              "0           10.7705/biomedica.v37i3.4058                                     \n",
              "1                                                                            \n",
              "2                                                10.1186/s40104-017-0225-x   \n",
              "3                                                10.1038/s41531-017-0025-1   \n",
              "4      10.1161/circulationaha.117.032445                                     \n",
              "5                                                10.1186/s12879-017-2929-0   \n",
              "6                                                10.1186/s12864-017-4376-0   \n",
              "7                                                                            \n",
              "8                                          10.4067/s0718-18762018000100104   \n",
              "9             10.1103/physrevd.96.115035                                     \n",
              "10                                          10.1140/epjc/s10052-017-5317-4   \n",
              "11                                                                           \n",
              "12                                                                           \n",
              "13                 10.1093/heapol/czx126                                     \n",
              "14                                                                           \n",
              "15                    10.3174/ajnr.a5397                                     \n",
              "16       10.5598/imafungus.2017.08.02.08                                     \n",
              "17                     10.1111/bdi.12534                                     \n",
              "18                                              10.1038/s41598-017-12316-4   \n",
              "19                                               10.1186/s12916-017-0968-4   \n",
              "20                                          10.1140/epjc/s10052-017-5286-7   \n",
              "21                                                    10.3390/foods6110094   \n",
              "22                                                                           \n",
              "23                                                                           \n",
              "24                 10.1093/mnras/stx1745                                     \n",
              "25                                                 10.1007/jhep10(2017)180   \n",
              "26                                                 10.1007/jhep10(2017)131   \n",
              "27                                                 10.1007/jhep10(2017)072   \n",
              "28                                                 10.1007/jhep10(2017)073   \n",
              "29                                                                           \n",
              "...                                  ...                               ...   \n",
              "7969                                      10.1590/s1980-57642014dn82000002   \n",
              "7970  10.11144/javeriana.rgyps13-26.eaht                                     \n",
              "7971                                             10.14201/shhmo20133599125   \n",
              "7972                                                                         \n",
              "7973                                                                         \n",
              "7974                                                                         \n",
              "7975                                                                         \n",
              "7976                                            10.3989/redc.2012.mono.980   \n",
              "7977                                                                         \n",
              "7978                                                                         \n",
              "7979                                                                         \n",
              "7980                                                                         \n",
              "7981                                                                         \n",
              "7982                                                                         \n",
              "7983                                                                         \n",
              "7984                                                                         \n",
              "7985                                          10.1016/j.gaceta.2009.07.007   \n",
              "7986                                          10.1016/j.gaceta.2009.09.004   \n",
              "7987                                                                         \n",
              "7988                                                                         \n",
              "7989                                         10.1016/s1130-6343(09)72471-7   \n",
              "7990                                       10.1590/s0124-00642008000400013   \n",
              "7991                                       10.1590/s0124-00642007000400005   \n",
              "7992                                         10.1016/s1130-6343(07)75392-8   \n",
              "7993                                                      10.1157/13101091   \n",
              "7994                                                      10.1157/13093203   \n",
              "7995                                                                         \n",
              "7996                                                                         \n",
              "7997                                                                         \n",
              "7998                                                                         \n",
              "\n",
              "                OA_Green_Article       ISSN  \n",
              "0                                 0120-4157  \n",
              "1                                 0001-706X  \n",
              "2                                 2049-1891  \n",
              "3                                 2373-8057  \n",
              "4                                 0009-7322  \n",
              "5                                 1471-2334  \n",
              "6                                 1471-2164  \n",
              "7                                 0022-2585  \n",
              "8                                 0718-1876  \n",
              "9                                 2470-0010  \n",
              "10                                1434-6044  \n",
              "11    10.1103/physrevd.96.112003  2470-0010  \n",
              "12                                0718-4913  \n",
              "13                                0268-1080  \n",
              "14                                1875-1768  \n",
              "15                                0195-6108  \n",
              "16                                2210-6340  \n",
              "17                                1398-5647  \n",
              "18                                2045-2322  \n",
              "19                                1741-7015  \n",
              "20                                1434-6044  \n",
              "21                                2304-8158  \n",
              "22                                1078-1919  \n",
              "23                                0031-1820  \n",
              "24                                0035-8711  \n",
              "25                                1029-8479  \n",
              "26                                1029-8479  \n",
              "27                                1029-8479  \n",
              "28                                1029-8479  \n",
              "29                                0028-3878  \n",
              "...                          ...        ...  \n",
              "7969                              1980-5764  \n",
              "7970                              1657-7027  \n",
              "7971                              0213-2079  \n",
              "7972                              1853-0028  \n",
              "7973                              0213-9626  \n",
              "7974   10.1016/j.rca.2013.05.006  0120-3347  \n",
              "7975                              1576-9887  \n",
              "7976                              0210-0614  \n",
              "7977                              1699-8855  \n",
              "7978                              0003-3170  \n",
              "7979                              0033-8338  \n",
              "7980                              1138-6045  \n",
              "7981                              0716-8756  \n",
              "7982                              0121-8123  \n",
              "7983                              0001-7310  \n",
              "7984                              0121-8123  \n",
              "7985                              0213-9111  \n",
              "7986                              0213-9111  \n",
              "7987                              0121-8123  \n",
              "7988                              0121-8123  \n",
              "7989                              1130-6343  \n",
              "7990                              0124-0064  \n",
              "7991                              0124-0064  \n",
              "7992                              1130-6343  \n",
              "7993                              0213-9111  \n",
              "7994                              0213-9111  \n",
              "7995                              1351-1610  \n",
              "7996                              1695-4033  \n",
              "7997                              1695-4033  \n",
              "7998                              1351-1610  \n",
              "\n",
              "[7999 rows x 6 columns]"
            ]
          },
          "metadata": {
            "tags": []
          },
          "execution_count": 203
        }
      ]
    },
    {
      "metadata": {
        "id": "mNTEnTQjJuLx",
        "colab_type": "text"
      },
      "cell_type": "markdown",
      "source": [
        "# Consultar  DOAJ API con DOI\n",
        "Ver: https://doaj.org/api/v1/docs#!/Search/get_api_v1_search_articles_search_query"
      ]
    },
    {
      "metadata": {
        "id": "j39HDif4NpPJ",
        "colab_type": "text"
      },
      "cell_type": "markdown",
      "source": [
        "## Carga navegador JSON"
      ]
    },
    {
      "metadata": {
        "id": "izdwSa5RJ0Ec",
        "colab_type": "code",
        "colab": {}
      },
      "cell_type": "code",
      "source": [
        "import pandas as pd"
      ],
      "execution_count": 0,
      "outputs": []
    },
    {
      "metadata": {
        "id": "INjfBi7KNmJP",
        "colab_type": "text"
      },
      "cell_type": "markdown",
      "source": [
        "## Consulta"
      ]
    },
    {
      "metadata": {
        "id": "5c8D7U-mJ3g6",
        "colab_type": "code",
        "colab": {}
      },
      "cell_type": "code",
      "source": [
        "DOI='10.1016/j.physletb.2018.01.009'\n",
        "df=pd.read_json('https://doaj.org/api/v1/search/articles/{}'.format(DOI))"
      ],
      "execution_count": 0,
      "outputs": []
    },
    {
      "metadata": {
        "id": "M84vNkUSNPeM",
        "colab_type": "text"
      },
      "cell_type": "markdown",
      "source": [
        "## Análisis de resultado:\n",
        "Nota: La celdas con estructuras anidadas (que comienzan con `[` ó `{`) sa analizan secuencialmente"
      ]
    },
    {
      "metadata": {
        "id": "m7ahe4ZaNOb9",
        "colab_type": "code",
        "outputId": "797cca3f-6de1-403b-9bcf-2e3f8a805503",
        "colab": {
          "base_uri": "https://localhost:8080/",
          "height": 79
        }
      },
      "cell_type": "code",
      "source": [
        "df"
      ],
      "execution_count": 0,
      "outputs": [
        {
          "output_type": "execute_result",
          "data": {
            "text/html": [
              "<div>\n",
              "<style scoped>\n",
              "    .dataframe tbody tr th:only-of-type {\n",
              "        vertical-align: middle;\n",
              "    }\n",
              "\n",
              "    .dataframe tbody tr th {\n",
              "        vertical-align: top;\n",
              "    }\n",
              "\n",
              "    .dataframe thead th {\n",
              "        text-align: right;\n",
              "    }\n",
              "</style>\n",
              "<table border=\"1\" class=\"dataframe\">\n",
              "  <thead>\n",
              "    <tr style=\"text-align: right;\">\n",
              "      <th></th>\n",
              "      <th>last</th>\n",
              "      <th>page</th>\n",
              "      <th>pageSize</th>\n",
              "      <th>query</th>\n",
              "      <th>results</th>\n",
              "      <th>timestamp</th>\n",
              "      <th>total</th>\n",
              "    </tr>\n",
              "  </thead>\n",
              "  <tbody>\n",
              "    <tr>\n",
              "      <th>0</th>\n",
              "      <td>https://doaj.org/api/v1/search/articles/10.101...</td>\n",
              "      <td>1</td>\n",
              "      <td>10</td>\n",
              "      <td>10.1016/j.physletb.2018.01.009</td>\n",
              "      <td>{u'last_updated': u'2018-03-05T12:09:16Z', u'i...</td>\n",
              "      <td>2018-1010T04:23:08Z</td>\n",
              "      <td>1</td>\n",
              "    </tr>\n",
              "  </tbody>\n",
              "</table>\n",
              "</div>"
            ],
            "text/plain": [
              "                                                last  page  pageSize  \\\n",
              "0  https://doaj.org/api/v1/search/articles/10.101...     1        10   \n",
              "\n",
              "                            query  \\\n",
              "0  10.1016/j.physletb.2018.01.009   \n",
              "\n",
              "                                             results            timestamp  \\\n",
              "0  {u'last_updated': u'2018-03-05T12:09:16Z', u'i...  2018-1010T04:23:08Z   \n",
              "\n",
              "   total  \n",
              "0      1  "
            ]
          },
          "metadata": {
            "tags": []
          },
          "execution_count": 32
        }
      ]
    },
    {
      "metadata": {
        "id": "lzgDcW8NNyAv",
        "colab_type": "text"
      },
      "cell_type": "markdown",
      "source": [
        "Desplegar colunna __results__:"
      ]
    },
    {
      "metadata": {
        "id": "5vcp02fQKCu2",
        "colab_type": "code",
        "outputId": "2ee1ee4b-b0d1-4149-8495-a626f27326dc",
        "colab": {
          "base_uri": "https://localhost:8080/",
          "height": 387
        }
      },
      "cell_type": "code",
      "source": [
        "p=pd.DataFrame(  df['results'].values[0] )\n",
        "p"
      ],
      "execution_count": 0,
      "outputs": [
        {
          "output_type": "execute_result",
          "data": {
            "text/html": [
              "<div>\n",
              "<style scoped>\n",
              "    .dataframe tbody tr th:only-of-type {\n",
              "        vertical-align: middle;\n",
              "    }\n",
              "\n",
              "    .dataframe tbody tr th {\n",
              "        vertical-align: top;\n",
              "    }\n",
              "\n",
              "    .dataframe thead th {\n",
              "        text-align: right;\n",
              "    }\n",
              "</style>\n",
              "<table border=\"1\" class=\"dataframe\">\n",
              "  <thead>\n",
              "    <tr style=\"text-align: right;\">\n",
              "      <th></th>\n",
              "      <th>bibjson</th>\n",
              "      <th>created_date</th>\n",
              "      <th>id</th>\n",
              "      <th>last_updated</th>\n",
              "    </tr>\n",
              "  </thead>\n",
              "  <tbody>\n",
              "    <tr>\n",
              "      <th>abstract</th>\n",
              "      <td>The observation of neutrino oscillations estab...</td>\n",
              "      <td>2018-03-05T12:09:16Z</td>\n",
              "      <td>03ba3f288d8341d380a286a6d0f64de4</td>\n",
              "      <td>2018-03-05T12:09:16Z</td>\n",
              "    </tr>\n",
              "    <tr>\n",
              "      <th>author</th>\n",
              "      <td>[{u'affiliation': u'Physics Department, Univer...</td>\n",
              "      <td>2018-03-05T12:09:16Z</td>\n",
              "      <td>03ba3f288d8341d380a286a6d0f64de4</td>\n",
              "      <td>2018-03-05T12:09:16Z</td>\n",
              "    </tr>\n",
              "    <tr>\n",
              "      <th>end_page</th>\n",
              "      <td>100</td>\n",
              "      <td>2018-03-05T12:09:16Z</td>\n",
              "      <td>03ba3f288d8341d380a286a6d0f64de4</td>\n",
              "      <td>2018-03-05T12:09:16Z</td>\n",
              "    </tr>\n",
              "    <tr>\n",
              "      <th>identifier</th>\n",
              "      <td>[{u'type': u'pissn', u'id': u'0370-2693'}, {u'...</td>\n",
              "      <td>2018-03-05T12:09:16Z</td>\n",
              "      <td>03ba3f288d8341d380a286a6d0f64de4</td>\n",
              "      <td>2018-03-05T12:09:16Z</td>\n",
              "    </tr>\n",
              "    <tr>\n",
              "      <th>journal</th>\n",
              "      <td>{u'publisher': u'Elsevier', u'language': [u'EN...</td>\n",
              "      <td>2018-03-05T12:09:16Z</td>\n",
              "      <td>03ba3f288d8341d380a286a6d0f64de4</td>\n",
              "      <td>2018-03-05T12:09:16Z</td>\n",
              "    </tr>\n",
              "    <tr>\n",
              "      <th>link</th>\n",
              "      <td>[{u'url': u'http://www.sciencedirect.com/scien...</td>\n",
              "      <td>2018-03-05T12:09:16Z</td>\n",
              "      <td>03ba3f288d8341d380a286a6d0f64de4</td>\n",
              "      <td>2018-03-05T12:09:16Z</td>\n",
              "    </tr>\n",
              "    <tr>\n",
              "      <th>month</th>\n",
              "      <td>3</td>\n",
              "      <td>2018-03-05T12:09:16Z</td>\n",
              "      <td>03ba3f288d8341d380a286a6d0f64de4</td>\n",
              "      <td>2018-03-05T12:09:16Z</td>\n",
              "    </tr>\n",
              "    <tr>\n",
              "      <th>start_page</th>\n",
              "      <td>94</td>\n",
              "      <td>2018-03-05T12:09:16Z</td>\n",
              "      <td>03ba3f288d8341d380a286a6d0f64de4</td>\n",
              "      <td>2018-03-05T12:09:16Z</td>\n",
              "    </tr>\n",
              "    <tr>\n",
              "      <th>subject</th>\n",
              "      <td>[{u'code': u'QC1-999', u'term': u'Physics', u'...</td>\n",
              "      <td>2018-03-05T12:09:16Z</td>\n",
              "      <td>03ba3f288d8341d380a286a6d0f64de4</td>\n",
              "      <td>2018-03-05T12:09:16Z</td>\n",
              "    </tr>\n",
              "    <tr>\n",
              "      <th>title</th>\n",
              "      <td>Expanding the reach of heavy neutrino searches...</td>\n",
              "      <td>2018-03-05T12:09:16Z</td>\n",
              "      <td>03ba3f288d8341d380a286a6d0f64de4</td>\n",
              "      <td>2018-03-05T12:09:16Z</td>\n",
              "    </tr>\n",
              "    <tr>\n",
              "      <th>year</th>\n",
              "      <td>2018</td>\n",
              "      <td>2018-03-05T12:09:16Z</td>\n",
              "      <td>03ba3f288d8341d380a286a6d0f64de4</td>\n",
              "      <td>2018-03-05T12:09:16Z</td>\n",
              "    </tr>\n",
              "  </tbody>\n",
              "</table>\n",
              "</div>"
            ],
            "text/plain": [
              "                                                      bibjson  \\\n",
              "abstract    The observation of neutrino oscillations estab...   \n",
              "author      [{u'affiliation': u'Physics Department, Univer...   \n",
              "end_page                                                  100   \n",
              "identifier  [{u'type': u'pissn', u'id': u'0370-2693'}, {u'...   \n",
              "journal     {u'publisher': u'Elsevier', u'language': [u'EN...   \n",
              "link        [{u'url': u'http://www.sciencedirect.com/scien...   \n",
              "month                                                       3   \n",
              "start_page                                                 94   \n",
              "subject     [{u'code': u'QC1-999', u'term': u'Physics', u'...   \n",
              "title       Expanding the reach of heavy neutrino searches...   \n",
              "year                                                     2018   \n",
              "\n",
              "                    created_date                                id  \\\n",
              "abstract    2018-03-05T12:09:16Z  03ba3f288d8341d380a286a6d0f64de4   \n",
              "author      2018-03-05T12:09:16Z  03ba3f288d8341d380a286a6d0f64de4   \n",
              "end_page    2018-03-05T12:09:16Z  03ba3f288d8341d380a286a6d0f64de4   \n",
              "identifier  2018-03-05T12:09:16Z  03ba3f288d8341d380a286a6d0f64de4   \n",
              "journal     2018-03-05T12:09:16Z  03ba3f288d8341d380a286a6d0f64de4   \n",
              "link        2018-03-05T12:09:16Z  03ba3f288d8341d380a286a6d0f64de4   \n",
              "month       2018-03-05T12:09:16Z  03ba3f288d8341d380a286a6d0f64de4   \n",
              "start_page  2018-03-05T12:09:16Z  03ba3f288d8341d380a286a6d0f64de4   \n",
              "subject     2018-03-05T12:09:16Z  03ba3f288d8341d380a286a6d0f64de4   \n",
              "title       2018-03-05T12:09:16Z  03ba3f288d8341d380a286a6d0f64de4   \n",
              "year        2018-03-05T12:09:16Z  03ba3f288d8341d380a286a6d0f64de4   \n",
              "\n",
              "                    last_updated  \n",
              "abstract    2018-03-05T12:09:16Z  \n",
              "author      2018-03-05T12:09:16Z  \n",
              "end_page    2018-03-05T12:09:16Z  \n",
              "identifier  2018-03-05T12:09:16Z  \n",
              "journal     2018-03-05T12:09:16Z  \n",
              "link        2018-03-05T12:09:16Z  \n",
              "month       2018-03-05T12:09:16Z  \n",
              "start_page  2018-03-05T12:09:16Z  \n",
              "subject     2018-03-05T12:09:16Z  \n",
              "title       2018-03-05T12:09:16Z  \n",
              "year        2018-03-05T12:09:16Z  "
            ]
          },
          "metadata": {
            "tags": []
          },
          "execution_count": 12
        }
      ]
    },
    {
      "metadata": {
        "id": "Rfb-0_JTN8bA",
        "colab_type": "text"
      },
      "cell_type": "markdown",
      "source": [
        "Desplegar cada una de las celdas anidadas de la columna __bibjson__"
      ]
    },
    {
      "metadata": {
        "id": "UI2UlUNBK5hJ",
        "colab_type": "code",
        "outputId": "0e945534-18d0-478e-e6ba-ffeafbc1aa07",
        "colab": {
          "base_uri": "https://localhost:8080/",
          "height": 202
        }
      },
      "cell_type": "code",
      "source": [
        "pd.DataFrame(  p.loc['author','bibjson'] )"
      ],
      "execution_count": 0,
      "outputs": [
        {
          "output_type": "execute_result",
          "data": {
            "text/html": [
              "<div>\n",
              "<style scoped>\n",
              "    .dataframe tbody tr th:only-of-type {\n",
              "        vertical-align: middle;\n",
              "    }\n",
              "\n",
              "    .dataframe tbody tr th {\n",
              "        vertical-align: top;\n",
              "    }\n",
              "\n",
              "    .dataframe thead th {\n",
              "        text-align: right;\n",
              "    }\n",
              "</style>\n",
              "<table border=\"1\" class=\"dataframe\">\n",
              "  <thead>\n",
              "    <tr style=\"text-align: right;\">\n",
              "      <th></th>\n",
              "      <th>affiliation</th>\n",
              "      <th>name</th>\n",
              "    </tr>\n",
              "  </thead>\n",
              "  <tbody>\n",
              "    <tr>\n",
              "      <th>0</th>\n",
              "      <td>Physics Department, Universidad de los Andes, ...</td>\n",
              "      <td>Andrés Flórez</td>\n",
              "    </tr>\n",
              "    <tr>\n",
              "      <th>1</th>\n",
              "      <td>Department of Physics and Astronomy, Vanderbil...</td>\n",
              "      <td>Kaiwen Gui</td>\n",
              "    </tr>\n",
              "    <tr>\n",
              "      <th>2</th>\n",
              "      <td>Department of Physics and Astronomy, Vanderbil...</td>\n",
              "      <td>Alfredo Gurrola</td>\n",
              "    </tr>\n",
              "    <tr>\n",
              "      <th>3</th>\n",
              "      <td>Physics Department, Universidad de los Andes, ...</td>\n",
              "      <td>Carlos Patiño</td>\n",
              "    </tr>\n",
              "    <tr>\n",
              "      <th>4</th>\n",
              "      <td>Department of Physics, Universidad de Antioqui...</td>\n",
              "      <td>Diego Restrepo</td>\n",
              "    </tr>\n",
              "  </tbody>\n",
              "</table>\n",
              "</div>"
            ],
            "text/plain": [
              "                                         affiliation             name\n",
              "0  Physics Department, Universidad de los Andes, ...    Andrés Flórez\n",
              "1  Department of Physics and Astronomy, Vanderbil...       Kaiwen Gui\n",
              "2  Department of Physics and Astronomy, Vanderbil...  Alfredo Gurrola\n",
              "3  Physics Department, Universidad de los Andes, ...    Carlos Patiño\n",
              "4  Department of Physics, Universidad de Antioqui...   Diego Restrepo"
            ]
          },
          "metadata": {
            "tags": []
          },
          "execution_count": 18
        }
      ]
    },
    {
      "metadata": {
        "id": "JgUvVeR5KNNN",
        "colab_type": "code",
        "outputId": "b7c37bfd-cb6e-4da9-a9b1-607b0f71dd6f",
        "colab": {
          "base_uri": "https://localhost:8080/",
          "height": 141
        }
      },
      "cell_type": "code",
      "source": [
        "pd.DataFrame(  p.loc['identifier','bibjson'] )"
      ],
      "execution_count": 0,
      "outputs": [
        {
          "output_type": "execute_result",
          "data": {
            "text/html": [
              "<div>\n",
              "<style scoped>\n",
              "    .dataframe tbody tr th:only-of-type {\n",
              "        vertical-align: middle;\n",
              "    }\n",
              "\n",
              "    .dataframe tbody tr th {\n",
              "        vertical-align: top;\n",
              "    }\n",
              "\n",
              "    .dataframe thead th {\n",
              "        text-align: right;\n",
              "    }\n",
              "</style>\n",
              "<table border=\"1\" class=\"dataframe\">\n",
              "  <thead>\n",
              "    <tr style=\"text-align: right;\">\n",
              "      <th></th>\n",
              "      <th>id</th>\n",
              "      <th>type</th>\n",
              "    </tr>\n",
              "  </thead>\n",
              "  <tbody>\n",
              "    <tr>\n",
              "      <th>0</th>\n",
              "      <td>0370-2693</td>\n",
              "      <td>pissn</td>\n",
              "    </tr>\n",
              "    <tr>\n",
              "      <th>1</th>\n",
              "      <td>1873-2445</td>\n",
              "      <td>eissn</td>\n",
              "    </tr>\n",
              "    <tr>\n",
              "      <th>2</th>\n",
              "      <td>10.1016/j.physletb.2018.01.009</td>\n",
              "      <td>doi</td>\n",
              "    </tr>\n",
              "  </tbody>\n",
              "</table>\n",
              "</div>"
            ],
            "text/plain": [
              "                               id   type\n",
              "0                       0370-2693  pissn\n",
              "1                       1873-2445  eissn\n",
              "2  10.1016/j.physletb.2018.01.009    doi"
            ]
          },
          "metadata": {
            "tags": []
          },
          "execution_count": 19
        }
      ]
    },
    {
      "metadata": {
        "id": "EVHZfHm_Li8m",
        "colab_type": "code",
        "outputId": "7c3b511b-ef55-41de-b01b-9d3499472627",
        "colab": {
          "base_uri": "https://localhost:8080/",
          "height": 79
        }
      },
      "cell_type": "code",
      "source": [
        " pd.DataFrame( [p.loc['journal','bibjson'] ] )\n"
      ],
      "execution_count": 0,
      "outputs": [
        {
          "output_type": "execute_result",
          "data": {
            "text/html": [
              "<div>\n",
              "<style scoped>\n",
              "    .dataframe tbody tr th:only-of-type {\n",
              "        vertical-align: middle;\n",
              "    }\n",
              "\n",
              "    .dataframe tbody tr th {\n",
              "        vertical-align: top;\n",
              "    }\n",
              "\n",
              "    .dataframe thead th {\n",
              "        text-align: right;\n",
              "    }\n",
              "</style>\n",
              "<table border=\"1\" class=\"dataframe\">\n",
              "  <thead>\n",
              "    <tr style=\"text-align: right;\">\n",
              "      <th></th>\n",
              "      <th>country</th>\n",
              "      <th>issns</th>\n",
              "      <th>language</th>\n",
              "      <th>license</th>\n",
              "      <th>number</th>\n",
              "      <th>publisher</th>\n",
              "      <th>title</th>\n",
              "      <th>volume</th>\n",
              "    </tr>\n",
              "  </thead>\n",
              "  <tbody>\n",
              "    <tr>\n",
              "      <th>0</th>\n",
              "      <td>NL</td>\n",
              "      <td>[0370-2693, 1873-2445]</td>\n",
              "      <td>[EN]</td>\n",
              "      <td>[{u'url': u'http://www.elsevier.com/journals/p...</td>\n",
              "      <td>C</td>\n",
              "      <td>Elsevier</td>\n",
              "      <td>Physics Letters B</td>\n",
              "      <td>778</td>\n",
              "    </tr>\n",
              "  </tbody>\n",
              "</table>\n",
              "</div>"
            ],
            "text/plain": [
              "  country                   issns language  \\\n",
              "0      NL  [0370-2693, 1873-2445]     [EN]   \n",
              "\n",
              "                                             license number publisher  \\\n",
              "0  [{u'url': u'http://www.elsevier.com/journals/p...      C  Elsevier   \n",
              "\n",
              "               title volume  \n",
              "0  Physics Letters B    778  "
            ]
          },
          "metadata": {
            "tags": []
          },
          "execution_count": 24
        }
      ]
    },
    {
      "metadata": {
        "id": "tGvelHhSLq3B",
        "colab_type": "code",
        "outputId": "90d2232e-1140-4089-a285-2a3f274f7d87",
        "colab": {
          "base_uri": "https://localhost:8080/",
          "height": 79
        }
      },
      "cell_type": "code",
      "source": [
        "pd.DataFrame( p.loc['journal','bibjson']['license'] )"
      ],
      "execution_count": 0,
      "outputs": [
        {
          "output_type": "execute_result",
          "data": {
            "text/html": [
              "<div>\n",
              "<style scoped>\n",
              "    .dataframe tbody tr th:only-of-type {\n",
              "        vertical-align: middle;\n",
              "    }\n",
              "\n",
              "    .dataframe tbody tr th {\n",
              "        vertical-align: top;\n",
              "    }\n",
              "\n",
              "    .dataframe thead th {\n",
              "        text-align: right;\n",
              "    }\n",
              "</style>\n",
              "<table border=\"1\" class=\"dataframe\">\n",
              "  <thead>\n",
              "    <tr style=\"text-align: right;\">\n",
              "      <th></th>\n",
              "      <th>open_access</th>\n",
              "      <th>title</th>\n",
              "      <th>type</th>\n",
              "      <th>url</th>\n",
              "    </tr>\n",
              "  </thead>\n",
              "  <tbody>\n",
              "    <tr>\n",
              "      <th>0</th>\n",
              "      <td>True</td>\n",
              "      <td>CC BY</td>\n",
              "      <td>CC BY</td>\n",
              "      <td>http://www.elsevier.com/journals/physics-lette...</td>\n",
              "    </tr>\n",
              "  </tbody>\n",
              "</table>\n",
              "</div>"
            ],
            "text/plain": [
              "   open_access  title   type  \\\n",
              "0         True  CC BY  CC BY   \n",
              "\n",
              "                                                 url  \n",
              "0  http://www.elsevier.com/journals/physics-lette...  "
            ]
          },
          "metadata": {
            "tags": []
          },
          "execution_count": 25
        }
      ]
    },
    {
      "metadata": {
        "id": "KDV-pw1GMDTI",
        "colab_type": "code",
        "outputId": "df95adb1-d22f-4320-dd44-7ee3fb7f2c52",
        "colab": {
          "base_uri": "https://localhost:8080/",
          "height": 79
        }
      },
      "cell_type": "code",
      "source": [
        "pd.DataFrame(  p.loc['link','bibjson']  )"
      ],
      "execution_count": 0,
      "outputs": [
        {
          "output_type": "execute_result",
          "data": {
            "text/html": [
              "<div>\n",
              "<style scoped>\n",
              "    .dataframe tbody tr th:only-of-type {\n",
              "        vertical-align: middle;\n",
              "    }\n",
              "\n",
              "    .dataframe tbody tr th {\n",
              "        vertical-align: top;\n",
              "    }\n",
              "\n",
              "    .dataframe thead th {\n",
              "        text-align: right;\n",
              "    }\n",
              "</style>\n",
              "<table border=\"1\" class=\"dataframe\">\n",
              "  <thead>\n",
              "    <tr style=\"text-align: right;\">\n",
              "      <th></th>\n",
              "      <th>type</th>\n",
              "      <th>url</th>\n",
              "    </tr>\n",
              "  </thead>\n",
              "  <tbody>\n",
              "    <tr>\n",
              "      <th>0</th>\n",
              "      <td>fulltext</td>\n",
              "      <td>http://www.sciencedirect.com/science/article/p...</td>\n",
              "    </tr>\n",
              "  </tbody>\n",
              "</table>\n",
              "</div>"
            ],
            "text/plain": [
              "       type                                                url\n",
              "0  fulltext  http://www.sciencedirect.com/science/article/p..."
            ]
          },
          "metadata": {
            "tags": []
          },
          "execution_count": 28
        }
      ]
    },
    {
      "metadata": {
        "id": "NHez240DMkPM",
        "colab_type": "code",
        "colab": {}
      },
      "cell_type": "code",
      "source": [
        ""
      ],
      "execution_count": 0,
      "outputs": []
    }
  ]
}