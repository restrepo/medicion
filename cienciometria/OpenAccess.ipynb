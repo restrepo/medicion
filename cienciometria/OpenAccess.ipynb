{
 "cells": [
  {
   "cell_type": "markdown",
   "metadata": {
    "colab_type": "text",
    "id": "uu-sf4Ukvbb-"
   },
   "source": [
    "# Open Acces Analysis: UdeA\n",
    "Based in http://oadoi.org full DataBase\n",
    "\n",
    "[ES]\n",
    "Son los resultados de Open Access. de la UdeA que están basados en combinar las bases de datos Web of Science, SCOPUS y SCIELO lcon la base de datos de oadoi.org en JSON:\n",
    "\n",
    "De los 15550 artículos de la UdeA  se analizaron los 7990 que tienen DOI:\n",
    "\n",
    "* TOTAL: __7993__\n",
    "* Open Access (OA) Total: __3491__\n",
    "   1. OA Yellow: 1505\n",
    "   1. OA Green Total: 1986\n",
    "        *  OA Green en revistas OA:  1726\n",
    "        * OA Green en revistas no OA: 260\n",
    "\n",
    "De los __1726__  OA Green y usando la plataforma DOAJ, se logró identificar al APC de __1487__ artículos,  de los cuales __884__ no tienen cobro de APC, y __603__ tienen cobro de APC que convertiido a dolares da el monto total:\n",
    "\n",
    "APC para __603__ artículos:   908 493 USD\n",
    "\n",
    "Notebook (en mejoras. Para correrlo se debe instalar la extensión Colaboratory: http://bit.ly/Colaboratory,  de Google Drive):\n",
    "\n",
    "https://colab.research.google.com/github/restrepo/medicion/blob/master/cienciometria/OpenAccess.ipynb\n",
    "\n",
    "Bases de datos de resuiltados DOI UdeA con información OpenAcces y APC (EXCEL):\n",
    "\n",
    "http://bit.ly/oadois-udea\n"
   ]
  },
  {
   "cell_type": "markdown",
   "metadata": {
    "colab_type": "text",
    "id": "8-bNxmzTvjp4"
   },
   "source": [
    "## Load UDEA_DOIS"
   ]
  },
  {
   "cell_type": "code",
   "execution_count": 0,
   "metadata": {
    "colab": {},
    "colab_type": "code",
    "collapsed": true,
    "id": "kHZ5Lw4Bvsvm"
   },
   "outputs": [],
   "source": [
    "!pip install wosplus openpyxl currencyconverter > /dev/null"
   ]
  },
  {
   "cell_type": "code",
   "execution_count": 4,
   "metadata": {
    "colab": {
     "base_uri": "https://localhost:8080/",
     "height": 35
    },
    "colab_type": "code",
    "id": "myuigGH2v62c",
    "outputId": "640189d5-f310-423d-f4f3-2997d6595edf"
   },
   "outputs": [
    {
     "name": "stdout",
     "output_type": "stream",
     "text": [
      "Writing drive.cfg\n"
     ]
    }
   ],
   "source": [
    "%%writefile drive.cfg\n",
    "[FILES]\n",
    "DOIS.xlsx               = 1bikNT7Gmp4G7dfeMuGsF-az7D8lskK0O\n",
    "UDEA_WOS_SCI_SCP.xlsx   = 1o9otmklgh-0w18Avv2ZTKOXr3vZbjwvj\n",
    "oaudea.xlsx             = 1CcwobiEFACIbffNzNdLxpdxQukr8cZ5x"
   ]
  },
  {
   "cell_type": "code",
   "execution_count": 2,
   "metadata": {
    "colab": {},
    "colab_type": "code",
    "collapsed": true,
    "id": "MPUuyG2twGki"
   },
   "outputs": [],
   "source": [
    "import wosplus as wp\n",
    "import numpy as np\n",
    "import pandas as pd\n",
    "import os"
   ]
  },
  {
   "cell_type": "code",
   "execution_count": 5,
   "metadata": {
    "colab": {},
    "colab_type": "code",
    "collapsed": true,
    "id": "ZplUcp4P2qPM"
   },
   "outputs": [],
   "source": [
    "files=wp.wosplus('drive.cfg')"
   ]
  },
  {
   "cell_type": "code",
   "execution_count": 0,
   "metadata": {
    "colab": {},
    "colab_type": "code",
    "collapsed": true,
    "id": "So_zs_8v26NX"
   },
   "outputs": [],
   "source": [
    "dois=files.read_drive_excel('DOIS.xlsx')"
   ]
  },
  {
   "cell_type": "markdown",
   "metadata": {
    "colab_type": "text",
    "id": "XURNN28kjHdH"
   },
   "source": [
    "###  Total UDEA DOIs"
   ]
  },
  {
   "cell_type": "code",
   "execution_count": 0,
   "metadata": {
    "colab": {
     "base_uri": "https://localhost:8080/",
     "height": 35
    },
    "colab_type": "code",
    "id": "uCSsiMBEjF8I",
    "outputId": "d901d69f-8f7f-41db-8ddf-50ff3a0796ae"
   },
   "outputs": [
    {
     "data": {
      "text/plain": [
       "True"
      ]
     },
     "execution_count": 7,
     "metadata": {
      "tags": []
     },
     "output_type": "execute_result"
    }
   ],
   "source": [
    "dois.shape==(7993, 1)"
   ]
  },
  {
   "cell_type": "markdown",
   "metadata": {
    "colab_type": "text",
    "id": "GUf2D_x-ev44"
   },
   "source": [
    "## Normalize DOIS"
   ]
  },
  {
   "cell_type": "code",
   "execution_count": 0,
   "metadata": {
    "colab": {},
    "colab_type": "code",
    "collapsed": true,
    "id": "YHm8pevF6OD5"
   },
   "outputs": [],
   "source": [
    "dois['DI']=dois['DI'].str.lower()"
   ]
  },
  {
   "cell_type": "markdown",
   "metadata": {
    "colab_type": "text",
    "id": "28mCqwc0e0MH"
   },
   "source": [
    "## Load oadoi.org data\n",
    "Set the Working Directory in the place where the files with the oadoi.org data is located"
   ]
  },
  {
   "cell_type": "code",
   "execution_count": 0,
   "metadata": {
    "colab": {
     "base_uri": "https://localhost:8080/",
     "height": 35
    },
    "colab_type": "code",
    "id": "AG5ZII1A2-al",
    "outputId": "3db12baf-4052-4f88-85ab-2da87f7dc85e"
   },
   "outputs": [
    {
     "name": "stdout",
     "output_type": "stream",
     "text": [
      "Drive already mounted at /content/drive; to attempt to forcibly remount, call drive.mount(\"/content/drive\", force_remount=True).\n"
     ]
    }
   ],
   "source": [
    "# Load the Drive helper and mount\n",
    "from google.colab import drive\n",
    "\n",
    "# This will prompt for authorization.\n",
    "drive.mount('/content/drive')"
   ]
  },
  {
   "cell_type": "code",
   "execution_count": 0,
   "metadata": {
    "colab": {},
    "colab_type": "code",
    "collapsed": true,
    "id": "5zD1C7vC5Uf8"
   },
   "outputs": [],
   "source": [
    "WORK_DIR=\"drive/My Drive/Colab Notebooks/Data\"\n",
    "os.chdir(WORK_DIR)"
   ]
  },
  {
   "cell_type": "code",
   "execution_count": 0,
   "metadata": {
    "colab": {},
    "colab_type": "code",
    "collapsed": true,
    "id": "iel6BWO3Bpev"
   },
   "outputs": [],
   "source": [
    "oa=pd.read_csv('oadoi.csv')"
   ]
  },
  {
   "cell_type": "code",
   "execution_count": 0,
   "metadata": {
    "colab": {},
    "colab_type": "code",
    "collapsed": true,
    "id": "I9in8WruCvzn"
   },
   "outputs": [],
   "source": [
    "oa['DOI']=oa['DOI'].str.lower()"
   ]
  },
  {
   "cell_type": "code",
   "execution_count": 0,
   "metadata": {
    "colab": {},
    "colab_type": "code",
    "collapsed": true,
    "id": "FUBNWHPUDi99"
   },
   "outputs": [],
   "source": [
    "yellow=pd.read_csv('oayellowdois.csv')\n",
    "yellow['DOI']=yellow['DOI'].str.lower()"
   ]
  },
  {
   "cell_type": "code",
   "execution_count": 0,
   "metadata": {
    "colab": {},
    "colab_type": "code",
    "collapsed": true,
    "id": "zsC7rBxB88E4"
   },
   "outputs": [],
   "source": [
    "green=pd.read_csv('oagreendoissn.csv')\n",
    "green=green.fillna('')\n",
    "green['DOI']=green['DOI'].str.lower()"
   ]
  },
  {
   "cell_type": "code",
   "execution_count": 0,
   "metadata": {
    "colab": {},
    "colab_type": "code",
    "collapsed": true,
    "id": "12BzMRbLAOPA"
   },
   "outputs": [],
   "source": [
    "greenarticle=pd.read_csv('oagreenarticledois.csv')\n",
    "greenarticle['DOI']=greenarticle['DOI'].str.lower()"
   ]
  },
  {
   "cell_type": "markdown",
   "metadata": {
    "colab_type": "text",
    "id": "w9mHNzmKe5jH"
   },
   "source": [
    "## Merge"
   ]
  },
  {
   "cell_type": "markdown",
   "metadata": {
    "colab_type": "text",
    "id": "FGJ0t0RNfQmV"
   },
   "source": [
    "### Full Open Acces DOIS"
   ]
  },
  {
   "cell_type": "code",
   "execution_count": 0,
   "metadata": {
    "colab": {
     "base_uri": "https://localhost:8080/",
     "height": 35
    },
    "colab_type": "code",
    "id": "h31zIic3CN4-",
    "outputId": "20f55c5b-9915-4753-dfd4-8a3a2ca404e1"
   },
   "outputs": [
    {
     "data": {
      "text/plain": [
       "True"
      ]
     },
     "execution_count": 16,
     "metadata": {
      "tags": []
     },
     "output_type": "execute_result"
    }
   ],
   "source": [
    "oafdois=dois.merge(oa,left_on='DI',right_on='DOI',how='left')\n",
    "oafdois=oafdois.fillna('')\n",
    "oafdois[oafdois.DOI!=''].shape==(3491, 2)"
   ]
  },
  {
   "cell_type": "code",
   "execution_count": 0,
   "metadata": {
    "colab": {},
    "colab_type": "code",
    "collapsed": true,
    "id": "vOFg9jtODMOK"
   },
   "outputs": [],
   "source": [
    "oafdois=oafdois.rename({'DOI':'Open_Access'}, axis = 'columns')"
   ]
  },
  {
   "cell_type": "markdown",
   "metadata": {
    "colab_type": "text",
    "id": "ZhI8JX1BfWrD"
   },
   "source": [
    "### Yellow Open Access  DOIS"
   ]
  },
  {
   "cell_type": "code",
   "execution_count": 0,
   "metadata": {
    "colab": {},
    "colab_type": "code",
    "collapsed": true,
    "id": "BnXC-5Ki5sdi"
   },
   "outputs": [],
   "source": [
    "oayellowdois=oafdois.merge(yellow,left_on='DI',right_on='DOI',how='left')\n",
    "oayellowdois=oayellowdois.fillna('')\n",
    "oayellowdois=oayellowdois.rename({'DOI':'OA_Yellow'}, axis = 'columns')"
   ]
  },
  {
   "cell_type": "code",
   "execution_count": 0,
   "metadata": {
    "colab": {
     "base_uri": "https://localhost:8080/",
     "height": 35
    },
    "colab_type": "code",
    "id": "35hwc_31D2kC",
    "outputId": "65255b40-bf2a-4b93-c9be-b14bdecbcc5d"
   },
   "outputs": [
    {
     "data": {
      "text/plain": [
       "True"
      ]
     },
     "execution_count": 19,
     "metadata": {
      "tags": []
     },
     "output_type": "execute_result"
    }
   ],
   "source": [
    "oayellowdois[oayellowdois['OA_Yellow']!=''].shape==(1505, 3)"
   ]
  },
  {
   "cell_type": "markdown",
   "metadata": {
    "colab_type": "text",
    "id": "sAMisBVAfgdg"
   },
   "source": [
    "### Green Open Access DOIs in Open Access journals"
   ]
  },
  {
   "cell_type": "code",
   "execution_count": 0,
   "metadata": {
    "colab": {},
    "colab_type": "code",
    "collapsed": true,
    "id": "2DQDehyS-BxP"
   },
   "outputs": [],
   "source": [
    "oaygdois=oayellowdois.merge(green,left_on='DI',right_on='DOI',how='left')\n",
    "oaygdois=oaygdois.fillna('')\n",
    "oaygdois=oaygdois.rename({'DOI':'OA_Green'}, axis = 'columns')"
   ]
  },
  {
   "cell_type": "code",
   "execution_count": 0,
   "metadata": {
    "colab": {
     "base_uri": "https://localhost:8080/",
     "height": 35
    },
    "colab_type": "code",
    "id": "nHoK3iNI-UND",
    "outputId": "fa3edd57-3a33-48ae-f80c-e160e18e85ed"
   },
   "outputs": [
    {
     "data": {
      "text/plain": [
       "True"
      ]
     },
     "execution_count": 21,
     "metadata": {
      "tags": []
     },
     "output_type": "execute_result"
    }
   ],
   "source": [
    "oaygdois[oaygdois['OA_Green']!=''].shape==(1726, 5)"
   ]
  },
  {
   "cell_type": "markdown",
   "metadata": {
    "colab_type": "text",
    "id": "CVRNATDOfofz"
   },
   "source": [
    "check"
   ]
  },
  {
   "cell_type": "code",
   "execution_count": 0,
   "metadata": {
    "colab": {
     "base_uri": "https://localhost:8080/",
     "height": 35
    },
    "colab_type": "code",
    "id": "JB6UH1gUAVwy",
    "outputId": "35d4a968-61c8-422c-9e5f-448c106a29ed"
   },
   "outputs": [
    {
     "data": {
      "text/plain": [
       "True"
      ]
     },
     "execution_count": 22,
     "metadata": {
      "tags": []
     },
     "output_type": "execute_result"
    }
   ],
   "source": [
    "oaygdois[np.logical_or(oaygdois.OA_Yellow!='' ,oaygdois.OA_Green!='')].shape==(1505+1726,5)"
   ]
  },
  {
   "cell_type": "markdown",
   "metadata": {
    "colab_type": "text",
    "id": "jAciPw5LfujW"
   },
   "source": [
    "### Green Open Access  DOIS in closed journals \n",
    "\n",
    " "
   ]
  },
  {
   "cell_type": "code",
   "execution_count": 0,
   "metadata": {
    "colab": {},
    "colab_type": "code",
    "collapsed": true,
    "id": "igoJcM80E8mO"
   },
   "outputs": [],
   "source": [
    "oadois=oaygdois.merge(greenarticle,left_on='DI',right_on='DOI',how='left')\n",
    "oadois=oadois.fillna('')\n",
    "oadois=oadois.rename({'DOI':'OA_Green_Article'}, axis = 'columns')"
   ]
  },
  {
   "cell_type": "code",
   "execution_count": 0,
   "metadata": {
    "colab": {
     "base_uri": "https://localhost:8080/",
     "height": 35
    },
    "colab_type": "code",
    "id": "LR9Fu3sbFWMN",
    "outputId": "4716b616-fd52-40d1-f55a-4654520aa600"
   },
   "outputs": [
    {
     "data": {
      "text/plain": [
       "True"
      ]
     },
     "execution_count": 24,
     "metadata": {
      "tags": []
     },
     "output_type": "execute_result"
    }
   ],
   "source": [
    "oadois[oadois['OA_Green_Article']!=''].shape==(260,6)"
   ]
  },
  {
   "cell_type": "markdown",
   "metadata": {
    "colab_type": "text",
    "id": "3Qohv1-9f6fq"
   },
   "source": [
    "### Check full Open Access DOIS:"
   ]
  },
  {
   "cell_type": "code",
   "execution_count": 0,
   "metadata": {
    "colab": {
     "base_uri": "https://localhost:8080/",
     "height": 35
    },
    "colab_type": "code",
    "id": "io6qVlcWGADj",
    "outputId": "b65e7039-69b9-42ae-a660-496c7c5440cd"
   },
   "outputs": [
    {
     "data": {
      "text/plain": [
       "True"
      ]
     },
     "execution_count": 25,
     "metadata": {
      "tags": []
     },
     "output_type": "execute_result"
    }
   ],
   "source": [
    "oadois[np.logical_or( np.logical_or(oadois.OA_Yellow!='' ,oadois.OA_Green!=''),oadois.OA_Green_Article!='')].shape==(1505+1726+260,6)"
   ]
  },
  {
   "cell_type": "markdown",
   "metadata": {
    "colab_type": "text",
    "id": "fC3P9u12f891"
   },
   "source": [
    "Save preliminary results"
   ]
  },
  {
   "cell_type": "code",
   "execution_count": 0,
   "metadata": {
    "colab": {},
    "colab_type": "code",
    "collapsed": true,
    "id": "jDmSjQ-FFsoE"
   },
   "outputs": [],
   "source": [
    "REBUILD_DB=False\n",
    "if REBUILD_DB:\n",
    "    oadois.to_excel('oaudea.xlsx',index=False)"
   ]
  },
  {
   "cell_type": "markdown",
   "metadata": {
    "colab_type": "text",
    "id": "NdgG4_9FgPAv"
   },
   "source": [
    "checks:"
   ]
  },
  {
   "cell_type": "code",
   "execution_count": 0,
   "metadata": {
    "colab": {
     "base_uri": "https://localhost:8080/",
     "height": 79
    },
    "colab_type": "code",
    "id": "_wzK_NSHXw3y",
    "outputId": "041bb054-408a-4972-8e0a-350df83c24d5"
   },
   "outputs": [
    {
     "data": {
      "text/html": [
       "<div>\n",
       "<style scoped>\n",
       "    .dataframe tbody tr th:only-of-type {\n",
       "        vertical-align: middle;\n",
       "    }\n",
       "\n",
       "    .dataframe tbody tr th {\n",
       "        vertical-align: top;\n",
       "    }\n",
       "\n",
       "    .dataframe thead th {\n",
       "        text-align: right;\n",
       "    }\n",
       "</style>\n",
       "<table border=\"1\" class=\"dataframe\">\n",
       "  <thead>\n",
       "    <tr style=\"text-align: right;\">\n",
       "      <th></th>\n",
       "      <th>DI</th>\n",
       "      <th>Open_Access</th>\n",
       "      <th>OA_Yellow</th>\n",
       "      <th>OA_Green</th>\n",
       "      <th>ISSNs</th>\n",
       "      <th>OA_Green_Article</th>\n",
       "    </tr>\n",
       "  </thead>\n",
       "  <tbody>\n",
       "    <tr>\n",
       "      <th>0</th>\n",
       "      <td>10.7705/biomedica.v37i3.4058</td>\n",
       "      <td>10.7705/biomedica.v37i3.4058</td>\n",
       "      <td>10.7705/biomedica.v37i3.4058</td>\n",
       "      <td></td>\n",
       "      <td></td>\n",
       "      <td></td>\n",
       "    </tr>\n",
       "  </tbody>\n",
       "</table>\n",
       "</div>"
      ],
      "text/plain": [
       "                             DI                   Open_Access  \\\n",
       "0  10.7705/biomedica.v37i3.4058  10.7705/biomedica.v37i3.4058   \n",
       "\n",
       "                      OA_Yellow OA_Green ISSNs OA_Green_Article  \n",
       "0  10.7705/biomedica.v37i3.4058                                  "
      ]
     },
     "execution_count": 27,
     "metadata": {
      "tags": []
     },
     "output_type": "execute_result"
    }
   ],
   "source": [
    "oadois[:1]"
   ]
  },
  {
   "cell_type": "code",
   "execution_count": 0,
   "metadata": {
    "colab": {
     "base_uri": "https://localhost:8080/",
     "height": 35
    },
    "colab_type": "code",
    "id": "OZHIrCcoX8Hp",
    "outputId": "bef7a7aa-6698-4f8a-f83b-c381f814c6b3"
   },
   "outputs": [
    {
     "data": {
      "text/plain": [
       "True"
      ]
     },
     "execution_count": 30,
     "metadata": {
      "tags": []
     },
     "output_type": "execute_result"
    }
   ],
   "source": [
    "oadois.shape==(7993, 6)"
   ]
  },
  {
   "cell_type": "markdown",
   "metadata": {
    "colab_type": "text",
    "id": "IZfmQ02yyY6a"
   },
   "source": [
    "## Load UDEA articles"
   ]
  },
  {
   "cell_type": "code",
   "execution_count": 0,
   "metadata": {
    "colab": {},
    "colab_type": "code",
    "collapsed": true,
    "id": "zZvi0b24WKeY"
   },
   "outputs": [],
   "source": [
    "udea=files.read_drive_excel('UDEA_WOS_SCI_SCP.xlsx')\n",
    "udea=wp.fill_NaN(udea)"
   ]
  },
  {
   "cell_type": "code",
   "execution_count": 0,
   "metadata": {
    "colab": {},
    "colab_type": "code",
    "collapsed": true,
    "id": "veMZCDkFehHN"
   },
   "outputs": [],
   "source": [
    "udea['DI']=udea['DI'].str.lower()"
   ]
  },
  {
   "cell_type": "markdown",
   "metadata": {
    "colab_type": "text",
    "id": "9OkXeLPRWHxR"
   },
   "source": [
    "### Check with Scopus Open Access information"
   ]
  },
  {
   "cell_type": "code",
   "execution_count": 0,
   "metadata": {
    "colab": {},
    "colab_type": "code",
    "collapsed": true,
    "id": "urYzhHe1WlTa"
   },
   "outputs": [],
   "source": [
    "oascp=udea[udea['SCP_Access Type']=='Open Access'].reset_index(drop=True)"
   ]
  },
  {
   "cell_type": "markdown",
   "metadata": {
    "colab_type": "text",
    "id": "CEfV1IHegV0x"
   },
   "source": [
    "#### Misssing Open Access articles wihtout DOI"
   ]
  },
  {
   "cell_type": "code",
   "execution_count": 0,
   "metadata": {
    "colab": {
     "base_uri": "https://localhost:8080/",
     "height": 405
    },
    "colab_type": "code",
    "id": "_dSyA1hwXKB4",
    "outputId": "ce184b7e-7265-4fac-caad-44abfdb5eb1d"
   },
   "outputs": [
    {
     "data": {
      "text/plain": [
       "395    REVISTA BRASILEIRA DE FARMACOGNOSIA-BRAZILIAN ...\n",
       "396             BRAZILIAN JOURNAL OF INFECTIOUS DISEASES\n",
       "397                     Revista de la educación superior\n",
       "398                                     Gaceta Sanitaria\n",
       "400                                    ATENCION PRIMARIA\n",
       "401                 Revista Colombiana de Anestesiología\n",
       "402                 Revista Colombiana de Anestesiología\n",
       "403                 Revista Colombiana de Anestesiología\n",
       "405                 Revista Colombiana de Anestesiología\n",
       "406                 Revista Colombiana de Anestesiología\n",
       "407                      Revista argentina de radiología\n",
       "408           Corpoica Ciencia y Tecnología Agropecuaria\n",
       "409                    Revista Colombiana de Cardiología\n",
       "410           Corpoica Ciencia y Tecnología Agropecuaria\n",
       "411           Corpoica Ciencia y Tecnología Agropecuaria\n",
       "412                     Revista de la educación superior\n",
       "413                                             Infectio\n",
       "414                    Revista Colombiana de Cardiología\n",
       "415                                             Infectio\n",
       "416                                 Agronomía Colombiana\n",
       "Name: SO, dtype: object"
      ]
     },
     "execution_count": 31,
     "metadata": {
      "tags": []
     },
     "output_type": "execute_result"
    }
   ],
   "source": [
    "oascp[oascp['DI']==''].SO"
   ]
  },
  {
   "cell_type": "markdown",
   "metadata": {
    "colab_type": "text",
    "id": "NN0ai-5pZvMG"
   },
   "source": [
    "#### Quality check:  \n",
    "Scopus has Open Access information; Expected 0 news:"
   ]
  },
  {
   "cell_type": "code",
   "execution_count": 0,
   "metadata": {
    "colab": {},
    "colab_type": "code",
    "collapsed": true,
    "id": "QUOB5x5skqTU"
   },
   "outputs": [],
   "source": [
    "oascp['OA_SCP']=oascp['DI']"
   ]
  },
  {
   "cell_type": "code",
   "execution_count": 0,
   "metadata": {
    "colab": {},
    "colab_type": "code",
    "collapsed": true,
    "id": "UHLcXTHmXdRJ"
   },
   "outputs": [],
   "source": [
    "kk=oascp[oascp['OA_SCP']!=''][['OA_SCP']].merge(oadois,left_on='OA_SCP',right_on='Open_Access',how='left')"
   ]
  },
  {
   "cell_type": "code",
   "execution_count": 0,
   "metadata": {
    "colab": {
     "base_uri": "https://localhost:8080/",
     "height": 35
    },
    "colab_type": "code",
    "id": "0lxEBJ90ZovB",
    "outputId": "781da072-4a84-4dd7-adac-ef428847a237"
   },
   "outputs": [
    {
     "data": {
      "text/plain": [
       "(0, 7)"
      ]
     },
     "execution_count": 34,
     "metadata": {
      "tags": []
     },
     "output_type": "execute_result"
    }
   ],
   "source": [
    "kk[kk['Open_Access']==''].shape"
   ]
  },
  {
   "cell_type": "markdown",
   "metadata": {
    "colab_type": "text",
    "id": "_3l6qgmtW-vr"
   },
   "source": [
    "## APC from DOAJ. ISSNs are required"
   ]
  },
  {
   "cell_type": "markdown",
   "metadata": {
    "colab_type": "text",
    "id": "fXBD6Mzsjfg3"
   },
   "source": [
    "### Normalize ISSNs"
   ]
  },
  {
   "cell_type": "code",
   "execution_count": 0,
   "metadata": {
    "colab": {
     "base_uri": "https://localhost:8080/",
     "height": 79
    },
    "colab_type": "code",
    "id": "vfqFb1Y2dbbK",
    "outputId": "c72604f6-5844-492f-b3af-0ea82d82b4c8"
   },
   "outputs": [
    {
     "data": {
      "text/html": [
       "<div>\n",
       "<style scoped>\n",
       "    .dataframe tbody tr th:only-of-type {\n",
       "        vertical-align: middle;\n",
       "    }\n",
       "\n",
       "    .dataframe tbody tr th {\n",
       "        vertical-align: top;\n",
       "    }\n",
       "\n",
       "    .dataframe thead th {\n",
       "        text-align: right;\n",
       "    }\n",
       "</style>\n",
       "<table border=\"1\" class=\"dataframe\">\n",
       "  <thead>\n",
       "    <tr style=\"text-align: right;\">\n",
       "      <th></th>\n",
       "      <th>DI</th>\n",
       "      <th>SN</th>\n",
       "      <th>EI</th>\n",
       "      <th>SCI_SN</th>\n",
       "      <th>SCP_ISSN</th>\n",
       "    </tr>\n",
       "  </thead>\n",
       "  <tbody>\n",
       "    <tr>\n",
       "      <th>8252</th>\n",
       "      <td>10.1109/cerma.2010.131</td>\n",
       "      <td></td>\n",
       "      <td></td>\n",
       "      <td></td>\n",
       "      <td></td>\n",
       "    </tr>\n",
       "  </tbody>\n",
       "</table>\n",
       "</div>"
      ],
      "text/plain": [
       "                          DI SN EI SCI_SN SCP_ISSN\n",
       "8252  10.1109/cerma.2010.131                      "
      ]
     },
     "execution_count": 33,
     "metadata": {
      "tags": []
     },
     "output_type": "execute_result"
    }
   ],
   "source": [
    "udea[ udea['DI'].str.lower().str.contains('10.1109/cerma.2010.131') ][['DI','SN','EI','SCI_SN','SCP_ISSN']]"
   ]
  },
  {
   "cell_type": "code",
   "execution_count": 0,
   "metadata": {
    "colab": {
     "base_uri": "https://localhost:8080/",
     "height": 54
    },
    "colab_type": "code",
    "id": "OUArcIuVaIdG",
    "outputId": "3d2dcb5a-c8ba-43fb-ae19-9823119ad8d4"
   },
   "outputs": [
    {
     "data": {
      "text/plain": [
       "0    0002-9378\\n\n",
       "Name: SN, dtype: object"
      ]
     },
     "execution_count": 34,
     "metadata": {
      "tags": []
     },
     "output_type": "execute_result"
    }
   ],
   "source": [
    "udea['SN'][:1]"
   ]
  },
  {
   "cell_type": "code",
   "execution_count": 0,
   "metadata": {
    "colab": {
     "base_uri": "https://localhost:8080/",
     "height": 54
    },
    "colab_type": "code",
    "id": "kdTIlSCuaZJ8",
    "outputId": "d4600513-6b62-4c17-9ae3-7d6d70355caf"
   },
   "outputs": [
    {
     "data": {
      "text/plain": [
       "1186    2175-7968\\n\n",
       "Name: SCI_SN, dtype: object"
      ]
     },
     "execution_count": 35,
     "metadata": {
      "tags": []
     },
     "output_type": "execute_result"
    }
   ],
   "source": [
    "udea[ udea['SCI_SN']!='' ].SCI_SN[:1]"
   ]
  },
  {
   "cell_type": "markdown",
   "metadata": {
    "colab_type": "text",
    "id": "0xfgjWnmgvQb"
   },
   "source": [
    "Combine ISSNs"
   ]
  },
  {
   "cell_type": "code",
   "execution_count": 0,
   "metadata": {
    "colab": {},
    "colab_type": "code",
    "collapsed": true,
    "id": "DNiq5odVGIVZ"
   },
   "outputs": [],
   "source": [
    "import numpy as np"
   ]
  },
  {
   "cell_type": "markdown",
   "metadata": {
    "colab_type": "text",
    "id": "d_Rh1JoVajKL"
   },
   "source": [
    "TODO: Move to WOSplus normalization"
   ]
  },
  {
   "cell_type": "code",
   "execution_count": 0,
   "metadata": {
    "colab": {},
    "colab_type": "code",
    "collapsed": true,
    "id": "HXWpL2rHEU1Q"
   },
   "outputs": [],
   "source": [
    "udea['ISSNWOS']=( udea['SN']+udea['EI']+udea['SCI_SN']+udea['SCP_ISSN'].str.replace('(^[a-zA-Z0-9]{4})([a-zA-Z0-9]{4}$)',r'\\1-\\2\\n')\n",
    "                                            ).str.split('\\n').str[:-1].apply(np.unique).apply(','.join)"
   ]
  },
  {
   "cell_type": "markdown",
   "metadata": {
    "colab_type": "text",
    "id": "KvxjTTYezCBR"
   },
   "source": [
    "### Add normalized ISSNs to Open Acces DataFrame"
   ]
  },
  {
   "cell_type": "code",
   "execution_count": 0,
   "metadata": {
    "colab": {
     "base_uri": "https://localhost:8080/",
     "height": 79
    },
    "colab_type": "code",
    "id": "TGfsDWg4c9tQ",
    "outputId": "1520624b-5528-48de-c018-3477389247d8"
   },
   "outputs": [
    {
     "data": {
      "text/html": [
       "<div>\n",
       "<style scoped>\n",
       "    .dataframe tbody tr th:only-of-type {\n",
       "        vertical-align: middle;\n",
       "    }\n",
       "\n",
       "    .dataframe tbody tr th {\n",
       "        vertical-align: top;\n",
       "    }\n",
       "\n",
       "    .dataframe thead th {\n",
       "        text-align: right;\n",
       "    }\n",
       "</style>\n",
       "<table border=\"1\" class=\"dataframe\">\n",
       "  <thead>\n",
       "    <tr style=\"text-align: right;\">\n",
       "      <th></th>\n",
       "      <th>DI</th>\n",
       "      <th>Open_Access</th>\n",
       "      <th>OA_Yellow</th>\n",
       "      <th>OA_Green</th>\n",
       "      <th>ISSNs</th>\n",
       "      <th>OA_Green_Article</th>\n",
       "    </tr>\n",
       "  </thead>\n",
       "  <tbody>\n",
       "    <tr>\n",
       "      <th>0</th>\n",
       "      <td>10.7705/biomedica.v37i3.4058</td>\n",
       "      <td>10.7705/biomedica.v37i3.4058</td>\n",
       "      <td>10.7705/biomedica.v37i3.4058</td>\n",
       "      <td></td>\n",
       "      <td></td>\n",
       "      <td></td>\n",
       "    </tr>\n",
       "  </tbody>\n",
       "</table>\n",
       "</div>"
      ],
      "text/plain": [
       "                             DI                   Open_Access  \\\n",
       "0  10.7705/biomedica.v37i3.4058  10.7705/biomedica.v37i3.4058   \n",
       "\n",
       "                      OA_Yellow OA_Green ISSNs OA_Green_Article  \n",
       "0  10.7705/biomedica.v37i3.4058                                  "
      ]
     },
     "execution_count": 39,
     "metadata": {
      "tags": []
     },
     "output_type": "execute_result"
    }
   ],
   "source": [
    "oadois[:1]"
   ]
  },
  {
   "cell_type": "markdown",
   "metadata": {
    "colab_type": "text",
    "id": "IFl526Oqg01o"
   },
   "source": [
    "Add ISSN column to DOIs database"
   ]
  },
  {
   "cell_type": "code",
   "execution_count": 0,
   "metadata": {
    "colab": {},
    "colab_type": "code",
    "collapsed": true,
    "id": "Xvkdr66oWerz"
   },
   "outputs": [],
   "source": [
    "udeadois=oadois.merge( udea[['DI','ISSNWOS']],on='DI',how='left')  "
   ]
  },
  {
   "cell_type": "code",
   "execution_count": 0,
   "metadata": {
    "colab": {},
    "colab_type": "code",
    "collapsed": true,
    "id": "lrR3KiwzgL5X"
   },
   "outputs": [],
   "source": [
    "udeadois=udeadois.fillna('')"
   ]
  },
  {
   "cell_type": "markdown",
   "metadata": {
    "colab_type": "text",
    "id": "VKKMUL70HlO5"
   },
   "source": [
    "TODO: 10.7705/biomedica.v37i3.4058\t was missindentified as Yellow when really is Green:"
   ]
  },
  {
   "cell_type": "code",
   "execution_count": 0,
   "metadata": {
    "colab": {
     "base_uri": "https://localhost:8080/",
     "height": 141
    },
    "colab_type": "code",
    "id": "gWEWFM1PG8NX",
    "outputId": "68e78aa6-4fc5-44ab-dcaa-eddb047e543f"
   },
   "outputs": [
    {
     "data": {
      "text/html": [
       "<div>\n",
       "<style scoped>\n",
       "    .dataframe tbody tr th:only-of-type {\n",
       "        vertical-align: middle;\n",
       "    }\n",
       "\n",
       "    .dataframe tbody tr th {\n",
       "        vertical-align: top;\n",
       "    }\n",
       "\n",
       "    .dataframe thead th {\n",
       "        text-align: right;\n",
       "    }\n",
       "</style>\n",
       "<table border=\"1\" class=\"dataframe\">\n",
       "  <thead>\n",
       "    <tr style=\"text-align: right;\">\n",
       "      <th></th>\n",
       "      <th>DI</th>\n",
       "      <th>Open_Access</th>\n",
       "      <th>OA_Yellow</th>\n",
       "      <th>OA_Green</th>\n",
       "      <th>ISSNs</th>\n",
       "      <th>OA_Green_Article</th>\n",
       "      <th>ISSNWOS</th>\n",
       "    </tr>\n",
       "  </thead>\n",
       "  <tbody>\n",
       "    <tr>\n",
       "      <th>0</th>\n",
       "      <td>10.7705/biomedica.v37i3.4058</td>\n",
       "      <td>10.7705/biomedica.v37i3.4058</td>\n",
       "      <td>10.7705/biomedica.v37i3.4058</td>\n",
       "      <td></td>\n",
       "      <td></td>\n",
       "      <td></td>\n",
       "      <td>0120-4157</td>\n",
       "    </tr>\n",
       "    <tr>\n",
       "      <th>1</th>\n",
       "      <td>10.1016/j.actatropica.2017.11.004</td>\n",
       "      <td></td>\n",
       "      <td></td>\n",
       "      <td></td>\n",
       "      <td></td>\n",
       "      <td></td>\n",
       "      <td>0001-706X,1873-6254</td>\n",
       "    </tr>\n",
       "    <tr>\n",
       "      <th>2</th>\n",
       "      <td>10.1186/s40104-017-0225-x</td>\n",
       "      <td>10.1186/s40104-017-0225-x</td>\n",
       "      <td></td>\n",
       "      <td>10.1186/s40104-017-0225-x</td>\n",
       "      <td>2049-1891</td>\n",
       "      <td></td>\n",
       "      <td>2049-1891</td>\n",
       "    </tr>\n",
       "  </tbody>\n",
       "</table>\n",
       "</div>"
      ],
      "text/plain": [
       "                                  DI                   Open_Access  \\\n",
       "0       10.7705/biomedica.v37i3.4058  10.7705/biomedica.v37i3.4058   \n",
       "1  10.1016/j.actatropica.2017.11.004                                 \n",
       "2          10.1186/s40104-017-0225-x     10.1186/s40104-017-0225-x   \n",
       "\n",
       "                      OA_Yellow                   OA_Green      ISSNs  \\\n",
       "0  10.7705/biomedica.v37i3.4058                                         \n",
       "1                                                                       \n",
       "2                                10.1186/s40104-017-0225-x  2049-1891   \n",
       "\n",
       "  OA_Green_Article              ISSNWOS  \n",
       "0                             0120-4157  \n",
       "1                   0001-706X,1873-6254  \n",
       "2                             2049-1891  "
      ]
     },
     "execution_count": 42,
     "metadata": {
      "tags": []
     },
     "output_type": "execute_result"
    }
   ],
   "source": [
    "udeadois[:3]"
   ]
  },
  {
   "cell_type": "markdown",
   "metadata": {
    "colab_type": "text",
    "id": "7mIUI-Pxg-jj"
   },
   "source": [
    "###  Search APC  in DOAJ\n",
    "We only search for official ISSNs for aodoi.org defined for OA Green articles. TODO: Search for all ISSNWOS"
   ]
  },
  {
   "cell_type": "code",
   "execution_count": 0,
   "metadata": {
    "colab": {},
    "colab_type": "code",
    "collapsed": true,
    "id": "N0KIzeBRa8qS"
   },
   "outputs": [],
   "source": [
    "def get_APC(issn):\n",
    "    from bs4 import BeautifulSoup\n",
    "    import requests\n",
    "    import random\n",
    "    import time\n",
    "\n",
    "    url='https://doaj.org/toc/{}'.format(issn)\n",
    "    r=requests.get(url)\n",
    "    soup=BeautifulSoup(r.text)\n",
    "    try:\n",
    "        APC=soup.find_all('div',{\"class\":\"box slim\"})[0].contents[3].contents[2].strip()\n",
    "        # Found and empty:  APC: No.\n",
    "        if not APC:\n",
    "            APC='0NOT'\n",
    "    except:\n",
    "        APC=''\n",
    "        \n",
    "    time.sleep(random.randint(1,3))    \n",
    "    return APC"
   ]
  },
  {
   "cell_type": "markdown",
   "metadata": {
    "colab_type": "text",
    "id": "BQa5MzAeg-JH"
   },
   "source": [
    "check"
   ]
  },
  {
   "cell_type": "code",
   "execution_count": 0,
   "metadata": {
    "colab": {
     "base_uri": "https://localhost:8080/",
     "height": 35
    },
    "colab_type": "code",
    "id": "qEBIqS2ohxjp",
    "outputId": "050360ff-3a00-4213-db02-7daf648e678e"
   },
   "outputs": [
    {
     "data": {
      "text/plain": [
       "'1165GBP'"
      ]
     },
     "execution_count": 112,
     "metadata": {
      "tags": []
     },
     "output_type": "execute_result"
    }
   ],
   "source": [
    "sn='2045-2322'#'0120-4157'#'2045-2322'#'0960-9822'#'2211-3797'\n",
    "get_APC(sn)"
   ]
  },
  {
   "cell_type": "markdown",
   "metadata": {
    "colab_type": "text",
    "id": "_8faI5JhhAdi"
   },
   "source": [
    "Get for all ISSNs"
   ]
  },
  {
   "cell_type": "code",
   "execution_count": 0,
   "metadata": {
    "colab": {
     "base_uri": "https://localhost:8080/",
     "height": 35
    },
    "colab_type": "code",
    "id": "bwELJ4aHzhzf",
    "outputId": "d412e14f-b770-4d76-a03a-929c74b74150"
   },
   "outputs": [
    {
     "data": {
      "text/plain": [
       "(484,)"
      ]
     },
     "execution_count": 44,
     "metadata": {
      "tags": []
     },
     "output_type": "execute_result"
    }
   ],
   "source": [
    "udeadois[ udeadois['ISSNs']!='' ].ISSNs.unique().shape"
   ]
  },
  {
   "cell_type": "code",
   "execution_count": 0,
   "metadata": {
    "colab": {},
    "colab_type": "code",
    "collapsed": true,
    "id": "FVfHSHQt9GIq"
   },
   "outputs": [],
   "source": [
    "REBUILD_APC=False\n",
    "if REBUILD_APC:\n",
    "    apcs=[] \n",
    "    for snl in udeadois[ udeadois['ISSNs']!='' ].ISSNs.unique():\n",
    "        for sn in snl.split(','):\n",
    "            xapc=get_APC(sn)\n",
    "            if xapc:\n",
    "                apcs.append({'OAGISSN':snl,'APC':xapc})\n",
    "                break\n",
    "                \n",
    "    apcf=pd.DataFrame( apcs )\n",
    "    apcf=apcf.fillna('')\n",
    "    apc=apcf[apcf.APC!=''].reset_index(drop=True)"
   ]
  },
  {
   "cell_type": "markdown",
   "metadata": {
    "colab_type": "text",
    "id": "1rLAPS_4hGsw"
   },
   "source": [
    "Conver to APC local currency to USD Dollars"
   ]
  },
  {
   "cell_type": "code",
   "execution_count": 0,
   "metadata": {
    "colab": {},
    "colab_type": "code",
    "collapsed": true,
    "id": "K0Z9jJT6lqfe"
   },
   "outputs": [],
   "source": [
    "import re\n",
    "from currency_converter import CurrencyConverter\n",
    "c = CurrencyConverter()\n",
    "\n",
    "def usd(APC):\n",
    "    import sys\n",
    "    apcusd=0\n",
    "    i=re.search(r\"([0-9\\.\\,]+)([a-zA-Z]+)\",APC)\n",
    "    items=i.groups()\n",
    "    if len(items)==2:\n",
    "        try:\n",
    "            apcusd=c.convert(float(items[0]),items[1],'USD')\n",
    "\n",
    "        #capture error message: https://stackoverflow.com/a/4690655        \n",
    "        except ValueError as e: \n",
    "            #Missing currencies\n",
    "            COP_to_USD=1/3000.\n",
    "            ARS_to_USD=1/36.2\n",
    "            if str(e).split()[0]=='NOT':\n",
    "                apcusd=0\n",
    "            elif str(e).split()[0]=='COP':\n",
    "                apcusd=float(items[0])*COP_to_USD\n",
    "            elif str(e).split()[0]=='ARS':\n",
    "                apcusd=float(items[0])*ARS_to_USD\n",
    "            else:\n",
    "                sys.exit(e)\n",
    "    else:\n",
    "        apcusd=0\n",
    "            \n",
    "    return int( apcusd  )"
   ]
  },
  {
   "cell_type": "markdown",
   "metadata": {
    "colab_type": "text",
    "id": "GMw6Evg3hNzI"
   },
   "source": [
    "Check"
   ]
  },
  {
   "cell_type": "code",
   "execution_count": 0,
   "metadata": {
    "colab": {
     "base_uri": "https://localhost:8080/",
     "height": 35
    },
    "colab_type": "code",
    "id": "RpqZEfjdCfjB",
    "outputId": "cd928e00-7e1a-49c3-d952-cbde6c64bbff"
   },
   "outputs": [
    {
     "data": {
      "text/plain": [
       "138"
      ]
     },
     "execution_count": 46,
     "metadata": {
      "tags": []
     },
     "output_type": "execute_result"
    }
   ],
   "source": [
    "usd( '5000ARS' )"
   ]
  },
  {
   "cell_type": "markdown",
   "metadata": {
    "colab_type": "text",
    "id": "dPQMzfsihSkL"
   },
   "source": [
    "Apply to DOIs database"
   ]
  },
  {
   "cell_type": "code",
   "execution_count": 0,
   "metadata": {
    "colab": {},
    "colab_type": "code",
    "collapsed": true,
    "id": "2ZUQQV0AmyMV"
   },
   "outputs": [],
   "source": [
    "if REBUILD_APC:\n",
    "    apc['APC_USD']=apc.APC.apply(usd)"
   ]
  },
  {
   "cell_type": "code",
   "execution_count": 0,
   "metadata": {
    "colab": {},
    "colab_type": "code",
    "collapsed": true,
    "id": "PkaNmRxUq4cc"
   },
   "outputs": [],
   "source": [
    "if REBUILD_APC:\n",
    "    apc.to_csv('apc.csv',index=False)\n",
    "else:\n",
    "    apc=pd.read_csv('apc.csv')\n",
    "    apc=wp.fill_NaN(apc)"
   ]
  },
  {
   "cell_type": "markdown",
   "metadata": {
    "colab_type": "text",
    "id": "uswJ28iihX6O"
   },
   "source": [
    "Prepare Final Data base"
   ]
  },
  {
   "cell_type": "code",
   "execution_count": 0,
   "metadata": {
    "colab": {
     "base_uri": "https://localhost:8080/",
     "height": 110
    },
    "colab_type": "code",
    "id": "JAdxsrE8b4I4",
    "outputId": "fe74fc43-9cfb-4dbe-e689-11e5c97f6587"
   },
   "outputs": [
    {
     "data": {
      "text/html": [
       "<div>\n",
       "<style scoped>\n",
       "    .dataframe tbody tr th:only-of-type {\n",
       "        vertical-align: middle;\n",
       "    }\n",
       "\n",
       "    .dataframe tbody tr th {\n",
       "        vertical-align: top;\n",
       "    }\n",
       "\n",
       "    .dataframe thead th {\n",
       "        text-align: right;\n",
       "    }\n",
       "</style>\n",
       "<table border=\"1\" class=\"dataframe\">\n",
       "  <thead>\n",
       "    <tr style=\"text-align: right;\">\n",
       "      <th></th>\n",
       "      <th>DI</th>\n",
       "      <th>Open_Access</th>\n",
       "      <th>OA_Yellow</th>\n",
       "      <th>OA_Green</th>\n",
       "      <th>ISSNs</th>\n",
       "      <th>OA_Green_Article</th>\n",
       "      <th>ISSNWOS</th>\n",
       "    </tr>\n",
       "  </thead>\n",
       "  <tbody>\n",
       "    <tr>\n",
       "      <th>0</th>\n",
       "      <td>10.7705/biomedica.v37i3.4058</td>\n",
       "      <td>10.7705/biomedica.v37i3.4058</td>\n",
       "      <td>10.7705/biomedica.v37i3.4058</td>\n",
       "      <td></td>\n",
       "      <td></td>\n",
       "      <td></td>\n",
       "      <td>0120-4157</td>\n",
       "    </tr>\n",
       "    <tr>\n",
       "      <th>1</th>\n",
       "      <td>10.1016/j.actatropica.2017.11.004</td>\n",
       "      <td></td>\n",
       "      <td></td>\n",
       "      <td></td>\n",
       "      <td></td>\n",
       "      <td></td>\n",
       "      <td>0001-706X,1873-6254</td>\n",
       "    </tr>\n",
       "  </tbody>\n",
       "</table>\n",
       "</div>"
      ],
      "text/plain": [
       "                                  DI                   Open_Access  \\\n",
       "0       10.7705/biomedica.v37i3.4058  10.7705/biomedica.v37i3.4058   \n",
       "1  10.1016/j.actatropica.2017.11.004                                 \n",
       "\n",
       "                      OA_Yellow OA_Green ISSNs OA_Green_Article  \\\n",
       "0  10.7705/biomedica.v37i3.4058                                   \n",
       "1                                                                 \n",
       "\n",
       "               ISSNWOS  \n",
       "0            0120-4157  \n",
       "1  0001-706X,1873-6254  "
      ]
     },
     "execution_count": 56,
     "metadata": {
      "tags": []
     },
     "output_type": "execute_result"
    }
   ],
   "source": [
    "udeadois[:2]"
   ]
  },
  {
   "cell_type": "code",
   "execution_count": 0,
   "metadata": {
    "colab": {},
    "colab_type": "code",
    "collapsed": true,
    "id": "r5MmWfz0JEhP"
   },
   "outputs": [],
   "source": [
    "UDEADOIS=udeadois.merge(apc,left_on='ISSNs',right_on='OAGISSN',how='left')"
   ]
  },
  {
   "cell_type": "code",
   "execution_count": 0,
   "metadata": {
    "colab": {
     "base_uri": "https://localhost:8080/",
     "height": 191
    },
    "colab_type": "code",
    "id": "Y-mcYv3odhjL",
    "outputId": "ca448916-f7fb-46be-d5b8-6a3d8e6e7758"
   },
   "outputs": [
    {
     "data": {
      "text/html": [
       "<div>\n",
       "<style scoped>\n",
       "    .dataframe tbody tr th:only-of-type {\n",
       "        vertical-align: middle;\n",
       "    }\n",
       "\n",
       "    .dataframe tbody tr th {\n",
       "        vertical-align: top;\n",
       "    }\n",
       "\n",
       "    .dataframe thead th {\n",
       "        text-align: right;\n",
       "    }\n",
       "</style>\n",
       "<table border=\"1\" class=\"dataframe\">\n",
       "  <thead>\n",
       "    <tr style=\"text-align: right;\">\n",
       "      <th></th>\n",
       "      <th>DI</th>\n",
       "      <th>Open_Access</th>\n",
       "      <th>OA_Yellow</th>\n",
       "      <th>OA_Green</th>\n",
       "      <th>ISSNs</th>\n",
       "      <th>OA_Green_Article</th>\n",
       "      <th>ISSNWOS</th>\n",
       "      <th>APC</th>\n",
       "      <th>OAGISSN</th>\n",
       "      <th>APC_USD</th>\n",
       "    </tr>\n",
       "  </thead>\n",
       "  <tbody>\n",
       "    <tr>\n",
       "      <th>0</th>\n",
       "      <td>10.7705/biomedica.v37i3.4058</td>\n",
       "      <td>10.7705/biomedica.v37i3.4058</td>\n",
       "      <td>10.7705/biomedica.v37i3.4058</td>\n",
       "      <td></td>\n",
       "      <td></td>\n",
       "      <td></td>\n",
       "      <td>0120-4157</td>\n",
       "      <td>NaN</td>\n",
       "      <td>NaN</td>\n",
       "      <td>NaN</td>\n",
       "    </tr>\n",
       "    <tr>\n",
       "      <th>1</th>\n",
       "      <td>10.1016/j.actatropica.2017.11.004</td>\n",
       "      <td></td>\n",
       "      <td></td>\n",
       "      <td></td>\n",
       "      <td></td>\n",
       "      <td></td>\n",
       "      <td>0001-706X,1873-6254</td>\n",
       "      <td>NaN</td>\n",
       "      <td>NaN</td>\n",
       "      <td>NaN</td>\n",
       "    </tr>\n",
       "    <tr>\n",
       "      <th>2</th>\n",
       "      <td>10.1186/s40104-017-0225-x</td>\n",
       "      <td>10.1186/s40104-017-0225-x</td>\n",
       "      <td></td>\n",
       "      <td>10.1186/s40104-017-0225-x</td>\n",
       "      <td>2049-1891</td>\n",
       "      <td></td>\n",
       "      <td>2049-1891</td>\n",
       "      <td>550GBP</td>\n",
       "      <td>2049-1891</td>\n",
       "      <td>713.0</td>\n",
       "    </tr>\n",
       "  </tbody>\n",
       "</table>\n",
       "</div>"
      ],
      "text/plain": [
       "                                  DI                   Open_Access  \\\n",
       "0       10.7705/biomedica.v37i3.4058  10.7705/biomedica.v37i3.4058   \n",
       "1  10.1016/j.actatropica.2017.11.004                                 \n",
       "2          10.1186/s40104-017-0225-x     10.1186/s40104-017-0225-x   \n",
       "\n",
       "                      OA_Yellow                   OA_Green      ISSNs  \\\n",
       "0  10.7705/biomedica.v37i3.4058                                         \n",
       "1                                                                       \n",
       "2                                10.1186/s40104-017-0225-x  2049-1891   \n",
       "\n",
       "  OA_Green_Article              ISSNWOS     APC    OAGISSN  APC_USD  \n",
       "0                             0120-4157     NaN        NaN      NaN  \n",
       "1                   0001-706X,1873-6254     NaN        NaN      NaN  \n",
       "2                             2049-1891  550GBP  2049-1891    713.0  "
      ]
     },
     "execution_count": 85,
     "metadata": {
      "tags": []
     },
     "output_type": "execute_result"
    }
   ],
   "source": [
    "UDEADOIS[:3]"
   ]
  },
  {
   "cell_type": "code",
   "execution_count": 0,
   "metadata": {
    "colab": {},
    "colab_type": "code",
    "collapsed": true,
    "id": "geKRlo2On4wa"
   },
   "outputs": [],
   "source": [
    "UDEADOIS=wp.fill_NaN( UDEADOIS )"
   ]
  },
  {
   "cell_type": "code",
   "execution_count": 0,
   "metadata": {
    "colab": {},
    "colab_type": "code",
    "collapsed": true,
    "id": "aTqjfIPU27GB"
   },
   "outputs": [],
   "source": [
    "REBUILD_DB=False"
   ]
  },
  {
   "cell_type": "code",
   "execution_count": 0,
   "metadata": {
    "colab": {},
    "colab_type": "code",
    "collapsed": true,
    "id": "PUTUhbOJLxZU"
   },
   "outputs": [],
   "source": [
    "if REBUILD_DB:\n",
    "    UDEADOIS.to_excel('oaudea.xlsx',index=False)\n",
    "else:\n",
    "    UDEADOIS=pd.read_excel('oaudea.xlsx')"
   ]
  },
  {
   "cell_type": "code",
   "execution_count": 0,
   "metadata": {
    "colab": {},
    "colab_type": "code",
    "collapsed": true,
    "id": "DI4o7UWm1s9D"
   },
   "outputs": [],
   "source": [
    "UDEADOIS=wp.fill_NaN(UDEADOIS)"
   ]
  },
  {
   "cell_type": "markdown",
   "metadata": {
    "colab_type": "text",
    "id": "n4qfskkWnWXp"
   },
   "source": [
    "Quality checks: Only Open Access have APCs. Expected 0"
   ]
  },
  {
   "cell_type": "code",
   "execution_count": 0,
   "metadata": {
    "colab": {
     "base_uri": "https://localhost:8080/",
     "height": 35
    },
    "colab_type": "code",
    "id": "sPEwhPRjncRm",
    "outputId": "ff5ffcc8-f046-43bc-dae2-efcf43bfccb3"
   },
   "outputs": [
    {
     "data": {
      "text/plain": [
       "(0, 10)"
      ]
     },
     "execution_count": 97,
     "metadata": {
      "tags": []
     },
     "output_type": "execute_result"
    }
   ],
   "source": [
    "tmp=UDEADOIS[UDEADOIS['Open_Access']=='']\n",
    "tmp[ tmp['APC']!=''].shape # expected 0"
   ]
  },
  {
   "cell_type": "markdown",
   "metadata": {
    "colab_type": "text",
    "id": "z2vXfdtrh3D7"
   },
   "source": [
    "### Number of Open Acces articles with APC information"
   ]
  },
  {
   "cell_type": "code",
   "execution_count": 0,
   "metadata": {
    "colab": {},
    "colab_type": "code",
    "collapsed": true,
    "id": "JOJkYv4zJtyn"
   },
   "outputs": [],
   "source": [
    "OAUDEA=UDEADOIS[ np.logical_or (UDEADOIS['OA_Green']!='',UDEADOIS['OA_Green_Article']!='') ]"
   ]
  },
  {
   "cell_type": "code",
   "execution_count": 0,
   "metadata": {
    "colab": {
     "base_uri": "https://localhost:8080/",
     "height": 35
    },
    "colab_type": "code",
    "id": "SzjqwFdlQAwe",
    "outputId": "9270c5bf-2532-47cc-a562-92cdb922ef1c"
   },
   "outputs": [
    {
     "data": {
      "text/plain": [
       "True"
      ]
     },
     "execution_count": 100,
     "metadata": {
      "tags": []
     },
     "output_type": "execute_result"
    }
   ],
   "source": [
    "OAPCUDEA=OAUDEA[OAUDEA['APC']!='']\n",
    "OAPCUDEA.shape==(1487,10)"
   ]
  },
  {
   "cell_type": "code",
   "execution_count": 0,
   "metadata": {
    "colab": {
     "base_uri": "https://localhost:8080/",
     "height": 35
    },
    "colab_type": "code",
    "id": "KeKf50jnq0oH",
    "outputId": "75fa58d6-d11d-40de-aa93-20263b75739a"
   },
   "outputs": [
    {
     "data": {
      "text/plain": [
       "True"
      ]
     },
     "execution_count": 101,
     "metadata": {
      "tags": []
     },
     "output_type": "execute_result"
    }
   ],
   "source": [
    "OAPCUDEA[OAPCUDEA['APC']=='0NOT'].shape==(884, 10)"
   ]
  },
  {
   "cell_type": "code",
   "execution_count": 0,
   "metadata": {
    "colab": {
     "base_uri": "https://localhost:8080/",
     "height": 35
    },
    "colab_type": "code",
    "id": "xmTgjZCmrNfL",
    "outputId": "d7e341d1-806b-4ee7-d7f6-6d67e0fcfcc8"
   },
   "outputs": [
    {
     "data": {
      "text/plain": [
       "True"
      ]
     },
     "execution_count": 102,
     "metadata": {
      "tags": []
     },
     "output_type": "execute_result"
    }
   ],
   "source": [
    "OAPCUDEA[OAPCUDEA['APC']!='0NOT'].shape==(603, 10)"
   ]
  },
  {
   "cell_type": "markdown",
   "metadata": {
    "colab_type": "text",
    "id": "Z93nI3rRoGed"
   },
   "source": [
    "### Calculates APC"
   ]
  },
  {
   "cell_type": "code",
   "execution_count": 0,
   "metadata": {
    "colab": {
     "base_uri": "https://localhost:8080/",
     "height": 35
    },
    "colab_type": "code",
    "id": "5bYJfZJeQdcw",
    "outputId": "98361765-c2a4-4591-be91-a51117a3ee0c"
   },
   "outputs": [
    {
     "data": {
      "text/plain": [
       "908493"
      ]
     },
     "execution_count": 103,
     "metadata": {
      "tags": []
     },
     "output_type": "execute_result"
    }
   ],
   "source": [
    "OAUDEA.APC_USD.sum()"
   ]
  },
  {
   "cell_type": "markdown",
   "metadata": {
    "colab_type": "text",
    "id": "CNE8JHQaiB2t"
   },
   "source": [
    "## The end\n",
    "Be sure the notebook stop"
   ]
  },
  {
   "cell_type": "code",
   "execution_count": 0,
   "metadata": {
    "colab": {},
    "colab_type": "code",
    "collapsed": true,
    "id": "QJ6g96CsiIKJ"
   },
   "outputs": [],
   "source": [
    "STOPHERE"
   ]
  },
  {
   "cell_type": "markdown",
   "metadata": {
    "colab_type": "text",
    "id": "MRkTjdNghEuh"
   },
   "source": [
    "## Add year information"
   ]
  },
  {
   "cell_type": "code",
   "execution_count": 0,
   "metadata": {
    "colab": {},
    "colab_type": "code",
    "collapsed": true,
    "id": "ZOGwU2VvhIyz"
   },
   "outputs": [],
   "source": [
    "udea['Year']=( udea['PY'].astype(str)+';'+udea['SCI_PY'].astype(str)+';'+udea['SCP_Year'].astype(str) ).str.split(';').str[0].astype(int)"
   ]
  },
  {
   "cell_type": "code",
   "execution_count": 0,
   "metadata": {
    "colab": {},
    "colab_type": "code",
    "collapsed": true,
    "id": "1GaXgkUvidtD"
   },
   "outputs": [],
   "source": [
    "udeay=udea[udea.DI!='']"
   ]
  },
  {
   "cell_type": "code",
   "execution_count": 0,
   "metadata": {
    "colab": {},
    "colab_type": "code",
    "collapsed": true,
    "id": "MP5ZdLiFiW2W"
   },
   "outputs": [],
   "source": [
    "UDEADOIS=UDEADOIS.merge( udeay[['DI','Year']],on='DI',how='left' )"
   ]
  },
  {
   "cell_type": "code",
   "execution_count": 0,
   "metadata": {
    "colab": {
     "base_uri": "https://localhost:8080/",
     "height": 79
    },
    "colab_type": "code",
    "id": "rM1G7dewleNy",
    "outputId": "6d377641-9c57-4459-a214-4b5afbfb8a41"
   },
   "outputs": [
    {
     "data": {
      "text/html": [
       "<div>\n",
       "<style scoped>\n",
       "    .dataframe tbody tr th:only-of-type {\n",
       "        vertical-align: middle;\n",
       "    }\n",
       "\n",
       "    .dataframe tbody tr th {\n",
       "        vertical-align: top;\n",
       "    }\n",
       "\n",
       "    .dataframe thead th {\n",
       "        text-align: right;\n",
       "    }\n",
       "</style>\n",
       "<table border=\"1\" class=\"dataframe\">\n",
       "  <thead>\n",
       "    <tr style=\"text-align: right;\">\n",
       "      <th></th>\n",
       "      <th>DI</th>\n",
       "      <th>Open_Access</th>\n",
       "      <th>OA_Yellow</th>\n",
       "      <th>OA_Green</th>\n",
       "      <th>ISSNs</th>\n",
       "      <th>OA_Green_Article</th>\n",
       "      <th>ISSNWOS</th>\n",
       "      <th>APC</th>\n",
       "      <th>OAGISSN</th>\n",
       "      <th>APC_USD</th>\n",
       "      <th>Year</th>\n",
       "    </tr>\n",
       "  </thead>\n",
       "  <tbody>\n",
       "    <tr>\n",
       "      <th>0</th>\n",
       "      <td>10.7705/biomedica.v37i3.4058</td>\n",
       "      <td>10.7705/biomedica.v37i3.4058</td>\n",
       "      <td>10.7705/biomedica.v37i3.4058</td>\n",
       "      <td></td>\n",
       "      <td></td>\n",
       "      <td></td>\n",
       "      <td>0120-4157</td>\n",
       "      <td></td>\n",
       "      <td></td>\n",
       "      <td>0</td>\n",
       "      <td>2017</td>\n",
       "    </tr>\n",
       "  </tbody>\n",
       "</table>\n",
       "</div>"
      ],
      "text/plain": [
       "                             DI                   Open_Access  \\\n",
       "0  10.7705/biomedica.v37i3.4058  10.7705/biomedica.v37i3.4058   \n",
       "\n",
       "                      OA_Yellow OA_Green ISSNs OA_Green_Article    ISSNWOS  \\\n",
       "0  10.7705/biomedica.v37i3.4058                                  0120-4157   \n",
       "\n",
       "  APC OAGISSN  APC_USD  Year  \n",
       "0                    0  2017  "
      ]
     },
     "execution_count": 107,
     "metadata": {
      "tags": []
     },
     "output_type": "execute_result"
    }
   ],
   "source": [
    "UDEADOIS[:1]"
   ]
  },
  {
   "cell_type": "code",
   "execution_count": 0,
   "metadata": {
    "colab": {},
    "colab_type": "code",
    "collapsed": true,
    "id": "V_RUiD-olDIn"
   },
   "outputs": [],
   "source": [
    "if REBUILD_DB:\n",
    "#if True:    \n",
    "    UDEADOIS.to_excel('oaudea.xlsx',index=False)"
   ]
  },
  {
   "cell_type": "code",
   "execution_count": 0,
   "metadata": {
    "colab": {},
    "colab_type": "code",
    "collapsed": true,
    "id": "J-5CpOm1mCty"
   },
   "outputs": [],
   "source": [
    "OAUDEA=UDEADOIS[ np.logical_or (UDEADOIS['OA_Green']!='',UDEADOIS['OA_Green_Article']!='') ]"
   ]
  },
  {
   "cell_type": "code",
   "execution_count": 0,
   "metadata": {
    "colab": {
     "base_uri": "https://localhost:8080/",
     "height": 35
    },
    "colab_type": "code",
    "id": "eiwO3lCVmIGv",
    "outputId": "3e02b92a-4a95-4a41-e856-ef04789ced33"
   },
   "outputs": [
    {
     "data": {
      "text/plain": [
       "(1499, 11)"
      ]
     },
     "execution_count": 110,
     "metadata": {
      "tags": []
     },
     "output_type": "execute_result"
    }
   ],
   "source": [
    "OAUDEA[OAUDEA['APC']!=''].shape"
   ]
  },
  {
   "cell_type": "code",
   "execution_count": 0,
   "metadata": {
    "colab": {
     "base_uri": "https://localhost:8080/",
     "height": 365
    },
    "colab_type": "code",
    "id": "_QdYUhsemNnT",
    "outputId": "0aef2142-7888-42da-ccf3-d2eaa7da18f6"
   },
   "outputs": [
    {
     "data": {
      "text/plain": [
       "<matplotlib.axes._subplots.AxesSubplot at 0x7fdc2b40beb8>"
      ]
     },
     "execution_count": 111,
     "metadata": {
      "tags": []
     },
     "output_type": "execute_result"
    },
    {
     "data": {
      "image/png": "[encoded data removed]",
      "text/plain": [
       "<matplotlib.figure.Figure at 0x7fdc2c0cc240>"
      ]
     },
     "metadata": {
      "tags": []
     },
     "output_type": "display_data"
    }
   ],
   "source": [
    "OAUDEA[OAUDEA['APC']!=''].Year.hist()"
   ]
  },
  {
   "cell_type": "markdown",
   "metadata": {},
   "source": [
    "# Añadir citas de Google Scholar"
   ]
  },
  {
   "cell_type": "code",
   "execution_count": 2,
   "metadata": {},
   "outputs": [],
   "source": [
    "#pip3 install webdriver_manager\n",
    "from webdriver_manager.firefox import GeckoDriverManager\n",
    "from selenium import webdriver\n",
    "browser = webdriver.Firefox(executable_path=\n",
    "                '/home/restrepo/.wdm/geckodriver/v0.23.0/linux64/geckodriver')\n",
    "#reinstall path: GeckoDriverManager().install())"
   ]
  },
  {
   "cell_type": "code",
   "execution_count": 3,
   "metadata": {},
   "outputs": [],
   "source": [
    "#import googlescholar as gs\n",
    "#%%writefile ../cienciometria/googlescholar.py\n",
    "import Levenshtein\n",
    "import re\n",
    "from bs4 import BeautifulSoup\n",
    "import requests\n",
    "\n",
    "def firefox_get(url,browser=browser):\n",
    "    try:\n",
    "        browser.get(url)\n",
    "    except:\n",
    "        return 'FAILED'\n",
    "        \n",
    "    html = browser.page_source\n",
    "    if html.lower().find('robot')>-1:\n",
    "        input('check robots')\n",
    "    #if html.find('Sorry')>-1:\n",
    "    #    input('check sorry')\n",
    "\n",
    "    return html\n",
    "\n",
    "def get_google_scholar(record):\n",
    "    '''\n",
    "    Analyise the BeautifulSoup record for an article \n",
    "    in Google Scholar.\n",
    "    Output is a Python dictionary with keys: \n",
    "    'title', 'authors','profiles','Jornal','Year',\n",
    "    'abstract','cites','cites_link'\n",
    "    '''\n",
    "    import random\n",
    "    import time\n",
    "    gsr={}\n",
    "    try:\n",
    "        cites=record.find_all('a',{\"href\":re.compile( \"/scholar\\?cites*\" )})[0]\n",
    "        try:\n",
    "            gsr['cites']=int( cites.text.split()[-1] )\n",
    "            gsr['cites_link']=cites.attrs.get('href')\n",
    "        except:\n",
    "            gsr['cites']=0\n",
    "    except:\n",
    "        cites=None\n",
    "\n",
    "    # Title\n",
    "    try:\n",
    "        lstt=record.find_all('a',{\"data-clk\":re.compile( \".*\")})[0].contents\n",
    "    except:\n",
    "        lstt=[]\n",
    "\n",
    "    # Find title interpreting weird characters\n",
    "    tc=''\n",
    "    for tip in lstt:\n",
    "        if tip.find('svg')==-1:\n",
    "            tc=tc+str(tip)\n",
    "        else:\n",
    "            try:\n",
    "                tc=tc+tip.get('aria-label') # aria label in Accessibility\n",
    "            except TypeError:\n",
    "                pass\n",
    "    gsr['title']=tc\n",
    "    \n",
    "    # Explore authors, google scholar profile, Journal and Year\n",
    "    gpa=None\n",
    "    try:\n",
    "        gpa=record.find_all('div',{\"class\":\"gs_a\"})[0]\n",
    "        gsr['authors']=gpa.text.split('-')[0].strip()\n",
    "        try:\n",
    "            jy=gpa.text.split('-')[1].strip()\n",
    "            gsr['Journal']=jy.split(',')[0]\n",
    "            try:\n",
    "                gsr['Year']=eval(jy.split(',')[1])\n",
    "            except:\n",
    "                gsr['Year']=-1\n",
    "        except:\n",
    "            gsr['Journal']=''\n",
    "    except:\n",
    "        gsr['authors']=''\n",
    "\n",
    "    #Abstract:\n",
    "    try:\n",
    "        gsr['abstract']=record.find_all('div',{'class':'gs_rs'})[0].text.replace('\\xa0…','')\n",
    "    except:\n",
    "        gsr['abstract']=''\n",
    "    # citations\n",
    "    if gpa:\n",
    "        lpr=gpa.find_all(\"a\",{ \"href\":re.compile(\"/citations\\?user=*\")   } )\n",
    "        prf={}\n",
    "        for pr in lpr:\n",
    "            prf[ pr.text ]=pr.attrs.get('href').split('?')[-1].split('&')[0].split('user=')[-1]\n",
    "        gsr['profiles']=prf\n",
    "    \n",
    "    time.sleep( random.randint(1,3)  ) # avoid robots\n",
    "    return gsr\n",
    "\n",
    "def google_scholar_url(url):\n",
    "    '''\n",
    "    Convert a Google Scholar page into a list\n",
    "    of dictionaries with metadata info\n",
    "    '''\n",
    "    r=requests.get(url)\n",
    "\n",
    "    soup = BeautifulSoup(r.text, \"html.parser\")\n",
    "    rgs=soup.find_all('div', {'class':'gs_ri' })\n",
    "\n",
    "    citations=[]\n",
    "    for record in rgs:\n",
    "        citations.append( get_google_scholar(record) )\n",
    "        \n",
    "    return citations\n",
    "\n",
    "def google_scholar_query(title='relativity theory',author=\"A Einstein\",\n",
    "                         DOI=None,DEBUG=False):\n",
    "    '''\n",
    "    Search Google scholar for similarity in title and author.\n",
    "    Only the first result is analized. The output includes \n",
    "    a quality measurements between the query and the results \n",
    "    Output is a Python dictionary with keys: \n",
    "    'title', 'authors','profiles','cites','cites_link',\n",
    "    'quality_title','quality_author'\n",
    "    '''\n",
    "    # + → %2B in query formula:\n",
    "    if DOI:\n",
    "        url='https://scholar.google.com/scholar?q=\"{}\"'.format(DOI)\n",
    "    else:\n",
    "        url='https://scholar.google.com/scholar?q=\"{}\"%2B{}'.format(title,author)\n",
    "    if DEBUG:\n",
    "        print(url)   \n",
    "    \n",
    "    #s = requests.Session()\n",
    "    rtext=firefox_get(url)\n",
    "\n",
    "    #soup = BeautifulSoup(r.text, \"html.parser\")\n",
    "    soup = BeautifulSoup(rtext, \"html.parser\")\n",
    "\n",
    "    rgs=soup.find_all('div', {'class':'gs_ri' })\n",
    "\n",
    "    gs={}\n",
    "\n",
    "    try:\n",
    "        record=rgs[0]\n",
    "    except IndexError:\n",
    "        return gs\n",
    "    gs.update(get_google_scholar(record))\n",
    "        \n",
    "    sau=0\n",
    "    for a in gs['authors'].split(','):\n",
    "        saun=Levenshtein.ratio(author.lower(),a.lower().strip())\n",
    "        if saun>sau:\n",
    "            sau=saun\n",
    "    if not DOI:        \n",
    "        gs['quality_author']=round(sau,2)\n",
    "\n",
    "        gs['quality_title']=round( Levenshtein.ratio(\n",
    "                   title.lower(),gs['title'].lower() ),2 )\n",
    "\n",
    "    if DEBUG:\n",
    "        return gs,record\n",
    "    return gs"
   ]
  },
  {
   "cell_type": "code",
   "execution_count": 4,
   "metadata": {},
   "outputs": [],
   "source": [
    "import wosplus as wp"
   ]
  },
  {
   "cell_type": "code",
   "execution_count": 5,
   "metadata": {},
   "outputs": [
    {
     "name": "stdout",
     "output_type": "stream",
     "text": [
      "Overwriting drive.cfg\n"
     ]
    }
   ],
   "source": [
    "%%writefile drive.cfg\n",
    "[FILES]\n",
    "DOIS.xlsx               = 1bikNT7Gmp4G7dfeMuGsF-az7D8lskK0O\n",
    "UDEA_WOS_SCI_SCP.xlsx   = 1o9otmklgh-0w18Avv2ZTKOXr3vZbjwvj\n",
    "oaudea.xlsx             = 1CcwobiEFACIbffNzNdLxpdxQukr8cZ5x"
   ]
  },
  {
   "cell_type": "code",
   "execution_count": 6,
   "metadata": {},
   "outputs": [],
   "source": [
    "oa=wp.wosplus('drive.cfg')"
   ]
  },
  {
   "cell_type": "code",
   "execution_count": 7,
   "metadata": {},
   "outputs": [],
   "source": [
    "oaudea=oa.read_drive_excel('oaudea.xlsx')"
   ]
  },
  {
   "cell_type": "code",
   "execution_count": 8,
   "metadata": {},
   "outputs": [],
   "source": [
    "oaudea=wp.fill_NaN(oaudea)"
   ]
  },
  {
   "cell_type": "code",
   "execution_count": 9,
   "metadata": {},
   "outputs": [],
   "source": [
    "import time\n",
    "import random\n",
    "import pandas as pd"
   ]
  },
  {
   "cell_type": "code",
   "execution_count": 10,
   "metadata": {},
   "outputs": [
    {
     "name": "stdout",
     "output_type": "stream",
     "text": [
      "check robots\n"
     ]
    },
    {
     "data": {
      "text/plain": [
       "{}"
      ]
     },
     "execution_count": 10,
     "metadata": {},
     "output_type": "execute_result"
    }
   ],
   "source": [
    "google_scholar_query(DOI='10.1155/2015/978379')"
   ]
  },
  {
   "cell_type": "code",
   "execution_count": 29,
   "metadata": {},
   "outputs": [
    {
     "data": {
      "text/html": [
       "<div>\n",
       "<style scoped>\n",
       "    .dataframe tbody tr th:only-of-type {\n",
       "        vertical-align: middle;\n",
       "    }\n",
       "\n",
       "    .dataframe tbody tr th {\n",
       "        vertical-align: top;\n",
       "    }\n",
       "\n",
       "    .dataframe thead th {\n",
       "        text-align: right;\n",
       "    }\n",
       "</style>\n",
       "<table border=\"1\" class=\"dataframe\">\n",
       "  <thead>\n",
       "    <tr style=\"text-align: right;\">\n",
       "      <th></th>\n",
       "      <th>DI</th>\n",
       "      <th>Open_Access</th>\n",
       "      <th>OA_Yellow</th>\n",
       "      <th>OA_Green</th>\n",
       "      <th>ISSNs</th>\n",
       "      <th>OA_Green_Article</th>\n",
       "      <th>ISSNWOS</th>\n",
       "      <th>APC</th>\n",
       "      <th>OAGISSN</th>\n",
       "      <th>APC_USD</th>\n",
       "    </tr>\n",
       "  </thead>\n",
       "  <tbody>\n",
       "    <tr>\n",
       "      <th>606</th>\n",
       "      <td>10.1590/s0103-84782009000100018</td>\n",
       "      <td>10.1590/s0103-84782009000100018</td>\n",
       "      <td></td>\n",
       "      <td>10.1590/s0103-84782009000100018</td>\n",
       "      <td>0103-8478</td>\n",
       "      <td></td>\n",
       "      <td>0103-8478,1678-4596</td>\n",
       "      <td>700BRL</td>\n",
       "      <td>0103-8478</td>\n",
       "      <td>188</td>\n",
       "    </tr>\n",
       "  </tbody>\n",
       "</table>\n",
       "</div>"
      ],
      "text/plain": [
       "                                  DI                      Open_Access  \\\n",
       "606  10.1590/s0103-84782009000100018  10.1590/s0103-84782009000100018   \n",
       "\n",
       "    OA_Yellow                         OA_Green      ISSNs OA_Green_Article  \\\n",
       "606            10.1590/s0103-84782009000100018  0103-8478                    \n",
       "\n",
       "                 ISSNWOS     APC    OAGISSN  APC_USD  \n",
       "606  0103-8478,1678-4596  700BRL  0103-8478      188  "
      ]
     },
     "execution_count": 29,
     "metadata": {},
     "output_type": "execute_result"
    }
   ],
   "source": [
    "oaudea[oaudea['OA_Green']=='10.1590/s0103-84782009000100018']"
   ]
  },
  {
   "cell_type": "code",
   "execution_count": null,
   "metadata": {},
   "outputs": [
    {
     "name": "stdout",
     "output_type": "stream",
     "text": [
      "1 10.1155/2015/978379\n",
      "2 10.15332/s1794-3841.2015.0023.07\n",
      "check robots\n",
      "3 10.1017/gmh.2015.19\n",
      "4 10.21555/top.v0i50.750\n",
      "5 10.17533/udea.trahs.n5a06\n",
      "6 10.2478/acph-2014-0033\n",
      "7 10.3389/fncel.2014.00231\n",
      "8 10.11144/javeriana.upsy13-3.teer\n",
      "9 10.1016/j.physletb.2014.04.023\n",
      "10 10.1016/j.physletb.2014.01.049\n",
      "11 10.1186/ar4644\n",
      "12 10.7440/res44.2012.13\n",
      "13 10.1186/1556-276x-7-586\n",
      "14 10.1016/j.ijid.2012.05.306\n",
      "15 10.1016/j.ijid.2012.05.956\n",
      "16 10.1016/j.ijid.2012.05.966\n",
      "17 10.1016/j.ijid.2010.02.1902\n",
      "18 10.5294/aqui.2010.10.1.2\n",
      "19 10.5294/aqui.2010.10.1.6\n",
      "20 10.5294/aqui.2010.10.3.3\n",
      "21 10.1016/j.ijid.2008.05.1041\n",
      "22 10.1016/s0213-9111(08)75346-9\n",
      "23 10.1590/s1020-49892007000600005\n",
      "24 10.1186/1475-2875-4-9\n",
      "25 10.1186/1742-4690-2-s1-p85\n",
      "26 10.1590/s0102-09352004000200016\n",
      "27 10.1590/s0036-36342001000400003\n",
      "28 10.3989/arbor.1997.i617-618.1839\n",
      "29 10.1590/s0074-02761995000300009\n",
      "30 10.1590/s0074-02761993000400022\n",
      "31 10.15446/lthc.v19n2.63368\n",
      "32 10.15446/lthc.v19n2.63682\n",
      "33 10.14483/22487085.10238\n",
      "34 10.15446/profile.v19n2.57215\n",
      "35 10.15446/profile.v19n2.58826\n",
      "36 10.15446/fyf.v30n2.65794\n",
      "37 10.15649/cuidarte.v8i2.378\n",
      "38 10.15517/am.v28i1.22034\n",
      "39 10.15517/am.v28i1.22816\n",
      "40 10.15517/am.v28i1.21671\n",
      "41 10.15517/am.v28i1.21466\n",
      "42 10.15517/am.v28i1.22673\n",
      "43 10.15517/eci.v7i1.27306\n",
      "44 10.19183/how.24.1.303\n",
      "45 10.19183/how.24.1.318\n",
      "46 10.17533/udea.iatreia.v29n4a05\n",
      "47 10.15446/profile.v18n2.48272\n",
      "48 10.1016/j.gaceta.2016.02.010\n",
      "49 10.14483/calj.v18n2.9080\n",
      "50 10.14483/calj.v18n2.8700\n",
      "51 10.15649/cuidarte.v7i2.320\n",
      "52 10.15649/cuidarte.v7i2.319\n",
      "53 10.15665/rde.v14i2.659\n",
      "54 10.18634/sophiaj.12v.2i.561\n",
      "55 10.14483/calj.v18n1.8598\n",
      "56 10.15446/profile.v18n1.44269\n",
      "57 10.15446/profile.v18n1.47807\n",
      "58 10.19183/how.22.2.118\n",
      "59 10.1590/1413-81232015209.05672015\n",
      "60 10.17230/ad-minister.27.4\n",
      "61 10.15446/ideasyvalores.v64n157.47989\n",
      "62 10.12804/territ33.2015.06\n",
      "63 10.14483/udistrital.jour.calj.2015.1.a09\n",
      "64 10.5935/1808-8694.20130065\n",
      "65 10.1590/s0103-50532012001200004\n",
      "66 10.4067/s0034-98872012001100014\n",
      "67 10.1590/s1517-70762012000400008\n",
      "68 10.1590/s0103-21002012000900012\n",
      "69 10.1590/s0103-84782009000100018\n",
      "70 10.1590/s0104-11692007000300019\n",
      "71 10.1590/s0102-311x2007000400028\n",
      "72 10.1590/s0074-02762006000700015\n",
      "73 10.19053/01211129.4136\n",
      "74 10.25025/perifrasis201561206\n",
      "75 10.19053/20275137.2648\n",
      "76 10.15446/historelo.v10n19.63547\n",
      "77 10.17139/raab.2018.0020.01.06\n",
      "78 10.18359/rfce.3144\n",
      "79 10.5935/0101-2800.20170081\n",
      "80 10.17533/udea.rib.v40n3a01\n",
      "81 10.17533/udea.rib.v40n3a03\n",
      "82 10.17533/udea.rib.v40n3a05\n",
      "83 10.17533/udea.rib.v40n3a08\n",
      "84 10.17533/udea.rib.v40n3a11\n",
      "85 10.1590/tem-1980-542x2017v230308\n",
      "86 10.15446/lthc.v19n2.63172\n",
      "87 10.15517/ma.v28i2.25643\n",
      "88 10.15517/ma.v28i2.25945\n",
      "89 10.15517/ma.v28i2.22750\n",
      "90 10.15517/ma.v28i2.23561\n",
      "91 10.15517/ma.v28i2.25697\n",
      "92 10.18273/revsal.v49n3-2017003\n",
      "check robots\n",
      "93 10.18273/revsal.v49n3-2017004\n",
      "94 10.17533/udea.iatreia.v30n3a08\n",
      "95 10.17533/udea.rib.v40n2a02\n",
      "96 10.17533/udea.rib.v40n2a03\n",
      "97 10.17533/udea.rib.v40n2a05\n",
      "98 10.1590/1984-6487.sess.2017.26.05.a\n",
      "99 10.17230/ingciencia.13.25.8\n",
      "100 10.19052/mv.4251\n",
      "101 10.19052/mv.4253\n",
      "102 10.19052/mv.4263\n",
      "103 10.18273/revint.v35n1-2017008\n",
      "104 10.18273/revion.v30n1-2017005\n",
      "105 10.11144/javeriana.uh83.acap\n",
      "106 10.22235/ech.v6i1.1306\n",
      "107 10.17533/udea.rfnsp.v35n2a02\n",
      "108 10.17533/udea.rfnsp.v35n2a04\n",
      "109 10.17533/udea.rfnsp.v35n2a08\n",
      "110 10.17533/udea.rfnsp.v35n2a10\n",
      "111 10.17533/udea.rfnsp.v35n2a11\n",
      "112 10.5294/edu.2017.20.1.1\n",
      "113 10.1590/1982-02672017v25n0106\n",
      "114 10.17533/udea.rib.v40n1a02\n",
      "115 10.17533/udea.rib.v40n1a07\n",
      "116 10.17533/udea.espo.n50a01\n",
      "117 10.17533/udea.espo.n50a04\n",
      "118 10.17533/udea.espo.n50a06\n",
      "119 10.17533/udea.espo.n50a07\n",
      "120 10.17533/udea.espo.n50a09\n",
      "121 10.17533/udea.espo.n50a12\n",
      "122 10.17533/udea.espo.n50a13\n",
      "123 10.17533/udea.espo.n50a17\n",
      "124 10.17533/udea.espo.n50a18\n",
      "125 10.17533/udea.le.n86a01\n",
      "126 10.17533/udea.le.n86a03\n",
      "127 10.17533/udea.rfnsp.v35n1a03\n",
      "128 10.17533/udea.rfnsp.v35n1a04\n",
      "129 10.17533/udea.rfnsp.v35n1a05\n",
      "130 10.17533/udea.rfnsp.v35n1a07\n",
      "131 10.17533/udea.rfnsp.v35n1a10\n",
      "132 10.17533/udea.rfnsp.v35n1a12\n",
      "133 10.18359/rlbi.2637\n",
      "134 10.14483/udistrital.jour.tecnura.2017.1.a05\n",
      "135 10.15446/av.enferm.v34n3.58378\n",
      "136 10.17533/udea.espo.n49a04\n",
      "137 10.17533/udea.espo.n49a05\n",
      "138 10.17230/ingciencia.12.24.1\n",
      "139 10.17230/ingciencia.12.24.3\n",
      "140 10.12804/revsalud14.especial.2016.01\n",
      "141 10.14482/dere.46.8817\n",
      "142 10.15517/am.v27i2.24386\n",
      "143 10.15517/aie.v16i3.26084\n",
      "144 10.15517/aie.v16i3.26113\n",
      "145 10.15359/ree.20-3.5\n",
      "146 10.15359/ree.20-3.18\n",
      "147 10.11606/issn.2316-9141.rh.2016.124069\n",
      "148 10.18273/revsal.v48n4-2016011\n",
      "149 10.7440/histcrit62.2016.10\n",
      "150 10.17533/udea.rfnsp.v34n3a03\n",
      "151 10.17533/udea.rfnsp.v34n3a06\n",
      "152 10.17533/udea.rfnsp.v34n3a09\n",
      "153 10.17533/udea.rib.v39n3a01\n",
      "154 10.17533/udea.rib.v39n3a03\n",
      "155 10.17533/udea.rib.v39n3a04\n",
      "156 10.17533/udea.rib.v39n3a05\n",
      "157 10.17533/udea.rfnsp.v34n2a05\n",
      "158 10.17533/udea.rfnsp.v34n2a11\n",
      "159 10.17533/udea.rfnsp.v34n2a12\n",
      "160 10.17533/udea.rib.v39n2a01\n",
      "161 10.18359/rfce.2213\n",
      "162 10.15446/achsc.v43n2.59092\n",
      "163 10.14483/udistrital.jour.tecnura.2016.3.a02\n",
      "164 10.11600/1692715x.14234140715\n",
      "165 10.22395/ojum.v15n30a6\n",
      "166 10.18273/revion.v29n1-2016005\n",
      "167 10.18273/revsal.v48n2-2016008\n",
      "168 10.18273/revint.v34n1-2016006\n",
      "169 10.1590/1414-49802016.00100002\n",
      "170 10.1590/1806-9126-rbef-2015-0031\n",
      "171 10.17533/udea.le.n84a07\n",
      "172 10.17533/udea.espo.n48a04\n",
      "173 10.17533/udea.espo.n48a08\n",
      "174 10.1590/1984-6487.sess.2016.22.11.a\n",
      "175 10.18273/revsal.v48n1-2016007\n",
      "176 10.17533/udea.rfnsp.v34n1a02\n",
      "177 10.17533/udea.rfnsp.v34n1a03\n",
      "178 10.17533/udea.rfnsp.v34n1a09\n",
      "179 10.17533/udea.rfnsp.v34n1a13\n",
      "180 10.17533/udea.rib.v39n1a06\n",
      "181 10.17533/udea.rib.v39n1a08\n",
      "182 10.17533/udea.iatreia.v29n1a09\n",
      "183 10.17533/udea.penh.v18n1a02\n",
      "184 10.17533/udea.penh.v18n1a03\n",
      "185 10.17533/udea.penh.v18n1a04\n",
      "186 10.17533/udea.penh.v18n1a05\n",
      "187 10.17533/udea.penh.v18n1a06\n",
      "188 10.17533/udea.penh.v18n1a08\n",
      "189 10.1590/0104-07072016005280015\n",
      "190 10.11600/1692715x.14134271014\n",
      "191 10.11600/1692715x.14144260215\n"
     ]
    }
   ],
   "source": [
    "dfgs=pd.DataFrame()\n",
    "i=1\n",
    "for doi in oaudea[oaudea['OA_Green']!='']['OA_Green'].values[87:]:\n",
    "    print(i,doi)\n",
    "    gsd=google_scholar_query(DOI=doi)\n",
    "    gsd['DOI']=doi\n",
    "    dfgs=dfgs.append(gsd,ignore_index=True )\n",
    "    dfgs.to_excel('gs.xlsx',index=False)\n",
    "    time.sleep(random.randint(5,6))\n",
    "    if i%10==0:\n",
    "        m=5*60\n",
    "        time.sleep(m)\n",
    "    if i%400==0:\n",
    "        m=24*3600\n",
    "        time.sleep(m)        \n",
    "    i=i+1"
   ]
  },
  {
   "cell_type": "code",
   "execution_count": 1,
   "metadata": {},
   "outputs": [
    {
     "data": {
      "text/plain": [
       "2"
      ]
     },
     "execution_count": 1,
     "metadata": {},
     "output_type": "execute_result"
    }
   ],
   "source": [
    "1+1"
   ]
  },
  {
   "cell_type": "code",
   "execution_count": 24,
   "metadata": {
    "collapsed": true
   },
   "outputs": [],
   "source": [
    "dfgs=wp.fill_NaN(dfgs)"
   ]
  },
  {
   "cell_type": "code",
   "execution_count": 25,
   "metadata": {
    "collapsed": true
   },
   "outputs": [],
   "source": [
    "dfgs[:41].to_excel('gs1.xlsx',index=False)"
   ]
  },
  {
   "cell_type": "code",
   "execution_count": 8,
   "metadata": {},
   "outputs": [
    {
     "ename": "NameError",
     "evalue": "name 'dfgs' is not defined",
     "output_type": "error",
     "traceback": [
      "\u001b[0;31m---------------------------------------------------------------------------\u001b[0m",
      "\u001b[0;31mNameError\u001b[0m                                 Traceback (most recent call last)",
      "\u001b[0;32m<ipython-input-8-9d4aa8e95099>\u001b[0m in \u001b[0;36m<module>\u001b[0;34m()\u001b[0m\n\u001b[0;32m----> 1\u001b[0;31m \u001b[0mdfgs\u001b[0m\u001b[0;34m[\u001b[0m\u001b[0;34m:\u001b[0m\u001b[0;36m50\u001b[0m\u001b[0;34m]\u001b[0m\u001b[0;34m\u001b[0m\u001b[0m\n\u001b[0m",
      "\u001b[0;31mNameError\u001b[0m: name 'dfgs' is not defined"
     ]
    }
   ],
   "source": [
    "dfgs[:50]"
   ]
  },
  {
   "cell_type": "markdown",
   "metadata": {
    "colab_type": "text",
    "id": "mNTEnTQjJuLx"
   },
   "source": [
    "# Consultar  DOAJ API con DOI\n",
    "Ver: https://doaj.org/api/v1/docs#!/Search/get_api_v1_search_articles_search_query"
   ]
  },
  {
   "cell_type": "markdown",
   "metadata": {
    "colab_type": "text",
    "id": "j39HDif4NpPJ"
   },
   "source": [
    "## Carga navegador JSON"
   ]
  },
  {
   "cell_type": "code",
   "execution_count": 0,
   "metadata": {
    "colab": {},
    "colab_type": "code",
    "collapsed": true,
    "id": "izdwSa5RJ0Ec"
   },
   "outputs": [],
   "source": [
    "import pandas as pd"
   ]
  },
  {
   "cell_type": "markdown",
   "metadata": {
    "colab_type": "text",
    "id": "INjfBi7KNmJP"
   },
   "source": [
    "## Consulta"
   ]
  },
  {
   "cell_type": "code",
   "execution_count": 0,
   "metadata": {
    "colab": {},
    "colab_type": "code",
    "collapsed": true,
    "id": "5c8D7U-mJ3g6"
   },
   "outputs": [],
   "source": [
    "DOI='10.1016/j.physletb.2018.01.009'\n",
    "df=pd.read_json('https://doaj.org/api/v1/search/articles/{}'.format(DOI))"
   ]
  },
  {
   "cell_type": "markdown",
   "metadata": {
    "colab_type": "text",
    "id": "M84vNkUSNPeM"
   },
   "source": [
    "## Análisis de resultado:\n",
    "Nota: La celdas con estructuras anidadas (que comienzan con `[` ó `{`) sa analizan secuencialmente"
   ]
  },
  {
   "cell_type": "code",
   "execution_count": 0,
   "metadata": {
    "colab": {
     "base_uri": "https://localhost:8080/",
     "height": 79
    },
    "colab_type": "code",
    "id": "m7ahe4ZaNOb9",
    "outputId": "797cca3f-6de1-403b-9bcf-2e3f8a805503"
   },
   "outputs": [
    {
     "data": {
      "text/html": [
       "<div>\n",
       "<style scoped>\n",
       "    .dataframe tbody tr th:only-of-type {\n",
       "        vertical-align: middle;\n",
       "    }\n",
       "\n",
       "    .dataframe tbody tr th {\n",
       "        vertical-align: top;\n",
       "    }\n",
       "\n",
       "    .dataframe thead th {\n",
       "        text-align: right;\n",
       "    }\n",
       "</style>\n",
       "<table border=\"1\" class=\"dataframe\">\n",
       "  <thead>\n",
       "    <tr style=\"text-align: right;\">\n",
       "      <th></th>\n",
       "      <th>last</th>\n",
       "      <th>page</th>\n",
       "      <th>pageSize</th>\n",
       "      <th>query</th>\n",
       "      <th>results</th>\n",
       "      <th>timestamp</th>\n",
       "      <th>total</th>\n",
       "    </tr>\n",
       "  </thead>\n",
       "  <tbody>\n",
       "    <tr>\n",
       "      <th>0</th>\n",
       "      <td>https://doaj.org/api/v1/search/articles/10.101...</td>\n",
       "      <td>1</td>\n",
       "      <td>10</td>\n",
       "      <td>10.1016/j.physletb.2018.01.009</td>\n",
       "      <td>{u'last_updated': u'2018-03-05T12:09:16Z', u'i...</td>\n",
       "      <td>2018-1010T04:23:08Z</td>\n",
       "      <td>1</td>\n",
       "    </tr>\n",
       "  </tbody>\n",
       "</table>\n",
       "</div>"
      ],
      "text/plain": [
       "                                                last  page  pageSize  \\\n",
       "0  https://doaj.org/api/v1/search/articles/10.101...     1        10   \n",
       "\n",
       "                            query  \\\n",
       "0  10.1016/j.physletb.2018.01.009   \n",
       "\n",
       "                                             results            timestamp  \\\n",
       "0  {u'last_updated': u'2018-03-05T12:09:16Z', u'i...  2018-1010T04:23:08Z   \n",
       "\n",
       "   total  \n",
       "0      1  "
      ]
     },
     "execution_count": 32,
     "metadata": {
      "tags": []
     },
     "output_type": "execute_result"
    }
   ],
   "source": [
    "df"
   ]
  },
  {
   "cell_type": "markdown",
   "metadata": {
    "colab_type": "text",
    "id": "lzgDcW8NNyAv"
   },
   "source": [
    "Desplegar colunna __results__:"
   ]
  },
  {
   "cell_type": "code",
   "execution_count": 0,
   "metadata": {
    "colab": {
     "base_uri": "https://localhost:8080/",
     "height": 387
    },
    "colab_type": "code",
    "id": "5vcp02fQKCu2",
    "outputId": "2ee1ee4b-b0d1-4149-8495-a626f27326dc"
   },
   "outputs": [
    {
     "data": {
      "text/html": [
       "<div>\n",
       "<style scoped>\n",
       "    .dataframe tbody tr th:only-of-type {\n",
       "        vertical-align: middle;\n",
       "    }\n",
       "\n",
       "    .dataframe tbody tr th {\n",
       "        vertical-align: top;\n",
       "    }\n",
       "\n",
       "    .dataframe thead th {\n",
       "        text-align: right;\n",
       "    }\n",
       "</style>\n",
       "<table border=\"1\" class=\"dataframe\">\n",
       "  <thead>\n",
       "    <tr style=\"text-align: right;\">\n",
       "      <th></th>\n",
       "      <th>bibjson</th>\n",
       "      <th>created_date</th>\n",
       "      <th>id</th>\n",
       "      <th>last_updated</th>\n",
       "    </tr>\n",
       "  </thead>\n",
       "  <tbody>\n",
       "    <tr>\n",
       "      <th>abstract</th>\n",
       "      <td>The observation of neutrino oscillations estab...</td>\n",
       "      <td>2018-03-05T12:09:16Z</td>\n",
       "      <td>03ba3f288d8341d380a286a6d0f64de4</td>\n",
       "      <td>2018-03-05T12:09:16Z</td>\n",
       "    </tr>\n",
       "    <tr>\n",
       "      <th>author</th>\n",
       "      <td>[{u'affiliation': u'Physics Department, Univer...</td>\n",
       "      <td>2018-03-05T12:09:16Z</td>\n",
       "      <td>03ba3f288d8341d380a286a6d0f64de4</td>\n",
       "      <td>2018-03-05T12:09:16Z</td>\n",
       "    </tr>\n",
       "    <tr>\n",
       "      <th>end_page</th>\n",
       "      <td>100</td>\n",
       "      <td>2018-03-05T12:09:16Z</td>\n",
       "      <td>03ba3f288d8341d380a286a6d0f64de4</td>\n",
       "      <td>2018-03-05T12:09:16Z</td>\n",
       "    </tr>\n",
       "    <tr>\n",
       "      <th>identifier</th>\n",
       "      <td>[{u'type': u'pissn', u'id': u'0370-2693'}, {u'...</td>\n",
       "      <td>2018-03-05T12:09:16Z</td>\n",
       "      <td>03ba3f288d8341d380a286a6d0f64de4</td>\n",
       "      <td>2018-03-05T12:09:16Z</td>\n",
       "    </tr>\n",
       "    <tr>\n",
       "      <th>journal</th>\n",
       "      <td>{u'publisher': u'Elsevier', u'language': [u'EN...</td>\n",
       "      <td>2018-03-05T12:09:16Z</td>\n",
       "      <td>03ba3f288d8341d380a286a6d0f64de4</td>\n",
       "      <td>2018-03-05T12:09:16Z</td>\n",
       "    </tr>\n",
       "    <tr>\n",
       "      <th>link</th>\n",
       "      <td>[{u'url': u'http://www.sciencedirect.com/scien...</td>\n",
       "      <td>2018-03-05T12:09:16Z</td>\n",
       "      <td>03ba3f288d8341d380a286a6d0f64de4</td>\n",
       "      <td>2018-03-05T12:09:16Z</td>\n",
       "    </tr>\n",
       "    <tr>\n",
       "      <th>month</th>\n",
       "      <td>3</td>\n",
       "      <td>2018-03-05T12:09:16Z</td>\n",
       "      <td>03ba3f288d8341d380a286a6d0f64de4</td>\n",
       "      <td>2018-03-05T12:09:16Z</td>\n",
       "    </tr>\n",
       "    <tr>\n",
       "      <th>start_page</th>\n",
       "      <td>94</td>\n",
       "      <td>2018-03-05T12:09:16Z</td>\n",
       "      <td>03ba3f288d8341d380a286a6d0f64de4</td>\n",
       "      <td>2018-03-05T12:09:16Z</td>\n",
       "    </tr>\n",
       "    <tr>\n",
       "      <th>subject</th>\n",
       "      <td>[{u'code': u'QC1-999', u'term': u'Physics', u'...</td>\n",
       "      <td>2018-03-05T12:09:16Z</td>\n",
       "      <td>03ba3f288d8341d380a286a6d0f64de4</td>\n",
       "      <td>2018-03-05T12:09:16Z</td>\n",
       "    </tr>\n",
       "    <tr>\n",
       "      <th>title</th>\n",
       "      <td>Expanding the reach of heavy neutrino searches...</td>\n",
       "      <td>2018-03-05T12:09:16Z</td>\n",
       "      <td>03ba3f288d8341d380a286a6d0f64de4</td>\n",
       "      <td>2018-03-05T12:09:16Z</td>\n",
       "    </tr>\n",
       "    <tr>\n",
       "      <th>year</th>\n",
       "      <td>2018</td>\n",
       "      <td>2018-03-05T12:09:16Z</td>\n",
       "      <td>03ba3f288d8341d380a286a6d0f64de4</td>\n",
       "      <td>2018-03-05T12:09:16Z</td>\n",
       "    </tr>\n",
       "  </tbody>\n",
       "</table>\n",
       "</div>"
      ],
      "text/plain": [
       "                                                      bibjson  \\\n",
       "abstract    The observation of neutrino oscillations estab...   \n",
       "author      [{u'affiliation': u'Physics Department, Univer...   \n",
       "end_page                                                  100   \n",
       "identifier  [{u'type': u'pissn', u'id': u'0370-2693'}, {u'...   \n",
       "journal     {u'publisher': u'Elsevier', u'language': [u'EN...   \n",
       "link        [{u'url': u'http://www.sciencedirect.com/scien...   \n",
       "month                                                       3   \n",
       "start_page                                                 94   \n",
       "subject     [{u'code': u'QC1-999', u'term': u'Physics', u'...   \n",
       "title       Expanding the reach of heavy neutrino searches...   \n",
       "year                                                     2018   \n",
       "\n",
       "                    created_date                                id  \\\n",
       "abstract    2018-03-05T12:09:16Z  03ba3f288d8341d380a286a6d0f64de4   \n",
       "author      2018-03-05T12:09:16Z  03ba3f288d8341d380a286a6d0f64de4   \n",
       "end_page    2018-03-05T12:09:16Z  03ba3f288d8341d380a286a6d0f64de4   \n",
       "identifier  2018-03-05T12:09:16Z  03ba3f288d8341d380a286a6d0f64de4   \n",
       "journal     2018-03-05T12:09:16Z  03ba3f288d8341d380a286a6d0f64de4   \n",
       "link        2018-03-05T12:09:16Z  03ba3f288d8341d380a286a6d0f64de4   \n",
       "month       2018-03-05T12:09:16Z  03ba3f288d8341d380a286a6d0f64de4   \n",
       "start_page  2018-03-05T12:09:16Z  03ba3f288d8341d380a286a6d0f64de4   \n",
       "subject     2018-03-05T12:09:16Z  03ba3f288d8341d380a286a6d0f64de4   \n",
       "title       2018-03-05T12:09:16Z  03ba3f288d8341d380a286a6d0f64de4   \n",
       "year        2018-03-05T12:09:16Z  03ba3f288d8341d380a286a6d0f64de4   \n",
       "\n",
       "                    last_updated  \n",
       "abstract    2018-03-05T12:09:16Z  \n",
       "author      2018-03-05T12:09:16Z  \n",
       "end_page    2018-03-05T12:09:16Z  \n",
       "identifier  2018-03-05T12:09:16Z  \n",
       "journal     2018-03-05T12:09:16Z  \n",
       "link        2018-03-05T12:09:16Z  \n",
       "month       2018-03-05T12:09:16Z  \n",
       "start_page  2018-03-05T12:09:16Z  \n",
       "subject     2018-03-05T12:09:16Z  \n",
       "title       2018-03-05T12:09:16Z  \n",
       "year        2018-03-05T12:09:16Z  "
      ]
     },
     "execution_count": 12,
     "metadata": {
      "tags": []
     },
     "output_type": "execute_result"
    }
   ],
   "source": [
    "p=pd.DataFrame(  df['results'].values[0] )\n",
    "p"
   ]
  },
  {
   "cell_type": "markdown",
   "metadata": {
    "colab_type": "text",
    "id": "Rfb-0_JTN8bA"
   },
   "source": [
    "Desplegar cada una de las celdas anidadas de la columna __bibjson__"
   ]
  },
  {
   "cell_type": "code",
   "execution_count": 0,
   "metadata": {
    "colab": {
     "base_uri": "https://localhost:8080/",
     "height": 202
    },
    "colab_type": "code",
    "id": "UI2UlUNBK5hJ",
    "outputId": "0e945534-18d0-478e-e6ba-ffeafbc1aa07"
   },
   "outputs": [
    {
     "data": {
      "text/html": [
       "<div>\n",
       "<style scoped>\n",
       "    .dataframe tbody tr th:only-of-type {\n",
       "        vertical-align: middle;\n",
       "    }\n",
       "\n",
       "    .dataframe tbody tr th {\n",
       "        vertical-align: top;\n",
       "    }\n",
       "\n",
       "    .dataframe thead th {\n",
       "        text-align: right;\n",
       "    }\n",
       "</style>\n",
       "<table border=\"1\" class=\"dataframe\">\n",
       "  <thead>\n",
       "    <tr style=\"text-align: right;\">\n",
       "      <th></th>\n",
       "      <th>affiliation</th>\n",
       "      <th>name</th>\n",
       "    </tr>\n",
       "  </thead>\n",
       "  <tbody>\n",
       "    <tr>\n",
       "      <th>0</th>\n",
       "      <td>Physics Department, Universidad de los Andes, ...</td>\n",
       "      <td>Andrés Flórez</td>\n",
       "    </tr>\n",
       "    <tr>\n",
       "      <th>1</th>\n",
       "      <td>Department of Physics and Astronomy, Vanderbil...</td>\n",
       "      <td>Kaiwen Gui</td>\n",
       "    </tr>\n",
       "    <tr>\n",
       "      <th>2</th>\n",
       "      <td>Department of Physics and Astronomy, Vanderbil...</td>\n",
       "      <td>Alfredo Gurrola</td>\n",
       "    </tr>\n",
       "    <tr>\n",
       "      <th>3</th>\n",
       "      <td>Physics Department, Universidad de los Andes, ...</td>\n",
       "      <td>Carlos Patiño</td>\n",
       "    </tr>\n",
       "    <tr>\n",
       "      <th>4</th>\n",
       "      <td>Department of Physics, Universidad de Antioqui...</td>\n",
       "      <td>Diego Restrepo</td>\n",
       "    </tr>\n",
       "  </tbody>\n",
       "</table>\n",
       "</div>"
      ],
      "text/plain": [
       "                                         affiliation             name\n",
       "0  Physics Department, Universidad de los Andes, ...    Andrés Flórez\n",
       "1  Department of Physics and Astronomy, Vanderbil...       Kaiwen Gui\n",
       "2  Department of Physics and Astronomy, Vanderbil...  Alfredo Gurrola\n",
       "3  Physics Department, Universidad de los Andes, ...    Carlos Patiño\n",
       "4  Department of Physics, Universidad de Antioqui...   Diego Restrepo"
      ]
     },
     "execution_count": 18,
     "metadata": {
      "tags": []
     },
     "output_type": "execute_result"
    }
   ],
   "source": [
    "pd.DataFrame(  p.loc['author','bibjson'] )"
   ]
  },
  {
   "cell_type": "code",
   "execution_count": 0,
   "metadata": {
    "colab": {
     "base_uri": "https://localhost:8080/",
     "height": 141
    },
    "colab_type": "code",
    "id": "JgUvVeR5KNNN",
    "outputId": "b7c37bfd-cb6e-4da9-a9b1-607b0f71dd6f"
   },
   "outputs": [
    {
     "data": {
      "text/html": [
       "<div>\n",
       "<style scoped>\n",
       "    .dataframe tbody tr th:only-of-type {\n",
       "        vertical-align: middle;\n",
       "    }\n",
       "\n",
       "    .dataframe tbody tr th {\n",
       "        vertical-align: top;\n",
       "    }\n",
       "\n",
       "    .dataframe thead th {\n",
       "        text-align: right;\n",
       "    }\n",
       "</style>\n",
       "<table border=\"1\" class=\"dataframe\">\n",
       "  <thead>\n",
       "    <tr style=\"text-align: right;\">\n",
       "      <th></th>\n",
       "      <th>id</th>\n",
       "      <th>type</th>\n",
       "    </tr>\n",
       "  </thead>\n",
       "  <tbody>\n",
       "    <tr>\n",
       "      <th>0</th>\n",
       "      <td>0370-2693</td>\n",
       "      <td>pissn</td>\n",
       "    </tr>\n",
       "    <tr>\n",
       "      <th>1</th>\n",
       "      <td>1873-2445</td>\n",
       "      <td>eissn</td>\n",
       "    </tr>\n",
       "    <tr>\n",
       "      <th>2</th>\n",
       "      <td>10.1016/j.physletb.2018.01.009</td>\n",
       "      <td>doi</td>\n",
       "    </tr>\n",
       "  </tbody>\n",
       "</table>\n",
       "</div>"
      ],
      "text/plain": [
       "                               id   type\n",
       "0                       0370-2693  pissn\n",
       "1                       1873-2445  eissn\n",
       "2  10.1016/j.physletb.2018.01.009    doi"
      ]
     },
     "execution_count": 19,
     "metadata": {
      "tags": []
     },
     "output_type": "execute_result"
    }
   ],
   "source": [
    "pd.DataFrame(  p.loc['identifier','bibjson'] )"
   ]
  },
  {
   "cell_type": "code",
   "execution_count": 0,
   "metadata": {
    "colab": {
     "base_uri": "https://localhost:8080/",
     "height": 79
    },
    "colab_type": "code",
    "id": "EVHZfHm_Li8m",
    "outputId": "7c3b511b-ef55-41de-b01b-9d3499472627"
   },
   "outputs": [
    {
     "data": {
      "text/html": [
       "<div>\n",
       "<style scoped>\n",
       "    .dataframe tbody tr th:only-of-type {\n",
       "        vertical-align: middle;\n",
       "    }\n",
       "\n",
       "    .dataframe tbody tr th {\n",
       "        vertical-align: top;\n",
       "    }\n",
       "\n",
       "    .dataframe thead th {\n",
       "        text-align: right;\n",
       "    }\n",
       "</style>\n",
       "<table border=\"1\" class=\"dataframe\">\n",
       "  <thead>\n",
       "    <tr style=\"text-align: right;\">\n",
       "      <th></th>\n",
       "      <th>country</th>\n",
       "      <th>issns</th>\n",
       "      <th>language</th>\n",
       "      <th>license</th>\n",
       "      <th>number</th>\n",
       "      <th>publisher</th>\n",
       "      <th>title</th>\n",
       "      <th>volume</th>\n",
       "    </tr>\n",
       "  </thead>\n",
       "  <tbody>\n",
       "    <tr>\n",
       "      <th>0</th>\n",
       "      <td>NL</td>\n",
       "      <td>[0370-2693, 1873-2445]</td>\n",
       "      <td>[EN]</td>\n",
       "      <td>[{u'url': u'http://www.elsevier.com/journals/p...</td>\n",
       "      <td>C</td>\n",
       "      <td>Elsevier</td>\n",
       "      <td>Physics Letters B</td>\n",
       "      <td>778</td>\n",
       "    </tr>\n",
       "  </tbody>\n",
       "</table>\n",
       "</div>"
      ],
      "text/plain": [
       "  country                   issns language  \\\n",
       "0      NL  [0370-2693, 1873-2445]     [EN]   \n",
       "\n",
       "                                             license number publisher  \\\n",
       "0  [{u'url': u'http://www.elsevier.com/journals/p...      C  Elsevier   \n",
       "\n",
       "               title volume  \n",
       "0  Physics Letters B    778  "
      ]
     },
     "execution_count": 24,
     "metadata": {
      "tags": []
     },
     "output_type": "execute_result"
    }
   ],
   "source": [
    " pd.DataFrame( [p.loc['journal','bibjson'] ] )\n"
   ]
  },
  {
   "cell_type": "code",
   "execution_count": 0,
   "metadata": {
    "colab": {
     "base_uri": "https://localhost:8080/",
     "height": 79
    },
    "colab_type": "code",
    "id": "tGvelHhSLq3B",
    "outputId": "90d2232e-1140-4089-a285-2a3f274f7d87"
   },
   "outputs": [
    {
     "data": {
      "text/html": [
       "<div>\n",
       "<style scoped>\n",
       "    .dataframe tbody tr th:only-of-type {\n",
       "        vertical-align: middle;\n",
       "    }\n",
       "\n",
       "    .dataframe tbody tr th {\n",
       "        vertical-align: top;\n",
       "    }\n",
       "\n",
       "    .dataframe thead th {\n",
       "        text-align: right;\n",
       "    }\n",
       "</style>\n",
       "<table border=\"1\" class=\"dataframe\">\n",
       "  <thead>\n",
       "    <tr style=\"text-align: right;\">\n",
       "      <th></th>\n",
       "      <th>open_access</th>\n",
       "      <th>title</th>\n",
       "      <th>type</th>\n",
       "      <th>url</th>\n",
       "    </tr>\n",
       "  </thead>\n",
       "  <tbody>\n",
       "    <tr>\n",
       "      <th>0</th>\n",
       "      <td>True</td>\n",
       "      <td>CC BY</td>\n",
       "      <td>CC BY</td>\n",
       "      <td>http://www.elsevier.com/journals/physics-lette...</td>\n",
       "    </tr>\n",
       "  </tbody>\n",
       "</table>\n",
       "</div>"
      ],
      "text/plain": [
       "   open_access  title   type  \\\n",
       "0         True  CC BY  CC BY   \n",
       "\n",
       "                                                 url  \n",
       "0  http://www.elsevier.com/journals/physics-lette...  "
      ]
     },
     "execution_count": 25,
     "metadata": {
      "tags": []
     },
     "output_type": "execute_result"
    }
   ],
   "source": [
    "pd.DataFrame( p.loc['journal','bibjson']['license'] )"
   ]
  },
  {
   "cell_type": "code",
   "execution_count": 0,
   "metadata": {
    "colab": {
     "base_uri": "https://localhost:8080/",
     "height": 79
    },
    "colab_type": "code",
    "id": "KDV-pw1GMDTI",
    "outputId": "df95adb1-d22f-4320-dd44-7ee3fb7f2c52"
   },
   "outputs": [
    {
     "data": {
      "text/html": [
       "<div>\n",
       "<style scoped>\n",
       "    .dataframe tbody tr th:only-of-type {\n",
       "        vertical-align: middle;\n",
       "    }\n",
       "\n",
       "    .dataframe tbody tr th {\n",
       "        vertical-align: top;\n",
       "    }\n",
       "\n",
       "    .dataframe thead th {\n",
       "        text-align: right;\n",
       "    }\n",
       "</style>\n",
       "<table border=\"1\" class=\"dataframe\">\n",
       "  <thead>\n",
       "    <tr style=\"text-align: right;\">\n",
       "      <th></th>\n",
       "      <th>type</th>\n",
       "      <th>url</th>\n",
       "    </tr>\n",
       "  </thead>\n",
       "  <tbody>\n",
       "    <tr>\n",
       "      <th>0</th>\n",
       "      <td>fulltext</td>\n",
       "      <td>http://www.sciencedirect.com/science/article/p...</td>\n",
       "    </tr>\n",
       "  </tbody>\n",
       "</table>\n",
       "</div>"
      ],
      "text/plain": [
       "       type                                                url\n",
       "0  fulltext  http://www.sciencedirect.com/science/article/p..."
      ]
     },
     "execution_count": 28,
     "metadata": {
      "tags": []
     },
     "output_type": "execute_result"
    }
   ],
   "source": [
    "pd.DataFrame(  p.loc['link','bibjson']  )"
   ]
  },
  {
   "cell_type": "markdown",
   "metadata": {
    "colab_type": "text",
    "id": "NHez240DMkPM"
   },
   "source": [
    "# Dask"
   ]
  },
  {
   "cell_type": "code",
   "execution_count": 0,
   "metadata": {
    "colab": {},
    "colab_type": "code",
    "collapsed": true,
    "id": "fIOwJDy7oe7c"
   },
   "outputs": [],
   "source": [
    "! pip install dask cloudpickle > /dev/null"
   ]
  },
  {
   "cell_type": "code",
   "execution_count": 0,
   "metadata": {
    "colab": {
     "base_uri": "https://localhost:8080/",
     "height": 34
    },
    "colab_type": "code",
    "id": "KkGs9gRioh1S",
    "outputId": "b9877d24-61e5-4afc-cd20-fc41c58ac045"
   },
   "outputs": [
    {
     "data": {
      "text/plain": [
       "2"
      ]
     },
     "execution_count": 3,
     "metadata": {
      "tags": []
     },
     "output_type": "execute_result"
    }
   ],
   "source": [
    "1+1"
   ]
  },
  {
   "cell_type": "code",
   "execution_count": 0,
   "metadata": {
    "colab": {},
    "colab_type": "code",
    "collapsed": true,
    "id": "AufPWJMKoxN_"
   },
   "outputs": [],
   "source": [
    "import dask as dk"
   ]
  },
  {
   "cell_type": "code",
   "execution_count": 0,
   "metadata": {
    "colab": {},
    "colab_type": "code",
    "collapsed": true,
    "id": "_fc2bwH2pbcF"
   },
   "outputs": [],
   "source": [
    "from dask import dataframe"
   ]
  },
  {
   "cell_type": "code",
   "execution_count": 0,
   "metadata": {
    "colab": {
     "base_uri": "https://localhost:8080/",
     "height": 34
    },
    "colab_type": "code",
    "id": "FVyiCQ8epvSo",
    "outputId": "137f045f-cd00-4221-de63-9e35af43d391"
   },
   "outputs": [
    {
     "name": "stdout",
     "output_type": "stream",
     "text": [
      "Writing kk.json\n"
     ]
    }
   ],
   "source": [
    "%%writefile kk.json\n",
    "{\"A\":1,\"B\":3}\n",
    "{\"A\":5,\"B\":6}"
   ]
  },
  {
   "cell_type": "code",
   "execution_count": 0,
   "metadata": {
    "colab": {},
    "colab_type": "code",
    "collapsed": true,
    "id": "6DJkDKB_qiO0"
   },
   "outputs": [],
   "source": [
    "df=dataframe.read_json('kk.json')"
   ]
  },
  {
   "cell_type": "code",
   "execution_count": 0,
   "metadata": {
    "colab": {
     "base_uri": "https://localhost:8080/",
     "height": 111
    },
    "colab_type": "code",
    "id": "k-P9-oBnqnMo",
    "outputId": "0521ec1c-148a-4912-c6a2-4125733db144"
   },
   "outputs": [
    {
     "data": {
      "text/html": [
       "<div>\n",
       "<style scoped>\n",
       "    .dataframe tbody tr th:only-of-type {\n",
       "        vertical-align: middle;\n",
       "    }\n",
       "\n",
       "    .dataframe tbody tr th {\n",
       "        vertical-align: top;\n",
       "    }\n",
       "\n",
       "    .dataframe thead th {\n",
       "        text-align: right;\n",
       "    }\n",
       "</style>\n",
       "<table border=\"1\" class=\"dataframe\">\n",
       "  <thead>\n",
       "    <tr style=\"text-align: right;\">\n",
       "      <th></th>\n",
       "      <th>A</th>\n",
       "      <th>B</th>\n",
       "    </tr>\n",
       "  </thead>\n",
       "  <tbody>\n",
       "    <tr>\n",
       "      <th>0</th>\n",
       "      <td>1</td>\n",
       "      <td>3</td>\n",
       "    </tr>\n",
       "    <tr>\n",
       "      <th>1</th>\n",
       "      <td>5</td>\n",
       "      <td>6</td>\n",
       "    </tr>\n",
       "  </tbody>\n",
       "</table>\n",
       "</div>"
      ],
      "text/plain": [
       "   A  B\n",
       "0  1  3\n",
       "1  5  6"
      ]
     },
     "execution_count": 38,
     "metadata": {
      "tags": []
     },
     "output_type": "execute_result"
    }
   ],
   "source": [
    "df.compute()"
   ]
  },
  {
   "cell_type": "code",
   "execution_count": 0,
   "metadata": {
    "colab": {},
    "colab_type": "code",
    "collapsed": true,
    "id": "_LI1JvUnw_Sx"
   },
   "outputs": [],
   "source": [
    "import pandas as pd"
   ]
  },
  {
   "cell_type": "code",
   "execution_count": 0,
   "metadata": {
    "colab": {
     "base_uri": "https://localhost:8080/",
     "height": 111
    },
    "colab_type": "code",
    "id": "m20r-oeXxA7j",
    "outputId": "e78cf704-b1f8-4bad-8c44-24cb0cbb5ca9"
   },
   "outputs": [
    {
     "data": {
      "text/html": [
       "<div>\n",
       "<style scoped>\n",
       "    .dataframe tbody tr th:only-of-type {\n",
       "        vertical-align: middle;\n",
       "    }\n",
       "\n",
       "    .dataframe tbody tr th {\n",
       "        vertical-align: top;\n",
       "    }\n",
       "\n",
       "    .dataframe thead th {\n",
       "        text-align: right;\n",
       "    }\n",
       "</style>\n",
       "<table border=\"1\" class=\"dataframe\">\n",
       "  <thead>\n",
       "    <tr style=\"text-align: right;\">\n",
       "      <th></th>\n",
       "      <th>A</th>\n",
       "      <th>B</th>\n",
       "    </tr>\n",
       "  </thead>\n",
       "  <tbody>\n",
       "    <tr>\n",
       "      <th>0</th>\n",
       "      <td>1</td>\n",
       "      <td>3</td>\n",
       "    </tr>\n",
       "    <tr>\n",
       "      <th>1</th>\n",
       "      <td>5</td>\n",
       "      <td>6</td>\n",
       "    </tr>\n",
       "  </tbody>\n",
       "</table>\n",
       "</div>"
      ],
      "text/plain": [
       "   A  B\n",
       "0  1  3\n",
       "1  5  6"
      ]
     },
     "execution_count": 40,
     "metadata": {
      "tags": []
     },
     "output_type": "execute_result"
    }
   ],
   "source": [
    "pd.read_json('kk.json',orient='records',lines=True)"
   ]
  },
  {
   "cell_type": "code",
   "execution_count": 0,
   "metadata": {
    "colab": {},
    "colab_type": "code",
    "collapsed": true,
    "id": "xjKxOIpWqsha"
   },
   "outputs": [],
   "source": [
    "import os\n",
    "os.chdir('drive/My Drive/Colab Notebooks/Data')"
   ]
  },
  {
   "cell_type": "code",
   "execution_count": 0,
   "metadata": {
    "colab": {},
    "colab_type": "code",
    "collapsed": true,
    "id": "43FmC3KvrvQO"
   },
   "outputs": [],
   "source": [
    "!head -n10 oagreenarticle.json > tmp.json"
   ]
  },
  {
   "cell_type": "code",
   "execution_count": 0,
   "metadata": {
    "colab": {},
    "colab_type": "code",
    "collapsed": true,
    "id": "3xUzGK6zvnxw"
   },
   "outputs": [],
   "source": [
    "import pandas as pd"
   ]
  },
  {
   "cell_type": "code",
   "execution_count": 0,
   "metadata": {
    "colab": {
     "base_uri": "https://localhost:8080/",
     "height": 383
    },
    "colab_type": "code",
    "id": "edNUetghvp3T",
    "outputId": "ed013439-456a-4a53-e08e-0814545f96f3"
   },
   "outputs": [
    {
     "data": {
      "text/html": [
       "<div>\n",
       "<style scoped>\n",
       "    .dataframe tbody tr th:only-of-type {\n",
       "        vertical-align: middle;\n",
       "    }\n",
       "\n",
       "    .dataframe tbody tr th {\n",
       "        vertical-align: top;\n",
       "    }\n",
       "\n",
       "    .dataframe thead th {\n",
       "        text-align: right;\n",
       "    }\n",
       "</style>\n",
       "<table border=\"1\" class=\"dataframe\">\n",
       "  <thead>\n",
       "    <tr style=\"text-align: right;\">\n",
       "      <th></th>\n",
       "      <th>best_oa_location</th>\n",
       "      <th>data_standard</th>\n",
       "      <th>doi</th>\n",
       "      <th>doi_url</th>\n",
       "      <th>genre</th>\n",
       "      <th>is_oa</th>\n",
       "      <th>journal_is_in_doaj</th>\n",
       "      <th>journal_is_oa</th>\n",
       "      <th>journal_issns</th>\n",
       "      <th>journal_name</th>\n",
       "      <th>oa_locations</th>\n",
       "      <th>published_date</th>\n",
       "      <th>publisher</th>\n",
       "      <th>title</th>\n",
       "      <th>updated</th>\n",
       "      <th>year</th>\n",
       "      <th>z_authors</th>\n",
       "    </tr>\n",
       "  </thead>\n",
       "  <tbody>\n",
       "    <tr>\n",
       "      <th>0</th>\n",
       "      <td>{'url': 'https://doi.org/10.1016/j.ahj.2015.02...</td>\n",
       "      <td>2</td>\n",
       "      <td>10.1016/j.ahj.2015.02.019</td>\n",
       "      <td>https://doi.org/10.1016/j.ahj.2015.02.019</td>\n",
       "      <td>journal-article</td>\n",
       "      <td>True</td>\n",
       "      <td>False</td>\n",
       "      <td>False</td>\n",
       "      <td>0002-8703</td>\n",
       "      <td>American Heart Journal</td>\n",
       "      <td>[{'url': 'https://doi.org/10.1016/j.ahj.2015.0...</td>\n",
       "      <td>2015-06-01</td>\n",
       "      <td>Elsevier BV</td>\n",
       "      <td>Biomarkers for risk stratification of patients...</td>\n",
       "      <td>2018-06-18T19:10:12.692979</td>\n",
       "      <td>2015.0</td>\n",
       "      <td>[{'given': 'Matthijs A.', 'family': 'Velders'}...</td>\n",
       "    </tr>\n",
       "    <tr>\n",
       "      <th>1</th>\n",
       "      <td>{'url': 'https://doi.org/10.1021/acsnano.7b049...</td>\n",
       "      <td>2</td>\n",
       "      <td>10.1021/acsnano.7b04994</td>\n",
       "      <td>https://doi.org/10.1021/acsnano.7b04994</td>\n",
       "      <td>journal-article</td>\n",
       "      <td>True</td>\n",
       "      <td>False</td>\n",
       "      <td>False</td>\n",
       "      <td>1936-0851,1936-086X</td>\n",
       "      <td>ACS Nano</td>\n",
       "      <td>[{'url': 'https://doi.org/10.1021/acsnano.7b04...</td>\n",
       "      <td>2017-09-08</td>\n",
       "      <td>American Chemical Society (ACS)</td>\n",
       "      <td>Hybrid Surface Patterns Mimicking the Design o...</td>\n",
       "      <td>2018-06-14T11:39:08.680219</td>\n",
       "      <td>2017.0</td>\n",
       "      <td>[{'ORCID': 'http://orcid.org/0000-0001-5512-74...</td>\n",
       "    </tr>\n",
       "    <tr>\n",
       "      <th>2</th>\n",
       "      <td>{'url': 'https://doi.org/10.1016/s0925-4773(00...</td>\n",
       "      <td>2</td>\n",
       "      <td>10.1016/s0925-4773(00)00472-x</td>\n",
       "      <td>https://doi.org/10.1016/s0925-4773(00)00472-x</td>\n",
       "      <td>journal-article</td>\n",
       "      <td>True</td>\n",
       "      <td>False</td>\n",
       "      <td>False</td>\n",
       "      <td>0925-4773</td>\n",
       "      <td>Mechanisms of Development</td>\n",
       "      <td>[{'url': 'https://doi.org/10.1016/s0925-4773(0...</td>\n",
       "      <td>2000-12-01</td>\n",
       "      <td>Elsevier BV</td>\n",
       "      <td>Embryonic expression of a P2X 3 receptor encod...</td>\n",
       "      <td>2018-06-18T04:15:29.411710</td>\n",
       "      <td>2000.0</td>\n",
       "      <td>[{'given': 'William H.J', 'family': 'Norton'},...</td>\n",
       "    </tr>\n",
       "  </tbody>\n",
       "</table>\n",
       "</div>"
      ],
      "text/plain": [
       "                                    best_oa_location  data_standard  \\\n",
       "0  {'url': 'https://doi.org/10.1016/j.ahj.2015.02...              2   \n",
       "1  {'url': 'https://doi.org/10.1021/acsnano.7b049...              2   \n",
       "2  {'url': 'https://doi.org/10.1016/s0925-4773(00...              2   \n",
       "\n",
       "                             doi  \\\n",
       "0      10.1016/j.ahj.2015.02.019   \n",
       "1        10.1021/acsnano.7b04994   \n",
       "2  10.1016/s0925-4773(00)00472-x   \n",
       "\n",
       "                                         doi_url            genre  is_oa  \\\n",
       "0      https://doi.org/10.1016/j.ahj.2015.02.019  journal-article   True   \n",
       "1        https://doi.org/10.1021/acsnano.7b04994  journal-article   True   \n",
       "2  https://doi.org/10.1016/s0925-4773(00)00472-x  journal-article   True   \n",
       "\n",
       "   journal_is_in_doaj  journal_is_oa        journal_issns  \\\n",
       "0               False          False            0002-8703   \n",
       "1               False          False  1936-0851,1936-086X   \n",
       "2               False          False            0925-4773   \n",
       "\n",
       "                journal_name  \\\n",
       "0     American Heart Journal   \n",
       "1                   ACS Nano   \n",
       "2  Mechanisms of Development   \n",
       "\n",
       "                                        oa_locations published_date  \\\n",
       "0  [{'url': 'https://doi.org/10.1016/j.ahj.2015.0...     2015-06-01   \n",
       "1  [{'url': 'https://doi.org/10.1021/acsnano.7b04...     2017-09-08   \n",
       "2  [{'url': 'https://doi.org/10.1016/s0925-4773(0...     2000-12-01   \n",
       "\n",
       "                         publisher  \\\n",
       "0                      Elsevier BV   \n",
       "1  American Chemical Society (ACS)   \n",
       "2                      Elsevier BV   \n",
       "\n",
       "                                               title  \\\n",
       "0  Biomarkers for risk stratification of patients...   \n",
       "1  Hybrid Surface Patterns Mimicking the Design o...   \n",
       "2  Embryonic expression of a P2X 3 receptor encod...   \n",
       "\n",
       "                      updated    year  \\\n",
       "0  2018-06-18T19:10:12.692979  2015.0   \n",
       "1  2018-06-14T11:39:08.680219  2017.0   \n",
       "2  2018-06-18T04:15:29.411710  2000.0   \n",
       "\n",
       "                                           z_authors  \n",
       "0  [{'given': 'Matthijs A.', 'family': 'Velders'}...  \n",
       "1  [{'ORCID': 'http://orcid.org/0000-0001-5512-74...  \n",
       "2  [{'given': 'William H.J', 'family': 'Norton'},...  "
      ]
     },
     "execution_count": 33,
     "metadata": {
      "tags": []
     },
     "output_type": "execute_result"
    }
   ],
   "source": [
    "pd.read_json('tmp.json',orient='records',lines=True)[:3]"
   ]
  },
  {
   "cell_type": "code",
   "execution_count": 0,
   "metadata": {
    "colab": {},
    "colab_type": "code",
    "collapsed": true,
    "id": "jzSqZPBBt90M"
   },
   "outputs": [],
   "source": [
    "tmp=dataframe.read_json('tmp.json')"
   ]
  },
  {
   "cell_type": "code",
   "execution_count": 0,
   "metadata": {
    "colab": {
     "base_uri": "https://localhost:8080/",
     "height": 940
    },
    "colab_type": "code",
    "id": "eh4V8Llbr47Z",
    "outputId": "e0375e1d-3f2a-4954-db33-331537025f1e"
   },
   "outputs": [
    {
     "data": {
      "text/html": [
       "<div>\n",
       "<style scoped>\n",
       "    .dataframe tbody tr th:only-of-type {\n",
       "        vertical-align: middle;\n",
       "    }\n",
       "\n",
       "    .dataframe tbody tr th {\n",
       "        vertical-align: top;\n",
       "    }\n",
       "\n",
       "    .dataframe thead th {\n",
       "        text-align: right;\n",
       "    }\n",
       "</style>\n",
       "<table border=\"1\" class=\"dataframe\">\n",
       "  <thead>\n",
       "    <tr style=\"text-align: right;\">\n",
       "      <th></th>\n",
       "      <th>best_oa_location</th>\n",
       "      <th>data_standard</th>\n",
       "      <th>doi</th>\n",
       "      <th>doi_url</th>\n",
       "      <th>genre</th>\n",
       "      <th>is_oa</th>\n",
       "      <th>journal_is_in_doaj</th>\n",
       "      <th>journal_is_oa</th>\n",
       "      <th>journal_issns</th>\n",
       "      <th>journal_name</th>\n",
       "      <th>oa_locations</th>\n",
       "      <th>published_date</th>\n",
       "      <th>publisher</th>\n",
       "      <th>title</th>\n",
       "      <th>updated</th>\n",
       "      <th>year</th>\n",
       "      <th>z_authors</th>\n",
       "    </tr>\n",
       "  </thead>\n",
       "  <tbody>\n",
       "    <tr>\n",
       "      <th>0</th>\n",
       "      <td>{'url': 'https://doi.org/10.1016/j.ahj.2015.02...</td>\n",
       "      <td>2</td>\n",
       "      <td>10.1016/j.ahj.2015.02.019</td>\n",
       "      <td>https://doi.org/10.1016/j.ahj.2015.02.019</td>\n",
       "      <td>journal-article</td>\n",
       "      <td>True</td>\n",
       "      <td>False</td>\n",
       "      <td>False</td>\n",
       "      <td>0002-8703</td>\n",
       "      <td>American Heart Journal</td>\n",
       "      <td>[{'url': 'https://doi.org/10.1016/j.ahj.2015.0...</td>\n",
       "      <td>2015-06-01</td>\n",
       "      <td>Elsevier BV</td>\n",
       "      <td>Biomarkers for risk stratification of patients...</td>\n",
       "      <td>2018-06-18T19:10:12.692979</td>\n",
       "      <td>2015.0</td>\n",
       "      <td>[{'given': 'Matthijs A.', 'family': 'Velders'}...</td>\n",
       "    </tr>\n",
       "    <tr>\n",
       "      <th>1</th>\n",
       "      <td>{'url': 'https://doi.org/10.1021/acsnano.7b049...</td>\n",
       "      <td>2</td>\n",
       "      <td>10.1021/acsnano.7b04994</td>\n",
       "      <td>https://doi.org/10.1021/acsnano.7b04994</td>\n",
       "      <td>journal-article</td>\n",
       "      <td>True</td>\n",
       "      <td>False</td>\n",
       "      <td>False</td>\n",
       "      <td>1936-0851,1936-086X</td>\n",
       "      <td>ACS Nano</td>\n",
       "      <td>[{'url': 'https://doi.org/10.1021/acsnano.7b04...</td>\n",
       "      <td>2017-09-08</td>\n",
       "      <td>American Chemical Society (ACS)</td>\n",
       "      <td>Hybrid Surface Patterns Mimicking the Design o...</td>\n",
       "      <td>2018-06-14T11:39:08.680219</td>\n",
       "      <td>2017.0</td>\n",
       "      <td>[{'ORCID': 'http://orcid.org/0000-0001-5512-74...</td>\n",
       "    </tr>\n",
       "    <tr>\n",
       "      <th>2</th>\n",
       "      <td>{'url': 'https://doi.org/10.1016/s0925-4773(00...</td>\n",
       "      <td>2</td>\n",
       "      <td>10.1016/s0925-4773(00)00472-x</td>\n",
       "      <td>https://doi.org/10.1016/s0925-4773(00)00472-x</td>\n",
       "      <td>journal-article</td>\n",
       "      <td>True</td>\n",
       "      <td>False</td>\n",
       "      <td>False</td>\n",
       "      <td>0925-4773</td>\n",
       "      <td>Mechanisms of Development</td>\n",
       "      <td>[{'url': 'https://doi.org/10.1016/s0925-4773(0...</td>\n",
       "      <td>2000-12-01</td>\n",
       "      <td>Elsevier BV</td>\n",
       "      <td>Embryonic expression of a P2X 3 receptor encod...</td>\n",
       "      <td>2018-06-18T04:15:29.411710</td>\n",
       "      <td>2000.0</td>\n",
       "      <td>[{'given': 'William H.J', 'family': 'Norton'},...</td>\n",
       "    </tr>\n",
       "    <tr>\n",
       "      <th>3</th>\n",
       "      <td>{'url': 'https://doi.org/10.1016/0021-8693(88)...</td>\n",
       "      <td>1</td>\n",
       "      <td>10.1016/0021-8693(88)90058-0</td>\n",
       "      <td>https://doi.org/10.1016/0021-8693(88)90058-0</td>\n",
       "      <td>journal-article</td>\n",
       "      <td>True</td>\n",
       "      <td>False</td>\n",
       "      <td>False</td>\n",
       "      <td>0021-8693</td>\n",
       "      <td>Journal of Algebra</td>\n",
       "      <td>[{'url': 'https://doi.org/10.1016/0021-8693(88...</td>\n",
       "      <td>1988-10-01</td>\n",
       "      <td>Elsevier BV</td>\n",
       "      <td>Corrigendum</td>\n",
       "      <td>2018-06-18T04:18:43.222135</td>\n",
       "      <td>1988.0</td>\n",
       "      <td>None</td>\n",
       "    </tr>\n",
       "    <tr>\n",
       "      <th>4</th>\n",
       "      <td>{'url': 'https://doi.org/10.1016/j.mod.2006.03...</td>\n",
       "      <td>2</td>\n",
       "      <td>10.1016/j.mod.2006.03.003</td>\n",
       "      <td>https://doi.org/10.1016/j.mod.2006.03.003</td>\n",
       "      <td>journal-article</td>\n",
       "      <td>True</td>\n",
       "      <td>False</td>\n",
       "      <td>False</td>\n",
       "      <td>0925-4773</td>\n",
       "      <td>Mechanisms of Development</td>\n",
       "      <td>[{'url': 'https://doi.org/10.1016/j.mod.2006.0...</td>\n",
       "      <td>2006-05-01</td>\n",
       "      <td>Elsevier BV</td>\n",
       "      <td>Impaired development of the Harderian gland in...</td>\n",
       "      <td>2018-06-18T04:20:45.498171</td>\n",
       "      <td>2006.0</td>\n",
       "      <td>[{'given': 'Andreas', 'family': 'Schild'}, {'g...</td>\n",
       "    </tr>\n",
       "    <tr>\n",
       "      <th>5</th>\n",
       "      <td>{'url': 'https://doi.org/10.1103/physrevc.96.0...</td>\n",
       "      <td>2</td>\n",
       "      <td>10.1103/physrevc.96.014310</td>\n",
       "      <td>https://doi.org/10.1103/physrevc.96.014310</td>\n",
       "      <td>journal-article</td>\n",
       "      <td>True</td>\n",
       "      <td>False</td>\n",
       "      <td>False</td>\n",
       "      <td>2469-9985,2469-9993</td>\n",
       "      <td>Physical Review C</td>\n",
       "      <td>[{'url': 'https://doi.org/10.1103/physrevc.96....</td>\n",
       "      <td>2017-07-14</td>\n",
       "      <td>American Physical Society (APS)</td>\n",
       "      <td>Nuclear deformation in the A≈100 region: Compa...</td>\n",
       "      <td>2018-06-16T19:57:39.403083</td>\n",
       "      <td>2017.0</td>\n",
       "      <td>[{'given': 'A.', 'family': 'de Roubin'}, {'giv...</td>\n",
       "    </tr>\n",
       "    <tr>\n",
       "      <th>6</th>\n",
       "      <td>{'url': 'https://doi.org/10.1016/s0960-9822(07...</td>\n",
       "      <td>2</td>\n",
       "      <td>10.1016/s0960-9822(07)00493-9</td>\n",
       "      <td>https://doi.org/10.1016/s0960-9822(07)00493-9</td>\n",
       "      <td>journal-article</td>\n",
       "      <td>True</td>\n",
       "      <td>False</td>\n",
       "      <td>False</td>\n",
       "      <td>0960-9822</td>\n",
       "      <td>Current Biology</td>\n",
       "      <td>[{'url': 'https://doi.org/10.1016/s0960-9822(0...</td>\n",
       "      <td>1998-10-01</td>\n",
       "      <td>Elsevier BV</td>\n",
       "      <td>Protein kinase B (PKB/Akt) activity is elevate...</td>\n",
       "      <td>2018-06-18T04:21:43.465040</td>\n",
       "      <td>1998.0</td>\n",
       "      <td>[{'given': 'Daphne', 'family': 'Haas-Kogan'}, ...</td>\n",
       "    </tr>\n",
       "    <tr>\n",
       "      <th>7</th>\n",
       "      <td>{'url': 'https://doi.org/10.1016/s1470-2045(13...</td>\n",
       "      <td>2</td>\n",
       "      <td>10.1016/s1470-2045(13)70163-3</td>\n",
       "      <td>https://doi.org/10.1016/s1470-2045(13)70163-3</td>\n",
       "      <td>journal-article</td>\n",
       "      <td>True</td>\n",
       "      <td>False</td>\n",
       "      <td>False</td>\n",
       "      <td>1470-2045</td>\n",
       "      <td>The Lancet Oncology</td>\n",
       "      <td>[{'url': 'https://doi.org/10.1016/s1470-2045(1...</td>\n",
       "      <td>2013-07-01</td>\n",
       "      <td>Elsevier BV</td>\n",
       "      <td>Panitumumab and irinotecan versus irinotecan a...</td>\n",
       "      <td>2018-06-18T19:11:38.984437</td>\n",
       "      <td>2013.0</td>\n",
       "      <td>[{'given': 'Matthew T', 'family': 'Seymour'}, ...</td>\n",
       "    </tr>\n",
       "    <tr>\n",
       "      <th>8</th>\n",
       "      <td>{'url': 'https://doi.org/10.24159/joec.2014.20...</td>\n",
       "      <td>2</td>\n",
       "      <td>10.24159/joec.2014.20.4.281</td>\n",
       "      <td>https://doi.org/10.24159/joec.2014.20.4.281</td>\n",
       "      <td>journal-article</td>\n",
       "      <td>True</td>\n",
       "      <td>False</td>\n",
       "      <td>False</td>\n",
       "      <td>1598-9283</td>\n",
       "      <td>Journal of Education &amp; Culture</td>\n",
       "      <td>[{'url': 'https://doi.org/10.24159/joec.2014.2...</td>\n",
       "      <td>2014-12-01</td>\n",
       "      <td>Education Research Institute</td>\n",
       "      <td>The Research on the Values and Lifestyles of K...</td>\n",
       "      <td>2018-06-18T05:26:34.731357</td>\n",
       "      <td>2014.0</td>\n",
       "      <td>[{'family': 'Kim,Heung-Kyu'}, {'family': '이상란'}]</td>\n",
       "    </tr>\n",
       "    <tr>\n",
       "      <th>9</th>\n",
       "      <td>{'url': 'https://doi.org/10.5194/acp-2016-560-...</td>\n",
       "      <td>2</td>\n",
       "      <td>10.5194/acp-2016-560-ac1</td>\n",
       "      <td>https://doi.org/10.5194/acp-2016-560-ac1</td>\n",
       "      <td>component</td>\n",
       "      <td>True</td>\n",
       "      <td>False</td>\n",
       "      <td>False</td>\n",
       "      <td>None</td>\n",
       "      <td>None</td>\n",
       "      <td>[{'url': 'https://doi.org/10.5194/acp-2016-560...</td>\n",
       "      <td>None</td>\n",
       "      <td>Copernicus GmbH</td>\n",
       "      <td>None</td>\n",
       "      <td>2018-06-15T17:12:08.805398</td>\n",
       "      <td>NaN</td>\n",
       "      <td>None</td>\n",
       "    </tr>\n",
       "  </tbody>\n",
       "</table>\n",
       "</div>"
      ],
      "text/plain": [
       "                                    best_oa_location  data_standard  \\\n",
       "0  {'url': 'https://doi.org/10.1016/j.ahj.2015.02...              2   \n",
       "1  {'url': 'https://doi.org/10.1021/acsnano.7b049...              2   \n",
       "2  {'url': 'https://doi.org/10.1016/s0925-4773(00...              2   \n",
       "3  {'url': 'https://doi.org/10.1016/0021-8693(88)...              1   \n",
       "4  {'url': 'https://doi.org/10.1016/j.mod.2006.03...              2   \n",
       "5  {'url': 'https://doi.org/10.1103/physrevc.96.0...              2   \n",
       "6  {'url': 'https://doi.org/10.1016/s0960-9822(07...              2   \n",
       "7  {'url': 'https://doi.org/10.1016/s1470-2045(13...              2   \n",
       "8  {'url': 'https://doi.org/10.24159/joec.2014.20...              2   \n",
       "9  {'url': 'https://doi.org/10.5194/acp-2016-560-...              2   \n",
       "\n",
       "                             doi  \\\n",
       "0      10.1016/j.ahj.2015.02.019   \n",
       "1        10.1021/acsnano.7b04994   \n",
       "2  10.1016/s0925-4773(00)00472-x   \n",
       "3   10.1016/0021-8693(88)90058-0   \n",
       "4      10.1016/j.mod.2006.03.003   \n",
       "5     10.1103/physrevc.96.014310   \n",
       "6  10.1016/s0960-9822(07)00493-9   \n",
       "7  10.1016/s1470-2045(13)70163-3   \n",
       "8    10.24159/joec.2014.20.4.281   \n",
       "9       10.5194/acp-2016-560-ac1   \n",
       "\n",
       "                                         doi_url            genre  is_oa  \\\n",
       "0      https://doi.org/10.1016/j.ahj.2015.02.019  journal-article   True   \n",
       "1        https://doi.org/10.1021/acsnano.7b04994  journal-article   True   \n",
       "2  https://doi.org/10.1016/s0925-4773(00)00472-x  journal-article   True   \n",
       "3   https://doi.org/10.1016/0021-8693(88)90058-0  journal-article   True   \n",
       "4      https://doi.org/10.1016/j.mod.2006.03.003  journal-article   True   \n",
       "5     https://doi.org/10.1103/physrevc.96.014310  journal-article   True   \n",
       "6  https://doi.org/10.1016/s0960-9822(07)00493-9  journal-article   True   \n",
       "7  https://doi.org/10.1016/s1470-2045(13)70163-3  journal-article   True   \n",
       "8    https://doi.org/10.24159/joec.2014.20.4.281  journal-article   True   \n",
       "9       https://doi.org/10.5194/acp-2016-560-ac1        component   True   \n",
       "\n",
       "   journal_is_in_doaj  journal_is_oa        journal_issns  \\\n",
       "0               False          False            0002-8703   \n",
       "1               False          False  1936-0851,1936-086X   \n",
       "2               False          False            0925-4773   \n",
       "3               False          False            0021-8693   \n",
       "4               False          False            0925-4773   \n",
       "5               False          False  2469-9985,2469-9993   \n",
       "6               False          False            0960-9822   \n",
       "7               False          False            1470-2045   \n",
       "8               False          False            1598-9283   \n",
       "9               False          False                 None   \n",
       "\n",
       "                     journal_name  \\\n",
       "0          American Heart Journal   \n",
       "1                        ACS Nano   \n",
       "2       Mechanisms of Development   \n",
       "3              Journal of Algebra   \n",
       "4       Mechanisms of Development   \n",
       "5               Physical Review C   \n",
       "6                 Current Biology   \n",
       "7             The Lancet Oncology   \n",
       "8  Journal of Education & Culture   \n",
       "9                            None   \n",
       "\n",
       "                                        oa_locations published_date  \\\n",
       "0  [{'url': 'https://doi.org/10.1016/j.ahj.2015.0...     2015-06-01   \n",
       "1  [{'url': 'https://doi.org/10.1021/acsnano.7b04...     2017-09-08   \n",
       "2  [{'url': 'https://doi.org/10.1016/s0925-4773(0...     2000-12-01   \n",
       "3  [{'url': 'https://doi.org/10.1016/0021-8693(88...     1988-10-01   \n",
       "4  [{'url': 'https://doi.org/10.1016/j.mod.2006.0...     2006-05-01   \n",
       "5  [{'url': 'https://doi.org/10.1103/physrevc.96....     2017-07-14   \n",
       "6  [{'url': 'https://doi.org/10.1016/s0960-9822(0...     1998-10-01   \n",
       "7  [{'url': 'https://doi.org/10.1016/s1470-2045(1...     2013-07-01   \n",
       "8  [{'url': 'https://doi.org/10.24159/joec.2014.2...     2014-12-01   \n",
       "9  [{'url': 'https://doi.org/10.5194/acp-2016-560...           None   \n",
       "\n",
       "                         publisher  \\\n",
       "0                      Elsevier BV   \n",
       "1  American Chemical Society (ACS)   \n",
       "2                      Elsevier BV   \n",
       "3                      Elsevier BV   \n",
       "4                      Elsevier BV   \n",
       "5  American Physical Society (APS)   \n",
       "6                      Elsevier BV   \n",
       "7                      Elsevier BV   \n",
       "8     Education Research Institute   \n",
       "9                  Copernicus GmbH   \n",
       "\n",
       "                                               title  \\\n",
       "0  Biomarkers for risk stratification of patients...   \n",
       "1  Hybrid Surface Patterns Mimicking the Design o...   \n",
       "2  Embryonic expression of a P2X 3 receptor encod...   \n",
       "3                                        Corrigendum   \n",
       "4  Impaired development of the Harderian gland in...   \n",
       "5  Nuclear deformation in the A≈100 region: Compa...   \n",
       "6  Protein kinase B (PKB/Akt) activity is elevate...   \n",
       "7  Panitumumab and irinotecan versus irinotecan a...   \n",
       "8  The Research on the Values and Lifestyles of K...   \n",
       "9                                               None   \n",
       "\n",
       "                      updated    year  \\\n",
       "0  2018-06-18T19:10:12.692979  2015.0   \n",
       "1  2018-06-14T11:39:08.680219  2017.0   \n",
       "2  2018-06-18T04:15:29.411710  2000.0   \n",
       "3  2018-06-18T04:18:43.222135  1988.0   \n",
       "4  2018-06-18T04:20:45.498171  2006.0   \n",
       "5  2018-06-16T19:57:39.403083  2017.0   \n",
       "6  2018-06-18T04:21:43.465040  1998.0   \n",
       "7  2018-06-18T19:11:38.984437  2013.0   \n",
       "8  2018-06-18T05:26:34.731357  2014.0   \n",
       "9  2018-06-15T17:12:08.805398     NaN   \n",
       "\n",
       "                                           z_authors  \n",
       "0  [{'given': 'Matthijs A.', 'family': 'Velders'}...  \n",
       "1  [{'ORCID': 'http://orcid.org/0000-0001-5512-74...  \n",
       "2  [{'given': 'William H.J', 'family': 'Norton'},...  \n",
       "3                                               None  \n",
       "4  [{'given': 'Andreas', 'family': 'Schild'}, {'g...  \n",
       "5  [{'given': 'A.', 'family': 'de Roubin'}, {'giv...  \n",
       "6  [{'given': 'Daphne', 'family': 'Haas-Kogan'}, ...  \n",
       "7  [{'given': 'Matthew T', 'family': 'Seymour'}, ...  \n",
       "8   [{'family': 'Kim,Heung-Kyu'}, {'family': '이상란'}]  \n",
       "9                                               None  "
      ]
     },
     "execution_count": 8,
     "metadata": {
      "tags": []
     },
     "output_type": "execute_result"
    }
   ],
   "source": [
    "tmp.compute()"
   ]
  },
  {
   "cell_type": "code",
   "execution_count": 0,
   "metadata": {
    "colab": {},
    "colab_type": "code",
    "collapsed": true,
    "id": "RsF2qRysvP5i"
   },
   "outputs": [],
   "source": [
    "dataframe.read_json?"
   ]
  },
  {
   "cell_type": "code",
   "execution_count": 0,
   "metadata": {
    "colab": {},
    "colab_type": "code",
    "collapsed": true,
    "id": "GRPZexpysRCi"
   },
   "outputs": [],
   "source": [
    "df=dataframe.read_json('oagreenarticle.json')"
   ]
  },
  {
   "cell_type": "code",
   "execution_count": 0,
   "metadata": {
    "colab": {
     "base_uri": "https://localhost:8080/",
     "height": 163
    },
    "colab_type": "code",
    "id": "FlXODpnFsehq",
    "outputId": "8b3bd6e4-6895-4ea9-f452-dff3cb8fa707"
   },
   "outputs": [
    {
     "ename": "NameError",
     "evalue": "ignored",
     "output_type": "error",
     "traceback": [
      "\u001b[0;31m---------------------------------------------------------------------------\u001b[0m",
      "\u001b[0;31mNameError\u001b[0m                                 Traceback (most recent call last)",
      "\u001b[0;32m<ipython-input-1-633337079cd0>\u001b[0m in \u001b[0;36m<module>\u001b[0;34m()\u001b[0m\n\u001b[0;32m----> 1\u001b[0;31m \u001b[0mdf\u001b[0m\u001b[0;34m.\u001b[0m\u001b[0mshape\u001b[0m\u001b[0;34m\u001b[0m\u001b[0m\n\u001b[0m",
      "\u001b[0;31mNameError\u001b[0m: name 'df' is not defined"
     ]
    }
   ],
   "source": []
  },
  {
   "cell_type": "code",
   "execution_count": 0,
   "metadata": {
    "colab": {},
    "colab_type": "code",
    "collapsed": true,
    "id": "vQnhDsxTs7Nz"
   },
   "outputs": [],
   "source": []
  },
  {
   "cell_type": "code",
   "execution_count": 0,
   "metadata": {
    "colab": {},
    "colab_type": "code",
    "collapsed": true,
    "id": "lFd1K18vuCuO"
   },
   "outputs": [],
   "source": [
    "import dask.bag as db"
   ]
  },
  {
   "cell_type": "code",
   "execution_count": 0,
   "metadata": {
    "colab": {},
    "colab_type": "code",
    "collapsed": true,
    "id": "I6Ln-G39uPqp"
   },
   "outputs": [],
   "source": [
    "import json\n",
    "b = db.read_text('tmp.json').map(json.loads)"
   ]
  },
  {
   "cell_type": "code",
   "execution_count": 0,
   "metadata": {
    "colab": {},
    "colab_type": "code",
    "collapsed": true,
    "id": "YHZJiXo8uUzb"
   },
   "outputs": [],
   "source": [
    "bb=b.to_dataframe()"
   ]
  },
  {
   "cell_type": "code",
   "execution_count": 0,
   "metadata": {
    "colab": {},
    "colab_type": "code",
    "collapsed": true,
    "id": "YN8jRz8guzfh"
   },
   "outputs": [],
   "source": [
    "bbb=bb['doi']"
   ]
  },
  {
   "cell_type": "code",
   "execution_count": 2,
   "metadata": {},
   "outputs": [],
   "source": [
    "from webdriver_manager.firefox import GeckoDriverManager\n",
    "\n",
    "from selenium import webdriver\n",
    "\n",
    "ls -l /home/restrepo/.wdm/geckodriver/v0.23.0/linux64/geckodriver\n",
    "\n",
    "driver = webdriver.Firefox(executable_path=\n",
    "                '/home/restrepo/.wdm/geckodriver/v0.23.0/linux64/geckodriver')\n",
    "#reinstall path: GeckoDriverManager().install())"
   ]
  },
  {
   "cell_type": "code",
   "execution_count": 16,
   "metadata": {},
   "outputs": [],
   "source": [
    "#driver.set_page_load_timeout(30)"
   ]
  },
  {
   "cell_type": "code",
   "execution_count": 17,
   "metadata": {},
   "outputs": [],
   "source": [
    "url='https://scholar.google.com.co/scholar?hl=en&as_sdt=0%2C5&q=10.1590%2Fs0103-84782009000100018'"
   ]
  },
  {
   "cell_type": "code",
   "execution_count": 22,
   "metadata": {},
   "outputs": [],
   "source": [
    "driver.get('http://google.com')"
   ]
  },
  {
   "cell_type": "code",
   "execution_count": 20,
   "metadata": {},
   "outputs": [
    {
     "data": {
      "text/plain": [
       "'<html><head><meta http-equiv=\"content-type\" content=\"text/html; charset=utf-8\"><meta name=\"viewport\" content=\"initial-scale=1\"><title>https://scholar.google.com.co/scholar?hl=en&amp;as_sdt=0%2C5&amp;q=10.1590%2Fs0103-84782009000100018</title></head>\\n<body style=\"font-family: arial, sans-serif; background-color: #fff; color: #000; padding:20px; font-size:18px;\" onload=\"e=document.getElementById(\\'captcha\\');if(e){e.focus();}\">\\n<div style=\"max-width:400px;\">\\n<hr style=\"color:#ccc; background-color:#ccc;\" size=\"1\" noshade=\"\"><br>\\n<form id=\"captcha-form\" action=\"index\" method=\"post\">\\n<script type=\"text/javascript\" async=\"\" src=\"https://www.gstatic.com/recaptcha/api2/v1540189908068/recaptcha__en.js\"></script><script src=\"https://www.google.com/recaptcha/api.js\" async=\"\" defer=\"\"></script>\\n<script>var submitCallback = function(response) {document.getElementById(\\'captcha-form\\').submit();};</script>\\n<div id=\"recaptcha\" class=\"g-recaptcha\" data-sitekey=\"6LfwuyUTAAAAAOAmoS0fdqijC2PbbdH4kjq62Y1b\" data-callback=\"submitCallback\" data-s=\"-rjdjyQxYZmQPBp0raENNNq3luF9ICwDf91cgeF14JDQoVlGKTtWr0YwsRvhbHf83HbxZMUbktecLkETeqpJnX7MdLQ291U4okQbOZwGQh34BQE9Y93Ar0ctZ6l-eAt-g75mdNBaaj7ehg5FXPvHAlF9bmZmfFtGYM9s5uwBV7uf8IAvKNxbF7xGWhNLol8E-DyNRHMMaC1SS2CNhcswVqKWWLkGLgpNV46hu8FnPrhOq_e3syTHDy8\"><div style=\"width: 304px; height: 78px;\"><div><iframe src=\"https://www.google.com/recaptcha/api2/anchor?ar=1&amp;k=6LfwuyUTAAAAAOAmoS0fdqijC2PbbdH4kjq62Y1b&amp;co=aHR0cHM6Ly93d3cuZ29vZ2xlLmNvbTo0NDM.&amp;hl=en&amp;v=v1540189908068&amp;size=normal&amp;s=-rjdjyQxYZmQPBp0raENNNq3luF9ICwDf91cgeF14JDQoVlGKTtWr0YwsRvhbHf83HbxZMUbktecLkETeqpJnX7MdLQ291U4okQbOZwGQh34BQE9Y93Ar0ctZ6l-eAt-g75mdNBaaj7ehg5FXPvHAlF9bmZmfFtGYM9s5uwBV7uf8IAvKNxbF7xGWhNLol8E-DyNRHMMaC1SS2CNhcswVqKWWLkGLgpNV46hu8FnPrhOq_e3syTHDy8&amp;cb=1xh8e9borwfs\" role=\"presentation\" name=\"a-4vdef7v0sih9\" scrolling=\"no\" sandbox=\"allow-forms allow-popups allow-same-origin allow-scripts allow-top-navigation allow-modals allow-popups-to-escape-sandbox\" width=\"304\" height=\"78\" frameborder=\"0\"></iframe></div><textarea id=\"g-recaptcha-response\" name=\"g-recaptcha-response\" class=\"g-recaptcha-response\" style=\"width: 250px; height: 40px; border: 1px solid rgb(193, 193, 193); margin: 10px 25px; padding: 0px; resize: none; display: none;\"></textarea></div></div>\\n<input name=\"q\" value=\"EgS1MV8TGOzBwd4FIhkA8aeDS6bmEegq-nogEQlBCxQ-6txC9uhDMgFy\" type=\"hidden\"><input name=\"continue\" value=\"https://scholar.google.com.co/scholar?hl=en&amp;as_sdt=0%2C5&amp;q=10.1590%2Fs0103-84782009000100018\" type=\"hidden\">\\n</form>\\n<hr style=\"color:#ccc; background-color:#ccc;\" size=\"1\" noshade=\"\">\\n\\n<div style=\"font-size:13px;\">\\n<b>About this page</b><br><br>Our systems have detected unusual traffic from your computer network.  This page checks to see if it\\'s really you sending the requests, and not a robot.  <a href=\"#\" onclick=\"document.getElementById(\\'infoDiv\\').style.display=\\'block\\';\">Why did this happen?</a><br><br>\\n<div id=\"infoDiv\" style=\"display:none; background-color:#eee; padding:10px; margin:0 0 15px 0; line-height:1.4em;\">\\nThis page appears when Google automatically detects requests coming from your computer network which appear to be in violation of the <a href=\"//www.google.com/policies/terms/\">Terms of Service</a>. The block will expire shortly after those requests stop.  In the meantime, solving the above CAPTCHA will let you continue to use our services.<br><br>This traffic may have been sent by malicious software, a browser plug-in, or a script that sends automated requests.  If you share your network connection, ask your administrator for help — a different computer using the same IP address may be responsible.  <a href=\"//support.google.com/websearch/answer/86640\">Learn more</a><br><br>Sometimes you may be asked to solve the CAPTCHA if you are using advanced terms that robots are known to use, or sending requests very quickly.\\n</div>\\n\\nIP address: 181.49.95.19<br>Time: 2018-10-24T12:09:17Z<br>URL: https://scholar.google.com.co/scholar?hl=en&amp;as_sdt=0%2C5&amp;q=10.1590%2Fs0103-84782009000100018<br>\\n</div>\\n</div>\\n\\n\\n<div style=\"background-color: rgb(255, 255, 255); border: 1px solid rgb(204, 204, 204); box-shadow: rgba(0, 0, 0, 0.2) 2px 2px 3px; position: absolute; transition: visibility 0s linear 0.3s, opacity 0.3s linear 0s; opacity: 0; visibility: hidden; z-index: 2000000000; left: 0px; top: -10000px;\"><div style=\"width: 100%; height: 100%; position: fixed; top: 0px; left: 0px; z-index: 2000000000; background-color: rgb(255, 255, 255); opacity: 0.05;\"></div><div style=\"border: 11px solid transparent; width: 0px; height: 0px; position: absolute; pointer-events: none; margin-top: -11px; z-index: 2000000000;\" class=\"g-recaptcha-bubble-arrow\"></div><div style=\"border: 10px solid transparent; width: 0px; height: 0px; position: absolute; pointer-events: none; margin-top: -10px; z-index: 2000000000;\" class=\"g-recaptcha-bubble-arrow\"></div><div style=\"z-index: 2000000000; position: relative;\"><iframe title=\"recaptcha challenge\" src=\"https://www.google.com/recaptcha/api2/bframe?hl=en&amp;v=v1540189908068&amp;k=6LfwuyUTAAAAAOAmoS0fdqijC2PbbdH4kjq62Y1b&amp;cb=kcyr6gca5qkq\" style=\"width: 100%; height: 100%;\" name=\"c-4vdef7v0sih9\" scrolling=\"no\" sandbox=\"allow-forms allow-popups allow-same-origin allow-scripts allow-top-navigation allow-modals allow-popups-to-escape-sandbox\" frameborder=\"0\"></iframe></div></div></body></html>'"
      ]
     },
     "execution_count": 20,
     "metadata": {},
     "output_type": "execute_result"
    }
   ],
   "source": [
    "driver.page_source"
   ]
  },
  {
   "cell_type": "code",
   "execution_count": 8,
   "metadata": {},
   "outputs": [],
   "source": [
    "browser=driver"
   ]
  },
  {
   "cell_type": "code",
   "execution_count": 20,
   "metadata": {},
   "outputs": [
    {
     "ename": "InvalidSessionIdException",
     "evalue": "Message: Tried to run command without establishing a connection\n",
     "output_type": "error",
     "traceback": [
      "\u001b[0;31m---------------------------------------------------------------------------\u001b[0m",
      "\u001b[0;31mInvalidSessionIdException\u001b[0m                 Traceback (most recent call last)",
      "\u001b[0;32m<ipython-input-20-3a19cc46515a>\u001b[0m in \u001b[0;36m<module>\u001b[0;34m()\u001b[0m\n\u001b[0;32m----> 1\u001b[0;31m \u001b[0mbrowser\u001b[0m\u001b[0;34m.\u001b[0m\u001b[0mget\u001b[0m\u001b[0;34m(\u001b[0m\u001b[0;34m'https://github.com/mozilla/geckodriver'\u001b[0m\u001b[0;34m)\u001b[0m\u001b[0;34m\u001b[0m\u001b[0m\n\u001b[0m",
      "\u001b[0;32m/usr/local/lib/python3.5/dist-packages/selenium/webdriver/remote/webdriver.py\u001b[0m in \u001b[0;36mget\u001b[0;34m(self, url)\u001b[0m\n\u001b[1;32m    331\u001b[0m         \u001b[0mLoads\u001b[0m \u001b[0ma\u001b[0m \u001b[0mweb\u001b[0m \u001b[0mpage\u001b[0m \u001b[0;32min\u001b[0m \u001b[0mthe\u001b[0m \u001b[0mcurrent\u001b[0m \u001b[0mbrowser\u001b[0m \u001b[0msession\u001b[0m\u001b[0;34m.\u001b[0m\u001b[0;34m\u001b[0m\u001b[0m\n\u001b[1;32m    332\u001b[0m         \"\"\"\n\u001b[0;32m--> 333\u001b[0;31m         \u001b[0mself\u001b[0m\u001b[0;34m.\u001b[0m\u001b[0mexecute\u001b[0m\u001b[0;34m(\u001b[0m\u001b[0mCommand\u001b[0m\u001b[0;34m.\u001b[0m\u001b[0mGET\u001b[0m\u001b[0;34m,\u001b[0m \u001b[0;34m{\u001b[0m\u001b[0;34m'url'\u001b[0m\u001b[0;34m:\u001b[0m \u001b[0murl\u001b[0m\u001b[0;34m}\u001b[0m\u001b[0;34m)\u001b[0m\u001b[0;34m\u001b[0m\u001b[0m\n\u001b[0m\u001b[1;32m    334\u001b[0m \u001b[0;34m\u001b[0m\u001b[0m\n\u001b[1;32m    335\u001b[0m     \u001b[0;34m@\u001b[0m\u001b[0mproperty\u001b[0m\u001b[0;34m\u001b[0m\u001b[0m\n",
      "\u001b[0;32m/usr/local/lib/python3.5/dist-packages/selenium/webdriver/remote/webdriver.py\u001b[0m in \u001b[0;36mexecute\u001b[0;34m(self, driver_command, params)\u001b[0m\n\u001b[1;32m    319\u001b[0m         \u001b[0mresponse\u001b[0m \u001b[0;34m=\u001b[0m \u001b[0mself\u001b[0m\u001b[0;34m.\u001b[0m\u001b[0mcommand_executor\u001b[0m\u001b[0;34m.\u001b[0m\u001b[0mexecute\u001b[0m\u001b[0;34m(\u001b[0m\u001b[0mdriver_command\u001b[0m\u001b[0;34m,\u001b[0m \u001b[0mparams\u001b[0m\u001b[0;34m)\u001b[0m\u001b[0;34m\u001b[0m\u001b[0m\n\u001b[1;32m    320\u001b[0m         \u001b[0;32mif\u001b[0m \u001b[0mresponse\u001b[0m\u001b[0;34m:\u001b[0m\u001b[0;34m\u001b[0m\u001b[0m\n\u001b[0;32m--> 321\u001b[0;31m             \u001b[0mself\u001b[0m\u001b[0;34m.\u001b[0m\u001b[0merror_handler\u001b[0m\u001b[0;34m.\u001b[0m\u001b[0mcheck_response\u001b[0m\u001b[0;34m(\u001b[0m\u001b[0mresponse\u001b[0m\u001b[0;34m)\u001b[0m\u001b[0;34m\u001b[0m\u001b[0m\n\u001b[0m\u001b[1;32m    322\u001b[0m             response['value'] = self._unwrap_value(\n\u001b[1;32m    323\u001b[0m                 response.get('value', None))\n",
      "\u001b[0;32m/usr/local/lib/python3.5/dist-packages/selenium/webdriver/remote/errorhandler.py\u001b[0m in \u001b[0;36mcheck_response\u001b[0;34m(self, response)\u001b[0m\n\u001b[1;32m    240\u001b[0m                 \u001b[0malert_text\u001b[0m \u001b[0;34m=\u001b[0m \u001b[0mvalue\u001b[0m\u001b[0;34m[\u001b[0m\u001b[0;34m'alert'\u001b[0m\u001b[0;34m]\u001b[0m\u001b[0;34m.\u001b[0m\u001b[0mget\u001b[0m\u001b[0;34m(\u001b[0m\u001b[0;34m'text'\u001b[0m\u001b[0;34m)\u001b[0m\u001b[0;34m\u001b[0m\u001b[0m\n\u001b[1;32m    241\u001b[0m             \u001b[0;32mraise\u001b[0m \u001b[0mexception_class\u001b[0m\u001b[0;34m(\u001b[0m\u001b[0mmessage\u001b[0m\u001b[0;34m,\u001b[0m \u001b[0mscreen\u001b[0m\u001b[0;34m,\u001b[0m \u001b[0mstacktrace\u001b[0m\u001b[0;34m,\u001b[0m \u001b[0malert_text\u001b[0m\u001b[0;34m)\u001b[0m\u001b[0;34m\u001b[0m\u001b[0m\n\u001b[0;32m--> 242\u001b[0;31m         \u001b[0;32mraise\u001b[0m \u001b[0mexception_class\u001b[0m\u001b[0;34m(\u001b[0m\u001b[0mmessage\u001b[0m\u001b[0;34m,\u001b[0m \u001b[0mscreen\u001b[0m\u001b[0;34m,\u001b[0m \u001b[0mstacktrace\u001b[0m\u001b[0;34m)\u001b[0m\u001b[0;34m\u001b[0m\u001b[0m\n\u001b[0m\u001b[1;32m    243\u001b[0m \u001b[0;34m\u001b[0m\u001b[0m\n\u001b[1;32m    244\u001b[0m     \u001b[0;32mdef\u001b[0m \u001b[0m_value_or_default\u001b[0m\u001b[0;34m(\u001b[0m\u001b[0mself\u001b[0m\u001b[0;34m,\u001b[0m \u001b[0mobj\u001b[0m\u001b[0;34m,\u001b[0m \u001b[0mkey\u001b[0m\u001b[0;34m,\u001b[0m \u001b[0mdefault\u001b[0m\u001b[0;34m)\u001b[0m\u001b[0;34m:\u001b[0m\u001b[0;34m\u001b[0m\u001b[0m\n",
      "\u001b[0;31mInvalidSessionIdException\u001b[0m: Message: Tried to run command without establishing a connection\n"
     ]
    }
   ],
   "source": [
    "browser.get('https://github.com/mozilla/geckodriver')"
   ]
  },
  {
   "cell_type": "code",
   "execution_count": null,
   "metadata": {},
   "outputs": [],
   "source": []
  }
 ],
 "metadata": {
  "colab": {
   "collapsed_sections": [],
   "name": "Copy of OpenAccess.ipynb",
   "provenance": [],
   "version": "0.3.2"
  },
  "kernelspec": {
   "display_name": "Python 3",
   "language": "python",
   "name": "python3"
  },
  "language_info": {
   "codemirror_mode": {
    "name": "ipython",
    "version": 3
   },
   "file_extension": ".py",
   "mimetype": "text/x-python",
   "name": "python",
   "nbconvert_exporter": "python",
   "pygments_lexer": "ipython3",
   "version": "3.5.3"
  },
  "toc": {
   "colors": {
    "hover_highlight": "#DAA520",
    "running_highlight": "#FF0000",
    "selected_highlight": "#FFD700"
   },
   "moveMenuLeft": true,
   "nav_menu": {
    "height": "512px",
    "width": "252px"
   },
   "navigate_menu": true,
   "number_sections": true,
   "sideBar": true,
   "threshold": 4,
   "toc_cell": false,
   "toc_section_display": "block",
   "toc_window_display": false
  }
 },
 "nbformat": 4,
 "nbformat_minor": 1
}
