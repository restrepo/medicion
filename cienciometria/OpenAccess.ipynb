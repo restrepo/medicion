{
 "cells": [
  {
   "cell_type": "markdown",
   "metadata": {
    "colab_type": "text",
    "id": "uu-sf4Ukvbb-"
   },
   "source": [
    "# Google Scholar \n",
    "Try avoid robots by explicit clicking on the previously loaded \n",
    "page\n",
    "\n",
    "See: https://academia.stackexchange.com/q/2567"
   ]
  },
  {
   "cell_type": "markdown",
   "metadata": {},
   "source": [
    "## Choose between selenium or requests"
   ]
  },
  {
   "cell_type": "code",
   "execution_count": 38,
   "metadata": {
    "collapsed": true
   },
   "outputs": [],
   "source": [
    "SELENIUM=True\n",
    "if SELENIUM:\n",
    "    #pip3 install webdriver_manager\n",
    "    from webdriver_manager.firefox import GeckoDriverManager\n",
    "    from selenium import webdriver\n",
    "    from pathlib import Path\n",
    "    home = str(Path.home())\n",
    "    try:\n",
    "        browser = webdriver.Firefox(executable_path=\n",
    "          '/home/restrepo/.wdm/geckodriver/v0.23.0/linux64/geckodriver')\n",
    "    except:\n",
    "        browser = webdriver.Firefox(\n",
    "            executable_path= GeckoDriverManager().install())\n",
    "    \n",
    "    browser.get('https://scholar.google.com')"
   ]
  },
  {
   "cell_type": "code",
   "execution_count": 1,
   "metadata": {
    "collapsed": true
   },
   "outputs": [],
   "source": [
    "if not SELENIUM:\n",
    "    import requests\n",
    "    headers_Get = {\n",
    "            'User-Agent': 'Mozilla/5.0 (Windows NT 6.1; WOW64; rv:49.0) Gecko/20100101 Firefox/49.0',\n",
    "            'Accept': 'text/html,application/xhtml+xml,application/xml;q=0.9,*/*;q=0.8',\n",
    "            'Accept-Language': 'en-US,en;q=0.5',\n",
    "            'Accept-Encoding': 'gzip, deflate',\n",
    "            'DNT': '1',\n",
    "            'Connection': 'keep-alive',\n",
    "            'Upgrade-Insecure-Requests': '1'\n",
    "        }\n",
    "    r=requests.Session()\n",
    "    browser=None"
   ]
  },
  {
   "cell_type": "code",
   "execution_count": 39,
   "metadata": {
    "collapsed": true
   },
   "outputs": [],
   "source": [
    "#import googlescholar as gs\n",
    "#%%writefile ../cienciometria/googlescholar.py\n",
    "import Levenshtein\n",
    "import re\n",
    "from bs4 import BeautifulSoup\n",
    "import requests\n",
    "\n",
    "def firefox_get(url,browser=browser):\n",
    "    try:\n",
    "        if browser:\n",
    "            q=url.split('=')[-1]\n",
    "            browser.find_element_by_id(\"gs_hdr_tsi\").clear()\n",
    "            browser.find_element_by_id(\"gs_hdr_tsi\").send_keys(q)\n",
    "            browser.find_element_by_id('gs_hdr_tsb').click()\n",
    "        else:\n",
    "            rget=r.get(url,headers=headers_Get)\n",
    "    except:\n",
    "        return 'FAILED'\n",
    "    \n",
    "    if browser:\n",
    "        html=browser.page_source\n",
    "    else:\n",
    "        html = rget.text\n",
    "    if html.lower().find('robot')>-1:\n",
    "        input('check robots')\n",
    "    #if html.find('Sorry')>-1:\n",
    "    #    input('check sorry')\n",
    "\n",
    "    return html\n",
    "\n",
    "def get_google_scholar(record):\n",
    "    '''\n",
    "    Analyise the BeautifulSoup record for an article \n",
    "    in Google Scholar.\n",
    "    Output is a Python dictionary with keys: \n",
    "    'title', 'authors','profiles','Jornal','Year',\n",
    "    'abstract','cites','cites_link'\n",
    "    '''\n",
    "    import random\n",
    "    import time\n",
    "    gsr={}\n",
    "    try:\n",
    "        cites=record.find_all('a',{\"href\":re.compile( \"/scholar\\?cites*\" )})[0]\n",
    "        try:\n",
    "            gsr['cites']=int( cites.text.split()[-1] )\n",
    "            gsr['cites_link']=cites.attrs.get('href')\n",
    "        except:\n",
    "            gsr['cites']=0\n",
    "    except:\n",
    "        cites=None\n",
    "\n",
    "    # Title\n",
    "    try:\n",
    "        lstt=record.find_all('a',{\"data-clk\":re.compile( \".*\")})[0].contents\n",
    "    except:\n",
    "        lstt=[]\n",
    "\n",
    "    # Find title interpreting weird characters\n",
    "    tc=''\n",
    "    for tip in lstt:\n",
    "        if tip.find('svg')==-1:\n",
    "            tc=tc+str(tip)\n",
    "        else:\n",
    "            try:\n",
    "                tc=tc+tip.get('aria-label') # aria label in Accessibility\n",
    "            except TypeError:\n",
    "                pass\n",
    "    gsr['title']=tc\n",
    "    \n",
    "    # Explore authors, google scholar profile, Journal and Year\n",
    "    gpa=None\n",
    "    try:\n",
    "        gpa=record.find_all('div',{\"class\":\"gs_a\"})[0]\n",
    "        gsr['authors']=gpa.text.split('-')[0].strip()\n",
    "        try:\n",
    "            jy=gpa.text.split('-')[1].strip()\n",
    "            gsr['Journal']=jy.split(',')[0]\n",
    "            try:\n",
    "                gsr['Year']=eval(jy.split(',')[1])\n",
    "            except:\n",
    "                gsr['Year']=-1\n",
    "        except:\n",
    "            gsr['Journal']=''\n",
    "    except:\n",
    "        gsr['authors']=''\n",
    "\n",
    "    #Abstract:\n",
    "    try:\n",
    "        gsr['abstract']=record.find_all('div',{'class':'gs_rs'})[0].text.replace('\\xa0…','')\n",
    "    except:\n",
    "        gsr['abstract']=''\n",
    "    # citations\n",
    "    if gpa:\n",
    "        lpr=gpa.find_all(\"a\",{ \"href\":re.compile(\"/citations\\?user=*\")   } )\n",
    "        prf={}\n",
    "        for pr in lpr:\n",
    "            prf[ pr.text ]=pr.attrs.get('href').split('?')[-1].split('&')[0].split('user=')[-1]\n",
    "        gsr['profiles']=prf\n",
    "    \n",
    "    time.sleep( random.randint(1,3)  ) # avoid robots\n",
    "    return gsr\n",
    "\n",
    "def google_scholar_url(url):\n",
    "    '''\n",
    "    Convert a Google Scholar page into a list\n",
    "    of dictionaries with metadata info\n",
    "    '''\n",
    "    r=requests.get(url)\n",
    "\n",
    "    soup = BeautifulSoup(r.text, \"html.parser\")\n",
    "    rgs=soup.find_all('div', {'class':'gs_ri' })\n",
    "\n",
    "    citations=[]\n",
    "    for record in rgs:\n",
    "        citations.append( get_google_scholar(record) )\n",
    "        \n",
    "    return citations\n",
    "\n",
    "def google_scholar_query(title='relativity theory',author=\"A Einstein\",\n",
    "                         DOI=None,DEBUG=False):\n",
    "    '''\n",
    "    Search Google scholar for similarity in title and author.\n",
    "    Only the first result is analized. The output includes \n",
    "    a quality measurements between the query and the results \n",
    "    Output is a Python dictionary with keys: \n",
    "    'title', 'authors','profiles','cites','cites_link',\n",
    "    'quality_title','quality_author'\n",
    "    '''\n",
    "    # + → %2B in query formula:\n",
    "    if DOI:\n",
    "        url='https://scholar.google.com/scholar?q=\"{}\"'.format(DOI)\n",
    "    else:\n",
    "        url='https://scholar.google.com/scholar?q=\"{}\"%2B{}'.format(title,author)\n",
    "    if DEBUG:\n",
    "        print(url)   \n",
    "    \n",
    "    #s = requests.Session()\n",
    "    rtext=firefox_get(url)\n",
    "\n",
    "    #soup = BeautifulSoup(r.text, \"html.parser\")\n",
    "    soup = BeautifulSoup(rtext, \"html.parser\")\n",
    "\n",
    "    rgs=soup.find_all('div', {'class':'gs_ri' })\n",
    "\n",
    "    gs={}\n",
    "\n",
    "    try:\n",
    "        record=rgs[0]\n",
    "    except IndexError:\n",
    "        return gs\n",
    "    gs.update(get_google_scholar(record))\n",
    "        \n",
    "    sau=0\n",
    "    for a in gs['authors'].split(','):\n",
    "        saun=Levenshtein.ratio(author.lower(),a.lower().strip())\n",
    "        if saun>sau:\n",
    "            sau=saun\n",
    "    if not DOI:        \n",
    "        gs['quality_author']=round(sau,2)\n",
    "\n",
    "        gs['quality_title']=round( Levenshtein.ratio(\n",
    "                   title.lower(),gs['title'].lower() ),2 )\n",
    "\n",
    "    if DEBUG:\n",
    "        return gs,record\n",
    "    return gs"
   ]
  },
  {
   "cell_type": "code",
   "execution_count": 40,
   "metadata": {
    "collapsed": true
   },
   "outputs": [],
   "source": [
    "import wosplus as wp"
   ]
  },
  {
   "cell_type": "code",
   "execution_count": 41,
   "metadata": {},
   "outputs": [
    {
     "name": "stdout",
     "output_type": "stream",
     "text": [
      "Overwriting drive.cfg\n"
     ]
    }
   ],
   "source": [
    "%%writefile drive.cfg\n",
    "[FILES]\n",
    "DOIS.xlsx               = 1bikNT7Gmp4G7dfeMuGsF-az7D8lskK0O\n",
    "UDEA_WOS_SCI_SCP.xlsx   = 1o9otmklgh-0w18Avv2ZTKOXr3vZbjwvj\n",
    "oaudea.xlsx             = 1CcwobiEFACIbffNzNdLxpdxQukr8cZ5x"
   ]
  },
  {
   "cell_type": "code",
   "execution_count": 42,
   "metadata": {
    "collapsed": true
   },
   "outputs": [],
   "source": [
    "oa=wp.wosplus('drive.cfg')"
   ]
  },
  {
   "cell_type": "code",
   "execution_count": 43,
   "metadata": {
    "collapsed": true
   },
   "outputs": [],
   "source": [
    "oaudea=oa.read_drive_excel('oaudea.xlsx')"
   ]
  },
  {
   "cell_type": "code",
   "execution_count": 44,
   "metadata": {
    "collapsed": true
   },
   "outputs": [],
   "source": [
    "oaudea=wp.fill_NaN(oaudea)"
   ]
  },
  {
   "cell_type": "code",
   "execution_count": 45,
   "metadata": {
    "collapsed": true
   },
   "outputs": [],
   "source": [
    "import time\n",
    "import random\n",
    "import pandas as pd"
   ]
  },
  {
   "cell_type": "code",
   "execution_count": 47,
   "metadata": {},
   "outputs": [
    {
     "data": {
      "text/plain": [
       "{'Journal': 'Advances in\\xa0…',\n",
       " 'Year': 2015,\n",
       " 'abstract': '… Sciences Volume 2015 (2015), Article ID 978379, 8 pages http://dx.doi.org/10.1155/2015/978379\\nResearch Article. Antileishmanial Effect of 5,3′-Hydroxy-7,4′-dimethoxyflavanone of Picramnia\\ngracilis Tul. (Picramniaceae) Fruit: In Vitro and In Vivo Studies \\n',\n",
       " 'authors': 'SM Robledo, W Cardona, K Ligardo, J Henao…',\n",
       " 'cites': 4,\n",
       " 'cites_link': '/scholar?cites=11789187670417306170&as_sdt=2005&sciodt=0,5&hl=es',\n",
       " 'profiles': {},\n",
       " 'title': 'Antileishmanial Effect of 5, 3′-Hydroxy-7, 4′-dimethoxyflavanone of Picramnia gracilis Tul.(Picramniaceae) Fruit: In Vitro and In Vivo Studies'}"
      ]
     },
     "execution_count": 47,
     "metadata": {},
     "output_type": "execute_result"
    }
   ],
   "source": [
    "google_scholar_query(DOI='10.1155/2015/978379')"
   ]
  },
  {
   "cell_type": "code",
   "execution_count": 29,
   "metadata": {},
   "outputs": [
    {
     "data": {
      "text/html": [
       "<div>\n",
       "<style scoped>\n",
       "    .dataframe tbody tr th:only-of-type {\n",
       "        vertical-align: middle;\n",
       "    }\n",
       "\n",
       "    .dataframe tbody tr th {\n",
       "        vertical-align: top;\n",
       "    }\n",
       "\n",
       "    .dataframe thead th {\n",
       "        text-align: right;\n",
       "    }\n",
       "</style>\n",
       "<table border=\"1\" class=\"dataframe\">\n",
       "  <thead>\n",
       "    <tr style=\"text-align: right;\">\n",
       "      <th></th>\n",
       "      <th>DI</th>\n",
       "      <th>Open_Access</th>\n",
       "      <th>OA_Yellow</th>\n",
       "      <th>OA_Green</th>\n",
       "      <th>ISSNs</th>\n",
       "      <th>OA_Green_Article</th>\n",
       "      <th>ISSNWOS</th>\n",
       "      <th>APC</th>\n",
       "      <th>OAGISSN</th>\n",
       "      <th>APC_USD</th>\n",
       "    </tr>\n",
       "  </thead>\n",
       "  <tbody>\n",
       "    <tr>\n",
       "      <th>606</th>\n",
       "      <td>10.1590/s0103-84782009000100018</td>\n",
       "      <td>10.1590/s0103-84782009000100018</td>\n",
       "      <td></td>\n",
       "      <td>10.1590/s0103-84782009000100018</td>\n",
       "      <td>0103-8478</td>\n",
       "      <td></td>\n",
       "      <td>0103-8478,1678-4596</td>\n",
       "      <td>700BRL</td>\n",
       "      <td>0103-8478</td>\n",
       "      <td>188</td>\n",
       "    </tr>\n",
       "  </tbody>\n",
       "</table>\n",
       "</div>"
      ],
      "text/plain": [
       "                                  DI                      Open_Access  \\\n",
       "606  10.1590/s0103-84782009000100018  10.1590/s0103-84782009000100018   \n",
       "\n",
       "    OA_Yellow                         OA_Green      ISSNs OA_Green_Article  \\\n",
       "606            10.1590/s0103-84782009000100018  0103-8478                    \n",
       "\n",
       "                 ISSNWOS     APC    OAGISSN  APC_USD  \n",
       "606  0103-8478,1678-4596  700BRL  0103-8478      188  "
      ]
     },
     "execution_count": 29,
     "metadata": {},
     "output_type": "execute_result"
    }
   ],
   "source": [
    "oaudea[oaudea['OA_Green']=='10.1590/s0103-84782009000100018']"
   ]
  },
  {
   "cell_type": "code",
   "execution_count": 11,
   "metadata": {
    "collapsed": true
   },
   "outputs": [],
   "source": [
    "nini=400 # initial doi\n",
    "n=400 # Total of DOIs\n",
    "T=12 #hours of search\n",
    "t=T/n*3600 # [s] query time\n",
    "day=24*3600 #s\n",
    "mintime=0.9*t*n # [s] minimal time search\n",
    "wait=day-mintime # maximum wait"
   ]
  },
  {
   "cell_type": "code",
   "execution_count": null,
   "metadata": {},
   "outputs": [
    {
     "name": "stdout",
     "output_type": "stream",
     "text": [
      "1 10.4067/s0719-01072010000100004\n",
      "2 10.4067/s0718-65682010000200003\n",
      "3 10.15649/cuidarte.v1i1.76\n",
      "4 10.18046/recs.i4.436\n",
      "5 10.4321/s1699-65852009000100004\n",
      "6 10.4321/s1699-65852009000100005\n",
      "7 10.4067/s0718-33052009000100008\n",
      "8 10.4321/s0465-546x2009000100007\n",
      "9 10.1590/s1516-73132009000300004\n",
      "10 10.1590/s0104-40602009000100007\n",
      "11 10.1590/s0036-36342008000300008\n",
      "12 10.4067/s0250-71612008000100009\n",
      "13 10.4067/s0718-33052007000300006\n",
      "14 10.1590/s1413-65382007000200003\n",
      "15 10.1590/s0104-59702007000100018\n",
      "16 10.4067/s0718-33052006000200002\n",
      "17 10.1590/s0036-46652006000600004\n",
      "18 10.4067/s0034-98872006001000002\n",
      "19 10.4067/s0717-95022006000400013\n",
      "20 10.4067/s1726-569x2006000200009\n",
      "21 10.1590/s0102-311x2005000600009\n",
      "22 10.1590/s0104-11692005000600002\n",
      "23 10.4321/s1132-12962005000200004\n",
      "24 10.4321/s1132-12962005000200010\n",
      "25 10.1590/s0102-311x2005000500022\n",
      "26 10.4067/s0250-71612005009200004\n",
      "27 10.4067/s0718-07052005000100008\n",
      "28 10.4067/s0717-75182004000300007\n",
      "29 10.4321/s1132-12962004000200005\n",
      "30 10.1590/s0102-311x2004000400026\n",
      "31 10.4067/s0718-07052003000100007\n",
      "32 10.1186/1471-2334-8-18\n",
      "33 10.1186/s12879-018-2976-1\n",
      "34 10.1186/s12889-018-5060-2\n",
      "35 10.1038/s41598-018-19324-y\n",
      "36 10.1016/j.ijid.2017.11.019\n",
      "37 10.1371/journal.pone.0190311\n",
      "38 10.3389/fmicb.2017.02444\n",
      "39 10.3390/molecules22122041\n",
      "40 10.3390/electronics6040102\n",
      "41 10.1111/acel.12682\n",
      "42 10.17533/udea.redin.n85a06\n",
      "43 10.17533/udea.redin.n85a07\n",
      "44 10.1371/journal.pone.0187969\n",
      "45 10.1186/s12918-017-0496-z\n",
      "46 10.1371/journal.pone.0185493\n",
      "47 10.3390/en10111791\n",
      "48 10.3390/su9112100\n",
      "49 10.1002/ece3.3425\n",
      "50 10.1186/s13012-017-0651-3\n",
      "51 10.1371/journal.pone.0185410\n",
      "52 10.1186/s13071-017-2379-y\n",
      "53 10.1371/journal.pone.0181643\n",
      "54 10.1186/s40413-017-0165-0\n",
      "55 10.2298/ciceq161119008r\n",
      "56 10.5811/westjem.2017.7.34668\n",
      "57 10.3390/en10101449\n",
      "58 10.3390/toxins9100312\n",
      "59 10.1371/journal.pntd.0005904\n",
      "60 10.1371/journal.pntd.0006006\n",
      "61 10.1371/journal.pntd.0005981\n",
      "62 10.3389/fimmu.2017.01241\n",
      "63 10.1371/journal.pone.0184640\n",
      "64 10.1371/journal.pone.0184689\n",
      "65 10.17533/udea.redin.n84a10\n",
      "66 10.17533/udea.redin.n84a11\n",
      "67 10.1371/journal.pntd.0005892\n",
      "68 10.1098/rsos.170773\n",
      "69 10.1016/j.ijchp.2017.05.001\n",
      "70 10.1186/s40494-017-0149-y\n",
      "71 10.1186/s13063-017-2092-3\n",
      "72 10.1038/s41598-017-08001-1\n",
      "73 10.3389/fimmu.2017.00936\n",
      "74 10.3389/fimmu.2017.00923\n",
      "75 10.4093/dmj.2017.41.4.303\n",
      "76 10.1007/jhep07(2017)121\n",
      "77 10.1371/journal.pone.0180447\n",
      "78 10.1007/jhep07(2017)014\n",
      "79 10.1186/s12263-017-0567-1\n",
      "80 10.1007/jhep07(2017)001\n",
      "81 10.3989/redc.2017.3.1414\n",
      "82 10.3390/ijerph14070737\n",
      "83 10.1371/journal.pone.0179428\n",
      "84 10.3389/fimmu.2017.00699\n",
      "85 10.3389/fimmu.2017.00685\n",
      "86 10.1371/journal.pone.0179093\n",
      "87 10.17533/udea.redin.n83a05\n",
      "88 10.4067/s0716-10182017000300007\n",
      "89 10.3389/fphys.2017.00338\n",
      "90 10.3389/fnhum.2017.00244\n",
      "91 10.1371/journal.pone.0177525\n",
      "92 10.1186/s12955-017-0621-0\n",
      "93 10.3390/s17050988\n",
      "94 10.3390/s17051184\n",
      "95 10.1371/journal.pgen.1006756\n",
      "96 10.1016/j.ijid.2017.02.016\n",
      "97 10.1016/j.gaceta.2017.03.002\n"
     ]
    }
   ],
   "source": [
    "dfgs=pd.DataFrame()\n",
    "i=1\n",
    "for doi in oaudea[oaudea['OA_Green']!='']['OA_Green'].values[nini:nini+n]:\n",
    "    print(i,doi)\n",
    "    gsd=google_scholar_query(DOI=doi)\n",
    "    gsd['DOI']=doi\n",
    "    dfgs=dfgs.append(gsd,ignore_index=True )\n",
    "    dfgs.to_excel('gs.xlsx',index=False)\n",
    "    time.sleep(random.uniform(0.9*t,1.1*t))\n",
    "    if i%n==0:\n",
    "        time.sleep(wait)        \n",
    "    i=i+1"
   ]
  },
  {
   "cell_type": "code",
   "execution_count": 1,
   "metadata": {},
   "outputs": [
    {
     "data": {
      "text/plain": [
       "2"
      ]
     },
     "execution_count": 1,
     "metadata": {},
     "output_type": "execute_result"
    }
   ],
   "source": [
    "1+1"
   ]
  },
  {
   "cell_type": "code",
   "execution_count": 24,
   "metadata": {
    "collapsed": true
   },
   "outputs": [],
   "source": [
    "dfgs=wp.fill_NaN(dfgs)"
   ]
  },
  {
   "cell_type": "code",
   "execution_count": 25,
   "metadata": {
    "collapsed": true
   },
   "outputs": [],
   "source": [
    "dfgs[:41].to_excel('gs1.xlsx',index=False)"
   ]
  },
  {
   "cell_type": "code",
   "execution_count": 8,
   "metadata": {},
   "outputs": [
    {
     "ename": "NameError",
     "evalue": "name 'dfgs' is not defined",
     "output_type": "error",
     "traceback": [
      "\u001b[0;31m---------------------------------------------------------------------------\u001b[0m",
      "\u001b[0;31mNameError\u001b[0m                                 Traceback (most recent call last)",
      "\u001b[0;32m<ipython-input-8-9d4aa8e95099>\u001b[0m in \u001b[0;36m<module>\u001b[0;34m()\u001b[0m\n\u001b[0;32m----> 1\u001b[0;31m \u001b[0mdfgs\u001b[0m\u001b[0;34m[\u001b[0m\u001b[0;34m:\u001b[0m\u001b[0;36m50\u001b[0m\u001b[0;34m]\u001b[0m\u001b[0;34m\u001b[0m\u001b[0m\n\u001b[0m",
      "\u001b[0;31mNameError\u001b[0m: name 'dfgs' is not defined"
     ]
    }
   ],
   "source": [
    "dfgs[:50]"
   ]
  },
  {
   "cell_type": "markdown",
   "metadata": {
    "colab_type": "text",
    "id": "mNTEnTQjJuLx"
   },
   "source": [
    "# Consultar  DOAJ API con DOI\n",
    "Ver: https://doaj.org/api/v1/docs#!/Search/get_api_v1_search_articles_search_query"
   ]
  },
  {
   "cell_type": "markdown",
   "metadata": {
    "colab_type": "text",
    "id": "j39HDif4NpPJ"
   },
   "source": [
    "## Carga navegador JSON"
   ]
  },
  {
   "cell_type": "code",
   "execution_count": 0,
   "metadata": {
    "colab": {},
    "colab_type": "code",
    "collapsed": true,
    "id": "izdwSa5RJ0Ec"
   },
   "outputs": [],
   "source": [
    "import pandas as pd"
   ]
  },
  {
   "cell_type": "markdown",
   "metadata": {
    "colab_type": "text",
    "id": "INjfBi7KNmJP"
   },
   "source": [
    "## Consulta"
   ]
  },
  {
   "cell_type": "code",
   "execution_count": 0,
   "metadata": {
    "colab": {},
    "colab_type": "code",
    "collapsed": true,
    "id": "5c8D7U-mJ3g6"
   },
   "outputs": [],
   "source": [
    "DOI='10.1016/j.physletb.2018.01.009'\n",
    "df=pd.read_json('https://doaj.org/api/v1/search/articles/{}'.format(DOI))"
   ]
  },
  {
   "cell_type": "markdown",
   "metadata": {
    "colab_type": "text",
    "id": "M84vNkUSNPeM"
   },
   "source": [
    "## Análisis de resultado:\n",
    "Nota: La celdas con estructuras anidadas (que comienzan con `[` ó `{`) sa analizan secuencialmente"
   ]
  },
  {
   "cell_type": "code",
   "execution_count": 0,
   "metadata": {
    "colab": {
     "base_uri": "https://localhost:8080/",
     "height": 79
    },
    "colab_type": "code",
    "id": "m7ahe4ZaNOb9",
    "outputId": "797cca3f-6de1-403b-9bcf-2e3f8a805503"
   },
   "outputs": [
    {
     "data": {
      "text/html": [
       "<div>\n",
       "<style scoped>\n",
       "    .dataframe tbody tr th:only-of-type {\n",
       "        vertical-align: middle;\n",
       "    }\n",
       "\n",
       "    .dataframe tbody tr th {\n",
       "        vertical-align: top;\n",
       "    }\n",
       "\n",
       "    .dataframe thead th {\n",
       "        text-align: right;\n",
       "    }\n",
       "</style>\n",
       "<table border=\"1\" class=\"dataframe\">\n",
       "  <thead>\n",
       "    <tr style=\"text-align: right;\">\n",
       "      <th></th>\n",
       "      <th>last</th>\n",
       "      <th>page</th>\n",
       "      <th>pageSize</th>\n",
       "      <th>query</th>\n",
       "      <th>results</th>\n",
       "      <th>timestamp</th>\n",
       "      <th>total</th>\n",
       "    </tr>\n",
       "  </thead>\n",
       "  <tbody>\n",
       "    <tr>\n",
       "      <th>0</th>\n",
       "      <td>https://doaj.org/api/v1/search/articles/10.101...</td>\n",
       "      <td>1</td>\n",
       "      <td>10</td>\n",
       "      <td>10.1016/j.physletb.2018.01.009</td>\n",
       "      <td>{u'last_updated': u'2018-03-05T12:09:16Z', u'i...</td>\n",
       "      <td>2018-1010T04:23:08Z</td>\n",
       "      <td>1</td>\n",
       "    </tr>\n",
       "  </tbody>\n",
       "</table>\n",
       "</div>"
      ],
      "text/plain": [
       "                                                last  page  pageSize  \\\n",
       "0  https://doaj.org/api/v1/search/articles/10.101...     1        10   \n",
       "\n",
       "                            query  \\\n",
       "0  10.1016/j.physletb.2018.01.009   \n",
       "\n",
       "                                             results            timestamp  \\\n",
       "0  {u'last_updated': u'2018-03-05T12:09:16Z', u'i...  2018-1010T04:23:08Z   \n",
       "\n",
       "   total  \n",
       "0      1  "
      ]
     },
     "execution_count": 32,
     "metadata": {
      "tags": []
     },
     "output_type": "execute_result"
    }
   ],
   "source": [
    "df"
   ]
  },
  {
   "cell_type": "markdown",
   "metadata": {
    "colab_type": "text",
    "id": "lzgDcW8NNyAv"
   },
   "source": [
    "Desplegar colunna __results__:"
   ]
  },
  {
   "cell_type": "code",
   "execution_count": 0,
   "metadata": {
    "colab": {
     "base_uri": "https://localhost:8080/",
     "height": 387
    },
    "colab_type": "code",
    "id": "5vcp02fQKCu2",
    "outputId": "2ee1ee4b-b0d1-4149-8495-a626f27326dc"
   },
   "outputs": [
    {
     "data": {
      "text/html": [
       "<div>\n",
       "<style scoped>\n",
       "    .dataframe tbody tr th:only-of-type {\n",
       "        vertical-align: middle;\n",
       "    }\n",
       "\n",
       "    .dataframe tbody tr th {\n",
       "        vertical-align: top;\n",
       "    }\n",
       "\n",
       "    .dataframe thead th {\n",
       "        text-align: right;\n",
       "    }\n",
       "</style>\n",
       "<table border=\"1\" class=\"dataframe\">\n",
       "  <thead>\n",
       "    <tr style=\"text-align: right;\">\n",
       "      <th></th>\n",
       "      <th>bibjson</th>\n",
       "      <th>created_date</th>\n",
       "      <th>id</th>\n",
       "      <th>last_updated</th>\n",
       "    </tr>\n",
       "  </thead>\n",
       "  <tbody>\n",
       "    <tr>\n",
       "      <th>abstract</th>\n",
       "      <td>The observation of neutrino oscillations estab...</td>\n",
       "      <td>2018-03-05T12:09:16Z</td>\n",
       "      <td>03ba3f288d8341d380a286a6d0f64de4</td>\n",
       "      <td>2018-03-05T12:09:16Z</td>\n",
       "    </tr>\n",
       "    <tr>\n",
       "      <th>author</th>\n",
       "      <td>[{u'affiliation': u'Physics Department, Univer...</td>\n",
       "      <td>2018-03-05T12:09:16Z</td>\n",
       "      <td>03ba3f288d8341d380a286a6d0f64de4</td>\n",
       "      <td>2018-03-05T12:09:16Z</td>\n",
       "    </tr>\n",
       "    <tr>\n",
       "      <th>end_page</th>\n",
       "      <td>100</td>\n",
       "      <td>2018-03-05T12:09:16Z</td>\n",
       "      <td>03ba3f288d8341d380a286a6d0f64de4</td>\n",
       "      <td>2018-03-05T12:09:16Z</td>\n",
       "    </tr>\n",
       "    <tr>\n",
       "      <th>identifier</th>\n",
       "      <td>[{u'type': u'pissn', u'id': u'0370-2693'}, {u'...</td>\n",
       "      <td>2018-03-05T12:09:16Z</td>\n",
       "      <td>03ba3f288d8341d380a286a6d0f64de4</td>\n",
       "      <td>2018-03-05T12:09:16Z</td>\n",
       "    </tr>\n",
       "    <tr>\n",
       "      <th>journal</th>\n",
       "      <td>{u'publisher': u'Elsevier', u'language': [u'EN...</td>\n",
       "      <td>2018-03-05T12:09:16Z</td>\n",
       "      <td>03ba3f288d8341d380a286a6d0f64de4</td>\n",
       "      <td>2018-03-05T12:09:16Z</td>\n",
       "    </tr>\n",
       "    <tr>\n",
       "      <th>link</th>\n",
       "      <td>[{u'url': u'http://www.sciencedirect.com/scien...</td>\n",
       "      <td>2018-03-05T12:09:16Z</td>\n",
       "      <td>03ba3f288d8341d380a286a6d0f64de4</td>\n",
       "      <td>2018-03-05T12:09:16Z</td>\n",
       "    </tr>\n",
       "    <tr>\n",
       "      <th>month</th>\n",
       "      <td>3</td>\n",
       "      <td>2018-03-05T12:09:16Z</td>\n",
       "      <td>03ba3f288d8341d380a286a6d0f64de4</td>\n",
       "      <td>2018-03-05T12:09:16Z</td>\n",
       "    </tr>\n",
       "    <tr>\n",
       "      <th>start_page</th>\n",
       "      <td>94</td>\n",
       "      <td>2018-03-05T12:09:16Z</td>\n",
       "      <td>03ba3f288d8341d380a286a6d0f64de4</td>\n",
       "      <td>2018-03-05T12:09:16Z</td>\n",
       "    </tr>\n",
       "    <tr>\n",
       "      <th>subject</th>\n",
       "      <td>[{u'code': u'QC1-999', u'term': u'Physics', u'...</td>\n",
       "      <td>2018-03-05T12:09:16Z</td>\n",
       "      <td>03ba3f288d8341d380a286a6d0f64de4</td>\n",
       "      <td>2018-03-05T12:09:16Z</td>\n",
       "    </tr>\n",
       "    <tr>\n",
       "      <th>title</th>\n",
       "      <td>Expanding the reach of heavy neutrino searches...</td>\n",
       "      <td>2018-03-05T12:09:16Z</td>\n",
       "      <td>03ba3f288d8341d380a286a6d0f64de4</td>\n",
       "      <td>2018-03-05T12:09:16Z</td>\n",
       "    </tr>\n",
       "    <tr>\n",
       "      <th>year</th>\n",
       "      <td>2018</td>\n",
       "      <td>2018-03-05T12:09:16Z</td>\n",
       "      <td>03ba3f288d8341d380a286a6d0f64de4</td>\n",
       "      <td>2018-03-05T12:09:16Z</td>\n",
       "    </tr>\n",
       "  </tbody>\n",
       "</table>\n",
       "</div>"
      ],
      "text/plain": [
       "                                                      bibjson  \\\n",
       "abstract    The observation of neutrino oscillations estab...   \n",
       "author      [{u'affiliation': u'Physics Department, Univer...   \n",
       "end_page                                                  100   \n",
       "identifier  [{u'type': u'pissn', u'id': u'0370-2693'}, {u'...   \n",
       "journal     {u'publisher': u'Elsevier', u'language': [u'EN...   \n",
       "link        [{u'url': u'http://www.sciencedirect.com/scien...   \n",
       "month                                                       3   \n",
       "start_page                                                 94   \n",
       "subject     [{u'code': u'QC1-999', u'term': u'Physics', u'...   \n",
       "title       Expanding the reach of heavy neutrino searches...   \n",
       "year                                                     2018   \n",
       "\n",
       "                    created_date                                id  \\\n",
       "abstract    2018-03-05T12:09:16Z  03ba3f288d8341d380a286a6d0f64de4   \n",
       "author      2018-03-05T12:09:16Z  03ba3f288d8341d380a286a6d0f64de4   \n",
       "end_page    2018-03-05T12:09:16Z  03ba3f288d8341d380a286a6d0f64de4   \n",
       "identifier  2018-03-05T12:09:16Z  03ba3f288d8341d380a286a6d0f64de4   \n",
       "journal     2018-03-05T12:09:16Z  03ba3f288d8341d380a286a6d0f64de4   \n",
       "link        2018-03-05T12:09:16Z  03ba3f288d8341d380a286a6d0f64de4   \n",
       "month       2018-03-05T12:09:16Z  03ba3f288d8341d380a286a6d0f64de4   \n",
       "start_page  2018-03-05T12:09:16Z  03ba3f288d8341d380a286a6d0f64de4   \n",
       "subject     2018-03-05T12:09:16Z  03ba3f288d8341d380a286a6d0f64de4   \n",
       "title       2018-03-05T12:09:16Z  03ba3f288d8341d380a286a6d0f64de4   \n",
       "year        2018-03-05T12:09:16Z  03ba3f288d8341d380a286a6d0f64de4   \n",
       "\n",
       "                    last_updated  \n",
       "abstract    2018-03-05T12:09:16Z  \n",
       "author      2018-03-05T12:09:16Z  \n",
       "end_page    2018-03-05T12:09:16Z  \n",
       "identifier  2018-03-05T12:09:16Z  \n",
       "journal     2018-03-05T12:09:16Z  \n",
       "link        2018-03-05T12:09:16Z  \n",
       "month       2018-03-05T12:09:16Z  \n",
       "start_page  2018-03-05T12:09:16Z  \n",
       "subject     2018-03-05T12:09:16Z  \n",
       "title       2018-03-05T12:09:16Z  \n",
       "year        2018-03-05T12:09:16Z  "
      ]
     },
     "execution_count": 12,
     "metadata": {
      "tags": []
     },
     "output_type": "execute_result"
    }
   ],
   "source": [
    "p=pd.DataFrame(  df['results'].values[0] )\n",
    "p"
   ]
  },
  {
   "cell_type": "markdown",
   "metadata": {
    "colab_type": "text",
    "id": "Rfb-0_JTN8bA"
   },
   "source": [
    "Desplegar cada una de las celdas anidadas de la columna __bibjson__"
   ]
  },
  {
   "cell_type": "code",
   "execution_count": 0,
   "metadata": {
    "colab": {
     "base_uri": "https://localhost:8080/",
     "height": 202
    },
    "colab_type": "code",
    "id": "UI2UlUNBK5hJ",
    "outputId": "0e945534-18d0-478e-e6ba-ffeafbc1aa07"
   },
   "outputs": [
    {
     "data": {
      "text/html": [
       "<div>\n",
       "<style scoped>\n",
       "    .dataframe tbody tr th:only-of-type {\n",
       "        vertical-align: middle;\n",
       "    }\n",
       "\n",
       "    .dataframe tbody tr th {\n",
       "        vertical-align: top;\n",
       "    }\n",
       "\n",
       "    .dataframe thead th {\n",
       "        text-align: right;\n",
       "    }\n",
       "</style>\n",
       "<table border=\"1\" class=\"dataframe\">\n",
       "  <thead>\n",
       "    <tr style=\"text-align: right;\">\n",
       "      <th></th>\n",
       "      <th>affiliation</th>\n",
       "      <th>name</th>\n",
       "    </tr>\n",
       "  </thead>\n",
       "  <tbody>\n",
       "    <tr>\n",
       "      <th>0</th>\n",
       "      <td>Physics Department, Universidad de los Andes, ...</td>\n",
       "      <td>Andrés Flórez</td>\n",
       "    </tr>\n",
       "    <tr>\n",
       "      <th>1</th>\n",
       "      <td>Department of Physics and Astronomy, Vanderbil...</td>\n",
       "      <td>Kaiwen Gui</td>\n",
       "    </tr>\n",
       "    <tr>\n",
       "      <th>2</th>\n",
       "      <td>Department of Physics and Astronomy, Vanderbil...</td>\n",
       "      <td>Alfredo Gurrola</td>\n",
       "    </tr>\n",
       "    <tr>\n",
       "      <th>3</th>\n",
       "      <td>Physics Department, Universidad de los Andes, ...</td>\n",
       "      <td>Carlos Patiño</td>\n",
       "    </tr>\n",
       "    <tr>\n",
       "      <th>4</th>\n",
       "      <td>Department of Physics, Universidad de Antioqui...</td>\n",
       "      <td>Diego Restrepo</td>\n",
       "    </tr>\n",
       "  </tbody>\n",
       "</table>\n",
       "</div>"
      ],
      "text/plain": [
       "                                         affiliation             name\n",
       "0  Physics Department, Universidad de los Andes, ...    Andrés Flórez\n",
       "1  Department of Physics and Astronomy, Vanderbil...       Kaiwen Gui\n",
       "2  Department of Physics and Astronomy, Vanderbil...  Alfredo Gurrola\n",
       "3  Physics Department, Universidad de los Andes, ...    Carlos Patiño\n",
       "4  Department of Physics, Universidad de Antioqui...   Diego Restrepo"
      ]
     },
     "execution_count": 18,
     "metadata": {
      "tags": []
     },
     "output_type": "execute_result"
    }
   ],
   "source": [
    "pd.DataFrame(  p.loc['author','bibjson'] )"
   ]
  },
  {
   "cell_type": "code",
   "execution_count": 0,
   "metadata": {
    "colab": {
     "base_uri": "https://localhost:8080/",
     "height": 141
    },
    "colab_type": "code",
    "id": "JgUvVeR5KNNN",
    "outputId": "b7c37bfd-cb6e-4da9-a9b1-607b0f71dd6f"
   },
   "outputs": [
    {
     "data": {
      "text/html": [
       "<div>\n",
       "<style scoped>\n",
       "    .dataframe tbody tr th:only-of-type {\n",
       "        vertical-align: middle;\n",
       "    }\n",
       "\n",
       "    .dataframe tbody tr th {\n",
       "        vertical-align: top;\n",
       "    }\n",
       "\n",
       "    .dataframe thead th {\n",
       "        text-align: right;\n",
       "    }\n",
       "</style>\n",
       "<table border=\"1\" class=\"dataframe\">\n",
       "  <thead>\n",
       "    <tr style=\"text-align: right;\">\n",
       "      <th></th>\n",
       "      <th>id</th>\n",
       "      <th>type</th>\n",
       "    </tr>\n",
       "  </thead>\n",
       "  <tbody>\n",
       "    <tr>\n",
       "      <th>0</th>\n",
       "      <td>0370-2693</td>\n",
       "      <td>pissn</td>\n",
       "    </tr>\n",
       "    <tr>\n",
       "      <th>1</th>\n",
       "      <td>1873-2445</td>\n",
       "      <td>eissn</td>\n",
       "    </tr>\n",
       "    <tr>\n",
       "      <th>2</th>\n",
       "      <td>10.1016/j.physletb.2018.01.009</td>\n",
       "      <td>doi</td>\n",
       "    </tr>\n",
       "  </tbody>\n",
       "</table>\n",
       "</div>"
      ],
      "text/plain": [
       "                               id   type\n",
       "0                       0370-2693  pissn\n",
       "1                       1873-2445  eissn\n",
       "2  10.1016/j.physletb.2018.01.009    doi"
      ]
     },
     "execution_count": 19,
     "metadata": {
      "tags": []
     },
     "output_type": "execute_result"
    }
   ],
   "source": [
    "pd.DataFrame(  p.loc['identifier','bibjson'] )"
   ]
  },
  {
   "cell_type": "code",
   "execution_count": 0,
   "metadata": {
    "colab": {
     "base_uri": "https://localhost:8080/",
     "height": 79
    },
    "colab_type": "code",
    "id": "EVHZfHm_Li8m",
    "outputId": "7c3b511b-ef55-41de-b01b-9d3499472627"
   },
   "outputs": [
    {
     "data": {
      "text/html": [
       "<div>\n",
       "<style scoped>\n",
       "    .dataframe tbody tr th:only-of-type {\n",
       "        vertical-align: middle;\n",
       "    }\n",
       "\n",
       "    .dataframe tbody tr th {\n",
       "        vertical-align: top;\n",
       "    }\n",
       "\n",
       "    .dataframe thead th {\n",
       "        text-align: right;\n",
       "    }\n",
       "</style>\n",
       "<table border=\"1\" class=\"dataframe\">\n",
       "  <thead>\n",
       "    <tr style=\"text-align: right;\">\n",
       "      <th></th>\n",
       "      <th>country</th>\n",
       "      <th>issns</th>\n",
       "      <th>language</th>\n",
       "      <th>license</th>\n",
       "      <th>number</th>\n",
       "      <th>publisher</th>\n",
       "      <th>title</th>\n",
       "      <th>volume</th>\n",
       "    </tr>\n",
       "  </thead>\n",
       "  <tbody>\n",
       "    <tr>\n",
       "      <th>0</th>\n",
       "      <td>NL</td>\n",
       "      <td>[0370-2693, 1873-2445]</td>\n",
       "      <td>[EN]</td>\n",
       "      <td>[{u'url': u'http://www.elsevier.com/journals/p...</td>\n",
       "      <td>C</td>\n",
       "      <td>Elsevier</td>\n",
       "      <td>Physics Letters B</td>\n",
       "      <td>778</td>\n",
       "    </tr>\n",
       "  </tbody>\n",
       "</table>\n",
       "</div>"
      ],
      "text/plain": [
       "  country                   issns language  \\\n",
       "0      NL  [0370-2693, 1873-2445]     [EN]   \n",
       "\n",
       "                                             license number publisher  \\\n",
       "0  [{u'url': u'http://www.elsevier.com/journals/p...      C  Elsevier   \n",
       "\n",
       "               title volume  \n",
       "0  Physics Letters B    778  "
      ]
     },
     "execution_count": 24,
     "metadata": {
      "tags": []
     },
     "output_type": "execute_result"
    }
   ],
   "source": [
    " pd.DataFrame( [p.loc['journal','bibjson'] ] )\n"
   ]
  },
  {
   "cell_type": "code",
   "execution_count": 0,
   "metadata": {
    "colab": {
     "base_uri": "https://localhost:8080/",
     "height": 79
    },
    "colab_type": "code",
    "id": "tGvelHhSLq3B",
    "outputId": "90d2232e-1140-4089-a285-2a3f274f7d87"
   },
   "outputs": [
    {
     "data": {
      "text/html": [
       "<div>\n",
       "<style scoped>\n",
       "    .dataframe tbody tr th:only-of-type {\n",
       "        vertical-align: middle;\n",
       "    }\n",
       "\n",
       "    .dataframe tbody tr th {\n",
       "        vertical-align: top;\n",
       "    }\n",
       "\n",
       "    .dataframe thead th {\n",
       "        text-align: right;\n",
       "    }\n",
       "</style>\n",
       "<table border=\"1\" class=\"dataframe\">\n",
       "  <thead>\n",
       "    <tr style=\"text-align: right;\">\n",
       "      <th></th>\n",
       "      <th>open_access</th>\n",
       "      <th>title</th>\n",
       "      <th>type</th>\n",
       "      <th>url</th>\n",
       "    </tr>\n",
       "  </thead>\n",
       "  <tbody>\n",
       "    <tr>\n",
       "      <th>0</th>\n",
       "      <td>True</td>\n",
       "      <td>CC BY</td>\n",
       "      <td>CC BY</td>\n",
       "      <td>http://www.elsevier.com/journals/physics-lette...</td>\n",
       "    </tr>\n",
       "  </tbody>\n",
       "</table>\n",
       "</div>"
      ],
      "text/plain": [
       "   open_access  title   type  \\\n",
       "0         True  CC BY  CC BY   \n",
       "\n",
       "                                                 url  \n",
       "0  http://www.elsevier.com/journals/physics-lette...  "
      ]
     },
     "execution_count": 25,
     "metadata": {
      "tags": []
     },
     "output_type": "execute_result"
    }
   ],
   "source": [
    "pd.DataFrame( p.loc['journal','bibjson']['license'] )"
   ]
  },
  {
   "cell_type": "code",
   "execution_count": 0,
   "metadata": {
    "colab": {
     "base_uri": "https://localhost:8080/",
     "height": 79
    },
    "colab_type": "code",
    "id": "KDV-pw1GMDTI",
    "outputId": "df95adb1-d22f-4320-dd44-7ee3fb7f2c52"
   },
   "outputs": [
    {
     "data": {
      "text/html": [
       "<div>\n",
       "<style scoped>\n",
       "    .dataframe tbody tr th:only-of-type {\n",
       "        vertical-align: middle;\n",
       "    }\n",
       "\n",
       "    .dataframe tbody tr th {\n",
       "        vertical-align: top;\n",
       "    }\n",
       "\n",
       "    .dataframe thead th {\n",
       "        text-align: right;\n",
       "    }\n",
       "</style>\n",
       "<table border=\"1\" class=\"dataframe\">\n",
       "  <thead>\n",
       "    <tr style=\"text-align: right;\">\n",
       "      <th></th>\n",
       "      <th>type</th>\n",
       "      <th>url</th>\n",
       "    </tr>\n",
       "  </thead>\n",
       "  <tbody>\n",
       "    <tr>\n",
       "      <th>0</th>\n",
       "      <td>fulltext</td>\n",
       "      <td>http://www.sciencedirect.com/science/article/p...</td>\n",
       "    </tr>\n",
       "  </tbody>\n",
       "</table>\n",
       "</div>"
      ],
      "text/plain": [
       "       type                                                url\n",
       "0  fulltext  http://www.sciencedirect.com/science/article/p..."
      ]
     },
     "execution_count": 28,
     "metadata": {
      "tags": []
     },
     "output_type": "execute_result"
    }
   ],
   "source": [
    "pd.DataFrame(  p.loc['link','bibjson']  )"
   ]
  },
  {
   "cell_type": "markdown",
   "metadata": {
    "colab_type": "text",
    "id": "NHez240DMkPM"
   },
   "source": [
    "# Dask"
   ]
  },
  {
   "cell_type": "code",
   "execution_count": 0,
   "metadata": {
    "colab": {},
    "colab_type": "code",
    "collapsed": true,
    "id": "fIOwJDy7oe7c"
   },
   "outputs": [],
   "source": [
    "! pip install dask cloudpickle > /dev/null"
   ]
  },
  {
   "cell_type": "code",
   "execution_count": 0,
   "metadata": {
    "colab": {
     "base_uri": "https://localhost:8080/",
     "height": 34
    },
    "colab_type": "code",
    "id": "KkGs9gRioh1S",
    "outputId": "b9877d24-61e5-4afc-cd20-fc41c58ac045"
   },
   "outputs": [
    {
     "data": {
      "text/plain": [
       "2"
      ]
     },
     "execution_count": 3,
     "metadata": {
      "tags": []
     },
     "output_type": "execute_result"
    }
   ],
   "source": [
    "1+1"
   ]
  },
  {
   "cell_type": "code",
   "execution_count": 0,
   "metadata": {
    "colab": {},
    "colab_type": "code",
    "collapsed": true,
    "id": "AufPWJMKoxN_"
   },
   "outputs": [],
   "source": [
    "import dask as dk"
   ]
  },
  {
   "cell_type": "code",
   "execution_count": 0,
   "metadata": {
    "colab": {},
    "colab_type": "code",
    "collapsed": true,
    "id": "_fc2bwH2pbcF"
   },
   "outputs": [],
   "source": [
    "from dask import dataframe"
   ]
  },
  {
   "cell_type": "code",
   "execution_count": 0,
   "metadata": {
    "colab": {
     "base_uri": "https://localhost:8080/",
     "height": 34
    },
    "colab_type": "code",
    "id": "FVyiCQ8epvSo",
    "outputId": "137f045f-cd00-4221-de63-9e35af43d391"
   },
   "outputs": [
    {
     "name": "stdout",
     "output_type": "stream",
     "text": [
      "Writing kk.json\n"
     ]
    }
   ],
   "source": [
    "%%writefile kk.json\n",
    "{\"A\":1,\"B\":3}\n",
    "{\"A\":5,\"B\":6}"
   ]
  },
  {
   "cell_type": "code",
   "execution_count": 0,
   "metadata": {
    "colab": {},
    "colab_type": "code",
    "collapsed": true,
    "id": "6DJkDKB_qiO0"
   },
   "outputs": [],
   "source": [
    "df=dataframe.read_json('kk.json')"
   ]
  },
  {
   "cell_type": "code",
   "execution_count": 0,
   "metadata": {
    "colab": {
     "base_uri": "https://localhost:8080/",
     "height": 111
    },
    "colab_type": "code",
    "id": "k-P9-oBnqnMo",
    "outputId": "0521ec1c-148a-4912-c6a2-4125733db144"
   },
   "outputs": [
    {
     "data": {
      "text/html": [
       "<div>\n",
       "<style scoped>\n",
       "    .dataframe tbody tr th:only-of-type {\n",
       "        vertical-align: middle;\n",
       "    }\n",
       "\n",
       "    .dataframe tbody tr th {\n",
       "        vertical-align: top;\n",
       "    }\n",
       "\n",
       "    .dataframe thead th {\n",
       "        text-align: right;\n",
       "    }\n",
       "</style>\n",
       "<table border=\"1\" class=\"dataframe\">\n",
       "  <thead>\n",
       "    <tr style=\"text-align: right;\">\n",
       "      <th></th>\n",
       "      <th>A</th>\n",
       "      <th>B</th>\n",
       "    </tr>\n",
       "  </thead>\n",
       "  <tbody>\n",
       "    <tr>\n",
       "      <th>0</th>\n",
       "      <td>1</td>\n",
       "      <td>3</td>\n",
       "    </tr>\n",
       "    <tr>\n",
       "      <th>1</th>\n",
       "      <td>5</td>\n",
       "      <td>6</td>\n",
       "    </tr>\n",
       "  </tbody>\n",
       "</table>\n",
       "</div>"
      ],
      "text/plain": [
       "   A  B\n",
       "0  1  3\n",
       "1  5  6"
      ]
     },
     "execution_count": 38,
     "metadata": {
      "tags": []
     },
     "output_type": "execute_result"
    }
   ],
   "source": [
    "df.compute()"
   ]
  },
  {
   "cell_type": "code",
   "execution_count": 0,
   "metadata": {
    "colab": {},
    "colab_type": "code",
    "collapsed": true,
    "id": "_LI1JvUnw_Sx"
   },
   "outputs": [],
   "source": [
    "import pandas as pd"
   ]
  },
  {
   "cell_type": "code",
   "execution_count": 0,
   "metadata": {
    "colab": {
     "base_uri": "https://localhost:8080/",
     "height": 111
    },
    "colab_type": "code",
    "id": "m20r-oeXxA7j",
    "outputId": "e78cf704-b1f8-4bad-8c44-24cb0cbb5ca9"
   },
   "outputs": [
    {
     "data": {
      "text/html": [
       "<div>\n",
       "<style scoped>\n",
       "    .dataframe tbody tr th:only-of-type {\n",
       "        vertical-align: middle;\n",
       "    }\n",
       "\n",
       "    .dataframe tbody tr th {\n",
       "        vertical-align: top;\n",
       "    }\n",
       "\n",
       "    .dataframe thead th {\n",
       "        text-align: right;\n",
       "    }\n",
       "</style>\n",
       "<table border=\"1\" class=\"dataframe\">\n",
       "  <thead>\n",
       "    <tr style=\"text-align: right;\">\n",
       "      <th></th>\n",
       "      <th>A</th>\n",
       "      <th>B</th>\n",
       "    </tr>\n",
       "  </thead>\n",
       "  <tbody>\n",
       "    <tr>\n",
       "      <th>0</th>\n",
       "      <td>1</td>\n",
       "      <td>3</td>\n",
       "    </tr>\n",
       "    <tr>\n",
       "      <th>1</th>\n",
       "      <td>5</td>\n",
       "      <td>6</td>\n",
       "    </tr>\n",
       "  </tbody>\n",
       "</table>\n",
       "</div>"
      ],
      "text/plain": [
       "   A  B\n",
       "0  1  3\n",
       "1  5  6"
      ]
     },
     "execution_count": 40,
     "metadata": {
      "tags": []
     },
     "output_type": "execute_result"
    }
   ],
   "source": [
    "pd.read_json('kk.json',orient='records',lines=True)"
   ]
  },
  {
   "cell_type": "code",
   "execution_count": 0,
   "metadata": {
    "colab": {},
    "colab_type": "code",
    "collapsed": true,
    "id": "xjKxOIpWqsha"
   },
   "outputs": [],
   "source": [
    "import os\n",
    "os.chdir('drive/My Drive/Colab Notebooks/Data')"
   ]
  },
  {
   "cell_type": "code",
   "execution_count": 0,
   "metadata": {
    "colab": {},
    "colab_type": "code",
    "collapsed": true,
    "id": "43FmC3KvrvQO"
   },
   "outputs": [],
   "source": [
    "!head -n10 oagreenarticle.json > tmp.json"
   ]
  },
  {
   "cell_type": "code",
   "execution_count": 0,
   "metadata": {
    "colab": {},
    "colab_type": "code",
    "collapsed": true,
    "id": "3xUzGK6zvnxw"
   },
   "outputs": [],
   "source": [
    "import pandas as pd"
   ]
  },
  {
   "cell_type": "code",
   "execution_count": 0,
   "metadata": {
    "colab": {
     "base_uri": "https://localhost:8080/",
     "height": 383
    },
    "colab_type": "code",
    "id": "edNUetghvp3T",
    "outputId": "ed013439-456a-4a53-e08e-0814545f96f3"
   },
   "outputs": [
    {
     "data": {
      "text/html": [
       "<div>\n",
       "<style scoped>\n",
       "    .dataframe tbody tr th:only-of-type {\n",
       "        vertical-align: middle;\n",
       "    }\n",
       "\n",
       "    .dataframe tbody tr th {\n",
       "        vertical-align: top;\n",
       "    }\n",
       "\n",
       "    .dataframe thead th {\n",
       "        text-align: right;\n",
       "    }\n",
       "</style>\n",
       "<table border=\"1\" class=\"dataframe\">\n",
       "  <thead>\n",
       "    <tr style=\"text-align: right;\">\n",
       "      <th></th>\n",
       "      <th>best_oa_location</th>\n",
       "      <th>data_standard</th>\n",
       "      <th>doi</th>\n",
       "      <th>doi_url</th>\n",
       "      <th>genre</th>\n",
       "      <th>is_oa</th>\n",
       "      <th>journal_is_in_doaj</th>\n",
       "      <th>journal_is_oa</th>\n",
       "      <th>journal_issns</th>\n",
       "      <th>journal_name</th>\n",
       "      <th>oa_locations</th>\n",
       "      <th>published_date</th>\n",
       "      <th>publisher</th>\n",
       "      <th>title</th>\n",
       "      <th>updated</th>\n",
       "      <th>year</th>\n",
       "      <th>z_authors</th>\n",
       "    </tr>\n",
       "  </thead>\n",
       "  <tbody>\n",
       "    <tr>\n",
       "      <th>0</th>\n",
       "      <td>{'url': 'https://doi.org/10.1016/j.ahj.2015.02...</td>\n",
       "      <td>2</td>\n",
       "      <td>10.1016/j.ahj.2015.02.019</td>\n",
       "      <td>https://doi.org/10.1016/j.ahj.2015.02.019</td>\n",
       "      <td>journal-article</td>\n",
       "      <td>True</td>\n",
       "      <td>False</td>\n",
       "      <td>False</td>\n",
       "      <td>0002-8703</td>\n",
       "      <td>American Heart Journal</td>\n",
       "      <td>[{'url': 'https://doi.org/10.1016/j.ahj.2015.0...</td>\n",
       "      <td>2015-06-01</td>\n",
       "      <td>Elsevier BV</td>\n",
       "      <td>Biomarkers for risk stratification of patients...</td>\n",
       "      <td>2018-06-18T19:10:12.692979</td>\n",
       "      <td>2015.0</td>\n",
       "      <td>[{'given': 'Matthijs A.', 'family': 'Velders'}...</td>\n",
       "    </tr>\n",
       "    <tr>\n",
       "      <th>1</th>\n",
       "      <td>{'url': 'https://doi.org/10.1021/acsnano.7b049...</td>\n",
       "      <td>2</td>\n",
       "      <td>10.1021/acsnano.7b04994</td>\n",
       "      <td>https://doi.org/10.1021/acsnano.7b04994</td>\n",
       "      <td>journal-article</td>\n",
       "      <td>True</td>\n",
       "      <td>False</td>\n",
       "      <td>False</td>\n",
       "      <td>1936-0851,1936-086X</td>\n",
       "      <td>ACS Nano</td>\n",
       "      <td>[{'url': 'https://doi.org/10.1021/acsnano.7b04...</td>\n",
       "      <td>2017-09-08</td>\n",
       "      <td>American Chemical Society (ACS)</td>\n",
       "      <td>Hybrid Surface Patterns Mimicking the Design o...</td>\n",
       "      <td>2018-06-14T11:39:08.680219</td>\n",
       "      <td>2017.0</td>\n",
       "      <td>[{'ORCID': 'http://orcid.org/0000-0001-5512-74...</td>\n",
       "    </tr>\n",
       "    <tr>\n",
       "      <th>2</th>\n",
       "      <td>{'url': 'https://doi.org/10.1016/s0925-4773(00...</td>\n",
       "      <td>2</td>\n",
       "      <td>10.1016/s0925-4773(00)00472-x</td>\n",
       "      <td>https://doi.org/10.1016/s0925-4773(00)00472-x</td>\n",
       "      <td>journal-article</td>\n",
       "      <td>True</td>\n",
       "      <td>False</td>\n",
       "      <td>False</td>\n",
       "      <td>0925-4773</td>\n",
       "      <td>Mechanisms of Development</td>\n",
       "      <td>[{'url': 'https://doi.org/10.1016/s0925-4773(0...</td>\n",
       "      <td>2000-12-01</td>\n",
       "      <td>Elsevier BV</td>\n",
       "      <td>Embryonic expression of a P2X 3 receptor encod...</td>\n",
       "      <td>2018-06-18T04:15:29.411710</td>\n",
       "      <td>2000.0</td>\n",
       "      <td>[{'given': 'William H.J', 'family': 'Norton'},...</td>\n",
       "    </tr>\n",
       "  </tbody>\n",
       "</table>\n",
       "</div>"
      ],
      "text/plain": [
       "                                    best_oa_location  data_standard  \\\n",
       "0  {'url': 'https://doi.org/10.1016/j.ahj.2015.02...              2   \n",
       "1  {'url': 'https://doi.org/10.1021/acsnano.7b049...              2   \n",
       "2  {'url': 'https://doi.org/10.1016/s0925-4773(00...              2   \n",
       "\n",
       "                             doi  \\\n",
       "0      10.1016/j.ahj.2015.02.019   \n",
       "1        10.1021/acsnano.7b04994   \n",
       "2  10.1016/s0925-4773(00)00472-x   \n",
       "\n",
       "                                         doi_url            genre  is_oa  \\\n",
       "0      https://doi.org/10.1016/j.ahj.2015.02.019  journal-article   True   \n",
       "1        https://doi.org/10.1021/acsnano.7b04994  journal-article   True   \n",
       "2  https://doi.org/10.1016/s0925-4773(00)00472-x  journal-article   True   \n",
       "\n",
       "   journal_is_in_doaj  journal_is_oa        journal_issns  \\\n",
       "0               False          False            0002-8703   \n",
       "1               False          False  1936-0851,1936-086X   \n",
       "2               False          False            0925-4773   \n",
       "\n",
       "                journal_name  \\\n",
       "0     American Heart Journal   \n",
       "1                   ACS Nano   \n",
       "2  Mechanisms of Development   \n",
       "\n",
       "                                        oa_locations published_date  \\\n",
       "0  [{'url': 'https://doi.org/10.1016/j.ahj.2015.0...     2015-06-01   \n",
       "1  [{'url': 'https://doi.org/10.1021/acsnano.7b04...     2017-09-08   \n",
       "2  [{'url': 'https://doi.org/10.1016/s0925-4773(0...     2000-12-01   \n",
       "\n",
       "                         publisher  \\\n",
       "0                      Elsevier BV   \n",
       "1  American Chemical Society (ACS)   \n",
       "2                      Elsevier BV   \n",
       "\n",
       "                                               title  \\\n",
       "0  Biomarkers for risk stratification of patients...   \n",
       "1  Hybrid Surface Patterns Mimicking the Design o...   \n",
       "2  Embryonic expression of a P2X 3 receptor encod...   \n",
       "\n",
       "                      updated    year  \\\n",
       "0  2018-06-18T19:10:12.692979  2015.0   \n",
       "1  2018-06-14T11:39:08.680219  2017.0   \n",
       "2  2018-06-18T04:15:29.411710  2000.0   \n",
       "\n",
       "                                           z_authors  \n",
       "0  [{'given': 'Matthijs A.', 'family': 'Velders'}...  \n",
       "1  [{'ORCID': 'http://orcid.org/0000-0001-5512-74...  \n",
       "2  [{'given': 'William H.J', 'family': 'Norton'},...  "
      ]
     },
     "execution_count": 33,
     "metadata": {
      "tags": []
     },
     "output_type": "execute_result"
    }
   ],
   "source": [
    "pd.read_json('tmp.json',orient='records',lines=True)[:3]"
   ]
  },
  {
   "cell_type": "code",
   "execution_count": 0,
   "metadata": {
    "colab": {},
    "colab_type": "code",
    "collapsed": true,
    "id": "jzSqZPBBt90M"
   },
   "outputs": [],
   "source": [
    "tmp=dataframe.read_json('tmp.json')"
   ]
  },
  {
   "cell_type": "code",
   "execution_count": 0,
   "metadata": {
    "colab": {
     "base_uri": "https://localhost:8080/",
     "height": 940
    },
    "colab_type": "code",
    "id": "eh4V8Llbr47Z",
    "outputId": "e0375e1d-3f2a-4954-db33-331537025f1e"
   },
   "outputs": [
    {
     "data": {
      "text/html": [
       "<div>\n",
       "<style scoped>\n",
       "    .dataframe tbody tr th:only-of-type {\n",
       "        vertical-align: middle;\n",
       "    }\n",
       "\n",
       "    .dataframe tbody tr th {\n",
       "        vertical-align: top;\n",
       "    }\n",
       "\n",
       "    .dataframe thead th {\n",
       "        text-align: right;\n",
       "    }\n",
       "</style>\n",
       "<table border=\"1\" class=\"dataframe\">\n",
       "  <thead>\n",
       "    <tr style=\"text-align: right;\">\n",
       "      <th></th>\n",
       "      <th>best_oa_location</th>\n",
       "      <th>data_standard</th>\n",
       "      <th>doi</th>\n",
       "      <th>doi_url</th>\n",
       "      <th>genre</th>\n",
       "      <th>is_oa</th>\n",
       "      <th>journal_is_in_doaj</th>\n",
       "      <th>journal_is_oa</th>\n",
       "      <th>journal_issns</th>\n",
       "      <th>journal_name</th>\n",
       "      <th>oa_locations</th>\n",
       "      <th>published_date</th>\n",
       "      <th>publisher</th>\n",
       "      <th>title</th>\n",
       "      <th>updated</th>\n",
       "      <th>year</th>\n",
       "      <th>z_authors</th>\n",
       "    </tr>\n",
       "  </thead>\n",
       "  <tbody>\n",
       "    <tr>\n",
       "      <th>0</th>\n",
       "      <td>{'url': 'https://doi.org/10.1016/j.ahj.2015.02...</td>\n",
       "      <td>2</td>\n",
       "      <td>10.1016/j.ahj.2015.02.019</td>\n",
       "      <td>https://doi.org/10.1016/j.ahj.2015.02.019</td>\n",
       "      <td>journal-article</td>\n",
       "      <td>True</td>\n",
       "      <td>False</td>\n",
       "      <td>False</td>\n",
       "      <td>0002-8703</td>\n",
       "      <td>American Heart Journal</td>\n",
       "      <td>[{'url': 'https://doi.org/10.1016/j.ahj.2015.0...</td>\n",
       "      <td>2015-06-01</td>\n",
       "      <td>Elsevier BV</td>\n",
       "      <td>Biomarkers for risk stratification of patients...</td>\n",
       "      <td>2018-06-18T19:10:12.692979</td>\n",
       "      <td>2015.0</td>\n",
       "      <td>[{'given': 'Matthijs A.', 'family': 'Velders'}...</td>\n",
       "    </tr>\n",
       "    <tr>\n",
       "      <th>1</th>\n",
       "      <td>{'url': 'https://doi.org/10.1021/acsnano.7b049...</td>\n",
       "      <td>2</td>\n",
       "      <td>10.1021/acsnano.7b04994</td>\n",
       "      <td>https://doi.org/10.1021/acsnano.7b04994</td>\n",
       "      <td>journal-article</td>\n",
       "      <td>True</td>\n",
       "      <td>False</td>\n",
       "      <td>False</td>\n",
       "      <td>1936-0851,1936-086X</td>\n",
       "      <td>ACS Nano</td>\n",
       "      <td>[{'url': 'https://doi.org/10.1021/acsnano.7b04...</td>\n",
       "      <td>2017-09-08</td>\n",
       "      <td>American Chemical Society (ACS)</td>\n",
       "      <td>Hybrid Surface Patterns Mimicking the Design o...</td>\n",
       "      <td>2018-06-14T11:39:08.680219</td>\n",
       "      <td>2017.0</td>\n",
       "      <td>[{'ORCID': 'http://orcid.org/0000-0001-5512-74...</td>\n",
       "    </tr>\n",
       "    <tr>\n",
       "      <th>2</th>\n",
       "      <td>{'url': 'https://doi.org/10.1016/s0925-4773(00...</td>\n",
       "      <td>2</td>\n",
       "      <td>10.1016/s0925-4773(00)00472-x</td>\n",
       "      <td>https://doi.org/10.1016/s0925-4773(00)00472-x</td>\n",
       "      <td>journal-article</td>\n",
       "      <td>True</td>\n",
       "      <td>False</td>\n",
       "      <td>False</td>\n",
       "      <td>0925-4773</td>\n",
       "      <td>Mechanisms of Development</td>\n",
       "      <td>[{'url': 'https://doi.org/10.1016/s0925-4773(0...</td>\n",
       "      <td>2000-12-01</td>\n",
       "      <td>Elsevier BV</td>\n",
       "      <td>Embryonic expression of a P2X 3 receptor encod...</td>\n",
       "      <td>2018-06-18T04:15:29.411710</td>\n",
       "      <td>2000.0</td>\n",
       "      <td>[{'given': 'William H.J', 'family': 'Norton'},...</td>\n",
       "    </tr>\n",
       "    <tr>\n",
       "      <th>3</th>\n",
       "      <td>{'url': 'https://doi.org/10.1016/0021-8693(88)...</td>\n",
       "      <td>1</td>\n",
       "      <td>10.1016/0021-8693(88)90058-0</td>\n",
       "      <td>https://doi.org/10.1016/0021-8693(88)90058-0</td>\n",
       "      <td>journal-article</td>\n",
       "      <td>True</td>\n",
       "      <td>False</td>\n",
       "      <td>False</td>\n",
       "      <td>0021-8693</td>\n",
       "      <td>Journal of Algebra</td>\n",
       "      <td>[{'url': 'https://doi.org/10.1016/0021-8693(88...</td>\n",
       "      <td>1988-10-01</td>\n",
       "      <td>Elsevier BV</td>\n",
       "      <td>Corrigendum</td>\n",
       "      <td>2018-06-18T04:18:43.222135</td>\n",
       "      <td>1988.0</td>\n",
       "      <td>None</td>\n",
       "    </tr>\n",
       "    <tr>\n",
       "      <th>4</th>\n",
       "      <td>{'url': 'https://doi.org/10.1016/j.mod.2006.03...</td>\n",
       "      <td>2</td>\n",
       "      <td>10.1016/j.mod.2006.03.003</td>\n",
       "      <td>https://doi.org/10.1016/j.mod.2006.03.003</td>\n",
       "      <td>journal-article</td>\n",
       "      <td>True</td>\n",
       "      <td>False</td>\n",
       "      <td>False</td>\n",
       "      <td>0925-4773</td>\n",
       "      <td>Mechanisms of Development</td>\n",
       "      <td>[{'url': 'https://doi.org/10.1016/j.mod.2006.0...</td>\n",
       "      <td>2006-05-01</td>\n",
       "      <td>Elsevier BV</td>\n",
       "      <td>Impaired development of the Harderian gland in...</td>\n",
       "      <td>2018-06-18T04:20:45.498171</td>\n",
       "      <td>2006.0</td>\n",
       "      <td>[{'given': 'Andreas', 'family': 'Schild'}, {'g...</td>\n",
       "    </tr>\n",
       "    <tr>\n",
       "      <th>5</th>\n",
       "      <td>{'url': 'https://doi.org/10.1103/physrevc.96.0...</td>\n",
       "      <td>2</td>\n",
       "      <td>10.1103/physrevc.96.014310</td>\n",
       "      <td>https://doi.org/10.1103/physrevc.96.014310</td>\n",
       "      <td>journal-article</td>\n",
       "      <td>True</td>\n",
       "      <td>False</td>\n",
       "      <td>False</td>\n",
       "      <td>2469-9985,2469-9993</td>\n",
       "      <td>Physical Review C</td>\n",
       "      <td>[{'url': 'https://doi.org/10.1103/physrevc.96....</td>\n",
       "      <td>2017-07-14</td>\n",
       "      <td>American Physical Society (APS)</td>\n",
       "      <td>Nuclear deformation in the A≈100 region: Compa...</td>\n",
       "      <td>2018-06-16T19:57:39.403083</td>\n",
       "      <td>2017.0</td>\n",
       "      <td>[{'given': 'A.', 'family': 'de Roubin'}, {'giv...</td>\n",
       "    </tr>\n",
       "    <tr>\n",
       "      <th>6</th>\n",
       "      <td>{'url': 'https://doi.org/10.1016/s0960-9822(07...</td>\n",
       "      <td>2</td>\n",
       "      <td>10.1016/s0960-9822(07)00493-9</td>\n",
       "      <td>https://doi.org/10.1016/s0960-9822(07)00493-9</td>\n",
       "      <td>journal-article</td>\n",
       "      <td>True</td>\n",
       "      <td>False</td>\n",
       "      <td>False</td>\n",
       "      <td>0960-9822</td>\n",
       "      <td>Current Biology</td>\n",
       "      <td>[{'url': 'https://doi.org/10.1016/s0960-9822(0...</td>\n",
       "      <td>1998-10-01</td>\n",
       "      <td>Elsevier BV</td>\n",
       "      <td>Protein kinase B (PKB/Akt) activity is elevate...</td>\n",
       "      <td>2018-06-18T04:21:43.465040</td>\n",
       "      <td>1998.0</td>\n",
       "      <td>[{'given': 'Daphne', 'family': 'Haas-Kogan'}, ...</td>\n",
       "    </tr>\n",
       "    <tr>\n",
       "      <th>7</th>\n",
       "      <td>{'url': 'https://doi.org/10.1016/s1470-2045(13...</td>\n",
       "      <td>2</td>\n",
       "      <td>10.1016/s1470-2045(13)70163-3</td>\n",
       "      <td>https://doi.org/10.1016/s1470-2045(13)70163-3</td>\n",
       "      <td>journal-article</td>\n",
       "      <td>True</td>\n",
       "      <td>False</td>\n",
       "      <td>False</td>\n",
       "      <td>1470-2045</td>\n",
       "      <td>The Lancet Oncology</td>\n",
       "      <td>[{'url': 'https://doi.org/10.1016/s1470-2045(1...</td>\n",
       "      <td>2013-07-01</td>\n",
       "      <td>Elsevier BV</td>\n",
       "      <td>Panitumumab and irinotecan versus irinotecan a...</td>\n",
       "      <td>2018-06-18T19:11:38.984437</td>\n",
       "      <td>2013.0</td>\n",
       "      <td>[{'given': 'Matthew T', 'family': 'Seymour'}, ...</td>\n",
       "    </tr>\n",
       "    <tr>\n",
       "      <th>8</th>\n",
       "      <td>{'url': 'https://doi.org/10.24159/joec.2014.20...</td>\n",
       "      <td>2</td>\n",
       "      <td>10.24159/joec.2014.20.4.281</td>\n",
       "      <td>https://doi.org/10.24159/joec.2014.20.4.281</td>\n",
       "      <td>journal-article</td>\n",
       "      <td>True</td>\n",
       "      <td>False</td>\n",
       "      <td>False</td>\n",
       "      <td>1598-9283</td>\n",
       "      <td>Journal of Education &amp; Culture</td>\n",
       "      <td>[{'url': 'https://doi.org/10.24159/joec.2014.2...</td>\n",
       "      <td>2014-12-01</td>\n",
       "      <td>Education Research Institute</td>\n",
       "      <td>The Research on the Values and Lifestyles of K...</td>\n",
       "      <td>2018-06-18T05:26:34.731357</td>\n",
       "      <td>2014.0</td>\n",
       "      <td>[{'family': 'Kim,Heung-Kyu'}, {'family': '이상란'}]</td>\n",
       "    </tr>\n",
       "    <tr>\n",
       "      <th>9</th>\n",
       "      <td>{'url': 'https://doi.org/10.5194/acp-2016-560-...</td>\n",
       "      <td>2</td>\n",
       "      <td>10.5194/acp-2016-560-ac1</td>\n",
       "      <td>https://doi.org/10.5194/acp-2016-560-ac1</td>\n",
       "      <td>component</td>\n",
       "      <td>True</td>\n",
       "      <td>False</td>\n",
       "      <td>False</td>\n",
       "      <td>None</td>\n",
       "      <td>None</td>\n",
       "      <td>[{'url': 'https://doi.org/10.5194/acp-2016-560...</td>\n",
       "      <td>None</td>\n",
       "      <td>Copernicus GmbH</td>\n",
       "      <td>None</td>\n",
       "      <td>2018-06-15T17:12:08.805398</td>\n",
       "      <td>NaN</td>\n",
       "      <td>None</td>\n",
       "    </tr>\n",
       "  </tbody>\n",
       "</table>\n",
       "</div>"
      ],
      "text/plain": [
       "                                    best_oa_location  data_standard  \\\n",
       "0  {'url': 'https://doi.org/10.1016/j.ahj.2015.02...              2   \n",
       "1  {'url': 'https://doi.org/10.1021/acsnano.7b049...              2   \n",
       "2  {'url': 'https://doi.org/10.1016/s0925-4773(00...              2   \n",
       "3  {'url': 'https://doi.org/10.1016/0021-8693(88)...              1   \n",
       "4  {'url': 'https://doi.org/10.1016/j.mod.2006.03...              2   \n",
       "5  {'url': 'https://doi.org/10.1103/physrevc.96.0...              2   \n",
       "6  {'url': 'https://doi.org/10.1016/s0960-9822(07...              2   \n",
       "7  {'url': 'https://doi.org/10.1016/s1470-2045(13...              2   \n",
       "8  {'url': 'https://doi.org/10.24159/joec.2014.20...              2   \n",
       "9  {'url': 'https://doi.org/10.5194/acp-2016-560-...              2   \n",
       "\n",
       "                             doi  \\\n",
       "0      10.1016/j.ahj.2015.02.019   \n",
       "1        10.1021/acsnano.7b04994   \n",
       "2  10.1016/s0925-4773(00)00472-x   \n",
       "3   10.1016/0021-8693(88)90058-0   \n",
       "4      10.1016/j.mod.2006.03.003   \n",
       "5     10.1103/physrevc.96.014310   \n",
       "6  10.1016/s0960-9822(07)00493-9   \n",
       "7  10.1016/s1470-2045(13)70163-3   \n",
       "8    10.24159/joec.2014.20.4.281   \n",
       "9       10.5194/acp-2016-560-ac1   \n",
       "\n",
       "                                         doi_url            genre  is_oa  \\\n",
       "0      https://doi.org/10.1016/j.ahj.2015.02.019  journal-article   True   \n",
       "1        https://doi.org/10.1021/acsnano.7b04994  journal-article   True   \n",
       "2  https://doi.org/10.1016/s0925-4773(00)00472-x  journal-article   True   \n",
       "3   https://doi.org/10.1016/0021-8693(88)90058-0  journal-article   True   \n",
       "4      https://doi.org/10.1016/j.mod.2006.03.003  journal-article   True   \n",
       "5     https://doi.org/10.1103/physrevc.96.014310  journal-article   True   \n",
       "6  https://doi.org/10.1016/s0960-9822(07)00493-9  journal-article   True   \n",
       "7  https://doi.org/10.1016/s1470-2045(13)70163-3  journal-article   True   \n",
       "8    https://doi.org/10.24159/joec.2014.20.4.281  journal-article   True   \n",
       "9       https://doi.org/10.5194/acp-2016-560-ac1        component   True   \n",
       "\n",
       "   journal_is_in_doaj  journal_is_oa        journal_issns  \\\n",
       "0               False          False            0002-8703   \n",
       "1               False          False  1936-0851,1936-086X   \n",
       "2               False          False            0925-4773   \n",
       "3               False          False            0021-8693   \n",
       "4               False          False            0925-4773   \n",
       "5               False          False  2469-9985,2469-9993   \n",
       "6               False          False            0960-9822   \n",
       "7               False          False            1470-2045   \n",
       "8               False          False            1598-9283   \n",
       "9               False          False                 None   \n",
       "\n",
       "                     journal_name  \\\n",
       "0          American Heart Journal   \n",
       "1                        ACS Nano   \n",
       "2       Mechanisms of Development   \n",
       "3              Journal of Algebra   \n",
       "4       Mechanisms of Development   \n",
       "5               Physical Review C   \n",
       "6                 Current Biology   \n",
       "7             The Lancet Oncology   \n",
       "8  Journal of Education & Culture   \n",
       "9                            None   \n",
       "\n",
       "                                        oa_locations published_date  \\\n",
       "0  [{'url': 'https://doi.org/10.1016/j.ahj.2015.0...     2015-06-01   \n",
       "1  [{'url': 'https://doi.org/10.1021/acsnano.7b04...     2017-09-08   \n",
       "2  [{'url': 'https://doi.org/10.1016/s0925-4773(0...     2000-12-01   \n",
       "3  [{'url': 'https://doi.org/10.1016/0021-8693(88...     1988-10-01   \n",
       "4  [{'url': 'https://doi.org/10.1016/j.mod.2006.0...     2006-05-01   \n",
       "5  [{'url': 'https://doi.org/10.1103/physrevc.96....     2017-07-14   \n",
       "6  [{'url': 'https://doi.org/10.1016/s0960-9822(0...     1998-10-01   \n",
       "7  [{'url': 'https://doi.org/10.1016/s1470-2045(1...     2013-07-01   \n",
       "8  [{'url': 'https://doi.org/10.24159/joec.2014.2...     2014-12-01   \n",
       "9  [{'url': 'https://doi.org/10.5194/acp-2016-560...           None   \n",
       "\n",
       "                         publisher  \\\n",
       "0                      Elsevier BV   \n",
       "1  American Chemical Society (ACS)   \n",
       "2                      Elsevier BV   \n",
       "3                      Elsevier BV   \n",
       "4                      Elsevier BV   \n",
       "5  American Physical Society (APS)   \n",
       "6                      Elsevier BV   \n",
       "7                      Elsevier BV   \n",
       "8     Education Research Institute   \n",
       "9                  Copernicus GmbH   \n",
       "\n",
       "                                               title  \\\n",
       "0  Biomarkers for risk stratification of patients...   \n",
       "1  Hybrid Surface Patterns Mimicking the Design o...   \n",
       "2  Embryonic expression of a P2X 3 receptor encod...   \n",
       "3                                        Corrigendum   \n",
       "4  Impaired development of the Harderian gland in...   \n",
       "5  Nuclear deformation in the A≈100 region: Compa...   \n",
       "6  Protein kinase B (PKB/Akt) activity is elevate...   \n",
       "7  Panitumumab and irinotecan versus irinotecan a...   \n",
       "8  The Research on the Values and Lifestyles of K...   \n",
       "9                                               None   \n",
       "\n",
       "                      updated    year  \\\n",
       "0  2018-06-18T19:10:12.692979  2015.0   \n",
       "1  2018-06-14T11:39:08.680219  2017.0   \n",
       "2  2018-06-18T04:15:29.411710  2000.0   \n",
       "3  2018-06-18T04:18:43.222135  1988.0   \n",
       "4  2018-06-18T04:20:45.498171  2006.0   \n",
       "5  2018-06-16T19:57:39.403083  2017.0   \n",
       "6  2018-06-18T04:21:43.465040  1998.0   \n",
       "7  2018-06-18T19:11:38.984437  2013.0   \n",
       "8  2018-06-18T05:26:34.731357  2014.0   \n",
       "9  2018-06-15T17:12:08.805398     NaN   \n",
       "\n",
       "                                           z_authors  \n",
       "0  [{'given': 'Matthijs A.', 'family': 'Velders'}...  \n",
       "1  [{'ORCID': 'http://orcid.org/0000-0001-5512-74...  \n",
       "2  [{'given': 'William H.J', 'family': 'Norton'},...  \n",
       "3                                               None  \n",
       "4  [{'given': 'Andreas', 'family': 'Schild'}, {'g...  \n",
       "5  [{'given': 'A.', 'family': 'de Roubin'}, {'giv...  \n",
       "6  [{'given': 'Daphne', 'family': 'Haas-Kogan'}, ...  \n",
       "7  [{'given': 'Matthew T', 'family': 'Seymour'}, ...  \n",
       "8   [{'family': 'Kim,Heung-Kyu'}, {'family': '이상란'}]  \n",
       "9                                               None  "
      ]
     },
     "execution_count": 8,
     "metadata": {
      "tags": []
     },
     "output_type": "execute_result"
    }
   ],
   "source": [
    "tmp.compute()"
   ]
  },
  {
   "cell_type": "code",
   "execution_count": 0,
   "metadata": {
    "colab": {},
    "colab_type": "code",
    "collapsed": true,
    "id": "RsF2qRysvP5i"
   },
   "outputs": [],
   "source": [
    "dataframe.read_json?"
   ]
  },
  {
   "cell_type": "code",
   "execution_count": 0,
   "metadata": {
    "colab": {},
    "colab_type": "code",
    "collapsed": true,
    "id": "GRPZexpysRCi"
   },
   "outputs": [],
   "source": [
    "df=dataframe.read_json('oagreenarticle.json')"
   ]
  },
  {
   "cell_type": "code",
   "execution_count": 0,
   "metadata": {
    "colab": {
     "base_uri": "https://localhost:8080/",
     "height": 163
    },
    "colab_type": "code",
    "id": "FlXODpnFsehq",
    "outputId": "8b3bd6e4-6895-4ea9-f452-dff3cb8fa707"
   },
   "outputs": [
    {
     "ename": "NameError",
     "evalue": "ignored",
     "output_type": "error",
     "traceback": [
      "\u001b[0;31m---------------------------------------------------------------------------\u001b[0m",
      "\u001b[0;31mNameError\u001b[0m                                 Traceback (most recent call last)",
      "\u001b[0;32m<ipython-input-1-633337079cd0>\u001b[0m in \u001b[0;36m<module>\u001b[0;34m()\u001b[0m\n\u001b[0;32m----> 1\u001b[0;31m \u001b[0mdf\u001b[0m\u001b[0;34m.\u001b[0m\u001b[0mshape\u001b[0m\u001b[0;34m\u001b[0m\u001b[0m\n\u001b[0m",
      "\u001b[0;31mNameError\u001b[0m: name 'df' is not defined"
     ]
    }
   ],
   "source": []
  },
  {
   "cell_type": "code",
   "execution_count": 0,
   "metadata": {
    "colab": {},
    "colab_type": "code",
    "collapsed": true,
    "id": "vQnhDsxTs7Nz"
   },
   "outputs": [],
   "source": []
  },
  {
   "cell_type": "code",
   "execution_count": 0,
   "metadata": {
    "colab": {},
    "colab_type": "code",
    "collapsed": true,
    "id": "lFd1K18vuCuO"
   },
   "outputs": [],
   "source": [
    "import dask.bag as db"
   ]
  },
  {
   "cell_type": "code",
   "execution_count": 0,
   "metadata": {
    "colab": {},
    "colab_type": "code",
    "collapsed": true,
    "id": "I6Ln-G39uPqp"
   },
   "outputs": [],
   "source": [
    "import json\n",
    "b = db.read_text('tmp.json').map(json.loads)"
   ]
  },
  {
   "cell_type": "code",
   "execution_count": 0,
   "metadata": {
    "colab": {},
    "colab_type": "code",
    "collapsed": true,
    "id": "YHZJiXo8uUzb"
   },
   "outputs": [],
   "source": [
    "bb=b.to_dataframe()"
   ]
  },
  {
   "cell_type": "code",
   "execution_count": 0,
   "metadata": {
    "colab": {},
    "colab_type": "code",
    "collapsed": true,
    "id": "YN8jRz8guzfh"
   },
   "outputs": [],
   "source": [
    "bbb=bb['doi']"
   ]
  },
  {
   "cell_type": "code",
   "execution_count": 2,
   "metadata": {
    "collapsed": true
   },
   "outputs": [],
   "source": [
    "from webdriver_manager.firefox import GeckoDriverManager\n",
    "\n",
    "from selenium import webdriver\n",
    "\n",
    "ls -l /home/restrepo/.wdm/geckodriver/v0.23.0/linux64/geckodriver\n",
    "\n",
    "driver = webdriver.Firefox(executable_path=\n",
    "                '/home/restrepo/.wdm/geckodriver/v0.23.0/linux64/geckodriver')\n",
    "#reinstall path: GeckoDriverManager().install())"
   ]
  },
  {
   "cell_type": "code",
   "execution_count": 16,
   "metadata": {
    "collapsed": true
   },
   "outputs": [],
   "source": [
    "#driver.set_page_load_timeout(30)"
   ]
  },
  {
   "cell_type": "code",
   "execution_count": 17,
   "metadata": {
    "collapsed": true
   },
   "outputs": [],
   "source": [
    "url='https://scholar.google.com.co/scholar?hl=en&as_sdt=0%2C5&q=10.1590%2Fs0103-84782009000100018'"
   ]
  },
  {
   "cell_type": "code",
   "execution_count": 22,
   "metadata": {
    "collapsed": true
   },
   "outputs": [],
   "source": [
    "driver.get('http://google.com')"
   ]
  },
  {
   "cell_type": "code",
   "execution_count": 20,
   "metadata": {},
   "outputs": [
    {
     "data": {
      "text/plain": [
       "'<html><head><meta http-equiv=\"content-type\" content=\"text/html; charset=utf-8\"><meta name=\"viewport\" content=\"initial-scale=1\"><title>https://scholar.google.com.co/scholar?hl=en&amp;as_sdt=0%2C5&amp;q=10.1590%2Fs0103-84782009000100018</title></head>\\n<body style=\"font-family: arial, sans-serif; background-color: #fff; color: #000; padding:20px; font-size:18px;\" onload=\"e=document.getElementById(\\'captcha\\');if(e){e.focus();}\">\\n<div style=\"max-width:400px;\">\\n<hr style=\"color:#ccc; background-color:#ccc;\" size=\"1\" noshade=\"\"><br>\\n<form id=\"captcha-form\" action=\"index\" method=\"post\">\\n<script type=\"text/javascript\" async=\"\" src=\"https://www.gstatic.com/recaptcha/api2/v1540189908068/recaptcha__en.js\"></script><script src=\"https://www.google.com/recaptcha/api.js\" async=\"\" defer=\"\"></script>\\n<script>var submitCallback = function(response) {document.getElementById(\\'captcha-form\\').submit();};</script>\\n<div id=\"recaptcha\" class=\"g-recaptcha\" data-sitekey=\"6LfwuyUTAAAAAOAmoS0fdqijC2PbbdH4kjq62Y1b\" data-callback=\"submitCallback\" data-s=\"-rjdjyQxYZmQPBp0raENNNq3luF9ICwDf91cgeF14JDQoVlGKTtWr0YwsRvhbHf83HbxZMUbktecLkETeqpJnX7MdLQ291U4okQbOZwGQh34BQE9Y93Ar0ctZ6l-eAt-g75mdNBaaj7ehg5FXPvHAlF9bmZmfFtGYM9s5uwBV7uf8IAvKNxbF7xGWhNLol8E-DyNRHMMaC1SS2CNhcswVqKWWLkGLgpNV46hu8FnPrhOq_e3syTHDy8\"><div style=\"width: 304px; height: 78px;\"><div><iframe src=\"https://www.google.com/recaptcha/api2/anchor?ar=1&amp;k=6LfwuyUTAAAAAOAmoS0fdqijC2PbbdH4kjq62Y1b&amp;co=aHR0cHM6Ly93d3cuZ29vZ2xlLmNvbTo0NDM.&amp;hl=en&amp;v=v1540189908068&amp;size=normal&amp;s=-rjdjyQxYZmQPBp0raENNNq3luF9ICwDf91cgeF14JDQoVlGKTtWr0YwsRvhbHf83HbxZMUbktecLkETeqpJnX7MdLQ291U4okQbOZwGQh34BQE9Y93Ar0ctZ6l-eAt-g75mdNBaaj7ehg5FXPvHAlF9bmZmfFtGYM9s5uwBV7uf8IAvKNxbF7xGWhNLol8E-DyNRHMMaC1SS2CNhcswVqKWWLkGLgpNV46hu8FnPrhOq_e3syTHDy8&amp;cb=1xh8e9borwfs\" role=\"presentation\" name=\"a-4vdef7v0sih9\" scrolling=\"no\" sandbox=\"allow-forms allow-popups allow-same-origin allow-scripts allow-top-navigation allow-modals allow-popups-to-escape-sandbox\" width=\"304\" height=\"78\" frameborder=\"0\"></iframe></div><textarea id=\"g-recaptcha-response\" name=\"g-recaptcha-response\" class=\"g-recaptcha-response\" style=\"width: 250px; height: 40px; border: 1px solid rgb(193, 193, 193); margin: 10px 25px; padding: 0px; resize: none; display: none;\"></textarea></div></div>\\n<input name=\"q\" value=\"EgS1MV8TGOzBwd4FIhkA8aeDS6bmEegq-nogEQlBCxQ-6txC9uhDMgFy\" type=\"hidden\"><input name=\"continue\" value=\"https://scholar.google.com.co/scholar?hl=en&amp;as_sdt=0%2C5&amp;q=10.1590%2Fs0103-84782009000100018\" type=\"hidden\">\\n</form>\\n<hr style=\"color:#ccc; background-color:#ccc;\" size=\"1\" noshade=\"\">\\n\\n<div style=\"font-size:13px;\">\\n<b>About this page</b><br><br>Our systems have detected unusual traffic from your computer network.  This page checks to see if it\\'s really you sending the requests, and not a robot.  <a href=\"#\" onclick=\"document.getElementById(\\'infoDiv\\').style.display=\\'block\\';\">Why did this happen?</a><br><br>\\n<div id=\"infoDiv\" style=\"display:none; background-color:#eee; padding:10px; margin:0 0 15px 0; line-height:1.4em;\">\\nThis page appears when Google automatically detects requests coming from your computer network which appear to be in violation of the <a href=\"//www.google.com/policies/terms/\">Terms of Service</a>. The block will expire shortly after those requests stop.  In the meantime, solving the above CAPTCHA will let you continue to use our services.<br><br>This traffic may have been sent by malicious software, a browser plug-in, or a script that sends automated requests.  If you share your network connection, ask your administrator for help — a different computer using the same IP address may be responsible.  <a href=\"//support.google.com/websearch/answer/86640\">Learn more</a><br><br>Sometimes you may be asked to solve the CAPTCHA if you are using advanced terms that robots are known to use, or sending requests very quickly.\\n</div>\\n\\nIP address: 181.49.95.19<br>Time: 2018-10-24T12:09:17Z<br>URL: https://scholar.google.com.co/scholar?hl=en&amp;as_sdt=0%2C5&amp;q=10.1590%2Fs0103-84782009000100018<br>\\n</div>\\n</div>\\n\\n\\n<div style=\"background-color: rgb(255, 255, 255); border: 1px solid rgb(204, 204, 204); box-shadow: rgba(0, 0, 0, 0.2) 2px 2px 3px; position: absolute; transition: visibility 0s linear 0.3s, opacity 0.3s linear 0s; opacity: 0; visibility: hidden; z-index: 2000000000; left: 0px; top: -10000px;\"><div style=\"width: 100%; height: 100%; position: fixed; top: 0px; left: 0px; z-index: 2000000000; background-color: rgb(255, 255, 255); opacity: 0.05;\"></div><div style=\"border: 11px solid transparent; width: 0px; height: 0px; position: absolute; pointer-events: none; margin-top: -11px; z-index: 2000000000;\" class=\"g-recaptcha-bubble-arrow\"></div><div style=\"border: 10px solid transparent; width: 0px; height: 0px; position: absolute; pointer-events: none; margin-top: -10px; z-index: 2000000000;\" class=\"g-recaptcha-bubble-arrow\"></div><div style=\"z-index: 2000000000; position: relative;\"><iframe title=\"recaptcha challenge\" src=\"https://www.google.com/recaptcha/api2/bframe?hl=en&amp;v=v1540189908068&amp;k=6LfwuyUTAAAAAOAmoS0fdqijC2PbbdH4kjq62Y1b&amp;cb=kcyr6gca5qkq\" style=\"width: 100%; height: 100%;\" name=\"c-4vdef7v0sih9\" scrolling=\"no\" sandbox=\"allow-forms allow-popups allow-same-origin allow-scripts allow-top-navigation allow-modals allow-popups-to-escape-sandbox\" frameborder=\"0\"></iframe></div></div></body></html>'"
      ]
     },
     "execution_count": 20,
     "metadata": {},
     "output_type": "execute_result"
    }
   ],
   "source": [
    "driver.page_source"
   ]
  },
  {
   "cell_type": "code",
   "execution_count": 8,
   "metadata": {
    "collapsed": true
   },
   "outputs": [],
   "source": [
    "browser=driver"
   ]
  },
  {
   "cell_type": "code",
   "execution_count": 20,
   "metadata": {},
   "outputs": [
    {
     "ename": "InvalidSessionIdException",
     "evalue": "Message: Tried to run command without establishing a connection\n",
     "output_type": "error",
     "traceback": [
      "\u001b[0;31m---------------------------------------------------------------------------\u001b[0m",
      "\u001b[0;31mInvalidSessionIdException\u001b[0m                 Traceback (most recent call last)",
      "\u001b[0;32m<ipython-input-20-3a19cc46515a>\u001b[0m in \u001b[0;36m<module>\u001b[0;34m()\u001b[0m\n\u001b[0;32m----> 1\u001b[0;31m \u001b[0mbrowser\u001b[0m\u001b[0;34m.\u001b[0m\u001b[0mget\u001b[0m\u001b[0;34m(\u001b[0m\u001b[0;34m'https://github.com/mozilla/geckodriver'\u001b[0m\u001b[0;34m)\u001b[0m\u001b[0;34m\u001b[0m\u001b[0m\n\u001b[0m",
      "\u001b[0;32m/usr/local/lib/python3.5/dist-packages/selenium/webdriver/remote/webdriver.py\u001b[0m in \u001b[0;36mget\u001b[0;34m(self, url)\u001b[0m\n\u001b[1;32m    331\u001b[0m         \u001b[0mLoads\u001b[0m \u001b[0ma\u001b[0m \u001b[0mweb\u001b[0m \u001b[0mpage\u001b[0m \u001b[0;32min\u001b[0m \u001b[0mthe\u001b[0m \u001b[0mcurrent\u001b[0m \u001b[0mbrowser\u001b[0m \u001b[0msession\u001b[0m\u001b[0;34m.\u001b[0m\u001b[0;34m\u001b[0m\u001b[0m\n\u001b[1;32m    332\u001b[0m         \"\"\"\n\u001b[0;32m--> 333\u001b[0;31m         \u001b[0mself\u001b[0m\u001b[0;34m.\u001b[0m\u001b[0mexecute\u001b[0m\u001b[0;34m(\u001b[0m\u001b[0mCommand\u001b[0m\u001b[0;34m.\u001b[0m\u001b[0mGET\u001b[0m\u001b[0;34m,\u001b[0m \u001b[0;34m{\u001b[0m\u001b[0;34m'url'\u001b[0m\u001b[0;34m:\u001b[0m \u001b[0murl\u001b[0m\u001b[0;34m}\u001b[0m\u001b[0;34m)\u001b[0m\u001b[0;34m\u001b[0m\u001b[0m\n\u001b[0m\u001b[1;32m    334\u001b[0m \u001b[0;34m\u001b[0m\u001b[0m\n\u001b[1;32m    335\u001b[0m     \u001b[0;34m@\u001b[0m\u001b[0mproperty\u001b[0m\u001b[0;34m\u001b[0m\u001b[0m\n",
      "\u001b[0;32m/usr/local/lib/python3.5/dist-packages/selenium/webdriver/remote/webdriver.py\u001b[0m in \u001b[0;36mexecute\u001b[0;34m(self, driver_command, params)\u001b[0m\n\u001b[1;32m    319\u001b[0m         \u001b[0mresponse\u001b[0m \u001b[0;34m=\u001b[0m \u001b[0mself\u001b[0m\u001b[0;34m.\u001b[0m\u001b[0mcommand_executor\u001b[0m\u001b[0;34m.\u001b[0m\u001b[0mexecute\u001b[0m\u001b[0;34m(\u001b[0m\u001b[0mdriver_command\u001b[0m\u001b[0;34m,\u001b[0m \u001b[0mparams\u001b[0m\u001b[0;34m)\u001b[0m\u001b[0;34m\u001b[0m\u001b[0m\n\u001b[1;32m    320\u001b[0m         \u001b[0;32mif\u001b[0m \u001b[0mresponse\u001b[0m\u001b[0;34m:\u001b[0m\u001b[0;34m\u001b[0m\u001b[0m\n\u001b[0;32m--> 321\u001b[0;31m             \u001b[0mself\u001b[0m\u001b[0;34m.\u001b[0m\u001b[0merror_handler\u001b[0m\u001b[0;34m.\u001b[0m\u001b[0mcheck_response\u001b[0m\u001b[0;34m(\u001b[0m\u001b[0mresponse\u001b[0m\u001b[0;34m)\u001b[0m\u001b[0;34m\u001b[0m\u001b[0m\n\u001b[0m\u001b[1;32m    322\u001b[0m             response['value'] = self._unwrap_value(\n\u001b[1;32m    323\u001b[0m                 response.get('value', None))\n",
      "\u001b[0;32m/usr/local/lib/python3.5/dist-packages/selenium/webdriver/remote/errorhandler.py\u001b[0m in \u001b[0;36mcheck_response\u001b[0;34m(self, response)\u001b[0m\n\u001b[1;32m    240\u001b[0m                 \u001b[0malert_text\u001b[0m \u001b[0;34m=\u001b[0m \u001b[0mvalue\u001b[0m\u001b[0;34m[\u001b[0m\u001b[0;34m'alert'\u001b[0m\u001b[0;34m]\u001b[0m\u001b[0;34m.\u001b[0m\u001b[0mget\u001b[0m\u001b[0;34m(\u001b[0m\u001b[0;34m'text'\u001b[0m\u001b[0;34m)\u001b[0m\u001b[0;34m\u001b[0m\u001b[0m\n\u001b[1;32m    241\u001b[0m             \u001b[0;32mraise\u001b[0m \u001b[0mexception_class\u001b[0m\u001b[0;34m(\u001b[0m\u001b[0mmessage\u001b[0m\u001b[0;34m,\u001b[0m \u001b[0mscreen\u001b[0m\u001b[0;34m,\u001b[0m \u001b[0mstacktrace\u001b[0m\u001b[0;34m,\u001b[0m \u001b[0malert_text\u001b[0m\u001b[0;34m)\u001b[0m\u001b[0;34m\u001b[0m\u001b[0m\n\u001b[0;32m--> 242\u001b[0;31m         \u001b[0;32mraise\u001b[0m \u001b[0mexception_class\u001b[0m\u001b[0;34m(\u001b[0m\u001b[0mmessage\u001b[0m\u001b[0;34m,\u001b[0m \u001b[0mscreen\u001b[0m\u001b[0;34m,\u001b[0m \u001b[0mstacktrace\u001b[0m\u001b[0;34m)\u001b[0m\u001b[0;34m\u001b[0m\u001b[0m\n\u001b[0m\u001b[1;32m    243\u001b[0m \u001b[0;34m\u001b[0m\u001b[0m\n\u001b[1;32m    244\u001b[0m     \u001b[0;32mdef\u001b[0m \u001b[0m_value_or_default\u001b[0m\u001b[0;34m(\u001b[0m\u001b[0mself\u001b[0m\u001b[0;34m,\u001b[0m \u001b[0mobj\u001b[0m\u001b[0;34m,\u001b[0m \u001b[0mkey\u001b[0m\u001b[0;34m,\u001b[0m \u001b[0mdefault\u001b[0m\u001b[0;34m)\u001b[0m\u001b[0;34m:\u001b[0m\u001b[0;34m\u001b[0m\u001b[0m\n",
      "\u001b[0;31mInvalidSessionIdException\u001b[0m: Message: Tried to run command without establishing a connection\n"
     ]
    }
   ],
   "source": [
    "browser.get('https://github.com/mozilla/geckodriver')"
   ]
  },
  {
   "cell_type": "code",
   "execution_count": null,
   "metadata": {
    "collapsed": true
   },
   "outputs": [],
   "source": []
  }
 ],
 "metadata": {
  "colab": {
   "collapsed_sections": [],
   "name": "Copy of OpenAccess.ipynb",
   "provenance": [],
   "version": "0.3.2"
  },
  "kernelspec": {
   "display_name": "Python 3",
   "language": "python",
   "name": "python3"
  },
  "language_info": {
   "codemirror_mode": {
    "name": "ipython",
    "version": 3
   },
   "file_extension": ".py",
   "mimetype": "text/x-python",
   "name": "python",
   "nbconvert_exporter": "python",
   "pygments_lexer": "ipython3",
   "version": "3.5.3"
  },
  "latex_envs": {
   "LaTeX_envs_menu_present": true,
   "bibliofile": "biblio.bib",
   "cite_by": "apalike",
   "current_citInitial": 1,
   "eqLabelWithNumbers": true,
   "eqNumInitial": 1,
   "labels_anchors": false,
   "latex_user_defs": false,
   "report_style_numbering": false,
   "user_envs_cfg": false
  },
  "toc": {
   "colors": {
    "hover_highlight": "#DAA520",
    "running_highlight": "#FF0000",
    "selected_highlight": "#FFD700"
   },
   "moveMenuLeft": true,
   "nav_menu": {
    "height": "512px",
    "width": "252px"
   },
   "navigate_menu": true,
   "number_sections": true,
   "sideBar": true,
   "threshold": 4,
   "toc_cell": false,
   "toc_section_display": "block",
   "toc_window_display": false
  }
 },
 "nbformat": 4,
 "nbformat_minor": 1
}
