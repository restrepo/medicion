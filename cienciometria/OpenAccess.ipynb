{
  "nbformat": 4,
  "nbformat_minor": 0,
  "metadata": {
    "colab": {
      "name": "OpenAccess.ipynb",
      "version": "0.3.2",
      "provenance": [],
      "collapsed_sections": [],
      "include_colab_link": true
    }
  },
  "cells": [
    {
      "cell_type": "markdown",
      "metadata": {
        "id": "view-in-github",
        "colab_type": "text"
      },
      "source": [
        "[View in Colaboratory](https://colab.research.google.com/github/restrepo/medicion/blob/master/cienciometria/OpenAccess.ipynb)"
      ]
    },
    {
      "metadata": {
        "id": "mNTEnTQjJuLx",
        "colab_type": "text"
      },
      "cell_type": "markdown",
      "source": [
        "# Consultar  DOAJ API con DOI\n",
        "Ver: https://doaj.org/api/v1/docs#!/Search/get_api_v1_search_articles_search_query"
      ]
    },
    {
      "metadata": {
        "id": "j39HDif4NpPJ",
        "colab_type": "text"
      },
      "cell_type": "markdown",
      "source": [
        "## Carga navegador JSON"
      ]
    },
    {
      "metadata": {
        "id": "izdwSa5RJ0Ec",
        "colab_type": "code",
        "colab": {}
      },
      "cell_type": "code",
      "source": [
        "import pandas as pd"
      ],
      "execution_count": 0,
      "outputs": []
    },
    {
      "metadata": {
        "id": "INjfBi7KNmJP",
        "colab_type": "text"
      },
      "cell_type": "markdown",
      "source": [
        "## Consulta"
      ]
    },
    {
      "metadata": {
        "id": "5c8D7U-mJ3g6",
        "colab_type": "code",
        "colab": {}
      },
      "cell_type": "code",
      "source": [
        "DOI='10.1016/j.physletb.2018.01.009'\n",
        "df=pd.read_json('https://doaj.org/api/v1/search/articles/{}'.format(DOI))"
      ],
      "execution_count": 0,
      "outputs": []
    },
    {
      "metadata": {
        "id": "M84vNkUSNPeM",
        "colab_type": "text"
      },
      "cell_type": "markdown",
      "source": [
        "## Análisis de resultado:\n",
        "Nota: La celdas con estructuras anidadas (que comienzan con `[` ó `{`) sa analizan secuencialmente"
      ]
    },
    {
      "metadata": {
        "id": "m7ahe4ZaNOb9",
        "colab_type": "code",
        "colab": {
          "base_uri": "https://localhost:8080/",
          "height": 79
        },
        "outputId": "797cca3f-6de1-403b-9bcf-2e3f8a805503"
      },
      "cell_type": "code",
      "source": [
        "df"
      ],
      "execution_count": 32,
      "outputs": [
        {
          "output_type": "execute_result",
          "data": {
            "text/html": [
              "<div>\n",
              "<style scoped>\n",
              "    .dataframe tbody tr th:only-of-type {\n",
              "        vertical-align: middle;\n",
              "    }\n",
              "\n",
              "    .dataframe tbody tr th {\n",
              "        vertical-align: top;\n",
              "    }\n",
              "\n",
              "    .dataframe thead th {\n",
              "        text-align: right;\n",
              "    }\n",
              "</style>\n",
              "<table border=\"1\" class=\"dataframe\">\n",
              "  <thead>\n",
              "    <tr style=\"text-align: right;\">\n",
              "      <th></th>\n",
              "      <th>last</th>\n",
              "      <th>page</th>\n",
              "      <th>pageSize</th>\n",
              "      <th>query</th>\n",
              "      <th>results</th>\n",
              "      <th>timestamp</th>\n",
              "      <th>total</th>\n",
              "    </tr>\n",
              "  </thead>\n",
              "  <tbody>\n",
              "    <tr>\n",
              "      <th>0</th>\n",
              "      <td>https://doaj.org/api/v1/search/articles/10.101...</td>\n",
              "      <td>1</td>\n",
              "      <td>10</td>\n",
              "      <td>10.1016/j.physletb.2018.01.009</td>\n",
              "      <td>{u'last_updated': u'2018-03-05T12:09:16Z', u'i...</td>\n",
              "      <td>2018-1010T04:23:08Z</td>\n",
              "      <td>1</td>\n",
              "    </tr>\n",
              "  </tbody>\n",
              "</table>\n",
              "</div>"
            ],
            "text/plain": [
              "                                                last  page  pageSize  \\\n",
              "0  https://doaj.org/api/v1/search/articles/10.101...     1        10   \n",
              "\n",
              "                            query  \\\n",
              "0  10.1016/j.physletb.2018.01.009   \n",
              "\n",
              "                                             results            timestamp  \\\n",
              "0  {u'last_updated': u'2018-03-05T12:09:16Z', u'i...  2018-1010T04:23:08Z   \n",
              "\n",
              "   total  \n",
              "0      1  "
            ]
          },
          "metadata": {
            "tags": []
          },
          "execution_count": 32
        }
      ]
    },
    {
      "metadata": {
        "id": "lzgDcW8NNyAv",
        "colab_type": "text"
      },
      "cell_type": "markdown",
      "source": [
        "Desplegar colunna __results__:"
      ]
    },
    {
      "metadata": {
        "id": "5vcp02fQKCu2",
        "colab_type": "code",
        "colab": {
          "base_uri": "https://localhost:8080/",
          "height": 387
        },
        "outputId": "2ee1ee4b-b0d1-4149-8495-a626f27326dc"
      },
      "cell_type": "code",
      "source": [
        "p=pd.DataFrame(  df['results'].values[0] )\n",
        "p"
      ],
      "execution_count": 12,
      "outputs": [
        {
          "output_type": "execute_result",
          "data": {
            "text/html": [
              "<div>\n",
              "<style scoped>\n",
              "    .dataframe tbody tr th:only-of-type {\n",
              "        vertical-align: middle;\n",
              "    }\n",
              "\n",
              "    .dataframe tbody tr th {\n",
              "        vertical-align: top;\n",
              "    }\n",
              "\n",
              "    .dataframe thead th {\n",
              "        text-align: right;\n",
              "    }\n",
              "</style>\n",
              "<table border=\"1\" class=\"dataframe\">\n",
              "  <thead>\n",
              "    <tr style=\"text-align: right;\">\n",
              "      <th></th>\n",
              "      <th>bibjson</th>\n",
              "      <th>created_date</th>\n",
              "      <th>id</th>\n",
              "      <th>last_updated</th>\n",
              "    </tr>\n",
              "  </thead>\n",
              "  <tbody>\n",
              "    <tr>\n",
              "      <th>abstract</th>\n",
              "      <td>The observation of neutrino oscillations estab...</td>\n",
              "      <td>2018-03-05T12:09:16Z</td>\n",
              "      <td>03ba3f288d8341d380a286a6d0f64de4</td>\n",
              "      <td>2018-03-05T12:09:16Z</td>\n",
              "    </tr>\n",
              "    <tr>\n",
              "      <th>author</th>\n",
              "      <td>[{u'affiliation': u'Physics Department, Univer...</td>\n",
              "      <td>2018-03-05T12:09:16Z</td>\n",
              "      <td>03ba3f288d8341d380a286a6d0f64de4</td>\n",
              "      <td>2018-03-05T12:09:16Z</td>\n",
              "    </tr>\n",
              "    <tr>\n",
              "      <th>end_page</th>\n",
              "      <td>100</td>\n",
              "      <td>2018-03-05T12:09:16Z</td>\n",
              "      <td>03ba3f288d8341d380a286a6d0f64de4</td>\n",
              "      <td>2018-03-05T12:09:16Z</td>\n",
              "    </tr>\n",
              "    <tr>\n",
              "      <th>identifier</th>\n",
              "      <td>[{u'type': u'pissn', u'id': u'0370-2693'}, {u'...</td>\n",
              "      <td>2018-03-05T12:09:16Z</td>\n",
              "      <td>03ba3f288d8341d380a286a6d0f64de4</td>\n",
              "      <td>2018-03-05T12:09:16Z</td>\n",
              "    </tr>\n",
              "    <tr>\n",
              "      <th>journal</th>\n",
              "      <td>{u'publisher': u'Elsevier', u'language': [u'EN...</td>\n",
              "      <td>2018-03-05T12:09:16Z</td>\n",
              "      <td>03ba3f288d8341d380a286a6d0f64de4</td>\n",
              "      <td>2018-03-05T12:09:16Z</td>\n",
              "    </tr>\n",
              "    <tr>\n",
              "      <th>link</th>\n",
              "      <td>[{u'url': u'http://www.sciencedirect.com/scien...</td>\n",
              "      <td>2018-03-05T12:09:16Z</td>\n",
              "      <td>03ba3f288d8341d380a286a6d0f64de4</td>\n",
              "      <td>2018-03-05T12:09:16Z</td>\n",
              "    </tr>\n",
              "    <tr>\n",
              "      <th>month</th>\n",
              "      <td>3</td>\n",
              "      <td>2018-03-05T12:09:16Z</td>\n",
              "      <td>03ba3f288d8341d380a286a6d0f64de4</td>\n",
              "      <td>2018-03-05T12:09:16Z</td>\n",
              "    </tr>\n",
              "    <tr>\n",
              "      <th>start_page</th>\n",
              "      <td>94</td>\n",
              "      <td>2018-03-05T12:09:16Z</td>\n",
              "      <td>03ba3f288d8341d380a286a6d0f64de4</td>\n",
              "      <td>2018-03-05T12:09:16Z</td>\n",
              "    </tr>\n",
              "    <tr>\n",
              "      <th>subject</th>\n",
              "      <td>[{u'code': u'QC1-999', u'term': u'Physics', u'...</td>\n",
              "      <td>2018-03-05T12:09:16Z</td>\n",
              "      <td>03ba3f288d8341d380a286a6d0f64de4</td>\n",
              "      <td>2018-03-05T12:09:16Z</td>\n",
              "    </tr>\n",
              "    <tr>\n",
              "      <th>title</th>\n",
              "      <td>Expanding the reach of heavy neutrino searches...</td>\n",
              "      <td>2018-03-05T12:09:16Z</td>\n",
              "      <td>03ba3f288d8341d380a286a6d0f64de4</td>\n",
              "      <td>2018-03-05T12:09:16Z</td>\n",
              "    </tr>\n",
              "    <tr>\n",
              "      <th>year</th>\n",
              "      <td>2018</td>\n",
              "      <td>2018-03-05T12:09:16Z</td>\n",
              "      <td>03ba3f288d8341d380a286a6d0f64de4</td>\n",
              "      <td>2018-03-05T12:09:16Z</td>\n",
              "    </tr>\n",
              "  </tbody>\n",
              "</table>\n",
              "</div>"
            ],
            "text/plain": [
              "                                                      bibjson  \\\n",
              "abstract    The observation of neutrino oscillations estab...   \n",
              "author      [{u'affiliation': u'Physics Department, Univer...   \n",
              "end_page                                                  100   \n",
              "identifier  [{u'type': u'pissn', u'id': u'0370-2693'}, {u'...   \n",
              "journal     {u'publisher': u'Elsevier', u'language': [u'EN...   \n",
              "link        [{u'url': u'http://www.sciencedirect.com/scien...   \n",
              "month                                                       3   \n",
              "start_page                                                 94   \n",
              "subject     [{u'code': u'QC1-999', u'term': u'Physics', u'...   \n",
              "title       Expanding the reach of heavy neutrino searches...   \n",
              "year                                                     2018   \n",
              "\n",
              "                    created_date                                id  \\\n",
              "abstract    2018-03-05T12:09:16Z  03ba3f288d8341d380a286a6d0f64de4   \n",
              "author      2018-03-05T12:09:16Z  03ba3f288d8341d380a286a6d0f64de4   \n",
              "end_page    2018-03-05T12:09:16Z  03ba3f288d8341d380a286a6d0f64de4   \n",
              "identifier  2018-03-05T12:09:16Z  03ba3f288d8341d380a286a6d0f64de4   \n",
              "journal     2018-03-05T12:09:16Z  03ba3f288d8341d380a286a6d0f64de4   \n",
              "link        2018-03-05T12:09:16Z  03ba3f288d8341d380a286a6d0f64de4   \n",
              "month       2018-03-05T12:09:16Z  03ba3f288d8341d380a286a6d0f64de4   \n",
              "start_page  2018-03-05T12:09:16Z  03ba3f288d8341d380a286a6d0f64de4   \n",
              "subject     2018-03-05T12:09:16Z  03ba3f288d8341d380a286a6d0f64de4   \n",
              "title       2018-03-05T12:09:16Z  03ba3f288d8341d380a286a6d0f64de4   \n",
              "year        2018-03-05T12:09:16Z  03ba3f288d8341d380a286a6d0f64de4   \n",
              "\n",
              "                    last_updated  \n",
              "abstract    2018-03-05T12:09:16Z  \n",
              "author      2018-03-05T12:09:16Z  \n",
              "end_page    2018-03-05T12:09:16Z  \n",
              "identifier  2018-03-05T12:09:16Z  \n",
              "journal     2018-03-05T12:09:16Z  \n",
              "link        2018-03-05T12:09:16Z  \n",
              "month       2018-03-05T12:09:16Z  \n",
              "start_page  2018-03-05T12:09:16Z  \n",
              "subject     2018-03-05T12:09:16Z  \n",
              "title       2018-03-05T12:09:16Z  \n",
              "year        2018-03-05T12:09:16Z  "
            ]
          },
          "metadata": {
            "tags": []
          },
          "execution_count": 12
        }
      ]
    },
    {
      "metadata": {
        "id": "Rfb-0_JTN8bA",
        "colab_type": "text"
      },
      "cell_type": "markdown",
      "source": [
        "Desplegar cada una de las celdas anidadas de la columna __bibjson__"
      ]
    },
    {
      "metadata": {
        "id": "UI2UlUNBK5hJ",
        "colab_type": "code",
        "colab": {
          "base_uri": "https://localhost:8080/",
          "height": 202
        },
        "outputId": "0e945534-18d0-478e-e6ba-ffeafbc1aa07"
      },
      "cell_type": "code",
      "source": [
        "pd.DataFrame(  p.loc['author','bibjson'] )"
      ],
      "execution_count": 18,
      "outputs": [
        {
          "output_type": "execute_result",
          "data": {
            "text/html": [
              "<div>\n",
              "<style scoped>\n",
              "    .dataframe tbody tr th:only-of-type {\n",
              "        vertical-align: middle;\n",
              "    }\n",
              "\n",
              "    .dataframe tbody tr th {\n",
              "        vertical-align: top;\n",
              "    }\n",
              "\n",
              "    .dataframe thead th {\n",
              "        text-align: right;\n",
              "    }\n",
              "</style>\n",
              "<table border=\"1\" class=\"dataframe\">\n",
              "  <thead>\n",
              "    <tr style=\"text-align: right;\">\n",
              "      <th></th>\n",
              "      <th>affiliation</th>\n",
              "      <th>name</th>\n",
              "    </tr>\n",
              "  </thead>\n",
              "  <tbody>\n",
              "    <tr>\n",
              "      <th>0</th>\n",
              "      <td>Physics Department, Universidad de los Andes, ...</td>\n",
              "      <td>Andrés Flórez</td>\n",
              "    </tr>\n",
              "    <tr>\n",
              "      <th>1</th>\n",
              "      <td>Department of Physics and Astronomy, Vanderbil...</td>\n",
              "      <td>Kaiwen Gui</td>\n",
              "    </tr>\n",
              "    <tr>\n",
              "      <th>2</th>\n",
              "      <td>Department of Physics and Astronomy, Vanderbil...</td>\n",
              "      <td>Alfredo Gurrola</td>\n",
              "    </tr>\n",
              "    <tr>\n",
              "      <th>3</th>\n",
              "      <td>Physics Department, Universidad de los Andes, ...</td>\n",
              "      <td>Carlos Patiño</td>\n",
              "    </tr>\n",
              "    <tr>\n",
              "      <th>4</th>\n",
              "      <td>Department of Physics, Universidad de Antioqui...</td>\n",
              "      <td>Diego Restrepo</td>\n",
              "    </tr>\n",
              "  </tbody>\n",
              "</table>\n",
              "</div>"
            ],
            "text/plain": [
              "                                         affiliation             name\n",
              "0  Physics Department, Universidad de los Andes, ...    Andrés Flórez\n",
              "1  Department of Physics and Astronomy, Vanderbil...       Kaiwen Gui\n",
              "2  Department of Physics and Astronomy, Vanderbil...  Alfredo Gurrola\n",
              "3  Physics Department, Universidad de los Andes, ...    Carlos Patiño\n",
              "4  Department of Physics, Universidad de Antioqui...   Diego Restrepo"
            ]
          },
          "metadata": {
            "tags": []
          },
          "execution_count": 18
        }
      ]
    },
    {
      "metadata": {
        "id": "JgUvVeR5KNNN",
        "colab_type": "code",
        "colab": {
          "base_uri": "https://localhost:8080/",
          "height": 141
        },
        "outputId": "b7c37bfd-cb6e-4da9-a9b1-607b0f71dd6f"
      },
      "cell_type": "code",
      "source": [
        "pd.DataFrame(  p.loc['identifier','bibjson'] )"
      ],
      "execution_count": 19,
      "outputs": [
        {
          "output_type": "execute_result",
          "data": {
            "text/html": [
              "<div>\n",
              "<style scoped>\n",
              "    .dataframe tbody tr th:only-of-type {\n",
              "        vertical-align: middle;\n",
              "    }\n",
              "\n",
              "    .dataframe tbody tr th {\n",
              "        vertical-align: top;\n",
              "    }\n",
              "\n",
              "    .dataframe thead th {\n",
              "        text-align: right;\n",
              "    }\n",
              "</style>\n",
              "<table border=\"1\" class=\"dataframe\">\n",
              "  <thead>\n",
              "    <tr style=\"text-align: right;\">\n",
              "      <th></th>\n",
              "      <th>id</th>\n",
              "      <th>type</th>\n",
              "    </tr>\n",
              "  </thead>\n",
              "  <tbody>\n",
              "    <tr>\n",
              "      <th>0</th>\n",
              "      <td>0370-2693</td>\n",
              "      <td>pissn</td>\n",
              "    </tr>\n",
              "    <tr>\n",
              "      <th>1</th>\n",
              "      <td>1873-2445</td>\n",
              "      <td>eissn</td>\n",
              "    </tr>\n",
              "    <tr>\n",
              "      <th>2</th>\n",
              "      <td>10.1016/j.physletb.2018.01.009</td>\n",
              "      <td>doi</td>\n",
              "    </tr>\n",
              "  </tbody>\n",
              "</table>\n",
              "</div>"
            ],
            "text/plain": [
              "                               id   type\n",
              "0                       0370-2693  pissn\n",
              "1                       1873-2445  eissn\n",
              "2  10.1016/j.physletb.2018.01.009    doi"
            ]
          },
          "metadata": {
            "tags": []
          },
          "execution_count": 19
        }
      ]
    },
    {
      "metadata": {
        "id": "EVHZfHm_Li8m",
        "colab_type": "code",
        "colab": {
          "base_uri": "https://localhost:8080/",
          "height": 79
        },
        "outputId": "7c3b511b-ef55-41de-b01b-9d3499472627"
      },
      "cell_type": "code",
      "source": [
        " pd.DataFrame( [p.loc['journal','bibjson'] ] )\n"
      ],
      "execution_count": 24,
      "outputs": [
        {
          "output_type": "execute_result",
          "data": {
            "text/html": [
              "<div>\n",
              "<style scoped>\n",
              "    .dataframe tbody tr th:only-of-type {\n",
              "        vertical-align: middle;\n",
              "    }\n",
              "\n",
              "    .dataframe tbody tr th {\n",
              "        vertical-align: top;\n",
              "    }\n",
              "\n",
              "    .dataframe thead th {\n",
              "        text-align: right;\n",
              "    }\n",
              "</style>\n",
              "<table border=\"1\" class=\"dataframe\">\n",
              "  <thead>\n",
              "    <tr style=\"text-align: right;\">\n",
              "      <th></th>\n",
              "      <th>country</th>\n",
              "      <th>issns</th>\n",
              "      <th>language</th>\n",
              "      <th>license</th>\n",
              "      <th>number</th>\n",
              "      <th>publisher</th>\n",
              "      <th>title</th>\n",
              "      <th>volume</th>\n",
              "    </tr>\n",
              "  </thead>\n",
              "  <tbody>\n",
              "    <tr>\n",
              "      <th>0</th>\n",
              "      <td>NL</td>\n",
              "      <td>[0370-2693, 1873-2445]</td>\n",
              "      <td>[EN]</td>\n",
              "      <td>[{u'url': u'http://www.elsevier.com/journals/p...</td>\n",
              "      <td>C</td>\n",
              "      <td>Elsevier</td>\n",
              "      <td>Physics Letters B</td>\n",
              "      <td>778</td>\n",
              "    </tr>\n",
              "  </tbody>\n",
              "</table>\n",
              "</div>"
            ],
            "text/plain": [
              "  country                   issns language  \\\n",
              "0      NL  [0370-2693, 1873-2445]     [EN]   \n",
              "\n",
              "                                             license number publisher  \\\n",
              "0  [{u'url': u'http://www.elsevier.com/journals/p...      C  Elsevier   \n",
              "\n",
              "               title volume  \n",
              "0  Physics Letters B    778  "
            ]
          },
          "metadata": {
            "tags": []
          },
          "execution_count": 24
        }
      ]
    },
    {
      "metadata": {
        "id": "tGvelHhSLq3B",
        "colab_type": "code",
        "colab": {
          "base_uri": "https://localhost:8080/",
          "height": 79
        },
        "outputId": "90d2232e-1140-4089-a285-2a3f274f7d87"
      },
      "cell_type": "code",
      "source": [
        "pd.DataFrame( p.loc['journal','bibjson']['license'] )"
      ],
      "execution_count": 25,
      "outputs": [
        {
          "output_type": "execute_result",
          "data": {
            "text/html": [
              "<div>\n",
              "<style scoped>\n",
              "    .dataframe tbody tr th:only-of-type {\n",
              "        vertical-align: middle;\n",
              "    }\n",
              "\n",
              "    .dataframe tbody tr th {\n",
              "        vertical-align: top;\n",
              "    }\n",
              "\n",
              "    .dataframe thead th {\n",
              "        text-align: right;\n",
              "    }\n",
              "</style>\n",
              "<table border=\"1\" class=\"dataframe\">\n",
              "  <thead>\n",
              "    <tr style=\"text-align: right;\">\n",
              "      <th></th>\n",
              "      <th>open_access</th>\n",
              "      <th>title</th>\n",
              "      <th>type</th>\n",
              "      <th>url</th>\n",
              "    </tr>\n",
              "  </thead>\n",
              "  <tbody>\n",
              "    <tr>\n",
              "      <th>0</th>\n",
              "      <td>True</td>\n",
              "      <td>CC BY</td>\n",
              "      <td>CC BY</td>\n",
              "      <td>http://www.elsevier.com/journals/physics-lette...</td>\n",
              "    </tr>\n",
              "  </tbody>\n",
              "</table>\n",
              "</div>"
            ],
            "text/plain": [
              "   open_access  title   type  \\\n",
              "0         True  CC BY  CC BY   \n",
              "\n",
              "                                                 url  \n",
              "0  http://www.elsevier.com/journals/physics-lette...  "
            ]
          },
          "metadata": {
            "tags": []
          },
          "execution_count": 25
        }
      ]
    },
    {
      "metadata": {
        "id": "KDV-pw1GMDTI",
        "colab_type": "code",
        "colab": {
          "base_uri": "https://localhost:8080/",
          "height": 79
        },
        "outputId": "df95adb1-d22f-4320-dd44-7ee3fb7f2c52"
      },
      "cell_type": "code",
      "source": [
        "pd.DataFrame(  p.loc['link','bibjson']  )"
      ],
      "execution_count": 28,
      "outputs": [
        {
          "output_type": "execute_result",
          "data": {
            "text/html": [
              "<div>\n",
              "<style scoped>\n",
              "    .dataframe tbody tr th:only-of-type {\n",
              "        vertical-align: middle;\n",
              "    }\n",
              "\n",
              "    .dataframe tbody tr th {\n",
              "        vertical-align: top;\n",
              "    }\n",
              "\n",
              "    .dataframe thead th {\n",
              "        text-align: right;\n",
              "    }\n",
              "</style>\n",
              "<table border=\"1\" class=\"dataframe\">\n",
              "  <thead>\n",
              "    <tr style=\"text-align: right;\">\n",
              "      <th></th>\n",
              "      <th>type</th>\n",
              "      <th>url</th>\n",
              "    </tr>\n",
              "  </thead>\n",
              "  <tbody>\n",
              "    <tr>\n",
              "      <th>0</th>\n",
              "      <td>fulltext</td>\n",
              "      <td>http://www.sciencedirect.com/science/article/p...</td>\n",
              "    </tr>\n",
              "  </tbody>\n",
              "</table>\n",
              "</div>"
            ],
            "text/plain": [
              "       type                                                url\n",
              "0  fulltext  http://www.sciencedirect.com/science/article/p..."
            ]
          },
          "metadata": {
            "tags": []
          },
          "execution_count": 28
        }
      ]
    },
    {
      "metadata": {
        "id": "NHez240DMkPM",
        "colab_type": "code",
        "colab": {}
      },
      "cell_type": "code",
      "source": [
        ""
      ],
      "execution_count": 0,
      "outputs": []
    }
  ]
}