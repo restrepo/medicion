{
  "nbformat": 4,
  "nbformat_minor": 0,
  "metadata": {
    "colab": {
      "name": "merge.ipynb",
      "version": "0.3.2",
      "provenance": [],
      "include_colab_link": true
    },
    "kernelspec": {
      "display_name": "Python 3",
      "language": "python",
      "name": "python3"
    }
  },
  "cells": [
    {
      "cell_type": "markdown",
      "metadata": {
        "id": "view-in-github",
        "colab_type": "text"
      },
      "source": [
        "<a href=\"https://colab.research.google.com/github/restrepo/medicion/blob/master/cienciometria/patents.ipynb\" target=\"_parent\"><img src=\"https://colab.research.google.com/assets/colab-badge.svg\" alt=\"Open In Colab\"/></a>"
      ]
    },
    {
      "metadata": {
        "id": "aDnqho-CsEwj",
        "colab_type": "text"
      },
      "cell_type": "markdown",
      "source": [
        "# Patentes Lens"
      ]
    },
    {
      "metadata": {
        "id": "LcEtpzZ3XXPk",
        "colab_type": "code",
        "colab": {}
      },
      "cell_type": "code",
      "source": [
        "!pip install wosplus > /dev/null"
      ],
      "execution_count": 0,
      "outputs": []
    },
    {
      "metadata": {
        "id": "nhk2ZGEDd2Yo",
        "colab_type": "code",
        "colab": {}
      },
      "cell_type": "code",
      "source": [
        "import wosplus as wp\n",
        "import pandas as pd"
      ],
      "execution_count": 0,
      "outputs": []
    },
    {
      "metadata": {
        "id": "JS7jD1f47JUN",
        "colab_type": "text"
      },
      "cell_type": "markdown",
      "source": [
        "##  Configure public links of  files in Google Drive\n",
        "* If it is a Google Spreadsheet the corresponding file is downloaded as CSV\n",
        "* If it is in excel or text file the file is downloaded  directly\n",
        "\n",
        "To define your  own labeled IDs for public google drive files edit the next cell:"
      ]
    },
    {
      "metadata": {
        "id": "xtNrUVEOfO3I",
        "colab_type": "text"
      },
      "cell_type": "markdown",
      "source": [
        ""
      ]
    },
    {
      "metadata": {
        "id": "T4Rmd2dF7JUQ",
        "colab_type": "code",
        "outputId": "66014c85-e959-43ee-fb46-d864451201c9",
        "colab": {
          "base_uri": "https://localhost:8080/",
          "height": 35
        }
      },
      "cell_type": "code",
      "source": [
        "%%writefile drive.cfg\n",
        "[FILES]\n",
        "papers cited in patents.csv       = 1d_1eiWJRT-fBvnwULVeFtunuMhPQTyj-Y4qCc85CkTQ\n",
        "university_of_antioquia.json      = 1BMVTWCmdn-KG_Su2HtyxPmYNmY9SjnSg"
      ],
      "execution_count": 0,
      "outputs": [
        {
          "output_type": "stream",
          "text": [
            "Overwriting drive.cfg\n"
          ],
          "name": "stdout"
        }
      ]
    },
    {
      "metadata": {
        "id": "Y0D0hEdAMXUX",
        "colab_type": "text"
      },
      "cell_type": "markdown",
      "source": [
        "##  Load data bases"
      ]
    },
    {
      "metadata": {
        "id": "aonEaUgL5NAo",
        "colab_type": "code",
        "colab": {}
      },
      "cell_type": "code",
      "source": [
        "UDEA=wp.wosplus('drive.cfg')"
      ],
      "execution_count": 0,
      "outputs": []
    },
    {
      "metadata": {
        "id": "120XoKHKfUyK",
        "colab_type": "code",
        "colab": {}
      },
      "cell_type": "code",
      "source": [
        "pt=UDEA.read_drive_excel('papers cited in patents.csv')"
      ],
      "execution_count": 0,
      "outputs": []
    },
    {
      "metadata": {
        "id": "s0ACiMDIfeKy",
        "colab_type": "code",
        "outputId": "c336d0cf-a1c2-4d33-afaa-ce28c3fbd5cb",
        "colab": {
          "base_uri": "https://localhost:8080/",
          "height": 248
        }
      },
      "cell_type": "code",
      "source": [
        "pt[:1]"
      ],
      "execution_count": 0,
      "outputs": [
        {
          "output_type": "execute_result",
          "data": {
            "text/html": [
              "<div>\n",
              "<style scoped>\n",
              "    .dataframe tbody tr th:only-of-type {\n",
              "        vertical-align: middle;\n",
              "    }\n",
              "\n",
              "    .dataframe tbody tr th {\n",
              "        vertical-align: top;\n",
              "    }\n",
              "\n",
              "    .dataframe thead th {\n",
              "        text-align: right;\n",
              "    }\n",
              "</style>\n",
              "<table border=\"1\" class=\"dataframe\">\n",
              "  <thead>\n",
              "    <tr style=\"text-align: right;\">\n",
              "      <th></th>\n",
              "      <th>Lens ID</th>\n",
              "      <th>Languages</th>\n",
              "      <th>Journal Country</th>\n",
              "      <th>ISSNs</th>\n",
              "      <th>Publisher</th>\n",
              "      <th>Source Title</th>\n",
              "      <th>Title</th>\n",
              "      <th>Fields of Study</th>\n",
              "      <th>Date Published</th>\n",
              "      <th>Publication Year</th>\n",
              "      <th>...</th>\n",
              "      <th>MeSH Terms</th>\n",
              "      <th>Chemicals</th>\n",
              "      <th>Source URLs</th>\n",
              "      <th>Patent Citation Count</th>\n",
              "      <th>PMID</th>\n",
              "      <th>DOI</th>\n",
              "      <th>Microsoft Academic ID</th>\n",
              "      <th>PMCID</th>\n",
              "      <th>References</th>\n",
              "      <th>Scholarly Citation Count</th>\n",
              "    </tr>\n",
              "  </thead>\n",
              "  <tbody>\n",
              "    <tr>\n",
              "      <th>0</th>\n",
              "      <td>039-485-712-200-144</td>\n",
              "      <td>en</td>\n",
              "      <td>United Kingdom</td>\n",
              "      <td>410101</td>\n",
              "      <td>Elsevier Limited</td>\n",
              "      <td>Toxicon</td>\n",
              "      <td>A randomized blinded clinical trial of two ant...</td>\n",
              "      <td>Antivenom; Surgery; Snake bites; Porthidium; C...</td>\n",
              "      <td>1999-06-01</td>\n",
              "      <td>1999</td>\n",
              "      <td>...</td>\n",
              "      <td>Adolescent; Adult; Aged; Ammonium Sulfate/chem...</td>\n",
              "      <td>Antivenins; Caprylates; Crotalid Venoms; Immun...</td>\n",
              "      <td>http://www.sciencedirect.com/science/article/p...</td>\n",
              "      <td>2</td>\n",
              "      <td>10340829</td>\n",
              "      <td>10.1016/s0041-0101(98)00220-7</td>\n",
              "      <td>2049569956</td>\n",
              "      <td></td>\n",
              "      <td>001-689-977-044-672; 016-932-514-872-094; 036-...</td>\n",
              "      <td>91</td>\n",
              "    </tr>\n",
              "  </tbody>\n",
              "</table>\n",
              "<p>1 rows × 30 columns</p>\n",
              "</div>"
            ],
            "text/plain": [
              "               Lens ID Languages Journal Country   ISSNs         Publisher  \\\n",
              "0  039-485-712-200-144        en  United Kingdom  410101  Elsevier Limited   \n",
              "\n",
              "  Source Title                                              Title  \\\n",
              "0      Toxicon  A randomized blinded clinical trial of two ant...   \n",
              "\n",
              "                                     Fields of Study Date Published  \\\n",
              "0  Antivenom; Surgery; Snake bites; Porthidium; C...     1999-06-01   \n",
              "\n",
              "   Publication Year           ...             \\\n",
              "0              1999           ...              \n",
              "\n",
              "                                          MeSH Terms  \\\n",
              "0  Adolescent; Adult; Aged; Ammonium Sulfate/chem...   \n",
              "\n",
              "                                           Chemicals  \\\n",
              "0  Antivenins; Caprylates; Crotalid Venoms; Immun...   \n",
              "\n",
              "                                         Source URLs Patent Citation Count  \\\n",
              "0  http://www.sciencedirect.com/science/article/p...                     2   \n",
              "\n",
              "       PMID                            DOI Microsoft Academic ID PMCID  \\\n",
              "0  10340829  10.1016/s0041-0101(98)00220-7            2049569956         \n",
              "\n",
              "                                          References Scholarly Citation Count  \n",
              "0  001-689-977-044-672; 016-932-514-872-094; 036-...                       91  \n",
              "\n",
              "[1 rows x 30 columns]"
            ]
          },
          "metadata": {
            "tags": []
          },
          "execution_count": 21
        }
      ]
    },
    {
      "metadata": {
        "id": "HeGCyFO_gFy7",
        "colab_type": "code",
        "colab": {}
      },
      "cell_type": "code",
      "source": [
        ""
      ],
      "execution_count": 0,
      "outputs": []
    }
  ]
}