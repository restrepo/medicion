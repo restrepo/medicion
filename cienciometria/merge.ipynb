{
  "nbformat": 4,
  "nbformat_minor": 0,
  "metadata": {
    "colab": {
      "name": "merge.ipynb",
      "version": "0.3.2",
      "provenance": [],
      "toc_visible": true,
      "include_colab_link": true
    },
    "kernelspec": {
      "display_name": "Python 3",
      "language": "python",
      "name": "python3"
    }
  },
  "cells": [
    {
      "cell_type": "markdown",
      "metadata": {
        "id": "view-in-github",
        "colab_type": "text"
      },
      "source": [
        "[View in Colaboratory](https://colab.research.google.com/github/restrepo/medicion/blob/master/cienciometria/merge.ipynb)"
      ]
    },
    {
      "metadata": {
        "id": "aDnqho-CsEwj",
        "colab_type": "text"
      },
      "cell_type": "markdown",
      "source": [
        "# WOSPlus\n",
        "Manage Web of Science txt files and merge with other bibliographic datasets."
      ]
    },
    {
      "metadata": {
        "id": "9Hnin1fosRB_",
        "colab_type": "code",
        "colab": {}
      },
      "cell_type": "code",
      "source": [
        "!pip install wosplus openpyxl xlrd > /dev/null"
      ],
      "execution_count": 0,
      "outputs": []
    },
    {
      "metadata": {
        "id": "wmQ_TErin0tp",
        "colab_type": "code",
        "colab": {}
      },
      "cell_type": "code",
      "source": [
        "def future_download_public_drive_file(file=None,id='1snzdsa-RLwYIf8MUffauaD2ZjNr1U2Os'):\n",
        "    '''\n",
        "    Download file from Google Drive public id\n",
        "    If \n",
        "      file=None\n",
        "    returns: \n",
        "      * File object for a binary file\n",
        "        Example: \n",
        "          txt=future_download_public_drive_file()\n",
        "          print(txt[:2])\n",
        "          #OR\n",
        "          with open('kk.txt', 'w') as f:\n",
        "             f.write(txt)\n",
        "      * String for a txt file\n",
        "        Example:\n",
        "          import pandas as pd\n",
        "          pd.read_excel(  future_download_public_drive_file(id='0BxoOXsn2EUNIMldPUFlwNkdLOTQ')  )[:1]\n",
        "    \n",
        "    '''\n",
        "    import requests as r\n",
        "    import io\n",
        "    CHUNK_SIZE = 32768\n",
        "    \n",
        "    response=r.get('https://docs.google.com/uc?export=download&id='+id)\n",
        "\n",
        "    if file:\n",
        "        with open(file, 'wb') as f:\n",
        "            f.write(response.content)\n",
        "        return\n",
        "    else:\n",
        "        chunks=b''\n",
        "        for chunk in response.iter_content(CHUNK_SIZE):\n",
        "            if chunk: # filter out keep-alive new chunks\n",
        "                    chunks=chunks+chunk\n",
        "\n",
        "        try: \n",
        "            ior=io.StringIO(chunks.decode()).read()\n",
        "        except  UnicodeDecodeError:\n",
        "            ior=io.BytesIO(chunks)\n",
        "\n",
        "        # returns the file object\n",
        "        return ior"
      ],
      "execution_count": 0,
      "outputs": []
    },
    {
      "metadata": {
        "id": "nhk2ZGEDd2Yo",
        "colab_type": "code",
        "colab": {}
      },
      "cell_type": "code",
      "source": [
        "import wosplus as wp\n",
        "import pandas as pd"
      ],
      "execution_count": 0,
      "outputs": []
    },
    {
      "metadata": {
        "id": "8SUNt-E6J7jp",
        "colab_type": "text"
      },
      "cell_type": "markdown",
      "source": [
        "\n",
        "##  WOS"
      ]
    },
    {
      "metadata": {
        "id": "azAXfmSHsEw9",
        "colab_type": "text"
      },
      "cell_type": "markdown",
      "source": [
        "###  Configure public links for filies in Google Drive\n",
        "* If it is a Google Spreadsheet the corresponding file is downloades as CSV\n",
        "\"\" If it is in excel or text file the file is downloades directly\n",
        "\n",
        "We can define your own labeled IDs, either through the default 'drive.cfg' file before the import of the module,\n",
        "or by using your own configuration file after the import:"
      ]
    },
    {
      "metadata": {
        "id": "EAvrGoZEsEw9",
        "colab_type": "code",
        "colab": {
          "base_uri": "https://localhost:8080/",
          "height": 34
        },
        "outputId": "331f11e3-dd04-4b57-d0a9-fcb8161e487e"
      },
      "cell_type": "code",
      "source": [
        "%%writefile drive.cfg\n",
        "[FILES]\n",
        "Sample_WOS.xlsx  = 0BxoOXsn2EUNIMldPUFlwNkdLOTQ\n",
        "Sample_WOS.txt   = 12CtQ_SI2OHrvj_etKpqriGsGoVvv9zkL\n",
        "savedrecs01.txt  = 1snzdsa-RLwYIf8MUffauaD2ZjNr1U2Os\n",
        "UDEA_WOS.xlsx    = 1px2IcrjCrkyu7t78Q7PAE5nzV_yuPt9t"
      ],
      "execution_count": 3,
      "outputs": [
        {
          "output_type": "stream",
          "text": [
            "Overwriting drive.cfg\n"
          ],
          "name": "stdout"
        }
      ]
    },
    {
      "metadata": {
        "id": "fu0iEVxVM0rf",
        "colab_type": "code",
        "colab": {}
      },
      "cell_type": "code",
      "source": [
        "WOS=wp.wosplus('drive.cfg')"
      ],
      "execution_count": 0,
      "outputs": []
    },
    {
      "metadata": {
        "id": "EPbhvhRiL8qZ",
        "colab_type": "code",
        "colab": {
          "base_uri": "https://localhost:8080/",
          "height": 34
        },
        "outputId": "7f35a30d-3c96-4e81-ac94-247ea8a568fe"
      },
      "cell_type": "code",
      "source": [
        "wp.cfg['FILES'].get('UDEA_WOS.xlsx')"
      ],
      "execution_count": 9,
      "outputs": [
        {
          "output_type": "execute_result",
          "data": {
            "text/plain": [
              "'1px2IcrjCrkyu7t78Q7PAE5nzV_yuPt9t'"
            ]
          },
          "metadata": {
            "tags": []
          },
          "execution_count": 9
        }
      ]
    },
    {
      "metadata": {
        "id": "yHL3g4pdsExG",
        "colab_type": "text"
      },
      "cell_type": "markdown",
      "source": [
        "##  Load full files from Team Drives"
      ]
    },
    {
      "metadata": {
        "id": "QGclNSZnLTZD",
        "colab_type": "code",
        "colab": {
          "base_uri": "https://localhost:8080/",
          "height": 34
        },
        "outputId": "f24fb3ec-eda0-4f2b-e198-6412d77f0433"
      },
      "cell_type": "code",
      "source": [
        "# Load the Drive helper and mount\n",
        "from google.colab import drive\n",
        "\n",
        "# This will prompt for authorization.\n",
        "drive.mount('/content/drive')"
      ],
      "execution_count": 6,
      "outputs": [
        {
          "output_type": "stream",
          "text": [
            "Mounted at /content/drive\n"
          ],
          "name": "stdout"
        }
      ]
    },
    {
      "metadata": {
        "id": "tEHS1wEtMazN",
        "colab_type": "code",
        "colab": {}
      },
      "cell_type": "code",
      "source": [
        "home='drive/Team Drives/Medición Capacidades Vinculación UDEA/06. Cienciometría/1. Descargas/1. Web of Science/1. UDEA/'\n",
        "filetxt=[\"{}savedrecs.txt\".format(home),\n",
        "         \"{}savedrecs (1).txt\".format(home),\n",
        "         \"{}savedrecs (2).txt\".format(home),\n",
        "         \"{}savedrecs (3).txt\".format(home),\n",
        "         \"{}savedrecs (4).txt\".format(home),\n",
        "         \"{}savedrecs (5).txt\".format(home),\n",
        "         \"{}savedrecs (6).txt\".format(home),\n",
        "         \"{}savedrecs (7).txt\".format(home),\n",
        "         \"{}savedrecs (8).txt\".format(home),\n",
        "         \"{}savedrecs (9).txt\".format(home),\n",
        "         \"{}savedrecs (10).txt\".format(home),\n",
        "         \"{}savedrecs (11).txt\".format(home),\n",
        "         \"{}savedrecs (12).txt\".format(home),\n",
        "         \"{}savedrecs (13).txt\".format(home),\n",
        "         \"{}savedrecs (14).txt\".format(home),\n",
        "         \"{}savedrecs (15).txt\".format(home),\n",
        "         \"{}savedrecs (16).txt\".format(home),\n",
        "         \"{}savedrecs (17).txt\".format(home)\n",
        "        ]"
      ],
      "execution_count": 0,
      "outputs": []
    },
    {
      "metadata": {
        "id": "jfElDQYeEy3B",
        "colab_type": "code",
        "colab": {
          "base_uri": "https://localhost:8080/",
          "height": 34
        },
        "outputId": "136a1d39-cd3c-4a55-bc49-0fd149d7e932"
      },
      "cell_type": "code",
      "source": [
        "filetxt[12]"
      ],
      "execution_count": 8,
      "outputs": [
        {
          "output_type": "execute_result",
          "data": {
            "text/plain": [
              "'drive/Team Drives/Medición Capacidades Vinculación UDEA/06. Cienciometría/1. Descargas/1. Web of Science/1. UDEA/savedrecs (12).txt'"
            ]
          },
          "metadata": {
            "tags": []
          },
          "execution_count": 8
        }
      ]
    },
    {
      "metadata": {
        "id": "LPdk-tBwMrVS",
        "colab_type": "code",
        "colab": {}
      },
      "cell_type": "code",
      "source": [
        "RELOAD_WOS_TXT=True\n",
        "if RELOAD_WOS_TXT:\n",
        "    UDEA_WOS=pd.DataFrame()\n",
        "    for f in filetxt: \n",
        "        WOS.load_biblio(f)\n",
        "        UDEA_WOS=UDEA_WOS.append(WOS.WOS)\n",
        "        \n",
        "    UDEA_WOS.to_excel('UDEA_WOS.xlsx',index=False)"
      ],
      "execution_count": 0,
      "outputs": []
    },
    {
      "metadata": {
        "id": "0elgg04WE0tV",
        "colab_type": "code",
        "colab": {
          "base_uri": "https://localhost:8080/",
          "height": 34
        },
        "outputId": "0c4c85c0-80c9-4ef5-e290-5a8cd8d5e98c"
      },
      "cell_type": "code",
      "source": [
        "\n",
        "WOS.WOS.shape"
      ],
      "execution_count": 14,
      "outputs": [
        {
          "output_type": "execute_result",
          "data": {
            "text/plain": [
              "(8625, 64)"
            ]
          },
          "metadata": {
            "tags": []
          },
          "execution_count": 14
        }
      ]
    },
    {
      "metadata": {
        "id": "Xj8ieQ3HHgAu",
        "colab_type": "code",
        "colab": {}
      },
      "cell_type": "code",
      "source": [
        "tmp=WOS.load_biblio('UDEA_WOS.xlsx')\n",
        "UDEA_WOS=WOS.WOS"
      ],
      "execution_count": 0,
      "outputs": []
    },
    {
      "metadata": {
        "id": "zdh1qE8sO_XE",
        "colab_type": "code",
        "colab": {
          "base_uri": "https://localhost:8080/",
          "height": 34
        },
        "outputId": "42f2ff8f-dba1-49e0-835c-3fcdfca5d87d"
      },
      "cell_type": "code",
      "source": [
        "UDEA_WOS.shape"
      ],
      "execution_count": 16,
      "outputs": [
        {
          "output_type": "execute_result",
          "data": {
            "text/plain": [
              "(8625, 64)"
            ]
          },
          "metadata": {
            "tags": []
          },
          "execution_count": 16
        }
      ]
    },
    {
      "metadata": {
        "id": "nFrsetooHux2",
        "colab_type": "code",
        "colab": {
          "base_uri": "https://localhost:8080/",
          "height": 34
        },
        "outputId": "8568df68-cfd3-4d7d-a779-d47bd4477ea2"
      },
      "cell_type": "code",
      "source": [
        "UDEA_WOS[UDEA_WOS.AU.str.contains('Restrepo, D')].shape"
      ],
      "execution_count": 21,
      "outputs": [
        {
          "output_type": "execute_result",
          "data": {
            "text/plain": [
              "(44, 64)"
            ]
          },
          "metadata": {
            "tags": []
          },
          "execution_count": 21
        }
      ]
    },
    {
      "metadata": {
        "id": "JAh5AtyQPCdt",
        "colab_type": "code",
        "colab": {}
      },
      "cell_type": "code",
      "source": [
        ""
      ],
      "execution_count": 0,
      "outputs": []
    }
  ]
}