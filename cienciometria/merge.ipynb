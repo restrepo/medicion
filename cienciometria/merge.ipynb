{
  "nbformat": 4,
  "nbformat_minor": 0,
  "metadata": {
    "colab": {
      "name": "merge.ipynb",
      "version": "0.3.2",
      "provenance": [],
      "toc_visible": true,
      "include_colab_link": true
    },
    "kernelspec": {
      "display_name": "Python 3",
      "language": "python",
      "name": "python3"
    }
  },
  "cells": [
    {
      "cell_type": "markdown",
      "metadata": {
        "id": "view-in-github",
        "colab_type": "text"
      },
      "source": [
        "[View in Colaboratory](https://colab.research.google.com/github/restrepo/medicion/blob/master/cienciometria/merge.ipynb)"
      ]
    },
    {
      "metadata": {
        "id": "aDnqho-CsEwj",
        "colab_type": "text"
      },
      "cell_type": "markdown",
      "source": [
        "# WOSPlus\n",
        "Manage Web of Science txt files and merge with other bibliographic datasets."
      ]
    },
    {
      "metadata": {
        "id": "9Hnin1fosRB_",
        "colab_type": "code",
        "colab": {}
      },
      "cell_type": "code",
      "source": [
        "!pip install wosplus openpyxl xlrd > /dev/null"
      ],
      "execution_count": 0,
      "outputs": []
    },
    {
      "metadata": {
        "id": "nhk2ZGEDd2Yo",
        "colab_type": "code",
        "colab": {}
      },
      "cell_type": "code",
      "source": [
        "import wosplus as wp\n",
        "import pandas as pd"
      ],
      "execution_count": 0,
      "outputs": []
    },
    {
      "metadata": {
        "id": "yHL3g4pdsExG",
        "colab_type": "text"
      },
      "cell_type": "markdown",
      "source": [
        "##  Load full Google Drive, including your Team drives:"
      ]
    },
    {
      "metadata": {
        "id": "QGclNSZnLTZD",
        "colab_type": "code",
        "colab": {
          "base_uri": "https://localhost:8080/",
          "height": 125
        },
        "outputId": "3fb2d5f1-d0d5-48b3-e90d-4a0068d72763"
      },
      "cell_type": "code",
      "source": [
        "# Load the Drive helper and mount\n",
        "from google.colab import drive\n",
        "\n",
        "# This will prompt for authorization.\n",
        "drive.mount('/content/drive')"
      ],
      "execution_count": 3,
      "outputs": [
        {
          "output_type": "stream",
          "text": [
            "Go to this URL in a browser: https://accounts.google.com/o/oauth2/auth?client_id=947318989803-6bn6qk8qdgf4n4g3pfee6491hc0brc4i.apps.googleusercontent.com&redirect_uri=urn%3Aietf%3Awg%3Aoauth%3A2.0%3Aoob&scope=email%20https%3A%2F%2Fwww.googleapis.com%2Fauth%2Fdocs.test%20https%3A%2F%2Fwww.googleapis.com%2Fauth%2Fdrive%20https%3A%2F%2Fwww.googleapis.com%2Fauth%2Fdrive.photos.readonly%20https%3A%2F%2Fwww.googleapis.com%2Fauth%2Fpeopleapi.readonly&response_type=code\n",
            "\n",
            "Enter your authorization code:\n",
            "··········\n",
            "Mounted at /content/drive\n"
          ],
          "name": "stdout"
        }
      ]
    },
    {
      "metadata": {
        "id": "J__yrydJOrsJ",
        "colab_type": "text"
      },
      "cell_type": "markdown",
      "source": [
        "Access you Google Drive files from the sidebar in the tab \"Files → REFRESH\""
      ]
    },
    {
      "metadata": {
        "id": "8SUNt-E6J7jp",
        "colab_type": "text"
      },
      "cell_type": "markdown",
      "source": [
        "\n",
        "##  Build or load WOS database"
      ]
    },
    {
      "metadata": {
        "id": "azAXfmSHsEw9",
        "colab_type": "text"
      },
      "cell_type": "markdown",
      "source": [
        "###  Configure public links of  files in Google Drive\n",
        "* If it is a Google Spreadsheet the corresponding file is downloaded as CSV\n",
        "* If it is in excel or text file the file is downloaded  directly\n",
        "\n",
        "To define your  own labeled IDs for public google drive files edit the next cell:"
      ]
    },
    {
      "metadata": {
        "id": "EAvrGoZEsEw9",
        "colab_type": "code",
        "colab": {
          "base_uri": "https://localhost:8080/",
          "height": 34
        },
        "outputId": "877b742b-da48-4660-edc5-a7f5c213cbbb"
      },
      "cell_type": "code",
      "source": [
        "%%writefile drive.cfg\n",
        "[FILES]\n",
        "Sample_WOS.xlsx  = 0BxoOXsn2EUNIMldPUFlwNkdLOTQ\n",
        "Sample_WOS.txt   = 12CtQ_SI2OHrvj_etKpqriGsGoVvv9zkL\n",
        "savedrecs01.txt  = 1snzdsa-RLwYIf8MUffauaD2ZjNr1U2Os\n",
        "UDEA_WOS.xlsx    = 1px2IcrjCrkyu7t78Q7PAE5nzV_yuPt9t\n",
        "UDEA_SCI.xlsx    = 1pWMY5P72j0Ca6D-cm7dn7Q4TBGTs4PWV\n",
        "UDEA_SCP.xlsx    = 1ulCsFHzDiTmuL9TH8F58ulh0u8Z2ylKh"
      ],
      "execution_count": 20,
      "outputs": [
        {
          "output_type": "stream",
          "text": [
            "Overwriting drive.cfg\n"
          ],
          "name": "stdout"
        }
      ]
    },
    {
      "metadata": {
        "id": "fu0iEVxVM0rf",
        "colab_type": "code",
        "colab": {}
      },
      "cell_type": "code",
      "source": [
        "WOS=wp.wosplus('drive.cfg')"
      ],
      "execution_count": 0,
      "outputs": []
    },
    {
      "metadata": {
        "id": "qBNa8Qus7X9Q",
        "colab_type": "text"
      },
      "cell_type": "markdown",
      "source": [
        "Publics `id`'s  for Google drive files are labeled with the file names in `drive.cfg`. To access them use the corresponding key in `WOS.drive_file`,  e.g:"
      ]
    },
    {
      "metadata": {
        "id": "IVWfjis6fO0G",
        "colab_type": "code",
        "colab": {
          "base_uri": "https://localhost:8080/",
          "height": 122
        },
        "outputId": "c66d169b-a2c6-49ea-8608-e1c6e4759046"
      },
      "cell_type": "code",
      "source": [
        "list( WOS.drive_file.keys() )"
      ],
      "execution_count": 22,
      "outputs": [
        {
          "output_type": "execute_result",
          "data": {
            "text/plain": [
              "['Sample_WOS.xlsx',\n",
              " 'Sample_WOS.txt',\n",
              " 'savedrecs01.txt',\n",
              " 'UDEA_WOS.xlsx',\n",
              " 'UDEA_SCI.xlsx',\n",
              " 'UDEA_SCP.xlsx']"
            ]
          },
          "metadata": {
            "tags": []
          },
          "execution_count": 22
        }
      ]
    },
    {
      "metadata": {
        "id": "gpcqjGQaHbti",
        "colab_type": "code",
        "colab": {
          "base_uri": "https://localhost:8080/",
          "height": 34
        },
        "outputId": "266ee276-cff8-47a8-eecc-435d441baa9f"
      },
      "cell_type": "code",
      "source": [
        "WOS.drive_file.get('UDEA_WOS.xlsx')"
      ],
      "execution_count": 7,
      "outputs": [
        {
          "output_type": "execute_result",
          "data": {
            "text/plain": [
              "'1px2IcrjCrkyu7t78Q7PAE5nzV_yuPt9t'"
            ]
          },
          "metadata": {
            "tags": []
          },
          "execution_count": 7
        }
      ]
    },
    {
      "metadata": {
        "id": "myGZ_94hNT3r",
        "colab_type": "text"
      },
      "cell_type": "markdown",
      "source": [
        "or, the more error prompt version"
      ]
    },
    {
      "metadata": {
        "id": "EnFE0c31NL1x",
        "colab_type": "code",
        "colab": {
          "base_uri": "https://localhost:8080/",
          "height": 34
        },
        "outputId": "4dc7f30b-21aa-43b1-89fa-630eef7d4538"
      },
      "cell_type": "code",
      "source": [
        "WOS.drive_file['UDEA_WOS.xlsx']"
      ],
      "execution_count": 8,
      "outputs": [
        {
          "output_type": "execute_result",
          "data": {
            "text/plain": [
              "'1px2IcrjCrkyu7t78Q7PAE5nzV_yuPt9t'"
            ]
          },
          "metadata": {
            "tags": []
          },
          "execution_count": 8
        }
      ]
    },
    {
      "metadata": {
        "id": "vUmVX5u1KrFy",
        "colab_type": "text"
      },
      "cell_type": "markdown",
      "source": [
        "### (Re)Build WOS data base from txt WOS files (500 records each)"
      ]
    },
    {
      "metadata": {
        "id": "p-EnptX6K4Xc",
        "colab_type": "code",
        "colab": {}
      },
      "cell_type": "code",
      "source": [
        "REBUILD_WOS_TXT=False"
      ],
      "execution_count": 0,
      "outputs": []
    },
    {
      "metadata": {
        "id": "tEHS1wEtMazN",
        "colab_type": "code",
        "colab": {}
      },
      "cell_type": "code",
      "source": [
        "if REBUILD_WOS_TXT:\n",
        "    home='drive/Team Drives/Medición Capacidades Vinculación UDEA/06. Cienciometría/1. Descargas/1. Web of Science/1. UDEA/'\n",
        "    filetxt=[\"{}savedrecs.txt\".format(home),\n",
        "             \"{}savedrecs (1).txt\".format(home),\n",
        "             \"{}savedrecs (2).txt\".format(home),\n",
        "             \"{}savedrecs (3).txt\".format(home),\n",
        "             \"{}savedrecs (4).txt\".format(home),\n",
        "             \"{}savedrecs (5).txt\".format(home),\n",
        "             \"{}savedrecs (6).txt\".format(home),\n",
        "             \"{}savedrecs (7).txt\".format(home),\n",
        "             \"{}savedrecs (8).txt\".format(home),\n",
        "             \"{}savedrecs (9).txt\".format(home),\n",
        "             \"{}savedrecs (10).txt\".format(home),\n",
        "             \"{}savedrecs (11).txt\".format(home),\n",
        "             \"{}savedrecs (12).txt\".format(home),\n",
        "             \"{}savedrecs (13).txt\".format(home),\n",
        "             \"{}savedrecs (14).txt\".format(home),\n",
        "             \"{}savedrecs (15).txt\".format(home),\n",
        "             \"{}savedrecs (16).txt\".format(home),\n",
        "             \"{}savedrecs (17).txt\".format(home)\n",
        "            ]"
      ],
      "execution_count": 0,
      "outputs": []
    },
    {
      "metadata": {
        "id": "jfElDQYeEy3B",
        "colab_type": "code",
        "colab": {
          "base_uri": "https://localhost:8080/",
          "height": 34
        },
        "outputId": "62067cd2-009d-4140-fbac-d9cbe61c9e47"
      },
      "cell_type": "code",
      "source": [
        "if REBUILD_WOS_TXT:\n",
        "    print(filetxt[12])"
      ],
      "execution_count": 0,
      "outputs": [
        {
          "output_type": "stream",
          "text": [
            "drive/Team Drives/Medición Capacidades Vinculación UDEA/06. Cienciometría/1. Descargas/1. Web of Science/1. UDEA/savedrecs (12).txt\n"
          ],
          "name": "stdout"
        }
      ]
    },
    {
      "metadata": {
        "id": "0wLCuoDRLgRL",
        "colab_type": "text"
      },
      "cell_type": "markdown",
      "source": [
        "### Load WOS database"
      ]
    },
    {
      "metadata": {
        "id": "LPdk-tBwMrVS",
        "colab_type": "code",
        "colab": {}
      },
      "cell_type": "code",
      "source": [
        "if REBUILD_WOS_TXT:\n",
        "    UDEA_WOS=pd.DataFrame()\n",
        "    for f in filetxt: \n",
        "        WOS.load_biblio(f)\n",
        "        UDEA_WOS=UDEA_WOS.append(WOS.WOS)\n",
        "        \n",
        "    UDEA_WOS.to_excel('UDEA_WOS.xlsx',index=False)\n",
        "else:     \n",
        "    tmp=WOS.load_biblio('UDEA_WOS.xlsx')\n",
        "    UDEA_WOS=WOS.WOS"
      ],
      "execution_count": 0,
      "outputs": []
    },
    {
      "metadata": {
        "id": "KCxjMgwYLy9X",
        "colab_type": "text"
      },
      "cell_type": "markdown",
      "source": [
        "Some checks:"
      ]
    },
    {
      "metadata": {
        "id": "0elgg04WE0tV",
        "colab_type": "code",
        "colab": {
          "base_uri": "https://localhost:8080/",
          "height": 34
        },
        "outputId": "cc4bdbb3-3c8e-45d4-8b87-cda062db6803"
      },
      "cell_type": "code",
      "source": [
        "WOS.WOS.shape"
      ],
      "execution_count": 0,
      "outputs": [
        {
          "output_type": "execute_result",
          "data": {
            "text/plain": [
              "(8625, 64)"
            ]
          },
          "metadata": {
            "tags": []
          },
          "execution_count": 7
        }
      ]
    },
    {
      "metadata": {
        "id": "nFrsetooHux2",
        "colab_type": "code",
        "colab": {
          "base_uri": "https://localhost:8080/",
          "height": 34
        },
        "outputId": "100ce3c1-a8c5-452a-d76f-134f4c093ace"
      },
      "cell_type": "code",
      "source": [
        "UDEA_WOS[UDEA_WOS.AU.str.contains('Restrepo, D')].shape"
      ],
      "execution_count": 0,
      "outputs": [
        {
          "output_type": "execute_result",
          "data": {
            "text/plain": [
              "(44, 64)"
            ]
          },
          "metadata": {
            "tags": []
          },
          "execution_count": 8
        }
      ]
    },
    {
      "metadata": {
        "id": "JAh5AtyQPCdt",
        "colab_type": "code",
        "colab": {
          "base_uri": "https://localhost:8080/",
          "height": 34
        },
        "outputId": "f6f5ef6d-a93b-42b4-b77a-2ef5318d4e08"
      },
      "cell_type": "code",
      "source": [
        "UDEA_WOS[UDEA_WOS.AB!=''].shape"
      ],
      "execution_count": 0,
      "outputs": [
        {
          "output_type": "execute_result",
          "data": {
            "text/plain": [
              "(7402, 64)"
            ]
          },
          "metadata": {
            "tags": []
          },
          "execution_count": 13
        }
      ]
    },
    {
      "metadata": {
        "id": "Dyk5EyeaOI-I",
        "colab_type": "text"
      },
      "cell_type": "markdown",
      "source": [
        "## (Re)Build Scielo (from WOS) data base from txt SCI files (500 records each)"
      ]
    },
    {
      "metadata": {
        "id": "APxq7lu0OpBX",
        "colab_type": "code",
        "colab": {}
      },
      "cell_type": "code",
      "source": [
        "REBUILD_SCI_TXT=False"
      ],
      "execution_count": 0,
      "outputs": []
    },
    {
      "metadata": {
        "id": "mJSPuas3OpBc",
        "colab_type": "code",
        "colab": {}
      },
      "cell_type": "code",
      "source": [
        "if REBUILD_SCI_TXT:\n",
        "    home='drive/Team Drives/Medición Capacidades Vinculación UDEA/06. Cienciometría/1. Descargas/2. Scielo Citation Index/1. UDEA/'\n",
        "    filetxt=[\"{}savedrecs.txt\".format(home),\n",
        "             \"{}savedrecs (1).txt\".format(home),\n",
        "             \"{}savedrecs (2).txt\".format(home),\n",
        "             \"{}savedrecs (3).txt\".format(home),\n",
        "             \"{}savedrecs (4).txt\".format(home),\n",
        "             \"{}savedrecs (5).txt\".format(home),\n",
        "             \"{}savedrecs (6).txt\".format(home),\n",
        "             \"{}savedrecs (7).txt\".format(home),\n",
        "             \"{}savedrecs (8).txt\".format(home),\n",
        "             \"{}savedrecs (9).txt\".format(home),\n",
        "             \"{}savedrecs (10).txt\".format(home)\n",
        "            ]"
      ],
      "execution_count": 0,
      "outputs": []
    },
    {
      "metadata": {
        "id": "UEEIQ_19OpBe",
        "colab_type": "code",
        "colab": {
          "base_uri": "https://localhost:8080/",
          "height": 54
        },
        "outputId": "533739eb-e3db-47fe-c664-c4c0b089379c"
      },
      "cell_type": "code",
      "source": [
        "if REBUILD_SCI_TXT:\n",
        "    print(filetxt[10])"
      ],
      "execution_count": 12,
      "outputs": [
        {
          "output_type": "stream",
          "text": [
            "drive/Team Drives/Medición Capacidades Vinculación UDEA/06. Cienciometría/1. Descargas/2. Scielo Citation Index/1. UDEA/savedrecs (10).txt\n"
          ],
          "name": "stdout"
        }
      ]
    },
    {
      "metadata": {
        "id": "nwP4mINoPVRk",
        "colab_type": "text"
      },
      "cell_type": "markdown",
      "source": [
        "### Load WOS database"
      ]
    },
    {
      "metadata": {
        "id": "SeP7yJRDPVRn",
        "colab_type": "code",
        "colab": {
          "base_uri": "https://localhost:8080/",
          "height": 72
        },
        "outputId": "cc4d4ed7-c757-47fb-a2cd-90468437253a"
      },
      "cell_type": "code",
      "source": [
        "if REBUILD_SCI_TXT:\n",
        "    UDEA_SCI=pd.DataFrame()\n",
        "    for f in filetxt: \n",
        "        print(f)\n",
        "        WOS.load_biblio(f,prefix='SCI')\n",
        "        UDEA_SCI=UDEA_SCI.append(WOS.SCI)\n",
        "        \n",
        "    UDEA_SCI.to_excel('UDEA_SCI.xlsx',index=False)\n",
        "else:     \n",
        "    tmp=WOS.load_biblio('UDEA_SCI.xlsx',prefix='SCI')\n",
        "    UDEA_SCI=WOS.SCI"
      ],
      "execution_count": 25,
      "outputs": [
        {
          "output_type": "stream",
          "text": [
            "/usr/local/lib/python3.6/dist-packages/wosplus/_wos_scp.py:54: FutureWarning: Using 'rename_axis' to alter labels is deprecated. Use '.rename' instead\n",
            "  return df.rename_axis( dict( (key,prefix+'_'+key) for key in df.columns.values) , axis=1)\n"
          ],
          "name": "stderr"
        }
      ]
    },
    {
      "metadata": {
        "id": "VQEeWZldSd-0",
        "colab_type": "code",
        "colab": {
          "base_uri": "https://localhost:8080/",
          "height": 34
        },
        "outputId": "e659021c-b275-4030-8789-fa7a0c7cab02"
      },
      "cell_type": "code",
      "source": [
        "WOS.SCI.shape"
      ],
      "execution_count": 26,
      "outputs": [
        {
          "output_type": "execute_result",
          "data": {
            "text/plain": [
              "(5453, 45)"
            ]
          },
          "metadata": {
            "tags": []
          },
          "execution_count": 26
        }
      ]
    },
    {
      "metadata": {
        "id": "ueMoilVpOZ5U",
        "colab_type": "code",
        "colab": {
          "base_uri": "https://localhost:8080/",
          "height": 34
        },
        "outputId": "74dd7b41-ab80-4a0c-c90b-761c38ba33b5"
      },
      "cell_type": "code",
      "source": [
        "UDEA_SCI.shape"
      ],
      "execution_count": 18,
      "outputs": [
        {
          "output_type": "execute_result",
          "data": {
            "text/plain": [
              "(5453, 44)"
            ]
          },
          "metadata": {
            "tags": []
          },
          "execution_count": 18
        }
      ]
    },
    {
      "metadata": {
        "id": "f3ofEcktReRm",
        "colab_type": "code",
        "colab": {
          "base_uri": "https://localhost:8080/",
          "height": 226
        },
        "outputId": "771bb8d4-b245-4e90-f7a6-8438cf318b70"
      },
      "cell_type": "code",
      "source": [
        "UDEA_SCI.sample()"
      ],
      "execution_count": 19,
      "outputs": [
        {
          "output_type": "execute_result",
          "data": {
            "text/html": [
              "<div>\n",
              "<style scoped>\n",
              "    .dataframe tbody tr th:only-of-type {\n",
              "        vertical-align: middle;\n",
              "    }\n",
              "\n",
              "    .dataframe tbody tr th {\n",
              "        vertical-align: top;\n",
              "    }\n",
              "\n",
              "    .dataframe thead th {\n",
              "        text-align: right;\n",
              "    }\n",
              "</style>\n",
              "<table border=\"1\" class=\"dataframe\">\n",
              "  <thead>\n",
              "    <tr style=\"text-align: right;\">\n",
              "      <th></th>\n",
              "      <th>SCI_AB</th>\n",
              "      <th>SCI_AU</th>\n",
              "      <th>SCI_BP</th>\n",
              "      <th>SCI_C1</th>\n",
              "      <th>SCI_C2</th>\n",
              "      <th>SCI_CR</th>\n",
              "      <th>SCI_DE</th>\n",
              "      <th>SCI_DI</th>\n",
              "      <th>SCI_DT</th>\n",
              "      <th>SCI_EC</th>\n",
              "      <th>...</th>\n",
              "      <th>SCI_X4</th>\n",
              "      <th>SCI_X5</th>\n",
              "      <th>SCI_Y1</th>\n",
              "      <th>SCI_Y4</th>\n",
              "      <th>SCI_Y5</th>\n",
              "      <th>SCI_Z1</th>\n",
              "      <th>SCI_Z4</th>\n",
              "      <th>SCI_Z5</th>\n",
              "      <th>SCI_Z9</th>\n",
              "      <th>Tipo</th>\n",
              "    </tr>\n",
              "  </thead>\n",
              "  <tbody>\n",
              "    <tr>\n",
              "      <th>86</th>\n",
              "      <td>In Colombia, Bothrops asper (mapaná) inflicts ...</td>\n",
              "      <td>PEREAÑEZ J, Jaime A\\nJIMÉNEZ, Silvia L\\nQUINTA...</td>\n",
              "      <td>157\\n</td>\n",
              "      <td>[FERNANDEZ, Maritza; RESTREPO, Yessica] Univer...</td>\n",
              "      <td>SciELO Colombia\\n</td>\n",
              "      <td>ALAM MI, 1994, TOXICON, V32, P1551, DOI 10.101...</td>\n",
              "      <td>snake venom; indirect hemolytic activity; prot...</td>\n",
              "      <td></td>\n",
              "      <td>research-article\\t\\n</td>\n",
              "      <td>Pharmacology &amp; Pharmacy\\n</td>\n",
              "      <td>...</td>\n",
              "      <td>En Colombia, Bothrops asper (mapaná) es la esp...</td>\n",
              "      <td>veneno de serpiente; actividad proteolítica; a...</td>\n",
              "      <td></td>\n",
              "      <td></td>\n",
              "      <td></td>\n",
              "      <td></td>\n",
              "      <td></td>\n",
              "      <td></td>\n",
              "      <td>7\\n</td>\n",
              "      <td>SCI</td>\n",
              "    </tr>\n",
              "  </tbody>\n",
              "</table>\n",
              "<p>1 rows × 44 columns</p>\n",
              "</div>"
            ],
            "text/plain": [
              "                                               SCI_AB  \\\n",
              "86  In Colombia, Bothrops asper (mapaná) inflicts ...   \n",
              "\n",
              "                                               SCI_AU SCI_BP  \\\n",
              "86  PEREAÑEZ J, Jaime A\\nJIMÉNEZ, Silvia L\\nQUINTA...  157\\n   \n",
              "\n",
              "                                               SCI_C1             SCI_C2  \\\n",
              "86  [FERNANDEZ, Maritza; RESTREPO, Yessica] Univer...  SciELO Colombia\\n   \n",
              "\n",
              "                                               SCI_CR  \\\n",
              "86  ALAM MI, 1994, TOXICON, V32, P1551, DOI 10.101...   \n",
              "\n",
              "                                               SCI_DE SCI_DI  \\\n",
              "86  snake venom; indirect hemolytic activity; prot...          \n",
              "\n",
              "                  SCI_DT                     SCI_EC ...   \\\n",
              "86  research-article\\t\\n  Pharmacology & Pharmacy\\n ...    \n",
              "\n",
              "                                               SCI_X4  \\\n",
              "86  En Colombia, Bothrops asper (mapaná) es la esp...   \n",
              "\n",
              "                                               SCI_X5 SCI_Y1 SCI_Y4 SCI_Y5  \\\n",
              "86  veneno de serpiente; actividad proteolítica; a...                        \n",
              "\n",
              "   SCI_Z1 SCI_Z4 SCI_Z5 SCI_Z9 Tipo  \n",
              "86                         7\\n  SCI  \n",
              "\n",
              "[1 rows x 44 columns]"
            ]
          },
          "metadata": {
            "tags": []
          },
          "execution_count": 19
        }
      ]
    },
    {
      "metadata": {
        "id": "yEaVHp-ZJjlF",
        "colab_type": "text"
      },
      "cell_type": "markdown",
      "source": [
        "## SCP database"
      ]
    },
    {
      "metadata": {
        "id": "fW9E17egJnNt",
        "colab_type": "code",
        "colab": {}
      },
      "cell_type": "code",
      "source": [
        "REBUILD_SCP_CSV=False #must be local files not in drive.cfg"
      ],
      "execution_count": 0,
      "outputs": []
    },
    {
      "metadata": {
        "id": "0stt066GJvoY",
        "colab_type": "code",
        "colab": {}
      },
      "cell_type": "code",
      "source": [
        "if REBUILD_SCP_CSV:          \n",
        "    home='drive/Team Drives/Medición Capacidades Vinculación UDEA/06. Cienciometría/1. Descargas/3. Scopus/1. UDEA/'\n",
        "    filecsv=[\"{}UDEA1.csv\".format(home),\"{}UDEA2.csv\".format(home),\"{}UDEA3.csv\".format(home),\n",
        "             \"{}UDEA4.csv\".format(home),\"{}UDEA5.csv\".format(home),\"{}UDEA6.csv\".format(home),\n",
        "             \"{}UDEA7.csv\".format(home)]"
      ],
      "execution_count": 0,
      "outputs": []
    },
    {
      "metadata": {
        "id": "M1plyIfeKr4m",
        "colab_type": "code",
        "colab": {
          "base_uri": "https://localhost:8080/",
          "height": 156
        },
        "outputId": "15040bc9-c629-4998-d5f6-b32ff2772408"
      },
      "cell_type": "code",
      "source": [
        "if REBUILD_SCP_CSV:\n",
        "    UDEA_SCP=pd.DataFrame()\n",
        "    for f in filecsv:\n",
        "        #print(f)\n",
        "        UDEA_SCP=UDEA_SCP.append(pd.read_csv(f,error_bad_lines=False))\n",
        "        \n",
        "    UDEA_SCP.to_excel('UDEA_SCP.xlsx',index=False)"
      ],
      "execution_count": 0,
      "outputs": [
        {
          "output_type": "stream",
          "text": [
            "b'Skipping line 7: expected 43 fields, saw 44\\nSkipping line 42: expected 43 fields, saw 44\\nSkipping line 122: expected 43 fields, saw 44\\nSkipping line 161: expected 43 fields, saw 44\\nSkipping line 225: expected 43 fields, saw 44\\nSkipping line 238: expected 43 fields, saw 44\\nSkipping line 251: expected 43 fields, saw 45\\nSkipping line 252: expected 43 fields, saw 44\\nSkipping line 263: expected 43 fields, saw 44\\nSkipping line 290: expected 43 fields, saw 44\\nSkipping line 339: expected 43 fields, saw 44\\nSkipping line 382: expected 43 fields, saw 44\\nSkipping line 384: expected 43 fields, saw 44\\nSkipping line 386: expected 43 fields, saw 44\\nSkipping line 387: expected 43 fields, saw 46\\nSkipping line 388: expected 43 fields, saw 45\\nSkipping line 389: expected 43 fields, saw 44\\nSkipping line 391: expected 43 fields, saw 44\\nSkipping line 461: expected 43 fields, saw 44\\nSkipping line 1034: expected 43 fields, saw 44\\nSkipping line 1192: expected 43 fields, saw 44\\n'\n",
            "b'Skipping line 98: expected 43 fields, saw 44\\nSkipping line 100: expected 43 fields, saw 44\\nSkipping line 690: expected 43 fields, saw 44\\n'\n",
            "b'Skipping line 30: expected 43 fields, saw 44\\nSkipping line 146: expected 43 fields, saw 44\\nSkipping line 161: expected 43 fields, saw 46\\nSkipping line 268: expected 43 fields, saw 44\\nSkipping line 332: expected 43 fields, saw 44\\nSkipping line 443: expected 43 fields, saw 44\\nSkipping line 799: expected 43 fields, saw 44\\nSkipping line 965: expected 43 fields, saw 44\\nSkipping line 1037: expected 43 fields, saw 44\\nSkipping line 1042: expected 43 fields, saw 44\\nSkipping line 1263: expected 43 fields, saw 44\\nSkipping line 1286: expected 43 fields, saw 44\\nSkipping line 1497: expected 43 fields, saw 44\\nSkipping line 1761: expected 43 fields, saw 44\\nSkipping line 1781: expected 43 fields, saw 44\\nSkipping line 1854: expected 43 fields, saw 44\\nSkipping line 1944: expected 43 fields, saw 45\\nSkipping line 1952: expected 43 fields, saw 44\\n'\n",
            "b'Skipping line 315: expected 43 fields, saw 44\\nSkipping line 491: expected 43 fields, saw 44\\nSkipping line 492: expected 43 fields, saw 47\\nSkipping line 837: expected 43 fields, saw 45\\nSkipping line 1064: expected 43 fields, saw 45\\n'\n",
            "b'Skipping line 187: expected 43 fields, saw 44\\nSkipping line 444: expected 43 fields, saw 44\\nSkipping line 543: expected 43 fields, saw 45\\nSkipping line 662: expected 43 fields, saw 44\\nSkipping line 723: expected 43 fields, saw 44\\nSkipping line 898: expected 43 fields, saw 44\\nSkipping line 1424: expected 43 fields, saw 44\\nSkipping line 1489: expected 43 fields, saw 44\\nSkipping line 1776: expected 43 fields, saw 44\\n'\n",
            "b'Skipping line 1106: expected 43 fields, saw 44\\nSkipping line 1261: expected 43 fields, saw 44\\n'\n",
            "b'Skipping line 161: expected 43 fields, saw 44\\nSkipping line 220: expected 43 fields, saw 44\\nSkipping line 426: expected 43 fields, saw 44\\n'\n"
          ],
          "name": "stderr"
        }
      ]
    },
    {
      "metadata": {
        "id": "RDCrpTNheJRJ",
        "colab_type": "code",
        "colab": {
          "base_uri": "https://localhost:8080/",
          "height": 51
        },
        "outputId": "3bcf7927-1862-4528-e95d-d4730a4f7d9d"
      },
      "cell_type": "code",
      "source": [
        "tmp=WOS.load_biblio('UDEA_SCP.xlsx',prefix='SCP')"
      ],
      "execution_count": 0,
      "outputs": [
        {
          "output_type": "stream",
          "text": [
            "/usr/local/lib/python3.6/dist-packages/wosplus/_wos_scp.py:54: FutureWarning: Using 'rename_axis' to alter labels is deprecated. Use '.rename' instead\n",
            "  return df.rename_axis( dict( (key,prefix+'_'+key) for key in df.columns.values) , axis=1)\n"
          ],
          "name": "stderr"
        }
      ]
    },
    {
      "metadata": {
        "id": "piNBPN6cgqmE",
        "colab_type": "code",
        "colab": {
          "base_uri": "https://localhost:8080/",
          "height": 34
        },
        "outputId": "9336019c-7afd-45f1-fb6e-b58c76f1b031"
      },
      "cell_type": "code",
      "source": [
        "WOS.SCP.shape"
      ],
      "execution_count": 0,
      "outputs": [
        {
          "output_type": "execute_result",
          "data": {
            "text/plain": [
              "(10624, 44)"
            ]
          },
          "metadata": {
            "tags": []
          },
          "execution_count": 47
        }
      ]
    },
    {
      "metadata": {
        "id": "pbX4RNUCL7J2",
        "colab_type": "code",
        "colab": {
          "base_uri": "https://localhost:8080/",
          "height": 34
        },
        "outputId": "bdf0ff89-a2a4-48b3-ced5-aaf0a5113691"
      },
      "cell_type": "code",
      "source": [
        "WOS.SCP[WOS.SCP.SCP_Authors.str.contains('Restrepo D.')].shape"
      ],
      "execution_count": 0,
      "outputs": [
        {
          "output_type": "execute_result",
          "data": {
            "text/plain": [
              "(49, 44)"
            ]
          },
          "metadata": {
            "tags": []
          },
          "execution_count": 53
        }
      ]
    },
    {
      "metadata": {
        "id": "Y0D0hEdAMXUX",
        "colab_type": "code",
        "colab": {}
      },
      "cell_type": "code",
      "source": [
        ""
      ],
      "execution_count": 0,
      "outputs": []
    }
  ]
}