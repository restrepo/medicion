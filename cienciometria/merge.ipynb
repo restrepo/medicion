{
 "cells": [
  {
   "cell_type": "markdown",
   "metadata": {
    "colab_type": "text",
    "id": "view-in-github"
   },
   "source": [
    "[View in Colaboratory](https://colab.research.google.com/github/restrepo/medicion/blob/master/cienciometria/merge.ipynb)"
   ]
  },
  {
   "cell_type": "markdown",
   "metadata": {
    "colab_type": "text",
    "id": "aDnqho-CsEwj"
   },
   "source": [
    "# WOSPlus\n",
    "Manage Web of Science txt files and merge with other bibliographic datasets."
   ]
  },
  {
   "cell_type": "code",
   "execution_count": 0,
   "metadata": {
    "colab": {},
    "colab_type": "code",
    "id": "9Hnin1fosRB_"
   },
   "outputs": [],
   "source": [
    "!pip install wosplus openpyxl xlrd > /dev/null"
   ]
  },
  {
   "cell_type": "code",
   "execution_count": 3,
   "metadata": {
    "colab": {},
    "colab_type": "code",
    "id": "nhk2ZGEDd2Yo"
   },
   "outputs": [],
   "source": [
    "import wosplus as wp\n",
    "import pandas as pd"
   ]
  },
  {
   "cell_type": "markdown",
   "metadata": {
    "colab_type": "text",
    "id": "8SUNt-E6J7jp"
   },
   "source": [
    "\n",
    "##  WOS"
   ]
  },
  {
   "cell_type": "markdown",
   "metadata": {
    "colab_type": "text",
    "id": "azAXfmSHsEw9"
   },
   "source": [
    "###  Configure public links for filies in Google Drive\n",
    "* If it is a Google Spreadsheet the corresponding file is downloades as CSV\n",
    "\"\" If it is in excel or text file the file is downloades directly\n",
    "\n",
    "We can define your own labeled IDs, either through the default 'drive.cfg' file before the import of the module,\n",
    "or by using your own configuration file after the import:"
   ]
  },
  {
   "cell_type": "code",
   "execution_count": 4,
   "metadata": {
    "colab": {
     "base_uri": "https://localhost:8080/",
     "height": 34
    },
    "colab_type": "code",
    "id": "EAvrGoZEsEw9",
    "outputId": "4486b60e-8438-4a1e-cf5f-536045fce747"
   },
   "outputs": [
    {
     "name": "stdout",
     "output_type": "stream",
     "text": [
      "Overwriting drive.cfg\n"
     ]
    }
   ],
   "source": [
    "%%writefile drive.cfg\n",
    "[FILES]\n",
    "Sample_WOS.xlsx  = 0BxoOXsn2EUNIMldPUFlwNkdLOTQ\n",
    "Sample_WOS.txt   = 12CtQ_SI2OHrvj_etKpqriGsGoVvv9zkL\n",
    "savedrecs01.txt  = 1snzdsa-RLwYIf8MUffauaD2ZjNr1U2Os\n",
    "UDEA_WOS.xlsx    = 1px2IcrjCrkyu7t78Q7PAE5nzV_yuPt9t"
   ]
  },
  {
   "cell_type": "code",
   "execution_count": 5,
   "metadata": {
    "colab": {},
    "colab_type": "code",
    "id": "fu0iEVxVM0rf"
   },
   "outputs": [],
   "source": [
    "WOS=wp.wosplus('drive.cfg')"
   ]
  },
  {
   "cell_type": "markdown",
   "metadata": {
    "colab_type": "text",
    "id": "qBNa8Qus7X9Q"
   },
   "source": [
    "Publics `id`'s  for Google drive files are labeled with the file names in `drive.cfg`. To access them use the corresponding key in `WOS.drive_file`,  e.g:"
   ]
  },
  {
   "cell_type": "markdown",
   "metadata": {
    "colab_type": "text",
    "id": "yHL3g4pdsExG"
   },
   "source": [
    "##  Load full Google Drive, including your Team drives:"
   ]
  },
  {
   "cell_type": "code",
   "execution_count": 23,
   "metadata": {
    "colab": {
     "base_uri": "https://localhost:8080/",
     "height": 122
    },
    "colab_type": "code",
    "id": "QGclNSZnLTZD",
    "outputId": "525bbdea-1754-4ee1-8760-c9560d8f0e91"
   },
   "outputs": [
    {
     "name": "stdout",
     "output_type": "stream",
     "text": [
      "Go to this URL in a browser: https://accounts.google.com/o/oauth2/auth?client_id=947318989803-6bn6qk8qdgf4n4g3pfee6491hc0brc4i.apps.googleusercontent.com&redirect_uri=urn%3Aietf%3Awg%3Aoauth%3A2.0%3Aoob&scope=email%20https%3A%2F%2Fwww.googleapis.com%2Fauth%2Fdocs.test%20https%3A%2F%2Fwww.googleapis.com%2Fauth%2Fdrive%20https%3A%2F%2Fwww.googleapis.com%2Fauth%2Fdrive.photos.readonly%20https%3A%2F%2Fwww.googleapis.com%2Fauth%2Fpeopleapi.readonly&response_type=code\n",
      "\n",
      "Enter your authorization code:\n",
      "··········\n",
      "Mounted at /content/drive\n"
     ]
    }
   ],
   "source": [
    "# Load the Drive helper and mount\n",
    "from google.colab import drive\n",
    "\n",
    "# This will prompt for authorization.\n",
    "drive.mount('/content/drive')"
   ]
  },
  {
   "cell_type": "code",
   "execution_count": 0,
   "metadata": {
    "colab": {},
    "colab_type": "code",
    "id": "tEHS1wEtMazN"
   },
   "outputs": [],
   "source": [
    "home='drive/Team Drives/Medición Capacidades Vinculación UDEA/06. Cienciometría/1. Descargas/1. Web of Science/1. UDEA/'\n",
    "filetxt=[\"{}savedrecs.txt\".format(home),\n",
    "         \"{}savedrecs (1).txt\".format(home),\n",
    "         \"{}savedrecs (2).txt\".format(home),\n",
    "         \"{}savedrecs (3).txt\".format(home),\n",
    "         \"{}savedrecs (4).txt\".format(home),\n",
    "         \"{}savedrecs (5).txt\".format(home),\n",
    "         \"{}savedrecs (6).txt\".format(home),\n",
    "         \"{}savedrecs (7).txt\".format(home),\n",
    "         \"{}savedrecs (8).txt\".format(home),\n",
    "         \"{}savedrecs (9).txt\".format(home),\n",
    "         \"{}savedrecs (10).txt\".format(home),\n",
    "         \"{}savedrecs (11).txt\".format(home),\n",
    "         \"{}savedrecs (12).txt\".format(home),\n",
    "         \"{}savedrecs (13).txt\".format(home),\n",
    "         \"{}savedrecs (14).txt\".format(home),\n",
    "         \"{}savedrecs (15).txt\".format(home),\n",
    "         \"{}savedrecs (16).txt\".format(home),\n",
    "         \"{}savedrecs (17).txt\".format(home)\n",
    "        ]"
   ]
  },
  {
   "cell_type": "code",
   "execution_count": 25,
   "metadata": {
    "colab": {
     "base_uri": "https://localhost:8080/",
     "height": 34
    },
    "colab_type": "code",
    "id": "jfElDQYeEy3B",
    "outputId": "d1947e1e-a5f0-485c-ce01-4f654d2ee9db"
   },
   "outputs": [
    {
     "data": {
      "text/plain": [
       "'drive/Team Drives/Medición Capacidades Vinculación UDEA/06. Cienciometría/1. Descargas/1. Web of Science/1. UDEA/savedrecs (12).txt'"
      ]
     },
     "execution_count": 25,
     "metadata": {
      "tags": []
     },
     "output_type": "execute_result"
    }
   ],
   "source": [
    "filetxt[12]"
   ]
  },
  {
   "cell_type": "code",
   "execution_count": 8,
   "metadata": {
    "colab": {
     "base_uri": "https://localhost:8080/",
     "height": 948
    },
    "colab_type": "code",
    "id": "LPdk-tBwMrVS",
    "outputId": "b69048ea-f867-4628-8571-555ff305d8d1"
   },
   "outputs": [],
   "source": [
    "RELOAD_WOS_TXT=False\n",
    "if RELOAD_WOS_TXT:\n",
    "    UDEA_WOS=pd.DataFrame()\n",
    "    for f in filetxt: \n",
    "        WOS.load_biblio(f)\n",
    "        UDEA_WOS=UDEA_WOS.append(WOS.WOS)\n",
    "        \n",
    "    UDEA_WOS.to_excel('UDEA_WOS.xlsx',index=False)\n",
    "else:     \n",
    "    tmp=WOS.load_biblio('UDEA_WOS.xlsx')\n",
    "    UDEA_WOS=WOS.WOS"
   ]
  },
  {
   "cell_type": "code",
   "execution_count": 9,
   "metadata": {
    "colab": {
     "base_uri": "https://localhost:8080/",
     "height": 34
    },
    "colab_type": "code",
    "id": "0elgg04WE0tV",
    "outputId": "0c4c85c0-80c9-4ef5-e290-5a8cd8d5e98c"
   },
   "outputs": [
    {
     "data": {
      "text/plain": [
       "(8625, 64)"
      ]
     },
     "execution_count": 9,
     "metadata": {},
     "output_type": "execute_result"
    }
   ],
   "source": [
    "WOS.WOS.shape"
   ]
  },
  {
   "cell_type": "code",
   "execution_count": 0,
   "metadata": {
    "colab": {},
    "colab_type": "code",
    "id": "Xj8ieQ3HHgAu"
   },
   "outputs": [],
   "source": []
  },
  {
   "cell_type": "code",
   "execution_count": 0,
   "metadata": {
    "colab": {
     "base_uri": "https://localhost:8080/",
     "height": 34
    },
    "colab_type": "code",
    "id": "zdh1qE8sO_XE",
    "outputId": "42f2ff8f-dba1-49e0-835c-3fcdfca5d87d"
   },
   "outputs": [
    {
     "data": {
      "text/plain": [
       "(8625, 64)"
      ]
     },
     "execution_count": 16,
     "metadata": {
      "tags": []
     },
     "output_type": "execute_result"
    }
   ],
   "source": [
    "UDEA_WOS.shape"
   ]
  },
  {
   "cell_type": "code",
   "execution_count": 0,
   "metadata": {
    "colab": {
     "base_uri": "https://localhost:8080/",
     "height": 34
    },
    "colab_type": "code",
    "id": "nFrsetooHux2",
    "outputId": "8568df68-cfd3-4d7d-a779-d47bd4477ea2"
   },
   "outputs": [
    {
     "data": {
      "text/plain": [
       "(44, 64)"
      ]
     },
     "execution_count": 21,
     "metadata": {
      "tags": []
     },
     "output_type": "execute_result"
    }
   ],
   "source": [
    "UDEA_WOS[UDEA_WOS.AU.str.contains('Restrepo, D')].shape"
   ]
  },
  {
   "cell_type": "code",
   "execution_count": 0,
   "metadata": {
    "colab": {},
    "colab_type": "code",
    "id": "JAh5AtyQPCdt"
   },
   "outputs": [],
   "source": []
  }
 ],
 "metadata": {
  "colab": {
   "include_colab_link": true,
   "name": "merge.ipynb",
   "provenance": [],
   "toc_visible": true,
   "version": "0.3.2"
  },
  "kernelspec": {
   "display_name": "Python 3",
   "language": "python",
   "name": "python3"
  },
  "language_info": {
   "codemirror_mode": {
    "name": "ipython",
    "version": 3
   },
   "file_extension": ".py",
   "mimetype": "text/x-python",
   "name": "python",
   "nbconvert_exporter": "python",
   "pygments_lexer": "ipython3",
   "version": "3.4.2"
  }
 },
 "nbformat": 4,
 "nbformat_minor": 1
}
