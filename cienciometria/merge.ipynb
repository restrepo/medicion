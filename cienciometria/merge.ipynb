{
  "nbformat": 4,
  "nbformat_minor": 0,
  "metadata": {
    "colab": {
      "name": "merge.ipynb",
      "version": "0.3.2",
      "provenance": [],
      "toc_visible": true,
      "include_colab_link": true
    },
    "kernelspec": {
      "display_name": "Python 3",
      "language": "python",
      "name": "python3"
    }
  },
  "cells": [
    {
      "cell_type": "markdown",
      "metadata": {
        "id": "view-in-github",
        "colab_type": "text"
      },
      "source": [
        "[View in Colaboratory](https://colab.research.google.com/github/restrepo/medicion/blob/master/cienciometria/merge.ipynb)"
      ]
    },
    {
      "metadata": {
        "id": "aDnqho-CsEwj",
        "colab_type": "text"
      },
      "cell_type": "markdown",
      "source": [
        "# WOSPlus\n",
        "Manage Web of Science txt files and merge with other bibliographic datasets."
      ]
    },
    {
      "metadata": {
        "id": "9Hnin1fosRB_",
        "colab_type": "code",
        "colab": {}
      },
      "cell_type": "code",
      "source": [
        "!pip install wosplus openpyxl xlrd > /dev/null"
      ],
      "execution_count": 0,
      "outputs": []
    },
    {
      "metadata": {
        "id": "nhk2ZGEDd2Yo",
        "colab_type": "code",
        "colab": {}
      },
      "cell_type": "code",
      "source": [
        "import wosplus as wp\n",
        "import pandas as pd"
      ],
      "execution_count": 0,
      "outputs": []
    },
    {
      "metadata": {
        "id": "yHL3g4pdsExG",
        "colab_type": "text"
      },
      "cell_type": "markdown",
      "source": [
        "##  Load full Google Drive, including your Team drives:"
      ]
    },
    {
      "metadata": {
        "id": "QGclNSZnLTZD",
        "colab_type": "code",
        "colab": {
          "base_uri": "https://localhost:8080/",
          "height": 34
        },
        "outputId": "43ba2f7e-07cd-403d-8d5f-7d192fdd3ac5"
      },
      "cell_type": "code",
      "source": [
        "# Load the Drive helper and mount\n",
        "from google.colab import drive\n",
        "\n",
        "# This will prompt for authorization.\n",
        "drive.mount('/content/drive')"
      ],
      "execution_count": 30,
      "outputs": [
        {
          "output_type": "stream",
          "text": [
            "Mounted at /content/drive\n"
          ],
          "name": "stdout"
        }
      ]
    },
    {
      "metadata": {
        "id": "J__yrydJOrsJ",
        "colab_type": "text"
      },
      "cell_type": "markdown",
      "source": [
        "Access you Google Drive files from the sidebar in the tab \"Files → REFRESH\""
      ]
    },
    {
      "metadata": {
        "id": "8SUNt-E6J7jp",
        "colab_type": "text"
      },
      "cell_type": "markdown",
      "source": [
        "\n",
        "##  Build or load WOS database"
      ]
    },
    {
      "metadata": {
        "id": "azAXfmSHsEw9",
        "colab_type": "text"
      },
      "cell_type": "markdown",
      "source": [
        "###  Configure public links of  files in Google Drive\n",
        "* If it is a Google Spreadsheet the corresponding file is downloaded as CSV\n",
        "* If it is in excel or text file the file is downloaded  directly\n",
        "\n",
        "To define your  own labeled IDs for public google drive files edit the next cell:"
      ]
    },
    {
      "metadata": {
        "id": "EAvrGoZEsEw9",
        "colab_type": "code",
        "colab": {
          "base_uri": "https://localhost:8080/",
          "height": 34
        },
        "outputId": "cc6cffc3-8868-45c5-b548-987652f5931b"
      },
      "cell_type": "code",
      "source": [
        "%%writefile drive.cfg\n",
        "[FILES]\n",
        "Sample_WOS.xlsx  = 0BxoOXsn2EUNIMldPUFlwNkdLOTQ\n",
        "Sample_WOS.txt   = 12CtQ_SI2OHrvj_etKpqriGsGoVvv9zkL\n",
        "savedrecs01.txt  = 1snzdsa-RLwYIf8MUffauaD2ZjNr1U2Os\n",
        "UDEA_WOS.xlsx    = 1px2IcrjCrkyu7t78Q7PAE5nzV_yuPt9t\n",
        "UDEA_SCP.xlsx    = 1ulCsFHzDiTmuL9TH8F58ulh0u8Z2ylKh"
      ],
      "execution_count": 31,
      "outputs": [
        {
          "output_type": "stream",
          "text": [
            "Writing drive.cfg\n"
          ],
          "name": "stdout"
        }
      ]
    },
    {
      "metadata": {
        "id": "fu0iEVxVM0rf",
        "colab_type": "code",
        "colab": {}
      },
      "cell_type": "code",
      "source": [
        "WOS=wp.wosplus('drive.cfg')"
      ],
      "execution_count": 0,
      "outputs": []
    },
    {
      "metadata": {
        "id": "qBNa8Qus7X9Q",
        "colab_type": "text"
      },
      "cell_type": "markdown",
      "source": [
        "Publics `id`'s  for Google drive files are labeled with the file names in `drive.cfg`. To access them use the corresponding key in `WOS.drive_file`,  e.g:"
      ]
    },
    {
      "metadata": {
        "id": "IVWfjis6fO0G",
        "colab_type": "code",
        "colab": {
          "base_uri": "https://localhost:8080/",
          "height": 102
        },
        "outputId": "2ea84937-8920-4234-f6c5-3391f2f40077"
      },
      "cell_type": "code",
      "source": [
        "list( WOS.drive_file.keys() )"
      ],
      "execution_count": 41,
      "outputs": [
        {
          "output_type": "execute_result",
          "data": {
            "text/plain": [
              "['Sample_WOS.xlsx',\n",
              " 'Sample_WOS.txt',\n",
              " 'savedrecs01.txt',\n",
              " 'UDEA_WOS.xlsx',\n",
              " 'UDEA_SCP.xlsx']"
            ]
          },
          "metadata": {
            "tags": []
          },
          "execution_count": 41
        }
      ]
    },
    {
      "metadata": {
        "id": "gpcqjGQaHbti",
        "colab_type": "code",
        "colab": {
          "base_uri": "https://localhost:8080/",
          "height": 34
        },
        "outputId": "4892a387-a7c4-487a-83fe-9f2c865bb2f7"
      },
      "cell_type": "code",
      "source": [
        "WOS.drive_file.get('UDEA_WOS.xlsx')"
      ],
      "execution_count": 34,
      "outputs": [
        {
          "output_type": "execute_result",
          "data": {
            "text/plain": [
              "'1px2IcrjCrkyu7t78Q7PAE5nzV_yuPt9t'"
            ]
          },
          "metadata": {
            "tags": []
          },
          "execution_count": 34
        }
      ]
    },
    {
      "metadata": {
        "id": "myGZ_94hNT3r",
        "colab_type": "text"
      },
      "cell_type": "markdown",
      "source": [
        "or, the more error prompt version"
      ]
    },
    {
      "metadata": {
        "id": "EnFE0c31NL1x",
        "colab_type": "code",
        "colab": {
          "base_uri": "https://localhost:8080/",
          "height": 34
        },
        "outputId": "40175bf2-f18a-4753-a1e0-93c2a36ad7a6"
      },
      "cell_type": "code",
      "source": [
        "WOS.drive_file['UDEA_WOS.xlsx']"
      ],
      "execution_count": 0,
      "outputs": [
        {
          "output_type": "execute_result",
          "data": {
            "text/plain": [
              "'1px2IcrjCrkyu7t78Q7PAE5nzV_yuPt9t'"
            ]
          },
          "metadata": {
            "tags": []
          },
          "execution_count": 31
        }
      ]
    },
    {
      "metadata": {
        "id": "vUmVX5u1KrFy",
        "colab_type": "text"
      },
      "cell_type": "markdown",
      "source": [
        "### (Re)Build WOS data base from txt WOS files (500 records each)"
      ]
    },
    {
      "metadata": {
        "id": "p-EnptX6K4Xc",
        "colab_type": "code",
        "colab": {}
      },
      "cell_type": "code",
      "source": [
        "REBUILD_WOS_TXT=False"
      ],
      "execution_count": 0,
      "outputs": []
    },
    {
      "metadata": {
        "id": "tEHS1wEtMazN",
        "colab_type": "code",
        "colab": {}
      },
      "cell_type": "code",
      "source": [
        "if REBUILD_WOS_TXT:\n",
        "    home='drive/Team Drives/Medición Capacidades Vinculación UDEA/06. Cienciometría/1. Descargas/1. Web of Science/1. UDEA/'\n",
        "    filetxt=[\"{}savedrecs.txt\".format(home),\n",
        "             \"{}savedrecs (1).txt\".format(home),\n",
        "             \"{}savedrecs (2).txt\".format(home),\n",
        "             \"{}savedrecs (3).txt\".format(home),\n",
        "             \"{}savedrecs (4).txt\".format(home),\n",
        "             \"{}savedrecs (5).txt\".format(home),\n",
        "             \"{}savedrecs (6).txt\".format(home),\n",
        "             \"{}savedrecs (7).txt\".format(home),\n",
        "             \"{}savedrecs (8).txt\".format(home),\n",
        "             \"{}savedrecs (9).txt\".format(home),\n",
        "             \"{}savedrecs (10).txt\".format(home),\n",
        "             \"{}savedrecs (11).txt\".format(home),\n",
        "             \"{}savedrecs (12).txt\".format(home),\n",
        "             \"{}savedrecs (13).txt\".format(home),\n",
        "             \"{}savedrecs (14).txt\".format(home),\n",
        "             \"{}savedrecs (15).txt\".format(home),\n",
        "             \"{}savedrecs (16).txt\".format(home),\n",
        "             \"{}savedrecs (17).txt\".format(home)\n",
        "            ]"
      ],
      "execution_count": 0,
      "outputs": []
    },
    {
      "metadata": {
        "id": "jfElDQYeEy3B",
        "colab_type": "code",
        "colab": {
          "base_uri": "https://localhost:8080/",
          "height": 34
        },
        "outputId": "62067cd2-009d-4140-fbac-d9cbe61c9e47"
      },
      "cell_type": "code",
      "source": [
        "if REBUILD_WOS_TXT:\n",
        "    print(filetxt[12])"
      ],
      "execution_count": 0,
      "outputs": [
        {
          "output_type": "stream",
          "text": [
            "drive/Team Drives/Medición Capacidades Vinculación UDEA/06. Cienciometría/1. Descargas/1. Web of Science/1. UDEA/savedrecs (12).txt\n"
          ],
          "name": "stdout"
        }
      ]
    },
    {
      "metadata": {
        "id": "0wLCuoDRLgRL",
        "colab_type": "text"
      },
      "cell_type": "markdown",
      "source": [
        "### Load WOS database"
      ]
    },
    {
      "metadata": {
        "id": "LPdk-tBwMrVS",
        "colab_type": "code",
        "colab": {}
      },
      "cell_type": "code",
      "source": [
        "if REBUILD_WOS_TXT:\n",
        "    UDEA_WOS=pd.DataFrame()\n",
        "    for f in filetxt: \n",
        "        WOS.load_biblio(f)\n",
        "        UDEA_WOS=UDEA_WOS.append(WOS.WOS)\n",
        "        \n",
        "    UDEA_WOS.to_excel('UDEA_WOS.xlsx',index=False)\n",
        "else:     \n",
        "    tmp=WOS.load_biblio('UDEA_WOS.xlsx')\n",
        "    UDEA_WOS=WOS.WOS"
      ],
      "execution_count": 0,
      "outputs": []
    },
    {
      "metadata": {
        "id": "KCxjMgwYLy9X",
        "colab_type": "text"
      },
      "cell_type": "markdown",
      "source": [
        "Some checks:"
      ]
    },
    {
      "metadata": {
        "id": "0elgg04WE0tV",
        "colab_type": "code",
        "colab": {
          "base_uri": "https://localhost:8080/",
          "height": 34
        },
        "outputId": "cc4bdbb3-3c8e-45d4-8b87-cda062db6803"
      },
      "cell_type": "code",
      "source": [
        "WOS.WOS.shape"
      ],
      "execution_count": 0,
      "outputs": [
        {
          "output_type": "execute_result",
          "data": {
            "text/plain": [
              "(8625, 64)"
            ]
          },
          "metadata": {
            "tags": []
          },
          "execution_count": 7
        }
      ]
    },
    {
      "metadata": {
        "id": "nFrsetooHux2",
        "colab_type": "code",
        "colab": {
          "base_uri": "https://localhost:8080/",
          "height": 34
        },
        "outputId": "100ce3c1-a8c5-452a-d76f-134f4c093ace"
      },
      "cell_type": "code",
      "source": [
        "UDEA_WOS[UDEA_WOS.AU.str.contains('Restrepo, D')].shape"
      ],
      "execution_count": 0,
      "outputs": [
        {
          "output_type": "execute_result",
          "data": {
            "text/plain": [
              "(44, 64)"
            ]
          },
          "metadata": {
            "tags": []
          },
          "execution_count": 8
        }
      ]
    },
    {
      "metadata": {
        "id": "JAh5AtyQPCdt",
        "colab_type": "code",
        "colab": {
          "base_uri": "https://localhost:8080/",
          "height": 34
        },
        "outputId": "f6f5ef6d-a93b-42b4-b77a-2ef5318d4e08"
      },
      "cell_type": "code",
      "source": [
        "UDEA_WOS[UDEA_WOS.AB!=''].shape"
      ],
      "execution_count": 0,
      "outputs": [
        {
          "output_type": "execute_result",
          "data": {
            "text/plain": [
              "(7402, 64)"
            ]
          },
          "metadata": {
            "tags": []
          },
          "execution_count": 13
        }
      ]
    },
    {
      "metadata": {
        "id": "yEaVHp-ZJjlF",
        "colab_type": "text"
      },
      "cell_type": "markdown",
      "source": [
        "## SCP database"
      ]
    },
    {
      "metadata": {
        "id": "fW9E17egJnNt",
        "colab_type": "code",
        "colab": {}
      },
      "cell_type": "code",
      "source": [
        "REBUILD_SCP_CSV=False #must be local files not in drive.cfg"
      ],
      "execution_count": 0,
      "outputs": []
    },
    {
      "metadata": {
        "id": "0stt066GJvoY",
        "colab_type": "code",
        "colab": {}
      },
      "cell_type": "code",
      "source": [
        "if REBUILD_SCP_CSV:          \n",
        "    home='drive/Team Drives/Medición Capacidades Vinculación UDEA/06. Cienciometría/1. Descargas/3. Scopus/1. UDEA/'\n",
        "    filecsv=[\"{}UDEA1.csv\".format(home),\"{}UDEA2.csv\".format(home),\"{}UDEA3.csv\".format(home),\n",
        "             \"{}UDEA4.csv\".format(home),\"{}UDEA5.csv\".format(home),\"{}UDEA6.csv\".format(home),\n",
        "             \"{}UDEA7.csv\".format(home)]"
      ],
      "execution_count": 0,
      "outputs": []
    },
    {
      "metadata": {
        "id": "M1plyIfeKr4m",
        "colab_type": "code",
        "colab": {
          "base_uri": "https://localhost:8080/",
          "height": 156
        },
        "outputId": "15040bc9-c629-4998-d5f6-b32ff2772408"
      },
      "cell_type": "code",
      "source": [
        "if REBUILD_SCP_CSV:\n",
        "    UDEA_SCP=pd.DataFrame()\n",
        "    for f in filecsv:\n",
        "        #print(f)\n",
        "        UDEA_SCP=UDEA_SCP.append(pd.read_csv(f,error_bad_lines=False))\n",
        "        \n",
        "    UDEA_SCP.to_excel('UDEA_SCP.xlsx',index=False)"
      ],
      "execution_count": 0,
      "outputs": [
        {
          "output_type": "stream",
          "text": [
            "b'Skipping line 7: expected 43 fields, saw 44\\nSkipping line 42: expected 43 fields, saw 44\\nSkipping line 122: expected 43 fields, saw 44\\nSkipping line 161: expected 43 fields, saw 44\\nSkipping line 225: expected 43 fields, saw 44\\nSkipping line 238: expected 43 fields, saw 44\\nSkipping line 251: expected 43 fields, saw 45\\nSkipping line 252: expected 43 fields, saw 44\\nSkipping line 263: expected 43 fields, saw 44\\nSkipping line 290: expected 43 fields, saw 44\\nSkipping line 339: expected 43 fields, saw 44\\nSkipping line 382: expected 43 fields, saw 44\\nSkipping line 384: expected 43 fields, saw 44\\nSkipping line 386: expected 43 fields, saw 44\\nSkipping line 387: expected 43 fields, saw 46\\nSkipping line 388: expected 43 fields, saw 45\\nSkipping line 389: expected 43 fields, saw 44\\nSkipping line 391: expected 43 fields, saw 44\\nSkipping line 461: expected 43 fields, saw 44\\nSkipping line 1034: expected 43 fields, saw 44\\nSkipping line 1192: expected 43 fields, saw 44\\n'\n",
            "b'Skipping line 98: expected 43 fields, saw 44\\nSkipping line 100: expected 43 fields, saw 44\\nSkipping line 690: expected 43 fields, saw 44\\n'\n",
            "b'Skipping line 30: expected 43 fields, saw 44\\nSkipping line 146: expected 43 fields, saw 44\\nSkipping line 161: expected 43 fields, saw 46\\nSkipping line 268: expected 43 fields, saw 44\\nSkipping line 332: expected 43 fields, saw 44\\nSkipping line 443: expected 43 fields, saw 44\\nSkipping line 799: expected 43 fields, saw 44\\nSkipping line 965: expected 43 fields, saw 44\\nSkipping line 1037: expected 43 fields, saw 44\\nSkipping line 1042: expected 43 fields, saw 44\\nSkipping line 1263: expected 43 fields, saw 44\\nSkipping line 1286: expected 43 fields, saw 44\\nSkipping line 1497: expected 43 fields, saw 44\\nSkipping line 1761: expected 43 fields, saw 44\\nSkipping line 1781: expected 43 fields, saw 44\\nSkipping line 1854: expected 43 fields, saw 44\\nSkipping line 1944: expected 43 fields, saw 45\\nSkipping line 1952: expected 43 fields, saw 44\\n'\n",
            "b'Skipping line 315: expected 43 fields, saw 44\\nSkipping line 491: expected 43 fields, saw 44\\nSkipping line 492: expected 43 fields, saw 47\\nSkipping line 837: expected 43 fields, saw 45\\nSkipping line 1064: expected 43 fields, saw 45\\n'\n",
            "b'Skipping line 187: expected 43 fields, saw 44\\nSkipping line 444: expected 43 fields, saw 44\\nSkipping line 543: expected 43 fields, saw 45\\nSkipping line 662: expected 43 fields, saw 44\\nSkipping line 723: expected 43 fields, saw 44\\nSkipping line 898: expected 43 fields, saw 44\\nSkipping line 1424: expected 43 fields, saw 44\\nSkipping line 1489: expected 43 fields, saw 44\\nSkipping line 1776: expected 43 fields, saw 44\\n'\n",
            "b'Skipping line 1106: expected 43 fields, saw 44\\nSkipping line 1261: expected 43 fields, saw 44\\n'\n",
            "b'Skipping line 161: expected 43 fields, saw 44\\nSkipping line 220: expected 43 fields, saw 44\\nSkipping line 426: expected 43 fields, saw 44\\n'\n"
          ],
          "name": "stderr"
        }
      ]
    },
    {
      "metadata": {
        "id": "RDCrpTNheJRJ",
        "colab_type": "code",
        "colab": {
          "base_uri": "https://localhost:8080/",
          "height": 51
        },
        "outputId": "3bcf7927-1862-4528-e95d-d4730a4f7d9d"
      },
      "cell_type": "code",
      "source": [
        "tmp=WOS.load_biblio('UDEA_SCP.xlsx',prefix='SCP')"
      ],
      "execution_count": 48,
      "outputs": [
        {
          "output_type": "stream",
          "text": [
            "/usr/local/lib/python3.6/dist-packages/wosplus/_wos_scp.py:54: FutureWarning: Using 'rename_axis' to alter labels is deprecated. Use '.rename' instead\n",
            "  return df.rename_axis( dict( (key,prefix+'_'+key) for key in df.columns.values) , axis=1)\n"
          ],
          "name": "stderr"
        }
      ]
    },
    {
      "metadata": {
        "id": "piNBPN6cgqmE",
        "colab_type": "code",
        "colab": {
          "base_uri": "https://localhost:8080/",
          "height": 34
        },
        "outputId": "9336019c-7afd-45f1-fb6e-b58c76f1b031"
      },
      "cell_type": "code",
      "source": [
        "WOS.SCP.shape"
      ],
      "execution_count": 47,
      "outputs": [
        {
          "output_type": "execute_result",
          "data": {
            "text/plain": [
              "(10624, 44)"
            ]
          },
          "metadata": {
            "tags": []
          },
          "execution_count": 47
        }
      ]
    },
    {
      "metadata": {
        "id": "pbX4RNUCL7J2",
        "colab_type": "code",
        "colab": {
          "base_uri": "https://localhost:8080/",
          "height": 34
        },
        "outputId": "bdf0ff89-a2a4-48b3-ced5-aaf0a5113691"
      },
      "cell_type": "code",
      "source": [
        "WOS.SCP[WOS.SCP.SCP_Authors.str.contains('Restrepo D.')].shape"
      ],
      "execution_count": 53,
      "outputs": [
        {
          "output_type": "execute_result",
          "data": {
            "text/plain": [
              "(49, 44)"
            ]
          },
          "metadata": {
            "tags": []
          },
          "execution_count": 53
        }
      ]
    },
    {
      "metadata": {
        "id": "Y0D0hEdAMXUX",
        "colab_type": "code",
        "colab": {}
      },
      "cell_type": "code",
      "source": [
        ""
      ],
      "execution_count": 0,
      "outputs": []
    }
  ]
}