{
 "cells": [
  {
   "cell_type": "markdown",
   "metadata": {
    "colab_type": "text",
    "id": "uu-sf4Ukvbb-"
   },
   "source": [
    "# Open Access - Google Scholar\n",
    "La base de datos oaudea.json que fue creada con: [oaudea.ipynb](./oaudea.ipynb)\n",
    "\n",
    "Está basada en la combinación de:\n",
    "\n",
    "* Web of Science con Scopus y Scielo (Web of science) para la extración de la columna de DOIS e ISSNs de las revistas  de los artículos de la UdeA\n",
    "* oadoi.org para la identificación de artículos Open Access\n",
    "* DOAJ para obetener la información del APC basada en la identificación de los ISSNs de las revistas\n",
    "* Búsqueda en google scholar (GS) de cada artículo basada en DOI y en título"
   ]
  },
  {
   "cell_type": "code",
   "execution_count": 1,
   "metadata": {},
   "outputs": [],
   "source": [
    "import wosplus as wp"
   ]
  },
  {
   "cell_type": "code",
   "execution_count": 2,
   "metadata": {},
   "outputs": [
    {
     "name": "stdout",
     "output_type": "stream",
     "text": [
      "Overwriting drive.cfg\n"
     ]
    }
   ],
   "source": [
    "%%writefile drive.cfg\n",
    "[FILES]\n",
    "DOIS.xlsx               = 1bikNT7Gmp4G7dfeMuGsF-az7D8lskK0O\n",
    "UDEA_WOS_SCI_SCP.xlsx   = 1o9otmklgh-0w18Avv2ZTKOXr3vZbjwvj\n",
    "oaudea.xlsx             = 1CcwobiEFACIbffNzNdLxpdxQukr8cZ5x\n",
    "datos1.csv              = 11CyLRZZwVbgw6YAC-igRJ3mrkIwk0aaiXnd-EOofYTI\n",
    "oa_doi.json             = 1pLaEtyM-aOhjsB6twr05OhyJToIM7h7e\n",
    "oaudea.json             = 1BmqRoQDgfpOFjXBVEfI999uaN6XX6Fkd"
   ]
  },
  {
   "cell_type": "code",
   "execution_count": 3,
   "metadata": {},
   "outputs": [],
   "source": [
    "oa=wp.wosplus('drive.cfg')"
   ]
  },
  {
   "cell_type": "code",
   "execution_count": 4,
   "metadata": {},
   "outputs": [],
   "source": [
    "df=oa.read_drive_json('oaudea.json')"
   ]
  },
  {
   "cell_type": "code",
   "execution_count": 5,
   "metadata": {},
   "outputs": [
    {
     "data": {
      "text/plain": [
       "(7990, 39)"
      ]
     },
     "execution_count": 5,
     "metadata": {},
     "output_type": "execute_result"
    }
   ],
   "source": [
    "df.shape"
   ]
  },
  {
   "cell_type": "code",
   "execution_count": 6,
   "metadata": {
    "scrolled": true
   },
   "outputs": [
    {
     "data": {
      "text/html": [
       "<div>\n",
       "<style scoped>\n",
       "    .dataframe tbody tr th:only-of-type {\n",
       "        vertical-align: middle;\n",
       "    }\n",
       "\n",
       "    .dataframe tbody tr th {\n",
       "        vertical-align: top;\n",
       "    }\n",
       "\n",
       "    .dataframe thead th {\n",
       "        text-align: right;\n",
       "    }\n",
       "</style>\n",
       "<table border=\"1\" class=\"dataframe\">\n",
       "  <thead>\n",
       "    <tr style=\"text-align: right;\">\n",
       "      <th></th>\n",
       "      <th>APC</th>\n",
       "      <th>APC_USD</th>\n",
       "      <th>DOI</th>\n",
       "      <th>GS_Journal</th>\n",
       "      <th>GS_PDF</th>\n",
       "      <th>GS_Year</th>\n",
       "      <th>GS_abstract</th>\n",
       "      <th>GS_authors</th>\n",
       "      <th>GS_cites</th>\n",
       "      <th>GS_cites_link</th>\n",
       "      <th>...</th>\n",
       "      <th>journal_issns</th>\n",
       "      <th>journal_name</th>\n",
       "      <th>language</th>\n",
       "      <th>oa_locations</th>\n",
       "      <th>published_date</th>\n",
       "      <th>publisher</th>\n",
       "      <th>title</th>\n",
       "      <th>updated</th>\n",
       "      <th>year</th>\n",
       "      <th>z_authors</th>\n",
       "    </tr>\n",
       "  </thead>\n",
       "  <tbody>\n",
       "    <tr>\n",
       "      <th>1</th>\n",
       "      <td>0NOT</td>\n",
       "      <td>0</td>\n",
       "      <td>10.1016/s0370-2693(99)01040-0</td>\n",
       "      <td>Lorenzana</td>\n",
       "      <td></td>\n",
       "      <td>-1</td>\n",
       "      <td>Skip to main content \\n</td>\n",
       "      <td>A Perez</td>\n",
       "      <td>6</td>\n",
       "      <td>/scholar?cites=7204515635894942882&amp;as_sdt=2005...</td>\n",
       "      <td>...</td>\n",
       "      <td>0370-2693</td>\n",
       "      <td>Physics Letters B</td>\n",
       "      <td>en</td>\n",
       "      <td>[{'url_for_pdf': 'http://arxiv.org/pdf/hep-ph/...</td>\n",
       "      <td>1999-10-01</td>\n",
       "      <td>Elsevier BV</td>\n",
       "      <td>An [SU(3)]4 supersymmetric grand unified model</td>\n",
       "      <td>2018-06-17T11:59:16.138320</td>\n",
       "      <td>1999</td>\n",
       "      <td>[{'family': 'Pérez-Lorenzana', 'given': 'Abdel...</td>\n",
       "    </tr>\n",
       "  </tbody>\n",
       "</table>\n",
       "<p>1 rows × 39 columns</p>\n",
       "</div>"
      ],
      "text/plain": [
       "    APC  APC_USD                            DOI GS_Journal GS_PDF GS_Year  \\\n",
       "1  0NOT        0  10.1016/s0370-2693(99)01040-0  Lorenzana             -1   \n",
       "\n",
       "               GS_abstract GS_authors  GS_cites  \\\n",
       "1  Skip to main content \\n    A Perez         6   \n",
       "\n",
       "                                       GS_cites_link  \\\n",
       "1  /scholar?cites=7204515635894942882&as_sdt=2005...   \n",
       "\n",
       "                         ...                         journal_issns  \\\n",
       "1                        ...                             0370-2693   \n",
       "\n",
       "        journal_name language  \\\n",
       "1  Physics Letters B       en   \n",
       "\n",
       "                                        oa_locations published_date  \\\n",
       "1  [{'url_for_pdf': 'http://arxiv.org/pdf/hep-ph/...     1999-10-01   \n",
       "\n",
       "     publisher                                           title  \\\n",
       "1  Elsevier BV  An [SU(3)]4 supersymmetric grand unified model   \n",
       "\n",
       "                      updated  year  \\\n",
       "1  2018-06-17T11:59:16.138320  1999   \n",
       "\n",
       "                                           z_authors  \n",
       "1  [{'family': 'Pérez-Lorenzana', 'given': 'Abdel...  \n",
       "\n",
       "[1 rows x 39 columns]"
      ]
     },
     "execution_count": 6,
     "metadata": {},
     "output_type": "execute_result"
    }
   ],
   "source": [
    "df.loc[[1]]"
   ]
  },
  {
   "cell_type": "markdown",
   "metadata": {},
   "source": [
    "Fix GS_cites"
   ]
  },
  {
   "cell_type": "markdown",
   "metadata": {},
   "source": [
    "## Análisis"
   ]
  },
  {
   "cell_type": "markdown",
   "metadata": {},
   "source": [
    "Número de artículos Open Access"
   ]
  },
  {
   "cell_type": "code",
   "execution_count": 7,
   "metadata": {},
   "outputs": [
    {
     "data": {
      "text/plain": [
       "(3628, 4362)"
      ]
     },
     "execution_count": 7,
     "metadata": {},
     "output_type": "execute_result"
    }
   ],
   "source": [
    "dfoa=df[df.Open_Access!=''].reset_index(drop=True)\n",
    "dfc=df[df.Open_Access==''].reset_index(drop=True) # close \n",
    "dfoa.shape[0],dfc.shape[0]"
   ]
  },
  {
   "cell_type": "markdown",
   "metadata": {},
   "source": [
    "Gasto en OA"
   ]
  },
  {
   "cell_type": "code",
   "execution_count": 8,
   "metadata": {},
   "outputs": [
    {
     "data": {
      "text/plain": [
       "1001070"
      ]
     },
     "execution_count": 8,
     "metadata": {},
     "output_type": "execute_result"
    }
   ],
   "source": [
    "df.APC_USD.sum()"
   ]
  },
  {
   "cell_type": "code",
   "execution_count": 9,
   "metadata": {},
   "outputs": [
    {
     "data": {
      "text/plain": [
       "1001070"
      ]
     },
     "execution_count": 9,
     "metadata": {},
     "output_type": "execute_result"
    }
   ],
   "source": [
    "dfoa.APC_USD.sum()"
   ]
  },
  {
   "cell_type": "markdown",
   "metadata": {},
   "source": [
    "Citas OA"
   ]
  },
  {
   "cell_type": "code",
   "execution_count": 10,
   "metadata": {},
   "outputs": [
    {
     "data": {
      "text/plain": [
       "73963"
      ]
     },
     "execution_count": 10,
     "metadata": {},
     "output_type": "execute_result"
    }
   ],
   "source": [
    "dfoa.GS_cites.sum()"
   ]
  },
  {
   "cell_type": "markdown",
   "metadata": {},
   "source": [
    "Falta bajar para no OA ?"
   ]
  },
  {
   "cell_type": "code",
   "execution_count": 11,
   "metadata": {},
   "outputs": [
    {
     "data": {
      "text/plain": [
       "75002"
      ]
     },
     "execution_count": 11,
     "metadata": {},
     "output_type": "execute_result"
    }
   ],
   "source": [
    "dfc.GS_cites.sum()"
   ]
  },
  {
   "cell_type": "code",
   "execution_count": 12,
   "metadata": {},
   "outputs": [],
   "source": [
    "REBUILD=False\n",
    "GSYES=dfoa\n",
    "GSNOT=dfc"
   ]
  },
  {
   "cell_type": "code",
   "execution_count": 13,
   "metadata": {},
   "outputs": [],
   "source": [
    "if REBUILD:\n",
    "    import pandas as pd\n",
    "\n",
    "    noa=pd.read_json('gasnoa.json')\n",
    "\n",
    "    noa.shape\n",
    "\n",
    "    GSNOT=GSNOT.drop(['GS_Journal', 'GS_Year', 'GS_abstract', 'GS_authors',\n",
    "           'GS_cites', 'GS_cites_link', 'GS_profiles',  'GS_title',\n",
    "           'GS_PDF','GS_old_title','GS_quality_author','GS_quality_title','GS_ref'],axis='columns')\n",
    "\n",
    "    noags=wp.columns_add_prefix(noa,'GS').rename({'GS_DOI':'DOI'},axis='columns')\n",
    "\n",
    "    GSNOTgs=GSNOT[GSNOT.DOI!=''].merge(noags[noags.DOI!=''],on='DOI',how='left').reset_index(drop=True)\n",
    "\n",
    "    GSNOTgs=GSNOTgs.drop_duplicates('DOI').reset_index(drop=True)\n",
    "\n",
    "    GSNOTgs['GS_cites']=GSNOTgs.GS_cites.fillna(0).astype(int)\n",
    "\n",
    "    kk=GSYES.append( GSNOTgs,sort=True ).reset_index(drop=True)\n",
    "\n",
    "    kk.fillna('').to_json('oaudea.json')"
   ]
  }
 ],
 "metadata": {
  "colab": {
   "collapsed_sections": [],
   "name": "Copy of OpenAccess.ipynb",
   "provenance": [],
   "version": "0.3.2"
  },
  "kernelspec": {
   "display_name": "Python 3",
   "language": "python",
   "name": "python3"
  },
  "language_info": {
   "codemirror_mode": {
    "name": "ipython",
    "version": 3
   },
   "file_extension": ".py",
   "mimetype": "text/x-python",
   "name": "python",
   "nbconvert_exporter": "python",
   "pygments_lexer": "ipython3",
   "version": "3.5.3"
  },
  "latex_envs": {
   "LaTeX_envs_menu_present": true,
   "bibliofile": "biblio.bib",
   "cite_by": "apalike",
   "current_citInitial": 1,
   "eqLabelWithNumbers": true,
   "eqNumInitial": 1,
   "labels_anchors": false,
   "latex_user_defs": false,
   "report_style_numbering": false,
   "user_envs_cfg": false
  },
  "toc": {
   "colors": {
    "hover_highlight": "#DAA520",
    "running_highlight": "#FF0000",
    "selected_highlight": "#FFD700"
   },
   "moveMenuLeft": true,
   "nav_menu": {
    "height": "512px",
    "width": "252px"
   },
   "navigate_menu": true,
   "number_sections": true,
   "sideBar": true,
   "threshold": 4,
   "toc_cell": false,
   "toc_section_display": "block",
   "toc_window_display": false
  }
 },
 "nbformat": 4,
 "nbformat_minor": 1
}
