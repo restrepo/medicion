{
 "cells": [
  {
   "cell_type": "markdown",
   "metadata": {
    "colab_type": "text",
    "id": "uu-sf4Ukvbb-"
   },
   "source": [
    "# Open Access - Google Scholar\n",
    "La base de datos oaudea.json que fue creada con: [oaudea.ipynb](./oaudea.ipynb)\n",
    "\n",
    "Está basada en la combinación de:\n",
    "\n",
    "* Web of Science con Scopus y Scielo (Web of science) para la extración de la columna de DOIS e ISSNs de las revistas  de los artículos de la UdeA\n",
    "* oadoi.org para la identificación de artículos Open Access\n",
    "* DOAJ para obetener la información del APC basada en la identificación de los ISSNs de las revistas\n",
    "* Búsqueda en google scholar (GS) de cada artículo basada en DOI y en título"
   ]
  },
  {
   "cell_type": "code",
   "execution_count": 1,
   "metadata": {},
   "outputs": [],
   "source": [
    "import pandas as pd\n",
    "import wosplus as wp"
   ]
  },
  {
   "cell_type": "code",
   "execution_count": 2,
   "metadata": {},
   "outputs": [
    {
     "name": "stdout",
     "output_type": "stream",
     "text": [
      "Overwriting drive.cfg\n"
     ]
    }
   ],
   "source": [
    "%%writefile drive.cfg\n",
    "[FILES]\n",
    "DOIS.xlsx               = 1bikNT7Gmp4G7dfeMuGsF-az7D8lskK0O\n",
    "UDEA_WOS_SCI_SCP.xlsx   = 1o9otmklgh-0w18Avv2ZTKOXr3vZbjwvj\n",
    "oaudea.xlsx             = 1CcwobiEFACIbffNzNdLxpdxQukr8cZ5x\n",
    "datos1.csv              = 11CyLRZZwVbgw6YAC-igRJ3mrkIwk0aaiXnd-EOofYTI\n",
    "oa_doi.json             = 1pLaEtyM-aOhjsB6twr05OhyJToIM7h7e\n",
    "oaudea.json             = 1BmqRoQDgfpOFjXBVEfI999uaN6XX6Fkd"
   ]
  },
  {
   "cell_type": "code",
   "execution_count": 3,
   "metadata": {},
   "outputs": [],
   "source": [
    "oa=wp.wosplus('drive.cfg')"
   ]
  },
  {
   "cell_type": "code",
   "execution_count": 30,
   "metadata": {},
   "outputs": [],
   "source": [
    "class names:\n",
    "    def __init__(self,x):\n",
    "        self.json=x+'.json'\n",
    "        self.csv=x+'.csv'\n",
    "        self.xlsx=x+'.xlsx'"
   ]
  },
  {
   "cell_type": "code",
   "execution_count": 96,
   "metadata": {},
   "outputs": [],
   "source": [
    "oaudea=names('https://github.com/restrepo/medicion/raw/master/cienciometria/data/oaudea')"
   ]
  },
  {
   "cell_type": "code",
   "execution_count": 97,
   "metadata": {},
   "outputs": [],
   "source": [
    "df=pd.read_json(oaudea.json)"
   ]
  },
  {
   "cell_type": "code",
   "execution_count": 98,
   "metadata": {},
   "outputs": [
    {
     "data": {
      "text/plain": [
       "(7990, 39)"
      ]
     },
     "execution_count": 98,
     "metadata": {},
     "output_type": "execute_result"
    }
   ],
   "source": [
    "df.shape"
   ]
  },
  {
   "cell_type": "code",
   "execution_count": 99,
   "metadata": {
    "scrolled": true
   },
   "outputs": [
    {
     "data": {
      "text/html": [
       "<div>\n",
       "<style scoped>\n",
       "    .dataframe tbody tr th:only-of-type {\n",
       "        vertical-align: middle;\n",
       "    }\n",
       "\n",
       "    .dataframe tbody tr th {\n",
       "        vertical-align: top;\n",
       "    }\n",
       "\n",
       "    .dataframe thead th {\n",
       "        text-align: right;\n",
       "    }\n",
       "</style>\n",
       "<table border=\"1\" class=\"dataframe\">\n",
       "  <thead>\n",
       "    <tr style=\"text-align: right;\">\n",
       "      <th></th>\n",
       "      <th>APC</th>\n",
       "      <th>APC_USD</th>\n",
       "      <th>DOI</th>\n",
       "      <th>GS_Journal</th>\n",
       "      <th>GS_PDF</th>\n",
       "      <th>GS_Year</th>\n",
       "      <th>GS_abstract</th>\n",
       "      <th>GS_authors</th>\n",
       "      <th>GS_cites</th>\n",
       "      <th>GS_cites_link</th>\n",
       "      <th>...</th>\n",
       "      <th>journal_issns</th>\n",
       "      <th>journal_name</th>\n",
       "      <th>language</th>\n",
       "      <th>oa_locations</th>\n",
       "      <th>published_date</th>\n",
       "      <th>publisher</th>\n",
       "      <th>title</th>\n",
       "      <th>updated</th>\n",
       "      <th>year</th>\n",
       "      <th>z_authors</th>\n",
       "    </tr>\n",
       "  </thead>\n",
       "  <tbody>\n",
       "    <tr>\n",
       "      <th>1</th>\n",
       "      <td>2950USD</td>\n",
       "      <td>2950</td>\n",
       "      <td>10.3389/fnhum.2017.00244</td>\n",
       "      <td>Frontiers in human …</td>\n",
       "      <td>https://www.frontiersin.org/articles/10.3389/f...</td>\n",
       "      <td>2017</td>\n",
       "      <td>… SHARE ON. Open Supplemental Data. Original R...</td>\n",
       "      <td>SP Trujillo, S Valencia, N Trujillo…</td>\n",
       "      <td>4</td>\n",
       "      <td>/scholar?cites=10075282305931555032&amp;as_sdt=200...</td>\n",
       "      <td>...</td>\n",
       "      <td>1662-5161</td>\n",
       "      <td>Frontiers in Human Neuroscience</td>\n",
       "      <td>en</td>\n",
       "      <td>[{'host_type': 'publisher', 'pmh_id': None, 'u...</td>\n",
       "      <td>2017-05-23</td>\n",
       "      <td>Frontiers Media SA</td>\n",
       "      <td>Atypical Modulations of N170 Component during ...</td>\n",
       "      <td>2018-06-17T15:15:41.668136</td>\n",
       "      <td>2017</td>\n",
       "      <td>[{'family': 'Trujillo', 'suffix': 'ST', 'given...</td>\n",
       "    </tr>\n",
       "  </tbody>\n",
       "</table>\n",
       "<p>1 rows × 39 columns</p>\n",
       "</div>"
      ],
      "text/plain": [
       "       APC  APC_USD                       DOI            GS_Journal  \\\n",
       "1  2950USD     2950  10.3389/fnhum.2017.00244  Frontiers in human …   \n",
       "\n",
       "                                              GS_PDF GS_Year  \\\n",
       "1  https://www.frontiersin.org/articles/10.3389/f...    2017   \n",
       "\n",
       "                                         GS_abstract  \\\n",
       "1  … SHARE ON. Open Supplemental Data. Original R...   \n",
       "\n",
       "                             GS_authors  GS_cites  \\\n",
       "1  SP Trujillo, S Valencia, N Trujillo…         4   \n",
       "\n",
       "                                       GS_cites_link  \\\n",
       "1  /scholar?cites=10075282305931555032&as_sdt=200...   \n",
       "\n",
       "                         ...                         journal_issns  \\\n",
       "1                        ...                             1662-5161   \n",
       "\n",
       "                      journal_name language  \\\n",
       "1  Frontiers in Human Neuroscience       en   \n",
       "\n",
       "                                        oa_locations published_date  \\\n",
       "1  [{'host_type': 'publisher', 'pmh_id': None, 'u...     2017-05-23   \n",
       "\n",
       "            publisher                                              title  \\\n",
       "1  Frontiers Media SA  Atypical Modulations of N170 Component during ...   \n",
       "\n",
       "                      updated  year  \\\n",
       "1  2018-06-17T15:15:41.668136  2017   \n",
       "\n",
       "                                           z_authors  \n",
       "1  [{'family': 'Trujillo', 'suffix': 'ST', 'given...  \n",
       "\n",
       "[1 rows x 39 columns]"
      ]
     },
     "execution_count": 99,
     "metadata": {},
     "output_type": "execute_result"
    }
   ],
   "source": [
    "df.loc[[1]]"
   ]
  },
  {
   "cell_type": "markdown",
   "metadata": {},
   "source": [
    "Fix GS_cites"
   ]
  },
  {
   "cell_type": "markdown",
   "metadata": {},
   "source": [
    "## split bewteen GS good and bad"
   ]
  },
  {
   "cell_type": "code",
   "execution_count": 100,
   "metadata": {},
   "outputs": [],
   "source": [
    "REBUILD=False\n",
    "if REBUILD:\n",
    "    datos=df.copy()\n",
    "    dy=datos[datos.GS_quality_title==''].reset_index(drop=True)\n",
    "    dn=datos[datos.GS_quality_title!=''].reset_index(drop=True)\n",
    "    dy['GS_quality_title']=0\n",
    "    datos=dy.append(dn).reset_index(drop=True)    \n",
    "    datosmissing=datos[datos.GS_quality_title<0.9].reset_index(drop=True)\n",
    "    datosgood=datos[datos.GS_quality_title>=0.9].reset_index(drop=True)\n",
    "\n",
    "    dy=datosmissing[datosmissing.GS_quality_author==''].reset_index(drop=True)\n",
    "    dn=datosmissing[datosmissing.GS_quality_author!=''].reset_index(drop=True)\n",
    "    dy['GS_quality_author']=0\n",
    "    datosmissing=dy.append(dn).reset_index(drop=True).reset_index(drop=True)\n",
    "\n",
    "    datosgood=datosgood.append( \n",
    "        datosmissing[ ( (datosmissing.GS_quality_title>0.6 ) \n",
    "                       & (datosmissing.GS_quality_author>=0.9 ) )].reset_index(drop=True) ).reset_index(drop=True)\n",
    "\n",
    "    datosmissing=datosmissing[ ~( (datosmissing.GS_quality_title>0.6 ) \n",
    "                       & (datosmissing.GS_quality_author>=0.9 ) )].reset_index(drop=True)\n",
    "\n",
    "    datosgood.to_json('datosgood.json')\n",
    "\n",
    "    datosmissing.to_json('datosmissing.json')\n",
    "    df=datosgood.append(datosmissing).reset_index(drop=True)"
   ]
  },
  {
   "cell_type": "markdown",
   "metadata": {},
   "source": [
    "## Análisis"
   ]
  },
  {
   "cell_type": "markdown",
   "metadata": {},
   "source": [
    "Número de artículos Open Access"
   ]
  },
  {
   "cell_type": "code",
   "execution_count": 102,
   "metadata": {},
   "outputs": [
    {
     "data": {
      "text/plain": [
       "(3628, 4362)"
      ]
     },
     "execution_count": 102,
     "metadata": {},
     "output_type": "execute_result"
    }
   ],
   "source": [
    "dfoa=df[df.Open_Access!=''].reset_index(drop=True)\n",
    "dfc=df[df.Open_Access==''].reset_index(drop=True) # close \n",
    "dfoa.shape[0],dfc.shape[0]"
   ]
  },
  {
   "cell_type": "markdown",
   "metadata": {},
   "source": [
    "Gasto en OA"
   ]
  },
  {
   "cell_type": "code",
   "execution_count": 103,
   "metadata": {},
   "outputs": [
    {
     "data": {
      "text/plain": [
       "1001070"
      ]
     },
     "execution_count": 103,
     "metadata": {},
     "output_type": "execute_result"
    }
   ],
   "source": [
    "df.APC_USD.sum()"
   ]
  },
  {
   "cell_type": "code",
   "execution_count": 104,
   "metadata": {},
   "outputs": [
    {
     "data": {
      "text/plain": [
       "1001070"
      ]
     },
     "execution_count": 104,
     "metadata": {},
     "output_type": "execute_result"
    }
   ],
   "source": [
    "dfoa.APC_USD.sum()"
   ]
  },
  {
   "cell_type": "markdown",
   "metadata": {},
   "source": [
    "Citas OA"
   ]
  },
  {
   "cell_type": "code",
   "execution_count": 105,
   "metadata": {},
   "outputs": [
    {
     "data": {
      "text/plain": [
       "81051"
      ]
     },
     "execution_count": 105,
     "metadata": {},
     "output_type": "execute_result"
    }
   ],
   "source": [
    "dfoa.GS_cites.sum()"
   ]
  },
  {
   "cell_type": "markdown",
   "metadata": {},
   "source": [
    "Falta bajar para no OA ?"
   ]
  },
  {
   "cell_type": "code",
   "execution_count": 106,
   "metadata": {},
   "outputs": [
    {
     "data": {
      "text/plain": [
       "91284"
      ]
     },
     "execution_count": 106,
     "metadata": {},
     "output_type": "execute_result"
    }
   ],
   "source": [
    "dfc.GS_cites.sum()"
   ]
  },
  {
   "cell_type": "code",
   "execution_count": 107,
   "metadata": {},
   "outputs": [
    {
     "data": {
      "text/plain": [
       "(2338, 39)"
      ]
     },
     "execution_count": 107,
     "metadata": {},
     "output_type": "execute_result"
    }
   ],
   "source": [
    "datosmissing.shape"
   ]
  },
  {
   "cell_type": "code",
   "execution_count": 108,
   "metadata": {},
   "outputs": [
    {
     "data": {
      "text/plain": [
       "(7990, 39)"
      ]
     },
     "execution_count": 108,
     "metadata": {},
     "output_type": "execute_result"
    }
   ],
   "source": [
    "df.shape"
   ]
  },
  {
   "cell_type": "code",
   "execution_count": 109,
   "metadata": {},
   "outputs": [],
   "source": [
    "REBUILD=False\n",
    "GSYES=datosgood\n",
    "GSNOT=datosmissing"
   ]
  },
  {
   "cell_type": "code",
   "execution_count": 111,
   "metadata": {},
   "outputs": [],
   "source": [
    "if REBUILD:\n",
    "    \n",
    "    import pandas as pd\n",
    "\n",
    "    noa=pd.read_json('gasnooa.json').reset_index(drop=True)\n",
    "\n",
    "\n",
    "    GSNOT=GSNOT.drop(['GS_Journal', 'GS_Year', 'GS_abstract', 'GS_authors',\n",
    "           'GS_cites', 'GS_cites_link', 'GS_profiles',  'GS_title',\n",
    "           'GS_PDF','GS_old_title','GS_quality_author','GS_quality_title','GS_ref'],axis='columns')\n",
    "    \n",
    "    noags=wp.columns_add_prefix(noa,'GS').rename({'GS_DOI':'DOI'},axis='columns')\n",
    "\n",
    "    GSNOTgs=GSNOT[GSNOT.DOI!=''].merge(noags[noags.DOI!=''],on='DOI',how='left').reset_index(drop=True)\n",
    "\n",
    "    GSNOTgs=GSNOTgs.drop_duplicates('DOI').reset_index(drop=True)\n",
    "\n",
    "    GSNOTgs['GS_cites']=GSNOTgs.GS_cites.fillna(0).astype(int)\n",
    "\n",
    "    kk=GSYES.append( GSNOTgs,sort=True ).reset_index(drop=True)\n",
    "    kk.fillna('').to_json('data/oaudea.json')"
   ]
  },
  {
   "cell_type": "code",
   "execution_count": 25,
   "metadata": {},
   "outputs": [],
   "source": [
    "mkdir data"
   ]
  },
  {
   "cell_type": "code",
   "execution_count": null,
   "metadata": {},
   "outputs": [],
   "source": []
  }
 ],
 "metadata": {
  "colab": {
   "collapsed_sections": [],
   "name": "Copy of OpenAccess.ipynb",
   "provenance": [],
   "version": "0.3.2"
  },
  "kernelspec": {
   "display_name": "Python 3",
   "language": "python",
   "name": "python3"
  },
  "language_info": {
   "codemirror_mode": {
    "name": "ipython",
    "version": 3
   },
   "file_extension": ".py",
   "mimetype": "text/x-python",
   "name": "python",
   "nbconvert_exporter": "python",
   "pygments_lexer": "ipython3",
   "version": "3.5.3"
  },
  "latex_envs": {
   "LaTeX_envs_menu_present": true,
   "bibliofile": "biblio.bib",
   "cite_by": "apalike",
   "current_citInitial": 1,
   "eqLabelWithNumbers": true,
   "eqNumInitial": 1,
   "labels_anchors": false,
   "latex_user_defs": false,
   "report_style_numbering": false,
   "user_envs_cfg": false
  },
  "toc": {
   "colors": {
    "hover_highlight": "#DAA520",
    "running_highlight": "#FF0000",
    "selected_highlight": "#FFD700"
   },
   "moveMenuLeft": true,
   "nav_menu": {
    "height": "512px",
    "width": "252px"
   },
   "navigate_menu": true,
   "number_sections": true,
   "sideBar": true,
   "threshold": 4,
   "toc_cell": false,
   "toc_section_display": "block",
   "toc_window_display": false
  }
 },
 "nbformat": 4,
 "nbformat_minor": 1
}
