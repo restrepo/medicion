{
  "nbformat": 4,
  "nbformat_minor": 0,
  "metadata": {
    "colab": {
      "name": "Copy of OpenAccess.ipynb",
      "version": "0.3.2",
      "provenance": [],
      "collapsed_sections": [],
      "include_colab_link": true
    },
    "kernelspec": {
      "display_name": "Python 3",
      "language": "python",
      "name": "python3"
    }
  },
  "cells": [
    {
      "cell_type": "markdown",
      "metadata": {
        "id": "view-in-github",
        "colab_type": "text"
      },
      "source": [
        "<a href=\"https://colab.research.google.com/github/restrepo/medicion/blob/master/cienciometria/OpenAccess-GoogleScholar.ipynb\" target=\"_parent\"><img src=\"https://colab.research.google.com/assets/colab-badge.svg\" alt=\"Open In Colab\"/></a>"
      ]
    },
    {
      "metadata": {
        "colab_type": "text",
        "id": "uu-sf4Ukvbb-"
      },
      "cell_type": "markdown",
      "source": [
        "# Open Access - Google Scholar\n",
        "La base de datos oaudea.json que fue creada con: [oaudea.ipynb](./oaudea.ipynb)\n",
        "\n",
        "Está basada en la combinación de:\n",
        "\n",
        "* Web of Science con Scopus y Scielo (Web of science) para la extración de la columna de DOIS e ISSNs de las revistas  de los artículos de la UdeA\n",
        "* oadoi.org para la identificación de artículos Open Access\n",
        "* DOAJ para obetener la información del APC basada en la identificación de los ISSNs de las revistas\n",
        "* Búsqueda en google scholar (GS) de cada artículo basada en DOI y en título"
      ]
    },
    {
      "metadata": {
        "id": "CovA3aV3pIbz",
        "colab_type": "code",
        "colab": {}
      },
      "cell_type": "code",
      "source": [
        "!pip install wosplus"
      ],
      "execution_count": 0,
      "outputs": []
    },
    {
      "metadata": {
        "id": "m7W9pXMrpDb_",
        "colab_type": "code",
        "colab": {}
      },
      "cell_type": "code",
      "source": [
        "import wosplus as wp"
      ],
      "execution_count": 0,
      "outputs": []
    },
    {
      "metadata": {
        "id": "dIQoAUtspDcB",
        "colab_type": "code",
        "colab": {},
        "outputId": "443db7ca-c739-4180-9cde-2f779551f23a"
      },
      "cell_type": "code",
      "source": [
        "%%writefile drive.cfg\n",
        "[FILES]\n",
        "DOIS.xlsx               = 1bikNT7Gmp4G7dfeMuGsF-az7D8lskK0O\n",
        "UDEA_WOS_SCI_SCP.xlsx   = 1o9otmklgh-0w18Avv2ZTKOXr3vZbjwvj\n",
        "oaudea.xlsx             = 1CcwobiEFACIbffNzNdLxpdxQukr8cZ5x\n",
        "datos1.csv              = 11CyLRZZwVbgw6YAC-igRJ3mrkIwk0aaiXnd-EOofYTI\n",
        "oa_doi.json             = 1pLaEtyM-aOhjsB6twr05OhyJToIM7h7e\n",
        "oaudea.json             = 1BmqRoQDgfpOFjXBVEfI999uaN6XX6Fkd"
      ],
      "execution_count": 0,
      "outputs": [
        {
          "output_type": "stream",
          "text": [
            "Overwriting drive.cfg\n"
          ],
          "name": "stdout"
        }
      ]
    },
    {
      "metadata": {
        "id": "KRJin_uXpDcG",
        "colab_type": "code",
        "colab": {}
      },
      "cell_type": "code",
      "source": [
        "oa=wp.wosplus('drive.cfg')"
      ],
      "execution_count": 0,
      "outputs": []
    },
    {
      "metadata": {
        "id": "wNaYQQ_fpDcH",
        "colab_type": "code",
        "colab": {}
      },
      "cell_type": "code",
      "source": [
        "df=oa.read_drive_json('oaudea.json')"
      ],
      "execution_count": 0,
      "outputs": []
    },
    {
      "metadata": {
        "id": "9b8EtIj9pDcJ",
        "colab_type": "code",
        "colab": {},
        "outputId": "a14e51e4-3252-4d93-bc5f-c6375a3a8ab3"
      },
      "cell_type": "code",
      "source": [
        "df.shape"
      ],
      "execution_count": 0,
      "outputs": [
        {
          "output_type": "execute_result",
          "data": {
            "text/plain": [
              "(7990, 39)"
            ]
          },
          "metadata": {
            "tags": []
          },
          "execution_count": 35
        }
      ]
    },
    {
      "metadata": {
        "scrolled": true,
        "id": "oBK6hYTjpDcL",
        "colab_type": "code",
        "colab": {},
        "outputId": "0c171064-84a3-4c83-fa22-d21925d96f7e"
      },
      "cell_type": "code",
      "source": [
        "df.loc[[1]]"
      ],
      "execution_count": 0,
      "outputs": [
        {
          "output_type": "execute_result",
          "data": {
            "text/html": [
              "<div>\n",
              "<style scoped>\n",
              "    .dataframe tbody tr th:only-of-type {\n",
              "        vertical-align: middle;\n",
              "    }\n",
              "\n",
              "    .dataframe tbody tr th {\n",
              "        vertical-align: top;\n",
              "    }\n",
              "\n",
              "    .dataframe thead th {\n",
              "        text-align: right;\n",
              "    }\n",
              "</style>\n",
              "<table border=\"1\" class=\"dataframe\">\n",
              "  <thead>\n",
              "    <tr style=\"text-align: right;\">\n",
              "      <th></th>\n",
              "      <th>APC</th>\n",
              "      <th>APC_USD</th>\n",
              "      <th>DOI</th>\n",
              "      <th>GS_Journal</th>\n",
              "      <th>GS_PDF</th>\n",
              "      <th>GS_Year</th>\n",
              "      <th>GS_abstract</th>\n",
              "      <th>GS_authors</th>\n",
              "      <th>GS_cites</th>\n",
              "      <th>GS_cites_link</th>\n",
              "      <th>...</th>\n",
              "      <th>journal_issns</th>\n",
              "      <th>journal_name</th>\n",
              "      <th>language</th>\n",
              "      <th>oa_locations</th>\n",
              "      <th>published_date</th>\n",
              "      <th>publisher</th>\n",
              "      <th>title</th>\n",
              "      <th>updated</th>\n",
              "      <th>year</th>\n",
              "      <th>z_authors</th>\n",
              "    </tr>\n",
              "  </thead>\n",
              "  <tbody>\n",
              "    <tr>\n",
              "      <th>1</th>\n",
              "      <td>0NOT</td>\n",
              "      <td>0</td>\n",
              "      <td>10.1016/s0370-2693(99)01040-0</td>\n",
              "      <td>Lorenzana</td>\n",
              "      <td></td>\n",
              "      <td>-1</td>\n",
              "      <td>Skip to main content \\n</td>\n",
              "      <td>A Perez</td>\n",
              "      <td>6</td>\n",
              "      <td>/scholar?cites=7204515635894942882&amp;as_sdt=2005...</td>\n",
              "      <td>...</td>\n",
              "      <td>0370-2693</td>\n",
              "      <td>Physics Letters B</td>\n",
              "      <td>en</td>\n",
              "      <td>[{'version': 'submittedVersion', 'host_type': ...</td>\n",
              "      <td>1999-10-01</td>\n",
              "      <td>Elsevier BV</td>\n",
              "      <td>An [SU(3)]4 supersymmetric grand unified model</td>\n",
              "      <td>2018-06-17T11:59:16.138320</td>\n",
              "      <td>1999</td>\n",
              "      <td>[{'given': 'Abdel', 'family': 'Pérez-Lorenzana...</td>\n",
              "    </tr>\n",
              "  </tbody>\n",
              "</table>\n",
              "<p>1 rows × 39 columns</p>\n",
              "</div>"
            ],
            "text/plain": [
              "    APC  APC_USD                            DOI GS_Journal GS_PDF GS_Year  \\\n",
              "1  0NOT        0  10.1016/s0370-2693(99)01040-0  Lorenzana             -1   \n",
              "\n",
              "               GS_abstract GS_authors GS_cites  \\\n",
              "1  Skip to main content \\n    A Perez        6   \n",
              "\n",
              "                                       GS_cites_link  \\\n",
              "1  /scholar?cites=7204515635894942882&as_sdt=2005...   \n",
              "\n",
              "                         ...                         journal_issns  \\\n",
              "1                        ...                             0370-2693   \n",
              "\n",
              "        journal_name language  \\\n",
              "1  Physics Letters B       en   \n",
              "\n",
              "                                        oa_locations published_date  \\\n",
              "1  [{'version': 'submittedVersion', 'host_type': ...     1999-10-01   \n",
              "\n",
              "     publisher                                           title  \\\n",
              "1  Elsevier BV  An [SU(3)]4 supersymmetric grand unified model   \n",
              "\n",
              "                      updated  year  \\\n",
              "1  2018-06-17T11:59:16.138320  1999   \n",
              "\n",
              "                                           z_authors  \n",
              "1  [{'given': 'Abdel', 'family': 'Pérez-Lorenzana...  \n",
              "\n",
              "[1 rows x 39 columns]"
            ]
          },
          "metadata": {
            "tags": []
          },
          "execution_count": 36
        }
      ]
    },
    {
      "metadata": {
        "id": "WUr8glrvpDcO",
        "colab_type": "text"
      },
      "cell_type": "markdown",
      "source": [
        "Fix GS_cites"
      ]
    },
    {
      "metadata": {
        "id": "jPIYlwJHpDcP",
        "colab_type": "code",
        "colab": {}
      },
      "cell_type": "code",
      "source": [
        "dfn=df[df.GS_cites==''].reset_index(drop=True)\n",
        "dfy=df[df.GS_cites!=''].reset_index(drop=True)\n",
        "dfn['GS_cites']=0\n",
        "df=dfy.append(dfn).reset_index(drop=True)"
      ],
      "execution_count": 0,
      "outputs": []
    },
    {
      "metadata": {
        "id": "i35_h1dWpDcQ",
        "colab_type": "text"
      },
      "cell_type": "markdown",
      "source": [
        "## Análisis"
      ]
    },
    {
      "metadata": {
        "id": "JTwiXADCpDcR",
        "colab_type": "text"
      },
      "cell_type": "markdown",
      "source": [
        "Número de artículos Open Access"
      ]
    },
    {
      "metadata": {
        "id": "CwGjJ_14pDcS",
        "colab_type": "code",
        "colab": {},
        "outputId": "5ed99fb6-9892-47c6-dcf6-a7ff2844a2d2"
      },
      "cell_type": "code",
      "source": [
        "dfoa=df[df.Open_Access!=''].reset_index(drop=True)\n",
        "dfc=df[df.Open_Access==''].reset_index(drop=True) # close \n",
        "dfoa.shape[0],dfc.shape[0]"
      ],
      "execution_count": 0,
      "outputs": [
        {
          "output_type": "execute_result",
          "data": {
            "text/plain": [
              "(3628, 4362)"
            ]
          },
          "metadata": {
            "tags": []
          },
          "execution_count": 53
        }
      ]
    },
    {
      "metadata": {
        "id": "-kM5x-XHpDcU",
        "colab_type": "text"
      },
      "cell_type": "markdown",
      "source": [
        "Gasto en OA"
      ]
    },
    {
      "metadata": {
        "id": "i_ME_82VpDcV",
        "colab_type": "code",
        "colab": {},
        "outputId": "bc8658f6-8a13-48c9-cc25-a98e7d80ef31"
      },
      "cell_type": "code",
      "source": [
        "df.APC_USD.sum()"
      ],
      "execution_count": 0,
      "outputs": [
        {
          "output_type": "execute_result",
          "data": {
            "text/plain": [
              "1001070"
            ]
          },
          "metadata": {
            "tags": []
          },
          "execution_count": 54
        }
      ]
    },
    {
      "metadata": {
        "id": "pAMTPDccpDcY",
        "colab_type": "code",
        "colab": {},
        "outputId": "3c3040e4-2221-4c56-b57c-da3ac9b147c9"
      },
      "cell_type": "code",
      "source": [
        "dfoa.APC_USD.sum()"
      ],
      "execution_count": 0,
      "outputs": [
        {
          "output_type": "execute_result",
          "data": {
            "text/plain": [
              "1001070"
            ]
          },
          "metadata": {
            "tags": []
          },
          "execution_count": 55
        }
      ]
    },
    {
      "metadata": {
        "id": "_Xa8h5JfpDca",
        "colab_type": "text"
      },
      "cell_type": "markdown",
      "source": [
        "Citas OA"
      ]
    },
    {
      "metadata": {
        "id": "xYpqtWZvpDcc",
        "colab_type": "code",
        "colab": {},
        "outputId": "0f82f10a-6eb4-48aa-a47c-7df434c708fc"
      },
      "cell_type": "code",
      "source": [
        "dfoa.GS_cites.sum()"
      ],
      "execution_count": 0,
      "outputs": [
        {
          "output_type": "execute_result",
          "data": {
            "text/plain": [
              "73963.0"
            ]
          },
          "metadata": {
            "tags": []
          },
          "execution_count": 56
        }
      ]
    },
    {
      "metadata": {
        "id": "_zqdzfGQpDcg",
        "colab_type": "text"
      },
      "cell_type": "markdown",
      "source": [
        "Falta bajar para no OA ?"
      ]
    },
    {
      "metadata": {
        "id": "aWi0Ld8apDch",
        "colab_type": "code",
        "colab": {},
        "outputId": "4796f15b-dcb5-4e1e-d233-d752171aac3d"
      },
      "cell_type": "code",
      "source": [
        "dfc.GS_cites.sum()"
      ],
      "execution_count": 0,
      "outputs": [
        {
          "output_type": "execute_result",
          "data": {
            "text/plain": [
              "0"
            ]
          },
          "metadata": {
            "tags": []
          },
          "execution_count": 57
        }
      ]
    },
    {
      "metadata": {
        "id": "ShqxS3sCpDcl",
        "colab_type": "code",
        "colab": {}
      },
      "cell_type": "code",
      "source": [
        ""
      ],
      "execution_count": 0,
      "outputs": []
    }
  ]
}