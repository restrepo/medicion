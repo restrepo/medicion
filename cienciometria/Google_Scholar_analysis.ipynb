{
 "cells": [
  {
   "cell_type": "markdown",
   "metadata": {},
   "source": [
    "#  Citas Google Scholar\n",
    "Citas google scholar para los artículos de la UdeA"
   ]
  },
  {
   "cell_type": "code",
   "execution_count": 2,
   "metadata": {},
   "outputs": [],
   "source": [
    "import pandas as pd"
   ]
  },
  {
   "cell_type": "code",
   "execution_count": 10,
   "metadata": {},
   "outputs": [],
   "source": [
    "class names:\n",
    "    def __init__(self,x):\n",
    "        self.json=x+'.json'\n",
    "        self.csv=x+'.csv'\n",
    "        self.xlsx=x+'.xlsx'"
   ]
  },
  {
   "cell_type": "code",
   "execution_count": 11,
   "metadata": {},
   "outputs": [],
   "source": [
    "gsudea=names('https://github.com/restrepo/medicion/raw/master/cienciometria/data/gsudea')"
   ]
  },
  {
   "cell_type": "code",
   "execution_count": 12,
   "metadata": {},
   "outputs": [],
   "source": [
    "gsudea=pd.read_json(gsudea.json)"
   ]
  },
  {
   "cell_type": "code",
   "execution_count": 14,
   "metadata": {},
   "outputs": [],
   "source": [
    "datos=gsudea.copy()"
   ]
  },
  {
   "cell_type": "code",
   "execution_count": 15,
   "metadata": {},
   "outputs": [],
   "source": [
    "REBUILD=True\n",
    "if REBUILD:\n",
    "    dy=datos[datos.quality_title==''].reset_index(drop=True)\n",
    "    dn=datos[datos.quality_title!=''].reset_index(drop=True)\n",
    "    dy['quality_title']=0\n",
    "    datos=dy.append(dn).reset_index(drop=True)\n",
    "\n",
    "    datosmissing=datos[datos.quality_title<0.9].reset_index(drop=True)\n",
    "    datosgood=datos[datos.quality_title>=0.9].reset_index(drop=True)\n",
    "\n",
    "    dy=datosmissing[datosmissing.quality_author==''].reset_index(drop=True)\n",
    "    dn=datosmissing[datosmissing.quality_author!=''].reset_index(drop=True)\n",
    "    dy['quality_author']=0\n",
    "    datosmissing=dy.append(dn).reset_index(drop=True).reset_index(drop=True)\n",
    "\n",
    "    datosgood=datosgood.append( \n",
    "        datosmissing[ ( (datosmissing.quality_title>0.6 ) \n",
    "                       & (datosmissing.quality_author>=0.9 ) )].reset_index(drop=True) ).reset_index(drop=True)\n",
    "\n",
    "    datosmissing=datosmissing[ ~( (datosmissing.quality_title>0.6 ) \n",
    "                       & (datosmissing.quality_author>=0.9 ) )].reset_index(drop=True)"
   ]
  },
  {
   "cell_type": "code",
   "execution_count": 16,
   "metadata": {},
   "outputs": [
    {
     "data": {
      "text/plain": [
       "(13260, 2241)"
      ]
     },
     "execution_count": 16,
     "metadata": {},
     "output_type": "execute_result"
    }
   ],
   "source": [
    "datosgood.shape[0],datosmissing.shape[0]"
   ]
  },
  {
   "cell_type": "code",
   "execution_count": 17,
   "metadata": {},
   "outputs": [
    {
     "data": {
      "text/plain": [
       "(208285, 23038)"
      ]
     },
     "execution_count": 17,
     "metadata": {},
     "output_type": "execute_result"
    }
   ],
   "source": [
    "datosgood.cites.sum(),datosmissing.cites.sum()"
   ]
  },
  {
   "cell_type": "code",
   "execution_count": 18,
   "metadata": {},
   "outputs": [],
   "source": [
    "gsudea.to_excel('gsudea.xlsx',index=False)"
   ]
  },
  {
   "cell_type": "code",
   "execution_count": null,
   "metadata": {},
   "outputs": [],
   "source": []
  }
 ],
 "metadata": {
  "kernelspec": {
   "display_name": "Python 3",
   "language": "python",
   "name": "python3"
  },
  "language_info": {
   "codemirror_mode": {
    "name": "ipython",
    "version": 3
   },
   "file_extension": ".py",
   "mimetype": "text/x-python",
   "name": "python",
   "nbconvert_exporter": "python",
   "pygments_lexer": "ipython3",
   "version": "3.5.3"
  }
 },
 "nbformat": 4,
 "nbformat_minor": 2
}
