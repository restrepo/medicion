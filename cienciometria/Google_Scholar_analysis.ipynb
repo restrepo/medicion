{
  "nbformat": 4,
  "nbformat_minor": 0,
  "metadata": {
    "colab": {
      "name": "Google_Scholar_analysis.ipynb",
      "version": "0.3.2",
      "provenance": [],
      "include_colab_link": true
    },
    "kernelspec": {
      "display_name": "Python 3",
      "language": "python",
      "name": "python3"
    }
  },
  "cells": [
    {
      "cell_type": "markdown",
      "metadata": {
        "id": "view-in-github",
        "colab_type": "text"
      },
      "source": [
        "<a href=\"https://colab.research.google.com/github/restrepo/medicion/blob/master/cienciometria/Google_Scholar_analysis.ipynb\" target=\"_parent\"><img src=\"https://colab.research.google.com/assets/colab-badge.svg\" alt=\"Open In Colab\"/></a>"
      ]
    },
    {
      "metadata": {
        "id": "pn-H-1P0qcAl",
        "colab_type": "text"
      },
      "cell_type": "markdown",
      "source": [
        "#  Citas Google Scholar\n",
        "Citas google scholar para los artículos de la UdeA"
      ]
    },
    {
      "metadata": {
        "id": "P8VX2SQlqcAv",
        "colab_type": "code",
        "colab": {}
      },
      "cell_type": "code",
      "source": [
        "import pandas as pd"
      ],
      "execution_count": 0,
      "outputs": []
    },
    {
      "metadata": {
        "id": "rfe2Nhc2qcBG",
        "colab_type": "code",
        "colab": {}
      },
      "cell_type": "code",
      "source": [
        "class names:\n",
        "    def __init__(self,x):\n",
        "        self.json=x+'.json'\n",
        "        self.jsongz=x+'.json.gz'\n",
        "        self.csv=x+' .csv'\n",
        "        self.xlsx=x+'.xlsx'"
      ],
      "execution_count": 0,
      "outputs": []
    },
    {
      "metadata": {
        "id": "s8SOQ0hHqcBQ",
        "colab_type": "code",
        "colab": {}
      },
      "cell_type": "code",
      "source": [
        "gsudea=names('https://github.com/restrepo/medicion/raw/master/cienciometria/data/gsudea')"
      ],
      "execution_count": 0,
      "outputs": []
    },
    {
      "metadata": {
        "id": "AK89nwfsqcBZ",
        "colab_type": "code",
        "colab": {}
      },
      "cell_type": "code",
      "source": [
        "gsudea=pd.read_json(gsudea.jsongz,compression='gzip')"
      ],
      "execution_count": 0,
      "outputs": []
    },
    {
      "metadata": {
        "id": "EF0o7QbTqcBq",
        "colab_type": "code",
        "colab": {}
      },
      "cell_type": "code",
      "source": [
        "datos=gsudea.copy()"
      ],
      "execution_count": 0,
      "outputs": []
    },
    {
      "metadata": {
        "id": "1YNo-sMWqcB0",
        "colab_type": "code",
        "colab": {}
      },
      "cell_type": "code",
      "source": [
        "REBUILD=True\n",
        "if REBUILD:\n",
        "    dy=datos[datos.quality_title==''].reset_index(drop=True)\n",
        "    dn=datos[datos.quality_title!=''].reset_index(drop=True)\n",
        "    dy['quality_title']=0\n",
        "    datos=dy.append(dn).reset_index(drop=True)\n",
        "\n",
        "    datosmissing=datos[datos.quality_title<0.9].reset_index(drop=True)\n",
        "    datosgood=datos[datos.quality_title>=0.9].reset_index(drop=True)\n",
        "\n",
        "    dy=datosmissing[datosmissing.quality_author==''].reset_index(drop=True)\n",
        "    dn=datosmissing[datosmissing.quality_author!=''].reset_index(drop=True)\n",
        "    dy['quality_author']=0\n",
        "    datosmissing=dy.append(dn).reset_index(drop=True).reset_index(drop=True)\n",
        "\n",
        "    datosgood=datosgood.append( \n",
        "        datosmissing[ ( (datosmissing.quality_title>0.6 ) \n",
        "                       & (datosmissing.quality_author>=0.9 ) )].reset_index(drop=True) ).reset_index(drop=True)\n",
        "\n",
        "    datosmissing=datosmissing[ ~( (datosmissing.quality_title>0.6 ) \n",
        "                       & (datosmissing.quality_author>=0.9 ) )].reset_index(drop=True)"
      ],
      "execution_count": 0,
      "outputs": []
    },
    {
      "metadata": {
        "id": "hWWCJS1DqcB9",
        "colab_type": "code",
        "colab": {
          "base_uri": "https://localhost:8080/",
          "height": 34
        },
        "outputId": "995df805-d528-40fe-80cf-815aa63864f5"
      },
      "cell_type": "code",
      "source": [
        "datosgood.shape[0],datosmissing.shape[0]"
      ],
      "execution_count": 11,
      "outputs": [
        {
          "output_type": "execute_result",
          "data": {
            "text/plain": [
              "(13260, 2241)"
            ]
          },
          "metadata": {
            "tags": []
          },
          "execution_count": 11
        }
      ]
    },
    {
      "metadata": {
        "id": "ZaJHFifSqcCQ",
        "colab_type": "code",
        "colab": {
          "base_uri": "https://localhost:8080/",
          "height": 34
        },
        "outputId": "197aca1b-ea96-4aca-f6f2-e597f5c2a144"
      },
      "cell_type": "code",
      "source": [
        "datosgood.cites.sum(),datosmissing.cites.sum()"
      ],
      "execution_count": 12,
      "outputs": [
        {
          "output_type": "execute_result",
          "data": {
            "text/plain": [
              "(208285, 23038)"
            ]
          },
          "metadata": {
            "tags": []
          },
          "execution_count": 12
        }
      ]
    },
    {
      "metadata": {
        "id": "LNEwK01JqcCd",
        "colab_type": "code",
        "colab": {}
      },
      "cell_type": "code",
      "source": [
        "gsudea.to_excel('gsudea.xlsx',index=False)"
      ],
      "execution_count": 0,
      "outputs": []
    },
    {
      "metadata": {
        "id": "ROr8RC8GqcCm",
        "colab_type": "code",
        "colab": {
          "base_uri": "https://localhost:8080/",
          "height": 54
        },
        "outputId": "be4e1530-eea7-4a99-a01b-0959fd6fecb3"
      },
      "cell_type": "code",
      "source": [
        "ls -lh gsudea.xlsx"
      ],
      "execution_count": 14,
      "outputs": [
        {
          "output_type": "stream",
          "text": [
            "-rw-r--r-- 1 root root 5.4M Mar 14 19:33 gsudea.xlsx\n"
          ],
          "name": "stdout"
        }
      ]
    }
  ]
}