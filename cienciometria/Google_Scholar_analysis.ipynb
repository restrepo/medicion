{
 "cells": [
  {
   "cell_type": "markdown",
   "metadata": {
    "colab_type": "text",
    "id": "view-in-github"
   },
   "source": [
    "<a href=\"https://colab.research.google.com/github/restrepo/medicion/blob/master/cienciometria/Google_Scholar_analysis.ipynb\" target=\"_parent\"><img src=\"https://colab.research.google.com/assets/colab-badge.svg\" alt=\"Open In Colab\"/></a>"
   ]
  },
  {
   "cell_type": "markdown",
   "metadata": {
    "colab_type": "text",
    "id": "pn-H-1P0qcAl"
   },
   "source": [
    "#  Citas Google Scholar\n",
    "Citas google scholar para los artículos de la UdeA"
   ]
  },
  {
   "cell_type": "code",
   "execution_count": 0,
   "metadata": {
    "colab": {},
    "colab_type": "code",
    "id": "P8VX2SQlqcAv"
   },
   "outputs": [],
   "source": [
    "import pandas as pd"
   ]
  },
  {
   "cell_type": "code",
   "execution_count": 0,
   "metadata": {
    "colab": {},
    "colab_type": "code",
    "id": "rfe2Nhc2qcBG"
   },
   "outputs": [],
   "source": [
    "class names:\n",
    "    def __init__(self,x):\n",
    "        self.json=x+'.json'\n",
    "        self.jsongz=x+'.json.gz'\n",
    "        self.csv=x+' .csv'\n",
    "        self.xlsx=x+'.xlsx'"
   ]
  },
  {
   "cell_type": "code",
   "execution_count": 0,
   "metadata": {
    "colab": {},
    "colab_type": "code",
    "id": "s8SOQ0hHqcBQ"
   },
   "outputs": [],
   "source": [
    "gsudea=names('https://github.com/restrepo/medicion/raw/master/cienciometria/data/gsudea')"
   ]
  },
  {
   "cell_type": "code",
   "execution_count": 0,
   "metadata": {
    "colab": {},
    "colab_type": "code",
    "id": "AK89nwfsqcBZ"
   },
   "outputs": [],
   "source": [
    "gsudea=pd.read_json(gsudea.jsongz,compression='gzip')"
   ]
  },
  {
   "cell_type": "code",
   "execution_count": 0,
   "metadata": {
    "colab": {},
    "colab_type": "code",
    "id": "EF0o7QbTqcBq"
   },
   "outputs": [],
   "source": [
    "datos=gsudea.copy()"
   ]
  },
  {
   "cell_type": "code",
   "execution_count": 0,
   "metadata": {
    "colab": {},
    "colab_type": "code",
    "id": "1YNo-sMWqcB0"
   },
   "outputs": [],
   "source": [
    "REBUILD=True\n",
    "if REBUILD:\n",
    "    dy=datos[datos.quality_title==''].reset_index(drop=True)\n",
    "    dn=datos[datos.quality_title!=''].reset_index(drop=True)\n",
    "    dy['quality_title']=0\n",
    "    datos=dy.append(dn).reset_index(drop=True)\n",
    "\n",
    "    datosmissing=datos[datos.quality_title<0.9].reset_index(drop=True)\n",
    "    datosgood=datos[datos.quality_title>=0.9].reset_index(drop=True)\n",
    "\n",
    "    dy=datosmissing[datosmissing.quality_author==''].reset_index(drop=True)\n",
    "    dn=datosmissing[datosmissing.quality_author!=''].reset_index(drop=True)\n",
    "    dy['quality_author']=0\n",
    "    datosmissing=dy.append(dn).reset_index(drop=True).reset_index(drop=True)\n",
    "\n",
    "    datosgood=datosgood.append( \n",
    "        datosmissing[ ( (datosmissing.quality_title>0.6 ) \n",
    "                       & (datosmissing.quality_author>=0.9 ) )].reset_index(drop=True) ).reset_index(drop=True)\n",
    "\n",
    "    datosmissing=datosmissing[ ~( (datosmissing.quality_title>0.6 ) \n",
    "                       & (datosmissing.quality_author>=0.9 ) )].reset_index(drop=True)"
   ]
  },
  {
   "cell_type": "code",
   "execution_count": 11,
   "metadata": {
    "colab": {
     "base_uri": "https://localhost:8080/",
     "height": 34
    },
    "colab_type": "code",
    "id": "hWWCJS1DqcB9",
    "outputId": "995df805-d528-40fe-80cf-815aa63864f5"
   },
   "outputs": [
    {
     "data": {
      "text/plain": [
       "(13260, 2241)"
      ]
     },
     "execution_count": 11,
     "metadata": {
      "tags": []
     },
     "output_type": "execute_result"
    }
   ],
   "source": [
    "datosgood.shape[0],datosmissing.shape[0]"
   ]
  },
  {
   "cell_type": "code",
   "execution_count": 12,
   "metadata": {
    "colab": {
     "base_uri": "https://localhost:8080/",
     "height": 34
    },
    "colab_type": "code",
    "id": "ZaJHFifSqcCQ",
    "outputId": "197aca1b-ea96-4aca-f6f2-e597f5c2a144"
   },
   "outputs": [
    {
     "data": {
      "text/plain": [
       "(208285, 23038)"
      ]
     },
     "execution_count": 12,
     "metadata": {
      "tags": []
     },
     "output_type": "execute_result"
    }
   ],
   "source": [
    "datosgood.cites.sum(),datosmissing.cites.sum()"
   ]
  },
  {
   "cell_type": "code",
   "execution_count": 0,
   "metadata": {
    "colab": {},
    "colab_type": "code",
    "id": "LNEwK01JqcCd"
   },
   "outputs": [],
   "source": [
    "gsudea.to_excel('gsudea.xlsx',index=False)"
   ]
  },
  {
   "cell_type": "code",
   "execution_count": 14,
   "metadata": {
    "colab": {
     "base_uri": "https://localhost:8080/",
     "height": 54
    },
    "colab_type": "code",
    "id": "ROr8RC8GqcCm",
    "outputId": "be4e1530-eea7-4a99-a01b-0959fd6fecb3"
   },
   "outputs": [
    {
     "name": "stdout",
     "output_type": "stream",
     "text": [
      "-rw-r--r-- 1 root root 5.4M Mar 14 19:33 gsudea.xlsx\n"
     ]
    }
   ],
   "source": [
    "ls -lh gsudea.xlsx"
   ]
  }
 ],
 "metadata": {
  "colab": {
   "include_colab_link": true,
   "name": "Google_Scholar_analysis.ipynb",
   "provenance": [],
   "version": "0.3.2"
  },
  "kernelspec": {
   "display_name": "Python 3",
   "language": "python",
   "name": "python3"
  },
  "language_info": {
   "codemirror_mode": {
    "name": "ipython",
    "version": 3
   },
   "file_extension": ".py",
   "mimetype": "text/x-python",
   "name": "python",
   "nbconvert_exporter": "python",
   "pygments_lexer": "ipython3",
   "version": "3.5.3"
  }
 },
 "nbformat": 4,
 "nbformat_minor": 1
}
