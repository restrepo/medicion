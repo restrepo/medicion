{
  "nbformat": 4,
  "nbformat_minor": 0,
  "metadata": {
    "colab": {
      "name": "GS_format_UDEA.ipynb",
      "provenance": [],
      "collapsed_sections": [],
      "include_colab_link": true
    },
    "kernelspec": {
      "display_name": "Python 3",
      "language": "python",
      "name": "python3"
    },
    "language_info": {
      "codemirror_mode": {
        "name": "ipython",
        "version": 3
      },
      "file_extension": ".py",
      "mimetype": "text/x-python",
      "name": "python",
      "nbconvert_exporter": "python",
      "pygments_lexer": "ipython3",
      "version": "3.5.3"
    },
    "latex_envs": {
      "LaTeX_envs_menu_present": true,
      "autoclose": false,
      "autocomplete": true,
      "bibliofile": "biblio.bib",
      "cite_by": "apalike",
      "current_citInitial": 1,
      "eqLabelWithNumbers": true,
      "eqNumInitial": 1,
      "hotkeys": {
        "equation": "Ctrl-E",
        "itemize": "Ctrl-I"
      },
      "labels_anchors": false,
      "latex_user_defs": false,
      "report_style_numbering": false,
      "user_envs_cfg": false
    }
  },
  "cells": [
    {
      "cell_type": "markdown",
      "metadata": {
        "id": "view-in-github",
        "colab_type": "text"
      },
      "source": [
        "<a href=\"https://colab.research.google.com/github/restrepo/medicion/blob/master/cienciometria/GS_format_UDEA.ipynb\" target=\"_parent\"><img src=\"https://colab.research.google.com/assets/colab-badge.svg\" alt=\"Open In Colab\"/></a>"
      ]
    },
    {
      "cell_type": "markdown",
      "metadata": {
        "colab_type": "text",
        "id": "aDnqho-CsEwj"
      },
      "source": [
        "# WOS+SCI+SCP+PTJ+CTR filter to search GS citations"
      ]
    },
    {
      "cell_type": "code",
      "metadata": {
        "id": "UJYhW9-wmIfu",
        "colab_type": "code",
        "colab": {}
      },
      "source": [
        "import os\n",
        "VERSION='NEW'\n",
        "if os.getcwd()=='/content':\n",
        "    !pip install openpyxl xlrd wosplus > /dev/null"
      ],
      "execution_count": 0,
      "outputs": []
    },
    {
      "cell_type": "markdown",
      "metadata": {
        "id": "I4ZJlg0UmIfx",
        "colab_type": "text"
      },
      "source": [
        "## functions"
      ]
    },
    {
      "cell_type": "code",
      "metadata": {
        "colab_type": "code",
        "id": "nhk2ZGEDd2Yo",
        "colab": {}
      },
      "source": [
        "import pandas as pd\n",
        "import wosplus as wp\n",
        "pd.set_option('display.max_colwidth',200)\n",
        "from venn import draw_venn, generate_colors\n",
        "import numpy as np\n",
        "import re"
      ],
      "execution_count": 0,
      "outputs": []
    },
    {
      "cell_type": "code",
      "metadata": {
        "colab_type": "code",
        "hidden": true,
        "id": "T4Rmd2dF7JUQ",
        "outputId": "f1ace23c-7990-4967-a6a9-106732d88b98",
        "colab": {
          "base_uri": "https://localhost:8080/",
          "height": 35
        }
      },
      "source": [
        "%%writefile drive.cfg\n",
        "[FILES]\n",
        "WOS_SCI_SCP_PTJ_CTR.json.gz=19E1C1kRk4I0V3uXojqko8-NEicWaPp1j"
      ],
      "execution_count": 3,
      "outputs": [
        {
          "output_type": "stream",
          "text": [
            "Writing drive.cfg\n"
          ],
          "name": "stdout"
        }
      ]
    },
    {
      "cell_type": "markdown",
      "metadata": {
        "colab_type": "text",
        "id": "Y0D0hEdAMXUX"
      },
      "source": [
        "##  Load data bases"
      ]
    },
    {
      "cell_type": "code",
      "metadata": {
        "colab_type": "code",
        "id": "occzrIeCS7aQ",
        "colab": {}
      },
      "source": [
        "drive_files=wp.wosplus('drive.cfg')"
      ],
      "execution_count": 0,
      "outputs": []
    },
    {
      "cell_type": "code",
      "metadata": {
        "id": "j7S9acHdm0RL",
        "colab_type": "code",
        "colab": {}
      },
      "source": [
        "UDEAjsonfile='WOS_SCI_SCP_PTJ_CTR.json.gz'"
      ],
      "execution_count": 0,
      "outputs": []
    },
    {
      "cell_type": "code",
      "metadata": {
        "colab_type": "code",
        "id": "oq9QM3cBYH0a",
        "colab": {}
      },
      "source": [
        "if os.path.exists(UDEAjsonfile):\n",
        "    UDEA=               pd.read_json(UDEAjsonfile,compression='gzip').reset_index(drop=True)\n",
        "else:    \n",
        "    UDEA=drive_files.read_drive_json(UDEAjsonfile,compression='gzip').reset_index(drop=True)"
      ],
      "execution_count": 0,
      "outputs": []
    },
    {
      "cell_type": "markdown",
      "metadata": {
        "id": "wTFAldrnTJ_H",
        "colab_type": "text"
      },
      "source": [
        "Normalize authors to AU conventions"
      ]
    },
    {
      "cell_type": "code",
      "metadata": {
        "id": "S17-NNRJI6UL",
        "colab_type": "code",
        "colab": {}
      },
      "source": [
        "SCP=UDEA[UDEA['AU']==UDEA['SCP_Authors'] ].reset_index(drop=True)\n",
        "WOS=UDEA[UDEA['AU']!=UDEA['SCP_Authors'] ].reset_index(drop=True)"
      ],
      "execution_count": 0,
      "outputs": []
    },
    {
      "cell_type": "code",
      "metadata": {
        "id": "w_wlYwB0s9fy",
        "colab_type": "code",
        "colab": {}
      },
      "source": [
        "SCP['AU']=SCP['AU'].apply(lambda s: re.sub('([A-Z])$',r'\\1\\n',\n",
        "                          re.sub('([A-Z])\\.',r'\\1', #remove colons\n",
        "                          re.sub( '(\\w+)\\,(\\s\\w+\\,)',r'\\1\\2', #Fix double last names\n",
        "                          re.sub( '([a-z])\\s([A-Z])',r'\\1, \\2',#include name, last name separator  \n",
        "                          s.replace('., ','\\n'),#change to WOS separator removing colon\n",
        "                          re.UNICODE),\n",
        "                          re.UNICODE),\n",
        "                          re.UNICODE),\n",
        "                          re.UNICODE) )"
      ],
      "execution_count": 0,
      "outputs": []
    },
    {
      "cell_type": "code",
      "metadata": {
        "id": "DI6zqPS_s765",
        "colab_type": "code",
        "outputId": "ed602fa9-4d5b-45ca-834c-1c014e0427d6",
        "colab": {
          "base_uri": "https://localhost:8080/",
          "height": 35
        }
      },
      "source": [
        "UDEA=WOS.append(SCP).reset_index(drop=True)\n",
        "UDEA.shape"
      ],
      "execution_count": 11,
      "outputs": [
        {
          "output_type": "execute_result",
          "data": {
            "text/plain": [
              "(15700, 181)"
            ]
          },
          "metadata": {
            "tags": []
          },
          "execution_count": 11
        }
      ]
    },
    {
      "cell_type": "code",
      "metadata": {
        "id": "3td_9ndYwqrc",
        "colab_type": "code",
        "colab": {}
      },
      "source": [
        "UDEA.to_excel('WOS_SCI_SCP_PTJ_CTR.xlsx',index=False)"
      ],
      "execution_count": 0,
      "outputs": []
    },
    {
      "cell_type": "code",
      "metadata": {
        "id": "16qlgOEv1nkI",
        "colab_type": "code",
        "colab": {}
      },
      "source": [
        "import pandas as pd\n",
        "df=pd.DataFrame()"
      ],
      "execution_count": 0,
      "outputs": []
    },
    {
      "cell_type": "code",
      "metadata": {
        "id": "oD80NCL9s777",
        "colab_type": "code",
        "colab": {}
      },
      "source": [
        "def fill_empty_cells(r,c0='VL',c1='SCP_Volume',c2='SCI_VL'):\n",
        "    '''\n",
        "    GG\n",
        "    '''\n",
        "    if not r[c0]:\n",
        "        if r[c1]:\n",
        "            r[c0]=r[c1]\n",
        "        elif r[c2]:\n",
        "            r[c0]=r[c2]\n",
        "        else:\n",
        "            r[c0]=''\n",
        "    else:\n",
        "        r[c0]\n",
        "    return r"
      ],
      "execution_count": 0,
      "outputs": []
    },
    {
      "cell_type": "code",
      "metadata": {
        "id": "qR0ZHhuXmIgH",
        "colab_type": "code",
        "outputId": "465ce08b-1261-4de7-ceb3-3a5b539241e5",
        "colab": {
          "base_uri": "https://localhost:8080/",
          "height": 257
        }
      },
      "source": [
        "import re\n",
        "c={'SO':\"REVISTA\",'TI':\"TITULO\",'AU':\"Autor(es)\",'DI':\"DOI\",'PY':\"ANIO\",'VL':\"VOLUMEN\",'AB':\"RESUMEN\",'PU':\"INSTITUCION_REVISTA\",\n",
        "   'PI':\"PAIS_REVISTA\",'UT':\"IDARTICULO\",'IS':\"NUMERO\",'BP':\"PAGINAS\",'LA':\"IDIOMA\"}\n",
        "\n",
        "c1={'SO':'SCI_SO','TI':'SCI_TI','AU':'SCI_AU','DI':'SCI_DI','PY':'SCI_PY','VL':'SCI_VL','AB':'SCI_AB','PU':'SCI_PU','PI':'SCI_PI',\n",
        "    'UT':'SCI_UT','IS':'SCI_IS','BP':'SCI_BP','LA':'SCI_LA'}\n",
        "c2={'SO':'SCP_Source','TI':'SCP_Title','AU':'SCP_Authors','DI':'SCP_DOI','PY':'SCP_Year','VL':'SCP_Volume','AB':'SCP_Abstract','PU':'SCP_Publisher',\n",
        "    'PI':'SCI_PI','UT':'SCP_EID','IS':'SCP_Issue','BP':'SCP_Page start','LA':'SCP_Language of Original Document'}\n",
        "for k in c.keys():\n",
        "    print(k,c[k],c1[k],c2[k])\n",
        "    df[k]=(UDEA.apply(lambda row: fill_empty_cells(row,k,c1[k],c2[k]) ,axis=1))[k].apply( lambda s: re.sub('\\n$','',s) if type(s)==str else s )\n",
        "    #break"
      ],
      "execution_count": 0,
      "outputs": [
        {
          "output_type": "stream",
          "text": [
            "SO REVISTA SCI_SO SCP_Source\n",
            "TI TITULO SCI_TI SCP_Title\n",
            "AU Autor(es) SCI_AU SCP_Authors\n",
            "DI DOI SCI_DI SCP_DOI\n",
            "PY ANIO SCI_PY SCP_Year\n",
            "VL VOLUMEN SCI_VL SCP_Volume\n",
            "AB RESUMEN SCI_AB SCP_Abstract\n",
            "PU INSTITUCION_REVISTA SCI_PU SCP_Publisher\n",
            "PI PAIS_REVISTA SCI_PI SCI_PI\n",
            "UT IDARTICULO SCI_UT SCP_EID\n",
            "IS NUMERO SCI_IS SCP_Issue\n",
            "BP PAGINAS SCI_BP SCP_Page start\n",
            "LA IDIOMA SCI_LA SCP_Language of Original Document\n"
          ],
          "name": "stdout"
        }
      ]
    },
    {
      "cell_type": "markdown",
      "metadata": {
        "id": "sMmw4uLKG8cB",
        "colab_type": "text"
      },
      "source": [
        "Check the filled values"
      ]
    },
    {
      "cell_type": "code",
      "metadata": {
        "id": "YJl016-z3ZNH",
        "colab_type": "code",
        "outputId": "7abd633d-fe9e-49d5-e9a8-a53ba7247f3e",
        "colab": {
          "base_uri": "https://localhost:8080/",
          "height": 314
        }
      },
      "source": [
        "for k in c.keys():\n",
        "    print(k, ( df[df[k]!='']  )[k].shape )"
      ],
      "execution_count": 0,
      "outputs": [
        {
          "output_type": "stream",
          "text": [
            "SO (15700,)\n",
            "TI (15699,)\n",
            "AU (15699,)\n",
            "DI (8482,)\n",
            "PY (15700,)\n",
            "VL (14255,)\n",
            "AB (14394,)\n",
            "PU (14341,)\n",
            "PI (11936,)\n",
            "UT (15682,)\n",
            "IS (13255,)\n",
            "BP (14344,)\n",
            "LA (15700,)\n"
          ],
          "name": "stdout"
        },
        {
          "output_type": "stream",
          "text": [
            "/usr/local/lib/python3.6/dist-packages/pandas/core/ops/__init__.py:1115: FutureWarning: elementwise comparison failed; returning scalar instead, but in the future will perform elementwise comparison\n",
            "  result = method(y)\n"
          ],
          "name": "stderr"
        }
      ]
    },
    {
      "cell_type": "code",
      "metadata": {
        "id": "Sz34wF9Z5U9e",
        "colab_type": "code",
        "colab": {}
      },
      "source": [
        "df.to_json( 'GS_format_UDEA.json' )"
      ],
      "execution_count": 0,
      "outputs": []
    },
    {
      "cell_type": "code",
      "metadata": {
        "id": "5OF2-TG683ME",
        "colab_type": "code",
        "colab": {}
      },
      "source": [
        "kk=pd.read_json('GS_format_UDEA.json')"
      ],
      "execution_count": 0,
      "outputs": []
    },
    {
      "cell_type": "code",
      "metadata": {
        "id": "UhXwrZuZ9Ame",
        "colab_type": "code",
        "outputId": "f21572bb-daa8-40f2-b532-a5a282352d96",
        "colab": {
          "base_uri": "https://localhost:8080/",
          "height": 35
        }
      },
      "source": [
        "ls -lh GS_format_UDEA.json"
      ],
      "execution_count": 0,
      "outputs": [
        {
          "output_type": "stream",
          "text": [
            "-rw-r--r-- 1 root root 23M Dec  4 13:24 GS_format_UDEA.json\n"
          ],
          "name": "stdout"
        }
      ]
    },
    {
      "cell_type": "code",
      "metadata": {
        "id": "ku8jUvwjsQyr",
        "colab_type": "code",
        "outputId": "0b70d23e-e354-4185-fb05-cfd5802a9267",
        "colab": {
          "base_uri": "https://localhost:8080/",
          "height": 254
        }
      },
      "source": [
        "(UDEA.apply(lambda row: fillrow(row) ,axis=1))[:20]['VL']"
      ],
      "execution_count": 0,
      "outputs": [
        {
          "output_type": "error",
          "ename": "NameError",
          "evalue": "ignored",
          "traceback": [
            "\u001b[0;31m---------------------------------------------------------------------------\u001b[0m",
            "\u001b[0;31mNameError\u001b[0m                                 Traceback (most recent call last)",
            "\u001b[0;32m<ipython-input-14-350002524e3b>\u001b[0m in \u001b[0;36m<module>\u001b[0;34m()\u001b[0m\n\u001b[0;32m----> 1\u001b[0;31m \u001b[0;34m(\u001b[0m\u001b[0mUDEA\u001b[0m\u001b[0;34m.\u001b[0m\u001b[0mapply\u001b[0m\u001b[0;34m(\u001b[0m\u001b[0;32mlambda\u001b[0m \u001b[0mrow\u001b[0m\u001b[0;34m:\u001b[0m \u001b[0mfillrow\u001b[0m\u001b[0;34m(\u001b[0m\u001b[0mrow\u001b[0m\u001b[0;34m)\u001b[0m \u001b[0;34m,\u001b[0m\u001b[0maxis\u001b[0m\u001b[0;34m=\u001b[0m\u001b[0;36m1\u001b[0m\u001b[0;34m)\u001b[0m\u001b[0;34m)\u001b[0m\u001b[0;34m[\u001b[0m\u001b[0;34m:\u001b[0m\u001b[0;36m20\u001b[0m\u001b[0;34m]\u001b[0m\u001b[0;34m[\u001b[0m\u001b[0;34m'VL'\u001b[0m\u001b[0;34m]\u001b[0m\u001b[0;34m\u001b[0m\u001b[0;34m\u001b[0m\u001b[0m\n\u001b[0m",
            "\u001b[0;32m/usr/local/lib/python3.6/dist-packages/pandas/core/frame.py\u001b[0m in \u001b[0;36mapply\u001b[0;34m(self, func, axis, broadcast, raw, reduce, result_type, args, **kwds)\u001b[0m\n\u001b[1;32m   6926\u001b[0m             \u001b[0mkwds\u001b[0m\u001b[0;34m=\u001b[0m\u001b[0mkwds\u001b[0m\u001b[0;34m,\u001b[0m\u001b[0;34m\u001b[0m\u001b[0;34m\u001b[0m\u001b[0m\n\u001b[1;32m   6927\u001b[0m         )\n\u001b[0;32m-> 6928\u001b[0;31m         \u001b[0;32mreturn\u001b[0m \u001b[0mop\u001b[0m\u001b[0;34m.\u001b[0m\u001b[0mget_result\u001b[0m\u001b[0;34m(\u001b[0m\u001b[0;34m)\u001b[0m\u001b[0;34m\u001b[0m\u001b[0;34m\u001b[0m\u001b[0m\n\u001b[0m\u001b[1;32m   6929\u001b[0m \u001b[0;34m\u001b[0m\u001b[0m\n\u001b[1;32m   6930\u001b[0m     \u001b[0;32mdef\u001b[0m \u001b[0mapplymap\u001b[0m\u001b[0;34m(\u001b[0m\u001b[0mself\u001b[0m\u001b[0;34m,\u001b[0m \u001b[0mfunc\u001b[0m\u001b[0;34m)\u001b[0m\u001b[0;34m:\u001b[0m\u001b[0;34m\u001b[0m\u001b[0;34m\u001b[0m\u001b[0m\n",
            "\u001b[0;32m/usr/local/lib/python3.6/dist-packages/pandas/core/apply.py\u001b[0m in \u001b[0;36mget_result\u001b[0;34m(self)\u001b[0m\n\u001b[1;32m    184\u001b[0m             \u001b[0;32mreturn\u001b[0m \u001b[0mself\u001b[0m\u001b[0;34m.\u001b[0m\u001b[0mapply_raw\u001b[0m\u001b[0;34m(\u001b[0m\u001b[0;34m)\u001b[0m\u001b[0;34m\u001b[0m\u001b[0;34m\u001b[0m\u001b[0m\n\u001b[1;32m    185\u001b[0m \u001b[0;34m\u001b[0m\u001b[0m\n\u001b[0;32m--> 186\u001b[0;31m         \u001b[0;32mreturn\u001b[0m \u001b[0mself\u001b[0m\u001b[0;34m.\u001b[0m\u001b[0mapply_standard\u001b[0m\u001b[0;34m(\u001b[0m\u001b[0;34m)\u001b[0m\u001b[0;34m\u001b[0m\u001b[0;34m\u001b[0m\u001b[0m\n\u001b[0m\u001b[1;32m    187\u001b[0m \u001b[0;34m\u001b[0m\u001b[0m\n\u001b[1;32m    188\u001b[0m     \u001b[0;32mdef\u001b[0m \u001b[0mapply_empty_result\u001b[0m\u001b[0;34m(\u001b[0m\u001b[0mself\u001b[0m\u001b[0;34m)\u001b[0m\u001b[0;34m:\u001b[0m\u001b[0;34m\u001b[0m\u001b[0;34m\u001b[0m\u001b[0m\n",
            "\u001b[0;32m/usr/local/lib/python3.6/dist-packages/pandas/core/apply.py\u001b[0m in \u001b[0;36mapply_standard\u001b[0;34m(self)\u001b[0m\n\u001b[1;32m    290\u001b[0m \u001b[0;34m\u001b[0m\u001b[0m\n\u001b[1;32m    291\u001b[0m         \u001b[0;31m# compute the result using the series generator\u001b[0m\u001b[0;34m\u001b[0m\u001b[0;34m\u001b[0m\u001b[0;34m\u001b[0m\u001b[0m\n\u001b[0;32m--> 292\u001b[0;31m         \u001b[0mself\u001b[0m\u001b[0;34m.\u001b[0m\u001b[0mapply_series_generator\u001b[0m\u001b[0;34m(\u001b[0m\u001b[0;34m)\u001b[0m\u001b[0;34m\u001b[0m\u001b[0;34m\u001b[0m\u001b[0m\n\u001b[0m\u001b[1;32m    293\u001b[0m \u001b[0;34m\u001b[0m\u001b[0m\n\u001b[1;32m    294\u001b[0m         \u001b[0;31m# wrap results\u001b[0m\u001b[0;34m\u001b[0m\u001b[0;34m\u001b[0m\u001b[0;34m\u001b[0m\u001b[0m\n",
            "\u001b[0;32m/usr/local/lib/python3.6/dist-packages/pandas/core/apply.py\u001b[0m in \u001b[0;36mapply_series_generator\u001b[0;34m(self)\u001b[0m\n\u001b[1;32m    319\u001b[0m             \u001b[0;32mtry\u001b[0m\u001b[0;34m:\u001b[0m\u001b[0;34m\u001b[0m\u001b[0;34m\u001b[0m\u001b[0m\n\u001b[1;32m    320\u001b[0m                 \u001b[0;32mfor\u001b[0m \u001b[0mi\u001b[0m\u001b[0;34m,\u001b[0m \u001b[0mv\u001b[0m \u001b[0;32min\u001b[0m \u001b[0menumerate\u001b[0m\u001b[0;34m(\u001b[0m\u001b[0mseries_gen\u001b[0m\u001b[0;34m)\u001b[0m\u001b[0;34m:\u001b[0m\u001b[0;34m\u001b[0m\u001b[0;34m\u001b[0m\u001b[0m\n\u001b[0;32m--> 321\u001b[0;31m                     \u001b[0mresults\u001b[0m\u001b[0;34m[\u001b[0m\u001b[0mi\u001b[0m\u001b[0;34m]\u001b[0m \u001b[0;34m=\u001b[0m \u001b[0mself\u001b[0m\u001b[0;34m.\u001b[0m\u001b[0mf\u001b[0m\u001b[0;34m(\u001b[0m\u001b[0mv\u001b[0m\u001b[0;34m)\u001b[0m\u001b[0;34m\u001b[0m\u001b[0;34m\u001b[0m\u001b[0m\n\u001b[0m\u001b[1;32m    322\u001b[0m                     \u001b[0mkeys\u001b[0m\u001b[0;34m.\u001b[0m\u001b[0mappend\u001b[0m\u001b[0;34m(\u001b[0m\u001b[0mv\u001b[0m\u001b[0;34m.\u001b[0m\u001b[0mname\u001b[0m\u001b[0;34m)\u001b[0m\u001b[0;34m\u001b[0m\u001b[0;34m\u001b[0m\u001b[0m\n\u001b[1;32m    323\u001b[0m             \u001b[0;32mexcept\u001b[0m \u001b[0mException\u001b[0m \u001b[0;32mas\u001b[0m \u001b[0me\u001b[0m\u001b[0;34m:\u001b[0m\u001b[0;34m\u001b[0m\u001b[0;34m\u001b[0m\u001b[0m\n",
            "\u001b[0;32m<ipython-input-14-350002524e3b>\u001b[0m in \u001b[0;36m<lambda>\u001b[0;34m(row)\u001b[0m\n\u001b[0;32m----> 1\u001b[0;31m \u001b[0;34m(\u001b[0m\u001b[0mUDEA\u001b[0m\u001b[0;34m.\u001b[0m\u001b[0mapply\u001b[0m\u001b[0;34m(\u001b[0m\u001b[0;32mlambda\u001b[0m \u001b[0mrow\u001b[0m\u001b[0;34m:\u001b[0m \u001b[0mfillrow\u001b[0m\u001b[0;34m(\u001b[0m\u001b[0mrow\u001b[0m\u001b[0;34m)\u001b[0m \u001b[0;34m,\u001b[0m\u001b[0maxis\u001b[0m\u001b[0;34m=\u001b[0m\u001b[0;36m1\u001b[0m\u001b[0;34m)\u001b[0m\u001b[0;34m)\u001b[0m\u001b[0;34m[\u001b[0m\u001b[0;34m:\u001b[0m\u001b[0;36m20\u001b[0m\u001b[0;34m]\u001b[0m\u001b[0;34m[\u001b[0m\u001b[0;34m'VL'\u001b[0m\u001b[0;34m]\u001b[0m\u001b[0;34m\u001b[0m\u001b[0;34m\u001b[0m\u001b[0m\n\u001b[0m",
            "\u001b[0;31mNameError\u001b[0m: (\"name 'fillrow' is not defined\", 'occurred at index 0')"
          ]
        }
      ]
    },
    {
      "cell_type": "code",
      "metadata": {
        "id": "RXBI8hcu1O5V",
        "colab_type": "code",
        "colab": {}
      },
      "source": [
        "UDEA.loc[4,'VL'],\n",
        "UDEA.loc[4,'SCI_VL']#,UDEA.loc[4,'SCP_Volume']"
      ],
      "execution_count": 0,
      "outputs": []
    },
    {
      "cell_type": "code",
      "metadata": {
        "id": "wvWBSTXG0-fK",
        "colab_type": "code",
        "colab": {}
      },
      "source": [
        "UDEA['SCP_Art. No.']"
      ],
      "execution_count": 0,
      "outputs": []
    },
    {
      "cell_type": "code",
      "metadata": {
        "id": "R0hpOu-f2qsR",
        "colab_type": "code",
        "colab": {}
      },
      "source": [
        "UDEA.loc[4].to_dict()"
      ],
      "execution_count": 0,
      "outputs": []
    },
    {
      "cell_type": "code",
      "metadata": {
        "id": "67XIpTNdsKB4",
        "colab_type": "code",
        "colab": {}
      },
      "source": [
        "\"REVISTA\",\"INSTITUCION_REVISTA\",\"PAIS_REVISTA\",\"IDARTICULO\",\"TITULO\",\"Autor(es)\",\"DOI\",\"ANIO\",\"VOLUMEN\",\"NUMERO\",\"PAGINAS\",\"IDIOMA\n",
        "\",\"RESUMEN\""
      ],
      "execution_count": 0,
      "outputs": []
    },
    {
      "cell_type": "code",
      "metadata": {
        "id": "iFJ3pUHu0BCz",
        "colab_type": "code",
        "colab": {}
      },
      "source": [
        "list(UDEA.columns)"
      ],
      "execution_count": 0,
      "outputs": []
    },
    {
      "cell_type": "code",
      "metadata": {
        "id": "VAhq54eu0DXk",
        "colab_type": "code",
        "colab": {}
      },
      "source": [
        ""
      ],
      "execution_count": 0,
      "outputs": []
    }
  ]
}