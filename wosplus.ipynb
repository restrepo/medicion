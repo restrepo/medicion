{
  "nbformat": 4,
  "nbformat_minor": 0,
  "metadata": {
    "colab": {
      "name": "wosplus.ipynb",
      "version": "0.3.2",
      "provenance": [],
      "collapsed_sections": [],
      "toc_visible": true,
      "include_colab_link": true
    },
    "kernelspec": {
      "name": "python3",
      "display_name": "Python 3"
    }
  },
  "cells": [
    {
      "cell_type": "markdown",
      "metadata": {
        "id": "view-in-github",
        "colab_type": "text"
      },
      "source": [
        "[View in Colaboratory](https://colab.research.google.com/github/restrepo/medicion/blob/master/wosplus.ipynb)"
      ]
    },
    {
      "metadata": {
        "id": "KaOxctHOBVfH",
        "colab_type": "code",
        "colab": {}
      },
      "cell_type": "code",
      "source": [
        "!pip install openpyxl xlrd unidecode python-levenshtein requests_testadapter > /dev/null"
      ],
      "execution_count": 0,
      "outputs": []
    },
    {
      "metadata": {
        "id": "g0kOXtyheeoP",
        "colab_type": "code",
        "colab": {}
      },
      "cell_type": "code",
      "source": [
        "rm -rf WOSplus"
      ],
      "execution_count": 0,
      "outputs": []
    },
    {
      "metadata": {
        "id": "wDzeaqMJcKyp",
        "colab_type": "code",
        "colab": {
          "base_uri": "https://localhost:8080/",
          "height": 145
        },
        "outputId": "11b6c911-dc1d-40a4-90b1-3a3211d488f8"
      },
      "cell_type": "code",
      "source": [
        "! git clone https://github.com/restrepo/WOSplus.git > /dev/null"
      ],
      "execution_count": 3,
      "outputs": [
        {
          "output_type": "stream",
          "text": [
            "Cloning into 'WOSplus'...\n",
            "remote: Enumerating objects: 54, done.\u001b[K\n",
            "remote: Counting objects: 100% (54/54), done.\u001b[K\n",
            "remote: Compressing objects: 100% (44/44), done.\u001b[K\n",
            "remote: Total 137 (delta 30), reused 24 (delta 10), pack-reused 83\u001b[K\n",
            "Receiving objects: 100% (137/137), 114.56 KiB | 22.91 MiB/s, done.\n",
            "Resolving deltas: 100% (55/55), done.\n"
          ],
          "name": "stdout"
        }
      ]
    },
    {
      "metadata": {
        "id": "NALQ8IBYBtNP",
        "colab_type": "code",
        "colab": {}
      },
      "cell_type": "code",
      "source": [
        "mv WOSplus/wosplus/* ."
      ],
      "execution_count": 0,
      "outputs": []
    },
    {
      "metadata": {
        "id": "WB34TeeDCzaH",
        "colab_type": "code",
        "colab": {}
      },
      "cell_type": "code",
      "source": [
        "import wosplus as wp"
      ],
      "execution_count": 0,
      "outputs": []
    },
    {
      "metadata": {
        "id": "trLOhdj6KMLf",
        "colab_type": "code",
        "colab": {
          "base_uri": "https://localhost:8080/",
          "height": 35
        },
        "outputId": "9fd269fa-d4b7-4798-85fc-8a0748a7aab8"
      },
      "cell_type": "code",
      "source": [
        "# Load the Drive helper and mount\n",
        "from google.colab import drive\n",
        "\n",
        "# This will prompt for authorization.\n",
        "drive.mount('/content/drive')"
      ],
      "execution_count": 6,
      "outputs": [
        {
          "output_type": "stream",
          "text": [
            "Mounted at /content/drive\n"
          ],
          "name": "stdout"
        }
      ]
    },
    {
      "metadata": {
        "id": "oBoPORGXX1rq",
        "colab_type": "code",
        "colab": {}
      },
      "cell_type": "code",
      "source": [
        "filetxt=\"drive/Team Drives/Medición Capacidades Vinculación UDEA/06. Cienciometría/1. Descargas/1. Web of Science/1. UDEA/savedrecs.txt\""
      ],
      "execution_count": 0,
      "outputs": []
    },
    {
      "metadata": {
        "id": "Egb9OMoXehvF",
        "colab_type": "code",
        "colab": {
          "base_uri": "https://localhost:8080/",
          "height": 35
        },
        "outputId": "5fdd4b66-6d56-4806-9f7b-27d4785ade91"
      },
      "cell_type": "code",
      "source": [
        "%%writefile drive.cfg\n",
        "[FILES]\n",
        "Sample_WOS.xlsx  = 0BxoOXsn2EUNIMldPUFlwNkdLOTQ\n",
        "Sample_WOS.txt   = 12CtQ_SI2OHrvj_etKpqriGsGoVvv9zkL\n",
        "savedrecs01.txt  = 1snzdsa-RLwYIf8MUffauaD2ZjNr1U2Os"
      ],
      "execution_count": 8,
      "outputs": [
        {
          "output_type": "stream",
          "text": [
            "Overwriting drive.cfg\n"
          ],
          "name": "stdout"
        }
      ]
    },
    {
      "metadata": {
        "id": "oOo-q-yvepag",
        "colab_type": "code",
        "colab": {}
      },
      "cell_type": "code",
      "source": [
        "WOS=wp.wosplus('drive.cfg')"
      ],
      "execution_count": 0,
      "outputs": []
    },
    {
      "metadata": {
        "id": "sDRUsma1e4nd",
        "colab_type": "code",
        "colab": {
          "base_uri": "https://localhost:8080/",
          "height": 206
        },
        "outputId": "abd2e22b-94dc-4687-9629-ef534dd65c5b"
      },
      "cell_type": "code",
      "source": [
        "WOS.load_biblio(filetxt)\n",
        "WOS.WOS[:2]"
      ],
      "execution_count": 10,
      "outputs": [
        {
          "output_type": "execute_result",
          "data": {
            "text/html": [
              "<div>\n",
              "<style scoped>\n",
              "    .dataframe tbody tr th:only-of-type {\n",
              "        vertical-align: middle;\n",
              "    }\n",
              "\n",
              "    .dataframe tbody tr th {\n",
              "        vertical-align: top;\n",
              "    }\n",
              "\n",
              "    .dataframe thead th {\n",
              "        text-align: right;\n",
              "    }\n",
              "</style>\n",
              "<table border=\"1\" class=\"dataframe\">\n",
              "  <thead>\n",
              "    <tr style=\"text-align: right;\">\n",
              "      <th></th>\n",
              "      <th>AB</th>\n",
              "      <th>AF</th>\n",
              "      <th>AR</th>\n",
              "      <th>AU</th>\n",
              "      <th>C1</th>\n",
              "      <th>CR</th>\n",
              "      <th>DA</th>\n",
              "      <th>DE</th>\n",
              "      <th>DI</th>\n",
              "      <th>DT</th>\n",
              "      <th>...</th>\n",
              "      <th>SI</th>\n",
              "      <th>SP</th>\n",
              "      <th>PM</th>\n",
              "      <th>OA</th>\n",
              "      <th>RI</th>\n",
              "      <th>MA</th>\n",
              "      <th>SU</th>\n",
              "      <th>PN</th>\n",
              "      <th>CA</th>\n",
              "      <th>Tipo</th>\n",
              "    </tr>\n",
              "  </thead>\n",
              "  <tbody>\n",
              "    <tr>\n",
              "      <th>0</th>\n",
              "      <td></td>\n",
              "      <td>Burwick, Richard M.\\nVelasquez, Jesus A.\\nVale...</td>\n",
              "      <td></td>\n",
              "      <td>Burwick, RM\\nVelasquez, JA\\nValencia, CM\\nBern...</td>\n",
              "      <td>[Burwick, Richard M.; Tolosa, Jorge E.] Oregon...</td>\n",
              "      <td></td>\n",
              "      <td>2018-02-15\\n</td>\n",
              "      <td></td>\n",
              "      <td></td>\n",
              "      <td>Meeting Abstract\\n</td>\n",
              "      <td>...</td>\n",
              "      <td></td>\n",
              "      <td>Soc Maternal Fetal Med\\n</td>\n",
              "      <td></td>\n",
              "      <td></td>\n",
              "      <td></td>\n",
              "      <td>306\\n</td>\n",
              "      <td>S\\n</td>\n",
              "      <td></td>\n",
              "      <td></td>\n",
              "      <td>WOS</td>\n",
              "    </tr>\n",
              "    <tr>\n",
              "      <th>1</th>\n",
              "      <td></td>\n",
              "      <td>Burwick, Richard M.\\nVelasquez, Jesus A.\\nVale...</td>\n",
              "      <td></td>\n",
              "      <td>Burwick, RM\\nVelasquez, JA\\nValencia, CM\\nSilv...</td>\n",
              "      <td>[Burwick, Richard M.; Rincon, Monica; Tolosa, ...</td>\n",
              "      <td></td>\n",
              "      <td>2018-02-15\\n</td>\n",
              "      <td></td>\n",
              "      <td></td>\n",
              "      <td>Meeting Abstract\\n</td>\n",
              "      <td>...</td>\n",
              "      <td></td>\n",
              "      <td>Soc Maternal Fetal Med\\n</td>\n",
              "      <td></td>\n",
              "      <td></td>\n",
              "      <td></td>\n",
              "      <td>305\\n</td>\n",
              "      <td>S\\n</td>\n",
              "      <td></td>\n",
              "      <td></td>\n",
              "      <td>WOS</td>\n",
              "    </tr>\n",
              "  </tbody>\n",
              "</table>\n",
              "<p>2 rows × 56 columns</p>\n",
              "</div>"
            ],
            "text/plain": [
              "  AB                                                 AF AR  \\\n",
              "0     Burwick, Richard M.\\nVelasquez, Jesus A.\\nVale...      \n",
              "1     Burwick, Richard M.\\nVelasquez, Jesus A.\\nVale...      \n",
              "\n",
              "                                                  AU  \\\n",
              "0  Burwick, RM\\nVelasquez, JA\\nValencia, CM\\nBern...   \n",
              "1  Burwick, RM\\nVelasquez, JA\\nValencia, CM\\nSilv...   \n",
              "\n",
              "                                                  C1 CR            DA DE DI  \\\n",
              "0  [Burwick, Richard M.; Tolosa, Jorge E.] Oregon...     2018-02-15\\n         \n",
              "1  [Burwick, Richard M.; Rincon, Monica; Tolosa, ...     2018-02-15\\n         \n",
              "\n",
              "                   DT ...  SI                        SP PM OA RI     MA   SU  \\\n",
              "0  Meeting Abstract\\n ...      Soc Maternal Fetal Med\\n           306\\n  S\\n   \n",
              "1  Meeting Abstract\\n ...      Soc Maternal Fetal Med\\n           305\\n  S\\n   \n",
              "\n",
              "  PN CA Tipo  \n",
              "0        WOS  \n",
              "1        WOS  \n",
              "\n",
              "[2 rows x 56 columns]"
            ]
          },
          "metadata": {
            "tags": []
          },
          "execution_count": 10
        }
      ]
    },
    {
      "metadata": {
        "id": "6XJ_60EmgSlp",
        "colab_type": "code",
        "colab": {
          "base_uri": "https://localhost:8080/",
          "height": 35
        },
        "outputId": "c924a7ef-2756-4685-e83a-a43afd129dd8"
      },
      "cell_type": "code",
      "source": [
        "filetxt"
      ],
      "execution_count": 29,
      "outputs": [
        {
          "output_type": "execute_result",
          "data": {
            "text/plain": [
              "'drive/Team Drives/Medición Capacidades Vinculación UDEA/06. Cienciometría/1. Descargas/1. Web of Science/1. UDEA/savedrecs.txt'"
            ]
          },
          "metadata": {
            "tags": []
          },
          "execution_count": 29
        }
      ]
    },
    {
      "metadata": {
        "id": "HWurpi65gU4F",
        "colab_type": "code",
        "colab": {}
      },
      "cell_type": "code",
      "source": [
        ""
      ],
      "execution_count": 0,
      "outputs": []
    }
  ]
}